{
 "metadata": {
  "language_info": {
   "codemirror_mode": {
    "name": "ipython",
    "version": 3
   },
   "file_extension": ".py",
   "mimetype": "text/x-python",
   "name": "python",
   "nbconvert_exporter": "python",
   "pygments_lexer": "ipython3",
   "version": "3.8.5-final"
  },
  "orig_nbformat": 2,
  "kernelspec": {
   "name": "python3",
   "display_name": "Python 3",
   "language": "python"
  }
 },
 "nbformat": 4,
 "nbformat_minor": 2,
 "cells": [
  {
   "cell_type": "code",
   "execution_count": 686,
   "metadata": {},
   "outputs": [],
   "source": [
    "from lxml import etree, html\n",
    "from lxml.html.clean import clean_html\n",
    "import pandas as pd\n",
    "from datetime import date, datetime\n",
    "import requests\n",
    "import re\n",
    "import os\n",
    "import shutil\n",
    "from selenium import webdriver"
   ]
  },
  {
   "cell_type": "code",
   "execution_count": 687,
   "metadata": {},
   "outputs": [],
   "source": [
    "from io import StringIO\n",
    "from pdfminer.pdfinterp import PDFResourceManager, PDFPageInterpreter\n",
    "from pdfminer.converter import TextConverter\n",
    "from pdfminer.layout import LAParams\n",
    "from pdfminer.pdfpage import PDFPage\n",
    "\n",
    "def pdf2txt(fname, pages=None):\n",
    "    if not pages:\n",
    "        pagenums = set()\n",
    "    else:\n",
    "        pagenums = set(pages)\n",
    "\n",
    "    output = StringIO()\n",
    "    manager = PDFResourceManager()\n",
    "    converter = TextConverter(manager, output, laparams=LAParams())\n",
    "    interpreter = PDFPageInterpreter(manager, converter)\n",
    "\n",
    "    infile = open(fname, 'rb')\n",
    "    for page in PDFPage.get_pages(infile, pagenums):\n",
    "        interpreter.process_page(page)\n",
    "    infile.close()\n",
    "    converter.close()\n",
    "    text = output.getvalue()\n",
    "    output.close\n",
    "    return text"
   ]
  },
  {
   "source": [
    "# Mueve todos los fichero del directorio de trabajo a otro de archivo"
   ],
   "cell_type": "markdown",
   "metadata": {}
  },
  {
   "cell_type": "code",
   "execution_count": 688,
   "metadata": {},
   "outputs": [],
   "source": [
    "source_dir = './DOCMs'\n",
    "target_dir = './DOCMs_Anteriores'\n",
    "    \n",
    "file_names = os.listdir(source_dir)\n",
    "    \n",
    "for file_name in file_names:\n",
    "    #shutil.move(os.path.join(source_dir, file_name), target_dir)\n",
    "    # Evita que de error si el fichero que se mueve ya existe en dir destino\n",
    "    try:\n",
    "        os.remove(os.path.join(target_dir, file_name))\n",
    "        shutil.move(os.path.join(source_dir, file_name), target_dir)\n",
    "    except OSError:\n",
    "        shutil.move(os.path.join(source_dir, file_name), target_dir)"
   ]
  },
  {
   "source": [
    "# Recoge resumen diario del BOE de hoy"
   ],
   "cell_type": "markdown",
   "metadata": {}
  },
  {
   "cell_type": "code",
   "execution_count": 689,
   "metadata": {},
   "outputs": [
    {
     "output_type": "stream",
     "name": "stdout",
     "text": [
      "Fecha de Hoy = 20210212\ndia = 12\nmes = 02\naño = 2021\n12/02/2021\n"
     ]
    }
   ],
   "source": [
    "\n",
    "today = date.today()\n",
    "\n",
    "# dd/mm/YYYY\n",
    "hoy = today.strftime(\"%Y%m%d\")\n",
    "print(\"Fecha de Hoy =\", hoy)\n",
    "\n",
    "# dd\n",
    "d = today.strftime(\"%d\")\n",
    "print(\"dia =\", d)\n",
    "\n",
    "# mm\n",
    "m = today.strftime(\"%m\")\n",
    "print(\"mes =\", m)\n",
    "\n",
    "# YYYY\n",
    "Y = today.strftime(\"%Y\")\n",
    "print(\"año =\", Y)\n",
    "\n",
    "print(today.strftime(\"%d/%m/%Y\"))"
   ]
  },
  {
   "cell_type": "code",
   "execution_count": 690,
   "metadata": {},
   "outputs": [],
   "source": [
    "URL_HTML_resumen =  \"https://docm.jccm.es/portaldocm/cambiarBoletin.do?fecha=\" + str(hoy)"
   ]
  },
  {
   "cell_type": "code",
   "execution_count": 691,
   "metadata": {},
   "outputs": [
    {
     "output_type": "execute_result",
     "data": {
      "text/plain": [
       "'https://docm.jccm.es/portaldocm/cambiarBoletin.do?fecha=20210212'"
      ]
     },
     "metadata": {},
     "execution_count": 691
    }
   ],
   "source": [
    "URL_HTML_resumen"
   ]
  },
  {
   "cell_type": "code",
   "execution_count": 692,
   "metadata": {},
   "outputs": [],
   "source": [
    "# carga página HTML y genera árbol\n",
    "\n",
    "response = requests.get(URL_HTML_resumen)\n",
    "sumario_HTML = html.fromstring(response.text)\n",
    "\n",
    "## Recoge Nombre Secciones Sumario\n",
    "\n",
    "secciones = sumario_HTML.xpath('//*[@class=\"cabeceraCategoria\"]/text()')\n",
    "secciones = [ re.sub('\\r|\\n|\\t','', seccion) for seccion in secciones ]"
   ]
  },
  {
   "cell_type": "code",
   "execution_count": 693,
   "metadata": {},
   "outputs": [
    {
     "output_type": "execute_result",
     "data": {
      "text/plain": [
       "['I.- DISPOSICIONES GENERALES',\n",
       " 'II.- AUTORIDADES Y PERSONAL',\n",
       " 'III.- OTRAS DISPOSICIONES Y ACTOS',\n",
       " 'IV.- ADMINISTRACIÓN DE JUSTICIA',\n",
       " 'V.- ANUNCIOS']"
      ]
     },
     "metadata": {},
     "execution_count": 693
    }
   ],
   "source": [
    "secciones"
   ]
  },
  {
   "cell_type": "code",
   "execution_count": 694,
   "metadata": {},
   "outputs": [],
   "source": [
    "def save_html(html, path):\n",
    "    with open(path, 'wb') as f:\n",
    "        f.write(html)\n",
    "\n",
    "save_html(response.content, './DOCMs/Resumen-DOCM-' + hoy + '.html')"
   ]
  },
  {
   "cell_type": "code",
   "execution_count": 695,
   "metadata": {},
   "outputs": [
    {
     "output_type": "stream",
     "name": "stdout",
     "text": [
      "I.- DISPOSICIONES GENERALES\nII.- AUTORIDADES Y PERSONAL\nIII.- OTRAS DISPOSICIONES Y ACTOS\nIV.- ADMINISTRACIÓN DE JUSTICIA\nV.- ANUNCIOS\n"
     ]
    }
   ],
   "source": [
    "for seccion in sumario_HTML.xpath('//*[@class=\"cabeceraCategoria\"]'):\n",
    "    nombre_seccion = seccion.xpath('./text()')\n",
    "    nombre_seccion = str(nombre_seccion[0]).strip()\n",
    "    print(nombre_seccion)\n"
   ]
  },
  {
   "cell_type": "code",
   "execution_count": 696,
   "metadata": {},
   "outputs": [],
   "source": [
    "DOCM_sumarios = pd.DataFrame(columns=['item_Title','item_urlHTML','item_urlPDF'])"
   ]
  },
  {
   "cell_type": "code",
   "execution_count": 697,
   "metadata": {},
   "outputs": [
    {
     "output_type": "execute_result",
     "data": {
      "text/plain": [
       "Empty DataFrame\n",
       "Columns: [item_Title, item_urlHTML, item_urlPDF]\n",
       "Index: []"
      ],
      "text/html": "<div>\n<style scoped>\n    .dataframe tbody tr th:only-of-type {\n        vertical-align: middle;\n    }\n\n    .dataframe tbody tr th {\n        vertical-align: top;\n    }\n\n    .dataframe thead th {\n        text-align: right;\n    }\n</style>\n<table border=\"1\" class=\"dataframe\">\n  <thead>\n    <tr style=\"text-align: right;\">\n      <th></th>\n      <th>item_Title</th>\n      <th>item_urlHTML</th>\n      <th>item_urlPDF</th>\n    </tr>\n  </thead>\n  <tbody>\n  </tbody>\n</table>\n</div>"
     },
     "metadata": {},
     "execution_count": 697
    }
   ],
   "source": [
    "DOCM_sumarios"
   ]
  },
  {
   "cell_type": "code",
   "execution_count": 698,
   "metadata": {
    "tags": []
   },
   "outputs": [],
   "source": [
    "lista = []\n",
    "for sumario in sumario_HTML.xpath('//*[@class=\"sumario\"]'):\n",
    "    lista.append(sumario.text_content().strip())\n",
    "\n",
    "DOCM_sumarios['item_Title'] = lista\n",
    "\n",
    "lista = []   \n",
    "for link_HTML in sumario_HTML.xpath('//*[@title=\"Ver los datos detallados del documento\"]'):\n",
    "    link = link_HTML.xpath('./@href')\n",
    "    #print(link)\n",
    "    lista.append('https://docm.jccm.es/portaldocm' + str(link)[3:-2])\n",
    "\n",
    "DOCM_sumarios['item_urlHTML'] = lista\n",
    "\n",
    "lista = []   \n",
    "for link_PDF in sumario_HTML.xpath('//div/a[@class=\"new-window\"]'):\n",
    "    link = link_PDF.xpath('./@href')\n",
    "    #print(link)\n",
    "    lista.append('https://docm.jccm.es/portaldocm' + str(link)[3:-2])\n",
    "\n",
    "DOCM_sumarios['item_urlPDF'] = lista"
   ]
  },
  {
   "cell_type": "code",
   "execution_count": 699,
   "metadata": {},
   "outputs": [
    {
     "output_type": "execute_result",
     "data": {
      "text/plain": [
       "'Sanidad. Procedimiento Ordinario 119/2021. [NID 2021/1372]'"
      ]
     },
     "metadata": {},
     "execution_count": 699
    }
   ],
   "source": [
    "DOCM_sumarios['item_Title'][0]"
   ]
  },
  {
   "cell_type": "code",
   "execution_count": 700,
   "metadata": {
    "tags": []
   },
   "outputs": [],
   "source": [
    "# Consolida las columnas Referencias_palabra y Referencias_texto en una única frase\n",
    "# for i, row in DOCM_sumarios.iterrows():\n",
    "#     # carga página HTML y genera árbol\n",
    "#     response = requests.get(row['item_urlHTML'])\n",
    "#     sumario_HTML = html.fromstring(response.text)\n",
    "#     HTML = html.tostring(sumario_HTML)\n",
    "# \n",
    "#     #NID = sumario_HTML.xpath('//table[@class=\"tablaDetalle\"]/tbody/tr[2]/td[2]/text()')\n",
    "#     print(response.text)\n",
    "\n",
    "\n",
    "\n"
   ]
  },
  {
   "cell_type": "code",
   "execution_count": 701,
   "metadata": {},
   "outputs": [
    {
     "output_type": "stream",
     "name": "stdout",
     "text": [
      "https://docm.jccm.es/portaldocm/detalleDocumento.do?idDisposicion=1612960518482440526\n"
     ]
    }
   ],
   "source": [
    "print(DOCM_sumarios['item_urlHTML'][0])"
   ]
  },
  {
   "cell_type": "code",
   "execution_count": 702,
   "metadata": {},
   "outputs": [],
   "source": [
    "# response = requests.get(DOCM_sumarios['item_urlHTML'][0])\n",
    "# \n",
    "# sumario_HTML = html.fromstring(response.text)\n",
    "# print(response.text)"
   ]
  },
  {
   "cell_type": "code",
   "execution_count": 703,
   "metadata": {
    "tags": []
   },
   "outputs": [
    {
     "output_type": "stream",
     "name": "stdout",
     "text": [
      "29/2021 5362 2021/1372 Edicto Tribunal Superior de Justicia de Castilla-La Mancha\n\n"
     ]
    }
   ],
   "source": [
    "### Necesita libreria Selenium para renderizar JS script\n",
    "\n",
    "options = webdriver.ChromeOptions()\n",
    "options.headless = True\n",
    "driver = webdriver.Chrome(options=options)\n",
    "\n",
    "driver.get(DOCM_sumarios['item_urlHTML'][0])\n",
    "#print(driver.page_source)\n",
    "response = driver.page_source\n",
    "\n",
    "sumario_HTML = html.fromstring(response)\n",
    "numero_diario = sumario_HTML.xpath('//table[@class=\"tablaDetalle\"]/tbody/tr[1]/td[2]/text()')\n",
    "numero_pagina = sumario_HTML.xpath('//table[@class=\"tablaDetalle\"]/tbody/tr[3]/td[4]/text()')\n",
    "NID = sumario_HTML.xpath('//table[@class=\"tablaDetalle\"]/tbody/tr[2]/td[2]/text()')\n",
    "rango = sumario_HTML.xpath('//table[@class=\"tablaDetalle\"]/tbody/tr[5]/td[2]/text()')\n",
    "organo_emisor = sumario_HTML.xpath('//table[@class=\"tablaDetalle\"]/tbody/tr[7]/td[2]/text()')\n",
    "\n",
    "print(numero_diario[0].strip(), numero_pagina[0].strip(), NID[0].strip(), rango[0].strip(), organo_emisor[0].strip())\n",
    "print()\n",
    "\n",
    "driver.quit()"
   ]
  },
  {
   "cell_type": "code",
   "execution_count": 742,
   "metadata": {
    "tags": []
   },
   "outputs": [],
   "source": [
    "### Recoge información de página de detalle con Selenium\n",
    "### es necesario ya que la página se genera con un JS y\n",
    "### hay que renderizarla con un headless web browser\n",
    "\n",
    "options = webdriver.ChromeOptions()\n",
    "options.headless = True\n",
    "driver = webdriver.Chrome(options=options)\n",
    "\n",
    "DOCM_sumarios['NID'] = ''\n",
    "DOCM_sumarios['numero_diario'] = ''\n",
    "DOCM_sumarios['numero_pagina'] = ''\n",
    "DOCM_sumarios['rango'] = ''\n",
    "DOCM_sumarios['organo_emisor'] = ''\n",
    "DOCM_sumarios['Fecha_publicacion'] = ''\n",
    "\n",
    "for i, row in DOCM_sumarios.iterrows():\n",
    "    # carga página HTML y genera árbol\n",
    "    driver.get(row['item_urlHTML'])\n",
    "    #print(driver.page_source)\n",
    "    response = driver.page_source\n",
    "    \n",
    "    sumario_HTML = html.fromstring(response)\n",
    "    numero_diario = sumario_HTML.xpath('//table[@class=\"tablaDetalle\"]/tbody/tr[1]/td[2]/text()')\n",
    "    numero_pagina = sumario_HTML.xpath('//table[@class=\"tablaDetalle\"]/tbody/tr[3]/td[4]/text()')\n",
    "    NID = sumario_HTML.xpath('//table[@class=\"tablaDetalle\"]/tbody/tr[2]/td[2]/text()')\n",
    "    rango = sumario_HTML.xpath('//table[@class=\"tablaDetalle\"]/tbody/tr[5]/td[2]/text()')\n",
    "    organo_emisor = sumario_HTML.xpath('//table[@class=\"tablaDetalle\"]/tbody/tr[7]/td[2]/text()')\n",
    "    item_itle = sumario_HTML.xpath('//table[@class=\"tablaDetalle\"]/tbody/tr[9]/td[2]/text()')\n",
    "\n",
    "    #print(numero_diario[0].strip(), numero_pagina[0].strip(), NID[0].strip(), rango[0].strip(), organo_emisor[0].strip())\n",
    "\n",
    "    DOCM_sumarios['NID'][i] = NID[0].strip()\n",
    "    DOCM_sumarios['numero_diario'][i] = numero_diario[0].strip()\n",
    "    DOCM_sumarios['numero_pagina'][i] = numero_pagina[0].strip()\n",
    "    DOCM_sumarios['rango'][i] = rango[0].strip()\n",
    "    DOCM_sumarios['organo_emisor'][i] = organo_emisor[0].strip()\n",
    "\n",
    "    DOCM_sumarios['Fecha_publicacion'][i] = datetime.strptime(str(today),\"%Y-%m-%d\").date()\n",
    "\n",
    "driver.quit()"
   ]
  },
  {
   "cell_type": "code",
   "execution_count": 743,
   "metadata": {},
   "outputs": [
    {
     "output_type": "execute_result",
     "data": {
      "text/plain": [
       "                                           item_Title  \\\n",
       "0   Sanidad. Procedimiento Ordinario 119/2021. [NI...   \n",
       "1   Régimen Local. Resolución de 05/02/2021, de la...   \n",
       "2   Función Pública. Resolución de 02/02/2021, de ...   \n",
       "3   Formación. Resolución de 05/02/2021, de la Dir...   \n",
       "4   Convenios. Resolución de 05/02/2021, de la Sec...   \n",
       "..                                                ...   \n",
       "63  Anuncio de 01/02/2021, del Ayuntamiento de Poz...   \n",
       "64  Anuncio de 29/01/2021, del Ayuntamiento de La ...   \n",
       "65  Anuncio de 05/02/2021, de la Empresa Pública G...   \n",
       "66  Anuncio de 05/02/2021, de la Empresa Pública G...   \n",
       "67  Anuncio de 05/02/2021, de la Empresa Pública G...   \n",
       "\n",
       "                                         item_urlHTML  \\\n",
       "0   https://docm.jccm.es/portaldocm/detalleDocumen...   \n",
       "1   https://docm.jccm.es/portaldocm/detalleDocumen...   \n",
       "2   https://docm.jccm.es/portaldocm/detalleDocumen...   \n",
       "3   https://docm.jccm.es/portaldocm/detalleDocumen...   \n",
       "4   https://docm.jccm.es/portaldocm/detalleDocumen...   \n",
       "..                                                ...   \n",
       "63  https://docm.jccm.es/portaldocm/detalleDocumen...   \n",
       "64  https://docm.jccm.es/portaldocm/detalleDocumen...   \n",
       "65  https://docm.jccm.es/portaldocm/detalleDocumen...   \n",
       "66  https://docm.jccm.es/portaldocm/detalleDocumen...   \n",
       "67  https://docm.jccm.es/portaldocm/detalleDocumen...   \n",
       "\n",
       "                                          item_urlPDF        NID  \\\n",
       "0   https://docm.jccm.es/portaldocm/descargarArchi...  2021/1372   \n",
       "1   https://docm.jccm.es/portaldocm/descargarArchi...  2021/1231   \n",
       "2   https://docm.jccm.es/portaldocm/descargarArchi...  2021/1109   \n",
       "3   https://docm.jccm.es/portaldocm/descargarArchi...  2021/1248   \n",
       "4   https://docm.jccm.es/portaldocm/descargarArchi...  2021/1250   \n",
       "..                                                ...        ...   \n",
       "63  https://docm.jccm.es/portaldocm/descargarArchi...  2021/1122   \n",
       "64  https://docm.jccm.es/portaldocm/descargarArchi...  2021/1154   \n",
       "65  https://docm.jccm.es/portaldocm/descargarArchi...  2021/1202   \n",
       "66  https://docm.jccm.es/portaldocm/descargarArchi...  2021/1203   \n",
       "67  https://docm.jccm.es/portaldocm/descargarArchi...  2021/1205   \n",
       "\n",
       "   numero_diario numero_pagina       rango  \\\n",
       "0        29/2021          5362      Edicto   \n",
       "1        29/2021          5364  Resolución   \n",
       "2        29/2021          5365  Resolución   \n",
       "3        29/2021          5380  Resolución   \n",
       "4        29/2021          5504  Resolución   \n",
       "..           ...           ...         ...   \n",
       "63       29/2021          5595     Anuncio   \n",
       "64       29/2021          5596     Anuncio   \n",
       "65       29/2021          5597     Anuncio   \n",
       "66       29/2021          5598     Anuncio   \n",
       "67       29/2021          5599     Anuncio   \n",
       "\n",
       "                                        organo_emisor  \\\n",
       "0   Tribunal Superior de Justicia de Castilla-La M...   \n",
       "1   Viceconsejería de Administración Local y Coord...   \n",
       "2             Dirección General de la Función Pública   \n",
       "3             Dirección General de la Función Pública   \n",
       "4                Secretaría General de la Presidencia   \n",
       "..                                                ...   \n",
       "63               Ayuntamiento de Pozohondo (Albacete)   \n",
       "64  Ayuntamiento de La Villa de Don Fadrique (Toledo)   \n",
       "65  Empresa Pública Gestión Ambiental de Castilla-...   \n",
       "66  Empresa Pública Gestión Ambiental de Castilla-...   \n",
       "67  Empresa Pública Gestión Ambiental de Castilla-...   \n",
       "\n",
       "                                                 Tags  \\\n",
       "0   [Resolución de 28 de enero de 2021, Resolución...   \n",
       "1   [Ley 7/1985, Real Decreto 128/2018, Real Decre...   \n",
       "2   [Ley 40/2015, Ley 31/1995, Ley 12/2010, Real D...   \n",
       "3   [Ley 4/2011, Ley 40/2015, Ley 39/2015, Ley 40/...   \n",
       "4   [Ley 19/2013, Ley 19/2013, Ley 40/2015, Ley 40...   \n",
       "..                                                ...   \n",
       "63                                                 []   \n",
       "64                                                 []   \n",
       "65                                                 []   \n",
       "66                                                 []   \n",
       "67                                                 []   \n",
       "\n",
       "                                   Match_ASECORP_BBDD Fecha_publicacion  \n",
       "0                                                  []        2021-02-12  \n",
       "1                                                  []        2021-02-12  \n",
       "2   [LEY 31/1995 ESP, RD 171/2004 ESP, RDG 2/2015 ...        2021-02-12  \n",
       "3                  [LEY 9/2017 ESP, RD 1771/1994 ESP]        2021-02-12  \n",
       "4                                                  []        2021-02-12  \n",
       "..                                                ...               ...  \n",
       "63                                                 []        2021-02-12  \n",
       "64                                                 []        2021-02-12  \n",
       "65                                                 []        2021-02-12  \n",
       "66                                                 []        2021-02-12  \n",
       "67                                                 []        2021-02-12  \n",
       "\n",
       "[68 rows x 11 columns]"
      ],
      "text/html": "<div>\n<style scoped>\n    .dataframe tbody tr th:only-of-type {\n        vertical-align: middle;\n    }\n\n    .dataframe tbody tr th {\n        vertical-align: top;\n    }\n\n    .dataframe thead th {\n        text-align: right;\n    }\n</style>\n<table border=\"1\" class=\"dataframe\">\n  <thead>\n    <tr style=\"text-align: right;\">\n      <th></th>\n      <th>item_Title</th>\n      <th>item_urlHTML</th>\n      <th>item_urlPDF</th>\n      <th>NID</th>\n      <th>numero_diario</th>\n      <th>numero_pagina</th>\n      <th>rango</th>\n      <th>organo_emisor</th>\n      <th>Tags</th>\n      <th>Match_ASECORP_BBDD</th>\n      <th>Fecha_publicacion</th>\n    </tr>\n  </thead>\n  <tbody>\n    <tr>\n      <th>0</th>\n      <td>Sanidad. Procedimiento Ordinario 119/2021. [NI...</td>\n      <td>https://docm.jccm.es/portaldocm/detalleDocumen...</td>\n      <td>https://docm.jccm.es/portaldocm/descargarArchi...</td>\n      <td>2021/1372</td>\n      <td>29/2021</td>\n      <td>5362</td>\n      <td>Edicto</td>\n      <td>Tribunal Superior de Justicia de Castilla-La M...</td>\n      <td>[Resolución de 28 de enero de 2021, Resolución...</td>\n      <td>[]</td>\n      <td>2021-02-12</td>\n    </tr>\n    <tr>\n      <th>1</th>\n      <td>Régimen Local. Resolución de 05/02/2021, de la...</td>\n      <td>https://docm.jccm.es/portaldocm/detalleDocumen...</td>\n      <td>https://docm.jccm.es/portaldocm/descargarArchi...</td>\n      <td>2021/1231</td>\n      <td>29/2021</td>\n      <td>5364</td>\n      <td>Resolución</td>\n      <td>Viceconsejería de Administración Local y Coord...</td>\n      <td>[Ley 7/1985, Real Decreto 128/2018, Real Decre...</td>\n      <td>[]</td>\n      <td>2021-02-12</td>\n    </tr>\n    <tr>\n      <th>2</th>\n      <td>Función Pública. Resolución de 02/02/2021, de ...</td>\n      <td>https://docm.jccm.es/portaldocm/detalleDocumen...</td>\n      <td>https://docm.jccm.es/portaldocm/descargarArchi...</td>\n      <td>2021/1109</td>\n      <td>29/2021</td>\n      <td>5365</td>\n      <td>Resolución</td>\n      <td>Dirección General de la Función Pública</td>\n      <td>[Ley 40/2015, Ley 31/1995, Ley 12/2010, Real D...</td>\n      <td>[LEY 31/1995 ESP, RD 171/2004 ESP, RDG 2/2015 ...</td>\n      <td>2021-02-12</td>\n    </tr>\n    <tr>\n      <th>3</th>\n      <td>Formación. Resolución de 05/02/2021, de la Dir...</td>\n      <td>https://docm.jccm.es/portaldocm/detalleDocumen...</td>\n      <td>https://docm.jccm.es/portaldocm/descargarArchi...</td>\n      <td>2021/1248</td>\n      <td>29/2021</td>\n      <td>5380</td>\n      <td>Resolución</td>\n      <td>Dirección General de la Función Pública</td>\n      <td>[Ley 4/2011, Ley 40/2015, Ley 39/2015, Ley 40/...</td>\n      <td>[LEY 9/2017 ESP, RD 1771/1994 ESP]</td>\n      <td>2021-02-12</td>\n    </tr>\n    <tr>\n      <th>4</th>\n      <td>Convenios. Resolución de 05/02/2021, de la Sec...</td>\n      <td>https://docm.jccm.es/portaldocm/detalleDocumen...</td>\n      <td>https://docm.jccm.es/portaldocm/descargarArchi...</td>\n      <td>2021/1250</td>\n      <td>29/2021</td>\n      <td>5504</td>\n      <td>Resolución</td>\n      <td>Secretaría General de la Presidencia</td>\n      <td>[Ley 19/2013, Ley 19/2013, Ley 40/2015, Ley 40...</td>\n      <td>[]</td>\n      <td>2021-02-12</td>\n    </tr>\n    <tr>\n      <th>...</th>\n      <td>...</td>\n      <td>...</td>\n      <td>...</td>\n      <td>...</td>\n      <td>...</td>\n      <td>...</td>\n      <td>...</td>\n      <td>...</td>\n      <td>...</td>\n      <td>...</td>\n      <td>...</td>\n    </tr>\n    <tr>\n      <th>63</th>\n      <td>Anuncio de 01/02/2021, del Ayuntamiento de Poz...</td>\n      <td>https://docm.jccm.es/portaldocm/detalleDocumen...</td>\n      <td>https://docm.jccm.es/portaldocm/descargarArchi...</td>\n      <td>2021/1122</td>\n      <td>29/2021</td>\n      <td>5595</td>\n      <td>Anuncio</td>\n      <td>Ayuntamiento de Pozohondo (Albacete)</td>\n      <td>[]</td>\n      <td>[]</td>\n      <td>2021-02-12</td>\n    </tr>\n    <tr>\n      <th>64</th>\n      <td>Anuncio de 29/01/2021, del Ayuntamiento de La ...</td>\n      <td>https://docm.jccm.es/portaldocm/detalleDocumen...</td>\n      <td>https://docm.jccm.es/portaldocm/descargarArchi...</td>\n      <td>2021/1154</td>\n      <td>29/2021</td>\n      <td>5596</td>\n      <td>Anuncio</td>\n      <td>Ayuntamiento de La Villa de Don Fadrique (Toledo)</td>\n      <td>[]</td>\n      <td>[]</td>\n      <td>2021-02-12</td>\n    </tr>\n    <tr>\n      <th>65</th>\n      <td>Anuncio de 05/02/2021, de la Empresa Pública G...</td>\n      <td>https://docm.jccm.es/portaldocm/detalleDocumen...</td>\n      <td>https://docm.jccm.es/portaldocm/descargarArchi...</td>\n      <td>2021/1202</td>\n      <td>29/2021</td>\n      <td>5597</td>\n      <td>Anuncio</td>\n      <td>Empresa Pública Gestión Ambiental de Castilla-...</td>\n      <td>[]</td>\n      <td>[]</td>\n      <td>2021-02-12</td>\n    </tr>\n    <tr>\n      <th>66</th>\n      <td>Anuncio de 05/02/2021, de la Empresa Pública G...</td>\n      <td>https://docm.jccm.es/portaldocm/detalleDocumen...</td>\n      <td>https://docm.jccm.es/portaldocm/descargarArchi...</td>\n      <td>2021/1203</td>\n      <td>29/2021</td>\n      <td>5598</td>\n      <td>Anuncio</td>\n      <td>Empresa Pública Gestión Ambiental de Castilla-...</td>\n      <td>[]</td>\n      <td>[]</td>\n      <td>2021-02-12</td>\n    </tr>\n    <tr>\n      <th>67</th>\n      <td>Anuncio de 05/02/2021, de la Empresa Pública G...</td>\n      <td>https://docm.jccm.es/portaldocm/detalleDocumen...</td>\n      <td>https://docm.jccm.es/portaldocm/descargarArchi...</td>\n      <td>2021/1205</td>\n      <td>29/2021</td>\n      <td>5599</td>\n      <td>Anuncio</td>\n      <td>Empresa Pública Gestión Ambiental de Castilla-...</td>\n      <td>[]</td>\n      <td>[]</td>\n      <td>2021-02-12</td>\n    </tr>\n  </tbody>\n</table>\n<p>68 rows × 11 columns</p>\n</div>"
     },
     "metadata": {},
     "execution_count": 743
    }
   ],
   "source": [
    "DOCM_sumarios"
   ]
  },
  {
   "source": [
    "# Salva PDFs y Genera DF con datos Análisis de cada PDF"
   ],
   "cell_type": "markdown",
   "metadata": {}
  },
  {
   "cell_type": "code",
   "execution_count": 706,
   "metadata": {},
   "outputs": [],
   "source": [
    "# Crea nueva columna vacía de tipo lista en tabla_analisis\n",
    "#DOCM_sumarios['Referencias_completas'] = [[] for i in range(len(tabla_analisis))]\n",
    "DOCM_sumarios['Tags'] = [[] for i in range(len(DOCM_sumarios))]\n",
    "DOCM_sumarios['Match_ASECORP_BBDD'] = [[] for i in range(len(DOCM_sumarios))]\n"
   ]
  },
  {
   "cell_type": "code",
   "execution_count": 707,
   "metadata": {},
   "outputs": [],
   "source": [
    "# Define expresiones REGEX para búsqueda de leyes, decretos, etc. referenciadas anteriormente\n",
    "pattern = ['Ley [0-9]+\\/[0-9]+','Real Decreto [0-9]+\\/[0-9]+','Real Decreto Legislativo [0-9]+\\/[0-9]+','Real Decreto-ley [0-9]+\\/[0-9]+','Orden [A-Z]+\\/[0-9]+\\/[0-9]+','Orden Circular [0-9]+\\/[0-9]+','Reglamento \\(UE\\) [0-9]+\\/[0-9]+','Sentencia de [0-9]+ de [a-z]+ de [0-9]+','Sentencia [0-9]+\\/[0-9]+','Orden de [0-9]+ de [a-z]+ de [0-9]+', 'Resolución de [0-9]+ de [a-z]+ de [0-9]+','Resolución [a-z]+\\/[0-9]+\\/[0-9]+', 'Nota de Servicio [0-9]+\\/[0-9]+', 'Acuerdo multilateral M\\-[0-9]+', 'Circular [0-9]+\\/[0-9]+']"
   ]
  },
  {
   "cell_type": "code",
   "execution_count": 708,
   "metadata": {},
   "outputs": [
    {
     "output_type": "stream",
     "name": "stdout",
     "text": [
      "['Resolución de 28 de enero de 2021', 'Resolución de 06 de febrero de 2021']\n",
      "['Ley 7/1985', 'Real Decreto 128/2018', 'Real Decreto 128/2018']\n",
      "['Ley 40/2015', 'Ley 31/1995', 'Ley 12/2010', 'Real Decreto Legislativo 5/2015', 'Ley 4/2011', 'Real Decreto Legislativo 2/2015', 'Ley 4/2011', 'Ley 12/2010', 'Ley 12/2010', 'Ley 12/2010', 'Ley 31/1995', 'Ley 12/2010', 'Ley 31/1995', 'Ley 40/2015', 'Ley 40/2015']\n",
      "['Ley 4/2011', 'Ley 40/2015', 'Ley 39/2015', 'Ley 40/2015', 'Ley 39/2015', 'Ley 40/2015', 'Ley 40/2015', 'Ley 40/2015', 'Ley 53/84', 'Ley 9/2017', 'Ley 9/2017', 'Ley 9/2017', 'Ley 9/2017', 'ley 39/2015', 'ley 40/2015', 'Ley 40/2015', 'Ley 39/2015', 'ley 39/2015', 'ley 40/2015', 'Ley 40/2015', 'Ley 39/2015', 'Ley 39/2015', 'Ley 40/2015', 'Ley 40/2015', 'Ley 39/2015', 'Ley 40/2015', 'Ley 39/2015', 'Ley 40/2015', 'Ley 39/2015', 'Ley 39/2015', 'Ley 30/1992', 'Ley 8/2019']\n",
      "['Ley 19/2013', 'Ley 19/2013', 'Ley 40/2015', 'Ley 40/2015', 'Ley 19/2013', 'Real Decreto 922/2020', 'Ley 11/2003', 'Ley 19/2013', 'Ley 40/2015']\n",
      "['Ley 39/2015', 'Ley 39/2015', 'Ley 39/2015', 'Ley 29/1998']\n",
      "['Ley 39/2015', 'Ley 39/2015']\n",
      "['Ley 39/2015', 'Ley 39/2015']\n",
      "['Ley 39/2015', 'Ley 39/2015']\n",
      "['Ley 39/2015', 'Ley 39/2015']\n",
      "['Ley 39/2015', 'Ley 39/2015']\n",
      "['Ley 39/2015', 'Ley 39/2015']\n",
      "['Ley 39/2015']\n",
      "['Ley 39/2015']\n",
      "['Ley 39/2015']\n",
      "['Ley 39/2015']\n",
      "['Ley 39/2015']\n",
      "['Ley 39/2015']\n",
      "['Ley 39/2015']\n",
      "['Ley 39/2015']\n",
      "['Ley 39/2015']\n",
      "['Ley 39/2015']\n",
      "['Ley 39/2015']\n",
      "['Ley 39/2015']\n",
      "['Ley 39/2015']\n",
      "['Ley 39/2015']\n",
      "['Ley 39/2015']\n",
      "['Ley 39/2015']\n",
      "['Ley 39/2015']\n",
      "['Ley 39/2015', 'Ley 29/1998']\n",
      "['Ley 39/2015', 'Ley 29/1998']\n",
      "['Ley 39/2015', 'Ley 39/2015']\n",
      "['Ley 39/2015', 'Ley 39/2015']\n",
      "['Ley 39/2015', 'Ley 39/2015']\n",
      "['Ley 39/2015', 'Ley 39/2015']\n",
      "['Ley 39/2015', 'Ley 39/2015']\n",
      "['Ley 39/2015', 'Ley 39/2015']\n",
      "['Ley 39/2015', 'Ley 39/2015']\n",
      "['Ley 39/2015', 'Ley 39/2015']\n",
      "['Ley 39/2015']\n",
      "['Resolución de 18 de enero de 2021']\n",
      "['Ley 40/2015', 'Ley 7/1985', 'Ley 22/2011', 'Ley 7/1985', 'Ley 22/2011', 'Ley 47/2003']\n",
      "['Ley 3/1995', 'Ley 9/2003', 'Real Decreto 1676/84', 'Ley 39/2015', 'Ley 40/2015', 'Ley 6/1985', 'Ley 3/1995', 'Ley 9/2003', 'Ley 39/2015', 'Ley 39/2015']\n",
      "['Ley 3/1995', 'Ley 9/2003', 'Real Decreto 1676/84', 'Ley 39/2015', 'Ley 40/2015', 'Ley 6/1985', 'Ley 3/1995', 'Ley 9/2003', 'Ley 39/2015', 'Ley 39/2015']\n",
      "['Real Decreto Legislativo 1/2001', 'Ley 8/1990', 'Ley 8/1990', 'Ley 8/1990', 'Ley 8/1990', 'Ley 8/1990', 'Ley 11/2003', 'Ley 39/2015', 'Ley 8/1990']\n",
      "['Ley 15/2018', 'Real Decreto-ley 15/2018', 'Ley 24/2013', 'Real Decreto-ley 15/2018', 'Ley 15/2018', 'Ley 15/2018', 'Ley 39/2015', 'Ley 39/2015']\n",
      "['Ley 21/2013', 'Ley 4/2007', 'Ley 21/2013', 'Ley 4/2007', 'Ley 21/2013', 'Ley 9/2012', 'Ley 21/2013', 'Ley 21/2013', 'Ley 21/2013', 'Ley 9/1999', 'Ley 9/1999', 'Real Decreto Legislativo 1/2001', 'Ley 22/2011', 'Real Decreto 833/1998', 'Real Decreto 952/1997', 'Real Decreto 105/2008', 'Real Decreto 110/2015', 'Ley 2/1998', 'Ley 9/90', 'Ley 34/2007', 'Real Decreto 212/2002', 'Real Decreto 524/2006', 'Ley 37/2003', 'Real Decreto 1890/2008', 'Ley 4/2013', 'Ley 4/2013', 'Ley 31/1995', 'Real Decreto 289/2003', 'Ley 21/2013', 'Ley 21/2013', 'Ley 2/2020', 'Ley 21/2013', 'Ley 4/2007', 'Ley 21/2013', 'Ley 21/2013']\n",
      "['Ley 24/2013', 'Ley 21/1992', 'Ley 24/2013', 'Ley 39/2015', 'Ley 39/2015']\n",
      "['Ley 3/2004']\n",
      "[]\n",
      "[]\n",
      "['Ley 39/2015']\n",
      "['Ley 2/2020']\n",
      "['Ley 2/2020']\n",
      "['Ley 2/2020']\n",
      "['Ley 2/2020']\n",
      "['Ley 2/2020']\n",
      "['Ley 24/2013']\n",
      "['Ley 39/2015']\n",
      "['Ley 39/2015', 'Real Decreto 1093/1997', 'Ley 39/2015']\n",
      "['Ley 2/2020', 'Resolución de 14 de diciembre de 2020']\n",
      "[]\n",
      "[]\n",
      "[]\n",
      "[]\n",
      "[]\n",
      "[]\n",
      "[]\n"
     ]
    }
   ],
   "source": [
    "for i, row in DOCM_sumarios.iterrows():\n",
    "    r = requests.get(row['item_urlPDF'])\n",
    "\n",
    "    # Salva PDFs de enlaces a items\n",
    "    filename = row['NID'].replace('/','-' )\n",
    "    f = './DOCMs/' + 'DOCM_NID_' + filename + '.pdf'\n",
    "    save_html(r.content, f)\n",
    "\n",
    "    # Extrae texto de PDFs\n",
    "    pdf_contents = pdf2txt(f)\n",
    "    #print(pdf_contents)\n",
    "\n",
    "    # Busca expresiones REGX coincidentes con Patrones definidos\n",
    "    DOCM_sumarios['Tags'][i] = re.findall('|'.join(pattern), str(pdf_contents), flags=re.IGNORECASE)\n",
    "    print(DOCM_sumarios['Tags'][i])"
   ]
  },
  {
   "cell_type": "code",
   "execution_count": 709,
   "metadata": {},
   "outputs": [
    {
     "output_type": "execute_result",
     "data": {
      "text/plain": [
       "[None,\n",
       " None,\n",
       " None,\n",
       " None,\n",
       " None,\n",
       " None,\n",
       " None,\n",
       " None,\n",
       " None,\n",
       " None,\n",
       " None,\n",
       " None,\n",
       " None,\n",
       " None,\n",
       " None,\n",
       " None,\n",
       " None,\n",
       " None,\n",
       " None,\n",
       " None,\n",
       " None,\n",
       " None,\n",
       " None,\n",
       " None,\n",
       " None,\n",
       " None,\n",
       " None,\n",
       " None,\n",
       " None,\n",
       " None,\n",
       " None,\n",
       " None,\n",
       " None,\n",
       " None,\n",
       " None,\n",
       " None,\n",
       " None,\n",
       " None,\n",
       " None,\n",
       " None,\n",
       " None,\n",
       " None,\n",
       " None,\n",
       " None,\n",
       " None,\n",
       " None,\n",
       " None,\n",
       " None,\n",
       " None,\n",
       " None,\n",
       " None,\n",
       " None,\n",
       " None,\n",
       " None,\n",
       " None,\n",
       " None,\n",
       " None,\n",
       " None,\n",
       " None,\n",
       " None,\n",
       " None,\n",
       " None,\n",
       " None,\n",
       " None,\n",
       " None,\n",
       " None,\n",
       " None,\n",
       " None,\n",
       " None,\n",
       " None,\n",
       " None,\n",
       " None,\n",
       " None,\n",
       " None,\n",
       " None,\n",
       " None,\n",
       " None,\n",
       " None,\n",
       " None,\n",
       " None,\n",
       " None,\n",
       " None,\n",
       " None,\n",
       " None,\n",
       " None,\n",
       " None,\n",
       " None,\n",
       " None,\n",
       " None,\n",
       " None,\n",
       " None,\n",
       " None,\n",
       " None,\n",
       " None,\n",
       " None,\n",
       " None,\n",
       " None,\n",
       " None,\n",
       " None,\n",
       " None,\n",
       " None,\n",
       " None,\n",
       " None,\n",
       " None,\n",
       " None,\n",
       " None,\n",
       " None,\n",
       " None,\n",
       " None,\n",
       " None,\n",
       " None,\n",
       " None,\n",
       " None,\n",
       " None,\n",
       " None,\n",
       " None,\n",
       " None,\n",
       " None,\n",
       " None,\n",
       " None,\n",
       " None,\n",
       " None,\n",
       " None,\n",
       " None,\n",
       " None,\n",
       " None,\n",
       " None,\n",
       " None,\n",
       " None,\n",
       " None,\n",
       " None,\n",
       " None,\n",
       " None,\n",
       " None,\n",
       " None,\n",
       " None,\n",
       " None,\n",
       " None,\n",
       " None,\n",
       " None,\n",
       " None,\n",
       " None,\n",
       " None,\n",
       " None,\n",
       " None,\n",
       " None,\n",
       " None,\n",
       " None,\n",
       " None,\n",
       " None,\n",
       " None,\n",
       " None,\n",
       " None,\n",
       " None,\n",
       " None,\n",
       " None,\n",
       " None,\n",
       " None,\n",
       " None,\n",
       " None,\n",
       " None,\n",
       " None,\n",
       " None,\n",
       " None,\n",
       " None,\n",
       " None,\n",
       " None,\n",
       " None,\n",
       " None,\n",
       " None,\n",
       " None,\n",
       " None,\n",
       " None,\n",
       " None,\n",
       " None,\n",
       " None,\n",
       " None,\n",
       " None,\n",
       " None,\n",
       " None,\n",
       " None,\n",
       " None,\n",
       " None,\n",
       " None,\n",
       " None,\n",
       " None,\n",
       " None,\n",
       " None,\n",
       " None,\n",
       " None,\n",
       " None,\n",
       " None,\n",
       " None,\n",
       " None,\n",
       " None,\n",
       " None,\n",
       " None,\n",
       " None,\n",
       " None,\n",
       " None,\n",
       " None,\n",
       " None,\n",
       " None,\n",
       " None,\n",
       " None,\n",
       " None,\n",
       " None,\n",
       " None,\n",
       " None,\n",
       " None,\n",
       " None,\n",
       " None,\n",
       " None]"
      ]
     },
     "metadata": {},
     "execution_count": 709
    }
   ],
   "source": [
    "# Aplica expresiones REGEX para búsqueda de leyes, decretos, etc. referenciadas anteriormente\n",
    "regex_result = []\n",
    "[ regex_result.append(tag) for tags in DOCM_sumarios['Tags'] for tag in tags ]"
   ]
  },
  {
   "cell_type": "code",
   "execution_count": 710,
   "metadata": {},
   "outputs": [
    {
     "output_type": "stream",
     "name": "stdout",
     "text": [
      "['Resolución de 28 de enero de 2021', 'Resolución de 06 de febrero de 2021', 'Ley 7/1985', 'Real Decreto 128/2018', 'Real Decreto 128/2018', 'Ley 40/2015', 'Ley 31/1995', 'Ley 12/2010', 'Real Decreto Legislativo 5/2015', 'Ley 4/2011', 'Real Decreto Legislativo 2/2015', 'Ley 4/2011', 'Ley 12/2010', 'Ley 12/2010', 'Ley 12/2010', 'Ley 31/1995', 'Ley 12/2010', 'Ley 31/1995', 'Ley 40/2015', 'Ley 40/2015', 'Ley 4/2011', 'Ley 40/2015', 'Ley 39/2015', 'Ley 40/2015', 'Ley 39/2015', 'Ley 40/2015', 'Ley 40/2015', 'Ley 40/2015', 'Ley 53/84', 'Ley 9/2017', 'Ley 9/2017', 'Ley 9/2017', 'Ley 9/2017', 'ley 39/2015', 'ley 40/2015', 'Ley 40/2015', 'Ley 39/2015', 'ley 39/2015', 'ley 40/2015', 'Ley 40/2015', 'Ley 39/2015', 'Ley 39/2015', 'Ley 40/2015', 'Ley 40/2015', 'Ley 39/2015', 'Ley 40/2015', 'Ley 39/2015', 'Ley 40/2015', 'Ley 39/2015', 'Ley 39/2015', 'Ley 30/1992', 'Ley 8/2019', 'Ley 19/2013', 'Ley 19/2013', 'Ley 40/2015', 'Ley 40/2015', 'Ley 19/2013', 'Real Decreto 922/2020', 'Ley 11/2003', 'Ley 19/2013', 'Ley 40/2015', 'Ley 39/2015', 'Ley 39/2015', 'Ley 39/2015', 'Ley 29/1998', 'Ley 39/2015', 'Ley 39/2015', 'Ley 39/2015', 'Ley 39/2015', 'Ley 39/2015', 'Ley 39/2015', 'Ley 39/2015', 'Ley 39/2015', 'Ley 39/2015', 'Ley 39/2015', 'Ley 39/2015', 'Ley 39/2015', 'Ley 39/2015', 'Ley 39/2015', 'Ley 39/2015', 'Ley 39/2015', 'Ley 39/2015', 'Ley 39/2015', 'Ley 39/2015', 'Ley 39/2015', 'Ley 39/2015', 'Ley 39/2015', 'Ley 39/2015', 'Ley 39/2015', 'Ley 39/2015', 'Ley 39/2015', 'Ley 39/2015', 'Ley 39/2015', 'Ley 39/2015', 'Ley 39/2015', 'Ley 29/1998', 'Ley 39/2015', 'Ley 29/1998', 'Ley 39/2015', 'Ley 39/2015', 'Ley 39/2015', 'Ley 39/2015', 'Ley 39/2015', 'Ley 39/2015', 'Ley 39/2015', 'Ley 39/2015', 'Ley 39/2015', 'Ley 39/2015', 'Ley 39/2015', 'Ley 39/2015', 'Ley 39/2015', 'Ley 39/2015', 'Ley 39/2015', 'Ley 39/2015', 'Ley 39/2015', 'Resolución de 18 de enero de 2021', 'Ley 40/2015', 'Ley 7/1985', 'Ley 22/2011', 'Ley 7/1985', 'Ley 22/2011', 'Ley 47/2003', 'Ley 3/1995', 'Ley 9/2003', 'Real Decreto 1676/84', 'Ley 39/2015', 'Ley 40/2015', 'Ley 6/1985', 'Ley 3/1995', 'Ley 9/2003', 'Ley 39/2015', 'Ley 39/2015', 'Ley 3/1995', 'Ley 9/2003', 'Real Decreto 1676/84', 'Ley 39/2015', 'Ley 40/2015', 'Ley 6/1985', 'Ley 3/1995', 'Ley 9/2003', 'Ley 39/2015', 'Ley 39/2015', 'Real Decreto Legislativo 1/2001', 'Ley 8/1990', 'Ley 8/1990', 'Ley 8/1990', 'Ley 8/1990', 'Ley 8/1990', 'Ley 11/2003', 'Ley 39/2015', 'Ley 8/1990', 'Ley 15/2018', 'Real Decreto-ley 15/2018', 'Ley 24/2013', 'Real Decreto-ley 15/2018', 'Ley 15/2018', 'Ley 15/2018', 'Ley 39/2015', 'Ley 39/2015', 'Ley 21/2013', 'Ley 4/2007', 'Ley 21/2013', 'Ley 4/2007', 'Ley 21/2013', 'Ley 9/2012', 'Ley 21/2013', 'Ley 21/2013', 'Ley 21/2013', 'Ley 9/1999', 'Ley 9/1999', 'Real Decreto Legislativo 1/2001', 'Ley 22/2011', 'Real Decreto 833/1998', 'Real Decreto 952/1997', 'Real Decreto 105/2008', 'Real Decreto 110/2015', 'Ley 2/1998', 'Ley 9/90', 'Ley 34/2007', 'Real Decreto 212/2002', 'Real Decreto 524/2006', 'Ley 37/2003', 'Real Decreto 1890/2008', 'Ley 4/2013', 'Ley 4/2013', 'Ley 31/1995', 'Real Decreto 289/2003', 'Ley 21/2013', 'Ley 21/2013', 'Ley 2/2020', 'Ley 21/2013', 'Ley 4/2007', 'Ley 21/2013', 'Ley 21/2013', 'Ley 24/2013', 'Ley 21/1992', 'Ley 24/2013', 'Ley 39/2015', 'Ley 39/2015', 'Ley 3/2004', 'Ley 39/2015', 'Ley 2/2020', 'Ley 2/2020', 'Ley 2/2020', 'Ley 2/2020', 'Ley 2/2020', 'Ley 24/2013', 'Ley 39/2015', 'Ley 39/2015', 'Real Decreto 1093/1997', 'Ley 39/2015', 'Ley 2/2020', 'Resolución de 14 de diciembre de 2020']\n"
     ]
    }
   ],
   "source": [
    "print(regex_result)"
   ]
  },
  {
   "cell_type": "code",
   "execution_count": 711,
   "metadata": {},
   "outputs": [],
   "source": [
    "## Elimina duplicados\n",
    "boletin_flat_list = list(set(regex_result))"
   ]
  },
  {
   "cell_type": "code",
   "execution_count": 712,
   "metadata": {},
   "outputs": [
    {
     "output_type": "execute_result",
     "data": {
      "text/plain": [
       "['Ley 4/2007',\n",
       " 'Ley 53/84',\n",
       " 'Ley 24/2013',\n",
       " 'Ley 12/2010',\n",
       " 'Ley 47/2003',\n",
       " 'Real Decreto 110/2015',\n",
       " 'Ley 21/1992',\n",
       " 'Real Decreto 833/1998',\n",
       " 'Ley 9/2003',\n",
       " 'Real Decreto 212/2002',\n",
       " 'Resolución de 28 de enero de 2021',\n",
       " 'Ley 37/2003',\n",
       " 'Ley 34/2007',\n",
       " 'Resolución de 14 de diciembre de 2020',\n",
       " 'Ley 11/2003',\n",
       " 'Ley 3/2004',\n",
       " 'Ley 9/1999',\n",
       " 'Ley 6/1985',\n",
       " 'Ley 39/2015',\n",
       " 'ley 39/2015',\n",
       " 'Real Decreto 1093/1997',\n",
       " 'Ley 8/1990',\n",
       " 'Ley 7/1985',\n",
       " 'Ley 29/1998',\n",
       " 'Ley 4/2011',\n",
       " 'Real Decreto 105/2008',\n",
       " 'Real Decreto 922/2020',\n",
       " 'Real Decreto 952/1997',\n",
       " 'Real Decreto Legislativo 1/2001',\n",
       " 'Ley 3/1995',\n",
       " 'Resolución de 06 de febrero de 2021',\n",
       " 'Ley 4/2013',\n",
       " 'Ley 31/1995',\n",
       " 'Ley 2/2020',\n",
       " 'Ley 15/2018',\n",
       " 'Real Decreto-ley 15/2018',\n",
       " 'Ley 19/2013',\n",
       " 'Real Decreto 289/2003',\n",
       " 'Ley 22/2011',\n",
       " 'Resolución de 18 de enero de 2021',\n",
       " 'Real Decreto 1890/2008',\n",
       " 'Real Decreto 128/2018',\n",
       " 'Real Decreto Legislativo 5/2015',\n",
       " 'Ley 2/1998',\n",
       " 'Ley 9/2017',\n",
       " 'Ley 40/2015',\n",
       " 'Real Decreto Legislativo 2/2015',\n",
       " 'Ley 21/2013',\n",
       " 'Ley 9/2012',\n",
       " 'Real Decreto 524/2006',\n",
       " 'Ley 30/1992',\n",
       " 'Ley 8/2019',\n",
       " 'ley 40/2015',\n",
       " 'Ley 9/90',\n",
       " 'Real Decreto 1676/84']"
      ]
     },
     "metadata": {},
     "execution_count": 712
    }
   ],
   "source": [
    "boletin_flat_list"
   ]
  },
  {
   "source": [
    "## Importa BBDD ASECORP"
   ],
   "cell_type": "markdown",
   "metadata": {}
  },
  {
   "cell_type": "code",
   "execution_count": 713,
   "metadata": {},
   "outputs": [],
   "source": [
    "ASECORP_BBDD = pd.read_csv('./ASECORP/ExportNormes_20210126.csv', delimiter=';')"
   ]
  },
  {
   "cell_type": "code",
   "execution_count": 714,
   "metadata": {},
   "outputs": [
    {
     "output_type": "execute_result",
     "data": {
      "text/plain": [
       "                        Codigo      Numero  \\\n",
       "0       RES SLT/2313/2020 CAT         2313   \n",
       "1      (zzz) RES 12/4/2007 AST   12/4/2007   \n",
       "2           A CORUÑA 10/7/2015   10/7/2015   \n",
       "3       A CORUÑA 11/8/2014 (1)   11/8/2014   \n",
       "4       A CORUÑA 11/8/2014 (2)   11/8/2014   \n",
       "...                        ...         ...   \n",
       "19152          ZUMAIA 1/3/2001    1/3/2001   \n",
       "19153        ZUMAIA 12/11/1999  12/11/1999   \n",
       "19154         ZUMAIA 15/6/2012   15/6/2012   \n",
       "19155          ZUMAIA 6/2/2004    6/2/2004   \n",
       "19156          ZUMAIA 9/2/2004    9/2/2004   \n",
       "\n",
       "                                                  Titulo CodigoAmbito  \\\n",
       "0      Resolución SLT/2313/2020, de 24 de septiembre,...          CAT   \n",
       "1      Resolución de 12 abril de 2007, de la Consejer...          AST   \n",
       "2      Modificación de la Ordenanza de vertidos y ser...          GAL   \n",
       "3      Ordenanza municipal reguladora de los procedim...          GAL   \n",
       "4      Ordenanza de protección contra la contaminació...          GAL   \n",
       "...                                                  ...          ...   \n",
       "19152  Ordenanza reguladora de la gestión del ciclo i...          PVA   \n",
       "19153  Normativa complementaria de las Normas Subsidi...          PVA   \n",
       "19154  Modificación de la Ordenanza municipal de la g...          PVA   \n",
       "19155  Modificación de la Normativa complementaria de...          PVA   \n",
       "19156  Reglamento regulador del vertido a colector de...          PVA   \n",
       "\n",
       "           Ambito Municipio   TiposNorma IdTiposNorma  \n",
       "0        Cataluña       NaN   Prevención          [2]  \n",
       "1        Asturias       NaN  M. Ambiente          [1]  \n",
       "2         Galicia  A Coruña  M. Ambiente          [1]  \n",
       "3         Galicia  A Coruña  M. Ambiente          [1]  \n",
       "4         Galicia  A Coruña  M. Ambiente          [1]  \n",
       "...           ...       ...          ...          ...  \n",
       "19152  Pais Vasco    Zumaia  M. Ambiente          [1]  \n",
       "19153  Pais Vasco    Zumaia  M. Ambiente          [1]  \n",
       "19154  Pais Vasco    Zumaia  M. Ambiente          [1]  \n",
       "19155  Pais Vasco    Zumaia  M. Ambiente          [1]  \n",
       "19156  Pais Vasco    Zumaia  M. Ambiente          [1]  \n",
       "\n",
       "[19157 rows x 8 columns]"
      ],
      "text/html": "<div>\n<style scoped>\n    .dataframe tbody tr th:only-of-type {\n        vertical-align: middle;\n    }\n\n    .dataframe tbody tr th {\n        vertical-align: top;\n    }\n\n    .dataframe thead th {\n        text-align: right;\n    }\n</style>\n<table border=\"1\" class=\"dataframe\">\n  <thead>\n    <tr style=\"text-align: right;\">\n      <th></th>\n      <th>Codigo</th>\n      <th>Numero</th>\n      <th>Titulo</th>\n      <th>CodigoAmbito</th>\n      <th>Ambito</th>\n      <th>Municipio</th>\n      <th>TiposNorma</th>\n      <th>IdTiposNorma</th>\n    </tr>\n  </thead>\n  <tbody>\n    <tr>\n      <th>0</th>\n      <td>RES SLT/2313/2020 CAT</td>\n      <td>2313</td>\n      <td>Resolución SLT/2313/2020, de 24 de septiembre,...</td>\n      <td>CAT</td>\n      <td>Cataluña</td>\n      <td>NaN</td>\n      <td>Prevención</td>\n      <td>[2]</td>\n    </tr>\n    <tr>\n      <th>1</th>\n      <td>(zzz) RES 12/4/2007 AST</td>\n      <td>12/4/2007</td>\n      <td>Resolución de 12 abril de 2007, de la Consejer...</td>\n      <td>AST</td>\n      <td>Asturias</td>\n      <td>NaN</td>\n      <td>M. Ambiente</td>\n      <td>[1]</td>\n    </tr>\n    <tr>\n      <th>2</th>\n      <td>A CORUÑA 10/7/2015</td>\n      <td>10/7/2015</td>\n      <td>Modificación de la Ordenanza de vertidos y ser...</td>\n      <td>GAL</td>\n      <td>Galicia</td>\n      <td>A Coruña</td>\n      <td>M. Ambiente</td>\n      <td>[1]</td>\n    </tr>\n    <tr>\n      <th>3</th>\n      <td>A CORUÑA 11/8/2014 (1)</td>\n      <td>11/8/2014</td>\n      <td>Ordenanza municipal reguladora de los procedim...</td>\n      <td>GAL</td>\n      <td>Galicia</td>\n      <td>A Coruña</td>\n      <td>M. Ambiente</td>\n      <td>[1]</td>\n    </tr>\n    <tr>\n      <th>4</th>\n      <td>A CORUÑA 11/8/2014 (2)</td>\n      <td>11/8/2014</td>\n      <td>Ordenanza de protección contra la contaminació...</td>\n      <td>GAL</td>\n      <td>Galicia</td>\n      <td>A Coruña</td>\n      <td>M. Ambiente</td>\n      <td>[1]</td>\n    </tr>\n    <tr>\n      <th>...</th>\n      <td>...</td>\n      <td>...</td>\n      <td>...</td>\n      <td>...</td>\n      <td>...</td>\n      <td>...</td>\n      <td>...</td>\n      <td>...</td>\n    </tr>\n    <tr>\n      <th>19152</th>\n      <td>ZUMAIA 1/3/2001</td>\n      <td>1/3/2001</td>\n      <td>Ordenanza reguladora de la gestión del ciclo i...</td>\n      <td>PVA</td>\n      <td>Pais Vasco</td>\n      <td>Zumaia</td>\n      <td>M. Ambiente</td>\n      <td>[1]</td>\n    </tr>\n    <tr>\n      <th>19153</th>\n      <td>ZUMAIA 12/11/1999</td>\n      <td>12/11/1999</td>\n      <td>Normativa complementaria de las Normas Subsidi...</td>\n      <td>PVA</td>\n      <td>Pais Vasco</td>\n      <td>Zumaia</td>\n      <td>M. Ambiente</td>\n      <td>[1]</td>\n    </tr>\n    <tr>\n      <th>19154</th>\n      <td>ZUMAIA 15/6/2012</td>\n      <td>15/6/2012</td>\n      <td>Modificación de la Ordenanza municipal de la g...</td>\n      <td>PVA</td>\n      <td>Pais Vasco</td>\n      <td>Zumaia</td>\n      <td>M. Ambiente</td>\n      <td>[1]</td>\n    </tr>\n    <tr>\n      <th>19155</th>\n      <td>ZUMAIA 6/2/2004</td>\n      <td>6/2/2004</td>\n      <td>Modificación de la Normativa complementaria de...</td>\n      <td>PVA</td>\n      <td>Pais Vasco</td>\n      <td>Zumaia</td>\n      <td>M. Ambiente</td>\n      <td>[1]</td>\n    </tr>\n    <tr>\n      <th>19156</th>\n      <td>ZUMAIA 9/2/2004</td>\n      <td>9/2/2004</td>\n      <td>Reglamento regulador del vertido a colector de...</td>\n      <td>PVA</td>\n      <td>Pais Vasco</td>\n      <td>Zumaia</td>\n      <td>M. Ambiente</td>\n      <td>[1]</td>\n    </tr>\n  </tbody>\n</table>\n<p>19157 rows × 8 columns</p>\n</div>"
     },
     "metadata": {},
     "execution_count": 714
    }
   ],
   "source": [
    "ASECORP_BBDD"
   ]
  },
  {
   "cell_type": "code",
   "execution_count": 715,
   "metadata": {},
   "outputs": [],
   "source": [
    "ASECORP_BBDD_BOE = ASECORP_BBDD.loc[ASECORP_BBDD['Ambito'] == 'España']"
   ]
  },
  {
   "cell_type": "code",
   "execution_count": 716,
   "metadata": {},
   "outputs": [
    {
     "output_type": "execute_result",
     "data": {
      "text/plain": [
       "                        Codigo      Numero  \\\n",
       "23              ACU 1/2020 ESP           1   \n",
       "35           ACU 11/6/2007 ESP   11/6/2007   \n",
       "57          ACU 17/10/2006 ESP  17/10/2006   \n",
       "71          ACU 19/11/2018 ESP  19/11/2018   \n",
       "82              ACU 2/2020 ESP           2   \n",
       "...                        ...         ...   \n",
       "18496          STC 86/2019 ESP          86   \n",
       "18497          STC 87/2019 ESP          87   \n",
       "18498          STC 88/2018 ESP          88   \n",
       "18499         STC 9/3/2010 ESP    9/3/2010   \n",
       "18879  verificación de calidad           1   \n",
       "\n",
       "                                                  Titulo CodigoAmbito  Ambito  \\\n",
       "23     Acuerdo Multilateral RID 1/2020 en virtud de l...          ESP  España   \n",
       "35     Entrada en vigor del Acuerdo entre el Reino de...          ESP  España   \n",
       "57     Aplicación provisional del Acuerdo entre el Re...          ESP  España   \n",
       "71     Acuerdo de la Junta de Gobierno de la Confeder...          ESP  España   \n",
       "82     Acuerdo Multilateral RID 2/2020 en virtud de l...          ESP  España   \n",
       "...                                                  ...          ...     ...   \n",
       "18496  Sentencia 86/2019, de 20 de junio de 2019. Rec...          ESP  España   \n",
       "18497  Sentencia 87/2019, de 20 de junio de 2019. Rec...          ESP  España   \n",
       "18498  Sentencia 88/2018, de 19 de julio de 2018. Con...          ESP  España   \n",
       "18499  Sentencia de 9 de marzo de 2010, de la Sala Te...          ESP  España   \n",
       "18879   Norma verificación calidad alertas en produccion          ESP  España   \n",
       "\n",
       "      Municipio                     TiposNorma IdTiposNorma  \n",
       "23          NaN       M. Ambiente / Prevención       [1][2]  \n",
       "35          NaN                    M. Ambiente          [1]  \n",
       "57          NaN                    M. Ambiente          [1]  \n",
       "71          NaN                    M. Ambiente          [1]  \n",
       "82          NaN       M. Ambiente / Prevención       [1][2]  \n",
       "...         ...                            ...          ...  \n",
       "18496       NaN                    M. Ambiente          [1]  \n",
       "18497       NaN                    M. Ambiente          [1]  \n",
       "18498       NaN  M. Ambiente / Reg. Industrial       [1][3]  \n",
       "18499       NaN                    M. Ambiente          [1]  \n",
       "18879         -                Reg. Industrial          [3]  \n",
       "\n",
       "[2959 rows x 8 columns]"
      ],
      "text/html": "<div>\n<style scoped>\n    .dataframe tbody tr th:only-of-type {\n        vertical-align: middle;\n    }\n\n    .dataframe tbody tr th {\n        vertical-align: top;\n    }\n\n    .dataframe thead th {\n        text-align: right;\n    }\n</style>\n<table border=\"1\" class=\"dataframe\">\n  <thead>\n    <tr style=\"text-align: right;\">\n      <th></th>\n      <th>Codigo</th>\n      <th>Numero</th>\n      <th>Titulo</th>\n      <th>CodigoAmbito</th>\n      <th>Ambito</th>\n      <th>Municipio</th>\n      <th>TiposNorma</th>\n      <th>IdTiposNorma</th>\n    </tr>\n  </thead>\n  <tbody>\n    <tr>\n      <th>23</th>\n      <td>ACU 1/2020 ESP</td>\n      <td>1</td>\n      <td>Acuerdo Multilateral RID 1/2020 en virtud de l...</td>\n      <td>ESP</td>\n      <td>España</td>\n      <td>NaN</td>\n      <td>M. Ambiente / Prevención</td>\n      <td>[1][2]</td>\n    </tr>\n    <tr>\n      <th>35</th>\n      <td>ACU 11/6/2007 ESP</td>\n      <td>11/6/2007</td>\n      <td>Entrada en vigor del Acuerdo entre el Reino de...</td>\n      <td>ESP</td>\n      <td>España</td>\n      <td>NaN</td>\n      <td>M. Ambiente</td>\n      <td>[1]</td>\n    </tr>\n    <tr>\n      <th>57</th>\n      <td>ACU 17/10/2006 ESP</td>\n      <td>17/10/2006</td>\n      <td>Aplicación provisional del Acuerdo entre el Re...</td>\n      <td>ESP</td>\n      <td>España</td>\n      <td>NaN</td>\n      <td>M. Ambiente</td>\n      <td>[1]</td>\n    </tr>\n    <tr>\n      <th>71</th>\n      <td>ACU 19/11/2018 ESP</td>\n      <td>19/11/2018</td>\n      <td>Acuerdo de la Junta de Gobierno de la Confeder...</td>\n      <td>ESP</td>\n      <td>España</td>\n      <td>NaN</td>\n      <td>M. Ambiente</td>\n      <td>[1]</td>\n    </tr>\n    <tr>\n      <th>82</th>\n      <td>ACU 2/2020 ESP</td>\n      <td>2</td>\n      <td>Acuerdo Multilateral RID 2/2020 en virtud de l...</td>\n      <td>ESP</td>\n      <td>España</td>\n      <td>NaN</td>\n      <td>M. Ambiente / Prevención</td>\n      <td>[1][2]</td>\n    </tr>\n    <tr>\n      <th>...</th>\n      <td>...</td>\n      <td>...</td>\n      <td>...</td>\n      <td>...</td>\n      <td>...</td>\n      <td>...</td>\n      <td>...</td>\n      <td>...</td>\n    </tr>\n    <tr>\n      <th>18496</th>\n      <td>STC 86/2019 ESP</td>\n      <td>86</td>\n      <td>Sentencia 86/2019, de 20 de junio de 2019. Rec...</td>\n      <td>ESP</td>\n      <td>España</td>\n      <td>NaN</td>\n      <td>M. Ambiente</td>\n      <td>[1]</td>\n    </tr>\n    <tr>\n      <th>18497</th>\n      <td>STC 87/2019 ESP</td>\n      <td>87</td>\n      <td>Sentencia 87/2019, de 20 de junio de 2019. Rec...</td>\n      <td>ESP</td>\n      <td>España</td>\n      <td>NaN</td>\n      <td>M. Ambiente</td>\n      <td>[1]</td>\n    </tr>\n    <tr>\n      <th>18498</th>\n      <td>STC 88/2018 ESP</td>\n      <td>88</td>\n      <td>Sentencia 88/2018, de 19 de julio de 2018. Con...</td>\n      <td>ESP</td>\n      <td>España</td>\n      <td>NaN</td>\n      <td>M. Ambiente / Reg. Industrial</td>\n      <td>[1][3]</td>\n    </tr>\n    <tr>\n      <th>18499</th>\n      <td>STC 9/3/2010 ESP</td>\n      <td>9/3/2010</td>\n      <td>Sentencia de 9 de marzo de 2010, de la Sala Te...</td>\n      <td>ESP</td>\n      <td>España</td>\n      <td>NaN</td>\n      <td>M. Ambiente</td>\n      <td>[1]</td>\n    </tr>\n    <tr>\n      <th>18879</th>\n      <td>verificación de calidad</td>\n      <td>1</td>\n      <td>Norma verificación calidad alertas en produccion</td>\n      <td>ESP</td>\n      <td>España</td>\n      <td>-</td>\n      <td>Reg. Industrial</td>\n      <td>[3]</td>\n    </tr>\n  </tbody>\n</table>\n<p>2959 rows × 8 columns</p>\n</div>"
     },
     "metadata": {},
     "execution_count": 716
    }
   ],
   "source": [
    "ASECORP_BBDD_BOE"
   ]
  },
  {
   "cell_type": "code",
   "execution_count": 717,
   "metadata": {},
   "outputs": [],
   "source": [
    "# Crea nueva columna vacía de tipo lista en ASECORP_BBDD\n",
    "ASECORP_BBDD_BOE['Tags'] = [[] for i in range(len(ASECORP_BBDD_BOE))]"
   ]
  },
  {
   "cell_type": "code",
   "execution_count": 718,
   "metadata": {},
   "outputs": [],
   "source": [
    "titulo = []\n",
    "for i, row in ASECORP_BBDD_BOE.iterrows():\n",
    "    titulo.append(str(row['Titulo']) + str(re.findall('|'.join(pattern), str(row['Titulo']), flags=re.IGNORECASE)))\n",
    "    ASECORP_BBDD_BOE['Tags'][i] = re.findall('|'.join(pattern), str(row['Titulo']), flags=re.IGNORECASE)"
   ]
  },
  {
   "cell_type": "code",
   "execution_count": 719,
   "metadata": {},
   "outputs": [
    {
     "output_type": "execute_result",
     "data": {
      "text/plain": [
       "                      Codigo     Numero  \\\n",
       "11629  ORD PRE/2827/2009 ESP       2827   \n",
       "11630  ORD PRE/2843/2009 ESP       2843   \n",
       "11631  ORD PRE/2851/2010 ESP       2851   \n",
       "11632  ORD PRE/2871/2011 ESP       2871   \n",
       "11633  ORD PRE/2872/2011 ESP       2872   \n",
       "11634    ORD PRE/29/2004 ESP         29   \n",
       "11635  ORD PRE/2922/2005 ESP       2922   \n",
       "11636  ORD PRE/2957/2008 ESP       2957   \n",
       "11637     ORD PRE/3/2006 ESP          3   \n",
       "11638  ORD PRE/3159/2004 ESP       3159   \n",
       "11639   ORD PRE/321/2009 ESP        321   \n",
       "11640  ORD PRE/3271/2011 ESP       3271   \n",
       "11641  ORD PRE/3290/2002 ESP       3290   \n",
       "11642  ORD PRE/3297/2004 ESP       3297   \n",
       "11643  ORD PRE/3298/2004 ESP       3298   \n",
       "11644  ORD PRE/3302/2006 ESP       3302   \n",
       "11645  ORD PRE/3338/2007 ESP       3338   \n",
       "11647  ORD PRE/3420/2007 ESP       3420   \n",
       "11648  ORD PRE/3476/2003 ESP       3476   \n",
       "11649  ORD PRE/3539/2008 ESP       3539   \n",
       "11650   ORD PRE/370/2012 ESP        370   \n",
       "11651   ORD PRE/374/2008 ESP        374   \n",
       "11652   ORD PRE/375/2003 ESP        375   \n",
       "11653  ORD PRE/3834/2005 ESP       3834   \n",
       "11654  ORD PRE/3856/2005 ESP       3856   \n",
       "11655  ORD PRE/3929/2004 ESP       3929   \n",
       "11656   ORD PRE/402/2006 ESP        402   \n",
       "11657   ORD PRE/402/2008 CAT        402   \n",
       "11658   ORD PRE/456/2007 ESP        456   \n",
       "11659   ORD PRE/468/2008 ESP        468   \n",
       "11660   ORD PRE/473/2004 ESP        473   \n",
       "11661   ORD PRE/507/2008 ESP        507   \n",
       "11662    ORD PRE/52/2010 ESP  23/1/2010   \n",
       "11663   ORD PRE/531/2010 ESP        531   \n",
       "11664   ORD PRE/556/2005 ESP        556   \n",
       "11665   ORD PRE/568/2009 ESP        568   \n",
       "11666   ORD PRE/628/2011 ESP        628   \n",
       "11667   ORD PRE/629/2011 ESP        629   \n",
       "11668   ORD PRE/630/2011 ESP        630   \n",
       "11669   ORD PRE/631/2011 ESP        631   \n",
       "11670   ORD PRE/662/2013 ESP        662   \n",
       "11671   ORD PRE/675/2013 ESP        675   \n",
       "11672   ORD PRE/690/2005 ESP        690   \n",
       "11673   ORD PRE/696/2008 ESP        696   \n",
       "11674   ORD PRE/730/2003 ESP        730   \n",
       "11675    ORD PRE/77/2008 ESP         77   \n",
       "11676   ORD PRE/772/2016 ESP        772   \n",
       "11677   ORD PRE/777/2009 ESP        777   \n",
       "11678   ORD PRE/777/2011 ESP        777   \n",
       "11679   ORD PRE/839/2010 ESP        839   \n",
       "\n",
       "                                                  Titulo CodigoAmbito  Ambito  \\\n",
       "11629  Orden PRE/2827/2009, de 19 de octubre, por la ...          ESP  España   \n",
       "11630  Orden PRE/2843/2009, de 19 de octubre, por la ...          ESP  España   \n",
       "11631  Orden PRE/2851/2010, de 4 de noviembre, por la...          ESP  España   \n",
       "11632  Orden PRE/2871/2011, de 25 de octubre, por la ...          ESP  España   \n",
       "11633  Orden PRE/2872/2011, de 25 de octubre, por la ...          ESP  España   \n",
       "11634  Orden PRE/29/2004, de 15 de enero, por la que ...          ESP  España   \n",
       "11635  Orden PRE/2922/2005, de 19 de septiembre, por ...          ESP  España   \n",
       "11636  Orden PRE/2957/2008, de 10 de octubre, por la ...          ESP  España   \n",
       "11637  Orden PRE/3/2006, de 12 de enero, por la que s...          ESP  España   \n",
       "11638  Orden PRE/3159/2004, de 28 de septiembre, por ...          ESP  España   \n",
       "11639  Orden PRE/321/2009, de 13 de febrero, por la q...          ESP  España   \n",
       "11640  Orden PRE/3271/2011, de 25 de noviembre, por l...          ESP  España   \n",
       "11641  Orden PRE/3290/2002, de 23 de diciembre, por l...          ESP  España   \n",
       "11642  Orden PRE/3297/2004, de 13 de octubre, por la ...          ESP  España   \n",
       "11643  Orden PRE/3298/2004, de 13 de octubre, por la ...          ESP  España   \n",
       "11644  Orden PRE/3302/2006, de 27 de octubre, por la ...          ESP  España   \n",
       "11645  Orden PRE/3338/2007, de 15 de noviembre, por l...          ESP  España   \n",
       "11647  Orden PRE/3420/2007, de 14 de noviembre, por l...          ESP  España   \n",
       "11648  Orden PRE/3476/2003, de 9 de diciembre, por la...          ESP  España   \n",
       "11649  Orden PRE/3539/2008, de 28 de noviembre, por l...          ESP  España   \n",
       "11650  Orden PRE/370/2012, de 27 de febrero, por la q...          ESP  España   \n",
       "11651  Orden PRE/374/2008, de 31 de enero, por la que...          ESP  España   \n",
       "11652  Orden PRE/375/2003, de 24 de febrero, por la q...          ESP  España   \n",
       "11653  Orden PRE/3834/2005, de 9 de diciembre, por la...          ESP  España   \n",
       "11654  Orden PRE/3856/2005, de 12 de diciembre, por l...          ESP  España   \n",
       "11655  Orden PRE/3929/2004, de 30 de noviembre, por l...          ESP  España   \n",
       "11656  Orden PRE/402/2006, de 16 de febrero, por la q...          ESP  España   \n",
       "11657  Orden PRE/402/2008, de 28 de agosto, por la qu...          ESP  España   \n",
       "11658  Orden PRE/456/2007, de 28 de febrero, por la q...          ESP  España   \n",
       "11659  Orden PRE/468/2008, de 15 de febrero, por la q...          ESP  España   \n",
       "11660  Orden PRE/473/2004, de 25 de febrero, por la q...          ESP  España   \n",
       "11661  Orden PRE/507/2008, de 26 de febrero, por la q...          ESP  España   \n",
       "11662  Orden PRE/52/2010, de 21 de enero, por la que ...          ESP  España   \n",
       "11663  Orden PRE/531/2010, de 26 de febrero, por la q...          ESP  España   \n",
       "11664  Orden PRE/556/2005, de 10 de marzo, por la que...          ESP  España   \n",
       "11665  Orden PRE/568/2009, de 5 de marzo, por la que ...          ESP  España   \n",
       "11666  Orden PRE/628/2011, de 22 de marzo, por la que...          ESP  España   \n",
       "11667  Orden PRE/629/2011, de 22 de marzo, por la que...          ESP  España   \n",
       "11668  Orden PRE/630/2011, de 23 de marzo, por la que...          ESP  España   \n",
       "11669  Orden PRE/631/2011, de 23 de marzo, por la que...          ESP  España   \n",
       "11670  Orden PRE/662/2013, de 22 de abril, por la que...          ESP  España   \n",
       "11671  Orden PRE/675/2013, de 22 de abril, por la que...          ESP  España   \n",
       "11672  Orden PRE/690/2005, de 18 de marzo, por la que...          ESP  España   \n",
       "11673  Orden PRE/696/2008, de 7 de marzo, por la que ...          ESP  España   \n",
       "11674  Orden PRE/730/2003, de 25 de marzo, por la que...          ESP  España   \n",
       "11675  Orden PRE/77/2008, de 17 de enero, por la que ...          ESP  España   \n",
       "11676  Orden PRE/772/2016, de 19 de mayo, por la que ...          ESP  España   \n",
       "11677  Orden PRE/777/2009, de 26 de marzo, por la que...          ESP  España   \n",
       "11678  Orden PRE/777/2011, de 4 de abril, por la que ...          ESP  España   \n",
       "11679  Orden PRE/839/2010, de 29 de marzo, por la que...          ESP  España   \n",
       "\n",
       "      Municipio                TiposNorma IdTiposNorma  \\\n",
       "11629       NaN               M. Ambiente          [1]   \n",
       "11630       NaN  M. Ambiente / Prevención       [1][2]   \n",
       "11631       NaN  M. Ambiente / Prevención       [1][2]   \n",
       "11632       NaN  M. Ambiente / Prevención       [1][2]   \n",
       "11633       NaN  M. Ambiente / Prevención       [1][2]   \n",
       "11634       NaN               M. Ambiente          [1]   \n",
       "11635       NaN  M. Ambiente / Prevención       [1][2]   \n",
       "11636       NaN  M. Ambiente / Prevención       [1][2]   \n",
       "11637       NaN  M. Ambiente / Prevención       [1][2]   \n",
       "11638       NaN  M. Ambiente / Prevención       [1][2]   \n",
       "11639       NaN  M. Ambiente / Prevención       [1][2]   \n",
       "11640       NaN  M. Ambiente / Prevención       [1][2]   \n",
       "11641       NaN  M. Ambiente / Prevención       [1][2]   \n",
       "11642       NaN  M. Ambiente / Prevención       [1][2]   \n",
       "11643       NaN           Reg. Industrial          [3]   \n",
       "11644       NaN  M. Ambiente / Prevención       [1][2]   \n",
       "11645       NaN  M. Ambiente / Prevención       [1][2]   \n",
       "11647       NaN               M. Ambiente          [1]   \n",
       "11648       NaN  M. Ambiente / Prevención       [1][2]   \n",
       "11649       NaN               M. Ambiente          [1]   \n",
       "11650       NaN               M. Ambiente          [1]   \n",
       "11651       NaN  M. Ambiente / Prevención       [1][2]   \n",
       "11652       NaN  M. Ambiente / Prevención       [1][2]   \n",
       "11653       NaN               M. Ambiente          [1]   \n",
       "11654       NaN  M. Ambiente / Prevención       [1][2]   \n",
       "11655       NaN  M. Ambiente / Prevención       [1][2]   \n",
       "11656       NaN  M. Ambiente / Prevención       [1][2]   \n",
       "11657       NaN           Reg. Industrial          [3]   \n",
       "11658       NaN  M. Ambiente / Prevención       [1][2]   \n",
       "11659       NaN               M. Ambiente          [1]   \n",
       "11660       NaN  M. Ambiente / Prevención       [1][2]   \n",
       "11661       NaN  M. Ambiente / Prevención       [1][2]   \n",
       "11662       NaN            Seguridad Vial          [5]   \n",
       "11663       NaN  M. Ambiente / Prevención       [1][2]   \n",
       "11664       NaN  M. Ambiente / Prevención       [1][2]   \n",
       "11665       NaN                Prevención          [2]   \n",
       "11666       NaN          Seg. Alimentaria          [7]   \n",
       "11667         -            Seguridad Vial          [5]   \n",
       "11668       NaN  M. Ambiente / Prevención       [1][2]   \n",
       "11669       NaN  M. Ambiente / Prevención       [1][2]   \n",
       "11670       NaN  M. Ambiente / Prevención       [1][2]   \n",
       "11671       NaN  M. Ambiente / Prevención       [1][2]   \n",
       "11672       NaN  M. Ambiente / Prevención       [1][2]   \n",
       "11673       NaN  M. Ambiente / Prevención       [1][2]   \n",
       "11674       NaN  M. Ambiente / Prevención       [1][2]   \n",
       "11675       NaN               M. Ambiente          [1]   \n",
       "11676       NaN               M. Ambiente          [1]   \n",
       "11677       NaN  M. Ambiente / Prevención       [1][2]   \n",
       "11678       NaN  M. Ambiente / Prevención       [1][2]   \n",
       "11679       NaN  M. Ambiente / Prevención       [1][2]   \n",
       "\n",
       "                                                    Tags  \n",
       "11629      [Orden PRE/2827/2009, Real Decreto 1370/2006]  \n",
       "11630      [Orden PRE/2843/2009, Real Decreto 2163/1994]  \n",
       "11631      [Orden PRE/2851/2010, Real Decreto 2163/1994]  \n",
       "11632      [Orden PRE/2871/2011, Real Decreto 2163/1994]  \n",
       "11633      [Orden PRE/2872/2011, Real Decreto 2163/1994]  \n",
       "11634         [Orden PRE/29/2004, Real Decreto 837/2002]  \n",
       "11635  [Orden PRE/2922/2005, Orden de 8 de marzo de 1...  \n",
       "11636      [Orden PRE/2957/2008, Real Decreto 2163/1994]  \n",
       "11637          [Orden PRE/3/2006, Real Decreto 255/2003]  \n",
       "11638      [Orden PRE/3159/2004, Real Decreto 1406/1989]  \n",
       "11639       [Orden PRE/321/2009, Real Decreto 1054/2002]  \n",
       "11640      [Orden PRE/3271/2011, Real Decreto 1054/2002]  \n",
       "11641      [Orden PRE/3290/2002, Real Decreto 2163/1994]  \n",
       "11642      [Orden PRE/3297/2004, Real Decreto 2163/1994]  \n",
       "11643      [Orden PRE/3298/2004, Real Decreto 2822/1998]  \n",
       "11644      [Orden PRE/3302/2006, Real Decreto 2163/1994]  \n",
       "11645      [Orden PRE/3338/2007, Real Decreto 2163/1994]  \n",
       "11647                              [Orden PRE/3420/2007]  \n",
       "11648      [Orden PRE/3476/2003, Real Decreto 2163/1994]  \n",
       "11649                              [Orden PRE/3539/2008]  \n",
       "11650       [Orden PRE/370/2012, Real Decreto 1383/2002]  \n",
       "11651       [Orden PRE/374/2008, Real Decreto 1406/1989]  \n",
       "11652       [Orden PRE/375/2003, Real Decreto 1406/1989]  \n",
       "11653                              [Orden PRE/3834/2005]  \n",
       "11654      [Orden PRE/3856/2005, Real Decreto 2163/1994]  \n",
       "11655      [Orden PRE/3929/2004, Real Decreto 2163/1994]  \n",
       "11656           [Orden PRE/402/2006, Orden PRE/690/2005]  \n",
       "11657                               [Orden PRE/402/2008]  \n",
       "11658       [Orden PRE/456/2007, Real Decreto 2163/1994]  \n",
       "11659                               [Orden PRE/468/2008]  \n",
       "11660                               [Orden PRE/473/2004]  \n",
       "11661       [Orden PRE/507/2008, Real Decreto 1054/2002]  \n",
       "11662        [Orden PRE/52/2010, Real Decreto 2822/1998]  \n",
       "11663       [Orden PRE/531/2010, Real Decreto 2163/1994]  \n",
       "11664  [Orden PRE/556/2005, Orden PRE/473/2004, Real ...  \n",
       "11665        [Orden PRE/568/2009, Real Decreto 258/1999]  \n",
       "11666        [Orden PRE/628/2011, Real Decreto 866/2008]  \n",
       "11667       [Orden PRE/629/2011, Real Decreto 2822/1998]  \n",
       "11668        [Orden PRE/630/2011, Real Decreto 824/2005]  \n",
       "11669       [Orden PRE/631/2011, Real Decreto 2163/1994]  \n",
       "11670       [Orden PRE/662/2013, Real Decreto 1054/2002]  \n",
       "11671       [Orden PRE/675/2013, Real Decreto 1054/2002]  \n",
       "11672                               [Orden PRE/690/2005]  \n",
       "11673       [Orden PRE/696/2008, Real Decreto 2163/1994]  \n",
       "11674       [Orden PRE/730/2003, Real Decreto 1406/1989]  \n",
       "11675                                [Orden PRE/77/2008]  \n",
       "11676        [Orden PRE/772/2016, Real Decreto 219/2013]  \n",
       "11677       [Orden PRE/777/2009, Real Decreto 2163/1994]  \n",
       "11678       [Orden PRE/777/2011, Real Decreto 1054/2002]  \n",
       "11679       [Orden PRE/839/2010, Real Decreto 2163/1994]  "
      ],
      "text/html": "<div>\n<style scoped>\n    .dataframe tbody tr th:only-of-type {\n        vertical-align: middle;\n    }\n\n    .dataframe tbody tr th {\n        vertical-align: top;\n    }\n\n    .dataframe thead th {\n        text-align: right;\n    }\n</style>\n<table border=\"1\" class=\"dataframe\">\n  <thead>\n    <tr style=\"text-align: right;\">\n      <th></th>\n      <th>Codigo</th>\n      <th>Numero</th>\n      <th>Titulo</th>\n      <th>CodigoAmbito</th>\n      <th>Ambito</th>\n      <th>Municipio</th>\n      <th>TiposNorma</th>\n      <th>IdTiposNorma</th>\n      <th>Tags</th>\n    </tr>\n  </thead>\n  <tbody>\n    <tr>\n      <th>11629</th>\n      <td>ORD PRE/2827/2009 ESP</td>\n      <td>2827</td>\n      <td>Orden PRE/2827/2009, de 19 de octubre, por la ...</td>\n      <td>ESP</td>\n      <td>España</td>\n      <td>NaN</td>\n      <td>M. Ambiente</td>\n      <td>[1]</td>\n      <td>[Orden PRE/2827/2009, Real Decreto 1370/2006]</td>\n    </tr>\n    <tr>\n      <th>11630</th>\n      <td>ORD PRE/2843/2009 ESP</td>\n      <td>2843</td>\n      <td>Orden PRE/2843/2009, de 19 de octubre, por la ...</td>\n      <td>ESP</td>\n      <td>España</td>\n      <td>NaN</td>\n      <td>M. Ambiente / Prevención</td>\n      <td>[1][2]</td>\n      <td>[Orden PRE/2843/2009, Real Decreto 2163/1994]</td>\n    </tr>\n    <tr>\n      <th>11631</th>\n      <td>ORD PRE/2851/2010 ESP</td>\n      <td>2851</td>\n      <td>Orden PRE/2851/2010, de 4 de noviembre, por la...</td>\n      <td>ESP</td>\n      <td>España</td>\n      <td>NaN</td>\n      <td>M. Ambiente / Prevención</td>\n      <td>[1][2]</td>\n      <td>[Orden PRE/2851/2010, Real Decreto 2163/1994]</td>\n    </tr>\n    <tr>\n      <th>11632</th>\n      <td>ORD PRE/2871/2011 ESP</td>\n      <td>2871</td>\n      <td>Orden PRE/2871/2011, de 25 de octubre, por la ...</td>\n      <td>ESP</td>\n      <td>España</td>\n      <td>NaN</td>\n      <td>M. Ambiente / Prevención</td>\n      <td>[1][2]</td>\n      <td>[Orden PRE/2871/2011, Real Decreto 2163/1994]</td>\n    </tr>\n    <tr>\n      <th>11633</th>\n      <td>ORD PRE/2872/2011 ESP</td>\n      <td>2872</td>\n      <td>Orden PRE/2872/2011, de 25 de octubre, por la ...</td>\n      <td>ESP</td>\n      <td>España</td>\n      <td>NaN</td>\n      <td>M. Ambiente / Prevención</td>\n      <td>[1][2]</td>\n      <td>[Orden PRE/2872/2011, Real Decreto 2163/1994]</td>\n    </tr>\n    <tr>\n      <th>11634</th>\n      <td>ORD PRE/29/2004 ESP</td>\n      <td>29</td>\n      <td>Orden PRE/29/2004, de 15 de enero, por la que ...</td>\n      <td>ESP</td>\n      <td>España</td>\n      <td>NaN</td>\n      <td>M. Ambiente</td>\n      <td>[1]</td>\n      <td>[Orden PRE/29/2004, Real Decreto 837/2002]</td>\n    </tr>\n    <tr>\n      <th>11635</th>\n      <td>ORD PRE/2922/2005 ESP</td>\n      <td>2922</td>\n      <td>Orden PRE/2922/2005, de 19 de septiembre, por ...</td>\n      <td>ESP</td>\n      <td>España</td>\n      <td>NaN</td>\n      <td>M. Ambiente / Prevención</td>\n      <td>[1][2]</td>\n      <td>[Orden PRE/2922/2005, Orden de 8 de marzo de 1...</td>\n    </tr>\n    <tr>\n      <th>11636</th>\n      <td>ORD PRE/2957/2008 ESP</td>\n      <td>2957</td>\n      <td>Orden PRE/2957/2008, de 10 de octubre, por la ...</td>\n      <td>ESP</td>\n      <td>España</td>\n      <td>NaN</td>\n      <td>M. Ambiente / Prevención</td>\n      <td>[1][2]</td>\n      <td>[Orden PRE/2957/2008, Real Decreto 2163/1994]</td>\n    </tr>\n    <tr>\n      <th>11637</th>\n      <td>ORD PRE/3/2006 ESP</td>\n      <td>3</td>\n      <td>Orden PRE/3/2006, de 12 de enero, por la que s...</td>\n      <td>ESP</td>\n      <td>España</td>\n      <td>NaN</td>\n      <td>M. Ambiente / Prevención</td>\n      <td>[1][2]</td>\n      <td>[Orden PRE/3/2006, Real Decreto 255/2003]</td>\n    </tr>\n    <tr>\n      <th>11638</th>\n      <td>ORD PRE/3159/2004 ESP</td>\n      <td>3159</td>\n      <td>Orden PRE/3159/2004, de 28 de septiembre, por ...</td>\n      <td>ESP</td>\n      <td>España</td>\n      <td>NaN</td>\n      <td>M. Ambiente / Prevención</td>\n      <td>[1][2]</td>\n      <td>[Orden PRE/3159/2004, Real Decreto 1406/1989]</td>\n    </tr>\n    <tr>\n      <th>11639</th>\n      <td>ORD PRE/321/2009 ESP</td>\n      <td>321</td>\n      <td>Orden PRE/321/2009, de 13 de febrero, por la q...</td>\n      <td>ESP</td>\n      <td>España</td>\n      <td>NaN</td>\n      <td>M. Ambiente / Prevención</td>\n      <td>[1][2]</td>\n      <td>[Orden PRE/321/2009, Real Decreto 1054/2002]</td>\n    </tr>\n    <tr>\n      <th>11640</th>\n      <td>ORD PRE/3271/2011 ESP</td>\n      <td>3271</td>\n      <td>Orden PRE/3271/2011, de 25 de noviembre, por l...</td>\n      <td>ESP</td>\n      <td>España</td>\n      <td>NaN</td>\n      <td>M. Ambiente / Prevención</td>\n      <td>[1][2]</td>\n      <td>[Orden PRE/3271/2011, Real Decreto 1054/2002]</td>\n    </tr>\n    <tr>\n      <th>11641</th>\n      <td>ORD PRE/3290/2002 ESP</td>\n      <td>3290</td>\n      <td>Orden PRE/3290/2002, de 23 de diciembre, por l...</td>\n      <td>ESP</td>\n      <td>España</td>\n      <td>NaN</td>\n      <td>M. Ambiente / Prevención</td>\n      <td>[1][2]</td>\n      <td>[Orden PRE/3290/2002, Real Decreto 2163/1994]</td>\n    </tr>\n    <tr>\n      <th>11642</th>\n      <td>ORD PRE/3297/2004 ESP</td>\n      <td>3297</td>\n      <td>Orden PRE/3297/2004, de 13 de octubre, por la ...</td>\n      <td>ESP</td>\n      <td>España</td>\n      <td>NaN</td>\n      <td>M. Ambiente / Prevención</td>\n      <td>[1][2]</td>\n      <td>[Orden PRE/3297/2004, Real Decreto 2163/1994]</td>\n    </tr>\n    <tr>\n      <th>11643</th>\n      <td>ORD PRE/3298/2004 ESP</td>\n      <td>3298</td>\n      <td>Orden PRE/3298/2004, de 13 de octubre, por la ...</td>\n      <td>ESP</td>\n      <td>España</td>\n      <td>NaN</td>\n      <td>Reg. Industrial</td>\n      <td>[3]</td>\n      <td>[Orden PRE/3298/2004, Real Decreto 2822/1998]</td>\n    </tr>\n    <tr>\n      <th>11644</th>\n      <td>ORD PRE/3302/2006 ESP</td>\n      <td>3302</td>\n      <td>Orden PRE/3302/2006, de 27 de octubre, por la ...</td>\n      <td>ESP</td>\n      <td>España</td>\n      <td>NaN</td>\n      <td>M. Ambiente / Prevención</td>\n      <td>[1][2]</td>\n      <td>[Orden PRE/3302/2006, Real Decreto 2163/1994]</td>\n    </tr>\n    <tr>\n      <th>11645</th>\n      <td>ORD PRE/3338/2007 ESP</td>\n      <td>3338</td>\n      <td>Orden PRE/3338/2007, de 15 de noviembre, por l...</td>\n      <td>ESP</td>\n      <td>España</td>\n      <td>NaN</td>\n      <td>M. Ambiente / Prevención</td>\n      <td>[1][2]</td>\n      <td>[Orden PRE/3338/2007, Real Decreto 2163/1994]</td>\n    </tr>\n    <tr>\n      <th>11647</th>\n      <td>ORD PRE/3420/2007 ESP</td>\n      <td>3420</td>\n      <td>Orden PRE/3420/2007, de 14 de noviembre, por l...</td>\n      <td>ESP</td>\n      <td>España</td>\n      <td>NaN</td>\n      <td>M. Ambiente</td>\n      <td>[1]</td>\n      <td>[Orden PRE/3420/2007]</td>\n    </tr>\n    <tr>\n      <th>11648</th>\n      <td>ORD PRE/3476/2003 ESP</td>\n      <td>3476</td>\n      <td>Orden PRE/3476/2003, de 9 de diciembre, por la...</td>\n      <td>ESP</td>\n      <td>España</td>\n      <td>NaN</td>\n      <td>M. Ambiente / Prevención</td>\n      <td>[1][2]</td>\n      <td>[Orden PRE/3476/2003, Real Decreto 2163/1994]</td>\n    </tr>\n    <tr>\n      <th>11649</th>\n      <td>ORD PRE/3539/2008 ESP</td>\n      <td>3539</td>\n      <td>Orden PRE/3539/2008, de 28 de noviembre, por l...</td>\n      <td>ESP</td>\n      <td>España</td>\n      <td>NaN</td>\n      <td>M. Ambiente</td>\n      <td>[1]</td>\n      <td>[Orden PRE/3539/2008]</td>\n    </tr>\n    <tr>\n      <th>11650</th>\n      <td>ORD PRE/370/2012 ESP</td>\n      <td>370</td>\n      <td>Orden PRE/370/2012, de 27 de febrero, por la q...</td>\n      <td>ESP</td>\n      <td>España</td>\n      <td>NaN</td>\n      <td>M. Ambiente</td>\n      <td>[1]</td>\n      <td>[Orden PRE/370/2012, Real Decreto 1383/2002]</td>\n    </tr>\n    <tr>\n      <th>11651</th>\n      <td>ORD PRE/374/2008 ESP</td>\n      <td>374</td>\n      <td>Orden PRE/374/2008, de 31 de enero, por la que...</td>\n      <td>ESP</td>\n      <td>España</td>\n      <td>NaN</td>\n      <td>M. Ambiente / Prevención</td>\n      <td>[1][2]</td>\n      <td>[Orden PRE/374/2008, Real Decreto 1406/1989]</td>\n    </tr>\n    <tr>\n      <th>11652</th>\n      <td>ORD PRE/375/2003 ESP</td>\n      <td>375</td>\n      <td>Orden PRE/375/2003, de 24 de febrero, por la q...</td>\n      <td>ESP</td>\n      <td>España</td>\n      <td>NaN</td>\n      <td>M. Ambiente / Prevención</td>\n      <td>[1][2]</td>\n      <td>[Orden PRE/375/2003, Real Decreto 1406/1989]</td>\n    </tr>\n    <tr>\n      <th>11653</th>\n      <td>ORD PRE/3834/2005 ESP</td>\n      <td>3834</td>\n      <td>Orden PRE/3834/2005, de 9 de diciembre, por la...</td>\n      <td>ESP</td>\n      <td>España</td>\n      <td>NaN</td>\n      <td>M. Ambiente</td>\n      <td>[1]</td>\n      <td>[Orden PRE/3834/2005]</td>\n    </tr>\n    <tr>\n      <th>11654</th>\n      <td>ORD PRE/3856/2005 ESP</td>\n      <td>3856</td>\n      <td>Orden PRE/3856/2005, de 12 de diciembre, por l...</td>\n      <td>ESP</td>\n      <td>España</td>\n      <td>NaN</td>\n      <td>M. Ambiente / Prevención</td>\n      <td>[1][2]</td>\n      <td>[Orden PRE/3856/2005, Real Decreto 2163/1994]</td>\n    </tr>\n    <tr>\n      <th>11655</th>\n      <td>ORD PRE/3929/2004 ESP</td>\n      <td>3929</td>\n      <td>Orden PRE/3929/2004, de 30 de noviembre, por l...</td>\n      <td>ESP</td>\n      <td>España</td>\n      <td>NaN</td>\n      <td>M. Ambiente / Prevención</td>\n      <td>[1][2]</td>\n      <td>[Orden PRE/3929/2004, Real Decreto 2163/1994]</td>\n    </tr>\n    <tr>\n      <th>11656</th>\n      <td>ORD PRE/402/2006 ESP</td>\n      <td>402</td>\n      <td>Orden PRE/402/2006, de 16 de febrero, por la q...</td>\n      <td>ESP</td>\n      <td>España</td>\n      <td>NaN</td>\n      <td>M. Ambiente / Prevención</td>\n      <td>[1][2]</td>\n      <td>[Orden PRE/402/2006, Orden PRE/690/2005]</td>\n    </tr>\n    <tr>\n      <th>11657</th>\n      <td>ORD PRE/402/2008 CAT</td>\n      <td>402</td>\n      <td>Orden PRE/402/2008, de 28 de agosto, por la qu...</td>\n      <td>ESP</td>\n      <td>España</td>\n      <td>NaN</td>\n      <td>Reg. Industrial</td>\n      <td>[3]</td>\n      <td>[Orden PRE/402/2008]</td>\n    </tr>\n    <tr>\n      <th>11658</th>\n      <td>ORD PRE/456/2007 ESP</td>\n      <td>456</td>\n      <td>Orden PRE/456/2007, de 28 de febrero, por la q...</td>\n      <td>ESP</td>\n      <td>España</td>\n      <td>NaN</td>\n      <td>M. Ambiente / Prevención</td>\n      <td>[1][2]</td>\n      <td>[Orden PRE/456/2007, Real Decreto 2163/1994]</td>\n    </tr>\n    <tr>\n      <th>11659</th>\n      <td>ORD PRE/468/2008 ESP</td>\n      <td>468</td>\n      <td>Orden PRE/468/2008, de 15 de febrero, por la q...</td>\n      <td>ESP</td>\n      <td>España</td>\n      <td>NaN</td>\n      <td>M. Ambiente</td>\n      <td>[1]</td>\n      <td>[Orden PRE/468/2008]</td>\n    </tr>\n    <tr>\n      <th>11660</th>\n      <td>ORD PRE/473/2004 ESP</td>\n      <td>473</td>\n      <td>Orden PRE/473/2004, de 25 de febrero, por la q...</td>\n      <td>ESP</td>\n      <td>España</td>\n      <td>NaN</td>\n      <td>M. Ambiente / Prevención</td>\n      <td>[1][2]</td>\n      <td>[Orden PRE/473/2004]</td>\n    </tr>\n    <tr>\n      <th>11661</th>\n      <td>ORD PRE/507/2008 ESP</td>\n      <td>507</td>\n      <td>Orden PRE/507/2008, de 26 de febrero, por la q...</td>\n      <td>ESP</td>\n      <td>España</td>\n      <td>NaN</td>\n      <td>M. Ambiente / Prevención</td>\n      <td>[1][2]</td>\n      <td>[Orden PRE/507/2008, Real Decreto 1054/2002]</td>\n    </tr>\n    <tr>\n      <th>11662</th>\n      <td>ORD PRE/52/2010 ESP</td>\n      <td>23/1/2010</td>\n      <td>Orden PRE/52/2010, de 21 de enero, por la que ...</td>\n      <td>ESP</td>\n      <td>España</td>\n      <td>NaN</td>\n      <td>Seguridad Vial</td>\n      <td>[5]</td>\n      <td>[Orden PRE/52/2010, Real Decreto 2822/1998]</td>\n    </tr>\n    <tr>\n      <th>11663</th>\n      <td>ORD PRE/531/2010 ESP</td>\n      <td>531</td>\n      <td>Orden PRE/531/2010, de 26 de febrero, por la q...</td>\n      <td>ESP</td>\n      <td>España</td>\n      <td>NaN</td>\n      <td>M. Ambiente / Prevención</td>\n      <td>[1][2]</td>\n      <td>[Orden PRE/531/2010, Real Decreto 2163/1994]</td>\n    </tr>\n    <tr>\n      <th>11664</th>\n      <td>ORD PRE/556/2005 ESP</td>\n      <td>556</td>\n      <td>Orden PRE/556/2005, de 10 de marzo, por la que...</td>\n      <td>ESP</td>\n      <td>España</td>\n      <td>NaN</td>\n      <td>M. Ambiente / Prevención</td>\n      <td>[1][2]</td>\n      <td>[Orden PRE/556/2005, Orden PRE/473/2004, Real ...</td>\n    </tr>\n    <tr>\n      <th>11665</th>\n      <td>ORD PRE/568/2009 ESP</td>\n      <td>568</td>\n      <td>Orden PRE/568/2009, de 5 de marzo, por la que ...</td>\n      <td>ESP</td>\n      <td>España</td>\n      <td>NaN</td>\n      <td>Prevención</td>\n      <td>[2]</td>\n      <td>[Orden PRE/568/2009, Real Decreto 258/1999]</td>\n    </tr>\n    <tr>\n      <th>11666</th>\n      <td>ORD PRE/628/2011 ESP</td>\n      <td>628</td>\n      <td>Orden PRE/628/2011, de 22 de marzo, por la que...</td>\n      <td>ESP</td>\n      <td>España</td>\n      <td>NaN</td>\n      <td>Seg. Alimentaria</td>\n      <td>[7]</td>\n      <td>[Orden PRE/628/2011, Real Decreto 866/2008]</td>\n    </tr>\n    <tr>\n      <th>11667</th>\n      <td>ORD PRE/629/2011 ESP</td>\n      <td>629</td>\n      <td>Orden PRE/629/2011, de 22 de marzo, por la que...</td>\n      <td>ESP</td>\n      <td>España</td>\n      <td>-</td>\n      <td>Seguridad Vial</td>\n      <td>[5]</td>\n      <td>[Orden PRE/629/2011, Real Decreto 2822/1998]</td>\n    </tr>\n    <tr>\n      <th>11668</th>\n      <td>ORD PRE/630/2011 ESP</td>\n      <td>630</td>\n      <td>Orden PRE/630/2011, de 23 de marzo, por la que...</td>\n      <td>ESP</td>\n      <td>España</td>\n      <td>NaN</td>\n      <td>M. Ambiente / Prevención</td>\n      <td>[1][2]</td>\n      <td>[Orden PRE/630/2011, Real Decreto 824/2005]</td>\n    </tr>\n    <tr>\n      <th>11669</th>\n      <td>ORD PRE/631/2011 ESP</td>\n      <td>631</td>\n      <td>Orden PRE/631/2011, de 23 de marzo, por la que...</td>\n      <td>ESP</td>\n      <td>España</td>\n      <td>NaN</td>\n      <td>M. Ambiente / Prevención</td>\n      <td>[1][2]</td>\n      <td>[Orden PRE/631/2011, Real Decreto 2163/1994]</td>\n    </tr>\n    <tr>\n      <th>11670</th>\n      <td>ORD PRE/662/2013 ESP</td>\n      <td>662</td>\n      <td>Orden PRE/662/2013, de 22 de abril, por la que...</td>\n      <td>ESP</td>\n      <td>España</td>\n      <td>NaN</td>\n      <td>M. Ambiente / Prevención</td>\n      <td>[1][2]</td>\n      <td>[Orden PRE/662/2013, Real Decreto 1054/2002]</td>\n    </tr>\n    <tr>\n      <th>11671</th>\n      <td>ORD PRE/675/2013 ESP</td>\n      <td>675</td>\n      <td>Orden PRE/675/2013, de 22 de abril, por la que...</td>\n      <td>ESP</td>\n      <td>España</td>\n      <td>NaN</td>\n      <td>M. Ambiente / Prevención</td>\n      <td>[1][2]</td>\n      <td>[Orden PRE/675/2013, Real Decreto 1054/2002]</td>\n    </tr>\n    <tr>\n      <th>11672</th>\n      <td>ORD PRE/690/2005 ESP</td>\n      <td>690</td>\n      <td>Orden PRE/690/2005, de 18 de marzo, por la que...</td>\n      <td>ESP</td>\n      <td>España</td>\n      <td>NaN</td>\n      <td>M. Ambiente / Prevención</td>\n      <td>[1][2]</td>\n      <td>[Orden PRE/690/2005]</td>\n    </tr>\n    <tr>\n      <th>11673</th>\n      <td>ORD PRE/696/2008 ESP</td>\n      <td>696</td>\n      <td>Orden PRE/696/2008, de 7 de marzo, por la que ...</td>\n      <td>ESP</td>\n      <td>España</td>\n      <td>NaN</td>\n      <td>M. Ambiente / Prevención</td>\n      <td>[1][2]</td>\n      <td>[Orden PRE/696/2008, Real Decreto 2163/1994]</td>\n    </tr>\n    <tr>\n      <th>11674</th>\n      <td>ORD PRE/730/2003 ESP</td>\n      <td>730</td>\n      <td>Orden PRE/730/2003, de 25 de marzo, por la que...</td>\n      <td>ESP</td>\n      <td>España</td>\n      <td>NaN</td>\n      <td>M. Ambiente / Prevención</td>\n      <td>[1][2]</td>\n      <td>[Orden PRE/730/2003, Real Decreto 1406/1989]</td>\n    </tr>\n    <tr>\n      <th>11675</th>\n      <td>ORD PRE/77/2008 ESP</td>\n      <td>77</td>\n      <td>Orden PRE/77/2008, de 17 de enero, por la que ...</td>\n      <td>ESP</td>\n      <td>España</td>\n      <td>NaN</td>\n      <td>M. Ambiente</td>\n      <td>[1]</td>\n      <td>[Orden PRE/77/2008]</td>\n    </tr>\n    <tr>\n      <th>11676</th>\n      <td>ORD PRE/772/2016 ESP</td>\n      <td>772</td>\n      <td>Orden PRE/772/2016, de 19 de mayo, por la que ...</td>\n      <td>ESP</td>\n      <td>España</td>\n      <td>NaN</td>\n      <td>M. Ambiente</td>\n      <td>[1]</td>\n      <td>[Orden PRE/772/2016, Real Decreto 219/2013]</td>\n    </tr>\n    <tr>\n      <th>11677</th>\n      <td>ORD PRE/777/2009 ESP</td>\n      <td>777</td>\n      <td>Orden PRE/777/2009, de 26 de marzo, por la que...</td>\n      <td>ESP</td>\n      <td>España</td>\n      <td>NaN</td>\n      <td>M. Ambiente / Prevención</td>\n      <td>[1][2]</td>\n      <td>[Orden PRE/777/2009, Real Decreto 2163/1994]</td>\n    </tr>\n    <tr>\n      <th>11678</th>\n      <td>ORD PRE/777/2011 ESP</td>\n      <td>777</td>\n      <td>Orden PRE/777/2011, de 4 de abril, por la que ...</td>\n      <td>ESP</td>\n      <td>España</td>\n      <td>NaN</td>\n      <td>M. Ambiente / Prevención</td>\n      <td>[1][2]</td>\n      <td>[Orden PRE/777/2011, Real Decreto 1054/2002]</td>\n    </tr>\n    <tr>\n      <th>11679</th>\n      <td>ORD PRE/839/2010 ESP</td>\n      <td>839</td>\n      <td>Orden PRE/839/2010, de 29 de marzo, por la que...</td>\n      <td>ESP</td>\n      <td>España</td>\n      <td>NaN</td>\n      <td>M. Ambiente / Prevención</td>\n      <td>[1][2]</td>\n      <td>[Orden PRE/839/2010, Real Decreto 2163/1994]</td>\n    </tr>\n  </tbody>\n</table>\n</div>"
     },
     "metadata": {},
     "execution_count": 719
    }
   ],
   "source": [
    "ASECORP_BBDD_BOE[1200:1250]"
   ]
  },
  {
   "cell_type": "code",
   "execution_count": 720,
   "metadata": {},
   "outputs": [],
   "source": [
    "# titulo"
   ]
  },
  {
   "cell_type": "code",
   "execution_count": 721,
   "metadata": {},
   "outputs": [
    {
     "output_type": "execute_result",
     "data": {
      "text/plain": [
       "2959"
      ]
     },
     "metadata": {},
     "execution_count": 721
    }
   ],
   "source": [
    "len(titulo)"
   ]
  },
  {
   "cell_type": "code",
   "execution_count": 722,
   "metadata": {},
   "outputs": [],
   "source": [
    "## Busca patrones regex definidos en columna títulos del DF \n",
    "boletin = []\n",
    "for i, row in ASECORP_BBDD_BOE.iterrows():\n",
    "    boletin.append(str(re.findall('|'.join(pattern), row['Titulo'], flags=re.IGNORECASE)))"
   ]
  },
  {
   "cell_type": "code",
   "execution_count": 723,
   "metadata": {},
   "outputs": [
    {
     "output_type": "execute_result",
     "data": {
      "text/plain": [
       "['[]',\n",
       " '[]',\n",
       " '[]',\n",
       " '[]',\n",
       " '[]',\n",
       " '[]',\n",
       " '[]',\n",
       " '[]',\n",
       " '[]',\n",
       " '[]',\n",
       " '[]',\n",
       " '[]',\n",
       " '[]',\n",
       " '[]',\n",
       " '[]',\n",
       " \"['Acuerdo Multilateral M-150']\",\n",
       " \"['Acuerdo Multilateral M-159']\",\n",
       " \"['Acuerdo multilateral M-168']\",\n",
       " \"['Acuerdo Multilateral M-170']\",\n",
       " \"['Acuerdo Multilateral M-171']\",\n",
       " \"['Acuerdo Multilateral M-173']\",\n",
       " \"['Acuerdo Multilateral M-175']\",\n",
       " '[]',\n",
       " \"['Acuerdo Multilateral M-178']\",\n",
       " \"['Acuerdo Multilateral M-198']\"]"
      ]
     },
     "metadata": {},
     "execution_count": 723
    }
   ],
   "source": [
    "boletin[0:25]"
   ]
  },
  {
   "cell_type": "code",
   "execution_count": 724,
   "metadata": {},
   "outputs": [],
   "source": [
    "## Para cada fila de la BBDD recoge la expresión REGEX encontrada y si no existe no la incluye \n",
    "## en la lista resultante llamada 'boletin'. Además si no detecta expresión la cuenta como vacía\n",
    "## en variable 'n_vacios', y la añade a la lista 'vacios' para inspeccionar posteriormente \n",
    "boletin = []\n",
    "vacios = []\n",
    "n_vacios = 0\n",
    "for i, row in ASECORP_BBDD_BOE.iterrows():\n",
    "    regex_result = re.findall('|'.join(pattern), row['Titulo'], flags=re.IGNORECASE)\n",
    "    if len(regex_result) != 0:\n",
    "        boletin.append(re.findall('|'.join(pattern), row['Titulo'], flags=re.IGNORECASE))\n",
    "    else:\n",
    "        n_vacios += 1\n",
    "        vacios.append(row['Titulo'])"
   ]
  },
  {
   "cell_type": "code",
   "execution_count": 725,
   "metadata": {},
   "outputs": [
    {
     "output_type": "execute_result",
     "data": {
      "text/plain": [
       "276"
      ]
     },
     "metadata": {},
     "execution_count": 725
    }
   ],
   "source": [
    "n_vacios"
   ]
  },
  {
   "cell_type": "code",
   "execution_count": 726,
   "metadata": {},
   "outputs": [
    {
     "output_type": "execute_result",
     "data": {
      "text/plain": [
       "['Acuerdo Multilateral RID 1/2020 en virtud de la Sección 1.5.1 del Reglamento del Transporte Internacional de Mercancías Peligrosas por Ferrocarril (RID), relativo a los certificados de consejeros de seguridad de conformidad con el punto 1.8.3.7 del RID, hecho en Madrid el 25 de marzo de 2020',\n",
       " 'Entrada en vigor del Acuerdo entre el Reino de España y el Principado de Andorra sobre traslado y gestión de residuos, hecho en Madrid el 17 de octubre de 2006.',\n",
       " 'Aplicación provisional del Acuerdo entre el Reino de España y el Principado de Andorra sobre traslado y gestión de residuos, hecho en Madrid el 17 de octubre de 2006.',\n",
       " 'Acuerdo de la Junta de Gobierno de la Confederación Hidrográfica del Segura celebrada el día 30 de octubre de 2018 sobre aplicación de indisponibilidad o reducción de dotaciones de acuerdo al Plan Especial de Sequía y al Real Decreto que la regula',\n",
       " 'Acuerdo Multilateral RID 2/2020 en virtud de la Sección 1.5.1 del Reglamento del Transporte Internacional de Mercancías Peligrosas por Ferrocarril (RID), relativo a inspecciones periódicas o intermedias de cisternas de conformidad con los apartados 6.8.2.4.2, 6.8.2.4.3, 6.8.3.4.6, 6.8.3.4.12, 6.9.5.2 y 6.10.4 del RID, hecho en Madrid el 25 de marzo de 2020',\n",
       " 'Entrada en vigor del Acuerdo entre el Reino de España y el Principado de Andorra sobre el traslado de residuos, hecho en Madrid el 29 de noviembre de 2011.',\n",
       " 'Acuerdo Multilateral RID 1/2013 en aplicación de la Sección 1.5.1 del Reglamento del Transporte Internacional de Mercancías Peligrosas por Ferrocarril (RID), relativo al cambio de referencia a la norma EN ISO/IEC 17020:2004 por la referencia a la norma EN ISO/IEC 17020:2012 (excepto cláusula 8.1.3), hecho en Madrid el 26 de junio de 2013.',\n",
       " 'Canje de Notas por el que se procede a la prórroga del mantenimiento en vigor del Acuerdo entre el Reino de España y el Principado de Andorra sobre traslado y gestión de residuos, hecho en Madrid el 27 de enero de 2000.',\n",
       " 'Aplicación provisional del Acuerdo entre el Reino de España y el Principado de Andorra sobre el traslado de residuos, hecho en Madrid el 29 de noviembre de 2011.',\n",
       " 'Plan de Acción de Ahorro y Eficiencia Energética  2011-2020, del 29 de julio de 2011 (IDAE)',\n",
       " 'Acuerdo Especial Multilateral RID 3/2020 en virtud de la Sección 1.5.1 del Reglamento del Transporte Internacional de Mercancías Peligrosas por Ferrocarril (RID), relativo a la inspección periódica y ensayo de recipientes a presión para el transporte de gases de la Clase 2, hecho en Madrid el 2 de abril de 2020',\n",
       " 'Acuerdo Multilateral RID 3/2007 en virtud de la Sección 1.5.1. del Reglamento del Transporte Internacional de Mercancías Peligrosas por Ferrocarril (RID), (publicado en el «Boletín Oficial del Estado» nº 59 de 9 de marzo de 2007) relativo al transporte de acuerdo con la disposición especial de embalaje PP1 de la instrucción de embalaje P001, hecho en Madrid el 30 de abril de 2008.',\n",
       " 'Acuerdo Multilateral RID 4/2009 en virtud de la Sección 1.5.1. del Reglamento del Transporte Internacional de Mercancías Peligrosas por Ferrocarril (RID), (publicado en el «Boletín Oficial del Estado» n.º 59 de 9 de marzo de 2007) relativo a las placas naranja para fijarse al vagón transportista usado para el transporte carretera-ferrocarril (ferroutage), hecho en Madrid a 14 de junio de 2010.',\n",
       " 'Acuerdo Especial Multilateral RID 4/2020 en virtud de la Sección 1.5.1 del Reglamento del Transporte Internacional de Mercancías Peligrosas por Ferrocarril (RID), sobre inspecciones periódicas o intermedias de cisternas portátiles y contenedores de gas de elementos múltiples (CGEM) certificados «UN» de acuerdo con los apartados 6.7.2.19.2, 6.7.3.15.2, 6.7.4.14.2 y 6.7.5.12.2 del RID, hecho en Madrid el 2 de abril de 2020',\n",
       " 'Acuerdo Especial Multilateral RID 8.2020 en virtud de la sección 1.5.1 del RID, relativo a la inspección periódica y ensayo de recipientes a presión para el transporte de gases de la Clase 2, hecho en Madrid el 1 de diciembre de 2020',\n",
       " 'Acuerdo multilateral ADR M-177 en virtud de la sección 1.5.1 del Acuerdo Europeo sobre transporte internacional de mercancías peligrosas por carretera (ADR), publicado en el «Boletín Oficial del Estado» n.º 18, de 21 de enero de 2005, relativo al documento de transporte en operaciones de venta en ruta, hecho en Madrid el 23 de junio de 2006.',\n",
       " 'Acuerdo Multilateral M 269 en aplicación de la sección 1.5.1 del Acuerdo Europeo sobre transporte internacional de mercancías peligrosas por carretera (ADR), relativo al marcado de los números UN en botellas para gases licuados del petróleo (GLP), hecho en Madrid el 20 de diciembre de 2013.',\n",
       " 'Acuerdo  Multilateral  M  300  en  aplicación  de  la  sección  1.5.1  del  Acuerdo Europeo sobre transporte internacional de mercancías peligrosas por carretera (ADR), relativo al documento de transporte en operaciones de venta en ruta, hecho en Madrid el 11 de julio de 2016',\n",
       " 'Acuerdo Multilateral M 304 en aplicación de la sección 1.5.1 del AcuerdoEuropeo sobre transporte internacional de mercancías peligrosas por carretera(ADR), relativo al número de remolques en una unidad de transporte demercancías peligrosas, hecho en Madrid el 30 de enero de 2017',\n",
       " 'Acuerdo Multilateral M 311 en virtud de la sección 1.5.1 del Anexo A del Acuerdo Europeo sobre transporte internacional de mercancías peligrosas por carretera (ADR), relativo al marcado (placas etiqueta) de contenedores usados exclusivamente en una operación de transporte por carretera, hecho en Madrid el 22 de marzo de 2018',\n",
       " 'Acuerdo Multilateral M315 en virtud de la sección 1.5.1 del Anexo A del Acuerdo Europeo sobre transporte internacional de mercancías peligrosas por carretera (ADR), relativo al transporte de desechos contaminados con virus que causan fiebre hemorrágica, hecho en Madrid el 8 de julio de 2019',\n",
       " 'Acuerdo Multilateral M317 en virtud de la sección 1.5. del Acuerdo europeo sobre transporte internacional de mercancías peligrosas por carretera (ADR), relativo al transporte de desechos médicos sólidos o clínicos, Categoría A, hecho en Madrid el 23 de marzo de 2020',\n",
       " 'Acuerdo Multilateral M324 en virtud de la sección 1.5.1 del Acuerdo europeo sobre transporte internacional de mercancías peligrosas por carretera (ADR) relativo a los certificados de formación de los conductores de conformidad con el punto 8.2.2.8.2 del ADR y los certificados de consejeros de seguridad de conformidad con el punto 1.8.3.7 del ADR, hecho en Madrid el 23 de marzo de 2020',\n",
       " 'Acuerdo Multilateral M325 en virtud de la sección 1.5.1 del Acuerdo europeo sobre transporte internacional de mercancías peligrosas por carretera (ADR), relativo a inspecciones periódicas o intermedias de cisternas de conformidad con los apartados 6.8.2.4.2, 6.8.2.4.3, 6.8.3.4.6, 6.8.3.4.12, 6.9.5.2 y 6.10.4 del ADR, y los certificados de aprobación para vehículos de conformidad con el apartado 9.1.3.4 del ADR, hecho en Madrid el 23 de marzo de 2020',\n",
       " 'Acuerdo Multilateral M326 en virtud de la sección 1.5.1 del Acuerdo europeo sobre transporte internacional de mercancías peligrosas por carretera (ADR), relativo a la inspección periódica y ensayo de recipientes a presión del transporte de gases de la Clase 2, hecho en Madrid el 2 de abril de 2020']"
      ]
     },
     "metadata": {},
     "execution_count": 726
    }
   ],
   "source": [
    "vacios[0:25]"
   ]
  },
  {
   "cell_type": "code",
   "execution_count": 727,
   "metadata": {},
   "outputs": [
    {
     "output_type": "execute_result",
     "data": {
      "text/plain": [
       "[['Acuerdo Multilateral M-150'],\n",
       " ['Acuerdo Multilateral M-159'],\n",
       " ['Acuerdo multilateral M-168'],\n",
       " ['Acuerdo Multilateral M-170'],\n",
       " ['Acuerdo Multilateral M-171'],\n",
       " ['Acuerdo Multilateral M-173'],\n",
       " ['Acuerdo Multilateral M-175'],\n",
       " ['Acuerdo Multilateral M-178'],\n",
       " ['Acuerdo Multilateral M-198'],\n",
       " ['Acuerdo Multilateral M-214'],\n",
       " ['Acuerdo Multilateral M-218'],\n",
       " ['Acuerdo Multilateral M-226'],\n",
       " ['Acuerdo Multilateral M-228'],\n",
       " ['Acuerdo Multilateral M-231'],\n",
       " ['Acuerdo Multilateral M-236'],\n",
       " ['Acuerdo Multilateral M-245'],\n",
       " ['Acuerdo Multilateral M-254'],\n",
       " ['Acuerdo Multilateral M-259'],\n",
       " ['Acuerdo Multilateral M-265'],\n",
       " ['Acuerdo Multilateral M-268'],\n",
       " ['Acuerdo Multilateral M-271'],\n",
       " ['Acuerdo Multilateral M-273'],\n",
       " ['Acuerdo Multilateral M-276'],\n",
       " ['Acuerdo Multilateral M-291'],\n",
       " ['Acuerdo Multilateral M-292']]"
      ]
     },
     "metadata": {},
     "execution_count": 727
    }
   ],
   "source": [
    "boletin[0:25]"
   ]
  },
  {
   "cell_type": "code",
   "execution_count": 728,
   "metadata": {},
   "outputs": [],
   "source": [
    "# Flatten list of lists\n",
    "boletin_ASECORP_flat_list = [item for sublist in boletin for item in sublist]"
   ]
  },
  {
   "cell_type": "code",
   "execution_count": 729,
   "metadata": {},
   "outputs": [
    {
     "output_type": "execute_result",
     "data": {
      "text/plain": [
       "['Acuerdo Multilateral M-150',\n",
       " 'Acuerdo Multilateral M-159',\n",
       " 'Acuerdo multilateral M-168',\n",
       " 'Acuerdo Multilateral M-170',\n",
       " 'Acuerdo Multilateral M-171',\n",
       " 'Acuerdo Multilateral M-173',\n",
       " 'Acuerdo Multilateral M-175',\n",
       " 'Acuerdo Multilateral M-178',\n",
       " 'Acuerdo Multilateral M-198',\n",
       " 'Acuerdo Multilateral M-214',\n",
       " 'Acuerdo Multilateral M-218',\n",
       " 'Acuerdo Multilateral M-226',\n",
       " 'Acuerdo Multilateral M-228',\n",
       " 'Acuerdo Multilateral M-231',\n",
       " 'Acuerdo Multilateral M-236',\n",
       " 'Acuerdo Multilateral M-245',\n",
       " 'Acuerdo Multilateral M-254',\n",
       " 'Acuerdo Multilateral M-259',\n",
       " 'Acuerdo Multilateral M-265',\n",
       " 'Acuerdo Multilateral M-268',\n",
       " 'Acuerdo Multilateral M-271',\n",
       " 'Acuerdo Multilateral M-273',\n",
       " 'Acuerdo Multilateral M-276',\n",
       " 'Acuerdo Multilateral M-291',\n",
       " 'Acuerdo Multilateral M-292']"
      ]
     },
     "metadata": {},
     "execution_count": 729
    }
   ],
   "source": [
    "boletin_ASECORP_flat_list[0:25]"
   ]
  },
  {
   "cell_type": "code",
   "execution_count": 730,
   "metadata": {},
   "outputs": [],
   "source": [
    "## Elimina duplicados\n",
    "boletin_ASECORP_flat_list = list(set(boletin_ASECORP_flat_list))"
   ]
  },
  {
   "cell_type": "code",
   "execution_count": 731,
   "metadata": {},
   "outputs": [
    {
     "output_type": "execute_result",
     "data": {
      "text/plain": [
       "['Orden CTE/2723/2002',\n",
       " 'Orden de 11 de Octubre de 1988',\n",
       " 'Real Decreto 244/2016',\n",
       " 'Resolución de 17 de marzo de 2011',\n",
       " 'Circular 3/2018',\n",
       " 'Orden TEC/1171/2018',\n",
       " 'Ley 9/2003',\n",
       " 'Real Decreto 335/2016',\n",
       " 'Real Decreto 128/2013',\n",
       " 'Real Decreto-ley 6/2009',\n",
       " 'Resolución de 9 de octubre de 2009',\n",
       " 'Orden PRE/252/2006',\n",
       " 'Real Decreto 1311/2012',\n",
       " 'Real Decreto 178/2004',\n",
       " 'Real Decreto 102/2011',\n",
       " 'Real Decreto 777/2006',\n",
       " 'Orden TEC/427/2019',\n",
       " 'Orden de 7 de marzo de 1981',\n",
       " 'Real Decreto 451/2020',\n",
       " 'ley 34/1992',\n",
       " 'Resolución de 26 de marzo de 2020',\n",
       " 'Ley 6/2001',\n",
       " 'Real Decreto 237/2000',\n",
       " 'Ley 43/2003',\n",
       " 'Real Decreto 201/2012']"
      ]
     },
     "metadata": {},
     "execution_count": 731
    }
   ],
   "source": [
    "boletin_ASECORP_flat_list[0:25]"
   ]
  },
  {
   "cell_type": "code",
   "execution_count": 732,
   "metadata": {},
   "outputs": [
    {
     "output_type": "execute_result",
     "data": {
      "text/plain": [
       "{'Ley 21/1992',\n",
       " 'Ley 21/2013',\n",
       " 'Ley 22/2011',\n",
       " 'Ley 24/2013',\n",
       " 'Ley 30/1992',\n",
       " 'Ley 31/1995',\n",
       " 'Ley 34/2007',\n",
       " 'Ley 37/2003',\n",
       " 'Ley 9/2003',\n",
       " 'Ley 9/2017',\n",
       " 'Real Decreto 105/2008',\n",
       " 'Real Decreto 110/2015',\n",
       " 'Real Decreto 1890/2008',\n",
       " 'Real Decreto 212/2002',\n",
       " 'Real Decreto 524/2006',\n",
       " 'Real Decreto 952/1997',\n",
       " 'Real Decreto Legislativo 1/2001',\n",
       " 'Real Decreto Legislativo 2/2015',\n",
       " 'Real Decreto-ley 15/2018'}"
      ]
     },
     "metadata": {},
     "execution_count": 732
    }
   ],
   "source": [
    "## Busca coincidencias entre lista boletines BOEs explorados y lista boletines de BBDD ASECORP\n",
    "set(boletin_flat_list) & set(boletin_ASECORP_flat_list)"
   ]
  },
  {
   "cell_type": "code",
   "execution_count": 733,
   "metadata": {},
   "outputs": [
    {
     "output_type": "stream",
     "name": "stdout",
     "text": [
      "{'Ley 31/1995'}\n",
      "{'Ley 31/1995'}\n",
      "{'Real Decreto Legislativo 2/2015'}\n",
      "{'Ley 31/1995'}\n",
      "{'Ley 31/1995'}\n",
      "{'Ley 9/2017'}\n",
      "{'Ley 30/1992'}\n",
      "{'Ley 22/2011'}\n",
      "{'Ley 22/2011'}\n",
      "{'Ley 22/2011'}\n",
      "{'Ley 22/2011'}\n",
      "{'Ley 22/2011'}\n",
      "{'Ley 22/2011'}\n",
      "{'Ley 22/2011'}\n",
      "{'Ley 22/2011'}\n",
      "{'Ley 22/2011'}\n",
      "{'Ley 22/2011'}\n",
      "{'Ley 9/2003'}\n",
      "{'Ley 9/2003'}\n",
      "{'Ley 9/2003'}\n",
      "{'Ley 9/2003'}\n",
      "{'Ley 9/2003'}\n",
      "{'Ley 9/2003'}\n",
      "{'Ley 9/2003'}\n",
      "{'Ley 9/2003'}\n",
      "{'Ley 9/2003'}\n",
      "{'Ley 9/2003'}\n",
      "{'Real Decreto Legislativo 1/2001'}\n",
      "{'Real Decreto Legislativo 1/2001'}\n",
      "{'Real Decreto Legislativo 1/2001'}\n",
      "{'Real Decreto Legislativo 1/2001'}\n",
      "{'Real Decreto Legislativo 1/2001'}\n",
      "{'Real Decreto Legislativo 1/2001'}\n",
      "{'Real Decreto Legislativo 1/2001'}\n",
      "{'Ley 24/2013'}\n",
      "{'Ley 24/2013'}\n",
      "{'Real Decreto-ley 15/2018'}\n",
      "{'Real Decreto-ley 15/2018'}\n",
      "{'Real Decreto Legislativo 1/2001'}\n",
      "{'Ley 21/2013'}\n",
      "{'Ley 22/2011'}\n",
      "{'Ley 31/1995'}\n",
      "{'Ley 34/2007'}\n",
      "{'Ley 37/2003'}\n",
      "{'Ley 22/2011'}\n",
      "{'Ley 21/2013'}\n",
      "{'Ley 22/2011'}\n",
      "{'Real Decreto Legislativo 1/2001'}\n",
      "{'Ley 22/2011'}\n",
      "{'Ley 22/2011'}\n",
      "{'Ley 22/2011'}\n",
      "{'Ley 22/2011'}\n",
      "{'Ley 37/2003'}\n",
      "{'Ley 22/2011'}\n",
      "{'Ley 22/2011'}\n",
      "{'Ley 22/2011'}\n",
      "{'Ley 37/2003'}\n",
      "{'Ley 34/2007'}\n",
      "{'Real Decreto 105/2008'}\n",
      "{'Real Decreto 110/2015'}\n",
      "{'Ley 37/2003'}\n",
      "{'Ley 37/2003'}\n",
      "{'Ley 31/1995'}\n",
      "{'Real Decreto 1890/2008'}\n",
      "{'Real Decreto 212/2002'}\n",
      "{'Real Decreto 110/2015'}\n",
      "{'Real Decreto 212/2002', 'Real Decreto 524/2006'}\n",
      "{'Real Decreto Legislativo 1/2001'}\n",
      "{'Real Decreto 952/1997'}\n",
      "{'Real Decreto Legislativo 1/2001'}\n",
      "{'Real Decreto Legislativo 1/2001'}\n",
      "{'Real Decreto Legislativo 1/2001'}\n",
      "{'Real Decreto Legislativo 1/2001'}\n",
      "{'Ley 31/1995'}\n",
      "{'Ley 31/1995'}\n",
      "{'Ley 21/2013'}\n",
      "{'Ley 21/2013'}\n",
      "{'Ley 21/2013'}\n",
      "{'Ley 21/1992'}\n",
      "{'Ley 24/2013'}\n",
      "{'Ley 21/1992'}\n",
      "{'Ley 24/2013'}\n",
      "{'Ley 21/1992'}\n",
      "{'Ley 21/1992'}\n",
      "{'Ley 24/2013'}\n",
      "{'Ley 24/2013'}\n"
     ]
    }
   ],
   "source": [
    "#DOCM_sumarios['Tags'].isin(ASECORP_BBDD_BOE['Tags'])\n",
    "for row_to_compare in DOCM_sumarios['Tags']:\n",
    "    for row_comparing in ASECORP_BBDD_BOE['Tags']:\n",
    "        if set(row_comparing) & set(row_to_compare):\n",
    "            print(set(row_comparing) & set(row_to_compare))"
   ]
  },
  {
   "cell_type": "code",
   "execution_count": 734,
   "metadata": {},
   "outputs": [
    {
     "output_type": "stream",
     "name": "stdout",
     "text": [
      "{'Ley 31/1995'} LEY 31/1995 ESP\n",
      "{'Ley 31/1995'} RD 171/2004 ESP\n",
      "{'Real Decreto Legislativo 2/2015'} RDG 2/2015 ESP\n",
      "{'Ley 31/1995'} RES 29/5/2017 ESP\n",
      "{'Ley 31/1995'} RES 5/11/2010 ESP\n",
      "{'Ley 9/2017'} LEY 9/2017 ESP\n",
      "{'Ley 30/1992'} RD 1771/1994 ESP\n",
      "{'Ley 22/2011'} LEY 22/2011 ESP\n",
      "{'Ley 22/2011'} LEY 5/2013 ESP\n",
      "{'Ley 22/2011'} ORD AAA/699/2016 ESP\n",
      "{'Ley 22/2011'} ORD APM/189/2018 ESP\n",
      "{'Ley 22/2011'} ORD APM/205/2018 ESP\n",
      "{'Ley 22/2011'} ORD APM/206/2018 ESP\n",
      "{'Ley 22/2011'} ORD APM/397/2018 ESP\n",
      "{'Ley 22/2011'} ORD TEC/852/2019 ESP\n",
      "{'Ley 22/2011'} ORD TED/363/2020 ESP\n",
      "{'Ley 22/2011'} ORD TED/426/2020 ESP\n",
      "{'Ley 9/2003'} LEY 9/2003 ESP\n",
      "{'Ley 9/2003'} RD 178/2004 ESP\n",
      "{'Ley 9/2003'} RD 191/2013 ESP\n",
      "{'Ley 9/2003'} RD 364/2017 ESP\n",
      "{'Ley 9/2003'} RD 452/2019 ESP\n",
      "{'Ley 9/2003'} LEY 9/2003 ESP\n",
      "{'Ley 9/2003'} RD 178/2004 ESP\n",
      "{'Ley 9/2003'} RD 191/2013 ESP\n",
      "{'Ley 9/2003'} RD 364/2017 ESP\n",
      "{'Ley 9/2003'} RD 452/2019 ESP\n",
      "{'Real Decreto Legislativo 1/2001'} LEY 1/2018 ESP\n",
      "{'Real Decreto Legislativo 1/2001'} ORD APA/1401/2018 ESP\n",
      "{'Real Decreto Legislativo 1/2001'} RD 849/1986 ESP\n",
      "{'Real Decreto Legislativo 1/2001'} RDG 1/2001 ESP\n",
      "{'Real Decreto Legislativo 1/2001'} RDL 10/2017 ESP\n",
      "{'Real Decreto Legislativo 1/2001'} RDL 4/2007 ESP\n",
      "{'Real Decreto Legislativo 1/2001'} RES 22/6/2017 ESP (2)\n",
      "{'Ley 24/2013'} LEY 24/2013 ESP\n",
      "{'Ley 24/2013'} ORD IET/338/2014 ESP\n",
      "{'Real Decreto-ley 15/2018'} RDL 15/2018 ESP\n",
      "{'Real Decreto-ley 15/2018'} STC 134/2020 ESP\n",
      "{'Real Decreto Legislativo 1/2001'} LEY 1/2018 ESP\n",
      "{'Ley 21/2013'} LEY 21/2013 ESP\n",
      "{'Ley 22/2011'} LEY 22/2011 ESP\n",
      "{'Ley 31/1995'} LEY 31/1995 ESP\n",
      "{'Ley 34/2007'} LEY 34/2007 ESP\n",
      "{'Ley 37/2003'} LEY 37/2003 ESP\n",
      "{'Ley 22/2011'} LEY 5/2013 ESP\n",
      "{'Ley 21/2013'} LEY 9/2018 ESP\n",
      "{'Ley 22/2011'} ORD AAA/699/2016 ESP\n",
      "{'Real Decreto Legislativo 1/2001'} ORD APA/1401/2018 ESP\n",
      "{'Ley 22/2011'} ORD APM/189/2018 ESP\n",
      "{'Ley 22/2011'} ORD APM/205/2018 ESP\n",
      "{'Ley 22/2011'} ORD APM/206/2018 ESP\n",
      "{'Ley 22/2011'} ORD APM/397/2018 ESP\n",
      "{'Ley 37/2003'} ORD PCI/1319/2018 ESP\n",
      "{'Ley 22/2011'} ORD TEC/852/2019 ESP\n",
      "{'Ley 22/2011'} ORD TED/363/2020 ESP\n",
      "{'Ley 22/2011'} ORD TED/426/2020 ESP\n",
      "{'Ley 37/2003'} RD 1038/2012 ESP\n",
      "{'Ley 34/2007'} RD 1042/2017 ESP\n",
      "{'Real Decreto 105/2008'} RD 105/2008 ESP\n",
      "{'Real Decreto 110/2015'} RD 110/2015 ESP\n",
      "{'Ley 37/2003'} RD 1367/2007 ESP\n",
      "{'Ley 37/2003'} RD 1513/2005 ESP\n",
      "{'Ley 31/1995'} RD 171/2004 ESP\n",
      "{'Real Decreto 1890/2008'} RD 1890/2008 ESP\n",
      "{'Real Decreto 212/2002'} RD 212/2002 ESP\n",
      "{'Real Decreto 110/2015'} RD 27/2021 ESP\n",
      "{'Real Decreto 212/2002', 'Real Decreto 524/2006'} RD 524/2006 ESP\n",
      "{'Real Decreto Legislativo 1/2001'} RD 849/1986 ESP\n",
      "{'Real Decreto 952/1997'} RD 952/1997 ESP\n",
      "{'Real Decreto Legislativo 1/2001'} RDG 1/2001 ESP\n",
      "{'Real Decreto Legislativo 1/2001'} RDL 10/2017 ESP\n",
      "{'Real Decreto Legislativo 1/2001'} RDL 4/2007 ESP\n",
      "{'Real Decreto Legislativo 1/2001'} RES 22/6/2017 ESP (2)\n",
      "{'Ley 31/1995'} RES 29/5/2017 ESP\n",
      "{'Ley 31/1995'} RES 5/11/2010 ESP\n",
      "{'Ley 21/2013'} RES 8/3/2016 ESP\n",
      "{'Ley 21/2013'} STC 13/2015 ESP \n",
      "{'Ley 21/2013'} STC 53/2017 ESP\n",
      "{'Ley 21/1992'} LEY 21/1992 ESP\n",
      "{'Ley 24/2013'} LEY 24/2013 ESP\n",
      "{'Ley 21/1992'} ORD 29/6/1993 ESP\n",
      "{'Ley 24/2013'} ORD IET/338/2014 ESP\n",
      "{'Ley 21/1992'} RD 825/1993 ESP\n",
      "{'Ley 21/1992'} STC 29/6/2011 ESP\n",
      "{'Ley 24/2013'} LEY 24/2013 ESP\n",
      "{'Ley 24/2013'} ORD IET/338/2014 ESP\n"
     ]
    }
   ],
   "source": [
    "for i, row_to_compare in DOCM_sumarios.iterrows():\n",
    "    for j, row_comparing in ASECORP_BBDD_BOE.iterrows():\n",
    "        if set(row_to_compare['Tags']) & set(row_comparing['Tags']):\n",
    "            DOCM_sumarios['Match_ASECORP_BBDD'][i].append (ASECORP_BBDD_BOE['Codigo'][j])\n",
    "            print(str(set(row_to_compare['Tags']) & set(row_comparing['Tags'])) + ' ' + str(row_comparing['Codigo']))"
   ]
  },
  {
   "cell_type": "code",
   "execution_count": 744,
   "metadata": {},
   "outputs": [
    {
     "output_type": "execute_result",
     "data": {
      "text/plain": [
       "                                           item_Title  \\\n",
       "0   Sanidad. Procedimiento Ordinario 119/2021. [NI...   \n",
       "1   Régimen Local. Resolución de 05/02/2021, de la...   \n",
       "2   Función Pública. Resolución de 02/02/2021, de ...   \n",
       "3   Formación. Resolución de 05/02/2021, de la Dir...   \n",
       "4   Convenios. Resolución de 05/02/2021, de la Sec...   \n",
       "..                                                ...   \n",
       "63  Anuncio de 01/02/2021, del Ayuntamiento de Poz...   \n",
       "64  Anuncio de 29/01/2021, del Ayuntamiento de La ...   \n",
       "65  Anuncio de 05/02/2021, de la Empresa Pública G...   \n",
       "66  Anuncio de 05/02/2021, de la Empresa Pública G...   \n",
       "67  Anuncio de 05/02/2021, de la Empresa Pública G...   \n",
       "\n",
       "                                         item_urlHTML  \\\n",
       "0   https://docm.jccm.es/portaldocm/detalleDocumen...   \n",
       "1   https://docm.jccm.es/portaldocm/detalleDocumen...   \n",
       "2   https://docm.jccm.es/portaldocm/detalleDocumen...   \n",
       "3   https://docm.jccm.es/portaldocm/detalleDocumen...   \n",
       "4   https://docm.jccm.es/portaldocm/detalleDocumen...   \n",
       "..                                                ...   \n",
       "63  https://docm.jccm.es/portaldocm/detalleDocumen...   \n",
       "64  https://docm.jccm.es/portaldocm/detalleDocumen...   \n",
       "65  https://docm.jccm.es/portaldocm/detalleDocumen...   \n",
       "66  https://docm.jccm.es/portaldocm/detalleDocumen...   \n",
       "67  https://docm.jccm.es/portaldocm/detalleDocumen...   \n",
       "\n",
       "                                          item_urlPDF        NID  \\\n",
       "0   https://docm.jccm.es/portaldocm/descargarArchi...  2021/1372   \n",
       "1   https://docm.jccm.es/portaldocm/descargarArchi...  2021/1231   \n",
       "2   https://docm.jccm.es/portaldocm/descargarArchi...  2021/1109   \n",
       "3   https://docm.jccm.es/portaldocm/descargarArchi...  2021/1248   \n",
       "4   https://docm.jccm.es/portaldocm/descargarArchi...  2021/1250   \n",
       "..                                                ...        ...   \n",
       "63  https://docm.jccm.es/portaldocm/descargarArchi...  2021/1122   \n",
       "64  https://docm.jccm.es/portaldocm/descargarArchi...  2021/1154   \n",
       "65  https://docm.jccm.es/portaldocm/descargarArchi...  2021/1202   \n",
       "66  https://docm.jccm.es/portaldocm/descargarArchi...  2021/1203   \n",
       "67  https://docm.jccm.es/portaldocm/descargarArchi...  2021/1205   \n",
       "\n",
       "   numero_diario numero_pagina       rango  \\\n",
       "0        29/2021          5362      Edicto   \n",
       "1        29/2021          5364  Resolución   \n",
       "2        29/2021          5365  Resolución   \n",
       "3        29/2021          5380  Resolución   \n",
       "4        29/2021          5504  Resolución   \n",
       "..           ...           ...         ...   \n",
       "63       29/2021          5595     Anuncio   \n",
       "64       29/2021          5596     Anuncio   \n",
       "65       29/2021          5597     Anuncio   \n",
       "66       29/2021          5598     Anuncio   \n",
       "67       29/2021          5599     Anuncio   \n",
       "\n",
       "                                        organo_emisor  \\\n",
       "0   Tribunal Superior de Justicia de Castilla-La M...   \n",
       "1   Viceconsejería de Administración Local y Coord...   \n",
       "2             Dirección General de la Función Pública   \n",
       "3             Dirección General de la Función Pública   \n",
       "4                Secretaría General de la Presidencia   \n",
       "..                                                ...   \n",
       "63               Ayuntamiento de Pozohondo (Albacete)   \n",
       "64  Ayuntamiento de La Villa de Don Fadrique (Toledo)   \n",
       "65  Empresa Pública Gestión Ambiental de Castilla-...   \n",
       "66  Empresa Pública Gestión Ambiental de Castilla-...   \n",
       "67  Empresa Pública Gestión Ambiental de Castilla-...   \n",
       "\n",
       "                                                 Tags  \\\n",
       "0   [Resolución de 28 de enero de 2021, Resolución...   \n",
       "1   [Ley 7/1985, Real Decreto 128/2018, Real Decre...   \n",
       "2   [Ley 40/2015, Ley 31/1995, Ley 12/2010, Real D...   \n",
       "3   [Ley 4/2011, Ley 40/2015, Ley 39/2015, Ley 40/...   \n",
       "4   [Ley 19/2013, Ley 19/2013, Ley 40/2015, Ley 40...   \n",
       "..                                                ...   \n",
       "63                                                 []   \n",
       "64                                                 []   \n",
       "65                                                 []   \n",
       "66                                                 []   \n",
       "67                                                 []   \n",
       "\n",
       "                                   Match_ASECORP_BBDD Fecha_publicacion  \n",
       "0                                                  []        2021-02-12  \n",
       "1                                                  []        2021-02-12  \n",
       "2   [LEY 31/1995 ESP, RD 171/2004 ESP, RDG 2/2015 ...        2021-02-12  \n",
       "3                  [LEY 9/2017 ESP, RD 1771/1994 ESP]        2021-02-12  \n",
       "4                                                  []        2021-02-12  \n",
       "..                                                ...               ...  \n",
       "63                                                 []        2021-02-12  \n",
       "64                                                 []        2021-02-12  \n",
       "65                                                 []        2021-02-12  \n",
       "66                                                 []        2021-02-12  \n",
       "67                                                 []        2021-02-12  \n",
       "\n",
       "[68 rows x 11 columns]"
      ],
      "text/html": "<div>\n<style scoped>\n    .dataframe tbody tr th:only-of-type {\n        vertical-align: middle;\n    }\n\n    .dataframe tbody tr th {\n        vertical-align: top;\n    }\n\n    .dataframe thead th {\n        text-align: right;\n    }\n</style>\n<table border=\"1\" class=\"dataframe\">\n  <thead>\n    <tr style=\"text-align: right;\">\n      <th></th>\n      <th>item_Title</th>\n      <th>item_urlHTML</th>\n      <th>item_urlPDF</th>\n      <th>NID</th>\n      <th>numero_diario</th>\n      <th>numero_pagina</th>\n      <th>rango</th>\n      <th>organo_emisor</th>\n      <th>Tags</th>\n      <th>Match_ASECORP_BBDD</th>\n      <th>Fecha_publicacion</th>\n    </tr>\n  </thead>\n  <tbody>\n    <tr>\n      <th>0</th>\n      <td>Sanidad. Procedimiento Ordinario 119/2021. [NI...</td>\n      <td>https://docm.jccm.es/portaldocm/detalleDocumen...</td>\n      <td>https://docm.jccm.es/portaldocm/descargarArchi...</td>\n      <td>2021/1372</td>\n      <td>29/2021</td>\n      <td>5362</td>\n      <td>Edicto</td>\n      <td>Tribunal Superior de Justicia de Castilla-La M...</td>\n      <td>[Resolución de 28 de enero de 2021, Resolución...</td>\n      <td>[]</td>\n      <td>2021-02-12</td>\n    </tr>\n    <tr>\n      <th>1</th>\n      <td>Régimen Local. Resolución de 05/02/2021, de la...</td>\n      <td>https://docm.jccm.es/portaldocm/detalleDocumen...</td>\n      <td>https://docm.jccm.es/portaldocm/descargarArchi...</td>\n      <td>2021/1231</td>\n      <td>29/2021</td>\n      <td>5364</td>\n      <td>Resolución</td>\n      <td>Viceconsejería de Administración Local y Coord...</td>\n      <td>[Ley 7/1985, Real Decreto 128/2018, Real Decre...</td>\n      <td>[]</td>\n      <td>2021-02-12</td>\n    </tr>\n    <tr>\n      <th>2</th>\n      <td>Función Pública. Resolución de 02/02/2021, de ...</td>\n      <td>https://docm.jccm.es/portaldocm/detalleDocumen...</td>\n      <td>https://docm.jccm.es/portaldocm/descargarArchi...</td>\n      <td>2021/1109</td>\n      <td>29/2021</td>\n      <td>5365</td>\n      <td>Resolución</td>\n      <td>Dirección General de la Función Pública</td>\n      <td>[Ley 40/2015, Ley 31/1995, Ley 12/2010, Real D...</td>\n      <td>[LEY 31/1995 ESP, RD 171/2004 ESP, RDG 2/2015 ...</td>\n      <td>2021-02-12</td>\n    </tr>\n    <tr>\n      <th>3</th>\n      <td>Formación. Resolución de 05/02/2021, de la Dir...</td>\n      <td>https://docm.jccm.es/portaldocm/detalleDocumen...</td>\n      <td>https://docm.jccm.es/portaldocm/descargarArchi...</td>\n      <td>2021/1248</td>\n      <td>29/2021</td>\n      <td>5380</td>\n      <td>Resolución</td>\n      <td>Dirección General de la Función Pública</td>\n      <td>[Ley 4/2011, Ley 40/2015, Ley 39/2015, Ley 40/...</td>\n      <td>[LEY 9/2017 ESP, RD 1771/1994 ESP]</td>\n      <td>2021-02-12</td>\n    </tr>\n    <tr>\n      <th>4</th>\n      <td>Convenios. Resolución de 05/02/2021, de la Sec...</td>\n      <td>https://docm.jccm.es/portaldocm/detalleDocumen...</td>\n      <td>https://docm.jccm.es/portaldocm/descargarArchi...</td>\n      <td>2021/1250</td>\n      <td>29/2021</td>\n      <td>5504</td>\n      <td>Resolución</td>\n      <td>Secretaría General de la Presidencia</td>\n      <td>[Ley 19/2013, Ley 19/2013, Ley 40/2015, Ley 40...</td>\n      <td>[]</td>\n      <td>2021-02-12</td>\n    </tr>\n    <tr>\n      <th>...</th>\n      <td>...</td>\n      <td>...</td>\n      <td>...</td>\n      <td>...</td>\n      <td>...</td>\n      <td>...</td>\n      <td>...</td>\n      <td>...</td>\n      <td>...</td>\n      <td>...</td>\n      <td>...</td>\n    </tr>\n    <tr>\n      <th>63</th>\n      <td>Anuncio de 01/02/2021, del Ayuntamiento de Poz...</td>\n      <td>https://docm.jccm.es/portaldocm/detalleDocumen...</td>\n      <td>https://docm.jccm.es/portaldocm/descargarArchi...</td>\n      <td>2021/1122</td>\n      <td>29/2021</td>\n      <td>5595</td>\n      <td>Anuncio</td>\n      <td>Ayuntamiento de Pozohondo (Albacete)</td>\n      <td>[]</td>\n      <td>[]</td>\n      <td>2021-02-12</td>\n    </tr>\n    <tr>\n      <th>64</th>\n      <td>Anuncio de 29/01/2021, del Ayuntamiento de La ...</td>\n      <td>https://docm.jccm.es/portaldocm/detalleDocumen...</td>\n      <td>https://docm.jccm.es/portaldocm/descargarArchi...</td>\n      <td>2021/1154</td>\n      <td>29/2021</td>\n      <td>5596</td>\n      <td>Anuncio</td>\n      <td>Ayuntamiento de La Villa de Don Fadrique (Toledo)</td>\n      <td>[]</td>\n      <td>[]</td>\n      <td>2021-02-12</td>\n    </tr>\n    <tr>\n      <th>65</th>\n      <td>Anuncio de 05/02/2021, de la Empresa Pública G...</td>\n      <td>https://docm.jccm.es/portaldocm/detalleDocumen...</td>\n      <td>https://docm.jccm.es/portaldocm/descargarArchi...</td>\n      <td>2021/1202</td>\n      <td>29/2021</td>\n      <td>5597</td>\n      <td>Anuncio</td>\n      <td>Empresa Pública Gestión Ambiental de Castilla-...</td>\n      <td>[]</td>\n      <td>[]</td>\n      <td>2021-02-12</td>\n    </tr>\n    <tr>\n      <th>66</th>\n      <td>Anuncio de 05/02/2021, de la Empresa Pública G...</td>\n      <td>https://docm.jccm.es/portaldocm/detalleDocumen...</td>\n      <td>https://docm.jccm.es/portaldocm/descargarArchi...</td>\n      <td>2021/1203</td>\n      <td>29/2021</td>\n      <td>5598</td>\n      <td>Anuncio</td>\n      <td>Empresa Pública Gestión Ambiental de Castilla-...</td>\n      <td>[]</td>\n      <td>[]</td>\n      <td>2021-02-12</td>\n    </tr>\n    <tr>\n      <th>67</th>\n      <td>Anuncio de 05/02/2021, de la Empresa Pública G...</td>\n      <td>https://docm.jccm.es/portaldocm/detalleDocumen...</td>\n      <td>https://docm.jccm.es/portaldocm/descargarArchi...</td>\n      <td>2021/1205</td>\n      <td>29/2021</td>\n      <td>5599</td>\n      <td>Anuncio</td>\n      <td>Empresa Pública Gestión Ambiental de Castilla-...</td>\n      <td>[]</td>\n      <td>[]</td>\n      <td>2021-02-12</td>\n    </tr>\n  </tbody>\n</table>\n<p>68 rows × 11 columns</p>\n</div>"
     },
     "metadata": {},
     "execution_count": 744
    }
   ],
   "source": [
    "DOCM_sumarios"
   ]
  },
  {
   "cell_type": "code",
   "execution_count": 736,
   "metadata": {},
   "outputs": [
    {
     "output_type": "execute_result",
     "data": {
      "text/plain": [
       "['LEY 31/1995 ESP',\n",
       " 'RD 171/2004 ESP',\n",
       " 'RDG 2/2015 ESP',\n",
       " 'RES 29/5/2017 ESP',\n",
       " 'RES 5/11/2010 ESP']"
      ]
     },
     "metadata": {},
     "execution_count": 736
    }
   ],
   "source": [
    "DOCM_sumarios['Match_ASECORP_BBDD'][2]"
   ]
  },
  {
   "cell_type": "code",
   "execution_count": 737,
   "metadata": {},
   "outputs": [
    {
     "output_type": "execute_result",
     "data": {
      "text/plain": [
       "['Ley 40/2015',\n",
       " 'Ley 31/1995',\n",
       " 'Ley 12/2010',\n",
       " 'Real Decreto Legislativo 5/2015',\n",
       " 'Ley 4/2011',\n",
       " 'Real Decreto Legislativo 2/2015',\n",
       " 'Ley 4/2011',\n",
       " 'Ley 12/2010',\n",
       " 'Ley 12/2010',\n",
       " 'Ley 12/2010',\n",
       " 'Ley 31/1995',\n",
       " 'Ley 12/2010',\n",
       " 'Ley 31/1995',\n",
       " 'Ley 40/2015',\n",
       " 'Ley 40/2015']"
      ]
     },
     "metadata": {},
     "execution_count": 737
    }
   ],
   "source": [
    "DOCM_sumarios['Tags'][2]"
   ]
  },
  {
   "source": [
    "# Genera Fichero EXCEL de resultados"
   ],
   "cell_type": "markdown",
   "metadata": {}
  },
  {
   "cell_type": "code",
   "execution_count": 837,
   "metadata": {},
   "outputs": [],
   "source": [
    "DOCM_sumarios_final = DOCM_sumarios"
   ]
  },
  {
   "cell_type": "code",
   "execution_count": 838,
   "metadata": {},
   "outputs": [],
   "source": [
    "## Cambia orden de columnas y elimina las no necesarias  \n",
    "DOCM_sumarios_final.rename(columns={'NID': 'Item_id', 'item_Title': 'Item_Title', 'item_urlPDF': 'PDF_Link'}, inplace=True)\n",
    "DOCM_sumarios_final = DOCM_sumarios[['Item_id','Item_Title','PDF_Link','Fecha_publicacion','Tags','Match_ASECORP_BBDD']]"
   ]
  },
  {
   "cell_type": "code",
   "execution_count": 839,
   "metadata": {},
   "outputs": [],
   "source": [
    "## Crea función que convierte lista a string en todas las columnas de DOCM_sumarios\n",
    "## para evitar en presentación final los caracteres [' '] propios de las listas\n",
    "def list2Str(lst):\n",
    "    if type(lst) is list: # apply conversion to list columns\n",
    "        return\", \".join(lst)\n",
    "    else:\n",
    "        return lst"
   ]
  },
  {
   "cell_type": "code",
   "execution_count": 840,
   "metadata": {},
   "outputs": [],
   "source": [
    "## Aplica función de conversión de listas a strings\n",
    "DOCM_sumarios_final = DOCM_sumarios_final.apply(lambda x: [list2Str(i) for i in x])"
   ]
  },
  {
   "cell_type": "code",
   "execution_count": 841,
   "metadata": {},
   "outputs": [
    {
     "output_type": "execute_result",
     "data": {
      "text/plain": [
       "     Item_id                                         Item_Title  \\\n",
       "0  2021/1372  Sanidad. Procedimiento Ordinario 119/2021. [NI...   \n",
       "1  2021/1231  Régimen Local. Resolución de 05/02/2021, de la...   \n",
       "2  2021/1109  Función Pública. Resolución de 02/02/2021, de ...   \n",
       "3  2021/1248  Formación. Resolución de 05/02/2021, de la Dir...   \n",
       "4  2021/1250  Convenios. Resolución de 05/02/2021, de la Sec...   \n",
       "5  2021/1194  Notificaciones. Notificación de 05/02/2021, de...   \n",
       "6  2021/1236  Sanciones. Notificación de 14/01/2021, de la D...   \n",
       "7  2021/1237  Sanciones. Notificación de 14/01/2021, de la D...   \n",
       "8  2021/1238  Sanciones. Notificación de 14/01/2021, de la D...   \n",
       "9  2021/1239  Sanciones. Notificación de 14/01/2021, de la D...   \n",
       "\n",
       "                                            PDF_Link Fecha_publicacion  \\\n",
       "0  https://docm.jccm.es/portaldocm/descargarArchi...        2021-02-12   \n",
       "1  https://docm.jccm.es/portaldocm/descargarArchi...        2021-02-12   \n",
       "2  https://docm.jccm.es/portaldocm/descargarArchi...        2021-02-12   \n",
       "3  https://docm.jccm.es/portaldocm/descargarArchi...        2021-02-12   \n",
       "4  https://docm.jccm.es/portaldocm/descargarArchi...        2021-02-12   \n",
       "5  https://docm.jccm.es/portaldocm/descargarArchi...        2021-02-12   \n",
       "6  https://docm.jccm.es/portaldocm/descargarArchi...        2021-02-12   \n",
       "7  https://docm.jccm.es/portaldocm/descargarArchi...        2021-02-12   \n",
       "8  https://docm.jccm.es/portaldocm/descargarArchi...        2021-02-12   \n",
       "9  https://docm.jccm.es/portaldocm/descargarArchi...        2021-02-12   \n",
       "\n",
       "                                                Tags  \\\n",
       "0  Resolución de 28 de enero de 2021, Resolución ...   \n",
       "1  Ley 7/1985, Real Decreto 128/2018, Real Decret...   \n",
       "2  Ley 40/2015, Ley 31/1995, Ley 12/2010, Real De...   \n",
       "3  Ley 4/2011, Ley 40/2015, Ley 39/2015, Ley 40/2...   \n",
       "4  Ley 19/2013, Ley 19/2013, Ley 40/2015, Ley 40/...   \n",
       "5  Ley 39/2015, Ley 39/2015, Ley 39/2015, Ley 29/...   \n",
       "6                           Ley 39/2015, Ley 39/2015   \n",
       "7                           Ley 39/2015, Ley 39/2015   \n",
       "8                           Ley 39/2015, Ley 39/2015   \n",
       "9                           Ley 39/2015, Ley 39/2015   \n",
       "\n",
       "                                  Match_ASECORP_BBDD  \n",
       "0                                                     \n",
       "1                                                     \n",
       "2  LEY 31/1995 ESP, RD 171/2004 ESP, RDG 2/2015 E...  \n",
       "3                   LEY 9/2017 ESP, RD 1771/1994 ESP  \n",
       "4                                                     \n",
       "5                                                     \n",
       "6                                                     \n",
       "7                                                     \n",
       "8                                                     \n",
       "9                                                     "
      ],
      "text/html": "<div>\n<style scoped>\n    .dataframe tbody tr th:only-of-type {\n        vertical-align: middle;\n    }\n\n    .dataframe tbody tr th {\n        vertical-align: top;\n    }\n\n    .dataframe thead th {\n        text-align: right;\n    }\n</style>\n<table border=\"1\" class=\"dataframe\">\n  <thead>\n    <tr style=\"text-align: right;\">\n      <th></th>\n      <th>Item_id</th>\n      <th>Item_Title</th>\n      <th>PDF_Link</th>\n      <th>Fecha_publicacion</th>\n      <th>Tags</th>\n      <th>Match_ASECORP_BBDD</th>\n    </tr>\n  </thead>\n  <tbody>\n    <tr>\n      <th>0</th>\n      <td>2021/1372</td>\n      <td>Sanidad. Procedimiento Ordinario 119/2021. [NI...</td>\n      <td>https://docm.jccm.es/portaldocm/descargarArchi...</td>\n      <td>2021-02-12</td>\n      <td>Resolución de 28 de enero de 2021, Resolución ...</td>\n      <td></td>\n    </tr>\n    <tr>\n      <th>1</th>\n      <td>2021/1231</td>\n      <td>Régimen Local. Resolución de 05/02/2021, de la...</td>\n      <td>https://docm.jccm.es/portaldocm/descargarArchi...</td>\n      <td>2021-02-12</td>\n      <td>Ley 7/1985, Real Decreto 128/2018, Real Decret...</td>\n      <td></td>\n    </tr>\n    <tr>\n      <th>2</th>\n      <td>2021/1109</td>\n      <td>Función Pública. Resolución de 02/02/2021, de ...</td>\n      <td>https://docm.jccm.es/portaldocm/descargarArchi...</td>\n      <td>2021-02-12</td>\n      <td>Ley 40/2015, Ley 31/1995, Ley 12/2010, Real De...</td>\n      <td>LEY 31/1995 ESP, RD 171/2004 ESP, RDG 2/2015 E...</td>\n    </tr>\n    <tr>\n      <th>3</th>\n      <td>2021/1248</td>\n      <td>Formación. Resolución de 05/02/2021, de la Dir...</td>\n      <td>https://docm.jccm.es/portaldocm/descargarArchi...</td>\n      <td>2021-02-12</td>\n      <td>Ley 4/2011, Ley 40/2015, Ley 39/2015, Ley 40/2...</td>\n      <td>LEY 9/2017 ESP, RD 1771/1994 ESP</td>\n    </tr>\n    <tr>\n      <th>4</th>\n      <td>2021/1250</td>\n      <td>Convenios. Resolución de 05/02/2021, de la Sec...</td>\n      <td>https://docm.jccm.es/portaldocm/descargarArchi...</td>\n      <td>2021-02-12</td>\n      <td>Ley 19/2013, Ley 19/2013, Ley 40/2015, Ley 40/...</td>\n      <td></td>\n    </tr>\n    <tr>\n      <th>5</th>\n      <td>2021/1194</td>\n      <td>Notificaciones. Notificación de 05/02/2021, de...</td>\n      <td>https://docm.jccm.es/portaldocm/descargarArchi...</td>\n      <td>2021-02-12</td>\n      <td>Ley 39/2015, Ley 39/2015, Ley 39/2015, Ley 29/...</td>\n      <td></td>\n    </tr>\n    <tr>\n      <th>6</th>\n      <td>2021/1236</td>\n      <td>Sanciones. Notificación de 14/01/2021, de la D...</td>\n      <td>https://docm.jccm.es/portaldocm/descargarArchi...</td>\n      <td>2021-02-12</td>\n      <td>Ley 39/2015, Ley 39/2015</td>\n      <td></td>\n    </tr>\n    <tr>\n      <th>7</th>\n      <td>2021/1237</td>\n      <td>Sanciones. Notificación de 14/01/2021, de la D...</td>\n      <td>https://docm.jccm.es/portaldocm/descargarArchi...</td>\n      <td>2021-02-12</td>\n      <td>Ley 39/2015, Ley 39/2015</td>\n      <td></td>\n    </tr>\n    <tr>\n      <th>8</th>\n      <td>2021/1238</td>\n      <td>Sanciones. Notificación de 14/01/2021, de la D...</td>\n      <td>https://docm.jccm.es/portaldocm/descargarArchi...</td>\n      <td>2021-02-12</td>\n      <td>Ley 39/2015, Ley 39/2015</td>\n      <td></td>\n    </tr>\n    <tr>\n      <th>9</th>\n      <td>2021/1239</td>\n      <td>Sanciones. Notificación de 14/01/2021, de la D...</td>\n      <td>https://docm.jccm.es/portaldocm/descargarArchi...</td>\n      <td>2021-02-12</td>\n      <td>Ley 39/2015, Ley 39/2015</td>\n      <td></td>\n    </tr>\n  </tbody>\n</table>\n</div>"
     },
     "metadata": {},
     "execution_count": 841
    }
   ],
   "source": [
    "  DOCM_sumarios_final[0:10]"
   ]
  },
  {
   "cell_type": "code",
   "execution_count": 842,
   "metadata": {},
   "outputs": [],
   "source": [
    "## Generar hyperlink a artículo BOE en CSV \"=HYPERLINK(\"https://www.boe.es/boe/dias/2021/02/02/pdfs/BOE-A-2021-1474.pdf\";\"BOE-A-2021-1474\")\"\n",
    "## https://www.boe.es/diario_boe/xml.php?id=## https://www.boe.es/boe/dias/2021/02/02/pdfs/BOE-A-2021-1474.pdf\n",
    "\n",
    "DOCM_sumarios_final_CSV = DOCM_sumarios_final"
   ]
  },
  {
   "cell_type": "code",
   "execution_count": 843,
   "metadata": {},
   "outputs": [],
   "source": [
    "DOCM_sumarios_final_CSV['Item_id'] = '=HIPERVINCULO(' + '\"' + DOCM_sumarios_final_CSV['PDF_Link'] + '\";' \\\n",
    "                                                        + '\"' + DOCM_sumarios_final_CSV['Item_id'] + '\")'                                                        "
   ]
  },
  {
   "cell_type": "code",
   "execution_count": 844,
   "metadata": {},
   "outputs": [
    {
     "output_type": "stream",
     "name": "stdout",
     "text": [
      "=HIPERVINCULO(\"https://docm.jccm.es/portaldocm/descargarArchivo.do?ruta=2021/02/12/pdf/2021_1372.pdf&tipo=rutaDocm\";\"2021/1372\")\n"
     ]
    }
   ],
   "source": [
    "print(DOCM_sumarios_final_CSV['Item_id'][0])"
   ]
  },
  {
   "cell_type": "code",
   "execution_count": 845,
   "metadata": {},
   "outputs": [],
   "source": [
    "# Elimina columna PDF_Link\n",
    "DOCM_sumarios_final_CSV = DOCM_sumarios_final_CSV[['Item_id','Item_Title','Fecha_publicacion','Tags','Match_ASECORP_BBDD']]"
   ]
  },
  {
   "cell_type": "code",
   "execution_count": 846,
   "metadata": {},
   "outputs": [
    {
     "output_type": "execute_result",
     "data": {
      "text/plain": [
       "                                              Item_id  \\\n",
       "0   =HIPERVINCULO(\"https://docm.jccm.es/portaldocm...   \n",
       "1   =HIPERVINCULO(\"https://docm.jccm.es/portaldocm...   \n",
       "2   =HIPERVINCULO(\"https://docm.jccm.es/portaldocm...   \n",
       "3   =HIPERVINCULO(\"https://docm.jccm.es/portaldocm...   \n",
       "4   =HIPERVINCULO(\"https://docm.jccm.es/portaldocm...   \n",
       "..                                                ...   \n",
       "63  =HIPERVINCULO(\"https://docm.jccm.es/portaldocm...   \n",
       "64  =HIPERVINCULO(\"https://docm.jccm.es/portaldocm...   \n",
       "65  =HIPERVINCULO(\"https://docm.jccm.es/portaldocm...   \n",
       "66  =HIPERVINCULO(\"https://docm.jccm.es/portaldocm...   \n",
       "67  =HIPERVINCULO(\"https://docm.jccm.es/portaldocm...   \n",
       "\n",
       "                                           Item_Title Fecha_publicacion  \\\n",
       "0   Sanidad. Procedimiento Ordinario 119/2021. [NI...        2021-02-12   \n",
       "1   Régimen Local. Resolución de 05/02/2021, de la...        2021-02-12   \n",
       "2   Función Pública. Resolución de 02/02/2021, de ...        2021-02-12   \n",
       "3   Formación. Resolución de 05/02/2021, de la Dir...        2021-02-12   \n",
       "4   Convenios. Resolución de 05/02/2021, de la Sec...        2021-02-12   \n",
       "..                                                ...               ...   \n",
       "63  Anuncio de 01/02/2021, del Ayuntamiento de Poz...        2021-02-12   \n",
       "64  Anuncio de 29/01/2021, del Ayuntamiento de La ...        2021-02-12   \n",
       "65  Anuncio de 05/02/2021, de la Empresa Pública G...        2021-02-12   \n",
       "66  Anuncio de 05/02/2021, de la Empresa Pública G...        2021-02-12   \n",
       "67  Anuncio de 05/02/2021, de la Empresa Pública G...        2021-02-12   \n",
       "\n",
       "                                                 Tags  \\\n",
       "0   Resolución de 28 de enero de 2021, Resolución ...   \n",
       "1   Ley 7/1985, Real Decreto 128/2018, Real Decret...   \n",
       "2   Ley 40/2015, Ley 31/1995, Ley 12/2010, Real De...   \n",
       "3   Ley 4/2011, Ley 40/2015, Ley 39/2015, Ley 40/2...   \n",
       "4   Ley 19/2013, Ley 19/2013, Ley 40/2015, Ley 40/...   \n",
       "..                                                ...   \n",
       "63                                                      \n",
       "64                                                      \n",
       "65                                                      \n",
       "66                                                      \n",
       "67                                                      \n",
       "\n",
       "                                   Match_ASECORP_BBDD  \n",
       "0                                                      \n",
       "1                                                      \n",
       "2   LEY 31/1995 ESP, RD 171/2004 ESP, RDG 2/2015 E...  \n",
       "3                    LEY 9/2017 ESP, RD 1771/1994 ESP  \n",
       "4                                                      \n",
       "..                                                ...  \n",
       "63                                                     \n",
       "64                                                     \n",
       "65                                                     \n",
       "66                                                     \n",
       "67                                                     \n",
       "\n",
       "[68 rows x 5 columns]"
      ],
      "text/html": "<div>\n<style scoped>\n    .dataframe tbody tr th:only-of-type {\n        vertical-align: middle;\n    }\n\n    .dataframe tbody tr th {\n        vertical-align: top;\n    }\n\n    .dataframe thead th {\n        text-align: right;\n    }\n</style>\n<table border=\"1\" class=\"dataframe\">\n  <thead>\n    <tr style=\"text-align: right;\">\n      <th></th>\n      <th>Item_id</th>\n      <th>Item_Title</th>\n      <th>Fecha_publicacion</th>\n      <th>Tags</th>\n      <th>Match_ASECORP_BBDD</th>\n    </tr>\n  </thead>\n  <tbody>\n    <tr>\n      <th>0</th>\n      <td>=HIPERVINCULO(\"https://docm.jccm.es/portaldocm...</td>\n      <td>Sanidad. Procedimiento Ordinario 119/2021. [NI...</td>\n      <td>2021-02-12</td>\n      <td>Resolución de 28 de enero de 2021, Resolución ...</td>\n      <td></td>\n    </tr>\n    <tr>\n      <th>1</th>\n      <td>=HIPERVINCULO(\"https://docm.jccm.es/portaldocm...</td>\n      <td>Régimen Local. Resolución de 05/02/2021, de la...</td>\n      <td>2021-02-12</td>\n      <td>Ley 7/1985, Real Decreto 128/2018, Real Decret...</td>\n      <td></td>\n    </tr>\n    <tr>\n      <th>2</th>\n      <td>=HIPERVINCULO(\"https://docm.jccm.es/portaldocm...</td>\n      <td>Función Pública. Resolución de 02/02/2021, de ...</td>\n      <td>2021-02-12</td>\n      <td>Ley 40/2015, Ley 31/1995, Ley 12/2010, Real De...</td>\n      <td>LEY 31/1995 ESP, RD 171/2004 ESP, RDG 2/2015 E...</td>\n    </tr>\n    <tr>\n      <th>3</th>\n      <td>=HIPERVINCULO(\"https://docm.jccm.es/portaldocm...</td>\n      <td>Formación. Resolución de 05/02/2021, de la Dir...</td>\n      <td>2021-02-12</td>\n      <td>Ley 4/2011, Ley 40/2015, Ley 39/2015, Ley 40/2...</td>\n      <td>LEY 9/2017 ESP, RD 1771/1994 ESP</td>\n    </tr>\n    <tr>\n      <th>4</th>\n      <td>=HIPERVINCULO(\"https://docm.jccm.es/portaldocm...</td>\n      <td>Convenios. Resolución de 05/02/2021, de la Sec...</td>\n      <td>2021-02-12</td>\n      <td>Ley 19/2013, Ley 19/2013, Ley 40/2015, Ley 40/...</td>\n      <td></td>\n    </tr>\n    <tr>\n      <th>...</th>\n      <td>...</td>\n      <td>...</td>\n      <td>...</td>\n      <td>...</td>\n      <td>...</td>\n    </tr>\n    <tr>\n      <th>63</th>\n      <td>=HIPERVINCULO(\"https://docm.jccm.es/portaldocm...</td>\n      <td>Anuncio de 01/02/2021, del Ayuntamiento de Poz...</td>\n      <td>2021-02-12</td>\n      <td></td>\n      <td></td>\n    </tr>\n    <tr>\n      <th>64</th>\n      <td>=HIPERVINCULO(\"https://docm.jccm.es/portaldocm...</td>\n      <td>Anuncio de 29/01/2021, del Ayuntamiento de La ...</td>\n      <td>2021-02-12</td>\n      <td></td>\n      <td></td>\n    </tr>\n    <tr>\n      <th>65</th>\n      <td>=HIPERVINCULO(\"https://docm.jccm.es/portaldocm...</td>\n      <td>Anuncio de 05/02/2021, de la Empresa Pública G...</td>\n      <td>2021-02-12</td>\n      <td></td>\n      <td></td>\n    </tr>\n    <tr>\n      <th>66</th>\n      <td>=HIPERVINCULO(\"https://docm.jccm.es/portaldocm...</td>\n      <td>Anuncio de 05/02/2021, de la Empresa Pública G...</td>\n      <td>2021-02-12</td>\n      <td></td>\n      <td></td>\n    </tr>\n    <tr>\n      <th>67</th>\n      <td>=HIPERVINCULO(\"https://docm.jccm.es/portaldocm...</td>\n      <td>Anuncio de 05/02/2021, de la Empresa Pública G...</td>\n      <td>2021-02-12</td>\n      <td></td>\n      <td></td>\n    </tr>\n  </tbody>\n</table>\n<p>68 rows × 5 columns</p>\n</div>"
     },
     "metadata": {},
     "execution_count": 846
    }
   ],
   "source": [
    "DOCM_sumarios_final_CSV"
   ]
  },
  {
   "cell_type": "code",
   "execution_count": 847,
   "metadata": {},
   "outputs": [],
   "source": [
    "DOCM_sumarios_final_CSV.to_csv(\"./ASECORP/Resultados_Matching_DOCM_\" + today.strftime(\"%Y%m%d\") + \".csv\" ,index=False) "
   ]
  }
 ]
}