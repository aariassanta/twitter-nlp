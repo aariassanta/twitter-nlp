{
 "metadata": {
  "language_info": {
   "codemirror_mode": {
    "name": "ipython",
    "version": 3
   },
   "file_extension": ".py",
   "mimetype": "text/x-python",
   "name": "python",
   "nbconvert_exporter": "python",
   "pygments_lexer": "ipython3",
   "version": "3.8.5-final"
  },
  "orig_nbformat": 2,
  "kernelspec": {
   "name": "python3",
   "display_name": "Python 3",
   "language": "python"
  }
 },
 "nbformat": 4,
 "nbformat_minor": 2,
 "cells": [
  {
   "cell_type": "code",
   "execution_count": 1,
   "metadata": {},
   "outputs": [],
   "source": [
    "from lxml import etree, html\n",
    "from lxml.html.clean import clean_html\n",
    "import pandas as pd\n",
    "from datetime import date, datetime\n",
    "import requests\n",
    "import re\n",
    "import os\n",
    "import shutil\n",
    "from ASECORP_BBDD import tagea_BBDD_ASECORP, devuelve_patrones"
   ]
  },
  {
   "cell_type": "code",
   "execution_count": 2,
   "metadata": {},
   "outputs": [],
   "source": [
    "today = date.today()"
   ]
  },
  {
   "cell_type": "code",
   "execution_count": 3,
   "metadata": {},
   "outputs": [],
   "source": [
    "def save_html(html, path):\n",
    "    with open(path, 'wb') as f:\n",
    "        f.write(html)"
   ]
  },
  {
   "cell_type": "code",
   "execution_count": 4,
   "metadata": {},
   "outputs": [],
   "source": [
    "# Define expresiones REGEX para búsqueda de leyes, decretos, etc. referenciadas anteriormente\n",
    "#pattern = ['Ley [0-9]+\\/[0-9]+','Ley Orgánica [0-9]+\\/[0-9]+','Decreto [0-9]+\\/[0-9]+','Real Decreto [0-9]+\\/[0-9]+','Real Decreto Legislativo [0-9]+\\/[0-9]+','Real Decreto-ley [0-9]+\\/[0-9]+','Orden [A-Z]+\\/[0-9]+\\/[0-9]+','Orden [0-9]+\\/[0-9]+','Orden de [0-9]+\\/[0-9]+\\/[0-9]+','Orden Circular [0-9]+\\/[0-9]+','Reglamento [0-9]+\\/[0-9]+', 'Directiva [0-9]+\\/[0-9]+','Directiva \\(UE\\) [0-9]+\\/[0-9]+','Reglamento n\\º [0-9]+\\/[0-9]+', 'Reglamento \\(UE\\) [0-9]+\\/[0-9]+','Reglamento \\(UE\\) n\\º [0-9]+\\/[0-9]+','Reglamento \\(CE\\) n\\º [0-9]+\\/[0-9]+','Reglamento \\(CEE\\) n\\º [0-9]+\\/[0-9]+','Reglamento de Ejecución \\(UE\\) [0-9]+\\/[0-9]+','Reglamento de Ejecución \\(UE\\) n\\º [0-9]+\\/[0-9]+' ,'Reglamento de Ejecución [0-9]+\\/[0-9]+','Reglamento Delegado [0-9]+\\/[0-9]+','Reglamento Delegado \\(UE\\) [0-9]+\\/[0-9]+','Reglamento Delegado \\(UE\\) n\\º [0-9]+\\/[0-9]+','Sentencia de [0-9]+ de [a-z]+ de [0-9]+','Sentencia [0-9]+\\/[0-9]+','Orden de [0-9]+ de [a-z]+ de [0-9]+', 'Resolución de [0-9]+ de [a-z]+ de [0-9]+','Resolución [a-z]+\\/[0-9]+\\/[0-9]+','Resolución de [0-9]+\\/[0-9]+\\/[0-9]+', 'Nota de Servicio [0-9]+\\/[0-9]+', 'Acuerdo multilateral M\\-[0-9]+', 'Acuerdo Multilateral RID [0-9]+\\/[0-9]+', 'Circular [0-9]+\\/[0-9]+', 'Decisión [0-9]+\\/[0-9]+','Decisión \\(UE\\) [0-9]+\\/[0-9]+', 'Decisión de Ejecución \\(UE\\) [0-9]+\\/[0-9]+', 'Instrucción IS\\-[0-9]+']\n",
    "pattern = devuelve_patrones()"
   ]
  },
  {
   "source": [
    "## Importa BBDD ASECORP"
   ],
   "cell_type": "markdown",
   "metadata": {}
  },
  {
   "cell_type": "code",
   "execution_count": 5,
   "metadata": {},
   "outputs": [],
   "source": [
    "ASECORP_BBDD = pd.read_csv('./ASECORP/ExportNormes_20210126.csv', delimiter=';')"
   ]
  },
  {
   "cell_type": "code",
   "execution_count": 6,
   "metadata": {},
   "outputs": [
    {
     "output_type": "execute_result",
     "data": {
      "text/plain": [
       "                        Codigo      Numero  \\\n",
       "0       RES SLT/2313/2020 CAT         2313   \n",
       "1      (zzz) RES 12/4/2007 AST   12/4/2007   \n",
       "2           A CORUÑA 10/7/2015   10/7/2015   \n",
       "3       A CORUÑA 11/8/2014 (1)   11/8/2014   \n",
       "4       A CORUÑA 11/8/2014 (2)   11/8/2014   \n",
       "...                        ...         ...   \n",
       "19152          ZUMAIA 1/3/2001    1/3/2001   \n",
       "19153        ZUMAIA 12/11/1999  12/11/1999   \n",
       "19154         ZUMAIA 15/6/2012   15/6/2012   \n",
       "19155          ZUMAIA 6/2/2004    6/2/2004   \n",
       "19156          ZUMAIA 9/2/2004    9/2/2004   \n",
       "\n",
       "                                                  Titulo CodigoAmbito  \\\n",
       "0      Resolución SLT/2313/2020, de 24 de septiembre,...          CAT   \n",
       "1      Resolución de 12 abril de 2007, de la Consejer...          AST   \n",
       "2      Modificación de la Ordenanza de vertidos y ser...          GAL   \n",
       "3      Ordenanza municipal reguladora de los procedim...          GAL   \n",
       "4      Ordenanza de protección contra la contaminació...          GAL   \n",
       "...                                                  ...          ...   \n",
       "19152  Ordenanza reguladora de la gestión del ciclo i...          PVA   \n",
       "19153  Normativa complementaria de las Normas Subsidi...          PVA   \n",
       "19154  Modificación de la Ordenanza municipal de la g...          PVA   \n",
       "19155  Modificación de la Normativa complementaria de...          PVA   \n",
       "19156  Reglamento regulador del vertido a colector de...          PVA   \n",
       "\n",
       "           Ambito Municipio   TiposNorma IdTiposNorma  \n",
       "0        Cataluña       NaN   Prevención          [2]  \n",
       "1        Asturias       NaN  M. Ambiente          [1]  \n",
       "2         Galicia  A Coruña  M. Ambiente          [1]  \n",
       "3         Galicia  A Coruña  M. Ambiente          [1]  \n",
       "4         Galicia  A Coruña  M. Ambiente          [1]  \n",
       "...           ...       ...          ...          ...  \n",
       "19152  Pais Vasco    Zumaia  M. Ambiente          [1]  \n",
       "19153  Pais Vasco    Zumaia  M. Ambiente          [1]  \n",
       "19154  Pais Vasco    Zumaia  M. Ambiente          [1]  \n",
       "19155  Pais Vasco    Zumaia  M. Ambiente          [1]  \n",
       "19156  Pais Vasco    Zumaia  M. Ambiente          [1]  \n",
       "\n",
       "[19157 rows x 8 columns]"
      ],
      "text/html": "<div>\n<style scoped>\n    .dataframe tbody tr th:only-of-type {\n        vertical-align: middle;\n    }\n\n    .dataframe tbody tr th {\n        vertical-align: top;\n    }\n\n    .dataframe thead th {\n        text-align: right;\n    }\n</style>\n<table border=\"1\" class=\"dataframe\">\n  <thead>\n    <tr style=\"text-align: right;\">\n      <th></th>\n      <th>Codigo</th>\n      <th>Numero</th>\n      <th>Titulo</th>\n      <th>CodigoAmbito</th>\n      <th>Ambito</th>\n      <th>Municipio</th>\n      <th>TiposNorma</th>\n      <th>IdTiposNorma</th>\n    </tr>\n  </thead>\n  <tbody>\n    <tr>\n      <th>0</th>\n      <td>RES SLT/2313/2020 CAT</td>\n      <td>2313</td>\n      <td>Resolución SLT/2313/2020, de 24 de septiembre,...</td>\n      <td>CAT</td>\n      <td>Cataluña</td>\n      <td>NaN</td>\n      <td>Prevención</td>\n      <td>[2]</td>\n    </tr>\n    <tr>\n      <th>1</th>\n      <td>(zzz) RES 12/4/2007 AST</td>\n      <td>12/4/2007</td>\n      <td>Resolución de 12 abril de 2007, de la Consejer...</td>\n      <td>AST</td>\n      <td>Asturias</td>\n      <td>NaN</td>\n      <td>M. Ambiente</td>\n      <td>[1]</td>\n    </tr>\n    <tr>\n      <th>2</th>\n      <td>A CORUÑA 10/7/2015</td>\n      <td>10/7/2015</td>\n      <td>Modificación de la Ordenanza de vertidos y ser...</td>\n      <td>GAL</td>\n      <td>Galicia</td>\n      <td>A Coruña</td>\n      <td>M. Ambiente</td>\n      <td>[1]</td>\n    </tr>\n    <tr>\n      <th>3</th>\n      <td>A CORUÑA 11/8/2014 (1)</td>\n      <td>11/8/2014</td>\n      <td>Ordenanza municipal reguladora de los procedim...</td>\n      <td>GAL</td>\n      <td>Galicia</td>\n      <td>A Coruña</td>\n      <td>M. Ambiente</td>\n      <td>[1]</td>\n    </tr>\n    <tr>\n      <th>4</th>\n      <td>A CORUÑA 11/8/2014 (2)</td>\n      <td>11/8/2014</td>\n      <td>Ordenanza de protección contra la contaminació...</td>\n      <td>GAL</td>\n      <td>Galicia</td>\n      <td>A Coruña</td>\n      <td>M. Ambiente</td>\n      <td>[1]</td>\n    </tr>\n    <tr>\n      <th>...</th>\n      <td>...</td>\n      <td>...</td>\n      <td>...</td>\n      <td>...</td>\n      <td>...</td>\n      <td>...</td>\n      <td>...</td>\n      <td>...</td>\n    </tr>\n    <tr>\n      <th>19152</th>\n      <td>ZUMAIA 1/3/2001</td>\n      <td>1/3/2001</td>\n      <td>Ordenanza reguladora de la gestión del ciclo i...</td>\n      <td>PVA</td>\n      <td>Pais Vasco</td>\n      <td>Zumaia</td>\n      <td>M. Ambiente</td>\n      <td>[1]</td>\n    </tr>\n    <tr>\n      <th>19153</th>\n      <td>ZUMAIA 12/11/1999</td>\n      <td>12/11/1999</td>\n      <td>Normativa complementaria de las Normas Subsidi...</td>\n      <td>PVA</td>\n      <td>Pais Vasco</td>\n      <td>Zumaia</td>\n      <td>M. Ambiente</td>\n      <td>[1]</td>\n    </tr>\n    <tr>\n      <th>19154</th>\n      <td>ZUMAIA 15/6/2012</td>\n      <td>15/6/2012</td>\n      <td>Modificación de la Ordenanza municipal de la g...</td>\n      <td>PVA</td>\n      <td>Pais Vasco</td>\n      <td>Zumaia</td>\n      <td>M. Ambiente</td>\n      <td>[1]</td>\n    </tr>\n    <tr>\n      <th>19155</th>\n      <td>ZUMAIA 6/2/2004</td>\n      <td>6/2/2004</td>\n      <td>Modificación de la Normativa complementaria de...</td>\n      <td>PVA</td>\n      <td>Pais Vasco</td>\n      <td>Zumaia</td>\n      <td>M. Ambiente</td>\n      <td>[1]</td>\n    </tr>\n    <tr>\n      <th>19156</th>\n      <td>ZUMAIA 9/2/2004</td>\n      <td>9/2/2004</td>\n      <td>Reglamento regulador del vertido a colector de...</td>\n      <td>PVA</td>\n      <td>Pais Vasco</td>\n      <td>Zumaia</td>\n      <td>M. Ambiente</td>\n      <td>[1]</td>\n    </tr>\n  </tbody>\n</table>\n<p>19157 rows × 8 columns</p>\n</div>"
     },
     "metadata": {},
     "execution_count": 6
    }
   ],
   "source": [
    "ASECORP_BBDD"
   ]
  },
  {
   "cell_type": "code",
   "execution_count": 7,
   "metadata": {},
   "outputs": [],
   "source": [
    "#ASECORP_BBDD_BOE = ASECORP_BBDD.loc[ASECORP_BBDD['Ambito'] == 'Europa']"
   ]
  },
  {
   "cell_type": "code",
   "execution_count": 8,
   "metadata": {},
   "outputs": [],
   "source": [
    "ASECORP_BBDD_BOE = ASECORP_BBDD.loc[ASECORP_BBDD['Ambito'].isin (['España','Europa', 'Castilla la Mancha'])]"
   ]
  },
  {
   "cell_type": "code",
   "execution_count": 9,
   "metadata": {},
   "outputs": [
    {
     "output_type": "execute_result",
     "data": {
      "text/plain": [
       "                        Codigo      Numero  \\\n",
       "23              ACU 1/2020 ESP           1   \n",
       "35           ACU 11/6/2007 ESP   11/6/2007   \n",
       "57          ACU 17/10/2006 ESP  17/10/2006   \n",
       "71          ACU 19/11/2018 ESP  19/11/2018   \n",
       "82              ACU 2/2020 ESP           2   \n",
       "...                        ...         ...   \n",
       "18646      TOMELLOSO 24/4/2019   24/4/2019   \n",
       "18647       TOMELLOSO 9/3/2011    9/3/2011   \n",
       "18879  verificación de calidad           1   \n",
       "19118         YUNCOS 27/4/2010   27/4/2010   \n",
       "19119         YUNCOS 3/12/1996   3/12/1996   \n",
       "\n",
       "                                                  Titulo CodigoAmbito  \\\n",
       "23     Acuerdo Multilateral RID 1/2020 en virtud de l...          ESP   \n",
       "35     Entrada en vigor del Acuerdo entre el Reino de...          ESP   \n",
       "57     Aplicación provisional del Acuerdo entre el Re...          ESP   \n",
       "71     Acuerdo de la Junta de Gobierno de la Confeder...          ESP   \n",
       "82     Acuerdo Multilateral RID 2/2020 en virtud de l...          ESP   \n",
       "...                                                  ...          ...   \n",
       "18646  Modificación de la Ordenanza General de Protec...          CMA   \n",
       "18647  Ordenanza general de protección del medio ambi...          CMA   \n",
       "18879   Norma verificación calidad alertas en produccion          ESP   \n",
       "19118      Ordenanza de convivencia ciudadana de Yuncos.          CMA   \n",
       "19119  Ordenanza reguladora del servicio municipal de...          CMA   \n",
       "\n",
       "                   Ambito  Municipio                TiposNorma IdTiposNorma  \n",
       "23                 España        NaN  M. Ambiente / Prevención       [1][2]  \n",
       "35                 España        NaN               M. Ambiente          [1]  \n",
       "57                 España        NaN               M. Ambiente          [1]  \n",
       "71                 España        NaN               M. Ambiente          [1]  \n",
       "82                 España        NaN  M. Ambiente / Prevención       [1][2]  \n",
       "...                   ...        ...                       ...          ...  \n",
       "18646  Castilla la Mancha  Tomelloso               M. Ambiente          [1]  \n",
       "18647  Castilla la Mancha  Tomelloso               M. Ambiente          [1]  \n",
       "18879              España          -           Reg. Industrial          [3]  \n",
       "19118  Castilla la Mancha     Yuncos               M. Ambiente          [1]  \n",
       "19119  Castilla la Mancha     Yuncos               M. Ambiente          [1]  \n",
       "\n",
       "[5423 rows x 8 columns]"
      ],
      "text/html": "<div>\n<style scoped>\n    .dataframe tbody tr th:only-of-type {\n        vertical-align: middle;\n    }\n\n    .dataframe tbody tr th {\n        vertical-align: top;\n    }\n\n    .dataframe thead th {\n        text-align: right;\n    }\n</style>\n<table border=\"1\" class=\"dataframe\">\n  <thead>\n    <tr style=\"text-align: right;\">\n      <th></th>\n      <th>Codigo</th>\n      <th>Numero</th>\n      <th>Titulo</th>\n      <th>CodigoAmbito</th>\n      <th>Ambito</th>\n      <th>Municipio</th>\n      <th>TiposNorma</th>\n      <th>IdTiposNorma</th>\n    </tr>\n  </thead>\n  <tbody>\n    <tr>\n      <th>23</th>\n      <td>ACU 1/2020 ESP</td>\n      <td>1</td>\n      <td>Acuerdo Multilateral RID 1/2020 en virtud de l...</td>\n      <td>ESP</td>\n      <td>España</td>\n      <td>NaN</td>\n      <td>M. Ambiente / Prevención</td>\n      <td>[1][2]</td>\n    </tr>\n    <tr>\n      <th>35</th>\n      <td>ACU 11/6/2007 ESP</td>\n      <td>11/6/2007</td>\n      <td>Entrada en vigor del Acuerdo entre el Reino de...</td>\n      <td>ESP</td>\n      <td>España</td>\n      <td>NaN</td>\n      <td>M. Ambiente</td>\n      <td>[1]</td>\n    </tr>\n    <tr>\n      <th>57</th>\n      <td>ACU 17/10/2006 ESP</td>\n      <td>17/10/2006</td>\n      <td>Aplicación provisional del Acuerdo entre el Re...</td>\n      <td>ESP</td>\n      <td>España</td>\n      <td>NaN</td>\n      <td>M. Ambiente</td>\n      <td>[1]</td>\n    </tr>\n    <tr>\n      <th>71</th>\n      <td>ACU 19/11/2018 ESP</td>\n      <td>19/11/2018</td>\n      <td>Acuerdo de la Junta de Gobierno de la Confeder...</td>\n      <td>ESP</td>\n      <td>España</td>\n      <td>NaN</td>\n      <td>M. Ambiente</td>\n      <td>[1]</td>\n    </tr>\n    <tr>\n      <th>82</th>\n      <td>ACU 2/2020 ESP</td>\n      <td>2</td>\n      <td>Acuerdo Multilateral RID 2/2020 en virtud de l...</td>\n      <td>ESP</td>\n      <td>España</td>\n      <td>NaN</td>\n      <td>M. Ambiente / Prevención</td>\n      <td>[1][2]</td>\n    </tr>\n    <tr>\n      <th>...</th>\n      <td>...</td>\n      <td>...</td>\n      <td>...</td>\n      <td>...</td>\n      <td>...</td>\n      <td>...</td>\n      <td>...</td>\n      <td>...</td>\n    </tr>\n    <tr>\n      <th>18646</th>\n      <td>TOMELLOSO 24/4/2019</td>\n      <td>24/4/2019</td>\n      <td>Modificación de la Ordenanza General de Protec...</td>\n      <td>CMA</td>\n      <td>Castilla la Mancha</td>\n      <td>Tomelloso</td>\n      <td>M. Ambiente</td>\n      <td>[1]</td>\n    </tr>\n    <tr>\n      <th>18647</th>\n      <td>TOMELLOSO 9/3/2011</td>\n      <td>9/3/2011</td>\n      <td>Ordenanza general de protección del medio ambi...</td>\n      <td>CMA</td>\n      <td>Castilla la Mancha</td>\n      <td>Tomelloso</td>\n      <td>M. Ambiente</td>\n      <td>[1]</td>\n    </tr>\n    <tr>\n      <th>18879</th>\n      <td>verificación de calidad</td>\n      <td>1</td>\n      <td>Norma verificación calidad alertas en produccion</td>\n      <td>ESP</td>\n      <td>España</td>\n      <td>-</td>\n      <td>Reg. Industrial</td>\n      <td>[3]</td>\n    </tr>\n    <tr>\n      <th>19118</th>\n      <td>YUNCOS 27/4/2010</td>\n      <td>27/4/2010</td>\n      <td>Ordenanza de convivencia ciudadana de Yuncos.</td>\n      <td>CMA</td>\n      <td>Castilla la Mancha</td>\n      <td>Yuncos</td>\n      <td>M. Ambiente</td>\n      <td>[1]</td>\n    </tr>\n    <tr>\n      <th>19119</th>\n      <td>YUNCOS 3/12/1996</td>\n      <td>3/12/1996</td>\n      <td>Ordenanza reguladora del servicio municipal de...</td>\n      <td>CMA</td>\n      <td>Castilla la Mancha</td>\n      <td>Yuncos</td>\n      <td>M. Ambiente</td>\n      <td>[1]</td>\n    </tr>\n  </tbody>\n</table>\n<p>5423 rows × 8 columns</p>\n</div>"
     },
     "metadata": {},
     "execution_count": 9
    }
   ],
   "source": [
    "ASECORP_BBDD_BOE"
   ]
  },
  {
   "cell_type": "code",
   "execution_count": 10,
   "metadata": {},
   "outputs": [],
   "source": [
    "# Crea nueva columna vacía de tipo lista en ASECORP_BBDD\n",
    "ASECORP_BBDD_BOE['Tags'] = [[] for i in range(len(ASECORP_BBDD_BOE))]"
   ]
  },
  {
   "cell_type": "code",
   "execution_count": 11,
   "metadata": {},
   "outputs": [],
   "source": [
    "titulo = []\n",
    "for i, row in ASECORP_BBDD_BOE.iterrows():\n",
    "    titulo.append(str(row['Titulo']) + str(re.findall('|'.join(pattern), str(row['Titulo']), flags=re.IGNORECASE)))\n",
    "    ASECORP_BBDD_BOE['Tags'][i] = re.findall('|'.join(pattern), str(row['Titulo']), flags=re.IGNORECASE)"
   ]
  },
  {
   "cell_type": "code",
   "execution_count": 12,
   "metadata": {},
   "outputs": [
    {
     "output_type": "execute_result",
     "data": {
      "text/plain": [
       "                Codigo Numero  \\\n",
       "4557   DIR 2003/34 EUR     34   \n",
       "4558   DIR 2003/35 EUR     35   \n",
       "4559   DIR 2003/36 EUR     36   \n",
       "4560    DIR 2003/4 EUR      4   \n",
       "4561   DIR 2003/40 EUR     40   \n",
       "4562   DIR 2003/53 EUR     53   \n",
       "4563   DIR 2003/58 EUR     58   \n",
       "4564   DIR 2003/73 EUR     73   \n",
       "4565   DIR 2003/76 EUR     76   \n",
       "4566   DIR 2003/87 EUR     87   \n",
       "4567   DIR 2003/88 EUR     88   \n",
       "4568  DIR 2004/101 EUR    101   \n",
       "4569  DIR 2004/107 EUR    107   \n",
       "4570  DIR 2004/108 EUR    108   \n",
       "4571  DIR 2004/110 EUR    110   \n",
       "4572  DIR 2004/111 EUR    111   \n",
       "4573  DIR 2004/112 EUR    112   \n",
       "4574   DIR 2004/12 EUR     12   \n",
       "4575   DIR 2004/21 EUR     21   \n",
       "4576   DIR 2004/35 EUR     35   \n",
       "4577   DIR 2004/37 EUR     37   \n",
       "4578   DIR 2004/40 EUR     40   \n",
       "4579   DIR 2004/42 EUR     42   \n",
       "4580   DIR 2004/73 EUR     73   \n",
       "4581    DIR 2004/8 EUR      8   \n",
       "4582   DIR 2004/89 EUR     89   \n",
       "4583   DIR 2004/96 EUR     96   \n",
       "4584   DIR 2004/98 EUR     98   \n",
       "4585   DIR 2005/20 EUR     20   \n",
       "4586   DIR 2005/32 EUR     32   \n",
       "4587   DIR 2005/33 EUR     33   \n",
       "4588   DIR 2005/55 EUR     55   \n",
       "4589   DIR 2005/59 EUR     59   \n",
       "4590   DIR 2005/64 EUR     64   \n",
       "4591   DIR 2005/69 EUR     69   \n",
       "4592   DIR 2005/78 EUR     78   \n",
       "4593   DIR 2005/84 EUR     84   \n",
       "4594   DIR 2005/88 EUR     88   \n",
       "4595   DIR 2005/90 EUR     90   \n",
       "4596  DIR 2006/105 EUR    105   \n",
       "4597   DIR 2006/11 EUR     11   \n",
       "4598  DIR 2006/117 EUR    117   \n",
       "4599  DIR 2006/118 EUR    118   \n",
       "4600   DIR 2006/12 EUR     12   \n",
       "4601  DIR 2006/121 EUR    121   \n",
       "4602  DIR 2006/122 EUR    122   \n",
       "4603  DIR 2006/139 EUR    139   \n",
       "4604   DIR 2006/15 EUR     15   \n",
       "4605   DIR 2006/20 EUR     20   \n",
       "4606   DIR 2006/21 EUR     21   \n",
       "\n",
       "                                                 Titulo CodigoAmbito  Ambito  \\\n",
       "4557  Directiva 2003/34/CE del Parlamente Europeo y ...          EUR  Europa   \n",
       "4558  Directiva 2003/35/CE del Parlamento Europeo y ...          EUR  Europa   \n",
       "4559  Directiva 2003/36/CE del Parlamento Europeo y ...          EUR  Europa   \n",
       "4560  Directiva 2003/4/CE del Parlamento Europeo y d...          EUR  Europa   \n",
       "4561  Directiva 2003/40/CE de la Comisión de 16 de m...          EUR  Europa   \n",
       "4562  Directiva 2003/53/CE del Parlamento Europeo y ...          EUR  Europa   \n",
       "4563  Directiva 2003/58/CE del Parlamento Europeo y ...          EUR  Europa   \n",
       "4564  Directiva 2003/73/CE de la Comisión, de 24 de ...          EUR  Europa   \n",
       "4565  Directiva 2003/76/CE de la comisión de 11 de a...          EUR  Europa   \n",
       "4566  Directiva 2003/87/CE del parlamento europeo y ...          EUR  Europa   \n",
       "4567  Directiva 2003/88/CE del Parlamento Europeo y ...          EUR  Europa   \n",
       "4568  Directiva 2004/101/CE del Parlamento Europeo y...          EUR  Europa   \n",
       "4569  Directiva 2004/107/CE del Parlamento Europeo y...          EUR  Europa   \n",
       "4570  Directiva 2004/108/CE del Parlamento Europeo y...          EUR  Europa   \n",
       "4571  Directiva 2004/110/CE de la Comisión de 9 de d...          EUR  Europa   \n",
       "4572  Directiva 2004/111/CE de la Comisión de 9 de d...          EUR  Europa   \n",
       "4573  Directiva 2004/112/CE de la Comisión, de 13 de...          EUR  Europa   \n",
       "4574  Directiva 2004/12/CE del Parlamento Europeo y ...          EUR  Europa   \n",
       "4575  Directiva 2004/21/CE de la comisión de 24 de f...          EUR  Europa   \n",
       "4576  Directiva 2004/35/CE del Parlamento Europeo y ...          EUR  Europa   \n",
       "4577  Directiva 2004/37/CE del Parlamento Europeo y ...          EUR  Europa   \n",
       "4578  Directiva 2004/40/CE del Parlamento Europeo y ...          EUR  Europa   \n",
       "4579  Directiva 2004/42/CE, del Parlamento Europeo y...          EUR  Europa   \n",
       "4580  Directiva 2004/73/CE de la Comisión de 29 de a...          EUR  Europa   \n",
       "4581  Directiva 2004/8/CE del parlamento europeo y d...          EUR  Europa   \n",
       "4582  Directiva 2004/89/CE de la Comisión de 13 de s...          EUR  Europa   \n",
       "4583  Directiva 2004/96/CE de 27 de septiembre de 20...          EUR  Europa   \n",
       "4584  Directiva 2004/98/CE de la Comisión de 30 de s...          EUR  Europa   \n",
       "4585  Directiva 2005/20/CE del Parlamento Europeo y ...          EUR  Europa   \n",
       "4586  Directiva 2005/32/CE del Parlamento Europeo y ...          EUR  Europa   \n",
       "4587  Directiva 2005/33/CE del Parlamento Europeo y ...          EUR  Europa   \n",
       "4588  Directiva 2005/55/CE del Parlamento Europeo y ...          EUR  Europa   \n",
       "4589  Directiva 2005/59/CE del Parlamento Europeo y ...          EUR  Europa   \n",
       "4590  Directiva 2005/64/CE del Parlamento europeo y ...          EUR  Europa   \n",
       "4591  Directiva 2005/69/CE del Parlamento Europeo y ...          EUR  Europa   \n",
       "4592  Directiva 2005/78/CE  de la Comisión de 14 de ...          EUR  Europa   \n",
       "4593  Directiva 2005/84/CE del Parlamento Europeo y ...          EUR  Europa   \n",
       "4594  Directiva 2005/88/CE del Parlamento Europeo y ...          EUR  Europa   \n",
       "4595  Directiva 2005/90/CE del Parlamento Europeo y ...          EUR  Europa   \n",
       "4596  Directiva 2006/105/CE del Consejo, de 20 de no...          EUR  Europa   \n",
       "4597  Directiva 2006/11/CE del Parlamento Europeo y ...          EUR  Europa   \n",
       "4598  Directiva 2006/117/EURATOM del consejo de 20 d...          EUR  Europa   \n",
       "4599  Directiva 2006/118/CE del Parlamento Europeo y...          EUR  Europa   \n",
       "4600  Directiva 2006/12/CE del Parlamento europeo y ...          EUR  Europa   \n",
       "4601  Directiva 2006/121/CE del Parlamento Europeo y...          EUR  Europa   \n",
       "4602  Directiva 2006/122/CE del Parlamento Europeo y...          EUR  Europa   \n",
       "4603  Directiva 2006/139 EUR de la Comisión de 20 de...          EUR  Europa   \n",
       "4604  Directiva 2006/15/CE de la Comisión de 7 de fe...          EUR  Europa   \n",
       "4605  Directiva 2006/20/CE de la Comisión, de 17 de ...          EUR  Europa   \n",
       "4606  Directiva 2006/21/CE del parlamento europeo y ...          EUR  Europa   \n",
       "\n",
       "     Municipio                     TiposNorma IdTiposNorma  \\\n",
       "4557       NaN       M. Ambiente / Prevención       [1][2]   \n",
       "4558       NaN                    M. Ambiente          [1]   \n",
       "4559       NaN       M. Ambiente / Prevención       [1][2]   \n",
       "4560       NaN                    M. Ambiente          [1]   \n",
       "4561       NaN               Seg. Alimentaria          [7]   \n",
       "4562       NaN       M. Ambiente / Prevención       [1][2]   \n",
       "4563       NaN       M. Ambiente / Prevención       [1][2]   \n",
       "4564       NaN                    M. Ambiente          [1]   \n",
       "4565       NaN                    M. Ambiente          [1]   \n",
       "4566       NaN                    M. Ambiente          [1]   \n",
       "4567       NaN                     Prevención          [2]   \n",
       "4568       NaN                    M. Ambiente          [1]   \n",
       "4569       NaN       M. Ambiente / Prevención       [1][2]   \n",
       "4570       NaN                     Prevención          [2]   \n",
       "4571       NaN       M. Ambiente / Prevención       [1][2]   \n",
       "4572       NaN       M. Ambiente / Prevención       [1][2]   \n",
       "4573       NaN       M. Ambiente / Prevención       [1][2]   \n",
       "4574       NaN                    M. Ambiente          [1]   \n",
       "4575       NaN       M. Ambiente / Prevención       [1][2]   \n",
       "4576       NaN                    M. Ambiente          [1]   \n",
       "4577       NaN                     Prevención          [2]   \n",
       "4578       NaN                     Prevención          [2]   \n",
       "4579       NaN                    M. Ambiente          [1]   \n",
       "4580       NaN       M. Ambiente / Prevención       [1][2]   \n",
       "4581       NaN                    M. Ambiente          [1]   \n",
       "4582       NaN       M. Ambiente / Prevención       [1][2]   \n",
       "4583       NaN       M. Ambiente / Prevención       [1][2]   \n",
       "4584       NaN       M. Ambiente / Prevención       [1][2]   \n",
       "4585       NaN                    M. Ambiente          [1]   \n",
       "4586       NaN                    M. Ambiente          [1]   \n",
       "4587       NaN                Reg. Industrial          [3]   \n",
       "4588       NaN                    M. Ambiente          [1]   \n",
       "4589       NaN       M. Ambiente / Prevención       [1][2]   \n",
       "4590       NaN  M. Ambiente / Reg. Industrial       [1][3]   \n",
       "4591       NaN       M. Ambiente / Prevención       [1][2]   \n",
       "4592       NaN                    M. Ambiente          [1]   \n",
       "4593       NaN       M. Ambiente / Prevención       [1][2]   \n",
       "4594       NaN                     Prevención          [2]   \n",
       "4595       NaN       M. Ambiente / Prevención       [1][2]   \n",
       "4596       NaN                    M. Ambiente          [1]   \n",
       "4597       NaN                    M. Ambiente          [1]   \n",
       "4598       NaN       M. Ambiente / Prevención       [1][2]   \n",
       "4599       NaN                    M. Ambiente          [1]   \n",
       "4600       NaN                    M. Ambiente          [1]   \n",
       "4601       NaN       M. Ambiente / Prevención       [1][2]   \n",
       "4602       NaN       M. Ambiente / Prevención       [1][2]   \n",
       "4603       NaN       M. Ambiente / Prevención       [1][2]   \n",
       "4604       NaN                     Prevención          [2]   \n",
       "4605       NaN                Reg. Industrial          [3]   \n",
       "4606       NaN                    M. Ambiente          [1]   \n",
       "\n",
       "                                                   Tags  \n",
       "4557              [Directiva 2003/34, Directiva 76/769]  \n",
       "4558                                [Directiva 2003/35]  \n",
       "4559              [Directiva 2003/36, Directiva 76/769]  \n",
       "4560               [Directiva 2003/4, Directiva 90/313]  \n",
       "4561                                [Directiva 2003/40]  \n",
       "4562              [Directiva 2003/53, Directiva 76/769]  \n",
       "4563              [Directiva 2003/58, Directiva 68/151]  \n",
       "4564             [Directiva 2003/73, Directiva 1999/94]  \n",
       "4565              [Directiva 2003/76, Directiva 70/220]  \n",
       "4566               [Directiva 2003/87, Directiva 96/61]  \n",
       "4567                                [Directiva 2003/88]  \n",
       "4568            [Directiva 2004/101, Directiva 2003/87]  \n",
       "4569                               [Directiva 2004/107]  \n",
       "4570             [Directiva 2004/108, Directiva 89/336]  \n",
       "4571              [Directiva 2004/110, Directiva 96/49]  \n",
       "4572              [Directiva 2004/111, Directiva 94/55]  \n",
       "4573              [Directiva 2004/112, Directiva 95/50]  \n",
       "4574               [Directiva 2004/12, Directiva 94/62]  \n",
       "4575            [Directiva 2004/21, Directiva 1976/769]  \n",
       "4576                                [Directiva 2004/35]  \n",
       "4577                                [Directiva 2004/37]  \n",
       "4578              [Directiva 2004/40, Directiva 89/391]  \n",
       "4579             [Directiva 2004/42, Directiva 1999/13]  \n",
       "4580              [Directiva 2004/73, Directiva 67/548]  \n",
       "4581                [Directiva 2004/8, Directiva 92/42]  \n",
       "4582               [Directiva 2004/89, Directiva 96/49]  \n",
       "4583              [Directiva 2004/96, Directiva 76/769]  \n",
       "4584              [Directiva 2004/98, Directiva 76/769]  \n",
       "4585               [Directiva 2005/20, Directiva 94/62]  \n",
       "4586               [Directiva 2005/32, Directiva 92/42]  \n",
       "4587             [Directiva 2005/33, Directiva 1999/32]  \n",
       "4588                                [Directiva 2005/55]  \n",
       "4589              [Directiva 2005/59, Directiva 76/769]  \n",
       "4590              [Directiva 2005/64, Directiva 70/156]  \n",
       "4591              [Directiva 2005/69, Directiva 76/769]  \n",
       "4592             [Directiva 2005/78, Directiva 2005/55]  \n",
       "4593              [Directiva 2005/84, Directiva 76/769]  \n",
       "4594             [Directiva 2005/88, Directiva 2000/14]  \n",
       "4595              [Directiva 2005/90, directiva 76/769]  \n",
       "4596                               [Directiva 2006/105]  \n",
       "4597                                [Directiva 2006/11]  \n",
       "4598                               [Directiva 2006/117]  \n",
       "4599                               [Directiva 2006/118]  \n",
       "4600                                [Directiva 2006/12]  \n",
       "4601  [Directiva 2006/121, Directiva 67/548, Reglame...  \n",
       "4602             [Directiva 2006/122, Directiva 76/769]  \n",
       "4603             [Directiva 2006/139, Directiva 76/769]  \n",
       "4604               [Directiva 2006/15, Directiva 98/24]  \n",
       "4605              [Directiva 2006/20, Directiva 70/221]  \n",
       "4606             [Directiva 2006/21, Directiva 2004/35]  "
      ],
      "text/html": "<div>\n<style scoped>\n    .dataframe tbody tr th:only-of-type {\n        vertical-align: middle;\n    }\n\n    .dataframe tbody tr th {\n        vertical-align: top;\n    }\n\n    .dataframe thead th {\n        text-align: right;\n    }\n</style>\n<table border=\"1\" class=\"dataframe\">\n  <thead>\n    <tr style=\"text-align: right;\">\n      <th></th>\n      <th>Codigo</th>\n      <th>Numero</th>\n      <th>Titulo</th>\n      <th>CodigoAmbito</th>\n      <th>Ambito</th>\n      <th>Municipio</th>\n      <th>TiposNorma</th>\n      <th>IdTiposNorma</th>\n      <th>Tags</th>\n    </tr>\n  </thead>\n  <tbody>\n    <tr>\n      <th>4557</th>\n      <td>DIR 2003/34 EUR</td>\n      <td>34</td>\n      <td>Directiva 2003/34/CE del Parlamente Europeo y ...</td>\n      <td>EUR</td>\n      <td>Europa</td>\n      <td>NaN</td>\n      <td>M. Ambiente / Prevención</td>\n      <td>[1][2]</td>\n      <td>[Directiva 2003/34, Directiva 76/769]</td>\n    </tr>\n    <tr>\n      <th>4558</th>\n      <td>DIR 2003/35 EUR</td>\n      <td>35</td>\n      <td>Directiva 2003/35/CE del Parlamento Europeo y ...</td>\n      <td>EUR</td>\n      <td>Europa</td>\n      <td>NaN</td>\n      <td>M. Ambiente</td>\n      <td>[1]</td>\n      <td>[Directiva 2003/35]</td>\n    </tr>\n    <tr>\n      <th>4559</th>\n      <td>DIR 2003/36 EUR</td>\n      <td>36</td>\n      <td>Directiva 2003/36/CE del Parlamento Europeo y ...</td>\n      <td>EUR</td>\n      <td>Europa</td>\n      <td>NaN</td>\n      <td>M. Ambiente / Prevención</td>\n      <td>[1][2]</td>\n      <td>[Directiva 2003/36, Directiva 76/769]</td>\n    </tr>\n    <tr>\n      <th>4560</th>\n      <td>DIR 2003/4 EUR</td>\n      <td>4</td>\n      <td>Directiva 2003/4/CE del Parlamento Europeo y d...</td>\n      <td>EUR</td>\n      <td>Europa</td>\n      <td>NaN</td>\n      <td>M. Ambiente</td>\n      <td>[1]</td>\n      <td>[Directiva 2003/4, Directiva 90/313]</td>\n    </tr>\n    <tr>\n      <th>4561</th>\n      <td>DIR 2003/40 EUR</td>\n      <td>40</td>\n      <td>Directiva 2003/40/CE de la Comisión de 16 de m...</td>\n      <td>EUR</td>\n      <td>Europa</td>\n      <td>NaN</td>\n      <td>Seg. Alimentaria</td>\n      <td>[7]</td>\n      <td>[Directiva 2003/40]</td>\n    </tr>\n    <tr>\n      <th>4562</th>\n      <td>DIR 2003/53 EUR</td>\n      <td>53</td>\n      <td>Directiva 2003/53/CE del Parlamento Europeo y ...</td>\n      <td>EUR</td>\n      <td>Europa</td>\n      <td>NaN</td>\n      <td>M. Ambiente / Prevención</td>\n      <td>[1][2]</td>\n      <td>[Directiva 2003/53, Directiva 76/769]</td>\n    </tr>\n    <tr>\n      <th>4563</th>\n      <td>DIR 2003/58 EUR</td>\n      <td>58</td>\n      <td>Directiva 2003/58/CE del Parlamento Europeo y ...</td>\n      <td>EUR</td>\n      <td>Europa</td>\n      <td>NaN</td>\n      <td>M. Ambiente / Prevención</td>\n      <td>[1][2]</td>\n      <td>[Directiva 2003/58, Directiva 68/151]</td>\n    </tr>\n    <tr>\n      <th>4564</th>\n      <td>DIR 2003/73 EUR</td>\n      <td>73</td>\n      <td>Directiva 2003/73/CE de la Comisión, de 24 de ...</td>\n      <td>EUR</td>\n      <td>Europa</td>\n      <td>NaN</td>\n      <td>M. Ambiente</td>\n      <td>[1]</td>\n      <td>[Directiva 2003/73, Directiva 1999/94]</td>\n    </tr>\n    <tr>\n      <th>4565</th>\n      <td>DIR 2003/76 EUR</td>\n      <td>76</td>\n      <td>Directiva 2003/76/CE de la comisión de 11 de a...</td>\n      <td>EUR</td>\n      <td>Europa</td>\n      <td>NaN</td>\n      <td>M. Ambiente</td>\n      <td>[1]</td>\n      <td>[Directiva 2003/76, Directiva 70/220]</td>\n    </tr>\n    <tr>\n      <th>4566</th>\n      <td>DIR 2003/87 EUR</td>\n      <td>87</td>\n      <td>Directiva 2003/87/CE del parlamento europeo y ...</td>\n      <td>EUR</td>\n      <td>Europa</td>\n      <td>NaN</td>\n      <td>M. Ambiente</td>\n      <td>[1]</td>\n      <td>[Directiva 2003/87, Directiva 96/61]</td>\n    </tr>\n    <tr>\n      <th>4567</th>\n      <td>DIR 2003/88 EUR</td>\n      <td>88</td>\n      <td>Directiva 2003/88/CE del Parlamento Europeo y ...</td>\n      <td>EUR</td>\n      <td>Europa</td>\n      <td>NaN</td>\n      <td>Prevención</td>\n      <td>[2]</td>\n      <td>[Directiva 2003/88]</td>\n    </tr>\n    <tr>\n      <th>4568</th>\n      <td>DIR 2004/101 EUR</td>\n      <td>101</td>\n      <td>Directiva 2004/101/CE del Parlamento Europeo y...</td>\n      <td>EUR</td>\n      <td>Europa</td>\n      <td>NaN</td>\n      <td>M. Ambiente</td>\n      <td>[1]</td>\n      <td>[Directiva 2004/101, Directiva 2003/87]</td>\n    </tr>\n    <tr>\n      <th>4569</th>\n      <td>DIR 2004/107 EUR</td>\n      <td>107</td>\n      <td>Directiva 2004/107/CE del Parlamento Europeo y...</td>\n      <td>EUR</td>\n      <td>Europa</td>\n      <td>NaN</td>\n      <td>M. Ambiente / Prevención</td>\n      <td>[1][2]</td>\n      <td>[Directiva 2004/107]</td>\n    </tr>\n    <tr>\n      <th>4570</th>\n      <td>DIR 2004/108 EUR</td>\n      <td>108</td>\n      <td>Directiva 2004/108/CE del Parlamento Europeo y...</td>\n      <td>EUR</td>\n      <td>Europa</td>\n      <td>NaN</td>\n      <td>Prevención</td>\n      <td>[2]</td>\n      <td>[Directiva 2004/108, Directiva 89/336]</td>\n    </tr>\n    <tr>\n      <th>4571</th>\n      <td>DIR 2004/110 EUR</td>\n      <td>110</td>\n      <td>Directiva 2004/110/CE de la Comisión de 9 de d...</td>\n      <td>EUR</td>\n      <td>Europa</td>\n      <td>NaN</td>\n      <td>M. Ambiente / Prevención</td>\n      <td>[1][2]</td>\n      <td>[Directiva 2004/110, Directiva 96/49]</td>\n    </tr>\n    <tr>\n      <th>4572</th>\n      <td>DIR 2004/111 EUR</td>\n      <td>111</td>\n      <td>Directiva 2004/111/CE de la Comisión de 9 de d...</td>\n      <td>EUR</td>\n      <td>Europa</td>\n      <td>NaN</td>\n      <td>M. Ambiente / Prevención</td>\n      <td>[1][2]</td>\n      <td>[Directiva 2004/111, Directiva 94/55]</td>\n    </tr>\n    <tr>\n      <th>4573</th>\n      <td>DIR 2004/112 EUR</td>\n      <td>112</td>\n      <td>Directiva 2004/112/CE de la Comisión, de 13 de...</td>\n      <td>EUR</td>\n      <td>Europa</td>\n      <td>NaN</td>\n      <td>M. Ambiente / Prevención</td>\n      <td>[1][2]</td>\n      <td>[Directiva 2004/112, Directiva 95/50]</td>\n    </tr>\n    <tr>\n      <th>4574</th>\n      <td>DIR 2004/12 EUR</td>\n      <td>12</td>\n      <td>Directiva 2004/12/CE del Parlamento Europeo y ...</td>\n      <td>EUR</td>\n      <td>Europa</td>\n      <td>NaN</td>\n      <td>M. Ambiente</td>\n      <td>[1]</td>\n      <td>[Directiva 2004/12, Directiva 94/62]</td>\n    </tr>\n    <tr>\n      <th>4575</th>\n      <td>DIR 2004/21 EUR</td>\n      <td>21</td>\n      <td>Directiva 2004/21/CE de la comisión de 24 de f...</td>\n      <td>EUR</td>\n      <td>Europa</td>\n      <td>NaN</td>\n      <td>M. Ambiente / Prevención</td>\n      <td>[1][2]</td>\n      <td>[Directiva 2004/21, Directiva 1976/769]</td>\n    </tr>\n    <tr>\n      <th>4576</th>\n      <td>DIR 2004/35 EUR</td>\n      <td>35</td>\n      <td>Directiva 2004/35/CE del Parlamento Europeo y ...</td>\n      <td>EUR</td>\n      <td>Europa</td>\n      <td>NaN</td>\n      <td>M. Ambiente</td>\n      <td>[1]</td>\n      <td>[Directiva 2004/35]</td>\n    </tr>\n    <tr>\n      <th>4577</th>\n      <td>DIR 2004/37 EUR</td>\n      <td>37</td>\n      <td>Directiva 2004/37/CE del Parlamento Europeo y ...</td>\n      <td>EUR</td>\n      <td>Europa</td>\n      <td>NaN</td>\n      <td>Prevención</td>\n      <td>[2]</td>\n      <td>[Directiva 2004/37]</td>\n    </tr>\n    <tr>\n      <th>4578</th>\n      <td>DIR 2004/40 EUR</td>\n      <td>40</td>\n      <td>Directiva 2004/40/CE del Parlamento Europeo y ...</td>\n      <td>EUR</td>\n      <td>Europa</td>\n      <td>NaN</td>\n      <td>Prevención</td>\n      <td>[2]</td>\n      <td>[Directiva 2004/40, Directiva 89/391]</td>\n    </tr>\n    <tr>\n      <th>4579</th>\n      <td>DIR 2004/42 EUR</td>\n      <td>42</td>\n      <td>Directiva 2004/42/CE, del Parlamento Europeo y...</td>\n      <td>EUR</td>\n      <td>Europa</td>\n      <td>NaN</td>\n      <td>M. Ambiente</td>\n      <td>[1]</td>\n      <td>[Directiva 2004/42, Directiva 1999/13]</td>\n    </tr>\n    <tr>\n      <th>4580</th>\n      <td>DIR 2004/73 EUR</td>\n      <td>73</td>\n      <td>Directiva 2004/73/CE de la Comisión de 29 de a...</td>\n      <td>EUR</td>\n      <td>Europa</td>\n      <td>NaN</td>\n      <td>M. Ambiente / Prevención</td>\n      <td>[1][2]</td>\n      <td>[Directiva 2004/73, Directiva 67/548]</td>\n    </tr>\n    <tr>\n      <th>4581</th>\n      <td>DIR 2004/8 EUR</td>\n      <td>8</td>\n      <td>Directiva 2004/8/CE del parlamento europeo y d...</td>\n      <td>EUR</td>\n      <td>Europa</td>\n      <td>NaN</td>\n      <td>M. Ambiente</td>\n      <td>[1]</td>\n      <td>[Directiva 2004/8, Directiva 92/42]</td>\n    </tr>\n    <tr>\n      <th>4582</th>\n      <td>DIR 2004/89 EUR</td>\n      <td>89</td>\n      <td>Directiva 2004/89/CE de la Comisión de 13 de s...</td>\n      <td>EUR</td>\n      <td>Europa</td>\n      <td>NaN</td>\n      <td>M. Ambiente / Prevención</td>\n      <td>[1][2]</td>\n      <td>[Directiva 2004/89, Directiva 96/49]</td>\n    </tr>\n    <tr>\n      <th>4583</th>\n      <td>DIR 2004/96 EUR</td>\n      <td>96</td>\n      <td>Directiva 2004/96/CE de 27 de septiembre de 20...</td>\n      <td>EUR</td>\n      <td>Europa</td>\n      <td>NaN</td>\n      <td>M. Ambiente / Prevención</td>\n      <td>[1][2]</td>\n      <td>[Directiva 2004/96, Directiva 76/769]</td>\n    </tr>\n    <tr>\n      <th>4584</th>\n      <td>DIR 2004/98 EUR</td>\n      <td>98</td>\n      <td>Directiva 2004/98/CE de la Comisión de 30 de s...</td>\n      <td>EUR</td>\n      <td>Europa</td>\n      <td>NaN</td>\n      <td>M. Ambiente / Prevención</td>\n      <td>[1][2]</td>\n      <td>[Directiva 2004/98, Directiva 76/769]</td>\n    </tr>\n    <tr>\n      <th>4585</th>\n      <td>DIR 2005/20 EUR</td>\n      <td>20</td>\n      <td>Directiva 2005/20/CE del Parlamento Europeo y ...</td>\n      <td>EUR</td>\n      <td>Europa</td>\n      <td>NaN</td>\n      <td>M. Ambiente</td>\n      <td>[1]</td>\n      <td>[Directiva 2005/20, Directiva 94/62]</td>\n    </tr>\n    <tr>\n      <th>4586</th>\n      <td>DIR 2005/32 EUR</td>\n      <td>32</td>\n      <td>Directiva 2005/32/CE del Parlamento Europeo y ...</td>\n      <td>EUR</td>\n      <td>Europa</td>\n      <td>NaN</td>\n      <td>M. Ambiente</td>\n      <td>[1]</td>\n      <td>[Directiva 2005/32, Directiva 92/42]</td>\n    </tr>\n    <tr>\n      <th>4587</th>\n      <td>DIR 2005/33 EUR</td>\n      <td>33</td>\n      <td>Directiva 2005/33/CE del Parlamento Europeo y ...</td>\n      <td>EUR</td>\n      <td>Europa</td>\n      <td>NaN</td>\n      <td>Reg. Industrial</td>\n      <td>[3]</td>\n      <td>[Directiva 2005/33, Directiva 1999/32]</td>\n    </tr>\n    <tr>\n      <th>4588</th>\n      <td>DIR 2005/55 EUR</td>\n      <td>55</td>\n      <td>Directiva 2005/55/CE del Parlamento Europeo y ...</td>\n      <td>EUR</td>\n      <td>Europa</td>\n      <td>NaN</td>\n      <td>M. Ambiente</td>\n      <td>[1]</td>\n      <td>[Directiva 2005/55]</td>\n    </tr>\n    <tr>\n      <th>4589</th>\n      <td>DIR 2005/59 EUR</td>\n      <td>59</td>\n      <td>Directiva 2005/59/CE del Parlamento Europeo y ...</td>\n      <td>EUR</td>\n      <td>Europa</td>\n      <td>NaN</td>\n      <td>M. Ambiente / Prevención</td>\n      <td>[1][2]</td>\n      <td>[Directiva 2005/59, Directiva 76/769]</td>\n    </tr>\n    <tr>\n      <th>4590</th>\n      <td>DIR 2005/64 EUR</td>\n      <td>64</td>\n      <td>Directiva 2005/64/CE del Parlamento europeo y ...</td>\n      <td>EUR</td>\n      <td>Europa</td>\n      <td>NaN</td>\n      <td>M. Ambiente / Reg. Industrial</td>\n      <td>[1][3]</td>\n      <td>[Directiva 2005/64, Directiva 70/156]</td>\n    </tr>\n    <tr>\n      <th>4591</th>\n      <td>DIR 2005/69 EUR</td>\n      <td>69</td>\n      <td>Directiva 2005/69/CE del Parlamento Europeo y ...</td>\n      <td>EUR</td>\n      <td>Europa</td>\n      <td>NaN</td>\n      <td>M. Ambiente / Prevención</td>\n      <td>[1][2]</td>\n      <td>[Directiva 2005/69, Directiva 76/769]</td>\n    </tr>\n    <tr>\n      <th>4592</th>\n      <td>DIR 2005/78 EUR</td>\n      <td>78</td>\n      <td>Directiva 2005/78/CE  de la Comisión de 14 de ...</td>\n      <td>EUR</td>\n      <td>Europa</td>\n      <td>NaN</td>\n      <td>M. Ambiente</td>\n      <td>[1]</td>\n      <td>[Directiva 2005/78, Directiva 2005/55]</td>\n    </tr>\n    <tr>\n      <th>4593</th>\n      <td>DIR 2005/84 EUR</td>\n      <td>84</td>\n      <td>Directiva 2005/84/CE del Parlamento Europeo y ...</td>\n      <td>EUR</td>\n      <td>Europa</td>\n      <td>NaN</td>\n      <td>M. Ambiente / Prevención</td>\n      <td>[1][2]</td>\n      <td>[Directiva 2005/84, Directiva 76/769]</td>\n    </tr>\n    <tr>\n      <th>4594</th>\n      <td>DIR 2005/88 EUR</td>\n      <td>88</td>\n      <td>Directiva 2005/88/CE del Parlamento Europeo y ...</td>\n      <td>EUR</td>\n      <td>Europa</td>\n      <td>NaN</td>\n      <td>Prevención</td>\n      <td>[2]</td>\n      <td>[Directiva 2005/88, Directiva 2000/14]</td>\n    </tr>\n    <tr>\n      <th>4595</th>\n      <td>DIR 2005/90 EUR</td>\n      <td>90</td>\n      <td>Directiva 2005/90/CE del Parlamento Europeo y ...</td>\n      <td>EUR</td>\n      <td>Europa</td>\n      <td>NaN</td>\n      <td>M. Ambiente / Prevención</td>\n      <td>[1][2]</td>\n      <td>[Directiva 2005/90, directiva 76/769]</td>\n    </tr>\n    <tr>\n      <th>4596</th>\n      <td>DIR 2006/105 EUR</td>\n      <td>105</td>\n      <td>Directiva 2006/105/CE del Consejo, de 20 de no...</td>\n      <td>EUR</td>\n      <td>Europa</td>\n      <td>NaN</td>\n      <td>M. Ambiente</td>\n      <td>[1]</td>\n      <td>[Directiva 2006/105]</td>\n    </tr>\n    <tr>\n      <th>4597</th>\n      <td>DIR 2006/11 EUR</td>\n      <td>11</td>\n      <td>Directiva 2006/11/CE del Parlamento Europeo y ...</td>\n      <td>EUR</td>\n      <td>Europa</td>\n      <td>NaN</td>\n      <td>M. Ambiente</td>\n      <td>[1]</td>\n      <td>[Directiva 2006/11]</td>\n    </tr>\n    <tr>\n      <th>4598</th>\n      <td>DIR 2006/117 EUR</td>\n      <td>117</td>\n      <td>Directiva 2006/117/EURATOM del consejo de 20 d...</td>\n      <td>EUR</td>\n      <td>Europa</td>\n      <td>NaN</td>\n      <td>M. Ambiente / Prevención</td>\n      <td>[1][2]</td>\n      <td>[Directiva 2006/117]</td>\n    </tr>\n    <tr>\n      <th>4599</th>\n      <td>DIR 2006/118 EUR</td>\n      <td>118</td>\n      <td>Directiva 2006/118/CE del Parlamento Europeo y...</td>\n      <td>EUR</td>\n      <td>Europa</td>\n      <td>NaN</td>\n      <td>M. Ambiente</td>\n      <td>[1]</td>\n      <td>[Directiva 2006/118]</td>\n    </tr>\n    <tr>\n      <th>4600</th>\n      <td>DIR 2006/12 EUR</td>\n      <td>12</td>\n      <td>Directiva 2006/12/CE del Parlamento europeo y ...</td>\n      <td>EUR</td>\n      <td>Europa</td>\n      <td>NaN</td>\n      <td>M. Ambiente</td>\n      <td>[1]</td>\n      <td>[Directiva 2006/12]</td>\n    </tr>\n    <tr>\n      <th>4601</th>\n      <td>DIR 2006/121 EUR</td>\n      <td>121</td>\n      <td>Directiva 2006/121/CE del Parlamento Europeo y...</td>\n      <td>EUR</td>\n      <td>Europa</td>\n      <td>NaN</td>\n      <td>M. Ambiente / Prevención</td>\n      <td>[1][2]</td>\n      <td>[Directiva 2006/121, Directiva 67/548, Reglame...</td>\n    </tr>\n    <tr>\n      <th>4602</th>\n      <td>DIR 2006/122 EUR</td>\n      <td>122</td>\n      <td>Directiva 2006/122/CE del Parlamento Europeo y...</td>\n      <td>EUR</td>\n      <td>Europa</td>\n      <td>NaN</td>\n      <td>M. Ambiente / Prevención</td>\n      <td>[1][2]</td>\n      <td>[Directiva 2006/122, Directiva 76/769]</td>\n    </tr>\n    <tr>\n      <th>4603</th>\n      <td>DIR 2006/139 EUR</td>\n      <td>139</td>\n      <td>Directiva 2006/139 EUR de la Comisión de 20 de...</td>\n      <td>EUR</td>\n      <td>Europa</td>\n      <td>NaN</td>\n      <td>M. Ambiente / Prevención</td>\n      <td>[1][2]</td>\n      <td>[Directiva 2006/139, Directiva 76/769]</td>\n    </tr>\n    <tr>\n      <th>4604</th>\n      <td>DIR 2006/15 EUR</td>\n      <td>15</td>\n      <td>Directiva 2006/15/CE de la Comisión de 7 de fe...</td>\n      <td>EUR</td>\n      <td>Europa</td>\n      <td>NaN</td>\n      <td>Prevención</td>\n      <td>[2]</td>\n      <td>[Directiva 2006/15, Directiva 98/24]</td>\n    </tr>\n    <tr>\n      <th>4605</th>\n      <td>DIR 2006/20 EUR</td>\n      <td>20</td>\n      <td>Directiva 2006/20/CE de la Comisión, de 17 de ...</td>\n      <td>EUR</td>\n      <td>Europa</td>\n      <td>NaN</td>\n      <td>Reg. Industrial</td>\n      <td>[3]</td>\n      <td>[Directiva 2006/20, Directiva 70/221]</td>\n    </tr>\n    <tr>\n      <th>4606</th>\n      <td>DIR 2006/21 EUR</td>\n      <td>21</td>\n      <td>Directiva 2006/21/CE del parlamento europeo y ...</td>\n      <td>EUR</td>\n      <td>Europa</td>\n      <td>NaN</td>\n      <td>M. Ambiente</td>\n      <td>[1]</td>\n      <td>[Directiva 2006/21, Directiva 2004/35]</td>\n    </tr>\n  </tbody>\n</table>\n</div>"
     },
     "metadata": {},
     "execution_count": 12
    }
   ],
   "source": [
    "ASECORP_BBDD_BOE[1200:1250]"
   ]
  },
  {
   "cell_type": "code",
   "execution_count": 13,
   "metadata": {},
   "outputs": [],
   "source": [
    "# titulo"
   ]
  },
  {
   "cell_type": "code",
   "execution_count": 14,
   "metadata": {},
   "outputs": [
    {
     "output_type": "execute_result",
     "data": {
      "text/plain": [
       "5423"
      ]
     },
     "metadata": {},
     "execution_count": 14
    }
   ],
   "source": [
    "len(titulo)"
   ]
  },
  {
   "cell_type": "code",
   "execution_count": 15,
   "metadata": {},
   "outputs": [],
   "source": [
    "## Busca patrones regex definidos en columna títulos del DF \n",
    "boletin = []\n",
    "for i, row in ASECORP_BBDD_BOE.iterrows():\n",
    "    boletin.append(str(re.findall('|'.join(pattern), row['Titulo'], flags=re.IGNORECASE)))"
   ]
  },
  {
   "cell_type": "code",
   "execution_count": 16,
   "metadata": {},
   "outputs": [
    {
     "output_type": "execute_result",
     "data": {
      "text/plain": [
       "[\"['Acuerdo Multilateral RID 1/2020']\",\n",
       " '[]',\n",
       " '[]',\n",
       " '[]',\n",
       " \"['Acuerdo Multilateral RID 2/2020']\",\n",
       " '[]',\n",
       " \"['Acuerdo Multilateral RID 1/2013']\",\n",
       " '[]',\n",
       " '[]',\n",
       " '[]',\n",
       " '[]',\n",
       " \"['Acuerdo Multilateral RID 3/2007']\",\n",
       " \"['Acuerdo Multilateral RID 4/2009']\",\n",
       " '[]',\n",
       " '[]',\n",
       " \"['Acuerdo Multilateral M-150']\",\n",
       " \"['Acuerdo Multilateral M-159']\",\n",
       " \"['Acuerdo multilateral M-168']\",\n",
       " \"['Acuerdo Multilateral M-170']\",\n",
       " \"['Acuerdo Multilateral M-171']\",\n",
       " \"['Acuerdo Multilateral M-173']\",\n",
       " \"['Acuerdo Multilateral M-175']\",\n",
       " '[]',\n",
       " \"['Acuerdo Multilateral M-178']\",\n",
       " \"['Acuerdo Multilateral M-198']\"]"
      ]
     },
     "metadata": {},
     "execution_count": 16
    }
   ],
   "source": [
    "boletin[0:25]"
   ]
  },
  {
   "cell_type": "code",
   "execution_count": 17,
   "metadata": {},
   "outputs": [],
   "source": [
    "## Para cada fila de la BBDD recoge la expresión REGEX encontrada y si no existe no la incluye \n",
    "## en la lista resultante llamada 'boletin'. Además si no detecta expresión la cuenta como vacía\n",
    "## en variable 'n_vacios', y la añade a la lista 'vacios' para inspeccionar posteriormente \n",
    "boletin = []\n",
    "vacios = []\n",
    "n_vacios = 0\n",
    "for i, row in ASECORP_BBDD_BOE.iterrows():\n",
    "    regex_result = re.findall('|'.join(pattern), row['Titulo'], flags=re.IGNORECASE)\n",
    "    if len(regex_result) != 0:\n",
    "        boletin.append(re.findall('|'.join(pattern), row['Titulo'], flags=re.IGNORECASE))\n",
    "    else:\n",
    "        n_vacios += 1\n",
    "        vacios.append(row['Titulo'])"
   ]
  },
  {
   "cell_type": "code",
   "execution_count": 18,
   "metadata": {},
   "outputs": [
    {
     "output_type": "execute_result",
     "data": {
      "text/plain": [
       "805"
      ]
     },
     "metadata": {},
     "execution_count": 18
    }
   ],
   "source": [
    "n_vacios"
   ]
  },
  {
   "cell_type": "code",
   "execution_count": 19,
   "metadata": {},
   "outputs": [
    {
     "output_type": "execute_result",
     "data": {
      "text/plain": [
       "['Entrada en vigor del Acuerdo entre el Reino de España y el Principado de Andorra sobre traslado y gestión de residuos, hecho en Madrid el 17 de octubre de 2006.',\n",
       " 'Aplicación provisional del Acuerdo entre el Reino de España y el Principado de Andorra sobre traslado y gestión de residuos, hecho en Madrid el 17 de octubre de 2006.',\n",
       " 'Acuerdo de la Junta de Gobierno de la Confederación Hidrográfica del Segura celebrada el día 30 de octubre de 2018 sobre aplicación de indisponibilidad o reducción de dotaciones de acuerdo al Plan Especial de Sequía y al Real Decreto que la regula',\n",
       " 'Entrada en vigor del Acuerdo entre el Reino de España y el Principado de Andorra sobre el traslado de residuos, hecho en Madrid el 29 de noviembre de 2011.',\n",
       " 'Canje de Notas por el que se procede a la prórroga del mantenimiento en vigor del Acuerdo entre el Reino de España y el Principado de Andorra sobre traslado y gestión de residuos, hecho en Madrid el 27 de enero de 2000.',\n",
       " 'Aplicación provisional del Acuerdo entre el Reino de España y el Principado de Andorra sobre el traslado de residuos, hecho en Madrid el 29 de noviembre de 2011.',\n",
       " 'Plan de Acción de Ahorro y Eficiencia Energética  2011-2020, del 29 de julio de 2011 (IDAE)',\n",
       " 'Acuerdo Especial Multilateral RID 3/2020 en virtud de la Sección 1.5.1 del Reglamento del Transporte Internacional de Mercancías Peligrosas por Ferrocarril (RID), relativo a la inspección periódica y ensayo de recipientes a presión para el transporte de gases de la Clase 2, hecho en Madrid el 2 de abril de 2020',\n",
       " 'Acuerdo Especial Multilateral RID 4/2020 en virtud de la Sección 1.5.1 del Reglamento del Transporte Internacional de Mercancías Peligrosas por Ferrocarril (RID), sobre inspecciones periódicas o intermedias de cisternas portátiles y contenedores de gas de elementos múltiples (CGEM) certificados «UN» de acuerdo con los apartados 6.7.2.19.2, 6.7.3.15.2, 6.7.4.14.2 y 6.7.5.12.2 del RID, hecho en Madrid el 2 de abril de 2020',\n",
       " 'Acuerdo Especial Multilateral RID 8.2020 en virtud de la sección 1.5.1 del RID, relativo a la inspección periódica y ensayo de recipientes a presión para el transporte de gases de la Clase 2, hecho en Madrid el 1 de diciembre de 2020',\n",
       " 'Acuerdo multilateral ADR M-177 en virtud de la sección 1.5.1 del Acuerdo Europeo sobre transporte internacional de mercancías peligrosas por carretera (ADR), publicado en el «Boletín Oficial del Estado» n.º 18, de 21 de enero de 2005, relativo al documento de transporte en operaciones de venta en ruta, hecho en Madrid el 23 de junio de 2006.',\n",
       " 'Acuerdo Multilateral M 269 en aplicación de la sección 1.5.1 del Acuerdo Europeo sobre transporte internacional de mercancías peligrosas por carretera (ADR), relativo al marcado de los números UN en botellas para gases licuados del petróleo (GLP), hecho en Madrid el 20 de diciembre de 2013.',\n",
       " 'Acuerdo  Multilateral  M  300  en  aplicación  de  la  sección  1.5.1  del  Acuerdo Europeo sobre transporte internacional de mercancías peligrosas por carretera (ADR), relativo al documento de transporte en operaciones de venta en ruta, hecho en Madrid el 11 de julio de 2016',\n",
       " 'Acuerdo Multilateral M 304 en aplicación de la sección 1.5.1 del AcuerdoEuropeo sobre transporte internacional de mercancías peligrosas por carretera(ADR), relativo al número de remolques en una unidad de transporte demercancías peligrosas, hecho en Madrid el 30 de enero de 2017',\n",
       " 'Acuerdo Multilateral M 311 en virtud de la sección 1.5.1 del Anexo A del Acuerdo Europeo sobre transporte internacional de mercancías peligrosas por carretera (ADR), relativo al marcado (placas etiqueta) de contenedores usados exclusivamente en una operación de transporte por carretera, hecho en Madrid el 22 de marzo de 2018',\n",
       " 'Acuerdo Multilateral M315 en virtud de la sección 1.5.1 del Anexo A del Acuerdo Europeo sobre transporte internacional de mercancías peligrosas por carretera (ADR), relativo al transporte de desechos contaminados con virus que causan fiebre hemorrágica, hecho en Madrid el 8 de julio de 2019',\n",
       " 'Acuerdo Multilateral M317 en virtud de la sección 1.5. del Acuerdo europeo sobre transporte internacional de mercancías peligrosas por carretera (ADR), relativo al transporte de desechos médicos sólidos o clínicos, Categoría A, hecho en Madrid el 23 de marzo de 2020',\n",
       " 'Acuerdo Multilateral M324 en virtud de la sección 1.5.1 del Acuerdo europeo sobre transporte internacional de mercancías peligrosas por carretera (ADR) relativo a los certificados de formación de los conductores de conformidad con el punto 8.2.2.8.2 del ADR y los certificados de consejeros de seguridad de conformidad con el punto 1.8.3.7 del ADR, hecho en Madrid el 23 de marzo de 2020',\n",
       " 'Acuerdo Multilateral M325 en virtud de la sección 1.5.1 del Acuerdo europeo sobre transporte internacional de mercancías peligrosas por carretera (ADR), relativo a inspecciones periódicas o intermedias de cisternas de conformidad con los apartados 6.8.2.4.2, 6.8.2.4.3, 6.8.3.4.6, 6.8.3.4.12, 6.9.5.2 y 6.10.4 del ADR, y los certificados de aprobación para vehículos de conformidad con el apartado 9.1.3.4 del ADR, hecho en Madrid el 23 de marzo de 2020',\n",
       " 'Acuerdo Multilateral M326 en virtud de la sección 1.5.1 del Acuerdo europeo sobre transporte internacional de mercancías peligrosas por carretera (ADR), relativo a la inspección periódica y ensayo de recipientes a presión del transporte de gases de la Clase 2, hecho en Madrid el 2 de abril de 2020',\n",
       " 'Acuerdo Multilateral M327 bajo la sección 1.5.1 del Acuerdo europeo sobre transporte internacional de mercancías peligrosas por carretera (ADR), sobre inspecciones periódicas o intermedias de cisternas portátiles y contenedores de gas de elementos múltiples (CGEM) certificados «UN» de acuerdo con los apartados 6.7.2.19.2, 6.7.3.15.2, 6.7.4.14.2 y 6.7.5.12.2 del ADR, hecho en Madrid el 2 de abril de 2020',\n",
       " 'Acuerdo Multilateral M330 en virtud de la sección 1.5.1 del ADR, relativo a los certificados de formación de los conductores de conformidad con el punto 8.2.2.8.2 del ADR y los certificados de consejeros de seguridad de conformidad con el punto 1.8.3.7 del ADR, hecho en Madrid el 2 de diciembre de 2020',\n",
       " 'Acuerdo Multilateral M331 en virtud de la sección 1.5.1 del ADR, relativo a la inspección periódica y ensayo de recipientes a presión para el transporte de gases de la Clase 2, hecho en Madrid el 2 de diciembre de 2020',\n",
       " 'Acuerdo Multilateral M332 en virtud de la sección 1.5.1 del ADR, en relación con lo establecido para los materiales radiactivos de baja actividad específica BAE-III en el párrafo 2.2.7.2.3.1.4 del ADR, hecho en Madrid el 11 de diciembre de 2020',\n",
       " 'ADR 2003']"
      ]
     },
     "metadata": {},
     "execution_count": 19
    }
   ],
   "source": [
    "vacios[0:25]"
   ]
  },
  {
   "cell_type": "code",
   "execution_count": 20,
   "metadata": {},
   "outputs": [
    {
     "output_type": "execute_result",
     "data": {
      "text/plain": [
       "[['Acuerdo Multilateral RID 1/2020'],\n",
       " ['Acuerdo Multilateral RID 2/2020'],\n",
       " ['Acuerdo Multilateral RID 1/2013'],\n",
       " ['Acuerdo Multilateral RID 3/2007'],\n",
       " ['Acuerdo Multilateral RID 4/2009'],\n",
       " ['Acuerdo Multilateral M-150'],\n",
       " ['Acuerdo Multilateral M-159'],\n",
       " ['Acuerdo multilateral M-168'],\n",
       " ['Acuerdo Multilateral M-170'],\n",
       " ['Acuerdo Multilateral M-171'],\n",
       " ['Acuerdo Multilateral M-173'],\n",
       " ['Acuerdo Multilateral M-175'],\n",
       " ['Acuerdo Multilateral M-178'],\n",
       " ['Acuerdo Multilateral M-198'],\n",
       " ['Acuerdo Multilateral M-214'],\n",
       " ['Acuerdo Multilateral M-218'],\n",
       " ['Acuerdo Multilateral M-226'],\n",
       " ['Acuerdo Multilateral M-228'],\n",
       " ['Acuerdo Multilateral M-231'],\n",
       " ['Acuerdo Multilateral M-236'],\n",
       " ['Acuerdo Multilateral M-245'],\n",
       " ['Acuerdo Multilateral M-254'],\n",
       " ['Acuerdo Multilateral M-259'],\n",
       " ['Acuerdo Multilateral M-265'],\n",
       " ['Acuerdo Multilateral M-268']]"
      ]
     },
     "metadata": {},
     "execution_count": 20
    }
   ],
   "source": [
    "boletin[0:25]"
   ]
  },
  {
   "cell_type": "code",
   "execution_count": 21,
   "metadata": {},
   "outputs": [],
   "source": [
    "# Flatten list of lists\n",
    "boletin_ASECORP_flat_list = [item for sublist in boletin for item in sublist]"
   ]
  },
  {
   "cell_type": "code",
   "execution_count": 22,
   "metadata": {},
   "outputs": [
    {
     "output_type": "execute_result",
     "data": {
      "text/plain": [
       "['Acuerdo Multilateral RID 1/2020',\n",
       " 'Acuerdo Multilateral RID 2/2020',\n",
       " 'Acuerdo Multilateral RID 1/2013',\n",
       " 'Acuerdo Multilateral RID 3/2007',\n",
       " 'Acuerdo Multilateral RID 4/2009',\n",
       " 'Acuerdo Multilateral M-150',\n",
       " 'Acuerdo Multilateral M-159',\n",
       " 'Acuerdo multilateral M-168',\n",
       " 'Acuerdo Multilateral M-170',\n",
       " 'Acuerdo Multilateral M-171',\n",
       " 'Acuerdo Multilateral M-173',\n",
       " 'Acuerdo Multilateral M-175',\n",
       " 'Acuerdo Multilateral M-178',\n",
       " 'Acuerdo Multilateral M-198',\n",
       " 'Acuerdo Multilateral M-214',\n",
       " 'Acuerdo Multilateral M-218',\n",
       " 'Acuerdo Multilateral M-226',\n",
       " 'Acuerdo Multilateral M-228',\n",
       " 'Acuerdo Multilateral M-231',\n",
       " 'Acuerdo Multilateral M-236',\n",
       " 'Acuerdo Multilateral M-245',\n",
       " 'Acuerdo Multilateral M-254',\n",
       " 'Acuerdo Multilateral M-259',\n",
       " 'Acuerdo Multilateral M-265',\n",
       " 'Acuerdo Multilateral M-268']"
      ]
     },
     "metadata": {},
     "execution_count": 22
    }
   ],
   "source": [
    "boletin_ASECORP_flat_list[0:25]"
   ]
  },
  {
   "cell_type": "code",
   "execution_count": 23,
   "metadata": {},
   "outputs": [],
   "source": [
    "## Elimina duplicados\n",
    "boletin_ASECORP_flat_list = list(set(boletin_ASECORP_flat_list))"
   ]
  },
  {
   "cell_type": "code",
   "execution_count": 24,
   "metadata": {},
   "outputs": [
    {
     "output_type": "execute_result",
     "data": {
      "text/plain": [
       "['Orden Circular 30/2012',\n",
       " 'Ley 24/2005',\n",
       " 'Real Decreto 202/2006',\n",
       " 'Real decreto 2210/1995',\n",
       " 'Real Decreto 553/2020',\n",
       " 'Reglamento (UE) 2019/1782',\n",
       " 'Reglamento Delegado (UE) 2018/674',\n",
       " 'Orden ITC/1857/2008',\n",
       " 'Reglamento (UE) 2016/1005',\n",
       " 'Orden ARM/1783/2011',\n",
       " 'Directiva 2011/88',\n",
       " 'Real Decreto 731/2020',\n",
       " 'Reglamento 852/2004',\n",
       " 'Directiva 2010/65',\n",
       " 'Reglamento 1354/2007',\n",
       " 'Directiva 2000/60',\n",
       " 'Directiva 96/60',\n",
       " 'Directiva 2003/3',\n",
       " 'Nota de servicio 4/2001',\n",
       " 'Orden de 20/11/2013',\n",
       " 'Real Decreto 596/2015',\n",
       " 'Real Decreto 365/2005',\n",
       " 'Resolución de 7/8/1998',\n",
       " 'Circular 1/2016',\n",
       " 'Ley Orgánica 9/2013']"
      ]
     },
     "metadata": {},
     "execution_count": 24
    }
   ],
   "source": [
    "boletin_ASECORP_flat_list[0:25]"
   ]
  },
  {
   "source": [
    "# Genera Fichero EXCEL de resultados"
   ],
   "cell_type": "markdown",
   "metadata": {}
  },
  {
   "cell_type": "code",
   "execution_count": 25,
   "metadata": {},
   "outputs": [],
   "source": [
    "## Crea función que convierte lista a string en todas las columnas de tabla_analisis\n",
    "## para evitar en presentación final los caracteres [' '] propios de las listas\n",
    "def list2Str(lst):\n",
    "    if type(lst) is list: # apply conversion to list columns\n",
    "        return\", \".join(lst)\n",
    "    else:\n",
    "        return lst"
   ]
  },
  {
   "cell_type": "code",
   "execution_count": 26,
   "metadata": {},
   "outputs": [],
   "source": [
    "## Aplica función de conversión de listas a strings\n",
    "ASECORP_BBDD_BOE_final = ASECORP_BBDD_BOE.apply(lambda x: [list2Str(i) for i in x])"
   ]
  },
  {
   "cell_type": "code",
   "execution_count": 27,
   "metadata": {},
   "outputs": [],
   "source": [
    "ASECORP_BBDD_BOE_final.to_csv(\"./ASECORP/ASECORP_BBDD_Tageada_\" + today.strftime(\"%Y%m%d\") + \".csv\", index=False) "
   ]
  },
  {
   "cell_type": "code",
   "execution_count": null,
   "metadata": {},
   "outputs": [],
   "source": []
  }
 ]
}