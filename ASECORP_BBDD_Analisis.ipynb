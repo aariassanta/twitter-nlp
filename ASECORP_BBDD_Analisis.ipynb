{
 "metadata": {
  "language_info": {
   "codemirror_mode": {
    "name": "ipython",
    "version": 3
   },
   "file_extension": ".py",
   "mimetype": "text/x-python",
   "name": "python",
   "nbconvert_exporter": "python",
   "pygments_lexer": "ipython3",
   "version": "3.8.5-final"
  },
  "orig_nbformat": 2,
  "kernelspec": {
   "name": "python3",
   "display_name": "Python 3",
   "language": "python"
  }
 },
 "nbformat": 4,
 "nbformat_minor": 2,
 "cells": [
  {
   "cell_type": "code",
   "execution_count": 553,
   "metadata": {},
   "outputs": [],
   "source": [
    "from lxml import etree, html\n",
    "from lxml.html.clean import clean_html\n",
    "import pandas as pd\n",
    "from datetime import date, datetime\n",
    "import requests\n",
    "import re\n",
    "import os\n",
    "import shutil"
   ]
  },
  {
   "cell_type": "code",
   "execution_count": 554,
   "metadata": {},
   "outputs": [],
   "source": [
    "today = date.today()"
   ]
  },
  {
   "cell_type": "code",
   "execution_count": 555,
   "metadata": {},
   "outputs": [],
   "source": [
    "def save_html(html, path):\n",
    "    with open(path, 'wb') as f:\n",
    "        f.write(html)"
   ]
  },
  {
   "cell_type": "code",
   "execution_count": 556,
   "metadata": {},
   "outputs": [],
   "source": [
    "# Define expresiones REGEX para búsqueda de leyes, decretos, etc. referenciadas anteriormente\n",
    "pattern = ['Ley [0-9]+\\/[0-9]+','Ley Orgánica [0-9]+\\/[0-9]+','Decreto [0-9]+\\/[0-9]+','Real Decreto [0-9]+\\/[0-9]+','Real Decreto Legislativo [0-9]+\\/[0-9]+','Real Decreto-ley [0-9]+\\/[0-9]+','Orden [A-Z]+\\/[0-9]+\\/[0-9]+','Orden Circular [0-9]+\\/[0-9]+','Reglamento [0-9]+\\/[0-9]+', 'Directiva [0-9]+\\/[0-9]+','Directiva \\(UE\\) [0-9]+\\/[0-9]+','Reglamento n\\º [0-9]+\\/[0-9]+', 'Reglamento \\(UE\\) [0-9]+\\/[0-9]+','Reglamento \\(UE\\) n\\º [0-9]+\\/[0-9]+','Reglamento \\(CE\\) n\\º [0-9]+\\/[0-9]+','Reglamento \\(CEE\\) n\\º [0-9]+\\/[0-9]+','Reglamento de Ejecución \\(UE\\) [0-9]+\\/[0-9]+','Reglamento de Ejecución \\(UE\\) n\\º [0-9]+\\/[0-9]+' ,'Reglamento de Ejecución [0-9]+\\/[0-9]+','Reglamento Delegado [0-9]+\\/[0-9]+','Reglamento Delegado \\(UE\\) [0-9]+\\/[0-9]+','Reglamento Delegado \\(UE\\) n\\º [0-9]+\\/[0-9]+','Sentencia de [0-9]+ de [a-z]+ de [0-9]+','Sentencia [0-9]+\\/[0-9]+','Orden de [0-9]+ de [a-z]+ de [0-9]+', 'Resolución de [0-9]+ de [a-z]+ de [0-9]+','Resolución [a-z]+\\/[0-9]+\\/[0-9]+', 'Nota de Servicio [0-9]+\\/[0-9]+', 'Acuerdo multilateral M\\-[0-9]+', 'Acuerdo Multilateral RID [0-9]+\\/[0-9]+', 'Circular [0-9]+\\/[0-9]+', 'Decisión [0-9]+\\/[0-9]+','Decisión \\(UE\\) [0-9]+\\/[0-9]+', 'Decisión de Ejecución \\(UE\\) [0-9]+\\/[0-9]+', 'Instrucción IS\\-[0-9]+']"
   ]
  },
  {
   "source": [
    "## Importa BBDD ASECORP"
   ],
   "cell_type": "markdown",
   "metadata": {}
  },
  {
   "cell_type": "code",
   "execution_count": 557,
   "metadata": {},
   "outputs": [],
   "source": [
    "ASECORP_BBDD = pd.read_csv('./ASECORP/ExportNormes_20210126.csv', delimiter=';')"
   ]
  },
  {
   "cell_type": "code",
   "execution_count": 558,
   "metadata": {},
   "outputs": [
    {
     "output_type": "execute_result",
     "data": {
      "text/plain": [
       "                        Codigo      Numero  \\\n",
       "0       RES SLT/2313/2020 CAT         2313   \n",
       "1      (zzz) RES 12/4/2007 AST   12/4/2007   \n",
       "2           A CORUÑA 10/7/2015   10/7/2015   \n",
       "3       A CORUÑA 11/8/2014 (1)   11/8/2014   \n",
       "4       A CORUÑA 11/8/2014 (2)   11/8/2014   \n",
       "...                        ...         ...   \n",
       "19152          ZUMAIA 1/3/2001    1/3/2001   \n",
       "19153        ZUMAIA 12/11/1999  12/11/1999   \n",
       "19154         ZUMAIA 15/6/2012   15/6/2012   \n",
       "19155          ZUMAIA 6/2/2004    6/2/2004   \n",
       "19156          ZUMAIA 9/2/2004    9/2/2004   \n",
       "\n",
       "                                                  Titulo CodigoAmbito  \\\n",
       "0      Resolución SLT/2313/2020, de 24 de septiembre,...          CAT   \n",
       "1      Resolución de 12 abril de 2007, de la Consejer...          AST   \n",
       "2      Modificación de la Ordenanza de vertidos y ser...          GAL   \n",
       "3      Ordenanza municipal reguladora de los procedim...          GAL   \n",
       "4      Ordenanza de protección contra la contaminació...          GAL   \n",
       "...                                                  ...          ...   \n",
       "19152  Ordenanza reguladora de la gestión del ciclo i...          PVA   \n",
       "19153  Normativa complementaria de las Normas Subsidi...          PVA   \n",
       "19154  Modificación de la Ordenanza municipal de la g...          PVA   \n",
       "19155  Modificación de la Normativa complementaria de...          PVA   \n",
       "19156  Reglamento regulador del vertido a colector de...          PVA   \n",
       "\n",
       "           Ambito Municipio   TiposNorma IdTiposNorma  \n",
       "0        Cataluña       NaN   Prevención          [2]  \n",
       "1        Asturias       NaN  M. Ambiente          [1]  \n",
       "2         Galicia  A Coruña  M. Ambiente          [1]  \n",
       "3         Galicia  A Coruña  M. Ambiente          [1]  \n",
       "4         Galicia  A Coruña  M. Ambiente          [1]  \n",
       "...           ...       ...          ...          ...  \n",
       "19152  Pais Vasco    Zumaia  M. Ambiente          [1]  \n",
       "19153  Pais Vasco    Zumaia  M. Ambiente          [1]  \n",
       "19154  Pais Vasco    Zumaia  M. Ambiente          [1]  \n",
       "19155  Pais Vasco    Zumaia  M. Ambiente          [1]  \n",
       "19156  Pais Vasco    Zumaia  M. Ambiente          [1]  \n",
       "\n",
       "[19157 rows x 8 columns]"
      ],
      "text/html": "<div>\n<style scoped>\n    .dataframe tbody tr th:only-of-type {\n        vertical-align: middle;\n    }\n\n    .dataframe tbody tr th {\n        vertical-align: top;\n    }\n\n    .dataframe thead th {\n        text-align: right;\n    }\n</style>\n<table border=\"1\" class=\"dataframe\">\n  <thead>\n    <tr style=\"text-align: right;\">\n      <th></th>\n      <th>Codigo</th>\n      <th>Numero</th>\n      <th>Titulo</th>\n      <th>CodigoAmbito</th>\n      <th>Ambito</th>\n      <th>Municipio</th>\n      <th>TiposNorma</th>\n      <th>IdTiposNorma</th>\n    </tr>\n  </thead>\n  <tbody>\n    <tr>\n      <th>0</th>\n      <td>RES SLT/2313/2020 CAT</td>\n      <td>2313</td>\n      <td>Resolución SLT/2313/2020, de 24 de septiembre,...</td>\n      <td>CAT</td>\n      <td>Cataluña</td>\n      <td>NaN</td>\n      <td>Prevención</td>\n      <td>[2]</td>\n    </tr>\n    <tr>\n      <th>1</th>\n      <td>(zzz) RES 12/4/2007 AST</td>\n      <td>12/4/2007</td>\n      <td>Resolución de 12 abril de 2007, de la Consejer...</td>\n      <td>AST</td>\n      <td>Asturias</td>\n      <td>NaN</td>\n      <td>M. Ambiente</td>\n      <td>[1]</td>\n    </tr>\n    <tr>\n      <th>2</th>\n      <td>A CORUÑA 10/7/2015</td>\n      <td>10/7/2015</td>\n      <td>Modificación de la Ordenanza de vertidos y ser...</td>\n      <td>GAL</td>\n      <td>Galicia</td>\n      <td>A Coruña</td>\n      <td>M. Ambiente</td>\n      <td>[1]</td>\n    </tr>\n    <tr>\n      <th>3</th>\n      <td>A CORUÑA 11/8/2014 (1)</td>\n      <td>11/8/2014</td>\n      <td>Ordenanza municipal reguladora de los procedim...</td>\n      <td>GAL</td>\n      <td>Galicia</td>\n      <td>A Coruña</td>\n      <td>M. Ambiente</td>\n      <td>[1]</td>\n    </tr>\n    <tr>\n      <th>4</th>\n      <td>A CORUÑA 11/8/2014 (2)</td>\n      <td>11/8/2014</td>\n      <td>Ordenanza de protección contra la contaminació...</td>\n      <td>GAL</td>\n      <td>Galicia</td>\n      <td>A Coruña</td>\n      <td>M. Ambiente</td>\n      <td>[1]</td>\n    </tr>\n    <tr>\n      <th>...</th>\n      <td>...</td>\n      <td>...</td>\n      <td>...</td>\n      <td>...</td>\n      <td>...</td>\n      <td>...</td>\n      <td>...</td>\n      <td>...</td>\n    </tr>\n    <tr>\n      <th>19152</th>\n      <td>ZUMAIA 1/3/2001</td>\n      <td>1/3/2001</td>\n      <td>Ordenanza reguladora de la gestión del ciclo i...</td>\n      <td>PVA</td>\n      <td>Pais Vasco</td>\n      <td>Zumaia</td>\n      <td>M. Ambiente</td>\n      <td>[1]</td>\n    </tr>\n    <tr>\n      <th>19153</th>\n      <td>ZUMAIA 12/11/1999</td>\n      <td>12/11/1999</td>\n      <td>Normativa complementaria de las Normas Subsidi...</td>\n      <td>PVA</td>\n      <td>Pais Vasco</td>\n      <td>Zumaia</td>\n      <td>M. Ambiente</td>\n      <td>[1]</td>\n    </tr>\n    <tr>\n      <th>19154</th>\n      <td>ZUMAIA 15/6/2012</td>\n      <td>15/6/2012</td>\n      <td>Modificación de la Ordenanza municipal de la g...</td>\n      <td>PVA</td>\n      <td>Pais Vasco</td>\n      <td>Zumaia</td>\n      <td>M. Ambiente</td>\n      <td>[1]</td>\n    </tr>\n    <tr>\n      <th>19155</th>\n      <td>ZUMAIA 6/2/2004</td>\n      <td>6/2/2004</td>\n      <td>Modificación de la Normativa complementaria de...</td>\n      <td>PVA</td>\n      <td>Pais Vasco</td>\n      <td>Zumaia</td>\n      <td>M. Ambiente</td>\n      <td>[1]</td>\n    </tr>\n    <tr>\n      <th>19156</th>\n      <td>ZUMAIA 9/2/2004</td>\n      <td>9/2/2004</td>\n      <td>Reglamento regulador del vertido a colector de...</td>\n      <td>PVA</td>\n      <td>Pais Vasco</td>\n      <td>Zumaia</td>\n      <td>M. Ambiente</td>\n      <td>[1]</td>\n    </tr>\n  </tbody>\n</table>\n<p>19157 rows × 8 columns</p>\n</div>"
     },
     "metadata": {},
     "execution_count": 558
    }
   ],
   "source": [
    "ASECORP_BBDD"
   ]
  },
  {
   "cell_type": "code",
   "execution_count": 562,
   "metadata": {},
   "outputs": [],
   "source": [
    "#ASECORP_BBDD_BOE = ASECORP_BBDD.loc[ASECORP_BBDD['Ambito'] == 'Europa']"
   ]
  },
  {
   "cell_type": "code",
   "execution_count": 565,
   "metadata": {},
   "outputs": [],
   "source": [
    "ASECORP_BBDD_BOE = ASECORP_BBDD.loc[ASECORP_BBDD['Ambito'].isin (['España','Europa'])]"
   ]
  },
  {
   "cell_type": "code",
   "execution_count": 566,
   "metadata": {},
   "outputs": [
    {
     "output_type": "execute_result",
     "data": {
      "text/plain": [
       "                        Codigo      Numero  \\\n",
       "23              ACU 1/2020 ESP           1   \n",
       "35           ACU 11/6/2007 ESP   11/6/2007   \n",
       "57          ACU 17/10/2006 ESP  17/10/2006   \n",
       "71          ACU 19/11/2018 ESP  19/11/2018   \n",
       "82              ACU 2/2020 ESP           2   \n",
       "...                        ...         ...   \n",
       "18496          STC 86/2019 ESP          86   \n",
       "18497          STC 87/2019 ESP          87   \n",
       "18498          STC 88/2018 ESP          88   \n",
       "18499         STC 9/3/2010 ESP    9/3/2010   \n",
       "18879  verificación de calidad           1   \n",
       "\n",
       "                                                  Titulo CodigoAmbito  Ambito  \\\n",
       "23     Acuerdo Multilateral RID 1/2020 en virtud de l...          ESP  España   \n",
       "35     Entrada en vigor del Acuerdo entre el Reino de...          ESP  España   \n",
       "57     Aplicación provisional del Acuerdo entre el Re...          ESP  España   \n",
       "71     Acuerdo de la Junta de Gobierno de la Confeder...          ESP  España   \n",
       "82     Acuerdo Multilateral RID 2/2020 en virtud de l...          ESP  España   \n",
       "...                                                  ...          ...     ...   \n",
       "18496  Sentencia 86/2019, de 20 de junio de 2019. Rec...          ESP  España   \n",
       "18497  Sentencia 87/2019, de 20 de junio de 2019. Rec...          ESP  España   \n",
       "18498  Sentencia 88/2018, de 19 de julio de 2018. Con...          ESP  España   \n",
       "18499  Sentencia de 9 de marzo de 2010, de la Sala Te...          ESP  España   \n",
       "18879   Norma verificación calidad alertas en produccion          ESP  España   \n",
       "\n",
       "      Municipio                     TiposNorma IdTiposNorma  \n",
       "23          NaN       M. Ambiente / Prevención       [1][2]  \n",
       "35          NaN                    M. Ambiente          [1]  \n",
       "57          NaN                    M. Ambiente          [1]  \n",
       "71          NaN                    M. Ambiente          [1]  \n",
       "82          NaN       M. Ambiente / Prevención       [1][2]  \n",
       "...         ...                            ...          ...  \n",
       "18496       NaN                    M. Ambiente          [1]  \n",
       "18497       NaN                    M. Ambiente          [1]  \n",
       "18498       NaN  M. Ambiente / Reg. Industrial       [1][3]  \n",
       "18499       NaN                    M. Ambiente          [1]  \n",
       "18879         -                Reg. Industrial          [3]  \n",
       "\n",
       "[4849 rows x 8 columns]"
      ],
      "text/html": "<div>\n<style scoped>\n    .dataframe tbody tr th:only-of-type {\n        vertical-align: middle;\n    }\n\n    .dataframe tbody tr th {\n        vertical-align: top;\n    }\n\n    .dataframe thead th {\n        text-align: right;\n    }\n</style>\n<table border=\"1\" class=\"dataframe\">\n  <thead>\n    <tr style=\"text-align: right;\">\n      <th></th>\n      <th>Codigo</th>\n      <th>Numero</th>\n      <th>Titulo</th>\n      <th>CodigoAmbito</th>\n      <th>Ambito</th>\n      <th>Municipio</th>\n      <th>TiposNorma</th>\n      <th>IdTiposNorma</th>\n    </tr>\n  </thead>\n  <tbody>\n    <tr>\n      <th>23</th>\n      <td>ACU 1/2020 ESP</td>\n      <td>1</td>\n      <td>Acuerdo Multilateral RID 1/2020 en virtud de l...</td>\n      <td>ESP</td>\n      <td>España</td>\n      <td>NaN</td>\n      <td>M. Ambiente / Prevención</td>\n      <td>[1][2]</td>\n    </tr>\n    <tr>\n      <th>35</th>\n      <td>ACU 11/6/2007 ESP</td>\n      <td>11/6/2007</td>\n      <td>Entrada en vigor del Acuerdo entre el Reino de...</td>\n      <td>ESP</td>\n      <td>España</td>\n      <td>NaN</td>\n      <td>M. Ambiente</td>\n      <td>[1]</td>\n    </tr>\n    <tr>\n      <th>57</th>\n      <td>ACU 17/10/2006 ESP</td>\n      <td>17/10/2006</td>\n      <td>Aplicación provisional del Acuerdo entre el Re...</td>\n      <td>ESP</td>\n      <td>España</td>\n      <td>NaN</td>\n      <td>M. Ambiente</td>\n      <td>[1]</td>\n    </tr>\n    <tr>\n      <th>71</th>\n      <td>ACU 19/11/2018 ESP</td>\n      <td>19/11/2018</td>\n      <td>Acuerdo de la Junta de Gobierno de la Confeder...</td>\n      <td>ESP</td>\n      <td>España</td>\n      <td>NaN</td>\n      <td>M. Ambiente</td>\n      <td>[1]</td>\n    </tr>\n    <tr>\n      <th>82</th>\n      <td>ACU 2/2020 ESP</td>\n      <td>2</td>\n      <td>Acuerdo Multilateral RID 2/2020 en virtud de l...</td>\n      <td>ESP</td>\n      <td>España</td>\n      <td>NaN</td>\n      <td>M. Ambiente / Prevención</td>\n      <td>[1][2]</td>\n    </tr>\n    <tr>\n      <th>...</th>\n      <td>...</td>\n      <td>...</td>\n      <td>...</td>\n      <td>...</td>\n      <td>...</td>\n      <td>...</td>\n      <td>...</td>\n      <td>...</td>\n    </tr>\n    <tr>\n      <th>18496</th>\n      <td>STC 86/2019 ESP</td>\n      <td>86</td>\n      <td>Sentencia 86/2019, de 20 de junio de 2019. Rec...</td>\n      <td>ESP</td>\n      <td>España</td>\n      <td>NaN</td>\n      <td>M. Ambiente</td>\n      <td>[1]</td>\n    </tr>\n    <tr>\n      <th>18497</th>\n      <td>STC 87/2019 ESP</td>\n      <td>87</td>\n      <td>Sentencia 87/2019, de 20 de junio de 2019. Rec...</td>\n      <td>ESP</td>\n      <td>España</td>\n      <td>NaN</td>\n      <td>M. Ambiente</td>\n      <td>[1]</td>\n    </tr>\n    <tr>\n      <th>18498</th>\n      <td>STC 88/2018 ESP</td>\n      <td>88</td>\n      <td>Sentencia 88/2018, de 19 de julio de 2018. Con...</td>\n      <td>ESP</td>\n      <td>España</td>\n      <td>NaN</td>\n      <td>M. Ambiente / Reg. Industrial</td>\n      <td>[1][3]</td>\n    </tr>\n    <tr>\n      <th>18499</th>\n      <td>STC 9/3/2010 ESP</td>\n      <td>9/3/2010</td>\n      <td>Sentencia de 9 de marzo de 2010, de la Sala Te...</td>\n      <td>ESP</td>\n      <td>España</td>\n      <td>NaN</td>\n      <td>M. Ambiente</td>\n      <td>[1]</td>\n    </tr>\n    <tr>\n      <th>18879</th>\n      <td>verificación de calidad</td>\n      <td>1</td>\n      <td>Norma verificación calidad alertas en produccion</td>\n      <td>ESP</td>\n      <td>España</td>\n      <td>-</td>\n      <td>Reg. Industrial</td>\n      <td>[3]</td>\n    </tr>\n  </tbody>\n</table>\n<p>4849 rows × 8 columns</p>\n</div>"
     },
     "metadata": {},
     "execution_count": 566
    }
   ],
   "source": [
    "ASECORP_BBDD_BOE"
   ]
  },
  {
   "cell_type": "code",
   "execution_count": 585,
   "metadata": {},
   "outputs": [],
   "source": [
    "# Crea nueva columna vacía de tipo lista en ASECORP_BBDD\n",
    "ASECORP_BBDD_BOE['Tags'] = [[] for i in range(len(ASECORP_BBDD_BOE))]"
   ]
  },
  {
   "cell_type": "code",
   "execution_count": 568,
   "metadata": {},
   "outputs": [],
   "source": [
    "titulo = []\n",
    "for i, row in ASECORP_BBDD_BOE.iterrows():\n",
    "    titulo.append(str(row['Titulo']) + str(re.findall('|'.join(pattern), str(row['Titulo']), flags=re.IGNORECASE)))\n",
    "    ASECORP_BBDD_BOE['Tags'][i] = re.findall('|'.join(pattern), str(row['Titulo']), flags=re.IGNORECASE)"
   ]
  },
  {
   "cell_type": "code",
   "execution_count": 569,
   "metadata": {},
   "outputs": [
    {
     "output_type": "execute_result",
     "data": {
      "text/plain": [
       "                  Codigo    Numero  \\\n",
       "4699     DIR 2013/51 EUR        51   \n",
       "4700     DIR 2013/52 EUR        52   \n",
       "4701     DIR 2013/56 EUR        56   \n",
       "4702     DIR 2013/59 EUR        59   \n",
       "4703     DIR 2013/64 EUR        64   \n",
       "4704    DIR 2014/100 EUR       100   \n",
       "4705    DIR 2014/101 EUR       101   \n",
       "4706    DIR 2014/102 EUR       102   \n",
       "4707     DIR 2014/27 EUR        27   \n",
       "4708     DIR 2014/29 EUR        29   \n",
       "4709     DIR 2014/33 EUR        33   \n",
       "4710     DIR 2014/34 EUR        34   \n",
       "4711     DIR 2014/35 EUR        35   \n",
       "4712  DIR 2014/45/UE EUR        45   \n",
       "4713  DIR 2014/46/UE EUR        46   \n",
       "4714  DIR 2014/47/UE EUR        47   \n",
       "4715     DIR 2014/52 EUR        52   \n",
       "4716     DIR 2014/68 EUR        68   \n",
       "4717     DIR 2014/80 EUR        80   \n",
       "4718     DIR 2014/90 EUR        90   \n",
       "4719     DIR 2014/93 EUR        93   \n",
       "4720     DIR 2014/94 EUR        94   \n",
       "4721     DIR 2014/95 EUR        95   \n",
       "4722     DIR 2014/99 EUR        99   \n",
       "4723   DIR 2015/1127 EUR      1127   \n",
       "4724   DIR 2015/1480 EUR      1480   \n",
       "4725   DIR 2015/1513 EUR      1513   \n",
       "4726   DIR 2015/1787 EUR      1787   \n",
       "4727   DIR 2015/2087 EUR      2087   \n",
       "4728   DIR 2015/2193 EUR      2193   \n",
       "4729   DIR 2015/2203 EUR      2203   \n",
       "4730    DIR 2015/559 EUR       559   \n",
       "4731    DIR 2015/720 EUR       720   \n",
       "4732    DIR 2015/996 EUR  2015/996   \n",
       "4733   DIR 2016/2037 EUR      2037   \n",
       "4734   DIR 2016/2284 EUR      2284   \n",
       "4735    DIR 2016/774 EUR       774   \n",
       "4736    DIR 2016/802 EUR       802   \n",
       "4737    DIR 2017/164 EUR       164   \n",
       "4738   DIR 2017/2096 EUR      2096   \n",
       "4739   DIR 2017/2398 EUR      2398   \n",
       "4740    DIR 2017/845 EUR       845   \n",
       "4741   DIR 2018/2001 EUR      2001   \n",
       "4742   DIR 2018/2002 EUR      2002   \n",
       "4743    DIR 2018/410 EUR       410   \n",
       "4744    DIR 2018/844 EUR       844   \n",
       "4745    DIR 2018/849 EUR       849   \n",
       "4746    DIR 2018/850 EUR       850   \n",
       "4747    DIR 2018/851 EUR       851   \n",
       "4748    DIR 2018/852 EUR       852   \n",
       "\n",
       "                                                 Titulo CodigoAmbito  Ambito  \\\n",
       "4699  Directiva 2013/51/EURATOM del Consejo, de 22 d...          EUR  Europa   \n",
       "4700  Directiva 2013/52/UE de la Comisión, de 30 de ...          EUR  Europa   \n",
       "4701  Directiva 2013/56/UE del Parlamento Europeo y ...          EUR  Europa   \n",
       "4702  Directiva 2013/59/Euratom del Consejo, de 5 de...          EUR  Europa   \n",
       "4703  Directiva 2013/64/UE del consejo de 17 de dici...          EUR  Europa   \n",
       "4704  Directiva 2014/100/UE de la Comisión de 28 de ...          EUR  Europa   \n",
       "4705  Directiva 2014/101/UE de la Comisión de 30 de ...          EUR  Europa   \n",
       "4706  Directiva 2014/102/UE del consejo de 7 de novi...          EUR  Europa   \n",
       "4707  Directiva 2014/27/UE del Parlamento Europeo Y ...          EUR  Europa   \n",
       "4708  Directiva 2014/29/UE del parlamento europeo y ...          EUR  Europa   \n",
       "4709  Directiva 2014/33/UE del parlamento europeo y ...          EUR  Europa   \n",
       "4710  Directiva 2014/34/UE del parlamento europeo y ...          EUR  Europa   \n",
       "4711  Directiva 2014/35/UE del parlamento europeo y ...          EUR  Europa   \n",
       "4712  Directiva 2014/45/UE del Parlamento Europeo y ...          EUR  Europa   \n",
       "4713  Directiva 2014/46/UE del Parlamento Europeo y ...          EUR  Europa   \n",
       "4714  Directiva 2014/47/UE del Parlamento Europeo y ...          EUR  Europa   \n",
       "4715  Directiva 2014/52/UE del Parlamento Europeo y ...          EUR  Europa   \n",
       "4716  Directiva 2014/68/UE del Parlamento europeo y ...          EUR  Europa   \n",
       "4717  Directiva 2014/80/UE de la Comisión, de 20 de ...          EUR  Europa   \n",
       "4718  Directiva 2014/90 del Parlamento Europeo y del...          EUR  Europa   \n",
       "4719  Directiva 2014/93/UE de la Comisión de 18 de j...          EUR  Europa   \n",
       "4720  Directiva 2014/94/UE del Parlamento Europeo y ...          EUR  Europa   \n",
       "4721  Directiva 2014/95/UE del Parlamento Europeo y ...          EUR  Europa   \n",
       "4722  Directiva 2014/99/UE de la Comisión de 21 de o...          EUR  Europa   \n",
       "4723  Directiva 2015/1127 de la Comisión de 10 de ju...          EUR  Europa   \n",
       "4724  Directiva 2015/1480 de la Comisión de 28 de ag...          EUR  Europa   \n",
       "4725  Directiva 2015/1513 del parlamento Europeo y d...          EUR  Europa   \n",
       "4726  Directiva (UE) 2015/1787 de la Comisión de 6 d...          EUR  Europa   \n",
       "4727  Directiva (UE) 2015/2087 de la Comisión de 18 ...          EUR  Europa   \n",
       "4728  Directiva (UE) 2015/2193 del Parlamento Europe...          EUR  Europa   \n",
       "4729  Directiva (UE) 2015/2203 del Parlamento Europe...          EUR  Europa   \n",
       "4730  Directiva (UE) 2015/559 de la Comisión de 9 de...          EUR  Europa   \n",
       "4731  Directiva (UE) 2015/720 del Parlamento Europeo...          EUR  Europa   \n",
       "4732  Directiva (UE) 2015/996 de la Comisión de 19 d...          EUR  Europa   \n",
       "4733  Directiva (UE) 2016/2037 de la comisión de 21 ...          EUR  Europa   \n",
       "4734  Directiva 2016/2284 del Parlamento Europeo y d...          EUR  Europa   \n",
       "4735  Directiva (UE) 2016/774 de la Comisión, de 18 ...          EUR  Europa   \n",
       "4736  Directiva 2016/802 del Parlamento Europeo y de...          EUR  Europa   \n",
       "4737  Directiva (UE) 2017/164 de la Comisión, de 31 ...          EUR  Europa   \n",
       "4738  Directiva (UE) 2017/2096 de la Comisión de 15 ...          EUR  Europa   \n",
       "4739  Directiva 2017/2398 del Parlamento Europeo y d...          EUR  Europa   \n",
       "4740  Directiva (UE) 2017/845 de la comisión de 17 d...          EUR  Europa   \n",
       "4741  Directiva 2018/2001 del Parlamento Europeo y d...          EUR  Europa   \n",
       "4742  Directiva (UE) 2018/2002 del parlamento europe...          EUR  Europa   \n",
       "4743  Directiva 2018/410 del Parlamento Europeo y de...          EUR  Europa   \n",
       "4744  Directiva (UE) 2018/844 del Parlamento Europeo...          EUR  Europa   \n",
       "4745  Directiva (UE) 2018/849 del Parlamento Europeo...          EUR  Europa   \n",
       "4746  Directiva (UE) 2018/850 del Parlamento Europeo...          EUR  Europa   \n",
       "4747  Directiva (UE) 2018/851 del Parlamento Europeo...          EUR  Europa   \n",
       "4748  Directiva 2018/852 del Parlamento Europeo y de...          EUR  Europa   \n",
       "\n",
       "     Municipio                     TiposNorma IdTiposNorma  \\\n",
       "4699       NaN       M. Ambiente / Prevención       [1][2]   \n",
       "4700       NaN       M. Ambiente / Prevención       [1][2]   \n",
       "4701       NaN                    M. Ambiente          [1]   \n",
       "4702       NaN                     Prevención          [2]   \n",
       "4703       NaN       M. Ambiente / Prevención       [1][2]   \n",
       "4704       NaN       M. Ambiente / Prevención       [1][2]   \n",
       "4705       NaN                    M. Ambiente          [1]   \n",
       "4706       NaN                    M. Ambiente          [1]   \n",
       "4707       NaN                     Prevención          [2]   \n",
       "4708       NaN                Reg. Industrial          [3]   \n",
       "4709       NaN                Reg. Industrial          [3]   \n",
       "4710       NaN                     Prevención          [2]   \n",
       "4711       NaN                Reg. Industrial          [3]   \n",
       "4712       NaN                 Seguridad Vial          [5]   \n",
       "4713       NaN                 Seguridad Vial          [5]   \n",
       "4714       NaN                 Seguridad Vial          [5]   \n",
       "4715       NaN                    M. Ambiente          [1]   \n",
       "4716       NaN                Reg. Industrial          [3]   \n",
       "4717       NaN                    M. Ambiente          [1]   \n",
       "4718       NaN       M. Ambiente / Prevención       [1][2]   \n",
       "4719       NaN       M. Ambiente / Prevención       [1][2]   \n",
       "4720       NaN                    M. Ambiente          [1]   \n",
       "4721       NaN                    M. Ambiente          [1]   \n",
       "4722       NaN                    M. Ambiente          [1]   \n",
       "4723       NaN                    M. Ambiente          [1]   \n",
       "4724       NaN                    M. Ambiente          [1]   \n",
       "4725       NaN                    M. Ambiente          [1]   \n",
       "4726       NaN                    M. Ambiente          [1]   \n",
       "4727       NaN                    M. Ambiente          [1]   \n",
       "4728       NaN                    M. Ambiente          [1]   \n",
       "4729       NaN               Seg. Alimentaria          [7]   \n",
       "4730       NaN       M. Ambiente / Prevención       [1][2]   \n",
       "4731       NaN                    M. Ambiente          [1]   \n",
       "4732       NaN                    M. Ambiente          [1]   \n",
       "4733       NaN  M. Ambiente / Reg. Industrial       [1][3]   \n",
       "4734       NaN                    M. Ambiente          [1]   \n",
       "4735       NaN                    M. Ambiente          [1]   \n",
       "4736       NaN                    M. Ambiente          [1]   \n",
       "4737       NaN                     Prevención          [2]   \n",
       "4738       NaN                    M. Ambiente          [1]   \n",
       "4739       NaN                     Prevención          [2]   \n",
       "4740       NaN                    M. Ambiente          [1]   \n",
       "4741       NaN                    M. Ambiente          [1]   \n",
       "4742       NaN                    M. Ambiente          [1]   \n",
       "4743       NaN                    M. Ambiente          [1]   \n",
       "4744       NaN                    M. Ambiente          [1]   \n",
       "4745       NaN                    M. Ambiente          [1]   \n",
       "4746       NaN                    M. Ambiente          [1]   \n",
       "4747       NaN                    M. Ambiente          [1]   \n",
       "4748       NaN                    M. Ambiente          [1]   \n",
       "\n",
       "                                                   Tags  \n",
       "4699                                [Directiva 2013/51]  \n",
       "4700               [Directiva 2013/52, Directiva 96/98]  \n",
       "4701  [Directiva 2013/56, Directiva 2006/66, Decisió...  \n",
       "4702                                [Directiva 2013/59]  \n",
       "4703                                [Directiva 2013/64]  \n",
       "4704            [Directiva 2014/100, Directiva 2002/59]  \n",
       "4705            [Directiva 2014/101, Directiva 2000/60]  \n",
       "4706            [Directiva 2014/102, Directiva 2013/34]  \n",
       "4707  [Directiva 2014/27, Directiva 2004/37, Reglame...  \n",
       "4708                                [Directiva 2014/29]  \n",
       "4709                                [Directiva 2014/33]  \n",
       "4710                                [Directiva 2014/34]  \n",
       "4711                                [Directiva 2014/35]  \n",
       "4712             [Directiva 2014/45, Directiva 2009/40]  \n",
       "4713             [Directiva 2014/46, Directiva 1999/37]  \n",
       "4714             [Directiva 2014/47, Directiva 2000/30]  \n",
       "4715             [Directiva 2014/52, Directiva 2011/92]  \n",
       "4716                                [Directiva 2014/68]  \n",
       "4717            [Directiva 2014/80, Directiva 2006/118]  \n",
       "4718               [Directiva 2014/90, Directiva 96/98]  \n",
       "4719               [Directiva 2014/93, Directiva 96/98]  \n",
       "4720                                [Directiva 2014/94]  \n",
       "4721             [Directiva 2014/95, Directiva 2013/34]  \n",
       "4722            [Directiva 2014/99, Directiva 2009/126]  \n",
       "4723           [Directiva 2015/1127, Directiva 2008/98]  \n",
       "4724                              [Directiva 2015/1480]  \n",
       "4725  [Directiva 2015/1513, Directiva 98/70, Directi...  \n",
       "4726        [Directiva (UE) 2015/1787, Directiva 98/83]  \n",
       "4727      [Directiva (UE) 2015/2087, Directiva 2000/59]  \n",
       "4728                         [Directiva (UE) 2015/2193]  \n",
       "4729       [Directiva (UE) 2015/2203, Directiva 83/417]  \n",
       "4730         [Directiva (UE) 2015/559, Directiva 96/98]  \n",
       "4731         [Directiva (UE) 2015/720, Directiva 94/62]  \n",
       "4732       [Directiva (UE) 2015/996, Directiva 2002/49]  \n",
       "4733  [Directiva (UE) 2016/2037, Directiva 75/324, R...  \n",
       "4734  [Directiva 2016/2284, Directiva 2003/35, Direc...  \n",
       "4735       [Directiva (UE) 2016/774, Directiva 2000/53]  \n",
       "4736                               [Directiva 2016/802]  \n",
       "4737         [Directiva (UE) 2017/164, Directiva 98/24]  \n",
       "4738      [Directiva (UE) 2017/2096, Directiva 2000/53]  \n",
       "4739           [Directiva 2017/2398, Directiva 2004/37]  \n",
       "4740       [Directiva (UE) 2017/845, Directiva 2008/56]  \n",
       "4741                              [Directiva 2018/2001]  \n",
       "4742      [Directiva (UE) 2018/2002, Directiva 2012/27]  \n",
       "4743  [Directiva 2018/410, Directiva 2003/87, Decisi...  \n",
       "4744  [Directiva (UE) 2018/844, Directiva 2010/31, D...  \n",
       "4745  [Directiva (UE) 2018/849, Directiva 2000/53, D...  \n",
       "4746       [Directiva (UE) 2018/850, Directiva 1999/31]  \n",
       "4747       [Directiva (UE) 2018/851, Directiva 2008/98]  \n",
       "4748              [Directiva 2018/852, Directiva 94/62]  "
      ],
      "text/html": "<div>\n<style scoped>\n    .dataframe tbody tr th:only-of-type {\n        vertical-align: middle;\n    }\n\n    .dataframe tbody tr th {\n        vertical-align: top;\n    }\n\n    .dataframe thead th {\n        text-align: right;\n    }\n</style>\n<table border=\"1\" class=\"dataframe\">\n  <thead>\n    <tr style=\"text-align: right;\">\n      <th></th>\n      <th>Codigo</th>\n      <th>Numero</th>\n      <th>Titulo</th>\n      <th>CodigoAmbito</th>\n      <th>Ambito</th>\n      <th>Municipio</th>\n      <th>TiposNorma</th>\n      <th>IdTiposNorma</th>\n      <th>Tags</th>\n    </tr>\n  </thead>\n  <tbody>\n    <tr>\n      <th>4699</th>\n      <td>DIR 2013/51 EUR</td>\n      <td>51</td>\n      <td>Directiva 2013/51/EURATOM del Consejo, de 22 d...</td>\n      <td>EUR</td>\n      <td>Europa</td>\n      <td>NaN</td>\n      <td>M. Ambiente / Prevención</td>\n      <td>[1][2]</td>\n      <td>[Directiva 2013/51]</td>\n    </tr>\n    <tr>\n      <th>4700</th>\n      <td>DIR 2013/52 EUR</td>\n      <td>52</td>\n      <td>Directiva 2013/52/UE de la Comisión, de 30 de ...</td>\n      <td>EUR</td>\n      <td>Europa</td>\n      <td>NaN</td>\n      <td>M. Ambiente / Prevención</td>\n      <td>[1][2]</td>\n      <td>[Directiva 2013/52, Directiva 96/98]</td>\n    </tr>\n    <tr>\n      <th>4701</th>\n      <td>DIR 2013/56 EUR</td>\n      <td>56</td>\n      <td>Directiva 2013/56/UE del Parlamento Europeo y ...</td>\n      <td>EUR</td>\n      <td>Europa</td>\n      <td>NaN</td>\n      <td>M. Ambiente</td>\n      <td>[1]</td>\n      <td>[Directiva 2013/56, Directiva 2006/66, Decisió...</td>\n    </tr>\n    <tr>\n      <th>4702</th>\n      <td>DIR 2013/59 EUR</td>\n      <td>59</td>\n      <td>Directiva 2013/59/Euratom del Consejo, de 5 de...</td>\n      <td>EUR</td>\n      <td>Europa</td>\n      <td>NaN</td>\n      <td>Prevención</td>\n      <td>[2]</td>\n      <td>[Directiva 2013/59]</td>\n    </tr>\n    <tr>\n      <th>4703</th>\n      <td>DIR 2013/64 EUR</td>\n      <td>64</td>\n      <td>Directiva 2013/64/UE del consejo de 17 de dici...</td>\n      <td>EUR</td>\n      <td>Europa</td>\n      <td>NaN</td>\n      <td>M. Ambiente / Prevención</td>\n      <td>[1][2]</td>\n      <td>[Directiva 2013/64]</td>\n    </tr>\n    <tr>\n      <th>4704</th>\n      <td>DIR 2014/100 EUR</td>\n      <td>100</td>\n      <td>Directiva 2014/100/UE de la Comisión de 28 de ...</td>\n      <td>EUR</td>\n      <td>Europa</td>\n      <td>NaN</td>\n      <td>M. Ambiente / Prevención</td>\n      <td>[1][2]</td>\n      <td>[Directiva 2014/100, Directiva 2002/59]</td>\n    </tr>\n    <tr>\n      <th>4705</th>\n      <td>DIR 2014/101 EUR</td>\n      <td>101</td>\n      <td>Directiva 2014/101/UE de la Comisión de 30 de ...</td>\n      <td>EUR</td>\n      <td>Europa</td>\n      <td>NaN</td>\n      <td>M. Ambiente</td>\n      <td>[1]</td>\n      <td>[Directiva 2014/101, Directiva 2000/60]</td>\n    </tr>\n    <tr>\n      <th>4706</th>\n      <td>DIR 2014/102 EUR</td>\n      <td>102</td>\n      <td>Directiva 2014/102/UE del consejo de 7 de novi...</td>\n      <td>EUR</td>\n      <td>Europa</td>\n      <td>NaN</td>\n      <td>M. Ambiente</td>\n      <td>[1]</td>\n      <td>[Directiva 2014/102, Directiva 2013/34]</td>\n    </tr>\n    <tr>\n      <th>4707</th>\n      <td>DIR 2014/27 EUR</td>\n      <td>27</td>\n      <td>Directiva 2014/27/UE del Parlamento Europeo Y ...</td>\n      <td>EUR</td>\n      <td>Europa</td>\n      <td>NaN</td>\n      <td>Prevención</td>\n      <td>[2]</td>\n      <td>[Directiva 2014/27, Directiva 2004/37, Reglame...</td>\n    </tr>\n    <tr>\n      <th>4708</th>\n      <td>DIR 2014/29 EUR</td>\n      <td>29</td>\n      <td>Directiva 2014/29/UE del parlamento europeo y ...</td>\n      <td>EUR</td>\n      <td>Europa</td>\n      <td>NaN</td>\n      <td>Reg. Industrial</td>\n      <td>[3]</td>\n      <td>[Directiva 2014/29]</td>\n    </tr>\n    <tr>\n      <th>4709</th>\n      <td>DIR 2014/33 EUR</td>\n      <td>33</td>\n      <td>Directiva 2014/33/UE del parlamento europeo y ...</td>\n      <td>EUR</td>\n      <td>Europa</td>\n      <td>NaN</td>\n      <td>Reg. Industrial</td>\n      <td>[3]</td>\n      <td>[Directiva 2014/33]</td>\n    </tr>\n    <tr>\n      <th>4710</th>\n      <td>DIR 2014/34 EUR</td>\n      <td>34</td>\n      <td>Directiva 2014/34/UE del parlamento europeo y ...</td>\n      <td>EUR</td>\n      <td>Europa</td>\n      <td>NaN</td>\n      <td>Prevención</td>\n      <td>[2]</td>\n      <td>[Directiva 2014/34]</td>\n    </tr>\n    <tr>\n      <th>4711</th>\n      <td>DIR 2014/35 EUR</td>\n      <td>35</td>\n      <td>Directiva 2014/35/UE del parlamento europeo y ...</td>\n      <td>EUR</td>\n      <td>Europa</td>\n      <td>NaN</td>\n      <td>Reg. Industrial</td>\n      <td>[3]</td>\n      <td>[Directiva 2014/35]</td>\n    </tr>\n    <tr>\n      <th>4712</th>\n      <td>DIR 2014/45/UE EUR</td>\n      <td>45</td>\n      <td>Directiva 2014/45/UE del Parlamento Europeo y ...</td>\n      <td>EUR</td>\n      <td>Europa</td>\n      <td>NaN</td>\n      <td>Seguridad Vial</td>\n      <td>[5]</td>\n      <td>[Directiva 2014/45, Directiva 2009/40]</td>\n    </tr>\n    <tr>\n      <th>4713</th>\n      <td>DIR 2014/46/UE EUR</td>\n      <td>46</td>\n      <td>Directiva 2014/46/UE del Parlamento Europeo y ...</td>\n      <td>EUR</td>\n      <td>Europa</td>\n      <td>NaN</td>\n      <td>Seguridad Vial</td>\n      <td>[5]</td>\n      <td>[Directiva 2014/46, Directiva 1999/37]</td>\n    </tr>\n    <tr>\n      <th>4714</th>\n      <td>DIR 2014/47/UE EUR</td>\n      <td>47</td>\n      <td>Directiva 2014/47/UE del Parlamento Europeo y ...</td>\n      <td>EUR</td>\n      <td>Europa</td>\n      <td>NaN</td>\n      <td>Seguridad Vial</td>\n      <td>[5]</td>\n      <td>[Directiva 2014/47, Directiva 2000/30]</td>\n    </tr>\n    <tr>\n      <th>4715</th>\n      <td>DIR 2014/52 EUR</td>\n      <td>52</td>\n      <td>Directiva 2014/52/UE del Parlamento Europeo y ...</td>\n      <td>EUR</td>\n      <td>Europa</td>\n      <td>NaN</td>\n      <td>M. Ambiente</td>\n      <td>[1]</td>\n      <td>[Directiva 2014/52, Directiva 2011/92]</td>\n    </tr>\n    <tr>\n      <th>4716</th>\n      <td>DIR 2014/68 EUR</td>\n      <td>68</td>\n      <td>Directiva 2014/68/UE del Parlamento europeo y ...</td>\n      <td>EUR</td>\n      <td>Europa</td>\n      <td>NaN</td>\n      <td>Reg. Industrial</td>\n      <td>[3]</td>\n      <td>[Directiva 2014/68]</td>\n    </tr>\n    <tr>\n      <th>4717</th>\n      <td>DIR 2014/80 EUR</td>\n      <td>80</td>\n      <td>Directiva 2014/80/UE de la Comisión, de 20 de ...</td>\n      <td>EUR</td>\n      <td>Europa</td>\n      <td>NaN</td>\n      <td>M. Ambiente</td>\n      <td>[1]</td>\n      <td>[Directiva 2014/80, Directiva 2006/118]</td>\n    </tr>\n    <tr>\n      <th>4718</th>\n      <td>DIR 2014/90 EUR</td>\n      <td>90</td>\n      <td>Directiva 2014/90 del Parlamento Europeo y del...</td>\n      <td>EUR</td>\n      <td>Europa</td>\n      <td>NaN</td>\n      <td>M. Ambiente / Prevención</td>\n      <td>[1][2]</td>\n      <td>[Directiva 2014/90, Directiva 96/98]</td>\n    </tr>\n    <tr>\n      <th>4719</th>\n      <td>DIR 2014/93 EUR</td>\n      <td>93</td>\n      <td>Directiva 2014/93/UE de la Comisión de 18 de j...</td>\n      <td>EUR</td>\n      <td>Europa</td>\n      <td>NaN</td>\n      <td>M. Ambiente / Prevención</td>\n      <td>[1][2]</td>\n      <td>[Directiva 2014/93, Directiva 96/98]</td>\n    </tr>\n    <tr>\n      <th>4720</th>\n      <td>DIR 2014/94 EUR</td>\n      <td>94</td>\n      <td>Directiva 2014/94/UE del Parlamento Europeo y ...</td>\n      <td>EUR</td>\n      <td>Europa</td>\n      <td>NaN</td>\n      <td>M. Ambiente</td>\n      <td>[1]</td>\n      <td>[Directiva 2014/94]</td>\n    </tr>\n    <tr>\n      <th>4721</th>\n      <td>DIR 2014/95 EUR</td>\n      <td>95</td>\n      <td>Directiva 2014/95/UE del Parlamento Europeo y ...</td>\n      <td>EUR</td>\n      <td>Europa</td>\n      <td>NaN</td>\n      <td>M. Ambiente</td>\n      <td>[1]</td>\n      <td>[Directiva 2014/95, Directiva 2013/34]</td>\n    </tr>\n    <tr>\n      <th>4722</th>\n      <td>DIR 2014/99 EUR</td>\n      <td>99</td>\n      <td>Directiva 2014/99/UE de la Comisión de 21 de o...</td>\n      <td>EUR</td>\n      <td>Europa</td>\n      <td>NaN</td>\n      <td>M. Ambiente</td>\n      <td>[1]</td>\n      <td>[Directiva 2014/99, Directiva 2009/126]</td>\n    </tr>\n    <tr>\n      <th>4723</th>\n      <td>DIR 2015/1127 EUR</td>\n      <td>1127</td>\n      <td>Directiva 2015/1127 de la Comisión de 10 de ju...</td>\n      <td>EUR</td>\n      <td>Europa</td>\n      <td>NaN</td>\n      <td>M. Ambiente</td>\n      <td>[1]</td>\n      <td>[Directiva 2015/1127, Directiva 2008/98]</td>\n    </tr>\n    <tr>\n      <th>4724</th>\n      <td>DIR 2015/1480 EUR</td>\n      <td>1480</td>\n      <td>Directiva 2015/1480 de la Comisión de 28 de ag...</td>\n      <td>EUR</td>\n      <td>Europa</td>\n      <td>NaN</td>\n      <td>M. Ambiente</td>\n      <td>[1]</td>\n      <td>[Directiva 2015/1480]</td>\n    </tr>\n    <tr>\n      <th>4725</th>\n      <td>DIR 2015/1513 EUR</td>\n      <td>1513</td>\n      <td>Directiva 2015/1513 del parlamento Europeo y d...</td>\n      <td>EUR</td>\n      <td>Europa</td>\n      <td>NaN</td>\n      <td>M. Ambiente</td>\n      <td>[1]</td>\n      <td>[Directiva 2015/1513, Directiva 98/70, Directi...</td>\n    </tr>\n    <tr>\n      <th>4726</th>\n      <td>DIR 2015/1787 EUR</td>\n      <td>1787</td>\n      <td>Directiva (UE) 2015/1787 de la Comisión de 6 d...</td>\n      <td>EUR</td>\n      <td>Europa</td>\n      <td>NaN</td>\n      <td>M. Ambiente</td>\n      <td>[1]</td>\n      <td>[Directiva (UE) 2015/1787, Directiva 98/83]</td>\n    </tr>\n    <tr>\n      <th>4727</th>\n      <td>DIR 2015/2087 EUR</td>\n      <td>2087</td>\n      <td>Directiva (UE) 2015/2087 de la Comisión de 18 ...</td>\n      <td>EUR</td>\n      <td>Europa</td>\n      <td>NaN</td>\n      <td>M. Ambiente</td>\n      <td>[1]</td>\n      <td>[Directiva (UE) 2015/2087, Directiva 2000/59]</td>\n    </tr>\n    <tr>\n      <th>4728</th>\n      <td>DIR 2015/2193 EUR</td>\n      <td>2193</td>\n      <td>Directiva (UE) 2015/2193 del Parlamento Europe...</td>\n      <td>EUR</td>\n      <td>Europa</td>\n      <td>NaN</td>\n      <td>M. Ambiente</td>\n      <td>[1]</td>\n      <td>[Directiva (UE) 2015/2193]</td>\n    </tr>\n    <tr>\n      <th>4729</th>\n      <td>DIR 2015/2203 EUR</td>\n      <td>2203</td>\n      <td>Directiva (UE) 2015/2203 del Parlamento Europe...</td>\n      <td>EUR</td>\n      <td>Europa</td>\n      <td>NaN</td>\n      <td>Seg. Alimentaria</td>\n      <td>[7]</td>\n      <td>[Directiva (UE) 2015/2203, Directiva 83/417]</td>\n    </tr>\n    <tr>\n      <th>4730</th>\n      <td>DIR 2015/559 EUR</td>\n      <td>559</td>\n      <td>Directiva (UE) 2015/559 de la Comisión de 9 de...</td>\n      <td>EUR</td>\n      <td>Europa</td>\n      <td>NaN</td>\n      <td>M. Ambiente / Prevención</td>\n      <td>[1][2]</td>\n      <td>[Directiva (UE) 2015/559, Directiva 96/98]</td>\n    </tr>\n    <tr>\n      <th>4731</th>\n      <td>DIR 2015/720 EUR</td>\n      <td>720</td>\n      <td>Directiva (UE) 2015/720 del Parlamento Europeo...</td>\n      <td>EUR</td>\n      <td>Europa</td>\n      <td>NaN</td>\n      <td>M. Ambiente</td>\n      <td>[1]</td>\n      <td>[Directiva (UE) 2015/720, Directiva 94/62]</td>\n    </tr>\n    <tr>\n      <th>4732</th>\n      <td>DIR 2015/996 EUR</td>\n      <td>2015/996</td>\n      <td>Directiva (UE) 2015/996 de la Comisión de 19 d...</td>\n      <td>EUR</td>\n      <td>Europa</td>\n      <td>NaN</td>\n      <td>M. Ambiente</td>\n      <td>[1]</td>\n      <td>[Directiva (UE) 2015/996, Directiva 2002/49]</td>\n    </tr>\n    <tr>\n      <th>4733</th>\n      <td>DIR 2016/2037 EUR</td>\n      <td>2037</td>\n      <td>Directiva (UE) 2016/2037 de la comisión de 21 ...</td>\n      <td>EUR</td>\n      <td>Europa</td>\n      <td>NaN</td>\n      <td>M. Ambiente / Reg. Industrial</td>\n      <td>[1][3]</td>\n      <td>[Directiva (UE) 2016/2037, Directiva 75/324, R...</td>\n    </tr>\n    <tr>\n      <th>4734</th>\n      <td>DIR 2016/2284 EUR</td>\n      <td>2284</td>\n      <td>Directiva 2016/2284 del Parlamento Europeo y d...</td>\n      <td>EUR</td>\n      <td>Europa</td>\n      <td>NaN</td>\n      <td>M. Ambiente</td>\n      <td>[1]</td>\n      <td>[Directiva 2016/2284, Directiva 2003/35, Direc...</td>\n    </tr>\n    <tr>\n      <th>4735</th>\n      <td>DIR 2016/774 EUR</td>\n      <td>774</td>\n      <td>Directiva (UE) 2016/774 de la Comisión, de 18 ...</td>\n      <td>EUR</td>\n      <td>Europa</td>\n      <td>NaN</td>\n      <td>M. Ambiente</td>\n      <td>[1]</td>\n      <td>[Directiva (UE) 2016/774, Directiva 2000/53]</td>\n    </tr>\n    <tr>\n      <th>4736</th>\n      <td>DIR 2016/802 EUR</td>\n      <td>802</td>\n      <td>Directiva 2016/802 del Parlamento Europeo y de...</td>\n      <td>EUR</td>\n      <td>Europa</td>\n      <td>NaN</td>\n      <td>M. Ambiente</td>\n      <td>[1]</td>\n      <td>[Directiva 2016/802]</td>\n    </tr>\n    <tr>\n      <th>4737</th>\n      <td>DIR 2017/164 EUR</td>\n      <td>164</td>\n      <td>Directiva (UE) 2017/164 de la Comisión, de 31 ...</td>\n      <td>EUR</td>\n      <td>Europa</td>\n      <td>NaN</td>\n      <td>Prevención</td>\n      <td>[2]</td>\n      <td>[Directiva (UE) 2017/164, Directiva 98/24]</td>\n    </tr>\n    <tr>\n      <th>4738</th>\n      <td>DIR 2017/2096 EUR</td>\n      <td>2096</td>\n      <td>Directiva (UE) 2017/2096 de la Comisión de 15 ...</td>\n      <td>EUR</td>\n      <td>Europa</td>\n      <td>NaN</td>\n      <td>M. Ambiente</td>\n      <td>[1]</td>\n      <td>[Directiva (UE) 2017/2096, Directiva 2000/53]</td>\n    </tr>\n    <tr>\n      <th>4739</th>\n      <td>DIR 2017/2398 EUR</td>\n      <td>2398</td>\n      <td>Directiva 2017/2398 del Parlamento Europeo y d...</td>\n      <td>EUR</td>\n      <td>Europa</td>\n      <td>NaN</td>\n      <td>Prevención</td>\n      <td>[2]</td>\n      <td>[Directiva 2017/2398, Directiva 2004/37]</td>\n    </tr>\n    <tr>\n      <th>4740</th>\n      <td>DIR 2017/845 EUR</td>\n      <td>845</td>\n      <td>Directiva (UE) 2017/845 de la comisión de 17 d...</td>\n      <td>EUR</td>\n      <td>Europa</td>\n      <td>NaN</td>\n      <td>M. Ambiente</td>\n      <td>[1]</td>\n      <td>[Directiva (UE) 2017/845, Directiva 2008/56]</td>\n    </tr>\n    <tr>\n      <th>4741</th>\n      <td>DIR 2018/2001 EUR</td>\n      <td>2001</td>\n      <td>Directiva 2018/2001 del Parlamento Europeo y d...</td>\n      <td>EUR</td>\n      <td>Europa</td>\n      <td>NaN</td>\n      <td>M. Ambiente</td>\n      <td>[1]</td>\n      <td>[Directiva 2018/2001]</td>\n    </tr>\n    <tr>\n      <th>4742</th>\n      <td>DIR 2018/2002 EUR</td>\n      <td>2002</td>\n      <td>Directiva (UE) 2018/2002 del parlamento europe...</td>\n      <td>EUR</td>\n      <td>Europa</td>\n      <td>NaN</td>\n      <td>M. Ambiente</td>\n      <td>[1]</td>\n      <td>[Directiva (UE) 2018/2002, Directiva 2012/27]</td>\n    </tr>\n    <tr>\n      <th>4743</th>\n      <td>DIR 2018/410 EUR</td>\n      <td>410</td>\n      <td>Directiva 2018/410 del Parlamento Europeo y de...</td>\n      <td>EUR</td>\n      <td>Europa</td>\n      <td>NaN</td>\n      <td>M. Ambiente</td>\n      <td>[1]</td>\n      <td>[Directiva 2018/410, Directiva 2003/87, Decisi...</td>\n    </tr>\n    <tr>\n      <th>4744</th>\n      <td>DIR 2018/844 EUR</td>\n      <td>844</td>\n      <td>Directiva (UE) 2018/844 del Parlamento Europeo...</td>\n      <td>EUR</td>\n      <td>Europa</td>\n      <td>NaN</td>\n      <td>M. Ambiente</td>\n      <td>[1]</td>\n      <td>[Directiva (UE) 2018/844, Directiva 2010/31, D...</td>\n    </tr>\n    <tr>\n      <th>4745</th>\n      <td>DIR 2018/849 EUR</td>\n      <td>849</td>\n      <td>Directiva (UE) 2018/849 del Parlamento Europeo...</td>\n      <td>EUR</td>\n      <td>Europa</td>\n      <td>NaN</td>\n      <td>M. Ambiente</td>\n      <td>[1]</td>\n      <td>[Directiva (UE) 2018/849, Directiva 2000/53, D...</td>\n    </tr>\n    <tr>\n      <th>4746</th>\n      <td>DIR 2018/850 EUR</td>\n      <td>850</td>\n      <td>Directiva (UE) 2018/850 del Parlamento Europeo...</td>\n      <td>EUR</td>\n      <td>Europa</td>\n      <td>NaN</td>\n      <td>M. Ambiente</td>\n      <td>[1]</td>\n      <td>[Directiva (UE) 2018/850, Directiva 1999/31]</td>\n    </tr>\n    <tr>\n      <th>4747</th>\n      <td>DIR 2018/851 EUR</td>\n      <td>851</td>\n      <td>Directiva (UE) 2018/851 del Parlamento Europeo...</td>\n      <td>EUR</td>\n      <td>Europa</td>\n      <td>NaN</td>\n      <td>M. Ambiente</td>\n      <td>[1]</td>\n      <td>[Directiva (UE) 2018/851, Directiva 2008/98]</td>\n    </tr>\n    <tr>\n      <th>4748</th>\n      <td>DIR 2018/852 EUR</td>\n      <td>852</td>\n      <td>Directiva 2018/852 del Parlamento Europeo y de...</td>\n      <td>EUR</td>\n      <td>Europa</td>\n      <td>NaN</td>\n      <td>M. Ambiente</td>\n      <td>[1]</td>\n      <td>[Directiva 2018/852, Directiva 94/62]</td>\n    </tr>\n  </tbody>\n</table>\n</div>"
     },
     "metadata": {},
     "execution_count": 569
    }
   ],
   "source": [
    "ASECORP_BBDD_BOE[1200:1250]"
   ]
  },
  {
   "cell_type": "code",
   "execution_count": 570,
   "metadata": {},
   "outputs": [],
   "source": [
    "# titulo"
   ]
  },
  {
   "cell_type": "code",
   "execution_count": 571,
   "metadata": {},
   "outputs": [
    {
     "output_type": "execute_result",
     "data": {
      "text/plain": [
       "4849"
      ]
     },
     "metadata": {},
     "execution_count": 571
    }
   ],
   "source": [
    "len(titulo)"
   ]
  },
  {
   "cell_type": "code",
   "execution_count": 572,
   "metadata": {},
   "outputs": [],
   "source": [
    "## Busca patrones regex definidos en columna títulos del DF \n",
    "boletin = []\n",
    "for i, row in ASECORP_BBDD_BOE.iterrows():\n",
    "    boletin.append(str(re.findall('|'.join(pattern), row['Titulo'], flags=re.IGNORECASE)))"
   ]
  },
  {
   "cell_type": "code",
   "execution_count": 573,
   "metadata": {},
   "outputs": [
    {
     "output_type": "execute_result",
     "data": {
      "text/plain": [
       "[\"['Acuerdo Multilateral RID 1/2020']\",\n",
       " '[]',\n",
       " '[]',\n",
       " '[]',\n",
       " \"['Acuerdo Multilateral RID 2/2020']\",\n",
       " '[]',\n",
       " \"['Acuerdo Multilateral RID 1/2013']\",\n",
       " '[]',\n",
       " '[]',\n",
       " '[]',\n",
       " '[]',\n",
       " \"['Acuerdo Multilateral RID 3/2007']\",\n",
       " \"['Acuerdo Multilateral RID 4/2009']\",\n",
       " '[]',\n",
       " '[]',\n",
       " \"['Acuerdo Multilateral M-150']\",\n",
       " \"['Acuerdo Multilateral M-159']\",\n",
       " \"['Acuerdo multilateral M-168']\",\n",
       " \"['Acuerdo Multilateral M-170']\",\n",
       " \"['Acuerdo Multilateral M-171']\",\n",
       " \"['Acuerdo Multilateral M-173']\",\n",
       " \"['Acuerdo Multilateral M-175']\",\n",
       " '[]',\n",
       " \"['Acuerdo Multilateral M-178']\",\n",
       " \"['Acuerdo Multilateral M-198']\"]"
      ]
     },
     "metadata": {},
     "execution_count": 573
    }
   ],
   "source": [
    "boletin[0:25]"
   ]
  },
  {
   "cell_type": "code",
   "execution_count": 574,
   "metadata": {},
   "outputs": [],
   "source": [
    "## Para cada fila de la BBDD recoge la expresión REGEX encontrada y si no existe no la incluye \n",
    "## en la lista resultante llamada 'boletin'. Además si no detecta expresión la cuenta como vacía\n",
    "## en variable 'n_vacios', y la añade a la lista 'vacios' para inspeccionar posteriormente \n",
    "boletin = []\n",
    "vacios = []\n",
    "n_vacios = 0\n",
    "for i, row in ASECORP_BBDD_BOE.iterrows():\n",
    "    regex_result = re.findall('|'.join(pattern), row['Titulo'], flags=re.IGNORECASE)\n",
    "    if len(regex_result) != 0:\n",
    "        boletin.append(re.findall('|'.join(pattern), row['Titulo'], flags=re.IGNORECASE))\n",
    "    else:\n",
    "        n_vacios += 1\n",
    "        vacios.append(row['Titulo'])"
   ]
  },
  {
   "cell_type": "code",
   "execution_count": 575,
   "metadata": {},
   "outputs": [
    {
     "output_type": "execute_result",
     "data": {
      "text/plain": [
       "594"
      ]
     },
     "metadata": {},
     "execution_count": 575
    }
   ],
   "source": [
    "n_vacios"
   ]
  },
  {
   "cell_type": "code",
   "execution_count": 576,
   "metadata": {},
   "outputs": [
    {
     "output_type": "execute_result",
     "data": {
      "text/plain": [
       "['Entrada en vigor del Acuerdo entre el Reino de España y el Principado de Andorra sobre traslado y gestión de residuos, hecho en Madrid el 17 de octubre de 2006.',\n",
       " 'Aplicación provisional del Acuerdo entre el Reino de España y el Principado de Andorra sobre traslado y gestión de residuos, hecho en Madrid el 17 de octubre de 2006.',\n",
       " 'Acuerdo de la Junta de Gobierno de la Confederación Hidrográfica del Segura celebrada el día 30 de octubre de 2018 sobre aplicación de indisponibilidad o reducción de dotaciones de acuerdo al Plan Especial de Sequía y al Real Decreto que la regula',\n",
       " 'Entrada en vigor del Acuerdo entre el Reino de España y el Principado de Andorra sobre el traslado de residuos, hecho en Madrid el 29 de noviembre de 2011.',\n",
       " 'Canje de Notas por el que se procede a la prórroga del mantenimiento en vigor del Acuerdo entre el Reino de España y el Principado de Andorra sobre traslado y gestión de residuos, hecho en Madrid el 27 de enero de 2000.',\n",
       " 'Aplicación provisional del Acuerdo entre el Reino de España y el Principado de Andorra sobre el traslado de residuos, hecho en Madrid el 29 de noviembre de 2011.',\n",
       " 'Plan de Acción de Ahorro y Eficiencia Energética  2011-2020, del 29 de julio de 2011 (IDAE)',\n",
       " 'Acuerdo Especial Multilateral RID 3/2020 en virtud de la Sección 1.5.1 del Reglamento del Transporte Internacional de Mercancías Peligrosas por Ferrocarril (RID), relativo a la inspección periódica y ensayo de recipientes a presión para el transporte de gases de la Clase 2, hecho en Madrid el 2 de abril de 2020',\n",
       " 'Acuerdo Especial Multilateral RID 4/2020 en virtud de la Sección 1.5.1 del Reglamento del Transporte Internacional de Mercancías Peligrosas por Ferrocarril (RID), sobre inspecciones periódicas o intermedias de cisternas portátiles y contenedores de gas de elementos múltiples (CGEM) certificados «UN» de acuerdo con los apartados 6.7.2.19.2, 6.7.3.15.2, 6.7.4.14.2 y 6.7.5.12.2 del RID, hecho en Madrid el 2 de abril de 2020',\n",
       " 'Acuerdo Especial Multilateral RID 8.2020 en virtud de la sección 1.5.1 del RID, relativo a la inspección periódica y ensayo de recipientes a presión para el transporte de gases de la Clase 2, hecho en Madrid el 1 de diciembre de 2020',\n",
       " 'Acuerdo multilateral ADR M-177 en virtud de la sección 1.5.1 del Acuerdo Europeo sobre transporte internacional de mercancías peligrosas por carretera (ADR), publicado en el «Boletín Oficial del Estado» n.º 18, de 21 de enero de 2005, relativo al documento de transporte en operaciones de venta en ruta, hecho en Madrid el 23 de junio de 2006.',\n",
       " 'Acuerdo Multilateral M 269 en aplicación de la sección 1.5.1 del Acuerdo Europeo sobre transporte internacional de mercancías peligrosas por carretera (ADR), relativo al marcado de los números UN en botellas para gases licuados del petróleo (GLP), hecho en Madrid el 20 de diciembre de 2013.',\n",
       " 'Acuerdo  Multilateral  M  300  en  aplicación  de  la  sección  1.5.1  del  Acuerdo Europeo sobre transporte internacional de mercancías peligrosas por carretera (ADR), relativo al documento de transporte en operaciones de venta en ruta, hecho en Madrid el 11 de julio de 2016',\n",
       " 'Acuerdo Multilateral M 304 en aplicación de la sección 1.5.1 del AcuerdoEuropeo sobre transporte internacional de mercancías peligrosas por carretera(ADR), relativo al número de remolques en una unidad de transporte demercancías peligrosas, hecho en Madrid el 30 de enero de 2017',\n",
       " 'Acuerdo Multilateral M 311 en virtud de la sección 1.5.1 del Anexo A del Acuerdo Europeo sobre transporte internacional de mercancías peligrosas por carretera (ADR), relativo al marcado (placas etiqueta) de contenedores usados exclusivamente en una operación de transporte por carretera, hecho en Madrid el 22 de marzo de 2018',\n",
       " 'Acuerdo Multilateral M315 en virtud de la sección 1.5.1 del Anexo A del Acuerdo Europeo sobre transporte internacional de mercancías peligrosas por carretera (ADR), relativo al transporte de desechos contaminados con virus que causan fiebre hemorrágica, hecho en Madrid el 8 de julio de 2019',\n",
       " 'Acuerdo Multilateral M317 en virtud de la sección 1.5. del Acuerdo europeo sobre transporte internacional de mercancías peligrosas por carretera (ADR), relativo al transporte de desechos médicos sólidos o clínicos, Categoría A, hecho en Madrid el 23 de marzo de 2020',\n",
       " 'Acuerdo Multilateral M324 en virtud de la sección 1.5.1 del Acuerdo europeo sobre transporte internacional de mercancías peligrosas por carretera (ADR) relativo a los certificados de formación de los conductores de conformidad con el punto 8.2.2.8.2 del ADR y los certificados de consejeros de seguridad de conformidad con el punto 1.8.3.7 del ADR, hecho en Madrid el 23 de marzo de 2020',\n",
       " 'Acuerdo Multilateral M325 en virtud de la sección 1.5.1 del Acuerdo europeo sobre transporte internacional de mercancías peligrosas por carretera (ADR), relativo a inspecciones periódicas o intermedias de cisternas de conformidad con los apartados 6.8.2.4.2, 6.8.2.4.3, 6.8.3.4.6, 6.8.3.4.12, 6.9.5.2 y 6.10.4 del ADR, y los certificados de aprobación para vehículos de conformidad con el apartado 9.1.3.4 del ADR, hecho en Madrid el 23 de marzo de 2020',\n",
       " 'Acuerdo Multilateral M326 en virtud de la sección 1.5.1 del Acuerdo europeo sobre transporte internacional de mercancías peligrosas por carretera (ADR), relativo a la inspección periódica y ensayo de recipientes a presión del transporte de gases de la Clase 2, hecho en Madrid el 2 de abril de 2020',\n",
       " 'Acuerdo Multilateral M327 bajo la sección 1.5.1 del Acuerdo europeo sobre transporte internacional de mercancías peligrosas por carretera (ADR), sobre inspecciones periódicas o intermedias de cisternas portátiles y contenedores de gas de elementos múltiples (CGEM) certificados «UN» de acuerdo con los apartados 6.7.2.19.2, 6.7.3.15.2, 6.7.4.14.2 y 6.7.5.12.2 del ADR, hecho en Madrid el 2 de abril de 2020',\n",
       " 'Acuerdo Multilateral M330 en virtud de la sección 1.5.1 del ADR, relativo a los certificados de formación de los conductores de conformidad con el punto 8.2.2.8.2 del ADR y los certificados de consejeros de seguridad de conformidad con el punto 1.8.3.7 del ADR, hecho en Madrid el 2 de diciembre de 2020',\n",
       " 'Acuerdo Multilateral M331 en virtud de la sección 1.5.1 del ADR, relativo a la inspección periódica y ensayo de recipientes a presión para el transporte de gases de la Clase 2, hecho en Madrid el 2 de diciembre de 2020',\n",
       " 'Acuerdo Multilateral M332 en virtud de la sección 1.5.1 del ADR, en relación con lo establecido para los materiales radiactivos de baja actividad específica BAE-III en el párrafo 2.2.7.2.3.1.4 del ADR, hecho en Madrid el 11 de diciembre de 2020',\n",
       " 'ADR 2003']"
      ]
     },
     "metadata": {},
     "execution_count": 576
    }
   ],
   "source": [
    "vacios[0:25]"
   ]
  },
  {
   "cell_type": "code",
   "execution_count": 577,
   "metadata": {},
   "outputs": [
    {
     "output_type": "execute_result",
     "data": {
      "text/plain": [
       "[['Acuerdo Multilateral RID 1/2020'],\n",
       " ['Acuerdo Multilateral RID 2/2020'],\n",
       " ['Acuerdo Multilateral RID 1/2013'],\n",
       " ['Acuerdo Multilateral RID 3/2007'],\n",
       " ['Acuerdo Multilateral RID 4/2009'],\n",
       " ['Acuerdo Multilateral M-150'],\n",
       " ['Acuerdo Multilateral M-159'],\n",
       " ['Acuerdo multilateral M-168'],\n",
       " ['Acuerdo Multilateral M-170'],\n",
       " ['Acuerdo Multilateral M-171'],\n",
       " ['Acuerdo Multilateral M-173'],\n",
       " ['Acuerdo Multilateral M-175'],\n",
       " ['Acuerdo Multilateral M-178'],\n",
       " ['Acuerdo Multilateral M-198'],\n",
       " ['Acuerdo Multilateral M-214'],\n",
       " ['Acuerdo Multilateral M-218'],\n",
       " ['Acuerdo Multilateral M-226'],\n",
       " ['Acuerdo Multilateral M-228'],\n",
       " ['Acuerdo Multilateral M-231'],\n",
       " ['Acuerdo Multilateral M-236'],\n",
       " ['Acuerdo Multilateral M-245'],\n",
       " ['Acuerdo Multilateral M-254'],\n",
       " ['Acuerdo Multilateral M-259'],\n",
       " ['Acuerdo Multilateral M-265'],\n",
       " ['Acuerdo Multilateral M-268']]"
      ]
     },
     "metadata": {},
     "execution_count": 577
    }
   ],
   "source": [
    "boletin[0:25]"
   ]
  },
  {
   "cell_type": "code",
   "execution_count": 578,
   "metadata": {},
   "outputs": [],
   "source": [
    "# Flatten list of lists\n",
    "boletin_ASECORP_flat_list = [item for sublist in boletin for item in sublist]"
   ]
  },
  {
   "cell_type": "code",
   "execution_count": 579,
   "metadata": {},
   "outputs": [
    {
     "output_type": "execute_result",
     "data": {
      "text/plain": [
       "['Acuerdo Multilateral RID 1/2020',\n",
       " 'Acuerdo Multilateral RID 2/2020',\n",
       " 'Acuerdo Multilateral RID 1/2013',\n",
       " 'Acuerdo Multilateral RID 3/2007',\n",
       " 'Acuerdo Multilateral RID 4/2009',\n",
       " 'Acuerdo Multilateral M-150',\n",
       " 'Acuerdo Multilateral M-159',\n",
       " 'Acuerdo multilateral M-168',\n",
       " 'Acuerdo Multilateral M-170',\n",
       " 'Acuerdo Multilateral M-171',\n",
       " 'Acuerdo Multilateral M-173',\n",
       " 'Acuerdo Multilateral M-175',\n",
       " 'Acuerdo Multilateral M-178',\n",
       " 'Acuerdo Multilateral M-198',\n",
       " 'Acuerdo Multilateral M-214',\n",
       " 'Acuerdo Multilateral M-218',\n",
       " 'Acuerdo Multilateral M-226',\n",
       " 'Acuerdo Multilateral M-228',\n",
       " 'Acuerdo Multilateral M-231',\n",
       " 'Acuerdo Multilateral M-236',\n",
       " 'Acuerdo Multilateral M-245',\n",
       " 'Acuerdo Multilateral M-254',\n",
       " 'Acuerdo Multilateral M-259',\n",
       " 'Acuerdo Multilateral M-265',\n",
       " 'Acuerdo Multilateral M-268']"
      ]
     },
     "metadata": {},
     "execution_count": 579
    }
   ],
   "source": [
    "boletin_ASECORP_flat_list[0:25]"
   ]
  },
  {
   "cell_type": "code",
   "execution_count": 580,
   "metadata": {},
   "outputs": [],
   "source": [
    "## Elimina duplicados\n",
    "boletin_ASECORP_flat_list = list(set(boletin_ASECORP_flat_list))"
   ]
  },
  {
   "cell_type": "code",
   "execution_count": 581,
   "metadata": {},
   "outputs": [
    {
     "output_type": "execute_result",
     "data": {
      "text/plain": [
       "['Sentencia 15/2018',\n",
       " 'Resolución de 27 de abril de 2005',\n",
       " 'Real Decreto 201/2002',\n",
       " 'Real Decreto Legislativo 1/2007',\n",
       " 'Orden AAA/2272/2013',\n",
       " 'Orden ITC/633/2007',\n",
       " 'Reglamento 1488/94',\n",
       " 'Real Decreto 2001/1995',\n",
       " 'Resolución de 16 de marzo de 2011',\n",
       " 'Real Decreto 180/2008',\n",
       " 'Reglamento (UE) nº 984/2013',\n",
       " 'Ley 28/2015',\n",
       " 'Orden PRE/3290/2002',\n",
       " 'Orden ITC/3520/2009',\n",
       " 'Reglamento (UE) 2020/741',\n",
       " 'Reglamento (UE) 2017/752',\n",
       " 'Real Decreto 2351/2004',\n",
       " 'Sentencia de 24 de enero de 2011',\n",
       " 'Reglamento (CE) nº 641/2009',\n",
       " 'Real Decreto 679/2006',\n",
       " 'Directiva 2002/49',\n",
       " 'Resolución de 24 de julio de 1989',\n",
       " 'Real Decreto 1720/2007',\n",
       " 'Reglamento (CE) nº 1907/2006',\n",
       " 'Resolución de 18 de marzo de 2020']"
      ]
     },
     "metadata": {},
     "execution_count": 581
    }
   ],
   "source": [
    "boletin_ASECORP_flat_list[0:25]"
   ]
  },
  {
   "source": [
    "# Genera Fichero EXCEL de resultados"
   ],
   "cell_type": "markdown",
   "metadata": {}
  },
  {
   "cell_type": "code",
   "execution_count": 582,
   "metadata": {},
   "outputs": [],
   "source": [
    "## Crea función que convierte lista a string en todas las columnas de tabla_analisis\n",
    "## para evitar en presentación final los caracteres [' '] propios de las listas\n",
    "def list2Str(lst):\n",
    "    if type(lst) is list: # apply conversion to list columns\n",
    "        return\", \".join(lst)\n",
    "    else:\n",
    "        return lst"
   ]
  },
  {
   "cell_type": "code",
   "execution_count": 583,
   "metadata": {},
   "outputs": [],
   "source": [
    "## Aplica función de conversión de listas a strings\n",
    "ASECORP_BBDD_BOE_final = ASECORP_BBDD_BOE.apply(lambda x: [list2Str(i) for i in x])"
   ]
  },
  {
   "cell_type": "code",
   "execution_count": 584,
   "metadata": {},
   "outputs": [],
   "source": [
    "ASECORP_BBDD_BOE_final.to_csv(\"./ASECORP/ASECORP_BBDD_Tageada_\" + today.strftime(\"%Y%m%d\") + \".csv\", index=False) "
   ]
  },
  {
   "cell_type": "code",
   "execution_count": null,
   "metadata": {},
   "outputs": [],
   "source": []
  }
 ]
}