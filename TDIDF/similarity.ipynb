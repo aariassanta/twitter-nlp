{
 "metadata": {
  "language_info": {
   "codemirror_mode": {
    "name": "ipython",
    "version": 3
   },
   "file_extension": ".py",
   "mimetype": "text/x-python",
   "name": "python",
   "nbconvert_exporter": "python",
   "pygments_lexer": "ipython3",
   "version": "3.8.5-final"
  },
  "orig_nbformat": 2,
  "kernelspec": {
   "name": "python3",
   "display_name": "Python 3",
   "language": "python"
  }
 },
 "nbformat": 4,
 "nbformat_minor": 2,
 "cells": [
  {
   "cell_type": "code",
   "execution_count": 526,
   "metadata": {},
   "outputs": [],
   "source": [
    "import numpy as np    "
   ]
  },
  {
   "cell_type": "code",
   "execution_count": 527,
   "metadata": {},
   "outputs": [],
   "source": [
    "from sklearn.feature_extraction.text import TfidfVectorizer"
   ]
  },
  {
   "cell_type": "code",
   "execution_count": 528,
   "metadata": {},
   "outputs": [],
   "source": [
    "import nltk, string\n",
    "\n",
    "# nltk.download('punkt') # if necessary..."
   ]
  },
  {
   "cell_type": "code",
   "execution_count": 529,
   "metadata": {},
   "outputs": [],
   "source": [
    "from stop_words import get_stop_words"
   ]
  },
  {
   "source": [
    "## Carga documentos del CORPUS"
   ],
   "cell_type": "markdown",
   "metadata": {}
  },
  {
   "cell_type": "code",
   "execution_count": 530,
   "metadata": {},
   "outputs": [],
   "source": [
    "document = open('CORPUS.csv','r')\n",
    "corpus = [doc.replace(';','').replace('\\n','') for doc in document]"
   ]
  },
  {
   "cell_type": "code",
   "execution_count": 531,
   "metadata": {},
   "outputs": [
    {
     "output_type": "stream",
     "name": "stdout",
     "text": [
      "['Ley 22/2011, de 28 de julio, de residuos y suelos contaminados.', 'Ley 22/2011, de 28 de julio, de residuos y suelos no contaminados.', 'Orden PRA/321/2017, de 7 de abril, por la que se regulan los procedimientos de determinación de las emisiones de los contaminantes atmosféricos SO2, NOx, partículas y CO procedentes de las grandes instalaciones de combustión, el control de los instrumentos de medida y el tratamiento y remisión de la información relativa a dichas emisiones.', 'Real Decreto 198/2017, de 3 de marzo, por el que se modifican el Real Decreto 1728/2007, de 21 de diciembre, por el que se establece la normativa básica de control que deben cumplir los operadores del sector lácteo y se modifica el Real Decreto 217/2004, de 6 de febrero, por el que se regulan la identificación y registro de los agentes, establecimientos y contenedores que intervienen en el sector lácteo, y el registro de los movimientos de la leche, el Real Decreto 752/2011, de 27 de mayo, por el que se establece la normativa básica de control que deben cumplir los agentes del sector de leche cruda de oveja y cabra, el Real Decreto 1528/2012, de 8 de noviembre, por el que se establecen las normas aplicables a los subproductos animales y los productos derivados no destinados al consumo humano, y el Real Decreto 476/2014, de 13 de junio, por el que se regula el registro nacional de movimientos de subproductos animales y los productos derivados no destinados al consumo humano.', 'Real Decreto 130/2017, de 24 de febrero, por el que se aprueba el Reglamento de Explosivos.', 'Real Decreto Legislativo 1/2016, de 16 de diciembre, por el que se aprueba el texto refundido de la Ley de prevención y control integrados de la contaminación.', 'Real Decreto 1/2016, de 8 de enero, por el que se aprueba la revisión de los Planes Hidrológicos de las demarcaciones hidrográficas del Cantábrico Occidental, Guadalquivir, Ceuta, Melilla, Segura y Júcar, y de la parte española de las demarcaciones hidrográficas del Cantábrico Oriental, Miño-Sil, Duero, Tajo, Guadiana y Ebro.', 'Resolución de 16 de noviembre de 2015, de la Dirección General de Calidad y Evaluación Ambiental y Medio Natural, por la que se publica el Acuerdo del Consejo de Ministros de 6 de noviembre de 2015, por el que se aprueba el Plan Estatal Marco de Gestión de Residuos (PEMAR) 2016-2022.', 'Ley 21/2015, de 20 de julio, por la que se modifica la Ley 43/2003, de 21 de noviembre, de Montes.', 'Real Decreto 183/2015, de 13 de marzo, por el que se modifica el Reglamento de desarrollo parcial de la Ley 26/2007, de 23 de octubre, de Responsabilidad Medioambiental, aprobado por el Real Decreto 2090/2008, de 22 de diciembre.', 'Ley 3/2015, de 11 de marzo, de medidas fiscales, financieras y administrativas.', 'Real Decreto 110/2015, de 20 de febrero, sobre residuos de aparatos eléctricos y electrónicos.', 'Real Decreto 1074/2014, de 19 de diciembre, por el que se modifican el Reglamento de los Impuestos Especiales, aprobado por el Real Decreto 1165/1995, de 7 de julio, el Reglamento del Impuesto sobre los Gases Fluorados de Efecto Invernadero, aprobado por el Real Decreto 1042/2013, de 27 de diciembre, y el Reglamento del Impuesto sobre la Renta de las Personas Físicas, aprobado por el Real Decreto 439/2007, de 30 de marzo.', 'Ley 8/2014, de 14 de octubre, por la que se modifica la Ley 11/2003, de 8 de abril, de Prevención Ambiental de Castilla y León.', 'Real Decreto 476/2014, de 13 de junio, por el que se regula el registro nacional de movimientos de subproductos animales y los productos derivados no destinados a consumo humano.', 'Ley 2/2014, de 27 de enero, de medidas fiscales, administrativas, financieras y del sector público.', 'Real Decreto 129/2014, de 28 de febrero, por el que se aprueba el Plan Hidrológico de la parte española de la Demarcación Hidrográfica del Ebro.', 'Ley 5/2013, de 23 de diciembre, de Medidas Fiscales, de Gestión Administrativa y Financiera, y de Organización de la Generalitat.', 'Real Decreto 1042/2013, de 27 de diciembre, por el que se aprueba el Reglamento del Impuesto sobre los Gases Fluorados de Efecto Invernadero, y por el que se modifican el Reglamento del Procedimiento para el ejercicio de la potestad sancionadora, aprobado por el Real Decreto 1398/1993, de 4 de agosto, el Reglamento del Impuesto sobre Sociedades, aprobado por el Real Decreto 1777/2004, de 30 de julio, el Reglamento del Impuesto sobre la Renta de las Personas Físicas, aprobado por el Real Decreto 439/2007, de 30 de marzo, y el Reglamento del Impuesto sobre el Valor Añadido, aprobado por el Real Decreto 1624/1992, de 29 de diciembre.', 'Real Decreto 1017/2013, de 20 de diciembre, por el que se aprueba el Programa anual 2014 del Plan Estadístico Nacional 2013-2016.', 'Real Decreto 815/2013, de 18 de octubre, por el que se aprueba el Reglamento de emisiones industriales y de desarrollo de la Ley 16/2002, de 1 de julio, de prevención y control integrados de la contaminación.', 'Orden AAA/1072/2013, de 7 de junio, sobre utilización de lodos de depuración en el sector agrario.', 'Orden AAA/661/2013, de 18 de abril, por la que se modifican los anexos I, II y III del Real Decreto 1481/2001, de 27 de diciembre, por el que se regula la eliminación de residuos mediante depósito en vertedero.', 'Real Decreto 219/2013, de 22 de marzo, sobre restricciones a la utilización de determinadas sustancias peligrosas en aparatos eléctricos y electrónicos.', 'Ley 4/2012, de 28 de diciembre, de Medidas Financieras y Administrativas de la Comunidad Autónoma de Extremadura.', 'Ley 11/2012, de 19 de diciembre, de medidas urgentes en materia de medio ambiente.', 'Real Decreto 1311/2012, de 14 de septiembre, por el que se establece el marco de actuación para conseguir un uso sostenible de los productos fitosanitarios.', 'Real Decreto 777/2012, de 4 de mayo, por el que se modifica el Real Decreto 975/2009, de 12 de junio, sobre gestión de los residuos de las industrias extractivas y de protección y rehabilitación del espacio afectado por las actividades mineras.', 'Ley 3/2012, de 8 de marzo, de Medidas Fiscales y Administrativas de la Comunidad Autónoma de Aragón.', 'Real Decreto 1201/2005, de 10 de octubre, sobre protección de los animales utilizados para experimentación y otros fines científicos.', 'Real Decreto 9/2005, de 14 de enero, por el que se establece la relación de actividades potencialmente contaminantes del suelo y los criterios y estándares para la declaración de suelos contaminados.', 'Real Decreto 1477/2004, de 18 de junio, por el que se desarrolla la estructura orgánica básica del Ministerio de Medio Ambiente.', 'Real Decreto 1477/2004, de 18 de junio, por el que se desarrolla la estructura orgánica básica del Ministerio de Medio Ambiente.', 'Ley 62/2003, de 30 de diciembre, de medidas fiscales, administrativas y del orden social.']\n"
     ]
    }
   ],
   "source": [
    "#print(documents.read())\n",
    "print(corpus)"
   ]
  },
  {
   "source": [
    "## Preprocesado"
   ],
   "cell_type": "markdown",
   "metadata": {}
  },
  {
   "source": [
    "### Stop Words, Stemmization, Tokenization, LowerCase, and Remove Punctuation"
   ],
   "cell_type": "markdown",
   "metadata": {}
  },
  {
   "cell_type": "code",
   "execution_count": 532,
   "metadata": {},
   "outputs": [],
   "source": [
    "additional_stop_words = ['https','-','amp','&amp;']\n",
    "stop_words = get_stop_words('english') \\\n",
    "    + get_stop_words('spanish')  \\\n",
    "    + additional_stop_words"
   ]
  },
  {
   "cell_type": "code",
   "execution_count": 533,
   "metadata": {},
   "outputs": [],
   "source": [
    "stemmer = nltk.stem.porter.PorterStemmer()\n",
    "remove_punctuation_map = dict((ord(char), None) for char in string.punctuation)"
   ]
  },
  {
   "cell_type": "code",
   "execution_count": 534,
   "metadata": {},
   "outputs": [],
   "source": [
    "def stem_tokens(tokens):\n",
    "    return [stemmer.stem(item) for item in tokens]\n",
    "\n",
    "'''remove punctuation, lowercase, stem'''\n",
    "def normalize(text):\n",
    "    return stem_tokens(nltk.word_tokenize(text.lower().translate(remove_punctuation_map)))\n",
    "\n",
    "vectorizer = TfidfVectorizer(tokenizer=normalize, stop_words= stop_words )\n",
    "\n",
    "def cosine_sim(text1, text2):\n",
    "    tfidf = vectorizer.fit_transform([text1, text2])\n",
    "    return ((tfidf * tfidf.T).A)[0,1]"
   ]
  },
  {
   "source": [
    "## Procesado"
   ],
   "cell_type": "markdown",
   "metadata": {}
  },
  {
   "cell_type": "code",
   "execution_count": 535,
   "metadata": {},
   "outputs": [],
   "source": [
    "tfidf = vectorizer.fit_transform(corpus)"
   ]
  },
  {
   "cell_type": "code",
   "execution_count": 536,
   "metadata": {},
   "outputs": [],
   "source": [
    "pairwise_similarity = (tfidf * tfidf.T)\n",
    "arr = pairwise_similarity.A"
   ]
  },
  {
   "cell_type": "code",
   "execution_count": 537,
   "metadata": {},
   "outputs": [
    {
     "output_type": "execute_result",
     "data": {
      "text/plain": [
       "<34x34 sparse matrix of type '<class 'numpy.float64'>'\n",
       "\twith 824 stored elements in Compressed Sparse Row format>"
      ]
     },
     "metadata": {},
     "execution_count": 537
    }
   ],
   "source": [
    "pairwise_similarity"
   ]
  },
  {
   "cell_type": "code",
   "execution_count": 538,
   "metadata": {},
   "outputs": [
    {
     "output_type": "execute_result",
     "data": {
      "text/plain": [
       "array([[1.        , 1.        , 0.        , ..., 0.        , 0.        ,\n",
       "        0.05142435],\n",
       "       [1.        , 1.        , 0.        , ..., 0.        , 0.        ,\n",
       "        0.05142435],\n",
       "       [0.        , 0.        , 1.        , ..., 0.        , 0.        ,\n",
       "        0.08361992],\n",
       "       ...,\n",
       "       [0.        , 0.        , 0.        , ..., 1.        , 1.        ,\n",
       "        0.        ],\n",
       "       [0.        , 0.        , 0.        , ..., 1.        , 1.        ,\n",
       "        0.        ],\n",
       "       [0.05142435, 0.05142435, 0.08361992, ..., 0.        , 0.        ,\n",
       "        1.        ]])"
      ]
     },
     "metadata": {},
     "execution_count": 538
    }
   ],
   "source": [
    "arr"
   ]
  },
  {
   "cell_type": "code",
   "execution_count": 539,
   "metadata": {},
   "outputs": [],
   "source": [
    "### elimina la coincidencia de un doc consigo mismo      \n",
    "np.fill_diagonal(arr, np.nan)                                                                                              "
   ]
  },
  {
   "cell_type": "code",
   "execution_count": 540,
   "metadata": {},
   "outputs": [],
   "source": [
    "### Busca índice del doc del que vamos a buscar otro similar"
   ]
  },
  {
   "cell_type": "code",
   "execution_count": 541,
   "metadata": {},
   "outputs": [],
   "source": [
    "input_doc = \"Ley 22/2011, de 28 de julio, de residuos y suelos contaminados.\"          \n",
    "\n",
    "input_idx = corpus.index(input_doc)    "
   ]
  },
  {
   "source": [
    "### Imprime el índice del doc del que vamos a buscar otro similar"
   ],
   "cell_type": "markdown",
   "metadata": {}
  },
  {
   "cell_type": "code",
   "execution_count": 542,
   "metadata": {},
   "outputs": [
    {
     "output_type": "execute_result",
     "data": {
      "text/plain": [
       "0"
      ]
     },
     "metadata": {},
     "execution_count": 542
    }
   ],
   "source": [
    "input_idx"
   ]
  },
  {
   "source": [
    "### Encuentra el índice del doc con mayor similaridad"
   ],
   "cell_type": "markdown",
   "metadata": {}
  },
  {
   "cell_type": "code",
   "execution_count": 543,
   "metadata": {},
   "outputs": [],
   "source": [
    "result_idx = np.nanargmax(arr[input_idx]) "
   ]
  },
  {
   "cell_type": "code",
   "execution_count": 544,
   "metadata": {},
   "outputs": [
    {
     "output_type": "execute_result",
     "data": {
      "text/plain": [
       "1"
      ]
     },
     "metadata": {},
     "execution_count": 544
    }
   ],
   "source": [
    "result_idx"
   ]
  },
  {
   "source": [
    "### Coeficiente de similaridad"
   ],
   "cell_type": "markdown",
   "metadata": {}
  },
  {
   "cell_type": "code",
   "execution_count": 545,
   "metadata": {},
   "outputs": [
    {
     "output_type": "execute_result",
     "data": {
      "text/plain": [
       "1.0000000000000002"
      ]
     },
     "metadata": {},
     "execution_count": 545
    }
   ],
   "source": [
    "arr[input_idx,result_idx]"
   ]
  },
  {
   "source": [
    "### Imprime el doc con el coeficiente de mayor similaridad"
   ],
   "cell_type": "markdown",
   "metadata": {}
  },
  {
   "cell_type": "code",
   "execution_count": 546,
   "metadata": {},
   "outputs": [
    {
     "output_type": "execute_result",
     "data": {
      "text/plain": [
       "'Ley 22/2011, de 28 de julio, de residuos y suelos no contaminados.'"
      ]
     },
     "metadata": {},
     "execution_count": 546
    }
   ],
   "source": [
    "  corpus[result_idx]    "
   ]
  },
  {
   "cell_type": "code",
   "execution_count": 547,
   "metadata": {},
   "outputs": [],
   "source": [
    "### Obtiene los índices de los 5 docs que más similitud tienen con el de entrada"
   ]
  },
  {
   "cell_type": "code",
   "execution_count": 548,
   "metadata": {},
   "outputs": [],
   "source": [
    "idx = (-arr[input_idx]).argsort()[:5]"
   ]
  },
  {
   "cell_type": "code",
   "execution_count": 549,
   "metadata": {},
   "outputs": [
    {
     "output_type": "execute_result",
     "data": {
      "text/plain": [
       "array([ 1, 30,  8, 24, 20])"
      ]
     },
     "metadata": {},
     "execution_count": 549
    }
   ],
   "source": [
    "idx"
   ]
  },
  {
   "cell_type": "code",
   "execution_count": 550,
   "metadata": {},
   "outputs": [],
   "source": [
    "### Obtiene los coeficientes de similaridad de los 5 docs más similares"
   ]
  },
  {
   "cell_type": "code",
   "execution_count": 551,
   "metadata": {},
   "outputs": [
    {
     "output_type": "execute_result",
     "data": {
      "text/plain": [
       "[1.0000000000000002,\n",
       " 0.2815521658760466,\n",
       " 0.1751969929483945,\n",
       " 0.16665159044312214,\n",
       " 0.10270794321858764]"
      ]
     },
     "metadata": {},
     "execution_count": 551
    }
   ],
   "source": [
    "[ arr[input_idx, index] for index in idx ]"
   ]
  },
  {
   "cell_type": "code",
   "execution_count": 552,
   "metadata": {},
   "outputs": [],
   "source": [
    "### Lista los 5 docs con mayor similaridad al de entrada"
   ]
  },
  {
   "cell_type": "code",
   "execution_count": 553,
   "metadata": {},
   "outputs": [
    {
     "output_type": "execute_result",
     "data": {
      "text/plain": [
       "['Ley 22/2011, de 28 de julio, de residuos y suelos no contaminados.',\n",
       " 'Real Decreto 9/2005, de 14 de enero, por el que se establece la relación de actividades potencialmente contaminantes del suelo y los criterios y estándares para la declaración de suelos contaminados.',\n",
       " 'Ley 21/2015, de 20 de julio, por la que se modifica la Ley 43/2003, de 21 de noviembre, de Montes.',\n",
       " 'Ley 4/2012, de 28 de diciembre, de Medidas Financieras y Administrativas de la Comunidad Autónoma de Extremadura.',\n",
       " 'Real Decreto 815/2013, de 18 de octubre, por el que se aprueba el Reglamento de emisiones industriales y de desarrollo de la Ley 16/2002, de 1 de julio, de prevención y control integrados de la contaminación.']"
      ]
     },
     "metadata": {},
     "execution_count": 553
    }
   ],
   "source": [
    "[corpus[index] for index in idx]"
   ]
  }
 ]
}