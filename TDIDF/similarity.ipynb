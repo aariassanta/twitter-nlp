{
 "metadata": {
  "language_info": {
   "codemirror_mode": {
    "name": "ipython",
    "version": 3
   },
   "file_extension": ".py",
   "mimetype": "text/x-python",
   "name": "python",
   "nbconvert_exporter": "python",
   "pygments_lexer": "ipython3",
   "version": "3.8.5-final"
  },
  "orig_nbformat": 2,
  "kernelspec": {
   "name": "python3",
   "display_name": "Python 3",
   "language": "python"
  }
 },
 "nbformat": 4,
 "nbformat_minor": 2,
 "cells": [
  {
   "cell_type": "code",
   "execution_count": 229,
   "metadata": {},
   "outputs": [],
   "source": [
    "import numpy as np    "
   ]
  },
  {
   "source": [
    "### Importa libreria Scikit "
   ],
   "cell_type": "markdown",
   "metadata": {}
  },
  {
   "cell_type": "code",
   "execution_count": 230,
   "metadata": {},
   "outputs": [],
   "source": [
    "from sklearn.feature_extraction.text import TfidfVectorizer"
   ]
  },
  {
   "source": [
    "### Importa librería NLTK para preprocesado"
   ],
   "cell_type": "markdown",
   "metadata": {}
  },
  {
   "cell_type": "code",
   "execution_count": 231,
   "metadata": {},
   "outputs": [],
   "source": [
    "import nltk, string\n",
    "\n",
    "# nltk.download('punkt') # if necessary..."
   ]
  },
  {
   "cell_type": "code",
   "execution_count": 232,
   "metadata": {},
   "outputs": [],
   "source": [
    "from stop_words import get_stop_words"
   ]
  },
  {
   "source": [
    "## Carga documentos del CORPUS"
   ],
   "cell_type": "markdown",
   "metadata": {}
  },
  {
   "cell_type": "code",
   "execution_count": 233,
   "metadata": {},
   "outputs": [],
   "source": [
    "document = open('CORPUS.csv','r')\n",
    "corpus = [doc.replace(';','').replace('\\n','') for doc in document]"
   ]
  },
  {
   "cell_type": "code",
   "execution_count": 234,
   "metadata": {},
   "outputs": [],
   "source": [
    "corpus.insert(0,'insertado en primera posición')"
   ]
  },
  {
   "cell_type": "code",
   "execution_count": 235,
   "metadata": {},
   "outputs": [
    {
     "output_type": "stream",
     "name": "stdout",
     "text": [
      "['insertado en primera posición', 'Ley 22/2011, de 28 de julio, de residuos y suelos contaminados.', 'Ley 22/2011, de 28 de julio, de residuos y suelos no contaminados.', 'Orden PRA/321/2017, de 7 de abril, por la que se regulan los procedimientos de determinación de las emisiones de los contaminantes atmosféricos SO2, NOx, partículas y CO procedentes de las grandes instalaciones de combustión, el control de los instrumentos de medida y el tratamiento y remisión de la información relativa a dichas emisiones.', 'Real Decreto 198/2017, de 3 de marzo, por el que se modifican el Real Decreto 1728/2007, de 21 de diciembre, por el que se establece la normativa básica de control que deben cumplir los operadores del sector lácteo y se modifica el Real Decreto 217/2004, de 6 de febrero, por el que se regulan la identificación y registro de los agentes, establecimientos y contenedores que intervienen en el sector lácteo, y el registro de los movimientos de la leche, el Real Decreto 752/2011, de 27 de mayo, por el que se establece la normativa básica de control que deben cumplir los agentes del sector de leche cruda de oveja y cabra, el Real Decreto 1528/2012, de 8 de noviembre, por el que se establecen las normas aplicables a los subproductos animales y los productos derivados no destinados al consumo humano, y el Real Decreto 476/2014, de 13 de junio, por el que se regula el registro nacional de movimientos de subproductos animales y los productos derivados no destinados al consumo humano.', 'Real Decreto 130/2017, de 24 de febrero, por el que se aprueba el Reglamento de Explosivos.', 'Real Decreto Legislativo 1/2016, de 16 de diciembre, por el que se aprueba el texto refundido de la Ley de prevención y control integrados de la contaminación.', 'Real Decreto 1/2016, de 8 de enero, por el que se aprueba la revisión de los Planes Hidrológicos de las demarcaciones hidrográficas del Cantábrico Occidental, Guadalquivir, Ceuta, Melilla, Segura y Júcar, y de la parte española de las demarcaciones hidrográficas del Cantábrico Oriental, Miño-Sil, Duero, Tajo, Guadiana y Ebro.', 'Resolución de 16 de noviembre de 2015, de la Dirección General de Calidad y Evaluación Ambiental y Medio Natural, por la que se publica el Acuerdo del Consejo de Ministros de 6 de noviembre de 2015, por el que se aprueba el Plan Estatal Marco de Gestión de Residuos (PEMAR) 2016-2022.', 'Ley 21/2015, de 20 de julio, por la que se modifica la Ley 43/2003, de 21 de noviembre, de Montes.', 'Real Decreto 183/2015, de 13 de marzo, por el que se modifica el Reglamento de desarrollo parcial de la Ley 26/2007, de 23 de octubre, de Responsabilidad Medioambiental, aprobado por el Real Decreto 2090/2008, de 22 de diciembre.', 'Ley 3/2015, de 11 de marzo, de medidas fiscales, financieras y administrativas.', 'Real Decreto 110/2015, de 20 de febrero, sobre residuos de aparatos eléctricos y electrónicos.', 'Real Decreto 1074/2014, de 19 de diciembre, por el que se modifican el Reglamento de los Impuestos Especiales, aprobado por el Real Decreto 1165/1995, de 7 de julio, el Reglamento del Impuesto sobre los Gases Fluorados de Efecto Invernadero, aprobado por el Real Decreto 1042/2013, de 27 de diciembre, y el Reglamento del Impuesto sobre la Renta de las Personas Físicas, aprobado por el Real Decreto 439/2007, de 30 de marzo.', 'Ley 8/2014, de 14 de octubre, por la que se modifica la Ley 11/2003, de 8 de abril, de Prevención Ambiental de Castilla y León.', 'Real Decreto 476/2014, de 13 de junio, por el que se regula el registro nacional de movimientos de subproductos animales y los productos derivados no destinados a consumo humano.', 'Ley 2/2014, de 27 de enero, de medidas fiscales, administrativas, financieras y del sector público.', 'Real Decreto 129/2014, de 28 de febrero, por el que se aprueba el Plan Hidrológico de la parte española de la Demarcación Hidrográfica del Ebro.', 'Ley 5/2013, de 23 de diciembre, de Medidas Fiscales, de Gestión Administrativa y Financiera, y de Organización de la Generalitat.', 'Real Decreto 1042/2013, de 27 de diciembre, por el que se aprueba el Reglamento del Impuesto sobre los Gases Fluorados de Efecto Invernadero, y por el que se modifican el Reglamento del Procedimiento para el ejercicio de la potestad sancionadora, aprobado por el Real Decreto 1398/1993, de 4 de agosto, el Reglamento del Impuesto sobre Sociedades, aprobado por el Real Decreto 1777/2004, de 30 de julio, el Reglamento del Impuesto sobre la Renta de las Personas Físicas, aprobado por el Real Decreto 439/2007, de 30 de marzo, y el Reglamento del Impuesto sobre el Valor Añadido, aprobado por el Real Decreto 1624/1992, de 29 de diciembre.', 'Real Decreto 1017/2013, de 20 de diciembre, por el que se aprueba el Programa anual 2014 del Plan Estadístico Nacional 2013-2016.', 'Real Decreto 815/2013, de 18 de octubre, por el que se aprueba el Reglamento de emisiones industriales y de desarrollo de la Ley 16/2002, de 1 de julio, de prevención y control integrados de la contaminación.', 'Orden AAA/1072/2013, de 7 de junio, sobre utilización de lodos de depuración en el sector agrario.', 'Orden AAA/661/2013, de 18 de abril, por la que se modifican los anexos I, II y III del Real Decreto 1481/2001, de 27 de diciembre, por el que se regula la eliminación de residuos mediante depósito en vertedero.', 'Real Decreto 219/2013, de 22 de marzo, sobre restricciones a la utilización de determinadas sustancias peligrosas en aparatos eléctricos y electrónicos.', 'Ley 4/2012, de 28 de diciembre, de Medidas Financieras y Administrativas de la Comunidad Autónoma de Extremadura.', 'Ley 11/2012, de 19 de diciembre, de medidas urgentes en materia de medio ambiente.', 'Real Decreto 1311/2012, de 14 de septiembre, por el que se establece el marco de actuación para conseguir un uso sostenible de los productos fitosanitarios.', 'Real Decreto 777/2012, de 4 de mayo, por el que se modifica el Real Decreto 975/2009, de 12 de junio, sobre gestión de los residuos de las industrias extractivas y de protección y rehabilitación del espacio afectado por las actividades mineras.', 'Ley 3/2012, de 8 de marzo, de Medidas Fiscales y Administrativas de la Comunidad Autónoma de Aragón.', 'Real Decreto 1201/2005, de 10 de octubre, sobre protección de los animales utilizados para experimentación y otros fines científicos.', 'Real Decreto 9/2005, de 14 de enero, por el que se establece la relación de actividades potencialmente contaminantes del suelo y los criterios y estándares para la declaración de suelos contaminados.', 'Real Decreto 1477/2004, de 18 de junio, por el que se desarrolla la estructura orgánica básica del Ministerio de Medio Ambiente.', 'Real Decreto 1477/2004, de 18 de junio, por el que se desarrolla la estructura orgánica básica del Ministerio de Medio Ambiente.', 'Ley 62/2003, de 30 de diciembre, de medidas fiscales, administrativas y del orden social.']\n"
     ]
    }
   ],
   "source": [
    "print(corpus)"
   ]
  },
  {
   "source": [
    "## Preprocesado"
   ],
   "cell_type": "markdown",
   "metadata": {}
  },
  {
   "source": [
    "### Stop Words, Stemmization, Tokenization, LowerCase, and Remove Punctuation"
   ],
   "cell_type": "markdown",
   "metadata": {}
  },
  {
   "cell_type": "code",
   "execution_count": 236,
   "metadata": {},
   "outputs": [],
   "source": [
    "additional_stop_words = ['https','-','amp','&amp;']\n",
    "stop_words = get_stop_words('english') \\\n",
    "    + get_stop_words('spanish')  \\\n",
    "    + additional_stop_words"
   ]
  },
  {
   "cell_type": "code",
   "execution_count": 237,
   "metadata": {},
   "outputs": [],
   "source": [
    "stemmer = nltk.stem.porter.PorterStemmer()\n",
    "remove_punctuation_map = dict((ord(char), None) for char in string.punctuation)"
   ]
  },
  {
   "cell_type": "code",
   "execution_count": 238,
   "metadata": {},
   "outputs": [],
   "source": [
    "def stem_tokens(tokens):\n",
    "    return [stemmer.stem(item) for item in tokens]\n",
    "\n",
    "'''remove punctuation, lowercase, stem'''\n",
    "def normalize(text):\n",
    "    return stem_tokens(nltk.word_tokenize(text.lower().translate(remove_punctuation_map)))\n",
    "\n",
    "vectorizer = TfidfVectorizer(tokenizer=normalize, stop_words= stop_words )\n",
    "\n",
    "# def cosine_sim(text1, text2):\n",
    "#     tfidf = vectorizer.fit_transform([text1, text2])\n",
    "#     return ((tfidf * tfidf.T).A)[0,1]"
   ]
  },
  {
   "source": [
    "## Procesado"
   ],
   "cell_type": "markdown",
   "metadata": {}
  },
  {
   "cell_type": "code",
   "execution_count": 239,
   "metadata": {},
   "outputs": [],
   "source": [
    "tfidf = vectorizer.fit_transform(corpus)"
   ]
  },
  {
   "cell_type": "code",
   "execution_count": 240,
   "metadata": {},
   "outputs": [],
   "source": [
    "pairwise_similarity = (tfidf * tfidf.T)\n",
    "arr = pairwise_similarity.A"
   ]
  },
  {
   "cell_type": "code",
   "execution_count": 241,
   "metadata": {},
   "outputs": [
    {
     "output_type": "execute_result",
     "data": {
      "text/plain": [
       "<35x35 sparse matrix of type '<class 'numpy.float64'>'\n",
       "\twith 825 stored elements in Compressed Sparse Row format>"
      ]
     },
     "metadata": {},
     "execution_count": 241
    }
   ],
   "source": [
    "pairwise_similarity"
   ]
  },
  {
   "cell_type": "code",
   "execution_count": 242,
   "metadata": {},
   "outputs": [
    {
     "output_type": "execute_result",
     "data": {
      "text/plain": [
       "array([[1.        , 0.        , 0.        , ..., 0.        , 0.        ,\n",
       "        0.        ],\n",
       "       [0.        , 1.        , 1.        , ..., 0.        , 0.        ,\n",
       "        0.05200758],\n",
       "       [0.        , 1.        , 1.        , ..., 0.        , 0.        ,\n",
       "        0.05200758],\n",
       "       ...,\n",
       "       [0.        , 0.        , 0.        , ..., 1.        , 1.        ,\n",
       "        0.        ],\n",
       "       [0.        , 0.        , 0.        , ..., 1.        , 1.        ,\n",
       "        0.        ],\n",
       "       [0.        , 0.05200758, 0.05200758, ..., 0.        , 0.        ,\n",
       "        1.        ]])"
      ]
     },
     "metadata": {},
     "execution_count": 242
    }
   ],
   "source": [
    "arr"
   ]
  },
  {
   "cell_type": "code",
   "execution_count": 243,
   "metadata": {},
   "outputs": [],
   "source": [
    "### elimina la coincidencia de un doc consigo mismo      \n",
    "np.fill_diagonal(arr, np.nan)                                                                                              "
   ]
  },
  {
   "cell_type": "code",
   "execution_count": 244,
   "metadata": {},
   "outputs": [],
   "source": [
    "### Busca índice del doc del que vamos a buscar otro similar"
   ]
  },
  {
   "cell_type": "code",
   "execution_count": 245,
   "metadata": {},
   "outputs": [],
   "source": [
    "query_doc = \"Ley 22/2011, de 28 de julio, de residuos y suelos contaminados.\"          \n",
    "\n",
    "input_idx = corpus.index(query_doc)    "
   ]
  },
  {
   "source": [
    "### Imprime el índice del doc del que vamos a buscar otro similar"
   ],
   "cell_type": "markdown",
   "metadata": {}
  },
  {
   "cell_type": "code",
   "execution_count": 246,
   "metadata": {},
   "outputs": [
    {
     "output_type": "execute_result",
     "data": {
      "text/plain": [
       "1"
      ]
     },
     "metadata": {},
     "execution_count": 246
    }
   ],
   "source": [
    "input_idx"
   ]
  },
  {
   "source": [
    "### Encuentra el índice del doc con mayor similaridad"
   ],
   "cell_type": "markdown",
   "metadata": {}
  },
  {
   "cell_type": "code",
   "execution_count": 247,
   "metadata": {},
   "outputs": [],
   "source": [
    "result_idx = np.nanargmax(arr[input_idx]) "
   ]
  },
  {
   "cell_type": "code",
   "execution_count": 248,
   "metadata": {},
   "outputs": [
    {
     "output_type": "execute_result",
     "data": {
      "text/plain": [
       "2"
      ]
     },
     "metadata": {},
     "execution_count": 248
    }
   ],
   "source": [
    "result_idx"
   ]
  },
  {
   "source": [
    "### Coeficiente de similaridad"
   ],
   "cell_type": "markdown",
   "metadata": {}
  },
  {
   "cell_type": "code",
   "execution_count": 249,
   "metadata": {},
   "outputs": [
    {
     "output_type": "execute_result",
     "data": {
      "text/plain": [
       "0.9999999999999999"
      ]
     },
     "metadata": {},
     "execution_count": 249
    }
   ],
   "source": [
    "arr[input_idx,result_idx]"
   ]
  },
  {
   "source": [
    "### Imprime el doc con el coeficiente de mayor similaridad"
   ],
   "cell_type": "markdown",
   "metadata": {}
  },
  {
   "cell_type": "code",
   "execution_count": 250,
   "metadata": {},
   "outputs": [
    {
     "output_type": "execute_result",
     "data": {
      "text/plain": [
       "'Ley 22/2011, de 28 de julio, de residuos y suelos no contaminados.'"
      ]
     },
     "metadata": {},
     "execution_count": 250
    }
   ],
   "source": [
    "  corpus[result_idx]    "
   ]
  },
  {
   "cell_type": "code",
   "execution_count": 251,
   "metadata": {},
   "outputs": [],
   "source": [
    "### Obtiene los índices de los 5 docs que más similitud tienen con el de entrada"
   ]
  },
  {
   "cell_type": "code",
   "execution_count": 252,
   "metadata": {},
   "outputs": [],
   "source": [
    "idx = (-arr[input_idx]).argsort()[:5]"
   ]
  },
  {
   "cell_type": "code",
   "execution_count": 253,
   "metadata": {},
   "outputs": [
    {
     "output_type": "execute_result",
     "data": {
      "text/plain": [
       "array([ 2, 31,  9, 25, 21])"
      ]
     },
     "metadata": {},
     "execution_count": 253
    }
   ],
   "source": [
    "idx"
   ]
  },
  {
   "cell_type": "code",
   "execution_count": 254,
   "metadata": {},
   "outputs": [],
   "source": [
    "### Obtiene los coeficientes de similaridad de los 5 docs más similares"
   ]
  },
  {
   "cell_type": "code",
   "execution_count": 255,
   "metadata": {},
   "outputs": [
    {
     "output_type": "execute_result",
     "data": {
      "text/plain": [
       "[0.9999999999999999,\n",
       " 0.2814987344752851,\n",
       " 0.17645184381147244,\n",
       " 0.1672440655512475,\n",
       " 0.1033249205060555]"
      ]
     },
     "metadata": {},
     "execution_count": 255
    }
   ],
   "source": [
    "[ arr[input_idx, index] for index in idx ]"
   ]
  },
  {
   "cell_type": "code",
   "execution_count": 256,
   "metadata": {},
   "outputs": [],
   "source": [
    "### Lista los 5 docs con mayor similaridad al de entrada"
   ]
  },
  {
   "cell_type": "code",
   "execution_count": 257,
   "metadata": {},
   "outputs": [
    {
     "output_type": "execute_result",
     "data": {
      "text/plain": [
       "['Ley 22/2011, de 28 de julio, de residuos y suelos no contaminados.',\n",
       " 'Real Decreto 9/2005, de 14 de enero, por el que se establece la relación de actividades potencialmente contaminantes del suelo y los criterios y estándares para la declaración de suelos contaminados.',\n",
       " 'Ley 21/2015, de 20 de julio, por la que se modifica la Ley 43/2003, de 21 de noviembre, de Montes.',\n",
       " 'Ley 4/2012, de 28 de diciembre, de Medidas Financieras y Administrativas de la Comunidad Autónoma de Extremadura.',\n",
       " 'Real Decreto 815/2013, de 18 de octubre, por el que se aprueba el Reglamento de emisiones industriales y de desarrollo de la Ley 16/2002, de 1 de julio, de prevención y control integrados de la contaminación.']"
      ]
     },
     "metadata": {},
     "execution_count": 257
    }
   ],
   "source": [
    "[corpus[index] for index in idx]"
   ]
  },
  {
   "source": [
    "# REGEX"
   ],
   "cell_type": "markdown",
   "metadata": {}
  },
  {
   "cell_type": "code",
   "execution_count": 258,
   "metadata": {},
   "outputs": [],
   "source": [
    "import re"
   ]
  },
  {
   "cell_type": "code",
   "execution_count": 259,
   "metadata": {},
   "outputs": [],
   "source": [
    "### Recoge títulos de Items de la BBDD\n",
    "items_file = open('items_BBDD.txt','r')"
   ]
  },
  {
   "cell_type": "code",
   "execution_count": 260,
   "metadata": {},
   "outputs": [],
   "source": [
    "items_BBDD = items_file.read()"
   ]
  },
  {
   "cell_type": "code",
   "execution_count": 261,
   "metadata": {},
   "outputs": [
    {
     "output_type": "stream",
     "name": "stdout",
     "text": [
      "Decisión 2000/532/CE,\nDirectiva 1999/45/CE,\nDirectiva 2006/121/CE,\nDirectiva 2008/98/CE,\nDirectiva 67/548/CE,\nLey 10/1998,\nLey 15/1998,\nLey 11/1997,\nLey 11/2007,\nLey 16/2002,\nLey 17/2009,\nLey 22/2011,\nLey 26/2007,\nLey 27/2006,\nLey 30/1992,\nLey 30/2007,\nLey 34/2007,\nLey 40/2010,\nLey 50/2010,\nLey 9/2006,\nReal Decreto 1419/2005,\nReal Decreto 2090/2008,\nReal Decreto 975/2009,\nReglamento (CE) N.º 1013/2006,\nReglamento (CE) n.º 1013/2006,\nReglamento (CE) n.º 1069/2009,\nReglamento (CE) n.º 1272/2008,\nReglamento (CE) n.º 1418/2007,\nReglamento (CE) n.º 1774/2002,\nReglamento (CE) n.º 1907/2006,\nReglamento (CE) n.º 440/2008\n"
     ]
    }
   ],
   "source": [
    "print(items_BBDD)"
   ]
  },
  {
   "cell_type": "code",
   "execution_count": 262,
   "metadata": {},
   "outputs": [],
   "source": [
    "items_BBDD = items_BBDD.split(',\\n')"
   ]
  },
  {
   "cell_type": "code",
   "execution_count": 263,
   "metadata": {},
   "outputs": [],
   "source": [
    "file = open('texto.txt','r')\n",
    "#corpus = [doc.replace(';','').replace('\\n','') for doc in document]"
   ]
  },
  {
   "cell_type": "code",
   "execution_count": 264,
   "metadata": {
    "tags": []
   },
   "outputs": [],
   "source": [
    "#print (file.read())"
   ]
  },
  {
   "cell_type": "code",
   "execution_count": 265,
   "metadata": {
    "tags": [
     "outputPrepend"
    ]
   },
   "outputs": [
    {
     "output_type": "stream",
     "name": "stdout",
     "text": [
      "pladas en el artículo 15\nMedidas que pueden afectar a las condiciones marco de la generación de residuos\n\n1. La aplicación de medidas de planificación u otros instrumentos económicos que fomenten una utilización eficiente de los recursos.\n\n2. La promoción de la investigación y el desarrollo destinados a obtener tecnologías y productos más limpios y con menos residuos, así como la difusión y utilización de los resultados de estos trabajos de investigación y desarrollo.\n\n3. La elaboración de indicadores significativos y efectivos de las presiones medioambientales relacionadas con la generación de residuos con miras a contribuir a la prevención de la generación de residuos a todos los niveles, desde las comparaciones de productos a escala comunitaria hasta las intervenciones por parte de las autoridades locales o medidas de carácter nacional.\n\nMedidas que pueden afectar a la fase de diseño, producción y distribución\n\n4. La promoción del eco-diseño (la integración sistemática de los aspectos medioambientales en el diseño del producto con el fin de mejorar el comportamiento medioambiental del producto a lo largo de todo su ciclo de vida, y en particular su duración) y la certificación forestal.\n\n5. La aportación de información sobre las técnicas de prevención de residuos con miras a facilitar la aplicación de las mejores técnicas disponibles por la industria.\n\n6. La organización de la formación de las autoridades competentes en lo que se refiere a la inserción de requisitos de prevención de residuos en las autorizaciones expedidas en virtud de esta Ley y de la Ley 16/2002, de 1 de julio.\n\n7. La inclusión de medidas para evitar la producción de residuos en las instalaciones a las que no se aplica la Ley 16/2002, de 1 de julio. En su caso, estas medidas podrían incluir evaluaciones o planes de prevención de residuos.\n\n8. La realización de campañas de sensibilización o la aportación de apoyo de tipo económico, apoyo a la toma de decisiones u otros tipos de apoyo a las empresas. Estas medidas tienen más posibilidades de ser especialmente efectivas cuando están destinadas y adaptadas a pequeñas y medianas empresas, y se aplican a través de redes de empresas ya establecidas.\n\n9. El recurso a acuerdos voluntarios, paneles de consumidores/productores o negociaciones sectoriales con objeto de que los sectores comerciales o industriales correspondientes establezcan sus propios planes u objetivos de prevención de residuos, o de que corrijan los productos o embalajes que generen residuos.\n\n10. La promoción de sistemas de gestión medioambiental acreditables, incluida las normas EMAS e ISO 14001.\n\nMedidas que pueden afectar a la fase de consumo y uso\n\n11. Medidas encaminadas a la sustitución de productos de un solo uso cuando existan productos reutilizables alternativos.\n\n12. Campañas de sensibilización e información dirigidas al público en general o a un grupo concreto de consumidores.\n\n13. La promoción de etiquetas ecológicas y sistemas de certificación forestal acreditables.\n\n14. Acuerdos con la industria, tales como el recurso a grupos de estudio sobre productos como los constituidos en el marco de las Políticas Integradas de Productos, o acuerdos con los minoristas sobre la disponibilidad de información acerca de la prevención de residuos y de productos con menor impacto medioambiental.\n\n15. Incorporación de criterios medioambientales y de prevención de la generación de residuos en las compras del sector público y de las empresas. En relación con las compras del sector público, los mencionados criterios podrán integrarse en los pliegos o documentación contractual de carácter complementario, como criterios de selección o, en su caso, de adjudicación, de acuerdo con el Manual sobre la contratación pública con criterios medioambientales publicado por la Comisión el 29 de octubre de 2004, y de conformidad con la Ley 30/2007, de 30 de octubre, de Contratos del sector público.\n\n16. La promoción de la reutilización de productos o preparación para la reutilización de productos desechados, especialmente mediante medidas educativas, económicas, logísticas o de otro tipo, como el apoyo a los centros y redes autorizados de recogida y reutilización, así como la promoción de su creación, especialmente en las regiones con elevada densidad de población o donde no existieran tales centros y redes. Se prestará especial atención a la promoción de las entidades de la economía social para la gestión de los centros.\n\n17. Acuerdos con el sector de la hostelería y la restauración, tales como el fomento de la utilización de envases reutilizables, la integración de criterios ambientales y de prevención de residuos en la contratación de materiales y servicios.\n\n18. Medidas para la disminución del consumo de productos envasados.\n\n19. En relación con la generación de residuos de alimentos la inclusión de medidas encaminadas a evitar el desperdicio de alimentos y fomentar el consumo responsable, tales como acuerdos con los comercios para minimizar los alimentos caducados, establecer pautas para consumidores, restauración y actividades con comedor para aprovechar los alimentos sobrantes, crear vías de aprovechamiento de excedentes en buen estado a través de iniciativas sociales –comedores populares, bancos de alimentos, etc.\n\n20. Promoción del uso responsable del papel, de la desmaterialización de la información y de la reutilización de libros de texto y lectura.\n\n21. Fomento del consumo de servicios o bienes inmateriales a través de campañas educativas y/o acuerdos con entidades sociales y administraciones municipales.\n\n22. Fomento de la venta y el consumo de alimentos frescos a granel para reducir la generación de residuos de envases.\n\n23. Fomento de la utilización de envases y embalajes fabricados con materias primar renovables, reciclables y biodegradables, como el papel, el cartón ondulado, el cartón compacto o la madera, procedentes de residuos.\n\n24. Instrumentos económicos, como incentivos a las compras verdes o la implantación de un pago obligatorio a cargo de los consumidores por un artículo o elemento determinado de envasado que normalmente se hubiera suministrado gratis.\n\nANEXO V\nContenido de los planes autonómicos de gestión de residuos\n1. Contenido mínimo de los planes:\n\na) El tipo, cantidad y fuente de los residuos generados dentro del territorio, los que se prevea que van a transportar desde y hacia otros Estados miembros, y cuando sea posible desde y hacia otras Comunidades Autónomas y una evaluación de la evolución futura de los flujos de residuos.\n\nb) Sistemas existentes de recogida de residuos y principales instalaciones de eliminación y valorización, incluida cualquier medida especial para aceites usados, residuos peligrosos o flujos de residuos objeto de legislación específica.\n\nc) Una evaluación de la necesidad de nuevos sistemas de recogida, el cierre de las instalaciones existentes de residuos, instalaciones adicionales de tratamiento de residuos y de las inversiones correspondientes.\n\nd) Información sobre los criterios de ubicación para la identificación del emplazamiento y sobre la capacidad de las futuras instalaciones de eliminación o las principales instalaciones de valorización.\n\ne) Políticas de gestión de residuos, incluidas las tecnologías y los métodos de gestión de residuos previstos, y la identificación de los residuos que plantean problemas de gestión específicos.\n\n2. Otros elementos:\n\na) Los aspectos organizativos relacionados con la gestión de residuos, incluida una descripción del reparto de responsabilidades entre los operadores públicos y privados que se ocupan de la gestión de residuos.\n\nb) Campañas de sensibilización e información dirigidas al público en general o a un grupo concreto de consumidores.\n\nc) Los lugares históricamente contaminados por eliminación de residuos y las medidas para su rehabilitación.\n\nANEXO VI\nContenido de la solicitud de autorización de las actividades de tratamiento de residuos\n1. Contenido de la solicitud de autorización de las instalaciones de tratamiento de residuos:\n\na) Identificación de la persona física o jurídica propietaria de la instalación.\n\nb) Ubicación de las instalaciones donde se llevarán a cabo las operaciones de tratamiento de residuos, identificadas mediante coordenadas geográficas.\n\nc) Presentación del proyecto de la instalación con una descripción detallada de las instalaciones, de sus características técnicas y de cualquier otro tipo aplicables a la instalación o al lugar donde se van llevar a cabo las operaciones de tratamiento.\n\nd) Tipos y cantidades de residuos que puedan tratarse identificados mediante los códigos LER y si es necesario para cada tipo de operación.\n\ne) Las instalaciones no incluidas en el ámbito de aplicación de la Ley 16/2002, de 1 de julio, de prevención y control integrados de la contaminación, deberán presentar, junto con la solicitud de autorización, el estudio de impacto ambiental cuando así lo exija la normativa estatal o autonómica sobre declaración de impacto ambiental.\n\n2. Contenido de la solicitud de autorización de las personas físicas o jurídicas que realizan operaciones de tratamiento de residuos:\n\na) Identificación de la persona física o jurídica que solicita llevar a cabo la actividad de tratamiento de residuos.\n\nb) Descripción detallada de las actividades de tratamiento de residuos que pretende realizar con inclusión de los tipos de operaciones previstas a realizar, incluyendo la codificación establecida en los anexos I y II de esta Ley.\n\nc) Métodos que se utilizarán para cada tipo de operación de tratamiento, las medidas de seguridad y precaución y las operaciones de supervisión y control previstas.\n\nd) Capacidad técnica para realizar las operaciones de tratamiento previstas en la instalación.\n\ne) Documentación acreditativa del seguro o fianza exigible.\n\nANEXO VII\nContenido de la autorización de tratamiento de residuos\n1. Contenido de la autorización de las instalaciones donde se realicen operaciones de tratamiento de residuos:\n\na) Identificación de la persona física o jurídica propietaria de la instalación y número de identificación, cuando proceda.\n\nb) Ubicación de las instalaciones donde se llevarán a cabo las operaciones de tratamiento de residuos, identificadas mediante coordenadas geográficas.\n\nc) Tipos y cantidades de residuos cuyo tratamiento se autoriza identificados mediante los códigos LER.\n\nd) Operaciones de tratamiento autorizadas identificadas según los códigos recogidos en los anexos I y II.\n\ne) Capacidad máxima de tratamiento de residuos de cada operación que se lleva a cabo en la instalación.\n\nf) Disposiciones que puedan ser necesarias relativas al cierre y al mantenimiento posterior de las instalaciones.\n\ng) Fecha de la autorización y plazo de vigencia.\n\nh) Otros requisitos relativos a la instalación de tratamiento de residuos, entre ellos, las garantías financieras que sean exigibles de acuerdo con la normativa de residuos.\n\n2. Contenido de la autorización de las personas físicas o jurídicas para la realización de operaciones de tratamiento de residuos:\n\na) Identificación de la persona física o jurídica autorizada para llevar a cabo la actividad de tratamiento de residuos, incluido domicilio y CIF o NIF según proceda.\n\nb) Tipos y cantidades de residuos cuya operación de tratamiento se autoriza identificados mediante los códigos LER.\n\nc) Operaciones de tratamiento autorizadas identificadas según los códigos recogidos en los anexos I y II.\n\nd) Fecha de la autorización y plazo de vigencia.\n\ne) Número de identificación, cuando proceda.\n\nf) Otros requisitos exigidos entre ellos, las garantías financieras que sean exigibles de acuerdo con la normativa de residuos.\n\nANEXO VIII\nContenido de la comunicación de los productores y gestores de residuos\n1. Contenido de las comunicaciones de las industrias o actividades productoras de residuos:\n\na) Datos de identificación de la empresa y de su representante legal; incluido el NIF de la empresa.\n\nb) Datos de identificación del centro productor, incluido el código de actividades económicas (CNAE).\n\nc) Cantidad estimada de residuos que se tiene previsto producir anualmente.\n\nd) Residuos producidos en cada proceso caracterizados según el anexo III de esta Ley e identificados según el anexo 1 de la Orden/MAM/304/2002, de 8 de febrero, por la que se publican las operaciones de valorización y eliminación de residuos y la lista europea de residuos.\n\ne) Las condiciones de almacenamiento en el lugar de producción.\n\nf) Las operaciones de tratamiento previstas para los residuos, el contrato de tratamiento con el gestor de los residuos, cuando disponga del mismo, o en su defecto declaración responsable del productor en la que haga constar su compromiso de celebrar con el gestor el correspondiente contrato de tratamiento.\n\ng) Cualquier otro dato de identificación necesario para la presentación electrónica de la comunicación.\n\n2. Contenido de las comunicaciones de las empresas que transportan residuos con carácter profesional:\n\na) Datos de identificación de la empresa y de su representante legal, incluido CIF y CNAE.\n\nb) Contenido de la autorización de que disponga en virtud de la legislación vigente en materia de transporte de mercancías.\n\nc) Residuos a transportar e identificados según el anexo 1 de la Orden MAM/304/2002, de 8 de febrero, por la que se publican las operaciones de valorización y eliminación de residuos y la lista europea de residuos.\n\nd) Cualquier otro dato de identificación necesario para la presentación electrónica de la comunicación.\n\n3. Contenido de las comunicaciones de las empresas que recogen residuos con carácter profesional:\n\na) Datos de identificación de la empresa y de su representante legal, incluido CIF y CNAE.\n\nb) Residuos que se recogen identificados según el anexo 1 de la Orden/MAM/304/2002, de 8 de febrero.\n\n4. Contenido de las comunicaciones que deben presentar los negociantes y agentes:\n\na) Datos de identificación de la empresa y de su representante legal, domicilio e incluido NIF o CIF según proceda.\n\nb) Descripción de las actividades que van a realizar.\n\nc) Residuos identificados según el anexo 1 de la Orden/MAM/304/2002, de 8 de febrero.\n\n5. En la presentación de la comunicación se acompañará la documentación acreditativa de la suscripción de las garantías financieras exigibles conforme a las normas aplicables.\n\nANEXO IX\nContenido mínimo de la comunicación de los sistemas individuales de responsabilidad ampliada\n1. Datos de identificación del productor: domicilio y NIF. Indicación de si éste es fabricante, importador o adquirente intracomunitario.\n\n2. Identificación (tipo y peso) que produce puestos en el mercado anualmente y una estimación en peso de los residuos que prevén generar identificados según código LER.\n\n3. Descripción de la organización del sistema de reutilización de productos, si procede, incluyendo los puntos de recogida.\n\n4. Descripción del sistema de organización de la gestión de residuos, incluyendo los puntos de recogida (porcentajes previstos de preparación para la reutilización, reciclado u otras formas de valorización y eliminación).\n\n5. Identificación de los gestores, con indicación de las operaciones de gestión que lleven a cabo.\n\n6. Copia de la garantía financiera suscrita, si procede.\n\n7. Copia de los contratos suscritos y de los acuerdos celebrados para la gestión de los residuos.\n\n8. Forma de financiación de las actividades.\n\n9. Ámbito territorial de actuación.\n\n10. Procedimiento de recogida de datos y de suministro de información a las administraciones públicas.\n\nANEXO X\nContenido mínimo de la solicitud de autorización de los sistemas colectivos de responsabilidad ampliada\n1. Identificación forma jurídica, domicilio del sistema, descripción de su funcionamiento, descripción de los productos y residuos sobre los que actúa así como de la zona geográfica de actuación, identificación de los miembros, criterios para la incorporación de nuevos miembros y descripción de las condiciones de su incorporación.\n\n2. Descripción de las medidas para el cumplimiento de las obligaciones derivadas de la responsabilidad ampliada del productor del producto, conforme a lo establecido en las regulaciones específicas.\n\n3. Identificación, en su caso, de la entidad administradora así como las relaciones jurídicas y vínculos que se establezcan entre esta entidad y el sistema colectivo de responsabilidad ampliada y quienes lo integren.\n\n4. Relaciones jurídicas y vínculos o acuerdos que se establezcan con las administraciones públicas en su caso, entidades o empresas con quienes acuerden o contraten para la gestión de los residuos en cumplimiento de las obligaciones que se les atribuyan o con otros agentes económicos.\n\n5. Descripción de la financiación del sistema: estimación de ingresos y gastos. Cuando la gestión de los residuos suponga un coste adicional para los productores, y en su caso para los distribuidores, indicación de los métodos de cálculo y de evaluación del importe de la cuota que cubra el coste total del cumplimiento de las obligaciones que asume el sistema, garantizando que la misma servirá para financiar la gestión prevista, asimismo se indicará, en su caso, el coste que se repercute en el producto. Esta cuota cuando proceda se presentará desagregada por materiales, tipos o categorías. Asimismo se especificará el modo de su recaudación. Las condiciones y modalidades de revisión de las cuotas en función de la evolución del cumplimiento de las obligaciones asumidas.\n\n6. En su caso, propuesta de los criterios de financiación a los sistemas públicos.\n\n7. Procedimiento de recogida de datos de los operadores que realicen actividades relacionadas con el ejercicio de las funciones del sistema colectivo de responsabilidad ampliada y de suministro de información a las administraciones públicas.\n\n8. Previsión de cantidades de residuos (kg y unidades) que se prevé recoger.\n\n9. Porcentajes previstos de preparación para la reutilización, reciclado y valorización con sus correspondientes plazos y mecanismos de seguimiento, control de funcionamiento y verificación del grado de cumplimiento.\n\nANEXO XI\nObligaciones de información en materia de suelos contaminados\n1. Contenido de la declaración de suelo contaminado:\n\na) Datos generales. Identificación del suelo contaminado: Denominación del emplazamiento, dirección, municipio, referencia catastral, datos registrales y uso del emplazamiento.\n\nb) Datos específicos del suelo contaminado: Causantes de la contaminación, poseedores del suelo contaminado, propietarios del suelo contaminado, superficie afectada, actividades contaminantes que se desarrollen o se hayan desarrollado sobre el terreno, contaminantes presentes y fecha de la declaración de suelo contaminado.\n\nc) Datos específicos de recuperación ambiental: Obligados principal y subsidiarios a realizar las operaciones de limpieza y recuperación, actuaciones necesarias para proceder a su limpieza, recuperación o contención, plazos en que la descontaminación, limpieza o recuperación se debe de llevar a cabo, coste del tratamiento, coste y duración de la fase de vigilancia y control, y cualquier otra mención de interés que se establezca.\n\nd) Baja en el inventario de suelos contaminados: Fecha de baja como suelo contaminado.\n\n2. Obligaciones de información en materia de contaminación de suelos.\n\na) Información sobre la cantidad y evolución de los Informes de situación, en aplicación de lo que reglamentariamente determine el Gobierno.\n\nb) Procedimientos relacionados con suelos contaminados: procedimientos resueltos, actuaciones de recuperación ejecutadas, actuaciones de recuperación en ejecución o próximas a iniciarse y procedimientos en tramitación.\n\nc) Actuaciones e inversiones realizadas en materia de prevención de la contaminación del suelo: plan regional de actuación, medidas de prevención, medidas de información al público, actuaciones complementarias dictadas en resoluciones, estudios y guías metodológicas e inversiones y mecanismos de financiación.\n"
     ]
    }
   ],
   "source": [
    "texto = file.read()\n",
    "#texto.replace('\\n','')\n",
    "print(texto)"
   ]
  },
  {
   "cell_type": "code",
   "execution_count": 266,
   "metadata": {},
   "outputs": [],
   "source": [
    "# Ley 22/2011\n",
    "pattern = 'Ley [0-9]+\\/[0-9]+'\n",
    "result = re.findall(pattern, texto, flags=re.IGNORECASE)"
   ]
  },
  {
   "cell_type": "code",
   "execution_count": 267,
   "metadata": {},
   "outputs": [
    {
     "output_type": "execute_result",
     "data": {
      "text/plain": [
       "['Ley 17/2009',\n",
       " 'Ley 26/2007',\n",
       " 'Ley 34/2007',\n",
       " 'Ley 40/2010',\n",
       " 'Ley 30/1992',\n",
       " 'Ley 30/2007',\n",
       " 'Ley 11/1997',\n",
       " 'Ley 9/2006',\n",
       " 'Ley 27/2006',\n",
       " 'Ley 16/2002',\n",
       " 'Ley 11/2007',\n",
       " 'Ley 22/2011',\n",
       " 'Ley 10/1998']"
      ]
     },
     "metadata": {},
     "execution_count": 267
    }
   ],
   "source": [
    "## Elimina duplicados\n",
    "list(set(result))"
   ]
  },
  {
   "cell_type": "code",
   "execution_count": 268,
   "metadata": {},
   "outputs": [],
   "source": [
    "# Real Decreto 975/2009\n",
    "pattern = 'Real Decreto [0-9]+\\/[0-9]+'\n",
    "result = re.findall(pattern, texto, flags=re.IGNORECASE)"
   ]
  },
  {
   "cell_type": "code",
   "execution_count": 269,
   "metadata": {},
   "outputs": [
    {
     "output_type": "execute_result",
     "data": {
      "text/plain": [
       "['Real Decreto 975/2009', 'Real Decreto 1419/2005', 'Real Decreto 2090/2008']"
      ]
     },
     "metadata": {},
     "execution_count": 269
    }
   ],
   "source": [
    "## Elimina duplicados\n",
    "list(set(result))"
   ]
  },
  {
   "cell_type": "code",
   "execution_count": 270,
   "metadata": {},
   "outputs": [],
   "source": [
    "# Directiva 2008/98/CE\n",
    "pattern = 'Directiva [0-9]+\\/[0-9]+\\/CE'\n",
    "result = re.findall(pattern, texto, flags=re.IGNORECASE)"
   ]
  },
  {
   "cell_type": "code",
   "execution_count": 271,
   "metadata": {},
   "outputs": [
    {
     "output_type": "execute_result",
     "data": {
      "text/plain": [
       "['Directiva 2008/98/CE',\n",
       " 'Directiva 2006/121/CE',\n",
       " 'Directiva 1999/45/CE',\n",
       " 'Directiva 67/548/CE']"
      ]
     },
     "metadata": {},
     "execution_count": 271
    }
   ],
   "source": [
    "## Elimina duplicados\n",
    "list(set(result))"
   ]
  },
  {
   "cell_type": "code",
   "execution_count": 272,
   "metadata": {},
   "outputs": [],
   "source": [
    "# Reglamento (CE) n.º 1013/2006\n",
    "pattern = 'Reglamento \\(CE\\) n\\.º [0-9]+\\/[0-9]+'\n",
    "result = re.findall(pattern, texto, flags=re.IGNORECASE)"
   ]
  },
  {
   "cell_type": "code",
   "execution_count": 273,
   "metadata": {},
   "outputs": [
    {
     "output_type": "execute_result",
     "data": {
      "text/plain": [
       "['Reglamento (CE) n.º 1418/2007',\n",
       " 'Reglamento (CE) n.º 1907/2006',\n",
       " 'Reglamento (CE) n.º 1069/2009',\n",
       " 'Reglamento (CE) n.º 1272/2008',\n",
       " 'Reglamento (CE) n.º 1013/2006',\n",
       " 'Reglamento (CE) n.º 1774/2002',\n",
       " 'Reglamento (CE) n.º 440/2008',\n",
       " 'Reglamento (CE) N.º 1013/2006']"
      ]
     },
     "metadata": {},
     "execution_count": 273
    }
   ],
   "source": [
    "## Elimina duplicados\n",
    "list(set(result))"
   ]
  },
  {
   "cell_type": "code",
   "execution_count": 274,
   "metadata": {},
   "outputs": [],
   "source": [
    "# Decisión 2000/532/CE\n",
    "pattern = 'Decisión [0-9]+\\/[0-9]+\\/CE'\n",
    "result = re.findall(pattern, texto, flags=re.IGNORECASE)"
   ]
  },
  {
   "cell_type": "code",
   "execution_count": 275,
   "metadata": {},
   "outputs": [
    {
     "output_type": "execute_result",
     "data": {
      "text/plain": [
       "['Decisión 2000/532/CE']"
      ]
     },
     "metadata": {},
     "execution_count": 275
    }
   ],
   "source": [
    "## Elimina duplicados\n",
    "list(set(result))"
   ]
  },
  {
   "cell_type": "code",
   "execution_count": 276,
   "metadata": {},
   "outputs": [],
   "source": [
    "# Todas las posibilidades a la\n",
    "pattern = 'Ley [0-9]+\\/[0-9]+|Real Decreto [0-9]+\\/[0-9]+|Directiva [0-9]+\\/[0-9]+\\/CE|Reglamento \\(CE\\) n\\.º [0-9]+\\/[0-9]+|Decisión [0-9]+\\/[0-9]+\\/CE'\n",
    "result = re.findall(pattern, texto, flags=re.IGNORECASE)"
   ]
  },
  {
   "cell_type": "code",
   "execution_count": 277,
   "metadata": {},
   "outputs": [],
   "source": [
    "## Elimina duplicados y ordena lista\n",
    "result = list(set(result))\n",
    "result.sort()"
   ]
  },
  {
   "cell_type": "code",
   "execution_count": 278,
   "metadata": {},
   "outputs": [
    {
     "output_type": "execute_result",
     "data": {
      "text/plain": [
       "['Decisión 2000/532/CE',\n",
       " 'Directiva 1999/45/CE',\n",
       " 'Directiva 2006/121/CE',\n",
       " 'Directiva 2008/98/CE',\n",
       " 'Directiva 67/548/CE',\n",
       " 'Ley 10/1998',\n",
       " 'Ley 11/1997',\n",
       " 'Ley 11/2007',\n",
       " 'Ley 16/2002',\n",
       " 'Ley 17/2009',\n",
       " 'Ley 22/2011',\n",
       " 'Ley 26/2007',\n",
       " 'Ley 27/2006',\n",
       " 'Ley 30/1992',\n",
       " 'Ley 30/2007',\n",
       " 'Ley 34/2007',\n",
       " 'Ley 40/2010',\n",
       " 'Ley 9/2006',\n",
       " 'Real Decreto 1419/2005',\n",
       " 'Real Decreto 2090/2008',\n",
       " 'Real Decreto 975/2009',\n",
       " 'Reglamento (CE) N.º 1013/2006',\n",
       " 'Reglamento (CE) n.º 1013/2006',\n",
       " 'Reglamento (CE) n.º 1069/2009',\n",
       " 'Reglamento (CE) n.º 1272/2008',\n",
       " 'Reglamento (CE) n.º 1418/2007',\n",
       " 'Reglamento (CE) n.º 1774/2002',\n",
       " 'Reglamento (CE) n.º 1907/2006',\n",
       " 'Reglamento (CE) n.º 440/2008']"
      ]
     },
     "metadata": {},
     "execution_count": 278
    }
   ],
   "source": [
    "result"
   ]
  },
  {
   "cell_type": "code",
   "execution_count": 279,
   "metadata": {},
   "outputs": [],
   "source": [
    "#pattern = '(\\w+)\\s+(\\w+)\\s+[0-9]+\\/[0-9]+'\n",
    "#re.findall(pattern, texto, flags=re.IGNORECASE)"
   ]
  },
  {
   "cell_type": "code",
   "execution_count": 280,
   "metadata": {},
   "outputs": [],
   "source": [
    "# Recoge items de la BBDD y los incluye en un set inmutable (frozenset)\n",
    "items_set = frozenset(items_BBDD)"
   ]
  },
  {
   "cell_type": "code",
   "execution_count": 281,
   "metadata": {},
   "outputs": [],
   "source": [
    "## Busca coincidencias entre los items recogidos en BOE actual y la BBDD de items"
   ]
  },
  {
   "cell_type": "code",
   "execution_count": 282,
   "metadata": {},
   "outputs": [
    {
     "output_type": "execute_result",
     "data": {
      "text/plain": [
       "frozenset({'Decisión 2000/532/CE',\n",
       "           'Directiva 1999/45/CE',\n",
       "           'Directiva 2006/121/CE',\n",
       "           'Directiva 2008/98/CE',\n",
       "           'Directiva 67/548/CE',\n",
       "           'Ley 10/1998',\n",
       "           'Ley 11/1997',\n",
       "           'Ley 11/2007',\n",
       "           'Ley 16/2002',\n",
       "           'Ley 17/2009',\n",
       "           'Ley 22/2011',\n",
       "           'Ley 26/2007',\n",
       "           'Ley 27/2006',\n",
       "           'Ley 30/1992',\n",
       "           'Ley 30/2007',\n",
       "           'Ley 34/2007',\n",
       "           'Ley 40/2010',\n",
       "           'Ley 9/2006',\n",
       "           'Real Decreto 1419/2005',\n",
       "           'Real Decreto 2090/2008',\n",
       "           'Real Decreto 975/2009',\n",
       "           'Reglamento (CE) N.º 1013/2006',\n",
       "           'Reglamento (CE) n.º 1013/2006',\n",
       "           'Reglamento (CE) n.º 1069/2009',\n",
       "           'Reglamento (CE) n.º 1272/2008',\n",
       "           'Reglamento (CE) n.º 1418/2007',\n",
       "           'Reglamento (CE) n.º 1774/2002',\n",
       "           'Reglamento (CE) n.º 1907/2006',\n",
       "           'Reglamento (CE) n.º 440/2008'})"
      ]
     },
     "metadata": {},
     "execution_count": 282
    }
   ],
   "source": [
    "items_set.intersection(result)"
   ]
  },
  {
   "cell_type": "code",
   "execution_count": 283,
   "metadata": {},
   "outputs": [
    {
     "output_type": "execute_result",
     "data": {
      "text/plain": [
       "{'Decisión 2000/532/CE',\n",
       " 'Directiva 1999/45/CE',\n",
       " 'Directiva 2006/121/CE',\n",
       " 'Directiva 2008/98/CE',\n",
       " 'Directiva 67/548/CE',\n",
       " 'Ley 10/1998',\n",
       " 'Ley 11/1997',\n",
       " 'Ley 11/2007',\n",
       " 'Ley 16/2002',\n",
       " 'Ley 17/2009',\n",
       " 'Ley 22/2011',\n",
       " 'Ley 26/2007',\n",
       " 'Ley 27/2006',\n",
       " 'Ley 30/1992',\n",
       " 'Ley 30/2007',\n",
       " 'Ley 34/2007',\n",
       " 'Ley 40/2010',\n",
       " 'Ley 9/2006',\n",
       " 'Real Decreto 1419/2005',\n",
       " 'Real Decreto 2090/2008',\n",
       " 'Real Decreto 975/2009',\n",
       " 'Reglamento (CE) N.º 1013/2006',\n",
       " 'Reglamento (CE) n.º 1013/2006',\n",
       " 'Reglamento (CE) n.º 1069/2009',\n",
       " 'Reglamento (CE) n.º 1272/2008',\n",
       " 'Reglamento (CE) n.º 1418/2007',\n",
       " 'Reglamento (CE) n.º 1774/2002',\n",
       " 'Reglamento (CE) n.º 1907/2006',\n",
       " 'Reglamento (CE) n.º 440/2008'}"
      ]
     },
     "metadata": {},
     "execution_count": 283
    }
   ],
   "source": [
    "set(items_BBDD).intersection(result)"
   ]
  }
 ]
}