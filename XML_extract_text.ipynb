{
 "metadata": {
  "language_info": {
   "codemirror_mode": {
    "name": "ipython",
    "version": 3
   },
   "file_extension": ".py",
   "mimetype": "text/x-python",
   "name": "python",
   "nbconvert_exporter": "python",
   "pygments_lexer": "ipython3",
   "version": "3.8.5-final"
  },
  "orig_nbformat": 2,
  "kernelspec": {
   "name": "python3",
   "display_name": "Python 3",
   "language": "python"
  }
 },
 "nbformat": 4,
 "nbformat_minor": 2,
 "cells": [
  {
   "cell_type": "code",
   "execution_count": 2,
   "metadata": {},
   "outputs": [],
   "source": [
    "from lxml import etree, html\n",
    "import pandas as pd\n",
    "from datetime import date\n",
    "import requests"
   ]
  },
  {
   "cell_type": "code",
   "execution_count": 3,
   "metadata": {},
   "outputs": [],
   "source": [
    "doc = etree.parse('BOE-A-2020-14372.xml')"
   ]
  },
  {
   "cell_type": "code",
   "execution_count": 4,
   "metadata": {},
   "outputs": [],
   "source": [
    "#etree.tostring(doc,pretty_print=True ,xml_declaration=True, encoding=\"utf-8\")"
   ]
  },
  {
   "cell_type": "code",
   "execution_count": 5,
   "metadata": {},
   "outputs": [
    {
     "output_type": "execute_result",
     "data": {
      "text/plain": [
       "'documento'"
      ]
     },
     "metadata": {},
     "execution_count": 5
    }
   ],
   "source": [
    "raiz=doc.getroot()\n",
    "raiz.tag"
   ]
  },
  {
   "cell_type": "code",
   "execution_count": 6,
   "metadata": {},
   "outputs": [
    {
     "output_type": "execute_result",
     "data": {
      "text/plain": [
       "4"
      ]
     },
     "metadata": {},
     "execution_count": 6
    }
   ],
   "source": [
    "len(raiz)"
   ]
  },
  {
   "cell_type": "code",
   "execution_count": 7,
   "metadata": {},
   "outputs": [
    {
     "output_type": "execute_result",
     "data": {
      "text/plain": [
       "'metadatos'"
      ]
     },
     "metadata": {},
     "execution_count": 7
    }
   ],
   "source": [
    "libro=raiz[0]\n",
    "libro.tag"
   ]
  },
  {
   "cell_type": "code",
   "execution_count": 8,
   "metadata": {},
   "outputs": [
    {
     "output_type": "execute_result",
     "data": {
      "text/plain": [
       "'BOE-A-2020-14372'"
      ]
     },
     "metadata": {},
     "execution_count": 8
    }
   ],
   "source": [
    "libro=raiz[0]\n",
    "libro[0].text"
   ]
  },
  {
   "cell_type": "code",
   "execution_count": 9,
   "metadata": {},
   "outputs": [
    {
     "output_type": "execute_result",
     "data": {
      "text/plain": [
       "'{http://www.w3.org/1999/02/22-rdf-syntax-ns#}RDF'"
      ]
     },
     "metadata": {},
     "execution_count": 9
    }
   ],
   "source": [
    "libro=raiz[1]\n",
    "libro[0].tag"
   ]
  },
  {
   "cell_type": "code",
   "execution_count": 10,
   "metadata": {},
   "outputs": [
    {
     "output_type": "execute_result",
     "data": {
      "text/plain": [
       "'\\n            '"
      ]
     },
     "metadata": {},
     "execution_count": 10
    }
   ],
   "source": [
    "libro=raiz[1]\n",
    "libro[0].text"
   ]
  },
  {
   "cell_type": "code",
   "execution_count": 11,
   "metadata": {},
   "outputs": [],
   "source": [
    "Identificador=raiz.find(\"metadatos/identificador\")\n",
    "Titulo=raiz.find(\"metadatos/titulo\")\n",
    "URL_pdf=raiz.find(\"metadatos/url_pdf\")"
   ]
  },
  {
   "cell_type": "code",
   "execution_count": 12,
   "metadata": {},
   "outputs": [
    {
     "output_type": "stream",
     "name": "stdout",
     "text": [
      "BOE-A-2020-14372\nDecreto-ley 35/2020, de 20 de octubre, de modificación del Decreto-ley 19/2020, de 19 de mayo, y del Decreto-ley 29/2020, de 28 de julio, en materia de adopción de medidas sociales y sanitarias para paliar los efectos de la pandemia generada por la COVID-19.\nhttps://www.boe.es/boe/dias/2020/11/18/pdfs/BOE-A-2020-14372.pdf\n"
     ]
    }
   ],
   "source": [
    "print(Identificador.text)\n",
    "print(Titulo.text)\n",
    "print(\"https://www.boe.es\" + URL_pdf.text)\n"
   ]
  },
  {
   "cell_type": "code",
   "execution_count": 13,
   "metadata": {},
   "outputs": [
    {
     "output_type": "execute_result",
     "data": {
      "text/plain": [
       "'Asistencia sanitaria'"
      ]
     },
     "metadata": {},
     "execution_count": 13
    }
   ],
   "source": [
    "materia=raiz.find(\"analisis/materias/materia\")\n",
    "materia.text"
   ]
  },
  {
   "cell_type": "code",
   "execution_count": 14,
   "metadata": {},
   "outputs": [
    {
     "output_type": "stream",
     "name": "stdout",
     "text": [
      "Asistencia sanitaria\nAsistencia social\nAyudas\nCataluña\nCentros residenciales para personas con discapacidad\nEpidemias\nEstablecimientos residenciales para la Tercera Edad\nPagos\nServicios Sociales de las Comunidades Autónomas\n"
     ]
    }
   ],
   "source": [
    "materias=raiz.findall(\"analisis/materias/materia\")\n",
    "for materia in materias:\n",
    "    print(materia.text)"
   ]
  },
  {
   "cell_type": "code",
   "execution_count": 15,
   "metadata": {},
   "outputs": [
    {
     "output_type": "execute_result",
     "data": {
      "text/plain": [
       "list"
      ]
     },
     "metadata": {},
     "execution_count": 15
    }
   ],
   "source": [
    "type(materias)"
   ]
  },
  {
   "cell_type": "code",
   "execution_count": 16,
   "metadata": {},
   "outputs": [
    {
     "output_type": "stream",
     "name": "stdout",
     "text": [
      "Asuntos sociales\nSanidad\n"
     ]
    }
   ],
   "source": [
    "alertas=raiz.findall(\"analisis/alertas/alerta\")\n",
    "for alerta in alertas:\n",
    "    print(alerta.text)"
   ]
  },
  {
   "source": [
    "# Recoge resumen diario del BOE de hoy"
   ],
   "cell_type": "markdown",
   "metadata": {}
  },
  {
   "cell_type": "code",
   "execution_count": 17,
   "metadata": {},
   "outputs": [
    {
     "output_type": "stream",
     "name": "stdout",
     "text": [
      "Fecha de Hoy = 20201222\ndia = 22\nmes = 12\naño = 2020\n"
     ]
    }
   ],
   "source": [
    "\n",
    "today = date.today()\n",
    "\n",
    "# dd/mm/YYYY\n",
    "hoy = today.strftime(\"%Y%m%d\")\n",
    "print(\"Fecha de Hoy =\", hoy)\n",
    "\n",
    "# dd\n",
    "d = today.strftime(\"%d\")\n",
    "print(\"dia =\", d)\n",
    "\n",
    "# mm\n",
    "m = today.strftime(\"%m\")\n",
    "print(\"mes =\", m)\n",
    "\n",
    "# YYYY\n",
    "Y = today.strftime(\"%Y\")\n",
    "print(\"año =\", Y)\n",
    "\n"
   ]
  },
  {
   "cell_type": "code",
   "execution_count": 18,
   "metadata": {},
   "outputs": [],
   "source": [
    "URL_XML_resumen =  \"https://www.boe.es/diario_boe/xml.php?id=BOE-S-\" + str(hoy)"
   ]
  },
  {
   "cell_type": "code",
   "execution_count": 19,
   "metadata": {},
   "outputs": [
    {
     "output_type": "execute_result",
     "data": {
      "text/plain": [
       "'https://www.boe.es/diario_boe/xml.php?id=BOE-S-20201222'"
      ]
     },
     "metadata": {},
     "execution_count": 19
    }
   ],
   "source": [
    "URL_XML_resumen"
   ]
  },
  {
   "cell_type": "code",
   "execution_count": 20,
   "metadata": {},
   "outputs": [],
   "source": [
    "#pip install requests for installation\n",
    "\n",
    "\n",
    "\n",
    "url = URL_XML_resumen\n",
    "r = requests.get(url)\n",
    "#r.content\n",
    "#r.text"
   ]
  },
  {
   "cell_type": "code",
   "execution_count": 21,
   "metadata": {},
   "outputs": [],
   "source": [
    "def save_html(html, path):\n",
    "    with open(path, 'wb') as f:\n",
    "        f.write(html)\n",
    "        \n",
    "#save_html(r.content, './BOEs/resumen.xml')\n",
    "save_html(r.content, './BOEs/Resumen-BOE-' + hoy + '.xml')"
   ]
  },
  {
   "cell_type": "code",
   "execution_count": 22,
   "metadata": {},
   "outputs": [],
   "source": [
    "#r.encoding"
   ]
  },
  {
   "cell_type": "code",
   "execution_count": 23,
   "metadata": {},
   "outputs": [],
   "source": [
    "#resumen = etree.parse('./BOEs/resumen.xml')\n",
    "resumen = etree.parse('./BOEs/Resumen-BOE-' + hoy + '.xml')"
   ]
  },
  {
   "cell_type": "code",
   "execution_count": 24,
   "metadata": {},
   "outputs": [],
   "source": [
    "raiz=resumen.getroot()\n",
    "raiz.tag\n",
    "raiz_sumario = raiz"
   ]
  },
  {
   "cell_type": "code",
   "execution_count": 25,
   "metadata": {},
   "outputs": [
    {
     "output_type": "execute_result",
     "data": {
      "text/plain": [
       "[]"
      ]
     },
     "metadata": {},
     "execution_count": 25
    }
   ],
   "source": [
    "seccion = raiz.findall(\"sumario/diario/seccion\")\n",
    "seccion"
   ]
  },
  {
   "cell_type": "code",
   "execution_count": 26,
   "metadata": {},
   "outputs": [
    {
     "output_type": "stream",
     "name": "stdout",
     "text": [
      "['I. Disposiciones generales']\n['II. Autoridades y personal. - A. Nombramientos, situaciones e incidencias']\n['II. Autoridades y personal. - B. Oposiciones y concursos']\n['III. Otras disposiciones']\n['IV. Administración de Justicia']\n['V. Anuncios. - A. Contratación del Sector Público']\n['V. Anuncios. - B. Otros anuncios oficiales']\n['V. Anuncios. - C. Anuncios particulares']\n['T.C. Sección del Tribunal Constitucional']\n"
     ]
    }
   ],
   "source": [
    "for seccion in raiz.xpath('//seccion'):\n",
    "    nombre_seccion = seccion.xpath('@nombre')\n",
    "    print(nombre_seccion)"
   ]
  },
  {
   "cell_type": "code",
   "execution_count": 27,
   "metadata": {},
   "outputs": [],
   "source": [
    "secciones = raiz.findall(\"sumario/diario/seccion\")\n",
    "for seccion in secciones:\n",
    "    print(seccion.text)"
   ]
  },
  {
   "cell_type": "code",
   "execution_count": 28,
   "metadata": {},
   "outputs": [],
   "source": [
    "tabla_resumen = pd.DataFrame()"
   ]
  },
  {
   "cell_type": "code",
   "execution_count": 29,
   "metadata": {},
   "outputs": [],
   "source": [
    "#for seccion in raiz.xpath('//seccion[contains(@nombre, \"III. Otras disposiciones\") or contains(@nombre, \"I. Disposiciones generales\")]'):\n",
    "for seccion in raiz.xpath('//seccion[contains(@nombre, \"I. Disposiciones generales\")]'):\n",
    "#for seccion in raiz.xpath('//seccion'):\n",
    "    nombre_seccion = seccion.xpath('@nombre')\n",
    "\n",
    "    for departamento in seccion:\n",
    "        nombre_departamento = departamento.xpath('@nombre') \n",
    "\n",
    "        for epigrafe in departamento:\n",
    "            nombre_epigrafe = epigrafe.xpath('@nombre')\n",
    "\n",
    "            for item in epigrafe:\n",
    "                item_id = item.xpath('@id')\n",
    "                item_name = item.xpath('.//titulo/text()') \n",
    "\n",
    "                item_urlXml = \"https://www.boe.es\" + str(item.xpath('.//urlXml/text()'))[2:-2]\n",
    "                #print(item_urlXml)\n",
    "\n",
    "                tabla_resumen = tabla_resumen.append({'Seccion': nombre_seccion, \n",
    "                                                      'Departamento': nombre_departamento, \n",
    "                                                      'Epigrafe' : nombre_epigrafe,\n",
    "                                                      'Item_id': item_id, \n",
    "                                                      'Item_Nombre' : item_name, \n",
    "                                                      'Item_URL_XML' : item_urlXml},\n",
    "                                                      ignore_index=True)\n"
   ]
  },
  {
   "cell_type": "code",
   "execution_count": 30,
   "metadata": {},
   "outputs": [
    {
     "output_type": "execute_result",
     "data": {
      "text/plain": [
       "                                        Departamento  \\\n",
       "0                          [TRIBUNAL CONSTITUCIONAL]   \n",
       "1                          [TRIBUNAL CONSTITUCIONAL]   \n",
       "2                          [TRIBUNAL CONSTITUCIONAL]   \n",
       "3  [MINISTERIO DE ASUNTOS EXTERIORES, UNIÓN EUROP...   \n",
       "4                           [MINISTERIO DE HACIENDA]   \n",
       "5  [MINISTERIO DE INCLUSIÓN, SEGURIDAD SOCIAL Y M...   \n",
       "6                   [COMUNIDAD AUTÓNOMA DE CATALUÑA]   \n",
       "\n",
       "                                            Epigrafe  \\\n",
       "0               [Cuestiones de inconstitucionalidad]   \n",
       "1               [Cuestiones de inconstitucionalidad]   \n",
       "2                      [Conflictos constitucionales]   \n",
       "3         [Acuerdos internacionales administrativos]   \n",
       "4  [Procedimientos tributarios. Gestión informati...   \n",
       "5                                     [Organización]   \n",
       "6  [Elecciones al Parlamento de Cataluña. Convoca...   \n",
       "\n",
       "                                         Item_Nombre  \\\n",
       "0  [Cuestión de inconstitucionalidad n.º 4701-202...   \n",
       "1  [Cuestión de inconstitucionalidad n.º 5246-202...   \n",
       "2  [Conflicto positivo de competencia número 6201...   \n",
       "3  [Acuerdo Multilateral M332 en virtud de la sec...   \n",
       "4  [Resolución de 15 de diciembre de 2020, del De...   \n",
       "5  [Resolución de 15 de diciembre de 2020, de la ...   \n",
       "6  [Decreto 147/2020, de 21 de diciembre, de diso...   \n",
       "\n",
       "                                        Item_URL_XML             Item_id  \\\n",
       "0  https://www.boe.es/diario_boe/xml.php?id=BOE-A...  [BOE-A-2020-16670]   \n",
       "1  https://www.boe.es/diario_boe/xml.php?id=BOE-A...  [BOE-A-2020-16671]   \n",
       "2  https://www.boe.es/diario_boe/xml.php?id=BOE-A...  [BOE-A-2020-16672]   \n",
       "3  https://www.boe.es/diario_boe/xml.php?id=BOE-A...  [BOE-A-2020-16673]   \n",
       "4  https://www.boe.es/diario_boe/xml.php?id=BOE-A...  [BOE-A-2020-16674]   \n",
       "5  https://www.boe.es/diario_boe/xml.php?id=BOE-A...  [BOE-A-2020-16675]   \n",
       "6  https://www.boe.es/diario_boe/xml.php?id=BOE-A...  [BOE-A-2020-16676]   \n",
       "\n",
       "                        Seccion  \n",
       "0  [I. Disposiciones generales]  \n",
       "1  [I. Disposiciones generales]  \n",
       "2  [I. Disposiciones generales]  \n",
       "3  [I. Disposiciones generales]  \n",
       "4  [I. Disposiciones generales]  \n",
       "5  [I. Disposiciones generales]  \n",
       "6  [I. Disposiciones generales]  "
      ],
      "text/html": "<div>\n<style scoped>\n    .dataframe tbody tr th:only-of-type {\n        vertical-align: middle;\n    }\n\n    .dataframe tbody tr th {\n        vertical-align: top;\n    }\n\n    .dataframe thead th {\n        text-align: right;\n    }\n</style>\n<table border=\"1\" class=\"dataframe\">\n  <thead>\n    <tr style=\"text-align: right;\">\n      <th></th>\n      <th>Departamento</th>\n      <th>Epigrafe</th>\n      <th>Item_Nombre</th>\n      <th>Item_URL_XML</th>\n      <th>Item_id</th>\n      <th>Seccion</th>\n    </tr>\n  </thead>\n  <tbody>\n    <tr>\n      <th>0</th>\n      <td>[TRIBUNAL CONSTITUCIONAL]</td>\n      <td>[Cuestiones de inconstitucionalidad]</td>\n      <td>[Cuestión de inconstitucionalidad n.º 4701-202...</td>\n      <td>https://www.boe.es/diario_boe/xml.php?id=BOE-A...</td>\n      <td>[BOE-A-2020-16670]</td>\n      <td>[I. Disposiciones generales]</td>\n    </tr>\n    <tr>\n      <th>1</th>\n      <td>[TRIBUNAL CONSTITUCIONAL]</td>\n      <td>[Cuestiones de inconstitucionalidad]</td>\n      <td>[Cuestión de inconstitucionalidad n.º 5246-202...</td>\n      <td>https://www.boe.es/diario_boe/xml.php?id=BOE-A...</td>\n      <td>[BOE-A-2020-16671]</td>\n      <td>[I. Disposiciones generales]</td>\n    </tr>\n    <tr>\n      <th>2</th>\n      <td>[TRIBUNAL CONSTITUCIONAL]</td>\n      <td>[Conflictos constitucionales]</td>\n      <td>[Conflicto positivo de competencia número 6201...</td>\n      <td>https://www.boe.es/diario_boe/xml.php?id=BOE-A...</td>\n      <td>[BOE-A-2020-16672]</td>\n      <td>[I. Disposiciones generales]</td>\n    </tr>\n    <tr>\n      <th>3</th>\n      <td>[MINISTERIO DE ASUNTOS EXTERIORES, UNIÓN EUROP...</td>\n      <td>[Acuerdos internacionales administrativos]</td>\n      <td>[Acuerdo Multilateral M332 en virtud de la sec...</td>\n      <td>https://www.boe.es/diario_boe/xml.php?id=BOE-A...</td>\n      <td>[BOE-A-2020-16673]</td>\n      <td>[I. Disposiciones generales]</td>\n    </tr>\n    <tr>\n      <th>4</th>\n      <td>[MINISTERIO DE HACIENDA]</td>\n      <td>[Procedimientos tributarios. Gestión informati...</td>\n      <td>[Resolución de 15 de diciembre de 2020, del De...</td>\n      <td>https://www.boe.es/diario_boe/xml.php?id=BOE-A...</td>\n      <td>[BOE-A-2020-16674]</td>\n      <td>[I. Disposiciones generales]</td>\n    </tr>\n    <tr>\n      <th>5</th>\n      <td>[MINISTERIO DE INCLUSIÓN, SEGURIDAD SOCIAL Y M...</td>\n      <td>[Organización]</td>\n      <td>[Resolución de 15 de diciembre de 2020, de la ...</td>\n      <td>https://www.boe.es/diario_boe/xml.php?id=BOE-A...</td>\n      <td>[BOE-A-2020-16675]</td>\n      <td>[I. Disposiciones generales]</td>\n    </tr>\n    <tr>\n      <th>6</th>\n      <td>[COMUNIDAD AUTÓNOMA DE CATALUÑA]</td>\n      <td>[Elecciones al Parlamento de Cataluña. Convoca...</td>\n      <td>[Decreto 147/2020, de 21 de diciembre, de diso...</td>\n      <td>https://www.boe.es/diario_boe/xml.php?id=BOE-A...</td>\n      <td>[BOE-A-2020-16676]</td>\n      <td>[I. Disposiciones generales]</td>\n    </tr>\n  </tbody>\n</table>\n</div>"
     },
     "metadata": {},
     "execution_count": 30
    }
   ],
   "source": [
    "tabla_resumen.sort_values('Item_id')"
   ]
  },
  {
   "source": [
    "# Descarga ficheros XML asociados"
   ],
   "cell_type": "markdown",
   "metadata": {}
  },
  {
   "cell_type": "code",
   "execution_count": 31,
   "metadata": {},
   "outputs": [],
   "source": [
    "for item_URL in tabla_resumen['Item_URL_XML']:\n",
    "    #print(URL)\n",
    "    r = requests.get(item_URL)\n",
    "    f = './BOEs/' + item_URL[-16:] + '.xml'\n",
    "    save_html(r.content, f)"
   ]
  },
  {
   "cell_type": "code",
   "execution_count": 32,
   "metadata": {},
   "outputs": [
    {
     "output_type": "stream",
     "name": "stdout",
     "text": [
      "['./BOEs/BOE-A-2020-15394.xml', './BOEs/BOE-A-2020-16676.xml', './BOEs/BOE-A-2020-14465.xml', './BOEs/BOE-A-2020-14459.xml', './BOEs/BOE-A-2020-15237.xml', './BOEs/BOE-A-2020-15223.xml', './BOEs/BOE-A-2020-15222.xml', './BOEs/BOE-A-2020-15236.xml', './BOEs/BOE-A-2020-14458.xml', './BOEs/BOE-A-2020-14464.xml', './BOEs/BOE-A-2020-15395.xml', './BOEs/BOE-A-2020-15397.xml', './BOEs/BOE-A-2020-16675.xml', './BOEs/BOE-A-2020-14466.xml', './BOEs/BOE-A-2020-15208.xml', './BOEs/BOE-A-2020-14880.xml', './BOEs/BOE-A-2020-15220.xml', './BOEs/BOE-A-2020-15234.xml', './BOEs/BOE-A-2020-15235.xml', './BOEs/BOE-A-2020-15221.xml', './BOEs/BOE-A-2020-15209.xml', './BOEs/BOE-A-2020-14467.xml', './BOEs/BOE-A-2020-16674.xml', './BOEs/BOE-A-2020-15396.xml', './BOEs/BOE-A-2020-15392.xml', './BOEs/BOE-A-2020-16670.xml', './BOEs/BOE-A-2020-14463.xml', './BOEs/BOE-A-2020-15225.xml', './BOEs/BOE-A-2020-15231.xml', './BOEs/BOE-A-2020-15219.xml', './BOEs/BOE-A-2020-15218.xml', './BOEs/BOE-A-2020-15230.xml', './BOEs/BOE-A-2020-15224.xml', './BOEs/BOE-A-2020-14462.xml', './BOEs/BOE-A-2020-16671.xml', './BOEs/BOE-A-2020-15393.xml', './BOEs/BOE-A-2020-15391.xml', './BOEs/BOE-A-2020-16673.xml', './BOEs/BOE-A-2020-14460.xml', './BOEs/BOE-A-2020-14879.xml', './BOEs/BOE-A-2020-15232.xml', './BOEs/BOE-A-2020-15226.xml', './BOEs/BOE-A-2020-15227.xml', './BOEs/BOE-A-2020-15233.xml', './BOEs/BOE-A-2020-14878.xml', './BOEs/BOE-A-2020-14461.xml', './BOEs/BOE-A-2020-16672.xml', './BOEs/BOE-A-2020-15390.xml', './BOEs/BOE-A-2020-14957.xml', './BOEs/BOE-A-2020-15297.xml', './BOEs/BOE-A-2020-15283.xml', './BOEs/BOE-A-2020-15268.xml', './BOEs/BOE-A-2020-15254.xml', './BOEs/BOE-A-2020-15240.xml', './BOEs/BOE-A-2020-15241.xml', './BOEs/BOE-A-2020-15255.xml', './BOEs/BOE-A-2020-15269.xml', './BOEs/BOE-A-2020-15282.xml', './BOEs/BOE-A-2020-15296.xml', './BOEs/BOE-A-2020-16562.xml', './BOEs/BOE-A-2020-14956.xml', './BOEs/BOE-A-2020-15069.xml', './BOEs/BOE-A-2020-15280.xml', './BOEs/BOE-A-2020-15294.xml', './BOEs/BOE-A-2020-15243.xml', './BOEs/BOE-A-2020-15257.xml', './BOEs/BOE-A-2020-15256.xml', './BOEs/BOE-A-2020-15242.xml', './BOEs/BOE-A-2020-15295.xml', './BOEs/BOE-A-2020-15281.xml', './BOEs/BOE-A-2020-15068.xml', './BOEs/BOE-A-2020-16561.xml', './BOEs/BOE-A-2020-15285.xml', './BOEs/BOE-A-2020-15291.xml', './BOEs/BOE-A-2020-15246.xml', './BOEs/BOE-A-2020-15252.xml', './BOEs/BOE-A-2020-15253.xml', './BOEs/BOE-A-2020-15247.xml', './BOEs/BOE-A-2020-15290.xml', './BOEs/BOE-A-2020-15284.xml', './BOEs/BOE-A-2020-16348.xml', './BOEs/BOE-A-2020-15292.xml', './BOEs/BOE-A-2020-15286.xml', './BOEs/BOE-A-2020-15251.xml', './BOEs/BOE-A-2020-15245.xml', './BOEs/BOE-A-2020-15279.xml', './BOEs/BOE-A-2020-15278.xml', './BOEs/BOE-A-2020-15244.xml', './BOEs/BOE-A-2020-15250.xml', './BOEs/BOE-A-2020-15287.xml', './BOEs/BOE-A-2020-15293.xml', './BOEs/BOE-A-2020-16349.xml', './BOEs/BOE-A-2020-14962.xml', './BOEs/BOE-A-2020-16350.xml', './BOEs/BOE-A-2020-15063.xml', './BOEs/BOE-A-2020-15249.xml', './BOEs/BOE-A-2020-15275.xml', './BOEs/BOE-A-2020-15261.xml', './BOEs/BOE-A-2020-15260.xml', './BOEs/BOE-A-2020-15274.xml', './BOEs/BOE-A-2020-15248.xml', './BOEs/BOE-A-2020-15062.xml', './BOEs/BOE-A-2020-16345.xml', './BOEs/BOE-A-2020-16351.xml', './BOEs/BOE-A-2020-14963.xml', './BOEs/BOE-A-2020-14961.xml', './BOEs/BOE-A-2020-16347.xml', './BOEs/BOE-A-2020-16353.xml', './BOEs/BOE-A-2020-15289.xml', './BOEs/BOE-A-2020-15262.xml', './BOEs/BOE-A-2020-15276.xml', './BOEs/BOE-A-2020-15277.xml', './BOEs/BOE-A-2020-15263.xml', './BOEs/BOE-A-2020-15288.xml', './BOEs/BOE-A-2020-15061.xml', './BOEs/BOE-A-2020-16352.xml', './BOEs/BOE-A-2020-16346.xml', './BOEs/BOE-A-2020-14960.xml', './BOEs/BOE-A-2020-14964.xml', './BOEs/BOE-A-2020-14958.xml', './BOEs/BOE-A-2020-15065.xml', './BOEs/BOE-A-2020-15267.xml', './BOEs/BOE-A-2020-15273.xml', './BOEs/BOE-A-2020-15272.xml', './BOEs/BOE-A-2020-15266.xml', './BOEs/BOE-A-2020-15064.xml', './BOEs/BOE-A-2020-14959.xml', './BOEs/BOE-A-2020-14965.xml', './BOEs/BOE-A-2020-15066.xml', './BOEs/BOE-A-2020-15270.xml', './BOEs/BOE-A-2020-15264.xml', './BOEs/BOE-A-2020-15258.xml', './BOEs/BOE-A-2020-15259.xml', './BOEs/BOE-A-2020-15265.xml', './BOEs/BOE-A-2020-15271.xml', './BOEs/BOE-A-2020-15067.xml', './BOEs/BOE-A-2020-15389.xml', './BOEs/BOE-A-2020-14875.xml', './BOEs/BOE-A-2020-15216.xml', './BOEs/BOE-A-2020-15203.xml', './BOEs/BOE-A-2020-15217.xml', './BOEs/BOE-A-2020-14876.xml', './BOEs/BOE-A-2020-15229.xml', './BOEs/BOE-A-2020-15215.xml', './BOEs/BOE-A-2020-15214.xml', './BOEs/BOE-A-2020-15228.xml', './BOEs/BOE-A-2020-14877.xml', './BOEs/BOE-A-2020-15402.xml', './BOEs/BOE-A-2020-15204.xml', './BOEs/BOE-A-2020-15210.xml', './BOEs/BOE-A-2020-15238.xml', './BOEs/BOE-A-2020-15239.xml', './BOEs/BOE-A-2020-15211.xml', './BOEs/BOE-A-2020-15205.xml', './BOEs/BOE-A-2020-14457.xml', './BOEs/BOE-A-2020-15403.xml', './BOEs/BOE-A-2020-15398.xml', './BOEs/BOE-A-2020-15401.xml', './BOEs/BOE-A-2020-15213.xml', './BOEs/BOE-A-2020-15207.xml', './BOEs/BOE-A-2020-15206.xml', './BOEs/BOE-A-2020-15212.xml', './BOEs/BOE-A-2020-15400.xml', './BOEs/BOE-A-2020-15399.xml']\n"
     ]
    }
   ],
   "source": [
    "\n",
    "import glob\n",
    "BOEs = glob.glob('./BOEs/BOE*.xml')\n",
    "print (BOEs)"
   ]
  },
  {
   "cell_type": "code",
   "execution_count": 33,
   "metadata": {},
   "outputs": [],
   "source": [
    "#import os\n",
    "#path = './BOEs'\n",
    "#BOEs = [f for f in os.listdir(path) if f.startswith('BOE')]\n",
    "#BOEs"
   ]
  },
  {
   "cell_type": "code",
   "execution_count": 34,
   "metadata": {},
   "outputs": [],
   "source": [
    "tabla_materias = pd.DataFrame()\n",
    "\n",
    "for BOE in BOEs:\n",
    "    #print (BOE)\n",
    "    BOE_XML = etree.parse(BOE)\n",
    "    raiz=BOE_XML.getroot()\n",
    "\n",
    "    materias = [materia.text for materia in raiz.findall('analisis/materias/materia')]\n",
    "    alertas = [alerta.text for alerta in raiz.findall('analisis/alertas/alerta')]\n",
    "    #Item_Id = '[' + BOE[7:23] + ']'\n",
    "    #Item_Id = raiz.find('metadatos/identificador')\n",
    "    Item_Id = raiz.xpath(\".//identificador/text()\")\n",
    " \n",
    "    #print(Item_Id, materias, alertas)\n",
    "    #tabla_materias.loc[['Item_id'], ['Materias']] = materias\n",
    "    tabla_materias = tabla_materias.append({'Item_id': Item_Id,\n",
    "                                            'Materias' : materias,\n",
    "                                            'Alertas' : alertas},\n",
    "                                            ignore_index=True)\n",
    "\n",
    "    #tabla_materias.Item_id.apply(list)\n",
    "    #fila_tabla = tabla_resumen.set_index('Item_id').filter(like=BOE[18:23], axis=0).reset_index()\n",
    "    #print(fila_tabla['Item_id'])\n",
    "\n",
    "    #tabla_resumen.loc[fila_tabla['Item_id']]['Materias'] = materias\n"
   ]
  },
  {
   "cell_type": "code",
   "execution_count": 35,
   "metadata": {},
   "outputs": [
    {
     "output_type": "execute_result",
     "data": {
      "text/plain": [
       "                                               Alertas             Item_id  \\\n",
       "154  [Relaciones internacionales, Sanidad, Sistema ...  [BOE-A-2020-14457]   \n",
       "8    [Educación y enseñanza, Relaciones internacion...  [BOE-A-2020-14458]   \n",
       "3    [Educación y enseñanza, Relaciones internacion...  [BOE-A-2020-14459]   \n",
       "38    [Administración de Justicia, Sistema financiero]  [BOE-A-2020-14460]   \n",
       "45                                [Sistema financiero]  [BOE-A-2020-14461]   \n",
       "..                                                 ...                 ...   \n",
       "46   [Derecho Constitucional, Organización de la Ad...  [BOE-A-2020-16672]   \n",
       "37   [Relaciones internacionales, Transportes y trá...  [BOE-A-2020-16673]   \n",
       "22   [Consumidores y usuarios, Sistema tributario, ...  [BOE-A-2020-16674]   \n",
       "12          [Derecho Administrativo, Seguridad Social]  [BOE-A-2020-16675]   \n",
       "1    [Derecho Constitucional, Organización de la Ad...  [BOE-A-2020-16676]   \n",
       "\n",
       "                                              Materias  \n",
       "154  [Acuerdos internacionales, Créditos Presupuest...  \n",
       "8    [Acuerdos internacionales, Barcelona, Centros ...  \n",
       "3    [Acuerdos internacionales, Barcelona, Centros ...  \n",
       "38   [Ayuntamientos, Créditos Presupuestarios, Juzg...  \n",
       "45   [Administración y Contabilidad de la Hacienda ...  \n",
       "..                                                 ...  \n",
       "46   [Canarias, Conflictos de Competencia, Epidemia...  \n",
       "37   [Acuerdos internacionales, Análisis, Energía n...  \n",
       "22   [Agencia Estatal de la Administración Tributar...  \n",
       "12   [Alicante, Apremios, Gipuzkoa, Madrid, Procedi...  \n",
       "1    [Cataluña, Diputados, Elecciones autonómicas, ...  \n",
       "\n",
       "[164 rows x 3 columns]"
      ],
      "text/html": "<div>\n<style scoped>\n    .dataframe tbody tr th:only-of-type {\n        vertical-align: middle;\n    }\n\n    .dataframe tbody tr th {\n        vertical-align: top;\n    }\n\n    .dataframe thead th {\n        text-align: right;\n    }\n</style>\n<table border=\"1\" class=\"dataframe\">\n  <thead>\n    <tr style=\"text-align: right;\">\n      <th></th>\n      <th>Alertas</th>\n      <th>Item_id</th>\n      <th>Materias</th>\n    </tr>\n  </thead>\n  <tbody>\n    <tr>\n      <th>154</th>\n      <td>[Relaciones internacionales, Sanidad, Sistema ...</td>\n      <td>[BOE-A-2020-14457]</td>\n      <td>[Acuerdos internacionales, Créditos Presupuest...</td>\n    </tr>\n    <tr>\n      <th>8</th>\n      <td>[Educación y enseñanza, Relaciones internacion...</td>\n      <td>[BOE-A-2020-14458]</td>\n      <td>[Acuerdos internacionales, Barcelona, Centros ...</td>\n    </tr>\n    <tr>\n      <th>3</th>\n      <td>[Educación y enseñanza, Relaciones internacion...</td>\n      <td>[BOE-A-2020-14459]</td>\n      <td>[Acuerdos internacionales, Barcelona, Centros ...</td>\n    </tr>\n    <tr>\n      <th>38</th>\n      <td>[Administración de Justicia, Sistema financiero]</td>\n      <td>[BOE-A-2020-14460]</td>\n      <td>[Ayuntamientos, Créditos Presupuestarios, Juzg...</td>\n    </tr>\n    <tr>\n      <th>45</th>\n      <td>[Sistema financiero]</td>\n      <td>[BOE-A-2020-14461]</td>\n      <td>[Administración y Contabilidad de la Hacienda ...</td>\n    </tr>\n    <tr>\n      <th>...</th>\n      <td>...</td>\n      <td>...</td>\n      <td>...</td>\n    </tr>\n    <tr>\n      <th>46</th>\n      <td>[Derecho Constitucional, Organización de la Ad...</td>\n      <td>[BOE-A-2020-16672]</td>\n      <td>[Canarias, Conflictos de Competencia, Epidemia...</td>\n    </tr>\n    <tr>\n      <th>37</th>\n      <td>[Relaciones internacionales, Transportes y trá...</td>\n      <td>[BOE-A-2020-16673]</td>\n      <td>[Acuerdos internacionales, Análisis, Energía n...</td>\n    </tr>\n    <tr>\n      <th>22</th>\n      <td>[Consumidores y usuarios, Sistema tributario, ...</td>\n      <td>[BOE-A-2020-16674]</td>\n      <td>[Agencia Estatal de la Administración Tributar...</td>\n    </tr>\n    <tr>\n      <th>12</th>\n      <td>[Derecho Administrativo, Seguridad Social]</td>\n      <td>[BOE-A-2020-16675]</td>\n      <td>[Alicante, Apremios, Gipuzkoa, Madrid, Procedi...</td>\n    </tr>\n    <tr>\n      <th>1</th>\n      <td>[Derecho Constitucional, Organización de la Ad...</td>\n      <td>[BOE-A-2020-16676]</td>\n      <td>[Cataluña, Diputados, Elecciones autonómicas, ...</td>\n    </tr>\n  </tbody>\n</table>\n<p>164 rows × 3 columns</p>\n</div>"
     },
     "metadata": {},
     "execution_count": 35
    }
   ],
   "source": [
    "tabla_materias.sort_values('Item_id')"
   ]
  },
  {
   "cell_type": "code",
   "execution_count": 36,
   "metadata": {},
   "outputs": [
    {
     "output_type": "stream",
     "name": "stdout",
     "text": [
      "documento\n"
     ]
    }
   ],
   "source": [
    "print(raiz.tag)"
   ]
  },
  {
   "cell_type": "code",
   "execution_count": 37,
   "metadata": {},
   "outputs": [
    {
     "output_type": "stream",
     "name": "stdout",
     "text": [
      "[]\n"
     ]
    }
   ],
   "source": [
    "for materias in raiz.xpath('.//materias'):\n",
    "    materia = seccion.xpath('.//materia/text()')\n",
    "    print(materia)"
   ]
  },
  {
   "cell_type": "code",
   "execution_count": 38,
   "metadata": {},
   "outputs": [
    {
     "output_type": "stream",
     "name": "stdout",
     "text": [
      "Asociaciones\nFundaciones\nMedio ambiente\nMinisterio para la Transición Ecológica y el Reto Demográfico\nSubvenciones\n"
     ]
    }
   ],
   "source": [
    "materias=raiz.findall(\"analisis/materias/materia\")\n",
    "for materia in materias:\n",
    "    print(materia.text)"
   ]
  },
  {
   "cell_type": "code",
   "execution_count": 39,
   "metadata": {},
   "outputs": [
    {
     "output_type": "stream",
     "name": "stdout",
     "text": [
      "Medio ambiente\n"
     ]
    }
   ],
   "source": [
    "alertas=raiz.findall(\"analisis/alertas/alerta\")\n",
    "for alerta in alertas:\n",
    "    print(alerta.text)"
   ]
  },
  {
   "cell_type": "code",
   "execution_count": 40,
   "metadata": {},
   "outputs": [
    {
     "output_type": "stream",
     "name": "stdout",
     "text": [
      "Empty DataFrame\nColumns: [Departamento, Epigrafe, Item_Nombre, Item_URL_XML, Item_id, Seccion]\nIndex: []\n"
     ]
    }
   ],
   "source": [
    "#tabla_resumen.loc[tabla_resumen['Item_id'] == '[' + BOE[7:23] + ']']\n",
    "print(tabla_resumen.loc[tabla_resumen['Item_id'] == '[BOE-A-2020-14457]'])"
   ]
  },
  {
   "cell_type": "code",
   "execution_count": 41,
   "metadata": {},
   "outputs": [
    {
     "output_type": "execute_result",
     "data": {
      "text/plain": [
       "'BOE-A-2020-15399'"
      ]
     },
     "metadata": {},
     "execution_count": 41
    }
   ],
   "source": [
    "BOE[7:23]"
   ]
  },
  {
   "cell_type": "code",
   "execution_count": 42,
   "metadata": {},
   "outputs": [
    {
     "output_type": "execute_result",
     "data": {
      "text/plain": [
       "0    [BOE-A-2020-16670]\n",
       "1    [BOE-A-2020-16671]\n",
       "2    [BOE-A-2020-16672]\n",
       "3    [BOE-A-2020-16673]\n",
       "4    [BOE-A-2020-16674]\n",
       "5    [BOE-A-2020-16675]\n",
       "6    [BOE-A-2020-16676]\n",
       "Name: Item_id, dtype: object"
      ]
     },
     "metadata": {},
     "execution_count": 42
    }
   ],
   "source": [
    "tabla_resumen['Item_id']"
   ]
  },
  {
   "cell_type": "code",
   "execution_count": 43,
   "metadata": {},
   "outputs": [
    {
     "output_type": "execute_result",
     "data": {
      "text/plain": [
       "0      [BOE-A-2020-15394]\n",
       "1      [BOE-A-2020-16676]\n",
       "2      [BOE-A-2020-14465]\n",
       "3      [BOE-A-2020-14459]\n",
       "4      [BOE-A-2020-15237]\n",
       "              ...        \n",
       "159    [BOE-A-2020-15207]\n",
       "160    [BOE-A-2020-15206]\n",
       "161    [BOE-A-2020-15212]\n",
       "162    [BOE-A-2020-15400]\n",
       "163    [BOE-A-2020-15399]\n",
       "Name: Item_id, Length: 164, dtype: object"
      ]
     },
     "metadata": {},
     "execution_count": 43
    }
   ],
   "source": [
    "tabla_materias['Item_id']"
   ]
  },
  {
   "cell_type": "code",
   "execution_count": 44,
   "metadata": {},
   "outputs": [
    {
     "output_type": "execute_result",
     "data": {
      "text/plain": [
       "Departamento    object\n",
       "Epigrafe        object\n",
       "Item_Nombre     object\n",
       "Item_URL_XML    object\n",
       "Item_id         object\n",
       "Seccion         object\n",
       "dtype: object"
      ]
     },
     "metadata": {},
     "execution_count": 44
    }
   ],
   "source": [
    "tabla_resumen.dtypes"
   ]
  },
  {
   "cell_type": "code",
   "execution_count": 45,
   "metadata": {},
   "outputs": [
    {
     "output_type": "execute_result",
     "data": {
      "text/plain": [
       "Empty DataFrame\n",
       "Columns: [Departamento, Epigrafe, Item_Nombre, Item_URL_XML, Seccion]\n",
       "Index: []"
      ],
      "text/html": "<div>\n<style scoped>\n    .dataframe tbody tr th:only-of-type {\n        vertical-align: middle;\n    }\n\n    .dataframe tbody tr th {\n        vertical-align: top;\n    }\n\n    .dataframe thead th {\n        text-align: right;\n    }\n</style>\n<table border=\"1\" class=\"dataframe\">\n  <thead>\n    <tr style=\"text-align: right;\">\n      <th></th>\n      <th>Departamento</th>\n      <th>Epigrafe</th>\n      <th>Item_Nombre</th>\n      <th>Item_URL_XML</th>\n      <th>Seccion</th>\n    </tr>\n    <tr>\n      <th>Item_id</th>\n      <th></th>\n      <th></th>\n      <th></th>\n      <th></th>\n      <th></th>\n    </tr>\n  </thead>\n  <tbody>\n  </tbody>\n</table>\n</div>"
     },
     "metadata": {},
     "execution_count": 45
    }
   ],
   "source": [
    "tabla_resumen.set_index('Item_id').filter(like='14875', axis=0)"
   ]
  },
  {
   "cell_type": "code",
   "execution_count": 46,
   "metadata": {},
   "outputs": [],
   "source": [
    "#tabla_resumen = tabla_resumen.astype(str)\n",
    "#tabla_resumen['Joined'] = tabla_resumen.Item_id.apply(', '.join)\n",
    "#tabla_resumen['Item_id']=tabla_resumen['Item_id']"
   ]
  },
  {
   "cell_type": "code",
   "execution_count": 47,
   "metadata": {},
   "outputs": [
    {
     "output_type": "execute_result",
     "data": {
      "text/plain": [
       "Departamento    object\n",
       "Epigrafe        object\n",
       "Item_Nombre     object\n",
       "Item_URL_XML    object\n",
       "Item_id         object\n",
       "Seccion         object\n",
       "dtype: object"
      ]
     },
     "metadata": {},
     "execution_count": 47
    }
   ],
   "source": [
    "tabla_resumen.dtypes"
   ]
  },
  {
   "cell_type": "code",
   "execution_count": 48,
   "metadata": {},
   "outputs": [
    {
     "output_type": "execute_result",
     "data": {
      "text/plain": [
       "                                        Departamento  \\\n",
       "0                          [TRIBUNAL CONSTITUCIONAL]   \n",
       "1                          [TRIBUNAL CONSTITUCIONAL]   \n",
       "2                          [TRIBUNAL CONSTITUCIONAL]   \n",
       "3  [MINISTERIO DE ASUNTOS EXTERIORES, UNIÓN EUROP...   \n",
       "4                           [MINISTERIO DE HACIENDA]   \n",
       "5  [MINISTERIO DE INCLUSIÓN, SEGURIDAD SOCIAL Y M...   \n",
       "6                   [COMUNIDAD AUTÓNOMA DE CATALUÑA]   \n",
       "\n",
       "                                            Epigrafe  \\\n",
       "0               [Cuestiones de inconstitucionalidad]   \n",
       "1               [Cuestiones de inconstitucionalidad]   \n",
       "2                      [Conflictos constitucionales]   \n",
       "3         [Acuerdos internacionales administrativos]   \n",
       "4  [Procedimientos tributarios. Gestión informati...   \n",
       "5                                     [Organización]   \n",
       "6  [Elecciones al Parlamento de Cataluña. Convoca...   \n",
       "\n",
       "                                         Item_Nombre  \\\n",
       "0  [Cuestión de inconstitucionalidad n.º 4701-202...   \n",
       "1  [Cuestión de inconstitucionalidad n.º 5246-202...   \n",
       "2  [Conflicto positivo de competencia número 6201...   \n",
       "3  [Acuerdo Multilateral M332 en virtud de la sec...   \n",
       "4  [Resolución de 15 de diciembre de 2020, del De...   \n",
       "5  [Resolución de 15 de diciembre de 2020, de la ...   \n",
       "6  [Decreto 147/2020, de 21 de diciembre, de diso...   \n",
       "\n",
       "                                        Item_URL_XML             Item_id  \\\n",
       "0  https://www.boe.es/diario_boe/xml.php?id=BOE-A...  [BOE-A-2020-16670]   \n",
       "1  https://www.boe.es/diario_boe/xml.php?id=BOE-A...  [BOE-A-2020-16671]   \n",
       "2  https://www.boe.es/diario_boe/xml.php?id=BOE-A...  [BOE-A-2020-16672]   \n",
       "3  https://www.boe.es/diario_boe/xml.php?id=BOE-A...  [BOE-A-2020-16673]   \n",
       "4  https://www.boe.es/diario_boe/xml.php?id=BOE-A...  [BOE-A-2020-16674]   \n",
       "5  https://www.boe.es/diario_boe/xml.php?id=BOE-A...  [BOE-A-2020-16675]   \n",
       "6  https://www.boe.es/diario_boe/xml.php?id=BOE-A...  [BOE-A-2020-16676]   \n",
       "\n",
       "                        Seccion  \n",
       "0  [I. Disposiciones generales]  \n",
       "1  [I. Disposiciones generales]  \n",
       "2  [I. Disposiciones generales]  \n",
       "3  [I. Disposiciones generales]  \n",
       "4  [I. Disposiciones generales]  \n",
       "5  [I. Disposiciones generales]  \n",
       "6  [I. Disposiciones generales]  "
      ],
      "text/html": "<div>\n<style scoped>\n    .dataframe tbody tr th:only-of-type {\n        vertical-align: middle;\n    }\n\n    .dataframe tbody tr th {\n        vertical-align: top;\n    }\n\n    .dataframe thead th {\n        text-align: right;\n    }\n</style>\n<table border=\"1\" class=\"dataframe\">\n  <thead>\n    <tr style=\"text-align: right;\">\n      <th></th>\n      <th>Departamento</th>\n      <th>Epigrafe</th>\n      <th>Item_Nombre</th>\n      <th>Item_URL_XML</th>\n      <th>Item_id</th>\n      <th>Seccion</th>\n    </tr>\n  </thead>\n  <tbody>\n    <tr>\n      <th>0</th>\n      <td>[TRIBUNAL CONSTITUCIONAL]</td>\n      <td>[Cuestiones de inconstitucionalidad]</td>\n      <td>[Cuestión de inconstitucionalidad n.º 4701-202...</td>\n      <td>https://www.boe.es/diario_boe/xml.php?id=BOE-A...</td>\n      <td>[BOE-A-2020-16670]</td>\n      <td>[I. Disposiciones generales]</td>\n    </tr>\n    <tr>\n      <th>1</th>\n      <td>[TRIBUNAL CONSTITUCIONAL]</td>\n      <td>[Cuestiones de inconstitucionalidad]</td>\n      <td>[Cuestión de inconstitucionalidad n.º 5246-202...</td>\n      <td>https://www.boe.es/diario_boe/xml.php?id=BOE-A...</td>\n      <td>[BOE-A-2020-16671]</td>\n      <td>[I. Disposiciones generales]</td>\n    </tr>\n    <tr>\n      <th>2</th>\n      <td>[TRIBUNAL CONSTITUCIONAL]</td>\n      <td>[Conflictos constitucionales]</td>\n      <td>[Conflicto positivo de competencia número 6201...</td>\n      <td>https://www.boe.es/diario_boe/xml.php?id=BOE-A...</td>\n      <td>[BOE-A-2020-16672]</td>\n      <td>[I. Disposiciones generales]</td>\n    </tr>\n    <tr>\n      <th>3</th>\n      <td>[MINISTERIO DE ASUNTOS EXTERIORES, UNIÓN EUROP...</td>\n      <td>[Acuerdos internacionales administrativos]</td>\n      <td>[Acuerdo Multilateral M332 en virtud de la sec...</td>\n      <td>https://www.boe.es/diario_boe/xml.php?id=BOE-A...</td>\n      <td>[BOE-A-2020-16673]</td>\n      <td>[I. Disposiciones generales]</td>\n    </tr>\n    <tr>\n      <th>4</th>\n      <td>[MINISTERIO DE HACIENDA]</td>\n      <td>[Procedimientos tributarios. Gestión informati...</td>\n      <td>[Resolución de 15 de diciembre de 2020, del De...</td>\n      <td>https://www.boe.es/diario_boe/xml.php?id=BOE-A...</td>\n      <td>[BOE-A-2020-16674]</td>\n      <td>[I. Disposiciones generales]</td>\n    </tr>\n    <tr>\n      <th>5</th>\n      <td>[MINISTERIO DE INCLUSIÓN, SEGURIDAD SOCIAL Y M...</td>\n      <td>[Organización]</td>\n      <td>[Resolución de 15 de diciembre de 2020, de la ...</td>\n      <td>https://www.boe.es/diario_boe/xml.php?id=BOE-A...</td>\n      <td>[BOE-A-2020-16675]</td>\n      <td>[I. Disposiciones generales]</td>\n    </tr>\n    <tr>\n      <th>6</th>\n      <td>[COMUNIDAD AUTÓNOMA DE CATALUÑA]</td>\n      <td>[Elecciones al Parlamento de Cataluña. Convoca...</td>\n      <td>[Decreto 147/2020, de 21 de diciembre, de diso...</td>\n      <td>https://www.boe.es/diario_boe/xml.php?id=BOE-A...</td>\n      <td>[BOE-A-2020-16676]</td>\n      <td>[I. Disposiciones generales]</td>\n    </tr>\n  </tbody>\n</table>\n</div>"
     },
     "metadata": {},
     "execution_count": 48
    }
   ],
   "source": [
    "tabla_resumen.sort_values('Item_id')"
   ]
  },
  {
   "cell_type": "code",
   "execution_count": 49,
   "metadata": {},
   "outputs": [],
   "source": [
    "#for row in tabla_resumen:\n",
    "#    tabla_resumen.loc[row['Item_id']]['Materias'] = tabla_materias.loc[row['Item_id']]['Materias']"
   ]
  },
  {
   "cell_type": "code",
   "execution_count": 50,
   "metadata": {},
   "outputs": [],
   "source": [
    "tabla_resumen['Item_id'] = tabla_resumen['Item_id'].astype(str)\n",
    "tabla_materias['Item_id'] = tabla_materias['Item_id'].astype(str)\n",
    "tabla_resultados = tabla_resumen.set_index('Item_id').join(tabla_materias.set_index('Item_id'))\n"
   ]
  },
  {
   "cell_type": "code",
   "execution_count": 51,
   "metadata": {},
   "outputs": [
    {
     "output_type": "execute_result",
     "data": {
      "text/plain": [
       "                                                           Departamento  \\\n",
       "Item_id                                                                   \n",
       "['BOE-A-2020-16670']                          [TRIBUNAL CONSTITUCIONAL]   \n",
       "['BOE-A-2020-16671']                          [TRIBUNAL CONSTITUCIONAL]   \n",
       "['BOE-A-2020-16672']                          [TRIBUNAL CONSTITUCIONAL]   \n",
       "['BOE-A-2020-16673']  [MINISTERIO DE ASUNTOS EXTERIORES, UNIÓN EUROP...   \n",
       "['BOE-A-2020-16674']                           [MINISTERIO DE HACIENDA]   \n",
       "['BOE-A-2020-16675']  [MINISTERIO DE INCLUSIÓN, SEGURIDAD SOCIAL Y M...   \n",
       "['BOE-A-2020-16676']                   [COMUNIDAD AUTÓNOMA DE CATALUÑA]   \n",
       "\n",
       "                                                               Epigrafe  \\\n",
       "Item_id                                                                   \n",
       "['BOE-A-2020-16670']               [Cuestiones de inconstitucionalidad]   \n",
       "['BOE-A-2020-16671']               [Cuestiones de inconstitucionalidad]   \n",
       "['BOE-A-2020-16672']                      [Conflictos constitucionales]   \n",
       "['BOE-A-2020-16673']         [Acuerdos internacionales administrativos]   \n",
       "['BOE-A-2020-16674']  [Procedimientos tributarios. Gestión informati...   \n",
       "['BOE-A-2020-16675']                                     [Organización]   \n",
       "['BOE-A-2020-16676']  [Elecciones al Parlamento de Cataluña. Convoca...   \n",
       "\n",
       "                                                            Item_Nombre  \\\n",
       "Item_id                                                                   \n",
       "['BOE-A-2020-16670']  [Cuestión de inconstitucionalidad n.º 4701-202...   \n",
       "['BOE-A-2020-16671']  [Cuestión de inconstitucionalidad n.º 5246-202...   \n",
       "['BOE-A-2020-16672']  [Conflicto positivo de competencia número 6201...   \n",
       "['BOE-A-2020-16673']  [Acuerdo Multilateral M332 en virtud de la sec...   \n",
       "['BOE-A-2020-16674']  [Resolución de 15 de diciembre de 2020, del De...   \n",
       "['BOE-A-2020-16675']  [Resolución de 15 de diciembre de 2020, de la ...   \n",
       "['BOE-A-2020-16676']  [Decreto 147/2020, de 21 de diciembre, de diso...   \n",
       "\n",
       "                                                           Item_URL_XML  \\\n",
       "Item_id                                                                   \n",
       "['BOE-A-2020-16670']  https://www.boe.es/diario_boe/xml.php?id=BOE-A...   \n",
       "['BOE-A-2020-16671']  https://www.boe.es/diario_boe/xml.php?id=BOE-A...   \n",
       "['BOE-A-2020-16672']  https://www.boe.es/diario_boe/xml.php?id=BOE-A...   \n",
       "['BOE-A-2020-16673']  https://www.boe.es/diario_boe/xml.php?id=BOE-A...   \n",
       "['BOE-A-2020-16674']  https://www.boe.es/diario_boe/xml.php?id=BOE-A...   \n",
       "['BOE-A-2020-16675']  https://www.boe.es/diario_boe/xml.php?id=BOE-A...   \n",
       "['BOE-A-2020-16676']  https://www.boe.es/diario_boe/xml.php?id=BOE-A...   \n",
       "\n",
       "                                           Seccion  \\\n",
       "Item_id                                              \n",
       "['BOE-A-2020-16670']  [I. Disposiciones generales]   \n",
       "['BOE-A-2020-16671']  [I. Disposiciones generales]   \n",
       "['BOE-A-2020-16672']  [I. Disposiciones generales]   \n",
       "['BOE-A-2020-16673']  [I. Disposiciones generales]   \n",
       "['BOE-A-2020-16674']  [I. Disposiciones generales]   \n",
       "['BOE-A-2020-16675']  [I. Disposiciones generales]   \n",
       "['BOE-A-2020-16676']  [I. Disposiciones generales]   \n",
       "\n",
       "                                                                Alertas  \\\n",
       "Item_id                                                                   \n",
       "['BOE-A-2020-16670']            [Derecho Civil, Derecho Constitucional]   \n",
       "['BOE-A-2020-16671']  [Derecho Administrativo, Derecho Constituciona...   \n",
       "['BOE-A-2020-16672']  [Derecho Constitucional, Organización de la Ad...   \n",
       "['BOE-A-2020-16673']  [Relaciones internacionales, Transportes y trá...   \n",
       "['BOE-A-2020-16674']  [Consumidores y usuarios, Sistema tributario, ...   \n",
       "['BOE-A-2020-16675']         [Derecho Administrativo, Seguridad Social]   \n",
       "['BOE-A-2020-16676']  [Derecho Constitucional, Organización de la Ad...   \n",
       "\n",
       "                                                               Materias  \n",
       "Item_id                                                                  \n",
       "['BOE-A-2020-16670']  [Código Civil, Cuestiones de inconstitucionali...  \n",
       "['BOE-A-2020-16671']  [Cuestiones de inconstitucionalidad, Delitos e...  \n",
       "['BOE-A-2020-16672']  [Canarias, Conflictos de Competencia, Epidemia...  \n",
       "['BOE-A-2020-16673']  [Acuerdos internacionales, Análisis, Energía n...  \n",
       "['BOE-A-2020-16674']  [Agencia Estatal de la Administración Tributar...  \n",
       "['BOE-A-2020-16675']  [Alicante, Apremios, Gipuzkoa, Madrid, Procedi...  \n",
       "['BOE-A-2020-16676']  [Cataluña, Diputados, Elecciones autonómicas, ...  "
      ],
      "text/html": "<div>\n<style scoped>\n    .dataframe tbody tr th:only-of-type {\n        vertical-align: middle;\n    }\n\n    .dataframe tbody tr th {\n        vertical-align: top;\n    }\n\n    .dataframe thead th {\n        text-align: right;\n    }\n</style>\n<table border=\"1\" class=\"dataframe\">\n  <thead>\n    <tr style=\"text-align: right;\">\n      <th></th>\n      <th>Departamento</th>\n      <th>Epigrafe</th>\n      <th>Item_Nombre</th>\n      <th>Item_URL_XML</th>\n      <th>Seccion</th>\n      <th>Alertas</th>\n      <th>Materias</th>\n    </tr>\n    <tr>\n      <th>Item_id</th>\n      <th></th>\n      <th></th>\n      <th></th>\n      <th></th>\n      <th></th>\n      <th></th>\n      <th></th>\n    </tr>\n  </thead>\n  <tbody>\n    <tr>\n      <th>['BOE-A-2020-16670']</th>\n      <td>[TRIBUNAL CONSTITUCIONAL]</td>\n      <td>[Cuestiones de inconstitucionalidad]</td>\n      <td>[Cuestión de inconstitucionalidad n.º 4701-202...</td>\n      <td>https://www.boe.es/diario_boe/xml.php?id=BOE-A...</td>\n      <td>[I. Disposiciones generales]</td>\n      <td>[Derecho Civil, Derecho Constitucional]</td>\n      <td>[Código Civil, Cuestiones de inconstitucionali...</td>\n    </tr>\n    <tr>\n      <th>['BOE-A-2020-16671']</th>\n      <td>[TRIBUNAL CONSTITUCIONAL]</td>\n      <td>[Cuestiones de inconstitucionalidad]</td>\n      <td>[Cuestión de inconstitucionalidad n.º 5246-202...</td>\n      <td>https://www.boe.es/diario_boe/xml.php?id=BOE-A...</td>\n      <td>[I. Disposiciones generales]</td>\n      <td>[Derecho Administrativo, Derecho Constituciona...</td>\n      <td>[Cuestiones de inconstitucionalidad, Delitos e...</td>\n    </tr>\n    <tr>\n      <th>['BOE-A-2020-16672']</th>\n      <td>[TRIBUNAL CONSTITUCIONAL]</td>\n      <td>[Conflictos constitucionales]</td>\n      <td>[Conflicto positivo de competencia número 6201...</td>\n      <td>https://www.boe.es/diario_boe/xml.php?id=BOE-A...</td>\n      <td>[I. Disposiciones generales]</td>\n      <td>[Derecho Constitucional, Organización de la Ad...</td>\n      <td>[Canarias, Conflictos de Competencia, Epidemia...</td>\n    </tr>\n    <tr>\n      <th>['BOE-A-2020-16673']</th>\n      <td>[MINISTERIO DE ASUNTOS EXTERIORES, UNIÓN EUROP...</td>\n      <td>[Acuerdos internacionales administrativos]</td>\n      <td>[Acuerdo Multilateral M332 en virtud de la sec...</td>\n      <td>https://www.boe.es/diario_boe/xml.php?id=BOE-A...</td>\n      <td>[I. Disposiciones generales]</td>\n      <td>[Relaciones internacionales, Transportes y trá...</td>\n      <td>[Acuerdos internacionales, Análisis, Energía n...</td>\n    </tr>\n    <tr>\n      <th>['BOE-A-2020-16674']</th>\n      <td>[MINISTERIO DE HACIENDA]</td>\n      <td>[Procedimientos tributarios. Gestión informati...</td>\n      <td>[Resolución de 15 de diciembre de 2020, del De...</td>\n      <td>https://www.boe.es/diario_boe/xml.php?id=BOE-A...</td>\n      <td>[I. Disposiciones generales]</td>\n      <td>[Consumidores y usuarios, Sistema tributario, ...</td>\n      <td>[Agencia Estatal de la Administración Tributar...</td>\n    </tr>\n    <tr>\n      <th>['BOE-A-2020-16675']</th>\n      <td>[MINISTERIO DE INCLUSIÓN, SEGURIDAD SOCIAL Y M...</td>\n      <td>[Organización]</td>\n      <td>[Resolución de 15 de diciembre de 2020, de la ...</td>\n      <td>https://www.boe.es/diario_boe/xml.php?id=BOE-A...</td>\n      <td>[I. Disposiciones generales]</td>\n      <td>[Derecho Administrativo, Seguridad Social]</td>\n      <td>[Alicante, Apremios, Gipuzkoa, Madrid, Procedi...</td>\n    </tr>\n    <tr>\n      <th>['BOE-A-2020-16676']</th>\n      <td>[COMUNIDAD AUTÓNOMA DE CATALUÑA]</td>\n      <td>[Elecciones al Parlamento de Cataluña. Convoca...</td>\n      <td>[Decreto 147/2020, de 21 de diciembre, de diso...</td>\n      <td>https://www.boe.es/diario_boe/xml.php?id=BOE-A...</td>\n      <td>[I. Disposiciones generales]</td>\n      <td>[Derecho Constitucional, Organización de la Ad...</td>\n      <td>[Cataluña, Diputados, Elecciones autonómicas, ...</td>\n    </tr>\n  </tbody>\n</table>\n</div>"
     },
     "metadata": {},
     "execution_count": 51
    }
   ],
   "source": [
    "tabla_resultados"
   ]
  },
  {
   "cell_type": "code",
   "execution_count": 52,
   "metadata": {},
   "outputs": [],
   "source": [
    "#tabla_resultados.to_csv('./BOEs/Resultados.csv', index=False)\n",
    "tabla_resultados.to_csv('./BOEs/Resultados-BOE-' + hoy + '.csv', index=False)"
   ]
  },
  {
   "source": [
    "## Genera Split de ALertas y crea una fila para cada una"
   ],
   "cell_type": "markdown",
   "metadata": {}
  },
  {
   "source": [
    "### Los items sin Alerta se desechan"
   ],
   "cell_type": "markdown",
   "metadata": {}
  },
  {
   "cell_type": "code",
   "execution_count": 53,
   "metadata": {},
   "outputs": [
    {
     "output_type": "execute_result",
     "data": {
      "text/plain": [
       "                 Item_id                                        Item_Nombre  \\\n",
       "4   ['BOE-A-2020-16674']  [Resolución de 15 de diciembre de 2020, del De...   \n",
       "1   ['BOE-A-2020-16671']  [Cuestión de inconstitucionalidad n.º 5246-202...   \n",
       "5   ['BOE-A-2020-16675']  [Resolución de 15 de diciembre de 2020, de la ...   \n",
       "0   ['BOE-A-2020-16670']  [Cuestión de inconstitucionalidad n.º 4701-202...   \n",
       "7   ['BOE-A-2020-16670']  [Cuestión de inconstitucionalidad n.º 4701-202...   \n",
       "6   ['BOE-A-2020-16676']  [Decreto 147/2020, de 21 de diciembre, de diso...   \n",
       "8   ['BOE-A-2020-16671']  [Cuestión de inconstitucionalidad n.º 5246-202...   \n",
       "2   ['BOE-A-2020-16672']  [Conflicto positivo de competencia número 6201...   \n",
       "15  ['BOE-A-2020-16671']  [Cuestión de inconstitucionalidad n.º 5246-202...   \n",
       "9   ['BOE-A-2020-16672']  [Conflicto positivo de competencia número 6201...   \n",
       "13  ['BOE-A-2020-16676']  [Decreto 147/2020, de 21 de diciembre, de diso...   \n",
       "3   ['BOE-A-2020-16673']  [Acuerdo Multilateral M332 en virtud de la sec...   \n",
       "16  ['BOE-A-2020-16672']  [Conflicto positivo de competencia número 6201...   \n",
       "12  ['BOE-A-2020-16675']  [Resolución de 15 de diciembre de 2020, de la ...   \n",
       "11  ['BOE-A-2020-16674']  [Resolución de 15 de diciembre de 2020, del De...   \n",
       "18  ['BOE-A-2020-16674']  [Resolución de 15 de diciembre de 2020, del De...   \n",
       "10  ['BOE-A-2020-16673']  [Acuerdo Multilateral M332 en virtud de la sec...   \n",
       "\n",
       "                         Seccion  \\\n",
       "4   [I. Disposiciones generales]   \n",
       "1   [I. Disposiciones generales]   \n",
       "5   [I. Disposiciones generales]   \n",
       "0   [I. Disposiciones generales]   \n",
       "7   [I. Disposiciones generales]   \n",
       "6   [I. Disposiciones generales]   \n",
       "8   [I. Disposiciones generales]   \n",
       "2   [I. Disposiciones generales]   \n",
       "15  [I. Disposiciones generales]   \n",
       "9   [I. Disposiciones generales]   \n",
       "13  [I. Disposiciones generales]   \n",
       "3   [I. Disposiciones generales]   \n",
       "16  [I. Disposiciones generales]   \n",
       "12  [I. Disposiciones generales]   \n",
       "11  [I. Disposiciones generales]   \n",
       "18  [I. Disposiciones generales]   \n",
       "10  [I. Disposiciones generales]   \n",
       "\n",
       "                                         Departamento  \\\n",
       "4                            [MINISTERIO DE HACIENDA]   \n",
       "1                           [TRIBUNAL CONSTITUCIONAL]   \n",
       "5   [MINISTERIO DE INCLUSIÓN, SEGURIDAD SOCIAL Y M...   \n",
       "0                           [TRIBUNAL CONSTITUCIONAL]   \n",
       "7                           [TRIBUNAL CONSTITUCIONAL]   \n",
       "6                    [COMUNIDAD AUTÓNOMA DE CATALUÑA]   \n",
       "8                           [TRIBUNAL CONSTITUCIONAL]   \n",
       "2                           [TRIBUNAL CONSTITUCIONAL]   \n",
       "15                          [TRIBUNAL CONSTITUCIONAL]   \n",
       "9                           [TRIBUNAL CONSTITUCIONAL]   \n",
       "13                   [COMUNIDAD AUTÓNOMA DE CATALUÑA]   \n",
       "3   [MINISTERIO DE ASUNTOS EXTERIORES, UNIÓN EUROP...   \n",
       "16                          [TRIBUNAL CONSTITUCIONAL]   \n",
       "12  [MINISTERIO DE INCLUSIÓN, SEGURIDAD SOCIAL Y M...   \n",
       "11                           [MINISTERIO DE HACIENDA]   \n",
       "18                           [MINISTERIO DE HACIENDA]   \n",
       "10  [MINISTERIO DE ASUNTOS EXTERIORES, UNIÓN EUROP...   \n",
       "\n",
       "                                             Epigrafe  \\\n",
       "4   [Procedimientos tributarios. Gestión informati...   \n",
       "1                [Cuestiones de inconstitucionalidad]   \n",
       "5                                      [Organización]   \n",
       "0                [Cuestiones de inconstitucionalidad]   \n",
       "7                [Cuestiones de inconstitucionalidad]   \n",
       "6   [Elecciones al Parlamento de Cataluña. Convoca...   \n",
       "8                [Cuestiones de inconstitucionalidad]   \n",
       "2                       [Conflictos constitucionales]   \n",
       "15               [Cuestiones de inconstitucionalidad]   \n",
       "9                       [Conflictos constitucionales]   \n",
       "13  [Elecciones al Parlamento de Cataluña. Convoca...   \n",
       "3          [Acuerdos internacionales administrativos]   \n",
       "16                      [Conflictos constitucionales]   \n",
       "12                                     [Organización]   \n",
       "11  [Procedimientos tributarios. Gestión informati...   \n",
       "18  [Procedimientos tributarios. Gestión informati...   \n",
       "10         [Acuerdos internacionales administrativos]   \n",
       "\n",
       "                                         Item_URL_XML  \\\n",
       "4   https://www.boe.es/diario_boe/xml.php?id=BOE-A...   \n",
       "1   https://www.boe.es/diario_boe/xml.php?id=BOE-A...   \n",
       "5   https://www.boe.es/diario_boe/xml.php?id=BOE-A...   \n",
       "0   https://www.boe.es/diario_boe/xml.php?id=BOE-A...   \n",
       "7   https://www.boe.es/diario_boe/xml.php?id=BOE-A...   \n",
       "6   https://www.boe.es/diario_boe/xml.php?id=BOE-A...   \n",
       "8   https://www.boe.es/diario_boe/xml.php?id=BOE-A...   \n",
       "2   https://www.boe.es/diario_boe/xml.php?id=BOE-A...   \n",
       "15  https://www.boe.es/diario_boe/xml.php?id=BOE-A...   \n",
       "9   https://www.boe.es/diario_boe/xml.php?id=BOE-A...   \n",
       "13  https://www.boe.es/diario_boe/xml.php?id=BOE-A...   \n",
       "3   https://www.boe.es/diario_boe/xml.php?id=BOE-A...   \n",
       "16  https://www.boe.es/diario_boe/xml.php?id=BOE-A...   \n",
       "12  https://www.boe.es/diario_boe/xml.php?id=BOE-A...   \n",
       "11  https://www.boe.es/diario_boe/xml.php?id=BOE-A...   \n",
       "18  https://www.boe.es/diario_boe/xml.php?id=BOE-A...   \n",
       "10  https://www.boe.es/diario_boe/xml.php?id=BOE-A...   \n",
       "\n",
       "                                             Materias  \\\n",
       "4   [Agencia Estatal de la Administración Tributar...   \n",
       "1   [Cuestiones de inconstitucionalidad, Delitos e...   \n",
       "5   [Alicante, Apremios, Gipuzkoa, Madrid, Procedi...   \n",
       "0   [Código Civil, Cuestiones de inconstitucionali...   \n",
       "7   [Código Civil, Cuestiones de inconstitucionali...   \n",
       "6   [Cataluña, Diputados, Elecciones autonómicas, ...   \n",
       "8   [Cuestiones de inconstitucionalidad, Delitos e...   \n",
       "2   [Canarias, Conflictos de Competencia, Epidemia...   \n",
       "15  [Cuestiones de inconstitucionalidad, Delitos e...   \n",
       "9   [Canarias, Conflictos de Competencia, Epidemia...   \n",
       "13  [Cataluña, Diputados, Elecciones autonómicas, ...   \n",
       "3   [Acuerdos internacionales, Análisis, Energía n...   \n",
       "16  [Canarias, Conflictos de Competencia, Epidemia...   \n",
       "12  [Alicante, Apremios, Gipuzkoa, Madrid, Procedi...   \n",
       "11  [Agencia Estatal de la Administración Tributar...   \n",
       "18  [Agencia Estatal de la Administración Tributar...   \n",
       "10  [Acuerdos internacionales, Análisis, Energía n...   \n",
       "\n",
       "                               Alerta  \n",
       "4             Consumidores y usuarios  \n",
       "1              Derecho Administrativo  \n",
       "5              Derecho Administrativo  \n",
       "0                       Derecho Civil  \n",
       "7              Derecho Constitucional  \n",
       "6              Derecho Constitucional  \n",
       "8              Derecho Constitucional  \n",
       "2              Derecho Constitucional  \n",
       "15                      Derecho Penal  \n",
       "9   Organización de la Administración  \n",
       "13  Organización de la Administración  \n",
       "3          Relaciones internacionales  \n",
       "16                            Sanidad  \n",
       "12                   Seguridad Social  \n",
       "11                 Sistema tributario  \n",
       "18                 Telecomunicaciones  \n",
       "10              Transportes y tráfico  "
      ],
      "text/html": "<div>\n<style scoped>\n    .dataframe tbody tr th:only-of-type {\n        vertical-align: middle;\n    }\n\n    .dataframe tbody tr th {\n        vertical-align: top;\n    }\n\n    .dataframe thead th {\n        text-align: right;\n    }\n</style>\n<table border=\"1\" class=\"dataframe\">\n  <thead>\n    <tr style=\"text-align: right;\">\n      <th></th>\n      <th>Item_id</th>\n      <th>Item_Nombre</th>\n      <th>Seccion</th>\n      <th>Departamento</th>\n      <th>Epigrafe</th>\n      <th>Item_URL_XML</th>\n      <th>Materias</th>\n      <th>Alerta</th>\n    </tr>\n  </thead>\n  <tbody>\n    <tr>\n      <th>4</th>\n      <td>['BOE-A-2020-16674']</td>\n      <td>[Resolución de 15 de diciembre de 2020, del De...</td>\n      <td>[I. Disposiciones generales]</td>\n      <td>[MINISTERIO DE HACIENDA]</td>\n      <td>[Procedimientos tributarios. Gestión informati...</td>\n      <td>https://www.boe.es/diario_boe/xml.php?id=BOE-A...</td>\n      <td>[Agencia Estatal de la Administración Tributar...</td>\n      <td>Consumidores y usuarios</td>\n    </tr>\n    <tr>\n      <th>1</th>\n      <td>['BOE-A-2020-16671']</td>\n      <td>[Cuestión de inconstitucionalidad n.º 5246-202...</td>\n      <td>[I. Disposiciones generales]</td>\n      <td>[TRIBUNAL CONSTITUCIONAL]</td>\n      <td>[Cuestiones de inconstitucionalidad]</td>\n      <td>https://www.boe.es/diario_boe/xml.php?id=BOE-A...</td>\n      <td>[Cuestiones de inconstitucionalidad, Delitos e...</td>\n      <td>Derecho Administrativo</td>\n    </tr>\n    <tr>\n      <th>5</th>\n      <td>['BOE-A-2020-16675']</td>\n      <td>[Resolución de 15 de diciembre de 2020, de la ...</td>\n      <td>[I. Disposiciones generales]</td>\n      <td>[MINISTERIO DE INCLUSIÓN, SEGURIDAD SOCIAL Y M...</td>\n      <td>[Organización]</td>\n      <td>https://www.boe.es/diario_boe/xml.php?id=BOE-A...</td>\n      <td>[Alicante, Apremios, Gipuzkoa, Madrid, Procedi...</td>\n      <td>Derecho Administrativo</td>\n    </tr>\n    <tr>\n      <th>0</th>\n      <td>['BOE-A-2020-16670']</td>\n      <td>[Cuestión de inconstitucionalidad n.º 4701-202...</td>\n      <td>[I. Disposiciones generales]</td>\n      <td>[TRIBUNAL CONSTITUCIONAL]</td>\n      <td>[Cuestiones de inconstitucionalidad]</td>\n      <td>https://www.boe.es/diario_boe/xml.php?id=BOE-A...</td>\n      <td>[Código Civil, Cuestiones de inconstitucionali...</td>\n      <td>Derecho Civil</td>\n    </tr>\n    <tr>\n      <th>7</th>\n      <td>['BOE-A-2020-16670']</td>\n      <td>[Cuestión de inconstitucionalidad n.º 4701-202...</td>\n      <td>[I. Disposiciones generales]</td>\n      <td>[TRIBUNAL CONSTITUCIONAL]</td>\n      <td>[Cuestiones de inconstitucionalidad]</td>\n      <td>https://www.boe.es/diario_boe/xml.php?id=BOE-A...</td>\n      <td>[Código Civil, Cuestiones de inconstitucionali...</td>\n      <td>Derecho Constitucional</td>\n    </tr>\n    <tr>\n      <th>6</th>\n      <td>['BOE-A-2020-16676']</td>\n      <td>[Decreto 147/2020, de 21 de diciembre, de diso...</td>\n      <td>[I. Disposiciones generales]</td>\n      <td>[COMUNIDAD AUTÓNOMA DE CATALUÑA]</td>\n      <td>[Elecciones al Parlamento de Cataluña. Convoca...</td>\n      <td>https://www.boe.es/diario_boe/xml.php?id=BOE-A...</td>\n      <td>[Cataluña, Diputados, Elecciones autonómicas, ...</td>\n      <td>Derecho Constitucional</td>\n    </tr>\n    <tr>\n      <th>8</th>\n      <td>['BOE-A-2020-16671']</td>\n      <td>[Cuestión de inconstitucionalidad n.º 5246-202...</td>\n      <td>[I. Disposiciones generales]</td>\n      <td>[TRIBUNAL CONSTITUCIONAL]</td>\n      <td>[Cuestiones de inconstitucionalidad]</td>\n      <td>https://www.boe.es/diario_boe/xml.php?id=BOE-A...</td>\n      <td>[Cuestiones de inconstitucionalidad, Delitos e...</td>\n      <td>Derecho Constitucional</td>\n    </tr>\n    <tr>\n      <th>2</th>\n      <td>['BOE-A-2020-16672']</td>\n      <td>[Conflicto positivo de competencia número 6201...</td>\n      <td>[I. Disposiciones generales]</td>\n      <td>[TRIBUNAL CONSTITUCIONAL]</td>\n      <td>[Conflictos constitucionales]</td>\n      <td>https://www.boe.es/diario_boe/xml.php?id=BOE-A...</td>\n      <td>[Canarias, Conflictos de Competencia, Epidemia...</td>\n      <td>Derecho Constitucional</td>\n    </tr>\n    <tr>\n      <th>15</th>\n      <td>['BOE-A-2020-16671']</td>\n      <td>[Cuestión de inconstitucionalidad n.º 5246-202...</td>\n      <td>[I. Disposiciones generales]</td>\n      <td>[TRIBUNAL CONSTITUCIONAL]</td>\n      <td>[Cuestiones de inconstitucionalidad]</td>\n      <td>https://www.boe.es/diario_boe/xml.php?id=BOE-A...</td>\n      <td>[Cuestiones de inconstitucionalidad, Delitos e...</td>\n      <td>Derecho Penal</td>\n    </tr>\n    <tr>\n      <th>9</th>\n      <td>['BOE-A-2020-16672']</td>\n      <td>[Conflicto positivo de competencia número 6201...</td>\n      <td>[I. Disposiciones generales]</td>\n      <td>[TRIBUNAL CONSTITUCIONAL]</td>\n      <td>[Conflictos constitucionales]</td>\n      <td>https://www.boe.es/diario_boe/xml.php?id=BOE-A...</td>\n      <td>[Canarias, Conflictos de Competencia, Epidemia...</td>\n      <td>Organización de la Administración</td>\n    </tr>\n    <tr>\n      <th>13</th>\n      <td>['BOE-A-2020-16676']</td>\n      <td>[Decreto 147/2020, de 21 de diciembre, de diso...</td>\n      <td>[I. Disposiciones generales]</td>\n      <td>[COMUNIDAD AUTÓNOMA DE CATALUÑA]</td>\n      <td>[Elecciones al Parlamento de Cataluña. Convoca...</td>\n      <td>https://www.boe.es/diario_boe/xml.php?id=BOE-A...</td>\n      <td>[Cataluña, Diputados, Elecciones autonómicas, ...</td>\n      <td>Organización de la Administración</td>\n    </tr>\n    <tr>\n      <th>3</th>\n      <td>['BOE-A-2020-16673']</td>\n      <td>[Acuerdo Multilateral M332 en virtud de la sec...</td>\n      <td>[I. Disposiciones generales]</td>\n      <td>[MINISTERIO DE ASUNTOS EXTERIORES, UNIÓN EUROP...</td>\n      <td>[Acuerdos internacionales administrativos]</td>\n      <td>https://www.boe.es/diario_boe/xml.php?id=BOE-A...</td>\n      <td>[Acuerdos internacionales, Análisis, Energía n...</td>\n      <td>Relaciones internacionales</td>\n    </tr>\n    <tr>\n      <th>16</th>\n      <td>['BOE-A-2020-16672']</td>\n      <td>[Conflicto positivo de competencia número 6201...</td>\n      <td>[I. Disposiciones generales]</td>\n      <td>[TRIBUNAL CONSTITUCIONAL]</td>\n      <td>[Conflictos constitucionales]</td>\n      <td>https://www.boe.es/diario_boe/xml.php?id=BOE-A...</td>\n      <td>[Canarias, Conflictos de Competencia, Epidemia...</td>\n      <td>Sanidad</td>\n    </tr>\n    <tr>\n      <th>12</th>\n      <td>['BOE-A-2020-16675']</td>\n      <td>[Resolución de 15 de diciembre de 2020, de la ...</td>\n      <td>[I. Disposiciones generales]</td>\n      <td>[MINISTERIO DE INCLUSIÓN, SEGURIDAD SOCIAL Y M...</td>\n      <td>[Organización]</td>\n      <td>https://www.boe.es/diario_boe/xml.php?id=BOE-A...</td>\n      <td>[Alicante, Apremios, Gipuzkoa, Madrid, Procedi...</td>\n      <td>Seguridad Social</td>\n    </tr>\n    <tr>\n      <th>11</th>\n      <td>['BOE-A-2020-16674']</td>\n      <td>[Resolución de 15 de diciembre de 2020, del De...</td>\n      <td>[I. Disposiciones generales]</td>\n      <td>[MINISTERIO DE HACIENDA]</td>\n      <td>[Procedimientos tributarios. Gestión informati...</td>\n      <td>https://www.boe.es/diario_boe/xml.php?id=BOE-A...</td>\n      <td>[Agencia Estatal de la Administración Tributar...</td>\n      <td>Sistema tributario</td>\n    </tr>\n    <tr>\n      <th>18</th>\n      <td>['BOE-A-2020-16674']</td>\n      <td>[Resolución de 15 de diciembre de 2020, del De...</td>\n      <td>[I. Disposiciones generales]</td>\n      <td>[MINISTERIO DE HACIENDA]</td>\n      <td>[Procedimientos tributarios. Gestión informati...</td>\n      <td>https://www.boe.es/diario_boe/xml.php?id=BOE-A...</td>\n      <td>[Agencia Estatal de la Administración Tributar...</td>\n      <td>Telecomunicaciones</td>\n    </tr>\n    <tr>\n      <th>10</th>\n      <td>['BOE-A-2020-16673']</td>\n      <td>[Acuerdo Multilateral M332 en virtud de la sec...</td>\n      <td>[I. Disposiciones generales]</td>\n      <td>[MINISTERIO DE ASUNTOS EXTERIORES, UNIÓN EUROP...</td>\n      <td>[Acuerdos internacionales administrativos]</td>\n      <td>https://www.boe.es/diario_boe/xml.php?id=BOE-A...</td>\n      <td>[Acuerdos internacionales, Análisis, Energía n...</td>\n      <td>Transportes y tráfico</td>\n    </tr>\n  </tbody>\n</table>\n</div>"
     },
     "metadata": {},
     "execution_count": 53
    }
   ],
   "source": [
    "tabla_resultados.Alertas.apply(pd.Series) \\\n",
    "    .merge(tabla_resultados, left_index = True, right_index = True) \\\n",
    "    .drop([\"Alertas\"], axis = 1) \\\n",
    "    .reset_index() \\\n",
    "    .melt(id_vars = ['Item_id','Item_Nombre','Seccion','Departamento','Epigrafe','Item_URL_XML','Materias',], value_name = \"Alerta\") \\\n",
    "    .drop(\"variable\", axis = 1) \\\n",
    "    .dropna() \\\n",
    "    .sort_values('Alerta')"
   ]
  },
  {
   "cell_type": "code",
   "execution_count": 54,
   "metadata": {},
   "outputs": [
    {
     "output_type": "execute_result",
     "data": {
      "text/plain": [
       "Item_id\n",
       "['BOE-A-2020-16670']                   Cuestiones de inconstitucionalidad\n",
       "['BOE-A-2020-16671']                   Cuestiones de inconstitucionalidad\n",
       "['BOE-A-2020-16672']                          Conflictos constitucionales\n",
       "['BOE-A-2020-16673']             Acuerdos internacionales administrativos\n",
       "['BOE-A-2020-16674']    Procedimientos tributarios. Gestión informatizada\n",
       "['BOE-A-2020-16675']                                         Organización\n",
       "['BOE-A-2020-16676']    Elecciones al Parlamento de Cataluña. Convocat...\n",
       "Name: Epigrafe, dtype: object"
      ]
     },
     "metadata": {},
     "execution_count": 54
    }
   ],
   "source": [
    "tabla_resultados['Epigrafe'].str.join(',')"
   ]
  },
  {
   "cell_type": "code",
   "execution_count": 55,
   "metadata": {},
   "outputs": [],
   "source": [
    "from pprint import pprint"
   ]
  },
  {
   "source": [
    "## Convierte estructura XML en diccionario"
   ],
   "cell_type": "markdown",
   "metadata": {}
  },
  {
   "cell_type": "code",
   "execution_count": 56,
   "metadata": {},
   "outputs": [],
   "source": [
    "BOE_XML = etree.parse('./BOEs/BOE-A-2020-14457.xml')\n",
    "raiz=BOE_XML.getroot()"
   ]
  },
  {
   "cell_type": "code",
   "execution_count": 57,
   "metadata": {},
   "outputs": [
    {
     "output_type": "stream",
     "name": "stdout",
     "text": [
      "[{'departamento': 'Ministerio de Asuntos Exteriores, Unión Europea y '\n                  'Cooperación',\n  'diario': 'Boletín Oficial del Estado',\n  'diario_numero': '304',\n  'estado_consolidacion': None,\n  'estatus_derogacion': 'N',\n  'estatus_legislativo': 'L',\n  'fecha_derogacion': None,\n  'fecha_disposicion': '20201030',\n  'fecha_publicacion': '20201119',\n  'fecha_vigencia': '20201101',\n  'identificador': 'BOE-A-2020-14457',\n  'judicialmente_anulada': 'N',\n  'letra_imagen': 'A',\n  'numero_oficial': None,\n  'origen_legislativo': 'Estatal',\n  'pagina_final': '101023',\n  'pagina_inicial': '101017',\n  'rango': 'Acuerdo Internacional',\n  'seccion': '1',\n  'subseccion': None,\n  'suplemento_letra_imagen': None,\n  'suplemento_pagina_final': None,\n  'suplemento_pagina_inicial': None,\n  'titulo': 'Acuerdo Internacional Administrativo, para el periodo 2020-2021, '\n            'entre el Ministerio de Sanidad del Reino de España y la '\n            'Organización Mundial de la Salud, para llevar a cabo actividades '\n            'de cooperación en materia de donación y trasplante de órganos, '\n            'células y tejidos humanos, hecho en Madrid y Ginebra el 30 de '\n            'octubre de 2020, al amparo del Acuerdo Marco de Cooperación entre '\n            'el Reino de España y la Organización Mundial de la Salud de 12 de '\n            'septiembre de 2001.',\n  'url_epub': '/diario_boe/epub.php?id=BOE-A-2020-14457',\n  'url_pdf': '/boe/dias/2020/11/19/pdfs/BOE-A-2020-14457.pdf',\n  'url_pdf_catalan': None,\n  'url_pdf_euskera': None,\n  'url_pdf_gallego': None,\n  'url_pdf_valenciano': None,\n  'vigencia_agotada': 'N'},\n {'alertas': '\\n      ',\n  'materias': '\\n      ',\n  'notas': '\\n      ',\n  'referencias': '\\n      '},\n {'p': 'Madrid, 12 de noviembre de\\xa02020.–El Secretario General Técnico, '\n       'José María Muriel Palomino.'}]\n"
     ]
    }
   ],
   "source": [
    "d = [{x.tag: x.text for x in c} for c in raiz]\n",
    "pprint(d)"
   ]
  },
  {
   "cell_type": "code",
   "execution_count": 58,
   "metadata": {},
   "outputs": [
    {
     "output_type": "stream",
     "name": "stdout",
     "text": [
      "'texto'\n"
     ]
    }
   ],
   "source": [
    "pprint(raiz[2].tag)"
   ]
  },
  {
   "cell_type": "code",
   "execution_count": 59,
   "metadata": {},
   "outputs": [
    {
     "output_type": "stream",
     "name": "stdout",
     "text": [
      "ACUERDO INTERNACIONAL ADMINISTRATIVO, PARA EL PERÍODO 2020-2021, ENTRE EL MINISTERIO DE SANIDAD DEL REINO DE ESPAÑA Y LA ORGANIZACIÓN MUNDIAL DE LA SALUD, PARA LLEVAR A CABO ACTIVIDADES DE COOPERACIÓN EN MATERIA DE DONACIÓN Y TRASPLANTE DE ÓRGANOS, CÉLULAS Y TEJIDOS HUMANOS AL AMPARO DEL ACUERDO MARCO DE COOPERACIÓN ENTRE EL REINO DE ESPAÑA Y LA ORGANIZACIÓN MUNDIAL DE LA SALUD, DE 12 DE SEPTIEMBRE DE 2001\nSignatarios:\nSalvador Illa Roca, Ministro de Sanidad del Reino de España, en virtud del Real Decreto 8/2020, de 12 de enero, por el que se dispone su nombramiento, y en virtud de las facultades otorgadas en el artículo 48.2 de la Ley 40/2015, de 1 de octubre, de Régimen Jurídico del Sector Público.\nMariângela Simão, Subdirectora General de Acceso a Medicamentos, Vacunas y Productos Farmacéuticos de la Organización Mundial de la Salud (en adelante, la OMS), en representación de dicha Organización.\nLos signatarios suscriben el presente documento en el marco jurídico del Acuerdo Marco de Cooperación entre el Reino de España y la OMS, de 12 de septiembre de 2001 («Boletín Oficial del Estado» núm. 181, de 30 de julio de 2002), y actuarán, respectivamente, a través de la Organización Nacional de Trasplantes (en adelante, la ONT) de España y el Departamento de Políticas y Normas sobre Productos Sanitarios de la OMS.\nPREÁMBULO\nConsiderando lo siguiente:\n– La adopción de las resoluciones WHA57.18 y WHA63.22 de la Asamblea Mundial de la Salud sobre el trasplante de órganos y tejidos humanos;\n– La labor paralela desarrollada en los últimos años por la OMS y la ONT, como centro colaborador, para la creación, mantenimiento y análisis de datos sobre trasplantes, a través del Observatorio Global de Donación y Trasplante (GODT, por sus siglas en inglés), establecido en virtud de una declaración de intenciones conjunta firmada el 22 de diciembre de 2005 entre el Ministerio de Sanidad del Reino de España y la OMS.\nLos signatarios convienen en suscribir el presente Acuerdo Internacional Administrativo, que será ejecutado por los organismos técnicos competentes respectivos, a saber, la ONT del Ministerio de Sanidad del Reino de España y la Unidad de Especificaciones y Normas Técnicas del Departamento de Políticas y Normas sobre Productos Sanitarios de la OMS, con arreglo a lo dispuesto en los siguientes artículos:\nPrimero. Finalidad.\n1. Facilitar el soporte técnico continuado por parte de la ONT al mantenimiento y la mejora del GODT. En este sentido, las actividades se refieren a la recogida y gestión de datos mundiales sobre las actividades de donación y trasplante de órganos, así como sobre los regímenes legislativos y sistemas organizativos nacionales en materia de trasplante de órganos, tejidos y células. Por su parte, la OMS contribuirá al mantenimiento de una red actualizada de contactos oficiales en sus Estados miembros, quienes proporcionarán anualmente dicha información al GODT.\n2. Reforzar la capacidad de los Estados miembros para incrementar el acceso de la población a la terapia del trasplante, mejorar la calidad y la seguridad de órganos, tejidos y células para su uso clínico en humanos, y velar por el cumplimiento de los principios rectores de la OMS sobre trasplante de células, tejidos y órganos humanos.\nEn virtud del presente Acuerdo Internacional Administrativo, el Ministerio de Sanidad del Reino de España realizará una contribución financiera a la OMS, con cargo a sus presupuestos ordinarios y destinada al mantenimiento del programa de trasplante de órganos, tejidos y células. A este respecto, la OMS utilizará la contribución de España para financiar las actividades enunciadas en el Anexo I: Descripción de las actividades (que forma parte integrante del presente Acuerdo Internacional Administrativo).\nEsta contribución, por un importe de 320.000 euros, se efectuará en un único pago, realizándose el desembolso cuando cada una de las partes haya finalizado la tramitación interna del Acuerdo Internacional Administrativo y lo haya firmado.\n3. La contribución económica de España estará condicionada a la disponibilidad presupuestaria y se realizará conforme a la legislación española aplicable.\nSegundo. Responsabilidades de los signatarios.\n1. La Unidad de Especificaciones y Normas Técnicas del Departamento de Políticas y Normas sobre Productos Sanitarios de la OMS será responsable del seguimiento y ejecución de las actividades que se lleven a cabo con los fondos previstos en el presente Acuerdo Internacional Administrativo, conforme a la Descripción de Actividades acordada que figura en el Anexo I.\n2. El Ministerio de Sanidad del Reino de España deberá proporcionar a la OMS financiación y apoyo técnico, de conformidad con los términos del presente Acuerdo Internacional Administrativo.\nTercero. Financiación.\n1. Pago de la contribución:\nEl abono de la contribución económica, por un importe de 320.000 euros, se realizará con cargo a la partida presupuestaria 26.02.311M.492.01 del presupuesto de gastos del Ministerio de Sanidad.\nLa contribución se depositará en la cuenta bancaria de la OMS en Ginebra:\nOrganización Mundial de la Salud.\nA/C No 240-C0 169920.1.\nUBS AG.\nC.P. 2600.\nCH1211 Geneva 2, Suiza.\nIBAN: CH8500240240C01699201.\nSWIFT: UBSWCHZH80A.\n2. Utilización y contabilización de los fondos:\n(i) La contribución se destinará a los objetivos indicados en el apartado primero y será administrada con arreglo al Reglamento Financiero y las prácticas financieras y administrativas de la OMS.\n(ii) Conforme al presente Acuerdo, la OMS deducirá el 13% del gasto para sufragar los costes administrativos relacionados con la gestión de los fondos, de conformidad con la Resolución WHA 34.17 de la Asamblea Mundial de la Salud.\n(iii) Cualquier interés obtenido sobre el saldo efectivo de la contribución se utilizará con arreglo al Reglamento Financiero y las prácticas administrativas y financieras de la OMS.\n(iv) La OMS identificará y mantendrá separadamente en la cuenta de su Fondo Voluntario para la Promoción de la Salud los ingresos y gastos registrados con respecto a esta contribución.\n(v) Todo saldo de la contribución que quede pendiente de aplicación en el momento de la terminación del presente Acuerdo, una vez liquidadas por completo todas las obligaciones contraídas por la OMS antes de dicha terminación, deberá reasignarse al mismo programa.\nCuarto. Ejecución del acuerdo.\nLas actividades al amparo del presente Acuerdo Internacional Administrativo comenzarán el 1 de noviembre de 2020 y finalizarán el 31 de octubre de 2021.\nLa OMS no tendrá obligación de llevar a cabo las actividades previstas en el marco del Acuerdo a menos que reciba todos los fondos necesarios y suficientes para ello. Si la fecha de inicio del proyecto se aplaza por ese motivo, la fecha de finalización se ampliará en igual medida.\nSe establecerá un periodo complementario de hasta 12 meses tras la terminación o extinción del Acuerdo para liquidar todas las obligaciones derivadas de las actividades realizadas por la OMS hasta ese momento.\nQuinto. Vigencia.\nEl presente Acuerdo Internacional Administrativo permanecerá en vigor desde el 1 de noviembre de 2020 hasta el 31 de octubre de 2021.\nSexto. Informes.\n1. Técnico.\nLa OMS deberá presentar al Ministerio de Sanidad un informe técnico sobre el progreso de las actividades financiadas con cargo a la contribución, una vez haya finalizado el Acuerdo Internacional Administrativo o siempre que le sea requerido.\n2. Financiero.\nLos ingresos y gastos relativos a la contribución deberán registrarse en los informes financieros anuales que la OMS remita a la Asamblea Mundial de la Salud. Se facilitará al Ministerio de Sanidad una declaración anual certificada de ingresos y gastos.\nAsimismo, la OMS proporcionará una declaración final certificada de ingresos y gastos, una vez efectuada la liquidación de todas las obligaciones derivadas de las actividades emprendidas por la OMS antes de la terminación o extinción del presente Acuerdo.\nSéptimo. Auditoría.\nSe entiende que todas las contribuciones a la OMS están sujetas exclusivamente a sus propios procedimientos internos y externos de auditoría. La certificación de las cuentas realizadas por los auditores externos y el informe de auditoría se pondrán a disposición de la Asamblea Mundial de la Salud dos veces cada año. El Ministerio de Sanidad podrá solicitar una copia de estos documentos.\nOctavo. Reconocimiento.\nLa OMS dará la adecuada visibilidad a la contribución del Gobierno de España a su programa de trasplantes en cualquiera de las actividades o publicaciones realizadas en el marco de este proyecto colaborativo y en cualquiera de los informes en materia de trasplantes que habitualmente se proporcionan a sus 194 Estados miembros. A falta del consentimiento de uno de los signatarios, el otro no podrá referirse a la contribución ni a la relación entre las dos partes en ninguna actividad de naturaleza promocional. El Ministerio de Sanidad tendrá derecho en todo momento a hacer referencia a sus donaciones en sus documentos internos y en sus informes anuales.\nNoveno. Régimen jurídico.\nEl presente Acuerdo se celebra de conformidad con el artículo 1, apartado 3, del Acuerdo Marco de Cooperación entre el Reino de España y la OMS, firmado en Madrid el 12 de septiembre de 2001.\nDécimo. Terminación.\nEl presente Acuerdo permanecerá en vigor hasta la fecha prevista para su terminación. El incumplimiento por cualquiera de los signatarios de los apartados anteriores podrá ser motivo de terminación.\nCualquiera de los signatarios podrá desistir de la ejecución del Acuerdo, notificándolo al otro con una anticipación mínima de 6 meses a la fecha de terminación prevista. La terminación anticipada estará sujeta a la liquidación de toda obligación que se halle pendiente.\nHecho en Madrid y Ginebra, el 30 de octubre 2020, en dos versiones originales en español e inglés, siendo ambas igualmente auténticas.–En nombre del Ministerio de Sanidad, Salvador Illa Roca, Ministro de Sanidad.–En nombre de la Organización Mundial de la Salud, Mariângela Simão, Subdirectora General Acceso a Medicamentos y Productos Sanitarios.\nANEXO I\nDescripción de actividades\nPrograma de trasplantes (Células-Tejidos-Órganos humanos)\n1. de noviembre – 31 de octubre de 2021\nI) Introducción.\nEl programa de la OMS sobre trasplante de células, tejidos y órganos se estableció tras aprobarse la resolución WHA57.18\nNone\nNone\nA lo largo de los últimos años, los Principios Rectores de la OMS han influido en la legislación de numerosos Estados miembros, al igual que los códigos y prácticas profesionales. La principal función del programa de trasplantes es elaborar y establecer normas y principios globales, y también apoyar y asesorar a los países en la creación y fortalecimiento de sus sistemas nacionales a fin de garantizar la disponibilidad de los servicios y productos pertinentes y su acceso a ellos. Los ámbitos prioritarios son los marcos legislativos y reguladores, la capacidad de supervisión y las herramientas y mecanismos de gobernanza que velen por la calidad y la seguridad de los productos, incluida su trazabilidad, vigilancia y control. El objetivo general es alcanzar la autosuficiencia a nivel nacional en lo que respecta a donaciones y trasplantes, aprovechando los recursos de la población del propio país o mediante la cooperación regional.\nDebido a una serie de transformaciones y ajustes internos en la estructura y las funciones de la OMS, el programa de trasplantes se transfirió a la división de Acceso a Medicamentos y Productos Sanitarios y, a partir de enero de 2020, se unificó con los programas relativos a la seguridad de las transfusiones de sangre y a los productos hemoderivados, para crear un único grupo/equipo que abarca la totalidad de los productos médicos de origen humano (MPHO, por sus siglas en inglés).\nII) Antecedentes.\nEl trasplante de órganos es una forma de tratamiento habitual, hoy reconocida como la mejor y, a menudo, la única terapia que puede salvar la vida de pacientes con insuficiencia orgánica en fase terminal. Según los últimos datos del Observatorio Global de Donación y Trasplante (GODT)\nNone\nNone\nNone\nNone\nLas células y tejidos humanos pertenecen a una categoría especial de productos sanitarios esenciales, además de ser el material de partida potencial de productos biotecnológicos muchos más complejos. Para ser más precisos, el trasplante de tejidos puede cambiar cada año la vida de millones de personas: desde recobrar la vista o la movilidad a sobrevivir a un trauma. Los pacientes recuperan la autonomía y su calidad de vida mejora significativamente; aún es más, regresan a una vida productiva, con el importante coste-beneficio que ello supone para la comunidad. Los tejidos humanos conservan unas cualidades singulares que no pueden reemplazarse fácilmente, o en la misma medida, por las alternativas sintéticas disponibles. Las crecientes necesidades de una población mundial activa y cada vez más envejecida y el acceso limitado a los donantes han impulsado grandes inversiones en la bioingeniería para la regeneración de tejidos o el desarrollo de productos más eficientes (por ejemplo, hueso en polvo en transportador de pasta o léntulo); sin embargo, la mayoría de las alternativas se hallan en una fase de desarrollo muy temprana (como la impresión de piel en 3D) y pueden seguir siendo inaccesibles para muchos pacientes debido al elevado coste final. La demanda de trasplante de tejidos es probablemente mayor que la de trasplante de órganos, aunque todavía no ha podido determinarse con precisión. Es bastante difícil calcular el número exacto de donantes o de injertos de tejidos de origen humano a escala mundial, al no contarse con datos generales coherentes. La recogida de datos nacionales o regionales no está armonizada, y se complica aún más por la cuestión, aunque reconocida no debidamente reflejada y seguramente muy subestimada, del movimiento de estos tejidos entre fronteras nacionales e internacionales (en especial entre las distintas regiones).\nIII) Actividades Previstas en el período comprendido entre el 1 de noviembre de 2020 y el 31 octubre de 2021.\nEl plan de trabajo sobre trasplantes para el bienio 2020-2021 se ha diseñado teniendo en cuenta los objetivos estratégicos del 13\nEl siguiente plan de trabajo para el período comprendido entre el 1 de noviembre de 2020 y el 31 de octubre de 2021 se divide en cuatro áreas principales, con las actividades y los resultados que se enuncian a continuación:\n1. Terapias de sustitución de órganos.\nEl objetivo principal de esta área de trabajo es orientar a las autoridades públicas para el establecimiento y la supervisión de programas nacionales de donación y trasplante, entre otras cosas, con material centrado en los distintos componentes de un sistema que permita lograr la autosuficiencia nacional en el trasplante de órganos. También es preciso señalar y comprender el estado y el grado de desarrollo de los sistemas existentes en los Estados miembros, y realizar en ese sentido un estudio comparativo basado en indicadores específicos. En cuanto a la creación de capacidad, se ofrecerá material de apoyo a los países y se organizarán seminarios regionales.\n2. Lucha contra el tráfico de órganos.\nEn respuesta a la solicitud de la Asamblea General de las Naciones Unidas para que se fortalezca la lucha contra la trata de personas con fines de extracción de órganos (A/RES/73/189), la OMS establecerá una relación de colaboración con la UNODC y con la ACNUDH y solventará las limitaciones jurídicas y administrativas a fin de crear un mecanismo interinstitucional conjunto que se encargue del seguimiento (recogida de datos) y la prestación de asistencia a los Estados miembros (creación de capacidad y herramientas de gobernanza). Las actividades que se prevén en este sentido incluyen la armonización de datos mediante la colaboración con otras instituciones, como el Consejo de Europa y el Grupo Custodio de la Declaración de Estambul, así como el desarrollo de instrumentos y talleres que ayuden a los Estados miembros a reforzar sus capacidades.\n3. Trasplante de tejidos humanos.\nLas actividades previstas por la OMS se refieren a tres ámbitos principales: 1) promover la donación y el trasplante de tejidos; 2) sensibilizar e informar sobre el uso de los tejidos con fines médicos; y 3) prestar asistencia técnica. Se diseñará material específico para informar sobre las clases de tejidos humanos que pueden obtenerse o emplearse, las dolencias susceptibles de tratamiento (indicaciones de utilización), las ventajas en cuanto a la calidad obtenida y la relación coste/eficacia en comparación con otros posibles tratamientos. Además, en colaboración con otros socios clave, como la Unión Mundial de Asociaciones de Bancos de Tejidos (WUTBA, por sus siglas en inglés) y la Alianza Mundial de Asociaciones de Bancos de Ojos (GAEBA, por sus siglas en inglés), la OMS facilitará herramientas que permitan el intercambio de información, experiencias y mejores prácticas entre los Estados miembros, y que complementará con talleres para promover la conciencia y la capacidad.\n4. Marco global de acción–Consulta a escala mundial.\nSe ha acordado con el grupo directivo del equipo de trabajo de la OMS sobre donaciones y trasplantes diseñar una estrategia a largo plazo que se prolongue más allá del bienio en curso. Con motivo del décimo aniversario de la aprobación de los Principios Rectores (resolución WHA63.22), la OMS se propone celebrar una consulta a escala mundial. En apoyo de los debates con los principales interesados, y en cooperación con los grupos de expertos creados con el equipo de trabajo de la OMS sobre donaciones y trasplantes, se elaborará un marco de acción para promover el acceso universal a estos tratamientos.\n*****\nEl presente Acuerdo Internacional Administrativo entró en vigor el 1 de noviembre de 2020, según se establece en su artículo Quinto.\nMadrid, 12 de noviembre de 2020.–El Secretario General Técnico, José María Muriel Palomino.\n"
     ]
    }
   ],
   "source": [
    "parrafos=raiz.findall(\"texto/p\")\n",
    "for parrafo in parrafos:\n",
    "    print(parrafo.text)"
   ]
  },
  {
   "source": [
    "# DOGC"
   ],
   "cell_type": "markdown",
   "metadata": {}
  },
  {
   "cell_type": "code",
   "execution_count": 60,
   "metadata": {},
   "outputs": [],
   "source": [
    "URL_HTML_resumen =  \"https://dogc.gencat.cat/es/index.html?newLang=es_ES&language=es_ES\""
   ]
  },
  {
   "cell_type": "code",
   "execution_count": 61,
   "metadata": {},
   "outputs": [],
   "source": [
    "from requests_html import HTMLSession\n",
    "session = HTMLSession()\n",
    "r = session.get(URL_HTML_resumen)"
   ]
  },
  {
   "cell_type": "code",
   "execution_count": 62,
   "metadata": {},
   "outputs": [
    {
     "output_type": "execute_result",
     "data": {
      "text/plain": [
       "{'/ca/index.html?newLang=es_ES&language=es_ES',\n",
       " '/ca/pdogc_serveis/cerca-republica/',\n",
       " '/ca/pdogc_serveis/pdogc_dogc_mobi/',\n",
       " '/es/ajuda/mapaweb/',\n",
       " '/es/index.html?newLang=es_ES&language=es_ES',\n",
       " '/es/pdogc_base_de_dades_del_dogc/',\n",
       " '/es/pdogc_canals_interns/pdogc_cercador_de_normativa/?destParam=cercaAdv',\n",
       " '/es/pdogc_canals_interns/pdogc_que_es_el_codi_de_verificacio/',\n",
       " '/es/pdogc_eadop/',\n",
       " '/es/pdogc_enllacos/',\n",
       " '/es/pdogc_preguntes_frequents/',\n",
       " '/es/pdogc_serveis/',\n",
       " '/es/pdogc_serveis/pdogc_normes_urbanistiques_1985-2002/',\n",
       " '/es/pdogc_serveis/pdogc_serveis_de_informacio/',\n",
       " '/es/pdogc_serveis/pdogc_serveis_de_informacio/pdogc_alertes_dogc/',\n",
       " '/es/pdogc_serveis/pdogc_serveis_de_publicacio_al_dogc/Publicacio_Anuncis_situacio_CoV-2/',\n",
       " '/es/pdogc_serveis/pdogc_serveis_de_publicacio_al_dogc/pdogc_dogc_eacat/index.html',\n",
       " '/es/pdogc_sobre_el_dogc/',\n",
       " 'http://bop.diba.es/',\n",
       " 'http://llibreria.gencat.cat/index.php?language=es',\n",
       " 'http://web.gencat.cat/es/temes/',\n",
       " 'http://www.boe.es/diario_boe/calendarios.php?c=c',\n",
       " 'http://www.ddgi.es/bop/',\n",
       " 'http://www.gencat.cat',\n",
       " 'http://www.gencat.cat/generalitat/cas/index.htm',\n",
       " 'http://www.gencat.cat/serveis/cas/index.htm',\n",
       " 'http://www.gencat.net/catalunya/cas/index.htm',\n",
       " 'https://bop.diputaciolleida.cat',\n",
       " 'https://contractaciopublica.gencat.cat/ecofin_pscp/AppJava/es_ES/search.pscp?reqCode=start',\n",
       " 'https://dogc.gencat.cat/es/pdogc_sobre_el_dogc/Accessibilitat-dogc.gencat.cat/',\n",
       " 'https://ovt.gencat.cat/gsitfc/AppJava/generic/conqxsGeneric.do?webFormId=391&&topicLevel1ByURL.id=500&topicLevel2ByURL.id=657&set-locale=es_ES',\n",
       " 'https://portaldogc.gencat.cat/EADOP_transactional/AppJava/dogc/es/gestioUsuari.htm?mode=0',\n",
       " 'https://portaldogc.gencat.cat/EADOP_transactional/AppJava/dogc/es/gestioUsuari.htm?primeraVez=1&mode=5',\n",
       " 'https://portaldogc.gencat.cat/utilsEADOP/dogc2/dogc_es.pdf',\n",
       " 'https://portaldogc.gencat.cat/utilsEADOP/dogc2/sumari_es.pdf',\n",
       " 'https://portaljuridic.gencat.cat/ca/',\n",
       " 'https://portaljuridic.gencat.cat/ca/pjur_ocults/pjur_CoV-2/',\n",
       " 'https://portaljuridic.gencat.cat/ca/pjur_ocults/pjur_llei-5-2020/',\n",
       " 'https://seu.gencat.cat/es/index.html',\n",
       " 'https://treball.gencat.cat/es/consell_relacions_laborals/convenis_colectius/cercador_de_convenis/index.html',\n",
       " 'https://twitter.com/DOGCdeldia',\n",
       " 'https://web.gencat.cat/es/inici/index.html',\n",
       " 'https://web.gencat.cat/es/menu-ajuda/ajuda/avis_legal/',\n",
       " 'https://web.gencat.cat/es/menu-ajuda/ajuda/sobre_gencat/',\n",
       " 'https://www.diputaciodetarragona.cat/ebop/'}"
      ]
     },
     "metadata": {},
     "execution_count": 62
    }
   ],
   "source": [
    "r.html.links"
   ]
  },
  {
   "cell_type": "code",
   "execution_count": 63,
   "metadata": {},
   "outputs": [
    {
     "output_type": "execute_result",
     "data": {
      "text/plain": [
       "[' DOGC núm.\\r\\n\\t\\t\\t\\t\\t 8301 (22/12/2020)']"
      ]
     },
     "metadata": {},
     "execution_count": 63
    }
   ],
   "source": [
    "r.html.xpath('//*[@id=\"titol\"]/span/text()')"
   ]
  },
  {
   "cell_type": "code",
   "execution_count": 64,
   "metadata": {},
   "outputs": [
    {
     "output_type": "execute_result",
     "data": {
      "text/plain": [
       "['\\r\\n\\t\\t\\t\\t\\tÚltimo DOGC publicado\\r\\n\\t\\t\\t\\t']"
      ]
     },
     "metadata": {},
     "execution_count": 64
    }
   ],
   "source": [
    "r.html.xpath('//*[@id=\"titol\"]/h3/text()')\n"
   ]
  },
  {
   "cell_type": "code",
   "execution_count": 65,
   "metadata": {},
   "outputs": [
    {
     "output_type": "execute_result",
     "data": {
      "text/plain": [
       "'html'"
      ]
     },
     "metadata": {},
     "execution_count": 65
    }
   ],
   "source": [
    "r.html.lxml.tag"
   ]
  },
  {
   "cell_type": "code",
   "execution_count": 66,
   "metadata": {},
   "outputs": [
    {
     "output_type": "execute_result",
     "data": {
      "text/plain": [
       "[<Element span at 0x7fa2d0438cc0>]"
      ]
     },
     "metadata": {},
     "execution_count": 66
    }
   ],
   "source": [
    "r.html.lxml.xpath('//*[@id=\"titol\"]/span')"
   ]
  },
  {
   "cell_type": "code",
   "execution_count": 67,
   "metadata": {},
   "outputs": [
    {
     "output_type": "stream",
     "name": "stdout",
     "text": [
      "[' DOGC núm.\\r\\n\\t\\t\\t\\t\\t 8301 (22/12/2020)']\n"
     ]
    }
   ],
   "source": [
    "#import requests\n",
    "#from lxml import html\n",
    "\n",
    "response = requests.get(URL_HTML_resumen)\n",
    "\n",
    "tree = html.fromstring(response.text)\n",
    "\n",
    "# fetches all useful elements \n",
    "useful = tree.xpath('//*[@id=\"titol\"]/span/text()')\n",
    "\n",
    "print(useful)\n"
   ]
  },
  {
   "cell_type": "code",
   "execution_count": 68,
   "metadata": {},
   "outputs": [
    {
     "output_type": "execute_result",
     "data": {
      "text/plain": [
       "['/es/pdogc_canals_interns/pdogc_sumari_del_dogc/']"
      ]
     },
     "metadata": {},
     "execution_count": 68
    }
   ],
   "source": [
    "r.html.lxml.xpath('//*[@id=\"sumari\"]/ul/li[1]/form/@action')"
   ]
  },
  {
   "cell_type": "code",
   "execution_count": 69,
   "metadata": {},
   "outputs": [
    {
     "output_type": "execute_result",
     "data": {
      "text/plain": [
       "['anexos']"
      ]
     },
     "metadata": {},
     "execution_count": 69
    }
   ],
   "source": [
    "r.html.lxml.xpath('//*[@id=\"sumari\"]/ul/li[1]/form/input[1]/@name')"
   ]
  },
  {
   "cell_type": "code",
   "execution_count": 70,
   "metadata": {},
   "outputs": [
    {
     "output_type": "execute_result",
     "data": {
      "text/plain": [
       "['1']"
      ]
     },
     "metadata": {},
     "execution_count": 70
    }
   ],
   "source": [
    "r.html.lxml.xpath('//*[@id=\"sumari\"]/ul/li[1]/form/input[1]/@value')"
   ]
  },
  {
   "cell_type": "code",
   "execution_count": 71,
   "metadata": {},
   "outputs": [
    {
     "output_type": "execute_result",
     "data": {
      "text/plain": [
       "[<Element form at 0x7fa2d2e3a400>]"
      ]
     },
     "metadata": {},
     "execution_count": 71
    }
   ],
   "source": [
    "r.html.lxml.xpath('//*[@id=\"sumari\"]/ul/li[1]/form')"
   ]
  },
  {
   "cell_type": "code",
   "execution_count": 72,
   "metadata": {},
   "outputs": [
    {
     "output_type": "stream",
     "name": "stdout",
     "text": [
      "['8301']\n"
     ]
    }
   ],
   "source": [
    "useful = tree.xpath('//*[@id=\"sumari\"]/ul/li[1]/form/input[3]/@value')\n",
    "\n",
    "print(useful)"
   ]
  },
  {
   "cell_type": "code",
   "execution_count": 73,
   "metadata": {},
   "outputs": [
    {
     "output_type": "execute_result",
     "data": {
      "text/plain": [
       "['/es/pdogc_canals_interns/pdogc_sumari_del_dogc/']"
      ]
     },
     "metadata": {},
     "execution_count": 73
    }
   ],
   "source": [
    "tree.xpath('//*[@id=\"sumari\"]/ul/li[1]/form/@action')"
   ]
  },
  {
   "cell_type": "code",
   "execution_count": 74,
   "metadata": {
    "tags": []
   },
   "outputs": [
    {
     "output_type": "stream",
     "name": "stdout",
     "text": [
      "['anexos', 'language', 'numDOGC', 'seccion'] ['1', 'es_ES', '8301', '0']\n"
     ]
    },
    {
     "output_type": "execute_result",
     "data": {
      "text/plain": [
       "'anexos=1&language=es_ES&numDOGC=8301&seccion=0'"
      ]
     },
     "metadata": {},
     "execution_count": 74
    }
   ],
   "source": [
    "cadena = ''\n",
    "for input in tree.xpath('//*[@id=\"sumari\"]/ul/li[1]/form'):\n",
    "    argumentos = input.xpath('./input/@name')\n",
    "    valores = input.xpath('./input/@value')\n",
    "    print(argumentos, valores)\n",
    "\n",
    "for indice in range(len(argumentos)):\n",
    "    cadena += argumentos[indice] + '=' + valores[indice] + '&'\n",
    "\n",
    "argumentos[1]\n",
    "cadena[:-1]"
   ]
  },
  {
   "source": [
    "## Recoge Nombre Secciones Sumario"
   ],
   "cell_type": "markdown",
   "metadata": {}
  },
  {
   "cell_type": "code",
   "execution_count": 75,
   "metadata": {},
   "outputs": [
    {
     "output_type": "execute_result",
     "data": {
      "text/plain": [
       "'DISPOSICIONES'"
      ]
     },
     "metadata": {},
     "execution_count": 75
    }
   ],
   "source": [
    "import re\n",
    "seccion = tree.xpath('//*[@id=\"sumari\"]/ul/li[1]/form/a/text()')\n",
    "seccion = re.sub('(\\\\r|\\\\n|\\\\t|\\ )+', '', seccion[0])\n",
    "seccion"
   ]
  },
  {
   "source": [
    "## Recoge Nombre Secciones Sumario"
   ],
   "cell_type": "markdown",
   "metadata": {}
  },
  {
   "cell_type": "code",
   "execution_count": 76,
   "metadata": {},
   "outputs": [
    {
     "output_type": "stream",
     "name": "stdout",
     "text": [
      "   DISPOSICIONES \n   CARGOS Y PERSONAL\n   ANUNCIOS DE LA GENERALIDAD DE CATALUÑA\n   ANUNCIOS DE LA ADMINISTRACIÓN LOCAL\n   ANUNCIOS DE LA ADMINISTRACIÓN DE JUSTICIA \n   ANUNCIOS VARIOS\n"
     ]
    }
   ],
   "source": [
    "secciones = tree.xpath('//*[@id=\"sumari\"]/ul/li')\n",
    "#print(secciones)\n",
    "df_secciones_sumarios = pd.DataFrame()\n",
    "for seccion in secciones:\n",
    "    seccion = seccion.xpath('./form/a/text()')\n",
    "    seccion = re.sub('(\\\\r|\\\\n|\\\\t)+', '', seccion[0])\n",
    "    print(seccion[1:-1])\n",
    "    df_secciones_sumarios = df_secciones_sumarios.append({'Seccion': seccion[1:-1]}, ignore_index=True)\n"
   ]
  },
  {
   "cell_type": "code",
   "execution_count": 77,
   "metadata": {},
   "outputs": [
    {
     "output_type": "execute_result",
     "data": {
      "text/plain": [
       "                                         Seccion\n",
       "0                                 DISPOSICIONES \n",
       "1                              CARGOS Y PERSONAL\n",
       "2         ANUNCIOS DE LA GENERALIDAD DE CATALUÑA\n",
       "3            ANUNCIOS DE LA ADMINISTRACIÓN LOCAL\n",
       "4     ANUNCIOS DE LA ADMINISTRACIÓN DE JUSTICIA \n",
       "5                                ANUNCIOS VARIOS"
      ],
      "text/html": "<div>\n<style scoped>\n    .dataframe tbody tr th:only-of-type {\n        vertical-align: middle;\n    }\n\n    .dataframe tbody tr th {\n        vertical-align: top;\n    }\n\n    .dataframe thead th {\n        text-align: right;\n    }\n</style>\n<table border=\"1\" class=\"dataframe\">\n  <thead>\n    <tr style=\"text-align: right;\">\n      <th></th>\n      <th>Seccion</th>\n    </tr>\n  </thead>\n  <tbody>\n    <tr>\n      <th>0</th>\n      <td>DISPOSICIONES</td>\n    </tr>\n    <tr>\n      <th>1</th>\n      <td>CARGOS Y PERSONAL</td>\n    </tr>\n    <tr>\n      <th>2</th>\n      <td>ANUNCIOS DE LA GENERALIDAD DE CATALUÑA</td>\n    </tr>\n    <tr>\n      <th>3</th>\n      <td>ANUNCIOS DE LA ADMINISTRACIÓN LOCAL</td>\n    </tr>\n    <tr>\n      <th>4</th>\n      <td>ANUNCIOS DE LA ADMINISTRACIÓN DE JUSTICIA</td>\n    </tr>\n    <tr>\n      <th>5</th>\n      <td>ANUNCIOS VARIOS</td>\n    </tr>\n  </tbody>\n</table>\n</div>"
     },
     "metadata": {},
     "execution_count": 77
    }
   ],
   "source": [
    "df_secciones_sumarios"
   ]
  },
  {
   "source": [
    "## Recoge Valores para formar URLs Secciones Sumario"
   ],
   "cell_type": "markdown",
   "metadata": {}
  },
  {
   "cell_type": "code",
   "execution_count": 78,
   "metadata": {},
   "outputs": [
    {
     "output_type": "stream",
     "name": "stdout",
     "text": [
      "https://dogc.gencat.cat/es/pdogc_canals_interns/pdogc_sumari_del_dogc/?anexos=1&language=es_ES&numDOGC=8301&seccion=0\nhttps://dogc.gencat.cat/es/pdogc_canals_interns/pdogc_sumari_del_dogc/?anexos=1&language=es_ES&numDOGC=8301&seccion=1\nhttps://dogc.gencat.cat/es/pdogc_canals_interns/pdogc_sumari_del_dogc/?anexos=1&language=es_ES&numDOGC=8301&seccion=2\nhttps://dogc.gencat.cat/es/pdogc_canals_interns/pdogc_sumari_del_dogc/?anexos=1&language=es_ES&numDOGC=8301&seccion=3\nhttps://dogc.gencat.cat/es/pdogc_canals_interns/pdogc_sumari_del_dogc/?anexos=1&language=es_ES&numDOGC=8301&seccion=4\nhttps://dogc.gencat.cat/es/pdogc_canals_interns/pdogc_sumari_del_dogc/?anexos=1&language=es_ES&numDOGC=8301&seccion=5\n"
     ]
    }
   ],
   "source": [
    "URL_base_sumario = tree.xpath('//*[@id=\"sumari\"]/ul/li[1]/form/@action')\n",
    "\n",
    "df_URL_sumarios = pd.DataFrame()\n",
    "for seccion in secciones:    \n",
    "    cadena = ''\n",
    "    for input in seccion.xpath('./form'):\n",
    "        argumentos = input.xpath('./input/@name')\n",
    "        valores = input.xpath('./input/@value')\n",
    "        #print(argumentos, valores)\n",
    "\n",
    "    for indice in range(len(argumentos)):\n",
    "        cadena += argumentos[indice] + '=' + valores[indice] + '&'\n",
    "\n",
    "    URL_sumario = 'https://dogc.gencat.cat' + str(URL_base_sumario[0]) + '?' + str(cadena[:-1])\n",
    "    print(URL_sumario)\n",
    "    df_URL_sumarios = df_URL_sumarios.append({'URL_Seccion': URL_sumario}, ignore_index=True)"
   ]
  },
  {
   "cell_type": "code",
   "execution_count": 79,
   "metadata": {},
   "outputs": [
    {
     "output_type": "execute_result",
     "data": {
      "text/plain": [
       "                                         URL_Seccion\n",
       "0  https://dogc.gencat.cat/es/pdogc_canals_intern...\n",
       "1  https://dogc.gencat.cat/es/pdogc_canals_intern...\n",
       "2  https://dogc.gencat.cat/es/pdogc_canals_intern...\n",
       "3  https://dogc.gencat.cat/es/pdogc_canals_intern...\n",
       "4  https://dogc.gencat.cat/es/pdogc_canals_intern...\n",
       "5  https://dogc.gencat.cat/es/pdogc_canals_intern..."
      ],
      "text/html": "<div>\n<style scoped>\n    .dataframe tbody tr th:only-of-type {\n        vertical-align: middle;\n    }\n\n    .dataframe tbody tr th {\n        vertical-align: top;\n    }\n\n    .dataframe thead th {\n        text-align: right;\n    }\n</style>\n<table border=\"1\" class=\"dataframe\">\n  <thead>\n    <tr style=\"text-align: right;\">\n      <th></th>\n      <th>URL_Seccion</th>\n    </tr>\n  </thead>\n  <tbody>\n    <tr>\n      <th>0</th>\n      <td>https://dogc.gencat.cat/es/pdogc_canals_intern...</td>\n    </tr>\n    <tr>\n      <th>1</th>\n      <td>https://dogc.gencat.cat/es/pdogc_canals_intern...</td>\n    </tr>\n    <tr>\n      <th>2</th>\n      <td>https://dogc.gencat.cat/es/pdogc_canals_intern...</td>\n    </tr>\n    <tr>\n      <th>3</th>\n      <td>https://dogc.gencat.cat/es/pdogc_canals_intern...</td>\n    </tr>\n    <tr>\n      <th>4</th>\n      <td>https://dogc.gencat.cat/es/pdogc_canals_intern...</td>\n    </tr>\n    <tr>\n      <th>5</th>\n      <td>https://dogc.gencat.cat/es/pdogc_canals_intern...</td>\n    </tr>\n  </tbody>\n</table>\n</div>"
     },
     "metadata": {},
     "execution_count": 79
    }
   ],
   "source": [
    "df_URL_sumarios"
   ]
  },
  {
   "cell_type": "code",
   "execution_count": 80,
   "metadata": {},
   "outputs": [],
   "source": [
    " df_sumarios = pd.concat([df_secciones_sumarios, df_URL_sumarios], axis=1)"
   ]
  },
  {
   "cell_type": "code",
   "execution_count": 81,
   "metadata": {},
   "outputs": [
    {
     "output_type": "execute_result",
     "data": {
      "text/plain": [
       "                                         Seccion  \\\n",
       "0                                 DISPOSICIONES    \n",
       "1                              CARGOS Y PERSONAL   \n",
       "2         ANUNCIOS DE LA GENERALIDAD DE CATALUÑA   \n",
       "3            ANUNCIOS DE LA ADMINISTRACIÓN LOCAL   \n",
       "4     ANUNCIOS DE LA ADMINISTRACIÓN DE JUSTICIA    \n",
       "5                                ANUNCIOS VARIOS   \n",
       "\n",
       "                                         URL_Seccion  \n",
       "0  https://dogc.gencat.cat/es/pdogc_canals_intern...  \n",
       "1  https://dogc.gencat.cat/es/pdogc_canals_intern...  \n",
       "2  https://dogc.gencat.cat/es/pdogc_canals_intern...  \n",
       "3  https://dogc.gencat.cat/es/pdogc_canals_intern...  \n",
       "4  https://dogc.gencat.cat/es/pdogc_canals_intern...  \n",
       "5  https://dogc.gencat.cat/es/pdogc_canals_intern...  "
      ],
      "text/html": "<div>\n<style scoped>\n    .dataframe tbody tr th:only-of-type {\n        vertical-align: middle;\n    }\n\n    .dataframe tbody tr th {\n        vertical-align: top;\n    }\n\n    .dataframe thead th {\n        text-align: right;\n    }\n</style>\n<table border=\"1\" class=\"dataframe\">\n  <thead>\n    <tr style=\"text-align: right;\">\n      <th></th>\n      <th>Seccion</th>\n      <th>URL_Seccion</th>\n    </tr>\n  </thead>\n  <tbody>\n    <tr>\n      <th>0</th>\n      <td>DISPOSICIONES</td>\n      <td>https://dogc.gencat.cat/es/pdogc_canals_intern...</td>\n    </tr>\n    <tr>\n      <th>1</th>\n      <td>CARGOS Y PERSONAL</td>\n      <td>https://dogc.gencat.cat/es/pdogc_canals_intern...</td>\n    </tr>\n    <tr>\n      <th>2</th>\n      <td>ANUNCIOS DE LA GENERALIDAD DE CATALUÑA</td>\n      <td>https://dogc.gencat.cat/es/pdogc_canals_intern...</td>\n    </tr>\n    <tr>\n      <th>3</th>\n      <td>ANUNCIOS DE LA ADMINISTRACIÓN LOCAL</td>\n      <td>https://dogc.gencat.cat/es/pdogc_canals_intern...</td>\n    </tr>\n    <tr>\n      <th>4</th>\n      <td>ANUNCIOS DE LA ADMINISTRACIÓN DE JUSTICIA</td>\n      <td>https://dogc.gencat.cat/es/pdogc_canals_intern...</td>\n    </tr>\n    <tr>\n      <th>5</th>\n      <td>ANUNCIOS VARIOS</td>\n      <td>https://dogc.gencat.cat/es/pdogc_canals_intern...</td>\n    </tr>\n  </tbody>\n</table>\n</div>"
     },
     "metadata": {},
     "execution_count": 81
    }
   ],
   "source": [
    "df_sumarios"
   ]
  },
  {
   "cell_type": "code",
   "execution_count": 82,
   "metadata": {},
   "outputs": [
    {
     "output_type": "execute_result",
     "data": {
      "text/plain": [
       "'https://dogc.gencat.cat/es/pdogc_canals_interns/pdogc_sumari_del_dogc/?anexos=1&language=es_ES&numDOGC=8301&seccion=4'"
      ]
     },
     "metadata": {},
     "execution_count": 82
    }
   ],
   "source": [
    "df_sumarios['URL_Seccion'][4]"
   ]
  },
  {
   "source": [
    "## Recoge Items en Seccion Disposiciones"
   ],
   "cell_type": "markdown",
   "metadata": {}
  },
  {
   "cell_type": "code",
   "execution_count": 83,
   "metadata": {
    "tags": []
   },
   "outputs": [
    {
     "output_type": "execute_result",
     "data": {
      "text/plain": [
       "          Seccion                                          Item_Name  \\\n",
       "0   DISPOSICIONES                                                ...   \n",
       "1   DISPOSICIONES  DECRETO 147/2020, de 21 de diciembre, de disol...   \n",
       "2   DISPOSICIONES  ORDEN VEH/220/2020, de 17 de diciembre, sobre ...   \n",
       "3   DISPOSICIONES  ORDEN TES/224/2020, de 17 de diciembre, por la...   \n",
       "4   DISPOSICIONES  RESOLUCIÓN TES/3341/2020, de 17 de diciembre, ...   \n",
       "5   DISPOSICIONES  RESOLUCIÓN TES/3381/2020, de 21 de diciembre, ...   \n",
       "6   DISPOSICIONES  EDICTO de 9 de diciembre de 2020, sobre acuerd...   \n",
       "7   DISPOSICIONES                                                ...   \n",
       "8   DISPOSICIONES  RESOLUCIÓN CLT/3342/2020, de 15 de diciembre, ...   \n",
       "9   DISPOSICIONES                                                ...   \n",
       "10  DISPOSICIONES                                                ...   \n",
       "11  DISPOSICIONES                                                ...   \n",
       "12  DISPOSICIONES                                                ...   \n",
       "13  DISPOSICIONES                                                ...   \n",
       "14  DISPOSICIONES                                                ...   \n",
       "15  DISPOSICIONES                                                ...   \n",
       "16  DISPOSICIONES  RESOLUCIÓN PDA/3346/2020, de 17 de diciembre, ...   \n",
       "17  DISPOSICIONES  RESOLUCIÓN ARP/3349/2020, de 16 de diciembre, ...   \n",
       "18  DISPOSICIONES  RESOLUCIÓN ARP/3350/2020, de 11 de diciembre, ...   \n",
       "\n",
       "                                             PDF_link  \n",
       "0   https://portaldogc.gencat.cat/utilsEADOP/AppJa...  \n",
       "1   https://portaldogc.gencat.cat/utilsEADOP/AppJa...  \n",
       "2   https://portaldogc.gencat.cat/utilsEADOP/AppJa...  \n",
       "3   https://portaldogc.gencat.cat/utilsEADOP/AppJa...  \n",
       "4   https://portaldogc.gencat.cat/utilsEADOP/AppJa...  \n",
       "5   https://portaldogc.gencat.cat/utilsEADOP/AppJa...  \n",
       "6   https://portaldogc.gencat.cat/utilsEADOP/AppJa...  \n",
       "7   https://portaldogc.gencat.cat/utilsEADOP/AppJa...  \n",
       "8   https://portaldogc.gencat.cat/utilsEADOP/AppJa...  \n",
       "9   https://portaldogc.gencat.cat/utilsEADOP/AppJa...  \n",
       "10  https://portaldogc.gencat.cat/utilsEADOP/AppJa...  \n",
       "11  https://portaldogc.gencat.cat/utilsEADOP/AppJa...  \n",
       "12  https://portaldogc.gencat.cat/utilsEADOP/AppJa...  \n",
       "13  https://portaldogc.gencat.cat/utilsEADOP/AppJa...  \n",
       "14  https://portaldogc.gencat.cat/utilsEADOP/AppJa...  \n",
       "15  https://portaldogc.gencat.cat/utilsEADOP/AppJa...  \n",
       "16  https://portaldogc.gencat.cat/utilsEADOP/AppJa...  \n",
       "17  https://portaldogc.gencat.cat/utilsEADOP/AppJa...  \n",
       "18  https://portaldogc.gencat.cat/utilsEADOP/AppJa...  "
      ],
      "text/html": "<div>\n<style scoped>\n    .dataframe tbody tr th:only-of-type {\n        vertical-align: middle;\n    }\n\n    .dataframe tbody tr th {\n        vertical-align: top;\n    }\n\n    .dataframe thead th {\n        text-align: right;\n    }\n</style>\n<table border=\"1\" class=\"dataframe\">\n  <thead>\n    <tr style=\"text-align: right;\">\n      <th></th>\n      <th>Seccion</th>\n      <th>Item_Name</th>\n      <th>PDF_link</th>\n    </tr>\n  </thead>\n  <tbody>\n    <tr>\n      <th>0</th>\n      <td>DISPOSICIONES</td>\n      <td>...</td>\n      <td>https://portaldogc.gencat.cat/utilsEADOP/AppJa...</td>\n    </tr>\n    <tr>\n      <th>1</th>\n      <td>DISPOSICIONES</td>\n      <td>DECRETO 147/2020, de 21 de diciembre, de disol...</td>\n      <td>https://portaldogc.gencat.cat/utilsEADOP/AppJa...</td>\n    </tr>\n    <tr>\n      <th>2</th>\n      <td>DISPOSICIONES</td>\n      <td>ORDEN VEH/220/2020, de 17 de diciembre, sobre ...</td>\n      <td>https://portaldogc.gencat.cat/utilsEADOP/AppJa...</td>\n    </tr>\n    <tr>\n      <th>3</th>\n      <td>DISPOSICIONES</td>\n      <td>ORDEN TES/224/2020, de 17 de diciembre, por la...</td>\n      <td>https://portaldogc.gencat.cat/utilsEADOP/AppJa...</td>\n    </tr>\n    <tr>\n      <th>4</th>\n      <td>DISPOSICIONES</td>\n      <td>RESOLUCIÓN TES/3341/2020, de 17 de diciembre, ...</td>\n      <td>https://portaldogc.gencat.cat/utilsEADOP/AppJa...</td>\n    </tr>\n    <tr>\n      <th>5</th>\n      <td>DISPOSICIONES</td>\n      <td>RESOLUCIÓN TES/3381/2020, de 21 de diciembre, ...</td>\n      <td>https://portaldogc.gencat.cat/utilsEADOP/AppJa...</td>\n    </tr>\n    <tr>\n      <th>6</th>\n      <td>DISPOSICIONES</td>\n      <td>EDICTO de 9 de diciembre de 2020, sobre acuerd...</td>\n      <td>https://portaldogc.gencat.cat/utilsEADOP/AppJa...</td>\n    </tr>\n    <tr>\n      <th>7</th>\n      <td>DISPOSICIONES</td>\n      <td>...</td>\n      <td>https://portaldogc.gencat.cat/utilsEADOP/AppJa...</td>\n    </tr>\n    <tr>\n      <th>8</th>\n      <td>DISPOSICIONES</td>\n      <td>RESOLUCIÓN CLT/3342/2020, de 15 de diciembre, ...</td>\n      <td>https://portaldogc.gencat.cat/utilsEADOP/AppJa...</td>\n    </tr>\n    <tr>\n      <th>9</th>\n      <td>DISPOSICIONES</td>\n      <td>...</td>\n      <td>https://portaldogc.gencat.cat/utilsEADOP/AppJa...</td>\n    </tr>\n    <tr>\n      <th>10</th>\n      <td>DISPOSICIONES</td>\n      <td>...</td>\n      <td>https://portaldogc.gencat.cat/utilsEADOP/AppJa...</td>\n    </tr>\n    <tr>\n      <th>11</th>\n      <td>DISPOSICIONES</td>\n      <td>...</td>\n      <td>https://portaldogc.gencat.cat/utilsEADOP/AppJa...</td>\n    </tr>\n    <tr>\n      <th>12</th>\n      <td>DISPOSICIONES</td>\n      <td>...</td>\n      <td>https://portaldogc.gencat.cat/utilsEADOP/AppJa...</td>\n    </tr>\n    <tr>\n      <th>13</th>\n      <td>DISPOSICIONES</td>\n      <td>...</td>\n      <td>https://portaldogc.gencat.cat/utilsEADOP/AppJa...</td>\n    </tr>\n    <tr>\n      <th>14</th>\n      <td>DISPOSICIONES</td>\n      <td>...</td>\n      <td>https://portaldogc.gencat.cat/utilsEADOP/AppJa...</td>\n    </tr>\n    <tr>\n      <th>15</th>\n      <td>DISPOSICIONES</td>\n      <td>...</td>\n      <td>https://portaldogc.gencat.cat/utilsEADOP/AppJa...</td>\n    </tr>\n    <tr>\n      <th>16</th>\n      <td>DISPOSICIONES</td>\n      <td>RESOLUCIÓN PDA/3346/2020, de 17 de diciembre, ...</td>\n      <td>https://portaldogc.gencat.cat/utilsEADOP/AppJa...</td>\n    </tr>\n    <tr>\n      <th>17</th>\n      <td>DISPOSICIONES</td>\n      <td>RESOLUCIÓN ARP/3349/2020, de 16 de diciembre, ...</td>\n      <td>https://portaldogc.gencat.cat/utilsEADOP/AppJa...</td>\n    </tr>\n    <tr>\n      <th>18</th>\n      <td>DISPOSICIONES</td>\n      <td>RESOLUCIÓN ARP/3350/2020, de 11 de diciembre, ...</td>\n      <td>https://portaldogc.gencat.cat/utilsEADOP/AppJa...</td>\n    </tr>\n  </tbody>\n</table>\n</div>"
     },
     "metadata": {},
     "execution_count": 83
    }
   ],
   "source": [
    "### Recoge Items en Seccion Disposiciones\n",
    "\n",
    "response = requests.get(df_sumarios['URL_Seccion'][0])\n",
    "sumario_HTML = html.fromstring(response.text)\n",
    "\n",
    "#seccion = sumario_HTML.xpath('//*[@id=\"disposicions\"]/div[1]/text()')\n",
    "seccion = sumario_HTML.xpath('//*[@id=\"disposicions\"]/div/text()')\n",
    "bloques = sumario_HTML.xpath('//*[@id=\"disposicions\"]')\n",
    "df_disposiciones = pd.DataFrame(columns=['Seccion','Item_Name','PDF_link'])\n",
    "for bloque in bloques: \n",
    "    item_name = bloque.xpath('./div/p/text()')\n",
    "    #item_name = re.sub('(\\\\r|\\\\n|\\\\t)+', '', item_name[0])\n",
    "    pdf_link = bloque.xpath('./div/div/a[4]/@href')\n",
    "\n",
    "for row in range(len(pdf_link)):\n",
    "    df_disposiciones = df_disposiciones.append({'Item_Name': re.sub('(\\\\r|\\\\n|\\\\t)+', '',                                                                               item_name[row]),\n",
    "                                            'PDF_link' : pdf_link[row],\n",
    "                                            'Seccion' : seccion[0][:-1]},\n",
    "                                            ignore_index=True)\n",
    "\n",
    "df_disposiciones"
   ]
  },
  {
   "cell_type": "code",
   "execution_count": 84,
   "metadata": {},
   "outputs": [
    {
     "output_type": "execute_result",
     "data": {
      "text/plain": [
       "['https://portaldogc.gencat.cat/utilsEADOP/AppJava/PdfProviderServlet?documentId=889491&type=01&language=es_ES',\n",
       " 'https://portaldogc.gencat.cat/utilsEADOP/AppJava/PdfProviderServlet?documentId=889516&type=01&language=es_ES',\n",
       " 'https://portaldogc.gencat.cat/utilsEADOP/AppJava/PdfProviderServlet?documentId=889505&type=01&language=es_ES',\n",
       " 'https://portaldogc.gencat.cat/utilsEADOP/AppJava/PdfProviderServlet?documentId=889502&type=01&language=es_ES',\n",
       " 'https://portaldogc.gencat.cat/utilsEADOP/AppJava/PdfProviderServlet?documentId=889494&type=01&language=es_ES',\n",
       " 'https://portaldogc.gencat.cat/utilsEADOP/AppJava/PdfProviderServlet?documentId=889473&type=01&language=es_ES',\n",
       " 'https://portaldogc.gencat.cat/utilsEADOP/AppJava/PdfProviderServlet?documentId=889510&type=01&language=es_ES',\n",
       " 'https://portaldogc.gencat.cat/utilsEADOP/AppJava/PdfProviderServlet?documentId=889484&type=01&language=es_ES',\n",
       " 'https://portaldogc.gencat.cat/utilsEADOP/AppJava/PdfProviderServlet?documentId=889534&type=01&language=es_ES',\n",
       " 'https://portaldogc.gencat.cat/utilsEADOP/AppJava/PdfProviderServlet?documentId=889479&type=01&language=es_ES',\n",
       " 'https://portaldogc.gencat.cat/utilsEADOP/AppJava/PdfProviderServlet?documentId=889500&type=01&language=es_ES',\n",
       " 'https://portaldogc.gencat.cat/utilsEADOP/AppJava/PdfProviderServlet?documentId=889514&type=01&language=es_ES',\n",
       " 'https://portaldogc.gencat.cat/utilsEADOP/AppJava/PdfProviderServlet?documentId=889520&type=01&language=es_ES',\n",
       " 'https://portaldogc.gencat.cat/utilsEADOP/AppJava/PdfProviderServlet?documentId=889504&type=01&language=es_ES',\n",
       " 'https://portaldogc.gencat.cat/utilsEADOP/AppJava/PdfProviderServlet?documentId=889475&type=01&language=es_ES',\n",
       " 'https://portaldogc.gencat.cat/utilsEADOP/AppJava/PdfProviderServlet?documentId=889465&type=01&language=es_ES',\n",
       " 'https://portaldogc.gencat.cat/utilsEADOP/AppJava/PdfProviderServlet?documentId=889499&type=01&language=es_ES',\n",
       " 'https://portaldogc.gencat.cat/utilsEADOP/AppJava/PdfProviderServlet?documentId=889533&type=01&language=es_ES',\n",
       " 'https://portaldogc.gencat.cat/utilsEADOP/AppJava/PdfProviderServlet?documentId=889461&type=01&language=es_ES']"
      ]
     },
     "metadata": {},
     "execution_count": 84
    }
   ],
   "source": [
    "pdf_link"
   ]
  },
  {
   "cell_type": "code",
   "execution_count": null,
   "metadata": {},
   "outputs": [],
   "source": []
  }
 ]
}