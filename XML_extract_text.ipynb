{
 "metadata": {
  "language_info": {
   "codemirror_mode": {
    "name": "ipython",
    "version": 3
   },
   "file_extension": ".py",
   "mimetype": "text/x-python",
   "name": "python",
   "nbconvert_exporter": "python",
   "pygments_lexer": "ipython3",
   "version": "3.8.5-final"
  },
  "orig_nbformat": 2,
  "kernelspec": {
   "name": "python3",
   "display_name": "Python 3",
   "language": "python"
  }
 },
 "nbformat": 4,
 "nbformat_minor": 2,
 "cells": [
  {
   "cell_type": "code",
   "execution_count": 1,
   "metadata": {},
   "outputs": [],
   "source": [
    "from lxml import etree, html\n",
    "import pandas as pd\n",
    "from datetime import date\n",
    "import requests\n",
    "import re"
   ]
  },
  {
   "cell_type": "code",
   "execution_count": 2,
   "metadata": {},
   "outputs": [],
   "source": [
    "doc = etree.parse('BOE-A-2020-14372.xml')"
   ]
  },
  {
   "cell_type": "code",
   "execution_count": 3,
   "metadata": {},
   "outputs": [],
   "source": [
    "#etree.tostring(doc,pretty_print=True ,xml_declaration=True, encoding=\"utf-8\")"
   ]
  },
  {
   "cell_type": "code",
   "execution_count": 4,
   "metadata": {},
   "outputs": [
    {
     "output_type": "execute_result",
     "data": {
      "text/plain": [
       "'documento'"
      ]
     },
     "metadata": {},
     "execution_count": 4
    }
   ],
   "source": [
    "raiz=doc.getroot()\n",
    "raiz.tag"
   ]
  },
  {
   "cell_type": "code",
   "execution_count": 5,
   "metadata": {},
   "outputs": [
    {
     "output_type": "execute_result",
     "data": {
      "text/plain": [
       "4"
      ]
     },
     "metadata": {},
     "execution_count": 5
    }
   ],
   "source": [
    "len(raiz)"
   ]
  },
  {
   "cell_type": "code",
   "execution_count": 6,
   "metadata": {},
   "outputs": [
    {
     "output_type": "execute_result",
     "data": {
      "text/plain": [
       "'metadatos'"
      ]
     },
     "metadata": {},
     "execution_count": 6
    }
   ],
   "source": [
    "libro=raiz[0]\n",
    "libro.tag"
   ]
  },
  {
   "cell_type": "code",
   "execution_count": 7,
   "metadata": {},
   "outputs": [
    {
     "output_type": "execute_result",
     "data": {
      "text/plain": [
       "'BOE-A-2020-14372'"
      ]
     },
     "metadata": {},
     "execution_count": 7
    }
   ],
   "source": [
    "libro=raiz[0]\n",
    "libro[0].text"
   ]
  },
  {
   "cell_type": "code",
   "execution_count": 8,
   "metadata": {},
   "outputs": [
    {
     "output_type": "execute_result",
     "data": {
      "text/plain": [
       "'{http://www.w3.org/1999/02/22-rdf-syntax-ns#}RDF'"
      ]
     },
     "metadata": {},
     "execution_count": 8
    }
   ],
   "source": [
    "libro=raiz[1]\n",
    "libro[0].tag"
   ]
  },
  {
   "cell_type": "code",
   "execution_count": 9,
   "metadata": {},
   "outputs": [
    {
     "output_type": "execute_result",
     "data": {
      "text/plain": [
       "'\\n            '"
      ]
     },
     "metadata": {},
     "execution_count": 9
    }
   ],
   "source": [
    "libro=raiz[1]\n",
    "libro[0].text"
   ]
  },
  {
   "cell_type": "code",
   "execution_count": 10,
   "metadata": {},
   "outputs": [],
   "source": [
    "Identificador=raiz.find(\"metadatos/identificador\")\n",
    "Titulo=raiz.find(\"metadatos/titulo\")\n",
    "URL_pdf=raiz.find(\"metadatos/url_pdf\")"
   ]
  },
  {
   "cell_type": "code",
   "execution_count": 11,
   "metadata": {},
   "outputs": [
    {
     "output_type": "stream",
     "name": "stdout",
     "text": [
      "BOE-A-2020-14372\nDecreto-ley 35/2020, de 20 de octubre, de modificación del Decreto-ley 19/2020, de 19 de mayo, y del Decreto-ley 29/2020, de 28 de julio, en materia de adopción de medidas sociales y sanitarias para paliar los efectos de la pandemia generada por la COVID-19.\nhttps://www.boe.es/boe/dias/2020/11/18/pdfs/BOE-A-2020-14372.pdf\n"
     ]
    }
   ],
   "source": [
    "print(Identificador.text)\n",
    "print(Titulo.text)\n",
    "print(\"https://www.boe.es\" + URL_pdf.text)\n"
   ]
  },
  {
   "cell_type": "code",
   "execution_count": 12,
   "metadata": {},
   "outputs": [
    {
     "output_type": "execute_result",
     "data": {
      "text/plain": [
       "'Asistencia sanitaria'"
      ]
     },
     "metadata": {},
     "execution_count": 12
    }
   ],
   "source": [
    "materia=raiz.find(\"analisis/materias/materia\")\n",
    "materia.text"
   ]
  },
  {
   "cell_type": "code",
   "execution_count": 13,
   "metadata": {},
   "outputs": [
    {
     "output_type": "stream",
     "name": "stdout",
     "text": [
      "Asistencia sanitaria\nAsistencia social\nAyudas\nCataluña\nCentros residenciales para personas con discapacidad\nEpidemias\nEstablecimientos residenciales para la Tercera Edad\nPagos\nServicios Sociales de las Comunidades Autónomas\n"
     ]
    }
   ],
   "source": [
    "materias=raiz.findall(\"analisis/materias/materia\")\n",
    "for materia in materias:\n",
    "    print(materia.text)"
   ]
  },
  {
   "cell_type": "code",
   "execution_count": 14,
   "metadata": {},
   "outputs": [
    {
     "output_type": "execute_result",
     "data": {
      "text/plain": [
       "list"
      ]
     },
     "metadata": {},
     "execution_count": 14
    }
   ],
   "source": [
    "type(materias)"
   ]
  },
  {
   "cell_type": "code",
   "execution_count": 15,
   "metadata": {},
   "outputs": [
    {
     "output_type": "stream",
     "name": "stdout",
     "text": [
      "Asuntos sociales\nSanidad\n"
     ]
    }
   ],
   "source": [
    "alertas=raiz.findall(\"analisis/alertas/alerta\")\n",
    "for alerta in alertas:\n",
    "    print(alerta.text)"
   ]
  },
  {
   "source": [
    "# Recoge resumen diario del BOE de hoy"
   ],
   "cell_type": "markdown",
   "metadata": {}
  },
  {
   "cell_type": "code",
   "execution_count": 16,
   "metadata": {},
   "outputs": [
    {
     "output_type": "stream",
     "name": "stdout",
     "text": [
      "Fecha de Hoy = 20210120\ndia = 20\nmes = 01\naño = 2021\n"
     ]
    }
   ],
   "source": [
    "\n",
    "today = date.today()\n",
    "\n",
    "# dd/mm/YYYY\n",
    "hoy = today.strftime(\"%Y%m%d\")\n",
    "print(\"Fecha de Hoy =\", hoy)\n",
    "\n",
    "# dd\n",
    "d = today.strftime(\"%d\")\n",
    "print(\"dia =\", d)\n",
    "\n",
    "# mm\n",
    "m = today.strftime(\"%m\")\n",
    "print(\"mes =\", m)\n",
    "\n",
    "# YYYY\n",
    "Y = today.strftime(\"%Y\")\n",
    "print(\"año =\", Y)\n",
    "\n"
   ]
  },
  {
   "cell_type": "code",
   "execution_count": 17,
   "metadata": {},
   "outputs": [],
   "source": [
    "URL_XML_resumen =  \"https://www.boe.es/diario_boe/xml.php?id=BOE-S-\" + str(hoy)"
   ]
  },
  {
   "cell_type": "code",
   "execution_count": 18,
   "metadata": {},
   "outputs": [
    {
     "output_type": "execute_result",
     "data": {
      "text/plain": [
       "'https://www.boe.es/diario_boe/xml.php?id=BOE-S-20210120'"
      ]
     },
     "metadata": {},
     "execution_count": 18
    }
   ],
   "source": [
    "URL_XML_resumen"
   ]
  },
  {
   "cell_type": "code",
   "execution_count": 19,
   "metadata": {},
   "outputs": [],
   "source": [
    "#pip install requests for installation\n",
    "\n",
    "\n",
    "\n",
    "url = URL_XML_resumen\n",
    "r = requests.get(url)\n",
    "#r.content\n",
    "#r.text"
   ]
  },
  {
   "cell_type": "code",
   "execution_count": 20,
   "metadata": {},
   "outputs": [],
   "source": [
    "def save_html(html, path):\n",
    "    with open(path, 'wb') as f:\n",
    "        f.write(html)\n",
    "        \n",
    "#save_html(r.content, './BOEs/resumen.xml')\n",
    "save_html(r.content, './BOEs/Resumen-BOE-' + hoy + '.xml')"
   ]
  },
  {
   "cell_type": "code",
   "execution_count": 21,
   "metadata": {},
   "outputs": [],
   "source": [
    "#r.encoding"
   ]
  },
  {
   "cell_type": "code",
   "execution_count": 22,
   "metadata": {},
   "outputs": [],
   "source": [
    "#resumen = etree.parse('./BOEs/resumen.xml')\n",
    "resumen = etree.parse('./BOEs/Resumen-BOE-' + hoy + '.xml')"
   ]
  },
  {
   "cell_type": "code",
   "execution_count": 23,
   "metadata": {},
   "outputs": [],
   "source": [
    "raiz=resumen.getroot()\n",
    "raiz.tag\n",
    "raiz_sumario = raiz"
   ]
  },
  {
   "cell_type": "code",
   "execution_count": 24,
   "metadata": {},
   "outputs": [
    {
     "output_type": "execute_result",
     "data": {
      "text/plain": [
       "[]"
      ]
     },
     "metadata": {},
     "execution_count": 24
    }
   ],
   "source": [
    "seccion = raiz.findall(\"sumario/diario/seccion\")\n",
    "seccion"
   ]
  },
  {
   "cell_type": "code",
   "execution_count": 25,
   "metadata": {},
   "outputs": [
    {
     "output_type": "stream",
     "name": "stdout",
     "text": [
      "['I. Disposiciones generales']\n['II. Autoridades y personal. - A. Nombramientos, situaciones e incidencias']\n['II. Autoridades y personal. - B. Oposiciones y concursos']\n['III. Otras disposiciones']\n['IV. Administración de Justicia']\n['V. Anuncios. - A. Contratación del Sector Público']\n['V. Anuncios. - B. Otros anuncios oficiales']\n"
     ]
    }
   ],
   "source": [
    "for seccion in raiz.xpath('//seccion'):\n",
    "    nombre_seccion = seccion.xpath('@nombre')\n",
    "    print(nombre_seccion)"
   ]
  },
  {
   "cell_type": "code",
   "execution_count": 26,
   "metadata": {},
   "outputs": [],
   "source": [
    "secciones = raiz.findall(\"sumario/diario/seccion\")\n",
    "for seccion in secciones:\n",
    "    print(seccion.text)"
   ]
  },
  {
   "cell_type": "code",
   "execution_count": 27,
   "metadata": {},
   "outputs": [],
   "source": [
    "tabla_resumen = pd.DataFrame()"
   ]
  },
  {
   "cell_type": "code",
   "execution_count": 28,
   "metadata": {},
   "outputs": [],
   "source": [
    "#for seccion in raiz.xpath('//seccion[contains(@nombre, \"III. Otras disposiciones\") or contains(@nombre, \"I. Disposiciones generales\")]'):\n",
    "for seccion in raiz.xpath('//seccion[contains(@nombre, \"I. Disposiciones generales\")]'):\n",
    "#for seccion in raiz.xpath('//seccion'):\n",
    "    nombre_seccion = seccion.xpath('@nombre')\n",
    "\n",
    "    for departamento in seccion:\n",
    "        nombre_departamento = departamento.xpath('@nombre') \n",
    "\n",
    "        for epigrafe in departamento:\n",
    "            nombre_epigrafe = epigrafe.xpath('@nombre')\n",
    "\n",
    "            for item in epigrafe:\n",
    "                item_id = item.xpath('@id')\n",
    "                item_name = item.xpath('.//titulo/text()') \n",
    "\n",
    "                item_urlXml = \"https://www.boe.es\" + str(item.xpath('.//urlXml/text()'))[2:-2]\n",
    "                #print(item_urlXml)\n",
    "\n",
    "                tabla_resumen = tabla_resumen.append({'Seccion': nombre_seccion, \n",
    "                                                      'Departamento': nombre_departamento, \n",
    "                                                      'Epigrafe' : nombre_epigrafe,\n",
    "                                                      'Item_id': item_id, \n",
    "                                                      'Item_Nombre' : item_name, \n",
    "                                                      'Item_URL_XML' : item_urlXml},\n",
    "                                                      ignore_index=True)\n"
   ]
  },
  {
   "cell_type": "code",
   "execution_count": 29,
   "metadata": {},
   "outputs": [
    {
     "output_type": "execute_result",
     "data": {
      "text/plain": [
       "                                        Departamento  \\\n",
       "0                              [JEFATURA DEL ESTADO]   \n",
       "1  [MINISTERIO DE AGRICULTURA, PESCA Y ALIMENTACIÓN]   \n",
       "2  [MINISTERIO DE AGRICULTURA, PESCA Y ALIMENTACIÓN]   \n",
       "3  [MINISTERIO PARA LA TRANSICIÓN ECOLÓGICA Y EL ...   \n",
       "4                  [COMUNIDAD AUTÓNOMA DE ANDALUCÍA]   \n",
       "\n",
       "                                         Epigrafe  \\\n",
       "0                              [Medidas urgentes]   \n",
       "1                                 [Sector lácteo]   \n",
       "2                                [Sanidad animal]   \n",
       "3  [Aparatos eléctricos y electrónicos. Residuos]   \n",
       "4                                  [Presupuestos]   \n",
       "\n",
       "                                         Item_Nombre  \\\n",
       "0  [Real Decreto-ley 1/2021, de 19 de enero, de p...   \n",
       "1  [Real Decreto 24/2021, de 19 de enero, por el ...   \n",
       "2  [Orden APA/19/2021, de 18 de enero, por la que...   \n",
       "3  [Real Decreto 27/2021, de 19 de enero, por el ...   \n",
       "4  [Ley 3/2020, de 28 de diciembre, del Presupues...   \n",
       "\n",
       "                                        Item_URL_XML           Item_id  \\\n",
       "0  https://www.boe.es/diario_boe/xml.php?id=BOE-A...  [BOE-A-2021-793]   \n",
       "1  https://www.boe.es/diario_boe/xml.php?id=BOE-A...  [BOE-A-2021-794]   \n",
       "2  https://www.boe.es/diario_boe/xml.php?id=BOE-A...  [BOE-A-2021-795]   \n",
       "3  https://www.boe.es/diario_boe/xml.php?id=BOE-A...  [BOE-A-2021-796]   \n",
       "4  https://www.boe.es/diario_boe/xml.php?id=BOE-A...  [BOE-A-2021-797]   \n",
       "\n",
       "                        Seccion  \n",
       "0  [I. Disposiciones generales]  \n",
       "1  [I. Disposiciones generales]  \n",
       "2  [I. Disposiciones generales]  \n",
       "3  [I. Disposiciones generales]  \n",
       "4  [I. Disposiciones generales]  "
      ],
      "text/html": "<div>\n<style scoped>\n    .dataframe tbody tr th:only-of-type {\n        vertical-align: middle;\n    }\n\n    .dataframe tbody tr th {\n        vertical-align: top;\n    }\n\n    .dataframe thead th {\n        text-align: right;\n    }\n</style>\n<table border=\"1\" class=\"dataframe\">\n  <thead>\n    <tr style=\"text-align: right;\">\n      <th></th>\n      <th>Departamento</th>\n      <th>Epigrafe</th>\n      <th>Item_Nombre</th>\n      <th>Item_URL_XML</th>\n      <th>Item_id</th>\n      <th>Seccion</th>\n    </tr>\n  </thead>\n  <tbody>\n    <tr>\n      <th>0</th>\n      <td>[JEFATURA DEL ESTADO]</td>\n      <td>[Medidas urgentes]</td>\n      <td>[Real Decreto-ley 1/2021, de 19 de enero, de p...</td>\n      <td>https://www.boe.es/diario_boe/xml.php?id=BOE-A...</td>\n      <td>[BOE-A-2021-793]</td>\n      <td>[I. Disposiciones generales]</td>\n    </tr>\n    <tr>\n      <th>1</th>\n      <td>[MINISTERIO DE AGRICULTURA, PESCA Y ALIMENTACIÓN]</td>\n      <td>[Sector lácteo]</td>\n      <td>[Real Decreto 24/2021, de 19 de enero, por el ...</td>\n      <td>https://www.boe.es/diario_boe/xml.php?id=BOE-A...</td>\n      <td>[BOE-A-2021-794]</td>\n      <td>[I. Disposiciones generales]</td>\n    </tr>\n    <tr>\n      <th>2</th>\n      <td>[MINISTERIO DE AGRICULTURA, PESCA Y ALIMENTACIÓN]</td>\n      <td>[Sanidad animal]</td>\n      <td>[Orden APA/19/2021, de 18 de enero, por la que...</td>\n      <td>https://www.boe.es/diario_boe/xml.php?id=BOE-A...</td>\n      <td>[BOE-A-2021-795]</td>\n      <td>[I. Disposiciones generales]</td>\n    </tr>\n    <tr>\n      <th>3</th>\n      <td>[MINISTERIO PARA LA TRANSICIÓN ECOLÓGICA Y EL ...</td>\n      <td>[Aparatos eléctricos y electrónicos. Residuos]</td>\n      <td>[Real Decreto 27/2021, de 19 de enero, por el ...</td>\n      <td>https://www.boe.es/diario_boe/xml.php?id=BOE-A...</td>\n      <td>[BOE-A-2021-796]</td>\n      <td>[I. Disposiciones generales]</td>\n    </tr>\n    <tr>\n      <th>4</th>\n      <td>[COMUNIDAD AUTÓNOMA DE ANDALUCÍA]</td>\n      <td>[Presupuestos]</td>\n      <td>[Ley 3/2020, de 28 de diciembre, del Presupues...</td>\n      <td>https://www.boe.es/diario_boe/xml.php?id=BOE-A...</td>\n      <td>[BOE-A-2021-797]</td>\n      <td>[I. Disposiciones generales]</td>\n    </tr>\n  </tbody>\n</table>\n</div>"
     },
     "metadata": {},
     "execution_count": 29
    }
   ],
   "source": [
    "tabla_resumen.sort_values('Item_id')"
   ]
  },
  {
   "source": [
    "# Descarga ficheros XML asociados"
   ],
   "cell_type": "markdown",
   "metadata": {}
  },
  {
   "cell_type": "code",
   "execution_count": 30,
   "metadata": {},
   "outputs": [
    {
     "output_type": "stream",
     "name": "stdout",
     "text": [
      "['https://www.boe.es/diario_boe/xml.php?id', 'BOE-A-2021-793']\n",
      "<re.Match object; span=(0, 14), match='BOE-A-2021-793'>\n",
      "['https://www.boe.es/diario_boe/xml.php?id', 'BOE-A-2021-794']\n",
      "<re.Match object; span=(0, 14), match='BOE-A-2021-794'>\n",
      "['https://www.boe.es/diario_boe/xml.php?id', 'BOE-A-2021-795']\n",
      "<re.Match object; span=(0, 14), match='BOE-A-2021-795'>\n",
      "['https://www.boe.es/diario_boe/xml.php?id', 'BOE-A-2021-796']\n",
      "<re.Match object; span=(0, 14), match='BOE-A-2021-796'>\n",
      "['https://www.boe.es/diario_boe/xml.php?id', 'BOE-A-2021-797']\n",
      "<re.Match object; span=(0, 14), match='BOE-A-2021-797'>\n"
     ]
    }
   ],
   "source": [
    "for item_URL in tabla_resumen['Item_URL_XML']:\n",
    "    #print(URL)\n",
    "    r = requests.get(item_URL)\n",
    "    #f = './BOEs/' + item_URL[-16:] + '.xml'\n",
    "    ### Separa el número del BOE del resto de la cadena y aplica expresión REGEX \n",
    "    print(item_URL.split('='))\n",
    "    print(re.match('BOE\\-A\\-[0-9]+\\-[0-9]+',item_URL.split('=')[1]))\n",
    "    filename = re.match('BOE\\-A\\-[0-9]+\\-[0-9]+',item_URL.split('=')[1]).group()\n",
    "    f = './BOEs/' + filename + '.xml'\n",
    "    save_html(r.content, f)"
   ]
  },
  {
   "cell_type": "code",
   "execution_count": 31,
   "metadata": {},
   "outputs": [
    {
     "output_type": "stream",
     "name": "stdout",
     "text": [
      "['./BOEs/BOE-A-2020-15394.xml', './BOEs/BOE-A-2020-16676.xml', './BOEs/BOE-A-2021-590.xml', './BOEs/BOE-A-2020-14465.xml', './BOEs/BOE-A-2020-14459.xml', './BOEs/BOE-A-2020-15237.xml', './BOEs/BOE-A-2020-15223.xml', './BOEs/BOE-A-2020-15222.xml', './BOEs/BOE-A-2020-15236.xml', './BOEs/BOE-A-2020-14458.xml', './BOEs/BOE-A-2020-14464.xml', './BOEs/BOE-A-2021-591.xml', './BOEs/BOE-A-2020-15395.xml', './BOEs/BOE-A-2021-793.xml', './BOEs/BOE-A-2020-15397.xml', './BOEs/BOE-A-2020-16675.xml', './BOEs/BOE-A-2021-587.xml', './BOEs/BOE-A-2020-14466.xml', './BOEs/BOE-A-2020-15208.xml', './BOEs/BOE-A-2020-14880.xml', './BOEs/BOE-A-2020-15220.xml', './BOEs/BOE-A-2020-15234.xml', './BOEs/BOE-A-2020-15235.xml', './BOEs/BOE-A-2020-15221.xml', './BOEs/BOE-A-2020-15209.xml', './BOEs/BOE-A-2020-14467.xml', './BOEs/BOE-A-2021-592.xml', './BOEs/BOE-A-2020-16674.xml', './BOEs/BOE-A-2020-15396.xml', './BOEs/BOE-A-2020-15392.xml', './BOEs/BOE-A-2021-794.xml', './BOEs/BOE-A-2020-16843.xml', './BOEs/BOE-A-2021-757.xml', './BOEs/BOE-A-2020-16670.xml', './BOEs/BOE-A-2020-14463.xml', './BOEs/BOE-A-2020-15225.xml', './BOEs/BOE-A-2020-15231.xml', './BOEs/BOE-A-2020-15219.xml', './BOEs/BOE-A-2020-15218.xml', './BOEs/BOE-A-2020-15230.xml', './BOEs/BOE-A-2020-15224.xml', './BOEs/BOE-A-2020-14462.xml', './BOEs/BOE-A-2020-16671.xml', './BOEs/BOE-A-2021-756.xml', './BOEs/BOE-A-2020-16842.xml', './BOEs/BOE-A-2021-795.xml', './BOEs/BOE-A-2020-15393.xml', './BOEs/BOE-A-2020-15391.xml', './BOEs/BOE-A-2021-797.xml', './BOEs/BOE-A-2020-16840.xml', './BOEs/BOE-A-2020-16673.xml', './BOEs/BOE-A-2020-14460.xml', './BOEs/BOE-A-2020-14879.xml', './BOEs/BOE-A-2020-15232.xml', './BOEs/BOE-A-2020-15226.xml', './BOEs/BOE-A-2020-15227.xml', './BOEs/BOE-A-2020-15233.xml', './BOEs/BOE-A-2020-14878.xml', './BOEs/BOE-A-2020-14461.xml', './BOEs/BOE-A-2020-16672.xml', './BOEs/BOE-A-2021-755.xml', './BOEs/BOE-A-2020-16841.xml', './BOEs/BOE-A-2021-796.xml', './BOEs/BOE-A-2020-15390.xml', './BOEs/BOE-A-2020-16832.xml', './BOEs/BOE-A-2020-14957.xml', './BOEs/BOE-A-2020-16826.xml', './BOEs/BOE-A-2021-518.xml', './BOEs/BOE-A-2021-524.xml', './BOEs/BOE-A-2020-15297.xml', './BOEs/BOE-A-2020-15283.xml', './BOEs/BOE-A-2020-15268.xml', './BOEs/BOE-A-2020-15254.xml', './BOEs/BOE-A-2020-15240.xml', './BOEs/BOE-A-2020-15241.xml', './BOEs/BOE-A-2020-15255.xml', './BOEs/BOE-A-2020-15269.xml', './BOEs/BOE-A-2020-15282.xml', './BOEs/BOE-A-2020-15296.xml', './BOEs/BOE-A-2020-16562.xml', './BOEs/BOE-A-2021-525.xml', './BOEs/BOE-A-2021-519.xml', './BOEs/BOE-A-2020-14956.xml', './BOEs/BOE-A-2020-16827.xml', './BOEs/BOE-A-2020-16833.xml', './BOEs/BOE-A-2020-16825.xml', './BOEs/BOE-A-2020-16831.xml', './BOEs/BOE-A-2021-527.xml', './BOEs/BOE-A-2020-15069.xml', './BOEs/BOE-A-2020-15280.xml', './BOEs/BOE-A-2020-15294.xml', './BOEs/BOE-A-2020-15243.xml', './BOEs/BOE-A-2020-15257.xml', './BOEs/BOE-A-2020-15256.xml', './BOEs/BOE-A-2020-15242.xml', './BOEs/BOE-A-2020-15295.xml', './BOEs/BOE-A-2020-15281.xml', './BOEs/BOE-A-2020-15068.xml', './BOEs/BOE-A-2020-16561.xml', './BOEs/BOE-A-2021-526.xml', './BOEs/BOE-A-2020-16830.xml', './BOEs/BOE-A-2020-16824.xml', './BOEs/BOE-A-2020-16834.xml', './BOEs/BOE-A-2021-522.xml', './BOEs/BOE-A-2020-15285.xml', './BOEs/BOE-A-2020-15291.xml', './BOEs/BOE-A-2020-15246.xml', './BOEs/BOE-A-2020-15252.xml', './BOEs/BOE-A-2020-15253.xml', './BOEs/BOE-A-2020-15247.xml', './BOEs/BOE-A-2020-15290.xml', './BOEs/BOE-A-2020-15284.xml', './BOEs/BOE-A-2021-523.xml', './BOEs/BOE-A-2020-16835.xml', './BOEs/BOE-A-2020-16837.xml', './BOEs/BOE-A-2020-16823.xml', './BOEs/BOE-A-2021-521.xml', './BOEs/BOE-A-2020-16348.xml', './BOEs/BOE-A-2020-17042.xml', './BOEs/BOE-A-2020-15292.xml', './BOEs/BOE-A-2020-15286.xml', './BOEs/BOE-A-2020-15251.xml', './BOEs/BOE-A-2020-15245.xml', './BOEs/BOE-A-2020-15279.xml', './BOEs/BOE-A-2020-15278.xml', './BOEs/BOE-A-2020-15244.xml', './BOEs/BOE-A-2020-15250.xml', './BOEs/BOE-A-2020-15287.xml', './BOEs/BOE-A-2020-15293.xml', './BOEs/BOE-A-2020-17043.xml', './BOEs/BOE-A-2021-520.xml', './BOEs/BOE-A-2020-16349.xml', './BOEs/BOE-A-2020-16836.xml', './BOEs/BOE-A-2020-14962.xml', './BOEs/BOE-A-2020-16350.xml', './BOEs/BOE-A-2020-15063.xml', './BOEs/BOE-A-2020-15249.xml', './BOEs/BOE-A-2020-15275.xml', './BOEs/BOE-A-2020-15261.xml', './BOEs/BOE-A-2020-15260.xml', './BOEs/BOE-A-2020-15274.xml', './BOEs/BOE-A-2020-15248.xml', './BOEs/BOE-A-2020-15062.xml', './BOEs/BOE-A-2020-16345.xml', './BOEs/BOE-A-2020-16351.xml', './BOEs/BOE-A-2021-712.xml', './BOEs/BOE-A-2020-14963.xml', './BOEs/BOE-A-2020-16838.xml', './BOEs/BOE-A-2020-14961.xml', './BOEs/BOE-A-2021-710.xml', './BOEs/BOE-A-2020-16347.xml', './BOEs/BOE-A-2020-16353.xml', './BOEs/BOE-A-2020-15289.xml', './BOEs/BOE-A-2020-15262.xml', './BOEs/BOE-A-2020-15276.xml', './BOEs/BOE-A-2020-15277.xml', './BOEs/BOE-A-2020-15263.xml', './BOEs/BOE-A-2020-15288.xml', './BOEs/BOE-A-2020-15061.xml', './BOEs/BOE-A-2020-16352.xml', './BOEs/BOE-A-2020-16346.xml', './BOEs/BOE-A-2021-711.xml', './BOEs/BOE-A-2020-14960.xml', './BOEs/BOE-A-2020-16839.xml', './BOEs/BOE-A-2020-14964.xml', './BOEs/BOE-A-2020-16829.xml', './BOEs/BOE-A-2020-14958.xml', './BOEs/BOE-A-2021-517.xml', './BOEs/BOE-A-2020-15065.xml', './BOEs/BOE-A-2020-15267.xml', './BOEs/BOE-A-2020-15273.xml', './BOEs/BOE-A-2020-15272.xml', './BOEs/BOE-A-2020-15266.xml', './BOEs/BOE-A-2020-15064.xml', './BOEs/BOE-A-2020-16828.xml', './BOEs/BOE-A-2020-14959.xml', './BOEs/BOE-A-2020-14965.xml', './BOEs/BOE-A-2021-528.xml', './BOEs/BOE-A-2020-15066.xml', './BOEs/BOE-A-2020-15270.xml', './BOEs/BOE-A-2020-15264.xml', './BOEs/BOE-A-2020-15258.xml', './BOEs/BOE-A-2020-15259.xml', './BOEs/BOE-A-2020-15265.xml', './BOEs/BOE-A-2020-15271.xml', './BOEs/BOE-A-2020-15067.xml', './BOEs/BOE-A-2020-15389.xml', './BOEs/BOE-A-2021-758.xml', './BOEs/BOE-A-2020-17207.xml', './BOEs/BOE-A-2020-14875.xml', './BOEs/BOE-A-2020-15216.xml', './BOEs/BOE-A-2020-15203.xml', './BOEs/BOE-A-2020-15217.xml', './BOEs/BOE-A-2020-17206.xml', './BOEs/BOE-A-2020-14876.xml', './BOEs/BOE-A-2020-15229.xml', './BOEs/BOE-A-2020-15215.xml', './BOEs/BOE-A-2020-15214.xml', './BOEs/BOE-A-2020-15228.xml', './BOEs/BOE-A-2020-14877.xml', './BOEs/BOE-A-2020-15402.xml', './BOEs/BOE-A-2020-15204.xml', './BOEs/BOE-A-2020-15210.xml', './BOEs/BOE-A-2020-15238.xml', './BOEs/BOE-A-2020-15239.xml', './BOEs/BOE-A-2020-15211.xml', './BOEs/BOE-A-2020-15205.xml', './BOEs/BOE-A-2020-14457.xml', './BOEs/BOE-A-2020-15403.xml', './BOEs/BOE-A-2020-15398.xml', './BOEs/BOE-A-2020-15401.xml', './BOEs/BOE-A-2021-588.xml', './BOEs/BOE-A-2020-15213.xml', './BOEs/BOE-A-2020-15207.xml', './BOEs/BOE-A-2020-15206.xml', './BOEs/BOE-A-2020-15212.xml', './BOEs/BOE-A-2021-589.xml', './BOEs/BOE-A-2020-15400.xml', './BOEs/BOE-A-2020-15399.xml']\n"
     ]
    }
   ],
   "source": [
    "\n",
    "import glob\n",
    "BOEs = glob.glob('./BOEs/BOE*.xml')\n",
    "print (BOEs)"
   ]
  },
  {
   "cell_type": "code",
   "execution_count": 32,
   "metadata": {},
   "outputs": [],
   "source": [
    "#import os\n",
    "#path = './BOEs'\n",
    "#BOEs = [f for f in os.listdir(path) if f.startswith('BOE')]\n",
    "#BOEs"
   ]
  },
  {
   "cell_type": "code",
   "execution_count": 33,
   "metadata": {},
   "outputs": [],
   "source": [
    "tabla_materias = pd.DataFrame()\n",
    "\n",
    "for BOE in BOEs:\n",
    "    #print (BOE)\n",
    "    BOE_XML = etree.parse(BOE)\n",
    "    raiz=BOE_XML.getroot()\n",
    "\n",
    "    materias = [materia.text for materia in raiz.findall('analisis/materias/materia')]\n",
    "    alertas = [alerta.text for alerta in raiz.findall('analisis/alertas/alerta')]\n",
    "    \n",
    "    referencias = [str(referencia.xpath('@referencia')).replace(\"['\",'').replace(\"']\",'') for referencia in raiz.findall('analisis/referencias/anteriores/anterior')]\n",
    "    referencias_palabras = [referencia.text for referencia in raiz.findall('analisis/referencias/anteriores/anterior/palabra')]\n",
    "    referencias_texto = [referencia.text for referencia in raiz.findall('analisis/referencias/anteriores/anterior/texto')]\n",
    "    \n",
    "    #Item_Id = '[' + BOE[7:23] + ']'\n",
    "    #Item_Id = raiz.find('metadatos/identificador')\n",
    "    Item_Id = raiz.xpath(\".//identificador/text()\")\n",
    " \n",
    "    #print(Item_Id, materias, alertas)\n",
    "    #tabla_materias.loc[['Item_id'], ['Materias']] = materias\n",
    "    \n",
    "    #tabla_materias = tabla_materias.append({'Item_id': Item_Id,\n",
    "    #                                        'Materias' : materias,\n",
    "    #                                        'Alertas' : alertas},\n",
    "    #                                        ignore_index=True)\n",
    "\n",
    "    tabla_materias = tabla_materias.append({'Item_id': Item_Id,\n",
    "                                            'Materias' : materias,\n",
    "                                            'Alertas' : alertas,\n",
    "                                            'Referencias' : referencias,\n",
    "                                            'Referencias_palabra' : referencias_palabras,\n",
    "                                            'Referencias_texto' : referencias_texto},\n",
    "                                            ignore_index=True)\n",
    "\n",
    "\n",
    "    #tabla_materias.Item_id.apply(list)\n",
    "    #fila_tabla = tabla_resumen.set_index('Item_id').filter(like=BOE[18:23], axis=0).reset_index()\n",
    "    #print(fila_tabla['Item_id'])\n",
    "\n",
    "    #tabla_resumen.loc[fila_tabla['Item_id']]['Materias'] = materias\n"
   ]
  },
  {
   "cell_type": "code",
   "execution_count": 34,
   "metadata": {},
   "outputs": [
    {
     "output_type": "execute_result",
     "data": {
      "text/plain": [
       "                                               Alertas             Item_id  \\\n",
       "207  [Relaciones internacionales, Sanidad, Sistema ...  [BOE-A-2020-14457]   \n",
       "9    [Educación y enseñanza, Relaciones internacion...  [BOE-A-2020-14458]   \n",
       "4    [Educación y enseñanza, Relaciones internacion...  [BOE-A-2020-14459]   \n",
       "51    [Administración de Justicia, Sistema financiero]  [BOE-A-2020-14460]   \n",
       "58                                [Sistema financiero]  [BOE-A-2020-14461]   \n",
       "..                                                 ...                 ...   \n",
       "13   [Asuntos sociales, Comercio, Consumidores y us...    [BOE-A-2021-793]   \n",
       "30   [Alimentación, Comercio, Derecho Administrativ...    [BOE-A-2021-794]   \n",
       "45              [Ganadería y animales, Medio ambiente]    [BOE-A-2021-795]   \n",
       "62   [Comercio, Consumidores y usuarios, Industria,...    [BOE-A-2021-796]   \n",
       "48   [Cultura y ocio, Derecho Administrativo, Sanid...    [BOE-A-2021-797]   \n",
       "\n",
       "                                              Materias  \\\n",
       "207  [Acuerdos internacionales, Créditos Presupuest...   \n",
       "9    [Acuerdos internacionales, Barcelona, Centros ...   \n",
       "4    [Acuerdos internacionales, Barcelona, Centros ...   \n",
       "51   [Ayuntamientos, Créditos Presupuestarios, Juzg...   \n",
       "58   [Administración y Contabilidad de la Hacienda ...   \n",
       "..                                                 ...   \n",
       "13   [Aguas residuales, Autoridades Portuarias, Com...   \n",
       "30   [Agencias estatales, Comercialización, Etiquet...   \n",
       "45   [Aves, Aves de corral, Comunidades Autónomas, ...   \n",
       "62   [Acumulador eléctrico, Aparatos de uso domésti...   \n",
       "48   [Acción concertada, Administración Local, Anda...   \n",
       "\n",
       "                                           Referencias  \\\n",
       "207                                 [BOE-A-2002-15339]   \n",
       "9                                   [BOE-A-2020-13842]   \n",
       "4                                   [BOE-A-2020-13843]   \n",
       "51   [BOE-A-2018-9268, BOE-A-1992-28826, BOE-A-1988...   \n",
       "58                                  [BOE-A-2003-21614]   \n",
       "..                                                 ...   \n",
       "13                [BOE-A-2020-17339, BOE-A-2001-14276]   \n",
       "30                                                  []   \n",
       "45                                                  []   \n",
       "62   [BOE-A-2020-7438, BOE-A-2018-9466, BOE-A-2008-...   \n",
       "48   [BOE-A-2018-1098, BOE-A-2016-957, BOE-A-2016-3...   \n",
       "\n",
       "                                   Referencias_palabra  \\\n",
       "207                               [DE CONFORMIDAD con]   \n",
       "9                              [CORRECCIÓN de errores]   \n",
       "4                              [CORRECCIÓN de errores]   \n",
       "51                    [DE CONFORMIDAD con, CITA, CITA]   \n",
       "58                                [DE CONFORMIDAD con]   \n",
       "..                                                 ...   \n",
       "13                                  [DEROGA, MODIFICA]   \n",
       "30                                                  []   \n",
       "45                                                  []   \n",
       "62   [MODIFICA, MODIFICA, MODIFICA, MODIFICA, TRANS...   \n",
       "48   [DEROGA, DEROGA, DEROGA, DEROGA, MODIFICA, MOD...   \n",
       "\n",
       "                                     Referencias_texto  \n",
       "207           [el Acuerdo de 12 de septiembre de 2001]  \n",
       "9    [, con rectificación del título, de las Notas ...  \n",
       "4    [, con rectificación del título, de las Notas ...  \n",
       "51   [la Ley 6/2018, de 3 de julio, Ley 39/1992, de...  \n",
       "58                [la Ley 47/2003, de 26 de noviembre]  \n",
       "..                                                 ...  \n",
       "13   [la disposición adicional 6 y MODIFICA el anex...  \n",
       "30                                                  []  \n",
       "45                                                  []  \n",
       "62   [el art. 17.3 del Real Decreto 646/2020, de 7 ...  \n",
       "48   [la disposición adicional 11 de la Ley 5/2017,...  \n",
       "\n",
       "[219 rows x 6 columns]"
      ],
      "text/html": "<div>\n<style scoped>\n    .dataframe tbody tr th:only-of-type {\n        vertical-align: middle;\n    }\n\n    .dataframe tbody tr th {\n        vertical-align: top;\n    }\n\n    .dataframe thead th {\n        text-align: right;\n    }\n</style>\n<table border=\"1\" class=\"dataframe\">\n  <thead>\n    <tr style=\"text-align: right;\">\n      <th></th>\n      <th>Alertas</th>\n      <th>Item_id</th>\n      <th>Materias</th>\n      <th>Referencias</th>\n      <th>Referencias_palabra</th>\n      <th>Referencias_texto</th>\n    </tr>\n  </thead>\n  <tbody>\n    <tr>\n      <th>207</th>\n      <td>[Relaciones internacionales, Sanidad, Sistema ...</td>\n      <td>[BOE-A-2020-14457]</td>\n      <td>[Acuerdos internacionales, Créditos Presupuest...</td>\n      <td>[BOE-A-2002-15339]</td>\n      <td>[DE CONFORMIDAD con]</td>\n      <td>[el Acuerdo de 12 de septiembre de 2001]</td>\n    </tr>\n    <tr>\n      <th>9</th>\n      <td>[Educación y enseñanza, Relaciones internacion...</td>\n      <td>[BOE-A-2020-14458]</td>\n      <td>[Acuerdos internacionales, Barcelona, Centros ...</td>\n      <td>[BOE-A-2020-13842]</td>\n      <td>[CORRECCIÓN de errores]</td>\n      <td>[, con rectificación del título, de las Notas ...</td>\n    </tr>\n    <tr>\n      <th>4</th>\n      <td>[Educación y enseñanza, Relaciones internacion...</td>\n      <td>[BOE-A-2020-14459]</td>\n      <td>[Acuerdos internacionales, Barcelona, Centros ...</td>\n      <td>[BOE-A-2020-13843]</td>\n      <td>[CORRECCIÓN de errores]</td>\n      <td>[, con rectificación del título, de las Notas ...</td>\n    </tr>\n    <tr>\n      <th>51</th>\n      <td>[Administración de Justicia, Sistema financiero]</td>\n      <td>[BOE-A-2020-14460]</td>\n      <td>[Ayuntamientos, Créditos Presupuestarios, Juzg...</td>\n      <td>[BOE-A-2018-9268, BOE-A-1992-28826, BOE-A-1988...</td>\n      <td>[DE CONFORMIDAD con, CITA, CITA]</td>\n      <td>[la Ley 6/2018, de 3 de julio, Ley 39/1992, de...</td>\n    </tr>\n    <tr>\n      <th>58</th>\n      <td>[Sistema financiero]</td>\n      <td>[BOE-A-2020-14461]</td>\n      <td>[Administración y Contabilidad de la Hacienda ...</td>\n      <td>[BOE-A-2003-21614]</td>\n      <td>[DE CONFORMIDAD con]</td>\n      <td>[la Ley 47/2003, de 26 de noviembre]</td>\n    </tr>\n    <tr>\n      <th>...</th>\n      <td>...</td>\n      <td>...</td>\n      <td>...</td>\n      <td>...</td>\n      <td>...</td>\n      <td>...</td>\n    </tr>\n    <tr>\n      <th>13</th>\n      <td>[Asuntos sociales, Comercio, Consumidores y us...</td>\n      <td>[BOE-A-2021-793]</td>\n      <td>[Aguas residuales, Autoridades Portuarias, Com...</td>\n      <td>[BOE-A-2020-17339, BOE-A-2001-14276]</td>\n      <td>[DEROGA, MODIFICA]</td>\n      <td>[la disposición adicional 6 y MODIFICA el anex...</td>\n    </tr>\n    <tr>\n      <th>30</th>\n      <td>[Alimentación, Comercio, Derecho Administrativ...</td>\n      <td>[BOE-A-2021-794]</td>\n      <td>[Agencias estatales, Comercialización, Etiquet...</td>\n      <td>[]</td>\n      <td>[]</td>\n      <td>[]</td>\n    </tr>\n    <tr>\n      <th>45</th>\n      <td>[Ganadería y animales, Medio ambiente]</td>\n      <td>[BOE-A-2021-795]</td>\n      <td>[Aves, Aves de corral, Comunidades Autónomas, ...</td>\n      <td>[]</td>\n      <td>[]</td>\n      <td>[]</td>\n    </tr>\n    <tr>\n      <th>62</th>\n      <td>[Comercio, Consumidores y usuarios, Industria,...</td>\n      <td>[BOE-A-2021-796]</td>\n      <td>[Acumulador eléctrico, Aparatos de uso domésti...</td>\n      <td>[BOE-A-2020-7438, BOE-A-2018-9466, BOE-A-2008-...</td>\n      <td>[MODIFICA, MODIFICA, MODIFICA, MODIFICA, TRANS...</td>\n      <td>[el art. 17.3 del Real Decreto 646/2020, de 7 ...</td>\n    </tr>\n    <tr>\n      <th>48</th>\n      <td>[Cultura y ocio, Derecho Administrativo, Sanid...</td>\n      <td>[BOE-A-2021-797]</td>\n      <td>[Acción concertada, Administración Local, Anda...</td>\n      <td>[BOE-A-2018-1098, BOE-A-2016-957, BOE-A-2016-3...</td>\n      <td>[DEROGA, DEROGA, DEROGA, DEROGA, MODIFICA, MOD...</td>\n      <td>[la disposición adicional 11 de la Ley 5/2017,...</td>\n    </tr>\n  </tbody>\n</table>\n<p>219 rows × 6 columns</p>\n</div>"
     },
     "metadata": {},
     "execution_count": 34
    }
   ],
   "source": [
    "tabla_materias.sort_values('Item_id')"
   ]
  },
  {
   "cell_type": "code",
   "execution_count": 35,
   "metadata": {},
   "outputs": [
    {
     "output_type": "stream",
     "name": "stdout",
     "text": [
      "documento\n"
     ]
    }
   ],
   "source": [
    "print(raiz.tag)"
   ]
  },
  {
   "cell_type": "code",
   "execution_count": 36,
   "metadata": {},
   "outputs": [
    {
     "output_type": "stream",
     "name": "stdout",
     "text": [
      "[]\n"
     ]
    }
   ],
   "source": [
    "for materias in raiz.xpath('.//materias'):\n",
    "    materia = seccion.xpath('.//materia/text()')\n",
    "    print(materia)"
   ]
  },
  {
   "cell_type": "code",
   "execution_count": 37,
   "metadata": {},
   "outputs": [
    {
     "output_type": "stream",
     "name": "stdout",
     "text": [
      "Asociaciones\nFundaciones\nMedio ambiente\nMinisterio para la Transición Ecológica y el Reto Demográfico\nSubvenciones\n"
     ]
    }
   ],
   "source": [
    "materias=raiz.findall(\"analisis/materias/materia\")\n",
    "for materia in materias:\n",
    "    print(materia.text)"
   ]
  },
  {
   "cell_type": "code",
   "execution_count": 38,
   "metadata": {},
   "outputs": [
    {
     "output_type": "stream",
     "name": "stdout",
     "text": [
      "Medio ambiente\n"
     ]
    }
   ],
   "source": [
    "alertas=raiz.findall(\"analisis/alertas/alerta\")\n",
    "for alerta in alertas:\n",
    "    print(alerta.text)"
   ]
  },
  {
   "cell_type": "code",
   "execution_count": 39,
   "metadata": {},
   "outputs": [
    {
     "output_type": "stream",
     "name": "stdout",
     "text": [
      "Empty DataFrame\nColumns: [Departamento, Epigrafe, Item_Nombre, Item_URL_XML, Item_id, Seccion]\nIndex: []\n"
     ]
    }
   ],
   "source": [
    "#tabla_resumen.loc[tabla_resumen['Item_id'] == '[' + BOE[7:23] + ']']\n",
    "print(tabla_resumen.loc[tabla_resumen['Item_id'] == '[BOE-A-2020-14457]'])"
   ]
  },
  {
   "cell_type": "code",
   "execution_count": 40,
   "metadata": {},
   "outputs": [
    {
     "output_type": "execute_result",
     "data": {
      "text/plain": [
       "'BOE-A-2020-15399'"
      ]
     },
     "metadata": {},
     "execution_count": 40
    }
   ],
   "source": [
    "BOE[7:23]"
   ]
  },
  {
   "cell_type": "code",
   "execution_count": 41,
   "metadata": {},
   "outputs": [
    {
     "output_type": "execute_result",
     "data": {
      "text/plain": [
       "0    [BOE-A-2021-793]\n",
       "1    [BOE-A-2021-794]\n",
       "2    [BOE-A-2021-795]\n",
       "3    [BOE-A-2021-796]\n",
       "4    [BOE-A-2021-797]\n",
       "Name: Item_id, dtype: object"
      ]
     },
     "metadata": {},
     "execution_count": 41
    }
   ],
   "source": [
    "tabla_resumen['Item_id']"
   ]
  },
  {
   "cell_type": "code",
   "execution_count": 42,
   "metadata": {},
   "outputs": [
    {
     "output_type": "execute_result",
     "data": {
      "text/plain": [
       "0      [BOE-A-2020-15394]\n",
       "1      [BOE-A-2020-16676]\n",
       "2        [BOE-A-2021-590]\n",
       "3      [BOE-A-2020-14465]\n",
       "4      [BOE-A-2020-14459]\n",
       "              ...        \n",
       "214    [BOE-A-2020-15206]\n",
       "215    [BOE-A-2020-15212]\n",
       "216      [BOE-A-2021-589]\n",
       "217    [BOE-A-2020-15400]\n",
       "218    [BOE-A-2020-15399]\n",
       "Name: Item_id, Length: 219, dtype: object"
      ]
     },
     "metadata": {},
     "execution_count": 42
    }
   ],
   "source": [
    "tabla_materias['Item_id']"
   ]
  },
  {
   "cell_type": "code",
   "execution_count": 43,
   "metadata": {},
   "outputs": [
    {
     "output_type": "execute_result",
     "data": {
      "text/plain": [
       "Departamento    object\n",
       "Epigrafe        object\n",
       "Item_Nombre     object\n",
       "Item_URL_XML    object\n",
       "Item_id         object\n",
       "Seccion         object\n",
       "dtype: object"
      ]
     },
     "metadata": {},
     "execution_count": 43
    }
   ],
   "source": [
    "tabla_resumen.dtypes"
   ]
  },
  {
   "cell_type": "code",
   "execution_count": 44,
   "metadata": {},
   "outputs": [
    {
     "output_type": "execute_result",
     "data": {
      "text/plain": [
       "Empty DataFrame\n",
       "Columns: [Departamento, Epigrafe, Item_Nombre, Item_URL_XML, Seccion]\n",
       "Index: []"
      ],
      "text/html": "<div>\n<style scoped>\n    .dataframe tbody tr th:only-of-type {\n        vertical-align: middle;\n    }\n\n    .dataframe tbody tr th {\n        vertical-align: top;\n    }\n\n    .dataframe thead th {\n        text-align: right;\n    }\n</style>\n<table border=\"1\" class=\"dataframe\">\n  <thead>\n    <tr style=\"text-align: right;\">\n      <th></th>\n      <th>Departamento</th>\n      <th>Epigrafe</th>\n      <th>Item_Nombre</th>\n      <th>Item_URL_XML</th>\n      <th>Seccion</th>\n    </tr>\n    <tr>\n      <th>Item_id</th>\n      <th></th>\n      <th></th>\n      <th></th>\n      <th></th>\n      <th></th>\n    </tr>\n  </thead>\n  <tbody>\n  </tbody>\n</table>\n</div>"
     },
     "metadata": {},
     "execution_count": 44
    }
   ],
   "source": [
    "tabla_resumen.set_index('Item_id').filter(like='14875', axis=0)"
   ]
  },
  {
   "cell_type": "code",
   "execution_count": 45,
   "metadata": {},
   "outputs": [],
   "source": [
    "#tabla_resumen = tabla_resumen.astype(str)\n",
    "#tabla_resumen['Joined'] = tabla_resumen.Item_id.apply(', '.join)\n",
    "#tabla_resumen['Item_id']=tabla_resumen['Item_id']"
   ]
  },
  {
   "cell_type": "code",
   "execution_count": 46,
   "metadata": {},
   "outputs": [
    {
     "output_type": "execute_result",
     "data": {
      "text/plain": [
       "Departamento    object\n",
       "Epigrafe        object\n",
       "Item_Nombre     object\n",
       "Item_URL_XML    object\n",
       "Item_id         object\n",
       "Seccion         object\n",
       "dtype: object"
      ]
     },
     "metadata": {},
     "execution_count": 46
    }
   ],
   "source": [
    "tabla_resumen.dtypes"
   ]
  },
  {
   "cell_type": "code",
   "execution_count": 47,
   "metadata": {},
   "outputs": [
    {
     "output_type": "execute_result",
     "data": {
      "text/plain": [
       "                                        Departamento  \\\n",
       "0                              [JEFATURA DEL ESTADO]   \n",
       "1  [MINISTERIO DE AGRICULTURA, PESCA Y ALIMENTACIÓN]   \n",
       "2  [MINISTERIO DE AGRICULTURA, PESCA Y ALIMENTACIÓN]   \n",
       "3  [MINISTERIO PARA LA TRANSICIÓN ECOLÓGICA Y EL ...   \n",
       "4                  [COMUNIDAD AUTÓNOMA DE ANDALUCÍA]   \n",
       "\n",
       "                                         Epigrafe  \\\n",
       "0                              [Medidas urgentes]   \n",
       "1                                 [Sector lácteo]   \n",
       "2                                [Sanidad animal]   \n",
       "3  [Aparatos eléctricos y electrónicos. Residuos]   \n",
       "4                                  [Presupuestos]   \n",
       "\n",
       "                                         Item_Nombre  \\\n",
       "0  [Real Decreto-ley 1/2021, de 19 de enero, de p...   \n",
       "1  [Real Decreto 24/2021, de 19 de enero, por el ...   \n",
       "2  [Orden APA/19/2021, de 18 de enero, por la que...   \n",
       "3  [Real Decreto 27/2021, de 19 de enero, por el ...   \n",
       "4  [Ley 3/2020, de 28 de diciembre, del Presupues...   \n",
       "\n",
       "                                        Item_URL_XML           Item_id  \\\n",
       "0  https://www.boe.es/diario_boe/xml.php?id=BOE-A...  [BOE-A-2021-793]   \n",
       "1  https://www.boe.es/diario_boe/xml.php?id=BOE-A...  [BOE-A-2021-794]   \n",
       "2  https://www.boe.es/diario_boe/xml.php?id=BOE-A...  [BOE-A-2021-795]   \n",
       "3  https://www.boe.es/diario_boe/xml.php?id=BOE-A...  [BOE-A-2021-796]   \n",
       "4  https://www.boe.es/diario_boe/xml.php?id=BOE-A...  [BOE-A-2021-797]   \n",
       "\n",
       "                        Seccion  \n",
       "0  [I. Disposiciones generales]  \n",
       "1  [I. Disposiciones generales]  \n",
       "2  [I. Disposiciones generales]  \n",
       "3  [I. Disposiciones generales]  \n",
       "4  [I. Disposiciones generales]  "
      ],
      "text/html": "<div>\n<style scoped>\n    .dataframe tbody tr th:only-of-type {\n        vertical-align: middle;\n    }\n\n    .dataframe tbody tr th {\n        vertical-align: top;\n    }\n\n    .dataframe thead th {\n        text-align: right;\n    }\n</style>\n<table border=\"1\" class=\"dataframe\">\n  <thead>\n    <tr style=\"text-align: right;\">\n      <th></th>\n      <th>Departamento</th>\n      <th>Epigrafe</th>\n      <th>Item_Nombre</th>\n      <th>Item_URL_XML</th>\n      <th>Item_id</th>\n      <th>Seccion</th>\n    </tr>\n  </thead>\n  <tbody>\n    <tr>\n      <th>0</th>\n      <td>[JEFATURA DEL ESTADO]</td>\n      <td>[Medidas urgentes]</td>\n      <td>[Real Decreto-ley 1/2021, de 19 de enero, de p...</td>\n      <td>https://www.boe.es/diario_boe/xml.php?id=BOE-A...</td>\n      <td>[BOE-A-2021-793]</td>\n      <td>[I. Disposiciones generales]</td>\n    </tr>\n    <tr>\n      <th>1</th>\n      <td>[MINISTERIO DE AGRICULTURA, PESCA Y ALIMENTACIÓN]</td>\n      <td>[Sector lácteo]</td>\n      <td>[Real Decreto 24/2021, de 19 de enero, por el ...</td>\n      <td>https://www.boe.es/diario_boe/xml.php?id=BOE-A...</td>\n      <td>[BOE-A-2021-794]</td>\n      <td>[I. Disposiciones generales]</td>\n    </tr>\n    <tr>\n      <th>2</th>\n      <td>[MINISTERIO DE AGRICULTURA, PESCA Y ALIMENTACIÓN]</td>\n      <td>[Sanidad animal]</td>\n      <td>[Orden APA/19/2021, de 18 de enero, por la que...</td>\n      <td>https://www.boe.es/diario_boe/xml.php?id=BOE-A...</td>\n      <td>[BOE-A-2021-795]</td>\n      <td>[I. Disposiciones generales]</td>\n    </tr>\n    <tr>\n      <th>3</th>\n      <td>[MINISTERIO PARA LA TRANSICIÓN ECOLÓGICA Y EL ...</td>\n      <td>[Aparatos eléctricos y electrónicos. Residuos]</td>\n      <td>[Real Decreto 27/2021, de 19 de enero, por el ...</td>\n      <td>https://www.boe.es/diario_boe/xml.php?id=BOE-A...</td>\n      <td>[BOE-A-2021-796]</td>\n      <td>[I. Disposiciones generales]</td>\n    </tr>\n    <tr>\n      <th>4</th>\n      <td>[COMUNIDAD AUTÓNOMA DE ANDALUCÍA]</td>\n      <td>[Presupuestos]</td>\n      <td>[Ley 3/2020, de 28 de diciembre, del Presupues...</td>\n      <td>https://www.boe.es/diario_boe/xml.php?id=BOE-A...</td>\n      <td>[BOE-A-2021-797]</td>\n      <td>[I. Disposiciones generales]</td>\n    </tr>\n  </tbody>\n</table>\n</div>"
     },
     "metadata": {},
     "execution_count": 47
    }
   ],
   "source": [
    "tabla_resumen.sort_values('Item_id')"
   ]
  },
  {
   "cell_type": "code",
   "execution_count": 48,
   "metadata": {},
   "outputs": [],
   "source": [
    "#for row in tabla_resumen:\n",
    "#    tabla_resumen.loc[row['Item_id']]['Materias'] = tabla_materias.loc[row['Item_id']]['Materias']"
   ]
  },
  {
   "cell_type": "code",
   "execution_count": 49,
   "metadata": {},
   "outputs": [],
   "source": [
    "tabla_resumen['Item_id'] = tabla_resumen['Item_id'].astype(str)\n",
    "tabla_materias['Item_id'] = tabla_materias['Item_id'].astype(str)\n",
    "tabla_resultados = tabla_resumen.set_index('Item_id').join(tabla_materias.set_index('Item_id'))\n"
   ]
  },
  {
   "cell_type": "code",
   "execution_count": 50,
   "metadata": {},
   "outputs": [
    {
     "output_type": "execute_result",
     "data": {
      "text/plain": [
       "                                                         Departamento  \\\n",
       "Item_id                                                                 \n",
       "['BOE-A-2021-793']                              [JEFATURA DEL ESTADO]   \n",
       "['BOE-A-2021-794']  [MINISTERIO DE AGRICULTURA, PESCA Y ALIMENTACIÓN]   \n",
       "['BOE-A-2021-795']  [MINISTERIO DE AGRICULTURA, PESCA Y ALIMENTACIÓN]   \n",
       "['BOE-A-2021-796']  [MINISTERIO PARA LA TRANSICIÓN ECOLÓGICA Y EL ...   \n",
       "['BOE-A-2021-797']                  [COMUNIDAD AUTÓNOMA DE ANDALUCÍA]   \n",
       "\n",
       "                                                          Epigrafe  \\\n",
       "Item_id                                                              \n",
       "['BOE-A-2021-793']                              [Medidas urgentes]   \n",
       "['BOE-A-2021-794']                                 [Sector lácteo]   \n",
       "['BOE-A-2021-795']                                [Sanidad animal]   \n",
       "['BOE-A-2021-796']  [Aparatos eléctricos y electrónicos. Residuos]   \n",
       "['BOE-A-2021-797']                                  [Presupuestos]   \n",
       "\n",
       "                                                          Item_Nombre  \\\n",
       "Item_id                                                                 \n",
       "['BOE-A-2021-793']  [Real Decreto-ley 1/2021, de 19 de enero, de p...   \n",
       "['BOE-A-2021-794']  [Real Decreto 24/2021, de 19 de enero, por el ...   \n",
       "['BOE-A-2021-795']  [Orden APA/19/2021, de 18 de enero, por la que...   \n",
       "['BOE-A-2021-796']  [Real Decreto 27/2021, de 19 de enero, por el ...   \n",
       "['BOE-A-2021-797']  [Ley 3/2020, de 28 de diciembre, del Presupues...   \n",
       "\n",
       "                                                         Item_URL_XML  \\\n",
       "Item_id                                                                 \n",
       "['BOE-A-2021-793']  https://www.boe.es/diario_boe/xml.php?id=BOE-A...   \n",
       "['BOE-A-2021-794']  https://www.boe.es/diario_boe/xml.php?id=BOE-A...   \n",
       "['BOE-A-2021-795']  https://www.boe.es/diario_boe/xml.php?id=BOE-A...   \n",
       "['BOE-A-2021-796']  https://www.boe.es/diario_boe/xml.php?id=BOE-A...   \n",
       "['BOE-A-2021-797']  https://www.boe.es/diario_boe/xml.php?id=BOE-A...   \n",
       "\n",
       "                                         Seccion  \\\n",
       "Item_id                                            \n",
       "['BOE-A-2021-793']  [I. Disposiciones generales]   \n",
       "['BOE-A-2021-794']  [I. Disposiciones generales]   \n",
       "['BOE-A-2021-795']  [I. Disposiciones generales]   \n",
       "['BOE-A-2021-796']  [I. Disposiciones generales]   \n",
       "['BOE-A-2021-797']  [I. Disposiciones generales]   \n",
       "\n",
       "                                                              Alertas  \\\n",
       "Item_id                                                                 \n",
       "['BOE-A-2021-793']  [Asuntos sociales, Comercio, Consumidores y us...   \n",
       "['BOE-A-2021-794']  [Alimentación, Comercio, Derecho Administrativ...   \n",
       "['BOE-A-2021-795']             [Ganadería y animales, Medio ambiente]   \n",
       "['BOE-A-2021-796']  [Comercio, Consumidores y usuarios, Industria,...   \n",
       "['BOE-A-2021-797']  [Cultura y ocio, Derecho Administrativo, Sanid...   \n",
       "\n",
       "                                                             Materias  \\\n",
       "Item_id                                                                 \n",
       "['BOE-A-2021-793']  [Aguas residuales, Autoridades Portuarias, Com...   \n",
       "['BOE-A-2021-794']  [Agencias estatales, Comercialización, Etiquet...   \n",
       "['BOE-A-2021-795']  [Aves, Aves de corral, Comunidades Autónomas, ...   \n",
       "['BOE-A-2021-796']  [Acumulador eléctrico, Aparatos de uso domésti...   \n",
       "['BOE-A-2021-797']  [Acción concertada, Administración Local, Anda...   \n",
       "\n",
       "                                                          Referencias  \\\n",
       "Item_id                                                                 \n",
       "['BOE-A-2021-793']               [BOE-A-2020-17339, BOE-A-2001-14276]   \n",
       "['BOE-A-2021-794']                                                 []   \n",
       "['BOE-A-2021-795']                                                 []   \n",
       "['BOE-A-2021-796']  [BOE-A-2020-7438, BOE-A-2018-9466, BOE-A-2008-...   \n",
       "['BOE-A-2021-797']  [BOE-A-2018-1098, BOE-A-2016-957, BOE-A-2016-3...   \n",
       "\n",
       "                                                  Referencias_palabra  \\\n",
       "Item_id                                                                 \n",
       "['BOE-A-2021-793']                                 [DEROGA, MODIFICA]   \n",
       "['BOE-A-2021-794']                                                 []   \n",
       "['BOE-A-2021-795']                                                 []   \n",
       "['BOE-A-2021-796']  [MODIFICA, MODIFICA, MODIFICA, MODIFICA, TRANS...   \n",
       "['BOE-A-2021-797']  [DEROGA, DEROGA, DEROGA, DEROGA, MODIFICA, MOD...   \n",
       "\n",
       "                                                    Referencias_texto  \n",
       "Item_id                                                                \n",
       "['BOE-A-2021-793']  [la disposición adicional 6 y MODIFICA el anex...  \n",
       "['BOE-A-2021-794']                                                 []  \n",
       "['BOE-A-2021-795']                                                 []  \n",
       "['BOE-A-2021-796']  [el art. 17.3 del Real Decreto 646/2020, de 7 ...  \n",
       "['BOE-A-2021-797']  [la disposición adicional 11 de la Ley 5/2017,...  "
      ],
      "text/html": "<div>\n<style scoped>\n    .dataframe tbody tr th:only-of-type {\n        vertical-align: middle;\n    }\n\n    .dataframe tbody tr th {\n        vertical-align: top;\n    }\n\n    .dataframe thead th {\n        text-align: right;\n    }\n</style>\n<table border=\"1\" class=\"dataframe\">\n  <thead>\n    <tr style=\"text-align: right;\">\n      <th></th>\n      <th>Departamento</th>\n      <th>Epigrafe</th>\n      <th>Item_Nombre</th>\n      <th>Item_URL_XML</th>\n      <th>Seccion</th>\n      <th>Alertas</th>\n      <th>Materias</th>\n      <th>Referencias</th>\n      <th>Referencias_palabra</th>\n      <th>Referencias_texto</th>\n    </tr>\n    <tr>\n      <th>Item_id</th>\n      <th></th>\n      <th></th>\n      <th></th>\n      <th></th>\n      <th></th>\n      <th></th>\n      <th></th>\n      <th></th>\n      <th></th>\n      <th></th>\n    </tr>\n  </thead>\n  <tbody>\n    <tr>\n      <th>['BOE-A-2021-793']</th>\n      <td>[JEFATURA DEL ESTADO]</td>\n      <td>[Medidas urgentes]</td>\n      <td>[Real Decreto-ley 1/2021, de 19 de enero, de p...</td>\n      <td>https://www.boe.es/diario_boe/xml.php?id=BOE-A...</td>\n      <td>[I. Disposiciones generales]</td>\n      <td>[Asuntos sociales, Comercio, Consumidores y us...</td>\n      <td>[Aguas residuales, Autoridades Portuarias, Com...</td>\n      <td>[BOE-A-2020-17339, BOE-A-2001-14276]</td>\n      <td>[DEROGA, MODIFICA]</td>\n      <td>[la disposición adicional 6 y MODIFICA el anex...</td>\n    </tr>\n    <tr>\n      <th>['BOE-A-2021-794']</th>\n      <td>[MINISTERIO DE AGRICULTURA, PESCA Y ALIMENTACIÓN]</td>\n      <td>[Sector lácteo]</td>\n      <td>[Real Decreto 24/2021, de 19 de enero, por el ...</td>\n      <td>https://www.boe.es/diario_boe/xml.php?id=BOE-A...</td>\n      <td>[I. Disposiciones generales]</td>\n      <td>[Alimentación, Comercio, Derecho Administrativ...</td>\n      <td>[Agencias estatales, Comercialización, Etiquet...</td>\n      <td>[]</td>\n      <td>[]</td>\n      <td>[]</td>\n    </tr>\n    <tr>\n      <th>['BOE-A-2021-795']</th>\n      <td>[MINISTERIO DE AGRICULTURA, PESCA Y ALIMENTACIÓN]</td>\n      <td>[Sanidad animal]</td>\n      <td>[Orden APA/19/2021, de 18 de enero, por la que...</td>\n      <td>https://www.boe.es/diario_boe/xml.php?id=BOE-A...</td>\n      <td>[I. Disposiciones generales]</td>\n      <td>[Ganadería y animales, Medio ambiente]</td>\n      <td>[Aves, Aves de corral, Comunidades Autónomas, ...</td>\n      <td>[]</td>\n      <td>[]</td>\n      <td>[]</td>\n    </tr>\n    <tr>\n      <th>['BOE-A-2021-796']</th>\n      <td>[MINISTERIO PARA LA TRANSICIÓN ECOLÓGICA Y EL ...</td>\n      <td>[Aparatos eléctricos y electrónicos. Residuos]</td>\n      <td>[Real Decreto 27/2021, de 19 de enero, por el ...</td>\n      <td>https://www.boe.es/diario_boe/xml.php?id=BOE-A...</td>\n      <td>[I. Disposiciones generales]</td>\n      <td>[Comercio, Consumidores y usuarios, Industria,...</td>\n      <td>[Acumulador eléctrico, Aparatos de uso domésti...</td>\n      <td>[BOE-A-2020-7438, BOE-A-2018-9466, BOE-A-2008-...</td>\n      <td>[MODIFICA, MODIFICA, MODIFICA, MODIFICA, TRANS...</td>\n      <td>[el art. 17.3 del Real Decreto 646/2020, de 7 ...</td>\n    </tr>\n    <tr>\n      <th>['BOE-A-2021-797']</th>\n      <td>[COMUNIDAD AUTÓNOMA DE ANDALUCÍA]</td>\n      <td>[Presupuestos]</td>\n      <td>[Ley 3/2020, de 28 de diciembre, del Presupues...</td>\n      <td>https://www.boe.es/diario_boe/xml.php?id=BOE-A...</td>\n      <td>[I. Disposiciones generales]</td>\n      <td>[Cultura y ocio, Derecho Administrativo, Sanid...</td>\n      <td>[Acción concertada, Administración Local, Anda...</td>\n      <td>[BOE-A-2018-1098, BOE-A-2016-957, BOE-A-2016-3...</td>\n      <td>[DEROGA, DEROGA, DEROGA, DEROGA, MODIFICA, MOD...</td>\n      <td>[la disposición adicional 11 de la Ley 5/2017,...</td>\n    </tr>\n  </tbody>\n</table>\n</div>"
     },
     "metadata": {},
     "execution_count": 50
    }
   ],
   "source": [
    "tabla_resultados"
   ]
  },
  {
   "cell_type": "code",
   "execution_count": 51,
   "metadata": {},
   "outputs": [],
   "source": [
    "#tabla_resultados.to_csv('./BOEs/Resultados.csv', index=False)\n",
    "tabla_resultados.to_csv('./BOEs/Resultados-BOE-' + hoy + '.csv', index=False)"
   ]
  },
  {
   "source": [
    "## Genera Split de ALertas y crea una fila para cada una"
   ],
   "cell_type": "markdown",
   "metadata": {}
  },
  {
   "source": [
    "### Los items sin Alerta se desechan"
   ],
   "cell_type": "markdown",
   "metadata": {}
  },
  {
   "cell_type": "code",
   "execution_count": 52,
   "metadata": {},
   "outputs": [],
   "source": [
    "# tabla_resultados.Alertas.apply(pd.Series)\\\n",
    "#     .merge(tabla_resultados, left_index = True, right_index = True) \\\n",
    "#         .drop([\"Alertas\"], axis = 1) \\\n",
    "#             .reset_index() \\\n",
    "#                 .melt(id_vars = ['Item_id','Item_Nombre','Seccion','Departamento','Epigrafe','Item_URL_XML','Materias','Referencias','Referencias_palabra','Referencias_texto'], value_name = \"Alerta\") \\\n",
    "#                     .drop(\"variable\", axis = 1) \\\n",
    "#                     .dropna() \\\n",
    "#                     .sort_values('Alerta')\n",
    "                            "
   ]
  },
  {
   "cell_type": "code",
   "execution_count": 53,
   "metadata": {},
   "outputs": [
    {
     "output_type": "execute_result",
     "data": {
      "text/plain": [
       "               Item_id                                        Item_Nombre  \\\n",
       "1   ['BOE-A-2021-794']  [Real Decreto 24/2021, de 19 de enero, por el ...   \n",
       "0   ['BOE-A-2021-793']  [Real Decreto-ley 1/2021, de 19 de enero, de p...   \n",
       "3   ['BOE-A-2021-796']  [Real Decreto 27/2021, de 19 de enero, por el ...   \n",
       "5   ['BOE-A-2021-793']  [Real Decreto-ley 1/2021, de 19 de enero, de p...   \n",
       "6   ['BOE-A-2021-794']  [Real Decreto 24/2021, de 19 de enero, por el ...   \n",
       "10  ['BOE-A-2021-793']  [Real Decreto-ley 1/2021, de 19 de enero, de p...   \n",
       "8   ['BOE-A-2021-796']  [Real Decreto 27/2021, de 19 de enero, por el ...   \n",
       "4   ['BOE-A-2021-797']  [Ley 3/2020, de 28 de diciembre, del Presupues...   \n",
       "9   ['BOE-A-2021-797']  [Ley 3/2020, de 28 de diciembre, del Presupues...   \n",
       "11  ['BOE-A-2021-794']  [Real Decreto 24/2021, de 19 de enero, por el ...   \n",
       "2   ['BOE-A-2021-795']  [Orden APA/19/2021, de 18 de enero, por la que...   \n",
       "13  ['BOE-A-2021-796']  [Real Decreto 27/2021, de 19 de enero, por el ...   \n",
       "15  ['BOE-A-2021-793']  [Real Decreto-ley 1/2021, de 19 de enero, de p...   \n",
       "18  ['BOE-A-2021-796']  [Real Decreto 27/2021, de 19 de enero, por el ...   \n",
       "7   ['BOE-A-2021-795']  [Orden APA/19/2021, de 18 de enero, por la que...   \n",
       "16  ['BOE-A-2021-794']  [Real Decreto 24/2021, de 19 de enero, por el ...   \n",
       "14  ['BOE-A-2021-797']  [Ley 3/2020, de 28 de diciembre, del Presupues...   \n",
       "19  ['BOE-A-2021-797']  [Ley 3/2020, de 28 de diciembre, del Presupues...   \n",
       "20  ['BOE-A-2021-793']  [Real Decreto-ley 1/2021, de 19 de enero, de p...   \n",
       "24  ['BOE-A-2021-797']  [Ley 3/2020, de 28 de diciembre, del Presupues...   \n",
       "29  ['BOE-A-2021-797']  [Ley 3/2020, de 28 de diciembre, del Presupues...   \n",
       "25  ['BOE-A-2021-793']  [Real Decreto-ley 1/2021, de 19 de enero, de p...   \n",
       "34  ['BOE-A-2021-797']  [Ley 3/2020, de 28 de diciembre, del Presupues...   \n",
       "\n",
       "                         Seccion  \\\n",
       "1   [I. Disposiciones generales]   \n",
       "0   [I. Disposiciones generales]   \n",
       "3   [I. Disposiciones generales]   \n",
       "5   [I. Disposiciones generales]   \n",
       "6   [I. Disposiciones generales]   \n",
       "10  [I. Disposiciones generales]   \n",
       "8   [I. Disposiciones generales]   \n",
       "4   [I. Disposiciones generales]   \n",
       "9   [I. Disposiciones generales]   \n",
       "11  [I. Disposiciones generales]   \n",
       "2   [I. Disposiciones generales]   \n",
       "13  [I. Disposiciones generales]   \n",
       "15  [I. Disposiciones generales]   \n",
       "18  [I. Disposiciones generales]   \n",
       "7   [I. Disposiciones generales]   \n",
       "16  [I. Disposiciones generales]   \n",
       "14  [I. Disposiciones generales]   \n",
       "19  [I. Disposiciones generales]   \n",
       "20  [I. Disposiciones generales]   \n",
       "24  [I. Disposiciones generales]   \n",
       "29  [I. Disposiciones generales]   \n",
       "25  [I. Disposiciones generales]   \n",
       "34  [I. Disposiciones generales]   \n",
       "\n",
       "                                         Departamento  \\\n",
       "1   [MINISTERIO DE AGRICULTURA, PESCA Y ALIMENTACIÓN]   \n",
       "0                               [JEFATURA DEL ESTADO]   \n",
       "3   [MINISTERIO PARA LA TRANSICIÓN ECOLÓGICA Y EL ...   \n",
       "5                               [JEFATURA DEL ESTADO]   \n",
       "6   [MINISTERIO DE AGRICULTURA, PESCA Y ALIMENTACIÓN]   \n",
       "10                              [JEFATURA DEL ESTADO]   \n",
       "8   [MINISTERIO PARA LA TRANSICIÓN ECOLÓGICA Y EL ...   \n",
       "4                   [COMUNIDAD AUTÓNOMA DE ANDALUCÍA]   \n",
       "9                   [COMUNIDAD AUTÓNOMA DE ANDALUCÍA]   \n",
       "11  [MINISTERIO DE AGRICULTURA, PESCA Y ALIMENTACIÓN]   \n",
       "2   [MINISTERIO DE AGRICULTURA, PESCA Y ALIMENTACIÓN]   \n",
       "13  [MINISTERIO PARA LA TRANSICIÓN ECOLÓGICA Y EL ...   \n",
       "15                              [JEFATURA DEL ESTADO]   \n",
       "18  [MINISTERIO PARA LA TRANSICIÓN ECOLÓGICA Y EL ...   \n",
       "7   [MINISTERIO DE AGRICULTURA, PESCA Y ALIMENTACIÓN]   \n",
       "16  [MINISTERIO DE AGRICULTURA, PESCA Y ALIMENTACIÓN]   \n",
       "14                  [COMUNIDAD AUTÓNOMA DE ANDALUCÍA]   \n",
       "19                  [COMUNIDAD AUTÓNOMA DE ANDALUCÍA]   \n",
       "20                              [JEFATURA DEL ESTADO]   \n",
       "24                  [COMUNIDAD AUTÓNOMA DE ANDALUCÍA]   \n",
       "29                  [COMUNIDAD AUTÓNOMA DE ANDALUCÍA]   \n",
       "25                              [JEFATURA DEL ESTADO]   \n",
       "34                  [COMUNIDAD AUTÓNOMA DE ANDALUCÍA]   \n",
       "\n",
       "                                          Epigrafe  \\\n",
       "1                                  [Sector lácteo]   \n",
       "0                               [Medidas urgentes]   \n",
       "3   [Aparatos eléctricos y electrónicos. Residuos]   \n",
       "5                               [Medidas urgentes]   \n",
       "6                                  [Sector lácteo]   \n",
       "10                              [Medidas urgentes]   \n",
       "8   [Aparatos eléctricos y electrónicos. Residuos]   \n",
       "4                                   [Presupuestos]   \n",
       "9                                   [Presupuestos]   \n",
       "11                                 [Sector lácteo]   \n",
       "2                                 [Sanidad animal]   \n",
       "13  [Aparatos eléctricos y electrónicos. Residuos]   \n",
       "15                              [Medidas urgentes]   \n",
       "18  [Aparatos eléctricos y electrónicos. Residuos]   \n",
       "7                                 [Sanidad animal]   \n",
       "16                                 [Sector lácteo]   \n",
       "14                                  [Presupuestos]   \n",
       "19                                  [Presupuestos]   \n",
       "20                              [Medidas urgentes]   \n",
       "24                                  [Presupuestos]   \n",
       "29                                  [Presupuestos]   \n",
       "25                              [Medidas urgentes]   \n",
       "34                                  [Presupuestos]   \n",
       "\n",
       "                                         Item_URL_XML  \\\n",
       "1   https://www.boe.es/diario_boe/xml.php?id=BOE-A...   \n",
       "0   https://www.boe.es/diario_boe/xml.php?id=BOE-A...   \n",
       "3   https://www.boe.es/diario_boe/xml.php?id=BOE-A...   \n",
       "5   https://www.boe.es/diario_boe/xml.php?id=BOE-A...   \n",
       "6   https://www.boe.es/diario_boe/xml.php?id=BOE-A...   \n",
       "10  https://www.boe.es/diario_boe/xml.php?id=BOE-A...   \n",
       "8   https://www.boe.es/diario_boe/xml.php?id=BOE-A...   \n",
       "4   https://www.boe.es/diario_boe/xml.php?id=BOE-A...   \n",
       "9   https://www.boe.es/diario_boe/xml.php?id=BOE-A...   \n",
       "11  https://www.boe.es/diario_boe/xml.php?id=BOE-A...   \n",
       "2   https://www.boe.es/diario_boe/xml.php?id=BOE-A...   \n",
       "13  https://www.boe.es/diario_boe/xml.php?id=BOE-A...   \n",
       "15  https://www.boe.es/diario_boe/xml.php?id=BOE-A...   \n",
       "18  https://www.boe.es/diario_boe/xml.php?id=BOE-A...   \n",
       "7   https://www.boe.es/diario_boe/xml.php?id=BOE-A...   \n",
       "16  https://www.boe.es/diario_boe/xml.php?id=BOE-A...   \n",
       "14  https://www.boe.es/diario_boe/xml.php?id=BOE-A...   \n",
       "19  https://www.boe.es/diario_boe/xml.php?id=BOE-A...   \n",
       "20  https://www.boe.es/diario_boe/xml.php?id=BOE-A...   \n",
       "24  https://www.boe.es/diario_boe/xml.php?id=BOE-A...   \n",
       "29  https://www.boe.es/diario_boe/xml.php?id=BOE-A...   \n",
       "25  https://www.boe.es/diario_boe/xml.php?id=BOE-A...   \n",
       "34  https://www.boe.es/diario_boe/xml.php?id=BOE-A...   \n",
       "\n",
       "                                             Materias  \\\n",
       "1   [Agencias estatales, Comercialización, Etiquet...   \n",
       "0   [Aguas residuales, Autoridades Portuarias, Com...   \n",
       "3   [Acumulador eléctrico, Aparatos de uso domésti...   \n",
       "5   [Aguas residuales, Autoridades Portuarias, Com...   \n",
       "6   [Agencias estatales, Comercialización, Etiquet...   \n",
       "10  [Aguas residuales, Autoridades Portuarias, Com...   \n",
       "8   [Acumulador eléctrico, Aparatos de uso domésti...   \n",
       "4   [Acción concertada, Administración Local, Anda...   \n",
       "9   [Acción concertada, Administración Local, Anda...   \n",
       "11  [Agencias estatales, Comercialización, Etiquet...   \n",
       "2   [Aves, Aves de corral, Comunidades Autónomas, ...   \n",
       "13  [Acumulador eléctrico, Aparatos de uso domésti...   \n",
       "15  [Aguas residuales, Autoridades Portuarias, Com...   \n",
       "18  [Acumulador eléctrico, Aparatos de uso domésti...   \n",
       "7   [Aves, Aves de corral, Comunidades Autónomas, ...   \n",
       "16  [Agencias estatales, Comercialización, Etiquet...   \n",
       "14  [Acción concertada, Administración Local, Anda...   \n",
       "19  [Acción concertada, Administración Local, Anda...   \n",
       "20  [Aguas residuales, Autoridades Portuarias, Com...   \n",
       "24  [Acción concertada, Administración Local, Anda...   \n",
       "29  [Acción concertada, Administración Local, Anda...   \n",
       "25  [Aguas residuales, Autoridades Portuarias, Com...   \n",
       "34  [Acción concertada, Administración Local, Anda...   \n",
       "\n",
       "                                          Referencias  \\\n",
       "1                                                  []   \n",
       "0                [BOE-A-2020-17339, BOE-A-2001-14276]   \n",
       "3   [BOE-A-2020-7438, BOE-A-2018-9466, BOE-A-2008-...   \n",
       "5                [BOE-A-2020-17339, BOE-A-2001-14276]   \n",
       "6                                                  []   \n",
       "10               [BOE-A-2020-17339, BOE-A-2001-14276]   \n",
       "8   [BOE-A-2020-7438, BOE-A-2018-9466, BOE-A-2008-...   \n",
       "4   [BOE-A-2018-1098, BOE-A-2016-957, BOE-A-2016-3...   \n",
       "9   [BOE-A-2018-1098, BOE-A-2016-957, BOE-A-2016-3...   \n",
       "11                                                 []   \n",
       "2                                                  []   \n",
       "13  [BOE-A-2020-7438, BOE-A-2018-9466, BOE-A-2008-...   \n",
       "15               [BOE-A-2020-17339, BOE-A-2001-14276]   \n",
       "18  [BOE-A-2020-7438, BOE-A-2018-9466, BOE-A-2008-...   \n",
       "7                                                  []   \n",
       "16                                                 []   \n",
       "14  [BOE-A-2018-1098, BOE-A-2016-957, BOE-A-2016-3...   \n",
       "19  [BOE-A-2018-1098, BOE-A-2016-957, BOE-A-2016-3...   \n",
       "20               [BOE-A-2020-17339, BOE-A-2001-14276]   \n",
       "24  [BOE-A-2018-1098, BOE-A-2016-957, BOE-A-2016-3...   \n",
       "29  [BOE-A-2018-1098, BOE-A-2016-957, BOE-A-2016-3...   \n",
       "25               [BOE-A-2020-17339, BOE-A-2001-14276]   \n",
       "34  [BOE-A-2018-1098, BOE-A-2016-957, BOE-A-2016-3...   \n",
       "\n",
       "                                  Referencias_palabra  \\\n",
       "1                                                  []   \n",
       "0                                  [DEROGA, MODIFICA]   \n",
       "3   [MODIFICA, MODIFICA, MODIFICA, MODIFICA, TRANS...   \n",
       "5                                  [DEROGA, MODIFICA]   \n",
       "6                                                  []   \n",
       "10                                 [DEROGA, MODIFICA]   \n",
       "8   [MODIFICA, MODIFICA, MODIFICA, MODIFICA, TRANS...   \n",
       "4   [DEROGA, DEROGA, DEROGA, DEROGA, MODIFICA, MOD...   \n",
       "9   [DEROGA, DEROGA, DEROGA, DEROGA, MODIFICA, MOD...   \n",
       "11                                                 []   \n",
       "2                                                  []   \n",
       "13  [MODIFICA, MODIFICA, MODIFICA, MODIFICA, TRANS...   \n",
       "15                                 [DEROGA, MODIFICA]   \n",
       "18  [MODIFICA, MODIFICA, MODIFICA, MODIFICA, TRANS...   \n",
       "7                                                  []   \n",
       "16                                                 []   \n",
       "14  [DEROGA, DEROGA, DEROGA, DEROGA, MODIFICA, MOD...   \n",
       "19  [DEROGA, DEROGA, DEROGA, DEROGA, MODIFICA, MOD...   \n",
       "20                                 [DEROGA, MODIFICA]   \n",
       "24  [DEROGA, DEROGA, DEROGA, DEROGA, MODIFICA, MOD...   \n",
       "29  [DEROGA, DEROGA, DEROGA, DEROGA, MODIFICA, MOD...   \n",
       "25                                 [DEROGA, MODIFICA]   \n",
       "34  [DEROGA, DEROGA, DEROGA, DEROGA, MODIFICA, MOD...   \n",
       "\n",
       "                                    Referencias_texto  \\\n",
       "1                                                  []   \n",
       "0   [la disposición adicional 6 y MODIFICA el anex...   \n",
       "3   [el art. 17.3 del Real Decreto 646/2020, de 7 ...   \n",
       "5   [la disposición adicional 6 y MODIFICA el anex...   \n",
       "6                                                  []   \n",
       "10  [la disposición adicional 6 y MODIFICA el anex...   \n",
       "8   [el art. 17.3 del Real Decreto 646/2020, de 7 ...   \n",
       "4   [la disposición adicional 11 de la Ley 5/2017,...   \n",
       "9   [la disposición adicional 11 de la Ley 5/2017,...   \n",
       "11                                                 []   \n",
       "2                                                  []   \n",
       "13  [el art. 17.3 del Real Decreto 646/2020, de 7 ...   \n",
       "15  [la disposición adicional 6 y MODIFICA el anex...   \n",
       "18  [el art. 17.3 del Real Decreto 646/2020, de 7 ...   \n",
       "7                                                  []   \n",
       "16                                                 []   \n",
       "14  [la disposición adicional 11 de la Ley 5/2017,...   \n",
       "19  [la disposición adicional 11 de la Ley 5/2017,...   \n",
       "20  [la disposición adicional 6 y MODIFICA el anex...   \n",
       "24  [la disposición adicional 11 de la Ley 5/2017,...   \n",
       "29  [la disposición adicional 11 de la Ley 5/2017,...   \n",
       "25  [la disposición adicional 6 y MODIFICA el anex...   \n",
       "34  [la disposición adicional 11 de la Ley 5/2017,...   \n",
       "\n",
       "                               Alerta  \n",
       "1                        Alimentación  \n",
       "0                    Asuntos sociales  \n",
       "3                            Comercio  \n",
       "5                            Comercio  \n",
       "6                            Comercio  \n",
       "10            Consumidores y usuarios  \n",
       "8             Consumidores y usuarios  \n",
       "4                      Cultura y ocio  \n",
       "9              Derecho Administrativo  \n",
       "11             Derecho Administrativo  \n",
       "2                Ganadería y animales  \n",
       "13                          Industria  \n",
       "15                     Medio ambiente  \n",
       "18                     Medio ambiente  \n",
       "7                      Medio ambiente  \n",
       "16  Organización de la Administración  \n",
       "14                            Sanidad  \n",
       "19                 Sistema financiero  \n",
       "20                 Sistema tributario  \n",
       "24                 Sistema tributario  \n",
       "29              Transportes y tráfico  \n",
       "25               Vivienda y urbanismo  \n",
       "34               Vivienda y urbanismo  "
      ],
      "text/html": "<div>\n<style scoped>\n    .dataframe tbody tr th:only-of-type {\n        vertical-align: middle;\n    }\n\n    .dataframe tbody tr th {\n        vertical-align: top;\n    }\n\n    .dataframe thead th {\n        text-align: right;\n    }\n</style>\n<table border=\"1\" class=\"dataframe\">\n  <thead>\n    <tr style=\"text-align: right;\">\n      <th></th>\n      <th>Item_id</th>\n      <th>Item_Nombre</th>\n      <th>Seccion</th>\n      <th>Departamento</th>\n      <th>Epigrafe</th>\n      <th>Item_URL_XML</th>\n      <th>Materias</th>\n      <th>Referencias</th>\n      <th>Referencias_palabra</th>\n      <th>Referencias_texto</th>\n      <th>Alerta</th>\n    </tr>\n  </thead>\n  <tbody>\n    <tr>\n      <th>1</th>\n      <td>['BOE-A-2021-794']</td>\n      <td>[Real Decreto 24/2021, de 19 de enero, por el ...</td>\n      <td>[I. Disposiciones generales]</td>\n      <td>[MINISTERIO DE AGRICULTURA, PESCA Y ALIMENTACIÓN]</td>\n      <td>[Sector lácteo]</td>\n      <td>https://www.boe.es/diario_boe/xml.php?id=BOE-A...</td>\n      <td>[Agencias estatales, Comercialización, Etiquet...</td>\n      <td>[]</td>\n      <td>[]</td>\n      <td>[]</td>\n      <td>Alimentación</td>\n    </tr>\n    <tr>\n      <th>0</th>\n      <td>['BOE-A-2021-793']</td>\n      <td>[Real Decreto-ley 1/2021, de 19 de enero, de p...</td>\n      <td>[I. Disposiciones generales]</td>\n      <td>[JEFATURA DEL ESTADO]</td>\n      <td>[Medidas urgentes]</td>\n      <td>https://www.boe.es/diario_boe/xml.php?id=BOE-A...</td>\n      <td>[Aguas residuales, Autoridades Portuarias, Com...</td>\n      <td>[BOE-A-2020-17339, BOE-A-2001-14276]</td>\n      <td>[DEROGA, MODIFICA]</td>\n      <td>[la disposición adicional 6 y MODIFICA el anex...</td>\n      <td>Asuntos sociales</td>\n    </tr>\n    <tr>\n      <th>3</th>\n      <td>['BOE-A-2021-796']</td>\n      <td>[Real Decreto 27/2021, de 19 de enero, por el ...</td>\n      <td>[I. Disposiciones generales]</td>\n      <td>[MINISTERIO PARA LA TRANSICIÓN ECOLÓGICA Y EL ...</td>\n      <td>[Aparatos eléctricos y electrónicos. Residuos]</td>\n      <td>https://www.boe.es/diario_boe/xml.php?id=BOE-A...</td>\n      <td>[Acumulador eléctrico, Aparatos de uso domésti...</td>\n      <td>[BOE-A-2020-7438, BOE-A-2018-9466, BOE-A-2008-...</td>\n      <td>[MODIFICA, MODIFICA, MODIFICA, MODIFICA, TRANS...</td>\n      <td>[el art. 17.3 del Real Decreto 646/2020, de 7 ...</td>\n      <td>Comercio</td>\n    </tr>\n    <tr>\n      <th>5</th>\n      <td>['BOE-A-2021-793']</td>\n      <td>[Real Decreto-ley 1/2021, de 19 de enero, de p...</td>\n      <td>[I. Disposiciones generales]</td>\n      <td>[JEFATURA DEL ESTADO]</td>\n      <td>[Medidas urgentes]</td>\n      <td>https://www.boe.es/diario_boe/xml.php?id=BOE-A...</td>\n      <td>[Aguas residuales, Autoridades Portuarias, Com...</td>\n      <td>[BOE-A-2020-17339, BOE-A-2001-14276]</td>\n      <td>[DEROGA, MODIFICA]</td>\n      <td>[la disposición adicional 6 y MODIFICA el anex...</td>\n      <td>Comercio</td>\n    </tr>\n    <tr>\n      <th>6</th>\n      <td>['BOE-A-2021-794']</td>\n      <td>[Real Decreto 24/2021, de 19 de enero, por el ...</td>\n      <td>[I. Disposiciones generales]</td>\n      <td>[MINISTERIO DE AGRICULTURA, PESCA Y ALIMENTACIÓN]</td>\n      <td>[Sector lácteo]</td>\n      <td>https://www.boe.es/diario_boe/xml.php?id=BOE-A...</td>\n      <td>[Agencias estatales, Comercialización, Etiquet...</td>\n      <td>[]</td>\n      <td>[]</td>\n      <td>[]</td>\n      <td>Comercio</td>\n    </tr>\n    <tr>\n      <th>10</th>\n      <td>['BOE-A-2021-793']</td>\n      <td>[Real Decreto-ley 1/2021, de 19 de enero, de p...</td>\n      <td>[I. Disposiciones generales]</td>\n      <td>[JEFATURA DEL ESTADO]</td>\n      <td>[Medidas urgentes]</td>\n      <td>https://www.boe.es/diario_boe/xml.php?id=BOE-A...</td>\n      <td>[Aguas residuales, Autoridades Portuarias, Com...</td>\n      <td>[BOE-A-2020-17339, BOE-A-2001-14276]</td>\n      <td>[DEROGA, MODIFICA]</td>\n      <td>[la disposición adicional 6 y MODIFICA el anex...</td>\n      <td>Consumidores y usuarios</td>\n    </tr>\n    <tr>\n      <th>8</th>\n      <td>['BOE-A-2021-796']</td>\n      <td>[Real Decreto 27/2021, de 19 de enero, por el ...</td>\n      <td>[I. Disposiciones generales]</td>\n      <td>[MINISTERIO PARA LA TRANSICIÓN ECOLÓGICA Y EL ...</td>\n      <td>[Aparatos eléctricos y electrónicos. Residuos]</td>\n      <td>https://www.boe.es/diario_boe/xml.php?id=BOE-A...</td>\n      <td>[Acumulador eléctrico, Aparatos de uso domésti...</td>\n      <td>[BOE-A-2020-7438, BOE-A-2018-9466, BOE-A-2008-...</td>\n      <td>[MODIFICA, MODIFICA, MODIFICA, MODIFICA, TRANS...</td>\n      <td>[el art. 17.3 del Real Decreto 646/2020, de 7 ...</td>\n      <td>Consumidores y usuarios</td>\n    </tr>\n    <tr>\n      <th>4</th>\n      <td>['BOE-A-2021-797']</td>\n      <td>[Ley 3/2020, de 28 de diciembre, del Presupues...</td>\n      <td>[I. Disposiciones generales]</td>\n      <td>[COMUNIDAD AUTÓNOMA DE ANDALUCÍA]</td>\n      <td>[Presupuestos]</td>\n      <td>https://www.boe.es/diario_boe/xml.php?id=BOE-A...</td>\n      <td>[Acción concertada, Administración Local, Anda...</td>\n      <td>[BOE-A-2018-1098, BOE-A-2016-957, BOE-A-2016-3...</td>\n      <td>[DEROGA, DEROGA, DEROGA, DEROGA, MODIFICA, MOD...</td>\n      <td>[la disposición adicional 11 de la Ley 5/2017,...</td>\n      <td>Cultura y ocio</td>\n    </tr>\n    <tr>\n      <th>9</th>\n      <td>['BOE-A-2021-797']</td>\n      <td>[Ley 3/2020, de 28 de diciembre, del Presupues...</td>\n      <td>[I. Disposiciones generales]</td>\n      <td>[COMUNIDAD AUTÓNOMA DE ANDALUCÍA]</td>\n      <td>[Presupuestos]</td>\n      <td>https://www.boe.es/diario_boe/xml.php?id=BOE-A...</td>\n      <td>[Acción concertada, Administración Local, Anda...</td>\n      <td>[BOE-A-2018-1098, BOE-A-2016-957, BOE-A-2016-3...</td>\n      <td>[DEROGA, DEROGA, DEROGA, DEROGA, MODIFICA, MOD...</td>\n      <td>[la disposición adicional 11 de la Ley 5/2017,...</td>\n      <td>Derecho Administrativo</td>\n    </tr>\n    <tr>\n      <th>11</th>\n      <td>['BOE-A-2021-794']</td>\n      <td>[Real Decreto 24/2021, de 19 de enero, por el ...</td>\n      <td>[I. Disposiciones generales]</td>\n      <td>[MINISTERIO DE AGRICULTURA, PESCA Y ALIMENTACIÓN]</td>\n      <td>[Sector lácteo]</td>\n      <td>https://www.boe.es/diario_boe/xml.php?id=BOE-A...</td>\n      <td>[Agencias estatales, Comercialización, Etiquet...</td>\n      <td>[]</td>\n      <td>[]</td>\n      <td>[]</td>\n      <td>Derecho Administrativo</td>\n    </tr>\n    <tr>\n      <th>2</th>\n      <td>['BOE-A-2021-795']</td>\n      <td>[Orden APA/19/2021, de 18 de enero, por la que...</td>\n      <td>[I. Disposiciones generales]</td>\n      <td>[MINISTERIO DE AGRICULTURA, PESCA Y ALIMENTACIÓN]</td>\n      <td>[Sanidad animal]</td>\n      <td>https://www.boe.es/diario_boe/xml.php?id=BOE-A...</td>\n      <td>[Aves, Aves de corral, Comunidades Autónomas, ...</td>\n      <td>[]</td>\n      <td>[]</td>\n      <td>[]</td>\n      <td>Ganadería y animales</td>\n    </tr>\n    <tr>\n      <th>13</th>\n      <td>['BOE-A-2021-796']</td>\n      <td>[Real Decreto 27/2021, de 19 de enero, por el ...</td>\n      <td>[I. Disposiciones generales]</td>\n      <td>[MINISTERIO PARA LA TRANSICIÓN ECOLÓGICA Y EL ...</td>\n      <td>[Aparatos eléctricos y electrónicos. Residuos]</td>\n      <td>https://www.boe.es/diario_boe/xml.php?id=BOE-A...</td>\n      <td>[Acumulador eléctrico, Aparatos de uso domésti...</td>\n      <td>[BOE-A-2020-7438, BOE-A-2018-9466, BOE-A-2008-...</td>\n      <td>[MODIFICA, MODIFICA, MODIFICA, MODIFICA, TRANS...</td>\n      <td>[el art. 17.3 del Real Decreto 646/2020, de 7 ...</td>\n      <td>Industria</td>\n    </tr>\n    <tr>\n      <th>15</th>\n      <td>['BOE-A-2021-793']</td>\n      <td>[Real Decreto-ley 1/2021, de 19 de enero, de p...</td>\n      <td>[I. Disposiciones generales]</td>\n      <td>[JEFATURA DEL ESTADO]</td>\n      <td>[Medidas urgentes]</td>\n      <td>https://www.boe.es/diario_boe/xml.php?id=BOE-A...</td>\n      <td>[Aguas residuales, Autoridades Portuarias, Com...</td>\n      <td>[BOE-A-2020-17339, BOE-A-2001-14276]</td>\n      <td>[DEROGA, MODIFICA]</td>\n      <td>[la disposición adicional 6 y MODIFICA el anex...</td>\n      <td>Medio ambiente</td>\n    </tr>\n    <tr>\n      <th>18</th>\n      <td>['BOE-A-2021-796']</td>\n      <td>[Real Decreto 27/2021, de 19 de enero, por el ...</td>\n      <td>[I. Disposiciones generales]</td>\n      <td>[MINISTERIO PARA LA TRANSICIÓN ECOLÓGICA Y EL ...</td>\n      <td>[Aparatos eléctricos y electrónicos. Residuos]</td>\n      <td>https://www.boe.es/diario_boe/xml.php?id=BOE-A...</td>\n      <td>[Acumulador eléctrico, Aparatos de uso domésti...</td>\n      <td>[BOE-A-2020-7438, BOE-A-2018-9466, BOE-A-2008-...</td>\n      <td>[MODIFICA, MODIFICA, MODIFICA, MODIFICA, TRANS...</td>\n      <td>[el art. 17.3 del Real Decreto 646/2020, de 7 ...</td>\n      <td>Medio ambiente</td>\n    </tr>\n    <tr>\n      <th>7</th>\n      <td>['BOE-A-2021-795']</td>\n      <td>[Orden APA/19/2021, de 18 de enero, por la que...</td>\n      <td>[I. Disposiciones generales]</td>\n      <td>[MINISTERIO DE AGRICULTURA, PESCA Y ALIMENTACIÓN]</td>\n      <td>[Sanidad animal]</td>\n      <td>https://www.boe.es/diario_boe/xml.php?id=BOE-A...</td>\n      <td>[Aves, Aves de corral, Comunidades Autónomas, ...</td>\n      <td>[]</td>\n      <td>[]</td>\n      <td>[]</td>\n      <td>Medio ambiente</td>\n    </tr>\n    <tr>\n      <th>16</th>\n      <td>['BOE-A-2021-794']</td>\n      <td>[Real Decreto 24/2021, de 19 de enero, por el ...</td>\n      <td>[I. Disposiciones generales]</td>\n      <td>[MINISTERIO DE AGRICULTURA, PESCA Y ALIMENTACIÓN]</td>\n      <td>[Sector lácteo]</td>\n      <td>https://www.boe.es/diario_boe/xml.php?id=BOE-A...</td>\n      <td>[Agencias estatales, Comercialización, Etiquet...</td>\n      <td>[]</td>\n      <td>[]</td>\n      <td>[]</td>\n      <td>Organización de la Administración</td>\n    </tr>\n    <tr>\n      <th>14</th>\n      <td>['BOE-A-2021-797']</td>\n      <td>[Ley 3/2020, de 28 de diciembre, del Presupues...</td>\n      <td>[I. Disposiciones generales]</td>\n      <td>[COMUNIDAD AUTÓNOMA DE ANDALUCÍA]</td>\n      <td>[Presupuestos]</td>\n      <td>https://www.boe.es/diario_boe/xml.php?id=BOE-A...</td>\n      <td>[Acción concertada, Administración Local, Anda...</td>\n      <td>[BOE-A-2018-1098, BOE-A-2016-957, BOE-A-2016-3...</td>\n      <td>[DEROGA, DEROGA, DEROGA, DEROGA, MODIFICA, MOD...</td>\n      <td>[la disposición adicional 11 de la Ley 5/2017,...</td>\n      <td>Sanidad</td>\n    </tr>\n    <tr>\n      <th>19</th>\n      <td>['BOE-A-2021-797']</td>\n      <td>[Ley 3/2020, de 28 de diciembre, del Presupues...</td>\n      <td>[I. Disposiciones generales]</td>\n      <td>[COMUNIDAD AUTÓNOMA DE ANDALUCÍA]</td>\n      <td>[Presupuestos]</td>\n      <td>https://www.boe.es/diario_boe/xml.php?id=BOE-A...</td>\n      <td>[Acción concertada, Administración Local, Anda...</td>\n      <td>[BOE-A-2018-1098, BOE-A-2016-957, BOE-A-2016-3...</td>\n      <td>[DEROGA, DEROGA, DEROGA, DEROGA, MODIFICA, MOD...</td>\n      <td>[la disposición adicional 11 de la Ley 5/2017,...</td>\n      <td>Sistema financiero</td>\n    </tr>\n    <tr>\n      <th>20</th>\n      <td>['BOE-A-2021-793']</td>\n      <td>[Real Decreto-ley 1/2021, de 19 de enero, de p...</td>\n      <td>[I. Disposiciones generales]</td>\n      <td>[JEFATURA DEL ESTADO]</td>\n      <td>[Medidas urgentes]</td>\n      <td>https://www.boe.es/diario_boe/xml.php?id=BOE-A...</td>\n      <td>[Aguas residuales, Autoridades Portuarias, Com...</td>\n      <td>[BOE-A-2020-17339, BOE-A-2001-14276]</td>\n      <td>[DEROGA, MODIFICA]</td>\n      <td>[la disposición adicional 6 y MODIFICA el anex...</td>\n      <td>Sistema tributario</td>\n    </tr>\n    <tr>\n      <th>24</th>\n      <td>['BOE-A-2021-797']</td>\n      <td>[Ley 3/2020, de 28 de diciembre, del Presupues...</td>\n      <td>[I. Disposiciones generales]</td>\n      <td>[COMUNIDAD AUTÓNOMA DE ANDALUCÍA]</td>\n      <td>[Presupuestos]</td>\n      <td>https://www.boe.es/diario_boe/xml.php?id=BOE-A...</td>\n      <td>[Acción concertada, Administración Local, Anda...</td>\n      <td>[BOE-A-2018-1098, BOE-A-2016-957, BOE-A-2016-3...</td>\n      <td>[DEROGA, DEROGA, DEROGA, DEROGA, MODIFICA, MOD...</td>\n      <td>[la disposición adicional 11 de la Ley 5/2017,...</td>\n      <td>Sistema tributario</td>\n    </tr>\n    <tr>\n      <th>29</th>\n      <td>['BOE-A-2021-797']</td>\n      <td>[Ley 3/2020, de 28 de diciembre, del Presupues...</td>\n      <td>[I. Disposiciones generales]</td>\n      <td>[COMUNIDAD AUTÓNOMA DE ANDALUCÍA]</td>\n      <td>[Presupuestos]</td>\n      <td>https://www.boe.es/diario_boe/xml.php?id=BOE-A...</td>\n      <td>[Acción concertada, Administración Local, Anda...</td>\n      <td>[BOE-A-2018-1098, BOE-A-2016-957, BOE-A-2016-3...</td>\n      <td>[DEROGA, DEROGA, DEROGA, DEROGA, MODIFICA, MOD...</td>\n      <td>[la disposición adicional 11 de la Ley 5/2017,...</td>\n      <td>Transportes y tráfico</td>\n    </tr>\n    <tr>\n      <th>25</th>\n      <td>['BOE-A-2021-793']</td>\n      <td>[Real Decreto-ley 1/2021, de 19 de enero, de p...</td>\n      <td>[I. Disposiciones generales]</td>\n      <td>[JEFATURA DEL ESTADO]</td>\n      <td>[Medidas urgentes]</td>\n      <td>https://www.boe.es/diario_boe/xml.php?id=BOE-A...</td>\n      <td>[Aguas residuales, Autoridades Portuarias, Com...</td>\n      <td>[BOE-A-2020-17339, BOE-A-2001-14276]</td>\n      <td>[DEROGA, MODIFICA]</td>\n      <td>[la disposición adicional 6 y MODIFICA el anex...</td>\n      <td>Vivienda y urbanismo</td>\n    </tr>\n    <tr>\n      <th>34</th>\n      <td>['BOE-A-2021-797']</td>\n      <td>[Ley 3/2020, de 28 de diciembre, del Presupues...</td>\n      <td>[I. Disposiciones generales]</td>\n      <td>[COMUNIDAD AUTÓNOMA DE ANDALUCÍA]</td>\n      <td>[Presupuestos]</td>\n      <td>https://www.boe.es/diario_boe/xml.php?id=BOE-A...</td>\n      <td>[Acción concertada, Administración Local, Anda...</td>\n      <td>[BOE-A-2018-1098, BOE-A-2016-957, BOE-A-2016-3...</td>\n      <td>[DEROGA, DEROGA, DEROGA, DEROGA, MODIFICA, MOD...</td>\n      <td>[la disposición adicional 11 de la Ley 5/2017,...</td>\n      <td>Vivienda y urbanismo</td>\n    </tr>\n  </tbody>\n</table>\n</div>"
     },
     "metadata": {},
     "execution_count": 53
    }
   ],
   "source": [
    "tabla_resultados.Alertas.apply(pd.Series) \\\n",
    "    .merge(tabla_resultados, left_index = True, right_index = True) \\\n",
    "    .drop([\"Alertas\"], axis = 1) \\\n",
    "    .reset_index() \\\n",
    "    .melt(id_vars = ['Item_id','Item_Nombre','Seccion','Departamento','Epigrafe','Item_URL_XML','Materias','Referencias','Referencias_palabra','Referencias_texto'], value_name = \"Alerta\") \\\n",
    "    .drop(\"variable\", axis = 1) \\\n",
    "    .dropna() \\\n",
    "    .sort_values('Alerta')"
   ]
  },
  {
   "cell_type": "code",
   "execution_count": 54,
   "metadata": {},
   "outputs": [
    {
     "output_type": "execute_result",
     "data": {
      "text/plain": [
       "Item_id\n",
       "['BOE-A-2021-793']                                Medidas urgentes\n",
       "['BOE-A-2021-794']                                   Sector lácteo\n",
       "['BOE-A-2021-795']                                  Sanidad animal\n",
       "['BOE-A-2021-796']    Aparatos eléctricos y electrónicos. Residuos\n",
       "['BOE-A-2021-797']                                    Presupuestos\n",
       "Name: Epigrafe, dtype: object"
      ]
     },
     "metadata": {},
     "execution_count": 54
    }
   ],
   "source": [
    "tabla_resultados['Epigrafe'].str.join(',')"
   ]
  },
  {
   "cell_type": "code",
   "execution_count": 55,
   "metadata": {},
   "outputs": [],
   "source": [
    "from pprint import pprint"
   ]
  },
  {
   "source": [
    "## Convierte estructura XML en diccionario"
   ],
   "cell_type": "markdown",
   "metadata": {}
  },
  {
   "cell_type": "code",
   "execution_count": 56,
   "metadata": {},
   "outputs": [],
   "source": [
    "BOE_XML = etree.parse('./BOEs/BOE-A-2021-756.xml')\n",
    "raiz=BOE_XML.getroot()"
   ]
  },
  {
   "cell_type": "code",
   "execution_count": 57,
   "metadata": {},
   "outputs": [
    {
     "output_type": "stream",
     "name": "stdout",
     "text": [
      "['DE CONFORMIDAD con', 'CITA']\n"
     ]
    }
   ],
   "source": [
    "result_list = [item.text for item in raiz.findall(\"./analisis/referencias/anteriores/anterior/palabra\")]\n",
    "#result_list = [{k: item.get(k) for k in item.iter('materia')} for item in raiz.findall(\"./analisis/materias\")]\n",
    "#result_list = [{{i.get('k') for i in item.iter('materia')}\n",
    "#                for k in ('materia')}\n",
    "#               for item in tree.findall(\"./analisis/materias\")]\n",
    "#result_list = raiz.findall(\"./analisis/materias\")\n",
    "pprint(result_list)"
   ]
  },
  {
   "cell_type": "code",
   "execution_count": 98,
   "metadata": {},
   "outputs": [
    {
     "output_type": "stream",
     "name": "stdout",
     "text": [
      "[{'palabra': {'palabra': 'DE CONFORMIDAD con'},\n  'texto': {'texto': 'el art. 139.1 del Estatuto aprobado por Ley Orgánica '\n                     '6/2006, de 19 de julio'}},\n {'palabra': {'palabra': 'CITA'},\n  'texto': {'texto': 'Ley 12/2008, de 31 de julio'}}]\n"
     ]
    }
   ],
   "source": [
    "lst = raiz.findall(\"./analisis/referencias/anteriores/anterior\")\n",
    "d = [{x.tag: {z.tag : z.text for z in x.iter()} for x in c} for c in lst]\n",
    "pprint(d)"
   ]
  },
  {
   "cell_type": "code",
   "execution_count": 99,
   "metadata": {},
   "outputs": [
    {
     "output_type": "stream",
     "name": "stdout",
     "text": [
      "[{'anterior': '\\n          ',\n  'palabra': 'DE CONFORMIDAD con',\n  'texto': 'el art. 139.1 del Estatuto aprobado por Ley Orgánica 6/2006, de 19 '\n           'de julio'},\n {'anterior': '\\n          ',\n  'palabra': 'CITA',\n  'texto': 'Ley 12/2008, de 31 de julio'}]\n"
     ]
    }
   ],
   "source": [
    "lst = raiz.findall(\"./analisis/referencias/anteriores/anterior\")\n",
    "d = [{x.tag: x.text for x in c.iter()} for c in lst]\n",
    "pprint(d)"
   ]
  },
  {
   "cell_type": "code",
   "execution_count": 58,
   "metadata": {},
   "outputs": [
    {
     "output_type": "stream",
     "name": "stdout",
     "text": [
      "[{'departamento': 'Comunidad Autónoma de Cataluña',\n  'diario': 'Boletín Oficial del Estado',\n  'diario_numero': '16',\n  'estado_consolidacion': None,\n  'estatus_derogacion': 'S',\n  'estatus_legislativo': 'L',\n  'fecha_derogacion': '20201218',\n  'fecha_disposicion': '20201117',\n  'fecha_publicacion': '20210119',\n  'fecha_vigencia': '20201120',\n  'identificador': 'BOE-A-2021-756',\n  'judicialmente_anulada': 'N',\n  'letra_imagen': 'A',\n  'numero_oficial': '45/2020',\n  'origen_legislativo': 'Autonómico',\n  'pagina_final': '4516',\n  'pagina_inicial': '4511',\n  'rango': 'Decreto-ley',\n  'seccion': '1',\n  'subseccion': None,\n  'suplemento_letra_imagen': None,\n  'suplemento_pagina_final': None,\n  'suplemento_pagina_inicial': None,\n  'titulo': 'Decreto-ley 45/2020, de 17 de noviembre, sobre la habilitación '\n            'transitoria y extraordinaria para continuar la prestación del '\n            'servicio de inspección técnica de vehículos.',\n  'url_eli': 'https://www.boe.es/eli/es-ct/dl/2020/11/17/45',\n  'url_epub': '/diario_boe/epub.php?id=BOE-A-2021-756',\n  'url_pdf': '/boe/dias/2021/01/19/pdfs/BOE-A-2021-756.pdf',\n  'url_pdf_catalan': None,\n  'url_pdf_euskera': None,\n  'url_pdf_gallego': None,\n  'url_pdf_valenciano': None,\n  'vigencia_agotada': 'S'},\n {'{http://www.w3.org/1999/02/22-rdf-syntax-ns#}RDF': '\\n      '},\n {'alertas': '\\n      ',\n  'materias': '\\n      ',\n  'notas': '\\n      ',\n  'referencias': '\\n      '},\n {'p': '**\\u2002SSTT: Servicios territoriales.', 'table': '\\n      '}]\n"
     ]
    }
   ],
   "source": [
    "d = [{x.tag: x.text for x in c} for c in raiz]\n",
    "pprint(d)"
   ]
  },
  {
   "cell_type": "code",
   "execution_count": 59,
   "metadata": {},
   "outputs": [
    {
     "output_type": "stream",
     "name": "stdout",
     "text": [
      "'analisis'\n"
     ]
    }
   ],
   "source": [
    "pprint(raiz[2].tag)"
   ]
  },
  {
   "cell_type": "code",
   "execution_count": 60,
   "metadata": {},
   "outputs": [
    {
     "output_type": "stream",
     "name": "stdout",
     "text": [
      "El artículo 67.6.a) del Estatuto prevé que los decretos ley sean promulgados, en nombre del Rey, por el Presidente de la Generalidad.\nDe conformidad con lo dispuesto en el artículo 6 y concordantes de la Ley 13/2008, de 5 de noviembre, de la presidencia de la Generalidad y del Gobierno, y dado el Decreto 114/2020, de 30 de septiembre, de sustitución del presidente de la Generalidad de Cataluña;\nDe acuerdo con ello, promulgo el siguiente Decreto-ley.\nEXPOSICIÓN DE MOTIVOS\nLa inspección técnica de vehículos (ITV) tiene por objeto principal la comprobación periódica de que los vehículos cumplen las condiciones de seguridad y ambientales exigidas por la normativa aplicable en el momento de su homologación o, en su caso, adaptación. También tiene por objeto otras inspecciones en el supuesto de reformas y otros trámites.\nLa finalidad de la inspección técnica de vehículos es detectar deficiencias mecánicas que pueden comprometer la seguridad vial y, por ello, tiene carácter obligatorio, establecido por la normativa vigente. El carácter obligatorio de la inspección técnica de vehículos impone a la Administración pública competente la necesidad de velar para que el servicio se preste adecuadamente y también asegurar su calidad.\nEl régimen de esta intervención pública ha ido evolucionando para adaptarse a las necesidades cambiantes del servicio y del parque de vehículos existente. La Generalidad optó desde el inicio de su actuación, en el año 1982, por la externalización del servicio de inspección en operadores privados y, en una primera etapa, escogió el régimen jurídico de la concesión administrativa.\nCon la Ley 12/2008, de 31 de julio, de seguridad industrial, se sustituyó la figura de la concesión por un nuevo régimen jurídico de autorización administrativa de los operadores externos. Este régimen de autorización, concretado en el Decreto 30/2010, de 2 de marzo, por el que se aprueba el reglamento de desarrollo de la Ley 12/2008, de 31 de julio, de seguridad industrial, está sujeto a una planificación territorial y a una serie de restricciones y limitaciones con el objetivo de asegurar una cobertura suficiente en todo el territorio de la red de inspección y de promover la competencia.\nEl Decreto 45/2010, de 30 de marzo, aprobó el Plan territorial de nuevas estaciones de inspección técnica de vehículos de Cataluña para el periodo 2010-2014; y mediante la Orden IUE/279/2010, de 7 de mayo, se publicó la convocatoria y se aprobaron las bases que regulan el concurso público para acceder a la autorización de nuevas estaciones de inspección técnica de vehículos previstas en el Plan territorial del mencionado Decreto 45/2010, de 30 de marzo.\nEl régimen jurídico vigente ha supuesto una conflictividad jurídica importante y, como consecuencia, el Tribunal Supremo ha anulado dos de los requisitos que el citado Decreto 30/2010, 2 de marzo, establecía que debían cumplir los titulares de las estaciones de inspección técnica de vehículos. Uno de los requisitos está regulado en el artículo 74, relativo a la cuota máxima de mercado de cada empresa o grupo de empresas autorizadas; y el otro en el artículo 75, relativo a las distancias mínimas entre las estaciones de inspección técnica de vehículos autorizadas a una misma empresa o grupo de empresas.\nEl Tribunal Supremo también ha anulado la disposición adicional segunda del mismo Decreto 30/2010, de 2 de marzo, que permitía a los operadores habilitados de acuerdo con la Ley 10/2006, de 19 de julio, de la prestación de los servicios de inspección en materia de seguridad industrial, autorizados en el nuevo régimen, utilizar para la realización de las tareas de inspección que les corresponden los bienes y derechos de las concesiones anteriores que debían revertir a la Generalidad de Cataluña.\nLos mencionados operadores estaban obligados a pagar a la Generalidad de Cataluña una contraprestación económica por el uso de los bienes y derechos de los antiguos concesionarios, por lo que el Tribunal Supremo también ha anulado la Orden IUE/468/2010, de 27 de septiembre, por la que se regula la contraprestación económica por el uso por parte de los titulares de las estaciones de inspección técnica de vehículos de los bienes y derechos revertidos de las antiguas concesiones administrativas.\nPor otra parte, el Tribunal Supremo ha anulado la Orden IUE/279/2010, de 7 de mayo, por la que se abre la convocatoria y se aprueban las bases que regulan el concurso público para acceder a la autorización de nuevas estaciones de inspección técnica de vehículos previstas en el Plan territorial por el Decreto 45/2010, de 30 de marzo. El Tribunal Supremo considera que en la medida que la Orden IUE/279/2010, de 7 de mayo, incluye condiciones y requisitos previstos en el Decreto 30/2010, de 2 de marzo, declarados nulos, también debe anularse.\nFinalmente, el Plan territorial de nuevas estaciones a partir del que se convocan los nuevos concursos ha perdido su vigencia, ya que el Decreto 45/2010, de 30 de marzo, que lo aprobó, definía su temporalidad para el período 2010-2014.\nPor tanto, nos encontramos en una coyuntura en la que el modelo definido por la Ley 12/2008, de 31 de julio, se encuentra estancado, y en peligro la continuidad de la prestación del servicio de la ITV en Cataluña, ya que, por un lado, los operadores autorizados de acuerdo con la Orden IUE/279/2010, de 7 de mayo, tienen anulada la autorización y no podrían seguir actuando; y, por otro, los antiguos operadores autorizados en el nuevo régimen no podrían seguir utilizando los bienes y derechos de las concesiones anteriores para la realización de las tareas de inspección.\nDe acuerdo con la Directiva 2014/45/UE, de 3 de abril de 2014, relativa a las inspecciones técnicas periódicas de los vehículos a motor y de sus remolques, y por la que se deroga la Directiva 2009/40/CE, la inspección técnica de vehículos es una actividad soberana que necesariamente deben realizar los estados, o los organismos públicos o privados bajo su supervisión. La inspección técnica de vehículos se define como un servicio de interés general relacionado con el transporte, que tiene por objetivo, por un lado, asegurar que los vehículos estén en buenas condiciones desde el punto de vista de la seguridad y el medio ambiente durante toda su vida útil; y, por otro, la prevención de los riesgos asociados a las deficiencias de seguridad de los vehículos que inciden negativamente en la seguridad vial y pueden contribuir a provocar accidentes de tráfico con heridos y víctimas mortales. Por lo tanto, es un servicio esencial que no puede dejar de prestarse. La Directiva 2014/45/UE, de 3 de abril, ha sido transpuesta por el Real decreto 920/2017, de 23 de octubre, por el que se regula la inspección técnica de vehículos.\nEs por todo lo expuesto que se dan las circunstancias de extraordinaria y urgente necesidad habilitantes para dictar un decreto ley, ya que se requiere una intervención normativa inmediata, de rango legal, que garantice la continuidad, con carácter excepcional y transitorio, de la prestación del servicio de ITV por los operadores que prestan el servicio en el momento de la entrada en vigor del presente Decreto ley, en tanto no se defina un nuevo marco jurídico, con la aprobación por el Parlamento de una ley que regule el servicio de interés general de la inspección técnica de vehículos, que otorgue seguridad jurídica a la actividad; se realiza la actividad administrativa que conlleva la ejecución de los pronunciamientos judiciales, actividad que requiere del cumplimiento de unos plazos que podría conllevar graves alteraciones en la prestación del servicio si no se garantizara la continuidad de manera transitoria y excepcional; y se resuelve el expediente posterior de enajenación onerosa.\nSe establece, en relación con los operadores de la inspección habilitados de acuerdo con el artículo 2 de la Ley 10/2006, de 19 de julio, y autorizados en el nuevo régimen, que de acuerdo con la disposición adicional segunda del Decreto 30/2010, de 2 de marzo, utilizan para la realización de las tareas de inspección los bienes y derechos de las concesiones anteriores, que deben ser objeto de reversión como consecuencia de la finalización de las antiguas concesiones, que pueden seguir prestando el servicio de inspección técnica de vehículos, solos por el periodo de tiempo imprescindible y necesario para concluir los procedimientos regulados en el artículo 3 de este Decreto ley y hasta que el Parlamento apruebe la ley que regule con carácter general la inspección técnica de vehículos y entre en vigor el nuevo sistema de habilitación de los operadores.\nDesde la perspectiva de la garantía de prestación del servicio, la habilitación transitoria y extraordinaria procede porque ninguno de los pronunciamientos jurisdiccionales sobre el régimen jurídico de la inspección técnica de vehículos no ha cuestionado que los actuales operadores que prestan el servicio, destinatarios de esta habilitación, cumplen los requisitos técnicos que afectan a su competencia y que son los que garantizan la calidad del servicio.\nAsí mismo, se considera necesaria la suspensión de nuevas autorizaciones de titulares de estaciones técnicas de vehículos hasta que se establezca el nuevo marco jurídico con la aprobación por el Parlamento de una ley que regule el servicio de interés general de la inspección técnica de vehículos, para evitar que se consoliden situaciones que puedan no ser compatibles con el nuevo marco jurídico que regule la actividad.\nEl presente Decreto ley se fundamenta en las competencias exclusivas que la Generalidad de Cataluña ostenta en materia de industria, de acuerdo con el artículo 139.1 del Estatuto de autonomía de Cataluña.\nDado lo que prevé el artículo 38 de la Ley 13/2008, de 5 de noviembre, de la presidencia de la Generalidad y del Gobierno; en uso de la autorización concedida en el artículo 64 del Estatuto de autonomía de Cataluña; a propuesta del consejero de Empresa y Conocimiento, y de acuerdo con el Gobierno, decreto:\nArtículo 1. Habilitación de los operadores autorizados de acuerdo con el Decreto 30/2010.\nEl servicio de inspección técnica de vehículos (ITV) se seguirá prestando, con carácter excepcional y transitorio, por los mismos operadores que lo prestan en el momento de la entrada en vigor del presente Decreto ley, y de acuerdo con su anexo, que incluye a la totalidad de las estaciones de inspección técnica de vehículos existentes en Cataluña.\nArtículo 2. Condiciones de la prestación del servicio. Tasas y contraprestación económica por el uso de los bienes y derechos.\n2.1 Los operadores habilitados de acuerdo con el presente Decreto ley deben continuar prestando el servicio de inspección técnica de vehículos en las mismas condiciones actuales y deben continuar abonando las tasas previstas por la normativa vigente en materia de tasas y precios públicos como consecuencia de su actividad inspectora.\n2.2 Los operadores autorizados para la prestación del servicio de inspección técnica de vehículos de acuerdo con el artículo 80.2 del Decreto 30/2010, de 2 de marzo, por el que se aprueba el reglamento de desarrollo de la Ley 12/2008, de 31 de julio, de seguridad industrial, deben abonar, además de lo dispuesto en el apartado 2.1 anterior, una cuantía como contraprestación económica por el uso de los bienes y derechos de las antiguas concesiones consistente en el 2% de los ingresos provenientes de las inspecciones realizadas mensualmente por cada estación de ITV.\n2.3 Esta contraprestación económica se abonará al órgano competente en materia de seguridad industrial de la Generalidad de Cataluña durante los 20 primeros días del mes siguiente a la realización de las inspecciones, de acuerdo con las instrucciones que aquél órgano establezca.\nArtículo 3. Reversión de los bienes y derechos de las antiguas concesiones.\n3.1 El departamento competente en materia de seguridad industrial debe realizar las oportunas actuaciones para concluir el procedimiento de reversión de los bienes procedentes de las antiguas concesiones administrativas del servicio de inspección técnica de vehículos.\n3.2 La reversión de los bienes inmuebles que no sean propiedad de las empresas concesionarias y, en consecuencia, de los que no es posible la transmisión patrimonial, conlleva el pago a la Generalidad de una contraprestación económica equivalente al valor de mercado, en los términos y plazos que establezcan las correspondientes resoluciones administrativas. En este caso, el pago de la cuantía debe conllevar la continuación en la prestación del servicio en la estación que corresponda, hasta que el Parlamento apruebe la ley que regule el régimen jurídico del servicio de interés general de la inspección técnica de vehículos y se otorgue el nuevo sistema de títulos habilitantes a los operadores que se establezca.\nArtículo 4. Plazo de la habilitación.\nLa habilitación a la que se refiere el artículo 1 del presente Decreto ley para que los actuales operadores continúen prestando el servicio de inspección técnica de vehículos tiene carácter excepcional y transitorio, y sólo por el período de tiempo imprescindible y necesario para concluir los procedimientos regulados en el artículo 3 y hasta que el Parlamento apruebe la ley que regule con carácter general la inspección técnica de vehículos y entre en vigor el nuevo sistema de habilitación de los operadores.\nDisposición adicional. Suspensión de nuevas autorizaciones.\nSe suspende el otorgamiento de nuevas autorizaciones de titulares de estaciones de inspección técnica de vehículos previstas en los artículos 26.1 y 37 de la Ley 12/2008, de 31 de julio, de seguridad industrial, hasta la entrada en vigor de una nueva ley que regule el nuevo marco jurídico del servicio de interés general de la inspección técnica de vehículos.\nDisposición final primera. Proyecto de ley de regulación de la inspección técnica de vehículos.\nEl Gobierno, en el plazo máximo de quince meses a contar desde la entrada en vigor del presente Decreto ley, debe presentar al Parlamento un proyecto de ley que regule el servicio de interés general de la inspección técnica de vehículos.\nDisposición final segunda. Entrada en vigor.\nEl presente Decreto ley entrará en vigor al día siguiente de su publicación en el «Diario Oficial de la Generalitat de Cataluña».\nPor tanto, ordeno que todos los ciudadanos a los que sea de aplicación el presente Decreto ley cooperen en su cumplimiento y que los tribunales y autoridades a los que corresponda lo hagan cumplir.\nBarcelona, 17 de noviembre de 2020.–El Vicepresidente del Gobierno en sustitución de la presidencia de la Generalidad y Consejero de Economía y Hacienda, Pere Aragonès i Garcia.–El Consejero de Empresa y Conocimiento, Ramón Tremosa i Balcells.\n(Publicado en el «Diario Oficial de la Generalitat de Cataluña» número 8275, de 19 de noviembre de 2020. Derogado por Acuerdo del Parlamento de Cataluña, publicado en el «Diario Oficial de la Generalitat de Cataluña» número 8298, de 18 de diciembre de 2020)\nANEXO\nEstaciones de inspección técnica de vehículos que actualmente prestan servicios de ITV en Cataluña\n* B: Barcelona. G: Girona. L: Lleida. T: Tarragona.\n** SSTT: Servicios territoriales.\n"
     ]
    }
   ],
   "source": [
    "parrafos=raiz.findall(\"texto/p\")\n",
    "for parrafo in parrafos:\n",
    "    print(parrafo.text)"
   ]
  },
  {
   "source": [
    "# DOGC"
   ],
   "cell_type": "markdown",
   "metadata": {}
  },
  {
   "cell_type": "code",
   "execution_count": 61,
   "metadata": {},
   "outputs": [],
   "source": [
    "URL_HTML_resumen =  \"https://dogc.gencat.cat/es/index.html?newLang=es_ES&language=es_ES\""
   ]
  },
  {
   "cell_type": "code",
   "execution_count": 62,
   "metadata": {},
   "outputs": [],
   "source": [
    "from requests_html import HTMLSession\n",
    "session = HTMLSession()\n",
    "r = session.get(URL_HTML_resumen)"
   ]
  },
  {
   "cell_type": "code",
   "execution_count": 63,
   "metadata": {},
   "outputs": [
    {
     "output_type": "execute_result",
     "data": {
      "text/plain": [
       "{'/ca/index.html?newLang=es_ES&language=es_ES',\n",
       " '/ca/pdogc_serveis/cerca-republica/',\n",
       " '/ca/pdogc_serveis/pdogc_dogc_mobi/',\n",
       " '/es/ajuda/mapaweb/',\n",
       " '/es/index.html?newLang=es_ES&language=es_ES',\n",
       " '/es/pdogc_base_de_dades_del_dogc/',\n",
       " '/es/pdogc_canals_interns/pdogc_cercador_de_normativa/?destParam=cercaAdv',\n",
       " '/es/pdogc_canals_interns/pdogc_que_es_el_codi_de_verificacio/',\n",
       " '/es/pdogc_eadop/',\n",
       " '/es/pdogc_enllacos/',\n",
       " '/es/pdogc_preguntes_frequents/',\n",
       " '/es/pdogc_serveis/',\n",
       " '/es/pdogc_serveis/pdogc_normes_urbanistiques_1985-2002/',\n",
       " '/es/pdogc_serveis/pdogc_serveis_de_informacio/',\n",
       " '/es/pdogc_serveis/pdogc_serveis_de_informacio/pdogc_alertes_dogc/',\n",
       " '/es/pdogc_serveis/pdogc_serveis_de_publicacio_al_dogc/Publicacio_Anuncis_situacio_CoV-2/',\n",
       " '/es/pdogc_serveis/pdogc_serveis_de_publicacio_al_dogc/pdogc_dogc_eacat/index.html',\n",
       " '/es/pdogc_sobre_el_dogc/',\n",
       " 'http://bop.diba.es/',\n",
       " 'http://llibreria.gencat.cat/index.php?language=es',\n",
       " 'http://web.gencat.cat/es/temes/',\n",
       " 'http://www.boe.es/diario_boe/calendarios.php?c=c',\n",
       " 'http://www.ddgi.es/bop/',\n",
       " 'http://www.gencat.cat',\n",
       " 'http://www.gencat.cat/generalitat/cas/index.htm',\n",
       " 'http://www.gencat.cat/serveis/cas/index.htm',\n",
       " 'http://www.gencat.net/catalunya/cas/index.htm',\n",
       " 'https://bop.diputaciolleida.cat',\n",
       " 'https://contractaciopublica.gencat.cat/ecofin_pscp/AppJava/es_ES/search.pscp?reqCode=start',\n",
       " 'https://dogc.gencat.cat/es/pdogc_sobre_el_dogc/Accessibilitat-dogc.gencat.cat/',\n",
       " 'https://ovt.gencat.cat/gsitfc/AppJava/generic/conqxsGeneric.do?webFormId=391&&topicLevel1ByURL.id=500&topicLevel2ByURL.id=657&set-locale=es_ES',\n",
       " 'https://portaldogc.gencat.cat/EADOP_transactional/AppJava/dogc/es/gestioUsuari.htm?mode=0',\n",
       " 'https://portaldogc.gencat.cat/EADOP_transactional/AppJava/dogc/es/gestioUsuari.htm?primeraVez=1&mode=5',\n",
       " 'https://portaldogc.gencat.cat/utilsEADOP/dogc2/dogc_es.pdf',\n",
       " 'https://portaldogc.gencat.cat/utilsEADOP/dogc2/sumari_es.pdf',\n",
       " 'https://portaljuridic.gencat.cat/ca/',\n",
       " 'https://portaljuridic.gencat.cat/ca/pjur_ocults/pjur_CoV-2/',\n",
       " 'https://portaljuridic.gencat.cat/ca/pjur_ocults/pjur_llei-5-2020/',\n",
       " 'https://seu.gencat.cat/es/index.html',\n",
       " 'https://treball.gencat.cat/es/consell_relacions_laborals/convenis_colectius/cercador_de_convenis/index.html',\n",
       " 'https://twitter.com/DOGCdeldia',\n",
       " 'https://web.gencat.cat/es/inici/index.html',\n",
       " 'https://web.gencat.cat/es/menu-ajuda/ajuda/avis_legal/',\n",
       " 'https://web.gencat.cat/es/menu-ajuda/ajuda/sobre_gencat/',\n",
       " 'https://www.diputaciodetarragona.cat/ebop/'}"
      ]
     },
     "metadata": {},
     "execution_count": 63
    }
   ],
   "source": [
    "r.html.links"
   ]
  },
  {
   "cell_type": "code",
   "execution_count": 64,
   "metadata": {},
   "outputs": [
    {
     "output_type": "execute_result",
     "data": {
      "text/plain": [
       "[' DOGC núm.\\r\\n\\t\\t\\t\\t\\t 8321 (20/01/2021)']"
      ]
     },
     "metadata": {},
     "execution_count": 64
    }
   ],
   "source": [
    "r.html.xpath('//*[@id=\"titol\"]/span/text()')"
   ]
  },
  {
   "cell_type": "code",
   "execution_count": 65,
   "metadata": {},
   "outputs": [
    {
     "output_type": "execute_result",
     "data": {
      "text/plain": [
       "['\\r\\n\\t\\t\\t\\t\\tÚltimo DOGC publicado\\r\\n\\t\\t\\t\\t']"
      ]
     },
     "metadata": {},
     "execution_count": 65
    }
   ],
   "source": [
    "r.html.xpath('//*[@id=\"titol\"]/h3/text()')\n"
   ]
  },
  {
   "cell_type": "code",
   "execution_count": 66,
   "metadata": {},
   "outputs": [
    {
     "output_type": "execute_result",
     "data": {
      "text/plain": [
       "'html'"
      ]
     },
     "metadata": {},
     "execution_count": 66
    }
   ],
   "source": [
    "r.html.lxml.tag"
   ]
  },
  {
   "cell_type": "code",
   "execution_count": 67,
   "metadata": {},
   "outputs": [
    {
     "output_type": "execute_result",
     "data": {
      "text/plain": [
       "[<Element span at 0x7fda5cc9dc20>]"
      ]
     },
     "metadata": {},
     "execution_count": 67
    }
   ],
   "source": [
    "r.html.lxml.xpath('//*[@id=\"titol\"]/span')"
   ]
  },
  {
   "cell_type": "code",
   "execution_count": 68,
   "metadata": {},
   "outputs": [
    {
     "output_type": "stream",
     "name": "stdout",
     "text": [
      "[' DOGC núm.\\r\\n\\t\\t\\t\\t\\t 8321 (20/01/2021)']\n"
     ]
    }
   ],
   "source": [
    "#import requests\n",
    "#from lxml import html\n",
    "\n",
    "response = requests.get(URL_HTML_resumen)\n",
    "\n",
    "tree = html.fromstring(response.text)\n",
    "\n",
    "# fetches all useful elements \n",
    "useful = tree.xpath('//*[@id=\"titol\"]/span/text()')\n",
    "\n",
    "print(useful)\n"
   ]
  },
  {
   "cell_type": "code",
   "execution_count": 69,
   "metadata": {},
   "outputs": [
    {
     "output_type": "execute_result",
     "data": {
      "text/plain": [
       "['/es/pdogc_canals_interns/pdogc_sumari_del_dogc/']"
      ]
     },
     "metadata": {},
     "execution_count": 69
    }
   ],
   "source": [
    "r.html.lxml.xpath('//*[@id=\"sumari\"]/ul/li[1]/form/@action')"
   ]
  },
  {
   "cell_type": "code",
   "execution_count": 70,
   "metadata": {},
   "outputs": [
    {
     "output_type": "execute_result",
     "data": {
      "text/plain": [
       "['anexos']"
      ]
     },
     "metadata": {},
     "execution_count": 70
    }
   ],
   "source": [
    "r.html.lxml.xpath('//*[@id=\"sumari\"]/ul/li[1]/form/input[1]/@name')"
   ]
  },
  {
   "cell_type": "code",
   "execution_count": 71,
   "metadata": {},
   "outputs": [
    {
     "output_type": "execute_result",
     "data": {
      "text/plain": [
       "['1']"
      ]
     },
     "metadata": {},
     "execution_count": 71
    }
   ],
   "source": [
    "r.html.lxml.xpath('//*[@id=\"sumari\"]/ul/li[1]/form/input[1]/@value')"
   ]
  },
  {
   "cell_type": "code",
   "execution_count": 72,
   "metadata": {},
   "outputs": [
    {
     "output_type": "execute_result",
     "data": {
      "text/plain": [
       "[<Element form at 0x7fda60882950>]"
      ]
     },
     "metadata": {},
     "execution_count": 72
    }
   ],
   "source": [
    "r.html.lxml.xpath('//*[@id=\"sumari\"]/ul/li[1]/form')"
   ]
  },
  {
   "cell_type": "code",
   "execution_count": 73,
   "metadata": {},
   "outputs": [
    {
     "output_type": "stream",
     "name": "stdout",
     "text": [
      "['8321']\n"
     ]
    }
   ],
   "source": [
    "useful = tree.xpath('//*[@id=\"sumari\"]/ul/li[1]/form/input[3]/@value')\n",
    "\n",
    "print(useful)"
   ]
  },
  {
   "cell_type": "code",
   "execution_count": 74,
   "metadata": {},
   "outputs": [
    {
     "output_type": "execute_result",
     "data": {
      "text/plain": [
       "['/es/pdogc_canals_interns/pdogc_sumari_del_dogc/']"
      ]
     },
     "metadata": {},
     "execution_count": 74
    }
   ],
   "source": [
    "tree.xpath('//*[@id=\"sumari\"]/ul/li[1]/form/@action')"
   ]
  },
  {
   "cell_type": "code",
   "execution_count": 75,
   "metadata": {
    "tags": []
   },
   "outputs": [
    {
     "output_type": "stream",
     "name": "stdout",
     "text": [
      "['anexos', 'language', 'numDOGC', 'seccion'] ['1', 'es_ES', '8321', '0']\n"
     ]
    },
    {
     "output_type": "execute_result",
     "data": {
      "text/plain": [
       "'anexos=1&language=es_ES&numDOGC=8321&seccion=0'"
      ]
     },
     "metadata": {},
     "execution_count": 75
    }
   ],
   "source": [
    "cadena = ''\n",
    "for input in tree.xpath('//*[@id=\"sumari\"]/ul/li[1]/form'):\n",
    "    argumentos = input.xpath('./input/@name')\n",
    "    valores = input.xpath('./input/@value')\n",
    "    print(argumentos, valores)\n",
    "\n",
    "for indice in range(len(argumentos)):\n",
    "    cadena += argumentos[indice] + '=' + valores[indice] + '&'\n",
    "\n",
    "argumentos[1]\n",
    "cadena[:-1]"
   ]
  },
  {
   "source": [
    "## Recoge Nombre Secciones Sumario"
   ],
   "cell_type": "markdown",
   "metadata": {}
  },
  {
   "cell_type": "code",
   "execution_count": 76,
   "metadata": {},
   "outputs": [
    {
     "output_type": "execute_result",
     "data": {
      "text/plain": [
       "'DISPOSICIONES'"
      ]
     },
     "metadata": {},
     "execution_count": 76
    }
   ],
   "source": [
    "import re\n",
    "seccion = tree.xpath('//*[@id=\"sumari\"]/ul/li[1]/form/a/text()')\n",
    "seccion = re.sub('(\\\\r|\\\\n|\\\\t|\\ )+', '', seccion[0])\n",
    "seccion"
   ]
  },
  {
   "source": [
    "## Recoge Nombre Secciones Sumario"
   ],
   "cell_type": "markdown",
   "metadata": {}
  },
  {
   "cell_type": "code",
   "execution_count": 77,
   "metadata": {},
   "outputs": [
    {
     "output_type": "stream",
     "name": "stdout",
     "text": [
      "   DISPOSICIONES \n   CARGOS Y PERSONAL\n   ANUNCIOS DE LA GENERALIDAD DE CATALUÑA\n   ANUNCIOS DE LA ADMINISTRACIÓN LOCAL\n   ANUNCIOS DE LA ADMINISTRACIÓN DE JUSTICIA \n   ANUNCIOS VARIOS\n"
     ]
    }
   ],
   "source": [
    "secciones = tree.xpath('//*[@id=\"sumari\"]/ul/li')\n",
    "#print(secciones)\n",
    "df_secciones_sumarios = pd.DataFrame()\n",
    "for seccion in secciones:\n",
    "    seccion = seccion.xpath('./form/a/text()')\n",
    "    seccion = re.sub('(\\\\r|\\\\n|\\\\t)+', '', seccion[0])\n",
    "    print(seccion[1:-1])\n",
    "    df_secciones_sumarios = df_secciones_sumarios.append({'Seccion': seccion[1:-1]}, ignore_index=True)\n"
   ]
  },
  {
   "cell_type": "code",
   "execution_count": 78,
   "metadata": {},
   "outputs": [
    {
     "output_type": "execute_result",
     "data": {
      "text/plain": [
       "                                         Seccion\n",
       "0                                 DISPOSICIONES \n",
       "1                              CARGOS Y PERSONAL\n",
       "2         ANUNCIOS DE LA GENERALIDAD DE CATALUÑA\n",
       "3            ANUNCIOS DE LA ADMINISTRACIÓN LOCAL\n",
       "4     ANUNCIOS DE LA ADMINISTRACIÓN DE JUSTICIA \n",
       "5                                ANUNCIOS VARIOS"
      ],
      "text/html": "<div>\n<style scoped>\n    .dataframe tbody tr th:only-of-type {\n        vertical-align: middle;\n    }\n\n    .dataframe tbody tr th {\n        vertical-align: top;\n    }\n\n    .dataframe thead th {\n        text-align: right;\n    }\n</style>\n<table border=\"1\" class=\"dataframe\">\n  <thead>\n    <tr style=\"text-align: right;\">\n      <th></th>\n      <th>Seccion</th>\n    </tr>\n  </thead>\n  <tbody>\n    <tr>\n      <th>0</th>\n      <td>DISPOSICIONES</td>\n    </tr>\n    <tr>\n      <th>1</th>\n      <td>CARGOS Y PERSONAL</td>\n    </tr>\n    <tr>\n      <th>2</th>\n      <td>ANUNCIOS DE LA GENERALIDAD DE CATALUÑA</td>\n    </tr>\n    <tr>\n      <th>3</th>\n      <td>ANUNCIOS DE LA ADMINISTRACIÓN LOCAL</td>\n    </tr>\n    <tr>\n      <th>4</th>\n      <td>ANUNCIOS DE LA ADMINISTRACIÓN DE JUSTICIA</td>\n    </tr>\n    <tr>\n      <th>5</th>\n      <td>ANUNCIOS VARIOS</td>\n    </tr>\n  </tbody>\n</table>\n</div>"
     },
     "metadata": {},
     "execution_count": 78
    }
   ],
   "source": [
    "df_secciones_sumarios"
   ]
  },
  {
   "source": [
    "## Recoge Valores para formar URLs Secciones Sumario"
   ],
   "cell_type": "markdown",
   "metadata": {}
  },
  {
   "cell_type": "code",
   "execution_count": 79,
   "metadata": {},
   "outputs": [
    {
     "output_type": "stream",
     "name": "stdout",
     "text": [
      "https://dogc.gencat.cat/es/pdogc_canals_interns/pdogc_sumari_del_dogc/?anexos=1&language=es_ES&numDOGC=8321&seccion=0\nhttps://dogc.gencat.cat/es/pdogc_canals_interns/pdogc_sumari_del_dogc/?anexos=1&language=es_ES&numDOGC=8321&seccion=1\nhttps://dogc.gencat.cat/es/pdogc_canals_interns/pdogc_sumari_del_dogc/?anexos=1&language=es_ES&numDOGC=8321&seccion=2\nhttps://dogc.gencat.cat/es/pdogc_canals_interns/pdogc_sumari_del_dogc/?anexos=1&language=es_ES&numDOGC=8321&seccion=3\nhttps://dogc.gencat.cat/es/pdogc_canals_interns/pdogc_sumari_del_dogc/?anexos=1&language=es_ES&numDOGC=8321&seccion=4\nhttps://dogc.gencat.cat/es/pdogc_canals_interns/pdogc_sumari_del_dogc/?anexos=1&language=es_ES&numDOGC=8321&seccion=5\n"
     ]
    }
   ],
   "source": [
    "URL_base_sumario = tree.xpath('//*[@id=\"sumari\"]/ul/li[1]/form/@action')\n",
    "\n",
    "df_URL_sumarios = pd.DataFrame()\n",
    "for seccion in secciones:    \n",
    "    cadena = ''\n",
    "    for input in seccion.xpath('./form'):\n",
    "        argumentos = input.xpath('./input/@name')\n",
    "        valores = input.xpath('./input/@value')\n",
    "        #print(argumentos, valores)\n",
    "\n",
    "    for indice in range(len(argumentos)):\n",
    "        cadena += argumentos[indice] + '=' + valores[indice] + '&'\n",
    "\n",
    "    URL_sumario = 'https://dogc.gencat.cat' + str(URL_base_sumario[0]) + '?' + str(cadena[:-1])\n",
    "    print(URL_sumario)\n",
    "    df_URL_sumarios = df_URL_sumarios.append({'URL_Seccion': URL_sumario}, ignore_index=True)"
   ]
  },
  {
   "cell_type": "code",
   "execution_count": 80,
   "metadata": {},
   "outputs": [
    {
     "output_type": "execute_result",
     "data": {
      "text/plain": [
       "                                         URL_Seccion\n",
       "0  https://dogc.gencat.cat/es/pdogc_canals_intern...\n",
       "1  https://dogc.gencat.cat/es/pdogc_canals_intern...\n",
       "2  https://dogc.gencat.cat/es/pdogc_canals_intern...\n",
       "3  https://dogc.gencat.cat/es/pdogc_canals_intern...\n",
       "4  https://dogc.gencat.cat/es/pdogc_canals_intern...\n",
       "5  https://dogc.gencat.cat/es/pdogc_canals_intern..."
      ],
      "text/html": "<div>\n<style scoped>\n    .dataframe tbody tr th:only-of-type {\n        vertical-align: middle;\n    }\n\n    .dataframe tbody tr th {\n        vertical-align: top;\n    }\n\n    .dataframe thead th {\n        text-align: right;\n    }\n</style>\n<table border=\"1\" class=\"dataframe\">\n  <thead>\n    <tr style=\"text-align: right;\">\n      <th></th>\n      <th>URL_Seccion</th>\n    </tr>\n  </thead>\n  <tbody>\n    <tr>\n      <th>0</th>\n      <td>https://dogc.gencat.cat/es/pdogc_canals_intern...</td>\n    </tr>\n    <tr>\n      <th>1</th>\n      <td>https://dogc.gencat.cat/es/pdogc_canals_intern...</td>\n    </tr>\n    <tr>\n      <th>2</th>\n      <td>https://dogc.gencat.cat/es/pdogc_canals_intern...</td>\n    </tr>\n    <tr>\n      <th>3</th>\n      <td>https://dogc.gencat.cat/es/pdogc_canals_intern...</td>\n    </tr>\n    <tr>\n      <th>4</th>\n      <td>https://dogc.gencat.cat/es/pdogc_canals_intern...</td>\n    </tr>\n    <tr>\n      <th>5</th>\n      <td>https://dogc.gencat.cat/es/pdogc_canals_intern...</td>\n    </tr>\n  </tbody>\n</table>\n</div>"
     },
     "metadata": {},
     "execution_count": 80
    }
   ],
   "source": [
    "df_URL_sumarios"
   ]
  },
  {
   "cell_type": "code",
   "execution_count": 81,
   "metadata": {},
   "outputs": [],
   "source": [
    " df_sumarios = pd.concat([df_secciones_sumarios, df_URL_sumarios], axis=1)"
   ]
  },
  {
   "cell_type": "code",
   "execution_count": 82,
   "metadata": {},
   "outputs": [
    {
     "output_type": "execute_result",
     "data": {
      "text/plain": [
       "                                         Seccion  \\\n",
       "0                                 DISPOSICIONES    \n",
       "1                              CARGOS Y PERSONAL   \n",
       "2         ANUNCIOS DE LA GENERALIDAD DE CATALUÑA   \n",
       "3            ANUNCIOS DE LA ADMINISTRACIÓN LOCAL   \n",
       "4     ANUNCIOS DE LA ADMINISTRACIÓN DE JUSTICIA    \n",
       "5                                ANUNCIOS VARIOS   \n",
       "\n",
       "                                         URL_Seccion  \n",
       "0  https://dogc.gencat.cat/es/pdogc_canals_intern...  \n",
       "1  https://dogc.gencat.cat/es/pdogc_canals_intern...  \n",
       "2  https://dogc.gencat.cat/es/pdogc_canals_intern...  \n",
       "3  https://dogc.gencat.cat/es/pdogc_canals_intern...  \n",
       "4  https://dogc.gencat.cat/es/pdogc_canals_intern...  \n",
       "5  https://dogc.gencat.cat/es/pdogc_canals_intern...  "
      ],
      "text/html": "<div>\n<style scoped>\n    .dataframe tbody tr th:only-of-type {\n        vertical-align: middle;\n    }\n\n    .dataframe tbody tr th {\n        vertical-align: top;\n    }\n\n    .dataframe thead th {\n        text-align: right;\n    }\n</style>\n<table border=\"1\" class=\"dataframe\">\n  <thead>\n    <tr style=\"text-align: right;\">\n      <th></th>\n      <th>Seccion</th>\n      <th>URL_Seccion</th>\n    </tr>\n  </thead>\n  <tbody>\n    <tr>\n      <th>0</th>\n      <td>DISPOSICIONES</td>\n      <td>https://dogc.gencat.cat/es/pdogc_canals_intern...</td>\n    </tr>\n    <tr>\n      <th>1</th>\n      <td>CARGOS Y PERSONAL</td>\n      <td>https://dogc.gencat.cat/es/pdogc_canals_intern...</td>\n    </tr>\n    <tr>\n      <th>2</th>\n      <td>ANUNCIOS DE LA GENERALIDAD DE CATALUÑA</td>\n      <td>https://dogc.gencat.cat/es/pdogc_canals_intern...</td>\n    </tr>\n    <tr>\n      <th>3</th>\n      <td>ANUNCIOS DE LA ADMINISTRACIÓN LOCAL</td>\n      <td>https://dogc.gencat.cat/es/pdogc_canals_intern...</td>\n    </tr>\n    <tr>\n      <th>4</th>\n      <td>ANUNCIOS DE LA ADMINISTRACIÓN DE JUSTICIA</td>\n      <td>https://dogc.gencat.cat/es/pdogc_canals_intern...</td>\n    </tr>\n    <tr>\n      <th>5</th>\n      <td>ANUNCIOS VARIOS</td>\n      <td>https://dogc.gencat.cat/es/pdogc_canals_intern...</td>\n    </tr>\n  </tbody>\n</table>\n</div>"
     },
     "metadata": {},
     "execution_count": 82
    }
   ],
   "source": [
    "df_sumarios"
   ]
  },
  {
   "cell_type": "code",
   "execution_count": 83,
   "metadata": {},
   "outputs": [
    {
     "output_type": "execute_result",
     "data": {
      "text/plain": [
       "'https://dogc.gencat.cat/es/pdogc_canals_interns/pdogc_sumari_del_dogc/?anexos=1&language=es_ES&numDOGC=8321&seccion=4'"
      ]
     },
     "metadata": {},
     "execution_count": 83
    }
   ],
   "source": [
    "df_sumarios['URL_Seccion'][4]"
   ]
  },
  {
   "source": [
    "## Recoge Items en Seccion Disposiciones"
   ],
   "cell_type": "markdown",
   "metadata": {}
  },
  {
   "cell_type": "code",
   "execution_count": 84,
   "metadata": {
    "tags": []
   },
   "outputs": [
    {
     "output_type": "execute_result",
     "data": {
      "text/plain": [
       "         Seccion                                          Item_Name  \\\n",
       "0  DISPOSICIONES  RESOLUCIÓN TES/78/2021, de 15 de enero, por la...   \n",
       "1  DISPOSICIONES  RESOLUCIÓN TES/79/2021, de 15 de enero, por la...   \n",
       "2  DISPOSICIONES  RESOLUCIÓN TES/3526/2020, de 28 de diciembre, ...   \n",
       "3  DISPOSICIONES  RESOLUCIÓN TES/3527/2020, de 28 de diciembre, ...   \n",
       "4  DISPOSICIONES  EDICTO de 13 de enero de 2021, sobre acuerdos ...   \n",
       "5  DISPOSICIONES  EDICTO de 13 de enero de 2021, sobre acuerdos ...   \n",
       "6  DISPOSICIONES  EDICTO de 13 de enero de 2021, sobre un acuerd...   \n",
       "7  DISPOSICIONES                                                ...   \n",
       "8  DISPOSICIONES                                                ...   \n",
       "9  DISPOSICIONES  RESOLUCIÓN ARP/83/2021, de 13 de enero, por la...   \n",
       "\n",
       "                                            PDF_link  \n",
       "0  https://portaldogc.gencat.cat/utilsEADOP/AppJa...  \n",
       "1  https://portaldogc.gencat.cat/utilsEADOP/AppJa...  \n",
       "2  https://portaldogc.gencat.cat/utilsEADOP/AppJa...  \n",
       "3  https://portaldogc.gencat.cat/utilsEADOP/AppJa...  \n",
       "4  https://portaldogc.gencat.cat/utilsEADOP/AppJa...  \n",
       "5  https://portaldogc.gencat.cat/utilsEADOP/AppJa...  \n",
       "6  https://portaldogc.gencat.cat/utilsEADOP/AppJa...  \n",
       "7  https://portaldogc.gencat.cat/utilsEADOP/AppJa...  \n",
       "8  https://portaldogc.gencat.cat/utilsEADOP/AppJa...  \n",
       "9  https://portaldogc.gencat.cat/utilsEADOP/AppJa...  "
      ],
      "text/html": "<div>\n<style scoped>\n    .dataframe tbody tr th:only-of-type {\n        vertical-align: middle;\n    }\n\n    .dataframe tbody tr th {\n        vertical-align: top;\n    }\n\n    .dataframe thead th {\n        text-align: right;\n    }\n</style>\n<table border=\"1\" class=\"dataframe\">\n  <thead>\n    <tr style=\"text-align: right;\">\n      <th></th>\n      <th>Seccion</th>\n      <th>Item_Name</th>\n      <th>PDF_link</th>\n    </tr>\n  </thead>\n  <tbody>\n    <tr>\n      <th>0</th>\n      <td>DISPOSICIONES</td>\n      <td>RESOLUCIÓN TES/78/2021, de 15 de enero, por la...</td>\n      <td>https://portaldogc.gencat.cat/utilsEADOP/AppJa...</td>\n    </tr>\n    <tr>\n      <th>1</th>\n      <td>DISPOSICIONES</td>\n      <td>RESOLUCIÓN TES/79/2021, de 15 de enero, por la...</td>\n      <td>https://portaldogc.gencat.cat/utilsEADOP/AppJa...</td>\n    </tr>\n    <tr>\n      <th>2</th>\n      <td>DISPOSICIONES</td>\n      <td>RESOLUCIÓN TES/3526/2020, de 28 de diciembre, ...</td>\n      <td>https://portaldogc.gencat.cat/utilsEADOP/AppJa...</td>\n    </tr>\n    <tr>\n      <th>3</th>\n      <td>DISPOSICIONES</td>\n      <td>RESOLUCIÓN TES/3527/2020, de 28 de diciembre, ...</td>\n      <td>https://portaldogc.gencat.cat/utilsEADOP/AppJa...</td>\n    </tr>\n    <tr>\n      <th>4</th>\n      <td>DISPOSICIONES</td>\n      <td>EDICTO de 13 de enero de 2021, sobre acuerdos ...</td>\n      <td>https://portaldogc.gencat.cat/utilsEADOP/AppJa...</td>\n    </tr>\n    <tr>\n      <th>5</th>\n      <td>DISPOSICIONES</td>\n      <td>EDICTO de 13 de enero de 2021, sobre acuerdos ...</td>\n      <td>https://portaldogc.gencat.cat/utilsEADOP/AppJa...</td>\n    </tr>\n    <tr>\n      <th>6</th>\n      <td>DISPOSICIONES</td>\n      <td>EDICTO de 13 de enero de 2021, sobre un acuerd...</td>\n      <td>https://portaldogc.gencat.cat/utilsEADOP/AppJa...</td>\n    </tr>\n    <tr>\n      <th>7</th>\n      <td>DISPOSICIONES</td>\n      <td>...</td>\n      <td>https://portaldogc.gencat.cat/utilsEADOP/AppJa...</td>\n    </tr>\n    <tr>\n      <th>8</th>\n      <td>DISPOSICIONES</td>\n      <td>...</td>\n      <td>https://portaldogc.gencat.cat/utilsEADOP/AppJa...</td>\n    </tr>\n    <tr>\n      <th>9</th>\n      <td>DISPOSICIONES</td>\n      <td>RESOLUCIÓN ARP/83/2021, de 13 de enero, por la...</td>\n      <td>https://portaldogc.gencat.cat/utilsEADOP/AppJa...</td>\n    </tr>\n  </tbody>\n</table>\n</div>"
     },
     "metadata": {},
     "execution_count": 84
    }
   ],
   "source": [
    "### Recoge Items en Seccion Disposiciones\n",
    "\n",
    "response = requests.get(df_sumarios['URL_Seccion'][0])\n",
    "sumario_HTML = html.fromstring(response.text)\n",
    "\n",
    "#seccion = sumario_HTML.xpath('//*[@id=\"disposicions\"]/div[1]/text()')\n",
    "seccion = sumario_HTML.xpath('//*[@id=\"disposicions\"]/div/text()')\n",
    "bloques = sumario_HTML.xpath('//*[@id=\"disposicions\"]')\n",
    "df_disposiciones = pd.DataFrame(columns=['Seccion','Item_Name','PDF_link'])\n",
    "for bloque in bloques: \n",
    "    item_name = bloque.xpath('./div/p/text()')\n",
    "    #item_name = re.sub('(\\\\r|\\\\n|\\\\t)+', '', item_name[0])\n",
    "    pdf_link = bloque.xpath('./div/div/a[4]/@href')\n",
    "\n",
    "for row in range(len(pdf_link)):\n",
    "    df_disposiciones = df_disposiciones.append({'Item_Name': re.sub('(\\\\r|\\\\n|\\\\t)+', '',                                                                               item_name[row]),\n",
    "                                            'PDF_link' : pdf_link[row],\n",
    "                                            'Seccion' : seccion[0][:-1]},\n",
    "                                            ignore_index=True)\n",
    "\n",
    "df_disposiciones"
   ]
  },
  {
   "cell_type": "code",
   "execution_count": 85,
   "metadata": {},
   "outputs": [
    {
     "output_type": "execute_result",
     "data": {
      "text/plain": [
       "['https://portaldogc.gencat.cat/utilsEADOP/AppJava/PdfProviderServlet?documentId=891257&type=01&language=es_ES',\n",
       " 'https://portaldogc.gencat.cat/utilsEADOP/AppJava/PdfProviderServlet?documentId=891211&type=01&language=es_ES',\n",
       " 'https://portaldogc.gencat.cat/utilsEADOP/AppJava/PdfProviderServlet?documentId=891263&type=01&language=es_ES',\n",
       " 'https://portaldogc.gencat.cat/utilsEADOP/AppJava/PdfProviderServlet?documentId=891247&type=01&language=es_ES',\n",
       " 'https://portaldogc.gencat.cat/utilsEADOP/AppJava/PdfProviderServlet?documentId=891200&type=01&language=es_ES',\n",
       " 'https://portaldogc.gencat.cat/utilsEADOP/AppJava/PdfProviderServlet?documentId=891236&type=01&language=es_ES',\n",
       " 'https://portaldogc.gencat.cat/utilsEADOP/AppJava/PdfProviderServlet?documentId=891250&type=01&language=es_ES',\n",
       " 'https://portaldogc.gencat.cat/utilsEADOP/AppJava/PdfProviderServlet?documentId=891232&type=01&language=es_ES',\n",
       " 'https://portaldogc.gencat.cat/utilsEADOP/AppJava/PdfProviderServlet?documentId=891233&type=01&language=es_ES',\n",
       " 'https://portaldogc.gencat.cat/utilsEADOP/AppJava/PdfProviderServlet?documentId=891261&type=01&language=es_ES']"
      ]
     },
     "metadata": {},
     "execution_count": 85
    }
   ],
   "source": [
    "pdf_link"
   ]
  },
  {
   "source": [
    "# DOUE"
   ],
   "cell_type": "markdown",
   "metadata": {}
  },
  {
   "cell_type": "code",
   "execution_count": 86,
   "metadata": {},
   "outputs": [],
   "source": [
    "# --------------------------------------------------------------------------------------\n",
    "# DOUE\n",
    "# --------------------------------------------------------------------------------------\n",
    "\n",
    "URL_HTML_resumen =  \"https://eur-lex.europa.eu/oj/direct-access.html?locale=es\"\n",
    "\n",
    "## carga página HTML y genera árbol\n",
    "\n",
    "response = requests.get(URL_HTML_resumen)\n",
    "tree = html.fromstring(response.text)\n",
    "\n",
    "## Recoge Nombre Secciones Sumario\n",
    "\n",
    "secciones = tree.xpath('//*[@id=\"MainContent\"]/div[2]/div[2]/div/table/tbody/tr[1]')\n",
    "#print(secciones)\n",
    "\n"
   ]
  },
  {
   "cell_type": "code",
   "execution_count": null,
   "metadata": {},
   "outputs": [],
   "source": []
  },
  {
   "cell_type": "code",
   "execution_count": 87,
   "metadata": {},
   "outputs": [],
   "source": [
    "## Recoge Valores para formar URLs Secciones Sumario\n",
    "\n",
    "df_secciones_sumarios = pd.DataFrame()\n",
    "for seccion in secciones:\n",
    "    seccion_name = seccion.xpath('./td[2]/a/text()')\n",
    "    seccion_URL = seccion.xpath('./td[2]/a/@href')\n",
    "    #seccion = re.sub('(\\\\r|\\\\n|\\\\t)+', '', seccion)\n",
    "    #print(seccion_name)\n",
    "    #print(seccion_URL)\n",
    "\n",
    "for row in range(len(seccion_name)):\n",
    "    df_secciones_sumarios = df_secciones_sumarios.append({'Seccion': seccion_name[row],\n",
    "                                            'Seccion_link' : 'https://eur-lex.europa.eu' + seccion_URL[row][4:]},\n",
    "                                            ignore_index=True)"
   ]
  },
  {
   "cell_type": "code",
   "execution_count": 88,
   "metadata": {},
   "outputs": [
    {
     "output_type": "execute_result",
     "data": {
      "text/plain": [
       "  Seccion                                       Seccion_link\n",
       "0    L017  https://eur-lex.europa.eu/legal-content/ES/TXT...\n",
       "1    L018  https://eur-lex.europa.eu/legal-content/ES/TXT..."
      ],
      "text/html": "<div>\n<style scoped>\n    .dataframe tbody tr th:only-of-type {\n        vertical-align: middle;\n    }\n\n    .dataframe tbody tr th {\n        vertical-align: top;\n    }\n\n    .dataframe thead th {\n        text-align: right;\n    }\n</style>\n<table border=\"1\" class=\"dataframe\">\n  <thead>\n    <tr style=\"text-align: right;\">\n      <th></th>\n      <th>Seccion</th>\n      <th>Seccion_link</th>\n    </tr>\n  </thead>\n  <tbody>\n    <tr>\n      <th>0</th>\n      <td>L017</td>\n      <td>https://eur-lex.europa.eu/legal-content/ES/TXT...</td>\n    </tr>\n    <tr>\n      <th>1</th>\n      <td>L018</td>\n      <td>https://eur-lex.europa.eu/legal-content/ES/TXT...</td>\n    </tr>\n  </tbody>\n</table>\n</div>"
     },
     "metadata": {},
     "execution_count": 88
    }
   ],
   "source": [
    "df_secciones_sumarios"
   ]
  },
  {
   "cell_type": "code",
   "execution_count": 89,
   "metadata": {},
   "outputs": [
    {
     "output_type": "stream",
     "name": "stdout",
     "text": [
      "https://eur-lex.europa.eu/legal-content/ES/TXT/?uri=OJ:L:2021:017:TOC\nhttps://eur-lex.europa.eu/legal-content/ES/TXT/?uri=OJ:L:2021:018:TOC\n"
     ]
    },
    {
     "output_type": "execute_result",
     "data": {
      "text/plain": [
       "[None, None]"
      ]
     },
     "metadata": {},
     "execution_count": 89
    }
   ],
   "source": [
    "[ print (row) for row in df_secciones_sumarios['Seccion_link']]"
   ]
  },
  {
   "source": [
    "df_sumarios = pd.DataFrame()\n",
    "\n",
    "for URL in df_secciones_sumarios['Seccion_link']:\n",
    "    \n",
    "    ### Recoge Items en Seccion Legislación\n",
    "\n",
    "    #print(URL)\n",
    "    response = requests.get(URL)\n",
    "    sumario_HTML = html.fromstring(response.text)\n",
    "\n",
    "    documentos = sumario_HTML.xpath('//*[@class=\"oj-ti-doc-dur\"]/a[1]/text()[1]')\n",
    "    documentos_URL = sumario_HTML.xpath('//*[@class=\"oj-ti-doc-dur\"]/a[1]/@href')\n",
    "\n",
    "    for row in range(len(documentos)):\n",
    "        df_sumarios = df_sumarios.append({'Seccion': 'L' + documentos_URL[row][-7:-4],\n",
    "                                        'Item_Name': documentos[row],\n",
    "                                        'Item_Link': 'https://eur-lex.europa.eu' + documentos_URL[row][10:],\n",
    "                                        'PDF_Link': ''},\n",
    "                                        ignore_index=True)\n"
   ],
   "cell_type": "code",
   "metadata": {},
   "execution_count": 90,
   "outputs": []
  },
  {
   "cell_type": "code",
   "execution_count": 91,
   "metadata": {},
   "outputs": [
    {
     "output_type": "execute_result",
     "data": {
      "text/plain": [
       "                                           Item_Link  \\\n",
       "0  https://eur-lex.europa.eu/legal-content/ES/AUT...   \n",
       "1  https://eur-lex.europa.eu/legal-content/ES/AUT...   \n",
       "\n",
       "                                           Item_Name PDF_Link Seccion  \n",
       "0  Decisión (UE) 2021/42 del Consejo, de 19 de en...             L017  \n",
       "1                                        Decisión N.             L018  "
      ],
      "text/html": "<div>\n<style scoped>\n    .dataframe tbody tr th:only-of-type {\n        vertical-align: middle;\n    }\n\n    .dataframe tbody tr th {\n        vertical-align: top;\n    }\n\n    .dataframe thead th {\n        text-align: right;\n    }\n</style>\n<table border=\"1\" class=\"dataframe\">\n  <thead>\n    <tr style=\"text-align: right;\">\n      <th></th>\n      <th>Item_Link</th>\n      <th>Item_Name</th>\n      <th>PDF_Link</th>\n      <th>Seccion</th>\n    </tr>\n  </thead>\n  <tbody>\n    <tr>\n      <th>0</th>\n      <td>https://eur-lex.europa.eu/legal-content/ES/AUT...</td>\n      <td>Decisión (UE) 2021/42 del Consejo, de 19 de en...</td>\n      <td></td>\n      <td>L017</td>\n    </tr>\n    <tr>\n      <th>1</th>\n      <td>https://eur-lex.europa.eu/legal-content/ES/AUT...</td>\n      <td>Decisión N.</td>\n      <td></td>\n      <td>L018</td>\n    </tr>\n  </tbody>\n</table>\n</div>"
     },
     "metadata": {},
     "execution_count": 91
    }
   ],
   "source": [
    "df_sumarios"
   ]
  },
  {
   "cell_type": "code",
   "execution_count": 92,
   "metadata": {},
   "outputs": [
    {
     "output_type": "error",
     "ename": "NameError",
     "evalue": "name 'PDF_link' is not defined",
     "traceback": [
      "\u001b[0;31m---------------------------------------------------------------------------\u001b[0m",
      "\u001b[0;31mNameError\u001b[0m                                 Traceback (most recent call last)",
      "\u001b[0;32m<ipython-input-92-d6a2afa479cb>\u001b[0m in \u001b[0;36m<module>\u001b[0;34m\u001b[0m\n\u001b[1;32m     12\u001b[0m \u001b[0;34m\u001b[0m\u001b[0m\n\u001b[1;32m     13\u001b[0m     \u001b[0mrow\u001b[0m \u001b[0;34m+=\u001b[0m \u001b[0;36m1\u001b[0m\u001b[0;34m\u001b[0m\u001b[0;34m\u001b[0m\u001b[0m\n\u001b[0;32m---> 14\u001b[0;31m     \u001b[0mprint\u001b[0m\u001b[0;34m(\u001b[0m\u001b[0mPDF_link\u001b[0m\u001b[0;34m)\u001b[0m\u001b[0;34m\u001b[0m\u001b[0;34m\u001b[0m\u001b[0m\n\u001b[0m",
      "\u001b[0;31mNameError\u001b[0m: name 'PDF_link' is not defined"
     ]
    }
   ],
   "source": [
    "row = 0\n",
    "for link in df_sumarios['Item_Link']:\n",
    "\n",
    "    ### Recoge PDF link en Items Legislación\n",
    "\n",
    "    #print(URL)\n",
    "    response = requests.get(link)\n",
    "    sumario_HTML = html.fromstring(response.text)\n",
    "\n",
    "    PDF_Link = sumario_HTML.xpath('//*[@id=\"format_language_table_PDF_ES\"]/@href')\n",
    "    df_sumarios['PDF_Link'].iloc[row] = 'https://eur-lex.europa.eu' + PDF_Link[0][10:]\n",
    "\n",
    "    row += 1\n",
    "    print(PDF_link)"
   ]
  },
  {
   "cell_type": "code",
   "execution_count": null,
   "metadata": {},
   "outputs": [],
   "source": [
    "df_sumarios = df_sumarios[['Seccion', 'Item_Name', 'Item_Link', 'PDF_Link']]\n",
    "df_sumarios"
   ]
  },
  {
   "source": [
    "\n",
    "\n",
    "## Recoge Valores para formar URLs Secciones Sumario\n",
    "\n",
    "URL_base_sumario = tree.xpath('//*[@id=\"sumari\"]/ul/li[1]/form/@action')\n",
    "\n",
    "df_URL_sumarios = pd.DataFrame()\n",
    "for seccion in secciones:    \n",
    "    cadena = ''\n",
    "    for input in seccion.xpath('./form'):\n",
    "        argumentos = input.xpath('./input/@name')\n",
    "        valores = input.xpath('./input/@value')\n",
    "        #print(argumentos, valores)\n",
    "\n",
    "    for indice in range(len(argumentos)):\n",
    "        cadena += argumentos[indice] + '=' + valores[indice] + '&'\n",
    "\n",
    "    URL_sumario = 'https://dogc.gencat.cat' + str(URL_base_sumario[0]) + '?' + str(cadena[:-1])\n",
    "    print(URL_sumario)\n",
    "    df_URL_sumarios = df_URL_sumarios.append({'URL_Seccion': URL_sumario}, ignore_index=True)\n",
    "\n",
    "## Concatena en df columnas Sccion y URL de sumarios \n",
    "\n",
    "df_sumarios = pd.concat([df_secciones_sumarios, df_URL_sumarios], axis=1)\n",
    "\n",
    "### Recoge Items en Seccion Disposiciones\n",
    "\n",
    "response = requests.get(df_sumarios['URL_Seccion'][0])\n",
    "sumario_HTML = html.fromstring(response.text)\n",
    "\n",
    "#seccion = sumario_HTML.xpath('//*[@id=\"disposicions\"]/div[1]/text()')\n",
    "seccion = sumario_HTML.xpath('//*[@id=\"disposicions\"]/div/text()')\n",
    "bloques = sumario_HTML.xpath('//*[@id=\"disposicions\"]')\n",
    "df_disposiciones = pd.DataFrame(columns=['Seccion','Item_Name','PDF_link'])\n",
    "for bloque in bloques: \n",
    "    item_name = bloque.xpath('./div/p/text()')\n",
    "    #item_name = re.sub('(\\\\r|\\\\n|\\\\t)+', '', item_name[0])\n",
    "    pdf_link = bloque.xpath('./div/div/a[4]/@href')\n",
    "\n",
    "for row in range(len(pdf_link)):\n",
    "    df_disposiciones = df_disposiciones.append({'Item_Name': re.sub('(\\\\r|\\\\n|\\\\t)+', '', item_name[row]),\n",
    "                                            'PDF_link' : pdf_link[row],\n",
    "                                            'Seccion' : seccion[0][:-1]},\n",
    "                                            ignore_index=True)\n",
    "\n",
    "#df_disposiciones\n",
    "\n",
    "def modifica_tabla_resultados_DOGC(tabla):\n",
    "    tabla = tabla.reset_index(drop=True)\n",
    "    tabla['Item_Name'] = '<a href=' + tabla['PDF_link'] + ' ' + 'target=\"_blank\"' + '><div>' + tabla['Item_Name'] + '</div></a>' # Añade url link  pdf a Item_id\n",
    "    tabla.drop(['PDF_link'], axis='columns', inplace=True)\n",
    "    df_html = tabla.reset_index(drop=True).to_html(index='True', classes=\"table-hover\", escape=False) # Utiliza Clase table-hover de Bootstrap\n",
    "    df_html = df_html.replace(\"dataframe\", \"\")  # Elimina clase por defecto dataframe\n",
    "    df_html = df_html.replace('border=\"1\"', 'border=\"2\"')  # Incrementa tamaño línea borde tabla\n",
    "    df_html = df_html.replace(\"<table\", '<table style=\"font-size:12px; text-align: center; width: 100%\" ') # Cambia tamaño fuente a 15px\n",
    "    df_html = df_html.replace(\"<th>\"+ tabla.columns[0], '<th style=\"text-align: center\">'+ tabla.columns[0]) # Cambia alineación a header Columna 1\n",
    "    df_html = df_html.replace(\"<th>\"+ tabla.columns[1], '<th style=\"text-align: center\">'+ tabla.columns[1]) # Cambia alineación a header Columna 2\n",
    "    \n",
    "    return df_html\n",
    "\n",
    "st.header('')\n",
    "st.header('DOGC disposiciones')\n",
    "\n",
    "\n",
    "tabla_resultados_presentacion_DOGC = modifica_tabla_resultados_DOGC(df_disposiciones)\n",
    "\n",
    "st.write(tabla_resultados_presentacion_DOGC, unsafe_allow_html=True)"
   ],
   "cell_type": "markdown",
   "metadata": {}
  }
 ]
}