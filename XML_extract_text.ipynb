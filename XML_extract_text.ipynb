{
 "metadata": {
  "language_info": {
   "codemirror_mode": {
    "name": "ipython",
    "version": 3
   },
   "file_extension": ".py",
   "mimetype": "text/x-python",
   "name": "python",
   "nbconvert_exporter": "python",
   "pygments_lexer": "ipython3",
   "version": "3.8.5-final"
  },
  "orig_nbformat": 2,
  "kernelspec": {
   "name": "python3",
   "display_name": "Python 3",
   "language": "python"
  }
 },
 "nbformat": 4,
 "nbformat_minor": 2,
 "cells": [
  {
   "cell_type": "code",
   "execution_count": 3,
   "metadata": {},
   "outputs": [],
   "source": [
    "from lxml import etree, html\n",
    "import pandas as pd\n",
    "from datetime import date\n",
    "import requests"
   ]
  },
  {
   "cell_type": "code",
   "execution_count": 4,
   "metadata": {},
   "outputs": [],
   "source": [
    "doc = etree.parse('BOE-A-2020-14372.xml')"
   ]
  },
  {
   "cell_type": "code",
   "execution_count": 5,
   "metadata": {},
   "outputs": [],
   "source": [
    "#etree.tostring(doc,pretty_print=True ,xml_declaration=True, encoding=\"utf-8\")"
   ]
  },
  {
   "cell_type": "code",
   "execution_count": 6,
   "metadata": {},
   "outputs": [
    {
     "output_type": "execute_result",
     "data": {
      "text/plain": [
       "'documento'"
      ]
     },
     "metadata": {},
     "execution_count": 6
    }
   ],
   "source": [
    "raiz=doc.getroot()\n",
    "raiz.tag"
   ]
  },
  {
   "cell_type": "code",
   "execution_count": 7,
   "metadata": {},
   "outputs": [
    {
     "output_type": "execute_result",
     "data": {
      "text/plain": [
       "4"
      ]
     },
     "metadata": {},
     "execution_count": 7
    }
   ],
   "source": [
    "len(raiz)"
   ]
  },
  {
   "cell_type": "code",
   "execution_count": 8,
   "metadata": {},
   "outputs": [
    {
     "output_type": "execute_result",
     "data": {
      "text/plain": [
       "'metadatos'"
      ]
     },
     "metadata": {},
     "execution_count": 8
    }
   ],
   "source": [
    "libro=raiz[0]\n",
    "libro.tag"
   ]
  },
  {
   "cell_type": "code",
   "execution_count": 9,
   "metadata": {},
   "outputs": [
    {
     "output_type": "execute_result",
     "data": {
      "text/plain": [
       "'BOE-A-2020-14372'"
      ]
     },
     "metadata": {},
     "execution_count": 9
    }
   ],
   "source": [
    "libro=raiz[0]\n",
    "libro[0].text"
   ]
  },
  {
   "cell_type": "code",
   "execution_count": 10,
   "metadata": {},
   "outputs": [
    {
     "output_type": "execute_result",
     "data": {
      "text/plain": [
       "'{http://www.w3.org/1999/02/22-rdf-syntax-ns#}RDF'"
      ]
     },
     "metadata": {},
     "execution_count": 10
    }
   ],
   "source": [
    "libro=raiz[1]\n",
    "libro[0].tag"
   ]
  },
  {
   "cell_type": "code",
   "execution_count": 11,
   "metadata": {},
   "outputs": [
    {
     "output_type": "execute_result",
     "data": {
      "text/plain": [
       "'\\n            '"
      ]
     },
     "metadata": {},
     "execution_count": 11
    }
   ],
   "source": [
    "libro=raiz[1]\n",
    "libro[0].text"
   ]
  },
  {
   "cell_type": "code",
   "execution_count": 12,
   "metadata": {},
   "outputs": [],
   "source": [
    "Identificador=raiz.find(\"metadatos/identificador\")\n",
    "Titulo=raiz.find(\"metadatos/titulo\")\n",
    "URL_pdf=raiz.find(\"metadatos/url_pdf\")"
   ]
  },
  {
   "cell_type": "code",
   "execution_count": 13,
   "metadata": {},
   "outputs": [
    {
     "output_type": "stream",
     "name": "stdout",
     "text": [
      "BOE-A-2020-14372\nDecreto-ley 35/2020, de 20 de octubre, de modificación del Decreto-ley 19/2020, de 19 de mayo, y del Decreto-ley 29/2020, de 28 de julio, en materia de adopción de medidas sociales y sanitarias para paliar los efectos de la pandemia generada por la COVID-19.\nhttps://www.boe.es/boe/dias/2020/11/18/pdfs/BOE-A-2020-14372.pdf\n"
     ]
    }
   ],
   "source": [
    "print(Identificador.text)\n",
    "print(Titulo.text)\n",
    "print(\"https://www.boe.es\" + URL_pdf.text)\n"
   ]
  },
  {
   "cell_type": "code",
   "execution_count": 14,
   "metadata": {},
   "outputs": [
    {
     "output_type": "execute_result",
     "data": {
      "text/plain": [
       "'Asistencia sanitaria'"
      ]
     },
     "metadata": {},
     "execution_count": 14
    }
   ],
   "source": [
    "materia=raiz.find(\"analisis/materias/materia\")\n",
    "materia.text"
   ]
  },
  {
   "cell_type": "code",
   "execution_count": 15,
   "metadata": {},
   "outputs": [
    {
     "output_type": "stream",
     "name": "stdout",
     "text": [
      "Asistencia sanitaria\nAsistencia social\nAyudas\nCataluña\nCentros residenciales para personas con discapacidad\nEpidemias\nEstablecimientos residenciales para la Tercera Edad\nPagos\nServicios Sociales de las Comunidades Autónomas\n"
     ]
    }
   ],
   "source": [
    "materias=raiz.findall(\"analisis/materias/materia\")\n",
    "for materia in materias:\n",
    "    print(materia.text)"
   ]
  },
  {
   "cell_type": "code",
   "execution_count": 16,
   "metadata": {},
   "outputs": [
    {
     "output_type": "execute_result",
     "data": {
      "text/plain": [
       "list"
      ]
     },
     "metadata": {},
     "execution_count": 16
    }
   ],
   "source": [
    "type(materias)"
   ]
  },
  {
   "cell_type": "code",
   "execution_count": 17,
   "metadata": {},
   "outputs": [
    {
     "output_type": "stream",
     "name": "stdout",
     "text": [
      "Asuntos sociales\nSanidad\n"
     ]
    }
   ],
   "source": [
    "alertas=raiz.findall(\"analisis/alertas/alerta\")\n",
    "for alerta in alertas:\n",
    "    print(alerta.text)"
   ]
  },
  {
   "source": [
    "# Recoge resumen diario del BOE de hoy"
   ],
   "cell_type": "markdown",
   "metadata": {}
  },
  {
   "cell_type": "code",
   "execution_count": 18,
   "metadata": {},
   "outputs": [
    {
     "output_type": "stream",
     "name": "stdout",
     "text": [
      "Fecha de Hoy = 20201223\ndia = 23\nmes = 12\naño = 2020\n"
     ]
    }
   ],
   "source": [
    "\n",
    "today = date.today()\n",
    "\n",
    "# dd/mm/YYYY\n",
    "hoy = today.strftime(\"%Y%m%d\")\n",
    "print(\"Fecha de Hoy =\", hoy)\n",
    "\n",
    "# dd\n",
    "d = today.strftime(\"%d\")\n",
    "print(\"dia =\", d)\n",
    "\n",
    "# mm\n",
    "m = today.strftime(\"%m\")\n",
    "print(\"mes =\", m)\n",
    "\n",
    "# YYYY\n",
    "Y = today.strftime(\"%Y\")\n",
    "print(\"año =\", Y)\n",
    "\n"
   ]
  },
  {
   "cell_type": "code",
   "execution_count": 19,
   "metadata": {},
   "outputs": [],
   "source": [
    "URL_XML_resumen =  \"https://www.boe.es/diario_boe/xml.php?id=BOE-S-\" + str(hoy)"
   ]
  },
  {
   "cell_type": "code",
   "execution_count": 20,
   "metadata": {},
   "outputs": [
    {
     "output_type": "execute_result",
     "data": {
      "text/plain": [
       "'https://www.boe.es/diario_boe/xml.php?id=BOE-S-20201223'"
      ]
     },
     "metadata": {},
     "execution_count": 20
    }
   ],
   "source": [
    "URL_XML_resumen"
   ]
  },
  {
   "cell_type": "code",
   "execution_count": 21,
   "metadata": {},
   "outputs": [],
   "source": [
    "#pip install requests for installation\n",
    "\n",
    "\n",
    "\n",
    "url = URL_XML_resumen\n",
    "r = requests.get(url)\n",
    "#r.content\n",
    "#r.text"
   ]
  },
  {
   "cell_type": "code",
   "execution_count": 22,
   "metadata": {},
   "outputs": [],
   "source": [
    "def save_html(html, path):\n",
    "    with open(path, 'wb') as f:\n",
    "        f.write(html)\n",
    "        \n",
    "#save_html(r.content, './BOEs/resumen.xml')\n",
    "save_html(r.content, './BOEs/Resumen-BOE-' + hoy + '.xml')"
   ]
  },
  {
   "cell_type": "code",
   "execution_count": 23,
   "metadata": {},
   "outputs": [],
   "source": [
    "#r.encoding"
   ]
  },
  {
   "cell_type": "code",
   "execution_count": 24,
   "metadata": {},
   "outputs": [],
   "source": [
    "#resumen = etree.parse('./BOEs/resumen.xml')\n",
    "resumen = etree.parse('./BOEs/Resumen-BOE-' + hoy + '.xml')"
   ]
  },
  {
   "cell_type": "code",
   "execution_count": 25,
   "metadata": {},
   "outputs": [],
   "source": [
    "raiz=resumen.getroot()\n",
    "raiz.tag\n",
    "raiz_sumario = raiz"
   ]
  },
  {
   "cell_type": "code",
   "execution_count": 26,
   "metadata": {},
   "outputs": [
    {
     "output_type": "execute_result",
     "data": {
      "text/plain": [
       "[]"
      ]
     },
     "metadata": {},
     "execution_count": 26
    }
   ],
   "source": [
    "seccion = raiz.findall(\"sumario/diario/seccion\")\n",
    "seccion"
   ]
  },
  {
   "cell_type": "code",
   "execution_count": 27,
   "metadata": {},
   "outputs": [
    {
     "output_type": "stream",
     "name": "stdout",
     "text": [
      "['I. Disposiciones generales']\n['II. Autoridades y personal. - A. Nombramientos, situaciones e incidencias']\n['II. Autoridades y personal. - B. Oposiciones y concursos']\n['III. Otras disposiciones']\n['IV. Administración de Justicia']\n['V. Anuncios. - A. Contratación del Sector Público']\n['V. Anuncios. - B. Otros anuncios oficiales']\n"
     ]
    }
   ],
   "source": [
    "for seccion in raiz.xpath('//seccion'):\n",
    "    nombre_seccion = seccion.xpath('@nombre')\n",
    "    print(nombre_seccion)"
   ]
  },
  {
   "cell_type": "code",
   "execution_count": 28,
   "metadata": {},
   "outputs": [],
   "source": [
    "secciones = raiz.findall(\"sumario/diario/seccion\")\n",
    "for seccion in secciones:\n",
    "    print(seccion.text)"
   ]
  },
  {
   "cell_type": "code",
   "execution_count": 29,
   "metadata": {},
   "outputs": [],
   "source": [
    "tabla_resumen = pd.DataFrame()"
   ]
  },
  {
   "cell_type": "code",
   "execution_count": 30,
   "metadata": {},
   "outputs": [],
   "source": [
    "#for seccion in raiz.xpath('//seccion[contains(@nombre, \"III. Otras disposiciones\") or contains(@nombre, \"I. Disposiciones generales\")]'):\n",
    "for seccion in raiz.xpath('//seccion[contains(@nombre, \"I. Disposiciones generales\")]'):\n",
    "#for seccion in raiz.xpath('//seccion'):\n",
    "    nombre_seccion = seccion.xpath('@nombre')\n",
    "\n",
    "    for departamento in seccion:\n",
    "        nombre_departamento = departamento.xpath('@nombre') \n",
    "\n",
    "        for epigrafe in departamento:\n",
    "            nombre_epigrafe = epigrafe.xpath('@nombre')\n",
    "\n",
    "            for item in epigrafe:\n",
    "                item_id = item.xpath('@id')\n",
    "                item_name = item.xpath('.//titulo/text()') \n",
    "\n",
    "                item_urlXml = \"https://www.boe.es\" + str(item.xpath('.//urlXml/text()'))[2:-2]\n",
    "                #print(item_urlXml)\n",
    "\n",
    "                tabla_resumen = tabla_resumen.append({'Seccion': nombre_seccion, \n",
    "                                                      'Departamento': nombre_departamento, \n",
    "                                                      'Epigrafe' : nombre_epigrafe,\n",
    "                                                      'Item_id': item_id, \n",
    "                                                      'Item_Nombre' : item_name, \n",
    "                                                      'Item_URL_XML' : item_urlXml},\n",
    "                                                      ignore_index=True)\n"
   ]
  },
  {
   "cell_type": "code",
   "execution_count": 31,
   "metadata": {},
   "outputs": [
    {
     "output_type": "execute_result",
     "data": {
      "text/plain": [
       "                                         Departamento  \\\n",
       "0                               [JEFATURA DEL ESTADO]   \n",
       "1                               [JEFATURA DEL ESTADO]   \n",
       "2                                  [CORTES GENERALES]   \n",
       "3   [MINISTERIO DE ASUNTOS EXTERIORES, UNIÓN EUROP...   \n",
       "4                            [MINISTERIO DE HACIENDA]   \n",
       "5                            [MINISTERIO DE HACIENDA]   \n",
       "6                            [MINISTERIO DE HACIENDA]   \n",
       "7   [MINISTERIO DE TRANSPORTES, MOVILIDAD Y AGENDA...   \n",
       "8   [MINISTERIO DE TRANSPORTES, MOVILIDAD Y AGENDA...   \n",
       "9       [MINISTERIO DE INDUSTRIA, COMERCIO Y TURISMO]   \n",
       "10  [MINISTERIO DE LA PRESIDENCIA, RELACIONES CON ...   \n",
       "11  [MINISTERIO DE LA PRESIDENCIA, RELACIONES CON ...   \n",
       "12  [MINISTERIO DE POLÍTICA TERRITORIAL Y FUNCIÓN ...   \n",
       "13  [MINISTERIO DE POLÍTICA TERRITORIAL Y FUNCIÓN ...   \n",
       "14  [MINISTERIO PARA LA TRANSICIÓN ECOLÓGICA Y EL ...   \n",
       "15  [MINISTERIO PARA LA TRANSICIÓN ECOLÓGICA Y EL ...   \n",
       "16  [MINISTERIO PARA LA TRANSICIÓN ECOLÓGICA Y EL ...   \n",
       "17  [MINISTERIO PARA LA TRANSICIÓN ECOLÓGICA Y EL ...   \n",
       "18  [MINISTERIO PARA LA TRANSICIÓN ECOLÓGICA Y EL ...   \n",
       "19                  [MINISTERIO DE CULTURA Y DEPORTE]   \n",
       "20    [MINISTERIO DE DERECHOS SOCIALES Y AGENDA 2030]   \n",
       "\n",
       "                                             Epigrafe  \\\n",
       "0                                  [Medidas urgentes]   \n",
       "1                                  [Medidas urgentes]   \n",
       "2                                  [Medidas urgentes]   \n",
       "3                          [Tratados internacionales]   \n",
       "4                                      [Organización]   \n",
       "5                             [Incentivos regionales]   \n",
       "6           [Comercio intracomunitario. Estadísticas]   \n",
       "7                                   [Red ferroviaria]   \n",
       "8                                   [Seguridad aérea]   \n",
       "9                                      [Subvenciones]   \n",
       "10                    [Riesgos laborales. Prevención]   \n",
       "11  [Medicamentos y productos sanitarios. Fuerzas ...   \n",
       "12  [Comunidad Autónoma de Cataluña. Traspaso de f...   \n",
       "13  [Fondo Estatal de Inversión Local. Liquidación...   \n",
       "14                                     [Subvenciones]   \n",
       "15                                     [Subvenciones]   \n",
       "16                                     [Subvenciones]   \n",
       "17                                     [Subvenciones]   \n",
       "18                                 [Sector petrolero]   \n",
       "19                   [Sociedades anónimas deportivas]   \n",
       "20                                     [Subvenciones]   \n",
       "\n",
       "                                          Item_Nombre  \\\n",
       "0   [Real Decreto-ley 35/2020, de 22 de diciembre,...   \n",
       "1   [Real Decreto-ley 37/2020, de 22 de diciembre,...   \n",
       "2   [Resolución de 17 de diciembre de 2020, del Co...   \n",
       "3   [Textos enmendados aprobados en París el 15 de...   \n",
       "4   [Orden HAC/1238/2020, de 17 de noviembre de 20...   \n",
       "5   [Orden HAC/1239/2020, de 21 de diciembre, por ...   \n",
       "6   [Resolución de 15 de diciembre de 2020, del De...   \n",
       "7   [Orden TMA/1240/2020, de 8 de diciembre, por l...   \n",
       "8   [Resolución de 17 de diciembre de 2020, de la ...   \n",
       "9   [Real Decreto 1153/2020, de 22 de diciembre, p...   \n",
       "10  [Real Decreto 1154/2020, de 22 de diciembre, p...   \n",
       "11  [Real Decreto 1155/2020, de 22 de diciembre, p...   \n",
       "12  [Real Decreto 1156/2020, de 22 de diciembre, d...   \n",
       "13  [Real Decreto 1157/2020, de 22 de diciembre, p...   \n",
       "14  [Real Decreto 1158/2020, de 22 de diciembre, p...   \n",
       "15  [Real Decreto 1159/2020, de 22 de diciembre, p...   \n",
       "16  [Real Decreto 1160/2020, de 22 de diciembre, p...   \n",
       "17  [Real Decreto 1161/2020, de 22 de diciembre, p...   \n",
       "18  [Orden TED/1241/2020, de 21 de diciembre, por ...   \n",
       "19  [Real Decreto 1162/2020, de 22 de diciembre, p...   \n",
       "20  [Real Decreto 1163/2020, de 22 de diciembre, p...   \n",
       "\n",
       "                                         Item_URL_XML             Item_id  \\\n",
       "0   https://www.boe.es/diario_boe/xml.php?id=BOE-A...  [BOE-A-2020-16823]   \n",
       "1   https://www.boe.es/diario_boe/xml.php?id=BOE-A...  [BOE-A-2020-16824]   \n",
       "2   https://www.boe.es/diario_boe/xml.php?id=BOE-A...  [BOE-A-2020-16825]   \n",
       "3   https://www.boe.es/diario_boe/xml.php?id=BOE-A...  [BOE-A-2020-16826]   \n",
       "4   https://www.boe.es/diario_boe/xml.php?id=BOE-A...  [BOE-A-2020-16827]   \n",
       "5   https://www.boe.es/diario_boe/xml.php?id=BOE-A...  [BOE-A-2020-16828]   \n",
       "6   https://www.boe.es/diario_boe/xml.php?id=BOE-A...  [BOE-A-2020-16829]   \n",
       "7   https://www.boe.es/diario_boe/xml.php?id=BOE-A...  [BOE-A-2020-16830]   \n",
       "8   https://www.boe.es/diario_boe/xml.php?id=BOE-A...  [BOE-A-2020-16831]   \n",
       "9   https://www.boe.es/diario_boe/xml.php?id=BOE-A...  [BOE-A-2020-16832]   \n",
       "10  https://www.boe.es/diario_boe/xml.php?id=BOE-A...  [BOE-A-2020-16833]   \n",
       "11  https://www.boe.es/diario_boe/xml.php?id=BOE-A...  [BOE-A-2020-16834]   \n",
       "12  https://www.boe.es/diario_boe/xml.php?id=BOE-A...  [BOE-A-2020-16835]   \n",
       "13  https://www.boe.es/diario_boe/xml.php?id=BOE-A...  [BOE-A-2020-16836]   \n",
       "14  https://www.boe.es/diario_boe/xml.php?id=BOE-A...  [BOE-A-2020-16837]   \n",
       "15  https://www.boe.es/diario_boe/xml.php?id=BOE-A...  [BOE-A-2020-16838]   \n",
       "16  https://www.boe.es/diario_boe/xml.php?id=BOE-A...  [BOE-A-2020-16839]   \n",
       "17  https://www.boe.es/diario_boe/xml.php?id=BOE-A...  [BOE-A-2020-16840]   \n",
       "18  https://www.boe.es/diario_boe/xml.php?id=BOE-A...  [BOE-A-2020-16841]   \n",
       "19  https://www.boe.es/diario_boe/xml.php?id=BOE-A...  [BOE-A-2020-16842]   \n",
       "20  https://www.boe.es/diario_boe/xml.php?id=BOE-A...  [BOE-A-2020-16843]   \n",
       "\n",
       "                         Seccion  \n",
       "0   [I. Disposiciones generales]  \n",
       "1   [I. Disposiciones generales]  \n",
       "2   [I. Disposiciones generales]  \n",
       "3   [I. Disposiciones generales]  \n",
       "4   [I. Disposiciones generales]  \n",
       "5   [I. Disposiciones generales]  \n",
       "6   [I. Disposiciones generales]  \n",
       "7   [I. Disposiciones generales]  \n",
       "8   [I. Disposiciones generales]  \n",
       "9   [I. Disposiciones generales]  \n",
       "10  [I. Disposiciones generales]  \n",
       "11  [I. Disposiciones generales]  \n",
       "12  [I. Disposiciones generales]  \n",
       "13  [I. Disposiciones generales]  \n",
       "14  [I. Disposiciones generales]  \n",
       "15  [I. Disposiciones generales]  \n",
       "16  [I. Disposiciones generales]  \n",
       "17  [I. Disposiciones generales]  \n",
       "18  [I. Disposiciones generales]  \n",
       "19  [I. Disposiciones generales]  \n",
       "20  [I. Disposiciones generales]  "
      ],
      "text/html": "<div>\n<style scoped>\n    .dataframe tbody tr th:only-of-type {\n        vertical-align: middle;\n    }\n\n    .dataframe tbody tr th {\n        vertical-align: top;\n    }\n\n    .dataframe thead th {\n        text-align: right;\n    }\n</style>\n<table border=\"1\" class=\"dataframe\">\n  <thead>\n    <tr style=\"text-align: right;\">\n      <th></th>\n      <th>Departamento</th>\n      <th>Epigrafe</th>\n      <th>Item_Nombre</th>\n      <th>Item_URL_XML</th>\n      <th>Item_id</th>\n      <th>Seccion</th>\n    </tr>\n  </thead>\n  <tbody>\n    <tr>\n      <th>0</th>\n      <td>[JEFATURA DEL ESTADO]</td>\n      <td>[Medidas urgentes]</td>\n      <td>[Real Decreto-ley 35/2020, de 22 de diciembre,...</td>\n      <td>https://www.boe.es/diario_boe/xml.php?id=BOE-A...</td>\n      <td>[BOE-A-2020-16823]</td>\n      <td>[I. Disposiciones generales]</td>\n    </tr>\n    <tr>\n      <th>1</th>\n      <td>[JEFATURA DEL ESTADO]</td>\n      <td>[Medidas urgentes]</td>\n      <td>[Real Decreto-ley 37/2020, de 22 de diciembre,...</td>\n      <td>https://www.boe.es/diario_boe/xml.php?id=BOE-A...</td>\n      <td>[BOE-A-2020-16824]</td>\n      <td>[I. Disposiciones generales]</td>\n    </tr>\n    <tr>\n      <th>2</th>\n      <td>[CORTES GENERALES]</td>\n      <td>[Medidas urgentes]</td>\n      <td>[Resolución de 17 de diciembre de 2020, del Co...</td>\n      <td>https://www.boe.es/diario_boe/xml.php?id=BOE-A...</td>\n      <td>[BOE-A-2020-16825]</td>\n      <td>[I. Disposiciones generales]</td>\n    </tr>\n    <tr>\n      <th>3</th>\n      <td>[MINISTERIO DE ASUNTOS EXTERIORES, UNIÓN EUROP...</td>\n      <td>[Tratados internacionales]</td>\n      <td>[Textos enmendados aprobados en París el 15 de...</td>\n      <td>https://www.boe.es/diario_boe/xml.php?id=BOE-A...</td>\n      <td>[BOE-A-2020-16826]</td>\n      <td>[I. Disposiciones generales]</td>\n    </tr>\n    <tr>\n      <th>4</th>\n      <td>[MINISTERIO DE HACIENDA]</td>\n      <td>[Organización]</td>\n      <td>[Orden HAC/1238/2020, de 17 de noviembre de 20...</td>\n      <td>https://www.boe.es/diario_boe/xml.php?id=BOE-A...</td>\n      <td>[BOE-A-2020-16827]</td>\n      <td>[I. Disposiciones generales]</td>\n    </tr>\n    <tr>\n      <th>5</th>\n      <td>[MINISTERIO DE HACIENDA]</td>\n      <td>[Incentivos regionales]</td>\n      <td>[Orden HAC/1239/2020, de 21 de diciembre, por ...</td>\n      <td>https://www.boe.es/diario_boe/xml.php?id=BOE-A...</td>\n      <td>[BOE-A-2020-16828]</td>\n      <td>[I. Disposiciones generales]</td>\n    </tr>\n    <tr>\n      <th>6</th>\n      <td>[MINISTERIO DE HACIENDA]</td>\n      <td>[Comercio intracomunitario. Estadísticas]</td>\n      <td>[Resolución de 15 de diciembre de 2020, del De...</td>\n      <td>https://www.boe.es/diario_boe/xml.php?id=BOE-A...</td>\n      <td>[BOE-A-2020-16829]</td>\n      <td>[I. Disposiciones generales]</td>\n    </tr>\n    <tr>\n      <th>7</th>\n      <td>[MINISTERIO DE TRANSPORTES, MOVILIDAD Y AGENDA...</td>\n      <td>[Red ferroviaria]</td>\n      <td>[Orden TMA/1240/2020, de 8 de diciembre, por l...</td>\n      <td>https://www.boe.es/diario_boe/xml.php?id=BOE-A...</td>\n      <td>[BOE-A-2020-16830]</td>\n      <td>[I. Disposiciones generales]</td>\n    </tr>\n    <tr>\n      <th>8</th>\n      <td>[MINISTERIO DE TRANSPORTES, MOVILIDAD Y AGENDA...</td>\n      <td>[Seguridad aérea]</td>\n      <td>[Resolución de 17 de diciembre de 2020, de la ...</td>\n      <td>https://www.boe.es/diario_boe/xml.php?id=BOE-A...</td>\n      <td>[BOE-A-2020-16831]</td>\n      <td>[I. Disposiciones generales]</td>\n    </tr>\n    <tr>\n      <th>9</th>\n      <td>[MINISTERIO DE INDUSTRIA, COMERCIO Y TURISMO]</td>\n      <td>[Subvenciones]</td>\n      <td>[Real Decreto 1153/2020, de 22 de diciembre, p...</td>\n      <td>https://www.boe.es/diario_boe/xml.php?id=BOE-A...</td>\n      <td>[BOE-A-2020-16832]</td>\n      <td>[I. Disposiciones generales]</td>\n    </tr>\n    <tr>\n      <th>10</th>\n      <td>[MINISTERIO DE LA PRESIDENCIA, RELACIONES CON ...</td>\n      <td>[Riesgos laborales. Prevención]</td>\n      <td>[Real Decreto 1154/2020, de 22 de diciembre, p...</td>\n      <td>https://www.boe.es/diario_boe/xml.php?id=BOE-A...</td>\n      <td>[BOE-A-2020-16833]</td>\n      <td>[I. Disposiciones generales]</td>\n    </tr>\n    <tr>\n      <th>11</th>\n      <td>[MINISTERIO DE LA PRESIDENCIA, RELACIONES CON ...</td>\n      <td>[Medicamentos y productos sanitarios. Fuerzas ...</td>\n      <td>[Real Decreto 1155/2020, de 22 de diciembre, p...</td>\n      <td>https://www.boe.es/diario_boe/xml.php?id=BOE-A...</td>\n      <td>[BOE-A-2020-16834]</td>\n      <td>[I. Disposiciones generales]</td>\n    </tr>\n    <tr>\n      <th>12</th>\n      <td>[MINISTERIO DE POLÍTICA TERRITORIAL Y FUNCIÓN ...</td>\n      <td>[Comunidad Autónoma de Cataluña. Traspaso de f...</td>\n      <td>[Real Decreto 1156/2020, de 22 de diciembre, d...</td>\n      <td>https://www.boe.es/diario_boe/xml.php?id=BOE-A...</td>\n      <td>[BOE-A-2020-16835]</td>\n      <td>[I. Disposiciones generales]</td>\n    </tr>\n    <tr>\n      <th>13</th>\n      <td>[MINISTERIO DE POLÍTICA TERRITORIAL Y FUNCIÓN ...</td>\n      <td>[Fondo Estatal de Inversión Local. Liquidación...</td>\n      <td>[Real Decreto 1157/2020, de 22 de diciembre, p...</td>\n      <td>https://www.boe.es/diario_boe/xml.php?id=BOE-A...</td>\n      <td>[BOE-A-2020-16836]</td>\n      <td>[I. Disposiciones generales]</td>\n    </tr>\n    <tr>\n      <th>14</th>\n      <td>[MINISTERIO PARA LA TRANSICIÓN ECOLÓGICA Y EL ...</td>\n      <td>[Subvenciones]</td>\n      <td>[Real Decreto 1158/2020, de 22 de diciembre, p...</td>\n      <td>https://www.boe.es/diario_boe/xml.php?id=BOE-A...</td>\n      <td>[BOE-A-2020-16837]</td>\n      <td>[I. Disposiciones generales]</td>\n    </tr>\n    <tr>\n      <th>15</th>\n      <td>[MINISTERIO PARA LA TRANSICIÓN ECOLÓGICA Y EL ...</td>\n      <td>[Subvenciones]</td>\n      <td>[Real Decreto 1159/2020, de 22 de diciembre, p...</td>\n      <td>https://www.boe.es/diario_boe/xml.php?id=BOE-A...</td>\n      <td>[BOE-A-2020-16838]</td>\n      <td>[I. Disposiciones generales]</td>\n    </tr>\n    <tr>\n      <th>16</th>\n      <td>[MINISTERIO PARA LA TRANSICIÓN ECOLÓGICA Y EL ...</td>\n      <td>[Subvenciones]</td>\n      <td>[Real Decreto 1160/2020, de 22 de diciembre, p...</td>\n      <td>https://www.boe.es/diario_boe/xml.php?id=BOE-A...</td>\n      <td>[BOE-A-2020-16839]</td>\n      <td>[I. Disposiciones generales]</td>\n    </tr>\n    <tr>\n      <th>17</th>\n      <td>[MINISTERIO PARA LA TRANSICIÓN ECOLÓGICA Y EL ...</td>\n      <td>[Subvenciones]</td>\n      <td>[Real Decreto 1161/2020, de 22 de diciembre, p...</td>\n      <td>https://www.boe.es/diario_boe/xml.php?id=BOE-A...</td>\n      <td>[BOE-A-2020-16840]</td>\n      <td>[I. Disposiciones generales]</td>\n    </tr>\n    <tr>\n      <th>18</th>\n      <td>[MINISTERIO PARA LA TRANSICIÓN ECOLÓGICA Y EL ...</td>\n      <td>[Sector petrolero]</td>\n      <td>[Orden TED/1241/2020, de 21 de diciembre, por ...</td>\n      <td>https://www.boe.es/diario_boe/xml.php?id=BOE-A...</td>\n      <td>[BOE-A-2020-16841]</td>\n      <td>[I. Disposiciones generales]</td>\n    </tr>\n    <tr>\n      <th>19</th>\n      <td>[MINISTERIO DE CULTURA Y DEPORTE]</td>\n      <td>[Sociedades anónimas deportivas]</td>\n      <td>[Real Decreto 1162/2020, de 22 de diciembre, p...</td>\n      <td>https://www.boe.es/diario_boe/xml.php?id=BOE-A...</td>\n      <td>[BOE-A-2020-16842]</td>\n      <td>[I. Disposiciones generales]</td>\n    </tr>\n    <tr>\n      <th>20</th>\n      <td>[MINISTERIO DE DERECHOS SOCIALES Y AGENDA 2030]</td>\n      <td>[Subvenciones]</td>\n      <td>[Real Decreto 1163/2020, de 22 de diciembre, p...</td>\n      <td>https://www.boe.es/diario_boe/xml.php?id=BOE-A...</td>\n      <td>[BOE-A-2020-16843]</td>\n      <td>[I. Disposiciones generales]</td>\n    </tr>\n  </tbody>\n</table>\n</div>"
     },
     "metadata": {},
     "execution_count": 31
    }
   ],
   "source": [
    "tabla_resumen.sort_values('Item_id')"
   ]
  },
  {
   "source": [
    "# Descarga ficheros XML asociados"
   ],
   "cell_type": "markdown",
   "metadata": {}
  },
  {
   "cell_type": "code",
   "execution_count": 34,
   "metadata": {},
   "outputs": [],
   "source": [
    "for item_URL in tabla_resumen['Item_URL_XML']:\n",
    "    #print(URL)\n",
    "    r = requests.get(item_URL)\n",
    "    f = './BOEs/' + item_URL[-16:] + '.xml'\n",
    "    save_html(r.content, f)"
   ]
  },
  {
   "cell_type": "code",
   "execution_count": 35,
   "metadata": {},
   "outputs": [
    {
     "output_type": "stream",
     "name": "stdout",
     "text": [
      "['./BOEs/BOE-A-2020-15394.xml', './BOEs/BOE-A-2020-16676.xml', './BOEs/BOE-A-2020-14465.xml', './BOEs/BOE-A-2020-14459.xml', './BOEs/BOE-A-2020-15237.xml', './BOEs/BOE-A-2020-15223.xml', './BOEs/BOE-A-2020-15222.xml', './BOEs/BOE-A-2020-15236.xml', './BOEs/BOE-A-2020-14458.xml', './BOEs/BOE-A-2020-14464.xml', './BOEs/BOE-A-2020-15395.xml', './BOEs/BOE-A-2020-15397.xml', './BOEs/BOE-A-2020-16675.xml', './BOEs/BOE-A-2020-14466.xml', './BOEs/BOE-A-2020-15208.xml', './BOEs/BOE-A-2020-14880.xml', './BOEs/BOE-A-2020-15220.xml', './BOEs/BOE-A-2020-15234.xml', './BOEs/BOE-A-2020-15235.xml', './BOEs/BOE-A-2020-15221.xml', './BOEs/BOE-A-2020-15209.xml', './BOEs/BOE-A-2020-14467.xml', './BOEs/BOE-A-2020-16674.xml', './BOEs/BOE-A-2020-15396.xml', './BOEs/BOE-A-2020-15392.xml', './BOEs/BOE-A-2020-16843.xml', './BOEs/BOE-A-2020-16670.xml', './BOEs/BOE-A-2020-14463.xml', './BOEs/BOE-A-2020-15225.xml', './BOEs/BOE-A-2020-15231.xml', './BOEs/BOE-A-2020-15219.xml', './BOEs/BOE-A-2020-15218.xml', './BOEs/BOE-A-2020-15230.xml', './BOEs/BOE-A-2020-15224.xml', './BOEs/BOE-A-2020-14462.xml', './BOEs/BOE-A-2020-16671.xml', './BOEs/BOE-A-2020-16842.xml', './BOEs/BOE-A-2020-15393.xml', './BOEs/BOE-A-2020-15391.xml', './BOEs/BOE-A-2020-16840.xml', './BOEs/BOE-A-2020-16673.xml', './BOEs/BOE-A-2020-14460.xml', './BOEs/BOE-A-2020-14879.xml', './BOEs/BOE-A-2020-15232.xml', './BOEs/BOE-A-2020-15226.xml', './BOEs/BOE-A-2020-15227.xml', './BOEs/BOE-A-2020-15233.xml', './BOEs/BOE-A-2020-14878.xml', './BOEs/BOE-A-2020-14461.xml', './BOEs/BOE-A-2020-16672.xml', './BOEs/BOE-A-2020-16841.xml', './BOEs/BOE-A-2020-15390.xml', './BOEs/BOE-A-2020-16832.xml', './BOEs/BOE-A-2020-14957.xml', './BOEs/BOE-A-2020-16826.xml', './BOEs/BOE-A-2020-15297.xml', './BOEs/BOE-A-2020-15283.xml', './BOEs/BOE-A-2020-15268.xml', './BOEs/BOE-A-2020-15254.xml', './BOEs/BOE-A-2020-15240.xml', './BOEs/BOE-A-2020-15241.xml', './BOEs/BOE-A-2020-15255.xml', './BOEs/BOE-A-2020-15269.xml', './BOEs/BOE-A-2020-15282.xml', './BOEs/BOE-A-2020-15296.xml', './BOEs/BOE-A-2020-16562.xml', './BOEs/BOE-A-2020-14956.xml', './BOEs/BOE-A-2020-16827.xml', './BOEs/BOE-A-2020-16833.xml', './BOEs/BOE-A-2020-16825.xml', './BOEs/BOE-A-2020-16831.xml', './BOEs/BOE-A-2020-15069.xml', './BOEs/BOE-A-2020-15280.xml', './BOEs/BOE-A-2020-15294.xml', './BOEs/BOE-A-2020-15243.xml', './BOEs/BOE-A-2020-15257.xml', './BOEs/BOE-A-2020-15256.xml', './BOEs/BOE-A-2020-15242.xml', './BOEs/BOE-A-2020-15295.xml', './BOEs/BOE-A-2020-15281.xml', './BOEs/BOE-A-2020-15068.xml', './BOEs/BOE-A-2020-16561.xml', './BOEs/BOE-A-2020-16830.xml', './BOEs/BOE-A-2020-16824.xml', './BOEs/BOE-A-2020-16834.xml', './BOEs/BOE-A-2020-15285.xml', './BOEs/BOE-A-2020-15291.xml', './BOEs/BOE-A-2020-15246.xml', './BOEs/BOE-A-2020-15252.xml', './BOEs/BOE-A-2020-15253.xml', './BOEs/BOE-A-2020-15247.xml', './BOEs/BOE-A-2020-15290.xml', './BOEs/BOE-A-2020-15284.xml', './BOEs/BOE-A-2020-16835.xml', './BOEs/BOE-A-2020-16837.xml', './BOEs/BOE-A-2020-16823.xml', './BOEs/BOE-A-2020-16348.xml', './BOEs/BOE-A-2020-15292.xml', './BOEs/BOE-A-2020-15286.xml', './BOEs/BOE-A-2020-15251.xml', './BOEs/BOE-A-2020-15245.xml', './BOEs/BOE-A-2020-15279.xml', './BOEs/BOE-A-2020-15278.xml', './BOEs/BOE-A-2020-15244.xml', './BOEs/BOE-A-2020-15250.xml', './BOEs/BOE-A-2020-15287.xml', './BOEs/BOE-A-2020-15293.xml', './BOEs/BOE-A-2020-16349.xml', './BOEs/BOE-A-2020-16836.xml', './BOEs/BOE-A-2020-14962.xml', './BOEs/BOE-A-2020-16350.xml', './BOEs/BOE-A-2020-15063.xml', './BOEs/BOE-A-2020-15249.xml', './BOEs/BOE-A-2020-15275.xml', './BOEs/BOE-A-2020-15261.xml', './BOEs/BOE-A-2020-15260.xml', './BOEs/BOE-A-2020-15274.xml', './BOEs/BOE-A-2020-15248.xml', './BOEs/BOE-A-2020-15062.xml', './BOEs/BOE-A-2020-16345.xml', './BOEs/BOE-A-2020-16351.xml', './BOEs/BOE-A-2020-14963.xml', './BOEs/BOE-A-2020-16838.xml', './BOEs/BOE-A-2020-14961.xml', './BOEs/BOE-A-2020-16347.xml', './BOEs/BOE-A-2020-16353.xml', './BOEs/BOE-A-2020-15289.xml', './BOEs/BOE-A-2020-15262.xml', './BOEs/BOE-A-2020-15276.xml', './BOEs/BOE-A-2020-15277.xml', './BOEs/BOE-A-2020-15263.xml', './BOEs/BOE-A-2020-15288.xml', './BOEs/BOE-A-2020-15061.xml', './BOEs/BOE-A-2020-16352.xml', './BOEs/BOE-A-2020-16346.xml', './BOEs/BOE-A-2020-14960.xml', './BOEs/BOE-A-2020-16839.xml', './BOEs/BOE-A-2020-14964.xml', './BOEs/BOE-A-2020-16829.xml', './BOEs/BOE-A-2020-14958.xml', './BOEs/BOE-A-2020-15065.xml', './BOEs/BOE-A-2020-15267.xml', './BOEs/BOE-A-2020-15273.xml', './BOEs/BOE-A-2020-15272.xml', './BOEs/BOE-A-2020-15266.xml', './BOEs/BOE-A-2020-15064.xml', './BOEs/BOE-A-2020-16828.xml', './BOEs/BOE-A-2020-14959.xml', './BOEs/BOE-A-2020-14965.xml', './BOEs/BOE-A-2020-15066.xml', './BOEs/BOE-A-2020-15270.xml', './BOEs/BOE-A-2020-15264.xml', './BOEs/BOE-A-2020-15258.xml', './BOEs/BOE-A-2020-15259.xml', './BOEs/BOE-A-2020-15265.xml', './BOEs/BOE-A-2020-15271.xml', './BOEs/BOE-A-2020-15067.xml', './BOEs/BOE-A-2020-15389.xml', './BOEs/BOE-A-2020-14875.xml', './BOEs/BOE-A-2020-15216.xml', './BOEs/BOE-A-2020-15203.xml', './BOEs/BOE-A-2020-15217.xml', './BOEs/BOE-A-2020-14876.xml', './BOEs/BOE-A-2020-15229.xml', './BOEs/BOE-A-2020-15215.xml', './BOEs/BOE-A-2020-15214.xml', './BOEs/BOE-A-2020-15228.xml', './BOEs/BOE-A-2020-14877.xml', './BOEs/BOE-A-2020-15402.xml', './BOEs/BOE-A-2020-15204.xml', './BOEs/BOE-A-2020-15210.xml', './BOEs/BOE-A-2020-15238.xml', './BOEs/BOE-A-2020-15239.xml', './BOEs/BOE-A-2020-15211.xml', './BOEs/BOE-A-2020-15205.xml', './BOEs/BOE-A-2020-14457.xml', './BOEs/BOE-A-2020-15403.xml', './BOEs/BOE-A-2020-15398.xml', './BOEs/BOE-A-2020-15401.xml', './BOEs/BOE-A-2020-15213.xml', './BOEs/BOE-A-2020-15207.xml', './BOEs/BOE-A-2020-15206.xml', './BOEs/BOE-A-2020-15212.xml', './BOEs/BOE-A-2020-15400.xml', './BOEs/BOE-A-2020-15399.xml']\n"
     ]
    }
   ],
   "source": [
    "\n",
    "import glob\n",
    "BOEs = glob.glob('./BOEs/BOE*.xml')\n",
    "print (BOEs)"
   ]
  },
  {
   "cell_type": "code",
   "execution_count": 36,
   "metadata": {},
   "outputs": [],
   "source": [
    "#import os\n",
    "#path = './BOEs'\n",
    "#BOEs = [f for f in os.listdir(path) if f.startswith('BOE')]\n",
    "#BOEs"
   ]
  },
  {
   "cell_type": "code",
   "execution_count": 37,
   "metadata": {},
   "outputs": [],
   "source": [
    "tabla_materias = pd.DataFrame()\n",
    "\n",
    "for BOE in BOEs:\n",
    "    #print (BOE)\n",
    "    BOE_XML = etree.parse(BOE)\n",
    "    raiz=BOE_XML.getroot()\n",
    "\n",
    "    materias = [materia.text for materia in raiz.findall('analisis/materias/materia')]\n",
    "    alertas = [alerta.text for alerta in raiz.findall('analisis/alertas/alerta')]\n",
    "    #Item_Id = '[' + BOE[7:23] + ']'\n",
    "    #Item_Id = raiz.find('metadatos/identificador')\n",
    "    Item_Id = raiz.xpath(\".//identificador/text()\")\n",
    " \n",
    "    #print(Item_Id, materias, alertas)\n",
    "    #tabla_materias.loc[['Item_id'], ['Materias']] = materias\n",
    "    tabla_materias = tabla_materias.append({'Item_id': Item_Id,\n",
    "                                            'Materias' : materias,\n",
    "                                            'Alertas' : alertas},\n",
    "                                            ignore_index=True)\n",
    "\n",
    "    #tabla_materias.Item_id.apply(list)\n",
    "    #fila_tabla = tabla_resumen.set_index('Item_id').filter(like=BOE[18:23], axis=0).reset_index()\n",
    "    #print(fila_tabla['Item_id'])\n",
    "\n",
    "    #tabla_resumen.loc[fila_tabla['Item_id']]['Materias'] = materias\n"
   ]
  },
  {
   "cell_type": "code",
   "execution_count": 38,
   "metadata": {},
   "outputs": [
    {
     "output_type": "execute_result",
     "data": {
      "text/plain": [
       "                                               Alertas             Item_id  \\\n",
       "175  [Relaciones internacionales, Sanidad, Sistema ...  [BOE-A-2020-14457]   \n",
       "8    [Educación y enseñanza, Relaciones internacion...  [BOE-A-2020-14458]   \n",
       "3    [Educación y enseñanza, Relaciones internacion...  [BOE-A-2020-14459]   \n",
       "41    [Administración de Justicia, Sistema financiero]  [BOE-A-2020-14460]   \n",
       "48                                [Sistema financiero]  [BOE-A-2020-14461]   \n",
       "..                                                 ...                 ...   \n",
       "136           [Medio ambiente, Obras y construcciones]  [BOE-A-2020-16839]   \n",
       "39                       [Agricultura, Medio ambiente]  [BOE-A-2020-16840]   \n",
       "50                                           [Energía]  [BOE-A-2020-16841]   \n",
       "36              [Deporte, Sanidad, Sistema financiero]  [BOE-A-2020-16842]   \n",
       "25                                  [Asuntos sociales]  [BOE-A-2020-16843]   \n",
       "\n",
       "                                              Materias  \n",
       "175  [Acuerdos internacionales, Créditos Presupuest...  \n",
       "8    [Acuerdos internacionales, Barcelona, Centros ...  \n",
       "3    [Acuerdos internacionales, Barcelona, Centros ...  \n",
       "41   [Ayuntamientos, Créditos Presupuestarios, Juzg...  \n",
       "48   [Administración y Contabilidad de la Hacienda ...  \n",
       "..                                                 ...  \n",
       "136  [Abastecimiento de aguas, Ayudas, Canarias, Ob...  \n",
       "39   [Abastecimiento de aguas, Agricultura, Aguas, ...  \n",
       "50   [Almacenes, Carburantes y combustibles, Corpor...  \n",
       "36   [Asociaciones deportivas, Aval, Ayudas, Contab...  \n",
       "25   [Administración Local, Asistencia social, Ayud...  \n",
       "\n",
       "[185 rows x 3 columns]"
      ],
      "text/html": "<div>\n<style scoped>\n    .dataframe tbody tr th:only-of-type {\n        vertical-align: middle;\n    }\n\n    .dataframe tbody tr th {\n        vertical-align: top;\n    }\n\n    .dataframe thead th {\n        text-align: right;\n    }\n</style>\n<table border=\"1\" class=\"dataframe\">\n  <thead>\n    <tr style=\"text-align: right;\">\n      <th></th>\n      <th>Alertas</th>\n      <th>Item_id</th>\n      <th>Materias</th>\n    </tr>\n  </thead>\n  <tbody>\n    <tr>\n      <th>175</th>\n      <td>[Relaciones internacionales, Sanidad, Sistema ...</td>\n      <td>[BOE-A-2020-14457]</td>\n      <td>[Acuerdos internacionales, Créditos Presupuest...</td>\n    </tr>\n    <tr>\n      <th>8</th>\n      <td>[Educación y enseñanza, Relaciones internacion...</td>\n      <td>[BOE-A-2020-14458]</td>\n      <td>[Acuerdos internacionales, Barcelona, Centros ...</td>\n    </tr>\n    <tr>\n      <th>3</th>\n      <td>[Educación y enseñanza, Relaciones internacion...</td>\n      <td>[BOE-A-2020-14459]</td>\n      <td>[Acuerdos internacionales, Barcelona, Centros ...</td>\n    </tr>\n    <tr>\n      <th>41</th>\n      <td>[Administración de Justicia, Sistema financiero]</td>\n      <td>[BOE-A-2020-14460]</td>\n      <td>[Ayuntamientos, Créditos Presupuestarios, Juzg...</td>\n    </tr>\n    <tr>\n      <th>48</th>\n      <td>[Sistema financiero]</td>\n      <td>[BOE-A-2020-14461]</td>\n      <td>[Administración y Contabilidad de la Hacienda ...</td>\n    </tr>\n    <tr>\n      <th>...</th>\n      <td>...</td>\n      <td>...</td>\n      <td>...</td>\n    </tr>\n    <tr>\n      <th>136</th>\n      <td>[Medio ambiente, Obras y construcciones]</td>\n      <td>[BOE-A-2020-16839]</td>\n      <td>[Abastecimiento de aguas, Ayudas, Canarias, Ob...</td>\n    </tr>\n    <tr>\n      <th>39</th>\n      <td>[Agricultura, Medio ambiente]</td>\n      <td>[BOE-A-2020-16840]</td>\n      <td>[Abastecimiento de aguas, Agricultura, Aguas, ...</td>\n    </tr>\n    <tr>\n      <th>50</th>\n      <td>[Energía]</td>\n      <td>[BOE-A-2020-16841]</td>\n      <td>[Almacenes, Carburantes y combustibles, Corpor...</td>\n    </tr>\n    <tr>\n      <th>36</th>\n      <td>[Deporte, Sanidad, Sistema financiero]</td>\n      <td>[BOE-A-2020-16842]</td>\n      <td>[Asociaciones deportivas, Aval, Ayudas, Contab...</td>\n    </tr>\n    <tr>\n      <th>25</th>\n      <td>[Asuntos sociales]</td>\n      <td>[BOE-A-2020-16843]</td>\n      <td>[Administración Local, Asistencia social, Ayud...</td>\n    </tr>\n  </tbody>\n</table>\n<p>185 rows × 3 columns</p>\n</div>"
     },
     "metadata": {},
     "execution_count": 38
    }
   ],
   "source": [
    "tabla_materias.sort_values('Item_id')"
   ]
  },
  {
   "cell_type": "code",
   "execution_count": 39,
   "metadata": {},
   "outputs": [
    {
     "output_type": "stream",
     "name": "stdout",
     "text": [
      "documento\n"
     ]
    }
   ],
   "source": [
    "print(raiz.tag)"
   ]
  },
  {
   "cell_type": "code",
   "execution_count": 40,
   "metadata": {},
   "outputs": [
    {
     "output_type": "stream",
     "name": "stdout",
     "text": [
      "[]\n"
     ]
    }
   ],
   "source": [
    "for materias in raiz.xpath('.//materias'):\n",
    "    materia = seccion.xpath('.//materia/text()')\n",
    "    print(materia)"
   ]
  },
  {
   "cell_type": "code",
   "execution_count": 41,
   "metadata": {},
   "outputs": [
    {
     "output_type": "stream",
     "name": "stdout",
     "text": [
      "Asociaciones\nFundaciones\nMedio ambiente\nMinisterio para la Transición Ecológica y el Reto Demográfico\nSubvenciones\n"
     ]
    }
   ],
   "source": [
    "materias=raiz.findall(\"analisis/materias/materia\")\n",
    "for materia in materias:\n",
    "    print(materia.text)"
   ]
  },
  {
   "cell_type": "code",
   "execution_count": 42,
   "metadata": {},
   "outputs": [
    {
     "output_type": "stream",
     "name": "stdout",
     "text": [
      "Medio ambiente\n"
     ]
    }
   ],
   "source": [
    "alertas=raiz.findall(\"analisis/alertas/alerta\")\n",
    "for alerta in alertas:\n",
    "    print(alerta.text)"
   ]
  },
  {
   "cell_type": "code",
   "execution_count": 43,
   "metadata": {},
   "outputs": [
    {
     "output_type": "stream",
     "name": "stdout",
     "text": [
      "Empty DataFrame\nColumns: [Departamento, Epigrafe, Item_Nombre, Item_URL_XML, Item_id, Seccion]\nIndex: []\n"
     ]
    }
   ],
   "source": [
    "#tabla_resumen.loc[tabla_resumen['Item_id'] == '[' + BOE[7:23] + ']']\n",
    "print(tabla_resumen.loc[tabla_resumen['Item_id'] == '[BOE-A-2020-14457]'])"
   ]
  },
  {
   "cell_type": "code",
   "execution_count": 44,
   "metadata": {},
   "outputs": [
    {
     "output_type": "execute_result",
     "data": {
      "text/plain": [
       "'BOE-A-2020-15399'"
      ]
     },
     "metadata": {},
     "execution_count": 44
    }
   ],
   "source": [
    "BOE[7:23]"
   ]
  },
  {
   "cell_type": "code",
   "execution_count": 45,
   "metadata": {},
   "outputs": [
    {
     "output_type": "execute_result",
     "data": {
      "text/plain": [
       "0     [BOE-A-2020-16823]\n",
       "1     [BOE-A-2020-16824]\n",
       "2     [BOE-A-2020-16825]\n",
       "3     [BOE-A-2020-16826]\n",
       "4     [BOE-A-2020-16827]\n",
       "5     [BOE-A-2020-16828]\n",
       "6     [BOE-A-2020-16829]\n",
       "7     [BOE-A-2020-16830]\n",
       "8     [BOE-A-2020-16831]\n",
       "9     [BOE-A-2020-16832]\n",
       "10    [BOE-A-2020-16833]\n",
       "11    [BOE-A-2020-16834]\n",
       "12    [BOE-A-2020-16835]\n",
       "13    [BOE-A-2020-16836]\n",
       "14    [BOE-A-2020-16837]\n",
       "15    [BOE-A-2020-16838]\n",
       "16    [BOE-A-2020-16839]\n",
       "17    [BOE-A-2020-16840]\n",
       "18    [BOE-A-2020-16841]\n",
       "19    [BOE-A-2020-16842]\n",
       "20    [BOE-A-2020-16843]\n",
       "Name: Item_id, dtype: object"
      ]
     },
     "metadata": {},
     "execution_count": 45
    }
   ],
   "source": [
    "tabla_resumen['Item_id']"
   ]
  },
  {
   "cell_type": "code",
   "execution_count": 46,
   "metadata": {},
   "outputs": [
    {
     "output_type": "execute_result",
     "data": {
      "text/plain": [
       "0      [BOE-A-2020-15394]\n",
       "1      [BOE-A-2020-16676]\n",
       "2      [BOE-A-2020-14465]\n",
       "3      [BOE-A-2020-14459]\n",
       "4      [BOE-A-2020-15237]\n",
       "              ...        \n",
       "180    [BOE-A-2020-15207]\n",
       "181    [BOE-A-2020-15206]\n",
       "182    [BOE-A-2020-15212]\n",
       "183    [BOE-A-2020-15400]\n",
       "184    [BOE-A-2020-15399]\n",
       "Name: Item_id, Length: 185, dtype: object"
      ]
     },
     "metadata": {},
     "execution_count": 46
    }
   ],
   "source": [
    "tabla_materias['Item_id']"
   ]
  },
  {
   "cell_type": "code",
   "execution_count": 47,
   "metadata": {},
   "outputs": [
    {
     "output_type": "execute_result",
     "data": {
      "text/plain": [
       "Departamento    object\n",
       "Epigrafe        object\n",
       "Item_Nombre     object\n",
       "Item_URL_XML    object\n",
       "Item_id         object\n",
       "Seccion         object\n",
       "dtype: object"
      ]
     },
     "metadata": {},
     "execution_count": 47
    }
   ],
   "source": [
    "tabla_resumen.dtypes"
   ]
  },
  {
   "cell_type": "code",
   "execution_count": 48,
   "metadata": {},
   "outputs": [
    {
     "output_type": "execute_result",
     "data": {
      "text/plain": [
       "Empty DataFrame\n",
       "Columns: [Departamento, Epigrafe, Item_Nombre, Item_URL_XML, Seccion]\n",
       "Index: []"
      ],
      "text/html": "<div>\n<style scoped>\n    .dataframe tbody tr th:only-of-type {\n        vertical-align: middle;\n    }\n\n    .dataframe tbody tr th {\n        vertical-align: top;\n    }\n\n    .dataframe thead th {\n        text-align: right;\n    }\n</style>\n<table border=\"1\" class=\"dataframe\">\n  <thead>\n    <tr style=\"text-align: right;\">\n      <th></th>\n      <th>Departamento</th>\n      <th>Epigrafe</th>\n      <th>Item_Nombre</th>\n      <th>Item_URL_XML</th>\n      <th>Seccion</th>\n    </tr>\n    <tr>\n      <th>Item_id</th>\n      <th></th>\n      <th></th>\n      <th></th>\n      <th></th>\n      <th></th>\n    </tr>\n  </thead>\n  <tbody>\n  </tbody>\n</table>\n</div>"
     },
     "metadata": {},
     "execution_count": 48
    }
   ],
   "source": [
    "tabla_resumen.set_index('Item_id').filter(like='14875', axis=0)"
   ]
  },
  {
   "cell_type": "code",
   "execution_count": 49,
   "metadata": {},
   "outputs": [],
   "source": [
    "#tabla_resumen = tabla_resumen.astype(str)\n",
    "#tabla_resumen['Joined'] = tabla_resumen.Item_id.apply(', '.join)\n",
    "#tabla_resumen['Item_id']=tabla_resumen['Item_id']"
   ]
  },
  {
   "cell_type": "code",
   "execution_count": 50,
   "metadata": {},
   "outputs": [
    {
     "output_type": "execute_result",
     "data": {
      "text/plain": [
       "Departamento    object\n",
       "Epigrafe        object\n",
       "Item_Nombre     object\n",
       "Item_URL_XML    object\n",
       "Item_id         object\n",
       "Seccion         object\n",
       "dtype: object"
      ]
     },
     "metadata": {},
     "execution_count": 50
    }
   ],
   "source": [
    "tabla_resumen.dtypes"
   ]
  },
  {
   "cell_type": "code",
   "execution_count": 51,
   "metadata": {},
   "outputs": [
    {
     "output_type": "execute_result",
     "data": {
      "text/plain": [
       "                                         Departamento  \\\n",
       "0                               [JEFATURA DEL ESTADO]   \n",
       "1                               [JEFATURA DEL ESTADO]   \n",
       "2                                  [CORTES GENERALES]   \n",
       "3   [MINISTERIO DE ASUNTOS EXTERIORES, UNIÓN EUROP...   \n",
       "4                            [MINISTERIO DE HACIENDA]   \n",
       "5                            [MINISTERIO DE HACIENDA]   \n",
       "6                            [MINISTERIO DE HACIENDA]   \n",
       "7   [MINISTERIO DE TRANSPORTES, MOVILIDAD Y AGENDA...   \n",
       "8   [MINISTERIO DE TRANSPORTES, MOVILIDAD Y AGENDA...   \n",
       "9       [MINISTERIO DE INDUSTRIA, COMERCIO Y TURISMO]   \n",
       "10  [MINISTERIO DE LA PRESIDENCIA, RELACIONES CON ...   \n",
       "11  [MINISTERIO DE LA PRESIDENCIA, RELACIONES CON ...   \n",
       "12  [MINISTERIO DE POLÍTICA TERRITORIAL Y FUNCIÓN ...   \n",
       "13  [MINISTERIO DE POLÍTICA TERRITORIAL Y FUNCIÓN ...   \n",
       "14  [MINISTERIO PARA LA TRANSICIÓN ECOLÓGICA Y EL ...   \n",
       "15  [MINISTERIO PARA LA TRANSICIÓN ECOLÓGICA Y EL ...   \n",
       "16  [MINISTERIO PARA LA TRANSICIÓN ECOLÓGICA Y EL ...   \n",
       "17  [MINISTERIO PARA LA TRANSICIÓN ECOLÓGICA Y EL ...   \n",
       "18  [MINISTERIO PARA LA TRANSICIÓN ECOLÓGICA Y EL ...   \n",
       "19                  [MINISTERIO DE CULTURA Y DEPORTE]   \n",
       "20    [MINISTERIO DE DERECHOS SOCIALES Y AGENDA 2030]   \n",
       "\n",
       "                                             Epigrafe  \\\n",
       "0                                  [Medidas urgentes]   \n",
       "1                                  [Medidas urgentes]   \n",
       "2                                  [Medidas urgentes]   \n",
       "3                          [Tratados internacionales]   \n",
       "4                                      [Organización]   \n",
       "5                             [Incentivos regionales]   \n",
       "6           [Comercio intracomunitario. Estadísticas]   \n",
       "7                                   [Red ferroviaria]   \n",
       "8                                   [Seguridad aérea]   \n",
       "9                                      [Subvenciones]   \n",
       "10                    [Riesgos laborales. Prevención]   \n",
       "11  [Medicamentos y productos sanitarios. Fuerzas ...   \n",
       "12  [Comunidad Autónoma de Cataluña. Traspaso de f...   \n",
       "13  [Fondo Estatal de Inversión Local. Liquidación...   \n",
       "14                                     [Subvenciones]   \n",
       "15                                     [Subvenciones]   \n",
       "16                                     [Subvenciones]   \n",
       "17                                     [Subvenciones]   \n",
       "18                                 [Sector petrolero]   \n",
       "19                   [Sociedades anónimas deportivas]   \n",
       "20                                     [Subvenciones]   \n",
       "\n",
       "                                          Item_Nombre  \\\n",
       "0   [Real Decreto-ley 35/2020, de 22 de diciembre,...   \n",
       "1   [Real Decreto-ley 37/2020, de 22 de diciembre,...   \n",
       "2   [Resolución de 17 de diciembre de 2020, del Co...   \n",
       "3   [Textos enmendados aprobados en París el 15 de...   \n",
       "4   [Orden HAC/1238/2020, de 17 de noviembre de 20...   \n",
       "5   [Orden HAC/1239/2020, de 21 de diciembre, por ...   \n",
       "6   [Resolución de 15 de diciembre de 2020, del De...   \n",
       "7   [Orden TMA/1240/2020, de 8 de diciembre, por l...   \n",
       "8   [Resolución de 17 de diciembre de 2020, de la ...   \n",
       "9   [Real Decreto 1153/2020, de 22 de diciembre, p...   \n",
       "10  [Real Decreto 1154/2020, de 22 de diciembre, p...   \n",
       "11  [Real Decreto 1155/2020, de 22 de diciembre, p...   \n",
       "12  [Real Decreto 1156/2020, de 22 de diciembre, d...   \n",
       "13  [Real Decreto 1157/2020, de 22 de diciembre, p...   \n",
       "14  [Real Decreto 1158/2020, de 22 de diciembre, p...   \n",
       "15  [Real Decreto 1159/2020, de 22 de diciembre, p...   \n",
       "16  [Real Decreto 1160/2020, de 22 de diciembre, p...   \n",
       "17  [Real Decreto 1161/2020, de 22 de diciembre, p...   \n",
       "18  [Orden TED/1241/2020, de 21 de diciembre, por ...   \n",
       "19  [Real Decreto 1162/2020, de 22 de diciembre, p...   \n",
       "20  [Real Decreto 1163/2020, de 22 de diciembre, p...   \n",
       "\n",
       "                                         Item_URL_XML             Item_id  \\\n",
       "0   https://www.boe.es/diario_boe/xml.php?id=BOE-A...  [BOE-A-2020-16823]   \n",
       "1   https://www.boe.es/diario_boe/xml.php?id=BOE-A...  [BOE-A-2020-16824]   \n",
       "2   https://www.boe.es/diario_boe/xml.php?id=BOE-A...  [BOE-A-2020-16825]   \n",
       "3   https://www.boe.es/diario_boe/xml.php?id=BOE-A...  [BOE-A-2020-16826]   \n",
       "4   https://www.boe.es/diario_boe/xml.php?id=BOE-A...  [BOE-A-2020-16827]   \n",
       "5   https://www.boe.es/diario_boe/xml.php?id=BOE-A...  [BOE-A-2020-16828]   \n",
       "6   https://www.boe.es/diario_boe/xml.php?id=BOE-A...  [BOE-A-2020-16829]   \n",
       "7   https://www.boe.es/diario_boe/xml.php?id=BOE-A...  [BOE-A-2020-16830]   \n",
       "8   https://www.boe.es/diario_boe/xml.php?id=BOE-A...  [BOE-A-2020-16831]   \n",
       "9   https://www.boe.es/diario_boe/xml.php?id=BOE-A...  [BOE-A-2020-16832]   \n",
       "10  https://www.boe.es/diario_boe/xml.php?id=BOE-A...  [BOE-A-2020-16833]   \n",
       "11  https://www.boe.es/diario_boe/xml.php?id=BOE-A...  [BOE-A-2020-16834]   \n",
       "12  https://www.boe.es/diario_boe/xml.php?id=BOE-A...  [BOE-A-2020-16835]   \n",
       "13  https://www.boe.es/diario_boe/xml.php?id=BOE-A...  [BOE-A-2020-16836]   \n",
       "14  https://www.boe.es/diario_boe/xml.php?id=BOE-A...  [BOE-A-2020-16837]   \n",
       "15  https://www.boe.es/diario_boe/xml.php?id=BOE-A...  [BOE-A-2020-16838]   \n",
       "16  https://www.boe.es/diario_boe/xml.php?id=BOE-A...  [BOE-A-2020-16839]   \n",
       "17  https://www.boe.es/diario_boe/xml.php?id=BOE-A...  [BOE-A-2020-16840]   \n",
       "18  https://www.boe.es/diario_boe/xml.php?id=BOE-A...  [BOE-A-2020-16841]   \n",
       "19  https://www.boe.es/diario_boe/xml.php?id=BOE-A...  [BOE-A-2020-16842]   \n",
       "20  https://www.boe.es/diario_boe/xml.php?id=BOE-A...  [BOE-A-2020-16843]   \n",
       "\n",
       "                         Seccion  \n",
       "0   [I. Disposiciones generales]  \n",
       "1   [I. Disposiciones generales]  \n",
       "2   [I. Disposiciones generales]  \n",
       "3   [I. Disposiciones generales]  \n",
       "4   [I. Disposiciones generales]  \n",
       "5   [I. Disposiciones generales]  \n",
       "6   [I. Disposiciones generales]  \n",
       "7   [I. Disposiciones generales]  \n",
       "8   [I. Disposiciones generales]  \n",
       "9   [I. Disposiciones generales]  \n",
       "10  [I. Disposiciones generales]  \n",
       "11  [I. Disposiciones generales]  \n",
       "12  [I. Disposiciones generales]  \n",
       "13  [I. Disposiciones generales]  \n",
       "14  [I. Disposiciones generales]  \n",
       "15  [I. Disposiciones generales]  \n",
       "16  [I. Disposiciones generales]  \n",
       "17  [I. Disposiciones generales]  \n",
       "18  [I. Disposiciones generales]  \n",
       "19  [I. Disposiciones generales]  \n",
       "20  [I. Disposiciones generales]  "
      ],
      "text/html": "<div>\n<style scoped>\n    .dataframe tbody tr th:only-of-type {\n        vertical-align: middle;\n    }\n\n    .dataframe tbody tr th {\n        vertical-align: top;\n    }\n\n    .dataframe thead th {\n        text-align: right;\n    }\n</style>\n<table border=\"1\" class=\"dataframe\">\n  <thead>\n    <tr style=\"text-align: right;\">\n      <th></th>\n      <th>Departamento</th>\n      <th>Epigrafe</th>\n      <th>Item_Nombre</th>\n      <th>Item_URL_XML</th>\n      <th>Item_id</th>\n      <th>Seccion</th>\n    </tr>\n  </thead>\n  <tbody>\n    <tr>\n      <th>0</th>\n      <td>[JEFATURA DEL ESTADO]</td>\n      <td>[Medidas urgentes]</td>\n      <td>[Real Decreto-ley 35/2020, de 22 de diciembre,...</td>\n      <td>https://www.boe.es/diario_boe/xml.php?id=BOE-A...</td>\n      <td>[BOE-A-2020-16823]</td>\n      <td>[I. Disposiciones generales]</td>\n    </tr>\n    <tr>\n      <th>1</th>\n      <td>[JEFATURA DEL ESTADO]</td>\n      <td>[Medidas urgentes]</td>\n      <td>[Real Decreto-ley 37/2020, de 22 de diciembre,...</td>\n      <td>https://www.boe.es/diario_boe/xml.php?id=BOE-A...</td>\n      <td>[BOE-A-2020-16824]</td>\n      <td>[I. Disposiciones generales]</td>\n    </tr>\n    <tr>\n      <th>2</th>\n      <td>[CORTES GENERALES]</td>\n      <td>[Medidas urgentes]</td>\n      <td>[Resolución de 17 de diciembre de 2020, del Co...</td>\n      <td>https://www.boe.es/diario_boe/xml.php?id=BOE-A...</td>\n      <td>[BOE-A-2020-16825]</td>\n      <td>[I. Disposiciones generales]</td>\n    </tr>\n    <tr>\n      <th>3</th>\n      <td>[MINISTERIO DE ASUNTOS EXTERIORES, UNIÓN EUROP...</td>\n      <td>[Tratados internacionales]</td>\n      <td>[Textos enmendados aprobados en París el 15 de...</td>\n      <td>https://www.boe.es/diario_boe/xml.php?id=BOE-A...</td>\n      <td>[BOE-A-2020-16826]</td>\n      <td>[I. Disposiciones generales]</td>\n    </tr>\n    <tr>\n      <th>4</th>\n      <td>[MINISTERIO DE HACIENDA]</td>\n      <td>[Organización]</td>\n      <td>[Orden HAC/1238/2020, de 17 de noviembre de 20...</td>\n      <td>https://www.boe.es/diario_boe/xml.php?id=BOE-A...</td>\n      <td>[BOE-A-2020-16827]</td>\n      <td>[I. Disposiciones generales]</td>\n    </tr>\n    <tr>\n      <th>5</th>\n      <td>[MINISTERIO DE HACIENDA]</td>\n      <td>[Incentivos regionales]</td>\n      <td>[Orden HAC/1239/2020, de 21 de diciembre, por ...</td>\n      <td>https://www.boe.es/diario_boe/xml.php?id=BOE-A...</td>\n      <td>[BOE-A-2020-16828]</td>\n      <td>[I. Disposiciones generales]</td>\n    </tr>\n    <tr>\n      <th>6</th>\n      <td>[MINISTERIO DE HACIENDA]</td>\n      <td>[Comercio intracomunitario. Estadísticas]</td>\n      <td>[Resolución de 15 de diciembre de 2020, del De...</td>\n      <td>https://www.boe.es/diario_boe/xml.php?id=BOE-A...</td>\n      <td>[BOE-A-2020-16829]</td>\n      <td>[I. Disposiciones generales]</td>\n    </tr>\n    <tr>\n      <th>7</th>\n      <td>[MINISTERIO DE TRANSPORTES, MOVILIDAD Y AGENDA...</td>\n      <td>[Red ferroviaria]</td>\n      <td>[Orden TMA/1240/2020, de 8 de diciembre, por l...</td>\n      <td>https://www.boe.es/diario_boe/xml.php?id=BOE-A...</td>\n      <td>[BOE-A-2020-16830]</td>\n      <td>[I. Disposiciones generales]</td>\n    </tr>\n    <tr>\n      <th>8</th>\n      <td>[MINISTERIO DE TRANSPORTES, MOVILIDAD Y AGENDA...</td>\n      <td>[Seguridad aérea]</td>\n      <td>[Resolución de 17 de diciembre de 2020, de la ...</td>\n      <td>https://www.boe.es/diario_boe/xml.php?id=BOE-A...</td>\n      <td>[BOE-A-2020-16831]</td>\n      <td>[I. Disposiciones generales]</td>\n    </tr>\n    <tr>\n      <th>9</th>\n      <td>[MINISTERIO DE INDUSTRIA, COMERCIO Y TURISMO]</td>\n      <td>[Subvenciones]</td>\n      <td>[Real Decreto 1153/2020, de 22 de diciembre, p...</td>\n      <td>https://www.boe.es/diario_boe/xml.php?id=BOE-A...</td>\n      <td>[BOE-A-2020-16832]</td>\n      <td>[I. Disposiciones generales]</td>\n    </tr>\n    <tr>\n      <th>10</th>\n      <td>[MINISTERIO DE LA PRESIDENCIA, RELACIONES CON ...</td>\n      <td>[Riesgos laborales. Prevención]</td>\n      <td>[Real Decreto 1154/2020, de 22 de diciembre, p...</td>\n      <td>https://www.boe.es/diario_boe/xml.php?id=BOE-A...</td>\n      <td>[BOE-A-2020-16833]</td>\n      <td>[I. Disposiciones generales]</td>\n    </tr>\n    <tr>\n      <th>11</th>\n      <td>[MINISTERIO DE LA PRESIDENCIA, RELACIONES CON ...</td>\n      <td>[Medicamentos y productos sanitarios. Fuerzas ...</td>\n      <td>[Real Decreto 1155/2020, de 22 de diciembre, p...</td>\n      <td>https://www.boe.es/diario_boe/xml.php?id=BOE-A...</td>\n      <td>[BOE-A-2020-16834]</td>\n      <td>[I. Disposiciones generales]</td>\n    </tr>\n    <tr>\n      <th>12</th>\n      <td>[MINISTERIO DE POLÍTICA TERRITORIAL Y FUNCIÓN ...</td>\n      <td>[Comunidad Autónoma de Cataluña. Traspaso de f...</td>\n      <td>[Real Decreto 1156/2020, de 22 de diciembre, d...</td>\n      <td>https://www.boe.es/diario_boe/xml.php?id=BOE-A...</td>\n      <td>[BOE-A-2020-16835]</td>\n      <td>[I. Disposiciones generales]</td>\n    </tr>\n    <tr>\n      <th>13</th>\n      <td>[MINISTERIO DE POLÍTICA TERRITORIAL Y FUNCIÓN ...</td>\n      <td>[Fondo Estatal de Inversión Local. Liquidación...</td>\n      <td>[Real Decreto 1157/2020, de 22 de diciembre, p...</td>\n      <td>https://www.boe.es/diario_boe/xml.php?id=BOE-A...</td>\n      <td>[BOE-A-2020-16836]</td>\n      <td>[I. Disposiciones generales]</td>\n    </tr>\n    <tr>\n      <th>14</th>\n      <td>[MINISTERIO PARA LA TRANSICIÓN ECOLÓGICA Y EL ...</td>\n      <td>[Subvenciones]</td>\n      <td>[Real Decreto 1158/2020, de 22 de diciembre, p...</td>\n      <td>https://www.boe.es/diario_boe/xml.php?id=BOE-A...</td>\n      <td>[BOE-A-2020-16837]</td>\n      <td>[I. Disposiciones generales]</td>\n    </tr>\n    <tr>\n      <th>15</th>\n      <td>[MINISTERIO PARA LA TRANSICIÓN ECOLÓGICA Y EL ...</td>\n      <td>[Subvenciones]</td>\n      <td>[Real Decreto 1159/2020, de 22 de diciembre, p...</td>\n      <td>https://www.boe.es/diario_boe/xml.php?id=BOE-A...</td>\n      <td>[BOE-A-2020-16838]</td>\n      <td>[I. Disposiciones generales]</td>\n    </tr>\n    <tr>\n      <th>16</th>\n      <td>[MINISTERIO PARA LA TRANSICIÓN ECOLÓGICA Y EL ...</td>\n      <td>[Subvenciones]</td>\n      <td>[Real Decreto 1160/2020, de 22 de diciembre, p...</td>\n      <td>https://www.boe.es/diario_boe/xml.php?id=BOE-A...</td>\n      <td>[BOE-A-2020-16839]</td>\n      <td>[I. Disposiciones generales]</td>\n    </tr>\n    <tr>\n      <th>17</th>\n      <td>[MINISTERIO PARA LA TRANSICIÓN ECOLÓGICA Y EL ...</td>\n      <td>[Subvenciones]</td>\n      <td>[Real Decreto 1161/2020, de 22 de diciembre, p...</td>\n      <td>https://www.boe.es/diario_boe/xml.php?id=BOE-A...</td>\n      <td>[BOE-A-2020-16840]</td>\n      <td>[I. Disposiciones generales]</td>\n    </tr>\n    <tr>\n      <th>18</th>\n      <td>[MINISTERIO PARA LA TRANSICIÓN ECOLÓGICA Y EL ...</td>\n      <td>[Sector petrolero]</td>\n      <td>[Orden TED/1241/2020, de 21 de diciembre, por ...</td>\n      <td>https://www.boe.es/diario_boe/xml.php?id=BOE-A...</td>\n      <td>[BOE-A-2020-16841]</td>\n      <td>[I. Disposiciones generales]</td>\n    </tr>\n    <tr>\n      <th>19</th>\n      <td>[MINISTERIO DE CULTURA Y DEPORTE]</td>\n      <td>[Sociedades anónimas deportivas]</td>\n      <td>[Real Decreto 1162/2020, de 22 de diciembre, p...</td>\n      <td>https://www.boe.es/diario_boe/xml.php?id=BOE-A...</td>\n      <td>[BOE-A-2020-16842]</td>\n      <td>[I. Disposiciones generales]</td>\n    </tr>\n    <tr>\n      <th>20</th>\n      <td>[MINISTERIO DE DERECHOS SOCIALES Y AGENDA 2030]</td>\n      <td>[Subvenciones]</td>\n      <td>[Real Decreto 1163/2020, de 22 de diciembre, p...</td>\n      <td>https://www.boe.es/diario_boe/xml.php?id=BOE-A...</td>\n      <td>[BOE-A-2020-16843]</td>\n      <td>[I. Disposiciones generales]</td>\n    </tr>\n  </tbody>\n</table>\n</div>"
     },
     "metadata": {},
     "execution_count": 51
    }
   ],
   "source": [
    "tabla_resumen.sort_values('Item_id')"
   ]
  },
  {
   "cell_type": "code",
   "execution_count": 52,
   "metadata": {},
   "outputs": [],
   "source": [
    "#for row in tabla_resumen:\n",
    "#    tabla_resumen.loc[row['Item_id']]['Materias'] = tabla_materias.loc[row['Item_id']]['Materias']"
   ]
  },
  {
   "cell_type": "code",
   "execution_count": 53,
   "metadata": {},
   "outputs": [],
   "source": [
    "tabla_resumen['Item_id'] = tabla_resumen['Item_id'].astype(str)\n",
    "tabla_materias['Item_id'] = tabla_materias['Item_id'].astype(str)\n",
    "tabla_resultados = tabla_resumen.set_index('Item_id').join(tabla_materias.set_index('Item_id'))\n"
   ]
  },
  {
   "cell_type": "code",
   "execution_count": 54,
   "metadata": {},
   "outputs": [
    {
     "output_type": "execute_result",
     "data": {
      "text/plain": [
       "                                                           Departamento  \\\n",
       "Item_id                                                                   \n",
       "['BOE-A-2020-16823']                              [JEFATURA DEL ESTADO]   \n",
       "['BOE-A-2020-16824']                              [JEFATURA DEL ESTADO]   \n",
       "['BOE-A-2020-16825']                                 [CORTES GENERALES]   \n",
       "['BOE-A-2020-16826']  [MINISTERIO DE ASUNTOS EXTERIORES, UNIÓN EUROP...   \n",
       "['BOE-A-2020-16827']                           [MINISTERIO DE HACIENDA]   \n",
       "['BOE-A-2020-16828']                           [MINISTERIO DE HACIENDA]   \n",
       "['BOE-A-2020-16829']                           [MINISTERIO DE HACIENDA]   \n",
       "['BOE-A-2020-16830']  [MINISTERIO DE TRANSPORTES, MOVILIDAD Y AGENDA...   \n",
       "['BOE-A-2020-16831']  [MINISTERIO DE TRANSPORTES, MOVILIDAD Y AGENDA...   \n",
       "['BOE-A-2020-16832']      [MINISTERIO DE INDUSTRIA, COMERCIO Y TURISMO]   \n",
       "['BOE-A-2020-16833']  [MINISTERIO DE LA PRESIDENCIA, RELACIONES CON ...   \n",
       "['BOE-A-2020-16834']  [MINISTERIO DE LA PRESIDENCIA, RELACIONES CON ...   \n",
       "['BOE-A-2020-16835']  [MINISTERIO DE POLÍTICA TERRITORIAL Y FUNCIÓN ...   \n",
       "['BOE-A-2020-16836']  [MINISTERIO DE POLÍTICA TERRITORIAL Y FUNCIÓN ...   \n",
       "['BOE-A-2020-16837']  [MINISTERIO PARA LA TRANSICIÓN ECOLÓGICA Y EL ...   \n",
       "['BOE-A-2020-16838']  [MINISTERIO PARA LA TRANSICIÓN ECOLÓGICA Y EL ...   \n",
       "['BOE-A-2020-16839']  [MINISTERIO PARA LA TRANSICIÓN ECOLÓGICA Y EL ...   \n",
       "['BOE-A-2020-16840']  [MINISTERIO PARA LA TRANSICIÓN ECOLÓGICA Y EL ...   \n",
       "['BOE-A-2020-16841']  [MINISTERIO PARA LA TRANSICIÓN ECOLÓGICA Y EL ...   \n",
       "['BOE-A-2020-16842']                  [MINISTERIO DE CULTURA Y DEPORTE]   \n",
       "['BOE-A-2020-16843']    [MINISTERIO DE DERECHOS SOCIALES Y AGENDA 2030]   \n",
       "\n",
       "                                                               Epigrafe  \\\n",
       "Item_id                                                                   \n",
       "['BOE-A-2020-16823']                                 [Medidas urgentes]   \n",
       "['BOE-A-2020-16824']                                 [Medidas urgentes]   \n",
       "['BOE-A-2020-16825']                                 [Medidas urgentes]   \n",
       "['BOE-A-2020-16826']                         [Tratados internacionales]   \n",
       "['BOE-A-2020-16827']                                     [Organización]   \n",
       "['BOE-A-2020-16828']                            [Incentivos regionales]   \n",
       "['BOE-A-2020-16829']          [Comercio intracomunitario. Estadísticas]   \n",
       "['BOE-A-2020-16830']                                  [Red ferroviaria]   \n",
       "['BOE-A-2020-16831']                                  [Seguridad aérea]   \n",
       "['BOE-A-2020-16832']                                     [Subvenciones]   \n",
       "['BOE-A-2020-16833']                    [Riesgos laborales. Prevención]   \n",
       "['BOE-A-2020-16834']  [Medicamentos y productos sanitarios. Fuerzas ...   \n",
       "['BOE-A-2020-16835']  [Comunidad Autónoma de Cataluña. Traspaso de f...   \n",
       "['BOE-A-2020-16836']  [Fondo Estatal de Inversión Local. Liquidación...   \n",
       "['BOE-A-2020-16837']                                     [Subvenciones]   \n",
       "['BOE-A-2020-16838']                                     [Subvenciones]   \n",
       "['BOE-A-2020-16839']                                     [Subvenciones]   \n",
       "['BOE-A-2020-16840']                                     [Subvenciones]   \n",
       "['BOE-A-2020-16841']                                 [Sector petrolero]   \n",
       "['BOE-A-2020-16842']                   [Sociedades anónimas deportivas]   \n",
       "['BOE-A-2020-16843']                                     [Subvenciones]   \n",
       "\n",
       "                                                            Item_Nombre  \\\n",
       "Item_id                                                                   \n",
       "['BOE-A-2020-16823']  [Real Decreto-ley 35/2020, de 22 de diciembre,...   \n",
       "['BOE-A-2020-16824']  [Real Decreto-ley 37/2020, de 22 de diciembre,...   \n",
       "['BOE-A-2020-16825']  [Resolución de 17 de diciembre de 2020, del Co...   \n",
       "['BOE-A-2020-16826']  [Textos enmendados aprobados en París el 15 de...   \n",
       "['BOE-A-2020-16827']  [Orden HAC/1238/2020, de 17 de noviembre de 20...   \n",
       "['BOE-A-2020-16828']  [Orden HAC/1239/2020, de 21 de diciembre, por ...   \n",
       "['BOE-A-2020-16829']  [Resolución de 15 de diciembre de 2020, del De...   \n",
       "['BOE-A-2020-16830']  [Orden TMA/1240/2020, de 8 de diciembre, por l...   \n",
       "['BOE-A-2020-16831']  [Resolución de 17 de diciembre de 2020, de la ...   \n",
       "['BOE-A-2020-16832']  [Real Decreto 1153/2020, de 22 de diciembre, p...   \n",
       "['BOE-A-2020-16833']  [Real Decreto 1154/2020, de 22 de diciembre, p...   \n",
       "['BOE-A-2020-16834']  [Real Decreto 1155/2020, de 22 de diciembre, p...   \n",
       "['BOE-A-2020-16835']  [Real Decreto 1156/2020, de 22 de diciembre, d...   \n",
       "['BOE-A-2020-16836']  [Real Decreto 1157/2020, de 22 de diciembre, p...   \n",
       "['BOE-A-2020-16837']  [Real Decreto 1158/2020, de 22 de diciembre, p...   \n",
       "['BOE-A-2020-16838']  [Real Decreto 1159/2020, de 22 de diciembre, p...   \n",
       "['BOE-A-2020-16839']  [Real Decreto 1160/2020, de 22 de diciembre, p...   \n",
       "['BOE-A-2020-16840']  [Real Decreto 1161/2020, de 22 de diciembre, p...   \n",
       "['BOE-A-2020-16841']  [Orden TED/1241/2020, de 21 de diciembre, por ...   \n",
       "['BOE-A-2020-16842']  [Real Decreto 1162/2020, de 22 de diciembre, p...   \n",
       "['BOE-A-2020-16843']  [Real Decreto 1163/2020, de 22 de diciembre, p...   \n",
       "\n",
       "                                                           Item_URL_XML  \\\n",
       "Item_id                                                                   \n",
       "['BOE-A-2020-16823']  https://www.boe.es/diario_boe/xml.php?id=BOE-A...   \n",
       "['BOE-A-2020-16824']  https://www.boe.es/diario_boe/xml.php?id=BOE-A...   \n",
       "['BOE-A-2020-16825']  https://www.boe.es/diario_boe/xml.php?id=BOE-A...   \n",
       "['BOE-A-2020-16826']  https://www.boe.es/diario_boe/xml.php?id=BOE-A...   \n",
       "['BOE-A-2020-16827']  https://www.boe.es/diario_boe/xml.php?id=BOE-A...   \n",
       "['BOE-A-2020-16828']  https://www.boe.es/diario_boe/xml.php?id=BOE-A...   \n",
       "['BOE-A-2020-16829']  https://www.boe.es/diario_boe/xml.php?id=BOE-A...   \n",
       "['BOE-A-2020-16830']  https://www.boe.es/diario_boe/xml.php?id=BOE-A...   \n",
       "['BOE-A-2020-16831']  https://www.boe.es/diario_boe/xml.php?id=BOE-A...   \n",
       "['BOE-A-2020-16832']  https://www.boe.es/diario_boe/xml.php?id=BOE-A...   \n",
       "['BOE-A-2020-16833']  https://www.boe.es/diario_boe/xml.php?id=BOE-A...   \n",
       "['BOE-A-2020-16834']  https://www.boe.es/diario_boe/xml.php?id=BOE-A...   \n",
       "['BOE-A-2020-16835']  https://www.boe.es/diario_boe/xml.php?id=BOE-A...   \n",
       "['BOE-A-2020-16836']  https://www.boe.es/diario_boe/xml.php?id=BOE-A...   \n",
       "['BOE-A-2020-16837']  https://www.boe.es/diario_boe/xml.php?id=BOE-A...   \n",
       "['BOE-A-2020-16838']  https://www.boe.es/diario_boe/xml.php?id=BOE-A...   \n",
       "['BOE-A-2020-16839']  https://www.boe.es/diario_boe/xml.php?id=BOE-A...   \n",
       "['BOE-A-2020-16840']  https://www.boe.es/diario_boe/xml.php?id=BOE-A...   \n",
       "['BOE-A-2020-16841']  https://www.boe.es/diario_boe/xml.php?id=BOE-A...   \n",
       "['BOE-A-2020-16842']  https://www.boe.es/diario_boe/xml.php?id=BOE-A...   \n",
       "['BOE-A-2020-16843']  https://www.boe.es/diario_boe/xml.php?id=BOE-A...   \n",
       "\n",
       "                                           Seccion  \\\n",
       "Item_id                                              \n",
       "['BOE-A-2020-16823']  [I. Disposiciones generales]   \n",
       "['BOE-A-2020-16824']  [I. Disposiciones generales]   \n",
       "['BOE-A-2020-16825']  [I. Disposiciones generales]   \n",
       "['BOE-A-2020-16826']  [I. Disposiciones generales]   \n",
       "['BOE-A-2020-16827']  [I. Disposiciones generales]   \n",
       "['BOE-A-2020-16828']  [I. Disposiciones generales]   \n",
       "['BOE-A-2020-16829']  [I. Disposiciones generales]   \n",
       "['BOE-A-2020-16830']  [I. Disposiciones generales]   \n",
       "['BOE-A-2020-16831']  [I. Disposiciones generales]   \n",
       "['BOE-A-2020-16832']  [I. Disposiciones generales]   \n",
       "['BOE-A-2020-16833']  [I. Disposiciones generales]   \n",
       "['BOE-A-2020-16834']  [I. Disposiciones generales]   \n",
       "['BOE-A-2020-16835']  [I. Disposiciones generales]   \n",
       "['BOE-A-2020-16836']  [I. Disposiciones generales]   \n",
       "['BOE-A-2020-16837']  [I. Disposiciones generales]   \n",
       "['BOE-A-2020-16838']  [I. Disposiciones generales]   \n",
       "['BOE-A-2020-16839']  [I. Disposiciones generales]   \n",
       "['BOE-A-2020-16840']  [I. Disposiciones generales]   \n",
       "['BOE-A-2020-16841']  [I. Disposiciones generales]   \n",
       "['BOE-A-2020-16842']  [I. Disposiciones generales]   \n",
       "['BOE-A-2020-16843']  [I. Disposiciones generales]   \n",
       "\n",
       "                                                                Alertas  \\\n",
       "Item_id                                                                   \n",
       "['BOE-A-2020-16823']  [Asuntos sociales, Comercio, Cultura y ocio, D...   \n",
       "['BOE-A-2020-16824']  [Asuntos sociales, Consumidores y usuarios, De...   \n",
       "['BOE-A-2020-16825']  [Comercio, Derecho Mercantil, Energía, Industr...   \n",
       "['BOE-A-2020-16826']              [Deporte, Relaciones internacionales]   \n",
       "['BOE-A-2020-16827']  [Derecho Administrativo, Organización de la Ad...   \n",
       "['BOE-A-2020-16828']  [Organización de la Administración, Sistema tr...   \n",
       "['BOE-A-2020-16829']                          [Comercio, Unión Europea]   \n",
       "['BOE-A-2020-16830']                            [Transportes y tráfico]   \n",
       "['BOE-A-2020-16831']  [Consumidores y usuarios, Derecho Administrati...   \n",
       "['BOE-A-2020-16832']                [Derecho Administrativo, Industria]   \n",
       "['BOE-A-2020-16833']  [Derecho Administrativo, Sanidad, Trabajo y em...   \n",
       "['BOE-A-2020-16834']  [Consumidores y usuarios, Derecho Administrati...   \n",
       "['BOE-A-2020-16835']  [Administración de Justicia, Organización de l...   \n",
       "['BOE-A-2020-16836']                [Organización de la Administración]   \n",
       "['BOE-A-2020-16837']           [Medio ambiente, Obras y construcciones]   \n",
       "['BOE-A-2020-16838']           [Medio ambiente, Obras y construcciones]   \n",
       "['BOE-A-2020-16839']           [Medio ambiente, Obras y construcciones]   \n",
       "['BOE-A-2020-16840']                      [Agricultura, Medio ambiente]   \n",
       "['BOE-A-2020-16841']                                          [Energía]   \n",
       "['BOE-A-2020-16842']             [Deporte, Sanidad, Sistema financiero]   \n",
       "['BOE-A-2020-16843']                                 [Asuntos sociales]   \n",
       "\n",
       "                                                               Materias  \n",
       "Item_id                                                                  \n",
       "['BOE-A-2020-16823']  [Actividades económicas, Arrendamientos urbano...  \n",
       "['BOE-A-2020-16824']  [Aguas, Asistencia social, Ayudas, Consumidore...  \n",
       "['BOE-A-2020-16825']  [Aranceles Profesionales, Asistencia sanitaria...  \n",
       "['BOE-A-2020-16826']  [Acuerdos internacionales, Autorizaciones, Dep...  \n",
       "['BOE-A-2020-16827']  [Juntas de Contratación, Mesas de Contratación...  \n",
       "['BOE-A-2020-16828']  [Comunidades Autónomas, Financiación de las Co...  \n",
       "['BOE-A-2020-16829']  [Agencia Estatal de la Administración Tributar...  \n",
       "['BOE-A-2020-16830']  [Ferrocarriles, Madrid, Red Ferroviaria de Int...  \n",
       "['BOE-A-2020-16831']  [Distintivos, Enfermedades, Epidemias, Formula...  \n",
       "['BOE-A-2020-16832']  [Ayudas, Buques, Construcciones navales, Crédi...  \n",
       "['BOE-A-2020-16833']  [Enfermedades, Ficheros con datos personales, ...  \n",
       "['BOE-A-2020-16834']  [Almacenes, Asistencia farmacéutica, Consumido...  \n",
       "['BOE-A-2020-16835']  [Administración de Justicia, Cataluña, Comunid...  \n",
       "['BOE-A-2020-16836']  [Dirección General de Cooperación Autonómica y...  \n",
       "['BOE-A-2020-16837']  [Ayudas, Ayuntamientos, Inundaciones, Murcia, ...  \n",
       "['BOE-A-2020-16838']  [Ayudas, Castilla La Mancha, Comunidades Autón...  \n",
       "['BOE-A-2020-16839']  [Abastecimiento de aguas, Ayudas, Canarias, Ob...  \n",
       "['BOE-A-2020-16840']  [Abastecimiento de aguas, Agricultura, Aguas, ...  \n",
       "['BOE-A-2020-16841']  [Almacenes, Carburantes y combustibles, Corpor...  \n",
       "['BOE-A-2020-16842']  [Asociaciones deportivas, Aval, Ayudas, Contab...  \n",
       "['BOE-A-2020-16843']  [Administración Local, Asistencia social, Ayud...  "
      ],
      "text/html": "<div>\n<style scoped>\n    .dataframe tbody tr th:only-of-type {\n        vertical-align: middle;\n    }\n\n    .dataframe tbody tr th {\n        vertical-align: top;\n    }\n\n    .dataframe thead th {\n        text-align: right;\n    }\n</style>\n<table border=\"1\" class=\"dataframe\">\n  <thead>\n    <tr style=\"text-align: right;\">\n      <th></th>\n      <th>Departamento</th>\n      <th>Epigrafe</th>\n      <th>Item_Nombre</th>\n      <th>Item_URL_XML</th>\n      <th>Seccion</th>\n      <th>Alertas</th>\n      <th>Materias</th>\n    </tr>\n    <tr>\n      <th>Item_id</th>\n      <th></th>\n      <th></th>\n      <th></th>\n      <th></th>\n      <th></th>\n      <th></th>\n      <th></th>\n    </tr>\n  </thead>\n  <tbody>\n    <tr>\n      <th>['BOE-A-2020-16823']</th>\n      <td>[JEFATURA DEL ESTADO]</td>\n      <td>[Medidas urgentes]</td>\n      <td>[Real Decreto-ley 35/2020, de 22 de diciembre,...</td>\n      <td>https://www.boe.es/diario_boe/xml.php?id=BOE-A...</td>\n      <td>[I. Disposiciones generales]</td>\n      <td>[Asuntos sociales, Comercio, Cultura y ocio, D...</td>\n      <td>[Actividades económicas, Arrendamientos urbano...</td>\n    </tr>\n    <tr>\n      <th>['BOE-A-2020-16824']</th>\n      <td>[JEFATURA DEL ESTADO]</td>\n      <td>[Medidas urgentes]</td>\n      <td>[Real Decreto-ley 37/2020, de 22 de diciembre,...</td>\n      <td>https://www.boe.es/diario_boe/xml.php?id=BOE-A...</td>\n      <td>[I. Disposiciones generales]</td>\n      <td>[Asuntos sociales, Consumidores y usuarios, De...</td>\n      <td>[Aguas, Asistencia social, Ayudas, Consumidore...</td>\n    </tr>\n    <tr>\n      <th>['BOE-A-2020-16825']</th>\n      <td>[CORTES GENERALES]</td>\n      <td>[Medidas urgentes]</td>\n      <td>[Resolución de 17 de diciembre de 2020, del Co...</td>\n      <td>https://www.boe.es/diario_boe/xml.php?id=BOE-A...</td>\n      <td>[I. Disposiciones generales]</td>\n      <td>[Comercio, Derecho Mercantil, Energía, Industr...</td>\n      <td>[Aranceles Profesionales, Asistencia sanitaria...</td>\n    </tr>\n    <tr>\n      <th>['BOE-A-2020-16826']</th>\n      <td>[MINISTERIO DE ASUNTOS EXTERIORES, UNIÓN EUROP...</td>\n      <td>[Tratados internacionales]</td>\n      <td>[Textos enmendados aprobados en París el 15 de...</td>\n      <td>https://www.boe.es/diario_boe/xml.php?id=BOE-A...</td>\n      <td>[I. Disposiciones generales]</td>\n      <td>[Deporte, Relaciones internacionales]</td>\n      <td>[Acuerdos internacionales, Autorizaciones, Dep...</td>\n    </tr>\n    <tr>\n      <th>['BOE-A-2020-16827']</th>\n      <td>[MINISTERIO DE HACIENDA]</td>\n      <td>[Organización]</td>\n      <td>[Orden HAC/1238/2020, de 17 de noviembre de 20...</td>\n      <td>https://www.boe.es/diario_boe/xml.php?id=BOE-A...</td>\n      <td>[I. Disposiciones generales]</td>\n      <td>[Derecho Administrativo, Organización de la Ad...</td>\n      <td>[Juntas de Contratación, Mesas de Contratación...</td>\n    </tr>\n    <tr>\n      <th>['BOE-A-2020-16828']</th>\n      <td>[MINISTERIO DE HACIENDA]</td>\n      <td>[Incentivos regionales]</td>\n      <td>[Orden HAC/1239/2020, de 21 de diciembre, por ...</td>\n      <td>https://www.boe.es/diario_boe/xml.php?id=BOE-A...</td>\n      <td>[I. Disposiciones generales]</td>\n      <td>[Organización de la Administración, Sistema tr...</td>\n      <td>[Comunidades Autónomas, Financiación de las Co...</td>\n    </tr>\n    <tr>\n      <th>['BOE-A-2020-16829']</th>\n      <td>[MINISTERIO DE HACIENDA]</td>\n      <td>[Comercio intracomunitario. Estadísticas]</td>\n      <td>[Resolución de 15 de diciembre de 2020, del De...</td>\n      <td>https://www.boe.es/diario_boe/xml.php?id=BOE-A...</td>\n      <td>[I. Disposiciones generales]</td>\n      <td>[Comercio, Unión Europea]</td>\n      <td>[Agencia Estatal de la Administración Tributar...</td>\n    </tr>\n    <tr>\n      <th>['BOE-A-2020-16830']</th>\n      <td>[MINISTERIO DE TRANSPORTES, MOVILIDAD Y AGENDA...</td>\n      <td>[Red ferroviaria]</td>\n      <td>[Orden TMA/1240/2020, de 8 de diciembre, por l...</td>\n      <td>https://www.boe.es/diario_boe/xml.php?id=BOE-A...</td>\n      <td>[I. Disposiciones generales]</td>\n      <td>[Transportes y tráfico]</td>\n      <td>[Ferrocarriles, Madrid, Red Ferroviaria de Int...</td>\n    </tr>\n    <tr>\n      <th>['BOE-A-2020-16831']</th>\n      <td>[MINISTERIO DE TRANSPORTES, MOVILIDAD Y AGENDA...</td>\n      <td>[Seguridad aérea]</td>\n      <td>[Resolución de 17 de diciembre de 2020, de la ...</td>\n      <td>https://www.boe.es/diario_boe/xml.php?id=BOE-A...</td>\n      <td>[I. Disposiciones generales]</td>\n      <td>[Consumidores y usuarios, Derecho Administrati...</td>\n      <td>[Distintivos, Enfermedades, Epidemias, Formula...</td>\n    </tr>\n    <tr>\n      <th>['BOE-A-2020-16832']</th>\n      <td>[MINISTERIO DE INDUSTRIA, COMERCIO Y TURISMO]</td>\n      <td>[Subvenciones]</td>\n      <td>[Real Decreto 1153/2020, de 22 de diciembre, p...</td>\n      <td>https://www.boe.es/diario_boe/xml.php?id=BOE-A...</td>\n      <td>[I. Disposiciones generales]</td>\n      <td>[Derecho Administrativo, Industria]</td>\n      <td>[Ayudas, Buques, Construcciones navales, Crédi...</td>\n    </tr>\n    <tr>\n      <th>['BOE-A-2020-16833']</th>\n      <td>[MINISTERIO DE LA PRESIDENCIA, RELACIONES CON ...</td>\n      <td>[Riesgos laborales. Prevención]</td>\n      <td>[Real Decreto 1154/2020, de 22 de diciembre, p...</td>\n      <td>https://www.boe.es/diario_boe/xml.php?id=BOE-A...</td>\n      <td>[I. Disposiciones generales]</td>\n      <td>[Derecho Administrativo, Sanidad, Trabajo y em...</td>\n      <td>[Enfermedades, Ficheros con datos personales, ...</td>\n    </tr>\n    <tr>\n      <th>['BOE-A-2020-16834']</th>\n      <td>[MINISTERIO DE LA PRESIDENCIA, RELACIONES CON ...</td>\n      <td>[Medicamentos y productos sanitarios. Fuerzas ...</td>\n      <td>[Real Decreto 1155/2020, de 22 de diciembre, p...</td>\n      <td>https://www.boe.es/diario_boe/xml.php?id=BOE-A...</td>\n      <td>[I. Disposiciones generales]</td>\n      <td>[Consumidores y usuarios, Derecho Administrati...</td>\n      <td>[Almacenes, Asistencia farmacéutica, Consumido...</td>\n    </tr>\n    <tr>\n      <th>['BOE-A-2020-16835']</th>\n      <td>[MINISTERIO DE POLÍTICA TERRITORIAL Y FUNCIÓN ...</td>\n      <td>[Comunidad Autónoma de Cataluña. Traspaso de f...</td>\n      <td>[Real Decreto 1156/2020, de 22 de diciembre, d...</td>\n      <td>https://www.boe.es/diario_boe/xml.php?id=BOE-A...</td>\n      <td>[I. Disposiciones generales]</td>\n      <td>[Administración de Justicia, Organización de l...</td>\n      <td>[Administración de Justicia, Cataluña, Comunid...</td>\n    </tr>\n    <tr>\n      <th>['BOE-A-2020-16836']</th>\n      <td>[MINISTERIO DE POLÍTICA TERRITORIAL Y FUNCIÓN ...</td>\n      <td>[Fondo Estatal de Inversión Local. Liquidación...</td>\n      <td>[Real Decreto 1157/2020, de 22 de diciembre, p...</td>\n      <td>https://www.boe.es/diario_boe/xml.php?id=BOE-A...</td>\n      <td>[I. Disposiciones generales]</td>\n      <td>[Organización de la Administración]</td>\n      <td>[Dirección General de Cooperación Autonómica y...</td>\n    </tr>\n    <tr>\n      <th>['BOE-A-2020-16837']</th>\n      <td>[MINISTERIO PARA LA TRANSICIÓN ECOLÓGICA Y EL ...</td>\n      <td>[Subvenciones]</td>\n      <td>[Real Decreto 1158/2020, de 22 de diciembre, p...</td>\n      <td>https://www.boe.es/diario_boe/xml.php?id=BOE-A...</td>\n      <td>[I. Disposiciones generales]</td>\n      <td>[Medio ambiente, Obras y construcciones]</td>\n      <td>[Ayudas, Ayuntamientos, Inundaciones, Murcia, ...</td>\n    </tr>\n    <tr>\n      <th>['BOE-A-2020-16838']</th>\n      <td>[MINISTERIO PARA LA TRANSICIÓN ECOLÓGICA Y EL ...</td>\n      <td>[Subvenciones]</td>\n      <td>[Real Decreto 1159/2020, de 22 de diciembre, p...</td>\n      <td>https://www.boe.es/diario_boe/xml.php?id=BOE-A...</td>\n      <td>[I. Disposiciones generales]</td>\n      <td>[Medio ambiente, Obras y construcciones]</td>\n      <td>[Ayudas, Castilla La Mancha, Comunidades Autón...</td>\n    </tr>\n    <tr>\n      <th>['BOE-A-2020-16839']</th>\n      <td>[MINISTERIO PARA LA TRANSICIÓN ECOLÓGICA Y EL ...</td>\n      <td>[Subvenciones]</td>\n      <td>[Real Decreto 1160/2020, de 22 de diciembre, p...</td>\n      <td>https://www.boe.es/diario_boe/xml.php?id=BOE-A...</td>\n      <td>[I. Disposiciones generales]</td>\n      <td>[Medio ambiente, Obras y construcciones]</td>\n      <td>[Abastecimiento de aguas, Ayudas, Canarias, Ob...</td>\n    </tr>\n    <tr>\n      <th>['BOE-A-2020-16840']</th>\n      <td>[MINISTERIO PARA LA TRANSICIÓN ECOLÓGICA Y EL ...</td>\n      <td>[Subvenciones]</td>\n      <td>[Real Decreto 1161/2020, de 22 de diciembre, p...</td>\n      <td>https://www.boe.es/diario_boe/xml.php?id=BOE-A...</td>\n      <td>[I. Disposiciones generales]</td>\n      <td>[Agricultura, Medio ambiente]</td>\n      <td>[Abastecimiento de aguas, Agricultura, Aguas, ...</td>\n    </tr>\n    <tr>\n      <th>['BOE-A-2020-16841']</th>\n      <td>[MINISTERIO PARA LA TRANSICIÓN ECOLÓGICA Y EL ...</td>\n      <td>[Sector petrolero]</td>\n      <td>[Orden TED/1241/2020, de 21 de diciembre, por ...</td>\n      <td>https://www.boe.es/diario_boe/xml.php?id=BOE-A...</td>\n      <td>[I. Disposiciones generales]</td>\n      <td>[Energía]</td>\n      <td>[Almacenes, Carburantes y combustibles, Corpor...</td>\n    </tr>\n    <tr>\n      <th>['BOE-A-2020-16842']</th>\n      <td>[MINISTERIO DE CULTURA Y DEPORTE]</td>\n      <td>[Sociedades anónimas deportivas]</td>\n      <td>[Real Decreto 1162/2020, de 22 de diciembre, p...</td>\n      <td>https://www.boe.es/diario_boe/xml.php?id=BOE-A...</td>\n      <td>[I. Disposiciones generales]</td>\n      <td>[Deporte, Sanidad, Sistema financiero]</td>\n      <td>[Asociaciones deportivas, Aval, Ayudas, Contab...</td>\n    </tr>\n    <tr>\n      <th>['BOE-A-2020-16843']</th>\n      <td>[MINISTERIO DE DERECHOS SOCIALES Y AGENDA 2030]</td>\n      <td>[Subvenciones]</td>\n      <td>[Real Decreto 1163/2020, de 22 de diciembre, p...</td>\n      <td>https://www.boe.es/diario_boe/xml.php?id=BOE-A...</td>\n      <td>[I. Disposiciones generales]</td>\n      <td>[Asuntos sociales]</td>\n      <td>[Administración Local, Asistencia social, Ayud...</td>\n    </tr>\n  </tbody>\n</table>\n</div>"
     },
     "metadata": {},
     "execution_count": 54
    }
   ],
   "source": [
    "tabla_resultados"
   ]
  },
  {
   "cell_type": "code",
   "execution_count": 55,
   "metadata": {},
   "outputs": [],
   "source": [
    "#tabla_resultados.to_csv('./BOEs/Resultados.csv', index=False)\n",
    "tabla_resultados.to_csv('./BOEs/Resultados-BOE-' + hoy + '.csv', index=False)"
   ]
  },
  {
   "source": [
    "## Genera Split de ALertas y crea una fila para cada una"
   ],
   "cell_type": "markdown",
   "metadata": {}
  },
  {
   "source": [
    "### Los items sin Alerta se desechan"
   ],
   "cell_type": "markdown",
   "metadata": {}
  },
  {
   "cell_type": "code",
   "execution_count": 56,
   "metadata": {},
   "outputs": [
    {
     "output_type": "execute_result",
     "data": {
      "text/plain": [
       "                  Item_id                                        Item_Nombre  \\\n",
       "12   ['BOE-A-2020-16835']  [Real Decreto 1156/2020, de 22 de diciembre, d...   \n",
       "17   ['BOE-A-2020-16840']  [Real Decreto 1161/2020, de 22 de diciembre, p...   \n",
       "20   ['BOE-A-2020-16843']  [Real Decreto 1163/2020, de 22 de diciembre, p...   \n",
       "0    ['BOE-A-2020-16823']  [Real Decreto-ley 35/2020, de 22 de diciembre,...   \n",
       "1    ['BOE-A-2020-16824']  [Real Decreto-ley 37/2020, de 22 de diciembre,...   \n",
       "..                    ...                                                ...   \n",
       "71   ['BOE-A-2020-16831']  [Resolución de 17 de diciembre de 2020, de la ...   \n",
       "191  ['BOE-A-2020-16825']  [Resolución de 17 de diciembre de 2020, del Co...   \n",
       "189  ['BOE-A-2020-16823']  [Real Decreto-ley 35/2020, de 22 de diciembre,...   \n",
       "27   ['BOE-A-2020-16829']  [Resolución de 15 de diciembre de 2020, del De...   \n",
       "127  ['BOE-A-2020-16824']  [Real Decreto-ley 37/2020, de 22 de diciembre,...   \n",
       "\n",
       "                          Seccion  \\\n",
       "12   [I. Disposiciones generales]   \n",
       "17   [I. Disposiciones generales]   \n",
       "20   [I. Disposiciones generales]   \n",
       "0    [I. Disposiciones generales]   \n",
       "1    [I. Disposiciones generales]   \n",
       "..                            ...   \n",
       "71   [I. Disposiciones generales]   \n",
       "191  [I. Disposiciones generales]   \n",
       "189  [I. Disposiciones generales]   \n",
       "27   [I. Disposiciones generales]   \n",
       "127  [I. Disposiciones generales]   \n",
       "\n",
       "                                          Departamento  \\\n",
       "12   [MINISTERIO DE POLÍTICA TERRITORIAL Y FUNCIÓN ...   \n",
       "17   [MINISTERIO PARA LA TRANSICIÓN ECOLÓGICA Y EL ...   \n",
       "20     [MINISTERIO DE DERECHOS SOCIALES Y AGENDA 2030]   \n",
       "0                                [JEFATURA DEL ESTADO]   \n",
       "1                                [JEFATURA DEL ESTADO]   \n",
       "..                                                 ...   \n",
       "71   [MINISTERIO DE TRANSPORTES, MOVILIDAD Y AGENDA...   \n",
       "191                                 [CORTES GENERALES]   \n",
       "189                              [JEFATURA DEL ESTADO]   \n",
       "27                            [MINISTERIO DE HACIENDA]   \n",
       "127                              [JEFATURA DEL ESTADO]   \n",
       "\n",
       "                                              Epigrafe  \\\n",
       "12   [Comunidad Autónoma de Cataluña. Traspaso de f...   \n",
       "17                                      [Subvenciones]   \n",
       "20                                      [Subvenciones]   \n",
       "0                                   [Medidas urgentes]   \n",
       "1                                   [Medidas urgentes]   \n",
       "..                                                 ...   \n",
       "71                                   [Seguridad aérea]   \n",
       "191                                 [Medidas urgentes]   \n",
       "189                                 [Medidas urgentes]   \n",
       "27           [Comercio intracomunitario. Estadísticas]   \n",
       "127                                 [Medidas urgentes]   \n",
       "\n",
       "                                          Item_URL_XML  \\\n",
       "12   https://www.boe.es/diario_boe/xml.php?id=BOE-A...   \n",
       "17   https://www.boe.es/diario_boe/xml.php?id=BOE-A...   \n",
       "20   https://www.boe.es/diario_boe/xml.php?id=BOE-A...   \n",
       "0    https://www.boe.es/diario_boe/xml.php?id=BOE-A...   \n",
       "1    https://www.boe.es/diario_boe/xml.php?id=BOE-A...   \n",
       "..                                                 ...   \n",
       "71   https://www.boe.es/diario_boe/xml.php?id=BOE-A...   \n",
       "191  https://www.boe.es/diario_boe/xml.php?id=BOE-A...   \n",
       "189  https://www.boe.es/diario_boe/xml.php?id=BOE-A...   \n",
       "27   https://www.boe.es/diario_boe/xml.php?id=BOE-A...   \n",
       "127  https://www.boe.es/diario_boe/xml.php?id=BOE-A...   \n",
       "\n",
       "                                              Materias  \\\n",
       "12   [Administración de Justicia, Cataluña, Comunid...   \n",
       "17   [Abastecimiento de aguas, Agricultura, Aguas, ...   \n",
       "20   [Administración Local, Asistencia social, Ayud...   \n",
       "0    [Actividades económicas, Arrendamientos urbano...   \n",
       "1    [Aguas, Asistencia social, Ayudas, Consumidore...   \n",
       "..                                                 ...   \n",
       "71   [Distintivos, Enfermedades, Epidemias, Formula...   \n",
       "191  [Aranceles Profesionales, Asistencia sanitaria...   \n",
       "189  [Actividades económicas, Arrendamientos urbano...   \n",
       "27   [Agencia Estatal de la Administración Tributar...   \n",
       "127  [Aguas, Asistencia social, Ayudas, Consumidore...   \n",
       "\n",
       "                         Alerta  \n",
       "12   Administración de Justicia  \n",
       "17                  Agricultura  \n",
       "20             Asuntos sociales  \n",
       "0              Asuntos sociales  \n",
       "1              Asuntos sociales  \n",
       "..                          ...  \n",
       "71        Transportes y tráfico  \n",
       "191       Transportes y tráfico  \n",
       "189                     Turismo  \n",
       "27                Unión Europea  \n",
       "127        Vivienda y urbanismo  \n",
       "\n",
       "[65 rows x 8 columns]"
      ],
      "text/html": "<div>\n<style scoped>\n    .dataframe tbody tr th:only-of-type {\n        vertical-align: middle;\n    }\n\n    .dataframe tbody tr th {\n        vertical-align: top;\n    }\n\n    .dataframe thead th {\n        text-align: right;\n    }\n</style>\n<table border=\"1\" class=\"dataframe\">\n  <thead>\n    <tr style=\"text-align: right;\">\n      <th></th>\n      <th>Item_id</th>\n      <th>Item_Nombre</th>\n      <th>Seccion</th>\n      <th>Departamento</th>\n      <th>Epigrafe</th>\n      <th>Item_URL_XML</th>\n      <th>Materias</th>\n      <th>Alerta</th>\n    </tr>\n  </thead>\n  <tbody>\n    <tr>\n      <th>12</th>\n      <td>['BOE-A-2020-16835']</td>\n      <td>[Real Decreto 1156/2020, de 22 de diciembre, d...</td>\n      <td>[I. Disposiciones generales]</td>\n      <td>[MINISTERIO DE POLÍTICA TERRITORIAL Y FUNCIÓN ...</td>\n      <td>[Comunidad Autónoma de Cataluña. Traspaso de f...</td>\n      <td>https://www.boe.es/diario_boe/xml.php?id=BOE-A...</td>\n      <td>[Administración de Justicia, Cataluña, Comunid...</td>\n      <td>Administración de Justicia</td>\n    </tr>\n    <tr>\n      <th>17</th>\n      <td>['BOE-A-2020-16840']</td>\n      <td>[Real Decreto 1161/2020, de 22 de diciembre, p...</td>\n      <td>[I. Disposiciones generales]</td>\n      <td>[MINISTERIO PARA LA TRANSICIÓN ECOLÓGICA Y EL ...</td>\n      <td>[Subvenciones]</td>\n      <td>https://www.boe.es/diario_boe/xml.php?id=BOE-A...</td>\n      <td>[Abastecimiento de aguas, Agricultura, Aguas, ...</td>\n      <td>Agricultura</td>\n    </tr>\n    <tr>\n      <th>20</th>\n      <td>['BOE-A-2020-16843']</td>\n      <td>[Real Decreto 1163/2020, de 22 de diciembre, p...</td>\n      <td>[I. Disposiciones generales]</td>\n      <td>[MINISTERIO DE DERECHOS SOCIALES Y AGENDA 2030]</td>\n      <td>[Subvenciones]</td>\n      <td>https://www.boe.es/diario_boe/xml.php?id=BOE-A...</td>\n      <td>[Administración Local, Asistencia social, Ayud...</td>\n      <td>Asuntos sociales</td>\n    </tr>\n    <tr>\n      <th>0</th>\n      <td>['BOE-A-2020-16823']</td>\n      <td>[Real Decreto-ley 35/2020, de 22 de diciembre,...</td>\n      <td>[I. Disposiciones generales]</td>\n      <td>[JEFATURA DEL ESTADO]</td>\n      <td>[Medidas urgentes]</td>\n      <td>https://www.boe.es/diario_boe/xml.php?id=BOE-A...</td>\n      <td>[Actividades económicas, Arrendamientos urbano...</td>\n      <td>Asuntos sociales</td>\n    </tr>\n    <tr>\n      <th>1</th>\n      <td>['BOE-A-2020-16824']</td>\n      <td>[Real Decreto-ley 37/2020, de 22 de diciembre,...</td>\n      <td>[I. Disposiciones generales]</td>\n      <td>[JEFATURA DEL ESTADO]</td>\n      <td>[Medidas urgentes]</td>\n      <td>https://www.boe.es/diario_boe/xml.php?id=BOE-A...</td>\n      <td>[Aguas, Asistencia social, Ayudas, Consumidore...</td>\n      <td>Asuntos sociales</td>\n    </tr>\n    <tr>\n      <th>...</th>\n      <td>...</td>\n      <td>...</td>\n      <td>...</td>\n      <td>...</td>\n      <td>...</td>\n      <td>...</td>\n      <td>...</td>\n      <td>...</td>\n    </tr>\n    <tr>\n      <th>71</th>\n      <td>['BOE-A-2020-16831']</td>\n      <td>[Resolución de 17 de diciembre de 2020, de la ...</td>\n      <td>[I. Disposiciones generales]</td>\n      <td>[MINISTERIO DE TRANSPORTES, MOVILIDAD Y AGENDA...</td>\n      <td>[Seguridad aérea]</td>\n      <td>https://www.boe.es/diario_boe/xml.php?id=BOE-A...</td>\n      <td>[Distintivos, Enfermedades, Epidemias, Formula...</td>\n      <td>Transportes y tráfico</td>\n    </tr>\n    <tr>\n      <th>191</th>\n      <td>['BOE-A-2020-16825']</td>\n      <td>[Resolución de 17 de diciembre de 2020, del Co...</td>\n      <td>[I. Disposiciones generales]</td>\n      <td>[CORTES GENERALES]</td>\n      <td>[Medidas urgentes]</td>\n      <td>https://www.boe.es/diario_boe/xml.php?id=BOE-A...</td>\n      <td>[Aranceles Profesionales, Asistencia sanitaria...</td>\n      <td>Transportes y tráfico</td>\n    </tr>\n    <tr>\n      <th>189</th>\n      <td>['BOE-A-2020-16823']</td>\n      <td>[Real Decreto-ley 35/2020, de 22 de diciembre,...</td>\n      <td>[I. Disposiciones generales]</td>\n      <td>[JEFATURA DEL ESTADO]</td>\n      <td>[Medidas urgentes]</td>\n      <td>https://www.boe.es/diario_boe/xml.php?id=BOE-A...</td>\n      <td>[Actividades económicas, Arrendamientos urbano...</td>\n      <td>Turismo</td>\n    </tr>\n    <tr>\n      <th>27</th>\n      <td>['BOE-A-2020-16829']</td>\n      <td>[Resolución de 15 de diciembre de 2020, del De...</td>\n      <td>[I. Disposiciones generales]</td>\n      <td>[MINISTERIO DE HACIENDA]</td>\n      <td>[Comercio intracomunitario. Estadísticas]</td>\n      <td>https://www.boe.es/diario_boe/xml.php?id=BOE-A...</td>\n      <td>[Agencia Estatal de la Administración Tributar...</td>\n      <td>Unión Europea</td>\n    </tr>\n    <tr>\n      <th>127</th>\n      <td>['BOE-A-2020-16824']</td>\n      <td>[Real Decreto-ley 37/2020, de 22 de diciembre,...</td>\n      <td>[I. Disposiciones generales]</td>\n      <td>[JEFATURA DEL ESTADO]</td>\n      <td>[Medidas urgentes]</td>\n      <td>https://www.boe.es/diario_boe/xml.php?id=BOE-A...</td>\n      <td>[Aguas, Asistencia social, Ayudas, Consumidore...</td>\n      <td>Vivienda y urbanismo</td>\n    </tr>\n  </tbody>\n</table>\n<p>65 rows × 8 columns</p>\n</div>"
     },
     "metadata": {},
     "execution_count": 56
    }
   ],
   "source": [
    "tabla_resultados.Alertas.apply(pd.Series) \\\n",
    "    .merge(tabla_resultados, left_index = True, right_index = True) \\\n",
    "    .drop([\"Alertas\"], axis = 1) \\\n",
    "    .reset_index() \\\n",
    "    .melt(id_vars = ['Item_id','Item_Nombre','Seccion','Departamento','Epigrafe','Item_URL_XML','Materias',], value_name = \"Alerta\") \\\n",
    "    .drop(\"variable\", axis = 1) \\\n",
    "    .dropna() \\\n",
    "    .sort_values('Alerta')"
   ]
  },
  {
   "cell_type": "code",
   "execution_count": 57,
   "metadata": {},
   "outputs": [
    {
     "output_type": "execute_result",
     "data": {
      "text/plain": [
       "Item_id\n",
       "['BOE-A-2020-16823']                                     Medidas urgentes\n",
       "['BOE-A-2020-16824']                                     Medidas urgentes\n",
       "['BOE-A-2020-16825']                                     Medidas urgentes\n",
       "['BOE-A-2020-16826']                             Tratados internacionales\n",
       "['BOE-A-2020-16827']                                         Organización\n",
       "['BOE-A-2020-16828']                                Incentivos regionales\n",
       "['BOE-A-2020-16829']              Comercio intracomunitario. Estadísticas\n",
       "['BOE-A-2020-16830']                                      Red ferroviaria\n",
       "['BOE-A-2020-16831']                                      Seguridad aérea\n",
       "['BOE-A-2020-16832']                                         Subvenciones\n",
       "['BOE-A-2020-16833']                        Riesgos laborales. Prevención\n",
       "['BOE-A-2020-16834']    Medicamentos y productos sanitarios. Fuerzas A...\n",
       "['BOE-A-2020-16835']    Comunidad Autónoma de Cataluña. Traspaso de fu...\n",
       "['BOE-A-2020-16836']    Fondo Estatal de Inversión Local. Liquidación ...\n",
       "['BOE-A-2020-16837']                                         Subvenciones\n",
       "['BOE-A-2020-16838']                                         Subvenciones\n",
       "['BOE-A-2020-16839']                                         Subvenciones\n",
       "['BOE-A-2020-16840']                                         Subvenciones\n",
       "['BOE-A-2020-16841']                                     Sector petrolero\n",
       "['BOE-A-2020-16842']                       Sociedades anónimas deportivas\n",
       "['BOE-A-2020-16843']                                         Subvenciones\n",
       "Name: Epigrafe, dtype: object"
      ]
     },
     "metadata": {},
     "execution_count": 57
    }
   ],
   "source": [
    "tabla_resultados['Epigrafe'].str.join(',')"
   ]
  },
  {
   "cell_type": "code",
   "execution_count": 58,
   "metadata": {},
   "outputs": [],
   "source": [
    "from pprint import pprint"
   ]
  },
  {
   "source": [
    "## Convierte estructura XML en diccionario"
   ],
   "cell_type": "markdown",
   "metadata": {}
  },
  {
   "cell_type": "code",
   "execution_count": 59,
   "metadata": {},
   "outputs": [],
   "source": [
    "BOE_XML = etree.parse('./BOEs/BOE-A-2020-14457.xml')\n",
    "raiz=BOE_XML.getroot()"
   ]
  },
  {
   "cell_type": "code",
   "execution_count": 60,
   "metadata": {},
   "outputs": [
    {
     "output_type": "stream",
     "name": "stdout",
     "text": [
      "[{'departamento': 'Ministerio de Asuntos Exteriores, Unión Europea y '\n                  'Cooperación',\n  'diario': 'Boletín Oficial del Estado',\n  'diario_numero': '304',\n  'estado_consolidacion': None,\n  'estatus_derogacion': 'N',\n  'estatus_legislativo': 'L',\n  'fecha_derogacion': None,\n  'fecha_disposicion': '20201030',\n  'fecha_publicacion': '20201119',\n  'fecha_vigencia': '20201101',\n  'identificador': 'BOE-A-2020-14457',\n  'judicialmente_anulada': 'N',\n  'letra_imagen': 'A',\n  'numero_oficial': None,\n  'origen_legislativo': 'Estatal',\n  'pagina_final': '101023',\n  'pagina_inicial': '101017',\n  'rango': 'Acuerdo Internacional',\n  'seccion': '1',\n  'subseccion': None,\n  'suplemento_letra_imagen': None,\n  'suplemento_pagina_final': None,\n  'suplemento_pagina_inicial': None,\n  'titulo': 'Acuerdo Internacional Administrativo, para el periodo 2020-2021, '\n            'entre el Ministerio de Sanidad del Reino de España y la '\n            'Organización Mundial de la Salud, para llevar a cabo actividades '\n            'de cooperación en materia de donación y trasplante de órganos, '\n            'células y tejidos humanos, hecho en Madrid y Ginebra el 30 de '\n            'octubre de 2020, al amparo del Acuerdo Marco de Cooperación entre '\n            'el Reino de España y la Organización Mundial de la Salud de 12 de '\n            'septiembre de 2001.',\n  'url_epub': '/diario_boe/epub.php?id=BOE-A-2020-14457',\n  'url_pdf': '/boe/dias/2020/11/19/pdfs/BOE-A-2020-14457.pdf',\n  'url_pdf_catalan': None,\n  'url_pdf_euskera': None,\n  'url_pdf_gallego': None,\n  'url_pdf_valenciano': None,\n  'vigencia_agotada': 'N'},\n {'alertas': '\\n      ',\n  'materias': '\\n      ',\n  'notas': '\\n      ',\n  'referencias': '\\n      '},\n {'p': 'Madrid, 12 de noviembre de\\xa02020.–El Secretario General Técnico, '\n       'José María Muriel Palomino.'}]\n"
     ]
    }
   ],
   "source": [
    "d = [{x.tag: x.text for x in c} for c in raiz]\n",
    "pprint(d)"
   ]
  },
  {
   "cell_type": "code",
   "execution_count": 61,
   "metadata": {},
   "outputs": [
    {
     "output_type": "stream",
     "name": "stdout",
     "text": [
      "'texto'\n"
     ]
    }
   ],
   "source": [
    "pprint(raiz[2].tag)"
   ]
  },
  {
   "cell_type": "code",
   "execution_count": 62,
   "metadata": {},
   "outputs": [
    {
     "output_type": "stream",
     "name": "stdout",
     "text": [
      "ACUERDO INTERNACIONAL ADMINISTRATIVO, PARA EL PERÍODO 2020-2021, ENTRE EL MINISTERIO DE SANIDAD DEL REINO DE ESPAÑA Y LA ORGANIZACIÓN MUNDIAL DE LA SALUD, PARA LLEVAR A CABO ACTIVIDADES DE COOPERACIÓN EN MATERIA DE DONACIÓN Y TRASPLANTE DE ÓRGANOS, CÉLULAS Y TEJIDOS HUMANOS AL AMPARO DEL ACUERDO MARCO DE COOPERACIÓN ENTRE EL REINO DE ESPAÑA Y LA ORGANIZACIÓN MUNDIAL DE LA SALUD, DE 12 DE SEPTIEMBRE DE 2001\nSignatarios:\nSalvador Illa Roca, Ministro de Sanidad del Reino de España, en virtud del Real Decreto 8/2020, de 12 de enero, por el que se dispone su nombramiento, y en virtud de las facultades otorgadas en el artículo 48.2 de la Ley 40/2015, de 1 de octubre, de Régimen Jurídico del Sector Público.\nMariângela Simão, Subdirectora General de Acceso a Medicamentos, Vacunas y Productos Farmacéuticos de la Organización Mundial de la Salud (en adelante, la OMS), en representación de dicha Organización.\nLos signatarios suscriben el presente documento en el marco jurídico del Acuerdo Marco de Cooperación entre el Reino de España y la OMS, de 12 de septiembre de 2001 («Boletín Oficial del Estado» núm. 181, de 30 de julio de 2002), y actuarán, respectivamente, a través de la Organización Nacional de Trasplantes (en adelante, la ONT) de España y el Departamento de Políticas y Normas sobre Productos Sanitarios de la OMS.\nPREÁMBULO\nConsiderando lo siguiente:\n– La adopción de las resoluciones WHA57.18 y WHA63.22 de la Asamblea Mundial de la Salud sobre el trasplante de órganos y tejidos humanos;\n– La labor paralela desarrollada en los últimos años por la OMS y la ONT, como centro colaborador, para la creación, mantenimiento y análisis de datos sobre trasplantes, a través del Observatorio Global de Donación y Trasplante (GODT, por sus siglas en inglés), establecido en virtud de una declaración de intenciones conjunta firmada el 22 de diciembre de 2005 entre el Ministerio de Sanidad del Reino de España y la OMS.\nLos signatarios convienen en suscribir el presente Acuerdo Internacional Administrativo, que será ejecutado por los organismos técnicos competentes respectivos, a saber, la ONT del Ministerio de Sanidad del Reino de España y la Unidad de Especificaciones y Normas Técnicas del Departamento de Políticas y Normas sobre Productos Sanitarios de la OMS, con arreglo a lo dispuesto en los siguientes artículos:\nPrimero. Finalidad.\n1. Facilitar el soporte técnico continuado por parte de la ONT al mantenimiento y la mejora del GODT. En este sentido, las actividades se refieren a la recogida y gestión de datos mundiales sobre las actividades de donación y trasplante de órganos, así como sobre los regímenes legislativos y sistemas organizativos nacionales en materia de trasplante de órganos, tejidos y células. Por su parte, la OMS contribuirá al mantenimiento de una red actualizada de contactos oficiales en sus Estados miembros, quienes proporcionarán anualmente dicha información al GODT.\n2. Reforzar la capacidad de los Estados miembros para incrementar el acceso de la población a la terapia del trasplante, mejorar la calidad y la seguridad de órganos, tejidos y células para su uso clínico en humanos, y velar por el cumplimiento de los principios rectores de la OMS sobre trasplante de células, tejidos y órganos humanos.\nEn virtud del presente Acuerdo Internacional Administrativo, el Ministerio de Sanidad del Reino de España realizará una contribución financiera a la OMS, con cargo a sus presupuestos ordinarios y destinada al mantenimiento del programa de trasplante de órganos, tejidos y células. A este respecto, la OMS utilizará la contribución de España para financiar las actividades enunciadas en el Anexo I: Descripción de las actividades (que forma parte integrante del presente Acuerdo Internacional Administrativo).\nEsta contribución, por un importe de 320.000 euros, se efectuará en un único pago, realizándose el desembolso cuando cada una de las partes haya finalizado la tramitación interna del Acuerdo Internacional Administrativo y lo haya firmado.\n3. La contribución económica de España estará condicionada a la disponibilidad presupuestaria y se realizará conforme a la legislación española aplicable.\nSegundo. Responsabilidades de los signatarios.\n1. La Unidad de Especificaciones y Normas Técnicas del Departamento de Políticas y Normas sobre Productos Sanitarios de la OMS será responsable del seguimiento y ejecución de las actividades que se lleven a cabo con los fondos previstos en el presente Acuerdo Internacional Administrativo, conforme a la Descripción de Actividades acordada que figura en el Anexo I.\n2. El Ministerio de Sanidad del Reino de España deberá proporcionar a la OMS financiación y apoyo técnico, de conformidad con los términos del presente Acuerdo Internacional Administrativo.\nTercero. Financiación.\n1. Pago de la contribución:\nEl abono de la contribución económica, por un importe de 320.000 euros, se realizará con cargo a la partida presupuestaria 26.02.311M.492.01 del presupuesto de gastos del Ministerio de Sanidad.\nLa contribución se depositará en la cuenta bancaria de la OMS en Ginebra:\nOrganización Mundial de la Salud.\nA/C No 240-C0 169920.1.\nUBS AG.\nC.P. 2600.\nCH1211 Geneva 2, Suiza.\nIBAN: CH8500240240C01699201.\nSWIFT: UBSWCHZH80A.\n2. Utilización y contabilización de los fondos:\n(i) La contribución se destinará a los objetivos indicados en el apartado primero y será administrada con arreglo al Reglamento Financiero y las prácticas financieras y administrativas de la OMS.\n(ii) Conforme al presente Acuerdo, la OMS deducirá el 13% del gasto para sufragar los costes administrativos relacionados con la gestión de los fondos, de conformidad con la Resolución WHA 34.17 de la Asamblea Mundial de la Salud.\n(iii) Cualquier interés obtenido sobre el saldo efectivo de la contribución se utilizará con arreglo al Reglamento Financiero y las prácticas administrativas y financieras de la OMS.\n(iv) La OMS identificará y mantendrá separadamente en la cuenta de su Fondo Voluntario para la Promoción de la Salud los ingresos y gastos registrados con respecto a esta contribución.\n(v) Todo saldo de la contribución que quede pendiente de aplicación en el momento de la terminación del presente Acuerdo, una vez liquidadas por completo todas las obligaciones contraídas por la OMS antes de dicha terminación, deberá reasignarse al mismo programa.\nCuarto. Ejecución del acuerdo.\nLas actividades al amparo del presente Acuerdo Internacional Administrativo comenzarán el 1 de noviembre de 2020 y finalizarán el 31 de octubre de 2021.\nLa OMS no tendrá obligación de llevar a cabo las actividades previstas en el marco del Acuerdo a menos que reciba todos los fondos necesarios y suficientes para ello. Si la fecha de inicio del proyecto se aplaza por ese motivo, la fecha de finalización se ampliará en igual medida.\nSe establecerá un periodo complementario de hasta 12 meses tras la terminación o extinción del Acuerdo para liquidar todas las obligaciones derivadas de las actividades realizadas por la OMS hasta ese momento.\nQuinto. Vigencia.\nEl presente Acuerdo Internacional Administrativo permanecerá en vigor desde el 1 de noviembre de 2020 hasta el 31 de octubre de 2021.\nSexto. Informes.\n1. Técnico.\nLa OMS deberá presentar al Ministerio de Sanidad un informe técnico sobre el progreso de las actividades financiadas con cargo a la contribución, una vez haya finalizado el Acuerdo Internacional Administrativo o siempre que le sea requerido.\n2. Financiero.\nLos ingresos y gastos relativos a la contribución deberán registrarse en los informes financieros anuales que la OMS remita a la Asamblea Mundial de la Salud. Se facilitará al Ministerio de Sanidad una declaración anual certificada de ingresos y gastos.\nAsimismo, la OMS proporcionará una declaración final certificada de ingresos y gastos, una vez efectuada la liquidación de todas las obligaciones derivadas de las actividades emprendidas por la OMS antes de la terminación o extinción del presente Acuerdo.\nSéptimo. Auditoría.\nSe entiende que todas las contribuciones a la OMS están sujetas exclusivamente a sus propios procedimientos internos y externos de auditoría. La certificación de las cuentas realizadas por los auditores externos y el informe de auditoría se pondrán a disposición de la Asamblea Mundial de la Salud dos veces cada año. El Ministerio de Sanidad podrá solicitar una copia de estos documentos.\nOctavo. Reconocimiento.\nLa OMS dará la adecuada visibilidad a la contribución del Gobierno de España a su programa de trasplantes en cualquiera de las actividades o publicaciones realizadas en el marco de este proyecto colaborativo y en cualquiera de los informes en materia de trasplantes que habitualmente se proporcionan a sus 194 Estados miembros. A falta del consentimiento de uno de los signatarios, el otro no podrá referirse a la contribución ni a la relación entre las dos partes en ninguna actividad de naturaleza promocional. El Ministerio de Sanidad tendrá derecho en todo momento a hacer referencia a sus donaciones en sus documentos internos y en sus informes anuales.\nNoveno. Régimen jurídico.\nEl presente Acuerdo se celebra de conformidad con el artículo 1, apartado 3, del Acuerdo Marco de Cooperación entre el Reino de España y la OMS, firmado en Madrid el 12 de septiembre de 2001.\nDécimo. Terminación.\nEl presente Acuerdo permanecerá en vigor hasta la fecha prevista para su terminación. El incumplimiento por cualquiera de los signatarios de los apartados anteriores podrá ser motivo de terminación.\nCualquiera de los signatarios podrá desistir de la ejecución del Acuerdo, notificándolo al otro con una anticipación mínima de 6 meses a la fecha de terminación prevista. La terminación anticipada estará sujeta a la liquidación de toda obligación que se halle pendiente.\nHecho en Madrid y Ginebra, el 30 de octubre 2020, en dos versiones originales en español e inglés, siendo ambas igualmente auténticas.–En nombre del Ministerio de Sanidad, Salvador Illa Roca, Ministro de Sanidad.–En nombre de la Organización Mundial de la Salud, Mariângela Simão, Subdirectora General Acceso a Medicamentos y Productos Sanitarios.\nANEXO I\nDescripción de actividades\nPrograma de trasplantes (Células-Tejidos-Órganos humanos)\n1. de noviembre – 31 de octubre de 2021\nI) Introducción.\nEl programa de la OMS sobre trasplante de células, tejidos y órganos se estableció tras aprobarse la resolución WHA57.18\nNone\nNone\nA lo largo de los últimos años, los Principios Rectores de la OMS han influido en la legislación de numerosos Estados miembros, al igual que los códigos y prácticas profesionales. La principal función del programa de trasplantes es elaborar y establecer normas y principios globales, y también apoyar y asesorar a los países en la creación y fortalecimiento de sus sistemas nacionales a fin de garantizar la disponibilidad de los servicios y productos pertinentes y su acceso a ellos. Los ámbitos prioritarios son los marcos legislativos y reguladores, la capacidad de supervisión y las herramientas y mecanismos de gobernanza que velen por la calidad y la seguridad de los productos, incluida su trazabilidad, vigilancia y control. El objetivo general es alcanzar la autosuficiencia a nivel nacional en lo que respecta a donaciones y trasplantes, aprovechando los recursos de la población del propio país o mediante la cooperación regional.\nDebido a una serie de transformaciones y ajustes internos en la estructura y las funciones de la OMS, el programa de trasplantes se transfirió a la división de Acceso a Medicamentos y Productos Sanitarios y, a partir de enero de 2020, se unificó con los programas relativos a la seguridad de las transfusiones de sangre y a los productos hemoderivados, para crear un único grupo/equipo que abarca la totalidad de los productos médicos de origen humano (MPHO, por sus siglas en inglés).\nII) Antecedentes.\nEl trasplante de órganos es una forma de tratamiento habitual, hoy reconocida como la mejor y, a menudo, la única terapia que puede salvar la vida de pacientes con insuficiencia orgánica en fase terminal. Según los últimos datos del Observatorio Global de Donación y Trasplante (GODT)\nNone\nNone\nNone\nNone\nLas células y tejidos humanos pertenecen a una categoría especial de productos sanitarios esenciales, además de ser el material de partida potencial de productos biotecnológicos muchos más complejos. Para ser más precisos, el trasplante de tejidos puede cambiar cada año la vida de millones de personas: desde recobrar la vista o la movilidad a sobrevivir a un trauma. Los pacientes recuperan la autonomía y su calidad de vida mejora significativamente; aún es más, regresan a una vida productiva, con el importante coste-beneficio que ello supone para la comunidad. Los tejidos humanos conservan unas cualidades singulares que no pueden reemplazarse fácilmente, o en la misma medida, por las alternativas sintéticas disponibles. Las crecientes necesidades de una población mundial activa y cada vez más envejecida y el acceso limitado a los donantes han impulsado grandes inversiones en la bioingeniería para la regeneración de tejidos o el desarrollo de productos más eficientes (por ejemplo, hueso en polvo en transportador de pasta o léntulo); sin embargo, la mayoría de las alternativas se hallan en una fase de desarrollo muy temprana (como la impresión de piel en 3D) y pueden seguir siendo inaccesibles para muchos pacientes debido al elevado coste final. La demanda de trasplante de tejidos es probablemente mayor que la de trasplante de órganos, aunque todavía no ha podido determinarse con precisión. Es bastante difícil calcular el número exacto de donantes o de injertos de tejidos de origen humano a escala mundial, al no contarse con datos generales coherentes. La recogida de datos nacionales o regionales no está armonizada, y se complica aún más por la cuestión, aunque reconocida no debidamente reflejada y seguramente muy subestimada, del movimiento de estos tejidos entre fronteras nacionales e internacionales (en especial entre las distintas regiones).\nIII) Actividades Previstas en el período comprendido entre el 1 de noviembre de 2020 y el 31 octubre de 2021.\nEl plan de trabajo sobre trasplantes para el bienio 2020-2021 se ha diseñado teniendo en cuenta los objetivos estratégicos del 13\nEl siguiente plan de trabajo para el período comprendido entre el 1 de noviembre de 2020 y el 31 de octubre de 2021 se divide en cuatro áreas principales, con las actividades y los resultados que se enuncian a continuación:\n1. Terapias de sustitución de órganos.\nEl objetivo principal de esta área de trabajo es orientar a las autoridades públicas para el establecimiento y la supervisión de programas nacionales de donación y trasplante, entre otras cosas, con material centrado en los distintos componentes de un sistema que permita lograr la autosuficiencia nacional en el trasplante de órganos. También es preciso señalar y comprender el estado y el grado de desarrollo de los sistemas existentes en los Estados miembros, y realizar en ese sentido un estudio comparativo basado en indicadores específicos. En cuanto a la creación de capacidad, se ofrecerá material de apoyo a los países y se organizarán seminarios regionales.\n2. Lucha contra el tráfico de órganos.\nEn respuesta a la solicitud de la Asamblea General de las Naciones Unidas para que se fortalezca la lucha contra la trata de personas con fines de extracción de órganos (A/RES/73/189), la OMS establecerá una relación de colaboración con la UNODC y con la ACNUDH y solventará las limitaciones jurídicas y administrativas a fin de crear un mecanismo interinstitucional conjunto que se encargue del seguimiento (recogida de datos) y la prestación de asistencia a los Estados miembros (creación de capacidad y herramientas de gobernanza). Las actividades que se prevén en este sentido incluyen la armonización de datos mediante la colaboración con otras instituciones, como el Consejo de Europa y el Grupo Custodio de la Declaración de Estambul, así como el desarrollo de instrumentos y talleres que ayuden a los Estados miembros a reforzar sus capacidades.\n3. Trasplante de tejidos humanos.\nLas actividades previstas por la OMS se refieren a tres ámbitos principales: 1) promover la donación y el trasplante de tejidos; 2) sensibilizar e informar sobre el uso de los tejidos con fines médicos; y 3) prestar asistencia técnica. Se diseñará material específico para informar sobre las clases de tejidos humanos que pueden obtenerse o emplearse, las dolencias susceptibles de tratamiento (indicaciones de utilización), las ventajas en cuanto a la calidad obtenida y la relación coste/eficacia en comparación con otros posibles tratamientos. Además, en colaboración con otros socios clave, como la Unión Mundial de Asociaciones de Bancos de Tejidos (WUTBA, por sus siglas en inglés) y la Alianza Mundial de Asociaciones de Bancos de Ojos (GAEBA, por sus siglas en inglés), la OMS facilitará herramientas que permitan el intercambio de información, experiencias y mejores prácticas entre los Estados miembros, y que complementará con talleres para promover la conciencia y la capacidad.\n4. Marco global de acción–Consulta a escala mundial.\nSe ha acordado con el grupo directivo del equipo de trabajo de la OMS sobre donaciones y trasplantes diseñar una estrategia a largo plazo que se prolongue más allá del bienio en curso. Con motivo del décimo aniversario de la aprobación de los Principios Rectores (resolución WHA63.22), la OMS se propone celebrar una consulta a escala mundial. En apoyo de los debates con los principales interesados, y en cooperación con los grupos de expertos creados con el equipo de trabajo de la OMS sobre donaciones y trasplantes, se elaborará un marco de acción para promover el acceso universal a estos tratamientos.\n*****\nEl presente Acuerdo Internacional Administrativo entró en vigor el 1 de noviembre de 2020, según se establece en su artículo Quinto.\nMadrid, 12 de noviembre de 2020.–El Secretario General Técnico, José María Muriel Palomino.\n"
     ]
    }
   ],
   "source": [
    "parrafos=raiz.findall(\"texto/p\")\n",
    "for parrafo in parrafos:\n",
    "    print(parrafo.text)"
   ]
  },
  {
   "source": [
    "# DOGC"
   ],
   "cell_type": "markdown",
   "metadata": {}
  },
  {
   "cell_type": "code",
   "execution_count": 63,
   "metadata": {},
   "outputs": [],
   "source": [
    "URL_HTML_resumen =  \"https://dogc.gencat.cat/es/index.html?newLang=es_ES&language=es_ES\""
   ]
  },
  {
   "cell_type": "code",
   "execution_count": 64,
   "metadata": {},
   "outputs": [],
   "source": [
    "from requests_html import HTMLSession\n",
    "session = HTMLSession()\n",
    "r = session.get(URL_HTML_resumen)"
   ]
  },
  {
   "cell_type": "code",
   "execution_count": 65,
   "metadata": {},
   "outputs": [
    {
     "output_type": "execute_result",
     "data": {
      "text/plain": [
       "{'/ca/index.html?newLang=es_ES&language=es_ES',\n",
       " '/ca/pdogc_serveis/cerca-republica/',\n",
       " '/ca/pdogc_serveis/pdogc_dogc_mobi/',\n",
       " '/es/ajuda/mapaweb/',\n",
       " '/es/index.html?newLang=es_ES&language=es_ES',\n",
       " '/es/pdogc_base_de_dades_del_dogc/',\n",
       " '/es/pdogc_canals_interns/pdogc_cercador_de_normativa/?destParam=cercaAdv',\n",
       " '/es/pdogc_canals_interns/pdogc_que_es_el_codi_de_verificacio/',\n",
       " '/es/pdogc_eadop/',\n",
       " '/es/pdogc_enllacos/',\n",
       " '/es/pdogc_preguntes_frequents/',\n",
       " '/es/pdogc_serveis/',\n",
       " '/es/pdogc_serveis/pdogc_normes_urbanistiques_1985-2002/',\n",
       " '/es/pdogc_serveis/pdogc_serveis_de_informacio/',\n",
       " '/es/pdogc_serveis/pdogc_serveis_de_informacio/pdogc_alertes_dogc/',\n",
       " '/es/pdogc_serveis/pdogc_serveis_de_publicacio_al_dogc/Publicacio_Anuncis_situacio_CoV-2/',\n",
       " '/es/pdogc_serveis/pdogc_serveis_de_publicacio_al_dogc/pdogc_dogc_eacat/index.html',\n",
       " '/es/pdogc_sobre_el_dogc/',\n",
       " 'http://bop.diba.es/',\n",
       " 'http://llibreria.gencat.cat/index.php?language=es',\n",
       " 'http://web.gencat.cat/es/temes/',\n",
       " 'http://www.boe.es/diario_boe/calendarios.php?c=c',\n",
       " 'http://www.ddgi.es/bop/',\n",
       " 'http://www.gencat.cat',\n",
       " 'http://www.gencat.cat/generalitat/cas/index.htm',\n",
       " 'http://www.gencat.cat/serveis/cas/index.htm',\n",
       " 'http://www.gencat.net/catalunya/cas/index.htm',\n",
       " 'https://bop.diputaciolleida.cat',\n",
       " 'https://contractaciopublica.gencat.cat/ecofin_pscp/AppJava/es_ES/search.pscp?reqCode=start',\n",
       " 'https://dogc.gencat.cat/es/pdogc_sobre_el_dogc/Accessibilitat-dogc.gencat.cat/',\n",
       " 'https://ovt.gencat.cat/gsitfc/AppJava/generic/conqxsGeneric.do?webFormId=391&&topicLevel1ByURL.id=500&topicLevel2ByURL.id=657&set-locale=es_ES',\n",
       " 'https://portaldogc.gencat.cat/EADOP_transactional/AppJava/dogc/es/gestioUsuari.htm?mode=0',\n",
       " 'https://portaldogc.gencat.cat/EADOP_transactional/AppJava/dogc/es/gestioUsuari.htm?primeraVez=1&mode=5',\n",
       " 'https://portaldogc.gencat.cat/utilsEADOP/dogc2/dogc_es.pdf',\n",
       " 'https://portaldogc.gencat.cat/utilsEADOP/dogc2/sumari_es.pdf',\n",
       " 'https://portaljuridic.gencat.cat/ca/',\n",
       " 'https://portaljuridic.gencat.cat/ca/pjur_ocults/pjur_CoV-2/',\n",
       " 'https://portaljuridic.gencat.cat/ca/pjur_ocults/pjur_llei-5-2020/',\n",
       " 'https://seu.gencat.cat/es/index.html',\n",
       " 'https://treball.gencat.cat/es/consell_relacions_laborals/convenis_colectius/cercador_de_convenis/index.html',\n",
       " 'https://twitter.com/DOGCdeldia',\n",
       " 'https://web.gencat.cat/es/inici/index.html',\n",
       " 'https://web.gencat.cat/es/menu-ajuda/ajuda/avis_legal/',\n",
       " 'https://web.gencat.cat/es/menu-ajuda/ajuda/sobre_gencat/',\n",
       " 'https://www.diputaciodetarragona.cat/ebop/'}"
      ]
     },
     "metadata": {},
     "execution_count": 65
    }
   ],
   "source": [
    "r.html.links"
   ]
  },
  {
   "cell_type": "code",
   "execution_count": 66,
   "metadata": {},
   "outputs": [
    {
     "output_type": "execute_result",
     "data": {
      "text/plain": [
       "[' DOGC núm.\\r\\n\\t\\t\\t\\t\\t 8302 (23/12/2020)']"
      ]
     },
     "metadata": {},
     "execution_count": 66
    }
   ],
   "source": [
    "r.html.xpath('//*[@id=\"titol\"]/span/text()')"
   ]
  },
  {
   "cell_type": "code",
   "execution_count": 67,
   "metadata": {},
   "outputs": [
    {
     "output_type": "execute_result",
     "data": {
      "text/plain": [
       "['\\r\\n\\t\\t\\t\\t\\tÚltimo DOGC publicado\\r\\n\\t\\t\\t\\t']"
      ]
     },
     "metadata": {},
     "execution_count": 67
    }
   ],
   "source": [
    "r.html.xpath('//*[@id=\"titol\"]/h3/text()')\n"
   ]
  },
  {
   "cell_type": "code",
   "execution_count": 68,
   "metadata": {},
   "outputs": [
    {
     "output_type": "execute_result",
     "data": {
      "text/plain": [
       "'html'"
      ]
     },
     "metadata": {},
     "execution_count": 68
    }
   ],
   "source": [
    "r.html.lxml.tag"
   ]
  },
  {
   "cell_type": "code",
   "execution_count": 69,
   "metadata": {},
   "outputs": [
    {
     "output_type": "execute_result",
     "data": {
      "text/plain": [
       "[<Element span at 0x7fbefc8dabd0>]"
      ]
     },
     "metadata": {},
     "execution_count": 69
    }
   ],
   "source": [
    "r.html.lxml.xpath('//*[@id=\"titol\"]/span')"
   ]
  },
  {
   "cell_type": "code",
   "execution_count": 70,
   "metadata": {},
   "outputs": [
    {
     "output_type": "stream",
     "name": "stdout",
     "text": [
      "[' DOGC núm.\\r\\n\\t\\t\\t\\t\\t 8302 (23/12/2020)']\n"
     ]
    }
   ],
   "source": [
    "#import requests\n",
    "#from lxml import html\n",
    "\n",
    "response = requests.get(URL_HTML_resumen)\n",
    "\n",
    "tree = html.fromstring(response.text)\n",
    "\n",
    "# fetches all useful elements \n",
    "useful = tree.xpath('//*[@id=\"titol\"]/span/text()')\n",
    "\n",
    "print(useful)\n"
   ]
  },
  {
   "cell_type": "code",
   "execution_count": 71,
   "metadata": {},
   "outputs": [
    {
     "output_type": "execute_result",
     "data": {
      "text/plain": [
       "['/es/pdogc_canals_interns/pdogc_sumari_del_dogc/']"
      ]
     },
     "metadata": {},
     "execution_count": 71
    }
   ],
   "source": [
    "r.html.lxml.xpath('//*[@id=\"sumari\"]/ul/li[1]/form/@action')"
   ]
  },
  {
   "cell_type": "code",
   "execution_count": 72,
   "metadata": {},
   "outputs": [
    {
     "output_type": "execute_result",
     "data": {
      "text/plain": [
       "['anexos']"
      ]
     },
     "metadata": {},
     "execution_count": 72
    }
   ],
   "source": [
    "r.html.lxml.xpath('//*[@id=\"sumari\"]/ul/li[1]/form/input[1]/@name')"
   ]
  },
  {
   "cell_type": "code",
   "execution_count": 73,
   "metadata": {},
   "outputs": [
    {
     "output_type": "execute_result",
     "data": {
      "text/plain": [
       "['1']"
      ]
     },
     "metadata": {},
     "execution_count": 73
    }
   ],
   "source": [
    "r.html.lxml.xpath('//*[@id=\"sumari\"]/ul/li[1]/form/input[1]/@value')"
   ]
  },
  {
   "cell_type": "code",
   "execution_count": 74,
   "metadata": {},
   "outputs": [
    {
     "output_type": "execute_result",
     "data": {
      "text/plain": [
       "[<Element form at 0x7fbef9ae74f0>]"
      ]
     },
     "metadata": {},
     "execution_count": 74
    }
   ],
   "source": [
    "r.html.lxml.xpath('//*[@id=\"sumari\"]/ul/li[1]/form')"
   ]
  },
  {
   "cell_type": "code",
   "execution_count": 75,
   "metadata": {},
   "outputs": [
    {
     "output_type": "stream",
     "name": "stdout",
     "text": [
      "['8302']\n"
     ]
    }
   ],
   "source": [
    "useful = tree.xpath('//*[@id=\"sumari\"]/ul/li[1]/form/input[3]/@value')\n",
    "\n",
    "print(useful)"
   ]
  },
  {
   "cell_type": "code",
   "execution_count": 76,
   "metadata": {},
   "outputs": [
    {
     "output_type": "execute_result",
     "data": {
      "text/plain": [
       "['/es/pdogc_canals_interns/pdogc_sumari_del_dogc/']"
      ]
     },
     "metadata": {},
     "execution_count": 76
    }
   ],
   "source": [
    "tree.xpath('//*[@id=\"sumari\"]/ul/li[1]/form/@action')"
   ]
  },
  {
   "cell_type": "code",
   "execution_count": 77,
   "metadata": {
    "tags": []
   },
   "outputs": [
    {
     "output_type": "stream",
     "name": "stdout",
     "text": [
      "['anexos', 'language', 'numDOGC', 'seccion'] ['1', 'es_ES', '8302', '0']\n"
     ]
    },
    {
     "output_type": "execute_result",
     "data": {
      "text/plain": [
       "'anexos=1&language=es_ES&numDOGC=8302&seccion=0'"
      ]
     },
     "metadata": {},
     "execution_count": 77
    }
   ],
   "source": [
    "cadena = ''\n",
    "for input in tree.xpath('//*[@id=\"sumari\"]/ul/li[1]/form'):\n",
    "    argumentos = input.xpath('./input/@name')\n",
    "    valores = input.xpath('./input/@value')\n",
    "    print(argumentos, valores)\n",
    "\n",
    "for indice in range(len(argumentos)):\n",
    "    cadena += argumentos[indice] + '=' + valores[indice] + '&'\n",
    "\n",
    "argumentos[1]\n",
    "cadena[:-1]"
   ]
  },
  {
   "source": [
    "## Recoge Nombre Secciones Sumario"
   ],
   "cell_type": "markdown",
   "metadata": {}
  },
  {
   "cell_type": "code",
   "execution_count": 78,
   "metadata": {},
   "outputs": [
    {
     "output_type": "execute_result",
     "data": {
      "text/plain": [
       "'DISPOSICIONES'"
      ]
     },
     "metadata": {},
     "execution_count": 78
    }
   ],
   "source": [
    "import re\n",
    "seccion = tree.xpath('//*[@id=\"sumari\"]/ul/li[1]/form/a/text()')\n",
    "seccion = re.sub('(\\\\r|\\\\n|\\\\t|\\ )+', '', seccion[0])\n",
    "seccion"
   ]
  },
  {
   "source": [
    "## Recoge Nombre Secciones Sumario"
   ],
   "cell_type": "markdown",
   "metadata": {}
  },
  {
   "cell_type": "code",
   "execution_count": 79,
   "metadata": {},
   "outputs": [
    {
     "output_type": "stream",
     "name": "stdout",
     "text": [
      "   DISPOSICIONES \n   CARGOS Y PERSONAL\n   ANUNCIOS DE LA GENERALIDAD DE CATALUÑA\n   ANUNCIOS DE LA ADMINISTRACIÓN LOCAL\n   ANUNCIOS DE LA ADMINISTRACIÓN DE JUSTICIA \n   ANUNCIOS VARIOS\n"
     ]
    }
   ],
   "source": [
    "secciones = tree.xpath('//*[@id=\"sumari\"]/ul/li')\n",
    "#print(secciones)\n",
    "df_secciones_sumarios = pd.DataFrame()\n",
    "for seccion in secciones:\n",
    "    seccion = seccion.xpath('./form/a/text()')\n",
    "    seccion = re.sub('(\\\\r|\\\\n|\\\\t)+', '', seccion[0])\n",
    "    print(seccion[1:-1])\n",
    "    df_secciones_sumarios = df_secciones_sumarios.append({'Seccion': seccion[1:-1]}, ignore_index=True)\n"
   ]
  },
  {
   "cell_type": "code",
   "execution_count": 80,
   "metadata": {},
   "outputs": [
    {
     "output_type": "execute_result",
     "data": {
      "text/plain": [
       "                                         Seccion\n",
       "0                                 DISPOSICIONES \n",
       "1                              CARGOS Y PERSONAL\n",
       "2         ANUNCIOS DE LA GENERALIDAD DE CATALUÑA\n",
       "3            ANUNCIOS DE LA ADMINISTRACIÓN LOCAL\n",
       "4     ANUNCIOS DE LA ADMINISTRACIÓN DE JUSTICIA \n",
       "5                                ANUNCIOS VARIOS"
      ],
      "text/html": "<div>\n<style scoped>\n    .dataframe tbody tr th:only-of-type {\n        vertical-align: middle;\n    }\n\n    .dataframe tbody tr th {\n        vertical-align: top;\n    }\n\n    .dataframe thead th {\n        text-align: right;\n    }\n</style>\n<table border=\"1\" class=\"dataframe\">\n  <thead>\n    <tr style=\"text-align: right;\">\n      <th></th>\n      <th>Seccion</th>\n    </tr>\n  </thead>\n  <tbody>\n    <tr>\n      <th>0</th>\n      <td>DISPOSICIONES</td>\n    </tr>\n    <tr>\n      <th>1</th>\n      <td>CARGOS Y PERSONAL</td>\n    </tr>\n    <tr>\n      <th>2</th>\n      <td>ANUNCIOS DE LA GENERALIDAD DE CATALUÑA</td>\n    </tr>\n    <tr>\n      <th>3</th>\n      <td>ANUNCIOS DE LA ADMINISTRACIÓN LOCAL</td>\n    </tr>\n    <tr>\n      <th>4</th>\n      <td>ANUNCIOS DE LA ADMINISTRACIÓN DE JUSTICIA</td>\n    </tr>\n    <tr>\n      <th>5</th>\n      <td>ANUNCIOS VARIOS</td>\n    </tr>\n  </tbody>\n</table>\n</div>"
     },
     "metadata": {},
     "execution_count": 80
    }
   ],
   "source": [
    "df_secciones_sumarios"
   ]
  },
  {
   "source": [
    "## Recoge Valores para formar URLs Secciones Sumario"
   ],
   "cell_type": "markdown",
   "metadata": {}
  },
  {
   "cell_type": "code",
   "execution_count": 81,
   "metadata": {},
   "outputs": [
    {
     "output_type": "stream",
     "name": "stdout",
     "text": [
      "https://dogc.gencat.cat/es/pdogc_canals_interns/pdogc_sumari_del_dogc/?anexos=1&language=es_ES&numDOGC=8302&seccion=0\nhttps://dogc.gencat.cat/es/pdogc_canals_interns/pdogc_sumari_del_dogc/?anexos=1&language=es_ES&numDOGC=8302&seccion=1\nhttps://dogc.gencat.cat/es/pdogc_canals_interns/pdogc_sumari_del_dogc/?anexos=1&language=es_ES&numDOGC=8302&seccion=2\nhttps://dogc.gencat.cat/es/pdogc_canals_interns/pdogc_sumari_del_dogc/?anexos=1&language=es_ES&numDOGC=8302&seccion=3\nhttps://dogc.gencat.cat/es/pdogc_canals_interns/pdogc_sumari_del_dogc/?anexos=1&language=es_ES&numDOGC=8302&seccion=4\nhttps://dogc.gencat.cat/es/pdogc_canals_interns/pdogc_sumari_del_dogc/?anexos=1&language=es_ES&numDOGC=8302&seccion=5\n"
     ]
    }
   ],
   "source": [
    "URL_base_sumario = tree.xpath('//*[@id=\"sumari\"]/ul/li[1]/form/@action')\n",
    "\n",
    "df_URL_sumarios = pd.DataFrame()\n",
    "for seccion in secciones:    \n",
    "    cadena = ''\n",
    "    for input in seccion.xpath('./form'):\n",
    "        argumentos = input.xpath('./input/@name')\n",
    "        valores = input.xpath('./input/@value')\n",
    "        #print(argumentos, valores)\n",
    "\n",
    "    for indice in range(len(argumentos)):\n",
    "        cadena += argumentos[indice] + '=' + valores[indice] + '&'\n",
    "\n",
    "    URL_sumario = 'https://dogc.gencat.cat' + str(URL_base_sumario[0]) + '?' + str(cadena[:-1])\n",
    "    print(URL_sumario)\n",
    "    df_URL_sumarios = df_URL_sumarios.append({'URL_Seccion': URL_sumario}, ignore_index=True)"
   ]
  },
  {
   "cell_type": "code",
   "execution_count": 82,
   "metadata": {},
   "outputs": [
    {
     "output_type": "execute_result",
     "data": {
      "text/plain": [
       "                                         URL_Seccion\n",
       "0  https://dogc.gencat.cat/es/pdogc_canals_intern...\n",
       "1  https://dogc.gencat.cat/es/pdogc_canals_intern...\n",
       "2  https://dogc.gencat.cat/es/pdogc_canals_intern...\n",
       "3  https://dogc.gencat.cat/es/pdogc_canals_intern...\n",
       "4  https://dogc.gencat.cat/es/pdogc_canals_intern...\n",
       "5  https://dogc.gencat.cat/es/pdogc_canals_intern..."
      ],
      "text/html": "<div>\n<style scoped>\n    .dataframe tbody tr th:only-of-type {\n        vertical-align: middle;\n    }\n\n    .dataframe tbody tr th {\n        vertical-align: top;\n    }\n\n    .dataframe thead th {\n        text-align: right;\n    }\n</style>\n<table border=\"1\" class=\"dataframe\">\n  <thead>\n    <tr style=\"text-align: right;\">\n      <th></th>\n      <th>URL_Seccion</th>\n    </tr>\n  </thead>\n  <tbody>\n    <tr>\n      <th>0</th>\n      <td>https://dogc.gencat.cat/es/pdogc_canals_intern...</td>\n    </tr>\n    <tr>\n      <th>1</th>\n      <td>https://dogc.gencat.cat/es/pdogc_canals_intern...</td>\n    </tr>\n    <tr>\n      <th>2</th>\n      <td>https://dogc.gencat.cat/es/pdogc_canals_intern...</td>\n    </tr>\n    <tr>\n      <th>3</th>\n      <td>https://dogc.gencat.cat/es/pdogc_canals_intern...</td>\n    </tr>\n    <tr>\n      <th>4</th>\n      <td>https://dogc.gencat.cat/es/pdogc_canals_intern...</td>\n    </tr>\n    <tr>\n      <th>5</th>\n      <td>https://dogc.gencat.cat/es/pdogc_canals_intern...</td>\n    </tr>\n  </tbody>\n</table>\n</div>"
     },
     "metadata": {},
     "execution_count": 82
    }
   ],
   "source": [
    "df_URL_sumarios"
   ]
  },
  {
   "cell_type": "code",
   "execution_count": 83,
   "metadata": {},
   "outputs": [],
   "source": [
    " df_sumarios = pd.concat([df_secciones_sumarios, df_URL_sumarios], axis=1)"
   ]
  },
  {
   "cell_type": "code",
   "execution_count": 84,
   "metadata": {},
   "outputs": [
    {
     "output_type": "execute_result",
     "data": {
      "text/plain": [
       "                                         Seccion  \\\n",
       "0                                 DISPOSICIONES    \n",
       "1                              CARGOS Y PERSONAL   \n",
       "2         ANUNCIOS DE LA GENERALIDAD DE CATALUÑA   \n",
       "3            ANUNCIOS DE LA ADMINISTRACIÓN LOCAL   \n",
       "4     ANUNCIOS DE LA ADMINISTRACIÓN DE JUSTICIA    \n",
       "5                                ANUNCIOS VARIOS   \n",
       "\n",
       "                                         URL_Seccion  \n",
       "0  https://dogc.gencat.cat/es/pdogc_canals_intern...  \n",
       "1  https://dogc.gencat.cat/es/pdogc_canals_intern...  \n",
       "2  https://dogc.gencat.cat/es/pdogc_canals_intern...  \n",
       "3  https://dogc.gencat.cat/es/pdogc_canals_intern...  \n",
       "4  https://dogc.gencat.cat/es/pdogc_canals_intern...  \n",
       "5  https://dogc.gencat.cat/es/pdogc_canals_intern...  "
      ],
      "text/html": "<div>\n<style scoped>\n    .dataframe tbody tr th:only-of-type {\n        vertical-align: middle;\n    }\n\n    .dataframe tbody tr th {\n        vertical-align: top;\n    }\n\n    .dataframe thead th {\n        text-align: right;\n    }\n</style>\n<table border=\"1\" class=\"dataframe\">\n  <thead>\n    <tr style=\"text-align: right;\">\n      <th></th>\n      <th>Seccion</th>\n      <th>URL_Seccion</th>\n    </tr>\n  </thead>\n  <tbody>\n    <tr>\n      <th>0</th>\n      <td>DISPOSICIONES</td>\n      <td>https://dogc.gencat.cat/es/pdogc_canals_intern...</td>\n    </tr>\n    <tr>\n      <th>1</th>\n      <td>CARGOS Y PERSONAL</td>\n      <td>https://dogc.gencat.cat/es/pdogc_canals_intern...</td>\n    </tr>\n    <tr>\n      <th>2</th>\n      <td>ANUNCIOS DE LA GENERALIDAD DE CATALUÑA</td>\n      <td>https://dogc.gencat.cat/es/pdogc_canals_intern...</td>\n    </tr>\n    <tr>\n      <th>3</th>\n      <td>ANUNCIOS DE LA ADMINISTRACIÓN LOCAL</td>\n      <td>https://dogc.gencat.cat/es/pdogc_canals_intern...</td>\n    </tr>\n    <tr>\n      <th>4</th>\n      <td>ANUNCIOS DE LA ADMINISTRACIÓN DE JUSTICIA</td>\n      <td>https://dogc.gencat.cat/es/pdogc_canals_intern...</td>\n    </tr>\n    <tr>\n      <th>5</th>\n      <td>ANUNCIOS VARIOS</td>\n      <td>https://dogc.gencat.cat/es/pdogc_canals_intern...</td>\n    </tr>\n  </tbody>\n</table>\n</div>"
     },
     "metadata": {},
     "execution_count": 84
    }
   ],
   "source": [
    "df_sumarios"
   ]
  },
  {
   "cell_type": "code",
   "execution_count": 85,
   "metadata": {},
   "outputs": [
    {
     "output_type": "execute_result",
     "data": {
      "text/plain": [
       "'https://dogc.gencat.cat/es/pdogc_canals_interns/pdogc_sumari_del_dogc/?anexos=1&language=es_ES&numDOGC=8302&seccion=4'"
      ]
     },
     "metadata": {},
     "execution_count": 85
    }
   ],
   "source": [
    "df_sumarios['URL_Seccion'][4]"
   ]
  },
  {
   "source": [
    "## Recoge Items en Seccion Disposiciones"
   ],
   "cell_type": "markdown",
   "metadata": {}
  },
  {
   "cell_type": "code",
   "execution_count": 86,
   "metadata": {
    "tags": []
   },
   "outputs": [
    {
     "output_type": "execute_result",
     "data": {
      "text/plain": [
       "          Seccion                                          Item_Name  \\\n",
       "0   DISPOSICIONES  RESOLUCIÓN de 14 de diciembre de 2020, de dele...   \n",
       "1   DISPOSICIONES  DICTAMEN 6/2019, de 30 de diciembre, sobre el ...   \n",
       "2   DISPOSICIONES  RESOLUCIÓN de 16 de diciembre de 2020, por la ...   \n",
       "3   DISPOSICIONES                                                ...   \n",
       "4   DISPOSICIONES  DECRETO LEY 52/2020, de 22 de diciembre, de re...   \n",
       "5   DISPOSICIONES                                                ...   \n",
       "6   DISPOSICIONES                                                ...   \n",
       "7   DISPOSICIONES  DECRETO 148/2020, de 22 de diciembre, de norma...   \n",
       "8   DISPOSICIONES  DECRETO 149/2020, de 22 de diciembre, por el q...   \n",
       "9   DISPOSICIONES  RESOLUCIÓN EDU/3339/2020, de 17 de diciembre, ...   \n",
       "10  DISPOSICIONES  RESOLUCIÓN SLT/3370/2020, de 18 de diciembre, ...   \n",
       "11  DISPOSICIONES  RESOLUCIÓN SLT/3371/2020, de 18 de diciembre, ...   \n",
       "12  DISPOSICIONES  RESOLUCIÓN SLT/3372/2020, de 18 de diciembre, ...   \n",
       "13  DISPOSICIONES  RESOLUCIÓN SLT/3373/2020, de 18 de diciembre, ...   \n",
       "14  DISPOSICIONES  RESOLUCIÓN SLT/3397/2020, de 22 de diciembre, ...   \n",
       "15  DISPOSICIONES  EDICTO de 16 de diciembre de 2020, sobre acuer...   \n",
       "16  DISPOSICIONES  EDICTO de 16 de diciembre de 2020, sobre un ac...   \n",
       "17  DISPOSICIONES  EDICTO de 16 de diciembre de 2020, sobre un ac...   \n",
       "18  DISPOSICIONES  EDICTO de 17 de diciembre de 2020, sobre un ac...   \n",
       "19  DISPOSICIONES  EDICTO de 17 de diciembre de 2020, sobre acuer...   \n",
       "20  DISPOSICIONES  ORDEN JUS/221/2020, de 18 de diciembre, por la...   \n",
       "21  DISPOSICIONES  RESOLUCIÓN JUS/3362/2020, de 18 de diciembre, ...   \n",
       "22  DISPOSICIONES  ORDEN ARP/222/2020, de 18 de diciembre, por la...   \n",
       "23  DISPOSICIONES  ) del litoral de la Cataluña Central capturado...   \n",
       "\n",
       "                                             PDF_link  \n",
       "0   https://portaldogc.gencat.cat/utilsEADOP/AppJa...  \n",
       "1   https://portaldogc.gencat.cat/utilsEADOP/AppJa...  \n",
       "2   https://portaldogc.gencat.cat/utilsEADOP/AppJa...  \n",
       "3   https://portaldogc.gencat.cat/utilsEADOP/AppJa...  \n",
       "4   https://portaldogc.gencat.cat/utilsEADOP/AppJa...  \n",
       "5   https://portaldogc.gencat.cat/utilsEADOP/AppJa...  \n",
       "6   https://portaldogc.gencat.cat/utilsEADOP/AppJa...  \n",
       "7   https://portaldogc.gencat.cat/utilsEADOP/AppJa...  \n",
       "8   https://portaldogc.gencat.cat/utilsEADOP/AppJa...  \n",
       "9   https://portaldogc.gencat.cat/utilsEADOP/AppJa...  \n",
       "10  https://portaldogc.gencat.cat/utilsEADOP/AppJa...  \n",
       "11  https://portaldogc.gencat.cat/utilsEADOP/AppJa...  \n",
       "12  https://portaldogc.gencat.cat/utilsEADOP/AppJa...  \n",
       "13  https://portaldogc.gencat.cat/utilsEADOP/AppJa...  \n",
       "14  https://portaldogc.gencat.cat/utilsEADOP/AppJa...  \n",
       "15  https://portaldogc.gencat.cat/utilsEADOP/AppJa...  \n",
       "16  https://portaldogc.gencat.cat/utilsEADOP/AppJa...  \n",
       "17  https://portaldogc.gencat.cat/utilsEADOP/AppJa...  \n",
       "18  https://portaldogc.gencat.cat/utilsEADOP/AppJa...  \n",
       "19  https://portaldogc.gencat.cat/utilsEADOP/AppJa...  \n",
       "20  https://portaldogc.gencat.cat/utilsEADOP/AppJa...  \n",
       "21  https://portaldogc.gencat.cat/utilsEADOP/AppJa...  \n",
       "22  https://portaldogc.gencat.cat/utilsEADOP/AppJa...  \n",
       "23  https://portaldogc.gencat.cat/utilsEADOP/AppJa...  "
      ],
      "text/html": "<div>\n<style scoped>\n    .dataframe tbody tr th:only-of-type {\n        vertical-align: middle;\n    }\n\n    .dataframe tbody tr th {\n        vertical-align: top;\n    }\n\n    .dataframe thead th {\n        text-align: right;\n    }\n</style>\n<table border=\"1\" class=\"dataframe\">\n  <thead>\n    <tr style=\"text-align: right;\">\n      <th></th>\n      <th>Seccion</th>\n      <th>Item_Name</th>\n      <th>PDF_link</th>\n    </tr>\n  </thead>\n  <tbody>\n    <tr>\n      <th>0</th>\n      <td>DISPOSICIONES</td>\n      <td>RESOLUCIÓN de 14 de diciembre de 2020, de dele...</td>\n      <td>https://portaldogc.gencat.cat/utilsEADOP/AppJa...</td>\n    </tr>\n    <tr>\n      <th>1</th>\n      <td>DISPOSICIONES</td>\n      <td>DICTAMEN 6/2019, de 30 de diciembre, sobre el ...</td>\n      <td>https://portaldogc.gencat.cat/utilsEADOP/AppJa...</td>\n    </tr>\n    <tr>\n      <th>2</th>\n      <td>DISPOSICIONES</td>\n      <td>RESOLUCIÓN de 16 de diciembre de 2020, por la ...</td>\n      <td>https://portaldogc.gencat.cat/utilsEADOP/AppJa...</td>\n    </tr>\n    <tr>\n      <th>3</th>\n      <td>DISPOSICIONES</td>\n      <td>...</td>\n      <td>https://portaldogc.gencat.cat/utilsEADOP/AppJa...</td>\n    </tr>\n    <tr>\n      <th>4</th>\n      <td>DISPOSICIONES</td>\n      <td>DECRETO LEY 52/2020, de 22 de diciembre, de re...</td>\n      <td>https://portaldogc.gencat.cat/utilsEADOP/AppJa...</td>\n    </tr>\n    <tr>\n      <th>5</th>\n      <td>DISPOSICIONES</td>\n      <td>...</td>\n      <td>https://portaldogc.gencat.cat/utilsEADOP/AppJa...</td>\n    </tr>\n    <tr>\n      <th>6</th>\n      <td>DISPOSICIONES</td>\n      <td>...</td>\n      <td>https://portaldogc.gencat.cat/utilsEADOP/AppJa...</td>\n    </tr>\n    <tr>\n      <th>7</th>\n      <td>DISPOSICIONES</td>\n      <td>DECRETO 148/2020, de 22 de diciembre, de norma...</td>\n      <td>https://portaldogc.gencat.cat/utilsEADOP/AppJa...</td>\n    </tr>\n    <tr>\n      <th>8</th>\n      <td>DISPOSICIONES</td>\n      <td>DECRETO 149/2020, de 22 de diciembre, por el q...</td>\n      <td>https://portaldogc.gencat.cat/utilsEADOP/AppJa...</td>\n    </tr>\n    <tr>\n      <th>9</th>\n      <td>DISPOSICIONES</td>\n      <td>RESOLUCIÓN EDU/3339/2020, de 17 de diciembre, ...</td>\n      <td>https://portaldogc.gencat.cat/utilsEADOP/AppJa...</td>\n    </tr>\n    <tr>\n      <th>10</th>\n      <td>DISPOSICIONES</td>\n      <td>RESOLUCIÓN SLT/3370/2020, de 18 de diciembre, ...</td>\n      <td>https://portaldogc.gencat.cat/utilsEADOP/AppJa...</td>\n    </tr>\n    <tr>\n      <th>11</th>\n      <td>DISPOSICIONES</td>\n      <td>RESOLUCIÓN SLT/3371/2020, de 18 de diciembre, ...</td>\n      <td>https://portaldogc.gencat.cat/utilsEADOP/AppJa...</td>\n    </tr>\n    <tr>\n      <th>12</th>\n      <td>DISPOSICIONES</td>\n      <td>RESOLUCIÓN SLT/3372/2020, de 18 de diciembre, ...</td>\n      <td>https://portaldogc.gencat.cat/utilsEADOP/AppJa...</td>\n    </tr>\n    <tr>\n      <th>13</th>\n      <td>DISPOSICIONES</td>\n      <td>RESOLUCIÓN SLT/3373/2020, de 18 de diciembre, ...</td>\n      <td>https://portaldogc.gencat.cat/utilsEADOP/AppJa...</td>\n    </tr>\n    <tr>\n      <th>14</th>\n      <td>DISPOSICIONES</td>\n      <td>RESOLUCIÓN SLT/3397/2020, de 22 de diciembre, ...</td>\n      <td>https://portaldogc.gencat.cat/utilsEADOP/AppJa...</td>\n    </tr>\n    <tr>\n      <th>15</th>\n      <td>DISPOSICIONES</td>\n      <td>EDICTO de 16 de diciembre de 2020, sobre acuer...</td>\n      <td>https://portaldogc.gencat.cat/utilsEADOP/AppJa...</td>\n    </tr>\n    <tr>\n      <th>16</th>\n      <td>DISPOSICIONES</td>\n      <td>EDICTO de 16 de diciembre de 2020, sobre un ac...</td>\n      <td>https://portaldogc.gencat.cat/utilsEADOP/AppJa...</td>\n    </tr>\n    <tr>\n      <th>17</th>\n      <td>DISPOSICIONES</td>\n      <td>EDICTO de 16 de diciembre de 2020, sobre un ac...</td>\n      <td>https://portaldogc.gencat.cat/utilsEADOP/AppJa...</td>\n    </tr>\n    <tr>\n      <th>18</th>\n      <td>DISPOSICIONES</td>\n      <td>EDICTO de 17 de diciembre de 2020, sobre un ac...</td>\n      <td>https://portaldogc.gencat.cat/utilsEADOP/AppJa...</td>\n    </tr>\n    <tr>\n      <th>19</th>\n      <td>DISPOSICIONES</td>\n      <td>EDICTO de 17 de diciembre de 2020, sobre acuer...</td>\n      <td>https://portaldogc.gencat.cat/utilsEADOP/AppJa...</td>\n    </tr>\n    <tr>\n      <th>20</th>\n      <td>DISPOSICIONES</td>\n      <td>ORDEN JUS/221/2020, de 18 de diciembre, por la...</td>\n      <td>https://portaldogc.gencat.cat/utilsEADOP/AppJa...</td>\n    </tr>\n    <tr>\n      <th>21</th>\n      <td>DISPOSICIONES</td>\n      <td>RESOLUCIÓN JUS/3362/2020, de 18 de diciembre, ...</td>\n      <td>https://portaldogc.gencat.cat/utilsEADOP/AppJa...</td>\n    </tr>\n    <tr>\n      <th>22</th>\n      <td>DISPOSICIONES</td>\n      <td>ORDEN ARP/222/2020, de 18 de diciembre, por la...</td>\n      <td>https://portaldogc.gencat.cat/utilsEADOP/AppJa...</td>\n    </tr>\n    <tr>\n      <th>23</th>\n      <td>DISPOSICIONES</td>\n      <td>) del litoral de la Cataluña Central capturado...</td>\n      <td>https://portaldogc.gencat.cat/utilsEADOP/AppJa...</td>\n    </tr>\n  </tbody>\n</table>\n</div>"
     },
     "metadata": {},
     "execution_count": 86
    }
   ],
   "source": [
    "### Recoge Items en Seccion Disposiciones\n",
    "\n",
    "response = requests.get(df_sumarios['URL_Seccion'][0])\n",
    "sumario_HTML = html.fromstring(response.text)\n",
    "\n",
    "#seccion = sumario_HTML.xpath('//*[@id=\"disposicions\"]/div[1]/text()')\n",
    "seccion = sumario_HTML.xpath('//*[@id=\"disposicions\"]/div/text()')\n",
    "bloques = sumario_HTML.xpath('//*[@id=\"disposicions\"]')\n",
    "df_disposiciones = pd.DataFrame(columns=['Seccion','Item_Name','PDF_link'])\n",
    "for bloque in bloques: \n",
    "    item_name = bloque.xpath('./div/p/text()')\n",
    "    #item_name = re.sub('(\\\\r|\\\\n|\\\\t)+', '', item_name[0])\n",
    "    pdf_link = bloque.xpath('./div/div/a[4]/@href')\n",
    "\n",
    "for row in range(len(pdf_link)):\n",
    "    df_disposiciones = df_disposiciones.append({'Item_Name': re.sub('(\\\\r|\\\\n|\\\\t)+', '',                                                                               item_name[row]),\n",
    "                                            'PDF_link' : pdf_link[row],\n",
    "                                            'Seccion' : seccion[0][:-1]},\n",
    "                                            ignore_index=True)\n",
    "\n",
    "df_disposiciones"
   ]
  },
  {
   "cell_type": "code",
   "execution_count": 87,
   "metadata": {},
   "outputs": [
    {
     "output_type": "execute_result",
     "data": {
      "text/plain": [
       "['https://portaldogc.gencat.cat/utilsEADOP/AppJava/PdfProviderServlet?documentId=889570&type=01&language=es_ES',\n",
       " 'https://portaldogc.gencat.cat/utilsEADOP/AppJava/PdfProviderServlet?documentId=889581&type=01&language=es_ES',\n",
       " 'https://portaldogc.gencat.cat/utilsEADOP/AppJava/PdfProviderServlet?documentId=889670&type=01&language=es_ES',\n",
       " 'https://portaldogc.gencat.cat/utilsEADOP/AppJava/PdfProviderServlet?documentId=889595&type=01&language=es_ES',\n",
       " 'https://portaldogc.gencat.cat/utilsEADOP/AppJava/PdfProviderServlet?documentId=889636&type=01&language=es_ES',\n",
       " 'https://portaldogc.gencat.cat/utilsEADOP/AppJava/PdfProviderServlet?documentId=889658&type=01&language=es_ES',\n",
       " 'https://portaldogc.gencat.cat/utilsEADOP/AppJava/PdfProviderServlet?documentId=889664&type=01&language=es_ES',\n",
       " 'https://portaldogc.gencat.cat/utilsEADOP/AppJava/PdfProviderServlet?documentId=889576&type=01&language=es_ES',\n",
       " 'https://portaldogc.gencat.cat/utilsEADOP/AppJava/PdfProviderServlet?documentId=889577&type=01&language=es_ES',\n",
       " 'https://portaldogc.gencat.cat/utilsEADOP/AppJava/PdfProviderServlet?documentId=889615&type=01&language=es_ES',\n",
       " 'https://portaldogc.gencat.cat/utilsEADOP/AppJava/PdfProviderServlet?documentId=889654&type=01&language=es_ES',\n",
       " 'https://portaldogc.gencat.cat/utilsEADOP/AppJava/PdfProviderServlet?documentId=889663&type=01&language=es_ES',\n",
       " 'https://portaldogc.gencat.cat/utilsEADOP/AppJava/PdfProviderServlet?documentId=889568&type=01&language=es_ES',\n",
       " 'https://portaldogc.gencat.cat/utilsEADOP/AppJava/PdfProviderServlet?documentId=889555&type=01&language=es_ES',\n",
       " 'https://portaldogc.gencat.cat/utilsEADOP/AppJava/PdfProviderServlet?documentId=889630&type=01&language=es_ES',\n",
       " 'https://portaldogc.gencat.cat/utilsEADOP/AppJava/PdfProviderServlet?documentId=889598&type=01&language=es_ES',\n",
       " 'https://portaldogc.gencat.cat/utilsEADOP/AppJava/PdfProviderServlet?documentId=889638&type=01&language=es_ES',\n",
       " 'https://portaldogc.gencat.cat/utilsEADOP/AppJava/PdfProviderServlet?documentId=889620&type=01&language=es_ES',\n",
       " 'https://portaldogc.gencat.cat/utilsEADOP/AppJava/PdfProviderServlet?documentId=889588&type=01&language=es_ES',\n",
       " 'https://portaldogc.gencat.cat/utilsEADOP/AppJava/PdfProviderServlet?documentId=889594&type=01&language=es_ES',\n",
       " 'https://portaldogc.gencat.cat/utilsEADOP/AppJava/PdfProviderServlet?documentId=889647&type=01&language=es_ES',\n",
       " 'https://portaldogc.gencat.cat/utilsEADOP/AppJava/PdfProviderServlet?documentId=889606&type=01&language=es_ES',\n",
       " 'https://portaldogc.gencat.cat/utilsEADOP/AppJava/PdfProviderServlet?documentId=889640&type=01&language=es_ES',\n",
       " 'https://portaldogc.gencat.cat/utilsEADOP/AppJava/PdfProviderServlet?documentId=889600&type=01&language=es_ES']"
      ]
     },
     "metadata": {},
     "execution_count": 87
    }
   ],
   "source": [
    "pdf_link"
   ]
  },
  {
   "source": [
    "# DOUE"
   ],
   "cell_type": "markdown",
   "metadata": {}
  },
  {
   "cell_type": "code",
   "execution_count": 189,
   "metadata": {},
   "outputs": [],
   "source": [
    "# --------------------------------------------------------------------------------------\n",
    "# DOUE\n",
    "# --------------------------------------------------------------------------------------\n",
    "\n",
    "URL_HTML_resumen =  \"https://eur-lex.europa.eu/oj/direct-access.html?locale=es\"\n",
    "\n",
    "## carga página HTML y genera árbol\n",
    "\n",
    "response = requests.get(URL_HTML_resumen)\n",
    "tree = html.fromstring(response.text)\n",
    "\n",
    "## Recoge Nombre Secciones Sumario\n",
    "\n",
    "secciones = tree.xpath('//*[@id=\"MainContent\"]/div[2]/div[2]/div/table/tbody/tr[1]')\n",
    "#print(secciones)\n",
    "\n"
   ]
  },
  {
   "cell_type": "code",
   "execution_count": null,
   "metadata": {},
   "outputs": [],
   "source": []
  },
  {
   "cell_type": "code",
   "execution_count": 190,
   "metadata": {},
   "outputs": [],
   "source": [
    "## Recoge Valores para formar URLs Secciones Sumario\n",
    "\n",
    "df_secciones_sumarios = pd.DataFrame()\n",
    "for seccion in secciones:\n",
    "    seccion_name = seccion.xpath('./td[2]/a/text()')\n",
    "    seccion_URL = seccion.xpath('./td[2]/a/@href')\n",
    "    #seccion = re.sub('(\\\\r|\\\\n|\\\\t)+', '', seccion)\n",
    "    #print(seccion_name)\n",
    "    #print(seccion_URL)\n",
    "\n",
    "for row in range(len(seccion_name)):\n",
    "    df_secciones_sumarios = df_secciones_sumarios.append({'Seccion': seccion_name[row],\n",
    "                                            'Seccion_link' : 'https://eur-lex.europa.eu' + seccion_URL[row][4:]},\n",
    "                                            ignore_index=True)"
   ]
  },
  {
   "cell_type": "code",
   "execution_count": 192,
   "metadata": {},
   "outputs": [
    {
     "output_type": "execute_result",
     "data": {
      "text/plain": [
       "  Seccion                                       Seccion_link\n",
       "0    L436  https://eur-lex.europa.eu/legal-content/ES/TXT...\n",
       "1    L437  https://eur-lex.europa.eu/legal-content/ES/TXT...\n",
       "2    L438  https://eur-lex.europa.eu/legal-content/ES/TXT..."
      ],
      "text/html": "<div>\n<style scoped>\n    .dataframe tbody tr th:only-of-type {\n        vertical-align: middle;\n    }\n\n    .dataframe tbody tr th {\n        vertical-align: top;\n    }\n\n    .dataframe thead th {\n        text-align: right;\n    }\n</style>\n<table border=\"1\" class=\"dataframe\">\n  <thead>\n    <tr style=\"text-align: right;\">\n      <th></th>\n      <th>Seccion</th>\n      <th>Seccion_link</th>\n    </tr>\n  </thead>\n  <tbody>\n    <tr>\n      <th>0</th>\n      <td>L436</td>\n      <td>https://eur-lex.europa.eu/legal-content/ES/TXT...</td>\n    </tr>\n    <tr>\n      <th>1</th>\n      <td>L437</td>\n      <td>https://eur-lex.europa.eu/legal-content/ES/TXT...</td>\n    </tr>\n    <tr>\n      <th>2</th>\n      <td>L438</td>\n      <td>https://eur-lex.europa.eu/legal-content/ES/TXT...</td>\n    </tr>\n  </tbody>\n</table>\n</div>"
     },
     "metadata": {},
     "execution_count": 192
    }
   ],
   "source": [
    "df_secciones_sumarios"
   ]
  },
  {
   "cell_type": "code",
   "execution_count": 191,
   "metadata": {},
   "outputs": [
    {
     "output_type": "stream",
     "name": "stdout",
     "text": [
      "https://eur-lex.europa.eu/legal-content/ES/TXT/?uri=OJ:L:2020:436:TOC\nhttps://eur-lex.europa.eu/legal-content/ES/TXT/?uri=OJ:L:2020:437:TOC\nhttps://eur-lex.europa.eu/legal-content/ES/TXT/?uri=OJ:L:2020:438:TOC\n"
     ]
    },
    {
     "output_type": "execute_result",
     "data": {
      "text/plain": [
       "[None, None, None]"
      ]
     },
     "metadata": {},
     "execution_count": 191
    }
   ],
   "source": [
    "[ print (row) for row in df_secciones_sumarios['Seccion_link']]"
   ]
  },
  {
   "source": [
    "df_sumarios = pd.DataFrame()\n",
    "\n",
    "for URL in df_secciones_sumarios['Seccion_link']:\n",
    "    \n",
    "    ### Recoge Items en Seccion Legislación\n",
    "\n",
    "    #print(URL)\n",
    "    response = requests.get(URL)\n",
    "    sumario_HTML = html.fromstring(response.text)\n",
    "\n",
    "    documentos = sumario_HTML.xpath('//*[@class=\"oj-ti-doc-dur\"]/a[1]/text()[1]')\n",
    "    documentos_URL = sumario_HTML.xpath('//*[@class=\"oj-ti-doc-dur\"]/a[1]/@href')\n",
    "\n",
    "    for row in range(len(documentos)):\n",
    "        df_sumarios = df_sumarios.append({'Seccion': 'L' + documentos_URL[row][-7:-4],\n",
    "                                        'Item_Name': documentos[row],\n",
    "                                        'Item_Link': 'https://eur-lex.europa.eu' + documentos_URL[row][10:],\n",
    "                                        'PDF_Link': ''},\n",
    "                                        ignore_index=True)\n"
   ],
   "cell_type": "code",
   "metadata": {},
   "execution_count": 193,
   "outputs": []
  },
  {
   "cell_type": "code",
   "execution_count": 196,
   "metadata": {},
   "outputs": [
    {
     "output_type": "execute_result",
     "data": {
      "text/plain": [
       "   Seccion                                          Item_Name  \\\n",
       "0     L436  Reglamento Delegado (UE) 2020/2237 de la Comis...   \n",
       "1     L436  Decisión de Ejecución (UE) 2020/2238 de la Com...   \n",
       "2     L436  Decisión de Ejecución (UE) 2020/2239 de la Com...   \n",
       "3     L436  Decisión de Ejecución (UE) 2020/2240 de la Com...   \n",
       "4     L436  Decisión de Ejecución (UE) 2020/2241 de la Com...   \n",
       "5     L436  Decisión de Ejecución (UE) 2020/2242 de la Com...   \n",
       "6     L436  Recomendación (UE) 2020/2243 de la Comisión de...   \n",
       "7     L437  Reglamento (UE) 2020/2220 del Parlamento Europ...   \n",
       "8     L437  Reglamento (UE) 2020/2221 del Parlamento Europ...   \n",
       "9     L437  Reglamento (UE) 2020/2222 del Parlamento Europ...   \n",
       "10    L437  Reglamento (UE, Euratom) 2020/2223del Parlamen...   \n",
       "11    L437  Reglamento (UE) 2020/2224 del Parlamento Europ...   \n",
       "12    L437  Reglamento (UE) 2020/2225 del Parlamento Europ...   \n",
       "13    L437  Reglamento (UE) 2020/2226 del Parlamento Europ...   \n",
       "14    L437  Reglamento (UE) 2020/2227 del Parlamento Europ...   \n",
       "15    L437  Decisión (UE) 2020/2228 del Parlamento Europeo...   \n",
       "16    L437  Decisión (UE) 2020/2229 del Parlamento Europeo...   \n",
       "17    L437  Reglamento (UE) 2020/2230 del Consejo de 18 de...   \n",
       "18    L437  Reglamento (UE) 2020/2231 del Consejo de 18 de...   \n",
       "19    L437  Decisión (UE) 2020/2232 del Consejo de 22 de d...   \n",
       "20    L437  Decisión (UE) 2020/2233 del Consejo de 23 de d...   \n",
       "21    L438  Reglamento de Ejecución (UE) 2020/2202 de la C...   \n",
       "22    L438  Reglamento de Ejecución (UE) 2020/2203 de la C...   \n",
       "23    L438  Reglamento de Ejecución (UE) 2020/2204 de la C...   \n",
       "24    L438  Reglamento de Ejecución (UE) 2020/2205 de la C...   \n",
       "25    L438  Reglamento de Ejecución (UE) 2020/2206 de la C...   \n",
       "26    L438  Reglamento de Ejecución (UE) 2020/2207 de la C...   \n",
       "27    L438  Reglamento de Ejecución (UE) 2020/2208 de la C...   \n",
       "28    L438  Reglamento de Ejecución (UE) 2020/2209 de la C...   \n",
       "29    L438  Reglamento de Ejecución (UE) 2020/2210 de la C...   \n",
       "30    L438  Reglamento de Ejecución (UE) 2020/2211 de la C...   \n",
       "31    L438  Decisión de Ejecución (UE) 2020/2212 de la Com...   \n",
       "32    L438  Decisión de Ejecución (UE) 2020/2213 de la Com...   \n",
       "33    L438  Decisión de Ejecución (UE) 2020/2214 de la Com...   \n",
       "34    L438  Decisión de Ejecución (UE) 2020/2215 de la Com...   \n",
       "35    L438  Decisión de Ejecución (UE) 2020/2216 de la Com...   \n",
       "36    L438  Decisión de Ejecución (UE) 2020/2217 de la Com...   \n",
       "37    L438  Decisión de Ejecución (UE) 2020/2218 de la Com...   \n",
       "38    L438  Decisión de Ejecución (UE) 2020/2219 de la Com...   \n",
       "\n",
       "                                            Item_Link  \\\n",
       "0   https://eur-lex.europa.eu/legal-content/ES/AUT...   \n",
       "1   https://eur-lex.europa.eu/legal-content/ES/AUT...   \n",
       "2   https://eur-lex.europa.eu/legal-content/ES/AUT...   \n",
       "3   https://eur-lex.europa.eu/legal-content/ES/AUT...   \n",
       "4   https://eur-lex.europa.eu/legal-content/ES/AUT...   \n",
       "5   https://eur-lex.europa.eu/legal-content/ES/AUT...   \n",
       "6   https://eur-lex.europa.eu/legal-content/ES/AUT...   \n",
       "7   https://eur-lex.europa.eu/legal-content/ES/AUT...   \n",
       "8   https://eur-lex.europa.eu/legal-content/ES/AUT...   \n",
       "9   https://eur-lex.europa.eu/legal-content/ES/AUT...   \n",
       "10  https://eur-lex.europa.eu/legal-content/ES/AUT...   \n",
       "11  https://eur-lex.europa.eu/legal-content/ES/AUT...   \n",
       "12  https://eur-lex.europa.eu/legal-content/ES/AUT...   \n",
       "13  https://eur-lex.europa.eu/legal-content/ES/AUT...   \n",
       "14  https://eur-lex.europa.eu/legal-content/ES/AUT...   \n",
       "15  https://eur-lex.europa.eu/legal-content/ES/AUT...   \n",
       "16  https://eur-lex.europa.eu/legal-content/ES/AUT...   \n",
       "17  https://eur-lex.europa.eu/legal-content/ES/AUT...   \n",
       "18  https://eur-lex.europa.eu/legal-content/ES/AUT...   \n",
       "19  https://eur-lex.europa.eu/legal-content/ES/AUT...   \n",
       "20  https://eur-lex.europa.eu/legal-content/ES/AUT...   \n",
       "21  https://eur-lex.europa.eu/legal-content/ES/AUT...   \n",
       "22  https://eur-lex.europa.eu/legal-content/ES/AUT...   \n",
       "23  https://eur-lex.europa.eu/legal-content/ES/AUT...   \n",
       "24  https://eur-lex.europa.eu/legal-content/ES/AUT...   \n",
       "25  https://eur-lex.europa.eu/legal-content/ES/AUT...   \n",
       "26  https://eur-lex.europa.eu/legal-content/ES/AUT...   \n",
       "27  https://eur-lex.europa.eu/legal-content/ES/AUT...   \n",
       "28  https://eur-lex.europa.eu/legal-content/ES/AUT...   \n",
       "29  https://eur-lex.europa.eu/legal-content/ES/AUT...   \n",
       "30  https://eur-lex.europa.eu/legal-content/ES/AUT...   \n",
       "31  https://eur-lex.europa.eu/legal-content/ES/AUT...   \n",
       "32  https://eur-lex.europa.eu/legal-content/ES/AUT...   \n",
       "33  https://eur-lex.europa.eu/legal-content/ES/AUT...   \n",
       "34  https://eur-lex.europa.eu/legal-content/ES/AUT...   \n",
       "35  https://eur-lex.europa.eu/legal-content/ES/AUT...   \n",
       "36  https://eur-lex.europa.eu/legal-content/ES/AUT...   \n",
       "37  https://eur-lex.europa.eu/legal-content/ES/AUT...   \n",
       "38  https://eur-lex.europa.eu/legal-content/ES/AUT...   \n",
       "\n",
       "                                             PDF_Link  \n",
       "0   https://eur-lex.europa.eu/legal-content/ES/TXT...  \n",
       "1   https://eur-lex.europa.eu/legal-content/ES/TXT...  \n",
       "2   https://eur-lex.europa.eu/legal-content/ES/TXT...  \n",
       "3   https://eur-lex.europa.eu/legal-content/ES/TXT...  \n",
       "4   https://eur-lex.europa.eu/legal-content/ES/TXT...  \n",
       "5   https://eur-lex.europa.eu/legal-content/ES/TXT...  \n",
       "6   https://eur-lex.europa.eu/legal-content/ES/TXT...  \n",
       "7   https://eur-lex.europa.eu/legal-content/ES/TXT...  \n",
       "8   https://eur-lex.europa.eu/legal-content/ES/TXT...  \n",
       "9   https://eur-lex.europa.eu/legal-content/ES/TXT...  \n",
       "10  https://eur-lex.europa.eu/legal-content/ES/TXT...  \n",
       "11  https://eur-lex.europa.eu/legal-content/ES/TXT...  \n",
       "12  https://eur-lex.europa.eu/legal-content/ES/TXT...  \n",
       "13  https://eur-lex.europa.eu/legal-content/ES/TXT...  \n",
       "14  https://eur-lex.europa.eu/legal-content/ES/TXT...  \n",
       "15  https://eur-lex.europa.eu/legal-content/ES/TXT...  \n",
       "16  https://eur-lex.europa.eu/legal-content/ES/TXT...  \n",
       "17  https://eur-lex.europa.eu/legal-content/ES/TXT...  \n",
       "18  https://eur-lex.europa.eu/legal-content/ES/TXT...  \n",
       "19  https://eur-lex.europa.eu/legal-content/ES/TXT...  \n",
       "20  https://eur-lex.europa.eu/legal-content/ES/TXT...  \n",
       "21  https://eur-lex.europa.eu/legal-content/ES/TXT...  \n",
       "22  https://eur-lex.europa.eu/legal-content/ES/TXT...  \n",
       "23  https://eur-lex.europa.eu/legal-content/ES/TXT...  \n",
       "24  https://eur-lex.europa.eu/legal-content/ES/TXT...  \n",
       "25  https://eur-lex.europa.eu/legal-content/ES/TXT...  \n",
       "26  https://eur-lex.europa.eu/legal-content/ES/TXT...  \n",
       "27  https://eur-lex.europa.eu/legal-content/ES/TXT...  \n",
       "28  https://eur-lex.europa.eu/legal-content/ES/TXT...  \n",
       "29  https://eur-lex.europa.eu/legal-content/ES/TXT...  \n",
       "30  https://eur-lex.europa.eu/legal-content/ES/TXT...  \n",
       "31  https://eur-lex.europa.eu/legal-content/ES/TXT...  \n",
       "32  https://eur-lex.europa.eu/legal-content/ES/TXT...  \n",
       "33  https://eur-lex.europa.eu/legal-content/ES/TXT...  \n",
       "34  https://eur-lex.europa.eu/legal-content/ES/TXT...  \n",
       "35  https://eur-lex.europa.eu/legal-content/ES/TXT...  \n",
       "36  https://eur-lex.europa.eu/legal-content/ES/TXT...  \n",
       "37  https://eur-lex.europa.eu/legal-content/ES/TXT...  \n",
       "38  https://eur-lex.europa.eu/legal-content/ES/TXT...  "
      ],
      "text/html": "<div>\n<style scoped>\n    .dataframe tbody tr th:only-of-type {\n        vertical-align: middle;\n    }\n\n    .dataframe tbody tr th {\n        vertical-align: top;\n    }\n\n    .dataframe thead th {\n        text-align: right;\n    }\n</style>\n<table border=\"1\" class=\"dataframe\">\n  <thead>\n    <tr style=\"text-align: right;\">\n      <th></th>\n      <th>Seccion</th>\n      <th>Item_Name</th>\n      <th>Item_Link</th>\n      <th>PDF_Link</th>\n    </tr>\n  </thead>\n  <tbody>\n    <tr>\n      <th>0</th>\n      <td>L436</td>\n      <td>Reglamento Delegado (UE) 2020/2237 de la Comis...</td>\n      <td>https://eur-lex.europa.eu/legal-content/ES/AUT...</td>\n      <td>https://eur-lex.europa.eu/legal-content/ES/TXT...</td>\n    </tr>\n    <tr>\n      <th>1</th>\n      <td>L436</td>\n      <td>Decisión de Ejecución (UE) 2020/2238 de la Com...</td>\n      <td>https://eur-lex.europa.eu/legal-content/ES/AUT...</td>\n      <td>https://eur-lex.europa.eu/legal-content/ES/TXT...</td>\n    </tr>\n    <tr>\n      <th>2</th>\n      <td>L436</td>\n      <td>Decisión de Ejecución (UE) 2020/2239 de la Com...</td>\n      <td>https://eur-lex.europa.eu/legal-content/ES/AUT...</td>\n      <td>https://eur-lex.europa.eu/legal-content/ES/TXT...</td>\n    </tr>\n    <tr>\n      <th>3</th>\n      <td>L436</td>\n      <td>Decisión de Ejecución (UE) 2020/2240 de la Com...</td>\n      <td>https://eur-lex.europa.eu/legal-content/ES/AUT...</td>\n      <td>https://eur-lex.europa.eu/legal-content/ES/TXT...</td>\n    </tr>\n    <tr>\n      <th>4</th>\n      <td>L436</td>\n      <td>Decisión de Ejecución (UE) 2020/2241 de la Com...</td>\n      <td>https://eur-lex.europa.eu/legal-content/ES/AUT...</td>\n      <td>https://eur-lex.europa.eu/legal-content/ES/TXT...</td>\n    </tr>\n    <tr>\n      <th>5</th>\n      <td>L436</td>\n      <td>Decisión de Ejecución (UE) 2020/2242 de la Com...</td>\n      <td>https://eur-lex.europa.eu/legal-content/ES/AUT...</td>\n      <td>https://eur-lex.europa.eu/legal-content/ES/TXT...</td>\n    </tr>\n    <tr>\n      <th>6</th>\n      <td>L436</td>\n      <td>Recomendación (UE) 2020/2243 de la Comisión de...</td>\n      <td>https://eur-lex.europa.eu/legal-content/ES/AUT...</td>\n      <td>https://eur-lex.europa.eu/legal-content/ES/TXT...</td>\n    </tr>\n    <tr>\n      <th>7</th>\n      <td>L437</td>\n      <td>Reglamento (UE) 2020/2220 del Parlamento Europ...</td>\n      <td>https://eur-lex.europa.eu/legal-content/ES/AUT...</td>\n      <td>https://eur-lex.europa.eu/legal-content/ES/TXT...</td>\n    </tr>\n    <tr>\n      <th>8</th>\n      <td>L437</td>\n      <td>Reglamento (UE) 2020/2221 del Parlamento Europ...</td>\n      <td>https://eur-lex.europa.eu/legal-content/ES/AUT...</td>\n      <td>https://eur-lex.europa.eu/legal-content/ES/TXT...</td>\n    </tr>\n    <tr>\n      <th>9</th>\n      <td>L437</td>\n      <td>Reglamento (UE) 2020/2222 del Parlamento Europ...</td>\n      <td>https://eur-lex.europa.eu/legal-content/ES/AUT...</td>\n      <td>https://eur-lex.europa.eu/legal-content/ES/TXT...</td>\n    </tr>\n    <tr>\n      <th>10</th>\n      <td>L437</td>\n      <td>Reglamento (UE, Euratom) 2020/2223del Parlamen...</td>\n      <td>https://eur-lex.europa.eu/legal-content/ES/AUT...</td>\n      <td>https://eur-lex.europa.eu/legal-content/ES/TXT...</td>\n    </tr>\n    <tr>\n      <th>11</th>\n      <td>L437</td>\n      <td>Reglamento (UE) 2020/2224 del Parlamento Europ...</td>\n      <td>https://eur-lex.europa.eu/legal-content/ES/AUT...</td>\n      <td>https://eur-lex.europa.eu/legal-content/ES/TXT...</td>\n    </tr>\n    <tr>\n      <th>12</th>\n      <td>L437</td>\n      <td>Reglamento (UE) 2020/2225 del Parlamento Europ...</td>\n      <td>https://eur-lex.europa.eu/legal-content/ES/AUT...</td>\n      <td>https://eur-lex.europa.eu/legal-content/ES/TXT...</td>\n    </tr>\n    <tr>\n      <th>13</th>\n      <td>L437</td>\n      <td>Reglamento (UE) 2020/2226 del Parlamento Europ...</td>\n      <td>https://eur-lex.europa.eu/legal-content/ES/AUT...</td>\n      <td>https://eur-lex.europa.eu/legal-content/ES/TXT...</td>\n    </tr>\n    <tr>\n      <th>14</th>\n      <td>L437</td>\n      <td>Reglamento (UE) 2020/2227 del Parlamento Europ...</td>\n      <td>https://eur-lex.europa.eu/legal-content/ES/AUT...</td>\n      <td>https://eur-lex.europa.eu/legal-content/ES/TXT...</td>\n    </tr>\n    <tr>\n      <th>15</th>\n      <td>L437</td>\n      <td>Decisión (UE) 2020/2228 del Parlamento Europeo...</td>\n      <td>https://eur-lex.europa.eu/legal-content/ES/AUT...</td>\n      <td>https://eur-lex.europa.eu/legal-content/ES/TXT...</td>\n    </tr>\n    <tr>\n      <th>16</th>\n      <td>L437</td>\n      <td>Decisión (UE) 2020/2229 del Parlamento Europeo...</td>\n      <td>https://eur-lex.europa.eu/legal-content/ES/AUT...</td>\n      <td>https://eur-lex.europa.eu/legal-content/ES/TXT...</td>\n    </tr>\n    <tr>\n      <th>17</th>\n      <td>L437</td>\n      <td>Reglamento (UE) 2020/2230 del Consejo de 18 de...</td>\n      <td>https://eur-lex.europa.eu/legal-content/ES/AUT...</td>\n      <td>https://eur-lex.europa.eu/legal-content/ES/TXT...</td>\n    </tr>\n    <tr>\n      <th>18</th>\n      <td>L437</td>\n      <td>Reglamento (UE) 2020/2231 del Consejo de 18 de...</td>\n      <td>https://eur-lex.europa.eu/legal-content/ES/AUT...</td>\n      <td>https://eur-lex.europa.eu/legal-content/ES/TXT...</td>\n    </tr>\n    <tr>\n      <th>19</th>\n      <td>L437</td>\n      <td>Decisión (UE) 2020/2232 del Consejo de 22 de d...</td>\n      <td>https://eur-lex.europa.eu/legal-content/ES/AUT...</td>\n      <td>https://eur-lex.europa.eu/legal-content/ES/TXT...</td>\n    </tr>\n    <tr>\n      <th>20</th>\n      <td>L437</td>\n      <td>Decisión (UE) 2020/2233 del Consejo de 23 de d...</td>\n      <td>https://eur-lex.europa.eu/legal-content/ES/AUT...</td>\n      <td>https://eur-lex.europa.eu/legal-content/ES/TXT...</td>\n    </tr>\n    <tr>\n      <th>21</th>\n      <td>L438</td>\n      <td>Reglamento de Ejecución (UE) 2020/2202 de la C...</td>\n      <td>https://eur-lex.europa.eu/legal-content/ES/AUT...</td>\n      <td>https://eur-lex.europa.eu/legal-content/ES/TXT...</td>\n    </tr>\n    <tr>\n      <th>22</th>\n      <td>L438</td>\n      <td>Reglamento de Ejecución (UE) 2020/2203 de la C...</td>\n      <td>https://eur-lex.europa.eu/legal-content/ES/AUT...</td>\n      <td>https://eur-lex.europa.eu/legal-content/ES/TXT...</td>\n    </tr>\n    <tr>\n      <th>23</th>\n      <td>L438</td>\n      <td>Reglamento de Ejecución (UE) 2020/2204 de la C...</td>\n      <td>https://eur-lex.europa.eu/legal-content/ES/AUT...</td>\n      <td>https://eur-lex.europa.eu/legal-content/ES/TXT...</td>\n    </tr>\n    <tr>\n      <th>24</th>\n      <td>L438</td>\n      <td>Reglamento de Ejecución (UE) 2020/2205 de la C...</td>\n      <td>https://eur-lex.europa.eu/legal-content/ES/AUT...</td>\n      <td>https://eur-lex.europa.eu/legal-content/ES/TXT...</td>\n    </tr>\n    <tr>\n      <th>25</th>\n      <td>L438</td>\n      <td>Reglamento de Ejecución (UE) 2020/2206 de la C...</td>\n      <td>https://eur-lex.europa.eu/legal-content/ES/AUT...</td>\n      <td>https://eur-lex.europa.eu/legal-content/ES/TXT...</td>\n    </tr>\n    <tr>\n      <th>26</th>\n      <td>L438</td>\n      <td>Reglamento de Ejecución (UE) 2020/2207 de la C...</td>\n      <td>https://eur-lex.europa.eu/legal-content/ES/AUT...</td>\n      <td>https://eur-lex.europa.eu/legal-content/ES/TXT...</td>\n    </tr>\n    <tr>\n      <th>27</th>\n      <td>L438</td>\n      <td>Reglamento de Ejecución (UE) 2020/2208 de la C...</td>\n      <td>https://eur-lex.europa.eu/legal-content/ES/AUT...</td>\n      <td>https://eur-lex.europa.eu/legal-content/ES/TXT...</td>\n    </tr>\n    <tr>\n      <th>28</th>\n      <td>L438</td>\n      <td>Reglamento de Ejecución (UE) 2020/2209 de la C...</td>\n      <td>https://eur-lex.europa.eu/legal-content/ES/AUT...</td>\n      <td>https://eur-lex.europa.eu/legal-content/ES/TXT...</td>\n    </tr>\n    <tr>\n      <th>29</th>\n      <td>L438</td>\n      <td>Reglamento de Ejecución (UE) 2020/2210 de la C...</td>\n      <td>https://eur-lex.europa.eu/legal-content/ES/AUT...</td>\n      <td>https://eur-lex.europa.eu/legal-content/ES/TXT...</td>\n    </tr>\n    <tr>\n      <th>30</th>\n      <td>L438</td>\n      <td>Reglamento de Ejecución (UE) 2020/2211 de la C...</td>\n      <td>https://eur-lex.europa.eu/legal-content/ES/AUT...</td>\n      <td>https://eur-lex.europa.eu/legal-content/ES/TXT...</td>\n    </tr>\n    <tr>\n      <th>31</th>\n      <td>L438</td>\n      <td>Decisión de Ejecución (UE) 2020/2212 de la Com...</td>\n      <td>https://eur-lex.europa.eu/legal-content/ES/AUT...</td>\n      <td>https://eur-lex.europa.eu/legal-content/ES/TXT...</td>\n    </tr>\n    <tr>\n      <th>32</th>\n      <td>L438</td>\n      <td>Decisión de Ejecución (UE) 2020/2213 de la Com...</td>\n      <td>https://eur-lex.europa.eu/legal-content/ES/AUT...</td>\n      <td>https://eur-lex.europa.eu/legal-content/ES/TXT...</td>\n    </tr>\n    <tr>\n      <th>33</th>\n      <td>L438</td>\n      <td>Decisión de Ejecución (UE) 2020/2214 de la Com...</td>\n      <td>https://eur-lex.europa.eu/legal-content/ES/AUT...</td>\n      <td>https://eur-lex.europa.eu/legal-content/ES/TXT...</td>\n    </tr>\n    <tr>\n      <th>34</th>\n      <td>L438</td>\n      <td>Decisión de Ejecución (UE) 2020/2215 de la Com...</td>\n      <td>https://eur-lex.europa.eu/legal-content/ES/AUT...</td>\n      <td>https://eur-lex.europa.eu/legal-content/ES/TXT...</td>\n    </tr>\n    <tr>\n      <th>35</th>\n      <td>L438</td>\n      <td>Decisión de Ejecución (UE) 2020/2216 de la Com...</td>\n      <td>https://eur-lex.europa.eu/legal-content/ES/AUT...</td>\n      <td>https://eur-lex.europa.eu/legal-content/ES/TXT...</td>\n    </tr>\n    <tr>\n      <th>36</th>\n      <td>L438</td>\n      <td>Decisión de Ejecución (UE) 2020/2217 de la Com...</td>\n      <td>https://eur-lex.europa.eu/legal-content/ES/AUT...</td>\n      <td>https://eur-lex.europa.eu/legal-content/ES/TXT...</td>\n    </tr>\n    <tr>\n      <th>37</th>\n      <td>L438</td>\n      <td>Decisión de Ejecución (UE) 2020/2218 de la Com...</td>\n      <td>https://eur-lex.europa.eu/legal-content/ES/AUT...</td>\n      <td>https://eur-lex.europa.eu/legal-content/ES/TXT...</td>\n    </tr>\n    <tr>\n      <th>38</th>\n      <td>L438</td>\n      <td>Decisión de Ejecución (UE) 2020/2219 de la Com...</td>\n      <td>https://eur-lex.europa.eu/legal-content/ES/AUT...</td>\n      <td>https://eur-lex.europa.eu/legal-content/ES/TXT...</td>\n    </tr>\n  </tbody>\n</table>\n</div>"
     },
     "metadata": {},
     "execution_count": 196
    }
   ],
   "source": [
    "df_sumarios"
   ]
  },
  {
   "cell_type": "code",
   "execution_count": 194,
   "metadata": {},
   "outputs": [
    {
     "output_type": "stream",
     "name": "stdout",
     "text": [
      "['./../../../legal-content/ES/TXT/PDF/?uri=CELEX:32020D2189&from=ES']\n",
      "['./../../../legal-content/ES/TXT/PDF/?uri=CELEX:32020D2189&from=ES']\n",
      "['./../../../legal-content/ES/TXT/PDF/?uri=CELEX:32020D2189&from=ES']\n",
      "['./../../../legal-content/ES/TXT/PDF/?uri=CELEX:32020D2189&from=ES']\n",
      "['./../../../legal-content/ES/TXT/PDF/?uri=CELEX:32020D2189&from=ES']\n",
      "['./../../../legal-content/ES/TXT/PDF/?uri=CELEX:32020D2189&from=ES']\n",
      "['./../../../legal-content/ES/TXT/PDF/?uri=CELEX:32020D2189&from=ES']\n",
      "['./../../../legal-content/ES/TXT/PDF/?uri=CELEX:32020D2189&from=ES']\n",
      "['./../../../legal-content/ES/TXT/PDF/?uri=CELEX:32020D2189&from=ES']\n",
      "['./../../../legal-content/ES/TXT/PDF/?uri=CELEX:32020D2189&from=ES']\n",
      "['./../../../legal-content/ES/TXT/PDF/?uri=CELEX:32020D2189&from=ES']\n",
      "['./../../../legal-content/ES/TXT/PDF/?uri=CELEX:32020D2189&from=ES']\n",
      "['./../../../legal-content/ES/TXT/PDF/?uri=CELEX:32020D2189&from=ES']\n",
      "['./../../../legal-content/ES/TXT/PDF/?uri=CELEX:32020D2189&from=ES']\n",
      "['./../../../legal-content/ES/TXT/PDF/?uri=CELEX:32020D2189&from=ES']\n",
      "['./../../../legal-content/ES/TXT/PDF/?uri=CELEX:32020D2189&from=ES']\n",
      "['./../../../legal-content/ES/TXT/PDF/?uri=CELEX:32020D2189&from=ES']\n",
      "['./../../../legal-content/ES/TXT/PDF/?uri=CELEX:32020D2189&from=ES']\n",
      "['./../../../legal-content/ES/TXT/PDF/?uri=CELEX:32020D2189&from=ES']\n",
      "['./../../../legal-content/ES/TXT/PDF/?uri=CELEX:32020D2189&from=ES']\n",
      "['./../../../legal-content/ES/TXT/PDF/?uri=CELEX:32020D2189&from=ES']\n",
      "['./../../../legal-content/ES/TXT/PDF/?uri=CELEX:32020D2189&from=ES']\n",
      "['./../../../legal-content/ES/TXT/PDF/?uri=CELEX:32020D2189&from=ES']\n",
      "['./../../../legal-content/ES/TXT/PDF/?uri=CELEX:32020D2189&from=ES']\n",
      "['./../../../legal-content/ES/TXT/PDF/?uri=CELEX:32020D2189&from=ES']\n",
      "['./../../../legal-content/ES/TXT/PDF/?uri=CELEX:32020D2189&from=ES']\n",
      "['./../../../legal-content/ES/TXT/PDF/?uri=CELEX:32020D2189&from=ES']\n",
      "['./../../../legal-content/ES/TXT/PDF/?uri=CELEX:32020D2189&from=ES']\n",
      "['./../../../legal-content/ES/TXT/PDF/?uri=CELEX:32020D2189&from=ES']\n",
      "['./../../../legal-content/ES/TXT/PDF/?uri=CELEX:32020D2189&from=ES']\n",
      "['./../../../legal-content/ES/TXT/PDF/?uri=CELEX:32020D2189&from=ES']\n",
      "['./../../../legal-content/ES/TXT/PDF/?uri=CELEX:32020D2189&from=ES']\n",
      "['./../../../legal-content/ES/TXT/PDF/?uri=CELEX:32020D2189&from=ES']\n",
      "['./../../../legal-content/ES/TXT/PDF/?uri=CELEX:32020D2189&from=ES']\n",
      "['./../../../legal-content/ES/TXT/PDF/?uri=CELEX:32020D2189&from=ES']\n",
      "['./../../../legal-content/ES/TXT/PDF/?uri=CELEX:32020D2189&from=ES']\n",
      "['./../../../legal-content/ES/TXT/PDF/?uri=CELEX:32020D2189&from=ES']\n",
      "['./../../../legal-content/ES/TXT/PDF/?uri=CELEX:32020D2189&from=ES']\n",
      "['./../../../legal-content/ES/TXT/PDF/?uri=CELEX:32020D2189&from=ES']\n"
     ]
    }
   ],
   "source": [
    "row = 0\n",
    "for link in df_sumarios['Item_Link']:\n",
    "\n",
    "    ### Recoge PDF link en Items Legislación\n",
    "\n",
    "    #print(URL)\n",
    "    response = requests.get(link)\n",
    "    sumario_HTML = html.fromstring(response.text)\n",
    "\n",
    "    PDF_Link = sumario_HTML.xpath('//*[@id=\"format_language_table_PDF_ES\"]/@href')\n",
    "    df_sumarios['PDF_Link'].iloc[row] = 'https://eur-lex.europa.eu' + PDF_Link[0][10:]\n",
    "\n",
    "    row += 1\n",
    "    print(PDF_link)"
   ]
  },
  {
   "cell_type": "code",
   "execution_count": 195,
   "metadata": {},
   "outputs": [
    {
     "output_type": "execute_result",
     "data": {
      "text/plain": [
       "   Seccion                                          Item_Name  \\\n",
       "0     L436  Reglamento Delegado (UE) 2020/2237 de la Comis...   \n",
       "1     L436  Decisión de Ejecución (UE) 2020/2238 de la Com...   \n",
       "2     L436  Decisión de Ejecución (UE) 2020/2239 de la Com...   \n",
       "3     L436  Decisión de Ejecución (UE) 2020/2240 de la Com...   \n",
       "4     L436  Decisión de Ejecución (UE) 2020/2241 de la Com...   \n",
       "5     L436  Decisión de Ejecución (UE) 2020/2242 de la Com...   \n",
       "6     L436  Recomendación (UE) 2020/2243 de la Comisión de...   \n",
       "7     L437  Reglamento (UE) 2020/2220 del Parlamento Europ...   \n",
       "8     L437  Reglamento (UE) 2020/2221 del Parlamento Europ...   \n",
       "9     L437  Reglamento (UE) 2020/2222 del Parlamento Europ...   \n",
       "10    L437  Reglamento (UE, Euratom) 2020/2223del Parlamen...   \n",
       "11    L437  Reglamento (UE) 2020/2224 del Parlamento Europ...   \n",
       "12    L437  Reglamento (UE) 2020/2225 del Parlamento Europ...   \n",
       "13    L437  Reglamento (UE) 2020/2226 del Parlamento Europ...   \n",
       "14    L437  Reglamento (UE) 2020/2227 del Parlamento Europ...   \n",
       "15    L437  Decisión (UE) 2020/2228 del Parlamento Europeo...   \n",
       "16    L437  Decisión (UE) 2020/2229 del Parlamento Europeo...   \n",
       "17    L437  Reglamento (UE) 2020/2230 del Consejo de 18 de...   \n",
       "18    L437  Reglamento (UE) 2020/2231 del Consejo de 18 de...   \n",
       "19    L437  Decisión (UE) 2020/2232 del Consejo de 22 de d...   \n",
       "20    L437  Decisión (UE) 2020/2233 del Consejo de 23 de d...   \n",
       "21    L438  Reglamento de Ejecución (UE) 2020/2202 de la C...   \n",
       "22    L438  Reglamento de Ejecución (UE) 2020/2203 de la C...   \n",
       "23    L438  Reglamento de Ejecución (UE) 2020/2204 de la C...   \n",
       "24    L438  Reglamento de Ejecución (UE) 2020/2205 de la C...   \n",
       "25    L438  Reglamento de Ejecución (UE) 2020/2206 de la C...   \n",
       "26    L438  Reglamento de Ejecución (UE) 2020/2207 de la C...   \n",
       "27    L438  Reglamento de Ejecución (UE) 2020/2208 de la C...   \n",
       "28    L438  Reglamento de Ejecución (UE) 2020/2209 de la C...   \n",
       "29    L438  Reglamento de Ejecución (UE) 2020/2210 de la C...   \n",
       "30    L438  Reglamento de Ejecución (UE) 2020/2211 de la C...   \n",
       "31    L438  Decisión de Ejecución (UE) 2020/2212 de la Com...   \n",
       "32    L438  Decisión de Ejecución (UE) 2020/2213 de la Com...   \n",
       "33    L438  Decisión de Ejecución (UE) 2020/2214 de la Com...   \n",
       "34    L438  Decisión de Ejecución (UE) 2020/2215 de la Com...   \n",
       "35    L438  Decisión de Ejecución (UE) 2020/2216 de la Com...   \n",
       "36    L438  Decisión de Ejecución (UE) 2020/2217 de la Com...   \n",
       "37    L438  Decisión de Ejecución (UE) 2020/2218 de la Com...   \n",
       "38    L438  Decisión de Ejecución (UE) 2020/2219 de la Com...   \n",
       "\n",
       "                                            Item_Link  \\\n",
       "0   https://eur-lex.europa.eu/legal-content/ES/AUT...   \n",
       "1   https://eur-lex.europa.eu/legal-content/ES/AUT...   \n",
       "2   https://eur-lex.europa.eu/legal-content/ES/AUT...   \n",
       "3   https://eur-lex.europa.eu/legal-content/ES/AUT...   \n",
       "4   https://eur-lex.europa.eu/legal-content/ES/AUT...   \n",
       "5   https://eur-lex.europa.eu/legal-content/ES/AUT...   \n",
       "6   https://eur-lex.europa.eu/legal-content/ES/AUT...   \n",
       "7   https://eur-lex.europa.eu/legal-content/ES/AUT...   \n",
       "8   https://eur-lex.europa.eu/legal-content/ES/AUT...   \n",
       "9   https://eur-lex.europa.eu/legal-content/ES/AUT...   \n",
       "10  https://eur-lex.europa.eu/legal-content/ES/AUT...   \n",
       "11  https://eur-lex.europa.eu/legal-content/ES/AUT...   \n",
       "12  https://eur-lex.europa.eu/legal-content/ES/AUT...   \n",
       "13  https://eur-lex.europa.eu/legal-content/ES/AUT...   \n",
       "14  https://eur-lex.europa.eu/legal-content/ES/AUT...   \n",
       "15  https://eur-lex.europa.eu/legal-content/ES/AUT...   \n",
       "16  https://eur-lex.europa.eu/legal-content/ES/AUT...   \n",
       "17  https://eur-lex.europa.eu/legal-content/ES/AUT...   \n",
       "18  https://eur-lex.europa.eu/legal-content/ES/AUT...   \n",
       "19  https://eur-lex.europa.eu/legal-content/ES/AUT...   \n",
       "20  https://eur-lex.europa.eu/legal-content/ES/AUT...   \n",
       "21  https://eur-lex.europa.eu/legal-content/ES/AUT...   \n",
       "22  https://eur-lex.europa.eu/legal-content/ES/AUT...   \n",
       "23  https://eur-lex.europa.eu/legal-content/ES/AUT...   \n",
       "24  https://eur-lex.europa.eu/legal-content/ES/AUT...   \n",
       "25  https://eur-lex.europa.eu/legal-content/ES/AUT...   \n",
       "26  https://eur-lex.europa.eu/legal-content/ES/AUT...   \n",
       "27  https://eur-lex.europa.eu/legal-content/ES/AUT...   \n",
       "28  https://eur-lex.europa.eu/legal-content/ES/AUT...   \n",
       "29  https://eur-lex.europa.eu/legal-content/ES/AUT...   \n",
       "30  https://eur-lex.europa.eu/legal-content/ES/AUT...   \n",
       "31  https://eur-lex.europa.eu/legal-content/ES/AUT...   \n",
       "32  https://eur-lex.europa.eu/legal-content/ES/AUT...   \n",
       "33  https://eur-lex.europa.eu/legal-content/ES/AUT...   \n",
       "34  https://eur-lex.europa.eu/legal-content/ES/AUT...   \n",
       "35  https://eur-lex.europa.eu/legal-content/ES/AUT...   \n",
       "36  https://eur-lex.europa.eu/legal-content/ES/AUT...   \n",
       "37  https://eur-lex.europa.eu/legal-content/ES/AUT...   \n",
       "38  https://eur-lex.europa.eu/legal-content/ES/AUT...   \n",
       "\n",
       "                                             PDF_Link  \n",
       "0   https://eur-lex.europa.eu/legal-content/ES/TXT...  \n",
       "1   https://eur-lex.europa.eu/legal-content/ES/TXT...  \n",
       "2   https://eur-lex.europa.eu/legal-content/ES/TXT...  \n",
       "3   https://eur-lex.europa.eu/legal-content/ES/TXT...  \n",
       "4   https://eur-lex.europa.eu/legal-content/ES/TXT...  \n",
       "5   https://eur-lex.europa.eu/legal-content/ES/TXT...  \n",
       "6   https://eur-lex.europa.eu/legal-content/ES/TXT...  \n",
       "7   https://eur-lex.europa.eu/legal-content/ES/TXT...  \n",
       "8   https://eur-lex.europa.eu/legal-content/ES/TXT...  \n",
       "9   https://eur-lex.europa.eu/legal-content/ES/TXT...  \n",
       "10  https://eur-lex.europa.eu/legal-content/ES/TXT...  \n",
       "11  https://eur-lex.europa.eu/legal-content/ES/TXT...  \n",
       "12  https://eur-lex.europa.eu/legal-content/ES/TXT...  \n",
       "13  https://eur-lex.europa.eu/legal-content/ES/TXT...  \n",
       "14  https://eur-lex.europa.eu/legal-content/ES/TXT...  \n",
       "15  https://eur-lex.europa.eu/legal-content/ES/TXT...  \n",
       "16  https://eur-lex.europa.eu/legal-content/ES/TXT...  \n",
       "17  https://eur-lex.europa.eu/legal-content/ES/TXT...  \n",
       "18  https://eur-lex.europa.eu/legal-content/ES/TXT...  \n",
       "19  https://eur-lex.europa.eu/legal-content/ES/TXT...  \n",
       "20  https://eur-lex.europa.eu/legal-content/ES/TXT...  \n",
       "21  https://eur-lex.europa.eu/legal-content/ES/TXT...  \n",
       "22  https://eur-lex.europa.eu/legal-content/ES/TXT...  \n",
       "23  https://eur-lex.europa.eu/legal-content/ES/TXT...  \n",
       "24  https://eur-lex.europa.eu/legal-content/ES/TXT...  \n",
       "25  https://eur-lex.europa.eu/legal-content/ES/TXT...  \n",
       "26  https://eur-lex.europa.eu/legal-content/ES/TXT...  \n",
       "27  https://eur-lex.europa.eu/legal-content/ES/TXT...  \n",
       "28  https://eur-lex.europa.eu/legal-content/ES/TXT...  \n",
       "29  https://eur-lex.europa.eu/legal-content/ES/TXT...  \n",
       "30  https://eur-lex.europa.eu/legal-content/ES/TXT...  \n",
       "31  https://eur-lex.europa.eu/legal-content/ES/TXT...  \n",
       "32  https://eur-lex.europa.eu/legal-content/ES/TXT...  \n",
       "33  https://eur-lex.europa.eu/legal-content/ES/TXT...  \n",
       "34  https://eur-lex.europa.eu/legal-content/ES/TXT...  \n",
       "35  https://eur-lex.europa.eu/legal-content/ES/TXT...  \n",
       "36  https://eur-lex.europa.eu/legal-content/ES/TXT...  \n",
       "37  https://eur-lex.europa.eu/legal-content/ES/TXT...  \n",
       "38  https://eur-lex.europa.eu/legal-content/ES/TXT...  "
      ],
      "text/html": "<div>\n<style scoped>\n    .dataframe tbody tr th:only-of-type {\n        vertical-align: middle;\n    }\n\n    .dataframe tbody tr th {\n        vertical-align: top;\n    }\n\n    .dataframe thead th {\n        text-align: right;\n    }\n</style>\n<table border=\"1\" class=\"dataframe\">\n  <thead>\n    <tr style=\"text-align: right;\">\n      <th></th>\n      <th>Seccion</th>\n      <th>Item_Name</th>\n      <th>Item_Link</th>\n      <th>PDF_Link</th>\n    </tr>\n  </thead>\n  <tbody>\n    <tr>\n      <th>0</th>\n      <td>L436</td>\n      <td>Reglamento Delegado (UE) 2020/2237 de la Comis...</td>\n      <td>https://eur-lex.europa.eu/legal-content/ES/AUT...</td>\n      <td>https://eur-lex.europa.eu/legal-content/ES/TXT...</td>\n    </tr>\n    <tr>\n      <th>1</th>\n      <td>L436</td>\n      <td>Decisión de Ejecución (UE) 2020/2238 de la Com...</td>\n      <td>https://eur-lex.europa.eu/legal-content/ES/AUT...</td>\n      <td>https://eur-lex.europa.eu/legal-content/ES/TXT...</td>\n    </tr>\n    <tr>\n      <th>2</th>\n      <td>L436</td>\n      <td>Decisión de Ejecución (UE) 2020/2239 de la Com...</td>\n      <td>https://eur-lex.europa.eu/legal-content/ES/AUT...</td>\n      <td>https://eur-lex.europa.eu/legal-content/ES/TXT...</td>\n    </tr>\n    <tr>\n      <th>3</th>\n      <td>L436</td>\n      <td>Decisión de Ejecución (UE) 2020/2240 de la Com...</td>\n      <td>https://eur-lex.europa.eu/legal-content/ES/AUT...</td>\n      <td>https://eur-lex.europa.eu/legal-content/ES/TXT...</td>\n    </tr>\n    <tr>\n      <th>4</th>\n      <td>L436</td>\n      <td>Decisión de Ejecución (UE) 2020/2241 de la Com...</td>\n      <td>https://eur-lex.europa.eu/legal-content/ES/AUT...</td>\n      <td>https://eur-lex.europa.eu/legal-content/ES/TXT...</td>\n    </tr>\n    <tr>\n      <th>5</th>\n      <td>L436</td>\n      <td>Decisión de Ejecución (UE) 2020/2242 de la Com...</td>\n      <td>https://eur-lex.europa.eu/legal-content/ES/AUT...</td>\n      <td>https://eur-lex.europa.eu/legal-content/ES/TXT...</td>\n    </tr>\n    <tr>\n      <th>6</th>\n      <td>L436</td>\n      <td>Recomendación (UE) 2020/2243 de la Comisión de...</td>\n      <td>https://eur-lex.europa.eu/legal-content/ES/AUT...</td>\n      <td>https://eur-lex.europa.eu/legal-content/ES/TXT...</td>\n    </tr>\n    <tr>\n      <th>7</th>\n      <td>L437</td>\n      <td>Reglamento (UE) 2020/2220 del Parlamento Europ...</td>\n      <td>https://eur-lex.europa.eu/legal-content/ES/AUT...</td>\n      <td>https://eur-lex.europa.eu/legal-content/ES/TXT...</td>\n    </tr>\n    <tr>\n      <th>8</th>\n      <td>L437</td>\n      <td>Reglamento (UE) 2020/2221 del Parlamento Europ...</td>\n      <td>https://eur-lex.europa.eu/legal-content/ES/AUT...</td>\n      <td>https://eur-lex.europa.eu/legal-content/ES/TXT...</td>\n    </tr>\n    <tr>\n      <th>9</th>\n      <td>L437</td>\n      <td>Reglamento (UE) 2020/2222 del Parlamento Europ...</td>\n      <td>https://eur-lex.europa.eu/legal-content/ES/AUT...</td>\n      <td>https://eur-lex.europa.eu/legal-content/ES/TXT...</td>\n    </tr>\n    <tr>\n      <th>10</th>\n      <td>L437</td>\n      <td>Reglamento (UE, Euratom) 2020/2223del Parlamen...</td>\n      <td>https://eur-lex.europa.eu/legal-content/ES/AUT...</td>\n      <td>https://eur-lex.europa.eu/legal-content/ES/TXT...</td>\n    </tr>\n    <tr>\n      <th>11</th>\n      <td>L437</td>\n      <td>Reglamento (UE) 2020/2224 del Parlamento Europ...</td>\n      <td>https://eur-lex.europa.eu/legal-content/ES/AUT...</td>\n      <td>https://eur-lex.europa.eu/legal-content/ES/TXT...</td>\n    </tr>\n    <tr>\n      <th>12</th>\n      <td>L437</td>\n      <td>Reglamento (UE) 2020/2225 del Parlamento Europ...</td>\n      <td>https://eur-lex.europa.eu/legal-content/ES/AUT...</td>\n      <td>https://eur-lex.europa.eu/legal-content/ES/TXT...</td>\n    </tr>\n    <tr>\n      <th>13</th>\n      <td>L437</td>\n      <td>Reglamento (UE) 2020/2226 del Parlamento Europ...</td>\n      <td>https://eur-lex.europa.eu/legal-content/ES/AUT...</td>\n      <td>https://eur-lex.europa.eu/legal-content/ES/TXT...</td>\n    </tr>\n    <tr>\n      <th>14</th>\n      <td>L437</td>\n      <td>Reglamento (UE) 2020/2227 del Parlamento Europ...</td>\n      <td>https://eur-lex.europa.eu/legal-content/ES/AUT...</td>\n      <td>https://eur-lex.europa.eu/legal-content/ES/TXT...</td>\n    </tr>\n    <tr>\n      <th>15</th>\n      <td>L437</td>\n      <td>Decisión (UE) 2020/2228 del Parlamento Europeo...</td>\n      <td>https://eur-lex.europa.eu/legal-content/ES/AUT...</td>\n      <td>https://eur-lex.europa.eu/legal-content/ES/TXT...</td>\n    </tr>\n    <tr>\n      <th>16</th>\n      <td>L437</td>\n      <td>Decisión (UE) 2020/2229 del Parlamento Europeo...</td>\n      <td>https://eur-lex.europa.eu/legal-content/ES/AUT...</td>\n      <td>https://eur-lex.europa.eu/legal-content/ES/TXT...</td>\n    </tr>\n    <tr>\n      <th>17</th>\n      <td>L437</td>\n      <td>Reglamento (UE) 2020/2230 del Consejo de 18 de...</td>\n      <td>https://eur-lex.europa.eu/legal-content/ES/AUT...</td>\n      <td>https://eur-lex.europa.eu/legal-content/ES/TXT...</td>\n    </tr>\n    <tr>\n      <th>18</th>\n      <td>L437</td>\n      <td>Reglamento (UE) 2020/2231 del Consejo de 18 de...</td>\n      <td>https://eur-lex.europa.eu/legal-content/ES/AUT...</td>\n      <td>https://eur-lex.europa.eu/legal-content/ES/TXT...</td>\n    </tr>\n    <tr>\n      <th>19</th>\n      <td>L437</td>\n      <td>Decisión (UE) 2020/2232 del Consejo de 22 de d...</td>\n      <td>https://eur-lex.europa.eu/legal-content/ES/AUT...</td>\n      <td>https://eur-lex.europa.eu/legal-content/ES/TXT...</td>\n    </tr>\n    <tr>\n      <th>20</th>\n      <td>L437</td>\n      <td>Decisión (UE) 2020/2233 del Consejo de 23 de d...</td>\n      <td>https://eur-lex.europa.eu/legal-content/ES/AUT...</td>\n      <td>https://eur-lex.europa.eu/legal-content/ES/TXT...</td>\n    </tr>\n    <tr>\n      <th>21</th>\n      <td>L438</td>\n      <td>Reglamento de Ejecución (UE) 2020/2202 de la C...</td>\n      <td>https://eur-lex.europa.eu/legal-content/ES/AUT...</td>\n      <td>https://eur-lex.europa.eu/legal-content/ES/TXT...</td>\n    </tr>\n    <tr>\n      <th>22</th>\n      <td>L438</td>\n      <td>Reglamento de Ejecución (UE) 2020/2203 de la C...</td>\n      <td>https://eur-lex.europa.eu/legal-content/ES/AUT...</td>\n      <td>https://eur-lex.europa.eu/legal-content/ES/TXT...</td>\n    </tr>\n    <tr>\n      <th>23</th>\n      <td>L438</td>\n      <td>Reglamento de Ejecución (UE) 2020/2204 de la C...</td>\n      <td>https://eur-lex.europa.eu/legal-content/ES/AUT...</td>\n      <td>https://eur-lex.europa.eu/legal-content/ES/TXT...</td>\n    </tr>\n    <tr>\n      <th>24</th>\n      <td>L438</td>\n      <td>Reglamento de Ejecución (UE) 2020/2205 de la C...</td>\n      <td>https://eur-lex.europa.eu/legal-content/ES/AUT...</td>\n      <td>https://eur-lex.europa.eu/legal-content/ES/TXT...</td>\n    </tr>\n    <tr>\n      <th>25</th>\n      <td>L438</td>\n      <td>Reglamento de Ejecución (UE) 2020/2206 de la C...</td>\n      <td>https://eur-lex.europa.eu/legal-content/ES/AUT...</td>\n      <td>https://eur-lex.europa.eu/legal-content/ES/TXT...</td>\n    </tr>\n    <tr>\n      <th>26</th>\n      <td>L438</td>\n      <td>Reglamento de Ejecución (UE) 2020/2207 de la C...</td>\n      <td>https://eur-lex.europa.eu/legal-content/ES/AUT...</td>\n      <td>https://eur-lex.europa.eu/legal-content/ES/TXT...</td>\n    </tr>\n    <tr>\n      <th>27</th>\n      <td>L438</td>\n      <td>Reglamento de Ejecución (UE) 2020/2208 de la C...</td>\n      <td>https://eur-lex.europa.eu/legal-content/ES/AUT...</td>\n      <td>https://eur-lex.europa.eu/legal-content/ES/TXT...</td>\n    </tr>\n    <tr>\n      <th>28</th>\n      <td>L438</td>\n      <td>Reglamento de Ejecución (UE) 2020/2209 de la C...</td>\n      <td>https://eur-lex.europa.eu/legal-content/ES/AUT...</td>\n      <td>https://eur-lex.europa.eu/legal-content/ES/TXT...</td>\n    </tr>\n    <tr>\n      <th>29</th>\n      <td>L438</td>\n      <td>Reglamento de Ejecución (UE) 2020/2210 de la C...</td>\n      <td>https://eur-lex.europa.eu/legal-content/ES/AUT...</td>\n      <td>https://eur-lex.europa.eu/legal-content/ES/TXT...</td>\n    </tr>\n    <tr>\n      <th>30</th>\n      <td>L438</td>\n      <td>Reglamento de Ejecución (UE) 2020/2211 de la C...</td>\n      <td>https://eur-lex.europa.eu/legal-content/ES/AUT...</td>\n      <td>https://eur-lex.europa.eu/legal-content/ES/TXT...</td>\n    </tr>\n    <tr>\n      <th>31</th>\n      <td>L438</td>\n      <td>Decisión de Ejecución (UE) 2020/2212 de la Com...</td>\n      <td>https://eur-lex.europa.eu/legal-content/ES/AUT...</td>\n      <td>https://eur-lex.europa.eu/legal-content/ES/TXT...</td>\n    </tr>\n    <tr>\n      <th>32</th>\n      <td>L438</td>\n      <td>Decisión de Ejecución (UE) 2020/2213 de la Com...</td>\n      <td>https://eur-lex.europa.eu/legal-content/ES/AUT...</td>\n      <td>https://eur-lex.europa.eu/legal-content/ES/TXT...</td>\n    </tr>\n    <tr>\n      <th>33</th>\n      <td>L438</td>\n      <td>Decisión de Ejecución (UE) 2020/2214 de la Com...</td>\n      <td>https://eur-lex.europa.eu/legal-content/ES/AUT...</td>\n      <td>https://eur-lex.europa.eu/legal-content/ES/TXT...</td>\n    </tr>\n    <tr>\n      <th>34</th>\n      <td>L438</td>\n      <td>Decisión de Ejecución (UE) 2020/2215 de la Com...</td>\n      <td>https://eur-lex.europa.eu/legal-content/ES/AUT...</td>\n      <td>https://eur-lex.europa.eu/legal-content/ES/TXT...</td>\n    </tr>\n    <tr>\n      <th>35</th>\n      <td>L438</td>\n      <td>Decisión de Ejecución (UE) 2020/2216 de la Com...</td>\n      <td>https://eur-lex.europa.eu/legal-content/ES/AUT...</td>\n      <td>https://eur-lex.europa.eu/legal-content/ES/TXT...</td>\n    </tr>\n    <tr>\n      <th>36</th>\n      <td>L438</td>\n      <td>Decisión de Ejecución (UE) 2020/2217 de la Com...</td>\n      <td>https://eur-lex.europa.eu/legal-content/ES/AUT...</td>\n      <td>https://eur-lex.europa.eu/legal-content/ES/TXT...</td>\n    </tr>\n    <tr>\n      <th>37</th>\n      <td>L438</td>\n      <td>Decisión de Ejecución (UE) 2020/2218 de la Com...</td>\n      <td>https://eur-lex.europa.eu/legal-content/ES/AUT...</td>\n      <td>https://eur-lex.europa.eu/legal-content/ES/TXT...</td>\n    </tr>\n    <tr>\n      <th>38</th>\n      <td>L438</td>\n      <td>Decisión de Ejecución (UE) 2020/2219 de la Com...</td>\n      <td>https://eur-lex.europa.eu/legal-content/ES/AUT...</td>\n      <td>https://eur-lex.europa.eu/legal-content/ES/TXT...</td>\n    </tr>\n  </tbody>\n</table>\n</div>"
     },
     "metadata": {},
     "execution_count": 195
    }
   ],
   "source": [
    "df_sumarios = df_sumarios[['Seccion', 'Item_Name', 'Item_Link', 'PDF_Link']]\n",
    "df_sumarios"
   ]
  },
  {
   "source": [
    "\n",
    "\n",
    "## Recoge Valores para formar URLs Secciones Sumario\n",
    "\n",
    "URL_base_sumario = tree.xpath('//*[@id=\"sumari\"]/ul/li[1]/form/@action')\n",
    "\n",
    "df_URL_sumarios = pd.DataFrame()\n",
    "for seccion in secciones:    \n",
    "    cadena = ''\n",
    "    for input in seccion.xpath('./form'):\n",
    "        argumentos = input.xpath('./input/@name')\n",
    "        valores = input.xpath('./input/@value')\n",
    "        #print(argumentos, valores)\n",
    "\n",
    "    for indice in range(len(argumentos)):\n",
    "        cadena += argumentos[indice] + '=' + valores[indice] + '&'\n",
    "\n",
    "    URL_sumario = 'https://dogc.gencat.cat' + str(URL_base_sumario[0]) + '?' + str(cadena[:-1])\n",
    "    print(URL_sumario)\n",
    "    df_URL_sumarios = df_URL_sumarios.append({'URL_Seccion': URL_sumario}, ignore_index=True)\n",
    "\n",
    "## Concatena en df columnas Sccion y URL de sumarios \n",
    "\n",
    "df_sumarios = pd.concat([df_secciones_sumarios, df_URL_sumarios], axis=1)\n",
    "\n",
    "### Recoge Items en Seccion Disposiciones\n",
    "\n",
    "response = requests.get(df_sumarios['URL_Seccion'][0])\n",
    "sumario_HTML = html.fromstring(response.text)\n",
    "\n",
    "#seccion = sumario_HTML.xpath('//*[@id=\"disposicions\"]/div[1]/text()')\n",
    "seccion = sumario_HTML.xpath('//*[@id=\"disposicions\"]/div/text()')\n",
    "bloques = sumario_HTML.xpath('//*[@id=\"disposicions\"]')\n",
    "df_disposiciones = pd.DataFrame(columns=['Seccion','Item_Name','PDF_link'])\n",
    "for bloque in bloques: \n",
    "    item_name = bloque.xpath('./div/p/text()')\n",
    "    #item_name = re.sub('(\\\\r|\\\\n|\\\\t)+', '', item_name[0])\n",
    "    pdf_link = bloque.xpath('./div/div/a[4]/@href')\n",
    "\n",
    "for row in range(len(pdf_link)):\n",
    "    df_disposiciones = df_disposiciones.append({'Item_Name': re.sub('(\\\\r|\\\\n|\\\\t)+', '', item_name[row]),\n",
    "                                            'PDF_link' : pdf_link[row],\n",
    "                                            'Seccion' : seccion[0][:-1]},\n",
    "                                            ignore_index=True)\n",
    "\n",
    "#df_disposiciones\n",
    "\n",
    "def modifica_tabla_resultados_DOGC(tabla):\n",
    "    tabla = tabla.reset_index(drop=True)\n",
    "    tabla['Item_Name'] = '<a href=' + tabla['PDF_link'] + ' ' + 'target=\"_blank\"' + '><div>' + tabla['Item_Name'] + '</div></a>' # Añade url link  pdf a Item_id\n",
    "    tabla.drop(['PDF_link'], axis='columns', inplace=True)\n",
    "    df_html = tabla.reset_index(drop=True).to_html(index='True', classes=\"table-hover\", escape=False) # Utiliza Clase table-hover de Bootstrap\n",
    "    df_html = df_html.replace(\"dataframe\", \"\")  # Elimina clase por defecto dataframe\n",
    "    df_html = df_html.replace('border=\"1\"', 'border=\"2\"')  # Incrementa tamaño línea borde tabla\n",
    "    df_html = df_html.replace(\"<table\", '<table style=\"font-size:12px; text-align: center; width: 100%\" ') # Cambia tamaño fuente a 15px\n",
    "    df_html = df_html.replace(\"<th>\"+ tabla.columns[0], '<th style=\"text-align: center\">'+ tabla.columns[0]) # Cambia alineación a header Columna 1\n",
    "    df_html = df_html.replace(\"<th>\"+ tabla.columns[1], '<th style=\"text-align: center\">'+ tabla.columns[1]) # Cambia alineación a header Columna 2\n",
    "    \n",
    "    return df_html\n",
    "\n",
    "st.header('')\n",
    "st.header('DOGC disposiciones')\n",
    "\n",
    "\n",
    "tabla_resultados_presentacion_DOGC = modifica_tabla_resultados_DOGC(df_disposiciones)\n",
    "\n",
    "st.write(tabla_resultados_presentacion_DOGC, unsafe_allow_html=True)"
   ],
   "cell_type": "markdown",
   "metadata": {}
  }
 ]
}