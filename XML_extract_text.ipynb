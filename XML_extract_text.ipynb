{
 "metadata": {
  "language_info": {
   "codemirror_mode": {
    "name": "ipython",
    "version": 3
   },
   "file_extension": ".py",
   "mimetype": "text/x-python",
   "name": "python",
   "nbconvert_exporter": "python",
   "pygments_lexer": "ipython3",
   "version": "3.7.7-final"
  },
  "orig_nbformat": 2,
  "kernelspec": {
   "name": "python3",
   "display_name": "Python 3.7.7 64-bit ('base': conda)",
   "metadata": {
    "interpreter": {
     "hash": "ba5a5ad8ad50f87090e50fad63d75258be36793c6e5940e781eb379b3998ae98"
    }
   }
  }
 },
 "nbformat": 4,
 "nbformat_minor": 2,
 "cells": [
  {
   "cell_type": "code",
   "execution_count": 325,
   "metadata": {},
   "outputs": [],
   "source": [
    "from lxml import etree\n",
    "import pandas as pd\n",
    "from datetime import date\n",
    "import requests"
   ]
  },
  {
   "cell_type": "code",
   "execution_count": 326,
   "metadata": {},
   "outputs": [],
   "source": [
    "doc = etree.parse('BOE-A-2020-14372.xml')"
   ]
  },
  {
   "cell_type": "code",
   "execution_count": 327,
   "metadata": {},
   "outputs": [],
   "source": [
    "#etree.tostring(doc,pretty_print=True ,xml_declaration=True, encoding=\"utf-8\")"
   ]
  },
  {
   "cell_type": "code",
   "execution_count": 328,
   "metadata": {},
   "outputs": [
    {
     "output_type": "execute_result",
     "data": {
      "text/plain": [
       "'documento'"
      ]
     },
     "metadata": {},
     "execution_count": 328
    }
   ],
   "source": [
    "raiz=doc.getroot()\n",
    "raiz.tag"
   ]
  },
  {
   "cell_type": "code",
   "execution_count": 329,
   "metadata": {},
   "outputs": [
    {
     "output_type": "execute_result",
     "data": {
      "text/plain": [
       "4"
      ]
     },
     "metadata": {},
     "execution_count": 329
    }
   ],
   "source": [
    "len(raiz)"
   ]
  },
  {
   "cell_type": "code",
   "execution_count": 330,
   "metadata": {},
   "outputs": [
    {
     "output_type": "execute_result",
     "data": {
      "text/plain": [
       "'metadatos'"
      ]
     },
     "metadata": {},
     "execution_count": 330
    }
   ],
   "source": [
    "libro=raiz[0]\n",
    "libro.tag"
   ]
  },
  {
   "cell_type": "code",
   "execution_count": 331,
   "metadata": {},
   "outputs": [
    {
     "output_type": "execute_result",
     "data": {
      "text/plain": [
       "'BOE-A-2020-14372'"
      ]
     },
     "metadata": {},
     "execution_count": 331
    }
   ],
   "source": [
    "libro=raiz[0]\n",
    "libro[0].text"
   ]
  },
  {
   "cell_type": "code",
   "execution_count": 332,
   "metadata": {},
   "outputs": [
    {
     "output_type": "execute_result",
     "data": {
      "text/plain": [
       "'{http://www.w3.org/1999/02/22-rdf-syntax-ns#}RDF'"
      ]
     },
     "metadata": {},
     "execution_count": 332
    }
   ],
   "source": [
    "libro=raiz[1]\n",
    "libro[0].tag"
   ]
  },
  {
   "cell_type": "code",
   "execution_count": 333,
   "metadata": {},
   "outputs": [
    {
     "output_type": "execute_result",
     "data": {
      "text/plain": [
       "'\\n            '"
      ]
     },
     "metadata": {},
     "execution_count": 333
    }
   ],
   "source": [
    "libro=raiz[1]\n",
    "libro[0].text"
   ]
  },
  {
   "cell_type": "code",
   "execution_count": 334,
   "metadata": {},
   "outputs": [],
   "source": [
    "Identificador=raiz.find(\"metadatos/identificador\")\n",
    "Titulo=raiz.find(\"metadatos/titulo\")\n",
    "URL_pdf=raiz.find(\"metadatos/url_pdf\")"
   ]
  },
  {
   "cell_type": "code",
   "execution_count": 335,
   "metadata": {},
   "outputs": [
    {
     "output_type": "stream",
     "name": "stdout",
     "text": [
      "BOE-A-2020-14372\nDecreto-ley 35/2020, de 20 de octubre, de modificación del Decreto-ley 19/2020, de 19 de mayo, y del Decreto-ley 29/2020, de 28 de julio, en materia de adopción de medidas sociales y sanitarias para paliar los efectos de la pandemia generada por la COVID-19.\nhttps://www.boe.es/boe/dias/2020/11/18/pdfs/BOE-A-2020-14372.pdf\n"
     ]
    }
   ],
   "source": [
    "print(Identificador.text)\n",
    "print(Titulo.text)\n",
    "print(\"https://www.boe.es\" + URL_pdf.text)\n"
   ]
  },
  {
   "cell_type": "code",
   "execution_count": 336,
   "metadata": {},
   "outputs": [
    {
     "output_type": "execute_result",
     "data": {
      "text/plain": [
       "'Asistencia sanitaria'"
      ]
     },
     "metadata": {},
     "execution_count": 336
    }
   ],
   "source": [
    "materia=raiz.find(\"analisis/materias/materia\")\n",
    "materia.text"
   ]
  },
  {
   "cell_type": "code",
   "execution_count": 337,
   "metadata": {},
   "outputs": [
    {
     "output_type": "stream",
     "name": "stdout",
     "text": [
      "Asistencia sanitaria\nAsistencia social\nAyudas\nCataluña\nCentros residenciales para personas con discapacidad\nEpidemias\nEstablecimientos residenciales para la Tercera Edad\nPagos\nServicios Sociales de las Comunidades Autónomas\n"
     ]
    }
   ],
   "source": [
    "materias=raiz.findall(\"analisis/materias/materia\")\n",
    "for materia in materias:\n",
    "    print(materia.text)"
   ]
  },
  {
   "cell_type": "code",
   "execution_count": 338,
   "metadata": {},
   "outputs": [
    {
     "output_type": "execute_result",
     "data": {
      "text/plain": [
       "list"
      ]
     },
     "metadata": {},
     "execution_count": 338
    }
   ],
   "source": [
    "type(materias)"
   ]
  },
  {
   "cell_type": "code",
   "execution_count": 339,
   "metadata": {},
   "outputs": [
    {
     "output_type": "stream",
     "name": "stdout",
     "text": [
      "Asuntos sociales\nSanidad\n"
     ]
    }
   ],
   "source": [
    "alertas=raiz.findall(\"analisis/alertas/alerta\")\n",
    "for alerta in alertas:\n",
    "    print(alerta.text)"
   ]
  },
  {
   "source": [
    "# Recoge resumen diario del BOE de hoy"
   ],
   "cell_type": "markdown",
   "metadata": {}
  },
  {
   "cell_type": "code",
   "execution_count": 340,
   "metadata": {},
   "outputs": [
    {
     "output_type": "stream",
     "name": "stdout",
     "text": [
      "Fecha de Hoy = 20201127\ndia = 27\nmes = 11\naño = 2020\n"
     ]
    }
   ],
   "source": [
    "\n",
    "today = date.today()\n",
    "\n",
    "# dd/mm/YYYY\n",
    "hoy = today.strftime(\"%Y%m%d\")\n",
    "print(\"Fecha de Hoy =\", hoy)\n",
    "\n",
    "# dd\n",
    "d = today.strftime(\"%d\")\n",
    "print(\"dia =\", d)\n",
    "\n",
    "# mm\n",
    "m = today.strftime(\"%m\")\n",
    "print(\"mes =\", m)\n",
    "\n",
    "# YYYY\n",
    "Y = today.strftime(\"%Y\")\n",
    "print(\"año =\", Y)\n",
    "\n"
   ]
  },
  {
   "cell_type": "code",
   "execution_count": 341,
   "metadata": {},
   "outputs": [],
   "source": [
    "URL_XML_resumen =  \"https://www.boe.es/diario_boe/xml.php?id=BOE-S-\" + str(hoy)"
   ]
  },
  {
   "cell_type": "code",
   "execution_count": 342,
   "metadata": {},
   "outputs": [
    {
     "output_type": "execute_result",
     "data": {
      "text/plain": [
       "'https://www.boe.es/diario_boe/xml.php?id=BOE-S-20201127'"
      ]
     },
     "metadata": {},
     "execution_count": 342
    }
   ],
   "source": [
    "URL_XML_resumen"
   ]
  },
  {
   "cell_type": "code",
   "execution_count": 343,
   "metadata": {},
   "outputs": [],
   "source": [
    "#pip install requests for installation\n",
    "\n",
    "\n",
    "\n",
    "url = URL_XML_resumen\n",
    "r = requests.get(url)\n",
    "#r.content\n",
    "#r.text"
   ]
  },
  {
   "cell_type": "code",
   "execution_count": 344,
   "metadata": {},
   "outputs": [],
   "source": [
    "def save_html(html, path):\n",
    "    with open(path, 'wb') as f:\n",
    "        f.write(html)\n",
    "        \n",
    "#save_html(r.content, './BOEs/resumen.xml')\n",
    "save_html(r.content, './BOEs/Resumen-BOE-' + hoy + '.xml')"
   ]
  },
  {
   "cell_type": "code",
   "execution_count": 345,
   "metadata": {},
   "outputs": [],
   "source": [
    "#r.encoding"
   ]
  },
  {
   "cell_type": "code",
   "execution_count": 346,
   "metadata": {},
   "outputs": [],
   "source": [
    "#resumen = etree.parse('./BOEs/resumen.xml')\n",
    "resumen = etree.parse('./BOEs/Resumen-BOE-' + hoy + '.xml')"
   ]
  },
  {
   "cell_type": "code",
   "execution_count": 347,
   "metadata": {},
   "outputs": [],
   "source": [
    "raiz=resumen.getroot()\n",
    "raiz.tag\n",
    "raiz_sumario = raiz"
   ]
  },
  {
   "cell_type": "code",
   "execution_count": 348,
   "metadata": {},
   "outputs": [
    {
     "output_type": "execute_result",
     "data": {
      "text/plain": [
       "[]"
      ]
     },
     "metadata": {},
     "execution_count": 348
    }
   ],
   "source": [
    "seccion = raiz.findall(\"sumario/diario/seccion\")\n",
    "seccion"
   ]
  },
  {
   "cell_type": "code",
   "execution_count": 349,
   "metadata": {},
   "outputs": [],
   "source": [
    "secciones = raiz.findall(\"sumario/diario/seccion\")\n",
    "for seccion in secciones:\n",
    "    print(seccion.text)"
   ]
  },
  {
   "cell_type": "code",
   "execution_count": 350,
   "metadata": {},
   "outputs": [],
   "source": [
    "tabla_resumen = pd.DataFrame()"
   ]
  },
  {
   "cell_type": "code",
   "execution_count": 351,
   "metadata": {},
   "outputs": [],
   "source": [
    "for seccion in raiz.xpath('//seccion[contains(@nombre, \"I. Disposiciones generales\")]'):\n",
    "    nombre_seccion = seccion.xpath('@nombre')\n",
    "\n",
    "    for departamento in seccion:\n",
    "        nombre_departamento = departamento.xpath('@nombre') \n",
    "\n",
    "        for epigrafe in departamento:\n",
    "            nombre_epigrafe = epigrafe.xpath('@nombre')\n",
    "\n",
    "            for item in epigrafe:\n",
    "                item_id = item.xpath('@id')\n",
    "                item_name = item.xpath('.//titulo/text()') \n",
    "\n",
    "                item_urlXml = \"https://www.boe.es\" + str(item.xpath('.//urlXml/text()'))[2:-2]\n",
    "                #print(item_urlXml)\n",
    "\n",
    "                tabla_resumen = tabla_resumen.append({'Seccion': nombre_seccion, \n",
    "                                                      'Departamento': nombre_departamento, \n",
    "                                                      'Epigrafe' : nombre_epigrafe,\n",
    "                                                      'Item_id': item_id, \n",
    "                                                      'Item_Nombre' : item_name, \n",
    "                                                      'Item_URL_XML' : item_urlXml},\n",
    "                                                      ignore_index=True)\n"
   ]
  },
  {
   "cell_type": "code",
   "execution_count": 352,
   "metadata": {},
   "outputs": [
    {
     "output_type": "execute_result",
     "data": {
      "text/plain": [
       "                                        Departamento  \\\n",
       "0  [MINISTERIO DE ASUNTOS EXTERIORES, UNIÓN EUROP...   \n",
       "1  [MINISTERIO DE TRANSPORTES, MOVILIDAD Y AGENDA...   \n",
       "2          [MINISTERIO DE TRABAJO Y ECONOMÍA SOCIAL]   \n",
       "3      [MINISTERIO DE INDUSTRIA, COMERCIO Y TURISMO]   \n",
       "4  [MINISTERIO DE AGRICULTURA, PESCA Y ALIMENTACIÓN]   \n",
       "5  [MINISTERIO DE ASUNTOS ECONÓMICOS Y TRANSFORMA...   \n",
       "6                            [MINISTERIO DE SANIDAD]   \n",
       "7                                 [TRIBUNAL SUPREMO]   \n",
       "8                                 [TRIBUNAL SUPREMO]   \n",
       "\n",
       "                                     Epigrafe  \\\n",
       "0  [Acuerdos internacionales administrativos]   \n",
       "1                            [Aviación civil]   \n",
       "2      [Formación profesional para el empleo]   \n",
       "3                              [Subvenciones]   \n",
       "4                            [Pesca marítima]   \n",
       "5                [Moneda metálica. Acuñación]   \n",
       "6                              [Subvenciones]   \n",
       "7                                [Sentencias]   \n",
       "8                                [Sentencias]   \n",
       "\n",
       "                                         Item_Nombre  \\\n",
       "0  [Corrección de errores del Acuerdo Internacion...   \n",
       "1  [Resolución de 6 de noviembre de 2020, de la D...   \n",
       "2  [Orden TES/1109/2020, de 25 de noviembre, por ...   \n",
       "3  [Real Decreto 1040/2020, de 24 de noviembre, p...   \n",
       "4  [Real Decreto 968/2020, de 10 de noviembre, po...   \n",
       "5  [Orden ETD/1110/2020, de 25 de noviembre, por ...   \n",
       "6  [Real Decreto 1021/2020, de 17 de noviembre, p...   \n",
       "7  [Sentencia de 29 de septiembre de 2020, de la ...   \n",
       "8  [Sentencia de 15 de octubre de 2020, de la Sal...   \n",
       "\n",
       "                                        Item_URL_XML             Item_id  \\\n",
       "0  https://www.boe.es/diario_boe/xml.php?id=BOE-A...  [BOE-A-2020-15061]   \n",
       "1  https://www.boe.es/diario_boe/xml.php?id=BOE-A...  [BOE-A-2020-15062]   \n",
       "2  https://www.boe.es/diario_boe/xml.php?id=BOE-A...  [BOE-A-2020-15063]   \n",
       "3  https://www.boe.es/diario_boe/xml.php?id=BOE-A...  [BOE-A-2020-15064]   \n",
       "4  https://www.boe.es/diario_boe/xml.php?id=BOE-A...  [BOE-A-2020-15065]   \n",
       "5  https://www.boe.es/diario_boe/xml.php?id=BOE-A...  [BOE-A-2020-15066]   \n",
       "6  https://www.boe.es/diario_boe/xml.php?id=BOE-A...  [BOE-A-2020-15067]   \n",
       "7  https://www.boe.es/diario_boe/xml.php?id=BOE-A...  [BOE-A-2020-15068]   \n",
       "8  https://www.boe.es/diario_boe/xml.php?id=BOE-A...  [BOE-A-2020-15069]   \n",
       "\n",
       "                        Seccion  \n",
       "0  [I. Disposiciones generales]  \n",
       "1  [I. Disposiciones generales]  \n",
       "2  [I. Disposiciones generales]  \n",
       "3  [I. Disposiciones generales]  \n",
       "4  [I. Disposiciones generales]  \n",
       "5  [I. Disposiciones generales]  \n",
       "6  [I. Disposiciones generales]  \n",
       "7  [I. Disposiciones generales]  \n",
       "8  [I. Disposiciones generales]  "
      ],
      "text/html": "<div>\n<style scoped>\n    .dataframe tbody tr th:only-of-type {\n        vertical-align: middle;\n    }\n\n    .dataframe tbody tr th {\n        vertical-align: top;\n    }\n\n    .dataframe thead th {\n        text-align: right;\n    }\n</style>\n<table border=\"1\" class=\"dataframe\">\n  <thead>\n    <tr style=\"text-align: right;\">\n      <th></th>\n      <th>Departamento</th>\n      <th>Epigrafe</th>\n      <th>Item_Nombre</th>\n      <th>Item_URL_XML</th>\n      <th>Item_id</th>\n      <th>Seccion</th>\n    </tr>\n  </thead>\n  <tbody>\n    <tr>\n      <th>0</th>\n      <td>[MINISTERIO DE ASUNTOS EXTERIORES, UNIÓN EUROP...</td>\n      <td>[Acuerdos internacionales administrativos]</td>\n      <td>[Corrección de errores del Acuerdo Internacion...</td>\n      <td>https://www.boe.es/diario_boe/xml.php?id=BOE-A...</td>\n      <td>[BOE-A-2020-15061]</td>\n      <td>[I. Disposiciones generales]</td>\n    </tr>\n    <tr>\n      <th>1</th>\n      <td>[MINISTERIO DE TRANSPORTES, MOVILIDAD Y AGENDA...</td>\n      <td>[Aviación civil]</td>\n      <td>[Resolución de 6 de noviembre de 2020, de la D...</td>\n      <td>https://www.boe.es/diario_boe/xml.php?id=BOE-A...</td>\n      <td>[BOE-A-2020-15062]</td>\n      <td>[I. Disposiciones generales]</td>\n    </tr>\n    <tr>\n      <th>2</th>\n      <td>[MINISTERIO DE TRABAJO Y ECONOMÍA SOCIAL]</td>\n      <td>[Formación profesional para el empleo]</td>\n      <td>[Orden TES/1109/2020, de 25 de noviembre, por ...</td>\n      <td>https://www.boe.es/diario_boe/xml.php?id=BOE-A...</td>\n      <td>[BOE-A-2020-15063]</td>\n      <td>[I. Disposiciones generales]</td>\n    </tr>\n    <tr>\n      <th>3</th>\n      <td>[MINISTERIO DE INDUSTRIA, COMERCIO Y TURISMO]</td>\n      <td>[Subvenciones]</td>\n      <td>[Real Decreto 1040/2020, de 24 de noviembre, p...</td>\n      <td>https://www.boe.es/diario_boe/xml.php?id=BOE-A...</td>\n      <td>[BOE-A-2020-15064]</td>\n      <td>[I. Disposiciones generales]</td>\n    </tr>\n    <tr>\n      <th>4</th>\n      <td>[MINISTERIO DE AGRICULTURA, PESCA Y ALIMENTACIÓN]</td>\n      <td>[Pesca marítima]</td>\n      <td>[Real Decreto 968/2020, de 10 de noviembre, po...</td>\n      <td>https://www.boe.es/diario_boe/xml.php?id=BOE-A...</td>\n      <td>[BOE-A-2020-15065]</td>\n      <td>[I. Disposiciones generales]</td>\n    </tr>\n    <tr>\n      <th>5</th>\n      <td>[MINISTERIO DE ASUNTOS ECONÓMICOS Y TRANSFORMA...</td>\n      <td>[Moneda metálica. Acuñación]</td>\n      <td>[Orden ETD/1110/2020, de 25 de noviembre, por ...</td>\n      <td>https://www.boe.es/diario_boe/xml.php?id=BOE-A...</td>\n      <td>[BOE-A-2020-15066]</td>\n      <td>[I. Disposiciones generales]</td>\n    </tr>\n    <tr>\n      <th>6</th>\n      <td>[MINISTERIO DE SANIDAD]</td>\n      <td>[Subvenciones]</td>\n      <td>[Real Decreto 1021/2020, de 17 de noviembre, p...</td>\n      <td>https://www.boe.es/diario_boe/xml.php?id=BOE-A...</td>\n      <td>[BOE-A-2020-15067]</td>\n      <td>[I. Disposiciones generales]</td>\n    </tr>\n    <tr>\n      <th>7</th>\n      <td>[TRIBUNAL SUPREMO]</td>\n      <td>[Sentencias]</td>\n      <td>[Sentencia de 29 de septiembre de 2020, de la ...</td>\n      <td>https://www.boe.es/diario_boe/xml.php?id=BOE-A...</td>\n      <td>[BOE-A-2020-15068]</td>\n      <td>[I. Disposiciones generales]</td>\n    </tr>\n    <tr>\n      <th>8</th>\n      <td>[TRIBUNAL SUPREMO]</td>\n      <td>[Sentencias]</td>\n      <td>[Sentencia de 15 de octubre de 2020, de la Sal...</td>\n      <td>https://www.boe.es/diario_boe/xml.php?id=BOE-A...</td>\n      <td>[BOE-A-2020-15069]</td>\n      <td>[I. Disposiciones generales]</td>\n    </tr>\n  </tbody>\n</table>\n</div>"
     },
     "metadata": {},
     "execution_count": 352
    }
   ],
   "source": [
    "tabla_resumen.sort_values('Item_id')"
   ]
  },
  {
   "source": [
    "# Descarga ficheros XML asociados"
   ],
   "cell_type": "markdown",
   "metadata": {}
  },
  {
   "cell_type": "code",
   "execution_count": 353,
   "metadata": {},
   "outputs": [],
   "source": [
    "for item_URL in tabla_resumen['Item_URL_XML']:\n",
    "    #print(URL)\n",
    "    r = requests.get(item_URL)\n",
    "    f = './BOEs/' + item_URL[-16:] + '.xml'\n",
    "    save_html(r.content, f)"
   ]
  },
  {
   "cell_type": "code",
   "execution_count": 354,
   "metadata": {},
   "outputs": [
    {
     "output_type": "stream",
     "name": "stdout",
     "text": [
      "['./BOEs/BOE-A-2020-14465.xml', './BOEs/BOE-A-2020-14459.xml', './BOEs/BOE-A-2020-14458.xml', './BOEs/BOE-A-2020-14464.xml', './BOEs/BOE-A-2020-14466.xml', './BOEs/BOE-A-2020-14880.xml', './BOEs/BOE-A-2020-14467.xml', './BOEs/BOE-A-2020-14463.xml', './BOEs/BOE-A-2020-14462.xml', './BOEs/BOE-A-2020-14460.xml', './BOEs/BOE-A-2020-14879.xml', './BOEs/BOE-A-2020-14878.xml', './BOEs/BOE-A-2020-14461.xml', './BOEs/BOE-A-2020-14957.xml', './BOEs/BOE-A-2020-14956.xml', './BOEs/BOE-A-2020-15069.xml', './BOEs/BOE-A-2020-15068.xml', './BOEs/BOE-A-2020-14962.xml', './BOEs/BOE-A-2020-15063.xml', './BOEs/BOE-A-2020-15062.xml', './BOEs/BOE-A-2020-14963.xml', './BOEs/BOE-A-2020-14961.xml', './BOEs/BOE-A-2020-15061.xml', './BOEs/BOE-A-2020-14960.xml', './BOEs/BOE-A-2020-14964.xml', './BOEs/BOE-A-2020-14958.xml', './BOEs/BOE-A-2020-15065.xml', './BOEs/BOE-A-2020-15064.xml', './BOEs/BOE-A-2020-14959.xml', './BOEs/BOE-A-2020-14965.xml', './BOEs/BOE-A-2020-15066.xml', './BOEs/BOE-A-2020-15067.xml', './BOEs/BOE-A-2020-14875.xml', './BOEs/BOE-A-2020-14876.xml', './BOEs/BOE-A-2020-14877.xml', './BOEs/BOE-A-2020-14457.xml']\n"
     ]
    }
   ],
   "source": [
    "\n",
    "import glob\n",
    "BOEs = glob.glob('./BOEs/BOE*.xml')\n",
    "print (BOEs)"
   ]
  },
  {
   "cell_type": "code",
   "execution_count": 355,
   "metadata": {},
   "outputs": [],
   "source": [
    "#import os\n",
    "#path = './BOEs'\n",
    "#BOEs = [f for f in os.listdir(path) if f.startswith('BOE')]\n",
    "#BOEs"
   ]
  },
  {
   "cell_type": "code",
   "execution_count": 356,
   "metadata": {},
   "outputs": [],
   "source": [
    "tabla_materias = pd.DataFrame()\n",
    "\n",
    "for BOE in BOEs:\n",
    "    #print (BOE)\n",
    "    BOE_XML = etree.parse(BOE)\n",
    "    raiz=BOE_XML.getroot()\n",
    "\n",
    "    materias = [materia.text for materia in raiz.findall('analisis/materias/materia')]\n",
    "    alertas = [alerta.text for alerta in raiz.findall('analisis/alertas/alerta')]\n",
    "    #Item_Id = '[' + BOE[7:23] + ']'\n",
    "    #Item_Id = raiz.find('metadatos/identificador')\n",
    "    Item_Id = raiz.xpath(\".//identificador/text()\")\n",
    " \n",
    "    #print(Item_Id, materias, alertas)\n",
    "    #tabla_materias.loc[['Item_id'], ['Materias']] = materias\n",
    "    tabla_materias = tabla_materias.append({'Item_id': Item_Id,\n",
    "                                            'Materias' : materias,\n",
    "                                            'Alertas' : alertas},\n",
    "                                            ignore_index=True)\n",
    "\n",
    "    #tabla_materias.Item_id.apply(list)\n",
    "    #fila_tabla = tabla_resumen.set_index('Item_id').filter(like=BOE[18:23], axis=0).reset_index()\n",
    "    #print(fila_tabla['Item_id'])\n",
    "\n",
    "    #tabla_resumen.loc[fila_tabla['Item_id']]['Materias'] = materias\n"
   ]
  },
  {
   "cell_type": "code",
   "execution_count": 357,
   "metadata": {},
   "outputs": [
    {
     "output_type": "execute_result",
     "data": {
      "text/plain": [
       "                                              Alertas             Item_id  \\\n",
       "35  [Relaciones internacionales, Sanidad, Sistema ...  [BOE-A-2020-14457]   \n",
       "2   [Educación y enseñanza, Relaciones internacion...  [BOE-A-2020-14458]   \n",
       "1   [Educación y enseñanza, Relaciones internacion...  [BOE-A-2020-14459]   \n",
       "9    [Administración de Justicia, Sistema financiero]  [BOE-A-2020-14460]   \n",
       "12                               [Sistema financiero]  [BOE-A-2020-14461]   \n",
       "8   [Comercio, Educación y enseñanza, Industria, S...  [BOE-A-2020-14462]   \n",
       "7   [Agricultura, Educación y enseñanza, Ganadería...  [BOE-A-2020-14463]   \n",
       "3   [Educación y enseñanza, Medio ambiente, Seguri...  [BOE-A-2020-14464]   \n",
       "0   [Educación y enseñanza, Pesca, Trabajo y emple...  [BOE-A-2020-14465]   \n",
       "4                                 [Comercio, Sanidad]  [BOE-A-2020-14466]   \n",
       "6                                                  []  [BOE-A-2020-14467]   \n",
       "32  [Asuntos sociales, Medio ambiente, Relaciones ...  [BOE-A-2020-14875]   \n",
       "33  [Organización de la Administración, Sanidad, S...  [BOE-A-2020-14876]   \n",
       "34                      [Sanidad, Sistema financiero]  [BOE-A-2020-14877]   \n",
       "11                [Organización de la Administración]  [BOE-A-2020-14878]   \n",
       "10                   [Asuntos sociales, Discapacidad]  [BOE-A-2020-14879]   \n",
       "5   [Asuntos sociales, Derecho Administrativo, Dis...  [BOE-A-2020-14880]   \n",
       "14  [Derecho Constitucional, Organización de la Ad...  [BOE-A-2020-14956]   \n",
       "13  [Agricultura, Deporte, Derecho Constitucional,...  [BOE-A-2020-14957]   \n",
       "25  [Derecho Constitucional, Organización de la Ad...  [BOE-A-2020-14958]   \n",
       "28  [Derecho Constitucional, Sistema tributario, V...  [BOE-A-2020-14959]   \n",
       "23  [Derecho Administrativo, Organización de la Ad...  [BOE-A-2020-14960]   \n",
       "21                                   [Cultura y ocio]  [BOE-A-2020-14961]   \n",
       "17  [Derecho Administrativo, Derecho Mercantil, Si...  [BOE-A-2020-14962]   \n",
       "20   [Derecho Mercantil, Sanidad, Sistema financiero]  [BOE-A-2020-14963]   \n",
       "24   [Derecho Mercantil, Sanidad, Sistema financiero]  [BOE-A-2020-14964]   \n",
       "29                                 [Seguridad Social]  [BOE-A-2020-14965]   \n",
       "22  [Relaciones internacionales, Sanidad, Sistema ...  [BOE-A-2020-15061]   \n",
       "19          [Trabajo y empleo, Transportes y tráfico]  [BOE-A-2020-15062]   \n",
       "18                                 [Trabajo y empleo]  [BOE-A-2020-15063]   \n",
       "27                           [Obras y construcciones]  [BOE-A-2020-15064]   \n",
       "26                                            [Pesca]  [BOE-A-2020-15065]   \n",
       "30                                   [Cultura y ocio]  [BOE-A-2020-15066]   \n",
       "31                                          [Sanidad]  [BOE-A-2020-15067]   \n",
       "16    [Derecho Administrativo, Transportes y tráfico]  [BOE-A-2020-15068]   \n",
       "15    [Derecho Administrativo, Transportes y tráfico]  [BOE-A-2020-15069]   \n",
       "\n",
       "                                             Materias  \n",
       "35  [Acuerdos internacionales, Créditos Presupuest...  \n",
       "2   [Acuerdos internacionales, Barcelona, Centros ...  \n",
       "1   [Acuerdos internacionales, Barcelona, Centros ...  \n",
       "9   [Ayuntamientos, Créditos Presupuestarios, Juzg...  \n",
       "12  [Administración y Contabilidad de la Hacienda ...  \n",
       "8   [Catálogo Nacional de Cualificaciones Profesio...  \n",
       "7   [Agricultura, Catálogo Nacional de Cualificaci...  \n",
       "3   [Bomberos, Catálogo Nacional de Cualificacione...  \n",
       "0   [Actividades subacuáticas, Acuicultura, Catálo...  \n",
       "4   [Comercialización, Epidemias, Material sanitar...  \n",
       "6   [Actividades económicas, Administración Local,...  \n",
       "32  [Acuerdos internacionales, Ayuda al desarrollo...  \n",
       "33  [Asistencia sanitaria, Ayudas, Cesión de Tribu...  \n",
       "34  [Asistencia sanitaria, Ayudas, Comunidades Aut...  \n",
       "11  [Dirección General de Ordenación Profesional, ...  \n",
       "10  [Asistencia social, Ceuta, Discapacidad, Melil...  \n",
       "5   [Asistencia social, Asociaciones, Ayudas, Dire...  \n",
       "14  [Asturias, Organización de las Comunidades Aut...  \n",
       "13  [Agricultura, Comités consultivos, Contaminaci...  \n",
       "25  [Comunidades Autónomas, Delegación de atribuci...  \n",
       "28  [Ayuntamientos, Catastros, Cuestiones de incon...  \n",
       "23  [Agencia Española de Medicamentos y Productos ...  \n",
       "21  [Ayudas, Cultura, Epidemias, Instituto Naciona...  \n",
       "17  [Aval, Caja General de Depósitos, Depósitos, D...  \n",
       "20  [Aval, Ayudas, Empresas, Epidemias, Instituto ...  \n",
       "24  [Aval, Ayudas, Empresas, Epidemias, Instituto ...  \n",
       "29  [Carbón, Cotización a la Seguridad Social, Min...  \n",
       "22  [Acuerdos internacionales, Créditos Presupuest...  \n",
       "19  [Agencias estatales, Descanso laboral, Epidemi...  \n",
       "18  [Ayudas, Becas, Capacitación profesional, Dese...  \n",
       "27  [Congresos, Edificaciones, León, Ministerio de...  \n",
       "26  [Cantábrico, Cuota de pesca, Material de pesca...  \n",
       "30       [Monedas conmemorativas, Transportes aéreos]  \n",
       "31  [Asistencia farmacéutica, Asistencia sanitaria...  \n",
       "16  [Autorizaciones, Empresas de transporte, Trans...  \n",
       "15  [Autorizaciones, Conductores de vehículos de m...  "
      ],
      "text/html": "<div>\n<style scoped>\n    .dataframe tbody tr th:only-of-type {\n        vertical-align: middle;\n    }\n\n    .dataframe tbody tr th {\n        vertical-align: top;\n    }\n\n    .dataframe thead th {\n        text-align: right;\n    }\n</style>\n<table border=\"1\" class=\"dataframe\">\n  <thead>\n    <tr style=\"text-align: right;\">\n      <th></th>\n      <th>Alertas</th>\n      <th>Item_id</th>\n      <th>Materias</th>\n    </tr>\n  </thead>\n  <tbody>\n    <tr>\n      <th>35</th>\n      <td>[Relaciones internacionales, Sanidad, Sistema ...</td>\n      <td>[BOE-A-2020-14457]</td>\n      <td>[Acuerdos internacionales, Créditos Presupuest...</td>\n    </tr>\n    <tr>\n      <th>2</th>\n      <td>[Educación y enseñanza, Relaciones internacion...</td>\n      <td>[BOE-A-2020-14458]</td>\n      <td>[Acuerdos internacionales, Barcelona, Centros ...</td>\n    </tr>\n    <tr>\n      <th>1</th>\n      <td>[Educación y enseñanza, Relaciones internacion...</td>\n      <td>[BOE-A-2020-14459]</td>\n      <td>[Acuerdos internacionales, Barcelona, Centros ...</td>\n    </tr>\n    <tr>\n      <th>9</th>\n      <td>[Administración de Justicia, Sistema financiero]</td>\n      <td>[BOE-A-2020-14460]</td>\n      <td>[Ayuntamientos, Créditos Presupuestarios, Juzg...</td>\n    </tr>\n    <tr>\n      <th>12</th>\n      <td>[Sistema financiero]</td>\n      <td>[BOE-A-2020-14461]</td>\n      <td>[Administración y Contabilidad de la Hacienda ...</td>\n    </tr>\n    <tr>\n      <th>8</th>\n      <td>[Comercio, Educación y enseñanza, Industria, S...</td>\n      <td>[BOE-A-2020-14462]</td>\n      <td>[Catálogo Nacional de Cualificaciones Profesio...</td>\n    </tr>\n    <tr>\n      <th>7</th>\n      <td>[Agricultura, Educación y enseñanza, Ganadería...</td>\n      <td>[BOE-A-2020-14463]</td>\n      <td>[Agricultura, Catálogo Nacional de Cualificaci...</td>\n    </tr>\n    <tr>\n      <th>3</th>\n      <td>[Educación y enseñanza, Medio ambiente, Seguri...</td>\n      <td>[BOE-A-2020-14464]</td>\n      <td>[Bomberos, Catálogo Nacional de Cualificacione...</td>\n    </tr>\n    <tr>\n      <th>0</th>\n      <td>[Educación y enseñanza, Pesca, Trabajo y emple...</td>\n      <td>[BOE-A-2020-14465]</td>\n      <td>[Actividades subacuáticas, Acuicultura, Catálo...</td>\n    </tr>\n    <tr>\n      <th>4</th>\n      <td>[Comercio, Sanidad]</td>\n      <td>[BOE-A-2020-14466]</td>\n      <td>[Comercialización, Epidemias, Material sanitar...</td>\n    </tr>\n    <tr>\n      <th>6</th>\n      <td>[]</td>\n      <td>[BOE-A-2020-14467]</td>\n      <td>[Actividades económicas, Administración Local,...</td>\n    </tr>\n    <tr>\n      <th>32</th>\n      <td>[Asuntos sociales, Medio ambiente, Relaciones ...</td>\n      <td>[BOE-A-2020-14875]</td>\n      <td>[Acuerdos internacionales, Ayuda al desarrollo...</td>\n    </tr>\n    <tr>\n      <th>33</th>\n      <td>[Organización de la Administración, Sanidad, S...</td>\n      <td>[BOE-A-2020-14876]</td>\n      <td>[Asistencia sanitaria, Ayudas, Cesión de Tribu...</td>\n    </tr>\n    <tr>\n      <th>34</th>\n      <td>[Sanidad, Sistema financiero]</td>\n      <td>[BOE-A-2020-14877]</td>\n      <td>[Asistencia sanitaria, Ayudas, Comunidades Aut...</td>\n    </tr>\n    <tr>\n      <th>11</th>\n      <td>[Organización de la Administración]</td>\n      <td>[BOE-A-2020-14878]</td>\n      <td>[Dirección General de Ordenación Profesional, ...</td>\n    </tr>\n    <tr>\n      <th>10</th>\n      <td>[Asuntos sociales, Discapacidad]</td>\n      <td>[BOE-A-2020-14879]</td>\n      <td>[Asistencia social, Ceuta, Discapacidad, Melil...</td>\n    </tr>\n    <tr>\n      <th>5</th>\n      <td>[Asuntos sociales, Derecho Administrativo, Dis...</td>\n      <td>[BOE-A-2020-14880]</td>\n      <td>[Asistencia social, Asociaciones, Ayudas, Dire...</td>\n    </tr>\n    <tr>\n      <th>14</th>\n      <td>[Derecho Constitucional, Organización de la Ad...</td>\n      <td>[BOE-A-2020-14956]</td>\n      <td>[Asturias, Organización de las Comunidades Aut...</td>\n    </tr>\n    <tr>\n      <th>13</th>\n      <td>[Agricultura, Deporte, Derecho Constitucional,...</td>\n      <td>[BOE-A-2020-14957]</td>\n      <td>[Agricultura, Comités consultivos, Contaminaci...</td>\n    </tr>\n    <tr>\n      <th>25</th>\n      <td>[Derecho Constitucional, Organización de la Ad...</td>\n      <td>[BOE-A-2020-14958]</td>\n      <td>[Comunidades Autónomas, Delegación de atribuci...</td>\n    </tr>\n    <tr>\n      <th>28</th>\n      <td>[Derecho Constitucional, Sistema tributario, V...</td>\n      <td>[BOE-A-2020-14959]</td>\n      <td>[Ayuntamientos, Catastros, Cuestiones de incon...</td>\n    </tr>\n    <tr>\n      <th>23</th>\n      <td>[Derecho Administrativo, Organización de la Ad...</td>\n      <td>[BOE-A-2020-14960]</td>\n      <td>[Agencia Española de Medicamentos y Productos ...</td>\n    </tr>\n    <tr>\n      <th>21</th>\n      <td>[Cultura y ocio]</td>\n      <td>[BOE-A-2020-14961]</td>\n      <td>[Ayudas, Cultura, Epidemias, Instituto Naciona...</td>\n    </tr>\n    <tr>\n      <th>17</th>\n      <td>[Derecho Administrativo, Derecho Mercantil, Si...</td>\n      <td>[BOE-A-2020-14962]</td>\n      <td>[Aval, Caja General de Depósitos, Depósitos, D...</td>\n    </tr>\n    <tr>\n      <th>20</th>\n      <td>[Derecho Mercantil, Sanidad, Sistema financiero]</td>\n      <td>[BOE-A-2020-14963]</td>\n      <td>[Aval, Ayudas, Empresas, Epidemias, Instituto ...</td>\n    </tr>\n    <tr>\n      <th>24</th>\n      <td>[Derecho Mercantil, Sanidad, Sistema financiero]</td>\n      <td>[BOE-A-2020-14964]</td>\n      <td>[Aval, Ayudas, Empresas, Epidemias, Instituto ...</td>\n    </tr>\n    <tr>\n      <th>29</th>\n      <td>[Seguridad Social]</td>\n      <td>[BOE-A-2020-14965]</td>\n      <td>[Carbón, Cotización a la Seguridad Social, Min...</td>\n    </tr>\n    <tr>\n      <th>22</th>\n      <td>[Relaciones internacionales, Sanidad, Sistema ...</td>\n      <td>[BOE-A-2020-15061]</td>\n      <td>[Acuerdos internacionales, Créditos Presupuest...</td>\n    </tr>\n    <tr>\n      <th>19</th>\n      <td>[Trabajo y empleo, Transportes y tráfico]</td>\n      <td>[BOE-A-2020-15062]</td>\n      <td>[Agencias estatales, Descanso laboral, Epidemi...</td>\n    </tr>\n    <tr>\n      <th>18</th>\n      <td>[Trabajo y empleo]</td>\n      <td>[BOE-A-2020-15063]</td>\n      <td>[Ayudas, Becas, Capacitación profesional, Dese...</td>\n    </tr>\n    <tr>\n      <th>27</th>\n      <td>[Obras y construcciones]</td>\n      <td>[BOE-A-2020-15064]</td>\n      <td>[Congresos, Edificaciones, León, Ministerio de...</td>\n    </tr>\n    <tr>\n      <th>26</th>\n      <td>[Pesca]</td>\n      <td>[BOE-A-2020-15065]</td>\n      <td>[Cantábrico, Cuota de pesca, Material de pesca...</td>\n    </tr>\n    <tr>\n      <th>30</th>\n      <td>[Cultura y ocio]</td>\n      <td>[BOE-A-2020-15066]</td>\n      <td>[Monedas conmemorativas, Transportes aéreos]</td>\n    </tr>\n    <tr>\n      <th>31</th>\n      <td>[Sanidad]</td>\n      <td>[BOE-A-2020-15067]</td>\n      <td>[Asistencia farmacéutica, Asistencia sanitaria...</td>\n    </tr>\n    <tr>\n      <th>16</th>\n      <td>[Derecho Administrativo, Transportes y tráfico]</td>\n      <td>[BOE-A-2020-15068]</td>\n      <td>[Autorizaciones, Empresas de transporte, Trans...</td>\n    </tr>\n    <tr>\n      <th>15</th>\n      <td>[Derecho Administrativo, Transportes y tráfico]</td>\n      <td>[BOE-A-2020-15069]</td>\n      <td>[Autorizaciones, Conductores de vehículos de m...</td>\n    </tr>\n  </tbody>\n</table>\n</div>"
     },
     "metadata": {},
     "execution_count": 357
    }
   ],
   "source": [
    "tabla_materias.sort_values('Item_id')"
   ]
  },
  {
   "cell_type": "code",
   "execution_count": 358,
   "metadata": {},
   "outputs": [
    {
     "output_type": "stream",
     "name": "stdout",
     "text": [
      "documento\n"
     ]
    }
   ],
   "source": [
    "print(raiz.tag)"
   ]
  },
  {
   "cell_type": "code",
   "execution_count": 359,
   "metadata": {},
   "outputs": [
    {
     "output_type": "stream",
     "name": "stdout",
     "text": [
      "[]\n"
     ]
    }
   ],
   "source": [
    "for materias in raiz.xpath('.//materias'):\n",
    "    materia = seccion.xpath('.//materia/text()')\n",
    "    print(materia)"
   ]
  },
  {
   "cell_type": "code",
   "execution_count": 360,
   "metadata": {},
   "outputs": [
    {
     "output_type": "stream",
     "name": "stdout",
     "text": [
      "Acuerdos internacionales\nCréditos Presupuestarios\nMinisterio de Sanidad\nOrganización Mundial de la Salud\nTrasplantes de órganos\n"
     ]
    }
   ],
   "source": [
    "materias=raiz.findall(\"analisis/materias/materia\")\n",
    "for materia in materias:\n",
    "    print(materia.text)"
   ]
  },
  {
   "cell_type": "code",
   "execution_count": 361,
   "metadata": {},
   "outputs": [
    {
     "output_type": "stream",
     "name": "stdout",
     "text": [
      "Relaciones internacionales\nSanidad\nSistema financiero\n"
     ]
    }
   ],
   "source": [
    "alertas=raiz.findall(\"analisis/alertas/alerta\")\n",
    "for alerta in alertas:\n",
    "    print(alerta.text)"
   ]
  },
  {
   "cell_type": "code",
   "execution_count": 362,
   "metadata": {},
   "outputs": [
    {
     "output_type": "stream",
     "name": "stdout",
     "text": [
      "Empty DataFrame\nColumns: [Departamento, Epigrafe, Item_Nombre, Item_URL_XML, Item_id, Seccion]\nIndex: []\n"
     ]
    }
   ],
   "source": [
    "#tabla_resumen.loc[tabla_resumen['Item_id'] == '[' + BOE[7:23] + ']']\n",
    "print(tabla_resumen.loc[tabla_resumen['Item_id'] == '[BOE-A-2020-14457]'])"
   ]
  },
  {
   "cell_type": "code",
   "execution_count": 363,
   "metadata": {},
   "outputs": [
    {
     "output_type": "execute_result",
     "data": {
      "text/plain": [
       "'BOE-A-2020-14457'"
      ]
     },
     "metadata": {},
     "execution_count": 363
    }
   ],
   "source": [
    "BOE[7:23]"
   ]
  },
  {
   "cell_type": "code",
   "execution_count": 364,
   "metadata": {},
   "outputs": [
    {
     "output_type": "execute_result",
     "data": {
      "text/plain": [
       "0    [BOE-A-2020-15061]\n",
       "1    [BOE-A-2020-15062]\n",
       "2    [BOE-A-2020-15063]\n",
       "3    [BOE-A-2020-15064]\n",
       "4    [BOE-A-2020-15065]\n",
       "5    [BOE-A-2020-15066]\n",
       "6    [BOE-A-2020-15067]\n",
       "7    [BOE-A-2020-15068]\n",
       "8    [BOE-A-2020-15069]\n",
       "Name: Item_id, dtype: object"
      ]
     },
     "metadata": {},
     "execution_count": 364
    }
   ],
   "source": [
    "tabla_resumen['Item_id']"
   ]
  },
  {
   "cell_type": "code",
   "execution_count": 365,
   "metadata": {},
   "outputs": [
    {
     "output_type": "execute_result",
     "data": {
      "text/plain": [
       "0     [BOE-A-2020-14465]\n",
       "1     [BOE-A-2020-14459]\n",
       "2     [BOE-A-2020-14458]\n",
       "3     [BOE-A-2020-14464]\n",
       "4     [BOE-A-2020-14466]\n",
       "5     [BOE-A-2020-14880]\n",
       "6     [BOE-A-2020-14467]\n",
       "7     [BOE-A-2020-14463]\n",
       "8     [BOE-A-2020-14462]\n",
       "9     [BOE-A-2020-14460]\n",
       "10    [BOE-A-2020-14879]\n",
       "11    [BOE-A-2020-14878]\n",
       "12    [BOE-A-2020-14461]\n",
       "13    [BOE-A-2020-14957]\n",
       "14    [BOE-A-2020-14956]\n",
       "15    [BOE-A-2020-15069]\n",
       "16    [BOE-A-2020-15068]\n",
       "17    [BOE-A-2020-14962]\n",
       "18    [BOE-A-2020-15063]\n",
       "19    [BOE-A-2020-15062]\n",
       "20    [BOE-A-2020-14963]\n",
       "21    [BOE-A-2020-14961]\n",
       "22    [BOE-A-2020-15061]\n",
       "23    [BOE-A-2020-14960]\n",
       "24    [BOE-A-2020-14964]\n",
       "25    [BOE-A-2020-14958]\n",
       "26    [BOE-A-2020-15065]\n",
       "27    [BOE-A-2020-15064]\n",
       "28    [BOE-A-2020-14959]\n",
       "29    [BOE-A-2020-14965]\n",
       "30    [BOE-A-2020-15066]\n",
       "31    [BOE-A-2020-15067]\n",
       "32    [BOE-A-2020-14875]\n",
       "33    [BOE-A-2020-14876]\n",
       "34    [BOE-A-2020-14877]\n",
       "35    [BOE-A-2020-14457]\n",
       "Name: Item_id, dtype: object"
      ]
     },
     "metadata": {},
     "execution_count": 365
    }
   ],
   "source": [
    "tabla_materias['Item_id']"
   ]
  },
  {
   "cell_type": "code",
   "execution_count": 366,
   "metadata": {},
   "outputs": [
    {
     "output_type": "execute_result",
     "data": {
      "text/plain": [
       "Departamento    object\n",
       "Epigrafe        object\n",
       "Item_Nombre     object\n",
       "Item_URL_XML    object\n",
       "Item_id         object\n",
       "Seccion         object\n",
       "dtype: object"
      ]
     },
     "metadata": {},
     "execution_count": 366
    }
   ],
   "source": [
    "tabla_resumen.dtypes"
   ]
  },
  {
   "cell_type": "code",
   "execution_count": 367,
   "metadata": {},
   "outputs": [
    {
     "output_type": "execute_result",
     "data": {
      "text/plain": [
       "Empty DataFrame\n",
       "Columns: [Departamento, Epigrafe, Item_Nombre, Item_URL_XML, Seccion]\n",
       "Index: []"
      ],
      "text/html": "<div>\n<style scoped>\n    .dataframe tbody tr th:only-of-type {\n        vertical-align: middle;\n    }\n\n    .dataframe tbody tr th {\n        vertical-align: top;\n    }\n\n    .dataframe thead th {\n        text-align: right;\n    }\n</style>\n<table border=\"1\" class=\"dataframe\">\n  <thead>\n    <tr style=\"text-align: right;\">\n      <th></th>\n      <th>Departamento</th>\n      <th>Epigrafe</th>\n      <th>Item_Nombre</th>\n      <th>Item_URL_XML</th>\n      <th>Seccion</th>\n    </tr>\n    <tr>\n      <th>Item_id</th>\n      <th></th>\n      <th></th>\n      <th></th>\n      <th></th>\n      <th></th>\n    </tr>\n  </thead>\n  <tbody>\n  </tbody>\n</table>\n</div>"
     },
     "metadata": {},
     "execution_count": 367
    }
   ],
   "source": [
    "tabla_resumen.set_index('Item_id').filter(like='14875', axis=0)"
   ]
  },
  {
   "cell_type": "code",
   "execution_count": 368,
   "metadata": {},
   "outputs": [],
   "source": [
    "#tabla_resumen = tabla_resumen.astype(str)\n",
    "#tabla_resumen['Joined'] = tabla_resumen.Item_id.apply(', '.join)\n",
    "#tabla_resumen['Item_id']=tabla_resumen['Item_id']"
   ]
  },
  {
   "cell_type": "code",
   "execution_count": 369,
   "metadata": {},
   "outputs": [
    {
     "output_type": "execute_result",
     "data": {
      "text/plain": [
       "Departamento    object\n",
       "Epigrafe        object\n",
       "Item_Nombre     object\n",
       "Item_URL_XML    object\n",
       "Item_id         object\n",
       "Seccion         object\n",
       "dtype: object"
      ]
     },
     "metadata": {},
     "execution_count": 369
    }
   ],
   "source": [
    "tabla_resumen.dtypes"
   ]
  },
  {
   "cell_type": "code",
   "execution_count": 370,
   "metadata": {},
   "outputs": [
    {
     "output_type": "execute_result",
     "data": {
      "text/plain": [
       "                                        Departamento  \\\n",
       "0  [MINISTERIO DE ASUNTOS EXTERIORES, UNIÓN EUROP...   \n",
       "1  [MINISTERIO DE TRANSPORTES, MOVILIDAD Y AGENDA...   \n",
       "2          [MINISTERIO DE TRABAJO Y ECONOMÍA SOCIAL]   \n",
       "3      [MINISTERIO DE INDUSTRIA, COMERCIO Y TURISMO]   \n",
       "4  [MINISTERIO DE AGRICULTURA, PESCA Y ALIMENTACIÓN]   \n",
       "5  [MINISTERIO DE ASUNTOS ECONÓMICOS Y TRANSFORMA...   \n",
       "6                            [MINISTERIO DE SANIDAD]   \n",
       "7                                 [TRIBUNAL SUPREMO]   \n",
       "8                                 [TRIBUNAL SUPREMO]   \n",
       "\n",
       "                                     Epigrafe  \\\n",
       "0  [Acuerdos internacionales administrativos]   \n",
       "1                            [Aviación civil]   \n",
       "2      [Formación profesional para el empleo]   \n",
       "3                              [Subvenciones]   \n",
       "4                            [Pesca marítima]   \n",
       "5                [Moneda metálica. Acuñación]   \n",
       "6                              [Subvenciones]   \n",
       "7                                [Sentencias]   \n",
       "8                                [Sentencias]   \n",
       "\n",
       "                                         Item_Nombre  \\\n",
       "0  [Corrección de errores del Acuerdo Internacion...   \n",
       "1  [Resolución de 6 de noviembre de 2020, de la D...   \n",
       "2  [Orden TES/1109/2020, de 25 de noviembre, por ...   \n",
       "3  [Real Decreto 1040/2020, de 24 de noviembre, p...   \n",
       "4  [Real Decreto 968/2020, de 10 de noviembre, po...   \n",
       "5  [Orden ETD/1110/2020, de 25 de noviembre, por ...   \n",
       "6  [Real Decreto 1021/2020, de 17 de noviembre, p...   \n",
       "7  [Sentencia de 29 de septiembre de 2020, de la ...   \n",
       "8  [Sentencia de 15 de octubre de 2020, de la Sal...   \n",
       "\n",
       "                                        Item_URL_XML             Item_id  \\\n",
       "0  https://www.boe.es/diario_boe/xml.php?id=BOE-A...  [BOE-A-2020-15061]   \n",
       "1  https://www.boe.es/diario_boe/xml.php?id=BOE-A...  [BOE-A-2020-15062]   \n",
       "2  https://www.boe.es/diario_boe/xml.php?id=BOE-A...  [BOE-A-2020-15063]   \n",
       "3  https://www.boe.es/diario_boe/xml.php?id=BOE-A...  [BOE-A-2020-15064]   \n",
       "4  https://www.boe.es/diario_boe/xml.php?id=BOE-A...  [BOE-A-2020-15065]   \n",
       "5  https://www.boe.es/diario_boe/xml.php?id=BOE-A...  [BOE-A-2020-15066]   \n",
       "6  https://www.boe.es/diario_boe/xml.php?id=BOE-A...  [BOE-A-2020-15067]   \n",
       "7  https://www.boe.es/diario_boe/xml.php?id=BOE-A...  [BOE-A-2020-15068]   \n",
       "8  https://www.boe.es/diario_boe/xml.php?id=BOE-A...  [BOE-A-2020-15069]   \n",
       "\n",
       "                        Seccion  \n",
       "0  [I. Disposiciones generales]  \n",
       "1  [I. Disposiciones generales]  \n",
       "2  [I. Disposiciones generales]  \n",
       "3  [I. Disposiciones generales]  \n",
       "4  [I. Disposiciones generales]  \n",
       "5  [I. Disposiciones generales]  \n",
       "6  [I. Disposiciones generales]  \n",
       "7  [I. Disposiciones generales]  \n",
       "8  [I. Disposiciones generales]  "
      ],
      "text/html": "<div>\n<style scoped>\n    .dataframe tbody tr th:only-of-type {\n        vertical-align: middle;\n    }\n\n    .dataframe tbody tr th {\n        vertical-align: top;\n    }\n\n    .dataframe thead th {\n        text-align: right;\n    }\n</style>\n<table border=\"1\" class=\"dataframe\">\n  <thead>\n    <tr style=\"text-align: right;\">\n      <th></th>\n      <th>Departamento</th>\n      <th>Epigrafe</th>\n      <th>Item_Nombre</th>\n      <th>Item_URL_XML</th>\n      <th>Item_id</th>\n      <th>Seccion</th>\n    </tr>\n  </thead>\n  <tbody>\n    <tr>\n      <th>0</th>\n      <td>[MINISTERIO DE ASUNTOS EXTERIORES, UNIÓN EUROP...</td>\n      <td>[Acuerdos internacionales administrativos]</td>\n      <td>[Corrección de errores del Acuerdo Internacion...</td>\n      <td>https://www.boe.es/diario_boe/xml.php?id=BOE-A...</td>\n      <td>[BOE-A-2020-15061]</td>\n      <td>[I. Disposiciones generales]</td>\n    </tr>\n    <tr>\n      <th>1</th>\n      <td>[MINISTERIO DE TRANSPORTES, MOVILIDAD Y AGENDA...</td>\n      <td>[Aviación civil]</td>\n      <td>[Resolución de 6 de noviembre de 2020, de la D...</td>\n      <td>https://www.boe.es/diario_boe/xml.php?id=BOE-A...</td>\n      <td>[BOE-A-2020-15062]</td>\n      <td>[I. Disposiciones generales]</td>\n    </tr>\n    <tr>\n      <th>2</th>\n      <td>[MINISTERIO DE TRABAJO Y ECONOMÍA SOCIAL]</td>\n      <td>[Formación profesional para el empleo]</td>\n      <td>[Orden TES/1109/2020, de 25 de noviembre, por ...</td>\n      <td>https://www.boe.es/diario_boe/xml.php?id=BOE-A...</td>\n      <td>[BOE-A-2020-15063]</td>\n      <td>[I. Disposiciones generales]</td>\n    </tr>\n    <tr>\n      <th>3</th>\n      <td>[MINISTERIO DE INDUSTRIA, COMERCIO Y TURISMO]</td>\n      <td>[Subvenciones]</td>\n      <td>[Real Decreto 1040/2020, de 24 de noviembre, p...</td>\n      <td>https://www.boe.es/diario_boe/xml.php?id=BOE-A...</td>\n      <td>[BOE-A-2020-15064]</td>\n      <td>[I. Disposiciones generales]</td>\n    </tr>\n    <tr>\n      <th>4</th>\n      <td>[MINISTERIO DE AGRICULTURA, PESCA Y ALIMENTACIÓN]</td>\n      <td>[Pesca marítima]</td>\n      <td>[Real Decreto 968/2020, de 10 de noviembre, po...</td>\n      <td>https://www.boe.es/diario_boe/xml.php?id=BOE-A...</td>\n      <td>[BOE-A-2020-15065]</td>\n      <td>[I. Disposiciones generales]</td>\n    </tr>\n    <tr>\n      <th>5</th>\n      <td>[MINISTERIO DE ASUNTOS ECONÓMICOS Y TRANSFORMA...</td>\n      <td>[Moneda metálica. Acuñación]</td>\n      <td>[Orden ETD/1110/2020, de 25 de noviembre, por ...</td>\n      <td>https://www.boe.es/diario_boe/xml.php?id=BOE-A...</td>\n      <td>[BOE-A-2020-15066]</td>\n      <td>[I. Disposiciones generales]</td>\n    </tr>\n    <tr>\n      <th>6</th>\n      <td>[MINISTERIO DE SANIDAD]</td>\n      <td>[Subvenciones]</td>\n      <td>[Real Decreto 1021/2020, de 17 de noviembre, p...</td>\n      <td>https://www.boe.es/diario_boe/xml.php?id=BOE-A...</td>\n      <td>[BOE-A-2020-15067]</td>\n      <td>[I. Disposiciones generales]</td>\n    </tr>\n    <tr>\n      <th>7</th>\n      <td>[TRIBUNAL SUPREMO]</td>\n      <td>[Sentencias]</td>\n      <td>[Sentencia de 29 de septiembre de 2020, de la ...</td>\n      <td>https://www.boe.es/diario_boe/xml.php?id=BOE-A...</td>\n      <td>[BOE-A-2020-15068]</td>\n      <td>[I. Disposiciones generales]</td>\n    </tr>\n    <tr>\n      <th>8</th>\n      <td>[TRIBUNAL SUPREMO]</td>\n      <td>[Sentencias]</td>\n      <td>[Sentencia de 15 de octubre de 2020, de la Sal...</td>\n      <td>https://www.boe.es/diario_boe/xml.php?id=BOE-A...</td>\n      <td>[BOE-A-2020-15069]</td>\n      <td>[I. Disposiciones generales]</td>\n    </tr>\n  </tbody>\n</table>\n</div>"
     },
     "metadata": {},
     "execution_count": 370
    }
   ],
   "source": [
    "tabla_resumen.sort_values('Item_id')"
   ]
  },
  {
   "cell_type": "code",
   "execution_count": 371,
   "metadata": {},
   "outputs": [],
   "source": [
    "#for row in tabla_resumen:\n",
    "#    tabla_resumen.loc[row['Item_id']]['Materias'] = tabla_materias.loc[row['Item_id']]['Materias']"
   ]
  },
  {
   "cell_type": "code",
   "execution_count": 372,
   "metadata": {},
   "outputs": [],
   "source": [
    "tabla_resumen['Item_id'] = tabla_resumen['Item_id'].astype(str)\n",
    "tabla_materias['Item_id'] = tabla_materias['Item_id'].astype(str)\n",
    "tabla_resultados = tabla_resumen.set_index('Item_id').join(tabla_materias.set_index('Item_id'))\n"
   ]
  },
  {
   "cell_type": "code",
   "execution_count": 373,
   "metadata": {},
   "outputs": [
    {
     "output_type": "execute_result",
     "data": {
      "text/plain": [
       "                                                           Departamento  \\\n",
       "Item_id                                                                   \n",
       "['BOE-A-2020-15061']  [MINISTERIO DE ASUNTOS EXTERIORES, UNIÓN EUROP...   \n",
       "['BOE-A-2020-15062']  [MINISTERIO DE TRANSPORTES, MOVILIDAD Y AGENDA...   \n",
       "['BOE-A-2020-15063']          [MINISTERIO DE TRABAJO Y ECONOMÍA SOCIAL]   \n",
       "['BOE-A-2020-15064']      [MINISTERIO DE INDUSTRIA, COMERCIO Y TURISMO]   \n",
       "['BOE-A-2020-15065']  [MINISTERIO DE AGRICULTURA, PESCA Y ALIMENTACIÓN]   \n",
       "['BOE-A-2020-15066']  [MINISTERIO DE ASUNTOS ECONÓMICOS Y TRANSFORMA...   \n",
       "['BOE-A-2020-15067']                            [MINISTERIO DE SANIDAD]   \n",
       "['BOE-A-2020-15068']                                 [TRIBUNAL SUPREMO]   \n",
       "['BOE-A-2020-15069']                                 [TRIBUNAL SUPREMO]   \n",
       "\n",
       "                                                        Epigrafe  \\\n",
       "Item_id                                                            \n",
       "['BOE-A-2020-15061']  [Acuerdos internacionales administrativos]   \n",
       "['BOE-A-2020-15062']                            [Aviación civil]   \n",
       "['BOE-A-2020-15063']      [Formación profesional para el empleo]   \n",
       "['BOE-A-2020-15064']                              [Subvenciones]   \n",
       "['BOE-A-2020-15065']                            [Pesca marítima]   \n",
       "['BOE-A-2020-15066']                [Moneda metálica. Acuñación]   \n",
       "['BOE-A-2020-15067']                              [Subvenciones]   \n",
       "['BOE-A-2020-15068']                                [Sentencias]   \n",
       "['BOE-A-2020-15069']                                [Sentencias]   \n",
       "\n",
       "                                                            Item_Nombre  \\\n",
       "Item_id                                                                   \n",
       "['BOE-A-2020-15061']  [Corrección de errores del Acuerdo Internacion...   \n",
       "['BOE-A-2020-15062']  [Resolución de 6 de noviembre de 2020, de la D...   \n",
       "['BOE-A-2020-15063']  [Orden TES/1109/2020, de 25 de noviembre, por ...   \n",
       "['BOE-A-2020-15064']  [Real Decreto 1040/2020, de 24 de noviembre, p...   \n",
       "['BOE-A-2020-15065']  [Real Decreto 968/2020, de 10 de noviembre, po...   \n",
       "['BOE-A-2020-15066']  [Orden ETD/1110/2020, de 25 de noviembre, por ...   \n",
       "['BOE-A-2020-15067']  [Real Decreto 1021/2020, de 17 de noviembre, p...   \n",
       "['BOE-A-2020-15068']  [Sentencia de 29 de septiembre de 2020, de la ...   \n",
       "['BOE-A-2020-15069']  [Sentencia de 15 de octubre de 2020, de la Sal...   \n",
       "\n",
       "                                                           Item_URL_XML  \\\n",
       "Item_id                                                                   \n",
       "['BOE-A-2020-15061']  https://www.boe.es/diario_boe/xml.php?id=BOE-A...   \n",
       "['BOE-A-2020-15062']  https://www.boe.es/diario_boe/xml.php?id=BOE-A...   \n",
       "['BOE-A-2020-15063']  https://www.boe.es/diario_boe/xml.php?id=BOE-A...   \n",
       "['BOE-A-2020-15064']  https://www.boe.es/diario_boe/xml.php?id=BOE-A...   \n",
       "['BOE-A-2020-15065']  https://www.boe.es/diario_boe/xml.php?id=BOE-A...   \n",
       "['BOE-A-2020-15066']  https://www.boe.es/diario_boe/xml.php?id=BOE-A...   \n",
       "['BOE-A-2020-15067']  https://www.boe.es/diario_boe/xml.php?id=BOE-A...   \n",
       "['BOE-A-2020-15068']  https://www.boe.es/diario_boe/xml.php?id=BOE-A...   \n",
       "['BOE-A-2020-15069']  https://www.boe.es/diario_boe/xml.php?id=BOE-A...   \n",
       "\n",
       "                                           Seccion  \\\n",
       "Item_id                                              \n",
       "['BOE-A-2020-15061']  [I. Disposiciones generales]   \n",
       "['BOE-A-2020-15062']  [I. Disposiciones generales]   \n",
       "['BOE-A-2020-15063']  [I. Disposiciones generales]   \n",
       "['BOE-A-2020-15064']  [I. Disposiciones generales]   \n",
       "['BOE-A-2020-15065']  [I. Disposiciones generales]   \n",
       "['BOE-A-2020-15066']  [I. Disposiciones generales]   \n",
       "['BOE-A-2020-15067']  [I. Disposiciones generales]   \n",
       "['BOE-A-2020-15068']  [I. Disposiciones generales]   \n",
       "['BOE-A-2020-15069']  [I. Disposiciones generales]   \n",
       "\n",
       "                                                                Alertas  \\\n",
       "Item_id                                                                   \n",
       "['BOE-A-2020-15061']  [Relaciones internacionales, Sanidad, Sistema ...   \n",
       "['BOE-A-2020-15062']          [Trabajo y empleo, Transportes y tráfico]   \n",
       "['BOE-A-2020-15063']                                 [Trabajo y empleo]   \n",
       "['BOE-A-2020-15064']                           [Obras y construcciones]   \n",
       "['BOE-A-2020-15065']                                            [Pesca]   \n",
       "['BOE-A-2020-15066']                                   [Cultura y ocio]   \n",
       "['BOE-A-2020-15067']                                          [Sanidad]   \n",
       "['BOE-A-2020-15068']    [Derecho Administrativo, Transportes y tráfico]   \n",
       "['BOE-A-2020-15069']    [Derecho Administrativo, Transportes y tráfico]   \n",
       "\n",
       "                                                               Materias  \n",
       "Item_id                                                                  \n",
       "['BOE-A-2020-15061']  [Acuerdos internacionales, Créditos Presupuest...  \n",
       "['BOE-A-2020-15062']  [Agencias estatales, Descanso laboral, Epidemi...  \n",
       "['BOE-A-2020-15063']  [Ayudas, Becas, Capacitación profesional, Dese...  \n",
       "['BOE-A-2020-15064']  [Congresos, Edificaciones, León, Ministerio de...  \n",
       "['BOE-A-2020-15065']  [Cantábrico, Cuota de pesca, Material de pesca...  \n",
       "['BOE-A-2020-15066']       [Monedas conmemorativas, Transportes aéreos]  \n",
       "['BOE-A-2020-15067']  [Asistencia farmacéutica, Asistencia sanitaria...  \n",
       "['BOE-A-2020-15068']  [Autorizaciones, Empresas de transporte, Trans...  \n",
       "['BOE-A-2020-15069']  [Autorizaciones, Conductores de vehículos de m...  "
      ],
      "text/html": "<div>\n<style scoped>\n    .dataframe tbody tr th:only-of-type {\n        vertical-align: middle;\n    }\n\n    .dataframe tbody tr th {\n        vertical-align: top;\n    }\n\n    .dataframe thead th {\n        text-align: right;\n    }\n</style>\n<table border=\"1\" class=\"dataframe\">\n  <thead>\n    <tr style=\"text-align: right;\">\n      <th></th>\n      <th>Departamento</th>\n      <th>Epigrafe</th>\n      <th>Item_Nombre</th>\n      <th>Item_URL_XML</th>\n      <th>Seccion</th>\n      <th>Alertas</th>\n      <th>Materias</th>\n    </tr>\n    <tr>\n      <th>Item_id</th>\n      <th></th>\n      <th></th>\n      <th></th>\n      <th></th>\n      <th></th>\n      <th></th>\n      <th></th>\n    </tr>\n  </thead>\n  <tbody>\n    <tr>\n      <th>['BOE-A-2020-15061']</th>\n      <td>[MINISTERIO DE ASUNTOS EXTERIORES, UNIÓN EUROP...</td>\n      <td>[Acuerdos internacionales administrativos]</td>\n      <td>[Corrección de errores del Acuerdo Internacion...</td>\n      <td>https://www.boe.es/diario_boe/xml.php?id=BOE-A...</td>\n      <td>[I. Disposiciones generales]</td>\n      <td>[Relaciones internacionales, Sanidad, Sistema ...</td>\n      <td>[Acuerdos internacionales, Créditos Presupuest...</td>\n    </tr>\n    <tr>\n      <th>['BOE-A-2020-15062']</th>\n      <td>[MINISTERIO DE TRANSPORTES, MOVILIDAD Y AGENDA...</td>\n      <td>[Aviación civil]</td>\n      <td>[Resolución de 6 de noviembre de 2020, de la D...</td>\n      <td>https://www.boe.es/diario_boe/xml.php?id=BOE-A...</td>\n      <td>[I. Disposiciones generales]</td>\n      <td>[Trabajo y empleo, Transportes y tráfico]</td>\n      <td>[Agencias estatales, Descanso laboral, Epidemi...</td>\n    </tr>\n    <tr>\n      <th>['BOE-A-2020-15063']</th>\n      <td>[MINISTERIO DE TRABAJO Y ECONOMÍA SOCIAL]</td>\n      <td>[Formación profesional para el empleo]</td>\n      <td>[Orden TES/1109/2020, de 25 de noviembre, por ...</td>\n      <td>https://www.boe.es/diario_boe/xml.php?id=BOE-A...</td>\n      <td>[I. Disposiciones generales]</td>\n      <td>[Trabajo y empleo]</td>\n      <td>[Ayudas, Becas, Capacitación profesional, Dese...</td>\n    </tr>\n    <tr>\n      <th>['BOE-A-2020-15064']</th>\n      <td>[MINISTERIO DE INDUSTRIA, COMERCIO Y TURISMO]</td>\n      <td>[Subvenciones]</td>\n      <td>[Real Decreto 1040/2020, de 24 de noviembre, p...</td>\n      <td>https://www.boe.es/diario_boe/xml.php?id=BOE-A...</td>\n      <td>[I. Disposiciones generales]</td>\n      <td>[Obras y construcciones]</td>\n      <td>[Congresos, Edificaciones, León, Ministerio de...</td>\n    </tr>\n    <tr>\n      <th>['BOE-A-2020-15065']</th>\n      <td>[MINISTERIO DE AGRICULTURA, PESCA Y ALIMENTACIÓN]</td>\n      <td>[Pesca marítima]</td>\n      <td>[Real Decreto 968/2020, de 10 de noviembre, po...</td>\n      <td>https://www.boe.es/diario_boe/xml.php?id=BOE-A...</td>\n      <td>[I. Disposiciones generales]</td>\n      <td>[Pesca]</td>\n      <td>[Cantábrico, Cuota de pesca, Material de pesca...</td>\n    </tr>\n    <tr>\n      <th>['BOE-A-2020-15066']</th>\n      <td>[MINISTERIO DE ASUNTOS ECONÓMICOS Y TRANSFORMA...</td>\n      <td>[Moneda metálica. Acuñación]</td>\n      <td>[Orden ETD/1110/2020, de 25 de noviembre, por ...</td>\n      <td>https://www.boe.es/diario_boe/xml.php?id=BOE-A...</td>\n      <td>[I. Disposiciones generales]</td>\n      <td>[Cultura y ocio]</td>\n      <td>[Monedas conmemorativas, Transportes aéreos]</td>\n    </tr>\n    <tr>\n      <th>['BOE-A-2020-15067']</th>\n      <td>[MINISTERIO DE SANIDAD]</td>\n      <td>[Subvenciones]</td>\n      <td>[Real Decreto 1021/2020, de 17 de noviembre, p...</td>\n      <td>https://www.boe.es/diario_boe/xml.php?id=BOE-A...</td>\n      <td>[I. Disposiciones generales]</td>\n      <td>[Sanidad]</td>\n      <td>[Asistencia farmacéutica, Asistencia sanitaria...</td>\n    </tr>\n    <tr>\n      <th>['BOE-A-2020-15068']</th>\n      <td>[TRIBUNAL SUPREMO]</td>\n      <td>[Sentencias]</td>\n      <td>[Sentencia de 29 de septiembre de 2020, de la ...</td>\n      <td>https://www.boe.es/diario_boe/xml.php?id=BOE-A...</td>\n      <td>[I. Disposiciones generales]</td>\n      <td>[Derecho Administrativo, Transportes y tráfico]</td>\n      <td>[Autorizaciones, Empresas de transporte, Trans...</td>\n    </tr>\n    <tr>\n      <th>['BOE-A-2020-15069']</th>\n      <td>[TRIBUNAL SUPREMO]</td>\n      <td>[Sentencias]</td>\n      <td>[Sentencia de 15 de octubre de 2020, de la Sal...</td>\n      <td>https://www.boe.es/diario_boe/xml.php?id=BOE-A...</td>\n      <td>[I. Disposiciones generales]</td>\n      <td>[Derecho Administrativo, Transportes y tráfico]</td>\n      <td>[Autorizaciones, Conductores de vehículos de m...</td>\n    </tr>\n  </tbody>\n</table>\n</div>"
     },
     "metadata": {},
     "execution_count": 373
    }
   ],
   "source": [
    "tabla_resultados"
   ]
  },
  {
   "cell_type": "code",
   "execution_count": 382,
   "metadata": {},
   "outputs": [],
   "source": [
    "#tabla_resultados.to_csv('./BOEs/Resultados.csv', index=False)\n",
    "tabla_resultados.to_csv('./BOEs/Resultados-BOE-' + hoy + '.csv', index=False)"
   ]
  },
  {
   "source": [
    "## Genera Split de ALertas y crea una fila para cada una"
   ],
   "cell_type": "markdown",
   "metadata": {}
  },
  {
   "source": [
    "### Los items sin Alerta se desechan"
   ],
   "cell_type": "markdown",
   "metadata": {}
  },
  {
   "cell_type": "code",
   "execution_count": 375,
   "metadata": {},
   "outputs": [
    {
     "output_type": "execute_result",
     "data": {
      "text/plain": [
       "                 Item_id                                        Item_Nombre  \\\n",
       "5   ['BOE-A-2020-15066']  [Orden ETD/1110/2020, de 25 de noviembre, por ...   \n",
       "7   ['BOE-A-2020-15068']  [Sentencia de 29 de septiembre de 2020, de la ...   \n",
       "8   ['BOE-A-2020-15069']  [Sentencia de 15 de octubre de 2020, de la Sal...   \n",
       "3   ['BOE-A-2020-15064']  [Real Decreto 1040/2020, de 24 de noviembre, p...   \n",
       "4   ['BOE-A-2020-15065']  [Real Decreto 968/2020, de 10 de noviembre, po...   \n",
       "0   ['BOE-A-2020-15061']  [Corrección de errores del Acuerdo Internacion...   \n",
       "6   ['BOE-A-2020-15067']  [Real Decreto 1021/2020, de 17 de noviembre, p...   \n",
       "9   ['BOE-A-2020-15061']  [Corrección de errores del Acuerdo Internacion...   \n",
       "18  ['BOE-A-2020-15061']  [Corrección de errores del Acuerdo Internacion...   \n",
       "1   ['BOE-A-2020-15062']  [Resolución de 6 de noviembre de 2020, de la D...   \n",
       "2   ['BOE-A-2020-15063']  [Orden TES/1109/2020, de 25 de noviembre, por ...   \n",
       "10  ['BOE-A-2020-15062']  [Resolución de 6 de noviembre de 2020, de la D...   \n",
       "16  ['BOE-A-2020-15068']  [Sentencia de 29 de septiembre de 2020, de la ...   \n",
       "17  ['BOE-A-2020-15069']  [Sentencia de 15 de octubre de 2020, de la Sal...   \n",
       "\n",
       "                         Seccion  \\\n",
       "5   [I. Disposiciones generales]   \n",
       "7   [I. Disposiciones generales]   \n",
       "8   [I. Disposiciones generales]   \n",
       "3   [I. Disposiciones generales]   \n",
       "4   [I. Disposiciones generales]   \n",
       "0   [I. Disposiciones generales]   \n",
       "6   [I. Disposiciones generales]   \n",
       "9   [I. Disposiciones generales]   \n",
       "18  [I. Disposiciones generales]   \n",
       "1   [I. Disposiciones generales]   \n",
       "2   [I. Disposiciones generales]   \n",
       "10  [I. Disposiciones generales]   \n",
       "16  [I. Disposiciones generales]   \n",
       "17  [I. Disposiciones generales]   \n",
       "\n",
       "                                         Departamento  \\\n",
       "5   [MINISTERIO DE ASUNTOS ECONÓMICOS Y TRANSFORMA...   \n",
       "7                                  [TRIBUNAL SUPREMO]   \n",
       "8                                  [TRIBUNAL SUPREMO]   \n",
       "3       [MINISTERIO DE INDUSTRIA, COMERCIO Y TURISMO]   \n",
       "4   [MINISTERIO DE AGRICULTURA, PESCA Y ALIMENTACIÓN]   \n",
       "0   [MINISTERIO DE ASUNTOS EXTERIORES, UNIÓN EUROP...   \n",
       "6                             [MINISTERIO DE SANIDAD]   \n",
       "9   [MINISTERIO DE ASUNTOS EXTERIORES, UNIÓN EUROP...   \n",
       "18  [MINISTERIO DE ASUNTOS EXTERIORES, UNIÓN EUROP...   \n",
       "1   [MINISTERIO DE TRANSPORTES, MOVILIDAD Y AGENDA...   \n",
       "2           [MINISTERIO DE TRABAJO Y ECONOMÍA SOCIAL]   \n",
       "10  [MINISTERIO DE TRANSPORTES, MOVILIDAD Y AGENDA...   \n",
       "16                                 [TRIBUNAL SUPREMO]   \n",
       "17                                 [TRIBUNAL SUPREMO]   \n",
       "\n",
       "                                      Epigrafe  \\\n",
       "5                 [Moneda metálica. Acuñación]   \n",
       "7                                 [Sentencias]   \n",
       "8                                 [Sentencias]   \n",
       "3                               [Subvenciones]   \n",
       "4                             [Pesca marítima]   \n",
       "0   [Acuerdos internacionales administrativos]   \n",
       "6                               [Subvenciones]   \n",
       "9   [Acuerdos internacionales administrativos]   \n",
       "18  [Acuerdos internacionales administrativos]   \n",
       "1                             [Aviación civil]   \n",
       "2       [Formación profesional para el empleo]   \n",
       "10                            [Aviación civil]   \n",
       "16                                [Sentencias]   \n",
       "17                                [Sentencias]   \n",
       "\n",
       "                                         Item_URL_XML  \\\n",
       "5   https://www.boe.es/diario_boe/xml.php?id=BOE-A...   \n",
       "7   https://www.boe.es/diario_boe/xml.php?id=BOE-A...   \n",
       "8   https://www.boe.es/diario_boe/xml.php?id=BOE-A...   \n",
       "3   https://www.boe.es/diario_boe/xml.php?id=BOE-A...   \n",
       "4   https://www.boe.es/diario_boe/xml.php?id=BOE-A...   \n",
       "0   https://www.boe.es/diario_boe/xml.php?id=BOE-A...   \n",
       "6   https://www.boe.es/diario_boe/xml.php?id=BOE-A...   \n",
       "9   https://www.boe.es/diario_boe/xml.php?id=BOE-A...   \n",
       "18  https://www.boe.es/diario_boe/xml.php?id=BOE-A...   \n",
       "1   https://www.boe.es/diario_boe/xml.php?id=BOE-A...   \n",
       "2   https://www.boe.es/diario_boe/xml.php?id=BOE-A...   \n",
       "10  https://www.boe.es/diario_boe/xml.php?id=BOE-A...   \n",
       "16  https://www.boe.es/diario_boe/xml.php?id=BOE-A...   \n",
       "17  https://www.boe.es/diario_boe/xml.php?id=BOE-A...   \n",
       "\n",
       "                                             Materias  \\\n",
       "5        [Monedas conmemorativas, Transportes aéreos]   \n",
       "7   [Autorizaciones, Empresas de transporte, Trans...   \n",
       "8   [Autorizaciones, Conductores de vehículos de m...   \n",
       "3   [Congresos, Edificaciones, León, Ministerio de...   \n",
       "4   [Cantábrico, Cuota de pesca, Material de pesca...   \n",
       "0   [Acuerdos internacionales, Créditos Presupuest...   \n",
       "6   [Asistencia farmacéutica, Asistencia sanitaria...   \n",
       "9   [Acuerdos internacionales, Créditos Presupuest...   \n",
       "18  [Acuerdos internacionales, Créditos Presupuest...   \n",
       "1   [Agencias estatales, Descanso laboral, Epidemi...   \n",
       "2   [Ayudas, Becas, Capacitación profesional, Dese...   \n",
       "10  [Agencias estatales, Descanso laboral, Epidemi...   \n",
       "16  [Autorizaciones, Empresas de transporte, Trans...   \n",
       "17  [Autorizaciones, Conductores de vehículos de m...   \n",
       "\n",
       "                        Alerta  \n",
       "5               Cultura y ocio  \n",
       "7       Derecho Administrativo  \n",
       "8       Derecho Administrativo  \n",
       "3       Obras y construcciones  \n",
       "4                        Pesca  \n",
       "0   Relaciones internacionales  \n",
       "6                      Sanidad  \n",
       "9                      Sanidad  \n",
       "18          Sistema financiero  \n",
       "1             Trabajo y empleo  \n",
       "2             Trabajo y empleo  \n",
       "10       Transportes y tráfico  \n",
       "16       Transportes y tráfico  \n",
       "17       Transportes y tráfico  "
      ],
      "text/html": "<div>\n<style scoped>\n    .dataframe tbody tr th:only-of-type {\n        vertical-align: middle;\n    }\n\n    .dataframe tbody tr th {\n        vertical-align: top;\n    }\n\n    .dataframe thead th {\n        text-align: right;\n    }\n</style>\n<table border=\"1\" class=\"dataframe\">\n  <thead>\n    <tr style=\"text-align: right;\">\n      <th></th>\n      <th>Item_id</th>\n      <th>Item_Nombre</th>\n      <th>Seccion</th>\n      <th>Departamento</th>\n      <th>Epigrafe</th>\n      <th>Item_URL_XML</th>\n      <th>Materias</th>\n      <th>Alerta</th>\n    </tr>\n  </thead>\n  <tbody>\n    <tr>\n      <th>5</th>\n      <td>['BOE-A-2020-15066']</td>\n      <td>[Orden ETD/1110/2020, de 25 de noviembre, por ...</td>\n      <td>[I. Disposiciones generales]</td>\n      <td>[MINISTERIO DE ASUNTOS ECONÓMICOS Y TRANSFORMA...</td>\n      <td>[Moneda metálica. Acuñación]</td>\n      <td>https://www.boe.es/diario_boe/xml.php?id=BOE-A...</td>\n      <td>[Monedas conmemorativas, Transportes aéreos]</td>\n      <td>Cultura y ocio</td>\n    </tr>\n    <tr>\n      <th>7</th>\n      <td>['BOE-A-2020-15068']</td>\n      <td>[Sentencia de 29 de septiembre de 2020, de la ...</td>\n      <td>[I. Disposiciones generales]</td>\n      <td>[TRIBUNAL SUPREMO]</td>\n      <td>[Sentencias]</td>\n      <td>https://www.boe.es/diario_boe/xml.php?id=BOE-A...</td>\n      <td>[Autorizaciones, Empresas de transporte, Trans...</td>\n      <td>Derecho Administrativo</td>\n    </tr>\n    <tr>\n      <th>8</th>\n      <td>['BOE-A-2020-15069']</td>\n      <td>[Sentencia de 15 de octubre de 2020, de la Sal...</td>\n      <td>[I. Disposiciones generales]</td>\n      <td>[TRIBUNAL SUPREMO]</td>\n      <td>[Sentencias]</td>\n      <td>https://www.boe.es/diario_boe/xml.php?id=BOE-A...</td>\n      <td>[Autorizaciones, Conductores de vehículos de m...</td>\n      <td>Derecho Administrativo</td>\n    </tr>\n    <tr>\n      <th>3</th>\n      <td>['BOE-A-2020-15064']</td>\n      <td>[Real Decreto 1040/2020, de 24 de noviembre, p...</td>\n      <td>[I. Disposiciones generales]</td>\n      <td>[MINISTERIO DE INDUSTRIA, COMERCIO Y TURISMO]</td>\n      <td>[Subvenciones]</td>\n      <td>https://www.boe.es/diario_boe/xml.php?id=BOE-A...</td>\n      <td>[Congresos, Edificaciones, León, Ministerio de...</td>\n      <td>Obras y construcciones</td>\n    </tr>\n    <tr>\n      <th>4</th>\n      <td>['BOE-A-2020-15065']</td>\n      <td>[Real Decreto 968/2020, de 10 de noviembre, po...</td>\n      <td>[I. Disposiciones generales]</td>\n      <td>[MINISTERIO DE AGRICULTURA, PESCA Y ALIMENTACIÓN]</td>\n      <td>[Pesca marítima]</td>\n      <td>https://www.boe.es/diario_boe/xml.php?id=BOE-A...</td>\n      <td>[Cantábrico, Cuota de pesca, Material de pesca...</td>\n      <td>Pesca</td>\n    </tr>\n    <tr>\n      <th>0</th>\n      <td>['BOE-A-2020-15061']</td>\n      <td>[Corrección de errores del Acuerdo Internacion...</td>\n      <td>[I. Disposiciones generales]</td>\n      <td>[MINISTERIO DE ASUNTOS EXTERIORES, UNIÓN EUROP...</td>\n      <td>[Acuerdos internacionales administrativos]</td>\n      <td>https://www.boe.es/diario_boe/xml.php?id=BOE-A...</td>\n      <td>[Acuerdos internacionales, Créditos Presupuest...</td>\n      <td>Relaciones internacionales</td>\n    </tr>\n    <tr>\n      <th>6</th>\n      <td>['BOE-A-2020-15067']</td>\n      <td>[Real Decreto 1021/2020, de 17 de noviembre, p...</td>\n      <td>[I. Disposiciones generales]</td>\n      <td>[MINISTERIO DE SANIDAD]</td>\n      <td>[Subvenciones]</td>\n      <td>https://www.boe.es/diario_boe/xml.php?id=BOE-A...</td>\n      <td>[Asistencia farmacéutica, Asistencia sanitaria...</td>\n      <td>Sanidad</td>\n    </tr>\n    <tr>\n      <th>9</th>\n      <td>['BOE-A-2020-15061']</td>\n      <td>[Corrección de errores del Acuerdo Internacion...</td>\n      <td>[I. Disposiciones generales]</td>\n      <td>[MINISTERIO DE ASUNTOS EXTERIORES, UNIÓN EUROP...</td>\n      <td>[Acuerdos internacionales administrativos]</td>\n      <td>https://www.boe.es/diario_boe/xml.php?id=BOE-A...</td>\n      <td>[Acuerdos internacionales, Créditos Presupuest...</td>\n      <td>Sanidad</td>\n    </tr>\n    <tr>\n      <th>18</th>\n      <td>['BOE-A-2020-15061']</td>\n      <td>[Corrección de errores del Acuerdo Internacion...</td>\n      <td>[I. Disposiciones generales]</td>\n      <td>[MINISTERIO DE ASUNTOS EXTERIORES, UNIÓN EUROP...</td>\n      <td>[Acuerdos internacionales administrativos]</td>\n      <td>https://www.boe.es/diario_boe/xml.php?id=BOE-A...</td>\n      <td>[Acuerdos internacionales, Créditos Presupuest...</td>\n      <td>Sistema financiero</td>\n    </tr>\n    <tr>\n      <th>1</th>\n      <td>['BOE-A-2020-15062']</td>\n      <td>[Resolución de 6 de noviembre de 2020, de la D...</td>\n      <td>[I. Disposiciones generales]</td>\n      <td>[MINISTERIO DE TRANSPORTES, MOVILIDAD Y AGENDA...</td>\n      <td>[Aviación civil]</td>\n      <td>https://www.boe.es/diario_boe/xml.php?id=BOE-A...</td>\n      <td>[Agencias estatales, Descanso laboral, Epidemi...</td>\n      <td>Trabajo y empleo</td>\n    </tr>\n    <tr>\n      <th>2</th>\n      <td>['BOE-A-2020-15063']</td>\n      <td>[Orden TES/1109/2020, de 25 de noviembre, por ...</td>\n      <td>[I. Disposiciones generales]</td>\n      <td>[MINISTERIO DE TRABAJO Y ECONOMÍA SOCIAL]</td>\n      <td>[Formación profesional para el empleo]</td>\n      <td>https://www.boe.es/diario_boe/xml.php?id=BOE-A...</td>\n      <td>[Ayudas, Becas, Capacitación profesional, Dese...</td>\n      <td>Trabajo y empleo</td>\n    </tr>\n    <tr>\n      <th>10</th>\n      <td>['BOE-A-2020-15062']</td>\n      <td>[Resolución de 6 de noviembre de 2020, de la D...</td>\n      <td>[I. Disposiciones generales]</td>\n      <td>[MINISTERIO DE TRANSPORTES, MOVILIDAD Y AGENDA...</td>\n      <td>[Aviación civil]</td>\n      <td>https://www.boe.es/diario_boe/xml.php?id=BOE-A...</td>\n      <td>[Agencias estatales, Descanso laboral, Epidemi...</td>\n      <td>Transportes y tráfico</td>\n    </tr>\n    <tr>\n      <th>16</th>\n      <td>['BOE-A-2020-15068']</td>\n      <td>[Sentencia de 29 de septiembre de 2020, de la ...</td>\n      <td>[I. Disposiciones generales]</td>\n      <td>[TRIBUNAL SUPREMO]</td>\n      <td>[Sentencias]</td>\n      <td>https://www.boe.es/diario_boe/xml.php?id=BOE-A...</td>\n      <td>[Autorizaciones, Empresas de transporte, Trans...</td>\n      <td>Transportes y tráfico</td>\n    </tr>\n    <tr>\n      <th>17</th>\n      <td>['BOE-A-2020-15069']</td>\n      <td>[Sentencia de 15 de octubre de 2020, de la Sal...</td>\n      <td>[I. Disposiciones generales]</td>\n      <td>[TRIBUNAL SUPREMO]</td>\n      <td>[Sentencias]</td>\n      <td>https://www.boe.es/diario_boe/xml.php?id=BOE-A...</td>\n      <td>[Autorizaciones, Conductores de vehículos de m...</td>\n      <td>Transportes y tráfico</td>\n    </tr>\n  </tbody>\n</table>\n</div>"
     },
     "metadata": {},
     "execution_count": 375
    }
   ],
   "source": [
    "tabla_resultados.Alertas.apply(pd.Series) \\\n",
    "    .merge(tabla_resultados, left_index = True, right_index = True) \\\n",
    "    .drop([\"Alertas\"], axis = 1) \\\n",
    "    .reset_index() \\\n",
    "    .melt(id_vars = ['Item_id','Item_Nombre','Seccion','Departamento','Epigrafe','Item_URL_XML','Materias',], value_name = \"Alerta\") \\\n",
    "    .drop(\"variable\", axis = 1) \\\n",
    "    .dropna() \\\n",
    "    .sort_values('Alerta')"
   ]
  },
  {
   "cell_type": "code",
   "execution_count": 376,
   "metadata": {},
   "outputs": [
    {
     "output_type": "execute_result",
     "data": {
      "text/plain": [
       "Item_id\n",
       "['BOE-A-2020-15061']    Acuerdos internacionales administrativos\n",
       "['BOE-A-2020-15062']                              Aviación civil\n",
       "['BOE-A-2020-15063']        Formación profesional para el empleo\n",
       "['BOE-A-2020-15064']                                Subvenciones\n",
       "['BOE-A-2020-15065']                              Pesca marítima\n",
       "['BOE-A-2020-15066']                  Moneda metálica. Acuñación\n",
       "['BOE-A-2020-15067']                                Subvenciones\n",
       "['BOE-A-2020-15068']                                  Sentencias\n",
       "['BOE-A-2020-15069']                                  Sentencias\n",
       "Name: Epigrafe, dtype: object"
      ]
     },
     "metadata": {},
     "execution_count": 376
    }
   ],
   "source": [
    "tabla_resultados['Epigrafe'].str.join(',')"
   ]
  },
  {
   "cell_type": "code",
   "execution_count": 377,
   "metadata": {},
   "outputs": [],
   "source": [
    "from pprint import pprint"
   ]
  },
  {
   "source": [
    "## Convierte estructura XML en diccionario"
   ],
   "cell_type": "markdown",
   "metadata": {}
  },
  {
   "cell_type": "code",
   "execution_count": 378,
   "metadata": {},
   "outputs": [],
   "source": [
    "BOE_XML = etree.parse('./BOEs/BOE-A-2020-14457.xml')\n",
    "raiz=BOE_XML.getroot()"
   ]
  },
  {
   "cell_type": "code",
   "execution_count": 379,
   "metadata": {},
   "outputs": [
    {
     "output_type": "stream",
     "name": "stdout",
     "text": [
      "[{'departamento': 'Ministerio de Asuntos Exteriores, Unión Europea y '\n                  'Cooperación',\n  'diario': 'Boletín Oficial del Estado',\n  'diario_numero': '304',\n  'estado_consolidacion': None,\n  'estatus_derogacion': 'N',\n  'estatus_legislativo': 'L',\n  'fecha_derogacion': None,\n  'fecha_disposicion': '20201030',\n  'fecha_publicacion': '20201119',\n  'fecha_vigencia': '20201101',\n  'identificador': 'BOE-A-2020-14457',\n  'judicialmente_anulada': 'N',\n  'letra_imagen': 'A',\n  'numero_oficial': None,\n  'origen_legislativo': 'Estatal',\n  'pagina_final': '101023',\n  'pagina_inicial': '101017',\n  'rango': 'Acuerdo Internacional',\n  'seccion': '1',\n  'subseccion': None,\n  'suplemento_letra_imagen': None,\n  'suplemento_pagina_final': None,\n  'suplemento_pagina_inicial': None,\n  'titulo': 'Acuerdo Internacional Administrativo, para el periodo 2020-2021, '\n            'entre el Ministerio de Sanidad del Reino de España y la '\n            'Organización Mundial de la Salud, para llevar a cabo actividades '\n            'de cooperación en materia de donación y trasplante de órganos, '\n            'células y tejidos humanos, hecho en Madrid y Ginebra el 30 de '\n            'octubre de 2020, al amparo del Acuerdo Marco de Cooperación entre '\n            'el Reino de España y la Organización Mundial de la Salud de 12 de '\n            'septiembre de 2001.',\n  'url_epub': '/diario_boe/epub.php?id=BOE-A-2020-14457',\n  'url_pdf': '/boe/dias/2020/11/19/pdfs/BOE-A-2020-14457.pdf',\n  'url_pdf_catalan': None,\n  'url_pdf_euskera': None,\n  'url_pdf_gallego': None,\n  'url_pdf_valenciano': None,\n  'vigencia_agotada': 'N'},\n {'alertas': '\\n      ',\n  'materias': '\\n      ',\n  'notas': '\\n      ',\n  'referencias': '\\n      '},\n {'p': 'Madrid, 12 de noviembre de\\xa02020.–El Secretario General Técnico, '\n       'José María Muriel Palomino.'}]\n"
     ]
    }
   ],
   "source": [
    "d = [{x.tag: x.text for x in c} for c in raiz]\n",
    "pprint(d)"
   ]
  },
  {
   "cell_type": "code",
   "execution_count": 380,
   "metadata": {},
   "outputs": [
    {
     "output_type": "stream",
     "name": "stdout",
     "text": [
      "'texto'\n"
     ]
    }
   ],
   "source": [
    "pprint(raiz[2].tag)"
   ]
  },
  {
   "cell_type": "code",
   "execution_count": 381,
   "metadata": {},
   "outputs": [
    {
     "output_type": "stream",
     "name": "stdout",
     "text": [
      "ACUERDO INTERNACIONAL ADMINISTRATIVO, PARA EL PERÍODO 2020-2021, ENTRE EL MINISTERIO DE SANIDAD DEL REINO DE ESPAÑA Y LA ORGANIZACIÓN MUNDIAL DE LA SALUD, PARA LLEVAR A CABO ACTIVIDADES DE COOPERACIÓN EN MATERIA DE DONACIÓN Y TRASPLANTE DE ÓRGANOS, CÉLULAS Y TEJIDOS HUMANOS AL AMPARO DEL ACUERDO MARCO DE COOPERACIÓN ENTRE EL REINO DE ESPAÑA Y LA ORGANIZACIÓN MUNDIAL DE LA SALUD, DE 12 DE SEPTIEMBRE DE 2001\nSignatarios:\nSalvador Illa Roca, Ministro de Sanidad del Reino de España, en virtud del Real Decreto 8/2020, de 12 de enero, por el que se dispone su nombramiento, y en virtud de las facultades otorgadas en el artículo 48.2 de la Ley 40/2015, de 1 de octubre, de Régimen Jurídico del Sector Público.\nMariângela Simão, Subdirectora General de Acceso a Medicamentos, Vacunas y Productos Farmacéuticos de la Organización Mundial de la Salud (en adelante, la OMS), en representación de dicha Organización.\nLos signatarios suscriben el presente documento en el marco jurídico del Acuerdo Marco de Cooperación entre el Reino de España y la OMS, de 12 de septiembre de 2001 («Boletín Oficial del Estado» núm. 181, de 30 de julio de 2002), y actuarán, respectivamente, a través de la Organización Nacional de Trasplantes (en adelante, la ONT) de España y el Departamento de Políticas y Normas sobre Productos Sanitarios de la OMS.\nPREÁMBULO\nConsiderando lo siguiente:\n– La adopción de las resoluciones WHA57.18 y WHA63.22 de la Asamblea Mundial de la Salud sobre el trasplante de órganos y tejidos humanos;\n– La labor paralela desarrollada en los últimos años por la OMS y la ONT, como centro colaborador, para la creación, mantenimiento y análisis de datos sobre trasplantes, a través del Observatorio Global de Donación y Trasplante (GODT, por sus siglas en inglés), establecido en virtud de una declaración de intenciones conjunta firmada el 22 de diciembre de 2005 entre el Ministerio de Sanidad del Reino de España y la OMS.\nLos signatarios convienen en suscribir el presente Acuerdo Internacional Administrativo, que será ejecutado por los organismos técnicos competentes respectivos, a saber, la ONT del Ministerio de Sanidad del Reino de España y la Unidad de Especificaciones y Normas Técnicas del Departamento de Políticas y Normas sobre Productos Sanitarios de la OMS, con arreglo a lo dispuesto en los siguientes artículos:\nPrimero. Finalidad.\n1. Facilitar el soporte técnico continuado por parte de la ONT al mantenimiento y la mejora del GODT. En este sentido, las actividades se refieren a la recogida y gestión de datos mundiales sobre las actividades de donación y trasplante de órganos, así como sobre los regímenes legislativos y sistemas organizativos nacionales en materia de trasplante de órganos, tejidos y células. Por su parte, la OMS contribuirá al mantenimiento de una red actualizada de contactos oficiales en sus Estados miembros, quienes proporcionarán anualmente dicha información al GODT.\n2. Reforzar la capacidad de los Estados miembros para incrementar el acceso de la población a la terapia del trasplante, mejorar la calidad y la seguridad de órganos, tejidos y células para su uso clínico en humanos, y velar por el cumplimiento de los principios rectores de la OMS sobre trasplante de células, tejidos y órganos humanos.\nEn virtud del presente Acuerdo Internacional Administrativo, el Ministerio de Sanidad del Reino de España realizará una contribución financiera a la OMS, con cargo a sus presupuestos ordinarios y destinada al mantenimiento del programa de trasplante de órganos, tejidos y células. A este respecto, la OMS utilizará la contribución de España para financiar las actividades enunciadas en el Anexo I: Descripción de las actividades (que forma parte integrante del presente Acuerdo Internacional Administrativo).\nEsta contribución, por un importe de 320.000 euros, se efectuará en un único pago, realizándose el desembolso cuando cada una de las partes haya finalizado la tramitación interna del Acuerdo Internacional Administrativo y lo haya firmado.\n3. La contribución económica de España estará condicionada a la disponibilidad presupuestaria y se realizará conforme a la legislación española aplicable.\nSegundo. Responsabilidades de los signatarios.\n1. La Unidad de Especificaciones y Normas Técnicas del Departamento de Políticas y Normas sobre Productos Sanitarios de la OMS será responsable del seguimiento y ejecución de las actividades que se lleven a cabo con los fondos previstos en el presente Acuerdo Internacional Administrativo, conforme a la Descripción de Actividades acordada que figura en el Anexo I.\n2. El Ministerio de Sanidad del Reino de España deberá proporcionar a la OMS financiación y apoyo técnico, de conformidad con los términos del presente Acuerdo Internacional Administrativo.\nTercero. Financiación.\n1. Pago de la contribución:\nEl abono de la contribución económica, por un importe de 320.000 euros, se realizará con cargo a la partida presupuestaria 26.02.311M.492.01 del presupuesto de gastos del Ministerio de Sanidad.\nLa contribución se depositará en la cuenta bancaria de la OMS en Ginebra:\nOrganización Mundial de la Salud.\nA/C No 240-C0 169920.1.\nUBS AG.\nC.P. 2600.\nCH1211 Geneva 2, Suiza.\nIBAN: CH8500240240C01699201.\nSWIFT: UBSWCHZH80A.\n2. Utilización y contabilización de los fondos:\n(i) La contribución se destinará a los objetivos indicados en el apartado primero y será administrada con arreglo al Reglamento Financiero y las prácticas financieras y administrativas de la OMS.\n(ii) Conforme al presente Acuerdo, la OMS deducirá el 13% del gasto para sufragar los costes administrativos relacionados con la gestión de los fondos, de conformidad con la Resolución WHA 34.17 de la Asamblea Mundial de la Salud.\n(iii) Cualquier interés obtenido sobre el saldo efectivo de la contribución se utilizará con arreglo al Reglamento Financiero y las prácticas administrativas y financieras de la OMS.\n(iv) La OMS identificará y mantendrá separadamente en la cuenta de su Fondo Voluntario para la Promoción de la Salud los ingresos y gastos registrados con respecto a esta contribución.\n(v) Todo saldo de la contribución que quede pendiente de aplicación en el momento de la terminación del presente Acuerdo, una vez liquidadas por completo todas las obligaciones contraídas por la OMS antes de dicha terminación, deberá reasignarse al mismo programa.\nCuarto. Ejecución del acuerdo.\nLas actividades al amparo del presente Acuerdo Internacional Administrativo comenzarán el 1 de noviembre de 2020 y finalizarán el 31 de octubre de 2021.\nLa OMS no tendrá obligación de llevar a cabo las actividades previstas en el marco del Acuerdo a menos que reciba todos los fondos necesarios y suficientes para ello. Si la fecha de inicio del proyecto se aplaza por ese motivo, la fecha de finalización se ampliará en igual medida.\nSe establecerá un periodo complementario de hasta 12 meses tras la terminación o extinción del Acuerdo para liquidar todas las obligaciones derivadas de las actividades realizadas por la OMS hasta ese momento.\nQuinto. Vigencia.\nEl presente Acuerdo Internacional Administrativo permanecerá en vigor desde el 1 de noviembre de 2020 hasta el 31 de octubre de 2021.\nSexto. Informes.\n1. Técnico.\nLa OMS deberá presentar al Ministerio de Sanidad un informe técnico sobre el progreso de las actividades financiadas con cargo a la contribución, una vez haya finalizado el Acuerdo Internacional Administrativo o siempre que le sea requerido.\n2. Financiero.\nLos ingresos y gastos relativos a la contribución deberán registrarse en los informes financieros anuales que la OMS remita a la Asamblea Mundial de la Salud. Se facilitará al Ministerio de Sanidad una declaración anual certificada de ingresos y gastos.\nAsimismo, la OMS proporcionará una declaración final certificada de ingresos y gastos, una vez efectuada la liquidación de todas las obligaciones derivadas de las actividades emprendidas por la OMS antes de la terminación o extinción del presente Acuerdo.\nSéptimo. Auditoría.\nSe entiende que todas las contribuciones a la OMS están sujetas exclusivamente a sus propios procedimientos internos y externos de auditoría. La certificación de las cuentas realizadas por los auditores externos y el informe de auditoría se pondrán a disposición de la Asamblea Mundial de la Salud dos veces cada año. El Ministerio de Sanidad podrá solicitar una copia de estos documentos.\nOctavo. Reconocimiento.\nLa OMS dará la adecuada visibilidad a la contribución del Gobierno de España a su programa de trasplantes en cualquiera de las actividades o publicaciones realizadas en el marco de este proyecto colaborativo y en cualquiera de los informes en materia de trasplantes que habitualmente se proporcionan a sus 194 Estados miembros. A falta del consentimiento de uno de los signatarios, el otro no podrá referirse a la contribución ni a la relación entre las dos partes en ninguna actividad de naturaleza promocional. El Ministerio de Sanidad tendrá derecho en todo momento a hacer referencia a sus donaciones en sus documentos internos y en sus informes anuales.\nNoveno. Régimen jurídico.\nEl presente Acuerdo se celebra de conformidad con el artículo 1, apartado 3, del Acuerdo Marco de Cooperación entre el Reino de España y la OMS, firmado en Madrid el 12 de septiembre de 2001.\nDécimo. Terminación.\nEl presente Acuerdo permanecerá en vigor hasta la fecha prevista para su terminación. El incumplimiento por cualquiera de los signatarios de los apartados anteriores podrá ser motivo de terminación.\nCualquiera de los signatarios podrá desistir de la ejecución del Acuerdo, notificándolo al otro con una anticipación mínima de 6 meses a la fecha de terminación prevista. La terminación anticipada estará sujeta a la liquidación de toda obligación que se halle pendiente.\nHecho en Madrid y Ginebra, el 30 de octubre 2020, en dos versiones originales en español e inglés, siendo ambas igualmente auténticas.–En nombre del Ministerio de Sanidad, Salvador Illa Roca, Ministro de Sanidad.–En nombre de la Organización Mundial de la Salud, Mariângela Simão, Subdirectora General Acceso a Medicamentos y Productos Sanitarios.\nANEXO I\nDescripción de actividades\nPrograma de trasplantes (Células-Tejidos-Órganos humanos)\n1. de noviembre – 31 de octubre de 2021\nI) Introducción.\nEl programa de la OMS sobre trasplante de células, tejidos y órganos se estableció tras aprobarse la resolución WHA57.18\nNone\nNone\nA lo largo de los últimos años, los Principios Rectores de la OMS han influido en la legislación de numerosos Estados miembros, al igual que los códigos y prácticas profesionales. La principal función del programa de trasplantes es elaborar y establecer normas y principios globales, y también apoyar y asesorar a los países en la creación y fortalecimiento de sus sistemas nacionales a fin de garantizar la disponibilidad de los servicios y productos pertinentes y su acceso a ellos. Los ámbitos prioritarios son los marcos legislativos y reguladores, la capacidad de supervisión y las herramientas y mecanismos de gobernanza que velen por la calidad y la seguridad de los productos, incluida su trazabilidad, vigilancia y control. El objetivo general es alcanzar la autosuficiencia a nivel nacional en lo que respecta a donaciones y trasplantes, aprovechando los recursos de la población del propio país o mediante la cooperación regional.\nDebido a una serie de transformaciones y ajustes internos en la estructura y las funciones de la OMS, el programa de trasplantes se transfirió a la división de Acceso a Medicamentos y Productos Sanitarios y, a partir de enero de 2020, se unificó con los programas relativos a la seguridad de las transfusiones de sangre y a los productos hemoderivados, para crear un único grupo/equipo que abarca la totalidad de los productos médicos de origen humano (MPHO, por sus siglas en inglés).\nII) Antecedentes.\nEl trasplante de órganos es una forma de tratamiento habitual, hoy reconocida como la mejor y, a menudo, la única terapia que puede salvar la vida de pacientes con insuficiencia orgánica en fase terminal. Según los últimos datos del Observatorio Global de Donación y Trasplante (GODT)\nNone\nNone\nNone\nNone\nLas células y tejidos humanos pertenecen a una categoría especial de productos sanitarios esenciales, además de ser el material de partida potencial de productos biotecnológicos muchos más complejos. Para ser más precisos, el trasplante de tejidos puede cambiar cada año la vida de millones de personas: desde recobrar la vista o la movilidad a sobrevivir a un trauma. Los pacientes recuperan la autonomía y su calidad de vida mejora significativamente; aún es más, regresan a una vida productiva, con el importante coste-beneficio que ello supone para la comunidad. Los tejidos humanos conservan unas cualidades singulares que no pueden reemplazarse fácilmente, o en la misma medida, por las alternativas sintéticas disponibles. Las crecientes necesidades de una población mundial activa y cada vez más envejecida y el acceso limitado a los donantes han impulsado grandes inversiones en la bioingeniería para la regeneración de tejidos o el desarrollo de productos más eficientes (por ejemplo, hueso en polvo en transportador de pasta o léntulo); sin embargo, la mayoría de las alternativas se hallan en una fase de desarrollo muy temprana (como la impresión de piel en 3D) y pueden seguir siendo inaccesibles para muchos pacientes debido al elevado coste final. La demanda de trasplante de tejidos es probablemente mayor que la de trasplante de órganos, aunque todavía no ha podido determinarse con precisión. Es bastante difícil calcular el número exacto de donantes o de injertos de tejidos de origen humano a escala mundial, al no contarse con datos generales coherentes. La recogida de datos nacionales o regionales no está armonizada, y se complica aún más por la cuestión, aunque reconocida no debidamente reflejada y seguramente muy subestimada, del movimiento de estos tejidos entre fronteras nacionales e internacionales (en especial entre las distintas regiones).\nIII) Actividades Previstas en el período comprendido entre el 1 de noviembre de 2020 y el 31 octubre de 2021.\nEl plan de trabajo sobre trasplantes para el bienio 2020-2021 se ha diseñado teniendo en cuenta los objetivos estratégicos del 13\nEl siguiente plan de trabajo para el período comprendido entre el 1 de noviembre de 2020 y el 31 de octubre de 2021 se divide en cuatro áreas principales, con las actividades y los resultados que se enuncian a continuación:\n1. Terapias de sustitución de órganos.\nEl objetivo principal de esta área de trabajo es orientar a las autoridades públicas para el establecimiento y la supervisión de programas nacionales de donación y trasplante, entre otras cosas, con material centrado en los distintos componentes de un sistema que permita lograr la autosuficiencia nacional en el trasplante de órganos. También es preciso señalar y comprender el estado y el grado de desarrollo de los sistemas existentes en los Estados miembros, y realizar en ese sentido un estudio comparativo basado en indicadores específicos. En cuanto a la creación de capacidad, se ofrecerá material de apoyo a los países y se organizarán seminarios regionales.\n2. Lucha contra el tráfico de órganos.\nEn respuesta a la solicitud de la Asamblea General de las Naciones Unidas para que se fortalezca la lucha contra la trata de personas con fines de extracción de órganos (A/RES/73/189), la OMS establecerá una relación de colaboración con la UNODC y con la ACNUDH y solventará las limitaciones jurídicas y administrativas a fin de crear un mecanismo interinstitucional conjunto que se encargue del seguimiento (recogida de datos) y la prestación de asistencia a los Estados miembros (creación de capacidad y herramientas de gobernanza). Las actividades que se prevén en este sentido incluyen la armonización de datos mediante la colaboración con otras instituciones, como el Consejo de Europa y el Grupo Custodio de la Declaración de Estambul, así como el desarrollo de instrumentos y talleres que ayuden a los Estados miembros a reforzar sus capacidades.\n3. Trasplante de tejidos humanos.\nLas actividades previstas por la OMS se refieren a tres ámbitos principales: 1) promover la donación y el trasplante de tejidos; 2) sensibilizar e informar sobre el uso de los tejidos con fines médicos; y 3) prestar asistencia técnica. Se diseñará material específico para informar sobre las clases de tejidos humanos que pueden obtenerse o emplearse, las dolencias susceptibles de tratamiento (indicaciones de utilización), las ventajas en cuanto a la calidad obtenida y la relación coste/eficacia en comparación con otros posibles tratamientos. Además, en colaboración con otros socios clave, como la Unión Mundial de Asociaciones de Bancos de Tejidos (WUTBA, por sus siglas en inglés) y la Alianza Mundial de Asociaciones de Bancos de Ojos (GAEBA, por sus siglas en inglés), la OMS facilitará herramientas que permitan el intercambio de información, experiencias y mejores prácticas entre los Estados miembros, y que complementará con talleres para promover la conciencia y la capacidad.\n4. Marco global de acción–Consulta a escala mundial.\nSe ha acordado con el grupo directivo del equipo de trabajo de la OMS sobre donaciones y trasplantes diseñar una estrategia a largo plazo que se prolongue más allá del bienio en curso. Con motivo del décimo aniversario de la aprobación de los Principios Rectores (resolución WHA63.22), la OMS se propone celebrar una consulta a escala mundial. En apoyo de los debates con los principales interesados, y en cooperación con los grupos de expertos creados con el equipo de trabajo de la OMS sobre donaciones y trasplantes, se elaborará un marco de acción para promover el acceso universal a estos tratamientos.\n*****\nEl presente Acuerdo Internacional Administrativo entró en vigor el 1 de noviembre de 2020, según se establece en su artículo Quinto.\nMadrid, 12 de noviembre de 2020.–El Secretario General Técnico, José María Muriel Palomino.\n"
     ]
    }
   ],
   "source": [
    "parrafos=raiz.findall(\"texto/p\")\n",
    "for parrafo in parrafos:\n",
    "    print(parrafo.text)"
   ]
  }
 ]
}