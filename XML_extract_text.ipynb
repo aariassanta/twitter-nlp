{
 "metadata": {
  "language_info": {
   "codemirror_mode": {
    "name": "ipython",
    "version": 3
   },
   "file_extension": ".py",
   "mimetype": "text/x-python",
   "name": "python",
   "nbconvert_exporter": "python",
   "pygments_lexer": "ipython3",
   "version": "3.7.7-final"
  },
  "orig_nbformat": 2,
  "kernelspec": {
   "name": "python3",
   "display_name": "Python 3.7.7 64-bit ('base': conda)",
   "metadata": {
    "interpreter": {
     "hash": "ba5a5ad8ad50f87090e50fad63d75258be36793c6e5940e781eb379b3998ae98"
    }
   }
  }
 },
 "nbformat": 4,
 "nbformat_minor": 2,
 "cells": [
  {
   "cell_type": "code",
   "execution_count": null,
   "metadata": {},
   "outputs": [],
   "source": [
    "from lxml import etree\n",
    "import pandas as pd\n",
    "from datetime import date\n",
    "import requests"
   ]
  },
  {
   "cell_type": "code",
   "execution_count": null,
   "metadata": {},
   "outputs": [],
   "source": [
    "doc = etree.parse('BOE-A-2020-14372.xml')"
   ]
  },
  {
   "cell_type": "code",
   "execution_count": null,
   "metadata": {},
   "outputs": [],
   "source": [
    "#etree.tostring(doc,pretty_print=True ,xml_declaration=True, encoding=\"utf-8\")"
   ]
  },
  {
   "cell_type": "code",
   "execution_count": 107,
   "metadata": {},
   "outputs": [
    {
     "output_type": "execute_result",
     "data": {
      "text/plain": [
       "'documento'"
      ]
     },
     "metadata": {},
     "execution_count": 107
    }
   ],
   "source": [
    "raiz=doc.getroot()\n",
    "raiz.tag"
   ]
  },
  {
   "cell_type": "code",
   "execution_count": 108,
   "metadata": {},
   "outputs": [
    {
     "output_type": "execute_result",
     "data": {
      "text/plain": [
       "4"
      ]
     },
     "metadata": {},
     "execution_count": 108
    }
   ],
   "source": [
    "len(raiz)"
   ]
  },
  {
   "cell_type": "code",
   "execution_count": 109,
   "metadata": {},
   "outputs": [
    {
     "output_type": "execute_result",
     "data": {
      "text/plain": [
       "'metadatos'"
      ]
     },
     "metadata": {},
     "execution_count": 109
    }
   ],
   "source": [
    "libro=raiz[0]\n",
    "libro.tag"
   ]
  },
  {
   "cell_type": "code",
   "execution_count": 110,
   "metadata": {},
   "outputs": [
    {
     "output_type": "execute_result",
     "data": {
      "text/plain": [
       "'BOE-A-2020-14372'"
      ]
     },
     "metadata": {},
     "execution_count": 110
    }
   ],
   "source": [
    "libro=raiz[0]\n",
    "libro[0].text"
   ]
  },
  {
   "cell_type": "code",
   "execution_count": 111,
   "metadata": {},
   "outputs": [
    {
     "output_type": "execute_result",
     "data": {
      "text/plain": [
       "'{http://www.w3.org/1999/02/22-rdf-syntax-ns#}RDF'"
      ]
     },
     "metadata": {},
     "execution_count": 111
    }
   ],
   "source": [
    "libro=raiz[1]\n",
    "libro[0].tag"
   ]
  },
  {
   "cell_type": "code",
   "execution_count": 112,
   "metadata": {},
   "outputs": [
    {
     "output_type": "execute_result",
     "data": {
      "text/plain": [
       "'\\n            '"
      ]
     },
     "metadata": {},
     "execution_count": 112
    }
   ],
   "source": [
    "libro=raiz[1]\n",
    "libro[0].text"
   ]
  },
  {
   "cell_type": "code",
   "execution_count": 113,
   "metadata": {},
   "outputs": [],
   "source": [
    "Identificador=raiz.find(\"metadatos/identificador\")\n",
    "Titulo=raiz.find(\"metadatos/titulo\")\n",
    "URL_pdf=raiz.find(\"metadatos/url_pdf\")"
   ]
  },
  {
   "cell_type": "code",
   "execution_count": 114,
   "metadata": {},
   "outputs": [
    {
     "output_type": "stream",
     "name": "stdout",
     "text": [
      "BOE-A-2020-14372\nDecreto-ley 35/2020, de 20 de octubre, de modificación del Decreto-ley 19/2020, de 19 de mayo, y del Decreto-ley 29/2020, de 28 de julio, en materia de adopción de medidas sociales y sanitarias para paliar los efectos de la pandemia generada por la COVID-19.\nhttps://www.boe.es/boe/dias/2020/11/18/pdfs/BOE-A-2020-14372.pdf\n"
     ]
    }
   ],
   "source": [
    "print(Identificador.text)\n",
    "print(Titulo.text)\n",
    "print(\"https://www.boe.es\" + URL_pdf.text)\n"
   ]
  },
  {
   "cell_type": "code",
   "execution_count": 115,
   "metadata": {},
   "outputs": [
    {
     "output_type": "execute_result",
     "data": {
      "text/plain": [
       "'Asistencia sanitaria'"
      ]
     },
     "metadata": {},
     "execution_count": 115
    }
   ],
   "source": [
    "materia=raiz.find(\"analisis/materias/materia\")\n",
    "materia.text"
   ]
  },
  {
   "cell_type": "code",
   "execution_count": 116,
   "metadata": {},
   "outputs": [
    {
     "output_type": "stream",
     "name": "stdout",
     "text": [
      "Asistencia sanitaria\nAsistencia social\nAyudas\nCataluña\nCentros residenciales para personas con discapacidad\nEpidemias\nEstablecimientos residenciales para la Tercera Edad\nPagos\nServicios Sociales de las Comunidades Autónomas\n"
     ]
    }
   ],
   "source": [
    "materias=raiz.findall(\"analisis/materias/materia\")\n",
    "for materia in materias:\n",
    "    print(materia.text)"
   ]
  },
  {
   "cell_type": "code",
   "execution_count": 117,
   "metadata": {},
   "outputs": [
    {
     "output_type": "execute_result",
     "data": {
      "text/plain": [
       "list"
      ]
     },
     "metadata": {},
     "execution_count": 117
    }
   ],
   "source": [
    "type(materias)"
   ]
  },
  {
   "cell_type": "code",
   "execution_count": 118,
   "metadata": {},
   "outputs": [
    {
     "output_type": "stream",
     "name": "stdout",
     "text": [
      "Asuntos sociales\nSanidad\n"
     ]
    }
   ],
   "source": [
    "alertas=raiz.findall(\"analisis/alertas/alerta\")\n",
    "for alerta in alertas:\n",
    "    print(alerta.text)"
   ]
  },
  {
   "source": [
    "# Recoge resumen diario del BOE de hoy"
   ],
   "cell_type": "markdown",
   "metadata": {}
  },
  {
   "cell_type": "code",
   "execution_count": 119,
   "metadata": {},
   "outputs": [
    {
     "output_type": "stream",
     "name": "stdout",
     "text": [
      "Fecha de Hoy = 20201127\ndia = 27\nmes = 11\naño = 2020\n"
     ]
    }
   ],
   "source": [
    "\n",
    "today = date.today()\n",
    "\n",
    "# dd/mm/YYYY\n",
    "hoy = today.strftime(\"%Y%m%d\")\n",
    "print(\"Fecha de Hoy =\", hoy)\n",
    "\n",
    "# dd\n",
    "d = today.strftime(\"%d\")\n",
    "print(\"dia =\", d)\n",
    "\n",
    "# mm\n",
    "m = today.strftime(\"%m\")\n",
    "print(\"mes =\", m)\n",
    "\n",
    "# YYYY\n",
    "Y = today.strftime(\"%Y\")\n",
    "print(\"año =\", Y)\n",
    "\n"
   ]
  },
  {
   "cell_type": "code",
   "execution_count": 120,
   "metadata": {},
   "outputs": [],
   "source": [
    "URL_XML_resumen =  \"https://www.boe.es/diario_boe/xml.php?id=BOE-S-\" + str(hoy)"
   ]
  },
  {
   "cell_type": "code",
   "execution_count": 121,
   "metadata": {},
   "outputs": [
    {
     "output_type": "execute_result",
     "data": {
      "text/plain": [
       "'https://www.boe.es/diario_boe/xml.php?id=BOE-S-20201127'"
      ]
     },
     "metadata": {},
     "execution_count": 121
    }
   ],
   "source": [
    "URL_XML_resumen"
   ]
  },
  {
   "cell_type": "code",
   "execution_count": 122,
   "metadata": {},
   "outputs": [],
   "source": [
    "#pip install requests for installation\n",
    "\n",
    "\n",
    "\n",
    "url = URL_XML_resumen\n",
    "r = requests.get(url)\n",
    "#r.content\n",
    "#r.text"
   ]
  },
  {
   "cell_type": "code",
   "execution_count": 123,
   "metadata": {},
   "outputs": [],
   "source": [
    "def save_html(html, path):\n",
    "    with open(path, 'wb') as f:\n",
    "        f.write(html)\n",
    "        \n",
    "        \n",
    "save_html(r.content, './BOEs/resumen.xml')"
   ]
  },
  {
   "cell_type": "code",
   "execution_count": 124,
   "metadata": {},
   "outputs": [],
   "source": [
    "#r.encoding"
   ]
  },
  {
   "cell_type": "code",
   "execution_count": 125,
   "metadata": {},
   "outputs": [],
   "source": [
    "resumen = etree.parse('./BOEs/resumen.xml')"
   ]
  },
  {
   "cell_type": "code",
   "execution_count": 126,
   "metadata": {},
   "outputs": [
    {
     "output_type": "execute_result",
     "data": {
      "text/plain": [
       "'sumario'"
      ]
     },
     "metadata": {},
     "execution_count": 126
    }
   ],
   "source": [
    "raiz=resumen.getroot()\n",
    "raiz.tag"
   ]
  },
  {
   "cell_type": "code",
   "execution_count": 127,
   "metadata": {},
   "outputs": [
    {
     "output_type": "execute_result",
     "data": {
      "text/plain": [
       "[]"
      ]
     },
     "metadata": {},
     "execution_count": 127
    }
   ],
   "source": [
    "seccion = raiz.findall(\"sumario/diario/seccion\")\n",
    "seccion"
   ]
  },
  {
   "cell_type": "code",
   "execution_count": 128,
   "metadata": {},
   "outputs": [],
   "source": [
    "secciones = raiz.findall(\"sumario/diario/seccion\")\n",
    "for seccion in secciones:\n",
    "    print(seccion.text)"
   ]
  },
  {
   "cell_type": "code",
   "execution_count": 129,
   "metadata": {},
   "outputs": [],
   "source": [
    "tabla_resumen = pd.DataFrame()"
   ]
  },
  {
   "cell_type": "code",
   "execution_count": 130,
   "metadata": {},
   "outputs": [],
   "source": [
    "for seccion in raiz.xpath('//seccion[contains(@nombre, \"I. Disposiciones generales\")]'):\n",
    "    nombre_seccion = seccion.xpath('@nombre')\n",
    "\n",
    "    for departamento in seccion:\n",
    "        nombre_departamento = departamento.xpath('@nombre') \n",
    "\n",
    "        for epigrafe in departamento:\n",
    "            nombre_epigrafe = epigrafe.xpath('@nombre')\n",
    "\n",
    "            for item in epigrafe:\n",
    "                item_id = item.xpath('@id')\n",
    "                item_name = item.xpath('.//titulo/text()') \n",
    "\n",
    "                item_urlXml = \"https://www.boe.es\" + str(item.xpath('.//urlXml/text()'))[2:-2]\n",
    "                #print(item_urlXml)\n",
    "\n",
    "                tabla_resumen = tabla_resumen.append({'Seccion': nombre_seccion, \n",
    "                                                      'Departamento': nombre_departamento, \n",
    "                                                      'Epigrafe' : nombre_epigrafe,\n",
    "                                                      'Item_id': item_id, \n",
    "                                                      'Item_Nombre' : item_name, \n",
    "                                                      'Item_URL_XML' : item_urlXml},\n",
    "                                                      ignore_index=True)\n"
   ]
  },
  {
   "cell_type": "code",
   "execution_count": 131,
   "metadata": {},
   "outputs": [
    {
     "output_type": "execute_result",
     "data": {
      "text/plain": [
       "                                        Departamento  \\\n",
       "0  [MINISTERIO DE ASUNTOS EXTERIORES, UNIÓN EUROP...   \n",
       "1  [MINISTERIO DE TRANSPORTES, MOVILIDAD Y AGENDA...   \n",
       "2          [MINISTERIO DE TRABAJO Y ECONOMÍA SOCIAL]   \n",
       "3      [MINISTERIO DE INDUSTRIA, COMERCIO Y TURISMO]   \n",
       "4  [MINISTERIO DE AGRICULTURA, PESCA Y ALIMENTACIÓN]   \n",
       "5  [MINISTERIO DE ASUNTOS ECONÓMICOS Y TRANSFORMA...   \n",
       "6                            [MINISTERIO DE SANIDAD]   \n",
       "7                                 [TRIBUNAL SUPREMO]   \n",
       "8                                 [TRIBUNAL SUPREMO]   \n",
       "\n",
       "                                     Epigrafe  \\\n",
       "0  [Acuerdos internacionales administrativos]   \n",
       "1                            [Aviación civil]   \n",
       "2      [Formación profesional para el empleo]   \n",
       "3                              [Subvenciones]   \n",
       "4                            [Pesca marítima]   \n",
       "5                [Moneda metálica. Acuñación]   \n",
       "6                              [Subvenciones]   \n",
       "7                                [Sentencias]   \n",
       "8                                [Sentencias]   \n",
       "\n",
       "                                         Item_Nombre  \\\n",
       "0  [Corrección de errores del Acuerdo Internacion...   \n",
       "1  [Resolución de 6 de noviembre de 2020, de la D...   \n",
       "2  [Orden TES/1109/2020, de 25 de noviembre, por ...   \n",
       "3  [Real Decreto 1040/2020, de 24 de noviembre, p...   \n",
       "4  [Real Decreto 968/2020, de 10 de noviembre, po...   \n",
       "5  [Orden ETD/1110/2020, de 25 de noviembre, por ...   \n",
       "6  [Real Decreto 1021/2020, de 17 de noviembre, p...   \n",
       "7  [Sentencia de 29 de septiembre de 2020, de la ...   \n",
       "8  [Sentencia de 15 de octubre de 2020, de la Sal...   \n",
       "\n",
       "                                        Item_URL_XML             Item_id  \\\n",
       "0  https://www.boe.es/diario_boe/xml.php?id=BOE-A...  [BOE-A-2020-15061]   \n",
       "1  https://www.boe.es/diario_boe/xml.php?id=BOE-A...  [BOE-A-2020-15062]   \n",
       "2  https://www.boe.es/diario_boe/xml.php?id=BOE-A...  [BOE-A-2020-15063]   \n",
       "3  https://www.boe.es/diario_boe/xml.php?id=BOE-A...  [BOE-A-2020-15064]   \n",
       "4  https://www.boe.es/diario_boe/xml.php?id=BOE-A...  [BOE-A-2020-15065]   \n",
       "5  https://www.boe.es/diario_boe/xml.php?id=BOE-A...  [BOE-A-2020-15066]   \n",
       "6  https://www.boe.es/diario_boe/xml.php?id=BOE-A...  [BOE-A-2020-15067]   \n",
       "7  https://www.boe.es/diario_boe/xml.php?id=BOE-A...  [BOE-A-2020-15068]   \n",
       "8  https://www.boe.es/diario_boe/xml.php?id=BOE-A...  [BOE-A-2020-15069]   \n",
       "\n",
       "                        Seccion  \n",
       "0  [I. Disposiciones generales]  \n",
       "1  [I. Disposiciones generales]  \n",
       "2  [I. Disposiciones generales]  \n",
       "3  [I. Disposiciones generales]  \n",
       "4  [I. Disposiciones generales]  \n",
       "5  [I. Disposiciones generales]  \n",
       "6  [I. Disposiciones generales]  \n",
       "7  [I. Disposiciones generales]  \n",
       "8  [I. Disposiciones generales]  "
      ],
      "text/html": "<div>\n<style scoped>\n    .dataframe tbody tr th:only-of-type {\n        vertical-align: middle;\n    }\n\n    .dataframe tbody tr th {\n        vertical-align: top;\n    }\n\n    .dataframe thead th {\n        text-align: right;\n    }\n</style>\n<table border=\"1\" class=\"dataframe\">\n  <thead>\n    <tr style=\"text-align: right;\">\n      <th></th>\n      <th>Departamento</th>\n      <th>Epigrafe</th>\n      <th>Item_Nombre</th>\n      <th>Item_URL_XML</th>\n      <th>Item_id</th>\n      <th>Seccion</th>\n    </tr>\n  </thead>\n  <tbody>\n    <tr>\n      <th>0</th>\n      <td>[MINISTERIO DE ASUNTOS EXTERIORES, UNIÓN EUROP...</td>\n      <td>[Acuerdos internacionales administrativos]</td>\n      <td>[Corrección de errores del Acuerdo Internacion...</td>\n      <td>https://www.boe.es/diario_boe/xml.php?id=BOE-A...</td>\n      <td>[BOE-A-2020-15061]</td>\n      <td>[I. Disposiciones generales]</td>\n    </tr>\n    <tr>\n      <th>1</th>\n      <td>[MINISTERIO DE TRANSPORTES, MOVILIDAD Y AGENDA...</td>\n      <td>[Aviación civil]</td>\n      <td>[Resolución de 6 de noviembre de 2020, de la D...</td>\n      <td>https://www.boe.es/diario_boe/xml.php?id=BOE-A...</td>\n      <td>[BOE-A-2020-15062]</td>\n      <td>[I. Disposiciones generales]</td>\n    </tr>\n    <tr>\n      <th>2</th>\n      <td>[MINISTERIO DE TRABAJO Y ECONOMÍA SOCIAL]</td>\n      <td>[Formación profesional para el empleo]</td>\n      <td>[Orden TES/1109/2020, de 25 de noviembre, por ...</td>\n      <td>https://www.boe.es/diario_boe/xml.php?id=BOE-A...</td>\n      <td>[BOE-A-2020-15063]</td>\n      <td>[I. Disposiciones generales]</td>\n    </tr>\n    <tr>\n      <th>3</th>\n      <td>[MINISTERIO DE INDUSTRIA, COMERCIO Y TURISMO]</td>\n      <td>[Subvenciones]</td>\n      <td>[Real Decreto 1040/2020, de 24 de noviembre, p...</td>\n      <td>https://www.boe.es/diario_boe/xml.php?id=BOE-A...</td>\n      <td>[BOE-A-2020-15064]</td>\n      <td>[I. Disposiciones generales]</td>\n    </tr>\n    <tr>\n      <th>4</th>\n      <td>[MINISTERIO DE AGRICULTURA, PESCA Y ALIMENTACIÓN]</td>\n      <td>[Pesca marítima]</td>\n      <td>[Real Decreto 968/2020, de 10 de noviembre, po...</td>\n      <td>https://www.boe.es/diario_boe/xml.php?id=BOE-A...</td>\n      <td>[BOE-A-2020-15065]</td>\n      <td>[I. Disposiciones generales]</td>\n    </tr>\n    <tr>\n      <th>5</th>\n      <td>[MINISTERIO DE ASUNTOS ECONÓMICOS Y TRANSFORMA...</td>\n      <td>[Moneda metálica. Acuñación]</td>\n      <td>[Orden ETD/1110/2020, de 25 de noviembre, por ...</td>\n      <td>https://www.boe.es/diario_boe/xml.php?id=BOE-A...</td>\n      <td>[BOE-A-2020-15066]</td>\n      <td>[I. Disposiciones generales]</td>\n    </tr>\n    <tr>\n      <th>6</th>\n      <td>[MINISTERIO DE SANIDAD]</td>\n      <td>[Subvenciones]</td>\n      <td>[Real Decreto 1021/2020, de 17 de noviembre, p...</td>\n      <td>https://www.boe.es/diario_boe/xml.php?id=BOE-A...</td>\n      <td>[BOE-A-2020-15067]</td>\n      <td>[I. Disposiciones generales]</td>\n    </tr>\n    <tr>\n      <th>7</th>\n      <td>[TRIBUNAL SUPREMO]</td>\n      <td>[Sentencias]</td>\n      <td>[Sentencia de 29 de septiembre de 2020, de la ...</td>\n      <td>https://www.boe.es/diario_boe/xml.php?id=BOE-A...</td>\n      <td>[BOE-A-2020-15068]</td>\n      <td>[I. Disposiciones generales]</td>\n    </tr>\n    <tr>\n      <th>8</th>\n      <td>[TRIBUNAL SUPREMO]</td>\n      <td>[Sentencias]</td>\n      <td>[Sentencia de 15 de octubre de 2020, de la Sal...</td>\n      <td>https://www.boe.es/diario_boe/xml.php?id=BOE-A...</td>\n      <td>[BOE-A-2020-15069]</td>\n      <td>[I. Disposiciones generales]</td>\n    </tr>\n  </tbody>\n</table>\n</div>"
     },
     "metadata": {},
     "execution_count": 131
    }
   ],
   "source": [
    "tabla_resumen.sort_values('Item_id')"
   ]
  },
  {
   "source": [
    "# Descarga ficheros XML asociados"
   ],
   "cell_type": "markdown",
   "metadata": {}
  },
  {
   "cell_type": "code",
   "execution_count": 132,
   "metadata": {},
   "outputs": [],
   "source": [
    "for item_URL in tabla_resumen['Item_URL_XML']:\n",
    "    #print(URL)\n",
    "    r = requests.get(item_URL)\n",
    "    f = './BOEs/' + item_URL[-16:] + '.xml'\n",
    "    save_html(r.content, f)"
   ]
  },
  {
   "cell_type": "code",
   "execution_count": 133,
   "metadata": {},
   "outputs": [
    {
     "output_type": "stream",
     "name": "stdout",
     "text": [
      "['./BOEs/BOE-A-2020-14465.xml', './BOEs/BOE-A-2020-14459.xml', './BOEs/BOE-A-2020-14458.xml', './BOEs/BOE-A-2020-14464.xml', './BOEs/BOE-A-2020-14466.xml', './BOEs/BOE-A-2020-14880.xml', './BOEs/BOE-A-2020-14467.xml', './BOEs/BOE-A-2020-14463.xml', './BOEs/BOE-A-2020-14462.xml', './BOEs/BOE-A-2020-14460.xml', './BOEs/BOE-A-2020-14879.xml', './BOEs/BOE-A-2020-14878.xml', './BOEs/BOE-A-2020-14461.xml', './BOEs/BOE-A-2020-14957.xml', './BOEs/BOE-A-2020-14956.xml', './BOEs/BOE-A-2020-15069.xml', './BOEs/BOE-A-2020-15068.xml', './BOEs/BOE-A-2020-14962.xml', './BOEs/BOE-A-2020-15063.xml', './BOEs/BOE-A-2020-15062.xml', './BOEs/BOE-A-2020-14963.xml', './BOEs/BOE-A-2020-14961.xml', './BOEs/BOE-A-2020-15061.xml', './BOEs/BOE-A-2020-14960.xml', './BOEs/BOE-A-2020-14964.xml', './BOEs/BOE-A-2020-14958.xml', './BOEs/BOE-A-2020-15065.xml', './BOEs/BOE-A-2020-15064.xml', './BOEs/BOE-A-2020-14959.xml', './BOEs/BOE-A-2020-14965.xml', './BOEs/BOE-A-2020-15066.xml', './BOEs/BOE-A-2020-15067.xml', './BOEs/BOE-A-2020-14875.xml', './BOEs/BOE-A-2020-14876.xml', './BOEs/BOE-A-2020-14877.xml', './BOEs/BOE-A-2020-14457.xml']\n"
     ]
    }
   ],
   "source": [
    "\n",
    "import glob\n",
    "BOEs = glob.glob('./BOEs/BOE*.xml')\n",
    "print (BOEs)"
   ]
  },
  {
   "cell_type": "code",
   "execution_count": 134,
   "metadata": {},
   "outputs": [],
   "source": [
    "#import os\n",
    "#path = './BOEs'\n",
    "#BOEs = [f for f in os.listdir(path) if f.startswith('BOE')]\n",
    "#BOEs"
   ]
  },
  {
   "cell_type": "code",
   "execution_count": 135,
   "metadata": {},
   "outputs": [],
   "source": [
    "tabla_materias = pd.DataFrame()\n",
    "\n",
    "for BOE in BOEs:\n",
    "    #print (BOE)\n",
    "    BOE_XML = etree.parse(BOE)\n",
    "    raiz=BOE_XML.getroot()\n",
    "\n",
    "    materias = [materia.text for materia in raiz.findall('analisis/materias/materia')]\n",
    "    alertas = [alerta.text for alerta in raiz.findall('analisis/alertas/alerta')]\n",
    "    #Item_Id = '[' + BOE[7:23] + ']'\n",
    "    #Item_Id = raiz.find('metadatos/identificador')\n",
    "    Item_Id = raiz.xpath(\".//identificador/text()\")\n",
    " \n",
    "    #print(Item_Id, materias, alertas)\n",
    "    #tabla_materias.loc[['Item_id'], ['Materias']] = materias\n",
    "    tabla_materias = tabla_materias.append({'Item_id': Item_Id,\n",
    "                                            'Materias' : materias,\n",
    "                                            'Alertas' : alertas},\n",
    "                                            ignore_index=True)\n",
    "\n",
    "    #tabla_materias.Item_id.apply(list)\n",
    "    #fila_tabla = tabla_resumen.set_index('Item_id').filter(like=BOE[18:23], axis=0).reset_index()\n",
    "    #print(fila_tabla['Item_id'])\n",
    "\n",
    "    #tabla_resumen.loc[fila_tabla['Item_id']]['Materias'] = materias\n"
   ]
  },
  {
   "cell_type": "code",
   "execution_count": 136,
   "metadata": {},
   "outputs": [
    {
     "output_type": "execute_result",
     "data": {
      "text/plain": [
       "                                              Alertas             Item_id  \\\n",
       "35  [Relaciones internacionales, Sanidad, Sistema ...  [BOE-A-2020-14457]   \n",
       "2   [Educación y enseñanza, Relaciones internacion...  [BOE-A-2020-14458]   \n",
       "1   [Educación y enseñanza, Relaciones internacion...  [BOE-A-2020-14459]   \n",
       "9    [Administración de Justicia, Sistema financiero]  [BOE-A-2020-14460]   \n",
       "12                               [Sistema financiero]  [BOE-A-2020-14461]   \n",
       "8   [Comercio, Educación y enseñanza, Industria, S...  [BOE-A-2020-14462]   \n",
       "7   [Agricultura, Educación y enseñanza, Ganadería...  [BOE-A-2020-14463]   \n",
       "3   [Educación y enseñanza, Medio ambiente, Seguri...  [BOE-A-2020-14464]   \n",
       "0   [Educación y enseñanza, Pesca, Trabajo y emple...  [BOE-A-2020-14465]   \n",
       "4                                 [Comercio, Sanidad]  [BOE-A-2020-14466]   \n",
       "6                                                  []  [BOE-A-2020-14467]   \n",
       "32  [Asuntos sociales, Medio ambiente, Relaciones ...  [BOE-A-2020-14875]   \n",
       "33  [Organización de la Administración, Sanidad, S...  [BOE-A-2020-14876]   \n",
       "34                      [Sanidad, Sistema financiero]  [BOE-A-2020-14877]   \n",
       "11                [Organización de la Administración]  [BOE-A-2020-14878]   \n",
       "10                   [Asuntos sociales, Discapacidad]  [BOE-A-2020-14879]   \n",
       "5   [Asuntos sociales, Derecho Administrativo, Dis...  [BOE-A-2020-14880]   \n",
       "14  [Derecho Constitucional, Organización de la Ad...  [BOE-A-2020-14956]   \n",
       "13  [Agricultura, Deporte, Derecho Constitucional,...  [BOE-A-2020-14957]   \n",
       "25  [Derecho Constitucional, Organización de la Ad...  [BOE-A-2020-14958]   \n",
       "28  [Derecho Constitucional, Sistema tributario, V...  [BOE-A-2020-14959]   \n",
       "23  [Derecho Administrativo, Organización de la Ad...  [BOE-A-2020-14960]   \n",
       "21                                   [Cultura y ocio]  [BOE-A-2020-14961]   \n",
       "17  [Derecho Administrativo, Derecho Mercantil, Si...  [BOE-A-2020-14962]   \n",
       "20   [Derecho Mercantil, Sanidad, Sistema financiero]  [BOE-A-2020-14963]   \n",
       "24   [Derecho Mercantil, Sanidad, Sistema financiero]  [BOE-A-2020-14964]   \n",
       "29                                 [Seguridad Social]  [BOE-A-2020-14965]   \n",
       "22  [Relaciones internacionales, Sanidad, Sistema ...  [BOE-A-2020-15061]   \n",
       "19          [Trabajo y empleo, Transportes y tráfico]  [BOE-A-2020-15062]   \n",
       "18                                 [Trabajo y empleo]  [BOE-A-2020-15063]   \n",
       "27                           [Obras y construcciones]  [BOE-A-2020-15064]   \n",
       "26                                            [Pesca]  [BOE-A-2020-15065]   \n",
       "30                                   [Cultura y ocio]  [BOE-A-2020-15066]   \n",
       "31                                          [Sanidad]  [BOE-A-2020-15067]   \n",
       "16    [Derecho Administrativo, Transportes y tráfico]  [BOE-A-2020-15068]   \n",
       "15                                                 []  [BOE-A-2020-15069]   \n",
       "\n",
       "                                             Materias  \n",
       "35  [Acuerdos internacionales, Créditos Presupuest...  \n",
       "2   [Acuerdos internacionales, Barcelona, Centros ...  \n",
       "1   [Acuerdos internacionales, Barcelona, Centros ...  \n",
       "9   [Ayuntamientos, Créditos Presupuestarios, Juzg...  \n",
       "12  [Administración y Contabilidad de la Hacienda ...  \n",
       "8   [Catálogo Nacional de Cualificaciones Profesio...  \n",
       "7   [Agricultura, Catálogo Nacional de Cualificaci...  \n",
       "3   [Bomberos, Catálogo Nacional de Cualificacione...  \n",
       "0   [Actividades subacuáticas, Acuicultura, Catálo...  \n",
       "4   [Comercialización, Epidemias, Material sanitar...  \n",
       "6   [Actividades económicas, Administración Local,...  \n",
       "32  [Acuerdos internacionales, Ayuda al desarrollo...  \n",
       "33  [Asistencia sanitaria, Ayudas, Cesión de Tribu...  \n",
       "34  [Asistencia sanitaria, Ayudas, Comunidades Aut...  \n",
       "11  [Dirección General de Ordenación Profesional, ...  \n",
       "10  [Asistencia social, Ceuta, Discapacidad, Melil...  \n",
       "5   [Asistencia social, Asociaciones, Ayudas, Dire...  \n",
       "14  [Asturias, Organización de las Comunidades Aut...  \n",
       "13  [Agricultura, Comités consultivos, Contaminaci...  \n",
       "25  [Comunidades Autónomas, Delegación de atribuci...  \n",
       "28  [Ayuntamientos, Catastros, Cuestiones de incon...  \n",
       "23  [Agencia Española de Medicamentos y Productos ...  \n",
       "21  [Ayudas, Cultura, Epidemias, Instituto Naciona...  \n",
       "17  [Aval, Caja General de Depósitos, Depósitos, D...  \n",
       "20  [Aval, Ayudas, Empresas, Epidemias, Instituto ...  \n",
       "24  [Aval, Ayudas, Empresas, Epidemias, Instituto ...  \n",
       "29  [Carbón, Cotización a la Seguridad Social, Min...  \n",
       "22  [Acuerdos internacionales, Créditos Presupuest...  \n",
       "19  [Agencias estatales, Descanso laboral, Epidemi...  \n",
       "18  [Ayudas, Becas, Capacitación profesional, Dese...  \n",
       "27  [Congresos, Edificaciones, León, Ministerio de...  \n",
       "26  [Cantábrico, Cuota de pesca, Material de pesca...  \n",
       "30       [Monedas conmemorativas, Transportes aéreos]  \n",
       "31  [Asistencia farmacéutica, Asistencia sanitaria...  \n",
       "16  [Autorizaciones, Transporte de viajeros, Trans...  \n",
       "15                                                 []  "
      ],
      "text/html": "<div>\n<style scoped>\n    .dataframe tbody tr th:only-of-type {\n        vertical-align: middle;\n    }\n\n    .dataframe tbody tr th {\n        vertical-align: top;\n    }\n\n    .dataframe thead th {\n        text-align: right;\n    }\n</style>\n<table border=\"1\" class=\"dataframe\">\n  <thead>\n    <tr style=\"text-align: right;\">\n      <th></th>\n      <th>Alertas</th>\n      <th>Item_id</th>\n      <th>Materias</th>\n    </tr>\n  </thead>\n  <tbody>\n    <tr>\n      <th>35</th>\n      <td>[Relaciones internacionales, Sanidad, Sistema ...</td>\n      <td>[BOE-A-2020-14457]</td>\n      <td>[Acuerdos internacionales, Créditos Presupuest...</td>\n    </tr>\n    <tr>\n      <th>2</th>\n      <td>[Educación y enseñanza, Relaciones internacion...</td>\n      <td>[BOE-A-2020-14458]</td>\n      <td>[Acuerdos internacionales, Barcelona, Centros ...</td>\n    </tr>\n    <tr>\n      <th>1</th>\n      <td>[Educación y enseñanza, Relaciones internacion...</td>\n      <td>[BOE-A-2020-14459]</td>\n      <td>[Acuerdos internacionales, Barcelona, Centros ...</td>\n    </tr>\n    <tr>\n      <th>9</th>\n      <td>[Administración de Justicia, Sistema financiero]</td>\n      <td>[BOE-A-2020-14460]</td>\n      <td>[Ayuntamientos, Créditos Presupuestarios, Juzg...</td>\n    </tr>\n    <tr>\n      <th>12</th>\n      <td>[Sistema financiero]</td>\n      <td>[BOE-A-2020-14461]</td>\n      <td>[Administración y Contabilidad de la Hacienda ...</td>\n    </tr>\n    <tr>\n      <th>8</th>\n      <td>[Comercio, Educación y enseñanza, Industria, S...</td>\n      <td>[BOE-A-2020-14462]</td>\n      <td>[Catálogo Nacional de Cualificaciones Profesio...</td>\n    </tr>\n    <tr>\n      <th>7</th>\n      <td>[Agricultura, Educación y enseñanza, Ganadería...</td>\n      <td>[BOE-A-2020-14463]</td>\n      <td>[Agricultura, Catálogo Nacional de Cualificaci...</td>\n    </tr>\n    <tr>\n      <th>3</th>\n      <td>[Educación y enseñanza, Medio ambiente, Seguri...</td>\n      <td>[BOE-A-2020-14464]</td>\n      <td>[Bomberos, Catálogo Nacional de Cualificacione...</td>\n    </tr>\n    <tr>\n      <th>0</th>\n      <td>[Educación y enseñanza, Pesca, Trabajo y emple...</td>\n      <td>[BOE-A-2020-14465]</td>\n      <td>[Actividades subacuáticas, Acuicultura, Catálo...</td>\n    </tr>\n    <tr>\n      <th>4</th>\n      <td>[Comercio, Sanidad]</td>\n      <td>[BOE-A-2020-14466]</td>\n      <td>[Comercialización, Epidemias, Material sanitar...</td>\n    </tr>\n    <tr>\n      <th>6</th>\n      <td>[]</td>\n      <td>[BOE-A-2020-14467]</td>\n      <td>[Actividades económicas, Administración Local,...</td>\n    </tr>\n    <tr>\n      <th>32</th>\n      <td>[Asuntos sociales, Medio ambiente, Relaciones ...</td>\n      <td>[BOE-A-2020-14875]</td>\n      <td>[Acuerdos internacionales, Ayuda al desarrollo...</td>\n    </tr>\n    <tr>\n      <th>33</th>\n      <td>[Organización de la Administración, Sanidad, S...</td>\n      <td>[BOE-A-2020-14876]</td>\n      <td>[Asistencia sanitaria, Ayudas, Cesión de Tribu...</td>\n    </tr>\n    <tr>\n      <th>34</th>\n      <td>[Sanidad, Sistema financiero]</td>\n      <td>[BOE-A-2020-14877]</td>\n      <td>[Asistencia sanitaria, Ayudas, Comunidades Aut...</td>\n    </tr>\n    <tr>\n      <th>11</th>\n      <td>[Organización de la Administración]</td>\n      <td>[BOE-A-2020-14878]</td>\n      <td>[Dirección General de Ordenación Profesional, ...</td>\n    </tr>\n    <tr>\n      <th>10</th>\n      <td>[Asuntos sociales, Discapacidad]</td>\n      <td>[BOE-A-2020-14879]</td>\n      <td>[Asistencia social, Ceuta, Discapacidad, Melil...</td>\n    </tr>\n    <tr>\n      <th>5</th>\n      <td>[Asuntos sociales, Derecho Administrativo, Dis...</td>\n      <td>[BOE-A-2020-14880]</td>\n      <td>[Asistencia social, Asociaciones, Ayudas, Dire...</td>\n    </tr>\n    <tr>\n      <th>14</th>\n      <td>[Derecho Constitucional, Organización de la Ad...</td>\n      <td>[BOE-A-2020-14956]</td>\n      <td>[Asturias, Organización de las Comunidades Aut...</td>\n    </tr>\n    <tr>\n      <th>13</th>\n      <td>[Agricultura, Deporte, Derecho Constitucional,...</td>\n      <td>[BOE-A-2020-14957]</td>\n      <td>[Agricultura, Comités consultivos, Contaminaci...</td>\n    </tr>\n    <tr>\n      <th>25</th>\n      <td>[Derecho Constitucional, Organización de la Ad...</td>\n      <td>[BOE-A-2020-14958]</td>\n      <td>[Comunidades Autónomas, Delegación de atribuci...</td>\n    </tr>\n    <tr>\n      <th>28</th>\n      <td>[Derecho Constitucional, Sistema tributario, V...</td>\n      <td>[BOE-A-2020-14959]</td>\n      <td>[Ayuntamientos, Catastros, Cuestiones de incon...</td>\n    </tr>\n    <tr>\n      <th>23</th>\n      <td>[Derecho Administrativo, Organización de la Ad...</td>\n      <td>[BOE-A-2020-14960]</td>\n      <td>[Agencia Española de Medicamentos y Productos ...</td>\n    </tr>\n    <tr>\n      <th>21</th>\n      <td>[Cultura y ocio]</td>\n      <td>[BOE-A-2020-14961]</td>\n      <td>[Ayudas, Cultura, Epidemias, Instituto Naciona...</td>\n    </tr>\n    <tr>\n      <th>17</th>\n      <td>[Derecho Administrativo, Derecho Mercantil, Si...</td>\n      <td>[BOE-A-2020-14962]</td>\n      <td>[Aval, Caja General de Depósitos, Depósitos, D...</td>\n    </tr>\n    <tr>\n      <th>20</th>\n      <td>[Derecho Mercantil, Sanidad, Sistema financiero]</td>\n      <td>[BOE-A-2020-14963]</td>\n      <td>[Aval, Ayudas, Empresas, Epidemias, Instituto ...</td>\n    </tr>\n    <tr>\n      <th>24</th>\n      <td>[Derecho Mercantil, Sanidad, Sistema financiero]</td>\n      <td>[BOE-A-2020-14964]</td>\n      <td>[Aval, Ayudas, Empresas, Epidemias, Instituto ...</td>\n    </tr>\n    <tr>\n      <th>29</th>\n      <td>[Seguridad Social]</td>\n      <td>[BOE-A-2020-14965]</td>\n      <td>[Carbón, Cotización a la Seguridad Social, Min...</td>\n    </tr>\n    <tr>\n      <th>22</th>\n      <td>[Relaciones internacionales, Sanidad, Sistema ...</td>\n      <td>[BOE-A-2020-15061]</td>\n      <td>[Acuerdos internacionales, Créditos Presupuest...</td>\n    </tr>\n    <tr>\n      <th>19</th>\n      <td>[Trabajo y empleo, Transportes y tráfico]</td>\n      <td>[BOE-A-2020-15062]</td>\n      <td>[Agencias estatales, Descanso laboral, Epidemi...</td>\n    </tr>\n    <tr>\n      <th>18</th>\n      <td>[Trabajo y empleo]</td>\n      <td>[BOE-A-2020-15063]</td>\n      <td>[Ayudas, Becas, Capacitación profesional, Dese...</td>\n    </tr>\n    <tr>\n      <th>27</th>\n      <td>[Obras y construcciones]</td>\n      <td>[BOE-A-2020-15064]</td>\n      <td>[Congresos, Edificaciones, León, Ministerio de...</td>\n    </tr>\n    <tr>\n      <th>26</th>\n      <td>[Pesca]</td>\n      <td>[BOE-A-2020-15065]</td>\n      <td>[Cantábrico, Cuota de pesca, Material de pesca...</td>\n    </tr>\n    <tr>\n      <th>30</th>\n      <td>[Cultura y ocio]</td>\n      <td>[BOE-A-2020-15066]</td>\n      <td>[Monedas conmemorativas, Transportes aéreos]</td>\n    </tr>\n    <tr>\n      <th>31</th>\n      <td>[Sanidad]</td>\n      <td>[BOE-A-2020-15067]</td>\n      <td>[Asistencia farmacéutica, Asistencia sanitaria...</td>\n    </tr>\n    <tr>\n      <th>16</th>\n      <td>[Derecho Administrativo, Transportes y tráfico]</td>\n      <td>[BOE-A-2020-15068]</td>\n      <td>[Autorizaciones, Transporte de viajeros, Trans...</td>\n    </tr>\n    <tr>\n      <th>15</th>\n      <td>[]</td>\n      <td>[BOE-A-2020-15069]</td>\n      <td>[]</td>\n    </tr>\n  </tbody>\n</table>\n</div>"
     },
     "metadata": {},
     "execution_count": 136
    }
   ],
   "source": [
    "tabla_materias.sort_values('Item_id')"
   ]
  },
  {
   "cell_type": "code",
   "execution_count": 137,
   "metadata": {},
   "outputs": [
    {
     "output_type": "stream",
     "name": "stdout",
     "text": [
      "documento\n"
     ]
    }
   ],
   "source": [
    "print(raiz.tag)"
   ]
  },
  {
   "cell_type": "code",
   "execution_count": 138,
   "metadata": {},
   "outputs": [
    {
     "output_type": "stream",
     "name": "stdout",
     "text": [
      "[]\n"
     ]
    }
   ],
   "source": [
    "for materias in raiz.xpath('.//materias'):\n",
    "    materia = seccion.xpath('.//materia/text()')\n",
    "    print(materia)"
   ]
  },
  {
   "cell_type": "code",
   "execution_count": 139,
   "metadata": {},
   "outputs": [
    {
     "output_type": "stream",
     "name": "stdout",
     "text": [
      "Acuerdos internacionales\nCréditos Presupuestarios\nMinisterio de Sanidad\nOrganización Mundial de la Salud\nTrasplantes de órganos\n"
     ]
    }
   ],
   "source": [
    "materias=raiz.findall(\"analisis/materias/materia\")\n",
    "for materia in materias:\n",
    "    print(materia.text)"
   ]
  },
  {
   "cell_type": "code",
   "execution_count": 140,
   "metadata": {},
   "outputs": [
    {
     "output_type": "stream",
     "name": "stdout",
     "text": [
      "Relaciones internacionales\nSanidad\nSistema financiero\n"
     ]
    }
   ],
   "source": [
    "alertas=raiz.findall(\"analisis/alertas/alerta\")\n",
    "for alerta in alertas:\n",
    "    print(alerta.text)"
   ]
  },
  {
   "cell_type": "code",
   "execution_count": 141,
   "metadata": {},
   "outputs": [
    {
     "output_type": "stream",
     "name": "stdout",
     "text": [
      "Empty DataFrame\n",
      "Columns: [Departamento, Epigrafe, Item_Nombre, Item_URL_XML, Item_id, Seccion]\n",
      "Index: []\n"
     ]
    }
   ],
   "source": [
    "#tabla_resumen.loc[tabla_resumen['Item_id'] == '[' + BOE[7:23] + ']']\n",
    "print(tabla_resumen.loc[tabla_resumen['Item_id'] == '[BOE-A-2020-14457]'])"
   ]
  },
  {
   "cell_type": "code",
   "execution_count": 142,
   "metadata": {},
   "outputs": [
    {
     "output_type": "execute_result",
     "data": {
      "text/plain": [
       "'BOE-A-2020-14457'"
      ]
     },
     "metadata": {},
     "execution_count": 142
    }
   ],
   "source": [
    "BOE[7:23]"
   ]
  },
  {
   "cell_type": "code",
   "execution_count": 143,
   "metadata": {},
   "outputs": [
    {
     "output_type": "execute_result",
     "data": {
      "text/plain": [
       "0    [BOE-A-2020-15061]\n",
       "1    [BOE-A-2020-15062]\n",
       "2    [BOE-A-2020-15063]\n",
       "3    [BOE-A-2020-15064]\n",
       "4    [BOE-A-2020-15065]\n",
       "5    [BOE-A-2020-15066]\n",
       "6    [BOE-A-2020-15067]\n",
       "7    [BOE-A-2020-15068]\n",
       "8    [BOE-A-2020-15069]\n",
       "Name: Item_id, dtype: object"
      ]
     },
     "metadata": {},
     "execution_count": 143
    }
   ],
   "source": [
    "tabla_resumen['Item_id']"
   ]
  },
  {
   "cell_type": "code",
   "execution_count": 144,
   "metadata": {},
   "outputs": [
    {
     "output_type": "execute_result",
     "data": {
      "text/plain": [
       "0     [BOE-A-2020-14465]\n",
       "1     [BOE-A-2020-14459]\n",
       "2     [BOE-A-2020-14458]\n",
       "3     [BOE-A-2020-14464]\n",
       "4     [BOE-A-2020-14466]\n",
       "5     [BOE-A-2020-14880]\n",
       "6     [BOE-A-2020-14467]\n",
       "7     [BOE-A-2020-14463]\n",
       "8     [BOE-A-2020-14462]\n",
       "9     [BOE-A-2020-14460]\n",
       "10    [BOE-A-2020-14879]\n",
       "11    [BOE-A-2020-14878]\n",
       "12    [BOE-A-2020-14461]\n",
       "13    [BOE-A-2020-14957]\n",
       "14    [BOE-A-2020-14956]\n",
       "15    [BOE-A-2020-15069]\n",
       "16    [BOE-A-2020-15068]\n",
       "17    [BOE-A-2020-14962]\n",
       "18    [BOE-A-2020-15063]\n",
       "19    [BOE-A-2020-15062]\n",
       "20    [BOE-A-2020-14963]\n",
       "21    [BOE-A-2020-14961]\n",
       "22    [BOE-A-2020-15061]\n",
       "23    [BOE-A-2020-14960]\n",
       "24    [BOE-A-2020-14964]\n",
       "25    [BOE-A-2020-14958]\n",
       "26    [BOE-A-2020-15065]\n",
       "27    [BOE-A-2020-15064]\n",
       "28    [BOE-A-2020-14959]\n",
       "29    [BOE-A-2020-14965]\n",
       "30    [BOE-A-2020-15066]\n",
       "31    [BOE-A-2020-15067]\n",
       "32    [BOE-A-2020-14875]\n",
       "33    [BOE-A-2020-14876]\n",
       "34    [BOE-A-2020-14877]\n",
       "35    [BOE-A-2020-14457]\n",
       "Name: Item_id, dtype: object"
      ]
     },
     "metadata": {},
     "execution_count": 144
    }
   ],
   "source": [
    "tabla_materias['Item_id']"
   ]
  },
  {
   "cell_type": "code",
   "execution_count": 145,
   "metadata": {},
   "outputs": [
    {
     "output_type": "execute_result",
     "data": {
      "text/plain": [
       "Departamento    object\n",
       "Epigrafe        object\n",
       "Item_Nombre     object\n",
       "Item_URL_XML    object\n",
       "Item_id         object\n",
       "Seccion         object\n",
       "dtype: object"
      ]
     },
     "metadata": {},
     "execution_count": 145
    }
   ],
   "source": [
    "tabla_resumen.dtypes"
   ]
  },
  {
   "cell_type": "code",
   "execution_count": 146,
   "metadata": {},
   "outputs": [
    {
     "output_type": "execute_result",
     "data": {
      "text/plain": [
       "Empty DataFrame\n",
       "Columns: [Departamento, Epigrafe, Item_Nombre, Item_URL_XML, Seccion]\n",
       "Index: []"
      ],
      "text/html": "<div>\n<style scoped>\n    .dataframe tbody tr th:only-of-type {\n        vertical-align: middle;\n    }\n\n    .dataframe tbody tr th {\n        vertical-align: top;\n    }\n\n    .dataframe thead th {\n        text-align: right;\n    }\n</style>\n<table border=\"1\" class=\"dataframe\">\n  <thead>\n    <tr style=\"text-align: right;\">\n      <th></th>\n      <th>Departamento</th>\n      <th>Epigrafe</th>\n      <th>Item_Nombre</th>\n      <th>Item_URL_XML</th>\n      <th>Seccion</th>\n    </tr>\n    <tr>\n      <th>Item_id</th>\n      <th></th>\n      <th></th>\n      <th></th>\n      <th></th>\n      <th></th>\n    </tr>\n  </thead>\n  <tbody>\n  </tbody>\n</table>\n</div>"
     },
     "metadata": {},
     "execution_count": 146
    }
   ],
   "source": [
    "tabla_resumen.set_index('Item_id').filter(like='14875', axis=0)"
   ]
  },
  {
   "cell_type": "code",
   "execution_count": 147,
   "metadata": {},
   "outputs": [],
   "source": [
    "#tabla_resumen = tabla_resumen.astype(str)\n",
    "#tabla_resumen['Joined'] = tabla_resumen.Item_id.apply(', '.join)\n",
    "#tabla_resumen['Item_id']=tabla_resumen['Item_id']"
   ]
  },
  {
   "cell_type": "code",
   "execution_count": 148,
   "metadata": {},
   "outputs": [
    {
     "output_type": "execute_result",
     "data": {
      "text/plain": [
       "Departamento    object\n",
       "Epigrafe        object\n",
       "Item_Nombre     object\n",
       "Item_URL_XML    object\n",
       "Item_id         object\n",
       "Seccion         object\n",
       "dtype: object"
      ]
     },
     "metadata": {},
     "execution_count": 148
    }
   ],
   "source": [
    "tabla_resumen.dtypes"
   ]
  },
  {
   "cell_type": "code",
   "execution_count": 149,
   "metadata": {},
   "outputs": [
    {
     "output_type": "execute_result",
     "data": {
      "text/plain": [
       "                                        Departamento  \\\n",
       "0  [MINISTERIO DE ASUNTOS EXTERIORES, UNIÓN EUROP...   \n",
       "1  [MINISTERIO DE TRANSPORTES, MOVILIDAD Y AGENDA...   \n",
       "2          [MINISTERIO DE TRABAJO Y ECONOMÍA SOCIAL]   \n",
       "3      [MINISTERIO DE INDUSTRIA, COMERCIO Y TURISMO]   \n",
       "4  [MINISTERIO DE AGRICULTURA, PESCA Y ALIMENTACIÓN]   \n",
       "5  [MINISTERIO DE ASUNTOS ECONÓMICOS Y TRANSFORMA...   \n",
       "6                            [MINISTERIO DE SANIDAD]   \n",
       "7                                 [TRIBUNAL SUPREMO]   \n",
       "8                                 [TRIBUNAL SUPREMO]   \n",
       "\n",
       "                                     Epigrafe  \\\n",
       "0  [Acuerdos internacionales administrativos]   \n",
       "1                            [Aviación civil]   \n",
       "2      [Formación profesional para el empleo]   \n",
       "3                              [Subvenciones]   \n",
       "4                            [Pesca marítima]   \n",
       "5                [Moneda metálica. Acuñación]   \n",
       "6                              [Subvenciones]   \n",
       "7                                [Sentencias]   \n",
       "8                                [Sentencias]   \n",
       "\n",
       "                                         Item_Nombre  \\\n",
       "0  [Corrección de errores del Acuerdo Internacion...   \n",
       "1  [Resolución de 6 de noviembre de 2020, de la D...   \n",
       "2  [Orden TES/1109/2020, de 25 de noviembre, por ...   \n",
       "3  [Real Decreto 1040/2020, de 24 de noviembre, p...   \n",
       "4  [Real Decreto 968/2020, de 10 de noviembre, po...   \n",
       "5  [Orden ETD/1110/2020, de 25 de noviembre, por ...   \n",
       "6  [Real Decreto 1021/2020, de 17 de noviembre, p...   \n",
       "7  [Sentencia de 29 de septiembre de 2020, de la ...   \n",
       "8  [Sentencia de 15 de octubre de 2020, de la Sal...   \n",
       "\n",
       "                                        Item_URL_XML             Item_id  \\\n",
       "0  https://www.boe.es/diario_boe/xml.php?id=BOE-A...  [BOE-A-2020-15061]   \n",
       "1  https://www.boe.es/diario_boe/xml.php?id=BOE-A...  [BOE-A-2020-15062]   \n",
       "2  https://www.boe.es/diario_boe/xml.php?id=BOE-A...  [BOE-A-2020-15063]   \n",
       "3  https://www.boe.es/diario_boe/xml.php?id=BOE-A...  [BOE-A-2020-15064]   \n",
       "4  https://www.boe.es/diario_boe/xml.php?id=BOE-A...  [BOE-A-2020-15065]   \n",
       "5  https://www.boe.es/diario_boe/xml.php?id=BOE-A...  [BOE-A-2020-15066]   \n",
       "6  https://www.boe.es/diario_boe/xml.php?id=BOE-A...  [BOE-A-2020-15067]   \n",
       "7  https://www.boe.es/diario_boe/xml.php?id=BOE-A...  [BOE-A-2020-15068]   \n",
       "8  https://www.boe.es/diario_boe/xml.php?id=BOE-A...  [BOE-A-2020-15069]   \n",
       "\n",
       "                        Seccion  \n",
       "0  [I. Disposiciones generales]  \n",
       "1  [I. Disposiciones generales]  \n",
       "2  [I. Disposiciones generales]  \n",
       "3  [I. Disposiciones generales]  \n",
       "4  [I. Disposiciones generales]  \n",
       "5  [I. Disposiciones generales]  \n",
       "6  [I. Disposiciones generales]  \n",
       "7  [I. Disposiciones generales]  \n",
       "8  [I. Disposiciones generales]  "
      ],
      "text/html": "<div>\n<style scoped>\n    .dataframe tbody tr th:only-of-type {\n        vertical-align: middle;\n    }\n\n    .dataframe tbody tr th {\n        vertical-align: top;\n    }\n\n    .dataframe thead th {\n        text-align: right;\n    }\n</style>\n<table border=\"1\" class=\"dataframe\">\n  <thead>\n    <tr style=\"text-align: right;\">\n      <th></th>\n      <th>Departamento</th>\n      <th>Epigrafe</th>\n      <th>Item_Nombre</th>\n      <th>Item_URL_XML</th>\n      <th>Item_id</th>\n      <th>Seccion</th>\n    </tr>\n  </thead>\n  <tbody>\n    <tr>\n      <th>0</th>\n      <td>[MINISTERIO DE ASUNTOS EXTERIORES, UNIÓN EUROP...</td>\n      <td>[Acuerdos internacionales administrativos]</td>\n      <td>[Corrección de errores del Acuerdo Internacion...</td>\n      <td>https://www.boe.es/diario_boe/xml.php?id=BOE-A...</td>\n      <td>[BOE-A-2020-15061]</td>\n      <td>[I. Disposiciones generales]</td>\n    </tr>\n    <tr>\n      <th>1</th>\n      <td>[MINISTERIO DE TRANSPORTES, MOVILIDAD Y AGENDA...</td>\n      <td>[Aviación civil]</td>\n      <td>[Resolución de 6 de noviembre de 2020, de la D...</td>\n      <td>https://www.boe.es/diario_boe/xml.php?id=BOE-A...</td>\n      <td>[BOE-A-2020-15062]</td>\n      <td>[I. Disposiciones generales]</td>\n    </tr>\n    <tr>\n      <th>2</th>\n      <td>[MINISTERIO DE TRABAJO Y ECONOMÍA SOCIAL]</td>\n      <td>[Formación profesional para el empleo]</td>\n      <td>[Orden TES/1109/2020, de 25 de noviembre, por ...</td>\n      <td>https://www.boe.es/diario_boe/xml.php?id=BOE-A...</td>\n      <td>[BOE-A-2020-15063]</td>\n      <td>[I. Disposiciones generales]</td>\n    </tr>\n    <tr>\n      <th>3</th>\n      <td>[MINISTERIO DE INDUSTRIA, COMERCIO Y TURISMO]</td>\n      <td>[Subvenciones]</td>\n      <td>[Real Decreto 1040/2020, de 24 de noviembre, p...</td>\n      <td>https://www.boe.es/diario_boe/xml.php?id=BOE-A...</td>\n      <td>[BOE-A-2020-15064]</td>\n      <td>[I. Disposiciones generales]</td>\n    </tr>\n    <tr>\n      <th>4</th>\n      <td>[MINISTERIO DE AGRICULTURA, PESCA Y ALIMENTACIÓN]</td>\n      <td>[Pesca marítima]</td>\n      <td>[Real Decreto 968/2020, de 10 de noviembre, po...</td>\n      <td>https://www.boe.es/diario_boe/xml.php?id=BOE-A...</td>\n      <td>[BOE-A-2020-15065]</td>\n      <td>[I. Disposiciones generales]</td>\n    </tr>\n    <tr>\n      <th>5</th>\n      <td>[MINISTERIO DE ASUNTOS ECONÓMICOS Y TRANSFORMA...</td>\n      <td>[Moneda metálica. Acuñación]</td>\n      <td>[Orden ETD/1110/2020, de 25 de noviembre, por ...</td>\n      <td>https://www.boe.es/diario_boe/xml.php?id=BOE-A...</td>\n      <td>[BOE-A-2020-15066]</td>\n      <td>[I. Disposiciones generales]</td>\n    </tr>\n    <tr>\n      <th>6</th>\n      <td>[MINISTERIO DE SANIDAD]</td>\n      <td>[Subvenciones]</td>\n      <td>[Real Decreto 1021/2020, de 17 de noviembre, p...</td>\n      <td>https://www.boe.es/diario_boe/xml.php?id=BOE-A...</td>\n      <td>[BOE-A-2020-15067]</td>\n      <td>[I. Disposiciones generales]</td>\n    </tr>\n    <tr>\n      <th>7</th>\n      <td>[TRIBUNAL SUPREMO]</td>\n      <td>[Sentencias]</td>\n      <td>[Sentencia de 29 de septiembre de 2020, de la ...</td>\n      <td>https://www.boe.es/diario_boe/xml.php?id=BOE-A...</td>\n      <td>[BOE-A-2020-15068]</td>\n      <td>[I. Disposiciones generales]</td>\n    </tr>\n    <tr>\n      <th>8</th>\n      <td>[TRIBUNAL SUPREMO]</td>\n      <td>[Sentencias]</td>\n      <td>[Sentencia de 15 de octubre de 2020, de la Sal...</td>\n      <td>https://www.boe.es/diario_boe/xml.php?id=BOE-A...</td>\n      <td>[BOE-A-2020-15069]</td>\n      <td>[I. Disposiciones generales]</td>\n    </tr>\n  </tbody>\n</table>\n</div>"
     },
     "metadata": {},
     "execution_count": 149
    }
   ],
   "source": [
    "tabla_resumen.sort_values('Item_id')"
   ]
  },
  {
   "cell_type": "code",
   "execution_count": 150,
   "metadata": {},
   "outputs": [],
   "source": [
    "#for row in tabla_resumen:\n",
    "#    tabla_resumen.loc[row['Item_id']]['Materias'] = tabla_materias.loc[row['Item_id']]['Materias']"
   ]
  },
  {
   "cell_type": "code",
   "execution_count": 151,
   "metadata": {},
   "outputs": [],
   "source": [
    "tabla_resumen['Item_id'] = tabla_resumen['Item_id'].astype(str)\n",
    "tabla_materias['Item_id'] = tabla_materias['Item_id'].astype(str)\n",
    "tabla_resultados = tabla_resumen.set_index('Item_id').join(tabla_materias.set_index('Item_id'))\n"
   ]
  },
  {
   "cell_type": "code",
   "execution_count": 152,
   "metadata": {},
   "outputs": [
    {
     "output_type": "execute_result",
     "data": {
      "text/plain": [
       "                                                           Departamento  \\\n",
       "Item_id                                                                   \n",
       "['BOE-A-2020-15061']  [MINISTERIO DE ASUNTOS EXTERIORES, UNIÓN EUROP...   \n",
       "['BOE-A-2020-15062']  [MINISTERIO DE TRANSPORTES, MOVILIDAD Y AGENDA...   \n",
       "['BOE-A-2020-15063']          [MINISTERIO DE TRABAJO Y ECONOMÍA SOCIAL]   \n",
       "['BOE-A-2020-15064']      [MINISTERIO DE INDUSTRIA, COMERCIO Y TURISMO]   \n",
       "['BOE-A-2020-15065']  [MINISTERIO DE AGRICULTURA, PESCA Y ALIMENTACIÓN]   \n",
       "['BOE-A-2020-15066']  [MINISTERIO DE ASUNTOS ECONÓMICOS Y TRANSFORMA...   \n",
       "['BOE-A-2020-15067']                            [MINISTERIO DE SANIDAD]   \n",
       "['BOE-A-2020-15068']                                 [TRIBUNAL SUPREMO]   \n",
       "['BOE-A-2020-15069']                                 [TRIBUNAL SUPREMO]   \n",
       "\n",
       "                                                        Epigrafe  \\\n",
       "Item_id                                                            \n",
       "['BOE-A-2020-15061']  [Acuerdos internacionales administrativos]   \n",
       "['BOE-A-2020-15062']                            [Aviación civil]   \n",
       "['BOE-A-2020-15063']      [Formación profesional para el empleo]   \n",
       "['BOE-A-2020-15064']                              [Subvenciones]   \n",
       "['BOE-A-2020-15065']                            [Pesca marítima]   \n",
       "['BOE-A-2020-15066']                [Moneda metálica. Acuñación]   \n",
       "['BOE-A-2020-15067']                              [Subvenciones]   \n",
       "['BOE-A-2020-15068']                                [Sentencias]   \n",
       "['BOE-A-2020-15069']                                [Sentencias]   \n",
       "\n",
       "                                                            Item_Nombre  \\\n",
       "Item_id                                                                   \n",
       "['BOE-A-2020-15061']  [Corrección de errores del Acuerdo Internacion...   \n",
       "['BOE-A-2020-15062']  [Resolución de 6 de noviembre de 2020, de la D...   \n",
       "['BOE-A-2020-15063']  [Orden TES/1109/2020, de 25 de noviembre, por ...   \n",
       "['BOE-A-2020-15064']  [Real Decreto 1040/2020, de 24 de noviembre, p...   \n",
       "['BOE-A-2020-15065']  [Real Decreto 968/2020, de 10 de noviembre, po...   \n",
       "['BOE-A-2020-15066']  [Orden ETD/1110/2020, de 25 de noviembre, por ...   \n",
       "['BOE-A-2020-15067']  [Real Decreto 1021/2020, de 17 de noviembre, p...   \n",
       "['BOE-A-2020-15068']  [Sentencia de 29 de septiembre de 2020, de la ...   \n",
       "['BOE-A-2020-15069']  [Sentencia de 15 de octubre de 2020, de la Sal...   \n",
       "\n",
       "                                                           Item_URL_XML  \\\n",
       "Item_id                                                                   \n",
       "['BOE-A-2020-15061']  https://www.boe.es/diario_boe/xml.php?id=BOE-A...   \n",
       "['BOE-A-2020-15062']  https://www.boe.es/diario_boe/xml.php?id=BOE-A...   \n",
       "['BOE-A-2020-15063']  https://www.boe.es/diario_boe/xml.php?id=BOE-A...   \n",
       "['BOE-A-2020-15064']  https://www.boe.es/diario_boe/xml.php?id=BOE-A...   \n",
       "['BOE-A-2020-15065']  https://www.boe.es/diario_boe/xml.php?id=BOE-A...   \n",
       "['BOE-A-2020-15066']  https://www.boe.es/diario_boe/xml.php?id=BOE-A...   \n",
       "['BOE-A-2020-15067']  https://www.boe.es/diario_boe/xml.php?id=BOE-A...   \n",
       "['BOE-A-2020-15068']  https://www.boe.es/diario_boe/xml.php?id=BOE-A...   \n",
       "['BOE-A-2020-15069']  https://www.boe.es/diario_boe/xml.php?id=BOE-A...   \n",
       "\n",
       "                                           Seccion  \\\n",
       "Item_id                                              \n",
       "['BOE-A-2020-15061']  [I. Disposiciones generales]   \n",
       "['BOE-A-2020-15062']  [I. Disposiciones generales]   \n",
       "['BOE-A-2020-15063']  [I. Disposiciones generales]   \n",
       "['BOE-A-2020-15064']  [I. Disposiciones generales]   \n",
       "['BOE-A-2020-15065']  [I. Disposiciones generales]   \n",
       "['BOE-A-2020-15066']  [I. Disposiciones generales]   \n",
       "['BOE-A-2020-15067']  [I. Disposiciones generales]   \n",
       "['BOE-A-2020-15068']  [I. Disposiciones generales]   \n",
       "['BOE-A-2020-15069']  [I. Disposiciones generales]   \n",
       "\n",
       "                                                                Alertas  \\\n",
       "Item_id                                                                   \n",
       "['BOE-A-2020-15061']  [Relaciones internacionales, Sanidad, Sistema ...   \n",
       "['BOE-A-2020-15062']          [Trabajo y empleo, Transportes y tráfico]   \n",
       "['BOE-A-2020-15063']                                 [Trabajo y empleo]   \n",
       "['BOE-A-2020-15064']                           [Obras y construcciones]   \n",
       "['BOE-A-2020-15065']                                            [Pesca]   \n",
       "['BOE-A-2020-15066']                                   [Cultura y ocio]   \n",
       "['BOE-A-2020-15067']                                          [Sanidad]   \n",
       "['BOE-A-2020-15068']    [Derecho Administrativo, Transportes y tráfico]   \n",
       "['BOE-A-2020-15069']                                                 []   \n",
       "\n",
       "                                                               Materias  \n",
       "Item_id                                                                  \n",
       "['BOE-A-2020-15061']  [Acuerdos internacionales, Créditos Presupuest...  \n",
       "['BOE-A-2020-15062']  [Agencias estatales, Descanso laboral, Epidemi...  \n",
       "['BOE-A-2020-15063']  [Ayudas, Becas, Capacitación profesional, Dese...  \n",
       "['BOE-A-2020-15064']  [Congresos, Edificaciones, León, Ministerio de...  \n",
       "['BOE-A-2020-15065']  [Cantábrico, Cuota de pesca, Material de pesca...  \n",
       "['BOE-A-2020-15066']       [Monedas conmemorativas, Transportes aéreos]  \n",
       "['BOE-A-2020-15067']  [Asistencia farmacéutica, Asistencia sanitaria...  \n",
       "['BOE-A-2020-15068']  [Autorizaciones, Transporte de viajeros, Trans...  \n",
       "['BOE-A-2020-15069']                                                 []  "
      ],
      "text/html": "<div>\n<style scoped>\n    .dataframe tbody tr th:only-of-type {\n        vertical-align: middle;\n    }\n\n    .dataframe tbody tr th {\n        vertical-align: top;\n    }\n\n    .dataframe thead th {\n        text-align: right;\n    }\n</style>\n<table border=\"1\" class=\"dataframe\">\n  <thead>\n    <tr style=\"text-align: right;\">\n      <th></th>\n      <th>Departamento</th>\n      <th>Epigrafe</th>\n      <th>Item_Nombre</th>\n      <th>Item_URL_XML</th>\n      <th>Seccion</th>\n      <th>Alertas</th>\n      <th>Materias</th>\n    </tr>\n    <tr>\n      <th>Item_id</th>\n      <th></th>\n      <th></th>\n      <th></th>\n      <th></th>\n      <th></th>\n      <th></th>\n      <th></th>\n    </tr>\n  </thead>\n  <tbody>\n    <tr>\n      <th>['BOE-A-2020-15061']</th>\n      <td>[MINISTERIO DE ASUNTOS EXTERIORES, UNIÓN EUROP...</td>\n      <td>[Acuerdos internacionales administrativos]</td>\n      <td>[Corrección de errores del Acuerdo Internacion...</td>\n      <td>https://www.boe.es/diario_boe/xml.php?id=BOE-A...</td>\n      <td>[I. Disposiciones generales]</td>\n      <td>[Relaciones internacionales, Sanidad, Sistema ...</td>\n      <td>[Acuerdos internacionales, Créditos Presupuest...</td>\n    </tr>\n    <tr>\n      <th>['BOE-A-2020-15062']</th>\n      <td>[MINISTERIO DE TRANSPORTES, MOVILIDAD Y AGENDA...</td>\n      <td>[Aviación civil]</td>\n      <td>[Resolución de 6 de noviembre de 2020, de la D...</td>\n      <td>https://www.boe.es/diario_boe/xml.php?id=BOE-A...</td>\n      <td>[I. Disposiciones generales]</td>\n      <td>[Trabajo y empleo, Transportes y tráfico]</td>\n      <td>[Agencias estatales, Descanso laboral, Epidemi...</td>\n    </tr>\n    <tr>\n      <th>['BOE-A-2020-15063']</th>\n      <td>[MINISTERIO DE TRABAJO Y ECONOMÍA SOCIAL]</td>\n      <td>[Formación profesional para el empleo]</td>\n      <td>[Orden TES/1109/2020, de 25 de noviembre, por ...</td>\n      <td>https://www.boe.es/diario_boe/xml.php?id=BOE-A...</td>\n      <td>[I. Disposiciones generales]</td>\n      <td>[Trabajo y empleo]</td>\n      <td>[Ayudas, Becas, Capacitación profesional, Dese...</td>\n    </tr>\n    <tr>\n      <th>['BOE-A-2020-15064']</th>\n      <td>[MINISTERIO DE INDUSTRIA, COMERCIO Y TURISMO]</td>\n      <td>[Subvenciones]</td>\n      <td>[Real Decreto 1040/2020, de 24 de noviembre, p...</td>\n      <td>https://www.boe.es/diario_boe/xml.php?id=BOE-A...</td>\n      <td>[I. Disposiciones generales]</td>\n      <td>[Obras y construcciones]</td>\n      <td>[Congresos, Edificaciones, León, Ministerio de...</td>\n    </tr>\n    <tr>\n      <th>['BOE-A-2020-15065']</th>\n      <td>[MINISTERIO DE AGRICULTURA, PESCA Y ALIMENTACIÓN]</td>\n      <td>[Pesca marítima]</td>\n      <td>[Real Decreto 968/2020, de 10 de noviembre, po...</td>\n      <td>https://www.boe.es/diario_boe/xml.php?id=BOE-A...</td>\n      <td>[I. Disposiciones generales]</td>\n      <td>[Pesca]</td>\n      <td>[Cantábrico, Cuota de pesca, Material de pesca...</td>\n    </tr>\n    <tr>\n      <th>['BOE-A-2020-15066']</th>\n      <td>[MINISTERIO DE ASUNTOS ECONÓMICOS Y TRANSFORMA...</td>\n      <td>[Moneda metálica. Acuñación]</td>\n      <td>[Orden ETD/1110/2020, de 25 de noviembre, por ...</td>\n      <td>https://www.boe.es/diario_boe/xml.php?id=BOE-A...</td>\n      <td>[I. Disposiciones generales]</td>\n      <td>[Cultura y ocio]</td>\n      <td>[Monedas conmemorativas, Transportes aéreos]</td>\n    </tr>\n    <tr>\n      <th>['BOE-A-2020-15067']</th>\n      <td>[MINISTERIO DE SANIDAD]</td>\n      <td>[Subvenciones]</td>\n      <td>[Real Decreto 1021/2020, de 17 de noviembre, p...</td>\n      <td>https://www.boe.es/diario_boe/xml.php?id=BOE-A...</td>\n      <td>[I. Disposiciones generales]</td>\n      <td>[Sanidad]</td>\n      <td>[Asistencia farmacéutica, Asistencia sanitaria...</td>\n    </tr>\n    <tr>\n      <th>['BOE-A-2020-15068']</th>\n      <td>[TRIBUNAL SUPREMO]</td>\n      <td>[Sentencias]</td>\n      <td>[Sentencia de 29 de septiembre de 2020, de la ...</td>\n      <td>https://www.boe.es/diario_boe/xml.php?id=BOE-A...</td>\n      <td>[I. Disposiciones generales]</td>\n      <td>[Derecho Administrativo, Transportes y tráfico]</td>\n      <td>[Autorizaciones, Transporte de viajeros, Trans...</td>\n    </tr>\n    <tr>\n      <th>['BOE-A-2020-15069']</th>\n      <td>[TRIBUNAL SUPREMO]</td>\n      <td>[Sentencias]</td>\n      <td>[Sentencia de 15 de octubre de 2020, de la Sal...</td>\n      <td>https://www.boe.es/diario_boe/xml.php?id=BOE-A...</td>\n      <td>[I. Disposiciones generales]</td>\n      <td>[]</td>\n      <td>[]</td>\n    </tr>\n  </tbody>\n</table>\n</div>"
     },
     "metadata": {},
     "execution_count": 152
    }
   ],
   "source": [
    "tabla_resultados"
   ]
  },
  {
   "cell_type": "code",
   "execution_count": 153,
   "metadata": {},
   "outputs": [],
   "source": [
    "tabla_resultados.to_csv('./BOEs/Resultados.csv', index=False)"
   ]
  },
  {
   "source": [
    "## Genera Split de ALertas y crea una fila para cada una"
   ],
   "cell_type": "markdown",
   "metadata": {}
  },
  {
   "source": [
    "### Los items sin Alerta se desechan"
   ],
   "cell_type": "markdown",
   "metadata": {}
  },
  {
   "cell_type": "code",
   "execution_count": 154,
   "metadata": {},
   "outputs": [
    {
     "output_type": "execute_result",
     "data": {
      "text/plain": [
       "                 Item_id                                        Item_Nombre  \\\n",
       "5   ['BOE-A-2020-15066']  [Orden ETD/1110/2020, de 25 de noviembre, por ...   \n",
       "7   ['BOE-A-2020-15068']  [Sentencia de 29 de septiembre de 2020, de la ...   \n",
       "3   ['BOE-A-2020-15064']  [Real Decreto 1040/2020, de 24 de noviembre, p...   \n",
       "4   ['BOE-A-2020-15065']  [Real Decreto 968/2020, de 10 de noviembre, po...   \n",
       "0   ['BOE-A-2020-15061']  [Corrección de errores del Acuerdo Internacion...   \n",
       "6   ['BOE-A-2020-15067']  [Real Decreto 1021/2020, de 17 de noviembre, p...   \n",
       "9   ['BOE-A-2020-15061']  [Corrección de errores del Acuerdo Internacion...   \n",
       "18  ['BOE-A-2020-15061']  [Corrección de errores del Acuerdo Internacion...   \n",
       "1   ['BOE-A-2020-15062']  [Resolución de 6 de noviembre de 2020, de la D...   \n",
       "2   ['BOE-A-2020-15063']  [Orden TES/1109/2020, de 25 de noviembre, por ...   \n",
       "10  ['BOE-A-2020-15062']  [Resolución de 6 de noviembre de 2020, de la D...   \n",
       "16  ['BOE-A-2020-15068']  [Sentencia de 29 de septiembre de 2020, de la ...   \n",
       "\n",
       "                         Seccion  \\\n",
       "5   [I. Disposiciones generales]   \n",
       "7   [I. Disposiciones generales]   \n",
       "3   [I. Disposiciones generales]   \n",
       "4   [I. Disposiciones generales]   \n",
       "0   [I. Disposiciones generales]   \n",
       "6   [I. Disposiciones generales]   \n",
       "9   [I. Disposiciones generales]   \n",
       "18  [I. Disposiciones generales]   \n",
       "1   [I. Disposiciones generales]   \n",
       "2   [I. Disposiciones generales]   \n",
       "10  [I. Disposiciones generales]   \n",
       "16  [I. Disposiciones generales]   \n",
       "\n",
       "                                         Departamento  \\\n",
       "5   [MINISTERIO DE ASUNTOS ECONÓMICOS Y TRANSFORMA...   \n",
       "7                                  [TRIBUNAL SUPREMO]   \n",
       "3       [MINISTERIO DE INDUSTRIA, COMERCIO Y TURISMO]   \n",
       "4   [MINISTERIO DE AGRICULTURA, PESCA Y ALIMENTACIÓN]   \n",
       "0   [MINISTERIO DE ASUNTOS EXTERIORES, UNIÓN EUROP...   \n",
       "6                             [MINISTERIO DE SANIDAD]   \n",
       "9   [MINISTERIO DE ASUNTOS EXTERIORES, UNIÓN EUROP...   \n",
       "18  [MINISTERIO DE ASUNTOS EXTERIORES, UNIÓN EUROP...   \n",
       "1   [MINISTERIO DE TRANSPORTES, MOVILIDAD Y AGENDA...   \n",
       "2           [MINISTERIO DE TRABAJO Y ECONOMÍA SOCIAL]   \n",
       "10  [MINISTERIO DE TRANSPORTES, MOVILIDAD Y AGENDA...   \n",
       "16                                 [TRIBUNAL SUPREMO]   \n",
       "\n",
       "                                      Epigrafe  \\\n",
       "5                 [Moneda metálica. Acuñación]   \n",
       "7                                 [Sentencias]   \n",
       "3                               [Subvenciones]   \n",
       "4                             [Pesca marítima]   \n",
       "0   [Acuerdos internacionales administrativos]   \n",
       "6                               [Subvenciones]   \n",
       "9   [Acuerdos internacionales administrativos]   \n",
       "18  [Acuerdos internacionales administrativos]   \n",
       "1                             [Aviación civil]   \n",
       "2       [Formación profesional para el empleo]   \n",
       "10                            [Aviación civil]   \n",
       "16                                [Sentencias]   \n",
       "\n",
       "                                         Item_URL_XML  \\\n",
       "5   https://www.boe.es/diario_boe/xml.php?id=BOE-A...   \n",
       "7   https://www.boe.es/diario_boe/xml.php?id=BOE-A...   \n",
       "3   https://www.boe.es/diario_boe/xml.php?id=BOE-A...   \n",
       "4   https://www.boe.es/diario_boe/xml.php?id=BOE-A...   \n",
       "0   https://www.boe.es/diario_boe/xml.php?id=BOE-A...   \n",
       "6   https://www.boe.es/diario_boe/xml.php?id=BOE-A...   \n",
       "9   https://www.boe.es/diario_boe/xml.php?id=BOE-A...   \n",
       "18  https://www.boe.es/diario_boe/xml.php?id=BOE-A...   \n",
       "1   https://www.boe.es/diario_boe/xml.php?id=BOE-A...   \n",
       "2   https://www.boe.es/diario_boe/xml.php?id=BOE-A...   \n",
       "10  https://www.boe.es/diario_boe/xml.php?id=BOE-A...   \n",
       "16  https://www.boe.es/diario_boe/xml.php?id=BOE-A...   \n",
       "\n",
       "                                             Materias  \\\n",
       "5        [Monedas conmemorativas, Transportes aéreos]   \n",
       "7   [Autorizaciones, Transporte de viajeros, Trans...   \n",
       "3   [Congresos, Edificaciones, León, Ministerio de...   \n",
       "4   [Cantábrico, Cuota de pesca, Material de pesca...   \n",
       "0   [Acuerdos internacionales, Créditos Presupuest...   \n",
       "6   [Asistencia farmacéutica, Asistencia sanitaria...   \n",
       "9   [Acuerdos internacionales, Créditos Presupuest...   \n",
       "18  [Acuerdos internacionales, Créditos Presupuest...   \n",
       "1   [Agencias estatales, Descanso laboral, Epidemi...   \n",
       "2   [Ayudas, Becas, Capacitación profesional, Dese...   \n",
       "10  [Agencias estatales, Descanso laboral, Epidemi...   \n",
       "16  [Autorizaciones, Transporte de viajeros, Trans...   \n",
       "\n",
       "                        Alerta  \n",
       "5               Cultura y ocio  \n",
       "7       Derecho Administrativo  \n",
       "3       Obras y construcciones  \n",
       "4                        Pesca  \n",
       "0   Relaciones internacionales  \n",
       "6                      Sanidad  \n",
       "9                      Sanidad  \n",
       "18          Sistema financiero  \n",
       "1             Trabajo y empleo  \n",
       "2             Trabajo y empleo  \n",
       "10       Transportes y tráfico  \n",
       "16       Transportes y tráfico  "
      ],
      "text/html": "<div>\n<style scoped>\n    .dataframe tbody tr th:only-of-type {\n        vertical-align: middle;\n    }\n\n    .dataframe tbody tr th {\n        vertical-align: top;\n    }\n\n    .dataframe thead th {\n        text-align: right;\n    }\n</style>\n<table border=\"1\" class=\"dataframe\">\n  <thead>\n    <tr style=\"text-align: right;\">\n      <th></th>\n      <th>Item_id</th>\n      <th>Item_Nombre</th>\n      <th>Seccion</th>\n      <th>Departamento</th>\n      <th>Epigrafe</th>\n      <th>Item_URL_XML</th>\n      <th>Materias</th>\n      <th>Alerta</th>\n    </tr>\n  </thead>\n  <tbody>\n    <tr>\n      <th>5</th>\n      <td>['BOE-A-2020-15066']</td>\n      <td>[Orden ETD/1110/2020, de 25 de noviembre, por ...</td>\n      <td>[I. Disposiciones generales]</td>\n      <td>[MINISTERIO DE ASUNTOS ECONÓMICOS Y TRANSFORMA...</td>\n      <td>[Moneda metálica. Acuñación]</td>\n      <td>https://www.boe.es/diario_boe/xml.php?id=BOE-A...</td>\n      <td>[Monedas conmemorativas, Transportes aéreos]</td>\n      <td>Cultura y ocio</td>\n    </tr>\n    <tr>\n      <th>7</th>\n      <td>['BOE-A-2020-15068']</td>\n      <td>[Sentencia de 29 de septiembre de 2020, de la ...</td>\n      <td>[I. Disposiciones generales]</td>\n      <td>[TRIBUNAL SUPREMO]</td>\n      <td>[Sentencias]</td>\n      <td>https://www.boe.es/diario_boe/xml.php?id=BOE-A...</td>\n      <td>[Autorizaciones, Transporte de viajeros, Trans...</td>\n      <td>Derecho Administrativo</td>\n    </tr>\n    <tr>\n      <th>3</th>\n      <td>['BOE-A-2020-15064']</td>\n      <td>[Real Decreto 1040/2020, de 24 de noviembre, p...</td>\n      <td>[I. Disposiciones generales]</td>\n      <td>[MINISTERIO DE INDUSTRIA, COMERCIO Y TURISMO]</td>\n      <td>[Subvenciones]</td>\n      <td>https://www.boe.es/diario_boe/xml.php?id=BOE-A...</td>\n      <td>[Congresos, Edificaciones, León, Ministerio de...</td>\n      <td>Obras y construcciones</td>\n    </tr>\n    <tr>\n      <th>4</th>\n      <td>['BOE-A-2020-15065']</td>\n      <td>[Real Decreto 968/2020, de 10 de noviembre, po...</td>\n      <td>[I. Disposiciones generales]</td>\n      <td>[MINISTERIO DE AGRICULTURA, PESCA Y ALIMENTACIÓN]</td>\n      <td>[Pesca marítima]</td>\n      <td>https://www.boe.es/diario_boe/xml.php?id=BOE-A...</td>\n      <td>[Cantábrico, Cuota de pesca, Material de pesca...</td>\n      <td>Pesca</td>\n    </tr>\n    <tr>\n      <th>0</th>\n      <td>['BOE-A-2020-15061']</td>\n      <td>[Corrección de errores del Acuerdo Internacion...</td>\n      <td>[I. Disposiciones generales]</td>\n      <td>[MINISTERIO DE ASUNTOS EXTERIORES, UNIÓN EUROP...</td>\n      <td>[Acuerdos internacionales administrativos]</td>\n      <td>https://www.boe.es/diario_boe/xml.php?id=BOE-A...</td>\n      <td>[Acuerdos internacionales, Créditos Presupuest...</td>\n      <td>Relaciones internacionales</td>\n    </tr>\n    <tr>\n      <th>6</th>\n      <td>['BOE-A-2020-15067']</td>\n      <td>[Real Decreto 1021/2020, de 17 de noviembre, p...</td>\n      <td>[I. Disposiciones generales]</td>\n      <td>[MINISTERIO DE SANIDAD]</td>\n      <td>[Subvenciones]</td>\n      <td>https://www.boe.es/diario_boe/xml.php?id=BOE-A...</td>\n      <td>[Asistencia farmacéutica, Asistencia sanitaria...</td>\n      <td>Sanidad</td>\n    </tr>\n    <tr>\n      <th>9</th>\n      <td>['BOE-A-2020-15061']</td>\n      <td>[Corrección de errores del Acuerdo Internacion...</td>\n      <td>[I. Disposiciones generales]</td>\n      <td>[MINISTERIO DE ASUNTOS EXTERIORES, UNIÓN EUROP...</td>\n      <td>[Acuerdos internacionales administrativos]</td>\n      <td>https://www.boe.es/diario_boe/xml.php?id=BOE-A...</td>\n      <td>[Acuerdos internacionales, Créditos Presupuest...</td>\n      <td>Sanidad</td>\n    </tr>\n    <tr>\n      <th>18</th>\n      <td>['BOE-A-2020-15061']</td>\n      <td>[Corrección de errores del Acuerdo Internacion...</td>\n      <td>[I. Disposiciones generales]</td>\n      <td>[MINISTERIO DE ASUNTOS EXTERIORES, UNIÓN EUROP...</td>\n      <td>[Acuerdos internacionales administrativos]</td>\n      <td>https://www.boe.es/diario_boe/xml.php?id=BOE-A...</td>\n      <td>[Acuerdos internacionales, Créditos Presupuest...</td>\n      <td>Sistema financiero</td>\n    </tr>\n    <tr>\n      <th>1</th>\n      <td>['BOE-A-2020-15062']</td>\n      <td>[Resolución de 6 de noviembre de 2020, de la D...</td>\n      <td>[I. Disposiciones generales]</td>\n      <td>[MINISTERIO DE TRANSPORTES, MOVILIDAD Y AGENDA...</td>\n      <td>[Aviación civil]</td>\n      <td>https://www.boe.es/diario_boe/xml.php?id=BOE-A...</td>\n      <td>[Agencias estatales, Descanso laboral, Epidemi...</td>\n      <td>Trabajo y empleo</td>\n    </tr>\n    <tr>\n      <th>2</th>\n      <td>['BOE-A-2020-15063']</td>\n      <td>[Orden TES/1109/2020, de 25 de noviembre, por ...</td>\n      <td>[I. Disposiciones generales]</td>\n      <td>[MINISTERIO DE TRABAJO Y ECONOMÍA SOCIAL]</td>\n      <td>[Formación profesional para el empleo]</td>\n      <td>https://www.boe.es/diario_boe/xml.php?id=BOE-A...</td>\n      <td>[Ayudas, Becas, Capacitación profesional, Dese...</td>\n      <td>Trabajo y empleo</td>\n    </tr>\n    <tr>\n      <th>10</th>\n      <td>['BOE-A-2020-15062']</td>\n      <td>[Resolución de 6 de noviembre de 2020, de la D...</td>\n      <td>[I. Disposiciones generales]</td>\n      <td>[MINISTERIO DE TRANSPORTES, MOVILIDAD Y AGENDA...</td>\n      <td>[Aviación civil]</td>\n      <td>https://www.boe.es/diario_boe/xml.php?id=BOE-A...</td>\n      <td>[Agencias estatales, Descanso laboral, Epidemi...</td>\n      <td>Transportes y tráfico</td>\n    </tr>\n    <tr>\n      <th>16</th>\n      <td>['BOE-A-2020-15068']</td>\n      <td>[Sentencia de 29 de septiembre de 2020, de la ...</td>\n      <td>[I. Disposiciones generales]</td>\n      <td>[TRIBUNAL SUPREMO]</td>\n      <td>[Sentencias]</td>\n      <td>https://www.boe.es/diario_boe/xml.php?id=BOE-A...</td>\n      <td>[Autorizaciones, Transporte de viajeros, Trans...</td>\n      <td>Transportes y tráfico</td>\n    </tr>\n  </tbody>\n</table>\n</div>"
     },
     "metadata": {},
     "execution_count": 154
    }
   ],
   "source": [
    "tabla_resultados.Alertas.apply(pd.Series) \\\n",
    "    .merge(tabla_resultados, left_index = True, right_index = True) \\\n",
    "    .drop([\"Alertas\"], axis = 1) \\\n",
    "    .reset_index() \\\n",
    "    .melt(id_vars = ['Item_id','Item_Nombre','Seccion','Departamento','Epigrafe','Item_URL_XML','Materias',], value_name = \"Alerta\") \\\n",
    "    .drop(\"variable\", axis = 1) \\\n",
    "    .dropna() \\\n",
    "    .sort_values('Alerta')"
   ]
  },
  {
   "cell_type": "code",
   "execution_count": 155,
   "metadata": {},
   "outputs": [
    {
     "output_type": "execute_result",
     "data": {
      "text/plain": [
       "Item_id\n",
       "['BOE-A-2020-15061']    Acuerdos internacionales administrativos\n",
       "['BOE-A-2020-15062']                              Aviación civil\n",
       "['BOE-A-2020-15063']        Formación profesional para el empleo\n",
       "['BOE-A-2020-15064']                                Subvenciones\n",
       "['BOE-A-2020-15065']                              Pesca marítima\n",
       "['BOE-A-2020-15066']                  Moneda metálica. Acuñación\n",
       "['BOE-A-2020-15067']                                Subvenciones\n",
       "['BOE-A-2020-15068']                                  Sentencias\n",
       "['BOE-A-2020-15069']                                  Sentencias\n",
       "Name: Epigrafe, dtype: object"
      ]
     },
     "metadata": {},
     "execution_count": 155
    }
   ],
   "source": [
    "tabla_resultados['Epigrafe'].str.join(',')"
   ]
  },
  {
   "cell_type": "code",
   "execution_count": 156,
   "metadata": {},
   "outputs": [
    {
     "output_type": "execute_result",
     "data": {
      "text/plain": [
       "0    [-'-B-O-E---A---2-0-2-0---1-5-0-6-1-'-]\n",
       "1    [-'-B-O-E---A---2-0-2-0---1-5-0-6-2-'-]\n",
       "2    [-'-B-O-E---A---2-0-2-0---1-5-0-6-3-'-]\n",
       "3    [-'-B-O-E---A---2-0-2-0---1-5-0-6-4-'-]\n",
       "4    [-'-B-O-E---A---2-0-2-0---1-5-0-6-5-'-]\n",
       "5    [-'-B-O-E---A---2-0-2-0---1-5-0-6-6-'-]\n",
       "6    [-'-B-O-E---A---2-0-2-0---1-5-0-6-7-'-]\n",
       "7    [-'-B-O-E---A---2-0-2-0---1-5-0-6-8-'-]\n",
       "8    [-'-B-O-E---A---2-0-2-0---1-5-0-6-9-'-]\n",
       "Name: Item_id, dtype: object"
      ]
     },
     "metadata": {},
     "execution_count": 156
    }
   ],
   "source": [
    "tabla_resultados.reset_index(inplace=True)\n",
    "tabla_resultados['Item_id'].astype(str).str.join('-')"
   ]
  },
  {
   "cell_type": "code",
   "execution_count": null,
   "metadata": {},
   "outputs": [],
   "source": []
  }
 ]
}