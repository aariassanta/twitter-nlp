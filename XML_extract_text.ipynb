{
 "metadata": {
  "language_info": {
   "codemirror_mode": {
    "name": "ipython",
    "version": 3
   },
   "file_extension": ".py",
   "mimetype": "text/x-python",
   "name": "python",
   "nbconvert_exporter": "python",
   "pygments_lexer": "ipython3",
   "version": "3.7.7-final"
  },
  "orig_nbformat": 2,
  "kernelspec": {
   "name": "python3",
   "display_name": "Python 3.7.7 64-bit ('base': conda)",
   "metadata": {
    "interpreter": {
     "hash": "ba5a5ad8ad50f87090e50fad63d75258be36793c6e5940e781eb379b3998ae98"
    }
   }
  }
 },
 "nbformat": 4,
 "nbformat_minor": 2,
 "cells": [
  {
   "cell_type": "code",
   "execution_count": 54,
   "metadata": {},
   "outputs": [],
   "source": [
    "from lxml import etree\n",
    "import pandas as pd\n",
    "from datetime import date\n",
    "import requests"
   ]
  },
  {
   "cell_type": "code",
   "execution_count": 55,
   "metadata": {},
   "outputs": [],
   "source": [
    "doc = etree.parse('BOE-A-2020-14372.xml')"
   ]
  },
  {
   "cell_type": "code",
   "execution_count": 56,
   "metadata": {},
   "outputs": [],
   "source": [
    "#etree.tostring(doc,pretty_print=True ,xml_declaration=True, encoding=\"utf-8\")"
   ]
  },
  {
   "cell_type": "code",
   "execution_count": 57,
   "metadata": {},
   "outputs": [
    {
     "output_type": "execute_result",
     "data": {
      "text/plain": [
       "'documento'"
      ]
     },
     "metadata": {},
     "execution_count": 57
    }
   ],
   "source": [
    "raiz=doc.getroot()\n",
    "raiz.tag"
   ]
  },
  {
   "cell_type": "code",
   "execution_count": 58,
   "metadata": {},
   "outputs": [
    {
     "output_type": "execute_result",
     "data": {
      "text/plain": [
       "4"
      ]
     },
     "metadata": {},
     "execution_count": 58
    }
   ],
   "source": [
    "len(raiz)"
   ]
  },
  {
   "cell_type": "code",
   "execution_count": 59,
   "metadata": {},
   "outputs": [
    {
     "output_type": "execute_result",
     "data": {
      "text/plain": [
       "'metadatos'"
      ]
     },
     "metadata": {},
     "execution_count": 59
    }
   ],
   "source": [
    "libro=raiz[0]\n",
    "libro.tag"
   ]
  },
  {
   "cell_type": "code",
   "execution_count": 60,
   "metadata": {},
   "outputs": [
    {
     "output_type": "execute_result",
     "data": {
      "text/plain": [
       "'BOE-A-2020-14372'"
      ]
     },
     "metadata": {},
     "execution_count": 60
    }
   ],
   "source": [
    "libro=raiz[0]\n",
    "libro[0].text"
   ]
  },
  {
   "cell_type": "code",
   "execution_count": 61,
   "metadata": {},
   "outputs": [
    {
     "output_type": "execute_result",
     "data": {
      "text/plain": [
       "'{http://www.w3.org/1999/02/22-rdf-syntax-ns#}RDF'"
      ]
     },
     "metadata": {},
     "execution_count": 61
    }
   ],
   "source": [
    "libro=raiz[1]\n",
    "libro[0].tag"
   ]
  },
  {
   "cell_type": "code",
   "execution_count": 62,
   "metadata": {},
   "outputs": [
    {
     "output_type": "execute_result",
     "data": {
      "text/plain": [
       "'\\n            '"
      ]
     },
     "metadata": {},
     "execution_count": 62
    }
   ],
   "source": [
    "libro=raiz[1]\n",
    "libro[0].text"
   ]
  },
  {
   "cell_type": "code",
   "execution_count": 63,
   "metadata": {},
   "outputs": [],
   "source": [
    "Identificador=raiz.find(\"metadatos/identificador\")\n",
    "Titulo=raiz.find(\"metadatos/titulo\")\n",
    "URL_pdf=raiz.find(\"metadatos/url_pdf\")"
   ]
  },
  {
   "cell_type": "code",
   "execution_count": 64,
   "metadata": {},
   "outputs": [
    {
     "output_type": "stream",
     "name": "stdout",
     "text": [
      "BOE-A-2020-14372\nDecreto-ley 35/2020, de 20 de octubre, de modificación del Decreto-ley 19/2020, de 19 de mayo, y del Decreto-ley 29/2020, de 28 de julio, en materia de adopción de medidas sociales y sanitarias para paliar los efectos de la pandemia generada por la COVID-19.\nhttps://www.boe.es/boe/dias/2020/11/18/pdfs/BOE-A-2020-14372.pdf\n"
     ]
    }
   ],
   "source": [
    "print(Identificador.text)\n",
    "print(Titulo.text)\n",
    "print(\"https://www.boe.es\" + URL_pdf.text)\n"
   ]
  },
  {
   "cell_type": "code",
   "execution_count": 65,
   "metadata": {},
   "outputs": [
    {
     "output_type": "execute_result",
     "data": {
      "text/plain": [
       "'Asistencia sanitaria'"
      ]
     },
     "metadata": {},
     "execution_count": 65
    }
   ],
   "source": [
    "materia=raiz.find(\"analisis/materias/materia\")\n",
    "materia.text"
   ]
  },
  {
   "cell_type": "code",
   "execution_count": 66,
   "metadata": {},
   "outputs": [
    {
     "output_type": "stream",
     "name": "stdout",
     "text": [
      "Asistencia sanitaria\nAsistencia social\nAyudas\nCataluña\nCentros residenciales para personas con discapacidad\nEpidemias\nEstablecimientos residenciales para la Tercera Edad\nPagos\nServicios Sociales de las Comunidades Autónomas\n"
     ]
    }
   ],
   "source": [
    "materias=raiz.findall(\"analisis/materias/materia\")\n",
    "for materia in materias:\n",
    "    print(materia.text)"
   ]
  },
  {
   "cell_type": "code",
   "execution_count": 67,
   "metadata": {},
   "outputs": [
    {
     "output_type": "execute_result",
     "data": {
      "text/plain": [
       "list"
      ]
     },
     "metadata": {},
     "execution_count": 67
    }
   ],
   "source": [
    "type(materias)"
   ]
  },
  {
   "cell_type": "code",
   "execution_count": 68,
   "metadata": {},
   "outputs": [
    {
     "output_type": "stream",
     "name": "stdout",
     "text": [
      "Asuntos sociales\nSanidad\n"
     ]
    }
   ],
   "source": [
    "alertas=raiz.findall(\"analisis/alertas/alerta\")\n",
    "for alerta in alertas:\n",
    "    print(alerta.text)"
   ]
  },
  {
   "source": [
    "# Recoge resumen diario del BOE de hoy"
   ],
   "cell_type": "markdown",
   "metadata": {}
  },
  {
   "cell_type": "code",
   "execution_count": 69,
   "metadata": {},
   "outputs": [
    {
     "output_type": "stream",
     "name": "stdout",
     "text": [
      "Fecha de Hoy = 20201126\ndia = 26\nmes = 11\naño = 2020\n"
     ]
    }
   ],
   "source": [
    "\n",
    "today = date.today()\n",
    "\n",
    "# dd/mm/YYYY\n",
    "hoy = today.strftime(\"%Y%m%d\")\n",
    "print(\"Fecha de Hoy =\", hoy)\n",
    "\n",
    "# dd\n",
    "d = today.strftime(\"%d\")\n",
    "print(\"dia =\", d)\n",
    "\n",
    "# mm\n",
    "m = today.strftime(\"%m\")\n",
    "print(\"mes =\", m)\n",
    "\n",
    "# YYYY\n",
    "Y = today.strftime(\"%Y\")\n",
    "print(\"año =\", Y)\n",
    "\n"
   ]
  },
  {
   "cell_type": "code",
   "execution_count": 70,
   "metadata": {},
   "outputs": [],
   "source": [
    "URL_XML_resumen =  \"https://www.boe.es/diario_boe/xml.php?id=BOE-S-\" + str(hoy)"
   ]
  },
  {
   "cell_type": "code",
   "execution_count": 71,
   "metadata": {},
   "outputs": [
    {
     "output_type": "execute_result",
     "data": {
      "text/plain": [
       "'https://www.boe.es/diario_boe/xml.php?id=BOE-S-20201126'"
      ]
     },
     "metadata": {},
     "execution_count": 71
    }
   ],
   "source": [
    "URL_XML_resumen"
   ]
  },
  {
   "cell_type": "code",
   "execution_count": 72,
   "metadata": {},
   "outputs": [],
   "source": [
    "#pip install requests for installation\n",
    "\n",
    "\n",
    "\n",
    "url = URL_XML_resumen\n",
    "r = requests.get(url)\n",
    "#r.content\n",
    "#r.text"
   ]
  },
  {
   "cell_type": "code",
   "execution_count": 73,
   "metadata": {},
   "outputs": [],
   "source": [
    "def save_html(html, path):\n",
    "    with open(path, 'wb') as f:\n",
    "        f.write(html)\n",
    "        \n",
    "        \n",
    "save_html(r.content, './BOEs/resumen.xml')"
   ]
  },
  {
   "cell_type": "code",
   "execution_count": 74,
   "metadata": {},
   "outputs": [],
   "source": [
    "#r.encoding"
   ]
  },
  {
   "cell_type": "code",
   "execution_count": 75,
   "metadata": {},
   "outputs": [],
   "source": [
    "resumen = etree.parse('./BOEs/resumen.xml')"
   ]
  },
  {
   "cell_type": "code",
   "execution_count": 76,
   "metadata": {},
   "outputs": [
    {
     "output_type": "execute_result",
     "data": {
      "text/plain": [
       "'sumario'"
      ]
     },
     "metadata": {},
     "execution_count": 76
    }
   ],
   "source": [
    "raiz=resumen.getroot()\n",
    "raiz.tag"
   ]
  },
  {
   "cell_type": "code",
   "execution_count": 77,
   "metadata": {},
   "outputs": [
    {
     "output_type": "execute_result",
     "data": {
      "text/plain": [
       "[]"
      ]
     },
     "metadata": {},
     "execution_count": 77
    }
   ],
   "source": [
    "seccion = raiz.findall(\"sumario/diario/seccion\")\n",
    "seccion"
   ]
  },
  {
   "cell_type": "code",
   "execution_count": 78,
   "metadata": {},
   "outputs": [],
   "source": [
    "secciones = raiz.findall(\"sumario/diario/seccion\")\n",
    "for seccion in secciones:\n",
    "    print(seccion.text)"
   ]
  },
  {
   "cell_type": "code",
   "execution_count": 79,
   "metadata": {},
   "outputs": [],
   "source": [
    "tabla_resumen = pd.DataFrame()"
   ]
  },
  {
   "cell_type": "code",
   "execution_count": 80,
   "metadata": {},
   "outputs": [],
   "source": [
    "for seccion in raiz.xpath('//seccion[contains(@nombre, \"I. Disposiciones generales\")]'):\n",
    "    nombre_seccion = seccion.xpath('@nombre')\n",
    "\n",
    "    for departamento in seccion:\n",
    "        nombre_departamento = departamento.xpath('@nombre') \n",
    "\n",
    "        for epigrafe in departamento:\n",
    "            nombre_epigrafe = epigrafe.xpath('@nombre')\n",
    "\n",
    "            for item in epigrafe:\n",
    "                item_id = item.xpath('@id')\n",
    "                item_name = item.xpath('.//titulo/text()') \n",
    "\n",
    "                item_urlXml = \"https://www.boe.es\" + str(item.xpath('.//urlXml/text()'))[2:-2]\n",
    "                #print(item_urlXml)\n",
    "\n",
    "                tabla_resumen = tabla_resumen.append({'Seccion': nombre_seccion, \n",
    "                                                      'Departamento': nombre_departamento, \n",
    "                                                      'Epigrafe' : nombre_epigrafe,\n",
    "                                                      'Item_id': item_id, \n",
    "                                                      'Item_Nombre' : item_name, \n",
    "                                                      'Item_URL_XML' : item_urlXml},\n",
    "                                                      ignore_index=True)\n"
   ]
  },
  {
   "cell_type": "code",
   "execution_count": 81,
   "metadata": {},
   "outputs": [
    {
     "output_type": "execute_result",
     "data": {
      "text/plain": [
       "                                        Departamento  \\\n",
       "0                          [TRIBUNAL CONSTITUCIONAL]   \n",
       "1                          [TRIBUNAL CONSTITUCIONAL]   \n",
       "2                          [TRIBUNAL CONSTITUCIONAL]   \n",
       "3                          [TRIBUNAL CONSTITUCIONAL]   \n",
       "4  [MINISTERIO DE LA PRESIDENCIA, RELACIONES CON ...   \n",
       "5                  [MINISTERIO DE CULTURA Y DEPORTE]   \n",
       "6  [MINISTERIO DE ASUNTOS ECONÓMICOS Y TRANSFORMA...   \n",
       "7  [MINISTERIO DE ASUNTOS ECONÓMICOS Y TRANSFORMA...   \n",
       "8  [MINISTERIO DE ASUNTOS ECONÓMICOS Y TRANSFORMA...   \n",
       "9  [MINISTERIO DE INCLUSIÓN, SEGURIDAD SOCIAL Y M...   \n",
       "\n",
       "                                  Epigrafe  \\\n",
       "0       [Recursos de inconstitucionalidad]   \n",
       "1       [Recursos de inconstitucionalidad]   \n",
       "2       [Recursos de inconstitucionalidad]   \n",
       "3     [Cuestiones de inconstitucionalidad]   \n",
       "4                           [Medicamentos]   \n",
       "5                           [Subvenciones]   \n",
       "6  [Caja General de Depósitos. Reglamento]   \n",
       "7                                 [Avales]   \n",
       "8                                 [Avales]   \n",
       "9                       [Seguridad Social]   \n",
       "\n",
       "                                         Item_Nombre  \\\n",
       "0  [Recurso de inconstitucionalidad n.º 4911-2020...   \n",
       "1  [Recurso de inconstitucionalidad n.º 5178-2020...   \n",
       "2  [Recurso de inconstitucionalidad n.º 5342-2020...   \n",
       "3  [Cuestión de inconstitucionalidad n.º 4433-202...   \n",
       "4  [Real Decreto 957/2020, de 3 de noviembre, por...   \n",
       "5  [Real Decreto 1042/2020, de 24 de noviembre, p...   \n",
       "6  [Real Decreto 937/2020, de 27 de octubre, por ...   \n",
       "7  [Resolución de 25 de noviembre de 2020, de la ...   \n",
       "8  [Resolución de 25 de noviembre de 2020, de la ...   \n",
       "9  [Orden ISM/1099/2020, de 23 de noviembre, por ...   \n",
       "\n",
       "                                        Item_URL_XML             Item_id  \\\n",
       "0  https://www.boe.es/diario_boe/xml.php?id=BOE-A...  [BOE-A-2020-14956]   \n",
       "1  https://www.boe.es/diario_boe/xml.php?id=BOE-A...  [BOE-A-2020-14957]   \n",
       "2  https://www.boe.es/diario_boe/xml.php?id=BOE-A...  [BOE-A-2020-14958]   \n",
       "3  https://www.boe.es/diario_boe/xml.php?id=BOE-A...  [BOE-A-2020-14959]   \n",
       "4  https://www.boe.es/diario_boe/xml.php?id=BOE-A...  [BOE-A-2020-14960]   \n",
       "5  https://www.boe.es/diario_boe/xml.php?id=BOE-A...  [BOE-A-2020-14961]   \n",
       "6  https://www.boe.es/diario_boe/xml.php?id=BOE-A...  [BOE-A-2020-14962]   \n",
       "7  https://www.boe.es/diario_boe/xml.php?id=BOE-A...  [BOE-A-2020-14963]   \n",
       "8  https://www.boe.es/diario_boe/xml.php?id=BOE-A...  [BOE-A-2020-14964]   \n",
       "9  https://www.boe.es/diario_boe/xml.php?id=BOE-A...  [BOE-A-2020-14965]   \n",
       "\n",
       "                        Seccion  \n",
       "0  [I. Disposiciones generales]  \n",
       "1  [I. Disposiciones generales]  \n",
       "2  [I. Disposiciones generales]  \n",
       "3  [I. Disposiciones generales]  \n",
       "4  [I. Disposiciones generales]  \n",
       "5  [I. Disposiciones generales]  \n",
       "6  [I. Disposiciones generales]  \n",
       "7  [I. Disposiciones generales]  \n",
       "8  [I. Disposiciones generales]  \n",
       "9  [I. Disposiciones generales]  "
      ],
      "text/html": "<div>\n<style scoped>\n    .dataframe tbody tr th:only-of-type {\n        vertical-align: middle;\n    }\n\n    .dataframe tbody tr th {\n        vertical-align: top;\n    }\n\n    .dataframe thead th {\n        text-align: right;\n    }\n</style>\n<table border=\"1\" class=\"dataframe\">\n  <thead>\n    <tr style=\"text-align: right;\">\n      <th></th>\n      <th>Departamento</th>\n      <th>Epigrafe</th>\n      <th>Item_Nombre</th>\n      <th>Item_URL_XML</th>\n      <th>Item_id</th>\n      <th>Seccion</th>\n    </tr>\n  </thead>\n  <tbody>\n    <tr>\n      <th>0</th>\n      <td>[TRIBUNAL CONSTITUCIONAL]</td>\n      <td>[Recursos de inconstitucionalidad]</td>\n      <td>[Recurso de inconstitucionalidad n.º 4911-2020...</td>\n      <td>https://www.boe.es/diario_boe/xml.php?id=BOE-A...</td>\n      <td>[BOE-A-2020-14956]</td>\n      <td>[I. Disposiciones generales]</td>\n    </tr>\n    <tr>\n      <th>1</th>\n      <td>[TRIBUNAL CONSTITUCIONAL]</td>\n      <td>[Recursos de inconstitucionalidad]</td>\n      <td>[Recurso de inconstitucionalidad n.º 5178-2020...</td>\n      <td>https://www.boe.es/diario_boe/xml.php?id=BOE-A...</td>\n      <td>[BOE-A-2020-14957]</td>\n      <td>[I. Disposiciones generales]</td>\n    </tr>\n    <tr>\n      <th>2</th>\n      <td>[TRIBUNAL CONSTITUCIONAL]</td>\n      <td>[Recursos de inconstitucionalidad]</td>\n      <td>[Recurso de inconstitucionalidad n.º 5342-2020...</td>\n      <td>https://www.boe.es/diario_boe/xml.php?id=BOE-A...</td>\n      <td>[BOE-A-2020-14958]</td>\n      <td>[I. Disposiciones generales]</td>\n    </tr>\n    <tr>\n      <th>3</th>\n      <td>[TRIBUNAL CONSTITUCIONAL]</td>\n      <td>[Cuestiones de inconstitucionalidad]</td>\n      <td>[Cuestión de inconstitucionalidad n.º 4433-202...</td>\n      <td>https://www.boe.es/diario_boe/xml.php?id=BOE-A...</td>\n      <td>[BOE-A-2020-14959]</td>\n      <td>[I. Disposiciones generales]</td>\n    </tr>\n    <tr>\n      <th>4</th>\n      <td>[MINISTERIO DE LA PRESIDENCIA, RELACIONES CON ...</td>\n      <td>[Medicamentos]</td>\n      <td>[Real Decreto 957/2020, de 3 de noviembre, por...</td>\n      <td>https://www.boe.es/diario_boe/xml.php?id=BOE-A...</td>\n      <td>[BOE-A-2020-14960]</td>\n      <td>[I. Disposiciones generales]</td>\n    </tr>\n    <tr>\n      <th>5</th>\n      <td>[MINISTERIO DE CULTURA Y DEPORTE]</td>\n      <td>[Subvenciones]</td>\n      <td>[Real Decreto 1042/2020, de 24 de noviembre, p...</td>\n      <td>https://www.boe.es/diario_boe/xml.php?id=BOE-A...</td>\n      <td>[BOE-A-2020-14961]</td>\n      <td>[I. Disposiciones generales]</td>\n    </tr>\n    <tr>\n      <th>6</th>\n      <td>[MINISTERIO DE ASUNTOS ECONÓMICOS Y TRANSFORMA...</td>\n      <td>[Caja General de Depósitos. Reglamento]</td>\n      <td>[Real Decreto 937/2020, de 27 de octubre, por ...</td>\n      <td>https://www.boe.es/diario_boe/xml.php?id=BOE-A...</td>\n      <td>[BOE-A-2020-14962]</td>\n      <td>[I. Disposiciones generales]</td>\n    </tr>\n    <tr>\n      <th>7</th>\n      <td>[MINISTERIO DE ASUNTOS ECONÓMICOS Y TRANSFORMA...</td>\n      <td>[Avales]</td>\n      <td>[Resolución de 25 de noviembre de 2020, de la ...</td>\n      <td>https://www.boe.es/diario_boe/xml.php?id=BOE-A...</td>\n      <td>[BOE-A-2020-14963]</td>\n      <td>[I. Disposiciones generales]</td>\n    </tr>\n    <tr>\n      <th>8</th>\n      <td>[MINISTERIO DE ASUNTOS ECONÓMICOS Y TRANSFORMA...</td>\n      <td>[Avales]</td>\n      <td>[Resolución de 25 de noviembre de 2020, de la ...</td>\n      <td>https://www.boe.es/diario_boe/xml.php?id=BOE-A...</td>\n      <td>[BOE-A-2020-14964]</td>\n      <td>[I. Disposiciones generales]</td>\n    </tr>\n    <tr>\n      <th>9</th>\n      <td>[MINISTERIO DE INCLUSIÓN, SEGURIDAD SOCIAL Y M...</td>\n      <td>[Seguridad Social]</td>\n      <td>[Orden ISM/1099/2020, de 23 de noviembre, por ...</td>\n      <td>https://www.boe.es/diario_boe/xml.php?id=BOE-A...</td>\n      <td>[BOE-A-2020-14965]</td>\n      <td>[I. Disposiciones generales]</td>\n    </tr>\n  </tbody>\n</table>\n</div>"
     },
     "metadata": {},
     "execution_count": 81
    }
   ],
   "source": [
    "tabla_resumen.sort_values('Item_id')"
   ]
  },
  {
   "source": [
    "# Descarga ficheros XML asociados"
   ],
   "cell_type": "markdown",
   "metadata": {}
  },
  {
   "cell_type": "code",
   "execution_count": 82,
   "metadata": {},
   "outputs": [],
   "source": [
    "for item_URL in tabla_resumen['Item_URL_XML']:\n",
    "    #print(URL)\n",
    "    r = requests.get(item_URL)\n",
    "    f = './BOEs/' + item_URL[-16:] + '.xml'\n",
    "    save_html(r.content, f)"
   ]
  },
  {
   "cell_type": "code",
   "execution_count": 83,
   "metadata": {},
   "outputs": [
    {
     "output_type": "stream",
     "name": "stdout",
     "text": [
      "['./BOEs/BOE-A-2020-14465.xml', './BOEs/BOE-A-2020-14459.xml', './BOEs/BOE-A-2020-14458.xml', './BOEs/BOE-A-2020-14464.xml', './BOEs/BOE-A-2020-14466.xml', './BOEs/BOE-A-2020-14880.xml', './BOEs/BOE-A-2020-14467.xml', './BOEs/BOE-A-2020-14463.xml', './BOEs/BOE-A-2020-14462.xml', './BOEs/BOE-A-2020-14460.xml', './BOEs/BOE-A-2020-14879.xml', './BOEs/BOE-A-2020-14878.xml', './BOEs/BOE-A-2020-14461.xml', './BOEs/BOE-A-2020-14957.xml', './BOEs/BOE-A-2020-14956.xml', './BOEs/BOE-A-2020-14962.xml', './BOEs/BOE-A-2020-14963.xml', './BOEs/BOE-A-2020-14961.xml', './BOEs/BOE-A-2020-14960.xml', './BOEs/BOE-A-2020-14964.xml', './BOEs/BOE-A-2020-14958.xml', './BOEs/BOE-A-2020-14959.xml', './BOEs/BOE-A-2020-14965.xml', './BOEs/BOE-A-2020-14875.xml', './BOEs/BOE-A-2020-14876.xml', './BOEs/BOE-A-2020-14877.xml', './BOEs/BOE-A-2020-14457.xml']\n"
     ]
    }
   ],
   "source": [
    "\n",
    "import glob\n",
    "BOEs = glob.glob('./BOEs/BOE*.xml')\n",
    "print (BOEs)"
   ]
  },
  {
   "cell_type": "code",
   "execution_count": 84,
   "metadata": {},
   "outputs": [],
   "source": [
    "#import os\n",
    "#path = './BOEs'\n",
    "#BOEs = [f for f in os.listdir(path) if f.startswith('BOE')]\n",
    "#BOEs"
   ]
  },
  {
   "cell_type": "code",
   "execution_count": 85,
   "metadata": {},
   "outputs": [],
   "source": [
    "tabla_materias = pd.DataFrame()\n",
    "\n",
    "for BOE in BOEs:\n",
    "    #print (BOE)\n",
    "    BOE_XML = etree.parse(BOE)\n",
    "    raiz=BOE_XML.getroot()\n",
    "\n",
    "    materias = [materia.text for materia in raiz.findall('analisis/materias/materia')]\n",
    "    alertas = [alerta.text for alerta in raiz.findall('analisis/alertas/alerta')]\n",
    "    #Item_Id = '[' + BOE[7:23] + ']'\n",
    "    #Item_Id = raiz.find('metadatos/identificador')\n",
    "    Item_Id = raiz.xpath(\".//identificador/text()\")\n",
    " \n",
    "    #print(Item_Id, materias, alertas)\n",
    "    #tabla_materias.loc[['Item_id'], ['Materias']] = materias\n",
    "    tabla_materias = tabla_materias.append({'Item_id': Item_Id,\n",
    "                                            'Materias' : materias,\n",
    "                                            'Alertas' : alertas},\n",
    "                                            ignore_index=True)\n",
    "\n",
    "    #tabla_materias.Item_id.apply(list)\n",
    "    #fila_tabla = tabla_resumen.set_index('Item_id').filter(like=BOE[18:23], axis=0).reset_index()\n",
    "    #print(fila_tabla['Item_id'])\n",
    "\n",
    "    #tabla_resumen.loc[fila_tabla['Item_id']]['Materias'] = materias\n"
   ]
  },
  {
   "cell_type": "code",
   "execution_count": 86,
   "metadata": {},
   "outputs": [
    {
     "output_type": "execute_result",
     "data": {
      "text/plain": [
       "                                              Alertas             Item_id  \\\n",
       "26  [Relaciones internacionales, Sanidad, Sistema ...  [BOE-A-2020-14457]   \n",
       "2   [Educación y enseñanza, Relaciones internacion...  [BOE-A-2020-14458]   \n",
       "1   [Educación y enseñanza, Relaciones internacion...  [BOE-A-2020-14459]   \n",
       "9    [Administración de Justicia, Sistema financiero]  [BOE-A-2020-14460]   \n",
       "12                               [Sistema financiero]  [BOE-A-2020-14461]   \n",
       "8   [Comercio, Educación y enseñanza, Industria, S...  [BOE-A-2020-14462]   \n",
       "7   [Agricultura, Educación y enseñanza, Ganadería...  [BOE-A-2020-14463]   \n",
       "3   [Educación y enseñanza, Medio ambiente, Seguri...  [BOE-A-2020-14464]   \n",
       "0   [Educación y enseñanza, Pesca, Trabajo y emple...  [BOE-A-2020-14465]   \n",
       "4                                 [Comercio, Sanidad]  [BOE-A-2020-14466]   \n",
       "6                                                  []  [BOE-A-2020-14467]   \n",
       "23  [Asuntos sociales, Medio ambiente, Relaciones ...  [BOE-A-2020-14875]   \n",
       "24  [Organización de la Administración, Sanidad, S...  [BOE-A-2020-14876]   \n",
       "25                      [Sanidad, Sistema financiero]  [BOE-A-2020-14877]   \n",
       "11                [Organización de la Administración]  [BOE-A-2020-14878]   \n",
       "10                   [Asuntos sociales, Discapacidad]  [BOE-A-2020-14879]   \n",
       "5   [Asuntos sociales, Derecho Administrativo, Dis...  [BOE-A-2020-14880]   \n",
       "14  [Derecho Constitucional, Organización de la Ad...  [BOE-A-2020-14956]   \n",
       "13  [Agricultura, Deporte, Derecho Constitucional,...  [BOE-A-2020-14957]   \n",
       "20  [Derecho Constitucional, Organización de la Ad...  [BOE-A-2020-14958]   \n",
       "21  [Derecho Constitucional, Sistema tributario, V...  [BOE-A-2020-14959]   \n",
       "18  [Derecho Administrativo, Organización de la Ad...  [BOE-A-2020-14960]   \n",
       "17                                   [Cultura y ocio]  [BOE-A-2020-14961]   \n",
       "15  [Derecho Administrativo, Derecho Mercantil, Si...  [BOE-A-2020-14962]   \n",
       "16   [Derecho Mercantil, Sanidad, Sistema financiero]  [BOE-A-2020-14963]   \n",
       "19   [Derecho Mercantil, Sanidad, Sistema financiero]  [BOE-A-2020-14964]   \n",
       "22                                 [Seguridad Social]  [BOE-A-2020-14965]   \n",
       "\n",
       "                                             Materias  \n",
       "26  [Acuerdos internacionales, Créditos Presupuest...  \n",
       "2   [Acuerdos internacionales, Barcelona, Centros ...  \n",
       "1   [Acuerdos internacionales, Barcelona, Centros ...  \n",
       "9   [Ayuntamientos, Créditos Presupuestarios, Juzg...  \n",
       "12  [Administración y Contabilidad de la Hacienda ...  \n",
       "8   [Catálogo Nacional de Cualificaciones Profesio...  \n",
       "7   [Agricultura, Catálogo Nacional de Cualificaci...  \n",
       "3   [Bomberos, Catálogo Nacional de Cualificacione...  \n",
       "0   [Actividades subacuáticas, Acuicultura, Catálo...  \n",
       "4   [Comercialización, Epidemias, Material sanitar...  \n",
       "6   [Actividades económicas, Administración Local,...  \n",
       "23  [Acuerdos internacionales, Ayuda al desarrollo...  \n",
       "24  [Asistencia sanitaria, Ayudas, Cesión de Tribu...  \n",
       "25  [Asistencia sanitaria, Ayudas, Comunidades Aut...  \n",
       "11  [Dirección General de Ordenación Profesional, ...  \n",
       "10  [Asistencia social, Ceuta, Discapacidad, Melil...  \n",
       "5   [Asistencia social, Asociaciones, Ayudas, Dire...  \n",
       "14  [Asturias, Organización de las Comunidades Aut...  \n",
       "13  [Agricultura, Comités consultivos, Contaminaci...  \n",
       "20  [Comunidades Autónomas, Delegación de atribuci...  \n",
       "21  [Ayuntamientos, Catastros, Cuestiones de incon...  \n",
       "18  [Agencia Española de Medicamentos y Productos ...  \n",
       "17  [Ayudas, Cultura, Epidemias, Instituto Naciona...  \n",
       "15  [Aval, Caja General de Depósitos, Depósitos, D...  \n",
       "16  [Aval, Ayudas, Empresas, Epidemias, Instituto ...  \n",
       "19  [Aval, Ayudas, Empresas, Epidemias, Instituto ...  \n",
       "22  [Carbón, Cotización a la Seguridad Social, Min...  "
      ],
      "text/html": "<div>\n<style scoped>\n    .dataframe tbody tr th:only-of-type {\n        vertical-align: middle;\n    }\n\n    .dataframe tbody tr th {\n        vertical-align: top;\n    }\n\n    .dataframe thead th {\n        text-align: right;\n    }\n</style>\n<table border=\"1\" class=\"dataframe\">\n  <thead>\n    <tr style=\"text-align: right;\">\n      <th></th>\n      <th>Alertas</th>\n      <th>Item_id</th>\n      <th>Materias</th>\n    </tr>\n  </thead>\n  <tbody>\n    <tr>\n      <th>26</th>\n      <td>[Relaciones internacionales, Sanidad, Sistema ...</td>\n      <td>[BOE-A-2020-14457]</td>\n      <td>[Acuerdos internacionales, Créditos Presupuest...</td>\n    </tr>\n    <tr>\n      <th>2</th>\n      <td>[Educación y enseñanza, Relaciones internacion...</td>\n      <td>[BOE-A-2020-14458]</td>\n      <td>[Acuerdos internacionales, Barcelona, Centros ...</td>\n    </tr>\n    <tr>\n      <th>1</th>\n      <td>[Educación y enseñanza, Relaciones internacion...</td>\n      <td>[BOE-A-2020-14459]</td>\n      <td>[Acuerdos internacionales, Barcelona, Centros ...</td>\n    </tr>\n    <tr>\n      <th>9</th>\n      <td>[Administración de Justicia, Sistema financiero]</td>\n      <td>[BOE-A-2020-14460]</td>\n      <td>[Ayuntamientos, Créditos Presupuestarios, Juzg...</td>\n    </tr>\n    <tr>\n      <th>12</th>\n      <td>[Sistema financiero]</td>\n      <td>[BOE-A-2020-14461]</td>\n      <td>[Administración y Contabilidad de la Hacienda ...</td>\n    </tr>\n    <tr>\n      <th>8</th>\n      <td>[Comercio, Educación y enseñanza, Industria, S...</td>\n      <td>[BOE-A-2020-14462]</td>\n      <td>[Catálogo Nacional de Cualificaciones Profesio...</td>\n    </tr>\n    <tr>\n      <th>7</th>\n      <td>[Agricultura, Educación y enseñanza, Ganadería...</td>\n      <td>[BOE-A-2020-14463]</td>\n      <td>[Agricultura, Catálogo Nacional de Cualificaci...</td>\n    </tr>\n    <tr>\n      <th>3</th>\n      <td>[Educación y enseñanza, Medio ambiente, Seguri...</td>\n      <td>[BOE-A-2020-14464]</td>\n      <td>[Bomberos, Catálogo Nacional de Cualificacione...</td>\n    </tr>\n    <tr>\n      <th>0</th>\n      <td>[Educación y enseñanza, Pesca, Trabajo y emple...</td>\n      <td>[BOE-A-2020-14465]</td>\n      <td>[Actividades subacuáticas, Acuicultura, Catálo...</td>\n    </tr>\n    <tr>\n      <th>4</th>\n      <td>[Comercio, Sanidad]</td>\n      <td>[BOE-A-2020-14466]</td>\n      <td>[Comercialización, Epidemias, Material sanitar...</td>\n    </tr>\n    <tr>\n      <th>6</th>\n      <td>[]</td>\n      <td>[BOE-A-2020-14467]</td>\n      <td>[Actividades económicas, Administración Local,...</td>\n    </tr>\n    <tr>\n      <th>23</th>\n      <td>[Asuntos sociales, Medio ambiente, Relaciones ...</td>\n      <td>[BOE-A-2020-14875]</td>\n      <td>[Acuerdos internacionales, Ayuda al desarrollo...</td>\n    </tr>\n    <tr>\n      <th>24</th>\n      <td>[Organización de la Administración, Sanidad, S...</td>\n      <td>[BOE-A-2020-14876]</td>\n      <td>[Asistencia sanitaria, Ayudas, Cesión de Tribu...</td>\n    </tr>\n    <tr>\n      <th>25</th>\n      <td>[Sanidad, Sistema financiero]</td>\n      <td>[BOE-A-2020-14877]</td>\n      <td>[Asistencia sanitaria, Ayudas, Comunidades Aut...</td>\n    </tr>\n    <tr>\n      <th>11</th>\n      <td>[Organización de la Administración]</td>\n      <td>[BOE-A-2020-14878]</td>\n      <td>[Dirección General de Ordenación Profesional, ...</td>\n    </tr>\n    <tr>\n      <th>10</th>\n      <td>[Asuntos sociales, Discapacidad]</td>\n      <td>[BOE-A-2020-14879]</td>\n      <td>[Asistencia social, Ceuta, Discapacidad, Melil...</td>\n    </tr>\n    <tr>\n      <th>5</th>\n      <td>[Asuntos sociales, Derecho Administrativo, Dis...</td>\n      <td>[BOE-A-2020-14880]</td>\n      <td>[Asistencia social, Asociaciones, Ayudas, Dire...</td>\n    </tr>\n    <tr>\n      <th>14</th>\n      <td>[Derecho Constitucional, Organización de la Ad...</td>\n      <td>[BOE-A-2020-14956]</td>\n      <td>[Asturias, Organización de las Comunidades Aut...</td>\n    </tr>\n    <tr>\n      <th>13</th>\n      <td>[Agricultura, Deporte, Derecho Constitucional,...</td>\n      <td>[BOE-A-2020-14957]</td>\n      <td>[Agricultura, Comités consultivos, Contaminaci...</td>\n    </tr>\n    <tr>\n      <th>20</th>\n      <td>[Derecho Constitucional, Organización de la Ad...</td>\n      <td>[BOE-A-2020-14958]</td>\n      <td>[Comunidades Autónomas, Delegación de atribuci...</td>\n    </tr>\n    <tr>\n      <th>21</th>\n      <td>[Derecho Constitucional, Sistema tributario, V...</td>\n      <td>[BOE-A-2020-14959]</td>\n      <td>[Ayuntamientos, Catastros, Cuestiones de incon...</td>\n    </tr>\n    <tr>\n      <th>18</th>\n      <td>[Derecho Administrativo, Organización de la Ad...</td>\n      <td>[BOE-A-2020-14960]</td>\n      <td>[Agencia Española de Medicamentos y Productos ...</td>\n    </tr>\n    <tr>\n      <th>17</th>\n      <td>[Cultura y ocio]</td>\n      <td>[BOE-A-2020-14961]</td>\n      <td>[Ayudas, Cultura, Epidemias, Instituto Naciona...</td>\n    </tr>\n    <tr>\n      <th>15</th>\n      <td>[Derecho Administrativo, Derecho Mercantil, Si...</td>\n      <td>[BOE-A-2020-14962]</td>\n      <td>[Aval, Caja General de Depósitos, Depósitos, D...</td>\n    </tr>\n    <tr>\n      <th>16</th>\n      <td>[Derecho Mercantil, Sanidad, Sistema financiero]</td>\n      <td>[BOE-A-2020-14963]</td>\n      <td>[Aval, Ayudas, Empresas, Epidemias, Instituto ...</td>\n    </tr>\n    <tr>\n      <th>19</th>\n      <td>[Derecho Mercantil, Sanidad, Sistema financiero]</td>\n      <td>[BOE-A-2020-14964]</td>\n      <td>[Aval, Ayudas, Empresas, Epidemias, Instituto ...</td>\n    </tr>\n    <tr>\n      <th>22</th>\n      <td>[Seguridad Social]</td>\n      <td>[BOE-A-2020-14965]</td>\n      <td>[Carbón, Cotización a la Seguridad Social, Min...</td>\n    </tr>\n  </tbody>\n</table>\n</div>"
     },
     "metadata": {},
     "execution_count": 86
    }
   ],
   "source": [
    "tabla_materias.sort_values('Item_id')"
   ]
  },
  {
   "cell_type": "code",
   "execution_count": 87,
   "metadata": {},
   "outputs": [
    {
     "output_type": "stream",
     "name": "stdout",
     "text": [
      "documento\n"
     ]
    }
   ],
   "source": [
    "print(raiz.tag)"
   ]
  },
  {
   "cell_type": "code",
   "execution_count": 88,
   "metadata": {},
   "outputs": [
    {
     "output_type": "stream",
     "name": "stdout",
     "text": [
      "[]\n"
     ]
    }
   ],
   "source": [
    "for materias in raiz.xpath('.//materias'):\n",
    "    materia = seccion.xpath('.//materia/text()')\n",
    "    print(materia)"
   ]
  },
  {
   "cell_type": "code",
   "execution_count": 89,
   "metadata": {},
   "outputs": [
    {
     "output_type": "stream",
     "name": "stdout",
     "text": [
      "Acuerdos internacionales\nCréditos Presupuestarios\nMinisterio de Sanidad\nOrganización Mundial de la Salud\nTrasplantes de órganos\n"
     ]
    }
   ],
   "source": [
    "materias=raiz.findall(\"analisis/materias/materia\")\n",
    "for materia in materias:\n",
    "    print(materia.text)"
   ]
  },
  {
   "cell_type": "code",
   "execution_count": 90,
   "metadata": {},
   "outputs": [
    {
     "output_type": "stream",
     "name": "stdout",
     "text": [
      "Relaciones internacionales\nSanidad\nSistema financiero\n"
     ]
    }
   ],
   "source": [
    "alertas=raiz.findall(\"analisis/alertas/alerta\")\n",
    "for alerta in alertas:\n",
    "    print(alerta.text)"
   ]
  },
  {
   "cell_type": "code",
   "execution_count": 91,
   "metadata": {},
   "outputs": [
    {
     "output_type": "stream",
     "name": "stdout",
     "text": [
      "Empty DataFrame\nColumns: [Departamento, Epigrafe, Item_Nombre, Item_URL_XML, Item_id, Seccion]\nIndex: []\n"
     ]
    }
   ],
   "source": [
    "#tabla_resumen.loc[tabla_resumen['Item_id'] == '[' + BOE[7:23] + ']']\n",
    "print(tabla_resumen.loc[tabla_resumen['Item_id'] == '[BOE-A-2020-14457]'])"
   ]
  },
  {
   "cell_type": "code",
   "execution_count": 92,
   "metadata": {},
   "outputs": [
    {
     "output_type": "execute_result",
     "data": {
      "text/plain": [
       "'BOE-A-2020-14457'"
      ]
     },
     "metadata": {},
     "execution_count": 92
    }
   ],
   "source": [
    "BOE[7:23]"
   ]
  },
  {
   "cell_type": "code",
   "execution_count": 93,
   "metadata": {},
   "outputs": [
    {
     "output_type": "execute_result",
     "data": {
      "text/plain": [
       "0    [BOE-A-2020-14956]\n",
       "1    [BOE-A-2020-14957]\n",
       "2    [BOE-A-2020-14958]\n",
       "3    [BOE-A-2020-14959]\n",
       "4    [BOE-A-2020-14960]\n",
       "5    [BOE-A-2020-14961]\n",
       "6    [BOE-A-2020-14962]\n",
       "7    [BOE-A-2020-14963]\n",
       "8    [BOE-A-2020-14964]\n",
       "9    [BOE-A-2020-14965]\n",
       "Name: Item_id, dtype: object"
      ]
     },
     "metadata": {},
     "execution_count": 93
    }
   ],
   "source": [
    "tabla_resumen['Item_id']"
   ]
  },
  {
   "cell_type": "code",
   "execution_count": 94,
   "metadata": {},
   "outputs": [
    {
     "output_type": "execute_result",
     "data": {
      "text/plain": [
       "0     [BOE-A-2020-14465]\n",
       "1     [BOE-A-2020-14459]\n",
       "2     [BOE-A-2020-14458]\n",
       "3     [BOE-A-2020-14464]\n",
       "4     [BOE-A-2020-14466]\n",
       "5     [BOE-A-2020-14880]\n",
       "6     [BOE-A-2020-14467]\n",
       "7     [BOE-A-2020-14463]\n",
       "8     [BOE-A-2020-14462]\n",
       "9     [BOE-A-2020-14460]\n",
       "10    [BOE-A-2020-14879]\n",
       "11    [BOE-A-2020-14878]\n",
       "12    [BOE-A-2020-14461]\n",
       "13    [BOE-A-2020-14957]\n",
       "14    [BOE-A-2020-14956]\n",
       "15    [BOE-A-2020-14962]\n",
       "16    [BOE-A-2020-14963]\n",
       "17    [BOE-A-2020-14961]\n",
       "18    [BOE-A-2020-14960]\n",
       "19    [BOE-A-2020-14964]\n",
       "20    [BOE-A-2020-14958]\n",
       "21    [BOE-A-2020-14959]\n",
       "22    [BOE-A-2020-14965]\n",
       "23    [BOE-A-2020-14875]\n",
       "24    [BOE-A-2020-14876]\n",
       "25    [BOE-A-2020-14877]\n",
       "26    [BOE-A-2020-14457]\n",
       "Name: Item_id, dtype: object"
      ]
     },
     "metadata": {},
     "execution_count": 94
    }
   ],
   "source": [
    "tabla_materias['Item_id']"
   ]
  },
  {
   "cell_type": "code",
   "execution_count": 95,
   "metadata": {},
   "outputs": [
    {
     "output_type": "execute_result",
     "data": {
      "text/plain": [
       "Departamento    object\n",
       "Epigrafe        object\n",
       "Item_Nombre     object\n",
       "Item_URL_XML    object\n",
       "Item_id         object\n",
       "Seccion         object\n",
       "dtype: object"
      ]
     },
     "metadata": {},
     "execution_count": 95
    }
   ],
   "source": [
    "tabla_resumen.dtypes"
   ]
  },
  {
   "cell_type": "code",
   "execution_count": 96,
   "metadata": {},
   "outputs": [
    {
     "output_type": "execute_result",
     "data": {
      "text/plain": [
       "Empty DataFrame\n",
       "Columns: [Departamento, Epigrafe, Item_Nombre, Item_URL_XML, Seccion]\n",
       "Index: []"
      ],
      "text/html": "<div>\n<style scoped>\n    .dataframe tbody tr th:only-of-type {\n        vertical-align: middle;\n    }\n\n    .dataframe tbody tr th {\n        vertical-align: top;\n    }\n\n    .dataframe thead th {\n        text-align: right;\n    }\n</style>\n<table border=\"1\" class=\"dataframe\">\n  <thead>\n    <tr style=\"text-align: right;\">\n      <th></th>\n      <th>Departamento</th>\n      <th>Epigrafe</th>\n      <th>Item_Nombre</th>\n      <th>Item_URL_XML</th>\n      <th>Seccion</th>\n    </tr>\n    <tr>\n      <th>Item_id</th>\n      <th></th>\n      <th></th>\n      <th></th>\n      <th></th>\n      <th></th>\n    </tr>\n  </thead>\n  <tbody>\n  </tbody>\n</table>\n</div>"
     },
     "metadata": {},
     "execution_count": 96
    }
   ],
   "source": [
    "tabla_resumen.set_index('Item_id').filter(like='14875', axis=0)"
   ]
  },
  {
   "cell_type": "code",
   "execution_count": 97,
   "metadata": {},
   "outputs": [],
   "source": [
    "#tabla_resumen = tabla_resumen.astype(str)\n",
    "#tabla_resumen['Joined'] = tabla_resumen.Item_id.apply(', '.join)\n",
    "#tabla_resumen['Item_id']=tabla_resumen['Item_id']"
   ]
  },
  {
   "cell_type": "code",
   "execution_count": 98,
   "metadata": {},
   "outputs": [
    {
     "output_type": "execute_result",
     "data": {
      "text/plain": [
       "Departamento    object\n",
       "Epigrafe        object\n",
       "Item_Nombre     object\n",
       "Item_URL_XML    object\n",
       "Item_id         object\n",
       "Seccion         object\n",
       "dtype: object"
      ]
     },
     "metadata": {},
     "execution_count": 98
    }
   ],
   "source": [
    "tabla_resumen.dtypes"
   ]
  },
  {
   "cell_type": "code",
   "execution_count": 99,
   "metadata": {},
   "outputs": [
    {
     "output_type": "execute_result",
     "data": {
      "text/plain": [
       "                                        Departamento  \\\n",
       "0                          [TRIBUNAL CONSTITUCIONAL]   \n",
       "1                          [TRIBUNAL CONSTITUCIONAL]   \n",
       "2                          [TRIBUNAL CONSTITUCIONAL]   \n",
       "3                          [TRIBUNAL CONSTITUCIONAL]   \n",
       "4  [MINISTERIO DE LA PRESIDENCIA, RELACIONES CON ...   \n",
       "5                  [MINISTERIO DE CULTURA Y DEPORTE]   \n",
       "6  [MINISTERIO DE ASUNTOS ECONÓMICOS Y TRANSFORMA...   \n",
       "7  [MINISTERIO DE ASUNTOS ECONÓMICOS Y TRANSFORMA...   \n",
       "8  [MINISTERIO DE ASUNTOS ECONÓMICOS Y TRANSFORMA...   \n",
       "9  [MINISTERIO DE INCLUSIÓN, SEGURIDAD SOCIAL Y M...   \n",
       "\n",
       "                                  Epigrafe  \\\n",
       "0       [Recursos de inconstitucionalidad]   \n",
       "1       [Recursos de inconstitucionalidad]   \n",
       "2       [Recursos de inconstitucionalidad]   \n",
       "3     [Cuestiones de inconstitucionalidad]   \n",
       "4                           [Medicamentos]   \n",
       "5                           [Subvenciones]   \n",
       "6  [Caja General de Depósitos. Reglamento]   \n",
       "7                                 [Avales]   \n",
       "8                                 [Avales]   \n",
       "9                       [Seguridad Social]   \n",
       "\n",
       "                                         Item_Nombre  \\\n",
       "0  [Recurso de inconstitucionalidad n.º 4911-2020...   \n",
       "1  [Recurso de inconstitucionalidad n.º 5178-2020...   \n",
       "2  [Recurso de inconstitucionalidad n.º 5342-2020...   \n",
       "3  [Cuestión de inconstitucionalidad n.º 4433-202...   \n",
       "4  [Real Decreto 957/2020, de 3 de noviembre, por...   \n",
       "5  [Real Decreto 1042/2020, de 24 de noviembre, p...   \n",
       "6  [Real Decreto 937/2020, de 27 de octubre, por ...   \n",
       "7  [Resolución de 25 de noviembre de 2020, de la ...   \n",
       "8  [Resolución de 25 de noviembre de 2020, de la ...   \n",
       "9  [Orden ISM/1099/2020, de 23 de noviembre, por ...   \n",
       "\n",
       "                                        Item_URL_XML             Item_id  \\\n",
       "0  https://www.boe.es/diario_boe/xml.php?id=BOE-A...  [BOE-A-2020-14956]   \n",
       "1  https://www.boe.es/diario_boe/xml.php?id=BOE-A...  [BOE-A-2020-14957]   \n",
       "2  https://www.boe.es/diario_boe/xml.php?id=BOE-A...  [BOE-A-2020-14958]   \n",
       "3  https://www.boe.es/diario_boe/xml.php?id=BOE-A...  [BOE-A-2020-14959]   \n",
       "4  https://www.boe.es/diario_boe/xml.php?id=BOE-A...  [BOE-A-2020-14960]   \n",
       "5  https://www.boe.es/diario_boe/xml.php?id=BOE-A...  [BOE-A-2020-14961]   \n",
       "6  https://www.boe.es/diario_boe/xml.php?id=BOE-A...  [BOE-A-2020-14962]   \n",
       "7  https://www.boe.es/diario_boe/xml.php?id=BOE-A...  [BOE-A-2020-14963]   \n",
       "8  https://www.boe.es/diario_boe/xml.php?id=BOE-A...  [BOE-A-2020-14964]   \n",
       "9  https://www.boe.es/diario_boe/xml.php?id=BOE-A...  [BOE-A-2020-14965]   \n",
       "\n",
       "                        Seccion  \n",
       "0  [I. Disposiciones generales]  \n",
       "1  [I. Disposiciones generales]  \n",
       "2  [I. Disposiciones generales]  \n",
       "3  [I. Disposiciones generales]  \n",
       "4  [I. Disposiciones generales]  \n",
       "5  [I. Disposiciones generales]  \n",
       "6  [I. Disposiciones generales]  \n",
       "7  [I. Disposiciones generales]  \n",
       "8  [I. Disposiciones generales]  \n",
       "9  [I. Disposiciones generales]  "
      ],
      "text/html": "<div>\n<style scoped>\n    .dataframe tbody tr th:only-of-type {\n        vertical-align: middle;\n    }\n\n    .dataframe tbody tr th {\n        vertical-align: top;\n    }\n\n    .dataframe thead th {\n        text-align: right;\n    }\n</style>\n<table border=\"1\" class=\"dataframe\">\n  <thead>\n    <tr style=\"text-align: right;\">\n      <th></th>\n      <th>Departamento</th>\n      <th>Epigrafe</th>\n      <th>Item_Nombre</th>\n      <th>Item_URL_XML</th>\n      <th>Item_id</th>\n      <th>Seccion</th>\n    </tr>\n  </thead>\n  <tbody>\n    <tr>\n      <th>0</th>\n      <td>[TRIBUNAL CONSTITUCIONAL]</td>\n      <td>[Recursos de inconstitucionalidad]</td>\n      <td>[Recurso de inconstitucionalidad n.º 4911-2020...</td>\n      <td>https://www.boe.es/diario_boe/xml.php?id=BOE-A...</td>\n      <td>[BOE-A-2020-14956]</td>\n      <td>[I. Disposiciones generales]</td>\n    </tr>\n    <tr>\n      <th>1</th>\n      <td>[TRIBUNAL CONSTITUCIONAL]</td>\n      <td>[Recursos de inconstitucionalidad]</td>\n      <td>[Recurso de inconstitucionalidad n.º 5178-2020...</td>\n      <td>https://www.boe.es/diario_boe/xml.php?id=BOE-A...</td>\n      <td>[BOE-A-2020-14957]</td>\n      <td>[I. Disposiciones generales]</td>\n    </tr>\n    <tr>\n      <th>2</th>\n      <td>[TRIBUNAL CONSTITUCIONAL]</td>\n      <td>[Recursos de inconstitucionalidad]</td>\n      <td>[Recurso de inconstitucionalidad n.º 5342-2020...</td>\n      <td>https://www.boe.es/diario_boe/xml.php?id=BOE-A...</td>\n      <td>[BOE-A-2020-14958]</td>\n      <td>[I. Disposiciones generales]</td>\n    </tr>\n    <tr>\n      <th>3</th>\n      <td>[TRIBUNAL CONSTITUCIONAL]</td>\n      <td>[Cuestiones de inconstitucionalidad]</td>\n      <td>[Cuestión de inconstitucionalidad n.º 4433-202...</td>\n      <td>https://www.boe.es/diario_boe/xml.php?id=BOE-A...</td>\n      <td>[BOE-A-2020-14959]</td>\n      <td>[I. Disposiciones generales]</td>\n    </tr>\n    <tr>\n      <th>4</th>\n      <td>[MINISTERIO DE LA PRESIDENCIA, RELACIONES CON ...</td>\n      <td>[Medicamentos]</td>\n      <td>[Real Decreto 957/2020, de 3 de noviembre, por...</td>\n      <td>https://www.boe.es/diario_boe/xml.php?id=BOE-A...</td>\n      <td>[BOE-A-2020-14960]</td>\n      <td>[I. Disposiciones generales]</td>\n    </tr>\n    <tr>\n      <th>5</th>\n      <td>[MINISTERIO DE CULTURA Y DEPORTE]</td>\n      <td>[Subvenciones]</td>\n      <td>[Real Decreto 1042/2020, de 24 de noviembre, p...</td>\n      <td>https://www.boe.es/diario_boe/xml.php?id=BOE-A...</td>\n      <td>[BOE-A-2020-14961]</td>\n      <td>[I. Disposiciones generales]</td>\n    </tr>\n    <tr>\n      <th>6</th>\n      <td>[MINISTERIO DE ASUNTOS ECONÓMICOS Y TRANSFORMA...</td>\n      <td>[Caja General de Depósitos. Reglamento]</td>\n      <td>[Real Decreto 937/2020, de 27 de octubre, por ...</td>\n      <td>https://www.boe.es/diario_boe/xml.php?id=BOE-A...</td>\n      <td>[BOE-A-2020-14962]</td>\n      <td>[I. Disposiciones generales]</td>\n    </tr>\n    <tr>\n      <th>7</th>\n      <td>[MINISTERIO DE ASUNTOS ECONÓMICOS Y TRANSFORMA...</td>\n      <td>[Avales]</td>\n      <td>[Resolución de 25 de noviembre de 2020, de la ...</td>\n      <td>https://www.boe.es/diario_boe/xml.php?id=BOE-A...</td>\n      <td>[BOE-A-2020-14963]</td>\n      <td>[I. Disposiciones generales]</td>\n    </tr>\n    <tr>\n      <th>8</th>\n      <td>[MINISTERIO DE ASUNTOS ECONÓMICOS Y TRANSFORMA...</td>\n      <td>[Avales]</td>\n      <td>[Resolución de 25 de noviembre de 2020, de la ...</td>\n      <td>https://www.boe.es/diario_boe/xml.php?id=BOE-A...</td>\n      <td>[BOE-A-2020-14964]</td>\n      <td>[I. Disposiciones generales]</td>\n    </tr>\n    <tr>\n      <th>9</th>\n      <td>[MINISTERIO DE INCLUSIÓN, SEGURIDAD SOCIAL Y M...</td>\n      <td>[Seguridad Social]</td>\n      <td>[Orden ISM/1099/2020, de 23 de noviembre, por ...</td>\n      <td>https://www.boe.es/diario_boe/xml.php?id=BOE-A...</td>\n      <td>[BOE-A-2020-14965]</td>\n      <td>[I. Disposiciones generales]</td>\n    </tr>\n  </tbody>\n</table>\n</div>"
     },
     "metadata": {},
     "execution_count": 99
    }
   ],
   "source": [
    "tabla_resumen.sort_values('Item_id')"
   ]
  },
  {
   "cell_type": "code",
   "execution_count": 100,
   "metadata": {},
   "outputs": [],
   "source": [
    "#for row in tabla_resumen:\n",
    "#    tabla_resumen.loc[row['Item_id']]['Materias'] = tabla_materias.loc[row['Item_id']]['Materias']"
   ]
  },
  {
   "cell_type": "code",
   "execution_count": 101,
   "metadata": {},
   "outputs": [],
   "source": [
    "tabla_resumen['Item_id'] = tabla_resumen['Item_id'].astype(str)\n",
    "tabla_materias['Item_id'] = tabla_materias['Item_id'].astype(str)\n",
    "tabla_resultados = tabla_resumen.set_index('Item_id').join(tabla_materias.set_index('Item_id'))\n"
   ]
  },
  {
   "cell_type": "code",
   "execution_count": 102,
   "metadata": {},
   "outputs": [
    {
     "output_type": "execute_result",
     "data": {
      "text/plain": [
       "                                                           Departamento  \\\n",
       "Item_id                                                                   \n",
       "['BOE-A-2020-14956']                          [TRIBUNAL CONSTITUCIONAL]   \n",
       "['BOE-A-2020-14957']                          [TRIBUNAL CONSTITUCIONAL]   \n",
       "['BOE-A-2020-14958']                          [TRIBUNAL CONSTITUCIONAL]   \n",
       "['BOE-A-2020-14959']                          [TRIBUNAL CONSTITUCIONAL]   \n",
       "['BOE-A-2020-14960']  [MINISTERIO DE LA PRESIDENCIA, RELACIONES CON ...   \n",
       "['BOE-A-2020-14961']                  [MINISTERIO DE CULTURA Y DEPORTE]   \n",
       "['BOE-A-2020-14962']  [MINISTERIO DE ASUNTOS ECONÓMICOS Y TRANSFORMA...   \n",
       "['BOE-A-2020-14963']  [MINISTERIO DE ASUNTOS ECONÓMICOS Y TRANSFORMA...   \n",
       "['BOE-A-2020-14964']  [MINISTERIO DE ASUNTOS ECONÓMICOS Y TRANSFORMA...   \n",
       "['BOE-A-2020-14965']  [MINISTERIO DE INCLUSIÓN, SEGURIDAD SOCIAL Y M...   \n",
       "\n",
       "                                                     Epigrafe  \\\n",
       "Item_id                                                         \n",
       "['BOE-A-2020-14956']       [Recursos de inconstitucionalidad]   \n",
       "['BOE-A-2020-14957']       [Recursos de inconstitucionalidad]   \n",
       "['BOE-A-2020-14958']       [Recursos de inconstitucionalidad]   \n",
       "['BOE-A-2020-14959']     [Cuestiones de inconstitucionalidad]   \n",
       "['BOE-A-2020-14960']                           [Medicamentos]   \n",
       "['BOE-A-2020-14961']                           [Subvenciones]   \n",
       "['BOE-A-2020-14962']  [Caja General de Depósitos. Reglamento]   \n",
       "['BOE-A-2020-14963']                                 [Avales]   \n",
       "['BOE-A-2020-14964']                                 [Avales]   \n",
       "['BOE-A-2020-14965']                       [Seguridad Social]   \n",
       "\n",
       "                                                            Item_Nombre  \\\n",
       "Item_id                                                                   \n",
       "['BOE-A-2020-14956']  [Recurso de inconstitucionalidad n.º 4911-2020...   \n",
       "['BOE-A-2020-14957']  [Recurso de inconstitucionalidad n.º 5178-2020...   \n",
       "['BOE-A-2020-14958']  [Recurso de inconstitucionalidad n.º 5342-2020...   \n",
       "['BOE-A-2020-14959']  [Cuestión de inconstitucionalidad n.º 4433-202...   \n",
       "['BOE-A-2020-14960']  [Real Decreto 957/2020, de 3 de noviembre, por...   \n",
       "['BOE-A-2020-14961']  [Real Decreto 1042/2020, de 24 de noviembre, p...   \n",
       "['BOE-A-2020-14962']  [Real Decreto 937/2020, de 27 de octubre, por ...   \n",
       "['BOE-A-2020-14963']  [Resolución de 25 de noviembre de 2020, de la ...   \n",
       "['BOE-A-2020-14964']  [Resolución de 25 de noviembre de 2020, de la ...   \n",
       "['BOE-A-2020-14965']  [Orden ISM/1099/2020, de 23 de noviembre, por ...   \n",
       "\n",
       "                                                           Item_URL_XML  \\\n",
       "Item_id                                                                   \n",
       "['BOE-A-2020-14956']  https://www.boe.es/diario_boe/xml.php?id=BOE-A...   \n",
       "['BOE-A-2020-14957']  https://www.boe.es/diario_boe/xml.php?id=BOE-A...   \n",
       "['BOE-A-2020-14958']  https://www.boe.es/diario_boe/xml.php?id=BOE-A...   \n",
       "['BOE-A-2020-14959']  https://www.boe.es/diario_boe/xml.php?id=BOE-A...   \n",
       "['BOE-A-2020-14960']  https://www.boe.es/diario_boe/xml.php?id=BOE-A...   \n",
       "['BOE-A-2020-14961']  https://www.boe.es/diario_boe/xml.php?id=BOE-A...   \n",
       "['BOE-A-2020-14962']  https://www.boe.es/diario_boe/xml.php?id=BOE-A...   \n",
       "['BOE-A-2020-14963']  https://www.boe.es/diario_boe/xml.php?id=BOE-A...   \n",
       "['BOE-A-2020-14964']  https://www.boe.es/diario_boe/xml.php?id=BOE-A...   \n",
       "['BOE-A-2020-14965']  https://www.boe.es/diario_boe/xml.php?id=BOE-A...   \n",
       "\n",
       "                                           Seccion  \\\n",
       "Item_id                                              \n",
       "['BOE-A-2020-14956']  [I. Disposiciones generales]   \n",
       "['BOE-A-2020-14957']  [I. Disposiciones generales]   \n",
       "['BOE-A-2020-14958']  [I. Disposiciones generales]   \n",
       "['BOE-A-2020-14959']  [I. Disposiciones generales]   \n",
       "['BOE-A-2020-14960']  [I. Disposiciones generales]   \n",
       "['BOE-A-2020-14961']  [I. Disposiciones generales]   \n",
       "['BOE-A-2020-14962']  [I. Disposiciones generales]   \n",
       "['BOE-A-2020-14963']  [I. Disposiciones generales]   \n",
       "['BOE-A-2020-14964']  [I. Disposiciones generales]   \n",
       "['BOE-A-2020-14965']  [I. Disposiciones generales]   \n",
       "\n",
       "                                                                Alertas  \\\n",
       "Item_id                                                                   \n",
       "['BOE-A-2020-14956']  [Derecho Constitucional, Organización de la Ad...   \n",
       "['BOE-A-2020-14957']  [Agricultura, Deporte, Derecho Constitucional,...   \n",
       "['BOE-A-2020-14958']  [Derecho Constitucional, Organización de la Ad...   \n",
       "['BOE-A-2020-14959']  [Derecho Constitucional, Sistema tributario, V...   \n",
       "['BOE-A-2020-14960']  [Derecho Administrativo, Organización de la Ad...   \n",
       "['BOE-A-2020-14961']                                   [Cultura y ocio]   \n",
       "['BOE-A-2020-14962']  [Derecho Administrativo, Derecho Mercantil, Si...   \n",
       "['BOE-A-2020-14963']   [Derecho Mercantil, Sanidad, Sistema financiero]   \n",
       "['BOE-A-2020-14964']   [Derecho Mercantil, Sanidad, Sistema financiero]   \n",
       "['BOE-A-2020-14965']                                 [Seguridad Social]   \n",
       "\n",
       "                                                               Materias  \n",
       "Item_id                                                                  \n",
       "['BOE-A-2020-14956']  [Asturias, Organización de las Comunidades Aut...  \n",
       "['BOE-A-2020-14957']  [Agricultura, Comités consultivos, Contaminaci...  \n",
       "['BOE-A-2020-14958']  [Comunidades Autónomas, Delegación de atribuci...  \n",
       "['BOE-A-2020-14959']  [Ayuntamientos, Catastros, Cuestiones de incon...  \n",
       "['BOE-A-2020-14960']  [Agencia Española de Medicamentos y Productos ...  \n",
       "['BOE-A-2020-14961']  [Ayudas, Cultura, Epidemias, Instituto Naciona...  \n",
       "['BOE-A-2020-14962']  [Aval, Caja General de Depósitos, Depósitos, D...  \n",
       "['BOE-A-2020-14963']  [Aval, Ayudas, Empresas, Epidemias, Instituto ...  \n",
       "['BOE-A-2020-14964']  [Aval, Ayudas, Empresas, Epidemias, Instituto ...  \n",
       "['BOE-A-2020-14965']  [Carbón, Cotización a la Seguridad Social, Min...  "
      ],
      "text/html": "<div>\n<style scoped>\n    .dataframe tbody tr th:only-of-type {\n        vertical-align: middle;\n    }\n\n    .dataframe tbody tr th {\n        vertical-align: top;\n    }\n\n    .dataframe thead th {\n        text-align: right;\n    }\n</style>\n<table border=\"1\" class=\"dataframe\">\n  <thead>\n    <tr style=\"text-align: right;\">\n      <th></th>\n      <th>Departamento</th>\n      <th>Epigrafe</th>\n      <th>Item_Nombre</th>\n      <th>Item_URL_XML</th>\n      <th>Seccion</th>\n      <th>Alertas</th>\n      <th>Materias</th>\n    </tr>\n    <tr>\n      <th>Item_id</th>\n      <th></th>\n      <th></th>\n      <th></th>\n      <th></th>\n      <th></th>\n      <th></th>\n      <th></th>\n    </tr>\n  </thead>\n  <tbody>\n    <tr>\n      <th>['BOE-A-2020-14956']</th>\n      <td>[TRIBUNAL CONSTITUCIONAL]</td>\n      <td>[Recursos de inconstitucionalidad]</td>\n      <td>[Recurso de inconstitucionalidad n.º 4911-2020...</td>\n      <td>https://www.boe.es/diario_boe/xml.php?id=BOE-A...</td>\n      <td>[I. Disposiciones generales]</td>\n      <td>[Derecho Constitucional, Organización de la Ad...</td>\n      <td>[Asturias, Organización de las Comunidades Aut...</td>\n    </tr>\n    <tr>\n      <th>['BOE-A-2020-14957']</th>\n      <td>[TRIBUNAL CONSTITUCIONAL]</td>\n      <td>[Recursos de inconstitucionalidad]</td>\n      <td>[Recurso de inconstitucionalidad n.º 5178-2020...</td>\n      <td>https://www.boe.es/diario_boe/xml.php?id=BOE-A...</td>\n      <td>[I. Disposiciones generales]</td>\n      <td>[Agricultura, Deporte, Derecho Constitucional,...</td>\n      <td>[Agricultura, Comités consultivos, Contaminaci...</td>\n    </tr>\n    <tr>\n      <th>['BOE-A-2020-14958']</th>\n      <td>[TRIBUNAL CONSTITUCIONAL]</td>\n      <td>[Recursos de inconstitucionalidad]</td>\n      <td>[Recurso de inconstitucionalidad n.º 5342-2020...</td>\n      <td>https://www.boe.es/diario_boe/xml.php?id=BOE-A...</td>\n      <td>[I. Disposiciones generales]</td>\n      <td>[Derecho Constitucional, Organización de la Ad...</td>\n      <td>[Comunidades Autónomas, Delegación de atribuci...</td>\n    </tr>\n    <tr>\n      <th>['BOE-A-2020-14959']</th>\n      <td>[TRIBUNAL CONSTITUCIONAL]</td>\n      <td>[Cuestiones de inconstitucionalidad]</td>\n      <td>[Cuestión de inconstitucionalidad n.º 4433-202...</td>\n      <td>https://www.boe.es/diario_boe/xml.php?id=BOE-A...</td>\n      <td>[I. Disposiciones generales]</td>\n      <td>[Derecho Constitucional, Sistema tributario, V...</td>\n      <td>[Ayuntamientos, Catastros, Cuestiones de incon...</td>\n    </tr>\n    <tr>\n      <th>['BOE-A-2020-14960']</th>\n      <td>[MINISTERIO DE LA PRESIDENCIA, RELACIONES CON ...</td>\n      <td>[Medicamentos]</td>\n      <td>[Real Decreto 957/2020, de 3 de noviembre, por...</td>\n      <td>https://www.boe.es/diario_boe/xml.php?id=BOE-A...</td>\n      <td>[I. Disposiciones generales]</td>\n      <td>[Derecho Administrativo, Organización de la Ad...</td>\n      <td>[Agencia Española de Medicamentos y Productos ...</td>\n    </tr>\n    <tr>\n      <th>['BOE-A-2020-14961']</th>\n      <td>[MINISTERIO DE CULTURA Y DEPORTE]</td>\n      <td>[Subvenciones]</td>\n      <td>[Real Decreto 1042/2020, de 24 de noviembre, p...</td>\n      <td>https://www.boe.es/diario_boe/xml.php?id=BOE-A...</td>\n      <td>[I. Disposiciones generales]</td>\n      <td>[Cultura y ocio]</td>\n      <td>[Ayudas, Cultura, Epidemias, Instituto Naciona...</td>\n    </tr>\n    <tr>\n      <th>['BOE-A-2020-14962']</th>\n      <td>[MINISTERIO DE ASUNTOS ECONÓMICOS Y TRANSFORMA...</td>\n      <td>[Caja General de Depósitos. Reglamento]</td>\n      <td>[Real Decreto 937/2020, de 27 de octubre, por ...</td>\n      <td>https://www.boe.es/diario_boe/xml.php?id=BOE-A...</td>\n      <td>[I. Disposiciones generales]</td>\n      <td>[Derecho Administrativo, Derecho Mercantil, Si...</td>\n      <td>[Aval, Caja General de Depósitos, Depósitos, D...</td>\n    </tr>\n    <tr>\n      <th>['BOE-A-2020-14963']</th>\n      <td>[MINISTERIO DE ASUNTOS ECONÓMICOS Y TRANSFORMA...</td>\n      <td>[Avales]</td>\n      <td>[Resolución de 25 de noviembre de 2020, de la ...</td>\n      <td>https://www.boe.es/diario_boe/xml.php?id=BOE-A...</td>\n      <td>[I. Disposiciones generales]</td>\n      <td>[Derecho Mercantil, Sanidad, Sistema financiero]</td>\n      <td>[Aval, Ayudas, Empresas, Epidemias, Instituto ...</td>\n    </tr>\n    <tr>\n      <th>['BOE-A-2020-14964']</th>\n      <td>[MINISTERIO DE ASUNTOS ECONÓMICOS Y TRANSFORMA...</td>\n      <td>[Avales]</td>\n      <td>[Resolución de 25 de noviembre de 2020, de la ...</td>\n      <td>https://www.boe.es/diario_boe/xml.php?id=BOE-A...</td>\n      <td>[I. Disposiciones generales]</td>\n      <td>[Derecho Mercantil, Sanidad, Sistema financiero]</td>\n      <td>[Aval, Ayudas, Empresas, Epidemias, Instituto ...</td>\n    </tr>\n    <tr>\n      <th>['BOE-A-2020-14965']</th>\n      <td>[MINISTERIO DE INCLUSIÓN, SEGURIDAD SOCIAL Y M...</td>\n      <td>[Seguridad Social]</td>\n      <td>[Orden ISM/1099/2020, de 23 de noviembre, por ...</td>\n      <td>https://www.boe.es/diario_boe/xml.php?id=BOE-A...</td>\n      <td>[I. Disposiciones generales]</td>\n      <td>[Seguridad Social]</td>\n      <td>[Carbón, Cotización a la Seguridad Social, Min...</td>\n    </tr>\n  </tbody>\n</table>\n</div>"
     },
     "metadata": {},
     "execution_count": 102
    }
   ],
   "source": [
    "tabla_resultados"
   ]
  },
  {
   "cell_type": "code",
   "execution_count": 103,
   "metadata": {},
   "outputs": [],
   "source": [
    "tabla_resultados.to_csv('./BOEs/Resultados.csv', index=False)"
   ]
  },
  {
   "source": [
    "## Genera Split de ALertas y crea una fila para cada una"
   ],
   "cell_type": "markdown",
   "metadata": {}
  },
  {
   "source": [
    "### Los items sin Alerta se desechan"
   ],
   "cell_type": "markdown",
   "metadata": {}
  },
  {
   "cell_type": "code",
   "execution_count": 104,
   "metadata": {},
   "outputs": [
    {
     "output_type": "execute_result",
     "data": {
      "text/plain": [
       "                 Item_id                                        Item_Nombre  \\\n",
       "1   ['BOE-A-2020-14957']  [Recurso de inconstitucionalidad n.º 5178-2020...   \n",
       "5   ['BOE-A-2020-14961']  [Real Decreto 1042/2020, de 24 de noviembre, p...   \n",
       "11  ['BOE-A-2020-14957']  [Recurso de inconstitucionalidad n.º 5178-2020...   \n",
       "4   ['BOE-A-2020-14960']  [Real Decreto 957/2020, de 3 de noviembre, por...   \n",
       "6   ['BOE-A-2020-14962']  [Real Decreto 937/2020, de 27 de octubre, por ...   \n",
       "0   ['BOE-A-2020-14956']  [Recurso de inconstitucionalidad n.º 4911-2020...   \n",
       "2   ['BOE-A-2020-14958']  [Recurso de inconstitucionalidad n.º 5342-2020...   \n",
       "3   ['BOE-A-2020-14959']  [Cuestión de inconstitucionalidad n.º 4433-202...   \n",
       "21  ['BOE-A-2020-14957']  [Recurso de inconstitucionalidad n.º 5178-2020...   \n",
       "7   ['BOE-A-2020-14963']  [Resolución de 25 de noviembre de 2020, de la ...   \n",
       "8   ['BOE-A-2020-14964']  [Resolución de 25 de noviembre de 2020, de la ...   \n",
       "16  ['BOE-A-2020-14962']  [Real Decreto 937/2020, de 27 de octubre, por ...   \n",
       "31  ['BOE-A-2020-14957']  [Recurso de inconstitucionalidad n.º 5178-2020...   \n",
       "41  ['BOE-A-2020-14957']  [Recurso de inconstitucionalidad n.º 5178-2020...   \n",
       "51  ['BOE-A-2020-14957']  [Recurso de inconstitucionalidad n.º 5178-2020...   \n",
       "10  ['BOE-A-2020-14956']  [Recurso de inconstitucionalidad n.º 4911-2020...   \n",
       "61  ['BOE-A-2020-14957']  [Recurso de inconstitucionalidad n.º 5178-2020...   \n",
       "12  ['BOE-A-2020-14958']  [Recurso de inconstitucionalidad n.º 5342-2020...   \n",
       "14  ['BOE-A-2020-14960']  [Real Decreto 957/2020, de 3 de noviembre, por...   \n",
       "71  ['BOE-A-2020-14957']  [Recurso de inconstitucionalidad n.º 5178-2020...   \n",
       "24  ['BOE-A-2020-14960']  [Real Decreto 957/2020, de 3 de noviembre, por...   \n",
       "17  ['BOE-A-2020-14963']  [Resolución de 25 de noviembre de 2020, de la ...   \n",
       "22  ['BOE-A-2020-14958']  [Recurso de inconstitucionalidad n.º 5342-2020...   \n",
       "18  ['BOE-A-2020-14964']  [Resolución de 25 de noviembre de 2020, de la ...   \n",
       "9   ['BOE-A-2020-14965']  [Orden ISM/1099/2020, de 23 de noviembre, por ...   \n",
       "26  ['BOE-A-2020-14962']  [Real Decreto 937/2020, de 27 de octubre, por ...   \n",
       "27  ['BOE-A-2020-14963']  [Resolución de 25 de noviembre de 2020, de la ...   \n",
       "28  ['BOE-A-2020-14964']  [Resolución de 25 de noviembre de 2020, de la ...   \n",
       "13  ['BOE-A-2020-14959']  [Cuestión de inconstitucionalidad n.º 4433-202...   \n",
       "34  ['BOE-A-2020-14960']  [Real Decreto 957/2020, de 3 de noviembre, por...   \n",
       "81  ['BOE-A-2020-14957']  [Recurso de inconstitucionalidad n.º 5178-2020...   \n",
       "91  ['BOE-A-2020-14957']  [Recurso de inconstitucionalidad n.º 5178-2020...   \n",
       "23  ['BOE-A-2020-14959']  [Cuestión de inconstitucionalidad n.º 4433-202...   \n",
       "\n",
       "                         Seccion  \\\n",
       "1   [I. Disposiciones generales]   \n",
       "5   [I. Disposiciones generales]   \n",
       "11  [I. Disposiciones generales]   \n",
       "4   [I. Disposiciones generales]   \n",
       "6   [I. Disposiciones generales]   \n",
       "0   [I. Disposiciones generales]   \n",
       "2   [I. Disposiciones generales]   \n",
       "3   [I. Disposiciones generales]   \n",
       "21  [I. Disposiciones generales]   \n",
       "7   [I. Disposiciones generales]   \n",
       "8   [I. Disposiciones generales]   \n",
       "16  [I. Disposiciones generales]   \n",
       "31  [I. Disposiciones generales]   \n",
       "41  [I. Disposiciones generales]   \n",
       "51  [I. Disposiciones generales]   \n",
       "10  [I. Disposiciones generales]   \n",
       "61  [I. Disposiciones generales]   \n",
       "12  [I. Disposiciones generales]   \n",
       "14  [I. Disposiciones generales]   \n",
       "71  [I. Disposiciones generales]   \n",
       "24  [I. Disposiciones generales]   \n",
       "17  [I. Disposiciones generales]   \n",
       "22  [I. Disposiciones generales]   \n",
       "18  [I. Disposiciones generales]   \n",
       "9   [I. Disposiciones generales]   \n",
       "26  [I. Disposiciones generales]   \n",
       "27  [I. Disposiciones generales]   \n",
       "28  [I. Disposiciones generales]   \n",
       "13  [I. Disposiciones generales]   \n",
       "34  [I. Disposiciones generales]   \n",
       "81  [I. Disposiciones generales]   \n",
       "91  [I. Disposiciones generales]   \n",
       "23  [I. Disposiciones generales]   \n",
       "\n",
       "                                         Departamento  \\\n",
       "1                           [TRIBUNAL CONSTITUCIONAL]   \n",
       "5                   [MINISTERIO DE CULTURA Y DEPORTE]   \n",
       "11                          [TRIBUNAL CONSTITUCIONAL]   \n",
       "4   [MINISTERIO DE LA PRESIDENCIA, RELACIONES CON ...   \n",
       "6   [MINISTERIO DE ASUNTOS ECONÓMICOS Y TRANSFORMA...   \n",
       "0                           [TRIBUNAL CONSTITUCIONAL]   \n",
       "2                           [TRIBUNAL CONSTITUCIONAL]   \n",
       "3                           [TRIBUNAL CONSTITUCIONAL]   \n",
       "21                          [TRIBUNAL CONSTITUCIONAL]   \n",
       "7   [MINISTERIO DE ASUNTOS ECONÓMICOS Y TRANSFORMA...   \n",
       "8   [MINISTERIO DE ASUNTOS ECONÓMICOS Y TRANSFORMA...   \n",
       "16  [MINISTERIO DE ASUNTOS ECONÓMICOS Y TRANSFORMA...   \n",
       "31                          [TRIBUNAL CONSTITUCIONAL]   \n",
       "41                          [TRIBUNAL CONSTITUCIONAL]   \n",
       "51                          [TRIBUNAL CONSTITUCIONAL]   \n",
       "10                          [TRIBUNAL CONSTITUCIONAL]   \n",
       "61                          [TRIBUNAL CONSTITUCIONAL]   \n",
       "12                          [TRIBUNAL CONSTITUCIONAL]   \n",
       "14  [MINISTERIO DE LA PRESIDENCIA, RELACIONES CON ...   \n",
       "71                          [TRIBUNAL CONSTITUCIONAL]   \n",
       "24  [MINISTERIO DE LA PRESIDENCIA, RELACIONES CON ...   \n",
       "17  [MINISTERIO DE ASUNTOS ECONÓMICOS Y TRANSFORMA...   \n",
       "22                          [TRIBUNAL CONSTITUCIONAL]   \n",
       "18  [MINISTERIO DE ASUNTOS ECONÓMICOS Y TRANSFORMA...   \n",
       "9   [MINISTERIO DE INCLUSIÓN, SEGURIDAD SOCIAL Y M...   \n",
       "26  [MINISTERIO DE ASUNTOS ECONÓMICOS Y TRANSFORMA...   \n",
       "27  [MINISTERIO DE ASUNTOS ECONÓMICOS Y TRANSFORMA...   \n",
       "28  [MINISTERIO DE ASUNTOS ECONÓMICOS Y TRANSFORMA...   \n",
       "13                          [TRIBUNAL CONSTITUCIONAL]   \n",
       "34  [MINISTERIO DE LA PRESIDENCIA, RELACIONES CON ...   \n",
       "81                          [TRIBUNAL CONSTITUCIONAL]   \n",
       "91                          [TRIBUNAL CONSTITUCIONAL]   \n",
       "23                          [TRIBUNAL CONSTITUCIONAL]   \n",
       "\n",
       "                                   Epigrafe  \\\n",
       "1        [Recursos de inconstitucionalidad]   \n",
       "5                            [Subvenciones]   \n",
       "11       [Recursos de inconstitucionalidad]   \n",
       "4                            [Medicamentos]   \n",
       "6   [Caja General de Depósitos. Reglamento]   \n",
       "0        [Recursos de inconstitucionalidad]   \n",
       "2        [Recursos de inconstitucionalidad]   \n",
       "3      [Cuestiones de inconstitucionalidad]   \n",
       "21       [Recursos de inconstitucionalidad]   \n",
       "7                                  [Avales]   \n",
       "8                                  [Avales]   \n",
       "16  [Caja General de Depósitos. Reglamento]   \n",
       "31       [Recursos de inconstitucionalidad]   \n",
       "41       [Recursos de inconstitucionalidad]   \n",
       "51       [Recursos de inconstitucionalidad]   \n",
       "10       [Recursos de inconstitucionalidad]   \n",
       "61       [Recursos de inconstitucionalidad]   \n",
       "12       [Recursos de inconstitucionalidad]   \n",
       "14                           [Medicamentos]   \n",
       "71       [Recursos de inconstitucionalidad]   \n",
       "24                           [Medicamentos]   \n",
       "17                                 [Avales]   \n",
       "22       [Recursos de inconstitucionalidad]   \n",
       "18                                 [Avales]   \n",
       "9                        [Seguridad Social]   \n",
       "26  [Caja General de Depósitos. Reglamento]   \n",
       "27                                 [Avales]   \n",
       "28                                 [Avales]   \n",
       "13     [Cuestiones de inconstitucionalidad]   \n",
       "34                           [Medicamentos]   \n",
       "81       [Recursos de inconstitucionalidad]   \n",
       "91       [Recursos de inconstitucionalidad]   \n",
       "23     [Cuestiones de inconstitucionalidad]   \n",
       "\n",
       "                                         Item_URL_XML  \\\n",
       "1   https://www.boe.es/diario_boe/xml.php?id=BOE-A...   \n",
       "5   https://www.boe.es/diario_boe/xml.php?id=BOE-A...   \n",
       "11  https://www.boe.es/diario_boe/xml.php?id=BOE-A...   \n",
       "4   https://www.boe.es/diario_boe/xml.php?id=BOE-A...   \n",
       "6   https://www.boe.es/diario_boe/xml.php?id=BOE-A...   \n",
       "0   https://www.boe.es/diario_boe/xml.php?id=BOE-A...   \n",
       "2   https://www.boe.es/diario_boe/xml.php?id=BOE-A...   \n",
       "3   https://www.boe.es/diario_boe/xml.php?id=BOE-A...   \n",
       "21  https://www.boe.es/diario_boe/xml.php?id=BOE-A...   \n",
       "7   https://www.boe.es/diario_boe/xml.php?id=BOE-A...   \n",
       "8   https://www.boe.es/diario_boe/xml.php?id=BOE-A...   \n",
       "16  https://www.boe.es/diario_boe/xml.php?id=BOE-A...   \n",
       "31  https://www.boe.es/diario_boe/xml.php?id=BOE-A...   \n",
       "41  https://www.boe.es/diario_boe/xml.php?id=BOE-A...   \n",
       "51  https://www.boe.es/diario_boe/xml.php?id=BOE-A...   \n",
       "10  https://www.boe.es/diario_boe/xml.php?id=BOE-A...   \n",
       "61  https://www.boe.es/diario_boe/xml.php?id=BOE-A...   \n",
       "12  https://www.boe.es/diario_boe/xml.php?id=BOE-A...   \n",
       "14  https://www.boe.es/diario_boe/xml.php?id=BOE-A...   \n",
       "71  https://www.boe.es/diario_boe/xml.php?id=BOE-A...   \n",
       "24  https://www.boe.es/diario_boe/xml.php?id=BOE-A...   \n",
       "17  https://www.boe.es/diario_boe/xml.php?id=BOE-A...   \n",
       "22  https://www.boe.es/diario_boe/xml.php?id=BOE-A...   \n",
       "18  https://www.boe.es/diario_boe/xml.php?id=BOE-A...   \n",
       "9   https://www.boe.es/diario_boe/xml.php?id=BOE-A...   \n",
       "26  https://www.boe.es/diario_boe/xml.php?id=BOE-A...   \n",
       "27  https://www.boe.es/diario_boe/xml.php?id=BOE-A...   \n",
       "28  https://www.boe.es/diario_boe/xml.php?id=BOE-A...   \n",
       "13  https://www.boe.es/diario_boe/xml.php?id=BOE-A...   \n",
       "34  https://www.boe.es/diario_boe/xml.php?id=BOE-A...   \n",
       "81  https://www.boe.es/diario_boe/xml.php?id=BOE-A...   \n",
       "91  https://www.boe.es/diario_boe/xml.php?id=BOE-A...   \n",
       "23  https://www.boe.es/diario_boe/xml.php?id=BOE-A...   \n",
       "\n",
       "                                             Materias  \\\n",
       "1   [Agricultura, Comités consultivos, Contaminaci...   \n",
       "5   [Ayudas, Cultura, Epidemias, Instituto Naciona...   \n",
       "11  [Agricultura, Comités consultivos, Contaminaci...   \n",
       "4   [Agencia Española de Medicamentos y Productos ...   \n",
       "6   [Aval, Caja General de Depósitos, Depósitos, D...   \n",
       "0   [Asturias, Organización de las Comunidades Aut...   \n",
       "2   [Comunidades Autónomas, Delegación de atribuci...   \n",
       "3   [Ayuntamientos, Catastros, Cuestiones de incon...   \n",
       "21  [Agricultura, Comités consultivos, Contaminaci...   \n",
       "7   [Aval, Ayudas, Empresas, Epidemias, Instituto ...   \n",
       "8   [Aval, Ayudas, Empresas, Epidemias, Instituto ...   \n",
       "16  [Aval, Caja General de Depósitos, Depósitos, D...   \n",
       "31  [Agricultura, Comités consultivos, Contaminaci...   \n",
       "41  [Agricultura, Comités consultivos, Contaminaci...   \n",
       "51  [Agricultura, Comités consultivos, Contaminaci...   \n",
       "10  [Asturias, Organización de las Comunidades Aut...   \n",
       "61  [Agricultura, Comités consultivos, Contaminaci...   \n",
       "12  [Comunidades Autónomas, Delegación de atribuci...   \n",
       "14  [Agencia Española de Medicamentos y Productos ...   \n",
       "71  [Agricultura, Comités consultivos, Contaminaci...   \n",
       "24  [Agencia Española de Medicamentos y Productos ...   \n",
       "17  [Aval, Ayudas, Empresas, Epidemias, Instituto ...   \n",
       "22  [Comunidades Autónomas, Delegación de atribuci...   \n",
       "18  [Aval, Ayudas, Empresas, Epidemias, Instituto ...   \n",
       "9   [Carbón, Cotización a la Seguridad Social, Min...   \n",
       "26  [Aval, Caja General de Depósitos, Depósitos, D...   \n",
       "27  [Aval, Ayudas, Empresas, Epidemias, Instituto ...   \n",
       "28  [Aval, Ayudas, Empresas, Epidemias, Instituto ...   \n",
       "13  [Ayuntamientos, Catastros, Cuestiones de incon...   \n",
       "34  [Agencia Española de Medicamentos y Productos ...   \n",
       "81  [Agricultura, Comités consultivos, Contaminaci...   \n",
       "91  [Agricultura, Comités consultivos, Contaminaci...   \n",
       "23  [Ayuntamientos, Catastros, Cuestiones de incon...   \n",
       "\n",
       "                               Alerta  \n",
       "1                         Agricultura  \n",
       "5                      Cultura y ocio  \n",
       "11                            Deporte  \n",
       "4              Derecho Administrativo  \n",
       "6              Derecho Administrativo  \n",
       "0              Derecho Constitucional  \n",
       "2              Derecho Constitucional  \n",
       "3              Derecho Constitucional  \n",
       "21             Derecho Constitucional  \n",
       "7                   Derecho Mercantil  \n",
       "8                   Derecho Mercantil  \n",
       "16                  Derecho Mercantil  \n",
       "31               Ganadería y animales  \n",
       "41                          Industria  \n",
       "51                     Medio ambiente  \n",
       "10  Organización de la Administración  \n",
       "61  Organización de la Administración  \n",
       "12  Organización de la Administración  \n",
       "14  Organización de la Administración  \n",
       "71                              Pesca  \n",
       "24                            Sanidad  \n",
       "17                            Sanidad  \n",
       "22                            Sanidad  \n",
       "18                            Sanidad  \n",
       "9                    Seguridad Social  \n",
       "26                 Sistema financiero  \n",
       "27                 Sistema financiero  \n",
       "28                 Sistema financiero  \n",
       "13                 Sistema tributario  \n",
       "34         Tecnología e investigación  \n",
       "81              Transportes y tráfico  \n",
       "91                            Turismo  \n",
       "23               Vivienda y urbanismo  "
      ],
      "text/html": "<div>\n<style scoped>\n    .dataframe tbody tr th:only-of-type {\n        vertical-align: middle;\n    }\n\n    .dataframe tbody tr th {\n        vertical-align: top;\n    }\n\n    .dataframe thead th {\n        text-align: right;\n    }\n</style>\n<table border=\"1\" class=\"dataframe\">\n  <thead>\n    <tr style=\"text-align: right;\">\n      <th></th>\n      <th>Item_id</th>\n      <th>Item_Nombre</th>\n      <th>Seccion</th>\n      <th>Departamento</th>\n      <th>Epigrafe</th>\n      <th>Item_URL_XML</th>\n      <th>Materias</th>\n      <th>Alerta</th>\n    </tr>\n  </thead>\n  <tbody>\n    <tr>\n      <th>1</th>\n      <td>['BOE-A-2020-14957']</td>\n      <td>[Recurso de inconstitucionalidad n.º 5178-2020...</td>\n      <td>[I. Disposiciones generales]</td>\n      <td>[TRIBUNAL CONSTITUCIONAL]</td>\n      <td>[Recursos de inconstitucionalidad]</td>\n      <td>https://www.boe.es/diario_boe/xml.php?id=BOE-A...</td>\n      <td>[Agricultura, Comités consultivos, Contaminaci...</td>\n      <td>Agricultura</td>\n    </tr>\n    <tr>\n      <th>5</th>\n      <td>['BOE-A-2020-14961']</td>\n      <td>[Real Decreto 1042/2020, de 24 de noviembre, p...</td>\n      <td>[I. Disposiciones generales]</td>\n      <td>[MINISTERIO DE CULTURA Y DEPORTE]</td>\n      <td>[Subvenciones]</td>\n      <td>https://www.boe.es/diario_boe/xml.php?id=BOE-A...</td>\n      <td>[Ayudas, Cultura, Epidemias, Instituto Naciona...</td>\n      <td>Cultura y ocio</td>\n    </tr>\n    <tr>\n      <th>11</th>\n      <td>['BOE-A-2020-14957']</td>\n      <td>[Recurso de inconstitucionalidad n.º 5178-2020...</td>\n      <td>[I. Disposiciones generales]</td>\n      <td>[TRIBUNAL CONSTITUCIONAL]</td>\n      <td>[Recursos de inconstitucionalidad]</td>\n      <td>https://www.boe.es/diario_boe/xml.php?id=BOE-A...</td>\n      <td>[Agricultura, Comités consultivos, Contaminaci...</td>\n      <td>Deporte</td>\n    </tr>\n    <tr>\n      <th>4</th>\n      <td>['BOE-A-2020-14960']</td>\n      <td>[Real Decreto 957/2020, de 3 de noviembre, por...</td>\n      <td>[I. Disposiciones generales]</td>\n      <td>[MINISTERIO DE LA PRESIDENCIA, RELACIONES CON ...</td>\n      <td>[Medicamentos]</td>\n      <td>https://www.boe.es/diario_boe/xml.php?id=BOE-A...</td>\n      <td>[Agencia Española de Medicamentos y Productos ...</td>\n      <td>Derecho Administrativo</td>\n    </tr>\n    <tr>\n      <th>6</th>\n      <td>['BOE-A-2020-14962']</td>\n      <td>[Real Decreto 937/2020, de 27 de octubre, por ...</td>\n      <td>[I. Disposiciones generales]</td>\n      <td>[MINISTERIO DE ASUNTOS ECONÓMICOS Y TRANSFORMA...</td>\n      <td>[Caja General de Depósitos. Reglamento]</td>\n      <td>https://www.boe.es/diario_boe/xml.php?id=BOE-A...</td>\n      <td>[Aval, Caja General de Depósitos, Depósitos, D...</td>\n      <td>Derecho Administrativo</td>\n    </tr>\n    <tr>\n      <th>0</th>\n      <td>['BOE-A-2020-14956']</td>\n      <td>[Recurso de inconstitucionalidad n.º 4911-2020...</td>\n      <td>[I. Disposiciones generales]</td>\n      <td>[TRIBUNAL CONSTITUCIONAL]</td>\n      <td>[Recursos de inconstitucionalidad]</td>\n      <td>https://www.boe.es/diario_boe/xml.php?id=BOE-A...</td>\n      <td>[Asturias, Organización de las Comunidades Aut...</td>\n      <td>Derecho Constitucional</td>\n    </tr>\n    <tr>\n      <th>2</th>\n      <td>['BOE-A-2020-14958']</td>\n      <td>[Recurso de inconstitucionalidad n.º 5342-2020...</td>\n      <td>[I. Disposiciones generales]</td>\n      <td>[TRIBUNAL CONSTITUCIONAL]</td>\n      <td>[Recursos de inconstitucionalidad]</td>\n      <td>https://www.boe.es/diario_boe/xml.php?id=BOE-A...</td>\n      <td>[Comunidades Autónomas, Delegación de atribuci...</td>\n      <td>Derecho Constitucional</td>\n    </tr>\n    <tr>\n      <th>3</th>\n      <td>['BOE-A-2020-14959']</td>\n      <td>[Cuestión de inconstitucionalidad n.º 4433-202...</td>\n      <td>[I. Disposiciones generales]</td>\n      <td>[TRIBUNAL CONSTITUCIONAL]</td>\n      <td>[Cuestiones de inconstitucionalidad]</td>\n      <td>https://www.boe.es/diario_boe/xml.php?id=BOE-A...</td>\n      <td>[Ayuntamientos, Catastros, Cuestiones de incon...</td>\n      <td>Derecho Constitucional</td>\n    </tr>\n    <tr>\n      <th>21</th>\n      <td>['BOE-A-2020-14957']</td>\n      <td>[Recurso de inconstitucionalidad n.º 5178-2020...</td>\n      <td>[I. Disposiciones generales]</td>\n      <td>[TRIBUNAL CONSTITUCIONAL]</td>\n      <td>[Recursos de inconstitucionalidad]</td>\n      <td>https://www.boe.es/diario_boe/xml.php?id=BOE-A...</td>\n      <td>[Agricultura, Comités consultivos, Contaminaci...</td>\n      <td>Derecho Constitucional</td>\n    </tr>\n    <tr>\n      <th>7</th>\n      <td>['BOE-A-2020-14963']</td>\n      <td>[Resolución de 25 de noviembre de 2020, de la ...</td>\n      <td>[I. Disposiciones generales]</td>\n      <td>[MINISTERIO DE ASUNTOS ECONÓMICOS Y TRANSFORMA...</td>\n      <td>[Avales]</td>\n      <td>https://www.boe.es/diario_boe/xml.php?id=BOE-A...</td>\n      <td>[Aval, Ayudas, Empresas, Epidemias, Instituto ...</td>\n      <td>Derecho Mercantil</td>\n    </tr>\n    <tr>\n      <th>8</th>\n      <td>['BOE-A-2020-14964']</td>\n      <td>[Resolución de 25 de noviembre de 2020, de la ...</td>\n      <td>[I. Disposiciones generales]</td>\n      <td>[MINISTERIO DE ASUNTOS ECONÓMICOS Y TRANSFORMA...</td>\n      <td>[Avales]</td>\n      <td>https://www.boe.es/diario_boe/xml.php?id=BOE-A...</td>\n      <td>[Aval, Ayudas, Empresas, Epidemias, Instituto ...</td>\n      <td>Derecho Mercantil</td>\n    </tr>\n    <tr>\n      <th>16</th>\n      <td>['BOE-A-2020-14962']</td>\n      <td>[Real Decreto 937/2020, de 27 de octubre, por ...</td>\n      <td>[I. Disposiciones generales]</td>\n      <td>[MINISTERIO DE ASUNTOS ECONÓMICOS Y TRANSFORMA...</td>\n      <td>[Caja General de Depósitos. Reglamento]</td>\n      <td>https://www.boe.es/diario_boe/xml.php?id=BOE-A...</td>\n      <td>[Aval, Caja General de Depósitos, Depósitos, D...</td>\n      <td>Derecho Mercantil</td>\n    </tr>\n    <tr>\n      <th>31</th>\n      <td>['BOE-A-2020-14957']</td>\n      <td>[Recurso de inconstitucionalidad n.º 5178-2020...</td>\n      <td>[I. Disposiciones generales]</td>\n      <td>[TRIBUNAL CONSTITUCIONAL]</td>\n      <td>[Recursos de inconstitucionalidad]</td>\n      <td>https://www.boe.es/diario_boe/xml.php?id=BOE-A...</td>\n      <td>[Agricultura, Comités consultivos, Contaminaci...</td>\n      <td>Ganadería y animales</td>\n    </tr>\n    <tr>\n      <th>41</th>\n      <td>['BOE-A-2020-14957']</td>\n      <td>[Recurso de inconstitucionalidad n.º 5178-2020...</td>\n      <td>[I. Disposiciones generales]</td>\n      <td>[TRIBUNAL CONSTITUCIONAL]</td>\n      <td>[Recursos de inconstitucionalidad]</td>\n      <td>https://www.boe.es/diario_boe/xml.php?id=BOE-A...</td>\n      <td>[Agricultura, Comités consultivos, Contaminaci...</td>\n      <td>Industria</td>\n    </tr>\n    <tr>\n      <th>51</th>\n      <td>['BOE-A-2020-14957']</td>\n      <td>[Recurso de inconstitucionalidad n.º 5178-2020...</td>\n      <td>[I. Disposiciones generales]</td>\n      <td>[TRIBUNAL CONSTITUCIONAL]</td>\n      <td>[Recursos de inconstitucionalidad]</td>\n      <td>https://www.boe.es/diario_boe/xml.php?id=BOE-A...</td>\n      <td>[Agricultura, Comités consultivos, Contaminaci...</td>\n      <td>Medio ambiente</td>\n    </tr>\n    <tr>\n      <th>10</th>\n      <td>['BOE-A-2020-14956']</td>\n      <td>[Recurso de inconstitucionalidad n.º 4911-2020...</td>\n      <td>[I. Disposiciones generales]</td>\n      <td>[TRIBUNAL CONSTITUCIONAL]</td>\n      <td>[Recursos de inconstitucionalidad]</td>\n      <td>https://www.boe.es/diario_boe/xml.php?id=BOE-A...</td>\n      <td>[Asturias, Organización de las Comunidades Aut...</td>\n      <td>Organización de la Administración</td>\n    </tr>\n    <tr>\n      <th>61</th>\n      <td>['BOE-A-2020-14957']</td>\n      <td>[Recurso de inconstitucionalidad n.º 5178-2020...</td>\n      <td>[I. Disposiciones generales]</td>\n      <td>[TRIBUNAL CONSTITUCIONAL]</td>\n      <td>[Recursos de inconstitucionalidad]</td>\n      <td>https://www.boe.es/diario_boe/xml.php?id=BOE-A...</td>\n      <td>[Agricultura, Comités consultivos, Contaminaci...</td>\n      <td>Organización de la Administración</td>\n    </tr>\n    <tr>\n      <th>12</th>\n      <td>['BOE-A-2020-14958']</td>\n      <td>[Recurso de inconstitucionalidad n.º 5342-2020...</td>\n      <td>[I. Disposiciones generales]</td>\n      <td>[TRIBUNAL CONSTITUCIONAL]</td>\n      <td>[Recursos de inconstitucionalidad]</td>\n      <td>https://www.boe.es/diario_boe/xml.php?id=BOE-A...</td>\n      <td>[Comunidades Autónomas, Delegación de atribuci...</td>\n      <td>Organización de la Administración</td>\n    </tr>\n    <tr>\n      <th>14</th>\n      <td>['BOE-A-2020-14960']</td>\n      <td>[Real Decreto 957/2020, de 3 de noviembre, por...</td>\n      <td>[I. Disposiciones generales]</td>\n      <td>[MINISTERIO DE LA PRESIDENCIA, RELACIONES CON ...</td>\n      <td>[Medicamentos]</td>\n      <td>https://www.boe.es/diario_boe/xml.php?id=BOE-A...</td>\n      <td>[Agencia Española de Medicamentos y Productos ...</td>\n      <td>Organización de la Administración</td>\n    </tr>\n    <tr>\n      <th>71</th>\n      <td>['BOE-A-2020-14957']</td>\n      <td>[Recurso de inconstitucionalidad n.º 5178-2020...</td>\n      <td>[I. Disposiciones generales]</td>\n      <td>[TRIBUNAL CONSTITUCIONAL]</td>\n      <td>[Recursos de inconstitucionalidad]</td>\n      <td>https://www.boe.es/diario_boe/xml.php?id=BOE-A...</td>\n      <td>[Agricultura, Comités consultivos, Contaminaci...</td>\n      <td>Pesca</td>\n    </tr>\n    <tr>\n      <th>24</th>\n      <td>['BOE-A-2020-14960']</td>\n      <td>[Real Decreto 957/2020, de 3 de noviembre, por...</td>\n      <td>[I. Disposiciones generales]</td>\n      <td>[MINISTERIO DE LA PRESIDENCIA, RELACIONES CON ...</td>\n      <td>[Medicamentos]</td>\n      <td>https://www.boe.es/diario_boe/xml.php?id=BOE-A...</td>\n      <td>[Agencia Española de Medicamentos y Productos ...</td>\n      <td>Sanidad</td>\n    </tr>\n    <tr>\n      <th>17</th>\n      <td>['BOE-A-2020-14963']</td>\n      <td>[Resolución de 25 de noviembre de 2020, de la ...</td>\n      <td>[I. Disposiciones generales]</td>\n      <td>[MINISTERIO DE ASUNTOS ECONÓMICOS Y TRANSFORMA...</td>\n      <td>[Avales]</td>\n      <td>https://www.boe.es/diario_boe/xml.php?id=BOE-A...</td>\n      <td>[Aval, Ayudas, Empresas, Epidemias, Instituto ...</td>\n      <td>Sanidad</td>\n    </tr>\n    <tr>\n      <th>22</th>\n      <td>['BOE-A-2020-14958']</td>\n      <td>[Recurso de inconstitucionalidad n.º 5342-2020...</td>\n      <td>[I. Disposiciones generales]</td>\n      <td>[TRIBUNAL CONSTITUCIONAL]</td>\n      <td>[Recursos de inconstitucionalidad]</td>\n      <td>https://www.boe.es/diario_boe/xml.php?id=BOE-A...</td>\n      <td>[Comunidades Autónomas, Delegación de atribuci...</td>\n      <td>Sanidad</td>\n    </tr>\n    <tr>\n      <th>18</th>\n      <td>['BOE-A-2020-14964']</td>\n      <td>[Resolución de 25 de noviembre de 2020, de la ...</td>\n      <td>[I. Disposiciones generales]</td>\n      <td>[MINISTERIO DE ASUNTOS ECONÓMICOS Y TRANSFORMA...</td>\n      <td>[Avales]</td>\n      <td>https://www.boe.es/diario_boe/xml.php?id=BOE-A...</td>\n      <td>[Aval, Ayudas, Empresas, Epidemias, Instituto ...</td>\n      <td>Sanidad</td>\n    </tr>\n    <tr>\n      <th>9</th>\n      <td>['BOE-A-2020-14965']</td>\n      <td>[Orden ISM/1099/2020, de 23 de noviembre, por ...</td>\n      <td>[I. Disposiciones generales]</td>\n      <td>[MINISTERIO DE INCLUSIÓN, SEGURIDAD SOCIAL Y M...</td>\n      <td>[Seguridad Social]</td>\n      <td>https://www.boe.es/diario_boe/xml.php?id=BOE-A...</td>\n      <td>[Carbón, Cotización a la Seguridad Social, Min...</td>\n      <td>Seguridad Social</td>\n    </tr>\n    <tr>\n      <th>26</th>\n      <td>['BOE-A-2020-14962']</td>\n      <td>[Real Decreto 937/2020, de 27 de octubre, por ...</td>\n      <td>[I. Disposiciones generales]</td>\n      <td>[MINISTERIO DE ASUNTOS ECONÓMICOS Y TRANSFORMA...</td>\n      <td>[Caja General de Depósitos. Reglamento]</td>\n      <td>https://www.boe.es/diario_boe/xml.php?id=BOE-A...</td>\n      <td>[Aval, Caja General de Depósitos, Depósitos, D...</td>\n      <td>Sistema financiero</td>\n    </tr>\n    <tr>\n      <th>27</th>\n      <td>['BOE-A-2020-14963']</td>\n      <td>[Resolución de 25 de noviembre de 2020, de la ...</td>\n      <td>[I. Disposiciones generales]</td>\n      <td>[MINISTERIO DE ASUNTOS ECONÓMICOS Y TRANSFORMA...</td>\n      <td>[Avales]</td>\n      <td>https://www.boe.es/diario_boe/xml.php?id=BOE-A...</td>\n      <td>[Aval, Ayudas, Empresas, Epidemias, Instituto ...</td>\n      <td>Sistema financiero</td>\n    </tr>\n    <tr>\n      <th>28</th>\n      <td>['BOE-A-2020-14964']</td>\n      <td>[Resolución de 25 de noviembre de 2020, de la ...</td>\n      <td>[I. Disposiciones generales]</td>\n      <td>[MINISTERIO DE ASUNTOS ECONÓMICOS Y TRANSFORMA...</td>\n      <td>[Avales]</td>\n      <td>https://www.boe.es/diario_boe/xml.php?id=BOE-A...</td>\n      <td>[Aval, Ayudas, Empresas, Epidemias, Instituto ...</td>\n      <td>Sistema financiero</td>\n    </tr>\n    <tr>\n      <th>13</th>\n      <td>['BOE-A-2020-14959']</td>\n      <td>[Cuestión de inconstitucionalidad n.º 4433-202...</td>\n      <td>[I. Disposiciones generales]</td>\n      <td>[TRIBUNAL CONSTITUCIONAL]</td>\n      <td>[Cuestiones de inconstitucionalidad]</td>\n      <td>https://www.boe.es/diario_boe/xml.php?id=BOE-A...</td>\n      <td>[Ayuntamientos, Catastros, Cuestiones de incon...</td>\n      <td>Sistema tributario</td>\n    </tr>\n    <tr>\n      <th>34</th>\n      <td>['BOE-A-2020-14960']</td>\n      <td>[Real Decreto 957/2020, de 3 de noviembre, por...</td>\n      <td>[I. Disposiciones generales]</td>\n      <td>[MINISTERIO DE LA PRESIDENCIA, RELACIONES CON ...</td>\n      <td>[Medicamentos]</td>\n      <td>https://www.boe.es/diario_boe/xml.php?id=BOE-A...</td>\n      <td>[Agencia Española de Medicamentos y Productos ...</td>\n      <td>Tecnología e investigación</td>\n    </tr>\n    <tr>\n      <th>81</th>\n      <td>['BOE-A-2020-14957']</td>\n      <td>[Recurso de inconstitucionalidad n.º 5178-2020...</td>\n      <td>[I. Disposiciones generales]</td>\n      <td>[TRIBUNAL CONSTITUCIONAL]</td>\n      <td>[Recursos de inconstitucionalidad]</td>\n      <td>https://www.boe.es/diario_boe/xml.php?id=BOE-A...</td>\n      <td>[Agricultura, Comités consultivos, Contaminaci...</td>\n      <td>Transportes y tráfico</td>\n    </tr>\n    <tr>\n      <th>91</th>\n      <td>['BOE-A-2020-14957']</td>\n      <td>[Recurso de inconstitucionalidad n.º 5178-2020...</td>\n      <td>[I. Disposiciones generales]</td>\n      <td>[TRIBUNAL CONSTITUCIONAL]</td>\n      <td>[Recursos de inconstitucionalidad]</td>\n      <td>https://www.boe.es/diario_boe/xml.php?id=BOE-A...</td>\n      <td>[Agricultura, Comités consultivos, Contaminaci...</td>\n      <td>Turismo</td>\n    </tr>\n    <tr>\n      <th>23</th>\n      <td>['BOE-A-2020-14959']</td>\n      <td>[Cuestión de inconstitucionalidad n.º 4433-202...</td>\n      <td>[I. Disposiciones generales]</td>\n      <td>[TRIBUNAL CONSTITUCIONAL]</td>\n      <td>[Cuestiones de inconstitucionalidad]</td>\n      <td>https://www.boe.es/diario_boe/xml.php?id=BOE-A...</td>\n      <td>[Ayuntamientos, Catastros, Cuestiones de incon...</td>\n      <td>Vivienda y urbanismo</td>\n    </tr>\n  </tbody>\n</table>\n</div>"
     },
     "metadata": {},
     "execution_count": 104
    }
   ],
   "source": [
    "tabla_resultados.Alertas.apply(pd.Series) \\\n",
    "    .merge(tabla_resultados, left_index = True, right_index = True) \\\n",
    "    .drop([\"Alertas\"], axis = 1) \\\n",
    "    .reset_index() \\\n",
    "    .melt(id_vars = ['Item_id','Item_Nombre','Seccion','Departamento','Epigrafe','Item_URL_XML','Materias',], value_name = \"Alerta\") \\\n",
    "    .drop(\"variable\", axis = 1) \\\n",
    "    .dropna() \\\n",
    "    .sort_values('Alerta')"
   ]
  },
  {
   "cell_type": "code",
   "execution_count": 105,
   "metadata": {},
   "outputs": [
    {
     "output_type": "execute_result",
     "data": {
      "text/plain": [
       "Item_id\n",
       "['BOE-A-2020-14956']         Recursos de inconstitucionalidad\n",
       "['BOE-A-2020-14957']         Recursos de inconstitucionalidad\n",
       "['BOE-A-2020-14958']         Recursos de inconstitucionalidad\n",
       "['BOE-A-2020-14959']       Cuestiones de inconstitucionalidad\n",
       "['BOE-A-2020-14960']                             Medicamentos\n",
       "['BOE-A-2020-14961']                             Subvenciones\n",
       "['BOE-A-2020-14962']    Caja General de Depósitos. Reglamento\n",
       "['BOE-A-2020-14963']                                   Avales\n",
       "['BOE-A-2020-14964']                                   Avales\n",
       "['BOE-A-2020-14965']                         Seguridad Social\n",
       "Name: Epigrafe, dtype: object"
      ]
     },
     "metadata": {},
     "execution_count": 105
    }
   ],
   "source": [
    "tabla_resultados['Epigrafe'].str.join(',')"
   ]
  },
  {
   "cell_type": "code",
   "execution_count": 106,
   "metadata": {},
   "outputs": [
    {
     "output_type": "execute_result",
     "data": {
      "text/plain": [
       "0    [-'-B-O-E---A---2-0-2-0---1-4-9-5-6-'-]\n",
       "1    [-'-B-O-E---A---2-0-2-0---1-4-9-5-7-'-]\n",
       "2    [-'-B-O-E---A---2-0-2-0---1-4-9-5-8-'-]\n",
       "3    [-'-B-O-E---A---2-0-2-0---1-4-9-5-9-'-]\n",
       "4    [-'-B-O-E---A---2-0-2-0---1-4-9-6-0-'-]\n",
       "5    [-'-B-O-E---A---2-0-2-0---1-4-9-6-1-'-]\n",
       "6    [-'-B-O-E---A---2-0-2-0---1-4-9-6-2-'-]\n",
       "7    [-'-B-O-E---A---2-0-2-0---1-4-9-6-3-'-]\n",
       "8    [-'-B-O-E---A---2-0-2-0---1-4-9-6-4-'-]\n",
       "9    [-'-B-O-E---A---2-0-2-0---1-4-9-6-5-'-]\n",
       "Name: Item_id, dtype: object"
      ]
     },
     "metadata": {},
     "execution_count": 106
    }
   ],
   "source": [
    "tabla_resultados.reset_index(inplace=True)\n",
    "tabla_resultados['Item_id'].astype(str).str.join('-')"
   ]
  },
  {
   "cell_type": "code",
   "execution_count": null,
   "metadata": {},
   "outputs": [],
   "source": []
  }
 ]
}