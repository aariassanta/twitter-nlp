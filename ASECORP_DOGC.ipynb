{
 "metadata": {
  "language_info": {
   "codemirror_mode": {
    "name": "ipython",
    "version": 3
   },
   "file_extension": ".py",
   "mimetype": "text/x-python",
   "name": "python",
   "nbconvert_exporter": "python",
   "pygments_lexer": "ipython3",
   "version": "3.8.5-final"
  },
  "orig_nbformat": 2,
  "kernelspec": {
   "name": "python3",
   "display_name": "Python 3",
   "language": "python"
  }
 },
 "nbformat": 4,
 "nbformat_minor": 2,
 "cells": [
  {
   "cell_type": "code",
   "execution_count": 1,
   "metadata": {},
   "outputs": [],
   "source": [
    "from lxml import etree, html\n",
    "from lxml.html.clean import clean_html\n",
    "import pandas as pd\n",
    "from datetime import date, datetime\n",
    "import requests\n",
    "import re\n",
    "import os\n",
    "import shutil\n",
    "from ASECORP_BBDD import tagea_BBDD_ASECORP, devuelve_patrones\n",
    "from selenium import webdriver\n",
    "import time"
   ]
  },
  {
   "source": [
    "# Mueve todos los fichero del directorio de trabajo a otro de archivo"
   ],
   "cell_type": "markdown",
   "metadata": {}
  },
  {
   "source": [
    "# Recoge resumen diario del BOE de hoy"
   ],
   "cell_type": "markdown",
   "metadata": {}
  },
  {
   "cell_type": "code",
   "execution_count": 2,
   "metadata": {},
   "outputs": [
    {
     "output_type": "stream",
     "name": "stdout",
     "text": [
      "Fecha de Hoy = 20210311\ndia = 11\nmes = 03\naño = 2021\n11/03/2021\n"
     ]
    }
   ],
   "source": [
    "\n",
    "today = date.today()\n",
    "\n",
    "# dd/mm/YYYY\n",
    "hoy = today.strftime(\"%Y%m%d\")\n",
    "print(\"Fecha de Hoy =\", hoy)\n",
    "\n",
    "# dd\n",
    "d = today.strftime(\"%d\")\n",
    "print(\"dia =\", d)\n",
    "\n",
    "# mm\n",
    "m = today.strftime(\"%m\")\n",
    "print(\"mes =\", m)\n",
    "\n",
    "# YYYY\n",
    "Y = today.strftime(\"%Y\")\n",
    "print(\"año =\", Y)\n",
    "\n",
    "print(today.strftime(\"%d/%m/%Y\"))"
   ]
  },
  {
   "cell_type": "code",
   "execution_count": 3,
   "metadata": {},
   "outputs": [],
   "source": [
    "def save_html(html, path):\n",
    "    with open(path, 'wb') as f:\n",
    "        f.write(html)"
   ]
  },
  {
   "cell_type": "code",
   "execution_count": 4,
   "metadata": {},
   "outputs": [],
   "source": [
    "# Define expresiones REGEX para búsqueda de leyes, decretos, etc. referenciadas anteriormente\n",
    "#pattern = ['Ley [0-9]+\\/[0-9]+','Ley Orgánica [0-9]+\\/[0-9]+','Decreto [0-9]+\\/[0-9]+','Real Decreto [0-9]+\\/[0-9]+','Real Decreto Legislativo [0-9]+\\/[0-9]+','Real Decreto-ley [0-9]+\\/[0-9]+','Orden [A-Z]+\\/[0-9]+\\/[0-9]+','Orden Circular [0-9]+\\/[0-9]+','Reglamento \\(UE\\) [0-9]+\\/[0-9]+', 'Reglamento de Ejeución \\(UE\\) [0-9]+\\/[0-9]+' ,'Sentencia de [0-9]+ de [a-z]+ de [0-9]+','Sentencia [0-9]+\\/[0-9]+','Orden de [0-9]+ de [a-z]+ de [0-9]+', 'Resolución de [0-9]+ de [a-z]+ de [0-9]+','Resolución [a-z]+\\/[0-9]+\\/[0-9]+', 'Nota de Servicio [0-9]+\\/[0-9]+', 'Acuerdo multilateral M\\-[0-9]+', 'Acuerdo Multilateral RID [0-9]+\\/[0-9]+', 'Circular [0-9]+\\/[0-9]+', 'Decisión \\(UE\\) [0-9]+\\/[0-9]+', 'Decisión de Ejecución \\(UE\\) [0-9]+\\/[0-9]+', 'Instrucción IS\\-[0-9]+']\n",
    "pattern = devuelve_patrones()"
   ]
  },
  {
   "source": [
    "# ------------------------------------------------------------------------"
   ],
   "cell_type": "markdown",
   "metadata": {}
  },
  {
   "source": [
    "# DOGC"
   ],
   "cell_type": "markdown",
   "metadata": {}
  },
  {
   "cell_type": "code",
   "execution_count": 5,
   "metadata": {},
   "outputs": [],
   "source": [
    "URL_HTML_resumen = \"https://dogc.gencat.cat/es/inici/\""
   ]
  },
  {
   "cell_type": "code",
   "execution_count": 6,
   "metadata": {},
   "outputs": [
    {
     "output_type": "stream",
     "name": "stdout",
     "text": [
      "['DOGC núm. 8362']\n['Disposiciones', 'Cargos y personal', 'Anuncios de la Generalidad de Cataluña', 'Anuncios de la Administración local', 'Anuncios de la Administración de justicia ']\n['https://dogc.gencat.cat/es/sumari-del-dogc/?numDOGC=8362#section-Disposiciones', 'https://dogc.gencat.cat/es/sumari-del-dogc/?numDOGC=8362#section-Cargos_y_personal', 'https://dogc.gencat.cat/es/sumari-del-dogc/?numDOGC=8362#section-Anuncios_de_la_Generalidad_de_Cataluña', 'https://dogc.gencat.cat/es/sumari-del-dogc/?numDOGC=8362#section-Anuncios_de_la_Administración_local', 'https://dogc.gencat.cat/es/sumari-del-dogc/?numDOGC=8362#section-Anuncios_de_la_Administración_de_justicia_']\n"
     ]
    }
   ],
   "source": [
    "### Necesita libreria Selenium para renderizar JS script\n",
    "\n",
    "options = webdriver.ChromeOptions()\n",
    "options.headless = True\n",
    "driver = webdriver.Chrome(options=options)\n",
    "\n",
    "driver.get(URL_HTML_resumen)\n",
    "#print(driver.page_source)\n",
    "response = driver.page_source\n",
    "\n",
    "sumario_HTML = html.fromstring(response)\n",
    "#print(sumario_HTML.xpath('//h2[@class=\"titol-component\"]/a/@href'))\n",
    "numero_diario = sumario_HTML.xpath('//h2[@class=\"titol-component\"]/a/text()')\n",
    "secciones = sumario_HTML.xpath('//div[@class=\"llistat_cont\"]/ul/li/a/text()')\n",
    "secciones_link = sumario_HTML.xpath('//div[@class=\"llistat_cont\"]/ul/li/a/@href')\n",
    "secciones_linkHTML = [ ('https://dogc.gencat.cat' + item) for item in secciones_link ]\n",
    "# numero_pagina = sumario_HTML.xpath('//table[@class=\"tablaDetalle\"]/tbody/tr[3]/td[4]/text()')\n",
    "# NID = sumario_HTML.xpath('//table[@class=\"tablaDetalle\"]/tbody/tr[2]/td[2]/text()')\n",
    "# rango = sumario_HTML.xpath('//table[@class=\"tablaDetalle\"]/tbody/tr[5]/td[2]/text()')\n",
    "# organo_emisor = sumario_HTML.xpath('//table[@class=\"tablaDetalle\"]/tbody/tr[7]/td[2]/text()')\n",
    "# \n",
    "# print(numero_diario[0].strip(), numero_pagina[0].strip(), NID[0].strip(), rango[0].strip(), organo_emisor[0].strip())\n",
    "# print()\n",
    "print(numero_diario)\n",
    "print(secciones)\n",
    "print(secciones_linkHTML)\n",
    "\n",
    "driver.quit()"
   ]
  },
  {
   "cell_type": "code",
   "execution_count": 7,
   "metadata": {},
   "outputs": [],
   "source": [
    "#response"
   ]
  },
  {
   "source": [
    "## Recoge Nombre Secciones Sumario"
   ],
   "cell_type": "markdown",
   "metadata": {}
  },
  {
   "cell_type": "code",
   "execution_count": 8,
   "metadata": {},
   "outputs": [],
   "source": [
    "secciones = sumario_HTML.xpath('//div[@class=\"llistat_cont\"]/ul/li/a/text()')\n",
    "#print(secciones)\n",
    "df_secciones_sumarios = pd.DataFrame()\n",
    "for seccion in secciones:\n",
    "    df_secciones_sumarios = df_secciones_sumarios.append({'Seccion': seccion}, ignore_index=True)\n"
   ]
  },
  {
   "cell_type": "code",
   "execution_count": 9,
   "metadata": {},
   "outputs": [
    {
     "output_type": "execute_result",
     "data": {
      "text/plain": [
       "                                      Seccion\n",
       "0                               Disposiciones\n",
       "1                           Cargos y personal\n",
       "2      Anuncios de la Generalidad de Cataluña\n",
       "3         Anuncios de la Administración local\n",
       "4  Anuncios de la Administración de justicia "
      ],
      "text/html": "<div>\n<style scoped>\n    .dataframe tbody tr th:only-of-type {\n        vertical-align: middle;\n    }\n\n    .dataframe tbody tr th {\n        vertical-align: top;\n    }\n\n    .dataframe thead th {\n        text-align: right;\n    }\n</style>\n<table border=\"1\" class=\"dataframe\">\n  <thead>\n    <tr style=\"text-align: right;\">\n      <th></th>\n      <th>Seccion</th>\n    </tr>\n  </thead>\n  <tbody>\n    <tr>\n      <th>0</th>\n      <td>Disposiciones</td>\n    </tr>\n    <tr>\n      <th>1</th>\n      <td>Cargos y personal</td>\n    </tr>\n    <tr>\n      <th>2</th>\n      <td>Anuncios de la Generalidad de Cataluña</td>\n    </tr>\n    <tr>\n      <th>3</th>\n      <td>Anuncios de la Administración local</td>\n    </tr>\n    <tr>\n      <th>4</th>\n      <td>Anuncios de la Administración de justicia</td>\n    </tr>\n  </tbody>\n</table>\n</div>"
     },
     "metadata": {},
     "execution_count": 9
    }
   ],
   "source": [
    "df_secciones_sumarios"
   ]
  },
  {
   "source": [
    "## Recoge Valores para formar URLs Secciones Sumario"
   ],
   "cell_type": "markdown",
   "metadata": {}
  },
  {
   "cell_type": "code",
   "execution_count": 10,
   "metadata": {},
   "outputs": [
    {
     "output_type": "stream",
     "name": "stdout",
     "text": [
      "https://dogc.gencat.cat/es/sumari-del-dogc/?numDOGC=8362#section-Disposiciones\nhttps://dogc.gencat.cat/es/sumari-del-dogc/?numDOGC=8362#section-Cargos_y_personal\nhttps://dogc.gencat.cat/es/sumari-del-dogc/?numDOGC=8362#section-Anuncios_de_la_Generalidad_de_Cataluña\nhttps://dogc.gencat.cat/es/sumari-del-dogc/?numDOGC=8362#section-Anuncios_de_la_Administración_local\nhttps://dogc.gencat.cat/es/sumari-del-dogc/?numDOGC=8362#section-Anuncios_de_la_Administración_de_justicia_\n"
     ]
    }
   ],
   "source": [
    "URL_base_sumario = sumario_HTML.xpath('//div[@class=\"llistat_cont\"]/ul/li/a/@href')\n",
    "URL_sumario = [ ('https://dogc.gencat.cat' + item) for item in secciones_link ]\n",
    "\n",
    "df_URL_sumarios = pd.DataFrame()\n",
    "\n",
    "for URL_seccion in URL_base_sumario:    \n",
    "    URL_sumario = 'https://dogc.gencat.cat' + str(URL_seccion)\n",
    "    print(URL_sumario)\n",
    "    df_URL_sumarios = df_URL_sumarios.append({'URL_Seccion': URL_sumario}, ignore_index=True)"
   ]
  },
  {
   "cell_type": "code",
   "execution_count": 11,
   "metadata": {},
   "outputs": [
    {
     "output_type": "execute_result",
     "data": {
      "text/plain": [
       "                                         URL_Seccion\n",
       "0  https://dogc.gencat.cat/es/sumari-del-dogc/?nu...\n",
       "1  https://dogc.gencat.cat/es/sumari-del-dogc/?nu...\n",
       "2  https://dogc.gencat.cat/es/sumari-del-dogc/?nu...\n",
       "3  https://dogc.gencat.cat/es/sumari-del-dogc/?nu...\n",
       "4  https://dogc.gencat.cat/es/sumari-del-dogc/?nu..."
      ],
      "text/html": "<div>\n<style scoped>\n    .dataframe tbody tr th:only-of-type {\n        vertical-align: middle;\n    }\n\n    .dataframe tbody tr th {\n        vertical-align: top;\n    }\n\n    .dataframe thead th {\n        text-align: right;\n    }\n</style>\n<table border=\"1\" class=\"dataframe\">\n  <thead>\n    <tr style=\"text-align: right;\">\n      <th></th>\n      <th>URL_Seccion</th>\n    </tr>\n  </thead>\n  <tbody>\n    <tr>\n      <th>0</th>\n      <td>https://dogc.gencat.cat/es/sumari-del-dogc/?nu...</td>\n    </tr>\n    <tr>\n      <th>1</th>\n      <td>https://dogc.gencat.cat/es/sumari-del-dogc/?nu...</td>\n    </tr>\n    <tr>\n      <th>2</th>\n      <td>https://dogc.gencat.cat/es/sumari-del-dogc/?nu...</td>\n    </tr>\n    <tr>\n      <th>3</th>\n      <td>https://dogc.gencat.cat/es/sumari-del-dogc/?nu...</td>\n    </tr>\n    <tr>\n      <th>4</th>\n      <td>https://dogc.gencat.cat/es/sumari-del-dogc/?nu...</td>\n    </tr>\n  </tbody>\n</table>\n</div>"
     },
     "metadata": {},
     "execution_count": 11
    }
   ],
   "source": [
    "df_URL_sumarios"
   ]
  },
  {
   "cell_type": "code",
   "execution_count": 12,
   "metadata": {},
   "outputs": [],
   "source": [
    " df_sumarios = pd.concat([df_secciones_sumarios, df_URL_sumarios], axis=1)"
   ]
  },
  {
   "cell_type": "code",
   "execution_count": 13,
   "metadata": {},
   "outputs": [
    {
     "output_type": "execute_result",
     "data": {
      "text/plain": [
       "                                      Seccion  \\\n",
       "0                               Disposiciones   \n",
       "1                           Cargos y personal   \n",
       "2      Anuncios de la Generalidad de Cataluña   \n",
       "3         Anuncios de la Administración local   \n",
       "4  Anuncios de la Administración de justicia    \n",
       "\n",
       "                                         URL_Seccion  \n",
       "0  https://dogc.gencat.cat/es/sumari-del-dogc/?nu...  \n",
       "1  https://dogc.gencat.cat/es/sumari-del-dogc/?nu...  \n",
       "2  https://dogc.gencat.cat/es/sumari-del-dogc/?nu...  \n",
       "3  https://dogc.gencat.cat/es/sumari-del-dogc/?nu...  \n",
       "4  https://dogc.gencat.cat/es/sumari-del-dogc/?nu...  "
      ],
      "text/html": "<div>\n<style scoped>\n    .dataframe tbody tr th:only-of-type {\n        vertical-align: middle;\n    }\n\n    .dataframe tbody tr th {\n        vertical-align: top;\n    }\n\n    .dataframe thead th {\n        text-align: right;\n    }\n</style>\n<table border=\"1\" class=\"dataframe\">\n  <thead>\n    <tr style=\"text-align: right;\">\n      <th></th>\n      <th>Seccion</th>\n      <th>URL_Seccion</th>\n    </tr>\n  </thead>\n  <tbody>\n    <tr>\n      <th>0</th>\n      <td>Disposiciones</td>\n      <td>https://dogc.gencat.cat/es/sumari-del-dogc/?nu...</td>\n    </tr>\n    <tr>\n      <th>1</th>\n      <td>Cargos y personal</td>\n      <td>https://dogc.gencat.cat/es/sumari-del-dogc/?nu...</td>\n    </tr>\n    <tr>\n      <th>2</th>\n      <td>Anuncios de la Generalidad de Cataluña</td>\n      <td>https://dogc.gencat.cat/es/sumari-del-dogc/?nu...</td>\n    </tr>\n    <tr>\n      <th>3</th>\n      <td>Anuncios de la Administración local</td>\n      <td>https://dogc.gencat.cat/es/sumari-del-dogc/?nu...</td>\n    </tr>\n    <tr>\n      <th>4</th>\n      <td>Anuncios de la Administración de justicia</td>\n      <td>https://dogc.gencat.cat/es/sumari-del-dogc/?nu...</td>\n    </tr>\n  </tbody>\n</table>\n</div>"
     },
     "metadata": {},
     "execution_count": 13
    }
   ],
   "source": [
    "df_sumarios"
   ]
  },
  {
   "cell_type": "code",
   "execution_count": 14,
   "metadata": {},
   "outputs": [
    {
     "output_type": "execute_result",
     "data": {
      "text/plain": [
       "'https://dogc.gencat.cat/es/sumari-del-dogc/?numDOGC=8362#section-Disposiciones'"
      ]
     },
     "metadata": {},
     "execution_count": 14
    }
   ],
   "source": [
    "df_sumarios['URL_Seccion'][0]"
   ]
  },
  {
   "source": [
    "## Recoge Items en Seccion Disposiciones"
   ],
   "cell_type": "markdown",
   "metadata": {}
  },
  {
   "cell_type": "code",
   "execution_count": 15,
   "metadata": {},
   "outputs": [],
   "source": [
    "URL_HTML_disposiciones = df_sumarios[df_sumarios['Seccion'] == 'Disposiciones']"
   ]
  },
  {
   "cell_type": "code",
   "execution_count": 16,
   "metadata": {},
   "outputs": [
    {
     "output_type": "stream",
     "name": "stdout",
     "text": [
      "Disposiciones\n"
     ]
    }
   ],
   "source": [
    "print(URL_HTML_disposiciones['Seccion'][0])"
   ]
  },
  {
   "cell_type": "code",
   "execution_count": 17,
   "metadata": {},
   "outputs": [
    {
     "output_type": "stream",
     "name": "stdout",
     "text": [
      "https://dogc.gencat.cat/es/sumari-del-dogc/?numDOGC=8362#section-Disposiciones\n"
     ]
    }
   ],
   "source": [
    "print(URL_HTML_disposiciones['URL_Seccion'][0])"
   ]
  },
  {
   "cell_type": "code",
   "execution_count": 18,
   "metadata": {},
   "outputs": [],
   "source": [
    "URL_HTML_disposiciones = URL_HTML_disposiciones['URL_Seccion'][0]"
   ]
  },
  {
   "cell_type": "code",
   "execution_count": 19,
   "metadata": {},
   "outputs": [
    {
     "output_type": "execute_result",
     "data": {
      "text/plain": [
       "'https://dogc.gencat.cat/es/sumari-del-dogc/?numDOGC=8362#section-Disposiciones'"
      ]
     },
     "metadata": {},
     "execution_count": 19
    }
   ],
   "source": [
    "URL_HTML_disposiciones"
   ]
  },
  {
   "cell_type": "code",
   "execution_count": 20,
   "metadata": {
    "tags": []
   },
   "outputs": [
    {
     "output_type": "stream",
     "name": "stdout",
     "text": [
      "['Departamento de la Presidencia', 'Departamento de la Vicepresidencia y de Economía y Hacienda', 'Departamento de Educación', 'Departamento de Salud', 'Departamento de Territorio y Sostenibilidad', 'Departamento de Cultura', 'Departamento de Empresa y Conocimiento', 'Departamento de Agricultura, Ganadería, Pesca y Alimentación']\n['RESOLUCIÓN PRE/656/2021, de 7 de marzo, por la que se abre la convocatoria para otorgar compensaciones económicas a favor de los ayuntamientos para que abonen retribuciones a determinados cargos electos locales para el ejercicio 2021 (ref. BDNS 552459).', 'RESOLUCIÓN VEH/668/2021, de 5 de marzo, por la que se da publicidad al Convenio único de colaboración entre la Agencia Tributaria de Cataluña y el Ayuntamiento de Reus en materia tributaria.', 'DECRETO 16/2021, de 9 de marzo, por el que se crea el título de la Generalidad de técnico o técnica en Técnicas de Danza Urbana, y se establece su currículum.', 'ACUERDO GOV/25/2021, de 9 de marzo,  por el que se aprueba la modificación de los Estatutos del Banco de Sangre y Tejidos.', 'ACUERDO GOV/26/2021, de 9 de marzo, por el que se amplía el Programa transversal del Servicio Catalán de la Salud, aprobado por el Acuerdo GOV/114/2020, de 30 de septiembre, ante la continuidad del progreso de la COVID-19.', 'RESOLUCIÓN TES/674/2021, de 9 de marzo, por la que se hace público el Acuerdo de declaración de impacto ambiental del Proyecto de concesión directa de la explotación Santa Coloma de Gramenet, en el término municipal de Santa Coloma de Gramenet (exp. B3DIA190449).', 'RESOLUCIÓN TES/642/2021, de 4 de marzo, por la que se hace pública la convocatoria para la concesión de subvenciones, en régimen de concurrencia competitiva, destinadas a los entes locales para la realización de inversiones para la ejecución de actuaciones de reutilización de agua regenerada (ref. BDNS 552136).', 'RESOLUCIÓN CLT/635/2021, de 2 de marzo, por la que se da publicidad al Acuerdo del Consejo de Administración de la Oficina de Apoyo a la Iniciativa Cultural por el que se aprueba la convocatoria en el ámbito del patrimonio cultural para la concesión de subvenciones, en régimen de concurrencia competitiva, para la conservación-restauración de bienes muebles y de los elementos arqueológicos y artísticos integrados en el patrimonio inmueble para el año 2021 (ref. BDNS 551895).', 'RESOLUCIÓN CLT/636/2021, de 2 de marzo, por la que se da publicidad al Acuerdo del Consejo de Administración de la Oficina de Apoyo a la Iniciativa Cultural por el que se aprueba la convocatoria en el ámbito del patrimonio cultural para la concesión de subvenciones, en régimen de concurrencia competitiva, para intervenciones arqueológicas y paleontológicas preventivas para el año 2021 (ref. BDNS 551897).', 'RESOLUCIÓN CLT/637/2021, de 2 de marzo, por la que se da publicidad al Acuerdo del Consejo de Administración de la Oficina de Apoyo a la Iniciativa Cultural por el que se aprueba la convocatoria para la concesión de subvenciones, en régimen de concurrencia competitiva, para promover el conocimiento y el uso del occitano, aranés en el Arán, en Cataluña, para el año 2021 (ref. BDNS 551900).', 'RESOLUCIÓN CLT/557/2021, de 25 de febrero, de convocatoria para la concesión de subvenciones, en régimen de concurrencia no competitiva, para compensar las pérdidas del 31 de marzo al 14 de abril de 2020 de las salas de exhibición cinematográfica de Cataluña por su cierre forzoso a causa de las medidas establecidas con motivo de la crisis sanitaria ocasionada por la COVID-19 (ref. BDNS 551202).', 'ORDEN EMC/55/2021, de 8 de marzo, por la que se aprueban las bases reguladoras de la concesión de subvenciones para ayuntamientos y asociaciones empresariales de carácter territorial para impulsar y crear las áreas de promoción económica urbana (APEU) en los polígonos de actividad económica (PAE).', 'RESOLUCIÓN EMC/671/2021, de 5 de marzo, de segunda ampliación del importe máximo inicial de la dotación presupuestaria correspondiente a la Resolución EMC/3015/2020, de 20 de noviembre, por la que se hace pública la convocatoria para la concesión de subvenciones a autónomos y empresas del sector turístico de Cataluña afectados económicamente por las consecuencias de la COVID-19 (ref. BDNS 534914) (DOGC núm. 8280, de 25.11.2020).', 'RESOLUCIÓN ARP/673/2021, de 5 de marzo, por la que se convocan las ayudas para el fomento de la mejora de la competitividad de las cooperativas y otras entidades asociativas agrarias correspondientes a 2021, 2022 y 2023 (ref. BDNS 552240).']\n['/es/document-del-dogc/?documentId=895401', '/es/document-del-dogc/?documentId=895362', '/es/document-del-dogc/?documentId=895405', '/es/document-del-dogc/?documentId=895346', '/es/document-del-dogc/?documentId=895369', '/es/document-del-dogc/?documentId=895429', '/es/document-del-dogc/?documentId=895354', '/es/document-del-dogc/?documentId=895333', '/es/document-del-dogc/?documentId=895422', '/es/document-del-dogc/?documentId=895396', '/es/document-del-dogc/?documentId=895338', '/es/document-del-dogc/?documentId=895408', '/es/document-del-dogc/?documentId=895386', '/es/document-del-dogc/?documentId=895432']\n['https://portaldogc.gencat.cat/utilsEADOP/AppJava/PdfProviderServlet?documentId=895401&type=01&language=es_ES', 'https://portaldogc.gencat.cat/utilsEADOP/AppJava/PdfProviderServlet?documentId=895362&type=01&language=es_ES', 'https://portaldogc.gencat.cat/utilsEADOP/AppJava/PdfProviderServlet?documentId=895405&type=01&language=es_ES', 'https://portaldogc.gencat.cat/utilsEADOP/AppJava/PdfProviderServlet?documentId=895346&type=01&language=es_ES', 'https://portaldogc.gencat.cat/utilsEADOP/AppJava/PdfProviderServlet?documentId=895369&type=01&language=es_ES', 'https://portaldogc.gencat.cat/utilsEADOP/AppJava/PdfProviderServlet?documentId=895429&type=01&language=es_ES', 'https://portaldogc.gencat.cat/utilsEADOP/AppJava/PdfProviderServlet?documentId=895354&type=01&language=es_ES', 'https://portaldogc.gencat.cat/utilsEADOP/AppJava/PdfProviderServlet?documentId=895333&type=01&language=es_ES', 'https://portaldogc.gencat.cat/utilsEADOP/AppJava/PdfProviderServlet?documentId=895422&type=01&language=es_ES', 'https://portaldogc.gencat.cat/utilsEADOP/AppJava/PdfProviderServlet?documentId=895396&type=01&language=es_ES', 'https://portaldogc.gencat.cat/utilsEADOP/AppJava/PdfProviderServlet?documentId=895338&type=01&language=es_ES', 'https://portaldogc.gencat.cat/utilsEADOP/AppJava/PdfProviderServlet?documentId=895408&type=01&language=es_ES', 'https://portaldogc.gencat.cat/utilsEADOP/AppJava/PdfProviderServlet?documentId=895386&type=01&language=es_ES', 'https://portaldogc.gencat.cat/utilsEADOP/AppJava/PdfProviderServlet?documentId=895432&type=01&language=es_ES']\n"
     ]
    }
   ],
   "source": [
    "options = webdriver.ChromeOptions()\n",
    "options.headless = True\n",
    "driver = webdriver.Chrome(options=options)\n",
    "\n",
    "driver.get(URL_HTML_disposiciones)\n",
    "#print(driver.page_source)\n",
    "response = driver.page_source\n",
    "### Recoge Items en Seccion Disposiciones\n",
    "disposiciones_HTML = html.fromstring(response)\n",
    "\n",
    "#print(html.tostring(disposiciones_HTML))\n",
    "#print('____________________')\n",
    "\n",
    "departamentos = disposiciones_HTML.xpath('/descendant::*[@class=\"wrapper-disposicions\"][1]/h3/text()') # Sólo Sección disposiciones\n",
    "disposiciones = disposiciones_HTML.xpath('/descendant::*[@class=\"wrapper-disposicions\"][1]/ul/descendant::li/div/a/text()')\n",
    "disposiciones_link = disposiciones_HTML.xpath('/descendant::*[@class=\"wrapper-disposicions\"][1]/ul/descendant::li/div/a/@href')\n",
    "disposiciones_pdf = disposiciones_HTML.xpath('/descendant::*[@class=\"wrapper-disposicions\"][1]/ul/descendant::li/div/div/a/@href')\n",
    "\n",
    "# for i in range(len(departamentos)):\n",
    "#     print(departamentos[i])\n",
    "#     i += 1\n",
    "#     #print(disposiciones_HTML.xpath('//*[@class=\"wrapper-disposicions\"]/ul[' + str(i) + ']//li/div/a/text()'))\n",
    "#     print(disposiciones_HTML.xpath('//*[@class=\"wrapper-disposicions\"]/ul[1]//li/div/a/text()'))\n",
    "\n",
    "print(departamentos)\n",
    "print(disposiciones)\n",
    "print(disposiciones_link)\n",
    "print(disposiciones_pdf)\n",
    "\n",
    "driver.quit()\n"
   ]
  },
  {
   "cell_type": "code",
   "execution_count": 21,
   "metadata": {},
   "outputs": [
    {
     "output_type": "execute_result",
     "data": {
      "text/plain": [
       "8"
      ]
     },
     "metadata": {},
     "execution_count": 21
    }
   ],
   "source": [
    "len(departamentos)"
   ]
  },
  {
   "cell_type": "code",
   "execution_count": 22,
   "metadata": {},
   "outputs": [],
   "source": [
    "DOGC_sumarios = pd.DataFrame(columns=['item_Title','item_urlHTML','item_urlPDF'])"
   ]
  },
  {
   "cell_type": "code",
   "execution_count": 23,
   "metadata": {},
   "outputs": [
    {
     "output_type": "execute_result",
     "data": {
      "text/plain": [
       "Empty DataFrame\n",
       "Columns: [item_Title, item_urlHTML, item_urlPDF]\n",
       "Index: []"
      ],
      "text/html": "<div>\n<style scoped>\n    .dataframe tbody tr th:only-of-type {\n        vertical-align: middle;\n    }\n\n    .dataframe tbody tr th {\n        vertical-align: top;\n    }\n\n    .dataframe thead th {\n        text-align: right;\n    }\n</style>\n<table border=\"1\" class=\"dataframe\">\n  <thead>\n    <tr style=\"text-align: right;\">\n      <th></th>\n      <th>item_Title</th>\n      <th>item_urlHTML</th>\n      <th>item_urlPDF</th>\n    </tr>\n  </thead>\n  <tbody>\n  </tbody>\n</table>\n</div>"
     },
     "metadata": {},
     "execution_count": 23
    }
   ],
   "source": [
    "DOGC_sumarios"
   ]
  },
  {
   "cell_type": "code",
   "execution_count": 24,
   "metadata": {},
   "outputs": [],
   "source": [
    "lista = []\n",
    "for disposicion in disposiciones:\n",
    "    lista.append(disposicion)\n",
    "\n",
    "DOGC_sumarios['item_Title'] = lista\n",
    "\n",
    "lista = []   \n",
    "for link_HTML in disposiciones_link:\n",
    "    #print(link)\n",
    "    lista.append('https://dogc.gencat.cat' + str(link_HTML))\n",
    "\n",
    "DOGC_sumarios['item_urlHTML'] = lista\n",
    "\n",
    "lista = []   \n",
    "for link_PDF in disposiciones_pdf:\n",
    "    #print(link)\n",
    "    lista.append(link_PDF)\n",
    "\n",
    "DOGC_sumarios['item_urlPDF'] = lista"
   ]
  },
  {
   "cell_type": "code",
   "execution_count": 25,
   "metadata": {},
   "outputs": [
    {
     "output_type": "execute_result",
     "data": {
      "text/plain": [
       "                                           item_Title  \\\n",
       "0   RESOLUCIÓN PRE/656/2021, de 7 de marzo, por la...   \n",
       "1   RESOLUCIÓN VEH/668/2021, de 5 de marzo, por la...   \n",
       "2   DECRETO 16/2021, de 9 de marzo, por el que se ...   \n",
       "3   ACUERDO GOV/25/2021, de 9 de marzo,  por el qu...   \n",
       "4   ACUERDO GOV/26/2021, de 9 de marzo, por el que...   \n",
       "5   RESOLUCIÓN TES/674/2021, de 9 de marzo, por la...   \n",
       "6   RESOLUCIÓN TES/642/2021, de 4 de marzo, por la...   \n",
       "7   RESOLUCIÓN CLT/635/2021, de 2 de marzo, por la...   \n",
       "8   RESOLUCIÓN CLT/636/2021, de 2 de marzo, por la...   \n",
       "9   RESOLUCIÓN CLT/637/2021, de 2 de marzo, por la...   \n",
       "10  RESOLUCIÓN CLT/557/2021, de 25 de febrero, de ...   \n",
       "11  ORDEN EMC/55/2021, de 8 de marzo, por la que s...   \n",
       "12  RESOLUCIÓN EMC/671/2021, de 5 de marzo, de seg...   \n",
       "13  RESOLUCIÓN ARP/673/2021, de 5 de marzo, por la...   \n",
       "\n",
       "                                         item_urlHTML  \\\n",
       "0   https://dogc.gencat.cat/es/document-del-dogc/?...   \n",
       "1   https://dogc.gencat.cat/es/document-del-dogc/?...   \n",
       "2   https://dogc.gencat.cat/es/document-del-dogc/?...   \n",
       "3   https://dogc.gencat.cat/es/document-del-dogc/?...   \n",
       "4   https://dogc.gencat.cat/es/document-del-dogc/?...   \n",
       "5   https://dogc.gencat.cat/es/document-del-dogc/?...   \n",
       "6   https://dogc.gencat.cat/es/document-del-dogc/?...   \n",
       "7   https://dogc.gencat.cat/es/document-del-dogc/?...   \n",
       "8   https://dogc.gencat.cat/es/document-del-dogc/?...   \n",
       "9   https://dogc.gencat.cat/es/document-del-dogc/?...   \n",
       "10  https://dogc.gencat.cat/es/document-del-dogc/?...   \n",
       "11  https://dogc.gencat.cat/es/document-del-dogc/?...   \n",
       "12  https://dogc.gencat.cat/es/document-del-dogc/?...   \n",
       "13  https://dogc.gencat.cat/es/document-del-dogc/?...   \n",
       "\n",
       "                                          item_urlPDF  \n",
       "0   https://portaldogc.gencat.cat/utilsEADOP/AppJa...  \n",
       "1   https://portaldogc.gencat.cat/utilsEADOP/AppJa...  \n",
       "2   https://portaldogc.gencat.cat/utilsEADOP/AppJa...  \n",
       "3   https://portaldogc.gencat.cat/utilsEADOP/AppJa...  \n",
       "4   https://portaldogc.gencat.cat/utilsEADOP/AppJa...  \n",
       "5   https://portaldogc.gencat.cat/utilsEADOP/AppJa...  \n",
       "6   https://portaldogc.gencat.cat/utilsEADOP/AppJa...  \n",
       "7   https://portaldogc.gencat.cat/utilsEADOP/AppJa...  \n",
       "8   https://portaldogc.gencat.cat/utilsEADOP/AppJa...  \n",
       "9   https://portaldogc.gencat.cat/utilsEADOP/AppJa...  \n",
       "10  https://portaldogc.gencat.cat/utilsEADOP/AppJa...  \n",
       "11  https://portaldogc.gencat.cat/utilsEADOP/AppJa...  \n",
       "12  https://portaldogc.gencat.cat/utilsEADOP/AppJa...  \n",
       "13  https://portaldogc.gencat.cat/utilsEADOP/AppJa...  "
      ],
      "text/html": "<div>\n<style scoped>\n    .dataframe tbody tr th:only-of-type {\n        vertical-align: middle;\n    }\n\n    .dataframe tbody tr th {\n        vertical-align: top;\n    }\n\n    .dataframe thead th {\n        text-align: right;\n    }\n</style>\n<table border=\"1\" class=\"dataframe\">\n  <thead>\n    <tr style=\"text-align: right;\">\n      <th></th>\n      <th>item_Title</th>\n      <th>item_urlHTML</th>\n      <th>item_urlPDF</th>\n    </tr>\n  </thead>\n  <tbody>\n    <tr>\n      <th>0</th>\n      <td>RESOLUCIÓN PRE/656/2021, de 7 de marzo, por la...</td>\n      <td>https://dogc.gencat.cat/es/document-del-dogc/?...</td>\n      <td>https://portaldogc.gencat.cat/utilsEADOP/AppJa...</td>\n    </tr>\n    <tr>\n      <th>1</th>\n      <td>RESOLUCIÓN VEH/668/2021, de 5 de marzo, por la...</td>\n      <td>https://dogc.gencat.cat/es/document-del-dogc/?...</td>\n      <td>https://portaldogc.gencat.cat/utilsEADOP/AppJa...</td>\n    </tr>\n    <tr>\n      <th>2</th>\n      <td>DECRETO 16/2021, de 9 de marzo, por el que se ...</td>\n      <td>https://dogc.gencat.cat/es/document-del-dogc/?...</td>\n      <td>https://portaldogc.gencat.cat/utilsEADOP/AppJa...</td>\n    </tr>\n    <tr>\n      <th>3</th>\n      <td>ACUERDO GOV/25/2021, de 9 de marzo,  por el qu...</td>\n      <td>https://dogc.gencat.cat/es/document-del-dogc/?...</td>\n      <td>https://portaldogc.gencat.cat/utilsEADOP/AppJa...</td>\n    </tr>\n    <tr>\n      <th>4</th>\n      <td>ACUERDO GOV/26/2021, de 9 de marzo, por el que...</td>\n      <td>https://dogc.gencat.cat/es/document-del-dogc/?...</td>\n      <td>https://portaldogc.gencat.cat/utilsEADOP/AppJa...</td>\n    </tr>\n    <tr>\n      <th>5</th>\n      <td>RESOLUCIÓN TES/674/2021, de 9 de marzo, por la...</td>\n      <td>https://dogc.gencat.cat/es/document-del-dogc/?...</td>\n      <td>https://portaldogc.gencat.cat/utilsEADOP/AppJa...</td>\n    </tr>\n    <tr>\n      <th>6</th>\n      <td>RESOLUCIÓN TES/642/2021, de 4 de marzo, por la...</td>\n      <td>https://dogc.gencat.cat/es/document-del-dogc/?...</td>\n      <td>https://portaldogc.gencat.cat/utilsEADOP/AppJa...</td>\n    </tr>\n    <tr>\n      <th>7</th>\n      <td>RESOLUCIÓN CLT/635/2021, de 2 de marzo, por la...</td>\n      <td>https://dogc.gencat.cat/es/document-del-dogc/?...</td>\n      <td>https://portaldogc.gencat.cat/utilsEADOP/AppJa...</td>\n    </tr>\n    <tr>\n      <th>8</th>\n      <td>RESOLUCIÓN CLT/636/2021, de 2 de marzo, por la...</td>\n      <td>https://dogc.gencat.cat/es/document-del-dogc/?...</td>\n      <td>https://portaldogc.gencat.cat/utilsEADOP/AppJa...</td>\n    </tr>\n    <tr>\n      <th>9</th>\n      <td>RESOLUCIÓN CLT/637/2021, de 2 de marzo, por la...</td>\n      <td>https://dogc.gencat.cat/es/document-del-dogc/?...</td>\n      <td>https://portaldogc.gencat.cat/utilsEADOP/AppJa...</td>\n    </tr>\n    <tr>\n      <th>10</th>\n      <td>RESOLUCIÓN CLT/557/2021, de 25 de febrero, de ...</td>\n      <td>https://dogc.gencat.cat/es/document-del-dogc/?...</td>\n      <td>https://portaldogc.gencat.cat/utilsEADOP/AppJa...</td>\n    </tr>\n    <tr>\n      <th>11</th>\n      <td>ORDEN EMC/55/2021, de 8 de marzo, por la que s...</td>\n      <td>https://dogc.gencat.cat/es/document-del-dogc/?...</td>\n      <td>https://portaldogc.gencat.cat/utilsEADOP/AppJa...</td>\n    </tr>\n    <tr>\n      <th>12</th>\n      <td>RESOLUCIÓN EMC/671/2021, de 5 de marzo, de seg...</td>\n      <td>https://dogc.gencat.cat/es/document-del-dogc/?...</td>\n      <td>https://portaldogc.gencat.cat/utilsEADOP/AppJa...</td>\n    </tr>\n    <tr>\n      <th>13</th>\n      <td>RESOLUCIÓN ARP/673/2021, de 5 de marzo, por la...</td>\n      <td>https://dogc.gencat.cat/es/document-del-dogc/?...</td>\n      <td>https://portaldogc.gencat.cat/utilsEADOP/AppJa...</td>\n    </tr>\n  </tbody>\n</table>\n</div>"
     },
     "metadata": {},
     "execution_count": 25
    }
   ],
   "source": [
    "DOGC_sumarios"
   ]
  },
  {
   "cell_type": "code",
   "execution_count": 26,
   "metadata": {},
   "outputs": [
    {
     "output_type": "execute_result",
     "data": {
      "text/plain": [
       "'https://dogc.gencat.cat/es/document-del-dogc/?documentId=895362'"
      ]
     },
     "metadata": {},
     "execution_count": 26
    }
   ],
   "source": [
    "DOGC_sumarios['item_urlHTML'][1]"
   ]
  },
  {
   "cell_type": "code",
   "execution_count": 27,
   "metadata": {},
   "outputs": [],
   "source": [
    "### Recoge información de página de detalle con Selenium\n",
    "### es necesario ya que la página se genera con un JS y\n",
    "### hay que renderizarla con un headless web browser\n",
    "\n",
    "options = webdriver.ChromeOptions()\n",
    "options.headless = True\n",
    "driver = webdriver.Chrome(options=options)\n",
    "\n",
    "DOGC_sumarios['item_fullText'] = ''\n",
    "DOGC_sumarios['item_urlXML'] = ''\n",
    "DOGC_sumarios['tipo_doc'] = ''\n",
    "DOGC_sumarios['fecha_doc'] = ''\n",
    "DOGC_sumarios['numero_doc'] = ''\n",
    "DOGC_sumarios['numero_control'] = ''\n",
    "DOGC_sumarios['entidad_emisora'] = ''\n",
    "DOGC_sumarios['CVE'] = ''\n",
    "DOGC_sumarios['numero_DOGC'] = ''\n",
    "DOGC_sumarios['fecha_DOGC'] = ''\n",
    "DOGC_sumarios['seccion_DOGC'] = ''\n",
    "\n",
    "for i, row in DOGC_sumarios.iterrows():\n",
    "    # carga página HTML y genera árbol\n",
    "    driver.get(row['item_urlHTML'])\n",
    "    #print(driver.page_source)\n",
    "\n",
    "    # clica sobre desplegable 'datos del documento' para generar contenido\n",
    "    driver.find_element_by_xpath('//div[@class=\"panel-title\"]/a[@href=\"#disposicions\"]').click()\n",
    "    time.sleep(3)\n",
    "\n",
    "    response = driver.page_source\n",
    "    sumario_HTML = html.fromstring(response)\n",
    "\n",
    "    # Genera columnas de la tabla con Datos de los documentos\n",
    "    item_urlXML = sumario_HTML.xpath('//*[@id=\"download\"]/a[4]/@href')\n",
    "\n",
    "    tipo_doc = sumario_HTML.xpath('//*[@id=\"disposicions_cos_bloc\"]/li[contains(text()[1],\"Tipo de documento\")]/text()[2]')\n",
    "    fecha_doc = sumario_HTML.xpath('//*[@id=\"disposicions_cos_bloc\"]/li[contains(text()[1],\"Fecha del documento\")]/text()[2]')\n",
    "    numero_doc = sumario_HTML.xpath('//*[@id=\"disposicions_cos_bloc\"]/li[contains(text()[1],\"Número de documento\")]/text()[2]')\n",
    "    numero_control = sumario_HTML.xpath('//*[@id=\"disposicions_cos_bloc\"]/li[contains(text()[1],\"Número de control\")]/text()[2]')\n",
    "    entidad_emisora = sumario_HTML.xpath('//*[@id=\"disposicions_cos_bloc\"]/li[contains(text()[1],\"Entidad emisora\")]/text()[2]')\n",
    "    CVE = sumario_HTML.xpath('//*[@id=\"disposicions_cos_bloc\"]/li[contains(text()[1],\"CVE\")]/text()[2]')\n",
    "    numero_DOGC = sumario_HTML.xpath('//*[@id=\"disposicions_cos_bloc\"]/li[contains(text()[1],\"Número del DOGC\")]/text()[2]')\n",
    "    fecha_DOGC = sumario_HTML.xpath('//*[@id=\"disposicions_cos_bloc\"]/li[contains(text()[1],\"Fecha del DOGC\")]/text()[2]')\n",
    "    seccion_DOGC = sumario_HTML.xpath('//*[@id=\"disposicions_cos_bloc\"]/li[contains(text()[1],\"Sección del DOGC\")]/text()[2]')\n",
    "\n",
    "    DOGC_sumarios['item_urlXML'][i] = item_urlXML\n",
    "\n",
    "    DOGC_sumarios['tipo_doc'][i] = tipo_doc\n",
    "    DOGC_sumarios['fecha_doc'][i] = fecha_doc\n",
    "    DOGC_sumarios['numero_doc'][i] = numero_doc\n",
    "    DOGC_sumarios['numero_control'][i] = numero_control\n",
    "    DOGC_sumarios['entidad_emisora'][i] = entidad_emisora\n",
    "    DOGC_sumarios['CVE'][i] = CVE\n",
    "    DOGC_sumarios['numero_DOGC'][i] = numero_DOGC\n",
    "    DOGC_sumarios['fecha_DOGC'][i] = fecha_DOGC\n",
    "    DOGC_sumarios['seccion_DOGC'][i] = seccion_DOGC\n",
    "\n",
    "    # Recoge en una lista todos los parágrafos del texto completo\n",
    "    fullText = []\n",
    "    for div in sumario_HTML.xpath('//*[@id=\"fullText\"]/div/div/div'):\n",
    "        fullText.append(div.text_content())\n",
    "\n",
    "    # Convierte la lista en una string\n",
    "    fullText = ' '.join(fullText)\n",
    "\n",
    "    DOGC_sumarios['item_fullText'][i] = fullText\n",
    "\n",
    "\n",
    "driver.quit()"
   ]
  },
  {
   "cell_type": "code",
   "execution_count": 28,
   "metadata": {},
   "outputs": [
    {
     "output_type": "execute_result",
     "data": {
      "text/plain": [
       "                                           item_Title  \\\n",
       "0   RESOLUCIÓN PRE/656/2021, de 7 de marzo, por la...   \n",
       "1   RESOLUCIÓN VEH/668/2021, de 5 de marzo, por la...   \n",
       "2   DECRETO 16/2021, de 9 de marzo, por el que se ...   \n",
       "3   ACUERDO GOV/25/2021, de 9 de marzo,  por el qu...   \n",
       "4   ACUERDO GOV/26/2021, de 9 de marzo, por el que...   \n",
       "5   RESOLUCIÓN TES/674/2021, de 9 de marzo, por la...   \n",
       "6   RESOLUCIÓN TES/642/2021, de 4 de marzo, por la...   \n",
       "7   RESOLUCIÓN CLT/635/2021, de 2 de marzo, por la...   \n",
       "8   RESOLUCIÓN CLT/636/2021, de 2 de marzo, por la...   \n",
       "9   RESOLUCIÓN CLT/637/2021, de 2 de marzo, por la...   \n",
       "10  RESOLUCIÓN CLT/557/2021, de 25 de febrero, de ...   \n",
       "11  ORDEN EMC/55/2021, de 8 de marzo, por la que s...   \n",
       "12  RESOLUCIÓN EMC/671/2021, de 5 de marzo, de seg...   \n",
       "13  RESOLUCIÓN ARP/673/2021, de 5 de marzo, por la...   \n",
       "\n",
       "                                         item_urlHTML  \\\n",
       "0   https://dogc.gencat.cat/es/document-del-dogc/?...   \n",
       "1   https://dogc.gencat.cat/es/document-del-dogc/?...   \n",
       "2   https://dogc.gencat.cat/es/document-del-dogc/?...   \n",
       "3   https://dogc.gencat.cat/es/document-del-dogc/?...   \n",
       "4   https://dogc.gencat.cat/es/document-del-dogc/?...   \n",
       "5   https://dogc.gencat.cat/es/document-del-dogc/?...   \n",
       "6   https://dogc.gencat.cat/es/document-del-dogc/?...   \n",
       "7   https://dogc.gencat.cat/es/document-del-dogc/?...   \n",
       "8   https://dogc.gencat.cat/es/document-del-dogc/?...   \n",
       "9   https://dogc.gencat.cat/es/document-del-dogc/?...   \n",
       "10  https://dogc.gencat.cat/es/document-del-dogc/?...   \n",
       "11  https://dogc.gencat.cat/es/document-del-dogc/?...   \n",
       "12  https://dogc.gencat.cat/es/document-del-dogc/?...   \n",
       "13  https://dogc.gencat.cat/es/document-del-dogc/?...   \n",
       "\n",
       "                                          item_urlPDF  \\\n",
       "0   https://portaldogc.gencat.cat/utilsEADOP/AppJa...   \n",
       "1   https://portaldogc.gencat.cat/utilsEADOP/AppJa...   \n",
       "2   https://portaldogc.gencat.cat/utilsEADOP/AppJa...   \n",
       "3   https://portaldogc.gencat.cat/utilsEADOP/AppJa...   \n",
       "4   https://portaldogc.gencat.cat/utilsEADOP/AppJa...   \n",
       "5   https://portaldogc.gencat.cat/utilsEADOP/AppJa...   \n",
       "6   https://portaldogc.gencat.cat/utilsEADOP/AppJa...   \n",
       "7   https://portaldogc.gencat.cat/utilsEADOP/AppJa...   \n",
       "8   https://portaldogc.gencat.cat/utilsEADOP/AppJa...   \n",
       "9   https://portaldogc.gencat.cat/utilsEADOP/AppJa...   \n",
       "10  https://portaldogc.gencat.cat/utilsEADOP/AppJa...   \n",
       "11  https://portaldogc.gencat.cat/utilsEADOP/AppJa...   \n",
       "12  https://portaldogc.gencat.cat/utilsEADOP/AppJa...   \n",
       "13  https://portaldogc.gencat.cat/utilsEADOP/AppJa...   \n",
       "\n",
       "                                        item_fullText  \\\n",
       "0   El Decreto 69/2008, de 1 de abril, de regulaci...   \n",
       "1   En fecha 31 de julio de 2020 se ha firmado el ...   \n",
       "2   En materia de enseñanza no universitaria, el a...   \n",
       "3   El artículo 7.2.4 de la Ley 15/1990, de 9 de j...   \n",
       "4   La estrategia de respuesta de las autoridades ...   \n",
       "5   Visto que la Ponencia Ambiental, en la sesión ...   \n",
       "6   El artículo 3.1.g) del texto refundido de la l...   \n",
       "7   Visto el Acuerdo del Consejo de Administración...   \n",
       "8   Visto el Acuerdo del Consejo de Administración...   \n",
       "9   Visto el Acuerdo del Consejo de Administración...   \n",
       "10  Vista la Resolución CLT/3142/2020, de 1 de dic...   \n",
       "11  Cataluña es un país con una sólida tradición e...   \n",
       "12  Dadas la Resolución EMC/2810/2020, de 6 de nov...   \n",
       "13  El Departamento de Agricultura, Ganadería, Pes...   \n",
       "\n",
       "                                          item_urlXML  \\\n",
       "0   [https://portaldogc.gencat.cat/utilsEADOP/AppJ...   \n",
       "1   [https://portaldogc.gencat.cat/utilsEADOP/AppJ...   \n",
       "2   [https://portaldogc.gencat.cat/utilsEADOP/AppJ...   \n",
       "3   [https://portaldogc.gencat.cat/utilsEADOP/AppJ...   \n",
       "4   [https://portaldogc.gencat.cat/utilsEADOP/AppJ...   \n",
       "5   [https://portaldogc.gencat.cat/utilsEADOP/AppJ...   \n",
       "6   [https://portaldogc.gencat.cat/utilsEADOP/AppJ...   \n",
       "7   [https://portaldogc.gencat.cat/utilsEADOP/AppJ...   \n",
       "8   [https://portaldogc.gencat.cat/utilsEADOP/AppJ...   \n",
       "9   [https://portaldogc.gencat.cat/utilsEADOP/AppJ...   \n",
       "10  [https://portaldogc.gencat.cat/utilsEADOP/AppJ...   \n",
       "11  [https://portaldogc.gencat.cat/utilsEADOP/AppJ...   \n",
       "12  [https://portaldogc.gencat.cat/utilsEADOP/AppJ...   \n",
       "13  [https://portaldogc.gencat.cat/utilsEADOP/AppJ...   \n",
       "\n",
       "                   tipo_doc     fecha_doc       numero_doc numero_control  \\\n",
       "0              [Resolución]  [07/03/2021]  [PRE/0656/2021]     [21068043]   \n",
       "1              [Resolución]  [05/03/2021]  [VEH/0668/2021]     [21068044]   \n",
       "2                 [Decreto]  [09/03/2021]       [016/2021]     [21068120]   \n",
       "3   [Acuerdo del gobierno ]  [09/03/2021]  [GOV/0025/2021]     [21069006]   \n",
       "4   [Acuerdo del gobierno ]  [09/03/2021]  [GOV/0026/2021]     [21069007]   \n",
       "5              [Resolución]  [09/03/2021]  [TES/0674/2021]     [21068047]   \n",
       "6              [Resolución]  [04/03/2021]  [TES/0642/2021]     [21067039]   \n",
       "7              [Resolución]  [02/03/2021]  [CLT/0635/2021]     [21067042]   \n",
       "8              [Resolución]  [02/03/2021]  [CLT/0636/2021]     [21067043]   \n",
       "9              [Resolución]  [02/03/2021]  [CLT/0637/2021]     [21067044]   \n",
       "10             [Resolución]  [25/02/2021]  [CLT/0557/2021]     [21060042]   \n",
       "11                  [Orden]  [08/03/2021]  [EMC/0055/2021]     [21068061]   \n",
       "12             [Resolución]  [05/03/2021]  [EMC/0671/2021]     [21068062]   \n",
       "13             [Resolución]  [05/03/2021]  [ARP/0673/2021]     [21068064]   \n",
       "\n",
       "                                      entidad_emisora  \\\n",
       "0                    [Departamento de la Presidencia]   \n",
       "1                    [Agencia Tributaria de Cataluña]   \n",
       "2                         [Departamento de Educación]   \n",
       "3                             [Departamento de Salud]   \n",
       "4                             [Departamento de Salud]   \n",
       "5       [Departamento de Territorio y Sostenibilidad]   \n",
       "6                         [Agencia Catalana del Agua]   \n",
       "7         [Oficina de Apoyo a la Iniciativa Cultural]   \n",
       "8         [Oficina de Apoyo a la Iniciativa Cultural]   \n",
       "9         [Oficina de Apoyo a la Iniciativa Cultural]   \n",
       "10     [Instituto Catalán de las Empresas Culturales]   \n",
       "11           [Departamento de Empresa y Conocimiento]   \n",
       "12                      [Agencia Catalana de Turismo]   \n",
       "13  [Departamento de Agricultura, Ganadería, Pesca...   \n",
       "\n",
       "                           CVE numero_DOGC    fecha_DOGC     seccion_DOGC  \n",
       "0   [CVE-DOGC-B-21068043-2021]      [8362]  [11/03/2021]  [Disposiciones]  \n",
       "1   [CVE-DOGC-B-21068044-2021]      [8362]  [11/03/2021]  [Disposiciones]  \n",
       "2   [CVE-DOGC-B-21068120-2021]      [8362]  [11/03/2021]  [Disposiciones]  \n",
       "3   [CVE-DOGC-B-21069006-2021]      [8362]  [11/03/2021]  [Disposiciones]  \n",
       "4   [CVE-DOGC-B-21069007-2021]      [8362]  [11/03/2021]  [Disposiciones]  \n",
       "5   [CVE-DOGC-B-21068047-2021]      [8362]  [11/03/2021]  [Disposiciones]  \n",
       "6   [CVE-DOGC-B-21067039-2021]      [8362]  [11/03/2021]  [Disposiciones]  \n",
       "7   [CVE-DOGC-B-21067042-2021]      [8362]  [11/03/2021]  [Disposiciones]  \n",
       "8   [CVE-DOGC-B-21067043-2021]      [8362]  [11/03/2021]  [Disposiciones]  \n",
       "9   [CVE-DOGC-B-21067044-2021]      [8362]  [11/03/2021]  [Disposiciones]  \n",
       "10  [CVE-DOGC-B-21060042-2021]      [8362]  [11/03/2021]  [Disposiciones]  \n",
       "11  [CVE-DOGC-B-21068061-2021]      [8362]  [11/03/2021]  [Disposiciones]  \n",
       "12  [CVE-DOGC-B-21068062-2021]      [8362]  [11/03/2021]  [Disposiciones]  \n",
       "13  [CVE-DOGC-B-21068064-2021]      [8362]  [11/03/2021]  [Disposiciones]  "
      ],
      "text/html": "<div>\n<style scoped>\n    .dataframe tbody tr th:only-of-type {\n        vertical-align: middle;\n    }\n\n    .dataframe tbody tr th {\n        vertical-align: top;\n    }\n\n    .dataframe thead th {\n        text-align: right;\n    }\n</style>\n<table border=\"1\" class=\"dataframe\">\n  <thead>\n    <tr style=\"text-align: right;\">\n      <th></th>\n      <th>item_Title</th>\n      <th>item_urlHTML</th>\n      <th>item_urlPDF</th>\n      <th>item_fullText</th>\n      <th>item_urlXML</th>\n      <th>tipo_doc</th>\n      <th>fecha_doc</th>\n      <th>numero_doc</th>\n      <th>numero_control</th>\n      <th>entidad_emisora</th>\n      <th>CVE</th>\n      <th>numero_DOGC</th>\n      <th>fecha_DOGC</th>\n      <th>seccion_DOGC</th>\n    </tr>\n  </thead>\n  <tbody>\n    <tr>\n      <th>0</th>\n      <td>RESOLUCIÓN PRE/656/2021, de 7 de marzo, por la...</td>\n      <td>https://dogc.gencat.cat/es/document-del-dogc/?...</td>\n      <td>https://portaldogc.gencat.cat/utilsEADOP/AppJa...</td>\n      <td>El Decreto 69/2008, de 1 de abril, de regulaci...</td>\n      <td>[https://portaldogc.gencat.cat/utilsEADOP/AppJ...</td>\n      <td>[Resolución]</td>\n      <td>[07/03/2021]</td>\n      <td>[PRE/0656/2021]</td>\n      <td>[21068043]</td>\n      <td>[Departamento de la Presidencia]</td>\n      <td>[CVE-DOGC-B-21068043-2021]</td>\n      <td>[8362]</td>\n      <td>[11/03/2021]</td>\n      <td>[Disposiciones]</td>\n    </tr>\n    <tr>\n      <th>1</th>\n      <td>RESOLUCIÓN VEH/668/2021, de 5 de marzo, por la...</td>\n      <td>https://dogc.gencat.cat/es/document-del-dogc/?...</td>\n      <td>https://portaldogc.gencat.cat/utilsEADOP/AppJa...</td>\n      <td>En fecha 31 de julio de 2020 se ha firmado el ...</td>\n      <td>[https://portaldogc.gencat.cat/utilsEADOP/AppJ...</td>\n      <td>[Resolución]</td>\n      <td>[05/03/2021]</td>\n      <td>[VEH/0668/2021]</td>\n      <td>[21068044]</td>\n      <td>[Agencia Tributaria de Cataluña]</td>\n      <td>[CVE-DOGC-B-21068044-2021]</td>\n      <td>[8362]</td>\n      <td>[11/03/2021]</td>\n      <td>[Disposiciones]</td>\n    </tr>\n    <tr>\n      <th>2</th>\n      <td>DECRETO 16/2021, de 9 de marzo, por el que se ...</td>\n      <td>https://dogc.gencat.cat/es/document-del-dogc/?...</td>\n      <td>https://portaldogc.gencat.cat/utilsEADOP/AppJa...</td>\n      <td>En materia de enseñanza no universitaria, el a...</td>\n      <td>[https://portaldogc.gencat.cat/utilsEADOP/AppJ...</td>\n      <td>[Decreto]</td>\n      <td>[09/03/2021]</td>\n      <td>[016/2021]</td>\n      <td>[21068120]</td>\n      <td>[Departamento de Educación]</td>\n      <td>[CVE-DOGC-B-21068120-2021]</td>\n      <td>[8362]</td>\n      <td>[11/03/2021]</td>\n      <td>[Disposiciones]</td>\n    </tr>\n    <tr>\n      <th>3</th>\n      <td>ACUERDO GOV/25/2021, de 9 de marzo,  por el qu...</td>\n      <td>https://dogc.gencat.cat/es/document-del-dogc/?...</td>\n      <td>https://portaldogc.gencat.cat/utilsEADOP/AppJa...</td>\n      <td>El artículo 7.2.4 de la Ley 15/1990, de 9 de j...</td>\n      <td>[https://portaldogc.gencat.cat/utilsEADOP/AppJ...</td>\n      <td>[Acuerdo del gobierno ]</td>\n      <td>[09/03/2021]</td>\n      <td>[GOV/0025/2021]</td>\n      <td>[21069006]</td>\n      <td>[Departamento de Salud]</td>\n      <td>[CVE-DOGC-B-21069006-2021]</td>\n      <td>[8362]</td>\n      <td>[11/03/2021]</td>\n      <td>[Disposiciones]</td>\n    </tr>\n    <tr>\n      <th>4</th>\n      <td>ACUERDO GOV/26/2021, de 9 de marzo, por el que...</td>\n      <td>https://dogc.gencat.cat/es/document-del-dogc/?...</td>\n      <td>https://portaldogc.gencat.cat/utilsEADOP/AppJa...</td>\n      <td>La estrategia de respuesta de las autoridades ...</td>\n      <td>[https://portaldogc.gencat.cat/utilsEADOP/AppJ...</td>\n      <td>[Acuerdo del gobierno ]</td>\n      <td>[09/03/2021]</td>\n      <td>[GOV/0026/2021]</td>\n      <td>[21069007]</td>\n      <td>[Departamento de Salud]</td>\n      <td>[CVE-DOGC-B-21069007-2021]</td>\n      <td>[8362]</td>\n      <td>[11/03/2021]</td>\n      <td>[Disposiciones]</td>\n    </tr>\n    <tr>\n      <th>5</th>\n      <td>RESOLUCIÓN TES/674/2021, de 9 de marzo, por la...</td>\n      <td>https://dogc.gencat.cat/es/document-del-dogc/?...</td>\n      <td>https://portaldogc.gencat.cat/utilsEADOP/AppJa...</td>\n      <td>Visto que la Ponencia Ambiental, en la sesión ...</td>\n      <td>[https://portaldogc.gencat.cat/utilsEADOP/AppJ...</td>\n      <td>[Resolución]</td>\n      <td>[09/03/2021]</td>\n      <td>[TES/0674/2021]</td>\n      <td>[21068047]</td>\n      <td>[Departamento de Territorio y Sostenibilidad]</td>\n      <td>[CVE-DOGC-B-21068047-2021]</td>\n      <td>[8362]</td>\n      <td>[11/03/2021]</td>\n      <td>[Disposiciones]</td>\n    </tr>\n    <tr>\n      <th>6</th>\n      <td>RESOLUCIÓN TES/642/2021, de 4 de marzo, por la...</td>\n      <td>https://dogc.gencat.cat/es/document-del-dogc/?...</td>\n      <td>https://portaldogc.gencat.cat/utilsEADOP/AppJa...</td>\n      <td>El artículo 3.1.g) del texto refundido de la l...</td>\n      <td>[https://portaldogc.gencat.cat/utilsEADOP/AppJ...</td>\n      <td>[Resolución]</td>\n      <td>[04/03/2021]</td>\n      <td>[TES/0642/2021]</td>\n      <td>[21067039]</td>\n      <td>[Agencia Catalana del Agua]</td>\n      <td>[CVE-DOGC-B-21067039-2021]</td>\n      <td>[8362]</td>\n      <td>[11/03/2021]</td>\n      <td>[Disposiciones]</td>\n    </tr>\n    <tr>\n      <th>7</th>\n      <td>RESOLUCIÓN CLT/635/2021, de 2 de marzo, por la...</td>\n      <td>https://dogc.gencat.cat/es/document-del-dogc/?...</td>\n      <td>https://portaldogc.gencat.cat/utilsEADOP/AppJa...</td>\n      <td>Visto el Acuerdo del Consejo de Administración...</td>\n      <td>[https://portaldogc.gencat.cat/utilsEADOP/AppJ...</td>\n      <td>[Resolución]</td>\n      <td>[02/03/2021]</td>\n      <td>[CLT/0635/2021]</td>\n      <td>[21067042]</td>\n      <td>[Oficina de Apoyo a la Iniciativa Cultural]</td>\n      <td>[CVE-DOGC-B-21067042-2021]</td>\n      <td>[8362]</td>\n      <td>[11/03/2021]</td>\n      <td>[Disposiciones]</td>\n    </tr>\n    <tr>\n      <th>8</th>\n      <td>RESOLUCIÓN CLT/636/2021, de 2 de marzo, por la...</td>\n      <td>https://dogc.gencat.cat/es/document-del-dogc/?...</td>\n      <td>https://portaldogc.gencat.cat/utilsEADOP/AppJa...</td>\n      <td>Visto el Acuerdo del Consejo de Administración...</td>\n      <td>[https://portaldogc.gencat.cat/utilsEADOP/AppJ...</td>\n      <td>[Resolución]</td>\n      <td>[02/03/2021]</td>\n      <td>[CLT/0636/2021]</td>\n      <td>[21067043]</td>\n      <td>[Oficina de Apoyo a la Iniciativa Cultural]</td>\n      <td>[CVE-DOGC-B-21067043-2021]</td>\n      <td>[8362]</td>\n      <td>[11/03/2021]</td>\n      <td>[Disposiciones]</td>\n    </tr>\n    <tr>\n      <th>9</th>\n      <td>RESOLUCIÓN CLT/637/2021, de 2 de marzo, por la...</td>\n      <td>https://dogc.gencat.cat/es/document-del-dogc/?...</td>\n      <td>https://portaldogc.gencat.cat/utilsEADOP/AppJa...</td>\n      <td>Visto el Acuerdo del Consejo de Administración...</td>\n      <td>[https://portaldogc.gencat.cat/utilsEADOP/AppJ...</td>\n      <td>[Resolución]</td>\n      <td>[02/03/2021]</td>\n      <td>[CLT/0637/2021]</td>\n      <td>[21067044]</td>\n      <td>[Oficina de Apoyo a la Iniciativa Cultural]</td>\n      <td>[CVE-DOGC-B-21067044-2021]</td>\n      <td>[8362]</td>\n      <td>[11/03/2021]</td>\n      <td>[Disposiciones]</td>\n    </tr>\n    <tr>\n      <th>10</th>\n      <td>RESOLUCIÓN CLT/557/2021, de 25 de febrero, de ...</td>\n      <td>https://dogc.gencat.cat/es/document-del-dogc/?...</td>\n      <td>https://portaldogc.gencat.cat/utilsEADOP/AppJa...</td>\n      <td>Vista la Resolución CLT/3142/2020, de 1 de dic...</td>\n      <td>[https://portaldogc.gencat.cat/utilsEADOP/AppJ...</td>\n      <td>[Resolución]</td>\n      <td>[25/02/2021]</td>\n      <td>[CLT/0557/2021]</td>\n      <td>[21060042]</td>\n      <td>[Instituto Catalán de las Empresas Culturales]</td>\n      <td>[CVE-DOGC-B-21060042-2021]</td>\n      <td>[8362]</td>\n      <td>[11/03/2021]</td>\n      <td>[Disposiciones]</td>\n    </tr>\n    <tr>\n      <th>11</th>\n      <td>ORDEN EMC/55/2021, de 8 de marzo, por la que s...</td>\n      <td>https://dogc.gencat.cat/es/document-del-dogc/?...</td>\n      <td>https://portaldogc.gencat.cat/utilsEADOP/AppJa...</td>\n      <td>Cataluña es un país con una sólida tradición e...</td>\n      <td>[https://portaldogc.gencat.cat/utilsEADOP/AppJ...</td>\n      <td>[Orden]</td>\n      <td>[08/03/2021]</td>\n      <td>[EMC/0055/2021]</td>\n      <td>[21068061]</td>\n      <td>[Departamento de Empresa y Conocimiento]</td>\n      <td>[CVE-DOGC-B-21068061-2021]</td>\n      <td>[8362]</td>\n      <td>[11/03/2021]</td>\n      <td>[Disposiciones]</td>\n    </tr>\n    <tr>\n      <th>12</th>\n      <td>RESOLUCIÓN EMC/671/2021, de 5 de marzo, de seg...</td>\n      <td>https://dogc.gencat.cat/es/document-del-dogc/?...</td>\n      <td>https://portaldogc.gencat.cat/utilsEADOP/AppJa...</td>\n      <td>Dadas la Resolución EMC/2810/2020, de 6 de nov...</td>\n      <td>[https://portaldogc.gencat.cat/utilsEADOP/AppJ...</td>\n      <td>[Resolución]</td>\n      <td>[05/03/2021]</td>\n      <td>[EMC/0671/2021]</td>\n      <td>[21068062]</td>\n      <td>[Agencia Catalana de Turismo]</td>\n      <td>[CVE-DOGC-B-21068062-2021]</td>\n      <td>[8362]</td>\n      <td>[11/03/2021]</td>\n      <td>[Disposiciones]</td>\n    </tr>\n    <tr>\n      <th>13</th>\n      <td>RESOLUCIÓN ARP/673/2021, de 5 de marzo, por la...</td>\n      <td>https://dogc.gencat.cat/es/document-del-dogc/?...</td>\n      <td>https://portaldogc.gencat.cat/utilsEADOP/AppJa...</td>\n      <td>El Departamento de Agricultura, Ganadería, Pes...</td>\n      <td>[https://portaldogc.gencat.cat/utilsEADOP/AppJ...</td>\n      <td>[Resolución]</td>\n      <td>[05/03/2021]</td>\n      <td>[ARP/0673/2021]</td>\n      <td>[21068064]</td>\n      <td>[Departamento de Agricultura, Ganadería, Pesca...</td>\n      <td>[CVE-DOGC-B-21068064-2021]</td>\n      <td>[8362]</td>\n      <td>[11/03/2021]</td>\n      <td>[Disposiciones]</td>\n    </tr>\n  </tbody>\n</table>\n</div>"
     },
     "metadata": {},
     "execution_count": 28
    }
   ],
   "source": [
    "DOGC_sumarios"
   ]
  },
  {
   "cell_type": "code",
   "execution_count": 29,
   "metadata": {},
   "outputs": [
    {
     "output_type": "execute_result",
     "data": {
      "text/plain": [
       "'El Decreto 69/2008, de 1 de abril, de regulación de un sistema de compensaciones económicas a favor de los ayuntamientos para que abonen retribuciones a determinados cargos electos locales, establece el régimen jurídico de atribución de un sistema de compensaciones económicas a favor de los ayuntamientos de hasta 2.000 habitantes para que abonen retribuciones a determinados cargos electos locales y dispone que cada año se publicará una convocatoria en la que se indicará la compensación máxima anual a percibir por cada ayuntamiento solicitante, de acuerdo con el número de habitantes inscritos en el padrón, con los tramos de población y otros requisitos regulados en el Decreto.\\nDe acuerdo con el artículo 51 de la Ley 4/2020, de 29 de abril, de presupuestos de la Generalidad de Cataluña para 2020, y con el Decreto 146/2020, de 15 de diciembre, por el que se establecen los criterios de aplicación de la prórroga de los presupuestos de la Generalidad de Cataluña para 2020, mientras no entren en vigor los de 2021, con cargo a la partida presupuestaria PR1501 D/460000100/7110/0000, \"A corporaciones locales\", se pueden atribuir a los ayuntamientos fondos por un importe máximo de 4.800.000 euros para abonar las retribuciones a determinados cargos electos locales, de acuerdo con los términos y requisitos que determina el Decreto 69/2008, de 1 de abril (que la población inscrita en el padrón del municipio no supere los 2.000 habitantes y que la totalidad de los recursos ordinarios reconocidos y liquidados del presupuesto del municipio no supere en un 75% la media resultante de los presupuestos de los municipios de su tramo de población, en ambos casos con relación a la anualidad de 2019), para abonar retribuciones a determinados cargos electos locales. El importe previsto se podrá ampliar en un máximo de 200.000 euros. La efectividad de esta cuantía adicional queda condicionada a la declaración de disponibilidad de crédito y a su publicación en el DOGC, con anterioridad a la resolución de concesión.\\n Además, los entes destinatarios deben dar cumplimiento a la obligación legal de enviar los presupuestos, las liquidaciones presupuestarias anuales y los cuestionarios estadísticos homogeneizados de estos datos al Departamento de la Presidencia, así como las cuentas anuales a la Sindicatura de Cuentas, de acuerdo con lo establecido en la legislación sectorial, dentro del plazo establecido en esta convocatoria.\\nPor todo lo que se ha expuesto,\\n\\xa0\\nResuelvo:\\n\\xa0\\n—1 Convocatoria\\nAbrir la convocatoria para otorgar compensaciones económicas a favor de los ayuntamientos de Cataluña con una población de derecho de hasta 2.000 habitantes (de conformidad con las cifras oficiales publicadas por el Instituto de Estadística de Cataluña referidas al año 2019) para que abonen compensaciones económicas a determinados cargos electos locales para el ejercicio de 2021.\\n\\xa0\\n—2 Bases reguladoras\\nLas bases de la convocatoria son las que establece el Decreto 69/2008, de 1 de abril, de regulación de un sistema de compensaciones económicas a favor de los ayuntamientos para que abonen retribuciones a determinados cargos electos locales.\\n \\xa0\\n—3 Dotación presupuestaria y cuantía de las compensaciones\\n3.1 El importe máximo destinado a esta convocatoria es de 4.800.000 euros, a cargo de la partida presupuestaria PR1501 D/460.000100/7110/0000, condicionado a la existencia de crédito adecuado y suficiente en la partida mencionada.\\nEste importe se podrá ampliar en un máximo de 200.000 euros. La efectividad de esta cuantía adicional queda condicionada a la disponibilidad efectiva del crédito en el momento anterior a la resolución de la concesión, de acuerdo con lo establecido en el artículo 92.4 del Texto refundido de la Ley de finanzas públicas de Cataluña.\\n3.2 En el caso de que la disponibilidad presupuestaria no sea suficiente para atender el conjunto de las solicitudes, se acordará la reducción de los importes de las compensaciones de manera proporcional en todas las solicitudes.\\n3.3 La cuantía de la compensación para los tres tramos de población que determina el Decreto 69/2008, de 1 de abril, es la siguiente:\\n\\xa0\\nImporte máximo anual (correspondiente a 12 meses de dedicación completa):\\n Hasta 100 habitantes: 10.339,44 euros.\\nDe 101 a 500 habitantes: 12.398,76 euros.\\nDe 501 a 2.000 habitantes: 17.505,72 euros.\\n\\xa0\\nImporte máximo mensual (correspondiente a 1 mes de dedicación completa):\\nHasta 100 habitantes: 861,62 euros.\\nDe 101 a 500 habitantes: 1.033,23 euros.\\nDe 501 a 2.000 habitantes: 1.458,81 euros.\\n\\xa0\\n3.4 Los cargos electos de los municipios con una población inferior a 1.000 habitantes, de conformidad con las cifras oficiales publicadas por el Instituto de Estadística de Cataluña referidos al año 2019, no pueden tener una dedicación superior al 75%.\\n3.5 Las compensaciones económicas, que tienen carácter reglado, se abonarán con carácter de anticipo, mediante un único pago.\\n\\xa0\\n—4 Requisitos de los ayuntamientos solicitantes\\n4.1 De acuerdo con los artículos 2 y 3 del Decreto 69/2008, de 1 de abril, para el otorgamiento de la compensación los ayuntamientos deben cumplir los siguientes requisitos:\\n\\xa0\\xa0\\xa0a) Acordar, según la legislación específica, el abono al alcalde/esa o a los miembros electos, de retribuciones para el ejercicio de sus cargos.\\n \\xa0\\xa0\\xa0b) Dar de alta en el régimen general de la Seguridad Social a las personas electas que perciban una retribución, asumiendo el pago de las cuotas empresariales que correspondan.\\n\\xa0\\xa0\\xa0c) Que la población inscrita en el Padrón del municipio, de conformidad con las cifras oficiales publicadas por el organismo competente referidas a la misma anualidad que la liquidación del presupuesto aprobada el año anterior, no supere los 2.000 habitantes.\\n\\xa0\\xa0\\xa0d) Que la totalidad de los recursos ordinarios reconocidos y liquidados del presupuesto del municipio, de acuerdo con los datos de la liquidación aprobada el año anterior, no supere en un 75% la media resultante de los presupuestos de los municipios de su tramo de población.\\n4.2 De acuerdo con el artículo 51.2 de la Ley 4/2020, del 29 de abril, de presupuestos de la Generalidad de Cataluña para 2020, para que el Departamento de la Presidencia pueda conceder estas compensaciones, es necesario que los entes locales solicitantes, además de reunir los requisitos reglados establecidos en el Decreto 69/2008, de 1 de abril, presenten hasta la fecha máxima de presentación de solicitudes los expedientes de presupuestos, las liquidaciones presupuestarias y los cuestionarios estadísticos homogeneizados de presupuestos y de liquidaciones de 2019 en el Departamento de la Presidencia, así como las cuentas anuales a la Sindicatura de Cuentas.\\n En el caso de que no presenten dentro del plazo establecido toda esta documentación económica y financiera, las compensaciones económicas a los entes correspondientes se denegarán por incumplimiento de la obligación legal de entrega de esta documentación.\\n\\xa0\\n—5 Presentación de las solicitudes\\n5.1 Las solicitudes, aprobadas por el órgano competente y firmadas por el secretario/a o por el secretario/a interventor/a de la entidad local, se presentarán en el plazo de un mes a partir del día siguiente de la publicación de esta convocatoria en el Diari Oficial de la Generalitat de Catalunya, por medios telemáticos a través de la extranet de las administraciones públicas catalanas, EACAT (www.eacat.cat).\\n5.2 El formulario de solicitud y la información para enviarlo por vía telemática están disponibles en EACAT (www.eacat.cat). En el supuesto de interrupción por circunstancias accidentales del funcionamiento de EACAT, y siempre que sea técnicamente posible, la persona usuaria que acceda debe visualizar un mensaje que comunique esta circunstancia e informe de los efectos de esta interrupción del funcionamiento en el cómputo de los plazos. Sin embargo, cuando no sea técnicamente posible que la persona usuaria visualice este mensaje, si se produce una interrupción no planificada en el funcionamiento de los sistemas electrónicos durante el último día establecido para la realización del trámite correspondiente, este trámite se podrá llevar a cabo durante los tres días hábiles consecutivos.\\n La solicitud efectuada por medios telemáticos se considerará presentada ante la Administración de la Generalidad de Cataluña cuando se registre a través de la plataforma EACAT. Asimismo, en el caso de que, dentro de este plazo, el ayuntamiento solicitante presente más de una solicitud sólo se tendrá en cuenta, para su tramitación, la última solicitud presentada dentro de plazo.\\n5.3 Las medias de los recursos ordinarios consolidados de los ayuntamientos para los tramos de población correspondientes a la liquidación de los presupuestos del ejercicio 2019 también se podrán consultar en la web gestionada por la Dirección General de Administración Local (municat.gencat.cat/) durante el periodo de presentación de solicitudes.\\n5.4 Los servicios territoriales de cooperación local y, de acuerdo con el artículo 28.1 del texto refundido de la Ley de la organización comarcal de Cataluña aprobado por el Decreto Legislativo 4/2003, de 4 de noviembre, los consejos comarcales deben prestar la asistencia técnica necesaria a los ayuntamientos participantes en la preparación de las solicitudes y en la utilización de los medios telemáticos.\\n 5.5 El formulario de solicitud incorporará la documentación que se detalla a continuación:\\na) El certificado acreditativo de los recursos ordinarios reconocidos y liquidados según la liquidación consolidada del presupuesto del ayuntamiento y de sus organismos autónomos de la anualidad 2019, al que se refiere la letra a) del artículo 6.3 del Decreto 69/2008, de 1 de abril.\\nNo será necesario rellenar este certificado cuando dicha liquidación presupuestaria y documentación anexa, referida a la anualidad 2019, haya sido entregada por los medios reglamentarios, a la Dirección General de Administración Local. En este supuesto, el ayuntamiento solicitante lo debe especificar en el formulario de solicitud.\\nHay que tener en cuenta que los ayuntamientos sólo pueden descontar de su presupuesto de ingresos las contribuciones especiales, las cuotas urbanísticas, los aprovechamientos urbanísticos y las subvenciones corrientes condicionadas (entendidas como aquellas subvenciones extraordinarias, puntuales de un ejercicio y no recurrentes en cada ejercicio). En este supuesto, es decir, en caso de que se aminore el presupuesto de ingresos de los entes haciendo constar subvenciones corrientes condicionadas, será necesario que se acredite el detalle y las características con la aportación, también a través de EACAT, de los certificados acreditativos correspondientes.\\n También podrán rellenar este certificado, a los efectos de no superar el límite de recursos ordinarios de su tramo de población, los ayuntamientos que, a pesar de haber presentado correctamente la liquidación del presupuesto de 2019, pueden descontar de su presupuesto de ingresos alguno de los conceptos indicados en el párrafo anterior.\\nb) El certificado del acuerdo del Pleno por el que se determinan las personas electas a las que el ayuntamiento abonará la retribución a cargo de la compensación a que se refiere la letra b) del artículo 6.3 del Decreto 69/2008, de 1 de abril. De cada electo se debe especificar: el NIF, el nombre, el cargo, la fecha de alta en la Seguridad Social, el período y el porcentaje de dedicación al cargo.\\nc) Un apartado de declaraciones responsables, requerido por la legislación sectorial. En concreto, estas declaraciones responsables, que deben incorporarse en el formulario de solicitud, se refieren a:\\n-La declaración responsable de estar al corriente del cumplimiento de las obligaciones tributarias con la Agencia Estatal Tributaria y con la Agencia Tributaria de Cataluña, así como de las obligaciones con la Tesorería General de la Seguridad Social.\\n -La declaración responsable de no tener ninguna deuda contraída con la Administración de la Generalidad de Cataluña y sus entidades autónomas.-La declaración responsable sobre el cumplimiento de las medidas de integración social de personas con discapacidad, de acuerdo con la normativa vigente.-La declaración responsable de erradicación de la violencia machista, de acuerdo con la normativa vigente.-La declaración responsable sobre el cumplimiento de la normativa en materia de política lingüística.-La declaración responsable conforme no se incurre en ninguno de los supuestos previstos en el artículo 13 de la Ley 38/2003, de 17 de noviembre, general de subvenciones.-La declaración responsable de rendir cuentas de cada ejercicio directamente a la Sindicatura de Cuentas antes del 15 de octubre del año siguiente al del cierre del ejercicio, así como de enviar las auditorías y cualquier otro informe de fiscalización con las recomendaciones y reservas correspondientes, de acuerdo con lo dispuesto en el artículo 41.4 de la Ley 18/2010, de 7 de junio, de la Sindicatura de Cuentas. d) Una autorización al Departamento de la Presidencia para hacer las consultas necesarias a los efectos de acreditar el cumplimiento de la obligación del municipio solicitante de estar al corriente de las obligaciones tributarias con la Agencia Estatal Tributaria y con el Agencia Tributaria de Cataluña, así como de las obligaciones con la Tesorería General de la Seguridad Social. En caso de que la entidad local no quiera dar esta autorización, deberá acreditar estas circunstancias con la aportación, también a través de EACAT, de los certificados acreditativos correspondientes.\\n5.6 La presentación de las solicitudes comporta la aceptación plena, por parte de los ayuntamientos solicitantes, de las bases de la convocatoria.\\nLa Dirección General de Administración Local, órgano competente para la tramitación y la gestión del procedimiento, podrá pedirles toda la información que considere necesaria para la evaluación de las solicitudes.\\nAsimismo, si estas solicitudes no están adecuadamente rellenadas, o tienen defectos subsanables se requerirá al ayuntamiento para que subsane los defectos o adjunte los documentos correspondientes, en el plazo máximo de 10 días hábiles a contar desde el día siguiente a la notificación, con la indicación de que, si no lo hace así, de acuerdo con el artículo 68.1 de la Ley 39/2015, de 1 de octubre, del procedimiento administrativo común de las administraciones públicas, se entenderá que desiste de solicitud.\\n El requerimiento previsto en el párrafo anterior se notificará mediante la publicación en el Tablón electrónico de la Administración de la Generalidad de Cataluña, accesible desde la sede electrónica (tauler.gencat.cat). Esta publicación sustituye la notificación individual y tiene los mismos efectos.\\nPara el resto de comunicaciones que no tengan la consideración de notificación, se utilizarán los medios electrónicos de EACAT.\\nLos ayuntamientos deben presentar la documentación que les sea requerida en respuesta a los requerimientos de documentación por los medios electrónicos de EACAT en los términos previstos.\\n\\xa0\\n—6 Órganos competentes\\nLa persona titular de la Consejería de la Presidencia es el órgano competente para iniciar y resolver el procedimiento de concesión, las declaraciones de desistimiento, la incoación y resolución de los expedientes de revocación y la resolución de los requerimientos previos.\\nLa Dirección General de Administración Local será la responsable de la instrucción del procedimiento, de acuerdo con lo dispuesto en el artículo 4.2 del Decreto 69/2008.\\n \\xa0\\n—7 Plazo para resolver, notificación y régimen de recursos\\n7.1 La resolución de concesión o denegación de las compensaciones económicas para retribuir determinados cargos electos locales se resolverá en un plazo de tres meses a contar desde la fecha de finalización del periodo de presentación de las solicitudes.\\nEn todo caso la resolución, dictada a propuesta del órgano competente de la Dirección General de Administración Local, especificará los entes locales a los que se les concede la compensación y los entes a los que se les deniega.\\nSe notificará a los entes locales interesados \\u200b\\u200bel resultado de su participación, con indicación, en el caso de las solicitudes estimadas, del cargo electo y del importe de la compensación otorgada en función de la dedicación exclusiva o parcial ejercida y, en el caso de las solicitudes desestimadas y las solicitudes desistidas, de las causas que motivan esta decisión.\\nLa resolución final del procedimiento de concesión de estas compensaciones se notificará mediante la publicación en el Tablón electrónico de la Administración de la Generalidad de Cataluña, accesible desde la sede electrónica (tauler.gencat.cat). Esta publicación sustituye la notificación individual y tiene los mismos efectos.\\n Asimismo, de acuerdo con el principio de publicidad que debe regir la actuación de las administraciones públicas y de conformidad con lo dispuesto en el artículo 94.6 del texto refundido de la Ley de finanzas públicas de Cataluña, aprobado por el Decreto Legislativo 3/2002, de 24 de diciembre, y el artículo 8.1.g) de la Ley 19/2014, del 29 de diciembre, de transparencia, acceso a la información pública y buen gobierno, se dará publicidad a las compensaciones otorgadas mediante la exposición en el web gestionado por la Dirección General de Administración Local (municat.gencat.cat/) y la exposición en el Tablero electrónico de la Administración de la Generalidad de Cataluña (tauler.gencat.cat).\\n7.2 Contra la resolución que pone fin al procedimiento y que agota la vía administrativa, los ayuntamientos pueden interponer un recurso contencioso administrativo ante el Tribunal Superior de Justicia de Cataluña, en el plazo de dos meses a partir del día siguiente de la publicación en el Tablón electrónico de la Administración de la Generalidad de Cataluña, accesible desde la sede electrónica (tauler.gencat.cat) de acuerdo con el artículo 46 Ley 29/1998, de 13 de julio, reguladora de la jurisdicción contencioso administrativa y, potestativamente, requerimiento previo ante el mismo órgano que la ha dictado, en el mismo plazo, de conformidad con el artículo 44 de la Ley mencionada.\\n \\xa0\\n—8 Acreditación de la compensación\\n8.1 Los entes locales a los que se les haya otorgado la compensación deben enviar al Departamento de la Presidencia, entre el 7 y el 30 de enero de 2022, inclusive, un certificado de la secretaría o de la secretaría-intervención del ayuntamiento por medio del cual se justifique la entrega a los cargos electos correspondientes de los importes brutos abonados efectivamente por el ayuntamiento y en el que se especifiquen detalladamente los cargos electos retribuidos, el porcentaje al que corresponde su dedicación y el período al que se refiere. En ningún caso se aceptarán cambios respecto de los datos incluidos en la solicitud que supongan un incremento del importe otorgado.\\n8.2 A tal efecto, el certificado en cuestión estará disponible en EACAT (www.eacat.cat) y se enviará por los medios telemáticos de EACAT en el plazo antes señalado. En caso de que, dentro de este plazo, el ayuntamiento beneficiario entregue más de un certificado, sólo se tendrá en cuenta el último presentado dentro de plazo.\\n En el supuesto de interrupción, por circunstancias accidentales, del funcionamiento de EACAT, y siempre que sea técnicamente posible, la persona usuaria que acceda debe visualizar un mensaje que comunique esta circunstancia e informe de los efectos de esta interrupción del funcionamiento en el cómputo de los plazos. Sin embargo, cuando no sea técnicamente posible que la persona usuaria acceda a visualizar el mensaje mencionado, si se produce una interrupción no planificada en el funcionamiento de los sistemas electrónicos durante el último día establecido para la realización del trámite correspondiente, éste se podrá llevar a cabo durante los tres días hábiles consecutivos.\\nSi, una vez transcurrido el plazo de justificación, no se ha presentado el certificado mencionado ante el Departamento de la Presidencia, el Departamento requerirá al ayuntamiento beneficiario para que en el plazo improrrogable de quince días hábiles lo presente.\\nLa falta de presentación de la justificación en el plazo adicional mencionado comportará la revocación total de la compensación otorgada.\\n De acuerdo con lo previsto en el artículo 15.2 de la Orden ECO/172/2015, de 3 de junio, sobre las formas de justificación de subvenciones, modificada por la Orden VEH/79/2020, de 9 de junio, cuando el órgano administrativo competente para la comprobación de la subvención aprecie la existencia de defectos subsanables en la justificación se requerirá al ayuntamiento para que subsane los defectos en el plazo máximo de 10 días hábiles a contar desde el día siguiente de la notificación.\\nLos requerimientos previstos en los párrafos anteriores se notificarán mediante la publicación en el Tablón electrónico de la Administración de la Generalidad de Cataluña, accesible desde la sede electrónica (tauler.gencat.cat). Esta publicación sustituye la notificación individual y tiene los mismos efectos.\\n8.3 En todos los casos, los entes beneficiarios están obligados a facilitar toda la información que les requieran los órganos de gestión y control de la Administración de la Generalidad.\\n\\xa0\\n—9 Revocaciones y reducciones\\n 9.1 Las compensaciones concedidas pueden ser objeto de revocación total o parcial si se incumplen los requisitos establecidos o si concurre cualquiera de las causas de revocación previstas en el artículo 99 del texto refundido de la Ley de finanzas públicas de Cataluña, aprobado por el Decreto Legislativo 3/2002, de 24 de diciembre, y en el artículo 37 de la Ley 38/2003, de 17 de noviembre, general de subvenciones, en todos los casos de acuerdo con el procedimiento establecido, una vez tramitado el correspondiente expediente, y con el preceptivo trámite de audiencia del ayuntamiento interesado, previo a la propuesta de resolución que ponga fin al expediente.\\n9.2 Si no se justifica debidamente la totalidad de la cuantía concedida, se reducirá el importe de la compensación concedida de acuerdo con el porcentaje del importe no justificado.\\n\\xa0\\n—10 Protección de datos de carácter personal\\nDe conformidad con la normativa vigente en materia de protección de datos de carácter personal, la Dirección General de Administración Local tratará los datos de carácter personal de las personas electas con el fin de gestionar y tramitar esta convocatoria de acuerdo con los principios de licitud, lealtad, transparencia, seguridad y confidencialidad que la normativa sobre protección de datos establece. Las personas electas afectadas pueden ejercer los derechos de acceso, rectificación, supresión, oposición y limitación del tratamiento, mediante los formularios y el procedimiento disponibles en:\\n http://presidencia.gencat.cat/ca/el_departament/proteccio-dades/drets-de-les-persones-interessades/. Más información en relación con el tratamiento de datos personales en la dirección http://presidencia.gencat.cat/ca/detalls/Article/compensacions-economiques-ajuntaments.\\n\\xa0\\n—11 Régimen jurídico\\nEl procedimiento objeto de esta convocatoria se regirá, preferentemente, por lo establecido por el Decreto 69/2008, de 1 de abril, de regulación de un sistema de compensaciones económicas a favor de los ayuntamientos para que abonen retribuciones a determinados cargos electos locales y por la presente convocatoria, sin perjuicio de la normativa vigente aplicable a la actividad subvencional de la Administración de la Generalidad, en todo lo que no contradiga o se oponga a la regulación específica de este procedimiento.\\n\\xa0\\n—12 Efectos\\nEsta Resolución producirá efectos a partir del día siguiente a la fecha de publicación en el Diari Oficial de la Generalitat de Catalunya.\\n\\xa0\\nContra el acto de convocatoria, que agota la vía administrativa, los ayuntamientos pueden interponer un recurso contencioso administrativo ante el Tribunal Superior de Justicia de Cataluña, en el plazo de dos meses a partir del día siguiente de la fecha de publicación en el Diari Oficial de la Generalitat de Catalunya de acuerdo con el artículo 46 Ley 29/1998, de 13 de julio, reguladora de la jurisdicción contencioso administrativa.\\n Con carácter previo y contra el acto de convocatoria, los entes locales pueden formular un requerimiento previo ante el órgano competente en el plazo de dos meses a contar desde el día siguiente a la fecha de publicación en el Diari Oficial de la Generalitat de Catalunya, de conformidad con lo establecido en el artículo 44 de la Ley 29/1998, de 13 de julio, reguladora de la jurisdicción contencioso administrativa.\\n\\xa0\\nBarcelona, 7 de marzo de 2021\\n\\xa0\\nPor delegación (Resolución PRE/1384/2019, de 21 de mayo, DOGC núm. 7882, de 24.5.2019)\\nMiquel Àngel Escobar Gutiérrez\\nSecretario de Administraciones Locales y de Relaciones con Arán\\n'"
      ]
     },
     "metadata": {},
     "execution_count": 29
    }
   ],
   "source": [
    "DOGC_sumarios['item_fullText'][0]"
   ]
  },
  {
   "cell_type": "code",
   "execution_count": 30,
   "metadata": {},
   "outputs": [],
   "source": [
    "# Crea nueva columna vacía de tipo lista en tabla_analisis\n",
    "#DOCM_sumarios['Referencias_completas'] = [[] for i in range(len(tabla_analisis))]\n",
    "DOGC_sumarios['Tags'] = [[] for i in range(len(DOGC_sumarios))]\n",
    "DOGC_sumarios['Match_ASECORP_BBDD'] = [[] for i in range(len(DOGC_sumarios))]"
   ]
  },
  {
   "cell_type": "code",
   "execution_count": 31,
   "metadata": {},
   "outputs": [],
   "source": [
    "pattern = ['Ley [0-9]+\\/[0-9]+','Real Decreto [0-9]+\\/[0-9]+','Real Decreto Legislativo [0-9]+\\/[0-9]+','Real Decreto-ley [0-9]+\\/[0-9]+','Orden [A-Z]+\\/[0-9]+\\/[0-9]+','Orden Circular [0-9]+\\/[0-9]+','Reglamento \\(UE\\) [0-9]+\\/[0-9]+', 'Reglamento de Ejeución \\(UE\\) [0-9]+\\/[0-9]+' ,'Sentencia de [0-9]+ de [a-z]+ de [0-9]+','Sentencia [0-9]+\\/[0-9]+','Orden de [0-9]+ de [a-z]+ de [0-9]+', 'Resolución de [0-9]+ de [a-z]+ de [0-9]+','Resolución [a-z]+\\/[0-9]+\\/[0-9]+', 'Nota de Servicio [0-9]+\\/[0-9]+', 'Acuerdo multilateral M\\-[0-9]+', 'Circular [0-9]+\\/[0-9]+', 'Decisión \\(UE\\) [0-9]+\\/[0-9]+', 'Decisión de Ejecución \\(UE\\) [0-9]+\\/[0-9]+']"
   ]
  },
  {
   "cell_type": "code",
   "execution_count": 32,
   "metadata": {},
   "outputs": [
    {
     "output_type": "stream",
     "name": "stdout",
     "text": [
      "['Ley 4/2020', 'Ley 4/2020', 'Ley 38/2003', 'Ley 18/2010', 'Ley 39/2015', 'Ley 19/2014', 'Ley 29/1998', 'Orden ECO/172/2015', 'Orden VEH/79/2020', 'Ley 38/2003', 'Ley 29/1998', 'Ley 29/1998', 'Resolución PRE/1384/2019']\n",
      "['Ley 26/2010', 'Ley 40/2015', 'Ley 17/2017', 'Real Decreto Legislativo 2/2004', 'Ley 17/2017', 'Resolución ECO/184/2014', 'Real Decreto Legislativo 2/2004', 'Ley 40/2015', 'Ley 26/2010', 'Ley 40/2015', 'Ley 40/2015', 'Ley 7/1985', 'Real Decreto Legislativo 2/2004', 'Real Decreto 939/2005', 'Ley 58/2003', 'Reglamento (UE) 2016/679', 'Ley 40/2015', 'Ley 40/2015', 'Ley 58/2003', 'Reglamento (UE) 2016/679', 'Ley 26/2010', 'Ley 40/2015', 'Ley 26/2010', 'Ley 9/2017', 'Ley 17/2017', 'Ley 7/1985', 'Real Decreto Legislativo 2/2004', 'Ley 58/2003', 'Ley 39/2015', 'Ley 29/2010', 'Reglamento (UE) 2016/679', 'Ley 26/2010', 'Ley 29/1998', 'Ley 40/2015', 'Ley 26/2010', 'Ley 19/2014', 'Ley 39/2015', 'Resolución VEH/3102/2019', 'Ley 17/2017', 'Ley 58/2003', 'Reglamento (UE) 2016/679']\n",
      "['Ley 12/2009', 'Ley 12/2009', 'Ley 26/2010', 'Ley 19/2014', 'Ley 13/2008', 'Ley 12/2009']\n",
      "['Ley 15/1990', 'Resolución de 30 de marzo de 1995', 'Ley 9/2017', 'Ley 13/2008', 'Ley 15/1990', 'Ley 13/2008']\n",
      "[]\n",
      "['Ley 20/2009', 'Ley 12/1981', 'Ley 21/2013', 'Ley 22/1973', 'Ley 22/1973', 'Ley 22/1973', 'Ley 16/2002', 'Ley 20/2009', 'Ley 21/2013', 'Ley 22/2011', 'Ley 20/2009', 'Ley 20/2009']\n",
      "['Resolución TES/2921/2020', 'Resolución TES/2921/2020', 'Resolución TES/2921/2020', 'Ley 39/2015', 'Ley 29/1988', 'Resolución TES/2921/2020']\n",
      "['Resolución CLT/3216/2020', 'Resolución CLT/198/2021', 'Resolución CLT/845/2019', 'Resolución CLT/956/2020', 'Resolución CLT/3216/2020', 'Resolución CLT/198/2021', 'Resolución CLT/845/2019', 'Resolución CLT/956/2020', 'Orden CLT/4/2013', 'Orden CLT/47/2014']\n",
      "['Resolución CLT/3216/2020', 'Resolución CLT/198/2021', 'Resolución CLT/845/2019', 'Resolución CLT/956/2020', 'Resolución CLT/3216/2020', 'Resolución CLT/198/2021', 'Resolución CLT/845/2019', 'Resolución CLT/956/2020', 'Orden CLT/4/2013', 'Orden CLT/47/2014', 'Ley 39/2015']\n",
      "['Resolución CLT/3216/2020', 'Resolución CLT/198/2021', 'Resolución CLT/613/2018', 'Resolución CLT/3216/2020', 'Resolución CLT/198/2021', 'Resolución CLT/613/2018', 'Orden CLT/4/2013', 'Orden CLT/47/2014']\n",
      "['Resolución CLT/3142/2020', 'Resolución CLT/187/2021', 'Ley 20/2000', 'Resolución CLT/3142/2020', 'Resolución CLT/187/2021', 'Resolución CLT/204/2021', 'Orden CLT/4/2013']\n",
      "['Ley 15/2020', 'ley 3/2021', 'Ley 15/2020', 'Ley 15/2020', 'Ley 15/2020', 'ley 3/2021', 'Ley 19/2014', 'Ley 13/2014', 'Ley 38/2003', 'Real decreto 887/2006', 'Ley 15/2020', 'ley 3/2021', 'Real decreto legislativo 1/2013', 'Real decreto 364/2005', 'Ley 38/2003', 'Ley 17/2020', 'Ley 5/2008', 'Ley 1/1998', 'Real decreto legislativo 5/2000', 'Ley 31/1995', 'Real decreto 39/1997', 'Ley 54/2003', 'Ley 17/2020', 'Ley 5/2008', 'Ley 4/2008', 'Ley 19/2014', 'Ley 15/2020', 'ley 3/2021', 'Ley 15/2020', 'ley 3/2021', 'Ley 15/2020', 'ley 3/2021', 'Ley 38/2003', 'Ley 15/2020', 'ley 3/2021', 'Ley 39/2015', 'Ley 39/2015', 'Ley 26/2010', 'Ley 39/2015', 'Ley 26/2010', 'Ley 29/1998', 'Ley 38/2003', 'Ley 19/2014', 'Ley 38/2003', 'Ley 38/2003', 'Orden ECO/172/2015', 'Ley 38/2003', 'Ley 38/2003', 'Ley 38/2003', 'Ley 38/2003', 'Ley 38/2003', 'Ley 38/2003', 'Ley 38/2003', 'Ley 19/2014', 'Ley 17/2020', 'Ley 5/2008', 'Ley 38/2003', 'Reglamento (UE) 2016/679', 'Ley 19/2014']\n",
      "['Resolución EMC/2810/2020', 'Resolución EMC/2928/2020', 'Resolución EMC/2810/2020', 'Resolución EMC/3015/2020', 'Resolución EMC/3015/2020', 'Resolución EMC/350/2021', 'Resolución EMC/3015/2020', 'Resolución EMC/350/2021', 'Ley 38/2003', 'Resolución EMC/3015/2020', 'Resolución EMC/350/2021', 'Resolución EMC/3015/2020', 'Resolución EMC/3015/2020', 'Ley 39/2015', 'Ley 29/1998']\n",
      "['Orden ARP/121/2017', 'Orden ARP/223/2020', 'Orden ARP/121/2017', 'Reglamento (UE) 702/2014', 'Reglamento (UE) 2020/2008', 'Reglamento (UE) 702/2014', 'Reglamento (UE) 651/2014', 'Reglamento (UE) 972/2020', 'Reglamento (UE) 651/2014', 'Orden ARP/121/2017', 'Orden ARP/223/2020']\n"
     ]
    }
   ],
   "source": [
    "for i, row in DOGC_sumarios.iterrows():\n",
    "    # Busca expresiones REGX coincidentes con Patrones definidos\n",
    "    DOGC_sumarios['Tags'][i] = re.findall('|'.join(pattern), str(row['item_fullText']), flags=re.IGNORECASE)\n",
    "    print(DOGC_sumarios['Tags'][i])"
   ]
  },
  {
   "cell_type": "code",
   "execution_count": 33,
   "metadata": {},
   "outputs": [
    {
     "output_type": "stream",
     "name": "stdout",
     "text": [
      "['Ley 4/2020', 'Ley 19/2014', 'Orden ECO/172/2015', 'Orden VEH/79/2020', 'Ley 38/2003', 'Ley 18/2010', 'Ley 39/2015', 'Ley 29/1998', 'Resolución PRE/1384/2019']\n",
      "['Ley 58/2003', 'Ley 40/2015', 'Ley 19/2014', 'Reglamento (UE) 2016/679', 'Resolución ECO/184/2014', 'Ley 7/1985', 'Ley 26/2010', 'Real Decreto 939/2005', 'Ley 39/2015', 'Ley 29/1998', 'Resolución VEH/3102/2019', 'Ley 17/2017', 'Real Decreto Legislativo 2/2004', 'Ley 9/2017', 'Ley 29/2010']\n",
      "['Ley 19/2014', 'Ley 13/2008', 'Ley 12/2009', 'Ley 26/2010']\n",
      "['Resolución de 30 de marzo de 1995', 'Ley 13/2008', 'Ley 9/2017', 'Ley 15/1990']\n",
      "[]\n",
      "['Ley 22/1973', 'Ley 21/2013', 'Ley 20/2009', 'Ley 12/1981', 'Ley 22/2011', 'Ley 16/2002']\n",
      "['Resolución TES/2921/2020', 'Ley 39/2015', 'Ley 29/1988']\n",
      "['Resolución CLT/956/2020', 'Orden CLT/4/2013', 'Resolución CLT/845/2019', 'Resolución CLT/198/2021', 'Orden CLT/47/2014', 'Resolución CLT/3216/2020']\n",
      "['Resolución CLT/956/2020', 'Orden CLT/4/2013', 'Ley 39/2015', 'Resolución CLT/845/2019', 'Resolución CLT/198/2021', 'Orden CLT/47/2014', 'Resolución CLT/3216/2020']\n",
      "['Orden CLT/4/2013', 'Resolución CLT/613/2018', 'Resolución CLT/198/2021', 'Orden CLT/47/2014', 'Resolución CLT/3216/2020']\n",
      "['Orden CLT/4/2013', 'Resolución CLT/3142/2020', 'Resolución CLT/187/2021', 'Resolución CLT/204/2021', 'Ley 20/2000']\n",
      "['Ley 4/2008', 'Ley 13/2014', 'Real decreto legislativo 5/2000', 'Real decreto 887/2006', 'Ley 5/2008', 'Real decreto 39/1997', 'Orden ECO/172/2015', 'Ley 38/2003', 'Ley 1/1998', 'Ley 31/1995', 'Ley 29/1998', 'Ley 17/2020', 'Real decreto legislativo 1/2013', 'Ley 54/2003', 'Ley 19/2014', 'Ley 15/2020', 'Reglamento (UE) 2016/679', 'Ley 26/2010', 'ley 3/2021', 'Real decreto 364/2005', 'Ley 39/2015']\n",
      "['Resolución EMC/350/2021', 'Ley 38/2003', 'Ley 39/2015', 'Ley 29/1998', 'Resolución EMC/3015/2020', 'Resolución EMC/2928/2020', 'Resolución EMC/2810/2020']\n",
      "['Reglamento (UE) 2020/2008', 'Reglamento (UE) 651/2014', 'Orden ARP/223/2020', 'Reglamento (UE) 702/2014', 'Orden ARP/121/2017', 'Reglamento (UE) 972/2020']\n"
     ]
    }
   ],
   "source": [
    "# Elimina Tags duplicados\n",
    "for i, row in DOGC_sumarios.iterrows():\n",
    "    DOGC_sumarios['Tags'][i] = list(set(DOGC_sumarios['Tags'][i]))\n",
    "    print(DOGC_sumarios['Tags'][i])"
   ]
  },
  {
   "cell_type": "code",
   "execution_count": 34,
   "metadata": {},
   "outputs": [
    {
     "output_type": "execute_result",
     "data": {
      "text/plain": [
       "[None,\n",
       " None,\n",
       " None,\n",
       " None,\n",
       " None,\n",
       " None,\n",
       " None,\n",
       " None,\n",
       " None,\n",
       " None,\n",
       " None,\n",
       " None,\n",
       " None,\n",
       " None,\n",
       " None,\n",
       " None,\n",
       " None,\n",
       " None,\n",
       " None,\n",
       " None,\n",
       " None,\n",
       " None,\n",
       " None,\n",
       " None,\n",
       " None,\n",
       " None,\n",
       " None,\n",
       " None,\n",
       " None,\n",
       " None,\n",
       " None,\n",
       " None,\n",
       " None,\n",
       " None,\n",
       " None,\n",
       " None,\n",
       " None,\n",
       " None,\n",
       " None,\n",
       " None,\n",
       " None,\n",
       " None,\n",
       " None,\n",
       " None,\n",
       " None,\n",
       " None,\n",
       " None,\n",
       " None,\n",
       " None,\n",
       " None,\n",
       " None,\n",
       " None,\n",
       " None,\n",
       " None,\n",
       " None,\n",
       " None,\n",
       " None,\n",
       " None,\n",
       " None,\n",
       " None,\n",
       " None,\n",
       " None,\n",
       " None,\n",
       " None,\n",
       " None,\n",
       " None,\n",
       " None,\n",
       " None,\n",
       " None,\n",
       " None,\n",
       " None,\n",
       " None,\n",
       " None,\n",
       " None,\n",
       " None,\n",
       " None,\n",
       " None,\n",
       " None,\n",
       " None,\n",
       " None,\n",
       " None,\n",
       " None,\n",
       " None,\n",
       " None,\n",
       " None,\n",
       " None,\n",
       " None,\n",
       " None,\n",
       " None,\n",
       " None,\n",
       " None,\n",
       " None,\n",
       " None,\n",
       " None,\n",
       " None,\n",
       " None,\n",
       " None,\n",
       " None]"
      ]
     },
     "metadata": {},
     "execution_count": 34
    }
   ],
   "source": [
    "regex_result = []\n",
    "[ regex_result.append(tag) for tags in DOGC_sumarios['Tags'] for tag in tags ]"
   ]
  },
  {
   "cell_type": "code",
   "execution_count": 35,
   "metadata": {},
   "outputs": [
    {
     "output_type": "stream",
     "name": "stdout",
     "text": [
      "['Ley 4/2020', 'Ley 19/2014', 'Orden ECO/172/2015', 'Orden VEH/79/2020', 'Ley 38/2003', 'Ley 18/2010', 'Ley 39/2015', 'Ley 29/1998', 'Resolución PRE/1384/2019', 'Ley 58/2003', 'Ley 40/2015', 'Ley 19/2014', 'Reglamento (UE) 2016/679', 'Resolución ECO/184/2014', 'Ley 7/1985', 'Ley 26/2010', 'Real Decreto 939/2005', 'Ley 39/2015', 'Ley 29/1998', 'Resolución VEH/3102/2019', 'Ley 17/2017', 'Real Decreto Legislativo 2/2004', 'Ley 9/2017', 'Ley 29/2010', 'Ley 19/2014', 'Ley 13/2008', 'Ley 12/2009', 'Ley 26/2010', 'Resolución de 30 de marzo de 1995', 'Ley 13/2008', 'Ley 9/2017', 'Ley 15/1990', 'Ley 22/1973', 'Ley 21/2013', 'Ley 20/2009', 'Ley 12/1981', 'Ley 22/2011', 'Ley 16/2002', 'Resolución TES/2921/2020', 'Ley 39/2015', 'Ley 29/1988', 'Resolución CLT/956/2020', 'Orden CLT/4/2013', 'Resolución CLT/845/2019', 'Resolución CLT/198/2021', 'Orden CLT/47/2014', 'Resolución CLT/3216/2020', 'Resolución CLT/956/2020', 'Orden CLT/4/2013', 'Ley 39/2015', 'Resolución CLT/845/2019', 'Resolución CLT/198/2021', 'Orden CLT/47/2014', 'Resolución CLT/3216/2020', 'Orden CLT/4/2013', 'Resolución CLT/613/2018', 'Resolución CLT/198/2021', 'Orden CLT/47/2014', 'Resolución CLT/3216/2020', 'Orden CLT/4/2013', 'Resolución CLT/3142/2020', 'Resolución CLT/187/2021', 'Resolución CLT/204/2021', 'Ley 20/2000', 'Ley 4/2008', 'Ley 13/2014', 'Real decreto legislativo 5/2000', 'Real decreto 887/2006', 'Ley 5/2008', 'Real decreto 39/1997', 'Orden ECO/172/2015', 'Ley 38/2003', 'Ley 1/1998', 'Ley 31/1995', 'Ley 29/1998', 'Ley 17/2020', 'Real decreto legislativo 1/2013', 'Ley 54/2003', 'Ley 19/2014', 'Ley 15/2020', 'Reglamento (UE) 2016/679', 'Ley 26/2010', 'ley 3/2021', 'Real decreto 364/2005', 'Ley 39/2015', 'Resolución EMC/350/2021', 'Ley 38/2003', 'Ley 39/2015', 'Ley 29/1998', 'Resolución EMC/3015/2020', 'Resolución EMC/2928/2020', 'Resolución EMC/2810/2020', 'Reglamento (UE) 2020/2008', 'Reglamento (UE) 651/2014', 'Orden ARP/223/2020', 'Reglamento (UE) 702/2014', 'Orden ARP/121/2017', 'Reglamento (UE) 972/2020']\n"
     ]
    }
   ],
   "source": [
    "print(regex_result)"
   ]
  },
  {
   "cell_type": "code",
   "execution_count": 36,
   "metadata": {},
   "outputs": [],
   "source": [
    "## Elimina duplicados\n",
    "boletin_flat_list = list(set(regex_result))"
   ]
  },
  {
   "cell_type": "code",
   "execution_count": 37,
   "metadata": {},
   "outputs": [
    {
     "output_type": "execute_result",
     "data": {
      "text/plain": [
       "['Ley 58/2003',\n",
       " 'Ley 22/1973',\n",
       " 'Ley 4/2020',\n",
       " 'Ley 4/2008',\n",
       " 'Resolución ECO/184/2014',\n",
       " 'Ley 7/1985',\n",
       " 'Resolución CLT/187/2021',\n",
       " 'Resolución CLT/204/2021',\n",
       " 'Ley 13/2014',\n",
       " 'Ley 13/2008',\n",
       " 'Real decreto legislativo 5/2000',\n",
       " 'Real decreto 887/2006',\n",
       " 'Ley 5/2008',\n",
       " 'Ley 15/1990',\n",
       " 'Resolución CLT/613/2018',\n",
       " 'Real Decreto Legislativo 2/2004',\n",
       " 'Resolución PRE/1384/2019',\n",
       " 'Ley 12/2009',\n",
       " 'Resolución CLT/3216/2020',\n",
       " 'Real decreto 39/1997',\n",
       " 'Ley 29/1988',\n",
       " 'Orden ECO/172/2015',\n",
       " 'Reglamento (UE) 651/2014',\n",
       " 'Orden VEH/79/2020',\n",
       " 'Resolución EMC/350/2021',\n",
       " 'Real Decreto 939/2005',\n",
       " 'Ley 21/2013',\n",
       " 'Ley 20/2000',\n",
       " 'Ley 38/2003',\n",
       " 'Resolución de 30 de marzo de 1995',\n",
       " 'Ley 1/1998',\n",
       " 'Ley 29/1998',\n",
       " 'Ley 31/1995',\n",
       " 'Orden ARP/121/2017',\n",
       " 'Ley 17/2017',\n",
       " 'Ley 12/1981',\n",
       " 'Ley 22/2011',\n",
       " 'Reglamento (UE) 972/2020',\n",
       " 'Resolución CLT/198/2021',\n",
       " 'Ley 9/2017',\n",
       " 'Orden CLT/47/2014',\n",
       " 'Resolución EMC/2810/2020',\n",
       " 'Ley 40/2015',\n",
       " 'Orden CLT/4/2013',\n",
       " 'Ley 20/2009',\n",
       " 'Reglamento (UE) 702/2014',\n",
       " 'Ley 17/2020',\n",
       " 'Real decreto legislativo 1/2013',\n",
       " 'Ley 16/2002',\n",
       " 'Resolución CLT/956/2020',\n",
       " 'Reglamento (UE) 2020/2008',\n",
       " 'Ley 54/2003',\n",
       " 'Ley 19/2014',\n",
       " 'Ley 15/2020',\n",
       " 'Reglamento (UE) 2016/679',\n",
       " 'Resolución CLT/3142/2020',\n",
       " 'Ley 26/2010',\n",
       " 'Orden ARP/223/2020',\n",
       " 'Ley 18/2010',\n",
       " 'Ley 39/2015',\n",
       " 'Resolución VEH/3102/2019',\n",
       " 'Resolución CLT/845/2019',\n",
       " 'ley 3/2021',\n",
       " 'Real decreto 364/2005',\n",
       " 'Resolución TES/2921/2020',\n",
       " 'Resolución EMC/3015/2020',\n",
       " 'Resolución EMC/2928/2020',\n",
       " 'Ley 29/2010']"
      ]
     },
     "metadata": {},
     "execution_count": 37
    }
   ],
   "source": [
    "boletin_flat_list"
   ]
  },
  {
   "cell_type": "code",
   "execution_count": 38,
   "metadata": {},
   "outputs": [
    {
     "output_type": "stream",
     "name": "stdout",
     "text": [
      "['España', 'Europa', 'Cataluña']\n"
     ]
    }
   ],
   "source": [
    "# ## Importa BBDD ASECORP\n",
    "\n",
    "# Inicializa datos de BBDD_ASECORP\n",
    "boletin_ASECORP_flat_list = []\n",
    "ASECORP_BBDD = pd.DataFrame()\n",
    "ambitos = []\n",
    "\n",
    "# Incluir en llamada a función el ambito territorial como lista\n",
    "# si no se especifica ámbito los incluye todos\n",
    "boletin_ASECORP_flat_list, ASECORP_BBDD, ambitos = tagea_BBDD_ASECORP(['España','Europa','Cataluña'])\n",
    "\n",
    "print(ambitos)\n"
   ]
  },
  {
   "cell_type": "code",
   "execution_count": 39,
   "metadata": {},
   "outputs": [],
   "source": [
    "#boletin_ASECORP_flat_list"
   ]
  },
  {
   "cell_type": "code",
   "execution_count": 40,
   "metadata": {},
   "outputs": [
    {
     "output_type": "execute_result",
     "data": {
      "text/plain": [
       "set()"
      ]
     },
     "metadata": {},
     "execution_count": 40
    }
   ],
   "source": [
    "## Busca coincidencias entre lista boletines BOEs explorados y lista boletines de BBDD ASECORP\n",
    "set(boletin_flat_list) & set(boletin_ASECORP_flat_list)"
   ]
  },
  {
   "cell_type": "code",
   "execution_count": 41,
   "metadata": {},
   "outputs": [
    {
     "output_type": "stream",
     "name": "stdout",
     "text": [
      "{'Ley 9/2017'}\n",
      "{'Ley 9/2017'}\n",
      "{'Ley 20/2009'}\n",
      "{'Ley 16/2002'}\n",
      "{'Ley 12/1981'}\n",
      "{'Ley 12/1981'}\n",
      "{'Ley 16/2002'}\n",
      "{'Ley 16/2002'}\n",
      "{'Ley 20/2009'}\n",
      "{'Ley 21/2013'}\n",
      "{'Ley 22/1973'}\n",
      "{'Ley 22/2011'}\n",
      "{'Ley 22/2011', 'Ley 16/2002'}\n",
      "{'Ley 22/1973'}\n",
      "{'Ley 21/2013'}\n",
      "{'Ley 22/2011'}\n",
      "{'Ley 22/2011'}\n",
      "{'Ley 22/2011'}\n",
      "{'Ley 22/2011'}\n",
      "{'Ley 22/2011'}\n",
      "{'Ley 20/2009'}\n",
      "{'Ley 22/2011'}\n",
      "{'Ley 22/2011'}\n",
      "{'Ley 22/2011'}\n",
      "{'Ley 16/2002'}\n",
      "{'Ley 16/2002'}\n",
      "{'Ley 21/2013'}\n",
      "{'Ley 20/2009'}\n",
      "{'Ley 20/2009'}\n",
      "{'Ley 20/2009'}\n",
      "{'Ley 20/2009'}\n",
      "{'Ley 21/2013'}\n",
      "{'Ley 21/2013'}\n",
      "{'Ley 13/2014'}\n",
      "{'Ley 31/1995'}\n",
      "{'Ley 54/2003'}\n",
      "{'Ley 5/2008'}\n",
      "{'Ley 31/1995'}\n",
      "{'Ley 31/1995'}\n",
      "{'Ley 31/1995'}\n"
     ]
    }
   ],
   "source": [
    "#DOCM_sumarios['Tags'].isin(ASECORP_BBDD_BOE['Tags'])\n",
    "for row_to_compare in DOGC_sumarios['Tags']:\n",
    "    for row_comparing in ASECORP_BBDD['Tags']:\n",
    "        if set(row_comparing) & set(row_to_compare):\n",
    "            print(set(row_comparing) & set(row_to_compare))"
   ]
  },
  {
   "cell_type": "code",
   "execution_count": 42,
   "metadata": {},
   "outputs": [
    {
     "output_type": "stream",
     "name": "stdout",
     "text": [
      "{'Ley 9/2017'} LEY 9/2017 ESP\n",
      "{'Ley 9/2017'} LEY 9/2017 ESP\n",
      "{'Ley 20/2009'} BARCELONA 12/1/2011\n",
      "{'Ley 16/2002'} DEC 176/2009 CAT\n",
      "{'Ley 12/1981'} DLG 14/1994 CAT\n",
      "{'Ley 12/1981'} LEY 12/1981 CAT\n",
      "{'Ley 16/2002'} LEY 16/2002 CAT\n",
      "{'Ley 16/2002'} LEY 16/2002 ESP\n",
      "{'Ley 20/2009'} LEY 20/2009 CAT\n",
      "{'Ley 21/2013'} LEY 21/2013 ESP\n",
      "{'Ley 22/1973'} LEY 22/1973 ESP\n",
      "{'Ley 22/2011'} LEY 22/2011 ESP\n",
      "{'Ley 22/2011', 'Ley 16/2002'} LEY 5/2013 ESP\n",
      "{'Ley 22/1973'} LEY 54/1980 ESP\n",
      "{'Ley 21/2013'} LEY 9/2018 ESP\n",
      "{'Ley 22/2011'} ORD AAA/699/2016 ESP\n",
      "{'Ley 22/2011'} ORD APM/189/2018 ESP\n",
      "{'Ley 22/2011'} ORD APM/205/2018 ESP\n",
      "{'Ley 22/2011'} ORD APM/206/2018 ESP\n",
      "{'Ley 22/2011'} ORD APM/397/2018 ESP\n",
      "{'Ley 20/2009'} ORD MAH/611/2010 CAT\n",
      "{'Ley 22/2011'} ORD TEC/852/2019 ESP\n",
      "{'Ley 22/2011'} ORD TED/363/2020 ESP\n",
      "{'Ley 22/2011'} ORD TED/426/2020 ESP\n",
      "{'Ley 16/2002'} RD 509/2007 ESP\n",
      "{'Ley 16/2002'} RD 815/2013 ESP\n",
      "{'Ley 21/2013'} RES 8/3/2016 ESP\n",
      "{'Ley 20/2009'} RES TES/1007/2014 CAT\n",
      "{'Ley 20/2009'} RES TES/2243/2013 CAT\n",
      "{'Ley 20/2009'} RES TES/2330/2014 CAT\n",
      "{'Ley 20/2009'} RES TES/2799/2012 CAT\n",
      "{'Ley 21/2013'} STC 13/2015 ESP \n",
      "{'Ley 21/2013'} STC 53/2017 ESP\n",
      "{'Ley 13/2014'} LEY 13/2014 CAT\n",
      "{'Ley 31/1995'} LEY 31/1995 ESP\n",
      "{'Ley 54/2003'} LEY 54/2003 ESP\n",
      "{'Ley 5/2008'} ORD MAH/469/2010 CAT\n",
      "{'Ley 31/1995'} RD 171/2004 ESP\n",
      "{'Ley 31/1995'} RES 29/5/2017 ESP\n",
      "{'Ley 31/1995'} RES 5/11/2010 ESP\n"
     ]
    }
   ],
   "source": [
    "for i, row_to_compare in DOGC_sumarios.iterrows():\n",
    "    for j, row_comparing in ASECORP_BBDD.iterrows():\n",
    "        if set(row_to_compare['Tags']) & set(row_comparing['Tags']):\n",
    "            DOGC_sumarios['Match_ASECORP_BBDD'][i].append (ASECORP_BBDD['Codigo'][j])\n",
    "            print(str(set(row_to_compare['Tags']) & set(row_comparing['Tags'])) + ' ' + str(row_comparing['Codigo']))"
   ]
  },
  {
   "cell_type": "code",
   "execution_count": 43,
   "metadata": {},
   "outputs": [
    {
     "output_type": "execute_result",
     "data": {
      "text/plain": [
       "                                           item_Title  \\\n",
       "0   RESOLUCIÓN PRE/656/2021, de 7 de marzo, por la...   \n",
       "1   RESOLUCIÓN VEH/668/2021, de 5 de marzo, por la...   \n",
       "2   DECRETO 16/2021, de 9 de marzo, por el que se ...   \n",
       "3   ACUERDO GOV/25/2021, de 9 de marzo,  por el qu...   \n",
       "4   ACUERDO GOV/26/2021, de 9 de marzo, por el que...   \n",
       "5   RESOLUCIÓN TES/674/2021, de 9 de marzo, por la...   \n",
       "6   RESOLUCIÓN TES/642/2021, de 4 de marzo, por la...   \n",
       "7   RESOLUCIÓN CLT/635/2021, de 2 de marzo, por la...   \n",
       "8   RESOLUCIÓN CLT/636/2021, de 2 de marzo, por la...   \n",
       "9   RESOLUCIÓN CLT/637/2021, de 2 de marzo, por la...   \n",
       "10  RESOLUCIÓN CLT/557/2021, de 25 de febrero, de ...   \n",
       "11  ORDEN EMC/55/2021, de 8 de marzo, por la que s...   \n",
       "12  RESOLUCIÓN EMC/671/2021, de 5 de marzo, de seg...   \n",
       "13  RESOLUCIÓN ARP/673/2021, de 5 de marzo, por la...   \n",
       "\n",
       "                                         item_urlHTML  \\\n",
       "0   https://dogc.gencat.cat/es/document-del-dogc/?...   \n",
       "1   https://dogc.gencat.cat/es/document-del-dogc/?...   \n",
       "2   https://dogc.gencat.cat/es/document-del-dogc/?...   \n",
       "3   https://dogc.gencat.cat/es/document-del-dogc/?...   \n",
       "4   https://dogc.gencat.cat/es/document-del-dogc/?...   \n",
       "5   https://dogc.gencat.cat/es/document-del-dogc/?...   \n",
       "6   https://dogc.gencat.cat/es/document-del-dogc/?...   \n",
       "7   https://dogc.gencat.cat/es/document-del-dogc/?...   \n",
       "8   https://dogc.gencat.cat/es/document-del-dogc/?...   \n",
       "9   https://dogc.gencat.cat/es/document-del-dogc/?...   \n",
       "10  https://dogc.gencat.cat/es/document-del-dogc/?...   \n",
       "11  https://dogc.gencat.cat/es/document-del-dogc/?...   \n",
       "12  https://dogc.gencat.cat/es/document-del-dogc/?...   \n",
       "13  https://dogc.gencat.cat/es/document-del-dogc/?...   \n",
       "\n",
       "                                          item_urlPDF  \\\n",
       "0   https://portaldogc.gencat.cat/utilsEADOP/AppJa...   \n",
       "1   https://portaldogc.gencat.cat/utilsEADOP/AppJa...   \n",
       "2   https://portaldogc.gencat.cat/utilsEADOP/AppJa...   \n",
       "3   https://portaldogc.gencat.cat/utilsEADOP/AppJa...   \n",
       "4   https://portaldogc.gencat.cat/utilsEADOP/AppJa...   \n",
       "5   https://portaldogc.gencat.cat/utilsEADOP/AppJa...   \n",
       "6   https://portaldogc.gencat.cat/utilsEADOP/AppJa...   \n",
       "7   https://portaldogc.gencat.cat/utilsEADOP/AppJa...   \n",
       "8   https://portaldogc.gencat.cat/utilsEADOP/AppJa...   \n",
       "9   https://portaldogc.gencat.cat/utilsEADOP/AppJa...   \n",
       "10  https://portaldogc.gencat.cat/utilsEADOP/AppJa...   \n",
       "11  https://portaldogc.gencat.cat/utilsEADOP/AppJa...   \n",
       "12  https://portaldogc.gencat.cat/utilsEADOP/AppJa...   \n",
       "13  https://portaldogc.gencat.cat/utilsEADOP/AppJa...   \n",
       "\n",
       "                                        item_fullText  \\\n",
       "0   El Decreto 69/2008, de 1 de abril, de regulaci...   \n",
       "1   En fecha 31 de julio de 2020 se ha firmado el ...   \n",
       "2   En materia de enseñanza no universitaria, el a...   \n",
       "3   El artículo 7.2.4 de la Ley 15/1990, de 9 de j...   \n",
       "4   La estrategia de respuesta de las autoridades ...   \n",
       "5   Visto que la Ponencia Ambiental, en la sesión ...   \n",
       "6   El artículo 3.1.g) del texto refundido de la l...   \n",
       "7   Visto el Acuerdo del Consejo de Administración...   \n",
       "8   Visto el Acuerdo del Consejo de Administración...   \n",
       "9   Visto el Acuerdo del Consejo de Administración...   \n",
       "10  Vista la Resolución CLT/3142/2020, de 1 de dic...   \n",
       "11  Cataluña es un país con una sólida tradición e...   \n",
       "12  Dadas la Resolución EMC/2810/2020, de 6 de nov...   \n",
       "13  El Departamento de Agricultura, Ganadería, Pes...   \n",
       "\n",
       "                                          item_urlXML  \\\n",
       "0   [https://portaldogc.gencat.cat/utilsEADOP/AppJ...   \n",
       "1   [https://portaldogc.gencat.cat/utilsEADOP/AppJ...   \n",
       "2   [https://portaldogc.gencat.cat/utilsEADOP/AppJ...   \n",
       "3   [https://portaldogc.gencat.cat/utilsEADOP/AppJ...   \n",
       "4   [https://portaldogc.gencat.cat/utilsEADOP/AppJ...   \n",
       "5   [https://portaldogc.gencat.cat/utilsEADOP/AppJ...   \n",
       "6   [https://portaldogc.gencat.cat/utilsEADOP/AppJ...   \n",
       "7   [https://portaldogc.gencat.cat/utilsEADOP/AppJ...   \n",
       "8   [https://portaldogc.gencat.cat/utilsEADOP/AppJ...   \n",
       "9   [https://portaldogc.gencat.cat/utilsEADOP/AppJ...   \n",
       "10  [https://portaldogc.gencat.cat/utilsEADOP/AppJ...   \n",
       "11  [https://portaldogc.gencat.cat/utilsEADOP/AppJ...   \n",
       "12  [https://portaldogc.gencat.cat/utilsEADOP/AppJ...   \n",
       "13  [https://portaldogc.gencat.cat/utilsEADOP/AppJ...   \n",
       "\n",
       "                   tipo_doc     fecha_doc       numero_doc numero_control  \\\n",
       "0              [Resolución]  [07/03/2021]  [PRE/0656/2021]     [21068043]   \n",
       "1              [Resolución]  [05/03/2021]  [VEH/0668/2021]     [21068044]   \n",
       "2                 [Decreto]  [09/03/2021]       [016/2021]     [21068120]   \n",
       "3   [Acuerdo del gobierno ]  [09/03/2021]  [GOV/0025/2021]     [21069006]   \n",
       "4   [Acuerdo del gobierno ]  [09/03/2021]  [GOV/0026/2021]     [21069007]   \n",
       "5              [Resolución]  [09/03/2021]  [TES/0674/2021]     [21068047]   \n",
       "6              [Resolución]  [04/03/2021]  [TES/0642/2021]     [21067039]   \n",
       "7              [Resolución]  [02/03/2021]  [CLT/0635/2021]     [21067042]   \n",
       "8              [Resolución]  [02/03/2021]  [CLT/0636/2021]     [21067043]   \n",
       "9              [Resolución]  [02/03/2021]  [CLT/0637/2021]     [21067044]   \n",
       "10             [Resolución]  [25/02/2021]  [CLT/0557/2021]     [21060042]   \n",
       "11                  [Orden]  [08/03/2021]  [EMC/0055/2021]     [21068061]   \n",
       "12             [Resolución]  [05/03/2021]  [EMC/0671/2021]     [21068062]   \n",
       "13             [Resolución]  [05/03/2021]  [ARP/0673/2021]     [21068064]   \n",
       "\n",
       "                                      entidad_emisora  \\\n",
       "0                    [Departamento de la Presidencia]   \n",
       "1                    [Agencia Tributaria de Cataluña]   \n",
       "2                         [Departamento de Educación]   \n",
       "3                             [Departamento de Salud]   \n",
       "4                             [Departamento de Salud]   \n",
       "5       [Departamento de Territorio y Sostenibilidad]   \n",
       "6                         [Agencia Catalana del Agua]   \n",
       "7         [Oficina de Apoyo a la Iniciativa Cultural]   \n",
       "8         [Oficina de Apoyo a la Iniciativa Cultural]   \n",
       "9         [Oficina de Apoyo a la Iniciativa Cultural]   \n",
       "10     [Instituto Catalán de las Empresas Culturales]   \n",
       "11           [Departamento de Empresa y Conocimiento]   \n",
       "12                      [Agencia Catalana de Turismo]   \n",
       "13  [Departamento de Agricultura, Ganadería, Pesca...   \n",
       "\n",
       "                           CVE numero_DOGC    fecha_DOGC     seccion_DOGC  \\\n",
       "0   [CVE-DOGC-B-21068043-2021]      [8362]  [11/03/2021]  [Disposiciones]   \n",
       "1   [CVE-DOGC-B-21068044-2021]      [8362]  [11/03/2021]  [Disposiciones]   \n",
       "2   [CVE-DOGC-B-21068120-2021]      [8362]  [11/03/2021]  [Disposiciones]   \n",
       "3   [CVE-DOGC-B-21069006-2021]      [8362]  [11/03/2021]  [Disposiciones]   \n",
       "4   [CVE-DOGC-B-21069007-2021]      [8362]  [11/03/2021]  [Disposiciones]   \n",
       "5   [CVE-DOGC-B-21068047-2021]      [8362]  [11/03/2021]  [Disposiciones]   \n",
       "6   [CVE-DOGC-B-21067039-2021]      [8362]  [11/03/2021]  [Disposiciones]   \n",
       "7   [CVE-DOGC-B-21067042-2021]      [8362]  [11/03/2021]  [Disposiciones]   \n",
       "8   [CVE-DOGC-B-21067043-2021]      [8362]  [11/03/2021]  [Disposiciones]   \n",
       "9   [CVE-DOGC-B-21067044-2021]      [8362]  [11/03/2021]  [Disposiciones]   \n",
       "10  [CVE-DOGC-B-21060042-2021]      [8362]  [11/03/2021]  [Disposiciones]   \n",
       "11  [CVE-DOGC-B-21068061-2021]      [8362]  [11/03/2021]  [Disposiciones]   \n",
       "12  [CVE-DOGC-B-21068062-2021]      [8362]  [11/03/2021]  [Disposiciones]   \n",
       "13  [CVE-DOGC-B-21068064-2021]      [8362]  [11/03/2021]  [Disposiciones]   \n",
       "\n",
       "                                                 Tags  \\\n",
       "0   [Ley 4/2020, Ley 19/2014, Orden ECO/172/2015, ...   \n",
       "1   [Ley 58/2003, Ley 40/2015, Ley 19/2014, Reglam...   \n",
       "2   [Ley 19/2014, Ley 13/2008, Ley 12/2009, Ley 26...   \n",
       "3   [Resolución de 30 de marzo de 1995, Ley 13/200...   \n",
       "4                                                  []   \n",
       "5   [Ley 22/1973, Ley 21/2013, Ley 20/2009, Ley 12...   \n",
       "6   [Resolución TES/2921/2020, Ley 39/2015, Ley 29...   \n",
       "7   [Resolución CLT/956/2020, Orden CLT/4/2013, Re...   \n",
       "8   [Resolución CLT/956/2020, Orden CLT/4/2013, Le...   \n",
       "9   [Orden CLT/4/2013, Resolución CLT/613/2018, Re...   \n",
       "10  [Orden CLT/4/2013, Resolución CLT/3142/2020, R...   \n",
       "11  [Ley 4/2008, Ley 13/2014, Real decreto legisla...   \n",
       "12  [Resolución EMC/350/2021, Ley 38/2003, Ley 39/...   \n",
       "13  [Reglamento (UE) 2020/2008, Reglamento (UE) 65...   \n",
       "\n",
       "                                   Match_ASECORP_BBDD  \n",
       "0                                                  []  \n",
       "1                                    [LEY 9/2017 ESP]  \n",
       "2                                                  []  \n",
       "3                                    [LEY 9/2017 ESP]  \n",
       "4                                                  []  \n",
       "5   [BARCELONA 12/1/2011, DEC 176/2009 CAT, DLG 14...  \n",
       "6                                                  []  \n",
       "7                                                  []  \n",
       "8                                                  []  \n",
       "9                                                  []  \n",
       "10                                                 []  \n",
       "11  [LEY 13/2014 CAT, LEY 31/1995 ESP, LEY 54/2003...  \n",
       "12                                                 []  \n",
       "13                                                 []  "
      ],
      "text/html": "<div>\n<style scoped>\n    .dataframe tbody tr th:only-of-type {\n        vertical-align: middle;\n    }\n\n    .dataframe tbody tr th {\n        vertical-align: top;\n    }\n\n    .dataframe thead th {\n        text-align: right;\n    }\n</style>\n<table border=\"1\" class=\"dataframe\">\n  <thead>\n    <tr style=\"text-align: right;\">\n      <th></th>\n      <th>item_Title</th>\n      <th>item_urlHTML</th>\n      <th>item_urlPDF</th>\n      <th>item_fullText</th>\n      <th>item_urlXML</th>\n      <th>tipo_doc</th>\n      <th>fecha_doc</th>\n      <th>numero_doc</th>\n      <th>numero_control</th>\n      <th>entidad_emisora</th>\n      <th>CVE</th>\n      <th>numero_DOGC</th>\n      <th>fecha_DOGC</th>\n      <th>seccion_DOGC</th>\n      <th>Tags</th>\n      <th>Match_ASECORP_BBDD</th>\n    </tr>\n  </thead>\n  <tbody>\n    <tr>\n      <th>0</th>\n      <td>RESOLUCIÓN PRE/656/2021, de 7 de marzo, por la...</td>\n      <td>https://dogc.gencat.cat/es/document-del-dogc/?...</td>\n      <td>https://portaldogc.gencat.cat/utilsEADOP/AppJa...</td>\n      <td>El Decreto 69/2008, de 1 de abril, de regulaci...</td>\n      <td>[https://portaldogc.gencat.cat/utilsEADOP/AppJ...</td>\n      <td>[Resolución]</td>\n      <td>[07/03/2021]</td>\n      <td>[PRE/0656/2021]</td>\n      <td>[21068043]</td>\n      <td>[Departamento de la Presidencia]</td>\n      <td>[CVE-DOGC-B-21068043-2021]</td>\n      <td>[8362]</td>\n      <td>[11/03/2021]</td>\n      <td>[Disposiciones]</td>\n      <td>[Ley 4/2020, Ley 19/2014, Orden ECO/172/2015, ...</td>\n      <td>[]</td>\n    </tr>\n    <tr>\n      <th>1</th>\n      <td>RESOLUCIÓN VEH/668/2021, de 5 de marzo, por la...</td>\n      <td>https://dogc.gencat.cat/es/document-del-dogc/?...</td>\n      <td>https://portaldogc.gencat.cat/utilsEADOP/AppJa...</td>\n      <td>En fecha 31 de julio de 2020 se ha firmado el ...</td>\n      <td>[https://portaldogc.gencat.cat/utilsEADOP/AppJ...</td>\n      <td>[Resolución]</td>\n      <td>[05/03/2021]</td>\n      <td>[VEH/0668/2021]</td>\n      <td>[21068044]</td>\n      <td>[Agencia Tributaria de Cataluña]</td>\n      <td>[CVE-DOGC-B-21068044-2021]</td>\n      <td>[8362]</td>\n      <td>[11/03/2021]</td>\n      <td>[Disposiciones]</td>\n      <td>[Ley 58/2003, Ley 40/2015, Ley 19/2014, Reglam...</td>\n      <td>[LEY 9/2017 ESP]</td>\n    </tr>\n    <tr>\n      <th>2</th>\n      <td>DECRETO 16/2021, de 9 de marzo, por el que se ...</td>\n      <td>https://dogc.gencat.cat/es/document-del-dogc/?...</td>\n      <td>https://portaldogc.gencat.cat/utilsEADOP/AppJa...</td>\n      <td>En materia de enseñanza no universitaria, el a...</td>\n      <td>[https://portaldogc.gencat.cat/utilsEADOP/AppJ...</td>\n      <td>[Decreto]</td>\n      <td>[09/03/2021]</td>\n      <td>[016/2021]</td>\n      <td>[21068120]</td>\n      <td>[Departamento de Educación]</td>\n      <td>[CVE-DOGC-B-21068120-2021]</td>\n      <td>[8362]</td>\n      <td>[11/03/2021]</td>\n      <td>[Disposiciones]</td>\n      <td>[Ley 19/2014, Ley 13/2008, Ley 12/2009, Ley 26...</td>\n      <td>[]</td>\n    </tr>\n    <tr>\n      <th>3</th>\n      <td>ACUERDO GOV/25/2021, de 9 de marzo,  por el qu...</td>\n      <td>https://dogc.gencat.cat/es/document-del-dogc/?...</td>\n      <td>https://portaldogc.gencat.cat/utilsEADOP/AppJa...</td>\n      <td>El artículo 7.2.4 de la Ley 15/1990, de 9 de j...</td>\n      <td>[https://portaldogc.gencat.cat/utilsEADOP/AppJ...</td>\n      <td>[Acuerdo del gobierno ]</td>\n      <td>[09/03/2021]</td>\n      <td>[GOV/0025/2021]</td>\n      <td>[21069006]</td>\n      <td>[Departamento de Salud]</td>\n      <td>[CVE-DOGC-B-21069006-2021]</td>\n      <td>[8362]</td>\n      <td>[11/03/2021]</td>\n      <td>[Disposiciones]</td>\n      <td>[Resolución de 30 de marzo de 1995, Ley 13/200...</td>\n      <td>[LEY 9/2017 ESP]</td>\n    </tr>\n    <tr>\n      <th>4</th>\n      <td>ACUERDO GOV/26/2021, de 9 de marzo, por el que...</td>\n      <td>https://dogc.gencat.cat/es/document-del-dogc/?...</td>\n      <td>https://portaldogc.gencat.cat/utilsEADOP/AppJa...</td>\n      <td>La estrategia de respuesta de las autoridades ...</td>\n      <td>[https://portaldogc.gencat.cat/utilsEADOP/AppJ...</td>\n      <td>[Acuerdo del gobierno ]</td>\n      <td>[09/03/2021]</td>\n      <td>[GOV/0026/2021]</td>\n      <td>[21069007]</td>\n      <td>[Departamento de Salud]</td>\n      <td>[CVE-DOGC-B-21069007-2021]</td>\n      <td>[8362]</td>\n      <td>[11/03/2021]</td>\n      <td>[Disposiciones]</td>\n      <td>[]</td>\n      <td>[]</td>\n    </tr>\n    <tr>\n      <th>5</th>\n      <td>RESOLUCIÓN TES/674/2021, de 9 de marzo, por la...</td>\n      <td>https://dogc.gencat.cat/es/document-del-dogc/?...</td>\n      <td>https://portaldogc.gencat.cat/utilsEADOP/AppJa...</td>\n      <td>Visto que la Ponencia Ambiental, en la sesión ...</td>\n      <td>[https://portaldogc.gencat.cat/utilsEADOP/AppJ...</td>\n      <td>[Resolución]</td>\n      <td>[09/03/2021]</td>\n      <td>[TES/0674/2021]</td>\n      <td>[21068047]</td>\n      <td>[Departamento de Territorio y Sostenibilidad]</td>\n      <td>[CVE-DOGC-B-21068047-2021]</td>\n      <td>[8362]</td>\n      <td>[11/03/2021]</td>\n      <td>[Disposiciones]</td>\n      <td>[Ley 22/1973, Ley 21/2013, Ley 20/2009, Ley 12...</td>\n      <td>[BARCELONA 12/1/2011, DEC 176/2009 CAT, DLG 14...</td>\n    </tr>\n    <tr>\n      <th>6</th>\n      <td>RESOLUCIÓN TES/642/2021, de 4 de marzo, por la...</td>\n      <td>https://dogc.gencat.cat/es/document-del-dogc/?...</td>\n      <td>https://portaldogc.gencat.cat/utilsEADOP/AppJa...</td>\n      <td>El artículo 3.1.g) del texto refundido de la l...</td>\n      <td>[https://portaldogc.gencat.cat/utilsEADOP/AppJ...</td>\n      <td>[Resolución]</td>\n      <td>[04/03/2021]</td>\n      <td>[TES/0642/2021]</td>\n      <td>[21067039]</td>\n      <td>[Agencia Catalana del Agua]</td>\n      <td>[CVE-DOGC-B-21067039-2021]</td>\n      <td>[8362]</td>\n      <td>[11/03/2021]</td>\n      <td>[Disposiciones]</td>\n      <td>[Resolución TES/2921/2020, Ley 39/2015, Ley 29...</td>\n      <td>[]</td>\n    </tr>\n    <tr>\n      <th>7</th>\n      <td>RESOLUCIÓN CLT/635/2021, de 2 de marzo, por la...</td>\n      <td>https://dogc.gencat.cat/es/document-del-dogc/?...</td>\n      <td>https://portaldogc.gencat.cat/utilsEADOP/AppJa...</td>\n      <td>Visto el Acuerdo del Consejo de Administración...</td>\n      <td>[https://portaldogc.gencat.cat/utilsEADOP/AppJ...</td>\n      <td>[Resolución]</td>\n      <td>[02/03/2021]</td>\n      <td>[CLT/0635/2021]</td>\n      <td>[21067042]</td>\n      <td>[Oficina de Apoyo a la Iniciativa Cultural]</td>\n      <td>[CVE-DOGC-B-21067042-2021]</td>\n      <td>[8362]</td>\n      <td>[11/03/2021]</td>\n      <td>[Disposiciones]</td>\n      <td>[Resolución CLT/956/2020, Orden CLT/4/2013, Re...</td>\n      <td>[]</td>\n    </tr>\n    <tr>\n      <th>8</th>\n      <td>RESOLUCIÓN CLT/636/2021, de 2 de marzo, por la...</td>\n      <td>https://dogc.gencat.cat/es/document-del-dogc/?...</td>\n      <td>https://portaldogc.gencat.cat/utilsEADOP/AppJa...</td>\n      <td>Visto el Acuerdo del Consejo de Administración...</td>\n      <td>[https://portaldogc.gencat.cat/utilsEADOP/AppJ...</td>\n      <td>[Resolución]</td>\n      <td>[02/03/2021]</td>\n      <td>[CLT/0636/2021]</td>\n      <td>[21067043]</td>\n      <td>[Oficina de Apoyo a la Iniciativa Cultural]</td>\n      <td>[CVE-DOGC-B-21067043-2021]</td>\n      <td>[8362]</td>\n      <td>[11/03/2021]</td>\n      <td>[Disposiciones]</td>\n      <td>[Resolución CLT/956/2020, Orden CLT/4/2013, Le...</td>\n      <td>[]</td>\n    </tr>\n    <tr>\n      <th>9</th>\n      <td>RESOLUCIÓN CLT/637/2021, de 2 de marzo, por la...</td>\n      <td>https://dogc.gencat.cat/es/document-del-dogc/?...</td>\n      <td>https://portaldogc.gencat.cat/utilsEADOP/AppJa...</td>\n      <td>Visto el Acuerdo del Consejo de Administración...</td>\n      <td>[https://portaldogc.gencat.cat/utilsEADOP/AppJ...</td>\n      <td>[Resolución]</td>\n      <td>[02/03/2021]</td>\n      <td>[CLT/0637/2021]</td>\n      <td>[21067044]</td>\n      <td>[Oficina de Apoyo a la Iniciativa Cultural]</td>\n      <td>[CVE-DOGC-B-21067044-2021]</td>\n      <td>[8362]</td>\n      <td>[11/03/2021]</td>\n      <td>[Disposiciones]</td>\n      <td>[Orden CLT/4/2013, Resolución CLT/613/2018, Re...</td>\n      <td>[]</td>\n    </tr>\n    <tr>\n      <th>10</th>\n      <td>RESOLUCIÓN CLT/557/2021, de 25 de febrero, de ...</td>\n      <td>https://dogc.gencat.cat/es/document-del-dogc/?...</td>\n      <td>https://portaldogc.gencat.cat/utilsEADOP/AppJa...</td>\n      <td>Vista la Resolución CLT/3142/2020, de 1 de dic...</td>\n      <td>[https://portaldogc.gencat.cat/utilsEADOP/AppJ...</td>\n      <td>[Resolución]</td>\n      <td>[25/02/2021]</td>\n      <td>[CLT/0557/2021]</td>\n      <td>[21060042]</td>\n      <td>[Instituto Catalán de las Empresas Culturales]</td>\n      <td>[CVE-DOGC-B-21060042-2021]</td>\n      <td>[8362]</td>\n      <td>[11/03/2021]</td>\n      <td>[Disposiciones]</td>\n      <td>[Orden CLT/4/2013, Resolución CLT/3142/2020, R...</td>\n      <td>[]</td>\n    </tr>\n    <tr>\n      <th>11</th>\n      <td>ORDEN EMC/55/2021, de 8 de marzo, por la que s...</td>\n      <td>https://dogc.gencat.cat/es/document-del-dogc/?...</td>\n      <td>https://portaldogc.gencat.cat/utilsEADOP/AppJa...</td>\n      <td>Cataluña es un país con una sólida tradición e...</td>\n      <td>[https://portaldogc.gencat.cat/utilsEADOP/AppJ...</td>\n      <td>[Orden]</td>\n      <td>[08/03/2021]</td>\n      <td>[EMC/0055/2021]</td>\n      <td>[21068061]</td>\n      <td>[Departamento de Empresa y Conocimiento]</td>\n      <td>[CVE-DOGC-B-21068061-2021]</td>\n      <td>[8362]</td>\n      <td>[11/03/2021]</td>\n      <td>[Disposiciones]</td>\n      <td>[Ley 4/2008, Ley 13/2014, Real decreto legisla...</td>\n      <td>[LEY 13/2014 CAT, LEY 31/1995 ESP, LEY 54/2003...</td>\n    </tr>\n    <tr>\n      <th>12</th>\n      <td>RESOLUCIÓN EMC/671/2021, de 5 de marzo, de seg...</td>\n      <td>https://dogc.gencat.cat/es/document-del-dogc/?...</td>\n      <td>https://portaldogc.gencat.cat/utilsEADOP/AppJa...</td>\n      <td>Dadas la Resolución EMC/2810/2020, de 6 de nov...</td>\n      <td>[https://portaldogc.gencat.cat/utilsEADOP/AppJ...</td>\n      <td>[Resolución]</td>\n      <td>[05/03/2021]</td>\n      <td>[EMC/0671/2021]</td>\n      <td>[21068062]</td>\n      <td>[Agencia Catalana de Turismo]</td>\n      <td>[CVE-DOGC-B-21068062-2021]</td>\n      <td>[8362]</td>\n      <td>[11/03/2021]</td>\n      <td>[Disposiciones]</td>\n      <td>[Resolución EMC/350/2021, Ley 38/2003, Ley 39/...</td>\n      <td>[]</td>\n    </tr>\n    <tr>\n      <th>13</th>\n      <td>RESOLUCIÓN ARP/673/2021, de 5 de marzo, por la...</td>\n      <td>https://dogc.gencat.cat/es/document-del-dogc/?...</td>\n      <td>https://portaldogc.gencat.cat/utilsEADOP/AppJa...</td>\n      <td>El Departamento de Agricultura, Ganadería, Pes...</td>\n      <td>[https://portaldogc.gencat.cat/utilsEADOP/AppJ...</td>\n      <td>[Resolución]</td>\n      <td>[05/03/2021]</td>\n      <td>[ARP/0673/2021]</td>\n      <td>[21068064]</td>\n      <td>[Departamento de Agricultura, Ganadería, Pesca...</td>\n      <td>[CVE-DOGC-B-21068064-2021]</td>\n      <td>[8362]</td>\n      <td>[11/03/2021]</td>\n      <td>[Disposiciones]</td>\n      <td>[Reglamento (UE) 2020/2008, Reglamento (UE) 65...</td>\n      <td>[]</td>\n    </tr>\n  </tbody>\n</table>\n</div>"
     },
     "metadata": {},
     "execution_count": 43
    }
   ],
   "source": [
    "DOGC_sumarios"
   ]
  },
  {
   "source": [
    "# Genera Fichero EXCEL de resultados"
   ],
   "cell_type": "markdown",
   "metadata": {}
  },
  {
   "cell_type": "code",
   "execution_count": 44,
   "metadata": {},
   "outputs": [],
   "source": [
    "DOGC_sumarios_final = DOGC_sumarios"
   ]
  },
  {
   "cell_type": "code",
   "execution_count": 45,
   "metadata": {},
   "outputs": [
    {
     "output_type": "execute_result",
     "data": {
      "text/plain": [
       "item_Title            object\n",
       "item_urlHTML          object\n",
       "item_urlPDF           object\n",
       "item_fullText         object\n",
       "item_urlXML           object\n",
       "tipo_doc              object\n",
       "fecha_doc             object\n",
       "numero_doc            object\n",
       "numero_control        object\n",
       "entidad_emisora       object\n",
       "CVE                   object\n",
       "numero_DOGC           object\n",
       "fecha_DOGC            object\n",
       "seccion_DOGC          object\n",
       "Tags                  object\n",
       "Match_ASECORP_BBDD    object\n",
       "dtype: object"
      ]
     },
     "metadata": {},
     "execution_count": 45
    }
   ],
   "source": [
    "DOGC_sumarios_final.dtypes"
   ]
  },
  {
   "cell_type": "code",
   "execution_count": 46,
   "metadata": {},
   "outputs": [],
   "source": [
    "## Cambia orden de columnas y elimina las no necesarias  \n",
    "DOGC_sumarios_final.rename(columns={'CVE': 'Item_id', 'item_Title': 'Item_Title', 'item_urlPDF': 'PDF_Link', 'fecha_DOGC': 'Fecha_publicacion'}, inplace=True)\n",
    "DOGC_sumarios_final = DOGC_sumarios[['Item_id','Item_Title','PDF_Link','Fecha_publicacion','Tags','Match_ASECORP_BBDD']]"
   ]
  },
  {
   "cell_type": "code",
   "execution_count": 47,
   "metadata": {},
   "outputs": [],
   "source": [
    "## Crea función que convierte lista a string en todas las columnas de DOCM_sumarios\n",
    "## para evitar en presentación final los caracteres [' '] propios de las listas\n",
    "def list2Str(lst):\n",
    "    if type(lst) is list: # apply conversion to list columns\n",
    "        return\", \".join(lst)\n",
    "    else:\n",
    "        return lst"
   ]
  },
  {
   "cell_type": "code",
   "execution_count": 48,
   "metadata": {},
   "outputs": [],
   "source": [
    "\n",
    "DOGC_sumarios_final = DOGC_sumarios_final.apply(lambda x: [list2Str(i) for i in x])"
   ]
  },
  {
   "cell_type": "code",
   "execution_count": 49,
   "metadata": {},
   "outputs": [],
   "source": [
    "## Generar hyperlink a artículo BOE en CSV \"=HYPERLINK(\"https://www.boe.es/boe/dias/2021/02/02/pdfs/BOE-A-2021-1474.pdf\";\"BOE-A-2021-1474\")\"\n",
    "## https://www.boe.es/diario_boe/xml.php?id=## https://www.boe.es/boe/dias/2021/02/02/pdfs/BOE-A-2021-1474.pdf\n",
    "\n",
    "DOGC_sumarios_final_CSV = DOGC_sumarios_final"
   ]
  },
  {
   "cell_type": "code",
   "execution_count": 50,
   "metadata": {},
   "outputs": [],
   "source": [
    "DOGC_sumarios_final_CSV['item_id'] = '=HIPERVINCULO(' + '\"' + DOGC_sumarios_final_CSV['PDF_Link'] + '\";' \\\n",
    "                                                        + '\"' + DOGC_sumarios_final_CSV['Item_id'] + '\")'      "
   ]
  },
  {
   "cell_type": "code",
   "execution_count": 51,
   "metadata": {},
   "outputs": [
    {
     "output_type": "execute_result",
     "data": {
      "text/plain": [
       "'=HIPERVINCULO(\"https://portaldogc.gencat.cat/utilsEADOP/AppJava/PdfProviderServlet?documentId=895401&type=01&language=es_ES\";\"CVE-DOGC-B-21068043-2021\")'"
      ]
     },
     "metadata": {},
     "execution_count": 51
    }
   ],
   "source": [
    "DOGC_sumarios_final_CSV['item_id'][0]"
   ]
  },
  {
   "cell_type": "code",
   "execution_count": 52,
   "metadata": {},
   "outputs": [],
   "source": [
    "# Elimina columna PDF_Link\n",
    "DOGC_sumarios_final_CSV = DOGC_sumarios_final_CSV[['Item_id','Item_Title','Fecha_publicacion','Tags','Match_ASECORP_BBDD']]"
   ]
  },
  {
   "cell_type": "code",
   "execution_count": 53,
   "metadata": {},
   "outputs": [
    {
     "output_type": "execute_result",
     "data": {
      "text/plain": [
       "                     Item_id  \\\n",
       "0   CVE-DOGC-B-21068043-2021   \n",
       "1   CVE-DOGC-B-21068044-2021   \n",
       "2   CVE-DOGC-B-21068120-2021   \n",
       "3   CVE-DOGC-B-21069006-2021   \n",
       "4   CVE-DOGC-B-21069007-2021   \n",
       "5   CVE-DOGC-B-21068047-2021   \n",
       "6   CVE-DOGC-B-21067039-2021   \n",
       "7   CVE-DOGC-B-21067042-2021   \n",
       "8   CVE-DOGC-B-21067043-2021   \n",
       "9   CVE-DOGC-B-21067044-2021   \n",
       "10  CVE-DOGC-B-21060042-2021   \n",
       "11  CVE-DOGC-B-21068061-2021   \n",
       "12  CVE-DOGC-B-21068062-2021   \n",
       "13  CVE-DOGC-B-21068064-2021   \n",
       "\n",
       "                                           Item_Title Fecha_publicacion  \\\n",
       "0   RESOLUCIÓN PRE/656/2021, de 7 de marzo, por la...        11/03/2021   \n",
       "1   RESOLUCIÓN VEH/668/2021, de 5 de marzo, por la...        11/03/2021   \n",
       "2   DECRETO 16/2021, de 9 de marzo, por el que se ...        11/03/2021   \n",
       "3   ACUERDO GOV/25/2021, de 9 de marzo,  por el qu...        11/03/2021   \n",
       "4   ACUERDO GOV/26/2021, de 9 de marzo, por el que...        11/03/2021   \n",
       "5   RESOLUCIÓN TES/674/2021, de 9 de marzo, por la...        11/03/2021   \n",
       "6   RESOLUCIÓN TES/642/2021, de 4 de marzo, por la...        11/03/2021   \n",
       "7   RESOLUCIÓN CLT/635/2021, de 2 de marzo, por la...        11/03/2021   \n",
       "8   RESOLUCIÓN CLT/636/2021, de 2 de marzo, por la...        11/03/2021   \n",
       "9   RESOLUCIÓN CLT/637/2021, de 2 de marzo, por la...        11/03/2021   \n",
       "10  RESOLUCIÓN CLT/557/2021, de 25 de febrero, de ...        11/03/2021   \n",
       "11  ORDEN EMC/55/2021, de 8 de marzo, por la que s...        11/03/2021   \n",
       "12  RESOLUCIÓN EMC/671/2021, de 5 de marzo, de seg...        11/03/2021   \n",
       "13  RESOLUCIÓN ARP/673/2021, de 5 de marzo, por la...        11/03/2021   \n",
       "\n",
       "                                                 Tags  \\\n",
       "0   Ley 4/2020, Ley 19/2014, Orden ECO/172/2015, O...   \n",
       "1   Ley 58/2003, Ley 40/2015, Ley 19/2014, Reglame...   \n",
       "2   Ley 19/2014, Ley 13/2008, Ley 12/2009, Ley 26/...   \n",
       "3   Resolución de 30 de marzo de 1995, Ley 13/2008...   \n",
       "4                                                       \n",
       "5   Ley 22/1973, Ley 21/2013, Ley 20/2009, Ley 12/...   \n",
       "6   Resolución TES/2921/2020, Ley 39/2015, Ley 29/...   \n",
       "7   Resolución CLT/956/2020, Orden CLT/4/2013, Res...   \n",
       "8   Resolución CLT/956/2020, Orden CLT/4/2013, Ley...   \n",
       "9   Orden CLT/4/2013, Resolución CLT/613/2018, Res...   \n",
       "10  Orden CLT/4/2013, Resolución CLT/3142/2020, Re...   \n",
       "11  Ley 4/2008, Ley 13/2014, Real decreto legislat...   \n",
       "12  Resolución EMC/350/2021, Ley 38/2003, Ley 39/2...   \n",
       "13  Reglamento (UE) 2020/2008, Reglamento (UE) 651...   \n",
       "\n",
       "                                   Match_ASECORP_BBDD  \n",
       "0                                                      \n",
       "1                                      LEY 9/2017 ESP  \n",
       "2                                                      \n",
       "3                                      LEY 9/2017 ESP  \n",
       "4                                                      \n",
       "5   BARCELONA 12/1/2011, DEC 176/2009 CAT, DLG 14/...  \n",
       "6                                                      \n",
       "7                                                      \n",
       "8                                                      \n",
       "9                                                      \n",
       "10                                                     \n",
       "11  LEY 13/2014 CAT, LEY 31/1995 ESP, LEY 54/2003 ...  \n",
       "12                                                     \n",
       "13                                                     "
      ],
      "text/html": "<div>\n<style scoped>\n    .dataframe tbody tr th:only-of-type {\n        vertical-align: middle;\n    }\n\n    .dataframe tbody tr th {\n        vertical-align: top;\n    }\n\n    .dataframe thead th {\n        text-align: right;\n    }\n</style>\n<table border=\"1\" class=\"dataframe\">\n  <thead>\n    <tr style=\"text-align: right;\">\n      <th></th>\n      <th>Item_id</th>\n      <th>Item_Title</th>\n      <th>Fecha_publicacion</th>\n      <th>Tags</th>\n      <th>Match_ASECORP_BBDD</th>\n    </tr>\n  </thead>\n  <tbody>\n    <tr>\n      <th>0</th>\n      <td>CVE-DOGC-B-21068043-2021</td>\n      <td>RESOLUCIÓN PRE/656/2021, de 7 de marzo, por la...</td>\n      <td>11/03/2021</td>\n      <td>Ley 4/2020, Ley 19/2014, Orden ECO/172/2015, O...</td>\n      <td></td>\n    </tr>\n    <tr>\n      <th>1</th>\n      <td>CVE-DOGC-B-21068044-2021</td>\n      <td>RESOLUCIÓN VEH/668/2021, de 5 de marzo, por la...</td>\n      <td>11/03/2021</td>\n      <td>Ley 58/2003, Ley 40/2015, Ley 19/2014, Reglame...</td>\n      <td>LEY 9/2017 ESP</td>\n    </tr>\n    <tr>\n      <th>2</th>\n      <td>CVE-DOGC-B-21068120-2021</td>\n      <td>DECRETO 16/2021, de 9 de marzo, por el que se ...</td>\n      <td>11/03/2021</td>\n      <td>Ley 19/2014, Ley 13/2008, Ley 12/2009, Ley 26/...</td>\n      <td></td>\n    </tr>\n    <tr>\n      <th>3</th>\n      <td>CVE-DOGC-B-21069006-2021</td>\n      <td>ACUERDO GOV/25/2021, de 9 de marzo,  por el qu...</td>\n      <td>11/03/2021</td>\n      <td>Resolución de 30 de marzo de 1995, Ley 13/2008...</td>\n      <td>LEY 9/2017 ESP</td>\n    </tr>\n    <tr>\n      <th>4</th>\n      <td>CVE-DOGC-B-21069007-2021</td>\n      <td>ACUERDO GOV/26/2021, de 9 de marzo, por el que...</td>\n      <td>11/03/2021</td>\n      <td></td>\n      <td></td>\n    </tr>\n    <tr>\n      <th>5</th>\n      <td>CVE-DOGC-B-21068047-2021</td>\n      <td>RESOLUCIÓN TES/674/2021, de 9 de marzo, por la...</td>\n      <td>11/03/2021</td>\n      <td>Ley 22/1973, Ley 21/2013, Ley 20/2009, Ley 12/...</td>\n      <td>BARCELONA 12/1/2011, DEC 176/2009 CAT, DLG 14/...</td>\n    </tr>\n    <tr>\n      <th>6</th>\n      <td>CVE-DOGC-B-21067039-2021</td>\n      <td>RESOLUCIÓN TES/642/2021, de 4 de marzo, por la...</td>\n      <td>11/03/2021</td>\n      <td>Resolución TES/2921/2020, Ley 39/2015, Ley 29/...</td>\n      <td></td>\n    </tr>\n    <tr>\n      <th>7</th>\n      <td>CVE-DOGC-B-21067042-2021</td>\n      <td>RESOLUCIÓN CLT/635/2021, de 2 de marzo, por la...</td>\n      <td>11/03/2021</td>\n      <td>Resolución CLT/956/2020, Orden CLT/4/2013, Res...</td>\n      <td></td>\n    </tr>\n    <tr>\n      <th>8</th>\n      <td>CVE-DOGC-B-21067043-2021</td>\n      <td>RESOLUCIÓN CLT/636/2021, de 2 de marzo, por la...</td>\n      <td>11/03/2021</td>\n      <td>Resolución CLT/956/2020, Orden CLT/4/2013, Ley...</td>\n      <td></td>\n    </tr>\n    <tr>\n      <th>9</th>\n      <td>CVE-DOGC-B-21067044-2021</td>\n      <td>RESOLUCIÓN CLT/637/2021, de 2 de marzo, por la...</td>\n      <td>11/03/2021</td>\n      <td>Orden CLT/4/2013, Resolución CLT/613/2018, Res...</td>\n      <td></td>\n    </tr>\n    <tr>\n      <th>10</th>\n      <td>CVE-DOGC-B-21060042-2021</td>\n      <td>RESOLUCIÓN CLT/557/2021, de 25 de febrero, de ...</td>\n      <td>11/03/2021</td>\n      <td>Orden CLT/4/2013, Resolución CLT/3142/2020, Re...</td>\n      <td></td>\n    </tr>\n    <tr>\n      <th>11</th>\n      <td>CVE-DOGC-B-21068061-2021</td>\n      <td>ORDEN EMC/55/2021, de 8 de marzo, por la que s...</td>\n      <td>11/03/2021</td>\n      <td>Ley 4/2008, Ley 13/2014, Real decreto legislat...</td>\n      <td>LEY 13/2014 CAT, LEY 31/1995 ESP, LEY 54/2003 ...</td>\n    </tr>\n    <tr>\n      <th>12</th>\n      <td>CVE-DOGC-B-21068062-2021</td>\n      <td>RESOLUCIÓN EMC/671/2021, de 5 de marzo, de seg...</td>\n      <td>11/03/2021</td>\n      <td>Resolución EMC/350/2021, Ley 38/2003, Ley 39/2...</td>\n      <td></td>\n    </tr>\n    <tr>\n      <th>13</th>\n      <td>CVE-DOGC-B-21068064-2021</td>\n      <td>RESOLUCIÓN ARP/673/2021, de 5 de marzo, por la...</td>\n      <td>11/03/2021</td>\n      <td>Reglamento (UE) 2020/2008, Reglamento (UE) 651...</td>\n      <td></td>\n    </tr>\n  </tbody>\n</table>\n</div>"
     },
     "metadata": {},
     "execution_count": 53
    }
   ],
   "source": [
    "DOGC_sumarios_final_CSV"
   ]
  },
  {
   "cell_type": "code",
   "execution_count": 54,
   "metadata": {},
   "outputs": [],
   "source": [
    "DOGC_sumarios_final_CSV.to_csv(\"./ASECORP/Resultados_Matching_DOGC_\" + today.strftime(\"%Y%m%d\") + \".csv\" ,index=False) "
   ]
  },
  {
   "cell_type": "code",
   "execution_count": null,
   "metadata": {},
   "outputs": [],
   "source": []
  }
 ]
}