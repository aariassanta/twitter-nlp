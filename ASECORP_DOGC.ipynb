{
 "metadata": {
  "language_info": {
   "codemirror_mode": {
    "name": "ipython",
    "version": 3
   },
   "file_extension": ".py",
   "mimetype": "text/x-python",
   "name": "python",
   "nbconvert_exporter": "python",
   "pygments_lexer": "ipython3",
   "version": "3.8.5-final"
  },
  "orig_nbformat": 2,
  "kernelspec": {
   "name": "python3",
   "display_name": "Python 3",
   "language": "python"
  }
 },
 "nbformat": 4,
 "nbformat_minor": 2,
 "cells": [
  {
   "cell_type": "code",
   "execution_count": 1,
   "metadata": {},
   "outputs": [],
   "source": [
    "from lxml import etree, html\n",
    "from lxml.html.clean import clean_html\n",
    "import pandas as pd\n",
    "from datetime import date, datetime\n",
    "import requests\n",
    "import re\n",
    "import os\n",
    "import shutil\n",
    "from ASECORP_BBDD import tagea_BBDD_ASECORP\n",
    "from selenium import webdriver\n",
    "import time"
   ]
  },
  {
   "source": [
    "# Mueve todos los fichero del directorio de trabajo a otro de archivo"
   ],
   "cell_type": "markdown",
   "metadata": {}
  },
  {
   "source": [
    "# Recoge resumen diario del BOE de hoy"
   ],
   "cell_type": "markdown",
   "metadata": {}
  },
  {
   "cell_type": "code",
   "execution_count": 2,
   "metadata": {},
   "outputs": [
    {
     "output_type": "stream",
     "name": "stdout",
     "text": [
      "Fecha de Hoy = 20210304\ndia = 04\nmes = 03\naño = 2021\n04/03/2021\n"
     ]
    }
   ],
   "source": [
    "\n",
    "today = date.today()\n",
    "\n",
    "# dd/mm/YYYY\n",
    "hoy = today.strftime(\"%Y%m%d\")\n",
    "print(\"Fecha de Hoy =\", hoy)\n",
    "\n",
    "# dd\n",
    "d = today.strftime(\"%d\")\n",
    "print(\"dia =\", d)\n",
    "\n",
    "# mm\n",
    "m = today.strftime(\"%m\")\n",
    "print(\"mes =\", m)\n",
    "\n",
    "# YYYY\n",
    "Y = today.strftime(\"%Y\")\n",
    "print(\"año =\", Y)\n",
    "\n",
    "print(today.strftime(\"%d/%m/%Y\"))"
   ]
  },
  {
   "cell_type": "code",
   "execution_count": 3,
   "metadata": {},
   "outputs": [],
   "source": [
    "def save_html(html, path):\n",
    "    with open(path, 'wb') as f:\n",
    "        f.write(html)"
   ]
  },
  {
   "cell_type": "code",
   "execution_count": 4,
   "metadata": {},
   "outputs": [],
   "source": [
    "# Define expresiones REGEX para búsqueda de leyes, decretos, etc. referenciadas anteriormente\n",
    "pattern = ['Ley [0-9]+\\/[0-9]+','Real Decreto [0-9]+\\/[0-9]+','Real Decreto Legislativo [0-9]+\\/[0-9]+','Real Decreto-ley [0-9]+\\/[0-9]+','Orden [A-Z]+\\/[0-9]+\\/[0-9]+','Orden Circular [0-9]+\\/[0-9]+','Reglamento \\(UE\\) [0-9]+\\/[0-9]+', 'Reglamento de Ejeución \\(UE\\) [0-9]+\\/[0-9]+' ,'Sentencia de [0-9]+ de [a-z]+ de [0-9]+','Sentencia [0-9]+\\/[0-9]+','Orden de [0-9]+ de [a-z]+ de [0-9]+', 'Resolución de [0-9]+ de [a-z]+ de [0-9]+','Resolución [a-z]+\\/[0-9]+\\/[0-9]+', 'Nota de Servicio [0-9]+\\/[0-9]+', 'Acuerdo multilateral M\\-[0-9]+', 'Circular [0-9]+\\/[0-9]+', 'Decisión \\(UE\\) [0-9]+\\/[0-9]+', 'Decisión de Ejecución \\(UE\\) [0-9]+\\/[0-9]+']"
   ]
  },
  {
   "source": [
    "# ------------------------------------------------------------------------"
   ],
   "cell_type": "markdown",
   "metadata": {}
  },
  {
   "source": [
    "# DOGC"
   ],
   "cell_type": "markdown",
   "metadata": {}
  },
  {
   "cell_type": "code",
   "execution_count": 5,
   "metadata": {},
   "outputs": [],
   "source": [
    "URL_HTML_resumen = \"https://dogc.gencat.cat/es/inici/\""
   ]
  },
  {
   "cell_type": "code",
   "execution_count": 6,
   "metadata": {},
   "outputs": [
    {
     "output_type": "stream",
     "name": "stdout",
     "text": [
      "['DOGC núm. 8356']\n['Disposiciones', 'Cargos y personal', 'Anuncios de la Generalidad de Cataluña', 'Anuncios de la Administración local', 'Anuncios de la Administración de justicia ']\n['https://dogc.gencat.cat/es/sumari-del-dogc/?numDOGC=8356#section-Disposiciones', 'https://dogc.gencat.cat/es/sumari-del-dogc/?numDOGC=8356#section-Cargos_y_personal', 'https://dogc.gencat.cat/es/sumari-del-dogc/?numDOGC=8356#section-Anuncios_de_la_Generalidad_de_Cataluña', 'https://dogc.gencat.cat/es/sumari-del-dogc/?numDOGC=8356#section-Anuncios_de_la_Administración_local', 'https://dogc.gencat.cat/es/sumari-del-dogc/?numDOGC=8356#section-Anuncios_de_la_Administración_de_justicia_']\n"
     ]
    }
   ],
   "source": [
    "### Necesita libreria Selenium para renderizar JS script\n",
    "\n",
    "options = webdriver.ChromeOptions()\n",
    "options.headless = True\n",
    "driver = webdriver.Chrome(options=options)\n",
    "\n",
    "driver.get(URL_HTML_resumen)\n",
    "#print(driver.page_source)\n",
    "response = driver.page_source\n",
    "\n",
    "sumario_HTML = html.fromstring(response)\n",
    "#print(sumario_HTML.xpath('//h2[@class=\"titol-component\"]/a/@href'))\n",
    "numero_diario = sumario_HTML.xpath('//h2[@class=\"titol-component\"]/a/text()')\n",
    "secciones = sumario_HTML.xpath('//div[@class=\"llistat_cont\"]/ul/li/a/text()')\n",
    "secciones_link = sumario_HTML.xpath('//div[@class=\"llistat_cont\"]/ul/li/a/@href')\n",
    "secciones_linkHTML = [ ('https://dogc.gencat.cat' + item) for item in secciones_link ]\n",
    "# numero_pagina = sumario_HTML.xpath('//table[@class=\"tablaDetalle\"]/tbody/tr[3]/td[4]/text()')\n",
    "# NID = sumario_HTML.xpath('//table[@class=\"tablaDetalle\"]/tbody/tr[2]/td[2]/text()')\n",
    "# rango = sumario_HTML.xpath('//table[@class=\"tablaDetalle\"]/tbody/tr[5]/td[2]/text()')\n",
    "# organo_emisor = sumario_HTML.xpath('//table[@class=\"tablaDetalle\"]/tbody/tr[7]/td[2]/text()')\n",
    "# \n",
    "# print(numero_diario[0].strip(), numero_pagina[0].strip(), NID[0].strip(), rango[0].strip(), organo_emisor[0].strip())\n",
    "# print()\n",
    "print(numero_diario)\n",
    "print(secciones)\n",
    "print(secciones_linkHTML)\n",
    "\n",
    "driver.quit()"
   ]
  },
  {
   "cell_type": "code",
   "execution_count": 7,
   "metadata": {},
   "outputs": [],
   "source": [
    "#response"
   ]
  },
  {
   "source": [
    "## Recoge Nombre Secciones Sumario"
   ],
   "cell_type": "markdown",
   "metadata": {}
  },
  {
   "cell_type": "code",
   "execution_count": 8,
   "metadata": {},
   "outputs": [],
   "source": [
    "secciones = sumario_HTML.xpath('//div[@class=\"llistat_cont\"]/ul/li/a/text()')\n",
    "#print(secciones)\n",
    "df_secciones_sumarios = pd.DataFrame()\n",
    "for seccion in secciones:\n",
    "    df_secciones_sumarios = df_secciones_sumarios.append({'Seccion': seccion}, ignore_index=True)\n"
   ]
  },
  {
   "cell_type": "code",
   "execution_count": 9,
   "metadata": {},
   "outputs": [
    {
     "output_type": "execute_result",
     "data": {
      "text/plain": [
       "                                      Seccion\n",
       "0                               Disposiciones\n",
       "1                           Cargos y personal\n",
       "2      Anuncios de la Generalidad de Cataluña\n",
       "3         Anuncios de la Administración local\n",
       "4  Anuncios de la Administración de justicia "
      ],
      "text/html": "<div>\n<style scoped>\n    .dataframe tbody tr th:only-of-type {\n        vertical-align: middle;\n    }\n\n    .dataframe tbody tr th {\n        vertical-align: top;\n    }\n\n    .dataframe thead th {\n        text-align: right;\n    }\n</style>\n<table border=\"1\" class=\"dataframe\">\n  <thead>\n    <tr style=\"text-align: right;\">\n      <th></th>\n      <th>Seccion</th>\n    </tr>\n  </thead>\n  <tbody>\n    <tr>\n      <th>0</th>\n      <td>Disposiciones</td>\n    </tr>\n    <tr>\n      <th>1</th>\n      <td>Cargos y personal</td>\n    </tr>\n    <tr>\n      <th>2</th>\n      <td>Anuncios de la Generalidad de Cataluña</td>\n    </tr>\n    <tr>\n      <th>3</th>\n      <td>Anuncios de la Administración local</td>\n    </tr>\n    <tr>\n      <th>4</th>\n      <td>Anuncios de la Administración de justicia</td>\n    </tr>\n  </tbody>\n</table>\n</div>"
     },
     "metadata": {},
     "execution_count": 9
    }
   ],
   "source": [
    "df_secciones_sumarios"
   ]
  },
  {
   "source": [
    "## Recoge Valores para formar URLs Secciones Sumario"
   ],
   "cell_type": "markdown",
   "metadata": {}
  },
  {
   "cell_type": "code",
   "execution_count": 10,
   "metadata": {},
   "outputs": [
    {
     "output_type": "stream",
     "name": "stdout",
     "text": [
      "https://dogc.gencat.cat/es/sumari-del-dogc/?numDOGC=8356#section-Disposiciones\nhttps://dogc.gencat.cat/es/sumari-del-dogc/?numDOGC=8356#section-Cargos_y_personal\nhttps://dogc.gencat.cat/es/sumari-del-dogc/?numDOGC=8356#section-Anuncios_de_la_Generalidad_de_Cataluña\nhttps://dogc.gencat.cat/es/sumari-del-dogc/?numDOGC=8356#section-Anuncios_de_la_Administración_local\nhttps://dogc.gencat.cat/es/sumari-del-dogc/?numDOGC=8356#section-Anuncios_de_la_Administración_de_justicia_\n"
     ]
    }
   ],
   "source": [
    "URL_base_sumario = sumario_HTML.xpath('//div[@class=\"llistat_cont\"]/ul/li/a/@href')\n",
    "URL_sumario = [ ('https://dogc.gencat.cat' + item) for item in secciones_link ]\n",
    "\n",
    "df_URL_sumarios = pd.DataFrame()\n",
    "\n",
    "for URL_seccion in URL_base_sumario:    \n",
    "    URL_sumario = 'https://dogc.gencat.cat' + str(URL_seccion)\n",
    "    print(URL_sumario)\n",
    "    df_URL_sumarios = df_URL_sumarios.append({'URL_Seccion': URL_sumario}, ignore_index=True)"
   ]
  },
  {
   "cell_type": "code",
   "execution_count": 11,
   "metadata": {},
   "outputs": [
    {
     "output_type": "execute_result",
     "data": {
      "text/plain": [
       "                                         URL_Seccion\n",
       "0  https://dogc.gencat.cat/es/sumari-del-dogc/?nu...\n",
       "1  https://dogc.gencat.cat/es/sumari-del-dogc/?nu...\n",
       "2  https://dogc.gencat.cat/es/sumari-del-dogc/?nu...\n",
       "3  https://dogc.gencat.cat/es/sumari-del-dogc/?nu...\n",
       "4  https://dogc.gencat.cat/es/sumari-del-dogc/?nu..."
      ],
      "text/html": "<div>\n<style scoped>\n    .dataframe tbody tr th:only-of-type {\n        vertical-align: middle;\n    }\n\n    .dataframe tbody tr th {\n        vertical-align: top;\n    }\n\n    .dataframe thead th {\n        text-align: right;\n    }\n</style>\n<table border=\"1\" class=\"dataframe\">\n  <thead>\n    <tr style=\"text-align: right;\">\n      <th></th>\n      <th>URL_Seccion</th>\n    </tr>\n  </thead>\n  <tbody>\n    <tr>\n      <th>0</th>\n      <td>https://dogc.gencat.cat/es/sumari-del-dogc/?nu...</td>\n    </tr>\n    <tr>\n      <th>1</th>\n      <td>https://dogc.gencat.cat/es/sumari-del-dogc/?nu...</td>\n    </tr>\n    <tr>\n      <th>2</th>\n      <td>https://dogc.gencat.cat/es/sumari-del-dogc/?nu...</td>\n    </tr>\n    <tr>\n      <th>3</th>\n      <td>https://dogc.gencat.cat/es/sumari-del-dogc/?nu...</td>\n    </tr>\n    <tr>\n      <th>4</th>\n      <td>https://dogc.gencat.cat/es/sumari-del-dogc/?nu...</td>\n    </tr>\n  </tbody>\n</table>\n</div>"
     },
     "metadata": {},
     "execution_count": 11
    }
   ],
   "source": [
    "df_URL_sumarios"
   ]
  },
  {
   "cell_type": "code",
   "execution_count": 12,
   "metadata": {},
   "outputs": [],
   "source": [
    " df_sumarios = pd.concat([df_secciones_sumarios, df_URL_sumarios], axis=1)"
   ]
  },
  {
   "cell_type": "code",
   "execution_count": 13,
   "metadata": {},
   "outputs": [
    {
     "output_type": "execute_result",
     "data": {
      "text/plain": [
       "                                      Seccion  \\\n",
       "0                               Disposiciones   \n",
       "1                           Cargos y personal   \n",
       "2      Anuncios de la Generalidad de Cataluña   \n",
       "3         Anuncios de la Administración local   \n",
       "4  Anuncios de la Administración de justicia    \n",
       "\n",
       "                                         URL_Seccion  \n",
       "0  https://dogc.gencat.cat/es/sumari-del-dogc/?nu...  \n",
       "1  https://dogc.gencat.cat/es/sumari-del-dogc/?nu...  \n",
       "2  https://dogc.gencat.cat/es/sumari-del-dogc/?nu...  \n",
       "3  https://dogc.gencat.cat/es/sumari-del-dogc/?nu...  \n",
       "4  https://dogc.gencat.cat/es/sumari-del-dogc/?nu...  "
      ],
      "text/html": "<div>\n<style scoped>\n    .dataframe tbody tr th:only-of-type {\n        vertical-align: middle;\n    }\n\n    .dataframe tbody tr th {\n        vertical-align: top;\n    }\n\n    .dataframe thead th {\n        text-align: right;\n    }\n</style>\n<table border=\"1\" class=\"dataframe\">\n  <thead>\n    <tr style=\"text-align: right;\">\n      <th></th>\n      <th>Seccion</th>\n      <th>URL_Seccion</th>\n    </tr>\n  </thead>\n  <tbody>\n    <tr>\n      <th>0</th>\n      <td>Disposiciones</td>\n      <td>https://dogc.gencat.cat/es/sumari-del-dogc/?nu...</td>\n    </tr>\n    <tr>\n      <th>1</th>\n      <td>Cargos y personal</td>\n      <td>https://dogc.gencat.cat/es/sumari-del-dogc/?nu...</td>\n    </tr>\n    <tr>\n      <th>2</th>\n      <td>Anuncios de la Generalidad de Cataluña</td>\n      <td>https://dogc.gencat.cat/es/sumari-del-dogc/?nu...</td>\n    </tr>\n    <tr>\n      <th>3</th>\n      <td>Anuncios de la Administración local</td>\n      <td>https://dogc.gencat.cat/es/sumari-del-dogc/?nu...</td>\n    </tr>\n    <tr>\n      <th>4</th>\n      <td>Anuncios de la Administración de justicia</td>\n      <td>https://dogc.gencat.cat/es/sumari-del-dogc/?nu...</td>\n    </tr>\n  </tbody>\n</table>\n</div>"
     },
     "metadata": {},
     "execution_count": 13
    }
   ],
   "source": [
    "df_sumarios"
   ]
  },
  {
   "cell_type": "code",
   "execution_count": 15,
   "metadata": {},
   "outputs": [
    {
     "output_type": "execute_result",
     "data": {
      "text/plain": [
       "'https://dogc.gencat.cat/es/sumari-del-dogc/?numDOGC=8356#section-Disposiciones'"
      ]
     },
     "metadata": {},
     "execution_count": 15
    }
   ],
   "source": [
    "df_sumarios['URL_Seccion'][0]"
   ]
  },
  {
   "source": [
    "## Recoge Items en Seccion Disposiciones"
   ],
   "cell_type": "markdown",
   "metadata": {}
  },
  {
   "cell_type": "code",
   "execution_count": 16,
   "metadata": {},
   "outputs": [],
   "source": [
    "URL_HTML_disposiciones = df_sumarios[df_sumarios['Seccion'] == 'Disposiciones']"
   ]
  },
  {
   "cell_type": "code",
   "execution_count": 17,
   "metadata": {},
   "outputs": [
    {
     "output_type": "stream",
     "name": "stdout",
     "text": [
      "Disposiciones\n"
     ]
    }
   ],
   "source": [
    "print(URL_HTML_disposiciones['Seccion'][0])"
   ]
  },
  {
   "cell_type": "code",
   "execution_count": 18,
   "metadata": {},
   "outputs": [
    {
     "output_type": "stream",
     "name": "stdout",
     "text": [
      "https://dogc.gencat.cat/es/sumari-del-dogc/?numDOGC=8356#section-Disposiciones\n"
     ]
    }
   ],
   "source": [
    "print(URL_HTML_disposiciones['URL_Seccion'][0])"
   ]
  },
  {
   "cell_type": "code",
   "execution_count": 19,
   "metadata": {},
   "outputs": [],
   "source": [
    "URL_HTML_disposiciones = URL_HTML_disposiciones['URL_Seccion'][0]"
   ]
  },
  {
   "cell_type": "code",
   "execution_count": 20,
   "metadata": {},
   "outputs": [
    {
     "output_type": "execute_result",
     "data": {
      "text/plain": [
       "'https://dogc.gencat.cat/es/sumari-del-dogc/?numDOGC=8356#section-Disposiciones'"
      ]
     },
     "metadata": {},
     "execution_count": 20
    }
   ],
   "source": [
    "URL_HTML_disposiciones"
   ]
  },
  {
   "cell_type": "code",
   "execution_count": 21,
   "metadata": {
    "tags": []
   },
   "outputs": [
    {
     "output_type": "stream",
     "name": "stdout",
     "text": [
      "['Departamento de la Presidencia', 'Departamento de la Vicepresidencia y de Economía y Hacienda', 'Departamento de Interior', 'Departamento de Educación', 'Departamento de Salud', 'Departamento de Territorio y Sostenibilidad', 'Departamento de Cultura', 'Departamento de Empresa y Conocimiento', 'Departamento de Políticas Digitales y Administración Pública']\n['CORRECCIÓN DE ERRATAS en la Ley 9/2019, de 23 de diciembre, de modificación de la Ley 16/2017, del cambio climático, en cuanto al impuesto sobre las emisiones de dióxido de carbono de los vehículos de tracción mecánica (DOGC núm. 8032, de 30.12.2019).', 'ORDEN VEH/49/2021, de 1 de marzo, por la que se aprueban los criterios de ocupación de los inmuebles de uso administrativo de la Generalidad de Cataluña.', 'RESOLUCIÓN INT/570/2021, de 26 de febrero, de modificación de la Resolución INT/3444/2020, de 1 de septiembre, de concesión de medallas de bronce al mérito policial con distintivo azul a varios miembros de cuerpos policiales.', \"RESOLUCIÓN INT/571/2021, de 26 de febrero, de modificación de la Resolución INT/3439/2020, de 1 de septiembre, de concesión de medallas de bronce al mérito policial con distintivo azul a varios miembros del cuerpo de Mossos d'Esquadra.\", 'DECRETO 12/2021, de 2 de marzo, de la Inspección de Educación.', 'RESOLUCIÓN EDU/572/2021, de 25 de febrero, por la que se modifica la Resolución EDU/772/2020, de 24 de marzo, por la que se crea el Programa de innovación pedagógica de aceleración de la transformación educativa.', 'ORDEN SLT/48/2021, de 1 de marzo, por la que se establecen para el año 2020 los precios unitarios correspondientes a la contraprestación de los servicios llevados a cabo por los centros sociosanitarios.', 'EDICTO de 25 de febrero de 2021, sobre un acuerdo de la Comisión Territorial de Urbanismo de El Camp de Tarragona referente al municipio de Blancafort.', 'ACUERDO GOV/22/2021, de 2 de marzo, por el que se aprueba la modificación de los Estatutos del Instituto Ramon Muntaner, Fundación Privada de los Centros de Estudios de Habla Catalana.', 'RESOLUCIÓN CLT/497/2021, de 16 de febrero, por la que se da publicidad al Acuerdo del Consejo de Administración de la Oficina de Apoyo a la Iniciativa Cultural, por el que se aprueba la convocatoria en el ámbito del patrimonio cultural para la concesión de subvenciones, en régimen de concurrencia competitiva, para el inventario y la documentación de los bienes culturales que integran los museos catalanes para el año 2021 (ref. BDNS 550308).', 'RESOLUCIÓN CLT/498/2021, de 16 de febrero, por la que se da publicidad al Acuerdo del Consejo de Administración de la Oficina de Apoyo a la Iniciativa Cultural, por el que se aprueba la convocatoria en el ámbito de la cultura popular y el patrimonio etnológico para la concesión de subvenciones, en régimen de concurrencia competitiva, para actividades en materia de formación y de documentación relacionadas con la cultura popular y tradicional para el año 2021 (ref. BDNS 550306).', 'RESOLUCIÓN CLT/499/2021, de 16 de febrero, por la que se da publicidad al Acuerdo del Consejo de Administración de la Oficina de Apoyo a la Iniciativa Cultural, por el que se aprueba la convocatoria en el ámbito de la cultura popular y el patrimonio etnológico para la concesión de subvenciones, en régimen de concurrencia competitiva, para la organización de festivales y encuentros nacionales de cultura popular y tradicional para el año 2021 (ref. BDNS 550304).', 'RESOLUCIÓN CLT/559/2021, de 26 de febrero, por la que se da publicidad al Acuerdo del Consejo de Administración del Instituto Catalán de las Empresas Culturales por el que se aprueban las bases específicas que regirán la concesión de ayudas, en las modalidades de aportaciones reintegrables y subvenciones, a proyectos del ámbito de los videojuegos.', 'RESOLUCIÓN EMC/514/2021, de 17 de febrero, por la que se abre la convocatoria de las ayudas para tesis doctorales en catalán (TDCAT) (ref. BDNS 550324).', 'DECRETO 13/2021, de 2 de marzo, por el que se regula la acreditación de competencias en tecnologías de la información y la comunicación (ACTIC).']\n['/es/document-del-dogc/?documentId=894810', '/es/document-del-dogc/?documentId=894795', '/es/document-del-dogc/?documentId=894779', '/es/document-del-dogc/?documentId=894766', '/es/document-del-dogc/?documentId=894790', '/es/document-del-dogc/?documentId=894822', '/es/document-del-dogc/?documentId=894734', '/es/document-del-dogc/?documentId=894749', '/es/document-del-dogc/?documentId=894816', '/es/document-del-dogc/?documentId=894788', '/es/document-del-dogc/?documentId=894739', '/es/document-del-dogc/?documentId=894762', '/es/document-del-dogc/?documentId=894814', '/es/document-del-dogc/?documentId=894798', '/es/document-del-dogc/?documentId=894819']\n['https://portaldogc.gencat.cat/utilsEADOP/AppJava/PdfProviderServlet?documentId=894810&type=01&language=es_ES', 'https://portaldogc.gencat.cat/utilsEADOP/AppJava/PdfProviderServlet?documentId=894795&type=01&language=es_ES', 'https://portaldogc.gencat.cat/utilsEADOP/AppJava/PdfProviderServlet?documentId=894779&type=01&language=es_ES', 'https://portaldogc.gencat.cat/utilsEADOP/AppJava/PdfProviderServlet?documentId=894766&type=01&language=es_ES', 'https://portaldogc.gencat.cat/utilsEADOP/AppJava/PdfProviderServlet?documentId=894790&type=01&language=es_ES', 'https://portaldogc.gencat.cat/utilsEADOP/AppJava/PdfProviderServlet?documentId=894822&type=01&language=es_ES', 'https://portaldogc.gencat.cat/utilsEADOP/AppJava/PdfProviderServlet?documentId=894734&type=01&language=es_ES', 'https://portaldogc.gencat.cat/utilsEADOP/AppJava/PdfProviderServlet?documentId=894749&type=01&language=es_ES', 'https://portaldogc.gencat.cat/utilsEADOP/AppJava/PdfProviderServlet?documentId=894816&type=01&language=es_ES', 'https://portaldogc.gencat.cat/utilsEADOP/AppJava/PdfProviderServlet?documentId=894788&type=01&language=es_ES', 'https://portaldogc.gencat.cat/utilsEADOP/AppJava/PdfProviderServlet?documentId=894739&type=01&language=es_ES', 'https://portaldogc.gencat.cat/utilsEADOP/AppJava/PdfProviderServlet?documentId=894762&type=01&language=es_ES', 'https://portaldogc.gencat.cat/utilsEADOP/AppJava/PdfProviderServlet?documentId=894814&type=01&language=es_ES', 'https://portaldogc.gencat.cat/utilsEADOP/AppJava/PdfProviderServlet?documentId=894798&type=01&language=es_ES', 'https://portaldogc.gencat.cat/utilsEADOP/AppJava/PdfProviderServlet?documentId=894819&type=01&language=es_ES']\n"
     ]
    }
   ],
   "source": [
    "options = webdriver.ChromeOptions()\n",
    "options.headless = True\n",
    "driver = webdriver.Chrome(options=options)\n",
    "\n",
    "driver.get(URL_HTML_disposiciones)\n",
    "#print(driver.page_source)\n",
    "response = driver.page_source\n",
    "### Recoge Items en Seccion Disposiciones\n",
    "disposiciones_HTML = html.fromstring(response)\n",
    "\n",
    "#print(html.tostring(disposiciones_HTML))\n",
    "#print('____________________')\n",
    "\n",
    "departamentos = disposiciones_HTML.xpath('/descendant::*[@class=\"wrapper-disposicions\"][1]/h3/text()') # Sólo Sección disposiciones\n",
    "disposiciones = disposiciones_HTML.xpath('/descendant::*[@class=\"wrapper-disposicions\"][1]/ul/descendant::li/div/a/text()')\n",
    "disposiciones_link = disposiciones_HTML.xpath('/descendant::*[@class=\"wrapper-disposicions\"][1]/ul/descendant::li/div/a/@href')\n",
    "disposiciones_pdf = disposiciones_HTML.xpath('/descendant::*[@class=\"wrapper-disposicions\"][1]/ul/descendant::li/div/div/a/@href')\n",
    "\n",
    "# for i in range(len(departamentos)):\n",
    "#     print(departamentos[i])\n",
    "#     i += 1\n",
    "#     #print(disposiciones_HTML.xpath('//*[@class=\"wrapper-disposicions\"]/ul[' + str(i) + ']//li/div/a/text()'))\n",
    "#     print(disposiciones_HTML.xpath('//*[@class=\"wrapper-disposicions\"]/ul[1]//li/div/a/text()'))\n",
    "\n",
    "print(departamentos)\n",
    "print(disposiciones)\n",
    "print(disposiciones_link)\n",
    "print(disposiciones_pdf)\n",
    "\n",
    "driver.quit()\n"
   ]
  },
  {
   "cell_type": "code",
   "execution_count": 22,
   "metadata": {},
   "outputs": [
    {
     "output_type": "execute_result",
     "data": {
      "text/plain": [
       "9"
      ]
     },
     "metadata": {},
     "execution_count": 22
    }
   ],
   "source": [
    "len(departamentos)"
   ]
  },
  {
   "cell_type": "code",
   "execution_count": 23,
   "metadata": {},
   "outputs": [],
   "source": [
    "DOGC_sumarios = pd.DataFrame(columns=['item_Title','item_urlHTML','item_urlPDF'])"
   ]
  },
  {
   "cell_type": "code",
   "execution_count": 24,
   "metadata": {},
   "outputs": [
    {
     "output_type": "execute_result",
     "data": {
      "text/plain": [
       "Empty DataFrame\n",
       "Columns: [item_Title, item_urlHTML, item_urlPDF]\n",
       "Index: []"
      ],
      "text/html": "<div>\n<style scoped>\n    .dataframe tbody tr th:only-of-type {\n        vertical-align: middle;\n    }\n\n    .dataframe tbody tr th {\n        vertical-align: top;\n    }\n\n    .dataframe thead th {\n        text-align: right;\n    }\n</style>\n<table border=\"1\" class=\"dataframe\">\n  <thead>\n    <tr style=\"text-align: right;\">\n      <th></th>\n      <th>item_Title</th>\n      <th>item_urlHTML</th>\n      <th>item_urlPDF</th>\n    </tr>\n  </thead>\n  <tbody>\n  </tbody>\n</table>\n</div>"
     },
     "metadata": {},
     "execution_count": 24
    }
   ],
   "source": [
    "DOGC_sumarios"
   ]
  },
  {
   "cell_type": "code",
   "execution_count": 25,
   "metadata": {},
   "outputs": [],
   "source": [
    "lista = []\n",
    "for disposicion in disposiciones:\n",
    "    lista.append(disposicion)\n",
    "\n",
    "DOGC_sumarios['item_Title'] = lista\n",
    "\n",
    "lista = []   \n",
    "for link_HTML in disposiciones_link:\n",
    "    #print(link)\n",
    "    lista.append('https://dogc.gencat.cat' + str(link_HTML))\n",
    "\n",
    "DOGC_sumarios['item_urlHTML'] = lista\n",
    "\n",
    "lista = []   \n",
    "for link_PDF in disposiciones_pdf:\n",
    "    #print(link)\n",
    "    lista.append(link_PDF)\n",
    "\n",
    "DOGC_sumarios['item_urlPDF'] = lista"
   ]
  },
  {
   "cell_type": "code",
   "execution_count": 26,
   "metadata": {},
   "outputs": [
    {
     "output_type": "execute_result",
     "data": {
      "text/plain": [
       "                                           item_Title  \\\n",
       "0   CORRECCIÓN DE ERRATAS en la Ley 9/2019, de 23 ...   \n",
       "1   ORDEN VEH/49/2021, de 1 de marzo, por la que s...   \n",
       "2   RESOLUCIÓN INT/570/2021, de 26 de febrero, de ...   \n",
       "3   RESOLUCIÓN INT/571/2021, de 26 de febrero, de ...   \n",
       "4   DECRETO 12/2021, de 2 de marzo, de la Inspecci...   \n",
       "5   RESOLUCIÓN EDU/572/2021, de 25 de febrero, por...   \n",
       "6   ORDEN SLT/48/2021, de 1 de marzo, por la que s...   \n",
       "7   EDICTO de 25 de febrero de 2021, sobre un acue...   \n",
       "8   ACUERDO GOV/22/2021, de 2 de marzo, por el que...   \n",
       "9   RESOLUCIÓN CLT/497/2021, de 16 de febrero, por...   \n",
       "10  RESOLUCIÓN CLT/498/2021, de 16 de febrero, por...   \n",
       "11  RESOLUCIÓN CLT/499/2021, de 16 de febrero, por...   \n",
       "12  RESOLUCIÓN CLT/559/2021, de 26 de febrero, por...   \n",
       "13  RESOLUCIÓN EMC/514/2021, de 17 de febrero, por...   \n",
       "14  DECRETO 13/2021, de 2 de marzo, por el que se ...   \n",
       "\n",
       "                                         item_urlHTML  \\\n",
       "0   https://dogc.gencat.cat/es/document-del-dogc/?...   \n",
       "1   https://dogc.gencat.cat/es/document-del-dogc/?...   \n",
       "2   https://dogc.gencat.cat/es/document-del-dogc/?...   \n",
       "3   https://dogc.gencat.cat/es/document-del-dogc/?...   \n",
       "4   https://dogc.gencat.cat/es/document-del-dogc/?...   \n",
       "5   https://dogc.gencat.cat/es/document-del-dogc/?...   \n",
       "6   https://dogc.gencat.cat/es/document-del-dogc/?...   \n",
       "7   https://dogc.gencat.cat/es/document-del-dogc/?...   \n",
       "8   https://dogc.gencat.cat/es/document-del-dogc/?...   \n",
       "9   https://dogc.gencat.cat/es/document-del-dogc/?...   \n",
       "10  https://dogc.gencat.cat/es/document-del-dogc/?...   \n",
       "11  https://dogc.gencat.cat/es/document-del-dogc/?...   \n",
       "12  https://dogc.gencat.cat/es/document-del-dogc/?...   \n",
       "13  https://dogc.gencat.cat/es/document-del-dogc/?...   \n",
       "14  https://dogc.gencat.cat/es/document-del-dogc/?...   \n",
       "\n",
       "                                          item_urlPDF  \n",
       "0   https://portaldogc.gencat.cat/utilsEADOP/AppJa...  \n",
       "1   https://portaldogc.gencat.cat/utilsEADOP/AppJa...  \n",
       "2   https://portaldogc.gencat.cat/utilsEADOP/AppJa...  \n",
       "3   https://portaldogc.gencat.cat/utilsEADOP/AppJa...  \n",
       "4   https://portaldogc.gencat.cat/utilsEADOP/AppJa...  \n",
       "5   https://portaldogc.gencat.cat/utilsEADOP/AppJa...  \n",
       "6   https://portaldogc.gencat.cat/utilsEADOP/AppJa...  \n",
       "7   https://portaldogc.gencat.cat/utilsEADOP/AppJa...  \n",
       "8   https://portaldogc.gencat.cat/utilsEADOP/AppJa...  \n",
       "9   https://portaldogc.gencat.cat/utilsEADOP/AppJa...  \n",
       "10  https://portaldogc.gencat.cat/utilsEADOP/AppJa...  \n",
       "11  https://portaldogc.gencat.cat/utilsEADOP/AppJa...  \n",
       "12  https://portaldogc.gencat.cat/utilsEADOP/AppJa...  \n",
       "13  https://portaldogc.gencat.cat/utilsEADOP/AppJa...  \n",
       "14  https://portaldogc.gencat.cat/utilsEADOP/AppJa...  "
      ],
      "text/html": "<div>\n<style scoped>\n    .dataframe tbody tr th:only-of-type {\n        vertical-align: middle;\n    }\n\n    .dataframe tbody tr th {\n        vertical-align: top;\n    }\n\n    .dataframe thead th {\n        text-align: right;\n    }\n</style>\n<table border=\"1\" class=\"dataframe\">\n  <thead>\n    <tr style=\"text-align: right;\">\n      <th></th>\n      <th>item_Title</th>\n      <th>item_urlHTML</th>\n      <th>item_urlPDF</th>\n    </tr>\n  </thead>\n  <tbody>\n    <tr>\n      <th>0</th>\n      <td>CORRECCIÓN DE ERRATAS en la Ley 9/2019, de 23 ...</td>\n      <td>https://dogc.gencat.cat/es/document-del-dogc/?...</td>\n      <td>https://portaldogc.gencat.cat/utilsEADOP/AppJa...</td>\n    </tr>\n    <tr>\n      <th>1</th>\n      <td>ORDEN VEH/49/2021, de 1 de marzo, por la que s...</td>\n      <td>https://dogc.gencat.cat/es/document-del-dogc/?...</td>\n      <td>https://portaldogc.gencat.cat/utilsEADOP/AppJa...</td>\n    </tr>\n    <tr>\n      <th>2</th>\n      <td>RESOLUCIÓN INT/570/2021, de 26 de febrero, de ...</td>\n      <td>https://dogc.gencat.cat/es/document-del-dogc/?...</td>\n      <td>https://portaldogc.gencat.cat/utilsEADOP/AppJa...</td>\n    </tr>\n    <tr>\n      <th>3</th>\n      <td>RESOLUCIÓN INT/571/2021, de 26 de febrero, de ...</td>\n      <td>https://dogc.gencat.cat/es/document-del-dogc/?...</td>\n      <td>https://portaldogc.gencat.cat/utilsEADOP/AppJa...</td>\n    </tr>\n    <tr>\n      <th>4</th>\n      <td>DECRETO 12/2021, de 2 de marzo, de la Inspecci...</td>\n      <td>https://dogc.gencat.cat/es/document-del-dogc/?...</td>\n      <td>https://portaldogc.gencat.cat/utilsEADOP/AppJa...</td>\n    </tr>\n    <tr>\n      <th>5</th>\n      <td>RESOLUCIÓN EDU/572/2021, de 25 de febrero, por...</td>\n      <td>https://dogc.gencat.cat/es/document-del-dogc/?...</td>\n      <td>https://portaldogc.gencat.cat/utilsEADOP/AppJa...</td>\n    </tr>\n    <tr>\n      <th>6</th>\n      <td>ORDEN SLT/48/2021, de 1 de marzo, por la que s...</td>\n      <td>https://dogc.gencat.cat/es/document-del-dogc/?...</td>\n      <td>https://portaldogc.gencat.cat/utilsEADOP/AppJa...</td>\n    </tr>\n    <tr>\n      <th>7</th>\n      <td>EDICTO de 25 de febrero de 2021, sobre un acue...</td>\n      <td>https://dogc.gencat.cat/es/document-del-dogc/?...</td>\n      <td>https://portaldogc.gencat.cat/utilsEADOP/AppJa...</td>\n    </tr>\n    <tr>\n      <th>8</th>\n      <td>ACUERDO GOV/22/2021, de 2 de marzo, por el que...</td>\n      <td>https://dogc.gencat.cat/es/document-del-dogc/?...</td>\n      <td>https://portaldogc.gencat.cat/utilsEADOP/AppJa...</td>\n    </tr>\n    <tr>\n      <th>9</th>\n      <td>RESOLUCIÓN CLT/497/2021, de 16 de febrero, por...</td>\n      <td>https://dogc.gencat.cat/es/document-del-dogc/?...</td>\n      <td>https://portaldogc.gencat.cat/utilsEADOP/AppJa...</td>\n    </tr>\n    <tr>\n      <th>10</th>\n      <td>RESOLUCIÓN CLT/498/2021, de 16 de febrero, por...</td>\n      <td>https://dogc.gencat.cat/es/document-del-dogc/?...</td>\n      <td>https://portaldogc.gencat.cat/utilsEADOP/AppJa...</td>\n    </tr>\n    <tr>\n      <th>11</th>\n      <td>RESOLUCIÓN CLT/499/2021, de 16 de febrero, por...</td>\n      <td>https://dogc.gencat.cat/es/document-del-dogc/?...</td>\n      <td>https://portaldogc.gencat.cat/utilsEADOP/AppJa...</td>\n    </tr>\n    <tr>\n      <th>12</th>\n      <td>RESOLUCIÓN CLT/559/2021, de 26 de febrero, por...</td>\n      <td>https://dogc.gencat.cat/es/document-del-dogc/?...</td>\n      <td>https://portaldogc.gencat.cat/utilsEADOP/AppJa...</td>\n    </tr>\n    <tr>\n      <th>13</th>\n      <td>RESOLUCIÓN EMC/514/2021, de 17 de febrero, por...</td>\n      <td>https://dogc.gencat.cat/es/document-del-dogc/?...</td>\n      <td>https://portaldogc.gencat.cat/utilsEADOP/AppJa...</td>\n    </tr>\n    <tr>\n      <th>14</th>\n      <td>DECRETO 13/2021, de 2 de marzo, por el que se ...</td>\n      <td>https://dogc.gencat.cat/es/document-del-dogc/?...</td>\n      <td>https://portaldogc.gencat.cat/utilsEADOP/AppJa...</td>\n    </tr>\n  </tbody>\n</table>\n</div>"
     },
     "metadata": {},
     "execution_count": 26
    }
   ],
   "source": [
    "DOGC_sumarios"
   ]
  },
  {
   "cell_type": "code",
   "execution_count": 27,
   "metadata": {},
   "outputs": [
    {
     "output_type": "execute_result",
     "data": {
      "text/plain": [
       "'https://dogc.gencat.cat/es/document-del-dogc/?documentId=894795'"
      ]
     },
     "metadata": {},
     "execution_count": 27
    }
   ],
   "source": [
    "DOGC_sumarios['item_urlHTML'][1]"
   ]
  },
  {
   "cell_type": "code",
   "execution_count": 28,
   "metadata": {},
   "outputs": [],
   "source": [
    "### Recoge información de página de detalle con Selenium\n",
    "### es necesario ya que la página se genera con un JS y\n",
    "### hay que renderizarla con un headless web browser\n",
    "\n",
    "options = webdriver.ChromeOptions()\n",
    "options.headless = True\n",
    "driver = webdriver.Chrome(options=options)\n",
    "\n",
    "DOGC_sumarios['item_fullText'] = ''\n",
    "DOGC_sumarios['item_urlXML'] = ''\n",
    "DOGC_sumarios['tipo_doc'] = ''\n",
    "DOGC_sumarios['fecha_doc'] = ''\n",
    "DOGC_sumarios['numero_doc'] = ''\n",
    "DOGC_sumarios['numero_control'] = ''\n",
    "DOGC_sumarios['entidad_emisora'] = ''\n",
    "DOGC_sumarios['CVE'] = ''\n",
    "DOGC_sumarios['numero_DOGC'] = ''\n",
    "DOGC_sumarios['fecha_DOGC'] = ''\n",
    "DOGC_sumarios['seccion_DOGC'] = ''\n",
    "\n",
    "for i, row in DOGC_sumarios.iterrows():\n",
    "    # carga página HTML y genera árbol\n",
    "    driver.get(row['item_urlHTML'])\n",
    "    #print(driver.page_source)\n",
    "\n",
    "    # clica sobre desplegable 'datos del documento' para generar contenido\n",
    "    driver.find_element_by_xpath('//div[@class=\"panel-title\"]/a[@href=\"#disposicions\"]').click()\n",
    "    time.sleep(3)\n",
    "\n",
    "    response = driver.page_source\n",
    "    sumario_HTML = html.fromstring(response)\n",
    "\n",
    "    # Genera columnas de la tabla con Datos de los documentos\n",
    "    item_urlXML = sumario_HTML.xpath('//*[@id=\"download\"]/a[4]/@href')\n",
    "\n",
    "    tipo_doc = sumario_HTML.xpath('//*[@id=\"disposicions_cos_bloc\"]/li[contains(text()[1],\"Tipo de documento\")]/text()[2]')\n",
    "    fecha_doc = sumario_HTML.xpath('//*[@id=\"disposicions_cos_bloc\"]/li[contains(text()[1],\"Fecha del documento\")]/text()[2]')\n",
    "    numero_doc = sumario_HTML.xpath('//*[@id=\"disposicions_cos_bloc\"]/li[contains(text()[1],\"Número de documento\")]/text()[2]')\n",
    "    numero_control = sumario_HTML.xpath('//*[@id=\"disposicions_cos_bloc\"]/li[contains(text()[1],\"Número de control\")]/text()[2]')\n",
    "    entidad_emisora = sumario_HTML.xpath('//*[@id=\"disposicions_cos_bloc\"]/li[contains(text()[1],\"Entidad emisora\")]/text()[2]')\n",
    "    CVE = sumario_HTML.xpath('//*[@id=\"disposicions_cos_bloc\"]/li[contains(text()[1],\"CVE\")]/text()[2]')\n",
    "    numero_DOGC = sumario_HTML.xpath('//*[@id=\"disposicions_cos_bloc\"]/li[contains(text()[1],\"Número del DOGC\")]/text()[2]')\n",
    "    fecha_DOGC = sumario_HTML.xpath('//*[@id=\"disposicions_cos_bloc\"]/li[contains(text()[1],\"Fecha del DOGC\")]/text()[2]')\n",
    "    seccion_DOGC = sumario_HTML.xpath('//*[@id=\"disposicions_cos_bloc\"]/li[contains(text()[1],\"Sección del DOGC\")]/text()[2]')\n",
    "\n",
    "    DOGC_sumarios['item_urlXML'][i] = item_urlXML\n",
    "\n",
    "    DOGC_sumarios['tipo_doc'][i] = tipo_doc\n",
    "    DOGC_sumarios['fecha_doc'][i] = fecha_doc\n",
    "    DOGC_sumarios['numero_doc'][i] = numero_doc\n",
    "    DOGC_sumarios['numero_control'][i] = numero_control\n",
    "    DOGC_sumarios['entidad_emisora'][i] = entidad_emisora\n",
    "    DOGC_sumarios['CVE'][i] = CVE\n",
    "    DOGC_sumarios['numero_DOGC'][i] = numero_DOGC\n",
    "    DOGC_sumarios['fecha_DOGC'][i] = fecha_DOGC\n",
    "    DOGC_sumarios['seccion_DOGC'][i] = seccion_DOGC\n",
    "\n",
    "    # Recoge en una lista todos los parágrafos del texto completo\n",
    "    fullText = []\n",
    "    for div in sumario_HTML.xpath('//*[@id=\"fullText\"]/div/div/div'):\n",
    "        fullText.append(div.text_content())\n",
    "\n",
    "    # Convierte la lista en una string\n",
    "    fullText = ' '.join(fullText)\n",
    "\n",
    "    DOGC_sumarios['item_fullText'][i] = fullText\n",
    "\n",
    "\n",
    "driver.quit()"
   ]
  },
  {
   "cell_type": "code",
   "execution_count": 29,
   "metadata": {},
   "outputs": [
    {
     "output_type": "execute_result",
     "data": {
      "text/plain": [
       "                                           item_Title  \\\n",
       "0   CORRECCIÓN DE ERRATAS en la Ley 9/2019, de 23 ...   \n",
       "1   ORDEN VEH/49/2021, de 1 de marzo, por la que s...   \n",
       "2   RESOLUCIÓN INT/570/2021, de 26 de febrero, de ...   \n",
       "3   RESOLUCIÓN INT/571/2021, de 26 de febrero, de ...   \n",
       "4   DECRETO 12/2021, de 2 de marzo, de la Inspecci...   \n",
       "5   RESOLUCIÓN EDU/572/2021, de 25 de febrero, por...   \n",
       "6   ORDEN SLT/48/2021, de 1 de marzo, por la que s...   \n",
       "7   EDICTO de 25 de febrero de 2021, sobre un acue...   \n",
       "8   ACUERDO GOV/22/2021, de 2 de marzo, por el que...   \n",
       "9   RESOLUCIÓN CLT/497/2021, de 16 de febrero, por...   \n",
       "10  RESOLUCIÓN CLT/498/2021, de 16 de febrero, por...   \n",
       "11  RESOLUCIÓN CLT/499/2021, de 16 de febrero, por...   \n",
       "12  RESOLUCIÓN CLT/559/2021, de 26 de febrero, por...   \n",
       "13  RESOLUCIÓN EMC/514/2021, de 17 de febrero, por...   \n",
       "14  DECRETO 13/2021, de 2 de marzo, por el que se ...   \n",
       "\n",
       "                                         item_urlHTML  \\\n",
       "0   https://dogc.gencat.cat/es/document-del-dogc/?...   \n",
       "1   https://dogc.gencat.cat/es/document-del-dogc/?...   \n",
       "2   https://dogc.gencat.cat/es/document-del-dogc/?...   \n",
       "3   https://dogc.gencat.cat/es/document-del-dogc/?...   \n",
       "4   https://dogc.gencat.cat/es/document-del-dogc/?...   \n",
       "5   https://dogc.gencat.cat/es/document-del-dogc/?...   \n",
       "6   https://dogc.gencat.cat/es/document-del-dogc/?...   \n",
       "7   https://dogc.gencat.cat/es/document-del-dogc/?...   \n",
       "8   https://dogc.gencat.cat/es/document-del-dogc/?...   \n",
       "9   https://dogc.gencat.cat/es/document-del-dogc/?...   \n",
       "10  https://dogc.gencat.cat/es/document-del-dogc/?...   \n",
       "11  https://dogc.gencat.cat/es/document-del-dogc/?...   \n",
       "12  https://dogc.gencat.cat/es/document-del-dogc/?...   \n",
       "13  https://dogc.gencat.cat/es/document-del-dogc/?...   \n",
       "14  https://dogc.gencat.cat/es/document-del-dogc/?...   \n",
       "\n",
       "                                          item_urlPDF  \\\n",
       "0   https://portaldogc.gencat.cat/utilsEADOP/AppJa...   \n",
       "1   https://portaldogc.gencat.cat/utilsEADOP/AppJa...   \n",
       "2   https://portaldogc.gencat.cat/utilsEADOP/AppJa...   \n",
       "3   https://portaldogc.gencat.cat/utilsEADOP/AppJa...   \n",
       "4   https://portaldogc.gencat.cat/utilsEADOP/AppJa...   \n",
       "5   https://portaldogc.gencat.cat/utilsEADOP/AppJa...   \n",
       "6   https://portaldogc.gencat.cat/utilsEADOP/AppJa...   \n",
       "7   https://portaldogc.gencat.cat/utilsEADOP/AppJa...   \n",
       "8   https://portaldogc.gencat.cat/utilsEADOP/AppJa...   \n",
       "9   https://portaldogc.gencat.cat/utilsEADOP/AppJa...   \n",
       "10  https://portaldogc.gencat.cat/utilsEADOP/AppJa...   \n",
       "11  https://portaldogc.gencat.cat/utilsEADOP/AppJa...   \n",
       "12  https://portaldogc.gencat.cat/utilsEADOP/AppJa...   \n",
       "13  https://portaldogc.gencat.cat/utilsEADOP/AppJa...   \n",
       "14  https://portaldogc.gencat.cat/utilsEADOP/AppJa...   \n",
       "\n",
       "                                        item_fullText  \\\n",
       "0   Habiéndose detectado una errata en la Ley 9/20...   \n",
       "1   El artículo 159.1.a) del Estatuto de autonomía...   \n",
       "2   El Departamento de Interior, mediante la Resol...   \n",
       "3    \\nEl Departamento de Interior, mediante la Re...   \n",
       "4   El artículo 131.2 del Estatuto de autonomía de...   \n",
       "5   Mediante la Resolución EDU/772/2020, de 24 de ...   \n",
       "6   El Decreto 215/1990, de 30 de julio, de promoc...   \n",
       "7   La Comisión Territorial de Urbanismo de El Cam...   \n",
       "8   El Instituto Ramon Muntaner, Fundación Privada...   \n",
       "9   Visto el Acuerdo del Consejo de Administración...   \n",
       "10  Visto el Acuerdo del Consejo de Administración...   \n",
       "11  Visto el Acuerdo del Consejo de Administración...   \n",
       "12  Visto el Acuerdo del Consejo de Administración...   \n",
       "13  La Ley 7/2001, de 31 de mayo (DOGC núm. 3407, ...   \n",
       "14  El artículo 53 del Estatuto de autonomía de Ca...   \n",
       "\n",
       "                                          item_urlXML  \\\n",
       "0   [https://portaldogc.gencat.cat/utilsEADOP/AppJ...   \n",
       "1   [https://portaldogc.gencat.cat/utilsEADOP/AppJ...   \n",
       "2   [https://portaldogc.gencat.cat/utilsEADOP/AppJ...   \n",
       "3   [https://portaldogc.gencat.cat/utilsEADOP/AppJ...   \n",
       "4   [https://portaldogc.gencat.cat/utilsEADOP/AppJ...   \n",
       "5   [https://portaldogc.gencat.cat/utilsEADOP/AppJ...   \n",
       "6   [https://portaldogc.gencat.cat/utilsEADOP/AppJ...   \n",
       "7   [https://portaldogc.gencat.cat/utilsEADOP/AppJ...   \n",
       "8   [https://portaldogc.gencat.cat/utilsEADOP/AppJ...   \n",
       "9   [https://portaldogc.gencat.cat/utilsEADOP/AppJ...   \n",
       "10  [https://portaldogc.gencat.cat/utilsEADOP/AppJ...   \n",
       "11  [https://portaldogc.gencat.cat/utilsEADOP/AppJ...   \n",
       "12  [https://portaldogc.gencat.cat/utilsEADOP/AppJ...   \n",
       "13  [https://portaldogc.gencat.cat/utilsEADOP/AppJ...   \n",
       "14  [https://portaldogc.gencat.cat/utilsEADOP/AppJ...   \n",
       "\n",
       "                   tipo_doc     fecha_doc       numero_doc numero_control  \\\n",
       "0   [Corrección de erratas]  [01/03/2021]               []     [21061054]   \n",
       "1                   [Orden]  [01/03/2021]  [VEH/0049/2021]     [21061055]   \n",
       "2              [Resolución]  [26/02/2021]  [INT/0570/2021]     [21061058]   \n",
       "3              [Resolución]  [26/02/2021]  [INT/0571/2021]     [21061059]   \n",
       "4                 [Decreto]  [02/03/2021]       [012/2021]     [21061108]   \n",
       "5              [Resolución]  [25/02/2021]  [EDU/0572/2021]     [21061060]   \n",
       "6                   [Orden]  [01/03/2021]  [SLT/0048/2021]     [21061061]   \n",
       "7                 [Edicto ]  [25/02/2021]               []     [21056014]   \n",
       "8   [Acuerdo del gobierno ]  [02/03/2021]  [GOV/0022/2021]     [21062071]   \n",
       "9              [Resolución]  [16/02/2021]  [CLT/0497/2021]     [21055047]   \n",
       "10             [Resolución]  [16/02/2021]  [CLT/0498/2021]     [21055048]   \n",
       "11             [Resolución]  [16/02/2021]  [CLT/0499/2021]     [21055049]   \n",
       "12             [Resolución]  [26/02/2021]  [CLT/0559/2021]     [21060044]   \n",
       "13             [Resolución]  [17/02/2021]  [EMC/0514/2021]     [21056038]   \n",
       "14                [Decreto]  [02/03/2021]       [013/2021]     [21061109]   \n",
       "\n",
       "                                      entidad_emisora  \\\n",
       "0                    [Departamento de la Presidencia]   \n",
       "1   [Departamento de la Vicepresidencia y de Econo...   \n",
       "2                          [Departamento de Interior]   \n",
       "3                          [Departamento de Interior]   \n",
       "4                         [Departamento de Educación]   \n",
       "5                         [Departamento de Educación]   \n",
       "6                             [Departamento de Salud]   \n",
       "7       [Departamento de Territorio y Sostenibilidad]   \n",
       "8                           [Departamento de Cultura]   \n",
       "9         [Oficina de Apoyo a la Iniciativa Cultural]   \n",
       "10        [Oficina de Apoyo a la Iniciativa Cultural]   \n",
       "11        [Oficina de Apoyo a la Iniciativa Cultural]   \n",
       "12     [Instituto Catalán de las Empresas Culturales]   \n",
       "13  [Agencia de Gestión de Ayudas Universitarias y...   \n",
       "14  [Departamento de Políticas Digitales y Adminis...   \n",
       "\n",
       "                           CVE numero_DOGC    fecha_DOGC     seccion_DOGC  \n",
       "0   [CVE-DOGC-B-21061054-2021]      [8356]  [04/03/2021]  [Disposiciones]  \n",
       "1   [CVE-DOGC-B-21061055-2021]      [8356]  [04/03/2021]  [Disposiciones]  \n",
       "2   [CVE-DOGC-B-21061058-2021]      [8356]  [04/03/2021]  [Disposiciones]  \n",
       "3   [CVE-DOGC-B-21061059-2021]      [8356]  [04/03/2021]  [Disposiciones]  \n",
       "4   [CVE-DOGC-B-21061108-2021]      [8356]  [04/03/2021]  [Disposiciones]  \n",
       "5   [CVE-DOGC-B-21061060-2021]      [8356]  [04/03/2021]  [Disposiciones]  \n",
       "6   [CVE-DOGC-B-21061061-2021]      [8356]  [04/03/2021]  [Disposiciones]  \n",
       "7   [CVE-DOGC-B-21056014-2021]      [8356]  [04/03/2021]  [Disposiciones]  \n",
       "8   [CVE-DOGC-B-21062071-2021]      [8356]  [04/03/2021]  [Disposiciones]  \n",
       "9   [CVE-DOGC-B-21055047-2021]      [8356]  [04/03/2021]  [Disposiciones]  \n",
       "10  [CVE-DOGC-B-21055048-2021]      [8356]  [04/03/2021]  [Disposiciones]  \n",
       "11  [CVE-DOGC-B-21055049-2021]      [8356]  [04/03/2021]  [Disposiciones]  \n",
       "12  [CVE-DOGC-B-21060044-2021]      [8356]  [04/03/2021]  [Disposiciones]  \n",
       "13  [CVE-DOGC-B-21056038-2021]      [8356]  [04/03/2021]  [Disposiciones]  \n",
       "14  [CVE-DOGC-B-21061109-2021]      [8356]  [04/03/2021]  [Disposiciones]  "
      ],
      "text/html": "<div>\n<style scoped>\n    .dataframe tbody tr th:only-of-type {\n        vertical-align: middle;\n    }\n\n    .dataframe tbody tr th {\n        vertical-align: top;\n    }\n\n    .dataframe thead th {\n        text-align: right;\n    }\n</style>\n<table border=\"1\" class=\"dataframe\">\n  <thead>\n    <tr style=\"text-align: right;\">\n      <th></th>\n      <th>item_Title</th>\n      <th>item_urlHTML</th>\n      <th>item_urlPDF</th>\n      <th>item_fullText</th>\n      <th>item_urlXML</th>\n      <th>tipo_doc</th>\n      <th>fecha_doc</th>\n      <th>numero_doc</th>\n      <th>numero_control</th>\n      <th>entidad_emisora</th>\n      <th>CVE</th>\n      <th>numero_DOGC</th>\n      <th>fecha_DOGC</th>\n      <th>seccion_DOGC</th>\n    </tr>\n  </thead>\n  <tbody>\n    <tr>\n      <th>0</th>\n      <td>CORRECCIÓN DE ERRATAS en la Ley 9/2019, de 23 ...</td>\n      <td>https://dogc.gencat.cat/es/document-del-dogc/?...</td>\n      <td>https://portaldogc.gencat.cat/utilsEADOP/AppJa...</td>\n      <td>Habiéndose detectado una errata en la Ley 9/20...</td>\n      <td>[https://portaldogc.gencat.cat/utilsEADOP/AppJ...</td>\n      <td>[Corrección de erratas]</td>\n      <td>[01/03/2021]</td>\n      <td>[]</td>\n      <td>[21061054]</td>\n      <td>[Departamento de la Presidencia]</td>\n      <td>[CVE-DOGC-B-21061054-2021]</td>\n      <td>[8356]</td>\n      <td>[04/03/2021]</td>\n      <td>[Disposiciones]</td>\n    </tr>\n    <tr>\n      <th>1</th>\n      <td>ORDEN VEH/49/2021, de 1 de marzo, por la que s...</td>\n      <td>https://dogc.gencat.cat/es/document-del-dogc/?...</td>\n      <td>https://portaldogc.gencat.cat/utilsEADOP/AppJa...</td>\n      <td>El artículo 159.1.a) del Estatuto de autonomía...</td>\n      <td>[https://portaldogc.gencat.cat/utilsEADOP/AppJ...</td>\n      <td>[Orden]</td>\n      <td>[01/03/2021]</td>\n      <td>[VEH/0049/2021]</td>\n      <td>[21061055]</td>\n      <td>[Departamento de la Vicepresidencia y de Econo...</td>\n      <td>[CVE-DOGC-B-21061055-2021]</td>\n      <td>[8356]</td>\n      <td>[04/03/2021]</td>\n      <td>[Disposiciones]</td>\n    </tr>\n    <tr>\n      <th>2</th>\n      <td>RESOLUCIÓN INT/570/2021, de 26 de febrero, de ...</td>\n      <td>https://dogc.gencat.cat/es/document-del-dogc/?...</td>\n      <td>https://portaldogc.gencat.cat/utilsEADOP/AppJa...</td>\n      <td>El Departamento de Interior, mediante la Resol...</td>\n      <td>[https://portaldogc.gencat.cat/utilsEADOP/AppJ...</td>\n      <td>[Resolución]</td>\n      <td>[26/02/2021]</td>\n      <td>[INT/0570/2021]</td>\n      <td>[21061058]</td>\n      <td>[Departamento de Interior]</td>\n      <td>[CVE-DOGC-B-21061058-2021]</td>\n      <td>[8356]</td>\n      <td>[04/03/2021]</td>\n      <td>[Disposiciones]</td>\n    </tr>\n    <tr>\n      <th>3</th>\n      <td>RESOLUCIÓN INT/571/2021, de 26 de febrero, de ...</td>\n      <td>https://dogc.gencat.cat/es/document-del-dogc/?...</td>\n      <td>https://portaldogc.gencat.cat/utilsEADOP/AppJa...</td>\n      <td>\\nEl Departamento de Interior, mediante la Re...</td>\n      <td>[https://portaldogc.gencat.cat/utilsEADOP/AppJ...</td>\n      <td>[Resolución]</td>\n      <td>[26/02/2021]</td>\n      <td>[INT/0571/2021]</td>\n      <td>[21061059]</td>\n      <td>[Departamento de Interior]</td>\n      <td>[CVE-DOGC-B-21061059-2021]</td>\n      <td>[8356]</td>\n      <td>[04/03/2021]</td>\n      <td>[Disposiciones]</td>\n    </tr>\n    <tr>\n      <th>4</th>\n      <td>DECRETO 12/2021, de 2 de marzo, de la Inspecci...</td>\n      <td>https://dogc.gencat.cat/es/document-del-dogc/?...</td>\n      <td>https://portaldogc.gencat.cat/utilsEADOP/AppJa...</td>\n      <td>El artículo 131.2 del Estatuto de autonomía de...</td>\n      <td>[https://portaldogc.gencat.cat/utilsEADOP/AppJ...</td>\n      <td>[Decreto]</td>\n      <td>[02/03/2021]</td>\n      <td>[012/2021]</td>\n      <td>[21061108]</td>\n      <td>[Departamento de Educación]</td>\n      <td>[CVE-DOGC-B-21061108-2021]</td>\n      <td>[8356]</td>\n      <td>[04/03/2021]</td>\n      <td>[Disposiciones]</td>\n    </tr>\n    <tr>\n      <th>5</th>\n      <td>RESOLUCIÓN EDU/572/2021, de 25 de febrero, por...</td>\n      <td>https://dogc.gencat.cat/es/document-del-dogc/?...</td>\n      <td>https://portaldogc.gencat.cat/utilsEADOP/AppJa...</td>\n      <td>Mediante la Resolución EDU/772/2020, de 24 de ...</td>\n      <td>[https://portaldogc.gencat.cat/utilsEADOP/AppJ...</td>\n      <td>[Resolución]</td>\n      <td>[25/02/2021]</td>\n      <td>[EDU/0572/2021]</td>\n      <td>[21061060]</td>\n      <td>[Departamento de Educación]</td>\n      <td>[CVE-DOGC-B-21061060-2021]</td>\n      <td>[8356]</td>\n      <td>[04/03/2021]</td>\n      <td>[Disposiciones]</td>\n    </tr>\n    <tr>\n      <th>6</th>\n      <td>ORDEN SLT/48/2021, de 1 de marzo, por la que s...</td>\n      <td>https://dogc.gencat.cat/es/document-del-dogc/?...</td>\n      <td>https://portaldogc.gencat.cat/utilsEADOP/AppJa...</td>\n      <td>El Decreto 215/1990, de 30 de julio, de promoc...</td>\n      <td>[https://portaldogc.gencat.cat/utilsEADOP/AppJ...</td>\n      <td>[Orden]</td>\n      <td>[01/03/2021]</td>\n      <td>[SLT/0048/2021]</td>\n      <td>[21061061]</td>\n      <td>[Departamento de Salud]</td>\n      <td>[CVE-DOGC-B-21061061-2021]</td>\n      <td>[8356]</td>\n      <td>[04/03/2021]</td>\n      <td>[Disposiciones]</td>\n    </tr>\n    <tr>\n      <th>7</th>\n      <td>EDICTO de 25 de febrero de 2021, sobre un acue...</td>\n      <td>https://dogc.gencat.cat/es/document-del-dogc/?...</td>\n      <td>https://portaldogc.gencat.cat/utilsEADOP/AppJa...</td>\n      <td>La Comisión Territorial de Urbanismo de El Cam...</td>\n      <td>[https://portaldogc.gencat.cat/utilsEADOP/AppJ...</td>\n      <td>[Edicto ]</td>\n      <td>[25/02/2021]</td>\n      <td>[]</td>\n      <td>[21056014]</td>\n      <td>[Departamento de Territorio y Sostenibilidad]</td>\n      <td>[CVE-DOGC-B-21056014-2021]</td>\n      <td>[8356]</td>\n      <td>[04/03/2021]</td>\n      <td>[Disposiciones]</td>\n    </tr>\n    <tr>\n      <th>8</th>\n      <td>ACUERDO GOV/22/2021, de 2 de marzo, por el que...</td>\n      <td>https://dogc.gencat.cat/es/document-del-dogc/?...</td>\n      <td>https://portaldogc.gencat.cat/utilsEADOP/AppJa...</td>\n      <td>El Instituto Ramon Muntaner, Fundación Privada...</td>\n      <td>[https://portaldogc.gencat.cat/utilsEADOP/AppJ...</td>\n      <td>[Acuerdo del gobierno ]</td>\n      <td>[02/03/2021]</td>\n      <td>[GOV/0022/2021]</td>\n      <td>[21062071]</td>\n      <td>[Departamento de Cultura]</td>\n      <td>[CVE-DOGC-B-21062071-2021]</td>\n      <td>[8356]</td>\n      <td>[04/03/2021]</td>\n      <td>[Disposiciones]</td>\n    </tr>\n    <tr>\n      <th>9</th>\n      <td>RESOLUCIÓN CLT/497/2021, de 16 de febrero, por...</td>\n      <td>https://dogc.gencat.cat/es/document-del-dogc/?...</td>\n      <td>https://portaldogc.gencat.cat/utilsEADOP/AppJa...</td>\n      <td>Visto el Acuerdo del Consejo de Administración...</td>\n      <td>[https://portaldogc.gencat.cat/utilsEADOP/AppJ...</td>\n      <td>[Resolución]</td>\n      <td>[16/02/2021]</td>\n      <td>[CLT/0497/2021]</td>\n      <td>[21055047]</td>\n      <td>[Oficina de Apoyo a la Iniciativa Cultural]</td>\n      <td>[CVE-DOGC-B-21055047-2021]</td>\n      <td>[8356]</td>\n      <td>[04/03/2021]</td>\n      <td>[Disposiciones]</td>\n    </tr>\n    <tr>\n      <th>10</th>\n      <td>RESOLUCIÓN CLT/498/2021, de 16 de febrero, por...</td>\n      <td>https://dogc.gencat.cat/es/document-del-dogc/?...</td>\n      <td>https://portaldogc.gencat.cat/utilsEADOP/AppJa...</td>\n      <td>Visto el Acuerdo del Consejo de Administración...</td>\n      <td>[https://portaldogc.gencat.cat/utilsEADOP/AppJ...</td>\n      <td>[Resolución]</td>\n      <td>[16/02/2021]</td>\n      <td>[CLT/0498/2021]</td>\n      <td>[21055048]</td>\n      <td>[Oficina de Apoyo a la Iniciativa Cultural]</td>\n      <td>[CVE-DOGC-B-21055048-2021]</td>\n      <td>[8356]</td>\n      <td>[04/03/2021]</td>\n      <td>[Disposiciones]</td>\n    </tr>\n    <tr>\n      <th>11</th>\n      <td>RESOLUCIÓN CLT/499/2021, de 16 de febrero, por...</td>\n      <td>https://dogc.gencat.cat/es/document-del-dogc/?...</td>\n      <td>https://portaldogc.gencat.cat/utilsEADOP/AppJa...</td>\n      <td>Visto el Acuerdo del Consejo de Administración...</td>\n      <td>[https://portaldogc.gencat.cat/utilsEADOP/AppJ...</td>\n      <td>[Resolución]</td>\n      <td>[16/02/2021]</td>\n      <td>[CLT/0499/2021]</td>\n      <td>[21055049]</td>\n      <td>[Oficina de Apoyo a la Iniciativa Cultural]</td>\n      <td>[CVE-DOGC-B-21055049-2021]</td>\n      <td>[8356]</td>\n      <td>[04/03/2021]</td>\n      <td>[Disposiciones]</td>\n    </tr>\n    <tr>\n      <th>12</th>\n      <td>RESOLUCIÓN CLT/559/2021, de 26 de febrero, por...</td>\n      <td>https://dogc.gencat.cat/es/document-del-dogc/?...</td>\n      <td>https://portaldogc.gencat.cat/utilsEADOP/AppJa...</td>\n      <td>Visto el Acuerdo del Consejo de Administración...</td>\n      <td>[https://portaldogc.gencat.cat/utilsEADOP/AppJ...</td>\n      <td>[Resolución]</td>\n      <td>[26/02/2021]</td>\n      <td>[CLT/0559/2021]</td>\n      <td>[21060044]</td>\n      <td>[Instituto Catalán de las Empresas Culturales]</td>\n      <td>[CVE-DOGC-B-21060044-2021]</td>\n      <td>[8356]</td>\n      <td>[04/03/2021]</td>\n      <td>[Disposiciones]</td>\n    </tr>\n    <tr>\n      <th>13</th>\n      <td>RESOLUCIÓN EMC/514/2021, de 17 de febrero, por...</td>\n      <td>https://dogc.gencat.cat/es/document-del-dogc/?...</td>\n      <td>https://portaldogc.gencat.cat/utilsEADOP/AppJa...</td>\n      <td>La Ley 7/2001, de 31 de mayo (DOGC núm. 3407, ...</td>\n      <td>[https://portaldogc.gencat.cat/utilsEADOP/AppJ...</td>\n      <td>[Resolución]</td>\n      <td>[17/02/2021]</td>\n      <td>[EMC/0514/2021]</td>\n      <td>[21056038]</td>\n      <td>[Agencia de Gestión de Ayudas Universitarias y...</td>\n      <td>[CVE-DOGC-B-21056038-2021]</td>\n      <td>[8356]</td>\n      <td>[04/03/2021]</td>\n      <td>[Disposiciones]</td>\n    </tr>\n    <tr>\n      <th>14</th>\n      <td>DECRETO 13/2021, de 2 de marzo, por el que se ...</td>\n      <td>https://dogc.gencat.cat/es/document-del-dogc/?...</td>\n      <td>https://portaldogc.gencat.cat/utilsEADOP/AppJa...</td>\n      <td>El artículo 53 del Estatuto de autonomía de Ca...</td>\n      <td>[https://portaldogc.gencat.cat/utilsEADOP/AppJ...</td>\n      <td>[Decreto]</td>\n      <td>[02/03/2021]</td>\n      <td>[013/2021]</td>\n      <td>[21061109]</td>\n      <td>[Departamento de Políticas Digitales y Adminis...</td>\n      <td>[CVE-DOGC-B-21061109-2021]</td>\n      <td>[8356]</td>\n      <td>[04/03/2021]</td>\n      <td>[Disposiciones]</td>\n    </tr>\n  </tbody>\n</table>\n</div>"
     },
     "metadata": {},
     "execution_count": 29
    }
   ],
   "source": [
    "DOGC_sumarios"
   ]
  },
  {
   "cell_type": "code",
   "execution_count": 30,
   "metadata": {},
   "outputs": [
    {
     "output_type": "execute_result",
     "data": {
      "text/plain": [
       "'Habiéndose detectado una errata en la Ley 9/2019 (publicada en el DOGC núm. 8032, de fecha 30.12.2019), procede realizar las siguientes correcciones:\\n\\xa0\\nEn el artículo 8\\nDonde dice:\\n«Se modifica el artículo 47 de la Ley 16/2017, de 1 de agosto, del cambio climático, que queda redactado del siguiente modo:\\n«Artículo 47. Padrón\\n»[…]\\n»7. No deben incluirse en el padrón definitivo:\\n»[…]\\n»b) Los vehículos que devenguen una cuota líquida a la cuantía que se apruebe de conformidad con lo dispuesto por el artículo 26.4 del texto refundido de la Ley de finanzas públicas de Cataluña, aprobado por el Decreto legislativo 3/2002, de 24 de diciembre. Esta regla de no inclusión no se aplica respecto a los vehículos que son de la titularidad de un mismo sujeto pasivo, siempre que la suma de las cuotas líquidas devengadas por todos los vehículos supere dicha cuantía.»\\n Debe decir:\\n«Se modifica el artículo 47 de la Ley 16/2017, de 1 de agosto, del cambio climático, que queda redactado del siguiente modo:\\n«Artículo 47. Padrón\\n»[…]\\n»7. No deben incluirse en el padrón definitivo:\\n»[…]\\n»b) Los vehículos que devenguen una cuota líquida igual o inferior a la cuantía que se apruebe de conformidad con lo dispuesto por el artículo 26.4 del texto refundido de la Ley de finanzas públicas de Cataluña, aprobado por el Decreto legislativo 3/2002, de 24 de diciembre. Esta regla de no inclusión no se aplica respecto a los vehículos que son de la titularidad de un mismo sujeto pasivo, siempre que la suma de las cuotas líquidas devengadas por todos los vehículos supere dicha cuantía.»\\n'"
      ]
     },
     "metadata": {},
     "execution_count": 30
    }
   ],
   "source": [
    "DOGC_sumarios['item_fullText'][0]"
   ]
  },
  {
   "cell_type": "code",
   "execution_count": 31,
   "metadata": {},
   "outputs": [],
   "source": [
    "# Crea nueva columna vacía de tipo lista en tabla_analisis\n",
    "#DOCM_sumarios['Referencias_completas'] = [[] for i in range(len(tabla_analisis))]\n",
    "DOGC_sumarios['Tags'] = [[] for i in range(len(DOGC_sumarios))]\n",
    "DOGC_sumarios['Match_ASECORP_BBDD'] = [[] for i in range(len(DOGC_sumarios))]"
   ]
  },
  {
   "cell_type": "code",
   "execution_count": 32,
   "metadata": {},
   "outputs": [],
   "source": [
    "pattern = ['Ley [0-9]+\\/[0-9]+','Real Decreto [0-9]+\\/[0-9]+','Real Decreto Legislativo [0-9]+\\/[0-9]+','Real Decreto-ley [0-9]+\\/[0-9]+','Orden [A-Z]+\\/[0-9]+\\/[0-9]+','Orden Circular [0-9]+\\/[0-9]+','Reglamento \\(UE\\) [0-9]+\\/[0-9]+', 'Reglamento de Ejeución \\(UE\\) [0-9]+\\/[0-9]+' ,'Sentencia de [0-9]+ de [a-z]+ de [0-9]+','Sentencia [0-9]+\\/[0-9]+','Orden de [0-9]+ de [a-z]+ de [0-9]+', 'Resolución de [0-9]+ de [a-z]+ de [0-9]+','Resolución [a-z]+\\/[0-9]+\\/[0-9]+', 'Nota de Servicio [0-9]+\\/[0-9]+', 'Acuerdo multilateral M\\-[0-9]+', 'Circular [0-9]+\\/[0-9]+', 'Decisión \\(UE\\) [0-9]+\\/[0-9]+', 'Decisión de Ejecución \\(UE\\) [0-9]+\\/[0-9]+']"
   ]
  },
  {
   "cell_type": "code",
   "execution_count": 33,
   "metadata": {},
   "outputs": [
    {
     "output_type": "stream",
     "name": "stdout",
     "text": [
      "['Ley 9/2019', 'Ley 16/2017', 'Ley 16/2017']\n",
      "['Ley 39/2015', 'Ley 19/2014', 'Ley 13/2008', 'Ley 4/1985', 'Ley 13/1989', 'Ley 13/2005', 'Orden de 3 de julio de 1998']\n",
      "['Resolución INT/3444/2020', 'Ley 39/2015', 'Resolución INT/3444/2020']\n",
      "['Resolución INT/3439/2020', 'Ley 39/2015', 'Resolución INT/3439/2020']\n",
      "['Ley 12/2009', 'Orden ENS/289/2002', 'Ley 19/2014', 'Ley 39/2015', 'Ley 26/2010', 'Ley 19/2014', 'Ley 13/2008', 'Ley 13/2008', 'Ley 12/2009', 'Orden ENS/289/2002', 'Ley 12/2009']\n",
      "['Resolución EDU/772/2020', 'Resolución EDU/772/2020', 'Ley 26/2010', 'Ley 39/2015']\n",
      "['Orden de 15 de mayo de 1991', 'Ley 15/1990', 'Orden PRE/194/2020', 'Ley 13/2008', 'Orden PRE/194/2020']\n",
      "['Ley 3/2012', 'Ley 39/2015', 'Ley 29/1998', 'Ley 29/1998', 'Ley 3/2012', 'Ley 2/2007', 'Ley 3/2012']\n",
      "['Ley 4/2008', 'Ley 5/2017', 'Ley 5/2017', 'Ley 13/2008']\n",
      "['Resolución CLT/3216/2020', 'Resolución CLT/198/2021', 'Resolución CLT/845/2019', 'Resolución CLT/3216/2020', 'Resolución CLT/198/2021', 'Resolución CLT/845/2019', 'Orden CLT/4/2013', 'Orden CLT/47/2014']\n",
      "['Resolución CLT/3216/2020', 'Resolución CLT/198/2021', 'Resolución CLT/1390/2019', 'Resolución CLT/3216/2020', 'Resolución CLT/198/2021', 'Resolución CLT/1390/2019', 'Orden CLT/4/2013', 'Orden CLT/47/2014']\n",
      "['Resolución CLT/3216/2020', 'Resolución CLT/198/2021', 'Resolución CLT/1390/2019', 'Resolución CLT/3216/2020', 'Resolución CLT/198/2021', 'Resolución CLT/1390/2019', 'Orden CLT/4/2013', 'Orden CLT/47/2014']\n",
      "['Resolución CLT/3142/2020', 'Resolución CLT/187/2021', 'Ley 38/2003', 'Resolución CLT/547/2015']\n",
      "['Ley 7/2001', 'Ley 38/2003', 'Real decreto 887/2006', 'Ley 38/2003', 'Resolución EMC/955/2017', 'Resolución EMC/955/2017', 'Resolución EMC/955/2017', 'Resolución EMC/955/2017', 'Resolución UNI/73/2003', 'Ley 39/2015', 'Ley 29/1998', 'Ley 39/2015', 'Ley 29/1998', 'Resolución UNI/73/2003']\n",
      "['Ley 3/1991', 'Ley 39/2015', 'Ley 39/2015', 'Ley 19/2014', 'Ley 7/2005', 'Ley 13/2008', 'Ley 39/2015', 'Ley 17/2015', 'Real decreto legislativo 2/2015', 'Ley 39/2015', 'Ley 39/2015', 'Ley 26/2010', 'Ley 39/2015', 'Real decreto 1224/2009', 'Orden PRE/18/2016', 'Orden EMO/215/2011']\n"
     ]
    }
   ],
   "source": [
    "for i, row in DOGC_sumarios.iterrows():\n",
    "    # Busca expresiones REGX coincidentes con Patrones definidos\n",
    "    DOGC_sumarios['Tags'][i] = re.findall('|'.join(pattern), str(row['item_fullText']), flags=re.IGNORECASE)\n",
    "    print(DOGC_sumarios['Tags'][i])"
   ]
  },
  {
   "cell_type": "code",
   "execution_count": 34,
   "metadata": {},
   "outputs": [
    {
     "output_type": "stream",
     "name": "stdout",
     "text": [
      "['Ley 9/2019', 'Ley 16/2017']\n['Ley 13/2008', 'Ley 19/2014', 'Ley 13/2005', 'Ley 39/2015', 'Ley 13/1989', 'Orden de 3 de julio de 1998', 'Ley 4/1985']\n['Ley 39/2015', 'Resolución INT/3444/2020']\n['Ley 39/2015', 'Resolución INT/3439/2020']\n['Ley 13/2008', 'Ley 26/2010', 'Ley 12/2009', 'Ley 39/2015', 'Ley 19/2014', 'Orden ENS/289/2002']\n['Ley 26/2010', 'Resolución EDU/772/2020', 'Ley 39/2015']\n['Orden de 15 de mayo de 1991', 'Orden PRE/194/2020', 'Ley 15/1990', 'Ley 13/2008']\n['Ley 29/1998', 'Ley 2/2007', 'Ley 39/2015', 'Ley 3/2012']\n['Ley 13/2008', 'Ley 5/2017', 'Ley 4/2008']\n['Orden CLT/47/2014', 'Resolución CLT/198/2021', 'Resolución CLT/3216/2020', 'Resolución CLT/845/2019', 'Orden CLT/4/2013']\n['Orden CLT/47/2014', 'Resolución CLT/198/2021', 'Resolución CLT/3216/2020', 'Resolución CLT/1390/2019', 'Orden CLT/4/2013']\n['Orden CLT/47/2014', 'Resolución CLT/198/2021', 'Resolución CLT/3216/2020', 'Resolución CLT/1390/2019', 'Orden CLT/4/2013']\n['Resolución CLT/547/2015', 'Ley 38/2003', 'Resolución CLT/187/2021', 'Resolución CLT/3142/2020']\n['Real decreto 887/2006', 'Ley 39/2015', 'Ley 29/1998', 'Ley 7/2001', 'Resolución UNI/73/2003', 'Ley 38/2003', 'Resolución EMC/955/2017']\n['Ley 17/2015', 'Ley 3/1991', 'Ley 13/2008', 'Orden PRE/18/2016', 'Ley 26/2010', 'Orden EMO/215/2011', 'Ley 39/2015', 'Real decreto 1224/2009', 'Real decreto legislativo 2/2015', 'Ley 7/2005', 'Ley 19/2014']\n"
     ]
    }
   ],
   "source": [
    "# Elimina Tags duplicados\n",
    "for i, row in DOGC_sumarios.iterrows():\n",
    "    DOGC_sumarios['Tags'][i] = list(set(DOGC_sumarios['Tags'][i]))\n",
    "    print(DOGC_sumarios['Tags'][i])"
   ]
  },
  {
   "cell_type": "code",
   "execution_count": 35,
   "metadata": {},
   "outputs": [
    {
     "output_type": "execute_result",
     "data": {
      "text/plain": [
       "[None,\n",
       " None,\n",
       " None,\n",
       " None,\n",
       " None,\n",
       " None,\n",
       " None,\n",
       " None,\n",
       " None,\n",
       " None,\n",
       " None,\n",
       " None,\n",
       " None,\n",
       " None,\n",
       " None,\n",
       " None,\n",
       " None,\n",
       " None,\n",
       " None,\n",
       " None,\n",
       " None,\n",
       " None,\n",
       " None,\n",
       " None,\n",
       " None,\n",
       " None,\n",
       " None,\n",
       " None,\n",
       " None,\n",
       " None,\n",
       " None,\n",
       " None,\n",
       " None,\n",
       " None,\n",
       " None,\n",
       " None,\n",
       " None,\n",
       " None,\n",
       " None,\n",
       " None,\n",
       " None,\n",
       " None,\n",
       " None,\n",
       " None,\n",
       " None,\n",
       " None,\n",
       " None,\n",
       " None,\n",
       " None,\n",
       " None,\n",
       " None,\n",
       " None,\n",
       " None,\n",
       " None,\n",
       " None,\n",
       " None,\n",
       " None,\n",
       " None,\n",
       " None,\n",
       " None,\n",
       " None,\n",
       " None,\n",
       " None,\n",
       " None,\n",
       " None,\n",
       " None,\n",
       " None,\n",
       " None,\n",
       " None,\n",
       " None]"
      ]
     },
     "metadata": {},
     "execution_count": 35
    }
   ],
   "source": [
    "regex_result = []\n",
    "[ regex_result.append(tag) for tags in DOGC_sumarios['Tags'] for tag in tags ]"
   ]
  },
  {
   "cell_type": "code",
   "execution_count": 36,
   "metadata": {},
   "outputs": [
    {
     "output_type": "stream",
     "name": "stdout",
     "text": [
      "['Ley 9/2019', 'Ley 16/2017', 'Ley 13/2008', 'Ley 19/2014', 'Ley 13/2005', 'Ley 39/2015', 'Ley 13/1989', 'Orden de 3 de julio de 1998', 'Ley 4/1985', 'Ley 39/2015', 'Resolución INT/3444/2020', 'Ley 39/2015', 'Resolución INT/3439/2020', 'Ley 13/2008', 'Ley 26/2010', 'Ley 12/2009', 'Ley 39/2015', 'Ley 19/2014', 'Orden ENS/289/2002', 'Ley 26/2010', 'Resolución EDU/772/2020', 'Ley 39/2015', 'Orden de 15 de mayo de 1991', 'Orden PRE/194/2020', 'Ley 15/1990', 'Ley 13/2008', 'Ley 29/1998', 'Ley 2/2007', 'Ley 39/2015', 'Ley 3/2012', 'Ley 13/2008', 'Ley 5/2017', 'Ley 4/2008', 'Orden CLT/47/2014', 'Resolución CLT/198/2021', 'Resolución CLT/3216/2020', 'Resolución CLT/845/2019', 'Orden CLT/4/2013', 'Orden CLT/47/2014', 'Resolución CLT/198/2021', 'Resolución CLT/3216/2020', 'Resolución CLT/1390/2019', 'Orden CLT/4/2013', 'Orden CLT/47/2014', 'Resolución CLT/198/2021', 'Resolución CLT/3216/2020', 'Resolución CLT/1390/2019', 'Orden CLT/4/2013', 'Resolución CLT/547/2015', 'Ley 38/2003', 'Resolución CLT/187/2021', 'Resolución CLT/3142/2020', 'Real decreto 887/2006', 'Ley 39/2015', 'Ley 29/1998', 'Ley 7/2001', 'Resolución UNI/73/2003', 'Ley 38/2003', 'Resolución EMC/955/2017', 'Ley 17/2015', 'Ley 3/1991', 'Ley 13/2008', 'Orden PRE/18/2016', 'Ley 26/2010', 'Orden EMO/215/2011', 'Ley 39/2015', 'Real decreto 1224/2009', 'Real decreto legislativo 2/2015', 'Ley 7/2005', 'Ley 19/2014']\n"
     ]
    }
   ],
   "source": [
    "print(regex_result)"
   ]
  },
  {
   "cell_type": "code",
   "execution_count": 37,
   "metadata": {},
   "outputs": [],
   "source": [
    "## Elimina duplicados\n",
    "boletin_flat_list = list(set(regex_result))"
   ]
  },
  {
   "cell_type": "code",
   "execution_count": 38,
   "metadata": {},
   "outputs": [
    {
     "output_type": "execute_result",
     "data": {
      "text/plain": [
       "['Resolución EDU/772/2020',\n",
       " 'Orden PRE/18/2016',\n",
       " 'Resolución CLT/3216/2020',\n",
       " 'Ley 12/2009',\n",
       " 'Ley 39/2015',\n",
       " 'Resolución CLT/547/2015',\n",
       " 'Ley 4/1985',\n",
       " 'Ley 17/2015',\n",
       " 'Ley 15/1990',\n",
       " 'Real decreto 887/2006',\n",
       " 'Ley 3/1991',\n",
       " 'Resolución CLT/187/2021',\n",
       " 'Ley 29/1998',\n",
       " 'Ley 4/2008',\n",
       " 'Ley 13/1989',\n",
       " 'Resolución INT/3439/2020',\n",
       " 'Resolución CLT/845/2019',\n",
       " 'Orden ENS/289/2002',\n",
       " 'Ley 13/2008',\n",
       " 'Resolución CLT/198/2021',\n",
       " 'Ley 26/2010',\n",
       " 'Resolución CLT/1390/2019',\n",
       " 'Orden EMO/215/2011',\n",
       " 'Ley 3/2012',\n",
       " 'Ley 5/2017',\n",
       " 'Ley 7/2001',\n",
       " 'Ley 7/2005',\n",
       " 'Resolución UNI/73/2003',\n",
       " 'Orden de 15 de mayo de 1991',\n",
       " 'Orden de 3 de julio de 1998',\n",
       " 'Ley 13/2005',\n",
       " 'Orden CLT/4/2013',\n",
       " 'Resolución INT/3444/2020',\n",
       " 'Orden CLT/47/2014',\n",
       " 'Ley 2/2007',\n",
       " 'Ley 9/2019',\n",
       " 'Orden PRE/194/2020',\n",
       " 'Resolución CLT/3142/2020',\n",
       " 'Real decreto 1224/2009',\n",
       " 'Real decreto legislativo 2/2015',\n",
       " 'Ley 16/2017',\n",
       " 'Ley 38/2003',\n",
       " 'Ley 19/2014',\n",
       " 'Resolución EMC/955/2017']"
      ]
     },
     "metadata": {},
     "execution_count": 38
    }
   ],
   "source": [
    "boletin_flat_list"
   ]
  },
  {
   "cell_type": "code",
   "execution_count": 39,
   "metadata": {},
   "outputs": [
    {
     "output_type": "stream",
     "name": "stdout",
     "text": [
      "['España', 'Europa', 'Cataluña']\n"
     ]
    }
   ],
   "source": [
    "# ## Importa BBDD ASECORP\n",
    "\n",
    "# Inicializa datos de BBDD_ASECORP\n",
    "boletin_ASECORP_flat_list = []\n",
    "ASECORP_BBDD = pd.DataFrame()\n",
    "ambitos = []\n",
    "\n",
    "# Incluir en llamada a función el ambito territorial como lista\n",
    "# si no se especifica ámbito los incluye todos\n",
    "boletin_ASECORP_flat_list, ASECORP_BBDD, ambitos = tagea_BBDD_ASECORP(['España','Europa','Cataluña'])\n",
    "\n",
    "print(ambitos)\n"
   ]
  },
  {
   "cell_type": "code",
   "execution_count": 40,
   "metadata": {},
   "outputs": [],
   "source": [
    "#boletin_ASECORP_flat_list"
   ]
  },
  {
   "cell_type": "code",
   "execution_count": 41,
   "metadata": {},
   "outputs": [
    {
     "output_type": "execute_result",
     "data": {
      "text/plain": [
       "set()"
      ]
     },
     "metadata": {},
     "execution_count": 41
    }
   ],
   "source": [
    "## Busca coincidencias entre lista boletines BOEs explorados y lista boletines de BBDD ASECORP\n",
    "set(boletin_flat_list) & set(boletin_ASECORP_flat_list)"
   ]
  },
  {
   "cell_type": "code",
   "execution_count": 42,
   "metadata": {},
   "outputs": [
    {
     "output_type": "stream",
     "name": "stdout",
     "text": [
      "{'Ley 16/2017'}\n",
      "{'Ley 9/2019', 'Ley 16/2017'}\n",
      "{'Ley 13/1989'}\n",
      "{'Ley 3/2012'}\n",
      "{'Ley 3/2012'}\n",
      "{'Ley 3/2012'}\n",
      "{'Ley 3/2012'}\n",
      "{'Ley 5/2017'}\n",
      "{'Ley 5/2017'}\n",
      "{'Ley 17/2015'}\n"
     ]
    }
   ],
   "source": [
    "#DOCM_sumarios['Tags'].isin(ASECORP_BBDD_BOE['Tags'])\n",
    "for row_to_compare in DOGC_sumarios['Tags']:\n",
    "    for row_comparing in ASECORP_BBDD['Tags']:\n",
    "        if set(row_comparing) & set(row_to_compare):\n",
    "            print(set(row_comparing) & set(row_to_compare))"
   ]
  },
  {
   "cell_type": "code",
   "execution_count": 43,
   "metadata": {},
   "outputs": [
    {
     "output_type": "stream",
     "name": "stdout",
     "text": [
      "{'Ley 16/2017'} LEY 16/2017 CAT\n",
      "{'Ley 9/2019', 'Ley 16/2017'} LEY 9/2019 CAT\n",
      "{'Ley 13/1989'} LEY 23/2002 CAT\n",
      "{'Ley 3/2012'} DLE 3/2012 CAT\n",
      "{'Ley 3/2012'} LEY 14/2015 CAT\n",
      "{'Ley 3/2012'} LEY 3/2012 CAT\n",
      "{'Ley 3/2012'} LEY 3/2012 ESP\n",
      "{'Ley 5/2017'} LEY 5/2017 CAT\n",
      "{'Ley 5/2017'} ORD EMC/155/2017 CAT\n",
      "{'Ley 17/2015'} LEY 17/2015 ESP\n"
     ]
    }
   ],
   "source": [
    "for i, row_to_compare in DOGC_sumarios.iterrows():\n",
    "    for j, row_comparing in ASECORP_BBDD.iterrows():\n",
    "        if set(row_to_compare['Tags']) & set(row_comparing['Tags']):\n",
    "            DOGC_sumarios['Match_ASECORP_BBDD'][i].append (ASECORP_BBDD['Codigo'][j])\n",
    "            print(str(set(row_to_compare['Tags']) & set(row_comparing['Tags'])) + ' ' + str(row_comparing['Codigo']))"
   ]
  },
  {
   "cell_type": "code",
   "execution_count": 44,
   "metadata": {},
   "outputs": [
    {
     "output_type": "execute_result",
     "data": {
      "text/plain": [
       "                                           item_Title  \\\n",
       "0   CORRECCIÓN DE ERRATAS en la Ley 9/2019, de 23 ...   \n",
       "1   ORDEN VEH/49/2021, de 1 de marzo, por la que s...   \n",
       "2   RESOLUCIÓN INT/570/2021, de 26 de febrero, de ...   \n",
       "3   RESOLUCIÓN INT/571/2021, de 26 de febrero, de ...   \n",
       "4   DECRETO 12/2021, de 2 de marzo, de la Inspecci...   \n",
       "5   RESOLUCIÓN EDU/572/2021, de 25 de febrero, por...   \n",
       "6   ORDEN SLT/48/2021, de 1 de marzo, por la que s...   \n",
       "7   EDICTO de 25 de febrero de 2021, sobre un acue...   \n",
       "8   ACUERDO GOV/22/2021, de 2 de marzo, por el que...   \n",
       "9   RESOLUCIÓN CLT/497/2021, de 16 de febrero, por...   \n",
       "10  RESOLUCIÓN CLT/498/2021, de 16 de febrero, por...   \n",
       "11  RESOLUCIÓN CLT/499/2021, de 16 de febrero, por...   \n",
       "12  RESOLUCIÓN CLT/559/2021, de 26 de febrero, por...   \n",
       "13  RESOLUCIÓN EMC/514/2021, de 17 de febrero, por...   \n",
       "14  DECRETO 13/2021, de 2 de marzo, por el que se ...   \n",
       "\n",
       "                                         item_urlHTML  \\\n",
       "0   https://dogc.gencat.cat/es/document-del-dogc/?...   \n",
       "1   https://dogc.gencat.cat/es/document-del-dogc/?...   \n",
       "2   https://dogc.gencat.cat/es/document-del-dogc/?...   \n",
       "3   https://dogc.gencat.cat/es/document-del-dogc/?...   \n",
       "4   https://dogc.gencat.cat/es/document-del-dogc/?...   \n",
       "5   https://dogc.gencat.cat/es/document-del-dogc/?...   \n",
       "6   https://dogc.gencat.cat/es/document-del-dogc/?...   \n",
       "7   https://dogc.gencat.cat/es/document-del-dogc/?...   \n",
       "8   https://dogc.gencat.cat/es/document-del-dogc/?...   \n",
       "9   https://dogc.gencat.cat/es/document-del-dogc/?...   \n",
       "10  https://dogc.gencat.cat/es/document-del-dogc/?...   \n",
       "11  https://dogc.gencat.cat/es/document-del-dogc/?...   \n",
       "12  https://dogc.gencat.cat/es/document-del-dogc/?...   \n",
       "13  https://dogc.gencat.cat/es/document-del-dogc/?...   \n",
       "14  https://dogc.gencat.cat/es/document-del-dogc/?...   \n",
       "\n",
       "                                          item_urlPDF  \\\n",
       "0   https://portaldogc.gencat.cat/utilsEADOP/AppJa...   \n",
       "1   https://portaldogc.gencat.cat/utilsEADOP/AppJa...   \n",
       "2   https://portaldogc.gencat.cat/utilsEADOP/AppJa...   \n",
       "3   https://portaldogc.gencat.cat/utilsEADOP/AppJa...   \n",
       "4   https://portaldogc.gencat.cat/utilsEADOP/AppJa...   \n",
       "5   https://portaldogc.gencat.cat/utilsEADOP/AppJa...   \n",
       "6   https://portaldogc.gencat.cat/utilsEADOP/AppJa...   \n",
       "7   https://portaldogc.gencat.cat/utilsEADOP/AppJa...   \n",
       "8   https://portaldogc.gencat.cat/utilsEADOP/AppJa...   \n",
       "9   https://portaldogc.gencat.cat/utilsEADOP/AppJa...   \n",
       "10  https://portaldogc.gencat.cat/utilsEADOP/AppJa...   \n",
       "11  https://portaldogc.gencat.cat/utilsEADOP/AppJa...   \n",
       "12  https://portaldogc.gencat.cat/utilsEADOP/AppJa...   \n",
       "13  https://portaldogc.gencat.cat/utilsEADOP/AppJa...   \n",
       "14  https://portaldogc.gencat.cat/utilsEADOP/AppJa...   \n",
       "\n",
       "                                        item_fullText  \\\n",
       "0   Habiéndose detectado una errata en la Ley 9/20...   \n",
       "1   El artículo 159.1.a) del Estatuto de autonomía...   \n",
       "2   El Departamento de Interior, mediante la Resol...   \n",
       "3    \\nEl Departamento de Interior, mediante la Re...   \n",
       "4   El artículo 131.2 del Estatuto de autonomía de...   \n",
       "5   Mediante la Resolución EDU/772/2020, de 24 de ...   \n",
       "6   El Decreto 215/1990, de 30 de julio, de promoc...   \n",
       "7   La Comisión Territorial de Urbanismo de El Cam...   \n",
       "8   El Instituto Ramon Muntaner, Fundación Privada...   \n",
       "9   Visto el Acuerdo del Consejo de Administración...   \n",
       "10  Visto el Acuerdo del Consejo de Administración...   \n",
       "11  Visto el Acuerdo del Consejo de Administración...   \n",
       "12  Visto el Acuerdo del Consejo de Administración...   \n",
       "13  La Ley 7/2001, de 31 de mayo (DOGC núm. 3407, ...   \n",
       "14  El artículo 53 del Estatuto de autonomía de Ca...   \n",
       "\n",
       "                                          item_urlXML  \\\n",
       "0   [https://portaldogc.gencat.cat/utilsEADOP/AppJ...   \n",
       "1   [https://portaldogc.gencat.cat/utilsEADOP/AppJ...   \n",
       "2   [https://portaldogc.gencat.cat/utilsEADOP/AppJ...   \n",
       "3   [https://portaldogc.gencat.cat/utilsEADOP/AppJ...   \n",
       "4   [https://portaldogc.gencat.cat/utilsEADOP/AppJ...   \n",
       "5   [https://portaldogc.gencat.cat/utilsEADOP/AppJ...   \n",
       "6   [https://portaldogc.gencat.cat/utilsEADOP/AppJ...   \n",
       "7   [https://portaldogc.gencat.cat/utilsEADOP/AppJ...   \n",
       "8   [https://portaldogc.gencat.cat/utilsEADOP/AppJ...   \n",
       "9   [https://portaldogc.gencat.cat/utilsEADOP/AppJ...   \n",
       "10  [https://portaldogc.gencat.cat/utilsEADOP/AppJ...   \n",
       "11  [https://portaldogc.gencat.cat/utilsEADOP/AppJ...   \n",
       "12  [https://portaldogc.gencat.cat/utilsEADOP/AppJ...   \n",
       "13  [https://portaldogc.gencat.cat/utilsEADOP/AppJ...   \n",
       "14  [https://portaldogc.gencat.cat/utilsEADOP/AppJ...   \n",
       "\n",
       "                   tipo_doc     fecha_doc       numero_doc numero_control  \\\n",
       "0   [Corrección de erratas]  [01/03/2021]               []     [21061054]   \n",
       "1                   [Orden]  [01/03/2021]  [VEH/0049/2021]     [21061055]   \n",
       "2              [Resolución]  [26/02/2021]  [INT/0570/2021]     [21061058]   \n",
       "3              [Resolución]  [26/02/2021]  [INT/0571/2021]     [21061059]   \n",
       "4                 [Decreto]  [02/03/2021]       [012/2021]     [21061108]   \n",
       "5              [Resolución]  [25/02/2021]  [EDU/0572/2021]     [21061060]   \n",
       "6                   [Orden]  [01/03/2021]  [SLT/0048/2021]     [21061061]   \n",
       "7                 [Edicto ]  [25/02/2021]               []     [21056014]   \n",
       "8   [Acuerdo del gobierno ]  [02/03/2021]  [GOV/0022/2021]     [21062071]   \n",
       "9              [Resolución]  [16/02/2021]  [CLT/0497/2021]     [21055047]   \n",
       "10             [Resolución]  [16/02/2021]  [CLT/0498/2021]     [21055048]   \n",
       "11             [Resolución]  [16/02/2021]  [CLT/0499/2021]     [21055049]   \n",
       "12             [Resolución]  [26/02/2021]  [CLT/0559/2021]     [21060044]   \n",
       "13             [Resolución]  [17/02/2021]  [EMC/0514/2021]     [21056038]   \n",
       "14                [Decreto]  [02/03/2021]       [013/2021]     [21061109]   \n",
       "\n",
       "                                      entidad_emisora  \\\n",
       "0                    [Departamento de la Presidencia]   \n",
       "1   [Departamento de la Vicepresidencia y de Econo...   \n",
       "2                          [Departamento de Interior]   \n",
       "3                          [Departamento de Interior]   \n",
       "4                         [Departamento de Educación]   \n",
       "5                         [Departamento de Educación]   \n",
       "6                             [Departamento de Salud]   \n",
       "7       [Departamento de Territorio y Sostenibilidad]   \n",
       "8                           [Departamento de Cultura]   \n",
       "9         [Oficina de Apoyo a la Iniciativa Cultural]   \n",
       "10        [Oficina de Apoyo a la Iniciativa Cultural]   \n",
       "11        [Oficina de Apoyo a la Iniciativa Cultural]   \n",
       "12     [Instituto Catalán de las Empresas Culturales]   \n",
       "13  [Agencia de Gestión de Ayudas Universitarias y...   \n",
       "14  [Departamento de Políticas Digitales y Adminis...   \n",
       "\n",
       "                           CVE numero_DOGC    fecha_DOGC     seccion_DOGC  \\\n",
       "0   [CVE-DOGC-B-21061054-2021]      [8356]  [04/03/2021]  [Disposiciones]   \n",
       "1   [CVE-DOGC-B-21061055-2021]      [8356]  [04/03/2021]  [Disposiciones]   \n",
       "2   [CVE-DOGC-B-21061058-2021]      [8356]  [04/03/2021]  [Disposiciones]   \n",
       "3   [CVE-DOGC-B-21061059-2021]      [8356]  [04/03/2021]  [Disposiciones]   \n",
       "4   [CVE-DOGC-B-21061108-2021]      [8356]  [04/03/2021]  [Disposiciones]   \n",
       "5   [CVE-DOGC-B-21061060-2021]      [8356]  [04/03/2021]  [Disposiciones]   \n",
       "6   [CVE-DOGC-B-21061061-2021]      [8356]  [04/03/2021]  [Disposiciones]   \n",
       "7   [CVE-DOGC-B-21056014-2021]      [8356]  [04/03/2021]  [Disposiciones]   \n",
       "8   [CVE-DOGC-B-21062071-2021]      [8356]  [04/03/2021]  [Disposiciones]   \n",
       "9   [CVE-DOGC-B-21055047-2021]      [8356]  [04/03/2021]  [Disposiciones]   \n",
       "10  [CVE-DOGC-B-21055048-2021]      [8356]  [04/03/2021]  [Disposiciones]   \n",
       "11  [CVE-DOGC-B-21055049-2021]      [8356]  [04/03/2021]  [Disposiciones]   \n",
       "12  [CVE-DOGC-B-21060044-2021]      [8356]  [04/03/2021]  [Disposiciones]   \n",
       "13  [CVE-DOGC-B-21056038-2021]      [8356]  [04/03/2021]  [Disposiciones]   \n",
       "14  [CVE-DOGC-B-21061109-2021]      [8356]  [04/03/2021]  [Disposiciones]   \n",
       "\n",
       "                                                 Tags  \\\n",
       "0                           [Ley 9/2019, Ley 16/2017]   \n",
       "1   [Ley 13/2008, Ley 19/2014, Ley 13/2005, Ley 39...   \n",
       "2             [Ley 39/2015, Resolución INT/3444/2020]   \n",
       "3             [Ley 39/2015, Resolución INT/3439/2020]   \n",
       "4   [Ley 13/2008, Ley 26/2010, Ley 12/2009, Ley 39...   \n",
       "5   [Ley 26/2010, Resolución EDU/772/2020, Ley 39/...   \n",
       "6   [Orden de 15 de mayo de 1991, Orden PRE/194/20...   \n",
       "7   [Ley 29/1998, Ley 2/2007, Ley 39/2015, Ley 3/2...   \n",
       "8               [Ley 13/2008, Ley 5/2017, Ley 4/2008]   \n",
       "9   [Orden CLT/47/2014, Resolución CLT/198/2021, R...   \n",
       "10  [Orden CLT/47/2014, Resolución CLT/198/2021, R...   \n",
       "11  [Orden CLT/47/2014, Resolución CLT/198/2021, R...   \n",
       "12  [Resolución CLT/547/2015, Ley 38/2003, Resoluc...   \n",
       "13  [Real decreto 887/2006, Ley 39/2015, Ley 29/19...   \n",
       "14  [Ley 17/2015, Ley 3/1991, Ley 13/2008, Orden P...   \n",
       "\n",
       "                                   Match_ASECORP_BBDD  \n",
       "0                   [LEY 16/2017 CAT, LEY 9/2019 CAT]  \n",
       "1                                   [LEY 23/2002 CAT]  \n",
       "2                                                  []  \n",
       "3                                                  []  \n",
       "4                                                  []  \n",
       "5                                                  []  \n",
       "6                                                  []  \n",
       "7   [DLE 3/2012 CAT, LEY 14/2015 CAT, LEY 3/2012 C...  \n",
       "8              [LEY 5/2017 CAT, ORD EMC/155/2017 CAT]  \n",
       "9                                                  []  \n",
       "10                                                 []  \n",
       "11                                                 []  \n",
       "12                                                 []  \n",
       "13                                                 []  \n",
       "14                                  [LEY 17/2015 ESP]  "
      ],
      "text/html": "<div>\n<style scoped>\n    .dataframe tbody tr th:only-of-type {\n        vertical-align: middle;\n    }\n\n    .dataframe tbody tr th {\n        vertical-align: top;\n    }\n\n    .dataframe thead th {\n        text-align: right;\n    }\n</style>\n<table border=\"1\" class=\"dataframe\">\n  <thead>\n    <tr style=\"text-align: right;\">\n      <th></th>\n      <th>item_Title</th>\n      <th>item_urlHTML</th>\n      <th>item_urlPDF</th>\n      <th>item_fullText</th>\n      <th>item_urlXML</th>\n      <th>tipo_doc</th>\n      <th>fecha_doc</th>\n      <th>numero_doc</th>\n      <th>numero_control</th>\n      <th>entidad_emisora</th>\n      <th>CVE</th>\n      <th>numero_DOGC</th>\n      <th>fecha_DOGC</th>\n      <th>seccion_DOGC</th>\n      <th>Tags</th>\n      <th>Match_ASECORP_BBDD</th>\n    </tr>\n  </thead>\n  <tbody>\n    <tr>\n      <th>0</th>\n      <td>CORRECCIÓN DE ERRATAS en la Ley 9/2019, de 23 ...</td>\n      <td>https://dogc.gencat.cat/es/document-del-dogc/?...</td>\n      <td>https://portaldogc.gencat.cat/utilsEADOP/AppJa...</td>\n      <td>Habiéndose detectado una errata en la Ley 9/20...</td>\n      <td>[https://portaldogc.gencat.cat/utilsEADOP/AppJ...</td>\n      <td>[Corrección de erratas]</td>\n      <td>[01/03/2021]</td>\n      <td>[]</td>\n      <td>[21061054]</td>\n      <td>[Departamento de la Presidencia]</td>\n      <td>[CVE-DOGC-B-21061054-2021]</td>\n      <td>[8356]</td>\n      <td>[04/03/2021]</td>\n      <td>[Disposiciones]</td>\n      <td>[Ley 9/2019, Ley 16/2017]</td>\n      <td>[LEY 16/2017 CAT, LEY 9/2019 CAT]</td>\n    </tr>\n    <tr>\n      <th>1</th>\n      <td>ORDEN VEH/49/2021, de 1 de marzo, por la que s...</td>\n      <td>https://dogc.gencat.cat/es/document-del-dogc/?...</td>\n      <td>https://portaldogc.gencat.cat/utilsEADOP/AppJa...</td>\n      <td>El artículo 159.1.a) del Estatuto de autonomía...</td>\n      <td>[https://portaldogc.gencat.cat/utilsEADOP/AppJ...</td>\n      <td>[Orden]</td>\n      <td>[01/03/2021]</td>\n      <td>[VEH/0049/2021]</td>\n      <td>[21061055]</td>\n      <td>[Departamento de la Vicepresidencia y de Econo...</td>\n      <td>[CVE-DOGC-B-21061055-2021]</td>\n      <td>[8356]</td>\n      <td>[04/03/2021]</td>\n      <td>[Disposiciones]</td>\n      <td>[Ley 13/2008, Ley 19/2014, Ley 13/2005, Ley 39...</td>\n      <td>[LEY 23/2002 CAT]</td>\n    </tr>\n    <tr>\n      <th>2</th>\n      <td>RESOLUCIÓN INT/570/2021, de 26 de febrero, de ...</td>\n      <td>https://dogc.gencat.cat/es/document-del-dogc/?...</td>\n      <td>https://portaldogc.gencat.cat/utilsEADOP/AppJa...</td>\n      <td>El Departamento de Interior, mediante la Resol...</td>\n      <td>[https://portaldogc.gencat.cat/utilsEADOP/AppJ...</td>\n      <td>[Resolución]</td>\n      <td>[26/02/2021]</td>\n      <td>[INT/0570/2021]</td>\n      <td>[21061058]</td>\n      <td>[Departamento de Interior]</td>\n      <td>[CVE-DOGC-B-21061058-2021]</td>\n      <td>[8356]</td>\n      <td>[04/03/2021]</td>\n      <td>[Disposiciones]</td>\n      <td>[Ley 39/2015, Resolución INT/3444/2020]</td>\n      <td>[]</td>\n    </tr>\n    <tr>\n      <th>3</th>\n      <td>RESOLUCIÓN INT/571/2021, de 26 de febrero, de ...</td>\n      <td>https://dogc.gencat.cat/es/document-del-dogc/?...</td>\n      <td>https://portaldogc.gencat.cat/utilsEADOP/AppJa...</td>\n      <td>\\nEl Departamento de Interior, mediante la Re...</td>\n      <td>[https://portaldogc.gencat.cat/utilsEADOP/AppJ...</td>\n      <td>[Resolución]</td>\n      <td>[26/02/2021]</td>\n      <td>[INT/0571/2021]</td>\n      <td>[21061059]</td>\n      <td>[Departamento de Interior]</td>\n      <td>[CVE-DOGC-B-21061059-2021]</td>\n      <td>[8356]</td>\n      <td>[04/03/2021]</td>\n      <td>[Disposiciones]</td>\n      <td>[Ley 39/2015, Resolución INT/3439/2020]</td>\n      <td>[]</td>\n    </tr>\n    <tr>\n      <th>4</th>\n      <td>DECRETO 12/2021, de 2 de marzo, de la Inspecci...</td>\n      <td>https://dogc.gencat.cat/es/document-del-dogc/?...</td>\n      <td>https://portaldogc.gencat.cat/utilsEADOP/AppJa...</td>\n      <td>El artículo 131.2 del Estatuto de autonomía de...</td>\n      <td>[https://portaldogc.gencat.cat/utilsEADOP/AppJ...</td>\n      <td>[Decreto]</td>\n      <td>[02/03/2021]</td>\n      <td>[012/2021]</td>\n      <td>[21061108]</td>\n      <td>[Departamento de Educación]</td>\n      <td>[CVE-DOGC-B-21061108-2021]</td>\n      <td>[8356]</td>\n      <td>[04/03/2021]</td>\n      <td>[Disposiciones]</td>\n      <td>[Ley 13/2008, Ley 26/2010, Ley 12/2009, Ley 39...</td>\n      <td>[]</td>\n    </tr>\n    <tr>\n      <th>5</th>\n      <td>RESOLUCIÓN EDU/572/2021, de 25 de febrero, por...</td>\n      <td>https://dogc.gencat.cat/es/document-del-dogc/?...</td>\n      <td>https://portaldogc.gencat.cat/utilsEADOP/AppJa...</td>\n      <td>Mediante la Resolución EDU/772/2020, de 24 de ...</td>\n      <td>[https://portaldogc.gencat.cat/utilsEADOP/AppJ...</td>\n      <td>[Resolución]</td>\n      <td>[25/02/2021]</td>\n      <td>[EDU/0572/2021]</td>\n      <td>[21061060]</td>\n      <td>[Departamento de Educación]</td>\n      <td>[CVE-DOGC-B-21061060-2021]</td>\n      <td>[8356]</td>\n      <td>[04/03/2021]</td>\n      <td>[Disposiciones]</td>\n      <td>[Ley 26/2010, Resolución EDU/772/2020, Ley 39/...</td>\n      <td>[]</td>\n    </tr>\n    <tr>\n      <th>6</th>\n      <td>ORDEN SLT/48/2021, de 1 de marzo, por la que s...</td>\n      <td>https://dogc.gencat.cat/es/document-del-dogc/?...</td>\n      <td>https://portaldogc.gencat.cat/utilsEADOP/AppJa...</td>\n      <td>El Decreto 215/1990, de 30 de julio, de promoc...</td>\n      <td>[https://portaldogc.gencat.cat/utilsEADOP/AppJ...</td>\n      <td>[Orden]</td>\n      <td>[01/03/2021]</td>\n      <td>[SLT/0048/2021]</td>\n      <td>[21061061]</td>\n      <td>[Departamento de Salud]</td>\n      <td>[CVE-DOGC-B-21061061-2021]</td>\n      <td>[8356]</td>\n      <td>[04/03/2021]</td>\n      <td>[Disposiciones]</td>\n      <td>[Orden de 15 de mayo de 1991, Orden PRE/194/20...</td>\n      <td>[]</td>\n    </tr>\n    <tr>\n      <th>7</th>\n      <td>EDICTO de 25 de febrero de 2021, sobre un acue...</td>\n      <td>https://dogc.gencat.cat/es/document-del-dogc/?...</td>\n      <td>https://portaldogc.gencat.cat/utilsEADOP/AppJa...</td>\n      <td>La Comisión Territorial de Urbanismo de El Cam...</td>\n      <td>[https://portaldogc.gencat.cat/utilsEADOP/AppJ...</td>\n      <td>[Edicto ]</td>\n      <td>[25/02/2021]</td>\n      <td>[]</td>\n      <td>[21056014]</td>\n      <td>[Departamento de Territorio y Sostenibilidad]</td>\n      <td>[CVE-DOGC-B-21056014-2021]</td>\n      <td>[8356]</td>\n      <td>[04/03/2021]</td>\n      <td>[Disposiciones]</td>\n      <td>[Ley 29/1998, Ley 2/2007, Ley 39/2015, Ley 3/2...</td>\n      <td>[DLE 3/2012 CAT, LEY 14/2015 CAT, LEY 3/2012 C...</td>\n    </tr>\n    <tr>\n      <th>8</th>\n      <td>ACUERDO GOV/22/2021, de 2 de marzo, por el que...</td>\n      <td>https://dogc.gencat.cat/es/document-del-dogc/?...</td>\n      <td>https://portaldogc.gencat.cat/utilsEADOP/AppJa...</td>\n      <td>El Instituto Ramon Muntaner, Fundación Privada...</td>\n      <td>[https://portaldogc.gencat.cat/utilsEADOP/AppJ...</td>\n      <td>[Acuerdo del gobierno ]</td>\n      <td>[02/03/2021]</td>\n      <td>[GOV/0022/2021]</td>\n      <td>[21062071]</td>\n      <td>[Departamento de Cultura]</td>\n      <td>[CVE-DOGC-B-21062071-2021]</td>\n      <td>[8356]</td>\n      <td>[04/03/2021]</td>\n      <td>[Disposiciones]</td>\n      <td>[Ley 13/2008, Ley 5/2017, Ley 4/2008]</td>\n      <td>[LEY 5/2017 CAT, ORD EMC/155/2017 CAT]</td>\n    </tr>\n    <tr>\n      <th>9</th>\n      <td>RESOLUCIÓN CLT/497/2021, de 16 de febrero, por...</td>\n      <td>https://dogc.gencat.cat/es/document-del-dogc/?...</td>\n      <td>https://portaldogc.gencat.cat/utilsEADOP/AppJa...</td>\n      <td>Visto el Acuerdo del Consejo de Administración...</td>\n      <td>[https://portaldogc.gencat.cat/utilsEADOP/AppJ...</td>\n      <td>[Resolución]</td>\n      <td>[16/02/2021]</td>\n      <td>[CLT/0497/2021]</td>\n      <td>[21055047]</td>\n      <td>[Oficina de Apoyo a la Iniciativa Cultural]</td>\n      <td>[CVE-DOGC-B-21055047-2021]</td>\n      <td>[8356]</td>\n      <td>[04/03/2021]</td>\n      <td>[Disposiciones]</td>\n      <td>[Orden CLT/47/2014, Resolución CLT/198/2021, R...</td>\n      <td>[]</td>\n    </tr>\n    <tr>\n      <th>10</th>\n      <td>RESOLUCIÓN CLT/498/2021, de 16 de febrero, por...</td>\n      <td>https://dogc.gencat.cat/es/document-del-dogc/?...</td>\n      <td>https://portaldogc.gencat.cat/utilsEADOP/AppJa...</td>\n      <td>Visto el Acuerdo del Consejo de Administración...</td>\n      <td>[https://portaldogc.gencat.cat/utilsEADOP/AppJ...</td>\n      <td>[Resolución]</td>\n      <td>[16/02/2021]</td>\n      <td>[CLT/0498/2021]</td>\n      <td>[21055048]</td>\n      <td>[Oficina de Apoyo a la Iniciativa Cultural]</td>\n      <td>[CVE-DOGC-B-21055048-2021]</td>\n      <td>[8356]</td>\n      <td>[04/03/2021]</td>\n      <td>[Disposiciones]</td>\n      <td>[Orden CLT/47/2014, Resolución CLT/198/2021, R...</td>\n      <td>[]</td>\n    </tr>\n    <tr>\n      <th>11</th>\n      <td>RESOLUCIÓN CLT/499/2021, de 16 de febrero, por...</td>\n      <td>https://dogc.gencat.cat/es/document-del-dogc/?...</td>\n      <td>https://portaldogc.gencat.cat/utilsEADOP/AppJa...</td>\n      <td>Visto el Acuerdo del Consejo de Administración...</td>\n      <td>[https://portaldogc.gencat.cat/utilsEADOP/AppJ...</td>\n      <td>[Resolución]</td>\n      <td>[16/02/2021]</td>\n      <td>[CLT/0499/2021]</td>\n      <td>[21055049]</td>\n      <td>[Oficina de Apoyo a la Iniciativa Cultural]</td>\n      <td>[CVE-DOGC-B-21055049-2021]</td>\n      <td>[8356]</td>\n      <td>[04/03/2021]</td>\n      <td>[Disposiciones]</td>\n      <td>[Orden CLT/47/2014, Resolución CLT/198/2021, R...</td>\n      <td>[]</td>\n    </tr>\n    <tr>\n      <th>12</th>\n      <td>RESOLUCIÓN CLT/559/2021, de 26 de febrero, por...</td>\n      <td>https://dogc.gencat.cat/es/document-del-dogc/?...</td>\n      <td>https://portaldogc.gencat.cat/utilsEADOP/AppJa...</td>\n      <td>Visto el Acuerdo del Consejo de Administración...</td>\n      <td>[https://portaldogc.gencat.cat/utilsEADOP/AppJ...</td>\n      <td>[Resolución]</td>\n      <td>[26/02/2021]</td>\n      <td>[CLT/0559/2021]</td>\n      <td>[21060044]</td>\n      <td>[Instituto Catalán de las Empresas Culturales]</td>\n      <td>[CVE-DOGC-B-21060044-2021]</td>\n      <td>[8356]</td>\n      <td>[04/03/2021]</td>\n      <td>[Disposiciones]</td>\n      <td>[Resolución CLT/547/2015, Ley 38/2003, Resoluc...</td>\n      <td>[]</td>\n    </tr>\n    <tr>\n      <th>13</th>\n      <td>RESOLUCIÓN EMC/514/2021, de 17 de febrero, por...</td>\n      <td>https://dogc.gencat.cat/es/document-del-dogc/?...</td>\n      <td>https://portaldogc.gencat.cat/utilsEADOP/AppJa...</td>\n      <td>La Ley 7/2001, de 31 de mayo (DOGC núm. 3407, ...</td>\n      <td>[https://portaldogc.gencat.cat/utilsEADOP/AppJ...</td>\n      <td>[Resolución]</td>\n      <td>[17/02/2021]</td>\n      <td>[EMC/0514/2021]</td>\n      <td>[21056038]</td>\n      <td>[Agencia de Gestión de Ayudas Universitarias y...</td>\n      <td>[CVE-DOGC-B-21056038-2021]</td>\n      <td>[8356]</td>\n      <td>[04/03/2021]</td>\n      <td>[Disposiciones]</td>\n      <td>[Real decreto 887/2006, Ley 39/2015, Ley 29/19...</td>\n      <td>[]</td>\n    </tr>\n    <tr>\n      <th>14</th>\n      <td>DECRETO 13/2021, de 2 de marzo, por el que se ...</td>\n      <td>https://dogc.gencat.cat/es/document-del-dogc/?...</td>\n      <td>https://portaldogc.gencat.cat/utilsEADOP/AppJa...</td>\n      <td>El artículo 53 del Estatuto de autonomía de Ca...</td>\n      <td>[https://portaldogc.gencat.cat/utilsEADOP/AppJ...</td>\n      <td>[Decreto]</td>\n      <td>[02/03/2021]</td>\n      <td>[013/2021]</td>\n      <td>[21061109]</td>\n      <td>[Departamento de Políticas Digitales y Adminis...</td>\n      <td>[CVE-DOGC-B-21061109-2021]</td>\n      <td>[8356]</td>\n      <td>[04/03/2021]</td>\n      <td>[Disposiciones]</td>\n      <td>[Ley 17/2015, Ley 3/1991, Ley 13/2008, Orden P...</td>\n      <td>[LEY 17/2015 ESP]</td>\n    </tr>\n  </tbody>\n</table>\n</div>"
     },
     "metadata": {},
     "execution_count": 44
    }
   ],
   "source": [
    "DOGC_sumarios"
   ]
  },
  {
   "source": [
    "# Genera Fichero EXCEL de resultados"
   ],
   "cell_type": "markdown",
   "metadata": {}
  },
  {
   "cell_type": "code",
   "execution_count": 45,
   "metadata": {},
   "outputs": [],
   "source": [
    "DOGC_sumarios_final = DOGC_sumarios"
   ]
  },
  {
   "cell_type": "code",
   "execution_count": 46,
   "metadata": {},
   "outputs": [
    {
     "output_type": "execute_result",
     "data": {
      "text/plain": [
       "item_Title            object\n",
       "item_urlHTML          object\n",
       "item_urlPDF           object\n",
       "item_fullText         object\n",
       "item_urlXML           object\n",
       "tipo_doc              object\n",
       "fecha_doc             object\n",
       "numero_doc            object\n",
       "numero_control        object\n",
       "entidad_emisora       object\n",
       "CVE                   object\n",
       "numero_DOGC           object\n",
       "fecha_DOGC            object\n",
       "seccion_DOGC          object\n",
       "Tags                  object\n",
       "Match_ASECORP_BBDD    object\n",
       "dtype: object"
      ]
     },
     "metadata": {},
     "execution_count": 46
    }
   ],
   "source": [
    "DOGC_sumarios_final.dtypes"
   ]
  },
  {
   "cell_type": "code",
   "execution_count": 47,
   "metadata": {},
   "outputs": [],
   "source": [
    "## Cambia orden de columnas y elimina las no necesarias  \n",
    "DOGC_sumarios_final.rename(columns={'CVE': 'Item_id', 'item_Title': 'Item_Title', 'item_urlPDF': 'PDF_Link', 'fecha_DOGC': 'Fecha_publicacion'}, inplace=True)\n",
    "DOGC_sumarios_final = DOGC_sumarios[['Item_id','Item_Title','PDF_Link','Fecha_publicacion','Tags','Match_ASECORP_BBDD']]"
   ]
  },
  {
   "cell_type": "code",
   "execution_count": 48,
   "metadata": {},
   "outputs": [],
   "source": [
    "## Crea función que convierte lista a string en todas las columnas de DOCM_sumarios\n",
    "## para evitar en presentación final los caracteres [' '] propios de las listas\n",
    "def list2Str(lst):\n",
    "    if type(lst) is list: # apply conversion to list columns\n",
    "        return\", \".join(lst)\n",
    "    else:\n",
    "        return lst"
   ]
  },
  {
   "cell_type": "code",
   "execution_count": 49,
   "metadata": {},
   "outputs": [],
   "source": [
    "\n",
    "DOGC_sumarios_final = DOGC_sumarios_final.apply(lambda x: [list2Str(i) for i in x])"
   ]
  },
  {
   "cell_type": "code",
   "execution_count": 50,
   "metadata": {},
   "outputs": [],
   "source": [
    "## Generar hyperlink a artículo BOE en CSV \"=HYPERLINK(\"https://www.boe.es/boe/dias/2021/02/02/pdfs/BOE-A-2021-1474.pdf\";\"BOE-A-2021-1474\")\"\n",
    "## https://www.boe.es/diario_boe/xml.php?id=## https://www.boe.es/boe/dias/2021/02/02/pdfs/BOE-A-2021-1474.pdf\n",
    "\n",
    "DOGC_sumarios_final_CSV = DOGC_sumarios_final"
   ]
  },
  {
   "cell_type": "code",
   "execution_count": 51,
   "metadata": {},
   "outputs": [],
   "source": [
    "DOGC_sumarios_final_CSV['item_id'] = '=HIPERVINCULO(' + '\"' + DOGC_sumarios_final_CSV['PDF_Link'] + '\";' \\\n",
    "                                                        + '\"' + DOGC_sumarios_final_CSV['Item_id'] + '\")'      "
   ]
  },
  {
   "cell_type": "code",
   "execution_count": 52,
   "metadata": {},
   "outputs": [
    {
     "output_type": "execute_result",
     "data": {
      "text/plain": [
       "'=HIPERVINCULO(\"https://portaldogc.gencat.cat/utilsEADOP/AppJava/PdfProviderServlet?documentId=894810&type=01&language=es_ES\";\"CVE-DOGC-B-21061054-2021\")'"
      ]
     },
     "metadata": {},
     "execution_count": 52
    }
   ],
   "source": [
    "DOGC_sumarios_final_CSV['item_id'][0]"
   ]
  },
  {
   "cell_type": "code",
   "execution_count": 53,
   "metadata": {},
   "outputs": [],
   "source": [
    "# Elimina columna PDF_Link\n",
    "DOGC_sumarios_final_CSV = DOGC_sumarios_final_CSV[['Item_id','Item_Title','Fecha_publicacion','Tags','Match_ASECORP_BBDD']]"
   ]
  },
  {
   "cell_type": "code",
   "execution_count": 54,
   "metadata": {},
   "outputs": [
    {
     "output_type": "execute_result",
     "data": {
      "text/plain": [
       "                     Item_id  \\\n",
       "0   CVE-DOGC-B-21061054-2021   \n",
       "1   CVE-DOGC-B-21061055-2021   \n",
       "2   CVE-DOGC-B-21061058-2021   \n",
       "3   CVE-DOGC-B-21061059-2021   \n",
       "4   CVE-DOGC-B-21061108-2021   \n",
       "5   CVE-DOGC-B-21061060-2021   \n",
       "6   CVE-DOGC-B-21061061-2021   \n",
       "7   CVE-DOGC-B-21056014-2021   \n",
       "8   CVE-DOGC-B-21062071-2021   \n",
       "9   CVE-DOGC-B-21055047-2021   \n",
       "10  CVE-DOGC-B-21055048-2021   \n",
       "11  CVE-DOGC-B-21055049-2021   \n",
       "12  CVE-DOGC-B-21060044-2021   \n",
       "13  CVE-DOGC-B-21056038-2021   \n",
       "14  CVE-DOGC-B-21061109-2021   \n",
       "\n",
       "                                           Item_Title Fecha_publicacion  \\\n",
       "0   CORRECCIÓN DE ERRATAS en la Ley 9/2019, de 23 ...        04/03/2021   \n",
       "1   ORDEN VEH/49/2021, de 1 de marzo, por la que s...        04/03/2021   \n",
       "2   RESOLUCIÓN INT/570/2021, de 26 de febrero, de ...        04/03/2021   \n",
       "3   RESOLUCIÓN INT/571/2021, de 26 de febrero, de ...        04/03/2021   \n",
       "4   DECRETO 12/2021, de 2 de marzo, de la Inspecci...        04/03/2021   \n",
       "5   RESOLUCIÓN EDU/572/2021, de 25 de febrero, por...        04/03/2021   \n",
       "6   ORDEN SLT/48/2021, de 1 de marzo, por la que s...        04/03/2021   \n",
       "7   EDICTO de 25 de febrero de 2021, sobre un acue...        04/03/2021   \n",
       "8   ACUERDO GOV/22/2021, de 2 de marzo, por el que...        04/03/2021   \n",
       "9   RESOLUCIÓN CLT/497/2021, de 16 de febrero, por...        04/03/2021   \n",
       "10  RESOLUCIÓN CLT/498/2021, de 16 de febrero, por...        04/03/2021   \n",
       "11  RESOLUCIÓN CLT/499/2021, de 16 de febrero, por...        04/03/2021   \n",
       "12  RESOLUCIÓN CLT/559/2021, de 26 de febrero, por...        04/03/2021   \n",
       "13  RESOLUCIÓN EMC/514/2021, de 17 de febrero, por...        04/03/2021   \n",
       "14  DECRETO 13/2021, de 2 de marzo, por el que se ...        04/03/2021   \n",
       "\n",
       "                                                 Tags  \\\n",
       "0                             Ley 9/2019, Ley 16/2017   \n",
       "1   Ley 13/2008, Ley 19/2014, Ley 13/2005, Ley 39/...   \n",
       "2               Ley 39/2015, Resolución INT/3444/2020   \n",
       "3               Ley 39/2015, Resolución INT/3439/2020   \n",
       "4   Ley 13/2008, Ley 26/2010, Ley 12/2009, Ley 39/...   \n",
       "5   Ley 26/2010, Resolución EDU/772/2020, Ley 39/2015   \n",
       "6   Orden de 15 de mayo de 1991, Orden PRE/194/202...   \n",
       "7    Ley 29/1998, Ley 2/2007, Ley 39/2015, Ley 3/2012   \n",
       "8                 Ley 13/2008, Ley 5/2017, Ley 4/2008   \n",
       "9   Orden CLT/47/2014, Resolución CLT/198/2021, Re...   \n",
       "10  Orden CLT/47/2014, Resolución CLT/198/2021, Re...   \n",
       "11  Orden CLT/47/2014, Resolución CLT/198/2021, Re...   \n",
       "12  Resolución CLT/547/2015, Ley 38/2003, Resoluci...   \n",
       "13  Real decreto 887/2006, Ley 39/2015, Ley 29/199...   \n",
       "14  Ley 17/2015, Ley 3/1991, Ley 13/2008, Orden PR...   \n",
       "\n",
       "                                   Match_ASECORP_BBDD  \n",
       "0                     LEY 16/2017 CAT, LEY 9/2019 CAT  \n",
       "1                                     LEY 23/2002 CAT  \n",
       "2                                                      \n",
       "3                                                      \n",
       "4                                                      \n",
       "5                                                      \n",
       "6                                                      \n",
       "7   DLE 3/2012 CAT, LEY 14/2015 CAT, LEY 3/2012 CA...  \n",
       "8                LEY 5/2017 CAT, ORD EMC/155/2017 CAT  \n",
       "9                                                      \n",
       "10                                                     \n",
       "11                                                     \n",
       "12                                                     \n",
       "13                                                     \n",
       "14                                    LEY 17/2015 ESP  "
      ],
      "text/html": "<div>\n<style scoped>\n    .dataframe tbody tr th:only-of-type {\n        vertical-align: middle;\n    }\n\n    .dataframe tbody tr th {\n        vertical-align: top;\n    }\n\n    .dataframe thead th {\n        text-align: right;\n    }\n</style>\n<table border=\"1\" class=\"dataframe\">\n  <thead>\n    <tr style=\"text-align: right;\">\n      <th></th>\n      <th>Item_id</th>\n      <th>Item_Title</th>\n      <th>Fecha_publicacion</th>\n      <th>Tags</th>\n      <th>Match_ASECORP_BBDD</th>\n    </tr>\n  </thead>\n  <tbody>\n    <tr>\n      <th>0</th>\n      <td>CVE-DOGC-B-21061054-2021</td>\n      <td>CORRECCIÓN DE ERRATAS en la Ley 9/2019, de 23 ...</td>\n      <td>04/03/2021</td>\n      <td>Ley 9/2019, Ley 16/2017</td>\n      <td>LEY 16/2017 CAT, LEY 9/2019 CAT</td>\n    </tr>\n    <tr>\n      <th>1</th>\n      <td>CVE-DOGC-B-21061055-2021</td>\n      <td>ORDEN VEH/49/2021, de 1 de marzo, por la que s...</td>\n      <td>04/03/2021</td>\n      <td>Ley 13/2008, Ley 19/2014, Ley 13/2005, Ley 39/...</td>\n      <td>LEY 23/2002 CAT</td>\n    </tr>\n    <tr>\n      <th>2</th>\n      <td>CVE-DOGC-B-21061058-2021</td>\n      <td>RESOLUCIÓN INT/570/2021, de 26 de febrero, de ...</td>\n      <td>04/03/2021</td>\n      <td>Ley 39/2015, Resolución INT/3444/2020</td>\n      <td></td>\n    </tr>\n    <tr>\n      <th>3</th>\n      <td>CVE-DOGC-B-21061059-2021</td>\n      <td>RESOLUCIÓN INT/571/2021, de 26 de febrero, de ...</td>\n      <td>04/03/2021</td>\n      <td>Ley 39/2015, Resolución INT/3439/2020</td>\n      <td></td>\n    </tr>\n    <tr>\n      <th>4</th>\n      <td>CVE-DOGC-B-21061108-2021</td>\n      <td>DECRETO 12/2021, de 2 de marzo, de la Inspecci...</td>\n      <td>04/03/2021</td>\n      <td>Ley 13/2008, Ley 26/2010, Ley 12/2009, Ley 39/...</td>\n      <td></td>\n    </tr>\n    <tr>\n      <th>5</th>\n      <td>CVE-DOGC-B-21061060-2021</td>\n      <td>RESOLUCIÓN EDU/572/2021, de 25 de febrero, por...</td>\n      <td>04/03/2021</td>\n      <td>Ley 26/2010, Resolución EDU/772/2020, Ley 39/2015</td>\n      <td></td>\n    </tr>\n    <tr>\n      <th>6</th>\n      <td>CVE-DOGC-B-21061061-2021</td>\n      <td>ORDEN SLT/48/2021, de 1 de marzo, por la que s...</td>\n      <td>04/03/2021</td>\n      <td>Orden de 15 de mayo de 1991, Orden PRE/194/202...</td>\n      <td></td>\n    </tr>\n    <tr>\n      <th>7</th>\n      <td>CVE-DOGC-B-21056014-2021</td>\n      <td>EDICTO de 25 de febrero de 2021, sobre un acue...</td>\n      <td>04/03/2021</td>\n      <td>Ley 29/1998, Ley 2/2007, Ley 39/2015, Ley 3/2012</td>\n      <td>DLE 3/2012 CAT, LEY 14/2015 CAT, LEY 3/2012 CA...</td>\n    </tr>\n    <tr>\n      <th>8</th>\n      <td>CVE-DOGC-B-21062071-2021</td>\n      <td>ACUERDO GOV/22/2021, de 2 de marzo, por el que...</td>\n      <td>04/03/2021</td>\n      <td>Ley 13/2008, Ley 5/2017, Ley 4/2008</td>\n      <td>LEY 5/2017 CAT, ORD EMC/155/2017 CAT</td>\n    </tr>\n    <tr>\n      <th>9</th>\n      <td>CVE-DOGC-B-21055047-2021</td>\n      <td>RESOLUCIÓN CLT/497/2021, de 16 de febrero, por...</td>\n      <td>04/03/2021</td>\n      <td>Orden CLT/47/2014, Resolución CLT/198/2021, Re...</td>\n      <td></td>\n    </tr>\n    <tr>\n      <th>10</th>\n      <td>CVE-DOGC-B-21055048-2021</td>\n      <td>RESOLUCIÓN CLT/498/2021, de 16 de febrero, por...</td>\n      <td>04/03/2021</td>\n      <td>Orden CLT/47/2014, Resolución CLT/198/2021, Re...</td>\n      <td></td>\n    </tr>\n    <tr>\n      <th>11</th>\n      <td>CVE-DOGC-B-21055049-2021</td>\n      <td>RESOLUCIÓN CLT/499/2021, de 16 de febrero, por...</td>\n      <td>04/03/2021</td>\n      <td>Orden CLT/47/2014, Resolución CLT/198/2021, Re...</td>\n      <td></td>\n    </tr>\n    <tr>\n      <th>12</th>\n      <td>CVE-DOGC-B-21060044-2021</td>\n      <td>RESOLUCIÓN CLT/559/2021, de 26 de febrero, por...</td>\n      <td>04/03/2021</td>\n      <td>Resolución CLT/547/2015, Ley 38/2003, Resoluci...</td>\n      <td></td>\n    </tr>\n    <tr>\n      <th>13</th>\n      <td>CVE-DOGC-B-21056038-2021</td>\n      <td>RESOLUCIÓN EMC/514/2021, de 17 de febrero, por...</td>\n      <td>04/03/2021</td>\n      <td>Real decreto 887/2006, Ley 39/2015, Ley 29/199...</td>\n      <td></td>\n    </tr>\n    <tr>\n      <th>14</th>\n      <td>CVE-DOGC-B-21061109-2021</td>\n      <td>DECRETO 13/2021, de 2 de marzo, por el que se ...</td>\n      <td>04/03/2021</td>\n      <td>Ley 17/2015, Ley 3/1991, Ley 13/2008, Orden PR...</td>\n      <td>LEY 17/2015 ESP</td>\n    </tr>\n  </tbody>\n</table>\n</div>"
     },
     "metadata": {},
     "execution_count": 54
    }
   ],
   "source": [
    "DOGC_sumarios_final_CSV"
   ]
  },
  {
   "cell_type": "code",
   "execution_count": 55,
   "metadata": {},
   "outputs": [],
   "source": [
    "DOGC_sumarios_final_CSV.to_csv(\"./ASECORP/Resultados_Matching_DOGC_\" + today.strftime(\"%Y%m%d\") + \".csv\" ,index=False) "
   ]
  },
  {
   "cell_type": "code",
   "execution_count": null,
   "metadata": {},
   "outputs": [],
   "source": []
  }
 ]
}