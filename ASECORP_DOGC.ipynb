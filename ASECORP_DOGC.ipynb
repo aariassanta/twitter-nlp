{
 "metadata": {
  "language_info": {
   "codemirror_mode": {
    "name": "ipython",
    "version": 3
   },
   "file_extension": ".py",
   "mimetype": "text/x-python",
   "name": "python",
   "nbconvert_exporter": "python",
   "pygments_lexer": "ipython3",
   "version": "3.8.5-final"
  },
  "orig_nbformat": 2,
  "kernelspec": {
   "name": "python3",
   "display_name": "Python 3",
   "language": "python"
  }
 },
 "nbformat": 4,
 "nbformat_minor": 2,
 "cells": [
  {
   "cell_type": "code",
   "execution_count": 211,
   "metadata": {},
   "outputs": [],
   "source": [
    "from lxml import etree, html\n",
    "from lxml.html.clean import clean_html\n",
    "import pandas as pd\n",
    "from datetime import date, datetime\n",
    "import requests\n",
    "import re\n",
    "import os\n",
    "import shutil\n",
    "from ASECORP_BBDD import tagea_BBDD_ASECORP\n",
    "from selenium import webdriver\n",
    "import time"
   ]
  },
  {
   "source": [
    "# Mueve todos los fichero del directorio de trabajo a otro de archivo"
   ],
   "cell_type": "markdown",
   "metadata": {}
  },
  {
   "source": [
    "# Recoge resumen diario del BOE de hoy"
   ],
   "cell_type": "markdown",
   "metadata": {}
  },
  {
   "cell_type": "code",
   "execution_count": 99,
   "metadata": {},
   "outputs": [
    {
     "output_type": "stream",
     "name": "stdout",
     "text": [
      "Fecha de Hoy = 20210225\ndia = 25\nmes = 02\naño = 2021\n25/02/2021\n"
     ]
    }
   ],
   "source": [
    "\n",
    "today = date.today()\n",
    "\n",
    "# dd/mm/YYYY\n",
    "hoy = today.strftime(\"%Y%m%d\")\n",
    "print(\"Fecha de Hoy =\", hoy)\n",
    "\n",
    "# dd\n",
    "d = today.strftime(\"%d\")\n",
    "print(\"dia =\", d)\n",
    "\n",
    "# mm\n",
    "m = today.strftime(\"%m\")\n",
    "print(\"mes =\", m)\n",
    "\n",
    "# YYYY\n",
    "Y = today.strftime(\"%Y\")\n",
    "print(\"año =\", Y)\n",
    "\n",
    "print(today.strftime(\"%d/%m/%Y\"))"
   ]
  },
  {
   "cell_type": "code",
   "execution_count": 100,
   "metadata": {},
   "outputs": [],
   "source": [
    "def save_html(html, path):\n",
    "    with open(path, 'wb') as f:\n",
    "        f.write(html)"
   ]
  },
  {
   "cell_type": "code",
   "execution_count": 101,
   "metadata": {},
   "outputs": [],
   "source": [
    "# Define expresiones REGEX para búsqueda de leyes, decretos, etc. referenciadas anteriormente\n",
    "pattern = ['Ley [0-9]+\\/[0-9]+','Real Decreto [0-9]+\\/[0-9]+','Real Decreto Legislativo [0-9]+\\/[0-9]+','Real Decreto-ley [0-9]+\\/[0-9]+','Orden [A-Z]+\\/[0-9]+\\/[0-9]+','Orden Circular [0-9]+\\/[0-9]+','Reglamento \\(UE\\) [0-9]+\\/[0-9]+', 'Reglamento de Ejeución \\(UE\\) [0-9]+\\/[0-9]+' ,'Sentencia de [0-9]+ de [a-z]+ de [0-9]+','Sentencia [0-9]+\\/[0-9]+','Orden de [0-9]+ de [a-z]+ de [0-9]+', 'Resolución de [0-9]+ de [a-z]+ de [0-9]+','Resolución [a-z]+\\/[0-9]+\\/[0-9]+', 'Nota de Servicio [0-9]+\\/[0-9]+', 'Acuerdo multilateral M\\-[0-9]+', 'Circular [0-9]+\\/[0-9]+', 'Decisión \\(UE\\) [0-9]+\\/[0-9]+', 'Decisión de Ejecución \\(UE\\) [0-9]+\\/[0-9]+']"
   ]
  },
  {
   "source": [
    "## Importa BBDD ASECORP"
   ],
   "cell_type": "markdown",
   "metadata": {}
  },
  {
   "cell_type": "code",
   "execution_count": 102,
   "metadata": {},
   "outputs": [],
   "source": [
    "ASECORP_BBDD = pd.read_csv('./ASECORP/ExportNormes_20210126.csv', delimiter=';')"
   ]
  },
  {
   "cell_type": "code",
   "execution_count": 103,
   "metadata": {},
   "outputs": [
    {
     "output_type": "execute_result",
     "data": {
      "text/plain": [
       "                        Codigo      Numero  \\\n",
       "0       RES SLT/2313/2020 CAT         2313   \n",
       "1      (zzz) RES 12/4/2007 AST   12/4/2007   \n",
       "2           A CORUÑA 10/7/2015   10/7/2015   \n",
       "3       A CORUÑA 11/8/2014 (1)   11/8/2014   \n",
       "4       A CORUÑA 11/8/2014 (2)   11/8/2014   \n",
       "...                        ...         ...   \n",
       "19152          ZUMAIA 1/3/2001    1/3/2001   \n",
       "19153        ZUMAIA 12/11/1999  12/11/1999   \n",
       "19154         ZUMAIA 15/6/2012   15/6/2012   \n",
       "19155          ZUMAIA 6/2/2004    6/2/2004   \n",
       "19156          ZUMAIA 9/2/2004    9/2/2004   \n",
       "\n",
       "                                                  Titulo CodigoAmbito  \\\n",
       "0      Resolución SLT/2313/2020, de 24 de septiembre,...          CAT   \n",
       "1      Resolución de 12 abril de 2007, de la Consejer...          AST   \n",
       "2      Modificación de la Ordenanza de vertidos y ser...          GAL   \n",
       "3      Ordenanza municipal reguladora de los procedim...          GAL   \n",
       "4      Ordenanza de protección contra la contaminació...          GAL   \n",
       "...                                                  ...          ...   \n",
       "19152  Ordenanza reguladora de la gestión del ciclo i...          PVA   \n",
       "19153  Normativa complementaria de las Normas Subsidi...          PVA   \n",
       "19154  Modificación de la Ordenanza municipal de la g...          PVA   \n",
       "19155  Modificación de la Normativa complementaria de...          PVA   \n",
       "19156  Reglamento regulador del vertido a colector de...          PVA   \n",
       "\n",
       "           Ambito Municipio   TiposNorma IdTiposNorma  \n",
       "0        Cataluña       NaN   Prevención          [2]  \n",
       "1        Asturias       NaN  M. Ambiente          [1]  \n",
       "2         Galicia  A Coruña  M. Ambiente          [1]  \n",
       "3         Galicia  A Coruña  M. Ambiente          [1]  \n",
       "4         Galicia  A Coruña  M. Ambiente          [1]  \n",
       "...           ...       ...          ...          ...  \n",
       "19152  Pais Vasco    Zumaia  M. Ambiente          [1]  \n",
       "19153  Pais Vasco    Zumaia  M. Ambiente          [1]  \n",
       "19154  Pais Vasco    Zumaia  M. Ambiente          [1]  \n",
       "19155  Pais Vasco    Zumaia  M. Ambiente          [1]  \n",
       "19156  Pais Vasco    Zumaia  M. Ambiente          [1]  \n",
       "\n",
       "[19157 rows x 8 columns]"
      ],
      "text/html": "<div>\n<style scoped>\n    .dataframe tbody tr th:only-of-type {\n        vertical-align: middle;\n    }\n\n    .dataframe tbody tr th {\n        vertical-align: top;\n    }\n\n    .dataframe thead th {\n        text-align: right;\n    }\n</style>\n<table border=\"1\" class=\"dataframe\">\n  <thead>\n    <tr style=\"text-align: right;\">\n      <th></th>\n      <th>Codigo</th>\n      <th>Numero</th>\n      <th>Titulo</th>\n      <th>CodigoAmbito</th>\n      <th>Ambito</th>\n      <th>Municipio</th>\n      <th>TiposNorma</th>\n      <th>IdTiposNorma</th>\n    </tr>\n  </thead>\n  <tbody>\n    <tr>\n      <th>0</th>\n      <td>RES SLT/2313/2020 CAT</td>\n      <td>2313</td>\n      <td>Resolución SLT/2313/2020, de 24 de septiembre,...</td>\n      <td>CAT</td>\n      <td>Cataluña</td>\n      <td>NaN</td>\n      <td>Prevención</td>\n      <td>[2]</td>\n    </tr>\n    <tr>\n      <th>1</th>\n      <td>(zzz) RES 12/4/2007 AST</td>\n      <td>12/4/2007</td>\n      <td>Resolución de 12 abril de 2007, de la Consejer...</td>\n      <td>AST</td>\n      <td>Asturias</td>\n      <td>NaN</td>\n      <td>M. Ambiente</td>\n      <td>[1]</td>\n    </tr>\n    <tr>\n      <th>2</th>\n      <td>A CORUÑA 10/7/2015</td>\n      <td>10/7/2015</td>\n      <td>Modificación de la Ordenanza de vertidos y ser...</td>\n      <td>GAL</td>\n      <td>Galicia</td>\n      <td>A Coruña</td>\n      <td>M. Ambiente</td>\n      <td>[1]</td>\n    </tr>\n    <tr>\n      <th>3</th>\n      <td>A CORUÑA 11/8/2014 (1)</td>\n      <td>11/8/2014</td>\n      <td>Ordenanza municipal reguladora de los procedim...</td>\n      <td>GAL</td>\n      <td>Galicia</td>\n      <td>A Coruña</td>\n      <td>M. Ambiente</td>\n      <td>[1]</td>\n    </tr>\n    <tr>\n      <th>4</th>\n      <td>A CORUÑA 11/8/2014 (2)</td>\n      <td>11/8/2014</td>\n      <td>Ordenanza de protección contra la contaminació...</td>\n      <td>GAL</td>\n      <td>Galicia</td>\n      <td>A Coruña</td>\n      <td>M. Ambiente</td>\n      <td>[1]</td>\n    </tr>\n    <tr>\n      <th>...</th>\n      <td>...</td>\n      <td>...</td>\n      <td>...</td>\n      <td>...</td>\n      <td>...</td>\n      <td>...</td>\n      <td>...</td>\n      <td>...</td>\n    </tr>\n    <tr>\n      <th>19152</th>\n      <td>ZUMAIA 1/3/2001</td>\n      <td>1/3/2001</td>\n      <td>Ordenanza reguladora de la gestión del ciclo i...</td>\n      <td>PVA</td>\n      <td>Pais Vasco</td>\n      <td>Zumaia</td>\n      <td>M. Ambiente</td>\n      <td>[1]</td>\n    </tr>\n    <tr>\n      <th>19153</th>\n      <td>ZUMAIA 12/11/1999</td>\n      <td>12/11/1999</td>\n      <td>Normativa complementaria de las Normas Subsidi...</td>\n      <td>PVA</td>\n      <td>Pais Vasco</td>\n      <td>Zumaia</td>\n      <td>M. Ambiente</td>\n      <td>[1]</td>\n    </tr>\n    <tr>\n      <th>19154</th>\n      <td>ZUMAIA 15/6/2012</td>\n      <td>15/6/2012</td>\n      <td>Modificación de la Ordenanza municipal de la g...</td>\n      <td>PVA</td>\n      <td>Pais Vasco</td>\n      <td>Zumaia</td>\n      <td>M. Ambiente</td>\n      <td>[1]</td>\n    </tr>\n    <tr>\n      <th>19155</th>\n      <td>ZUMAIA 6/2/2004</td>\n      <td>6/2/2004</td>\n      <td>Modificación de la Normativa complementaria de...</td>\n      <td>PVA</td>\n      <td>Pais Vasco</td>\n      <td>Zumaia</td>\n      <td>M. Ambiente</td>\n      <td>[1]</td>\n    </tr>\n    <tr>\n      <th>19156</th>\n      <td>ZUMAIA 9/2/2004</td>\n      <td>9/2/2004</td>\n      <td>Reglamento regulador del vertido a colector de...</td>\n      <td>PVA</td>\n      <td>Pais Vasco</td>\n      <td>Zumaia</td>\n      <td>M. Ambiente</td>\n      <td>[1]</td>\n    </tr>\n  </tbody>\n</table>\n<p>19157 rows × 8 columns</p>\n</div>"
     },
     "metadata": {},
     "execution_count": 103
    }
   ],
   "source": [
    "ASECORP_BBDD"
   ]
  },
  {
   "cell_type": "code",
   "execution_count": 104,
   "metadata": {},
   "outputs": [],
   "source": [
    "ASECORP_BBDD_BOE = ASECORP_BBDD.loc[ASECORP_BBDD['Ambito'] == 'España']"
   ]
  },
  {
   "cell_type": "code",
   "execution_count": 105,
   "metadata": {},
   "outputs": [
    {
     "output_type": "execute_result",
     "data": {
      "text/plain": [
       "                        Codigo      Numero  \\\n",
       "23              ACU 1/2020 ESP           1   \n",
       "35           ACU 11/6/2007 ESP   11/6/2007   \n",
       "57          ACU 17/10/2006 ESP  17/10/2006   \n",
       "71          ACU 19/11/2018 ESP  19/11/2018   \n",
       "82              ACU 2/2020 ESP           2   \n",
       "...                        ...         ...   \n",
       "18496          STC 86/2019 ESP          86   \n",
       "18497          STC 87/2019 ESP          87   \n",
       "18498          STC 88/2018 ESP          88   \n",
       "18499         STC 9/3/2010 ESP    9/3/2010   \n",
       "18879  verificación de calidad           1   \n",
       "\n",
       "                                                  Titulo CodigoAmbito  Ambito  \\\n",
       "23     Acuerdo Multilateral RID 1/2020 en virtud de l...          ESP  España   \n",
       "35     Entrada en vigor del Acuerdo entre el Reino de...          ESP  España   \n",
       "57     Aplicación provisional del Acuerdo entre el Re...          ESP  España   \n",
       "71     Acuerdo de la Junta de Gobierno de la Confeder...          ESP  España   \n",
       "82     Acuerdo Multilateral RID 2/2020 en virtud de l...          ESP  España   \n",
       "...                                                  ...          ...     ...   \n",
       "18496  Sentencia 86/2019, de 20 de junio de 2019. Rec...          ESP  España   \n",
       "18497  Sentencia 87/2019, de 20 de junio de 2019. Rec...          ESP  España   \n",
       "18498  Sentencia 88/2018, de 19 de julio de 2018. Con...          ESP  España   \n",
       "18499  Sentencia de 9 de marzo de 2010, de la Sala Te...          ESP  España   \n",
       "18879   Norma verificación calidad alertas en produccion          ESP  España   \n",
       "\n",
       "      Municipio                     TiposNorma IdTiposNorma  \n",
       "23          NaN       M. Ambiente / Prevención       [1][2]  \n",
       "35          NaN                    M. Ambiente          [1]  \n",
       "57          NaN                    M. Ambiente          [1]  \n",
       "71          NaN                    M. Ambiente          [1]  \n",
       "82          NaN       M. Ambiente / Prevención       [1][2]  \n",
       "...         ...                            ...          ...  \n",
       "18496       NaN                    M. Ambiente          [1]  \n",
       "18497       NaN                    M. Ambiente          [1]  \n",
       "18498       NaN  M. Ambiente / Reg. Industrial       [1][3]  \n",
       "18499       NaN                    M. Ambiente          [1]  \n",
       "18879         -                Reg. Industrial          [3]  \n",
       "\n",
       "[2959 rows x 8 columns]"
      ],
      "text/html": "<div>\n<style scoped>\n    .dataframe tbody tr th:only-of-type {\n        vertical-align: middle;\n    }\n\n    .dataframe tbody tr th {\n        vertical-align: top;\n    }\n\n    .dataframe thead th {\n        text-align: right;\n    }\n</style>\n<table border=\"1\" class=\"dataframe\">\n  <thead>\n    <tr style=\"text-align: right;\">\n      <th></th>\n      <th>Codigo</th>\n      <th>Numero</th>\n      <th>Titulo</th>\n      <th>CodigoAmbito</th>\n      <th>Ambito</th>\n      <th>Municipio</th>\n      <th>TiposNorma</th>\n      <th>IdTiposNorma</th>\n    </tr>\n  </thead>\n  <tbody>\n    <tr>\n      <th>23</th>\n      <td>ACU 1/2020 ESP</td>\n      <td>1</td>\n      <td>Acuerdo Multilateral RID 1/2020 en virtud de l...</td>\n      <td>ESP</td>\n      <td>España</td>\n      <td>NaN</td>\n      <td>M. Ambiente / Prevención</td>\n      <td>[1][2]</td>\n    </tr>\n    <tr>\n      <th>35</th>\n      <td>ACU 11/6/2007 ESP</td>\n      <td>11/6/2007</td>\n      <td>Entrada en vigor del Acuerdo entre el Reino de...</td>\n      <td>ESP</td>\n      <td>España</td>\n      <td>NaN</td>\n      <td>M. Ambiente</td>\n      <td>[1]</td>\n    </tr>\n    <tr>\n      <th>57</th>\n      <td>ACU 17/10/2006 ESP</td>\n      <td>17/10/2006</td>\n      <td>Aplicación provisional del Acuerdo entre el Re...</td>\n      <td>ESP</td>\n      <td>España</td>\n      <td>NaN</td>\n      <td>M. Ambiente</td>\n      <td>[1]</td>\n    </tr>\n    <tr>\n      <th>71</th>\n      <td>ACU 19/11/2018 ESP</td>\n      <td>19/11/2018</td>\n      <td>Acuerdo de la Junta de Gobierno de la Confeder...</td>\n      <td>ESP</td>\n      <td>España</td>\n      <td>NaN</td>\n      <td>M. Ambiente</td>\n      <td>[1]</td>\n    </tr>\n    <tr>\n      <th>82</th>\n      <td>ACU 2/2020 ESP</td>\n      <td>2</td>\n      <td>Acuerdo Multilateral RID 2/2020 en virtud de l...</td>\n      <td>ESP</td>\n      <td>España</td>\n      <td>NaN</td>\n      <td>M. Ambiente / Prevención</td>\n      <td>[1][2]</td>\n    </tr>\n    <tr>\n      <th>...</th>\n      <td>...</td>\n      <td>...</td>\n      <td>...</td>\n      <td>...</td>\n      <td>...</td>\n      <td>...</td>\n      <td>...</td>\n      <td>...</td>\n    </tr>\n    <tr>\n      <th>18496</th>\n      <td>STC 86/2019 ESP</td>\n      <td>86</td>\n      <td>Sentencia 86/2019, de 20 de junio de 2019. Rec...</td>\n      <td>ESP</td>\n      <td>España</td>\n      <td>NaN</td>\n      <td>M. Ambiente</td>\n      <td>[1]</td>\n    </tr>\n    <tr>\n      <th>18497</th>\n      <td>STC 87/2019 ESP</td>\n      <td>87</td>\n      <td>Sentencia 87/2019, de 20 de junio de 2019. Rec...</td>\n      <td>ESP</td>\n      <td>España</td>\n      <td>NaN</td>\n      <td>M. Ambiente</td>\n      <td>[1]</td>\n    </tr>\n    <tr>\n      <th>18498</th>\n      <td>STC 88/2018 ESP</td>\n      <td>88</td>\n      <td>Sentencia 88/2018, de 19 de julio de 2018. Con...</td>\n      <td>ESP</td>\n      <td>España</td>\n      <td>NaN</td>\n      <td>M. Ambiente / Reg. Industrial</td>\n      <td>[1][3]</td>\n    </tr>\n    <tr>\n      <th>18499</th>\n      <td>STC 9/3/2010 ESP</td>\n      <td>9/3/2010</td>\n      <td>Sentencia de 9 de marzo de 2010, de la Sala Te...</td>\n      <td>ESP</td>\n      <td>España</td>\n      <td>NaN</td>\n      <td>M. Ambiente</td>\n      <td>[1]</td>\n    </tr>\n    <tr>\n      <th>18879</th>\n      <td>verificación de calidad</td>\n      <td>1</td>\n      <td>Norma verificación calidad alertas en produccion</td>\n      <td>ESP</td>\n      <td>España</td>\n      <td>-</td>\n      <td>Reg. Industrial</td>\n      <td>[3]</td>\n    </tr>\n  </tbody>\n</table>\n<p>2959 rows × 8 columns</p>\n</div>"
     },
     "metadata": {},
     "execution_count": 105
    }
   ],
   "source": [
    "ASECORP_BBDD_BOE"
   ]
  },
  {
   "cell_type": "code",
   "execution_count": 106,
   "metadata": {},
   "outputs": [],
   "source": [
    "# Crea nueva columna vacía de tipo lista en ASECORP_BBDD\n",
    "ASECORP_BBDD_BOE['Tags'] = [[] for i in range(len(ASECORP_BBDD_BOE))]"
   ]
  },
  {
   "cell_type": "code",
   "execution_count": 107,
   "metadata": {},
   "outputs": [],
   "source": [
    "titulo = []\n",
    "for i, row in ASECORP_BBDD_BOE.iterrows():\n",
    "    titulo.append(str(row['Titulo']) + str(re.findall('|'.join(pattern), str(row['Titulo']), flags=re.IGNORECASE)))\n",
    "    ASECORP_BBDD_BOE['Tags'][i] = re.findall('|'.join(pattern), str(row['Titulo']), flags=re.IGNORECASE)"
   ]
  },
  {
   "cell_type": "code",
   "execution_count": 108,
   "metadata": {},
   "outputs": [
    {
     "output_type": "execute_result",
     "data": {
      "text/plain": [
       "                      Codigo     Numero  \\\n",
       "11629  ORD PRE/2827/2009 ESP       2827   \n",
       "11630  ORD PRE/2843/2009 ESP       2843   \n",
       "11631  ORD PRE/2851/2010 ESP       2851   \n",
       "11632  ORD PRE/2871/2011 ESP       2871   \n",
       "11633  ORD PRE/2872/2011 ESP       2872   \n",
       "11634    ORD PRE/29/2004 ESP         29   \n",
       "11635  ORD PRE/2922/2005 ESP       2922   \n",
       "11636  ORD PRE/2957/2008 ESP       2957   \n",
       "11637     ORD PRE/3/2006 ESP          3   \n",
       "11638  ORD PRE/3159/2004 ESP       3159   \n",
       "11639   ORD PRE/321/2009 ESP        321   \n",
       "11640  ORD PRE/3271/2011 ESP       3271   \n",
       "11641  ORD PRE/3290/2002 ESP       3290   \n",
       "11642  ORD PRE/3297/2004 ESP       3297   \n",
       "11643  ORD PRE/3298/2004 ESP       3298   \n",
       "11644  ORD PRE/3302/2006 ESP       3302   \n",
       "11645  ORD PRE/3338/2007 ESP       3338   \n",
       "11647  ORD PRE/3420/2007 ESP       3420   \n",
       "11648  ORD PRE/3476/2003 ESP       3476   \n",
       "11649  ORD PRE/3539/2008 ESP       3539   \n",
       "11650   ORD PRE/370/2012 ESP        370   \n",
       "11651   ORD PRE/374/2008 ESP        374   \n",
       "11652   ORD PRE/375/2003 ESP        375   \n",
       "11653  ORD PRE/3834/2005 ESP       3834   \n",
       "11654  ORD PRE/3856/2005 ESP       3856   \n",
       "11655  ORD PRE/3929/2004 ESP       3929   \n",
       "11656   ORD PRE/402/2006 ESP        402   \n",
       "11657   ORD PRE/402/2008 CAT        402   \n",
       "11658   ORD PRE/456/2007 ESP        456   \n",
       "11659   ORD PRE/468/2008 ESP        468   \n",
       "11660   ORD PRE/473/2004 ESP        473   \n",
       "11661   ORD PRE/507/2008 ESP        507   \n",
       "11662    ORD PRE/52/2010 ESP  23/1/2010   \n",
       "11663   ORD PRE/531/2010 ESP        531   \n",
       "11664   ORD PRE/556/2005 ESP        556   \n",
       "11665   ORD PRE/568/2009 ESP        568   \n",
       "11666   ORD PRE/628/2011 ESP        628   \n",
       "11667   ORD PRE/629/2011 ESP        629   \n",
       "11668   ORD PRE/630/2011 ESP        630   \n",
       "11669   ORD PRE/631/2011 ESP        631   \n",
       "11670   ORD PRE/662/2013 ESP        662   \n",
       "11671   ORD PRE/675/2013 ESP        675   \n",
       "11672   ORD PRE/690/2005 ESP        690   \n",
       "11673   ORD PRE/696/2008 ESP        696   \n",
       "11674   ORD PRE/730/2003 ESP        730   \n",
       "11675    ORD PRE/77/2008 ESP         77   \n",
       "11676   ORD PRE/772/2016 ESP        772   \n",
       "11677   ORD PRE/777/2009 ESP        777   \n",
       "11678   ORD PRE/777/2011 ESP        777   \n",
       "11679   ORD PRE/839/2010 ESP        839   \n",
       "\n",
       "                                                  Titulo CodigoAmbito  Ambito  \\\n",
       "11629  Orden PRE/2827/2009, de 19 de octubre, por la ...          ESP  España   \n",
       "11630  Orden PRE/2843/2009, de 19 de octubre, por la ...          ESP  España   \n",
       "11631  Orden PRE/2851/2010, de 4 de noviembre, por la...          ESP  España   \n",
       "11632  Orden PRE/2871/2011, de 25 de octubre, por la ...          ESP  España   \n",
       "11633  Orden PRE/2872/2011, de 25 de octubre, por la ...          ESP  España   \n",
       "11634  Orden PRE/29/2004, de 15 de enero, por la que ...          ESP  España   \n",
       "11635  Orden PRE/2922/2005, de 19 de septiembre, por ...          ESP  España   \n",
       "11636  Orden PRE/2957/2008, de 10 de octubre, por la ...          ESP  España   \n",
       "11637  Orden PRE/3/2006, de 12 de enero, por la que s...          ESP  España   \n",
       "11638  Orden PRE/3159/2004, de 28 de septiembre, por ...          ESP  España   \n",
       "11639  Orden PRE/321/2009, de 13 de febrero, por la q...          ESP  España   \n",
       "11640  Orden PRE/3271/2011, de 25 de noviembre, por l...          ESP  España   \n",
       "11641  Orden PRE/3290/2002, de 23 de diciembre, por l...          ESP  España   \n",
       "11642  Orden PRE/3297/2004, de 13 de octubre, por la ...          ESP  España   \n",
       "11643  Orden PRE/3298/2004, de 13 de octubre, por la ...          ESP  España   \n",
       "11644  Orden PRE/3302/2006, de 27 de octubre, por la ...          ESP  España   \n",
       "11645  Orden PRE/3338/2007, de 15 de noviembre, por l...          ESP  España   \n",
       "11647  Orden PRE/3420/2007, de 14 de noviembre, por l...          ESP  España   \n",
       "11648  Orden PRE/3476/2003, de 9 de diciembre, por la...          ESP  España   \n",
       "11649  Orden PRE/3539/2008, de 28 de noviembre, por l...          ESP  España   \n",
       "11650  Orden PRE/370/2012, de 27 de febrero, por la q...          ESP  España   \n",
       "11651  Orden PRE/374/2008, de 31 de enero, por la que...          ESP  España   \n",
       "11652  Orden PRE/375/2003, de 24 de febrero, por la q...          ESP  España   \n",
       "11653  Orden PRE/3834/2005, de 9 de diciembre, por la...          ESP  España   \n",
       "11654  Orden PRE/3856/2005, de 12 de diciembre, por l...          ESP  España   \n",
       "11655  Orden PRE/3929/2004, de 30 de noviembre, por l...          ESP  España   \n",
       "11656  Orden PRE/402/2006, de 16 de febrero, por la q...          ESP  España   \n",
       "11657  Orden PRE/402/2008, de 28 de agosto, por la qu...          ESP  España   \n",
       "11658  Orden PRE/456/2007, de 28 de febrero, por la q...          ESP  España   \n",
       "11659  Orden PRE/468/2008, de 15 de febrero, por la q...          ESP  España   \n",
       "11660  Orden PRE/473/2004, de 25 de febrero, por la q...          ESP  España   \n",
       "11661  Orden PRE/507/2008, de 26 de febrero, por la q...          ESP  España   \n",
       "11662  Orden PRE/52/2010, de 21 de enero, por la que ...          ESP  España   \n",
       "11663  Orden PRE/531/2010, de 26 de febrero, por la q...          ESP  España   \n",
       "11664  Orden PRE/556/2005, de 10 de marzo, por la que...          ESP  España   \n",
       "11665  Orden PRE/568/2009, de 5 de marzo, por la que ...          ESP  España   \n",
       "11666  Orden PRE/628/2011, de 22 de marzo, por la que...          ESP  España   \n",
       "11667  Orden PRE/629/2011, de 22 de marzo, por la que...          ESP  España   \n",
       "11668  Orden PRE/630/2011, de 23 de marzo, por la que...          ESP  España   \n",
       "11669  Orden PRE/631/2011, de 23 de marzo, por la que...          ESP  España   \n",
       "11670  Orden PRE/662/2013, de 22 de abril, por la que...          ESP  España   \n",
       "11671  Orden PRE/675/2013, de 22 de abril, por la que...          ESP  España   \n",
       "11672  Orden PRE/690/2005, de 18 de marzo, por la que...          ESP  España   \n",
       "11673  Orden PRE/696/2008, de 7 de marzo, por la que ...          ESP  España   \n",
       "11674  Orden PRE/730/2003, de 25 de marzo, por la que...          ESP  España   \n",
       "11675  Orden PRE/77/2008, de 17 de enero, por la que ...          ESP  España   \n",
       "11676  Orden PRE/772/2016, de 19 de mayo, por la que ...          ESP  España   \n",
       "11677  Orden PRE/777/2009, de 26 de marzo, por la que...          ESP  España   \n",
       "11678  Orden PRE/777/2011, de 4 de abril, por la que ...          ESP  España   \n",
       "11679  Orden PRE/839/2010, de 29 de marzo, por la que...          ESP  España   \n",
       "\n",
       "      Municipio                TiposNorma IdTiposNorma  \\\n",
       "11629       NaN               M. Ambiente          [1]   \n",
       "11630       NaN  M. Ambiente / Prevención       [1][2]   \n",
       "11631       NaN  M. Ambiente / Prevención       [1][2]   \n",
       "11632       NaN  M. Ambiente / Prevención       [1][2]   \n",
       "11633       NaN  M. Ambiente / Prevención       [1][2]   \n",
       "11634       NaN               M. Ambiente          [1]   \n",
       "11635       NaN  M. Ambiente / Prevención       [1][2]   \n",
       "11636       NaN  M. Ambiente / Prevención       [1][2]   \n",
       "11637       NaN  M. Ambiente / Prevención       [1][2]   \n",
       "11638       NaN  M. Ambiente / Prevención       [1][2]   \n",
       "11639       NaN  M. Ambiente / Prevención       [1][2]   \n",
       "11640       NaN  M. Ambiente / Prevención       [1][2]   \n",
       "11641       NaN  M. Ambiente / Prevención       [1][2]   \n",
       "11642       NaN  M. Ambiente / Prevención       [1][2]   \n",
       "11643       NaN           Reg. Industrial          [3]   \n",
       "11644       NaN  M. Ambiente / Prevención       [1][2]   \n",
       "11645       NaN  M. Ambiente / Prevención       [1][2]   \n",
       "11647       NaN               M. Ambiente          [1]   \n",
       "11648       NaN  M. Ambiente / Prevención       [1][2]   \n",
       "11649       NaN               M. Ambiente          [1]   \n",
       "11650       NaN               M. Ambiente          [1]   \n",
       "11651       NaN  M. Ambiente / Prevención       [1][2]   \n",
       "11652       NaN  M. Ambiente / Prevención       [1][2]   \n",
       "11653       NaN               M. Ambiente          [1]   \n",
       "11654       NaN  M. Ambiente / Prevención       [1][2]   \n",
       "11655       NaN  M. Ambiente / Prevención       [1][2]   \n",
       "11656       NaN  M. Ambiente / Prevención       [1][2]   \n",
       "11657       NaN           Reg. Industrial          [3]   \n",
       "11658       NaN  M. Ambiente / Prevención       [1][2]   \n",
       "11659       NaN               M. Ambiente          [1]   \n",
       "11660       NaN  M. Ambiente / Prevención       [1][2]   \n",
       "11661       NaN  M. Ambiente / Prevención       [1][2]   \n",
       "11662       NaN            Seguridad Vial          [5]   \n",
       "11663       NaN  M. Ambiente / Prevención       [1][2]   \n",
       "11664       NaN  M. Ambiente / Prevención       [1][2]   \n",
       "11665       NaN                Prevención          [2]   \n",
       "11666       NaN          Seg. Alimentaria          [7]   \n",
       "11667         -            Seguridad Vial          [5]   \n",
       "11668       NaN  M. Ambiente / Prevención       [1][2]   \n",
       "11669       NaN  M. Ambiente / Prevención       [1][2]   \n",
       "11670       NaN  M. Ambiente / Prevención       [1][2]   \n",
       "11671       NaN  M. Ambiente / Prevención       [1][2]   \n",
       "11672       NaN  M. Ambiente / Prevención       [1][2]   \n",
       "11673       NaN  M. Ambiente / Prevención       [1][2]   \n",
       "11674       NaN  M. Ambiente / Prevención       [1][2]   \n",
       "11675       NaN               M. Ambiente          [1]   \n",
       "11676       NaN               M. Ambiente          [1]   \n",
       "11677       NaN  M. Ambiente / Prevención       [1][2]   \n",
       "11678       NaN  M. Ambiente / Prevención       [1][2]   \n",
       "11679       NaN  M. Ambiente / Prevención       [1][2]   \n",
       "\n",
       "                                                    Tags  \n",
       "11629      [Orden PRE/2827/2009, Real Decreto 1370/2006]  \n",
       "11630      [Orden PRE/2843/2009, Real Decreto 2163/1994]  \n",
       "11631      [Orden PRE/2851/2010, Real Decreto 2163/1994]  \n",
       "11632      [Orden PRE/2871/2011, Real Decreto 2163/1994]  \n",
       "11633      [Orden PRE/2872/2011, Real Decreto 2163/1994]  \n",
       "11634         [Orden PRE/29/2004, Real Decreto 837/2002]  \n",
       "11635  [Orden PRE/2922/2005, Orden de 8 de marzo de 1...  \n",
       "11636      [Orden PRE/2957/2008, Real Decreto 2163/1994]  \n",
       "11637          [Orden PRE/3/2006, Real Decreto 255/2003]  \n",
       "11638      [Orden PRE/3159/2004, Real Decreto 1406/1989]  \n",
       "11639       [Orden PRE/321/2009, Real Decreto 1054/2002]  \n",
       "11640      [Orden PRE/3271/2011, Real Decreto 1054/2002]  \n",
       "11641      [Orden PRE/3290/2002, Real Decreto 2163/1994]  \n",
       "11642      [Orden PRE/3297/2004, Real Decreto 2163/1994]  \n",
       "11643      [Orden PRE/3298/2004, Real Decreto 2822/1998]  \n",
       "11644      [Orden PRE/3302/2006, Real Decreto 2163/1994]  \n",
       "11645      [Orden PRE/3338/2007, Real Decreto 2163/1994]  \n",
       "11647                              [Orden PRE/3420/2007]  \n",
       "11648      [Orden PRE/3476/2003, Real Decreto 2163/1994]  \n",
       "11649                              [Orden PRE/3539/2008]  \n",
       "11650       [Orden PRE/370/2012, Real Decreto 1383/2002]  \n",
       "11651       [Orden PRE/374/2008, Real Decreto 1406/1989]  \n",
       "11652       [Orden PRE/375/2003, Real Decreto 1406/1989]  \n",
       "11653                              [Orden PRE/3834/2005]  \n",
       "11654      [Orden PRE/3856/2005, Real Decreto 2163/1994]  \n",
       "11655      [Orden PRE/3929/2004, Real Decreto 2163/1994]  \n",
       "11656           [Orden PRE/402/2006, Orden PRE/690/2005]  \n",
       "11657                               [Orden PRE/402/2008]  \n",
       "11658       [Orden PRE/456/2007, Real Decreto 2163/1994]  \n",
       "11659                               [Orden PRE/468/2008]  \n",
       "11660                               [Orden PRE/473/2004]  \n",
       "11661       [Orden PRE/507/2008, Real Decreto 1054/2002]  \n",
       "11662        [Orden PRE/52/2010, Real Decreto 2822/1998]  \n",
       "11663       [Orden PRE/531/2010, Real Decreto 2163/1994]  \n",
       "11664  [Orden PRE/556/2005, Orden PRE/473/2004, Real ...  \n",
       "11665        [Orden PRE/568/2009, Real Decreto 258/1999]  \n",
       "11666        [Orden PRE/628/2011, Real Decreto 866/2008]  \n",
       "11667       [Orden PRE/629/2011, Real Decreto 2822/1998]  \n",
       "11668        [Orden PRE/630/2011, Real Decreto 824/2005]  \n",
       "11669       [Orden PRE/631/2011, Real Decreto 2163/1994]  \n",
       "11670       [Orden PRE/662/2013, Real Decreto 1054/2002]  \n",
       "11671       [Orden PRE/675/2013, Real Decreto 1054/2002]  \n",
       "11672                               [Orden PRE/690/2005]  \n",
       "11673       [Orden PRE/696/2008, Real Decreto 2163/1994]  \n",
       "11674       [Orden PRE/730/2003, Real Decreto 1406/1989]  \n",
       "11675                                [Orden PRE/77/2008]  \n",
       "11676        [Orden PRE/772/2016, Real Decreto 219/2013]  \n",
       "11677       [Orden PRE/777/2009, Real Decreto 2163/1994]  \n",
       "11678       [Orden PRE/777/2011, Real Decreto 1054/2002]  \n",
       "11679       [Orden PRE/839/2010, Real Decreto 2163/1994]  "
      ],
      "text/html": "<div>\n<style scoped>\n    .dataframe tbody tr th:only-of-type {\n        vertical-align: middle;\n    }\n\n    .dataframe tbody tr th {\n        vertical-align: top;\n    }\n\n    .dataframe thead th {\n        text-align: right;\n    }\n</style>\n<table border=\"1\" class=\"dataframe\">\n  <thead>\n    <tr style=\"text-align: right;\">\n      <th></th>\n      <th>Codigo</th>\n      <th>Numero</th>\n      <th>Titulo</th>\n      <th>CodigoAmbito</th>\n      <th>Ambito</th>\n      <th>Municipio</th>\n      <th>TiposNorma</th>\n      <th>IdTiposNorma</th>\n      <th>Tags</th>\n    </tr>\n  </thead>\n  <tbody>\n    <tr>\n      <th>11629</th>\n      <td>ORD PRE/2827/2009 ESP</td>\n      <td>2827</td>\n      <td>Orden PRE/2827/2009, de 19 de octubre, por la ...</td>\n      <td>ESP</td>\n      <td>España</td>\n      <td>NaN</td>\n      <td>M. Ambiente</td>\n      <td>[1]</td>\n      <td>[Orden PRE/2827/2009, Real Decreto 1370/2006]</td>\n    </tr>\n    <tr>\n      <th>11630</th>\n      <td>ORD PRE/2843/2009 ESP</td>\n      <td>2843</td>\n      <td>Orden PRE/2843/2009, de 19 de octubre, por la ...</td>\n      <td>ESP</td>\n      <td>España</td>\n      <td>NaN</td>\n      <td>M. Ambiente / Prevención</td>\n      <td>[1][2]</td>\n      <td>[Orden PRE/2843/2009, Real Decreto 2163/1994]</td>\n    </tr>\n    <tr>\n      <th>11631</th>\n      <td>ORD PRE/2851/2010 ESP</td>\n      <td>2851</td>\n      <td>Orden PRE/2851/2010, de 4 de noviembre, por la...</td>\n      <td>ESP</td>\n      <td>España</td>\n      <td>NaN</td>\n      <td>M. Ambiente / Prevención</td>\n      <td>[1][2]</td>\n      <td>[Orden PRE/2851/2010, Real Decreto 2163/1994]</td>\n    </tr>\n    <tr>\n      <th>11632</th>\n      <td>ORD PRE/2871/2011 ESP</td>\n      <td>2871</td>\n      <td>Orden PRE/2871/2011, de 25 de octubre, por la ...</td>\n      <td>ESP</td>\n      <td>España</td>\n      <td>NaN</td>\n      <td>M. Ambiente / Prevención</td>\n      <td>[1][2]</td>\n      <td>[Orden PRE/2871/2011, Real Decreto 2163/1994]</td>\n    </tr>\n    <tr>\n      <th>11633</th>\n      <td>ORD PRE/2872/2011 ESP</td>\n      <td>2872</td>\n      <td>Orden PRE/2872/2011, de 25 de octubre, por la ...</td>\n      <td>ESP</td>\n      <td>España</td>\n      <td>NaN</td>\n      <td>M. Ambiente / Prevención</td>\n      <td>[1][2]</td>\n      <td>[Orden PRE/2872/2011, Real Decreto 2163/1994]</td>\n    </tr>\n    <tr>\n      <th>11634</th>\n      <td>ORD PRE/29/2004 ESP</td>\n      <td>29</td>\n      <td>Orden PRE/29/2004, de 15 de enero, por la que ...</td>\n      <td>ESP</td>\n      <td>España</td>\n      <td>NaN</td>\n      <td>M. Ambiente</td>\n      <td>[1]</td>\n      <td>[Orden PRE/29/2004, Real Decreto 837/2002]</td>\n    </tr>\n    <tr>\n      <th>11635</th>\n      <td>ORD PRE/2922/2005 ESP</td>\n      <td>2922</td>\n      <td>Orden PRE/2922/2005, de 19 de septiembre, por ...</td>\n      <td>ESP</td>\n      <td>España</td>\n      <td>NaN</td>\n      <td>M. Ambiente / Prevención</td>\n      <td>[1][2]</td>\n      <td>[Orden PRE/2922/2005, Orden de 8 de marzo de 1...</td>\n    </tr>\n    <tr>\n      <th>11636</th>\n      <td>ORD PRE/2957/2008 ESP</td>\n      <td>2957</td>\n      <td>Orden PRE/2957/2008, de 10 de octubre, por la ...</td>\n      <td>ESP</td>\n      <td>España</td>\n      <td>NaN</td>\n      <td>M. Ambiente / Prevención</td>\n      <td>[1][2]</td>\n      <td>[Orden PRE/2957/2008, Real Decreto 2163/1994]</td>\n    </tr>\n    <tr>\n      <th>11637</th>\n      <td>ORD PRE/3/2006 ESP</td>\n      <td>3</td>\n      <td>Orden PRE/3/2006, de 12 de enero, por la que s...</td>\n      <td>ESP</td>\n      <td>España</td>\n      <td>NaN</td>\n      <td>M. Ambiente / Prevención</td>\n      <td>[1][2]</td>\n      <td>[Orden PRE/3/2006, Real Decreto 255/2003]</td>\n    </tr>\n    <tr>\n      <th>11638</th>\n      <td>ORD PRE/3159/2004 ESP</td>\n      <td>3159</td>\n      <td>Orden PRE/3159/2004, de 28 de septiembre, por ...</td>\n      <td>ESP</td>\n      <td>España</td>\n      <td>NaN</td>\n      <td>M. Ambiente / Prevención</td>\n      <td>[1][2]</td>\n      <td>[Orden PRE/3159/2004, Real Decreto 1406/1989]</td>\n    </tr>\n    <tr>\n      <th>11639</th>\n      <td>ORD PRE/321/2009 ESP</td>\n      <td>321</td>\n      <td>Orden PRE/321/2009, de 13 de febrero, por la q...</td>\n      <td>ESP</td>\n      <td>España</td>\n      <td>NaN</td>\n      <td>M. Ambiente / Prevención</td>\n      <td>[1][2]</td>\n      <td>[Orden PRE/321/2009, Real Decreto 1054/2002]</td>\n    </tr>\n    <tr>\n      <th>11640</th>\n      <td>ORD PRE/3271/2011 ESP</td>\n      <td>3271</td>\n      <td>Orden PRE/3271/2011, de 25 de noviembre, por l...</td>\n      <td>ESP</td>\n      <td>España</td>\n      <td>NaN</td>\n      <td>M. Ambiente / Prevención</td>\n      <td>[1][2]</td>\n      <td>[Orden PRE/3271/2011, Real Decreto 1054/2002]</td>\n    </tr>\n    <tr>\n      <th>11641</th>\n      <td>ORD PRE/3290/2002 ESP</td>\n      <td>3290</td>\n      <td>Orden PRE/3290/2002, de 23 de diciembre, por l...</td>\n      <td>ESP</td>\n      <td>España</td>\n      <td>NaN</td>\n      <td>M. Ambiente / Prevención</td>\n      <td>[1][2]</td>\n      <td>[Orden PRE/3290/2002, Real Decreto 2163/1994]</td>\n    </tr>\n    <tr>\n      <th>11642</th>\n      <td>ORD PRE/3297/2004 ESP</td>\n      <td>3297</td>\n      <td>Orden PRE/3297/2004, de 13 de octubre, por la ...</td>\n      <td>ESP</td>\n      <td>España</td>\n      <td>NaN</td>\n      <td>M. Ambiente / Prevención</td>\n      <td>[1][2]</td>\n      <td>[Orden PRE/3297/2004, Real Decreto 2163/1994]</td>\n    </tr>\n    <tr>\n      <th>11643</th>\n      <td>ORD PRE/3298/2004 ESP</td>\n      <td>3298</td>\n      <td>Orden PRE/3298/2004, de 13 de octubre, por la ...</td>\n      <td>ESP</td>\n      <td>España</td>\n      <td>NaN</td>\n      <td>Reg. Industrial</td>\n      <td>[3]</td>\n      <td>[Orden PRE/3298/2004, Real Decreto 2822/1998]</td>\n    </tr>\n    <tr>\n      <th>11644</th>\n      <td>ORD PRE/3302/2006 ESP</td>\n      <td>3302</td>\n      <td>Orden PRE/3302/2006, de 27 de octubre, por la ...</td>\n      <td>ESP</td>\n      <td>España</td>\n      <td>NaN</td>\n      <td>M. Ambiente / Prevención</td>\n      <td>[1][2]</td>\n      <td>[Orden PRE/3302/2006, Real Decreto 2163/1994]</td>\n    </tr>\n    <tr>\n      <th>11645</th>\n      <td>ORD PRE/3338/2007 ESP</td>\n      <td>3338</td>\n      <td>Orden PRE/3338/2007, de 15 de noviembre, por l...</td>\n      <td>ESP</td>\n      <td>España</td>\n      <td>NaN</td>\n      <td>M. Ambiente / Prevención</td>\n      <td>[1][2]</td>\n      <td>[Orden PRE/3338/2007, Real Decreto 2163/1994]</td>\n    </tr>\n    <tr>\n      <th>11647</th>\n      <td>ORD PRE/3420/2007 ESP</td>\n      <td>3420</td>\n      <td>Orden PRE/3420/2007, de 14 de noviembre, por l...</td>\n      <td>ESP</td>\n      <td>España</td>\n      <td>NaN</td>\n      <td>M. Ambiente</td>\n      <td>[1]</td>\n      <td>[Orden PRE/3420/2007]</td>\n    </tr>\n    <tr>\n      <th>11648</th>\n      <td>ORD PRE/3476/2003 ESP</td>\n      <td>3476</td>\n      <td>Orden PRE/3476/2003, de 9 de diciembre, por la...</td>\n      <td>ESP</td>\n      <td>España</td>\n      <td>NaN</td>\n      <td>M. Ambiente / Prevención</td>\n      <td>[1][2]</td>\n      <td>[Orden PRE/3476/2003, Real Decreto 2163/1994]</td>\n    </tr>\n    <tr>\n      <th>11649</th>\n      <td>ORD PRE/3539/2008 ESP</td>\n      <td>3539</td>\n      <td>Orden PRE/3539/2008, de 28 de noviembre, por l...</td>\n      <td>ESP</td>\n      <td>España</td>\n      <td>NaN</td>\n      <td>M. Ambiente</td>\n      <td>[1]</td>\n      <td>[Orden PRE/3539/2008]</td>\n    </tr>\n    <tr>\n      <th>11650</th>\n      <td>ORD PRE/370/2012 ESP</td>\n      <td>370</td>\n      <td>Orden PRE/370/2012, de 27 de febrero, por la q...</td>\n      <td>ESP</td>\n      <td>España</td>\n      <td>NaN</td>\n      <td>M. Ambiente</td>\n      <td>[1]</td>\n      <td>[Orden PRE/370/2012, Real Decreto 1383/2002]</td>\n    </tr>\n    <tr>\n      <th>11651</th>\n      <td>ORD PRE/374/2008 ESP</td>\n      <td>374</td>\n      <td>Orden PRE/374/2008, de 31 de enero, por la que...</td>\n      <td>ESP</td>\n      <td>España</td>\n      <td>NaN</td>\n      <td>M. Ambiente / Prevención</td>\n      <td>[1][2]</td>\n      <td>[Orden PRE/374/2008, Real Decreto 1406/1989]</td>\n    </tr>\n    <tr>\n      <th>11652</th>\n      <td>ORD PRE/375/2003 ESP</td>\n      <td>375</td>\n      <td>Orden PRE/375/2003, de 24 de febrero, por la q...</td>\n      <td>ESP</td>\n      <td>España</td>\n      <td>NaN</td>\n      <td>M. Ambiente / Prevención</td>\n      <td>[1][2]</td>\n      <td>[Orden PRE/375/2003, Real Decreto 1406/1989]</td>\n    </tr>\n    <tr>\n      <th>11653</th>\n      <td>ORD PRE/3834/2005 ESP</td>\n      <td>3834</td>\n      <td>Orden PRE/3834/2005, de 9 de diciembre, por la...</td>\n      <td>ESP</td>\n      <td>España</td>\n      <td>NaN</td>\n      <td>M. Ambiente</td>\n      <td>[1]</td>\n      <td>[Orden PRE/3834/2005]</td>\n    </tr>\n    <tr>\n      <th>11654</th>\n      <td>ORD PRE/3856/2005 ESP</td>\n      <td>3856</td>\n      <td>Orden PRE/3856/2005, de 12 de diciembre, por l...</td>\n      <td>ESP</td>\n      <td>España</td>\n      <td>NaN</td>\n      <td>M. Ambiente / Prevención</td>\n      <td>[1][2]</td>\n      <td>[Orden PRE/3856/2005, Real Decreto 2163/1994]</td>\n    </tr>\n    <tr>\n      <th>11655</th>\n      <td>ORD PRE/3929/2004 ESP</td>\n      <td>3929</td>\n      <td>Orden PRE/3929/2004, de 30 de noviembre, por l...</td>\n      <td>ESP</td>\n      <td>España</td>\n      <td>NaN</td>\n      <td>M. Ambiente / Prevención</td>\n      <td>[1][2]</td>\n      <td>[Orden PRE/3929/2004, Real Decreto 2163/1994]</td>\n    </tr>\n    <tr>\n      <th>11656</th>\n      <td>ORD PRE/402/2006 ESP</td>\n      <td>402</td>\n      <td>Orden PRE/402/2006, de 16 de febrero, por la q...</td>\n      <td>ESP</td>\n      <td>España</td>\n      <td>NaN</td>\n      <td>M. Ambiente / Prevención</td>\n      <td>[1][2]</td>\n      <td>[Orden PRE/402/2006, Orden PRE/690/2005]</td>\n    </tr>\n    <tr>\n      <th>11657</th>\n      <td>ORD PRE/402/2008 CAT</td>\n      <td>402</td>\n      <td>Orden PRE/402/2008, de 28 de agosto, por la qu...</td>\n      <td>ESP</td>\n      <td>España</td>\n      <td>NaN</td>\n      <td>Reg. Industrial</td>\n      <td>[3]</td>\n      <td>[Orden PRE/402/2008]</td>\n    </tr>\n    <tr>\n      <th>11658</th>\n      <td>ORD PRE/456/2007 ESP</td>\n      <td>456</td>\n      <td>Orden PRE/456/2007, de 28 de febrero, por la q...</td>\n      <td>ESP</td>\n      <td>España</td>\n      <td>NaN</td>\n      <td>M. Ambiente / Prevención</td>\n      <td>[1][2]</td>\n      <td>[Orden PRE/456/2007, Real Decreto 2163/1994]</td>\n    </tr>\n    <tr>\n      <th>11659</th>\n      <td>ORD PRE/468/2008 ESP</td>\n      <td>468</td>\n      <td>Orden PRE/468/2008, de 15 de febrero, por la q...</td>\n      <td>ESP</td>\n      <td>España</td>\n      <td>NaN</td>\n      <td>M. Ambiente</td>\n      <td>[1]</td>\n      <td>[Orden PRE/468/2008]</td>\n    </tr>\n    <tr>\n      <th>11660</th>\n      <td>ORD PRE/473/2004 ESP</td>\n      <td>473</td>\n      <td>Orden PRE/473/2004, de 25 de febrero, por la q...</td>\n      <td>ESP</td>\n      <td>España</td>\n      <td>NaN</td>\n      <td>M. Ambiente / Prevención</td>\n      <td>[1][2]</td>\n      <td>[Orden PRE/473/2004]</td>\n    </tr>\n    <tr>\n      <th>11661</th>\n      <td>ORD PRE/507/2008 ESP</td>\n      <td>507</td>\n      <td>Orden PRE/507/2008, de 26 de febrero, por la q...</td>\n      <td>ESP</td>\n      <td>España</td>\n      <td>NaN</td>\n      <td>M. Ambiente / Prevención</td>\n      <td>[1][2]</td>\n      <td>[Orden PRE/507/2008, Real Decreto 1054/2002]</td>\n    </tr>\n    <tr>\n      <th>11662</th>\n      <td>ORD PRE/52/2010 ESP</td>\n      <td>23/1/2010</td>\n      <td>Orden PRE/52/2010, de 21 de enero, por la que ...</td>\n      <td>ESP</td>\n      <td>España</td>\n      <td>NaN</td>\n      <td>Seguridad Vial</td>\n      <td>[5]</td>\n      <td>[Orden PRE/52/2010, Real Decreto 2822/1998]</td>\n    </tr>\n    <tr>\n      <th>11663</th>\n      <td>ORD PRE/531/2010 ESP</td>\n      <td>531</td>\n      <td>Orden PRE/531/2010, de 26 de febrero, por la q...</td>\n      <td>ESP</td>\n      <td>España</td>\n      <td>NaN</td>\n      <td>M. Ambiente / Prevención</td>\n      <td>[1][2]</td>\n      <td>[Orden PRE/531/2010, Real Decreto 2163/1994]</td>\n    </tr>\n    <tr>\n      <th>11664</th>\n      <td>ORD PRE/556/2005 ESP</td>\n      <td>556</td>\n      <td>Orden PRE/556/2005, de 10 de marzo, por la que...</td>\n      <td>ESP</td>\n      <td>España</td>\n      <td>NaN</td>\n      <td>M. Ambiente / Prevención</td>\n      <td>[1][2]</td>\n      <td>[Orden PRE/556/2005, Orden PRE/473/2004, Real ...</td>\n    </tr>\n    <tr>\n      <th>11665</th>\n      <td>ORD PRE/568/2009 ESP</td>\n      <td>568</td>\n      <td>Orden PRE/568/2009, de 5 de marzo, por la que ...</td>\n      <td>ESP</td>\n      <td>España</td>\n      <td>NaN</td>\n      <td>Prevención</td>\n      <td>[2]</td>\n      <td>[Orden PRE/568/2009, Real Decreto 258/1999]</td>\n    </tr>\n    <tr>\n      <th>11666</th>\n      <td>ORD PRE/628/2011 ESP</td>\n      <td>628</td>\n      <td>Orden PRE/628/2011, de 22 de marzo, por la que...</td>\n      <td>ESP</td>\n      <td>España</td>\n      <td>NaN</td>\n      <td>Seg. Alimentaria</td>\n      <td>[7]</td>\n      <td>[Orden PRE/628/2011, Real Decreto 866/2008]</td>\n    </tr>\n    <tr>\n      <th>11667</th>\n      <td>ORD PRE/629/2011 ESP</td>\n      <td>629</td>\n      <td>Orden PRE/629/2011, de 22 de marzo, por la que...</td>\n      <td>ESP</td>\n      <td>España</td>\n      <td>-</td>\n      <td>Seguridad Vial</td>\n      <td>[5]</td>\n      <td>[Orden PRE/629/2011, Real Decreto 2822/1998]</td>\n    </tr>\n    <tr>\n      <th>11668</th>\n      <td>ORD PRE/630/2011 ESP</td>\n      <td>630</td>\n      <td>Orden PRE/630/2011, de 23 de marzo, por la que...</td>\n      <td>ESP</td>\n      <td>España</td>\n      <td>NaN</td>\n      <td>M. Ambiente / Prevención</td>\n      <td>[1][2]</td>\n      <td>[Orden PRE/630/2011, Real Decreto 824/2005]</td>\n    </tr>\n    <tr>\n      <th>11669</th>\n      <td>ORD PRE/631/2011 ESP</td>\n      <td>631</td>\n      <td>Orden PRE/631/2011, de 23 de marzo, por la que...</td>\n      <td>ESP</td>\n      <td>España</td>\n      <td>NaN</td>\n      <td>M. Ambiente / Prevención</td>\n      <td>[1][2]</td>\n      <td>[Orden PRE/631/2011, Real Decreto 2163/1994]</td>\n    </tr>\n    <tr>\n      <th>11670</th>\n      <td>ORD PRE/662/2013 ESP</td>\n      <td>662</td>\n      <td>Orden PRE/662/2013, de 22 de abril, por la que...</td>\n      <td>ESP</td>\n      <td>España</td>\n      <td>NaN</td>\n      <td>M. Ambiente / Prevención</td>\n      <td>[1][2]</td>\n      <td>[Orden PRE/662/2013, Real Decreto 1054/2002]</td>\n    </tr>\n    <tr>\n      <th>11671</th>\n      <td>ORD PRE/675/2013 ESP</td>\n      <td>675</td>\n      <td>Orden PRE/675/2013, de 22 de abril, por la que...</td>\n      <td>ESP</td>\n      <td>España</td>\n      <td>NaN</td>\n      <td>M. Ambiente / Prevención</td>\n      <td>[1][2]</td>\n      <td>[Orden PRE/675/2013, Real Decreto 1054/2002]</td>\n    </tr>\n    <tr>\n      <th>11672</th>\n      <td>ORD PRE/690/2005 ESP</td>\n      <td>690</td>\n      <td>Orden PRE/690/2005, de 18 de marzo, por la que...</td>\n      <td>ESP</td>\n      <td>España</td>\n      <td>NaN</td>\n      <td>M. Ambiente / Prevención</td>\n      <td>[1][2]</td>\n      <td>[Orden PRE/690/2005]</td>\n    </tr>\n    <tr>\n      <th>11673</th>\n      <td>ORD PRE/696/2008 ESP</td>\n      <td>696</td>\n      <td>Orden PRE/696/2008, de 7 de marzo, por la que ...</td>\n      <td>ESP</td>\n      <td>España</td>\n      <td>NaN</td>\n      <td>M. Ambiente / Prevención</td>\n      <td>[1][2]</td>\n      <td>[Orden PRE/696/2008, Real Decreto 2163/1994]</td>\n    </tr>\n    <tr>\n      <th>11674</th>\n      <td>ORD PRE/730/2003 ESP</td>\n      <td>730</td>\n      <td>Orden PRE/730/2003, de 25 de marzo, por la que...</td>\n      <td>ESP</td>\n      <td>España</td>\n      <td>NaN</td>\n      <td>M. Ambiente / Prevención</td>\n      <td>[1][2]</td>\n      <td>[Orden PRE/730/2003, Real Decreto 1406/1989]</td>\n    </tr>\n    <tr>\n      <th>11675</th>\n      <td>ORD PRE/77/2008 ESP</td>\n      <td>77</td>\n      <td>Orden PRE/77/2008, de 17 de enero, por la que ...</td>\n      <td>ESP</td>\n      <td>España</td>\n      <td>NaN</td>\n      <td>M. Ambiente</td>\n      <td>[1]</td>\n      <td>[Orden PRE/77/2008]</td>\n    </tr>\n    <tr>\n      <th>11676</th>\n      <td>ORD PRE/772/2016 ESP</td>\n      <td>772</td>\n      <td>Orden PRE/772/2016, de 19 de mayo, por la que ...</td>\n      <td>ESP</td>\n      <td>España</td>\n      <td>NaN</td>\n      <td>M. Ambiente</td>\n      <td>[1]</td>\n      <td>[Orden PRE/772/2016, Real Decreto 219/2013]</td>\n    </tr>\n    <tr>\n      <th>11677</th>\n      <td>ORD PRE/777/2009 ESP</td>\n      <td>777</td>\n      <td>Orden PRE/777/2009, de 26 de marzo, por la que...</td>\n      <td>ESP</td>\n      <td>España</td>\n      <td>NaN</td>\n      <td>M. Ambiente / Prevención</td>\n      <td>[1][2]</td>\n      <td>[Orden PRE/777/2009, Real Decreto 2163/1994]</td>\n    </tr>\n    <tr>\n      <th>11678</th>\n      <td>ORD PRE/777/2011 ESP</td>\n      <td>777</td>\n      <td>Orden PRE/777/2011, de 4 de abril, por la que ...</td>\n      <td>ESP</td>\n      <td>España</td>\n      <td>NaN</td>\n      <td>M. Ambiente / Prevención</td>\n      <td>[1][2]</td>\n      <td>[Orden PRE/777/2011, Real Decreto 1054/2002]</td>\n    </tr>\n    <tr>\n      <th>11679</th>\n      <td>ORD PRE/839/2010 ESP</td>\n      <td>839</td>\n      <td>Orden PRE/839/2010, de 29 de marzo, por la que...</td>\n      <td>ESP</td>\n      <td>España</td>\n      <td>NaN</td>\n      <td>M. Ambiente / Prevención</td>\n      <td>[1][2]</td>\n      <td>[Orden PRE/839/2010, Real Decreto 2163/1994]</td>\n    </tr>\n  </tbody>\n</table>\n</div>"
     },
     "metadata": {},
     "execution_count": 108
    }
   ],
   "source": [
    "ASECORP_BBDD_BOE[1200:1250]"
   ]
  },
  {
   "cell_type": "code",
   "execution_count": 109,
   "metadata": {},
   "outputs": [],
   "source": [
    "# titulo"
   ]
  },
  {
   "cell_type": "code",
   "execution_count": 110,
   "metadata": {},
   "outputs": [
    {
     "output_type": "execute_result",
     "data": {
      "text/plain": [
       "2959"
      ]
     },
     "metadata": {},
     "execution_count": 110
    }
   ],
   "source": [
    "len(titulo)"
   ]
  },
  {
   "cell_type": "code",
   "execution_count": 111,
   "metadata": {},
   "outputs": [],
   "source": [
    "## Busca patrones regex definidos en columna títulos del DF \n",
    "boletin = []\n",
    "for i, row in ASECORP_BBDD_BOE.iterrows():\n",
    "    boletin.append(str(re.findall('|'.join(pattern), row['Titulo'], flags=re.IGNORECASE)))"
   ]
  },
  {
   "cell_type": "code",
   "execution_count": 112,
   "metadata": {},
   "outputs": [
    {
     "output_type": "execute_result",
     "data": {
      "text/plain": [
       "['[]',\n",
       " '[]',\n",
       " '[]',\n",
       " '[]',\n",
       " '[]',\n",
       " '[]',\n",
       " '[]',\n",
       " '[]',\n",
       " '[]',\n",
       " '[]',\n",
       " '[]',\n",
       " '[]',\n",
       " '[]',\n",
       " '[]',\n",
       " '[]',\n",
       " \"['Acuerdo Multilateral M-150']\",\n",
       " \"['Acuerdo Multilateral M-159']\",\n",
       " \"['Acuerdo multilateral M-168']\",\n",
       " \"['Acuerdo Multilateral M-170']\",\n",
       " \"['Acuerdo Multilateral M-171']\",\n",
       " \"['Acuerdo Multilateral M-173']\",\n",
       " \"['Acuerdo Multilateral M-175']\",\n",
       " '[]',\n",
       " \"['Acuerdo Multilateral M-178']\",\n",
       " \"['Acuerdo Multilateral M-198']\"]"
      ]
     },
     "metadata": {},
     "execution_count": 112
    }
   ],
   "source": [
    "boletin[0:25]"
   ]
  },
  {
   "cell_type": "code",
   "execution_count": 113,
   "metadata": {},
   "outputs": [],
   "source": [
    "## Para cada fila de la BBDD recoge la expresión REGEX encontrada y si no existe no la incluye \n",
    "## en la lista resultante llamada 'boletin'. Además si no detecta expresión la cuenta como vacía\n",
    "## en variable 'n_vacios', y la añade a la lista 'vacios' para inspeccionar posteriormente \n",
    "boletin = []\n",
    "vacios = []\n",
    "n_vacios = 0\n",
    "for i, row in ASECORP_BBDD_BOE.iterrows():\n",
    "    regex_result = re.findall('|'.join(pattern), row['Titulo'], flags=re.IGNORECASE)\n",
    "    if len(regex_result) != 0:\n",
    "        boletin.append(re.findall('|'.join(pattern), row['Titulo'], flags=re.IGNORECASE))\n",
    "    else:\n",
    "        n_vacios += 1\n",
    "        vacios.append(row['Titulo'])"
   ]
  },
  {
   "cell_type": "code",
   "execution_count": 114,
   "metadata": {},
   "outputs": [
    {
     "output_type": "execute_result",
     "data": {
      "text/plain": [
       "276"
      ]
     },
     "metadata": {},
     "execution_count": 114
    }
   ],
   "source": [
    "n_vacios"
   ]
  },
  {
   "cell_type": "code",
   "execution_count": 115,
   "metadata": {},
   "outputs": [
    {
     "output_type": "execute_result",
     "data": {
      "text/plain": [
       "['Acuerdo Multilateral RID 1/2020 en virtud de la Sección 1.5.1 del Reglamento del Transporte Internacional de Mercancías Peligrosas por Ferrocarril (RID), relativo a los certificados de consejeros de seguridad de conformidad con el punto 1.8.3.7 del RID, hecho en Madrid el 25 de marzo de 2020',\n",
       " 'Entrada en vigor del Acuerdo entre el Reino de España y el Principado de Andorra sobre traslado y gestión de residuos, hecho en Madrid el 17 de octubre de 2006.',\n",
       " 'Aplicación provisional del Acuerdo entre el Reino de España y el Principado de Andorra sobre traslado y gestión de residuos, hecho en Madrid el 17 de octubre de 2006.',\n",
       " 'Acuerdo de la Junta de Gobierno de la Confederación Hidrográfica del Segura celebrada el día 30 de octubre de 2018 sobre aplicación de indisponibilidad o reducción de dotaciones de acuerdo al Plan Especial de Sequía y al Real Decreto que la regula',\n",
       " 'Acuerdo Multilateral RID 2/2020 en virtud de la Sección 1.5.1 del Reglamento del Transporte Internacional de Mercancías Peligrosas por Ferrocarril (RID), relativo a inspecciones periódicas o intermedias de cisternas de conformidad con los apartados 6.8.2.4.2, 6.8.2.4.3, 6.8.3.4.6, 6.8.3.4.12, 6.9.5.2 y 6.10.4 del RID, hecho en Madrid el 25 de marzo de 2020',\n",
       " 'Entrada en vigor del Acuerdo entre el Reino de España y el Principado de Andorra sobre el traslado de residuos, hecho en Madrid el 29 de noviembre de 2011.',\n",
       " 'Acuerdo Multilateral RID 1/2013 en aplicación de la Sección 1.5.1 del Reglamento del Transporte Internacional de Mercancías Peligrosas por Ferrocarril (RID), relativo al cambio de referencia a la norma EN ISO/IEC 17020:2004 por la referencia a la norma EN ISO/IEC 17020:2012 (excepto cláusula 8.1.3), hecho en Madrid el 26 de junio de 2013.',\n",
       " 'Canje de Notas por el que se procede a la prórroga del mantenimiento en vigor del Acuerdo entre el Reino de España y el Principado de Andorra sobre traslado y gestión de residuos, hecho en Madrid el 27 de enero de 2000.',\n",
       " 'Aplicación provisional del Acuerdo entre el Reino de España y el Principado de Andorra sobre el traslado de residuos, hecho en Madrid el 29 de noviembre de 2011.',\n",
       " 'Plan de Acción de Ahorro y Eficiencia Energética  2011-2020, del 29 de julio de 2011 (IDAE)',\n",
       " 'Acuerdo Especial Multilateral RID 3/2020 en virtud de la Sección 1.5.1 del Reglamento del Transporte Internacional de Mercancías Peligrosas por Ferrocarril (RID), relativo a la inspección periódica y ensayo de recipientes a presión para el transporte de gases de la Clase 2, hecho en Madrid el 2 de abril de 2020',\n",
       " 'Acuerdo Multilateral RID 3/2007 en virtud de la Sección 1.5.1. del Reglamento del Transporte Internacional de Mercancías Peligrosas por Ferrocarril (RID), (publicado en el «Boletín Oficial del Estado» nº 59 de 9 de marzo de 2007) relativo al transporte de acuerdo con la disposición especial de embalaje PP1 de la instrucción de embalaje P001, hecho en Madrid el 30 de abril de 2008.',\n",
       " 'Acuerdo Multilateral RID 4/2009 en virtud de la Sección 1.5.1. del Reglamento del Transporte Internacional de Mercancías Peligrosas por Ferrocarril (RID), (publicado en el «Boletín Oficial del Estado» n.º 59 de 9 de marzo de 2007) relativo a las placas naranja para fijarse al vagón transportista usado para el transporte carretera-ferrocarril (ferroutage), hecho en Madrid a 14 de junio de 2010.',\n",
       " 'Acuerdo Especial Multilateral RID 4/2020 en virtud de la Sección 1.5.1 del Reglamento del Transporte Internacional de Mercancías Peligrosas por Ferrocarril (RID), sobre inspecciones periódicas o intermedias de cisternas portátiles y contenedores de gas de elementos múltiples (CGEM) certificados «UN» de acuerdo con los apartados 6.7.2.19.2, 6.7.3.15.2, 6.7.4.14.2 y 6.7.5.12.2 del RID, hecho en Madrid el 2 de abril de 2020',\n",
       " 'Acuerdo Especial Multilateral RID 8.2020 en virtud de la sección 1.5.1 del RID, relativo a la inspección periódica y ensayo de recipientes a presión para el transporte de gases de la Clase 2, hecho en Madrid el 1 de diciembre de 2020',\n",
       " 'Acuerdo multilateral ADR M-177 en virtud de la sección 1.5.1 del Acuerdo Europeo sobre transporte internacional de mercancías peligrosas por carretera (ADR), publicado en el «Boletín Oficial del Estado» n.º 18, de 21 de enero de 2005, relativo al documento de transporte en operaciones de venta en ruta, hecho en Madrid el 23 de junio de 2006.',\n",
       " 'Acuerdo Multilateral M 269 en aplicación de la sección 1.5.1 del Acuerdo Europeo sobre transporte internacional de mercancías peligrosas por carretera (ADR), relativo al marcado de los números UN en botellas para gases licuados del petróleo (GLP), hecho en Madrid el 20 de diciembre de 2013.',\n",
       " 'Acuerdo  Multilateral  M  300  en  aplicación  de  la  sección  1.5.1  del  Acuerdo Europeo sobre transporte internacional de mercancías peligrosas por carretera (ADR), relativo al documento de transporte en operaciones de venta en ruta, hecho en Madrid el 11 de julio de 2016',\n",
       " 'Acuerdo Multilateral M 304 en aplicación de la sección 1.5.1 del AcuerdoEuropeo sobre transporte internacional de mercancías peligrosas por carretera(ADR), relativo al número de remolques en una unidad de transporte demercancías peligrosas, hecho en Madrid el 30 de enero de 2017',\n",
       " 'Acuerdo Multilateral M 311 en virtud de la sección 1.5.1 del Anexo A del Acuerdo Europeo sobre transporte internacional de mercancías peligrosas por carretera (ADR), relativo al marcado (placas etiqueta) de contenedores usados exclusivamente en una operación de transporte por carretera, hecho en Madrid el 22 de marzo de 2018',\n",
       " 'Acuerdo Multilateral M315 en virtud de la sección 1.5.1 del Anexo A del Acuerdo Europeo sobre transporte internacional de mercancías peligrosas por carretera (ADR), relativo al transporte de desechos contaminados con virus que causan fiebre hemorrágica, hecho en Madrid el 8 de julio de 2019',\n",
       " 'Acuerdo Multilateral M317 en virtud de la sección 1.5. del Acuerdo europeo sobre transporte internacional de mercancías peligrosas por carretera (ADR), relativo al transporte de desechos médicos sólidos o clínicos, Categoría A, hecho en Madrid el 23 de marzo de 2020',\n",
       " 'Acuerdo Multilateral M324 en virtud de la sección 1.5.1 del Acuerdo europeo sobre transporte internacional de mercancías peligrosas por carretera (ADR) relativo a los certificados de formación de los conductores de conformidad con el punto 8.2.2.8.2 del ADR y los certificados de consejeros de seguridad de conformidad con el punto 1.8.3.7 del ADR, hecho en Madrid el 23 de marzo de 2020',\n",
       " 'Acuerdo Multilateral M325 en virtud de la sección 1.5.1 del Acuerdo europeo sobre transporte internacional de mercancías peligrosas por carretera (ADR), relativo a inspecciones periódicas o intermedias de cisternas de conformidad con los apartados 6.8.2.4.2, 6.8.2.4.3, 6.8.3.4.6, 6.8.3.4.12, 6.9.5.2 y 6.10.4 del ADR, y los certificados de aprobación para vehículos de conformidad con el apartado 9.1.3.4 del ADR, hecho en Madrid el 23 de marzo de 2020',\n",
       " 'Acuerdo Multilateral M326 en virtud de la sección 1.5.1 del Acuerdo europeo sobre transporte internacional de mercancías peligrosas por carretera (ADR), relativo a la inspección periódica y ensayo de recipientes a presión del transporte de gases de la Clase 2, hecho en Madrid el 2 de abril de 2020']"
      ]
     },
     "metadata": {},
     "execution_count": 115
    }
   ],
   "source": [
    "vacios[0:25]"
   ]
  },
  {
   "cell_type": "code",
   "execution_count": 116,
   "metadata": {},
   "outputs": [
    {
     "output_type": "execute_result",
     "data": {
      "text/plain": [
       "[['Acuerdo Multilateral M-150'],\n",
       " ['Acuerdo Multilateral M-159'],\n",
       " ['Acuerdo multilateral M-168'],\n",
       " ['Acuerdo Multilateral M-170'],\n",
       " ['Acuerdo Multilateral M-171'],\n",
       " ['Acuerdo Multilateral M-173'],\n",
       " ['Acuerdo Multilateral M-175'],\n",
       " ['Acuerdo Multilateral M-178'],\n",
       " ['Acuerdo Multilateral M-198'],\n",
       " ['Acuerdo Multilateral M-214'],\n",
       " ['Acuerdo Multilateral M-218'],\n",
       " ['Acuerdo Multilateral M-226'],\n",
       " ['Acuerdo Multilateral M-228'],\n",
       " ['Acuerdo Multilateral M-231'],\n",
       " ['Acuerdo Multilateral M-236'],\n",
       " ['Acuerdo Multilateral M-245'],\n",
       " ['Acuerdo Multilateral M-254'],\n",
       " ['Acuerdo Multilateral M-259'],\n",
       " ['Acuerdo Multilateral M-265'],\n",
       " ['Acuerdo Multilateral M-268'],\n",
       " ['Acuerdo Multilateral M-271'],\n",
       " ['Acuerdo Multilateral M-273'],\n",
       " ['Acuerdo Multilateral M-276'],\n",
       " ['Acuerdo Multilateral M-291'],\n",
       " ['Acuerdo Multilateral M-292']]"
      ]
     },
     "metadata": {},
     "execution_count": 116
    }
   ],
   "source": [
    "boletin[0:25]"
   ]
  },
  {
   "cell_type": "code",
   "execution_count": 117,
   "metadata": {},
   "outputs": [],
   "source": [
    "# Flatten list of lists\n",
    "boletin_ASECORP_flat_list = [item for sublist in boletin for item in sublist]"
   ]
  },
  {
   "cell_type": "code",
   "execution_count": 118,
   "metadata": {},
   "outputs": [
    {
     "output_type": "execute_result",
     "data": {
      "text/plain": [
       "['Acuerdo Multilateral M-150',\n",
       " 'Acuerdo Multilateral M-159',\n",
       " 'Acuerdo multilateral M-168',\n",
       " 'Acuerdo Multilateral M-170',\n",
       " 'Acuerdo Multilateral M-171',\n",
       " 'Acuerdo Multilateral M-173',\n",
       " 'Acuerdo Multilateral M-175',\n",
       " 'Acuerdo Multilateral M-178',\n",
       " 'Acuerdo Multilateral M-198',\n",
       " 'Acuerdo Multilateral M-214',\n",
       " 'Acuerdo Multilateral M-218',\n",
       " 'Acuerdo Multilateral M-226',\n",
       " 'Acuerdo Multilateral M-228',\n",
       " 'Acuerdo Multilateral M-231',\n",
       " 'Acuerdo Multilateral M-236',\n",
       " 'Acuerdo Multilateral M-245',\n",
       " 'Acuerdo Multilateral M-254',\n",
       " 'Acuerdo Multilateral M-259',\n",
       " 'Acuerdo Multilateral M-265',\n",
       " 'Acuerdo Multilateral M-268',\n",
       " 'Acuerdo Multilateral M-271',\n",
       " 'Acuerdo Multilateral M-273',\n",
       " 'Acuerdo Multilateral M-276',\n",
       " 'Acuerdo Multilateral M-291',\n",
       " 'Acuerdo Multilateral M-292']"
      ]
     },
     "metadata": {},
     "execution_count": 118
    }
   ],
   "source": [
    "boletin_ASECORP_flat_list[0:25]"
   ]
  },
  {
   "cell_type": "code",
   "execution_count": 119,
   "metadata": {},
   "outputs": [],
   "source": [
    "## Elimina duplicados\n",
    "boletin_ASECORP_flat_list = list(set(boletin_ASECORP_flat_list))"
   ]
  },
  {
   "cell_type": "code",
   "execution_count": 120,
   "metadata": {},
   "outputs": [
    {
     "output_type": "execute_result",
     "data": {
      "text/plain": [
       "['Ley 38/1995',\n",
       " 'Circular 1/2013',\n",
       " 'Orden de 30 de junio de 1998',\n",
       " 'Nota de servicio 1/2014',\n",
       " 'Orden JUS/206/2009',\n",
       " 'Real Decreto 2100/1976',\n",
       " 'Orden FOM/3459/2003',\n",
       " 'Orden PRE/985/2007',\n",
       " 'Real Decreto 399/2013',\n",
       " 'Orden de 20 de mayo de 2016',\n",
       " 'Orden SND/445/2020',\n",
       " 'Resolución de 10 de enero de 2020',\n",
       " 'Real decreto 1976/1999',\n",
       " 'Real Decreto-ley 9/2000',\n",
       " 'Real Decreto 1075/2017',\n",
       " 'Real Decreto 1326/1995',\n",
       " 'Orden de 2 de abril de 1993',\n",
       " 'Resolución de 16 de noviembre de 2010',\n",
       " 'Orden de 13 de junio de 1984',\n",
       " 'Orden SCO/1591/2005',\n",
       " 'Real Decreto 984/2015',\n",
       " 'Orden FOM/882/2015',\n",
       " 'Resolución de 24 de septiembre de 2012',\n",
       " 'Resolución de 8 de marzo de 2012',\n",
       " 'Orden MAM/1873/2004']"
      ]
     },
     "metadata": {},
     "execution_count": 120
    }
   ],
   "source": [
    "boletin_ASECORP_flat_list[0:25]"
   ]
  },
  {
   "cell_type": "code",
   "execution_count": 121,
   "metadata": {},
   "outputs": [],
   "source": [
    "## Crea función que convierte lista a string en todas las columnas de tabla_analisis\n",
    "## para evitar en presentación final los caracteres [' '] propios de las listas\n",
    "def list2Str(lst):\n",
    "    if type(lst) is list: # apply conversion to list columns\n",
    "        return\", \".join(lst)\n",
    "    else:\n",
    "        return lst"
   ]
  },
  {
   "source": [
    "# ------------------------------------------------------------------------"
   ],
   "cell_type": "markdown",
   "metadata": {}
  },
  {
   "source": [
    "# DOGC"
   ],
   "cell_type": "markdown",
   "metadata": {}
  },
  {
   "cell_type": "code",
   "execution_count": 122,
   "metadata": {},
   "outputs": [],
   "source": [
    "URL_HTML_resumen = \"https://dogc.gencat.cat/es/inici/\""
   ]
  },
  {
   "cell_type": "code",
   "execution_count": 123,
   "metadata": {},
   "outputs": [
    {
     "output_type": "stream",
     "name": "stdout",
     "text": [
      "['DOGC núm. 8350']\n['Disposiciones', 'Cargos y personal', 'Anuncios de la Generalidad de Cataluña', 'Anuncios de la Administración local', 'Anuncios de la Administración de justicia ', 'Anuncios varios']\n['https://dogc.gencat.cat/es/sumari-del-dogc/?numDOGC=8350#section-Disposiciones', 'https://dogc.gencat.cat/es/sumari-del-dogc/?numDOGC=8350#section-Cargos_y_personal', 'https://dogc.gencat.cat/es/sumari-del-dogc/?numDOGC=8350#section-Anuncios_de_la_Generalidad_de_Cataluña', 'https://dogc.gencat.cat/es/sumari-del-dogc/?numDOGC=8350#section-Anuncios_de_la_Administración_local', 'https://dogc.gencat.cat/es/sumari-del-dogc/?numDOGC=8350#section-Anuncios_de_la_Administración_de_justicia_', 'https://dogc.gencat.cat/es/sumari-del-dogc/?numDOGC=8350#section-Anuncios_varios']\n"
     ]
    }
   ],
   "source": [
    "### Necesita libreria Selenium para renderizar JS script\n",
    "\n",
    "options = webdriver.ChromeOptions()\n",
    "options.headless = True\n",
    "driver = webdriver.Chrome(options=options)\n",
    "\n",
    "driver.get(URL_HTML_resumen)\n",
    "#print(driver.page_source)\n",
    "response = driver.page_source\n",
    "\n",
    "sumario_HTML = html.fromstring(response)\n",
    "#print(sumario_HTML.xpath('//h2[@class=\"titol-component\"]/a/@href'))\n",
    "numero_diario = sumario_HTML.xpath('//h2[@class=\"titol-component\"]/a/text()')\n",
    "secciones = sumario_HTML.xpath('//div[@class=\"llistat_cont\"]/ul/li/a/text()')\n",
    "secciones_link = sumario_HTML.xpath('//div[@class=\"llistat_cont\"]/ul/li/a/@href')\n",
    "secciones_linkHTML = [ ('https://dogc.gencat.cat' + item) for item in secciones_link ]\n",
    "# numero_pagina = sumario_HTML.xpath('//table[@class=\"tablaDetalle\"]/tbody/tr[3]/td[4]/text()')\n",
    "# NID = sumario_HTML.xpath('//table[@class=\"tablaDetalle\"]/tbody/tr[2]/td[2]/text()')\n",
    "# rango = sumario_HTML.xpath('//table[@class=\"tablaDetalle\"]/tbody/tr[5]/td[2]/text()')\n",
    "# organo_emisor = sumario_HTML.xpath('//table[@class=\"tablaDetalle\"]/tbody/tr[7]/td[2]/text()')\n",
    "# \n",
    "# print(numero_diario[0].strip(), numero_pagina[0].strip(), NID[0].strip(), rango[0].strip(), organo_emisor[0].strip())\n",
    "# print()\n",
    "print(numero_diario)\n",
    "print(secciones)\n",
    "print(secciones_linkHTML)\n",
    "\n",
    "driver.quit()"
   ]
  },
  {
   "cell_type": "code",
   "execution_count": 124,
   "metadata": {},
   "outputs": [],
   "source": [
    "#response"
   ]
  },
  {
   "source": [
    "## Recoge Nombre Secciones Sumario"
   ],
   "cell_type": "markdown",
   "metadata": {}
  },
  {
   "cell_type": "code",
   "execution_count": 125,
   "metadata": {},
   "outputs": [],
   "source": [
    "secciones = sumario_HTML.xpath('//div[@class=\"llistat_cont\"]/ul/li/a/text()')\n",
    "#print(secciones)\n",
    "df_secciones_sumarios = pd.DataFrame()\n",
    "for seccion in secciones:\n",
    "    df_secciones_sumarios = df_secciones_sumarios.append({'Seccion': seccion}, ignore_index=True)\n"
   ]
  },
  {
   "cell_type": "code",
   "execution_count": 126,
   "metadata": {},
   "outputs": [
    {
     "output_type": "execute_result",
     "data": {
      "text/plain": [
       "                                      Seccion\n",
       "0                               Disposiciones\n",
       "1                           Cargos y personal\n",
       "2      Anuncios de la Generalidad de Cataluña\n",
       "3         Anuncios de la Administración local\n",
       "4  Anuncios de la Administración de justicia \n",
       "5                             Anuncios varios"
      ],
      "text/html": "<div>\n<style scoped>\n    .dataframe tbody tr th:only-of-type {\n        vertical-align: middle;\n    }\n\n    .dataframe tbody tr th {\n        vertical-align: top;\n    }\n\n    .dataframe thead th {\n        text-align: right;\n    }\n</style>\n<table border=\"1\" class=\"dataframe\">\n  <thead>\n    <tr style=\"text-align: right;\">\n      <th></th>\n      <th>Seccion</th>\n    </tr>\n  </thead>\n  <tbody>\n    <tr>\n      <th>0</th>\n      <td>Disposiciones</td>\n    </tr>\n    <tr>\n      <th>1</th>\n      <td>Cargos y personal</td>\n    </tr>\n    <tr>\n      <th>2</th>\n      <td>Anuncios de la Generalidad de Cataluña</td>\n    </tr>\n    <tr>\n      <th>3</th>\n      <td>Anuncios de la Administración local</td>\n    </tr>\n    <tr>\n      <th>4</th>\n      <td>Anuncios de la Administración de justicia</td>\n    </tr>\n    <tr>\n      <th>5</th>\n      <td>Anuncios varios</td>\n    </tr>\n  </tbody>\n</table>\n</div>"
     },
     "metadata": {},
     "execution_count": 126
    }
   ],
   "source": [
    "df_secciones_sumarios"
   ]
  },
  {
   "source": [
    "## Recoge Valores para formar URLs Secciones Sumario"
   ],
   "cell_type": "markdown",
   "metadata": {}
  },
  {
   "cell_type": "code",
   "execution_count": 127,
   "metadata": {},
   "outputs": [
    {
     "output_type": "stream",
     "name": "stdout",
     "text": [
      "https://dogc.gencat.cat/es/sumari-del-dogc/?numDOGC=8350#section-Disposiciones\nhttps://dogc.gencat.cat/es/sumari-del-dogc/?numDOGC=8350#section-Cargos_y_personal\nhttps://dogc.gencat.cat/es/sumari-del-dogc/?numDOGC=8350#section-Anuncios_de_la_Generalidad_de_Cataluña\nhttps://dogc.gencat.cat/es/sumari-del-dogc/?numDOGC=8350#section-Anuncios_de_la_Administración_local\nhttps://dogc.gencat.cat/es/sumari-del-dogc/?numDOGC=8350#section-Anuncios_de_la_Administración_de_justicia_\nhttps://dogc.gencat.cat/es/sumari-del-dogc/?numDOGC=8350#section-Anuncios_varios\n"
     ]
    }
   ],
   "source": [
    "URL_base_sumario = sumario_HTML.xpath('//div[@class=\"llistat_cont\"]/ul/li/a/@href')\n",
    "URL_sumario = [ ('https://dogc.gencat.cat' + item) for item in secciones_link ]\n",
    "\n",
    "df_URL_sumarios = pd.DataFrame()\n",
    "\n",
    "for URL_seccion in URL_base_sumario:    \n",
    "    URL_sumario = 'https://dogc.gencat.cat' + str(URL_seccion)\n",
    "    print(URL_sumario)\n",
    "    df_URL_sumarios = df_URL_sumarios.append({'URL_Seccion': URL_sumario}, ignore_index=True)"
   ]
  },
  {
   "cell_type": "code",
   "execution_count": 128,
   "metadata": {},
   "outputs": [
    {
     "output_type": "execute_result",
     "data": {
      "text/plain": [
       "                                         URL_Seccion\n",
       "0  https://dogc.gencat.cat/es/sumari-del-dogc/?nu...\n",
       "1  https://dogc.gencat.cat/es/sumari-del-dogc/?nu...\n",
       "2  https://dogc.gencat.cat/es/sumari-del-dogc/?nu...\n",
       "3  https://dogc.gencat.cat/es/sumari-del-dogc/?nu...\n",
       "4  https://dogc.gencat.cat/es/sumari-del-dogc/?nu...\n",
       "5  https://dogc.gencat.cat/es/sumari-del-dogc/?nu..."
      ],
      "text/html": "<div>\n<style scoped>\n    .dataframe tbody tr th:only-of-type {\n        vertical-align: middle;\n    }\n\n    .dataframe tbody tr th {\n        vertical-align: top;\n    }\n\n    .dataframe thead th {\n        text-align: right;\n    }\n</style>\n<table border=\"1\" class=\"dataframe\">\n  <thead>\n    <tr style=\"text-align: right;\">\n      <th></th>\n      <th>URL_Seccion</th>\n    </tr>\n  </thead>\n  <tbody>\n    <tr>\n      <th>0</th>\n      <td>https://dogc.gencat.cat/es/sumari-del-dogc/?nu...</td>\n    </tr>\n    <tr>\n      <th>1</th>\n      <td>https://dogc.gencat.cat/es/sumari-del-dogc/?nu...</td>\n    </tr>\n    <tr>\n      <th>2</th>\n      <td>https://dogc.gencat.cat/es/sumari-del-dogc/?nu...</td>\n    </tr>\n    <tr>\n      <th>3</th>\n      <td>https://dogc.gencat.cat/es/sumari-del-dogc/?nu...</td>\n    </tr>\n    <tr>\n      <th>4</th>\n      <td>https://dogc.gencat.cat/es/sumari-del-dogc/?nu...</td>\n    </tr>\n    <tr>\n      <th>5</th>\n      <td>https://dogc.gencat.cat/es/sumari-del-dogc/?nu...</td>\n    </tr>\n  </tbody>\n</table>\n</div>"
     },
     "metadata": {},
     "execution_count": 128
    }
   ],
   "source": [
    "df_URL_sumarios"
   ]
  },
  {
   "cell_type": "code",
   "execution_count": 129,
   "metadata": {},
   "outputs": [],
   "source": [
    " df_sumarios = pd.concat([df_secciones_sumarios, df_URL_sumarios], axis=1)"
   ]
  },
  {
   "cell_type": "code",
   "execution_count": 130,
   "metadata": {},
   "outputs": [
    {
     "output_type": "execute_result",
     "data": {
      "text/plain": [
       "                                      Seccion  \\\n",
       "0                               Disposiciones   \n",
       "1                           Cargos y personal   \n",
       "2      Anuncios de la Generalidad de Cataluña   \n",
       "3         Anuncios de la Administración local   \n",
       "4  Anuncios de la Administración de justicia    \n",
       "5                             Anuncios varios   \n",
       "\n",
       "                                         URL_Seccion  \n",
       "0  https://dogc.gencat.cat/es/sumari-del-dogc/?nu...  \n",
       "1  https://dogc.gencat.cat/es/sumari-del-dogc/?nu...  \n",
       "2  https://dogc.gencat.cat/es/sumari-del-dogc/?nu...  \n",
       "3  https://dogc.gencat.cat/es/sumari-del-dogc/?nu...  \n",
       "4  https://dogc.gencat.cat/es/sumari-del-dogc/?nu...  \n",
       "5  https://dogc.gencat.cat/es/sumari-del-dogc/?nu...  "
      ],
      "text/html": "<div>\n<style scoped>\n    .dataframe tbody tr th:only-of-type {\n        vertical-align: middle;\n    }\n\n    .dataframe tbody tr th {\n        vertical-align: top;\n    }\n\n    .dataframe thead th {\n        text-align: right;\n    }\n</style>\n<table border=\"1\" class=\"dataframe\">\n  <thead>\n    <tr style=\"text-align: right;\">\n      <th></th>\n      <th>Seccion</th>\n      <th>URL_Seccion</th>\n    </tr>\n  </thead>\n  <tbody>\n    <tr>\n      <th>0</th>\n      <td>Disposiciones</td>\n      <td>https://dogc.gencat.cat/es/sumari-del-dogc/?nu...</td>\n    </tr>\n    <tr>\n      <th>1</th>\n      <td>Cargos y personal</td>\n      <td>https://dogc.gencat.cat/es/sumari-del-dogc/?nu...</td>\n    </tr>\n    <tr>\n      <th>2</th>\n      <td>Anuncios de la Generalidad de Cataluña</td>\n      <td>https://dogc.gencat.cat/es/sumari-del-dogc/?nu...</td>\n    </tr>\n    <tr>\n      <th>3</th>\n      <td>Anuncios de la Administración local</td>\n      <td>https://dogc.gencat.cat/es/sumari-del-dogc/?nu...</td>\n    </tr>\n    <tr>\n      <th>4</th>\n      <td>Anuncios de la Administración de justicia</td>\n      <td>https://dogc.gencat.cat/es/sumari-del-dogc/?nu...</td>\n    </tr>\n    <tr>\n      <th>5</th>\n      <td>Anuncios varios</td>\n      <td>https://dogc.gencat.cat/es/sumari-del-dogc/?nu...</td>\n    </tr>\n  </tbody>\n</table>\n</div>"
     },
     "metadata": {},
     "execution_count": 130
    }
   ],
   "source": [
    "df_sumarios"
   ]
  },
  {
   "cell_type": "code",
   "execution_count": 131,
   "metadata": {},
   "outputs": [
    {
     "output_type": "execute_result",
     "data": {
      "text/plain": [
       "'https://dogc.gencat.cat/es/sumari-del-dogc/?numDOGC=8350#section-Anuncios_varios'"
      ]
     },
     "metadata": {},
     "execution_count": 131
    }
   ],
   "source": [
    "df_sumarios['URL_Seccion'][5]"
   ]
  },
  {
   "source": [
    "## Recoge Items en Seccion Disposiciones"
   ],
   "cell_type": "markdown",
   "metadata": {}
  },
  {
   "cell_type": "code",
   "execution_count": 132,
   "metadata": {},
   "outputs": [],
   "source": [
    "URL_HTML_disposiciones = df_sumarios[df_sumarios['Seccion'] == 'Disposiciones']"
   ]
  },
  {
   "cell_type": "code",
   "execution_count": 133,
   "metadata": {},
   "outputs": [
    {
     "output_type": "stream",
     "name": "stdout",
     "text": [
      "Disposiciones\n"
     ]
    }
   ],
   "source": [
    "print(URL_HTML_disposiciones['Seccion'][0])"
   ]
  },
  {
   "cell_type": "code",
   "execution_count": 134,
   "metadata": {},
   "outputs": [
    {
     "output_type": "stream",
     "name": "stdout",
     "text": [
      "https://dogc.gencat.cat/es/sumari-del-dogc/?numDOGC=8350#section-Disposiciones\n"
     ]
    }
   ],
   "source": [
    "print(URL_HTML_disposiciones['URL_Seccion'][0])"
   ]
  },
  {
   "cell_type": "code",
   "execution_count": 135,
   "metadata": {},
   "outputs": [],
   "source": [
    "URL_HTML_disposiciones = URL_HTML_disposiciones['URL_Seccion'][0]"
   ]
  },
  {
   "cell_type": "code",
   "execution_count": 136,
   "metadata": {},
   "outputs": [
    {
     "output_type": "execute_result",
     "data": {
      "text/plain": [
       "'https://dogc.gencat.cat/es/sumari-del-dogc/?numDOGC=8350#section-Disposiciones'"
      ]
     },
     "metadata": {},
     "execution_count": 136
    }
   ],
   "source": [
    "URL_HTML_disposiciones"
   ]
  },
  {
   "cell_type": "code",
   "execution_count": 137,
   "metadata": {
    "tags": []
   },
   "outputs": [
    {
     "output_type": "stream",
     "name": "stdout",
     "text": [
      "['Departamento de la Vicepresidencia y de Economía y Hacienda', 'Departamento de Territorio y Sostenibilidad', 'Departamento de Cultura', 'Departamento de Trabajo, Asuntos Sociales y Familias']\n['RESOLUCIÓN VEH/481/2021, de 8 de febrero, por la que se da publicidad al Convenio de colaboración entre la Agencia Tributaria de Cataluña y la Agencia de la Vivienda de Cataluña para la recaudación en período ejecutivo de ingresos tributarios y otros ingresos de derecho público.', 'EDICTO de 17 de febrero de 2021, sobre un acuerdo de la Comisión de Territorio de Cataluña referente a un Plan especial urbanístico del municipio de Alguaire.', \"EDICTO de 18 de febrero de 2021, sobre un acuerdo de la Comisión Territorial de Urbanismo de L'Alt Pirineu referente al municipio de Puigcerdà.\", 'EDICTO de 18 de febrero de 2021, sobre un acuerdo de la Comisión Territorial de Urbanismo de Girona referente al municipio de Campdevànol.', 'EDICTO de 18 de febrero de 2021, sobre un acuerdo de la Comisión de Territorio de Cataluña referente a un plan especial urbanístico del municipio de La Portella.', 'CORRECCIÓN DE ERRATA en el Edicto de 29 de octubre de 2020, sobre un acuerdo de la Comisión Territorial de Urbanismo del ámbito metropolitano de Barcelona referente al municipio de Sant Just Desvern (DOGC núm. 8265, de 6.11.2020).', 'RESOLUCIÓN TES/479/2021, de 22 de febrero, por la que se da publicidad a los últimos convenios de colaboración firmados por la Agencia Catalana del Agua.', \"ACUERDO GOV/19/2021, de 23 de febrero, por el que se declara Bien Cultural de Interés Nacional, en la categoría de Zona Arqueológica, la villa romana de Vilauba, en los términos municipales de Camós y Porqueres (Pla de l'Estany).\", 'RESOLUCIÓN TSF/480/2021, de 23 de febrero, por la que se abre la convocatoria para la concesión de varias becas Carné Joven del programa Conéctate correspondientes al año 2021 (ref. BDNS 549861).']\n['/es/document-del-dogc/?documentId=894230', '/es/document-del-dogc/?documentId=894173', '/es/document-del-dogc/?documentId=894147', '/es/document-del-dogc/?documentId=894163', '/es/document-del-dogc/?documentId=894183', '/es/document-del-dogc/?documentId=894161', '/es/document-del-dogc/?documentId=894200', '/es/document-del-dogc/?documentId=894202', '/es/document-del-dogc/?documentId=894186']\n['https://portaldogc.gencat.cat/utilsEADOP/AppJava/PdfProviderServlet?documentId=894230&type=01&language=es_ES', 'https://portaldogc.gencat.cat/utilsEADOP/AppJava/PdfProviderServlet?documentId=894173&type=01&language=es_ES', 'https://portaldogc.gencat.cat/utilsEADOP/AppJava/PdfProviderServlet?documentId=894147&type=01&language=es_ES', 'https://portaldogc.gencat.cat/utilsEADOP/AppJava/PdfProviderServlet?documentId=894163&type=01&language=es_ES', 'https://portaldogc.gencat.cat/utilsEADOP/AppJava/PdfProviderServlet?documentId=894183&type=01&language=es_ES', 'https://portaldogc.gencat.cat/utilsEADOP/AppJava/PdfProviderServlet?documentId=894161&type=01&language=es_ES', 'https://portaldogc.gencat.cat/utilsEADOP/AppJava/PdfProviderServlet?documentId=894200&type=01&language=es_ES', 'https://portaldogc.gencat.cat/utilsEADOP/AppJava/PdfProviderServlet?documentId=894202&type=01&language=es_ES', 'https://portaldogc.gencat.cat/utilsEADOP/AppJava/PdfProviderServlet?documentId=894186&type=01&language=es_ES']\n"
     ]
    }
   ],
   "source": [
    "options = webdriver.ChromeOptions()\n",
    "options.headless = True\n",
    "driver = webdriver.Chrome(options=options)\n",
    "\n",
    "driver.get(URL_HTML_disposiciones)\n",
    "#print(driver.page_source)\n",
    "response = driver.page_source\n",
    "### Recoge Items en Seccion Disposiciones\n",
    "disposiciones_HTML = html.fromstring(response)\n",
    "\n",
    "#print(html.tostring(disposiciones_HTML))\n",
    "#print('____________________')\n",
    "\n",
    "departamentos = disposiciones_HTML.xpath('/descendant::*[@class=\"wrapper-disposicions\"][1]/h3/text()') # Sólo Sección disposiciones\n",
    "disposiciones = disposiciones_HTML.xpath('/descendant::*[@class=\"wrapper-disposicions\"][1]/ul/descendant::li/div/a/text()')\n",
    "disposiciones_link = disposiciones_HTML.xpath('/descendant::*[@class=\"wrapper-disposicions\"][1]/ul/descendant::li/div/a/@href')\n",
    "disposiciones_pdf = disposiciones_HTML.xpath('/descendant::*[@class=\"wrapper-disposicions\"][1]/ul/descendant::li/div/div/a/@href')\n",
    "\n",
    "# for i in range(len(departamentos)):\n",
    "#     print(departamentos[i])\n",
    "#     i += 1\n",
    "#     #print(disposiciones_HTML.xpath('//*[@class=\"wrapper-disposicions\"]/ul[' + str(i) + ']//li/div/a/text()'))\n",
    "#     print(disposiciones_HTML.xpath('//*[@class=\"wrapper-disposicions\"]/ul[1]//li/div/a/text()'))\n",
    "\n",
    "print(departamentos)\n",
    "print(disposiciones)\n",
    "print(disposiciones_link)\n",
    "print(disposiciones_pdf)\n",
    "\n",
    "driver.quit()\n"
   ]
  },
  {
   "cell_type": "code",
   "execution_count": 138,
   "metadata": {},
   "outputs": [
    {
     "output_type": "execute_result",
     "data": {
      "text/plain": [
       "4"
      ]
     },
     "metadata": {},
     "execution_count": 138
    }
   ],
   "source": [
    "len(departamentos)"
   ]
  },
  {
   "cell_type": "code",
   "execution_count": 139,
   "metadata": {},
   "outputs": [],
   "source": [
    "DOGC_sumarios = pd.DataFrame(columns=['item_Title','item_urlHTML','item_urlPDF'])"
   ]
  },
  {
   "cell_type": "code",
   "execution_count": 140,
   "metadata": {},
   "outputs": [
    {
     "output_type": "execute_result",
     "data": {
      "text/plain": [
       "Empty DataFrame\n",
       "Columns: [item_Title, item_urlHTML, item_urlPDF]\n",
       "Index: []"
      ],
      "text/html": "<div>\n<style scoped>\n    .dataframe tbody tr th:only-of-type {\n        vertical-align: middle;\n    }\n\n    .dataframe tbody tr th {\n        vertical-align: top;\n    }\n\n    .dataframe thead th {\n        text-align: right;\n    }\n</style>\n<table border=\"1\" class=\"dataframe\">\n  <thead>\n    <tr style=\"text-align: right;\">\n      <th></th>\n      <th>item_Title</th>\n      <th>item_urlHTML</th>\n      <th>item_urlPDF</th>\n    </tr>\n  </thead>\n  <tbody>\n  </tbody>\n</table>\n</div>"
     },
     "metadata": {},
     "execution_count": 140
    }
   ],
   "source": [
    "DOGC_sumarios"
   ]
  },
  {
   "cell_type": "code",
   "execution_count": 141,
   "metadata": {},
   "outputs": [],
   "source": [
    "lista = []\n",
    "for disposicion in disposiciones:\n",
    "    lista.append(disposicion)\n",
    "\n",
    "DOGC_sumarios['item_Title'] = lista\n",
    "\n",
    "lista = []   \n",
    "for link_HTML in disposiciones_link:\n",
    "    #print(link)\n",
    "    lista.append('https://dogc.gencat.cat' + str(link_HTML))\n",
    "\n",
    "DOGC_sumarios['item_urlHTML'] = lista\n",
    "\n",
    "lista = []   \n",
    "for link_PDF in disposiciones_pdf:\n",
    "    #print(link)\n",
    "    lista.append(link_PDF)\n",
    "\n",
    "DOGC_sumarios['item_urlPDF'] = lista"
   ]
  },
  {
   "cell_type": "code",
   "execution_count": 142,
   "metadata": {},
   "outputs": [
    {
     "output_type": "execute_result",
     "data": {
      "text/plain": [
       "                                          item_Title  \\\n",
       "0  RESOLUCIÓN VEH/481/2021, de 8 de febrero, por ...   \n",
       "1  EDICTO de 17 de febrero de 2021, sobre un acue...   \n",
       "2  EDICTO de 18 de febrero de 2021, sobre un acue...   \n",
       "3  EDICTO de 18 de febrero de 2021, sobre un acue...   \n",
       "4  EDICTO de 18 de febrero de 2021, sobre un acue...   \n",
       "5  CORRECCIÓN DE ERRATA en el Edicto de 29 de oct...   \n",
       "6  RESOLUCIÓN TES/479/2021, de 22 de febrero, por...   \n",
       "7  ACUERDO GOV/19/2021, de 23 de febrero, por el ...   \n",
       "8  RESOLUCIÓN TSF/480/2021, de 23 de febrero, por...   \n",
       "\n",
       "                                        item_urlHTML  \\\n",
       "0  https://dogc.gencat.cat/es/document-del-dogc/?...   \n",
       "1  https://dogc.gencat.cat/es/document-del-dogc/?...   \n",
       "2  https://dogc.gencat.cat/es/document-del-dogc/?...   \n",
       "3  https://dogc.gencat.cat/es/document-del-dogc/?...   \n",
       "4  https://dogc.gencat.cat/es/document-del-dogc/?...   \n",
       "5  https://dogc.gencat.cat/es/document-del-dogc/?...   \n",
       "6  https://dogc.gencat.cat/es/document-del-dogc/?...   \n",
       "7  https://dogc.gencat.cat/es/document-del-dogc/?...   \n",
       "8  https://dogc.gencat.cat/es/document-del-dogc/?...   \n",
       "\n",
       "                                         item_urlPDF  \n",
       "0  https://portaldogc.gencat.cat/utilsEADOP/AppJa...  \n",
       "1  https://portaldogc.gencat.cat/utilsEADOP/AppJa...  \n",
       "2  https://portaldogc.gencat.cat/utilsEADOP/AppJa...  \n",
       "3  https://portaldogc.gencat.cat/utilsEADOP/AppJa...  \n",
       "4  https://portaldogc.gencat.cat/utilsEADOP/AppJa...  \n",
       "5  https://portaldogc.gencat.cat/utilsEADOP/AppJa...  \n",
       "6  https://portaldogc.gencat.cat/utilsEADOP/AppJa...  \n",
       "7  https://portaldogc.gencat.cat/utilsEADOP/AppJa...  \n",
       "8  https://portaldogc.gencat.cat/utilsEADOP/AppJa...  "
      ],
      "text/html": "<div>\n<style scoped>\n    .dataframe tbody tr th:only-of-type {\n        vertical-align: middle;\n    }\n\n    .dataframe tbody tr th {\n        vertical-align: top;\n    }\n\n    .dataframe thead th {\n        text-align: right;\n    }\n</style>\n<table border=\"1\" class=\"dataframe\">\n  <thead>\n    <tr style=\"text-align: right;\">\n      <th></th>\n      <th>item_Title</th>\n      <th>item_urlHTML</th>\n      <th>item_urlPDF</th>\n    </tr>\n  </thead>\n  <tbody>\n    <tr>\n      <th>0</th>\n      <td>RESOLUCIÓN VEH/481/2021, de 8 de febrero, por ...</td>\n      <td>https://dogc.gencat.cat/es/document-del-dogc/?...</td>\n      <td>https://portaldogc.gencat.cat/utilsEADOP/AppJa...</td>\n    </tr>\n    <tr>\n      <th>1</th>\n      <td>EDICTO de 17 de febrero de 2021, sobre un acue...</td>\n      <td>https://dogc.gencat.cat/es/document-del-dogc/?...</td>\n      <td>https://portaldogc.gencat.cat/utilsEADOP/AppJa...</td>\n    </tr>\n    <tr>\n      <th>2</th>\n      <td>EDICTO de 18 de febrero de 2021, sobre un acue...</td>\n      <td>https://dogc.gencat.cat/es/document-del-dogc/?...</td>\n      <td>https://portaldogc.gencat.cat/utilsEADOP/AppJa...</td>\n    </tr>\n    <tr>\n      <th>3</th>\n      <td>EDICTO de 18 de febrero de 2021, sobre un acue...</td>\n      <td>https://dogc.gencat.cat/es/document-del-dogc/?...</td>\n      <td>https://portaldogc.gencat.cat/utilsEADOP/AppJa...</td>\n    </tr>\n    <tr>\n      <th>4</th>\n      <td>EDICTO de 18 de febrero de 2021, sobre un acue...</td>\n      <td>https://dogc.gencat.cat/es/document-del-dogc/?...</td>\n      <td>https://portaldogc.gencat.cat/utilsEADOP/AppJa...</td>\n    </tr>\n    <tr>\n      <th>5</th>\n      <td>CORRECCIÓN DE ERRATA en el Edicto de 29 de oct...</td>\n      <td>https://dogc.gencat.cat/es/document-del-dogc/?...</td>\n      <td>https://portaldogc.gencat.cat/utilsEADOP/AppJa...</td>\n    </tr>\n    <tr>\n      <th>6</th>\n      <td>RESOLUCIÓN TES/479/2021, de 22 de febrero, por...</td>\n      <td>https://dogc.gencat.cat/es/document-del-dogc/?...</td>\n      <td>https://portaldogc.gencat.cat/utilsEADOP/AppJa...</td>\n    </tr>\n    <tr>\n      <th>7</th>\n      <td>ACUERDO GOV/19/2021, de 23 de febrero, por el ...</td>\n      <td>https://dogc.gencat.cat/es/document-del-dogc/?...</td>\n      <td>https://portaldogc.gencat.cat/utilsEADOP/AppJa...</td>\n    </tr>\n    <tr>\n      <th>8</th>\n      <td>RESOLUCIÓN TSF/480/2021, de 23 de febrero, por...</td>\n      <td>https://dogc.gencat.cat/es/document-del-dogc/?...</td>\n      <td>https://portaldogc.gencat.cat/utilsEADOP/AppJa...</td>\n    </tr>\n  </tbody>\n</table>\n</div>"
     },
     "metadata": {},
     "execution_count": 142
    }
   ],
   "source": [
    "DOGC_sumarios"
   ]
  },
  {
   "cell_type": "code",
   "execution_count": 143,
   "metadata": {},
   "outputs": [
    {
     "output_type": "execute_result",
     "data": {
      "text/plain": [
       "'https://dogc.gencat.cat/es/document-del-dogc/?documentId=894173'"
      ]
     },
     "metadata": {},
     "execution_count": 143
    }
   ],
   "source": [
    "DOGC_sumarios['item_urlHTML'][1]"
   ]
  },
  {
   "cell_type": "code",
   "execution_count": 191,
   "metadata": {},
   "outputs": [],
   "source": [
    "### Recoge información de página de detalle con Selenium\n",
    "### es necesario ya que la página se genera con un JS y\n",
    "### hay que renderizarla con un headless web browser\n",
    "\n",
    "options = webdriver.ChromeOptions()\n",
    "options.headless = True\n",
    "driver = webdriver.Chrome(options=options)\n",
    "\n",
    "DOGC_sumarios['item_fullText'] = ''\n",
    "DOGC_sumarios['item_urlXML'] = ''\n",
    "DOGC_sumarios['tipo_doc'] = ''\n",
    "DOGC_sumarios['fecha_doc'] = ''\n",
    "DOGC_sumarios['numero_doc'] = ''\n",
    "DOGC_sumarios['numero_control'] = ''\n",
    "DOGC_sumarios['entidad_emisora'] = ''\n",
    "DOGC_sumarios['CVE'] = ''\n",
    "DOGC_sumarios['numero_DOGC'] = ''\n",
    "DOGC_sumarios['fecha_DOGC'] = ''\n",
    "DOGC_sumarios['seccion_DOGC'] = ''\n",
    "\n",
    "for i, row in DOGC_sumarios.iterrows():\n",
    "    # carga página HTML y genera árbol\n",
    "    driver.get(row['item_urlHTML'])\n",
    "    #print(driver.page_source)\n",
    "\n",
    "    # clica sobre desplegable 'datos del documento' para generar contenido\n",
    "    driver.find_element_by_xpath('//div[@class=\"panel-title\"]/a[@href=\"#disposicions\"]').click()\n",
    "    time.sleep(3)\n",
    "\n",
    "    response = driver.page_source\n",
    "    sumario_HTML = html.fromstring(response)\n",
    "\n",
    "    # Genera columnas de la tabla con Datos de los documentos\n",
    "    item_urlXML = sumario_HTML.xpath('//*[@id=\"download\"]/a[4]/@href')\n",
    "\n",
    "    tipo_doc = sumario_HTML.xpath('//*[@id=\"disposicions_cos_bloc\"]/li[contains(text()[1],\"Tipo de documento\")]/text()[2]')\n",
    "    fecha_doc = sumario_HTML.xpath('//*[@id=\"disposicions_cos_bloc\"]/li[contains(text()[1],\"Fecha del documento\")]/text()[2]')\n",
    "    numero_doc = sumario_HTML.xpath('//*[@id=\"disposicions_cos_bloc\"]/li[contains(text()[1],\"Número de documento\")]/text()[2]')\n",
    "    numero_control = sumario_HTML.xpath('//*[@id=\"disposicions_cos_bloc\"]/li[contains(text()[1],\"Número de control\")]/text()[2]')\n",
    "    entidad_emisora = sumario_HTML.xpath('//*[@id=\"disposicions_cos_bloc\"]/li[contains(text()[1],\"Entidad emisora\")]/text()[2]')\n",
    "    CVE = sumario_HTML.xpath('//*[@id=\"disposicions_cos_bloc\"]/li[contains(text()[1],\"CVE\")]/text()[2]')\n",
    "    numero_DOGC = sumario_HTML.xpath('//*[@id=\"disposicions_cos_bloc\"]/li[contains(text()[1],\"Número del DOGC\")]/text()[2]')\n",
    "    fecha_DOGC = sumario_HTML.xpath('//*[@id=\"disposicions_cos_bloc\"]/li[contains(text()[1],\"Fecha del DOGC\")]/text()[2]')\n",
    "    seccion_DOGC = sumario_HTML.xpath('//*[@id=\"disposicions_cos_bloc\"]/li[contains(text()[1],\"Sección del DOGC\")]/text()[2]')\n",
    "\n",
    "    DOGC_sumarios['item_urlXML'][i] = item_urlXML\n",
    "\n",
    "    DOGC_sumarios['tipo_doc'][i] = tipo_doc\n",
    "    DOGC_sumarios['fecha_doc'][i] = fecha_doc\n",
    "    DOGC_sumarios['numero_doc'][i] = numero_doc\n",
    "    DOGC_sumarios['numero_control'][i] = numero_control\n",
    "    DOGC_sumarios['entidad_emisora'][i] = entidad_emisora\n",
    "    DOGC_sumarios['CVE'][i] = CVE\n",
    "    DOGC_sumarios['numero_DOGC'][i] = numero_DOGC\n",
    "    DOGC_sumarios['fecha_DOGC'][i] = fecha_DOGC\n",
    "    DOGC_sumarios['seccion_DOGC'][i] = seccion_DOGC\n",
    "\n",
    "    # Recoge en una lista todos los parágrafos del texto completo\n",
    "    fullText = []\n",
    "    for div in sumario_HTML.xpath('//*[@id=\"fullText\"]/div/div/div'):\n",
    "        fullText.append(div.text_content())\n",
    "\n",
    "    # Convierte la lista en una string\n",
    "    fullText = ' '.join(fullText)\n",
    "\n",
    "    DOGC_sumarios['item_fullText'][i] = fullText\n",
    "\n",
    "\n",
    "driver.quit()"
   ]
  },
  {
   "cell_type": "code",
   "execution_count": 192,
   "metadata": {},
   "outputs": [
    {
     "output_type": "execute_result",
     "data": {
      "text/plain": [
       "                                          item_Title  \\\n",
       "0  RESOLUCIÓN VEH/481/2021, de 8 de febrero, por ...   \n",
       "1  EDICTO de 17 de febrero de 2021, sobre un acue...   \n",
       "2  EDICTO de 18 de febrero de 2021, sobre un acue...   \n",
       "3  EDICTO de 18 de febrero de 2021, sobre un acue...   \n",
       "4  EDICTO de 18 de febrero de 2021, sobre un acue...   \n",
       "5  CORRECCIÓN DE ERRATA en el Edicto de 29 de oct...   \n",
       "6  RESOLUCIÓN TES/479/2021, de 22 de febrero, por...   \n",
       "7  ACUERDO GOV/19/2021, de 23 de febrero, por el ...   \n",
       "8  RESOLUCIÓN TSF/480/2021, de 23 de febrero, por...   \n",
       "\n",
       "                                        item_urlHTML  \\\n",
       "0  https://dogc.gencat.cat/es/document-del-dogc/?...   \n",
       "1  https://dogc.gencat.cat/es/document-del-dogc/?...   \n",
       "2  https://dogc.gencat.cat/es/document-del-dogc/?...   \n",
       "3  https://dogc.gencat.cat/es/document-del-dogc/?...   \n",
       "4  https://dogc.gencat.cat/es/document-del-dogc/?...   \n",
       "5  https://dogc.gencat.cat/es/document-del-dogc/?...   \n",
       "6  https://dogc.gencat.cat/es/document-del-dogc/?...   \n",
       "7  https://dogc.gencat.cat/es/document-del-dogc/?...   \n",
       "8  https://dogc.gencat.cat/es/document-del-dogc/?...   \n",
       "\n",
       "                                         item_urlPDF                 tipo_doc  \\\n",
       "0  https://portaldogc.gencat.cat/utilsEADOP/AppJa...             [Resolución]   \n",
       "1  https://portaldogc.gencat.cat/utilsEADOP/AppJa...                [Edicto ]   \n",
       "2  https://portaldogc.gencat.cat/utilsEADOP/AppJa...                [Edicto ]   \n",
       "3  https://portaldogc.gencat.cat/utilsEADOP/AppJa...                [Edicto ]   \n",
       "4  https://portaldogc.gencat.cat/utilsEADOP/AppJa...                [Edicto ]   \n",
       "5  https://portaldogc.gencat.cat/utilsEADOP/AppJa...  [Corrección de erratas]   \n",
       "6  https://portaldogc.gencat.cat/utilsEADOP/AppJa...             [Resolución]   \n",
       "7  https://portaldogc.gencat.cat/utilsEADOP/AppJa...  [Acuerdo del gobierno ]   \n",
       "8  https://portaldogc.gencat.cat/utilsEADOP/AppJa...             [Resolución]   \n",
       "\n",
       "      fecha_doc       numero_doc num_control  \\\n",
       "0  [08/02/2021]  [VEH/0481/2021]               \n",
       "1  [17/02/2021]               []               \n",
       "2  [18/02/2021]               []               \n",
       "3  [18/02/2021]               []               \n",
       "4  [18/02/2021]               []               \n",
       "5  [18/02/2021]               []               \n",
       "6  [22/02/2021]  [TES/0479/2021]               \n",
       "7  [23/02/2021]  [GOV/0019/2021]               \n",
       "8  [23/02/2021]  [TSF/0480/2021]               \n",
       "\n",
       "                                 entidad_emisora                         CVE  \\\n",
       "0               [Agencia Tributaria de Cataluña]  [CVE-DOGC-B-21054033-2021]   \n",
       "1  [Departamento de Territorio y Sostenibilidad]  [CVE-DOGC-B-21049037-2021]   \n",
       "2  [Departamento de Territorio y Sostenibilidad]  [CVE-DOGC-B-21049024-2021]   \n",
       "3  [Departamento de Territorio y Sostenibilidad]  [CVE-DOGC-B-21049071-2021]   \n",
       "4  [Departamento de Territorio y Sostenibilidad]  [CVE-DOGC-B-21049046-2021]   \n",
       "5  [Departamento de Territorio y Sostenibilidad]  [CVE-DOGC-B-21049076-2021]   \n",
       "6                    [Agencia Catalana del Agua]  [CVE-DOGC-B-21054035-2021]   \n",
       "7                      [Departamento de Cultura]  [CVE-DOGC-B-21055025-2021]   \n",
       "8              [Agencia Catalana de la Juventud]  [CVE-DOGC-B-21054067-2021]   \n",
       "\n",
       "  numero_DOGC    fecha_DOGC     seccion_DOGC numero_control  \\\n",
       "0      [8350]  [25/02/2021]  [Disposiciones]     [21054033]   \n",
       "1      [8350]  [25/02/2021]  [Disposiciones]     [21049037]   \n",
       "2      [8350]  [25/02/2021]  [Disposiciones]     [21049024]   \n",
       "3      [8350]  [25/02/2021]  [Disposiciones]     [21049071]   \n",
       "4      [8350]  [25/02/2021]  [Disposiciones]     [21049046]   \n",
       "5      [8350]  [25/02/2021]  [Disposiciones]     [21049076]   \n",
       "6      [8350]  [25/02/2021]  [Disposiciones]     [21054035]   \n",
       "7      [8350]  [25/02/2021]  [Disposiciones]     [21055025]   \n",
       "8      [8350]  [25/02/2021]  [Disposiciones]     [21054067]   \n",
       "\n",
       "                                         item_urlXML  \\\n",
       "0  [https://portaldogc.gencat.cat/utilsEADOP/AppJ...   \n",
       "1  [https://portaldogc.gencat.cat/utilsEADOP/AppJ...   \n",
       "2  [https://portaldogc.gencat.cat/utilsEADOP/AppJ...   \n",
       "3  [https://portaldogc.gencat.cat/utilsEADOP/AppJ...   \n",
       "4  [https://portaldogc.gencat.cat/utilsEADOP/AppJ...   \n",
       "5  [https://portaldogc.gencat.cat/utilsEADOP/AppJ...   \n",
       "6  [https://portaldogc.gencat.cat/utilsEADOP/AppJ...   \n",
       "7  [https://portaldogc.gencat.cat/utilsEADOP/AppJ...   \n",
       "8  [https://portaldogc.gencat.cat/utilsEADOP/AppJ...   \n",
       "\n",
       "                                          item_title  \\\n",
       "0  [RESOLUCIÓN VEH/481/2021, de 8 de febrero, por...   \n",
       "1  [EDICTO de 17 de febrero de 2021, sobre un acu...   \n",
       "2  [EDICTO de 18 de febrero de 2021, sobre un acu...   \n",
       "3  [EDICTO de 18 de febrero de 2021, sobre un acu...   \n",
       "4  [EDICTO de 18 de febrero de 2021, sobre un acu...   \n",
       "5  [CORRECCIÓN DE ERRATA en el Edicto de 29 de oc...   \n",
       "6  [RESOLUCIÓN TES/479/2021, de 22 de febrero, po...   \n",
       "7  [ACUERDO GOV/19/2021, de 23 de febrero, por el...   \n",
       "8  [RESOLUCIÓN TSF/480/2021, de 23 de febrero, po...   \n",
       "\n",
       "                                       item_fullText  \n",
       "0  En fecha 17 de diciembre de 2020 se ha firmado...  \n",
       "1  La Comisión de Territorio de Cataluña, en la s...  \n",
       "2  La Comisión Territorial de Urbanismo del Alto ...  \n",
       "3  La Comisión Territorial de Urbanismo de Girona...  \n",
       "4  La Comisión de Territorio de Cataluña, en la s...  \n",
       "5  Exp. 2020/072181/M\\nPlan especial urbanístico ...  \n",
       "6   \\nEn cumplimiento de lo establecido en el art...  \n",
       "7  Por la Resolución CLT/677/2020, de 4 de marzo ...  \n",
       "8  La Ley 6/2006, de 26 de mayo, de creación de l...  "
      ],
      "text/html": "<div>\n<style scoped>\n    .dataframe tbody tr th:only-of-type {\n        vertical-align: middle;\n    }\n\n    .dataframe tbody tr th {\n        vertical-align: top;\n    }\n\n    .dataframe thead th {\n        text-align: right;\n    }\n</style>\n<table border=\"1\" class=\"dataframe\">\n  <thead>\n    <tr style=\"text-align: right;\">\n      <th></th>\n      <th>item_Title</th>\n      <th>item_urlHTML</th>\n      <th>item_urlPDF</th>\n      <th>tipo_doc</th>\n      <th>fecha_doc</th>\n      <th>numero_doc</th>\n      <th>num_control</th>\n      <th>entidad_emisora</th>\n      <th>CVE</th>\n      <th>numero_DOGC</th>\n      <th>fecha_DOGC</th>\n      <th>seccion_DOGC</th>\n      <th>numero_control</th>\n      <th>item_urlXML</th>\n      <th>item_title</th>\n      <th>item_fullText</th>\n    </tr>\n  </thead>\n  <tbody>\n    <tr>\n      <th>0</th>\n      <td>RESOLUCIÓN VEH/481/2021, de 8 de febrero, por ...</td>\n      <td>https://dogc.gencat.cat/es/document-del-dogc/?...</td>\n      <td>https://portaldogc.gencat.cat/utilsEADOP/AppJa...</td>\n      <td>[Resolución]</td>\n      <td>[08/02/2021]</td>\n      <td>[VEH/0481/2021]</td>\n      <td></td>\n      <td>[Agencia Tributaria de Cataluña]</td>\n      <td>[CVE-DOGC-B-21054033-2021]</td>\n      <td>[8350]</td>\n      <td>[25/02/2021]</td>\n      <td>[Disposiciones]</td>\n      <td>[21054033]</td>\n      <td>[https://portaldogc.gencat.cat/utilsEADOP/AppJ...</td>\n      <td>[RESOLUCIÓN VEH/481/2021, de 8 de febrero, por...</td>\n      <td>En fecha 17 de diciembre de 2020 se ha firmado...</td>\n    </tr>\n    <tr>\n      <th>1</th>\n      <td>EDICTO de 17 de febrero de 2021, sobre un acue...</td>\n      <td>https://dogc.gencat.cat/es/document-del-dogc/?...</td>\n      <td>https://portaldogc.gencat.cat/utilsEADOP/AppJa...</td>\n      <td>[Edicto ]</td>\n      <td>[17/02/2021]</td>\n      <td>[]</td>\n      <td></td>\n      <td>[Departamento de Territorio y Sostenibilidad]</td>\n      <td>[CVE-DOGC-B-21049037-2021]</td>\n      <td>[8350]</td>\n      <td>[25/02/2021]</td>\n      <td>[Disposiciones]</td>\n      <td>[21049037]</td>\n      <td>[https://portaldogc.gencat.cat/utilsEADOP/AppJ...</td>\n      <td>[EDICTO de 17 de febrero de 2021, sobre un acu...</td>\n      <td>La Comisión de Territorio de Cataluña, en la s...</td>\n    </tr>\n    <tr>\n      <th>2</th>\n      <td>EDICTO de 18 de febrero de 2021, sobre un acue...</td>\n      <td>https://dogc.gencat.cat/es/document-del-dogc/?...</td>\n      <td>https://portaldogc.gencat.cat/utilsEADOP/AppJa...</td>\n      <td>[Edicto ]</td>\n      <td>[18/02/2021]</td>\n      <td>[]</td>\n      <td></td>\n      <td>[Departamento de Territorio y Sostenibilidad]</td>\n      <td>[CVE-DOGC-B-21049024-2021]</td>\n      <td>[8350]</td>\n      <td>[25/02/2021]</td>\n      <td>[Disposiciones]</td>\n      <td>[21049024]</td>\n      <td>[https://portaldogc.gencat.cat/utilsEADOP/AppJ...</td>\n      <td>[EDICTO de 18 de febrero de 2021, sobre un acu...</td>\n      <td>La Comisión Territorial de Urbanismo del Alto ...</td>\n    </tr>\n    <tr>\n      <th>3</th>\n      <td>EDICTO de 18 de febrero de 2021, sobre un acue...</td>\n      <td>https://dogc.gencat.cat/es/document-del-dogc/?...</td>\n      <td>https://portaldogc.gencat.cat/utilsEADOP/AppJa...</td>\n      <td>[Edicto ]</td>\n      <td>[18/02/2021]</td>\n      <td>[]</td>\n      <td></td>\n      <td>[Departamento de Territorio y Sostenibilidad]</td>\n      <td>[CVE-DOGC-B-21049071-2021]</td>\n      <td>[8350]</td>\n      <td>[25/02/2021]</td>\n      <td>[Disposiciones]</td>\n      <td>[21049071]</td>\n      <td>[https://portaldogc.gencat.cat/utilsEADOP/AppJ...</td>\n      <td>[EDICTO de 18 de febrero de 2021, sobre un acu...</td>\n      <td>La Comisión Territorial de Urbanismo de Girona...</td>\n    </tr>\n    <tr>\n      <th>4</th>\n      <td>EDICTO de 18 de febrero de 2021, sobre un acue...</td>\n      <td>https://dogc.gencat.cat/es/document-del-dogc/?...</td>\n      <td>https://portaldogc.gencat.cat/utilsEADOP/AppJa...</td>\n      <td>[Edicto ]</td>\n      <td>[18/02/2021]</td>\n      <td>[]</td>\n      <td></td>\n      <td>[Departamento de Territorio y Sostenibilidad]</td>\n      <td>[CVE-DOGC-B-21049046-2021]</td>\n      <td>[8350]</td>\n      <td>[25/02/2021]</td>\n      <td>[Disposiciones]</td>\n      <td>[21049046]</td>\n      <td>[https://portaldogc.gencat.cat/utilsEADOP/AppJ...</td>\n      <td>[EDICTO de 18 de febrero de 2021, sobre un acu...</td>\n      <td>La Comisión de Territorio de Cataluña, en la s...</td>\n    </tr>\n    <tr>\n      <th>5</th>\n      <td>CORRECCIÓN DE ERRATA en el Edicto de 29 de oct...</td>\n      <td>https://dogc.gencat.cat/es/document-del-dogc/?...</td>\n      <td>https://portaldogc.gencat.cat/utilsEADOP/AppJa...</td>\n      <td>[Corrección de erratas]</td>\n      <td>[18/02/2021]</td>\n      <td>[]</td>\n      <td></td>\n      <td>[Departamento de Territorio y Sostenibilidad]</td>\n      <td>[CVE-DOGC-B-21049076-2021]</td>\n      <td>[8350]</td>\n      <td>[25/02/2021]</td>\n      <td>[Disposiciones]</td>\n      <td>[21049076]</td>\n      <td>[https://portaldogc.gencat.cat/utilsEADOP/AppJ...</td>\n      <td>[CORRECCIÓN DE ERRATA en el Edicto de 29 de oc...</td>\n      <td>Exp. 2020/072181/M\\nPlan especial urbanístico ...</td>\n    </tr>\n    <tr>\n      <th>6</th>\n      <td>RESOLUCIÓN TES/479/2021, de 22 de febrero, por...</td>\n      <td>https://dogc.gencat.cat/es/document-del-dogc/?...</td>\n      <td>https://portaldogc.gencat.cat/utilsEADOP/AppJa...</td>\n      <td>[Resolución]</td>\n      <td>[22/02/2021]</td>\n      <td>[TES/0479/2021]</td>\n      <td></td>\n      <td>[Agencia Catalana del Agua]</td>\n      <td>[CVE-DOGC-B-21054035-2021]</td>\n      <td>[8350]</td>\n      <td>[25/02/2021]</td>\n      <td>[Disposiciones]</td>\n      <td>[21054035]</td>\n      <td>[https://portaldogc.gencat.cat/utilsEADOP/AppJ...</td>\n      <td>[RESOLUCIÓN TES/479/2021, de 22 de febrero, po...</td>\n      <td>\\nEn cumplimiento de lo establecido en el art...</td>\n    </tr>\n    <tr>\n      <th>7</th>\n      <td>ACUERDO GOV/19/2021, de 23 de febrero, por el ...</td>\n      <td>https://dogc.gencat.cat/es/document-del-dogc/?...</td>\n      <td>https://portaldogc.gencat.cat/utilsEADOP/AppJa...</td>\n      <td>[Acuerdo del gobierno ]</td>\n      <td>[23/02/2021]</td>\n      <td>[GOV/0019/2021]</td>\n      <td></td>\n      <td>[Departamento de Cultura]</td>\n      <td>[CVE-DOGC-B-21055025-2021]</td>\n      <td>[8350]</td>\n      <td>[25/02/2021]</td>\n      <td>[Disposiciones]</td>\n      <td>[21055025]</td>\n      <td>[https://portaldogc.gencat.cat/utilsEADOP/AppJ...</td>\n      <td>[ACUERDO GOV/19/2021, de 23 de febrero, por el...</td>\n      <td>Por la Resolución CLT/677/2020, de 4 de marzo ...</td>\n    </tr>\n    <tr>\n      <th>8</th>\n      <td>RESOLUCIÓN TSF/480/2021, de 23 de febrero, por...</td>\n      <td>https://dogc.gencat.cat/es/document-del-dogc/?...</td>\n      <td>https://portaldogc.gencat.cat/utilsEADOP/AppJa...</td>\n      <td>[Resolución]</td>\n      <td>[23/02/2021]</td>\n      <td>[TSF/0480/2021]</td>\n      <td></td>\n      <td>[Agencia Catalana de la Juventud]</td>\n      <td>[CVE-DOGC-B-21054067-2021]</td>\n      <td>[8350]</td>\n      <td>[25/02/2021]</td>\n      <td>[Disposiciones]</td>\n      <td>[21054067]</td>\n      <td>[https://portaldogc.gencat.cat/utilsEADOP/AppJ...</td>\n      <td>[RESOLUCIÓN TSF/480/2021, de 23 de febrero, po...</td>\n      <td>La Ley 6/2006, de 26 de mayo, de creación de l...</td>\n    </tr>\n  </tbody>\n</table>\n</div>"
     },
     "metadata": {},
     "execution_count": 192
    }
   ],
   "source": [
    "DOGC_sumarios"
   ]
  },
  {
   "cell_type": "code",
   "execution_count": 197,
   "metadata": {},
   "outputs": [
    {
     "output_type": "execute_result",
     "data": {
      "text/plain": [
       "'En fecha 17 de diciembre de 2020 se ha firmado el Convenio de colaboración entre la Agencia Tributaria de Cataluña y la Agencia de la Vivienda de Cataluña para la recaudación en período ejecutivo de ingresos tributarios y otros ingresos de derecho público.\\nVistos el artículo 112.2 de la Ley 26/2010, de 3 de agosto, de régimen jurídico y de procedimiento de las administraciones públicas de Cataluña, y el artículo 11 de la Ley 40/2015, de 1 de octubre, de Régimen Jurídico del Sector Público,\\n\\xa0\\nResuelvo:\\n\\xa0\\nHacer público el Convenio de colaboración entre la Agencia Tributaria de Cataluña y la Agencia de la Vivienda de Cataluña para la recaudación en período ejecutivo de ingresos tributarios y otros ingresos de derecho público.\\n \\xa0\\nBarcelona, 8 de febrero de 2021\\n\\xa0\\nEduard Vilà Marhuenda\\nDirector de la Agencia Tributaria de Cataluña\\n\\xa0\\n\\xa0\\nCONVENIO\\nConvenio de colaboración entre la Agencia Tributaria de Cataluña y la Agencia de la Vivienda de Cataluña para la recaudación en período ejecutivo de ingresos tributarios y otros ingresos de derecho público\\n\\xa0\\nReunidos\\n\\xa0\\nPor una parte, la señora Marta Espasa Queralt, presidenta de la Agencia Tributaria de Cataluña, en adelante ATC, de acuerdo con lo dispuesto en el artículo 212-2 del Código tributario de Cataluña, aprobado por la Ley 17/2017, de 1 de agosto.\\n\\xa0\\nY de la otra, el señor Jaume Fornt i Paradell, director de la Agencia de la Vivienda de Cataluña, que actúa en nombre de esta entidad, designada por el Acuerdo GOV/93/2020, de 14 de julio, publicado en el DOGC núm. 8178, de 16 de julio de 2020, de conformidad con las funciones atribuidas en el artículo 7.3.e) de la Ley 13/2009, de 22 de julio, de la Agencia de la Vivienda de Cataluña.\\n\\xa0\\nAmbas partes se reconocen mutuamente la capacidad legal necesaria para otorgar este documento y, en consecuencia,\\n \\xa0\\nManifiestan\\n\\xa0\\nI. Que la Agencia Tributaria de Cataluña es un ente con personalidad jurídica propia, plena capacidad y atribuciones para organizar y ejercer las funciones que tiene atribuidas por el artículo 211.2 del Código tributario de Cataluña, aprobado por la Ley 17/2017, de 1 de agosto.\\nEntre sus funciones está la recaudación de los tributos propios de la Generalidad, de los tributos estatales cedidos totalmente, así como la gestión de la recaudación por vía ejecutiva de los ingresos de derecho público no tributarios de la Administración de la Generalidad y de los entes que conforman el sector público de la Generalidad.\\n\\xa0\\nII. Que la Agencia de la Vivienda de Cataluña es una entidad de derecho público que tiene entre otras funciones, las atribuidas en la Ley 13/2009, de 22 de julio, de la Agencia de la Vivienda de Cataluña y en el Decreto 157/2010, de 2 de noviembre, de reestructuración de la Secretaría de Vivienda, creación del Observatorio del Hábitat y la Segregación Urbana y aprobación de los Estatutos de la Agencia de la Vivienda de Cataluña.\\n \\xa0\\nIII. Que la Ley 13/2009, de 22 de julio, de la Agencia de la Vivienda de Cataluña recoge entre las atribuciones propias de la Agencia de la Vivienda de Cataluña las siguientes:\\na) Ejecutar y gestionar las políticas de vivienda que son competencia de la Generalidad y, especialmente, ejecutar las actuaciones públicas de la Generalidad con relación al crecimiento de la población satisfaciendo las necesidades en materia de vivienda y garantizando la proximidad al territorio.\\nb) Gestionar, ejecutar, coordinar y difundir las ayudas destinadas a la promoción, el fomento y la compra de viviendas con protección oficial, al alquiler y a la rehabilitación de viviendas y edificios de viviendas y a la mediación social en el ámbito del alquiler privado, y también gestionar y ejecutar programas sociales relacionados con la vivienda pública para la financiación de proyectos y actuaciones de las entidades y asociaciones de los barrios administrados o gestionados por la Agencia de la Vivienda de Cataluña.\\nc) Administrar y gestionar el parque de viviendas de titularidad de la Generalidad; las promociones de viviendas con protección oficial en régimen de alquiler de otros promotores públicos que convengan gestionarlos y administrarlos con la Agencia, y la oferta y la puesta en el mercado de las viviendas privadas que le sean cedidas para destinarlas al alquiler social, en los términos previstos en los artículos 68 y 69 de la Ley 18/2007, de 28 de diciembre, del derecho a la vivienda. La Agencia puede encargar estas funciones a profesionales cualificados del ámbito privado. Si la iniciativa privada no se hace cargo, la Agencia se puede responsabilizar de la administración y la gestión de las viviendas con protección oficial provenientes de promociones privadas y de las viviendas obtenidas por cesión y destinadas al alquiler social.\\n d) Llevar a cabo las funciones de inspección y sanción en materia de vivienda que corresponden al departamento competente en materia de vivienda, y también adoptar las medidas provisionales y de reconducción establecidas en el régimen sancionador de la Ley 18/2007, de 28 de diciembre, del derecho a la vivienda.\\ne) Cualquier otra que, con sujeción a la legislación vigente, pueda garantizar el completo cumplimiento de sus fines.\\n\\xa0\\nIV. Que el artículo 7 del Real Decreto 939/2005, de 29 de julio, establece que “corresponde a las comunidades autónomas la recaudación de las deudas cuya gestión tengan atribuida, y se llevará a cabo:\\na) Directamente por las comunidades autónomas y sus organismos autónomos, de acuerdo con lo establecido en sus normas de atribución de competencias.\\nb) Por otras entidades de derecho público con las que se haya formalizado el correspondiente convenio o cuando se haya delegado esta facultad.\\nc) Por la Agencia Estatal de Administración Tributaria, cuando así se acuerde mediante la suscripción de un convenio para la recaudación.”\\n \\xa0\\nV. Que según lo dispuesto en el artículo 25 de la Orden VEH/117/2017, de 13 de junio, por la que se regula la estructura organizativa de la Agencia Tributaria de Cataluña, se atribuyen a la Oficina Central de Recaudación, entre otras, las funciones de recaudación en período ejecutivo de las deudas de carácter tributario y no tributario de la Administración de la Generalidad y de los entes que conforman el sector público de la Generalidad, y de imposición de sanciones en relación con la recaudación de estas deudas.\\n\\xa0\\nVI. Que la gestión de las actividades de carácter material correspondientes a la recaudación en vía ejecutiva de los ingresos de derecho público de la Generalidad la realizará la propia Agencia Tributaria de Cataluña con sus recursos, o bien con las entidades locales y sus organismos autónomos, con los que la Agencia Tributaria de Cataluña, en el marco de Tributos de Cataluña, haya firmado el correspondiente convenio.\\nNo obstante, la recaudación en período ejecutivo de los recursos de derecho público de la Generalidad de Cataluña también puede estar encomendada a la Agencia Estatal de Administración Tributaria, en virtud del vigente convenio de fecha 26 de septiembre de 2006, de acuerdo con la previsión incluida en el artículo 7 del Reglamento General de Recaudación, que prevé que la recaudación de la hacienda pública de las comunidades autónomas y de sus organismos públicos la pueda llevar a cabo la Agencia Estatal de Administración Tributaria cuando así se acuerde mediante la suscripción del correspondiente convenio para la recaudación.\\n \\xa0\\nVII. Que la Agencia de la Vivienda de Cataluña está interesada en acogerse a la prestación por parte de la Agencia Tributaria de Cataluña del servicio de recaudación en período ejecutivo de las deudas contraídas derivadas del ejercicio de las funciones propias de la Agencia de la Vivienda de Cataluña mencionadas en el punto 3.\\n\\xa0\\nVIII. Que, de acuerdo con las manifestaciones expuestas, las partes abajofirmantes formalizan este Convenio que se regirá por las siguientes cláusulas:\\n\\xa0\\nCláusulas\\n\\xa0\\nPrimera. Objeto y ámbito de aplicación\\n1.1 Este Convenio tiene por objeto la realización, por parte de la Agencia Tributaria de Cataluña, de las actuaciones de recaudación en período ejecutivo sobre las deudas y las sanciones de naturaleza tributaria y otros ingresos de derecho público informados por la Agencia de la Vivienda de Cataluña.\\nLa Agencia Tributaria de Cataluña debe desarrollar en los casos que sea posible, las actuaciones de compensación correspondientes en el supuesto de que haya derechos de crédito o subvenciones a favor de los mismos sujetos.\\n 1.2 En lo que respecta a este Convenio, a partir del momento de su entrada en vigor, la Agencia Tributaria de Cataluña debe realizar la gestión recaudatoria de las deudas informadas por la Agencia de la Vivienda de Cataluña con sus propios medios o, en su caso, debe cargar las deudas a la Agencia Estatal de Administración Tributaria, o bien a las diferentes entidades locales o a sus organismos autónomos.\\n\\xa0\\nSegunda. Régimen jurídico\\nLa prestación del servicio se debe ajustar a lo dispuesto en este Convenio y, con carácter general, a la siguiente normativa:\\n- Ley 58/2003, de 17 diciembre, General Tributaria\\n- Ley 39/2015, de 1 de octubre, del Procedimiento Administrativo Común de las Administraciones Públicas\\n- Ley 40/2015, de 1 de octubre, de Régimen Jurídico del Sector Público\\n- Reglamento (UE) 2016/679 del Parlamento Europeo y del Consejo, de 27 de abril de 2016, relativo a la protección de las personas físicas en lo que respecta al tratamiento de datos personales y a la libre circulación de estos datos y por el que se deroga la Directiva 95/46/CE (Reglamento general de protección de datos)\\n - Ley Orgánica 3/2018, de 5 de diciembre, de Protección de Datos Personales y garantía de los derechos digitales, en todo aquello que no contradiga el Reglamento europeo 2016/679- Ley 26/2010, de 3 de agosto, de régimen jurídico y de procedimiento de las administraciones públicas de Cataluña- Ley 17/2017, de 1 de agosto, del Código tributario de Cataluña y de aprobación de los libros primero, segundo y tercero, relativos a la Administración tributaria de la Generalidad- Real Decreto 939/2005, de 29 de julio, por el que se aprueba el Reglamento General de Recaudación y el resto de normativa vigente que resulte aplicable en materia de gestión recaudatoria- Normativa de uso de medios electrónicos y de la sede electrónica en el sector público de la Generalidad- Ley 13/2009, de 22 de julio, de la Agencia de la Vivienda de Cataluña- Decreto 157/2010, de 2 de noviembre, de reestructuración de la Secretaría de Vivienda, creación del Observatorio del Hábitat y la Segregación Urbana y aprobación de los Estatutos de la Agencia de la Vivienda de Cataluña - Ley 18/2007, de 28 de diciembre, del derecho a la vivienda\\n\\xa0\\nTercera. Funciones de la Agencia de la Vivienda de Cataluña\\nCorresponde a la Agencia de la Vivienda de Cataluña realizar las siguientes actuaciones:\\na) Emitir las liquidaciones correspondientes, con apertura de plazo de ingreso en período voluntario, de acuerdo con lo previsto en la legislación aplicable, y asegurar la adecuación a la normativa legal de las actuaciones previas al inicio del período ejecutivo.\\nb) Notificar las liquidaciones de acuerdo con lo previsto en la legislación aplicable.\\nc) Controlar los plazos de prescripción del derecho de la Administración a recaudar y efectuar el cargo de las deudas que se encuentren en período ejecutivo, de acuerdo con las especificaciones establecidas por los órganos competentes en materia de recaudación de la Agencia Tributaria de Cataluña.\\nd) Verificar la correcta notificación del acto administrativo para evitar el inicio improcedente de la vía de apremio y la posterior revisión estimatoria de los recursos interpuestos, con posible procedencia de la devolución de los ingresos indebidos generados.\\n e) Informar a la Agencia Tributaria de Cataluña de los recursos y de las incidencias relacionados con las liquidaciones de las deudas a recaudar para que este organismo dicte la correspondiente resolución.\\nf) Elaborar un informe para la resolución de los recursos de reposición que la ATC deba resolver, cuando en estos se aleguen actuaciones realizadas por la Agencia de la Vivienda de Cataluña.\\ng) Enviar copia íntegra - indexada, ordenada y anonimizada - del expediente que corresponda al acto dictado por la ATC que haya sido objeto de reclamación económico-administrativa o de recurso contencioso-administrativo.\\n\\xa0\\nCuarta. Funciones de la Agencia Tributaria de Cataluña\\nCorresponde a la Agencia Tributaria de Cataluña realizar las siguientes actuaciones:\\na) Dictar las provisiones de apremio y los otros actos propios del procedimiento de recaudación sobre las deudas cargadas por la Agencia de la Vivienda de Cataluña.\\nb) Practicar la notificación de todos aquellos actos del procedimiento de apremio que haya dictado.\\n c) Tramitar y resolver los procedimientos de revisión en vía administrativa que se insten contra los actos dictados por los órganos de la ATC.\\nd) Remitir las reclamaciones económico-administrativas que se interpongan contra los actos dictados por la Agencia Tributaria de Cataluña al órgano económico-administrativo competente para conocerlas y resolverlas, junto con el correspondiente expediente, previa preparación documental e informativa de este.\\ne) Tramitar y resolver las solicitudes de suspensión de los actos impugnados dictados por la Agencia Tributaria de Cataluña, remitir al órgano económico-administrativo competente aquellas que sean de su competencia y controlar y ejecutar los autos de suspensión acordados en vía económico-administrativa y judicial.\\nf) Ejecutar las resoluciones de las reclamaciones económico-administrativas y las sentencias judiciales que afecten a los actos dictados por la Agencia Tributaria de Cataluña.\\ng) Acordar las devoluciones de ingresos indebidos que deriven de los actos dictados por la Agencia.\\n h) Tramitar y resolver las solicitudes de aplazamiento o fraccionamiento de pago de la deuda que se soliciten durante el procedimiento de recaudación en vía ejecutiva.\\ni) Acordar el reembolso del coste de las garantías aportadas para suspender la ejecución de actos o para aplazar o fraccionar el pago de una deuda, cuando los actos dictados por la Agencia Tributaria de Cataluña sean declarados improcedentes por resolución administrativa o sentencia firme.\\nj) Resolver las tercerías que se puedan promover en el procedimiento de apremio cuando hagan referencia a un bien o derecho embargado por la Agencia Tributaria de Cataluña.\\nk) Certificar y efectuar la defensa de los derechos de cobro de las deudas de la Agencia de la Vivienda de Cataluña que se encuentren sujetos a un proceso concursal.\\nl) Liquidar los intereses de demora en relación con las deudas cobradas en período ejecutivo de acuerdo con el artículo 72.4 b), c) y d) del Reglamento General de Recaudación, y los que se acrediten por la suspensión del procedimiento de apremio de acuerdo con el artículo 26 de la Ley General Tributaria.\\n m) La gestión recaudatoria ante los sucesores de los artículos 39 y 40 de la Ley General Tributaria, respecto de las deudas que a la muerte del causante o extinción de la entidad se encuentren en período ejecutivo.\\nn) Acordar, una vez realizadas las correspondientes actuaciones dirigidas al cobro de la deuda y habiendo constatado que se produce alguno de los supuestos que habilitan la responsabilidad, el acto administrativo de derivación de responsabilidad solidaria o subsidiaria.\\no) Adoptar medidas cautelares para asegurar el cobro de la deuda, de acuerdo con lo dispuesto en el artículo 81 de la Ley General Tributaria, cuando la Agencia Tributaria de Cataluña sea el órgano actuante.\\np) Acordar, cuando proceda, la declaración de crédito incobrable en los términos que previsto en el artículo 173 de la Ley General Tributaria.\\nq) Acordar, cuando proceda, la declaración de prescripción del derecho a exigir el cobro de las deudas que le hayan sido traspasadas.\\nr) Realizar cualquier otra actuación del procedimiento de apremio necesaria para la efectividad de las anteriores, en especial todas aquellas que sean necesarias para el ejercicio de las potestades públicas en la ejecución de los embargos.\\n \\xa0\\nQuinta. Actuaciones comunes a ambas partes\\nCorresponden tanto a la Agencia Tributaria de Cataluña como a la Agencia de la Vivienda de Cataluña, las siguientes funciones:\\na) Adecuar los medios informáticos necesarios para la generación y envío de las deudas en período ejecutivo a la Oficina Central de Recaudación de la Agencia, a los efectos de posibilitar la gestión y de iniciar la vía de apremio.\\nb) Admitir los documentos que presenten las personas interesadas, documentos que deben ser enviados al órgano competente, en el plazo de cinco días hábiles, junto con la documentación que sea requerida a los efectos de completar los expedientes necesarios para la instrucción y resolución de las actuaciones de revisión administrativa y judicial instadas por los deudores.\\nc) Introducir las medidas necesarias para agilizar y conseguir la efectividad de la gestión recaudatoria y colaborar en la introducción de las actuaciones correctoras que se consideren convenientes.\\n\\xa0\\nSexta. Coste del servicio\\nLa Agencia Tributaria de Cataluña deducirá del importe a ingresar la cantidad equivalente al recargo del período ejecutivo en concepto de resarcimiento de los gastos que la Agencia tenga con motivo del cumplimiento de este Convenio.\\n \\xa0\\nSéptima. Transferencia de los importes recaudados\\n7.1 El importe de las deudas generadas por la Agencia de la Vivienda de Cataluña cobradas en período ejecutivo y los intereses devengados, minorado por el coste total efectivo del servicio prestado, será el importe que se deberá ingresar en la cuenta número ES11 2100 3000 1122 0179 6303 que la Agencia de la Vivienda de Cataluña tiene abierta en CAIXABANK y autorizada a estos efectos.\\n7.2 Se transferirá el importe que resulte a ingresar como resultado de la gestión en período ejecutivo, más los intereses devengados, por las deudas cargadas por la Agencia de la Vivienda de Cataluña una vez se minore el coste por los gastos de gestión de la Agencia Tributaria de Cataluña, de acuerdo con la cláusula anterior. A este importe a minorar se añadirá la cantidad correspondiente a las costas del procedimiento de apremio que prevé el artículo 113 del Real Decreto 939/2005, de 29 de julio, por el que se aprueba el Reglamento General de Recaudación, así como el importe de las devoluciones acordadas, repercutiendo a la Agencia de la Vivienda de Cataluña los intereses de demora de las devoluciones acordadas como consecuencia de actuaciones declaradas improcedentes efectuadas por la Agencia de la Vivienda de Cataluña.\\n \\xa0\\nOctava. Comisión de Seguimiento\\nSe constituye una Comisión paritaria de seguimiento, formada por al menos un representante de cada una de las partes, con el objeto de velar por el cumplimiento de las obligaciones de las partes que se asumen en este Convenio y para analizar las diferentes cuestiones que deriven de su aplicación.\\n\\xa0\\nNovena. Protección de datos\\n9.1 El acceso de la Agencia Tributaria de Cataluña a los datos personales con trascendencia tributaria que contengan los ficheros que le envíe la Agencia de la Vivienda de Cataluña, con el objeto de dar cumplimiento a lo estipulado en este Convenio, es una cesión realizada al amparo del artículo 95.b) de la Ley 58/2003, General Tributaria, y se somete a lo dispuesto en la normativa sobre protección de datos personales.\\nEstos datos, así como los informes o antecedentes que puedan intercambiarse entre la Agencia de la Vivienda de Cataluña y la Agencia Tributaria de Cataluña tienen carácter reservado y solo pueden ser utilizados y tratados para los fines de este Convenio, sin que puedan ser comunicados a terceros, a menos que la cesión esté prevista en una norma con rango de ley.\\n En concreto, al gestionar la recaudación de las deudas a favor de la Agencia de la Vivienda de Cataluña, la Agencia Tributaria de Cataluña tiene la condición de encargada del tratamiento de los datos. En consecuencia, la Agencia:\\n- Solo trata los datos de conformidad con las instrucciones de la Agencia de la Vivienda de Cataluña.\\n- No aplica ni utiliza los datos con fines diferentes de los que recoge este Convenio, ni los comunica a otras personas, ni siquiera para su conservación.\\n9.2 La ATC trata los datos de manera leal y transparente en relación con la persona interesada.\\n9.3 Con el fin de garantizar la seguridad de la información a la cual tenga acceso por cuenta de la otra Administración, la Agencia Tributaria de Cataluña se compromete a adoptar las medidas de seguridad necesarias de índole técnica y organizativa para garantizar la integridad, confidencialidad, disponibilidad y trazabilidad de los datos.\\n\\xa0\\nDécima. Vigencia, denuncia y revisión del Convenio\\n10.1 Este Convenio tiene una vigencia de 4 años. Las partes pueden, unánimemente, acordar la revisión antes de transcurrir su duración, cuando circunstancias objetivas lo hagan aconsejable para una mejor realización de las actuaciones recaudatorias objeto del Convenio.\\n En cualquier momento antes de la finalización de la vigencia de este Convenio, las partes firmantes podrán acordar la prórroga de su vigencia por un período máximo de cuatro años adicionales.\\n10.2 Cada una de las partes puede denunciar el Convenio con seis meses de antelación antes de la conclusión del plazo de finalización pactado.\\n\\xa0\\nUndécima. Eficacia del Convenio\\nLa eficacia de este Convenio está condicionada por la implementación de los medios informáticos necesarios para la eficacia de la gestión recaudatoria.\\n\\xa0\\nDuodécima. Otras causas de extinción del Convenio y sumisión expresa a la jurisdicción contencioso-administrativa\\n12.1 Además de la finalización de su duración o de la causa de extinción de acuerdo con la cláusula décima, este Convenio se extinguirá por incumplimiento manifiesto de los acuerdos que se contienen, por mutuo acuerdo, por imposibilidad legal o material de continuar con el objeto del Convenio y por el resto de causas de extinción reguladas por ley.\\n12.2 Cualquier cuestión litigiosa que se pueda plantear en relación con la interpretación, cumplimiento o extinción de este Convenio corresponde a la Jurisdicción Contencioso-administrativa.\\n \\xa0\\nDecimotercera. Entrada en vigor\\nEste Convenio obliga a las partes desde el día siguiente de la firma, si bien su eficacia queda supeditada a la publicación en los diarios oficiales correspondientes, de acuerdo con lo establecido en el artículo 112 de la Ley 26/2010, de 3 de agosto, de régimen jurídico y de procedimiento de las administraciones públicas de Cataluña, y lo dispuesto en la cláusula undécima del Convenio.\\n\\xa0\\nComo prueba de conformidad y a un solo efecto, las partes firman este documento.\\n\\xa0\\nLa presidenta de la Agencia Tributaria de Cataluña\\nMarta Espasa Queralt\\nFecha de la firma electrónica: 1 de diciembre de 2020\\n\\xa0\\nEl director de la Agencia de la Vivienda de Cataluña\\nJaume Fornt i Paradell\\nFecha de la firma electrónica: 17 de diciembre de 2020\\n'"
      ]
     },
     "metadata": {},
     "execution_count": 197
    }
   ],
   "source": [
    "DOGC_sumarios['item_fullText'][0]"
   ]
  },
  {
   "cell_type": "code",
   "execution_count": 218,
   "metadata": {},
   "outputs": [],
   "source": [
    "# Crea nueva columna vacía de tipo lista en tabla_analisis\n",
    "#DOCM_sumarios['Referencias_completas'] = [[] for i in range(len(tabla_analisis))]\n",
    "DOGC_sumarios['Tags'] = [[] for i in range(len(DOGC_sumarios))]\n",
    "DOGC_sumarios['Match_ASECORP_BBDD'] = [[] for i in range(len(DOGC_sumarios))]"
   ]
  },
  {
   "cell_type": "code",
   "execution_count": 221,
   "metadata": {},
   "outputs": [],
   "source": [
    "pattern = ['Ley [0-9]+\\/[0-9]+','Real Decreto [0-9]+\\/[0-9]+','Real Decreto Legislativo [0-9]+\\/[0-9]+','Real Decreto-ley [0-9]+\\/[0-9]+','Orden [A-Z]+\\/[0-9]+\\/[0-9]+','Orden Circular [0-9]+\\/[0-9]+','Reglamento \\(UE\\) [0-9]+\\/[0-9]+', 'Reglamento de Ejeución \\(UE\\) [0-9]+\\/[0-9]+' ,'Sentencia de [0-9]+ de [a-z]+ de [0-9]+','Sentencia [0-9]+\\/[0-9]+','Orden de [0-9]+ de [a-z]+ de [0-9]+', 'Resolución de [0-9]+ de [a-z]+ de [0-9]+','Resolución [a-z]+\\/[0-9]+\\/[0-9]+', 'Nota de Servicio [0-9]+\\/[0-9]+', 'Acuerdo multilateral M\\-[0-9]+', 'Circular [0-9]+\\/[0-9]+', 'Decisión \\(UE\\) [0-9]+\\/[0-9]+', 'Decisión de Ejecución \\(UE\\) [0-9]+\\/[0-9]+']"
   ]
  },
  {
   "cell_type": "code",
   "execution_count": 222,
   "metadata": {},
   "outputs": [
    {
     "output_type": "stream",
     "name": "stdout",
     "text": [
      "['Ley 26/2010', 'Ley 40/2015', 'Ley 17/2017', 'Ley 13/2009', 'Ley 17/2017', 'Ley 13/2009', 'Ley 13/2009', 'Ley 18/2007', 'Ley 18/2007', 'Real Decreto 939/2005', 'Orden VEH/117/2017', 'Ley 58/2003', 'Ley 39/2015', 'Ley 40/2015', 'Reglamento (UE) 2016/679', 'Ley 26/2010', 'Ley 17/2017', 'Real Decreto 939/2005', 'Ley 13/2009', 'Ley 18/2007', 'Real Decreto 939/2005', 'Ley 58/2003', 'Ley 26/2010']\n['Ley 5/2020', 'Ley 39/2015', 'Ley 29/1998', 'Ley 29/1998', 'Ley 3/2012', 'Ley 2/2007', 'Ley 3/2012']\n['Ley 3/2012', 'Ley 39/2015', 'Ley 29/1998', 'Ley 3/2012', 'Ley 2/2007', 'Ley 3/2012']\n['Ley 3/2012', 'Ley 39/2015', 'Ley 29/1998', 'Ley 3/2012', 'Ley 2/2007', 'Ley 3/2012']\n['Ley 5/2020', 'Ley 39/2015', 'Ley 29/1998', 'Ley 29/1998', 'Ley 3/2012', 'Ley 2/2007', 'Ley 3/2012']\n[]\n['Ley 26/2010', 'Ley 10/2011']\n['Resolución CLT/677/2020', 'Ley 9/1993', 'Ley 9/1993']\n['Ley 6/2006', 'Ley 33/2010', 'Resolución TSF/961/2020', 'Resolución TSF/961/2020', 'Real decreto 887/2006', 'Ley 4/1985', 'Ley 4/2020', 'Resolución TSF/961/2020', 'Resolución TSF/961/2020', 'Resolución TSF/961/2020', 'Resolución TSF/961/2020', 'Ley 26/2010', 'Ley 26/2010', 'Ley 39/2015', 'Ley 39/2015', 'Resolución TSF/961/2020']\n"
     ]
    }
   ],
   "source": [
    "for i, row in DOGC_sumarios.iterrows():\n",
    "    # Busca expresiones REGX coincidentes con Patrones definidos\n",
    "    DOGC_sumarios['Tags'][i] = re.findall('|'.join(pattern), str(row['item_fullText']), flags=re.IGNORECASE)\n",
    "    print(DOGC_sumarios['Tags'][i])"
   ]
  },
  {
   "cell_type": "code",
   "execution_count": 223,
   "metadata": {},
   "outputs": [
    {
     "output_type": "stream",
     "name": "stdout",
     "text": [
      "['Ley 17/2017', 'Orden VEH/117/2017', 'Ley 26/2010', 'Ley 39/2015', 'Ley 13/2009', 'Ley 58/2003', 'Reglamento (UE) 2016/679', 'Ley 18/2007', 'Real Decreto 939/2005', 'Ley 40/2015']\n['Ley 2/2007', 'Ley 39/2015', 'Ley 3/2012', 'Ley 5/2020', 'Ley 29/1998']\n['Ley 3/2012', 'Ley 39/2015', 'Ley 29/1998', 'Ley 2/2007']\n['Ley 3/2012', 'Ley 39/2015', 'Ley 29/1998', 'Ley 2/2007']\n['Ley 2/2007', 'Ley 39/2015', 'Ley 3/2012', 'Ley 5/2020', 'Ley 29/1998']\n[]\n['Ley 26/2010', 'Ley 10/2011']\n['Resolución CLT/677/2020', 'Ley 9/1993']\n['Ley 33/2010', 'Ley 4/1985', 'Ley 4/2020', 'Ley 26/2010', 'Ley 39/2015', 'Resolución TSF/961/2020', 'Ley 6/2006', 'Real decreto 887/2006']\n"
     ]
    }
   ],
   "source": [
    "# Elimina Tags duplicados\n",
    "for i, row in DOGC_sumarios.iterrows():\n",
    "    DOGC_sumarios['Tags'][i] = list(set(DOGC_sumarios['Tags'][i]))\n",
    "    print(DOGC_sumarios['Tags'][i])"
   ]
  },
  {
   "cell_type": "code",
   "execution_count": 224,
   "metadata": {},
   "outputs": [
    {
     "output_type": "execute_result",
     "data": {
      "text/plain": [
       "[None,\n",
       " None,\n",
       " None,\n",
       " None,\n",
       " None,\n",
       " None,\n",
       " None,\n",
       " None,\n",
       " None,\n",
       " None,\n",
       " None,\n",
       " None,\n",
       " None,\n",
       " None,\n",
       " None,\n",
       " None,\n",
       " None,\n",
       " None,\n",
       " None,\n",
       " None,\n",
       " None,\n",
       " None,\n",
       " None,\n",
       " None,\n",
       " None,\n",
       " None,\n",
       " None,\n",
       " None,\n",
       " None,\n",
       " None,\n",
       " None,\n",
       " None,\n",
       " None,\n",
       " None,\n",
       " None,\n",
       " None,\n",
       " None,\n",
       " None,\n",
       " None,\n",
       " None]"
      ]
     },
     "metadata": {},
     "execution_count": 224
    }
   ],
   "source": [
    "regex_result = []\n",
    "[ regex_result.append(tag) for tags in DOGC_sumarios['Tags'] for tag in tags ]"
   ]
  },
  {
   "cell_type": "code",
   "execution_count": 225,
   "metadata": {},
   "outputs": [
    {
     "output_type": "stream",
     "name": "stdout",
     "text": [
      "['Ley 17/2017', 'Orden VEH/117/2017', 'Ley 26/2010', 'Ley 39/2015', 'Ley 13/2009', 'Ley 58/2003', 'Reglamento (UE) 2016/679', 'Ley 18/2007', 'Real Decreto 939/2005', 'Ley 40/2015', 'Ley 2/2007', 'Ley 39/2015', 'Ley 3/2012', 'Ley 5/2020', 'Ley 29/1998', 'Ley 3/2012', 'Ley 39/2015', 'Ley 29/1998', 'Ley 2/2007', 'Ley 3/2012', 'Ley 39/2015', 'Ley 29/1998', 'Ley 2/2007', 'Ley 2/2007', 'Ley 39/2015', 'Ley 3/2012', 'Ley 5/2020', 'Ley 29/1998', 'Ley 26/2010', 'Ley 10/2011', 'Resolución CLT/677/2020', 'Ley 9/1993', 'Ley 33/2010', 'Ley 4/1985', 'Ley 4/2020', 'Ley 26/2010', 'Ley 39/2015', 'Resolución TSF/961/2020', 'Ley 6/2006', 'Real decreto 887/2006']\n"
     ]
    }
   ],
   "source": [
    "print(regex_result)"
   ]
  },
  {
   "cell_type": "code",
   "execution_count": 226,
   "metadata": {},
   "outputs": [],
   "source": [
    "## Elimina duplicados\n",
    "boletin_flat_list = list(set(regex_result))"
   ]
  },
  {
   "cell_type": "code",
   "execution_count": 227,
   "metadata": {},
   "outputs": [
    {
     "output_type": "execute_result",
     "data": {
      "text/plain": [
       "['Ley 33/2010',\n",
       " 'Ley 10/2011',\n",
       " 'Ley 9/1993',\n",
       " 'Ley 5/2020',\n",
       " 'Ley 29/1998',\n",
       " 'Ley 13/2009',\n",
       " 'Real decreto 887/2006',\n",
       " 'Ley 17/2017',\n",
       " 'Ley 4/2020',\n",
       " 'Ley 26/2010',\n",
       " 'Resolución CLT/677/2020',\n",
       " 'Ley 3/2012',\n",
       " 'Resolución TSF/961/2020',\n",
       " 'Ley 6/2006',\n",
       " 'Reglamento (UE) 2016/679',\n",
       " 'Ley 40/2015',\n",
       " 'Orden VEH/117/2017',\n",
       " 'Ley 4/1985',\n",
       " 'Ley 2/2007',\n",
       " 'Ley 39/2015',\n",
       " 'Ley 58/2003',\n",
       " 'Ley 18/2007',\n",
       " 'Real Decreto 939/2005']"
      ]
     },
     "metadata": {},
     "execution_count": 227
    }
   ],
   "source": [
    "boletin_flat_list"
   ]
  },
  {
   "cell_type": "code",
   "execution_count": 212,
   "metadata": {},
   "outputs": [
    {
     "output_type": "stream",
     "name": "stdout",
     "text": [
      "['España', 'Europa', 'Cataluña']\n"
     ]
    }
   ],
   "source": [
    "# ## Importa BBDD ASECORP\n",
    "\n",
    "# Inicializa datos de BBDD_ASECORP\n",
    "boletin_ASECORP_flat_list = []\n",
    "ASECORP_BBDD = pd.DataFrame()\n",
    "ambitos = []\n",
    "\n",
    "# Incluir en llamada a función el ambito territorial como lista\n",
    "# si no se especifica ámbito los incluye todos\n",
    "boletin_ASECORP_flat_list, ASECORP_BBDD, ambitos = tagea_BBDD_ASECORP(['España','Europa','Cataluña'])\n",
    "\n",
    "print(ambitos)\n"
   ]
  },
  {
   "cell_type": "code",
   "execution_count": 228,
   "metadata": {},
   "outputs": [
    {
     "output_type": "execute_result",
     "data": {
      "text/plain": [
       "\"['Ley 38/1995', 'Circular 1/2013', 'Orden de 30 de junio de 1998', 'Nota de servicio 1/2014', 'Orden JUS/206/2009', 'Real Decreto 2100/1976', 'Orden FOM/3459/2003', 'Orden PRE/985/2007', 'Real Decreto 399/2013', 'Orden de 20 de mayo de 2016', 'Orden SND/445/2020', 'Orden de 27 de junio de 2000', 'Resolución de 10 de enero de 2020', 'Real decreto 1976/1999', 'Real Decreto-ley 9/2000', 'Real Decreto 1075/2017', 'Real Decreto 1326/1995', 'Resolución MAH/3481/2008', 'Orden de 2 de abril de 1993', 'Resolución de 16 de noviembre de 2010', 'Orden de 13 de junio de 1984', 'Orden SCO/1591/2005', 'Real Decreto 984/2015', 'Orden FOM/882/2015', 'Resolución de 24 de septiembre de 2012', 'Resolución de 21 de marzo de 1989', 'Ley 26/2009', 'Resolución de 8 de marzo de 2012', 'Orden MAM/1873/2004', 'Orden de 16 de enero de 1995', 'Orden IET/697/2015', 'Orden ITC/3190/2011', 'Real Decreto 60/2005', 'Resolución INT/2927/2011', 'Orden ECO/4/2016', 'Resolución MAH/3589/2008', 'Orden de 27 de julio de 1999', 'Resolución de 29 de abril de 2008', 'Sentencia 43/2019', 'Resolución de 27 de junio de 2008', 'Orden MAH/611/2010', 'Real Decreto 67/2010', 'Resolución de 7 de junio de 2017', 'Orden de 1 de octubre de 1998', 'Circular 5/2012', 'Sentencia de 12 de julio de 2013', 'Real Decreto-ley 16/2013', 'Real Decreto 550/2020', 'ORDEN ECF/556/2008', 'Sentencia de 15 de julio de 2009', 'Orden ECF/383/2009', 'Orden APM/397/2018', 'Reglamento (UE) 2016/863', 'Orden de 31 de mayo de 1999', 'Ley 2/1991', 'Orden MAM/1024/2002', 'Orden ESS/911/2013', 'Orden de 22 de marzo de 1990', 'Orden INT/2850/2011', 'Real Decreto 97/2014', 'Real Decreto 1417/2005', 'Resolución de 1 de octubre de 1993', 'Real Decreto 684/2013', 'Resolución de 26 de octubre de 2007', 'Resolución TES/1227/2017', 'Real Decreto 312/2016', 'Ley 43/2003', 'Real Decreto 815/2001', 'Real Decreto 1237/2011', 'Resolución de 14 de enero de 2019', 'Resolución de 22 de junio de 2017', 'Resolución TES/608/2015', 'Resolución TES/910/2018', 'Resolución SLT/2397/2020', 'Orden MAM/2545/2004', 'Real Decreto 1428/2003', 'Orden MAM/4143/2004', 'Orden de 17 de agosto de 1993', 'LEY 14/2020', 'Orden MAM/638/2002', 'Orden IET/2556/2014', 'Resolución TES/1403/2019', 'Real Decreto 130/2017', 'Real Decreto 614/2001', 'Orden de 18 de octubre de 1976', 'Orden SND/440/2020', 'Orden SND/260/2020', 'Orden de 8 de junio de 1988', 'Ley 54/1980', 'Reglamento (UE) 2017/625', 'Real Decreto 1065/2007', 'Resolución de 4 de febrero de 2019', 'Resolución de 20 de enero de 1999', 'Orden de 8 de marzo de 1994', 'Orden PRE/77/2008', 'Sentencia de 28 de febrero de 2011', 'Orden TEC/1171/2018', 'Resolución TES/1713/2020', 'Real Decreto Legislativo 2/2008', 'Resolución de 9 de julio de 2015', 'Resolución TES/1740/2014', 'Ley 36/2011', 'Orden SLT/335/2012', 'Real Decreto 836/2012', 'Orden INT/284/2020', 'Real Decreto 949/1997', 'Ley 6/2001', 'RESOLUCIÓN SLT/3354/2020', 'Resolución TES/3176/2020', 'Real Decreto 824/2005', 'Real Decreto 364/2017', 'Orden TRE/328/2010', 'Real Decreto 1264/2005', 'Orden IUE/469/2009', 'Reglamento (UE) 2016/2282', 'Real Decreto 39/1997', 'Orden ITC/909/2009', 'Orden de 1 de diciembre de 1995', 'Orden MAM/2191/2005', 'Real Decreto 1338/2011', 'Resolución de 31 de mayo de 2001', 'Ley 1/2014', 'Resolución EMO/1986/2015', 'Resolución TES/1005/2018', 'Orden PRE/2439/2010', 'Real decreto 1054/2002', 'Orden TEC/1172/2018', 'Orden ECF/208/2007', 'Real Decreto 81/2014', 'Real Decreto 1402/2007', 'Orden ETU/1046/2017', 'Orden ICT/335/2002', 'Real Decreto 1331/2012', 'Orden circular 38/2016', 'Real Decreto 330/2009', 'Ley 15/1997', 'Acuerdo Multilateral M-218', 'Orden TIC/313/2003', 'Real Decreto 564/2017', 'Orden de 12 de agosto de 1993', 'Ley 30/1992', 'Nota de Servicio 1/2018', 'Orden TES/184/2014', 'Real Decreto 414/2014', 'Reglamento (UE) 2015/2294', 'Orden INT/316/2011', 'Orden AAM/259/2013', 'Orden PRE/1784/2011', 'Orden FOM/534/2014', 'Orden de 2 de octubre de 1985', 'Real Decreto 1630/1992', 'Orden ECF/315/2008', 'Orden de 20 de julio de 2000', 'Orden PRE/507/2008', 'Ley 51/2007', 'Orden ITC/2914/2011', 'Orden de 4 de mayo de 1998', 'Orden ITC/1637/2009', 'Ley 20/1991', 'Real Decreto 202/2000', 'Orden de 6 de mayo de 1988', 'Real decreto 1777/2004', 'Resolución de 31 de julio de 2008', 'Resolución SLT/2546/2020', 'Ley 10/2011', 'Orden TIC/35/2003', 'Orden de 11 de septiembre de 1998', 'Orden PRE/1349/2014', 'Orden PRE/2744/2006', 'Real Decreto 830/2010', 'Orden de 24 de septiembre de 1979', 'Reglamento (UE) 2015/327', 'Resolución MAH/1603/2004', 'Reglamento (UE) 2017/1941', 'Real Decreto 238/2000', 'Orden TIC/417/2003', 'Resolución de 21 de diciembre de 2010', 'Orden de 11 de enero de 2001', 'Real Decreto 851/2017', 'Real Decreto 2826/1979', 'Resolución de 17 de julio de 2013', 'Orden de 19 de julio de 2001', 'Orden de 22 de junio de 1995', 'Orden de 26 de marzo de 1999', 'Real Decreto Legislativo 339/1990', 'Real Decreto 837/2020', 'Sentencia de 4 de mayo de 2017', 'Resolución de 7 de marzo de 2011', 'Orden MAM/960/2005', 'Ley 4/1990', 'Sentencia de 5 de septiembre de 2017', 'Real Decreto 285/2002', 'Real Decreto 737/2020', 'Real Decreto 363/2017', 'Orden ICT/697/2019', 'Real Decreto 186/2016', 'Real Decreto 1164/2005', 'Orden AAM/195/2012', 'Real Decreto 2220/2004', 'Resolución MAH/960/2004', 'Nota de servicio 9/2014', 'Orden de 10 de noviembre de 1983', 'Real Decreto 866/2010', 'Orden de 6 de septiembre de 1999', 'Resolución MAH/3321/2008', 'Resolución de 19 de abril de 2005', 'Orden de 25 de marzo de 1985', 'Resolución EMC/2741/2019', 'Real Decreto 231/2017', 'Orden ECF/206/2007', 'Real Decreto 176/2013', 'Ley 22/2011', 'Sentencia 113/2019', 'Real Decreto 1161/2001', 'Resolución TES/2807/2016', 'Resolución de 30 de octubre de 1995', 'Resolución EMC/2523/2017', 'Resolución TES/1970/2020', 'Orden ITC/3366/2010', 'Orden MAM/1253/2003', 'Resolución TES/609/2015', 'Real Decreto-ley 1/2012', 'Orden PRE/1648/2007', 'Resolución TES/2004/2013', 'Sentencia de 2 de julio de 2013', 'Orden AAM/225/2012', 'Ley 3/2020', 'Sentencia 181/2013', 'Resolución MAH/3803/2009', 'Orden IET/346/2014', 'Orden PCI/962/2019', 'Resolución de 18 de diciembre de 2020', 'Resolución TES/724/2017', 'Real Decreto 443/2001', 'Orden ECF/485/2009', 'Sentencia de 27 de febrero de 2012', 'Real Decreto 1196/2003', 'Orden FOM/298/2016', 'Orden ITC/3520/2009', 'Orden FOM/1793/2014', 'Orden PRE/1447/2003', 'Ley 26/2011', 'Orden INT/1676/2016', 'Reglamento (UE) 2019/496', 'Real Decreto 900/2015', 'Real Decreto 36/2008', 'Circular 1/2018', 'Resolución de 5 de abril de 2016', 'Real Decreto 379/2001', 'Ley 21/2005', 'Resolución TES/610/2014', 'Sentencia 86/2019', 'Real Decreto 1154/86', 'Orden de 25 de octubre de 1975', 'Real Decreto 1514/2009', 'Real Decreto 56/2016', 'Real Decreto-ley 25/2020', 'Orden de 3 de febrero de 1986', 'Orden SND/458/2020', 'Ley 13/2020', 'Resolución de 13 de abril de 2016', 'Ley 6/1996', 'Resolución MAH/687/2010', 'Orden de 27 de abril de 1995', 'Acuerdo Multilateral M-226', 'Real Decreto 795/2010', 'Real Decreto-ley 20/2018', 'Orden IET/2735/2015', 'Orden ITC/1929/2005', 'Orden de 28 de febrero de 1989', 'Real Decreto 1027/2006', 'Orden de 12 de marzo de 1997', 'Orden ECF/362/2010', 'Real Decreto 340/2010', 'Real Decreto 885/2020', 'Orden de 6 de septiembre de 1988', 'Sentencia 7/2016', 'Sentencia de 8 de septiembre de 2016', 'Resolución de 30 de junio de 2009', 'Resolución TES/624/2015', 'Real Decreto 99/2003', 'Reglamento (UE) 2017/228', 'Resolución de 4 de agosto de 1995', 'ley 5/2013', 'Real Decreto 1276/2011', 'Real Decreto 1573/1993', 'Reglamento (UE) 1087/2013', 'Orden MAM/85/2008', 'Orden PRE/2871/2011', 'Orden EMO/202/2014', 'Orden de 10 de marzo de 2000', 'Orden de 30 de abril de 2020', 'Orden PRE/52/2010', 'Real Decreto 187/2016', 'Resolución de 27 de agosto de 2008', 'Resolución TES/623/2015', 'Ley 9/2006', 'Resolución de 23 de abril de 2020', 'Real Decreto 183/2015', 'Resolución TES/3021/2011', 'Orden de 8 de abril de 1983', 'Orden MAH/134/2010', 'Resolución SLT/3177/2020', 'Reglamento (UE) 2016/1011', 'Ley 3/1996', 'Resolución de 13 de mayo de 2013', 'Resolución de 6 de febrero de 2019', 'Resolución EMO/2813/2011', 'Ley 10/2013', 'Orden de 27 de abril de 1998', 'Real Decreto 895/2013', 'Ley 24/2001', 'Resolución SLT/1648/2020', 'Orden ECF/124/2010', 'Resolución MAH/507/2010', 'Orden HAP/1349/2016', 'Orden de 29 de junio de 1993', 'Real Decreto 107/1995', 'Resolución de 4 de mayo de 2016', 'Resolución de 30 de junio de 2011', 'Orden TRI/216/2004', 'Orden SND/325/2020', 'Orden ECF/219/2010', 'Resolución ARP/431/2019', 'Resolución MAH/1082/2008', 'Resolución TES/210/2012', 'Orden EMO/311/2011', 'Resolución TES/2677/2013', 'Real Decreto 70/2019', 'Resolución de 17 de abril de 2007', 'Orden de 5 de abril de 2001', 'Sentencia 134/2020', 'Orden de 9 de noviembre de 1999', 'Orden PRE/3929/2004', 'Resolución SLT/1/2021', 'Ley 11/2011', 'Orden de 16 de julio de 1985', 'Resolución de 22 de marzo de 2011', 'Resolución de 4 de marzo de 2008', 'Orden PRE/1597/2014', 'Real Decreto 2028/1986', 'Orden IET/2199/2012', 'Orden PRE/164/2007', 'Orden TEC/332/2019', 'Resolución de 2 de agosto de 2016', 'Reglamento (UE) 528/2012', 'Resolución de 22 de marzo de 1995', 'Resolución MAH/2158/2004', 'Orden de 27 de marzo de 1990', 'sentencia de 20 de junio de 2016', 'Resolución de 11 de enero de 2005', 'Resolución TES/92/2014', 'Ley 8/2007', 'Sentencia de 5 de julio de 2016', 'Orden de 1 de septiembre de 1993', 'Sentencia de 17 de abril de 2017', 'Resolución de 2 de febrero de 2004', 'Resolución TES/340/2014', 'Ley 14/1986', 'Resolución MAH/1287/2005', 'Ley 12/2012', 'Orden ECF/406/2009', 'Sentencia de 27 de octubre de 2016', 'Real Decreto 1124/2000', 'Ley 13/2001', 'Real Decreto 948/2005', 'Real Decreto 1120/2012', 'Real Decreto 180/2008', 'Orden MAH/98/2007', 'Orden PRE/2426/2004', 'Real decreto 1381/2002', 'Real Decreto 799/2011', 'Resolución EMO/1822/2015', 'Resolución TES/2118/2017', 'Orden de 1 de marzo de 1999', 'Resolución MAH/685/2010', 'Real Decreto 1541/1994', 'Real Decreto 1030/2006', 'Real decreto 162/1991', 'Resolución de 9 de diciembre de 2016', 'Resolución de 25 de junio de 2009', 'Orden ARP/324/2015', 'Resolución de 29 de mayo de 2008', 'Real Decreto 338/2010', 'Resolución EMC/1788/2018', 'Orden ITC/1683/2007', 'Real Decreto 1428/1992', 'Real Decreto-ley 24/2020', 'Real Decreto 1290/2012', 'Resolución MAH/1644/2005', 'Orden TES/8/2017', 'Real Decreto 20/2016', 'Resolución de 14 de mayo de 2008', 'Orden ITC/3995/2006', 'Real Decreto 270/2014', 'Ley 7/2004', 'Orden de 29 de julio de 1991', 'Resolución MAH/1449/2009', 'Orden de 9 de abril de 1984', 'Resolución TES/240/2017', 'real decreto 1942/1993', 'Real Decreto 226/2006', 'Real Decreto 949/2009', 'Orden de 22 de diciembre de 1992', 'Real Decreto 474/1988', 'Orden TES/53/2016', 'Orden de 18 de octubre de 1994', 'Real Decreto 667/2015', 'Orden IET/2434/2012', 'Resolución de 19 de julio de 2013', 'Real Decreto 29/2011', 'Resolución de 30 de marzo de 2017', 'Resolución de 31 de julio de 1998', 'Orden ARM/1783/2011', 'Resolución TES/2975/2012', 'Resolución TES/1084/2017', 'Real Decreto-ley 36/2020', 'Reglamento (UE) 2016/425', 'Reglamento (UE) 801/2013', 'Resolución de 31 de enero de 2013', 'Resolución de 9 de mayo de 2018', 'Orden INT/173/2012', 'Reglamento (UE) 2019/1010', 'Resolución EMO/414/2011', 'Real Decreto 1116/84', 'Resolución de 28 de septiembre de 2020', 'Orden AAM/299/2012', 'Orden de 26 de mayo de 1976', 'Resolución de 17 de septiembre de 2020', 'Resolución de 29 de mayo de 2017', 'Orden PRE/252/2006', 'Real Decreto Legislativo 3/2011', 'Real Decreto legislativo 4/2004', 'Resolución MAH/1680/2009', 'Real Decreto-ley 26/2020', 'Resolución de 30 de enero de 2017', 'Orden FOM/456/2014', 'Orden PRE/839/2010', 'Orden AAA/2056/2014', 'Real Decreto 1620/2007', 'Sentencia de 20 de enero de 2009', 'Sentencia 57/2015', 'Resolución de 20 de noviembre de 2014', 'Resolución de 14 de junio de 2011', 'Real Decreto 1299/2006', 'Resolución MAH/3627/2010', 'Orden HAP/369/2015', 'Orden SLT/519/2006', 'Real Decreto 197/2016', 'Resolución INT/383/2020', 'Ley 34/2007', 'Real Decreto 831/2013', 'Resolución de 3 de abril de 2001', 'Reglamento (UE) 2019/1691', 'Resolución de 26 de diciembre de 2014', 'Orden IET/2736/2012', 'Orden IET/1075/2012', 'Orden CIN/2570/2011', 'Orden ARM/2213/2010', 'Orden AAA/2272/2013', 'Resolución EMC/2898/2016', 'Sentencia 69/2018', 'Orden PCI/810/2018', 'Sentencia de 5 de mayo de 2017', 'Real Decreto 740/2013', 'Orden PRE/456/2007', 'Resolución TES/636/2020', 'Real Decreto-ley 7/2016', 'Real Decreto 128/2013', 'Real Decreto 742/2013', 'Resolución de 19 de mayo de 2017', 'Reglamento (UE) 1042/2012', 'Orden ITC/2699/2011', 'Real Decreto 1488/1998', 'Real Decreto 777/2006', 'Resolución de 29 de octubre de 2014', 'Sentencia 152/2016', 'Real Decreto 1675/2010', 'Real Decreto 1388/2011', 'Resolución MAH/908/2010', 'Orden APM/205/2018', 'Resolución TES/730/2018', 'Real Decreto 1439/2010', 'Ley 22/83', 'Real decreto 888/2006', 'Resolución de 8 de mayo de 2014', 'Reglamento (UE) 2018/842', 'Orden de 26 de mayo de 1989', 'Orden INT/193/2011', 'Resolución de 16 de diciembre de 2013', 'Orden de 30 de octubre de 1992', 'Real Decreto 2487/1994', 'Real Decreto 2102/1996', 'Resolución de 26 de noviembre de 2002', 'Sentencia 205/2016', 'Resolución TES/1274/2016', 'Resolución de 24 de marzo de 2015', 'Resolución de 24 de septiembre de 2007', 'Resolución de 19 de septiembre de 2013', 'Acuerdo Multilateral M-214', 'Orden IET/2444/2014', 'Orden TES/131/2015', 'Orden FOM/808/2006', 'Resolución de 8 de septiembre de 2015', 'Ley 11/2012', 'Orden Circular 7/2001', 'Resolución TES/859/2017', 'Orden ITC/3022/2007', 'Ley 15/1995', 'Ley 17/2012', 'Real Decreto-ley 15/2018', 'Resolución EMO/1344/2015', 'Orden FOM/938/2008', 'Resolución de 26 de julio de 2018', 'Resolución TES/2910/2016', 'Resolución de 29 de marzo de 2006', 'Nota de servicio 2/2007', 'Orden PRE/1393/2004', 'Sentencia de 3 de noviembre de 2015', 'Real Decreto 1494/2007', 'Real Decreto 1737/2010', 'Orden INT/826/2020', 'Real Decreto-ley 8/2008', 'Resolución de 20 de noviembre de 2018', 'Orden de 27 de junio de 1997', 'Orden de 8 de abril de 1999', 'Resolución AAM/376/2015', 'Ley 48/2015', 'Orden FOM/2931/2015', 'Real Decreto 1218/2002', 'Real Decreto 701/2016', 'Real Decreto 1086/2015', 'Real Decreto 374/2001', 'Orden de 2 de mayo de 1994', 'Real Decreto 505/2007', 'Real Decreto-ley 5/2020', 'Nota de Servicio 7/2001', 'Resolución de 15 de noviembre de 2007', 'Real Decreto 53/1992', 'Orden APA/1556/2002', 'Sentencia de 8 de julio de 2013', 'Orden INT/15/2012', 'Orden CIN/1865/2011', 'Real Decreto 1265/2005', 'Sentencia de 22 de septiembre de 2016', 'Real Decreto 255/2013', 'Nota de servicio 4/2001', 'Orden de 5 de septiembre de 1985', 'Orden ECF/326/2007', 'Orden ESS/1068/2015', 'Orden FOM/1320/2016', 'Real Decreto 1254/1999', 'Real decreto 1782/2004', 'Real Decreto 1381/2002', 'orden de 10 de agosto de 1976', 'Orden de 31 de marzo de 1986', 'Resolución de 19 de abril de 2018', 'Orden de 31 de octubre de 2000', 'Resolución de 22 de octubre de 2015', 'Orden de 13 de junio de 1985', 'Resolución MAH/1638/2005', 'Ley 10/1998', 'Real Decreto 451/2020', 'Real Decreto 1830/1995', 'Resolución INT/1463/2020', 'Real decreto 1613/1985', 'Resolución de 14 de noviembre de 2018', 'Orden IET/2804/2012', 'Orden MAH/119/2006', 'Resolución de 2 de abril de 2007', 'LEY 13/2003', 'Ley 14/2000', 'Orden ECF/389/2008', 'Orden IET/289/2015', 'Real Decreto 1042/2017', 'Orden IET/631/2012', 'Real Decreto 1381/2009', 'Orden FOM/163/2014', 'Real Decreto 1995/1978', 'Reglamento (UE) 2015/1428', 'Resolución de 22 de diciembre de 2008', 'Orden ECF/502/2010', 'Orden AAA/990/2015', 'Resolución MAH/1498/2010', 'Reglamento (UE) 2018/1999', 'Ley 11/2010', 'Real Decreto 1075/2015', 'Real Decreto 960/2020', 'Real Decreto 828/1995', 'Reglamento (UE) 2019/636', 'Orden ECF/409/2009', 'Ley 24/2013', 'Real Decreto 733/2019', 'Orden FOM/822/2015', 'Resolución de 28 de julio de 1998', 'Ley 9/2020', 'Orden FOM/606/2018', 'Real Decreto-ley 2/2013', 'Resolución MAH/2108/2009', 'Real Decreto 1411/2018', 'Real Decreto 786/2001', 'Orden SCO/317/2003', 'Resolución de 28 de septiembre de 2012', 'Real Decreto 473/1988', 'Real Decreto 920/2017', 'Real Decreto 1217/1997', 'Orden MAM/1390/2005', 'Resolución de 16 de octubre de 2007', 'Orden de 31 de agosto de 1992', 'Reglamento (UE) 2017/735', 'Real Decreto 110/2015', 'Resolución de 3 de abril de 2012', 'ley 11/2013', 'Real Decreto 543/2007', 'Reglamento (UE) 2019/2020', 'Resolución EMC/1627/2018', 'Ley 37/2015', 'Real Decreto 34/2008', 'Resolución de 23 de junio de 2017', 'Resolución TES/343/2014', 'Orden ITC/3046/2009', 'Real Decreto 2159/1978', 'Real Decreto 631/2013', 'Reglamento (UE) 2019/37', 'Resolución de 23 de julio de 2008', 'Resolución EXI/1601/2016', 'Orden PRE/696/2008', 'Ley 2/2012', 'Real decreto 378/1977', 'Orden circular 36/2015', 'Resolución de 18 de noviembre de 2010', 'Real Decreto 1315/1992', 'Resolución MAH/2577/2006', 'Real Decreto 2267/2004', 'Real Decreto 3349/1983', 'Orden ITC/2632/2010', 'Resolución TES/1406/2019', 'Resolución de 7 de junio de 2005', 'Real Decreto 1420/2006', 'Orden de 14 de septiembre de 2001', 'Orden PRE/370/2012', 'Reglamento (UE) 2015/1221', 'Resolución EMC/1124/2018', 'Orden IET/1168/2014', 'Orden PCI/488/2019', 'Real Decreto 1251/2001', 'Orden ITC/3219/2011', 'Ley 5/2015', 'Real Decreto 821/2008', 'Orden TMA/254/2020', 'ley 7/2020', 'Orden EMO/216/2011', 'Real Decreto 222/2001', 'Ley 16/2002', 'Ley 27/2011', 'Real Decreto Legislativo 7/2015', 'Real Decreto 704/2011', 'Real Decreto 1594/1997', 'Sentencia 88/2018', 'Orden de 21 de febrero de 1997', 'Ley 24/1988', 'Orden AAM/188/2013', 'Real Decreto 45/1996', 'Resolución de 1 de febrero de 2016', 'Real Decreto 197/2010', 'Orden ICT/366/2002', 'Reglamento (UE) 2020/2171', 'Reglamento (UE) 784/2012', 'Orden de 27 de mayo de 1971', 'Resolución de 13 de enero de 2000', 'Orden de 3 de abril de 1992', 'Resolución de 9 de julio de 2009', 'Ley 10/2019', 'Real Decreto-ley 12/2011', 'Orden de 31 de marzo de 1981', 'Nota de servicio 4/2010', 'Real Decreto 681/2003', 'Real Decreto 177/2015', 'Orden ITC/1701/2006', 'Orden de 9 de mayo de 1962', 'Real Decreto 688/2005', 'Resolución de 13 de noviembre de 2015', 'orden de 12 de noviembre de 1987', 'Real Decreto 140/2003', 'Orden IET/3586/2011', 'Orden de 23 de febrero de 1996', 'Real Decreto 738/2015', 'Resolución TES/792/2017', 'Resolución de 15 de febrero de 2012', 'Resolución de 16 de diciembre de 2020', 'Resolución de 16 de septiembre de 2020', 'Resolución TES/1521/2015', 'Resolución de 27 de marzo de 2009', 'Ley 8/2005', 'Ley 9/2008', 'ORDEN VEH/130/2017', 'Orden ITC/2643/2007', 'Resolución de 25 de abril de 2012', 'Orden de 30 de mayo de 1990', 'Reglamento (UE) 2018/669', 'Real Decreto 2549/1994', 'Acuerdo multilateral M-168', 'Reglamento (UE) 2015/1137', 'Real Decreto 1114/2018', 'Real Decreto 1700/2011', 'Resolución de 2 de julio de 2020', 'Resolución TES/471/2015', 'Real Decreto-ley 15/2014', 'Ley 18/1989', 'Orden ITC/1389/2008', 'Orden ARM/1195/2011', 'Ley 6/1977', 'Orden TEC/212/2019', 'Real Decreto 216/1999', 'Resolución de 16 de octubre de 2017', 'Orden AAM/43/2014', 'Orden PRE/3420/2007', 'Orden Circular 39/2017', 'Real Decreto 1359/2011', 'Real Decreto-ley 28/2018', 'Orden IET/359/2016', 'Ley 22/2013', 'Orden ITC/1201/2006', 'Real Decreto 893/2013', 'Orden FOM/769/2014', 'Real Decreto 1036/2009', 'Orden IET/2271/2015', 'Orden SLT/186/2016', 'Real Decreto 212/2002', 'Resolución de 5 de junio de 2018', 'Resolución de 8 de abril de 2008', 'Resolución MAH/3804/2009', 'Orden HAP/2328/2014', 'Real Decreto 1154/2020', 'Ley 18/2014', 'Orden de 24 de octubre de 1979', 'ley 3/1996', 'Orden de 31 de julio de 1987', 'Resolución de 27 de marzo de 2014', 'Resolución EMC/1653/2020', 'Resolución TES/2296/2014', 'Sentencia de 14 de marzo de 2019', 'Real Decreto 1695/2012', 'Real Decreto 709/2015', 'Real decreto 769/1999', 'Real Decreto 253/2004', 'Orden ECO/60/2014', 'Orden ECO/1985/2002', 'Orden IET/2458/2013', 'Real Decreto 2201/1995', 'Real Decreto 300/2011', 'Orden APM/206/2018', 'Acuerdo Multilateral M-160', 'Real Decreto-ley 17/2017', 'Resolución de 16 de abril de 2012', 'Resolución de 31 de octubre de 2018', 'Real decreto 1836/1999', 'Ley 32/2014', 'Resolución MAH/2194/2006', 'Real Decreto 125/2007', 'Real Decreto 1644/2008', 'Resolución TES/363/2013', 'Orden ARM/3797/2008', 'Real Decreto 1310/90', 'Resolución TES/1341/2016', 'Reglamento (UE) 2020/878', 'Sentencia de 12 de marzo de 2019', 'Real Decreto 575/2013', 'Resolución de 9 de febrero de 2016', 'Orden de 11 de octubre de 1996', 'Reglamento (UE) 2016/1688', 'Resolución de 23 de noviembre de 2006', 'Real Decreto 115/2017', 'Real Decreto 1244/1979', 'Real Decreto-ley 7/2013', 'Orden SCO/3719/2005', 'Real Decreto 459/2011', 'Real Decreto 903/1987', 'Resolución MAB/2875/2003', 'Orden AAA/1601/2012', 'Ley 3/1985', 'Real Decreto 1101/2011', 'Resolución de 1 de febrero de 2005', 'Resolución MAH/766/2010', 'Resolución TES/2277/2018', 'Resolución de 27 de mayo de 2009', 'Real Decreto 1324/2002', 'Resolución EMC/2692/2019', 'Orden de 28 de Junio de 1988', 'Orden de 7 de Noviembre de 1983', 'Orden de 19 de diciembre de 1989', 'Orden TES/7/2020', 'Real decreto 1751/1998', 'Resolución MAH/3335/2009', 'Reglamento (UE) 2016/2235', 'Acuerdo Multilateral M-259', 'Orden de 16 de julio de 1979', 'Ley 50/1998', 'Orden ECO/283/2015', 'Real decreto 2016/2004', 'Real Decreto 598/1994', 'Resolución MAH/3398/2009', 'Resolución TES/3100/2011', 'Resolución INT/1674/2019', 'Reglamento (UE) 2015/628', 'Ley 27/2007', 'Real Decreto 971/2014', 'Orden ITC/2534/2009', 'Reglamento (UE) 2016/646', 'Reglamento (UE) 2016/918', 'Resolución de 1 de noviembre de 2001', 'Resolución EMC/1767/2020', 'Resolución SLT/2228/2020', 'Orden PRE/1253/2005', 'Resolución de 24 de julio de 2017', 'Orden ECF/516/2007', 'Resolución MAH/1957/2009', 'Orden de 7 de octubre de 1991', 'Sentencia de 18 de octubre de 2006', 'Sentencia de 25 de marzo de 2019', 'Real Decreto 637/2007', 'Real Decreto 862/2008', 'Real Decreto 171/2004', 'Reglamento (UE) 2019/1020', 'Resolución SLT/2230/2020', 'Resolución SLT/2396/2020', 'Real Decreto 1892/2004', 'Real Decreto-ley 15/2013', 'Real Decreto-ley 3/2012', 'Sentencia de 21 de marzo de 2011', 'Orden TIN/1448/2010', 'Real Decreto 4/2008', 'ley 26/2007', 'Real Decreto 975/2009', 'Real Decreto 951/2014', 'Ley 20/1986', 'Orden MAM/3364/2002', 'Reglamento (UE) 2018/831', 'Orden PRE/772/2016', 'Ley 26/2015', 'Resolución de 23 de octubre de 1991', 'Orden de 13 de abril de 1989', 'Orden de 17 de diciembre de 2001', 'Orden de 17 de diciembre de 1985', 'Orden MAH/161/2010', 'Real Decreto 997/2002', 'Orden TEC/813/2019', 'Resolución de 8 de agosto de 1997', 'Real Decreto 219/2013', 'Orden de 20 de noviembre de 2000', 'Orden TIC/264/2003', 'Real Decreto-ley 8/2014', 'Resolución EMO/600/2015', 'Orden PRE/468/2008', 'Resolución de 17 de abril de 2017', 'Resolución de 26 de marzo de 2009', 'Orden PRE/3856/2005', 'Ley 17/2009', 'Real Decreto 1073/2002', 'Ley 40/2007', 'Orden Circular 20/2006', 'Sentencia de 25 de octubre de 2017', 'Orden MAM/3207/2006', 'Reglamento (UE) 2019/2024', 'Orden Circular 41/2017', 'Resolución TES/1200/2019', 'Resolución de 18 de mayo de 2004', 'Orden PRE/2315/2015', 'Orden AAM/420/2012', 'Orden TEC/544/2019', 'Orden FOM/2330/2007', 'Real Decreto 103/2009', 'Real Decreto 1072/2015', 'Resolución de 16 de noviembre de 2015', 'Ley 31/1995', 'Sentencia 139/2016', 'Real Decreto 1090/2010', 'Orden ARP/455/2006', 'Real Decreto 411/1997', 'Resolución de 8 de septiembre de 2006', 'Orden MAM/2192/2005', 'Resolución TSF/1795/2016', 'Resolución MAH/2110/2004', 'Resolución de 22 de diciembre de 2005', 'Real Decreto 1993/1995', 'Real Decreto 201/2012', 'Resolución PTO/641/2004', 'Orden TRI/395/2005', 'Orden AAM/342/2014', 'Real Decreto 476/2014', 'Real Decreto 780/1998', 'Circular 2/2007', 'Orden de 30 de junio de 1993', 'Ley 9/2019', 'Orden de 29 de julio de 1996', 'Real Decreto 995/2000', 'Orden de 7 de abril de 1981', 'Orden JUS/318/2018', 'Resolución INT/1865/2018', 'Orden ARM/2676/2009', 'Orden PCM/831/2020', 'Orden PRE/2743/2006', 'Real Decreto 173/2010', 'Real Decreto 203/2016', 'Real Decreto 233/2008', 'Real Decreto 817/2009', 'Resolución EMC/1615/2017', 'Resolución de 13 de marzo de 2006', 'Real Decreto 301/2011', 'Ley 9/2015', 'Orden ETU/258/2017', 'Orden PCM/810/2020', 'Orden TIN/1071/2010', 'resolución de 22 de marzo de 2010', 'Real Decreto 142/2002', 'Orden de 3 de septiembre de 1998', 'Resolución de 16 de marzo de 2011', 'Resolución TRE/2549/2007', 'Real Decreto 2060/2008', 'Orden FOM/2523/2014', 'Orden TMA/178/2020', 'Sentencia de 26 de julio de 2016', 'Resolución de 9 de junio de 2010', 'Resolución de 27 de enero de 2017', 'Resolución MAH/1332/2005', 'Sentencia de 27 de octubre de 2003', 'Orden EMO/254/2013', 'LEY 49/1999', 'Resolución EMC/270/2017', 'Real Decreto 1616/2009', 'Real Decreto 1624/1992', 'Real Decreto-ley 18/2018', 'Real Decreto 1416/2001', 'Resolución de 4 de mayo de 2015', 'Real Decreto 605/2006', 'Orden TMA/419/2020', 'Orden Circular 21/2007', 'Ley 17/1987', 'Orden TMA/278/2020', 'Real Decreto 126/2015', 'Orden IET/338/2014', 'Reglamento (UE) 2019/1021', 'Resolución de 30 de abril de 2013', 'Real Decreto 19/2016', 'Orden HAC/235/2019', 'Orden IET/1882/2014', 'Sentencia de 23 de mayo de 2014', 'Orden PRE/2610/2011', 'Resolución de 15 de julio de 2016', 'Real Decreto-Ley 4/2007', 'Orden TEC/1196/2018', 'Orden PRE/630/2011', 'Real Decreto 1341/2007', 'Acuerdo Multilateral M-173', 'Ley 33/2010', 'Real Decreto 71/2016', 'Orden de 23 de marzo de 2001', 'Resolución EMC/2821/2020', 'Resolución TES/2003/2013', 'Real Decreto 35/2008', 'Acuerdo Multilateral M-171', 'Orden de 18 de julio de 1991', 'Resolución de 26 de diciembre de 2013', 'Orden ITC/3108/2010', 'Orden ECF/368/2008', 'Orden de 4 de septiembre de 1989', 'Orden AAM/207/2011', 'Ley 11/2005', 'Orden ITC/2765/2005', 'Real Decreto-ley 1/2014', 'Orden ARM/1840/2010', 'Resolución de 5 de febrero de 2013', 'Sentencia de 24 de enero de 2011', 'Ley 10/2012', 'Orden TED/426/2020', 'Resolución TES/507/2016', 'Orden ESS/1368/2012', 'Resolución de 25 de abril de 2016', 'Resolución de 10 de marzo de 2020', 'Resolución de 21 de septiembre de 2017', 'Resolución EMC/1715/2018', 'Orden PRE/1983/2007', 'Orden TIC/77/2003', 'Resolución MAH/4041/2007', 'Orden de 16 de julio de 1999', 'Ley 43/2010', 'Resolución de 28 de mayo de 2013', 'Orden TAS/3018/2006', 'Reglamento (UE) 2016/1017', 'Resolución de 10 de diciembre de 2004', 'Resolución de 5 de noviembre de 2010', 'Orden PRE/1244/2006', 'Real Decreto 1428/2009', 'Real Decreto 552/2014', 'Orden de 22 de febrero de 1991', 'Real Decreto 9/2005', 'Orden TAS/2947/2007', 'Real Decreto 367/2010', 'Orden SSI/445/2015', 'Orden TAS/3623/2006', 'Real Decreto 235/2018', 'Real decreto 2102/1996', 'Reglamento (UE) 2019/2023', 'Resolución de 25 de septiembre de 2001', 'Reglamento (UE) 2018/675', 'Orden PRE/2383/2010', 'Real Decreto 22/2014', 'Acuerdo Multilateral M-175', 'Orden IET/759/2013', 'Orden PRE/26/2014', 'Orden de 20 de diciembre de 1995', 'Real Decreto 668/1980', 'Orden de 25 de abril de 1997', 'Resolución PTO/2557/2009', 'Real Decreto 189/2013', 'Real Decreto 617/2017', 'Real Decreto 897/2017', 'Orden INT/23/2013', 'Orden de 15 de marzo de 1996', 'Orden de 31 de octubre de 1973', 'Orden ARP/329/2016', 'Resolución de 31 de julio de 2012', 'Resolución de 13 de octubre de 1999', 'Resolución INT/519/2017', 'Resolución TES/2009/2015', 'Orden ITC/694/2008', 'Orden TES/130/2015', 'Orden de 27 de diciembre de 1999', 'Real Decreto 1255/2010', 'Orden de 25 de marzo de 1998', 'Real Decreto 1316/1989', 'Resolución de 28 de diciembre de 2016', 'Ley 13/1989', 'Reglamento (UE) 2019/978', 'Real Decreto-ley 5/2005', 'Real Decreto Legislativo 1302/1986', 'Resolución de 15 de diciembre de 2008', 'Real decreto 463/2020', 'Resolución de 15 de enero de 2001', 'Orden IET/931/2015', 'Orden ITC/3993/2006', 'Resolución de 27 de octubre de 2015', 'Real Decreto 138/2000', 'Orden de 28 de julio de 1989', 'Resolución TES/394/2020', 'Real Decreto 237/2000', 'Ley 1/2011', 'Orden Circular 40/2017', 'Orden PRE/3298/2004', 'Real Decreto 1159/2010', 'Resolución de 19 de noviembre de 1999', 'Orden MAH/224/2009', 'Real Decreto 947/2015', 'Orden de 21 de agosto de 1967', 'Orden PRE/2476/2015', 'orden IET/2013/2013', 'Orden AAA/661/2013', 'Resolución de 25 de julio de 2017', 'Real Decreto 1002/2012', 'Real Decreto 707/2002', 'Orden SND/535/2020', 'Resolución de 1 de junio de 2006', 'Orden PRE/1435/2013', 'Real Decreto 355/2015', 'Real Decreto 706/2017', 'Resolución de 22 de junio de 1987', 'Orden TED/749/2020', 'Resolución de 17 de febrero de 2004', 'Real Decreto 930/1992', 'Real Decreto 1749/1984', 'Orden de 23 de diciembre de 1986', 'Sentencia de 7 de marzo de 2012', 'Orden de 20 de noviembre de 1998', 'Circular 2/2017', 'Real Decreto 1215/1997', 'Orden INT/2323/2011', 'Orden PRE/2356/2010', 'Resolución de 7 de noviembre de 2019', 'Resolución de 29 de febrero de 2012', 'Resolución ARP/3109/2005', 'Resolución de 13 de noviembre de 2012', 'Resolución de 28 de enero de 1999', 'Resolución de 9 de septiembre de 2013', 'Orden Circular 8/2001', 'Orden de 15 de septiembre de 2000', 'Real Decreto 1334/2012', 'Ley 30/2002', 'Real Decreto 2068/1996', 'Real Decreto 1071/2015', 'Orden PRE/2957/2008', 'Real Decreto 849/1986', 'Orden TRE/333/2008', 'Orden PRE/2429/2008', 'Real Decreto 678/2014', 'Orden de 22 de marzo de 1993', 'Reglamento (UE) 2016/631', 'Reglamento (UE) 2017/745', 'Orden ETU/1282/2017', 'Resolución de 6 de abril de 2017', 'Resolución TES/1006/2018', 'Resolución MAH/1189/2009', 'Real Decreto 47/2007', 'Resolución INT/1001/2019', 'Ley 2/1982', 'Ley 5/1990', 'Real Decreto 192/1988', 'Orden ECO/9/2011', 'Circular 7/2012', 'Real Decreto 1826/2009', 'Orden IET/1014/2013', 'Reglamento (UE) 2016/2281', 'Reglamento (UE) 2015/1006', 'Reglamento (UE) 2015/757', 'Orden MAM/190/2006', 'Resolución de 12 de abril de 2012', 'Resolución TES/609/2014', 'Real Decreto 1812/1994', 'Resolución TES/860/2017', 'Ley 10/2001', 'Orden TEC/1399/2018', 'Real Decreto 1795/2008', 'Real Decreto 355/2013', 'Real Decreto 616/2007', 'Real Decreto 1715/2012', 'Real Decreto 1536/2011', 'Real Decreto 717/2010', 'Resolución de 19 de noviembre de 2003', 'Ley 4/2018', 'Resolución de 15 de abril de 2019', 'Resolución INT/904/2011', 'Real Decreto 769/2012', 'Sentencia 87/2019', 'Resolución de 21 de noviembre de 2001', 'Ley 45/1999', 'Orden SND/413/2020', 'Real Decreto 1090/2015', 'Resolución de 8 de octubre de 2013', 'Ley 28/2014', 'Orden de 25 de febrero de 1980', 'Real Decreto 85/1996', 'Resolución MAH/637/2007', 'Real Decreto-ley 9/2017', 'Orden INT/175/2011', 'Resolución de 19 de abril de 2016', 'Real Decreto 110/2008', 'Orden de 20 de julio de 1976', 'Orden de 3 de noviembre de 1994', 'Orden TRI/110/2005', 'Real Decreto 1769/2007', 'Orden ECO/330/2011', 'Resolución EMO/2982/2011', 'Orden TRI/296/2005', 'Resolución TES/2034/2013', 'Real decreto 445/1994', 'Orden MAB/273/2002', 'Resolución de 13 de diciembre de 2000', 'Real Decreto 899/2017', 'Real Decreto 1468/2008', 'Real Decreto 1055/2014', 'Acuerdo Multilateral M-164', 'Real Decreto 35/2014', 'Resolución EMO/2891/2014', 'Real Decreto 752/2011', 'Orden PRE/3338/2007', 'Orden AAR/467/2009', 'Orden de 11 de octubre de 1988', 'Real Decreto 847/2011', 'Reglamento (UE) 2015/1940', 'Orden de 31 de mayo de 2001', 'Orden de 21 de octubre de 1982', 'Resolución TES/1664/2019', 'Real Decreto 1513/2005', 'Resolución de 24 de octubre de 1994', 'Orden PRE/1982/2007', 'Orden MAH/94/2004', 'Real Decreto 419/1993', 'Real Decreto-Ley 1/1986', 'Ley 9/1995', 'Resolución de 4 de mayo de 2010', 'Real Decreto 334/2019', 'Ley 13/2015', 'Orden ITC/3655/2005', 'Resolución de 26 de mayo de 2009', 'Orden ITC/1721/2009', 'Resolución de 24 de junio de 2011', 'Ley 1/2012', 'Orden de 21 de octubre de 1999', 'Real Decreto 255/2003', 'Orden Pre/2666/2002', 'Real Decreto 1626/1997', 'Resolución MAH/514/2010', 'Resolución de 28 de enero de 2014', 'Resolución TES/2690/2017', 'Orden de 27 de mayo de 1992', 'Resolución de 14 de marzo de 2000', 'Orden PRE/2556/2002', 'Orden ESS/256/2018', 'Orden TRE/241/2007', 'Real Decreto 1407/1992', 'Orden de 4 de febrero de 1994', 'Orden ITC/445/2006', 'Orden ITC/933/2011', 'Orden PRE/928/2012', 'Real Decreto 773/2017', 'Real Decreto 1247/1995', 'Orden PRE/628/2011', 'Orden Circular 31/2012', 'Orden de 26 de diciembre de 1995', 'Real Decreto legislativo 1302/1986', 'Resolución de 29 de noviembre de 2017', 'Resolución TES/1967/2015', 'Orden MAH/122/2004', 'Resolución de 26 de marzo de 2020', 'Orden FOM/93/2008', 'Resolución de 11 de octubre de 2017', 'Resolución TES/1256/2015', 'Ley 42/75', 'Nota de servicio 1/2015', 'Ley 12/2004', 'Orden APM/189/2018', 'Real Decreto 865/1997', 'Orden SND/399/2020', 'Real Decreto 1700/2003', 'Real Decreto 952/1997', 'Real Decreto-Ley 3/2006', 'Resolución de 4 de febrero de 2015', 'Resolución EMC/1918/2019', 'Resolución MAH/2064/2009', 'Resolución EMC/1204/2019', 'Reglamento (UE) 143/2011', 'Real Decreto 2177/2004', 'Resolución de 8 de enero de 2016', 'Resolución de 8 de agosto de 1995', 'Orden ARP/12/2017', 'Real decreto 1579/2006', 'Real Decreto 1377/2009', 'Resolución TES/2673/2013', 'Resolución SLT/2875/2020', 'Orden IET/1491/2013', 'Sentencia de 8 de julio de 2019', 'Resolución de 22 de septiembre de 2009', 'Orden AAA/1834/2014', 'Real Decreto 1515/2007', 'Sentencia de 6 de octubre de 2017', 'Resolución TES/3250/2020', 'Ley 5/90', 'Orden IET/1953/2015', 'Orden de 23 de septiembre de 1987', 'Orden PRE/2922/2005', 'Ley 3/2017', 'Resolución de 13 de marzo de 2020', 'Real Decreto 710/2015', 'Orden FOM/3769/2007', 'Orden MAB/133/2003', 'Resolución de 10 de mayo de 2006', 'Real Decreto 986/2015', 'Real Decreto 901/2015', 'Orden SND/271/2020', 'Real Decreto 1085/2009', 'Real Decreto-ley 16/2012', 'Orden AAA/458/2013', 'Reglamento (UE) 2016/1388', 'Orden ESS/1003/2016', 'Real Decreto 889/2006', 'Real decreto 102/2011', 'Orden Circular 35/2014', 'Orden de 2 de febrero de 1998', 'Real Decreto 1544/2011', 'Real Decreto 1084/2014', 'Ley 6/2018', 'Reglamento (UE) 2020/171', 'Orden ITC/2585/2007', 'Real Decreto 634/2015', 'Resolución de 21 de diciembre de 2012', 'Orden de 26 de marzo de 2001', 'Orden de 2 de diciembre de 1982', 'Orden MAB/401/2003', 'Resolución de 9 de noviembre de 2005', 'Ley 2/2008', 'Resolución de 27 de noviembre de 2003', 'Orden HAP/703/2013', 'Resolución de 10 de julio de 1995', 'Orden TRE/228/2002', 'Real Decreto 670/2013', 'Reglamento (UE) 408/2011', 'Resolución TES/348/2014', 'Orden de 18 de septiembre de 1995', 'Orden MAM/1872/2004', 'Resolución de 13 de julio de 2009', 'Resolución TES/2330/2014', 'Orden SSI/200/2013', 'Resolución TES/716/2012', 'Resolución TES/532/2016', 'Sentencia 61/2015', 'Ley 12/2011', 'Resolución MAH/4084/2008', 'Real Decreto 1406/1989', 'Real Decreto 1131/1988', 'Ley 49/1999', 'Real Decreto-ley 9/2013', 'Reglamento (UE) 2017/1151', 'Ley 11/2020', 'Orden PRE/3290/2002', 'Real Decreto 1330/2012', 'Orden PRE/864/2009', 'Resolución TES/346/2014', 'Real Decreto 263/2019', 'Resolución SLT/2312/2020', 'Orden ESS/1452/2016', 'Real Decreto 124/1994', 'Orden PRE/222/2009', 'Sentencia de 8 de abril de 2019', 'Real Decreto 452/2019', 'Real Decreto 877/2011', 'Sentencia de 14 de julio de 2016', 'Orden FOM/2924/2006', 'Resolución EMC/2954/2016', 'Real Decreto 937/1989', 'Real Decreto-Ley 2/1999', 'Real Decreto-ley 23/2020', 'Orden MAM/3040/2002', 'Orden JUS/992/2015', 'Real Decreto 327/2009', 'Orden VIV/984/2009', 'Orden TED/766/2020', 'Sentencia de 15 de enero de 2009', 'Ley 17/2007', 'Real Decreto 359/2017', 'Resolución de 14 de junio de 1995', 'Resolución TES/683/2012', 'Real Decreto 1466/1995', 'Real Decreto 1315/2005', 'Real Decreto 907/2007', 'Reglamento (UE) 2019/631', 'Real Decreto 1109/2007', 'Orden FOM/2861/2012', 'Orden de 28 de marzo de 1996', 'Real Decreto 227/2006', 'Ley 8/1972', 'Real Decreto 258/1999', 'Real Decreto 400/1996', 'Real Decreto 1432/2008', 'Real Decreto 2019/1997', 'Resolución de 28 de junio de 2004', 'Orden ITC/3165/2009', 'Real Decreto 1031/2007', 'Orden PRE/556/2005', 'Real Decreto 284/1999', 'Resolución EMO/382/2013', 'Resolución JUI/1915/2003', 'Real decreto 2135/1980', 'Orden de 21 de julio de 1982', 'Real Decreto 88/2013', 'Sentencia de 24 de abril de 2017', 'Real Decreto 2061/2008', 'Real Decreto 1495/1991', 'Resolución MAH/1958/2009', 'Orden de 12 de noviembre de 1999', 'Real Decreto 1802/2008', 'Real Decreto 57/2005', 'Real Decreto 699/2013', 'Orden IET/2812/2012', 'Resolución de 5 de agosto de 2016', 'Resolución EMC/1504/2017', 'Orden de 14 de mayo de 1998', 'Orden PRE/2827/2009', 'Real Decreto 436/2010', 'Reglamento (UE) 2017/2392', 'Orden SND/274/2020', 'Resolución de 30 de septiembre de 1998', 'Real Decreto-ley 15/2005', 'Real Decreto 596/2015', 'Orden Circular 320/94', 'Resolución EMO/1908/2011', 'Ley 17/2013', 'Orden INT/323/2012', 'Orden de 12 de noviembre de 1987', 'Orden Circular 33/2013', 'Orden ITC/732/2008', 'Orden de 29 de junio de 2000', 'Real Decreto 783/2001', 'Orden ARM/1029/2009', 'Orden de 14 de abril de 1999', 'Real Decreto 781/2013', 'Resolución SLT/2313/2020', 'Orden de 9 de marzo de 1982', 'Orden DEF/1056/2013', 'Resolución INT/2110/2014', 'Real Decreto 1716/2004', 'Resolución de 20 de mayo de 2004', 'Real Decreto 45/96', 'Orden ITC/473/2011', 'Orden PRE/402/2006', 'Real Decreto 553/2020', 'Resolución TES/1485/2015', 'Resolución TES/2970/2012', 'Real Decreto 1082/2014', 'Resolución TES/2974/2015', 'Real decreto 2210/1995', 'Orden de 5 de octubre de 2001', 'Orden PRE/1016/2008', 'Real Decreto 890/2011', 'Orden MAB/65/2002', 'Orden ITC/1316/2008', 'Real decreto 1942/1993', 'Resolución TES/1175/2016', 'Resolución MAB/3965/2003', 'Real Decreto 3008/1978', 'Real Decreto 1048/2013', 'Real Decreto 249/2010', 'Resolución TES/2657/2016', 'Orden de 6 de agosto de 1991', 'Orden JUS/1698/2011', 'Real Decreto 1564/2010', 'Ley 8/2008', 'Orden de 6 de julio de 2000', 'Resolución de 29 de abril de 2011', 'Orden mab/329/2003', 'Ley 12/2007', 'Sentencia 141/2016', 'Resolución TIC/254/2003', 'Orden INT/316/2003', 'Real Decreto 865/2003', 'Real Decreto 339/2010', 'Resolución TES/2081/2015', 'Ley 15/2003', 'Real decreto 138/2011', 'Real Decreto 653/2003', 'Ley 9/2017', 'Ley 5/2009', 'Real Decreto 650/2017', 'Resolución de 29 de octubre de 2012', 'Resolución de 9 de enero de 2020', 'Orden de 27 de noviembre de 1987', 'Real Decreto 1210/2018', 'Resolución de 29 de julio de 2008', 'Orden de 26 de abril de 1994', 'Orden PRE/473/2004', 'Resolución TES/1769/2016', 'Reglamento (UE) 2019/1338', 'Resolución de 6 de junio de 2011', 'Resolución TES/2974/2012', 'Real Decreto 506/2013', 'Ley 1/2018', 'Orden APM/1007/2017', 'Orden de 1 de marzo de 1984', 'Orden PRE/1165/2010', 'Real Decreto 129/2017', 'Sentencia de 27 de septiembre de 2012', 'Orden ARP/372/2015', 'Real Decreto 717/1987', 'Orden TAS/3768/2005', 'Resolución de 4 de marzo de 1994', 'Resolución de 17 de febrero de 2006', 'Real Decreto 20/2017', 'Orden SLT/570/2010', 'Resolución de 8 de octubre de 2001', 'Resolución de 13 de febrero de 2020', 'Real Decreto 646/2020', 'Resolución TES/1808/2019', 'Ley 22/1973', 'Orden de 9 de marzo de 1994', 'Orden de 6 de Octubre de 1980', 'Real Decreto 638/2019', 'Resolución TES/349/2014', 'Orden ITC/2308/2007', 'Real Decreto 2816/1982', 'Resolución de 6 de mayo de 1994', 'Resolución SLT/1429/2020', 'Reglamento (UE) 2016/460', 'Orden PCI/824/2018', 'Orden EMO/332/2012', 'Sentencia 5/2016', 'Orden TRI/431/2005', 'Resolución de 10 de julio de 2006', 'Resolución de 19 de diciembre de 2017', 'Real Decreto 1866/2004', 'Real Decreto 965/2006', 'Ley 38/1972', 'Real Decreto 243/2009', 'Orden PRE/675/2013', 'Real Decreto 1627/1997', 'Orden TAS/2926/2002', 'Real Decreto 1808/1991', 'Orden ITC/3163/2009', 'Ley 6/2009', 'Orden CTE/964/2004', 'Ley 4/2017', 'Orden ARM/2005/2009', 'Ley 12/2019', 'Orden de 19 de mayo de 1995', 'Orden IUE/71/2009', 'Reglamento (UE) 2015/1933', 'Acuerdo Multilateral M-136', 'Orden AAM/369/2011', 'Real Decreto-ley 13/2012', 'Resolución de 10 de diciembre de 2020', 'Resolución SLT/67/2021', 'Real Decreto 886/1988', 'Ley 11/2018', 'Real Decreto 3485/1983', 'Nota de servicio 1/2016', 'Orden TEC/852/2019', 'Orden PRE/662/2013', 'Resolución TRE/2164/2009', 'Ley 10/2014', 'Orden TEC/1420/2018', 'Orden ETU/315/2017', 'Sentencia 118/2017', 'Resolución de 26 de enero de 2005', 'Resolución TES/1275/2016', 'Orden TEC/625/2018', 'Ley 8/2010', 'Real Decreto 687/2011', 'Orden ETU/257/2018', 'Reglamento (UE) 2016/293', 'Real Decreto 429/2020', 'Sentencia 120/2016', 'Resolución de 27 de octubre de 1999', 'Resolución MAH/3042/2010', 'Orden Circular 11/2002', 'Sentencia de 23 de marzo de 2017', 'Resolución de 22 de enero de 2014', 'Ley 2/2015', 'Reglamento (UE) 2015/166', 'Orden de 31 de Mayo de 1985', 'Real Decreto-ley 9/2006', 'Real Decreto 393/1996', 'Resolución de 1 de febrero de 2018', 'Reglamento (UE) 2015/2285', 'RESOLUCIÓN TES/634/2020', 'Resolución de 25 de noviembre de 2015', 'Resolución SLT/2983/2020', 'Real Decreto 66/2015', 'Acuerdo Multilateral M-228', 'Circular 1/2016', 'Orden Circular 27/2008', 'Orden EMO/55/2011', 'Orden de 21 de enero de 2003', 'Resolución de 17 de diciembre de 2014', 'Orden IET/1344/2015', 'Resolución de 26 de noviembre de 2015', 'Real Decreto 586/2020', 'Resolución MAH/635/2007', 'Real Decreto 108/1991', 'Orden JUS/470/2017', 'Real Decreto 21/2018', 'Ley 15/2013', 'Resolución IUE/2262/2009', 'Real Decreto 507/2001', 'Resolución MAH/961/2004', 'Nota de servicio 2/2010', 'Resolución de 7 de abril de 2010', 'Orden ITC/2877/2008', 'Orden ITC/2308/2008', 'Orden de 21 de Abril de 1981', 'Ley 12/2006', 'Orden FOM/1382/2002', 'Real Decreto-ley 9/2019', 'Resolución de 5 de julio de 2004', 'Resolución de 6 de mayo de 2002', 'Resolución SLT/3268/2020', 'Orden de 5 de octubre de 2000', 'Resolución de 26 de noviembre de 2014', 'Orden de 12 de septiembre de 1991', 'Resolución TES/294/2018', 'Orden de 5 de marzo de 1992', 'REAL DECRETO 1123/2001', 'real decreto 2135/1980', 'Real Decreto 1186/2020', 'Resolución de 11 de diciembre de 2014', 'Resolución de 15 de septiembre de 2011', 'Resolución de 22 de mayo de 2009', 'Reglamento (UE) 2015/2030', 'Resolución de 14 de marzo de 2006', 'Orden ECF/316/2008', 'Ley 6/1983', 'Orden de 11 de diciembre de 1990', 'Orden ICT/123/2002', 'Resolución de 20 de diciembre de 2013', 'Orden APA/863/2008', 'Real Decreto 1165/1995', 'Ley 35/2014', 'Real Decreto 349/2003', 'Resolución de 7 de septiembre de 2015', 'Orden FOM/1635/2013', 'Orden FOM/534/2015', 'Resolución MAB/3737/2002', 'Ley 2/2011', 'Reglamento (UE) 2015/1906', 'Real Decreto 2042/1994', 'Reglamento (UE) 2016/238', 'Reglamento (UE) 2017/706', 'Orden VEH/132/2020', 'Resolución TES/948/2012', 'Real Decreto 79/2019', 'Sentencia de 2 de abril de 2019', 'Resolución de 2 de diciembre de 2015', 'Resolución TES/1182/2016', 'Sentencia 150/2013', 'Ley 43/2002', 'Orden de 29 de junio de 1987', 'Orden de 25 de octubre de 2000', 'Orden ARM/2656/2008', 'Orden de 8 de octubre de 2001', 'Real Decreto 1430/2009', 'Ley 9/2011', 'Resolución de 29 de noviembre de 2011', 'Real Decreto 2994/1982', 'Reglamento (UE) 2016/26', 'Orden IET/849/2012', 'Orden de 20 de febrero de 1997', 'Orden de 16 de diciembre de 1998', 'Resolución de 27 de enero de 2010', 'Orden de 14 de marzo de 1963', 'Ley 39/2010', 'Orden AAR/292/2007', 'Orden de 30 de julio de 1974', 'Real Decreto 1699/2011', 'Real Decreto 509/1996', 'Real Decreto 369/2010', 'Orden PRE/629/2011', 'Reglamento (UE) 2016/1718', 'Real Decreto Legislativo 1/2007', 'Orden de 4 de mayo de 1993', 'Real Decreto 263/2008', 'Reglamento (UE) 2016/1628', 'Orden de 3 de junio de 1999', 'Resolución de 19 de septiembre de 2011', 'Resolución MAH/1034/2005', 'Ley 42/1997', 'Real Decreto-Ley 8/2007', 'Orden PRE/255/2013', 'Ley 13/1994', 'Reglamento (UE) 2019/2021', 'Orden MAM/1444/2006', 'Real Decreto 751/2011', 'Orden de 18 de mayo de 1992', 'Orden FOM/475/2002', 'Circular 2/2009', 'Resolución de 25 de septiembre de 2013', 'Orden de 29 de septiembre de 1966', 'Reglamento (UE) 2015/45', 'Orden TEC/1281/2019', 'Real Decreto 78/2019', 'Real decreto 208/2005', 'Real Decreto 601/2019', 'Orden PRE/337/2005', 'Resolución MAH/1747/2009', 'Resolución de 20 de junio de 2011', 'Orden ARM/1358/2010', 'Resolución MAH/872/2010', 'Orden de 3 de julio de 1987', 'Resolución de 16 de septiembre de 2004', 'Real Decreto Legislativo 2/2011', 'Resolución de 27 de agosto de 2009', 'Acuerdo Multilateral M-178', 'Orden de 8 de febrero de 1996', 'Orden ESS/1554/2016', 'Orden AAM/304/2011', 'Acuerdo Multilateral M-198', 'Real Decreto 2115/1998', 'Real Decreto 1514/2018', 'Real Decreto 202/2006', 'Real Decreto 598/2015', 'Real Decreto 311/2016', 'Orden de 2 de agosto de 1991', 'Reglamento (UE) 2019/1781', 'Reglamento (UE) 2019/1784', 'Resolución TES/1106/2019', 'Orden MAH/566/2009', 'Real Decreto-ley 14/2009', 'Orden INT/2229/2013', 'Real Decreto 1314/1997', 'Real Decreto 13/2008', 'Resolución TES/1714/2020', 'Resolución de 7 de enero de 2011', 'Real Decreto 1078/2015', 'Real Decreto-ley 8/2011', 'Resolución de 5 de septiembre de 2012', 'Orden ECF/610/2010', 'Real Decreto 266/2008', 'Orden TEC/752/2019', 'Acuerdo Multilateral M-273', 'Orden de 28 de junio de 1984', 'Resolución de 16 de febrero de 2017', 'Orden MAH/78/2008', 'Real Decreto 256/2016', 'Real Decreto 129/1985', 'Orden IET/904/2016', 'Orden ITC/1732/2010', 'Ley 26/2007', 'Real Decreto 655/2017', 'Real Decreto 488/1997', 'Reglamento (UE) 2015/1494', 'Orden de 15 de diciembre de 1965', 'Real Decreto 2366/94', 'Ley 13/2014', 'Ley 32/2010', 'Orden de 23 de noviembre de 1974', 'Real Decreto 903/2010', 'Resolución de 24 de enero de 2014', 'Resolución de 31 de julio de 2014', 'Real Decreto Legislativo 1163/1986', 'Resolución de 7 de marzo de 2017', 'Orden FOM/2873/2007', 'Orden AAR/534/2008', 'Real Decreto 1566/1999', 'Resolución SLT/2252/2020', 'Real Decreto 412/2001', 'Ley 15/2009', 'Resolución TES/2031/2013', 'Sentencia de 10 de octubre de 2017', 'Real decreto 115/2017', 'Orden de 5 de junio de 1987', 'Orden de 1 de Septiembre de 1982', 'Orden IET/843/2012', 'Real Decreto 1167/1978', 'Real Decreto-ley 6/2009', 'Reglamento (UE) 2017/459', 'Real Decreto 844/2011', 'Sentencia de 11 de octubre de 2011', 'Ley 30/2005', 'Real decreto 88/2013', 'Resolución MAH/285/2007', 'Orden de 14 de abril de 2000', 'Real Decreto 487/1997', 'Resolución de 27 de febrero de 2019', 'Ley 42/2010', 'Real Decreto 701/2015', 'Resolución TES/391/2015', 'Orden ITC/2857/2008', 'Real Decreto 1055/2015', 'Sentencia de 14 de diciembre de 2018', 'Resolución de 17 de septiembre de 2004', 'Real Decreto 773/2014', 'Real Decreto 679/2014', 'Real Decreto 624/2013', 'Real Decreto 1437/2002', 'Real Decreto Legislativo 1/2013', 'Ley 37/2003', 'Orden ITC/254/2007', 'Real Decreto-ley 16/2017', 'Orden PRE/2745/2012', 'Real Decreto 525/2014', 'Ley 33/2020', 'Real Decreto 773/1997', 'Orden IET/1105/2014', 'Resolución de 20 de junio de 2002', 'ley 2/2020', 'Resolución MAH/1645/2005', 'Orden HAP/685/2014', 'Ley 35/2010', 'Real Decreto Legislativo 8/2015', 'Orden TED/765/2020', 'Resolución de 9 de octubre de 2009', 'Orden PRE/1933/2005', 'Orden TRI/411/2004', 'Real Decreto-ley 8/2017', 'Orden PRE/3476/2003', 'orden de 28 de febrero de 1989', 'Orden de 14 de septiembre de 1981', 'Resolución de 26 de julio de 2012', 'Resolución de 11 de febrero de 2014', 'Resolución MAH/1398/2007', 'Resolución de 11 de septiembre de 2003', 'Resolución MAH/3712/2007', 'real decreto 1406/1989', 'Orden FOM/2283/2012', 'Ley 36/2014', 'Real Decreto 552/2019', 'Orden PRE/2382/2010', 'Orden FOM/1194/2011', 'Orden PRE/2843/2009', 'Real Decreto 1720/2007', 'Real Decreto 231/2014', 'Resolución EMO/2980/2011', 'Resolución de 13 de diciembre de 2016', 'Real Decreto 988/2014', 'Orden de 24 de febrero de 1993', 'Orden de 28 de febrero de 1994', 'Resolución SLT/2700/2020', 'Orden PRA/1080/2017', 'Real Decreto 864/1998', 'Ley 27/2006', 'Resolución de 12 de septiembre de 2013', 'Real Decreto 602/2016', 'Orden de 27 de noviembre de 1995', 'Reglamento (UE) 2017/997', 'Resolución TES/1164/2020', 'Real Decreto 209/2018', 'Orden de 29 de noviembre de 2001', 'Resolución ARP/2981/2019', 'Circular 3/2016', 'Real Decreto 1514/2007', 'Orden ICT/397/2020', 'Real Decreto 1256/2003', 'Sentencia de 28 de junio de 2016', 'Resolución de 21 de diciembre de 2018', 'Resolución de 8 de septiembre de 1987', 'Orden APA/1299/2019', 'Resolución EMO/2699/2014', 'Real Decreto 413/2014', 'Orden PRE/1624/2002', 'Orden SND/520/2020', 'Real Decreto 1619/2012', 'ley 5/2004', 'Resolución de 27 de abril de 1992', 'Sentencia de 7 de diciembre de 2010', 'Resolución de 30 de mayo de 2007', 'Orden AAM/84/2012', 'Real Decreto 1093/2010', 'Reglamento (UE) 2015/1474', 'Orden ICT/971/2020', 'Real Decreto 1591/2009', 'Real decreto-ley 9/2006', 'Orden IUE/339/2009', 'Real Decreto 1664/1998', 'Sentencia de 11 de marzo de 2019', 'Real Decreto 380/2015', 'Ley 23/2015', 'Resolución INT/2455/2013', 'Resolución de 21 de mayo de 2001', 'Resolución de 24 de febrero de 2017', 'Resolución TES/921/2014', 'Orden AAR/448/2010', 'Real Decreto 335/2018', 'Circular 2/2018', 'Orden AAA/699/2016', 'Real Decreto 949/2001', 'Real Decreto 812/2007', 'Ley 5/2007', 'Orden de 15 de diciembre de 1988', 'Resolución de 4 de diciembre de 2006', 'Orden ECF/407/2009', 'Orden de 3 de junio de 1986', 'Real Decreto 404/2010', 'Real Decreto 1161/2010', 'Resolución MAH/2407/2009', 'Ley 7/2011', 'Real decreto 650/1987', 'Real Decreto 2364/1994', 'Orden circular 1/2019', 'Orden ITC/2060/2010', 'Orden SPI/643/2011', 'Orden CTE/3185/2003', 'Orden MAM/3624/2006', 'Resolución TES/2799/2012', 'Real Decreto 187/2011', 'Orden IUE/3/2010', 'Real Decreto Legislativo 6/2004', 'Real Decreto 1123/2001', 'Orden AAR/474/2010', 'ley 4/2015', 'Sentencia 62/2018', 'Orden de 6 de octubre de 1987', 'Orden TMA/259/2020', 'Orden de 24 de abril de 2000', 'Sentencia 84/2020', 'Ley 2/2014', 'Real Decreto 1109/1991', 'Real Decreto 1494/1995', 'Orden ETU/362/2018', 'Resolución de 2 de diciembre de 2019', 'Real Decreto 475/2013', 'Resolución MAH/1204/2005', 'Orden IET/1045/2014', 'Orden circular 14/2003', 'Resolución SLT/2395/2020', 'Resolución de 24 de noviembre de 2017', 'Orden FOM/1190/2005', 'Real Decreto 1010/2015', 'Resolución MAH/1637/2005', 'Circular 1/2015', 'Real Decreto 650/1987', 'Resolución de 9 de febrero de 2012', 'Orden PRA/321/2017', 'Orden MAH/230/2009', 'Real Decreto 734/2019', 'Orden CIN/2954/2009', 'Orden de 31 de marzo de 1967', 'Real Decreto 1088/1992', 'Resolución MAH/4275/2010', 'Resolución TSF/2874/2017', 'Resolución de 28 de febrero de 2011', 'Orden MAH/91/2006', 'Sentencia 211/2012', 'Ley 42/1975', 'Orden HAP/2489/2014', 'Resolución de 3 de agosto de 2015', 'Ley 4/2004', 'Orden ETU/360/2018', 'Resolución TES/108/2019', 'Orden de 6 de julio de 1984', 'Real Decreto 287/2015', 'Orden de 16 de abril de 1998', 'Orden PRE/1206/2014', 'Resolución de 12 de febrero de 2016', 'Real Decreto 464/2003', 'Real Decreto 876/2014', 'Orden ETU/555/2017', 'Orden ITC/1559/2010', 'Real Decreto 128/2014', 'Resolución de 5 de agosto de 2003', 'Ley 5/2014', 'Real Decreto-ley 28/2020', 'Orden AAM/352/2011', 'Real Decreto 244/2019', 'Resolución EMC/192/2016', 'Sentencia de 27 de febrero de 2020', 'Orden MAM/985/2006', 'Orden de 19 de abril de 1994', 'Resolución de 21 de enero de 2016', 'Resolución TES/209/2012', 'Real Decreto 436/2004', 'Resolución de 13 de mayo de 2008', 'Resolución ECF/1345/2009', 'Real Decreto 574/1996', 'Resolución de 26 de marzo de 2018', 'Real Decreto 18/2019', 'Orden SCO/3866/2007', 'Orden TIN/442/2009', 'Resolución de 20 de julio de 2015', 'Resolución de 30 de abril de 2005', 'orden de 13 de septiembre de 1985', 'Orden IET/1752/2014', 'Orden IET/1804/2013', 'Resolución de 26 de mayo de 2017', 'Resolución de 2 de abril de 2009', 'Orden INT/1504/2013', 'Orden INT/314/2011', 'Orden de 19 de diciembre de 1980', 'Real Decreto 320/1994', 'Resolución de 23 de febrero de 2010', 'Resolución de 24 de julio de 1996', 'Resolución TES/955/2018', 'Resolución de 14 de septiembre de 2017', 'Resolución TES/788/2012', 'Sentencia de 21 de mayo de 2019', 'Orden MAH/199/2004', 'Orden PRE/1293/2013', 'Resolución de 18 de enero de 2016', 'Resolución de 22 de septiembre de 2011', 'Orden INT/324/2012', 'Resolución INT/2955/2012', 'Sentencia de 29 de junio de 2011', 'Resolución de 7 de octubre de 2008', 'Orden SSI/890/2017', 'Real Decreto 1626/2011', 'Real Decreto-ley 6/1999', 'Orden MAB/66/2002', 'Real Decreto 290/2015', 'Reglamento (UE) 2017/776', 'Resolución de 28 de julio de 2004', 'Real decreto 1796/2003', 'Real Decreto 809/1999', 'Sentencia 85/2013', 'Real Decreto 1631/1985', 'Resolución de 20 de enero de 2009', 'Reglamento (UE) 2016/266', 'Orden IET/1624/2012', 'Real Decreto 424/2005', 'Sentencia de 30 de diciembre de 2013', 'Real Decreto 1565/2010', 'Resolución INT/2836/2013', 'Orden TES/16/2018', 'Real decreto 125/2007', 'Ley 15/2012', 'Real Decreto 1042/2013', 'Resolución TES/998/2018', 'Real Decreto 538/2015', 'Real Decreto 337/2010', 'Orden ECF/558/2009', 'Resolución de 11 de mayo de 2005', 'Resolución TES/1643/2019', 'Orden IUE/136/2010', 'Ley 54/2003', 'Orden PRE/777/2009', 'Real Decreto-ley 17/2019', 'Real Decreto Legislativo 4/2015', 'Orden ITC/3126/2005', 'Acuerdo Multilateral M-165', 'Orden de 27 de julio de 2017', 'Resolución de 22 de diciembre de 2010', 'Orden TRI/429/2006', 'Reglamento (UE) 2015/648', 'Real Decreto 1089/2020', 'Orden IET/2059/2013', 'Reglamento (UE) 2020/2160', 'Sentencia de 27 de mayo de 2014', 'Resolución TES/1984/2011', 'Real Decreto 56/1995', 'Orden de 10 de agosto de 1976', 'Real Decreto 308/1983', 'Real Decreto 619/1998', 'Resolución de 29 de noviembre de 2016', 'Real Decreto 159/2016', 'Real Decreto 223/2008', 'Orden PRE/3271/2011', 'Orden de 27 de mayo de 1991', 'Orden de 27 de noviembre de 1989', 'Real Decreto 942/2005', 'Acuerdo Multilateral M-291', 'Real Decreto 1580/2006', 'Real Decreto 1702/2011', 'Orden TEC/406/2019', 'Resolución TES/2911/2016', 'Orden TED/287/2020', 'Orden de 21 de abril de 1992', 'Orden de 12 de marzo de 1982', 'Real Decreto 216/2014', 'Nota de servicio 8/2014', 'Resolución de 10 de junio de 2015', 'Orden PRA/329/2017', 'Real Decreto 967/2002', 'Resolución TES/851/2018', 'Real Decreto 1579/2008', 'Orden de 28 de marzo de 1985', 'Orden de 25 de mayo de 1992', 'Real Decreto 104/2010', 'Resolución SLT/1748/2020', 'Resolución de 2 de abril de 1997', 'Resolución TES/965/2011', 'Ley 2/2013', 'Orden ITC/3110/2010', 'Real Decreto 1546/2004', 'Orden ITC/1515/2010', 'Real Decreto 833/2014', 'Resolución de 9 de junio de 2008', 'Real Decreto-Ley 2/2006', 'Resolución TES/953/2018', 'Reglamento (UE) 2020/1054', 'Orden PRE/1895/2004', 'Orden IUE/231/2009', 'Real Decreto 1539/2011', 'Real Decreto 635/2013', 'Resolución EMC/970/2019', 'Ley 12/1985', 'Real Decreto 400/2013', 'Ley 22/2005', 'Orden ECI/2357/2004', 'Ley 53/2002', 'Orden IUE/452/2009', 'Real Decreto-ley 19/2012', 'Real Decreto-ley 20/2012', 'Orden de 23 de diciembre de 1994', 'Real Decreto 989/2014', 'Real Decreto Legislativo 6/2015', 'Real Decreto 3177/1983', 'Acuerdo Multilateral M-150', 'Orden de 27 de junio de 1975', 'Real Decreto 1389/2011', 'Resolución de 8 de febrero de 2006', 'Orden AAA/702/2014', 'Real Decreto 595/2014', 'Real Decreto-Ley 3/2008', 'Resolución de 14 de enero de 2008', 'Resolución de 6 de noviembre de 2018', 'Real Decreto 679/2006', 'Real Decreto 1371/2007', 'Orden APM/1040/2017', 'Real Decreto 938/1997', 'Resolución TES/341/2014', 'Orden AAA/1072/2013', 'Resolución MAH/2465/2006', 'Reglamento (UE) 2016/355', 'Real Decreto 1054/2002', 'Resolución de 9 de octubre de 2012', 'Orden IET/753/2013', 'Orden de 31 de marzo de 1977', 'Orden ECC/1936/2014', 'Orden SND/422/2020', 'Ley 22/2015', 'Orden de 3 de marzo de 2000', 'Orden ARM/3085/2009', 'Real Decreto 61/2006', 'Real Decreto 314/2006', 'Real Decreto 138/2011', 'Ley 18/2008', 'Orden de 2 de julio de 1976', 'Orden ITC/3164/2009', 'Real Decreto 40/2009', 'Real Decreto 1053/2015', 'Real Decreto 1339/2018', 'Orden de 27 de mayo de 1967', 'Real Decreto 341/2010', 'Circular 4/2012', 'Resolución de 24 de junio de 2008', 'Sentencia 68/2017', 'Orden de 9 de mayo de 1991', 'Real Decreto 1471/1989', 'Real Decreto 1766/2007', 'Orden IET/1071/2013', 'Real Decreto-ley 6/2000', 'Resolución de 18 de diciembre de 2015', 'Resolución de 10 de junio de 2011', 'Resolución SLT/2394/2020', 'Resolución de 7 de noviembre de 2007', 'Resolución MAH/629/2006', 'Resolución de 1 de abril de 2005', 'Orden MAH/122/2003', 'Resolución de 12 de abril de 2013', 'Resolución de 28 de enero de 2015', 'Orden PCI/1319/2018', 'Circular 1/2017', 'Ley 16/2015', 'Real Decreto 846/2011', 'Orden TEC/897/2019', 'Real Decreto 1378/1999', 'Sentencia 21/2017', 'Ley 12/2016', 'Resolución de 18 de noviembre de 2002', 'Resolución MAH/3399/2009', 'Real Decreto 1598/2011', 'Real Decreto 1491/2011', 'Orden PRE/1980/2006', 'Real Decreto 705/1997', 'Orden de 23 de diciembre de 2016', 'Resolución TES/997/2018', 'Orden ARM/2050/2008', 'Ley 37/1992', 'Orden ITC/2107/2009', 'Ley 42/2007', 'Orden ECO/2692/2002', 'Orden PRE/2543/2008', 'Orden ARP/187/2020', 'Ley 1/1999', 'Resolución INT/3031/2014', 'Resolución de 27 de abril de 2005', 'Resolución de 22 de abril de 2010', 'Orden ESS/1451/2013', 'Orden EDU/348/2009', 'Reglamento (UE) 2017/999', 'Real Decreto-Ley 8/2008', 'Resolución de 15 de diciembre de 2011', 'Resolución de 6 de septiembre de 2006', 'Resolución TES/350/2014', 'Orden Circular 320/1994', 'Orden ESS/2542/2014', 'Ley 28/2015', 'Ley 11/2000', 'Orden ETU/753/2017', 'Resolución de 1 de agosto de 2013', 'Resolución MAH/632/2006', 'Sentencia de 2 de junio de 2014', 'Real Decreto 691/2005', 'Orden PRA/499/2017', 'Orden de 21 de mayo de 1991', 'Orden ECO/31/2004', 'Real Decreto 1321/1992', 'Real Decreto 485/1997', 'Real decreto 513/2017', 'Orden de 24 de enero de 1978', 'Resolución de 16 de enero de 2013', 'Real Decreto 102/2014', 'Real Decreto 1427/1997', 'Resolución de 1 de agosto de 2014', 'Resolución MAH/1413/2004', 'Sentencia de 21 de marzo de 2019', 'Resolución de 22 de mayo de 2019', 'Real Decreto-ley 4/2013', 'Sentencia de 2 de febrero de 2016', 'Resolución TES/1805/2019', 'Resolución TES/1536/2018', 'Ley 39/1999', 'Real Decreto 484/1995', 'Orden de 6 de junio de 1988', 'Orden de 15 de noviembre de 1989', 'Real Decreto 125/2017', 'Real Decreto 1332/2012', 'Resolución TES/191/2012', 'Circular 1/2010', 'Orden PRE/2772/2007', 'Real Decreto 222/2008', 'Real Decreto 1211/1990', 'Resolución TSF/442/2016', 'Resolución de 14 de marzo de 2013', 'Real Decreto 815/2013', 'Real Decreto 1178/2008', 'Real Decreto-ley 27/2020', 'Real Decreto 1435/1992', 'Reglamento (UE) 2020/1043', 'Resolución de 6 de abril de 2020', 'Orden APM/241/2018', 'Resolución TES/2977/2012', 'Orden de 1 de febrero de 1996', 'Orden de 28 de diciembre de 1990', 'Orden de 19 de febrero de 1987', 'Orden SND/507/2020', 'Real Decreto 1209/2018', 'Resolución TES/517/2017', 'Ley 22/1988', 'Resolución MAH/1035/2005', 'Resolución MAH/2107/2009', 'Resolución MAH/2105/2009', 'Orden AAR/241/2010', 'Resolución de 21 de noviembre de 1996', 'Resolución de 28 de noviembre de 2000', 'Ley 4/2015', 'Real Decreto Legislativo 1303/1986', 'Resolución de 10 de marzo de 2011', 'Orden de 28 de junio de 1991', 'Resolución de 29 de diciembre de 2020', 'Resolución MAH/2062/2009', 'Ley 18/2009', 'Orden IET/1074/2012', 'Real Decreto Legislativo 2/2015', 'Real Decreto 952/1990', 'Orden SLT/205/2019', 'Orden ECF/466/2008', 'Sentencia 53/2017', 'Real Decreto 465/2003', 'Resolución de 7 de noviembre de 2016', 'Resolución de 7 de febrero de 2008', 'Resolución TES/351/2014', 'Resolución ARP/2187/2017', 'Real Decreto 1623/2011', 'Real Decreto 1295/2003', 'Orden de 16 de noviembre de 1981', 'Acuerdo Multilateral M-159', 'Resolución MAH/4085/2008', 'Resolución de 31 de julio de 2013', 'Real Decreto 356/2015', 'Resolución de 20 de febrero de 2001', 'Ley 21/1992', 'Resolución TRE/3520/2007', 'Resolución de 20 de noviembre de 2015', 'Real Decreto 275/1995', 'Real Decreto 843/2011', 'Resolución de 10 de septiembre de 1998', 'Resolución de 2 de agosto de 2000', 'Nota de servicio 3/2017', 'Orden de 20 de noviembre de 1984', 'Orden IET/2208/2012', 'Resolución de 31 de enero de 1995', 'Sentencia de 16 de marzo de 2017', 'Orden de 25 de septiembre de 1979', 'Real Decreto 1367/2007', 'Real Decreto 842/2013', 'Real Decreto 1465/2009', 'Orden FOM/1051/2018', 'Real Decreto 542/2020', 'Orden de 7 de agosto de 1998', 'Real Decreto 2210/1995', 'Ley 14/2014', 'Real Decreto 1007/2015', 'Real Decreto 119/2005', 'Orden PRE/2872/2011', 'Resolución de 9 de junio de 2009', 'Orden de 17 de octubre de 1984', 'Resolución de 21 de mayo de 2009', 'Ley 3/98', 'Orden AAM/298/2012', 'Orden de 9 de abril de 1996', 'Real Decreto 105/2010', 'Resolución de 26 de diciembre de 2017', 'Resolución de 5 de septiembre de 2019', 'Real Decreto 413/1997', 'Orden de 15 de octubre de 2001', 'Real Decreto-Ley 11/1995', 'Resolución MAH/2406/2009', 'Real Decreto 665/1997', 'Resolución MAH/3043/2010', 'Acuerdo Multilateral M-265', 'Orden TRI/215/2004', 'Reglamento (UE) 2015/1005', 'Resolución TES/726/2015', 'Real Decreto 439/1994', 'Orden de 29 de noviembre de 1984', 'Resolución de 30 de septiembre de 1982', 'Real Decreto 840/2015', 'Orden TES/421/2012', 'Orden SSI/304/2013', 'Orden ICT/657/2018', 'Orden de 1 de julio de 1987', 'Orden de 15 de septiembre de 1999', 'Real Decreto 836/2003', 'Real Decreto 89/2013', 'Real Decreto Legislativo 8/2004', 'Real Decreto Legislativo 1/1994', 'Real Decreto-Ley 9/2007', 'Real Decreto 646/1991', 'Ley 62/2003', 'Real Decreto 1416/2006', 'Ley 11/1997', 'Resolución EMC/2973/2016', 'Orden de 31 de agosto de 1987', 'Real Decreto 494/2020', 'Real decreto 283/2001', 'Resolución INT/2989/2016', 'Orden de 1 de diciembre de 1997', 'Resolución TES/1363/2018', 'Orden APA/3290/2007', 'Nota de servicio 4/2011', 'Orden INT/249/2004', 'Real decreto 783/2001', 'Resolución TES/1387/2020', 'Resolución TES/2193/2014', 'Orden PRE/631/2011', 'Orden de 16 de abril de 1990', 'Orden ITC/527/2011', 'Ley 16/2000', 'Reglamento (UE) 2017/1000', 'Resolución de 16 de octubre de 2014', 'Ley 46/1999', 'Orden IUE/125/2009', 'Ley 53/2007', 'Resolución de 28 de diciembre de 1999', 'Real Decreto 3484/1983', 'Resolución EMC/736/2020', 'Orden SCO/778/2009', 'Resolución MAH/1081/2008', 'Real Decreto 957/2002', 'Orden de 13 de diciembre de 2000', 'Orden FOM/1882/2012', 'Real Decreto 1054/2014', 'Resolución TRE/3181/2009', 'Real Decreto 463/2020', 'Orden ITC/1251/2009', 'Orden IUE/470/2009', 'Real Decreto 363/1995', 'Orden TEC/1174/2018', 'Ley 13/1987', 'Orden EYE/644/2006', 'Resolución TRI/1627/2006', 'Orden INT/2535/2015', 'Real Decreto 417/2012', 'Real Decreto 919/2006', 'Ley 41/2002', 'Resolución de 30 de abril de 2015', 'Resolución de 10 de junio de 1980', 'Resolución EMO/1160/2015', 'Orden PRA/905/2017', 'ley 3/19998', 'Real decreto 754/1981', 'Reglamento (UE) 2015/174', 'Real Decreto 863/1985', 'Orden PRE/236/2002', 'Resolución de 4 de octubre de 2006', 'Real Decreto-Ley 1/2007', 'Real Decreto 117/1992', 'Resolución TES/2335/2011', 'Real Decreto Legislativo 1/2016', 'Resolución de 12 de noviembre de 2012', 'LEY 3/1998', 'Real Decreto 1398/1993', 'Real Decreto 1409/2009', 'Real Decreto 1454/2005', 'Orden de 26 de septiembre de 2000', 'Sentencia de 13 de abril de 2018', 'Sentencia 192/2014', 'Resolución MAH/3334/2009', 'Resolución TES/718/2012', 'Orden IET/1459/2014', 'Real Decreto 1507/2008', 'Resolución de 10 de octubre de 2014', 'Orden APA/67/2002', 'Real Decreto 1311/2005', 'Resolución IRP/77/2010', 'Resolución TES/345/2014', 'Real Decreto 668/1990', 'Real decreto 1866/2004', 'Real Decreto 12/2005', 'Orden ARP/159/2019', 'Real Decreto 285/2013', 'Real Decreto 294/2013', 'Orden circular 37/2016', 'Real Decreto 387/1996', 'Real Decreto 647/2020', 'Resolución de 22 de junio de 2010', 'Real Decreto 1663/2000', 'Resolución de 27 de enero de 2014', 'Reglamento (UE) 2017/852', 'Resolución de 9 de mayo de 2014', 'Sentencia 142/2016', 'Real Decreto 378/2001', 'Acuerdo Multilateral M-254', 'Orden INT/317/2012', 'Orden MAH/121/2005', 'Orden ITC/958/2008', 'Ley 66/1997', 'Orden TEC/1023/2019', 'Orden TRI/430/2006', 'Orden TRE/259/2007', 'Resolución EMO/616/2012', 'Real Decreto 180/2015', 'Sentencia de 11 de abril de 2019', 'Ley 16/2008', 'Orden IET/290/2012', 'Real Decreto 1150/2015', 'Orden FOM/1904/2008', 'Resolución de 16 de febrero de 2005', 'Resolución de 6 de abril de 2010', 'Orden ESS/2259/2015', 'Reglamento (UE) 2017/1369', 'Orden de 16 de julio de 1981', 'Resolución TES/395/2020', 'Sentencia de 20 de diciembre de 2017', 'Real Decreto 134/2010', 'Orden AAA/1783/2013', 'Ley 1/2019', 'Real Decreto 126/2007', 'Real Decreto 1085/2015', 'Real Decreto 257/2018', 'Orden de 23 de noviembre de 2020', 'Orden FOM/819/2015', 'Ley 16/2003', 'Orden de 26 de mayo de 1992', 'Orden PRE/1665/2012', 'Reglamento (UE) 2017/1505', 'Resolución de 27 de julio de 2007', 'Real Decreto 888/1988', 'Real Decreto 2088/1994', 'Real Decreto 3485/2000', 'Real Decreto 1793/2008', 'Orden MAM/1445/2006', 'Real Decreto 366/2005', 'Orden de 27 de Abril de 1982', 'Resolución AAM/70/2013', 'Reglamento (UE) 2016/5', 'Circular 5/2020', 'Real Decreto 234/2013', 'Ley 29/2006', 'Orden de 9 de junio de 1971', 'Real Decreto 101/2011', 'Real Decreto 2611/1996', 'Resolución TES/826/2020', 'Orden TEC/351/2019', 'Ley 40/2010', 'Orden Circular 32/2012', 'Resolución de 5 de mayo de 2006', 'Real Decreto 178/2004', 'Resolución de 29 de abril de 2015', 'Real Decreto 1223/2010', 'Orden de 20 de junio de 1986', 'Resolución EMC/3239/2019', 'Orden AAM/152/2013', 'Resolución de 8 de julio de 2009', 'Real Decreto 1088/2010', 'Resolución TES/2406/2016', 'Resolución EMO/2085/2013', 'Orden TEC/921/2018', 'Orden ECF/517/2007', 'Reglamento (UE) 2019/1381', 'Orden de 16 de diciembre de 1997', 'Resolución de 1 de junio de 2009', 'Resolución EMO/2125/2011', 'Sentencia de 30 de enero de 2007', 'Resolución de 29 de diciembre de 2017', 'Resolución SLT/2229/2020', 'Orden de 23 de abril de 1987', 'Ley 28/2005', 'Reglamento (UE) 2019/957', 'Resolución MAH/4276/2010', 'Orden de 15 de diciembre de 1998', 'Resolución de 17 de marzo de 2011', 'Resolución SLT/1746/2020', 'Resolución TES/1942/2018', 'Orden PRE/2171/2007', 'Orden AAA/770/2014', 'Orden IET/221/2013', 'Resolución de 27 de diciembre de 2013', 'Reglamento (UE) 1088/2013', 'Resolución TES/2809/2011', 'Orden PRE/865/2009', 'Orden TRE/169/2009', 'Orden TRE/45/2010', 'Resolución MAH/765/2010', 'Resolución de 12 de junio de 2003', 'Orden de 20 de octubre de 1997', 'Real Decreto 594/2014', 'Real decreto 1494/2011', 'Orden PRE/1702/2006', 'Circular 4/2014', 'Resolución de 4 de noviembre de 1982', 'Orden ARM/1856/2008', 'Resolución de 9 de mayo de 2000', 'Real Decreto 902/2018', 'Orden INT/3716/2004', 'Orden TAS/642/2008', 'Resolución MAH/1205/2010', 'Resolución de 15 de junio de 1987', 'Orden de 10 de junio de 1994', 'Orden INT/1920/2011', 'Real Decreto 1436/2010', 'Real Decreto 439/2007', 'Real Decreto Legislativo 1/2010', 'Orden INT/624/2008', 'Ley 4/2000', 'Resolución de 15 de noviembre de 2011', 'Orden TES/10/2012', 'Real Decreto 380/1993', 'Resolución de 9 de febrero de 1998', 'Orden PRE/2056/2013', 'Real Decreto 661/2007', 'Resolución de 10 de septiembre de 2020', 'Orden ICT/1212/2018', 'Real Decreto 606/2003', 'Resolución de 2 de septiembre de 2016', 'Resolución de 23 de agosto de 2011', 'Resolución de 5 de julio de 2006', 'Orden de 22 de diciembre de 1987', 'Ley 31/2002', 'Resolución de 16 de febrero de 2016', 'Resolución de 1 de abril de 2019', 'Ley 34/2014', 'Resolución de 13 de marzo de 2009', 'Resolución de 2 de enero de 2017', 'Ley 2/2016', 'Real Decreto 1000/2010', 'Resolución de 20 de noviembre de 2012', 'Acuerdo Multilateral M-292', 'Resolución TES/1250/2018', 'Orden de 15 de febrero de 1996', 'Real Decreto 837/2002', 'Orden AAA/1053/2012', 'Nota de servicio 1/2010', 'Sentencia de 3 de octubre de 2018', 'Resolución de 8 de junio de 2015', 'Real Decreto 1085/1992', 'Orden PRE/531/2010', 'Resolución de 22 de diciembre de 2009', 'Resolución de 16 de diciembre de 2019', 'Orden PRE/2671/2009', 'Real Decreto 1074/2015', 'Real Decreto 1628/2009', 'Reglamento (UE) 2015/1185', 'Orden de 22 de abril de 1997', 'Resolución EMC/809/2016', 'Orden ITC/104/2005', 'Orden TRI/317/2006', 'Ley 23/1992', 'Orden de 3 de mayo de 1999', 'Resolución TES/1013/2017', 'Resolución de 14 de junio de 2013', 'Resolución TES/2876/2012', 'Resolución de 2 de junio de 2017', 'Resolución ARP/2259/2019', 'Resolución EMC/494/2019', 'Orden ARP/195/2017', 'Resolución MAB/1217/2003', 'Ley 23/2002', 'Orden FOM/3553/2011', 'Real decreto 1891/1991', 'Acuerdo Multilateral M-276', 'Orden de 27 de febrero de 1991', 'Ley 22/73', 'Real Decreto 1617/2007', 'Real Decreto-ley 4/2017', 'Real Decreto 1041/2013', 'Real Decreto 1112/1992', 'Resolución TES/791/2017', 'Ley 6/1993', 'Real Decreto 777/2012', 'Resolución de 23 de diciembre de 2015', 'Resolución de 11 de abril de 2006', 'Ley 16/2007', 'Real Decreto 551/2006', 'Real Decreto 569/2020', 'Orden TMA/400/2020', 'Real Decreto 264/2017', 'Ley 44/2010', 'Real Decreto 1370/2006', 'Real Decreto 892/2005', 'Real Decreto 286/2006', 'Resolución de 21 de abril de 2006', 'Resolución TRI/2596/2004', 'Ley 27/1992', 'Sentencia de 22 de febrero de 2012', 'Orden TEC/1380/2018', 'Reglamento (UE) 2015/2002', 'Orden ITC/1522/2007', 'Ley 3/2007', 'Orden de 12 de marzo de 1996', 'Resolución SLT/2452/2020', 'Resolución EMC/1323/2019', 'Orden ESS/1187/2015', 'Real Decreto 1728/2007', 'Real Decreto 957/2018', 'Resolución de 7 de octubre de 2016', 'Real Decreto 625/2014', 'Real Decreto 568/2011', 'Real Decreto 159/1995', 'Resolución de 30 de octubre de 2014', 'Ley 11/2013', 'Orden AAA/1903/2013', 'Resolución EMC/2214/2020', 'Ley 9/2009', 'Real Decreto 825/1993', 'Real Decreto 1054/2015', 'Orden PRE/3539/2008', 'Orden ETU/615/2017', 'Reglamento (UE) 2020/698', 'Real Decreto 158/1995', 'Resolución de 14 de enero de 2020', 'Real Decreto 988/1998', 'Ley 14/1994', 'Orden de 27 de abril de 1987', 'Sentencia 13/2015', 'Orden TIN/1512/2011', 'Real decreto 1523/1999', 'Orden de 7 de diciembre de 2001', 'Real Decreto 866/2008', 'Real Decreto 2097/2004', 'Resolución MAB/1218/2003', 'Resolución de 6 de marzo de 2017', 'Resolución de 3 de agosto de 1999', 'Orden de 17 de marzo de 1986', 'Orden IET/2442/2013', 'Orden APA/1401/2018', 'Real Decreto 1428/1986', 'Resolución ARP/3141/2018', 'Acuerdo Multilateral M-231', 'Resolución de 12 de julio de 2013', 'Orden PRE/321/2009', 'Orden MAH/204/2008', 'Ley 3/2012', 'Reglamento (UE) 2015/491', 'Ley 6/2010', 'Orden de 11 de Julio de 1983', 'Orden IET/2660/2015', 'Orden PRE/3159/2004', 'Orden TES/341/2013', 'Real Decreto 1389/1997', 'Resolución TES/1490/2015', 'Orden PRE/730/2003', 'Resolución TES/1115/2016', 'Resolución de 10 de enero de 2018', 'Real Decreto 2090/2008', 'Resolución de 8 de julio de 1998', 'Nota de servicio 5/2010', 'Resolución de 21 de mayo de 2014', 'Orden de 28 de marzo de 1995', 'Orden ITC/676/2009', 'Resolución MAH/1959/2009', 'Resolución TES/2909/2016', 'Ley 8/2013', 'Orden de 20 de noviembre de 1973', 'Ley 54/1997', 'Resolución INT/593/2019', 'Real Decreto 228/2006', 'Resolución de 18 de septiembre de 2014', 'Orden ETU/1948/2016', 'Real Decreto 1365/2018', 'Resolución de 1 de agosto de 2007', 'Real decreto 1566/1998', 'Orden FOM/1649/2012', 'Real Decreto 640/2014', 'Resolución TES/1586/2020', 'Orden VIV/1744/2008', 'Resolución de 16 de abril de 2020', 'Real Decreto 137/1993', 'Orden AAM/189/2013', 'Ley 5/2013', 'Orden ITC/318/2009', 'Resolución de 18 de marzo de 2020', 'Circular 2/90', 'Resolución de 5 de mayo de 1995', 'Orden TEC/1297/2018', 'Orden TEC/1260/2019', 'Orden de 30 de diciembre de 1986', 'Orden MAM/3219/2007', 'Orden de 16 de julio de 1987', 'Sentencia 60/2013', 'Resolución de 2 de julio de 2015', 'Orden de 21 de julio de 1992', 'Real decreto 9/2005', 'Ley 10/2006', 'Orden IET/565/2013', 'Orden ECF/209/2007', 'Resolución de 30 de julio de 2015', 'Orden ECF/462/2010', 'Real Decreto 664/1997', 'Resolución TES/783/2015', 'Ley 29/1985', 'Nota de servicio 5/2012', 'Real Decreto 736/2020', 'Acuerdo Multilateral M-170', 'Resolución EMO/2981/2011', 'Resolución de 6 de octubre de 2011', 'Ley 38/1994', 'Sentencia 109/2017', 'Orden de 15 de diciembre de 1983', 'Acuerdo Multilateral M-271', 'Real Decreto 2085/1994', 'Real Decreto 2116/1998', 'Orden de 19 de octubre de 1982', 'Resolución de 7 de septiembre de 2004', 'Circular 3/2020', 'Orden Circular 30/2012', 'Resolución INT/136/2012', 'Real Decreto 775/2015', 'Orden de 7 de marzo de 1986', 'Ley 8/2011', 'Circular 1/2019', 'Orden de 15 de marzo de 1963', 'Orden ECO/1449/2003', 'Real Decreto 837/2003', 'Orden PRE/2125/2010', 'Real Decreto 1302/2018', 'Resolución EMC/493/2019', 'Orden FOM/231/2011', 'Resolución de 2 de julio de 1985', 'Orden TES/1180/2020', 'Ley 12/2008', 'Real Decreto 11/2016', 'Resolución de 6 de julio de 2011', 'Nota de servicio 5/2014', 'Resolución SLT/133/2021', 'Resolución EMO/2854/2011', 'Ley 18/2020', 'Real Decreto 1785/2011', 'Resolución TES/2976/2012', 'Ley 20/2007', 'Resolución de 10 de octubre de 2003', 'Real Decreto 1074/2014', 'Real Decreto 135/2010', 'Real Decreto 2526/1998', 'Resolución MAH/732/2009', 'Resolución TES/1715/2020', 'Real Decreto 60/2011', 'Real Decreto 1782/2004', 'Orden de 1 de junio de 1995', 'Orden ITC/404/2010', 'Orden TIN/2504/2010', 'Orden MAB/111/2003', 'Orden PCI/1188/2018', 'Real Decreto 430/2004', 'Reglamento (UE) 2015/704', 'Orden de 23 de marzo de 1998', 'Sentencia de 20 de junio de 2016', 'Orden INT/317/2011', 'Resolución de 8 de agosto de 2000', 'Ley 9/2014', 'Resolución de 30 de enero de 1991', 'Orden IET/611/2013', 'Ley 41/2010', 'Real Decreto 1329/2012', 'Orden de 23 de mayo de 1977', 'Real Decreto 345/2011', 'Resolución SLT/1962/2020', 'Real Decreto 1334/1999', 'Real Decreto 629/2019', 'Real Decreto 298/2009', 'Real Decreto 1110/2007', 'Real Decreto 1073/2015', 'Real Decreto 1219/2011', 'Orden PRE/3834/2005', 'Real Decreto 317/2019', 'Orden de 14 de mayo de 1987', 'Resolución de 20 de enero de 2015', 'Resolución EMO/2844/2014', 'Real Decreto 106/2008', 'Orden de 29 de octubre de 1986', 'Orden ITC/3802/2008', 'Orden de 10 de marzo de 1988', 'Orden de 4 de mayo de 1995', 'Real Decreto 1030/2007', 'Resolución de 25 de abril de 2005', 'Orden de 31 de octubre de 1984', 'Ley 4/1997', 'Orden ITC/2590/2010', 'Real Decreto 1504/1990', 'Acuerdo Multilateral M-143', 'Resolución TES/2243/2013', 'Orden IET/2212/2015', 'Resolución TES/954/2018', 'Real Decreto 1184/2020', 'Resolución de 14 de junio de 2017', 'Orden ARP/15/2019', 'Orden IET/107/2014', 'Real Decreto 547/1979', 'Orden ESS/996/2014', 'Resolución de 30 de noviembre de 2001', 'Orden TMA/424/2020', 'Orden TMA/273/2020', 'Real Decreto 1635/2011', 'Real Decreto 129/2014', 'Ley 2/2004', 'Reglamento (UE) 2017/1432', 'Orden de 5 de junio de 2000', 'Orden MAB/196/2002', 'Ley 16/2013', 'Ley 3/2010', 'Orden APA/1470/2007', 'Real Decreto-ley 11/2013', 'Resolución de 7 de abril de 2011', 'Resolución de 19 de diciembre de 2014', 'Orden de 9 de abril de 1987', 'Resolución MAH/2385/2006', 'Real Decreto 1799/2010', 'Real Decreto 517/2013', 'Resolución de 14 de junio de 2001', 'Real Decreto 555/2019', 'Real Decreto 244/2016', 'Real Decreto 494/2012', 'Nota de servicio 4/2017', 'Resolución de 1 de marzo de 2012', 'ley 30/2020', 'Real decreto 1132/1990', 'Sentencia de 6 de mayo de 2011', 'Real decreto 1402/2007', 'Resolución TES/1711/2019', 'Reglamento (UE) 1031/2010', 'Orden PRE/2421/2011', 'Orden JUS/909/2017', 'Real Decreto 564/2011', 'Orden de 22 de octubre de 1981', 'Orden ARM/1163/2010', 'Orden SLT/571/2010', 'Reglamento (UE) 2016/217', 'Real Decreto 365/2005', 'Real Decreto-ley 9/2007', 'Orden ARM/795/2011', 'Resolución de 23 de octubre de 2019', 'Real Decreto 1114/2006', 'Real Decreto 201/2002', 'Orden IET/822/2012', 'Orden MAH/189/2009', 'Orden FOM/605/2004', 'Resolución de 21 de noviembre de 2005', 'Reglamento (UE) 2015/326', 'Real Decreto 15/2016', 'Reglamento (UE) 2015/9', 'Orden APA/161/2020', 'Reglamento (UE) 2017/605', 'Orden de 28 de julio de 1969', 'Orden AAR/356/2010', 'Real Decreto 1086/2020', 'Resolución de 11 de marzo de 2005', 'Orden MAH/469/2010', 'Resolución de 9 de octubre de 2001', 'Ley 24/2005', 'Orden EFC/43/2006', 'ley 34/1992', 'Resolución de 14 de diciembre de 2017', 'Orden de 7 de marzo de 1981', 'Real Decreto 701/1998', 'Real Decreto 739/2013', 'Ley 1/2000', 'Real decreto 1841/1997', 'Orden IET/2176/2014', 'Real Decreto 2001/1995', 'Reglamento (UE) 2015/2283', 'Orden MAM/2116/2007', 'Orden ITC/2845/2007', 'Real Decreto 842/2002', 'Resolución de 21 de diciembre de 2017', 'Orden de 12 de enero de 1963', 'Reglamento (UE) 2015/830', 'Real Decreto 229/2006', 'Real Decreto 838/2002', 'Real decreto 1536/2011', 'Orden PRE/2788/2015', 'Real Decreto 210/2004', 'Resolución de 9 de junio de 2015', 'Ley 1/2005', 'Real Decreto Legislativo 1/2015', 'Sentencia de 4 de julio de 2019', 'Real Decreto 357/2015', 'Reglamento (UE) 2019/424', 'Resolución de 9 de junio de 2006', 'Resolución TES/1374/2019', 'Resolución de 31 de julio de 2006', 'Real Decreto 1905/1995', 'Real Decreto 1435/2002', 'Orden de 8 de marzo de 2001', 'Resolución EMC/763/2019', 'Real Decreto-ley 29/2020', 'Nota de servicio 2/2016', 'Orden de 31 de mayo de 1985', 'Orden ITC/2370/2007', 'Resolución INT/3014/2017', 'Orden de 26 de abril de 2000', 'Real Decreto 1837/2008', 'Orden de 16 de abril de 1991', 'Real Decreto 2043/1994', 'Resolución de 11 de diciembre de 2019', 'Sentencia 27/2015', 'Resolución de 25 de mayo de 2017', 'Resolución TES/941/2016', 'Reglamento (UE) 2016/427', 'Resolución de 28 de noviembre de 2017', 'Real Decreto 150/1996', 'Orden de 9 de marzo de 1971', 'Orden PRA/1861/2016', 'Circular 3/2014', 'Orden ESS/66/2013', 'Orden ITC/2366/2011', 'Orden ITC/3315/2007', 'Resolución de 30 de junio de 2017', 'Orden de 18 de febrero de 1986', 'Reglamento (UE) 2015/1102', 'Resolución ARP/156/2017', 'Orden ITC/279/2008', 'Real Decreto 643/2011', 'Real Decreto 235/2013', 'Real Decreto 223/2004', 'Sentencia de 28 de septiembre de 2020', 'Orden GAH/95/2016', 'Orden ITC/82/2009', 'Real Decreto 927/2020', 'Orden de 13 de julio de 1993', 'Acuerdo Multilateral M-157', 'Orden TMA/384/2020', 'Orden PRE/2851/2010', 'Resolución de 17 de abril de 2009', 'Resolución TES/111/2012', 'Orden ITC/3801/2008', 'Real Decreto 724/2019', 'Resolución de 24 de mayo de 2019', 'Orden de 7 de abril de 2006', 'ORDEN SLT/170/2014', 'Real Decreto-Ley 15/2005', 'Orden de 11 de octubre de 1976', 'Orden de 12 de julio de 2001', 'Real Decreto 2818/1998', 'Ley 26/2020', 'ley 13/2012', 'Acuerdo Multilateral M-135', 'ley 3/98', 'Orden FOM/3056/2002', 'Real Decreto 1027/2007', 'Real Decreto 1164/2001', 'Orden PRA/222/2018', 'Real Decreto 800/2011', 'Resolución de 15 de Abril de 1996', 'Reglamento (UE) 2019/1390', 'Resolución de 15 de enero de 2013', 'Circular 6/2012', 'Resolución TES/2449/2016', 'Reglamento (UE) 2019/1782', 'Orden PRE/2317/2002', 'Real Decreto 1066/2001', 'Orden ARP/111/2019', 'Real Decreto 142/2003', 'Resolución TES/3340/2020', 'Orden de 31 de mayo de 1982', 'Reglamento (UE) 2019/943', 'Real Decreto 254/2016', 'Resolución de 1 de agosto de 2005', 'Orden SSI/194/2018', 'Real Decreto 276/1995', 'Resolución de 24 de julio de 1989', 'Orden ITC/66/2011', 'Real Decreto 2512/1978', 'Orden CTE/2723/2002', 'Ley 17/2011', 'Reglamento (UE) 2018/1513', 'Ley 21/2013', 'Resolución de 21 de abril de 2017', 'Orden de 31 de octubre de 1989', 'Ley 26/1988', 'Ley 25/2009', 'Orden MAM/1807/2006', 'Real Decreto 1477/1990', 'Orden de 9 de septiembre de 1986', 'Orden SAS/1915/2009', 'Real Decreto 469/2016', 'Resolución de 20 de marzo de 2020', 'Orden INT/320/2014', 'Orden de 31 de Octubre de 1989', 'Orden de 7 de julio de 2000', 'Orden ARP/354/2016', 'Orden PRE/1376/2002', 'Orden AAM/242/2011', 'Real Decreto 473/2014', 'Resolución de 25 de febrero de 2013', 'Orden ITC/633/2007', 'Resolución MAH/2106/2009', 'Resolución TES/717/2012', 'Orden IET/325/2016', 'Real Decreto 294/2004', 'Orden ICT/778/2020', 'Real Decreto 252/2006', 'Resolución MAH/4162/2010', 'Resolución de 10 de julio de 2014', 'Orden TES/81/2012', 'Orden PRE/2277/2003', 'Real Decreto 27/2021', 'Orden TRI/10/2004', 'Reglamento (UE) 2018/1480', 'Real Decreto 1084/2009', 'Sentencia 70/2018', 'Resolución de 2 de abril de 2014', 'Orden PRE/777/2011', 'Ley 3/1998', 'Orden TES/112/2014', 'Orden IET/1951/2013', 'Ley 9/2000', 'Real Decreto 2351/2004', 'Acuerdo Multilateral M-236', 'Orden de 16 de junio de 2000', 'Orden ETU/66/2018', 'Orden EMC/155/2017', 'Orden IRP/516/2010', 'Real Decreto 1853/1993', 'Real Decreto 1801/2003', 'Resolución TES/558/2018', 'Orden TMA/692/2020', 'Ley 38/1992', 'Resolución de 22 de marzo de 2010', 'Orden de 26 de octubre de 1983', 'Resolución TES/1484/2016', 'Circular 3/2019', 'Orden ECF/502/2003', 'Real Decreto 511/2017', 'ley 3/1998', 'Resolución de 8 de Abril de 1999', 'Resolución de 31 de mayo de 2020', 'Resolución TES/541/2017', 'Real Decreto 191/2013', 'Ley 27/2020', 'Orden FOM/2107/2007', 'Resolución MAH/4166/2006', 'Real Decreto 535/2017', 'Resolución de 24 de noviembre de 1986', 'Real Decreto 486/1997', 'Ley 22/1983', 'Orden de 14 de febrero de 1983', 'Real Decreto-ley 21/2020', 'Resolución de 10 de mayo de 2019', 'Resolución TES/2732/2012', 'Orden ITC/1797/2007', 'Real Decreto 943/2010', 'Orden FOM/510/2018', 'Orden IET/754/2013', 'Real Decreto 1955/2000', 'Ley 5/2012', 'Real Decreto-ley 13/2013', 'Acuerdo Multilateral M-245', 'Ley 9/2010', 'Orden de 18 de noviembre de 1974', 'Real Decreto 410/2010', 'Orden TES/404/2012', 'Sentencia de 27 de marzo de 2017', 'Orden de 22 de Abril de 1988', 'Orden PRE/1691/2013', 'Reglamento (UE) 2019/2022', 'Resolución MAH/1899/2007', 'Real Decreto 850/2017', 'Real Decreto 927/1988', 'Resolución de 19 de mayo de 2010', 'Orden TRI/301/2006', 'Sentencia de 4 de noviembre de 2011', 'Orden INT/325/2013', 'Real Decreto 1277/2003', 'Real Decreto 750/2010', 'Real Decreto 1751/1998', 'Resolución de 16 de Junio de 1998', 'Orden MAM/1276/2003', 'Nota de Servicio 1/2007', 'Real Decreto 524/2006', 'Resolución de 20 de diciembre de 2010', 'Resolución de 28 de septiembre de 2006', 'Resolución MAH/4161/2010', 'Ley 7/2020', 'Orden de 16 de diciembre de 1987', 'Orden AAM/96/2014', 'Orden MAM/698/2007', 'Orden ITC/822/2008', 'Resolución de 20 de noviembre de 2008', 'Real Decreto 1361/2011', 'Real Decreto-ley 3/2008', 'Real Decreto 1777/2004', 'Real decreto 509/2007', 'Real Decreto Legislativo 1/2001', 'Orden circular 17/2003', 'Real Decreto 638/2016', 'Real Decreto 18/2016', 'Real Decreto 450/2017', 'Real Decreto 1247/2008', 'Orden TAS/4053/2005', 'Resolución MAH/886/2010', 'Real Decreto 3275/1982', 'Resolución MAH/3967/2010', 'Ley 14/2013', 'Orden FOM/588/2017', 'Resolución MAH/2976/2010', 'Orden IET/593/2014', 'Real Decreto Legislativo 1/2008', 'Sentencia de 4 de diciembre de 2017', 'Ley 3/2014', 'Resolución TES/973/2020', 'Resolución de 17 de septiembre de 2007', 'Nota de servicio 1/2017', 'Orden ECF/393/2010', 'Resolución TRE/1689/2010', 'Orden IET/2786/2015', 'Real Decreto 1284/2010', 'Resolución de 28 de abril de 2015', 'Resolución de 8 de mayo de 2007', 'Real Decreto 1419/2005', 'Orden JUS/1291/2009', 'Orden TAS/762/2008', 'Orden ARP/78/2016', 'Real Decreto 1004/2014', 'Orden ITC/3354/2010', 'Orden de 8 de abril de 1964', 'Resolución TES/347/2014', 'Orden de 26 de julio de 1993', 'Sentencia de 28 de abril de 2015', 'Real Decreto 1008/2015', 'Real Decreto 117/2003', 'Real Decreto 108/2016', 'Real Decreto 29/1990', 'Resolución TES/3020/2011', 'Orden FOM/3317/2010', 'Resolución TES/1252/2019', 'Resolución TES/715/2012', 'Orden IET/1946/2013', 'Resolución de 25 de julio de 1991', 'Ley 27/2013', 'Orden ITC/1038/2005', 'Resolución TES/1011/2017', 'Orden FOM/2380/2015', 'Resolución TES/3075/2020', 'Real Decreto 817/2015', 'Real Decreto 818/2018', 'Real Decreto 860/2018', 'Resolución de 6 de mayo de 2016', 'Resolución TES/1034/2020', 'Resolución de 30 de marzo de 2007', 'Resolución de 5 de junio de 2008', 'Resolución TES/518/2017', 'Sentencia 1/2012', 'Nota de servicio 5/2006', 'Orden de 22 de mayo de 2000', 'Resolución de 23 de mayo de 2003', 'Orden ECF/557/2009', 'Real Decreto 486/2010', 'Real Decreto 334/1982', 'Real Decreto 1081/2014', 'Sentencia 233/2015', 'Ley 3/2015', 'Orden ETU/1133/2017', 'Real decreto 2129/2004', 'Real Decreto 2822/1998', 'Real Decreto 1328/1995', 'Orden ICT/155/2020', 'Orden ECO/33/2015', 'Resolución TES/1474/2020', 'Orden PCI/891/2018', 'Real Decreto 697/1995', 'Orden PRA/375/2018', 'Resolución de 13 de octubre de 2004', 'Orden IET/1043/2012', 'Real Decreto 2296/1981', 'Resolución MAH/721/2004', 'Resolución de 3 de abril de 1997', 'Orden ARM/1312/2009', 'Orden de 16 de marzo de 1984', 'Resolución IRP/4155/2010', 'Orden FOM/2842/2011', 'Circular 2/2015', 'Real Decreto 219/2004', 'Ley 5/1981', 'Orden PRE/3/2006', 'Ley 33/2015', 'Real Decreto 393/2007', 'Real Decreto 1613/85', 'Ley 20/86', 'Reglamento (UE) 2016/1447', 'Orden de 9 de febrero de 1996', 'Orden de 23 de diciembre de 1981', 'Real Decreto 285/2006', 'Resolución MAH/2370/2006', 'Real Decreto 1494/2011', 'Resolución de 19 de octubre de 2016', 'Resolución IUE/2375/2010', 'Orden FOM/273/2016', 'Real Decreto 312/2005', 'Real Decreto 1675/2008', 'Resolución MAH/2405/2009', 'Ley 6/1999', 'Orden de 2 de febrero de 1990', 'Real Decreto 478/2013', 'Real Decreto 830/2013', 'Orden MAH/92/2006', 'Orden de 21 de noviembre de 1989', 'Resolución MAB/224/2003', 'Resolución TES/508/2014', 'Real Decreto 248/2001', 'Real Decreto 560/2010', 'Ley 25/1964', 'Resolución TES/727/2017', 'Real Decreto 105/2008', 'Resolución MAH/2331/2005', 'Orden MAM/817/2004', 'Orden SCO/3269/2006', 'Acuerdo Multilateral M-268', 'Nota de servicio 3/2011', 'Ley 11/2014', 'Ley 21/2015', 'Orden de 29 de abril de 1977', 'Real Decreto 1481/2001', 'Orden de 23 de junio de 1988', 'Real Decreto 238/2013', 'Resolución de 22 de diciembre de 2020', 'Real Decreto-ley 17/2012', 'Resolución EMO/263/2014', 'Real Decreto 1311/2012', 'Orden INT/322/2011', 'Orden ITC/1231/2010', 'Real Decreto 1304/2009', 'Orden MAM/427/2008', 'Real Decreto 293/2018', 'Orden de 16 de mayo de 1994', 'Orden ECF/451/2007', 'Real Decreto 217/2004', 'Orden ECC/1493/2016', 'Real decreto 597/2007', 'Real Decreto 1098/2001', 'Reglamento (UE) 2020/2096', 'Orden de 25 de abril de 1973', 'Circular 1/2008', 'Reglamento (UE) 2017/752', 'Real Decreto 1245/2008', 'Orden VEH/6/2018', 'Resolución MAH/2151/2009', 'Real Decreto 1032/2007', 'Resolución de 10 de abril de 2013', 'Resolución TES/192/2019', 'Orden ESS/419/2015', 'Resolución de 22 de diciembre de 1998', 'Real Decreto 635/2006', 'Resolución TES/1068/2020', 'Resolución TES/894/2018', 'Orden de 13 de octubre de 1989', 'Resolución de 25 de marzo de 2002', 'Real decreto 261/1996', 'Ley 5/2004', 'Orden ITC/21/2009', 'Resolución de 5 de octubre de 2010', 'Sentencia 15/2018', 'Orden MAM/2390/2007', 'Resolución de 6 de junio de 2008', 'Orden de 13 de junio de 1990', 'Orden AAR/62/2008', 'Real Decreto 100/2011', 'Resolución TES/2448/2016', 'Ley 12/1981', 'Reglamento (UE) 2016/239', 'Sentencia 33/2016', 'Real Decreto 210/2018', 'Real Decreto 604/2006', 'Real Decreto 1434/2002', 'Orden TIN/2786/2009', 'Resolución de 6 de mayo de 2020', 'Resolución MAB/3200/2002', 'Resolución TES/2368/2014', 'Orden FOM/2083/2014', 'Real Decreto 365/2009', 'Real Decreto 407/1992', 'Orden SCO/1741/2006', 'Orden de 31 de diciembre de 1976', 'Orden de 20 de mayo de 1985', 'Orden TED/1161/2020', 'Reglamento (UE) 2017/1510', 'Real Decreto 299/2019', 'Real Decreto-ley 10/2017', 'Real Decreto 397/1990', 'Real Decreto 102/2011', 'Ley 48/2003', 'Resolución TES/757/2019', 'Resolución de 16 de Julio de 1997', 'Resolución TES/2731/2012', 'Resolución de 14 de noviembre de 2017', 'Real Decreto 700/1998', 'Orden PRE/866/2009', 'Real Decreto 191/2011', 'Orden de 13 de marzo de 1989', 'Resolución de 11 de mayo de 1999', 'Orden MAH/153/2007', 'Orden de 11 de enero de 1990', 'Real Decreto 1429/2003', 'Real Decreto Legislativo 5/2000', 'Resolución MAB/685/2002', 'Orden de 1 de diciembre de 1988', 'Ley 5/2017', 'Real Decreto 126/2018', 'Orden ECF/410/2009', 'Real Decreto 513/2017', 'Real Decreto 224/2008', 'Orden PRE/2046/2010', 'Real Decreto 3484/2000', 'Real Decreto 1364/2018', 'Resolución de 10 de julio de 2001', 'Orden TRI/323/2006', 'Ley 20/2013', 'Orden de 20 de enero de 1994', 'Orden PRE/690/2005', 'Real Decreto-ley 15/1999', 'Orden ECC/705/2013', 'Orden de 30 de Junio de 1966', 'Resolución de 6 de mayo de 2011', 'Resolución INT/768/2013', 'Resolución de 20 de mayo de 2015', 'Real Decreto 9/2008', 'Ley 3/2019', 'Resolución de 17 de abril de 1986', 'Resolución de 25 de marzo de 2019', 'Resolución TSF/759/2020', 'Real Decreto 702/2016', 'Resolución TES/1007/2014', 'Real Decreto 1274/2011', 'Ley 13/2012', 'Resolución de 6 de noviembre de 2002', 'Resolución MAH/2099/2010', 'Reglamento (UE) 2020/740', 'Orden MAH/491/2006', 'Real Decreto 1771/1994', 'Orden de 17 de Marzo de 1981', 'Orden PRE/1069/2011', 'Real Decreto 1800/1995', 'Orden ITC/1607/2009', 'Orden ETU/130/2017', 'Reglamento (UE) 2020/741', 'Ley 27/2014', 'Resolución de 28 de febrero de 2012', 'Real Decreto 1722/2012', 'Ley 4/1998', 'Resolución de 5 de marzo de 2014', 'ley 16/2019', 'Orden PRE/402/2008', 'Orden ARM/568/2011', 'Real Decreto 894/2013', 'Orden ESS/1338/2013', 'Resolución de 3 de julio de 2015', 'Real Decreto 2295/1985', 'Resolución de 19 de agosto de 2013', 'Reglamento (UE) 2016/426', 'Resolución de 30 de enero de 2013', 'Orden FOM/943/2019', 'Resolución de 8 de febrero de 2018', 'Real Decreto 711/2006', 'Ley 6/2017', 'Real Decreto 1630/2011', 'Real Decreto 72/2019', 'Orden ITC/102/2005', 'Orden de 13 de agosto de 1999', 'Ley 8/2015', 'Ley 12/2013', 'Real Decreto 299/2016', 'Orden TED/363/2020', 'Real Decreto 1011/2009', 'Orden FOM/3460/2003', 'Ley 2/1985', 'Real Decreto 57/2002', 'Real Decreto 640/2006', 'Orden INT/322/2012', 'Orden IUE/149/2009', 'Orden de 19 de diciembre de 2000', 'Orden PCI/168/2019', 'Real Decreto Legislativo 1302/86', 'Resolución de 23 de abril de 2019', 'Resolución de 8 de julio de 2013', 'Resolución TES/1523/2015', 'Resolución de 30 de abril de 2012', 'Sentencia de 4 de mayo de 2010', 'Real Decreto 1184/1994', 'Real Decreto-ley 9/2015', 'Real Decreto 909/2001', 'Ley 14/2015', 'Orden de 31 de marzo de 1989', 'Real Decreto 578/2014', 'Orden PRE/374/2008', 'Resolución de 5 de julio de 1999', 'Orden ITC/1857/2008', 'Orden TEC/427/2019', 'Orden PRE/930/2002', 'Real Decreto 124/2015', 'Real Decreto 277/2003', 'Circular 2/2014', 'Resolución de 17 de noviembre de 1998', 'Real Decreto 1123/2000', 'Real Decreto 1053/2014', 'Real Decreto 1378/1985', 'Orden de 17 de diciembre de 1984', 'Real Decreto 258/1989', 'Orden INT/318/2011', 'Orden de 5 de enero de 2000', 'Sentencia de 20 de julio de 2010', 'Real Decreto 1070/2012', 'Orden de 7 de enero de 1987', 'Resolución de 14 de enero de 2004', 'Orden MAM/304/2002', 'Real Decreto 145/1989', 'Real Decreto 684/2017', 'Orden ITC/427/2005', 'Resolución EMO/1944/2011', 'Real Decreto 902/2007', 'Orden ITC/3109/2010', 'Sentencia de 27 de julio de 2020', 'Resolución MAH/3711/2007', 'Real Decreto 569/1990', 'Orden PRE/3302/2006', 'Orden ETU/995/2017', 'Orden de 18 de octubre de 1984', 'Resolución de 23 de mayo de 2014', 'Orden de 22 de marzo de 1988', 'Resolución de 25 de noviembre de 2008', 'Reglamento (UE) 2015/282', 'Resolución MAH/872/2004', 'Reglamento (UE) 2016/1005', 'Real Decreto 899/2015', 'Real Decreto 2163/1994', 'Real Decreto 1025/2015', 'Real Decreto 198/2017', 'Sentencia de 21 de enero de 2011', 'Resolución de 24 de enero de 2012', 'Real Decreto 1578/2008', 'Ley 30/2007', 'Ley 19/2015', 'Resolución de 28 de abril de 1995', 'Orden PCM/390/2020', 'Resolución INT/2010/2012', 'Orden TED/252/2020', 'Resolución MAH/3004/2005', 'Real Decreto 1528/2012', 'Orden ARP/225/2019', 'Real Decreto 210/2003', 'Orden FOM/2258/2015', 'Real Decreto 734/1988', 'Real Decreto-ley 11/1995', 'Real Decreto 455/2012', 'Orden INT/262/2020', 'Ley 13/2010', 'Real Decreto 1718/2010', 'Real Decreto 293/2003', 'Orden ECF/480/2010', 'Ley 33/2011', 'Orden de 13 de septiembre de 1985', 'Real Decreto 1431/2003', 'Resolución de 20 de febrero de 1989', 'Ley 9/2003', 'Orden FOM/3818/2007', 'Orden de 26 de octubre de 1993', 'Sentencia de 27 de septiembre de 2011', 'Nota de servicio 2/2017', 'Real Decreto 443/1994', 'Resolución de 5 de febrero de 2016', 'Ley 32/2006', 'Orden PRE/1954/2004', 'Real Decreto 656/2017', 'Orden de 30 de noviembre de 1981', 'Orden PRE/968/2008', 'Resolución de 19 de febrero de 1998', 'Sentencia 74/2016', 'Real Decreto 782/1998', 'Orden de 19 de octubre de 1999', 'Ley 28/2009', 'Real Decreto 1619/2005', 'Orden de 13 de septiembre de 1995', 'Resolución de 25 de abril de 1996', 'Real Decreto 3099/1977', 'Resolución de 5 de noviembre de 1992', 'Sentencia de 9 de marzo de 2010', 'Resolución de 30 de septiembre de 2013', 'Orden de 31 de marzo de 1980', 'Orden de 7 de abril de 1986', 'Orden MAB/112/2003', 'Sentencia 116/2017', 'Resolución de 2 de febrero de 2017', 'Resolución de 13 de septiembre de 2007', 'Resolución de 16 de abril de 2007', 'Resolución MAH/2330/2005', 'Orden ITC/675/2006', 'Resolución IRP/971/2010', 'Orden AAA/351/2013', 'Resolución de 23 de enero de 2002', 'Real Decreto 2002/1995', 'Orden JUS/836/2013', 'Orden PRE/3297/2004', 'Orden de 21 de junio de 1982', 'Real Decreto 1390/2011', 'Reglamento (UE) 2020/972', 'Orden PRE/1131/2011', 'Orden AAM/297/2011', 'Resolución MAH/2386/2005', 'Resolución de 23 de enero de 2014', 'Orden TEC/1146/2018', 'Ley 9/2018', 'Resolución de 11 de marzo de 2019', 'Real Decreto 1231/2003', 'Orden de 29 de abril de 1999', 'Orden ECF/408/2009', 'Real Decreto 1106/2020', 'Resolución TES/677/2017', 'Reglamento (UE) 2019/1783', 'Acuerdo Multilateral M-163', 'Real Decreto 1183/2020', 'Orden de 9 de diciembre de 1999', 'Resolución de 30 de diciembre de 1993', 'Orden de 2 de agosto de 2001', 'Orden SCO/3276/2007', 'Resolución de 8 de marzo de 2007', 'Orden de 30 de julio de 2018', 'Orden IET/2013/2013', 'Real Decreto 1466/2009', 'Resolución TES/642/2015', 'Orden de 27 de junio de 1994', 'Real Decreto 64/2015', 'Orden IET/1209/2016', 'Resolución MAH/2063/2009', 'Real Decreto 1836/1999', 'Real Decreto 607/1996', 'Real Decreto 639/2016', 'Reglamento (UE) 2019/2019', 'Ley 8/2020', 'Real Decreto 508/2007', 'Sentencia de 12 de junio de 2017', 'Resolución de 29 de junio de 2007', 'Orden TES/98/2016', 'Orden ITC/3863/2007', 'Orden Circular 15/2003', 'Orden PRE/2047/2010', 'Real Decreto 337/2014', 'Resolución EMO/3007/2015', 'Resolución TES/1340/2016', 'Sentencia de 5 de julio de 2019', 'Resolución SLT/1749/2020', 'Orden MAM/2544/2004', 'Orden AAR/349/2009', 'Orden AAA/2809/2012', 'Real Decreto 773/2015', 'Resolución IUE/1196/2010', 'Orden ECF/367/2008', 'Resolución TES/2830/2016', 'Acuerdo Multilateral M-145', 'Orden SND/414/2020', 'Real Decreto 2291/1985', 'Orden TES/152/2012', 'Resolución SLT/2479/2020', 'Sentencia de 1 de febrero de 2011', 'Real Decreto 335/2016', 'Resolución de 16 de marzo de 2017', 'Orden AAR/414/2008', 'Resolución TES/3449/2020', 'Sentencia de 29 de junio de 2004', 'Resolución de 13 de febrero de 2014', 'Ley 5/2008', 'Resolución de 31 de agosto de 2015', 'Real Decreto 1506/2003', 'Nota de servicio 3/2012', 'Orden AAA/2394/2013', 'Orden de 10 de marzo de 1998', 'orden de 1 de junio de 1995', 'Ley 23/2020', 'Reglamento (UE) 1385/2013', 'Orden de 15 de octubre de 1990', 'Orden Circular 22/07', 'Real Decreto 818/2009', 'Real Decreto 394/1979', 'Resolución de 28 de diciembre de 2004', 'Ley 4/2009', 'Orden IUE/290/2008', 'Orden MAM/3457/2003', 'Ley 17/2015', 'Orden FOM/555/2005', 'Resolución EMC/2011/2019', 'Real Decreto 314/2016', 'Real Decreto 665/1999', 'Resolución EMO/2136/2011', 'Ley 20/2009', 'Orden ITC/786/2009', 'Real Decreto 1428/86', 'Orden de 28 de octubre de 1992', 'Real Decreto 1798/2010', 'Resolución de 8 de noviembre de 2013', 'Real Decreto 615/1998', 'Real Decreto 230/1998', 'Real Decreto 1562/1998', 'Resolución de 2 de septiembre de 2020', 'Resolución de 31 de octubre de 2012', 'Orden Circular 16/2003', 'Resolución TES/2002/2013', 'Sentencia de 7 de noviembre de 2017', 'Real Decreto 706/2015', 'Orden ITC/3860/2007', 'Real Decreto 198/2015', 'Real Decreto 2821/1981', 'Real Decreto 534/2017', 'Resolución TES/2978/2012', 'Real Decreto 1062/1998', 'Orden de 30 de noviembre de 1984', 'Real Decreto 1593/2010', 'Nota de servicio 5/2001', 'Real Decreto 1308/2011', 'Orden de 11 de Octubre de 1988', 'Real Decreto 144/2016', 'Real Decreto 559/2010', 'Real Decreto 1890/2008', 'Real Decreto 109/2010', 'Real Decreto 1561/1995', 'Orden PRE/375/2003', 'Resolución MAH/4167/2006', 'Real Decreto 354/2013', 'Resolución de 14 de febrero de 2013', 'Orden IET/557/2012', 'Real Decreto 948/2003', 'Real Decreto 1383/2002', 'Orden ECF/515/2007', 'Real Decreto 1618/1980', 'Resolución TES/1465/2019', 'Ley 16/2017', 'Real Decreto 396/2006', 'Resolución INT/2882/2015', 'Resolución TES/780/2019', 'Orden TRE/360/2002', 'Real Decreto-ley 9/2011', 'Real Decreto 640/2007', 'Orden SND/442/2020', 'Real Decreto-ley 12/2012', 'Resolución de 8 de septiembre de 2014', 'Ley 5/2020', 'Orden TRE/229/2002', 'Resolución TES/1472/2018', 'Ley 5/1994', 'Real Decreto-ley 10/2010', 'Orden PRE/568/2009', 'Real Decreto 1413/1994', 'Resolución MAH/767/2010', 'Real Decreto 833/1988', 'Orden ITC/101/2006', 'Orden TAS/1/2007', 'Resolución EMC/1304/2018', 'Orden de 20 de noviembre de 2001', 'Real Decreto 2200/1995', 'Resolución de 11 de marzo de 2014', 'Orden de 1 de marzo de 2000', 'Orden VEH/35/2016', 'Real Decreto 1942/1993', 'Resolución TRE/3044/2008', 'Sentencia de 15 de octubre de 2020', 'Orden TES/164/2015', 'Real Decreto 1369/2007', 'Real Decreto 682/2014', 'Real Decreto 563/2017', 'Circular 3/2018', 'Resolución INT/2330/2013', 'Real Decreto 1225/2010', 'Orden FOM/185/2017', 'Orden PRE/29/2004', 'Resolución TES/996/2020', 'Resolución de 15 de abril de 2015', 'Resolución de 29 de abril de 1999', 'Real Decreto 2857/1978', 'Resolución de 3 de noviembre de 2008', 'Acuerdo Multilateral M-133', 'Resolución de 27 de febrero de 2008', 'Orden de 6 de Mayo de 1965', 'Orden de 25 de junio de 1984', 'Real Decreto 195/2010', 'Real Decreto 163/2014', 'Real Decreto 126/2016', 'Resolución EMC/2906/2016', 'Resolución EXI/1323/2016', 'Orden FOM/3053/2008', 'Reglamento (UE) 2018/79', 'Orden PRE/927/2012', 'Real Decreto 39/2017', 'Real Decreto 239/2013', 'Real Decreto 731/2020', 'Real Decreto 2946/1982', 'Real Decreto 507/1982', 'Orden FOM/1392/2004', 'Resolución de 8 de marzo de 2016', 'Ley 30/2015', 'Real Decreto 648/2011', 'Ley 4/2001', 'Ley 5/2003', 'Real Decreto 380/2001', 'Orden PRE/1164/2010', 'Real Decreto 2177/1996', 'Real Decreto 1038/2012', 'Real Decreto 294/2016', 'Orden IUE/361/2010', 'Resolución de 6 de junio de 2005', 'Ley 12/2014', 'Ley 6/83', 'Resolución MAH/1557/2009', 'Ley 34/1998', 'Real Decreto 954/2015', 'Orden CTE/3216/2002', 'Orden IET/1912/2012', 'Reglamento (UE) 2018/2005', 'Orden de 2 de enero de 1991', 'Resolución de 13 de abril de 2009', 'Real Decreto 21/2016', 'Orden de 6 de febrero de 1997', 'Resolución de 13 de junio de 2014', 'Real Decreto 1/2016', 'Resolución de 16 de marzo de 2020', 'Real Decreto 769/1999', 'Sentencia 64/2018', 'Orden IET/1345/2015', 'Resolución de 2 de noviembre de 2017', 'Resolución TES/342/2014', 'Sentencia de 19 de septiembre de 2016', 'Reglamento (UE) 2020/2081', 'Orden de 14 de octubre de 1997', 'Ley 7/1989', 'Real Decreto 1597/2011', 'Sentencia de 18 de noviembre de 2014', 'Real Decreto 1125/1982', 'Orden ITC/713/2007', 'Orden ECO/3888/2003', 'Resolución de 27 de julio de 2017', 'Orden AAA/2564/2015', 'Ley 44/2003', 'Orden ITC/103/2005']\""
      ]
     },
     "metadata": {},
     "execution_count": 228
    }
   ],
   "source": [
    "boletin_ASECORP_flat_list"
   ]
  },
  {
   "cell_type": "code",
   "execution_count": 229,
   "metadata": {},
   "outputs": [
    {
     "output_type": "execute_result",
     "data": {
      "text/plain": [
       "set()"
      ]
     },
     "metadata": {},
     "execution_count": 229
    }
   ],
   "source": [
    "## Busca coincidencias entre lista boletines BOEs explorados y lista boletines de BBDD ASECORP\n",
    "set(boletin_flat_list) & set(boletin_ASECORP_flat_list)"
   ]
  },
  {
   "cell_type": "code",
   "execution_count": 230,
   "metadata": {},
   "outputs": [
    {
     "output_type": "stream",
     "name": "stdout",
     "text": [
      "{'Ley 3/2012'}\n{'Ley 3/2012'}\n{'Ley 3/2012'}\n{'Ley 3/2012'}\n{'Ley 33/2010'}\n"
     ]
    }
   ],
   "source": [
    "#DOCM_sumarios['Tags'].isin(ASECORP_BBDD_BOE['Tags'])\n",
    "for row_to_compare in DOGC_sumarios['Tags']:\n",
    "    for row_comparing in ASECORP_BBDD_BOE['Tags']:\n",
    "        if set(row_comparing) & set(row_to_compare):\n",
    "            print(set(row_comparing) & set(row_to_compare))"
   ]
  },
  {
   "cell_type": "code",
   "execution_count": 231,
   "metadata": {},
   "outputs": [
    {
     "output_type": "stream",
     "name": "stdout",
     "text": [
      "{'Ley 3/2012'} LEY 3/2012 ESP\n",
      "{'Ley 3/2012'} LEY 3/2012 ESP\n",
      "{'Ley 3/2012'} LEY 3/2012 ESP\n",
      "{'Ley 3/2012'} LEY 3/2012 ESP\n",
      "{'Ley 33/2010'} LEY 33/2010 ESP\n"
     ]
    }
   ],
   "source": [
    "for i, row_to_compare in DOGC_sumarios.iterrows():\n",
    "    for j, row_comparing in ASECORP_BBDD_BOE.iterrows():\n",
    "        if set(row_to_compare['Tags']) & set(row_comparing['Tags']):\n",
    "            DOGC_sumarios['Match_ASECORP_BBDD'][i].append (ASECORP_BBDD_BOE['Codigo'][j])\n",
    "            print(str(set(row_to_compare['Tags']) & set(row_comparing['Tags'])) + ' ' + str(row_comparing['Codigo']))"
   ]
  },
  {
   "cell_type": "code",
   "execution_count": 232,
   "metadata": {},
   "outputs": [
    {
     "output_type": "execute_result",
     "data": {
      "text/plain": [
       "                                          item_Title  \\\n",
       "0  RESOLUCIÓN VEH/481/2021, de 8 de febrero, por ...   \n",
       "1  EDICTO de 17 de febrero de 2021, sobre un acue...   \n",
       "2  EDICTO de 18 de febrero de 2021, sobre un acue...   \n",
       "3  EDICTO de 18 de febrero de 2021, sobre un acue...   \n",
       "4  EDICTO de 18 de febrero de 2021, sobre un acue...   \n",
       "5  CORRECCIÓN DE ERRATA en el Edicto de 29 de oct...   \n",
       "6  RESOLUCIÓN TES/479/2021, de 22 de febrero, por...   \n",
       "7  ACUERDO GOV/19/2021, de 23 de febrero, por el ...   \n",
       "8  RESOLUCIÓN TSF/480/2021, de 23 de febrero, por...   \n",
       "\n",
       "                                        item_urlHTML  \\\n",
       "0  https://dogc.gencat.cat/es/document-del-dogc/?...   \n",
       "1  https://dogc.gencat.cat/es/document-del-dogc/?...   \n",
       "2  https://dogc.gencat.cat/es/document-del-dogc/?...   \n",
       "3  https://dogc.gencat.cat/es/document-del-dogc/?...   \n",
       "4  https://dogc.gencat.cat/es/document-del-dogc/?...   \n",
       "5  https://dogc.gencat.cat/es/document-del-dogc/?...   \n",
       "6  https://dogc.gencat.cat/es/document-del-dogc/?...   \n",
       "7  https://dogc.gencat.cat/es/document-del-dogc/?...   \n",
       "8  https://dogc.gencat.cat/es/document-del-dogc/?...   \n",
       "\n",
       "                                         item_urlPDF                 tipo_doc  \\\n",
       "0  https://portaldogc.gencat.cat/utilsEADOP/AppJa...             [Resolución]   \n",
       "1  https://portaldogc.gencat.cat/utilsEADOP/AppJa...                [Edicto ]   \n",
       "2  https://portaldogc.gencat.cat/utilsEADOP/AppJa...                [Edicto ]   \n",
       "3  https://portaldogc.gencat.cat/utilsEADOP/AppJa...                [Edicto ]   \n",
       "4  https://portaldogc.gencat.cat/utilsEADOP/AppJa...                [Edicto ]   \n",
       "5  https://portaldogc.gencat.cat/utilsEADOP/AppJa...  [Corrección de erratas]   \n",
       "6  https://portaldogc.gencat.cat/utilsEADOP/AppJa...             [Resolución]   \n",
       "7  https://portaldogc.gencat.cat/utilsEADOP/AppJa...  [Acuerdo del gobierno ]   \n",
       "8  https://portaldogc.gencat.cat/utilsEADOP/AppJa...             [Resolución]   \n",
       "\n",
       "      fecha_doc       numero_doc num_control  \\\n",
       "0  [08/02/2021]  [VEH/0481/2021]               \n",
       "1  [17/02/2021]               []               \n",
       "2  [18/02/2021]               []               \n",
       "3  [18/02/2021]               []               \n",
       "4  [18/02/2021]               []               \n",
       "5  [18/02/2021]               []               \n",
       "6  [22/02/2021]  [TES/0479/2021]               \n",
       "7  [23/02/2021]  [GOV/0019/2021]               \n",
       "8  [23/02/2021]  [TSF/0480/2021]               \n",
       "\n",
       "                                 entidad_emisora                         CVE  \\\n",
       "0               [Agencia Tributaria de Cataluña]  [CVE-DOGC-B-21054033-2021]   \n",
       "1  [Departamento de Territorio y Sostenibilidad]  [CVE-DOGC-B-21049037-2021]   \n",
       "2  [Departamento de Territorio y Sostenibilidad]  [CVE-DOGC-B-21049024-2021]   \n",
       "3  [Departamento de Territorio y Sostenibilidad]  [CVE-DOGC-B-21049071-2021]   \n",
       "4  [Departamento de Territorio y Sostenibilidad]  [CVE-DOGC-B-21049046-2021]   \n",
       "5  [Departamento de Territorio y Sostenibilidad]  [CVE-DOGC-B-21049076-2021]   \n",
       "6                    [Agencia Catalana del Agua]  [CVE-DOGC-B-21054035-2021]   \n",
       "7                      [Departamento de Cultura]  [CVE-DOGC-B-21055025-2021]   \n",
       "8              [Agencia Catalana de la Juventud]  [CVE-DOGC-B-21054067-2021]   \n",
       "\n",
       "  numero_DOGC    fecha_DOGC     seccion_DOGC numero_control  \\\n",
       "0      [8350]  [25/02/2021]  [Disposiciones]     [21054033]   \n",
       "1      [8350]  [25/02/2021]  [Disposiciones]     [21049037]   \n",
       "2      [8350]  [25/02/2021]  [Disposiciones]     [21049024]   \n",
       "3      [8350]  [25/02/2021]  [Disposiciones]     [21049071]   \n",
       "4      [8350]  [25/02/2021]  [Disposiciones]     [21049046]   \n",
       "5      [8350]  [25/02/2021]  [Disposiciones]     [21049076]   \n",
       "6      [8350]  [25/02/2021]  [Disposiciones]     [21054035]   \n",
       "7      [8350]  [25/02/2021]  [Disposiciones]     [21055025]   \n",
       "8      [8350]  [25/02/2021]  [Disposiciones]     [21054067]   \n",
       "\n",
       "                                         item_urlXML  \\\n",
       "0  [https://portaldogc.gencat.cat/utilsEADOP/AppJ...   \n",
       "1  [https://portaldogc.gencat.cat/utilsEADOP/AppJ...   \n",
       "2  [https://portaldogc.gencat.cat/utilsEADOP/AppJ...   \n",
       "3  [https://portaldogc.gencat.cat/utilsEADOP/AppJ...   \n",
       "4  [https://portaldogc.gencat.cat/utilsEADOP/AppJ...   \n",
       "5  [https://portaldogc.gencat.cat/utilsEADOP/AppJ...   \n",
       "6  [https://portaldogc.gencat.cat/utilsEADOP/AppJ...   \n",
       "7  [https://portaldogc.gencat.cat/utilsEADOP/AppJ...   \n",
       "8  [https://portaldogc.gencat.cat/utilsEADOP/AppJ...   \n",
       "\n",
       "                                          item_title  \\\n",
       "0  [RESOLUCIÓN VEH/481/2021, de 8 de febrero, por...   \n",
       "1  [EDICTO de 17 de febrero de 2021, sobre un acu...   \n",
       "2  [EDICTO de 18 de febrero de 2021, sobre un acu...   \n",
       "3  [EDICTO de 18 de febrero de 2021, sobre un acu...   \n",
       "4  [EDICTO de 18 de febrero de 2021, sobre un acu...   \n",
       "5  [CORRECCIÓN DE ERRATA en el Edicto de 29 de oc...   \n",
       "6  [RESOLUCIÓN TES/479/2021, de 22 de febrero, po...   \n",
       "7  [ACUERDO GOV/19/2021, de 23 de febrero, por el...   \n",
       "8  [RESOLUCIÓN TSF/480/2021, de 23 de febrero, po...   \n",
       "\n",
       "                                       item_fullText  \\\n",
       "0  En fecha 17 de diciembre de 2020 se ha firmado...   \n",
       "1  La Comisión de Territorio de Cataluña, en la s...   \n",
       "2  La Comisión Territorial de Urbanismo del Alto ...   \n",
       "3  La Comisión Territorial de Urbanismo de Girona...   \n",
       "4  La Comisión de Territorio de Cataluña, en la s...   \n",
       "5  Exp. 2020/072181/M\\nPlan especial urbanístico ...   \n",
       "6   \\nEn cumplimiento de lo establecido en el art...   \n",
       "7  Por la Resolución CLT/677/2020, de 4 de marzo ...   \n",
       "8  La Ley 6/2006, de 26 de mayo, de creación de l...   \n",
       "\n",
       "                                                Tags Match_ASECORP_BBDD  \n",
       "0  [Ley 17/2017, Orden VEH/117/2017, Ley 26/2010,...                 []  \n",
       "1  [Ley 2/2007, Ley 39/2015, Ley 3/2012, Ley 5/20...   [LEY 3/2012 ESP]  \n",
       "2  [Ley 3/2012, Ley 39/2015, Ley 29/1998, Ley 2/2...   [LEY 3/2012 ESP]  \n",
       "3  [Ley 3/2012, Ley 39/2015, Ley 29/1998, Ley 2/2...   [LEY 3/2012 ESP]  \n",
       "4  [Ley 2/2007, Ley 39/2015, Ley 3/2012, Ley 5/20...   [LEY 3/2012 ESP]  \n",
       "5                                                 []                 []  \n",
       "6                         [Ley 26/2010, Ley 10/2011]                 []  \n",
       "7              [Resolución CLT/677/2020, Ley 9/1993]                 []  \n",
       "8  [Ley 33/2010, Ley 4/1985, Ley 4/2020, Ley 26/2...  [LEY 33/2010 ESP]  "
      ],
      "text/html": "<div>\n<style scoped>\n    .dataframe tbody tr th:only-of-type {\n        vertical-align: middle;\n    }\n\n    .dataframe tbody tr th {\n        vertical-align: top;\n    }\n\n    .dataframe thead th {\n        text-align: right;\n    }\n</style>\n<table border=\"1\" class=\"dataframe\">\n  <thead>\n    <tr style=\"text-align: right;\">\n      <th></th>\n      <th>item_Title</th>\n      <th>item_urlHTML</th>\n      <th>item_urlPDF</th>\n      <th>tipo_doc</th>\n      <th>fecha_doc</th>\n      <th>numero_doc</th>\n      <th>num_control</th>\n      <th>entidad_emisora</th>\n      <th>CVE</th>\n      <th>numero_DOGC</th>\n      <th>fecha_DOGC</th>\n      <th>seccion_DOGC</th>\n      <th>numero_control</th>\n      <th>item_urlXML</th>\n      <th>item_title</th>\n      <th>item_fullText</th>\n      <th>Tags</th>\n      <th>Match_ASECORP_BBDD</th>\n    </tr>\n  </thead>\n  <tbody>\n    <tr>\n      <th>0</th>\n      <td>RESOLUCIÓN VEH/481/2021, de 8 de febrero, por ...</td>\n      <td>https://dogc.gencat.cat/es/document-del-dogc/?...</td>\n      <td>https://portaldogc.gencat.cat/utilsEADOP/AppJa...</td>\n      <td>[Resolución]</td>\n      <td>[08/02/2021]</td>\n      <td>[VEH/0481/2021]</td>\n      <td></td>\n      <td>[Agencia Tributaria de Cataluña]</td>\n      <td>[CVE-DOGC-B-21054033-2021]</td>\n      <td>[8350]</td>\n      <td>[25/02/2021]</td>\n      <td>[Disposiciones]</td>\n      <td>[21054033]</td>\n      <td>[https://portaldogc.gencat.cat/utilsEADOP/AppJ...</td>\n      <td>[RESOLUCIÓN VEH/481/2021, de 8 de febrero, por...</td>\n      <td>En fecha 17 de diciembre de 2020 se ha firmado...</td>\n      <td>[Ley 17/2017, Orden VEH/117/2017, Ley 26/2010,...</td>\n      <td>[]</td>\n    </tr>\n    <tr>\n      <th>1</th>\n      <td>EDICTO de 17 de febrero de 2021, sobre un acue...</td>\n      <td>https://dogc.gencat.cat/es/document-del-dogc/?...</td>\n      <td>https://portaldogc.gencat.cat/utilsEADOP/AppJa...</td>\n      <td>[Edicto ]</td>\n      <td>[17/02/2021]</td>\n      <td>[]</td>\n      <td></td>\n      <td>[Departamento de Territorio y Sostenibilidad]</td>\n      <td>[CVE-DOGC-B-21049037-2021]</td>\n      <td>[8350]</td>\n      <td>[25/02/2021]</td>\n      <td>[Disposiciones]</td>\n      <td>[21049037]</td>\n      <td>[https://portaldogc.gencat.cat/utilsEADOP/AppJ...</td>\n      <td>[EDICTO de 17 de febrero de 2021, sobre un acu...</td>\n      <td>La Comisión de Territorio de Cataluña, en la s...</td>\n      <td>[Ley 2/2007, Ley 39/2015, Ley 3/2012, Ley 5/20...</td>\n      <td>[LEY 3/2012 ESP]</td>\n    </tr>\n    <tr>\n      <th>2</th>\n      <td>EDICTO de 18 de febrero de 2021, sobre un acue...</td>\n      <td>https://dogc.gencat.cat/es/document-del-dogc/?...</td>\n      <td>https://portaldogc.gencat.cat/utilsEADOP/AppJa...</td>\n      <td>[Edicto ]</td>\n      <td>[18/02/2021]</td>\n      <td>[]</td>\n      <td></td>\n      <td>[Departamento de Territorio y Sostenibilidad]</td>\n      <td>[CVE-DOGC-B-21049024-2021]</td>\n      <td>[8350]</td>\n      <td>[25/02/2021]</td>\n      <td>[Disposiciones]</td>\n      <td>[21049024]</td>\n      <td>[https://portaldogc.gencat.cat/utilsEADOP/AppJ...</td>\n      <td>[EDICTO de 18 de febrero de 2021, sobre un acu...</td>\n      <td>La Comisión Territorial de Urbanismo del Alto ...</td>\n      <td>[Ley 3/2012, Ley 39/2015, Ley 29/1998, Ley 2/2...</td>\n      <td>[LEY 3/2012 ESP]</td>\n    </tr>\n    <tr>\n      <th>3</th>\n      <td>EDICTO de 18 de febrero de 2021, sobre un acue...</td>\n      <td>https://dogc.gencat.cat/es/document-del-dogc/?...</td>\n      <td>https://portaldogc.gencat.cat/utilsEADOP/AppJa...</td>\n      <td>[Edicto ]</td>\n      <td>[18/02/2021]</td>\n      <td>[]</td>\n      <td></td>\n      <td>[Departamento de Territorio y Sostenibilidad]</td>\n      <td>[CVE-DOGC-B-21049071-2021]</td>\n      <td>[8350]</td>\n      <td>[25/02/2021]</td>\n      <td>[Disposiciones]</td>\n      <td>[21049071]</td>\n      <td>[https://portaldogc.gencat.cat/utilsEADOP/AppJ...</td>\n      <td>[EDICTO de 18 de febrero de 2021, sobre un acu...</td>\n      <td>La Comisión Territorial de Urbanismo de Girona...</td>\n      <td>[Ley 3/2012, Ley 39/2015, Ley 29/1998, Ley 2/2...</td>\n      <td>[LEY 3/2012 ESP]</td>\n    </tr>\n    <tr>\n      <th>4</th>\n      <td>EDICTO de 18 de febrero de 2021, sobre un acue...</td>\n      <td>https://dogc.gencat.cat/es/document-del-dogc/?...</td>\n      <td>https://portaldogc.gencat.cat/utilsEADOP/AppJa...</td>\n      <td>[Edicto ]</td>\n      <td>[18/02/2021]</td>\n      <td>[]</td>\n      <td></td>\n      <td>[Departamento de Territorio y Sostenibilidad]</td>\n      <td>[CVE-DOGC-B-21049046-2021]</td>\n      <td>[8350]</td>\n      <td>[25/02/2021]</td>\n      <td>[Disposiciones]</td>\n      <td>[21049046]</td>\n      <td>[https://portaldogc.gencat.cat/utilsEADOP/AppJ...</td>\n      <td>[EDICTO de 18 de febrero de 2021, sobre un acu...</td>\n      <td>La Comisión de Territorio de Cataluña, en la s...</td>\n      <td>[Ley 2/2007, Ley 39/2015, Ley 3/2012, Ley 5/20...</td>\n      <td>[LEY 3/2012 ESP]</td>\n    </tr>\n    <tr>\n      <th>5</th>\n      <td>CORRECCIÓN DE ERRATA en el Edicto de 29 de oct...</td>\n      <td>https://dogc.gencat.cat/es/document-del-dogc/?...</td>\n      <td>https://portaldogc.gencat.cat/utilsEADOP/AppJa...</td>\n      <td>[Corrección de erratas]</td>\n      <td>[18/02/2021]</td>\n      <td>[]</td>\n      <td></td>\n      <td>[Departamento de Territorio y Sostenibilidad]</td>\n      <td>[CVE-DOGC-B-21049076-2021]</td>\n      <td>[8350]</td>\n      <td>[25/02/2021]</td>\n      <td>[Disposiciones]</td>\n      <td>[21049076]</td>\n      <td>[https://portaldogc.gencat.cat/utilsEADOP/AppJ...</td>\n      <td>[CORRECCIÓN DE ERRATA en el Edicto de 29 de oc...</td>\n      <td>Exp. 2020/072181/M\\nPlan especial urbanístico ...</td>\n      <td>[]</td>\n      <td>[]</td>\n    </tr>\n    <tr>\n      <th>6</th>\n      <td>RESOLUCIÓN TES/479/2021, de 22 de febrero, por...</td>\n      <td>https://dogc.gencat.cat/es/document-del-dogc/?...</td>\n      <td>https://portaldogc.gencat.cat/utilsEADOP/AppJa...</td>\n      <td>[Resolución]</td>\n      <td>[22/02/2021]</td>\n      <td>[TES/0479/2021]</td>\n      <td></td>\n      <td>[Agencia Catalana del Agua]</td>\n      <td>[CVE-DOGC-B-21054035-2021]</td>\n      <td>[8350]</td>\n      <td>[25/02/2021]</td>\n      <td>[Disposiciones]</td>\n      <td>[21054035]</td>\n      <td>[https://portaldogc.gencat.cat/utilsEADOP/AppJ...</td>\n      <td>[RESOLUCIÓN TES/479/2021, de 22 de febrero, po...</td>\n      <td>\\nEn cumplimiento de lo establecido en el art...</td>\n      <td>[Ley 26/2010, Ley 10/2011]</td>\n      <td>[]</td>\n    </tr>\n    <tr>\n      <th>7</th>\n      <td>ACUERDO GOV/19/2021, de 23 de febrero, por el ...</td>\n      <td>https://dogc.gencat.cat/es/document-del-dogc/?...</td>\n      <td>https://portaldogc.gencat.cat/utilsEADOP/AppJa...</td>\n      <td>[Acuerdo del gobierno ]</td>\n      <td>[23/02/2021]</td>\n      <td>[GOV/0019/2021]</td>\n      <td></td>\n      <td>[Departamento de Cultura]</td>\n      <td>[CVE-DOGC-B-21055025-2021]</td>\n      <td>[8350]</td>\n      <td>[25/02/2021]</td>\n      <td>[Disposiciones]</td>\n      <td>[21055025]</td>\n      <td>[https://portaldogc.gencat.cat/utilsEADOP/AppJ...</td>\n      <td>[ACUERDO GOV/19/2021, de 23 de febrero, por el...</td>\n      <td>Por la Resolución CLT/677/2020, de 4 de marzo ...</td>\n      <td>[Resolución CLT/677/2020, Ley 9/1993]</td>\n      <td>[]</td>\n    </tr>\n    <tr>\n      <th>8</th>\n      <td>RESOLUCIÓN TSF/480/2021, de 23 de febrero, por...</td>\n      <td>https://dogc.gencat.cat/es/document-del-dogc/?...</td>\n      <td>https://portaldogc.gencat.cat/utilsEADOP/AppJa...</td>\n      <td>[Resolución]</td>\n      <td>[23/02/2021]</td>\n      <td>[TSF/0480/2021]</td>\n      <td></td>\n      <td>[Agencia Catalana de la Juventud]</td>\n      <td>[CVE-DOGC-B-21054067-2021]</td>\n      <td>[8350]</td>\n      <td>[25/02/2021]</td>\n      <td>[Disposiciones]</td>\n      <td>[21054067]</td>\n      <td>[https://portaldogc.gencat.cat/utilsEADOP/AppJ...</td>\n      <td>[RESOLUCIÓN TSF/480/2021, de 23 de febrero, po...</td>\n      <td>La Ley 6/2006, de 26 de mayo, de creación de l...</td>\n      <td>[Ley 33/2010, Ley 4/1985, Ley 4/2020, Ley 26/2...</td>\n      <td>[LEY 33/2010 ESP]</td>\n    </tr>\n  </tbody>\n</table>\n</div>"
     },
     "metadata": {},
     "execution_count": 232
    }
   ],
   "source": [
    "DOGC_sumarios"
   ]
  },
  {
   "source": [
    "# Genera Fichero EXCEL de resultados"
   ],
   "cell_type": "markdown",
   "metadata": {}
  },
  {
   "cell_type": "code",
   "execution_count": 251,
   "metadata": {},
   "outputs": [],
   "source": [
    "DOGC_sumarios_final = DOGC_sumarios"
   ]
  },
  {
   "cell_type": "code",
   "execution_count": 252,
   "metadata": {},
   "outputs": [
    {
     "output_type": "execute_result",
     "data": {
      "text/plain": [
       "item_Title            object\n",
       "item_urlHTML          object\n",
       "item_urlPDF           object\n",
       "tipo_doc              object\n",
       "fecha_doc             object\n",
       "numero_doc            object\n",
       "num_control           object\n",
       "entidad_emisora       object\n",
       "CVE                   object\n",
       "numero_DOGC           object\n",
       "fecha_DOGC            object\n",
       "seccion_DOGC          object\n",
       "numero_control        object\n",
       "item_urlXML           object\n",
       "item_title            object\n",
       "item_fullText         object\n",
       "Tags                  object\n",
       "Match_ASECORP_BBDD    object\n",
       "dtype: object"
      ]
     },
     "metadata": {},
     "execution_count": 252
    }
   ],
   "source": [
    "DOGC_sumarios_final.dtypes"
   ]
  },
  {
   "cell_type": "code",
   "execution_count": 253,
   "metadata": {},
   "outputs": [],
   "source": [
    "## Cambia orden de columnas y elimina las no necesarias  \n",
    "DOGC_sumarios_final.rename(columns={'CVE': 'Item_id', 'item_Title': 'Item_Title', 'item_urlPDF': 'PDF_Link', 'fecha_DOGC': 'Fecha_publicacion'}, inplace=True)\n",
    "DOGC_sumarios_final = DOGC_sumarios[['Item_id','Item_Title','PDF_Link','Fecha_publicacion','Tags','Match_ASECORP_BBDD']]"
   ]
  },
  {
   "cell_type": "code",
   "execution_count": 254,
   "metadata": {},
   "outputs": [],
   "source": [
    "## Crea función que convierte lista a string en todas las columnas de DOCM_sumarios\n",
    "## para evitar en presentación final los caracteres [' '] propios de las listas\n",
    "def list2Str(lst):\n",
    "    if type(lst) is list: # apply conversion to list columns\n",
    "        return\", \".join(lst)\n",
    "    else:\n",
    "        return lst"
   ]
  },
  {
   "cell_type": "code",
   "execution_count": 255,
   "metadata": {},
   "outputs": [],
   "source": [
    "\n",
    "DOGC_sumarios_final = DOGC_sumarios_final.apply(lambda x: [list2Str(i) for i in x])"
   ]
  },
  {
   "cell_type": "code",
   "execution_count": 256,
   "metadata": {},
   "outputs": [],
   "source": [
    "## Generar hyperlink a artículo BOE en CSV \"=HYPERLINK(\"https://www.boe.es/boe/dias/2021/02/02/pdfs/BOE-A-2021-1474.pdf\";\"BOE-A-2021-1474\")\"\n",
    "## https://www.boe.es/diario_boe/xml.php?id=## https://www.boe.es/boe/dias/2021/02/02/pdfs/BOE-A-2021-1474.pdf\n",
    "\n",
    "DOGC_sumarios_final_CSV = DOGC_sumarios_final"
   ]
  },
  {
   "cell_type": "code",
   "execution_count": 259,
   "metadata": {},
   "outputs": [],
   "source": [
    "DOGC_sumarios_final_CSV['item_id'] = '=HIPERVINCULO(' + '\"' + DOGC_sumarios_final_CSV['PDF_Link'] + '\";' \\\n",
    "                                                        + '\"' + DOGC_sumarios_final_CSV['Item_id'] + '\")'      "
   ]
  },
  {
   "cell_type": "code",
   "execution_count": 260,
   "metadata": {},
   "outputs": [
    {
     "output_type": "execute_result",
     "data": {
      "text/plain": [
       "'=HIPERVINCULO(\"https://portaldogc.gencat.cat/utilsEADOP/AppJava/PdfProviderServlet?documentId=894230&type=01&language=es_ES\";\"CVE-DOGC-B-21054033-2021\")'"
      ]
     },
     "metadata": {},
     "execution_count": 260
    }
   ],
   "source": [
    "DOGC_sumarios_final_CSV['item_id'][0]"
   ]
  },
  {
   "cell_type": "code",
   "execution_count": 263,
   "metadata": {},
   "outputs": [],
   "source": [
    "# Elimina columna PDF_Link\n",
    "DOGC_sumarios_final_CSV = DOGC_sumarios_final_CSV[['Item_id','Item_Title','Fecha_publicacion','Tags','Match_ASECORP_BBDD']]"
   ]
  },
  {
   "cell_type": "code",
   "execution_count": 264,
   "metadata": {},
   "outputs": [
    {
     "output_type": "execute_result",
     "data": {
      "text/plain": [
       "                    Item_id  \\\n",
       "0  CVE-DOGC-B-21054033-2021   \n",
       "1  CVE-DOGC-B-21049037-2021   \n",
       "2  CVE-DOGC-B-21049024-2021   \n",
       "3  CVE-DOGC-B-21049071-2021   \n",
       "4  CVE-DOGC-B-21049046-2021   \n",
       "5  CVE-DOGC-B-21049076-2021   \n",
       "6  CVE-DOGC-B-21054035-2021   \n",
       "7  CVE-DOGC-B-21055025-2021   \n",
       "8  CVE-DOGC-B-21054067-2021   \n",
       "\n",
       "                                          Item_Title Fecha_publicacion  \\\n",
       "0  RESOLUCIÓN VEH/481/2021, de 8 de febrero, por ...        25/02/2021   \n",
       "1  EDICTO de 17 de febrero de 2021, sobre un acue...        25/02/2021   \n",
       "2  EDICTO de 18 de febrero de 2021, sobre un acue...        25/02/2021   \n",
       "3  EDICTO de 18 de febrero de 2021, sobre un acue...        25/02/2021   \n",
       "4  EDICTO de 18 de febrero de 2021, sobre un acue...        25/02/2021   \n",
       "5  CORRECCIÓN DE ERRATA en el Edicto de 29 de oct...        25/02/2021   \n",
       "6  RESOLUCIÓN TES/479/2021, de 22 de febrero, por...        25/02/2021   \n",
       "7  ACUERDO GOV/19/2021, de 23 de febrero, por el ...        25/02/2021   \n",
       "8  RESOLUCIÓN TSF/480/2021, de 23 de febrero, por...        25/02/2021   \n",
       "\n",
       "                                                Tags Match_ASECORP_BBDD  \n",
       "0  Ley 17/2017, Orden VEH/117/2017, Ley 26/2010, ...                     \n",
       "1  Ley 2/2007, Ley 39/2015, Ley 3/2012, Ley 5/202...     LEY 3/2012 ESP  \n",
       "2   Ley 3/2012, Ley 39/2015, Ley 29/1998, Ley 2/2007     LEY 3/2012 ESP  \n",
       "3   Ley 3/2012, Ley 39/2015, Ley 29/1998, Ley 2/2007     LEY 3/2012 ESP  \n",
       "4  Ley 2/2007, Ley 39/2015, Ley 3/2012, Ley 5/202...     LEY 3/2012 ESP  \n",
       "5                                                                        \n",
       "6                           Ley 26/2010, Ley 10/2011                     \n",
       "7                Resolución CLT/677/2020, Ley 9/1993                     \n",
       "8  Ley 33/2010, Ley 4/1985, Ley 4/2020, Ley 26/20...    LEY 33/2010 ESP  "
      ],
      "text/html": "<div>\n<style scoped>\n    .dataframe tbody tr th:only-of-type {\n        vertical-align: middle;\n    }\n\n    .dataframe tbody tr th {\n        vertical-align: top;\n    }\n\n    .dataframe thead th {\n        text-align: right;\n    }\n</style>\n<table border=\"1\" class=\"dataframe\">\n  <thead>\n    <tr style=\"text-align: right;\">\n      <th></th>\n      <th>Item_id</th>\n      <th>Item_Title</th>\n      <th>Fecha_publicacion</th>\n      <th>Tags</th>\n      <th>Match_ASECORP_BBDD</th>\n    </tr>\n  </thead>\n  <tbody>\n    <tr>\n      <th>0</th>\n      <td>CVE-DOGC-B-21054033-2021</td>\n      <td>RESOLUCIÓN VEH/481/2021, de 8 de febrero, por ...</td>\n      <td>25/02/2021</td>\n      <td>Ley 17/2017, Orden VEH/117/2017, Ley 26/2010, ...</td>\n      <td></td>\n    </tr>\n    <tr>\n      <th>1</th>\n      <td>CVE-DOGC-B-21049037-2021</td>\n      <td>EDICTO de 17 de febrero de 2021, sobre un acue...</td>\n      <td>25/02/2021</td>\n      <td>Ley 2/2007, Ley 39/2015, Ley 3/2012, Ley 5/202...</td>\n      <td>LEY 3/2012 ESP</td>\n    </tr>\n    <tr>\n      <th>2</th>\n      <td>CVE-DOGC-B-21049024-2021</td>\n      <td>EDICTO de 18 de febrero de 2021, sobre un acue...</td>\n      <td>25/02/2021</td>\n      <td>Ley 3/2012, Ley 39/2015, Ley 29/1998, Ley 2/2007</td>\n      <td>LEY 3/2012 ESP</td>\n    </tr>\n    <tr>\n      <th>3</th>\n      <td>CVE-DOGC-B-21049071-2021</td>\n      <td>EDICTO de 18 de febrero de 2021, sobre un acue...</td>\n      <td>25/02/2021</td>\n      <td>Ley 3/2012, Ley 39/2015, Ley 29/1998, Ley 2/2007</td>\n      <td>LEY 3/2012 ESP</td>\n    </tr>\n    <tr>\n      <th>4</th>\n      <td>CVE-DOGC-B-21049046-2021</td>\n      <td>EDICTO de 18 de febrero de 2021, sobre un acue...</td>\n      <td>25/02/2021</td>\n      <td>Ley 2/2007, Ley 39/2015, Ley 3/2012, Ley 5/202...</td>\n      <td>LEY 3/2012 ESP</td>\n    </tr>\n    <tr>\n      <th>5</th>\n      <td>CVE-DOGC-B-21049076-2021</td>\n      <td>CORRECCIÓN DE ERRATA en el Edicto de 29 de oct...</td>\n      <td>25/02/2021</td>\n      <td></td>\n      <td></td>\n    </tr>\n    <tr>\n      <th>6</th>\n      <td>CVE-DOGC-B-21054035-2021</td>\n      <td>RESOLUCIÓN TES/479/2021, de 22 de febrero, por...</td>\n      <td>25/02/2021</td>\n      <td>Ley 26/2010, Ley 10/2011</td>\n      <td></td>\n    </tr>\n    <tr>\n      <th>7</th>\n      <td>CVE-DOGC-B-21055025-2021</td>\n      <td>ACUERDO GOV/19/2021, de 23 de febrero, por el ...</td>\n      <td>25/02/2021</td>\n      <td>Resolución CLT/677/2020, Ley 9/1993</td>\n      <td></td>\n    </tr>\n    <tr>\n      <th>8</th>\n      <td>CVE-DOGC-B-21054067-2021</td>\n      <td>RESOLUCIÓN TSF/480/2021, de 23 de febrero, por...</td>\n      <td>25/02/2021</td>\n      <td>Ley 33/2010, Ley 4/1985, Ley 4/2020, Ley 26/20...</td>\n      <td>LEY 33/2010 ESP</td>\n    </tr>\n  </tbody>\n</table>\n</div>"
     },
     "metadata": {},
     "execution_count": 264
    }
   ],
   "source": [
    "DOGC_sumarios_final_CSV"
   ]
  },
  {
   "cell_type": "code",
   "execution_count": 265,
   "metadata": {},
   "outputs": [],
   "source": [
    "DOGC_sumarios_final_CSV.to_csv(\"./ASECORP/Resultados_Matching_DOGC_\" + today.strftime(\"%Y%m%d\") + \".csv\" ,index=False) "
   ]
  },
  {
   "cell_type": "code",
   "execution_count": null,
   "metadata": {},
   "outputs": [],
   "source": []
  }
 ]
}