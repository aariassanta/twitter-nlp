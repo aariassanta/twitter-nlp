{
 "metadata": {
  "language_info": {
   "codemirror_mode": {
    "name": "ipython",
    "version": 3
   },
   "file_extension": ".py",
   "mimetype": "text/x-python",
   "name": "python",
   "nbconvert_exporter": "python",
   "pygments_lexer": "ipython3",
   "version": "3.8.5-final"
  },
  "orig_nbformat": 2,
  "kernelspec": {
   "name": "python3",
   "display_name": "Python 3",
   "language": "python"
  }
 },
 "nbformat": 4,
 "nbformat_minor": 2,
 "cells": [
  {
   "cell_type": "code",
   "execution_count": 158,
   "metadata": {},
   "outputs": [],
   "source": [
    "from lxml import etree, html\n",
    "from lxml.html.clean import clean_html\n",
    "import pandas as pd\n",
    "from datetime import date, datetime\n",
    "import requests\n",
    "import re\n",
    "import os\n",
    "import shutil\n",
    "from ASECORP_BBDD import tagea_BBDD_ASECORP, devuelve_patrones\n",
    "from selenium import webdriver\n",
    "import time"
   ]
  },
  {
   "source": [
    "# Mueve todos los fichero del directorio de trabajo a otro de archivo"
   ],
   "cell_type": "markdown",
   "metadata": {}
  },
  {
   "source": [
    "# Recoge resumen diario del BOE de hoy"
   ],
   "cell_type": "markdown",
   "metadata": {}
  },
  {
   "cell_type": "code",
   "execution_count": 160,
   "metadata": {},
   "outputs": [
    {
     "output_type": "stream",
     "name": "stdout",
     "text": [
      "Fecha de Hoy = 20210317\ndia = 17\nmes = 03\naño = 2021\n17/03/2021\n"
     ]
    }
   ],
   "source": [
    "\n",
    "today = date.today()\n",
    "\n",
    "# dd/mm/YYYY\n",
    "hoy = today.strftime(\"%Y%m%d\")\n",
    "print(\"Fecha de Hoy =\", hoy)\n",
    "\n",
    "# dd\n",
    "d = today.strftime(\"%d\")\n",
    "print(\"dia =\", d)\n",
    "\n",
    "# mm\n",
    "m = today.strftime(\"%m\")\n",
    "print(\"mes =\", m)\n",
    "\n",
    "# YYYY\n",
    "Y = today.strftime(\"%Y\")\n",
    "print(\"año =\", Y)\n",
    "\n",
    "print(today.strftime(\"%d/%m/%Y\"))"
   ]
  },
  {
   "cell_type": "code",
   "execution_count": 162,
   "metadata": {},
   "outputs": [],
   "source": [
    "def save_html(html, path):\n",
    "    with open(path, 'wb') as f:\n",
    "        f.write(html)"
   ]
  },
  {
   "cell_type": "code",
   "execution_count": 164,
   "metadata": {},
   "outputs": [],
   "source": [
    "# Define expresiones REGEX para búsqueda de leyes, decretos, etc. referenciadas anteriormente\n",
    "#pattern = ['Ley [0-9]+\\/[0-9]+','Ley Orgánica [0-9]+\\/[0-9]+','Decreto [0-9]+\\/[0-9]+','Real Decreto [0-9]+\\/[0-9]+','Real Decreto Legislativo [0-9]+\\/[0-9]+','Real Decreto-ley [0-9]+\\/[0-9]+','Orden [A-Z]+\\/[0-9]+\\/[0-9]+','Orden Circular [0-9]+\\/[0-9]+','Reglamento \\(UE\\) [0-9]+\\/[0-9]+', 'Reglamento de Ejeución \\(UE\\) [0-9]+\\/[0-9]+' ,'Sentencia de [0-9]+ de [a-z]+ de [0-9]+','Sentencia [0-9]+\\/[0-9]+','Orden de [0-9]+ de [a-z]+ de [0-9]+', 'Resolución de [0-9]+ de [a-z]+ de [0-9]+','Resolución [a-z]+\\/[0-9]+\\/[0-9]+', 'Nota de Servicio [0-9]+\\/[0-9]+', 'Acuerdo multilateral M\\-[0-9]+', 'Acuerdo Multilateral RID [0-9]+\\/[0-9]+', 'Circular [0-9]+\\/[0-9]+', 'Decisión \\(UE\\) [0-9]+\\/[0-9]+', 'Decisión de Ejecución \\(UE\\) [0-9]+\\/[0-9]+', 'Instrucción IS\\-[0-9]+']\n",
    "pattern = devuelve_patrones()"
   ]
  },
  {
   "source": [
    "# ------------------------------------------------------------------------"
   ],
   "cell_type": "markdown",
   "metadata": {}
  },
  {
   "source": [
    "# DOGC"
   ],
   "cell_type": "markdown",
   "metadata": {}
  },
  {
   "cell_type": "code",
   "execution_count": 166,
   "metadata": {},
   "outputs": [],
   "source": [
    "URL_HTML_resumen = \"https://dogc.gencat.cat/es/inici/\""
   ]
  },
  {
   "cell_type": "code",
   "execution_count": 168,
   "metadata": {},
   "outputs": [
    {
     "output_type": "stream",
     "name": "stdout",
     "text": [
      "['DOGC núm. 8367']\n['Disposiciones', 'Cargos y personal', 'Anuncios de la Generalidad de Cataluña', 'Anuncios de la Administración local', 'Anuncios de la Administración de justicia ']\n['https://dogc.gencat.cat/es/sumari-del-dogc/?numDOGC=8367#section-Disposiciones', 'https://dogc.gencat.cat/es/sumari-del-dogc/?numDOGC=8367#section-Cargos_y_personal', 'https://dogc.gencat.cat/es/sumari-del-dogc/?numDOGC=8367#section-Anuncios_de_la_Generalidad_de_Cataluña', 'https://dogc.gencat.cat/es/sumari-del-dogc/?numDOGC=8367#section-Anuncios_de_la_Administración_local', 'https://dogc.gencat.cat/es/sumari-del-dogc/?numDOGC=8367#section-Anuncios_de_la_Administración_de_justicia_']\n"
     ]
    }
   ],
   "source": [
    "### Necesita libreria Selenium para renderizar JS script\n",
    "\n",
    "options = webdriver.ChromeOptions()\n",
    "options.headless = True\n",
    "driver = webdriver.Chrome(options=options)\n",
    "\n",
    "driver.get(URL_HTML_resumen)\n",
    "#print(driver.page_source)\n",
    "response = driver.page_source\n",
    "\n",
    "sumario_HTML = html.fromstring(response)\n",
    "#print(sumario_HTML.xpath('//h2[@class=\"titol-component\"]/a/@href'))\n",
    "numero_diario = sumario_HTML.xpath('//h2[@class=\"titol-component\"]/a/text()')\n",
    "secciones = sumario_HTML.xpath('//div[@class=\"llistat_cont\"]/ul/li/a/text()')\n",
    "secciones_link = sumario_HTML.xpath('//div[@class=\"llistat_cont\"]/ul/li/a/@href')\n",
    "secciones_linkHTML = [ ('https://dogc.gencat.cat' + item) for item in secciones_link ]\n",
    "# numero_pagina = sumario_HTML.xpath('//table[@class=\"tablaDetalle\"]/tbody/tr[3]/td[4]/text()')\n",
    "# NID = sumario_HTML.xpath('//table[@class=\"tablaDetalle\"]/tbody/tr[2]/td[2]/text()')\n",
    "# rango = sumario_HTML.xpath('//table[@class=\"tablaDetalle\"]/tbody/tr[5]/td[2]/text()')\n",
    "# organo_emisor = sumario_HTML.xpath('//table[@class=\"tablaDetalle\"]/tbody/tr[7]/td[2]/text()')\n",
    "# \n",
    "# print(numero_diario[0].strip(), numero_pagina[0].strip(), NID[0].strip(), rango[0].strip(), organo_emisor[0].strip())\n",
    "# print()\n",
    "print(numero_diario)\n",
    "print(secciones)\n",
    "print(secciones_linkHTML)\n",
    "\n",
    "driver.quit()"
   ]
  },
  {
   "cell_type": "code",
   "execution_count": 170,
   "metadata": {},
   "outputs": [],
   "source": [
    "#response"
   ]
  },
  {
   "source": [
    "## Recoge Nombre Secciones Sumario"
   ],
   "cell_type": "markdown",
   "metadata": {}
  },
  {
   "cell_type": "code",
   "execution_count": 172,
   "metadata": {},
   "outputs": [],
   "source": [
    "secciones = sumario_HTML.xpath('//div[@class=\"llistat_cont\"]/ul/li/a/text()')\n",
    "#print(secciones)\n",
    "df_secciones_sumarios = pd.DataFrame()\n",
    "for seccion in secciones:\n",
    "    df_secciones_sumarios = df_secciones_sumarios.append({'Seccion': seccion}, ignore_index=True)\n"
   ]
  },
  {
   "cell_type": "code",
   "execution_count": 174,
   "metadata": {},
   "outputs": [
    {
     "output_type": "execute_result",
     "data": {
      "text/plain": [
       "                                      Seccion\n",
       "0                               Disposiciones\n",
       "1                           Cargos y personal\n",
       "2      Anuncios de la Generalidad de Cataluña\n",
       "3         Anuncios de la Administración local\n",
       "4  Anuncios de la Administración de justicia "
      ],
      "text/html": "<div>\n<style scoped>\n    .dataframe tbody tr th:only-of-type {\n        vertical-align: middle;\n    }\n\n    .dataframe tbody tr th {\n        vertical-align: top;\n    }\n\n    .dataframe thead th {\n        text-align: right;\n    }\n</style>\n<table border=\"1\" class=\"dataframe\">\n  <thead>\n    <tr style=\"text-align: right;\">\n      <th></th>\n      <th>Seccion</th>\n    </tr>\n  </thead>\n  <tbody>\n    <tr>\n      <th>0</th>\n      <td>Disposiciones</td>\n    </tr>\n    <tr>\n      <th>1</th>\n      <td>Cargos y personal</td>\n    </tr>\n    <tr>\n      <th>2</th>\n      <td>Anuncios de la Generalidad de Cataluña</td>\n    </tr>\n    <tr>\n      <th>3</th>\n      <td>Anuncios de la Administración local</td>\n    </tr>\n    <tr>\n      <th>4</th>\n      <td>Anuncios de la Administración de justicia</td>\n    </tr>\n  </tbody>\n</table>\n</div>"
     },
     "metadata": {},
     "execution_count": 174
    }
   ],
   "source": [
    "df_secciones_sumarios"
   ]
  },
  {
   "source": [
    "## Recoge Valores para formar URLs Secciones Sumario"
   ],
   "cell_type": "markdown",
   "metadata": {}
  },
  {
   "cell_type": "code",
   "execution_count": 176,
   "metadata": {},
   "outputs": [
    {
     "output_type": "stream",
     "name": "stdout",
     "text": [
      "https://dogc.gencat.cat/es/sumari-del-dogc/?numDOGC=8367#section-Disposiciones\nhttps://dogc.gencat.cat/es/sumari-del-dogc/?numDOGC=8367#section-Cargos_y_personal\nhttps://dogc.gencat.cat/es/sumari-del-dogc/?numDOGC=8367#section-Anuncios_de_la_Generalidad_de_Cataluña\nhttps://dogc.gencat.cat/es/sumari-del-dogc/?numDOGC=8367#section-Anuncios_de_la_Administración_local\nhttps://dogc.gencat.cat/es/sumari-del-dogc/?numDOGC=8367#section-Anuncios_de_la_Administración_de_justicia_\n"
     ]
    }
   ],
   "source": [
    "URL_base_sumario = sumario_HTML.xpath('//div[@class=\"llistat_cont\"]/ul/li/a/@href')\n",
    "URL_sumario = [ ('https://dogc.gencat.cat' + item) for item in secciones_link ]\n",
    "\n",
    "df_URL_sumarios = pd.DataFrame()\n",
    "\n",
    "for URL_seccion in URL_base_sumario:    \n",
    "    URL_sumario = 'https://dogc.gencat.cat' + str(URL_seccion)\n",
    "    print(URL_sumario)\n",
    "    df_URL_sumarios = df_URL_sumarios.append({'URL_Seccion': URL_sumario}, ignore_index=True)"
   ]
  },
  {
   "cell_type": "code",
   "execution_count": 178,
   "metadata": {},
   "outputs": [
    {
     "output_type": "execute_result",
     "data": {
      "text/plain": [
       "                                         URL_Seccion\n",
       "0  https://dogc.gencat.cat/es/sumari-del-dogc/?nu...\n",
       "1  https://dogc.gencat.cat/es/sumari-del-dogc/?nu...\n",
       "2  https://dogc.gencat.cat/es/sumari-del-dogc/?nu...\n",
       "3  https://dogc.gencat.cat/es/sumari-del-dogc/?nu...\n",
       "4  https://dogc.gencat.cat/es/sumari-del-dogc/?nu..."
      ],
      "text/html": "<div>\n<style scoped>\n    .dataframe tbody tr th:only-of-type {\n        vertical-align: middle;\n    }\n\n    .dataframe tbody tr th {\n        vertical-align: top;\n    }\n\n    .dataframe thead th {\n        text-align: right;\n    }\n</style>\n<table border=\"1\" class=\"dataframe\">\n  <thead>\n    <tr style=\"text-align: right;\">\n      <th></th>\n      <th>URL_Seccion</th>\n    </tr>\n  </thead>\n  <tbody>\n    <tr>\n      <th>0</th>\n      <td>https://dogc.gencat.cat/es/sumari-del-dogc/?nu...</td>\n    </tr>\n    <tr>\n      <th>1</th>\n      <td>https://dogc.gencat.cat/es/sumari-del-dogc/?nu...</td>\n    </tr>\n    <tr>\n      <th>2</th>\n      <td>https://dogc.gencat.cat/es/sumari-del-dogc/?nu...</td>\n    </tr>\n    <tr>\n      <th>3</th>\n      <td>https://dogc.gencat.cat/es/sumari-del-dogc/?nu...</td>\n    </tr>\n    <tr>\n      <th>4</th>\n      <td>https://dogc.gencat.cat/es/sumari-del-dogc/?nu...</td>\n    </tr>\n  </tbody>\n</table>\n</div>"
     },
     "metadata": {},
     "execution_count": 178
    }
   ],
   "source": [
    "df_URL_sumarios"
   ]
  },
  {
   "cell_type": "code",
   "execution_count": 180,
   "metadata": {},
   "outputs": [],
   "source": [
    " df_sumarios = pd.concat([df_secciones_sumarios, df_URL_sumarios], axis=1)"
   ]
  },
  {
   "cell_type": "code",
   "execution_count": 182,
   "metadata": {},
   "outputs": [
    {
     "output_type": "execute_result",
     "data": {
      "text/plain": [
       "                                      Seccion  \\\n",
       "0                               Disposiciones   \n",
       "1                           Cargos y personal   \n",
       "2      Anuncios de la Generalidad de Cataluña   \n",
       "3         Anuncios de la Administración local   \n",
       "4  Anuncios de la Administración de justicia    \n",
       "\n",
       "                                         URL_Seccion  \n",
       "0  https://dogc.gencat.cat/es/sumari-del-dogc/?nu...  \n",
       "1  https://dogc.gencat.cat/es/sumari-del-dogc/?nu...  \n",
       "2  https://dogc.gencat.cat/es/sumari-del-dogc/?nu...  \n",
       "3  https://dogc.gencat.cat/es/sumari-del-dogc/?nu...  \n",
       "4  https://dogc.gencat.cat/es/sumari-del-dogc/?nu...  "
      ],
      "text/html": "<div>\n<style scoped>\n    .dataframe tbody tr th:only-of-type {\n        vertical-align: middle;\n    }\n\n    .dataframe tbody tr th {\n        vertical-align: top;\n    }\n\n    .dataframe thead th {\n        text-align: right;\n    }\n</style>\n<table border=\"1\" class=\"dataframe\">\n  <thead>\n    <tr style=\"text-align: right;\">\n      <th></th>\n      <th>Seccion</th>\n      <th>URL_Seccion</th>\n    </tr>\n  </thead>\n  <tbody>\n    <tr>\n      <th>0</th>\n      <td>Disposiciones</td>\n      <td>https://dogc.gencat.cat/es/sumari-del-dogc/?nu...</td>\n    </tr>\n    <tr>\n      <th>1</th>\n      <td>Cargos y personal</td>\n      <td>https://dogc.gencat.cat/es/sumari-del-dogc/?nu...</td>\n    </tr>\n    <tr>\n      <th>2</th>\n      <td>Anuncios de la Generalidad de Cataluña</td>\n      <td>https://dogc.gencat.cat/es/sumari-del-dogc/?nu...</td>\n    </tr>\n    <tr>\n      <th>3</th>\n      <td>Anuncios de la Administración local</td>\n      <td>https://dogc.gencat.cat/es/sumari-del-dogc/?nu...</td>\n    </tr>\n    <tr>\n      <th>4</th>\n      <td>Anuncios de la Administración de justicia</td>\n      <td>https://dogc.gencat.cat/es/sumari-del-dogc/?nu...</td>\n    </tr>\n  </tbody>\n</table>\n</div>"
     },
     "metadata": {},
     "execution_count": 182
    }
   ],
   "source": [
    "df_sumarios"
   ]
  },
  {
   "cell_type": "code",
   "execution_count": 184,
   "metadata": {},
   "outputs": [
    {
     "output_type": "execute_result",
     "data": {
      "text/plain": [
       "'https://dogc.gencat.cat/es/sumari-del-dogc/?numDOGC=8367#section-Disposiciones'"
      ]
     },
     "metadata": {},
     "execution_count": 184
    }
   ],
   "source": [
    "df_sumarios['URL_Seccion'][0]"
   ]
  },
  {
   "source": [
    "## Recoge Items en Seccion Disposiciones"
   ],
   "cell_type": "markdown",
   "metadata": {}
  },
  {
   "cell_type": "code",
   "execution_count": 186,
   "metadata": {},
   "outputs": [],
   "source": [
    "URL_HTML_disposiciones = df_sumarios[df_sumarios['Seccion'] == 'Disposiciones']"
   ]
  },
  {
   "cell_type": "code",
   "execution_count": 188,
   "metadata": {},
   "outputs": [
    {
     "output_type": "stream",
     "name": "stdout",
     "text": [
      "Disposiciones\n"
     ]
    }
   ],
   "source": [
    "print(URL_HTML_disposiciones['Seccion'][0])"
   ]
  },
  {
   "cell_type": "code",
   "execution_count": 190,
   "metadata": {},
   "outputs": [
    {
     "output_type": "stream",
     "name": "stdout",
     "text": [
      "https://dogc.gencat.cat/es/sumari-del-dogc/?numDOGC=8367#section-Disposiciones\n"
     ]
    }
   ],
   "source": [
    "print(URL_HTML_disposiciones['URL_Seccion'][0])"
   ]
  },
  {
   "cell_type": "code",
   "execution_count": 192,
   "metadata": {},
   "outputs": [],
   "source": [
    "URL_HTML_disposiciones = URL_HTML_disposiciones['URL_Seccion'][0]"
   ]
  },
  {
   "cell_type": "code",
   "execution_count": null,
   "metadata": {},
   "outputs": [],
   "source": [
    "URL_HTML_disposiciones"
   ]
  },
  {
   "cell_type": "code",
   "execution_count": 226,
   "metadata": {
    "tags": []
   },
   "outputs": [
    {
     "output_type": "stream",
     "name": "stdout",
     "text": [
      "['Departamento de la Presidencia', 'Departamento de Acción Exterior, Relaciones Institucionales y Transparencia', 'Departamento de Territorio y Sostenibilidad', 'Departamento de Cultura', 'Departamento de Trabajo, Asuntos Sociales y Familias', 'Departamento de Agricultura, Ganadería, Pesca y Alimentación']\n['RESOLUCIÓN PRE/734/2021, de 9 de marzo, por la que se abre la convocatoria para la concesión de ayudas extraordinarias y de emergencia para hacer frente a las afectaciones económicas y sociales producidas en el sector de la actividad física y el deporte a causa del aplazamiento o la suspensión de competiciones deportivas de ámbito catalán, atendiendo la publicación de las resoluciones SLT/1/2021, de 4 de enero, SLT/67/2021, de 17 de enero, y SLT/133/2021, de 22 de enero, como consecuencia de la crisis sanitaria, económica y social de la COVID-19 (ref. BDNS 552491).', 'RESOLUCIÓN EXI/733/2021, de 5 de febrero, de la directora de Servicios del Departamento de Acción Exterior, Relaciones Institucionales y Transparencia, por la que se encarga al Instituto Catalán de Evaluación de Políticas Públicas (Ivàlua) la elaboración de la Teoría del Cambio y el sistema de indicadores para las Mesas de Participación Social, y la evaluación del asesoramiento de la Dirección General de Participación Ciudadana y Procesos Electorales (DGPCPE) al Departamento de Justicia.', 'EDICTO de 8 de marzo de 2021, sobre acuerdos de la Comisión Territorial de Urbanismo de El Penedès referentes al municipio de El Montmell.', 'EDICTO de 9 de marzo de 2021, sobre un acuerdo de la Comisión Territorial de Urbanismo del ámbito metropolitano de Barcelona referente al municipio de El Prat de Llobregat.', 'EDICTO de 10 de marzo de 2021, sobre un acuerdo de la Comisión Territorial de Urbanismo de Girona referente al municipio de Navata.', 'EDICTO de 10 de marzo de 2021, sobre acuerdos de la Comisión Territorial de Urbanismo del Arco Metropolitano de Barcelona referentes a una modificación puntual de Plan parcial urbanístico del municipio de Santa Susanna.', 'RESOLUCIÓN CLT/683/2021, de 9 de marzo, de convocatoria para la concesión de subvenciones, en régimen de concurrencia competitiva, a la producción de nuevos montajes teatrales de sala y de calle de carácter profesional (ref. BDNS 552675).', 'RESOLUCIÓN CLT/722/2021, de 10 de marzo, de convocatoria para la concesión de subvenciones, en régimen de concurrencia competitiva, para obras de mejora o para la adquisición de equipamiento de empresas de artes escénicas y salas privadas de teatro de Cataluña, excepto de la ciudad de Barcelona (ref. BDNS 553016).', 'CORRECCIÓN DE ERRATAS en la Resolución TSF/3535/2020, de 18 de diciembre, por la que se dispone la inscripción y la publicación del III Convenio colectivo de trabajo del Ciclo Integral del Agua (código de convenio núm. 79100125012014) (DOGC núm. 8334, de 5.2.2021).', 'ORDEN ARP/60/2021, de 12 de marzo, por la que se reconoce con carácter definitivo el Consejo Regulador y el Reglamento de la Indicación Geográfica Protegida Ratafía Catalana.', 'ORDEN ARP/61/2021, de 12 de marzo, por la que se reconoce con carácter definitivo el Consejo Regulador y el Reglamento de la Indicación Geográfica Protegida Brandy del Penedès.', 'ORDEN ARP/62/2021, de 11 de marzo, por la que se modifica la Orden ARP/15/2018, de 16 de febrero, por la que se aprueban las bases reguladoras de las ayudas ']\n['/es/document-del-dogc/?documentId=895879', '/es/document-del-dogc/?documentId=895850', '/es/document-del-dogc/?documentId=895883', '/es/document-del-dogc/?documentId=895874', '/es/document-del-dogc/?documentId=895864', '/es/document-del-dogc/?documentId=895911', '/es/document-del-dogc/?documentId=895834', '/es/document-del-dogc/?documentId=895862', '/es/document-del-dogc/?documentId=895869', '/es/document-del-dogc/?documentId=895901', '/es/document-del-dogc/?documentId=895907', '/es/document-del-dogc/?documentId=895868']\n['https://portaldogc.gencat.cat/utilsEADOP/AppJava/PdfProviderServlet?documentId=895879&type=01&language=es_ES', 'https://portaldogc.gencat.cat/utilsEADOP/AppJava/PdfProviderServlet?documentId=895850&type=01&language=es_ES', 'https://portaldogc.gencat.cat/utilsEADOP/AppJava/PdfProviderServlet?documentId=895883&type=01&language=es_ES', 'https://portaldogc.gencat.cat/utilsEADOP/AppJava/PdfProviderServlet?documentId=895874&type=01&language=es_ES', 'https://portaldogc.gencat.cat/utilsEADOP/AppJava/PdfProviderServlet?documentId=895864&type=01&language=es_ES', 'https://portaldogc.gencat.cat/utilsEADOP/AppJava/PdfProviderServlet?documentId=895911&type=01&language=es_ES', 'https://portaldogc.gencat.cat/utilsEADOP/AppJava/PdfProviderServlet?documentId=895834&type=01&language=es_ES', 'https://portaldogc.gencat.cat/utilsEADOP/AppJava/PdfProviderServlet?documentId=895862&type=01&language=es_ES', 'https://portaldogc.gencat.cat/utilsEADOP/AppJava/PdfProviderServlet?documentId=895869&type=01&language=es_ES', 'https://portaldogc.gencat.cat/utilsEADOP/AppJava/PdfProviderServlet?documentId=895901&type=01&language=es_ES', 'https://portaldogc.gencat.cat/utilsEADOP/AppJava/PdfProviderServlet?documentId=895907&type=01&language=es_ES', 'https://portaldogc.gencat.cat/utilsEADOP/AppJava/PdfProviderServlet?documentId=895868&type=01&language=es_ES']\n"
     ]
    }
   ],
   "source": [
    "options = webdriver.ChromeOptions()\n",
    "options.headless = True\n",
    "driver = webdriver.Chrome(options=options)\n",
    "\n",
    "driver.get(URL_HTML_disposiciones)\n",
    "#print(driver.page_source)\n",
    "response = driver.page_source\n",
    "### Recoge Items en Seccion Disposiciones\n",
    "disposiciones_HTML = html.fromstring(response)\n",
    "\n",
    "#print(html.tostring(disposiciones_HTML))\n",
    "#print('____________________')\n",
    "\n",
    "departamentos = disposiciones_HTML.xpath('/descendant::*[@class=\"wrapper-disposicions\"][1]/h3/text()') # Sólo Sección disposiciones\n",
    "disposiciones = disposiciones_HTML.xpath('/descendant::*[@class=\"wrapper-disposicions\"][1]/ul/descendant::li/div/a/text()[1]')\n",
    "disposiciones_link = disposiciones_HTML.xpath('/descendant::*[@class=\"wrapper-disposicions\"][1]/ul/descendant::li/div/a/@href')\n",
    "disposiciones_pdf = disposiciones_HTML.xpath('/descendant::*[@class=\"wrapper-disposicions\"][1]/ul/descendant::li/div/div/a/@href')\n",
    "\n",
    "# for i in range(len(departamentos)):\n",
    "#     print(departamentos[i])\n",
    "#     i += 1\n",
    "#     #print(disposiciones_HTML.xpath('//*[@class=\"wrapper-disposicions\"]/ul[' + str(i) + ']//li/div/a/text()'))\n",
    "#     print(disposiciones_HTML.xpath('//*[@class=\"wrapper-disposicions\"]/ul[1]//li/div/a/text()'))\n",
    "\n",
    "print(departamentos)\n",
    "print(disposiciones)\n",
    "print(disposiciones_link)\n",
    "print(disposiciones_pdf)\n",
    "\n",
    "driver.quit()\n"
   ]
  },
  {
   "cell_type": "code",
   "execution_count": 227,
   "metadata": {},
   "outputs": [
    {
     "output_type": "execute_result",
     "data": {
      "text/plain": [
       "12"
      ]
     },
     "metadata": {},
     "execution_count": 227
    }
   ],
   "source": [
    "len(disposiciones)"
   ]
  },
  {
   "cell_type": "code",
   "execution_count": 230,
   "metadata": {},
   "outputs": [
    {
     "output_type": "stream",
     "name": "stdout",
     "text": [
      "ORDEN ARP/62/2021, de 11 de marzo, por la que se modifica la Orden ARP/15/2018, de 16 de febrero, por la que se aprueban las bases reguladoras de las ayudas \n"
     ]
    }
   ],
   "source": [
    "print(disposiciones[11])"
   ]
  },
  {
   "cell_type": "code",
   "execution_count": 231,
   "metadata": {},
   "outputs": [
    {
     "output_type": "stream",
     "name": "stdout",
     "text": [
      "0 RESOLUCIÓN PRE/734/2021, de 9 de marzo, por la que se abre la convocatoria para la concesión de ayudas extraordinarias y de emergencia para hacer frente a las afectaciones económicas y sociales producidas en el sector de la actividad física y el deporte a causa del aplazamiento o la suspensión de competiciones deportivas de ámbito catalán, atendiendo la publicación de las resoluciones SLT/1/2021, de 4 de enero, SLT/67/2021, de 17 de enero, y SLT/133/2021, de 22 de enero, como consecuencia de la crisis sanitaria, económica y social de la COVID-19 (ref. BDNS 552491).\n1 RESOLUCIÓN EXI/733/2021, de 5 de febrero, de la directora de Servicios del Departamento de Acción Exterior, Relaciones Institucionales y Transparencia, por la que se encarga al Instituto Catalán de Evaluación de Políticas Públicas (Ivàlua) la elaboración de la Teoría del Cambio y el sistema de indicadores para las Mesas de Participación Social, y la evaluación del asesoramiento de la Dirección General de Participación Ciudadana y Procesos Electorales (DGPCPE) al Departamento de Justicia.\n2 EDICTO de 8 de marzo de 2021, sobre acuerdos de la Comisión Territorial de Urbanismo de El Penedès referentes al municipio de El Montmell.\n3 EDICTO de 9 de marzo de 2021, sobre un acuerdo de la Comisión Territorial de Urbanismo del ámbito metropolitano de Barcelona referente al municipio de El Prat de Llobregat.\n4 EDICTO de 10 de marzo de 2021, sobre un acuerdo de la Comisión Territorial de Urbanismo de Girona referente al municipio de Navata.\n5 EDICTO de 10 de marzo de 2021, sobre acuerdos de la Comisión Territorial de Urbanismo del Arco Metropolitano de Barcelona referentes a una modificación puntual de Plan parcial urbanístico del municipio de Santa Susanna.\n6 RESOLUCIÓN CLT/683/2021, de 9 de marzo, de convocatoria para la concesión de subvenciones, en régimen de concurrencia competitiva, a la producción de nuevos montajes teatrales de sala y de calle de carácter profesional (ref. BDNS 552675).\n7 RESOLUCIÓN CLT/722/2021, de 10 de marzo, de convocatoria para la concesión de subvenciones, en régimen de concurrencia competitiva, para obras de mejora o para la adquisición de equipamiento de empresas de artes escénicas y salas privadas de teatro de Cataluña, excepto de la ciudad de Barcelona (ref. BDNS 553016).\n8 CORRECCIÓN DE ERRATAS en la Resolución TSF/3535/2020, de 18 de diciembre, por la que se dispone la inscripción y la publicación del III Convenio colectivo de trabajo del Ciclo Integral del Agua (código de convenio núm. 79100125012014) (DOGC núm. 8334, de 5.2.2021).\n9 ORDEN ARP/60/2021, de 12 de marzo, por la que se reconoce con carácter definitivo el Consejo Regulador y el Reglamento de la Indicación Geográfica Protegida Ratafía Catalana.\n10 ORDEN ARP/61/2021, de 12 de marzo, por la que se reconoce con carácter definitivo el Consejo Regulador y el Reglamento de la Indicación Geográfica Protegida Brandy del Penedès.\n11 ORDEN ARP/62/2021, de 11 de marzo, por la que se modifica la Orden ARP/15/2018, de 16 de febrero, por la que se aprueban las bases reguladoras de las ayudas \n"
     ]
    }
   ],
   "source": [
    "for i in range(len(disposiciones)):\n",
    "    print (i, disposiciones[i])"
   ]
  },
  {
   "cell_type": "code",
   "execution_count": 232,
   "metadata": {},
   "outputs": [],
   "source": [
    "DOGC_sumarios = pd.DataFrame(columns=['item_Title','item_urlHTML','item_urlPDF'])"
   ]
  },
  {
   "cell_type": "code",
   "execution_count": 233,
   "metadata": {},
   "outputs": [
    {
     "output_type": "execute_result",
     "data": {
      "text/plain": [
       "Empty DataFrame\n",
       "Columns: [item_Title, item_urlHTML, item_urlPDF]\n",
       "Index: []"
      ],
      "text/html": "<div>\n<style scoped>\n    .dataframe tbody tr th:only-of-type {\n        vertical-align: middle;\n    }\n\n    .dataframe tbody tr th {\n        vertical-align: top;\n    }\n\n    .dataframe thead th {\n        text-align: right;\n    }\n</style>\n<table border=\"1\" class=\"dataframe\">\n  <thead>\n    <tr style=\"text-align: right;\">\n      <th></th>\n      <th>item_Title</th>\n      <th>item_urlHTML</th>\n      <th>item_urlPDF</th>\n    </tr>\n  </thead>\n  <tbody>\n  </tbody>\n</table>\n</div>"
     },
     "metadata": {},
     "execution_count": 233
    }
   ],
   "source": [
    "DOGC_sumarios"
   ]
  },
  {
   "cell_type": "code",
   "execution_count": 234,
   "metadata": {},
   "outputs": [],
   "source": [
    "lista = []\n",
    "for disposicion in disposiciones:\n",
    "    lista.append(disposicion)\n",
    "\n",
    "DOGC_sumarios['item_Title'] = lista\n",
    "\n",
    "lista = []   \n",
    "for link_HTML in disposiciones_link:\n",
    "    #print(link)\n",
    "    lista.append('https://dogc.gencat.cat' + str(link_HTML))\n",
    "\n",
    "DOGC_sumarios['item_urlHTML'] = lista\n",
    "\n",
    "lista = []   \n",
    "for link_PDF in disposiciones_pdf:\n",
    "    #print(link)\n",
    "    lista.append(link_PDF)\n",
    "\n",
    "DOGC_sumarios['item_urlPDF'] = lista"
   ]
  },
  {
   "cell_type": "code",
   "execution_count": 235,
   "metadata": {},
   "outputs": [
    {
     "output_type": "execute_result",
     "data": {
      "text/plain": [
       "                                           item_Title  \\\n",
       "0   RESOLUCIÓN PRE/734/2021, de 9 de marzo, por la...   \n",
       "1   RESOLUCIÓN EXI/733/2021, de 5 de febrero, de l...   \n",
       "2   EDICTO de 8 de marzo de 2021, sobre acuerdos d...   \n",
       "3   EDICTO de 9 de marzo de 2021, sobre un acuerdo...   \n",
       "4   EDICTO de 10 de marzo de 2021, sobre un acuerd...   \n",
       "5   EDICTO de 10 de marzo de 2021, sobre acuerdos ...   \n",
       "6   RESOLUCIÓN CLT/683/2021, de 9 de marzo, de con...   \n",
       "7   RESOLUCIÓN CLT/722/2021, de 10 de marzo, de co...   \n",
       "8   CORRECCIÓN DE ERRATAS en la Resolución TSF/353...   \n",
       "9   ORDEN ARP/60/2021, de 12 de marzo, por la que ...   \n",
       "10  ORDEN ARP/61/2021, de 12 de marzo, por la que ...   \n",
       "11  ORDEN ARP/62/2021, de 11 de marzo, por la que ...   \n",
       "\n",
       "                                         item_urlHTML  \\\n",
       "0   https://dogc.gencat.cat/es/document-del-dogc/?...   \n",
       "1   https://dogc.gencat.cat/es/document-del-dogc/?...   \n",
       "2   https://dogc.gencat.cat/es/document-del-dogc/?...   \n",
       "3   https://dogc.gencat.cat/es/document-del-dogc/?...   \n",
       "4   https://dogc.gencat.cat/es/document-del-dogc/?...   \n",
       "5   https://dogc.gencat.cat/es/document-del-dogc/?...   \n",
       "6   https://dogc.gencat.cat/es/document-del-dogc/?...   \n",
       "7   https://dogc.gencat.cat/es/document-del-dogc/?...   \n",
       "8   https://dogc.gencat.cat/es/document-del-dogc/?...   \n",
       "9   https://dogc.gencat.cat/es/document-del-dogc/?...   \n",
       "10  https://dogc.gencat.cat/es/document-del-dogc/?...   \n",
       "11  https://dogc.gencat.cat/es/document-del-dogc/?...   \n",
       "\n",
       "                                          item_urlPDF  \n",
       "0   https://portaldogc.gencat.cat/utilsEADOP/AppJa...  \n",
       "1   https://portaldogc.gencat.cat/utilsEADOP/AppJa...  \n",
       "2   https://portaldogc.gencat.cat/utilsEADOP/AppJa...  \n",
       "3   https://portaldogc.gencat.cat/utilsEADOP/AppJa...  \n",
       "4   https://portaldogc.gencat.cat/utilsEADOP/AppJa...  \n",
       "5   https://portaldogc.gencat.cat/utilsEADOP/AppJa...  \n",
       "6   https://portaldogc.gencat.cat/utilsEADOP/AppJa...  \n",
       "7   https://portaldogc.gencat.cat/utilsEADOP/AppJa...  \n",
       "8   https://portaldogc.gencat.cat/utilsEADOP/AppJa...  \n",
       "9   https://portaldogc.gencat.cat/utilsEADOP/AppJa...  \n",
       "10  https://portaldogc.gencat.cat/utilsEADOP/AppJa...  \n",
       "11  https://portaldogc.gencat.cat/utilsEADOP/AppJa...  "
      ],
      "text/html": "<div>\n<style scoped>\n    .dataframe tbody tr th:only-of-type {\n        vertical-align: middle;\n    }\n\n    .dataframe tbody tr th {\n        vertical-align: top;\n    }\n\n    .dataframe thead th {\n        text-align: right;\n    }\n</style>\n<table border=\"1\" class=\"dataframe\">\n  <thead>\n    <tr style=\"text-align: right;\">\n      <th></th>\n      <th>item_Title</th>\n      <th>item_urlHTML</th>\n      <th>item_urlPDF</th>\n    </tr>\n  </thead>\n  <tbody>\n    <tr>\n      <th>0</th>\n      <td>RESOLUCIÓN PRE/734/2021, de 9 de marzo, por la...</td>\n      <td>https://dogc.gencat.cat/es/document-del-dogc/?...</td>\n      <td>https://portaldogc.gencat.cat/utilsEADOP/AppJa...</td>\n    </tr>\n    <tr>\n      <th>1</th>\n      <td>RESOLUCIÓN EXI/733/2021, de 5 de febrero, de l...</td>\n      <td>https://dogc.gencat.cat/es/document-del-dogc/?...</td>\n      <td>https://portaldogc.gencat.cat/utilsEADOP/AppJa...</td>\n    </tr>\n    <tr>\n      <th>2</th>\n      <td>EDICTO de 8 de marzo de 2021, sobre acuerdos d...</td>\n      <td>https://dogc.gencat.cat/es/document-del-dogc/?...</td>\n      <td>https://portaldogc.gencat.cat/utilsEADOP/AppJa...</td>\n    </tr>\n    <tr>\n      <th>3</th>\n      <td>EDICTO de 9 de marzo de 2021, sobre un acuerdo...</td>\n      <td>https://dogc.gencat.cat/es/document-del-dogc/?...</td>\n      <td>https://portaldogc.gencat.cat/utilsEADOP/AppJa...</td>\n    </tr>\n    <tr>\n      <th>4</th>\n      <td>EDICTO de 10 de marzo de 2021, sobre un acuerd...</td>\n      <td>https://dogc.gencat.cat/es/document-del-dogc/?...</td>\n      <td>https://portaldogc.gencat.cat/utilsEADOP/AppJa...</td>\n    </tr>\n    <tr>\n      <th>5</th>\n      <td>EDICTO de 10 de marzo de 2021, sobre acuerdos ...</td>\n      <td>https://dogc.gencat.cat/es/document-del-dogc/?...</td>\n      <td>https://portaldogc.gencat.cat/utilsEADOP/AppJa...</td>\n    </tr>\n    <tr>\n      <th>6</th>\n      <td>RESOLUCIÓN CLT/683/2021, de 9 de marzo, de con...</td>\n      <td>https://dogc.gencat.cat/es/document-del-dogc/?...</td>\n      <td>https://portaldogc.gencat.cat/utilsEADOP/AppJa...</td>\n    </tr>\n    <tr>\n      <th>7</th>\n      <td>RESOLUCIÓN CLT/722/2021, de 10 de marzo, de co...</td>\n      <td>https://dogc.gencat.cat/es/document-del-dogc/?...</td>\n      <td>https://portaldogc.gencat.cat/utilsEADOP/AppJa...</td>\n    </tr>\n    <tr>\n      <th>8</th>\n      <td>CORRECCIÓN DE ERRATAS en la Resolución TSF/353...</td>\n      <td>https://dogc.gencat.cat/es/document-del-dogc/?...</td>\n      <td>https://portaldogc.gencat.cat/utilsEADOP/AppJa...</td>\n    </tr>\n    <tr>\n      <th>9</th>\n      <td>ORDEN ARP/60/2021, de 12 de marzo, por la que ...</td>\n      <td>https://dogc.gencat.cat/es/document-del-dogc/?...</td>\n      <td>https://portaldogc.gencat.cat/utilsEADOP/AppJa...</td>\n    </tr>\n    <tr>\n      <th>10</th>\n      <td>ORDEN ARP/61/2021, de 12 de marzo, por la que ...</td>\n      <td>https://dogc.gencat.cat/es/document-del-dogc/?...</td>\n      <td>https://portaldogc.gencat.cat/utilsEADOP/AppJa...</td>\n    </tr>\n    <tr>\n      <th>11</th>\n      <td>ORDEN ARP/62/2021, de 11 de marzo, por la que ...</td>\n      <td>https://dogc.gencat.cat/es/document-del-dogc/?...</td>\n      <td>https://portaldogc.gencat.cat/utilsEADOP/AppJa...</td>\n    </tr>\n  </tbody>\n</table>\n</div>"
     },
     "metadata": {},
     "execution_count": 235
    }
   ],
   "source": [
    "DOGC_sumarios"
   ]
  },
  {
   "cell_type": "code",
   "execution_count": 236,
   "metadata": {},
   "outputs": [
    {
     "output_type": "execute_result",
     "data": {
      "text/plain": [
       "'https://dogc.gencat.cat/es/document-del-dogc/?documentId=895850'"
      ]
     },
     "metadata": {},
     "execution_count": 236
    }
   ],
   "source": [
    "DOGC_sumarios['item_urlHTML'][1]"
   ]
  },
  {
   "cell_type": "code",
   "execution_count": 237,
   "metadata": {},
   "outputs": [],
   "source": [
    "### Recoge información de página de detalle con Selenium\n",
    "### es necesario ya que la página se genera con un JS y\n",
    "### hay que renderizarla con un headless web browser\n",
    "\n",
    "options = webdriver.ChromeOptions()\n",
    "options.headless = True\n",
    "driver = webdriver.Chrome(options=options)\n",
    "\n",
    "DOGC_sumarios['item_fullText'] = ''\n",
    "DOGC_sumarios['item_urlXML'] = ''\n",
    "DOGC_sumarios['tipo_doc'] = ''\n",
    "DOGC_sumarios['fecha_doc'] = ''\n",
    "DOGC_sumarios['numero_doc'] = ''\n",
    "DOGC_sumarios['numero_control'] = ''\n",
    "DOGC_sumarios['entidad_emisora'] = ''\n",
    "DOGC_sumarios['CVE'] = ''\n",
    "DOGC_sumarios['numero_DOGC'] = ''\n",
    "DOGC_sumarios['fecha_DOGC'] = ''\n",
    "DOGC_sumarios['seccion_DOGC'] = ''\n",
    "\n",
    "for i, row in DOGC_sumarios.iterrows():\n",
    "    # carga página HTML y genera árbol\n",
    "    driver.get(row['item_urlHTML'])\n",
    "    #print(driver.page_source)\n",
    "\n",
    "    # clica sobre desplegable 'datos del documento' para generar contenido\n",
    "    driver.find_element_by_xpath('//div[@class=\"panel-title\"]/a[@href=\"#disposicions\"]').click()\n",
    "    time.sleep(3)\n",
    "\n",
    "    response = driver.page_source\n",
    "    sumario_HTML = html.fromstring(response)\n",
    "\n",
    "    # Genera columnas de la tabla con Datos de los documentos\n",
    "    item_urlXML = sumario_HTML.xpath('//*[@id=\"download\"]/a[4]/@href')\n",
    "\n",
    "    tipo_doc = sumario_HTML.xpath('//*[@id=\"disposicions_cos_bloc\"]/li[contains(text()[1],\"Tipo de documento\")]/text()[2]')\n",
    "    fecha_doc = sumario_HTML.xpath('//*[@id=\"disposicions_cos_bloc\"]/li[contains(text()[1],\"Fecha del documento\")]/text()[2]')\n",
    "    numero_doc = sumario_HTML.xpath('//*[@id=\"disposicions_cos_bloc\"]/li[contains(text()[1],\"Número de documento\")]/text()[2]')\n",
    "    numero_control = sumario_HTML.xpath('//*[@id=\"disposicions_cos_bloc\"]/li[contains(text()[1],\"Número de control\")]/text()[2]')\n",
    "    entidad_emisora = sumario_HTML.xpath('//*[@id=\"disposicions_cos_bloc\"]/li[contains(text()[1],\"Entidad emisora\")]/text()[2]')\n",
    "    CVE = sumario_HTML.xpath('//*[@id=\"disposicions_cos_bloc\"]/li[contains(text()[1],\"CVE\")]/text()[2]')\n",
    "    numero_DOGC = sumario_HTML.xpath('//*[@id=\"disposicions_cos_bloc\"]/li[contains(text()[1],\"Número del DOGC\")]/text()[2]')\n",
    "    fecha_DOGC = sumario_HTML.xpath('//*[@id=\"disposicions_cos_bloc\"]/li[contains(text()[1],\"Fecha del DOGC\")]/text()[2]')\n",
    "    seccion_DOGC = sumario_HTML.xpath('//*[@id=\"disposicions_cos_bloc\"]/li[contains(text()[1],\"Sección del DOGC\")]/text()[2]')\n",
    "\n",
    "    DOGC_sumarios['item_urlXML'][i] = item_urlXML\n",
    "\n",
    "    DOGC_sumarios['tipo_doc'][i] = tipo_doc\n",
    "    DOGC_sumarios['fecha_doc'][i] = fecha_doc\n",
    "    DOGC_sumarios['numero_doc'][i] = numero_doc\n",
    "    DOGC_sumarios['numero_control'][i] = numero_control\n",
    "    DOGC_sumarios['entidad_emisora'][i] = entidad_emisora\n",
    "    DOGC_sumarios['CVE'][i] = CVE\n",
    "    DOGC_sumarios['numero_DOGC'][i] = numero_DOGC\n",
    "    DOGC_sumarios['fecha_DOGC'][i] = fecha_DOGC\n",
    "    DOGC_sumarios['seccion_DOGC'][i] = seccion_DOGC\n",
    "\n",
    "    # Recoge en una lista todos los parágrafos del texto completo\n",
    "    fullText = []\n",
    "    for div in sumario_HTML.xpath('//*[@id=\"fullText\"]/div/div/div'):\n",
    "        fullText.append(div.text_content())\n",
    "\n",
    "    # Convierte la lista en una string\n",
    "    fullText = ' '.join(fullText)\n",
    "\n",
    "    DOGC_sumarios['item_fullText'][i] = fullText\n",
    "\n",
    "\n",
    "driver.quit()"
   ]
  },
  {
   "cell_type": "code",
   "execution_count": 238,
   "metadata": {},
   "outputs": [
    {
     "output_type": "execute_result",
     "data": {
      "text/plain": [
       "                                           item_Title  \\\n",
       "0   RESOLUCIÓN PRE/734/2021, de 9 de marzo, por la...   \n",
       "1   RESOLUCIÓN EXI/733/2021, de 5 de febrero, de l...   \n",
       "2   EDICTO de 8 de marzo de 2021, sobre acuerdos d...   \n",
       "3   EDICTO de 9 de marzo de 2021, sobre un acuerdo...   \n",
       "4   EDICTO de 10 de marzo de 2021, sobre un acuerd...   \n",
       "5   EDICTO de 10 de marzo de 2021, sobre acuerdos ...   \n",
       "6   RESOLUCIÓN CLT/683/2021, de 9 de marzo, de con...   \n",
       "7   RESOLUCIÓN CLT/722/2021, de 10 de marzo, de co...   \n",
       "8   CORRECCIÓN DE ERRATAS en la Resolución TSF/353...   \n",
       "9   ORDEN ARP/60/2021, de 12 de marzo, por la que ...   \n",
       "10  ORDEN ARP/61/2021, de 12 de marzo, por la que ...   \n",
       "11  ORDEN ARP/62/2021, de 11 de marzo, por la que ...   \n",
       "\n",
       "                                         item_urlHTML  \\\n",
       "0   https://dogc.gencat.cat/es/document-del-dogc/?...   \n",
       "1   https://dogc.gencat.cat/es/document-del-dogc/?...   \n",
       "2   https://dogc.gencat.cat/es/document-del-dogc/?...   \n",
       "3   https://dogc.gencat.cat/es/document-del-dogc/?...   \n",
       "4   https://dogc.gencat.cat/es/document-del-dogc/?...   \n",
       "5   https://dogc.gencat.cat/es/document-del-dogc/?...   \n",
       "6   https://dogc.gencat.cat/es/document-del-dogc/?...   \n",
       "7   https://dogc.gencat.cat/es/document-del-dogc/?...   \n",
       "8   https://dogc.gencat.cat/es/document-del-dogc/?...   \n",
       "9   https://dogc.gencat.cat/es/document-del-dogc/?...   \n",
       "10  https://dogc.gencat.cat/es/document-del-dogc/?...   \n",
       "11  https://dogc.gencat.cat/es/document-del-dogc/?...   \n",
       "\n",
       "                                          item_urlPDF  \\\n",
       "0   https://portaldogc.gencat.cat/utilsEADOP/AppJa...   \n",
       "1   https://portaldogc.gencat.cat/utilsEADOP/AppJa...   \n",
       "2   https://portaldogc.gencat.cat/utilsEADOP/AppJa...   \n",
       "3   https://portaldogc.gencat.cat/utilsEADOP/AppJa...   \n",
       "4   https://portaldogc.gencat.cat/utilsEADOP/AppJa...   \n",
       "5   https://portaldogc.gencat.cat/utilsEADOP/AppJa...   \n",
       "6   https://portaldogc.gencat.cat/utilsEADOP/AppJa...   \n",
       "7   https://portaldogc.gencat.cat/utilsEADOP/AppJa...   \n",
       "8   https://portaldogc.gencat.cat/utilsEADOP/AppJa...   \n",
       "9   https://portaldogc.gencat.cat/utilsEADOP/AppJa...   \n",
       "10  https://portaldogc.gencat.cat/utilsEADOP/AppJa...   \n",
       "11  https://portaldogc.gencat.cat/utilsEADOP/AppJa...   \n",
       "\n",
       "                                        item_fullText  \\\n",
       "0   Mediante la Resolución SLT/1/2021, de 4 de ene...   \n",
       "1   El Departamento de Acción Exterior, Relaciones...   \n",
       "2    \\nLa Comisión Territorial de Urbanismo de El ...   \n",
       "3   La Comisión Territorial de Urbanismo del ámbit...   \n",
       "4   La Comisión Territorial de Urbanismo de Girona...   \n",
       "5   Exp.: 2020/072228/B\\n2ª Modificación puntual d...   \n",
       "6   Vista la Resolución CLT/3142/2020, de 1 de dic...   \n",
       "7   Vista la Resolución CLT/3142/2020, de 1 de dic...   \n",
       "8   Habiendo observado una errata en la versión ca...   \n",
       "9   La Orden ARP/243/2017, de 25 de octubre, aprob...   \n",
       "10  La Orden ARP/246/2017, de 27 de octubre, aprob...   \n",
       "11  En fecha 26 de febrero de 2018, se publicó en ...   \n",
       "\n",
       "                                          item_urlXML  \\\n",
       "0   [https://portaldogc.gencat.cat/utilsEADOP/AppJ...   \n",
       "1   [https://portaldogc.gencat.cat/utilsEADOP/AppJ...   \n",
       "2   [https://portaldogc.gencat.cat/utilsEADOP/AppJ...   \n",
       "3   [https://portaldogc.gencat.cat/utilsEADOP/AppJ...   \n",
       "4   [https://portaldogc.gencat.cat/utilsEADOP/AppJ...   \n",
       "5   [https://portaldogc.gencat.cat/utilsEADOP/AppJ...   \n",
       "6   [https://portaldogc.gencat.cat/utilsEADOP/AppJ...   \n",
       "7   [https://portaldogc.gencat.cat/utilsEADOP/AppJ...   \n",
       "8   [https://portaldogc.gencat.cat/utilsEADOP/AppJ...   \n",
       "9   [https://portaldogc.gencat.cat/utilsEADOP/AppJ...   \n",
       "10  [https://portaldogc.gencat.cat/utilsEADOP/AppJ...   \n",
       "11  [https://portaldogc.gencat.cat/utilsEADOP/AppJ...   \n",
       "\n",
       "                   tipo_doc     fecha_doc       numero_doc numero_control  \\\n",
       "0              [Resolución]  [09/03/2021]  [PRE/0734/2021]     [21074036]   \n",
       "1              [Resolución]  [05/02/2021]  [EXI/0733/2021]     [21074038]   \n",
       "2                 [Edicto ]  [08/03/2021]               []     [21069082]   \n",
       "3                 [Edicto ]  [09/03/2021]               []     [21069061]   \n",
       "4                 [Edicto ]  [10/03/2021]               []     [21069088]   \n",
       "5                 [Edicto ]  [10/03/2021]               []     [21069034]   \n",
       "6              [Resolución]  [09/03/2021]  [CLT/0683/2021]     [21069053]   \n",
       "7              [Resolución]  [10/03/2021]  [CLT/0722/2021]     [21071046]   \n",
       "8   [Corrección de erratas]  [04/03/2021]               []     [21069042]   \n",
       "9                   [Orden]  [12/03/2021]  [ARP/0060/2021]     [21074043]   \n",
       "10                  [Orden]  [12/03/2021]  [ARP/0061/2021]     [21074042]   \n",
       "11                  [Orden]  [11/03/2021]  [ARP/0062/2021]     [21074044]   \n",
       "\n",
       "                                      entidad_emisora  \\\n",
       "0                       [Consejo Catalán del Deporte]   \n",
       "1   [Departamento de Acción Exterior, Relaciones I...   \n",
       "2       [Departamento de Territorio y Sostenibilidad]   \n",
       "3       [Departamento de Territorio y Sostenibilidad]   \n",
       "4       [Departamento de Territorio y Sostenibilidad]   \n",
       "5       [Departamento de Territorio y Sostenibilidad]   \n",
       "6      [Instituto Catalán de las Empresas Culturales]   \n",
       "7      [Instituto Catalán de las Empresas Culturales]   \n",
       "8   [Departamento de Trabajo, Asuntos Sociales y F...   \n",
       "9   [Departamento de Agricultura, Ganadería, Pesca...   \n",
       "10  [Departamento de Agricultura, Ganadería, Pesca...   \n",
       "11  [Departamento de Agricultura, Ganadería, Pesca...   \n",
       "\n",
       "                           CVE numero_DOGC    fecha_DOGC     seccion_DOGC  \n",
       "0   [CVE-DOGC-B-21074036-2021]      [8367]  [17/03/2021]  [Disposiciones]  \n",
       "1   [CVE-DOGC-B-21074038-2021]      [8367]  [17/03/2021]  [Disposiciones]  \n",
       "2   [CVE-DOGC-B-21069082-2021]      [8367]  [17/03/2021]  [Disposiciones]  \n",
       "3   [CVE-DOGC-B-21069061-2021]      [8367]  [17/03/2021]  [Disposiciones]  \n",
       "4   [CVE-DOGC-B-21069088-2021]      [8367]  [17/03/2021]  [Disposiciones]  \n",
       "5   [CVE-DOGC-B-21069034-2021]      [8367]  [17/03/2021]  [Disposiciones]  \n",
       "6   [CVE-DOGC-B-21069053-2021]      [8367]  [17/03/2021]  [Disposiciones]  \n",
       "7   [CVE-DOGC-B-21071046-2021]      [8367]  [17/03/2021]  [Disposiciones]  \n",
       "8   [CVE-DOGC-B-21069042-2021]      [8367]  [17/03/2021]  [Disposiciones]  \n",
       "9   [CVE-DOGC-B-21074043-2021]      [8367]  [17/03/2021]  [Disposiciones]  \n",
       "10  [CVE-DOGC-B-21074042-2021]      [8367]  [17/03/2021]  [Disposiciones]  \n",
       "11  [CVE-DOGC-B-21074044-2021]      [8367]  [17/03/2021]  [Disposiciones]  "
      ],
      "text/html": "<div>\n<style scoped>\n    .dataframe tbody tr th:only-of-type {\n        vertical-align: middle;\n    }\n\n    .dataframe tbody tr th {\n        vertical-align: top;\n    }\n\n    .dataframe thead th {\n        text-align: right;\n    }\n</style>\n<table border=\"1\" class=\"dataframe\">\n  <thead>\n    <tr style=\"text-align: right;\">\n      <th></th>\n      <th>item_Title</th>\n      <th>item_urlHTML</th>\n      <th>item_urlPDF</th>\n      <th>item_fullText</th>\n      <th>item_urlXML</th>\n      <th>tipo_doc</th>\n      <th>fecha_doc</th>\n      <th>numero_doc</th>\n      <th>numero_control</th>\n      <th>entidad_emisora</th>\n      <th>CVE</th>\n      <th>numero_DOGC</th>\n      <th>fecha_DOGC</th>\n      <th>seccion_DOGC</th>\n    </tr>\n  </thead>\n  <tbody>\n    <tr>\n      <th>0</th>\n      <td>RESOLUCIÓN PRE/734/2021, de 9 de marzo, por la...</td>\n      <td>https://dogc.gencat.cat/es/document-del-dogc/?...</td>\n      <td>https://portaldogc.gencat.cat/utilsEADOP/AppJa...</td>\n      <td>Mediante la Resolución SLT/1/2021, de 4 de ene...</td>\n      <td>[https://portaldogc.gencat.cat/utilsEADOP/AppJ...</td>\n      <td>[Resolución]</td>\n      <td>[09/03/2021]</td>\n      <td>[PRE/0734/2021]</td>\n      <td>[21074036]</td>\n      <td>[Consejo Catalán del Deporte]</td>\n      <td>[CVE-DOGC-B-21074036-2021]</td>\n      <td>[8367]</td>\n      <td>[17/03/2021]</td>\n      <td>[Disposiciones]</td>\n    </tr>\n    <tr>\n      <th>1</th>\n      <td>RESOLUCIÓN EXI/733/2021, de 5 de febrero, de l...</td>\n      <td>https://dogc.gencat.cat/es/document-del-dogc/?...</td>\n      <td>https://portaldogc.gencat.cat/utilsEADOP/AppJa...</td>\n      <td>El Departamento de Acción Exterior, Relaciones...</td>\n      <td>[https://portaldogc.gencat.cat/utilsEADOP/AppJ...</td>\n      <td>[Resolución]</td>\n      <td>[05/02/2021]</td>\n      <td>[EXI/0733/2021]</td>\n      <td>[21074038]</td>\n      <td>[Departamento de Acción Exterior, Relaciones I...</td>\n      <td>[CVE-DOGC-B-21074038-2021]</td>\n      <td>[8367]</td>\n      <td>[17/03/2021]</td>\n      <td>[Disposiciones]</td>\n    </tr>\n    <tr>\n      <th>2</th>\n      <td>EDICTO de 8 de marzo de 2021, sobre acuerdos d...</td>\n      <td>https://dogc.gencat.cat/es/document-del-dogc/?...</td>\n      <td>https://portaldogc.gencat.cat/utilsEADOP/AppJa...</td>\n      <td>\\nLa Comisión Territorial de Urbanismo de El ...</td>\n      <td>[https://portaldogc.gencat.cat/utilsEADOP/AppJ...</td>\n      <td>[Edicto ]</td>\n      <td>[08/03/2021]</td>\n      <td>[]</td>\n      <td>[21069082]</td>\n      <td>[Departamento de Territorio y Sostenibilidad]</td>\n      <td>[CVE-DOGC-B-21069082-2021]</td>\n      <td>[8367]</td>\n      <td>[17/03/2021]</td>\n      <td>[Disposiciones]</td>\n    </tr>\n    <tr>\n      <th>3</th>\n      <td>EDICTO de 9 de marzo de 2021, sobre un acuerdo...</td>\n      <td>https://dogc.gencat.cat/es/document-del-dogc/?...</td>\n      <td>https://portaldogc.gencat.cat/utilsEADOP/AppJa...</td>\n      <td>La Comisión Territorial de Urbanismo del ámbit...</td>\n      <td>[https://portaldogc.gencat.cat/utilsEADOP/AppJ...</td>\n      <td>[Edicto ]</td>\n      <td>[09/03/2021]</td>\n      <td>[]</td>\n      <td>[21069061]</td>\n      <td>[Departamento de Territorio y Sostenibilidad]</td>\n      <td>[CVE-DOGC-B-21069061-2021]</td>\n      <td>[8367]</td>\n      <td>[17/03/2021]</td>\n      <td>[Disposiciones]</td>\n    </tr>\n    <tr>\n      <th>4</th>\n      <td>EDICTO de 10 de marzo de 2021, sobre un acuerd...</td>\n      <td>https://dogc.gencat.cat/es/document-del-dogc/?...</td>\n      <td>https://portaldogc.gencat.cat/utilsEADOP/AppJa...</td>\n      <td>La Comisión Territorial de Urbanismo de Girona...</td>\n      <td>[https://portaldogc.gencat.cat/utilsEADOP/AppJ...</td>\n      <td>[Edicto ]</td>\n      <td>[10/03/2021]</td>\n      <td>[]</td>\n      <td>[21069088]</td>\n      <td>[Departamento de Territorio y Sostenibilidad]</td>\n      <td>[CVE-DOGC-B-21069088-2021]</td>\n      <td>[8367]</td>\n      <td>[17/03/2021]</td>\n      <td>[Disposiciones]</td>\n    </tr>\n    <tr>\n      <th>5</th>\n      <td>EDICTO de 10 de marzo de 2021, sobre acuerdos ...</td>\n      <td>https://dogc.gencat.cat/es/document-del-dogc/?...</td>\n      <td>https://portaldogc.gencat.cat/utilsEADOP/AppJa...</td>\n      <td>Exp.: 2020/072228/B\\n2ª Modificación puntual d...</td>\n      <td>[https://portaldogc.gencat.cat/utilsEADOP/AppJ...</td>\n      <td>[Edicto ]</td>\n      <td>[10/03/2021]</td>\n      <td>[]</td>\n      <td>[21069034]</td>\n      <td>[Departamento de Territorio y Sostenibilidad]</td>\n      <td>[CVE-DOGC-B-21069034-2021]</td>\n      <td>[8367]</td>\n      <td>[17/03/2021]</td>\n      <td>[Disposiciones]</td>\n    </tr>\n    <tr>\n      <th>6</th>\n      <td>RESOLUCIÓN CLT/683/2021, de 9 de marzo, de con...</td>\n      <td>https://dogc.gencat.cat/es/document-del-dogc/?...</td>\n      <td>https://portaldogc.gencat.cat/utilsEADOP/AppJa...</td>\n      <td>Vista la Resolución CLT/3142/2020, de 1 de dic...</td>\n      <td>[https://portaldogc.gencat.cat/utilsEADOP/AppJ...</td>\n      <td>[Resolución]</td>\n      <td>[09/03/2021]</td>\n      <td>[CLT/0683/2021]</td>\n      <td>[21069053]</td>\n      <td>[Instituto Catalán de las Empresas Culturales]</td>\n      <td>[CVE-DOGC-B-21069053-2021]</td>\n      <td>[8367]</td>\n      <td>[17/03/2021]</td>\n      <td>[Disposiciones]</td>\n    </tr>\n    <tr>\n      <th>7</th>\n      <td>RESOLUCIÓN CLT/722/2021, de 10 de marzo, de co...</td>\n      <td>https://dogc.gencat.cat/es/document-del-dogc/?...</td>\n      <td>https://portaldogc.gencat.cat/utilsEADOP/AppJa...</td>\n      <td>Vista la Resolución CLT/3142/2020, de 1 de dic...</td>\n      <td>[https://portaldogc.gencat.cat/utilsEADOP/AppJ...</td>\n      <td>[Resolución]</td>\n      <td>[10/03/2021]</td>\n      <td>[CLT/0722/2021]</td>\n      <td>[21071046]</td>\n      <td>[Instituto Catalán de las Empresas Culturales]</td>\n      <td>[CVE-DOGC-B-21071046-2021]</td>\n      <td>[8367]</td>\n      <td>[17/03/2021]</td>\n      <td>[Disposiciones]</td>\n    </tr>\n    <tr>\n      <th>8</th>\n      <td>CORRECCIÓN DE ERRATAS en la Resolución TSF/353...</td>\n      <td>https://dogc.gencat.cat/es/document-del-dogc/?...</td>\n      <td>https://portaldogc.gencat.cat/utilsEADOP/AppJa...</td>\n      <td>Habiendo observado una errata en la versión ca...</td>\n      <td>[https://portaldogc.gencat.cat/utilsEADOP/AppJ...</td>\n      <td>[Corrección de erratas]</td>\n      <td>[04/03/2021]</td>\n      <td>[]</td>\n      <td>[21069042]</td>\n      <td>[Departamento de Trabajo, Asuntos Sociales y F...</td>\n      <td>[CVE-DOGC-B-21069042-2021]</td>\n      <td>[8367]</td>\n      <td>[17/03/2021]</td>\n      <td>[Disposiciones]</td>\n    </tr>\n    <tr>\n      <th>9</th>\n      <td>ORDEN ARP/60/2021, de 12 de marzo, por la que ...</td>\n      <td>https://dogc.gencat.cat/es/document-del-dogc/?...</td>\n      <td>https://portaldogc.gencat.cat/utilsEADOP/AppJa...</td>\n      <td>La Orden ARP/243/2017, de 25 de octubre, aprob...</td>\n      <td>[https://portaldogc.gencat.cat/utilsEADOP/AppJ...</td>\n      <td>[Orden]</td>\n      <td>[12/03/2021]</td>\n      <td>[ARP/0060/2021]</td>\n      <td>[21074043]</td>\n      <td>[Departamento de Agricultura, Ganadería, Pesca...</td>\n      <td>[CVE-DOGC-B-21074043-2021]</td>\n      <td>[8367]</td>\n      <td>[17/03/2021]</td>\n      <td>[Disposiciones]</td>\n    </tr>\n    <tr>\n      <th>10</th>\n      <td>ORDEN ARP/61/2021, de 12 de marzo, por la que ...</td>\n      <td>https://dogc.gencat.cat/es/document-del-dogc/?...</td>\n      <td>https://portaldogc.gencat.cat/utilsEADOP/AppJa...</td>\n      <td>La Orden ARP/246/2017, de 27 de octubre, aprob...</td>\n      <td>[https://portaldogc.gencat.cat/utilsEADOP/AppJ...</td>\n      <td>[Orden]</td>\n      <td>[12/03/2021]</td>\n      <td>[ARP/0061/2021]</td>\n      <td>[21074042]</td>\n      <td>[Departamento de Agricultura, Ganadería, Pesca...</td>\n      <td>[CVE-DOGC-B-21074042-2021]</td>\n      <td>[8367]</td>\n      <td>[17/03/2021]</td>\n      <td>[Disposiciones]</td>\n    </tr>\n    <tr>\n      <th>11</th>\n      <td>ORDEN ARP/62/2021, de 11 de marzo, por la que ...</td>\n      <td>https://dogc.gencat.cat/es/document-del-dogc/?...</td>\n      <td>https://portaldogc.gencat.cat/utilsEADOP/AppJa...</td>\n      <td>En fecha 26 de febrero de 2018, se publicó en ...</td>\n      <td>[https://portaldogc.gencat.cat/utilsEADOP/AppJ...</td>\n      <td>[Orden]</td>\n      <td>[11/03/2021]</td>\n      <td>[ARP/0062/2021]</td>\n      <td>[21074044]</td>\n      <td>[Departamento de Agricultura, Ganadería, Pesca...</td>\n      <td>[CVE-DOGC-B-21074044-2021]</td>\n      <td>[8367]</td>\n      <td>[17/03/2021]</td>\n      <td>[Disposiciones]</td>\n    </tr>\n  </tbody>\n</table>\n</div>"
     },
     "metadata": {},
     "execution_count": 238
    }
   ],
   "source": [
    "DOGC_sumarios"
   ]
  },
  {
   "cell_type": "code",
   "execution_count": 239,
   "metadata": {},
   "outputs": [
    {
     "output_type": "execute_result",
     "data": {
      "text/plain": [
       "'Mediante la Resolución SLT/1/2021, de 4 de enero, se prorrogan y se modifican las medidas en materia de salud pública para la contención del brote epidémico de la pandemia de COVID-19 en el territorio de Cataluña, y se adoptan una serie de nuevas medidas de salud pública para la contención del brote epidémico de la pandemia de la COVID-19 en el territorio de Cataluña, entre las 0.00 h del día 7 hasta las 0.00 h del día 18 de enero. La Resolución SLT/67/2021, de 17 de enero, y la Resolución SLT/133/2021, de 22 de enero, prorrogan de nuevo las medidas de suspensión y limitación antes señalada, durante 3 semanas más.\\n Estas nuevas medidas han implicado la suspensión y la limitación de la apertura al público de las instalaciones y de los equipamientos deportivos, a excepción de los centros de tecnificación y rendimiento deportivos, tanto de titularidad pública como privada, así como de las instalaciones y equipamientos deportivos que tengan que acoger entrenamientos y competición profesional, estatal e internacional. Y han implicado continuar con el aplazamiento o la suspensión de competiciones deportivas de ámbito catalán por parte de los organizadores, que ha comportado una afectación económica y social de carácter esencial en el sector del deporte y de la actividad física en Cataluña, que justifica la adopción de más medidas extraordinarias y de emergencia dirigidas a intentar paliar las consecuencias derivadas de este aplazamiento o suspensión de las competiciones deportivas federadas y escolares.\\nEl Consejo Catalán del Deporte es un organismo autónomo de carácter administrativo, adscrito al departamento competente en materia de deportes y de actividad física, que tiene atribuidas, entre otros, las funciones consistentes en planificar y gestionar la política deportiva de la Generalidad y conceder subvenciones a las entidades deportivas catalanas, de acuerdo con los apartados c) y d) del artículo 35.4 del texto único de la Ley del deporte, aprobado por el Decreto Legislativo 1/2000, de 31 de julio.\\n Por todo eso, mediante el Decreto Ley 43/2020, de 17 de noviembre, se ha habilitado al Consejo Catalán del Deporte para la convocatoria, la tramitación y la resolución de una línea de ayudas extraordinarias y de emergencia para hacer frente a la suspensión de la apertura al público de las instalaciones deportivas en Cataluña como consecuencia de la crisis sanitaria, económica y social de la COVID-19. \\nPor medio de la Resolución PRE/392/2021, de 12 de febrero, se han aprobado las bases reguladoras para la concesión de ayudas extraordinarias y de emergencia para hacer frente las afectaciones económicas y sociales que se puedan producir en el sector de la actividad física y el deporte, como consecuencia de la crisis sanitaria, económica y social de la COVID-19 durante el año 2021 (DOGC núm. 8344, de 18.02.2021). En la base 2 se establece el Programa para entidades organizadoras de competiciones deportivas oficiales de ámbito catalán, a nivel federado (excluidas las profesionales) y escolar, la celebración que se haya visto aplazada, y especifica las personas beneficiarias, la cuantía de las ayudas, los requisitos y el resto de regulaciones.\\n De acuerdo con la Ley 4/2020, del 29 de abril, de presupuestos de la Generalidad de Cataluña para el 2020, y el Decreto 146/2020, de 15 de diciembre, por el que se establecen los criterios de aplicación de la prórroga de los presupuestos de la Generalidad de Cataluña para el 2020, mientras no entren en vigor los del 2021, esta convocatoria tiene una dotación inicial de 8.600.000 de euros.\\nEn uso de las atribuciones que me confiere el artículo 93.b) del texto refundido de la Ley de finanzas públicas de Cataluña, aprobado por el Decreto Legislativo 3/2002, de 24 de diciembre,\\n\\xa0\\nResuelvo:\\n\\xa0\\n—1 Convocatoria\\nAbrir la convocatoria para la concesión de ayudas extraordinarias y de emergencia para hacer frente a las afectaciones económicas y sociales producidas en el sector de la actividad física y el deporte a causa del aplazamiento o la suspensión de competiciones deportivas de ámbito catalán de las federaciones deportivas catalanas y de los consejos deportivos de Cataluña atendiendo la publicación de las resoluciones SLT/1/2021, de 4 de enero, SLT/67/2021, de 17 de enero, y SLT/133/2021, de 22 de enero, como consecuencia de la crisis sanitaria, económica y social de la COVID-19, con la finalidad de favorecer la sostenibilidad económica del sector, contribuir al mantenimiento y a la continuidad de su actividad, y paliar las afectaciones económicas y sociales que se puedan producir en este ámbito.\\n \\xa0\\n—2 Bases reguladoras\\nEsta convocatoria se rige por la Resolución PRE/392/2021, de 12 de febrero, por la que se aprueban las bases reguladoras para la concesión de ayudas extraordinarias y de emergencia para hacer frente a las afectaciones económicas y sociales que se puedan producir en el sector de la actividad física y el deporte, como consecuencia de la crisis sanitaria, económica y social de la COVID-19 durante el año 2021 (DOGC núm. 8344, de 18.02.2021).\\n\\xa0\\n—3 Dotación presupuestaria\\n3.1 El importe de la dotación presupuestaria inicial de esta convocatoria es de 8.600.000 de euros con cargo al presupuesto del Consejo Catalán del Deporte para el ejercicio 2021.\\n3.2 La dotación presupuestaria irá con cargo a las partidas presupuestarias:\\n-6100 D/482000190/4711/0081 MPP21 (Otras instituciones sin finalidad de lucro) 8.000.000,00 euros.\\n-6100 D/482000190/4711/0000 (Otras instituciones sin finalidad de lucro): 600.000 euros.\\n3.3 Esta dotación puede ser ampliada, según las disponibilidades presupuestarias, hasta un máximo de 9.000.000 euros.\\n \\xa0—4 Procedimiento de concesiónDe conformidad con la base reguladora 7 del anexo de la Resolución PRE/392/2021, de 12 de febrero, el procedimiento de concesión es de concurrencia competitiva. De acuerdo con el artículo 22.1 de la Ley 38/2003, de 17 de noviembre, la concesión de las ayudas se realiza mediante la comparación de las solicitudes presentadas con el fin de establecer una prelación entre ellas, de conformidad con los criterios establecidos en las bases reguladoras.\\xa0—5 Presentación de solicitudes5.1 El plazo de presentación de solicitudes es de cinco (5) días hábiles a contar del día siguiente de la publicación de esta convocatoria en el Diari Oficial de la Generalitat de Catalunya.5.2 Las solicitudes se tienen que presentar telemáticamente por medio del modelo normalizado que está a disposición de las personas interesadas en la dirección Trámites gencat (tramits.gencat.cat).La identificación y la firma electrónica de la persona solicitante se hará mediante los sistemas de identificación y de firma electrónica admitidos por la Sede electrónica, y que se pueden consultar en: https://web.gencat.cat/ca/tramits/.../certificacio-digital/, de conformidad con la Orden GRI/233/2015, de 20 de julio, por la que se aprueba el Protocolo de identificación y firma electrónica, y la Orden PRE/5/2017, de 12 de enero, por la que se aprueba la tramitación electrónica obligatoria de los procedimientos de concesión de ayudas y subvenciones de concurrencia pública del Consejo Catalán del Deporte. \\xa0—6 Órganos competentes y plazo para resolver6.1 El órgano competente para instruir el procedimiento es la Subdirección General de Actividades Deportivas e Infraestructuras del Consejo Catalán del el Deporte.6.2 El órgano competente para resolver es la persona titular de la Presidencia del Consejo Catalán del Deporte.6.3 El plazo máximo para resolver y notificar la resolución es de tres meses a contar desde el día siguiente de la fecha de publicación de la convocatoria en el Diari Oficial de la Generalitat de Catalunya.Transcurrido el plazo señalado sin que se haya notificado la resolución del procedimiento, la solicitud se tiene que entender desestimada por silencio administrativo, de acuerdo con lo que establece el artículo 54.2.e) de la Ley 26/2010, del 3 de agosto.\\xa0—7 Notificación y régimen de recursos7.1 Los actos que tenga que notificar el órgano instructor o el concedente se notificarán a las personas interesadas mediante su publicación en el Tablón electrónico de la Administración de la Generalidad de Cataluña (https://tauler.seu.cat), sin perjuicio que se puedan utilizar adicionalmente otros medios electrónicos. Esta publicación sustituye la notificación individual y tiene los mismos efectos.7.2 Contra la resolución del procedimiento, que no agota la vía administrativa, las personas interesadas pueden presentar recurso de alzada delante el mismo órgano que la ha dictado o, directamente, ante la persona titular del departamento competente en materia de deportes y de actividad física, en el plazo de un mes a contar del día siguiente de la notificación, de acuerdo con los artículos 121 y 122 de la Ley 39/2015, de 1 de octubre, y el artículo 76 de la Ley 26/2010, de 3 de agosto.\\xa0—8 EfectosEsta Resolución produce efectos a partir del día siguiente de la fecha de publicación en el Diari Oficial de la Generalitat de Catalunya.\\xa0Contra esta Resolución, que no pone fin a la vía administrativa, las personas interesadas pueden interponer recurso de alzada ante el mismo órgano que la ha dictado o, directamente, ante la persona titular del departamento competente en materia de deportes y de actividad física, en el plazo de un mes desde el día siguiente de la fecha de publicación en el Diari Oficial de la Generalitat de Catalunya, de acuerdo con el artículo 76 de la Ley 26/2010, del 3 de agosto, de régimen jurídico y procedimiento de las administraciones públicas de Cataluña, y los artículos 121 y 122 de la Ley 39/2015, de 1 de octubre, del procedimiento administrativo común de las administraciones públicas. \\xa0\\nEsplugues de Llobregat, 9 de març de 2021\\n\\xa0\\nGerard Martí Figueras i Albà\\nPresidente del Consejo Catalán del Deporte\\n'"
      ]
     },
     "metadata": {},
     "execution_count": 239
    }
   ],
   "source": [
    "DOGC_sumarios['item_fullText'][0]"
   ]
  },
  {
   "cell_type": "code",
   "execution_count": 240,
   "metadata": {},
   "outputs": [],
   "source": [
    "# Crea nueva columna vacía de tipo lista en tabla_analisis\n",
    "#DOCM_sumarios['Referencias_completas'] = [[] for i in range(len(tabla_analisis))]\n",
    "DOGC_sumarios['Tags'] = [[] for i in range(len(DOGC_sumarios))]\n",
    "DOGC_sumarios['Match_ASECORP_BBDD'] = [[] for i in range(len(DOGC_sumarios))]"
   ]
  },
  {
   "cell_type": "code",
   "execution_count": 241,
   "metadata": {},
   "outputs": [],
   "source": [
    "pattern = ['Ley [0-9]+\\/[0-9]+','Real Decreto [0-9]+\\/[0-9]+','Real Decreto Legislativo [0-9]+\\/[0-9]+','Real Decreto-ley [0-9]+\\/[0-9]+','Orden [A-Z]+\\/[0-9]+\\/[0-9]+','Orden Circular [0-9]+\\/[0-9]+','Reglamento \\(UE\\) [0-9]+\\/[0-9]+', 'Reglamento de Ejeución \\(UE\\) [0-9]+\\/[0-9]+' ,'Sentencia de [0-9]+ de [a-z]+ de [0-9]+','Sentencia [0-9]+\\/[0-9]+','Orden de [0-9]+ de [a-z]+ de [0-9]+', 'Resolución de [0-9]+ de [a-z]+ de [0-9]+','Resolución [a-z]+\\/[0-9]+\\/[0-9]+', 'Nota de Servicio [0-9]+\\/[0-9]+', 'Acuerdo multilateral M\\-[0-9]+', 'Circular [0-9]+\\/[0-9]+', 'Decisión \\(UE\\) [0-9]+\\/[0-9]+', 'Decisión de Ejecución \\(UE\\) [0-9]+\\/[0-9]+']"
   ]
  },
  {
   "cell_type": "code",
   "execution_count": 242,
   "metadata": {},
   "outputs": [
    {
     "output_type": "stream",
     "name": "stdout",
     "text": [
      "['Resolución SLT/1/2021', 'Resolución SLT/67/2021', 'Resolución SLT/133/2021', 'Ley 43/2020', 'Resolución PRE/392/2021', 'Ley 4/2020', 'Resolución PRE/392/2021', 'Resolución PRE/392/2021', 'Ley 38/2003', 'Orden GRI/233/2015', 'Orden PRE/5/2017', 'Ley 26/2010', 'Ley 39/2015', 'Ley 26/2010', 'Ley 26/2010', 'Ley 39/2015']\n['ley 40/2015', 'Resolución EXI/404/2019', 'Ley 9/2017', 'Ley 40/2015', 'Ley 40/2015', 'Resolución EXI/404/2019', 'Resolución EXI/677/2019']\n['Ley 3/2012', 'orden PTO/343/2005', 'Orden TES/195/2019', 'Ley 39/2015', 'Ley 29/1998', 'Ley 29/1998', 'Ley 3/2012', 'Ley 2/2007', 'Ley 3/2012']\n['Ley 3/2012', 'Ley 39/2015', 'Ley 29/1998', 'Ley 29/1998', 'Ley 3/2012', 'Ley 2/2007', 'Ley 3/2012']\n['Ley 6/2009', 'Ley 39/2015', 'Ley 29/1998', 'Ley 3/2012', 'Ley 2/2007', 'Ley 3/2012']\n['Ley 3/2012', 'Orden PTO/343/2005', 'Ley 39/2015', 'Ley 29/1998', 'Ley 29/1998', 'Ley 3/2012', 'Ley 2/2007', 'Ley 3/2012']\n['Resolución CLT/3142/2020', 'Resolución CLT/187/2021', 'Ley 20/2000', 'Resolución CLT/3142/2020', 'Resolución CLT/187/2021', 'Orden CLT/4/2013']\n['Resolución CLT/3142/2020', 'Resolución CLT/187/2021', 'Ley 20/2000', 'Resolución CLT/3142/2020', 'Resolución CLT/187/2021', 'Resolución CLT/588/2021', 'Orden CLT/4/2013']\n['Ley 39/2015', 'Real decreto legislativo 2/2015', 'Ley 26/2010']\n['Orden ARP/243/2017', 'Ley 14/2003', 'Orden ARP/146/2017', 'Ley 14/2003']\n['Orden ARP/246/2017', 'Ley 14/2003', 'Orden ARP/146/2017', 'Ley 14/2003']\n['Orden ARP/15/2018', 'Reglamento (UE) 1408/2013', 'Orden VEH/79/2020', 'Orden ECO/172/2015', 'Orden ARP/15/2018']\n"
     ]
    }
   ],
   "source": [
    "for i, row in DOGC_sumarios.iterrows():\n",
    "    # Busca expresiones REGX coincidentes con Patrones definidos\n",
    "    DOGC_sumarios['Tags'][i] = re.findall('|'.join(pattern), str(row['item_fullText']), flags=re.IGNORECASE)\n",
    "    print(DOGC_sumarios['Tags'][i])"
   ]
  },
  {
   "cell_type": "code",
   "execution_count": 243,
   "metadata": {},
   "outputs": [
    {
     "output_type": "stream",
     "name": "stdout",
     "text": [
      "['Resolución PRE/392/2021', 'Ley 26/2010', 'Orden PRE/5/2017', 'Resolución SLT/67/2021', 'Ley 39/2015', 'Ley 43/2020', 'Orden GRI/233/2015', 'Ley 38/2003', 'Resolución SLT/1/2021', 'Ley 4/2020', 'Resolución SLT/133/2021']\n['Ley 9/2017', 'Ley 40/2015', 'Resolución EXI/404/2019', 'ley 40/2015', 'Resolución EXI/677/2019']\n['Ley 2/2007', 'orden PTO/343/2005', 'Ley 39/2015', 'Orden TES/195/2019', 'Ley 29/1998', 'Ley 3/2012']\n['Ley 29/1998', 'Ley 3/2012', 'Ley 39/2015', 'Ley 2/2007']\n['Ley 2/2007', 'Ley 39/2015', 'Ley 6/2009', 'Ley 29/1998', 'Ley 3/2012']\n['Ley 2/2007', 'Orden PTO/343/2005', 'Ley 39/2015', 'Ley 29/1998', 'Ley 3/2012']\n['Resolución CLT/3142/2020', 'Orden CLT/4/2013', 'Ley 20/2000', 'Resolución CLT/187/2021']\n['Resolución CLT/3142/2020', 'Resolución CLT/588/2021', 'Orden CLT/4/2013', 'Ley 20/2000', 'Resolución CLT/187/2021']\n['Real decreto legislativo 2/2015', 'Ley 26/2010', 'Ley 39/2015']\n['Orden ARP/146/2017', 'Ley 14/2003', 'Orden ARP/243/2017']\n['Ley 14/2003', 'Orden ARP/246/2017', 'Orden ARP/146/2017']\n['Orden ARP/15/2018', 'Orden VEH/79/2020', 'Reglamento (UE) 1408/2013', 'Orden ECO/172/2015']\n"
     ]
    }
   ],
   "source": [
    "# Elimina Tags duplicados\n",
    "for i, row in DOGC_sumarios.iterrows():\n",
    "    DOGC_sumarios['Tags'][i] = list(set(DOGC_sumarios['Tags'][i]))\n",
    "    print(DOGC_sumarios['Tags'][i])"
   ]
  },
  {
   "cell_type": "code",
   "execution_count": 244,
   "metadata": {},
   "outputs": [
    {
     "output_type": "execute_result",
     "data": {
      "text/plain": [
       "[None,\n",
       " None,\n",
       " None,\n",
       " None,\n",
       " None,\n",
       " None,\n",
       " None,\n",
       " None,\n",
       " None,\n",
       " None,\n",
       " None,\n",
       " None,\n",
       " None,\n",
       " None,\n",
       " None,\n",
       " None,\n",
       " None,\n",
       " None,\n",
       " None,\n",
       " None,\n",
       " None,\n",
       " None,\n",
       " None,\n",
       " None,\n",
       " None,\n",
       " None,\n",
       " None,\n",
       " None,\n",
       " None,\n",
       " None,\n",
       " None,\n",
       " None,\n",
       " None,\n",
       " None,\n",
       " None,\n",
       " None,\n",
       " None,\n",
       " None,\n",
       " None,\n",
       " None,\n",
       " None,\n",
       " None,\n",
       " None,\n",
       " None,\n",
       " None,\n",
       " None,\n",
       " None,\n",
       " None,\n",
       " None,\n",
       " None,\n",
       " None,\n",
       " None,\n",
       " None,\n",
       " None,\n",
       " None,\n",
       " None,\n",
       " None,\n",
       " None]"
      ]
     },
     "metadata": {},
     "execution_count": 244
    }
   ],
   "source": [
    "regex_result = []\n",
    "[ regex_result.append(tag) for tags in DOGC_sumarios['Tags'] for tag in tags ]"
   ]
  },
  {
   "cell_type": "code",
   "execution_count": 245,
   "metadata": {},
   "outputs": [
    {
     "output_type": "stream",
     "name": "stdout",
     "text": [
      "['Resolución PRE/392/2021', 'Ley 26/2010', 'Orden PRE/5/2017', 'Resolución SLT/67/2021', 'Ley 39/2015', 'Ley 43/2020', 'Orden GRI/233/2015', 'Ley 38/2003', 'Resolución SLT/1/2021', 'Ley 4/2020', 'Resolución SLT/133/2021', 'Ley 9/2017', 'Ley 40/2015', 'Resolución EXI/404/2019', 'ley 40/2015', 'Resolución EXI/677/2019', 'Ley 2/2007', 'orden PTO/343/2005', 'Ley 39/2015', 'Orden TES/195/2019', 'Ley 29/1998', 'Ley 3/2012', 'Ley 29/1998', 'Ley 3/2012', 'Ley 39/2015', 'Ley 2/2007', 'Ley 2/2007', 'Ley 39/2015', 'Ley 6/2009', 'Ley 29/1998', 'Ley 3/2012', 'Ley 2/2007', 'Orden PTO/343/2005', 'Ley 39/2015', 'Ley 29/1998', 'Ley 3/2012', 'Resolución CLT/3142/2020', 'Orden CLT/4/2013', 'Ley 20/2000', 'Resolución CLT/187/2021', 'Resolución CLT/3142/2020', 'Resolución CLT/588/2021', 'Orden CLT/4/2013', 'Ley 20/2000', 'Resolución CLT/187/2021', 'Real decreto legislativo 2/2015', 'Ley 26/2010', 'Ley 39/2015', 'Orden ARP/146/2017', 'Ley 14/2003', 'Orden ARP/243/2017', 'Ley 14/2003', 'Orden ARP/246/2017', 'Orden ARP/146/2017', 'Orden ARP/15/2018', 'Orden VEH/79/2020', 'Reglamento (UE) 1408/2013', 'Orden ECO/172/2015']\n"
     ]
    }
   ],
   "source": [
    "print(regex_result)"
   ]
  },
  {
   "cell_type": "code",
   "execution_count": 246,
   "metadata": {},
   "outputs": [],
   "source": [
    "## Elimina duplicados\n",
    "boletin_flat_list = list(set(regex_result))"
   ]
  },
  {
   "cell_type": "code",
   "execution_count": 247,
   "metadata": {},
   "outputs": [
    {
     "output_type": "execute_result",
     "data": {
      "text/plain": [
       "['Ley 40/2015',\n",
       " 'Ley 20/2000',\n",
       " 'orden PTO/343/2005',\n",
       " 'Resolución SLT/67/2021',\n",
       " 'Ley 39/2015',\n",
       " 'Ley 6/2009',\n",
       " 'Orden ARP/246/2017',\n",
       " 'Resolución SLT/1/2021',\n",
       " 'Resolución SLT/133/2021',\n",
       " 'Ley 3/2012',\n",
       " 'Resolución CLT/3142/2020',\n",
       " 'Resolución EXI/404/2019',\n",
       " 'Orden TES/195/2019',\n",
       " 'Resolución EXI/677/2019',\n",
       " 'Ley 4/2020',\n",
       " 'Resolución PRE/392/2021',\n",
       " 'Ley 14/2003',\n",
       " 'Ley 26/2010',\n",
       " 'Ley 9/2017',\n",
       " 'Resolución CLT/588/2021',\n",
       " 'Reglamento (UE) 1408/2013',\n",
       " 'Orden ARP/15/2018',\n",
       " 'ley 40/2015',\n",
       " 'Orden ARP/146/2017',\n",
       " 'Orden ECO/172/2015',\n",
       " 'Ley 29/1998',\n",
       " 'Real decreto legislativo 2/2015',\n",
       " 'Ley 2/2007',\n",
       " 'Orden CLT/4/2013',\n",
       " 'Orden PTO/343/2005',\n",
       " 'Orden ARP/243/2017',\n",
       " 'Orden VEH/79/2020',\n",
       " 'Ley 43/2020',\n",
       " 'Orden GRI/233/2015',\n",
       " 'Ley 38/2003',\n",
       " 'Resolución CLT/187/2021',\n",
       " 'Orden PRE/5/2017']"
      ]
     },
     "metadata": {},
     "execution_count": 247
    }
   ],
   "source": [
    "boletin_flat_list"
   ]
  },
  {
   "cell_type": "code",
   "execution_count": 248,
   "metadata": {},
   "outputs": [
    {
     "output_type": "stream",
     "name": "stderr",
     "text": [
      "<ipython-input-248-f6512ab6d32e>:10: SettingWithCopyWarning: \n",
      "A value is trying to be set on a copy of a slice from a DataFrame\n",
      "\n",
      "See the caveats in the documentation: https://pandas.pydata.org/pandas-docs/stable/user_guide/indexing.html#returning-a-view-versus-a-copy\n",
      "  boletin_ASECORP_flat_list, ASECORP_BBDD, ambitos = tagea_BBDD_ASECORP(['España','Europa','Cataluña'])\n",
      "['España', 'Europa', 'Cataluña']\n"
     ]
    }
   ],
   "source": [
    "# ## Importa BBDD ASECORP\n",
    "\n",
    "# Inicializa datos de BBDD_ASECORP\n",
    "boletin_ASECORP_flat_list = []\n",
    "ASECORP_BBDD = pd.DataFrame()\n",
    "ambitos = []\n",
    "\n",
    "# Incluir en llamada a función el ambito territorial como lista\n",
    "# si no se especifica ámbito los incluye todos\n",
    "boletin_ASECORP_flat_list, ASECORP_BBDD, ambitos = tagea_BBDD_ASECORP(['España','Europa','Cataluña'])\n",
    "\n",
    "print(ambitos)\n"
   ]
  },
  {
   "cell_type": "code",
   "execution_count": 249,
   "metadata": {},
   "outputs": [],
   "source": [
    "#boletin_ASECORP_flat_list"
   ]
  },
  {
   "cell_type": "code",
   "execution_count": 250,
   "metadata": {},
   "outputs": [
    {
     "output_type": "execute_result",
     "data": {
      "text/plain": [
       "set()"
      ]
     },
     "metadata": {},
     "execution_count": 250
    }
   ],
   "source": [
    "## Busca coincidencias entre lista boletines BOEs explorados y lista boletines de BBDD ASECORP\n",
    "set(boletin_flat_list) & set(boletin_ASECORP_flat_list)"
   ]
  },
  {
   "cell_type": "code",
   "execution_count": 251,
   "metadata": {},
   "outputs": [
    {
     "output_type": "stream",
     "name": "stdout",
     "text": [
      "{'Resolución SLT/1/2021'}\n{'Resolución SLT/133/2021'}\n{'Resolución SLT/67/2021'}\n{'Ley 9/2017'}\n{'Ley 3/2012'}\n{'Ley 3/2012'}\n{'Ley 3/2012'}\n{'Ley 3/2012'}\n{'Ley 3/2012'}\n{'Ley 3/2012'}\n{'Ley 3/2012'}\n{'Ley 3/2012'}\n{'Ley 3/2012'}\n{'Ley 3/2012'}\n{'Ley 3/2012'}\n{'Ley 3/2012'}\n{'Ley 6/2009'}\n{'Ley 3/2012'}\n{'Ley 3/2012'}\n{'Ley 3/2012'}\n{'Ley 3/2012'}\n"
     ]
    }
   ],
   "source": [
    "#DOCM_sumarios['Tags'].isin(ASECORP_BBDD_BOE['Tags'])\n",
    "for row_to_compare in DOGC_sumarios['Tags']:\n",
    "    for row_comparing in ASECORP_BBDD['Tags']:\n",
    "        if set(row_comparing) & set(row_to_compare):\n",
    "            print(set(row_comparing) & set(row_to_compare))"
   ]
  },
  {
   "cell_type": "code",
   "execution_count": 252,
   "metadata": {},
   "outputs": [
    {
     "output_type": "stream",
     "name": "stdout",
     "text": [
      "{'Resolución SLT/1/2021'} RES SLT/1/2021 CAT\n",
      "{'Resolución SLT/133/2021'} RES SLT/133/2021 CAT\n",
      "{'Resolución SLT/67/2021'} RES SLT/67/2021 CAT\n",
      "{'Ley 9/2017'} LEY 9/2017 ESP\n",
      "{'Ley 3/2012'} DLE 3/2012 CAT\n",
      "{'Ley 3/2012'} LEY 14/2015 CAT\n",
      "{'Ley 3/2012'} LEY 3/2012 CAT\n",
      "{'Ley 3/2012'} LEY 3/2012 ESP\n",
      "{'Ley 3/2012'} DLE 3/2012 CAT\n",
      "{'Ley 3/2012'} LEY 14/2015 CAT\n",
      "{'Ley 3/2012'} LEY 3/2012 CAT\n",
      "{'Ley 3/2012'} LEY 3/2012 ESP\n",
      "{'Ley 3/2012'} DLE 3/2012 CAT\n",
      "{'Ley 3/2012'} LEY 14/2015 CAT\n",
      "{'Ley 3/2012'} LEY 3/2012 CAT\n",
      "{'Ley 3/2012'} LEY 3/2012 ESP\n",
      "{'Ley 6/2009'} LEY 6/2009 CAT\n",
      "{'Ley 3/2012'} DLE 3/2012 CAT\n",
      "{'Ley 3/2012'} LEY 14/2015 CAT\n",
      "{'Ley 3/2012'} LEY 3/2012 CAT\n",
      "{'Ley 3/2012'} LEY 3/2012 ESP\n"
     ]
    }
   ],
   "source": [
    "for i, row_to_compare in DOGC_sumarios.iterrows():\n",
    "    for j, row_comparing in ASECORP_BBDD.iterrows():\n",
    "        if set(row_to_compare['Tags']) & set(row_comparing['Tags']):\n",
    "            DOGC_sumarios['Match_ASECORP_BBDD'][i].append (ASECORP_BBDD['Codigo'][j])\n",
    "            print(str(set(row_to_compare['Tags']) & set(row_comparing['Tags'])) + ' ' + str(row_comparing['Codigo']))"
   ]
  },
  {
   "cell_type": "code",
   "execution_count": 253,
   "metadata": {},
   "outputs": [
    {
     "output_type": "execute_result",
     "data": {
      "text/plain": [
       "                                           item_Title  \\\n",
       "0   RESOLUCIÓN PRE/734/2021, de 9 de marzo, por la...   \n",
       "1   RESOLUCIÓN EXI/733/2021, de 5 de febrero, de l...   \n",
       "2   EDICTO de 8 de marzo de 2021, sobre acuerdos d...   \n",
       "3   EDICTO de 9 de marzo de 2021, sobre un acuerdo...   \n",
       "4   EDICTO de 10 de marzo de 2021, sobre un acuerd...   \n",
       "5   EDICTO de 10 de marzo de 2021, sobre acuerdos ...   \n",
       "6   RESOLUCIÓN CLT/683/2021, de 9 de marzo, de con...   \n",
       "7   RESOLUCIÓN CLT/722/2021, de 10 de marzo, de co...   \n",
       "8   CORRECCIÓN DE ERRATAS en la Resolución TSF/353...   \n",
       "9   ORDEN ARP/60/2021, de 12 de marzo, por la que ...   \n",
       "10  ORDEN ARP/61/2021, de 12 de marzo, por la que ...   \n",
       "11  ORDEN ARP/62/2021, de 11 de marzo, por la que ...   \n",
       "\n",
       "                                         item_urlHTML  \\\n",
       "0   https://dogc.gencat.cat/es/document-del-dogc/?...   \n",
       "1   https://dogc.gencat.cat/es/document-del-dogc/?...   \n",
       "2   https://dogc.gencat.cat/es/document-del-dogc/?...   \n",
       "3   https://dogc.gencat.cat/es/document-del-dogc/?...   \n",
       "4   https://dogc.gencat.cat/es/document-del-dogc/?...   \n",
       "5   https://dogc.gencat.cat/es/document-del-dogc/?...   \n",
       "6   https://dogc.gencat.cat/es/document-del-dogc/?...   \n",
       "7   https://dogc.gencat.cat/es/document-del-dogc/?...   \n",
       "8   https://dogc.gencat.cat/es/document-del-dogc/?...   \n",
       "9   https://dogc.gencat.cat/es/document-del-dogc/?...   \n",
       "10  https://dogc.gencat.cat/es/document-del-dogc/?...   \n",
       "11  https://dogc.gencat.cat/es/document-del-dogc/?...   \n",
       "\n",
       "                                          item_urlPDF  \\\n",
       "0   https://portaldogc.gencat.cat/utilsEADOP/AppJa...   \n",
       "1   https://portaldogc.gencat.cat/utilsEADOP/AppJa...   \n",
       "2   https://portaldogc.gencat.cat/utilsEADOP/AppJa...   \n",
       "3   https://portaldogc.gencat.cat/utilsEADOP/AppJa...   \n",
       "4   https://portaldogc.gencat.cat/utilsEADOP/AppJa...   \n",
       "5   https://portaldogc.gencat.cat/utilsEADOP/AppJa...   \n",
       "6   https://portaldogc.gencat.cat/utilsEADOP/AppJa...   \n",
       "7   https://portaldogc.gencat.cat/utilsEADOP/AppJa...   \n",
       "8   https://portaldogc.gencat.cat/utilsEADOP/AppJa...   \n",
       "9   https://portaldogc.gencat.cat/utilsEADOP/AppJa...   \n",
       "10  https://portaldogc.gencat.cat/utilsEADOP/AppJa...   \n",
       "11  https://portaldogc.gencat.cat/utilsEADOP/AppJa...   \n",
       "\n",
       "                                        item_fullText  \\\n",
       "0   Mediante la Resolución SLT/1/2021, de 4 de ene...   \n",
       "1   El Departamento de Acción Exterior, Relaciones...   \n",
       "2    \\nLa Comisión Territorial de Urbanismo de El ...   \n",
       "3   La Comisión Territorial de Urbanismo del ámbit...   \n",
       "4   La Comisión Territorial de Urbanismo de Girona...   \n",
       "5   Exp.: 2020/072228/B\\n2ª Modificación puntual d...   \n",
       "6   Vista la Resolución CLT/3142/2020, de 1 de dic...   \n",
       "7   Vista la Resolución CLT/3142/2020, de 1 de dic...   \n",
       "8   Habiendo observado una errata en la versión ca...   \n",
       "9   La Orden ARP/243/2017, de 25 de octubre, aprob...   \n",
       "10  La Orden ARP/246/2017, de 27 de octubre, aprob...   \n",
       "11  En fecha 26 de febrero de 2018, se publicó en ...   \n",
       "\n",
       "                                          item_urlXML  \\\n",
       "0   [https://portaldogc.gencat.cat/utilsEADOP/AppJ...   \n",
       "1   [https://portaldogc.gencat.cat/utilsEADOP/AppJ...   \n",
       "2   [https://portaldogc.gencat.cat/utilsEADOP/AppJ...   \n",
       "3   [https://portaldogc.gencat.cat/utilsEADOP/AppJ...   \n",
       "4   [https://portaldogc.gencat.cat/utilsEADOP/AppJ...   \n",
       "5   [https://portaldogc.gencat.cat/utilsEADOP/AppJ...   \n",
       "6   [https://portaldogc.gencat.cat/utilsEADOP/AppJ...   \n",
       "7   [https://portaldogc.gencat.cat/utilsEADOP/AppJ...   \n",
       "8   [https://portaldogc.gencat.cat/utilsEADOP/AppJ...   \n",
       "9   [https://portaldogc.gencat.cat/utilsEADOP/AppJ...   \n",
       "10  [https://portaldogc.gencat.cat/utilsEADOP/AppJ...   \n",
       "11  [https://portaldogc.gencat.cat/utilsEADOP/AppJ...   \n",
       "\n",
       "                   tipo_doc     fecha_doc       numero_doc numero_control  \\\n",
       "0              [Resolución]  [09/03/2021]  [PRE/0734/2021]     [21074036]   \n",
       "1              [Resolución]  [05/02/2021]  [EXI/0733/2021]     [21074038]   \n",
       "2                 [Edicto ]  [08/03/2021]               []     [21069082]   \n",
       "3                 [Edicto ]  [09/03/2021]               []     [21069061]   \n",
       "4                 [Edicto ]  [10/03/2021]               []     [21069088]   \n",
       "5                 [Edicto ]  [10/03/2021]               []     [21069034]   \n",
       "6              [Resolución]  [09/03/2021]  [CLT/0683/2021]     [21069053]   \n",
       "7              [Resolución]  [10/03/2021]  [CLT/0722/2021]     [21071046]   \n",
       "8   [Corrección de erratas]  [04/03/2021]               []     [21069042]   \n",
       "9                   [Orden]  [12/03/2021]  [ARP/0060/2021]     [21074043]   \n",
       "10                  [Orden]  [12/03/2021]  [ARP/0061/2021]     [21074042]   \n",
       "11                  [Orden]  [11/03/2021]  [ARP/0062/2021]     [21074044]   \n",
       "\n",
       "                                      entidad_emisora  \\\n",
       "0                       [Consejo Catalán del Deporte]   \n",
       "1   [Departamento de Acción Exterior, Relaciones I...   \n",
       "2       [Departamento de Territorio y Sostenibilidad]   \n",
       "3       [Departamento de Territorio y Sostenibilidad]   \n",
       "4       [Departamento de Territorio y Sostenibilidad]   \n",
       "5       [Departamento de Territorio y Sostenibilidad]   \n",
       "6      [Instituto Catalán de las Empresas Culturales]   \n",
       "7      [Instituto Catalán de las Empresas Culturales]   \n",
       "8   [Departamento de Trabajo, Asuntos Sociales y F...   \n",
       "9   [Departamento de Agricultura, Ganadería, Pesca...   \n",
       "10  [Departamento de Agricultura, Ganadería, Pesca...   \n",
       "11  [Departamento de Agricultura, Ganadería, Pesca...   \n",
       "\n",
       "                           CVE numero_DOGC    fecha_DOGC     seccion_DOGC  \\\n",
       "0   [CVE-DOGC-B-21074036-2021]      [8367]  [17/03/2021]  [Disposiciones]   \n",
       "1   [CVE-DOGC-B-21074038-2021]      [8367]  [17/03/2021]  [Disposiciones]   \n",
       "2   [CVE-DOGC-B-21069082-2021]      [8367]  [17/03/2021]  [Disposiciones]   \n",
       "3   [CVE-DOGC-B-21069061-2021]      [8367]  [17/03/2021]  [Disposiciones]   \n",
       "4   [CVE-DOGC-B-21069088-2021]      [8367]  [17/03/2021]  [Disposiciones]   \n",
       "5   [CVE-DOGC-B-21069034-2021]      [8367]  [17/03/2021]  [Disposiciones]   \n",
       "6   [CVE-DOGC-B-21069053-2021]      [8367]  [17/03/2021]  [Disposiciones]   \n",
       "7   [CVE-DOGC-B-21071046-2021]      [8367]  [17/03/2021]  [Disposiciones]   \n",
       "8   [CVE-DOGC-B-21069042-2021]      [8367]  [17/03/2021]  [Disposiciones]   \n",
       "9   [CVE-DOGC-B-21074043-2021]      [8367]  [17/03/2021]  [Disposiciones]   \n",
       "10  [CVE-DOGC-B-21074042-2021]      [8367]  [17/03/2021]  [Disposiciones]   \n",
       "11  [CVE-DOGC-B-21074044-2021]      [8367]  [17/03/2021]  [Disposiciones]   \n",
       "\n",
       "                                                 Tags  \\\n",
       "0   [Resolución PRE/392/2021, Ley 26/2010, Orden P...   \n",
       "1   [Ley 9/2017, Ley 40/2015, Resolución EXI/404/2...   \n",
       "2   [Ley 2/2007, orden PTO/343/2005, Ley 39/2015, ...   \n",
       "3   [Ley 29/1998, Ley 3/2012, Ley 39/2015, Ley 2/2...   \n",
       "4   [Ley 2/2007, Ley 39/2015, Ley 6/2009, Ley 29/1...   \n",
       "5   [Ley 2/2007, Orden PTO/343/2005, Ley 39/2015, ...   \n",
       "6   [Resolución CLT/3142/2020, Orden CLT/4/2013, L...   \n",
       "7   [Resolución CLT/3142/2020, Resolución CLT/588/...   \n",
       "8   [Real decreto legislativo 2/2015, Ley 26/2010,...   \n",
       "9   [Orden ARP/146/2017, Ley 14/2003, Orden ARP/24...   \n",
       "10  [Ley 14/2003, Orden ARP/246/2017, Orden ARP/14...   \n",
       "11  [Orden ARP/15/2018, Orden VEH/79/2020, Reglame...   \n",
       "\n",
       "                                   Match_ASECORP_BBDD  \n",
       "0   [RES SLT/1/2021 CAT, RES SLT/133/2021 CAT, RES...  \n",
       "1                                    [LEY 9/2017 ESP]  \n",
       "2   [DLE 3/2012 CAT, LEY 14/2015 CAT, LEY 3/2012 C...  \n",
       "3   [DLE 3/2012 CAT, LEY 14/2015 CAT, LEY 3/2012 C...  \n",
       "4   [DLE 3/2012 CAT, LEY 14/2015 CAT, LEY 3/2012 C...  \n",
       "5   [DLE 3/2012 CAT, LEY 14/2015 CAT, LEY 3/2012 C...  \n",
       "6                                                  []  \n",
       "7                                                  []  \n",
       "8                                                  []  \n",
       "9                                                  []  \n",
       "10                                                 []  \n",
       "11                                                 []  "
      ],
      "text/html": "<div>\n<style scoped>\n    .dataframe tbody tr th:only-of-type {\n        vertical-align: middle;\n    }\n\n    .dataframe tbody tr th {\n        vertical-align: top;\n    }\n\n    .dataframe thead th {\n        text-align: right;\n    }\n</style>\n<table border=\"1\" class=\"dataframe\">\n  <thead>\n    <tr style=\"text-align: right;\">\n      <th></th>\n      <th>item_Title</th>\n      <th>item_urlHTML</th>\n      <th>item_urlPDF</th>\n      <th>item_fullText</th>\n      <th>item_urlXML</th>\n      <th>tipo_doc</th>\n      <th>fecha_doc</th>\n      <th>numero_doc</th>\n      <th>numero_control</th>\n      <th>entidad_emisora</th>\n      <th>CVE</th>\n      <th>numero_DOGC</th>\n      <th>fecha_DOGC</th>\n      <th>seccion_DOGC</th>\n      <th>Tags</th>\n      <th>Match_ASECORP_BBDD</th>\n    </tr>\n  </thead>\n  <tbody>\n    <tr>\n      <th>0</th>\n      <td>RESOLUCIÓN PRE/734/2021, de 9 de marzo, por la...</td>\n      <td>https://dogc.gencat.cat/es/document-del-dogc/?...</td>\n      <td>https://portaldogc.gencat.cat/utilsEADOP/AppJa...</td>\n      <td>Mediante la Resolución SLT/1/2021, de 4 de ene...</td>\n      <td>[https://portaldogc.gencat.cat/utilsEADOP/AppJ...</td>\n      <td>[Resolución]</td>\n      <td>[09/03/2021]</td>\n      <td>[PRE/0734/2021]</td>\n      <td>[21074036]</td>\n      <td>[Consejo Catalán del Deporte]</td>\n      <td>[CVE-DOGC-B-21074036-2021]</td>\n      <td>[8367]</td>\n      <td>[17/03/2021]</td>\n      <td>[Disposiciones]</td>\n      <td>[Resolución PRE/392/2021, Ley 26/2010, Orden P...</td>\n      <td>[RES SLT/1/2021 CAT, RES SLT/133/2021 CAT, RES...</td>\n    </tr>\n    <tr>\n      <th>1</th>\n      <td>RESOLUCIÓN EXI/733/2021, de 5 de febrero, de l...</td>\n      <td>https://dogc.gencat.cat/es/document-del-dogc/?...</td>\n      <td>https://portaldogc.gencat.cat/utilsEADOP/AppJa...</td>\n      <td>El Departamento de Acción Exterior, Relaciones...</td>\n      <td>[https://portaldogc.gencat.cat/utilsEADOP/AppJ...</td>\n      <td>[Resolución]</td>\n      <td>[05/02/2021]</td>\n      <td>[EXI/0733/2021]</td>\n      <td>[21074038]</td>\n      <td>[Departamento de Acción Exterior, Relaciones I...</td>\n      <td>[CVE-DOGC-B-21074038-2021]</td>\n      <td>[8367]</td>\n      <td>[17/03/2021]</td>\n      <td>[Disposiciones]</td>\n      <td>[Ley 9/2017, Ley 40/2015, Resolución EXI/404/2...</td>\n      <td>[LEY 9/2017 ESP]</td>\n    </tr>\n    <tr>\n      <th>2</th>\n      <td>EDICTO de 8 de marzo de 2021, sobre acuerdos d...</td>\n      <td>https://dogc.gencat.cat/es/document-del-dogc/?...</td>\n      <td>https://portaldogc.gencat.cat/utilsEADOP/AppJa...</td>\n      <td>\\nLa Comisión Territorial de Urbanismo de El ...</td>\n      <td>[https://portaldogc.gencat.cat/utilsEADOP/AppJ...</td>\n      <td>[Edicto ]</td>\n      <td>[08/03/2021]</td>\n      <td>[]</td>\n      <td>[21069082]</td>\n      <td>[Departamento de Territorio y Sostenibilidad]</td>\n      <td>[CVE-DOGC-B-21069082-2021]</td>\n      <td>[8367]</td>\n      <td>[17/03/2021]</td>\n      <td>[Disposiciones]</td>\n      <td>[Ley 2/2007, orden PTO/343/2005, Ley 39/2015, ...</td>\n      <td>[DLE 3/2012 CAT, LEY 14/2015 CAT, LEY 3/2012 C...</td>\n    </tr>\n    <tr>\n      <th>3</th>\n      <td>EDICTO de 9 de marzo de 2021, sobre un acuerdo...</td>\n      <td>https://dogc.gencat.cat/es/document-del-dogc/?...</td>\n      <td>https://portaldogc.gencat.cat/utilsEADOP/AppJa...</td>\n      <td>La Comisión Territorial de Urbanismo del ámbit...</td>\n      <td>[https://portaldogc.gencat.cat/utilsEADOP/AppJ...</td>\n      <td>[Edicto ]</td>\n      <td>[09/03/2021]</td>\n      <td>[]</td>\n      <td>[21069061]</td>\n      <td>[Departamento de Territorio y Sostenibilidad]</td>\n      <td>[CVE-DOGC-B-21069061-2021]</td>\n      <td>[8367]</td>\n      <td>[17/03/2021]</td>\n      <td>[Disposiciones]</td>\n      <td>[Ley 29/1998, Ley 3/2012, Ley 39/2015, Ley 2/2...</td>\n      <td>[DLE 3/2012 CAT, LEY 14/2015 CAT, LEY 3/2012 C...</td>\n    </tr>\n    <tr>\n      <th>4</th>\n      <td>EDICTO de 10 de marzo de 2021, sobre un acuerd...</td>\n      <td>https://dogc.gencat.cat/es/document-del-dogc/?...</td>\n      <td>https://portaldogc.gencat.cat/utilsEADOP/AppJa...</td>\n      <td>La Comisión Territorial de Urbanismo de Girona...</td>\n      <td>[https://portaldogc.gencat.cat/utilsEADOP/AppJ...</td>\n      <td>[Edicto ]</td>\n      <td>[10/03/2021]</td>\n      <td>[]</td>\n      <td>[21069088]</td>\n      <td>[Departamento de Territorio y Sostenibilidad]</td>\n      <td>[CVE-DOGC-B-21069088-2021]</td>\n      <td>[8367]</td>\n      <td>[17/03/2021]</td>\n      <td>[Disposiciones]</td>\n      <td>[Ley 2/2007, Ley 39/2015, Ley 6/2009, Ley 29/1...</td>\n      <td>[DLE 3/2012 CAT, LEY 14/2015 CAT, LEY 3/2012 C...</td>\n    </tr>\n    <tr>\n      <th>5</th>\n      <td>EDICTO de 10 de marzo de 2021, sobre acuerdos ...</td>\n      <td>https://dogc.gencat.cat/es/document-del-dogc/?...</td>\n      <td>https://portaldogc.gencat.cat/utilsEADOP/AppJa...</td>\n      <td>Exp.: 2020/072228/B\\n2ª Modificación puntual d...</td>\n      <td>[https://portaldogc.gencat.cat/utilsEADOP/AppJ...</td>\n      <td>[Edicto ]</td>\n      <td>[10/03/2021]</td>\n      <td>[]</td>\n      <td>[21069034]</td>\n      <td>[Departamento de Territorio y Sostenibilidad]</td>\n      <td>[CVE-DOGC-B-21069034-2021]</td>\n      <td>[8367]</td>\n      <td>[17/03/2021]</td>\n      <td>[Disposiciones]</td>\n      <td>[Ley 2/2007, Orden PTO/343/2005, Ley 39/2015, ...</td>\n      <td>[DLE 3/2012 CAT, LEY 14/2015 CAT, LEY 3/2012 C...</td>\n    </tr>\n    <tr>\n      <th>6</th>\n      <td>RESOLUCIÓN CLT/683/2021, de 9 de marzo, de con...</td>\n      <td>https://dogc.gencat.cat/es/document-del-dogc/?...</td>\n      <td>https://portaldogc.gencat.cat/utilsEADOP/AppJa...</td>\n      <td>Vista la Resolución CLT/3142/2020, de 1 de dic...</td>\n      <td>[https://portaldogc.gencat.cat/utilsEADOP/AppJ...</td>\n      <td>[Resolución]</td>\n      <td>[09/03/2021]</td>\n      <td>[CLT/0683/2021]</td>\n      <td>[21069053]</td>\n      <td>[Instituto Catalán de las Empresas Culturales]</td>\n      <td>[CVE-DOGC-B-21069053-2021]</td>\n      <td>[8367]</td>\n      <td>[17/03/2021]</td>\n      <td>[Disposiciones]</td>\n      <td>[Resolución CLT/3142/2020, Orden CLT/4/2013, L...</td>\n      <td>[]</td>\n    </tr>\n    <tr>\n      <th>7</th>\n      <td>RESOLUCIÓN CLT/722/2021, de 10 de marzo, de co...</td>\n      <td>https://dogc.gencat.cat/es/document-del-dogc/?...</td>\n      <td>https://portaldogc.gencat.cat/utilsEADOP/AppJa...</td>\n      <td>Vista la Resolución CLT/3142/2020, de 1 de dic...</td>\n      <td>[https://portaldogc.gencat.cat/utilsEADOP/AppJ...</td>\n      <td>[Resolución]</td>\n      <td>[10/03/2021]</td>\n      <td>[CLT/0722/2021]</td>\n      <td>[21071046]</td>\n      <td>[Instituto Catalán de las Empresas Culturales]</td>\n      <td>[CVE-DOGC-B-21071046-2021]</td>\n      <td>[8367]</td>\n      <td>[17/03/2021]</td>\n      <td>[Disposiciones]</td>\n      <td>[Resolución CLT/3142/2020, Resolución CLT/588/...</td>\n      <td>[]</td>\n    </tr>\n    <tr>\n      <th>8</th>\n      <td>CORRECCIÓN DE ERRATAS en la Resolución TSF/353...</td>\n      <td>https://dogc.gencat.cat/es/document-del-dogc/?...</td>\n      <td>https://portaldogc.gencat.cat/utilsEADOP/AppJa...</td>\n      <td>Habiendo observado una errata en la versión ca...</td>\n      <td>[https://portaldogc.gencat.cat/utilsEADOP/AppJ...</td>\n      <td>[Corrección de erratas]</td>\n      <td>[04/03/2021]</td>\n      <td>[]</td>\n      <td>[21069042]</td>\n      <td>[Departamento de Trabajo, Asuntos Sociales y F...</td>\n      <td>[CVE-DOGC-B-21069042-2021]</td>\n      <td>[8367]</td>\n      <td>[17/03/2021]</td>\n      <td>[Disposiciones]</td>\n      <td>[Real decreto legislativo 2/2015, Ley 26/2010,...</td>\n      <td>[]</td>\n    </tr>\n    <tr>\n      <th>9</th>\n      <td>ORDEN ARP/60/2021, de 12 de marzo, por la que ...</td>\n      <td>https://dogc.gencat.cat/es/document-del-dogc/?...</td>\n      <td>https://portaldogc.gencat.cat/utilsEADOP/AppJa...</td>\n      <td>La Orden ARP/243/2017, de 25 de octubre, aprob...</td>\n      <td>[https://portaldogc.gencat.cat/utilsEADOP/AppJ...</td>\n      <td>[Orden]</td>\n      <td>[12/03/2021]</td>\n      <td>[ARP/0060/2021]</td>\n      <td>[21074043]</td>\n      <td>[Departamento de Agricultura, Ganadería, Pesca...</td>\n      <td>[CVE-DOGC-B-21074043-2021]</td>\n      <td>[8367]</td>\n      <td>[17/03/2021]</td>\n      <td>[Disposiciones]</td>\n      <td>[Orden ARP/146/2017, Ley 14/2003, Orden ARP/24...</td>\n      <td>[]</td>\n    </tr>\n    <tr>\n      <th>10</th>\n      <td>ORDEN ARP/61/2021, de 12 de marzo, por la que ...</td>\n      <td>https://dogc.gencat.cat/es/document-del-dogc/?...</td>\n      <td>https://portaldogc.gencat.cat/utilsEADOP/AppJa...</td>\n      <td>La Orden ARP/246/2017, de 27 de octubre, aprob...</td>\n      <td>[https://portaldogc.gencat.cat/utilsEADOP/AppJ...</td>\n      <td>[Orden]</td>\n      <td>[12/03/2021]</td>\n      <td>[ARP/0061/2021]</td>\n      <td>[21074042]</td>\n      <td>[Departamento de Agricultura, Ganadería, Pesca...</td>\n      <td>[CVE-DOGC-B-21074042-2021]</td>\n      <td>[8367]</td>\n      <td>[17/03/2021]</td>\n      <td>[Disposiciones]</td>\n      <td>[Ley 14/2003, Orden ARP/246/2017, Orden ARP/14...</td>\n      <td>[]</td>\n    </tr>\n    <tr>\n      <th>11</th>\n      <td>ORDEN ARP/62/2021, de 11 de marzo, por la que ...</td>\n      <td>https://dogc.gencat.cat/es/document-del-dogc/?...</td>\n      <td>https://portaldogc.gencat.cat/utilsEADOP/AppJa...</td>\n      <td>En fecha 26 de febrero de 2018, se publicó en ...</td>\n      <td>[https://portaldogc.gencat.cat/utilsEADOP/AppJ...</td>\n      <td>[Orden]</td>\n      <td>[11/03/2021]</td>\n      <td>[ARP/0062/2021]</td>\n      <td>[21074044]</td>\n      <td>[Departamento de Agricultura, Ganadería, Pesca...</td>\n      <td>[CVE-DOGC-B-21074044-2021]</td>\n      <td>[8367]</td>\n      <td>[17/03/2021]</td>\n      <td>[Disposiciones]</td>\n      <td>[Orden ARP/15/2018, Orden VEH/79/2020, Reglame...</td>\n      <td>[]</td>\n    </tr>\n  </tbody>\n</table>\n</div>"
     },
     "metadata": {},
     "execution_count": 253
    }
   ],
   "source": [
    "DOGC_sumarios"
   ]
  },
  {
   "source": [
    "# Genera Fichero EXCEL de resultados"
   ],
   "cell_type": "markdown",
   "metadata": {}
  },
  {
   "cell_type": "code",
   "execution_count": 254,
   "metadata": {},
   "outputs": [],
   "source": [
    "DOGC_sumarios_final = DOGC_sumarios"
   ]
  },
  {
   "cell_type": "code",
   "execution_count": 255,
   "metadata": {},
   "outputs": [
    {
     "output_type": "execute_result",
     "data": {
      "text/plain": [
       "item_Title            object\n",
       "item_urlHTML          object\n",
       "item_urlPDF           object\n",
       "item_fullText         object\n",
       "item_urlXML           object\n",
       "tipo_doc              object\n",
       "fecha_doc             object\n",
       "numero_doc            object\n",
       "numero_control        object\n",
       "entidad_emisora       object\n",
       "CVE                   object\n",
       "numero_DOGC           object\n",
       "fecha_DOGC            object\n",
       "seccion_DOGC          object\n",
       "Tags                  object\n",
       "Match_ASECORP_BBDD    object\n",
       "dtype: object"
      ]
     },
     "metadata": {},
     "execution_count": 255
    }
   ],
   "source": [
    "DOGC_sumarios_final.dtypes"
   ]
  },
  {
   "cell_type": "code",
   "execution_count": 256,
   "metadata": {},
   "outputs": [],
   "source": [
    "## Cambia orden de columnas y elimina las no necesarias  \n",
    "DOGC_sumarios_final.rename(columns={'CVE': 'Item_id', 'item_Title': 'Item_Title', 'item_urlPDF': 'PDF_Link', 'fecha_DOGC': 'Fecha_publicacion'}, inplace=True)\n",
    "DOGC_sumarios_final = DOGC_sumarios[['Item_id','Item_Title','PDF_Link','Fecha_publicacion','Tags','Match_ASECORP_BBDD']]"
   ]
  },
  {
   "cell_type": "code",
   "execution_count": 257,
   "metadata": {},
   "outputs": [],
   "source": [
    "## Crea función que convierte lista a string en todas las columnas de DOCM_sumarios\n",
    "## para evitar en presentación final los caracteres [' '] propios de las listas\n",
    "def list2Str(lst):\n",
    "    if type(lst) is list: # apply conversion to list columns\n",
    "        return\", \".join(lst)\n",
    "    else:\n",
    "        return lst"
   ]
  },
  {
   "cell_type": "code",
   "execution_count": 258,
   "metadata": {},
   "outputs": [],
   "source": [
    "\n",
    "DOGC_sumarios_final = DOGC_sumarios_final.apply(lambda x: [list2Str(i) for i in x])"
   ]
  },
  {
   "cell_type": "code",
   "execution_count": 259,
   "metadata": {},
   "outputs": [],
   "source": [
    "## Generar hyperlink a artículo BOE en CSV \"=HYPERLINK(\"https://www.boe.es/boe/dias/2021/02/02/pdfs/BOE-A-2021-1474.pdf\";\"BOE-A-2021-1474\")\"\n",
    "## https://www.boe.es/diario_boe/xml.php?id=## https://www.boe.es/boe/dias/2021/02/02/pdfs/BOE-A-2021-1474.pdf\n",
    "\n",
    "DOGC_sumarios_final_CSV = DOGC_sumarios_final"
   ]
  },
  {
   "cell_type": "code",
   "execution_count": 260,
   "metadata": {},
   "outputs": [],
   "source": [
    "DOGC_sumarios_final_CSV['item_id'] = '=HIPERVINCULO(' + '\"' + DOGC_sumarios_final_CSV['PDF_Link'] + '\";' \\\n",
    "                                                        + '\"' + DOGC_sumarios_final_CSV['Item_id'] + '\")'      "
   ]
  },
  {
   "cell_type": "code",
   "execution_count": 261,
   "metadata": {},
   "outputs": [
    {
     "output_type": "execute_result",
     "data": {
      "text/plain": [
       "'=HIPERVINCULO(\"https://portaldogc.gencat.cat/utilsEADOP/AppJava/PdfProviderServlet?documentId=895879&type=01&language=es_ES\";\"CVE-DOGC-B-21074036-2021\")'"
      ]
     },
     "metadata": {},
     "execution_count": 261
    }
   ],
   "source": [
    "DOGC_sumarios_final_CSV['item_id'][0]"
   ]
  },
  {
   "cell_type": "code",
   "execution_count": 262,
   "metadata": {},
   "outputs": [],
   "source": [
    "# Elimina columna PDF_Link\n",
    "DOGC_sumarios_final_CSV = DOGC_sumarios_final_CSV[['Item_id','Item_Title','Fecha_publicacion','Tags','Match_ASECORP_BBDD']]"
   ]
  },
  {
   "cell_type": "code",
   "execution_count": 263,
   "metadata": {},
   "outputs": [
    {
     "output_type": "execute_result",
     "data": {
      "text/plain": [
       "                     Item_id  \\\n",
       "0   CVE-DOGC-B-21074036-2021   \n",
       "1   CVE-DOGC-B-21074038-2021   \n",
       "2   CVE-DOGC-B-21069082-2021   \n",
       "3   CVE-DOGC-B-21069061-2021   \n",
       "4   CVE-DOGC-B-21069088-2021   \n",
       "5   CVE-DOGC-B-21069034-2021   \n",
       "6   CVE-DOGC-B-21069053-2021   \n",
       "7   CVE-DOGC-B-21071046-2021   \n",
       "8   CVE-DOGC-B-21069042-2021   \n",
       "9   CVE-DOGC-B-21074043-2021   \n",
       "10  CVE-DOGC-B-21074042-2021   \n",
       "11  CVE-DOGC-B-21074044-2021   \n",
       "\n",
       "                                           Item_Title Fecha_publicacion  \\\n",
       "0   RESOLUCIÓN PRE/734/2021, de 9 de marzo, por la...        17/03/2021   \n",
       "1   RESOLUCIÓN EXI/733/2021, de 5 de febrero, de l...        17/03/2021   \n",
       "2   EDICTO de 8 de marzo de 2021, sobre acuerdos d...        17/03/2021   \n",
       "3   EDICTO de 9 de marzo de 2021, sobre un acuerdo...        17/03/2021   \n",
       "4   EDICTO de 10 de marzo de 2021, sobre un acuerd...        17/03/2021   \n",
       "5   EDICTO de 10 de marzo de 2021, sobre acuerdos ...        17/03/2021   \n",
       "6   RESOLUCIÓN CLT/683/2021, de 9 de marzo, de con...        17/03/2021   \n",
       "7   RESOLUCIÓN CLT/722/2021, de 10 de marzo, de co...        17/03/2021   \n",
       "8   CORRECCIÓN DE ERRATAS en la Resolución TSF/353...        17/03/2021   \n",
       "9   ORDEN ARP/60/2021, de 12 de marzo, por la que ...        17/03/2021   \n",
       "10  ORDEN ARP/61/2021, de 12 de marzo, por la que ...        17/03/2021   \n",
       "11  ORDEN ARP/62/2021, de 11 de marzo, por la que ...        17/03/2021   \n",
       "\n",
       "                                                 Tags  \\\n",
       "0   Resolución PRE/392/2021, Ley 26/2010, Orden PR...   \n",
       "1   Ley 9/2017, Ley 40/2015, Resolución EXI/404/20...   \n",
       "2   Ley 2/2007, orden PTO/343/2005, Ley 39/2015, O...   \n",
       "3    Ley 29/1998, Ley 3/2012, Ley 39/2015, Ley 2/2007   \n",
       "4   Ley 2/2007, Ley 39/2015, Ley 6/2009, Ley 29/19...   \n",
       "5   Ley 2/2007, Orden PTO/343/2005, Ley 39/2015, L...   \n",
       "6   Resolución CLT/3142/2020, Orden CLT/4/2013, Le...   \n",
       "7   Resolución CLT/3142/2020, Resolución CLT/588/2...   \n",
       "8   Real decreto legislativo 2/2015, Ley 26/2010, ...   \n",
       "9   Orden ARP/146/2017, Ley 14/2003, Orden ARP/243...   \n",
       "10  Ley 14/2003, Orden ARP/246/2017, Orden ARP/146...   \n",
       "11  Orden ARP/15/2018, Orden VEH/79/2020, Reglamen...   \n",
       "\n",
       "                                   Match_ASECORP_BBDD  \n",
       "0   RES SLT/1/2021 CAT, RES SLT/133/2021 CAT, RES ...  \n",
       "1                                      LEY 9/2017 ESP  \n",
       "2   DLE 3/2012 CAT, LEY 14/2015 CAT, LEY 3/2012 CA...  \n",
       "3   DLE 3/2012 CAT, LEY 14/2015 CAT, LEY 3/2012 CA...  \n",
       "4   DLE 3/2012 CAT, LEY 14/2015 CAT, LEY 3/2012 CA...  \n",
       "5   DLE 3/2012 CAT, LEY 14/2015 CAT, LEY 3/2012 CA...  \n",
       "6                                                      \n",
       "7                                                      \n",
       "8                                                      \n",
       "9                                                      \n",
       "10                                                     \n",
       "11                                                     "
      ],
      "text/html": "<div>\n<style scoped>\n    .dataframe tbody tr th:only-of-type {\n        vertical-align: middle;\n    }\n\n    .dataframe tbody tr th {\n        vertical-align: top;\n    }\n\n    .dataframe thead th {\n        text-align: right;\n    }\n</style>\n<table border=\"1\" class=\"dataframe\">\n  <thead>\n    <tr style=\"text-align: right;\">\n      <th></th>\n      <th>Item_id</th>\n      <th>Item_Title</th>\n      <th>Fecha_publicacion</th>\n      <th>Tags</th>\n      <th>Match_ASECORP_BBDD</th>\n    </tr>\n  </thead>\n  <tbody>\n    <tr>\n      <th>0</th>\n      <td>CVE-DOGC-B-21074036-2021</td>\n      <td>RESOLUCIÓN PRE/734/2021, de 9 de marzo, por la...</td>\n      <td>17/03/2021</td>\n      <td>Resolución PRE/392/2021, Ley 26/2010, Orden PR...</td>\n      <td>RES SLT/1/2021 CAT, RES SLT/133/2021 CAT, RES ...</td>\n    </tr>\n    <tr>\n      <th>1</th>\n      <td>CVE-DOGC-B-21074038-2021</td>\n      <td>RESOLUCIÓN EXI/733/2021, de 5 de febrero, de l...</td>\n      <td>17/03/2021</td>\n      <td>Ley 9/2017, Ley 40/2015, Resolución EXI/404/20...</td>\n      <td>LEY 9/2017 ESP</td>\n    </tr>\n    <tr>\n      <th>2</th>\n      <td>CVE-DOGC-B-21069082-2021</td>\n      <td>EDICTO de 8 de marzo de 2021, sobre acuerdos d...</td>\n      <td>17/03/2021</td>\n      <td>Ley 2/2007, orden PTO/343/2005, Ley 39/2015, O...</td>\n      <td>DLE 3/2012 CAT, LEY 14/2015 CAT, LEY 3/2012 CA...</td>\n    </tr>\n    <tr>\n      <th>3</th>\n      <td>CVE-DOGC-B-21069061-2021</td>\n      <td>EDICTO de 9 de marzo de 2021, sobre un acuerdo...</td>\n      <td>17/03/2021</td>\n      <td>Ley 29/1998, Ley 3/2012, Ley 39/2015, Ley 2/2007</td>\n      <td>DLE 3/2012 CAT, LEY 14/2015 CAT, LEY 3/2012 CA...</td>\n    </tr>\n    <tr>\n      <th>4</th>\n      <td>CVE-DOGC-B-21069088-2021</td>\n      <td>EDICTO de 10 de marzo de 2021, sobre un acuerd...</td>\n      <td>17/03/2021</td>\n      <td>Ley 2/2007, Ley 39/2015, Ley 6/2009, Ley 29/19...</td>\n      <td>DLE 3/2012 CAT, LEY 14/2015 CAT, LEY 3/2012 CA...</td>\n    </tr>\n    <tr>\n      <th>5</th>\n      <td>CVE-DOGC-B-21069034-2021</td>\n      <td>EDICTO de 10 de marzo de 2021, sobre acuerdos ...</td>\n      <td>17/03/2021</td>\n      <td>Ley 2/2007, Orden PTO/343/2005, Ley 39/2015, L...</td>\n      <td>DLE 3/2012 CAT, LEY 14/2015 CAT, LEY 3/2012 CA...</td>\n    </tr>\n    <tr>\n      <th>6</th>\n      <td>CVE-DOGC-B-21069053-2021</td>\n      <td>RESOLUCIÓN CLT/683/2021, de 9 de marzo, de con...</td>\n      <td>17/03/2021</td>\n      <td>Resolución CLT/3142/2020, Orden CLT/4/2013, Le...</td>\n      <td></td>\n    </tr>\n    <tr>\n      <th>7</th>\n      <td>CVE-DOGC-B-21071046-2021</td>\n      <td>RESOLUCIÓN CLT/722/2021, de 10 de marzo, de co...</td>\n      <td>17/03/2021</td>\n      <td>Resolución CLT/3142/2020, Resolución CLT/588/2...</td>\n      <td></td>\n    </tr>\n    <tr>\n      <th>8</th>\n      <td>CVE-DOGC-B-21069042-2021</td>\n      <td>CORRECCIÓN DE ERRATAS en la Resolución TSF/353...</td>\n      <td>17/03/2021</td>\n      <td>Real decreto legislativo 2/2015, Ley 26/2010, ...</td>\n      <td></td>\n    </tr>\n    <tr>\n      <th>9</th>\n      <td>CVE-DOGC-B-21074043-2021</td>\n      <td>ORDEN ARP/60/2021, de 12 de marzo, por la que ...</td>\n      <td>17/03/2021</td>\n      <td>Orden ARP/146/2017, Ley 14/2003, Orden ARP/243...</td>\n      <td></td>\n    </tr>\n    <tr>\n      <th>10</th>\n      <td>CVE-DOGC-B-21074042-2021</td>\n      <td>ORDEN ARP/61/2021, de 12 de marzo, por la que ...</td>\n      <td>17/03/2021</td>\n      <td>Ley 14/2003, Orden ARP/246/2017, Orden ARP/146...</td>\n      <td></td>\n    </tr>\n    <tr>\n      <th>11</th>\n      <td>CVE-DOGC-B-21074044-2021</td>\n      <td>ORDEN ARP/62/2021, de 11 de marzo, por la que ...</td>\n      <td>17/03/2021</td>\n      <td>Orden ARP/15/2018, Orden VEH/79/2020, Reglamen...</td>\n      <td></td>\n    </tr>\n  </tbody>\n</table>\n</div>"
     },
     "metadata": {},
     "execution_count": 263
    }
   ],
   "source": [
    "DOGC_sumarios_final_CSV"
   ]
  },
  {
   "cell_type": "code",
   "execution_count": 264,
   "metadata": {},
   "outputs": [],
   "source": [
    "DOGC_sumarios_final_CSV.to_csv(\"./ASECORP/Resultados_Matching_DOGC_\" + today.strftime(\"%Y%m%d\") + \".csv\" ,index=False) "
   ]
  },
  {
   "cell_type": "code",
   "execution_count": null,
   "metadata": {},
   "outputs": [],
   "source": []
  }
 ]
}