{
 "metadata": {
  "language_info": {
   "codemirror_mode": {
    "name": "ipython",
    "version": 3
   },
   "file_extension": ".py",
   "mimetype": "text/x-python",
   "name": "python",
   "nbconvert_exporter": "python",
   "pygments_lexer": "ipython3",
   "version": "3.8.5-final"
  },
  "orig_nbformat": 2,
  "kernelspec": {
   "name": "python3",
   "display_name": "Python 3",
   "language": "python"
  }
 },
 "nbformat": 4,
 "nbformat_minor": 2,
 "cells": [
  {
   "cell_type": "code",
   "execution_count": 55,
   "metadata": {},
   "outputs": [],
   "source": [
    "from lxml import etree, html\n",
    "from lxml.html.clean import clean_html\n",
    "import pandas as pd\n",
    "from datetime import date, datetime\n",
    "import requests\n",
    "import re\n",
    "import os\n",
    "import shutil\n",
    "from ASECORP_BBDD import tagea_BBDD_ASECORP, devuelve_patrones\n",
    "from selenium import webdriver\n",
    "import time"
   ]
  },
  {
   "source": [
    "# Mueve todos los fichero del directorio de trabajo a otro de archivo"
   ],
   "cell_type": "markdown",
   "metadata": {}
  },
  {
   "source": [
    "# Recoge resumen diario del BOE de hoy"
   ],
   "cell_type": "markdown",
   "metadata": {}
  },
  {
   "cell_type": "code",
   "execution_count": 56,
   "metadata": {},
   "outputs": [
    {
     "output_type": "stream",
     "name": "stdout",
     "text": [
      "Fecha de Hoy = 20210309\ndia = 09\nmes = 03\naño = 2021\n09/03/2021\n"
     ]
    }
   ],
   "source": [
    "\n",
    "today = date.today()\n",
    "\n",
    "# dd/mm/YYYY\n",
    "hoy = today.strftime(\"%Y%m%d\")\n",
    "print(\"Fecha de Hoy =\", hoy)\n",
    "\n",
    "# dd\n",
    "d = today.strftime(\"%d\")\n",
    "print(\"dia =\", d)\n",
    "\n",
    "# mm\n",
    "m = today.strftime(\"%m\")\n",
    "print(\"mes =\", m)\n",
    "\n",
    "# YYYY\n",
    "Y = today.strftime(\"%Y\")\n",
    "print(\"año =\", Y)\n",
    "\n",
    "print(today.strftime(\"%d/%m/%Y\"))"
   ]
  },
  {
   "cell_type": "code",
   "execution_count": 57,
   "metadata": {},
   "outputs": [],
   "source": [
    "def save_html(html, path):\n",
    "    with open(path, 'wb') as f:\n",
    "        f.write(html)"
   ]
  },
  {
   "cell_type": "code",
   "execution_count": 58,
   "metadata": {},
   "outputs": [],
   "source": [
    "# Define expresiones REGEX para búsqueda de leyes, decretos, etc. referenciadas anteriormente\n",
    "#pattern = ['Ley [0-9]+\\/[0-9]+','Ley Orgánica [0-9]+\\/[0-9]+','Decreto [0-9]+\\/[0-9]+','Real Decreto [0-9]+\\/[0-9]+','Real Decreto Legislativo [0-9]+\\/[0-9]+','Real Decreto-ley [0-9]+\\/[0-9]+','Orden [A-Z]+\\/[0-9]+\\/[0-9]+','Orden Circular [0-9]+\\/[0-9]+','Reglamento \\(UE\\) [0-9]+\\/[0-9]+', 'Reglamento de Ejeución \\(UE\\) [0-9]+\\/[0-9]+' ,'Sentencia de [0-9]+ de [a-z]+ de [0-9]+','Sentencia [0-9]+\\/[0-9]+','Orden de [0-9]+ de [a-z]+ de [0-9]+', 'Resolución de [0-9]+ de [a-z]+ de [0-9]+','Resolución [a-z]+\\/[0-9]+\\/[0-9]+', 'Nota de Servicio [0-9]+\\/[0-9]+', 'Acuerdo multilateral M\\-[0-9]+', 'Acuerdo Multilateral RID [0-9]+\\/[0-9]+', 'Circular [0-9]+\\/[0-9]+', 'Decisión \\(UE\\) [0-9]+\\/[0-9]+', 'Decisión de Ejecución \\(UE\\) [0-9]+\\/[0-9]+', 'Instrucción IS\\-[0-9]+']\n",
    "pattern = devuelve_patrones()"
   ]
  },
  {
   "source": [
    "# ------------------------------------------------------------------------"
   ],
   "cell_type": "markdown",
   "metadata": {}
  },
  {
   "source": [
    "# DOGC"
   ],
   "cell_type": "markdown",
   "metadata": {}
  },
  {
   "cell_type": "code",
   "execution_count": 59,
   "metadata": {},
   "outputs": [],
   "source": [
    "URL_HTML_resumen = \"https://dogc.gencat.cat/es/inici/\""
   ]
  },
  {
   "cell_type": "code",
   "execution_count": 60,
   "metadata": {},
   "outputs": [
    {
     "output_type": "stream",
     "name": "stdout",
     "text": [
      "['DOGC núm. 8360']\n['Disposiciones', 'Cargos y personal', 'Anuncios de la Generalidad de Cataluña', 'Anuncios de la Administración local', 'Anuncios de la Administración de justicia ', 'Anuncios varios']\n['https://dogc.gencat.cat/es/sumari-del-dogc/?numDOGC=8360#section-Disposiciones', 'https://dogc.gencat.cat/es/sumari-del-dogc/?numDOGC=8360#section-Cargos_y_personal', 'https://dogc.gencat.cat/es/sumari-del-dogc/?numDOGC=8360#section-Anuncios_de_la_Generalidad_de_Cataluña', 'https://dogc.gencat.cat/es/sumari-del-dogc/?numDOGC=8360#section-Anuncios_de_la_Administración_local', 'https://dogc.gencat.cat/es/sumari-del-dogc/?numDOGC=8360#section-Anuncios_de_la_Administración_de_justicia_', 'https://dogc.gencat.cat/es/sumari-del-dogc/?numDOGC=8360#section-Anuncios_varios']\n"
     ]
    }
   ],
   "source": [
    "### Necesita libreria Selenium para renderizar JS script\n",
    "\n",
    "options = webdriver.ChromeOptions()\n",
    "options.headless = True\n",
    "driver = webdriver.Chrome(options=options)\n",
    "\n",
    "driver.get(URL_HTML_resumen)\n",
    "#print(driver.page_source)\n",
    "response = driver.page_source\n",
    "\n",
    "sumario_HTML = html.fromstring(response)\n",
    "#print(sumario_HTML.xpath('//h2[@class=\"titol-component\"]/a/@href'))\n",
    "numero_diario = sumario_HTML.xpath('//h2[@class=\"titol-component\"]/a/text()')\n",
    "secciones = sumario_HTML.xpath('//div[@class=\"llistat_cont\"]/ul/li/a/text()')\n",
    "secciones_link = sumario_HTML.xpath('//div[@class=\"llistat_cont\"]/ul/li/a/@href')\n",
    "secciones_linkHTML = [ ('https://dogc.gencat.cat' + item) for item in secciones_link ]\n",
    "# numero_pagina = sumario_HTML.xpath('//table[@class=\"tablaDetalle\"]/tbody/tr[3]/td[4]/text()')\n",
    "# NID = sumario_HTML.xpath('//table[@class=\"tablaDetalle\"]/tbody/tr[2]/td[2]/text()')\n",
    "# rango = sumario_HTML.xpath('//table[@class=\"tablaDetalle\"]/tbody/tr[5]/td[2]/text()')\n",
    "# organo_emisor = sumario_HTML.xpath('//table[@class=\"tablaDetalle\"]/tbody/tr[7]/td[2]/text()')\n",
    "# \n",
    "# print(numero_diario[0].strip(), numero_pagina[0].strip(), NID[0].strip(), rango[0].strip(), organo_emisor[0].strip())\n",
    "# print()\n",
    "print(numero_diario)\n",
    "print(secciones)\n",
    "print(secciones_linkHTML)\n",
    "\n",
    "driver.quit()"
   ]
  },
  {
   "cell_type": "code",
   "execution_count": 61,
   "metadata": {},
   "outputs": [],
   "source": [
    "#response"
   ]
  },
  {
   "source": [
    "## Recoge Nombre Secciones Sumario"
   ],
   "cell_type": "markdown",
   "metadata": {}
  },
  {
   "cell_type": "code",
   "execution_count": 62,
   "metadata": {},
   "outputs": [],
   "source": [
    "secciones = sumario_HTML.xpath('//div[@class=\"llistat_cont\"]/ul/li/a/text()')\n",
    "#print(secciones)\n",
    "df_secciones_sumarios = pd.DataFrame()\n",
    "for seccion in secciones:\n",
    "    df_secciones_sumarios = df_secciones_sumarios.append({'Seccion': seccion}, ignore_index=True)\n"
   ]
  },
  {
   "cell_type": "code",
   "execution_count": 63,
   "metadata": {},
   "outputs": [
    {
     "output_type": "execute_result",
     "data": {
      "text/plain": [
       "                                      Seccion\n",
       "0                               Disposiciones\n",
       "1                           Cargos y personal\n",
       "2      Anuncios de la Generalidad de Cataluña\n",
       "3         Anuncios de la Administración local\n",
       "4  Anuncios de la Administración de justicia \n",
       "5                             Anuncios varios"
      ],
      "text/html": "<div>\n<style scoped>\n    .dataframe tbody tr th:only-of-type {\n        vertical-align: middle;\n    }\n\n    .dataframe tbody tr th {\n        vertical-align: top;\n    }\n\n    .dataframe thead th {\n        text-align: right;\n    }\n</style>\n<table border=\"1\" class=\"dataframe\">\n  <thead>\n    <tr style=\"text-align: right;\">\n      <th></th>\n      <th>Seccion</th>\n    </tr>\n  </thead>\n  <tbody>\n    <tr>\n      <th>0</th>\n      <td>Disposiciones</td>\n    </tr>\n    <tr>\n      <th>1</th>\n      <td>Cargos y personal</td>\n    </tr>\n    <tr>\n      <th>2</th>\n      <td>Anuncios de la Generalidad de Cataluña</td>\n    </tr>\n    <tr>\n      <th>3</th>\n      <td>Anuncios de la Administración local</td>\n    </tr>\n    <tr>\n      <th>4</th>\n      <td>Anuncios de la Administración de justicia</td>\n    </tr>\n    <tr>\n      <th>5</th>\n      <td>Anuncios varios</td>\n    </tr>\n  </tbody>\n</table>\n</div>"
     },
     "metadata": {},
     "execution_count": 63
    }
   ],
   "source": [
    "df_secciones_sumarios"
   ]
  },
  {
   "source": [
    "## Recoge Valores para formar URLs Secciones Sumario"
   ],
   "cell_type": "markdown",
   "metadata": {}
  },
  {
   "cell_type": "code",
   "execution_count": 64,
   "metadata": {},
   "outputs": [
    {
     "output_type": "stream",
     "name": "stdout",
     "text": [
      "https://dogc.gencat.cat/es/sumari-del-dogc/?numDOGC=8360#section-Disposiciones\nhttps://dogc.gencat.cat/es/sumari-del-dogc/?numDOGC=8360#section-Cargos_y_personal\nhttps://dogc.gencat.cat/es/sumari-del-dogc/?numDOGC=8360#section-Anuncios_de_la_Generalidad_de_Cataluña\nhttps://dogc.gencat.cat/es/sumari-del-dogc/?numDOGC=8360#section-Anuncios_de_la_Administración_local\nhttps://dogc.gencat.cat/es/sumari-del-dogc/?numDOGC=8360#section-Anuncios_de_la_Administración_de_justicia_\nhttps://dogc.gencat.cat/es/sumari-del-dogc/?numDOGC=8360#section-Anuncios_varios\n"
     ]
    }
   ],
   "source": [
    "URL_base_sumario = sumario_HTML.xpath('//div[@class=\"llistat_cont\"]/ul/li/a/@href')\n",
    "URL_sumario = [ ('https://dogc.gencat.cat' + item) for item in secciones_link ]\n",
    "\n",
    "df_URL_sumarios = pd.DataFrame()\n",
    "\n",
    "for URL_seccion in URL_base_sumario:    \n",
    "    URL_sumario = 'https://dogc.gencat.cat' + str(URL_seccion)\n",
    "    print(URL_sumario)\n",
    "    df_URL_sumarios = df_URL_sumarios.append({'URL_Seccion': URL_sumario}, ignore_index=True)"
   ]
  },
  {
   "cell_type": "code",
   "execution_count": 65,
   "metadata": {},
   "outputs": [
    {
     "output_type": "execute_result",
     "data": {
      "text/plain": [
       "                                         URL_Seccion\n",
       "0  https://dogc.gencat.cat/es/sumari-del-dogc/?nu...\n",
       "1  https://dogc.gencat.cat/es/sumari-del-dogc/?nu...\n",
       "2  https://dogc.gencat.cat/es/sumari-del-dogc/?nu...\n",
       "3  https://dogc.gencat.cat/es/sumari-del-dogc/?nu...\n",
       "4  https://dogc.gencat.cat/es/sumari-del-dogc/?nu...\n",
       "5  https://dogc.gencat.cat/es/sumari-del-dogc/?nu..."
      ],
      "text/html": "<div>\n<style scoped>\n    .dataframe tbody tr th:only-of-type {\n        vertical-align: middle;\n    }\n\n    .dataframe tbody tr th {\n        vertical-align: top;\n    }\n\n    .dataframe thead th {\n        text-align: right;\n    }\n</style>\n<table border=\"1\" class=\"dataframe\">\n  <thead>\n    <tr style=\"text-align: right;\">\n      <th></th>\n      <th>URL_Seccion</th>\n    </tr>\n  </thead>\n  <tbody>\n    <tr>\n      <th>0</th>\n      <td>https://dogc.gencat.cat/es/sumari-del-dogc/?nu...</td>\n    </tr>\n    <tr>\n      <th>1</th>\n      <td>https://dogc.gencat.cat/es/sumari-del-dogc/?nu...</td>\n    </tr>\n    <tr>\n      <th>2</th>\n      <td>https://dogc.gencat.cat/es/sumari-del-dogc/?nu...</td>\n    </tr>\n    <tr>\n      <th>3</th>\n      <td>https://dogc.gencat.cat/es/sumari-del-dogc/?nu...</td>\n    </tr>\n    <tr>\n      <th>4</th>\n      <td>https://dogc.gencat.cat/es/sumari-del-dogc/?nu...</td>\n    </tr>\n    <tr>\n      <th>5</th>\n      <td>https://dogc.gencat.cat/es/sumari-del-dogc/?nu...</td>\n    </tr>\n  </tbody>\n</table>\n</div>"
     },
     "metadata": {},
     "execution_count": 65
    }
   ],
   "source": [
    "df_URL_sumarios"
   ]
  },
  {
   "cell_type": "code",
   "execution_count": 66,
   "metadata": {},
   "outputs": [],
   "source": [
    " df_sumarios = pd.concat([df_secciones_sumarios, df_URL_sumarios], axis=1)"
   ]
  },
  {
   "cell_type": "code",
   "execution_count": 67,
   "metadata": {},
   "outputs": [
    {
     "output_type": "execute_result",
     "data": {
      "text/plain": [
       "                                      Seccion  \\\n",
       "0                               Disposiciones   \n",
       "1                           Cargos y personal   \n",
       "2      Anuncios de la Generalidad de Cataluña   \n",
       "3         Anuncios de la Administración local   \n",
       "4  Anuncios de la Administración de justicia    \n",
       "5                             Anuncios varios   \n",
       "\n",
       "                                         URL_Seccion  \n",
       "0  https://dogc.gencat.cat/es/sumari-del-dogc/?nu...  \n",
       "1  https://dogc.gencat.cat/es/sumari-del-dogc/?nu...  \n",
       "2  https://dogc.gencat.cat/es/sumari-del-dogc/?nu...  \n",
       "3  https://dogc.gencat.cat/es/sumari-del-dogc/?nu...  \n",
       "4  https://dogc.gencat.cat/es/sumari-del-dogc/?nu...  \n",
       "5  https://dogc.gencat.cat/es/sumari-del-dogc/?nu...  "
      ],
      "text/html": "<div>\n<style scoped>\n    .dataframe tbody tr th:only-of-type {\n        vertical-align: middle;\n    }\n\n    .dataframe tbody tr th {\n        vertical-align: top;\n    }\n\n    .dataframe thead th {\n        text-align: right;\n    }\n</style>\n<table border=\"1\" class=\"dataframe\">\n  <thead>\n    <tr style=\"text-align: right;\">\n      <th></th>\n      <th>Seccion</th>\n      <th>URL_Seccion</th>\n    </tr>\n  </thead>\n  <tbody>\n    <tr>\n      <th>0</th>\n      <td>Disposiciones</td>\n      <td>https://dogc.gencat.cat/es/sumari-del-dogc/?nu...</td>\n    </tr>\n    <tr>\n      <th>1</th>\n      <td>Cargos y personal</td>\n      <td>https://dogc.gencat.cat/es/sumari-del-dogc/?nu...</td>\n    </tr>\n    <tr>\n      <th>2</th>\n      <td>Anuncios de la Generalidad de Cataluña</td>\n      <td>https://dogc.gencat.cat/es/sumari-del-dogc/?nu...</td>\n    </tr>\n    <tr>\n      <th>3</th>\n      <td>Anuncios de la Administración local</td>\n      <td>https://dogc.gencat.cat/es/sumari-del-dogc/?nu...</td>\n    </tr>\n    <tr>\n      <th>4</th>\n      <td>Anuncios de la Administración de justicia</td>\n      <td>https://dogc.gencat.cat/es/sumari-del-dogc/?nu...</td>\n    </tr>\n    <tr>\n      <th>5</th>\n      <td>Anuncios varios</td>\n      <td>https://dogc.gencat.cat/es/sumari-del-dogc/?nu...</td>\n    </tr>\n  </tbody>\n</table>\n</div>"
     },
     "metadata": {},
     "execution_count": 67
    }
   ],
   "source": [
    "df_sumarios"
   ]
  },
  {
   "cell_type": "code",
   "execution_count": 68,
   "metadata": {},
   "outputs": [
    {
     "output_type": "execute_result",
     "data": {
      "text/plain": [
       "'https://dogc.gencat.cat/es/sumari-del-dogc/?numDOGC=8360#section-Disposiciones'"
      ]
     },
     "metadata": {},
     "execution_count": 68
    }
   ],
   "source": [
    "df_sumarios['URL_Seccion'][0]"
   ]
  },
  {
   "source": [
    "## Recoge Items en Seccion Disposiciones"
   ],
   "cell_type": "markdown",
   "metadata": {}
  },
  {
   "cell_type": "code",
   "execution_count": 69,
   "metadata": {},
   "outputs": [],
   "source": [
    "URL_HTML_disposiciones = df_sumarios[df_sumarios['Seccion'] == 'Disposiciones']"
   ]
  },
  {
   "cell_type": "code",
   "execution_count": 70,
   "metadata": {},
   "outputs": [
    {
     "output_type": "stream",
     "name": "stdout",
     "text": [
      "Disposiciones\n"
     ]
    }
   ],
   "source": [
    "print(URL_HTML_disposiciones['Seccion'][0])"
   ]
  },
  {
   "cell_type": "code",
   "execution_count": 71,
   "metadata": {},
   "outputs": [
    {
     "output_type": "stream",
     "name": "stdout",
     "text": [
      "https://dogc.gencat.cat/es/sumari-del-dogc/?numDOGC=8360#section-Disposiciones\n"
     ]
    }
   ],
   "source": [
    "print(URL_HTML_disposiciones['URL_Seccion'][0])"
   ]
  },
  {
   "cell_type": "code",
   "execution_count": 72,
   "metadata": {},
   "outputs": [],
   "source": [
    "URL_HTML_disposiciones = URL_HTML_disposiciones['URL_Seccion'][0]"
   ]
  },
  {
   "cell_type": "code",
   "execution_count": 73,
   "metadata": {},
   "outputs": [
    {
     "output_type": "execute_result",
     "data": {
      "text/plain": [
       "'https://dogc.gencat.cat/es/sumari-del-dogc/?numDOGC=8360#section-Disposiciones'"
      ]
     },
     "metadata": {},
     "execution_count": 73
    }
   ],
   "source": [
    "URL_HTML_disposiciones"
   ]
  },
  {
   "cell_type": "code",
   "execution_count": 74,
   "metadata": {
    "tags": []
   },
   "outputs": [
    {
     "output_type": "stream",
     "name": "stdout",
     "text": [
      "['Departamento de la Presidencia', 'Departamento de Salud', 'Departamento de Territorio y Sostenibilidad', 'Departamento de Cultura', 'Departamento de Empresa y Conocimiento', 'Departamento de Agricultura, Ganadería, Pesca y Alimentación']\n['RESOLUCIÓN PRE/613/2021, de 4 de marzo, por la que se abre la convocatoria para la concesión de ayudas extraordinarias y de emergencia para hacer frente a las afectaciones económicas y sociales producidas en el sector de la actividad física y el deporte a causa de la suspensión y la limitación de la apertura al público de las instalaciones deportivas en Cataluña atendiendo la publicación de las resoluciones SLT/1/2021, de 4 de enero, SLT/67/2021, de 17 de enero, y SLT/133/2021, de 22 de enero, como consecuencia de la crisis sanitaria, económica y social de la COVID-19 (ref. BDNS 551891).', 'RESOLUCIÓN SLT/622/2021, de 5 de febrero, por la que se abre la convocatoria para el año 2021, para la concesión de subvenciones para la financiación a entidades privadas sin afán de lucro, para las actuaciones en el ámbito de la salud de prevención, la atención integral, la reducción de daños y la formación en el ámbito de las drogodependencias y las adicciones comportamentales (ref. BDNS 551614).', 'EDICTO de 2 de marzo de 2021, sobre un acuerdo de la Comisión Territorial de Urbanismo de Girona referente al municipio de Breda.', 'EDICTO de 2 de marzo de 2021, sobre un acuerdo de la Comisión Territorial de Urbanismo de Girona referente al municipio de Torroella de Montgrí.', 'RESOLUCIÓN CLT/616/2021, de 4 de marzo, por la que se da publicidad al Acuerdo del Consejo de Administración del Instituto Catalán de las Empresas Culturales por el que se aprueban las bases específicas que regirán la concesión de subvenciones a proyectos de internacionalización de empresas audiovisuales que contribuyan a la comercialización de la producción audiovisual.', 'RESOLUCIÓN CLT/617/2021, de 4 de marzo, por la que se da publicidad al Acuerdo del Consejo de Administración del Instituto Catalán de las Empresas Culturales por el que se aprueban las bases específicas que regirán la concesión de subvenciones a la producción de nuevos montajes teatrales de sala y de calle de carácter profesional.', 'RESOLUCIÓN CLT/618/2021, de 4 de marzo, por la que se da publicidad al Acuerdo del Consejo de Administración del Instituto Catalán de las Empresas Culturales por el que se aprueban las bases específicas que regirán la concesión de subvenciones para las actividades de las galerías de arte.', 'RESOLUCIÓN EMC/621/2021, de 24 de febrero, por la que se amplía la dotación presupuestaria de la convocatoria de doctorados industriales (DI) 2020 (ref. BDNS 496769).', 'RESOLUCIÓN EMC/604/2021, de 2 de marzo, por la que se abre la convocatoria para el año 2021 de la línea de ayudas de movilidad de personas investigadoras para desarrollar proyectos de investigación aplicada orientados a la transferencia tecnológica (Tecniospring INDUSTRY) (ref. BDNS 551789).', 'ORDEN ARP/54/2021, de 3 de marzo, por la que se aprueban las bases reguladoras de las ayudas para el desarrollo de proyectos de cooperación de los grupos de acción local de Cataluña en el marco del Programa de desarrollo rural de Cataluña 2014-2020 y en los años 2021 y 2022 (operación 19.03.01).', 'RESOLUCIÓN ARP/580/2021, de 25 de febrero, por la que se resuelve favorablemente la solicitud de modificación del pliego de condiciones de la Denominación de Origen Protegida Montsant.']\n['/es/document-del-dogc/?documentId=895198', '/es/document-del-dogc/?documentId=895119', '/es/document-del-dogc/?documentId=895199', '/es/document-del-dogc/?documentId=895159', '/es/document-del-dogc/?documentId=895140', '/es/document-del-dogc/?documentId=895102', '/es/document-del-dogc/?documentId=895078', '/es/document-del-dogc/?documentId=895182', '/es/document-del-dogc/?documentId=895177', '/es/document-del-dogc/?documentId=895196', '/es/document-del-dogc/?documentId=895117']\n['https://portaldogc.gencat.cat/utilsEADOP/AppJava/PdfProviderServlet?documentId=895198&type=01&language=es_ES', 'https://portaldogc.gencat.cat/utilsEADOP/AppJava/PdfProviderServlet?documentId=895119&type=01&language=es_ES', 'https://portaldogc.gencat.cat/utilsEADOP/AppJava/PdfProviderServlet?documentId=895199&type=01&language=es_ES', 'https://portaldogc.gencat.cat/utilsEADOP/AppJava/PdfProviderServlet?documentId=895159&type=01&language=es_ES', 'https://portaldogc.gencat.cat/utilsEADOP/AppJava/PdfProviderServlet?documentId=895140&type=01&language=es_ES', 'https://portaldogc.gencat.cat/utilsEADOP/AppJava/PdfProviderServlet?documentId=895102&type=01&language=es_ES', 'https://portaldogc.gencat.cat/utilsEADOP/AppJava/PdfProviderServlet?documentId=895078&type=01&language=es_ES', 'https://portaldogc.gencat.cat/utilsEADOP/AppJava/PdfProviderServlet?documentId=895182&type=01&language=es_ES', 'https://portaldogc.gencat.cat/utilsEADOP/AppJava/PdfProviderServlet?documentId=895177&type=01&language=es_ES', 'https://portaldogc.gencat.cat/utilsEADOP/AppJava/PdfProviderServlet?documentId=895196&type=01&language=es_ES', 'https://portaldogc.gencat.cat/utilsEADOP/AppJava/PdfProviderServlet?documentId=895117&type=01&language=es_ES']\n"
     ]
    }
   ],
   "source": [
    "options = webdriver.ChromeOptions()\n",
    "options.headless = True\n",
    "driver = webdriver.Chrome(options=options)\n",
    "\n",
    "driver.get(URL_HTML_disposiciones)\n",
    "#print(driver.page_source)\n",
    "response = driver.page_source\n",
    "### Recoge Items en Seccion Disposiciones\n",
    "disposiciones_HTML = html.fromstring(response)\n",
    "\n",
    "#print(html.tostring(disposiciones_HTML))\n",
    "#print('____________________')\n",
    "\n",
    "departamentos = disposiciones_HTML.xpath('/descendant::*[@class=\"wrapper-disposicions\"][1]/h3/text()') # Sólo Sección disposiciones\n",
    "disposiciones = disposiciones_HTML.xpath('/descendant::*[@class=\"wrapper-disposicions\"][1]/ul/descendant::li/div/a/text()')\n",
    "disposiciones_link = disposiciones_HTML.xpath('/descendant::*[@class=\"wrapper-disposicions\"][1]/ul/descendant::li/div/a/@href')\n",
    "disposiciones_pdf = disposiciones_HTML.xpath('/descendant::*[@class=\"wrapper-disposicions\"][1]/ul/descendant::li/div/div/a/@href')\n",
    "\n",
    "# for i in range(len(departamentos)):\n",
    "#     print(departamentos[i])\n",
    "#     i += 1\n",
    "#     #print(disposiciones_HTML.xpath('//*[@class=\"wrapper-disposicions\"]/ul[' + str(i) + ']//li/div/a/text()'))\n",
    "#     print(disposiciones_HTML.xpath('//*[@class=\"wrapper-disposicions\"]/ul[1]//li/div/a/text()'))\n",
    "\n",
    "print(departamentos)\n",
    "print(disposiciones)\n",
    "print(disposiciones_link)\n",
    "print(disposiciones_pdf)\n",
    "\n",
    "driver.quit()\n"
   ]
  },
  {
   "cell_type": "code",
   "execution_count": 75,
   "metadata": {},
   "outputs": [
    {
     "output_type": "execute_result",
     "data": {
      "text/plain": [
       "6"
      ]
     },
     "metadata": {},
     "execution_count": 75
    }
   ],
   "source": [
    "len(departamentos)"
   ]
  },
  {
   "cell_type": "code",
   "execution_count": 76,
   "metadata": {},
   "outputs": [],
   "source": [
    "DOGC_sumarios = pd.DataFrame(columns=['item_Title','item_urlHTML','item_urlPDF'])"
   ]
  },
  {
   "cell_type": "code",
   "execution_count": 77,
   "metadata": {},
   "outputs": [
    {
     "output_type": "execute_result",
     "data": {
      "text/plain": [
       "Empty DataFrame\n",
       "Columns: [item_Title, item_urlHTML, item_urlPDF]\n",
       "Index: []"
      ],
      "text/html": "<div>\n<style scoped>\n    .dataframe tbody tr th:only-of-type {\n        vertical-align: middle;\n    }\n\n    .dataframe tbody tr th {\n        vertical-align: top;\n    }\n\n    .dataframe thead th {\n        text-align: right;\n    }\n</style>\n<table border=\"1\" class=\"dataframe\">\n  <thead>\n    <tr style=\"text-align: right;\">\n      <th></th>\n      <th>item_Title</th>\n      <th>item_urlHTML</th>\n      <th>item_urlPDF</th>\n    </tr>\n  </thead>\n  <tbody>\n  </tbody>\n</table>\n</div>"
     },
     "metadata": {},
     "execution_count": 77
    }
   ],
   "source": [
    "DOGC_sumarios"
   ]
  },
  {
   "cell_type": "code",
   "execution_count": 78,
   "metadata": {},
   "outputs": [],
   "source": [
    "lista = []\n",
    "for disposicion in disposiciones:\n",
    "    lista.append(disposicion)\n",
    "\n",
    "DOGC_sumarios['item_Title'] = lista\n",
    "\n",
    "lista = []   \n",
    "for link_HTML in disposiciones_link:\n",
    "    #print(link)\n",
    "    lista.append('https://dogc.gencat.cat' + str(link_HTML))\n",
    "\n",
    "DOGC_sumarios['item_urlHTML'] = lista\n",
    "\n",
    "lista = []   \n",
    "for link_PDF in disposiciones_pdf:\n",
    "    #print(link)\n",
    "    lista.append(link_PDF)\n",
    "\n",
    "DOGC_sumarios['item_urlPDF'] = lista"
   ]
  },
  {
   "cell_type": "code",
   "execution_count": 79,
   "metadata": {},
   "outputs": [
    {
     "output_type": "execute_result",
     "data": {
      "text/plain": [
       "                                           item_Title  \\\n",
       "0   RESOLUCIÓN PRE/613/2021, de 4 de marzo, por la...   \n",
       "1   RESOLUCIÓN SLT/622/2021, de 5 de febrero, por ...   \n",
       "2   EDICTO de 2 de marzo de 2021, sobre un acuerdo...   \n",
       "3   EDICTO de 2 de marzo de 2021, sobre un acuerdo...   \n",
       "4   RESOLUCIÓN CLT/616/2021, de 4 de marzo, por la...   \n",
       "5   RESOLUCIÓN CLT/617/2021, de 4 de marzo, por la...   \n",
       "6   RESOLUCIÓN CLT/618/2021, de 4 de marzo, por la...   \n",
       "7   RESOLUCIÓN EMC/621/2021, de 24 de febrero, por...   \n",
       "8   RESOLUCIÓN EMC/604/2021, de 2 de marzo, por la...   \n",
       "9   ORDEN ARP/54/2021, de 3 de marzo, por la que s...   \n",
       "10  RESOLUCIÓN ARP/580/2021, de 25 de febrero, por...   \n",
       "\n",
       "                                         item_urlHTML  \\\n",
       "0   https://dogc.gencat.cat/es/document-del-dogc/?...   \n",
       "1   https://dogc.gencat.cat/es/document-del-dogc/?...   \n",
       "2   https://dogc.gencat.cat/es/document-del-dogc/?...   \n",
       "3   https://dogc.gencat.cat/es/document-del-dogc/?...   \n",
       "4   https://dogc.gencat.cat/es/document-del-dogc/?...   \n",
       "5   https://dogc.gencat.cat/es/document-del-dogc/?...   \n",
       "6   https://dogc.gencat.cat/es/document-del-dogc/?...   \n",
       "7   https://dogc.gencat.cat/es/document-del-dogc/?...   \n",
       "8   https://dogc.gencat.cat/es/document-del-dogc/?...   \n",
       "9   https://dogc.gencat.cat/es/document-del-dogc/?...   \n",
       "10  https://dogc.gencat.cat/es/document-del-dogc/?...   \n",
       "\n",
       "                                          item_urlPDF  \n",
       "0   https://portaldogc.gencat.cat/utilsEADOP/AppJa...  \n",
       "1   https://portaldogc.gencat.cat/utilsEADOP/AppJa...  \n",
       "2   https://portaldogc.gencat.cat/utilsEADOP/AppJa...  \n",
       "3   https://portaldogc.gencat.cat/utilsEADOP/AppJa...  \n",
       "4   https://portaldogc.gencat.cat/utilsEADOP/AppJa...  \n",
       "5   https://portaldogc.gencat.cat/utilsEADOP/AppJa...  \n",
       "6   https://portaldogc.gencat.cat/utilsEADOP/AppJa...  \n",
       "7   https://portaldogc.gencat.cat/utilsEADOP/AppJa...  \n",
       "8   https://portaldogc.gencat.cat/utilsEADOP/AppJa...  \n",
       "9   https://portaldogc.gencat.cat/utilsEADOP/AppJa...  \n",
       "10  https://portaldogc.gencat.cat/utilsEADOP/AppJa...  "
      ],
      "text/html": "<div>\n<style scoped>\n    .dataframe tbody tr th:only-of-type {\n        vertical-align: middle;\n    }\n\n    .dataframe tbody tr th {\n        vertical-align: top;\n    }\n\n    .dataframe thead th {\n        text-align: right;\n    }\n</style>\n<table border=\"1\" class=\"dataframe\">\n  <thead>\n    <tr style=\"text-align: right;\">\n      <th></th>\n      <th>item_Title</th>\n      <th>item_urlHTML</th>\n      <th>item_urlPDF</th>\n    </tr>\n  </thead>\n  <tbody>\n    <tr>\n      <th>0</th>\n      <td>RESOLUCIÓN PRE/613/2021, de 4 de marzo, por la...</td>\n      <td>https://dogc.gencat.cat/es/document-del-dogc/?...</td>\n      <td>https://portaldogc.gencat.cat/utilsEADOP/AppJa...</td>\n    </tr>\n    <tr>\n      <th>1</th>\n      <td>RESOLUCIÓN SLT/622/2021, de 5 de febrero, por ...</td>\n      <td>https://dogc.gencat.cat/es/document-del-dogc/?...</td>\n      <td>https://portaldogc.gencat.cat/utilsEADOP/AppJa...</td>\n    </tr>\n    <tr>\n      <th>2</th>\n      <td>EDICTO de 2 de marzo de 2021, sobre un acuerdo...</td>\n      <td>https://dogc.gencat.cat/es/document-del-dogc/?...</td>\n      <td>https://portaldogc.gencat.cat/utilsEADOP/AppJa...</td>\n    </tr>\n    <tr>\n      <th>3</th>\n      <td>EDICTO de 2 de marzo de 2021, sobre un acuerdo...</td>\n      <td>https://dogc.gencat.cat/es/document-del-dogc/?...</td>\n      <td>https://portaldogc.gencat.cat/utilsEADOP/AppJa...</td>\n    </tr>\n    <tr>\n      <th>4</th>\n      <td>RESOLUCIÓN CLT/616/2021, de 4 de marzo, por la...</td>\n      <td>https://dogc.gencat.cat/es/document-del-dogc/?...</td>\n      <td>https://portaldogc.gencat.cat/utilsEADOP/AppJa...</td>\n    </tr>\n    <tr>\n      <th>5</th>\n      <td>RESOLUCIÓN CLT/617/2021, de 4 de marzo, por la...</td>\n      <td>https://dogc.gencat.cat/es/document-del-dogc/?...</td>\n      <td>https://portaldogc.gencat.cat/utilsEADOP/AppJa...</td>\n    </tr>\n    <tr>\n      <th>6</th>\n      <td>RESOLUCIÓN CLT/618/2021, de 4 de marzo, por la...</td>\n      <td>https://dogc.gencat.cat/es/document-del-dogc/?...</td>\n      <td>https://portaldogc.gencat.cat/utilsEADOP/AppJa...</td>\n    </tr>\n    <tr>\n      <th>7</th>\n      <td>RESOLUCIÓN EMC/621/2021, de 24 de febrero, por...</td>\n      <td>https://dogc.gencat.cat/es/document-del-dogc/?...</td>\n      <td>https://portaldogc.gencat.cat/utilsEADOP/AppJa...</td>\n    </tr>\n    <tr>\n      <th>8</th>\n      <td>RESOLUCIÓN EMC/604/2021, de 2 de marzo, por la...</td>\n      <td>https://dogc.gencat.cat/es/document-del-dogc/?...</td>\n      <td>https://portaldogc.gencat.cat/utilsEADOP/AppJa...</td>\n    </tr>\n    <tr>\n      <th>9</th>\n      <td>ORDEN ARP/54/2021, de 3 de marzo, por la que s...</td>\n      <td>https://dogc.gencat.cat/es/document-del-dogc/?...</td>\n      <td>https://portaldogc.gencat.cat/utilsEADOP/AppJa...</td>\n    </tr>\n    <tr>\n      <th>10</th>\n      <td>RESOLUCIÓN ARP/580/2021, de 25 de febrero, por...</td>\n      <td>https://dogc.gencat.cat/es/document-del-dogc/?...</td>\n      <td>https://portaldogc.gencat.cat/utilsEADOP/AppJa...</td>\n    </tr>\n  </tbody>\n</table>\n</div>"
     },
     "metadata": {},
     "execution_count": 79
    }
   ],
   "source": [
    "DOGC_sumarios"
   ]
  },
  {
   "cell_type": "code",
   "execution_count": 80,
   "metadata": {},
   "outputs": [
    {
     "output_type": "execute_result",
     "data": {
      "text/plain": [
       "'https://dogc.gencat.cat/es/document-del-dogc/?documentId=895119'"
      ]
     },
     "metadata": {},
     "execution_count": 80
    }
   ],
   "source": [
    "DOGC_sumarios['item_urlHTML'][1]"
   ]
  },
  {
   "cell_type": "code",
   "execution_count": 81,
   "metadata": {},
   "outputs": [],
   "source": [
    "### Recoge información de página de detalle con Selenium\n",
    "### es necesario ya que la página se genera con un JS y\n",
    "### hay que renderizarla con un headless web browser\n",
    "\n",
    "options = webdriver.ChromeOptions()\n",
    "options.headless = True\n",
    "driver = webdriver.Chrome(options=options)\n",
    "\n",
    "DOGC_sumarios['item_fullText'] = ''\n",
    "DOGC_sumarios['item_urlXML'] = ''\n",
    "DOGC_sumarios['tipo_doc'] = ''\n",
    "DOGC_sumarios['fecha_doc'] = ''\n",
    "DOGC_sumarios['numero_doc'] = ''\n",
    "DOGC_sumarios['numero_control'] = ''\n",
    "DOGC_sumarios['entidad_emisora'] = ''\n",
    "DOGC_sumarios['CVE'] = ''\n",
    "DOGC_sumarios['numero_DOGC'] = ''\n",
    "DOGC_sumarios['fecha_DOGC'] = ''\n",
    "DOGC_sumarios['seccion_DOGC'] = ''\n",
    "\n",
    "for i, row in DOGC_sumarios.iterrows():\n",
    "    # carga página HTML y genera árbol\n",
    "    driver.get(row['item_urlHTML'])\n",
    "    #print(driver.page_source)\n",
    "\n",
    "    # clica sobre desplegable 'datos del documento' para generar contenido\n",
    "    driver.find_element_by_xpath('//div[@class=\"panel-title\"]/a[@href=\"#disposicions\"]').click()\n",
    "    time.sleep(3)\n",
    "\n",
    "    response = driver.page_source\n",
    "    sumario_HTML = html.fromstring(response)\n",
    "\n",
    "    # Genera columnas de la tabla con Datos de los documentos\n",
    "    item_urlXML = sumario_HTML.xpath('//*[@id=\"download\"]/a[4]/@href')\n",
    "\n",
    "    tipo_doc = sumario_HTML.xpath('//*[@id=\"disposicions_cos_bloc\"]/li[contains(text()[1],\"Tipo de documento\")]/text()[2]')\n",
    "    fecha_doc = sumario_HTML.xpath('//*[@id=\"disposicions_cos_bloc\"]/li[contains(text()[1],\"Fecha del documento\")]/text()[2]')\n",
    "    numero_doc = sumario_HTML.xpath('//*[@id=\"disposicions_cos_bloc\"]/li[contains(text()[1],\"Número de documento\")]/text()[2]')\n",
    "    numero_control = sumario_HTML.xpath('//*[@id=\"disposicions_cos_bloc\"]/li[contains(text()[1],\"Número de control\")]/text()[2]')\n",
    "    entidad_emisora = sumario_HTML.xpath('//*[@id=\"disposicions_cos_bloc\"]/li[contains(text()[1],\"Entidad emisora\")]/text()[2]')\n",
    "    CVE = sumario_HTML.xpath('//*[@id=\"disposicions_cos_bloc\"]/li[contains(text()[1],\"CVE\")]/text()[2]')\n",
    "    numero_DOGC = sumario_HTML.xpath('//*[@id=\"disposicions_cos_bloc\"]/li[contains(text()[1],\"Número del DOGC\")]/text()[2]')\n",
    "    fecha_DOGC = sumario_HTML.xpath('//*[@id=\"disposicions_cos_bloc\"]/li[contains(text()[1],\"Fecha del DOGC\")]/text()[2]')\n",
    "    seccion_DOGC = sumario_HTML.xpath('//*[@id=\"disposicions_cos_bloc\"]/li[contains(text()[1],\"Sección del DOGC\")]/text()[2]')\n",
    "\n",
    "    DOGC_sumarios['item_urlXML'][i] = item_urlXML\n",
    "\n",
    "    DOGC_sumarios['tipo_doc'][i] = tipo_doc\n",
    "    DOGC_sumarios['fecha_doc'][i] = fecha_doc\n",
    "    DOGC_sumarios['numero_doc'][i] = numero_doc\n",
    "    DOGC_sumarios['numero_control'][i] = numero_control\n",
    "    DOGC_sumarios['entidad_emisora'][i] = entidad_emisora\n",
    "    DOGC_sumarios['CVE'][i] = CVE\n",
    "    DOGC_sumarios['numero_DOGC'][i] = numero_DOGC\n",
    "    DOGC_sumarios['fecha_DOGC'][i] = fecha_DOGC\n",
    "    DOGC_sumarios['seccion_DOGC'][i] = seccion_DOGC\n",
    "\n",
    "    # Recoge en una lista todos los parágrafos del texto completo\n",
    "    fullText = []\n",
    "    for div in sumario_HTML.xpath('//*[@id=\"fullText\"]/div/div/div'):\n",
    "        fullText.append(div.text_content())\n",
    "\n",
    "    # Convierte la lista en una string\n",
    "    fullText = ' '.join(fullText)\n",
    "\n",
    "    DOGC_sumarios['item_fullText'][i] = fullText\n",
    "\n",
    "\n",
    "driver.quit()"
   ]
  },
  {
   "cell_type": "code",
   "execution_count": 82,
   "metadata": {},
   "outputs": [
    {
     "output_type": "execute_result",
     "data": {
      "text/plain": [
       "                                           item_Title  \\\n",
       "0   RESOLUCIÓN PRE/613/2021, de 4 de marzo, por la...   \n",
       "1   RESOLUCIÓN SLT/622/2021, de 5 de febrero, por ...   \n",
       "2   EDICTO de 2 de marzo de 2021, sobre un acuerdo...   \n",
       "3   EDICTO de 2 de marzo de 2021, sobre un acuerdo...   \n",
       "4   RESOLUCIÓN CLT/616/2021, de 4 de marzo, por la...   \n",
       "5   RESOLUCIÓN CLT/617/2021, de 4 de marzo, por la...   \n",
       "6   RESOLUCIÓN CLT/618/2021, de 4 de marzo, por la...   \n",
       "7   RESOLUCIÓN EMC/621/2021, de 24 de febrero, por...   \n",
       "8   RESOLUCIÓN EMC/604/2021, de 2 de marzo, por la...   \n",
       "9   ORDEN ARP/54/2021, de 3 de marzo, por la que s...   \n",
       "10  RESOLUCIÓN ARP/580/2021, de 25 de febrero, por...   \n",
       "\n",
       "                                         item_urlHTML  \\\n",
       "0   https://dogc.gencat.cat/es/document-del-dogc/?...   \n",
       "1   https://dogc.gencat.cat/es/document-del-dogc/?...   \n",
       "2   https://dogc.gencat.cat/es/document-del-dogc/?...   \n",
       "3   https://dogc.gencat.cat/es/document-del-dogc/?...   \n",
       "4   https://dogc.gencat.cat/es/document-del-dogc/?...   \n",
       "5   https://dogc.gencat.cat/es/document-del-dogc/?...   \n",
       "6   https://dogc.gencat.cat/es/document-del-dogc/?...   \n",
       "7   https://dogc.gencat.cat/es/document-del-dogc/?...   \n",
       "8   https://dogc.gencat.cat/es/document-del-dogc/?...   \n",
       "9   https://dogc.gencat.cat/es/document-del-dogc/?...   \n",
       "10  https://dogc.gencat.cat/es/document-del-dogc/?...   \n",
       "\n",
       "                                          item_urlPDF  \\\n",
       "0   https://portaldogc.gencat.cat/utilsEADOP/AppJa...   \n",
       "1   https://portaldogc.gencat.cat/utilsEADOP/AppJa...   \n",
       "2   https://portaldogc.gencat.cat/utilsEADOP/AppJa...   \n",
       "3   https://portaldogc.gencat.cat/utilsEADOP/AppJa...   \n",
       "4   https://portaldogc.gencat.cat/utilsEADOP/AppJa...   \n",
       "5   https://portaldogc.gencat.cat/utilsEADOP/AppJa...   \n",
       "6   https://portaldogc.gencat.cat/utilsEADOP/AppJa...   \n",
       "7   https://portaldogc.gencat.cat/utilsEADOP/AppJa...   \n",
       "8   https://portaldogc.gencat.cat/utilsEADOP/AppJa...   \n",
       "9   https://portaldogc.gencat.cat/utilsEADOP/AppJa...   \n",
       "10  https://portaldogc.gencat.cat/utilsEADOP/AppJa...   \n",
       "\n",
       "                                        item_fullText  \\\n",
       "0   Mediante la Resolución SLT/1/2021, de 4 de ene...   \n",
       "1   El Departamento de Salud, mediante la concesió...   \n",
       "2    \\nLa Comisión Territorial de Urbanismo de Gir...   \n",
       "3   La Comisión Territorial de Urbanismo de Girona...   \n",
       "4   Visto el Acuerdo del Consejo de Administración...   \n",
       "5   Visto el Acuerdo del Consejo de Administración...   \n",
       "6   Visto el Acuerdo del Consejo de Administración...   \n",
       "7   La Resolución EMC/283/2020, de 7 de febrero (D...   \n",
       "8   El Consejo de Administración de 30 de abril de...   \n",
       "9   El Reglamento (UE) 1305/2013 del Parlamento Eu...   \n",
       "10  En fecha 30 de noviembre de 2020, se dio publi...   \n",
       "\n",
       "                                          item_urlXML      tipo_doc  \\\n",
       "0   [https://portaldogc.gencat.cat/utilsEADOP/AppJ...  [Resolución]   \n",
       "1   [https://portaldogc.gencat.cat/utilsEADOP/AppJ...  [Resolución]   \n",
       "2   [https://portaldogc.gencat.cat/utilsEADOP/AppJ...     [Edicto ]   \n",
       "3   [https://portaldogc.gencat.cat/utilsEADOP/AppJ...     [Edicto ]   \n",
       "4   [https://portaldogc.gencat.cat/utilsEADOP/AppJ...  [Resolución]   \n",
       "5   [https://portaldogc.gencat.cat/utilsEADOP/AppJ...  [Resolución]   \n",
       "6   [https://portaldogc.gencat.cat/utilsEADOP/AppJ...  [Resolución]   \n",
       "7   [https://portaldogc.gencat.cat/utilsEADOP/AppJ...  [Resolución]   \n",
       "8   [https://portaldogc.gencat.cat/utilsEADOP/AppJ...  [Resolución]   \n",
       "9   [https://portaldogc.gencat.cat/utilsEADOP/AppJ...       [Orden]   \n",
       "10  [https://portaldogc.gencat.cat/utilsEADOP/AppJ...  [Resolución]   \n",
       "\n",
       "       fecha_doc       numero_doc numero_control  \\\n",
       "0   [04/03/2021]  [PRE/0613/2021]     [21064052]   \n",
       "1   [05/02/2021]  [SLT/0622/2021]     [21064039]   \n",
       "2   [02/03/2021]               []     [21061051]   \n",
       "3   [02/03/2021]               []     [21061037]   \n",
       "4   [04/03/2021]  [CLT/0616/2021]     [21064041]   \n",
       "5   [04/03/2021]  [CLT/0617/2021]     [21064042]   \n",
       "6   [04/03/2021]  [CLT/0618/2021]     [21064043]   \n",
       "7   [24/02/2021]  [EMC/0621/2021]     [21064046]   \n",
       "8   [02/03/2021]  [EMC/0604/2021]     [21063053]   \n",
       "9   [03/03/2021]  [ARP/0054/2021]     [21064047]   \n",
       "10  [25/02/2021]  [ARP/0580/2021]     [21061069]   \n",
       "\n",
       "                                      entidad_emisora  \\\n",
       "0                       [Consejo Catalán del Deporte]   \n",
       "1                             [Departamento de Salud]   \n",
       "2       [Departamento de Territorio y Sostenibilidad]   \n",
       "3       [Departamento de Territorio y Sostenibilidad]   \n",
       "4      [Instituto Catalán de las Empresas Culturales]   \n",
       "5      [Instituto Catalán de las Empresas Culturales]   \n",
       "6      [Instituto Catalán de las Empresas Culturales]   \n",
       "7   [Agencia para la Calidad del Sistema Universit...   \n",
       "8      [Agencia para la Competitividad de la Empresa]   \n",
       "9   [Departamento de Agricultura, Ganadería, Pesca...   \n",
       "10           [Instituto Catalán de la Viña y el Vino]   \n",
       "\n",
       "                           CVE numero_DOGC    fecha_DOGC     seccion_DOGC  \n",
       "0   [CVE-DOGC-B-21064052-2021]      [8360]  [09/03/2021]  [Disposiciones]  \n",
       "1   [CVE-DOGC-B-21064039-2021]      [8360]  [09/03/2021]  [Disposiciones]  \n",
       "2   [CVE-DOGC-B-21061051-2021]      [8360]  [09/03/2021]  [Disposiciones]  \n",
       "3   [CVE-DOGC-B-21061037-2021]      [8360]  [09/03/2021]  [Disposiciones]  \n",
       "4   [CVE-DOGC-B-21064041-2021]      [8360]  [09/03/2021]  [Disposiciones]  \n",
       "5   [CVE-DOGC-B-21064042-2021]      [8360]  [09/03/2021]  [Disposiciones]  \n",
       "6   [CVE-DOGC-B-21064043-2021]      [8360]  [09/03/2021]  [Disposiciones]  \n",
       "7   [CVE-DOGC-B-21064046-2021]      [8360]  [09/03/2021]  [Disposiciones]  \n",
       "8   [CVE-DOGC-B-21063053-2021]      [8360]  [09/03/2021]  [Disposiciones]  \n",
       "9   [CVE-DOGC-B-21064047-2021]      [8360]  [09/03/2021]  [Disposiciones]  \n",
       "10  [CVE-DOGC-B-21061069-2021]      [8360]  [09/03/2021]  [Disposiciones]  "
      ],
      "text/html": "<div>\n<style scoped>\n    .dataframe tbody tr th:only-of-type {\n        vertical-align: middle;\n    }\n\n    .dataframe tbody tr th {\n        vertical-align: top;\n    }\n\n    .dataframe thead th {\n        text-align: right;\n    }\n</style>\n<table border=\"1\" class=\"dataframe\">\n  <thead>\n    <tr style=\"text-align: right;\">\n      <th></th>\n      <th>item_Title</th>\n      <th>item_urlHTML</th>\n      <th>item_urlPDF</th>\n      <th>item_fullText</th>\n      <th>item_urlXML</th>\n      <th>tipo_doc</th>\n      <th>fecha_doc</th>\n      <th>numero_doc</th>\n      <th>numero_control</th>\n      <th>entidad_emisora</th>\n      <th>CVE</th>\n      <th>numero_DOGC</th>\n      <th>fecha_DOGC</th>\n      <th>seccion_DOGC</th>\n    </tr>\n  </thead>\n  <tbody>\n    <tr>\n      <th>0</th>\n      <td>RESOLUCIÓN PRE/613/2021, de 4 de marzo, por la...</td>\n      <td>https://dogc.gencat.cat/es/document-del-dogc/?...</td>\n      <td>https://portaldogc.gencat.cat/utilsEADOP/AppJa...</td>\n      <td>Mediante la Resolución SLT/1/2021, de 4 de ene...</td>\n      <td>[https://portaldogc.gencat.cat/utilsEADOP/AppJ...</td>\n      <td>[Resolución]</td>\n      <td>[04/03/2021]</td>\n      <td>[PRE/0613/2021]</td>\n      <td>[21064052]</td>\n      <td>[Consejo Catalán del Deporte]</td>\n      <td>[CVE-DOGC-B-21064052-2021]</td>\n      <td>[8360]</td>\n      <td>[09/03/2021]</td>\n      <td>[Disposiciones]</td>\n    </tr>\n    <tr>\n      <th>1</th>\n      <td>RESOLUCIÓN SLT/622/2021, de 5 de febrero, por ...</td>\n      <td>https://dogc.gencat.cat/es/document-del-dogc/?...</td>\n      <td>https://portaldogc.gencat.cat/utilsEADOP/AppJa...</td>\n      <td>El Departamento de Salud, mediante la concesió...</td>\n      <td>[https://portaldogc.gencat.cat/utilsEADOP/AppJ...</td>\n      <td>[Resolución]</td>\n      <td>[05/02/2021]</td>\n      <td>[SLT/0622/2021]</td>\n      <td>[21064039]</td>\n      <td>[Departamento de Salud]</td>\n      <td>[CVE-DOGC-B-21064039-2021]</td>\n      <td>[8360]</td>\n      <td>[09/03/2021]</td>\n      <td>[Disposiciones]</td>\n    </tr>\n    <tr>\n      <th>2</th>\n      <td>EDICTO de 2 de marzo de 2021, sobre un acuerdo...</td>\n      <td>https://dogc.gencat.cat/es/document-del-dogc/?...</td>\n      <td>https://portaldogc.gencat.cat/utilsEADOP/AppJa...</td>\n      <td>\\nLa Comisión Territorial de Urbanismo de Gir...</td>\n      <td>[https://portaldogc.gencat.cat/utilsEADOP/AppJ...</td>\n      <td>[Edicto ]</td>\n      <td>[02/03/2021]</td>\n      <td>[]</td>\n      <td>[21061051]</td>\n      <td>[Departamento de Territorio y Sostenibilidad]</td>\n      <td>[CVE-DOGC-B-21061051-2021]</td>\n      <td>[8360]</td>\n      <td>[09/03/2021]</td>\n      <td>[Disposiciones]</td>\n    </tr>\n    <tr>\n      <th>3</th>\n      <td>EDICTO de 2 de marzo de 2021, sobre un acuerdo...</td>\n      <td>https://dogc.gencat.cat/es/document-del-dogc/?...</td>\n      <td>https://portaldogc.gencat.cat/utilsEADOP/AppJa...</td>\n      <td>La Comisión Territorial de Urbanismo de Girona...</td>\n      <td>[https://portaldogc.gencat.cat/utilsEADOP/AppJ...</td>\n      <td>[Edicto ]</td>\n      <td>[02/03/2021]</td>\n      <td>[]</td>\n      <td>[21061037]</td>\n      <td>[Departamento de Territorio y Sostenibilidad]</td>\n      <td>[CVE-DOGC-B-21061037-2021]</td>\n      <td>[8360]</td>\n      <td>[09/03/2021]</td>\n      <td>[Disposiciones]</td>\n    </tr>\n    <tr>\n      <th>4</th>\n      <td>RESOLUCIÓN CLT/616/2021, de 4 de marzo, por la...</td>\n      <td>https://dogc.gencat.cat/es/document-del-dogc/?...</td>\n      <td>https://portaldogc.gencat.cat/utilsEADOP/AppJa...</td>\n      <td>Visto el Acuerdo del Consejo de Administración...</td>\n      <td>[https://portaldogc.gencat.cat/utilsEADOP/AppJ...</td>\n      <td>[Resolución]</td>\n      <td>[04/03/2021]</td>\n      <td>[CLT/0616/2021]</td>\n      <td>[21064041]</td>\n      <td>[Instituto Catalán de las Empresas Culturales]</td>\n      <td>[CVE-DOGC-B-21064041-2021]</td>\n      <td>[8360]</td>\n      <td>[09/03/2021]</td>\n      <td>[Disposiciones]</td>\n    </tr>\n    <tr>\n      <th>5</th>\n      <td>RESOLUCIÓN CLT/617/2021, de 4 de marzo, por la...</td>\n      <td>https://dogc.gencat.cat/es/document-del-dogc/?...</td>\n      <td>https://portaldogc.gencat.cat/utilsEADOP/AppJa...</td>\n      <td>Visto el Acuerdo del Consejo de Administración...</td>\n      <td>[https://portaldogc.gencat.cat/utilsEADOP/AppJ...</td>\n      <td>[Resolución]</td>\n      <td>[04/03/2021]</td>\n      <td>[CLT/0617/2021]</td>\n      <td>[21064042]</td>\n      <td>[Instituto Catalán de las Empresas Culturales]</td>\n      <td>[CVE-DOGC-B-21064042-2021]</td>\n      <td>[8360]</td>\n      <td>[09/03/2021]</td>\n      <td>[Disposiciones]</td>\n    </tr>\n    <tr>\n      <th>6</th>\n      <td>RESOLUCIÓN CLT/618/2021, de 4 de marzo, por la...</td>\n      <td>https://dogc.gencat.cat/es/document-del-dogc/?...</td>\n      <td>https://portaldogc.gencat.cat/utilsEADOP/AppJa...</td>\n      <td>Visto el Acuerdo del Consejo de Administración...</td>\n      <td>[https://portaldogc.gencat.cat/utilsEADOP/AppJ...</td>\n      <td>[Resolución]</td>\n      <td>[04/03/2021]</td>\n      <td>[CLT/0618/2021]</td>\n      <td>[21064043]</td>\n      <td>[Instituto Catalán de las Empresas Culturales]</td>\n      <td>[CVE-DOGC-B-21064043-2021]</td>\n      <td>[8360]</td>\n      <td>[09/03/2021]</td>\n      <td>[Disposiciones]</td>\n    </tr>\n    <tr>\n      <th>7</th>\n      <td>RESOLUCIÓN EMC/621/2021, de 24 de febrero, por...</td>\n      <td>https://dogc.gencat.cat/es/document-del-dogc/?...</td>\n      <td>https://portaldogc.gencat.cat/utilsEADOP/AppJa...</td>\n      <td>La Resolución EMC/283/2020, de 7 de febrero (D...</td>\n      <td>[https://portaldogc.gencat.cat/utilsEADOP/AppJ...</td>\n      <td>[Resolución]</td>\n      <td>[24/02/2021]</td>\n      <td>[EMC/0621/2021]</td>\n      <td>[21064046]</td>\n      <td>[Agencia para la Calidad del Sistema Universit...</td>\n      <td>[CVE-DOGC-B-21064046-2021]</td>\n      <td>[8360]</td>\n      <td>[09/03/2021]</td>\n      <td>[Disposiciones]</td>\n    </tr>\n    <tr>\n      <th>8</th>\n      <td>RESOLUCIÓN EMC/604/2021, de 2 de marzo, por la...</td>\n      <td>https://dogc.gencat.cat/es/document-del-dogc/?...</td>\n      <td>https://portaldogc.gencat.cat/utilsEADOP/AppJa...</td>\n      <td>El Consejo de Administración de 30 de abril de...</td>\n      <td>[https://portaldogc.gencat.cat/utilsEADOP/AppJ...</td>\n      <td>[Resolución]</td>\n      <td>[02/03/2021]</td>\n      <td>[EMC/0604/2021]</td>\n      <td>[21063053]</td>\n      <td>[Agencia para la Competitividad de la Empresa]</td>\n      <td>[CVE-DOGC-B-21063053-2021]</td>\n      <td>[8360]</td>\n      <td>[09/03/2021]</td>\n      <td>[Disposiciones]</td>\n    </tr>\n    <tr>\n      <th>9</th>\n      <td>ORDEN ARP/54/2021, de 3 de marzo, por la que s...</td>\n      <td>https://dogc.gencat.cat/es/document-del-dogc/?...</td>\n      <td>https://portaldogc.gencat.cat/utilsEADOP/AppJa...</td>\n      <td>El Reglamento (UE) 1305/2013 del Parlamento Eu...</td>\n      <td>[https://portaldogc.gencat.cat/utilsEADOP/AppJ...</td>\n      <td>[Orden]</td>\n      <td>[03/03/2021]</td>\n      <td>[ARP/0054/2021]</td>\n      <td>[21064047]</td>\n      <td>[Departamento de Agricultura, Ganadería, Pesca...</td>\n      <td>[CVE-DOGC-B-21064047-2021]</td>\n      <td>[8360]</td>\n      <td>[09/03/2021]</td>\n      <td>[Disposiciones]</td>\n    </tr>\n    <tr>\n      <th>10</th>\n      <td>RESOLUCIÓN ARP/580/2021, de 25 de febrero, por...</td>\n      <td>https://dogc.gencat.cat/es/document-del-dogc/?...</td>\n      <td>https://portaldogc.gencat.cat/utilsEADOP/AppJa...</td>\n      <td>En fecha 30 de noviembre de 2020, se dio publi...</td>\n      <td>[https://portaldogc.gencat.cat/utilsEADOP/AppJ...</td>\n      <td>[Resolución]</td>\n      <td>[25/02/2021]</td>\n      <td>[ARP/0580/2021]</td>\n      <td>[21061069]</td>\n      <td>[Instituto Catalán de la Viña y el Vino]</td>\n      <td>[CVE-DOGC-B-21061069-2021]</td>\n      <td>[8360]</td>\n      <td>[09/03/2021]</td>\n      <td>[Disposiciones]</td>\n    </tr>\n  </tbody>\n</table>\n</div>"
     },
     "metadata": {},
     "execution_count": 82
    }
   ],
   "source": [
    "DOGC_sumarios"
   ]
  },
  {
   "cell_type": "code",
   "execution_count": 83,
   "metadata": {},
   "outputs": [
    {
     "output_type": "execute_result",
     "data": {
      "text/plain": [
       "'Mediante la Resolución SLT/1/2021, de 4 de enero, se prorrogan y se modifican las medidas en materia de salud pública para la contención del brote epidémico de la pandemia de COVID-19 en el territorio de Cataluña, y se adoptan una serie de nuevas medidas de salud pública para la contención del brote epidémico de la pandemia de la COVID-19 en el territorio de Cataluña, entre las 0.00 h del día 7 hasta las 0.00 h del día 18 de enero. La Resolución SLT/67/2021, de 17 de enero, y la Resolución SLT/133/2021, de 22 de enero, prorrogan de nuevo las medidas de suspensión y limitación antes señaladas, durante 3 semanas más.\\n Estas nuevas medidas han implicado la suspensión y la limitación de la apertura al público de las instalaciones y de los equipamientos deportivos, a excepción de los centros de tecnificación y rendimiento deportivos, tanto de titularidad pública como privada, así como de las instalaciones y equipamientos deportivos que tengan que acoger entrenamientos y competición profesional, estatal e internacional. En este sentido, la suspensión y la limitación de la actividad de las instalaciones y de los equipamientos deportivos comporta una afectación económica y social de carácter esencial en el sector del deporte y de la actividad física en Cataluña, que justifica, de nuevo, la adopción de medidas extraordinarias y de emergencia dirigidas a intentar paliar las consecuencias derivadas de esta suspensión y limitación de la apertura al público.\\nEl Consejo Catalán del Deporte es un organismo autónomo de carácter administrativo, adscrito al departamento competente en materia de deportes y de actividad física, que tiene atribuidas, entre otras, las funciones consistentes en planificar y gestionar la política deportiva de la Generalidad y conceder subvenciones a las entidades deportivas catalanas, de acuerdo con los apartados c) y d) del artículo 35.4 del texto único de la Ley del deporte, aprobado por el Decreto Legislativo 1/2000, de 31 de julio.\\n Por todo eso, mediante el Decreto Ley 43/2020, de 17 de noviembre, se ha habilitado al Consejo Catalán del Deporte para la convocatoria, la tramitación y la resolución de una línea de ayudas extraordinarias y de emergencia para hacer frente a la suspensión de la apertura al público de las instalaciones deportivas en Cataluña como consecuencia de la crisis sanitaria, económica y social de la Covid-19.\\nPor medio de la Resolución PRE/392/2021, de 12 de febrero, se han aprobado las bases reguladoras para la concesión de ayudas extraordinarias y de emergencia para hacer frente las afectaciones económicas y sociales que se puedan producir en el sector de la actividad física y el deporte, como consecuencia de la crisis sanitaria, económica y social de la COVID-19 durante el año 2021 (DOGC núm. 8344, de 18 de febrero de 2021).\\nDe acuerdo con la Ley 4/2020, del 29 de abril, de presupuestos de la Generalidad de Cataluña para el 2020, y el Decreto 146/2020, de 15 de diciembre, por el que se establecen los criterios de aplicación de la prórroga de los presupuestos de la Generalidad de Cataluña para el 2020, mientras no entren en vigor los de en el 2021, esta convocatoria tiene una dotación inicial de 15.000.000 de euros.\\n En uso de las atribuciones que me confiere el artículo 93.b) del texto refundido de la Ley de finanzas públicas de Cataluña, aprobado por el Decreto Legislativo 3/2002, de 24 de diciembre,\\n\\xa0\\nResuelvo:\\n\\xa0\\n—1 Convocatoria\\nAbrir la convocatoria para la concesión de ayudas extraordinarias y de emergencia para hacer frente a las afectaciones económicas y sociales producidas en el sector de la actividad física y el deporte a causa de la suspensión y la limitación de la apertura al público de las instalaciones deportivas en Cataluña atendiendo la publicación de las resoluciones SLT/1/2021, de 4 de enero, SLT/67/2021, de 17 de enero, y SLT/133/2021, de 22 de enero, como consecuencia de la crisis sanitaria, económica y social de la COVID-19, con la finalidad de favorecer la sostenibilidad económica del sector, contribuir al mantenimiento y a la continuidad de su actividad, y paliar las afectaciones económicas y sociales que se puedan producir en este ámbito.\\n\\xa0\\n—2 Bases reguladoras\\n2.1 Esta convocatoria se rige por la Resolución PRE/392/2021, de 12 de febrero, por la que se aprueban las bases reguladoras para la concesión de ayudas extraordinarias y de emergencia para hacer frente a las afectaciones económicas y sociales que se puedan producir en el sector de la actividad física y el deporte, como consecuencia de la crisis sanitaria, económica y social de la COVID-19 durante el año 2021 (DOGC núm. 8344, de 18 de febrero de 2021).\\n 2.2 La cuantía de las ayudas corresponde a lo establecido en la base 4.2 de las bases, a excepción del apartado “Otros espacios al aire libre” del Tipo de espacio que componen la instalación, en que se imputará el 50% del importe en cada tramo, atendiendo que la limitación, en esta tipología de espacio, ha sido del 50% de apertura al público usuario.\\n\\xa0\\n—3 Dotación presupuestaria\\n3.1 El importe de la dotación presupuestaria inicial de esta convocatoria es de 15.000.000 de euros con cargo al presupuesto del Consejo Catalán del Deporte para el ejercicio 2021.\\nLa dotación presupuestaria se distribuye de la manera siguiente:\\na) 7.250.000 de euros con cargo en la partida presupuestaria D/470000190/4711/0052 (empresas privadas).\\nb) 7.250.000 de euros con cargo en la partida presupuestaria D/482000190/4711/0052 (entidades deportivas sin ánimo de lucro).\\nc) 150.000 de euros con cargo en la partida presupuestaria D/481000190/4711/0052 (fundaciones).\\nd) 350.000 de euros con cargo en la partida presupuestaria D/449000190/4711/0052 (universidades).\\n 3.2 Esta distribución entre partidas presupuestarias tiene carácter estimatorio y puede ser objeto de modificación de acuerdo con las vinculaciones establecidas en la Ley de presupuestos con el objeto de atender las solicitudes debidamente priorizadas de acuerdo con los criterios previstos en la base reguladora 6 del anexo de la Resolución PRE/392/2021, de 12 de febrero, sin tener en cuenta la tipología de la persona solicitando.\\n3.3 Esta dotación puede ser ampliada, según las disponibilidades presupuestarias, hasta un máximo de 16.000.000 €.\\n\\xa0\\n—4 Procedimiento de concesión\\nDe conformidad con la base reguladora 7 del anexo de la Resolución PRE/392/2021, de 12 de febrero, el procedimiento de concesión es de concurrencia competitiva. De acuerdo con el artículo 22.1 de la Ley 38/2003, de 17 de noviembre, la concesión de las ayudas se realiza mediante la comparación de las solicitudes presentadas con el fin de establecer una prelación entre ellas, de conformidad con los criterios establecidos en las bases reguladoras.\\n \\xa0\\n—5 Presentación de solicitudes\\n5.1 El plazo de presentación de solicitudes es de cinco (5) días hábiles a contar del día siguiente de la publicación de esta convocatoria en el Diari Oficial de la Generalitat de Catalunya.\\n5.2 Las solicitudes se tienen que presentar telemáticamente por medio del modelo normalizado que está a disposición de las personas interesadas en la dirección Trámites gencat (tramits.gencat.cat).\\nLa identificación y la firma electrónica de la persona solicitando se hará mediante los sistemas de identificación y de firma electrónica admitidos por la Sede electrónica, y que se pueden consultar en: https://web.gencat.cat/es/seu-electronica/certificats-i-signatures-electroniques/index.html, de conformidad con la Orden GRI/233/2015, de 20 de julio, por la que se aprueba el Protocolo de identificación y firma electrónica, y la Orden PRE/5/2017, de 12 de enero, por la que se aprueba la tramitación electrónica obligatoria de los procedimientos de concesión de ayudas y subvenciones de concurrencia pública del Consejo Catalán del Deporte.\\n \\xa0\\n—6 Órganos competentes y termine por resolver\\n6.1 El órgano competente para instruir el procedimiento es la Sub-dirección General de Actividades Deportivas e Infraestructuras del Consejo Catalán del el Deporte.\\n6.2 El órgano competente para resolver es la persona titular de la Presidencia del Consejo Catalán del Deporte.\\n6.3 El plazo máximo para resolver y notificar la resolución es de tres meses a contar desde el día siguiente de la fecha de publicación de la convocatoria en el Diari Oficial de la Generalitat de Catalunya.\\nTranscurrido el plazo señalado sin que se haya notificado la resolución del procedimiento, la solicitud se tiene que entender desestimada por silencio administrativo, de acuerdo con lo que establece el artículo 54.2.e) de la Ley 26/2010, del 3 de agosto.\\n\\xa0\\n—7 Notificación y régimen de recursos\\n7.1 Los actos que tenga que notificar el órgano instructor o el concedente se notificarán a las personas interesadas mediante su publicación en el Tablero electrónico de la Administración de la Generalidad de Cataluña (https://tauler.seu.cat), sin perjuicio que se puedan utilizar adicionalmente otros medios electrónicos.\\n Esta publicación sustituye la notificación individual y tiene los mismos efectos.\\n7.2 Contra la resolución del procedimiento, que no agota la vía administrativa, las personas interesadas pueden presentar recurso de alzada delante el mismo órgano que la ha dictado o, directamente, ante la persona titular del departamento competente en materia de deportes y de actividad física, en el plazo de un mes a contar del día siguiente de la notificación, de acuerdo con los artículos 121 y 122 de la Ley 39/2015, de 1 de octubre, y el artículo 76 de la Ley 26/2010, de 3 de agosto.\\n\\xa0\\n—8 Efectos\\nEsta Resolución produce efectos a partir del día siguiente de la fecha de publicación en el Diari Oficial de la Generalitat de Catalunya.\\n\\xa0\\nContra esta Resolución, que no pone fin a la vía administrativa, las personas interesadas pueden interponer recurso de alzada delante el mismo órgano que la ha dictado o, directamente, ante la persona titular del departamento competente en materia de deportes y de actividad física, en el plazo de un mes desde el día siguiente de la fecha de publicación en el Diari Oficial de la Generalitat de Catalunya, de acuerdo con el artículo 76 de la Ley 26/2010, del 3 de agosto, de régimen jurídico y procedimiento de las administraciones públicas de Cataluña, y los artículos 121 y 122 de la Ley 39/2015, de 1 de octubre, del procedimiento administrativo común de las administraciones públicas.\\n \\xa0\\nEsplugues de Llobregat, 4 de marzo de 2021\\n\\xa0\\nGerard Martí Figueras i Albà\\nPresidente del Consejo Catalán del Deporte\\n'"
      ]
     },
     "metadata": {},
     "execution_count": 83
    }
   ],
   "source": [
    "DOGC_sumarios['item_fullText'][0]"
   ]
  },
  {
   "cell_type": "code",
   "execution_count": 84,
   "metadata": {},
   "outputs": [],
   "source": [
    "# Crea nueva columna vacía de tipo lista en tabla_analisis\n",
    "#DOCM_sumarios['Referencias_completas'] = [[] for i in range(len(tabla_analisis))]\n",
    "DOGC_sumarios['Tags'] = [[] for i in range(len(DOGC_sumarios))]\n",
    "DOGC_sumarios['Match_ASECORP_BBDD'] = [[] for i in range(len(DOGC_sumarios))]"
   ]
  },
  {
   "cell_type": "code",
   "execution_count": 85,
   "metadata": {},
   "outputs": [],
   "source": [
    "pattern = ['Ley [0-9]+\\/[0-9]+','Real Decreto [0-9]+\\/[0-9]+','Real Decreto Legislativo [0-9]+\\/[0-9]+','Real Decreto-ley [0-9]+\\/[0-9]+','Orden [A-Z]+\\/[0-9]+\\/[0-9]+','Orden Circular [0-9]+\\/[0-9]+','Reglamento \\(UE\\) [0-9]+\\/[0-9]+', 'Reglamento de Ejeución \\(UE\\) [0-9]+\\/[0-9]+' ,'Sentencia de [0-9]+ de [a-z]+ de [0-9]+','Sentencia [0-9]+\\/[0-9]+','Orden de [0-9]+ de [a-z]+ de [0-9]+', 'Resolución de [0-9]+ de [a-z]+ de [0-9]+','Resolución [a-z]+\\/[0-9]+\\/[0-9]+', 'Nota de Servicio [0-9]+\\/[0-9]+', 'Acuerdo multilateral M\\-[0-9]+', 'Circular [0-9]+\\/[0-9]+', 'Decisión \\(UE\\) [0-9]+\\/[0-9]+', 'Decisión de Ejecución \\(UE\\) [0-9]+\\/[0-9]+']"
   ]
  },
  {
   "cell_type": "code",
   "execution_count": 86,
   "metadata": {},
   "outputs": [
    {
     "output_type": "stream",
     "name": "stdout",
     "text": [
      "['Resolución SLT/1/2021', 'Resolución SLT/67/2021', 'Resolución SLT/133/2021', 'Ley 43/2020', 'Resolución PRE/392/2021', 'Ley 4/2020', 'Resolución PRE/392/2021', 'Resolución PRE/392/2021', 'Resolución PRE/392/2021', 'Ley 38/2003', 'Orden GRI/233/2015', 'Orden PRE/5/2017', 'Ley 26/2010', 'Ley 39/2015', 'Ley 26/2010', 'Ley 26/2010', 'Ley 39/2015']\n['Orden SLT/257/2017', 'Ley 19/2014', 'Ley 38/2003', 'Real decreto 887/2006', 'Ley 4/2020', 'Orden SLT/257/2017', 'Orden SLT/257/2017', 'Orden SLT/198/2018', 'Orden SLT/257/2017', 'Orden SLT/257/2017', 'Ley 38/2003', 'Ley 26/2010', 'Orden SLT/257/2017', 'Orden SLT/257/2017', 'Ley 39/2015']\n['Ley 3/2012', 'Ley 39/2015', 'Ley 29/1998', 'Ley 3/2012', 'Ley 2/2007', 'Ley 3/2012']\n['Ley 39/2015', 'Ley 29/1998', 'Ley 3/2012', 'Ley 2/2007', 'Ley 3/2012']\n['Resolución CLT/3142/2020', 'Resolución CLT/187/2021', 'Ley 20/2010', 'Ley 38/2003', 'Ley 20/2010', 'Resolución CLT/1173/2020', 'Ley 17/2015']\n['Resolución CLT/3142/2020', 'Resolución CLT/187/2021', 'Ley 38/2003', 'Resolución CLT/807/2019', 'Ley 18/1982', 'Resolución CLT/298/2020']\n['Resolución CLT/3142/2020', 'Resolución CLT/187/2021', 'Ley 38/2003', 'Resolución CLT/1356/2017', 'Real decreto 463/2020', 'Ley 17/2015']\n['Resolución EMC/283/2020', 'Resolución EMC/460/2020', 'Resolución EMC/460/2020', 'Resolución EMC/460/2020', 'Ley 38/2003', 'Real Decreto 887/2006', 'Ley 39/2015', 'Ley 29/1998', 'Resolución UNI/73/2003']\n['Resolución EMC/1446/2020', 'Ley 38/2003', 'Real decreto 887/2006', 'Ley 29/1998', 'Ley 26/2010', 'Resolución EMC/1446/2020', 'Resolución EMC/3294/2020', 'Ley 26/2010', 'Ley 39/2015', 'Ley 26/2010', 'Ley 29/1998']\n['Reglamento (UE) 1305/2013', 'Reglamento (UE) 1305/2013', 'Reglamento (UE) 1305/2013', 'Reglamento (UE) 2020/2220', 'Reglamento (UE) 1305/2013', 'Reglamento (UE) 1303/2013', 'Reglamento (UE) 1306/2013', 'Reglamento (UE) 2020/2220', 'Orden AAM/387/2014', 'Reglamento (UE) 2020/2220', 'Reglamento (UE) 1305/2013', 'Orden ARP/69/2019', 'Reglamento (UE) 2020/2220', 'Orden AAM/387/2014', 'Orden AAM/387/2014', 'Ley 5/2011', 'Ley 4/2008', 'Orden AAM/387/2014', 'Reglamento (UE) 1305/2013', 'Reglamento (UE) 1305/2013', 'Ley 38/2003', 'Ley 5/2011', 'Ley 4/2008', 'Reglamento (UE) 808/2014', 'Ley 7/2012', 'Ley 38/2003', 'Reglamento (UE) 1306/2013', 'Ley 38/2003', 'Ley 38/2003', 'Reglamento (UE) 1306/2013', 'Ley 38/2003', 'Reglamento (UE) 1306/2013', 'Ley 39/2015', 'Ley 38/2003', 'Reglamento (UE) 809/2014', 'Ley 38/2003', 'Ley 39/2015', 'Reglamento (UE) 1306/2013', 'Reglamento (UE) 2016/679', 'Real decreto 1720/2007', 'Reglamento (UE) 1306/2013', 'Real decreto legislativo 9/2017', 'Orden GRI/233/2015', 'Ley 59/2003']\n['Real decreto 1335/2011']\n"
     ]
    }
   ],
   "source": [
    "for i, row in DOGC_sumarios.iterrows():\n",
    "    # Busca expresiones REGX coincidentes con Patrones definidos\n",
    "    DOGC_sumarios['Tags'][i] = re.findall('|'.join(pattern), str(row['item_fullText']), flags=re.IGNORECASE)\n",
    "    print(DOGC_sumarios['Tags'][i])"
   ]
  },
  {
   "cell_type": "code",
   "execution_count": 87,
   "metadata": {},
   "outputs": [
    {
     "output_type": "stream",
     "name": "stdout",
     "text": [
      "['Ley 39/2015', 'Resolución SLT/67/2021', 'Orden GRI/233/2015', 'Ley 38/2003', 'Ley 43/2020', 'Orden PRE/5/2017', 'Resolución SLT/1/2021', 'Resolución SLT/133/2021', 'Resolución PRE/392/2021', 'Ley 4/2020', 'Ley 26/2010']\n['Ley 39/2015', 'Real decreto 887/2006', 'Orden SLT/198/2018', 'Ley 38/2003', 'Ley 19/2014', 'Orden SLT/257/2017', 'Ley 4/2020', 'Ley 26/2010']\n['Ley 39/2015', 'Ley 2/2007', 'Ley 3/2012', 'Ley 29/1998']\n['Ley 39/2015', 'Ley 29/1998', 'Ley 2/2007', 'Ley 3/2012']\n['Ley 38/2003', 'Resolución CLT/1173/2020', 'Resolución CLT/187/2021', 'Resolución CLT/3142/2020', 'Ley 17/2015', 'Ley 20/2010']\n['Ley 18/1982', 'Ley 38/2003', 'Resolución CLT/807/2019', 'Resolución CLT/187/2021', 'Resolución CLT/3142/2020', 'Resolución CLT/298/2020']\n['Resolución CLT/1356/2017', 'Ley 38/2003', 'Real decreto 463/2020', 'Resolución CLT/187/2021', 'Resolución CLT/3142/2020', 'Ley 17/2015']\n['Ley 39/2015', 'Resolución EMC/460/2020', 'Resolución EMC/283/2020', 'Ley 38/2003', 'Ley 29/1998', 'Resolución UNI/73/2003', 'Real Decreto 887/2006']\n['Ley 39/2015', 'Real decreto 887/2006', 'Ley 38/2003', 'Resolución EMC/3294/2020', 'Resolución EMC/1446/2020', 'Ley 29/1998', 'Ley 26/2010']\n['Ley 4/2008', 'Reglamento (UE) 2020/2220', 'Ley 39/2015', 'Orden GRI/233/2015', 'Ley 38/2003', 'Orden ARP/69/2019', 'Real decreto 1720/2007', 'Orden AAM/387/2014', 'Ley 59/2003', 'Reglamento (UE) 808/2014', 'Reglamento (UE) 2016/679', 'Reglamento (UE) 1305/2013', 'Reglamento (UE) 1303/2013', 'Reglamento (UE) 809/2014', 'Real decreto legislativo 9/2017', 'Ley 5/2011', 'Ley 7/2012', 'Reglamento (UE) 1306/2013']\n['Real decreto 1335/2011']\n"
     ]
    }
   ],
   "source": [
    "# Elimina Tags duplicados\n",
    "for i, row in DOGC_sumarios.iterrows():\n",
    "    DOGC_sumarios['Tags'][i] = list(set(DOGC_sumarios['Tags'][i]))\n",
    "    print(DOGC_sumarios['Tags'][i])"
   ]
  },
  {
   "cell_type": "code",
   "execution_count": 88,
   "metadata": {},
   "outputs": [
    {
     "output_type": "execute_result",
     "data": {
      "text/plain": [
       "[None,\n",
       " None,\n",
       " None,\n",
       " None,\n",
       " None,\n",
       " None,\n",
       " None,\n",
       " None,\n",
       " None,\n",
       " None,\n",
       " None,\n",
       " None,\n",
       " None,\n",
       " None,\n",
       " None,\n",
       " None,\n",
       " None,\n",
       " None,\n",
       " None,\n",
       " None,\n",
       " None,\n",
       " None,\n",
       " None,\n",
       " None,\n",
       " None,\n",
       " None,\n",
       " None,\n",
       " None,\n",
       " None,\n",
       " None,\n",
       " None,\n",
       " None,\n",
       " None,\n",
       " None,\n",
       " None,\n",
       " None,\n",
       " None,\n",
       " None,\n",
       " None,\n",
       " None,\n",
       " None,\n",
       " None,\n",
       " None,\n",
       " None,\n",
       " None,\n",
       " None,\n",
       " None,\n",
       " None,\n",
       " None,\n",
       " None,\n",
       " None,\n",
       " None,\n",
       " None,\n",
       " None,\n",
       " None,\n",
       " None,\n",
       " None,\n",
       " None,\n",
       " None,\n",
       " None,\n",
       " None,\n",
       " None,\n",
       " None,\n",
       " None,\n",
       " None,\n",
       " None,\n",
       " None,\n",
       " None,\n",
       " None,\n",
       " None,\n",
       " None,\n",
       " None,\n",
       " None,\n",
       " None,\n",
       " None,\n",
       " None,\n",
       " None,\n",
       " None]"
      ]
     },
     "metadata": {},
     "execution_count": 88
    }
   ],
   "source": [
    "regex_result = []\n",
    "[ regex_result.append(tag) for tags in DOGC_sumarios['Tags'] for tag in tags ]"
   ]
  },
  {
   "cell_type": "code",
   "execution_count": 89,
   "metadata": {},
   "outputs": [
    {
     "output_type": "stream",
     "name": "stdout",
     "text": [
      "['Ley 39/2015', 'Resolución SLT/67/2021', 'Orden GRI/233/2015', 'Ley 38/2003', 'Ley 43/2020', 'Orden PRE/5/2017', 'Resolución SLT/1/2021', 'Resolución SLT/133/2021', 'Resolución PRE/392/2021', 'Ley 4/2020', 'Ley 26/2010', 'Ley 39/2015', 'Real decreto 887/2006', 'Orden SLT/198/2018', 'Ley 38/2003', 'Ley 19/2014', 'Orden SLT/257/2017', 'Ley 4/2020', 'Ley 26/2010', 'Ley 39/2015', 'Ley 2/2007', 'Ley 3/2012', 'Ley 29/1998', 'Ley 39/2015', 'Ley 29/1998', 'Ley 2/2007', 'Ley 3/2012', 'Ley 38/2003', 'Resolución CLT/1173/2020', 'Resolución CLT/187/2021', 'Resolución CLT/3142/2020', 'Ley 17/2015', 'Ley 20/2010', 'Ley 18/1982', 'Ley 38/2003', 'Resolución CLT/807/2019', 'Resolución CLT/187/2021', 'Resolución CLT/3142/2020', 'Resolución CLT/298/2020', 'Resolución CLT/1356/2017', 'Ley 38/2003', 'Real decreto 463/2020', 'Resolución CLT/187/2021', 'Resolución CLT/3142/2020', 'Ley 17/2015', 'Ley 39/2015', 'Resolución EMC/460/2020', 'Resolución EMC/283/2020', 'Ley 38/2003', 'Ley 29/1998', 'Resolución UNI/73/2003', 'Real Decreto 887/2006', 'Ley 39/2015', 'Real decreto 887/2006', 'Ley 38/2003', 'Resolución EMC/3294/2020', 'Resolución EMC/1446/2020', 'Ley 29/1998', 'Ley 26/2010', 'Ley 4/2008', 'Reglamento (UE) 2020/2220', 'Ley 39/2015', 'Orden GRI/233/2015', 'Ley 38/2003', 'Orden ARP/69/2019', 'Real decreto 1720/2007', 'Orden AAM/387/2014', 'Ley 59/2003', 'Reglamento (UE) 808/2014', 'Reglamento (UE) 2016/679', 'Reglamento (UE) 1305/2013', 'Reglamento (UE) 1303/2013', 'Reglamento (UE) 809/2014', 'Real decreto legislativo 9/2017', 'Ley 5/2011', 'Ley 7/2012', 'Reglamento (UE) 1306/2013', 'Real decreto 1335/2011']\n"
     ]
    }
   ],
   "source": [
    "print(regex_result)"
   ]
  },
  {
   "cell_type": "code",
   "execution_count": 90,
   "metadata": {},
   "outputs": [],
   "source": [
    "## Elimina duplicados\n",
    "boletin_flat_list = list(set(regex_result))"
   ]
  },
  {
   "cell_type": "code",
   "execution_count": 91,
   "metadata": {},
   "outputs": [
    {
     "output_type": "execute_result",
     "data": {
      "text/plain": [
       "['Resolución SLT/67/2021',\n",
       " 'Ley 18/1982',\n",
       " 'Orden SLT/198/2018',\n",
       " 'Resolución SLT/133/2021',\n",
       " 'Resolución CLT/187/2021',\n",
       " 'Resolución EMC/1446/2020',\n",
       " 'Orden AAM/387/2014',\n",
       " 'Reglamento (UE) 1305/2013',\n",
       " 'Reglamento (UE) 809/2014',\n",
       " 'Orden SLT/257/2017',\n",
       " 'Ley 17/2015',\n",
       " 'Resolución CLT/298/2020',\n",
       " 'Ley 7/2012',\n",
       " 'Ley 4/2020',\n",
       " 'Reglamento (UE) 1306/2013',\n",
       " 'Ley 39/2015',\n",
       " 'Ley 4/2008',\n",
       " 'Resolución EMC/460/2020',\n",
       " 'Ley 43/2020',\n",
       " 'Resolución EMC/3294/2020',\n",
       " 'Resolución CLT/807/2019',\n",
       " 'Ley 59/2003',\n",
       " 'Ley 29/1998',\n",
       " 'Reglamento (UE) 1303/2013',\n",
       " 'Ley 19/2014',\n",
       " 'Real decreto legislativo 9/2017',\n",
       " 'Real Decreto 887/2006',\n",
       " 'Real decreto 1335/2011',\n",
       " 'Resolución EMC/283/2020',\n",
       " 'Orden PRE/5/2017',\n",
       " 'Resolución SLT/1/2021',\n",
       " 'Resolución PRE/392/2021',\n",
       " 'Reglamento (UE) 808/2014',\n",
       " 'Reglamento (UE) 2016/679',\n",
       " 'Resolución UNI/73/2003',\n",
       " 'Ley 5/2011',\n",
       " 'Ley 26/2010',\n",
       " 'Reglamento (UE) 2020/2220',\n",
       " 'Real decreto 887/2006',\n",
       " 'Resolución CLT/1356/2017',\n",
       " 'Orden GRI/233/2015',\n",
       " 'Ley 38/2003',\n",
       " 'Real decreto 463/2020',\n",
       " 'Orden ARP/69/2019',\n",
       " 'Resolución CLT/1173/2020',\n",
       " 'Real decreto 1720/2007',\n",
       " 'Ley 2/2007',\n",
       " 'Resolución CLT/3142/2020',\n",
       " 'Ley 3/2012',\n",
       " 'Ley 20/2010']"
      ]
     },
     "metadata": {},
     "execution_count": 91
    }
   ],
   "source": [
    "boletin_flat_list"
   ]
  },
  {
   "cell_type": "code",
   "execution_count": 92,
   "metadata": {},
   "outputs": [
    {
     "output_type": "stream",
     "name": "stdout",
     "text": [
      "['España', 'Europa', 'Cataluña']\n"
     ]
    }
   ],
   "source": [
    "# ## Importa BBDD ASECORP\n",
    "\n",
    "# Inicializa datos de BBDD_ASECORP\n",
    "boletin_ASECORP_flat_list = []\n",
    "ASECORP_BBDD = pd.DataFrame()\n",
    "ambitos = []\n",
    "\n",
    "# Incluir en llamada a función el ambito territorial como lista\n",
    "# si no se especifica ámbito los incluye todos\n",
    "boletin_ASECORP_flat_list, ASECORP_BBDD, ambitos = tagea_BBDD_ASECORP(['España','Europa','Cataluña'])\n",
    "\n",
    "print(ambitos)\n"
   ]
  },
  {
   "cell_type": "code",
   "execution_count": 93,
   "metadata": {},
   "outputs": [],
   "source": [
    "#boletin_ASECORP_flat_list"
   ]
  },
  {
   "cell_type": "code",
   "execution_count": 94,
   "metadata": {},
   "outputs": [
    {
     "output_type": "execute_result",
     "data": {
      "text/plain": [
       "set()"
      ]
     },
     "metadata": {},
     "execution_count": 94
    }
   ],
   "source": [
    "## Busca coincidencias entre lista boletines BOEs explorados y lista boletines de BBDD ASECORP\n",
    "set(boletin_flat_list) & set(boletin_ASECORP_flat_list)"
   ]
  },
  {
   "cell_type": "code",
   "execution_count": 95,
   "metadata": {},
   "outputs": [
    {
     "output_type": "stream",
     "name": "stdout",
     "text": [
      "{'Resolución SLT/1/2021'}\n",
      "{'Resolución SLT/133/2021'}\n",
      "{'Resolución SLT/67/2021'}\n",
      "{'Ley 3/2012'}\n",
      "{'Ley 3/2012'}\n",
      "{'Ley 3/2012'}\n",
      "{'Ley 3/2012'}\n",
      "{'Ley 3/2012'}\n",
      "{'Ley 3/2012'}\n",
      "{'Ley 3/2012'}\n",
      "{'Ley 3/2012'}\n",
      "{'Ley 17/2015'}\n",
      "{'Ley 17/2015'}\n",
      "{'Real decreto 463/2020'}\n",
      "{'Real decreto 463/2020'}\n"
     ]
    }
   ],
   "source": [
    "#DOCM_sumarios['Tags'].isin(ASECORP_BBDD_BOE['Tags'])\n",
    "for row_to_compare in DOGC_sumarios['Tags']:\n",
    "    for row_comparing in ASECORP_BBDD['Tags']:\n",
    "        if set(row_comparing) & set(row_to_compare):\n",
    "            print(set(row_comparing) & set(row_to_compare))"
   ]
  },
  {
   "cell_type": "code",
   "execution_count": 96,
   "metadata": {},
   "outputs": [
    {
     "output_type": "stream",
     "name": "stdout",
     "text": [
      "{'Resolución SLT/1/2021'} RES SLT/1/2021 CAT\n",
      "{'Resolución SLT/133/2021'} RES SLT/133/2021 CAT\n",
      "{'Resolución SLT/67/2021'} RES SLT/67/2021 CAT\n",
      "{'Ley 3/2012'} DLE 3/2012 CAT\n",
      "{'Ley 3/2012'} LEY 14/2015 CAT\n",
      "{'Ley 3/2012'} LEY 3/2012 CAT\n",
      "{'Ley 3/2012'} LEY 3/2012 ESP\n",
      "{'Ley 3/2012'} DLE 3/2012 CAT\n",
      "{'Ley 3/2012'} LEY 14/2015 CAT\n",
      "{'Ley 3/2012'} LEY 3/2012 CAT\n",
      "{'Ley 3/2012'} LEY 3/2012 ESP\n",
      "{'Ley 17/2015'} LEY 17/2015 ESP\n",
      "{'Ley 17/2015'} LEY 17/2015 ESP\n",
      "{'Real decreto 463/2020'} RES TES/1034/2020 CAT\n",
      "{'Real decreto 463/2020'} RES TES/973/2020 CAT\n"
     ]
    }
   ],
   "source": [
    "for i, row_to_compare in DOGC_sumarios.iterrows():\n",
    "    for j, row_comparing in ASECORP_BBDD.iterrows():\n",
    "        if set(row_to_compare['Tags']) & set(row_comparing['Tags']):\n",
    "            DOGC_sumarios['Match_ASECORP_BBDD'][i].append (ASECORP_BBDD['Codigo'][j])\n",
    "            print(str(set(row_to_compare['Tags']) & set(row_comparing['Tags'])) + ' ' + str(row_comparing['Codigo']))"
   ]
  },
  {
   "cell_type": "code",
   "execution_count": 97,
   "metadata": {},
   "outputs": [
    {
     "output_type": "execute_result",
     "data": {
      "text/plain": [
       "                                           item_Title  \\\n",
       "0   RESOLUCIÓN PRE/613/2021, de 4 de marzo, por la...   \n",
       "1   RESOLUCIÓN SLT/622/2021, de 5 de febrero, por ...   \n",
       "2   EDICTO de 2 de marzo de 2021, sobre un acuerdo...   \n",
       "3   EDICTO de 2 de marzo de 2021, sobre un acuerdo...   \n",
       "4   RESOLUCIÓN CLT/616/2021, de 4 de marzo, por la...   \n",
       "5   RESOLUCIÓN CLT/617/2021, de 4 de marzo, por la...   \n",
       "6   RESOLUCIÓN CLT/618/2021, de 4 de marzo, por la...   \n",
       "7   RESOLUCIÓN EMC/621/2021, de 24 de febrero, por...   \n",
       "8   RESOLUCIÓN EMC/604/2021, de 2 de marzo, por la...   \n",
       "9   ORDEN ARP/54/2021, de 3 de marzo, por la que s...   \n",
       "10  RESOLUCIÓN ARP/580/2021, de 25 de febrero, por...   \n",
       "\n",
       "                                         item_urlHTML  \\\n",
       "0   https://dogc.gencat.cat/es/document-del-dogc/?...   \n",
       "1   https://dogc.gencat.cat/es/document-del-dogc/?...   \n",
       "2   https://dogc.gencat.cat/es/document-del-dogc/?...   \n",
       "3   https://dogc.gencat.cat/es/document-del-dogc/?...   \n",
       "4   https://dogc.gencat.cat/es/document-del-dogc/?...   \n",
       "5   https://dogc.gencat.cat/es/document-del-dogc/?...   \n",
       "6   https://dogc.gencat.cat/es/document-del-dogc/?...   \n",
       "7   https://dogc.gencat.cat/es/document-del-dogc/?...   \n",
       "8   https://dogc.gencat.cat/es/document-del-dogc/?...   \n",
       "9   https://dogc.gencat.cat/es/document-del-dogc/?...   \n",
       "10  https://dogc.gencat.cat/es/document-del-dogc/?...   \n",
       "\n",
       "                                          item_urlPDF  \\\n",
       "0   https://portaldogc.gencat.cat/utilsEADOP/AppJa...   \n",
       "1   https://portaldogc.gencat.cat/utilsEADOP/AppJa...   \n",
       "2   https://portaldogc.gencat.cat/utilsEADOP/AppJa...   \n",
       "3   https://portaldogc.gencat.cat/utilsEADOP/AppJa...   \n",
       "4   https://portaldogc.gencat.cat/utilsEADOP/AppJa...   \n",
       "5   https://portaldogc.gencat.cat/utilsEADOP/AppJa...   \n",
       "6   https://portaldogc.gencat.cat/utilsEADOP/AppJa...   \n",
       "7   https://portaldogc.gencat.cat/utilsEADOP/AppJa...   \n",
       "8   https://portaldogc.gencat.cat/utilsEADOP/AppJa...   \n",
       "9   https://portaldogc.gencat.cat/utilsEADOP/AppJa...   \n",
       "10  https://portaldogc.gencat.cat/utilsEADOP/AppJa...   \n",
       "\n",
       "                                        item_fullText  \\\n",
       "0   Mediante la Resolución SLT/1/2021, de 4 de ene...   \n",
       "1   El Departamento de Salud, mediante la concesió...   \n",
       "2    \\nLa Comisión Territorial de Urbanismo de Gir...   \n",
       "3   La Comisión Territorial de Urbanismo de Girona...   \n",
       "4   Visto el Acuerdo del Consejo de Administración...   \n",
       "5   Visto el Acuerdo del Consejo de Administración...   \n",
       "6   Visto el Acuerdo del Consejo de Administración...   \n",
       "7   La Resolución EMC/283/2020, de 7 de febrero (D...   \n",
       "8   El Consejo de Administración de 30 de abril de...   \n",
       "9   El Reglamento (UE) 1305/2013 del Parlamento Eu...   \n",
       "10  En fecha 30 de noviembre de 2020, se dio publi...   \n",
       "\n",
       "                                          item_urlXML      tipo_doc  \\\n",
       "0   [https://portaldogc.gencat.cat/utilsEADOP/AppJ...  [Resolución]   \n",
       "1   [https://portaldogc.gencat.cat/utilsEADOP/AppJ...  [Resolución]   \n",
       "2   [https://portaldogc.gencat.cat/utilsEADOP/AppJ...     [Edicto ]   \n",
       "3   [https://portaldogc.gencat.cat/utilsEADOP/AppJ...     [Edicto ]   \n",
       "4   [https://portaldogc.gencat.cat/utilsEADOP/AppJ...  [Resolución]   \n",
       "5   [https://portaldogc.gencat.cat/utilsEADOP/AppJ...  [Resolución]   \n",
       "6   [https://portaldogc.gencat.cat/utilsEADOP/AppJ...  [Resolución]   \n",
       "7   [https://portaldogc.gencat.cat/utilsEADOP/AppJ...  [Resolución]   \n",
       "8   [https://portaldogc.gencat.cat/utilsEADOP/AppJ...  [Resolución]   \n",
       "9   [https://portaldogc.gencat.cat/utilsEADOP/AppJ...       [Orden]   \n",
       "10  [https://portaldogc.gencat.cat/utilsEADOP/AppJ...  [Resolución]   \n",
       "\n",
       "       fecha_doc       numero_doc numero_control  \\\n",
       "0   [04/03/2021]  [PRE/0613/2021]     [21064052]   \n",
       "1   [05/02/2021]  [SLT/0622/2021]     [21064039]   \n",
       "2   [02/03/2021]               []     [21061051]   \n",
       "3   [02/03/2021]               []     [21061037]   \n",
       "4   [04/03/2021]  [CLT/0616/2021]     [21064041]   \n",
       "5   [04/03/2021]  [CLT/0617/2021]     [21064042]   \n",
       "6   [04/03/2021]  [CLT/0618/2021]     [21064043]   \n",
       "7   [24/02/2021]  [EMC/0621/2021]     [21064046]   \n",
       "8   [02/03/2021]  [EMC/0604/2021]     [21063053]   \n",
       "9   [03/03/2021]  [ARP/0054/2021]     [21064047]   \n",
       "10  [25/02/2021]  [ARP/0580/2021]     [21061069]   \n",
       "\n",
       "                                      entidad_emisora  \\\n",
       "0                       [Consejo Catalán del Deporte]   \n",
       "1                             [Departamento de Salud]   \n",
       "2       [Departamento de Territorio y Sostenibilidad]   \n",
       "3       [Departamento de Territorio y Sostenibilidad]   \n",
       "4      [Instituto Catalán de las Empresas Culturales]   \n",
       "5      [Instituto Catalán de las Empresas Culturales]   \n",
       "6      [Instituto Catalán de las Empresas Culturales]   \n",
       "7   [Agencia para la Calidad del Sistema Universit...   \n",
       "8      [Agencia para la Competitividad de la Empresa]   \n",
       "9   [Departamento de Agricultura, Ganadería, Pesca...   \n",
       "10           [Instituto Catalán de la Viña y el Vino]   \n",
       "\n",
       "                           CVE numero_DOGC    fecha_DOGC     seccion_DOGC  \\\n",
       "0   [CVE-DOGC-B-21064052-2021]      [8360]  [09/03/2021]  [Disposiciones]   \n",
       "1   [CVE-DOGC-B-21064039-2021]      [8360]  [09/03/2021]  [Disposiciones]   \n",
       "2   [CVE-DOGC-B-21061051-2021]      [8360]  [09/03/2021]  [Disposiciones]   \n",
       "3   [CVE-DOGC-B-21061037-2021]      [8360]  [09/03/2021]  [Disposiciones]   \n",
       "4   [CVE-DOGC-B-21064041-2021]      [8360]  [09/03/2021]  [Disposiciones]   \n",
       "5   [CVE-DOGC-B-21064042-2021]      [8360]  [09/03/2021]  [Disposiciones]   \n",
       "6   [CVE-DOGC-B-21064043-2021]      [8360]  [09/03/2021]  [Disposiciones]   \n",
       "7   [CVE-DOGC-B-21064046-2021]      [8360]  [09/03/2021]  [Disposiciones]   \n",
       "8   [CVE-DOGC-B-21063053-2021]      [8360]  [09/03/2021]  [Disposiciones]   \n",
       "9   [CVE-DOGC-B-21064047-2021]      [8360]  [09/03/2021]  [Disposiciones]   \n",
       "10  [CVE-DOGC-B-21061069-2021]      [8360]  [09/03/2021]  [Disposiciones]   \n",
       "\n",
       "                                                 Tags  \\\n",
       "0   [Ley 39/2015, Resolución SLT/67/2021, Orden GR...   \n",
       "1   [Ley 39/2015, Real decreto 887/2006, Orden SLT...   \n",
       "2   [Ley 39/2015, Ley 2/2007, Ley 3/2012, Ley 29/1...   \n",
       "3   [Ley 39/2015, Ley 29/1998, Ley 2/2007, Ley 3/2...   \n",
       "4   [Ley 38/2003, Resolución CLT/1173/2020, Resolu...   \n",
       "5   [Ley 18/1982, Ley 38/2003, Resolución CLT/807/...   \n",
       "6   [Resolución CLT/1356/2017, Ley 38/2003, Real d...   \n",
       "7   [Ley 39/2015, Resolución EMC/460/2020, Resoluc...   \n",
       "8   [Ley 39/2015, Real decreto 887/2006, Ley 38/20...   \n",
       "9   [Ley 4/2008, Reglamento (UE) 2020/2220, Ley 39...   \n",
       "10                           [Real decreto 1335/2011]   \n",
       "\n",
       "                                   Match_ASECORP_BBDD  \n",
       "0   [RES SLT/1/2021 CAT, RES SLT/133/2021 CAT, RES...  \n",
       "1                                                  []  \n",
       "2   [DLE 3/2012 CAT, LEY 14/2015 CAT, LEY 3/2012 C...  \n",
       "3   [DLE 3/2012 CAT, LEY 14/2015 CAT, LEY 3/2012 C...  \n",
       "4                                   [LEY 17/2015 ESP]  \n",
       "5                                                  []  \n",
       "6   [LEY 17/2015 ESP, RES TES/1034/2020 CAT, RES T...  \n",
       "7                                                  []  \n",
       "8                                                  []  \n",
       "9                                                  []  \n",
       "10                                                 []  "
      ],
      "text/html": "<div>\n<style scoped>\n    .dataframe tbody tr th:only-of-type {\n        vertical-align: middle;\n    }\n\n    .dataframe tbody tr th {\n        vertical-align: top;\n    }\n\n    .dataframe thead th {\n        text-align: right;\n    }\n</style>\n<table border=\"1\" class=\"dataframe\">\n  <thead>\n    <tr style=\"text-align: right;\">\n      <th></th>\n      <th>item_Title</th>\n      <th>item_urlHTML</th>\n      <th>item_urlPDF</th>\n      <th>item_fullText</th>\n      <th>item_urlXML</th>\n      <th>tipo_doc</th>\n      <th>fecha_doc</th>\n      <th>numero_doc</th>\n      <th>numero_control</th>\n      <th>entidad_emisora</th>\n      <th>CVE</th>\n      <th>numero_DOGC</th>\n      <th>fecha_DOGC</th>\n      <th>seccion_DOGC</th>\n      <th>Tags</th>\n      <th>Match_ASECORP_BBDD</th>\n    </tr>\n  </thead>\n  <tbody>\n    <tr>\n      <th>0</th>\n      <td>RESOLUCIÓN PRE/613/2021, de 4 de marzo, por la...</td>\n      <td>https://dogc.gencat.cat/es/document-del-dogc/?...</td>\n      <td>https://portaldogc.gencat.cat/utilsEADOP/AppJa...</td>\n      <td>Mediante la Resolución SLT/1/2021, de 4 de ene...</td>\n      <td>[https://portaldogc.gencat.cat/utilsEADOP/AppJ...</td>\n      <td>[Resolución]</td>\n      <td>[04/03/2021]</td>\n      <td>[PRE/0613/2021]</td>\n      <td>[21064052]</td>\n      <td>[Consejo Catalán del Deporte]</td>\n      <td>[CVE-DOGC-B-21064052-2021]</td>\n      <td>[8360]</td>\n      <td>[09/03/2021]</td>\n      <td>[Disposiciones]</td>\n      <td>[Ley 39/2015, Resolución SLT/67/2021, Orden GR...</td>\n      <td>[RES SLT/1/2021 CAT, RES SLT/133/2021 CAT, RES...</td>\n    </tr>\n    <tr>\n      <th>1</th>\n      <td>RESOLUCIÓN SLT/622/2021, de 5 de febrero, por ...</td>\n      <td>https://dogc.gencat.cat/es/document-del-dogc/?...</td>\n      <td>https://portaldogc.gencat.cat/utilsEADOP/AppJa...</td>\n      <td>El Departamento de Salud, mediante la concesió...</td>\n      <td>[https://portaldogc.gencat.cat/utilsEADOP/AppJ...</td>\n      <td>[Resolución]</td>\n      <td>[05/02/2021]</td>\n      <td>[SLT/0622/2021]</td>\n      <td>[21064039]</td>\n      <td>[Departamento de Salud]</td>\n      <td>[CVE-DOGC-B-21064039-2021]</td>\n      <td>[8360]</td>\n      <td>[09/03/2021]</td>\n      <td>[Disposiciones]</td>\n      <td>[Ley 39/2015, Real decreto 887/2006, Orden SLT...</td>\n      <td>[]</td>\n    </tr>\n    <tr>\n      <th>2</th>\n      <td>EDICTO de 2 de marzo de 2021, sobre un acuerdo...</td>\n      <td>https://dogc.gencat.cat/es/document-del-dogc/?...</td>\n      <td>https://portaldogc.gencat.cat/utilsEADOP/AppJa...</td>\n      <td>\\nLa Comisión Territorial de Urbanismo de Gir...</td>\n      <td>[https://portaldogc.gencat.cat/utilsEADOP/AppJ...</td>\n      <td>[Edicto ]</td>\n      <td>[02/03/2021]</td>\n      <td>[]</td>\n      <td>[21061051]</td>\n      <td>[Departamento de Territorio y Sostenibilidad]</td>\n      <td>[CVE-DOGC-B-21061051-2021]</td>\n      <td>[8360]</td>\n      <td>[09/03/2021]</td>\n      <td>[Disposiciones]</td>\n      <td>[Ley 39/2015, Ley 2/2007, Ley 3/2012, Ley 29/1...</td>\n      <td>[DLE 3/2012 CAT, LEY 14/2015 CAT, LEY 3/2012 C...</td>\n    </tr>\n    <tr>\n      <th>3</th>\n      <td>EDICTO de 2 de marzo de 2021, sobre un acuerdo...</td>\n      <td>https://dogc.gencat.cat/es/document-del-dogc/?...</td>\n      <td>https://portaldogc.gencat.cat/utilsEADOP/AppJa...</td>\n      <td>La Comisión Territorial de Urbanismo de Girona...</td>\n      <td>[https://portaldogc.gencat.cat/utilsEADOP/AppJ...</td>\n      <td>[Edicto ]</td>\n      <td>[02/03/2021]</td>\n      <td>[]</td>\n      <td>[21061037]</td>\n      <td>[Departamento de Territorio y Sostenibilidad]</td>\n      <td>[CVE-DOGC-B-21061037-2021]</td>\n      <td>[8360]</td>\n      <td>[09/03/2021]</td>\n      <td>[Disposiciones]</td>\n      <td>[Ley 39/2015, Ley 29/1998, Ley 2/2007, Ley 3/2...</td>\n      <td>[DLE 3/2012 CAT, LEY 14/2015 CAT, LEY 3/2012 C...</td>\n    </tr>\n    <tr>\n      <th>4</th>\n      <td>RESOLUCIÓN CLT/616/2021, de 4 de marzo, por la...</td>\n      <td>https://dogc.gencat.cat/es/document-del-dogc/?...</td>\n      <td>https://portaldogc.gencat.cat/utilsEADOP/AppJa...</td>\n      <td>Visto el Acuerdo del Consejo de Administración...</td>\n      <td>[https://portaldogc.gencat.cat/utilsEADOP/AppJ...</td>\n      <td>[Resolución]</td>\n      <td>[04/03/2021]</td>\n      <td>[CLT/0616/2021]</td>\n      <td>[21064041]</td>\n      <td>[Instituto Catalán de las Empresas Culturales]</td>\n      <td>[CVE-DOGC-B-21064041-2021]</td>\n      <td>[8360]</td>\n      <td>[09/03/2021]</td>\n      <td>[Disposiciones]</td>\n      <td>[Ley 38/2003, Resolución CLT/1173/2020, Resolu...</td>\n      <td>[LEY 17/2015 ESP]</td>\n    </tr>\n    <tr>\n      <th>5</th>\n      <td>RESOLUCIÓN CLT/617/2021, de 4 de marzo, por la...</td>\n      <td>https://dogc.gencat.cat/es/document-del-dogc/?...</td>\n      <td>https://portaldogc.gencat.cat/utilsEADOP/AppJa...</td>\n      <td>Visto el Acuerdo del Consejo de Administración...</td>\n      <td>[https://portaldogc.gencat.cat/utilsEADOP/AppJ...</td>\n      <td>[Resolución]</td>\n      <td>[04/03/2021]</td>\n      <td>[CLT/0617/2021]</td>\n      <td>[21064042]</td>\n      <td>[Instituto Catalán de las Empresas Culturales]</td>\n      <td>[CVE-DOGC-B-21064042-2021]</td>\n      <td>[8360]</td>\n      <td>[09/03/2021]</td>\n      <td>[Disposiciones]</td>\n      <td>[Ley 18/1982, Ley 38/2003, Resolución CLT/807/...</td>\n      <td>[]</td>\n    </tr>\n    <tr>\n      <th>6</th>\n      <td>RESOLUCIÓN CLT/618/2021, de 4 de marzo, por la...</td>\n      <td>https://dogc.gencat.cat/es/document-del-dogc/?...</td>\n      <td>https://portaldogc.gencat.cat/utilsEADOP/AppJa...</td>\n      <td>Visto el Acuerdo del Consejo de Administración...</td>\n      <td>[https://portaldogc.gencat.cat/utilsEADOP/AppJ...</td>\n      <td>[Resolución]</td>\n      <td>[04/03/2021]</td>\n      <td>[CLT/0618/2021]</td>\n      <td>[21064043]</td>\n      <td>[Instituto Catalán de las Empresas Culturales]</td>\n      <td>[CVE-DOGC-B-21064043-2021]</td>\n      <td>[8360]</td>\n      <td>[09/03/2021]</td>\n      <td>[Disposiciones]</td>\n      <td>[Resolución CLT/1356/2017, Ley 38/2003, Real d...</td>\n      <td>[LEY 17/2015 ESP, RES TES/1034/2020 CAT, RES T...</td>\n    </tr>\n    <tr>\n      <th>7</th>\n      <td>RESOLUCIÓN EMC/621/2021, de 24 de febrero, por...</td>\n      <td>https://dogc.gencat.cat/es/document-del-dogc/?...</td>\n      <td>https://portaldogc.gencat.cat/utilsEADOP/AppJa...</td>\n      <td>La Resolución EMC/283/2020, de 7 de febrero (D...</td>\n      <td>[https://portaldogc.gencat.cat/utilsEADOP/AppJ...</td>\n      <td>[Resolución]</td>\n      <td>[24/02/2021]</td>\n      <td>[EMC/0621/2021]</td>\n      <td>[21064046]</td>\n      <td>[Agencia para la Calidad del Sistema Universit...</td>\n      <td>[CVE-DOGC-B-21064046-2021]</td>\n      <td>[8360]</td>\n      <td>[09/03/2021]</td>\n      <td>[Disposiciones]</td>\n      <td>[Ley 39/2015, Resolución EMC/460/2020, Resoluc...</td>\n      <td>[]</td>\n    </tr>\n    <tr>\n      <th>8</th>\n      <td>RESOLUCIÓN EMC/604/2021, de 2 de marzo, por la...</td>\n      <td>https://dogc.gencat.cat/es/document-del-dogc/?...</td>\n      <td>https://portaldogc.gencat.cat/utilsEADOP/AppJa...</td>\n      <td>El Consejo de Administración de 30 de abril de...</td>\n      <td>[https://portaldogc.gencat.cat/utilsEADOP/AppJ...</td>\n      <td>[Resolución]</td>\n      <td>[02/03/2021]</td>\n      <td>[EMC/0604/2021]</td>\n      <td>[21063053]</td>\n      <td>[Agencia para la Competitividad de la Empresa]</td>\n      <td>[CVE-DOGC-B-21063053-2021]</td>\n      <td>[8360]</td>\n      <td>[09/03/2021]</td>\n      <td>[Disposiciones]</td>\n      <td>[Ley 39/2015, Real decreto 887/2006, Ley 38/20...</td>\n      <td>[]</td>\n    </tr>\n    <tr>\n      <th>9</th>\n      <td>ORDEN ARP/54/2021, de 3 de marzo, por la que s...</td>\n      <td>https://dogc.gencat.cat/es/document-del-dogc/?...</td>\n      <td>https://portaldogc.gencat.cat/utilsEADOP/AppJa...</td>\n      <td>El Reglamento (UE) 1305/2013 del Parlamento Eu...</td>\n      <td>[https://portaldogc.gencat.cat/utilsEADOP/AppJ...</td>\n      <td>[Orden]</td>\n      <td>[03/03/2021]</td>\n      <td>[ARP/0054/2021]</td>\n      <td>[21064047]</td>\n      <td>[Departamento de Agricultura, Ganadería, Pesca...</td>\n      <td>[CVE-DOGC-B-21064047-2021]</td>\n      <td>[8360]</td>\n      <td>[09/03/2021]</td>\n      <td>[Disposiciones]</td>\n      <td>[Ley 4/2008, Reglamento (UE) 2020/2220, Ley 39...</td>\n      <td>[]</td>\n    </tr>\n    <tr>\n      <th>10</th>\n      <td>RESOLUCIÓN ARP/580/2021, de 25 de febrero, por...</td>\n      <td>https://dogc.gencat.cat/es/document-del-dogc/?...</td>\n      <td>https://portaldogc.gencat.cat/utilsEADOP/AppJa...</td>\n      <td>En fecha 30 de noviembre de 2020, se dio publi...</td>\n      <td>[https://portaldogc.gencat.cat/utilsEADOP/AppJ...</td>\n      <td>[Resolución]</td>\n      <td>[25/02/2021]</td>\n      <td>[ARP/0580/2021]</td>\n      <td>[21061069]</td>\n      <td>[Instituto Catalán de la Viña y el Vino]</td>\n      <td>[CVE-DOGC-B-21061069-2021]</td>\n      <td>[8360]</td>\n      <td>[09/03/2021]</td>\n      <td>[Disposiciones]</td>\n      <td>[Real decreto 1335/2011]</td>\n      <td>[]</td>\n    </tr>\n  </tbody>\n</table>\n</div>"
     },
     "metadata": {},
     "execution_count": 97
    }
   ],
   "source": [
    "DOGC_sumarios"
   ]
  },
  {
   "source": [
    "# Genera Fichero EXCEL de resultados"
   ],
   "cell_type": "markdown",
   "metadata": {}
  },
  {
   "cell_type": "code",
   "execution_count": 98,
   "metadata": {},
   "outputs": [],
   "source": [
    "DOGC_sumarios_final = DOGC_sumarios"
   ]
  },
  {
   "cell_type": "code",
   "execution_count": 99,
   "metadata": {},
   "outputs": [
    {
     "output_type": "execute_result",
     "data": {
      "text/plain": [
       "item_Title            object\n",
       "item_urlHTML          object\n",
       "item_urlPDF           object\n",
       "item_fullText         object\n",
       "item_urlXML           object\n",
       "tipo_doc              object\n",
       "fecha_doc             object\n",
       "numero_doc            object\n",
       "numero_control        object\n",
       "entidad_emisora       object\n",
       "CVE                   object\n",
       "numero_DOGC           object\n",
       "fecha_DOGC            object\n",
       "seccion_DOGC          object\n",
       "Tags                  object\n",
       "Match_ASECORP_BBDD    object\n",
       "dtype: object"
      ]
     },
     "metadata": {},
     "execution_count": 99
    }
   ],
   "source": [
    "DOGC_sumarios_final.dtypes"
   ]
  },
  {
   "cell_type": "code",
   "execution_count": 100,
   "metadata": {},
   "outputs": [],
   "source": [
    "## Cambia orden de columnas y elimina las no necesarias  \n",
    "DOGC_sumarios_final.rename(columns={'CVE': 'Item_id', 'item_Title': 'Item_Title', 'item_urlPDF': 'PDF_Link', 'fecha_DOGC': 'Fecha_publicacion'}, inplace=True)\n",
    "DOGC_sumarios_final = DOGC_sumarios[['Item_id','Item_Title','PDF_Link','Fecha_publicacion','Tags','Match_ASECORP_BBDD']]"
   ]
  },
  {
   "cell_type": "code",
   "execution_count": 101,
   "metadata": {},
   "outputs": [],
   "source": [
    "## Crea función que convierte lista a string en todas las columnas de DOCM_sumarios\n",
    "## para evitar en presentación final los caracteres [' '] propios de las listas\n",
    "def list2Str(lst):\n",
    "    if type(lst) is list: # apply conversion to list columns\n",
    "        return\", \".join(lst)\n",
    "    else:\n",
    "        return lst"
   ]
  },
  {
   "cell_type": "code",
   "execution_count": 102,
   "metadata": {},
   "outputs": [],
   "source": [
    "\n",
    "DOGC_sumarios_final = DOGC_sumarios_final.apply(lambda x: [list2Str(i) for i in x])"
   ]
  },
  {
   "cell_type": "code",
   "execution_count": 103,
   "metadata": {},
   "outputs": [],
   "source": [
    "## Generar hyperlink a artículo BOE en CSV \"=HYPERLINK(\"https://www.boe.es/boe/dias/2021/02/02/pdfs/BOE-A-2021-1474.pdf\";\"BOE-A-2021-1474\")\"\n",
    "## https://www.boe.es/diario_boe/xml.php?id=## https://www.boe.es/boe/dias/2021/02/02/pdfs/BOE-A-2021-1474.pdf\n",
    "\n",
    "DOGC_sumarios_final_CSV = DOGC_sumarios_final"
   ]
  },
  {
   "cell_type": "code",
   "execution_count": 104,
   "metadata": {},
   "outputs": [],
   "source": [
    "DOGC_sumarios_final_CSV['item_id'] = '=HIPERVINCULO(' + '\"' + DOGC_sumarios_final_CSV['PDF_Link'] + '\";' \\\n",
    "                                                        + '\"' + DOGC_sumarios_final_CSV['Item_id'] + '\")'      "
   ]
  },
  {
   "cell_type": "code",
   "execution_count": 105,
   "metadata": {},
   "outputs": [
    {
     "output_type": "execute_result",
     "data": {
      "text/plain": [
       "'=HIPERVINCULO(\"https://portaldogc.gencat.cat/utilsEADOP/AppJava/PdfProviderServlet?documentId=895198&type=01&language=es_ES\";\"CVE-DOGC-B-21064052-2021\")'"
      ]
     },
     "metadata": {},
     "execution_count": 105
    }
   ],
   "source": [
    "DOGC_sumarios_final_CSV['item_id'][0]"
   ]
  },
  {
   "cell_type": "code",
   "execution_count": 106,
   "metadata": {},
   "outputs": [],
   "source": [
    "# Elimina columna PDF_Link\n",
    "DOGC_sumarios_final_CSV = DOGC_sumarios_final_CSV[['Item_id','Item_Title','Fecha_publicacion','Tags','Match_ASECORP_BBDD']]"
   ]
  },
  {
   "cell_type": "code",
   "execution_count": 107,
   "metadata": {},
   "outputs": [
    {
     "output_type": "execute_result",
     "data": {
      "text/plain": [
       "                     Item_id  \\\n",
       "0   CVE-DOGC-B-21064052-2021   \n",
       "1   CVE-DOGC-B-21064039-2021   \n",
       "2   CVE-DOGC-B-21061051-2021   \n",
       "3   CVE-DOGC-B-21061037-2021   \n",
       "4   CVE-DOGC-B-21064041-2021   \n",
       "5   CVE-DOGC-B-21064042-2021   \n",
       "6   CVE-DOGC-B-21064043-2021   \n",
       "7   CVE-DOGC-B-21064046-2021   \n",
       "8   CVE-DOGC-B-21063053-2021   \n",
       "9   CVE-DOGC-B-21064047-2021   \n",
       "10  CVE-DOGC-B-21061069-2021   \n",
       "\n",
       "                                           Item_Title Fecha_publicacion  \\\n",
       "0   RESOLUCIÓN PRE/613/2021, de 4 de marzo, por la...        09/03/2021   \n",
       "1   RESOLUCIÓN SLT/622/2021, de 5 de febrero, por ...        09/03/2021   \n",
       "2   EDICTO de 2 de marzo de 2021, sobre un acuerdo...        09/03/2021   \n",
       "3   EDICTO de 2 de marzo de 2021, sobre un acuerdo...        09/03/2021   \n",
       "4   RESOLUCIÓN CLT/616/2021, de 4 de marzo, por la...        09/03/2021   \n",
       "5   RESOLUCIÓN CLT/617/2021, de 4 de marzo, por la...        09/03/2021   \n",
       "6   RESOLUCIÓN CLT/618/2021, de 4 de marzo, por la...        09/03/2021   \n",
       "7   RESOLUCIÓN EMC/621/2021, de 24 de febrero, por...        09/03/2021   \n",
       "8   RESOLUCIÓN EMC/604/2021, de 2 de marzo, por la...        09/03/2021   \n",
       "9   ORDEN ARP/54/2021, de 3 de marzo, por la que s...        09/03/2021   \n",
       "10  RESOLUCIÓN ARP/580/2021, de 25 de febrero, por...        09/03/2021   \n",
       "\n",
       "                                                 Tags  \\\n",
       "0   Ley 39/2015, Resolución SLT/67/2021, Orden GRI...   \n",
       "1   Ley 39/2015, Real decreto 887/2006, Orden SLT/...   \n",
       "2    Ley 39/2015, Ley 2/2007, Ley 3/2012, Ley 29/1998   \n",
       "3    Ley 39/2015, Ley 29/1998, Ley 2/2007, Ley 3/2012   \n",
       "4   Ley 38/2003, Resolución CLT/1173/2020, Resoluc...   \n",
       "5   Ley 18/1982, Ley 38/2003, Resolución CLT/807/2...   \n",
       "6   Resolución CLT/1356/2017, Ley 38/2003, Real de...   \n",
       "7   Ley 39/2015, Resolución EMC/460/2020, Resoluci...   \n",
       "8   Ley 39/2015, Real decreto 887/2006, Ley 38/200...   \n",
       "9   Ley 4/2008, Reglamento (UE) 2020/2220, Ley 39/...   \n",
       "10                             Real decreto 1335/2011   \n",
       "\n",
       "                                   Match_ASECORP_BBDD  \n",
       "0   RES SLT/1/2021 CAT, RES SLT/133/2021 CAT, RES ...  \n",
       "1                                                      \n",
       "2   DLE 3/2012 CAT, LEY 14/2015 CAT, LEY 3/2012 CA...  \n",
       "3   DLE 3/2012 CAT, LEY 14/2015 CAT, LEY 3/2012 CA...  \n",
       "4                                     LEY 17/2015 ESP  \n",
       "5                                                      \n",
       "6   LEY 17/2015 ESP, RES TES/1034/2020 CAT, RES TE...  \n",
       "7                                                      \n",
       "8                                                      \n",
       "9                                                      \n",
       "10                                                     "
      ],
      "text/html": "<div>\n<style scoped>\n    .dataframe tbody tr th:only-of-type {\n        vertical-align: middle;\n    }\n\n    .dataframe tbody tr th {\n        vertical-align: top;\n    }\n\n    .dataframe thead th {\n        text-align: right;\n    }\n</style>\n<table border=\"1\" class=\"dataframe\">\n  <thead>\n    <tr style=\"text-align: right;\">\n      <th></th>\n      <th>Item_id</th>\n      <th>Item_Title</th>\n      <th>Fecha_publicacion</th>\n      <th>Tags</th>\n      <th>Match_ASECORP_BBDD</th>\n    </tr>\n  </thead>\n  <tbody>\n    <tr>\n      <th>0</th>\n      <td>CVE-DOGC-B-21064052-2021</td>\n      <td>RESOLUCIÓN PRE/613/2021, de 4 de marzo, por la...</td>\n      <td>09/03/2021</td>\n      <td>Ley 39/2015, Resolución SLT/67/2021, Orden GRI...</td>\n      <td>RES SLT/1/2021 CAT, RES SLT/133/2021 CAT, RES ...</td>\n    </tr>\n    <tr>\n      <th>1</th>\n      <td>CVE-DOGC-B-21064039-2021</td>\n      <td>RESOLUCIÓN SLT/622/2021, de 5 de febrero, por ...</td>\n      <td>09/03/2021</td>\n      <td>Ley 39/2015, Real decreto 887/2006, Orden SLT/...</td>\n      <td></td>\n    </tr>\n    <tr>\n      <th>2</th>\n      <td>CVE-DOGC-B-21061051-2021</td>\n      <td>EDICTO de 2 de marzo de 2021, sobre un acuerdo...</td>\n      <td>09/03/2021</td>\n      <td>Ley 39/2015, Ley 2/2007, Ley 3/2012, Ley 29/1998</td>\n      <td>DLE 3/2012 CAT, LEY 14/2015 CAT, LEY 3/2012 CA...</td>\n    </tr>\n    <tr>\n      <th>3</th>\n      <td>CVE-DOGC-B-21061037-2021</td>\n      <td>EDICTO de 2 de marzo de 2021, sobre un acuerdo...</td>\n      <td>09/03/2021</td>\n      <td>Ley 39/2015, Ley 29/1998, Ley 2/2007, Ley 3/2012</td>\n      <td>DLE 3/2012 CAT, LEY 14/2015 CAT, LEY 3/2012 CA...</td>\n    </tr>\n    <tr>\n      <th>4</th>\n      <td>CVE-DOGC-B-21064041-2021</td>\n      <td>RESOLUCIÓN CLT/616/2021, de 4 de marzo, por la...</td>\n      <td>09/03/2021</td>\n      <td>Ley 38/2003, Resolución CLT/1173/2020, Resoluc...</td>\n      <td>LEY 17/2015 ESP</td>\n    </tr>\n    <tr>\n      <th>5</th>\n      <td>CVE-DOGC-B-21064042-2021</td>\n      <td>RESOLUCIÓN CLT/617/2021, de 4 de marzo, por la...</td>\n      <td>09/03/2021</td>\n      <td>Ley 18/1982, Ley 38/2003, Resolución CLT/807/2...</td>\n      <td></td>\n    </tr>\n    <tr>\n      <th>6</th>\n      <td>CVE-DOGC-B-21064043-2021</td>\n      <td>RESOLUCIÓN CLT/618/2021, de 4 de marzo, por la...</td>\n      <td>09/03/2021</td>\n      <td>Resolución CLT/1356/2017, Ley 38/2003, Real de...</td>\n      <td>LEY 17/2015 ESP, RES TES/1034/2020 CAT, RES TE...</td>\n    </tr>\n    <tr>\n      <th>7</th>\n      <td>CVE-DOGC-B-21064046-2021</td>\n      <td>RESOLUCIÓN EMC/621/2021, de 24 de febrero, por...</td>\n      <td>09/03/2021</td>\n      <td>Ley 39/2015, Resolución EMC/460/2020, Resoluci...</td>\n      <td></td>\n    </tr>\n    <tr>\n      <th>8</th>\n      <td>CVE-DOGC-B-21063053-2021</td>\n      <td>RESOLUCIÓN EMC/604/2021, de 2 de marzo, por la...</td>\n      <td>09/03/2021</td>\n      <td>Ley 39/2015, Real decreto 887/2006, Ley 38/200...</td>\n      <td></td>\n    </tr>\n    <tr>\n      <th>9</th>\n      <td>CVE-DOGC-B-21064047-2021</td>\n      <td>ORDEN ARP/54/2021, de 3 de marzo, por la que s...</td>\n      <td>09/03/2021</td>\n      <td>Ley 4/2008, Reglamento (UE) 2020/2220, Ley 39/...</td>\n      <td></td>\n    </tr>\n    <tr>\n      <th>10</th>\n      <td>CVE-DOGC-B-21061069-2021</td>\n      <td>RESOLUCIÓN ARP/580/2021, de 25 de febrero, por...</td>\n      <td>09/03/2021</td>\n      <td>Real decreto 1335/2011</td>\n      <td></td>\n    </tr>\n  </tbody>\n</table>\n</div>"
     },
     "metadata": {},
     "execution_count": 107
    }
   ],
   "source": [
    "DOGC_sumarios_final_CSV"
   ]
  },
  {
   "cell_type": "code",
   "execution_count": 108,
   "metadata": {},
   "outputs": [],
   "source": [
    "DOGC_sumarios_final_CSV.to_csv(\"./ASECORP/Resultados_Matching_DOGC_\" + today.strftime(\"%Y%m%d\") + \".csv\" ,index=False) "
   ]
  },
  {
   "cell_type": "code",
   "execution_count": null,
   "metadata": {},
   "outputs": [],
   "source": []
  }
 ]
}