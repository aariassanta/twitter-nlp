{
 "metadata": {
  "language_info": {
   "codemirror_mode": {
    "name": "ipython",
    "version": 3
   },
   "file_extension": ".py",
   "mimetype": "text/x-python",
   "name": "python",
   "nbconvert_exporter": "python",
   "pygments_lexer": "ipython3",
   "version": "3.8.5-final"
  },
  "orig_nbformat": 2,
  "kernelspec": {
   "name": "python3",
   "display_name": "Python 3",
   "language": "python"
  }
 },
 "nbformat": 4,
 "nbformat_minor": 2,
 "cells": [
  {
   "cell_type": "code",
   "execution_count": 1,
   "metadata": {},
   "outputs": [],
   "source": [
    "from lxml import etree, html\n",
    "from lxml.html.clean import clean_html\n",
    "import pandas as pd\n",
    "from datetime import date, datetime\n",
    "import requests\n",
    "import re\n",
    "import os\n",
    "import shutil\n",
    "from ASECORP_BBDD import tagea_BBDD_ASECORP\n",
    "from selenium import webdriver\n",
    "import time"
   ]
  },
  {
   "source": [
    "# Mueve todos los fichero del directorio de trabajo a otro de archivo"
   ],
   "cell_type": "markdown",
   "metadata": {}
  },
  {
   "source": [
    "# Recoge resumen diario del BOE de hoy"
   ],
   "cell_type": "markdown",
   "metadata": {}
  },
  {
   "cell_type": "code",
   "execution_count": 2,
   "metadata": {},
   "outputs": [
    {
     "output_type": "stream",
     "name": "stdout",
     "text": [
      "Fecha de Hoy = 20210305\ndia = 05\nmes = 03\naño = 2021\n05/03/2021\n"
     ]
    }
   ],
   "source": [
    "\n",
    "today = date.today()\n",
    "\n",
    "# dd/mm/YYYY\n",
    "hoy = today.strftime(\"%Y%m%d\")\n",
    "print(\"Fecha de Hoy =\", hoy)\n",
    "\n",
    "# dd\n",
    "d = today.strftime(\"%d\")\n",
    "print(\"dia =\", d)\n",
    "\n",
    "# mm\n",
    "m = today.strftime(\"%m\")\n",
    "print(\"mes =\", m)\n",
    "\n",
    "# YYYY\n",
    "Y = today.strftime(\"%Y\")\n",
    "print(\"año =\", Y)\n",
    "\n",
    "print(today.strftime(\"%d/%m/%Y\"))"
   ]
  },
  {
   "cell_type": "code",
   "execution_count": 3,
   "metadata": {},
   "outputs": [],
   "source": [
    "def save_html(html, path):\n",
    "    with open(path, 'wb') as f:\n",
    "        f.write(html)"
   ]
  },
  {
   "cell_type": "code",
   "execution_count": 4,
   "metadata": {},
   "outputs": [],
   "source": [
    "# Define expresiones REGEX para búsqueda de leyes, decretos, etc. referenciadas anteriormente\n",
    "pattern = ['Ley [0-9]+\\/[0-9]+','Ley Orgánica [0-9]+\\/[0-9]+','Decreto [0-9]+\\/[0-9]+','Real Decreto [0-9]+\\/[0-9]+','Real Decreto Legislativo [0-9]+\\/[0-9]+','Real Decreto-ley [0-9]+\\/[0-9]+','Orden [A-Z]+\\/[0-9]+\\/[0-9]+','Orden Circular [0-9]+\\/[0-9]+','Reglamento \\(UE\\) [0-9]+\\/[0-9]+', 'Reglamento de Ejeución \\(UE\\) [0-9]+\\/[0-9]+' ,'Sentencia de [0-9]+ de [a-z]+ de [0-9]+','Sentencia [0-9]+\\/[0-9]+','Orden de [0-9]+ de [a-z]+ de [0-9]+', 'Resolución de [0-9]+ de [a-z]+ de [0-9]+','Resolución [a-z]+\\/[0-9]+\\/[0-9]+', 'Nota de Servicio [0-9]+\\/[0-9]+', 'Acuerdo multilateral M\\-[0-9]+', 'Acuerdo Multilateral RID [0-9]+\\/[0-9]+', 'Circular [0-9]+\\/[0-9]+', 'Decisión \\(UE\\) [0-9]+\\/[0-9]+', 'Decisión de Ejecución \\(UE\\) [0-9]+\\/[0-9]+', 'Instrucción IS\\-[0-9]+']"
   ]
  },
  {
   "source": [
    "# ------------------------------------------------------------------------"
   ],
   "cell_type": "markdown",
   "metadata": {}
  },
  {
   "source": [
    "# DOGC"
   ],
   "cell_type": "markdown",
   "metadata": {}
  },
  {
   "cell_type": "code",
   "execution_count": 5,
   "metadata": {},
   "outputs": [],
   "source": [
    "URL_HTML_resumen = \"https://dogc.gencat.cat/es/inici/\""
   ]
  },
  {
   "cell_type": "code",
   "execution_count": 6,
   "metadata": {},
   "outputs": [
    {
     "output_type": "stream",
     "name": "stdout",
     "text": [
      "['DOGC núm. 8357']\n['Disposiciones', 'Cargos y personal', 'Anuncios de la Generalidad de Cataluña', 'Anuncios de la Administración local', 'Anuncios de la Administración de justicia ']\n['https://dogc.gencat.cat/es/sumari-del-dogc/?numDOGC=8357#section-Disposiciones', 'https://dogc.gencat.cat/es/sumari-del-dogc/?numDOGC=8357#section-Cargos_y_personal', 'https://dogc.gencat.cat/es/sumari-del-dogc/?numDOGC=8357#section-Anuncios_de_la_Generalidad_de_Cataluña', 'https://dogc.gencat.cat/es/sumari-del-dogc/?numDOGC=8357#section-Anuncios_de_la_Administración_local', 'https://dogc.gencat.cat/es/sumari-del-dogc/?numDOGC=8357#section-Anuncios_de_la_Administración_de_justicia_']\n"
     ]
    }
   ],
   "source": [
    "### Necesita libreria Selenium para renderizar JS script\n",
    "\n",
    "options = webdriver.ChromeOptions()\n",
    "options.headless = True\n",
    "driver = webdriver.Chrome(options=options)\n",
    "\n",
    "driver.get(URL_HTML_resumen)\n",
    "#print(driver.page_source)\n",
    "response = driver.page_source\n",
    "\n",
    "sumario_HTML = html.fromstring(response)\n",
    "#print(sumario_HTML.xpath('//h2[@class=\"titol-component\"]/a/@href'))\n",
    "numero_diario = sumario_HTML.xpath('//h2[@class=\"titol-component\"]/a/text()')\n",
    "secciones = sumario_HTML.xpath('//div[@class=\"llistat_cont\"]/ul/li/a/text()')\n",
    "secciones_link = sumario_HTML.xpath('//div[@class=\"llistat_cont\"]/ul/li/a/@href')\n",
    "secciones_linkHTML = [ ('https://dogc.gencat.cat' + item) for item in secciones_link ]\n",
    "# numero_pagina = sumario_HTML.xpath('//table[@class=\"tablaDetalle\"]/tbody/tr[3]/td[4]/text()')\n",
    "# NID = sumario_HTML.xpath('//table[@class=\"tablaDetalle\"]/tbody/tr[2]/td[2]/text()')\n",
    "# rango = sumario_HTML.xpath('//table[@class=\"tablaDetalle\"]/tbody/tr[5]/td[2]/text()')\n",
    "# organo_emisor = sumario_HTML.xpath('//table[@class=\"tablaDetalle\"]/tbody/tr[7]/td[2]/text()')\n",
    "# \n",
    "# print(numero_diario[0].strip(), numero_pagina[0].strip(), NID[0].strip(), rango[0].strip(), organo_emisor[0].strip())\n",
    "# print()\n",
    "print(numero_diario)\n",
    "print(secciones)\n",
    "print(secciones_linkHTML)\n",
    "\n",
    "driver.quit()"
   ]
  },
  {
   "cell_type": "code",
   "execution_count": 7,
   "metadata": {},
   "outputs": [],
   "source": [
    "#response"
   ]
  },
  {
   "source": [
    "## Recoge Nombre Secciones Sumario"
   ],
   "cell_type": "markdown",
   "metadata": {}
  },
  {
   "cell_type": "code",
   "execution_count": 8,
   "metadata": {},
   "outputs": [],
   "source": [
    "secciones = sumario_HTML.xpath('//div[@class=\"llistat_cont\"]/ul/li/a/text()')\n",
    "#print(secciones)\n",
    "df_secciones_sumarios = pd.DataFrame()\n",
    "for seccion in secciones:\n",
    "    df_secciones_sumarios = df_secciones_sumarios.append({'Seccion': seccion}, ignore_index=True)\n"
   ]
  },
  {
   "cell_type": "code",
   "execution_count": 9,
   "metadata": {},
   "outputs": [
    {
     "output_type": "execute_result",
     "data": {
      "text/plain": [
       "                                      Seccion\n",
       "0                               Disposiciones\n",
       "1                           Cargos y personal\n",
       "2      Anuncios de la Generalidad de Cataluña\n",
       "3         Anuncios de la Administración local\n",
       "4  Anuncios de la Administración de justicia "
      ],
      "text/html": "<div>\n<style scoped>\n    .dataframe tbody tr th:only-of-type {\n        vertical-align: middle;\n    }\n\n    .dataframe tbody tr th {\n        vertical-align: top;\n    }\n\n    .dataframe thead th {\n        text-align: right;\n    }\n</style>\n<table border=\"1\" class=\"dataframe\">\n  <thead>\n    <tr style=\"text-align: right;\">\n      <th></th>\n      <th>Seccion</th>\n    </tr>\n  </thead>\n  <tbody>\n    <tr>\n      <th>0</th>\n      <td>Disposiciones</td>\n    </tr>\n    <tr>\n      <th>1</th>\n      <td>Cargos y personal</td>\n    </tr>\n    <tr>\n      <th>2</th>\n      <td>Anuncios de la Generalidad de Cataluña</td>\n    </tr>\n    <tr>\n      <th>3</th>\n      <td>Anuncios de la Administración local</td>\n    </tr>\n    <tr>\n      <th>4</th>\n      <td>Anuncios de la Administración de justicia</td>\n    </tr>\n  </tbody>\n</table>\n</div>"
     },
     "metadata": {},
     "execution_count": 9
    }
   ],
   "source": [
    "df_secciones_sumarios"
   ]
  },
  {
   "source": [
    "## Recoge Valores para formar URLs Secciones Sumario"
   ],
   "cell_type": "markdown",
   "metadata": {}
  },
  {
   "cell_type": "code",
   "execution_count": 10,
   "metadata": {},
   "outputs": [
    {
     "output_type": "stream",
     "name": "stdout",
     "text": [
      "https://dogc.gencat.cat/es/sumari-del-dogc/?numDOGC=8357#section-Disposiciones\nhttps://dogc.gencat.cat/es/sumari-del-dogc/?numDOGC=8357#section-Cargos_y_personal\nhttps://dogc.gencat.cat/es/sumari-del-dogc/?numDOGC=8357#section-Anuncios_de_la_Generalidad_de_Cataluña\nhttps://dogc.gencat.cat/es/sumari-del-dogc/?numDOGC=8357#section-Anuncios_de_la_Administración_local\nhttps://dogc.gencat.cat/es/sumari-del-dogc/?numDOGC=8357#section-Anuncios_de_la_Administración_de_justicia_\n"
     ]
    }
   ],
   "source": [
    "URL_base_sumario = sumario_HTML.xpath('//div[@class=\"llistat_cont\"]/ul/li/a/@href')\n",
    "URL_sumario = [ ('https://dogc.gencat.cat' + item) for item in secciones_link ]\n",
    "\n",
    "df_URL_sumarios = pd.DataFrame()\n",
    "\n",
    "for URL_seccion in URL_base_sumario:    \n",
    "    URL_sumario = 'https://dogc.gencat.cat' + str(URL_seccion)\n",
    "    print(URL_sumario)\n",
    "    df_URL_sumarios = df_URL_sumarios.append({'URL_Seccion': URL_sumario}, ignore_index=True)"
   ]
  },
  {
   "cell_type": "code",
   "execution_count": 11,
   "metadata": {},
   "outputs": [
    {
     "output_type": "execute_result",
     "data": {
      "text/plain": [
       "                                         URL_Seccion\n",
       "0  https://dogc.gencat.cat/es/sumari-del-dogc/?nu...\n",
       "1  https://dogc.gencat.cat/es/sumari-del-dogc/?nu...\n",
       "2  https://dogc.gencat.cat/es/sumari-del-dogc/?nu...\n",
       "3  https://dogc.gencat.cat/es/sumari-del-dogc/?nu...\n",
       "4  https://dogc.gencat.cat/es/sumari-del-dogc/?nu..."
      ],
      "text/html": "<div>\n<style scoped>\n    .dataframe tbody tr th:only-of-type {\n        vertical-align: middle;\n    }\n\n    .dataframe tbody tr th {\n        vertical-align: top;\n    }\n\n    .dataframe thead th {\n        text-align: right;\n    }\n</style>\n<table border=\"1\" class=\"dataframe\">\n  <thead>\n    <tr style=\"text-align: right;\">\n      <th></th>\n      <th>URL_Seccion</th>\n    </tr>\n  </thead>\n  <tbody>\n    <tr>\n      <th>0</th>\n      <td>https://dogc.gencat.cat/es/sumari-del-dogc/?nu...</td>\n    </tr>\n    <tr>\n      <th>1</th>\n      <td>https://dogc.gencat.cat/es/sumari-del-dogc/?nu...</td>\n    </tr>\n    <tr>\n      <th>2</th>\n      <td>https://dogc.gencat.cat/es/sumari-del-dogc/?nu...</td>\n    </tr>\n    <tr>\n      <th>3</th>\n      <td>https://dogc.gencat.cat/es/sumari-del-dogc/?nu...</td>\n    </tr>\n    <tr>\n      <th>4</th>\n      <td>https://dogc.gencat.cat/es/sumari-del-dogc/?nu...</td>\n    </tr>\n  </tbody>\n</table>\n</div>"
     },
     "metadata": {},
     "execution_count": 11
    }
   ],
   "source": [
    "df_URL_sumarios"
   ]
  },
  {
   "cell_type": "code",
   "execution_count": 12,
   "metadata": {},
   "outputs": [],
   "source": [
    " df_sumarios = pd.concat([df_secciones_sumarios, df_URL_sumarios], axis=1)"
   ]
  },
  {
   "cell_type": "code",
   "execution_count": 13,
   "metadata": {},
   "outputs": [
    {
     "output_type": "execute_result",
     "data": {
      "text/plain": [
       "                                      Seccion  \\\n",
       "0                               Disposiciones   \n",
       "1                           Cargos y personal   \n",
       "2      Anuncios de la Generalidad de Cataluña   \n",
       "3         Anuncios de la Administración local   \n",
       "4  Anuncios de la Administración de justicia    \n",
       "\n",
       "                                         URL_Seccion  \n",
       "0  https://dogc.gencat.cat/es/sumari-del-dogc/?nu...  \n",
       "1  https://dogc.gencat.cat/es/sumari-del-dogc/?nu...  \n",
       "2  https://dogc.gencat.cat/es/sumari-del-dogc/?nu...  \n",
       "3  https://dogc.gencat.cat/es/sumari-del-dogc/?nu...  \n",
       "4  https://dogc.gencat.cat/es/sumari-del-dogc/?nu...  "
      ],
      "text/html": "<div>\n<style scoped>\n    .dataframe tbody tr th:only-of-type {\n        vertical-align: middle;\n    }\n\n    .dataframe tbody tr th {\n        vertical-align: top;\n    }\n\n    .dataframe thead th {\n        text-align: right;\n    }\n</style>\n<table border=\"1\" class=\"dataframe\">\n  <thead>\n    <tr style=\"text-align: right;\">\n      <th></th>\n      <th>Seccion</th>\n      <th>URL_Seccion</th>\n    </tr>\n  </thead>\n  <tbody>\n    <tr>\n      <th>0</th>\n      <td>Disposiciones</td>\n      <td>https://dogc.gencat.cat/es/sumari-del-dogc/?nu...</td>\n    </tr>\n    <tr>\n      <th>1</th>\n      <td>Cargos y personal</td>\n      <td>https://dogc.gencat.cat/es/sumari-del-dogc/?nu...</td>\n    </tr>\n    <tr>\n      <th>2</th>\n      <td>Anuncios de la Generalidad de Cataluña</td>\n      <td>https://dogc.gencat.cat/es/sumari-del-dogc/?nu...</td>\n    </tr>\n    <tr>\n      <th>3</th>\n      <td>Anuncios de la Administración local</td>\n      <td>https://dogc.gencat.cat/es/sumari-del-dogc/?nu...</td>\n    </tr>\n    <tr>\n      <th>4</th>\n      <td>Anuncios de la Administración de justicia</td>\n      <td>https://dogc.gencat.cat/es/sumari-del-dogc/?nu...</td>\n    </tr>\n  </tbody>\n</table>\n</div>"
     },
     "metadata": {},
     "execution_count": 13
    }
   ],
   "source": [
    "df_sumarios"
   ]
  },
  {
   "cell_type": "code",
   "execution_count": 14,
   "metadata": {},
   "outputs": [
    {
     "output_type": "execute_result",
     "data": {
      "text/plain": [
       "'https://dogc.gencat.cat/es/sumari-del-dogc/?numDOGC=8357#section-Disposiciones'"
      ]
     },
     "metadata": {},
     "execution_count": 14
    }
   ],
   "source": [
    "df_sumarios['URL_Seccion'][0]"
   ]
  },
  {
   "source": [
    "## Recoge Items en Seccion Disposiciones"
   ],
   "cell_type": "markdown",
   "metadata": {}
  },
  {
   "cell_type": "code",
   "execution_count": 15,
   "metadata": {},
   "outputs": [],
   "source": [
    "URL_HTML_disposiciones = df_sumarios[df_sumarios['Seccion'] == 'Disposiciones']"
   ]
  },
  {
   "cell_type": "code",
   "execution_count": 16,
   "metadata": {},
   "outputs": [
    {
     "output_type": "stream",
     "name": "stdout",
     "text": [
      "Disposiciones\n"
     ]
    }
   ],
   "source": [
    "print(URL_HTML_disposiciones['Seccion'][0])"
   ]
  },
  {
   "cell_type": "code",
   "execution_count": 17,
   "metadata": {},
   "outputs": [
    {
     "output_type": "stream",
     "name": "stdout",
     "text": [
      "https://dogc.gencat.cat/es/sumari-del-dogc/?numDOGC=8357#section-Disposiciones\n"
     ]
    }
   ],
   "source": [
    "print(URL_HTML_disposiciones['URL_Seccion'][0])"
   ]
  },
  {
   "cell_type": "code",
   "execution_count": 18,
   "metadata": {},
   "outputs": [],
   "source": [
    "URL_HTML_disposiciones = URL_HTML_disposiciones['URL_Seccion'][0]"
   ]
  },
  {
   "cell_type": "code",
   "execution_count": 19,
   "metadata": {},
   "outputs": [
    {
     "output_type": "execute_result",
     "data": {
      "text/plain": [
       "'https://dogc.gencat.cat/es/sumari-del-dogc/?numDOGC=8357#section-Disposiciones'"
      ]
     },
     "metadata": {},
     "execution_count": 19
    }
   ],
   "source": [
    "URL_HTML_disposiciones"
   ]
  },
  {
   "cell_type": "code",
   "execution_count": 20,
   "metadata": {
    "tags": []
   },
   "outputs": [
    {
     "output_type": "stream",
     "name": "stdout",
     "text": [
      "['Departamento de Acción Exterior, Relaciones Institucionales y Transparencia', 'Departamento de Territorio y Sostenibilidad', 'Departamento de Cultura', 'Departamento de Justicia', 'Departamento de Agricultura, Ganadería, Pesca y Alimentación']\n['RESOLUCIÓN EXI/583/2021, de 24 de febrero, por la que se da publicidad al Convenio de cooperación educativa entre la Facultad de Economía y Empresa de la Universidad de Barcelona (UB) y la Agencia Catalana de Cooperación al Desarrollo (ACCD) para la realización de prácticas académicas externas.', 'EDICTO de 25 de febrero de 2021, sobre acuerdos de la Comisión Territorial de Urbanismo de la Cataluña Central referentes al municipio de Sallent.', 'EDICTO de 26 de febrero de 2021, sobre un acuerdo de la Comisión de Territorio de Cataluña referente al municipio de Vilanova del Vallès.', 'EDICTO de 26 de febrero de 2021, sobre un acuerdo de la Comisión Territorial de Urbanismo del ámbito metropolitano de Barcelona y una resolución del secretario de la Agenda Urbana y Territorio referentes al municipio de Esplugues de Llobregat.', 'RESOLUCIÓN TES/585/2021, de 23 de febrero, por la que se abre la convocatoria para la concesión, en régimen de concurrencia pública competitiva, de las subvenciones para el pago del alquiler para personas mayores correspondiente al año 2021 (ref. BDNS 551309).', 'RESOLUCIÓN CLT/592/2021, de 2 de marzo, por la que se da publicidad al Acuerdo del Consejo de Administración de la Oficina de Apoyo a la Iniciativa Cultural por el que se aprueban las bases específicas que deben regir la concesión de subvenciones para la elaboración de planes directores, de uso y mantenimiento o especiales de protección de monumentos o conjuntos históricos.', 'RESOLUCIÓN CLT/576/2021, de 1 de marzo, por la que se da publicidad al Acuerdo del Consejo de Administración del Instituto Catalán de las Empresas Culturales, por el que se aprueban las bases específicas y transitorias para la convocatoria del año 2021 que regirán la concesión de subvenciones para las actividades de las formaciones musicales estables.', 'RESOLUCIÓN CLT/577/2021, de 1 de marzo, por la que se da publicidad al Acuerdo del Consejo de Administración del Instituto Catalán de las Empresas Culturales por el que se aprueban las bases específicas y transitorias para la convocatoria del año 2021 que regirán la concesión de subvenciones para la organización en Cataluña de festivales y muestras audiovisuales, así como para su promoción y difusión.', 'RESOLUCIÓN CLT/589/2021, de 2 de marzo, por la que se da publicidad al Acuerdo del Consejo de Administración del Instituto Catalán de las Empresas Culturales por el que se aprueban las bases específicas que regirán la concesión de ayudas, en las modalidades de aportaciones reintegrables y subvenciones, a la distribución y explotación de espectáculos.', 'RESOLUCIÓN CLT/590/2021, de 2 de marzo, por la que se da publicidad al Acuerdo del Consejo de Administración del Instituto Catalán de las Empresas Culturales por el que se aprueban las bases específicas que regirán la concesión de ayudas, en las modalidades de aportaciones reintegrables y subvenciones, a festivales o ciclos musicales.', 'RESOLUCIÓN CLT/591/2021, de 2 de marzo, por la que se da publicidad al Acuerdo del Consejo de Administración del Instituto Catalán de las Empresas Culturales por el que se aprueban las bases específicas que regirán la concesión de ayudas, en las modalidades de aportaciones reintegrables y subvenciones, a proyectos y planes editoriales.', 'ORDEN JUS/50/2021, de 2 de marzo, por la que se aprueban las bases reguladoras de la concesión de los Premios del Observatorio Catalán de la Justicia en Violencia Machista a trabajos de investigación, iniciativas y prácticas orientados a la erradicación de las violencias machistas en el ámbito de la justicia, impulsadas por entes, particulares, instituciones y organismos públicos o privados, así como al reconocimiento a una larga trayectoria profesional pionera en este campo.', 'RESOLUCIÓN ARP/593/2021, de 2 de marzo, por la que se da publicidad a la constitución y la inscripción de sociedades agrarias de transformación.', 'RESOLUCIÓN ARP/594/2021, de 1 de marzo, por la que se da publicidad a la disolución y la cancelación de sociedades agrarias de transformación.']\n['/es/document-del-dogc/?documentId=894875', '/es/document-del-dogc/?documentId=894866', '/es/document-del-dogc/?documentId=894900', '/es/document-del-dogc/?documentId=894906', '/es/document-del-dogc/?documentId=894910', '/es/document-del-dogc/?documentId=894905', '/es/document-del-dogc/?documentId=894942', '/es/document-del-dogc/?documentId=894898', '/es/document-del-dogc/?documentId=894903', '/es/document-del-dogc/?documentId=894881', '/es/document-del-dogc/?documentId=894861', '/es/document-del-dogc/?documentId=894876', '/es/document-del-dogc/?documentId=894909', '/es/document-del-dogc/?documentId=894885']\n['https://portaldogc.gencat.cat/utilsEADOP/AppJava/PdfProviderServlet?documentId=894875&type=01&language=es_ES', 'https://portaldogc.gencat.cat/utilsEADOP/AppJava/PdfProviderServlet?documentId=894866&type=01&language=es_ES', 'https://portaldogc.gencat.cat/utilsEADOP/AppJava/PdfProviderServlet?documentId=894900&type=01&language=es_ES', 'https://portaldogc.gencat.cat/utilsEADOP/AppJava/PdfProviderServlet?documentId=894906&type=01&language=es_ES', 'https://portaldogc.gencat.cat/utilsEADOP/AppJava/PdfProviderServlet?documentId=894910&type=01&language=es_ES', 'https://portaldogc.gencat.cat/utilsEADOP/AppJava/PdfProviderServlet?documentId=894905&type=01&language=es_ES', 'https://portaldogc.gencat.cat/utilsEADOP/AppJava/PdfProviderServlet?documentId=894942&type=01&language=es_ES', 'https://portaldogc.gencat.cat/utilsEADOP/AppJava/PdfProviderServlet?documentId=894898&type=01&language=es_ES', 'https://portaldogc.gencat.cat/utilsEADOP/AppJava/PdfProviderServlet?documentId=894903&type=01&language=es_ES', 'https://portaldogc.gencat.cat/utilsEADOP/AppJava/PdfProviderServlet?documentId=894881&type=01&language=es_ES', 'https://portaldogc.gencat.cat/utilsEADOP/AppJava/PdfProviderServlet?documentId=894861&type=01&language=es_ES', 'https://portaldogc.gencat.cat/utilsEADOP/AppJava/PdfProviderServlet?documentId=894876&type=01&language=es_ES', 'https://portaldogc.gencat.cat/utilsEADOP/AppJava/PdfProviderServlet?documentId=894909&type=01&language=es_ES', 'https://portaldogc.gencat.cat/utilsEADOP/AppJava/PdfProviderServlet?documentId=894885&type=01&language=es_ES']\n"
     ]
    }
   ],
   "source": [
    "options = webdriver.ChromeOptions()\n",
    "options.headless = True\n",
    "driver = webdriver.Chrome(options=options)\n",
    "\n",
    "driver.get(URL_HTML_disposiciones)\n",
    "#print(driver.page_source)\n",
    "response = driver.page_source\n",
    "### Recoge Items en Seccion Disposiciones\n",
    "disposiciones_HTML = html.fromstring(response)\n",
    "\n",
    "#print(html.tostring(disposiciones_HTML))\n",
    "#print('____________________')\n",
    "\n",
    "departamentos = disposiciones_HTML.xpath('/descendant::*[@class=\"wrapper-disposicions\"][1]/h3/text()') # Sólo Sección disposiciones\n",
    "disposiciones = disposiciones_HTML.xpath('/descendant::*[@class=\"wrapper-disposicions\"][1]/ul/descendant::li/div/a/text()')\n",
    "disposiciones_link = disposiciones_HTML.xpath('/descendant::*[@class=\"wrapper-disposicions\"][1]/ul/descendant::li/div/a/@href')\n",
    "disposiciones_pdf = disposiciones_HTML.xpath('/descendant::*[@class=\"wrapper-disposicions\"][1]/ul/descendant::li/div/div/a/@href')\n",
    "\n",
    "# for i in range(len(departamentos)):\n",
    "#     print(departamentos[i])\n",
    "#     i += 1\n",
    "#     #print(disposiciones_HTML.xpath('//*[@class=\"wrapper-disposicions\"]/ul[' + str(i) + ']//li/div/a/text()'))\n",
    "#     print(disposiciones_HTML.xpath('//*[@class=\"wrapper-disposicions\"]/ul[1]//li/div/a/text()'))\n",
    "\n",
    "print(departamentos)\n",
    "print(disposiciones)\n",
    "print(disposiciones_link)\n",
    "print(disposiciones_pdf)\n",
    "\n",
    "driver.quit()\n"
   ]
  },
  {
   "cell_type": "code",
   "execution_count": 21,
   "metadata": {},
   "outputs": [
    {
     "output_type": "execute_result",
     "data": {
      "text/plain": [
       "5"
      ]
     },
     "metadata": {},
     "execution_count": 21
    }
   ],
   "source": [
    "len(departamentos)"
   ]
  },
  {
   "cell_type": "code",
   "execution_count": 22,
   "metadata": {},
   "outputs": [],
   "source": [
    "DOGC_sumarios = pd.DataFrame(columns=['item_Title','item_urlHTML','item_urlPDF'])"
   ]
  },
  {
   "cell_type": "code",
   "execution_count": 23,
   "metadata": {},
   "outputs": [
    {
     "output_type": "execute_result",
     "data": {
      "text/plain": [
       "Empty DataFrame\n",
       "Columns: [item_Title, item_urlHTML, item_urlPDF]\n",
       "Index: []"
      ],
      "text/html": "<div>\n<style scoped>\n    .dataframe tbody tr th:only-of-type {\n        vertical-align: middle;\n    }\n\n    .dataframe tbody tr th {\n        vertical-align: top;\n    }\n\n    .dataframe thead th {\n        text-align: right;\n    }\n</style>\n<table border=\"1\" class=\"dataframe\">\n  <thead>\n    <tr style=\"text-align: right;\">\n      <th></th>\n      <th>item_Title</th>\n      <th>item_urlHTML</th>\n      <th>item_urlPDF</th>\n    </tr>\n  </thead>\n  <tbody>\n  </tbody>\n</table>\n</div>"
     },
     "metadata": {},
     "execution_count": 23
    }
   ],
   "source": [
    "DOGC_sumarios"
   ]
  },
  {
   "cell_type": "code",
   "execution_count": 24,
   "metadata": {},
   "outputs": [],
   "source": [
    "lista = []\n",
    "for disposicion in disposiciones:\n",
    "    lista.append(disposicion)\n",
    "\n",
    "DOGC_sumarios['item_Title'] = lista\n",
    "\n",
    "lista = []   \n",
    "for link_HTML in disposiciones_link:\n",
    "    #print(link)\n",
    "    lista.append('https://dogc.gencat.cat' + str(link_HTML))\n",
    "\n",
    "DOGC_sumarios['item_urlHTML'] = lista\n",
    "\n",
    "lista = []   \n",
    "for link_PDF in disposiciones_pdf:\n",
    "    #print(link)\n",
    "    lista.append(link_PDF)\n",
    "\n",
    "DOGC_sumarios['item_urlPDF'] = lista"
   ]
  },
  {
   "cell_type": "code",
   "execution_count": 25,
   "metadata": {},
   "outputs": [
    {
     "output_type": "execute_result",
     "data": {
      "text/plain": [
       "                                           item_Title  \\\n",
       "0   RESOLUCIÓN EXI/583/2021, de 24 de febrero, por...   \n",
       "1   EDICTO de 25 de febrero de 2021, sobre acuerdo...   \n",
       "2   EDICTO de 26 de febrero de 2021, sobre un acue...   \n",
       "3   EDICTO de 26 de febrero de 2021, sobre un acue...   \n",
       "4   RESOLUCIÓN TES/585/2021, de 23 de febrero, por...   \n",
       "5   RESOLUCIÓN CLT/592/2021, de 2 de marzo, por la...   \n",
       "6   RESOLUCIÓN CLT/576/2021, de 1 de marzo, por la...   \n",
       "7   RESOLUCIÓN CLT/577/2021, de 1 de marzo, por la...   \n",
       "8   RESOLUCIÓN CLT/589/2021, de 2 de marzo, por la...   \n",
       "9   RESOLUCIÓN CLT/590/2021, de 2 de marzo, por la...   \n",
       "10  RESOLUCIÓN CLT/591/2021, de 2 de marzo, por la...   \n",
       "11  ORDEN JUS/50/2021, de 2 de marzo, por la que s...   \n",
       "12  RESOLUCIÓN ARP/593/2021, de 2 de marzo, por la...   \n",
       "13  RESOLUCIÓN ARP/594/2021, de 1 de marzo, por la...   \n",
       "\n",
       "                                         item_urlHTML  \\\n",
       "0   https://dogc.gencat.cat/es/document-del-dogc/?...   \n",
       "1   https://dogc.gencat.cat/es/document-del-dogc/?...   \n",
       "2   https://dogc.gencat.cat/es/document-del-dogc/?...   \n",
       "3   https://dogc.gencat.cat/es/document-del-dogc/?...   \n",
       "4   https://dogc.gencat.cat/es/document-del-dogc/?...   \n",
       "5   https://dogc.gencat.cat/es/document-del-dogc/?...   \n",
       "6   https://dogc.gencat.cat/es/document-del-dogc/?...   \n",
       "7   https://dogc.gencat.cat/es/document-del-dogc/?...   \n",
       "8   https://dogc.gencat.cat/es/document-del-dogc/?...   \n",
       "9   https://dogc.gencat.cat/es/document-del-dogc/?...   \n",
       "10  https://dogc.gencat.cat/es/document-del-dogc/?...   \n",
       "11  https://dogc.gencat.cat/es/document-del-dogc/?...   \n",
       "12  https://dogc.gencat.cat/es/document-del-dogc/?...   \n",
       "13  https://dogc.gencat.cat/es/document-del-dogc/?...   \n",
       "\n",
       "                                          item_urlPDF  \n",
       "0   https://portaldogc.gencat.cat/utilsEADOP/AppJa...  \n",
       "1   https://portaldogc.gencat.cat/utilsEADOP/AppJa...  \n",
       "2   https://portaldogc.gencat.cat/utilsEADOP/AppJa...  \n",
       "3   https://portaldogc.gencat.cat/utilsEADOP/AppJa...  \n",
       "4   https://portaldogc.gencat.cat/utilsEADOP/AppJa...  \n",
       "5   https://portaldogc.gencat.cat/utilsEADOP/AppJa...  \n",
       "6   https://portaldogc.gencat.cat/utilsEADOP/AppJa...  \n",
       "7   https://portaldogc.gencat.cat/utilsEADOP/AppJa...  \n",
       "8   https://portaldogc.gencat.cat/utilsEADOP/AppJa...  \n",
       "9   https://portaldogc.gencat.cat/utilsEADOP/AppJa...  \n",
       "10  https://portaldogc.gencat.cat/utilsEADOP/AppJa...  \n",
       "11  https://portaldogc.gencat.cat/utilsEADOP/AppJa...  \n",
       "12  https://portaldogc.gencat.cat/utilsEADOP/AppJa...  \n",
       "13  https://portaldogc.gencat.cat/utilsEADOP/AppJa...  "
      ],
      "text/html": "<div>\n<style scoped>\n    .dataframe tbody tr th:only-of-type {\n        vertical-align: middle;\n    }\n\n    .dataframe tbody tr th {\n        vertical-align: top;\n    }\n\n    .dataframe thead th {\n        text-align: right;\n    }\n</style>\n<table border=\"1\" class=\"dataframe\">\n  <thead>\n    <tr style=\"text-align: right;\">\n      <th></th>\n      <th>item_Title</th>\n      <th>item_urlHTML</th>\n      <th>item_urlPDF</th>\n    </tr>\n  </thead>\n  <tbody>\n    <tr>\n      <th>0</th>\n      <td>RESOLUCIÓN EXI/583/2021, de 24 de febrero, por...</td>\n      <td>https://dogc.gencat.cat/es/document-del-dogc/?...</td>\n      <td>https://portaldogc.gencat.cat/utilsEADOP/AppJa...</td>\n    </tr>\n    <tr>\n      <th>1</th>\n      <td>EDICTO de 25 de febrero de 2021, sobre acuerdo...</td>\n      <td>https://dogc.gencat.cat/es/document-del-dogc/?...</td>\n      <td>https://portaldogc.gencat.cat/utilsEADOP/AppJa...</td>\n    </tr>\n    <tr>\n      <th>2</th>\n      <td>EDICTO de 26 de febrero de 2021, sobre un acue...</td>\n      <td>https://dogc.gencat.cat/es/document-del-dogc/?...</td>\n      <td>https://portaldogc.gencat.cat/utilsEADOP/AppJa...</td>\n    </tr>\n    <tr>\n      <th>3</th>\n      <td>EDICTO de 26 de febrero de 2021, sobre un acue...</td>\n      <td>https://dogc.gencat.cat/es/document-del-dogc/?...</td>\n      <td>https://portaldogc.gencat.cat/utilsEADOP/AppJa...</td>\n    </tr>\n    <tr>\n      <th>4</th>\n      <td>RESOLUCIÓN TES/585/2021, de 23 de febrero, por...</td>\n      <td>https://dogc.gencat.cat/es/document-del-dogc/?...</td>\n      <td>https://portaldogc.gencat.cat/utilsEADOP/AppJa...</td>\n    </tr>\n    <tr>\n      <th>5</th>\n      <td>RESOLUCIÓN CLT/592/2021, de 2 de marzo, por la...</td>\n      <td>https://dogc.gencat.cat/es/document-del-dogc/?...</td>\n      <td>https://portaldogc.gencat.cat/utilsEADOP/AppJa...</td>\n    </tr>\n    <tr>\n      <th>6</th>\n      <td>RESOLUCIÓN CLT/576/2021, de 1 de marzo, por la...</td>\n      <td>https://dogc.gencat.cat/es/document-del-dogc/?...</td>\n      <td>https://portaldogc.gencat.cat/utilsEADOP/AppJa...</td>\n    </tr>\n    <tr>\n      <th>7</th>\n      <td>RESOLUCIÓN CLT/577/2021, de 1 de marzo, por la...</td>\n      <td>https://dogc.gencat.cat/es/document-del-dogc/?...</td>\n      <td>https://portaldogc.gencat.cat/utilsEADOP/AppJa...</td>\n    </tr>\n    <tr>\n      <th>8</th>\n      <td>RESOLUCIÓN CLT/589/2021, de 2 de marzo, por la...</td>\n      <td>https://dogc.gencat.cat/es/document-del-dogc/?...</td>\n      <td>https://portaldogc.gencat.cat/utilsEADOP/AppJa...</td>\n    </tr>\n    <tr>\n      <th>9</th>\n      <td>RESOLUCIÓN CLT/590/2021, de 2 de marzo, por la...</td>\n      <td>https://dogc.gencat.cat/es/document-del-dogc/?...</td>\n      <td>https://portaldogc.gencat.cat/utilsEADOP/AppJa...</td>\n    </tr>\n    <tr>\n      <th>10</th>\n      <td>RESOLUCIÓN CLT/591/2021, de 2 de marzo, por la...</td>\n      <td>https://dogc.gencat.cat/es/document-del-dogc/?...</td>\n      <td>https://portaldogc.gencat.cat/utilsEADOP/AppJa...</td>\n    </tr>\n    <tr>\n      <th>11</th>\n      <td>ORDEN JUS/50/2021, de 2 de marzo, por la que s...</td>\n      <td>https://dogc.gencat.cat/es/document-del-dogc/?...</td>\n      <td>https://portaldogc.gencat.cat/utilsEADOP/AppJa...</td>\n    </tr>\n    <tr>\n      <th>12</th>\n      <td>RESOLUCIÓN ARP/593/2021, de 2 de marzo, por la...</td>\n      <td>https://dogc.gencat.cat/es/document-del-dogc/?...</td>\n      <td>https://portaldogc.gencat.cat/utilsEADOP/AppJa...</td>\n    </tr>\n    <tr>\n      <th>13</th>\n      <td>RESOLUCIÓN ARP/594/2021, de 1 de marzo, por la...</td>\n      <td>https://dogc.gencat.cat/es/document-del-dogc/?...</td>\n      <td>https://portaldogc.gencat.cat/utilsEADOP/AppJa...</td>\n    </tr>\n  </tbody>\n</table>\n</div>"
     },
     "metadata": {},
     "execution_count": 25
    }
   ],
   "source": [
    "DOGC_sumarios"
   ]
  },
  {
   "cell_type": "code",
   "execution_count": 26,
   "metadata": {},
   "outputs": [
    {
     "output_type": "execute_result",
     "data": {
      "text/plain": [
       "'https://dogc.gencat.cat/es/document-del-dogc/?documentId=894866'"
      ]
     },
     "metadata": {},
     "execution_count": 26
    }
   ],
   "source": [
    "DOGC_sumarios['item_urlHTML'][1]"
   ]
  },
  {
   "cell_type": "code",
   "execution_count": 27,
   "metadata": {},
   "outputs": [],
   "source": [
    "### Recoge información de página de detalle con Selenium\n",
    "### es necesario ya que la página se genera con un JS y\n",
    "### hay que renderizarla con un headless web browser\n",
    "\n",
    "options = webdriver.ChromeOptions()\n",
    "options.headless = True\n",
    "driver = webdriver.Chrome(options=options)\n",
    "\n",
    "DOGC_sumarios['item_fullText'] = ''\n",
    "DOGC_sumarios['item_urlXML'] = ''\n",
    "DOGC_sumarios['tipo_doc'] = ''\n",
    "DOGC_sumarios['fecha_doc'] = ''\n",
    "DOGC_sumarios['numero_doc'] = ''\n",
    "DOGC_sumarios['numero_control'] = ''\n",
    "DOGC_sumarios['entidad_emisora'] = ''\n",
    "DOGC_sumarios['CVE'] = ''\n",
    "DOGC_sumarios['numero_DOGC'] = ''\n",
    "DOGC_sumarios['fecha_DOGC'] = ''\n",
    "DOGC_sumarios['seccion_DOGC'] = ''\n",
    "\n",
    "for i, row in DOGC_sumarios.iterrows():\n",
    "    # carga página HTML y genera árbol\n",
    "    driver.get(row['item_urlHTML'])\n",
    "    #print(driver.page_source)\n",
    "\n",
    "    # clica sobre desplegable 'datos del documento' para generar contenido\n",
    "    driver.find_element_by_xpath('//div[@class=\"panel-title\"]/a[@href=\"#disposicions\"]').click()\n",
    "    time.sleep(3)\n",
    "\n",
    "    response = driver.page_source\n",
    "    sumario_HTML = html.fromstring(response)\n",
    "\n",
    "    # Genera columnas de la tabla con Datos de los documentos\n",
    "    item_urlXML = sumario_HTML.xpath('//*[@id=\"download\"]/a[4]/@href')\n",
    "\n",
    "    tipo_doc = sumario_HTML.xpath('//*[@id=\"disposicions_cos_bloc\"]/li[contains(text()[1],\"Tipo de documento\")]/text()[2]')\n",
    "    fecha_doc = sumario_HTML.xpath('//*[@id=\"disposicions_cos_bloc\"]/li[contains(text()[1],\"Fecha del documento\")]/text()[2]')\n",
    "    numero_doc = sumario_HTML.xpath('//*[@id=\"disposicions_cos_bloc\"]/li[contains(text()[1],\"Número de documento\")]/text()[2]')\n",
    "    numero_control = sumario_HTML.xpath('//*[@id=\"disposicions_cos_bloc\"]/li[contains(text()[1],\"Número de control\")]/text()[2]')\n",
    "    entidad_emisora = sumario_HTML.xpath('//*[@id=\"disposicions_cos_bloc\"]/li[contains(text()[1],\"Entidad emisora\")]/text()[2]')\n",
    "    CVE = sumario_HTML.xpath('//*[@id=\"disposicions_cos_bloc\"]/li[contains(text()[1],\"CVE\")]/text()[2]')\n",
    "    numero_DOGC = sumario_HTML.xpath('//*[@id=\"disposicions_cos_bloc\"]/li[contains(text()[1],\"Número del DOGC\")]/text()[2]')\n",
    "    fecha_DOGC = sumario_HTML.xpath('//*[@id=\"disposicions_cos_bloc\"]/li[contains(text()[1],\"Fecha del DOGC\")]/text()[2]')\n",
    "    seccion_DOGC = sumario_HTML.xpath('//*[@id=\"disposicions_cos_bloc\"]/li[contains(text()[1],\"Sección del DOGC\")]/text()[2]')\n",
    "\n",
    "    DOGC_sumarios['item_urlXML'][i] = item_urlXML\n",
    "\n",
    "    DOGC_sumarios['tipo_doc'][i] = tipo_doc\n",
    "    DOGC_sumarios['fecha_doc'][i] = fecha_doc\n",
    "    DOGC_sumarios['numero_doc'][i] = numero_doc\n",
    "    DOGC_sumarios['numero_control'][i] = numero_control\n",
    "    DOGC_sumarios['entidad_emisora'][i] = entidad_emisora\n",
    "    DOGC_sumarios['CVE'][i] = CVE\n",
    "    DOGC_sumarios['numero_DOGC'][i] = numero_DOGC\n",
    "    DOGC_sumarios['fecha_DOGC'][i] = fecha_DOGC\n",
    "    DOGC_sumarios['seccion_DOGC'][i] = seccion_DOGC\n",
    "\n",
    "    # Recoge en una lista todos los parágrafos del texto completo\n",
    "    fullText = []\n",
    "    for div in sumario_HTML.xpath('//*[@id=\"fullText\"]/div/div/div'):\n",
    "        fullText.append(div.text_content())\n",
    "\n",
    "    # Convierte la lista en una string\n",
    "    fullText = ' '.join(fullText)\n",
    "\n",
    "    DOGC_sumarios['item_fullText'][i] = fullText\n",
    "\n",
    "\n",
    "driver.quit()"
   ]
  },
  {
   "cell_type": "code",
   "execution_count": 28,
   "metadata": {},
   "outputs": [
    {
     "output_type": "execute_result",
     "data": {
      "text/plain": [
       "                                           item_Title  \\\n",
       "0   RESOLUCIÓN EXI/583/2021, de 24 de febrero, por...   \n",
       "1   EDICTO de 25 de febrero de 2021, sobre acuerdo...   \n",
       "2   EDICTO de 26 de febrero de 2021, sobre un acue...   \n",
       "3   EDICTO de 26 de febrero de 2021, sobre un acue...   \n",
       "4   RESOLUCIÓN TES/585/2021, de 23 de febrero, por...   \n",
       "5   RESOLUCIÓN CLT/592/2021, de 2 de marzo, por la...   \n",
       "6   RESOLUCIÓN CLT/576/2021, de 1 de marzo, por la...   \n",
       "7   RESOLUCIÓN CLT/577/2021, de 1 de marzo, por la...   \n",
       "8   RESOLUCIÓN CLT/589/2021, de 2 de marzo, por la...   \n",
       "9   RESOLUCIÓN CLT/590/2021, de 2 de marzo, por la...   \n",
       "10  RESOLUCIÓN CLT/591/2021, de 2 de marzo, por la...   \n",
       "11  ORDEN JUS/50/2021, de 2 de marzo, por la que s...   \n",
       "12  RESOLUCIÓN ARP/593/2021, de 2 de marzo, por la...   \n",
       "13  RESOLUCIÓN ARP/594/2021, de 1 de marzo, por la...   \n",
       "\n",
       "                                         item_urlHTML  \\\n",
       "0   https://dogc.gencat.cat/es/document-del-dogc/?...   \n",
       "1   https://dogc.gencat.cat/es/document-del-dogc/?...   \n",
       "2   https://dogc.gencat.cat/es/document-del-dogc/?...   \n",
       "3   https://dogc.gencat.cat/es/document-del-dogc/?...   \n",
       "4   https://dogc.gencat.cat/es/document-del-dogc/?...   \n",
       "5   https://dogc.gencat.cat/es/document-del-dogc/?...   \n",
       "6   https://dogc.gencat.cat/es/document-del-dogc/?...   \n",
       "7   https://dogc.gencat.cat/es/document-del-dogc/?...   \n",
       "8   https://dogc.gencat.cat/es/document-del-dogc/?...   \n",
       "9   https://dogc.gencat.cat/es/document-del-dogc/?...   \n",
       "10  https://dogc.gencat.cat/es/document-del-dogc/?...   \n",
       "11  https://dogc.gencat.cat/es/document-del-dogc/?...   \n",
       "12  https://dogc.gencat.cat/es/document-del-dogc/?...   \n",
       "13  https://dogc.gencat.cat/es/document-del-dogc/?...   \n",
       "\n",
       "                                          item_urlPDF  \\\n",
       "0   https://portaldogc.gencat.cat/utilsEADOP/AppJa...   \n",
       "1   https://portaldogc.gencat.cat/utilsEADOP/AppJa...   \n",
       "2   https://portaldogc.gencat.cat/utilsEADOP/AppJa...   \n",
       "3   https://portaldogc.gencat.cat/utilsEADOP/AppJa...   \n",
       "4   https://portaldogc.gencat.cat/utilsEADOP/AppJa...   \n",
       "5   https://portaldogc.gencat.cat/utilsEADOP/AppJa...   \n",
       "6   https://portaldogc.gencat.cat/utilsEADOP/AppJa...   \n",
       "7   https://portaldogc.gencat.cat/utilsEADOP/AppJa...   \n",
       "8   https://portaldogc.gencat.cat/utilsEADOP/AppJa...   \n",
       "9   https://portaldogc.gencat.cat/utilsEADOP/AppJa...   \n",
       "10  https://portaldogc.gencat.cat/utilsEADOP/AppJa...   \n",
       "11  https://portaldogc.gencat.cat/utilsEADOP/AppJa...   \n",
       "12  https://portaldogc.gencat.cat/utilsEADOP/AppJa...   \n",
       "13  https://portaldogc.gencat.cat/utilsEADOP/AppJa...   \n",
       "\n",
       "                                        item_fullText  \\\n",
       "0   En fecha 1 de febrero de 2021 se ha firmado el...   \n",
       "1   La Comisión Territorial de Urbanismo de la Cat...   \n",
       "2   La Comisión de Territorio de Cataluña, en la s...   \n",
       "3   La Comisión Territorial de Urbanismo del ámbit...   \n",
       "4   El artículo 3.6 del Decreto 1/2018, de 19 de m...   \n",
       "5   Considerando el Acuerdo del Consejo de Adminis...   \n",
       "6    \\nVisto el Acuerdo del Consejo de Administrac...   \n",
       "7   Visto el Acuerdo del Consejo de Administración...   \n",
       "8   Visto el Acuerdo del Consejo de Administración...   \n",
       "9   Visto el Acuerdo del Consejo de Administración...   \n",
       "10  Visto el Acuerdo del Consejo de Administración...   \n",
       "11  Mediante el Acuerdo GOV/28/2019, de 11 de febr...   \n",
       "12   \\nLas solicitudes presentadas por las entidad...   \n",
       "13   \\nLas sociedades agrarias de transformación q...   \n",
       "\n",
       "                                          item_urlXML      tipo_doc  \\\n",
       "0   [https://portaldogc.gencat.cat/utilsEADOP/AppJ...  [Resolución]   \n",
       "1   [https://portaldogc.gencat.cat/utilsEADOP/AppJ...     [Edicto ]   \n",
       "2   [https://portaldogc.gencat.cat/utilsEADOP/AppJ...     [Edicto ]   \n",
       "3   [https://portaldogc.gencat.cat/utilsEADOP/AppJ...     [Edicto ]   \n",
       "4   [https://portaldogc.gencat.cat/utilsEADOP/AppJ...  [Resolución]   \n",
       "5   [https://portaldogc.gencat.cat/utilsEADOP/AppJ...  [Resolución]   \n",
       "6   [https://portaldogc.gencat.cat/utilsEADOP/AppJ...  [Resolución]   \n",
       "7   [https://portaldogc.gencat.cat/utilsEADOP/AppJ...  [Resolución]   \n",
       "8   [https://portaldogc.gencat.cat/utilsEADOP/AppJ...  [Resolución]   \n",
       "9   [https://portaldogc.gencat.cat/utilsEADOP/AppJ...  [Resolución]   \n",
       "10  [https://portaldogc.gencat.cat/utilsEADOP/AppJ...  [Resolución]   \n",
       "11  [https://portaldogc.gencat.cat/utilsEADOP/AppJ...       [Orden]   \n",
       "12  [https://portaldogc.gencat.cat/utilsEADOP/AppJ...  [Resolución]   \n",
       "13  [https://portaldogc.gencat.cat/utilsEADOP/AppJ...  [Resolución]   \n",
       "\n",
       "       fecha_doc       numero_doc numero_control  \\\n",
       "0   [24/02/2021]  [EXI/0583/2021]     [21062037]   \n",
       "1   [25/02/2021]               []     [21057021]   \n",
       "2   [26/02/2021]               []     [21057014]   \n",
       "3   [26/02/2021]               []     [21057074]   \n",
       "4   [23/02/2021]  [TES/0585/2021]     [21062039]   \n",
       "5   [02/03/2021]  [CLT/0592/2021]     [21062040]   \n",
       "6   [01/03/2021]  [CLT/0576/2021]     [21061067]   \n",
       "7   [01/03/2021]  [CLT/0577/2021]     [21061068]   \n",
       "8   [02/03/2021]  [CLT/0589/2021]     [21062044]   \n",
       "9   [02/03/2021]  [CLT/0590/2021]     [21062045]   \n",
       "10  [02/03/2021]  [CLT/0591/2021]     [21062046]   \n",
       "11  [02/03/2021]  [JUS/0050/2021]     [21062047]   \n",
       "12  [02/03/2021]  [ARP/0593/2021]     [21062049]   \n",
       "13  [01/03/2021]  [ARP/0594/2021]     [21062050]   \n",
       "\n",
       "                                      entidad_emisora  \\\n",
       "0     [Agencia Catalana de Cooperación al Desarrollo]   \n",
       "1       [Departamento de Territorio y Sostenibilidad]   \n",
       "2       [Departamento de Territorio y Sostenibilidad]   \n",
       "3       [Departamento de Territorio y Sostenibilidad]   \n",
       "4                [Agencia de la Vivienda de Cataluña]   \n",
       "5         [Oficina de Apoyo a la Iniciativa Cultural]   \n",
       "6      [Instituto Catalán de las Empresas Culturales]   \n",
       "7      [Instituto Catalán de las Empresas Culturales]   \n",
       "8      [Instituto Catalán de las Empresas Culturales]   \n",
       "9      [Instituto Catalán de las Empresas Culturales]   \n",
       "10     [Instituto Catalán de las Empresas Culturales]   \n",
       "11                         [Departamento de Justicia]   \n",
       "12  [Departamento de Agricultura, Ganadería, Pesca...   \n",
       "13  [Departamento de Agricultura, Ganadería, Pesca...   \n",
       "\n",
       "                           CVE numero_DOGC    fecha_DOGC     seccion_DOGC  \n",
       "0   [CVE-DOGC-B-21062037-2021]      [8357]  [05/03/2021]  [Disposiciones]  \n",
       "1   [CVE-DOGC-B-21057021-2021]      [8357]  [05/03/2021]  [Disposiciones]  \n",
       "2   [CVE-DOGC-B-21057014-2021]      [8357]  [05/03/2021]  [Disposiciones]  \n",
       "3   [CVE-DOGC-B-21057074-2021]      [8357]  [05/03/2021]  [Disposiciones]  \n",
       "4   [CVE-DOGC-B-21062039-2021]      [8357]  [05/03/2021]  [Disposiciones]  \n",
       "5   [CVE-DOGC-B-21062040-2021]      [8357]  [05/03/2021]  [Disposiciones]  \n",
       "6   [CVE-DOGC-B-21061067-2021]      [8357]  [05/03/2021]  [Disposiciones]  \n",
       "7   [CVE-DOGC-B-21061068-2021]      [8357]  [05/03/2021]  [Disposiciones]  \n",
       "8   [CVE-DOGC-B-21062044-2021]      [8357]  [05/03/2021]  [Disposiciones]  \n",
       "9   [CVE-DOGC-B-21062045-2021]      [8357]  [05/03/2021]  [Disposiciones]  \n",
       "10  [CVE-DOGC-B-21062046-2021]      [8357]  [05/03/2021]  [Disposiciones]  \n",
       "11  [CVE-DOGC-B-21062047-2021]      [8357]  [05/03/2021]  [Disposiciones]  \n",
       "12  [CVE-DOGC-B-21062049-2021]      [8357]  [05/03/2021]  [Disposiciones]  \n",
       "13  [CVE-DOGC-B-21062050-2021]      [8357]  [05/03/2021]  [Disposiciones]  "
      ],
      "text/html": "<div>\n<style scoped>\n    .dataframe tbody tr th:only-of-type {\n        vertical-align: middle;\n    }\n\n    .dataframe tbody tr th {\n        vertical-align: top;\n    }\n\n    .dataframe thead th {\n        text-align: right;\n    }\n</style>\n<table border=\"1\" class=\"dataframe\">\n  <thead>\n    <tr style=\"text-align: right;\">\n      <th></th>\n      <th>item_Title</th>\n      <th>item_urlHTML</th>\n      <th>item_urlPDF</th>\n      <th>item_fullText</th>\n      <th>item_urlXML</th>\n      <th>tipo_doc</th>\n      <th>fecha_doc</th>\n      <th>numero_doc</th>\n      <th>numero_control</th>\n      <th>entidad_emisora</th>\n      <th>CVE</th>\n      <th>numero_DOGC</th>\n      <th>fecha_DOGC</th>\n      <th>seccion_DOGC</th>\n    </tr>\n  </thead>\n  <tbody>\n    <tr>\n      <th>0</th>\n      <td>RESOLUCIÓN EXI/583/2021, de 24 de febrero, por...</td>\n      <td>https://dogc.gencat.cat/es/document-del-dogc/?...</td>\n      <td>https://portaldogc.gencat.cat/utilsEADOP/AppJa...</td>\n      <td>En fecha 1 de febrero de 2021 se ha firmado el...</td>\n      <td>[https://portaldogc.gencat.cat/utilsEADOP/AppJ...</td>\n      <td>[Resolución]</td>\n      <td>[24/02/2021]</td>\n      <td>[EXI/0583/2021]</td>\n      <td>[21062037]</td>\n      <td>[Agencia Catalana de Cooperación al Desarrollo]</td>\n      <td>[CVE-DOGC-B-21062037-2021]</td>\n      <td>[8357]</td>\n      <td>[05/03/2021]</td>\n      <td>[Disposiciones]</td>\n    </tr>\n    <tr>\n      <th>1</th>\n      <td>EDICTO de 25 de febrero de 2021, sobre acuerdo...</td>\n      <td>https://dogc.gencat.cat/es/document-del-dogc/?...</td>\n      <td>https://portaldogc.gencat.cat/utilsEADOP/AppJa...</td>\n      <td>La Comisión Territorial de Urbanismo de la Cat...</td>\n      <td>[https://portaldogc.gencat.cat/utilsEADOP/AppJ...</td>\n      <td>[Edicto ]</td>\n      <td>[25/02/2021]</td>\n      <td>[]</td>\n      <td>[21057021]</td>\n      <td>[Departamento de Territorio y Sostenibilidad]</td>\n      <td>[CVE-DOGC-B-21057021-2021]</td>\n      <td>[8357]</td>\n      <td>[05/03/2021]</td>\n      <td>[Disposiciones]</td>\n    </tr>\n    <tr>\n      <th>2</th>\n      <td>EDICTO de 26 de febrero de 2021, sobre un acue...</td>\n      <td>https://dogc.gencat.cat/es/document-del-dogc/?...</td>\n      <td>https://portaldogc.gencat.cat/utilsEADOP/AppJa...</td>\n      <td>La Comisión de Territorio de Cataluña, en la s...</td>\n      <td>[https://portaldogc.gencat.cat/utilsEADOP/AppJ...</td>\n      <td>[Edicto ]</td>\n      <td>[26/02/2021]</td>\n      <td>[]</td>\n      <td>[21057014]</td>\n      <td>[Departamento de Territorio y Sostenibilidad]</td>\n      <td>[CVE-DOGC-B-21057014-2021]</td>\n      <td>[8357]</td>\n      <td>[05/03/2021]</td>\n      <td>[Disposiciones]</td>\n    </tr>\n    <tr>\n      <th>3</th>\n      <td>EDICTO de 26 de febrero de 2021, sobre un acue...</td>\n      <td>https://dogc.gencat.cat/es/document-del-dogc/?...</td>\n      <td>https://portaldogc.gencat.cat/utilsEADOP/AppJa...</td>\n      <td>La Comisión Territorial de Urbanismo del ámbit...</td>\n      <td>[https://portaldogc.gencat.cat/utilsEADOP/AppJ...</td>\n      <td>[Edicto ]</td>\n      <td>[26/02/2021]</td>\n      <td>[]</td>\n      <td>[21057074]</td>\n      <td>[Departamento de Territorio y Sostenibilidad]</td>\n      <td>[CVE-DOGC-B-21057074-2021]</td>\n      <td>[8357]</td>\n      <td>[05/03/2021]</td>\n      <td>[Disposiciones]</td>\n    </tr>\n    <tr>\n      <th>4</th>\n      <td>RESOLUCIÓN TES/585/2021, de 23 de febrero, por...</td>\n      <td>https://dogc.gencat.cat/es/document-del-dogc/?...</td>\n      <td>https://portaldogc.gencat.cat/utilsEADOP/AppJa...</td>\n      <td>El artículo 3.6 del Decreto 1/2018, de 19 de m...</td>\n      <td>[https://portaldogc.gencat.cat/utilsEADOP/AppJ...</td>\n      <td>[Resolución]</td>\n      <td>[23/02/2021]</td>\n      <td>[TES/0585/2021]</td>\n      <td>[21062039]</td>\n      <td>[Agencia de la Vivienda de Cataluña]</td>\n      <td>[CVE-DOGC-B-21062039-2021]</td>\n      <td>[8357]</td>\n      <td>[05/03/2021]</td>\n      <td>[Disposiciones]</td>\n    </tr>\n    <tr>\n      <th>5</th>\n      <td>RESOLUCIÓN CLT/592/2021, de 2 de marzo, por la...</td>\n      <td>https://dogc.gencat.cat/es/document-del-dogc/?...</td>\n      <td>https://portaldogc.gencat.cat/utilsEADOP/AppJa...</td>\n      <td>Considerando el Acuerdo del Consejo de Adminis...</td>\n      <td>[https://portaldogc.gencat.cat/utilsEADOP/AppJ...</td>\n      <td>[Resolución]</td>\n      <td>[02/03/2021]</td>\n      <td>[CLT/0592/2021]</td>\n      <td>[21062040]</td>\n      <td>[Oficina de Apoyo a la Iniciativa Cultural]</td>\n      <td>[CVE-DOGC-B-21062040-2021]</td>\n      <td>[8357]</td>\n      <td>[05/03/2021]</td>\n      <td>[Disposiciones]</td>\n    </tr>\n    <tr>\n      <th>6</th>\n      <td>RESOLUCIÓN CLT/576/2021, de 1 de marzo, por la...</td>\n      <td>https://dogc.gencat.cat/es/document-del-dogc/?...</td>\n      <td>https://portaldogc.gencat.cat/utilsEADOP/AppJa...</td>\n      <td>\\nVisto el Acuerdo del Consejo de Administrac...</td>\n      <td>[https://portaldogc.gencat.cat/utilsEADOP/AppJ...</td>\n      <td>[Resolución]</td>\n      <td>[01/03/2021]</td>\n      <td>[CLT/0576/2021]</td>\n      <td>[21061067]</td>\n      <td>[Instituto Catalán de las Empresas Culturales]</td>\n      <td>[CVE-DOGC-B-21061067-2021]</td>\n      <td>[8357]</td>\n      <td>[05/03/2021]</td>\n      <td>[Disposiciones]</td>\n    </tr>\n    <tr>\n      <th>7</th>\n      <td>RESOLUCIÓN CLT/577/2021, de 1 de marzo, por la...</td>\n      <td>https://dogc.gencat.cat/es/document-del-dogc/?...</td>\n      <td>https://portaldogc.gencat.cat/utilsEADOP/AppJa...</td>\n      <td>Visto el Acuerdo del Consejo de Administración...</td>\n      <td>[https://portaldogc.gencat.cat/utilsEADOP/AppJ...</td>\n      <td>[Resolución]</td>\n      <td>[01/03/2021]</td>\n      <td>[CLT/0577/2021]</td>\n      <td>[21061068]</td>\n      <td>[Instituto Catalán de las Empresas Culturales]</td>\n      <td>[CVE-DOGC-B-21061068-2021]</td>\n      <td>[8357]</td>\n      <td>[05/03/2021]</td>\n      <td>[Disposiciones]</td>\n    </tr>\n    <tr>\n      <th>8</th>\n      <td>RESOLUCIÓN CLT/589/2021, de 2 de marzo, por la...</td>\n      <td>https://dogc.gencat.cat/es/document-del-dogc/?...</td>\n      <td>https://portaldogc.gencat.cat/utilsEADOP/AppJa...</td>\n      <td>Visto el Acuerdo del Consejo de Administración...</td>\n      <td>[https://portaldogc.gencat.cat/utilsEADOP/AppJ...</td>\n      <td>[Resolución]</td>\n      <td>[02/03/2021]</td>\n      <td>[CLT/0589/2021]</td>\n      <td>[21062044]</td>\n      <td>[Instituto Catalán de las Empresas Culturales]</td>\n      <td>[CVE-DOGC-B-21062044-2021]</td>\n      <td>[8357]</td>\n      <td>[05/03/2021]</td>\n      <td>[Disposiciones]</td>\n    </tr>\n    <tr>\n      <th>9</th>\n      <td>RESOLUCIÓN CLT/590/2021, de 2 de marzo, por la...</td>\n      <td>https://dogc.gencat.cat/es/document-del-dogc/?...</td>\n      <td>https://portaldogc.gencat.cat/utilsEADOP/AppJa...</td>\n      <td>Visto el Acuerdo del Consejo de Administración...</td>\n      <td>[https://portaldogc.gencat.cat/utilsEADOP/AppJ...</td>\n      <td>[Resolución]</td>\n      <td>[02/03/2021]</td>\n      <td>[CLT/0590/2021]</td>\n      <td>[21062045]</td>\n      <td>[Instituto Catalán de las Empresas Culturales]</td>\n      <td>[CVE-DOGC-B-21062045-2021]</td>\n      <td>[8357]</td>\n      <td>[05/03/2021]</td>\n      <td>[Disposiciones]</td>\n    </tr>\n    <tr>\n      <th>10</th>\n      <td>RESOLUCIÓN CLT/591/2021, de 2 de marzo, por la...</td>\n      <td>https://dogc.gencat.cat/es/document-del-dogc/?...</td>\n      <td>https://portaldogc.gencat.cat/utilsEADOP/AppJa...</td>\n      <td>Visto el Acuerdo del Consejo de Administración...</td>\n      <td>[https://portaldogc.gencat.cat/utilsEADOP/AppJ...</td>\n      <td>[Resolución]</td>\n      <td>[02/03/2021]</td>\n      <td>[CLT/0591/2021]</td>\n      <td>[21062046]</td>\n      <td>[Instituto Catalán de las Empresas Culturales]</td>\n      <td>[CVE-DOGC-B-21062046-2021]</td>\n      <td>[8357]</td>\n      <td>[05/03/2021]</td>\n      <td>[Disposiciones]</td>\n    </tr>\n    <tr>\n      <th>11</th>\n      <td>ORDEN JUS/50/2021, de 2 de marzo, por la que s...</td>\n      <td>https://dogc.gencat.cat/es/document-del-dogc/?...</td>\n      <td>https://portaldogc.gencat.cat/utilsEADOP/AppJa...</td>\n      <td>Mediante el Acuerdo GOV/28/2019, de 11 de febr...</td>\n      <td>[https://portaldogc.gencat.cat/utilsEADOP/AppJ...</td>\n      <td>[Orden]</td>\n      <td>[02/03/2021]</td>\n      <td>[JUS/0050/2021]</td>\n      <td>[21062047]</td>\n      <td>[Departamento de Justicia]</td>\n      <td>[CVE-DOGC-B-21062047-2021]</td>\n      <td>[8357]</td>\n      <td>[05/03/2021]</td>\n      <td>[Disposiciones]</td>\n    </tr>\n    <tr>\n      <th>12</th>\n      <td>RESOLUCIÓN ARP/593/2021, de 2 de marzo, por la...</td>\n      <td>https://dogc.gencat.cat/es/document-del-dogc/?...</td>\n      <td>https://portaldogc.gencat.cat/utilsEADOP/AppJa...</td>\n      <td>\\nLas solicitudes presentadas por las entidad...</td>\n      <td>[https://portaldogc.gencat.cat/utilsEADOP/AppJ...</td>\n      <td>[Resolución]</td>\n      <td>[02/03/2021]</td>\n      <td>[ARP/0593/2021]</td>\n      <td>[21062049]</td>\n      <td>[Departamento de Agricultura, Ganadería, Pesca...</td>\n      <td>[CVE-DOGC-B-21062049-2021]</td>\n      <td>[8357]</td>\n      <td>[05/03/2021]</td>\n      <td>[Disposiciones]</td>\n    </tr>\n    <tr>\n      <th>13</th>\n      <td>RESOLUCIÓN ARP/594/2021, de 1 de marzo, por la...</td>\n      <td>https://dogc.gencat.cat/es/document-del-dogc/?...</td>\n      <td>https://portaldogc.gencat.cat/utilsEADOP/AppJa...</td>\n      <td>\\nLas sociedades agrarias de transformación q...</td>\n      <td>[https://portaldogc.gencat.cat/utilsEADOP/AppJ...</td>\n      <td>[Resolución]</td>\n      <td>[01/03/2021]</td>\n      <td>[ARP/0594/2021]</td>\n      <td>[21062050]</td>\n      <td>[Departamento de Agricultura, Ganadería, Pesca...</td>\n      <td>[CVE-DOGC-B-21062050-2021]</td>\n      <td>[8357]</td>\n      <td>[05/03/2021]</td>\n      <td>[Disposiciones]</td>\n    </tr>\n  </tbody>\n</table>\n</div>"
     },
     "metadata": {},
     "execution_count": 28
    }
   ],
   "source": [
    "DOGC_sumarios"
   ]
  },
  {
   "cell_type": "code",
   "execution_count": 29,
   "metadata": {},
   "outputs": [
    {
     "output_type": "execute_result",
     "data": {
      "text/plain": [
       "'En fecha 1 de febrero de 2021 se ha firmado el Convenio de cooperación educativa entre la Facultad de Economía y Empresa de la Universidad de Barcelona (UB) y la Agencia Catalana de Cooperación al Desarrollo (ACCD) para la realización de prácticas académicas externas.\\nVistos el artículo 112.2 de la Ley 26/2010, de 3 de agosto, de régimen jurídico y de procedimiento de las administraciones públicas de Cataluña, y el artículo 11 de la Ley 40/2015, de 1 de octubre, de Régimen Jurídico del Sector Público,\\n\\xa0\\nResuelvo:\\n\\xa0\\nHacer público el convenio de cooperación educativa entra la Facultad de Economía y Empresa de la Universidad de Barcelona (UB) y la Agencia Catalana de Cooperación al Desarrollo (ACCD) para la realización de prácticas académicas externas.\\n \\xa0\\nBarcelona, 24 de febrero de 2021\\n\\xa0\\nCarme Gual Via\\nDirectora de la Agencia Catalana de Cooperación al Desarrollo\\n\\xa0\\n\\xa0\\nConvenio de cooperación educativa entra la Facultad de Economía y Empresa de la Universidad de Barcelona (UB) y la Agencia Catalana de Cooperación al Desarrollo (ACCD) para la realización de prácticas académicas externas.\\n\\xa0\\nConvenio de prácticas n. 1604712\\n\\xa0\\nREUNIDOS\\n\\nPor un lado, la señora Carme\\xa0Gual\\xa0Via, directora de la Agencia Catalana de Cooperación al Desarrollo de la Generalidad de Catalunya (ACCD\\xa0en adelante), que actúa en virtud de las facultades que le otorga el artículo 9.3.f) de los Estatutos de la ACCD, nombrada por el Acuerdo GOV/121/2017, de 29 de agosto. (DOGC núm. 7445) y vista la Resolución EXI/1349/2017, de 24 de mayo, de delegación de competencias de la persona titular del Departamento de adscripción a la Dirección de la Agencia Catalana de Cooperación al Desarrollo (DOGC núm. 7390, de 14.6.2017).\\n\\xa0\\nY de la otra parte, el señor Ramon J. Alemany\\xa0Leira, con el NIF Q-0818001-J, como decano de la Facultad de Economía y Empresa de la Universidad de Barcelona (UB en adelante), con domicilio en la Avinguda Diagonal, núm. 690, de Barcelona, con el código postal 08034 y teléfono 934 024 311, que actúa por delegación del rector de esta Universidad.\\n \\nAmbas partes se reconocen mutuamente la capacidad necesaria para otorgar este convenio y a tal efecto.\\n\\xa0\\nMANIFIESTAN\\n1. Que la UB imparte en la actualidad diferentes disciplinas universitarias, los planes de estudios de los cuales prevén la posibilidad que los estudiantes realicen un periodo de prácticas en las instituciones y empresas, ya sea con carácter curricular o extracurricular.\\n2. Que la\\xa0ACCD\\xa0(en adelante la entidad colaboradora) está interesada en colaborar con la UB, mediante la participación activa en la formación práctica de sus estudiantes.\\n3. Que, con el fin de establecer los términos de esta colaboración, ambas partes están interesadas en subscribir este convenio de cooperación educativa, de conformidad con lo que dispone el Real Decreto 592/2014, de 11 de julio, por el cual se regulan las prácticas académicas externas de los estudiantes universitarios, y por la normativa de prácticas académicas externas de los estudiantes de la UB (aprobada por la Comisión Académica el 27 de abril del 2012 y por el Consejo de Gobierno el 8 de mayo del 2012) y que se regirá por las siguientes,\\n \\xa0\\n\\xa0\\nCláusulas\\n\\xa0\\n1. Objeto del convenio de colaboración\\nEl objeto de este convenio es establecer los términos de colaboración que deben regir entre las partes firmantes para que los estudiantes de la UB puedan realizar prácticas académicas externas en las dependencias de la entidad colaboradora, en su caso, y previo acuerdo de las dos partes, y consentimiento de los estudiantes seleccionados, realizar las prácticas de forma telemática o\\xa0semi-presencial, de acuerdo con las concreciones que constan en el anexo que se firmará con el estudiante.\\n\\xa0\\n 2. Condiciones generales de realización de las prácticas\\n2.1 Las prácticas académicas externas constituyen una actividad de naturaleza formativa para los estudiantes que tiene que permitir aplicar y complementar los conocimientos adquiridos en la formación académica, favoreciendo la adquisición de competencias que los preparen para el ejercicio de actividades profesionales, faciliten la ocupación y fomenten su capacidad de emprendimiento.\\xa0\\n2.2 Durante la estancia en prácticas en la entidad colaboradora, los estudiantes harán tareas propias del ámbito profesional en que ejercerán la actividad como graduados/másteres, con el objetivo de completar el aprendizaje teórico y práctico adquirido en la formación académica, conseguir experiencia profesional e investigadora, y obtener competencias y habilidades en los niveles a los cuales puedan acceder por razón de los estudios universitarios matriculados.\\n 2.3 Los estudiantes se sujetarán al horario y las normas fijadas por la entidad colaboradora. En todo caso se procurará que el horario establecido sea compatible con la actividad académica, formativa y de representación y participación desarrollada por el estudiante de la UB.\\n2.4 Los estudiantes desarrollarán la estancia de prácticas bajo la supervisión de dos tutores: un profesional de la entidad colaboradora, designado por esta entidad y que se encargará de orientar y supervisar el trabajo en prácticas del estudiante; y un profesor de la UB, designado por la UB y que se coordinará con el tutor de la entidad colaboradora para hacer un seguimiento efectivo de las prácticas, proporcionar apoyo al estudiante para la elaboración de la memoria y llevar a cabo el proceso evaluador de las prácticas. En el caso de las prácticas extracurriculares el tutor académico tendrá que ser preferentemente un profesor de la UB que imparta docencia en el mismo ámbito de conocimiento que el de la formación académica del estudiante en prácticas.\\n 2.5 La persona tutora designada por la entidad colaboradora fijará el plan de trabajo a seguir, de acuerdo con el proyecto formativo y en coordinación con la tutoría académica, y emitirá un informe final en que se valoren las aptitudes y competencias que recoge el artículo 13 del Real Decreto 592/2014, de 11 de julio, demostradas por el estudiante durante la estancia en prácticas.\\n2.6 A la conclusión de las prácticas, el estudiante tiene que elaborar y entregar al tutor académico una memoria final de las prácticas, donde tienen que figurar, entre otras, las previsiones que recoge el artículo 14 del Real Decreto 592/2014, de 11 de julio, así como aquellas que pueda determinar la normativa de prácticas de la Universidad.\\n2.7 La evaluación final de las prácticas corresponde a la tutoría académica, de conformidad con los criterios de evaluación que se establecen en el convenio específico de colaboración, que se prevé en la cláusula 3 de este convenio, y aquellos que también pueda determinar la normativa de prácticas de la UB.\\n 2.8 La realización de las prácticas no implica en ningún caso la existencia de una relación laboral entre los estudiantes y la entidad colaboradora. En el ámbito de las administraciones públicas, entidades de derecho público y otros organismos públicos, la realización de las prácticas no podrá tener la consideración de mérito para el acceso a la función pública ni puede ser computada a los efectos de antigüedad o reconocimiento de servicios previos.\\n2.9 La entidad colaboradora dará de alta en la Seguridad Social a los estudiantes, siempre que estos reciban una contraprestación económica, cualquiera que sea el concepto o la forma en que se perciba, según establece el Real Decreto 1493/2011, de 24 de octubre, por el cual se regulan los términos y condiciones de inclusión en el régimen general de la Seguridad Social de las personas que participan en programas de formación, en despliegue del que prevé la disposición adicional tercera de la Ley 27/2011, de 1 de agosto, sobre actualización, adecuación y modernización del sistema de la Seguridad Social, y de acuerdo con el contenido de la disposición adicional 25.ª del Real decreto ley 8/2014, de 4 de julio, de aprobación de medidas urgentes para el crecimiento, la competitividad y la eficiencia.\\n 2.10 La entidad colaboradora informará a los estudiantes en prácticas de la normativa de seguridad y prevención de riesgos laborales. Asimismo, deberá disponer de los recursos y medios necesarios para facilitar el acceso a las prácticas de los estudiantes con discapacidad, y la conciliación de las actividades o situaciones personales derivadas de esta situación de discapacidad.\\xa0\\n2.11 La entidad colaboradora podrá abonar a la UB el importe correspondiente en concepto de gastos para cubrir el mantenimiento del servicio y los costes de gestión de éste, siempre que se determine en el convenio específico de colaboración.\\n\\xa0\\n3. Condiciones particulares de la realización de las prácticas\\n3.1 Las partes firmantes subscribirán un convenio específico de colaboración en el cual se deben especificar los siguientes datos:\\na) Identidad del estudiante en prácticas.\\nb) Modalidad de las prácticas (curriculares o extracurriculares).\\nc) Proyecto formativo, con los objetivos educativos y las actividades que se tienen que realizar.\\n d) Plan de seguimiento de las prácticas (con indicación de los informes y/o memorias que debe elaborar el estudiante).\\ne) Duración, horario y periodo de realización de las prácticas.\\nf) Lugar (centro de Trabajo) de realización de las prácticas.\\ng) Identidad de los tutores designados por la entidad colaboradora y por la UB.\\nh) Criterios de evaluación.\\ni) Compromisos del estudiante.\\nj) Especificación que la realización de las prácticas no implica la constitución de ningún vínculo laboral entre la entidad y el estudiante.\\nk) Valoración en créditos, si procede.\\nl) Cuantía y forma de pago de las ayudas al estudio, si procede.\\nm) Cuantía y forma de pago de gastos de gestión a la UB, si procede.\\n3.2 Dicho documento debe contener un apartado de firma para la persona estudiante, en que manifestará que conoce y acepta de forma expresa todas las condiciones de realización de las prácticas relacionadas en este convenio específico de colaboración y que se compromete a cumplir todas las obligaciones que, de acuerdo con las condiciones descritas y la normativa aplicable, le son exigibles. En este mismo apartado, el estudiante se comprometerá de forma expresa a mantener la confidencialidad y el secreto profesional en relación con la información interna y las actividades de la entidad colaboradora.\\n \\xa0\\n4. Régimen de permisos de los estudiantes\\nLos estudiantes pueden ausentarse el tiempo que sea indispensable del lugar donde desarrollen las prácticas académicas siempre que sea necesario para poder atender las obligaciones que se deriven de su actividad académica o de su participación en la actividad de los órganos de gobierno y de representación de la UB, así como por razones de salud o por cualesquiera otros supuestos que acuerden conjuntamente la entidad colaboradora y la UB.\\nEn cualquier caso, los estudiantes deben comunicar dichas ausencias a la entidad colaboradora con antelación suficiente y presentarán los justificantes correspondientes.\\n\\xa0\\n5. Protección de datos\\n5.1 La entidad colaboradora se abstendrá de hacer cualquier tipo de tratamiento de los datos personales de los estudiantes en prácticas más allá del que sea necesario para la consecución de las finalidades de este Convenio. Del mismo modo, se compromete a no manipular, transformar ni ceder a terceros estos datos o los archivos que contengan, fuera del estricto objeto de la relación subscrita por ambas partes, así como a guardarlos en estricta confidencialidad y a informar el estudiante de la forma en que puede ejercer sus derechos de acuerdo con el que dispone la Ley Orgánica 3/2018, de 5 de diciembre, de protección de datos personales y garantía de los derechos digitales, y el Reglamento (UE) 2016/679 del Parlamento Europeo y del Consejo, de 27 de abril de 2016, relativo a la protección de las personas físicas en cuanto al tratamiento de datos personales y a la libre circulación de estas y por el cual se deroga la Directiva 95/46/CE (Reglamento general de protección de datos), así como el resto de normativa complementaria.\\n 5.2 El incumplimiento directo o indirecto de esta cláusula por parte de la entidad colaboradora comporta la responsabilidad directa por los daños y perjuicios que pueda representar para los estudiantes acogidos en prácticas o para la UB.\\n5.3 Al margen de las previsiones generales recogidas en esta cláusula, el convenio específico tiene que incluir la información reglamentaria correspondiente en el tratamiento de los datos personales que deberá ser conocida y aceptada por el alumno.\\n\\xa0\\n6. Seguro\\nEn el desarrollo de las prácticas externas que son objeto de este convenio, los estudiantes de la UB tienen cubiertas las prestaciones por accidente, enfermedad o infortunio familiar por el seguro escolar. En caso de estudiantes mayores de 28 años, y para aquellos colectivos que no estén cubiertos por el seguro escolar, éstos deberán subscribir un seguro privado que cubra las prestaciones relativas a estas contingencias; esta cobertura deber estar vigente en el momento del inicio de las prácticas. Asimismo, los estudiantes tienen cubierta la responsabilidad civil en qué puedan incurrir con ocasión de la realización de las prácticas, en méritos de la póliza de responsabilidad civil colectiva subscrita por la UB.\\nLos estudiantes afectados por la obligación del noveno punto de la cláusula segunda disfrutarán del sistema de prestaciones del régimen general de la Seguridad Social.\\nSi la entidad colaboradora requiere algún otro tipo de seguro, éste será a cargo del estudiante y constará en el convenio específico de colaboración previsto en la cláusula tercera de este Convenio.\\n \\xa0\\n7. Reconocimientos derivados de las prácticas\\n7.1 Una vez finalizada la estancia de prácticas, y previa petición por parte de los estudiantes, la entidad colaboradora emitirá un informe acreditativo de las actividades realizadas, la duración de las prácticas y el rendimiento del estudiante.\\n7.2 En cuanto al reconocimiento de la tarea realizada por las personas tutoras designadas por la entidad colaboradora, la UB, previa petición por parte de la persona interesada, tiene que expedir un certificado de reconocimiento institucional, en que tienen que constar, como mínimo, las características de la colaboración, los estudios en que se ha desarrollado, el número de estudiantes tutorizados y el total de horas tutorizadas.\\n\\xa0\\n8. Vigencia\\nEste convenio de colaboración tendrá vigencia por cursos académicos y hasta un máximo de cuatro años que se podrá prorrogar de manera expresa por un periodo de cuatro años más antes de la fecha de expiración del plazo. La relación se iniciará en el curso académico 2020-2021. Aunque las partes lo denuncien, las prácticas iniciadas con anterioridad al momento mencionado continuarán hasta que finalicen.\\n \\xa0\\n9. Causas de resolución\\xa0\\nLas causas de resolución del presente convenio de cooperación educativa serán:\\na) La expiración del plazo de vigencia.\\nb) El mutuo acuerdo de las partes, manifestado por escrito.\\nc) La imposibilidad sobrevenida legal o material de dar cumplimiento al objeto de este convenio\\nd) El incumplimiento por cualquiera de las partes de este convenio de cooperación o de los específicos que se firmen, de las obligaciones asumidas por este convenio, por el convenio específico o por las disposiciones aplicables. En este caso, la parte interesada a resolver anticipadamente el convenio comunicará su intención a la otra parte con una antelación mínima de quince días.\\ne) Las causas previstas en la legislación aplicable.\\n\\xa0\\n10. Derechos y deberes de los estudiantes y de los tutores\\nDurante la realización de las prácticas académicas externas, los estudiantes tendrán los derechos y las obligaciones que establece el artículo 9 del Real Decreto 592/2014, de 11 de julio, y la normativa de prácticas académicas externas de estudiantes de la Universidad de Barcelona.\\nEl tutor de la entidad colaboradora tendrá los derechos y las obligaciones que establece el artículo 11 del Real Decreto 592/2014, de 11 de julio y la normativa de prácticas académicas externas de estudiantes de la Universidad de Barcelona. El tutor académico de la UB tendrá los derechos y las obligaciones que establece el artículo 12 del Real Decreto 592/2014, de 11 de julio y la normativa de prácticas académicas externas de estudiantes de la Universidad de Barcelona.\\n \\xa0\\n11. Buena fe contractual\\nLas partes firmantes se obligan a cumplir y ejecutar el presente Convenio bajo el principio de buena fe contractual para conseguir los objetivos propuestos en los antecedentes, por lo cual colaborarán en todo lo que sea necesario y se abstendrán de hacer cualquier acto que lesione de manera injustificada los intereses de la otra parte.\\n\\xa0\\n12. Régimen jurídico y resolución de conflictos\\nCualquier controversia que pueda surgir de la aplicación, la interpretación o la ejecución de este Convenio de cooperación, así como de los convenios específicos de colaboración que se subscriban al amparo de éste, se resolverán de mutuo acuerdo entre las partes. Si esto no es posible, las partes renuncian al fuero propio y se someten a los juzgados y tribunales de la ciudad de Barcelona (España) que resulten competentes.\\n\\xa0\\n13. Transparencia\\nDe acuerdo con el artículo 14.3 de la Ley 19/2014, del 29 de diciembre, de transparencia, acceso a la información pública y buen gobierno, el Departamento de Acción Exterior, Relaciones Institucionales y Transparencia, por medio del Registro de Convenios de colaboración y cooperación de la Generalidad, integrará este convenio en el Portal de la Transparencia.\\n \\xa0\\nY como prueba de conformidad, las partes firman este convenio a un solo efecto en la fecha que figura como última de las firmas electrónicas.\\n\\xa0\\nPor la Agencia Catalana de Cooperación al Desarrollo (ACCD)\\nCarme\\xa0Gual\\xa0Via\\nDirectora\\n\\xa0\\nPor la Facultad de Economía y Empresa de la Universidad de Barcelona (UB)\\nRamón J. Alemany Leira\\nDecano\\n'"
      ]
     },
     "metadata": {},
     "execution_count": 29
    }
   ],
   "source": [
    "DOGC_sumarios['item_fullText'][0]"
   ]
  },
  {
   "cell_type": "code",
   "execution_count": 30,
   "metadata": {},
   "outputs": [],
   "source": [
    "# Crea nueva columna vacía de tipo lista en tabla_analisis\n",
    "#DOCM_sumarios['Referencias_completas'] = [[] for i in range(len(tabla_analisis))]\n",
    "DOGC_sumarios['Tags'] = [[] for i in range(len(DOGC_sumarios))]\n",
    "DOGC_sumarios['Match_ASECORP_BBDD'] = [[] for i in range(len(DOGC_sumarios))]"
   ]
  },
  {
   "cell_type": "code",
   "execution_count": 31,
   "metadata": {},
   "outputs": [],
   "source": [
    "pattern = ['Ley [0-9]+\\/[0-9]+','Real Decreto [0-9]+\\/[0-9]+','Real Decreto Legislativo [0-9]+\\/[0-9]+','Real Decreto-ley [0-9]+\\/[0-9]+','Orden [A-Z]+\\/[0-9]+\\/[0-9]+','Orden Circular [0-9]+\\/[0-9]+','Reglamento \\(UE\\) [0-9]+\\/[0-9]+', 'Reglamento de Ejeución \\(UE\\) [0-9]+\\/[0-9]+' ,'Sentencia de [0-9]+ de [a-z]+ de [0-9]+','Sentencia [0-9]+\\/[0-9]+','Orden de [0-9]+ de [a-z]+ de [0-9]+', 'Resolución de [0-9]+ de [a-z]+ de [0-9]+','Resolución [a-z]+\\/[0-9]+\\/[0-9]+', 'Nota de Servicio [0-9]+\\/[0-9]+', 'Acuerdo multilateral M\\-[0-9]+', 'Circular [0-9]+\\/[0-9]+', 'Decisión \\(UE\\) [0-9]+\\/[0-9]+', 'Decisión de Ejecución \\(UE\\) [0-9]+\\/[0-9]+']"
   ]
  },
  {
   "cell_type": "code",
   "execution_count": 32,
   "metadata": {},
   "outputs": [
    {
     "output_type": "stream",
     "name": "stdout",
     "text": [
      "['Ley 26/2010', 'Ley 40/2015', 'Resolución EXI/1349/2017', 'Real Decreto 592/2014', 'Real Decreto 592/2014', 'Real Decreto 592/2014', 'Real Decreto 1493/2011', 'Ley 27/2011', 'ley 8/2014', 'Reglamento (UE) 2016/679', 'Real Decreto 592/2014', 'Real Decreto 592/2014', 'Real Decreto 592/2014', 'Ley 19/2014']\n",
      "['Ley 3/2012', 'Real decreto 463/2020', 'Real decreto 465/2020', 'Ley 39/2015', 'Ley 29/1998', 'Ley 29/1998', 'Ley 3/2012', 'Ley 2/2007', 'Ley 3/2012']\n",
      "['Ley 5/2020', 'Ley 39/2015', 'Ley 29/1998', 'Ley 29/1998', 'Ley 3/2012', 'Ley 2/2007', 'Ley 3/2012']\n",
      "['Resolución de 18 de enero de 2021', 'Ley 3/2012', 'Ley 3/2012', 'Ley 3/2012', 'Ley 3/2012', 'Ley 39/2015', 'Ley 29/1998', 'Ley 29/1998', 'Ley 3/2012', 'Ley 2/2007', 'Ley 3/2012']\n",
      "['Ley 13/2009', 'Resolución GAH/380/2016', 'Resolución TES/662/2020', 'Ley 38/2003', 'Real decreto 887/2006', 'Ley 19/2014', 'Resolución TES/662/2020', 'Resolución TES/662/2020', 'Resolución TES/662/2020', 'Resolución GAH/380/2016', 'Ley 26/2010', 'Ley 26/2010', 'Ley 39/2015', 'Ley 29/1998', 'Ley 26/2010', 'Ley 39/2015', 'Ley 29/1998', 'Resolución TES/662/2020']\n",
      "['Resolución CLT/3216/2020', 'Resolución CLT/198/2021', 'Ley 9/1993', 'Ley 38/2003', 'Real decreto 887/2006', 'Ley 9/1993', 'Ley 9/1993', 'Ley 9/1993', 'Ley 9/1993', 'Ley 9/1993']\n",
      "['Resolución CLT/3142/2020', 'Resolución CLT/187/2021', 'Ley 38/2003', 'Ley 17/2015']\n",
      "['Resolución CLT/3142/2020', 'Resolución CLT/187/2021', 'Ley 20/2010', 'Ley 38/2003', 'Ley 20/2010', 'Reglamento (UE) 1407/2013', 'Ley 17/2015']\n",
      "['Resolución CLT/3142/2020', 'Resolución CLT/187/2021', 'Ley 38/2003', 'Resolución CLT/336/2015']\n",
      "['Resolución CLT/3142/2020', 'Resolución CLT/187/2021', 'Ley 38/2003', 'Resolución CLT/413/2018', 'Ley 38/2003', 'Real decreto 887/2006']\n",
      "['Resolución CLT/3142/2020', 'Resolución CLT/187/2021', 'Ley 38/2003', 'Resolución CLT/805/2019', 'Resolución CLT/2991/2015', 'Resolución CLT/1645/2016', 'Resolución CLT/264/2017', 'Resolución CLT/1621/2017', 'Resolución CLT/145/2018', 'Resolución CLT/1495/2018']\n",
      "['Ley 18/1990', 'Ley 38/2003', 'Ley 29/1998', 'Ley 38/2003', 'Orden GRI/233/2015', 'Ley 38/2003', 'Ley 39/2015', 'Ley 39/2015', 'Ley 39/2015', 'Ley 19/2014', 'Ley 17/2015', 'Ley 39/2015', 'Ley 38/2003', 'Ley 39/2015', 'Ley 29/1998', 'Ley 38/2003', 'Reglamento (UE) 2016/679', 'Ley 38/2003', 'Ley 19/2014', 'Ley 19/2014']\n",
      "['Resolución de 21 de octubre de 2020', 'Resolución de 22 de febrero de 2021']\n",
      "['Resolución de 15 de febrero de 2021', 'Resolución de 15 de febrero de 2021', 'Resolución de 15 de febrero de 2021', 'Resolución de 15 de febrero de 2021', 'Resolución de 15 de febrero de 2021', 'Resolución de 15 de febrero de 2021', 'Resolución de 15 de febrero de 2021', 'Resolución de 15 de febrero de 2021', 'Resolución de 15 de febrero de 2021', 'Resolución de 15 de febrero de 2021', 'Resolución de 15 de febrero de 2021', 'Resolución de 15 de febrero de 2021']\n"
     ]
    }
   ],
   "source": [
    "for i, row in DOGC_sumarios.iterrows():\n",
    "    # Busca expresiones REGX coincidentes con Patrones definidos\n",
    "    DOGC_sumarios['Tags'][i] = re.findall('|'.join(pattern), str(row['item_fullText']), flags=re.IGNORECASE)\n",
    "    print(DOGC_sumarios['Tags'][i])"
   ]
  },
  {
   "cell_type": "code",
   "execution_count": 33,
   "metadata": {},
   "outputs": [
    {
     "output_type": "stream",
     "name": "stdout",
     "text": [
      "['Ley 19/2014', 'Resolución EXI/1349/2017', 'ley 8/2014', 'Reglamento (UE) 2016/679', 'Real Decreto 592/2014', 'Ley 27/2011', 'Ley 40/2015', 'Real Decreto 1493/2011', 'Ley 26/2010']\n",
      "['Ley 29/1998', 'Real decreto 463/2020', 'Ley 3/2012', 'Ley 2/2007', 'Real decreto 465/2020', 'Ley 39/2015']\n",
      "['Ley 39/2015', 'Ley 29/1998', 'Ley 5/2020', 'Ley 3/2012', 'Ley 2/2007']\n",
      "['Ley 39/2015', 'Ley 29/1998', 'Ley 3/2012', 'Resolución de 18 de enero de 2021', 'Ley 2/2007']\n",
      "['Ley 38/2003', 'Ley 19/2014', 'Ley 13/2009', 'Ley 39/2015', 'Ley 29/1998', 'Resolución GAH/380/2016', 'Ley 26/2010', 'Real decreto 887/2006', 'Resolución TES/662/2020']\n",
      "['Ley 38/2003', 'Resolución CLT/198/2021', 'Ley 9/1993', 'Real decreto 887/2006', 'Resolución CLT/3216/2020']\n",
      "['Resolución CLT/187/2021', 'Ley 38/2003', 'Ley 17/2015', 'Resolución CLT/3142/2020']\n",
      "['Ley 38/2003', 'Ley 17/2015', 'Ley 20/2010', 'Reglamento (UE) 1407/2013', 'Resolución CLT/187/2021', 'Resolución CLT/3142/2020']\n",
      "['Resolución CLT/187/2021', 'Ley 38/2003', 'Resolución CLT/336/2015', 'Resolución CLT/3142/2020']\n",
      "['Ley 38/2003', 'Resolución CLT/413/2018', 'Resolución CLT/187/2021', 'Real decreto 887/2006', 'Resolución CLT/3142/2020']\n",
      "['Ley 38/2003', 'Resolución CLT/1621/2017', 'Resolución CLT/1645/2016', 'Resolución CLT/805/2019', 'Resolución CLT/264/2017', 'Resolución CLT/145/2018', 'Resolución CLT/1495/2018', 'Resolución CLT/187/2021', 'Resolución CLT/2991/2015', 'Resolución CLT/3142/2020']\n",
      "['Ley 38/2003', 'Ley 19/2014', 'Ley 17/2015', 'Ley 18/1990', 'Ley 29/1998', 'Reglamento (UE) 2016/679', 'Orden GRI/233/2015', 'Ley 39/2015']\n",
      "['Resolución de 21 de octubre de 2020', 'Resolución de 22 de febrero de 2021']\n",
      "['Resolución de 15 de febrero de 2021']\n"
     ]
    }
   ],
   "source": [
    "# Elimina Tags duplicados\n",
    "for i, row in DOGC_sumarios.iterrows():\n",
    "    DOGC_sumarios['Tags'][i] = list(set(DOGC_sumarios['Tags'][i]))\n",
    "    print(DOGC_sumarios['Tags'][i])"
   ]
  },
  {
   "cell_type": "code",
   "execution_count": 34,
   "metadata": {},
   "outputs": [
    {
     "output_type": "execute_result",
     "data": {
      "text/plain": [
       "[None,\n",
       " None,\n",
       " None,\n",
       " None,\n",
       " None,\n",
       " None,\n",
       " None,\n",
       " None,\n",
       " None,\n",
       " None,\n",
       " None,\n",
       " None,\n",
       " None,\n",
       " None,\n",
       " None,\n",
       " None,\n",
       " None,\n",
       " None,\n",
       " None,\n",
       " None,\n",
       " None,\n",
       " None,\n",
       " None,\n",
       " None,\n",
       " None,\n",
       " None,\n",
       " None,\n",
       " None,\n",
       " None,\n",
       " None,\n",
       " None,\n",
       " None,\n",
       " None,\n",
       " None,\n",
       " None,\n",
       " None,\n",
       " None,\n",
       " None,\n",
       " None,\n",
       " None,\n",
       " None,\n",
       " None,\n",
       " None,\n",
       " None,\n",
       " None,\n",
       " None,\n",
       " None,\n",
       " None,\n",
       " None,\n",
       " None,\n",
       " None,\n",
       " None,\n",
       " None,\n",
       " None,\n",
       " None,\n",
       " None,\n",
       " None,\n",
       " None,\n",
       " None,\n",
       " None,\n",
       " None,\n",
       " None,\n",
       " None,\n",
       " None,\n",
       " None,\n",
       " None,\n",
       " None,\n",
       " None,\n",
       " None,\n",
       " None,\n",
       " None,\n",
       " None,\n",
       " None,\n",
       " None,\n",
       " None,\n",
       " None,\n",
       " None,\n",
       " None,\n",
       " None]"
      ]
     },
     "metadata": {},
     "execution_count": 34
    }
   ],
   "source": [
    "regex_result = []\n",
    "[ regex_result.append(tag) for tags in DOGC_sumarios['Tags'] for tag in tags ]"
   ]
  },
  {
   "cell_type": "code",
   "execution_count": 35,
   "metadata": {},
   "outputs": [
    {
     "output_type": "stream",
     "name": "stdout",
     "text": [
      "['Ley 19/2014', 'Resolución EXI/1349/2017', 'ley 8/2014', 'Reglamento (UE) 2016/679', 'Real Decreto 592/2014', 'Ley 27/2011', 'Ley 40/2015', 'Real Decreto 1493/2011', 'Ley 26/2010', 'Ley 29/1998', 'Real decreto 463/2020', 'Ley 3/2012', 'Ley 2/2007', 'Real decreto 465/2020', 'Ley 39/2015', 'Ley 39/2015', 'Ley 29/1998', 'Ley 5/2020', 'Ley 3/2012', 'Ley 2/2007', 'Ley 39/2015', 'Ley 29/1998', 'Ley 3/2012', 'Resolución de 18 de enero de 2021', 'Ley 2/2007', 'Ley 38/2003', 'Ley 19/2014', 'Ley 13/2009', 'Ley 39/2015', 'Ley 29/1998', 'Resolución GAH/380/2016', 'Ley 26/2010', 'Real decreto 887/2006', 'Resolución TES/662/2020', 'Ley 38/2003', 'Resolución CLT/198/2021', 'Ley 9/1993', 'Real decreto 887/2006', 'Resolución CLT/3216/2020', 'Resolución CLT/187/2021', 'Ley 38/2003', 'Ley 17/2015', 'Resolución CLT/3142/2020', 'Ley 38/2003', 'Ley 17/2015', 'Ley 20/2010', 'Reglamento (UE) 1407/2013', 'Resolución CLT/187/2021', 'Resolución CLT/3142/2020', 'Resolución CLT/187/2021', 'Ley 38/2003', 'Resolución CLT/336/2015', 'Resolución CLT/3142/2020', 'Ley 38/2003', 'Resolución CLT/413/2018', 'Resolución CLT/187/2021', 'Real decreto 887/2006', 'Resolución CLT/3142/2020', 'Ley 38/2003', 'Resolución CLT/1621/2017', 'Resolución CLT/1645/2016', 'Resolución CLT/805/2019', 'Resolución CLT/264/2017', 'Resolución CLT/145/2018', 'Resolución CLT/1495/2018', 'Resolución CLT/187/2021', 'Resolución CLT/2991/2015', 'Resolución CLT/3142/2020', 'Ley 38/2003', 'Ley 19/2014', 'Ley 17/2015', 'Ley 18/1990', 'Ley 29/1998', 'Reglamento (UE) 2016/679', 'Orden GRI/233/2015', 'Ley 39/2015', 'Resolución de 21 de octubre de 2020', 'Resolución de 22 de febrero de 2021', 'Resolución de 15 de febrero de 2021']\n"
     ]
    }
   ],
   "source": [
    "print(regex_result)"
   ]
  },
  {
   "cell_type": "code",
   "execution_count": 36,
   "metadata": {},
   "outputs": [],
   "source": [
    "## Elimina duplicados\n",
    "boletin_flat_list = list(set(regex_result))"
   ]
  },
  {
   "cell_type": "code",
   "execution_count": 37,
   "metadata": {},
   "outputs": [
    {
     "output_type": "execute_result",
     "data": {
      "text/plain": [
       "['Ley 19/2014',\n",
       " 'Resolución EXI/1349/2017',\n",
       " 'Ley 18/1990',\n",
       " 'Resolución CLT/336/2015',\n",
       " 'Real Decreto 592/2014',\n",
       " 'Resolución de 22 de febrero de 2021',\n",
       " 'Ley 3/2012',\n",
       " 'Reglamento (UE) 1407/2013',\n",
       " 'Real decreto 887/2006',\n",
       " 'Real Decreto 1493/2011',\n",
       " 'Real decreto 465/2020',\n",
       " 'Ley 39/2015',\n",
       " 'Ley 2/2007',\n",
       " 'Ley 26/2010',\n",
       " 'Resolución CLT/3142/2020',\n",
       " 'Ley 13/2009',\n",
       " 'Resolución CLT/1621/2017',\n",
       " 'ley 8/2014',\n",
       " 'Ley 29/1998',\n",
       " 'Ley 5/2020',\n",
       " 'Resolución CLT/1645/2016',\n",
       " 'Real decreto 463/2020',\n",
       " 'Ley 27/2011',\n",
       " 'Ley 9/1993',\n",
       " 'Ley 40/2015',\n",
       " 'Resolución CLT/1495/2018',\n",
       " 'Resolución CLT/187/2021',\n",
       " 'Resolución CLT/2991/2015',\n",
       " 'Resolución de 18 de enero de 2021',\n",
       " 'Resolución CLT/3216/2020',\n",
       " 'Resolución TES/662/2020',\n",
       " 'Resolución de 21 de octubre de 2020',\n",
       " 'Resolución CLT/264/2017',\n",
       " 'Resolución CLT/145/2018',\n",
       " 'Ley 38/2003',\n",
       " 'Ley 17/2015',\n",
       " 'Ley 20/2010',\n",
       " 'Resolución CLT/198/2021',\n",
       " 'Resolución de 15 de febrero de 2021',\n",
       " 'Resolución GAH/380/2016',\n",
       " 'Reglamento (UE) 2016/679',\n",
       " 'Resolución CLT/805/2019',\n",
       " 'Resolución CLT/413/2018',\n",
       " 'Orden GRI/233/2015']"
      ]
     },
     "metadata": {},
     "execution_count": 37
    }
   ],
   "source": [
    "boletin_flat_list"
   ]
  },
  {
   "cell_type": "code",
   "execution_count": 38,
   "metadata": {},
   "outputs": [
    {
     "output_type": "stream",
     "name": "stdout",
     "text": [
      "['España', 'Europa', 'Cataluña']\n"
     ]
    }
   ],
   "source": [
    "# ## Importa BBDD ASECORP\n",
    "\n",
    "# Inicializa datos de BBDD_ASECORP\n",
    "boletin_ASECORP_flat_list = []\n",
    "ASECORP_BBDD = pd.DataFrame()\n",
    "ambitos = []\n",
    "\n",
    "# Incluir en llamada a función el ambito territorial como lista\n",
    "# si no se especifica ámbito los incluye todos\n",
    "boletin_ASECORP_flat_list, ASECORP_BBDD, ambitos = tagea_BBDD_ASECORP(['España','Europa','Cataluña'])\n",
    "\n",
    "print(ambitos)\n"
   ]
  },
  {
   "cell_type": "code",
   "execution_count": 39,
   "metadata": {},
   "outputs": [],
   "source": [
    "#boletin_ASECORP_flat_list"
   ]
  },
  {
   "cell_type": "code",
   "execution_count": 40,
   "metadata": {},
   "outputs": [
    {
     "output_type": "execute_result",
     "data": {
      "text/plain": [
       "set()"
      ]
     },
     "metadata": {},
     "execution_count": 40
    }
   ],
   "source": [
    "## Busca coincidencias entre lista boletines BOEs explorados y lista boletines de BBDD ASECORP\n",
    "set(boletin_flat_list) & set(boletin_ASECORP_flat_list)"
   ]
  },
  {
   "cell_type": "code",
   "execution_count": 41,
   "metadata": {},
   "outputs": [
    {
     "output_type": "stream",
     "name": "stdout",
     "text": [
      "{'Ley 27/2011'}\n",
      "{'Ley 3/2012'}\n",
      "{'Ley 3/2012'}\n",
      "{'Ley 3/2012'}\n",
      "{'Ley 3/2012'}\n",
      "{'Real decreto 463/2020'}\n",
      "{'Real decreto 463/2020'}\n",
      "{'Ley 3/2012'}\n",
      "{'Ley 3/2012'}\n",
      "{'Ley 3/2012'}\n",
      "{'Ley 3/2012'}\n",
      "{'Ley 5/2020'}\n",
      "{'Ley 3/2012'}\n",
      "{'Ley 3/2012'}\n",
      "{'Ley 3/2012'}\n",
      "{'Ley 3/2012'}\n",
      "{'Ley 17/2015'}\n",
      "{'Ley 17/2015'}\n",
      "{'Ley 17/2015'}\n"
     ]
    }
   ],
   "source": [
    "#DOCM_sumarios['Tags'].isin(ASECORP_BBDD_BOE['Tags'])\n",
    "for row_to_compare in DOGC_sumarios['Tags']:\n",
    "    for row_comparing in ASECORP_BBDD['Tags']:\n",
    "        if set(row_comparing) & set(row_to_compare):\n",
    "            print(set(row_comparing) & set(row_to_compare))"
   ]
  },
  {
   "cell_type": "code",
   "execution_count": 42,
   "metadata": {},
   "outputs": [
    {
     "output_type": "stream",
     "name": "stdout",
     "text": [
      "{'Ley 27/2011'} LEY 27/2011 ESP\n",
      "{'Ley 3/2012'} DLE 3/2012 CAT\n",
      "{'Ley 3/2012'} LEY 14/2015 CAT\n",
      "{'Ley 3/2012'} LEY 3/2012 CAT\n",
      "{'Ley 3/2012'} LEY 3/2012 ESP\n",
      "{'Real decreto 463/2020'} RES TES/1034/2020 CAT\n",
      "{'Real decreto 463/2020'} RES TES/973/2020 CAT\n",
      "{'Ley 3/2012'} DLE 3/2012 CAT\n",
      "{'Ley 3/2012'} LEY 14/2015 CAT\n",
      "{'Ley 3/2012'} LEY 3/2012 CAT\n",
      "{'Ley 3/2012'} LEY 3/2012 ESP\n",
      "{'Ley 5/2020'} LEY 5/2020 CAT\n",
      "{'Ley 3/2012'} DLE 3/2012 CAT\n",
      "{'Ley 3/2012'} LEY 14/2015 CAT\n",
      "{'Ley 3/2012'} LEY 3/2012 CAT\n",
      "{'Ley 3/2012'} LEY 3/2012 ESP\n",
      "{'Ley 17/2015'} LEY 17/2015 ESP\n",
      "{'Ley 17/2015'} LEY 17/2015 ESP\n",
      "{'Ley 17/2015'} LEY 17/2015 ESP\n"
     ]
    }
   ],
   "source": [
    "for i, row_to_compare in DOGC_sumarios.iterrows():\n",
    "    for j, row_comparing in ASECORP_BBDD.iterrows():\n",
    "        if set(row_to_compare['Tags']) & set(row_comparing['Tags']):\n",
    "            DOGC_sumarios['Match_ASECORP_BBDD'][i].append (ASECORP_BBDD['Codigo'][j])\n",
    "            print(str(set(row_to_compare['Tags']) & set(row_comparing['Tags'])) + ' ' + str(row_comparing['Codigo']))"
   ]
  },
  {
   "cell_type": "code",
   "execution_count": 43,
   "metadata": {},
   "outputs": [
    {
     "output_type": "execute_result",
     "data": {
      "text/plain": [
       "                                           item_Title  \\\n",
       "0   RESOLUCIÓN EXI/583/2021, de 24 de febrero, por...   \n",
       "1   EDICTO de 25 de febrero de 2021, sobre acuerdo...   \n",
       "2   EDICTO de 26 de febrero de 2021, sobre un acue...   \n",
       "3   EDICTO de 26 de febrero de 2021, sobre un acue...   \n",
       "4   RESOLUCIÓN TES/585/2021, de 23 de febrero, por...   \n",
       "5   RESOLUCIÓN CLT/592/2021, de 2 de marzo, por la...   \n",
       "6   RESOLUCIÓN CLT/576/2021, de 1 de marzo, por la...   \n",
       "7   RESOLUCIÓN CLT/577/2021, de 1 de marzo, por la...   \n",
       "8   RESOLUCIÓN CLT/589/2021, de 2 de marzo, por la...   \n",
       "9   RESOLUCIÓN CLT/590/2021, de 2 de marzo, por la...   \n",
       "10  RESOLUCIÓN CLT/591/2021, de 2 de marzo, por la...   \n",
       "11  ORDEN JUS/50/2021, de 2 de marzo, por la que s...   \n",
       "12  RESOLUCIÓN ARP/593/2021, de 2 de marzo, por la...   \n",
       "13  RESOLUCIÓN ARP/594/2021, de 1 de marzo, por la...   \n",
       "\n",
       "                                         item_urlHTML  \\\n",
       "0   https://dogc.gencat.cat/es/document-del-dogc/?...   \n",
       "1   https://dogc.gencat.cat/es/document-del-dogc/?...   \n",
       "2   https://dogc.gencat.cat/es/document-del-dogc/?...   \n",
       "3   https://dogc.gencat.cat/es/document-del-dogc/?...   \n",
       "4   https://dogc.gencat.cat/es/document-del-dogc/?...   \n",
       "5   https://dogc.gencat.cat/es/document-del-dogc/?...   \n",
       "6   https://dogc.gencat.cat/es/document-del-dogc/?...   \n",
       "7   https://dogc.gencat.cat/es/document-del-dogc/?...   \n",
       "8   https://dogc.gencat.cat/es/document-del-dogc/?...   \n",
       "9   https://dogc.gencat.cat/es/document-del-dogc/?...   \n",
       "10  https://dogc.gencat.cat/es/document-del-dogc/?...   \n",
       "11  https://dogc.gencat.cat/es/document-del-dogc/?...   \n",
       "12  https://dogc.gencat.cat/es/document-del-dogc/?...   \n",
       "13  https://dogc.gencat.cat/es/document-del-dogc/?...   \n",
       "\n",
       "                                          item_urlPDF  \\\n",
       "0   https://portaldogc.gencat.cat/utilsEADOP/AppJa...   \n",
       "1   https://portaldogc.gencat.cat/utilsEADOP/AppJa...   \n",
       "2   https://portaldogc.gencat.cat/utilsEADOP/AppJa...   \n",
       "3   https://portaldogc.gencat.cat/utilsEADOP/AppJa...   \n",
       "4   https://portaldogc.gencat.cat/utilsEADOP/AppJa...   \n",
       "5   https://portaldogc.gencat.cat/utilsEADOP/AppJa...   \n",
       "6   https://portaldogc.gencat.cat/utilsEADOP/AppJa...   \n",
       "7   https://portaldogc.gencat.cat/utilsEADOP/AppJa...   \n",
       "8   https://portaldogc.gencat.cat/utilsEADOP/AppJa...   \n",
       "9   https://portaldogc.gencat.cat/utilsEADOP/AppJa...   \n",
       "10  https://portaldogc.gencat.cat/utilsEADOP/AppJa...   \n",
       "11  https://portaldogc.gencat.cat/utilsEADOP/AppJa...   \n",
       "12  https://portaldogc.gencat.cat/utilsEADOP/AppJa...   \n",
       "13  https://portaldogc.gencat.cat/utilsEADOP/AppJa...   \n",
       "\n",
       "                                        item_fullText  \\\n",
       "0   En fecha 1 de febrero de 2021 se ha firmado el...   \n",
       "1   La Comisión Territorial de Urbanismo de la Cat...   \n",
       "2   La Comisión de Territorio de Cataluña, en la s...   \n",
       "3   La Comisión Territorial de Urbanismo del ámbit...   \n",
       "4   El artículo 3.6 del Decreto 1/2018, de 19 de m...   \n",
       "5   Considerando el Acuerdo del Consejo de Adminis...   \n",
       "6    \\nVisto el Acuerdo del Consejo de Administrac...   \n",
       "7   Visto el Acuerdo del Consejo de Administración...   \n",
       "8   Visto el Acuerdo del Consejo de Administración...   \n",
       "9   Visto el Acuerdo del Consejo de Administración...   \n",
       "10  Visto el Acuerdo del Consejo de Administración...   \n",
       "11  Mediante el Acuerdo GOV/28/2019, de 11 de febr...   \n",
       "12   \\nLas solicitudes presentadas por las entidad...   \n",
       "13   \\nLas sociedades agrarias de transformación q...   \n",
       "\n",
       "                                          item_urlXML      tipo_doc  \\\n",
       "0   [https://portaldogc.gencat.cat/utilsEADOP/AppJ...  [Resolución]   \n",
       "1   [https://portaldogc.gencat.cat/utilsEADOP/AppJ...     [Edicto ]   \n",
       "2   [https://portaldogc.gencat.cat/utilsEADOP/AppJ...     [Edicto ]   \n",
       "3   [https://portaldogc.gencat.cat/utilsEADOP/AppJ...     [Edicto ]   \n",
       "4   [https://portaldogc.gencat.cat/utilsEADOP/AppJ...  [Resolución]   \n",
       "5   [https://portaldogc.gencat.cat/utilsEADOP/AppJ...  [Resolución]   \n",
       "6   [https://portaldogc.gencat.cat/utilsEADOP/AppJ...  [Resolución]   \n",
       "7   [https://portaldogc.gencat.cat/utilsEADOP/AppJ...  [Resolución]   \n",
       "8   [https://portaldogc.gencat.cat/utilsEADOP/AppJ...  [Resolución]   \n",
       "9   [https://portaldogc.gencat.cat/utilsEADOP/AppJ...  [Resolución]   \n",
       "10  [https://portaldogc.gencat.cat/utilsEADOP/AppJ...  [Resolución]   \n",
       "11  [https://portaldogc.gencat.cat/utilsEADOP/AppJ...       [Orden]   \n",
       "12  [https://portaldogc.gencat.cat/utilsEADOP/AppJ...  [Resolución]   \n",
       "13  [https://portaldogc.gencat.cat/utilsEADOP/AppJ...  [Resolución]   \n",
       "\n",
       "       fecha_doc       numero_doc numero_control  \\\n",
       "0   [24/02/2021]  [EXI/0583/2021]     [21062037]   \n",
       "1   [25/02/2021]               []     [21057021]   \n",
       "2   [26/02/2021]               []     [21057014]   \n",
       "3   [26/02/2021]               []     [21057074]   \n",
       "4   [23/02/2021]  [TES/0585/2021]     [21062039]   \n",
       "5   [02/03/2021]  [CLT/0592/2021]     [21062040]   \n",
       "6   [01/03/2021]  [CLT/0576/2021]     [21061067]   \n",
       "7   [01/03/2021]  [CLT/0577/2021]     [21061068]   \n",
       "8   [02/03/2021]  [CLT/0589/2021]     [21062044]   \n",
       "9   [02/03/2021]  [CLT/0590/2021]     [21062045]   \n",
       "10  [02/03/2021]  [CLT/0591/2021]     [21062046]   \n",
       "11  [02/03/2021]  [JUS/0050/2021]     [21062047]   \n",
       "12  [02/03/2021]  [ARP/0593/2021]     [21062049]   \n",
       "13  [01/03/2021]  [ARP/0594/2021]     [21062050]   \n",
       "\n",
       "                                      entidad_emisora  \\\n",
       "0     [Agencia Catalana de Cooperación al Desarrollo]   \n",
       "1       [Departamento de Territorio y Sostenibilidad]   \n",
       "2       [Departamento de Territorio y Sostenibilidad]   \n",
       "3       [Departamento de Territorio y Sostenibilidad]   \n",
       "4                [Agencia de la Vivienda de Cataluña]   \n",
       "5         [Oficina de Apoyo a la Iniciativa Cultural]   \n",
       "6      [Instituto Catalán de las Empresas Culturales]   \n",
       "7      [Instituto Catalán de las Empresas Culturales]   \n",
       "8      [Instituto Catalán de las Empresas Culturales]   \n",
       "9      [Instituto Catalán de las Empresas Culturales]   \n",
       "10     [Instituto Catalán de las Empresas Culturales]   \n",
       "11                         [Departamento de Justicia]   \n",
       "12  [Departamento de Agricultura, Ganadería, Pesca...   \n",
       "13  [Departamento de Agricultura, Ganadería, Pesca...   \n",
       "\n",
       "                           CVE numero_DOGC    fecha_DOGC     seccion_DOGC  \\\n",
       "0   [CVE-DOGC-B-21062037-2021]      [8357]  [05/03/2021]  [Disposiciones]   \n",
       "1   [CVE-DOGC-B-21057021-2021]      [8357]  [05/03/2021]  [Disposiciones]   \n",
       "2   [CVE-DOGC-B-21057014-2021]      [8357]  [05/03/2021]  [Disposiciones]   \n",
       "3   [CVE-DOGC-B-21057074-2021]      [8357]  [05/03/2021]  [Disposiciones]   \n",
       "4   [CVE-DOGC-B-21062039-2021]      [8357]  [05/03/2021]  [Disposiciones]   \n",
       "5   [CVE-DOGC-B-21062040-2021]      [8357]  [05/03/2021]  [Disposiciones]   \n",
       "6   [CVE-DOGC-B-21061067-2021]      [8357]  [05/03/2021]  [Disposiciones]   \n",
       "7   [CVE-DOGC-B-21061068-2021]      [8357]  [05/03/2021]  [Disposiciones]   \n",
       "8   [CVE-DOGC-B-21062044-2021]      [8357]  [05/03/2021]  [Disposiciones]   \n",
       "9   [CVE-DOGC-B-21062045-2021]      [8357]  [05/03/2021]  [Disposiciones]   \n",
       "10  [CVE-DOGC-B-21062046-2021]      [8357]  [05/03/2021]  [Disposiciones]   \n",
       "11  [CVE-DOGC-B-21062047-2021]      [8357]  [05/03/2021]  [Disposiciones]   \n",
       "12  [CVE-DOGC-B-21062049-2021]      [8357]  [05/03/2021]  [Disposiciones]   \n",
       "13  [CVE-DOGC-B-21062050-2021]      [8357]  [05/03/2021]  [Disposiciones]   \n",
       "\n",
       "                                                 Tags  \\\n",
       "0   [Ley 19/2014, Resolución EXI/1349/2017, ley 8/...   \n",
       "1   [Ley 29/1998, Real decreto 463/2020, Ley 3/201...   \n",
       "2   [Ley 39/2015, Ley 29/1998, Ley 5/2020, Ley 3/2...   \n",
       "3   [Ley 39/2015, Ley 29/1998, Ley 3/2012, Resoluc...   \n",
       "4   [Ley 38/2003, Ley 19/2014, Ley 13/2009, Ley 39...   \n",
       "5   [Ley 38/2003, Resolución CLT/198/2021, Ley 9/1...   \n",
       "6   [Resolución CLT/187/2021, Ley 38/2003, Ley 17/...   \n",
       "7   [Ley 38/2003, Ley 17/2015, Ley 20/2010, Reglam...   \n",
       "8   [Resolución CLT/187/2021, Ley 38/2003, Resoluc...   \n",
       "9   [Ley 38/2003, Resolución CLT/413/2018, Resoluc...   \n",
       "10  [Ley 38/2003, Resolución CLT/1621/2017, Resolu...   \n",
       "11  [Ley 38/2003, Ley 19/2014, Ley 17/2015, Ley 18...   \n",
       "12  [Resolución de 21 de octubre de 2020, Resoluci...   \n",
       "13              [Resolución de 15 de febrero de 2021]   \n",
       "\n",
       "                                   Match_ASECORP_BBDD  \n",
       "0                                   [LEY 27/2011 ESP]  \n",
       "1   [DLE 3/2012 CAT, LEY 14/2015 CAT, LEY 3/2012 C...  \n",
       "2   [DLE 3/2012 CAT, LEY 14/2015 CAT, LEY 3/2012 C...  \n",
       "3   [DLE 3/2012 CAT, LEY 14/2015 CAT, LEY 3/2012 C...  \n",
       "4                                                  []  \n",
       "5                                                  []  \n",
       "6                                   [LEY 17/2015 ESP]  \n",
       "7                                   [LEY 17/2015 ESP]  \n",
       "8                                                  []  \n",
       "9                                                  []  \n",
       "10                                                 []  \n",
       "11                                  [LEY 17/2015 ESP]  \n",
       "12                                                 []  \n",
       "13                                                 []  "
      ],
      "text/html": "<div>\n<style scoped>\n    .dataframe tbody tr th:only-of-type {\n        vertical-align: middle;\n    }\n\n    .dataframe tbody tr th {\n        vertical-align: top;\n    }\n\n    .dataframe thead th {\n        text-align: right;\n    }\n</style>\n<table border=\"1\" class=\"dataframe\">\n  <thead>\n    <tr style=\"text-align: right;\">\n      <th></th>\n      <th>item_Title</th>\n      <th>item_urlHTML</th>\n      <th>item_urlPDF</th>\n      <th>item_fullText</th>\n      <th>item_urlXML</th>\n      <th>tipo_doc</th>\n      <th>fecha_doc</th>\n      <th>numero_doc</th>\n      <th>numero_control</th>\n      <th>entidad_emisora</th>\n      <th>CVE</th>\n      <th>numero_DOGC</th>\n      <th>fecha_DOGC</th>\n      <th>seccion_DOGC</th>\n      <th>Tags</th>\n      <th>Match_ASECORP_BBDD</th>\n    </tr>\n  </thead>\n  <tbody>\n    <tr>\n      <th>0</th>\n      <td>RESOLUCIÓN EXI/583/2021, de 24 de febrero, por...</td>\n      <td>https://dogc.gencat.cat/es/document-del-dogc/?...</td>\n      <td>https://portaldogc.gencat.cat/utilsEADOP/AppJa...</td>\n      <td>En fecha 1 de febrero de 2021 se ha firmado el...</td>\n      <td>[https://portaldogc.gencat.cat/utilsEADOP/AppJ...</td>\n      <td>[Resolución]</td>\n      <td>[24/02/2021]</td>\n      <td>[EXI/0583/2021]</td>\n      <td>[21062037]</td>\n      <td>[Agencia Catalana de Cooperación al Desarrollo]</td>\n      <td>[CVE-DOGC-B-21062037-2021]</td>\n      <td>[8357]</td>\n      <td>[05/03/2021]</td>\n      <td>[Disposiciones]</td>\n      <td>[Ley 19/2014, Resolución EXI/1349/2017, ley 8/...</td>\n      <td>[LEY 27/2011 ESP]</td>\n    </tr>\n    <tr>\n      <th>1</th>\n      <td>EDICTO de 25 de febrero de 2021, sobre acuerdo...</td>\n      <td>https://dogc.gencat.cat/es/document-del-dogc/?...</td>\n      <td>https://portaldogc.gencat.cat/utilsEADOP/AppJa...</td>\n      <td>La Comisión Territorial de Urbanismo de la Cat...</td>\n      <td>[https://portaldogc.gencat.cat/utilsEADOP/AppJ...</td>\n      <td>[Edicto ]</td>\n      <td>[25/02/2021]</td>\n      <td>[]</td>\n      <td>[21057021]</td>\n      <td>[Departamento de Territorio y Sostenibilidad]</td>\n      <td>[CVE-DOGC-B-21057021-2021]</td>\n      <td>[8357]</td>\n      <td>[05/03/2021]</td>\n      <td>[Disposiciones]</td>\n      <td>[Ley 29/1998, Real decreto 463/2020, Ley 3/201...</td>\n      <td>[DLE 3/2012 CAT, LEY 14/2015 CAT, LEY 3/2012 C...</td>\n    </tr>\n    <tr>\n      <th>2</th>\n      <td>EDICTO de 26 de febrero de 2021, sobre un acue...</td>\n      <td>https://dogc.gencat.cat/es/document-del-dogc/?...</td>\n      <td>https://portaldogc.gencat.cat/utilsEADOP/AppJa...</td>\n      <td>La Comisión de Territorio de Cataluña, en la s...</td>\n      <td>[https://portaldogc.gencat.cat/utilsEADOP/AppJ...</td>\n      <td>[Edicto ]</td>\n      <td>[26/02/2021]</td>\n      <td>[]</td>\n      <td>[21057014]</td>\n      <td>[Departamento de Territorio y Sostenibilidad]</td>\n      <td>[CVE-DOGC-B-21057014-2021]</td>\n      <td>[8357]</td>\n      <td>[05/03/2021]</td>\n      <td>[Disposiciones]</td>\n      <td>[Ley 39/2015, Ley 29/1998, Ley 5/2020, Ley 3/2...</td>\n      <td>[DLE 3/2012 CAT, LEY 14/2015 CAT, LEY 3/2012 C...</td>\n    </tr>\n    <tr>\n      <th>3</th>\n      <td>EDICTO de 26 de febrero de 2021, sobre un acue...</td>\n      <td>https://dogc.gencat.cat/es/document-del-dogc/?...</td>\n      <td>https://portaldogc.gencat.cat/utilsEADOP/AppJa...</td>\n      <td>La Comisión Territorial de Urbanismo del ámbit...</td>\n      <td>[https://portaldogc.gencat.cat/utilsEADOP/AppJ...</td>\n      <td>[Edicto ]</td>\n      <td>[26/02/2021]</td>\n      <td>[]</td>\n      <td>[21057074]</td>\n      <td>[Departamento de Territorio y Sostenibilidad]</td>\n      <td>[CVE-DOGC-B-21057074-2021]</td>\n      <td>[8357]</td>\n      <td>[05/03/2021]</td>\n      <td>[Disposiciones]</td>\n      <td>[Ley 39/2015, Ley 29/1998, Ley 3/2012, Resoluc...</td>\n      <td>[DLE 3/2012 CAT, LEY 14/2015 CAT, LEY 3/2012 C...</td>\n    </tr>\n    <tr>\n      <th>4</th>\n      <td>RESOLUCIÓN TES/585/2021, de 23 de febrero, por...</td>\n      <td>https://dogc.gencat.cat/es/document-del-dogc/?...</td>\n      <td>https://portaldogc.gencat.cat/utilsEADOP/AppJa...</td>\n      <td>El artículo 3.6 del Decreto 1/2018, de 19 de m...</td>\n      <td>[https://portaldogc.gencat.cat/utilsEADOP/AppJ...</td>\n      <td>[Resolución]</td>\n      <td>[23/02/2021]</td>\n      <td>[TES/0585/2021]</td>\n      <td>[21062039]</td>\n      <td>[Agencia de la Vivienda de Cataluña]</td>\n      <td>[CVE-DOGC-B-21062039-2021]</td>\n      <td>[8357]</td>\n      <td>[05/03/2021]</td>\n      <td>[Disposiciones]</td>\n      <td>[Ley 38/2003, Ley 19/2014, Ley 13/2009, Ley 39...</td>\n      <td>[]</td>\n    </tr>\n    <tr>\n      <th>5</th>\n      <td>RESOLUCIÓN CLT/592/2021, de 2 de marzo, por la...</td>\n      <td>https://dogc.gencat.cat/es/document-del-dogc/?...</td>\n      <td>https://portaldogc.gencat.cat/utilsEADOP/AppJa...</td>\n      <td>Considerando el Acuerdo del Consejo de Adminis...</td>\n      <td>[https://portaldogc.gencat.cat/utilsEADOP/AppJ...</td>\n      <td>[Resolución]</td>\n      <td>[02/03/2021]</td>\n      <td>[CLT/0592/2021]</td>\n      <td>[21062040]</td>\n      <td>[Oficina de Apoyo a la Iniciativa Cultural]</td>\n      <td>[CVE-DOGC-B-21062040-2021]</td>\n      <td>[8357]</td>\n      <td>[05/03/2021]</td>\n      <td>[Disposiciones]</td>\n      <td>[Ley 38/2003, Resolución CLT/198/2021, Ley 9/1...</td>\n      <td>[]</td>\n    </tr>\n    <tr>\n      <th>6</th>\n      <td>RESOLUCIÓN CLT/576/2021, de 1 de marzo, por la...</td>\n      <td>https://dogc.gencat.cat/es/document-del-dogc/?...</td>\n      <td>https://portaldogc.gencat.cat/utilsEADOP/AppJa...</td>\n      <td>\\nVisto el Acuerdo del Consejo de Administrac...</td>\n      <td>[https://portaldogc.gencat.cat/utilsEADOP/AppJ...</td>\n      <td>[Resolución]</td>\n      <td>[01/03/2021]</td>\n      <td>[CLT/0576/2021]</td>\n      <td>[21061067]</td>\n      <td>[Instituto Catalán de las Empresas Culturales]</td>\n      <td>[CVE-DOGC-B-21061067-2021]</td>\n      <td>[8357]</td>\n      <td>[05/03/2021]</td>\n      <td>[Disposiciones]</td>\n      <td>[Resolución CLT/187/2021, Ley 38/2003, Ley 17/...</td>\n      <td>[LEY 17/2015 ESP]</td>\n    </tr>\n    <tr>\n      <th>7</th>\n      <td>RESOLUCIÓN CLT/577/2021, de 1 de marzo, por la...</td>\n      <td>https://dogc.gencat.cat/es/document-del-dogc/?...</td>\n      <td>https://portaldogc.gencat.cat/utilsEADOP/AppJa...</td>\n      <td>Visto el Acuerdo del Consejo de Administración...</td>\n      <td>[https://portaldogc.gencat.cat/utilsEADOP/AppJ...</td>\n      <td>[Resolución]</td>\n      <td>[01/03/2021]</td>\n      <td>[CLT/0577/2021]</td>\n      <td>[21061068]</td>\n      <td>[Instituto Catalán de las Empresas Culturales]</td>\n      <td>[CVE-DOGC-B-21061068-2021]</td>\n      <td>[8357]</td>\n      <td>[05/03/2021]</td>\n      <td>[Disposiciones]</td>\n      <td>[Ley 38/2003, Ley 17/2015, Ley 20/2010, Reglam...</td>\n      <td>[LEY 17/2015 ESP]</td>\n    </tr>\n    <tr>\n      <th>8</th>\n      <td>RESOLUCIÓN CLT/589/2021, de 2 de marzo, por la...</td>\n      <td>https://dogc.gencat.cat/es/document-del-dogc/?...</td>\n      <td>https://portaldogc.gencat.cat/utilsEADOP/AppJa...</td>\n      <td>Visto el Acuerdo del Consejo de Administración...</td>\n      <td>[https://portaldogc.gencat.cat/utilsEADOP/AppJ...</td>\n      <td>[Resolución]</td>\n      <td>[02/03/2021]</td>\n      <td>[CLT/0589/2021]</td>\n      <td>[21062044]</td>\n      <td>[Instituto Catalán de las Empresas Culturales]</td>\n      <td>[CVE-DOGC-B-21062044-2021]</td>\n      <td>[8357]</td>\n      <td>[05/03/2021]</td>\n      <td>[Disposiciones]</td>\n      <td>[Resolución CLT/187/2021, Ley 38/2003, Resoluc...</td>\n      <td>[]</td>\n    </tr>\n    <tr>\n      <th>9</th>\n      <td>RESOLUCIÓN CLT/590/2021, de 2 de marzo, por la...</td>\n      <td>https://dogc.gencat.cat/es/document-del-dogc/?...</td>\n      <td>https://portaldogc.gencat.cat/utilsEADOP/AppJa...</td>\n      <td>Visto el Acuerdo del Consejo de Administración...</td>\n      <td>[https://portaldogc.gencat.cat/utilsEADOP/AppJ...</td>\n      <td>[Resolución]</td>\n      <td>[02/03/2021]</td>\n      <td>[CLT/0590/2021]</td>\n      <td>[21062045]</td>\n      <td>[Instituto Catalán de las Empresas Culturales]</td>\n      <td>[CVE-DOGC-B-21062045-2021]</td>\n      <td>[8357]</td>\n      <td>[05/03/2021]</td>\n      <td>[Disposiciones]</td>\n      <td>[Ley 38/2003, Resolución CLT/413/2018, Resoluc...</td>\n      <td>[]</td>\n    </tr>\n    <tr>\n      <th>10</th>\n      <td>RESOLUCIÓN CLT/591/2021, de 2 de marzo, por la...</td>\n      <td>https://dogc.gencat.cat/es/document-del-dogc/?...</td>\n      <td>https://portaldogc.gencat.cat/utilsEADOP/AppJa...</td>\n      <td>Visto el Acuerdo del Consejo de Administración...</td>\n      <td>[https://portaldogc.gencat.cat/utilsEADOP/AppJ...</td>\n      <td>[Resolución]</td>\n      <td>[02/03/2021]</td>\n      <td>[CLT/0591/2021]</td>\n      <td>[21062046]</td>\n      <td>[Instituto Catalán de las Empresas Culturales]</td>\n      <td>[CVE-DOGC-B-21062046-2021]</td>\n      <td>[8357]</td>\n      <td>[05/03/2021]</td>\n      <td>[Disposiciones]</td>\n      <td>[Ley 38/2003, Resolución CLT/1621/2017, Resolu...</td>\n      <td>[]</td>\n    </tr>\n    <tr>\n      <th>11</th>\n      <td>ORDEN JUS/50/2021, de 2 de marzo, por la que s...</td>\n      <td>https://dogc.gencat.cat/es/document-del-dogc/?...</td>\n      <td>https://portaldogc.gencat.cat/utilsEADOP/AppJa...</td>\n      <td>Mediante el Acuerdo GOV/28/2019, de 11 de febr...</td>\n      <td>[https://portaldogc.gencat.cat/utilsEADOP/AppJ...</td>\n      <td>[Orden]</td>\n      <td>[02/03/2021]</td>\n      <td>[JUS/0050/2021]</td>\n      <td>[21062047]</td>\n      <td>[Departamento de Justicia]</td>\n      <td>[CVE-DOGC-B-21062047-2021]</td>\n      <td>[8357]</td>\n      <td>[05/03/2021]</td>\n      <td>[Disposiciones]</td>\n      <td>[Ley 38/2003, Ley 19/2014, Ley 17/2015, Ley 18...</td>\n      <td>[LEY 17/2015 ESP]</td>\n    </tr>\n    <tr>\n      <th>12</th>\n      <td>RESOLUCIÓN ARP/593/2021, de 2 de marzo, por la...</td>\n      <td>https://dogc.gencat.cat/es/document-del-dogc/?...</td>\n      <td>https://portaldogc.gencat.cat/utilsEADOP/AppJa...</td>\n      <td>\\nLas solicitudes presentadas por las entidad...</td>\n      <td>[https://portaldogc.gencat.cat/utilsEADOP/AppJ...</td>\n      <td>[Resolución]</td>\n      <td>[02/03/2021]</td>\n      <td>[ARP/0593/2021]</td>\n      <td>[21062049]</td>\n      <td>[Departamento de Agricultura, Ganadería, Pesca...</td>\n      <td>[CVE-DOGC-B-21062049-2021]</td>\n      <td>[8357]</td>\n      <td>[05/03/2021]</td>\n      <td>[Disposiciones]</td>\n      <td>[Resolución de 21 de octubre de 2020, Resoluci...</td>\n      <td>[]</td>\n    </tr>\n    <tr>\n      <th>13</th>\n      <td>RESOLUCIÓN ARP/594/2021, de 1 de marzo, por la...</td>\n      <td>https://dogc.gencat.cat/es/document-del-dogc/?...</td>\n      <td>https://portaldogc.gencat.cat/utilsEADOP/AppJa...</td>\n      <td>\\nLas sociedades agrarias de transformación q...</td>\n      <td>[https://portaldogc.gencat.cat/utilsEADOP/AppJ...</td>\n      <td>[Resolución]</td>\n      <td>[01/03/2021]</td>\n      <td>[ARP/0594/2021]</td>\n      <td>[21062050]</td>\n      <td>[Departamento de Agricultura, Ganadería, Pesca...</td>\n      <td>[CVE-DOGC-B-21062050-2021]</td>\n      <td>[8357]</td>\n      <td>[05/03/2021]</td>\n      <td>[Disposiciones]</td>\n      <td>[Resolución de 15 de febrero de 2021]</td>\n      <td>[]</td>\n    </tr>\n  </tbody>\n</table>\n</div>"
     },
     "metadata": {},
     "execution_count": 43
    }
   ],
   "source": [
    "DOGC_sumarios"
   ]
  },
  {
   "source": [
    "# Genera Fichero EXCEL de resultados"
   ],
   "cell_type": "markdown",
   "metadata": {}
  },
  {
   "cell_type": "code",
   "execution_count": 44,
   "metadata": {},
   "outputs": [],
   "source": [
    "DOGC_sumarios_final = DOGC_sumarios"
   ]
  },
  {
   "cell_type": "code",
   "execution_count": 45,
   "metadata": {},
   "outputs": [
    {
     "output_type": "execute_result",
     "data": {
      "text/plain": [
       "item_Title            object\n",
       "item_urlHTML          object\n",
       "item_urlPDF           object\n",
       "item_fullText         object\n",
       "item_urlXML           object\n",
       "tipo_doc              object\n",
       "fecha_doc             object\n",
       "numero_doc            object\n",
       "numero_control        object\n",
       "entidad_emisora       object\n",
       "CVE                   object\n",
       "numero_DOGC           object\n",
       "fecha_DOGC            object\n",
       "seccion_DOGC          object\n",
       "Tags                  object\n",
       "Match_ASECORP_BBDD    object\n",
       "dtype: object"
      ]
     },
     "metadata": {},
     "execution_count": 45
    }
   ],
   "source": [
    "DOGC_sumarios_final.dtypes"
   ]
  },
  {
   "cell_type": "code",
   "execution_count": 46,
   "metadata": {},
   "outputs": [],
   "source": [
    "## Cambia orden de columnas y elimina las no necesarias  \n",
    "DOGC_sumarios_final.rename(columns={'CVE': 'Item_id', 'item_Title': 'Item_Title', 'item_urlPDF': 'PDF_Link', 'fecha_DOGC': 'Fecha_publicacion'}, inplace=True)\n",
    "DOGC_sumarios_final = DOGC_sumarios[['Item_id','Item_Title','PDF_Link','Fecha_publicacion','Tags','Match_ASECORP_BBDD']]"
   ]
  },
  {
   "cell_type": "code",
   "execution_count": 47,
   "metadata": {},
   "outputs": [],
   "source": [
    "## Crea función que convierte lista a string en todas las columnas de DOCM_sumarios\n",
    "## para evitar en presentación final los caracteres [' '] propios de las listas\n",
    "def list2Str(lst):\n",
    "    if type(lst) is list: # apply conversion to list columns\n",
    "        return\", \".join(lst)\n",
    "    else:\n",
    "        return lst"
   ]
  },
  {
   "cell_type": "code",
   "execution_count": 48,
   "metadata": {},
   "outputs": [],
   "source": [
    "\n",
    "DOGC_sumarios_final = DOGC_sumarios_final.apply(lambda x: [list2Str(i) for i in x])"
   ]
  },
  {
   "cell_type": "code",
   "execution_count": 49,
   "metadata": {},
   "outputs": [],
   "source": [
    "## Generar hyperlink a artículo BOE en CSV \"=HYPERLINK(\"https://www.boe.es/boe/dias/2021/02/02/pdfs/BOE-A-2021-1474.pdf\";\"BOE-A-2021-1474\")\"\n",
    "## https://www.boe.es/diario_boe/xml.php?id=## https://www.boe.es/boe/dias/2021/02/02/pdfs/BOE-A-2021-1474.pdf\n",
    "\n",
    "DOGC_sumarios_final_CSV = DOGC_sumarios_final"
   ]
  },
  {
   "cell_type": "code",
   "execution_count": 50,
   "metadata": {},
   "outputs": [],
   "source": [
    "DOGC_sumarios_final_CSV['item_id'] = '=HIPERVINCULO(' + '\"' + DOGC_sumarios_final_CSV['PDF_Link'] + '\";' \\\n",
    "                                                        + '\"' + DOGC_sumarios_final_CSV['Item_id'] + '\")'      "
   ]
  },
  {
   "cell_type": "code",
   "execution_count": 51,
   "metadata": {},
   "outputs": [
    {
     "output_type": "execute_result",
     "data": {
      "text/plain": [
       "'=HIPERVINCULO(\"https://portaldogc.gencat.cat/utilsEADOP/AppJava/PdfProviderServlet?documentId=894875&type=01&language=es_ES\";\"CVE-DOGC-B-21062037-2021\")'"
      ]
     },
     "metadata": {},
     "execution_count": 51
    }
   ],
   "source": [
    "DOGC_sumarios_final_CSV['item_id'][0]"
   ]
  },
  {
   "cell_type": "code",
   "execution_count": 52,
   "metadata": {},
   "outputs": [],
   "source": [
    "# Elimina columna PDF_Link\n",
    "DOGC_sumarios_final_CSV = DOGC_sumarios_final_CSV[['Item_id','Item_Title','Fecha_publicacion','Tags','Match_ASECORP_BBDD']]"
   ]
  },
  {
   "cell_type": "code",
   "execution_count": 53,
   "metadata": {},
   "outputs": [
    {
     "output_type": "execute_result",
     "data": {
      "text/plain": [
       "                     Item_id  \\\n",
       "0   CVE-DOGC-B-21062037-2021   \n",
       "1   CVE-DOGC-B-21057021-2021   \n",
       "2   CVE-DOGC-B-21057014-2021   \n",
       "3   CVE-DOGC-B-21057074-2021   \n",
       "4   CVE-DOGC-B-21062039-2021   \n",
       "5   CVE-DOGC-B-21062040-2021   \n",
       "6   CVE-DOGC-B-21061067-2021   \n",
       "7   CVE-DOGC-B-21061068-2021   \n",
       "8   CVE-DOGC-B-21062044-2021   \n",
       "9   CVE-DOGC-B-21062045-2021   \n",
       "10  CVE-DOGC-B-21062046-2021   \n",
       "11  CVE-DOGC-B-21062047-2021   \n",
       "12  CVE-DOGC-B-21062049-2021   \n",
       "13  CVE-DOGC-B-21062050-2021   \n",
       "\n",
       "                                           Item_Title Fecha_publicacion  \\\n",
       "0   RESOLUCIÓN EXI/583/2021, de 24 de febrero, por...        05/03/2021   \n",
       "1   EDICTO de 25 de febrero de 2021, sobre acuerdo...        05/03/2021   \n",
       "2   EDICTO de 26 de febrero de 2021, sobre un acue...        05/03/2021   \n",
       "3   EDICTO de 26 de febrero de 2021, sobre un acue...        05/03/2021   \n",
       "4   RESOLUCIÓN TES/585/2021, de 23 de febrero, por...        05/03/2021   \n",
       "5   RESOLUCIÓN CLT/592/2021, de 2 de marzo, por la...        05/03/2021   \n",
       "6   RESOLUCIÓN CLT/576/2021, de 1 de marzo, por la...        05/03/2021   \n",
       "7   RESOLUCIÓN CLT/577/2021, de 1 de marzo, por la...        05/03/2021   \n",
       "8   RESOLUCIÓN CLT/589/2021, de 2 de marzo, por la...        05/03/2021   \n",
       "9   RESOLUCIÓN CLT/590/2021, de 2 de marzo, por la...        05/03/2021   \n",
       "10  RESOLUCIÓN CLT/591/2021, de 2 de marzo, por la...        05/03/2021   \n",
       "11  ORDEN JUS/50/2021, de 2 de marzo, por la que s...        05/03/2021   \n",
       "12  RESOLUCIÓN ARP/593/2021, de 2 de marzo, por la...        05/03/2021   \n",
       "13  RESOLUCIÓN ARP/594/2021, de 1 de marzo, por la...        05/03/2021   \n",
       "\n",
       "                                                 Tags  \\\n",
       "0   Ley 19/2014, Resolución EXI/1349/2017, ley 8/2...   \n",
       "1   Ley 29/1998, Real decreto 463/2020, Ley 3/2012...   \n",
       "2   Ley 39/2015, Ley 29/1998, Ley 5/2020, Ley 3/20...   \n",
       "3   Ley 39/2015, Ley 29/1998, Ley 3/2012, Resoluci...   \n",
       "4   Ley 38/2003, Ley 19/2014, Ley 13/2009, Ley 39/...   \n",
       "5   Ley 38/2003, Resolución CLT/198/2021, Ley 9/19...   \n",
       "6   Resolución CLT/187/2021, Ley 38/2003, Ley 17/2...   \n",
       "7   Ley 38/2003, Ley 17/2015, Ley 20/2010, Reglame...   \n",
       "8   Resolución CLT/187/2021, Ley 38/2003, Resoluci...   \n",
       "9   Ley 38/2003, Resolución CLT/413/2018, Resoluci...   \n",
       "10  Ley 38/2003, Resolución CLT/1621/2017, Resoluc...   \n",
       "11  Ley 38/2003, Ley 19/2014, Ley 17/2015, Ley 18/...   \n",
       "12  Resolución de 21 de octubre de 2020, Resolució...   \n",
       "13                Resolución de 15 de febrero de 2021   \n",
       "\n",
       "                                   Match_ASECORP_BBDD  \n",
       "0                                     LEY 27/2011 ESP  \n",
       "1   DLE 3/2012 CAT, LEY 14/2015 CAT, LEY 3/2012 CA...  \n",
       "2   DLE 3/2012 CAT, LEY 14/2015 CAT, LEY 3/2012 CA...  \n",
       "3   DLE 3/2012 CAT, LEY 14/2015 CAT, LEY 3/2012 CA...  \n",
       "4                                                      \n",
       "5                                                      \n",
       "6                                     LEY 17/2015 ESP  \n",
       "7                                     LEY 17/2015 ESP  \n",
       "8                                                      \n",
       "9                                                      \n",
       "10                                                     \n",
       "11                                    LEY 17/2015 ESP  \n",
       "12                                                     \n",
       "13                                                     "
      ],
      "text/html": "<div>\n<style scoped>\n    .dataframe tbody tr th:only-of-type {\n        vertical-align: middle;\n    }\n\n    .dataframe tbody tr th {\n        vertical-align: top;\n    }\n\n    .dataframe thead th {\n        text-align: right;\n    }\n</style>\n<table border=\"1\" class=\"dataframe\">\n  <thead>\n    <tr style=\"text-align: right;\">\n      <th></th>\n      <th>Item_id</th>\n      <th>Item_Title</th>\n      <th>Fecha_publicacion</th>\n      <th>Tags</th>\n      <th>Match_ASECORP_BBDD</th>\n    </tr>\n  </thead>\n  <tbody>\n    <tr>\n      <th>0</th>\n      <td>CVE-DOGC-B-21062037-2021</td>\n      <td>RESOLUCIÓN EXI/583/2021, de 24 de febrero, por...</td>\n      <td>05/03/2021</td>\n      <td>Ley 19/2014, Resolución EXI/1349/2017, ley 8/2...</td>\n      <td>LEY 27/2011 ESP</td>\n    </tr>\n    <tr>\n      <th>1</th>\n      <td>CVE-DOGC-B-21057021-2021</td>\n      <td>EDICTO de 25 de febrero de 2021, sobre acuerdo...</td>\n      <td>05/03/2021</td>\n      <td>Ley 29/1998, Real decreto 463/2020, Ley 3/2012...</td>\n      <td>DLE 3/2012 CAT, LEY 14/2015 CAT, LEY 3/2012 CA...</td>\n    </tr>\n    <tr>\n      <th>2</th>\n      <td>CVE-DOGC-B-21057014-2021</td>\n      <td>EDICTO de 26 de febrero de 2021, sobre un acue...</td>\n      <td>05/03/2021</td>\n      <td>Ley 39/2015, Ley 29/1998, Ley 5/2020, Ley 3/20...</td>\n      <td>DLE 3/2012 CAT, LEY 14/2015 CAT, LEY 3/2012 CA...</td>\n    </tr>\n    <tr>\n      <th>3</th>\n      <td>CVE-DOGC-B-21057074-2021</td>\n      <td>EDICTO de 26 de febrero de 2021, sobre un acue...</td>\n      <td>05/03/2021</td>\n      <td>Ley 39/2015, Ley 29/1998, Ley 3/2012, Resoluci...</td>\n      <td>DLE 3/2012 CAT, LEY 14/2015 CAT, LEY 3/2012 CA...</td>\n    </tr>\n    <tr>\n      <th>4</th>\n      <td>CVE-DOGC-B-21062039-2021</td>\n      <td>RESOLUCIÓN TES/585/2021, de 23 de febrero, por...</td>\n      <td>05/03/2021</td>\n      <td>Ley 38/2003, Ley 19/2014, Ley 13/2009, Ley 39/...</td>\n      <td></td>\n    </tr>\n    <tr>\n      <th>5</th>\n      <td>CVE-DOGC-B-21062040-2021</td>\n      <td>RESOLUCIÓN CLT/592/2021, de 2 de marzo, por la...</td>\n      <td>05/03/2021</td>\n      <td>Ley 38/2003, Resolución CLT/198/2021, Ley 9/19...</td>\n      <td></td>\n    </tr>\n    <tr>\n      <th>6</th>\n      <td>CVE-DOGC-B-21061067-2021</td>\n      <td>RESOLUCIÓN CLT/576/2021, de 1 de marzo, por la...</td>\n      <td>05/03/2021</td>\n      <td>Resolución CLT/187/2021, Ley 38/2003, Ley 17/2...</td>\n      <td>LEY 17/2015 ESP</td>\n    </tr>\n    <tr>\n      <th>7</th>\n      <td>CVE-DOGC-B-21061068-2021</td>\n      <td>RESOLUCIÓN CLT/577/2021, de 1 de marzo, por la...</td>\n      <td>05/03/2021</td>\n      <td>Ley 38/2003, Ley 17/2015, Ley 20/2010, Reglame...</td>\n      <td>LEY 17/2015 ESP</td>\n    </tr>\n    <tr>\n      <th>8</th>\n      <td>CVE-DOGC-B-21062044-2021</td>\n      <td>RESOLUCIÓN CLT/589/2021, de 2 de marzo, por la...</td>\n      <td>05/03/2021</td>\n      <td>Resolución CLT/187/2021, Ley 38/2003, Resoluci...</td>\n      <td></td>\n    </tr>\n    <tr>\n      <th>9</th>\n      <td>CVE-DOGC-B-21062045-2021</td>\n      <td>RESOLUCIÓN CLT/590/2021, de 2 de marzo, por la...</td>\n      <td>05/03/2021</td>\n      <td>Ley 38/2003, Resolución CLT/413/2018, Resoluci...</td>\n      <td></td>\n    </tr>\n    <tr>\n      <th>10</th>\n      <td>CVE-DOGC-B-21062046-2021</td>\n      <td>RESOLUCIÓN CLT/591/2021, de 2 de marzo, por la...</td>\n      <td>05/03/2021</td>\n      <td>Ley 38/2003, Resolución CLT/1621/2017, Resoluc...</td>\n      <td></td>\n    </tr>\n    <tr>\n      <th>11</th>\n      <td>CVE-DOGC-B-21062047-2021</td>\n      <td>ORDEN JUS/50/2021, de 2 de marzo, por la que s...</td>\n      <td>05/03/2021</td>\n      <td>Ley 38/2003, Ley 19/2014, Ley 17/2015, Ley 18/...</td>\n      <td>LEY 17/2015 ESP</td>\n    </tr>\n    <tr>\n      <th>12</th>\n      <td>CVE-DOGC-B-21062049-2021</td>\n      <td>RESOLUCIÓN ARP/593/2021, de 2 de marzo, por la...</td>\n      <td>05/03/2021</td>\n      <td>Resolución de 21 de octubre de 2020, Resolució...</td>\n      <td></td>\n    </tr>\n    <tr>\n      <th>13</th>\n      <td>CVE-DOGC-B-21062050-2021</td>\n      <td>RESOLUCIÓN ARP/594/2021, de 1 de marzo, por la...</td>\n      <td>05/03/2021</td>\n      <td>Resolución de 15 de febrero de 2021</td>\n      <td></td>\n    </tr>\n  </tbody>\n</table>\n</div>"
     },
     "metadata": {},
     "execution_count": 53
    }
   ],
   "source": [
    "DOGC_sumarios_final_CSV"
   ]
  },
  {
   "cell_type": "code",
   "execution_count": 54,
   "metadata": {},
   "outputs": [],
   "source": [
    "DOGC_sumarios_final_CSV.to_csv(\"./ASECORP/Resultados_Matching_DOGC_\" + today.strftime(\"%Y%m%d\") + \".csv\" ,index=False) "
   ]
  },
  {
   "cell_type": "code",
   "execution_count": null,
   "metadata": {},
   "outputs": [],
   "source": []
  }
 ]
}