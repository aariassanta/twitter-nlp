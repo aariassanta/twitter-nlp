{
 "metadata": {
  "language_info": {
   "codemirror_mode": {
    "name": "ipython",
    "version": 3
   },
   "file_extension": ".py",
   "mimetype": "text/x-python",
   "name": "python",
   "nbconvert_exporter": "python",
   "pygments_lexer": "ipython3",
   "version": "3.8.5-final"
  },
  "orig_nbformat": 2,
  "kernelspec": {
   "name": "python3",
   "display_name": "Python 3",
   "language": "python"
  }
 },
 "nbformat": 4,
 "nbformat_minor": 2,
 "cells": [
  {
   "cell_type": "code",
   "execution_count": 626,
   "metadata": {},
   "outputs": [],
   "source": [
    "from lxml import etree, html\n",
    "from lxml.html.clean import clean_html\n",
    "import pandas as pd\n",
    "from datetime import date, datetime\n",
    "import requests\n",
    "import re\n",
    "import os\n",
    "import shutil"
   ]
  },
  {
   "source": [
    "# Mueve todos los fichero del directorio de trabajo a otro de archivo"
   ],
   "cell_type": "markdown",
   "metadata": {}
  },
  {
   "cell_type": "code",
   "execution_count": 517,
   "metadata": {},
   "outputs": [],
   "source": [
    "source_dir = './BOEs'\n",
    "target_dir = './BOEs_Anteriores'\n",
    "    \n",
    "file_names = os.listdir(source_dir)\n",
    "    \n",
    "for file_name in file_names:\n",
    "    #shutil.move(os.path.join(source_dir, file_name), target_dir)\n",
    "    # Evita que de error si el fichero que se mueve ya existe en dir destino\n",
    "    try:\n",
    "        os.remove(os.path.join(target_dir, file_name))\n",
    "        shutil.move(os.path.join(source_dir, file_name), target_dir)\n",
    "    except OSError:\n",
    "        shutil.move(os.path.join(source_dir, file_name), target_dir)"
   ]
  },
  {
   "source": [
    "# Recoge resumen diario del BOE de hoy"
   ],
   "cell_type": "markdown",
   "metadata": {}
  },
  {
   "cell_type": "code",
   "execution_count": 543,
   "metadata": {},
   "outputs": [
    {
     "output_type": "stream",
     "name": "stdout",
     "text": [
      "Fecha de Hoy = 20210208\ndia = 08\nmes = 02\naño = 2021\n08/02/2021\n"
     ]
    }
   ],
   "source": [
    "\n",
    "today = date.today()\n",
    "\n",
    "# dd/mm/YYYY\n",
    "hoy = today.strftime(\"%Y%m%d\")\n",
    "print(\"Fecha de Hoy =\", hoy)\n",
    "\n",
    "# dd\n",
    "d = today.strftime(\"%d\")\n",
    "print(\"dia =\", d)\n",
    "\n",
    "# mm\n",
    "m = today.strftime(\"%m\")\n",
    "print(\"mes =\", m)\n",
    "\n",
    "# YYYY\n",
    "Y = today.strftime(\"%Y\")\n",
    "print(\"año =\", Y)\n",
    "\n",
    "print(today.strftime(\"%d/%m/%Y\"))"
   ]
  },
  {
   "cell_type": "code",
   "execution_count": 545,
   "metadata": {},
   "outputs": [],
   "source": [
    "URL_XML_resumen =  \"https://www.boe.es/diario_boe/xml.php?id=BOE-S-\" + str(hoy)"
   ]
  },
  {
   "cell_type": "code",
   "execution_count": 547,
   "metadata": {},
   "outputs": [
    {
     "output_type": "execute_result",
     "data": {
      "text/plain": [
       "'https://www.boe.es/diario_boe/xml.php?id=BOE-S-20210208'"
      ]
     },
     "metadata": {},
     "execution_count": 547
    }
   ],
   "source": [
    "URL_XML_resumen"
   ]
  },
  {
   "cell_type": "code",
   "execution_count": 549,
   "metadata": {},
   "outputs": [],
   "source": [
    "url = URL_XML_resumen\n",
    "r = requests.get(url)"
   ]
  },
  {
   "cell_type": "code",
   "execution_count": 551,
   "metadata": {},
   "outputs": [],
   "source": [
    "def save_html(html, path):\n",
    "    with open(path, 'wb') as f:\n",
    "        f.write(html)\n",
    "\n",
    "save_html(r.content, './BOEs/Resumen-BOE-' + hoy + '.xml')"
   ]
  },
  {
   "cell_type": "code",
   "execution_count": 553,
   "metadata": {},
   "outputs": [],
   "source": [
    "resumen = etree.parse('./BOEs/Resumen-BOE-' + hoy + '.xml')"
   ]
  },
  {
   "cell_type": "code",
   "execution_count": 555,
   "metadata": {},
   "outputs": [],
   "source": [
    "raiz=resumen.getroot()\n",
    "raiz.tag\n",
    "raiz_sumario = raiz"
   ]
  },
  {
   "cell_type": "code",
   "execution_count": 557,
   "metadata": {},
   "outputs": [
    {
     "output_type": "execute_result",
     "data": {
      "text/plain": [
       "[]"
      ]
     },
     "metadata": {},
     "execution_count": 557
    }
   ],
   "source": [
    "seccion = raiz.findall(\"sumario/diario/seccion\")\n",
    "seccion"
   ]
  },
  {
   "cell_type": "code",
   "execution_count": 559,
   "metadata": {},
   "outputs": [
    {
     "output_type": "stream",
     "name": "stdout",
     "text": [
      "['I. Disposiciones generales']\n['II. Autoridades y personal. - A. Nombramientos, situaciones e incidencias']\n['II. Autoridades y personal. - B. Oposiciones y concursos']\n['III. Otras disposiciones']\n['IV. Administración de Justicia']\n['V. Anuncios. - A. Contratación del Sector Público']\n['V. Anuncios. - B. Otros anuncios oficiales']\n['V. Anuncios. - C. Anuncios particulares']\n"
     ]
    }
   ],
   "source": [
    "for seccion in raiz.xpath('//seccion'):\n",
    "    nombre_seccion = seccion.xpath('@nombre')\n",
    "    print(nombre_seccion)"
   ]
  },
  {
   "cell_type": "code",
   "execution_count": 561,
   "metadata": {},
   "outputs": [],
   "source": [
    "secciones = raiz.findall(\"sumario/diario/seccion\")\n",
    "for seccion in secciones:\n",
    "    print(seccion.text)"
   ]
  },
  {
   "cell_type": "code",
   "execution_count": 563,
   "metadata": {},
   "outputs": [],
   "source": [
    "tabla_resumen = pd.DataFrame()"
   ]
  },
  {
   "cell_type": "code",
   "execution_count": 565,
   "metadata": {},
   "outputs": [],
   "source": [
    "for seccion in raiz.xpath('//seccion[contains(@nombre, \"I. Disposiciones generales\")]'):\n",
    "    nombre_seccion = seccion.xpath('@nombre')\n",
    "\n",
    "    for departamento in seccion:\n",
    "        nombre_departamento = departamento.xpath('@nombre') \n",
    "\n",
    "        for epigrafe in departamento:\n",
    "            nombre_epigrafe = epigrafe.xpath('@nombre')\n",
    "\n",
    "            for item in epigrafe:\n",
    "                item_id = item.xpath('@id')\n",
    "                item_name = item.xpath('.//titulo/text()') \n",
    "\n",
    "                item_urlXml = \"https://www.boe.es\" + str(item.xpath('.//urlXml/text()'))[2:-2]\n",
    "\n",
    "                tabla_resumen = tabla_resumen.append({'Seccion': nombre_seccion, \n",
    "                                                      'Departamento': nombre_departamento, \n",
    "                                                      'Epigrafe' : nombre_epigrafe,\n",
    "                                                      'Item_id': item_id, \n",
    "                                                      'Item_Nombre' : item_name, \n",
    "                                                      'Item_URL_XML' : item_urlXml},\n",
    "                                                      ignore_index=True)\n"
   ]
  },
  {
   "cell_type": "code",
   "execution_count": 567,
   "metadata": {},
   "outputs": [
    {
     "output_type": "execute_result",
     "data": {
      "text/plain": [
       "                                        Departamento  \\\n",
       "0  [MINISTERIO DE ASUNTOS EXTERIORES, UNIÓN EUROP...   \n",
       "1  [MINISTERIO DE ASUNTOS EXTERIORES, UNIÓN EUROP...   \n",
       "2  [MINISTERIO DE ASUNTOS EXTERIORES, UNIÓN EUROP...   \n",
       "\n",
       "                     Epigrafe  \\\n",
       "0  [Tratados internacionales]   \n",
       "1  [Tratados internacionales]   \n",
       "2  [Tratados internacionales]   \n",
       "\n",
       "                                         Item_Nombre  \\\n",
       "0  [Enmiendas al Código Internacional de Estabili...   \n",
       "1  [Instrumento de Aprobación de la Enmienda al a...   \n",
       "2  [Modificaciones del Reglamento del Tratado de ...   \n",
       "\n",
       "                                        Item_URL_XML            Item_id  \\\n",
       "0  https://www.boe.es/diario_boe/xml.php?id=BOE-A...  [BOE-A-2021-1771]   \n",
       "1  https://www.boe.es/diario_boe/xml.php?id=BOE-A...  [BOE-A-2021-1772]   \n",
       "2  https://www.boe.es/diario_boe/xml.php?id=BOE-A...  [BOE-A-2021-1773]   \n",
       "\n",
       "                        Seccion  \n",
       "0  [I. Disposiciones generales]  \n",
       "1  [I. Disposiciones generales]  \n",
       "2  [I. Disposiciones generales]  "
      ],
      "text/html": "<div>\n<style scoped>\n    .dataframe tbody tr th:only-of-type {\n        vertical-align: middle;\n    }\n\n    .dataframe tbody tr th {\n        vertical-align: top;\n    }\n\n    .dataframe thead th {\n        text-align: right;\n    }\n</style>\n<table border=\"1\" class=\"dataframe\">\n  <thead>\n    <tr style=\"text-align: right;\">\n      <th></th>\n      <th>Departamento</th>\n      <th>Epigrafe</th>\n      <th>Item_Nombre</th>\n      <th>Item_URL_XML</th>\n      <th>Item_id</th>\n      <th>Seccion</th>\n    </tr>\n  </thead>\n  <tbody>\n    <tr>\n      <th>0</th>\n      <td>[MINISTERIO DE ASUNTOS EXTERIORES, UNIÓN EUROP...</td>\n      <td>[Tratados internacionales]</td>\n      <td>[Enmiendas al Código Internacional de Estabili...</td>\n      <td>https://www.boe.es/diario_boe/xml.php?id=BOE-A...</td>\n      <td>[BOE-A-2021-1771]</td>\n      <td>[I. Disposiciones generales]</td>\n    </tr>\n    <tr>\n      <th>1</th>\n      <td>[MINISTERIO DE ASUNTOS EXTERIORES, UNIÓN EUROP...</td>\n      <td>[Tratados internacionales]</td>\n      <td>[Instrumento de Aprobación de la Enmienda al a...</td>\n      <td>https://www.boe.es/diario_boe/xml.php?id=BOE-A...</td>\n      <td>[BOE-A-2021-1772]</td>\n      <td>[I. Disposiciones generales]</td>\n    </tr>\n    <tr>\n      <th>2</th>\n      <td>[MINISTERIO DE ASUNTOS EXTERIORES, UNIÓN EUROP...</td>\n      <td>[Tratados internacionales]</td>\n      <td>[Modificaciones del Reglamento del Tratado de ...</td>\n      <td>https://www.boe.es/diario_boe/xml.php?id=BOE-A...</td>\n      <td>[BOE-A-2021-1773]</td>\n      <td>[I. Disposiciones generales]</td>\n    </tr>\n  </tbody>\n</table>\n</div>"
     },
     "metadata": {},
     "execution_count": 567
    }
   ],
   "source": [
    "tabla_resumen.sort_values('Item_id')"
   ]
  },
  {
   "source": [
    "# Descarga ficheros XML asociados"
   ],
   "cell_type": "markdown",
   "metadata": {}
  },
  {
   "cell_type": "code",
   "execution_count": 569,
   "metadata": {},
   "outputs": [
    {
     "output_type": "stream",
     "name": "stdout",
     "text": [
      "['https://www.boe.es/diario_boe/xml.php?id', 'BOE-A-2021-1771']\n",
      "<re.Match object; span=(0, 15), match='BOE-A-2021-1771'>\n",
      "['https://www.boe.es/diario_boe/xml.php?id', 'BOE-A-2021-1772']\n",
      "<re.Match object; span=(0, 15), match='BOE-A-2021-1772'>\n",
      "['https://www.boe.es/diario_boe/xml.php?id', 'BOE-A-2021-1773']\n",
      "<re.Match object; span=(0, 15), match='BOE-A-2021-1773'>\n"
     ]
    }
   ],
   "source": [
    "for item_URL in tabla_resumen['Item_URL_XML']:\n",
    "    r = requests.get(item_URL)\n",
    "    #f = './BOEs/' + item_URL[-16:] + '.xml'\n",
    "    ### Separa el número del BOE del resto de la cadena y aplica expresión REGEX \n",
    "    print(item_URL.split('='))\n",
    "    print(re.match('BOE\\-A\\-[0-9]+\\-[0-9]+',item_URL.split('=')[1]))\n",
    "    filename = re.match('BOE\\-A\\-[0-9]+\\-[0-9]+',item_URL.split('=')[1]).group()\n",
    "    f = './BOEs/' + filename + '.xml'\n",
    "    save_html(r.content, f)"
   ]
  },
  {
   "source": [
    "# Importa de nuevo los XML generados"
   ],
   "cell_type": "markdown",
   "metadata": {}
  },
  {
   "cell_type": "code",
   "execution_count": 571,
   "metadata": {},
   "outputs": [
    {
     "output_type": "stream",
     "name": "stdout",
     "text": [
      "['./BOEs/BOE-A-2021-1773.xml', './BOEs/BOE-A-2021-1772.xml', './BOEs/BOE-A-2021-1771.xml']\n"
     ]
    }
   ],
   "source": [
    "\n",
    "import glob\n",
    "BOEs = glob.glob('./BOEs/BOE*.xml')\n",
    "print (BOEs)"
   ]
  },
  {
   "source": [
    "# Genera DF con datos Análisis de cada XML"
   ],
   "cell_type": "markdown",
   "metadata": {}
  },
  {
   "cell_type": "code",
   "execution_count": 573,
   "metadata": {},
   "outputs": [],
   "source": [
    "tabla_analisis = pd.DataFrame()\n",
    "\n",
    "for BOE in BOEs:\n",
    "    #print (BOE)\n",
    "    BOE_XML = etree.parse(BOE)\n",
    "    raiz=BOE_XML.getroot()\n",
    "\n",
    "    materias = [materia.text for materia in raiz.findall('analisis/materias/materia')]\n",
    "    alertas = [alerta.text for alerta in raiz.findall('analisis/alertas/alerta')]\n",
    "    \n",
    "    referencias = [str(referencia.xpath('@referencia')).replace(\"['\",'').replace(\"']\",'') for referencia in raiz.findall('analisis/referencias/anteriores/anterior')]\n",
    "    referencias_palabras = [referencia.text for referencia in raiz.findall('analisis/referencias/anteriores/anterior/palabra')]\n",
    "    referencias_texto = [referencia.text for referencia in raiz.findall('analisis/referencias/anteriores/anterior/texto')]\n",
    "\n",
    "    Item_Id = raiz.xpath(\".//identificador/text()\")\n",
    "    Item_name = raiz.xpath('.//titulo/text()') \n",
    "\n",
    "    Fecha_Publicacion = datetime.strptime(str(raiz.xpath('.//fecha_publicacion/text()'))[2:-2],\"%Y%m%d\")\n",
    "    #Fecha_Publicacion = str(raiz.xpath('.//fecha_publicacion/text()'))[2:-2]\n",
    " \n",
    "    tabla_analisis = tabla_analisis.append({'Item_id': Item_Id,\n",
    "                                            'Item_Name' : Item_name,\n",
    "                                            'Fecha_publicacion' : Fecha_Publicacion,\n",
    "                                            'Materias' : materias,\n",
    "                                            'Alertas' : alertas,\n",
    "                                            'Referencias' : referencias,\n",
    "                                            'Referencias_palabra' : referencias_palabras,\n",
    "                                            'Referencias_texto' : referencias_texto},\n",
    "                                            ignore_index=True)\n"
   ]
  },
  {
   "cell_type": "code",
   "execution_count": 575,
   "metadata": {},
   "outputs": [
    {
     "output_type": "execute_result",
     "data": {
      "text/plain": [
       "                                             Alertas Fecha_publicacion  \\\n",
       "2  [Relaciones internacionales, Transportes y trá...        2021-02-08   \n",
       "1              [Relaciones internacionales, Turismo]        2021-02-08   \n",
       "0    [Derecho Mercantil, Relaciones internacionales]        2021-02-08   \n",
       "\n",
       "                                           Item_Name            Item_id  \\\n",
       "2  [Enmiendas al Código Internacional de Estabili...  [BOE-A-2021-1771]   \n",
       "1  [Instrumento de Aprobación de la Enmienda al a...  [BOE-A-2021-1772]   \n",
       "0  [Modificaciones del Reglamento del Tratado de ...  [BOE-A-2021-1773]   \n",
       "\n",
       "                                            Materias Referencias  \\\n",
       "2  [Acuerdos internacionales, Buques, Construccio...          []   \n",
       "1  [Acuerdos internacionales, China, Lenguas ofic...          []   \n",
       "0  [Acuerdos internacionales, Organización Mundia...          []   \n",
       "\n",
       "  Referencias_palabra Referencias_texto  \n",
       "2                  []                []  \n",
       "1                  []                []  \n",
       "0                  []                []  "
      ],
      "text/html": "<div>\n<style scoped>\n    .dataframe tbody tr th:only-of-type {\n        vertical-align: middle;\n    }\n\n    .dataframe tbody tr th {\n        vertical-align: top;\n    }\n\n    .dataframe thead th {\n        text-align: right;\n    }\n</style>\n<table border=\"1\" class=\"dataframe\">\n  <thead>\n    <tr style=\"text-align: right;\">\n      <th></th>\n      <th>Alertas</th>\n      <th>Fecha_publicacion</th>\n      <th>Item_Name</th>\n      <th>Item_id</th>\n      <th>Materias</th>\n      <th>Referencias</th>\n      <th>Referencias_palabra</th>\n      <th>Referencias_texto</th>\n    </tr>\n  </thead>\n  <tbody>\n    <tr>\n      <th>2</th>\n      <td>[Relaciones internacionales, Transportes y trá...</td>\n      <td>2021-02-08</td>\n      <td>[Enmiendas al Código Internacional de Estabili...</td>\n      <td>[BOE-A-2021-1771]</td>\n      <td>[Acuerdos internacionales, Buques, Construccio...</td>\n      <td>[]</td>\n      <td>[]</td>\n      <td>[]</td>\n    </tr>\n    <tr>\n      <th>1</th>\n      <td>[Relaciones internacionales, Turismo]</td>\n      <td>2021-02-08</td>\n      <td>[Instrumento de Aprobación de la Enmienda al a...</td>\n      <td>[BOE-A-2021-1772]</td>\n      <td>[Acuerdos internacionales, China, Lenguas ofic...</td>\n      <td>[]</td>\n      <td>[]</td>\n      <td>[]</td>\n    </tr>\n    <tr>\n      <th>0</th>\n      <td>[Derecho Mercantil, Relaciones internacionales]</td>\n      <td>2021-02-08</td>\n      <td>[Modificaciones del Reglamento del Tratado de ...</td>\n      <td>[BOE-A-2021-1773]</td>\n      <td>[Acuerdos internacionales, Organización Mundia...</td>\n      <td>[]</td>\n      <td>[]</td>\n      <td>[]</td>\n    </tr>\n  </tbody>\n</table>\n</div>"
     },
     "metadata": {},
     "execution_count": 575
    }
   ],
   "source": [
    "tabla_analisis.sort_values('Item_id')"
   ]
  },
  {
   "cell_type": "code",
   "execution_count": 577,
   "metadata": {},
   "outputs": [],
   "source": [
    "# Crea nueva columna vacía de tipo lista en tabla_analisis\n",
    "tabla_analisis['Referencias_completas'] = [[] for i in range(len(tabla_analisis))]\n",
    "tabla_analisis['Tags'] = [[] for i in range(len(tabla_analisis))]\n",
    "tabla_analisis['Match_ASECORP_BBDD'] = [[] for i in range(len(tabla_analisis))]\n"
   ]
  },
  {
   "cell_type": "code",
   "execution_count": 579,
   "metadata": {},
   "outputs": [],
   "source": [
    "# Define expresiones REGEX para búsqueda de leyes, decretos, etc. referenciadas anteriormente\n",
    "pattern = ['Ley [0-9]+\\/[0-9]+','Real Decreto [0-9]+\\/[0-9]+','Real Decreto Legislativo [0-9]+\\/[0-9]+','Real Decreto-ley [0-9]+\\/[0-9]+','Orden [A-Z]+\\/[0-9]+\\/[0-9]+','Orden Circular [0-9]+\\/[0-9]+','Reglamento \\(UE\\) [0-9]+\\/[0-9]+','Sentencia de [0-9]+ de [a-z]+ de [0-9]+','Sentencia [0-9]+\\/[0-9]+','Orden de [0-9]+ de [a-z]+ de [0-9]+', 'Resolución de [0-9]+ de [a-z]+ de [0-9]+','Resolución [a-z]+\\/[0-9]+\\/[0-9]+', 'Nota de Servicio [0-9]+\\/[0-9]+', 'Acuerdo multilateral M\\-[0-9]+', 'Circular [0-9]+\\/[0-9]+']"
   ]
  },
  {
   "cell_type": "code",
   "execution_count": 581,
   "metadata": {
    "tags": []
   },
   "outputs": [
    {
     "output_type": "stream",
     "name": "stdout",
     "text": [
      "[]\n[]\n[]\n"
     ]
    }
   ],
   "source": [
    "# Consolida las columnas Referencias_palabra y Referencias_texto en una única frase\n",
    "for i, row in tabla_analisis.iterrows():\n",
    "    for item_list in range(len(row['Referencias'])): \n",
    "        row['Referencias_completas'].append(row['Referencias_palabra'][item_list] + ' ' + row['Referencias_texto'][item_list])\n",
    "        tabla_analisis['Tags'][i] = re.findall('|'.join(pattern), str(row['Referencias_texto']), flags=re.IGNORECASE)\n",
    "    print(row['Referencias_completas'])"
   ]
  },
  {
   "cell_type": "code",
   "execution_count": 583,
   "metadata": {},
   "outputs": [
    {
     "output_type": "execute_result",
     "data": {
      "text/plain": [
       "                                             Alertas Fecha_publicacion  \\\n",
       "0    [Derecho Mercantil, Relaciones internacionales]        2021-02-08   \n",
       "1              [Relaciones internacionales, Turismo]        2021-02-08   \n",
       "2  [Relaciones internacionales, Transportes y trá...        2021-02-08   \n",
       "\n",
       "                                           Item_Name            Item_id  \\\n",
       "0  [Modificaciones del Reglamento del Tratado de ...  [BOE-A-2021-1773]   \n",
       "1  [Instrumento de Aprobación de la Enmienda al a...  [BOE-A-2021-1772]   \n",
       "2  [Enmiendas al Código Internacional de Estabili...  [BOE-A-2021-1771]   \n",
       "\n",
       "                                            Materias Referencias  \\\n",
       "0  [Acuerdos internacionales, Organización Mundia...          []   \n",
       "1  [Acuerdos internacionales, China, Lenguas ofic...          []   \n",
       "2  [Acuerdos internacionales, Buques, Construccio...          []   \n",
       "\n",
       "  Referencias_palabra Referencias_texto Referencias_completas Tags  \\\n",
       "0                  []                []                    []   []   \n",
       "1                  []                []                    []   []   \n",
       "2                  []                []                    []   []   \n",
       "\n",
       "  Match_ASECORP_BBDD  \n",
       "0                 []  \n",
       "1                 []  \n",
       "2                 []  "
      ],
      "text/html": "<div>\n<style scoped>\n    .dataframe tbody tr th:only-of-type {\n        vertical-align: middle;\n    }\n\n    .dataframe tbody tr th {\n        vertical-align: top;\n    }\n\n    .dataframe thead th {\n        text-align: right;\n    }\n</style>\n<table border=\"1\" class=\"dataframe\">\n  <thead>\n    <tr style=\"text-align: right;\">\n      <th></th>\n      <th>Alertas</th>\n      <th>Fecha_publicacion</th>\n      <th>Item_Name</th>\n      <th>Item_id</th>\n      <th>Materias</th>\n      <th>Referencias</th>\n      <th>Referencias_palabra</th>\n      <th>Referencias_texto</th>\n      <th>Referencias_completas</th>\n      <th>Tags</th>\n      <th>Match_ASECORP_BBDD</th>\n    </tr>\n  </thead>\n  <tbody>\n    <tr>\n      <th>0</th>\n      <td>[Derecho Mercantil, Relaciones internacionales]</td>\n      <td>2021-02-08</td>\n      <td>[Modificaciones del Reglamento del Tratado de ...</td>\n      <td>[BOE-A-2021-1773]</td>\n      <td>[Acuerdos internacionales, Organización Mundia...</td>\n      <td>[]</td>\n      <td>[]</td>\n      <td>[]</td>\n      <td>[]</td>\n      <td>[]</td>\n      <td>[]</td>\n    </tr>\n    <tr>\n      <th>1</th>\n      <td>[Relaciones internacionales, Turismo]</td>\n      <td>2021-02-08</td>\n      <td>[Instrumento de Aprobación de la Enmienda al a...</td>\n      <td>[BOE-A-2021-1772]</td>\n      <td>[Acuerdos internacionales, China, Lenguas ofic...</td>\n      <td>[]</td>\n      <td>[]</td>\n      <td>[]</td>\n      <td>[]</td>\n      <td>[]</td>\n      <td>[]</td>\n    </tr>\n    <tr>\n      <th>2</th>\n      <td>[Relaciones internacionales, Transportes y trá...</td>\n      <td>2021-02-08</td>\n      <td>[Enmiendas al Código Internacional de Estabili...</td>\n      <td>[BOE-A-2021-1771]</td>\n      <td>[Acuerdos internacionales, Buques, Construccio...</td>\n      <td>[]</td>\n      <td>[]</td>\n      <td>[]</td>\n      <td>[]</td>\n      <td>[]</td>\n      <td>[]</td>\n    </tr>\n  </tbody>\n</table>\n</div>"
     },
     "metadata": {},
     "execution_count": 583
    }
   ],
   "source": [
    "tabla_analisis"
   ]
  },
  {
   "cell_type": "code",
   "execution_count": null,
   "metadata": {},
   "outputs": [],
   "source": [
    "texto = ''\n",
    "for refs in tabla_analisis['Referencias_completas']:\n",
    "    for ref in refs:\n",
    "        texto = texto + ref + ' '\n",
    "        print(ref)"
   ]
  },
  {
   "cell_type": "code",
   "execution_count": 492,
   "metadata": {},
   "outputs": [
    {
     "output_type": "stream",
     "name": "stdout",
     "text": [
      "\n['BOE-A-2021-1773']['Modificaciones del Reglamento del Tratado de cooperación en materia de patentes (PCT) adoptadas el 2 de octubre de 2018 por la Asamblea de la Unión Internacional de Cooperación en materia de patentes (Unión PCT) en su 50º periodo de sesiones (29º extraordinario).']\n\n\n['BOE-A-2021-1772']['Instrumento de Aprobación de la Enmienda al artículo 38 de los Estatutos de la Organización Mundial del Turismo (OMT), adoptada por la Asamblea General de la OMT en Cartagena de Indias el 29 de noviembre de 2007, mediante Resolución A/RES/521(XVII).']\n\n\n['BOE-A-2021-1771']['Enmiendas al Código Internacional de Estabilidad sin Avería, 2008 (Código IS 2008) adoptadas en Londres el 24 de mayo de 2018 mediante la Resolución MSC. 443(99).']\n\n"
     ]
    }
   ],
   "source": [
    "texto = ''\n",
    "for i, row in tabla_analisis.iterrows():\n",
    "    #unique_id = i\n",
    "    print('\\n' + str(row['Item_id']) + str(row['Item_Name']) +'\\n')\n",
    "\n",
    "    antecedente = 1\n",
    "    for ref in row['Referencias_completas']:\n",
    "        texto = texto + ref + ' '\n",
    "        print('\\t' + 'Antecedente ' + str(antecedente) + ': ' + ref + ' ' + str(re.findall('|'.join(pattern), ref, flags=re.IGNORECASE)))\n",
    "        antecedente += 1"
   ]
  },
  {
   "cell_type": "code",
   "execution_count": 493,
   "metadata": {},
   "outputs": [],
   "source": [
    "# Aplica expresiones REGEX para búsqueda de leyes, decretos, etc. referenciadas anteriormente\n",
    "regex_result = re.findall('|'.join(pattern), texto, flags=re.IGNORECASE)"
   ]
  },
  {
   "cell_type": "code",
   "execution_count": 494,
   "metadata": {},
   "outputs": [
    {
     "output_type": "stream",
     "name": "stdout",
     "text": [
      "[]\n"
     ]
    }
   ],
   "source": [
    "print(regex_result)"
   ]
  },
  {
   "cell_type": "code",
   "execution_count": 495,
   "metadata": {},
   "outputs": [],
   "source": [
    "## Elimina duplicados\n",
    "boletin_flat_list = list(set(regex_result))"
   ]
  },
  {
   "cell_type": "code",
   "execution_count": 496,
   "metadata": {},
   "outputs": [
    {
     "output_type": "execute_result",
     "data": {
      "text/plain": [
       "[]"
      ]
     },
     "metadata": {},
     "execution_count": 496
    }
   ],
   "source": [
    "boletin_flat_list"
   ]
  },
  {
   "source": [
    "## Importa BBDD ASECORP"
   ],
   "cell_type": "markdown",
   "metadata": {}
  },
  {
   "cell_type": "code",
   "execution_count": 497,
   "metadata": {},
   "outputs": [],
   "source": [
    "ASECORP_BBDD = pd.read_csv('./ASECORP/ExportNormes_20210126.csv', delimiter=';')"
   ]
  },
  {
   "cell_type": "code",
   "execution_count": 498,
   "metadata": {},
   "outputs": [
    {
     "output_type": "execute_result",
     "data": {
      "text/plain": [
       "                        Codigo      Numero  \\\n",
       "0       RES SLT/2313/2020 CAT         2313   \n",
       "1      (zzz) RES 12/4/2007 AST   12/4/2007   \n",
       "2           A CORUÑA 10/7/2015   10/7/2015   \n",
       "3       A CORUÑA 11/8/2014 (1)   11/8/2014   \n",
       "4       A CORUÑA 11/8/2014 (2)   11/8/2014   \n",
       "...                        ...         ...   \n",
       "19152          ZUMAIA 1/3/2001    1/3/2001   \n",
       "19153        ZUMAIA 12/11/1999  12/11/1999   \n",
       "19154         ZUMAIA 15/6/2012   15/6/2012   \n",
       "19155          ZUMAIA 6/2/2004    6/2/2004   \n",
       "19156          ZUMAIA 9/2/2004    9/2/2004   \n",
       "\n",
       "                                                  Titulo CodigoAmbito  \\\n",
       "0      Resolución SLT/2313/2020, de 24 de septiembre,...          CAT   \n",
       "1      Resolución de 12 abril de 2007, de la Consejer...          AST   \n",
       "2      Modificación de la Ordenanza de vertidos y ser...          GAL   \n",
       "3      Ordenanza municipal reguladora de los procedim...          GAL   \n",
       "4      Ordenanza de protección contra la contaminació...          GAL   \n",
       "...                                                  ...          ...   \n",
       "19152  Ordenanza reguladora de la gestión del ciclo i...          PVA   \n",
       "19153  Normativa complementaria de las Normas Subsidi...          PVA   \n",
       "19154  Modificación de la Ordenanza municipal de la g...          PVA   \n",
       "19155  Modificación de la Normativa complementaria de...          PVA   \n",
       "19156  Reglamento regulador del vertido a colector de...          PVA   \n",
       "\n",
       "           Ambito Municipio   TiposNorma IdTiposNorma  \n",
       "0        Cataluña       NaN   Prevención          [2]  \n",
       "1        Asturias       NaN  M. Ambiente          [1]  \n",
       "2         Galicia  A Coruña  M. Ambiente          [1]  \n",
       "3         Galicia  A Coruña  M. Ambiente          [1]  \n",
       "4         Galicia  A Coruña  M. Ambiente          [1]  \n",
       "...           ...       ...          ...          ...  \n",
       "19152  Pais Vasco    Zumaia  M. Ambiente          [1]  \n",
       "19153  Pais Vasco    Zumaia  M. Ambiente          [1]  \n",
       "19154  Pais Vasco    Zumaia  M. Ambiente          [1]  \n",
       "19155  Pais Vasco    Zumaia  M. Ambiente          [1]  \n",
       "19156  Pais Vasco    Zumaia  M. Ambiente          [1]  \n",
       "\n",
       "[19157 rows x 8 columns]"
      ],
      "text/html": "<div>\n<style scoped>\n    .dataframe tbody tr th:only-of-type {\n        vertical-align: middle;\n    }\n\n    .dataframe tbody tr th {\n        vertical-align: top;\n    }\n\n    .dataframe thead th {\n        text-align: right;\n    }\n</style>\n<table border=\"1\" class=\"dataframe\">\n  <thead>\n    <tr style=\"text-align: right;\">\n      <th></th>\n      <th>Codigo</th>\n      <th>Numero</th>\n      <th>Titulo</th>\n      <th>CodigoAmbito</th>\n      <th>Ambito</th>\n      <th>Municipio</th>\n      <th>TiposNorma</th>\n      <th>IdTiposNorma</th>\n    </tr>\n  </thead>\n  <tbody>\n    <tr>\n      <th>0</th>\n      <td>RES SLT/2313/2020 CAT</td>\n      <td>2313</td>\n      <td>Resolución SLT/2313/2020, de 24 de septiembre,...</td>\n      <td>CAT</td>\n      <td>Cataluña</td>\n      <td>NaN</td>\n      <td>Prevención</td>\n      <td>[2]</td>\n    </tr>\n    <tr>\n      <th>1</th>\n      <td>(zzz) RES 12/4/2007 AST</td>\n      <td>12/4/2007</td>\n      <td>Resolución de 12 abril de 2007, de la Consejer...</td>\n      <td>AST</td>\n      <td>Asturias</td>\n      <td>NaN</td>\n      <td>M. Ambiente</td>\n      <td>[1]</td>\n    </tr>\n    <tr>\n      <th>2</th>\n      <td>A CORUÑA 10/7/2015</td>\n      <td>10/7/2015</td>\n      <td>Modificación de la Ordenanza de vertidos y ser...</td>\n      <td>GAL</td>\n      <td>Galicia</td>\n      <td>A Coruña</td>\n      <td>M. Ambiente</td>\n      <td>[1]</td>\n    </tr>\n    <tr>\n      <th>3</th>\n      <td>A CORUÑA 11/8/2014 (1)</td>\n      <td>11/8/2014</td>\n      <td>Ordenanza municipal reguladora de los procedim...</td>\n      <td>GAL</td>\n      <td>Galicia</td>\n      <td>A Coruña</td>\n      <td>M. Ambiente</td>\n      <td>[1]</td>\n    </tr>\n    <tr>\n      <th>4</th>\n      <td>A CORUÑA 11/8/2014 (2)</td>\n      <td>11/8/2014</td>\n      <td>Ordenanza de protección contra la contaminació...</td>\n      <td>GAL</td>\n      <td>Galicia</td>\n      <td>A Coruña</td>\n      <td>M. Ambiente</td>\n      <td>[1]</td>\n    </tr>\n    <tr>\n      <th>...</th>\n      <td>...</td>\n      <td>...</td>\n      <td>...</td>\n      <td>...</td>\n      <td>...</td>\n      <td>...</td>\n      <td>...</td>\n      <td>...</td>\n    </tr>\n    <tr>\n      <th>19152</th>\n      <td>ZUMAIA 1/3/2001</td>\n      <td>1/3/2001</td>\n      <td>Ordenanza reguladora de la gestión del ciclo i...</td>\n      <td>PVA</td>\n      <td>Pais Vasco</td>\n      <td>Zumaia</td>\n      <td>M. Ambiente</td>\n      <td>[1]</td>\n    </tr>\n    <tr>\n      <th>19153</th>\n      <td>ZUMAIA 12/11/1999</td>\n      <td>12/11/1999</td>\n      <td>Normativa complementaria de las Normas Subsidi...</td>\n      <td>PVA</td>\n      <td>Pais Vasco</td>\n      <td>Zumaia</td>\n      <td>M. Ambiente</td>\n      <td>[1]</td>\n    </tr>\n    <tr>\n      <th>19154</th>\n      <td>ZUMAIA 15/6/2012</td>\n      <td>15/6/2012</td>\n      <td>Modificación de la Ordenanza municipal de la g...</td>\n      <td>PVA</td>\n      <td>Pais Vasco</td>\n      <td>Zumaia</td>\n      <td>M. Ambiente</td>\n      <td>[1]</td>\n    </tr>\n    <tr>\n      <th>19155</th>\n      <td>ZUMAIA 6/2/2004</td>\n      <td>6/2/2004</td>\n      <td>Modificación de la Normativa complementaria de...</td>\n      <td>PVA</td>\n      <td>Pais Vasco</td>\n      <td>Zumaia</td>\n      <td>M. Ambiente</td>\n      <td>[1]</td>\n    </tr>\n    <tr>\n      <th>19156</th>\n      <td>ZUMAIA 9/2/2004</td>\n      <td>9/2/2004</td>\n      <td>Reglamento regulador del vertido a colector de...</td>\n      <td>PVA</td>\n      <td>Pais Vasco</td>\n      <td>Zumaia</td>\n      <td>M. Ambiente</td>\n      <td>[1]</td>\n    </tr>\n  </tbody>\n</table>\n<p>19157 rows × 8 columns</p>\n</div>"
     },
     "metadata": {},
     "execution_count": 498
    }
   ],
   "source": [
    "ASECORP_BBDD"
   ]
  },
  {
   "cell_type": "code",
   "execution_count": 499,
   "metadata": {},
   "outputs": [],
   "source": [
    "ASECORP_BBDD_BOE = ASECORP_BBDD.loc[ASECORP_BBDD['Ambito'] == 'España']"
   ]
  },
  {
   "cell_type": "code",
   "execution_count": 500,
   "metadata": {},
   "outputs": [
    {
     "output_type": "execute_result",
     "data": {
      "text/plain": [
       "                        Codigo      Numero  \\\n",
       "23              ACU 1/2020 ESP           1   \n",
       "35           ACU 11/6/2007 ESP   11/6/2007   \n",
       "57          ACU 17/10/2006 ESP  17/10/2006   \n",
       "71          ACU 19/11/2018 ESP  19/11/2018   \n",
       "82              ACU 2/2020 ESP           2   \n",
       "...                        ...         ...   \n",
       "18496          STC 86/2019 ESP          86   \n",
       "18497          STC 87/2019 ESP          87   \n",
       "18498          STC 88/2018 ESP          88   \n",
       "18499         STC 9/3/2010 ESP    9/3/2010   \n",
       "18879  verificación de calidad           1   \n",
       "\n",
       "                                                  Titulo CodigoAmbito  Ambito  \\\n",
       "23     Acuerdo Multilateral RID 1/2020 en virtud de l...          ESP  España   \n",
       "35     Entrada en vigor del Acuerdo entre el Reino de...          ESP  España   \n",
       "57     Aplicación provisional del Acuerdo entre el Re...          ESP  España   \n",
       "71     Acuerdo de la Junta de Gobierno de la Confeder...          ESP  España   \n",
       "82     Acuerdo Multilateral RID 2/2020 en virtud de l...          ESP  España   \n",
       "...                                                  ...          ...     ...   \n",
       "18496  Sentencia 86/2019, de 20 de junio de 2019. Rec...          ESP  España   \n",
       "18497  Sentencia 87/2019, de 20 de junio de 2019. Rec...          ESP  España   \n",
       "18498  Sentencia 88/2018, de 19 de julio de 2018. Con...          ESP  España   \n",
       "18499  Sentencia de 9 de marzo de 2010, de la Sala Te...          ESP  España   \n",
       "18879   Norma verificación calidad alertas en produccion          ESP  España   \n",
       "\n",
       "      Municipio                     TiposNorma IdTiposNorma  \n",
       "23          NaN       M. Ambiente / Prevención       [1][2]  \n",
       "35          NaN                    M. Ambiente          [1]  \n",
       "57          NaN                    M. Ambiente          [1]  \n",
       "71          NaN                    M. Ambiente          [1]  \n",
       "82          NaN       M. Ambiente / Prevención       [1][2]  \n",
       "...         ...                            ...          ...  \n",
       "18496       NaN                    M. Ambiente          [1]  \n",
       "18497       NaN                    M. Ambiente          [1]  \n",
       "18498       NaN  M. Ambiente / Reg. Industrial       [1][3]  \n",
       "18499       NaN                    M. Ambiente          [1]  \n",
       "18879         -                Reg. Industrial          [3]  \n",
       "\n",
       "[2959 rows x 8 columns]"
      ],
      "text/html": "<div>\n<style scoped>\n    .dataframe tbody tr th:only-of-type {\n        vertical-align: middle;\n    }\n\n    .dataframe tbody tr th {\n        vertical-align: top;\n    }\n\n    .dataframe thead th {\n        text-align: right;\n    }\n</style>\n<table border=\"1\" class=\"dataframe\">\n  <thead>\n    <tr style=\"text-align: right;\">\n      <th></th>\n      <th>Codigo</th>\n      <th>Numero</th>\n      <th>Titulo</th>\n      <th>CodigoAmbito</th>\n      <th>Ambito</th>\n      <th>Municipio</th>\n      <th>TiposNorma</th>\n      <th>IdTiposNorma</th>\n    </tr>\n  </thead>\n  <tbody>\n    <tr>\n      <th>23</th>\n      <td>ACU 1/2020 ESP</td>\n      <td>1</td>\n      <td>Acuerdo Multilateral RID 1/2020 en virtud de l...</td>\n      <td>ESP</td>\n      <td>España</td>\n      <td>NaN</td>\n      <td>M. Ambiente / Prevención</td>\n      <td>[1][2]</td>\n    </tr>\n    <tr>\n      <th>35</th>\n      <td>ACU 11/6/2007 ESP</td>\n      <td>11/6/2007</td>\n      <td>Entrada en vigor del Acuerdo entre el Reino de...</td>\n      <td>ESP</td>\n      <td>España</td>\n      <td>NaN</td>\n      <td>M. Ambiente</td>\n      <td>[1]</td>\n    </tr>\n    <tr>\n      <th>57</th>\n      <td>ACU 17/10/2006 ESP</td>\n      <td>17/10/2006</td>\n      <td>Aplicación provisional del Acuerdo entre el Re...</td>\n      <td>ESP</td>\n      <td>España</td>\n      <td>NaN</td>\n      <td>M. Ambiente</td>\n      <td>[1]</td>\n    </tr>\n    <tr>\n      <th>71</th>\n      <td>ACU 19/11/2018 ESP</td>\n      <td>19/11/2018</td>\n      <td>Acuerdo de la Junta de Gobierno de la Confeder...</td>\n      <td>ESP</td>\n      <td>España</td>\n      <td>NaN</td>\n      <td>M. Ambiente</td>\n      <td>[1]</td>\n    </tr>\n    <tr>\n      <th>82</th>\n      <td>ACU 2/2020 ESP</td>\n      <td>2</td>\n      <td>Acuerdo Multilateral RID 2/2020 en virtud de l...</td>\n      <td>ESP</td>\n      <td>España</td>\n      <td>NaN</td>\n      <td>M. Ambiente / Prevención</td>\n      <td>[1][2]</td>\n    </tr>\n    <tr>\n      <th>...</th>\n      <td>...</td>\n      <td>...</td>\n      <td>...</td>\n      <td>...</td>\n      <td>...</td>\n      <td>...</td>\n      <td>...</td>\n      <td>...</td>\n    </tr>\n    <tr>\n      <th>18496</th>\n      <td>STC 86/2019 ESP</td>\n      <td>86</td>\n      <td>Sentencia 86/2019, de 20 de junio de 2019. Rec...</td>\n      <td>ESP</td>\n      <td>España</td>\n      <td>NaN</td>\n      <td>M. Ambiente</td>\n      <td>[1]</td>\n    </tr>\n    <tr>\n      <th>18497</th>\n      <td>STC 87/2019 ESP</td>\n      <td>87</td>\n      <td>Sentencia 87/2019, de 20 de junio de 2019. Rec...</td>\n      <td>ESP</td>\n      <td>España</td>\n      <td>NaN</td>\n      <td>M. Ambiente</td>\n      <td>[1]</td>\n    </tr>\n    <tr>\n      <th>18498</th>\n      <td>STC 88/2018 ESP</td>\n      <td>88</td>\n      <td>Sentencia 88/2018, de 19 de julio de 2018. Con...</td>\n      <td>ESP</td>\n      <td>España</td>\n      <td>NaN</td>\n      <td>M. Ambiente / Reg. Industrial</td>\n      <td>[1][3]</td>\n    </tr>\n    <tr>\n      <th>18499</th>\n      <td>STC 9/3/2010 ESP</td>\n      <td>9/3/2010</td>\n      <td>Sentencia de 9 de marzo de 2010, de la Sala Te...</td>\n      <td>ESP</td>\n      <td>España</td>\n      <td>NaN</td>\n      <td>M. Ambiente</td>\n      <td>[1]</td>\n    </tr>\n    <tr>\n      <th>18879</th>\n      <td>verificación de calidad</td>\n      <td>1</td>\n      <td>Norma verificación calidad alertas en produccion</td>\n      <td>ESP</td>\n      <td>España</td>\n      <td>-</td>\n      <td>Reg. Industrial</td>\n      <td>[3]</td>\n    </tr>\n  </tbody>\n</table>\n<p>2959 rows × 8 columns</p>\n</div>"
     },
     "metadata": {},
     "execution_count": 500
    }
   ],
   "source": [
    "ASECORP_BBDD_BOE"
   ]
  },
  {
   "cell_type": "code",
   "execution_count": 501,
   "metadata": {},
   "outputs": [],
   "source": [
    "# Crea nueva columna vacía de tipo lista en ASECORP_BBDD\n",
    "ASECORP_BBDD_BOE['Tags'] = [[] for i in range(len(ASECORP_BBDD_BOE))]"
   ]
  },
  {
   "cell_type": "code",
   "execution_count": 502,
   "metadata": {},
   "outputs": [],
   "source": [
    "titulo = []\n",
    "for i, row in ASECORP_BBDD_BOE.iterrows():\n",
    "    titulo.append(str(row['Titulo']) + str(re.findall('|'.join(pattern), str(row['Titulo']), flags=re.IGNORECASE)))\n",
    "    ASECORP_BBDD_BOE['Tags'][i] = re.findall('|'.join(pattern), str(row['Titulo']), flags=re.IGNORECASE)"
   ]
  },
  {
   "cell_type": "code",
   "execution_count": 503,
   "metadata": {},
   "outputs": [
    {
     "output_type": "execute_result",
     "data": {
      "text/plain": [
       "                      Codigo     Numero  \\\n",
       "11629  ORD PRE/2827/2009 ESP       2827   \n",
       "11630  ORD PRE/2843/2009 ESP       2843   \n",
       "11631  ORD PRE/2851/2010 ESP       2851   \n",
       "11632  ORD PRE/2871/2011 ESP       2871   \n",
       "11633  ORD PRE/2872/2011 ESP       2872   \n",
       "11634    ORD PRE/29/2004 ESP         29   \n",
       "11635  ORD PRE/2922/2005 ESP       2922   \n",
       "11636  ORD PRE/2957/2008 ESP       2957   \n",
       "11637     ORD PRE/3/2006 ESP          3   \n",
       "11638  ORD PRE/3159/2004 ESP       3159   \n",
       "11639   ORD PRE/321/2009 ESP        321   \n",
       "11640  ORD PRE/3271/2011 ESP       3271   \n",
       "11641  ORD PRE/3290/2002 ESP       3290   \n",
       "11642  ORD PRE/3297/2004 ESP       3297   \n",
       "11643  ORD PRE/3298/2004 ESP       3298   \n",
       "11644  ORD PRE/3302/2006 ESP       3302   \n",
       "11645  ORD PRE/3338/2007 ESP       3338   \n",
       "11647  ORD PRE/3420/2007 ESP       3420   \n",
       "11648  ORD PRE/3476/2003 ESP       3476   \n",
       "11649  ORD PRE/3539/2008 ESP       3539   \n",
       "11650   ORD PRE/370/2012 ESP        370   \n",
       "11651   ORD PRE/374/2008 ESP        374   \n",
       "11652   ORD PRE/375/2003 ESP        375   \n",
       "11653  ORD PRE/3834/2005 ESP       3834   \n",
       "11654  ORD PRE/3856/2005 ESP       3856   \n",
       "11655  ORD PRE/3929/2004 ESP       3929   \n",
       "11656   ORD PRE/402/2006 ESP        402   \n",
       "11657   ORD PRE/402/2008 CAT        402   \n",
       "11658   ORD PRE/456/2007 ESP        456   \n",
       "11659   ORD PRE/468/2008 ESP        468   \n",
       "11660   ORD PRE/473/2004 ESP        473   \n",
       "11661   ORD PRE/507/2008 ESP        507   \n",
       "11662    ORD PRE/52/2010 ESP  23/1/2010   \n",
       "11663   ORD PRE/531/2010 ESP        531   \n",
       "11664   ORD PRE/556/2005 ESP        556   \n",
       "11665   ORD PRE/568/2009 ESP        568   \n",
       "11666   ORD PRE/628/2011 ESP        628   \n",
       "11667   ORD PRE/629/2011 ESP        629   \n",
       "11668   ORD PRE/630/2011 ESP        630   \n",
       "11669   ORD PRE/631/2011 ESP        631   \n",
       "11670   ORD PRE/662/2013 ESP        662   \n",
       "11671   ORD PRE/675/2013 ESP        675   \n",
       "11672   ORD PRE/690/2005 ESP        690   \n",
       "11673   ORD PRE/696/2008 ESP        696   \n",
       "11674   ORD PRE/730/2003 ESP        730   \n",
       "11675    ORD PRE/77/2008 ESP         77   \n",
       "11676   ORD PRE/772/2016 ESP        772   \n",
       "11677   ORD PRE/777/2009 ESP        777   \n",
       "11678   ORD PRE/777/2011 ESP        777   \n",
       "11679   ORD PRE/839/2010 ESP        839   \n",
       "\n",
       "                                                  Titulo CodigoAmbito  Ambito  \\\n",
       "11629  Orden PRE/2827/2009, de 19 de octubre, por la ...          ESP  España   \n",
       "11630  Orden PRE/2843/2009, de 19 de octubre, por la ...          ESP  España   \n",
       "11631  Orden PRE/2851/2010, de 4 de noviembre, por la...          ESP  España   \n",
       "11632  Orden PRE/2871/2011, de 25 de octubre, por la ...          ESP  España   \n",
       "11633  Orden PRE/2872/2011, de 25 de octubre, por la ...          ESP  España   \n",
       "11634  Orden PRE/29/2004, de 15 de enero, por la que ...          ESP  España   \n",
       "11635  Orden PRE/2922/2005, de 19 de septiembre, por ...          ESP  España   \n",
       "11636  Orden PRE/2957/2008, de 10 de octubre, por la ...          ESP  España   \n",
       "11637  Orden PRE/3/2006, de 12 de enero, por la que s...          ESP  España   \n",
       "11638  Orden PRE/3159/2004, de 28 de septiembre, por ...          ESP  España   \n",
       "11639  Orden PRE/321/2009, de 13 de febrero, por la q...          ESP  España   \n",
       "11640  Orden PRE/3271/2011, de 25 de noviembre, por l...          ESP  España   \n",
       "11641  Orden PRE/3290/2002, de 23 de diciembre, por l...          ESP  España   \n",
       "11642  Orden PRE/3297/2004, de 13 de octubre, por la ...          ESP  España   \n",
       "11643  Orden PRE/3298/2004, de 13 de octubre, por la ...          ESP  España   \n",
       "11644  Orden PRE/3302/2006, de 27 de octubre, por la ...          ESP  España   \n",
       "11645  Orden PRE/3338/2007, de 15 de noviembre, por l...          ESP  España   \n",
       "11647  Orden PRE/3420/2007, de 14 de noviembre, por l...          ESP  España   \n",
       "11648  Orden PRE/3476/2003, de 9 de diciembre, por la...          ESP  España   \n",
       "11649  Orden PRE/3539/2008, de 28 de noviembre, por l...          ESP  España   \n",
       "11650  Orden PRE/370/2012, de 27 de febrero, por la q...          ESP  España   \n",
       "11651  Orden PRE/374/2008, de 31 de enero, por la que...          ESP  España   \n",
       "11652  Orden PRE/375/2003, de 24 de febrero, por la q...          ESP  España   \n",
       "11653  Orden PRE/3834/2005, de 9 de diciembre, por la...          ESP  España   \n",
       "11654  Orden PRE/3856/2005, de 12 de diciembre, por l...          ESP  España   \n",
       "11655  Orden PRE/3929/2004, de 30 de noviembre, por l...          ESP  España   \n",
       "11656  Orden PRE/402/2006, de 16 de febrero, por la q...          ESP  España   \n",
       "11657  Orden PRE/402/2008, de 28 de agosto, por la qu...          ESP  España   \n",
       "11658  Orden PRE/456/2007, de 28 de febrero, por la q...          ESP  España   \n",
       "11659  Orden PRE/468/2008, de 15 de febrero, por la q...          ESP  España   \n",
       "11660  Orden PRE/473/2004, de 25 de febrero, por la q...          ESP  España   \n",
       "11661  Orden PRE/507/2008, de 26 de febrero, por la q...          ESP  España   \n",
       "11662  Orden PRE/52/2010, de 21 de enero, por la que ...          ESP  España   \n",
       "11663  Orden PRE/531/2010, de 26 de febrero, por la q...          ESP  España   \n",
       "11664  Orden PRE/556/2005, de 10 de marzo, por la que...          ESP  España   \n",
       "11665  Orden PRE/568/2009, de 5 de marzo, por la que ...          ESP  España   \n",
       "11666  Orden PRE/628/2011, de 22 de marzo, por la que...          ESP  España   \n",
       "11667  Orden PRE/629/2011, de 22 de marzo, por la que...          ESP  España   \n",
       "11668  Orden PRE/630/2011, de 23 de marzo, por la que...          ESP  España   \n",
       "11669  Orden PRE/631/2011, de 23 de marzo, por la que...          ESP  España   \n",
       "11670  Orden PRE/662/2013, de 22 de abril, por la que...          ESP  España   \n",
       "11671  Orden PRE/675/2013, de 22 de abril, por la que...          ESP  España   \n",
       "11672  Orden PRE/690/2005, de 18 de marzo, por la que...          ESP  España   \n",
       "11673  Orden PRE/696/2008, de 7 de marzo, por la que ...          ESP  España   \n",
       "11674  Orden PRE/730/2003, de 25 de marzo, por la que...          ESP  España   \n",
       "11675  Orden PRE/77/2008, de 17 de enero, por la que ...          ESP  España   \n",
       "11676  Orden PRE/772/2016, de 19 de mayo, por la que ...          ESP  España   \n",
       "11677  Orden PRE/777/2009, de 26 de marzo, por la que...          ESP  España   \n",
       "11678  Orden PRE/777/2011, de 4 de abril, por la que ...          ESP  España   \n",
       "11679  Orden PRE/839/2010, de 29 de marzo, por la que...          ESP  España   \n",
       "\n",
       "      Municipio                TiposNorma IdTiposNorma  \\\n",
       "11629       NaN               M. Ambiente          [1]   \n",
       "11630       NaN  M. Ambiente / Prevención       [1][2]   \n",
       "11631       NaN  M. Ambiente / Prevención       [1][2]   \n",
       "11632       NaN  M. Ambiente / Prevención       [1][2]   \n",
       "11633       NaN  M. Ambiente / Prevención       [1][2]   \n",
       "11634       NaN               M. Ambiente          [1]   \n",
       "11635       NaN  M. Ambiente / Prevención       [1][2]   \n",
       "11636       NaN  M. Ambiente / Prevención       [1][2]   \n",
       "11637       NaN  M. Ambiente / Prevención       [1][2]   \n",
       "11638       NaN  M. Ambiente / Prevención       [1][2]   \n",
       "11639       NaN  M. Ambiente / Prevención       [1][2]   \n",
       "11640       NaN  M. Ambiente / Prevención       [1][2]   \n",
       "11641       NaN  M. Ambiente / Prevención       [1][2]   \n",
       "11642       NaN  M. Ambiente / Prevención       [1][2]   \n",
       "11643       NaN           Reg. Industrial          [3]   \n",
       "11644       NaN  M. Ambiente / Prevención       [1][2]   \n",
       "11645       NaN  M. Ambiente / Prevención       [1][2]   \n",
       "11647       NaN               M. Ambiente          [1]   \n",
       "11648       NaN  M. Ambiente / Prevención       [1][2]   \n",
       "11649       NaN               M. Ambiente          [1]   \n",
       "11650       NaN               M. Ambiente          [1]   \n",
       "11651       NaN  M. Ambiente / Prevención       [1][2]   \n",
       "11652       NaN  M. Ambiente / Prevención       [1][2]   \n",
       "11653       NaN               M. Ambiente          [1]   \n",
       "11654       NaN  M. Ambiente / Prevención       [1][2]   \n",
       "11655       NaN  M. Ambiente / Prevención       [1][2]   \n",
       "11656       NaN  M. Ambiente / Prevención       [1][2]   \n",
       "11657       NaN           Reg. Industrial          [3]   \n",
       "11658       NaN  M. Ambiente / Prevención       [1][2]   \n",
       "11659       NaN               M. Ambiente          [1]   \n",
       "11660       NaN  M. Ambiente / Prevención       [1][2]   \n",
       "11661       NaN  M. Ambiente / Prevención       [1][2]   \n",
       "11662       NaN            Seguridad Vial          [5]   \n",
       "11663       NaN  M. Ambiente / Prevención       [1][2]   \n",
       "11664       NaN  M. Ambiente / Prevención       [1][2]   \n",
       "11665       NaN                Prevención          [2]   \n",
       "11666       NaN          Seg. Alimentaria          [7]   \n",
       "11667         -            Seguridad Vial          [5]   \n",
       "11668       NaN  M. Ambiente / Prevención       [1][2]   \n",
       "11669       NaN  M. Ambiente / Prevención       [1][2]   \n",
       "11670       NaN  M. Ambiente / Prevención       [1][2]   \n",
       "11671       NaN  M. Ambiente / Prevención       [1][2]   \n",
       "11672       NaN  M. Ambiente / Prevención       [1][2]   \n",
       "11673       NaN  M. Ambiente / Prevención       [1][2]   \n",
       "11674       NaN  M. Ambiente / Prevención       [1][2]   \n",
       "11675       NaN               M. Ambiente          [1]   \n",
       "11676       NaN               M. Ambiente          [1]   \n",
       "11677       NaN  M. Ambiente / Prevención       [1][2]   \n",
       "11678       NaN  M. Ambiente / Prevención       [1][2]   \n",
       "11679       NaN  M. Ambiente / Prevención       [1][2]   \n",
       "\n",
       "                                                    Tags  \n",
       "11629      [Orden PRE/2827/2009, Real Decreto 1370/2006]  \n",
       "11630      [Orden PRE/2843/2009, Real Decreto 2163/1994]  \n",
       "11631      [Orden PRE/2851/2010, Real Decreto 2163/1994]  \n",
       "11632      [Orden PRE/2871/2011, Real Decreto 2163/1994]  \n",
       "11633      [Orden PRE/2872/2011, Real Decreto 2163/1994]  \n",
       "11634         [Orden PRE/29/2004, Real Decreto 837/2002]  \n",
       "11635  [Orden PRE/2922/2005, Orden de 8 de marzo de 1...  \n",
       "11636      [Orden PRE/2957/2008, Real Decreto 2163/1994]  \n",
       "11637          [Orden PRE/3/2006, Real Decreto 255/2003]  \n",
       "11638      [Orden PRE/3159/2004, Real Decreto 1406/1989]  \n",
       "11639       [Orden PRE/321/2009, Real Decreto 1054/2002]  \n",
       "11640      [Orden PRE/3271/2011, Real Decreto 1054/2002]  \n",
       "11641      [Orden PRE/3290/2002, Real Decreto 2163/1994]  \n",
       "11642      [Orden PRE/3297/2004, Real Decreto 2163/1994]  \n",
       "11643      [Orden PRE/3298/2004, Real Decreto 2822/1998]  \n",
       "11644      [Orden PRE/3302/2006, Real Decreto 2163/1994]  \n",
       "11645      [Orden PRE/3338/2007, Real Decreto 2163/1994]  \n",
       "11647                              [Orden PRE/3420/2007]  \n",
       "11648      [Orden PRE/3476/2003, Real Decreto 2163/1994]  \n",
       "11649                              [Orden PRE/3539/2008]  \n",
       "11650       [Orden PRE/370/2012, Real Decreto 1383/2002]  \n",
       "11651       [Orden PRE/374/2008, Real Decreto 1406/1989]  \n",
       "11652       [Orden PRE/375/2003, Real Decreto 1406/1989]  \n",
       "11653                              [Orden PRE/3834/2005]  \n",
       "11654      [Orden PRE/3856/2005, Real Decreto 2163/1994]  \n",
       "11655      [Orden PRE/3929/2004, Real Decreto 2163/1994]  \n",
       "11656           [Orden PRE/402/2006, Orden PRE/690/2005]  \n",
       "11657                               [Orden PRE/402/2008]  \n",
       "11658       [Orden PRE/456/2007, Real Decreto 2163/1994]  \n",
       "11659                               [Orden PRE/468/2008]  \n",
       "11660                               [Orden PRE/473/2004]  \n",
       "11661       [Orden PRE/507/2008, Real Decreto 1054/2002]  \n",
       "11662        [Orden PRE/52/2010, Real Decreto 2822/1998]  \n",
       "11663       [Orden PRE/531/2010, Real Decreto 2163/1994]  \n",
       "11664  [Orden PRE/556/2005, Orden PRE/473/2004, Real ...  \n",
       "11665        [Orden PRE/568/2009, Real Decreto 258/1999]  \n",
       "11666        [Orden PRE/628/2011, Real Decreto 866/2008]  \n",
       "11667       [Orden PRE/629/2011, Real Decreto 2822/1998]  \n",
       "11668        [Orden PRE/630/2011, Real Decreto 824/2005]  \n",
       "11669       [Orden PRE/631/2011, Real Decreto 2163/1994]  \n",
       "11670       [Orden PRE/662/2013, Real Decreto 1054/2002]  \n",
       "11671       [Orden PRE/675/2013, Real Decreto 1054/2002]  \n",
       "11672                               [Orden PRE/690/2005]  \n",
       "11673       [Orden PRE/696/2008, Real Decreto 2163/1994]  \n",
       "11674       [Orden PRE/730/2003, Real Decreto 1406/1989]  \n",
       "11675                                [Orden PRE/77/2008]  \n",
       "11676        [Orden PRE/772/2016, Real Decreto 219/2013]  \n",
       "11677       [Orden PRE/777/2009, Real Decreto 2163/1994]  \n",
       "11678       [Orden PRE/777/2011, Real Decreto 1054/2002]  \n",
       "11679       [Orden PRE/839/2010, Real Decreto 2163/1994]  "
      ],
      "text/html": "<div>\n<style scoped>\n    .dataframe tbody tr th:only-of-type {\n        vertical-align: middle;\n    }\n\n    .dataframe tbody tr th {\n        vertical-align: top;\n    }\n\n    .dataframe thead th {\n        text-align: right;\n    }\n</style>\n<table border=\"1\" class=\"dataframe\">\n  <thead>\n    <tr style=\"text-align: right;\">\n      <th></th>\n      <th>Codigo</th>\n      <th>Numero</th>\n      <th>Titulo</th>\n      <th>CodigoAmbito</th>\n      <th>Ambito</th>\n      <th>Municipio</th>\n      <th>TiposNorma</th>\n      <th>IdTiposNorma</th>\n      <th>Tags</th>\n    </tr>\n  </thead>\n  <tbody>\n    <tr>\n      <th>11629</th>\n      <td>ORD PRE/2827/2009 ESP</td>\n      <td>2827</td>\n      <td>Orden PRE/2827/2009, de 19 de octubre, por la ...</td>\n      <td>ESP</td>\n      <td>España</td>\n      <td>NaN</td>\n      <td>M. Ambiente</td>\n      <td>[1]</td>\n      <td>[Orden PRE/2827/2009, Real Decreto 1370/2006]</td>\n    </tr>\n    <tr>\n      <th>11630</th>\n      <td>ORD PRE/2843/2009 ESP</td>\n      <td>2843</td>\n      <td>Orden PRE/2843/2009, de 19 de octubre, por la ...</td>\n      <td>ESP</td>\n      <td>España</td>\n      <td>NaN</td>\n      <td>M. Ambiente / Prevención</td>\n      <td>[1][2]</td>\n      <td>[Orden PRE/2843/2009, Real Decreto 2163/1994]</td>\n    </tr>\n    <tr>\n      <th>11631</th>\n      <td>ORD PRE/2851/2010 ESP</td>\n      <td>2851</td>\n      <td>Orden PRE/2851/2010, de 4 de noviembre, por la...</td>\n      <td>ESP</td>\n      <td>España</td>\n      <td>NaN</td>\n      <td>M. Ambiente / Prevención</td>\n      <td>[1][2]</td>\n      <td>[Orden PRE/2851/2010, Real Decreto 2163/1994]</td>\n    </tr>\n    <tr>\n      <th>11632</th>\n      <td>ORD PRE/2871/2011 ESP</td>\n      <td>2871</td>\n      <td>Orden PRE/2871/2011, de 25 de octubre, por la ...</td>\n      <td>ESP</td>\n      <td>España</td>\n      <td>NaN</td>\n      <td>M. Ambiente / Prevención</td>\n      <td>[1][2]</td>\n      <td>[Orden PRE/2871/2011, Real Decreto 2163/1994]</td>\n    </tr>\n    <tr>\n      <th>11633</th>\n      <td>ORD PRE/2872/2011 ESP</td>\n      <td>2872</td>\n      <td>Orden PRE/2872/2011, de 25 de octubre, por la ...</td>\n      <td>ESP</td>\n      <td>España</td>\n      <td>NaN</td>\n      <td>M. Ambiente / Prevención</td>\n      <td>[1][2]</td>\n      <td>[Orden PRE/2872/2011, Real Decreto 2163/1994]</td>\n    </tr>\n    <tr>\n      <th>11634</th>\n      <td>ORD PRE/29/2004 ESP</td>\n      <td>29</td>\n      <td>Orden PRE/29/2004, de 15 de enero, por la que ...</td>\n      <td>ESP</td>\n      <td>España</td>\n      <td>NaN</td>\n      <td>M. Ambiente</td>\n      <td>[1]</td>\n      <td>[Orden PRE/29/2004, Real Decreto 837/2002]</td>\n    </tr>\n    <tr>\n      <th>11635</th>\n      <td>ORD PRE/2922/2005 ESP</td>\n      <td>2922</td>\n      <td>Orden PRE/2922/2005, de 19 de septiembre, por ...</td>\n      <td>ESP</td>\n      <td>España</td>\n      <td>NaN</td>\n      <td>M. Ambiente / Prevención</td>\n      <td>[1][2]</td>\n      <td>[Orden PRE/2922/2005, Orden de 8 de marzo de 1...</td>\n    </tr>\n    <tr>\n      <th>11636</th>\n      <td>ORD PRE/2957/2008 ESP</td>\n      <td>2957</td>\n      <td>Orden PRE/2957/2008, de 10 de octubre, por la ...</td>\n      <td>ESP</td>\n      <td>España</td>\n      <td>NaN</td>\n      <td>M. Ambiente / Prevención</td>\n      <td>[1][2]</td>\n      <td>[Orden PRE/2957/2008, Real Decreto 2163/1994]</td>\n    </tr>\n    <tr>\n      <th>11637</th>\n      <td>ORD PRE/3/2006 ESP</td>\n      <td>3</td>\n      <td>Orden PRE/3/2006, de 12 de enero, por la que s...</td>\n      <td>ESP</td>\n      <td>España</td>\n      <td>NaN</td>\n      <td>M. Ambiente / Prevención</td>\n      <td>[1][2]</td>\n      <td>[Orden PRE/3/2006, Real Decreto 255/2003]</td>\n    </tr>\n    <tr>\n      <th>11638</th>\n      <td>ORD PRE/3159/2004 ESP</td>\n      <td>3159</td>\n      <td>Orden PRE/3159/2004, de 28 de septiembre, por ...</td>\n      <td>ESP</td>\n      <td>España</td>\n      <td>NaN</td>\n      <td>M. Ambiente / Prevención</td>\n      <td>[1][2]</td>\n      <td>[Orden PRE/3159/2004, Real Decreto 1406/1989]</td>\n    </tr>\n    <tr>\n      <th>11639</th>\n      <td>ORD PRE/321/2009 ESP</td>\n      <td>321</td>\n      <td>Orden PRE/321/2009, de 13 de febrero, por la q...</td>\n      <td>ESP</td>\n      <td>España</td>\n      <td>NaN</td>\n      <td>M. Ambiente / Prevención</td>\n      <td>[1][2]</td>\n      <td>[Orden PRE/321/2009, Real Decreto 1054/2002]</td>\n    </tr>\n    <tr>\n      <th>11640</th>\n      <td>ORD PRE/3271/2011 ESP</td>\n      <td>3271</td>\n      <td>Orden PRE/3271/2011, de 25 de noviembre, por l...</td>\n      <td>ESP</td>\n      <td>España</td>\n      <td>NaN</td>\n      <td>M. Ambiente / Prevención</td>\n      <td>[1][2]</td>\n      <td>[Orden PRE/3271/2011, Real Decreto 1054/2002]</td>\n    </tr>\n    <tr>\n      <th>11641</th>\n      <td>ORD PRE/3290/2002 ESP</td>\n      <td>3290</td>\n      <td>Orden PRE/3290/2002, de 23 de diciembre, por l...</td>\n      <td>ESP</td>\n      <td>España</td>\n      <td>NaN</td>\n      <td>M. Ambiente / Prevención</td>\n      <td>[1][2]</td>\n      <td>[Orden PRE/3290/2002, Real Decreto 2163/1994]</td>\n    </tr>\n    <tr>\n      <th>11642</th>\n      <td>ORD PRE/3297/2004 ESP</td>\n      <td>3297</td>\n      <td>Orden PRE/3297/2004, de 13 de octubre, por la ...</td>\n      <td>ESP</td>\n      <td>España</td>\n      <td>NaN</td>\n      <td>M. Ambiente / Prevención</td>\n      <td>[1][2]</td>\n      <td>[Orden PRE/3297/2004, Real Decreto 2163/1994]</td>\n    </tr>\n    <tr>\n      <th>11643</th>\n      <td>ORD PRE/3298/2004 ESP</td>\n      <td>3298</td>\n      <td>Orden PRE/3298/2004, de 13 de octubre, por la ...</td>\n      <td>ESP</td>\n      <td>España</td>\n      <td>NaN</td>\n      <td>Reg. Industrial</td>\n      <td>[3]</td>\n      <td>[Orden PRE/3298/2004, Real Decreto 2822/1998]</td>\n    </tr>\n    <tr>\n      <th>11644</th>\n      <td>ORD PRE/3302/2006 ESP</td>\n      <td>3302</td>\n      <td>Orden PRE/3302/2006, de 27 de octubre, por la ...</td>\n      <td>ESP</td>\n      <td>España</td>\n      <td>NaN</td>\n      <td>M. Ambiente / Prevención</td>\n      <td>[1][2]</td>\n      <td>[Orden PRE/3302/2006, Real Decreto 2163/1994]</td>\n    </tr>\n    <tr>\n      <th>11645</th>\n      <td>ORD PRE/3338/2007 ESP</td>\n      <td>3338</td>\n      <td>Orden PRE/3338/2007, de 15 de noviembre, por l...</td>\n      <td>ESP</td>\n      <td>España</td>\n      <td>NaN</td>\n      <td>M. Ambiente / Prevención</td>\n      <td>[1][2]</td>\n      <td>[Orden PRE/3338/2007, Real Decreto 2163/1994]</td>\n    </tr>\n    <tr>\n      <th>11647</th>\n      <td>ORD PRE/3420/2007 ESP</td>\n      <td>3420</td>\n      <td>Orden PRE/3420/2007, de 14 de noviembre, por l...</td>\n      <td>ESP</td>\n      <td>España</td>\n      <td>NaN</td>\n      <td>M. Ambiente</td>\n      <td>[1]</td>\n      <td>[Orden PRE/3420/2007]</td>\n    </tr>\n    <tr>\n      <th>11648</th>\n      <td>ORD PRE/3476/2003 ESP</td>\n      <td>3476</td>\n      <td>Orden PRE/3476/2003, de 9 de diciembre, por la...</td>\n      <td>ESP</td>\n      <td>España</td>\n      <td>NaN</td>\n      <td>M. Ambiente / Prevención</td>\n      <td>[1][2]</td>\n      <td>[Orden PRE/3476/2003, Real Decreto 2163/1994]</td>\n    </tr>\n    <tr>\n      <th>11649</th>\n      <td>ORD PRE/3539/2008 ESP</td>\n      <td>3539</td>\n      <td>Orden PRE/3539/2008, de 28 de noviembre, por l...</td>\n      <td>ESP</td>\n      <td>España</td>\n      <td>NaN</td>\n      <td>M. Ambiente</td>\n      <td>[1]</td>\n      <td>[Orden PRE/3539/2008]</td>\n    </tr>\n    <tr>\n      <th>11650</th>\n      <td>ORD PRE/370/2012 ESP</td>\n      <td>370</td>\n      <td>Orden PRE/370/2012, de 27 de febrero, por la q...</td>\n      <td>ESP</td>\n      <td>España</td>\n      <td>NaN</td>\n      <td>M. Ambiente</td>\n      <td>[1]</td>\n      <td>[Orden PRE/370/2012, Real Decreto 1383/2002]</td>\n    </tr>\n    <tr>\n      <th>11651</th>\n      <td>ORD PRE/374/2008 ESP</td>\n      <td>374</td>\n      <td>Orden PRE/374/2008, de 31 de enero, por la que...</td>\n      <td>ESP</td>\n      <td>España</td>\n      <td>NaN</td>\n      <td>M. Ambiente / Prevención</td>\n      <td>[1][2]</td>\n      <td>[Orden PRE/374/2008, Real Decreto 1406/1989]</td>\n    </tr>\n    <tr>\n      <th>11652</th>\n      <td>ORD PRE/375/2003 ESP</td>\n      <td>375</td>\n      <td>Orden PRE/375/2003, de 24 de febrero, por la q...</td>\n      <td>ESP</td>\n      <td>España</td>\n      <td>NaN</td>\n      <td>M. Ambiente / Prevención</td>\n      <td>[1][2]</td>\n      <td>[Orden PRE/375/2003, Real Decreto 1406/1989]</td>\n    </tr>\n    <tr>\n      <th>11653</th>\n      <td>ORD PRE/3834/2005 ESP</td>\n      <td>3834</td>\n      <td>Orden PRE/3834/2005, de 9 de diciembre, por la...</td>\n      <td>ESP</td>\n      <td>España</td>\n      <td>NaN</td>\n      <td>M. Ambiente</td>\n      <td>[1]</td>\n      <td>[Orden PRE/3834/2005]</td>\n    </tr>\n    <tr>\n      <th>11654</th>\n      <td>ORD PRE/3856/2005 ESP</td>\n      <td>3856</td>\n      <td>Orden PRE/3856/2005, de 12 de diciembre, por l...</td>\n      <td>ESP</td>\n      <td>España</td>\n      <td>NaN</td>\n      <td>M. Ambiente / Prevención</td>\n      <td>[1][2]</td>\n      <td>[Orden PRE/3856/2005, Real Decreto 2163/1994]</td>\n    </tr>\n    <tr>\n      <th>11655</th>\n      <td>ORD PRE/3929/2004 ESP</td>\n      <td>3929</td>\n      <td>Orden PRE/3929/2004, de 30 de noviembre, por l...</td>\n      <td>ESP</td>\n      <td>España</td>\n      <td>NaN</td>\n      <td>M. Ambiente / Prevención</td>\n      <td>[1][2]</td>\n      <td>[Orden PRE/3929/2004, Real Decreto 2163/1994]</td>\n    </tr>\n    <tr>\n      <th>11656</th>\n      <td>ORD PRE/402/2006 ESP</td>\n      <td>402</td>\n      <td>Orden PRE/402/2006, de 16 de febrero, por la q...</td>\n      <td>ESP</td>\n      <td>España</td>\n      <td>NaN</td>\n      <td>M. Ambiente / Prevención</td>\n      <td>[1][2]</td>\n      <td>[Orden PRE/402/2006, Orden PRE/690/2005]</td>\n    </tr>\n    <tr>\n      <th>11657</th>\n      <td>ORD PRE/402/2008 CAT</td>\n      <td>402</td>\n      <td>Orden PRE/402/2008, de 28 de agosto, por la qu...</td>\n      <td>ESP</td>\n      <td>España</td>\n      <td>NaN</td>\n      <td>Reg. Industrial</td>\n      <td>[3]</td>\n      <td>[Orden PRE/402/2008]</td>\n    </tr>\n    <tr>\n      <th>11658</th>\n      <td>ORD PRE/456/2007 ESP</td>\n      <td>456</td>\n      <td>Orden PRE/456/2007, de 28 de febrero, por la q...</td>\n      <td>ESP</td>\n      <td>España</td>\n      <td>NaN</td>\n      <td>M. Ambiente / Prevención</td>\n      <td>[1][2]</td>\n      <td>[Orden PRE/456/2007, Real Decreto 2163/1994]</td>\n    </tr>\n    <tr>\n      <th>11659</th>\n      <td>ORD PRE/468/2008 ESP</td>\n      <td>468</td>\n      <td>Orden PRE/468/2008, de 15 de febrero, por la q...</td>\n      <td>ESP</td>\n      <td>España</td>\n      <td>NaN</td>\n      <td>M. Ambiente</td>\n      <td>[1]</td>\n      <td>[Orden PRE/468/2008]</td>\n    </tr>\n    <tr>\n      <th>11660</th>\n      <td>ORD PRE/473/2004 ESP</td>\n      <td>473</td>\n      <td>Orden PRE/473/2004, de 25 de febrero, por la q...</td>\n      <td>ESP</td>\n      <td>España</td>\n      <td>NaN</td>\n      <td>M. Ambiente / Prevención</td>\n      <td>[1][2]</td>\n      <td>[Orden PRE/473/2004]</td>\n    </tr>\n    <tr>\n      <th>11661</th>\n      <td>ORD PRE/507/2008 ESP</td>\n      <td>507</td>\n      <td>Orden PRE/507/2008, de 26 de febrero, por la q...</td>\n      <td>ESP</td>\n      <td>España</td>\n      <td>NaN</td>\n      <td>M. Ambiente / Prevención</td>\n      <td>[1][2]</td>\n      <td>[Orden PRE/507/2008, Real Decreto 1054/2002]</td>\n    </tr>\n    <tr>\n      <th>11662</th>\n      <td>ORD PRE/52/2010 ESP</td>\n      <td>23/1/2010</td>\n      <td>Orden PRE/52/2010, de 21 de enero, por la que ...</td>\n      <td>ESP</td>\n      <td>España</td>\n      <td>NaN</td>\n      <td>Seguridad Vial</td>\n      <td>[5]</td>\n      <td>[Orden PRE/52/2010, Real Decreto 2822/1998]</td>\n    </tr>\n    <tr>\n      <th>11663</th>\n      <td>ORD PRE/531/2010 ESP</td>\n      <td>531</td>\n      <td>Orden PRE/531/2010, de 26 de febrero, por la q...</td>\n      <td>ESP</td>\n      <td>España</td>\n      <td>NaN</td>\n      <td>M. Ambiente / Prevención</td>\n      <td>[1][2]</td>\n      <td>[Orden PRE/531/2010, Real Decreto 2163/1994]</td>\n    </tr>\n    <tr>\n      <th>11664</th>\n      <td>ORD PRE/556/2005 ESP</td>\n      <td>556</td>\n      <td>Orden PRE/556/2005, de 10 de marzo, por la que...</td>\n      <td>ESP</td>\n      <td>España</td>\n      <td>NaN</td>\n      <td>M. Ambiente / Prevención</td>\n      <td>[1][2]</td>\n      <td>[Orden PRE/556/2005, Orden PRE/473/2004, Real ...</td>\n    </tr>\n    <tr>\n      <th>11665</th>\n      <td>ORD PRE/568/2009 ESP</td>\n      <td>568</td>\n      <td>Orden PRE/568/2009, de 5 de marzo, por la que ...</td>\n      <td>ESP</td>\n      <td>España</td>\n      <td>NaN</td>\n      <td>Prevención</td>\n      <td>[2]</td>\n      <td>[Orden PRE/568/2009, Real Decreto 258/1999]</td>\n    </tr>\n    <tr>\n      <th>11666</th>\n      <td>ORD PRE/628/2011 ESP</td>\n      <td>628</td>\n      <td>Orden PRE/628/2011, de 22 de marzo, por la que...</td>\n      <td>ESP</td>\n      <td>España</td>\n      <td>NaN</td>\n      <td>Seg. Alimentaria</td>\n      <td>[7]</td>\n      <td>[Orden PRE/628/2011, Real Decreto 866/2008]</td>\n    </tr>\n    <tr>\n      <th>11667</th>\n      <td>ORD PRE/629/2011 ESP</td>\n      <td>629</td>\n      <td>Orden PRE/629/2011, de 22 de marzo, por la que...</td>\n      <td>ESP</td>\n      <td>España</td>\n      <td>-</td>\n      <td>Seguridad Vial</td>\n      <td>[5]</td>\n      <td>[Orden PRE/629/2011, Real Decreto 2822/1998]</td>\n    </tr>\n    <tr>\n      <th>11668</th>\n      <td>ORD PRE/630/2011 ESP</td>\n      <td>630</td>\n      <td>Orden PRE/630/2011, de 23 de marzo, por la que...</td>\n      <td>ESP</td>\n      <td>España</td>\n      <td>NaN</td>\n      <td>M. Ambiente / Prevención</td>\n      <td>[1][2]</td>\n      <td>[Orden PRE/630/2011, Real Decreto 824/2005]</td>\n    </tr>\n    <tr>\n      <th>11669</th>\n      <td>ORD PRE/631/2011 ESP</td>\n      <td>631</td>\n      <td>Orden PRE/631/2011, de 23 de marzo, por la que...</td>\n      <td>ESP</td>\n      <td>España</td>\n      <td>NaN</td>\n      <td>M. Ambiente / Prevención</td>\n      <td>[1][2]</td>\n      <td>[Orden PRE/631/2011, Real Decreto 2163/1994]</td>\n    </tr>\n    <tr>\n      <th>11670</th>\n      <td>ORD PRE/662/2013 ESP</td>\n      <td>662</td>\n      <td>Orden PRE/662/2013, de 22 de abril, por la que...</td>\n      <td>ESP</td>\n      <td>España</td>\n      <td>NaN</td>\n      <td>M. Ambiente / Prevención</td>\n      <td>[1][2]</td>\n      <td>[Orden PRE/662/2013, Real Decreto 1054/2002]</td>\n    </tr>\n    <tr>\n      <th>11671</th>\n      <td>ORD PRE/675/2013 ESP</td>\n      <td>675</td>\n      <td>Orden PRE/675/2013, de 22 de abril, por la que...</td>\n      <td>ESP</td>\n      <td>España</td>\n      <td>NaN</td>\n      <td>M. Ambiente / Prevención</td>\n      <td>[1][2]</td>\n      <td>[Orden PRE/675/2013, Real Decreto 1054/2002]</td>\n    </tr>\n    <tr>\n      <th>11672</th>\n      <td>ORD PRE/690/2005 ESP</td>\n      <td>690</td>\n      <td>Orden PRE/690/2005, de 18 de marzo, por la que...</td>\n      <td>ESP</td>\n      <td>España</td>\n      <td>NaN</td>\n      <td>M. Ambiente / Prevención</td>\n      <td>[1][2]</td>\n      <td>[Orden PRE/690/2005]</td>\n    </tr>\n    <tr>\n      <th>11673</th>\n      <td>ORD PRE/696/2008 ESP</td>\n      <td>696</td>\n      <td>Orden PRE/696/2008, de 7 de marzo, por la que ...</td>\n      <td>ESP</td>\n      <td>España</td>\n      <td>NaN</td>\n      <td>M. Ambiente / Prevención</td>\n      <td>[1][2]</td>\n      <td>[Orden PRE/696/2008, Real Decreto 2163/1994]</td>\n    </tr>\n    <tr>\n      <th>11674</th>\n      <td>ORD PRE/730/2003 ESP</td>\n      <td>730</td>\n      <td>Orden PRE/730/2003, de 25 de marzo, por la que...</td>\n      <td>ESP</td>\n      <td>España</td>\n      <td>NaN</td>\n      <td>M. Ambiente / Prevención</td>\n      <td>[1][2]</td>\n      <td>[Orden PRE/730/2003, Real Decreto 1406/1989]</td>\n    </tr>\n    <tr>\n      <th>11675</th>\n      <td>ORD PRE/77/2008 ESP</td>\n      <td>77</td>\n      <td>Orden PRE/77/2008, de 17 de enero, por la que ...</td>\n      <td>ESP</td>\n      <td>España</td>\n      <td>NaN</td>\n      <td>M. Ambiente</td>\n      <td>[1]</td>\n      <td>[Orden PRE/77/2008]</td>\n    </tr>\n    <tr>\n      <th>11676</th>\n      <td>ORD PRE/772/2016 ESP</td>\n      <td>772</td>\n      <td>Orden PRE/772/2016, de 19 de mayo, por la que ...</td>\n      <td>ESP</td>\n      <td>España</td>\n      <td>NaN</td>\n      <td>M. Ambiente</td>\n      <td>[1]</td>\n      <td>[Orden PRE/772/2016, Real Decreto 219/2013]</td>\n    </tr>\n    <tr>\n      <th>11677</th>\n      <td>ORD PRE/777/2009 ESP</td>\n      <td>777</td>\n      <td>Orden PRE/777/2009, de 26 de marzo, por la que...</td>\n      <td>ESP</td>\n      <td>España</td>\n      <td>NaN</td>\n      <td>M. Ambiente / Prevención</td>\n      <td>[1][2]</td>\n      <td>[Orden PRE/777/2009, Real Decreto 2163/1994]</td>\n    </tr>\n    <tr>\n      <th>11678</th>\n      <td>ORD PRE/777/2011 ESP</td>\n      <td>777</td>\n      <td>Orden PRE/777/2011, de 4 de abril, por la que ...</td>\n      <td>ESP</td>\n      <td>España</td>\n      <td>NaN</td>\n      <td>M. Ambiente / Prevención</td>\n      <td>[1][2]</td>\n      <td>[Orden PRE/777/2011, Real Decreto 1054/2002]</td>\n    </tr>\n    <tr>\n      <th>11679</th>\n      <td>ORD PRE/839/2010 ESP</td>\n      <td>839</td>\n      <td>Orden PRE/839/2010, de 29 de marzo, por la que...</td>\n      <td>ESP</td>\n      <td>España</td>\n      <td>NaN</td>\n      <td>M. Ambiente / Prevención</td>\n      <td>[1][2]</td>\n      <td>[Orden PRE/839/2010, Real Decreto 2163/1994]</td>\n    </tr>\n  </tbody>\n</table>\n</div>"
     },
     "metadata": {},
     "execution_count": 503
    }
   ],
   "source": [
    "ASECORP_BBDD_BOE[1200:1250]"
   ]
  },
  {
   "cell_type": "code",
   "execution_count": 504,
   "metadata": {},
   "outputs": [],
   "source": [
    "# titulo"
   ]
  },
  {
   "cell_type": "code",
   "execution_count": 505,
   "metadata": {},
   "outputs": [
    {
     "output_type": "execute_result",
     "data": {
      "text/plain": [
       "2959"
      ]
     },
     "metadata": {},
     "execution_count": 505
    }
   ],
   "source": [
    "len(titulo)"
   ]
  },
  {
   "cell_type": "code",
   "execution_count": 506,
   "metadata": {},
   "outputs": [],
   "source": [
    "## Busca patrones regex definidos en columna títulos del DF \n",
    "boletin = []\n",
    "for i, row in ASECORP_BBDD_BOE.iterrows():\n",
    "    boletin.append(str(re.findall('|'.join(pattern), row['Titulo'], flags=re.IGNORECASE)))"
   ]
  },
  {
   "cell_type": "code",
   "execution_count": 507,
   "metadata": {},
   "outputs": [
    {
     "output_type": "execute_result",
     "data": {
      "text/plain": [
       "['[]',\n",
       " '[]',\n",
       " '[]',\n",
       " '[]',\n",
       " '[]',\n",
       " '[]',\n",
       " '[]',\n",
       " '[]',\n",
       " '[]',\n",
       " '[]',\n",
       " '[]',\n",
       " '[]',\n",
       " '[]',\n",
       " '[]',\n",
       " '[]',\n",
       " \"['Acuerdo Multilateral M-150']\",\n",
       " \"['Acuerdo Multilateral M-159']\",\n",
       " \"['Acuerdo multilateral M-168']\",\n",
       " \"['Acuerdo Multilateral M-170']\",\n",
       " \"['Acuerdo Multilateral M-171']\",\n",
       " \"['Acuerdo Multilateral M-173']\",\n",
       " \"['Acuerdo Multilateral M-175']\",\n",
       " '[]',\n",
       " \"['Acuerdo Multilateral M-178']\",\n",
       " \"['Acuerdo Multilateral M-198']\"]"
      ]
     },
     "metadata": {},
     "execution_count": 507
    }
   ],
   "source": [
    "boletin[0:25]"
   ]
  },
  {
   "cell_type": "code",
   "execution_count": 508,
   "metadata": {},
   "outputs": [],
   "source": [
    "## Para cada fila de la BBDD recoge la expresión REGEX encontrada y si no existe no la incluye \n",
    "## en la lista resultante llamada 'boletin'. Además si no detecta expresión la cuenta como vacía\n",
    "## en variable 'n_vacios', y la añade a la lista 'vacios' para inspeccionar posteriormente \n",
    "boletin = []\n",
    "vacios = []\n",
    "n_vacios = 0\n",
    "for i, row in ASECORP_BBDD_BOE.iterrows():\n",
    "    regex_result = re.findall('|'.join(pattern), row['Titulo'], flags=re.IGNORECASE)\n",
    "    if len(regex_result) != 0:\n",
    "        boletin.append(re.findall('|'.join(pattern), row['Titulo'], flags=re.IGNORECASE))\n",
    "    else:\n",
    "        n_vacios += 1\n",
    "        vacios.append(row['Titulo'])"
   ]
  },
  {
   "cell_type": "code",
   "execution_count": 509,
   "metadata": {},
   "outputs": [
    {
     "output_type": "execute_result",
     "data": {
      "text/plain": [
       "276"
      ]
     },
     "metadata": {},
     "execution_count": 509
    }
   ],
   "source": [
    "n_vacios"
   ]
  },
  {
   "cell_type": "code",
   "execution_count": 510,
   "metadata": {},
   "outputs": [
    {
     "output_type": "execute_result",
     "data": {
      "text/plain": [
       "['Acuerdo Multilateral RID 1/2020 en virtud de la Sección 1.5.1 del Reglamento del Transporte Internacional de Mercancías Peligrosas por Ferrocarril (RID), relativo a los certificados de consejeros de seguridad de conformidad con el punto 1.8.3.7 del RID, hecho en Madrid el 25 de marzo de 2020',\n",
       " 'Entrada en vigor del Acuerdo entre el Reino de España y el Principado de Andorra sobre traslado y gestión de residuos, hecho en Madrid el 17 de octubre de 2006.',\n",
       " 'Aplicación provisional del Acuerdo entre el Reino de España y el Principado de Andorra sobre traslado y gestión de residuos, hecho en Madrid el 17 de octubre de 2006.',\n",
       " 'Acuerdo de la Junta de Gobierno de la Confederación Hidrográfica del Segura celebrada el día 30 de octubre de 2018 sobre aplicación de indisponibilidad o reducción de dotaciones de acuerdo al Plan Especial de Sequía y al Real Decreto que la regula',\n",
       " 'Acuerdo Multilateral RID 2/2020 en virtud de la Sección 1.5.1 del Reglamento del Transporte Internacional de Mercancías Peligrosas por Ferrocarril (RID), relativo a inspecciones periódicas o intermedias de cisternas de conformidad con los apartados 6.8.2.4.2, 6.8.2.4.3, 6.8.3.4.6, 6.8.3.4.12, 6.9.5.2 y 6.10.4 del RID, hecho en Madrid el 25 de marzo de 2020',\n",
       " 'Entrada en vigor del Acuerdo entre el Reino de España y el Principado de Andorra sobre el traslado de residuos, hecho en Madrid el 29 de noviembre de 2011.',\n",
       " 'Acuerdo Multilateral RID 1/2013 en aplicación de la Sección 1.5.1 del Reglamento del Transporte Internacional de Mercancías Peligrosas por Ferrocarril (RID), relativo al cambio de referencia a la norma EN ISO/IEC 17020:2004 por la referencia a la norma EN ISO/IEC 17020:2012 (excepto cláusula 8.1.3), hecho en Madrid el 26 de junio de 2013.',\n",
       " 'Canje de Notas por el que se procede a la prórroga del mantenimiento en vigor del Acuerdo entre el Reino de España y el Principado de Andorra sobre traslado y gestión de residuos, hecho en Madrid el 27 de enero de 2000.',\n",
       " 'Aplicación provisional del Acuerdo entre el Reino de España y el Principado de Andorra sobre el traslado de residuos, hecho en Madrid el 29 de noviembre de 2011.',\n",
       " 'Plan de Acción de Ahorro y Eficiencia Energética  2011-2020, del 29 de julio de 2011 (IDAE)',\n",
       " 'Acuerdo Especial Multilateral RID 3/2020 en virtud de la Sección 1.5.1 del Reglamento del Transporte Internacional de Mercancías Peligrosas por Ferrocarril (RID), relativo a la inspección periódica y ensayo de recipientes a presión para el transporte de gases de la Clase 2, hecho en Madrid el 2 de abril de 2020',\n",
       " 'Acuerdo Multilateral RID 3/2007 en virtud de la Sección 1.5.1. del Reglamento del Transporte Internacional de Mercancías Peligrosas por Ferrocarril (RID), (publicado en el «Boletín Oficial del Estado» nº 59 de 9 de marzo de 2007) relativo al transporte de acuerdo con la disposición especial de embalaje PP1 de la instrucción de embalaje P001, hecho en Madrid el 30 de abril de 2008.',\n",
       " 'Acuerdo Multilateral RID 4/2009 en virtud de la Sección 1.5.1. del Reglamento del Transporte Internacional de Mercancías Peligrosas por Ferrocarril (RID), (publicado en el «Boletín Oficial del Estado» n.º 59 de 9 de marzo de 2007) relativo a las placas naranja para fijarse al vagón transportista usado para el transporte carretera-ferrocarril (ferroutage), hecho en Madrid a 14 de junio de 2010.',\n",
       " 'Acuerdo Especial Multilateral RID 4/2020 en virtud de la Sección 1.5.1 del Reglamento del Transporte Internacional de Mercancías Peligrosas por Ferrocarril (RID), sobre inspecciones periódicas o intermedias de cisternas portátiles y contenedores de gas de elementos múltiples (CGEM) certificados «UN» de acuerdo con los apartados 6.7.2.19.2, 6.7.3.15.2, 6.7.4.14.2 y 6.7.5.12.2 del RID, hecho en Madrid el 2 de abril de 2020',\n",
       " 'Acuerdo Especial Multilateral RID 8.2020 en virtud de la sección 1.5.1 del RID, relativo a la inspección periódica y ensayo de recipientes a presión para el transporte de gases de la Clase 2, hecho en Madrid el 1 de diciembre de 2020',\n",
       " 'Acuerdo multilateral ADR M-177 en virtud de la sección 1.5.1 del Acuerdo Europeo sobre transporte internacional de mercancías peligrosas por carretera (ADR), publicado en el «Boletín Oficial del Estado» n.º 18, de 21 de enero de 2005, relativo al documento de transporte en operaciones de venta en ruta, hecho en Madrid el 23 de junio de 2006.',\n",
       " 'Acuerdo Multilateral M 269 en aplicación de la sección 1.5.1 del Acuerdo Europeo sobre transporte internacional de mercancías peligrosas por carretera (ADR), relativo al marcado de los números UN en botellas para gases licuados del petróleo (GLP), hecho en Madrid el 20 de diciembre de 2013.',\n",
       " 'Acuerdo  Multilateral  M  300  en  aplicación  de  la  sección  1.5.1  del  Acuerdo Europeo sobre transporte internacional de mercancías peligrosas por carretera (ADR), relativo al documento de transporte en operaciones de venta en ruta, hecho en Madrid el 11 de julio de 2016',\n",
       " 'Acuerdo Multilateral M 304 en aplicación de la sección 1.5.1 del AcuerdoEuropeo sobre transporte internacional de mercancías peligrosas por carretera(ADR), relativo al número de remolques en una unidad de transporte demercancías peligrosas, hecho en Madrid el 30 de enero de 2017',\n",
       " 'Acuerdo Multilateral M 311 en virtud de la sección 1.5.1 del Anexo A del Acuerdo Europeo sobre transporte internacional de mercancías peligrosas por carretera (ADR), relativo al marcado (placas etiqueta) de contenedores usados exclusivamente en una operación de transporte por carretera, hecho en Madrid el 22 de marzo de 2018',\n",
       " 'Acuerdo Multilateral M315 en virtud de la sección 1.5.1 del Anexo A del Acuerdo Europeo sobre transporte internacional de mercancías peligrosas por carretera (ADR), relativo al transporte de desechos contaminados con virus que causan fiebre hemorrágica, hecho en Madrid el 8 de julio de 2019',\n",
       " 'Acuerdo Multilateral M317 en virtud de la sección 1.5. del Acuerdo europeo sobre transporte internacional de mercancías peligrosas por carretera (ADR), relativo al transporte de desechos médicos sólidos o clínicos, Categoría A, hecho en Madrid el 23 de marzo de 2020',\n",
       " 'Acuerdo Multilateral M324 en virtud de la sección 1.5.1 del Acuerdo europeo sobre transporte internacional de mercancías peligrosas por carretera (ADR) relativo a los certificados de formación de los conductores de conformidad con el punto 8.2.2.8.2 del ADR y los certificados de consejeros de seguridad de conformidad con el punto 1.8.3.7 del ADR, hecho en Madrid el 23 de marzo de 2020',\n",
       " 'Acuerdo Multilateral M325 en virtud de la sección 1.5.1 del Acuerdo europeo sobre transporte internacional de mercancías peligrosas por carretera (ADR), relativo a inspecciones periódicas o intermedias de cisternas de conformidad con los apartados 6.8.2.4.2, 6.8.2.4.3, 6.8.3.4.6, 6.8.3.4.12, 6.9.5.2 y 6.10.4 del ADR, y los certificados de aprobación para vehículos de conformidad con el apartado 9.1.3.4 del ADR, hecho en Madrid el 23 de marzo de 2020',\n",
       " 'Acuerdo Multilateral M326 en virtud de la sección 1.5.1 del Acuerdo europeo sobre transporte internacional de mercancías peligrosas por carretera (ADR), relativo a la inspección periódica y ensayo de recipientes a presión del transporte de gases de la Clase 2, hecho en Madrid el 2 de abril de 2020']"
      ]
     },
     "metadata": {},
     "execution_count": 510
    }
   ],
   "source": [
    "vacios[0:25]"
   ]
  },
  {
   "cell_type": "code",
   "execution_count": 511,
   "metadata": {},
   "outputs": [
    {
     "output_type": "execute_result",
     "data": {
      "text/plain": [
       "[['Acuerdo Multilateral M-150'],\n",
       " ['Acuerdo Multilateral M-159'],\n",
       " ['Acuerdo multilateral M-168'],\n",
       " ['Acuerdo Multilateral M-170'],\n",
       " ['Acuerdo Multilateral M-171'],\n",
       " ['Acuerdo Multilateral M-173'],\n",
       " ['Acuerdo Multilateral M-175'],\n",
       " ['Acuerdo Multilateral M-178'],\n",
       " ['Acuerdo Multilateral M-198'],\n",
       " ['Acuerdo Multilateral M-214'],\n",
       " ['Acuerdo Multilateral M-218'],\n",
       " ['Acuerdo Multilateral M-226'],\n",
       " ['Acuerdo Multilateral M-228'],\n",
       " ['Acuerdo Multilateral M-231'],\n",
       " ['Acuerdo Multilateral M-236'],\n",
       " ['Acuerdo Multilateral M-245'],\n",
       " ['Acuerdo Multilateral M-254'],\n",
       " ['Acuerdo Multilateral M-259'],\n",
       " ['Acuerdo Multilateral M-265'],\n",
       " ['Acuerdo Multilateral M-268'],\n",
       " ['Acuerdo Multilateral M-271'],\n",
       " ['Acuerdo Multilateral M-273'],\n",
       " ['Acuerdo Multilateral M-276'],\n",
       " ['Acuerdo Multilateral M-291'],\n",
       " ['Acuerdo Multilateral M-292']]"
      ]
     },
     "metadata": {},
     "execution_count": 511
    }
   ],
   "source": [
    "boletin[0:25]"
   ]
  },
  {
   "cell_type": "code",
   "execution_count": 512,
   "metadata": {},
   "outputs": [],
   "source": [
    "# Flatten list of lists\n",
    "boletin_ASECORP_flat_list = [item for sublist in boletin for item in sublist]"
   ]
  },
  {
   "cell_type": "code",
   "execution_count": 513,
   "metadata": {},
   "outputs": [
    {
     "output_type": "execute_result",
     "data": {
      "text/plain": [
       "['Acuerdo Multilateral M-150',\n",
       " 'Acuerdo Multilateral M-159',\n",
       " 'Acuerdo multilateral M-168',\n",
       " 'Acuerdo Multilateral M-170',\n",
       " 'Acuerdo Multilateral M-171',\n",
       " 'Acuerdo Multilateral M-173',\n",
       " 'Acuerdo Multilateral M-175',\n",
       " 'Acuerdo Multilateral M-178',\n",
       " 'Acuerdo Multilateral M-198',\n",
       " 'Acuerdo Multilateral M-214',\n",
       " 'Acuerdo Multilateral M-218',\n",
       " 'Acuerdo Multilateral M-226',\n",
       " 'Acuerdo Multilateral M-228',\n",
       " 'Acuerdo Multilateral M-231',\n",
       " 'Acuerdo Multilateral M-236',\n",
       " 'Acuerdo Multilateral M-245',\n",
       " 'Acuerdo Multilateral M-254',\n",
       " 'Acuerdo Multilateral M-259',\n",
       " 'Acuerdo Multilateral M-265',\n",
       " 'Acuerdo Multilateral M-268',\n",
       " 'Acuerdo Multilateral M-271',\n",
       " 'Acuerdo Multilateral M-273',\n",
       " 'Acuerdo Multilateral M-276',\n",
       " 'Acuerdo Multilateral M-291',\n",
       " 'Acuerdo Multilateral M-292']"
      ]
     },
     "metadata": {},
     "execution_count": 513
    }
   ],
   "source": [
    "boletin_ASECORP_flat_list[0:25]"
   ]
  },
  {
   "cell_type": "code",
   "execution_count": 514,
   "metadata": {},
   "outputs": [],
   "source": [
    "## Elimina duplicados\n",
    "boletin_ASECORP_flat_list = list(set(boletin_ASECORP_flat_list))"
   ]
  },
  {
   "cell_type": "code",
   "execution_count": 515,
   "metadata": {},
   "outputs": [
    {
     "output_type": "execute_result",
     "data": {
      "text/plain": [
       "['Resolución de 9 de septiembre de 2013',\n",
       " 'Orden SND/440/2020',\n",
       " 'Nota de servicio 1/2014',\n",
       " 'Nota de servicio 1/2010',\n",
       " 'Resolución de 31 de octubre de 2012',\n",
       " 'Real Decreto 635/2013',\n",
       " 'Orden ITC/3163/2009',\n",
       " 'Orden TMA/400/2020',\n",
       " 'Ley 12/2007',\n",
       " 'Sentencia de 24 de enero de 2011',\n",
       " 'Ley 5/2014',\n",
       " 'Real Decreto 1528/2012',\n",
       " 'Sentencia 61/2015',\n",
       " 'Real Decreto 45/1996',\n",
       " 'Orden de 13 de diciembre de 2000',\n",
       " 'Ley 11/2012',\n",
       " 'Real Decreto 1338/2011',\n",
       " 'Resolución de 8 de febrero de 2018',\n",
       " 'Real Decreto 134/2010',\n",
       " 'Orden PRE/3539/2008',\n",
       " 'Resolución de 20 de noviembre de 2015',\n",
       " 'Real Decreto 1315/2005',\n",
       " 'Resolución de 25 de abril de 2005',\n",
       " 'Real Decreto 895/2013',\n",
       " 'Real Decreto 1837/2008']"
      ]
     },
     "metadata": {},
     "execution_count": 515
    }
   ],
   "source": [
    "boletin_ASECORP_flat_list[0:25]"
   ]
  },
  {
   "cell_type": "code",
   "execution_count": 516,
   "metadata": {},
   "outputs": [
    {
     "output_type": "execute_result",
     "data": {
      "text/plain": [
       "set()"
      ]
     },
     "metadata": {},
     "execution_count": 516
    }
   ],
   "source": [
    "## Busca coincidencias entre lista boletines BOEs explorados y lista boletines de BBDD ASECORP\n",
    "set(boletin_flat_list) & set(boletin_ASECORP_flat_list)"
   ]
  },
  {
   "cell_type": "code",
   "execution_count": 518,
   "metadata": {},
   "outputs": [],
   "source": [
    "#tabla_analisis['Tags'].isin(ASECORP_BBDD_BOE['Tags'])\n",
    "for row_to_compare in tabla_analisis['Tags']:\n",
    "    for row_comparing in ASECORP_BBDD_BOE['Tags']:\n",
    "        if set(row_comparing) & set(row_to_compare):\n",
    "            print(set(row_comparing) & set(row_to_compare))"
   ]
  },
  {
   "cell_type": "code",
   "execution_count": 519,
   "metadata": {},
   "outputs": [],
   "source": [
    "for i, row_to_compare in tabla_analisis.iterrows():\n",
    "    for j, row_comparing in ASECORP_BBDD_BOE.iterrows():\n",
    "        if set(row_to_compare['Tags']) & set(row_comparing['Tags']):\n",
    "            tabla_analisis['Match_ASECORP_BBDD'][i].append (ASECORP_BBDD_BOE['Codigo'][j])\n",
    "            print(str(set(row_to_compare['Tags']) & set(row_comparing['Tags'])) + ' ' + str(row_comparing['Codigo']))"
   ]
  },
  {
   "cell_type": "code",
   "execution_count": 520,
   "metadata": {},
   "outputs": [
    {
     "output_type": "execute_result",
     "data": {
      "text/plain": [
       "                                             Alertas Fecha_publicacion  \\\n",
       "0    [Derecho Mercantil, Relaciones internacionales]        2021-02-08   \n",
       "1              [Relaciones internacionales, Turismo]        2021-02-08   \n",
       "2  [Relaciones internacionales, Transportes y trá...        2021-02-08   \n",
       "\n",
       "                                           Item_Name            Item_id  \\\n",
       "0  [Modificaciones del Reglamento del Tratado de ...  [BOE-A-2021-1773]   \n",
       "1  [Instrumento de Aprobación de la Enmienda al a...  [BOE-A-2021-1772]   \n",
       "2  [Enmiendas al Código Internacional de Estabili...  [BOE-A-2021-1771]   \n",
       "\n",
       "                                            Materias Referencias  \\\n",
       "0  [Acuerdos internacionales, Organización Mundia...          []   \n",
       "1  [Acuerdos internacionales, China, Lenguas ofic...          []   \n",
       "2  [Acuerdos internacionales, Buques, Construccio...          []   \n",
       "\n",
       "  Referencias_palabra Referencias_texto Referencias_completas Tags  \\\n",
       "0                  []                []                    []   []   \n",
       "1                  []                []                    []   []   \n",
       "2                  []                []                    []   []   \n",
       "\n",
       "  Match_ASECORP_BBDD  \n",
       "0                 []  \n",
       "1                 []  \n",
       "2                 []  "
      ],
      "text/html": "<div>\n<style scoped>\n    .dataframe tbody tr th:only-of-type {\n        vertical-align: middle;\n    }\n\n    .dataframe tbody tr th {\n        vertical-align: top;\n    }\n\n    .dataframe thead th {\n        text-align: right;\n    }\n</style>\n<table border=\"1\" class=\"dataframe\">\n  <thead>\n    <tr style=\"text-align: right;\">\n      <th></th>\n      <th>Alertas</th>\n      <th>Fecha_publicacion</th>\n      <th>Item_Name</th>\n      <th>Item_id</th>\n      <th>Materias</th>\n      <th>Referencias</th>\n      <th>Referencias_palabra</th>\n      <th>Referencias_texto</th>\n      <th>Referencias_completas</th>\n      <th>Tags</th>\n      <th>Match_ASECORP_BBDD</th>\n    </tr>\n  </thead>\n  <tbody>\n    <tr>\n      <th>0</th>\n      <td>[Derecho Mercantil, Relaciones internacionales]</td>\n      <td>2021-02-08</td>\n      <td>[Modificaciones del Reglamento del Tratado de ...</td>\n      <td>[BOE-A-2021-1773]</td>\n      <td>[Acuerdos internacionales, Organización Mundia...</td>\n      <td>[]</td>\n      <td>[]</td>\n      <td>[]</td>\n      <td>[]</td>\n      <td>[]</td>\n      <td>[]</td>\n    </tr>\n    <tr>\n      <th>1</th>\n      <td>[Relaciones internacionales, Turismo]</td>\n      <td>2021-02-08</td>\n      <td>[Instrumento de Aprobación de la Enmienda al a...</td>\n      <td>[BOE-A-2021-1772]</td>\n      <td>[Acuerdos internacionales, China, Lenguas ofic...</td>\n      <td>[]</td>\n      <td>[]</td>\n      <td>[]</td>\n      <td>[]</td>\n      <td>[]</td>\n      <td>[]</td>\n    </tr>\n    <tr>\n      <th>2</th>\n      <td>[Relaciones internacionales, Transportes y trá...</td>\n      <td>2021-02-08</td>\n      <td>[Enmiendas al Código Internacional de Estabili...</td>\n      <td>[BOE-A-2021-1771]</td>\n      <td>[Acuerdos internacionales, Buques, Construccio...</td>\n      <td>[]</td>\n      <td>[]</td>\n      <td>[]</td>\n      <td>[]</td>\n      <td>[]</td>\n      <td>[]</td>\n    </tr>\n  </tbody>\n</table>\n</div>"
     },
     "metadata": {},
     "execution_count": 520
    }
   ],
   "source": [
    "tabla_analisis"
   ]
  },
  {
   "cell_type": "code",
   "execution_count": 521,
   "metadata": {},
   "outputs": [
    {
     "output_type": "execute_result",
     "data": {
      "text/plain": [
       "[]"
      ]
     },
     "metadata": {},
     "execution_count": 521
    }
   ],
   "source": [
    "tabla_analisis['Match_ASECORP_BBDD'][1]"
   ]
  },
  {
   "cell_type": "code",
   "execution_count": 522,
   "metadata": {},
   "outputs": [
    {
     "output_type": "execute_result",
     "data": {
      "text/plain": [
       "[]"
      ]
     },
     "metadata": {},
     "execution_count": 522
    }
   ],
   "source": [
    "tabla_analisis['Tags'][1]"
   ]
  },
  {
   "source": [
    "# Genera Fichero EXCEL de resultados"
   ],
   "cell_type": "markdown",
   "metadata": {}
  },
  {
   "cell_type": "code",
   "execution_count": 523,
   "metadata": {},
   "outputs": [],
   "source": [
    "## Cambia orden de columnas y elimina las no necesarias  \n",
    "tabla_analisis_final = tabla_analisis[['Item_id','Item_Name','Fecha_publicacion','Materias','Alertas','Referencias','Referencias_completas','Tags','Match_ASECORP_BBDD']]"
   ]
  },
  {
   "cell_type": "code",
   "execution_count": 524,
   "metadata": {},
   "outputs": [],
   "source": [
    "## Crea función que convierte lista a string en todas las columnas de tabla_analisis\n",
    "## para evitar en presentación final los caracteres [' '] propios de las listas\n",
    "def list2Str(lst):\n",
    "    if type(lst) is list: # apply conversion to list columns\n",
    "        return\", \".join(lst)\n",
    "    else:\n",
    "        return lst"
   ]
  },
  {
   "cell_type": "code",
   "execution_count": 525,
   "metadata": {},
   "outputs": [],
   "source": [
    "## Aplica función de conversión de listas a strings\n",
    "tabla_analisis_final = tabla_analisis_final.apply(lambda x: [list2Str(i) for i in x])"
   ]
  },
  {
   "cell_type": "code",
   "execution_count": 526,
   "metadata": {},
   "outputs": [
    {
     "output_type": "execute_result",
     "data": {
      "text/plain": [
       "           Item_id                                          Item_Name  \\\n",
       "0  BOE-A-2021-1773  Modificaciones del Reglamento del Tratado de c...   \n",
       "1  BOE-A-2021-1772  Instrumento de Aprobación de la Enmienda al ar...   \n",
       "2  BOE-A-2021-1771  Enmiendas al Código Internacional de Estabilid...   \n",
       "\n",
       "  Fecha_publicacion                                           Materias  \\\n",
       "0        2021-02-08  Acuerdos internacionales, Organización Mundial...   \n",
       "1        2021-02-08  Acuerdos internacionales, China, Lenguas ofici...   \n",
       "2        2021-02-08  Acuerdos internacionales, Buques, Construccion...   \n",
       "\n",
       "                                             Alertas Referencias  \\\n",
       "0      Derecho Mercantil, Relaciones internacionales               \n",
       "1                Relaciones internacionales, Turismo               \n",
       "2  Relaciones internacionales, Transportes y tráfico               \n",
       "\n",
       "  Referencias_completas Tags Match_ASECORP_BBDD  \n",
       "0                                                \n",
       "1                                                \n",
       "2                                                "
      ],
      "text/html": "<div>\n<style scoped>\n    .dataframe tbody tr th:only-of-type {\n        vertical-align: middle;\n    }\n\n    .dataframe tbody tr th {\n        vertical-align: top;\n    }\n\n    .dataframe thead th {\n        text-align: right;\n    }\n</style>\n<table border=\"1\" class=\"dataframe\">\n  <thead>\n    <tr style=\"text-align: right;\">\n      <th></th>\n      <th>Item_id</th>\n      <th>Item_Name</th>\n      <th>Fecha_publicacion</th>\n      <th>Materias</th>\n      <th>Alertas</th>\n      <th>Referencias</th>\n      <th>Referencias_completas</th>\n      <th>Tags</th>\n      <th>Match_ASECORP_BBDD</th>\n    </tr>\n  </thead>\n  <tbody>\n    <tr>\n      <th>0</th>\n      <td>BOE-A-2021-1773</td>\n      <td>Modificaciones del Reglamento del Tratado de c...</td>\n      <td>2021-02-08</td>\n      <td>Acuerdos internacionales, Organización Mundial...</td>\n      <td>Derecho Mercantil, Relaciones internacionales</td>\n      <td></td>\n      <td></td>\n      <td></td>\n      <td></td>\n    </tr>\n    <tr>\n      <th>1</th>\n      <td>BOE-A-2021-1772</td>\n      <td>Instrumento de Aprobación de la Enmienda al ar...</td>\n      <td>2021-02-08</td>\n      <td>Acuerdos internacionales, China, Lenguas ofici...</td>\n      <td>Relaciones internacionales, Turismo</td>\n      <td></td>\n      <td></td>\n      <td></td>\n      <td></td>\n    </tr>\n    <tr>\n      <th>2</th>\n      <td>BOE-A-2021-1771</td>\n      <td>Enmiendas al Código Internacional de Estabilid...</td>\n      <td>2021-02-08</td>\n      <td>Acuerdos internacionales, Buques, Construccion...</td>\n      <td>Relaciones internacionales, Transportes y tráfico</td>\n      <td></td>\n      <td></td>\n      <td></td>\n      <td></td>\n    </tr>\n  </tbody>\n</table>\n</div>"
     },
     "metadata": {},
     "execution_count": 526
    }
   ],
   "source": [
    "  tabla_analisis_final[0:10]"
   ]
  },
  {
   "cell_type": "code",
   "execution_count": 527,
   "metadata": {},
   "outputs": [],
   "source": [
    "## Generar hyperlink a artículo BOE en CSV \"=HYPERLINK(\"https://www.boe.es/boe/dias/2021/02/02/pdfs/BOE-A-2021-1474.pdf\";\"BOE-A-2021-1474\")\"\n",
    "## https://www.boe.es/diario_boe/xml.php?id=## https://www.boe.es/boe/dias/2021/02/02/pdfs/BOE-A-2021-1474.pdf\n",
    "\n",
    "tabla_analisis_final_CSV = tabla_analisis_final"
   ]
  },
  {
   "cell_type": "code",
   "execution_count": 528,
   "metadata": {},
   "outputs": [],
   "source": [
    "# Compone y genera enlace a PDF del BOE correspondiente\n",
    "tabla_analisis_final_CSV['Item_id'] = '=HIPERVINCULO(' + '\"https://www.boe.es/boe/dias/' \\\n",
    "                                                        + tabla_analisis_final_CSV['Fecha_publicacion'].map(lambda x: x.strftime('%Y')) + '/'\\\n",
    "                                                        + tabla_analisis_final_CSV['Fecha_publicacion'].map(lambda x: x.strftime('%m')) + '/'\\\n",
    "                                                        + tabla_analisis_final_CSV['Fecha_publicacion'].map(lambda x: x.strftime('%d')) + '/'\\\n",
    "                                                        + 'pdfs/'\\\n",
    "                                                        + tabla_analisis_final_CSV['Item_id'] + '.pdf\";'\\\n",
    "                                                        + '\"' + tabla_analisis_final_CSV['Item_id'] + '\")'"
   ]
  },
  {
   "cell_type": "code",
   "execution_count": 529,
   "metadata": {},
   "outputs": [
    {
     "output_type": "stream",
     "name": "stdout",
     "text": [
      "=HIPERVINCULO(\"https://www.boe.es/boe/dias/2021/02/08/pdfs/BOE-A-2021-1773.pdf\";\"BOE-A-2021-1773\")\n"
     ]
    }
   ],
   "source": [
    "print(tabla_analisis_final_CSV['Item_id'][0])"
   ]
  },
  {
   "cell_type": "code",
   "execution_count": 530,
   "metadata": {},
   "outputs": [],
   "source": [
    "# tabla_analisis_final_CSV.to_excel(\"./ASECORP/Resultados_Matching.xlsx\", sheet_name='MATCHING_BOE') "
   ]
  },
  {
   "cell_type": "code",
   "execution_count": 531,
   "metadata": {},
   "outputs": [],
   "source": [
    "tabla_analisis_final_CSV.to_csv(\"./ASECORP/Resultados_Matching_\" + today.strftime(\"%Y%m%d\") + \".csv\") "
   ]
  },
  {
   "source": [
    "# ------------------------------------------------------------------------"
   ],
   "cell_type": "markdown",
   "metadata": {}
  },
  {
   "source": [
    "# DOGC"
   ],
   "cell_type": "markdown",
   "metadata": {}
  },
  {
   "cell_type": "code",
   "execution_count": 532,
   "metadata": {},
   "outputs": [],
   "source": [
    "URL_HTML_resumen =  \"https://dogc.gencat.cat/es/index.html?newLang=es_ES&language=es_ES\""
   ]
  },
  {
   "cell_type": "code",
   "execution_count": 533,
   "metadata": {},
   "outputs": [],
   "source": [
    "from requests_html import HTMLSession\n",
    "session = HTMLSession()\n",
    "r = session.get(URL_HTML_resumen)"
   ]
  },
  {
   "cell_type": "code",
   "execution_count": 534,
   "metadata": {},
   "outputs": [
    {
     "output_type": "execute_result",
     "data": {
      "text/plain": [
       "{'/ca/index.html?newLang=es_ES&language=es_ES',\n",
       " '/ca/pdogc_serveis/cerca-republica/',\n",
       " '/ca/pdogc_serveis/pdogc_dogc_mobi/',\n",
       " '/es/ajuda/mapaweb/',\n",
       " '/es/index.html?newLang=es_ES&language=es_ES',\n",
       " '/es/pdogc_base_de_dades_del_dogc/',\n",
       " '/es/pdogc_canals_interns/pdogc_cercador_de_normativa/?destParam=cercaAdv',\n",
       " '/es/pdogc_canals_interns/pdogc_que_es_el_codi_de_verificacio/',\n",
       " '/es/pdogc_eadop/',\n",
       " '/es/pdogc_enllacos/',\n",
       " '/es/pdogc_preguntes_frequents/',\n",
       " '/es/pdogc_serveis/',\n",
       " '/es/pdogc_serveis/pdogc_normes_urbanistiques_1985-2002/',\n",
       " '/es/pdogc_serveis/pdogc_serveis_de_informacio/',\n",
       " '/es/pdogc_serveis/pdogc_serveis_de_informacio/pdogc_alertes_dogc/',\n",
       " '/es/pdogc_serveis/pdogc_serveis_de_publicacio_al_dogc/Publicacio_Anuncis_situacio_CoV-2/',\n",
       " '/es/pdogc_serveis/pdogc_serveis_de_publicacio_al_dogc/pdogc_dogc_eacat/index.html',\n",
       " '/es/pdogc_sobre_el_dogc/',\n",
       " 'http://llibreria.gencat.cat/index.php?language=es',\n",
       " 'http://web.gencat.cat/es/temes/',\n",
       " 'http://www.boe.es/diario_boe/calendarios.php?c=c',\n",
       " 'http://www.ddgi.es/bop/',\n",
       " 'http://www.gencat.cat',\n",
       " 'http://www.gencat.cat/generalitat/cas/index.htm',\n",
       " 'http://www.gencat.cat/serveis/cas/index.htm',\n",
       " 'http://www.gencat.net/catalunya/cas/index.htm',\n",
       " 'https://bop.diba.cat/es',\n",
       " 'https://bop.diputaciolleida.cat',\n",
       " 'https://contractaciopublica.gencat.cat/ecofin_pscp/AppJava/es_ES/search.pscp?reqCode=start',\n",
       " 'https://dogc.gencat.cat/es/pdogc_sobre_el_dogc/Accessibilitat-dogc.gencat.cat/',\n",
       " 'https://ovt.gencat.cat/gsitfc/AppJava/generic/conqxsGeneric.do?webFormId=391&&topicLevel1ByURL.id=500&topicLevel2ByURL.id=657&set-locale=es_ES',\n",
       " 'https://portaldogc.gencat.cat/EADOP_transactional/AppJava/dogc/es/gestioUsuari.htm?mode=0',\n",
       " 'https://portaldogc.gencat.cat/EADOP_transactional/AppJava/dogc/es/gestioUsuari.htm?primeraVez=1&mode=5',\n",
       " 'https://portaldogc.gencat.cat/utilsEADOP/dogc2/dogc_es.pdf',\n",
       " 'https://portaldogc.gencat.cat/utilsEADOP/dogc2/sumari_es.pdf',\n",
       " 'https://portaljuridic.gencat.cat/ca/',\n",
       " 'https://portaljuridic.gencat.cat/ca/pjur_ocults/pjur_CoV-2/',\n",
       " 'https://portaljuridic.gencat.cat/ca/pjur_ocults/pjur_llei-5-2020/',\n",
       " 'https://seu.gencat.cat/es/index.html',\n",
       " 'https://treball.gencat.cat/es/consell_relacions_laborals/convenis_colectius/cercador_de_convenis/index.html',\n",
       " 'https://twitter.com/DOGCdeldia',\n",
       " 'https://web.gencat.cat/es/inici/index.html',\n",
       " 'https://web.gencat.cat/es/menu-ajuda/ajuda/avis_legal/',\n",
       " 'https://web.gencat.cat/es/menu-ajuda/ajuda/sobre_gencat/',\n",
       " 'https://www.diputaciodetarragona.cat/ebop/'}"
      ]
     },
     "metadata": {},
     "execution_count": 534
    }
   ],
   "source": [
    "r.html.links"
   ]
  },
  {
   "cell_type": "code",
   "execution_count": 535,
   "metadata": {},
   "outputs": [
    {
     "output_type": "execute_result",
     "data": {
      "text/plain": [
       "[' DOGC núm.\\r\\n\\t\\t\\t\\t\\t 8336 (08/02/2021)']"
      ]
     },
     "metadata": {},
     "execution_count": 535
    }
   ],
   "source": [
    "r.html.xpath('//*[@id=\"titol\"]/span/text()')"
   ]
  },
  {
   "cell_type": "code",
   "execution_count": 536,
   "metadata": {},
   "outputs": [
    {
     "output_type": "execute_result",
     "data": {
      "text/plain": [
       "['\\r\\n\\t\\t\\t\\t\\tÚltimo DOGC publicado\\r\\n\\t\\t\\t\\t']"
      ]
     },
     "metadata": {},
     "execution_count": 536
    }
   ],
   "source": [
    "r.html.xpath('//*[@id=\"titol\"]/h3/text()')\n"
   ]
  },
  {
   "cell_type": "code",
   "execution_count": 537,
   "metadata": {},
   "outputs": [
    {
     "output_type": "execute_result",
     "data": {
      "text/plain": [
       "'html'"
      ]
     },
     "metadata": {},
     "execution_count": 537
    }
   ],
   "source": [
    "r.html.lxml.tag"
   ]
  },
  {
   "cell_type": "code",
   "execution_count": 538,
   "metadata": {},
   "outputs": [
    {
     "output_type": "execute_result",
     "data": {
      "text/plain": [
       "[<Element span at 0x7fe905e80c20>]"
      ]
     },
     "metadata": {},
     "execution_count": 538
    }
   ],
   "source": [
    "r.html.lxml.xpath('//*[@id=\"titol\"]/span')"
   ]
  },
  {
   "cell_type": "code",
   "execution_count": 539,
   "metadata": {},
   "outputs": [
    {
     "output_type": "stream",
     "name": "stdout",
     "text": [
      "[' DOGC núm.\\r\\n\\t\\t\\t\\t\\t 8336 (08/02/2021)']\n"
     ]
    }
   ],
   "source": [
    "#import requests\n",
    "#from lxml import html\n",
    "\n",
    "response = requests.get(URL_HTML_resumen)\n",
    "\n",
    "tree = html.fromstring(response.text)\n",
    "\n",
    "# fetches all useful elements \n",
    "useful = tree.xpath('//*[@id=\"titol\"]/span/text()')\n",
    "\n",
    "print(useful)\n"
   ]
  },
  {
   "cell_type": "code",
   "execution_count": 540,
   "metadata": {},
   "outputs": [
    {
     "output_type": "execute_result",
     "data": {
      "text/plain": [
       "['/es/pdogc_canals_interns/pdogc_sumari_del_dogc/']"
      ]
     },
     "metadata": {},
     "execution_count": 540
    }
   ],
   "source": [
    "r.html.lxml.xpath('//*[@id=\"sumari\"]/ul/li[1]/form/@action')"
   ]
  },
  {
   "cell_type": "code",
   "execution_count": 541,
   "metadata": {},
   "outputs": [
    {
     "output_type": "execute_result",
     "data": {
      "text/plain": [
       "['anexos']"
      ]
     },
     "metadata": {},
     "execution_count": 541
    }
   ],
   "source": [
    "r.html.lxml.xpath('//*[@id=\"sumari\"]/ul/li[1]/form/input[1]/@name')"
   ]
  },
  {
   "cell_type": "code",
   "execution_count": 542,
   "metadata": {},
   "outputs": [
    {
     "output_type": "execute_result",
     "data": {
      "text/plain": [
       "['1']"
      ]
     },
     "metadata": {},
     "execution_count": 542
    }
   ],
   "source": [
    "r.html.lxml.xpath('//*[@id=\"sumari\"]/ul/li[1]/form/input[1]/@value')"
   ]
  },
  {
   "cell_type": "code",
   "execution_count": 544,
   "metadata": {},
   "outputs": [
    {
     "output_type": "execute_result",
     "data": {
      "text/plain": [
       "[<Element form at 0x7fe907b827c0>]"
      ]
     },
     "metadata": {},
     "execution_count": 544
    }
   ],
   "source": [
    "r.html.lxml.xpath('//*[@id=\"sumari\"]/ul/li[1]/form')"
   ]
  },
  {
   "cell_type": "code",
   "execution_count": 546,
   "metadata": {},
   "outputs": [
    {
     "output_type": "stream",
     "name": "stdout",
     "text": [
      "['8336']\n"
     ]
    }
   ],
   "source": [
    "useful = tree.xpath('//*[@id=\"sumari\"]/ul/li[1]/form/input[3]/@value')\n",
    "\n",
    "print(useful)"
   ]
  },
  {
   "cell_type": "code",
   "execution_count": 548,
   "metadata": {},
   "outputs": [
    {
     "output_type": "execute_result",
     "data": {
      "text/plain": [
       "['/es/pdogc_canals_interns/pdogc_sumari_del_dogc/']"
      ]
     },
     "metadata": {},
     "execution_count": 548
    }
   ],
   "source": [
    "tree.xpath('//*[@id=\"sumari\"]/ul/li[1]/form/@action')"
   ]
  },
  {
   "cell_type": "code",
   "execution_count": 550,
   "metadata": {
    "tags": []
   },
   "outputs": [
    {
     "output_type": "stream",
     "name": "stdout",
     "text": [
      "['anexos', 'language', 'numDOGC', 'seccion'] ['1', 'es_ES', '8336', '0']\n"
     ]
    },
    {
     "output_type": "execute_result",
     "data": {
      "text/plain": [
       "'anexos=1&language=es_ES&numDOGC=8336&seccion=0'"
      ]
     },
     "metadata": {},
     "execution_count": 550
    }
   ],
   "source": [
    "cadena = ''\n",
    "for input in tree.xpath('//*[@id=\"sumari\"]/ul/li[1]/form'):\n",
    "    argumentos = input.xpath('./input/@name')\n",
    "    valores = input.xpath('./input/@value')\n",
    "    print(argumentos, valores)\n",
    "\n",
    "for indice in range(len(argumentos)):\n",
    "    cadena += argumentos[indice] + '=' + valores[indice] + '&'\n",
    "\n",
    "argumentos[1]\n",
    "cadena[:-1]"
   ]
  },
  {
   "source": [
    "## Recoge Nombre Secciones Sumario"
   ],
   "cell_type": "markdown",
   "metadata": {}
  },
  {
   "cell_type": "code",
   "execution_count": 552,
   "metadata": {},
   "outputs": [
    {
     "output_type": "execute_result",
     "data": {
      "text/plain": [
       "'DISPOSICIONES'"
      ]
     },
     "metadata": {},
     "execution_count": 552
    }
   ],
   "source": [
    "import re\n",
    "seccion = tree.xpath('//*[@id=\"sumari\"]/ul/li[1]/form/a/text()')\n",
    "seccion = re.sub('(\\\\r|\\\\n|\\\\t|\\ )+', '', seccion[0])\n",
    "seccion"
   ]
  },
  {
   "source": [
    "## Recoge Nombre Secciones Sumario"
   ],
   "cell_type": "markdown",
   "metadata": {}
  },
  {
   "cell_type": "code",
   "execution_count": 554,
   "metadata": {},
   "outputs": [
    {
     "output_type": "stream",
     "name": "stdout",
     "text": [
      "   DISPOSICIONES \n   CARGOS Y PERSONAL\n   ANUNCIOS DE LA GENERALIDAD DE CATALUÑA\n   ANUNCIOS DE LA ADMINISTRACIÓN LOCAL\n   ANUNCIOS DE LA ADMINISTRACIÓN DE JUSTICIA \n   ANUNCIOS VARIOS\n"
     ]
    }
   ],
   "source": [
    "secciones = tree.xpath('//*[@id=\"sumari\"]/ul/li')\n",
    "#print(secciones)\n",
    "df_secciones_sumarios = pd.DataFrame()\n",
    "for seccion in secciones:\n",
    "    seccion = seccion.xpath('./form/a/text()')\n",
    "    seccion = re.sub('(\\\\r|\\\\n|\\\\t)+', '', seccion[0])\n",
    "    print(seccion[1:-1])\n",
    "    df_secciones_sumarios = df_secciones_sumarios.append({'Seccion': seccion[1:-1]}, ignore_index=True)\n"
   ]
  },
  {
   "cell_type": "code",
   "execution_count": 556,
   "metadata": {},
   "outputs": [
    {
     "output_type": "execute_result",
     "data": {
      "text/plain": [
       "                                         Seccion\n",
       "0                                 DISPOSICIONES \n",
       "1                              CARGOS Y PERSONAL\n",
       "2         ANUNCIOS DE LA GENERALIDAD DE CATALUÑA\n",
       "3            ANUNCIOS DE LA ADMINISTRACIÓN LOCAL\n",
       "4     ANUNCIOS DE LA ADMINISTRACIÓN DE JUSTICIA \n",
       "5                                ANUNCIOS VARIOS"
      ],
      "text/html": "<div>\n<style scoped>\n    .dataframe tbody tr th:only-of-type {\n        vertical-align: middle;\n    }\n\n    .dataframe tbody tr th {\n        vertical-align: top;\n    }\n\n    .dataframe thead th {\n        text-align: right;\n    }\n</style>\n<table border=\"1\" class=\"dataframe\">\n  <thead>\n    <tr style=\"text-align: right;\">\n      <th></th>\n      <th>Seccion</th>\n    </tr>\n  </thead>\n  <tbody>\n    <tr>\n      <th>0</th>\n      <td>DISPOSICIONES</td>\n    </tr>\n    <tr>\n      <th>1</th>\n      <td>CARGOS Y PERSONAL</td>\n    </tr>\n    <tr>\n      <th>2</th>\n      <td>ANUNCIOS DE LA GENERALIDAD DE CATALUÑA</td>\n    </tr>\n    <tr>\n      <th>3</th>\n      <td>ANUNCIOS DE LA ADMINISTRACIÓN LOCAL</td>\n    </tr>\n    <tr>\n      <th>4</th>\n      <td>ANUNCIOS DE LA ADMINISTRACIÓN DE JUSTICIA</td>\n    </tr>\n    <tr>\n      <th>5</th>\n      <td>ANUNCIOS VARIOS</td>\n    </tr>\n  </tbody>\n</table>\n</div>"
     },
     "metadata": {},
     "execution_count": 556
    }
   ],
   "source": [
    "df_secciones_sumarios"
   ]
  },
  {
   "source": [
    "## Recoge Valores para formar URLs Secciones Sumario"
   ],
   "cell_type": "markdown",
   "metadata": {}
  },
  {
   "cell_type": "code",
   "execution_count": 558,
   "metadata": {},
   "outputs": [
    {
     "output_type": "stream",
     "name": "stdout",
     "text": [
      "https://dogc.gencat.cat/es/pdogc_canals_interns/pdogc_sumari_del_dogc/?anexos=1&language=es_ES&numDOGC=8336&seccion=0\nhttps://dogc.gencat.cat/es/pdogc_canals_interns/pdogc_sumari_del_dogc/?anexos=1&language=es_ES&numDOGC=8336&seccion=1\nhttps://dogc.gencat.cat/es/pdogc_canals_interns/pdogc_sumari_del_dogc/?anexos=1&language=es_ES&numDOGC=8336&seccion=2\nhttps://dogc.gencat.cat/es/pdogc_canals_interns/pdogc_sumari_del_dogc/?anexos=1&language=es_ES&numDOGC=8336&seccion=3\nhttps://dogc.gencat.cat/es/pdogc_canals_interns/pdogc_sumari_del_dogc/?anexos=1&language=es_ES&numDOGC=8336&seccion=4\nhttps://dogc.gencat.cat/es/pdogc_canals_interns/pdogc_sumari_del_dogc/?anexos=1&language=es_ES&numDOGC=8336&seccion=5\n"
     ]
    }
   ],
   "source": [
    "URL_base_sumario = tree.xpath('//*[@id=\"sumari\"]/ul/li[1]/form/@action')\n",
    "\n",
    "df_URL_sumarios = pd.DataFrame()\n",
    "for seccion in secciones:    \n",
    "    cadena = ''\n",
    "    for input in seccion.xpath('./form'):\n",
    "        argumentos = input.xpath('./input/@name')\n",
    "        valores = input.xpath('./input/@value')\n",
    "        #print(argumentos, valores)\n",
    "\n",
    "    for indice in range(len(argumentos)):\n",
    "        cadena += argumentos[indice] + '=' + valores[indice] + '&'\n",
    "\n",
    "    URL_sumario = 'https://dogc.gencat.cat' + str(URL_base_sumario[0]) + '?' + str(cadena[:-1])\n",
    "    print(URL_sumario)\n",
    "    df_URL_sumarios = df_URL_sumarios.append({'URL_Seccion': URL_sumario}, ignore_index=True)"
   ]
  },
  {
   "cell_type": "code",
   "execution_count": 560,
   "metadata": {},
   "outputs": [
    {
     "output_type": "execute_result",
     "data": {
      "text/plain": [
       "                                         URL_Seccion\n",
       "0  https://dogc.gencat.cat/es/pdogc_canals_intern...\n",
       "1  https://dogc.gencat.cat/es/pdogc_canals_intern...\n",
       "2  https://dogc.gencat.cat/es/pdogc_canals_intern...\n",
       "3  https://dogc.gencat.cat/es/pdogc_canals_intern...\n",
       "4  https://dogc.gencat.cat/es/pdogc_canals_intern...\n",
       "5  https://dogc.gencat.cat/es/pdogc_canals_intern..."
      ],
      "text/html": "<div>\n<style scoped>\n    .dataframe tbody tr th:only-of-type {\n        vertical-align: middle;\n    }\n\n    .dataframe tbody tr th {\n        vertical-align: top;\n    }\n\n    .dataframe thead th {\n        text-align: right;\n    }\n</style>\n<table border=\"1\" class=\"dataframe\">\n  <thead>\n    <tr style=\"text-align: right;\">\n      <th></th>\n      <th>URL_Seccion</th>\n    </tr>\n  </thead>\n  <tbody>\n    <tr>\n      <th>0</th>\n      <td>https://dogc.gencat.cat/es/pdogc_canals_intern...</td>\n    </tr>\n    <tr>\n      <th>1</th>\n      <td>https://dogc.gencat.cat/es/pdogc_canals_intern...</td>\n    </tr>\n    <tr>\n      <th>2</th>\n      <td>https://dogc.gencat.cat/es/pdogc_canals_intern...</td>\n    </tr>\n    <tr>\n      <th>3</th>\n      <td>https://dogc.gencat.cat/es/pdogc_canals_intern...</td>\n    </tr>\n    <tr>\n      <th>4</th>\n      <td>https://dogc.gencat.cat/es/pdogc_canals_intern...</td>\n    </tr>\n    <tr>\n      <th>5</th>\n      <td>https://dogc.gencat.cat/es/pdogc_canals_intern...</td>\n    </tr>\n  </tbody>\n</table>\n</div>"
     },
     "metadata": {},
     "execution_count": 560
    }
   ],
   "source": [
    "df_URL_sumarios"
   ]
  },
  {
   "cell_type": "code",
   "execution_count": 562,
   "metadata": {},
   "outputs": [],
   "source": [
    " df_sumarios = pd.concat([df_secciones_sumarios, df_URL_sumarios], axis=1)"
   ]
  },
  {
   "cell_type": "code",
   "execution_count": 564,
   "metadata": {},
   "outputs": [
    {
     "output_type": "execute_result",
     "data": {
      "text/plain": [
       "                                         Seccion  \\\n",
       "0                                 DISPOSICIONES    \n",
       "1                              CARGOS Y PERSONAL   \n",
       "2         ANUNCIOS DE LA GENERALIDAD DE CATALUÑA   \n",
       "3            ANUNCIOS DE LA ADMINISTRACIÓN LOCAL   \n",
       "4     ANUNCIOS DE LA ADMINISTRACIÓN DE JUSTICIA    \n",
       "5                                ANUNCIOS VARIOS   \n",
       "\n",
       "                                         URL_Seccion  \n",
       "0  https://dogc.gencat.cat/es/pdogc_canals_intern...  \n",
       "1  https://dogc.gencat.cat/es/pdogc_canals_intern...  \n",
       "2  https://dogc.gencat.cat/es/pdogc_canals_intern...  \n",
       "3  https://dogc.gencat.cat/es/pdogc_canals_intern...  \n",
       "4  https://dogc.gencat.cat/es/pdogc_canals_intern...  \n",
       "5  https://dogc.gencat.cat/es/pdogc_canals_intern...  "
      ],
      "text/html": "<div>\n<style scoped>\n    .dataframe tbody tr th:only-of-type {\n        vertical-align: middle;\n    }\n\n    .dataframe tbody tr th {\n        vertical-align: top;\n    }\n\n    .dataframe thead th {\n        text-align: right;\n    }\n</style>\n<table border=\"1\" class=\"dataframe\">\n  <thead>\n    <tr style=\"text-align: right;\">\n      <th></th>\n      <th>Seccion</th>\n      <th>URL_Seccion</th>\n    </tr>\n  </thead>\n  <tbody>\n    <tr>\n      <th>0</th>\n      <td>DISPOSICIONES</td>\n      <td>https://dogc.gencat.cat/es/pdogc_canals_intern...</td>\n    </tr>\n    <tr>\n      <th>1</th>\n      <td>CARGOS Y PERSONAL</td>\n      <td>https://dogc.gencat.cat/es/pdogc_canals_intern...</td>\n    </tr>\n    <tr>\n      <th>2</th>\n      <td>ANUNCIOS DE LA GENERALIDAD DE CATALUÑA</td>\n      <td>https://dogc.gencat.cat/es/pdogc_canals_intern...</td>\n    </tr>\n    <tr>\n      <th>3</th>\n      <td>ANUNCIOS DE LA ADMINISTRACIÓN LOCAL</td>\n      <td>https://dogc.gencat.cat/es/pdogc_canals_intern...</td>\n    </tr>\n    <tr>\n      <th>4</th>\n      <td>ANUNCIOS DE LA ADMINISTRACIÓN DE JUSTICIA</td>\n      <td>https://dogc.gencat.cat/es/pdogc_canals_intern...</td>\n    </tr>\n    <tr>\n      <th>5</th>\n      <td>ANUNCIOS VARIOS</td>\n      <td>https://dogc.gencat.cat/es/pdogc_canals_intern...</td>\n    </tr>\n  </tbody>\n</table>\n</div>"
     },
     "metadata": {},
     "execution_count": 564
    }
   ],
   "source": [
    "df_sumarios"
   ]
  },
  {
   "cell_type": "code",
   "execution_count": 566,
   "metadata": {},
   "outputs": [
    {
     "output_type": "execute_result",
     "data": {
      "text/plain": [
       "'https://dogc.gencat.cat/es/pdogc_canals_interns/pdogc_sumari_del_dogc/?anexos=1&language=es_ES&numDOGC=8336&seccion=4'"
      ]
     },
     "metadata": {},
     "execution_count": 566
    }
   ],
   "source": [
    "df_sumarios['URL_Seccion'][4]"
   ]
  },
  {
   "source": [
    "## Recoge Items en Seccion Disposiciones"
   ],
   "cell_type": "markdown",
   "metadata": {}
  },
  {
   "cell_type": "code",
   "execution_count": 568,
   "metadata": {
    "tags": []
   },
   "outputs": [
    {
     "output_type": "execute_result",
     "data": {
      "text/plain": [
       "         Seccion                                          Item_Name  \\\n",
       "0  DISPOSICIONES  DECRETO 3/2021, de 2 de febrero, por el que se...   \n",
       "1  DISPOSICIONES  ORDEN VEH/30/2021, de 2 de febrero, por la que...   \n",
       "2  DISPOSICIONES  RESOLUCIÓN CLT/240/2021, de 3 de febrero, de d...   \n",
       "3  DISPOSICIONES  RESOLUCIÓN CLT/241/2021, de 3 de febrero, de d...   \n",
       "4  DISPOSICIONES  ORDEN TSF/32/2021, de 5 de febrero, por la que...   \n",
       "5  DISPOSICIONES  ORDEN TSF/33/2021, de 5 de febrero, por la que...   \n",
       "6  DISPOSICIONES                                                ...   \n",
       "7  DISPOSICIONES                                                ...   \n",
       "8  DISPOSICIONES  RESOLUCIÓN ARP/246/2021, de 3 de febrero, por ...   \n",
       "9  DISPOSICIONES  RESOLUCIÓN ARP/247/2021, de 29 de enero, sobre...   \n",
       "\n",
       "                                            PDF_link  \n",
       "0  https://portaldogc.gencat.cat/utilsEADOP/AppJa...  \n",
       "1  https://portaldogc.gencat.cat/utilsEADOP/AppJa...  \n",
       "2  https://portaldogc.gencat.cat/utilsEADOP/AppJa...  \n",
       "3  https://portaldogc.gencat.cat/utilsEADOP/AppJa...  \n",
       "4  https://portaldogc.gencat.cat/utilsEADOP/AppJa...  \n",
       "5  https://portaldogc.gencat.cat/utilsEADOP/AppJa...  \n",
       "6  https://portaldogc.gencat.cat/utilsEADOP/AppJa...  \n",
       "7  https://portaldogc.gencat.cat/utilsEADOP/AppJa...  \n",
       "8  https://portaldogc.gencat.cat/utilsEADOP/AppJa...  \n",
       "9  https://portaldogc.gencat.cat/utilsEADOP/AppJa...  "
      ],
      "text/html": "<div>\n<style scoped>\n    .dataframe tbody tr th:only-of-type {\n        vertical-align: middle;\n    }\n\n    .dataframe tbody tr th {\n        vertical-align: top;\n    }\n\n    .dataframe thead th {\n        text-align: right;\n    }\n</style>\n<table border=\"1\" class=\"dataframe\">\n  <thead>\n    <tr style=\"text-align: right;\">\n      <th></th>\n      <th>Seccion</th>\n      <th>Item_Name</th>\n      <th>PDF_link</th>\n    </tr>\n  </thead>\n  <tbody>\n    <tr>\n      <th>0</th>\n      <td>DISPOSICIONES</td>\n      <td>DECRETO 3/2021, de 2 de febrero, por el que se...</td>\n      <td>https://portaldogc.gencat.cat/utilsEADOP/AppJa...</td>\n    </tr>\n    <tr>\n      <th>1</th>\n      <td>DISPOSICIONES</td>\n      <td>ORDEN VEH/30/2021, de 2 de febrero, por la que...</td>\n      <td>https://portaldogc.gencat.cat/utilsEADOP/AppJa...</td>\n    </tr>\n    <tr>\n      <th>2</th>\n      <td>DISPOSICIONES</td>\n      <td>RESOLUCIÓN CLT/240/2021, de 3 de febrero, de d...</td>\n      <td>https://portaldogc.gencat.cat/utilsEADOP/AppJa...</td>\n    </tr>\n    <tr>\n      <th>3</th>\n      <td>DISPOSICIONES</td>\n      <td>RESOLUCIÓN CLT/241/2021, de 3 de febrero, de d...</td>\n      <td>https://portaldogc.gencat.cat/utilsEADOP/AppJa...</td>\n    </tr>\n    <tr>\n      <th>4</th>\n      <td>DISPOSICIONES</td>\n      <td>ORDEN TSF/32/2021, de 5 de febrero, por la que...</td>\n      <td>https://portaldogc.gencat.cat/utilsEADOP/AppJa...</td>\n    </tr>\n    <tr>\n      <th>5</th>\n      <td>DISPOSICIONES</td>\n      <td>ORDEN TSF/33/2021, de 5 de febrero, por la que...</td>\n      <td>https://portaldogc.gencat.cat/utilsEADOP/AppJa...</td>\n    </tr>\n    <tr>\n      <th>6</th>\n      <td>DISPOSICIONES</td>\n      <td>...</td>\n      <td>https://portaldogc.gencat.cat/utilsEADOP/AppJa...</td>\n    </tr>\n    <tr>\n      <th>7</th>\n      <td>DISPOSICIONES</td>\n      <td>...</td>\n      <td>https://portaldogc.gencat.cat/utilsEADOP/AppJa...</td>\n    </tr>\n    <tr>\n      <th>8</th>\n      <td>DISPOSICIONES</td>\n      <td>RESOLUCIÓN ARP/246/2021, de 3 de febrero, por ...</td>\n      <td>https://portaldogc.gencat.cat/utilsEADOP/AppJa...</td>\n    </tr>\n    <tr>\n      <th>9</th>\n      <td>DISPOSICIONES</td>\n      <td>RESOLUCIÓN ARP/247/2021, de 29 de enero, sobre...</td>\n      <td>https://portaldogc.gencat.cat/utilsEADOP/AppJa...</td>\n    </tr>\n  </tbody>\n</table>\n</div>"
     },
     "metadata": {},
     "execution_count": 568
    }
   ],
   "source": [
    "### Recoge Items en Seccion Disposiciones\n",
    "\n",
    "response = requests.get(df_sumarios['URL_Seccion'][0])\n",
    "sumario_HTML = html.fromstring(response.text)\n",
    "\n",
    "#seccion = sumario_HTML.xpath('//*[@id=\"disposicions\"]/div[1]/text()')\n",
    "seccion = sumario_HTML.xpath('//*[@id=\"disposicions\"]/div/text()')\n",
    "bloques = sumario_HTML.xpath('//*[@id=\"disposicions\"]')\n",
    "df_disposiciones = pd.DataFrame(columns=['Seccion','Item_Name','PDF_link'])\n",
    "for bloque in bloques: \n",
    "    item_name = bloque.xpath('./div/p/text()')\n",
    "    #item_name = re.sub('(\\\\r|\\\\n|\\\\t)+', '', item_name[0])\n",
    "    pdf_link = bloque.xpath('./div/div/a[4]/@href')\n",
    "\n",
    "for row in range(len(pdf_link)):\n",
    "    df_disposiciones = df_disposiciones.append({'Item_Name': re.sub('(\\\\r|\\\\n|\\\\t)+', '',                                                                               item_name[row]),\n",
    "                                            'PDF_link' : pdf_link[row],\n",
    "                                            'Seccion' : seccion[0][:-1]},\n",
    "                                            ignore_index=True)\n",
    "\n",
    "df_disposiciones"
   ]
  },
  {
   "cell_type": "code",
   "execution_count": 570,
   "metadata": {},
   "outputs": [
    {
     "output_type": "execute_result",
     "data": {
      "text/plain": [
       "['https://portaldogc.gencat.cat/utilsEADOP/AppJava/PdfProviderServlet?documentId=892734&type=01&language=es_ES',\n",
       " 'https://portaldogc.gencat.cat/utilsEADOP/AppJava/PdfProviderServlet?documentId=892783&type=01&language=es_ES',\n",
       " 'https://portaldogc.gencat.cat/utilsEADOP/AppJava/PdfProviderServlet?documentId=892786&type=01&language=es_ES',\n",
       " 'https://portaldogc.gencat.cat/utilsEADOP/AppJava/PdfProviderServlet?documentId=892750&type=01&language=es_ES',\n",
       " 'https://portaldogc.gencat.cat/utilsEADOP/AppJava/PdfProviderServlet?documentId=892796&type=01&language=es_ES',\n",
       " 'https://portaldogc.gencat.cat/utilsEADOP/AppJava/PdfProviderServlet?documentId=892780&type=01&language=es_ES',\n",
       " 'https://portaldogc.gencat.cat/utilsEADOP/AppJava/PdfProviderServlet?documentId=892732&type=01&language=es_ES',\n",
       " 'https://portaldogc.gencat.cat/utilsEADOP/AppJava/PdfProviderServlet?documentId=892728&type=01&language=es_ES',\n",
       " 'https://portaldogc.gencat.cat/utilsEADOP/AppJava/PdfProviderServlet?documentId=892784&type=01&language=es_ES',\n",
       " 'https://portaldogc.gencat.cat/utilsEADOP/AppJava/PdfProviderServlet?documentId=892722&type=01&language=es_ES']"
      ]
     },
     "metadata": {},
     "execution_count": 570
    }
   ],
   "source": [
    "pdf_link"
   ]
  },
  {
   "source": [
    "# DOUE"
   ],
   "cell_type": "markdown",
   "metadata": {}
  },
  {
   "cell_type": "code",
   "execution_count": 748,
   "metadata": {},
   "outputs": [],
   "source": [
    "# --------------------------------------------------------------------------------------\n",
    "# DOUE\n",
    "# --------------------------------------------------------------------------------------\n",
    "\n",
    "URL_HTML_resumen =  \"https://eur-lex.europa.eu/oj/direct-access.html?locale=es\"\n",
    "\n",
    "## carga página HTML y genera árbol\n",
    "\n",
    "response = requests.get(URL_HTML_resumen)\n",
    "tree = html.fromstring(response.text)\n",
    "\n",
    "## Recoge Nombre Secciones Sumario\n",
    "\n",
    "secciones = tree.xpath('//*[@id=\"MainContent\"]/div[2]/div[2]/div/table/tbody/tr[1]')\n",
    "#print(secciones)\n",
    "\n"
   ]
  },
  {
   "cell_type": "code",
   "execution_count": 749,
   "metadata": {},
   "outputs": [],
   "source": [
    "source_dir = './DOUEs'\n",
    "target_dir = './DOUEs_Anteriores'\n",
    "    \n",
    "file_names = os.listdir(source_dir)\n",
    "    \n",
    "for file_name in file_names:\n",
    "    #shutil.move(os.path.join(source_dir, file_name), target_dir)\n",
    "    # Evita que de error si el fichero que se mueve ya existe en dir destino\n",
    "    try:\n",
    "        os.remove(os.path.join(target_dir, file_name))\n",
    "        shutil.move(os.path.join(source_dir, file_name), target_dir)\n",
    "    except OSError:\n",
    "        shutil.move(os.path.join(source_dir, file_name), target_dir)"
   ]
  },
  {
   "cell_type": "code",
   "execution_count": 750,
   "metadata": {},
   "outputs": [],
   "source": [
    "## Recoge Valores para formar URLs Secciones Sumario\n",
    "\n",
    "df_secciones_sumarios = pd.DataFrame()\n",
    "for seccion in secciones:\n",
    "    seccion_name = seccion.xpath('./td[2]/a/text()')\n",
    "    seccion_URL = seccion.xpath('./td[2]/a/@href')\n",
    "    #seccion = re.sub('(\\\\r|\\\\n|\\\\t)+', '', seccion)\n",
    "    #print(seccion_name)\n",
    "    #print(seccion_URL)\n",
    "\n",
    "for row in range(len(seccion_name)):\n",
    "    df_secciones_sumarios = df_secciones_sumarios.append({'Seccion': seccion_name[row],\n",
    "                                            'Seccion_link' : 'https://eur-lex.europa.eu' + seccion_URL[row][4:]},\n",
    "                                            ignore_index=True)"
   ]
  },
  {
   "cell_type": "code",
   "execution_count": 751,
   "metadata": {},
   "outputs": [
    {
     "output_type": "execute_result",
     "data": {
      "text/plain": [
       "  Seccion                                       Seccion_link\n",
       "0    L043  https://eur-lex.europa.eu/legal-content/ES/TXT..."
      ],
      "text/html": "<div>\n<style scoped>\n    .dataframe tbody tr th:only-of-type {\n        vertical-align: middle;\n    }\n\n    .dataframe tbody tr th {\n        vertical-align: top;\n    }\n\n    .dataframe thead th {\n        text-align: right;\n    }\n</style>\n<table border=\"1\" class=\"dataframe\">\n  <thead>\n    <tr style=\"text-align: right;\">\n      <th></th>\n      <th>Seccion</th>\n      <th>Seccion_link</th>\n    </tr>\n  </thead>\n  <tbody>\n    <tr>\n      <th>0</th>\n      <td>L043</td>\n      <td>https://eur-lex.europa.eu/legal-content/ES/TXT...</td>\n    </tr>\n  </tbody>\n</table>\n</div>"
     },
     "metadata": {},
     "execution_count": 751
    }
   ],
   "source": [
    "df_secciones_sumarios"
   ]
  },
  {
   "cell_type": "code",
   "execution_count": 752,
   "metadata": {},
   "outputs": [
    {
     "output_type": "stream",
     "name": "stdout",
     "text": [
      "https://eur-lex.europa.eu/legal-content/ES/TXT/?uri=OJ:L:2021:043:TOC\n"
     ]
    },
    {
     "output_type": "execute_result",
     "data": {
      "text/plain": [
       "[None]"
      ]
     },
     "metadata": {},
     "execution_count": 752
    }
   ],
   "source": [
    "[ print (row) for row in df_secciones_sumarios['Seccion_link']]"
   ]
  },
  {
   "source": [
    "df_sumarios = pd.DataFrame()\n",
    "\n",
    "for URL in df_secciones_sumarios['Seccion_link']:\n",
    "    \n",
    "    ### Recoge Items en Seccion Legislación\n",
    "\n",
    "    #print(URL)\n",
    "    response = requests.get(URL)\n",
    "    sumario_HTML = html.fromstring(response.text)\n",
    "\n",
    "    documentos = sumario_HTML.xpath('//*[@class=\"oj-ti-doc-dur\"]/a[1]/text()[1]')\n",
    "    documentos_URL = sumario_HTML.xpath('//*[@class=\"oj-ti-doc-dur\"]/a[1]/@href')\n",
    "\n",
    "    for row in range(len(documentos)):\n",
    "        df_sumarios = df_sumarios.append({'Seccion': 'L' + documentos_URL[row][-7:-4],\n",
    "                                        'Item_Name': documentos[row],\n",
    "                                        'Item_Link': 'https://eur-lex.europa.eu' + documentos_URL[row][10:],\n",
    "                                        'Item_Tag': documentos_URL[row][-45:-29],\n",
    "                                        'PDF_Link': ''},\n",
    "                                        ignore_index=True)\n"
   ],
   "cell_type": "code",
   "metadata": {},
   "execution_count": 767,
   "outputs": []
  },
  {
   "cell_type": "code",
   "execution_count": 768,
   "metadata": {},
   "outputs": [
    {
     "output_type": "execute_result",
     "data": {
      "text/plain": [
       "'2021.043.01.0005'"
      ]
     },
     "metadata": {},
     "execution_count": 768
    }
   ],
   "source": [
    "documentos_URL[1][-45:-29]"
   ]
  },
  {
   "cell_type": "code",
   "execution_count": 769,
   "metadata": {},
   "outputs": [
    {
     "output_type": "execute_result",
     "data": {
      "text/plain": [
       "                                           Item_Link  \\\n",
       "0  https://eur-lex.europa.eu/legal-content/ES/AUT...   \n",
       "1  https://eur-lex.europa.eu/legal-content/ES/AUT...   \n",
       "2  https://eur-lex.europa.eu/legal-content/ES/AUT...   \n",
       "3  https://eur-lex.europa.eu/legal-content/ES/AUT...   \n",
       "4  https://eur-lex.europa.eu/legal-content/ES/AUT...   \n",
       "5  https://eur-lex.europa.eu/legal-content/ES/AUT...   \n",
       "6  https://eur-lex.europa.eu/legal-content/ES/AUT...   \n",
       "7  https://eur-lex.europa.eu/legal-content/ES/AUT...   \n",
       "8  https://eur-lex.europa.eu/legal-content/ES/AUT...   \n",
       "9  https://eur-lex.europa.eu/legal-content/ES/AUT...   \n",
       "\n",
       "                                           Item_Name          Item_Tag  \\\n",
       "0  Reglamento de Ejecución (UE) 2021/138 del Cons...  2021.043.01.0001   \n",
       "1  Reglamento Delegado (UE) 2021/139 de la Comisi...  2021.043.01.0005   \n",
       "2  Reglamento de Ejecución (UE) 2021/140 de la Co...  2021.043.01.0008   \n",
       "3  Reglamento de Ejecución (UE) 2021/141 de la Co...  2021.043.01.0010   \n",
       "4  Decisión (PESC) 2021/142 del Consejo, de 5 de ...  2021.043.01.0014   \n",
       "5  Decisión (UE) 2021/143 de la Comisión, de 5 de...  2021.043.01.0018   \n",
       "6  Decisión (UE) 2021/144 de la Comisión, de 5 de...  2021.043.01.0025   \n",
       "7  Decisión (UE) 2021/145 de la Comisión, de 5 de...  2021.043.01.0033   \n",
       "8  Decisión (UE) 2021/146 de la Comisión, de 5 de...  2021.043.01.0047   \n",
       "9  Corrección de errores del Reglamento (UE) 2021...  2021.043.01.0061   \n",
       "\n",
       "  PDF_Link Seccion  \n",
       "0             L043  \n",
       "1             L043  \n",
       "2             L043  \n",
       "3             L043  \n",
       "4             L043  \n",
       "5             L043  \n",
       "6             L043  \n",
       "7             L043  \n",
       "8             L043  \n",
       "9             L043  "
      ],
      "text/html": "<div>\n<style scoped>\n    .dataframe tbody tr th:only-of-type {\n        vertical-align: middle;\n    }\n\n    .dataframe tbody tr th {\n        vertical-align: top;\n    }\n\n    .dataframe thead th {\n        text-align: right;\n    }\n</style>\n<table border=\"1\" class=\"dataframe\">\n  <thead>\n    <tr style=\"text-align: right;\">\n      <th></th>\n      <th>Item_Link</th>\n      <th>Item_Name</th>\n      <th>Item_Tag</th>\n      <th>PDF_Link</th>\n      <th>Seccion</th>\n    </tr>\n  </thead>\n  <tbody>\n    <tr>\n      <th>0</th>\n      <td>https://eur-lex.europa.eu/legal-content/ES/AUT...</td>\n      <td>Reglamento de Ejecución (UE) 2021/138 del Cons...</td>\n      <td>2021.043.01.0001</td>\n      <td></td>\n      <td>L043</td>\n    </tr>\n    <tr>\n      <th>1</th>\n      <td>https://eur-lex.europa.eu/legal-content/ES/AUT...</td>\n      <td>Reglamento Delegado (UE) 2021/139 de la Comisi...</td>\n      <td>2021.043.01.0005</td>\n      <td></td>\n      <td>L043</td>\n    </tr>\n    <tr>\n      <th>2</th>\n      <td>https://eur-lex.europa.eu/legal-content/ES/AUT...</td>\n      <td>Reglamento de Ejecución (UE) 2021/140 de la Co...</td>\n      <td>2021.043.01.0008</td>\n      <td></td>\n      <td>L043</td>\n    </tr>\n    <tr>\n      <th>3</th>\n      <td>https://eur-lex.europa.eu/legal-content/ES/AUT...</td>\n      <td>Reglamento de Ejecución (UE) 2021/141 de la Co...</td>\n      <td>2021.043.01.0010</td>\n      <td></td>\n      <td>L043</td>\n    </tr>\n    <tr>\n      <th>4</th>\n      <td>https://eur-lex.europa.eu/legal-content/ES/AUT...</td>\n      <td>Decisión (PESC) 2021/142 del Consejo, de 5 de ...</td>\n      <td>2021.043.01.0014</td>\n      <td></td>\n      <td>L043</td>\n    </tr>\n    <tr>\n      <th>5</th>\n      <td>https://eur-lex.europa.eu/legal-content/ES/AUT...</td>\n      <td>Decisión (UE) 2021/143 de la Comisión, de 5 de...</td>\n      <td>2021.043.01.0018</td>\n      <td></td>\n      <td>L043</td>\n    </tr>\n    <tr>\n      <th>6</th>\n      <td>https://eur-lex.europa.eu/legal-content/ES/AUT...</td>\n      <td>Decisión (UE) 2021/144 de la Comisión, de 5 de...</td>\n      <td>2021.043.01.0025</td>\n      <td></td>\n      <td>L043</td>\n    </tr>\n    <tr>\n      <th>7</th>\n      <td>https://eur-lex.europa.eu/legal-content/ES/AUT...</td>\n      <td>Decisión (UE) 2021/145 de la Comisión, de 5 de...</td>\n      <td>2021.043.01.0033</td>\n      <td></td>\n      <td>L043</td>\n    </tr>\n    <tr>\n      <th>8</th>\n      <td>https://eur-lex.europa.eu/legal-content/ES/AUT...</td>\n      <td>Decisión (UE) 2021/146 de la Comisión, de 5 de...</td>\n      <td>2021.043.01.0047</td>\n      <td></td>\n      <td>L043</td>\n    </tr>\n    <tr>\n      <th>9</th>\n      <td>https://eur-lex.europa.eu/legal-content/ES/AUT...</td>\n      <td>Corrección de errores del Reglamento (UE) 2021...</td>\n      <td>2021.043.01.0061</td>\n      <td></td>\n      <td>L043</td>\n    </tr>\n  </tbody>\n</table>\n</div>"
     },
     "metadata": {},
     "execution_count": 769
    }
   ],
   "source": [
    "df_sumarios"
   ]
  },
  {
   "cell_type": "code",
   "execution_count": 756,
   "metadata": {},
   "outputs": [
    {
     "output_type": "stream",
     "name": "stdout",
     "text": [
      "https://eur-lex.europa.eu/legal-content/ES/AUTO/?uri=uriserv:OJ.L_.2021.043.01.0005.01.SPA&toc=OJ:L:2021:043:TOC\n"
     ]
    }
   ],
   "source": [
    "print(df_sumarios['Item_Link'][1])"
   ]
  },
  {
   "cell_type": "code",
   "execution_count": 757,
   "metadata": {},
   "outputs": [],
   "source": [
    "def save_txt(txt, path):\n",
    "    with open(path, 'w') as f:\n",
    "        f.write(txt)\n"
   ]
  },
  {
   "cell_type": "code",
   "execution_count": 774,
   "metadata": {
    "tags": []
   },
   "outputs": [
    {
     "output_type": "stream",
     "name": "stdout",
     "text": [
      "['./../../../legal-content/ES/TXT/PDF/?uri=CELEX:32021R0138&from=ES']\n",
      "['./../../../legal-content/ES/TXT/PDF/?uri=CELEX:32021R0139&from=ES']\n",
      "['./../../../legal-content/ES/TXT/PDF/?uri=CELEX:32021R0140&from=ES']\n",
      "['./../../../legal-content/ES/TXT/PDF/?uri=CELEX:32021R0141&from=ES']\n",
      "['./../../../legal-content/ES/TXT/PDF/?uri=CELEX:32021D0142&from=ES']\n",
      "['./../../../legal-content/ES/TXT/PDF/?uri=CELEX:32021D0143&from=ES']\n",
      "['./../../../legal-content/ES/TXT/PDF/?uri=CELEX:32021D0144&from=ES']\n",
      "['./../../../legal-content/ES/TXT/PDF/?uri=CELEX:32021D0145&from=ES']\n",
      "['./../../../legal-content/ES/TXT/PDF/?uri=CELEX:32021D0146&from=ES']\n",
      "['./../../../legal-content/ES/TXT/PDF/?uri=CELEX:32021R0048R(01)&from=ES']\n"
     ]
    }
   ],
   "source": [
    "row = 0\n",
    "for link in df_sumarios['Item_Link']:\n",
    "    sumario_Text = []\n",
    "    ### Recoge PDF link en Items Legislación\n",
    "\n",
    "    response = requests.get(link)\n",
    "    sumario_HTML = html.fromstring(response.text)\n",
    "\n",
    "    PDF_Link = sumario_HTML.xpath('//*[@id=\"format_language_table_PDF_ES\"]/@href')\n",
    "    df_sumarios['PDF_Link'][row] = 'https://eur-lex.europa.eu' + PDF_Link[0][10:]\n",
    "\n",
    "    print(PDF_Link)\n",
    "    ### Recoge Texto de Items\n",
    "    \n",
    "    Item_Text = sumario_HTML.xpath('//*[@class=\"oj-normal\"]/text()')\n",
    "    \n",
    "    [ sumario_Text.append(re.sub('(\\\\r|\\\\n|\\\\t|\\\\xa0)+', '', item)) for item in Item_Text ]\n",
    "   \n",
    "    ### Sustituye caracteres 'n.' por 'n.º' ya que al importar de HTML se pierde el caracter º\n",
    "\n",
    "    sumario = \"\".join(sumario_Text).replace('n.','n.º')\n",
    "\n",
    "    ### Salva texto de Items en formato TXT\n",
    "\n",
    "    save_txt(sumario, './DOUEs/Resumen-DOUE-' + df_sumarios['Item_Tag'][row] + '.txt')\n",
    "    #print(sumario)\n",
    "\n",
    "    row += 1\n",
    "\n",
    "\n"
   ]
  },
  {
   "cell_type": "code",
   "execution_count": 775,
   "metadata": {},
   "outputs": [
    {
     "output_type": "execute_result",
     "data": {
      "text/plain": [
       "  Seccion                                          Item_Name  \\\n",
       "0    L043  Reglamento de Ejecución (UE) 2021/138 del Cons...   \n",
       "1    L043  Reglamento Delegado (UE) 2021/139 de la Comisi...   \n",
       "2    L043  Reglamento de Ejecución (UE) 2021/140 de la Co...   \n",
       "3    L043  Reglamento de Ejecución (UE) 2021/141 de la Co...   \n",
       "4    L043  Decisión (PESC) 2021/142 del Consejo, de 5 de ...   \n",
       "5    L043  Decisión (UE) 2021/143 de la Comisión, de 5 de...   \n",
       "6    L043  Decisión (UE) 2021/144 de la Comisión, de 5 de...   \n",
       "7    L043  Decisión (UE) 2021/145 de la Comisión, de 5 de...   \n",
       "8    L043  Decisión (UE) 2021/146 de la Comisión, de 5 de...   \n",
       "9    L043  Corrección de errores del Reglamento (UE) 2021...   \n",
       "\n",
       "                                           Item_Link          Item_Tag  \\\n",
       "0  https://eur-lex.europa.eu/legal-content/ES/AUT...  2021.043.01.0001   \n",
       "1  https://eur-lex.europa.eu/legal-content/ES/AUT...  2021.043.01.0005   \n",
       "2  https://eur-lex.europa.eu/legal-content/ES/AUT...  2021.043.01.0008   \n",
       "3  https://eur-lex.europa.eu/legal-content/ES/AUT...  2021.043.01.0010   \n",
       "4  https://eur-lex.europa.eu/legal-content/ES/AUT...  2021.043.01.0014   \n",
       "5  https://eur-lex.europa.eu/legal-content/ES/AUT...  2021.043.01.0018   \n",
       "6  https://eur-lex.europa.eu/legal-content/ES/AUT...  2021.043.01.0025   \n",
       "7  https://eur-lex.europa.eu/legal-content/ES/AUT...  2021.043.01.0033   \n",
       "8  https://eur-lex.europa.eu/legal-content/ES/AUT...  2021.043.01.0047   \n",
       "9  https://eur-lex.europa.eu/legal-content/ES/AUT...  2021.043.01.0061   \n",
       "\n",
       "                                            PDF_Link  \n",
       "0  https://eur-lex.europa.eu/legal-content/ES/TXT...  \n",
       "1  https://eur-lex.europa.eu/legal-content/ES/TXT...  \n",
       "2  https://eur-lex.europa.eu/legal-content/ES/TXT...  \n",
       "3  https://eur-lex.europa.eu/legal-content/ES/TXT...  \n",
       "4  https://eur-lex.europa.eu/legal-content/ES/TXT...  \n",
       "5  https://eur-lex.europa.eu/legal-content/ES/TXT...  \n",
       "6  https://eur-lex.europa.eu/legal-content/ES/TXT...  \n",
       "7  https://eur-lex.europa.eu/legal-content/ES/TXT...  \n",
       "8  https://eur-lex.europa.eu/legal-content/ES/TXT...  \n",
       "9  https://eur-lex.europa.eu/legal-content/ES/TXT...  "
      ],
      "text/html": "<div>\n<style scoped>\n    .dataframe tbody tr th:only-of-type {\n        vertical-align: middle;\n    }\n\n    .dataframe tbody tr th {\n        vertical-align: top;\n    }\n\n    .dataframe thead th {\n        text-align: right;\n    }\n</style>\n<table border=\"1\" class=\"dataframe\">\n  <thead>\n    <tr style=\"text-align: right;\">\n      <th></th>\n      <th>Seccion</th>\n      <th>Item_Name</th>\n      <th>Item_Link</th>\n      <th>Item_Tag</th>\n      <th>PDF_Link</th>\n    </tr>\n  </thead>\n  <tbody>\n    <tr>\n      <th>0</th>\n      <td>L043</td>\n      <td>Reglamento de Ejecución (UE) 2021/138 del Cons...</td>\n      <td>https://eur-lex.europa.eu/legal-content/ES/AUT...</td>\n      <td>2021.043.01.0001</td>\n      <td>https://eur-lex.europa.eu/legal-content/ES/TXT...</td>\n    </tr>\n    <tr>\n      <th>1</th>\n      <td>L043</td>\n      <td>Reglamento Delegado (UE) 2021/139 de la Comisi...</td>\n      <td>https://eur-lex.europa.eu/legal-content/ES/AUT...</td>\n      <td>2021.043.01.0005</td>\n      <td>https://eur-lex.europa.eu/legal-content/ES/TXT...</td>\n    </tr>\n    <tr>\n      <th>2</th>\n      <td>L043</td>\n      <td>Reglamento de Ejecución (UE) 2021/140 de la Co...</td>\n      <td>https://eur-lex.europa.eu/legal-content/ES/AUT...</td>\n      <td>2021.043.01.0008</td>\n      <td>https://eur-lex.europa.eu/legal-content/ES/TXT...</td>\n    </tr>\n    <tr>\n      <th>3</th>\n      <td>L043</td>\n      <td>Reglamento de Ejecución (UE) 2021/141 de la Co...</td>\n      <td>https://eur-lex.europa.eu/legal-content/ES/AUT...</td>\n      <td>2021.043.01.0010</td>\n      <td>https://eur-lex.europa.eu/legal-content/ES/TXT...</td>\n    </tr>\n    <tr>\n      <th>4</th>\n      <td>L043</td>\n      <td>Decisión (PESC) 2021/142 del Consejo, de 5 de ...</td>\n      <td>https://eur-lex.europa.eu/legal-content/ES/AUT...</td>\n      <td>2021.043.01.0014</td>\n      <td>https://eur-lex.europa.eu/legal-content/ES/TXT...</td>\n    </tr>\n    <tr>\n      <th>5</th>\n      <td>L043</td>\n      <td>Decisión (UE) 2021/143 de la Comisión, de 5 de...</td>\n      <td>https://eur-lex.europa.eu/legal-content/ES/AUT...</td>\n      <td>2021.043.01.0018</td>\n      <td>https://eur-lex.europa.eu/legal-content/ES/TXT...</td>\n    </tr>\n    <tr>\n      <th>6</th>\n      <td>L043</td>\n      <td>Decisión (UE) 2021/144 de la Comisión, de 5 de...</td>\n      <td>https://eur-lex.europa.eu/legal-content/ES/AUT...</td>\n      <td>2021.043.01.0025</td>\n      <td>https://eur-lex.europa.eu/legal-content/ES/TXT...</td>\n    </tr>\n    <tr>\n      <th>7</th>\n      <td>L043</td>\n      <td>Decisión (UE) 2021/145 de la Comisión, de 5 de...</td>\n      <td>https://eur-lex.europa.eu/legal-content/ES/AUT...</td>\n      <td>2021.043.01.0033</td>\n      <td>https://eur-lex.europa.eu/legal-content/ES/TXT...</td>\n    </tr>\n    <tr>\n      <th>8</th>\n      <td>L043</td>\n      <td>Decisión (UE) 2021/146 de la Comisión, de 5 de...</td>\n      <td>https://eur-lex.europa.eu/legal-content/ES/AUT...</td>\n      <td>2021.043.01.0047</td>\n      <td>https://eur-lex.europa.eu/legal-content/ES/TXT...</td>\n    </tr>\n    <tr>\n      <th>9</th>\n      <td>L043</td>\n      <td>Corrección de errores del Reglamento (UE) 2021...</td>\n      <td>https://eur-lex.europa.eu/legal-content/ES/AUT...</td>\n      <td>2021.043.01.0061</td>\n      <td>https://eur-lex.europa.eu/legal-content/ES/TXT...</td>\n    </tr>\n  </tbody>\n</table>\n</div>"
     },
     "metadata": {},
     "execution_count": 775
    }
   ],
   "source": [
    "df_sumarios"
   ]
  },
  {
   "cell_type": "code",
   "execution_count": 759,
   "metadata": {},
   "outputs": [],
   "source": [
    "#print(sumario[0:500])"
   ]
  },
  {
   "cell_type": "code",
   "execution_count": 760,
   "metadata": {},
   "outputs": [],
   "source": [
    "#print(sumario_Text[0:20])"
   ]
  },
  {
   "cell_type": "code",
   "execution_count": 761,
   "metadata": {
    "tags": []
   },
   "outputs": [],
   "source": [
    "#print(\"\".join(sumario_Text[0:20]))"
   ]
  },
  {
   "cell_type": "code",
   "execution_count": 776,
   "metadata": {},
   "outputs": [
    {
     "output_type": "stream",
     "name": "stdout",
     "text": [
      "['Corrección de errores del Reglamento (UE) 2021/48 del Consejo, de 22 de enero de 2021, por el que se modifica el Reglamento (CE) n.', ' 147/2003 sobre determinadas medidas restrictivas relativas a Somalia']\n"
     ]
    }
   ],
   "source": [
    "print(sumario_HTML.xpath('//*[@id=\"document1\"]/div/div/div[1]/p[1]/text()'))"
   ]
  },
  {
   "cell_type": "code",
   "execution_count": 777,
   "metadata": {},
   "outputs": [
    {
     "output_type": "execute_result",
     "data": {
      "text/plain": [
       "  Seccion                                          Item_Name  \\\n",
       "0    L043  Reglamento de Ejecución (UE) 2021/138 del Cons...   \n",
       "1    L043  Reglamento Delegado (UE) 2021/139 de la Comisi...   \n",
       "2    L043  Reglamento de Ejecución (UE) 2021/140 de la Co...   \n",
       "3    L043  Reglamento de Ejecución (UE) 2021/141 de la Co...   \n",
       "4    L043  Decisión (PESC) 2021/142 del Consejo, de 5 de ...   \n",
       "5    L043  Decisión (UE) 2021/143 de la Comisión, de 5 de...   \n",
       "6    L043  Decisión (UE) 2021/144 de la Comisión, de 5 de...   \n",
       "7    L043  Decisión (UE) 2021/145 de la Comisión, de 5 de...   \n",
       "8    L043  Decisión (UE) 2021/146 de la Comisión, de 5 de...   \n",
       "9    L043  Corrección de errores del Reglamento (UE) 2021...   \n",
       "\n",
       "                                           Item_Link          Item_Tag  \\\n",
       "0  https://eur-lex.europa.eu/legal-content/ES/AUT...  2021.043.01.0001   \n",
       "1  https://eur-lex.europa.eu/legal-content/ES/AUT...  2021.043.01.0005   \n",
       "2  https://eur-lex.europa.eu/legal-content/ES/AUT...  2021.043.01.0008   \n",
       "3  https://eur-lex.europa.eu/legal-content/ES/AUT...  2021.043.01.0010   \n",
       "4  https://eur-lex.europa.eu/legal-content/ES/AUT...  2021.043.01.0014   \n",
       "5  https://eur-lex.europa.eu/legal-content/ES/AUT...  2021.043.01.0018   \n",
       "6  https://eur-lex.europa.eu/legal-content/ES/AUT...  2021.043.01.0025   \n",
       "7  https://eur-lex.europa.eu/legal-content/ES/AUT...  2021.043.01.0033   \n",
       "8  https://eur-lex.europa.eu/legal-content/ES/AUT...  2021.043.01.0047   \n",
       "9  https://eur-lex.europa.eu/legal-content/ES/AUT...  2021.043.01.0061   \n",
       "\n",
       "                                            PDF_Link  \n",
       "0  https://eur-lex.europa.eu/legal-content/ES/TXT...  \n",
       "1  https://eur-lex.europa.eu/legal-content/ES/TXT...  \n",
       "2  https://eur-lex.europa.eu/legal-content/ES/TXT...  \n",
       "3  https://eur-lex.europa.eu/legal-content/ES/TXT...  \n",
       "4  https://eur-lex.europa.eu/legal-content/ES/TXT...  \n",
       "5  https://eur-lex.europa.eu/legal-content/ES/TXT...  \n",
       "6  https://eur-lex.europa.eu/legal-content/ES/TXT...  \n",
       "7  https://eur-lex.europa.eu/legal-content/ES/TXT...  \n",
       "8  https://eur-lex.europa.eu/legal-content/ES/TXT...  \n",
       "9  https://eur-lex.europa.eu/legal-content/ES/TXT...  "
      ],
      "text/html": "<div>\n<style scoped>\n    .dataframe tbody tr th:only-of-type {\n        vertical-align: middle;\n    }\n\n    .dataframe tbody tr th {\n        vertical-align: top;\n    }\n\n    .dataframe thead th {\n        text-align: right;\n    }\n</style>\n<table border=\"1\" class=\"dataframe\">\n  <thead>\n    <tr style=\"text-align: right;\">\n      <th></th>\n      <th>Seccion</th>\n      <th>Item_Name</th>\n      <th>Item_Link</th>\n      <th>Item_Tag</th>\n      <th>PDF_Link</th>\n    </tr>\n  </thead>\n  <tbody>\n    <tr>\n      <th>0</th>\n      <td>L043</td>\n      <td>Reglamento de Ejecución (UE) 2021/138 del Cons...</td>\n      <td>https://eur-lex.europa.eu/legal-content/ES/AUT...</td>\n      <td>2021.043.01.0001</td>\n      <td>https://eur-lex.europa.eu/legal-content/ES/TXT...</td>\n    </tr>\n    <tr>\n      <th>1</th>\n      <td>L043</td>\n      <td>Reglamento Delegado (UE) 2021/139 de la Comisi...</td>\n      <td>https://eur-lex.europa.eu/legal-content/ES/AUT...</td>\n      <td>2021.043.01.0005</td>\n      <td>https://eur-lex.europa.eu/legal-content/ES/TXT...</td>\n    </tr>\n    <tr>\n      <th>2</th>\n      <td>L043</td>\n      <td>Reglamento de Ejecución (UE) 2021/140 de la Co...</td>\n      <td>https://eur-lex.europa.eu/legal-content/ES/AUT...</td>\n      <td>2021.043.01.0008</td>\n      <td>https://eur-lex.europa.eu/legal-content/ES/TXT...</td>\n    </tr>\n    <tr>\n      <th>3</th>\n      <td>L043</td>\n      <td>Reglamento de Ejecución (UE) 2021/141 de la Co...</td>\n      <td>https://eur-lex.europa.eu/legal-content/ES/AUT...</td>\n      <td>2021.043.01.0010</td>\n      <td>https://eur-lex.europa.eu/legal-content/ES/TXT...</td>\n    </tr>\n    <tr>\n      <th>4</th>\n      <td>L043</td>\n      <td>Decisión (PESC) 2021/142 del Consejo, de 5 de ...</td>\n      <td>https://eur-lex.europa.eu/legal-content/ES/AUT...</td>\n      <td>2021.043.01.0014</td>\n      <td>https://eur-lex.europa.eu/legal-content/ES/TXT...</td>\n    </tr>\n    <tr>\n      <th>5</th>\n      <td>L043</td>\n      <td>Decisión (UE) 2021/143 de la Comisión, de 5 de...</td>\n      <td>https://eur-lex.europa.eu/legal-content/ES/AUT...</td>\n      <td>2021.043.01.0018</td>\n      <td>https://eur-lex.europa.eu/legal-content/ES/TXT...</td>\n    </tr>\n    <tr>\n      <th>6</th>\n      <td>L043</td>\n      <td>Decisión (UE) 2021/144 de la Comisión, de 5 de...</td>\n      <td>https://eur-lex.europa.eu/legal-content/ES/AUT...</td>\n      <td>2021.043.01.0025</td>\n      <td>https://eur-lex.europa.eu/legal-content/ES/TXT...</td>\n    </tr>\n    <tr>\n      <th>7</th>\n      <td>L043</td>\n      <td>Decisión (UE) 2021/145 de la Comisión, de 5 de...</td>\n      <td>https://eur-lex.europa.eu/legal-content/ES/AUT...</td>\n      <td>2021.043.01.0033</td>\n      <td>https://eur-lex.europa.eu/legal-content/ES/TXT...</td>\n    </tr>\n    <tr>\n      <th>8</th>\n      <td>L043</td>\n      <td>Decisión (UE) 2021/146 de la Comisión, de 5 de...</td>\n      <td>https://eur-lex.europa.eu/legal-content/ES/AUT...</td>\n      <td>2021.043.01.0047</td>\n      <td>https://eur-lex.europa.eu/legal-content/ES/TXT...</td>\n    </tr>\n    <tr>\n      <th>9</th>\n      <td>L043</td>\n      <td>Corrección de errores del Reglamento (UE) 2021...</td>\n      <td>https://eur-lex.europa.eu/legal-content/ES/AUT...</td>\n      <td>2021.043.01.0061</td>\n      <td>https://eur-lex.europa.eu/legal-content/ES/TXT...</td>\n    </tr>\n  </tbody>\n</table>\n</div>"
     },
     "metadata": {},
     "execution_count": 777
    }
   ],
   "source": [
    "df_sumarios = df_sumarios[['Seccion', 'Item_Name', 'Item_Link', 'Item_Tag', 'PDF_Link']]\n",
    "df_sumarios"
   ]
  },
  {
   "source": [
    "\n",
    "\n",
    "## Recoge Valores para formar URLs Secciones Sumario\n",
    "\n",
    "URL_base_sumario = tree.xpath('//*[@id=\"sumari\"]/ul/li[1]/form/@action')\n",
    "\n",
    "df_URL_sumarios = pd.DataFrame()\n",
    "for seccion in secciones:    \n",
    "    cadena = ''\n",
    "    for input in seccion.xpath('./form'):\n",
    "        argumentos = input.xpath('./input/@name')\n",
    "        valores = input.xpath('./input/@value')\n",
    "        #print(argumentos, valores)\n",
    "\n",
    "    for indice in range(len(argumentos)):\n",
    "        cadena += argumentos[indice] + '=' + valores[indice] + '&'\n",
    "\n",
    "    URL_sumario = 'https://dogc.gencat.cat' + str(URL_base_sumario[0]) + '?' + str(cadena[:-1])\n",
    "    print(URL_sumario)\n",
    "    df_URL_sumarios = df_URL_sumarios.append({'URL_Seccion': URL_sumario}, ignore_index=True)\n",
    "\n",
    "## Concatena en df columnas Sccion y URL de sumarios \n",
    "\n",
    "df_sumarios = pd.concat([df_secciones_sumarios, df_URL_sumarios], axis=1)\n",
    "\n",
    "### Recoge Items en Seccion Disposiciones\n",
    "\n",
    "response = requests.get(df_sumarios['URL_Seccion'][0])\n",
    "sumario_HTML = html.fromstring(response.text)\n",
    "\n",
    "#seccion = sumario_HTML.xpath('//*[@id=\"disposicions\"]/div[1]/text()')\n",
    "seccion = sumario_HTML.xpath('//*[@id=\"disposicions\"]/div/text()')\n",
    "bloques = sumario_HTML.xpath('//*[@id=\"disposicions\"]')\n",
    "df_disposiciones = pd.DataFrame(columns=['Seccion','Item_Name','PDF_link'])\n",
    "for bloque in bloques: \n",
    "    item_name = bloque.xpath('./div/p/text()')\n",
    "    #item_name = re.sub('(\\\\r|\\\\n|\\\\t)+', '', item_name[0])\n",
    "    pdf_link = bloque.xpath('./div/div/a[4]/@href')\n",
    "\n",
    "for row in range(len(pdf_link)):\n",
    "    df_disposiciones = df_disposiciones.append({'Item_Name': re.sub('(\\\\r|\\\\n|\\\\t)+', '', item_name[row]),\n",
    "                                            'PDF_link' : pdf_link[row],\n",
    "                                            'Seccion' : seccion[0][:-1]},\n",
    "                                            ignore_index=True)\n",
    "\n",
    "#df_disposiciones\n",
    "\n",
    "def modifica_tabla_resultados_DOGC(tabla):\n",
    "    tabla = tabla.reset_index(drop=True)\n",
    "    tabla['Item_Name'] = '<a href=' + tabla['PDF_link'] + ' ' + 'target=\"_blank\"' + '><div>' + tabla['Item_Name'] + '</div></a>' # Añade url link  pdf a Item_id\n",
    "    tabla.drop(['PDF_link'], axis='columns', inplace=True)\n",
    "    df_html = tabla.reset_index(drop=True).to_html(index='True', classes=\"table-hover\", escape=False) # Utiliza Clase table-hover de Bootstrap\n",
    "    df_html = df_html.replace(\"dataframe\", \"\")  # Elimina clase por defecto dataframe\n",
    "    df_html = df_html.replace('border=\"1\"', 'border=\"2\"')  # Incrementa tamaño línea borde tabla\n",
    "    df_html = df_html.replace(\"<table\", '<table style=\"font-size:12px; text-align: center; width: 100%\" ') # Cambia tamaño fuente a 15px\n",
    "    df_html = df_html.replace(\"<th>\"+ tabla.columns[0], '<th style=\"text-align: center\">'+ tabla.columns[0]) # Cambia alineación a header Columna 1\n",
    "    df_html = df_html.replace(\"<th>\"+ tabla.columns[1], '<th style=\"text-align: center\">'+ tabla.columns[1]) # Cambia alineación a header Columna 2\n",
    "    \n",
    "    return df_html\n",
    "\n",
    "st.header('')\n",
    "st.header('DOGC disposiciones')\n",
    "\n",
    "\n",
    "tabla_resultados_presentacion_DOGC = modifica_tabla_resultados_DOGC(df_disposiciones)\n",
    "\n",
    "st.write(tabla_resultados_presentacion_DOGC, unsafe_allow_html=True)"
   ],
   "cell_type": "markdown",
   "metadata": {}
  }
 ]
}