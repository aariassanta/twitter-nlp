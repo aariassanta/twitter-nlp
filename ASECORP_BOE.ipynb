{
 "metadata": {
  "language_info": {
   "codemirror_mode": {
    "name": "ipython",
    "version": 3
   },
   "file_extension": ".py",
   "mimetype": "text/x-python",
   "name": "python",
   "nbconvert_exporter": "python",
   "pygments_lexer": "ipython3",
   "version": "3.8.5-final"
  },
  "orig_nbformat": 2,
  "kernelspec": {
   "name": "python3",
   "display_name": "Python 3",
   "language": "python"
  }
 },
 "nbformat": 4,
 "nbformat_minor": 2,
 "cells": [
  {
   "cell_type": "code",
   "execution_count": 1715,
   "metadata": {},
   "outputs": [],
   "source": [
    "from lxml import etree, html\n",
    "from lxml.html.clean import clean_html\n",
    "import pandas as pd\n",
    "from datetime import date, datetime\n",
    "import requests\n",
    "import re\n",
    "import os\n",
    "import shutil"
   ]
  },
  {
   "source": [
    "# Mueve todos los fichero del directorio de trabajo a otro de archivo"
   ],
   "cell_type": "markdown",
   "metadata": {}
  },
  {
   "cell_type": "code",
   "execution_count": 1716,
   "metadata": {},
   "outputs": [],
   "source": [
    "source_dir = './BOEs'\n",
    "target_dir = './BOEs_Anteriores'\n",
    "    \n",
    "file_names = os.listdir(source_dir)\n",
    "    \n",
    "for file_name in file_names:\n",
    "    #shutil.move(os.path.join(source_dir, file_name), target_dir)\n",
    "    # Evita que de error si el fichero que se mueve ya existe en dir destino\n",
    "    try:\n",
    "        os.remove(os.path.join(target_dir, file_name))\n",
    "        shutil.move(os.path.join(source_dir, file_name), target_dir)\n",
    "    except OSError:\n",
    "        shutil.move(os.path.join(source_dir, file_name), target_dir)"
   ]
  },
  {
   "source": [
    "# Recoge resumen diario del BOE de hoy"
   ],
   "cell_type": "markdown",
   "metadata": {}
  },
  {
   "cell_type": "code",
   "execution_count": 1717,
   "metadata": {},
   "outputs": [
    {
     "output_type": "stream",
     "name": "stdout",
     "text": [
      "Fecha de Hoy = 20210212\ndia = 12\nmes = 02\naño = 2021\n12/02/2021\n"
     ]
    }
   ],
   "source": [
    "\n",
    "today = date.today()\n",
    "\n",
    "# dd/mm/YYYY\n",
    "hoy = today.strftime(\"%Y%m%d\")\n",
    "print(\"Fecha de Hoy =\", hoy)\n",
    "\n",
    "# dd\n",
    "d = today.strftime(\"%d\")\n",
    "print(\"dia =\", d)\n",
    "\n",
    "# mm\n",
    "m = today.strftime(\"%m\")\n",
    "print(\"mes =\", m)\n",
    "\n",
    "# YYYY\n",
    "Y = today.strftime(\"%Y\")\n",
    "print(\"año =\", Y)\n",
    "\n",
    "print(today.strftime(\"%d/%m/%Y\"))"
   ]
  },
  {
   "cell_type": "code",
   "execution_count": 1718,
   "metadata": {},
   "outputs": [],
   "source": [
    "URL_XML_resumen =  \"https://www.boe.es/diario_boe/xml.php?id=BOE-S-\" + str(hoy)"
   ]
  },
  {
   "cell_type": "code",
   "execution_count": 1719,
   "metadata": {},
   "outputs": [
    {
     "output_type": "execute_result",
     "data": {
      "text/plain": [
       "'https://www.boe.es/diario_boe/xml.php?id=BOE-S-20210212'"
      ]
     },
     "metadata": {},
     "execution_count": 1719
    }
   ],
   "source": [
    "URL_XML_resumen"
   ]
  },
  {
   "cell_type": "code",
   "execution_count": 1720,
   "metadata": {},
   "outputs": [],
   "source": [
    "url = URL_XML_resumen\n",
    "r = requests.get(url)"
   ]
  },
  {
   "cell_type": "code",
   "execution_count": 1721,
   "metadata": {},
   "outputs": [],
   "source": [
    "def save_html(html, path):\n",
    "    with open(path, 'wb') as f:\n",
    "        f.write(html)\n",
    "\n",
    "save_html(r.content, './BOEs/Resumen-BOE-' + hoy + '.xml')"
   ]
  },
  {
   "cell_type": "code",
   "execution_count": 1722,
   "metadata": {},
   "outputs": [],
   "source": [
    "resumen = etree.parse('./BOEs/Resumen-BOE-' + hoy + '.xml')"
   ]
  },
  {
   "cell_type": "code",
   "execution_count": 1723,
   "metadata": {},
   "outputs": [],
   "source": [
    "raiz=resumen.getroot()\n",
    "raiz.tag\n",
    "raiz_sumario = raiz"
   ]
  },
  {
   "cell_type": "code",
   "execution_count": 1724,
   "metadata": {},
   "outputs": [
    {
     "output_type": "execute_result",
     "data": {
      "text/plain": [
       "[]"
      ]
     },
     "metadata": {},
     "execution_count": 1724
    }
   ],
   "source": [
    "seccion = raiz.findall(\"sumario/diario/seccion\")\n",
    "seccion"
   ]
  },
  {
   "cell_type": "code",
   "execution_count": 1725,
   "metadata": {},
   "outputs": [
    {
     "output_type": "stream",
     "name": "stdout",
     "text": [
      "['I. Disposiciones generales']\n['II. Autoridades y personal. - A. Nombramientos, situaciones e incidencias']\n['II. Autoridades y personal. - B. Oposiciones y concursos']\n['III. Otras disposiciones']\n['IV. Administración de Justicia']\n['V. Anuncios. - A. Contratación del Sector Público']\n['V. Anuncios. - B. Otros anuncios oficiales']\n"
     ]
    }
   ],
   "source": [
    "for seccion in raiz.xpath('//seccion'):\n",
    "    nombre_seccion = seccion.xpath('@nombre')\n",
    "    print(nombre_seccion)"
   ]
  },
  {
   "cell_type": "code",
   "execution_count": 1726,
   "metadata": {},
   "outputs": [],
   "source": [
    "secciones = raiz.findall(\"sumario/diario/seccion\")\n",
    "for seccion in secciones:\n",
    "    print(seccion.text)"
   ]
  },
  {
   "cell_type": "code",
   "execution_count": 1727,
   "metadata": {},
   "outputs": [],
   "source": [
    "tabla_resumen = pd.DataFrame()"
   ]
  },
  {
   "cell_type": "code",
   "execution_count": 1728,
   "metadata": {},
   "outputs": [],
   "source": [
    "for seccion in raiz.xpath('//seccion[contains(@nombre, \"I. Disposiciones generales\")]'):\n",
    "    # el = doc.xpath(\"//div[contains(@class, 'channel') and not(contains(@class, 'disabled'))]\")\n",
    "    nombre_seccion = seccion.xpath('@nombre')\n",
    "\n",
    "    for departamento in seccion:\n",
    "        nombre_departamento = departamento.xpath('@nombre') \n",
    "\n",
    "        for epigrafe in departamento:\n",
    "            nombre_epigrafe = epigrafe.xpath('@nombre')\n",
    "\n",
    "            for item in epigrafe:\n",
    "                item_id = item.xpath('@id')\n",
    "                item_name = item.xpath('.//titulo/text()') \n",
    "\n",
    "                item_urlXml = \"https://www.boe.es\" + str(item.xpath('.//urlXml/text()'))[2:-2]\n",
    "\n",
    "                tabla_resumen = tabla_resumen.append({'Seccion': nombre_seccion, \n",
    "                                                      'Departamento': nombre_departamento, \n",
    "                                                      'Epigrafe' : nombre_epigrafe,\n",
    "                                                      'Item_id': item_id, \n",
    "                                                      'Item_Nombre' : item_name, \n",
    "                                                      'Item_URL_XML' : item_urlXml},\n",
    "                                                      ignore_index=True)\n"
   ]
  },
  {
   "cell_type": "code",
   "execution_count": 1729,
   "metadata": {},
   "outputs": [
    {
     "output_type": "execute_result",
     "data": {
      "text/plain": [
       "                          Departamento  \\\n",
       "0             [MINISTERIO DE HACIENDA]   \n",
       "1              [MINISTERIO DE CONSUMO]   \n",
       "2  [COMUNIDAD AUTÓNOMA DEL PAÍS VASCO]   \n",
       "\n",
       "                                            Epigrafe  \\\n",
       "0  [Fondo Europeo de Desarrollo Regional. Program...   \n",
       "1                               [Material sanitario]   \n",
       "2                  [Circulación. Medidas especiales]   \n",
       "\n",
       "                                         Item_Nombre  \\\n",
       "0  [Orden HAC/114/2021, de 5 de febrero, por la q...   \n",
       "1  [Orden CSM/115/2021, de 11 de febrero, por la ...   \n",
       "2  [Resolución de 3 de febrero de 2021, de la Dir...   \n",
       "\n",
       "                                        Item_URL_XML            Item_id  \\\n",
       "0  https://www.boe.es/diario_boe/xml.php?id=BOE-A...  [BOE-A-2021-2045]   \n",
       "1  https://www.boe.es/diario_boe/xml.php?id=BOE-A...  [BOE-A-2021-2046]   \n",
       "2  https://www.boe.es/diario_boe/xml.php?id=BOE-A...  [BOE-A-2021-2047]   \n",
       "\n",
       "                        Seccion  \n",
       "0  [I. Disposiciones generales]  \n",
       "1  [I. Disposiciones generales]  \n",
       "2  [I. Disposiciones generales]  "
      ],
      "text/html": "<div>\n<style scoped>\n    .dataframe tbody tr th:only-of-type {\n        vertical-align: middle;\n    }\n\n    .dataframe tbody tr th {\n        vertical-align: top;\n    }\n\n    .dataframe thead th {\n        text-align: right;\n    }\n</style>\n<table border=\"1\" class=\"dataframe\">\n  <thead>\n    <tr style=\"text-align: right;\">\n      <th></th>\n      <th>Departamento</th>\n      <th>Epigrafe</th>\n      <th>Item_Nombre</th>\n      <th>Item_URL_XML</th>\n      <th>Item_id</th>\n      <th>Seccion</th>\n    </tr>\n  </thead>\n  <tbody>\n    <tr>\n      <th>0</th>\n      <td>[MINISTERIO DE HACIENDA]</td>\n      <td>[Fondo Europeo de Desarrollo Regional. Program...</td>\n      <td>[Orden HAC/114/2021, de 5 de febrero, por la q...</td>\n      <td>https://www.boe.es/diario_boe/xml.php?id=BOE-A...</td>\n      <td>[BOE-A-2021-2045]</td>\n      <td>[I. Disposiciones generales]</td>\n    </tr>\n    <tr>\n      <th>1</th>\n      <td>[MINISTERIO DE CONSUMO]</td>\n      <td>[Material sanitario]</td>\n      <td>[Orden CSM/115/2021, de 11 de febrero, por la ...</td>\n      <td>https://www.boe.es/diario_boe/xml.php?id=BOE-A...</td>\n      <td>[BOE-A-2021-2046]</td>\n      <td>[I. Disposiciones generales]</td>\n    </tr>\n    <tr>\n      <th>2</th>\n      <td>[COMUNIDAD AUTÓNOMA DEL PAÍS VASCO]</td>\n      <td>[Circulación. Medidas especiales]</td>\n      <td>[Resolución de 3 de febrero de 2021, de la Dir...</td>\n      <td>https://www.boe.es/diario_boe/xml.php?id=BOE-A...</td>\n      <td>[BOE-A-2021-2047]</td>\n      <td>[I. Disposiciones generales]</td>\n    </tr>\n  </tbody>\n</table>\n</div>"
     },
     "metadata": {},
     "execution_count": 1729
    }
   ],
   "source": [
    "tabla_resumen.sort_values('Item_id')"
   ]
  },
  {
   "source": [
    "# Descarga ficheros XML asociados"
   ],
   "cell_type": "markdown",
   "metadata": {}
  },
  {
   "cell_type": "code",
   "execution_count": 1730,
   "metadata": {},
   "outputs": [
    {
     "output_type": "stream",
     "name": "stdout",
     "text": [
      "['https://www.boe.es/diario_boe/xml.php?id', 'BOE-A-2021-2045']\n",
      "<re.Match object; span=(0, 15), match='BOE-A-2021-2045'>\n",
      "['https://www.boe.es/diario_boe/xml.php?id', 'BOE-A-2021-2046']\n",
      "<re.Match object; span=(0, 15), match='BOE-A-2021-2046'>\n",
      "['https://www.boe.es/diario_boe/xml.php?id', 'BOE-A-2021-2047']\n",
      "<re.Match object; span=(0, 15), match='BOE-A-2021-2047'>\n"
     ]
    }
   ],
   "source": [
    "for item_URL in tabla_resumen['Item_URL_XML']:\n",
    "    r = requests.get(item_URL)\n",
    "    #f = './BOEs/' + item_URL[-16:] + '.xml'\n",
    "    ### Separa el número del BOE del resto de la cadena y aplica expresión REGEX \n",
    "    print(item_URL.split('='))\n",
    "    print(re.match('BOE\\-A\\-[0-9]+\\-[0-9]+',item_URL.split('=')[1]))\n",
    "    filename = re.match('BOE\\-A\\-[0-9]+\\-[0-9]+',item_URL.split('=')[1]).group()\n",
    "    f = './BOEs/' + filename + '.xml'\n",
    "    save_html(r.content, f)"
   ]
  },
  {
   "source": [
    "# Importa de nuevo los XML generados"
   ],
   "cell_type": "markdown",
   "metadata": {}
  },
  {
   "cell_type": "code",
   "execution_count": 1731,
   "metadata": {},
   "outputs": [
    {
     "output_type": "stream",
     "name": "stdout",
     "text": [
      "['./BOEs/BOE-A-2021-2045.xml', './BOEs/BOE-A-2021-2047.xml', './BOEs/BOE-A-2021-2046.xml']\n"
     ]
    }
   ],
   "source": [
    "\n",
    "import glob\n",
    "BOEs = glob.glob('./BOEs/BOE*.xml')\n",
    "print (BOEs)"
   ]
  },
  {
   "source": [
    "# Genera DF con datos Análisis de cada XML"
   ],
   "cell_type": "markdown",
   "metadata": {}
  },
  {
   "cell_type": "code",
   "execution_count": 1732,
   "metadata": {},
   "outputs": [],
   "source": [
    "tabla_analisis = pd.DataFrame()\n",
    "\n",
    "for BOE in BOEs:\n",
    "    #print (BOE)\n",
    "    BOE_XML = etree.parse(BOE)\n",
    "    raiz=BOE_XML.getroot()\n",
    "\n",
    "    materias = [materia.text for materia in raiz.findall('analisis/materias/materia')]\n",
    "    alertas = [alerta.text for alerta in raiz.findall('analisis/alertas/alerta')]\n",
    "    \n",
    "    referencias = [str(referencia.xpath('@referencia')).replace(\"['\",'').replace(\"']\",'') for referencia in raiz.findall('analisis/referencias/anteriores/anterior')]\n",
    "    referencias_palabras = [referencia.text for referencia in raiz.findall('analisis/referencias/anteriores/anterior/palabra')]\n",
    "    referencias_texto = [referencia.text for referencia in raiz.findall('analisis/referencias/anteriores/anterior/texto')]\n",
    "\n",
    "    Item_Id = raiz.xpath(\".//identificador/text()\")\n",
    "    Item_name = raiz.xpath('.//titulo/text()') \n",
    "\n",
    "    Fecha_Publicacion = datetime.strptime(str(raiz.xpath('.//fecha_publicacion/text()'))[2:-2],\"%Y%m%d\")\n",
    "    #Fecha_Publicacion = str(raiz.xpath('.//fecha_publicacion/text()'))[2:-2]\n",
    " \n",
    "    tabla_analisis = tabla_analisis.append({'Item_id': Item_Id,\n",
    "                                            'Item_Name' : Item_name,\n",
    "                                            'Fecha_publicacion' : Fecha_Publicacion,\n",
    "                                            'Materias' : materias,\n",
    "                                            'Alertas' : alertas,\n",
    "                                            'Referencias' : referencias,\n",
    "                                            'Referencias_palabra' : referencias_palabras,\n",
    "                                            'Referencias_texto' : referencias_texto},\n",
    "                                            ignore_index=True)\n"
   ]
  },
  {
   "cell_type": "code",
   "execution_count": 1733,
   "metadata": {},
   "outputs": [
    {
     "output_type": "execute_result",
     "data": {
      "text/plain": [
       "                                             Alertas Fecha_publicacion  \\\n",
       "0                [Sistema financiero, Unión Europea]        2021-02-12   \n",
       "2  [Comercio, Consumidores y usuarios, Sanidad, T...        2021-02-12   \n",
       "1                            [Transportes y tráfico]        2021-02-12   \n",
       "\n",
       "                                           Item_Name            Item_id  \\\n",
       "0  [Orden HAC/114/2021, de 5 de febrero, por la q...  [BOE-A-2021-2045]   \n",
       "2  [Orden CSM/115/2021, de 11 de febrero, por la ...  [BOE-A-2021-2046]   \n",
       "1  [Resolución de 3 de febrero de 2021, de la Dir...  [BOE-A-2021-2047]   \n",
       "\n",
       "                                            Materias  \\\n",
       "0  [Ayudas, Desarrollo regional, Financiación com...   \n",
       "2  [Comercialización, Entidades de acreditación, ...   \n",
       "1  [Carreteras, Circulación vial, Deporte, Mercan...   \n",
       "\n",
       "                                         Referencias  \\\n",
       "0  [BOE-A-2016-12485, BOE-A-2003-20977, DOUE-L-20...   \n",
       "2                 [BOE-A-2020-4761, BOE-A-2020-4525]   \n",
       "1  [BOE-A-2015-11722, BOE-A-2003-23514, BOE-A-201...   \n",
       "\n",
       "                                 Referencias_palabra  \\\n",
       "0   [MODIFICA, DE CONFORMIDAD con, CITA, CITA, CITA]   \n",
       "2              [DE CONFORMIDAD con, EN RELACIÓN con]   \n",
       "1  [DE CONFORMIDAD con, DE CONFORMIDAD con, EN RE...   \n",
       "\n",
       "                                   Referencias_texto  \n",
       "0  [las normas 1, 3, 6, 10, 12 a 16, SE AÑADE las...  \n",
       "2  [el art. 3 del Real Decreto 495/2020, de 28 de...  \n",
       "1  [el art. 18 de la Ley sobre Tráfico, Circulaci...  "
      ],
      "text/html": "<div>\n<style scoped>\n    .dataframe tbody tr th:only-of-type {\n        vertical-align: middle;\n    }\n\n    .dataframe tbody tr th {\n        vertical-align: top;\n    }\n\n    .dataframe thead th {\n        text-align: right;\n    }\n</style>\n<table border=\"1\" class=\"dataframe\">\n  <thead>\n    <tr style=\"text-align: right;\">\n      <th></th>\n      <th>Alertas</th>\n      <th>Fecha_publicacion</th>\n      <th>Item_Name</th>\n      <th>Item_id</th>\n      <th>Materias</th>\n      <th>Referencias</th>\n      <th>Referencias_palabra</th>\n      <th>Referencias_texto</th>\n    </tr>\n  </thead>\n  <tbody>\n    <tr>\n      <th>0</th>\n      <td>[Sistema financiero, Unión Europea]</td>\n      <td>2021-02-12</td>\n      <td>[Orden HAC/114/2021, de 5 de febrero, por la q...</td>\n      <td>[BOE-A-2021-2045]</td>\n      <td>[Ayudas, Desarrollo regional, Financiación com...</td>\n      <td>[BOE-A-2016-12485, BOE-A-2003-20977, DOUE-L-20...</td>\n      <td>[MODIFICA, DE CONFORMIDAD con, CITA, CITA, CITA]</td>\n      <td>[las normas 1, 3, 6, 10, 12 a 16, SE AÑADE las...</td>\n    </tr>\n    <tr>\n      <th>2</th>\n      <td>[Comercio, Consumidores y usuarios, Sanidad, T...</td>\n      <td>2021-02-12</td>\n      <td>[Orden CSM/115/2021, de 11 de febrero, por la ...</td>\n      <td>[BOE-A-2021-2046]</td>\n      <td>[Comercialización, Entidades de acreditación, ...</td>\n      <td>[BOE-A-2020-4761, BOE-A-2020-4525]</td>\n      <td>[DE CONFORMIDAD con, EN RELACIÓN con]</td>\n      <td>[el art. 3 del Real Decreto 495/2020, de 28 de...</td>\n    </tr>\n    <tr>\n      <th>1</th>\n      <td>[Transportes y tráfico]</td>\n      <td>2021-02-12</td>\n      <td>[Resolución de 3 de febrero de 2021, de la Dir...</td>\n      <td>[BOE-A-2021-2047]</td>\n      <td>[Carreteras, Circulación vial, Deporte, Mercan...</td>\n      <td>[BOE-A-2015-11722, BOE-A-2003-23514, BOE-A-201...</td>\n      <td>[DE CONFORMIDAD con, DE CONFORMIDAD con, EN RE...</td>\n      <td>[el art. 18 de la Ley sobre Tráfico, Circulaci...</td>\n    </tr>\n  </tbody>\n</table>\n</div>"
     },
     "metadata": {},
     "execution_count": 1733
    }
   ],
   "source": [
    "tabla_analisis.sort_values('Item_id')"
   ]
  },
  {
   "cell_type": "code",
   "execution_count": 1734,
   "metadata": {},
   "outputs": [],
   "source": [
    "# Crea nueva columna vacía de tipo lista en tabla_analisis\n",
    "tabla_analisis['Referencias_completas'] = [[] for i in range(len(tabla_analisis))]\n",
    "tabla_analisis['Tags'] = [[] for i in range(len(tabla_analisis))]\n",
    "tabla_analisis['Match_ASECORP_BBDD'] = [[] for i in range(len(tabla_analisis))]\n"
   ]
  },
  {
   "cell_type": "code",
   "execution_count": 1735,
   "metadata": {},
   "outputs": [],
   "source": [
    "# Define expresiones REGEX para búsqueda de leyes, decretos, etc. referenciadas anteriormente\n",
    "pattern = ['Ley [0-9]+\\/[0-9]+','Real Decreto [0-9]+\\/[0-9]+','Real Decreto Legislativo [0-9]+\\/[0-9]+','Real Decreto-ley [0-9]+\\/[0-9]+','Orden [A-Z]+\\/[0-9]+\\/[0-9]+','Orden Circular [0-9]+\\/[0-9]+','Reglamento \\(UE\\) [0-9]+\\/[0-9]+','Sentencia de [0-9]+ de [a-z]+ de [0-9]+','Sentencia [0-9]+\\/[0-9]+','Orden de [0-9]+ de [a-z]+ de [0-9]+', 'Resolución de [0-9]+ de [a-z]+ de [0-9]+','Resolución [a-z]+\\/[0-9]+\\/[0-9]+', 'Nota de Servicio [0-9]+\\/[0-9]+', 'Acuerdo multilateral M\\-[0-9]+', 'Circular [0-9]+\\/[0-9]+']"
   ]
  },
  {
   "cell_type": "code",
   "execution_count": 1736,
   "metadata": {
    "tags": []
   },
   "outputs": [
    {
     "output_type": "stream",
     "name": "stdout",
     "text": [
      "['MODIFICA las normas 1, 3, 6, 10, 12 a 16, SE AÑADE las  normas 10 bis y 14 bis y SE SUPRIME la norma 19 de la Orden HFP/1979/2016, de 29 de diciembre', 'DE CONFORMIDAD con la Ley 38/2003, de 17 de noviembre', 'CITA Reglamento (UE) 2020/558, de 23 de abril', 'CITA Reglamento (UE) 2020/460, de 30 de marzo', 'CITA Reglamento (UE) 2018/1046, de 18 de julio']\n['DE CONFORMIDAD con el art. 18 de la Ley sobre Tráfico, Circulación de Vehículos a Motor y Seguridad Vial, texto refundido aprobado por Real Decreto Legislativo 6/2015, de 30 de octubre', 'DE CONFORMIDAD con los arts. 37 y 39 del Reglamento aprobado por Real Decreto 1428/2003, de 21 de noviembre', 'EN RELACIÓN sobre la Resolución de 20 de diciembre de 2019']\n['DE CONFORMIDAD con el art. 3 del Real Decreto 495/2020, de 28 de abril', 'EN RELACIÓN con la Orden SND/354/2020, de 19 de abril']\n"
     ]
    }
   ],
   "source": [
    "# Consolida las columnas Referencias_palabra y Referencias_texto en una única frase\n",
    "for i, row in tabla_analisis.iterrows():\n",
    "    for item_list in range(len(row['Referencias'])): \n",
    "        row['Referencias_completas'].append(row['Referencias_palabra'][item_list] + ' ' + row['Referencias_texto'][item_list])\n",
    "        tabla_analisis['Tags'][i] = re.findall('|'.join(pattern), str(row['Referencias_texto']), flags=re.IGNORECASE)\n",
    "    print(row['Referencias_completas'])"
   ]
  },
  {
   "cell_type": "code",
   "execution_count": 1737,
   "metadata": {},
   "outputs": [
    {
     "output_type": "execute_result",
     "data": {
      "text/plain": [
       "                                             Alertas Fecha_publicacion  \\\n",
       "0                [Sistema financiero, Unión Europea]        2021-02-12   \n",
       "1                            [Transportes y tráfico]        2021-02-12   \n",
       "2  [Comercio, Consumidores y usuarios, Sanidad, T...        2021-02-12   \n",
       "\n",
       "                                           Item_Name            Item_id  \\\n",
       "0  [Orden HAC/114/2021, de 5 de febrero, por la q...  [BOE-A-2021-2045]   \n",
       "1  [Resolución de 3 de febrero de 2021, de la Dir...  [BOE-A-2021-2047]   \n",
       "2  [Orden CSM/115/2021, de 11 de febrero, por la ...  [BOE-A-2021-2046]   \n",
       "\n",
       "                                            Materias  \\\n",
       "0  [Ayudas, Desarrollo regional, Financiación com...   \n",
       "1  [Carreteras, Circulación vial, Deporte, Mercan...   \n",
       "2  [Comercialización, Entidades de acreditación, ...   \n",
       "\n",
       "                                         Referencias  \\\n",
       "0  [BOE-A-2016-12485, BOE-A-2003-20977, DOUE-L-20...   \n",
       "1  [BOE-A-2015-11722, BOE-A-2003-23514, BOE-A-201...   \n",
       "2                 [BOE-A-2020-4761, BOE-A-2020-4525]   \n",
       "\n",
       "                                 Referencias_palabra  \\\n",
       "0   [MODIFICA, DE CONFORMIDAD con, CITA, CITA, CITA]   \n",
       "1  [DE CONFORMIDAD con, DE CONFORMIDAD con, EN RE...   \n",
       "2              [DE CONFORMIDAD con, EN RELACIÓN con]   \n",
       "\n",
       "                                   Referencias_texto  \\\n",
       "0  [las normas 1, 3, 6, 10, 12 a 16, SE AÑADE las...   \n",
       "1  [el art. 18 de la Ley sobre Tráfico, Circulaci...   \n",
       "2  [el art. 3 del Real Decreto 495/2020, de 28 de...   \n",
       "\n",
       "                               Referencias_completas  \\\n",
       "0  [MODIFICA las normas 1, 3, 6, 10, 12 a 16, SE ...   \n",
       "1  [DE CONFORMIDAD con el art. 18 de la Ley sobre...   \n",
       "2  [DE CONFORMIDAD con el art. 3 del Real Decreto...   \n",
       "\n",
       "                                                Tags Match_ASECORP_BBDD  \n",
       "0  [Orden HFP/1979/2016, Ley 38/2003, Reglamento ...                 []  \n",
       "1  [Real Decreto Legislativo 6/2015, Real Decreto...                 []  \n",
       "2        [Real Decreto 495/2020, Orden SND/354/2020]                 []  "
      ],
      "text/html": "<div>\n<style scoped>\n    .dataframe tbody tr th:only-of-type {\n        vertical-align: middle;\n    }\n\n    .dataframe tbody tr th {\n        vertical-align: top;\n    }\n\n    .dataframe thead th {\n        text-align: right;\n    }\n</style>\n<table border=\"1\" class=\"dataframe\">\n  <thead>\n    <tr style=\"text-align: right;\">\n      <th></th>\n      <th>Alertas</th>\n      <th>Fecha_publicacion</th>\n      <th>Item_Name</th>\n      <th>Item_id</th>\n      <th>Materias</th>\n      <th>Referencias</th>\n      <th>Referencias_palabra</th>\n      <th>Referencias_texto</th>\n      <th>Referencias_completas</th>\n      <th>Tags</th>\n      <th>Match_ASECORP_BBDD</th>\n    </tr>\n  </thead>\n  <tbody>\n    <tr>\n      <th>0</th>\n      <td>[Sistema financiero, Unión Europea]</td>\n      <td>2021-02-12</td>\n      <td>[Orden HAC/114/2021, de 5 de febrero, por la q...</td>\n      <td>[BOE-A-2021-2045]</td>\n      <td>[Ayudas, Desarrollo regional, Financiación com...</td>\n      <td>[BOE-A-2016-12485, BOE-A-2003-20977, DOUE-L-20...</td>\n      <td>[MODIFICA, DE CONFORMIDAD con, CITA, CITA, CITA]</td>\n      <td>[las normas 1, 3, 6, 10, 12 a 16, SE AÑADE las...</td>\n      <td>[MODIFICA las normas 1, 3, 6, 10, 12 a 16, SE ...</td>\n      <td>[Orden HFP/1979/2016, Ley 38/2003, Reglamento ...</td>\n      <td>[]</td>\n    </tr>\n    <tr>\n      <th>1</th>\n      <td>[Transportes y tráfico]</td>\n      <td>2021-02-12</td>\n      <td>[Resolución de 3 de febrero de 2021, de la Dir...</td>\n      <td>[BOE-A-2021-2047]</td>\n      <td>[Carreteras, Circulación vial, Deporte, Mercan...</td>\n      <td>[BOE-A-2015-11722, BOE-A-2003-23514, BOE-A-201...</td>\n      <td>[DE CONFORMIDAD con, DE CONFORMIDAD con, EN RE...</td>\n      <td>[el art. 18 de la Ley sobre Tráfico, Circulaci...</td>\n      <td>[DE CONFORMIDAD con el art. 18 de la Ley sobre...</td>\n      <td>[Real Decreto Legislativo 6/2015, Real Decreto...</td>\n      <td>[]</td>\n    </tr>\n    <tr>\n      <th>2</th>\n      <td>[Comercio, Consumidores y usuarios, Sanidad, T...</td>\n      <td>2021-02-12</td>\n      <td>[Orden CSM/115/2021, de 11 de febrero, por la ...</td>\n      <td>[BOE-A-2021-2046]</td>\n      <td>[Comercialización, Entidades de acreditación, ...</td>\n      <td>[BOE-A-2020-4761, BOE-A-2020-4525]</td>\n      <td>[DE CONFORMIDAD con, EN RELACIÓN con]</td>\n      <td>[el art. 3 del Real Decreto 495/2020, de 28 de...</td>\n      <td>[DE CONFORMIDAD con el art. 3 del Real Decreto...</td>\n      <td>[Real Decreto 495/2020, Orden SND/354/2020]</td>\n      <td>[]</td>\n    </tr>\n  </tbody>\n</table>\n</div>"
     },
     "metadata": {},
     "execution_count": 1737
    }
   ],
   "source": [
    "tabla_analisis"
   ]
  },
  {
   "cell_type": "code",
   "execution_count": 1738,
   "metadata": {},
   "outputs": [
    {
     "output_type": "stream",
     "name": "stdout",
     "text": [
      "MODIFICA las normas 1, 3, 6, 10, 12 a 16, SE AÑADE las  normas 10 bis y 14 bis y SE SUPRIME la norma 19 de la Orden HFP/1979/2016, de 29 de diciembre\nDE CONFORMIDAD con la Ley 38/2003, de 17 de noviembre\nCITA Reglamento (UE) 2020/558, de 23 de abril\nCITA Reglamento (UE) 2020/460, de 30 de marzo\nCITA Reglamento (UE) 2018/1046, de 18 de julio\nDE CONFORMIDAD con el art. 18 de la Ley sobre Tráfico, Circulación de Vehículos a Motor y Seguridad Vial, texto refundido aprobado por Real Decreto Legislativo 6/2015, de 30 de octubre\nDE CONFORMIDAD con los arts. 37 y 39 del Reglamento aprobado por Real Decreto 1428/2003, de 21 de noviembre\nEN RELACIÓN sobre la Resolución de 20 de diciembre de 2019\nDE CONFORMIDAD con el art. 3 del Real Decreto 495/2020, de 28 de abril\nEN RELACIÓN con la Orden SND/354/2020, de 19 de abril\n"
     ]
    }
   ],
   "source": [
    "texto = ''\n",
    "for refs in tabla_analisis['Referencias_completas']:\n",
    "    for ref in refs:\n",
    "        texto = texto + ref + ' '\n",
    "        print(ref)"
   ]
  },
  {
   "cell_type": "code",
   "execution_count": 1739,
   "metadata": {},
   "outputs": [
    {
     "output_type": "stream",
     "name": "stdout",
     "text": [
      "\n['BOE-A-2021-2045']['Orden HAC/114/2021, de 5 de febrero, por la que se modifica la Orden HFP/1979/2016, de 29 de diciembre, por la que se aprueban las normas sobre los gastos subvencionables de los Programas Operativos del Fondo Europeo de Desarrollo Regional para el período 2014-2020.']\n\n\tAntecedente 1: MODIFICA las normas 1, 3, 6, 10, 12 a 16, SE AÑADE las  normas 10 bis y 14 bis y SE SUPRIME la norma 19 de la Orden HFP/1979/2016, de 29 de diciembre ['Orden HFP/1979/2016']\n\tAntecedente 2: DE CONFORMIDAD con la Ley 38/2003, de 17 de noviembre ['Ley 38/2003']\n\tAntecedente 3: CITA Reglamento (UE) 2020/558, de 23 de abril ['Reglamento (UE) 2020/558']\n\tAntecedente 4: CITA Reglamento (UE) 2020/460, de 30 de marzo ['Reglamento (UE) 2020/460']\n\tAntecedente 5: CITA Reglamento (UE) 2018/1046, de 18 de julio ['Reglamento (UE) 2018/1046']\n\n['BOE-A-2021-2047']['Resolución de 3 de febrero de 2021, de la Dirección de Tráfico, del Departamento de Seguridad, por la que se establecen medidas especiales de regulación de tráfico durante el año 2021 en la Comunidad Autónoma del País Vasco.']\n\n\tAntecedente 1: DE CONFORMIDAD con el art. 18 de la Ley sobre Tráfico, Circulación de Vehículos a Motor y Seguridad Vial, texto refundido aprobado por Real Decreto Legislativo 6/2015, de 30 de octubre ['Real Decreto Legislativo 6/2015']\n\tAntecedente 2: DE CONFORMIDAD con los arts. 37 y 39 del Reglamento aprobado por Real Decreto 1428/2003, de 21 de noviembre ['Real Decreto 1428/2003']\n\tAntecedente 3: EN RELACIÓN sobre la Resolución de 20 de diciembre de 2019 ['Resolución de 20 de diciembre de 2019']\n\n['BOE-A-2021-2046']['Orden CSM/115/2021, de 11 de febrero, por la que se establecen los requisitos de información y comercialización de mascarillas higiénicas.']\n\n\tAntecedente 1: DE CONFORMIDAD con el art. 3 del Real Decreto 495/2020, de 28 de abril ['Real Decreto 495/2020']\n\tAntecedente 2: EN RELACIÓN con la Orden SND/354/2020, de 19 de abril ['Orden SND/354/2020']\n"
     ]
    }
   ],
   "source": [
    "texto = ''\n",
    "for i, row in tabla_analisis.iterrows():\n",
    "    #unique_id = i\n",
    "    print('\\n' + str(row['Item_id']) + str(row['Item_Name']) +'\\n')\n",
    "\n",
    "    antecedente = 1\n",
    "    for ref in row['Referencias_completas']:\n",
    "        texto = texto + ref + ' '\n",
    "        print('\\t' + 'Antecedente ' + str(antecedente) + ': ' + ref + ' ' + str(re.findall('|'.join(pattern), ref, flags=re.IGNORECASE)))\n",
    "        antecedente += 1"
   ]
  },
  {
   "cell_type": "code",
   "execution_count": 1740,
   "metadata": {},
   "outputs": [],
   "source": [
    "# Aplica expresiones REGEX para búsqueda de leyes, decretos, etc. referenciadas anteriormente\n",
    "regex_result = re.findall('|'.join(pattern), texto, flags=re.IGNORECASE)"
   ]
  },
  {
   "cell_type": "code",
   "execution_count": 1741,
   "metadata": {},
   "outputs": [
    {
     "output_type": "stream",
     "name": "stdout",
     "text": [
      "['Orden HFP/1979/2016', 'Ley 38/2003', 'Reglamento (UE) 2020/558', 'Reglamento (UE) 2020/460', 'Reglamento (UE) 2018/1046', 'Real Decreto Legislativo 6/2015', 'Real Decreto 1428/2003', 'Resolución de 20 de diciembre de 2019', 'Real Decreto 495/2020', 'Orden SND/354/2020']\n"
     ]
    }
   ],
   "source": [
    "print(regex_result)"
   ]
  },
  {
   "cell_type": "code",
   "execution_count": 1742,
   "metadata": {},
   "outputs": [],
   "source": [
    "## Elimina duplicados\n",
    "boletin_flat_list = list(set(regex_result))"
   ]
  },
  {
   "cell_type": "code",
   "execution_count": 1743,
   "metadata": {},
   "outputs": [
    {
     "output_type": "execute_result",
     "data": {
      "text/plain": [
       "['Resolución de 20 de diciembre de 2019',\n",
       " 'Reglamento (UE) 2018/1046',\n",
       " 'Real Decreto Legislativo 6/2015',\n",
       " 'Reglamento (UE) 2020/460',\n",
       " 'Ley 38/2003',\n",
       " 'Real Decreto 495/2020',\n",
       " 'Real Decreto 1428/2003',\n",
       " 'Orden SND/354/2020',\n",
       " 'Reglamento (UE) 2020/558',\n",
       " 'Orden HFP/1979/2016']"
      ]
     },
     "metadata": {},
     "execution_count": 1743
    }
   ],
   "source": [
    "boletin_flat_list"
   ]
  },
  {
   "source": [
    "## Importa BBDD ASECORP"
   ],
   "cell_type": "markdown",
   "metadata": {}
  },
  {
   "cell_type": "code",
   "execution_count": 1744,
   "metadata": {},
   "outputs": [],
   "source": [
    "ASECORP_BBDD = pd.read_csv('./ASECORP/ExportNormes_20210126.csv', delimiter=';')"
   ]
  },
  {
   "cell_type": "code",
   "execution_count": 1745,
   "metadata": {},
   "outputs": [
    {
     "output_type": "execute_result",
     "data": {
      "text/plain": [
       "                        Codigo      Numero  \\\n",
       "0       RES SLT/2313/2020 CAT         2313   \n",
       "1      (zzz) RES 12/4/2007 AST   12/4/2007   \n",
       "2           A CORUÑA 10/7/2015   10/7/2015   \n",
       "3       A CORUÑA 11/8/2014 (1)   11/8/2014   \n",
       "4       A CORUÑA 11/8/2014 (2)   11/8/2014   \n",
       "...                        ...         ...   \n",
       "19152          ZUMAIA 1/3/2001    1/3/2001   \n",
       "19153        ZUMAIA 12/11/1999  12/11/1999   \n",
       "19154         ZUMAIA 15/6/2012   15/6/2012   \n",
       "19155          ZUMAIA 6/2/2004    6/2/2004   \n",
       "19156          ZUMAIA 9/2/2004    9/2/2004   \n",
       "\n",
       "                                                  Titulo CodigoAmbito  \\\n",
       "0      Resolución SLT/2313/2020, de 24 de septiembre,...          CAT   \n",
       "1      Resolución de 12 abril de 2007, de la Consejer...          AST   \n",
       "2      Modificación de la Ordenanza de vertidos y ser...          GAL   \n",
       "3      Ordenanza municipal reguladora de los procedim...          GAL   \n",
       "4      Ordenanza de protección contra la contaminació...          GAL   \n",
       "...                                                  ...          ...   \n",
       "19152  Ordenanza reguladora de la gestión del ciclo i...          PVA   \n",
       "19153  Normativa complementaria de las Normas Subsidi...          PVA   \n",
       "19154  Modificación de la Ordenanza municipal de la g...          PVA   \n",
       "19155  Modificación de la Normativa complementaria de...          PVA   \n",
       "19156  Reglamento regulador del vertido a colector de...          PVA   \n",
       "\n",
       "           Ambito Municipio   TiposNorma IdTiposNorma  \n",
       "0        Cataluña       NaN   Prevención          [2]  \n",
       "1        Asturias       NaN  M. Ambiente          [1]  \n",
       "2         Galicia  A Coruña  M. Ambiente          [1]  \n",
       "3         Galicia  A Coruña  M. Ambiente          [1]  \n",
       "4         Galicia  A Coruña  M. Ambiente          [1]  \n",
       "...           ...       ...          ...          ...  \n",
       "19152  Pais Vasco    Zumaia  M. Ambiente          [1]  \n",
       "19153  Pais Vasco    Zumaia  M. Ambiente          [1]  \n",
       "19154  Pais Vasco    Zumaia  M. Ambiente          [1]  \n",
       "19155  Pais Vasco    Zumaia  M. Ambiente          [1]  \n",
       "19156  Pais Vasco    Zumaia  M. Ambiente          [1]  \n",
       "\n",
       "[19157 rows x 8 columns]"
      ],
      "text/html": "<div>\n<style scoped>\n    .dataframe tbody tr th:only-of-type {\n        vertical-align: middle;\n    }\n\n    .dataframe tbody tr th {\n        vertical-align: top;\n    }\n\n    .dataframe thead th {\n        text-align: right;\n    }\n</style>\n<table border=\"1\" class=\"dataframe\">\n  <thead>\n    <tr style=\"text-align: right;\">\n      <th></th>\n      <th>Codigo</th>\n      <th>Numero</th>\n      <th>Titulo</th>\n      <th>CodigoAmbito</th>\n      <th>Ambito</th>\n      <th>Municipio</th>\n      <th>TiposNorma</th>\n      <th>IdTiposNorma</th>\n    </tr>\n  </thead>\n  <tbody>\n    <tr>\n      <th>0</th>\n      <td>RES SLT/2313/2020 CAT</td>\n      <td>2313</td>\n      <td>Resolución SLT/2313/2020, de 24 de septiembre,...</td>\n      <td>CAT</td>\n      <td>Cataluña</td>\n      <td>NaN</td>\n      <td>Prevención</td>\n      <td>[2]</td>\n    </tr>\n    <tr>\n      <th>1</th>\n      <td>(zzz) RES 12/4/2007 AST</td>\n      <td>12/4/2007</td>\n      <td>Resolución de 12 abril de 2007, de la Consejer...</td>\n      <td>AST</td>\n      <td>Asturias</td>\n      <td>NaN</td>\n      <td>M. Ambiente</td>\n      <td>[1]</td>\n    </tr>\n    <tr>\n      <th>2</th>\n      <td>A CORUÑA 10/7/2015</td>\n      <td>10/7/2015</td>\n      <td>Modificación de la Ordenanza de vertidos y ser...</td>\n      <td>GAL</td>\n      <td>Galicia</td>\n      <td>A Coruña</td>\n      <td>M. Ambiente</td>\n      <td>[1]</td>\n    </tr>\n    <tr>\n      <th>3</th>\n      <td>A CORUÑA 11/8/2014 (1)</td>\n      <td>11/8/2014</td>\n      <td>Ordenanza municipal reguladora de los procedim...</td>\n      <td>GAL</td>\n      <td>Galicia</td>\n      <td>A Coruña</td>\n      <td>M. Ambiente</td>\n      <td>[1]</td>\n    </tr>\n    <tr>\n      <th>4</th>\n      <td>A CORUÑA 11/8/2014 (2)</td>\n      <td>11/8/2014</td>\n      <td>Ordenanza de protección contra la contaminació...</td>\n      <td>GAL</td>\n      <td>Galicia</td>\n      <td>A Coruña</td>\n      <td>M. Ambiente</td>\n      <td>[1]</td>\n    </tr>\n    <tr>\n      <th>...</th>\n      <td>...</td>\n      <td>...</td>\n      <td>...</td>\n      <td>...</td>\n      <td>...</td>\n      <td>...</td>\n      <td>...</td>\n      <td>...</td>\n    </tr>\n    <tr>\n      <th>19152</th>\n      <td>ZUMAIA 1/3/2001</td>\n      <td>1/3/2001</td>\n      <td>Ordenanza reguladora de la gestión del ciclo i...</td>\n      <td>PVA</td>\n      <td>Pais Vasco</td>\n      <td>Zumaia</td>\n      <td>M. Ambiente</td>\n      <td>[1]</td>\n    </tr>\n    <tr>\n      <th>19153</th>\n      <td>ZUMAIA 12/11/1999</td>\n      <td>12/11/1999</td>\n      <td>Normativa complementaria de las Normas Subsidi...</td>\n      <td>PVA</td>\n      <td>Pais Vasco</td>\n      <td>Zumaia</td>\n      <td>M. Ambiente</td>\n      <td>[1]</td>\n    </tr>\n    <tr>\n      <th>19154</th>\n      <td>ZUMAIA 15/6/2012</td>\n      <td>15/6/2012</td>\n      <td>Modificación de la Ordenanza municipal de la g...</td>\n      <td>PVA</td>\n      <td>Pais Vasco</td>\n      <td>Zumaia</td>\n      <td>M. Ambiente</td>\n      <td>[1]</td>\n    </tr>\n    <tr>\n      <th>19155</th>\n      <td>ZUMAIA 6/2/2004</td>\n      <td>6/2/2004</td>\n      <td>Modificación de la Normativa complementaria de...</td>\n      <td>PVA</td>\n      <td>Pais Vasco</td>\n      <td>Zumaia</td>\n      <td>M. Ambiente</td>\n      <td>[1]</td>\n    </tr>\n    <tr>\n      <th>19156</th>\n      <td>ZUMAIA 9/2/2004</td>\n      <td>9/2/2004</td>\n      <td>Reglamento regulador del vertido a colector de...</td>\n      <td>PVA</td>\n      <td>Pais Vasco</td>\n      <td>Zumaia</td>\n      <td>M. Ambiente</td>\n      <td>[1]</td>\n    </tr>\n  </tbody>\n</table>\n<p>19157 rows × 8 columns</p>\n</div>"
     },
     "metadata": {},
     "execution_count": 1745
    }
   ],
   "source": [
    "ASECORP_BBDD"
   ]
  },
  {
   "cell_type": "code",
   "execution_count": 1746,
   "metadata": {},
   "outputs": [],
   "source": [
    "ASECORP_BBDD_BOE = ASECORP_BBDD.loc[ASECORP_BBDD['Ambito'] == 'España']"
   ]
  },
  {
   "cell_type": "code",
   "execution_count": 1747,
   "metadata": {},
   "outputs": [
    {
     "output_type": "execute_result",
     "data": {
      "text/plain": [
       "                        Codigo      Numero  \\\n",
       "23              ACU 1/2020 ESP           1   \n",
       "35           ACU 11/6/2007 ESP   11/6/2007   \n",
       "57          ACU 17/10/2006 ESP  17/10/2006   \n",
       "71          ACU 19/11/2018 ESP  19/11/2018   \n",
       "82              ACU 2/2020 ESP           2   \n",
       "...                        ...         ...   \n",
       "18496          STC 86/2019 ESP          86   \n",
       "18497          STC 87/2019 ESP          87   \n",
       "18498          STC 88/2018 ESP          88   \n",
       "18499         STC 9/3/2010 ESP    9/3/2010   \n",
       "18879  verificación de calidad           1   \n",
       "\n",
       "                                                  Titulo CodigoAmbito  Ambito  \\\n",
       "23     Acuerdo Multilateral RID 1/2020 en virtud de l...          ESP  España   \n",
       "35     Entrada en vigor del Acuerdo entre el Reino de...          ESP  España   \n",
       "57     Aplicación provisional del Acuerdo entre el Re...          ESP  España   \n",
       "71     Acuerdo de la Junta de Gobierno de la Confeder...          ESP  España   \n",
       "82     Acuerdo Multilateral RID 2/2020 en virtud de l...          ESP  España   \n",
       "...                                                  ...          ...     ...   \n",
       "18496  Sentencia 86/2019, de 20 de junio de 2019. Rec...          ESP  España   \n",
       "18497  Sentencia 87/2019, de 20 de junio de 2019. Rec...          ESP  España   \n",
       "18498  Sentencia 88/2018, de 19 de julio de 2018. Con...          ESP  España   \n",
       "18499  Sentencia de 9 de marzo de 2010, de la Sala Te...          ESP  España   \n",
       "18879   Norma verificación calidad alertas en produccion          ESP  España   \n",
       "\n",
       "      Municipio                     TiposNorma IdTiposNorma  \n",
       "23          NaN       M. Ambiente / Prevención       [1][2]  \n",
       "35          NaN                    M. Ambiente          [1]  \n",
       "57          NaN                    M. Ambiente          [1]  \n",
       "71          NaN                    M. Ambiente          [1]  \n",
       "82          NaN       M. Ambiente / Prevención       [1][2]  \n",
       "...         ...                            ...          ...  \n",
       "18496       NaN                    M. Ambiente          [1]  \n",
       "18497       NaN                    M. Ambiente          [1]  \n",
       "18498       NaN  M. Ambiente / Reg. Industrial       [1][3]  \n",
       "18499       NaN                    M. Ambiente          [1]  \n",
       "18879         -                Reg. Industrial          [3]  \n",
       "\n",
       "[2959 rows x 8 columns]"
      ],
      "text/html": "<div>\n<style scoped>\n    .dataframe tbody tr th:only-of-type {\n        vertical-align: middle;\n    }\n\n    .dataframe tbody tr th {\n        vertical-align: top;\n    }\n\n    .dataframe thead th {\n        text-align: right;\n    }\n</style>\n<table border=\"1\" class=\"dataframe\">\n  <thead>\n    <tr style=\"text-align: right;\">\n      <th></th>\n      <th>Codigo</th>\n      <th>Numero</th>\n      <th>Titulo</th>\n      <th>CodigoAmbito</th>\n      <th>Ambito</th>\n      <th>Municipio</th>\n      <th>TiposNorma</th>\n      <th>IdTiposNorma</th>\n    </tr>\n  </thead>\n  <tbody>\n    <tr>\n      <th>23</th>\n      <td>ACU 1/2020 ESP</td>\n      <td>1</td>\n      <td>Acuerdo Multilateral RID 1/2020 en virtud de l...</td>\n      <td>ESP</td>\n      <td>España</td>\n      <td>NaN</td>\n      <td>M. Ambiente / Prevención</td>\n      <td>[1][2]</td>\n    </tr>\n    <tr>\n      <th>35</th>\n      <td>ACU 11/6/2007 ESP</td>\n      <td>11/6/2007</td>\n      <td>Entrada en vigor del Acuerdo entre el Reino de...</td>\n      <td>ESP</td>\n      <td>España</td>\n      <td>NaN</td>\n      <td>M. Ambiente</td>\n      <td>[1]</td>\n    </tr>\n    <tr>\n      <th>57</th>\n      <td>ACU 17/10/2006 ESP</td>\n      <td>17/10/2006</td>\n      <td>Aplicación provisional del Acuerdo entre el Re...</td>\n      <td>ESP</td>\n      <td>España</td>\n      <td>NaN</td>\n      <td>M. Ambiente</td>\n      <td>[1]</td>\n    </tr>\n    <tr>\n      <th>71</th>\n      <td>ACU 19/11/2018 ESP</td>\n      <td>19/11/2018</td>\n      <td>Acuerdo de la Junta de Gobierno de la Confeder...</td>\n      <td>ESP</td>\n      <td>España</td>\n      <td>NaN</td>\n      <td>M. Ambiente</td>\n      <td>[1]</td>\n    </tr>\n    <tr>\n      <th>82</th>\n      <td>ACU 2/2020 ESP</td>\n      <td>2</td>\n      <td>Acuerdo Multilateral RID 2/2020 en virtud de l...</td>\n      <td>ESP</td>\n      <td>España</td>\n      <td>NaN</td>\n      <td>M. Ambiente / Prevención</td>\n      <td>[1][2]</td>\n    </tr>\n    <tr>\n      <th>...</th>\n      <td>...</td>\n      <td>...</td>\n      <td>...</td>\n      <td>...</td>\n      <td>...</td>\n      <td>...</td>\n      <td>...</td>\n      <td>...</td>\n    </tr>\n    <tr>\n      <th>18496</th>\n      <td>STC 86/2019 ESP</td>\n      <td>86</td>\n      <td>Sentencia 86/2019, de 20 de junio de 2019. Rec...</td>\n      <td>ESP</td>\n      <td>España</td>\n      <td>NaN</td>\n      <td>M. Ambiente</td>\n      <td>[1]</td>\n    </tr>\n    <tr>\n      <th>18497</th>\n      <td>STC 87/2019 ESP</td>\n      <td>87</td>\n      <td>Sentencia 87/2019, de 20 de junio de 2019. Rec...</td>\n      <td>ESP</td>\n      <td>España</td>\n      <td>NaN</td>\n      <td>M. Ambiente</td>\n      <td>[1]</td>\n    </tr>\n    <tr>\n      <th>18498</th>\n      <td>STC 88/2018 ESP</td>\n      <td>88</td>\n      <td>Sentencia 88/2018, de 19 de julio de 2018. Con...</td>\n      <td>ESP</td>\n      <td>España</td>\n      <td>NaN</td>\n      <td>M. Ambiente / Reg. Industrial</td>\n      <td>[1][3]</td>\n    </tr>\n    <tr>\n      <th>18499</th>\n      <td>STC 9/3/2010 ESP</td>\n      <td>9/3/2010</td>\n      <td>Sentencia de 9 de marzo de 2010, de la Sala Te...</td>\n      <td>ESP</td>\n      <td>España</td>\n      <td>NaN</td>\n      <td>M. Ambiente</td>\n      <td>[1]</td>\n    </tr>\n    <tr>\n      <th>18879</th>\n      <td>verificación de calidad</td>\n      <td>1</td>\n      <td>Norma verificación calidad alertas en produccion</td>\n      <td>ESP</td>\n      <td>España</td>\n      <td>-</td>\n      <td>Reg. Industrial</td>\n      <td>[3]</td>\n    </tr>\n  </tbody>\n</table>\n<p>2959 rows × 8 columns</p>\n</div>"
     },
     "metadata": {},
     "execution_count": 1747
    }
   ],
   "source": [
    "ASECORP_BBDD_BOE"
   ]
  },
  {
   "cell_type": "code",
   "execution_count": 1748,
   "metadata": {},
   "outputs": [],
   "source": [
    "# Crea nueva columna vacía de tipo lista en ASECORP_BBDD\n",
    "ASECORP_BBDD_BOE['Tags'] = [[] for i in range(len(ASECORP_BBDD_BOE))]"
   ]
  },
  {
   "cell_type": "code",
   "execution_count": 1749,
   "metadata": {},
   "outputs": [],
   "source": [
    "titulo = []\n",
    "for i, row in ASECORP_BBDD_BOE.iterrows():\n",
    "    titulo.append(str(row['Titulo']) + str(re.findall('|'.join(pattern), str(row['Titulo']), flags=re.IGNORECASE)))\n",
    "    ASECORP_BBDD_BOE['Tags'][i] = re.findall('|'.join(pattern), str(row['Titulo']), flags=re.IGNORECASE)"
   ]
  },
  {
   "cell_type": "code",
   "execution_count": 1750,
   "metadata": {},
   "outputs": [
    {
     "output_type": "execute_result",
     "data": {
      "text/plain": [
       "                      Codigo     Numero  \\\n",
       "11629  ORD PRE/2827/2009 ESP       2827   \n",
       "11630  ORD PRE/2843/2009 ESP       2843   \n",
       "11631  ORD PRE/2851/2010 ESP       2851   \n",
       "11632  ORD PRE/2871/2011 ESP       2871   \n",
       "11633  ORD PRE/2872/2011 ESP       2872   \n",
       "11634    ORD PRE/29/2004 ESP         29   \n",
       "11635  ORD PRE/2922/2005 ESP       2922   \n",
       "11636  ORD PRE/2957/2008 ESP       2957   \n",
       "11637     ORD PRE/3/2006 ESP          3   \n",
       "11638  ORD PRE/3159/2004 ESP       3159   \n",
       "11639   ORD PRE/321/2009 ESP        321   \n",
       "11640  ORD PRE/3271/2011 ESP       3271   \n",
       "11641  ORD PRE/3290/2002 ESP       3290   \n",
       "11642  ORD PRE/3297/2004 ESP       3297   \n",
       "11643  ORD PRE/3298/2004 ESP       3298   \n",
       "11644  ORD PRE/3302/2006 ESP       3302   \n",
       "11645  ORD PRE/3338/2007 ESP       3338   \n",
       "11647  ORD PRE/3420/2007 ESP       3420   \n",
       "11648  ORD PRE/3476/2003 ESP       3476   \n",
       "11649  ORD PRE/3539/2008 ESP       3539   \n",
       "11650   ORD PRE/370/2012 ESP        370   \n",
       "11651   ORD PRE/374/2008 ESP        374   \n",
       "11652   ORD PRE/375/2003 ESP        375   \n",
       "11653  ORD PRE/3834/2005 ESP       3834   \n",
       "11654  ORD PRE/3856/2005 ESP       3856   \n",
       "11655  ORD PRE/3929/2004 ESP       3929   \n",
       "11656   ORD PRE/402/2006 ESP        402   \n",
       "11657   ORD PRE/402/2008 CAT        402   \n",
       "11658   ORD PRE/456/2007 ESP        456   \n",
       "11659   ORD PRE/468/2008 ESP        468   \n",
       "11660   ORD PRE/473/2004 ESP        473   \n",
       "11661   ORD PRE/507/2008 ESP        507   \n",
       "11662    ORD PRE/52/2010 ESP  23/1/2010   \n",
       "11663   ORD PRE/531/2010 ESP        531   \n",
       "11664   ORD PRE/556/2005 ESP        556   \n",
       "11665   ORD PRE/568/2009 ESP        568   \n",
       "11666   ORD PRE/628/2011 ESP        628   \n",
       "11667   ORD PRE/629/2011 ESP        629   \n",
       "11668   ORD PRE/630/2011 ESP        630   \n",
       "11669   ORD PRE/631/2011 ESP        631   \n",
       "11670   ORD PRE/662/2013 ESP        662   \n",
       "11671   ORD PRE/675/2013 ESP        675   \n",
       "11672   ORD PRE/690/2005 ESP        690   \n",
       "11673   ORD PRE/696/2008 ESP        696   \n",
       "11674   ORD PRE/730/2003 ESP        730   \n",
       "11675    ORD PRE/77/2008 ESP         77   \n",
       "11676   ORD PRE/772/2016 ESP        772   \n",
       "11677   ORD PRE/777/2009 ESP        777   \n",
       "11678   ORD PRE/777/2011 ESP        777   \n",
       "11679   ORD PRE/839/2010 ESP        839   \n",
       "\n",
       "                                                  Titulo CodigoAmbito  Ambito  \\\n",
       "11629  Orden PRE/2827/2009, de 19 de octubre, por la ...          ESP  España   \n",
       "11630  Orden PRE/2843/2009, de 19 de octubre, por la ...          ESP  España   \n",
       "11631  Orden PRE/2851/2010, de 4 de noviembre, por la...          ESP  España   \n",
       "11632  Orden PRE/2871/2011, de 25 de octubre, por la ...          ESP  España   \n",
       "11633  Orden PRE/2872/2011, de 25 de octubre, por la ...          ESP  España   \n",
       "11634  Orden PRE/29/2004, de 15 de enero, por la que ...          ESP  España   \n",
       "11635  Orden PRE/2922/2005, de 19 de septiembre, por ...          ESP  España   \n",
       "11636  Orden PRE/2957/2008, de 10 de octubre, por la ...          ESP  España   \n",
       "11637  Orden PRE/3/2006, de 12 de enero, por la que s...          ESP  España   \n",
       "11638  Orden PRE/3159/2004, de 28 de septiembre, por ...          ESP  España   \n",
       "11639  Orden PRE/321/2009, de 13 de febrero, por la q...          ESP  España   \n",
       "11640  Orden PRE/3271/2011, de 25 de noviembre, por l...          ESP  España   \n",
       "11641  Orden PRE/3290/2002, de 23 de diciembre, por l...          ESP  España   \n",
       "11642  Orden PRE/3297/2004, de 13 de octubre, por la ...          ESP  España   \n",
       "11643  Orden PRE/3298/2004, de 13 de octubre, por la ...          ESP  España   \n",
       "11644  Orden PRE/3302/2006, de 27 de octubre, por la ...          ESP  España   \n",
       "11645  Orden PRE/3338/2007, de 15 de noviembre, por l...          ESP  España   \n",
       "11647  Orden PRE/3420/2007, de 14 de noviembre, por l...          ESP  España   \n",
       "11648  Orden PRE/3476/2003, de 9 de diciembre, por la...          ESP  España   \n",
       "11649  Orden PRE/3539/2008, de 28 de noviembre, por l...          ESP  España   \n",
       "11650  Orden PRE/370/2012, de 27 de febrero, por la q...          ESP  España   \n",
       "11651  Orden PRE/374/2008, de 31 de enero, por la que...          ESP  España   \n",
       "11652  Orden PRE/375/2003, de 24 de febrero, por la q...          ESP  España   \n",
       "11653  Orden PRE/3834/2005, de 9 de diciembre, por la...          ESP  España   \n",
       "11654  Orden PRE/3856/2005, de 12 de diciembre, por l...          ESP  España   \n",
       "11655  Orden PRE/3929/2004, de 30 de noviembre, por l...          ESP  España   \n",
       "11656  Orden PRE/402/2006, de 16 de febrero, por la q...          ESP  España   \n",
       "11657  Orden PRE/402/2008, de 28 de agosto, por la qu...          ESP  España   \n",
       "11658  Orden PRE/456/2007, de 28 de febrero, por la q...          ESP  España   \n",
       "11659  Orden PRE/468/2008, de 15 de febrero, por la q...          ESP  España   \n",
       "11660  Orden PRE/473/2004, de 25 de febrero, por la q...          ESP  España   \n",
       "11661  Orden PRE/507/2008, de 26 de febrero, por la q...          ESP  España   \n",
       "11662  Orden PRE/52/2010, de 21 de enero, por la que ...          ESP  España   \n",
       "11663  Orden PRE/531/2010, de 26 de febrero, por la q...          ESP  España   \n",
       "11664  Orden PRE/556/2005, de 10 de marzo, por la que...          ESP  España   \n",
       "11665  Orden PRE/568/2009, de 5 de marzo, por la que ...          ESP  España   \n",
       "11666  Orden PRE/628/2011, de 22 de marzo, por la que...          ESP  España   \n",
       "11667  Orden PRE/629/2011, de 22 de marzo, por la que...          ESP  España   \n",
       "11668  Orden PRE/630/2011, de 23 de marzo, por la que...          ESP  España   \n",
       "11669  Orden PRE/631/2011, de 23 de marzo, por la que...          ESP  España   \n",
       "11670  Orden PRE/662/2013, de 22 de abril, por la que...          ESP  España   \n",
       "11671  Orden PRE/675/2013, de 22 de abril, por la que...          ESP  España   \n",
       "11672  Orden PRE/690/2005, de 18 de marzo, por la que...          ESP  España   \n",
       "11673  Orden PRE/696/2008, de 7 de marzo, por la que ...          ESP  España   \n",
       "11674  Orden PRE/730/2003, de 25 de marzo, por la que...          ESP  España   \n",
       "11675  Orden PRE/77/2008, de 17 de enero, por la que ...          ESP  España   \n",
       "11676  Orden PRE/772/2016, de 19 de mayo, por la que ...          ESP  España   \n",
       "11677  Orden PRE/777/2009, de 26 de marzo, por la que...          ESP  España   \n",
       "11678  Orden PRE/777/2011, de 4 de abril, por la que ...          ESP  España   \n",
       "11679  Orden PRE/839/2010, de 29 de marzo, por la que...          ESP  España   \n",
       "\n",
       "      Municipio                TiposNorma IdTiposNorma  \\\n",
       "11629       NaN               M. Ambiente          [1]   \n",
       "11630       NaN  M. Ambiente / Prevención       [1][2]   \n",
       "11631       NaN  M. Ambiente / Prevención       [1][2]   \n",
       "11632       NaN  M. Ambiente / Prevención       [1][2]   \n",
       "11633       NaN  M. Ambiente / Prevención       [1][2]   \n",
       "11634       NaN               M. Ambiente          [1]   \n",
       "11635       NaN  M. Ambiente / Prevención       [1][2]   \n",
       "11636       NaN  M. Ambiente / Prevención       [1][2]   \n",
       "11637       NaN  M. Ambiente / Prevención       [1][2]   \n",
       "11638       NaN  M. Ambiente / Prevención       [1][2]   \n",
       "11639       NaN  M. Ambiente / Prevención       [1][2]   \n",
       "11640       NaN  M. Ambiente / Prevención       [1][2]   \n",
       "11641       NaN  M. Ambiente / Prevención       [1][2]   \n",
       "11642       NaN  M. Ambiente / Prevención       [1][2]   \n",
       "11643       NaN           Reg. Industrial          [3]   \n",
       "11644       NaN  M. Ambiente / Prevención       [1][2]   \n",
       "11645       NaN  M. Ambiente / Prevención       [1][2]   \n",
       "11647       NaN               M. Ambiente          [1]   \n",
       "11648       NaN  M. Ambiente / Prevención       [1][2]   \n",
       "11649       NaN               M. Ambiente          [1]   \n",
       "11650       NaN               M. Ambiente          [1]   \n",
       "11651       NaN  M. Ambiente / Prevención       [1][2]   \n",
       "11652       NaN  M. Ambiente / Prevención       [1][2]   \n",
       "11653       NaN               M. Ambiente          [1]   \n",
       "11654       NaN  M. Ambiente / Prevención       [1][2]   \n",
       "11655       NaN  M. Ambiente / Prevención       [1][2]   \n",
       "11656       NaN  M. Ambiente / Prevención       [1][2]   \n",
       "11657       NaN           Reg. Industrial          [3]   \n",
       "11658       NaN  M. Ambiente / Prevención       [1][2]   \n",
       "11659       NaN               M. Ambiente          [1]   \n",
       "11660       NaN  M. Ambiente / Prevención       [1][2]   \n",
       "11661       NaN  M. Ambiente / Prevención       [1][2]   \n",
       "11662       NaN            Seguridad Vial          [5]   \n",
       "11663       NaN  M. Ambiente / Prevención       [1][2]   \n",
       "11664       NaN  M. Ambiente / Prevención       [1][2]   \n",
       "11665       NaN                Prevención          [2]   \n",
       "11666       NaN          Seg. Alimentaria          [7]   \n",
       "11667         -            Seguridad Vial          [5]   \n",
       "11668       NaN  M. Ambiente / Prevención       [1][2]   \n",
       "11669       NaN  M. Ambiente / Prevención       [1][2]   \n",
       "11670       NaN  M. Ambiente / Prevención       [1][2]   \n",
       "11671       NaN  M. Ambiente / Prevención       [1][2]   \n",
       "11672       NaN  M. Ambiente / Prevención       [1][2]   \n",
       "11673       NaN  M. Ambiente / Prevención       [1][2]   \n",
       "11674       NaN  M. Ambiente / Prevención       [1][2]   \n",
       "11675       NaN               M. Ambiente          [1]   \n",
       "11676       NaN               M. Ambiente          [1]   \n",
       "11677       NaN  M. Ambiente / Prevención       [1][2]   \n",
       "11678       NaN  M. Ambiente / Prevención       [1][2]   \n",
       "11679       NaN  M. Ambiente / Prevención       [1][2]   \n",
       "\n",
       "                                                    Tags  \n",
       "11629      [Orden PRE/2827/2009, Real Decreto 1370/2006]  \n",
       "11630      [Orden PRE/2843/2009, Real Decreto 2163/1994]  \n",
       "11631      [Orden PRE/2851/2010, Real Decreto 2163/1994]  \n",
       "11632      [Orden PRE/2871/2011, Real Decreto 2163/1994]  \n",
       "11633      [Orden PRE/2872/2011, Real Decreto 2163/1994]  \n",
       "11634         [Orden PRE/29/2004, Real Decreto 837/2002]  \n",
       "11635  [Orden PRE/2922/2005, Orden de 8 de marzo de 1...  \n",
       "11636      [Orden PRE/2957/2008, Real Decreto 2163/1994]  \n",
       "11637          [Orden PRE/3/2006, Real Decreto 255/2003]  \n",
       "11638      [Orden PRE/3159/2004, Real Decreto 1406/1989]  \n",
       "11639       [Orden PRE/321/2009, Real Decreto 1054/2002]  \n",
       "11640      [Orden PRE/3271/2011, Real Decreto 1054/2002]  \n",
       "11641      [Orden PRE/3290/2002, Real Decreto 2163/1994]  \n",
       "11642      [Orden PRE/3297/2004, Real Decreto 2163/1994]  \n",
       "11643      [Orden PRE/3298/2004, Real Decreto 2822/1998]  \n",
       "11644      [Orden PRE/3302/2006, Real Decreto 2163/1994]  \n",
       "11645      [Orden PRE/3338/2007, Real Decreto 2163/1994]  \n",
       "11647                              [Orden PRE/3420/2007]  \n",
       "11648      [Orden PRE/3476/2003, Real Decreto 2163/1994]  \n",
       "11649                              [Orden PRE/3539/2008]  \n",
       "11650       [Orden PRE/370/2012, Real Decreto 1383/2002]  \n",
       "11651       [Orden PRE/374/2008, Real Decreto 1406/1989]  \n",
       "11652       [Orden PRE/375/2003, Real Decreto 1406/1989]  \n",
       "11653                              [Orden PRE/3834/2005]  \n",
       "11654      [Orden PRE/3856/2005, Real Decreto 2163/1994]  \n",
       "11655      [Orden PRE/3929/2004, Real Decreto 2163/1994]  \n",
       "11656           [Orden PRE/402/2006, Orden PRE/690/2005]  \n",
       "11657                               [Orden PRE/402/2008]  \n",
       "11658       [Orden PRE/456/2007, Real Decreto 2163/1994]  \n",
       "11659                               [Orden PRE/468/2008]  \n",
       "11660                               [Orden PRE/473/2004]  \n",
       "11661       [Orden PRE/507/2008, Real Decreto 1054/2002]  \n",
       "11662        [Orden PRE/52/2010, Real Decreto 2822/1998]  \n",
       "11663       [Orden PRE/531/2010, Real Decreto 2163/1994]  \n",
       "11664  [Orden PRE/556/2005, Orden PRE/473/2004, Real ...  \n",
       "11665        [Orden PRE/568/2009, Real Decreto 258/1999]  \n",
       "11666        [Orden PRE/628/2011, Real Decreto 866/2008]  \n",
       "11667       [Orden PRE/629/2011, Real Decreto 2822/1998]  \n",
       "11668        [Orden PRE/630/2011, Real Decreto 824/2005]  \n",
       "11669       [Orden PRE/631/2011, Real Decreto 2163/1994]  \n",
       "11670       [Orden PRE/662/2013, Real Decreto 1054/2002]  \n",
       "11671       [Orden PRE/675/2013, Real Decreto 1054/2002]  \n",
       "11672                               [Orden PRE/690/2005]  \n",
       "11673       [Orden PRE/696/2008, Real Decreto 2163/1994]  \n",
       "11674       [Orden PRE/730/2003, Real Decreto 1406/1989]  \n",
       "11675                                [Orden PRE/77/2008]  \n",
       "11676        [Orden PRE/772/2016, Real Decreto 219/2013]  \n",
       "11677       [Orden PRE/777/2009, Real Decreto 2163/1994]  \n",
       "11678       [Orden PRE/777/2011, Real Decreto 1054/2002]  \n",
       "11679       [Orden PRE/839/2010, Real Decreto 2163/1994]  "
      ],
      "text/html": "<div>\n<style scoped>\n    .dataframe tbody tr th:only-of-type {\n        vertical-align: middle;\n    }\n\n    .dataframe tbody tr th {\n        vertical-align: top;\n    }\n\n    .dataframe thead th {\n        text-align: right;\n    }\n</style>\n<table border=\"1\" class=\"dataframe\">\n  <thead>\n    <tr style=\"text-align: right;\">\n      <th></th>\n      <th>Codigo</th>\n      <th>Numero</th>\n      <th>Titulo</th>\n      <th>CodigoAmbito</th>\n      <th>Ambito</th>\n      <th>Municipio</th>\n      <th>TiposNorma</th>\n      <th>IdTiposNorma</th>\n      <th>Tags</th>\n    </tr>\n  </thead>\n  <tbody>\n    <tr>\n      <th>11629</th>\n      <td>ORD PRE/2827/2009 ESP</td>\n      <td>2827</td>\n      <td>Orden PRE/2827/2009, de 19 de octubre, por la ...</td>\n      <td>ESP</td>\n      <td>España</td>\n      <td>NaN</td>\n      <td>M. Ambiente</td>\n      <td>[1]</td>\n      <td>[Orden PRE/2827/2009, Real Decreto 1370/2006]</td>\n    </tr>\n    <tr>\n      <th>11630</th>\n      <td>ORD PRE/2843/2009 ESP</td>\n      <td>2843</td>\n      <td>Orden PRE/2843/2009, de 19 de octubre, por la ...</td>\n      <td>ESP</td>\n      <td>España</td>\n      <td>NaN</td>\n      <td>M. Ambiente / Prevención</td>\n      <td>[1][2]</td>\n      <td>[Orden PRE/2843/2009, Real Decreto 2163/1994]</td>\n    </tr>\n    <tr>\n      <th>11631</th>\n      <td>ORD PRE/2851/2010 ESP</td>\n      <td>2851</td>\n      <td>Orden PRE/2851/2010, de 4 de noviembre, por la...</td>\n      <td>ESP</td>\n      <td>España</td>\n      <td>NaN</td>\n      <td>M. Ambiente / Prevención</td>\n      <td>[1][2]</td>\n      <td>[Orden PRE/2851/2010, Real Decreto 2163/1994]</td>\n    </tr>\n    <tr>\n      <th>11632</th>\n      <td>ORD PRE/2871/2011 ESP</td>\n      <td>2871</td>\n      <td>Orden PRE/2871/2011, de 25 de octubre, por la ...</td>\n      <td>ESP</td>\n      <td>España</td>\n      <td>NaN</td>\n      <td>M. Ambiente / Prevención</td>\n      <td>[1][2]</td>\n      <td>[Orden PRE/2871/2011, Real Decreto 2163/1994]</td>\n    </tr>\n    <tr>\n      <th>11633</th>\n      <td>ORD PRE/2872/2011 ESP</td>\n      <td>2872</td>\n      <td>Orden PRE/2872/2011, de 25 de octubre, por la ...</td>\n      <td>ESP</td>\n      <td>España</td>\n      <td>NaN</td>\n      <td>M. Ambiente / Prevención</td>\n      <td>[1][2]</td>\n      <td>[Orden PRE/2872/2011, Real Decreto 2163/1994]</td>\n    </tr>\n    <tr>\n      <th>11634</th>\n      <td>ORD PRE/29/2004 ESP</td>\n      <td>29</td>\n      <td>Orden PRE/29/2004, de 15 de enero, por la que ...</td>\n      <td>ESP</td>\n      <td>España</td>\n      <td>NaN</td>\n      <td>M. Ambiente</td>\n      <td>[1]</td>\n      <td>[Orden PRE/29/2004, Real Decreto 837/2002]</td>\n    </tr>\n    <tr>\n      <th>11635</th>\n      <td>ORD PRE/2922/2005 ESP</td>\n      <td>2922</td>\n      <td>Orden PRE/2922/2005, de 19 de septiembre, por ...</td>\n      <td>ESP</td>\n      <td>España</td>\n      <td>NaN</td>\n      <td>M. Ambiente / Prevención</td>\n      <td>[1][2]</td>\n      <td>[Orden PRE/2922/2005, Orden de 8 de marzo de 1...</td>\n    </tr>\n    <tr>\n      <th>11636</th>\n      <td>ORD PRE/2957/2008 ESP</td>\n      <td>2957</td>\n      <td>Orden PRE/2957/2008, de 10 de octubre, por la ...</td>\n      <td>ESP</td>\n      <td>España</td>\n      <td>NaN</td>\n      <td>M. Ambiente / Prevención</td>\n      <td>[1][2]</td>\n      <td>[Orden PRE/2957/2008, Real Decreto 2163/1994]</td>\n    </tr>\n    <tr>\n      <th>11637</th>\n      <td>ORD PRE/3/2006 ESP</td>\n      <td>3</td>\n      <td>Orden PRE/3/2006, de 12 de enero, por la que s...</td>\n      <td>ESP</td>\n      <td>España</td>\n      <td>NaN</td>\n      <td>M. Ambiente / Prevención</td>\n      <td>[1][2]</td>\n      <td>[Orden PRE/3/2006, Real Decreto 255/2003]</td>\n    </tr>\n    <tr>\n      <th>11638</th>\n      <td>ORD PRE/3159/2004 ESP</td>\n      <td>3159</td>\n      <td>Orden PRE/3159/2004, de 28 de septiembre, por ...</td>\n      <td>ESP</td>\n      <td>España</td>\n      <td>NaN</td>\n      <td>M. Ambiente / Prevención</td>\n      <td>[1][2]</td>\n      <td>[Orden PRE/3159/2004, Real Decreto 1406/1989]</td>\n    </tr>\n    <tr>\n      <th>11639</th>\n      <td>ORD PRE/321/2009 ESP</td>\n      <td>321</td>\n      <td>Orden PRE/321/2009, de 13 de febrero, por la q...</td>\n      <td>ESP</td>\n      <td>España</td>\n      <td>NaN</td>\n      <td>M. Ambiente / Prevención</td>\n      <td>[1][2]</td>\n      <td>[Orden PRE/321/2009, Real Decreto 1054/2002]</td>\n    </tr>\n    <tr>\n      <th>11640</th>\n      <td>ORD PRE/3271/2011 ESP</td>\n      <td>3271</td>\n      <td>Orden PRE/3271/2011, de 25 de noviembre, por l...</td>\n      <td>ESP</td>\n      <td>España</td>\n      <td>NaN</td>\n      <td>M. Ambiente / Prevención</td>\n      <td>[1][2]</td>\n      <td>[Orden PRE/3271/2011, Real Decreto 1054/2002]</td>\n    </tr>\n    <tr>\n      <th>11641</th>\n      <td>ORD PRE/3290/2002 ESP</td>\n      <td>3290</td>\n      <td>Orden PRE/3290/2002, de 23 de diciembre, por l...</td>\n      <td>ESP</td>\n      <td>España</td>\n      <td>NaN</td>\n      <td>M. Ambiente / Prevención</td>\n      <td>[1][2]</td>\n      <td>[Orden PRE/3290/2002, Real Decreto 2163/1994]</td>\n    </tr>\n    <tr>\n      <th>11642</th>\n      <td>ORD PRE/3297/2004 ESP</td>\n      <td>3297</td>\n      <td>Orden PRE/3297/2004, de 13 de octubre, por la ...</td>\n      <td>ESP</td>\n      <td>España</td>\n      <td>NaN</td>\n      <td>M. Ambiente / Prevención</td>\n      <td>[1][2]</td>\n      <td>[Orden PRE/3297/2004, Real Decreto 2163/1994]</td>\n    </tr>\n    <tr>\n      <th>11643</th>\n      <td>ORD PRE/3298/2004 ESP</td>\n      <td>3298</td>\n      <td>Orden PRE/3298/2004, de 13 de octubre, por la ...</td>\n      <td>ESP</td>\n      <td>España</td>\n      <td>NaN</td>\n      <td>Reg. Industrial</td>\n      <td>[3]</td>\n      <td>[Orden PRE/3298/2004, Real Decreto 2822/1998]</td>\n    </tr>\n    <tr>\n      <th>11644</th>\n      <td>ORD PRE/3302/2006 ESP</td>\n      <td>3302</td>\n      <td>Orden PRE/3302/2006, de 27 de octubre, por la ...</td>\n      <td>ESP</td>\n      <td>España</td>\n      <td>NaN</td>\n      <td>M. Ambiente / Prevención</td>\n      <td>[1][2]</td>\n      <td>[Orden PRE/3302/2006, Real Decreto 2163/1994]</td>\n    </tr>\n    <tr>\n      <th>11645</th>\n      <td>ORD PRE/3338/2007 ESP</td>\n      <td>3338</td>\n      <td>Orden PRE/3338/2007, de 15 de noviembre, por l...</td>\n      <td>ESP</td>\n      <td>España</td>\n      <td>NaN</td>\n      <td>M. Ambiente / Prevención</td>\n      <td>[1][2]</td>\n      <td>[Orden PRE/3338/2007, Real Decreto 2163/1994]</td>\n    </tr>\n    <tr>\n      <th>11647</th>\n      <td>ORD PRE/3420/2007 ESP</td>\n      <td>3420</td>\n      <td>Orden PRE/3420/2007, de 14 de noviembre, por l...</td>\n      <td>ESP</td>\n      <td>España</td>\n      <td>NaN</td>\n      <td>M. Ambiente</td>\n      <td>[1]</td>\n      <td>[Orden PRE/3420/2007]</td>\n    </tr>\n    <tr>\n      <th>11648</th>\n      <td>ORD PRE/3476/2003 ESP</td>\n      <td>3476</td>\n      <td>Orden PRE/3476/2003, de 9 de diciembre, por la...</td>\n      <td>ESP</td>\n      <td>España</td>\n      <td>NaN</td>\n      <td>M. Ambiente / Prevención</td>\n      <td>[1][2]</td>\n      <td>[Orden PRE/3476/2003, Real Decreto 2163/1994]</td>\n    </tr>\n    <tr>\n      <th>11649</th>\n      <td>ORD PRE/3539/2008 ESP</td>\n      <td>3539</td>\n      <td>Orden PRE/3539/2008, de 28 de noviembre, por l...</td>\n      <td>ESP</td>\n      <td>España</td>\n      <td>NaN</td>\n      <td>M. Ambiente</td>\n      <td>[1]</td>\n      <td>[Orden PRE/3539/2008]</td>\n    </tr>\n    <tr>\n      <th>11650</th>\n      <td>ORD PRE/370/2012 ESP</td>\n      <td>370</td>\n      <td>Orden PRE/370/2012, de 27 de febrero, por la q...</td>\n      <td>ESP</td>\n      <td>España</td>\n      <td>NaN</td>\n      <td>M. Ambiente</td>\n      <td>[1]</td>\n      <td>[Orden PRE/370/2012, Real Decreto 1383/2002]</td>\n    </tr>\n    <tr>\n      <th>11651</th>\n      <td>ORD PRE/374/2008 ESP</td>\n      <td>374</td>\n      <td>Orden PRE/374/2008, de 31 de enero, por la que...</td>\n      <td>ESP</td>\n      <td>España</td>\n      <td>NaN</td>\n      <td>M. Ambiente / Prevención</td>\n      <td>[1][2]</td>\n      <td>[Orden PRE/374/2008, Real Decreto 1406/1989]</td>\n    </tr>\n    <tr>\n      <th>11652</th>\n      <td>ORD PRE/375/2003 ESP</td>\n      <td>375</td>\n      <td>Orden PRE/375/2003, de 24 de febrero, por la q...</td>\n      <td>ESP</td>\n      <td>España</td>\n      <td>NaN</td>\n      <td>M. Ambiente / Prevención</td>\n      <td>[1][2]</td>\n      <td>[Orden PRE/375/2003, Real Decreto 1406/1989]</td>\n    </tr>\n    <tr>\n      <th>11653</th>\n      <td>ORD PRE/3834/2005 ESP</td>\n      <td>3834</td>\n      <td>Orden PRE/3834/2005, de 9 de diciembre, por la...</td>\n      <td>ESP</td>\n      <td>España</td>\n      <td>NaN</td>\n      <td>M. Ambiente</td>\n      <td>[1]</td>\n      <td>[Orden PRE/3834/2005]</td>\n    </tr>\n    <tr>\n      <th>11654</th>\n      <td>ORD PRE/3856/2005 ESP</td>\n      <td>3856</td>\n      <td>Orden PRE/3856/2005, de 12 de diciembre, por l...</td>\n      <td>ESP</td>\n      <td>España</td>\n      <td>NaN</td>\n      <td>M. Ambiente / Prevención</td>\n      <td>[1][2]</td>\n      <td>[Orden PRE/3856/2005, Real Decreto 2163/1994]</td>\n    </tr>\n    <tr>\n      <th>11655</th>\n      <td>ORD PRE/3929/2004 ESP</td>\n      <td>3929</td>\n      <td>Orden PRE/3929/2004, de 30 de noviembre, por l...</td>\n      <td>ESP</td>\n      <td>España</td>\n      <td>NaN</td>\n      <td>M. Ambiente / Prevención</td>\n      <td>[1][2]</td>\n      <td>[Orden PRE/3929/2004, Real Decreto 2163/1994]</td>\n    </tr>\n    <tr>\n      <th>11656</th>\n      <td>ORD PRE/402/2006 ESP</td>\n      <td>402</td>\n      <td>Orden PRE/402/2006, de 16 de febrero, por la q...</td>\n      <td>ESP</td>\n      <td>España</td>\n      <td>NaN</td>\n      <td>M. Ambiente / Prevención</td>\n      <td>[1][2]</td>\n      <td>[Orden PRE/402/2006, Orden PRE/690/2005]</td>\n    </tr>\n    <tr>\n      <th>11657</th>\n      <td>ORD PRE/402/2008 CAT</td>\n      <td>402</td>\n      <td>Orden PRE/402/2008, de 28 de agosto, por la qu...</td>\n      <td>ESP</td>\n      <td>España</td>\n      <td>NaN</td>\n      <td>Reg. Industrial</td>\n      <td>[3]</td>\n      <td>[Orden PRE/402/2008]</td>\n    </tr>\n    <tr>\n      <th>11658</th>\n      <td>ORD PRE/456/2007 ESP</td>\n      <td>456</td>\n      <td>Orden PRE/456/2007, de 28 de febrero, por la q...</td>\n      <td>ESP</td>\n      <td>España</td>\n      <td>NaN</td>\n      <td>M. Ambiente / Prevención</td>\n      <td>[1][2]</td>\n      <td>[Orden PRE/456/2007, Real Decreto 2163/1994]</td>\n    </tr>\n    <tr>\n      <th>11659</th>\n      <td>ORD PRE/468/2008 ESP</td>\n      <td>468</td>\n      <td>Orden PRE/468/2008, de 15 de febrero, por la q...</td>\n      <td>ESP</td>\n      <td>España</td>\n      <td>NaN</td>\n      <td>M. Ambiente</td>\n      <td>[1]</td>\n      <td>[Orden PRE/468/2008]</td>\n    </tr>\n    <tr>\n      <th>11660</th>\n      <td>ORD PRE/473/2004 ESP</td>\n      <td>473</td>\n      <td>Orden PRE/473/2004, de 25 de febrero, por la q...</td>\n      <td>ESP</td>\n      <td>España</td>\n      <td>NaN</td>\n      <td>M. Ambiente / Prevención</td>\n      <td>[1][2]</td>\n      <td>[Orden PRE/473/2004]</td>\n    </tr>\n    <tr>\n      <th>11661</th>\n      <td>ORD PRE/507/2008 ESP</td>\n      <td>507</td>\n      <td>Orden PRE/507/2008, de 26 de febrero, por la q...</td>\n      <td>ESP</td>\n      <td>España</td>\n      <td>NaN</td>\n      <td>M. Ambiente / Prevención</td>\n      <td>[1][2]</td>\n      <td>[Orden PRE/507/2008, Real Decreto 1054/2002]</td>\n    </tr>\n    <tr>\n      <th>11662</th>\n      <td>ORD PRE/52/2010 ESP</td>\n      <td>23/1/2010</td>\n      <td>Orden PRE/52/2010, de 21 de enero, por la que ...</td>\n      <td>ESP</td>\n      <td>España</td>\n      <td>NaN</td>\n      <td>Seguridad Vial</td>\n      <td>[5]</td>\n      <td>[Orden PRE/52/2010, Real Decreto 2822/1998]</td>\n    </tr>\n    <tr>\n      <th>11663</th>\n      <td>ORD PRE/531/2010 ESP</td>\n      <td>531</td>\n      <td>Orden PRE/531/2010, de 26 de febrero, por la q...</td>\n      <td>ESP</td>\n      <td>España</td>\n      <td>NaN</td>\n      <td>M. Ambiente / Prevención</td>\n      <td>[1][2]</td>\n      <td>[Orden PRE/531/2010, Real Decreto 2163/1994]</td>\n    </tr>\n    <tr>\n      <th>11664</th>\n      <td>ORD PRE/556/2005 ESP</td>\n      <td>556</td>\n      <td>Orden PRE/556/2005, de 10 de marzo, por la que...</td>\n      <td>ESP</td>\n      <td>España</td>\n      <td>NaN</td>\n      <td>M. Ambiente / Prevención</td>\n      <td>[1][2]</td>\n      <td>[Orden PRE/556/2005, Orden PRE/473/2004, Real ...</td>\n    </tr>\n    <tr>\n      <th>11665</th>\n      <td>ORD PRE/568/2009 ESP</td>\n      <td>568</td>\n      <td>Orden PRE/568/2009, de 5 de marzo, por la que ...</td>\n      <td>ESP</td>\n      <td>España</td>\n      <td>NaN</td>\n      <td>Prevención</td>\n      <td>[2]</td>\n      <td>[Orden PRE/568/2009, Real Decreto 258/1999]</td>\n    </tr>\n    <tr>\n      <th>11666</th>\n      <td>ORD PRE/628/2011 ESP</td>\n      <td>628</td>\n      <td>Orden PRE/628/2011, de 22 de marzo, por la que...</td>\n      <td>ESP</td>\n      <td>España</td>\n      <td>NaN</td>\n      <td>Seg. Alimentaria</td>\n      <td>[7]</td>\n      <td>[Orden PRE/628/2011, Real Decreto 866/2008]</td>\n    </tr>\n    <tr>\n      <th>11667</th>\n      <td>ORD PRE/629/2011 ESP</td>\n      <td>629</td>\n      <td>Orden PRE/629/2011, de 22 de marzo, por la que...</td>\n      <td>ESP</td>\n      <td>España</td>\n      <td>-</td>\n      <td>Seguridad Vial</td>\n      <td>[5]</td>\n      <td>[Orden PRE/629/2011, Real Decreto 2822/1998]</td>\n    </tr>\n    <tr>\n      <th>11668</th>\n      <td>ORD PRE/630/2011 ESP</td>\n      <td>630</td>\n      <td>Orden PRE/630/2011, de 23 de marzo, por la que...</td>\n      <td>ESP</td>\n      <td>España</td>\n      <td>NaN</td>\n      <td>M. Ambiente / Prevención</td>\n      <td>[1][2]</td>\n      <td>[Orden PRE/630/2011, Real Decreto 824/2005]</td>\n    </tr>\n    <tr>\n      <th>11669</th>\n      <td>ORD PRE/631/2011 ESP</td>\n      <td>631</td>\n      <td>Orden PRE/631/2011, de 23 de marzo, por la que...</td>\n      <td>ESP</td>\n      <td>España</td>\n      <td>NaN</td>\n      <td>M. Ambiente / Prevención</td>\n      <td>[1][2]</td>\n      <td>[Orden PRE/631/2011, Real Decreto 2163/1994]</td>\n    </tr>\n    <tr>\n      <th>11670</th>\n      <td>ORD PRE/662/2013 ESP</td>\n      <td>662</td>\n      <td>Orden PRE/662/2013, de 22 de abril, por la que...</td>\n      <td>ESP</td>\n      <td>España</td>\n      <td>NaN</td>\n      <td>M. Ambiente / Prevención</td>\n      <td>[1][2]</td>\n      <td>[Orden PRE/662/2013, Real Decreto 1054/2002]</td>\n    </tr>\n    <tr>\n      <th>11671</th>\n      <td>ORD PRE/675/2013 ESP</td>\n      <td>675</td>\n      <td>Orden PRE/675/2013, de 22 de abril, por la que...</td>\n      <td>ESP</td>\n      <td>España</td>\n      <td>NaN</td>\n      <td>M. Ambiente / Prevención</td>\n      <td>[1][2]</td>\n      <td>[Orden PRE/675/2013, Real Decreto 1054/2002]</td>\n    </tr>\n    <tr>\n      <th>11672</th>\n      <td>ORD PRE/690/2005 ESP</td>\n      <td>690</td>\n      <td>Orden PRE/690/2005, de 18 de marzo, por la que...</td>\n      <td>ESP</td>\n      <td>España</td>\n      <td>NaN</td>\n      <td>M. Ambiente / Prevención</td>\n      <td>[1][2]</td>\n      <td>[Orden PRE/690/2005]</td>\n    </tr>\n    <tr>\n      <th>11673</th>\n      <td>ORD PRE/696/2008 ESP</td>\n      <td>696</td>\n      <td>Orden PRE/696/2008, de 7 de marzo, por la que ...</td>\n      <td>ESP</td>\n      <td>España</td>\n      <td>NaN</td>\n      <td>M. Ambiente / Prevención</td>\n      <td>[1][2]</td>\n      <td>[Orden PRE/696/2008, Real Decreto 2163/1994]</td>\n    </tr>\n    <tr>\n      <th>11674</th>\n      <td>ORD PRE/730/2003 ESP</td>\n      <td>730</td>\n      <td>Orden PRE/730/2003, de 25 de marzo, por la que...</td>\n      <td>ESP</td>\n      <td>España</td>\n      <td>NaN</td>\n      <td>M. Ambiente / Prevención</td>\n      <td>[1][2]</td>\n      <td>[Orden PRE/730/2003, Real Decreto 1406/1989]</td>\n    </tr>\n    <tr>\n      <th>11675</th>\n      <td>ORD PRE/77/2008 ESP</td>\n      <td>77</td>\n      <td>Orden PRE/77/2008, de 17 de enero, por la que ...</td>\n      <td>ESP</td>\n      <td>España</td>\n      <td>NaN</td>\n      <td>M. Ambiente</td>\n      <td>[1]</td>\n      <td>[Orden PRE/77/2008]</td>\n    </tr>\n    <tr>\n      <th>11676</th>\n      <td>ORD PRE/772/2016 ESP</td>\n      <td>772</td>\n      <td>Orden PRE/772/2016, de 19 de mayo, por la que ...</td>\n      <td>ESP</td>\n      <td>España</td>\n      <td>NaN</td>\n      <td>M. Ambiente</td>\n      <td>[1]</td>\n      <td>[Orden PRE/772/2016, Real Decreto 219/2013]</td>\n    </tr>\n    <tr>\n      <th>11677</th>\n      <td>ORD PRE/777/2009 ESP</td>\n      <td>777</td>\n      <td>Orden PRE/777/2009, de 26 de marzo, por la que...</td>\n      <td>ESP</td>\n      <td>España</td>\n      <td>NaN</td>\n      <td>M. Ambiente / Prevención</td>\n      <td>[1][2]</td>\n      <td>[Orden PRE/777/2009, Real Decreto 2163/1994]</td>\n    </tr>\n    <tr>\n      <th>11678</th>\n      <td>ORD PRE/777/2011 ESP</td>\n      <td>777</td>\n      <td>Orden PRE/777/2011, de 4 de abril, por la que ...</td>\n      <td>ESP</td>\n      <td>España</td>\n      <td>NaN</td>\n      <td>M. Ambiente / Prevención</td>\n      <td>[1][2]</td>\n      <td>[Orden PRE/777/2011, Real Decreto 1054/2002]</td>\n    </tr>\n    <tr>\n      <th>11679</th>\n      <td>ORD PRE/839/2010 ESP</td>\n      <td>839</td>\n      <td>Orden PRE/839/2010, de 29 de marzo, por la que...</td>\n      <td>ESP</td>\n      <td>España</td>\n      <td>NaN</td>\n      <td>M. Ambiente / Prevención</td>\n      <td>[1][2]</td>\n      <td>[Orden PRE/839/2010, Real Decreto 2163/1994]</td>\n    </tr>\n  </tbody>\n</table>\n</div>"
     },
     "metadata": {},
     "execution_count": 1750
    }
   ],
   "source": [
    "ASECORP_BBDD_BOE[1200:1250]"
   ]
  },
  {
   "cell_type": "code",
   "execution_count": 1751,
   "metadata": {},
   "outputs": [],
   "source": [
    "# titulo"
   ]
  },
  {
   "cell_type": "code",
   "execution_count": 1752,
   "metadata": {},
   "outputs": [
    {
     "output_type": "execute_result",
     "data": {
      "text/plain": [
       "2959"
      ]
     },
     "metadata": {},
     "execution_count": 1752
    }
   ],
   "source": [
    "len(titulo)"
   ]
  },
  {
   "cell_type": "code",
   "execution_count": 1753,
   "metadata": {},
   "outputs": [],
   "source": [
    "## Busca patrones regex definidos en columna títulos del DF \n",
    "boletin = []\n",
    "for i, row in ASECORP_BBDD_BOE.iterrows():\n",
    "    boletin.append(str(re.findall('|'.join(pattern), row['Titulo'], flags=re.IGNORECASE)))"
   ]
  },
  {
   "cell_type": "code",
   "execution_count": 1754,
   "metadata": {},
   "outputs": [
    {
     "output_type": "execute_result",
     "data": {
      "text/plain": [
       "['[]',\n",
       " '[]',\n",
       " '[]',\n",
       " '[]',\n",
       " '[]',\n",
       " '[]',\n",
       " '[]',\n",
       " '[]',\n",
       " '[]',\n",
       " '[]',\n",
       " '[]',\n",
       " '[]',\n",
       " '[]',\n",
       " '[]',\n",
       " '[]',\n",
       " \"['Acuerdo Multilateral M-150']\",\n",
       " \"['Acuerdo Multilateral M-159']\",\n",
       " \"['Acuerdo multilateral M-168']\",\n",
       " \"['Acuerdo Multilateral M-170']\",\n",
       " \"['Acuerdo Multilateral M-171']\",\n",
       " \"['Acuerdo Multilateral M-173']\",\n",
       " \"['Acuerdo Multilateral M-175']\",\n",
       " '[]',\n",
       " \"['Acuerdo Multilateral M-178']\",\n",
       " \"['Acuerdo Multilateral M-198']\"]"
      ]
     },
     "metadata": {},
     "execution_count": 1754
    }
   ],
   "source": [
    "boletin[0:25]"
   ]
  },
  {
   "cell_type": "code",
   "execution_count": 1755,
   "metadata": {},
   "outputs": [],
   "source": [
    "## Para cada fila de la BBDD recoge la expresión REGEX encontrada y si no existe no la incluye \n",
    "## en la lista resultante llamada 'boletin'. Además si no detecta expresión la cuenta como vacía\n",
    "## en variable 'n_vacios', y la añade a la lista 'vacios' para inspeccionar posteriormente \n",
    "boletin = []\n",
    "vacios = []\n",
    "n_vacios = 0\n",
    "for i, row in ASECORP_BBDD_BOE.iterrows():\n",
    "    regex_result = re.findall('|'.join(pattern), row['Titulo'], flags=re.IGNORECASE)\n",
    "    if len(regex_result) != 0:\n",
    "        boletin.append(re.findall('|'.join(pattern), row['Titulo'], flags=re.IGNORECASE))\n",
    "    else:\n",
    "        n_vacios += 1\n",
    "        vacios.append(row['Titulo'])"
   ]
  },
  {
   "cell_type": "code",
   "execution_count": 1756,
   "metadata": {},
   "outputs": [
    {
     "output_type": "execute_result",
     "data": {
      "text/plain": [
       "276"
      ]
     },
     "metadata": {},
     "execution_count": 1756
    }
   ],
   "source": [
    "n_vacios"
   ]
  },
  {
   "cell_type": "code",
   "execution_count": 1757,
   "metadata": {},
   "outputs": [
    {
     "output_type": "execute_result",
     "data": {
      "text/plain": [
       "['Acuerdo Multilateral RID 1/2020 en virtud de la Sección 1.5.1 del Reglamento del Transporte Internacional de Mercancías Peligrosas por Ferrocarril (RID), relativo a los certificados de consejeros de seguridad de conformidad con el punto 1.8.3.7 del RID, hecho en Madrid el 25 de marzo de 2020',\n",
       " 'Entrada en vigor del Acuerdo entre el Reino de España y el Principado de Andorra sobre traslado y gestión de residuos, hecho en Madrid el 17 de octubre de 2006.',\n",
       " 'Aplicación provisional del Acuerdo entre el Reino de España y el Principado de Andorra sobre traslado y gestión de residuos, hecho en Madrid el 17 de octubre de 2006.',\n",
       " 'Acuerdo de la Junta de Gobierno de la Confederación Hidrográfica del Segura celebrada el día 30 de octubre de 2018 sobre aplicación de indisponibilidad o reducción de dotaciones de acuerdo al Plan Especial de Sequía y al Real Decreto que la regula',\n",
       " 'Acuerdo Multilateral RID 2/2020 en virtud de la Sección 1.5.1 del Reglamento del Transporte Internacional de Mercancías Peligrosas por Ferrocarril (RID), relativo a inspecciones periódicas o intermedias de cisternas de conformidad con los apartados 6.8.2.4.2, 6.8.2.4.3, 6.8.3.4.6, 6.8.3.4.12, 6.9.5.2 y 6.10.4 del RID, hecho en Madrid el 25 de marzo de 2020',\n",
       " 'Entrada en vigor del Acuerdo entre el Reino de España y el Principado de Andorra sobre el traslado de residuos, hecho en Madrid el 29 de noviembre de 2011.',\n",
       " 'Acuerdo Multilateral RID 1/2013 en aplicación de la Sección 1.5.1 del Reglamento del Transporte Internacional de Mercancías Peligrosas por Ferrocarril (RID), relativo al cambio de referencia a la norma EN ISO/IEC 17020:2004 por la referencia a la norma EN ISO/IEC 17020:2012 (excepto cláusula 8.1.3), hecho en Madrid el 26 de junio de 2013.',\n",
       " 'Canje de Notas por el que se procede a la prórroga del mantenimiento en vigor del Acuerdo entre el Reino de España y el Principado de Andorra sobre traslado y gestión de residuos, hecho en Madrid el 27 de enero de 2000.',\n",
       " 'Aplicación provisional del Acuerdo entre el Reino de España y el Principado de Andorra sobre el traslado de residuos, hecho en Madrid el 29 de noviembre de 2011.',\n",
       " 'Plan de Acción de Ahorro y Eficiencia Energética  2011-2020, del 29 de julio de 2011 (IDAE)',\n",
       " 'Acuerdo Especial Multilateral RID 3/2020 en virtud de la Sección 1.5.1 del Reglamento del Transporte Internacional de Mercancías Peligrosas por Ferrocarril (RID), relativo a la inspección periódica y ensayo de recipientes a presión para el transporte de gases de la Clase 2, hecho en Madrid el 2 de abril de 2020',\n",
       " 'Acuerdo Multilateral RID 3/2007 en virtud de la Sección 1.5.1. del Reglamento del Transporte Internacional de Mercancías Peligrosas por Ferrocarril (RID), (publicado en el «Boletín Oficial del Estado» nº 59 de 9 de marzo de 2007) relativo al transporte de acuerdo con la disposición especial de embalaje PP1 de la instrucción de embalaje P001, hecho en Madrid el 30 de abril de 2008.',\n",
       " 'Acuerdo Multilateral RID 4/2009 en virtud de la Sección 1.5.1. del Reglamento del Transporte Internacional de Mercancías Peligrosas por Ferrocarril (RID), (publicado en el «Boletín Oficial del Estado» n.º 59 de 9 de marzo de 2007) relativo a las placas naranja para fijarse al vagón transportista usado para el transporte carretera-ferrocarril (ferroutage), hecho en Madrid a 14 de junio de 2010.',\n",
       " 'Acuerdo Especial Multilateral RID 4/2020 en virtud de la Sección 1.5.1 del Reglamento del Transporte Internacional de Mercancías Peligrosas por Ferrocarril (RID), sobre inspecciones periódicas o intermedias de cisternas portátiles y contenedores de gas de elementos múltiples (CGEM) certificados «UN» de acuerdo con los apartados 6.7.2.19.2, 6.7.3.15.2, 6.7.4.14.2 y 6.7.5.12.2 del RID, hecho en Madrid el 2 de abril de 2020',\n",
       " 'Acuerdo Especial Multilateral RID 8.2020 en virtud de la sección 1.5.1 del RID, relativo a la inspección periódica y ensayo de recipientes a presión para el transporte de gases de la Clase 2, hecho en Madrid el 1 de diciembre de 2020',\n",
       " 'Acuerdo multilateral ADR M-177 en virtud de la sección 1.5.1 del Acuerdo Europeo sobre transporte internacional de mercancías peligrosas por carretera (ADR), publicado en el «Boletín Oficial del Estado» n.º 18, de 21 de enero de 2005, relativo al documento de transporte en operaciones de venta en ruta, hecho en Madrid el 23 de junio de 2006.',\n",
       " 'Acuerdo Multilateral M 269 en aplicación de la sección 1.5.1 del Acuerdo Europeo sobre transporte internacional de mercancías peligrosas por carretera (ADR), relativo al marcado de los números UN en botellas para gases licuados del petróleo (GLP), hecho en Madrid el 20 de diciembre de 2013.',\n",
       " 'Acuerdo  Multilateral  M  300  en  aplicación  de  la  sección  1.5.1  del  Acuerdo Europeo sobre transporte internacional de mercancías peligrosas por carretera (ADR), relativo al documento de transporte en operaciones de venta en ruta, hecho en Madrid el 11 de julio de 2016',\n",
       " 'Acuerdo Multilateral M 304 en aplicación de la sección 1.5.1 del AcuerdoEuropeo sobre transporte internacional de mercancías peligrosas por carretera(ADR), relativo al número de remolques en una unidad de transporte demercancías peligrosas, hecho en Madrid el 30 de enero de 2017',\n",
       " 'Acuerdo Multilateral M 311 en virtud de la sección 1.5.1 del Anexo A del Acuerdo Europeo sobre transporte internacional de mercancías peligrosas por carretera (ADR), relativo al marcado (placas etiqueta) de contenedores usados exclusivamente en una operación de transporte por carretera, hecho en Madrid el 22 de marzo de 2018',\n",
       " 'Acuerdo Multilateral M315 en virtud de la sección 1.5.1 del Anexo A del Acuerdo Europeo sobre transporte internacional de mercancías peligrosas por carretera (ADR), relativo al transporte de desechos contaminados con virus que causan fiebre hemorrágica, hecho en Madrid el 8 de julio de 2019',\n",
       " 'Acuerdo Multilateral M317 en virtud de la sección 1.5. del Acuerdo europeo sobre transporte internacional de mercancías peligrosas por carretera (ADR), relativo al transporte de desechos médicos sólidos o clínicos, Categoría A, hecho en Madrid el 23 de marzo de 2020',\n",
       " 'Acuerdo Multilateral M324 en virtud de la sección 1.5.1 del Acuerdo europeo sobre transporte internacional de mercancías peligrosas por carretera (ADR) relativo a los certificados de formación de los conductores de conformidad con el punto 8.2.2.8.2 del ADR y los certificados de consejeros de seguridad de conformidad con el punto 1.8.3.7 del ADR, hecho en Madrid el 23 de marzo de 2020',\n",
       " 'Acuerdo Multilateral M325 en virtud de la sección 1.5.1 del Acuerdo europeo sobre transporte internacional de mercancías peligrosas por carretera (ADR), relativo a inspecciones periódicas o intermedias de cisternas de conformidad con los apartados 6.8.2.4.2, 6.8.2.4.3, 6.8.3.4.6, 6.8.3.4.12, 6.9.5.2 y 6.10.4 del ADR, y los certificados de aprobación para vehículos de conformidad con el apartado 9.1.3.4 del ADR, hecho en Madrid el 23 de marzo de 2020',\n",
       " 'Acuerdo Multilateral M326 en virtud de la sección 1.5.1 del Acuerdo europeo sobre transporte internacional de mercancías peligrosas por carretera (ADR), relativo a la inspección periódica y ensayo de recipientes a presión del transporte de gases de la Clase 2, hecho en Madrid el 2 de abril de 2020']"
      ]
     },
     "metadata": {},
     "execution_count": 1757
    }
   ],
   "source": [
    "vacios[0:25]"
   ]
  },
  {
   "cell_type": "code",
   "execution_count": 1758,
   "metadata": {},
   "outputs": [
    {
     "output_type": "execute_result",
     "data": {
      "text/plain": [
       "[['Acuerdo Multilateral M-150'],\n",
       " ['Acuerdo Multilateral M-159'],\n",
       " ['Acuerdo multilateral M-168'],\n",
       " ['Acuerdo Multilateral M-170'],\n",
       " ['Acuerdo Multilateral M-171'],\n",
       " ['Acuerdo Multilateral M-173'],\n",
       " ['Acuerdo Multilateral M-175'],\n",
       " ['Acuerdo Multilateral M-178'],\n",
       " ['Acuerdo Multilateral M-198'],\n",
       " ['Acuerdo Multilateral M-214'],\n",
       " ['Acuerdo Multilateral M-218'],\n",
       " ['Acuerdo Multilateral M-226'],\n",
       " ['Acuerdo Multilateral M-228'],\n",
       " ['Acuerdo Multilateral M-231'],\n",
       " ['Acuerdo Multilateral M-236'],\n",
       " ['Acuerdo Multilateral M-245'],\n",
       " ['Acuerdo Multilateral M-254'],\n",
       " ['Acuerdo Multilateral M-259'],\n",
       " ['Acuerdo Multilateral M-265'],\n",
       " ['Acuerdo Multilateral M-268'],\n",
       " ['Acuerdo Multilateral M-271'],\n",
       " ['Acuerdo Multilateral M-273'],\n",
       " ['Acuerdo Multilateral M-276'],\n",
       " ['Acuerdo Multilateral M-291'],\n",
       " ['Acuerdo Multilateral M-292']]"
      ]
     },
     "metadata": {},
     "execution_count": 1758
    }
   ],
   "source": [
    "boletin[0:25]"
   ]
  },
  {
   "cell_type": "code",
   "execution_count": 1759,
   "metadata": {},
   "outputs": [],
   "source": [
    "# Flatten list of lists\n",
    "boletin_ASECORP_flat_list = [item for sublist in boletin for item in sublist]"
   ]
  },
  {
   "cell_type": "code",
   "execution_count": 1760,
   "metadata": {},
   "outputs": [
    {
     "output_type": "execute_result",
     "data": {
      "text/plain": [
       "['Acuerdo Multilateral M-150',\n",
       " 'Acuerdo Multilateral M-159',\n",
       " 'Acuerdo multilateral M-168',\n",
       " 'Acuerdo Multilateral M-170',\n",
       " 'Acuerdo Multilateral M-171',\n",
       " 'Acuerdo Multilateral M-173',\n",
       " 'Acuerdo Multilateral M-175',\n",
       " 'Acuerdo Multilateral M-178',\n",
       " 'Acuerdo Multilateral M-198',\n",
       " 'Acuerdo Multilateral M-214',\n",
       " 'Acuerdo Multilateral M-218',\n",
       " 'Acuerdo Multilateral M-226',\n",
       " 'Acuerdo Multilateral M-228',\n",
       " 'Acuerdo Multilateral M-231',\n",
       " 'Acuerdo Multilateral M-236',\n",
       " 'Acuerdo Multilateral M-245',\n",
       " 'Acuerdo Multilateral M-254',\n",
       " 'Acuerdo Multilateral M-259',\n",
       " 'Acuerdo Multilateral M-265',\n",
       " 'Acuerdo Multilateral M-268',\n",
       " 'Acuerdo Multilateral M-271',\n",
       " 'Acuerdo Multilateral M-273',\n",
       " 'Acuerdo Multilateral M-276',\n",
       " 'Acuerdo Multilateral M-291',\n",
       " 'Acuerdo Multilateral M-292']"
      ]
     },
     "metadata": {},
     "execution_count": 1760
    }
   ],
   "source": [
    "boletin_ASECORP_flat_list[0:25]"
   ]
  },
  {
   "cell_type": "code",
   "execution_count": 1761,
   "metadata": {},
   "outputs": [],
   "source": [
    "## Elimina duplicados\n",
    "boletin_ASECORP_flat_list = list(set(boletin_ASECORP_flat_list))"
   ]
  },
  {
   "cell_type": "code",
   "execution_count": 1762,
   "metadata": {},
   "outputs": [
    {
     "output_type": "execute_result",
     "data": {
      "text/plain": [
       "['Resolución de 9 de septiembre de 2013',\n",
       " 'Orden SND/440/2020',\n",
       " 'Nota de servicio 1/2014',\n",
       " 'Nota de servicio 1/2010',\n",
       " 'Resolución de 31 de octubre de 2012',\n",
       " 'Real Decreto 635/2013',\n",
       " 'Orden ITC/3163/2009',\n",
       " 'Orden TMA/400/2020',\n",
       " 'Ley 12/2007',\n",
       " 'Sentencia de 24 de enero de 2011',\n",
       " 'Ley 5/2014',\n",
       " 'Real Decreto 1528/2012',\n",
       " 'Sentencia 61/2015',\n",
       " 'Real Decreto 45/1996',\n",
       " 'Orden de 13 de diciembre de 2000',\n",
       " 'Ley 11/2012',\n",
       " 'Real Decreto 1338/2011',\n",
       " 'Resolución de 8 de febrero de 2018',\n",
       " 'Real Decreto 134/2010',\n",
       " 'Orden PRE/3539/2008',\n",
       " 'Resolución de 20 de noviembre de 2015',\n",
       " 'Real Decreto 1315/2005',\n",
       " 'Resolución de 25 de abril de 2005',\n",
       " 'Real Decreto 895/2013',\n",
       " 'Real Decreto 1837/2008']"
      ]
     },
     "metadata": {},
     "execution_count": 1762
    }
   ],
   "source": [
    "boletin_ASECORP_flat_list[0:25]"
   ]
  },
  {
   "cell_type": "code",
   "execution_count": 1763,
   "metadata": {},
   "outputs": [
    {
     "output_type": "execute_result",
     "data": {
      "text/plain": [
       "{'Real Decreto 1428/2003', 'Real Decreto Legislativo 6/2015'}"
      ]
     },
     "metadata": {},
     "execution_count": 1763
    }
   ],
   "source": [
    "## Busca coincidencias entre lista boletines BOEs explorados y lista boletines de BBDD ASECORP\n",
    "set(boletin_flat_list) & set(boletin_ASECORP_flat_list)"
   ]
  },
  {
   "cell_type": "code",
   "execution_count": 1764,
   "metadata": {},
   "outputs": [
    {
     "output_type": "stream",
     "name": "stdout",
     "text": [
      "{'Real Decreto 1428/2003'}\n{'Real Decreto 1428/2003'}\n{'Real Decreto 1428/2003'}\n{'Real Decreto 1428/2003'}\n{'Real Decreto Legislativo 6/2015'}\n"
     ]
    }
   ],
   "source": [
    "#tabla_analisis['Tags'].isin(ASECORP_BBDD_BOE['Tags'])\n",
    "for row_to_compare in tabla_analisis['Tags']:\n",
    "    for row_comparing in ASECORP_BBDD_BOE['Tags']:\n",
    "        if set(row_comparing) & set(row_to_compare):\n",
    "            print(set(row_comparing) & set(row_to_compare))"
   ]
  },
  {
   "cell_type": "code",
   "execution_count": 1765,
   "metadata": {},
   "outputs": [
    {
     "output_type": "stream",
     "name": "stdout",
     "text": [
      "{'Real Decreto 1428/2003'} RD 1428/2003 ESP\n{'Real Decreto 1428/2003'} RD 1514/2018 ESP\n{'Real Decreto 1428/2003'} RD 667/2015 ESP\n{'Real Decreto 1428/2003'} RD 965/2006 ESP\n{'Real Decreto Legislativo 6/2015'} RDG 6/2015 ESP\n"
     ]
    }
   ],
   "source": [
    "for i, row_to_compare in tabla_analisis.iterrows():\n",
    "    for j, row_comparing in ASECORP_BBDD_BOE.iterrows():\n",
    "        if set(row_to_compare['Tags']) & set(row_comparing['Tags']):\n",
    "            tabla_analisis['Match_ASECORP_BBDD'][i].append (ASECORP_BBDD_BOE['Codigo'][j])\n",
    "            print(str(set(row_to_compare['Tags']) & set(row_comparing['Tags'])) + ' ' + str(row_comparing['Codigo']))"
   ]
  },
  {
   "cell_type": "code",
   "execution_count": 1766,
   "metadata": {},
   "outputs": [
    {
     "output_type": "execute_result",
     "data": {
      "text/plain": [
       "                                             Alertas Fecha_publicacion  \\\n",
       "0                [Sistema financiero, Unión Europea]        2021-02-12   \n",
       "1                            [Transportes y tráfico]        2021-02-12   \n",
       "2  [Comercio, Consumidores y usuarios, Sanidad, T...        2021-02-12   \n",
       "\n",
       "                                           Item_Name            Item_id  \\\n",
       "0  [Orden HAC/114/2021, de 5 de febrero, por la q...  [BOE-A-2021-2045]   \n",
       "1  [Resolución de 3 de febrero de 2021, de la Dir...  [BOE-A-2021-2047]   \n",
       "2  [Orden CSM/115/2021, de 11 de febrero, por la ...  [BOE-A-2021-2046]   \n",
       "\n",
       "                                            Materias  \\\n",
       "0  [Ayudas, Desarrollo regional, Financiación com...   \n",
       "1  [Carreteras, Circulación vial, Deporte, Mercan...   \n",
       "2  [Comercialización, Entidades de acreditación, ...   \n",
       "\n",
       "                                         Referencias  \\\n",
       "0  [BOE-A-2016-12485, BOE-A-2003-20977, DOUE-L-20...   \n",
       "1  [BOE-A-2015-11722, BOE-A-2003-23514, BOE-A-201...   \n",
       "2                 [BOE-A-2020-4761, BOE-A-2020-4525]   \n",
       "\n",
       "                                 Referencias_palabra  \\\n",
       "0   [MODIFICA, DE CONFORMIDAD con, CITA, CITA, CITA]   \n",
       "1  [DE CONFORMIDAD con, DE CONFORMIDAD con, EN RE...   \n",
       "2              [DE CONFORMIDAD con, EN RELACIÓN con]   \n",
       "\n",
       "                                   Referencias_texto  \\\n",
       "0  [las normas 1, 3, 6, 10, 12 a 16, SE AÑADE las...   \n",
       "1  [el art. 18 de la Ley sobre Tráfico, Circulaci...   \n",
       "2  [el art. 3 del Real Decreto 495/2020, de 28 de...   \n",
       "\n",
       "                               Referencias_completas  \\\n",
       "0  [MODIFICA las normas 1, 3, 6, 10, 12 a 16, SE ...   \n",
       "1  [DE CONFORMIDAD con el art. 18 de la Ley sobre...   \n",
       "2  [DE CONFORMIDAD con el art. 3 del Real Decreto...   \n",
       "\n",
       "                                                Tags  \\\n",
       "0  [Orden HFP/1979/2016, Ley 38/2003, Reglamento ...   \n",
       "1  [Real Decreto Legislativo 6/2015, Real Decreto...   \n",
       "2        [Real Decreto 495/2020, Orden SND/354/2020]   \n",
       "\n",
       "                                  Match_ASECORP_BBDD  \n",
       "0                                                 []  \n",
       "1  [RD 1428/2003 ESP, RD 1514/2018 ESP, RD 667/20...  \n",
       "2                                                 []  "
      ],
      "text/html": "<div>\n<style scoped>\n    .dataframe tbody tr th:only-of-type {\n        vertical-align: middle;\n    }\n\n    .dataframe tbody tr th {\n        vertical-align: top;\n    }\n\n    .dataframe thead th {\n        text-align: right;\n    }\n</style>\n<table border=\"1\" class=\"dataframe\">\n  <thead>\n    <tr style=\"text-align: right;\">\n      <th></th>\n      <th>Alertas</th>\n      <th>Fecha_publicacion</th>\n      <th>Item_Name</th>\n      <th>Item_id</th>\n      <th>Materias</th>\n      <th>Referencias</th>\n      <th>Referencias_palabra</th>\n      <th>Referencias_texto</th>\n      <th>Referencias_completas</th>\n      <th>Tags</th>\n      <th>Match_ASECORP_BBDD</th>\n    </tr>\n  </thead>\n  <tbody>\n    <tr>\n      <th>0</th>\n      <td>[Sistema financiero, Unión Europea]</td>\n      <td>2021-02-12</td>\n      <td>[Orden HAC/114/2021, de 5 de febrero, por la q...</td>\n      <td>[BOE-A-2021-2045]</td>\n      <td>[Ayudas, Desarrollo regional, Financiación com...</td>\n      <td>[BOE-A-2016-12485, BOE-A-2003-20977, DOUE-L-20...</td>\n      <td>[MODIFICA, DE CONFORMIDAD con, CITA, CITA, CITA]</td>\n      <td>[las normas 1, 3, 6, 10, 12 a 16, SE AÑADE las...</td>\n      <td>[MODIFICA las normas 1, 3, 6, 10, 12 a 16, SE ...</td>\n      <td>[Orden HFP/1979/2016, Ley 38/2003, Reglamento ...</td>\n      <td>[]</td>\n    </tr>\n    <tr>\n      <th>1</th>\n      <td>[Transportes y tráfico]</td>\n      <td>2021-02-12</td>\n      <td>[Resolución de 3 de febrero de 2021, de la Dir...</td>\n      <td>[BOE-A-2021-2047]</td>\n      <td>[Carreteras, Circulación vial, Deporte, Mercan...</td>\n      <td>[BOE-A-2015-11722, BOE-A-2003-23514, BOE-A-201...</td>\n      <td>[DE CONFORMIDAD con, DE CONFORMIDAD con, EN RE...</td>\n      <td>[el art. 18 de la Ley sobre Tráfico, Circulaci...</td>\n      <td>[DE CONFORMIDAD con el art. 18 de la Ley sobre...</td>\n      <td>[Real Decreto Legislativo 6/2015, Real Decreto...</td>\n      <td>[RD 1428/2003 ESP, RD 1514/2018 ESP, RD 667/20...</td>\n    </tr>\n    <tr>\n      <th>2</th>\n      <td>[Comercio, Consumidores y usuarios, Sanidad, T...</td>\n      <td>2021-02-12</td>\n      <td>[Orden CSM/115/2021, de 11 de febrero, por la ...</td>\n      <td>[BOE-A-2021-2046]</td>\n      <td>[Comercialización, Entidades de acreditación, ...</td>\n      <td>[BOE-A-2020-4761, BOE-A-2020-4525]</td>\n      <td>[DE CONFORMIDAD con, EN RELACIÓN con]</td>\n      <td>[el art. 3 del Real Decreto 495/2020, de 28 de...</td>\n      <td>[DE CONFORMIDAD con el art. 3 del Real Decreto...</td>\n      <td>[Real Decreto 495/2020, Orden SND/354/2020]</td>\n      <td>[]</td>\n    </tr>\n  </tbody>\n</table>\n</div>"
     },
     "metadata": {},
     "execution_count": 1766
    }
   ],
   "source": [
    "tabla_analisis"
   ]
  },
  {
   "cell_type": "code",
   "execution_count": 1767,
   "metadata": {},
   "outputs": [
    {
     "output_type": "execute_result",
     "data": {
      "text/plain": [
       "['RD 1428/2003 ESP',\n",
       " 'RD 1514/2018 ESP',\n",
       " 'RD 667/2015 ESP',\n",
       " 'RD 965/2006 ESP',\n",
       " 'RDG 6/2015 ESP']"
      ]
     },
     "metadata": {},
     "execution_count": 1767
    }
   ],
   "source": [
    "tabla_analisis['Match_ASECORP_BBDD'][1]"
   ]
  },
  {
   "cell_type": "code",
   "execution_count": 1768,
   "metadata": {},
   "outputs": [
    {
     "output_type": "execute_result",
     "data": {
      "text/plain": [
       "['Real Decreto Legislativo 6/2015',\n",
       " 'Real Decreto 1428/2003',\n",
       " 'Resolución de 20 de diciembre de 2019']"
      ]
     },
     "metadata": {},
     "execution_count": 1768
    }
   ],
   "source": [
    "tabla_analisis['Tags'][1]"
   ]
  },
  {
   "source": [
    "# Genera Fichero EXCEL de resultados"
   ],
   "cell_type": "markdown",
   "metadata": {}
  },
  {
   "cell_type": "code",
   "execution_count": 1769,
   "metadata": {},
   "outputs": [],
   "source": [
    "## Cambia orden de columnas y elimina las no necesarias  \n",
    "tabla_analisis_final = tabla_analisis[['Item_id','Item_Name','Fecha_publicacion','Materias','Alertas','Referencias','Referencias_completas','Tags','Match_ASECORP_BBDD']]"
   ]
  },
  {
   "cell_type": "code",
   "execution_count": 1770,
   "metadata": {},
   "outputs": [],
   "source": [
    "## Crea función que convierte lista a string en todas las columnas de tabla_analisis\n",
    "## para evitar en presentación final los caracteres [' '] propios de las listas\n",
    "def list2Str(lst):\n",
    "    if type(lst) is list: # apply conversion to list columns\n",
    "        return\", \".join(lst)\n",
    "    else:\n",
    "        return lst"
   ]
  },
  {
   "cell_type": "code",
   "execution_count": 1771,
   "metadata": {},
   "outputs": [],
   "source": [
    "## Aplica función de conversión de listas a strings\n",
    "tabla_analisis_final = tabla_analisis_final.apply(lambda x: [list2Str(i) for i in x])"
   ]
  },
  {
   "cell_type": "code",
   "execution_count": 1772,
   "metadata": {},
   "outputs": [
    {
     "output_type": "execute_result",
     "data": {
      "text/plain": [
       "           Item_id                                          Item_Name  \\\n",
       "0  BOE-A-2021-2045  Orden HAC/114/2021, de 5 de febrero, por la qu...   \n",
       "1  BOE-A-2021-2047  Resolución de 3 de febrero de 2021, de la Dire...   \n",
       "2  BOE-A-2021-2046  Orden CSM/115/2021, de 11 de febrero, por la q...   \n",
       "\n",
       "  Fecha_publicacion                                           Materias  \\\n",
       "0        2021-02-12  Ayudas, Desarrollo regional, Financiación comu...   \n",
       "1        2021-02-12  Carreteras, Circulación vial, Deporte, Mercanc...   \n",
       "2        2021-02-12  Comercialización, Entidades de acreditación, E...   \n",
       "\n",
       "                                             Alertas  \\\n",
       "0                  Sistema financiero, Unión Europea   \n",
       "1                              Transportes y tráfico   \n",
       "2  Comercio, Consumidores y usuarios, Sanidad, Te...   \n",
       "\n",
       "                                         Referencias  \\\n",
       "0  BOE-A-2016-12485, BOE-A-2003-20977, DOUE-L-202...   \n",
       "1  BOE-A-2015-11722, BOE-A-2003-23514, BOE-A-2019...   \n",
       "2                   BOE-A-2020-4761, BOE-A-2020-4525   \n",
       "\n",
       "                               Referencias_completas  \\\n",
       "0  MODIFICA las normas 1, 3, 6, 10, 12 a 16, SE A...   \n",
       "1  DE CONFORMIDAD con el art. 18 de la Ley sobre ...   \n",
       "2  DE CONFORMIDAD con el art. 3 del Real Decreto ...   \n",
       "\n",
       "                                                Tags  \\\n",
       "0  Orden HFP/1979/2016, Ley 38/2003, Reglamento (...   \n",
       "1  Real Decreto Legislativo 6/2015, Real Decreto ...   \n",
       "2          Real Decreto 495/2020, Orden SND/354/2020   \n",
       "\n",
       "                                  Match_ASECORP_BBDD  \n",
       "0                                                     \n",
       "1  RD 1428/2003 ESP, RD 1514/2018 ESP, RD 667/201...  \n",
       "2                                                     "
      ],
      "text/html": "<div>\n<style scoped>\n    .dataframe tbody tr th:only-of-type {\n        vertical-align: middle;\n    }\n\n    .dataframe tbody tr th {\n        vertical-align: top;\n    }\n\n    .dataframe thead th {\n        text-align: right;\n    }\n</style>\n<table border=\"1\" class=\"dataframe\">\n  <thead>\n    <tr style=\"text-align: right;\">\n      <th></th>\n      <th>Item_id</th>\n      <th>Item_Name</th>\n      <th>Fecha_publicacion</th>\n      <th>Materias</th>\n      <th>Alertas</th>\n      <th>Referencias</th>\n      <th>Referencias_completas</th>\n      <th>Tags</th>\n      <th>Match_ASECORP_BBDD</th>\n    </tr>\n  </thead>\n  <tbody>\n    <tr>\n      <th>0</th>\n      <td>BOE-A-2021-2045</td>\n      <td>Orden HAC/114/2021, de 5 de febrero, por la qu...</td>\n      <td>2021-02-12</td>\n      <td>Ayudas, Desarrollo regional, Financiación comu...</td>\n      <td>Sistema financiero, Unión Europea</td>\n      <td>BOE-A-2016-12485, BOE-A-2003-20977, DOUE-L-202...</td>\n      <td>MODIFICA las normas 1, 3, 6, 10, 12 a 16, SE A...</td>\n      <td>Orden HFP/1979/2016, Ley 38/2003, Reglamento (...</td>\n      <td></td>\n    </tr>\n    <tr>\n      <th>1</th>\n      <td>BOE-A-2021-2047</td>\n      <td>Resolución de 3 de febrero de 2021, de la Dire...</td>\n      <td>2021-02-12</td>\n      <td>Carreteras, Circulación vial, Deporte, Mercanc...</td>\n      <td>Transportes y tráfico</td>\n      <td>BOE-A-2015-11722, BOE-A-2003-23514, BOE-A-2019...</td>\n      <td>DE CONFORMIDAD con el art. 18 de la Ley sobre ...</td>\n      <td>Real Decreto Legislativo 6/2015, Real Decreto ...</td>\n      <td>RD 1428/2003 ESP, RD 1514/2018 ESP, RD 667/201...</td>\n    </tr>\n    <tr>\n      <th>2</th>\n      <td>BOE-A-2021-2046</td>\n      <td>Orden CSM/115/2021, de 11 de febrero, por la q...</td>\n      <td>2021-02-12</td>\n      <td>Comercialización, Entidades de acreditación, E...</td>\n      <td>Comercio, Consumidores y usuarios, Sanidad, Te...</td>\n      <td>BOE-A-2020-4761, BOE-A-2020-4525</td>\n      <td>DE CONFORMIDAD con el art. 3 del Real Decreto ...</td>\n      <td>Real Decreto 495/2020, Orden SND/354/2020</td>\n      <td></td>\n    </tr>\n  </tbody>\n</table>\n</div>"
     },
     "metadata": {},
     "execution_count": 1772
    }
   ],
   "source": [
    "  tabla_analisis_final[0:10]"
   ]
  },
  {
   "cell_type": "code",
   "execution_count": 1773,
   "metadata": {},
   "outputs": [],
   "source": [
    "## Generar hyperlink a artículo BOE en CSV \"=HYPERLINK(\"https://www.boe.es/boe/dias/2021/02/02/pdfs/BOE-A-2021-1474.pdf\";\"BOE-A-2021-1474\")\"\n",
    "## https://www.boe.es/diario_boe/xml.php?id=## https://www.boe.es/boe/dias/2021/02/02/pdfs/BOE-A-2021-1474.pdf\n",
    "\n",
    "tabla_analisis_final_CSV = tabla_analisis_final"
   ]
  },
  {
   "cell_type": "code",
   "execution_count": 1774,
   "metadata": {},
   "outputs": [],
   "source": [
    "# Compone y genera enlace a PDF del BOE correspondiente\n",
    "tabla_analisis_final_CSV['Item_id'] = '=HIPERVINCULO(' + '\"https://www.boe.es/boe/dias/' \\\n",
    "                                                        + tabla_analisis_final_CSV['Fecha_publicacion'].map(lambda x: x.strftime('%Y')) + '/'\\\n",
    "                                                        + tabla_analisis_final_CSV['Fecha_publicacion'].map(lambda x: x.strftime('%m')) + '/'\\\n",
    "                                                        + tabla_analisis_final_CSV['Fecha_publicacion'].map(lambda x: x.strftime('%d')) + '/'\\\n",
    "                                                        + 'pdfs/'\\\n",
    "                                                        + tabla_analisis_final_CSV['Item_id'] + '.pdf\";'\\\n",
    "                                                        + '\"' + tabla_analisis_final_CSV['Item_id'] + '\")'"
   ]
  },
  {
   "cell_type": "code",
   "execution_count": 1775,
   "metadata": {},
   "outputs": [
    {
     "output_type": "stream",
     "name": "stdout",
     "text": [
      "=HIPERVINCULO(\"https://www.boe.es/boe/dias/2021/02/12/pdfs/BOE-A-2021-2045.pdf\";\"BOE-A-2021-2045\")\n"
     ]
    }
   ],
   "source": [
    "print(tabla_analisis_final_CSV['Item_id'][0])"
   ]
  },
  {
   "cell_type": "code",
   "execution_count": 1776,
   "metadata": {},
   "outputs": [],
   "source": [
    "# tabla_analisis_final_CSV.to_excel(\"./ASECORP/Resultados_Matching.xlsx\", sheet_name='MATCHING_BOE') "
   ]
  },
  {
   "cell_type": "code",
   "execution_count": 1821,
   "metadata": {},
   "outputs": [],
   "source": [
    "tabla_analisis_final_CSV.to_csv(\"./ASECORP/Resultados_Matching_BOE_\" + today.strftime(\"%Y%m%d\") + \".csv\", index=False) "
   ]
  },
  {
   "source": [
    "# ------------------------------------------------------------------------"
   ],
   "cell_type": "markdown",
   "metadata": {}
  },
  {
   "source": [
    "# DOGC"
   ],
   "cell_type": "markdown",
   "metadata": {}
  },
  {
   "cell_type": "code",
   "execution_count": 1778,
   "metadata": {},
   "outputs": [],
   "source": [
    "URL_HTML_resumen =  \"https://dogc.gencat.cat/es/index.html?newLang=es_ES&language=es_ES\""
   ]
  },
  {
   "cell_type": "code",
   "execution_count": 1779,
   "metadata": {},
   "outputs": [],
   "source": [
    "from requests_html import HTMLSession\n",
    "session = HTMLSession()\n",
    "r = session.get(URL_HTML_resumen)"
   ]
  },
  {
   "cell_type": "code",
   "execution_count": 1780,
   "metadata": {},
   "outputs": [
    {
     "output_type": "execute_result",
     "data": {
      "text/plain": [
       "{'/ca/index.html?newLang=es_ES&language=es_ES',\n",
       " '/ca/pdogc_serveis/cerca-republica/',\n",
       " '/ca/pdogc_serveis/pdogc_dogc_mobi/',\n",
       " '/es/ajuda/mapaweb/',\n",
       " '/es/index.html?newLang=es_ES&language=es_ES',\n",
       " '/es/pdogc_base_de_dades_del_dogc/',\n",
       " '/es/pdogc_canals_interns/pdogc_cercador_de_normativa/?destParam=cercaAdv',\n",
       " '/es/pdogc_canals_interns/pdogc_que_es_el_codi_de_verificacio/',\n",
       " '/es/pdogc_eadop/',\n",
       " '/es/pdogc_enllacos/',\n",
       " '/es/pdogc_preguntes_frequents/',\n",
       " '/es/pdogc_serveis/',\n",
       " '/es/pdogc_serveis/pdogc_normes_urbanistiques_1985-2002/',\n",
       " '/es/pdogc_serveis/pdogc_serveis_de_informacio/',\n",
       " '/es/pdogc_serveis/pdogc_serveis_de_informacio/pdogc_alertes_dogc/',\n",
       " '/es/pdogc_serveis/pdogc_serveis_de_publicacio_al_dogc/Publicacio_Anuncis_situacio_CoV-2/',\n",
       " '/es/pdogc_serveis/pdogc_serveis_de_publicacio_al_dogc/pdogc_dogc_eacat/index.html',\n",
       " '/es/pdogc_sobre_el_dogc/',\n",
       " 'http://llibreria.gencat.cat/index.php?language=es',\n",
       " 'http://web.gencat.cat/es/temes/',\n",
       " 'http://www.boe.es/diario_boe/calendarios.php?c=c',\n",
       " 'http://www.ddgi.es/bop/',\n",
       " 'http://www.gencat.cat',\n",
       " 'http://www.gencat.cat/generalitat/cas/index.htm',\n",
       " 'http://www.gencat.cat/serveis/cas/index.htm',\n",
       " 'http://www.gencat.net/catalunya/cas/index.htm',\n",
       " 'https://bop.diba.cat/es',\n",
       " 'https://bop.diputaciolleida.cat',\n",
       " 'https://contractaciopublica.gencat.cat/ecofin_pscp/AppJava/es_ES/search.pscp?reqCode=start',\n",
       " 'https://dogc.gencat.cat/es/pdogc_sobre_el_dogc/Accessibilitat-dogc.gencat.cat/',\n",
       " 'https://ovt.gencat.cat/gsitfc/AppJava/generic/conqxsGeneric.do?webFormId=391&&topicLevel1ByURL.id=500&topicLevel2ByURL.id=657&set-locale=es_ES',\n",
       " 'https://portaldogc.gencat.cat/EADOP_transactional/AppJava/dogc/es/gestioUsuari.htm?mode=0',\n",
       " 'https://portaldogc.gencat.cat/EADOP_transactional/AppJava/dogc/es/gestioUsuari.htm?primeraVez=1&mode=5',\n",
       " 'https://portaldogc.gencat.cat/utilsEADOP/dogc2/dogc_es.pdf',\n",
       " 'https://portaldogc.gencat.cat/utilsEADOP/dogc2/sumari_es.pdf',\n",
       " 'https://portaljuridic.gencat.cat/ca/',\n",
       " 'https://portaljuridic.gencat.cat/ca/pjur_ocults/pjur_CoV-2/',\n",
       " 'https://portaljuridic.gencat.cat/ca/pjur_ocults/pjur_llei-5-2020/',\n",
       " 'https://seu.gencat.cat/es/index.html',\n",
       " 'https://treball.gencat.cat/es/consell_relacions_laborals/convenis_colectius/cercador_de_convenis/index.html',\n",
       " 'https://twitter.com/DOGCdeldia',\n",
       " 'https://web.gencat.cat/es/inici/index.html',\n",
       " 'https://web.gencat.cat/es/menu-ajuda/ajuda/avis_legal/',\n",
       " 'https://web.gencat.cat/es/menu-ajuda/ajuda/sobre_gencat/',\n",
       " 'https://www.diputaciodetarragona.cat/ebop/'}"
      ]
     },
     "metadata": {},
     "execution_count": 1780
    }
   ],
   "source": [
    "r.html.links"
   ]
  },
  {
   "cell_type": "code",
   "execution_count": 1781,
   "metadata": {},
   "outputs": [
    {
     "output_type": "execute_result",
     "data": {
      "text/plain": [
       "[' DOGC núm.\\r\\n\\t\\t\\t\\t\\t 8340 (12/02/2021)']"
      ]
     },
     "metadata": {},
     "execution_count": 1781
    }
   ],
   "source": [
    "r.html.xpath('//*[@id=\"titol\"]/span/text()')"
   ]
  },
  {
   "cell_type": "code",
   "execution_count": 1782,
   "metadata": {},
   "outputs": [
    {
     "output_type": "execute_result",
     "data": {
      "text/plain": [
       "['\\r\\n\\t\\t\\t\\t\\tÚltimo DOGC publicado\\r\\n\\t\\t\\t\\t']"
      ]
     },
     "metadata": {},
     "execution_count": 1782
    }
   ],
   "source": [
    "r.html.xpath('//*[@id=\"titol\"]/h3/text()')\n"
   ]
  },
  {
   "cell_type": "code",
   "execution_count": 1783,
   "metadata": {},
   "outputs": [
    {
     "output_type": "execute_result",
     "data": {
      "text/plain": [
       "'html'"
      ]
     },
     "metadata": {},
     "execution_count": 1783
    }
   ],
   "source": [
    "r.html.lxml.tag"
   ]
  },
  {
   "cell_type": "code",
   "execution_count": 1784,
   "metadata": {},
   "outputs": [
    {
     "output_type": "execute_result",
     "data": {
      "text/plain": [
       "[<Element span at 0x7fe909ea1220>]"
      ]
     },
     "metadata": {},
     "execution_count": 1784
    }
   ],
   "source": [
    "r.html.lxml.xpath('//*[@id=\"titol\"]/span')"
   ]
  },
  {
   "cell_type": "code",
   "execution_count": 1785,
   "metadata": {},
   "outputs": [
    {
     "output_type": "stream",
     "name": "stdout",
     "text": [
      "[' DOGC núm.\\r\\n\\t\\t\\t\\t\\t 8340 (12/02/2021)']\n"
     ]
    }
   ],
   "source": [
    "#import requests\n",
    "#from lxml import html\n",
    "\n",
    "response = requests.get(URL_HTML_resumen)\n",
    "\n",
    "tree = html.fromstring(response.text)\n",
    "\n",
    "# fetches all useful elements \n",
    "useful = tree.xpath('//*[@id=\"titol\"]/span/text()')\n",
    "\n",
    "print(useful)\n"
   ]
  },
  {
   "cell_type": "code",
   "execution_count": 1786,
   "metadata": {},
   "outputs": [
    {
     "output_type": "execute_result",
     "data": {
      "text/plain": [
       "['/es/pdogc_canals_interns/pdogc_sumari_del_dogc/']"
      ]
     },
     "metadata": {},
     "execution_count": 1786
    }
   ],
   "source": [
    "r.html.lxml.xpath('//*[@id=\"sumari\"]/ul/li[1]/form/@action')"
   ]
  },
  {
   "cell_type": "code",
   "execution_count": 1787,
   "metadata": {},
   "outputs": [
    {
     "output_type": "execute_result",
     "data": {
      "text/plain": [
       "['anexos']"
      ]
     },
     "metadata": {},
     "execution_count": 1787
    }
   ],
   "source": [
    "r.html.lxml.xpath('//*[@id=\"sumari\"]/ul/li[1]/form/input[1]/@name')"
   ]
  },
  {
   "cell_type": "code",
   "execution_count": 1788,
   "metadata": {},
   "outputs": [
    {
     "output_type": "execute_result",
     "data": {
      "text/plain": [
       "['1']"
      ]
     },
     "metadata": {},
     "execution_count": 1788
    }
   ],
   "source": [
    "r.html.lxml.xpath('//*[@id=\"sumari\"]/ul/li[1]/form/input[1]/@value')"
   ]
  },
  {
   "cell_type": "code",
   "execution_count": 1789,
   "metadata": {},
   "outputs": [
    {
     "output_type": "execute_result",
     "data": {
      "text/plain": [
       "[<Element form at 0x7fe8dde09cc0>]"
      ]
     },
     "metadata": {},
     "execution_count": 1789
    }
   ],
   "source": [
    "r.html.lxml.xpath('//*[@id=\"sumari\"]/ul/li[1]/form')"
   ]
  },
  {
   "cell_type": "code",
   "execution_count": 1790,
   "metadata": {},
   "outputs": [
    {
     "output_type": "stream",
     "name": "stdout",
     "text": [
      "['8340']\n"
     ]
    }
   ],
   "source": [
    "useful = tree.xpath('//*[@id=\"sumari\"]/ul/li[1]/form/input[3]/@value')\n",
    "\n",
    "print(useful)"
   ]
  },
  {
   "cell_type": "code",
   "execution_count": 1791,
   "metadata": {},
   "outputs": [
    {
     "output_type": "execute_result",
     "data": {
      "text/plain": [
       "['/es/pdogc_canals_interns/pdogc_sumari_del_dogc/']"
      ]
     },
     "metadata": {},
     "execution_count": 1791
    }
   ],
   "source": [
    "tree.xpath('//*[@id=\"sumari\"]/ul/li[1]/form/@action')"
   ]
  },
  {
   "cell_type": "code",
   "execution_count": 1792,
   "metadata": {
    "tags": []
   },
   "outputs": [
    {
     "output_type": "stream",
     "name": "stdout",
     "text": [
      "['anexos', 'language', 'numDOGC', 'seccion'] ['1', 'es_ES', '8340', '0']\n"
     ]
    },
    {
     "output_type": "execute_result",
     "data": {
      "text/plain": [
       "'anexos=1&language=es_ES&numDOGC=8340&seccion=0'"
      ]
     },
     "metadata": {},
     "execution_count": 1792
    }
   ],
   "source": [
    "cadena = ''\n",
    "for input in tree.xpath('//*[@id=\"sumari\"]/ul/li[1]/form'):\n",
    "    argumentos = input.xpath('./input/@name')\n",
    "    valores = input.xpath('./input/@value')\n",
    "    print(argumentos, valores)\n",
    "\n",
    "for indice in range(len(argumentos)):\n",
    "    cadena += argumentos[indice] + '=' + valores[indice] + '&'\n",
    "\n",
    "argumentos[1]\n",
    "cadena[:-1]"
   ]
  },
  {
   "source": [
    "## Recoge Nombre Secciones Sumario"
   ],
   "cell_type": "markdown",
   "metadata": {}
  },
  {
   "cell_type": "code",
   "execution_count": 1793,
   "metadata": {},
   "outputs": [
    {
     "output_type": "execute_result",
     "data": {
      "text/plain": [
       "'DISPOSICIONES'"
      ]
     },
     "metadata": {},
     "execution_count": 1793
    }
   ],
   "source": [
    "import re\n",
    "seccion = tree.xpath('//*[@id=\"sumari\"]/ul/li[1]/form/a/text()')\n",
    "seccion = re.sub('(\\\\r|\\\\n|\\\\t|\\ )+', '', seccion[0])\n",
    "seccion"
   ]
  },
  {
   "source": [
    "## Recoge Nombre Secciones Sumario"
   ],
   "cell_type": "markdown",
   "metadata": {}
  },
  {
   "cell_type": "code",
   "execution_count": 1794,
   "metadata": {},
   "outputs": [
    {
     "output_type": "stream",
     "name": "stdout",
     "text": [
      "   DISPOSICIONES \n   CARGOS Y PERSONAL\n   ANUNCIOS DE LA GENERALIDAD DE CATALUÑA\n   ANUNCIOS DE LA ADMINISTRACIÓN LOCAL\n   ANUNCIOS DE LA ADMINISTRACIÓN DE JUSTICIA \n   ANUNCIOS VARIOS\n"
     ]
    }
   ],
   "source": [
    "secciones = tree.xpath('//*[@id=\"sumari\"]/ul/li')\n",
    "#print(secciones)\n",
    "df_secciones_sumarios = pd.DataFrame()\n",
    "for seccion in secciones:\n",
    "    seccion = seccion.xpath('./form/a/text()')\n",
    "    seccion = re.sub('(\\\\r|\\\\n|\\\\t)+', '', seccion[0])\n",
    "    print(seccion[1:-1])\n",
    "    df_secciones_sumarios = df_secciones_sumarios.append({'Seccion': seccion[1:-1]}, ignore_index=True)\n"
   ]
  },
  {
   "cell_type": "code",
   "execution_count": 1795,
   "metadata": {},
   "outputs": [
    {
     "output_type": "execute_result",
     "data": {
      "text/plain": [
       "                                         Seccion\n",
       "0                                 DISPOSICIONES \n",
       "1                              CARGOS Y PERSONAL\n",
       "2         ANUNCIOS DE LA GENERALIDAD DE CATALUÑA\n",
       "3            ANUNCIOS DE LA ADMINISTRACIÓN LOCAL\n",
       "4     ANUNCIOS DE LA ADMINISTRACIÓN DE JUSTICIA \n",
       "5                                ANUNCIOS VARIOS"
      ],
      "text/html": "<div>\n<style scoped>\n    .dataframe tbody tr th:only-of-type {\n        vertical-align: middle;\n    }\n\n    .dataframe tbody tr th {\n        vertical-align: top;\n    }\n\n    .dataframe thead th {\n        text-align: right;\n    }\n</style>\n<table border=\"1\" class=\"dataframe\">\n  <thead>\n    <tr style=\"text-align: right;\">\n      <th></th>\n      <th>Seccion</th>\n    </tr>\n  </thead>\n  <tbody>\n    <tr>\n      <th>0</th>\n      <td>DISPOSICIONES</td>\n    </tr>\n    <tr>\n      <th>1</th>\n      <td>CARGOS Y PERSONAL</td>\n    </tr>\n    <tr>\n      <th>2</th>\n      <td>ANUNCIOS DE LA GENERALIDAD DE CATALUÑA</td>\n    </tr>\n    <tr>\n      <th>3</th>\n      <td>ANUNCIOS DE LA ADMINISTRACIÓN LOCAL</td>\n    </tr>\n    <tr>\n      <th>4</th>\n      <td>ANUNCIOS DE LA ADMINISTRACIÓN DE JUSTICIA</td>\n    </tr>\n    <tr>\n      <th>5</th>\n      <td>ANUNCIOS VARIOS</td>\n    </tr>\n  </tbody>\n</table>\n</div>"
     },
     "metadata": {},
     "execution_count": 1795
    }
   ],
   "source": [
    "df_secciones_sumarios"
   ]
  },
  {
   "source": [
    "## Recoge Valores para formar URLs Secciones Sumario"
   ],
   "cell_type": "markdown",
   "metadata": {}
  },
  {
   "cell_type": "code",
   "execution_count": 1796,
   "metadata": {},
   "outputs": [
    {
     "output_type": "stream",
     "name": "stdout",
     "text": [
      "https://dogc.gencat.cat/es/pdogc_canals_interns/pdogc_sumari_del_dogc/?anexos=1&language=es_ES&numDOGC=8340&seccion=0\nhttps://dogc.gencat.cat/es/pdogc_canals_interns/pdogc_sumari_del_dogc/?anexos=1&language=es_ES&numDOGC=8340&seccion=1\nhttps://dogc.gencat.cat/es/pdogc_canals_interns/pdogc_sumari_del_dogc/?anexos=1&language=es_ES&numDOGC=8340&seccion=2\nhttps://dogc.gencat.cat/es/pdogc_canals_interns/pdogc_sumari_del_dogc/?anexos=1&language=es_ES&numDOGC=8340&seccion=3\nhttps://dogc.gencat.cat/es/pdogc_canals_interns/pdogc_sumari_del_dogc/?anexos=1&language=es_ES&numDOGC=8340&seccion=4\nhttps://dogc.gencat.cat/es/pdogc_canals_interns/pdogc_sumari_del_dogc/?anexos=1&language=es_ES&numDOGC=8340&seccion=5\n"
     ]
    }
   ],
   "source": [
    "URL_base_sumario = tree.xpath('//*[@id=\"sumari\"]/ul/li[1]/form/@action')\n",
    "\n",
    "df_URL_sumarios = pd.DataFrame()\n",
    "for seccion in secciones:    \n",
    "    cadena = ''\n",
    "    for input in seccion.xpath('./form'):\n",
    "        argumentos = input.xpath('./input/@name')\n",
    "        valores = input.xpath('./input/@value')\n",
    "        #print(argumentos, valores)\n",
    "\n",
    "    for indice in range(len(argumentos)):\n",
    "        cadena += argumentos[indice] + '=' + valores[indice] + '&'\n",
    "\n",
    "    URL_sumario = 'https://dogc.gencat.cat' + str(URL_base_sumario[0]) + '?' + str(cadena[:-1])\n",
    "    print(URL_sumario)\n",
    "    df_URL_sumarios = df_URL_sumarios.append({'URL_Seccion': URL_sumario}, ignore_index=True)"
   ]
  },
  {
   "cell_type": "code",
   "execution_count": 1797,
   "metadata": {},
   "outputs": [
    {
     "output_type": "execute_result",
     "data": {
      "text/plain": [
       "                                         URL_Seccion\n",
       "0  https://dogc.gencat.cat/es/pdogc_canals_intern...\n",
       "1  https://dogc.gencat.cat/es/pdogc_canals_intern...\n",
       "2  https://dogc.gencat.cat/es/pdogc_canals_intern...\n",
       "3  https://dogc.gencat.cat/es/pdogc_canals_intern...\n",
       "4  https://dogc.gencat.cat/es/pdogc_canals_intern...\n",
       "5  https://dogc.gencat.cat/es/pdogc_canals_intern..."
      ],
      "text/html": "<div>\n<style scoped>\n    .dataframe tbody tr th:only-of-type {\n        vertical-align: middle;\n    }\n\n    .dataframe tbody tr th {\n        vertical-align: top;\n    }\n\n    .dataframe thead th {\n        text-align: right;\n    }\n</style>\n<table border=\"1\" class=\"dataframe\">\n  <thead>\n    <tr style=\"text-align: right;\">\n      <th></th>\n      <th>URL_Seccion</th>\n    </tr>\n  </thead>\n  <tbody>\n    <tr>\n      <th>0</th>\n      <td>https://dogc.gencat.cat/es/pdogc_canals_intern...</td>\n    </tr>\n    <tr>\n      <th>1</th>\n      <td>https://dogc.gencat.cat/es/pdogc_canals_intern...</td>\n    </tr>\n    <tr>\n      <th>2</th>\n      <td>https://dogc.gencat.cat/es/pdogc_canals_intern...</td>\n    </tr>\n    <tr>\n      <th>3</th>\n      <td>https://dogc.gencat.cat/es/pdogc_canals_intern...</td>\n    </tr>\n    <tr>\n      <th>4</th>\n      <td>https://dogc.gencat.cat/es/pdogc_canals_intern...</td>\n    </tr>\n    <tr>\n      <th>5</th>\n      <td>https://dogc.gencat.cat/es/pdogc_canals_intern...</td>\n    </tr>\n  </tbody>\n</table>\n</div>"
     },
     "metadata": {},
     "execution_count": 1797
    }
   ],
   "source": [
    "df_URL_sumarios"
   ]
  },
  {
   "cell_type": "code",
   "execution_count": 1798,
   "metadata": {},
   "outputs": [],
   "source": [
    " df_sumarios = pd.concat([df_secciones_sumarios, df_URL_sumarios], axis=1)"
   ]
  },
  {
   "cell_type": "code",
   "execution_count": 1799,
   "metadata": {},
   "outputs": [
    {
     "output_type": "execute_result",
     "data": {
      "text/plain": [
       "                                         Seccion  \\\n",
       "0                                 DISPOSICIONES    \n",
       "1                              CARGOS Y PERSONAL   \n",
       "2         ANUNCIOS DE LA GENERALIDAD DE CATALUÑA   \n",
       "3            ANUNCIOS DE LA ADMINISTRACIÓN LOCAL   \n",
       "4     ANUNCIOS DE LA ADMINISTRACIÓN DE JUSTICIA    \n",
       "5                                ANUNCIOS VARIOS   \n",
       "\n",
       "                                         URL_Seccion  \n",
       "0  https://dogc.gencat.cat/es/pdogc_canals_intern...  \n",
       "1  https://dogc.gencat.cat/es/pdogc_canals_intern...  \n",
       "2  https://dogc.gencat.cat/es/pdogc_canals_intern...  \n",
       "3  https://dogc.gencat.cat/es/pdogc_canals_intern...  \n",
       "4  https://dogc.gencat.cat/es/pdogc_canals_intern...  \n",
       "5  https://dogc.gencat.cat/es/pdogc_canals_intern...  "
      ],
      "text/html": "<div>\n<style scoped>\n    .dataframe tbody tr th:only-of-type {\n        vertical-align: middle;\n    }\n\n    .dataframe tbody tr th {\n        vertical-align: top;\n    }\n\n    .dataframe thead th {\n        text-align: right;\n    }\n</style>\n<table border=\"1\" class=\"dataframe\">\n  <thead>\n    <tr style=\"text-align: right;\">\n      <th></th>\n      <th>Seccion</th>\n      <th>URL_Seccion</th>\n    </tr>\n  </thead>\n  <tbody>\n    <tr>\n      <th>0</th>\n      <td>DISPOSICIONES</td>\n      <td>https://dogc.gencat.cat/es/pdogc_canals_intern...</td>\n    </tr>\n    <tr>\n      <th>1</th>\n      <td>CARGOS Y PERSONAL</td>\n      <td>https://dogc.gencat.cat/es/pdogc_canals_intern...</td>\n    </tr>\n    <tr>\n      <th>2</th>\n      <td>ANUNCIOS DE LA GENERALIDAD DE CATALUÑA</td>\n      <td>https://dogc.gencat.cat/es/pdogc_canals_intern...</td>\n    </tr>\n    <tr>\n      <th>3</th>\n      <td>ANUNCIOS DE LA ADMINISTRACIÓN LOCAL</td>\n      <td>https://dogc.gencat.cat/es/pdogc_canals_intern...</td>\n    </tr>\n    <tr>\n      <th>4</th>\n      <td>ANUNCIOS DE LA ADMINISTRACIÓN DE JUSTICIA</td>\n      <td>https://dogc.gencat.cat/es/pdogc_canals_intern...</td>\n    </tr>\n    <tr>\n      <th>5</th>\n      <td>ANUNCIOS VARIOS</td>\n      <td>https://dogc.gencat.cat/es/pdogc_canals_intern...</td>\n    </tr>\n  </tbody>\n</table>\n</div>"
     },
     "metadata": {},
     "execution_count": 1799
    }
   ],
   "source": [
    "df_sumarios"
   ]
  },
  {
   "cell_type": "code",
   "execution_count": 1800,
   "metadata": {},
   "outputs": [
    {
     "output_type": "execute_result",
     "data": {
      "text/plain": [
       "'https://dogc.gencat.cat/es/pdogc_canals_interns/pdogc_sumari_del_dogc/?anexos=1&language=es_ES&numDOGC=8340&seccion=4'"
      ]
     },
     "metadata": {},
     "execution_count": 1800
    }
   ],
   "source": [
    "df_sumarios['URL_Seccion'][4]"
   ]
  },
  {
   "source": [
    "## Recoge Items en Seccion Disposiciones"
   ],
   "cell_type": "markdown",
   "metadata": {}
  },
  {
   "cell_type": "code",
   "execution_count": 1801,
   "metadata": {
    "tags": []
   },
   "outputs": [
    {
     "output_type": "execute_result",
     "data": {
      "text/plain": [
       "          Seccion                                          Item_Name  \\\n",
       "0   DISPOSICIONES  RESOLUCIÓN PRE/314/2021, de 9 de febrero, por ...   \n",
       "1   DISPOSICIONES  RESOLUCIÓN PRE/315/2021, de 9 de febrero, por ...   \n",
       "2   DISPOSICIONES  RESOLUCIÓN PRE/316/2021, de 9 de febrero, por ...   \n",
       "3   DISPOSICIONES  RESOLUCIÓN PRE/317/2021, de 9 de febrero, por ...   \n",
       "4   DISPOSICIONES  RESOLUCIÓN PRE/318/2021, de 9 de febrero, por ...   \n",
       "5   DISPOSICIONES  RESOLUCIÓN PRE/319/2021, de 9 de febrero, por ...   \n",
       "6   DISPOSICIONES  RESOLUCIÓN PRE/320/2021, de 9 de febrero, por ...   \n",
       "7   DISPOSICIONES  RESOLUCIÓN PRE/321/2021, de 9 de febrero, por ...   \n",
       "8   DISPOSICIONES  RESOLUCIÓN PRE/322/2021, de 9 de febrero, por ...   \n",
       "9   DISPOSICIONES  RESOLUCIÓN PRE/323/2021, de 9 de febrero, por ...   \n",
       "10  DISPOSICIONES  RESOLUCIÓN PRE/324/2021, de 9 de febrero, por ...   \n",
       "11  DISPOSICIONES  RESOLUCIÓN PRE/325/2021, de 9 de febrero, por ...   \n",
       "12  DISPOSICIONES  RESOLUCIÓN PRE/326/2021, de 9 de febrero, por ...   \n",
       "13  DISPOSICIONES  RESOLUCIÓN PRE/327/2021, de 9 de febrero, por ...   \n",
       "14  DISPOSICIONES  RESOLUCIÓN PRE/328/2021, de 9 de febrero, por ...   \n",
       "15  DISPOSICIONES  RESOLUCIÓN PRE/329/2021, de 9 de febrero, por ...   \n",
       "16  DISPOSICIONES  RESOLUCIÓN VEH/346/2021, de 9 de febrero, de d...   \n",
       "17  DISPOSICIONES                                                ...   \n",
       "18  DISPOSICIONES  RESOLUCIÓN EDU/333/2021, de 8 de febrero, por ...   \n",
       "19  DISPOSICIONES  RESOLUCIÓN TES/339/2021, de 9 de febrero, por ...   \n",
       "20  DISPOSICIONES  RESOLUCIÓN TES/340/2021, de 5 de febrero, de d...   \n",
       "21  DISPOSICIONES  RESOLUCIÓN TES/341/2021, de 5 de febrero, de i...   \n",
       "22  DISPOSICIONES  RESOLUCIÓN TES/342/2021, de 8 de febrero, por ...   \n",
       "23  DISPOSICIONES  RESOLUCIÓN TES/343/2021, de 29 de enero, de in...   \n",
       "24  DISPOSICIONES  EDICTO de 5 de febrero de 2021, sobre acuerdos...   \n",
       "25  DISPOSICIONES  EDICTO de 5 de febrero de 2021, sobre un acuer...   \n",
       "26  DISPOSICIONES  EDICTO de 5 de febrero de 2021, sobre un acuer...   \n",
       "27  DISPOSICIONES  EDICTO de 5 de febrero de 2021, sobre acuerdos...   \n",
       "28  DISPOSICIONES  EDICTO de 5 de febrero de 2021, sobre un acuer...   \n",
       "29  DISPOSICIONES                                                ...   \n",
       "30  DISPOSICIONES                                                ...   \n",
       "31  DISPOSICIONES                                                ...   \n",
       "32  DISPOSICIONES  ORDEN TSF/35/2021, de 10 de febrero, de modifi...   \n",
       "33  DISPOSICIONES  RESOLUCIÓN TSF/348/2021, de 10 de febrero, por...   \n",
       "34  DISPOSICIONES                                                ...   \n",
       "35  DISPOSICIONES                                                ...   \n",
       "\n",
       "                                             PDF_link  \n",
       "0   https://portaldogc.gencat.cat/utilsEADOP/AppJa...  \n",
       "1   https://portaldogc.gencat.cat/utilsEADOP/AppJa...  \n",
       "2   https://portaldogc.gencat.cat/utilsEADOP/AppJa...  \n",
       "3   https://portaldogc.gencat.cat/utilsEADOP/AppJa...  \n",
       "4   https://portaldogc.gencat.cat/utilsEADOP/AppJa...  \n",
       "5   https://portaldogc.gencat.cat/utilsEADOP/AppJa...  \n",
       "6   https://portaldogc.gencat.cat/utilsEADOP/AppJa...  \n",
       "7   https://portaldogc.gencat.cat/utilsEADOP/AppJa...  \n",
       "8   https://portaldogc.gencat.cat/utilsEADOP/AppJa...  \n",
       "9   https://portaldogc.gencat.cat/utilsEADOP/AppJa...  \n",
       "10  https://portaldogc.gencat.cat/utilsEADOP/AppJa...  \n",
       "11  https://portaldogc.gencat.cat/utilsEADOP/AppJa...  \n",
       "12  https://portaldogc.gencat.cat/utilsEADOP/AppJa...  \n",
       "13  https://portaldogc.gencat.cat/utilsEADOP/AppJa...  \n",
       "14  https://portaldogc.gencat.cat/utilsEADOP/AppJa...  \n",
       "15  https://portaldogc.gencat.cat/utilsEADOP/AppJa...  \n",
       "16  https://portaldogc.gencat.cat/utilsEADOP/AppJa...  \n",
       "17  https://portaldogc.gencat.cat/utilsEADOP/AppJa...  \n",
       "18  https://portaldogc.gencat.cat/utilsEADOP/AppJa...  \n",
       "19  https://portaldogc.gencat.cat/utilsEADOP/AppJa...  \n",
       "20  https://portaldogc.gencat.cat/utilsEADOP/AppJa...  \n",
       "21  https://portaldogc.gencat.cat/utilsEADOP/AppJa...  \n",
       "22  https://portaldogc.gencat.cat/utilsEADOP/AppJa...  \n",
       "23  https://portaldogc.gencat.cat/utilsEADOP/AppJa...  \n",
       "24  https://portaldogc.gencat.cat/utilsEADOP/AppJa...  \n",
       "25  https://portaldogc.gencat.cat/utilsEADOP/AppJa...  \n",
       "26  https://portaldogc.gencat.cat/utilsEADOP/AppJa...  \n",
       "27  https://portaldogc.gencat.cat/utilsEADOP/AppJa...  \n",
       "28  https://portaldogc.gencat.cat/utilsEADOP/AppJa...  \n",
       "29  https://portaldogc.gencat.cat/utilsEADOP/AppJa...  \n",
       "30  https://portaldogc.gencat.cat/utilsEADOP/AppJa...  \n",
       "31  https://portaldogc.gencat.cat/utilsEADOP/AppJa...  \n",
       "32  https://portaldogc.gencat.cat/utilsEADOP/AppJa...  \n",
       "33  https://portaldogc.gencat.cat/utilsEADOP/AppJa...  \n",
       "34  https://portaldogc.gencat.cat/utilsEADOP/AppJa...  \n",
       "35  https://portaldogc.gencat.cat/utilsEADOP/AppJa...  "
      ],
      "text/html": "<div>\n<style scoped>\n    .dataframe tbody tr th:only-of-type {\n        vertical-align: middle;\n    }\n\n    .dataframe tbody tr th {\n        vertical-align: top;\n    }\n\n    .dataframe thead th {\n        text-align: right;\n    }\n</style>\n<table border=\"1\" class=\"dataframe\">\n  <thead>\n    <tr style=\"text-align: right;\">\n      <th></th>\n      <th>Seccion</th>\n      <th>Item_Name</th>\n      <th>PDF_link</th>\n    </tr>\n  </thead>\n  <tbody>\n    <tr>\n      <th>0</th>\n      <td>DISPOSICIONES</td>\n      <td>RESOLUCIÓN PRE/314/2021, de 9 de febrero, por ...</td>\n      <td>https://portaldogc.gencat.cat/utilsEADOP/AppJa...</td>\n    </tr>\n    <tr>\n      <th>1</th>\n      <td>DISPOSICIONES</td>\n      <td>RESOLUCIÓN PRE/315/2021, de 9 de febrero, por ...</td>\n      <td>https://portaldogc.gencat.cat/utilsEADOP/AppJa...</td>\n    </tr>\n    <tr>\n      <th>2</th>\n      <td>DISPOSICIONES</td>\n      <td>RESOLUCIÓN PRE/316/2021, de 9 de febrero, por ...</td>\n      <td>https://portaldogc.gencat.cat/utilsEADOP/AppJa...</td>\n    </tr>\n    <tr>\n      <th>3</th>\n      <td>DISPOSICIONES</td>\n      <td>RESOLUCIÓN PRE/317/2021, de 9 de febrero, por ...</td>\n      <td>https://portaldogc.gencat.cat/utilsEADOP/AppJa...</td>\n    </tr>\n    <tr>\n      <th>4</th>\n      <td>DISPOSICIONES</td>\n      <td>RESOLUCIÓN PRE/318/2021, de 9 de febrero, por ...</td>\n      <td>https://portaldogc.gencat.cat/utilsEADOP/AppJa...</td>\n    </tr>\n    <tr>\n      <th>5</th>\n      <td>DISPOSICIONES</td>\n      <td>RESOLUCIÓN PRE/319/2021, de 9 de febrero, por ...</td>\n      <td>https://portaldogc.gencat.cat/utilsEADOP/AppJa...</td>\n    </tr>\n    <tr>\n      <th>6</th>\n      <td>DISPOSICIONES</td>\n      <td>RESOLUCIÓN PRE/320/2021, de 9 de febrero, por ...</td>\n      <td>https://portaldogc.gencat.cat/utilsEADOP/AppJa...</td>\n    </tr>\n    <tr>\n      <th>7</th>\n      <td>DISPOSICIONES</td>\n      <td>RESOLUCIÓN PRE/321/2021, de 9 de febrero, por ...</td>\n      <td>https://portaldogc.gencat.cat/utilsEADOP/AppJa...</td>\n    </tr>\n    <tr>\n      <th>8</th>\n      <td>DISPOSICIONES</td>\n      <td>RESOLUCIÓN PRE/322/2021, de 9 de febrero, por ...</td>\n      <td>https://portaldogc.gencat.cat/utilsEADOP/AppJa...</td>\n    </tr>\n    <tr>\n      <th>9</th>\n      <td>DISPOSICIONES</td>\n      <td>RESOLUCIÓN PRE/323/2021, de 9 de febrero, por ...</td>\n      <td>https://portaldogc.gencat.cat/utilsEADOP/AppJa...</td>\n    </tr>\n    <tr>\n      <th>10</th>\n      <td>DISPOSICIONES</td>\n      <td>RESOLUCIÓN PRE/324/2021, de 9 de febrero, por ...</td>\n      <td>https://portaldogc.gencat.cat/utilsEADOP/AppJa...</td>\n    </tr>\n    <tr>\n      <th>11</th>\n      <td>DISPOSICIONES</td>\n      <td>RESOLUCIÓN PRE/325/2021, de 9 de febrero, por ...</td>\n      <td>https://portaldogc.gencat.cat/utilsEADOP/AppJa...</td>\n    </tr>\n    <tr>\n      <th>12</th>\n      <td>DISPOSICIONES</td>\n      <td>RESOLUCIÓN PRE/326/2021, de 9 de febrero, por ...</td>\n      <td>https://portaldogc.gencat.cat/utilsEADOP/AppJa...</td>\n    </tr>\n    <tr>\n      <th>13</th>\n      <td>DISPOSICIONES</td>\n      <td>RESOLUCIÓN PRE/327/2021, de 9 de febrero, por ...</td>\n      <td>https://portaldogc.gencat.cat/utilsEADOP/AppJa...</td>\n    </tr>\n    <tr>\n      <th>14</th>\n      <td>DISPOSICIONES</td>\n      <td>RESOLUCIÓN PRE/328/2021, de 9 de febrero, por ...</td>\n      <td>https://portaldogc.gencat.cat/utilsEADOP/AppJa...</td>\n    </tr>\n    <tr>\n      <th>15</th>\n      <td>DISPOSICIONES</td>\n      <td>RESOLUCIÓN PRE/329/2021, de 9 de febrero, por ...</td>\n      <td>https://portaldogc.gencat.cat/utilsEADOP/AppJa...</td>\n    </tr>\n    <tr>\n      <th>16</th>\n      <td>DISPOSICIONES</td>\n      <td>RESOLUCIÓN VEH/346/2021, de 9 de febrero, de d...</td>\n      <td>https://portaldogc.gencat.cat/utilsEADOP/AppJa...</td>\n    </tr>\n    <tr>\n      <th>17</th>\n      <td>DISPOSICIONES</td>\n      <td>...</td>\n      <td>https://portaldogc.gencat.cat/utilsEADOP/AppJa...</td>\n    </tr>\n    <tr>\n      <th>18</th>\n      <td>DISPOSICIONES</td>\n      <td>RESOLUCIÓN EDU/333/2021, de 8 de febrero, por ...</td>\n      <td>https://portaldogc.gencat.cat/utilsEADOP/AppJa...</td>\n    </tr>\n    <tr>\n      <th>19</th>\n      <td>DISPOSICIONES</td>\n      <td>RESOLUCIÓN TES/339/2021, de 9 de febrero, por ...</td>\n      <td>https://portaldogc.gencat.cat/utilsEADOP/AppJa...</td>\n    </tr>\n    <tr>\n      <th>20</th>\n      <td>DISPOSICIONES</td>\n      <td>RESOLUCIÓN TES/340/2021, de 5 de febrero, de d...</td>\n      <td>https://portaldogc.gencat.cat/utilsEADOP/AppJa...</td>\n    </tr>\n    <tr>\n      <th>21</th>\n      <td>DISPOSICIONES</td>\n      <td>RESOLUCIÓN TES/341/2021, de 5 de febrero, de i...</td>\n      <td>https://portaldogc.gencat.cat/utilsEADOP/AppJa...</td>\n    </tr>\n    <tr>\n      <th>22</th>\n      <td>DISPOSICIONES</td>\n      <td>RESOLUCIÓN TES/342/2021, de 8 de febrero, por ...</td>\n      <td>https://portaldogc.gencat.cat/utilsEADOP/AppJa...</td>\n    </tr>\n    <tr>\n      <th>23</th>\n      <td>DISPOSICIONES</td>\n      <td>RESOLUCIÓN TES/343/2021, de 29 de enero, de in...</td>\n      <td>https://portaldogc.gencat.cat/utilsEADOP/AppJa...</td>\n    </tr>\n    <tr>\n      <th>24</th>\n      <td>DISPOSICIONES</td>\n      <td>EDICTO de 5 de febrero de 2021, sobre acuerdos...</td>\n      <td>https://portaldogc.gencat.cat/utilsEADOP/AppJa...</td>\n    </tr>\n    <tr>\n      <th>25</th>\n      <td>DISPOSICIONES</td>\n      <td>EDICTO de 5 de febrero de 2021, sobre un acuer...</td>\n      <td>https://portaldogc.gencat.cat/utilsEADOP/AppJa...</td>\n    </tr>\n    <tr>\n      <th>26</th>\n      <td>DISPOSICIONES</td>\n      <td>EDICTO de 5 de febrero de 2021, sobre un acuer...</td>\n      <td>https://portaldogc.gencat.cat/utilsEADOP/AppJa...</td>\n    </tr>\n    <tr>\n      <th>27</th>\n      <td>DISPOSICIONES</td>\n      <td>EDICTO de 5 de febrero de 2021, sobre acuerdos...</td>\n      <td>https://portaldogc.gencat.cat/utilsEADOP/AppJa...</td>\n    </tr>\n    <tr>\n      <th>28</th>\n      <td>DISPOSICIONES</td>\n      <td>EDICTO de 5 de febrero de 2021, sobre un acuer...</td>\n      <td>https://portaldogc.gencat.cat/utilsEADOP/AppJa...</td>\n    </tr>\n    <tr>\n      <th>29</th>\n      <td>DISPOSICIONES</td>\n      <td>...</td>\n      <td>https://portaldogc.gencat.cat/utilsEADOP/AppJa...</td>\n    </tr>\n    <tr>\n      <th>30</th>\n      <td>DISPOSICIONES</td>\n      <td>...</td>\n      <td>https://portaldogc.gencat.cat/utilsEADOP/AppJa...</td>\n    </tr>\n    <tr>\n      <th>31</th>\n      <td>DISPOSICIONES</td>\n      <td>...</td>\n      <td>https://portaldogc.gencat.cat/utilsEADOP/AppJa...</td>\n    </tr>\n    <tr>\n      <th>32</th>\n      <td>DISPOSICIONES</td>\n      <td>ORDEN TSF/35/2021, de 10 de febrero, de modifi...</td>\n      <td>https://portaldogc.gencat.cat/utilsEADOP/AppJa...</td>\n    </tr>\n    <tr>\n      <th>33</th>\n      <td>DISPOSICIONES</td>\n      <td>RESOLUCIÓN TSF/348/2021, de 10 de febrero, por...</td>\n      <td>https://portaldogc.gencat.cat/utilsEADOP/AppJa...</td>\n    </tr>\n    <tr>\n      <th>34</th>\n      <td>DISPOSICIONES</td>\n      <td>...</td>\n      <td>https://portaldogc.gencat.cat/utilsEADOP/AppJa...</td>\n    </tr>\n    <tr>\n      <th>35</th>\n      <td>DISPOSICIONES</td>\n      <td>...</td>\n      <td>https://portaldogc.gencat.cat/utilsEADOP/AppJa...</td>\n    </tr>\n  </tbody>\n</table>\n</div>"
     },
     "metadata": {},
     "execution_count": 1801
    }
   ],
   "source": [
    "### Recoge Items en Seccion Disposiciones\n",
    "\n",
    "response = requests.get(df_sumarios['URL_Seccion'][0])\n",
    "sumario_HTML = html.fromstring(response.text)\n",
    "\n",
    "#seccion = sumario_HTML.xpath('//*[@id=\"disposicions\"]/div[1]/text()')\n",
    "seccion = sumario_HTML.xpath('//*[@id=\"disposicions\"]/div/text()')\n",
    "bloques = sumario_HTML.xpath('//*[@id=\"disposicions\"]')\n",
    "df_disposiciones = pd.DataFrame(columns=['Seccion','Item_Name','PDF_link'])\n",
    "for bloque in bloques: \n",
    "    item_name = bloque.xpath('./div/p/text()')\n",
    "    #item_name = re.sub('(\\\\r|\\\\n|\\\\t)+', '', item_name[0])\n",
    "    pdf_link = bloque.xpath('./div/div/a[4]/@href')\n",
    "\n",
    "for row in range(len(pdf_link)):\n",
    "    df_disposiciones = df_disposiciones.append({'Item_Name': re.sub('(\\\\r|\\\\n|\\\\t)+', '',                                                                               item_name[row]),\n",
    "                                            'PDF_link' : pdf_link[row],\n",
    "                                            'Seccion' : seccion[0][:-1]},\n",
    "                                            ignore_index=True)\n",
    "\n",
    "df_disposiciones"
   ]
  },
  {
   "cell_type": "code",
   "execution_count": 1802,
   "metadata": {},
   "outputs": [
    {
     "output_type": "execute_result",
     "data": {
      "text/plain": [
       "['https://portaldogc.gencat.cat/utilsEADOP/AppJava/PdfProviderServlet?documentId=893241&type=01&language=es_ES',\n",
       " 'https://portaldogc.gencat.cat/utilsEADOP/AppJava/PdfProviderServlet?documentId=893201&type=01&language=es_ES',\n",
       " 'https://portaldogc.gencat.cat/utilsEADOP/AppJava/PdfProviderServlet?documentId=893190&type=01&language=es_ES',\n",
       " 'https://portaldogc.gencat.cat/utilsEADOP/AppJava/PdfProviderServlet?documentId=893168&type=01&language=es_ES',\n",
       " 'https://portaldogc.gencat.cat/utilsEADOP/AppJava/PdfProviderServlet?documentId=893183&type=01&language=es_ES',\n",
       " 'https://portaldogc.gencat.cat/utilsEADOP/AppJava/PdfProviderServlet?documentId=893231&type=01&language=es_ES',\n",
       " 'https://portaldogc.gencat.cat/utilsEADOP/AppJava/PdfProviderServlet?documentId=893234&type=01&language=es_ES',\n",
       " 'https://portaldogc.gencat.cat/utilsEADOP/AppJava/PdfProviderServlet?documentId=893134&type=01&language=es_ES',\n",
       " 'https://portaldogc.gencat.cat/utilsEADOP/AppJava/PdfProviderServlet?documentId=893260&type=01&language=es_ES',\n",
       " 'https://portaldogc.gencat.cat/utilsEADOP/AppJava/PdfProviderServlet?documentId=893192&type=01&language=es_ES',\n",
       " 'https://portaldogc.gencat.cat/utilsEADOP/AppJava/PdfProviderServlet?documentId=893199&type=01&language=es_ES',\n",
       " 'https://portaldogc.gencat.cat/utilsEADOP/AppJava/PdfProviderServlet?documentId=893137&type=01&language=es_ES',\n",
       " 'https://portaldogc.gencat.cat/utilsEADOP/AppJava/PdfProviderServlet?documentId=893255&type=01&language=es_ES',\n",
       " 'https://portaldogc.gencat.cat/utilsEADOP/AppJava/PdfProviderServlet?documentId=893230&type=01&language=es_ES',\n",
       " 'https://portaldogc.gencat.cat/utilsEADOP/AppJava/PdfProviderServlet?documentId=893239&type=01&language=es_ES',\n",
       " 'https://portaldogc.gencat.cat/utilsEADOP/AppJava/PdfProviderServlet?documentId=893161&type=01&language=es_ES',\n",
       " 'https://portaldogc.gencat.cat/utilsEADOP/AppJava/PdfProviderServlet?documentId=893195&type=01&language=es_ES',\n",
       " 'https://portaldogc.gencat.cat/utilsEADOP/AppJava/PdfProviderServlet?documentId=893262&type=01&language=es_ES',\n",
       " 'https://portaldogc.gencat.cat/utilsEADOP/AppJava/PdfProviderServlet?documentId=893131&type=01&language=es_ES',\n",
       " 'https://portaldogc.gencat.cat/utilsEADOP/AppJava/PdfProviderServlet?documentId=893139&type=01&language=es_ES',\n",
       " 'https://portaldogc.gencat.cat/utilsEADOP/AppJava/PdfProviderServlet?documentId=893237&type=01&language=es_ES',\n",
       " 'https://portaldogc.gencat.cat/utilsEADOP/AppJava/PdfProviderServlet?documentId=893228&type=01&language=es_ES',\n",
       " 'https://portaldogc.gencat.cat/utilsEADOP/AppJava/PdfProviderServlet?documentId=893160&type=01&language=es_ES',\n",
       " 'https://portaldogc.gencat.cat/utilsEADOP/AppJava/PdfProviderServlet?documentId=893167&type=01&language=es_ES',\n",
       " 'https://portaldogc.gencat.cat/utilsEADOP/AppJava/PdfProviderServlet?documentId=893133&type=01&language=es_ES',\n",
       " 'https://portaldogc.gencat.cat/utilsEADOP/AppJava/PdfProviderServlet?documentId=893210&type=01&language=es_ES',\n",
       " 'https://portaldogc.gencat.cat/utilsEADOP/AppJava/PdfProviderServlet?documentId=893175&type=01&language=es_ES',\n",
       " 'https://portaldogc.gencat.cat/utilsEADOP/AppJava/PdfProviderServlet?documentId=893156&type=01&language=es_ES',\n",
       " 'https://portaldogc.gencat.cat/utilsEADOP/AppJava/PdfProviderServlet?documentId=893149&type=01&language=es_ES',\n",
       " 'https://portaldogc.gencat.cat/utilsEADOP/AppJava/PdfProviderServlet?documentId=893258&type=01&language=es_ES',\n",
       " 'https://portaldogc.gencat.cat/utilsEADOP/AppJava/PdfProviderServlet?documentId=893236&type=01&language=es_ES',\n",
       " 'https://portaldogc.gencat.cat/utilsEADOP/AppJava/PdfProviderServlet?documentId=893176&type=01&language=es_ES',\n",
       " 'https://portaldogc.gencat.cat/utilsEADOP/AppJava/PdfProviderServlet?documentId=893150&type=01&language=es_ES',\n",
       " 'https://portaldogc.gencat.cat/utilsEADOP/AppJava/PdfProviderServlet?documentId=893152&type=01&language=es_ES',\n",
       " 'https://portaldogc.gencat.cat/utilsEADOP/AppJava/PdfProviderServlet?documentId=893247&type=01&language=es_ES',\n",
       " 'https://portaldogc.gencat.cat/utilsEADOP/AppJava/PdfProviderServlet?documentId=893215&type=01&language=es_ES']"
      ]
     },
     "metadata": {},
     "execution_count": 1802
    }
   ],
   "source": [
    "pdf_link"
   ]
  },
  {
   "source": [
    "# DOUE"
   ],
   "cell_type": "markdown",
   "metadata": {}
  },
  {
   "cell_type": "code",
   "execution_count": 1815,
   "metadata": {},
   "outputs": [
    {
     "output_type": "stream",
     "name": "stdout",
     "text": [
      "[]\n"
     ]
    }
   ],
   "source": [
    "# --------------------------------------------------------------------------------------\n",
    "# DOUE\n",
    "# --------------------------------------------------------------------------------------\n",
    "\n",
    "URL_HTML_resumen =  \"https://eur-lex.europa.eu/oj/direct-access.html?locale=es\"\n",
    "\n",
    "## carga página HTML y genera árbol\n",
    "\n",
    "response = requests.get(URL_HTML_resumen)\n",
    "tree = html.fromstring(response.text)\n",
    "\n",
    "## Recoge Nombre Secciones Sumario\n",
    "\n",
    "secciones = tree.xpath('//*[@id=\"MainContent\"]/div[2]/div[2]/div/table/tbody/tr[1]')\n",
    "#print(secciones)\n"
   ]
  },
  {
   "cell_type": "code",
   "execution_count": 1818,
   "metadata": {},
   "outputs": [],
   "source": [
    "source_dir = './DOUEs'\n",
    "target_dir = './DOUEs_Anteriores'\n",
    "    \n",
    "file_names = os.listdir(source_dir)\n",
    "    \n",
    "for file_name in file_names:\n",
    "    #shutil.move(os.path.join(source_dir, file_name), target_dir)\n",
    "    # Evita que de error si el fichero que se mueve ya existe en dir destino\n",
    "    try:\n",
    "        os.remove(os.path.join(target_dir, file_name))\n",
    "        shutil.move(os.path.join(source_dir, file_name), target_dir)\n",
    "    except OSError:\n",
    "        shutil.move(os.path.join(source_dir, file_name), target_dir)"
   ]
  },
  {
   "cell_type": "code",
   "execution_count": 1819,
   "metadata": {},
   "outputs": [],
   "source": [
    "## Recoge Valores para formar URLs Secciones Sumario\n",
    "\n",
    "df_secciones_sumarios = pd.DataFrame()\n",
    "for seccion in secciones:\n",
    "    seccion_name = seccion.xpath('./td[2]/a/text()')\n",
    "    seccion_URL = seccion.xpath('./td[2]/a/@href')\n",
    "    #seccion = re.sub('(\\\\r|\\\\n|\\\\t)+', '', seccion)\n",
    "    #print(seccion_name)\n",
    "    #print(seccion_URL)\n",
    "\n",
    "for row in range(len(seccion_name)):\n",
    "    df_secciones_sumarios = df_secciones_sumarios.append({'Seccion': seccion_name[row],\n",
    "                                            'Seccion_link' : 'https://eur-lex.europa.eu' + seccion_URL[row][4:]},\n",
    "                                            ignore_index=True)"
   ]
  },
  {
   "cell_type": "code",
   "execution_count": 1820,
   "metadata": {},
   "outputs": [
    {
     "output_type": "execute_result",
     "data": {
      "text/plain": [
       "  Seccion                                       Seccion_link\n",
       "0    L048  https://eur-lex.europa.eu/legal-content/ES/TXT..."
      ],
      "text/html": "<div>\n<style scoped>\n    .dataframe tbody tr th:only-of-type {\n        vertical-align: middle;\n    }\n\n    .dataframe tbody tr th {\n        vertical-align: top;\n    }\n\n    .dataframe thead th {\n        text-align: right;\n    }\n</style>\n<table border=\"1\" class=\"dataframe\">\n  <thead>\n    <tr style=\"text-align: right;\">\n      <th></th>\n      <th>Seccion</th>\n      <th>Seccion_link</th>\n    </tr>\n  </thead>\n  <tbody>\n    <tr>\n      <th>0</th>\n      <td>L048</td>\n      <td>https://eur-lex.europa.eu/legal-content/ES/TXT...</td>\n    </tr>\n  </tbody>\n</table>\n</div>"
     },
     "metadata": {},
     "execution_count": 1820
    }
   ],
   "source": [
    "df_secciones_sumarios"
   ]
  },
  {
   "cell_type": "code",
   "execution_count": 1807,
   "metadata": {},
   "outputs": [
    {
     "output_type": "stream",
     "name": "stdout",
     "text": [
      "https://eur-lex.europa.eu/legal-content/ES/TXT/?uri=OJ:L:2021:048:TOC\n"
     ]
    },
    {
     "output_type": "execute_result",
     "data": {
      "text/plain": [
       "[None]"
      ]
     },
     "metadata": {},
     "execution_count": 1807
    }
   ],
   "source": [
    "[ print (row) for row in df_secciones_sumarios['Seccion_link']]"
   ]
  },
  {
   "source": [
    "DOUE_sumarios = pd.DataFrame()\n",
    "\n",
    "for URL in df_secciones_sumarios['Seccion_link']:\n",
    "    \n",
    "    ### Recoge Items en Seccion Legislación\n",
    "\n",
    "    #print(URL)\n",
    "    response = requests.get(URL)\n",
    "    sumario_HTML = html.fromstring(response.text)\n",
    "\n",
    "    documentos_Name = sumario_HTML.xpath('//*[@class=\"oj-ti-doc-dur\"]/a[1]/text()[1]')\n",
    "    documentos_URL = sumario_HTML.xpath('//*[@class=\"oj-ti-doc-dur\"]/a[1]/@href')\n",
    "\n",
    "    for row in range(len(documentos_Name)):\n",
    "        DOUE_sumarios = DOUE_sumarios.append({'Seccion': 'L' + documentos_URL[row][-7:-4],\n",
    "                                        'Item_Title': documentos_Name[row],\n",
    "                                        'Item_Link': 'https://eur-lex.europa.eu' + documentos_URL[row][10:],\n",
    "                                        #'Item_Tag': documentos_URL[row][-45:-29],\n",
    "                                        'Item_Doc_Name': '',\n",
    "                                        'Fecha_publicacion': '',\n",
    "                                        'PDF_Link': '',\n",
    "                                        'Tags': '',\n",
    "                                        'Match_ASECORP_BBDD': ''},\n",
    "                                        ignore_index=True)\n"
   ],
   "cell_type": "code",
   "metadata": {},
   "execution_count": 1808,
   "outputs": []
  },
  {
   "cell_type": "code",
   "execution_count": 1809,
   "metadata": {},
   "outputs": [],
   "source": [
    "# documentos_URL[1][-45:-29]"
   ]
  },
  {
   "cell_type": "code",
   "execution_count": 1812,
   "metadata": {},
   "outputs": [
    {
     "output_type": "execute_result",
     "data": {
      "text/plain": [
       "Empty DataFrame\n",
       "Columns: []\n",
       "Index: []"
      ],
      "text/html": "<div>\n<style scoped>\n    .dataframe tbody tr th:only-of-type {\n        vertical-align: middle;\n    }\n\n    .dataframe tbody tr th {\n        vertical-align: top;\n    }\n\n    .dataframe thead th {\n        text-align: right;\n    }\n</style>\n<table border=\"1\" class=\"dataframe\">\n  <thead>\n    <tr style=\"text-align: right;\">\n      <th></th>\n    </tr>\n  </thead>\n  <tbody>\n  </tbody>\n</table>\n</div>"
     },
     "metadata": {},
     "execution_count": 1812
    }
   ],
   "source": [
    "DOUE_sumarios"
   ]
  },
  {
   "cell_type": "code",
   "execution_count": 1811,
   "metadata": {},
   "outputs": [
    {
     "output_type": "error",
     "ename": "KeyError",
     "evalue": "'Item_Link'",
     "traceback": [
      "\u001b[0;31m---------------------------------------------------------------------------\u001b[0m",
      "\u001b[0;31mKeyError\u001b[0m                                  Traceback (most recent call last)",
      "\u001b[0;32m~/miniconda3/lib/python3.8/site-packages/pandas/core/indexes/base.py\u001b[0m in \u001b[0;36mget_loc\u001b[0;34m(self, key, method, tolerance)\u001b[0m\n\u001b[1;32m   2897\u001b[0m             \u001b[0;32mtry\u001b[0m\u001b[0;34m:\u001b[0m\u001b[0;34m\u001b[0m\u001b[0;34m\u001b[0m\u001b[0m\n\u001b[0;32m-> 2898\u001b[0;31m                 \u001b[0;32mreturn\u001b[0m \u001b[0mself\u001b[0m\u001b[0;34m.\u001b[0m\u001b[0m_engine\u001b[0m\u001b[0;34m.\u001b[0m\u001b[0mget_loc\u001b[0m\u001b[0;34m(\u001b[0m\u001b[0mcasted_key\u001b[0m\u001b[0;34m)\u001b[0m\u001b[0;34m\u001b[0m\u001b[0;34m\u001b[0m\u001b[0m\n\u001b[0m\u001b[1;32m   2899\u001b[0m             \u001b[0;32mexcept\u001b[0m \u001b[0mKeyError\u001b[0m \u001b[0;32mas\u001b[0m \u001b[0merr\u001b[0m\u001b[0;34m:\u001b[0m\u001b[0;34m\u001b[0m\u001b[0;34m\u001b[0m\u001b[0m\n",
      "\u001b[0;32mpandas/_libs/index.pyx\u001b[0m in \u001b[0;36mpandas._libs.index.IndexEngine.get_loc\u001b[0;34m()\u001b[0m\n",
      "\u001b[0;32mpandas/_libs/index.pyx\u001b[0m in \u001b[0;36mpandas._libs.index.IndexEngine.get_loc\u001b[0;34m()\u001b[0m\n",
      "\u001b[0;32mpandas/_libs/hashtable_class_helper.pxi\u001b[0m in \u001b[0;36mpandas._libs.hashtable.PyObjectHashTable.get_item\u001b[0;34m()\u001b[0m\n",
      "\u001b[0;32mpandas/_libs/hashtable_class_helper.pxi\u001b[0m in \u001b[0;36mpandas._libs.hashtable.PyObjectHashTable.get_item\u001b[0;34m()\u001b[0m\n",
      "\u001b[0;31mKeyError\u001b[0m: 'Item_Link'",
      "\nThe above exception was the direct cause of the following exception:\n",
      "\u001b[0;31mKeyError\u001b[0m                                  Traceback (most recent call last)",
      "\u001b[0;32m<ipython-input-1811-562fb9271258>\u001b[0m in \u001b[0;36m<module>\u001b[0;34m\u001b[0m\n\u001b[0;32m----> 1\u001b[0;31m \u001b[0mprint\u001b[0m\u001b[0;34m(\u001b[0m\u001b[0mDOUE_sumarios\u001b[0m\u001b[0;34m[\u001b[0m\u001b[0;34m'Item_Link'\u001b[0m\u001b[0;34m]\u001b[0m\u001b[0;34m[\u001b[0m\u001b[0;36m1\u001b[0m\u001b[0;34m]\u001b[0m\u001b[0;34m)\u001b[0m\u001b[0;34m\u001b[0m\u001b[0;34m\u001b[0m\u001b[0m\n\u001b[0m",
      "\u001b[0;32m~/miniconda3/lib/python3.8/site-packages/pandas/core/frame.py\u001b[0m in \u001b[0;36m__getitem__\u001b[0;34m(self, key)\u001b[0m\n\u001b[1;32m   2904\u001b[0m             \u001b[0;32mif\u001b[0m \u001b[0mself\u001b[0m\u001b[0;34m.\u001b[0m\u001b[0mcolumns\u001b[0m\u001b[0;34m.\u001b[0m\u001b[0mnlevels\u001b[0m \u001b[0;34m>\u001b[0m \u001b[0;36m1\u001b[0m\u001b[0;34m:\u001b[0m\u001b[0;34m\u001b[0m\u001b[0;34m\u001b[0m\u001b[0m\n\u001b[1;32m   2905\u001b[0m                 \u001b[0;32mreturn\u001b[0m \u001b[0mself\u001b[0m\u001b[0;34m.\u001b[0m\u001b[0m_getitem_multilevel\u001b[0m\u001b[0;34m(\u001b[0m\u001b[0mkey\u001b[0m\u001b[0;34m)\u001b[0m\u001b[0;34m\u001b[0m\u001b[0;34m\u001b[0m\u001b[0m\n\u001b[0;32m-> 2906\u001b[0;31m             \u001b[0mindexer\u001b[0m \u001b[0;34m=\u001b[0m \u001b[0mself\u001b[0m\u001b[0;34m.\u001b[0m\u001b[0mcolumns\u001b[0m\u001b[0;34m.\u001b[0m\u001b[0mget_loc\u001b[0m\u001b[0;34m(\u001b[0m\u001b[0mkey\u001b[0m\u001b[0;34m)\u001b[0m\u001b[0;34m\u001b[0m\u001b[0;34m\u001b[0m\u001b[0m\n\u001b[0m\u001b[1;32m   2907\u001b[0m             \u001b[0;32mif\u001b[0m \u001b[0mis_integer\u001b[0m\u001b[0;34m(\u001b[0m\u001b[0mindexer\u001b[0m\u001b[0;34m)\u001b[0m\u001b[0;34m:\u001b[0m\u001b[0;34m\u001b[0m\u001b[0;34m\u001b[0m\u001b[0m\n\u001b[1;32m   2908\u001b[0m                 \u001b[0mindexer\u001b[0m \u001b[0;34m=\u001b[0m \u001b[0;34m[\u001b[0m\u001b[0mindexer\u001b[0m\u001b[0;34m]\u001b[0m\u001b[0;34m\u001b[0m\u001b[0;34m\u001b[0m\u001b[0m\n",
      "\u001b[0;32m~/miniconda3/lib/python3.8/site-packages/pandas/core/indexes/base.py\u001b[0m in \u001b[0;36mget_loc\u001b[0;34m(self, key, method, tolerance)\u001b[0m\n\u001b[1;32m   2898\u001b[0m                 \u001b[0;32mreturn\u001b[0m \u001b[0mself\u001b[0m\u001b[0;34m.\u001b[0m\u001b[0m_engine\u001b[0m\u001b[0;34m.\u001b[0m\u001b[0mget_loc\u001b[0m\u001b[0;34m(\u001b[0m\u001b[0mcasted_key\u001b[0m\u001b[0;34m)\u001b[0m\u001b[0;34m\u001b[0m\u001b[0;34m\u001b[0m\u001b[0m\n\u001b[1;32m   2899\u001b[0m             \u001b[0;32mexcept\u001b[0m \u001b[0mKeyError\u001b[0m \u001b[0;32mas\u001b[0m \u001b[0merr\u001b[0m\u001b[0;34m:\u001b[0m\u001b[0;34m\u001b[0m\u001b[0;34m\u001b[0m\u001b[0m\n\u001b[0;32m-> 2900\u001b[0;31m                 \u001b[0;32mraise\u001b[0m \u001b[0mKeyError\u001b[0m\u001b[0;34m(\u001b[0m\u001b[0mkey\u001b[0m\u001b[0;34m)\u001b[0m \u001b[0;32mfrom\u001b[0m \u001b[0merr\u001b[0m\u001b[0;34m\u001b[0m\u001b[0;34m\u001b[0m\u001b[0m\n\u001b[0m\u001b[1;32m   2901\u001b[0m \u001b[0;34m\u001b[0m\u001b[0m\n\u001b[1;32m   2902\u001b[0m         \u001b[0;32mif\u001b[0m \u001b[0mtolerance\u001b[0m \u001b[0;32mis\u001b[0m \u001b[0;32mnot\u001b[0m \u001b[0;32mNone\u001b[0m\u001b[0;34m:\u001b[0m\u001b[0;34m\u001b[0m\u001b[0;34m\u001b[0m\u001b[0m\n",
      "\u001b[0;31mKeyError\u001b[0m: 'Item_Link'"
     ]
    }
   ],
   "source": [
    "print(DOUE_sumarios['Item_Link'][1])"
   ]
  },
  {
   "cell_type": "code",
   "execution_count": null,
   "metadata": {},
   "outputs": [],
   "source": [
    "def save_txt(txt, path):\n",
    "    with open(path, 'w') as f:\n",
    "        f.write(txt)\n"
   ]
  },
  {
   "cell_type": "code",
   "execution_count": null,
   "metadata": {},
   "outputs": [],
   "source": [
    "documentos_FileName = sumario_HTML.xpath('//*[@class=\"DocumentTitle pull-left\"]/text()')"
   ]
  },
  {
   "cell_type": "code",
   "execution_count": null,
   "metadata": {
    "tags": []
   },
   "outputs": [],
   "source": [
    "row = 0\n",
    "for link in DOUE_sumarios['Item_Link']:\n",
    "    sumario_Text = []\n",
    "    ### Recoge PDF link en Items Legislación\n",
    "\n",
    "    response = requests.get(link)\n",
    "    sumario_HTML = html.fromstring(response.text)\n",
    "\n",
    "    PDF_Link = sumario_HTML.xpath('//*[@id=\"format_language_table_PDF_ES\"]/@href')\n",
    "    DOUE_sumarios['PDF_Link'][row] = 'https://eur-lex.europa.eu' + PDF_Link[0][10:]\n",
    "\n",
    "    Item_Doc_Name = sumario_HTML.xpath('//*[@class=\"DocumentTitle pull-left\"]/text()')[0][9:]\n",
    "    DOUE_sumarios['Item_Doc_Name'][row] = Item_Doc_Name\n",
    "\n",
    "    #Item_Fecha = str(sumario_HTML.xpath('//*[@class=\"oj-hd-date\"]/text()'))\n",
    "    #Item_Fecha = datetime.strptime(str(raiz.xpath('//*[@class=\"oj-hd-date\"]/text()'))[0:-2],\"%d.%m.%Y\")\n",
    "    Item_Fecha = re.findall('[0-9]+\\.[0-9]+\\.[0-9]+', str(sumario_HTML.xpath('//*[@class=\"oj-hd-date\"]/text()')))\n",
    "    DOUE_sumarios['Fecha_publicacion'][row] = datetime.strptime(str(Item_Fecha)[2:-2],\"%d.%m.%Y\").date()\n",
    "\n",
    "    ### Recoge Texto de Items\n",
    "    \n",
    "    Item_Text = sumario_HTML.xpath('//*[@class=\"oj-normal\"]/text()')\n",
    "    \n",
    "    #[ sumario_Text.append(re.sub('(\\\\r||\\\\n\\\\t|\\\\xa0)+', '', item)) for item in Item_Text ]\n",
    "    [ sumario_Text.append(item) for item in Item_Text ]\n",
    "   \n",
    "    ### Sustituye caracteres 'n.' por 'n.º' ya que al importar de HTML se pierde el caracter º\n",
    "\n",
    "    sumario = \"\".join(sumario_Text).replace(' n.',' n.º')\n",
    "\n",
    "    ### Busca tags en texto\n",
    "\n",
    "    DOUE_sumarios['Tags'][row] = list(set(re.findall('|'.join(pattern), sumario, flags=re.IGNORECASE)))\n",
    "\n",
    "    ### Salva texto de Items en formato TXT\n",
    "\n",
    "    save_txt(sumario, './DOUEs/Resumen-DOUE-' + Item_Doc_Name + '.txt')\n",
    "    #print(sumario)\n",
    "    #print('./DOUEs/Resumen-DOUE-' + Item_Doc_Name + '.txt')\n",
    "    #print(Item_Doc_Name)\n",
    "\n",
    "    #print(list(set(re.findall('|'.join(pattern), sumario, flags=re.IGNORECASE))))\n",
    "\n",
    "    row += 1\n"
   ]
  },
  {
   "cell_type": "code",
   "execution_count": null,
   "metadata": {},
   "outputs": [],
   "source": [
    "DOUE_sumarios"
   ]
  },
  {
   "cell_type": "code",
   "execution_count": null,
   "metadata": {},
   "outputs": [],
   "source": [
    "### Ordena Columnas\n",
    "DOUE_sumarios = DOUE_sumarios[['Seccion', 'Item_Doc_Name', 'Fecha_publicacion', 'PDF_Link', 'Item_Title', 'Item_Link', 'Tags', 'Match_ASECORP_BBDD']]\n",
    "DOUE_sumarios"
   ]
  },
  {
   "cell_type": "code",
   "execution_count": null,
   "metadata": {},
   "outputs": [],
   "source": [
    "### Crea lista plana de Tags sin duplicados\n",
    "DOUE_flat_list = list(set([item for row in DOUE_sumarios['Tags'] for item in row ]))"
   ]
  },
  {
   "cell_type": "code",
   "execution_count": null,
   "metadata": {},
   "outputs": [],
   "source": [
    "print (DOUE_flat_list)"
   ]
  },
  {
   "cell_type": "code",
   "execution_count": null,
   "metadata": {},
   "outputs": [],
   "source": [
    "## Busca coincidencias entre lista boletines BOEs explorados y lista boletines de BBDD ASECORP\n",
    "list(set(DOUE_flat_list) & set(boletin_ASECORP_flat_list))"
   ]
  },
  {
   "cell_type": "code",
   "execution_count": null,
   "metadata": {},
   "outputs": [],
   "source": [
    "for i, row_to_compare in DOUE_sumarios.iterrows():\n",
    "    for j, row_comparing in ASECORP_BBDD_BOE.iterrows():\n",
    "        if set(row_to_compare['Tags']) & set(row_comparing['Tags']):\n",
    "            DOUE_sumarios['Match_ASECORP_BBDD'][i].append (ASECORP_BBDD_BOE['Codigo'][j])\n",
    "            print(str(set(row_to_compare['Tags']) & set(row_comparing['Tags'])) + ' ' + str(row_comparing['Codigo']))"
   ]
  },
  {
   "cell_type": "code",
   "execution_count": null,
   "metadata": {},
   "outputs": [],
   "source": [
    "DOUE_sumarios"
   ]
  },
  {
   "cell_type": "code",
   "execution_count": null,
   "metadata": {},
   "outputs": [],
   "source": [
    "DOUE_sumarios_CSV = pd.DataFrame()\n",
    "DOUE_sumarios_CSV = DOUE_sumarios"
   ]
  },
  {
   "cell_type": "code",
   "execution_count": null,
   "metadata": {},
   "outputs": [],
   "source": [
    "# Compone y genera enlace a PDF del DOUE correspondiente\n",
    "DOUE_sumarios_CSV['PDF_Link'] = '=HIPERVINCULO(' + '\"' + DOUE_sumarios['PDF_Link'] + '\";' + '\"' + \"Doc: \" + DOUE_sumarios['Item_Doc_Name'] + '\")'"
   ]
  },
  {
   "cell_type": "code",
   "execution_count": null,
   "metadata": {},
   "outputs": [],
   "source": [
    "DOUE_sumarios_CSV"
   ]
  },
  {
   "cell_type": "code",
   "execution_count": null,
   "metadata": {},
   "outputs": [],
   "source": [
    "DOUE_sumarios_CSV['PDF_Link'][1]"
   ]
  },
  {
   "cell_type": "code",
   "execution_count": 1822,
   "metadata": {},
   "outputs": [],
   "source": [
    "### Genera fichero CSV\n",
    "\n",
    "DOUE_sumarios_CSV.to_csv(\"./ASECORP/Resultados_Matching_DOUE_\" + today.strftime(\"%Y%m%d\") + \".csv\", index=False) "
   ]
  },
  {
   "cell_type": "code",
   "execution_count": null,
   "metadata": {},
   "outputs": [],
   "source": []
  }
 ]
}