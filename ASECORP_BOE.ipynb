{
 "metadata": {
  "language_info": {
   "codemirror_mode": {
    "name": "ipython",
    "version": 3
   },
   "file_extension": ".py",
   "mimetype": "text/x-python",
   "name": "python",
   "nbconvert_exporter": "python",
   "pygments_lexer": "ipython3",
   "version": "3.8.5-final"
  },
  "orig_nbformat": 2,
  "kernelspec": {
   "name": "python3",
   "display_name": "Python 3",
   "language": "python"
  }
 },
 "nbformat": 4,
 "nbformat_minor": 2,
 "cells": [
  {
   "cell_type": "code",
   "execution_count": 1,
   "metadata": {},
   "outputs": [],
   "source": [
    "from lxml import etree, html\n",
    "from lxml.html.clean import clean_html\n",
    "import pandas as pd\n",
    "from datetime import date, datetime\n",
    "import requests\n",
    "import re\n",
    "import os\n",
    "import shutil"
   ]
  },
  {
   "source": [
    "# Mueve todos los fichero del directorio de trabajo a otro de archivo"
   ],
   "cell_type": "markdown",
   "metadata": {}
  },
  {
   "cell_type": "code",
   "execution_count": 2,
   "metadata": {},
   "outputs": [],
   "source": [
    "source_dir = './BOEs'\n",
    "target_dir = './BOEs_Anteriores'\n",
    "    \n",
    "file_names = os.listdir(source_dir)\n",
    "    \n",
    "for file_name in file_names:\n",
    "    #shutil.move(os.path.join(source_dir, file_name), target_dir)\n",
    "    # Evita que de error si el fichero que se mueve ya existe en dir destino\n",
    "    try:\n",
    "        os.remove(os.path.join(target_dir, file_name))\n",
    "        shutil.move(os.path.join(source_dir, file_name), target_dir)\n",
    "    except OSError:\n",
    "        shutil.move(os.path.join(source_dir, file_name), target_dir)"
   ]
  },
  {
   "source": [
    "# Recoge resumen diario del BOE de hoy"
   ],
   "cell_type": "markdown",
   "metadata": {}
  },
  {
   "cell_type": "code",
   "execution_count": 3,
   "metadata": {},
   "outputs": [
    {
     "output_type": "stream",
     "name": "stdout",
     "text": [
      "Fecha de Hoy = 20210218\ndia = 18\nmes = 02\naño = 2021\n18/02/2021\n"
     ]
    }
   ],
   "source": [
    "\n",
    "today = date.today()\n",
    "\n",
    "# dd/mm/YYYY\n",
    "hoy = today.strftime(\"%Y%m%d\")\n",
    "print(\"Fecha de Hoy =\", hoy)\n",
    "\n",
    "# dd\n",
    "d = today.strftime(\"%d\")\n",
    "print(\"dia =\", d)\n",
    "\n",
    "# mm\n",
    "m = today.strftime(\"%m\")\n",
    "print(\"mes =\", m)\n",
    "\n",
    "# YYYY\n",
    "Y = today.strftime(\"%Y\")\n",
    "print(\"año =\", Y)\n",
    "\n",
    "print(today.strftime(\"%d/%m/%Y\"))"
   ]
  },
  {
   "cell_type": "code",
   "execution_count": 4,
   "metadata": {},
   "outputs": [],
   "source": [
    "URL_XML_resumen =  \"https://www.boe.es/diario_boe/xml.php?id=BOE-S-\" + str(hoy)"
   ]
  },
  {
   "cell_type": "code",
   "execution_count": 5,
   "metadata": {},
   "outputs": [
    {
     "output_type": "execute_result",
     "data": {
      "text/plain": [
       "'https://www.boe.es/diario_boe/xml.php?id=BOE-S-20210218'"
      ]
     },
     "metadata": {},
     "execution_count": 5
    }
   ],
   "source": [
    "URL_XML_resumen"
   ]
  },
  {
   "cell_type": "code",
   "execution_count": 6,
   "metadata": {},
   "outputs": [],
   "source": [
    "url = URL_XML_resumen\n",
    "r = requests.get(url)"
   ]
  },
  {
   "cell_type": "code",
   "execution_count": 7,
   "metadata": {},
   "outputs": [],
   "source": [
    "def save_html(html, path):\n",
    "    with open(path, 'wb') as f:\n",
    "        f.write(html)\n",
    "\n",
    "save_html(r.content, './BOEs/Resumen-BOE-' + hoy + '.xml')"
   ]
  },
  {
   "cell_type": "code",
   "execution_count": 8,
   "metadata": {},
   "outputs": [],
   "source": [
    "resumen = etree.parse('./BOEs/Resumen-BOE-' + hoy + '.xml')"
   ]
  },
  {
   "cell_type": "code",
   "execution_count": 9,
   "metadata": {},
   "outputs": [],
   "source": [
    "raiz=resumen.getroot()\n",
    "raiz.tag\n",
    "raiz_sumario = raiz"
   ]
  },
  {
   "cell_type": "code",
   "execution_count": 10,
   "metadata": {},
   "outputs": [
    {
     "output_type": "execute_result",
     "data": {
      "text/plain": [
       "[]"
      ]
     },
     "metadata": {},
     "execution_count": 10
    }
   ],
   "source": [
    "seccion = raiz.findall(\"sumario/diario/seccion\")\n",
    "seccion"
   ]
  },
  {
   "cell_type": "code",
   "execution_count": 11,
   "metadata": {},
   "outputs": [
    {
     "output_type": "stream",
     "name": "stdout",
     "text": [
      "['I. Disposiciones generales']\n['II. Autoridades y personal. - A. Nombramientos, situaciones e incidencias']\n['II. Autoridades y personal. - B. Oposiciones y concursos']\n['III. Otras disposiciones']\n['IV. Administración de Justicia']\n['V. Anuncios. - A. Contratación del Sector Público']\n['V. Anuncios. - B. Otros anuncios oficiales']\n['V. Anuncios. - C. Anuncios particulares']\n"
     ]
    }
   ],
   "source": [
    "for seccion in raiz.xpath('//seccion'):\n",
    "    nombre_seccion = seccion.xpath('@nombre')\n",
    "    print(nombre_seccion)"
   ]
  },
  {
   "cell_type": "code",
   "execution_count": 12,
   "metadata": {},
   "outputs": [],
   "source": [
    "secciones = raiz.findall(\"sumario/diario/seccion\")\n",
    "for seccion in secciones:\n",
    "    print(seccion.text)"
   ]
  },
  {
   "cell_type": "code",
   "execution_count": 13,
   "metadata": {},
   "outputs": [],
   "source": [
    "tabla_resumen = pd.DataFrame()"
   ]
  },
  {
   "cell_type": "code",
   "execution_count": 14,
   "metadata": {},
   "outputs": [],
   "source": [
    "for seccion in raiz.xpath('//seccion[contains(@nombre, \"I. Disposiciones generales\")]'):\n",
    "    # el = doc.xpath(\"//div[contains(@class, 'channel') and not(contains(@class, 'disabled'))]\")\n",
    "    nombre_seccion = seccion.xpath('@nombre')\n",
    "\n",
    "    for departamento in seccion:\n",
    "        nombre_departamento = departamento.xpath('@nombre') \n",
    "\n",
    "        for epigrafe in departamento:\n",
    "            nombre_epigrafe = epigrafe.xpath('@nombre')\n",
    "\n",
    "            for item in epigrafe:\n",
    "                item_id = item.xpath('@id')\n",
    "                item_name = item.xpath('.//titulo/text()') \n",
    "\n",
    "                item_urlXml = \"https://www.boe.es\" + str(item.xpath('.//urlXml/text()'))[2:-2]\n",
    "\n",
    "                tabla_resumen = tabla_resumen.append({'Seccion': nombre_seccion, \n",
    "                                                      'Departamento': nombre_departamento, \n",
    "                                                      'Epigrafe' : nombre_epigrafe,\n",
    "                                                      'Item_id': item_id, \n",
    "                                                      'Item_Nombre' : item_name, \n",
    "                                                      'Item_URL_XML' : item_urlXml},\n",
    "                                                      ignore_index=True)\n"
   ]
  },
  {
   "cell_type": "code",
   "execution_count": 15,
   "metadata": {},
   "outputs": [
    {
     "output_type": "execute_result",
     "data": {
      "text/plain": [
       "                                        Departamento  \\\n",
       "0                              [JEFATURA DEL ESTADO]   \n",
       "1  [MINISTERIO DE ASUNTOS EXTERIORES, UNIÓN EUROP...   \n",
       "2  [MINISTERIO DE ASUNTOS EXTERIORES, UNIÓN EUROP...   \n",
       "3  [MINISTERIO DE ASUNTOS EXTERIORES, UNIÓN EUROP...   \n",
       "4                           [MINISTERIO DE HACIENDA]   \n",
       "5                            [MINISTERIO DE SANIDAD]   \n",
       "\n",
       "                                          Epigrafe  \\\n",
       "0                               [Medidas urgentes]   \n",
       "1       [Acuerdos internacionales administrativos]   \n",
       "2       [Acuerdos internacionales administrativos]   \n",
       "3       [Acuerdos internacionales administrativos]   \n",
       "4  [Corporaciones locales. Información tributaria]   \n",
       "5                             [Medidas sanitarias]   \n",
       "\n",
       "                                         Item_Nombre  \\\n",
       "0  [Corrección de errores del Real Decreto-ley 3/...   \n",
       "1  [Acta de la VIII Reunión de la Comisión Mixta ...   \n",
       "2  [Acuerdo entre la Organización Mundial del Tur...   \n",
       "3  [Acuerdo Internacional Administrativo entre la...   \n",
       "4  [Resolución de 10 de febrero de 2021, de la Se...   \n",
       "5  [Orden SND/133/2021, de 17 de febrero, sobre l...   \n",
       "\n",
       "                                        Item_URL_XML            Item_id  \\\n",
       "0  https://www.boe.es/diario_boe/xml.php?id=BOE-A...  [BOE-A-2021-2453]   \n",
       "1  https://www.boe.es/diario_boe/xml.php?id=BOE-A...  [BOE-A-2021-2454]   \n",
       "2  https://www.boe.es/diario_boe/xml.php?id=BOE-A...  [BOE-A-2021-2455]   \n",
       "3  https://www.boe.es/diario_boe/xml.php?id=BOE-A...  [BOE-A-2021-2456]   \n",
       "4  https://www.boe.es/diario_boe/xml.php?id=BOE-A...  [BOE-A-2021-2457]   \n",
       "5  https://www.boe.es/diario_boe/xml.php?id=BOE-A...  [BOE-A-2021-2458]   \n",
       "\n",
       "                        Seccion  \n",
       "0  [I. Disposiciones generales]  \n",
       "1  [I. Disposiciones generales]  \n",
       "2  [I. Disposiciones generales]  \n",
       "3  [I. Disposiciones generales]  \n",
       "4  [I. Disposiciones generales]  \n",
       "5  [I. Disposiciones generales]  "
      ],
      "text/html": "<div>\n<style scoped>\n    .dataframe tbody tr th:only-of-type {\n        vertical-align: middle;\n    }\n\n    .dataframe tbody tr th {\n        vertical-align: top;\n    }\n\n    .dataframe thead th {\n        text-align: right;\n    }\n</style>\n<table border=\"1\" class=\"dataframe\">\n  <thead>\n    <tr style=\"text-align: right;\">\n      <th></th>\n      <th>Departamento</th>\n      <th>Epigrafe</th>\n      <th>Item_Nombre</th>\n      <th>Item_URL_XML</th>\n      <th>Item_id</th>\n      <th>Seccion</th>\n    </tr>\n  </thead>\n  <tbody>\n    <tr>\n      <th>0</th>\n      <td>[JEFATURA DEL ESTADO]</td>\n      <td>[Medidas urgentes]</td>\n      <td>[Corrección de errores del Real Decreto-ley 3/...</td>\n      <td>https://www.boe.es/diario_boe/xml.php?id=BOE-A...</td>\n      <td>[BOE-A-2021-2453]</td>\n      <td>[I. Disposiciones generales]</td>\n    </tr>\n    <tr>\n      <th>1</th>\n      <td>[MINISTERIO DE ASUNTOS EXTERIORES, UNIÓN EUROP...</td>\n      <td>[Acuerdos internacionales administrativos]</td>\n      <td>[Acta de la VIII Reunión de la Comisión Mixta ...</td>\n      <td>https://www.boe.es/diario_boe/xml.php?id=BOE-A...</td>\n      <td>[BOE-A-2021-2454]</td>\n      <td>[I. Disposiciones generales]</td>\n    </tr>\n    <tr>\n      <th>2</th>\n      <td>[MINISTERIO DE ASUNTOS EXTERIORES, UNIÓN EUROP...</td>\n      <td>[Acuerdos internacionales administrativos]</td>\n      <td>[Acuerdo entre la Organización Mundial del Tur...</td>\n      <td>https://www.boe.es/diario_boe/xml.php?id=BOE-A...</td>\n      <td>[BOE-A-2021-2455]</td>\n      <td>[I. Disposiciones generales]</td>\n    </tr>\n    <tr>\n      <th>3</th>\n      <td>[MINISTERIO DE ASUNTOS EXTERIORES, UNIÓN EUROP...</td>\n      <td>[Acuerdos internacionales administrativos]</td>\n      <td>[Acuerdo Internacional Administrativo entre la...</td>\n      <td>https://www.boe.es/diario_boe/xml.php?id=BOE-A...</td>\n      <td>[BOE-A-2021-2456]</td>\n      <td>[I. Disposiciones generales]</td>\n    </tr>\n    <tr>\n      <th>4</th>\n      <td>[MINISTERIO DE HACIENDA]</td>\n      <td>[Corporaciones locales. Información tributaria]</td>\n      <td>[Resolución de 10 de febrero de 2021, de la Se...</td>\n      <td>https://www.boe.es/diario_boe/xml.php?id=BOE-A...</td>\n      <td>[BOE-A-2021-2457]</td>\n      <td>[I. Disposiciones generales]</td>\n    </tr>\n    <tr>\n      <th>5</th>\n      <td>[MINISTERIO DE SANIDAD]</td>\n      <td>[Medidas sanitarias]</td>\n      <td>[Orden SND/133/2021, de 17 de febrero, sobre l...</td>\n      <td>https://www.boe.es/diario_boe/xml.php?id=BOE-A...</td>\n      <td>[BOE-A-2021-2458]</td>\n      <td>[I. Disposiciones generales]</td>\n    </tr>\n  </tbody>\n</table>\n</div>"
     },
     "metadata": {},
     "execution_count": 15
    }
   ],
   "source": [
    "tabla_resumen.sort_values('Item_id')"
   ]
  },
  {
   "source": [
    "# Descarga ficheros XML asociados"
   ],
   "cell_type": "markdown",
   "metadata": {}
  },
  {
   "cell_type": "code",
   "execution_count": 16,
   "metadata": {},
   "outputs": [
    {
     "output_type": "stream",
     "name": "stdout",
     "text": [
      "['https://www.boe.es/diario_boe/xml.php?id', 'BOE-A-2021-2453']\n",
      "<re.Match object; span=(0, 15), match='BOE-A-2021-2453'>\n",
      "['https://www.boe.es/diario_boe/xml.php?id', 'BOE-A-2021-2454']\n",
      "<re.Match object; span=(0, 15), match='BOE-A-2021-2454'>\n",
      "['https://www.boe.es/diario_boe/xml.php?id', 'BOE-A-2021-2455']\n",
      "<re.Match object; span=(0, 15), match='BOE-A-2021-2455'>\n",
      "['https://www.boe.es/diario_boe/xml.php?id', 'BOE-A-2021-2456']\n",
      "<re.Match object; span=(0, 15), match='BOE-A-2021-2456'>\n",
      "['https://www.boe.es/diario_boe/xml.php?id', 'BOE-A-2021-2457']\n",
      "<re.Match object; span=(0, 15), match='BOE-A-2021-2457'>\n",
      "['https://www.boe.es/diario_boe/xml.php?id', 'BOE-A-2021-2458']\n",
      "<re.Match object; span=(0, 15), match='BOE-A-2021-2458'>\n"
     ]
    }
   ],
   "source": [
    "for item_URL in tabla_resumen['Item_URL_XML']:\n",
    "    r = requests.get(item_URL)\n",
    "    #f = './BOEs/' + item_URL[-16:] + '.xml'\n",
    "    ### Separa el número del BOE del resto de la cadena y aplica expresión REGEX \n",
    "    print(item_URL.split('='))\n",
    "    print(re.match('BOE\\-A\\-[0-9]+\\-[0-9]+',item_URL.split('=')[1]))\n",
    "    filename = re.match('BOE\\-A\\-[0-9]+\\-[0-9]+',item_URL.split('=')[1]).group()\n",
    "    f = './BOEs/' + filename + '.xml'\n",
    "    save_html(r.content, f)"
   ]
  },
  {
   "source": [
    "# Importa de nuevo los XML generados"
   ],
   "cell_type": "markdown",
   "metadata": {}
  },
  {
   "cell_type": "code",
   "execution_count": 17,
   "metadata": {},
   "outputs": [
    {
     "output_type": "stream",
     "name": "stdout",
     "text": [
      "['./BOEs/BOE-A-2021-2454.xml', './BOEs/BOE-A-2021-2455.xml', './BOEs/BOE-A-2021-2457.xml', './BOEs/BOE-A-2021-2456.xml', './BOEs/BOE-A-2021-2453.xml', './BOEs/BOE-A-2021-2458.xml']\n"
     ]
    }
   ],
   "source": [
    "\n",
    "import glob\n",
    "BOEs = glob.glob('./BOEs/BOE*.xml')\n",
    "print (BOEs)"
   ]
  },
  {
   "source": [
    "# Genera DF con datos Análisis de cada XML"
   ],
   "cell_type": "markdown",
   "metadata": {}
  },
  {
   "cell_type": "code",
   "execution_count": 18,
   "metadata": {},
   "outputs": [],
   "source": [
    "tabla_analisis = pd.DataFrame()\n",
    "\n",
    "for BOE in BOEs:\n",
    "    #print (BOE)\n",
    "    BOE_XML = etree.parse(BOE)\n",
    "    raiz=BOE_XML.getroot()\n",
    "\n",
    "    materias = [materia.text for materia in raiz.findall('analisis/materias/materia')]\n",
    "    alertas = [alerta.text for alerta in raiz.findall('analisis/alertas/alerta')]\n",
    "    \n",
    "    referencias = [str(referencia.xpath('@referencia')).replace(\"['\",'').replace(\"']\",'') for referencia in raiz.findall('analisis/referencias/anteriores/anterior')]\n",
    "    referencias_palabras = [referencia.text for referencia in raiz.findall('analisis/referencias/anteriores/anterior/palabra')]\n",
    "    referencias_texto = [referencia.text for referencia in raiz.findall('analisis/referencias/anteriores/anterior/texto')]\n",
    "\n",
    "    Item_Id = raiz.xpath(\".//identificador/text()\")\n",
    "    Item_name = raiz.xpath('.//titulo/text()') \n",
    "\n",
    "    Fecha_Publicacion = datetime.strptime(str(raiz.xpath('.//fecha_publicacion/text()'))[2:-2],\"%Y%m%d\")\n",
    "    #Fecha_Publicacion = str(raiz.xpath('.//fecha_publicacion/text()'))[2:-2]\n",
    " \n",
    "    tabla_analisis = tabla_analisis.append({'Item_id': Item_Id,\n",
    "                                            'Item_Name' : Item_name,\n",
    "                                            'Fecha_publicacion' : Fecha_Publicacion,\n",
    "                                            'Materias' : materias,\n",
    "                                            'Alertas' : alertas,\n",
    "                                            'Referencias' : referencias,\n",
    "                                            'Referencias_palabra' : referencias_palabras,\n",
    "                                            'Referencias_texto' : referencias_texto},\n",
    "                                            ignore_index=True)\n"
   ]
  },
  {
   "cell_type": "code",
   "execution_count": 19,
   "metadata": {},
   "outputs": [
    {
     "output_type": "execute_result",
     "data": {
      "text/plain": [
       "                                             Alertas Fecha_publicacion  \\\n",
       "4         [Asuntos sociales, Derecho Administrativo]        2021-02-18   \n",
       "0                       [Relaciones internacionales]        2021-02-18   \n",
       "1              [Relaciones internacionales, Turismo]        2021-02-18   \n",
       "3              [Relaciones internacionales, Turismo]        2021-02-18   \n",
       "2  [Organización de la Administración, Sistema tr...        2021-02-18   \n",
       "5                                                 []        2021-02-18   \n",
       "\n",
       "                                           Item_Name            Item_id  \\\n",
       "4  [Corrección de errores del Real Decreto-ley 3/...  [BOE-A-2021-2453]   \n",
       "0  [Acta de la VIII Reunión de la Comisión Mixta ...  [BOE-A-2021-2454]   \n",
       "1  [Acuerdo entre la Organización Mundial del Tur...  [BOE-A-2021-2455]   \n",
       "3  [Acuerdo Internacional Administrativo entre la...  [BOE-A-2021-2456]   \n",
       "2  [Resolución de 10 de febrero de 2021, de la Se...  [BOE-A-2021-2457]   \n",
       "5  [Orden SND/133/2021, de 17 de febrero, sobre l...  [BOE-A-2021-2458]   \n",
       "\n",
       "                                            Materias  \\\n",
       "4  [Asistencia social, Ayudas, Registros administ...   \n",
       "0  [Acuerdos internacionales, Ayuda al desarrollo...   \n",
       "1  [Acuerdos internacionales, Organización Mundia...   \n",
       "3  [Acuerdos internacionales, Congresos, Madrid, ...   \n",
       "2  [Administración Local, Ayuntamientos, Cesión d...   \n",
       "5                                                 []   \n",
       "\n",
       "                                         Referencias  \\\n",
       "4                 [BOE-A-2021-1529, BOE-A-2020-5493]   \n",
       "0                                                 []   \n",
       "1                 [BOE-A-2015-8565, BOE-A-1974-1937]   \n",
       "3                                  [BOE-A-2015-8565]   \n",
       "2                                 [BOE-A-2020-17339]   \n",
       "5  [BOE-A-2011-15623, BOE-A-1986-10498, BOE-A-202...   \n",
       "\n",
       "                                 Referencias_palabra  \\\n",
       "4           [CORRECCIÓN de errores, CORRIGE errores]   \n",
       "0                                                 []   \n",
       "1           [DE CONFORMIDAD con, DE CONFORMIDAD con]   \n",
       "3                               [DE CONFORMIDAD con]   \n",
       "2                               [DE CONFORMIDAD con]   \n",
       "5  [DE CONFORMIDAD con, DE CONFORMIDAD con, EN RE...   \n",
       "\n",
       "                                   Referencias_texto  \n",
       "4  [del Real Decreto-ley 3/2021, de 2 de febrero,...  \n",
       "0                                                 []  \n",
       "1  [el art. 33 del Convenio de 25 de junio de 201...  \n",
       "3               [el Convenio de 25 de junio de 2015]  \n",
       "2  [el art. 95.3 de la Ley 11/2020, de 30 de dici...  \n",
       "5  [el art. 52 de la Ley 33/2011, de 4 de octubre...  "
      ],
      "text/html": "<div>\n<style scoped>\n    .dataframe tbody tr th:only-of-type {\n        vertical-align: middle;\n    }\n\n    .dataframe tbody tr th {\n        vertical-align: top;\n    }\n\n    .dataframe thead th {\n        text-align: right;\n    }\n</style>\n<table border=\"1\" class=\"dataframe\">\n  <thead>\n    <tr style=\"text-align: right;\">\n      <th></th>\n      <th>Alertas</th>\n      <th>Fecha_publicacion</th>\n      <th>Item_Name</th>\n      <th>Item_id</th>\n      <th>Materias</th>\n      <th>Referencias</th>\n      <th>Referencias_palabra</th>\n      <th>Referencias_texto</th>\n    </tr>\n  </thead>\n  <tbody>\n    <tr>\n      <th>4</th>\n      <td>[Asuntos sociales, Derecho Administrativo]</td>\n      <td>2021-02-18</td>\n      <td>[Corrección de errores del Real Decreto-ley 3/...</td>\n      <td>[BOE-A-2021-2453]</td>\n      <td>[Asistencia social, Ayudas, Registros administ...</td>\n      <td>[BOE-A-2021-1529, BOE-A-2020-5493]</td>\n      <td>[CORRECCIÓN de errores, CORRIGE errores]</td>\n      <td>[del Real Decreto-ley 3/2021, de 2 de febrero,...</td>\n    </tr>\n    <tr>\n      <th>0</th>\n      <td>[Relaciones internacionales]</td>\n      <td>2021-02-18</td>\n      <td>[Acta de la VIII Reunión de la Comisión Mixta ...</td>\n      <td>[BOE-A-2021-2454]</td>\n      <td>[Acuerdos internacionales, Ayuda al desarrollo...</td>\n      <td>[]</td>\n      <td>[]</td>\n      <td>[]</td>\n    </tr>\n    <tr>\n      <th>1</th>\n      <td>[Relaciones internacionales, Turismo]</td>\n      <td>2021-02-18</td>\n      <td>[Acuerdo entre la Organización Mundial del Tur...</td>\n      <td>[BOE-A-2021-2455]</td>\n      <td>[Acuerdos internacionales, Organización Mundia...</td>\n      <td>[BOE-A-2015-8565, BOE-A-1974-1937]</td>\n      <td>[DE CONFORMIDAD con, DE CONFORMIDAD con]</td>\n      <td>[el art. 33 del Convenio de 25 de junio de 201...</td>\n    </tr>\n    <tr>\n      <th>3</th>\n      <td>[Relaciones internacionales, Turismo]</td>\n      <td>2021-02-18</td>\n      <td>[Acuerdo Internacional Administrativo entre la...</td>\n      <td>[BOE-A-2021-2456]</td>\n      <td>[Acuerdos internacionales, Congresos, Madrid, ...</td>\n      <td>[BOE-A-2015-8565]</td>\n      <td>[DE CONFORMIDAD con]</td>\n      <td>[el Convenio de 25 de junio de 2015]</td>\n    </tr>\n    <tr>\n      <th>2</th>\n      <td>[Organización de la Administración, Sistema tr...</td>\n      <td>2021-02-18</td>\n      <td>[Resolución de 10 de febrero de 2021, de la Se...</td>\n      <td>[BOE-A-2021-2457]</td>\n      <td>[Administración Local, Ayuntamientos, Cesión d...</td>\n      <td>[BOE-A-2020-17339]</td>\n      <td>[DE CONFORMIDAD con]</td>\n      <td>[el art. 95.3 de la Ley 11/2020, de 30 de dici...</td>\n    </tr>\n    <tr>\n      <th>5</th>\n      <td>[]</td>\n      <td>2021-02-18</td>\n      <td>[Orden SND/133/2021, de 17 de febrero, sobre l...</td>\n      <td>[BOE-A-2021-2458]</td>\n      <td>[]</td>\n      <td>[BOE-A-2011-15623, BOE-A-1986-10498, BOE-A-202...</td>\n      <td>[DE CONFORMIDAD con, DE CONFORMIDAD con, EN RE...</td>\n      <td>[el art. 52 de la Ley 33/2011, de 4 de octubre...</td>\n    </tr>\n  </tbody>\n</table>\n</div>"
     },
     "metadata": {},
     "execution_count": 19
    }
   ],
   "source": [
    "tabla_analisis.sort_values('Item_id')"
   ]
  },
  {
   "cell_type": "code",
   "execution_count": 20,
   "metadata": {},
   "outputs": [],
   "source": [
    "# Crea nueva columna vacía de tipo lista en tabla_analisis\n",
    "tabla_analisis['Referencias_completas'] = [[] for i in range(len(tabla_analisis))]\n",
    "tabla_analisis['Tags'] = [[] for i in range(len(tabla_analisis))]\n",
    "tabla_analisis['Match_ASECORP_BBDD'] = [[] for i in range(len(tabla_analisis))]\n"
   ]
  },
  {
   "cell_type": "code",
   "execution_count": 21,
   "metadata": {},
   "outputs": [],
   "source": [
    "# Define expresiones REGEX para búsqueda de leyes, decretos, etc. referenciadas anteriormente\n",
    "pattern = ['Ley [0-9]+\\/[0-9]+','Real Decreto [0-9]+\\/[0-9]+','Real Decreto Legislativo [0-9]+\\/[0-9]+','Real Decreto-ley [0-9]+\\/[0-9]+','Orden [A-Z]+\\/[0-9]+\\/[0-9]+','Orden Circular [0-9]+\\/[0-9]+','Reglamento \\(UE\\) [0-9]+\\/[0-9]+', 'Reglamento de Ejeución \\(UE\\) [0-9]+\\/[0-9]+' ,'Sentencia de [0-9]+ de [a-z]+ de [0-9]+','Sentencia [0-9]+\\/[0-9]+','Orden de [0-9]+ de [a-z]+ de [0-9]+', 'Resolución de [0-9]+ de [a-z]+ de [0-9]+','Resolución [a-z]+\\/[0-9]+\\/[0-9]+', 'Nota de Servicio [0-9]+\\/[0-9]+', 'Acuerdo multilateral M\\-[0-9]+', 'Circular [0-9]+\\/[0-9]+', 'Decisión \\(UE\\) [0-9]+\\/[0-9]+', 'Decisión de Ejecución \\(UE\\) [0-9]+\\/[0-9]+']"
   ]
  },
  {
   "cell_type": "code",
   "execution_count": 22,
   "metadata": {
    "tags": []
   },
   "outputs": [
    {
     "output_type": "stream",
     "name": "stdout",
     "text": [
      "[]\n['DE CONFORMIDAD con el art. 33 del Convenio de 25 de junio de 2015', 'DE CONFORMIDAD con al art. 3 de los Estatutos de 27 de septiembre de 1970']\n['DE CONFORMIDAD con el art. 95.3 de la Ley 11/2020, de 30 de diciembre']\n['DE CONFORMIDAD con el Convenio de 25 de junio de 2015']\n['CORRECCIÓN de errores del Real Decreto-ley 3/2021, de 2 de febrero', 'CORRIGE errores en la disposición transitoria 8 del Real Decreto-ley 20/2020, de 29 de mayo']\n['DE CONFORMIDAD con el art. 52 de la Ley 33/2011, de 4 de octubre', 'DE CONFORMIDAD con los arts. 2 y 3 de la Ley Orgánica 3/1986, de 14 de abri', 'EN RELACIÓN con la Orden PCM/79/2021, de 2 de febrero', 'CITA Real Decreto 926/2020, de 25 de octubre', 'CITA Ley 29/1998, de 13 de julio', 'CITA Real Decreto 1418/1986, de 13 de junio']\n"
     ]
    }
   ],
   "source": [
    "# Consolida las columnas Referencias_palabra y Referencias_texto en una única frase\n",
    "for i, row in tabla_analisis.iterrows():\n",
    "    for item_list in range(len(row['Referencias'])): \n",
    "        row['Referencias_completas'].append(row['Referencias_palabra'][item_list] + ' ' + row['Referencias_texto'][item_list])\n",
    "        tabla_analisis['Tags'][i] = re.findall('|'.join(pattern), str(row['Referencias_texto']), flags=re.IGNORECASE)\n",
    "    print(row['Referencias_completas'])"
   ]
  },
  {
   "cell_type": "code",
   "execution_count": 23,
   "metadata": {},
   "outputs": [
    {
     "output_type": "stream",
     "name": "stdout",
     "text": [
      "[]\n[]\n['Ley 11/2020']\n[]\n['Real Decreto-ley 3/2021', 'Real Decreto-ley 20/2020']\n['Real Decreto 1418/1986', 'Real Decreto 926/2020', 'Ley 29/1998', 'Ley 33/2011', 'Orden PCM/79/2021']\n"
     ]
    }
   ],
   "source": [
    "# Elimina Tags duplicados\n",
    "for i, row in tabla_analisis.iterrows():\n",
    "    tabla_analisis['Tags'][i] = list(set(tabla_analisis['Tags'][i]))\n",
    "    print(tabla_analisis['Tags'][i])"
   ]
  },
  {
   "cell_type": "code",
   "execution_count": 24,
   "metadata": {},
   "outputs": [
    {
     "output_type": "execute_result",
     "data": {
      "text/plain": [
       "                                             Alertas Fecha_publicacion  \\\n",
       "0                       [Relaciones internacionales]        2021-02-18   \n",
       "1              [Relaciones internacionales, Turismo]        2021-02-18   \n",
       "2  [Organización de la Administración, Sistema tr...        2021-02-18   \n",
       "3              [Relaciones internacionales, Turismo]        2021-02-18   \n",
       "4         [Asuntos sociales, Derecho Administrativo]        2021-02-18   \n",
       "5                                                 []        2021-02-18   \n",
       "\n",
       "                                           Item_Name            Item_id  \\\n",
       "0  [Acta de la VIII Reunión de la Comisión Mixta ...  [BOE-A-2021-2454]   \n",
       "1  [Acuerdo entre la Organización Mundial del Tur...  [BOE-A-2021-2455]   \n",
       "2  [Resolución de 10 de febrero de 2021, de la Se...  [BOE-A-2021-2457]   \n",
       "3  [Acuerdo Internacional Administrativo entre la...  [BOE-A-2021-2456]   \n",
       "4  [Corrección de errores del Real Decreto-ley 3/...  [BOE-A-2021-2453]   \n",
       "5  [Orden SND/133/2021, de 17 de febrero, sobre l...  [BOE-A-2021-2458]   \n",
       "\n",
       "                                            Materias  \\\n",
       "0  [Acuerdos internacionales, Ayuda al desarrollo...   \n",
       "1  [Acuerdos internacionales, Organización Mundia...   \n",
       "2  [Administración Local, Ayuntamientos, Cesión d...   \n",
       "3  [Acuerdos internacionales, Congresos, Madrid, ...   \n",
       "4  [Asistencia social, Ayudas, Registros administ...   \n",
       "5                                                 []   \n",
       "\n",
       "                                         Referencias  \\\n",
       "0                                                 []   \n",
       "1                 [BOE-A-2015-8565, BOE-A-1974-1937]   \n",
       "2                                 [BOE-A-2020-17339]   \n",
       "3                                  [BOE-A-2015-8565]   \n",
       "4                 [BOE-A-2021-1529, BOE-A-2020-5493]   \n",
       "5  [BOE-A-2011-15623, BOE-A-1986-10498, BOE-A-202...   \n",
       "\n",
       "                                 Referencias_palabra  \\\n",
       "0                                                 []   \n",
       "1           [DE CONFORMIDAD con, DE CONFORMIDAD con]   \n",
       "2                               [DE CONFORMIDAD con]   \n",
       "3                               [DE CONFORMIDAD con]   \n",
       "4           [CORRECCIÓN de errores, CORRIGE errores]   \n",
       "5  [DE CONFORMIDAD con, DE CONFORMIDAD con, EN RE...   \n",
       "\n",
       "                                   Referencias_texto  \\\n",
       "0                                                 []   \n",
       "1  [el art. 33 del Convenio de 25 de junio de 201...   \n",
       "2  [el art. 95.3 de la Ley 11/2020, de 30 de dici...   \n",
       "3               [el Convenio de 25 de junio de 2015]   \n",
       "4  [del Real Decreto-ley 3/2021, de 2 de febrero,...   \n",
       "5  [el art. 52 de la Ley 33/2011, de 4 de octubre...   \n",
       "\n",
       "                               Referencias_completas  \\\n",
       "0                                                 []   \n",
       "1  [DE CONFORMIDAD con el art. 33 del Convenio de...   \n",
       "2  [DE CONFORMIDAD con el art. 95.3 de la Ley 11/...   \n",
       "3  [DE CONFORMIDAD con el Convenio de 25 de junio...   \n",
       "4  [CORRECCIÓN de errores del Real Decreto-ley 3/...   \n",
       "5  [DE CONFORMIDAD con el art. 52 de la Ley 33/20...   \n",
       "\n",
       "                                                Tags Match_ASECORP_BBDD  \n",
       "0                                                 []                 []  \n",
       "1                                                 []                 []  \n",
       "2                                      [Ley 11/2020]                 []  \n",
       "3                                                 []                 []  \n",
       "4  [Real Decreto-ley 3/2021, Real Decreto-ley 20/...                 []  \n",
       "5  [Real Decreto 1418/1986, Real Decreto 926/2020...                 []  "
      ],
      "text/html": "<div>\n<style scoped>\n    .dataframe tbody tr th:only-of-type {\n        vertical-align: middle;\n    }\n\n    .dataframe tbody tr th {\n        vertical-align: top;\n    }\n\n    .dataframe thead th {\n        text-align: right;\n    }\n</style>\n<table border=\"1\" class=\"dataframe\">\n  <thead>\n    <tr style=\"text-align: right;\">\n      <th></th>\n      <th>Alertas</th>\n      <th>Fecha_publicacion</th>\n      <th>Item_Name</th>\n      <th>Item_id</th>\n      <th>Materias</th>\n      <th>Referencias</th>\n      <th>Referencias_palabra</th>\n      <th>Referencias_texto</th>\n      <th>Referencias_completas</th>\n      <th>Tags</th>\n      <th>Match_ASECORP_BBDD</th>\n    </tr>\n  </thead>\n  <tbody>\n    <tr>\n      <th>0</th>\n      <td>[Relaciones internacionales]</td>\n      <td>2021-02-18</td>\n      <td>[Acta de la VIII Reunión de la Comisión Mixta ...</td>\n      <td>[BOE-A-2021-2454]</td>\n      <td>[Acuerdos internacionales, Ayuda al desarrollo...</td>\n      <td>[]</td>\n      <td>[]</td>\n      <td>[]</td>\n      <td>[]</td>\n      <td>[]</td>\n      <td>[]</td>\n    </tr>\n    <tr>\n      <th>1</th>\n      <td>[Relaciones internacionales, Turismo]</td>\n      <td>2021-02-18</td>\n      <td>[Acuerdo entre la Organización Mundial del Tur...</td>\n      <td>[BOE-A-2021-2455]</td>\n      <td>[Acuerdos internacionales, Organización Mundia...</td>\n      <td>[BOE-A-2015-8565, BOE-A-1974-1937]</td>\n      <td>[DE CONFORMIDAD con, DE CONFORMIDAD con]</td>\n      <td>[el art. 33 del Convenio de 25 de junio de 201...</td>\n      <td>[DE CONFORMIDAD con el art. 33 del Convenio de...</td>\n      <td>[]</td>\n      <td>[]</td>\n    </tr>\n    <tr>\n      <th>2</th>\n      <td>[Organización de la Administración, Sistema tr...</td>\n      <td>2021-02-18</td>\n      <td>[Resolución de 10 de febrero de 2021, de la Se...</td>\n      <td>[BOE-A-2021-2457]</td>\n      <td>[Administración Local, Ayuntamientos, Cesión d...</td>\n      <td>[BOE-A-2020-17339]</td>\n      <td>[DE CONFORMIDAD con]</td>\n      <td>[el art. 95.3 de la Ley 11/2020, de 30 de dici...</td>\n      <td>[DE CONFORMIDAD con el art. 95.3 de la Ley 11/...</td>\n      <td>[Ley 11/2020]</td>\n      <td>[]</td>\n    </tr>\n    <tr>\n      <th>3</th>\n      <td>[Relaciones internacionales, Turismo]</td>\n      <td>2021-02-18</td>\n      <td>[Acuerdo Internacional Administrativo entre la...</td>\n      <td>[BOE-A-2021-2456]</td>\n      <td>[Acuerdos internacionales, Congresos, Madrid, ...</td>\n      <td>[BOE-A-2015-8565]</td>\n      <td>[DE CONFORMIDAD con]</td>\n      <td>[el Convenio de 25 de junio de 2015]</td>\n      <td>[DE CONFORMIDAD con el Convenio de 25 de junio...</td>\n      <td>[]</td>\n      <td>[]</td>\n    </tr>\n    <tr>\n      <th>4</th>\n      <td>[Asuntos sociales, Derecho Administrativo]</td>\n      <td>2021-02-18</td>\n      <td>[Corrección de errores del Real Decreto-ley 3/...</td>\n      <td>[BOE-A-2021-2453]</td>\n      <td>[Asistencia social, Ayudas, Registros administ...</td>\n      <td>[BOE-A-2021-1529, BOE-A-2020-5493]</td>\n      <td>[CORRECCIÓN de errores, CORRIGE errores]</td>\n      <td>[del Real Decreto-ley 3/2021, de 2 de febrero,...</td>\n      <td>[CORRECCIÓN de errores del Real Decreto-ley 3/...</td>\n      <td>[Real Decreto-ley 3/2021, Real Decreto-ley 20/...</td>\n      <td>[]</td>\n    </tr>\n    <tr>\n      <th>5</th>\n      <td>[]</td>\n      <td>2021-02-18</td>\n      <td>[Orden SND/133/2021, de 17 de febrero, sobre l...</td>\n      <td>[BOE-A-2021-2458]</td>\n      <td>[]</td>\n      <td>[BOE-A-2011-15623, BOE-A-1986-10498, BOE-A-202...</td>\n      <td>[DE CONFORMIDAD con, DE CONFORMIDAD con, EN RE...</td>\n      <td>[el art. 52 de la Ley 33/2011, de 4 de octubre...</td>\n      <td>[DE CONFORMIDAD con el art. 52 de la Ley 33/20...</td>\n      <td>[Real Decreto 1418/1986, Real Decreto 926/2020...</td>\n      <td>[]</td>\n    </tr>\n  </tbody>\n</table>\n</div>"
     },
     "metadata": {},
     "execution_count": 24
    }
   ],
   "source": [
    "tabla_analisis"
   ]
  },
  {
   "cell_type": "code",
   "execution_count": 25,
   "metadata": {},
   "outputs": [
    {
     "output_type": "stream",
     "name": "stdout",
     "text": [
      "DE CONFORMIDAD con el art. 33 del Convenio de 25 de junio de 2015\nDE CONFORMIDAD con al art. 3 de los Estatutos de 27 de septiembre de 1970\nDE CONFORMIDAD con el art. 95.3 de la Ley 11/2020, de 30 de diciembre\nDE CONFORMIDAD con el Convenio de 25 de junio de 2015\nCORRECCIÓN de errores del Real Decreto-ley 3/2021, de 2 de febrero\nCORRIGE errores en la disposición transitoria 8 del Real Decreto-ley 20/2020, de 29 de mayo\nDE CONFORMIDAD con el art. 52 de la Ley 33/2011, de 4 de octubre\nDE CONFORMIDAD con los arts. 2 y 3 de la Ley Orgánica 3/1986, de 14 de abri\nEN RELACIÓN con la Orden PCM/79/2021, de 2 de febrero\nCITA Real Decreto 926/2020, de 25 de octubre\nCITA Ley 29/1998, de 13 de julio\nCITA Real Decreto 1418/1986, de 13 de junio\n"
     ]
    }
   ],
   "source": [
    "texto = ''\n",
    "for refs in tabla_analisis['Referencias_completas']:\n",
    "    for ref in refs:\n",
    "        texto = texto + ref + ' '\n",
    "        print(ref)"
   ]
  },
  {
   "cell_type": "code",
   "execution_count": 26,
   "metadata": {},
   "outputs": [
    {
     "output_type": "stream",
     "name": "stdout",
     "text": [
      "\n['BOE-A-2021-2454']['Acta de la VIII Reunión de la Comisión Mixta Hispano-Hondureña de Cooperación por el que se aprueba el Marco de Asociación País España-Honduras 2020-2023, hecho en Madrid y Tegucigalpa el 16 de noviembre de 2020.']\n\n\n['BOE-A-2021-2455']['Acuerdo entre la Organización Mundial del Turismo y el Ministerio de Industria, Comercio y Turismo del Reino de España, para el desarrollo de los ODS, reto demográfico y turismo rural, hecho en Madrid el 16 de diciembre de 2020.']\n\n\tAntecedente 1: DE CONFORMIDAD con el art. 33 del Convenio de 25 de junio de 2015 []\n\tAntecedente 2: DE CONFORMIDAD con al art. 3 de los Estatutos de 27 de septiembre de 1970 []\n\n['BOE-A-2021-2457']['Resolución de 10 de febrero de 2021, de la Secretaría General de Financiación Autonómica y Local, por la que se desarrolla la información a suministrar por las Corporaciones locales relativa al esfuerzo fiscal de 2019 y su comprobación en las Delegaciones de Economía y Hacienda.']\n\n\tAntecedente 1: DE CONFORMIDAD con el art. 95.3 de la Ley 11/2020, de 30 de diciembre ['Ley 11/2020']\n\n['BOE-A-2021-2456']['Acuerdo Internacional Administrativo entre la Organización Mundial del Turismo y la Secretaría de Estado de Turismo del Gobierno del Reino de España, para la celebración de la 113ª reunión del Consejo Ejecutivo de la OMT, hecho en Madrid el 15 de enero de 2021.']\n\n\tAntecedente 1: DE CONFORMIDAD con el Convenio de 25 de junio de 2015 []\n\n['BOE-A-2021-2453']['Corrección de errores del Real Decreto-ley 3/2021, de 2 de febrero, por el que se adoptan medidas para la reducción de la brecha de género y otras materias en los ámbitos de la Seguridad Social y económico.']\n\n\tAntecedente 1: CORRECCIÓN de errores del Real Decreto-ley 3/2021, de 2 de febrero ['Real Decreto-ley 3/2021']\n\tAntecedente 2: CORRIGE errores en la disposición transitoria 8 del Real Decreto-ley 20/2020, de 29 de mayo ['Real Decreto-ley 20/2020']\n\n['BOE-A-2021-2458']['Orden SND/133/2021, de 17 de febrero, sobre las condiciones de cuarentena a las que deben someterse las personas procedentes de la República Federativa de Brasil y la República de Sudáfrica a su llegada a España, durante la situación de crisis sanitaria ocasionada por el COVID-19.']\n\n\tAntecedente 1: DE CONFORMIDAD con el art. 52 de la Ley 33/2011, de 4 de octubre ['Ley 33/2011']\n\tAntecedente 2: DE CONFORMIDAD con los arts. 2 y 3 de la Ley Orgánica 3/1986, de 14 de abri []\n\tAntecedente 3: EN RELACIÓN con la Orden PCM/79/2021, de 2 de febrero ['Orden PCM/79/2021']\n\tAntecedente 4: CITA Real Decreto 926/2020, de 25 de octubre ['Real Decreto 926/2020']\n\tAntecedente 5: CITA Ley 29/1998, de 13 de julio ['Ley 29/1998']\n\tAntecedente 6: CITA Real Decreto 1418/1986, de 13 de junio ['Real Decreto 1418/1986']\n"
     ]
    }
   ],
   "source": [
    "texto = ''\n",
    "for i, row in tabla_analisis.iterrows():\n",
    "    #unique_id = i\n",
    "    print('\\n' + str(row['Item_id']) + str(row['Item_Name']) +'\\n')\n",
    "\n",
    "    antecedente = 1\n",
    "    for ref in row['Referencias_completas']:\n",
    "        texto = texto + ref + ' '\n",
    "        print('\\t' + 'Antecedente ' + str(antecedente) + ': ' + ref + ' ' + str(re.findall('|'.join(pattern), ref, flags=re.IGNORECASE)))\n",
    "        antecedente += 1"
   ]
  },
  {
   "cell_type": "code",
   "execution_count": 27,
   "metadata": {},
   "outputs": [],
   "source": [
    "# Aplica expresiones REGEX para búsqueda de leyes, decretos, etc. referenciadas anteriormente\n",
    "regex_result = re.findall('|'.join(pattern), texto, flags=re.IGNORECASE)"
   ]
  },
  {
   "cell_type": "code",
   "execution_count": 28,
   "metadata": {},
   "outputs": [
    {
     "output_type": "stream",
     "name": "stdout",
     "text": [
      "['Ley 11/2020', 'Real Decreto-ley 3/2021', 'Real Decreto-ley 20/2020', 'Ley 33/2011', 'Orden PCM/79/2021', 'Real Decreto 926/2020', 'Ley 29/1998', 'Real Decreto 1418/1986']\n"
     ]
    }
   ],
   "source": [
    "print(regex_result)"
   ]
  },
  {
   "cell_type": "code",
   "execution_count": 29,
   "metadata": {},
   "outputs": [],
   "source": [
    "## Elimina duplicados\n",
    "boletin_flat_list = list(set(regex_result))"
   ]
  },
  {
   "cell_type": "code",
   "execution_count": 30,
   "metadata": {},
   "outputs": [
    {
     "output_type": "execute_result",
     "data": {
      "text/plain": [
       "['Real Decreto 1418/1986',\n",
       " 'Real Decreto-ley 3/2021',\n",
       " 'Real Decreto 926/2020',\n",
       " 'Ley 29/1998',\n",
       " 'Ley 11/2020',\n",
       " 'Ley 33/2011',\n",
       " 'Orden PCM/79/2021',\n",
       " 'Real Decreto-ley 20/2020']"
      ]
     },
     "metadata": {},
     "execution_count": 30
    }
   ],
   "source": [
    "boletin_flat_list"
   ]
  },
  {
   "source": [
    "## Importa BBDD ASECORP"
   ],
   "cell_type": "markdown",
   "metadata": {}
  },
  {
   "cell_type": "code",
   "execution_count": 31,
   "metadata": {},
   "outputs": [],
   "source": [
    "ASECORP_BBDD = pd.read_csv('./ASECORP/ExportNormes_20210126.csv', delimiter=';')"
   ]
  },
  {
   "cell_type": "code",
   "execution_count": 32,
   "metadata": {},
   "outputs": [
    {
     "output_type": "execute_result",
     "data": {
      "text/plain": [
       "                        Codigo      Numero  \\\n",
       "0       RES SLT/2313/2020 CAT         2313   \n",
       "1      (zzz) RES 12/4/2007 AST   12/4/2007   \n",
       "2           A CORUÑA 10/7/2015   10/7/2015   \n",
       "3       A CORUÑA 11/8/2014 (1)   11/8/2014   \n",
       "4       A CORUÑA 11/8/2014 (2)   11/8/2014   \n",
       "...                        ...         ...   \n",
       "19152          ZUMAIA 1/3/2001    1/3/2001   \n",
       "19153        ZUMAIA 12/11/1999  12/11/1999   \n",
       "19154         ZUMAIA 15/6/2012   15/6/2012   \n",
       "19155          ZUMAIA 6/2/2004    6/2/2004   \n",
       "19156          ZUMAIA 9/2/2004    9/2/2004   \n",
       "\n",
       "                                                  Titulo CodigoAmbito  \\\n",
       "0      Resolución SLT/2313/2020, de 24 de septiembre,...          CAT   \n",
       "1      Resolución de 12 abril de 2007, de la Consejer...          AST   \n",
       "2      Modificación de la Ordenanza de vertidos y ser...          GAL   \n",
       "3      Ordenanza municipal reguladora de los procedim...          GAL   \n",
       "4      Ordenanza de protección contra la contaminació...          GAL   \n",
       "...                                                  ...          ...   \n",
       "19152  Ordenanza reguladora de la gestión del ciclo i...          PVA   \n",
       "19153  Normativa complementaria de las Normas Subsidi...          PVA   \n",
       "19154  Modificación de la Ordenanza municipal de la g...          PVA   \n",
       "19155  Modificación de la Normativa complementaria de...          PVA   \n",
       "19156  Reglamento regulador del vertido a colector de...          PVA   \n",
       "\n",
       "           Ambito Municipio   TiposNorma IdTiposNorma  \n",
       "0        Cataluña       NaN   Prevención          [2]  \n",
       "1        Asturias       NaN  M. Ambiente          [1]  \n",
       "2         Galicia  A Coruña  M. Ambiente          [1]  \n",
       "3         Galicia  A Coruña  M. Ambiente          [1]  \n",
       "4         Galicia  A Coruña  M. Ambiente          [1]  \n",
       "...           ...       ...          ...          ...  \n",
       "19152  Pais Vasco    Zumaia  M. Ambiente          [1]  \n",
       "19153  Pais Vasco    Zumaia  M. Ambiente          [1]  \n",
       "19154  Pais Vasco    Zumaia  M. Ambiente          [1]  \n",
       "19155  Pais Vasco    Zumaia  M. Ambiente          [1]  \n",
       "19156  Pais Vasco    Zumaia  M. Ambiente          [1]  \n",
       "\n",
       "[19157 rows x 8 columns]"
      ],
      "text/html": "<div>\n<style scoped>\n    .dataframe tbody tr th:only-of-type {\n        vertical-align: middle;\n    }\n\n    .dataframe tbody tr th {\n        vertical-align: top;\n    }\n\n    .dataframe thead th {\n        text-align: right;\n    }\n</style>\n<table border=\"1\" class=\"dataframe\">\n  <thead>\n    <tr style=\"text-align: right;\">\n      <th></th>\n      <th>Codigo</th>\n      <th>Numero</th>\n      <th>Titulo</th>\n      <th>CodigoAmbito</th>\n      <th>Ambito</th>\n      <th>Municipio</th>\n      <th>TiposNorma</th>\n      <th>IdTiposNorma</th>\n    </tr>\n  </thead>\n  <tbody>\n    <tr>\n      <th>0</th>\n      <td>RES SLT/2313/2020 CAT</td>\n      <td>2313</td>\n      <td>Resolución SLT/2313/2020, de 24 de septiembre,...</td>\n      <td>CAT</td>\n      <td>Cataluña</td>\n      <td>NaN</td>\n      <td>Prevención</td>\n      <td>[2]</td>\n    </tr>\n    <tr>\n      <th>1</th>\n      <td>(zzz) RES 12/4/2007 AST</td>\n      <td>12/4/2007</td>\n      <td>Resolución de 12 abril de 2007, de la Consejer...</td>\n      <td>AST</td>\n      <td>Asturias</td>\n      <td>NaN</td>\n      <td>M. Ambiente</td>\n      <td>[1]</td>\n    </tr>\n    <tr>\n      <th>2</th>\n      <td>A CORUÑA 10/7/2015</td>\n      <td>10/7/2015</td>\n      <td>Modificación de la Ordenanza de vertidos y ser...</td>\n      <td>GAL</td>\n      <td>Galicia</td>\n      <td>A Coruña</td>\n      <td>M. Ambiente</td>\n      <td>[1]</td>\n    </tr>\n    <tr>\n      <th>3</th>\n      <td>A CORUÑA 11/8/2014 (1)</td>\n      <td>11/8/2014</td>\n      <td>Ordenanza municipal reguladora de los procedim...</td>\n      <td>GAL</td>\n      <td>Galicia</td>\n      <td>A Coruña</td>\n      <td>M. Ambiente</td>\n      <td>[1]</td>\n    </tr>\n    <tr>\n      <th>4</th>\n      <td>A CORUÑA 11/8/2014 (2)</td>\n      <td>11/8/2014</td>\n      <td>Ordenanza de protección contra la contaminació...</td>\n      <td>GAL</td>\n      <td>Galicia</td>\n      <td>A Coruña</td>\n      <td>M. Ambiente</td>\n      <td>[1]</td>\n    </tr>\n    <tr>\n      <th>...</th>\n      <td>...</td>\n      <td>...</td>\n      <td>...</td>\n      <td>...</td>\n      <td>...</td>\n      <td>...</td>\n      <td>...</td>\n      <td>...</td>\n    </tr>\n    <tr>\n      <th>19152</th>\n      <td>ZUMAIA 1/3/2001</td>\n      <td>1/3/2001</td>\n      <td>Ordenanza reguladora de la gestión del ciclo i...</td>\n      <td>PVA</td>\n      <td>Pais Vasco</td>\n      <td>Zumaia</td>\n      <td>M. Ambiente</td>\n      <td>[1]</td>\n    </tr>\n    <tr>\n      <th>19153</th>\n      <td>ZUMAIA 12/11/1999</td>\n      <td>12/11/1999</td>\n      <td>Normativa complementaria de las Normas Subsidi...</td>\n      <td>PVA</td>\n      <td>Pais Vasco</td>\n      <td>Zumaia</td>\n      <td>M. Ambiente</td>\n      <td>[1]</td>\n    </tr>\n    <tr>\n      <th>19154</th>\n      <td>ZUMAIA 15/6/2012</td>\n      <td>15/6/2012</td>\n      <td>Modificación de la Ordenanza municipal de la g...</td>\n      <td>PVA</td>\n      <td>Pais Vasco</td>\n      <td>Zumaia</td>\n      <td>M. Ambiente</td>\n      <td>[1]</td>\n    </tr>\n    <tr>\n      <th>19155</th>\n      <td>ZUMAIA 6/2/2004</td>\n      <td>6/2/2004</td>\n      <td>Modificación de la Normativa complementaria de...</td>\n      <td>PVA</td>\n      <td>Pais Vasco</td>\n      <td>Zumaia</td>\n      <td>M. Ambiente</td>\n      <td>[1]</td>\n    </tr>\n    <tr>\n      <th>19156</th>\n      <td>ZUMAIA 9/2/2004</td>\n      <td>9/2/2004</td>\n      <td>Reglamento regulador del vertido a colector de...</td>\n      <td>PVA</td>\n      <td>Pais Vasco</td>\n      <td>Zumaia</td>\n      <td>M. Ambiente</td>\n      <td>[1]</td>\n    </tr>\n  </tbody>\n</table>\n<p>19157 rows × 8 columns</p>\n</div>"
     },
     "metadata": {},
     "execution_count": 32
    }
   ],
   "source": [
    "ASECORP_BBDD"
   ]
  },
  {
   "cell_type": "code",
   "execution_count": 33,
   "metadata": {},
   "outputs": [],
   "source": [
    "ASECORP_BBDD_BOE = ASECORP_BBDD.loc[ASECORP_BBDD['Ambito'] == 'España']"
   ]
  },
  {
   "cell_type": "code",
   "execution_count": 34,
   "metadata": {},
   "outputs": [
    {
     "output_type": "execute_result",
     "data": {
      "text/plain": [
       "                        Codigo      Numero  \\\n",
       "23              ACU 1/2020 ESP           1   \n",
       "35           ACU 11/6/2007 ESP   11/6/2007   \n",
       "57          ACU 17/10/2006 ESP  17/10/2006   \n",
       "71          ACU 19/11/2018 ESP  19/11/2018   \n",
       "82              ACU 2/2020 ESP           2   \n",
       "...                        ...         ...   \n",
       "18496          STC 86/2019 ESP          86   \n",
       "18497          STC 87/2019 ESP          87   \n",
       "18498          STC 88/2018 ESP          88   \n",
       "18499         STC 9/3/2010 ESP    9/3/2010   \n",
       "18879  verificación de calidad           1   \n",
       "\n",
       "                                                  Titulo CodigoAmbito  Ambito  \\\n",
       "23     Acuerdo Multilateral RID 1/2020 en virtud de l...          ESP  España   \n",
       "35     Entrada en vigor del Acuerdo entre el Reino de...          ESP  España   \n",
       "57     Aplicación provisional del Acuerdo entre el Re...          ESP  España   \n",
       "71     Acuerdo de la Junta de Gobierno de la Confeder...          ESP  España   \n",
       "82     Acuerdo Multilateral RID 2/2020 en virtud de l...          ESP  España   \n",
       "...                                                  ...          ...     ...   \n",
       "18496  Sentencia 86/2019, de 20 de junio de 2019. Rec...          ESP  España   \n",
       "18497  Sentencia 87/2019, de 20 de junio de 2019. Rec...          ESP  España   \n",
       "18498  Sentencia 88/2018, de 19 de julio de 2018. Con...          ESP  España   \n",
       "18499  Sentencia de 9 de marzo de 2010, de la Sala Te...          ESP  España   \n",
       "18879   Norma verificación calidad alertas en produccion          ESP  España   \n",
       "\n",
       "      Municipio                     TiposNorma IdTiposNorma  \n",
       "23          NaN       M. Ambiente / Prevención       [1][2]  \n",
       "35          NaN                    M. Ambiente          [1]  \n",
       "57          NaN                    M. Ambiente          [1]  \n",
       "71          NaN                    M. Ambiente          [1]  \n",
       "82          NaN       M. Ambiente / Prevención       [1][2]  \n",
       "...         ...                            ...          ...  \n",
       "18496       NaN                    M. Ambiente          [1]  \n",
       "18497       NaN                    M. Ambiente          [1]  \n",
       "18498       NaN  M. Ambiente / Reg. Industrial       [1][3]  \n",
       "18499       NaN                    M. Ambiente          [1]  \n",
       "18879         -                Reg. Industrial          [3]  \n",
       "\n",
       "[2959 rows x 8 columns]"
      ],
      "text/html": "<div>\n<style scoped>\n    .dataframe tbody tr th:only-of-type {\n        vertical-align: middle;\n    }\n\n    .dataframe tbody tr th {\n        vertical-align: top;\n    }\n\n    .dataframe thead th {\n        text-align: right;\n    }\n</style>\n<table border=\"1\" class=\"dataframe\">\n  <thead>\n    <tr style=\"text-align: right;\">\n      <th></th>\n      <th>Codigo</th>\n      <th>Numero</th>\n      <th>Titulo</th>\n      <th>CodigoAmbito</th>\n      <th>Ambito</th>\n      <th>Municipio</th>\n      <th>TiposNorma</th>\n      <th>IdTiposNorma</th>\n    </tr>\n  </thead>\n  <tbody>\n    <tr>\n      <th>23</th>\n      <td>ACU 1/2020 ESP</td>\n      <td>1</td>\n      <td>Acuerdo Multilateral RID 1/2020 en virtud de l...</td>\n      <td>ESP</td>\n      <td>España</td>\n      <td>NaN</td>\n      <td>M. Ambiente / Prevención</td>\n      <td>[1][2]</td>\n    </tr>\n    <tr>\n      <th>35</th>\n      <td>ACU 11/6/2007 ESP</td>\n      <td>11/6/2007</td>\n      <td>Entrada en vigor del Acuerdo entre el Reino de...</td>\n      <td>ESP</td>\n      <td>España</td>\n      <td>NaN</td>\n      <td>M. Ambiente</td>\n      <td>[1]</td>\n    </tr>\n    <tr>\n      <th>57</th>\n      <td>ACU 17/10/2006 ESP</td>\n      <td>17/10/2006</td>\n      <td>Aplicación provisional del Acuerdo entre el Re...</td>\n      <td>ESP</td>\n      <td>España</td>\n      <td>NaN</td>\n      <td>M. Ambiente</td>\n      <td>[1]</td>\n    </tr>\n    <tr>\n      <th>71</th>\n      <td>ACU 19/11/2018 ESP</td>\n      <td>19/11/2018</td>\n      <td>Acuerdo de la Junta de Gobierno de la Confeder...</td>\n      <td>ESP</td>\n      <td>España</td>\n      <td>NaN</td>\n      <td>M. Ambiente</td>\n      <td>[1]</td>\n    </tr>\n    <tr>\n      <th>82</th>\n      <td>ACU 2/2020 ESP</td>\n      <td>2</td>\n      <td>Acuerdo Multilateral RID 2/2020 en virtud de l...</td>\n      <td>ESP</td>\n      <td>España</td>\n      <td>NaN</td>\n      <td>M. Ambiente / Prevención</td>\n      <td>[1][2]</td>\n    </tr>\n    <tr>\n      <th>...</th>\n      <td>...</td>\n      <td>...</td>\n      <td>...</td>\n      <td>...</td>\n      <td>...</td>\n      <td>...</td>\n      <td>...</td>\n      <td>...</td>\n    </tr>\n    <tr>\n      <th>18496</th>\n      <td>STC 86/2019 ESP</td>\n      <td>86</td>\n      <td>Sentencia 86/2019, de 20 de junio de 2019. Rec...</td>\n      <td>ESP</td>\n      <td>España</td>\n      <td>NaN</td>\n      <td>M. Ambiente</td>\n      <td>[1]</td>\n    </tr>\n    <tr>\n      <th>18497</th>\n      <td>STC 87/2019 ESP</td>\n      <td>87</td>\n      <td>Sentencia 87/2019, de 20 de junio de 2019. Rec...</td>\n      <td>ESP</td>\n      <td>España</td>\n      <td>NaN</td>\n      <td>M. Ambiente</td>\n      <td>[1]</td>\n    </tr>\n    <tr>\n      <th>18498</th>\n      <td>STC 88/2018 ESP</td>\n      <td>88</td>\n      <td>Sentencia 88/2018, de 19 de julio de 2018. Con...</td>\n      <td>ESP</td>\n      <td>España</td>\n      <td>NaN</td>\n      <td>M. Ambiente / Reg. Industrial</td>\n      <td>[1][3]</td>\n    </tr>\n    <tr>\n      <th>18499</th>\n      <td>STC 9/3/2010 ESP</td>\n      <td>9/3/2010</td>\n      <td>Sentencia de 9 de marzo de 2010, de la Sala Te...</td>\n      <td>ESP</td>\n      <td>España</td>\n      <td>NaN</td>\n      <td>M. Ambiente</td>\n      <td>[1]</td>\n    </tr>\n    <tr>\n      <th>18879</th>\n      <td>verificación de calidad</td>\n      <td>1</td>\n      <td>Norma verificación calidad alertas en produccion</td>\n      <td>ESP</td>\n      <td>España</td>\n      <td>-</td>\n      <td>Reg. Industrial</td>\n      <td>[3]</td>\n    </tr>\n  </tbody>\n</table>\n<p>2959 rows × 8 columns</p>\n</div>"
     },
     "metadata": {},
     "execution_count": 34
    }
   ],
   "source": [
    "ASECORP_BBDD_BOE"
   ]
  },
  {
   "cell_type": "code",
   "execution_count": 35,
   "metadata": {},
   "outputs": [],
   "source": [
    "# Crea nueva columna vacía de tipo lista en ASECORP_BBDD\n",
    "ASECORP_BBDD_BOE['Tags'] = [[] for i in range(len(ASECORP_BBDD_BOE))]"
   ]
  },
  {
   "cell_type": "code",
   "execution_count": 36,
   "metadata": {},
   "outputs": [],
   "source": [
    "titulo = []\n",
    "for i, row in ASECORP_BBDD_BOE.iterrows():\n",
    "    titulo.append(str(row['Titulo']) + str(re.findall('|'.join(pattern), str(row['Titulo']), flags=re.IGNORECASE)))\n",
    "    ASECORP_BBDD_BOE['Tags'][i] = re.findall('|'.join(pattern), str(row['Titulo']), flags=re.IGNORECASE)"
   ]
  },
  {
   "cell_type": "code",
   "execution_count": 37,
   "metadata": {},
   "outputs": [
    {
     "output_type": "execute_result",
     "data": {
      "text/plain": [
       "                      Codigo     Numero  \\\n",
       "11629  ORD PRE/2827/2009 ESP       2827   \n",
       "11630  ORD PRE/2843/2009 ESP       2843   \n",
       "11631  ORD PRE/2851/2010 ESP       2851   \n",
       "11632  ORD PRE/2871/2011 ESP       2871   \n",
       "11633  ORD PRE/2872/2011 ESP       2872   \n",
       "11634    ORD PRE/29/2004 ESP         29   \n",
       "11635  ORD PRE/2922/2005 ESP       2922   \n",
       "11636  ORD PRE/2957/2008 ESP       2957   \n",
       "11637     ORD PRE/3/2006 ESP          3   \n",
       "11638  ORD PRE/3159/2004 ESP       3159   \n",
       "11639   ORD PRE/321/2009 ESP        321   \n",
       "11640  ORD PRE/3271/2011 ESP       3271   \n",
       "11641  ORD PRE/3290/2002 ESP       3290   \n",
       "11642  ORD PRE/3297/2004 ESP       3297   \n",
       "11643  ORD PRE/3298/2004 ESP       3298   \n",
       "11644  ORD PRE/3302/2006 ESP       3302   \n",
       "11645  ORD PRE/3338/2007 ESP       3338   \n",
       "11647  ORD PRE/3420/2007 ESP       3420   \n",
       "11648  ORD PRE/3476/2003 ESP       3476   \n",
       "11649  ORD PRE/3539/2008 ESP       3539   \n",
       "11650   ORD PRE/370/2012 ESP        370   \n",
       "11651   ORD PRE/374/2008 ESP        374   \n",
       "11652   ORD PRE/375/2003 ESP        375   \n",
       "11653  ORD PRE/3834/2005 ESP       3834   \n",
       "11654  ORD PRE/3856/2005 ESP       3856   \n",
       "11655  ORD PRE/3929/2004 ESP       3929   \n",
       "11656   ORD PRE/402/2006 ESP        402   \n",
       "11657   ORD PRE/402/2008 CAT        402   \n",
       "11658   ORD PRE/456/2007 ESP        456   \n",
       "11659   ORD PRE/468/2008 ESP        468   \n",
       "11660   ORD PRE/473/2004 ESP        473   \n",
       "11661   ORD PRE/507/2008 ESP        507   \n",
       "11662    ORD PRE/52/2010 ESP  23/1/2010   \n",
       "11663   ORD PRE/531/2010 ESP        531   \n",
       "11664   ORD PRE/556/2005 ESP        556   \n",
       "11665   ORD PRE/568/2009 ESP        568   \n",
       "11666   ORD PRE/628/2011 ESP        628   \n",
       "11667   ORD PRE/629/2011 ESP        629   \n",
       "11668   ORD PRE/630/2011 ESP        630   \n",
       "11669   ORD PRE/631/2011 ESP        631   \n",
       "11670   ORD PRE/662/2013 ESP        662   \n",
       "11671   ORD PRE/675/2013 ESP        675   \n",
       "11672   ORD PRE/690/2005 ESP        690   \n",
       "11673   ORD PRE/696/2008 ESP        696   \n",
       "11674   ORD PRE/730/2003 ESP        730   \n",
       "11675    ORD PRE/77/2008 ESP         77   \n",
       "11676   ORD PRE/772/2016 ESP        772   \n",
       "11677   ORD PRE/777/2009 ESP        777   \n",
       "11678   ORD PRE/777/2011 ESP        777   \n",
       "11679   ORD PRE/839/2010 ESP        839   \n",
       "\n",
       "                                                  Titulo CodigoAmbito  Ambito  \\\n",
       "11629  Orden PRE/2827/2009, de 19 de octubre, por la ...          ESP  España   \n",
       "11630  Orden PRE/2843/2009, de 19 de octubre, por la ...          ESP  España   \n",
       "11631  Orden PRE/2851/2010, de 4 de noviembre, por la...          ESP  España   \n",
       "11632  Orden PRE/2871/2011, de 25 de octubre, por la ...          ESP  España   \n",
       "11633  Orden PRE/2872/2011, de 25 de octubre, por la ...          ESP  España   \n",
       "11634  Orden PRE/29/2004, de 15 de enero, por la que ...          ESP  España   \n",
       "11635  Orden PRE/2922/2005, de 19 de septiembre, por ...          ESP  España   \n",
       "11636  Orden PRE/2957/2008, de 10 de octubre, por la ...          ESP  España   \n",
       "11637  Orden PRE/3/2006, de 12 de enero, por la que s...          ESP  España   \n",
       "11638  Orden PRE/3159/2004, de 28 de septiembre, por ...          ESP  España   \n",
       "11639  Orden PRE/321/2009, de 13 de febrero, por la q...          ESP  España   \n",
       "11640  Orden PRE/3271/2011, de 25 de noviembre, por l...          ESP  España   \n",
       "11641  Orden PRE/3290/2002, de 23 de diciembre, por l...          ESP  España   \n",
       "11642  Orden PRE/3297/2004, de 13 de octubre, por la ...          ESP  España   \n",
       "11643  Orden PRE/3298/2004, de 13 de octubre, por la ...          ESP  España   \n",
       "11644  Orden PRE/3302/2006, de 27 de octubre, por la ...          ESP  España   \n",
       "11645  Orden PRE/3338/2007, de 15 de noviembre, por l...          ESP  España   \n",
       "11647  Orden PRE/3420/2007, de 14 de noviembre, por l...          ESP  España   \n",
       "11648  Orden PRE/3476/2003, de 9 de diciembre, por la...          ESP  España   \n",
       "11649  Orden PRE/3539/2008, de 28 de noviembre, por l...          ESP  España   \n",
       "11650  Orden PRE/370/2012, de 27 de febrero, por la q...          ESP  España   \n",
       "11651  Orden PRE/374/2008, de 31 de enero, por la que...          ESP  España   \n",
       "11652  Orden PRE/375/2003, de 24 de febrero, por la q...          ESP  España   \n",
       "11653  Orden PRE/3834/2005, de 9 de diciembre, por la...          ESP  España   \n",
       "11654  Orden PRE/3856/2005, de 12 de diciembre, por l...          ESP  España   \n",
       "11655  Orden PRE/3929/2004, de 30 de noviembre, por l...          ESP  España   \n",
       "11656  Orden PRE/402/2006, de 16 de febrero, por la q...          ESP  España   \n",
       "11657  Orden PRE/402/2008, de 28 de agosto, por la qu...          ESP  España   \n",
       "11658  Orden PRE/456/2007, de 28 de febrero, por la q...          ESP  España   \n",
       "11659  Orden PRE/468/2008, de 15 de febrero, por la q...          ESP  España   \n",
       "11660  Orden PRE/473/2004, de 25 de febrero, por la q...          ESP  España   \n",
       "11661  Orden PRE/507/2008, de 26 de febrero, por la q...          ESP  España   \n",
       "11662  Orden PRE/52/2010, de 21 de enero, por la que ...          ESP  España   \n",
       "11663  Orden PRE/531/2010, de 26 de febrero, por la q...          ESP  España   \n",
       "11664  Orden PRE/556/2005, de 10 de marzo, por la que...          ESP  España   \n",
       "11665  Orden PRE/568/2009, de 5 de marzo, por la que ...          ESP  España   \n",
       "11666  Orden PRE/628/2011, de 22 de marzo, por la que...          ESP  España   \n",
       "11667  Orden PRE/629/2011, de 22 de marzo, por la que...          ESP  España   \n",
       "11668  Orden PRE/630/2011, de 23 de marzo, por la que...          ESP  España   \n",
       "11669  Orden PRE/631/2011, de 23 de marzo, por la que...          ESP  España   \n",
       "11670  Orden PRE/662/2013, de 22 de abril, por la que...          ESP  España   \n",
       "11671  Orden PRE/675/2013, de 22 de abril, por la que...          ESP  España   \n",
       "11672  Orden PRE/690/2005, de 18 de marzo, por la que...          ESP  España   \n",
       "11673  Orden PRE/696/2008, de 7 de marzo, por la que ...          ESP  España   \n",
       "11674  Orden PRE/730/2003, de 25 de marzo, por la que...          ESP  España   \n",
       "11675  Orden PRE/77/2008, de 17 de enero, por la que ...          ESP  España   \n",
       "11676  Orden PRE/772/2016, de 19 de mayo, por la que ...          ESP  España   \n",
       "11677  Orden PRE/777/2009, de 26 de marzo, por la que...          ESP  España   \n",
       "11678  Orden PRE/777/2011, de 4 de abril, por la que ...          ESP  España   \n",
       "11679  Orden PRE/839/2010, de 29 de marzo, por la que...          ESP  España   \n",
       "\n",
       "      Municipio                TiposNorma IdTiposNorma  \\\n",
       "11629       NaN               M. Ambiente          [1]   \n",
       "11630       NaN  M. Ambiente / Prevención       [1][2]   \n",
       "11631       NaN  M. Ambiente / Prevención       [1][2]   \n",
       "11632       NaN  M. Ambiente / Prevención       [1][2]   \n",
       "11633       NaN  M. Ambiente / Prevención       [1][2]   \n",
       "11634       NaN               M. Ambiente          [1]   \n",
       "11635       NaN  M. Ambiente / Prevención       [1][2]   \n",
       "11636       NaN  M. Ambiente / Prevención       [1][2]   \n",
       "11637       NaN  M. Ambiente / Prevención       [1][2]   \n",
       "11638       NaN  M. Ambiente / Prevención       [1][2]   \n",
       "11639       NaN  M. Ambiente / Prevención       [1][2]   \n",
       "11640       NaN  M. Ambiente / Prevención       [1][2]   \n",
       "11641       NaN  M. Ambiente / Prevención       [1][2]   \n",
       "11642       NaN  M. Ambiente / Prevención       [1][2]   \n",
       "11643       NaN           Reg. Industrial          [3]   \n",
       "11644       NaN  M. Ambiente / Prevención       [1][2]   \n",
       "11645       NaN  M. Ambiente / Prevención       [1][2]   \n",
       "11647       NaN               M. Ambiente          [1]   \n",
       "11648       NaN  M. Ambiente / Prevención       [1][2]   \n",
       "11649       NaN               M. Ambiente          [1]   \n",
       "11650       NaN               M. Ambiente          [1]   \n",
       "11651       NaN  M. Ambiente / Prevención       [1][2]   \n",
       "11652       NaN  M. Ambiente / Prevención       [1][2]   \n",
       "11653       NaN               M. Ambiente          [1]   \n",
       "11654       NaN  M. Ambiente / Prevención       [1][2]   \n",
       "11655       NaN  M. Ambiente / Prevención       [1][2]   \n",
       "11656       NaN  M. Ambiente / Prevención       [1][2]   \n",
       "11657       NaN           Reg. Industrial          [3]   \n",
       "11658       NaN  M. Ambiente / Prevención       [1][2]   \n",
       "11659       NaN               M. Ambiente          [1]   \n",
       "11660       NaN  M. Ambiente / Prevención       [1][2]   \n",
       "11661       NaN  M. Ambiente / Prevención       [1][2]   \n",
       "11662       NaN            Seguridad Vial          [5]   \n",
       "11663       NaN  M. Ambiente / Prevención       [1][2]   \n",
       "11664       NaN  M. Ambiente / Prevención       [1][2]   \n",
       "11665       NaN                Prevención          [2]   \n",
       "11666       NaN          Seg. Alimentaria          [7]   \n",
       "11667         -            Seguridad Vial          [5]   \n",
       "11668       NaN  M. Ambiente / Prevención       [1][2]   \n",
       "11669       NaN  M. Ambiente / Prevención       [1][2]   \n",
       "11670       NaN  M. Ambiente / Prevención       [1][2]   \n",
       "11671       NaN  M. Ambiente / Prevención       [1][2]   \n",
       "11672       NaN  M. Ambiente / Prevención       [1][2]   \n",
       "11673       NaN  M. Ambiente / Prevención       [1][2]   \n",
       "11674       NaN  M. Ambiente / Prevención       [1][2]   \n",
       "11675       NaN               M. Ambiente          [1]   \n",
       "11676       NaN               M. Ambiente          [1]   \n",
       "11677       NaN  M. Ambiente / Prevención       [1][2]   \n",
       "11678       NaN  M. Ambiente / Prevención       [1][2]   \n",
       "11679       NaN  M. Ambiente / Prevención       [1][2]   \n",
       "\n",
       "                                                    Tags  \n",
       "11629      [Orden PRE/2827/2009, Real Decreto 1370/2006]  \n",
       "11630      [Orden PRE/2843/2009, Real Decreto 2163/1994]  \n",
       "11631      [Orden PRE/2851/2010, Real Decreto 2163/1994]  \n",
       "11632      [Orden PRE/2871/2011, Real Decreto 2163/1994]  \n",
       "11633      [Orden PRE/2872/2011, Real Decreto 2163/1994]  \n",
       "11634         [Orden PRE/29/2004, Real Decreto 837/2002]  \n",
       "11635  [Orden PRE/2922/2005, Orden de 8 de marzo de 1...  \n",
       "11636      [Orden PRE/2957/2008, Real Decreto 2163/1994]  \n",
       "11637          [Orden PRE/3/2006, Real Decreto 255/2003]  \n",
       "11638      [Orden PRE/3159/2004, Real Decreto 1406/1989]  \n",
       "11639       [Orden PRE/321/2009, Real Decreto 1054/2002]  \n",
       "11640      [Orden PRE/3271/2011, Real Decreto 1054/2002]  \n",
       "11641      [Orden PRE/3290/2002, Real Decreto 2163/1994]  \n",
       "11642      [Orden PRE/3297/2004, Real Decreto 2163/1994]  \n",
       "11643      [Orden PRE/3298/2004, Real Decreto 2822/1998]  \n",
       "11644      [Orden PRE/3302/2006, Real Decreto 2163/1994]  \n",
       "11645      [Orden PRE/3338/2007, Real Decreto 2163/1994]  \n",
       "11647                              [Orden PRE/3420/2007]  \n",
       "11648      [Orden PRE/3476/2003, Real Decreto 2163/1994]  \n",
       "11649                              [Orden PRE/3539/2008]  \n",
       "11650       [Orden PRE/370/2012, Real Decreto 1383/2002]  \n",
       "11651       [Orden PRE/374/2008, Real Decreto 1406/1989]  \n",
       "11652       [Orden PRE/375/2003, Real Decreto 1406/1989]  \n",
       "11653                              [Orden PRE/3834/2005]  \n",
       "11654      [Orden PRE/3856/2005, Real Decreto 2163/1994]  \n",
       "11655      [Orden PRE/3929/2004, Real Decreto 2163/1994]  \n",
       "11656           [Orden PRE/402/2006, Orden PRE/690/2005]  \n",
       "11657                               [Orden PRE/402/2008]  \n",
       "11658       [Orden PRE/456/2007, Real Decreto 2163/1994]  \n",
       "11659                               [Orden PRE/468/2008]  \n",
       "11660                               [Orden PRE/473/2004]  \n",
       "11661       [Orden PRE/507/2008, Real Decreto 1054/2002]  \n",
       "11662        [Orden PRE/52/2010, Real Decreto 2822/1998]  \n",
       "11663       [Orden PRE/531/2010, Real Decreto 2163/1994]  \n",
       "11664  [Orden PRE/556/2005, Orden PRE/473/2004, Real ...  \n",
       "11665        [Orden PRE/568/2009, Real Decreto 258/1999]  \n",
       "11666        [Orden PRE/628/2011, Real Decreto 866/2008]  \n",
       "11667       [Orden PRE/629/2011, Real Decreto 2822/1998]  \n",
       "11668        [Orden PRE/630/2011, Real Decreto 824/2005]  \n",
       "11669       [Orden PRE/631/2011, Real Decreto 2163/1994]  \n",
       "11670       [Orden PRE/662/2013, Real Decreto 1054/2002]  \n",
       "11671       [Orden PRE/675/2013, Real Decreto 1054/2002]  \n",
       "11672                               [Orden PRE/690/2005]  \n",
       "11673       [Orden PRE/696/2008, Real Decreto 2163/1994]  \n",
       "11674       [Orden PRE/730/2003, Real Decreto 1406/1989]  \n",
       "11675                                [Orden PRE/77/2008]  \n",
       "11676        [Orden PRE/772/2016, Real Decreto 219/2013]  \n",
       "11677       [Orden PRE/777/2009, Real Decreto 2163/1994]  \n",
       "11678       [Orden PRE/777/2011, Real Decreto 1054/2002]  \n",
       "11679       [Orden PRE/839/2010, Real Decreto 2163/1994]  "
      ],
      "text/html": "<div>\n<style scoped>\n    .dataframe tbody tr th:only-of-type {\n        vertical-align: middle;\n    }\n\n    .dataframe tbody tr th {\n        vertical-align: top;\n    }\n\n    .dataframe thead th {\n        text-align: right;\n    }\n</style>\n<table border=\"1\" class=\"dataframe\">\n  <thead>\n    <tr style=\"text-align: right;\">\n      <th></th>\n      <th>Codigo</th>\n      <th>Numero</th>\n      <th>Titulo</th>\n      <th>CodigoAmbito</th>\n      <th>Ambito</th>\n      <th>Municipio</th>\n      <th>TiposNorma</th>\n      <th>IdTiposNorma</th>\n      <th>Tags</th>\n    </tr>\n  </thead>\n  <tbody>\n    <tr>\n      <th>11629</th>\n      <td>ORD PRE/2827/2009 ESP</td>\n      <td>2827</td>\n      <td>Orden PRE/2827/2009, de 19 de octubre, por la ...</td>\n      <td>ESP</td>\n      <td>España</td>\n      <td>NaN</td>\n      <td>M. Ambiente</td>\n      <td>[1]</td>\n      <td>[Orden PRE/2827/2009, Real Decreto 1370/2006]</td>\n    </tr>\n    <tr>\n      <th>11630</th>\n      <td>ORD PRE/2843/2009 ESP</td>\n      <td>2843</td>\n      <td>Orden PRE/2843/2009, de 19 de octubre, por la ...</td>\n      <td>ESP</td>\n      <td>España</td>\n      <td>NaN</td>\n      <td>M. Ambiente / Prevención</td>\n      <td>[1][2]</td>\n      <td>[Orden PRE/2843/2009, Real Decreto 2163/1994]</td>\n    </tr>\n    <tr>\n      <th>11631</th>\n      <td>ORD PRE/2851/2010 ESP</td>\n      <td>2851</td>\n      <td>Orden PRE/2851/2010, de 4 de noviembre, por la...</td>\n      <td>ESP</td>\n      <td>España</td>\n      <td>NaN</td>\n      <td>M. Ambiente / Prevención</td>\n      <td>[1][2]</td>\n      <td>[Orden PRE/2851/2010, Real Decreto 2163/1994]</td>\n    </tr>\n    <tr>\n      <th>11632</th>\n      <td>ORD PRE/2871/2011 ESP</td>\n      <td>2871</td>\n      <td>Orden PRE/2871/2011, de 25 de octubre, por la ...</td>\n      <td>ESP</td>\n      <td>España</td>\n      <td>NaN</td>\n      <td>M. Ambiente / Prevención</td>\n      <td>[1][2]</td>\n      <td>[Orden PRE/2871/2011, Real Decreto 2163/1994]</td>\n    </tr>\n    <tr>\n      <th>11633</th>\n      <td>ORD PRE/2872/2011 ESP</td>\n      <td>2872</td>\n      <td>Orden PRE/2872/2011, de 25 de octubre, por la ...</td>\n      <td>ESP</td>\n      <td>España</td>\n      <td>NaN</td>\n      <td>M. Ambiente / Prevención</td>\n      <td>[1][2]</td>\n      <td>[Orden PRE/2872/2011, Real Decreto 2163/1994]</td>\n    </tr>\n    <tr>\n      <th>11634</th>\n      <td>ORD PRE/29/2004 ESP</td>\n      <td>29</td>\n      <td>Orden PRE/29/2004, de 15 de enero, por la que ...</td>\n      <td>ESP</td>\n      <td>España</td>\n      <td>NaN</td>\n      <td>M. Ambiente</td>\n      <td>[1]</td>\n      <td>[Orden PRE/29/2004, Real Decreto 837/2002]</td>\n    </tr>\n    <tr>\n      <th>11635</th>\n      <td>ORD PRE/2922/2005 ESP</td>\n      <td>2922</td>\n      <td>Orden PRE/2922/2005, de 19 de septiembre, por ...</td>\n      <td>ESP</td>\n      <td>España</td>\n      <td>NaN</td>\n      <td>M. Ambiente / Prevención</td>\n      <td>[1][2]</td>\n      <td>[Orden PRE/2922/2005, Orden de 8 de marzo de 1...</td>\n    </tr>\n    <tr>\n      <th>11636</th>\n      <td>ORD PRE/2957/2008 ESP</td>\n      <td>2957</td>\n      <td>Orden PRE/2957/2008, de 10 de octubre, por la ...</td>\n      <td>ESP</td>\n      <td>España</td>\n      <td>NaN</td>\n      <td>M. Ambiente / Prevención</td>\n      <td>[1][2]</td>\n      <td>[Orden PRE/2957/2008, Real Decreto 2163/1994]</td>\n    </tr>\n    <tr>\n      <th>11637</th>\n      <td>ORD PRE/3/2006 ESP</td>\n      <td>3</td>\n      <td>Orden PRE/3/2006, de 12 de enero, por la que s...</td>\n      <td>ESP</td>\n      <td>España</td>\n      <td>NaN</td>\n      <td>M. Ambiente / Prevención</td>\n      <td>[1][2]</td>\n      <td>[Orden PRE/3/2006, Real Decreto 255/2003]</td>\n    </tr>\n    <tr>\n      <th>11638</th>\n      <td>ORD PRE/3159/2004 ESP</td>\n      <td>3159</td>\n      <td>Orden PRE/3159/2004, de 28 de septiembre, por ...</td>\n      <td>ESP</td>\n      <td>España</td>\n      <td>NaN</td>\n      <td>M. Ambiente / Prevención</td>\n      <td>[1][2]</td>\n      <td>[Orden PRE/3159/2004, Real Decreto 1406/1989]</td>\n    </tr>\n    <tr>\n      <th>11639</th>\n      <td>ORD PRE/321/2009 ESP</td>\n      <td>321</td>\n      <td>Orden PRE/321/2009, de 13 de febrero, por la q...</td>\n      <td>ESP</td>\n      <td>España</td>\n      <td>NaN</td>\n      <td>M. Ambiente / Prevención</td>\n      <td>[1][2]</td>\n      <td>[Orden PRE/321/2009, Real Decreto 1054/2002]</td>\n    </tr>\n    <tr>\n      <th>11640</th>\n      <td>ORD PRE/3271/2011 ESP</td>\n      <td>3271</td>\n      <td>Orden PRE/3271/2011, de 25 de noviembre, por l...</td>\n      <td>ESP</td>\n      <td>España</td>\n      <td>NaN</td>\n      <td>M. Ambiente / Prevención</td>\n      <td>[1][2]</td>\n      <td>[Orden PRE/3271/2011, Real Decreto 1054/2002]</td>\n    </tr>\n    <tr>\n      <th>11641</th>\n      <td>ORD PRE/3290/2002 ESP</td>\n      <td>3290</td>\n      <td>Orden PRE/3290/2002, de 23 de diciembre, por l...</td>\n      <td>ESP</td>\n      <td>España</td>\n      <td>NaN</td>\n      <td>M. Ambiente / Prevención</td>\n      <td>[1][2]</td>\n      <td>[Orden PRE/3290/2002, Real Decreto 2163/1994]</td>\n    </tr>\n    <tr>\n      <th>11642</th>\n      <td>ORD PRE/3297/2004 ESP</td>\n      <td>3297</td>\n      <td>Orden PRE/3297/2004, de 13 de octubre, por la ...</td>\n      <td>ESP</td>\n      <td>España</td>\n      <td>NaN</td>\n      <td>M. Ambiente / Prevención</td>\n      <td>[1][2]</td>\n      <td>[Orden PRE/3297/2004, Real Decreto 2163/1994]</td>\n    </tr>\n    <tr>\n      <th>11643</th>\n      <td>ORD PRE/3298/2004 ESP</td>\n      <td>3298</td>\n      <td>Orden PRE/3298/2004, de 13 de octubre, por la ...</td>\n      <td>ESP</td>\n      <td>España</td>\n      <td>NaN</td>\n      <td>Reg. Industrial</td>\n      <td>[3]</td>\n      <td>[Orden PRE/3298/2004, Real Decreto 2822/1998]</td>\n    </tr>\n    <tr>\n      <th>11644</th>\n      <td>ORD PRE/3302/2006 ESP</td>\n      <td>3302</td>\n      <td>Orden PRE/3302/2006, de 27 de octubre, por la ...</td>\n      <td>ESP</td>\n      <td>España</td>\n      <td>NaN</td>\n      <td>M. Ambiente / Prevención</td>\n      <td>[1][2]</td>\n      <td>[Orden PRE/3302/2006, Real Decreto 2163/1994]</td>\n    </tr>\n    <tr>\n      <th>11645</th>\n      <td>ORD PRE/3338/2007 ESP</td>\n      <td>3338</td>\n      <td>Orden PRE/3338/2007, de 15 de noviembre, por l...</td>\n      <td>ESP</td>\n      <td>España</td>\n      <td>NaN</td>\n      <td>M. Ambiente / Prevención</td>\n      <td>[1][2]</td>\n      <td>[Orden PRE/3338/2007, Real Decreto 2163/1994]</td>\n    </tr>\n    <tr>\n      <th>11647</th>\n      <td>ORD PRE/3420/2007 ESP</td>\n      <td>3420</td>\n      <td>Orden PRE/3420/2007, de 14 de noviembre, por l...</td>\n      <td>ESP</td>\n      <td>España</td>\n      <td>NaN</td>\n      <td>M. Ambiente</td>\n      <td>[1]</td>\n      <td>[Orden PRE/3420/2007]</td>\n    </tr>\n    <tr>\n      <th>11648</th>\n      <td>ORD PRE/3476/2003 ESP</td>\n      <td>3476</td>\n      <td>Orden PRE/3476/2003, de 9 de diciembre, por la...</td>\n      <td>ESP</td>\n      <td>España</td>\n      <td>NaN</td>\n      <td>M. Ambiente / Prevención</td>\n      <td>[1][2]</td>\n      <td>[Orden PRE/3476/2003, Real Decreto 2163/1994]</td>\n    </tr>\n    <tr>\n      <th>11649</th>\n      <td>ORD PRE/3539/2008 ESP</td>\n      <td>3539</td>\n      <td>Orden PRE/3539/2008, de 28 de noviembre, por l...</td>\n      <td>ESP</td>\n      <td>España</td>\n      <td>NaN</td>\n      <td>M. Ambiente</td>\n      <td>[1]</td>\n      <td>[Orden PRE/3539/2008]</td>\n    </tr>\n    <tr>\n      <th>11650</th>\n      <td>ORD PRE/370/2012 ESP</td>\n      <td>370</td>\n      <td>Orden PRE/370/2012, de 27 de febrero, por la q...</td>\n      <td>ESP</td>\n      <td>España</td>\n      <td>NaN</td>\n      <td>M. Ambiente</td>\n      <td>[1]</td>\n      <td>[Orden PRE/370/2012, Real Decreto 1383/2002]</td>\n    </tr>\n    <tr>\n      <th>11651</th>\n      <td>ORD PRE/374/2008 ESP</td>\n      <td>374</td>\n      <td>Orden PRE/374/2008, de 31 de enero, por la que...</td>\n      <td>ESP</td>\n      <td>España</td>\n      <td>NaN</td>\n      <td>M. Ambiente / Prevención</td>\n      <td>[1][2]</td>\n      <td>[Orden PRE/374/2008, Real Decreto 1406/1989]</td>\n    </tr>\n    <tr>\n      <th>11652</th>\n      <td>ORD PRE/375/2003 ESP</td>\n      <td>375</td>\n      <td>Orden PRE/375/2003, de 24 de febrero, por la q...</td>\n      <td>ESP</td>\n      <td>España</td>\n      <td>NaN</td>\n      <td>M. Ambiente / Prevención</td>\n      <td>[1][2]</td>\n      <td>[Orden PRE/375/2003, Real Decreto 1406/1989]</td>\n    </tr>\n    <tr>\n      <th>11653</th>\n      <td>ORD PRE/3834/2005 ESP</td>\n      <td>3834</td>\n      <td>Orden PRE/3834/2005, de 9 de diciembre, por la...</td>\n      <td>ESP</td>\n      <td>España</td>\n      <td>NaN</td>\n      <td>M. Ambiente</td>\n      <td>[1]</td>\n      <td>[Orden PRE/3834/2005]</td>\n    </tr>\n    <tr>\n      <th>11654</th>\n      <td>ORD PRE/3856/2005 ESP</td>\n      <td>3856</td>\n      <td>Orden PRE/3856/2005, de 12 de diciembre, por l...</td>\n      <td>ESP</td>\n      <td>España</td>\n      <td>NaN</td>\n      <td>M. Ambiente / Prevención</td>\n      <td>[1][2]</td>\n      <td>[Orden PRE/3856/2005, Real Decreto 2163/1994]</td>\n    </tr>\n    <tr>\n      <th>11655</th>\n      <td>ORD PRE/3929/2004 ESP</td>\n      <td>3929</td>\n      <td>Orden PRE/3929/2004, de 30 de noviembre, por l...</td>\n      <td>ESP</td>\n      <td>España</td>\n      <td>NaN</td>\n      <td>M. Ambiente / Prevención</td>\n      <td>[1][2]</td>\n      <td>[Orden PRE/3929/2004, Real Decreto 2163/1994]</td>\n    </tr>\n    <tr>\n      <th>11656</th>\n      <td>ORD PRE/402/2006 ESP</td>\n      <td>402</td>\n      <td>Orden PRE/402/2006, de 16 de febrero, por la q...</td>\n      <td>ESP</td>\n      <td>España</td>\n      <td>NaN</td>\n      <td>M. Ambiente / Prevención</td>\n      <td>[1][2]</td>\n      <td>[Orden PRE/402/2006, Orden PRE/690/2005]</td>\n    </tr>\n    <tr>\n      <th>11657</th>\n      <td>ORD PRE/402/2008 CAT</td>\n      <td>402</td>\n      <td>Orden PRE/402/2008, de 28 de agosto, por la qu...</td>\n      <td>ESP</td>\n      <td>España</td>\n      <td>NaN</td>\n      <td>Reg. Industrial</td>\n      <td>[3]</td>\n      <td>[Orden PRE/402/2008]</td>\n    </tr>\n    <tr>\n      <th>11658</th>\n      <td>ORD PRE/456/2007 ESP</td>\n      <td>456</td>\n      <td>Orden PRE/456/2007, de 28 de febrero, por la q...</td>\n      <td>ESP</td>\n      <td>España</td>\n      <td>NaN</td>\n      <td>M. Ambiente / Prevención</td>\n      <td>[1][2]</td>\n      <td>[Orden PRE/456/2007, Real Decreto 2163/1994]</td>\n    </tr>\n    <tr>\n      <th>11659</th>\n      <td>ORD PRE/468/2008 ESP</td>\n      <td>468</td>\n      <td>Orden PRE/468/2008, de 15 de febrero, por la q...</td>\n      <td>ESP</td>\n      <td>España</td>\n      <td>NaN</td>\n      <td>M. Ambiente</td>\n      <td>[1]</td>\n      <td>[Orden PRE/468/2008]</td>\n    </tr>\n    <tr>\n      <th>11660</th>\n      <td>ORD PRE/473/2004 ESP</td>\n      <td>473</td>\n      <td>Orden PRE/473/2004, de 25 de febrero, por la q...</td>\n      <td>ESP</td>\n      <td>España</td>\n      <td>NaN</td>\n      <td>M. Ambiente / Prevención</td>\n      <td>[1][2]</td>\n      <td>[Orden PRE/473/2004]</td>\n    </tr>\n    <tr>\n      <th>11661</th>\n      <td>ORD PRE/507/2008 ESP</td>\n      <td>507</td>\n      <td>Orden PRE/507/2008, de 26 de febrero, por la q...</td>\n      <td>ESP</td>\n      <td>España</td>\n      <td>NaN</td>\n      <td>M. Ambiente / Prevención</td>\n      <td>[1][2]</td>\n      <td>[Orden PRE/507/2008, Real Decreto 1054/2002]</td>\n    </tr>\n    <tr>\n      <th>11662</th>\n      <td>ORD PRE/52/2010 ESP</td>\n      <td>23/1/2010</td>\n      <td>Orden PRE/52/2010, de 21 de enero, por la que ...</td>\n      <td>ESP</td>\n      <td>España</td>\n      <td>NaN</td>\n      <td>Seguridad Vial</td>\n      <td>[5]</td>\n      <td>[Orden PRE/52/2010, Real Decreto 2822/1998]</td>\n    </tr>\n    <tr>\n      <th>11663</th>\n      <td>ORD PRE/531/2010 ESP</td>\n      <td>531</td>\n      <td>Orden PRE/531/2010, de 26 de febrero, por la q...</td>\n      <td>ESP</td>\n      <td>España</td>\n      <td>NaN</td>\n      <td>M. Ambiente / Prevención</td>\n      <td>[1][2]</td>\n      <td>[Orden PRE/531/2010, Real Decreto 2163/1994]</td>\n    </tr>\n    <tr>\n      <th>11664</th>\n      <td>ORD PRE/556/2005 ESP</td>\n      <td>556</td>\n      <td>Orden PRE/556/2005, de 10 de marzo, por la que...</td>\n      <td>ESP</td>\n      <td>España</td>\n      <td>NaN</td>\n      <td>M. Ambiente / Prevención</td>\n      <td>[1][2]</td>\n      <td>[Orden PRE/556/2005, Orden PRE/473/2004, Real ...</td>\n    </tr>\n    <tr>\n      <th>11665</th>\n      <td>ORD PRE/568/2009 ESP</td>\n      <td>568</td>\n      <td>Orden PRE/568/2009, de 5 de marzo, por la que ...</td>\n      <td>ESP</td>\n      <td>España</td>\n      <td>NaN</td>\n      <td>Prevención</td>\n      <td>[2]</td>\n      <td>[Orden PRE/568/2009, Real Decreto 258/1999]</td>\n    </tr>\n    <tr>\n      <th>11666</th>\n      <td>ORD PRE/628/2011 ESP</td>\n      <td>628</td>\n      <td>Orden PRE/628/2011, de 22 de marzo, por la que...</td>\n      <td>ESP</td>\n      <td>España</td>\n      <td>NaN</td>\n      <td>Seg. Alimentaria</td>\n      <td>[7]</td>\n      <td>[Orden PRE/628/2011, Real Decreto 866/2008]</td>\n    </tr>\n    <tr>\n      <th>11667</th>\n      <td>ORD PRE/629/2011 ESP</td>\n      <td>629</td>\n      <td>Orden PRE/629/2011, de 22 de marzo, por la que...</td>\n      <td>ESP</td>\n      <td>España</td>\n      <td>-</td>\n      <td>Seguridad Vial</td>\n      <td>[5]</td>\n      <td>[Orden PRE/629/2011, Real Decreto 2822/1998]</td>\n    </tr>\n    <tr>\n      <th>11668</th>\n      <td>ORD PRE/630/2011 ESP</td>\n      <td>630</td>\n      <td>Orden PRE/630/2011, de 23 de marzo, por la que...</td>\n      <td>ESP</td>\n      <td>España</td>\n      <td>NaN</td>\n      <td>M. Ambiente / Prevención</td>\n      <td>[1][2]</td>\n      <td>[Orden PRE/630/2011, Real Decreto 824/2005]</td>\n    </tr>\n    <tr>\n      <th>11669</th>\n      <td>ORD PRE/631/2011 ESP</td>\n      <td>631</td>\n      <td>Orden PRE/631/2011, de 23 de marzo, por la que...</td>\n      <td>ESP</td>\n      <td>España</td>\n      <td>NaN</td>\n      <td>M. Ambiente / Prevención</td>\n      <td>[1][2]</td>\n      <td>[Orden PRE/631/2011, Real Decreto 2163/1994]</td>\n    </tr>\n    <tr>\n      <th>11670</th>\n      <td>ORD PRE/662/2013 ESP</td>\n      <td>662</td>\n      <td>Orden PRE/662/2013, de 22 de abril, por la que...</td>\n      <td>ESP</td>\n      <td>España</td>\n      <td>NaN</td>\n      <td>M. Ambiente / Prevención</td>\n      <td>[1][2]</td>\n      <td>[Orden PRE/662/2013, Real Decreto 1054/2002]</td>\n    </tr>\n    <tr>\n      <th>11671</th>\n      <td>ORD PRE/675/2013 ESP</td>\n      <td>675</td>\n      <td>Orden PRE/675/2013, de 22 de abril, por la que...</td>\n      <td>ESP</td>\n      <td>España</td>\n      <td>NaN</td>\n      <td>M. Ambiente / Prevención</td>\n      <td>[1][2]</td>\n      <td>[Orden PRE/675/2013, Real Decreto 1054/2002]</td>\n    </tr>\n    <tr>\n      <th>11672</th>\n      <td>ORD PRE/690/2005 ESP</td>\n      <td>690</td>\n      <td>Orden PRE/690/2005, de 18 de marzo, por la que...</td>\n      <td>ESP</td>\n      <td>España</td>\n      <td>NaN</td>\n      <td>M. Ambiente / Prevención</td>\n      <td>[1][2]</td>\n      <td>[Orden PRE/690/2005]</td>\n    </tr>\n    <tr>\n      <th>11673</th>\n      <td>ORD PRE/696/2008 ESP</td>\n      <td>696</td>\n      <td>Orden PRE/696/2008, de 7 de marzo, por la que ...</td>\n      <td>ESP</td>\n      <td>España</td>\n      <td>NaN</td>\n      <td>M. Ambiente / Prevención</td>\n      <td>[1][2]</td>\n      <td>[Orden PRE/696/2008, Real Decreto 2163/1994]</td>\n    </tr>\n    <tr>\n      <th>11674</th>\n      <td>ORD PRE/730/2003 ESP</td>\n      <td>730</td>\n      <td>Orden PRE/730/2003, de 25 de marzo, por la que...</td>\n      <td>ESP</td>\n      <td>España</td>\n      <td>NaN</td>\n      <td>M. Ambiente / Prevención</td>\n      <td>[1][2]</td>\n      <td>[Orden PRE/730/2003, Real Decreto 1406/1989]</td>\n    </tr>\n    <tr>\n      <th>11675</th>\n      <td>ORD PRE/77/2008 ESP</td>\n      <td>77</td>\n      <td>Orden PRE/77/2008, de 17 de enero, por la que ...</td>\n      <td>ESP</td>\n      <td>España</td>\n      <td>NaN</td>\n      <td>M. Ambiente</td>\n      <td>[1]</td>\n      <td>[Orden PRE/77/2008]</td>\n    </tr>\n    <tr>\n      <th>11676</th>\n      <td>ORD PRE/772/2016 ESP</td>\n      <td>772</td>\n      <td>Orden PRE/772/2016, de 19 de mayo, por la que ...</td>\n      <td>ESP</td>\n      <td>España</td>\n      <td>NaN</td>\n      <td>M. Ambiente</td>\n      <td>[1]</td>\n      <td>[Orden PRE/772/2016, Real Decreto 219/2013]</td>\n    </tr>\n    <tr>\n      <th>11677</th>\n      <td>ORD PRE/777/2009 ESP</td>\n      <td>777</td>\n      <td>Orden PRE/777/2009, de 26 de marzo, por la que...</td>\n      <td>ESP</td>\n      <td>España</td>\n      <td>NaN</td>\n      <td>M. Ambiente / Prevención</td>\n      <td>[1][2]</td>\n      <td>[Orden PRE/777/2009, Real Decreto 2163/1994]</td>\n    </tr>\n    <tr>\n      <th>11678</th>\n      <td>ORD PRE/777/2011 ESP</td>\n      <td>777</td>\n      <td>Orden PRE/777/2011, de 4 de abril, por la que ...</td>\n      <td>ESP</td>\n      <td>España</td>\n      <td>NaN</td>\n      <td>M. Ambiente / Prevención</td>\n      <td>[1][2]</td>\n      <td>[Orden PRE/777/2011, Real Decreto 1054/2002]</td>\n    </tr>\n    <tr>\n      <th>11679</th>\n      <td>ORD PRE/839/2010 ESP</td>\n      <td>839</td>\n      <td>Orden PRE/839/2010, de 29 de marzo, por la que...</td>\n      <td>ESP</td>\n      <td>España</td>\n      <td>NaN</td>\n      <td>M. Ambiente / Prevención</td>\n      <td>[1][2]</td>\n      <td>[Orden PRE/839/2010, Real Decreto 2163/1994]</td>\n    </tr>\n  </tbody>\n</table>\n</div>"
     },
     "metadata": {},
     "execution_count": 37
    }
   ],
   "source": [
    "ASECORP_BBDD_BOE[1200:1250]"
   ]
  },
  {
   "cell_type": "code",
   "execution_count": 38,
   "metadata": {},
   "outputs": [],
   "source": [
    "# titulo"
   ]
  },
  {
   "cell_type": "code",
   "execution_count": 39,
   "metadata": {},
   "outputs": [
    {
     "output_type": "execute_result",
     "data": {
      "text/plain": [
       "2959"
      ]
     },
     "metadata": {},
     "execution_count": 39
    }
   ],
   "source": [
    "len(titulo)"
   ]
  },
  {
   "cell_type": "code",
   "execution_count": 40,
   "metadata": {},
   "outputs": [],
   "source": [
    "## Busca patrones regex definidos en columna títulos del DF \n",
    "boletin = []\n",
    "for i, row in ASECORP_BBDD_BOE.iterrows():\n",
    "    boletin.append(str(re.findall('|'.join(pattern), row['Titulo'], flags=re.IGNORECASE)))"
   ]
  },
  {
   "cell_type": "code",
   "execution_count": 41,
   "metadata": {},
   "outputs": [
    {
     "output_type": "execute_result",
     "data": {
      "text/plain": [
       "['[]',\n",
       " '[]',\n",
       " '[]',\n",
       " '[]',\n",
       " '[]',\n",
       " '[]',\n",
       " '[]',\n",
       " '[]',\n",
       " '[]',\n",
       " '[]',\n",
       " '[]',\n",
       " '[]',\n",
       " '[]',\n",
       " '[]',\n",
       " '[]',\n",
       " \"['Acuerdo Multilateral M-150']\",\n",
       " \"['Acuerdo Multilateral M-159']\",\n",
       " \"['Acuerdo multilateral M-168']\",\n",
       " \"['Acuerdo Multilateral M-170']\",\n",
       " \"['Acuerdo Multilateral M-171']\",\n",
       " \"['Acuerdo Multilateral M-173']\",\n",
       " \"['Acuerdo Multilateral M-175']\",\n",
       " '[]',\n",
       " \"['Acuerdo Multilateral M-178']\",\n",
       " \"['Acuerdo Multilateral M-198']\"]"
      ]
     },
     "metadata": {},
     "execution_count": 41
    }
   ],
   "source": [
    "boletin[0:25]"
   ]
  },
  {
   "cell_type": "code",
   "execution_count": 42,
   "metadata": {},
   "outputs": [],
   "source": [
    "## Para cada fila de la BBDD recoge la expresión REGEX encontrada y si no existe no la incluye \n",
    "## en la lista resultante llamada 'boletin'. Además si no detecta expresión la cuenta como vacía\n",
    "## en variable 'n_vacios', y la añade a la lista 'vacios' para inspeccionar posteriormente \n",
    "boletin = []\n",
    "vacios = []\n",
    "n_vacios = 0\n",
    "for i, row in ASECORP_BBDD_BOE.iterrows():\n",
    "    regex_result = re.findall('|'.join(pattern), row['Titulo'], flags=re.IGNORECASE)\n",
    "    if len(regex_result) != 0:\n",
    "        boletin.append(re.findall('|'.join(pattern), row['Titulo'], flags=re.IGNORECASE))\n",
    "    else:\n",
    "        n_vacios += 1\n",
    "        vacios.append(row['Titulo'])"
   ]
  },
  {
   "cell_type": "code",
   "execution_count": 43,
   "metadata": {},
   "outputs": [
    {
     "output_type": "execute_result",
     "data": {
      "text/plain": [
       "276"
      ]
     },
     "metadata": {},
     "execution_count": 43
    }
   ],
   "source": [
    "n_vacios"
   ]
  },
  {
   "cell_type": "code",
   "execution_count": 44,
   "metadata": {},
   "outputs": [
    {
     "output_type": "execute_result",
     "data": {
      "text/plain": [
       "['Acuerdo Multilateral RID 1/2020 en virtud de la Sección 1.5.1 del Reglamento del Transporte Internacional de Mercancías Peligrosas por Ferrocarril (RID), relativo a los certificados de consejeros de seguridad de conformidad con el punto 1.8.3.7 del RID, hecho en Madrid el 25 de marzo de 2020',\n",
       " 'Entrada en vigor del Acuerdo entre el Reino de España y el Principado de Andorra sobre traslado y gestión de residuos, hecho en Madrid el 17 de octubre de 2006.',\n",
       " 'Aplicación provisional del Acuerdo entre el Reino de España y el Principado de Andorra sobre traslado y gestión de residuos, hecho en Madrid el 17 de octubre de 2006.',\n",
       " 'Acuerdo de la Junta de Gobierno de la Confederación Hidrográfica del Segura celebrada el día 30 de octubre de 2018 sobre aplicación de indisponibilidad o reducción de dotaciones de acuerdo al Plan Especial de Sequía y al Real Decreto que la regula',\n",
       " 'Acuerdo Multilateral RID 2/2020 en virtud de la Sección 1.5.1 del Reglamento del Transporte Internacional de Mercancías Peligrosas por Ferrocarril (RID), relativo a inspecciones periódicas o intermedias de cisternas de conformidad con los apartados 6.8.2.4.2, 6.8.2.4.3, 6.8.3.4.6, 6.8.3.4.12, 6.9.5.2 y 6.10.4 del RID, hecho en Madrid el 25 de marzo de 2020',\n",
       " 'Entrada en vigor del Acuerdo entre el Reino de España y el Principado de Andorra sobre el traslado de residuos, hecho en Madrid el 29 de noviembre de 2011.',\n",
       " 'Acuerdo Multilateral RID 1/2013 en aplicación de la Sección 1.5.1 del Reglamento del Transporte Internacional de Mercancías Peligrosas por Ferrocarril (RID), relativo al cambio de referencia a la norma EN ISO/IEC 17020:2004 por la referencia a la norma EN ISO/IEC 17020:2012 (excepto cláusula 8.1.3), hecho en Madrid el 26 de junio de 2013.',\n",
       " 'Canje de Notas por el que se procede a la prórroga del mantenimiento en vigor del Acuerdo entre el Reino de España y el Principado de Andorra sobre traslado y gestión de residuos, hecho en Madrid el 27 de enero de 2000.',\n",
       " 'Aplicación provisional del Acuerdo entre el Reino de España y el Principado de Andorra sobre el traslado de residuos, hecho en Madrid el 29 de noviembre de 2011.',\n",
       " 'Plan de Acción de Ahorro y Eficiencia Energética  2011-2020, del 29 de julio de 2011 (IDAE)',\n",
       " 'Acuerdo Especial Multilateral RID 3/2020 en virtud de la Sección 1.5.1 del Reglamento del Transporte Internacional de Mercancías Peligrosas por Ferrocarril (RID), relativo a la inspección periódica y ensayo de recipientes a presión para el transporte de gases de la Clase 2, hecho en Madrid el 2 de abril de 2020',\n",
       " 'Acuerdo Multilateral RID 3/2007 en virtud de la Sección 1.5.1. del Reglamento del Transporte Internacional de Mercancías Peligrosas por Ferrocarril (RID), (publicado en el «Boletín Oficial del Estado» nº 59 de 9 de marzo de 2007) relativo al transporte de acuerdo con la disposición especial de embalaje PP1 de la instrucción de embalaje P001, hecho en Madrid el 30 de abril de 2008.',\n",
       " 'Acuerdo Multilateral RID 4/2009 en virtud de la Sección 1.5.1. del Reglamento del Transporte Internacional de Mercancías Peligrosas por Ferrocarril (RID), (publicado en el «Boletín Oficial del Estado» n.º 59 de 9 de marzo de 2007) relativo a las placas naranja para fijarse al vagón transportista usado para el transporte carretera-ferrocarril (ferroutage), hecho en Madrid a 14 de junio de 2010.',\n",
       " 'Acuerdo Especial Multilateral RID 4/2020 en virtud de la Sección 1.5.1 del Reglamento del Transporte Internacional de Mercancías Peligrosas por Ferrocarril (RID), sobre inspecciones periódicas o intermedias de cisternas portátiles y contenedores de gas de elementos múltiples (CGEM) certificados «UN» de acuerdo con los apartados 6.7.2.19.2, 6.7.3.15.2, 6.7.4.14.2 y 6.7.5.12.2 del RID, hecho en Madrid el 2 de abril de 2020',\n",
       " 'Acuerdo Especial Multilateral RID 8.2020 en virtud de la sección 1.5.1 del RID, relativo a la inspección periódica y ensayo de recipientes a presión para el transporte de gases de la Clase 2, hecho en Madrid el 1 de diciembre de 2020',\n",
       " 'Acuerdo multilateral ADR M-177 en virtud de la sección 1.5.1 del Acuerdo Europeo sobre transporte internacional de mercancías peligrosas por carretera (ADR), publicado en el «Boletín Oficial del Estado» n.º 18, de 21 de enero de 2005, relativo al documento de transporte en operaciones de venta en ruta, hecho en Madrid el 23 de junio de 2006.',\n",
       " 'Acuerdo Multilateral M 269 en aplicación de la sección 1.5.1 del Acuerdo Europeo sobre transporte internacional de mercancías peligrosas por carretera (ADR), relativo al marcado de los números UN en botellas para gases licuados del petróleo (GLP), hecho en Madrid el 20 de diciembre de 2013.',\n",
       " 'Acuerdo  Multilateral  M  300  en  aplicación  de  la  sección  1.5.1  del  Acuerdo Europeo sobre transporte internacional de mercancías peligrosas por carretera (ADR), relativo al documento de transporte en operaciones de venta en ruta, hecho en Madrid el 11 de julio de 2016',\n",
       " 'Acuerdo Multilateral M 304 en aplicación de la sección 1.5.1 del AcuerdoEuropeo sobre transporte internacional de mercancías peligrosas por carretera(ADR), relativo al número de remolques en una unidad de transporte demercancías peligrosas, hecho en Madrid el 30 de enero de 2017',\n",
       " 'Acuerdo Multilateral M 311 en virtud de la sección 1.5.1 del Anexo A del Acuerdo Europeo sobre transporte internacional de mercancías peligrosas por carretera (ADR), relativo al marcado (placas etiqueta) de contenedores usados exclusivamente en una operación de transporte por carretera, hecho en Madrid el 22 de marzo de 2018',\n",
       " 'Acuerdo Multilateral M315 en virtud de la sección 1.5.1 del Anexo A del Acuerdo Europeo sobre transporte internacional de mercancías peligrosas por carretera (ADR), relativo al transporte de desechos contaminados con virus que causan fiebre hemorrágica, hecho en Madrid el 8 de julio de 2019',\n",
       " 'Acuerdo Multilateral M317 en virtud de la sección 1.5. del Acuerdo europeo sobre transporte internacional de mercancías peligrosas por carretera (ADR), relativo al transporte de desechos médicos sólidos o clínicos, Categoría A, hecho en Madrid el 23 de marzo de 2020',\n",
       " 'Acuerdo Multilateral M324 en virtud de la sección 1.5.1 del Acuerdo europeo sobre transporte internacional de mercancías peligrosas por carretera (ADR) relativo a los certificados de formación de los conductores de conformidad con el punto 8.2.2.8.2 del ADR y los certificados de consejeros de seguridad de conformidad con el punto 1.8.3.7 del ADR, hecho en Madrid el 23 de marzo de 2020',\n",
       " 'Acuerdo Multilateral M325 en virtud de la sección 1.5.1 del Acuerdo europeo sobre transporte internacional de mercancías peligrosas por carretera (ADR), relativo a inspecciones periódicas o intermedias de cisternas de conformidad con los apartados 6.8.2.4.2, 6.8.2.4.3, 6.8.3.4.6, 6.8.3.4.12, 6.9.5.2 y 6.10.4 del ADR, y los certificados de aprobación para vehículos de conformidad con el apartado 9.1.3.4 del ADR, hecho en Madrid el 23 de marzo de 2020',\n",
       " 'Acuerdo Multilateral M326 en virtud de la sección 1.5.1 del Acuerdo europeo sobre transporte internacional de mercancías peligrosas por carretera (ADR), relativo a la inspección periódica y ensayo de recipientes a presión del transporte de gases de la Clase 2, hecho en Madrid el 2 de abril de 2020']"
      ]
     },
     "metadata": {},
     "execution_count": 44
    }
   ],
   "source": [
    "vacios[0:25]"
   ]
  },
  {
   "cell_type": "code",
   "execution_count": 45,
   "metadata": {},
   "outputs": [
    {
     "output_type": "execute_result",
     "data": {
      "text/plain": [
       "[['Acuerdo Multilateral M-150'],\n",
       " ['Acuerdo Multilateral M-159'],\n",
       " ['Acuerdo multilateral M-168'],\n",
       " ['Acuerdo Multilateral M-170'],\n",
       " ['Acuerdo Multilateral M-171'],\n",
       " ['Acuerdo Multilateral M-173'],\n",
       " ['Acuerdo Multilateral M-175'],\n",
       " ['Acuerdo Multilateral M-178'],\n",
       " ['Acuerdo Multilateral M-198'],\n",
       " ['Acuerdo Multilateral M-214'],\n",
       " ['Acuerdo Multilateral M-218'],\n",
       " ['Acuerdo Multilateral M-226'],\n",
       " ['Acuerdo Multilateral M-228'],\n",
       " ['Acuerdo Multilateral M-231'],\n",
       " ['Acuerdo Multilateral M-236'],\n",
       " ['Acuerdo Multilateral M-245'],\n",
       " ['Acuerdo Multilateral M-254'],\n",
       " ['Acuerdo Multilateral M-259'],\n",
       " ['Acuerdo Multilateral M-265'],\n",
       " ['Acuerdo Multilateral M-268'],\n",
       " ['Acuerdo Multilateral M-271'],\n",
       " ['Acuerdo Multilateral M-273'],\n",
       " ['Acuerdo Multilateral M-276'],\n",
       " ['Acuerdo Multilateral M-291'],\n",
       " ['Acuerdo Multilateral M-292']]"
      ]
     },
     "metadata": {},
     "execution_count": 45
    }
   ],
   "source": [
    "boletin[0:25]"
   ]
  },
  {
   "cell_type": "code",
   "execution_count": 46,
   "metadata": {},
   "outputs": [],
   "source": [
    "# Flatten list of lists\n",
    "boletin_ASECORP_flat_list = [item for sublist in boletin for item in sublist]"
   ]
  },
  {
   "cell_type": "code",
   "execution_count": 47,
   "metadata": {},
   "outputs": [
    {
     "output_type": "execute_result",
     "data": {
      "text/plain": [
       "['Acuerdo Multilateral M-150',\n",
       " 'Acuerdo Multilateral M-159',\n",
       " 'Acuerdo multilateral M-168',\n",
       " 'Acuerdo Multilateral M-170',\n",
       " 'Acuerdo Multilateral M-171',\n",
       " 'Acuerdo Multilateral M-173',\n",
       " 'Acuerdo Multilateral M-175',\n",
       " 'Acuerdo Multilateral M-178',\n",
       " 'Acuerdo Multilateral M-198',\n",
       " 'Acuerdo Multilateral M-214',\n",
       " 'Acuerdo Multilateral M-218',\n",
       " 'Acuerdo Multilateral M-226',\n",
       " 'Acuerdo Multilateral M-228',\n",
       " 'Acuerdo Multilateral M-231',\n",
       " 'Acuerdo Multilateral M-236',\n",
       " 'Acuerdo Multilateral M-245',\n",
       " 'Acuerdo Multilateral M-254',\n",
       " 'Acuerdo Multilateral M-259',\n",
       " 'Acuerdo Multilateral M-265',\n",
       " 'Acuerdo Multilateral M-268',\n",
       " 'Acuerdo Multilateral M-271',\n",
       " 'Acuerdo Multilateral M-273',\n",
       " 'Acuerdo Multilateral M-276',\n",
       " 'Acuerdo Multilateral M-291',\n",
       " 'Acuerdo Multilateral M-292']"
      ]
     },
     "metadata": {},
     "execution_count": 47
    }
   ],
   "source": [
    "boletin_ASECORP_flat_list[0:25]"
   ]
  },
  {
   "cell_type": "code",
   "execution_count": 48,
   "metadata": {},
   "outputs": [],
   "source": [
    "## Elimina duplicados\n",
    "boletin_ASECORP_flat_list = list(set(boletin_ASECORP_flat_list))"
   ]
  },
  {
   "cell_type": "code",
   "execution_count": 49,
   "metadata": {},
   "outputs": [
    {
     "output_type": "execute_result",
     "data": {
      "text/plain": [
       "['Orden ITC/1522/2007',\n",
       " 'Orden AAA/1601/2012',\n",
       " 'Orden AAA/1072/2013',\n",
       " 'Resolución de 16 de marzo de 2020',\n",
       " 'Resolución de 27 de diciembre de 2013',\n",
       " 'Real Decreto 210/2004',\n",
       " 'Real Decreto 1315/1992',\n",
       " 'Orden INT/2323/2011',\n",
       " 'Real Decreto 308/1983',\n",
       " 'Orden de 15 de octubre de 2001',\n",
       " 'Orden SSI/890/2017',\n",
       " 'Nota de servicio 1/2016',\n",
       " 'Orden de 20 de noviembre de 2001',\n",
       " 'Real Decreto 736/2020',\n",
       " 'Real decreto 1523/1999',\n",
       " 'Resolución de 16 de abril de 2012',\n",
       " 'Orden de 3 de septiembre de 1998',\n",
       " 'Real Decreto 195/2010',\n",
       " 'Resolución de 17 de abril de 2009',\n",
       " 'Real Decreto 949/1997',\n",
       " 'Real Decreto 1359/2011',\n",
       " 'Real Decreto 1751/1998',\n",
       " 'Resolución de 9 de junio de 2008',\n",
       " 'Resolución de 21 de mayo de 2009',\n",
       " 'Orden de 23 de diciembre de 1994']"
      ]
     },
     "metadata": {},
     "execution_count": 49
    }
   ],
   "source": [
    "boletin_ASECORP_flat_list[0:25]"
   ]
  },
  {
   "cell_type": "code",
   "execution_count": 50,
   "metadata": {},
   "outputs": [
    {
     "output_type": "execute_result",
     "data": {
      "text/plain": [
       "{'Ley 11/2020', 'Ley 33/2011'}"
      ]
     },
     "metadata": {},
     "execution_count": 50
    }
   ],
   "source": [
    "## Busca coincidencias entre lista boletines BOEs explorados y lista boletines de BBDD ASECORP\n",
    "set(boletin_flat_list) & set(boletin_ASECORP_flat_list)"
   ]
  },
  {
   "cell_type": "code",
   "execution_count": 51,
   "metadata": {},
   "outputs": [
    {
     "output_type": "stream",
     "name": "stdout",
     "text": [
      "{'Ley 11/2020'}\n{'Ley 33/2011'}\n"
     ]
    }
   ],
   "source": [
    "#tabla_analisis['Tags'].isin(ASECORP_BBDD_BOE['Tags'])\n",
    "for row_to_compare in tabla_analisis['Tags']:\n",
    "    for row_comparing in ASECORP_BBDD_BOE['Tags']:\n",
    "        if set(row_comparing) & set(row_to_compare):\n",
    "            print(set(row_comparing) & set(row_to_compare))"
   ]
  },
  {
   "cell_type": "code",
   "execution_count": 52,
   "metadata": {},
   "outputs": [
    {
     "output_type": "stream",
     "name": "stdout",
     "text": [
      "{'Ley 11/2020'} LEY 11/2020 ESP\n",
      "{'Ley 33/2011'} LEY 33/2011 ESP\n"
     ]
    }
   ],
   "source": [
    "for i, row_to_compare in tabla_analisis.iterrows():\n",
    "    for j, row_comparing in ASECORP_BBDD_BOE.iterrows():\n",
    "        if set(row_to_compare['Tags']) & set(row_comparing['Tags']):\n",
    "            tabla_analisis['Match_ASECORP_BBDD'][i].append (ASECORP_BBDD_BOE['Codigo'][j])\n",
    "            print(str(set(row_to_compare['Tags']) & set(row_comparing['Tags'])) + ' ' + str(row_comparing['Codigo']))"
   ]
  },
  {
   "cell_type": "code",
   "execution_count": 53,
   "metadata": {},
   "outputs": [
    {
     "output_type": "execute_result",
     "data": {
      "text/plain": [
       "                                             Alertas Fecha_publicacion  \\\n",
       "0                       [Relaciones internacionales]        2021-02-18   \n",
       "1              [Relaciones internacionales, Turismo]        2021-02-18   \n",
       "2  [Organización de la Administración, Sistema tr...        2021-02-18   \n",
       "3              [Relaciones internacionales, Turismo]        2021-02-18   \n",
       "4         [Asuntos sociales, Derecho Administrativo]        2021-02-18   \n",
       "5                                                 []        2021-02-18   \n",
       "\n",
       "                                           Item_Name            Item_id  \\\n",
       "0  [Acta de la VIII Reunión de la Comisión Mixta ...  [BOE-A-2021-2454]   \n",
       "1  [Acuerdo entre la Organización Mundial del Tur...  [BOE-A-2021-2455]   \n",
       "2  [Resolución de 10 de febrero de 2021, de la Se...  [BOE-A-2021-2457]   \n",
       "3  [Acuerdo Internacional Administrativo entre la...  [BOE-A-2021-2456]   \n",
       "4  [Corrección de errores del Real Decreto-ley 3/...  [BOE-A-2021-2453]   \n",
       "5  [Orden SND/133/2021, de 17 de febrero, sobre l...  [BOE-A-2021-2458]   \n",
       "\n",
       "                                            Materias  \\\n",
       "0  [Acuerdos internacionales, Ayuda al desarrollo...   \n",
       "1  [Acuerdos internacionales, Organización Mundia...   \n",
       "2  [Administración Local, Ayuntamientos, Cesión d...   \n",
       "3  [Acuerdos internacionales, Congresos, Madrid, ...   \n",
       "4  [Asistencia social, Ayudas, Registros administ...   \n",
       "5                                                 []   \n",
       "\n",
       "                                         Referencias  \\\n",
       "0                                                 []   \n",
       "1                 [BOE-A-2015-8565, BOE-A-1974-1937]   \n",
       "2                                 [BOE-A-2020-17339]   \n",
       "3                                  [BOE-A-2015-8565]   \n",
       "4                 [BOE-A-2021-1529, BOE-A-2020-5493]   \n",
       "5  [BOE-A-2011-15623, BOE-A-1986-10498, BOE-A-202...   \n",
       "\n",
       "                                 Referencias_palabra  \\\n",
       "0                                                 []   \n",
       "1           [DE CONFORMIDAD con, DE CONFORMIDAD con]   \n",
       "2                               [DE CONFORMIDAD con]   \n",
       "3                               [DE CONFORMIDAD con]   \n",
       "4           [CORRECCIÓN de errores, CORRIGE errores]   \n",
       "5  [DE CONFORMIDAD con, DE CONFORMIDAD con, EN RE...   \n",
       "\n",
       "                                   Referencias_texto  \\\n",
       "0                                                 []   \n",
       "1  [el art. 33 del Convenio de 25 de junio de 201...   \n",
       "2  [el art. 95.3 de la Ley 11/2020, de 30 de dici...   \n",
       "3               [el Convenio de 25 de junio de 2015]   \n",
       "4  [del Real Decreto-ley 3/2021, de 2 de febrero,...   \n",
       "5  [el art. 52 de la Ley 33/2011, de 4 de octubre...   \n",
       "\n",
       "                               Referencias_completas  \\\n",
       "0                                                 []   \n",
       "1  [DE CONFORMIDAD con el art. 33 del Convenio de...   \n",
       "2  [DE CONFORMIDAD con el art. 95.3 de la Ley 11/...   \n",
       "3  [DE CONFORMIDAD con el Convenio de 25 de junio...   \n",
       "4  [CORRECCIÓN de errores del Real Decreto-ley 3/...   \n",
       "5  [DE CONFORMIDAD con el art. 52 de la Ley 33/20...   \n",
       "\n",
       "                                                Tags Match_ASECORP_BBDD  \n",
       "0                                                 []                 []  \n",
       "1                                                 []                 []  \n",
       "2                                      [Ley 11/2020]  [LEY 11/2020 ESP]  \n",
       "3                                                 []                 []  \n",
       "4  [Real Decreto-ley 3/2021, Real Decreto-ley 20/...                 []  \n",
       "5  [Real Decreto 1418/1986, Real Decreto 926/2020...  [LEY 33/2011 ESP]  "
      ],
      "text/html": "<div>\n<style scoped>\n    .dataframe tbody tr th:only-of-type {\n        vertical-align: middle;\n    }\n\n    .dataframe tbody tr th {\n        vertical-align: top;\n    }\n\n    .dataframe thead th {\n        text-align: right;\n    }\n</style>\n<table border=\"1\" class=\"dataframe\">\n  <thead>\n    <tr style=\"text-align: right;\">\n      <th></th>\n      <th>Alertas</th>\n      <th>Fecha_publicacion</th>\n      <th>Item_Name</th>\n      <th>Item_id</th>\n      <th>Materias</th>\n      <th>Referencias</th>\n      <th>Referencias_palabra</th>\n      <th>Referencias_texto</th>\n      <th>Referencias_completas</th>\n      <th>Tags</th>\n      <th>Match_ASECORP_BBDD</th>\n    </tr>\n  </thead>\n  <tbody>\n    <tr>\n      <th>0</th>\n      <td>[Relaciones internacionales]</td>\n      <td>2021-02-18</td>\n      <td>[Acta de la VIII Reunión de la Comisión Mixta ...</td>\n      <td>[BOE-A-2021-2454]</td>\n      <td>[Acuerdos internacionales, Ayuda al desarrollo...</td>\n      <td>[]</td>\n      <td>[]</td>\n      <td>[]</td>\n      <td>[]</td>\n      <td>[]</td>\n      <td>[]</td>\n    </tr>\n    <tr>\n      <th>1</th>\n      <td>[Relaciones internacionales, Turismo]</td>\n      <td>2021-02-18</td>\n      <td>[Acuerdo entre la Organización Mundial del Tur...</td>\n      <td>[BOE-A-2021-2455]</td>\n      <td>[Acuerdos internacionales, Organización Mundia...</td>\n      <td>[BOE-A-2015-8565, BOE-A-1974-1937]</td>\n      <td>[DE CONFORMIDAD con, DE CONFORMIDAD con]</td>\n      <td>[el art. 33 del Convenio de 25 de junio de 201...</td>\n      <td>[DE CONFORMIDAD con el art. 33 del Convenio de...</td>\n      <td>[]</td>\n      <td>[]</td>\n    </tr>\n    <tr>\n      <th>2</th>\n      <td>[Organización de la Administración, Sistema tr...</td>\n      <td>2021-02-18</td>\n      <td>[Resolución de 10 de febrero de 2021, de la Se...</td>\n      <td>[BOE-A-2021-2457]</td>\n      <td>[Administración Local, Ayuntamientos, Cesión d...</td>\n      <td>[BOE-A-2020-17339]</td>\n      <td>[DE CONFORMIDAD con]</td>\n      <td>[el art. 95.3 de la Ley 11/2020, de 30 de dici...</td>\n      <td>[DE CONFORMIDAD con el art. 95.3 de la Ley 11/...</td>\n      <td>[Ley 11/2020]</td>\n      <td>[LEY 11/2020 ESP]</td>\n    </tr>\n    <tr>\n      <th>3</th>\n      <td>[Relaciones internacionales, Turismo]</td>\n      <td>2021-02-18</td>\n      <td>[Acuerdo Internacional Administrativo entre la...</td>\n      <td>[BOE-A-2021-2456]</td>\n      <td>[Acuerdos internacionales, Congresos, Madrid, ...</td>\n      <td>[BOE-A-2015-8565]</td>\n      <td>[DE CONFORMIDAD con]</td>\n      <td>[el Convenio de 25 de junio de 2015]</td>\n      <td>[DE CONFORMIDAD con el Convenio de 25 de junio...</td>\n      <td>[]</td>\n      <td>[]</td>\n    </tr>\n    <tr>\n      <th>4</th>\n      <td>[Asuntos sociales, Derecho Administrativo]</td>\n      <td>2021-02-18</td>\n      <td>[Corrección de errores del Real Decreto-ley 3/...</td>\n      <td>[BOE-A-2021-2453]</td>\n      <td>[Asistencia social, Ayudas, Registros administ...</td>\n      <td>[BOE-A-2021-1529, BOE-A-2020-5493]</td>\n      <td>[CORRECCIÓN de errores, CORRIGE errores]</td>\n      <td>[del Real Decreto-ley 3/2021, de 2 de febrero,...</td>\n      <td>[CORRECCIÓN de errores del Real Decreto-ley 3/...</td>\n      <td>[Real Decreto-ley 3/2021, Real Decreto-ley 20/...</td>\n      <td>[]</td>\n    </tr>\n    <tr>\n      <th>5</th>\n      <td>[]</td>\n      <td>2021-02-18</td>\n      <td>[Orden SND/133/2021, de 17 de febrero, sobre l...</td>\n      <td>[BOE-A-2021-2458]</td>\n      <td>[]</td>\n      <td>[BOE-A-2011-15623, BOE-A-1986-10498, BOE-A-202...</td>\n      <td>[DE CONFORMIDAD con, DE CONFORMIDAD con, EN RE...</td>\n      <td>[el art. 52 de la Ley 33/2011, de 4 de octubre...</td>\n      <td>[DE CONFORMIDAD con el art. 52 de la Ley 33/20...</td>\n      <td>[Real Decreto 1418/1986, Real Decreto 926/2020...</td>\n      <td>[LEY 33/2011 ESP]</td>\n    </tr>\n  </tbody>\n</table>\n</div>"
     },
     "metadata": {},
     "execution_count": 53
    }
   ],
   "source": [
    "tabla_analisis"
   ]
  },
  {
   "cell_type": "code",
   "execution_count": 54,
   "metadata": {},
   "outputs": [
    {
     "output_type": "execute_result",
     "data": {
      "text/plain": [
       "[]"
      ]
     },
     "metadata": {},
     "execution_count": 54
    }
   ],
   "source": [
    "tabla_analisis['Match_ASECORP_BBDD'][1]"
   ]
  },
  {
   "cell_type": "code",
   "execution_count": 55,
   "metadata": {},
   "outputs": [
    {
     "output_type": "execute_result",
     "data": {
      "text/plain": [
       "[]"
      ]
     },
     "metadata": {},
     "execution_count": 55
    }
   ],
   "source": [
    "tabla_analisis['Tags'][1]"
   ]
  },
  {
   "source": [
    "# Genera Fichero EXCEL de resultados"
   ],
   "cell_type": "markdown",
   "metadata": {}
  },
  {
   "cell_type": "code",
   "execution_count": 56,
   "metadata": {},
   "outputs": [],
   "source": [
    "## Cambia orden de columnas y elimina las no necesarias  \n",
    "tabla_analisis_final = tabla_analisis[['Item_id','Item_Name','Fecha_publicacion','Materias','Alertas','Referencias','Referencias_completas','Tags','Match_ASECORP_BBDD']]"
   ]
  },
  {
   "cell_type": "code",
   "execution_count": 57,
   "metadata": {},
   "outputs": [],
   "source": [
    "## Crea función que convierte lista a string en todas las columnas de tabla_analisis\n",
    "## para evitar en presentación final los caracteres [' '] propios de las listas\n",
    "def list2Str(lst):\n",
    "    if type(lst) is list: # apply conversion to list columns\n",
    "        return\", \".join(lst)\n",
    "    else:\n",
    "        return lst"
   ]
  },
  {
   "cell_type": "code",
   "execution_count": 58,
   "metadata": {},
   "outputs": [],
   "source": [
    "## Aplica función de conversión de listas a strings\n",
    "tabla_analisis_final = tabla_analisis_final.apply(lambda x: [list2Str(i) for i in x])"
   ]
  },
  {
   "cell_type": "code",
   "execution_count": 59,
   "metadata": {},
   "outputs": [
    {
     "output_type": "execute_result",
     "data": {
      "text/plain": [
       "           Item_id                                          Item_Name  \\\n",
       "0  BOE-A-2021-2454  Acta de la VIII Reunión de la Comisión Mixta H...   \n",
       "1  BOE-A-2021-2455  Acuerdo entre la Organización Mundial del Turi...   \n",
       "2  BOE-A-2021-2457  Resolución de 10 de febrero de 2021, de la Sec...   \n",
       "3  BOE-A-2021-2456  Acuerdo Internacional Administrativo entre la ...   \n",
       "4  BOE-A-2021-2453  Corrección de errores del Real Decreto-ley 3/2...   \n",
       "5  BOE-A-2021-2458  Orden SND/133/2021, de 17 de febrero, sobre la...   \n",
       "\n",
       "  Fecha_publicacion                                           Materias  \\\n",
       "0        2021-02-18  Acuerdos internacionales, Ayuda al desarrollo,...   \n",
       "1        2021-02-18  Acuerdos internacionales, Organización Mundial...   \n",
       "2        2021-02-18  Administración Local, Ayuntamientos, Cesión de...   \n",
       "3        2021-02-18  Acuerdos internacionales, Congresos, Madrid, O...   \n",
       "4        2021-02-18  Asistencia social, Ayudas, Registros administr...   \n",
       "5        2021-02-18                                                      \n",
       "\n",
       "                                             Alertas  \\\n",
       "0                         Relaciones internacionales   \n",
       "1                Relaciones internacionales, Turismo   \n",
       "2  Organización de la Administración, Sistema tri...   \n",
       "3                Relaciones internacionales, Turismo   \n",
       "4           Asuntos sociales, Derecho Administrativo   \n",
       "5                                                      \n",
       "\n",
       "                                         Referencias  \\\n",
       "0                                                      \n",
       "1                   BOE-A-2015-8565, BOE-A-1974-1937   \n",
       "2                                   BOE-A-2020-17339   \n",
       "3                                    BOE-A-2015-8565   \n",
       "4                   BOE-A-2021-1529, BOE-A-2020-5493   \n",
       "5  BOE-A-2011-15623, BOE-A-1986-10498, BOE-A-2021...   \n",
       "\n",
       "                               Referencias_completas  \\\n",
       "0                                                      \n",
       "1  DE CONFORMIDAD con el art. 33 del Convenio de ...   \n",
       "2  DE CONFORMIDAD con el art. 95.3 de la Ley 11/2...   \n",
       "3  DE CONFORMIDAD con el Convenio de 25 de junio ...   \n",
       "4  CORRECCIÓN de errores del Real Decreto-ley 3/2...   \n",
       "5  DE CONFORMIDAD con el art. 52 de la Ley 33/201...   \n",
       "\n",
       "                                                Tags Match_ASECORP_BBDD  \n",
       "0                                                                        \n",
       "1                                                                        \n",
       "2                                        Ley 11/2020    LEY 11/2020 ESP  \n",
       "3                                                                        \n",
       "4  Real Decreto-ley 3/2021, Real Decreto-ley 20/2020                     \n",
       "5  Real Decreto 1418/1986, Real Decreto 926/2020,...    LEY 33/2011 ESP  "
      ],
      "text/html": "<div>\n<style scoped>\n    .dataframe tbody tr th:only-of-type {\n        vertical-align: middle;\n    }\n\n    .dataframe tbody tr th {\n        vertical-align: top;\n    }\n\n    .dataframe thead th {\n        text-align: right;\n    }\n</style>\n<table border=\"1\" class=\"dataframe\">\n  <thead>\n    <tr style=\"text-align: right;\">\n      <th></th>\n      <th>Item_id</th>\n      <th>Item_Name</th>\n      <th>Fecha_publicacion</th>\n      <th>Materias</th>\n      <th>Alertas</th>\n      <th>Referencias</th>\n      <th>Referencias_completas</th>\n      <th>Tags</th>\n      <th>Match_ASECORP_BBDD</th>\n    </tr>\n  </thead>\n  <tbody>\n    <tr>\n      <th>0</th>\n      <td>BOE-A-2021-2454</td>\n      <td>Acta de la VIII Reunión de la Comisión Mixta H...</td>\n      <td>2021-02-18</td>\n      <td>Acuerdos internacionales, Ayuda al desarrollo,...</td>\n      <td>Relaciones internacionales</td>\n      <td></td>\n      <td></td>\n      <td></td>\n      <td></td>\n    </tr>\n    <tr>\n      <th>1</th>\n      <td>BOE-A-2021-2455</td>\n      <td>Acuerdo entre la Organización Mundial del Turi...</td>\n      <td>2021-02-18</td>\n      <td>Acuerdos internacionales, Organización Mundial...</td>\n      <td>Relaciones internacionales, Turismo</td>\n      <td>BOE-A-2015-8565, BOE-A-1974-1937</td>\n      <td>DE CONFORMIDAD con el art. 33 del Convenio de ...</td>\n      <td></td>\n      <td></td>\n    </tr>\n    <tr>\n      <th>2</th>\n      <td>BOE-A-2021-2457</td>\n      <td>Resolución de 10 de febrero de 2021, de la Sec...</td>\n      <td>2021-02-18</td>\n      <td>Administración Local, Ayuntamientos, Cesión de...</td>\n      <td>Organización de la Administración, Sistema tri...</td>\n      <td>BOE-A-2020-17339</td>\n      <td>DE CONFORMIDAD con el art. 95.3 de la Ley 11/2...</td>\n      <td>Ley 11/2020</td>\n      <td>LEY 11/2020 ESP</td>\n    </tr>\n    <tr>\n      <th>3</th>\n      <td>BOE-A-2021-2456</td>\n      <td>Acuerdo Internacional Administrativo entre la ...</td>\n      <td>2021-02-18</td>\n      <td>Acuerdos internacionales, Congresos, Madrid, O...</td>\n      <td>Relaciones internacionales, Turismo</td>\n      <td>BOE-A-2015-8565</td>\n      <td>DE CONFORMIDAD con el Convenio de 25 de junio ...</td>\n      <td></td>\n      <td></td>\n    </tr>\n    <tr>\n      <th>4</th>\n      <td>BOE-A-2021-2453</td>\n      <td>Corrección de errores del Real Decreto-ley 3/2...</td>\n      <td>2021-02-18</td>\n      <td>Asistencia social, Ayudas, Registros administr...</td>\n      <td>Asuntos sociales, Derecho Administrativo</td>\n      <td>BOE-A-2021-1529, BOE-A-2020-5493</td>\n      <td>CORRECCIÓN de errores del Real Decreto-ley 3/2...</td>\n      <td>Real Decreto-ley 3/2021, Real Decreto-ley 20/2020</td>\n      <td></td>\n    </tr>\n    <tr>\n      <th>5</th>\n      <td>BOE-A-2021-2458</td>\n      <td>Orden SND/133/2021, de 17 de febrero, sobre la...</td>\n      <td>2021-02-18</td>\n      <td></td>\n      <td></td>\n      <td>BOE-A-2011-15623, BOE-A-1986-10498, BOE-A-2021...</td>\n      <td>DE CONFORMIDAD con el art. 52 de la Ley 33/201...</td>\n      <td>Real Decreto 1418/1986, Real Decreto 926/2020,...</td>\n      <td>LEY 33/2011 ESP</td>\n    </tr>\n  </tbody>\n</table>\n</div>"
     },
     "metadata": {},
     "execution_count": 59
    }
   ],
   "source": [
    "  tabla_analisis_final[0:10]"
   ]
  },
  {
   "cell_type": "code",
   "execution_count": 60,
   "metadata": {},
   "outputs": [],
   "source": [
    "## Generar hyperlink a artículo BOE en CSV \"=HYPERLINK(\"https://www.boe.es/boe/dias/2021/02/02/pdfs/BOE-A-2021-1474.pdf\";\"BOE-A-2021-1474\")\"\n",
    "## https://www.boe.es/diario_boe/xml.php?id=## https://www.boe.es/boe/dias/2021/02/02/pdfs/BOE-A-2021-1474.pdf\n",
    "\n",
    "tabla_analisis_final_CSV = tabla_analisis_final"
   ]
  },
  {
   "cell_type": "code",
   "execution_count": 61,
   "metadata": {},
   "outputs": [],
   "source": [
    "# Compone y genera enlace a PDF del BOE correspondiente\n",
    "tabla_analisis_final_CSV['Item_id'] = '=HIPERVINCULO(' + '\"https://www.boe.es/boe/dias/' \\\n",
    "                                                        + tabla_analisis_final_CSV['Fecha_publicacion'].map(lambda x: x.strftime('%Y')) + '/'\\\n",
    "                                                        + tabla_analisis_final_CSV['Fecha_publicacion'].map(lambda x: x.strftime('%m')) + '/'\\\n",
    "                                                        + tabla_analisis_final_CSV['Fecha_publicacion'].map(lambda x: x.strftime('%d')) + '/'\\\n",
    "                                                        + 'pdfs/'\\\n",
    "                                                        + tabla_analisis_final_CSV['Item_id'] + '.pdf\";'\\\n",
    "                                                        + '\"' + tabla_analisis_final_CSV['Item_id'] + '\")'"
   ]
  },
  {
   "cell_type": "code",
   "execution_count": 62,
   "metadata": {},
   "outputs": [
    {
     "output_type": "stream",
     "name": "stdout",
     "text": [
      "=HIPERVINCULO(\"https://www.boe.es/boe/dias/2021/02/18/pdfs/BOE-A-2021-2454.pdf\";\"BOE-A-2021-2454\")\n"
     ]
    }
   ],
   "source": [
    "print(tabla_analisis_final_CSV['Item_id'][0])"
   ]
  },
  {
   "cell_type": "code",
   "execution_count": 63,
   "metadata": {},
   "outputs": [],
   "source": [
    "# tabla_analisis_final_CSV.to_excel(\"./ASECORP/Resultados_Matching.xlsx\", sheet_name='MATCHING_BOE') "
   ]
  },
  {
   "cell_type": "code",
   "execution_count": 64,
   "metadata": {},
   "outputs": [],
   "source": [
    "tabla_analisis_final_CSV.to_csv(\"./ASECORP/Resultados_Matching_BOE_\" + today.strftime(\"%Y%m%d\") + \".csv\", index=False) "
   ]
  },
  {
   "source": [
    "# ------------------------------------------------------------------------"
   ],
   "cell_type": "markdown",
   "metadata": {}
  },
  {
   "source": [
    "# DOGC"
   ],
   "cell_type": "markdown",
   "metadata": {}
  },
  {
   "cell_type": "code",
   "execution_count": 65,
   "metadata": {},
   "outputs": [],
   "source": [
    "URL_HTML_resumen =  \"https://dogc.gencat.cat/es/index.html?newLang=es_ES&language=es_ES\""
   ]
  },
  {
   "cell_type": "code",
   "execution_count": 66,
   "metadata": {},
   "outputs": [],
   "source": [
    "from requests_html import HTMLSession\n",
    "session = HTMLSession()\n",
    "r = session.get(URL_HTML_resumen)"
   ]
  },
  {
   "cell_type": "code",
   "execution_count": 67,
   "metadata": {},
   "outputs": [
    {
     "output_type": "execute_result",
     "data": {
      "text/plain": [
       "{'/ca/inici/index.html',\n",
       " '/ca/serveis/dogc-republica-i-exili/',\n",
       " '/ca/serveis/publicar-un-anunci/',\n",
       " '/es/ajuda/mapaweb/',\n",
       " '/es/index.html?newLang=es_ES&language=es_ES',\n",
       " '/es/inici/',\n",
       " '/es/inici/resultats/index.html?orderBy=3&page=1&typeSearch=1&advanced=true&current=true&title=false&numResultsByPage=50&publicationDateInitial=18/11/2020&value=%22anunci%20d%27informaci%C3%B3%20p%C3%BAblica%22%20OR%20%22sotmet%20a%20informaci%C3%B3%20p%C3%BAblica%22%20OR%20%22sotmeten%20a%20informaci%C3%B3%20p%C3%BAblica%22%20OR%20%22sobre%20informaci%C3%B3%20p%C3%BAblica%22%20OR%20%22aprovaci%C3%B3%20inicial%22%20OR%20%22anuncio%20de%20informaci%C3%B3n%20p%C3%BAblica%22%20OR%20%22somete%20a%20informaci%C3%B3n%20p%C3%BAblica%22%20OR%20%22someten%20a%20informaci%C3%B3n%20p%C3%BAblica%22%20OR%20%22sobre%20informaci%C3%B3n%20p%C3%BAblica%22%20OR%20%22aprobaci%C3%B3n%20inicial%22',\n",
       " '/es/inici/resultats/index.html?orderBy=3&page=1&typeSearch=1&advanced=true&current=true&title=true&numResultsByPage=50&publicationDateInitial=18/08/2020&thematicDescriptor=D194',\n",
       " '/es/inici/resultats/index.html?orderBy=3&page=1&typeSearch=1&advanced=true&current=true&title=true&numResultsByPage=50&publicationDateInitial=18/11/2020&thematicDescriptor=D4090&thematicDescriptor=DE1738',\n",
       " '/es/serveis/',\n",
       " '/es/serveis/dietaris/',\n",
       " '/es/serveis/dogc-republica-i-exili/',\n",
       " '/es/serveis/normes-urbanisti.-1985/',\n",
       " '/es/serveis/publicar-un-anunci/',\n",
       " '/es/serveis/subscripcions/',\n",
       " '/es/serveis/suplement-boe-catala/',\n",
       " '/es/serveis/verificar-documents/',\n",
       " '/es/sobre-el-dogc/',\n",
       " '/es/sobre-el-dogc/altres-diaris-oficials/',\n",
       " '/es/sobre-el-dogc/eadop/',\n",
       " '/es/sobre-el-dogc/eadop/adreces-i-contacte/',\n",
       " '/es/sobre-el-dogc/eadop/normativa/#DOGC',\n",
       " '/es/sobre-el-dogc/eadop/transparencia/',\n",
       " '/es/sobre-el-dogc/historia-del-dogc/',\n",
       " '/es/sobre-el-dogc/preguntes-frequents/',\n",
       " '/es/sobre-el-dogc/preguntes-frequents/index.html',\n",
       " '/es/sobre-el-dogc/que-es-el-DOGC/',\n",
       " 'http://preproduccio.administraciojusticia.intranet.gencat.cat/.content/home/serveis_als_professionals/extranet/avis_legal.html',\n",
       " 'http://www.gencat.cat',\n",
       " 'https://contractaciopublica.gencat.cat/ecofin_pscp/AppJava/ca_ES/cap.do?keyword=&reqCode=viewDetail&idCap=203411&department=11000&',\n",
       " 'https://llibreria.gencat.cat/',\n",
       " 'https://llibreria.gencat.cat/index.php?language=ca',\n",
       " 'https://llibreria.gencat.cat/index.php?language=es',\n",
       " 'https://ovt.gencat.cat/gsitfc/AppJava/generic/conqxsGeneric.do?webFormId=391&&topicLevel1ByURL.id=500&topicLevel2ByURL.id=657&set-locale=es_ES',\n",
       " 'https://portaljuridic.gencat.cat/ca/',\n",
       " 'https://twitter.com/dogcdeldia',\n",
       " 'https://web.gencat.cat/',\n",
       " 'https://web.gencat.cat/ca/menu-ajuda/ajuda/accessibilitat/index.html',\n",
       " 'https://web.gencat.cat/es/menu-ajuda/ajuda/sobre_gencat/'}"
      ]
     },
     "metadata": {},
     "execution_count": 67
    }
   ],
   "source": [
    "r.html.links"
   ]
  },
  {
   "cell_type": "code",
   "execution_count": 68,
   "metadata": {},
   "outputs": [
    {
     "output_type": "execute_result",
     "data": {
      "text/plain": [
       "[]"
      ]
     },
     "metadata": {},
     "execution_count": 68
    }
   ],
   "source": [
    "r.html.xpath('//*[@id=\"titol\"]/span/text()')"
   ]
  },
  {
   "cell_type": "code",
   "execution_count": 69,
   "metadata": {},
   "outputs": [
    {
     "output_type": "execute_result",
     "data": {
      "text/plain": [
       "[]"
      ]
     },
     "metadata": {},
     "execution_count": 69
    }
   ],
   "source": [
    "r.html.xpath('//*[@id=\"titol\"]/h3/text()')\n"
   ]
  },
  {
   "cell_type": "code",
   "execution_count": 70,
   "metadata": {},
   "outputs": [
    {
     "output_type": "execute_result",
     "data": {
      "text/plain": [
       "'html'"
      ]
     },
     "metadata": {},
     "execution_count": 70
    }
   ],
   "source": [
    "r.html.lxml.tag"
   ]
  },
  {
   "cell_type": "code",
   "execution_count": 71,
   "metadata": {},
   "outputs": [
    {
     "output_type": "execute_result",
     "data": {
      "text/plain": [
       "[]"
      ]
     },
     "metadata": {},
     "execution_count": 71
    }
   ],
   "source": [
    "r.html.lxml.xpath('//*[@id=\"titol\"]/span')"
   ]
  },
  {
   "cell_type": "code",
   "execution_count": 72,
   "metadata": {},
   "outputs": [
    {
     "output_type": "stream",
     "name": "stdout",
     "text": [
      "[]\n"
     ]
    }
   ],
   "source": [
    "#import requests\n",
    "#from lxml import html\n",
    "\n",
    "response = requests.get(URL_HTML_resumen)\n",
    "\n",
    "tree = html.fromstring(response.text)\n",
    "\n",
    "# fetches all useful elements \n",
    "useful = tree.xpath('//*[@id=\"titol\"]/span/text()')\n",
    "\n",
    "print(useful)\n"
   ]
  },
  {
   "cell_type": "code",
   "execution_count": 73,
   "metadata": {},
   "outputs": [
    {
     "output_type": "execute_result",
     "data": {
      "text/plain": [
       "[]"
      ]
     },
     "metadata": {},
     "execution_count": 73
    }
   ],
   "source": [
    "r.html.lxml.xpath('//*[@id=\"sumari\"]/ul/li[1]/form/@action')"
   ]
  },
  {
   "cell_type": "code",
   "execution_count": 74,
   "metadata": {},
   "outputs": [
    {
     "output_type": "execute_result",
     "data": {
      "text/plain": [
       "[]"
      ]
     },
     "metadata": {},
     "execution_count": 74
    }
   ],
   "source": [
    "r.html.lxml.xpath('//*[@id=\"sumari\"]/ul/li[1]/form/input[1]/@name')"
   ]
  },
  {
   "cell_type": "code",
   "execution_count": 75,
   "metadata": {},
   "outputs": [
    {
     "output_type": "execute_result",
     "data": {
      "text/plain": [
       "[]"
      ]
     },
     "metadata": {},
     "execution_count": 75
    }
   ],
   "source": [
    "r.html.lxml.xpath('//*[@id=\"sumari\"]/ul/li[1]/form/input[1]/@value')"
   ]
  },
  {
   "cell_type": "code",
   "execution_count": 76,
   "metadata": {},
   "outputs": [
    {
     "output_type": "execute_result",
     "data": {
      "text/plain": [
       "[]"
      ]
     },
     "metadata": {},
     "execution_count": 76
    }
   ],
   "source": [
    "r.html.lxml.xpath('//*[@id=\"sumari\"]/ul/li[1]/form')"
   ]
  },
  {
   "cell_type": "code",
   "execution_count": 77,
   "metadata": {},
   "outputs": [
    {
     "output_type": "stream",
     "name": "stdout",
     "text": [
      "[]\n"
     ]
    }
   ],
   "source": [
    "useful = tree.xpath('//*[@id=\"sumari\"]/ul/li[1]/form/input[3]/@value')\n",
    "\n",
    "print(useful)"
   ]
  },
  {
   "cell_type": "code",
   "execution_count": 78,
   "metadata": {},
   "outputs": [
    {
     "output_type": "execute_result",
     "data": {
      "text/plain": [
       "[]"
      ]
     },
     "metadata": {},
     "execution_count": 78
    }
   ],
   "source": [
    "tree.xpath('//*[@id=\"sumari\"]/ul/li[1]/form/@action')"
   ]
  },
  {
   "cell_type": "code",
   "execution_count": 79,
   "metadata": {
    "tags": []
   },
   "outputs": [
    {
     "output_type": "error",
     "ename": "NameError",
     "evalue": "name 'argumentos' is not defined",
     "traceback": [
      "\u001b[0;31m---------------------------------------------------------------------------\u001b[0m",
      "\u001b[0;31mNameError\u001b[0m                                 Traceback (most recent call last)",
      "\u001b[0;32m<ipython-input-79-d3be00185587>\u001b[0m in \u001b[0;36m<module>\u001b[0;34m\u001b[0m\n\u001b[1;32m      5\u001b[0m     \u001b[0mprint\u001b[0m\u001b[0;34m(\u001b[0m\u001b[0margumentos\u001b[0m\u001b[0;34m,\u001b[0m \u001b[0mvalores\u001b[0m\u001b[0;34m)\u001b[0m\u001b[0;34m\u001b[0m\u001b[0;34m\u001b[0m\u001b[0m\n\u001b[1;32m      6\u001b[0m \u001b[0;34m\u001b[0m\u001b[0m\n\u001b[0;32m----> 7\u001b[0;31m \u001b[0;32mfor\u001b[0m \u001b[0mindice\u001b[0m \u001b[0;32min\u001b[0m \u001b[0mrange\u001b[0m\u001b[0;34m(\u001b[0m\u001b[0mlen\u001b[0m\u001b[0;34m(\u001b[0m\u001b[0margumentos\u001b[0m\u001b[0;34m)\u001b[0m\u001b[0;34m)\u001b[0m\u001b[0;34m:\u001b[0m\u001b[0;34m\u001b[0m\u001b[0;34m\u001b[0m\u001b[0m\n\u001b[0m\u001b[1;32m      8\u001b[0m     \u001b[0mcadena\u001b[0m \u001b[0;34m+=\u001b[0m \u001b[0margumentos\u001b[0m\u001b[0;34m[\u001b[0m\u001b[0mindice\u001b[0m\u001b[0;34m]\u001b[0m \u001b[0;34m+\u001b[0m \u001b[0;34m'='\u001b[0m \u001b[0;34m+\u001b[0m \u001b[0mvalores\u001b[0m\u001b[0;34m[\u001b[0m\u001b[0mindice\u001b[0m\u001b[0;34m]\u001b[0m \u001b[0;34m+\u001b[0m \u001b[0;34m'&'\u001b[0m\u001b[0;34m\u001b[0m\u001b[0;34m\u001b[0m\u001b[0m\n\u001b[1;32m      9\u001b[0m \u001b[0;34m\u001b[0m\u001b[0m\n",
      "\u001b[0;31mNameError\u001b[0m: name 'argumentos' is not defined"
     ]
    }
   ],
   "source": [
    "cadena = ''\n",
    "for input in tree.xpath('//*[@id=\"sumari\"]/ul/li[1]/form'):\n",
    "    argumentos = input.xpath('./input/@name')\n",
    "    valores = input.xpath('./input/@value')\n",
    "    print(argumentos, valores)\n",
    "\n",
    "for indice in range(len(argumentos)):\n",
    "    cadena += argumentos[indice] + '=' + valores[indice] + '&'\n",
    "\n",
    "argumentos[1]\n",
    "cadena[:-1]"
   ]
  },
  {
   "source": [
    "## Recoge Nombre Secciones Sumario"
   ],
   "cell_type": "markdown",
   "metadata": {}
  },
  {
   "cell_type": "code",
   "execution_count": 80,
   "metadata": {},
   "outputs": [
    {
     "output_type": "error",
     "ename": "IndexError",
     "evalue": "list index out of range",
     "traceback": [
      "\u001b[0;31m---------------------------------------------------------------------------\u001b[0m",
      "\u001b[0;31mIndexError\u001b[0m                                Traceback (most recent call last)",
      "\u001b[0;32m<ipython-input-80-7f3c05a7a061>\u001b[0m in \u001b[0;36m<module>\u001b[0;34m\u001b[0m\n\u001b[1;32m      1\u001b[0m \u001b[0;32mimport\u001b[0m \u001b[0mre\u001b[0m\u001b[0;34m\u001b[0m\u001b[0;34m\u001b[0m\u001b[0m\n\u001b[1;32m      2\u001b[0m \u001b[0mseccion\u001b[0m \u001b[0;34m=\u001b[0m \u001b[0mtree\u001b[0m\u001b[0;34m.\u001b[0m\u001b[0mxpath\u001b[0m\u001b[0;34m(\u001b[0m\u001b[0;34m'//*[@id=\"sumari\"]/ul/li[1]/form/a/text()'\u001b[0m\u001b[0;34m)\u001b[0m\u001b[0;34m\u001b[0m\u001b[0;34m\u001b[0m\u001b[0m\n\u001b[0;32m----> 3\u001b[0;31m \u001b[0mseccion\u001b[0m \u001b[0;34m=\u001b[0m \u001b[0mre\u001b[0m\u001b[0;34m.\u001b[0m\u001b[0msub\u001b[0m\u001b[0;34m(\u001b[0m\u001b[0;34m'(\\\\r|\\\\n|\\\\t|\\ )+'\u001b[0m\u001b[0;34m,\u001b[0m \u001b[0;34m''\u001b[0m\u001b[0;34m,\u001b[0m \u001b[0mseccion\u001b[0m\u001b[0;34m[\u001b[0m\u001b[0;36m0\u001b[0m\u001b[0;34m]\u001b[0m\u001b[0;34m)\u001b[0m\u001b[0;34m\u001b[0m\u001b[0;34m\u001b[0m\u001b[0m\n\u001b[0m\u001b[1;32m      4\u001b[0m \u001b[0mseccion\u001b[0m\u001b[0;34m\u001b[0m\u001b[0;34m\u001b[0m\u001b[0m\n",
      "\u001b[0;31mIndexError\u001b[0m: list index out of range"
     ]
    }
   ],
   "source": [
    "import re\n",
    "seccion = tree.xpath('//*[@id=\"sumari\"]/ul/li[1]/form/a/text()')\n",
    "seccion = re.sub('(\\\\r|\\\\n|\\\\t|\\ )+', '', seccion[0])\n",
    "seccion"
   ]
  },
  {
   "source": [
    "## Recoge Nombre Secciones Sumario"
   ],
   "cell_type": "markdown",
   "metadata": {}
  },
  {
   "cell_type": "code",
   "execution_count": null,
   "metadata": {},
   "outputs": [],
   "source": [
    "secciones = tree.xpath('//*[@id=\"sumari\"]/ul/li')\n",
    "#print(secciones)\n",
    "df_secciones_sumarios = pd.DataFrame()\n",
    "for seccion in secciones:\n",
    "    seccion = seccion.xpath('./form/a/text()')\n",
    "    seccion = re.sub('(\\\\r|\\\\n|\\\\t)+', '', seccion[0])\n",
    "    print(seccion[1:-1])\n",
    "    df_secciones_sumarios = df_secciones_sumarios.append({'Seccion': seccion[1:-1]}, ignore_index=True)\n"
   ]
  },
  {
   "cell_type": "code",
   "execution_count": null,
   "metadata": {},
   "outputs": [],
   "source": [
    "df_secciones_sumarios"
   ]
  },
  {
   "source": [
    "## Recoge Valores para formar URLs Secciones Sumario"
   ],
   "cell_type": "markdown",
   "metadata": {}
  },
  {
   "cell_type": "code",
   "execution_count": null,
   "metadata": {},
   "outputs": [],
   "source": [
    "URL_base_sumario = tree.xpath('//*[@id=\"sumari\"]/ul/li[1]/form/@action')\n",
    "\n",
    "df_URL_sumarios = pd.DataFrame()\n",
    "for seccion in secciones:    \n",
    "    cadena = ''\n",
    "    for input in seccion.xpath('./form'):\n",
    "        argumentos = input.xpath('./input/@name')\n",
    "        valores = input.xpath('./input/@value')\n",
    "        #print(argumentos, valores)\n",
    "\n",
    "    for indice in range(len(argumentos)):\n",
    "        cadena += argumentos[indice] + '=' + valores[indice] + '&'\n",
    "\n",
    "    URL_sumario = 'https://dogc.gencat.cat' + str(URL_base_sumario[0]) + '?' + str(cadena[:-1])\n",
    "    print(URL_sumario)\n",
    "    df_URL_sumarios = df_URL_sumarios.append({'URL_Seccion': URL_sumario}, ignore_index=True)"
   ]
  },
  {
   "cell_type": "code",
   "execution_count": null,
   "metadata": {},
   "outputs": [],
   "source": [
    "df_URL_sumarios"
   ]
  },
  {
   "cell_type": "code",
   "execution_count": null,
   "metadata": {},
   "outputs": [],
   "source": [
    " df_sumarios = pd.concat([df_secciones_sumarios, df_URL_sumarios], axis=1)"
   ]
  },
  {
   "cell_type": "code",
   "execution_count": null,
   "metadata": {},
   "outputs": [],
   "source": [
    "df_sumarios"
   ]
  },
  {
   "cell_type": "code",
   "execution_count": null,
   "metadata": {},
   "outputs": [],
   "source": [
    "df_sumarios['URL_Seccion'][4]"
   ]
  },
  {
   "source": [
    "## Recoge Items en Seccion Disposiciones"
   ],
   "cell_type": "markdown",
   "metadata": {}
  },
  {
   "cell_type": "code",
   "execution_count": null,
   "metadata": {
    "tags": []
   },
   "outputs": [],
   "source": [
    "### Recoge Items en Seccion Disposiciones\n",
    "\n",
    "response = requests.get(df_sumarios['URL_Seccion'][0])\n",
    "sumario_HTML = html.fromstring(response.text)\n",
    "\n",
    "#seccion = sumario_HTML.xpath('//*[@id=\"disposicions\"]/div[1]/text()')\n",
    "seccion = sumario_HTML.xpath('//*[@id=\"disposicions\"]/div/text()')\n",
    "bloques = sumario_HTML.xpath('//*[@id=\"disposicions\"]')\n",
    "df_disposiciones = pd.DataFrame(columns=['Seccion','Item_Name','PDF_link'])\n",
    "for bloque in bloques: \n",
    "    item_name = bloque.xpath('./div/p/text()')\n",
    "    #item_name = re.sub('(\\\\r|\\\\n|\\\\t)+', '', item_name[0])\n",
    "    pdf_link = bloque.xpath('./div/div/a[4]/@href')\n",
    "\n",
    "for row in range(len(pdf_link)):\n",
    "    df_disposiciones = df_disposiciones.append({'Item_Name': re.sub('(\\\\r|\\\\n|\\\\t)+', '',                                                                               item_name[row]),\n",
    "                                            'PDF_link' : pdf_link[row],\n",
    "                                            'Seccion' : seccion[0][:-1]},\n",
    "                                            ignore_index=True)\n",
    "\n",
    "df_disposiciones"
   ]
  },
  {
   "cell_type": "code",
   "execution_count": null,
   "metadata": {},
   "outputs": [],
   "source": [
    "pdf_link"
   ]
  },
  {
   "source": [
    "# DOUE"
   ],
   "cell_type": "markdown",
   "metadata": {}
  },
  {
   "cell_type": "code",
   "execution_count": 81,
   "metadata": {
    "tags": []
   },
   "outputs": [],
   "source": [
    "# --------------------------------------------------------------------------------------\n",
    "# DOUE\n",
    "# --------------------------------------------------------------------------------------\n",
    "\n",
    "URL_HTML_resumen =  \"https://eur-lex.europa.eu/oj/direct-access.html?locale=es\"\n",
    "\n",
    "## carga página HTML y genera árbol\n",
    "\n",
    "headers = {'User-Agent': 'Mozilla/5.0 (Macintosh; Intel Mac OS X 10_11_5) AppleWebKit/537.36 (KHTML, like Gecko) Chrome/50.0.2661.102 Safari/537.36'}\n",
    "response = requests.get(URL_HTML_resumen, headers=headers)\n",
    "tree = html.fromstring(response.text)\n",
    "\n",
    "## Recoge Nombre Secciones Sumario\n",
    "\n",
    "secciones = tree.xpath('//*[@class=\"table table-striped table-hover table-condensed OJTable AllBordersTable\"]')\n",
    "#print(secciones)\n"
   ]
  },
  {
   "cell_type": "code",
   "execution_count": 82,
   "metadata": {},
   "outputs": [],
   "source": [
    "source_dir = './DOUEs'\n",
    "target_dir = './DOUEs_Anteriores'\n",
    "    \n",
    "file_names = os.listdir(source_dir)\n",
    "    \n",
    "for file_name in file_names:\n",
    "    #shutil.move(os.path.join(source_dir, file_name), target_dir)\n",
    "    # Evita que de error si el fichero que se mueve ya existe en dir destino\n",
    "    try:\n",
    "        os.remove(os.path.join(target_dir, file_name))\n",
    "        shutil.move(os.path.join(source_dir, file_name), target_dir)\n",
    "    except OSError:\n",
    "        shutil.move(os.path.join(source_dir, file_name), target_dir)"
   ]
  },
  {
   "cell_type": "code",
   "execution_count": 99,
   "metadata": {},
   "outputs": [
    {
     "output_type": "stream",
     "name": "stdout",
     "text": [
      "[]\nNo hay disposiciones\n"
     ]
    }
   ],
   "source": [
    "## Recoge Valores para formar URLs Secciones Sumario\n",
    "\n",
    "df_secciones_sumarios = pd.DataFrame()\n",
    "for seccion in secciones:\n",
    "    seccion_name = seccion.xpath('./tbody/tr[1]/td[2]/a/text()')\n",
    "    seccion_URL = seccion.xpath('./tbody/tr[1]/td[2]/a/@href')\n",
    "    #seccion = re.sub('(\\\\r|\\\\n|\\\\t)+', '', seccion)\n",
    "    print(seccion_name)\n",
    "    #print(seccion_URL)\n",
    "\n",
    "\n",
    "### Si no hay disposiciones hay que gestionar el error y salir del script\n",
    "if len(seccion_name) == 0:\n",
    "    print('No hay disposiciones')\n",
    "    # exit()\n",
    "\n",
    "for row in range(len(seccion_name)):\n",
    "    df_secciones_sumarios = df_secciones_sumarios.append({'Seccion': seccion_name[row],\n",
    "                                                            'Seccion_link' : 'https://eur-lex.europa.eu' + seccion_URL[row][4:]},\n",
    "                                                            ignore_index=True)"
   ]
  },
  {
   "cell_type": "code",
   "execution_count": 93,
   "metadata": {},
   "outputs": [
    {
     "output_type": "error",
     "ename": "KeyError",
     "evalue": "'Seccion'",
     "traceback": [
      "\u001b[0;31m---------------------------------------------------------------------------\u001b[0m",
      "\u001b[0;31mKeyError\u001b[0m                                  Traceback (most recent call last)",
      "\u001b[0;32m~/miniconda3/lib/python3.8/site-packages/pandas/core/indexes/base.py\u001b[0m in \u001b[0;36mget_loc\u001b[0;34m(self, key, method, tolerance)\u001b[0m\n\u001b[1;32m   2897\u001b[0m             \u001b[0;32mtry\u001b[0m\u001b[0;34m:\u001b[0m\u001b[0;34m\u001b[0m\u001b[0;34m\u001b[0m\u001b[0m\n\u001b[0;32m-> 2898\u001b[0;31m                 \u001b[0;32mreturn\u001b[0m \u001b[0mself\u001b[0m\u001b[0;34m.\u001b[0m\u001b[0m_engine\u001b[0m\u001b[0;34m.\u001b[0m\u001b[0mget_loc\u001b[0m\u001b[0;34m(\u001b[0m\u001b[0mcasted_key\u001b[0m\u001b[0;34m)\u001b[0m\u001b[0;34m\u001b[0m\u001b[0;34m\u001b[0m\u001b[0m\n\u001b[0m\u001b[1;32m   2899\u001b[0m             \u001b[0;32mexcept\u001b[0m \u001b[0mKeyError\u001b[0m \u001b[0;32mas\u001b[0m \u001b[0merr\u001b[0m\u001b[0;34m:\u001b[0m\u001b[0;34m\u001b[0m\u001b[0;34m\u001b[0m\u001b[0m\n",
      "\u001b[0;32mpandas/_libs/index.pyx\u001b[0m in \u001b[0;36mpandas._libs.index.IndexEngine.get_loc\u001b[0;34m()\u001b[0m\n",
      "\u001b[0;32mpandas/_libs/index.pyx\u001b[0m in \u001b[0;36mpandas._libs.index.IndexEngine.get_loc\u001b[0;34m()\u001b[0m\n",
      "\u001b[0;32mpandas/_libs/hashtable_class_helper.pxi\u001b[0m in \u001b[0;36mpandas._libs.hashtable.PyObjectHashTable.get_item\u001b[0;34m()\u001b[0m\n",
      "\u001b[0;32mpandas/_libs/hashtable_class_helper.pxi\u001b[0m in \u001b[0;36mpandas._libs.hashtable.PyObjectHashTable.get_item\u001b[0;34m()\u001b[0m\n",
      "\u001b[0;31mKeyError\u001b[0m: 'Seccion'",
      "\nThe above exception was the direct cause of the following exception:\n",
      "\u001b[0;31mKeyError\u001b[0m                                  Traceback (most recent call last)",
      "\u001b[0;32m<ipython-input-93-acf1f1f7f2c5>\u001b[0m in \u001b[0;36m<module>\u001b[0;34m\u001b[0m\n\u001b[0;32m----> 1\u001b[0;31m \u001b[0;32mif\u001b[0m \u001b[0mlen\u001b[0m\u001b[0;34m(\u001b[0m\u001b[0mdf_secciones_sumarios\u001b[0m\u001b[0;34m[\u001b[0m\u001b[0;34m'Seccion'\u001b[0m\u001b[0;34m]\u001b[0m\u001b[0;34m[\u001b[0m\u001b[0;36m0\u001b[0m\u001b[0;34m]\u001b[0m\u001b[0;34m)\u001b[0m \u001b[0;34m==\u001b[0m \u001b[0;36m0\u001b[0m\u001b[0;34m:\u001b[0m\u001b[0;34m\u001b[0m\u001b[0;34m\u001b[0m\u001b[0m\n\u001b[0m\u001b[1;32m      2\u001b[0m     \u001b[0mprint\u001b[0m\u001b[0;34m(\u001b[0m\u001b[0;34m'No hay disposiciones'\u001b[0m\u001b[0;34m)\u001b[0m\u001b[0;34m\u001b[0m\u001b[0;34m\u001b[0m\u001b[0m\n",
      "\u001b[0;32m~/miniconda3/lib/python3.8/site-packages/pandas/core/frame.py\u001b[0m in \u001b[0;36m__getitem__\u001b[0;34m(self, key)\u001b[0m\n\u001b[1;32m   2904\u001b[0m             \u001b[0;32mif\u001b[0m \u001b[0mself\u001b[0m\u001b[0;34m.\u001b[0m\u001b[0mcolumns\u001b[0m\u001b[0;34m.\u001b[0m\u001b[0mnlevels\u001b[0m \u001b[0;34m>\u001b[0m \u001b[0;36m1\u001b[0m\u001b[0;34m:\u001b[0m\u001b[0;34m\u001b[0m\u001b[0;34m\u001b[0m\u001b[0m\n\u001b[1;32m   2905\u001b[0m                 \u001b[0;32mreturn\u001b[0m \u001b[0mself\u001b[0m\u001b[0;34m.\u001b[0m\u001b[0m_getitem_multilevel\u001b[0m\u001b[0;34m(\u001b[0m\u001b[0mkey\u001b[0m\u001b[0;34m)\u001b[0m\u001b[0;34m\u001b[0m\u001b[0;34m\u001b[0m\u001b[0m\n\u001b[0;32m-> 2906\u001b[0;31m             \u001b[0mindexer\u001b[0m \u001b[0;34m=\u001b[0m \u001b[0mself\u001b[0m\u001b[0;34m.\u001b[0m\u001b[0mcolumns\u001b[0m\u001b[0;34m.\u001b[0m\u001b[0mget_loc\u001b[0m\u001b[0;34m(\u001b[0m\u001b[0mkey\u001b[0m\u001b[0;34m)\u001b[0m\u001b[0;34m\u001b[0m\u001b[0;34m\u001b[0m\u001b[0m\n\u001b[0m\u001b[1;32m   2907\u001b[0m             \u001b[0;32mif\u001b[0m \u001b[0mis_integer\u001b[0m\u001b[0;34m(\u001b[0m\u001b[0mindexer\u001b[0m\u001b[0;34m)\u001b[0m\u001b[0;34m:\u001b[0m\u001b[0;34m\u001b[0m\u001b[0;34m\u001b[0m\u001b[0m\n\u001b[1;32m   2908\u001b[0m                 \u001b[0mindexer\u001b[0m \u001b[0;34m=\u001b[0m \u001b[0;34m[\u001b[0m\u001b[0mindexer\u001b[0m\u001b[0;34m]\u001b[0m\u001b[0;34m\u001b[0m\u001b[0;34m\u001b[0m\u001b[0m\n",
      "\u001b[0;32m~/miniconda3/lib/python3.8/site-packages/pandas/core/indexes/base.py\u001b[0m in \u001b[0;36mget_loc\u001b[0;34m(self, key, method, tolerance)\u001b[0m\n\u001b[1;32m   2898\u001b[0m                 \u001b[0;32mreturn\u001b[0m \u001b[0mself\u001b[0m\u001b[0;34m.\u001b[0m\u001b[0m_engine\u001b[0m\u001b[0;34m.\u001b[0m\u001b[0mget_loc\u001b[0m\u001b[0;34m(\u001b[0m\u001b[0mcasted_key\u001b[0m\u001b[0;34m)\u001b[0m\u001b[0;34m\u001b[0m\u001b[0;34m\u001b[0m\u001b[0m\n\u001b[1;32m   2899\u001b[0m             \u001b[0;32mexcept\u001b[0m \u001b[0mKeyError\u001b[0m \u001b[0;32mas\u001b[0m \u001b[0merr\u001b[0m\u001b[0;34m:\u001b[0m\u001b[0;34m\u001b[0m\u001b[0;34m\u001b[0m\u001b[0m\n\u001b[0;32m-> 2900\u001b[0;31m                 \u001b[0;32mraise\u001b[0m \u001b[0mKeyError\u001b[0m\u001b[0;34m(\u001b[0m\u001b[0mkey\u001b[0m\u001b[0;34m)\u001b[0m \u001b[0;32mfrom\u001b[0m \u001b[0merr\u001b[0m\u001b[0;34m\u001b[0m\u001b[0;34m\u001b[0m\u001b[0m\n\u001b[0m\u001b[1;32m   2901\u001b[0m \u001b[0;34m\u001b[0m\u001b[0m\n\u001b[1;32m   2902\u001b[0m         \u001b[0;32mif\u001b[0m \u001b[0mtolerance\u001b[0m \u001b[0;32mis\u001b[0m \u001b[0;32mnot\u001b[0m \u001b[0;32mNone\u001b[0m\u001b[0;34m:\u001b[0m\u001b[0;34m\u001b[0m\u001b[0;34m\u001b[0m\u001b[0m\n",
      "\u001b[0;31mKeyError\u001b[0m: 'Seccion'"
     ]
    }
   ],
   "source": [
    "if len(df_secciones_sumarios['Seccion'][0]) == 0:\n",
    "    print('No hay disposiciones')"
   ]
  },
  {
   "cell_type": "code",
   "execution_count": 84,
   "metadata": {},
   "outputs": [
    {
     "output_type": "execute_result",
     "data": {
      "text/plain": [
       "Empty DataFrame\n",
       "Columns: []\n",
       "Index: []"
      ],
      "text/html": "<div>\n<style scoped>\n    .dataframe tbody tr th:only-of-type {\n        vertical-align: middle;\n    }\n\n    .dataframe tbody tr th {\n        vertical-align: top;\n    }\n\n    .dataframe thead th {\n        text-align: right;\n    }\n</style>\n<table border=\"1\" class=\"dataframe\">\n  <thead>\n    <tr style=\"text-align: right;\">\n      <th></th>\n    </tr>\n  </thead>\n  <tbody>\n  </tbody>\n</table>\n</div>"
     },
     "metadata": {},
     "execution_count": 84
    }
   ],
   "source": [
    "df_secciones_sumarios"
   ]
  },
  {
   "cell_type": "code",
   "execution_count": 85,
   "metadata": {},
   "outputs": [],
   "source": [
    "# df_secciones_sumarios = pd.DataFrame({'Seccion':['L049'], 'Seccion_link':['https://eur-lex.europa.eu/legal-content/ES/TXT/?uri=OJ:L:2021:049:TOC']})"
   ]
  },
  {
   "cell_type": "code",
   "execution_count": 86,
   "metadata": {},
   "outputs": [
    {
     "output_type": "error",
     "ename": "KeyError",
     "evalue": "'Seccion_link'",
     "traceback": [
      "\u001b[0;31m---------------------------------------------------------------------------\u001b[0m",
      "\u001b[0;31mKeyError\u001b[0m                                  Traceback (most recent call last)",
      "\u001b[0;32m~/miniconda3/lib/python3.8/site-packages/pandas/core/indexes/base.py\u001b[0m in \u001b[0;36mget_loc\u001b[0;34m(self, key, method, tolerance)\u001b[0m\n\u001b[1;32m   2897\u001b[0m             \u001b[0;32mtry\u001b[0m\u001b[0;34m:\u001b[0m\u001b[0;34m\u001b[0m\u001b[0;34m\u001b[0m\u001b[0m\n\u001b[0;32m-> 2898\u001b[0;31m                 \u001b[0;32mreturn\u001b[0m \u001b[0mself\u001b[0m\u001b[0;34m.\u001b[0m\u001b[0m_engine\u001b[0m\u001b[0;34m.\u001b[0m\u001b[0mget_loc\u001b[0m\u001b[0;34m(\u001b[0m\u001b[0mcasted_key\u001b[0m\u001b[0;34m)\u001b[0m\u001b[0;34m\u001b[0m\u001b[0;34m\u001b[0m\u001b[0m\n\u001b[0m\u001b[1;32m   2899\u001b[0m             \u001b[0;32mexcept\u001b[0m \u001b[0mKeyError\u001b[0m \u001b[0;32mas\u001b[0m \u001b[0merr\u001b[0m\u001b[0;34m:\u001b[0m\u001b[0;34m\u001b[0m\u001b[0;34m\u001b[0m\u001b[0m\n",
      "\u001b[0;32mpandas/_libs/index.pyx\u001b[0m in \u001b[0;36mpandas._libs.index.IndexEngine.get_loc\u001b[0;34m()\u001b[0m\n",
      "\u001b[0;32mpandas/_libs/index.pyx\u001b[0m in \u001b[0;36mpandas._libs.index.IndexEngine.get_loc\u001b[0;34m()\u001b[0m\n",
      "\u001b[0;32mpandas/_libs/hashtable_class_helper.pxi\u001b[0m in \u001b[0;36mpandas._libs.hashtable.PyObjectHashTable.get_item\u001b[0;34m()\u001b[0m\n",
      "\u001b[0;32mpandas/_libs/hashtable_class_helper.pxi\u001b[0m in \u001b[0;36mpandas._libs.hashtable.PyObjectHashTable.get_item\u001b[0;34m()\u001b[0m\n",
      "\u001b[0;31mKeyError\u001b[0m: 'Seccion_link'",
      "\nThe above exception was the direct cause of the following exception:\n",
      "\u001b[0;31mKeyError\u001b[0m                                  Traceback (most recent call last)",
      "\u001b[0;32m<ipython-input-86-6c6e7765c6e7>\u001b[0m in \u001b[0;36m<module>\u001b[0;34m\u001b[0m\n\u001b[0;32m----> 1\u001b[0;31m \u001b[0;34m[\u001b[0m \u001b[0mprint\u001b[0m \u001b[0;34m(\u001b[0m\u001b[0mrow\u001b[0m\u001b[0;34m)\u001b[0m \u001b[0;32mfor\u001b[0m \u001b[0mrow\u001b[0m \u001b[0;32min\u001b[0m \u001b[0mdf_secciones_sumarios\u001b[0m\u001b[0;34m[\u001b[0m\u001b[0;34m'Seccion_link'\u001b[0m\u001b[0;34m]\u001b[0m\u001b[0;34m]\u001b[0m\u001b[0;34m\u001b[0m\u001b[0;34m\u001b[0m\u001b[0m\n\u001b[0m",
      "\u001b[0;32m~/miniconda3/lib/python3.8/site-packages/pandas/core/frame.py\u001b[0m in \u001b[0;36m__getitem__\u001b[0;34m(self, key)\u001b[0m\n\u001b[1;32m   2904\u001b[0m             \u001b[0;32mif\u001b[0m \u001b[0mself\u001b[0m\u001b[0;34m.\u001b[0m\u001b[0mcolumns\u001b[0m\u001b[0;34m.\u001b[0m\u001b[0mnlevels\u001b[0m \u001b[0;34m>\u001b[0m \u001b[0;36m1\u001b[0m\u001b[0;34m:\u001b[0m\u001b[0;34m\u001b[0m\u001b[0;34m\u001b[0m\u001b[0m\n\u001b[1;32m   2905\u001b[0m                 \u001b[0;32mreturn\u001b[0m \u001b[0mself\u001b[0m\u001b[0;34m.\u001b[0m\u001b[0m_getitem_multilevel\u001b[0m\u001b[0;34m(\u001b[0m\u001b[0mkey\u001b[0m\u001b[0;34m)\u001b[0m\u001b[0;34m\u001b[0m\u001b[0;34m\u001b[0m\u001b[0m\n\u001b[0;32m-> 2906\u001b[0;31m             \u001b[0mindexer\u001b[0m \u001b[0;34m=\u001b[0m \u001b[0mself\u001b[0m\u001b[0;34m.\u001b[0m\u001b[0mcolumns\u001b[0m\u001b[0;34m.\u001b[0m\u001b[0mget_loc\u001b[0m\u001b[0;34m(\u001b[0m\u001b[0mkey\u001b[0m\u001b[0;34m)\u001b[0m\u001b[0;34m\u001b[0m\u001b[0;34m\u001b[0m\u001b[0m\n\u001b[0m\u001b[1;32m   2907\u001b[0m             \u001b[0;32mif\u001b[0m \u001b[0mis_integer\u001b[0m\u001b[0;34m(\u001b[0m\u001b[0mindexer\u001b[0m\u001b[0;34m)\u001b[0m\u001b[0;34m:\u001b[0m\u001b[0;34m\u001b[0m\u001b[0;34m\u001b[0m\u001b[0m\n\u001b[1;32m   2908\u001b[0m                 \u001b[0mindexer\u001b[0m \u001b[0;34m=\u001b[0m \u001b[0;34m[\u001b[0m\u001b[0mindexer\u001b[0m\u001b[0;34m]\u001b[0m\u001b[0;34m\u001b[0m\u001b[0;34m\u001b[0m\u001b[0m\n",
      "\u001b[0;32m~/miniconda3/lib/python3.8/site-packages/pandas/core/indexes/base.py\u001b[0m in \u001b[0;36mget_loc\u001b[0;34m(self, key, method, tolerance)\u001b[0m\n\u001b[1;32m   2898\u001b[0m                 \u001b[0;32mreturn\u001b[0m \u001b[0mself\u001b[0m\u001b[0;34m.\u001b[0m\u001b[0m_engine\u001b[0m\u001b[0;34m.\u001b[0m\u001b[0mget_loc\u001b[0m\u001b[0;34m(\u001b[0m\u001b[0mcasted_key\u001b[0m\u001b[0;34m)\u001b[0m\u001b[0;34m\u001b[0m\u001b[0;34m\u001b[0m\u001b[0m\n\u001b[1;32m   2899\u001b[0m             \u001b[0;32mexcept\u001b[0m \u001b[0mKeyError\u001b[0m \u001b[0;32mas\u001b[0m \u001b[0merr\u001b[0m\u001b[0;34m:\u001b[0m\u001b[0;34m\u001b[0m\u001b[0;34m\u001b[0m\u001b[0m\n\u001b[0;32m-> 2900\u001b[0;31m                 \u001b[0;32mraise\u001b[0m \u001b[0mKeyError\u001b[0m\u001b[0;34m(\u001b[0m\u001b[0mkey\u001b[0m\u001b[0;34m)\u001b[0m \u001b[0;32mfrom\u001b[0m \u001b[0merr\u001b[0m\u001b[0;34m\u001b[0m\u001b[0;34m\u001b[0m\u001b[0m\n\u001b[0m\u001b[1;32m   2901\u001b[0m \u001b[0;34m\u001b[0m\u001b[0m\n\u001b[1;32m   2902\u001b[0m         \u001b[0;32mif\u001b[0m \u001b[0mtolerance\u001b[0m \u001b[0;32mis\u001b[0m \u001b[0;32mnot\u001b[0m \u001b[0;32mNone\u001b[0m\u001b[0;34m:\u001b[0m\u001b[0;34m\u001b[0m\u001b[0;34m\u001b[0m\u001b[0m\n",
      "\u001b[0;31mKeyError\u001b[0m: 'Seccion_link'"
     ]
    }
   ],
   "source": [
    "[ print (row) for row in df_secciones_sumarios['Seccion_link']]"
   ]
  },
  {
   "source": [
    "DOUE_sumarios = pd.DataFrame()\n",
    "\n",
    "for URL in df_secciones_sumarios['Seccion_link']:\n",
    "    \n",
    "    ### Recoge Items en Seccion Legislación\n",
    "\n",
    "    #print(URL)\n",
    "    response = requests.get(URL)\n",
    "    sumario_HTML = html.fromstring(response.text)\n",
    "\n",
    "    documentos_Name = sumario_HTML.xpath('//*[@class=\"oj-ti-doc-dur\"]/a[1]/text()[1]')\n",
    "    documentos_URL = sumario_HTML.xpath('//*[@class=\"oj-ti-doc-dur\"]/a[1]/@href')\n",
    "\n",
    "    for row in range(len(documentos_Name)):\n",
    "        DOUE_sumarios = DOUE_sumarios.append({'Seccion': 'L' + documentos_URL[row][-7:-4],\n",
    "                                        'Item_Title': documentos_Name[row],\n",
    "                                        'Item_Link': 'https://eur-lex.europa.eu' + documentos_URL[row][10:],\n",
    "                                        #'Item_Tag': documentos_URL[row][-45:-29],\n",
    "                                        'Item_Doc_Name': '',\n",
    "                                        'Fecha_publicacion': '',\n",
    "                                        'PDF_Link': '',\n",
    "                                        'Tags': '',\n",
    "                                        'Match_ASECORP_BBDD': ''},\n",
    "                                        ignore_index=True)\n"
   ],
   "cell_type": "code",
   "metadata": {},
   "execution_count": null,
   "outputs": []
  },
  {
   "cell_type": "code",
   "execution_count": null,
   "metadata": {},
   "outputs": [],
   "source": [
    "# documentos_URL[1][-45:-29]"
   ]
  },
  {
   "cell_type": "code",
   "execution_count": null,
   "metadata": {},
   "outputs": [],
   "source": [
    "DOUE_sumarios"
   ]
  },
  {
   "cell_type": "code",
   "execution_count": null,
   "metadata": {},
   "outputs": [],
   "source": [
    "print(DOUE_sumarios['Item_Link'][1])"
   ]
  },
  {
   "cell_type": "code",
   "execution_count": null,
   "metadata": {},
   "outputs": [],
   "source": [
    "def save_txt(txt, path):\n",
    "    with open(path, 'w') as f:\n",
    "        f.write(txt)\n"
   ]
  },
  {
   "cell_type": "code",
   "execution_count": null,
   "metadata": {},
   "outputs": [],
   "source": [
    "documentos_FileName = sumario_HTML.xpath('//*[@class=\"DocumentTitle pull-left\"]/text()')"
   ]
  },
  {
   "cell_type": "code",
   "execution_count": null,
   "metadata": {
    "tags": []
   },
   "outputs": [],
   "source": [
    "row = 0\n",
    "for link in DOUE_sumarios['Item_Link']:\n",
    "    sumario_Text = []\n",
    "    ### Recoge PDF link en Items Legislación\n",
    "\n",
    "    response = requests.get(link)\n",
    "    sumario_HTML = html.fromstring(response.text)\n",
    "\n",
    "    PDF_Link = sumario_HTML.xpath('//*[@id=\"format_language_table_PDF_ES\"]/@href')\n",
    "    DOUE_sumarios['PDF_Link'][row] = 'https://eur-lex.europa.eu' + PDF_Link[0][10:]\n",
    "\n",
    "    Item_Doc_Name = sumario_HTML.xpath('//*[@class=\"DocumentTitle pull-left\"]/text()')[0][9:]\n",
    "    DOUE_sumarios['Item_Doc_Name'][row] = Item_Doc_Name\n",
    "\n",
    "    #Item_Fecha = str(sumario_HTML.xpath('//*[@class=\"oj-hd-date\"]/text()'))\n",
    "    #Item_Fecha = datetime.strptime(str(raiz.xpath('//*[@class=\"oj-hd-date\"]/text()'))[0:-2],\"%d.%m.%Y\")\n",
    "    Item_Fecha = re.findall('[0-9]+\\.[0-9]+\\.[0-9]+', str(sumario_HTML.xpath('//*[@class=\"oj-hd-date\"]/text()')))\n",
    "    DOUE_sumarios['Fecha_publicacion'][row] = datetime.strptime(str(Item_Fecha)[2:-2],\"%d.%m.%Y\").date()\n",
    "\n",
    "    ### Recoge Texto de Items\n",
    "    \n",
    "    Item_Text = sumario_HTML.xpath('//*[@class=\"oj-normal\"]/text()')\n",
    "    \n",
    "    #[ sumario_Text.append(re.sub('(\\\\r||\\\\n\\\\t|\\\\xa0)+', '', item)) for item in Item_Text ]\n",
    "    [ sumario_Text.append(item) for item in Item_Text ]\n",
    "   \n",
    "    ### Sustituye caracteres 'n.' por 'n.º' ya que al importar de HTML se pierde el caracter º\n",
    "\n",
    "    sumario = \"\".join(sumario_Text).replace(' n.',' n.º')\n",
    "    print(sumario)\n",
    "    ### Busca tags en texto\n",
    "\n",
    "    DOUE_sumarios['Tags'][row] = list(set(re.findall('|'.join(pattern), sumario, flags=re.IGNORECASE)))\n",
    "\n",
    "    ### Salva texto de Items en formato TXT\n",
    "\n",
    "    save_txt(sumario, './DOUEs/Resumen-DOUE-' + Item_Doc_Name + '.txt')\n",
    "    #print(sumario)\n",
    "    #print('./DOUEs/Resumen-DOUE-' + Item_Doc_Name + '.txt')\n",
    "    #print(Item_Doc_Name)\n",
    "\n",
    "    #print(list(set(re.findall('|'.join(pattern), sumario, flags=re.IGNORECASE))))\n",
    "\n",
    "    row += 1\n"
   ]
  },
  {
   "cell_type": "code",
   "execution_count": null,
   "metadata": {},
   "outputs": [],
   "source": [
    "# Elimina Tags duplicados\n",
    "for i, row in DOUE_sumarios.iterrows():\n",
    "    DOUE_sumarios['Tags'][i] = list(set(DOUE_sumarios['Tags'][i]))\n",
    "    print(DOUE_sumarios['Tags'][i])"
   ]
  },
  {
   "cell_type": "code",
   "execution_count": null,
   "metadata": {},
   "outputs": [],
   "source": [
    "DOUE_sumarios"
   ]
  },
  {
   "cell_type": "code",
   "execution_count": null,
   "metadata": {},
   "outputs": [],
   "source": [
    "### Ordena Columnas\n",
    "DOUE_sumarios = DOUE_sumarios[['Seccion', 'Item_Doc_Name', 'Fecha_publicacion', 'PDF_Link', 'Item_Title', 'Item_Link', 'Tags', 'Match_ASECORP_BBDD']]\n",
    "DOUE_sumarios"
   ]
  },
  {
   "cell_type": "code",
   "execution_count": null,
   "metadata": {},
   "outputs": [],
   "source": [
    "### Crea lista plana de Tags sin duplicados\n",
    "DOUE_flat_list = list(set([item for row in DOUE_sumarios['Tags'] for item in row ]))"
   ]
  },
  {
   "cell_type": "code",
   "execution_count": null,
   "metadata": {},
   "outputs": [],
   "source": [
    "print (DOUE_flat_list)"
   ]
  },
  {
   "cell_type": "code",
   "execution_count": null,
   "metadata": {},
   "outputs": [],
   "source": [
    "## Busca coincidencias entre lista boletines BOEs explorados y lista boletines de BBDD ASECORP\n",
    "list(set(DOUE_flat_list) & set(boletin_ASECORP_flat_list))"
   ]
  },
  {
   "cell_type": "code",
   "execution_count": null,
   "metadata": {},
   "outputs": [],
   "source": [
    "for i, row_to_compare in DOUE_sumarios.iterrows():\n",
    "    for j, row_comparing in ASECORP_BBDD_BOE.iterrows():\n",
    "        if set(row_to_compare['Tags']) & set(row_comparing['Tags']):\n",
    "            DOUE_sumarios['Match_ASECORP_BBDD'][i].append (ASECORP_BBDD_BOE['Codigo'][j])\n",
    "            print(str(set(row_to_compare['Tags']) & set(row_comparing['Tags'])) + ' ' + str(row_comparing['Codigo']))"
   ]
  },
  {
   "cell_type": "code",
   "execution_count": null,
   "metadata": {},
   "outputs": [],
   "source": [
    "DOUE_sumarios"
   ]
  },
  {
   "cell_type": "code",
   "execution_count": null,
   "metadata": {},
   "outputs": [],
   "source": [
    "## Aplica función de conversión de listas a strings\n",
    "DOUE_sumarios = DOUE_sumarios.apply(lambda x: [list2Str(i) for i in x])"
   ]
  },
  {
   "cell_type": "code",
   "execution_count": null,
   "metadata": {},
   "outputs": [],
   "source": [
    "DOUE_sumarios_CSV = pd.DataFrame()\n",
    "DOUE_sumarios_CSV = DOUE_sumarios"
   ]
  },
  {
   "cell_type": "code",
   "execution_count": null,
   "metadata": {},
   "outputs": [],
   "source": [
    "# Compone y genera enlace a PDF del DOUE correspondiente\n",
    "DOUE_sumarios_CSV['PDF_Link'] = '=HIPERVINCULO(' + '\"' + DOUE_sumarios['PDF_Link'] + '\";' + '\"' + \"Doc: \" + DOUE_sumarios['Item_Doc_Name'] + '\")'"
   ]
  },
  {
   "cell_type": "code",
   "execution_count": null,
   "metadata": {},
   "outputs": [],
   "source": [
    "DOUE_sumarios_CSV"
   ]
  },
  {
   "cell_type": "code",
   "execution_count": null,
   "metadata": {},
   "outputs": [],
   "source": [
    "DOUE_sumarios_CSV['PDF_Link'][1]"
   ]
  },
  {
   "cell_type": "code",
   "execution_count": null,
   "metadata": {},
   "outputs": [],
   "source": [
    "### Genera fichero CSV\n",
    "\n",
    "DOUE_sumarios_CSV.to_csv(\"./ASECORP/Resultados_Matching_DOUE_\" + today.strftime(\"%Y%m%d\") + \".csv\", index=False) "
   ]
  },
  {
   "cell_type": "code",
   "execution_count": null,
   "metadata": {},
   "outputs": [],
   "source": []
  }
 ]
}