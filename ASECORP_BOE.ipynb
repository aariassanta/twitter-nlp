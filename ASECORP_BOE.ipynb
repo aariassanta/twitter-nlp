{
 "metadata": {
  "language_info": {
   "codemirror_mode": {
    "name": "ipython",
    "version": 3
   },
   "file_extension": ".py",
   "mimetype": "text/x-python",
   "name": "python",
   "nbconvert_exporter": "python",
   "pygments_lexer": "ipython3",
   "version": "3.8.5-final"
  },
  "orig_nbformat": 2,
  "kernelspec": {
   "name": "python3",
   "display_name": "Python 3",
   "language": "python"
  }
 },
 "nbformat": 4,
 "nbformat_minor": 2,
 "cells": [
  {
   "cell_type": "code",
   "execution_count": 454,
   "metadata": {},
   "outputs": [],
   "source": [
    "from lxml import etree, html\n",
    "from lxml.html.clean import clean_html\n",
    "import pandas as pd\n",
    "from datetime import date, datetime\n",
    "import requests\n",
    "import re\n",
    "import os\n",
    "import shutil"
   ]
  },
  {
   "source": [
    "# Mueve todos los fichero del directorio de trabajo a otro de archivo"
   ],
   "cell_type": "markdown",
   "metadata": {}
  },
  {
   "cell_type": "code",
   "execution_count": 456,
   "metadata": {},
   "outputs": [],
   "source": [
    "source_dir = './BOEs'\n",
    "target_dir = './BOEs_Anteriores'\n",
    "    \n",
    "file_names = os.listdir(source_dir)\n",
    "    \n",
    "for file_name in file_names:\n",
    "    #shutil.move(os.path.join(source_dir, file_name), target_dir)\n",
    "    # Evita que de error si el fichero que se mueve ya existe en dir destino\n",
    "    try:\n",
    "        os.remove(os.path.join(target_dir, file_name))\n",
    "        shutil.move(os.path.join(source_dir, file_name), target_dir)\n",
    "    except OSError:\n",
    "        shutil.move(os.path.join(source_dir, file_name), target_dir)"
   ]
  },
  {
   "source": [
    "# Recoge resumen diario del BOE de hoy"
   ],
   "cell_type": "markdown",
   "metadata": {}
  },
  {
   "cell_type": "code",
   "execution_count": 699,
   "metadata": {},
   "outputs": [
    {
     "output_type": "stream",
     "name": "stdout",
     "text": [
      "Fecha de Hoy = 20210307\ndia = 07\nmes = 03\naño = 2021\n07/03/2021\n"
     ]
    }
   ],
   "source": [
    "\n",
    "today = date.today()\n",
    "\n",
    "# dd/mm/YYYY\n",
    "hoy = today.strftime(\"%Y%m%d\")\n",
    "print(\"Fecha de Hoy =\", hoy)\n",
    "\n",
    "# dd\n",
    "d = today.strftime(\"%d\")\n",
    "print(\"dia =\", d)\n",
    "\n",
    "# mm\n",
    "m = today.strftime(\"%m\")\n",
    "print(\"mes =\", m)\n",
    "\n",
    "# YYYY\n",
    "Y = today.strftime(\"%Y\")\n",
    "print(\"año =\", Y)\n",
    "\n",
    "print(today.strftime(\"%d/%m/%Y\"))"
   ]
  },
  {
   "cell_type": "code",
   "execution_count": 700,
   "metadata": {},
   "outputs": [],
   "source": [
    "URL_XML_resumen =  \"https://www.boe.es/diario_boe/xml.php?id=BOE-S-\" + str(hoy)"
   ]
  },
  {
   "cell_type": "code",
   "execution_count": 701,
   "metadata": {},
   "outputs": [],
   "source": [
    "# URL_XML_resumen = 'https://www.boe.es/diario_boe/xml.php?id=BOE-S-20210223' # Contiene Seccion T. Constitucional\n",
    "# URL_XML_resumen = 'https://www.boe.es/diario_boe/xml.php?id=BOE-S-20210305' # Contiene Sección V. A"
   ]
  },
  {
   "cell_type": "code",
   "execution_count": 702,
   "metadata": {},
   "outputs": [
    {
     "output_type": "execute_result",
     "data": {
      "text/plain": [
       "'https://www.boe.es/diario_boe/xml.php?id=BOE-S-20210305'"
      ]
     },
     "metadata": {},
     "execution_count": 702
    }
   ],
   "source": [
    "URL_XML_resumen"
   ]
  },
  {
   "cell_type": "code",
   "execution_count": 703,
   "metadata": {},
   "outputs": [],
   "source": [
    "url = URL_XML_resumen\n",
    "r = requests.get(url)"
   ]
  },
  {
   "cell_type": "code",
   "execution_count": 704,
   "metadata": {},
   "outputs": [],
   "source": [
    "def save_html(html, path):\n",
    "    with open(path, 'wb') as f:\n",
    "        f.write(html)\n",
    "\n",
    "save_html(r.content, './BOEs/Resumen-BOE-' + hoy + '.xml')"
   ]
  },
  {
   "cell_type": "code",
   "execution_count": 705,
   "metadata": {},
   "outputs": [],
   "source": [
    "resumen = etree.parse('./BOEs/Resumen-BOE-' + hoy + '.xml')"
   ]
  },
  {
   "cell_type": "code",
   "execution_count": 706,
   "metadata": {},
   "outputs": [],
   "source": [
    "raiz=resumen.getroot()\n",
    "raiz.tag\n",
    "raiz_sumario = raiz"
   ]
  },
  {
   "cell_type": "code",
   "execution_count": 707,
   "metadata": {},
   "outputs": [
    {
     "output_type": "execute_result",
     "data": {
      "text/plain": [
       "[]"
      ]
     },
     "metadata": {},
     "execution_count": 707
    }
   ],
   "source": [
    "seccion = raiz.findall(\"sumario/diario/seccion\")\n",
    "seccion"
   ]
  },
  {
   "cell_type": "code",
   "execution_count": 708,
   "metadata": {},
   "outputs": [
    {
     "output_type": "stream",
     "name": "stdout",
     "text": [
      "['I. Disposiciones generales']\n['II. Autoridades y personal. - A. Nombramientos, situaciones e incidencias']\n['II. Autoridades y personal. - B. Oposiciones y concursos']\n['III. Otras disposiciones']\n['IV. Administración de Justicia']\n['V. Anuncios. - A. Contratación del Sector Público']\n['V. Anuncios. - B. Otros anuncios oficiales']\n"
     ]
    }
   ],
   "source": [
    "for seccion in raiz.xpath('//seccion'):\n",
    "    nombre_seccion = seccion.xpath('@nombre')\n",
    "    print(nombre_seccion)"
   ]
  },
  {
   "cell_type": "code",
   "execution_count": 709,
   "metadata": {},
   "outputs": [],
   "source": [
    "secciones = raiz.findall(\"sumario/diario/seccion\")\n",
    "for seccion in secciones:\n",
    "    print(seccion.text)"
   ]
  },
  {
   "cell_type": "code",
   "execution_count": 710,
   "metadata": {},
   "outputs": [],
   "source": [
    "tabla_resumen = pd.DataFrame()"
   ]
  },
  {
   "cell_type": "code",
   "execution_count": 711,
   "metadata": {},
   "outputs": [
    {
     "output_type": "stream",
     "name": "stdout",
     "text": [
      "['I. Disposiciones generales']\n",
      "['BOE-A-2021-3417']\n",
      "['MINISTERIO DE AGRICULTURA, PESCA Y ALIMENTACIÓN']\n",
      "['Fondos europeos agrícolas']\n",
      "https://www.boe.es/diario_boe/xml.php?id=BOE-A-2021-3417\n",
      "['BOE-A-2021-3418']\n",
      "['MINISTERIO PARA LA TRANSICIÓN ECOLÓGICA Y EL RETO DEMOGRÁFICO']\n",
      "['Combustibles. Precios']\n",
      "https://www.boe.es/diario_boe/xml.php?id=BOE-A-2021-3418\n",
      "['BOE-A-2021-3419']\n",
      "['MINISTERIO DE ASUNTOS ECONÓMICOS Y TRANSFORMACIÓN DIGITAL']\n",
      "['Ordenación de pagos']\n",
      "https://www.boe.es/diario_boe/xml.php?id=BOE-A-2021-3419\n",
      "['BOE-A-2021-3420']\n",
      "['MINISTERIO DE ASUNTOS ECONÓMICOS Y TRANSFORMACIÓN DIGITAL']\n",
      "['Medidas financieras']\n",
      "https://www.boe.es/diario_boe/xml.php?id=BOE-A-2021-3420\n",
      "['BOE-A-2021-3421']\n",
      "['MINISTERIO DE INCLUSIÓN, SEGURIDAD SOCIAL Y MIGRACIONES']\n",
      "['Procedimientos administrativos. Gestión informatizada']\n",
      "https://www.boe.es/diario_boe/xml.php?id=BOE-A-2021-3421\n",
      "['III. Otras disposiciones']\n",
      "['BOE-A-2021-3440']\n",
      "['CONSEJO GENERAL DEL PODER JUDICIAL']\n",
      "['Juzgados de Instrucción']\n",
      "https://www.boe.es/diario_boe/xml.php?id=BOE-A-2021-3440\n",
      "['BOE-A-2021-3441']\n",
      "['MINISTERIO DE DEFENSA']\n",
      "['Homologaciones']\n",
      "https://www.boe.es/diario_boe/xml.php?id=BOE-A-2021-3441\n",
      "['BOE-A-2021-3442']\n",
      "['MINISTERIO DE DEFENSA']\n",
      "['Homologaciones']\n",
      "https://www.boe.es/diario_boe/xml.php?id=BOE-A-2021-3442\n",
      "['BOE-A-2021-3443']\n",
      "['MINISTERIO DE TRABAJO Y ECONOMÍA SOCIAL']\n",
      "['Convenios colectivos de trabajo']\n",
      "https://www.boe.es/diario_boe/xml.php?id=BOE-A-2021-3443\n",
      "['BOE-A-2021-3444']\n",
      "['MINISTERIO DE INDUSTRIA, COMERCIO Y TURISMO']\n",
      "['Documentación administrativa']\n",
      "https://www.boe.es/diario_boe/xml.php?id=BOE-A-2021-3444\n",
      "['BOE-A-2021-3445']\n",
      "['MINISTERIO DE AGRICULTURA, PESCA Y ALIMENTACIÓN']\n",
      "['Seguros agrarios combinados']\n",
      "https://www.boe.es/diario_boe/xml.php?id=BOE-A-2021-3445\n",
      "['BOE-A-2021-3446']\n",
      "['MINISTERIO DE AGRICULTURA, PESCA Y ALIMENTACIÓN']\n",
      "['Variedades comerciales de plantas']\n",
      "https://www.boe.es/diario_boe/xml.php?id=BOE-A-2021-3446\n",
      "['BOE-A-2021-3447']\n",
      "['MINISTERIO DE AGRICULTURA, PESCA Y ALIMENTACIÓN']\n",
      "['Variedades comerciales de plantas']\n",
      "https://www.boe.es/diario_boe/xml.php?id=BOE-A-2021-3447\n",
      "['BOE-A-2021-3448']\n",
      "['MINISTERIO DE AGRICULTURA, PESCA Y ALIMENTACIÓN']\n",
      "['Variedades comerciales de plantas']\n",
      "https://www.boe.es/diario_boe/xml.php?id=BOE-A-2021-3448\n",
      "['BOE-A-2021-3449']\n",
      "['MINISTERIO DE AGRICULTURA, PESCA Y ALIMENTACIÓN']\n",
      "['Variedades comerciales de plantas']\n",
      "https://www.boe.es/diario_boe/xml.php?id=BOE-A-2021-3449\n",
      "['BOE-A-2021-3450']\n",
      "['MINISTERIO DE LA PRESIDENCIA, RELACIONES CON LAS CORTES Y MEMORIA DEMOCRÁTICA']\n",
      "['Comunidad Autónoma de Cataluña. Convenio']\n",
      "https://www.boe.es/diario_boe/xml.php?id=BOE-A-2021-3450\n",
      "['BOE-A-2021-3451']\n",
      "['MINISTERIO PARA LA TRANSICIÓN ECOLÓGICA Y EL RETO DEMOGRÁFICO']\n",
      "['Convenios']\n",
      "https://www.boe.es/diario_boe/xml.php?id=BOE-A-2021-3451\n",
      "['BOE-A-2021-3452']\n",
      "['MINISTERIO DE CULTURA Y DEPORTE']\n",
      "['Premios']\n",
      "https://www.boe.es/diario_boe/xml.php?id=BOE-A-2021-3452\n",
      "['BOE-A-2021-3453']\n",
      "['MINISTERIO DE CULTURA Y DEPORTE']\n",
      "['Premios']\n",
      "https://www.boe.es/diario_boe/xml.php?id=BOE-A-2021-3453\n",
      "['BOE-A-2021-3454']\n",
      "['MINISTERIO DE CULTURA Y DEPORTE']\n",
      "['Premios']\n",
      "https://www.boe.es/diario_boe/xml.php?id=BOE-A-2021-3454\n",
      "['BOE-A-2021-3455']\n",
      "['MINISTERIO DE CULTURA Y DEPORTE']\n",
      "['Premios']\n",
      "https://www.boe.es/diario_boe/xml.php?id=BOE-A-2021-3455\n",
      "['BOE-A-2021-3456']\n",
      "['MINISTERIO DE CULTURA Y DEPORTE']\n",
      "['Premios']\n",
      "https://www.boe.es/diario_boe/xml.php?id=BOE-A-2021-3456\n",
      "['BOE-A-2021-3457']\n",
      "['MINISTERIO DE CULTURA Y DEPORTE']\n",
      "['Premios']\n",
      "https://www.boe.es/diario_boe/xml.php?id=BOE-A-2021-3457\n",
      "['BOE-A-2021-3458']\n",
      "['MINISTERIO DE CULTURA Y DEPORTE']\n",
      "['Premios']\n",
      "https://www.boe.es/diario_boe/xml.php?id=BOE-A-2021-3458\n",
      "['BOE-A-2021-3459']\n",
      "['MINISTERIO DE CULTURA Y DEPORTE']\n",
      "['Premios']\n",
      "https://www.boe.es/diario_boe/xml.php?id=BOE-A-2021-3459\n",
      "['BOE-A-2021-3460']\n",
      "['MINISTERIO DE CULTURA Y DEPORTE']\n",
      "['Premios']\n",
      "https://www.boe.es/diario_boe/xml.php?id=BOE-A-2021-3460\n",
      "['BOE-A-2021-3461']\n",
      "['MINISTERIO DE CULTURA Y DEPORTE']\n",
      "['Premios']\n",
      "https://www.boe.es/diario_boe/xml.php?id=BOE-A-2021-3461\n",
      "['BOE-A-2021-3462']\n",
      "['MINISTERIO DE CULTURA Y DEPORTE']\n",
      "['Premios']\n",
      "https://www.boe.es/diario_boe/xml.php?id=BOE-A-2021-3462\n",
      "['BOE-A-2021-3463']\n",
      "['MINISTERIO DE CULTURA Y DEPORTE']\n",
      "['Premios']\n",
      "https://www.boe.es/diario_boe/xml.php?id=BOE-A-2021-3463\n",
      "['BOE-A-2021-3464']\n",
      "['MINISTERIO DE CULTURA Y DEPORTE']\n",
      "['Premios']\n",
      "https://www.boe.es/diario_boe/xml.php?id=BOE-A-2021-3464\n",
      "['BOE-A-2021-3465']\n",
      "['MINISTERIO DE CULTURA Y DEPORTE']\n",
      "['Premios']\n",
      "https://www.boe.es/diario_boe/xml.php?id=BOE-A-2021-3465\n",
      "['BOE-A-2021-3466']\n",
      "['MINISTERIO DE CULTURA Y DEPORTE']\n",
      "['Premios']\n",
      "https://www.boe.es/diario_boe/xml.php?id=BOE-A-2021-3466\n",
      "['BOE-A-2021-3467']\n",
      "['MINISTERIO DE ASUNTOS ECONÓMICOS Y TRANSFORMACIÓN DIGITAL']\n",
      "['Comunidad Autónoma de Extremadura. Convenio']\n",
      "https://www.boe.es/diario_boe/xml.php?id=BOE-A-2021-3467\n",
      "['BOE-A-2021-3468']\n",
      "['MINISTERIO DE ASUNTOS ECONÓMICOS Y TRANSFORMACIÓN DIGITAL']\n",
      "['Comunidad Autónoma de Galicia. Convenio']\n",
      "https://www.boe.es/diario_boe/xml.php?id=BOE-A-2021-3468\n",
      "['BOE-A-2021-3469']\n",
      "['MINISTERIO DE ASUNTOS ECONÓMICOS Y TRANSFORMACIÓN DIGITAL']\n",
      "['Comunidad Autónoma de Galicia. Convenio']\n",
      "https://www.boe.es/diario_boe/xml.php?id=BOE-A-2021-3469\n",
      "['BOE-A-2021-3470']\n",
      "['MINISTERIO DE ASUNTOS ECONÓMICOS Y TRANSFORMACIÓN DIGITAL']\n",
      "['Comunidad Autónoma de las Illes Balears. Convenio']\n",
      "https://www.boe.es/diario_boe/xml.php?id=BOE-A-2021-3470\n",
      "['BOE-A-2021-3471']\n",
      "['MINISTERIO DE ASUNTOS ECONÓMICOS Y TRANSFORMACIÓN DIGITAL']\n",
      "['Comunidad de Castilla y León. Convenio']\n",
      "https://www.boe.es/diario_boe/xml.php?id=BOE-A-2021-3471\n",
      "['BOE-A-2021-3472']\n",
      "['MINISTERIO DE ASUNTOS ECONÓMICOS Y TRANSFORMACIÓN DIGITAL']\n",
      "['Comunidad de Castilla y León. Convenio']\n",
      "https://www.boe.es/diario_boe/xml.php?id=BOE-A-2021-3472\n",
      "['BOE-A-2021-3473']\n",
      "['MINISTERIO DE ASUNTOS ECONÓMICOS Y TRANSFORMACIÓN DIGITAL']\n",
      "['Comunitat Valenciana. Convenio']\n",
      "https://www.boe.es/diario_boe/xml.php?id=BOE-A-2021-3473\n",
      "['BOE-A-2021-3474']\n",
      "['MINISTERIO DE ASUNTOS ECONÓMICOS Y TRANSFORMACIÓN DIGITAL']\n",
      "['Comunitat Valenciana. Convenio']\n",
      "https://www.boe.es/diario_boe/xml.php?id=BOE-A-2021-3474\n",
      "['BOE-A-2021-3475']\n",
      "['MINISTERIO DE ASUNTOS ECONÓMICOS Y TRANSFORMACIÓN DIGITAL']\n",
      "['Comunitat Valenciana. Convenio']\n",
      "https://www.boe.es/diario_boe/xml.php?id=BOE-A-2021-3475\n",
      "['BOE-A-2021-3476']\n",
      "['MINISTERIO DE ASUNTOS ECONÓMICOS Y TRANSFORMACIÓN DIGITAL']\n",
      "['Entidades de seguros']\n",
      "https://www.boe.es/diario_boe/xml.php?id=BOE-A-2021-3476\n",
      "['BOE-A-2021-3477']\n",
      "['MINISTERIO DE DERECHOS SOCIALES Y AGENDA 2030']\n",
      "['Cartas de servicios']\n",
      "https://www.boe.es/diario_boe/xml.php?id=BOE-A-2021-3477\n",
      "['BOE-A-2021-3478']\n",
      "['BANCO DE ESPAÑA']\n",
      "['Mercado de divisas']\n",
      "https://www.boe.es/diario_boe/xml.php?id=BOE-A-2021-3478\n",
      "['BOE-A-2021-3479']\n",
      "['COMUNIDAD AUTÓNOMA DE CATALUÑA']\n",
      "['Bienes de interés cultural']\n",
      "https://www.boe.es/diario_boe/xml.php?id=BOE-A-2021-3479\n",
      "['BOE-A-2021-3480']\n",
      "['COMUNIDAD AUTÓNOMA DE CATALUÑA']\n",
      "['Homologaciones']\n",
      "https://www.boe.es/diario_boe/xml.php?id=BOE-A-2021-3480\n",
      "['BOE-A-2021-3481']\n",
      "['COMUNIDAD AUTÓNOMA DE CATALUÑA']\n",
      "['Homologaciones']\n",
      "https://www.boe.es/diario_boe/xml.php?id=BOE-A-2021-3481\n",
      "['BOE-A-2021-3482']\n",
      "['COMUNIDAD AUTÓNOMA DE CATALUÑA']\n",
      "['Homologaciones']\n",
      "https://www.boe.es/diario_boe/xml.php?id=BOE-A-2021-3482\n",
      "['BOE-A-2021-3483']\n",
      "['COMUNIDAD AUTÓNOMA DE CATALUÑA']\n",
      "['Homologaciones']\n",
      "https://www.boe.es/diario_boe/xml.php?id=BOE-A-2021-3483\n",
      "['BOE-A-2021-3484']\n",
      "['COMUNIDAD DE CASTILLA Y LEÓN']\n",
      "['Bienes de interés cultural']\n",
      "https://www.boe.es/diario_boe/xml.php?id=BOE-A-2021-3484\n",
      "['V. Anuncios. - A. Contratación del Sector Público']\n",
      "['BOE-B-2021-10597']\n",
      "['MINISTERIO DE DEFENSA']\n",
      "[]\n",
      "https://www.boe.es/diario_boe/xml.php?id=BOE-B-2021-10597\n",
      "['BOE-B-2021-10598']\n",
      "['MINISTERIO DE HACIENDA']\n",
      "[]\n",
      "https://www.boe.es/diario_boe/xml.php?id=BOE-B-2021-10598\n",
      "['BOE-B-2021-10599']\n",
      "['MINISTERIO DE HACIENDA']\n",
      "[]\n",
      "https://www.boe.es/diario_boe/xml.php?id=BOE-B-2021-10599\n",
      "['BOE-B-2021-10600']\n",
      "['MINISTERIO DE TRANSPORTES, MOVILIDAD Y AGENDA URBANA']\n",
      "[]\n",
      "https://www.boe.es/diario_boe/xml.php?id=BOE-B-2021-10600\n",
      "['BOE-B-2021-10601']\n",
      "['MINISTERIO DE TRANSPORTES, MOVILIDAD Y AGENDA URBANA']\n",
      "[]\n",
      "https://www.boe.es/diario_boe/xml.php?id=BOE-B-2021-10601\n",
      "['BOE-B-2021-10602']\n",
      "['MINISTERIO DE TRANSPORTES, MOVILIDAD Y AGENDA URBANA']\n",
      "[]\n",
      "https://www.boe.es/diario_boe/xml.php?id=BOE-B-2021-10602\n",
      "['BOE-B-2021-10603']\n",
      "['MINISTERIO DE TRANSPORTES, MOVILIDAD Y AGENDA URBANA']\n",
      "[]\n",
      "https://www.boe.es/diario_boe/xml.php?id=BOE-B-2021-10603\n",
      "['BOE-B-2021-10604']\n",
      "['MINISTERIO DE TRANSPORTES, MOVILIDAD Y AGENDA URBANA']\n",
      "[]\n",
      "https://www.boe.es/diario_boe/xml.php?id=BOE-B-2021-10604\n",
      "['BOE-B-2021-10605']\n",
      "['MINISTERIO DE TRABAJO Y ECONOMÍA SOCIAL']\n",
      "[]\n",
      "https://www.boe.es/diario_boe/xml.php?id=BOE-B-2021-10605\n",
      "['BOE-B-2021-10606']\n",
      "['MINISTERIO DE ASUNTOS ECONÓMICOS Y TRANSFORMACIÓN DIGITAL']\n",
      "[]\n",
      "https://www.boe.es/diario_boe/xml.php?id=BOE-B-2021-10606\n",
      "['BOE-B-2021-10607']\n",
      "['MINISTERIO DE INCLUSIÓN, SEGURIDAD SOCIAL Y MIGRACIONES']\n",
      "[]\n",
      "https://www.boe.es/diario_boe/xml.php?id=BOE-B-2021-10607\n",
      "['BOE-B-2021-10608']\n",
      "['COMISIÓN NACIONAL DEL MERCADO DE VALORES']\n",
      "[]\n",
      "https://www.boe.es/diario_boe/xml.php?id=BOE-B-2021-10608\n"
     ]
    }
   ],
   "source": [
    "for secciones in raiz.xpath('//seccion[contains(@nombre, \"I. Disposiciones generales\") or contains(@nombre, \"III. Otras disposiciones\") or contains(@nombre, \"V. Anuncios. - A. Contratación del Sector Público\") or contains(@nombre, \"T.C. Sección del Tribunal Constitucional\")]'):\n",
    "\n",
    "    nombre_seccion = secciones.xpath('@nombre')\n",
    "    print(nombre_seccion)\n",
    "\n",
    "    for seccion in secciones:\n",
    "\n",
    "        for item in seccion.xpath('.//item'):\n",
    "            item_id = item.xpath('@id')\n",
    "            print(item_id)\n",
    "            nombre_departamento = item.xpath('.//ancestor::departamento/@nombre')\n",
    "            print(nombre_departamento)\n",
    "            nombre_epigrafe = item.xpath('.//ancestor::epigrafe/@nombre')\n",
    "            print(nombre_epigrafe)\n",
    "            item_name = item.xpath('.//titulo/text()')\n",
    "            item_urlXml = \"https://www.boe.es\" + str(item.xpath('.//urlXml/text()'))[2:-2]\n",
    "            print(item_urlXml)\n",
    "            tabla_resumen = tabla_resumen.append({'Seccion': nombre_seccion, \n",
    "                                                  'Departamento': nombre_departamento, \n",
    "                                                  'Epigrafe' : nombre_epigrafe,\n",
    "                                                  'Item_id': item_id, \n",
    "                                                  'Item_Nombre' : item_name, \n",
    "                                                  'Item_URL_XML' : item_urlXml},\n",
    "                                                  ignore_index=True)"
   ]
  },
  {
   "source": [
    "for seccion in raiz.xpath('//seccion[contains(@nombre, \"I. Disposiciones generales\") or contains(@nombre, \"III. Otras disposiciones\") or contains(@nombre, \"V. Anuncios. - A. Contratación del Sector Público\") or contains(@nombre, \"T.C. Sección del Tribunal Constitucional\")]'):\n",
    "#for seccion in raiz.xpath('//seccion[contains(@nombre, \"I. Disposiciones generales\")]'):\n",
    "\n",
    "    nombre_seccion = seccion.xpath('@nombre')\n",
    "    print(nombre_seccion)\n",
    "\n",
    "    for departamento in seccion:\n",
    "        nombre_departamento = departamento.xpath('@nombre') \n",
    "\n",
    "        for epigrafe in departamento:\n",
    "            nombre_epigrafe = epigrafe.xpath('@nombre')\n",
    "\n",
    "            #print(epigrafe.xpath('@id'))\n",
    "\n",
    "            for item in epigrafe:\n",
    "                item_id = item.xpath('@id')\n",
    "                print(item_id)\n",
    "                item_name = item.xpath('.//titulo/text()') \n",
    "\n",
    "                item_urlXml = \"https://www.boe.es\" + str(item.xpath('.//urlXml/text()'))[2:-2]\n",
    "\n",
    "                tabla_resumen = tabla_resumen.append({'Seccion': nombre_seccion, \n",
    "                                                      'Departamento': nombre_departamento, \n",
    "                                                      'Epigrafe' : nombre_epigrafe,\n",
    "                                                      'Item_id': item_id, \n",
    "                                                      'Item_Nombre' : item_name, \n",
    "                                                      'Item_URL_XML' : item_urlXml},\n",
    "                                                      ignore_index=True)\n"
   ],
   "cell_type": "markdown",
   "metadata": {}
  },
  {
   "cell_type": "code",
   "execution_count": 712,
   "metadata": {},
   "outputs": [
    {
     "output_type": "execute_result",
     "data": {
      "text/plain": [
       "62"
      ]
     },
     "metadata": {},
     "execution_count": 712
    }
   ],
   "source": [
    "len(tabla_resumen)"
   ]
  },
  {
   "cell_type": "code",
   "execution_count": 713,
   "metadata": {},
   "outputs": [
    {
     "output_type": "execute_result",
     "data": {
      "text/plain": [
       "5    [BOE-A-2021-3440]\n",
       "6    [BOE-A-2021-3441]\n",
       "7    [BOE-A-2021-3442]\n",
       "Name: Item_id, dtype: object"
      ]
     },
     "metadata": {},
     "execution_count": 713
    }
   ],
   "source": [
    "tabla_resumen['Item_id'][5:8]"
   ]
  },
  {
   "cell_type": "code",
   "execution_count": 714,
   "metadata": {},
   "outputs": [
    {
     "output_type": "execute_result",
     "data": {
      "text/plain": [
       "5    https://www.boe.es/diario_boe/xml.php?id=BOE-A...\n",
       "6    https://www.boe.es/diario_boe/xml.php?id=BOE-A...\n",
       "7    https://www.boe.es/diario_boe/xml.php?id=BOE-A...\n",
       "Name: Item_URL_XML, dtype: object"
      ]
     },
     "metadata": {},
     "execution_count": 714
    }
   ],
   "source": [
    "tabla_resumen['Item_URL_XML'][5:8]"
   ]
  },
  {
   "cell_type": "code",
   "execution_count": 715,
   "metadata": {},
   "outputs": [
    {
     "output_type": "execute_result",
     "data": {
      "text/plain": [
       "                                         Departamento  \\\n",
       "0   [MINISTERIO DE AGRICULTURA, PESCA Y ALIMENTACIÓN]   \n",
       "1   [MINISTERIO PARA LA TRANSICIÓN ECOLÓGICA Y EL ...   \n",
       "2   [MINISTERIO DE ASUNTOS ECONÓMICOS Y TRANSFORMA...   \n",
       "3   [MINISTERIO DE ASUNTOS ECONÓMICOS Y TRANSFORMA...   \n",
       "4   [MINISTERIO DE INCLUSIÓN, SEGURIDAD SOCIAL Y M...   \n",
       "..                                                ...   \n",
       "57  [MINISTERIO DE TRANSPORTES, MOVILIDAD Y AGENDA...   \n",
       "58          [MINISTERIO DE TRABAJO Y ECONOMÍA SOCIAL]   \n",
       "59  [MINISTERIO DE ASUNTOS ECONÓMICOS Y TRANSFORMA...   \n",
       "60  [MINISTERIO DE INCLUSIÓN, SEGURIDAD SOCIAL Y M...   \n",
       "61         [COMISIÓN NACIONAL DEL MERCADO DE VALORES]   \n",
       "\n",
       "                                             Epigrafe  \\\n",
       "0                         [Fondos europeos agrícolas]   \n",
       "1                             [Combustibles. Precios]   \n",
       "2                               [Ordenación de pagos]   \n",
       "3                               [Medidas financieras]   \n",
       "4   [Procedimientos administrativos. Gestión infor...   \n",
       "..                                                ...   \n",
       "57                                                 []   \n",
       "58                                                 []   \n",
       "59                                                 []   \n",
       "60                                                 []   \n",
       "61                                                 []   \n",
       "\n",
       "                                          Item_Nombre  \\\n",
       "0   [Real Decreto 94/2021, de 16 de febrero, por e...   \n",
       "1   [Resolución de 25 de febrero de 2021, de la Di...   \n",
       "2   [Resolución de 2 de marzo de 2021, conjunta de...   \n",
       "3   [Resolución de 4 de marzo de 2021, de la Secre...   \n",
       "4   [Orden ISM/189/2021, de 3 de marzo, por la que...   \n",
       "..                                                ...   \n",
       "57  [Anuncio de licitación de: ADIF - Presidencia....   \n",
       "58  [Anuncio de formalización de contratos de: Dir...   \n",
       "59  [Anuncio de formalización de contratos de: Dir...   \n",
       "60  [Anuncio de formalización de contratos de: INS...   \n",
       "61  [Anuncio de licitación de: Comisión Nacional d...   \n",
       "\n",
       "                                         Item_URL_XML             Item_id  \\\n",
       "0   https://www.boe.es/diario_boe/xml.php?id=BOE-A...   [BOE-A-2021-3417]   \n",
       "1   https://www.boe.es/diario_boe/xml.php?id=BOE-A...   [BOE-A-2021-3418]   \n",
       "2   https://www.boe.es/diario_boe/xml.php?id=BOE-A...   [BOE-A-2021-3419]   \n",
       "3   https://www.boe.es/diario_boe/xml.php?id=BOE-A...   [BOE-A-2021-3420]   \n",
       "4   https://www.boe.es/diario_boe/xml.php?id=BOE-A...   [BOE-A-2021-3421]   \n",
       "..                                                ...                 ...   \n",
       "57  https://www.boe.es/diario_boe/xml.php?id=BOE-B...  [BOE-B-2021-10604]   \n",
       "58  https://www.boe.es/diario_boe/xml.php?id=BOE-B...  [BOE-B-2021-10605]   \n",
       "59  https://www.boe.es/diario_boe/xml.php?id=BOE-B...  [BOE-B-2021-10606]   \n",
       "60  https://www.boe.es/diario_boe/xml.php?id=BOE-B...  [BOE-B-2021-10607]   \n",
       "61  https://www.boe.es/diario_boe/xml.php?id=BOE-B...  [BOE-B-2021-10608]   \n",
       "\n",
       "                                              Seccion  \n",
       "0                        [I. Disposiciones generales]  \n",
       "1                        [I. Disposiciones generales]  \n",
       "2                        [I. Disposiciones generales]  \n",
       "3                        [I. Disposiciones generales]  \n",
       "4                        [I. Disposiciones generales]  \n",
       "..                                                ...  \n",
       "57  [V. Anuncios. - A. Contratación del Sector Púb...  \n",
       "58  [V. Anuncios. - A. Contratación del Sector Púb...  \n",
       "59  [V. Anuncios. - A. Contratación del Sector Púb...  \n",
       "60  [V. Anuncios. - A. Contratación del Sector Púb...  \n",
       "61  [V. Anuncios. - A. Contratación del Sector Púb...  \n",
       "\n",
       "[62 rows x 6 columns]"
      ],
      "text/html": "<div>\n<style scoped>\n    .dataframe tbody tr th:only-of-type {\n        vertical-align: middle;\n    }\n\n    .dataframe tbody tr th {\n        vertical-align: top;\n    }\n\n    .dataframe thead th {\n        text-align: right;\n    }\n</style>\n<table border=\"1\" class=\"dataframe\">\n  <thead>\n    <tr style=\"text-align: right;\">\n      <th></th>\n      <th>Departamento</th>\n      <th>Epigrafe</th>\n      <th>Item_Nombre</th>\n      <th>Item_URL_XML</th>\n      <th>Item_id</th>\n      <th>Seccion</th>\n    </tr>\n  </thead>\n  <tbody>\n    <tr>\n      <th>0</th>\n      <td>[MINISTERIO DE AGRICULTURA, PESCA Y ALIMENTACIÓN]</td>\n      <td>[Fondos europeos agrícolas]</td>\n      <td>[Real Decreto 94/2021, de 16 de febrero, por e...</td>\n      <td>https://www.boe.es/diario_boe/xml.php?id=BOE-A...</td>\n      <td>[BOE-A-2021-3417]</td>\n      <td>[I. Disposiciones generales]</td>\n    </tr>\n    <tr>\n      <th>1</th>\n      <td>[MINISTERIO PARA LA TRANSICIÓN ECOLÓGICA Y EL ...</td>\n      <td>[Combustibles. Precios]</td>\n      <td>[Resolución de 25 de febrero de 2021, de la Di...</td>\n      <td>https://www.boe.es/diario_boe/xml.php?id=BOE-A...</td>\n      <td>[BOE-A-2021-3418]</td>\n      <td>[I. Disposiciones generales]</td>\n    </tr>\n    <tr>\n      <th>2</th>\n      <td>[MINISTERIO DE ASUNTOS ECONÓMICOS Y TRANSFORMA...</td>\n      <td>[Ordenación de pagos]</td>\n      <td>[Resolución de 2 de marzo de 2021, conjunta de...</td>\n      <td>https://www.boe.es/diario_boe/xml.php?id=BOE-A...</td>\n      <td>[BOE-A-2021-3419]</td>\n      <td>[I. Disposiciones generales]</td>\n    </tr>\n    <tr>\n      <th>3</th>\n      <td>[MINISTERIO DE ASUNTOS ECONÓMICOS Y TRANSFORMA...</td>\n      <td>[Medidas financieras]</td>\n      <td>[Resolución de 4 de marzo de 2021, de la Secre...</td>\n      <td>https://www.boe.es/diario_boe/xml.php?id=BOE-A...</td>\n      <td>[BOE-A-2021-3420]</td>\n      <td>[I. Disposiciones generales]</td>\n    </tr>\n    <tr>\n      <th>4</th>\n      <td>[MINISTERIO DE INCLUSIÓN, SEGURIDAD SOCIAL Y M...</td>\n      <td>[Procedimientos administrativos. Gestión infor...</td>\n      <td>[Orden ISM/189/2021, de 3 de marzo, por la que...</td>\n      <td>https://www.boe.es/diario_boe/xml.php?id=BOE-A...</td>\n      <td>[BOE-A-2021-3421]</td>\n      <td>[I. Disposiciones generales]</td>\n    </tr>\n    <tr>\n      <th>...</th>\n      <td>...</td>\n      <td>...</td>\n      <td>...</td>\n      <td>...</td>\n      <td>...</td>\n      <td>...</td>\n    </tr>\n    <tr>\n      <th>57</th>\n      <td>[MINISTERIO DE TRANSPORTES, MOVILIDAD Y AGENDA...</td>\n      <td>[]</td>\n      <td>[Anuncio de licitación de: ADIF - Presidencia....</td>\n      <td>https://www.boe.es/diario_boe/xml.php?id=BOE-B...</td>\n      <td>[BOE-B-2021-10604]</td>\n      <td>[V. Anuncios. - A. Contratación del Sector Púb...</td>\n    </tr>\n    <tr>\n      <th>58</th>\n      <td>[MINISTERIO DE TRABAJO Y ECONOMÍA SOCIAL]</td>\n      <td>[]</td>\n      <td>[Anuncio de formalización de contratos de: Dir...</td>\n      <td>https://www.boe.es/diario_boe/xml.php?id=BOE-B...</td>\n      <td>[BOE-B-2021-10605]</td>\n      <td>[V. Anuncios. - A. Contratación del Sector Púb...</td>\n    </tr>\n    <tr>\n      <th>59</th>\n      <td>[MINISTERIO DE ASUNTOS ECONÓMICOS Y TRANSFORMA...</td>\n      <td>[]</td>\n      <td>[Anuncio de formalización de contratos de: Dir...</td>\n      <td>https://www.boe.es/diario_boe/xml.php?id=BOE-B...</td>\n      <td>[BOE-B-2021-10606]</td>\n      <td>[V. Anuncios. - A. Contratación del Sector Púb...</td>\n    </tr>\n    <tr>\n      <th>60</th>\n      <td>[MINISTERIO DE INCLUSIÓN, SEGURIDAD SOCIAL Y M...</td>\n      <td>[]</td>\n      <td>[Anuncio de formalización de contratos de: INS...</td>\n      <td>https://www.boe.es/diario_boe/xml.php?id=BOE-B...</td>\n      <td>[BOE-B-2021-10607]</td>\n      <td>[V. Anuncios. - A. Contratación del Sector Púb...</td>\n    </tr>\n    <tr>\n      <th>61</th>\n      <td>[COMISIÓN NACIONAL DEL MERCADO DE VALORES]</td>\n      <td>[]</td>\n      <td>[Anuncio de licitación de: Comisión Nacional d...</td>\n      <td>https://www.boe.es/diario_boe/xml.php?id=BOE-B...</td>\n      <td>[BOE-B-2021-10608]</td>\n      <td>[V. Anuncios. - A. Contratación del Sector Púb...</td>\n    </tr>\n  </tbody>\n</table>\n<p>62 rows × 6 columns</p>\n</div>"
     },
     "metadata": {},
     "execution_count": 715
    }
   ],
   "source": [
    "tabla_resumen.sort_values('Item_id')"
   ]
  },
  {
   "cell_type": "code",
   "execution_count": 716,
   "metadata": {},
   "outputs": [
    {
     "output_type": "execute_result",
     "data": {
      "text/plain": [
       "62"
      ]
     },
     "metadata": {},
     "execution_count": 716
    }
   ],
   "source": [
    "len(tabla_resumen)"
   ]
  },
  {
   "cell_type": "code",
   "execution_count": 778,
   "metadata": {},
   "outputs": [],
   "source": [
    "# Convierte columnas Departamento y Epigrafe a tipo str para poder realizar búsqueda de palabra Comunidad y variantes\n",
    "tabla_resumen['Epigrafe'] = tabla_resumen['Epigrafe'].astype(str)\n",
    "tabla_resumen['Departamento'] = tabla_resumen['Departamento'].astype(str)"
   ]
  },
  {
   "cell_type": "code",
   "execution_count": 779,
   "metadata": {},
   "outputs": [],
   "source": [
    "# Elimina disposiciones con departamento o epigrafe que contenga las palabras Comunidad y sus variantes\n",
    "terminos = ['Comunidad', 'Comunitat', 'COMUNIDAD', 'COMUNITAT']\n",
    "tabla_resumen = tabla_resumen.drop(tabla_resumen.index[tabla_resumen['Epigrafe'].str.contains('|'.join(terminos), na=False)])\n",
    "tabla_resumen = tabla_resumen.drop(tabla_resumen.index[tabla_resumen['Departamento'].str.contains('|'.join(terminos), na=False)])"
   ]
  },
  {
   "cell_type": "code",
   "execution_count": 780,
   "metadata": {},
   "outputs": [
    {
     "output_type": "execute_result",
     "data": {
      "text/plain": [
       "46"
      ]
     },
     "metadata": {},
     "execution_count": 780
    }
   ],
   "source": [
    "len(tabla_resumen)"
   ]
  },
  {
   "cell_type": "code",
   "execution_count": 781,
   "metadata": {},
   "outputs": [
    {
     "output_type": "execute_result",
     "data": {
      "text/plain": [
       "                                         Departamento  \\\n",
       "16  ['MINISTERIO PARA LA TRANSICIÓN ECOLÓGICA Y EL...   \n",
       "17                ['MINISTERIO DE CULTURA Y DEPORTE']   \n",
       "18                ['MINISTERIO DE CULTURA Y DEPORTE']   \n",
       "19                ['MINISTERIO DE CULTURA Y DEPORTE']   \n",
       "20                ['MINISTERIO DE CULTURA Y DEPORTE']   \n",
       "21                ['MINISTERIO DE CULTURA Y DEPORTE']   \n",
       "22                ['MINISTERIO DE CULTURA Y DEPORTE']   \n",
       "23                ['MINISTERIO DE CULTURA Y DEPORTE']   \n",
       "24                ['MINISTERIO DE CULTURA Y DEPORTE']   \n",
       "25                ['MINISTERIO DE CULTURA Y DEPORTE']   \n",
       "26                ['MINISTERIO DE CULTURA Y DEPORTE']   \n",
       "27                ['MINISTERIO DE CULTURA Y DEPORTE']   \n",
       "28                ['MINISTERIO DE CULTURA Y DEPORTE']   \n",
       "29                ['MINISTERIO DE CULTURA Y DEPORTE']   \n",
       "30                ['MINISTERIO DE CULTURA Y DEPORTE']   \n",
       "31                ['MINISTERIO DE CULTURA Y DEPORTE']   \n",
       "41  ['MINISTERIO DE ASUNTOS ECONÓMICOS Y TRANSFORM...   \n",
       "42  ['MINISTERIO DE DERECHOS SOCIALES Y AGENDA 2030']   \n",
       "43                                ['BANCO DE ESPAÑA']   \n",
       "50                          ['MINISTERIO DE DEFENSA']   \n",
       "\n",
       "                    Epigrafe  \\\n",
       "16             ['Convenios']   \n",
       "17               ['Premios']   \n",
       "18               ['Premios']   \n",
       "19               ['Premios']   \n",
       "20               ['Premios']   \n",
       "21               ['Premios']   \n",
       "22               ['Premios']   \n",
       "23               ['Premios']   \n",
       "24               ['Premios']   \n",
       "25               ['Premios']   \n",
       "26               ['Premios']   \n",
       "27               ['Premios']   \n",
       "28               ['Premios']   \n",
       "29               ['Premios']   \n",
       "30               ['Premios']   \n",
       "31               ['Premios']   \n",
       "41  ['Entidades de seguros']   \n",
       "42   ['Cartas de servicios']   \n",
       "43    ['Mercado de divisas']   \n",
       "50                        []   \n",
       "\n",
       "                                          Item_Nombre  \\\n",
       "16  [Resolución de 25 de febrero de 2021, de la Pr...   \n",
       "17  [Resolución de 23 de febrero de 2021, de la Di...   \n",
       "18  [Resolución de 23 de febrero de 2021, de la Di...   \n",
       "19  [Resolución de 23 de febrero de 2021, de la Di...   \n",
       "20  [Resolución de 23 de febrero de 2021, de la Di...   \n",
       "21  [Resolución de 23 de febrero de 2021, de la Di...   \n",
       "22  [Resolución de 23 de febrero de 2021, de la Di...   \n",
       "23  [Resolución de 23 de febrero de 2021, de la Di...   \n",
       "24  [Resolución de 23 de febrero de 2021, de la Di...   \n",
       "25  [Resolución de 23 de febrero de 2021, de la Di...   \n",
       "26  [Resolución de 23 de febrero de 2021, de la Di...   \n",
       "27  [Resolución de 23 de febrero de 2021, de la Di...   \n",
       "28  [Resolución de 23 de febrero de 2021, de la Di...   \n",
       "29  [Resolución de 23 de febrero de 2021, de la Di...   \n",
       "30  [Resolución de 23 de febrero de 2021, de la Di...   \n",
       "31  [Resolución de 23 de febrero de 2021, de la Di...   \n",
       "41  [Resolución de 23 de febrero de 2021, de la Di...   \n",
       "42  [Resolución de 23 de febrero de 2021, de la Su...   \n",
       "43  [Resolución de 4 de marzo de 2021, del Banco d...   \n",
       "50  [Anuncio de formalización de contratos de: Int...   \n",
       "\n",
       "                                         Item_URL_XML             Item_id  \\\n",
       "16  https://www.boe.es/diario_boe/xml.php?id=BOE-A...   [BOE-A-2021-3451]   \n",
       "17  https://www.boe.es/diario_boe/xml.php?id=BOE-A...   [BOE-A-2021-3452]   \n",
       "18  https://www.boe.es/diario_boe/xml.php?id=BOE-A...   [BOE-A-2021-3453]   \n",
       "19  https://www.boe.es/diario_boe/xml.php?id=BOE-A...   [BOE-A-2021-3454]   \n",
       "20  https://www.boe.es/diario_boe/xml.php?id=BOE-A...   [BOE-A-2021-3455]   \n",
       "21  https://www.boe.es/diario_boe/xml.php?id=BOE-A...   [BOE-A-2021-3456]   \n",
       "22  https://www.boe.es/diario_boe/xml.php?id=BOE-A...   [BOE-A-2021-3457]   \n",
       "23  https://www.boe.es/diario_boe/xml.php?id=BOE-A...   [BOE-A-2021-3458]   \n",
       "24  https://www.boe.es/diario_boe/xml.php?id=BOE-A...   [BOE-A-2021-3459]   \n",
       "25  https://www.boe.es/diario_boe/xml.php?id=BOE-A...   [BOE-A-2021-3460]   \n",
       "26  https://www.boe.es/diario_boe/xml.php?id=BOE-A...   [BOE-A-2021-3461]   \n",
       "27  https://www.boe.es/diario_boe/xml.php?id=BOE-A...   [BOE-A-2021-3462]   \n",
       "28  https://www.boe.es/diario_boe/xml.php?id=BOE-A...   [BOE-A-2021-3463]   \n",
       "29  https://www.boe.es/diario_boe/xml.php?id=BOE-A...   [BOE-A-2021-3464]   \n",
       "30  https://www.boe.es/diario_boe/xml.php?id=BOE-A...   [BOE-A-2021-3465]   \n",
       "31  https://www.boe.es/diario_boe/xml.php?id=BOE-A...   [BOE-A-2021-3466]   \n",
       "41  https://www.boe.es/diario_boe/xml.php?id=BOE-A...   [BOE-A-2021-3476]   \n",
       "42  https://www.boe.es/diario_boe/xml.php?id=BOE-A...   [BOE-A-2021-3477]   \n",
       "43  https://www.boe.es/diario_boe/xml.php?id=BOE-A...   [BOE-A-2021-3478]   \n",
       "50  https://www.boe.es/diario_boe/xml.php?id=BOE-B...  [BOE-B-2021-10597]   \n",
       "\n",
       "                                              Seccion  \n",
       "16                         [III. Otras disposiciones]  \n",
       "17                         [III. Otras disposiciones]  \n",
       "18                         [III. Otras disposiciones]  \n",
       "19                         [III. Otras disposiciones]  \n",
       "20                         [III. Otras disposiciones]  \n",
       "21                         [III. Otras disposiciones]  \n",
       "22                         [III. Otras disposiciones]  \n",
       "23                         [III. Otras disposiciones]  \n",
       "24                         [III. Otras disposiciones]  \n",
       "25                         [III. Otras disposiciones]  \n",
       "26                         [III. Otras disposiciones]  \n",
       "27                         [III. Otras disposiciones]  \n",
       "28                         [III. Otras disposiciones]  \n",
       "29                         [III. Otras disposiciones]  \n",
       "30                         [III. Otras disposiciones]  \n",
       "31                         [III. Otras disposiciones]  \n",
       "41                         [III. Otras disposiciones]  \n",
       "42                         [III. Otras disposiciones]  \n",
       "43                         [III. Otras disposiciones]  \n",
       "50  [V. Anuncios. - A. Contratación del Sector Púb...  "
      ],
      "text/html": "<div>\n<style scoped>\n    .dataframe tbody tr th:only-of-type {\n        vertical-align: middle;\n    }\n\n    .dataframe tbody tr th {\n        vertical-align: top;\n    }\n\n    .dataframe thead th {\n        text-align: right;\n    }\n</style>\n<table border=\"1\" class=\"dataframe\">\n  <thead>\n    <tr style=\"text-align: right;\">\n      <th></th>\n      <th>Departamento</th>\n      <th>Epigrafe</th>\n      <th>Item_Nombre</th>\n      <th>Item_URL_XML</th>\n      <th>Item_id</th>\n      <th>Seccion</th>\n    </tr>\n  </thead>\n  <tbody>\n    <tr>\n      <th>16</th>\n      <td>['MINISTERIO PARA LA TRANSICIÓN ECOLÓGICA Y EL...</td>\n      <td>['Convenios']</td>\n      <td>[Resolución de 25 de febrero de 2021, de la Pr...</td>\n      <td>https://www.boe.es/diario_boe/xml.php?id=BOE-A...</td>\n      <td>[BOE-A-2021-3451]</td>\n      <td>[III. Otras disposiciones]</td>\n    </tr>\n    <tr>\n      <th>17</th>\n      <td>['MINISTERIO DE CULTURA Y DEPORTE']</td>\n      <td>['Premios']</td>\n      <td>[Resolución de 23 de febrero de 2021, de la Di...</td>\n      <td>https://www.boe.es/diario_boe/xml.php?id=BOE-A...</td>\n      <td>[BOE-A-2021-3452]</td>\n      <td>[III. Otras disposiciones]</td>\n    </tr>\n    <tr>\n      <th>18</th>\n      <td>['MINISTERIO DE CULTURA Y DEPORTE']</td>\n      <td>['Premios']</td>\n      <td>[Resolución de 23 de febrero de 2021, de la Di...</td>\n      <td>https://www.boe.es/diario_boe/xml.php?id=BOE-A...</td>\n      <td>[BOE-A-2021-3453]</td>\n      <td>[III. Otras disposiciones]</td>\n    </tr>\n    <tr>\n      <th>19</th>\n      <td>['MINISTERIO DE CULTURA Y DEPORTE']</td>\n      <td>['Premios']</td>\n      <td>[Resolución de 23 de febrero de 2021, de la Di...</td>\n      <td>https://www.boe.es/diario_boe/xml.php?id=BOE-A...</td>\n      <td>[BOE-A-2021-3454]</td>\n      <td>[III. Otras disposiciones]</td>\n    </tr>\n    <tr>\n      <th>20</th>\n      <td>['MINISTERIO DE CULTURA Y DEPORTE']</td>\n      <td>['Premios']</td>\n      <td>[Resolución de 23 de febrero de 2021, de la Di...</td>\n      <td>https://www.boe.es/diario_boe/xml.php?id=BOE-A...</td>\n      <td>[BOE-A-2021-3455]</td>\n      <td>[III. Otras disposiciones]</td>\n    </tr>\n    <tr>\n      <th>21</th>\n      <td>['MINISTERIO DE CULTURA Y DEPORTE']</td>\n      <td>['Premios']</td>\n      <td>[Resolución de 23 de febrero de 2021, de la Di...</td>\n      <td>https://www.boe.es/diario_boe/xml.php?id=BOE-A...</td>\n      <td>[BOE-A-2021-3456]</td>\n      <td>[III. Otras disposiciones]</td>\n    </tr>\n    <tr>\n      <th>22</th>\n      <td>['MINISTERIO DE CULTURA Y DEPORTE']</td>\n      <td>['Premios']</td>\n      <td>[Resolución de 23 de febrero de 2021, de la Di...</td>\n      <td>https://www.boe.es/diario_boe/xml.php?id=BOE-A...</td>\n      <td>[BOE-A-2021-3457]</td>\n      <td>[III. Otras disposiciones]</td>\n    </tr>\n    <tr>\n      <th>23</th>\n      <td>['MINISTERIO DE CULTURA Y DEPORTE']</td>\n      <td>['Premios']</td>\n      <td>[Resolución de 23 de febrero de 2021, de la Di...</td>\n      <td>https://www.boe.es/diario_boe/xml.php?id=BOE-A...</td>\n      <td>[BOE-A-2021-3458]</td>\n      <td>[III. Otras disposiciones]</td>\n    </tr>\n    <tr>\n      <th>24</th>\n      <td>['MINISTERIO DE CULTURA Y DEPORTE']</td>\n      <td>['Premios']</td>\n      <td>[Resolución de 23 de febrero de 2021, de la Di...</td>\n      <td>https://www.boe.es/diario_boe/xml.php?id=BOE-A...</td>\n      <td>[BOE-A-2021-3459]</td>\n      <td>[III. Otras disposiciones]</td>\n    </tr>\n    <tr>\n      <th>25</th>\n      <td>['MINISTERIO DE CULTURA Y DEPORTE']</td>\n      <td>['Premios']</td>\n      <td>[Resolución de 23 de febrero de 2021, de la Di...</td>\n      <td>https://www.boe.es/diario_boe/xml.php?id=BOE-A...</td>\n      <td>[BOE-A-2021-3460]</td>\n      <td>[III. Otras disposiciones]</td>\n    </tr>\n    <tr>\n      <th>26</th>\n      <td>['MINISTERIO DE CULTURA Y DEPORTE']</td>\n      <td>['Premios']</td>\n      <td>[Resolución de 23 de febrero de 2021, de la Di...</td>\n      <td>https://www.boe.es/diario_boe/xml.php?id=BOE-A...</td>\n      <td>[BOE-A-2021-3461]</td>\n      <td>[III. Otras disposiciones]</td>\n    </tr>\n    <tr>\n      <th>27</th>\n      <td>['MINISTERIO DE CULTURA Y DEPORTE']</td>\n      <td>['Premios']</td>\n      <td>[Resolución de 23 de febrero de 2021, de la Di...</td>\n      <td>https://www.boe.es/diario_boe/xml.php?id=BOE-A...</td>\n      <td>[BOE-A-2021-3462]</td>\n      <td>[III. Otras disposiciones]</td>\n    </tr>\n    <tr>\n      <th>28</th>\n      <td>['MINISTERIO DE CULTURA Y DEPORTE']</td>\n      <td>['Premios']</td>\n      <td>[Resolución de 23 de febrero de 2021, de la Di...</td>\n      <td>https://www.boe.es/diario_boe/xml.php?id=BOE-A...</td>\n      <td>[BOE-A-2021-3463]</td>\n      <td>[III. Otras disposiciones]</td>\n    </tr>\n    <tr>\n      <th>29</th>\n      <td>['MINISTERIO DE CULTURA Y DEPORTE']</td>\n      <td>['Premios']</td>\n      <td>[Resolución de 23 de febrero de 2021, de la Di...</td>\n      <td>https://www.boe.es/diario_boe/xml.php?id=BOE-A...</td>\n      <td>[BOE-A-2021-3464]</td>\n      <td>[III. Otras disposiciones]</td>\n    </tr>\n    <tr>\n      <th>30</th>\n      <td>['MINISTERIO DE CULTURA Y DEPORTE']</td>\n      <td>['Premios']</td>\n      <td>[Resolución de 23 de febrero de 2021, de la Di...</td>\n      <td>https://www.boe.es/diario_boe/xml.php?id=BOE-A...</td>\n      <td>[BOE-A-2021-3465]</td>\n      <td>[III. Otras disposiciones]</td>\n    </tr>\n    <tr>\n      <th>31</th>\n      <td>['MINISTERIO DE CULTURA Y DEPORTE']</td>\n      <td>['Premios']</td>\n      <td>[Resolución de 23 de febrero de 2021, de la Di...</td>\n      <td>https://www.boe.es/diario_boe/xml.php?id=BOE-A...</td>\n      <td>[BOE-A-2021-3466]</td>\n      <td>[III. Otras disposiciones]</td>\n    </tr>\n    <tr>\n      <th>41</th>\n      <td>['MINISTERIO DE ASUNTOS ECONÓMICOS Y TRANSFORM...</td>\n      <td>['Entidades de seguros']</td>\n      <td>[Resolución de 23 de febrero de 2021, de la Di...</td>\n      <td>https://www.boe.es/diario_boe/xml.php?id=BOE-A...</td>\n      <td>[BOE-A-2021-3476]</td>\n      <td>[III. Otras disposiciones]</td>\n    </tr>\n    <tr>\n      <th>42</th>\n      <td>['MINISTERIO DE DERECHOS SOCIALES Y AGENDA 2030']</td>\n      <td>['Cartas de servicios']</td>\n      <td>[Resolución de 23 de febrero de 2021, de la Su...</td>\n      <td>https://www.boe.es/diario_boe/xml.php?id=BOE-A...</td>\n      <td>[BOE-A-2021-3477]</td>\n      <td>[III. Otras disposiciones]</td>\n    </tr>\n    <tr>\n      <th>43</th>\n      <td>['BANCO DE ESPAÑA']</td>\n      <td>['Mercado de divisas']</td>\n      <td>[Resolución de 4 de marzo de 2021, del Banco d...</td>\n      <td>https://www.boe.es/diario_boe/xml.php?id=BOE-A...</td>\n      <td>[BOE-A-2021-3478]</td>\n      <td>[III. Otras disposiciones]</td>\n    </tr>\n    <tr>\n      <th>50</th>\n      <td>['MINISTERIO DE DEFENSA']</td>\n      <td>[]</td>\n      <td>[Anuncio de formalización de contratos de: Int...</td>\n      <td>https://www.boe.es/diario_boe/xml.php?id=BOE-B...</td>\n      <td>[BOE-B-2021-10597]</td>\n      <td>[V. Anuncios. - A. Contratación del Sector Púb...</td>\n    </tr>\n  </tbody>\n</table>\n</div>"
     },
     "metadata": {},
     "execution_count": 781
    }
   ],
   "source": [
    "tabla_resumen[15:35]"
   ]
  },
  {
   "cell_type": "code",
   "execution_count": 782,
   "metadata": {},
   "outputs": [
    {
     "output_type": "execute_result",
     "data": {
      "text/plain": [
       "Empty DataFrame\n",
       "Columns: [Departamento, Epigrafe, Item_Nombre, Item_URL_XML, Item_id, Seccion]\n",
       "Index: []"
      ],
      "text/html": "<div>\n<style scoped>\n    .dataframe tbody tr th:only-of-type {\n        vertical-align: middle;\n    }\n\n    .dataframe tbody tr th {\n        vertical-align: top;\n    }\n\n    .dataframe thead th {\n        text-align: right;\n    }\n</style>\n<table border=\"1\" class=\"dataframe\">\n  <thead>\n    <tr style=\"text-align: right;\">\n      <th></th>\n      <th>Departamento</th>\n      <th>Epigrafe</th>\n      <th>Item_Nombre</th>\n      <th>Item_URL_XML</th>\n      <th>Item_id</th>\n      <th>Seccion</th>\n    </tr>\n  </thead>\n  <tbody>\n  </tbody>\n</table>\n</div>"
     },
     "metadata": {},
     "execution_count": 782
    }
   ],
   "source": [
    "tabla_resumen[tabla_resumen['Epigrafe'].str.contains('|'.join(terminos), na=False)]"
   ]
  },
  {
   "cell_type": "code",
   "execution_count": 783,
   "metadata": {},
   "outputs": [
    {
     "output_type": "execute_result",
     "data": {
      "text/plain": [
       "46"
      ]
     },
     "metadata": {},
     "execution_count": 783
    }
   ],
   "source": [
    "len(tabla_resumen)"
   ]
  },
  {
   "cell_type": "code",
   "execution_count": 784,
   "metadata": {},
   "outputs": [
    {
     "output_type": "execute_result",
     "data": {
      "text/plain": [
       "                                         Departamento  \\\n",
       "0   ['MINISTERIO DE AGRICULTURA, PESCA Y ALIMENTAC...   \n",
       "1   ['MINISTERIO PARA LA TRANSICIÓN ECOLÓGICA Y EL...   \n",
       "2   ['MINISTERIO DE ASUNTOS ECONÓMICOS Y TRANSFORM...   \n",
       "3   ['MINISTERIO DE ASUNTOS ECONÓMICOS Y TRANSFORM...   \n",
       "4   ['MINISTERIO DE INCLUSIÓN, SEGURIDAD SOCIAL Y ...   \n",
       "5              ['CONSEJO GENERAL DEL PODER JUDICIAL']   \n",
       "6                           ['MINISTERIO DE DEFENSA']   \n",
       "7                           ['MINISTERIO DE DEFENSA']   \n",
       "8         ['MINISTERIO DE TRABAJO Y ECONOMÍA SOCIAL']   \n",
       "9     ['MINISTERIO DE INDUSTRIA, COMERCIO Y TURISMO']   \n",
       "10  ['MINISTERIO DE AGRICULTURA, PESCA Y ALIMENTAC...   \n",
       "11  ['MINISTERIO DE AGRICULTURA, PESCA Y ALIMENTAC...   \n",
       "12  ['MINISTERIO DE AGRICULTURA, PESCA Y ALIMENTAC...   \n",
       "13  ['MINISTERIO DE AGRICULTURA, PESCA Y ALIMENTAC...   \n",
       "14  ['MINISTERIO DE AGRICULTURA, PESCA Y ALIMENTAC...   \n",
       "16  ['MINISTERIO PARA LA TRANSICIÓN ECOLÓGICA Y EL...   \n",
       "17                ['MINISTERIO DE CULTURA Y DEPORTE']   \n",
       "18                ['MINISTERIO DE CULTURA Y DEPORTE']   \n",
       "19                ['MINISTERIO DE CULTURA Y DEPORTE']   \n",
       "20                ['MINISTERIO DE CULTURA Y DEPORTE']   \n",
       "21                ['MINISTERIO DE CULTURA Y DEPORTE']   \n",
       "22                ['MINISTERIO DE CULTURA Y DEPORTE']   \n",
       "23                ['MINISTERIO DE CULTURA Y DEPORTE']   \n",
       "24                ['MINISTERIO DE CULTURA Y DEPORTE']   \n",
       "25                ['MINISTERIO DE CULTURA Y DEPORTE']   \n",
       "26                ['MINISTERIO DE CULTURA Y DEPORTE']   \n",
       "27                ['MINISTERIO DE CULTURA Y DEPORTE']   \n",
       "28                ['MINISTERIO DE CULTURA Y DEPORTE']   \n",
       "29                ['MINISTERIO DE CULTURA Y DEPORTE']   \n",
       "30                ['MINISTERIO DE CULTURA Y DEPORTE']   \n",
       "31                ['MINISTERIO DE CULTURA Y DEPORTE']   \n",
       "41  ['MINISTERIO DE ASUNTOS ECONÓMICOS Y TRANSFORM...   \n",
       "42  ['MINISTERIO DE DERECHOS SOCIALES Y AGENDA 2030']   \n",
       "43                                ['BANCO DE ESPAÑA']   \n",
       "50                          ['MINISTERIO DE DEFENSA']   \n",
       "51                         ['MINISTERIO DE HACIENDA']   \n",
       "52                         ['MINISTERIO DE HACIENDA']   \n",
       "53  ['MINISTERIO DE TRANSPORTES, MOVILIDAD Y AGEND...   \n",
       "54  ['MINISTERIO DE TRANSPORTES, MOVILIDAD Y AGEND...   \n",
       "55  ['MINISTERIO DE TRANSPORTES, MOVILIDAD Y AGEND...   \n",
       "56  ['MINISTERIO DE TRANSPORTES, MOVILIDAD Y AGEND...   \n",
       "57  ['MINISTERIO DE TRANSPORTES, MOVILIDAD Y AGEND...   \n",
       "58        ['MINISTERIO DE TRABAJO Y ECONOMÍA SOCIAL']   \n",
       "59  ['MINISTERIO DE ASUNTOS ECONÓMICOS Y TRANSFORM...   \n",
       "60  ['MINISTERIO DE INCLUSIÓN, SEGURIDAD SOCIAL Y ...   \n",
       "61       ['COMISIÓN NACIONAL DEL MERCADO DE VALORES']   \n",
       "\n",
       "                                             Epigrafe  \\\n",
       "0                       ['Fondos europeos agrícolas']   \n",
       "1                           ['Combustibles. Precios']   \n",
       "2                             ['Ordenación de pagos']   \n",
       "3                             ['Medidas financieras']   \n",
       "4   ['Procedimientos administrativos. Gestión info...   \n",
       "5                         ['Juzgados de Instrucción']   \n",
       "6                                  ['Homologaciones']   \n",
       "7                                  ['Homologaciones']   \n",
       "8                 ['Convenios colectivos de trabajo']   \n",
       "9                    ['Documentación administrativa']   \n",
       "10                    ['Seguros agrarios combinados']   \n",
       "11              ['Variedades comerciales de plantas']   \n",
       "12              ['Variedades comerciales de plantas']   \n",
       "13              ['Variedades comerciales de plantas']   \n",
       "14              ['Variedades comerciales de plantas']   \n",
       "16                                      ['Convenios']   \n",
       "17                                        ['Premios']   \n",
       "18                                        ['Premios']   \n",
       "19                                        ['Premios']   \n",
       "20                                        ['Premios']   \n",
       "21                                        ['Premios']   \n",
       "22                                        ['Premios']   \n",
       "23                                        ['Premios']   \n",
       "24                                        ['Premios']   \n",
       "25                                        ['Premios']   \n",
       "26                                        ['Premios']   \n",
       "27                                        ['Premios']   \n",
       "28                                        ['Premios']   \n",
       "29                                        ['Premios']   \n",
       "30                                        ['Premios']   \n",
       "31                                        ['Premios']   \n",
       "41                           ['Entidades de seguros']   \n",
       "42                            ['Cartas de servicios']   \n",
       "43                             ['Mercado de divisas']   \n",
       "50                                                 []   \n",
       "51                                                 []   \n",
       "52                                                 []   \n",
       "53                                                 []   \n",
       "54                                                 []   \n",
       "55                                                 []   \n",
       "56                                                 []   \n",
       "57                                                 []   \n",
       "58                                                 []   \n",
       "59                                                 []   \n",
       "60                                                 []   \n",
       "61                                                 []   \n",
       "\n",
       "                                          Item_Nombre  \\\n",
       "0   [Real Decreto 94/2021, de 16 de febrero, por e...   \n",
       "1   [Resolución de 25 de febrero de 2021, de la Di...   \n",
       "2   [Resolución de 2 de marzo de 2021, conjunta de...   \n",
       "3   [Resolución de 4 de marzo de 2021, de la Secre...   \n",
       "4   [Orden ISM/189/2021, de 3 de marzo, por la que...   \n",
       "5   [Acuerdo de 24 de febrero de 2021, de la Comis...   \n",
       "6   [Resolución 320/38054/2021, de 17 de febrero, ...   \n",
       "7   [Resolución 320/38055/2021, de 16 de febrero, ...   \n",
       "8   [Resolución de 23 de febrero de 2021, de la Di...   \n",
       "9   [Resolución de 24 de febrero de 2021, de la Su...   \n",
       "10  [Corrección de errores de la Orden APA/858/202...   \n",
       "11  [Orden APA/190/2021, de 2 de marzo, por la que...   \n",
       "12  [Orden APA/191/2021, de 2 de marzo, por la que...   \n",
       "13  [Orden APA/192/2021, de 2 de marzo, por la que...   \n",
       "14  [Orden APA/193/2021, de 2 de marzo, por la que...   \n",
       "16  [Resolución de 25 de febrero de 2021, de la Pr...   \n",
       "17  [Resolución de 23 de febrero de 2021, de la Di...   \n",
       "18  [Resolución de 23 de febrero de 2021, de la Di...   \n",
       "19  [Resolución de 23 de febrero de 2021, de la Di...   \n",
       "20  [Resolución de 23 de febrero de 2021, de la Di...   \n",
       "21  [Resolución de 23 de febrero de 2021, de la Di...   \n",
       "22  [Resolución de 23 de febrero de 2021, de la Di...   \n",
       "23  [Resolución de 23 de febrero de 2021, de la Di...   \n",
       "24  [Resolución de 23 de febrero de 2021, de la Di...   \n",
       "25  [Resolución de 23 de febrero de 2021, de la Di...   \n",
       "26  [Resolución de 23 de febrero de 2021, de la Di...   \n",
       "27  [Resolución de 23 de febrero de 2021, de la Di...   \n",
       "28  [Resolución de 23 de febrero de 2021, de la Di...   \n",
       "29  [Resolución de 23 de febrero de 2021, de la Di...   \n",
       "30  [Resolución de 23 de febrero de 2021, de la Di...   \n",
       "31  [Resolución de 23 de febrero de 2021, de la Di...   \n",
       "41  [Resolución de 23 de febrero de 2021, de la Di...   \n",
       "42  [Resolución de 23 de febrero de 2021, de la Su...   \n",
       "43  [Resolución de 4 de marzo de 2021, del Banco d...   \n",
       "50  [Anuncio de formalización de contratos de: Int...   \n",
       "51  [Anuncio de formalización de contratos de: Dir...   \n",
       "52  [Anuncio de corrección de errores de: Delegaci...   \n",
       "53  [Anuncio de formalización de contratos de: ADI...   \n",
       "54  [Anuncio de formalización de contratos de: ADI...   \n",
       "55  [Anuncio de licitación de: ADIF - Presidencia....   \n",
       "56  [Anuncio de formalización de contratos de: Pre...   \n",
       "57  [Anuncio de licitación de: ADIF - Presidencia....   \n",
       "58  [Anuncio de formalización de contratos de: Dir...   \n",
       "59  [Anuncio de formalización de contratos de: Dir...   \n",
       "60  [Anuncio de formalización de contratos de: INS...   \n",
       "61  [Anuncio de licitación de: Comisión Nacional d...   \n",
       "\n",
       "                                         Item_URL_XML             Item_id  \\\n",
       "0   https://www.boe.es/diario_boe/xml.php?id=BOE-A...   [BOE-A-2021-3417]   \n",
       "1   https://www.boe.es/diario_boe/xml.php?id=BOE-A...   [BOE-A-2021-3418]   \n",
       "2   https://www.boe.es/diario_boe/xml.php?id=BOE-A...   [BOE-A-2021-3419]   \n",
       "3   https://www.boe.es/diario_boe/xml.php?id=BOE-A...   [BOE-A-2021-3420]   \n",
       "4   https://www.boe.es/diario_boe/xml.php?id=BOE-A...   [BOE-A-2021-3421]   \n",
       "5   https://www.boe.es/diario_boe/xml.php?id=BOE-A...   [BOE-A-2021-3440]   \n",
       "6   https://www.boe.es/diario_boe/xml.php?id=BOE-A...   [BOE-A-2021-3441]   \n",
       "7   https://www.boe.es/diario_boe/xml.php?id=BOE-A...   [BOE-A-2021-3442]   \n",
       "8   https://www.boe.es/diario_boe/xml.php?id=BOE-A...   [BOE-A-2021-3443]   \n",
       "9   https://www.boe.es/diario_boe/xml.php?id=BOE-A...   [BOE-A-2021-3444]   \n",
       "10  https://www.boe.es/diario_boe/xml.php?id=BOE-A...   [BOE-A-2021-3445]   \n",
       "11  https://www.boe.es/diario_boe/xml.php?id=BOE-A...   [BOE-A-2021-3446]   \n",
       "12  https://www.boe.es/diario_boe/xml.php?id=BOE-A...   [BOE-A-2021-3447]   \n",
       "13  https://www.boe.es/diario_boe/xml.php?id=BOE-A...   [BOE-A-2021-3448]   \n",
       "14  https://www.boe.es/diario_boe/xml.php?id=BOE-A...   [BOE-A-2021-3449]   \n",
       "16  https://www.boe.es/diario_boe/xml.php?id=BOE-A...   [BOE-A-2021-3451]   \n",
       "17  https://www.boe.es/diario_boe/xml.php?id=BOE-A...   [BOE-A-2021-3452]   \n",
       "18  https://www.boe.es/diario_boe/xml.php?id=BOE-A...   [BOE-A-2021-3453]   \n",
       "19  https://www.boe.es/diario_boe/xml.php?id=BOE-A...   [BOE-A-2021-3454]   \n",
       "20  https://www.boe.es/diario_boe/xml.php?id=BOE-A...   [BOE-A-2021-3455]   \n",
       "21  https://www.boe.es/diario_boe/xml.php?id=BOE-A...   [BOE-A-2021-3456]   \n",
       "22  https://www.boe.es/diario_boe/xml.php?id=BOE-A...   [BOE-A-2021-3457]   \n",
       "23  https://www.boe.es/diario_boe/xml.php?id=BOE-A...   [BOE-A-2021-3458]   \n",
       "24  https://www.boe.es/diario_boe/xml.php?id=BOE-A...   [BOE-A-2021-3459]   \n",
       "25  https://www.boe.es/diario_boe/xml.php?id=BOE-A...   [BOE-A-2021-3460]   \n",
       "26  https://www.boe.es/diario_boe/xml.php?id=BOE-A...   [BOE-A-2021-3461]   \n",
       "27  https://www.boe.es/diario_boe/xml.php?id=BOE-A...   [BOE-A-2021-3462]   \n",
       "28  https://www.boe.es/diario_boe/xml.php?id=BOE-A...   [BOE-A-2021-3463]   \n",
       "29  https://www.boe.es/diario_boe/xml.php?id=BOE-A...   [BOE-A-2021-3464]   \n",
       "30  https://www.boe.es/diario_boe/xml.php?id=BOE-A...   [BOE-A-2021-3465]   \n",
       "31  https://www.boe.es/diario_boe/xml.php?id=BOE-A...   [BOE-A-2021-3466]   \n",
       "41  https://www.boe.es/diario_boe/xml.php?id=BOE-A...   [BOE-A-2021-3476]   \n",
       "42  https://www.boe.es/diario_boe/xml.php?id=BOE-A...   [BOE-A-2021-3477]   \n",
       "43  https://www.boe.es/diario_boe/xml.php?id=BOE-A...   [BOE-A-2021-3478]   \n",
       "50  https://www.boe.es/diario_boe/xml.php?id=BOE-B...  [BOE-B-2021-10597]   \n",
       "51  https://www.boe.es/diario_boe/xml.php?id=BOE-B...  [BOE-B-2021-10598]   \n",
       "52  https://www.boe.es/diario_boe/xml.php?id=BOE-B...  [BOE-B-2021-10599]   \n",
       "53  https://www.boe.es/diario_boe/xml.php?id=BOE-B...  [BOE-B-2021-10600]   \n",
       "54  https://www.boe.es/diario_boe/xml.php?id=BOE-B...  [BOE-B-2021-10601]   \n",
       "55  https://www.boe.es/diario_boe/xml.php?id=BOE-B...  [BOE-B-2021-10602]   \n",
       "56  https://www.boe.es/diario_boe/xml.php?id=BOE-B...  [BOE-B-2021-10603]   \n",
       "57  https://www.boe.es/diario_boe/xml.php?id=BOE-B...  [BOE-B-2021-10604]   \n",
       "58  https://www.boe.es/diario_boe/xml.php?id=BOE-B...  [BOE-B-2021-10605]   \n",
       "59  https://www.boe.es/diario_boe/xml.php?id=BOE-B...  [BOE-B-2021-10606]   \n",
       "60  https://www.boe.es/diario_boe/xml.php?id=BOE-B...  [BOE-B-2021-10607]   \n",
       "61  https://www.boe.es/diario_boe/xml.php?id=BOE-B...  [BOE-B-2021-10608]   \n",
       "\n",
       "                                              Seccion  \n",
       "0                        [I. Disposiciones generales]  \n",
       "1                        [I. Disposiciones generales]  \n",
       "2                        [I. Disposiciones generales]  \n",
       "3                        [I. Disposiciones generales]  \n",
       "4                        [I. Disposiciones generales]  \n",
       "5                          [III. Otras disposiciones]  \n",
       "6                          [III. Otras disposiciones]  \n",
       "7                          [III. Otras disposiciones]  \n",
       "8                          [III. Otras disposiciones]  \n",
       "9                          [III. Otras disposiciones]  \n",
       "10                         [III. Otras disposiciones]  \n",
       "11                         [III. Otras disposiciones]  \n",
       "12                         [III. Otras disposiciones]  \n",
       "13                         [III. Otras disposiciones]  \n",
       "14                         [III. Otras disposiciones]  \n",
       "16                         [III. Otras disposiciones]  \n",
       "17                         [III. Otras disposiciones]  \n",
       "18                         [III. Otras disposiciones]  \n",
       "19                         [III. Otras disposiciones]  \n",
       "20                         [III. Otras disposiciones]  \n",
       "21                         [III. Otras disposiciones]  \n",
       "22                         [III. Otras disposiciones]  \n",
       "23                         [III. Otras disposiciones]  \n",
       "24                         [III. Otras disposiciones]  \n",
       "25                         [III. Otras disposiciones]  \n",
       "26                         [III. Otras disposiciones]  \n",
       "27                         [III. Otras disposiciones]  \n",
       "28                         [III. Otras disposiciones]  \n",
       "29                         [III. Otras disposiciones]  \n",
       "30                         [III. Otras disposiciones]  \n",
       "31                         [III. Otras disposiciones]  \n",
       "41                         [III. Otras disposiciones]  \n",
       "42                         [III. Otras disposiciones]  \n",
       "43                         [III. Otras disposiciones]  \n",
       "50  [V. Anuncios. - A. Contratación del Sector Púb...  \n",
       "51  [V. Anuncios. - A. Contratación del Sector Púb...  \n",
       "52  [V. Anuncios. - A. Contratación del Sector Púb...  \n",
       "53  [V. Anuncios. - A. Contratación del Sector Púb...  \n",
       "54  [V. Anuncios. - A. Contratación del Sector Púb...  \n",
       "55  [V. Anuncios. - A. Contratación del Sector Púb...  \n",
       "56  [V. Anuncios. - A. Contratación del Sector Púb...  \n",
       "57  [V. Anuncios. - A. Contratación del Sector Púb...  \n",
       "58  [V. Anuncios. - A. Contratación del Sector Púb...  \n",
       "59  [V. Anuncios. - A. Contratación del Sector Púb...  \n",
       "60  [V. Anuncios. - A. Contratación del Sector Púb...  \n",
       "61  [V. Anuncios. - A. Contratación del Sector Púb...  "
      ],
      "text/html": "<div>\n<style scoped>\n    .dataframe tbody tr th:only-of-type {\n        vertical-align: middle;\n    }\n\n    .dataframe tbody tr th {\n        vertical-align: top;\n    }\n\n    .dataframe thead th {\n        text-align: right;\n    }\n</style>\n<table border=\"1\" class=\"dataframe\">\n  <thead>\n    <tr style=\"text-align: right;\">\n      <th></th>\n      <th>Departamento</th>\n      <th>Epigrafe</th>\n      <th>Item_Nombre</th>\n      <th>Item_URL_XML</th>\n      <th>Item_id</th>\n      <th>Seccion</th>\n    </tr>\n  </thead>\n  <tbody>\n    <tr>\n      <th>0</th>\n      <td>['MINISTERIO DE AGRICULTURA, PESCA Y ALIMENTAC...</td>\n      <td>['Fondos europeos agrícolas']</td>\n      <td>[Real Decreto 94/2021, de 16 de febrero, por e...</td>\n      <td>https://www.boe.es/diario_boe/xml.php?id=BOE-A...</td>\n      <td>[BOE-A-2021-3417]</td>\n      <td>[I. Disposiciones generales]</td>\n    </tr>\n    <tr>\n      <th>1</th>\n      <td>['MINISTERIO PARA LA TRANSICIÓN ECOLÓGICA Y EL...</td>\n      <td>['Combustibles. Precios']</td>\n      <td>[Resolución de 25 de febrero de 2021, de la Di...</td>\n      <td>https://www.boe.es/diario_boe/xml.php?id=BOE-A...</td>\n      <td>[BOE-A-2021-3418]</td>\n      <td>[I. Disposiciones generales]</td>\n    </tr>\n    <tr>\n      <th>2</th>\n      <td>['MINISTERIO DE ASUNTOS ECONÓMICOS Y TRANSFORM...</td>\n      <td>['Ordenación de pagos']</td>\n      <td>[Resolución de 2 de marzo de 2021, conjunta de...</td>\n      <td>https://www.boe.es/diario_boe/xml.php?id=BOE-A...</td>\n      <td>[BOE-A-2021-3419]</td>\n      <td>[I. Disposiciones generales]</td>\n    </tr>\n    <tr>\n      <th>3</th>\n      <td>['MINISTERIO DE ASUNTOS ECONÓMICOS Y TRANSFORM...</td>\n      <td>['Medidas financieras']</td>\n      <td>[Resolución de 4 de marzo de 2021, de la Secre...</td>\n      <td>https://www.boe.es/diario_boe/xml.php?id=BOE-A...</td>\n      <td>[BOE-A-2021-3420]</td>\n      <td>[I. Disposiciones generales]</td>\n    </tr>\n    <tr>\n      <th>4</th>\n      <td>['MINISTERIO DE INCLUSIÓN, SEGURIDAD SOCIAL Y ...</td>\n      <td>['Procedimientos administrativos. Gestión info...</td>\n      <td>[Orden ISM/189/2021, de 3 de marzo, por la que...</td>\n      <td>https://www.boe.es/diario_boe/xml.php?id=BOE-A...</td>\n      <td>[BOE-A-2021-3421]</td>\n      <td>[I. Disposiciones generales]</td>\n    </tr>\n    <tr>\n      <th>5</th>\n      <td>['CONSEJO GENERAL DEL PODER JUDICIAL']</td>\n      <td>['Juzgados de Instrucción']</td>\n      <td>[Acuerdo de 24 de febrero de 2021, de la Comis...</td>\n      <td>https://www.boe.es/diario_boe/xml.php?id=BOE-A...</td>\n      <td>[BOE-A-2021-3440]</td>\n      <td>[III. Otras disposiciones]</td>\n    </tr>\n    <tr>\n      <th>6</th>\n      <td>['MINISTERIO DE DEFENSA']</td>\n      <td>['Homologaciones']</td>\n      <td>[Resolución 320/38054/2021, de 17 de febrero, ...</td>\n      <td>https://www.boe.es/diario_boe/xml.php?id=BOE-A...</td>\n      <td>[BOE-A-2021-3441]</td>\n      <td>[III. Otras disposiciones]</td>\n    </tr>\n    <tr>\n      <th>7</th>\n      <td>['MINISTERIO DE DEFENSA']</td>\n      <td>['Homologaciones']</td>\n      <td>[Resolución 320/38055/2021, de 16 de febrero, ...</td>\n      <td>https://www.boe.es/diario_boe/xml.php?id=BOE-A...</td>\n      <td>[BOE-A-2021-3442]</td>\n      <td>[III. Otras disposiciones]</td>\n    </tr>\n    <tr>\n      <th>8</th>\n      <td>['MINISTERIO DE TRABAJO Y ECONOMÍA SOCIAL']</td>\n      <td>['Convenios colectivos de trabajo']</td>\n      <td>[Resolución de 23 de febrero de 2021, de la Di...</td>\n      <td>https://www.boe.es/diario_boe/xml.php?id=BOE-A...</td>\n      <td>[BOE-A-2021-3443]</td>\n      <td>[III. Otras disposiciones]</td>\n    </tr>\n    <tr>\n      <th>9</th>\n      <td>['MINISTERIO DE INDUSTRIA, COMERCIO Y TURISMO']</td>\n      <td>['Documentación administrativa']</td>\n      <td>[Resolución de 24 de febrero de 2021, de la Su...</td>\n      <td>https://www.boe.es/diario_boe/xml.php?id=BOE-A...</td>\n      <td>[BOE-A-2021-3444]</td>\n      <td>[III. Otras disposiciones]</td>\n    </tr>\n    <tr>\n      <th>10</th>\n      <td>['MINISTERIO DE AGRICULTURA, PESCA Y ALIMENTAC...</td>\n      <td>['Seguros agrarios combinados']</td>\n      <td>[Corrección de errores de la Orden APA/858/202...</td>\n      <td>https://www.boe.es/diario_boe/xml.php?id=BOE-A...</td>\n      <td>[BOE-A-2021-3445]</td>\n      <td>[III. Otras disposiciones]</td>\n    </tr>\n    <tr>\n      <th>11</th>\n      <td>['MINISTERIO DE AGRICULTURA, PESCA Y ALIMENTAC...</td>\n      <td>['Variedades comerciales de plantas']</td>\n      <td>[Orden APA/190/2021, de 2 de marzo, por la que...</td>\n      <td>https://www.boe.es/diario_boe/xml.php?id=BOE-A...</td>\n      <td>[BOE-A-2021-3446]</td>\n      <td>[III. Otras disposiciones]</td>\n    </tr>\n    <tr>\n      <th>12</th>\n      <td>['MINISTERIO DE AGRICULTURA, PESCA Y ALIMENTAC...</td>\n      <td>['Variedades comerciales de plantas']</td>\n      <td>[Orden APA/191/2021, de 2 de marzo, por la que...</td>\n      <td>https://www.boe.es/diario_boe/xml.php?id=BOE-A...</td>\n      <td>[BOE-A-2021-3447]</td>\n      <td>[III. Otras disposiciones]</td>\n    </tr>\n    <tr>\n      <th>13</th>\n      <td>['MINISTERIO DE AGRICULTURA, PESCA Y ALIMENTAC...</td>\n      <td>['Variedades comerciales de plantas']</td>\n      <td>[Orden APA/192/2021, de 2 de marzo, por la que...</td>\n      <td>https://www.boe.es/diario_boe/xml.php?id=BOE-A...</td>\n      <td>[BOE-A-2021-3448]</td>\n      <td>[III. Otras disposiciones]</td>\n    </tr>\n    <tr>\n      <th>14</th>\n      <td>['MINISTERIO DE AGRICULTURA, PESCA Y ALIMENTAC...</td>\n      <td>['Variedades comerciales de plantas']</td>\n      <td>[Orden APA/193/2021, de 2 de marzo, por la que...</td>\n      <td>https://www.boe.es/diario_boe/xml.php?id=BOE-A...</td>\n      <td>[BOE-A-2021-3449]</td>\n      <td>[III. Otras disposiciones]</td>\n    </tr>\n    <tr>\n      <th>16</th>\n      <td>['MINISTERIO PARA LA TRANSICIÓN ECOLÓGICA Y EL...</td>\n      <td>['Convenios']</td>\n      <td>[Resolución de 25 de febrero de 2021, de la Pr...</td>\n      <td>https://www.boe.es/diario_boe/xml.php?id=BOE-A...</td>\n      <td>[BOE-A-2021-3451]</td>\n      <td>[III. Otras disposiciones]</td>\n    </tr>\n    <tr>\n      <th>17</th>\n      <td>['MINISTERIO DE CULTURA Y DEPORTE']</td>\n      <td>['Premios']</td>\n      <td>[Resolución de 23 de febrero de 2021, de la Di...</td>\n      <td>https://www.boe.es/diario_boe/xml.php?id=BOE-A...</td>\n      <td>[BOE-A-2021-3452]</td>\n      <td>[III. Otras disposiciones]</td>\n    </tr>\n    <tr>\n      <th>18</th>\n      <td>['MINISTERIO DE CULTURA Y DEPORTE']</td>\n      <td>['Premios']</td>\n      <td>[Resolución de 23 de febrero de 2021, de la Di...</td>\n      <td>https://www.boe.es/diario_boe/xml.php?id=BOE-A...</td>\n      <td>[BOE-A-2021-3453]</td>\n      <td>[III. Otras disposiciones]</td>\n    </tr>\n    <tr>\n      <th>19</th>\n      <td>['MINISTERIO DE CULTURA Y DEPORTE']</td>\n      <td>['Premios']</td>\n      <td>[Resolución de 23 de febrero de 2021, de la Di...</td>\n      <td>https://www.boe.es/diario_boe/xml.php?id=BOE-A...</td>\n      <td>[BOE-A-2021-3454]</td>\n      <td>[III. Otras disposiciones]</td>\n    </tr>\n    <tr>\n      <th>20</th>\n      <td>['MINISTERIO DE CULTURA Y DEPORTE']</td>\n      <td>['Premios']</td>\n      <td>[Resolución de 23 de febrero de 2021, de la Di...</td>\n      <td>https://www.boe.es/diario_boe/xml.php?id=BOE-A...</td>\n      <td>[BOE-A-2021-3455]</td>\n      <td>[III. Otras disposiciones]</td>\n    </tr>\n    <tr>\n      <th>21</th>\n      <td>['MINISTERIO DE CULTURA Y DEPORTE']</td>\n      <td>['Premios']</td>\n      <td>[Resolución de 23 de febrero de 2021, de la Di...</td>\n      <td>https://www.boe.es/diario_boe/xml.php?id=BOE-A...</td>\n      <td>[BOE-A-2021-3456]</td>\n      <td>[III. Otras disposiciones]</td>\n    </tr>\n    <tr>\n      <th>22</th>\n      <td>['MINISTERIO DE CULTURA Y DEPORTE']</td>\n      <td>['Premios']</td>\n      <td>[Resolución de 23 de febrero de 2021, de la Di...</td>\n      <td>https://www.boe.es/diario_boe/xml.php?id=BOE-A...</td>\n      <td>[BOE-A-2021-3457]</td>\n      <td>[III. Otras disposiciones]</td>\n    </tr>\n    <tr>\n      <th>23</th>\n      <td>['MINISTERIO DE CULTURA Y DEPORTE']</td>\n      <td>['Premios']</td>\n      <td>[Resolución de 23 de febrero de 2021, de la Di...</td>\n      <td>https://www.boe.es/diario_boe/xml.php?id=BOE-A...</td>\n      <td>[BOE-A-2021-3458]</td>\n      <td>[III. Otras disposiciones]</td>\n    </tr>\n    <tr>\n      <th>24</th>\n      <td>['MINISTERIO DE CULTURA Y DEPORTE']</td>\n      <td>['Premios']</td>\n      <td>[Resolución de 23 de febrero de 2021, de la Di...</td>\n      <td>https://www.boe.es/diario_boe/xml.php?id=BOE-A...</td>\n      <td>[BOE-A-2021-3459]</td>\n      <td>[III. Otras disposiciones]</td>\n    </tr>\n    <tr>\n      <th>25</th>\n      <td>['MINISTERIO DE CULTURA Y DEPORTE']</td>\n      <td>['Premios']</td>\n      <td>[Resolución de 23 de febrero de 2021, de la Di...</td>\n      <td>https://www.boe.es/diario_boe/xml.php?id=BOE-A...</td>\n      <td>[BOE-A-2021-3460]</td>\n      <td>[III. Otras disposiciones]</td>\n    </tr>\n    <tr>\n      <th>26</th>\n      <td>['MINISTERIO DE CULTURA Y DEPORTE']</td>\n      <td>['Premios']</td>\n      <td>[Resolución de 23 de febrero de 2021, de la Di...</td>\n      <td>https://www.boe.es/diario_boe/xml.php?id=BOE-A...</td>\n      <td>[BOE-A-2021-3461]</td>\n      <td>[III. Otras disposiciones]</td>\n    </tr>\n    <tr>\n      <th>27</th>\n      <td>['MINISTERIO DE CULTURA Y DEPORTE']</td>\n      <td>['Premios']</td>\n      <td>[Resolución de 23 de febrero de 2021, de la Di...</td>\n      <td>https://www.boe.es/diario_boe/xml.php?id=BOE-A...</td>\n      <td>[BOE-A-2021-3462]</td>\n      <td>[III. Otras disposiciones]</td>\n    </tr>\n    <tr>\n      <th>28</th>\n      <td>['MINISTERIO DE CULTURA Y DEPORTE']</td>\n      <td>['Premios']</td>\n      <td>[Resolución de 23 de febrero de 2021, de la Di...</td>\n      <td>https://www.boe.es/diario_boe/xml.php?id=BOE-A...</td>\n      <td>[BOE-A-2021-3463]</td>\n      <td>[III. Otras disposiciones]</td>\n    </tr>\n    <tr>\n      <th>29</th>\n      <td>['MINISTERIO DE CULTURA Y DEPORTE']</td>\n      <td>['Premios']</td>\n      <td>[Resolución de 23 de febrero de 2021, de la Di...</td>\n      <td>https://www.boe.es/diario_boe/xml.php?id=BOE-A...</td>\n      <td>[BOE-A-2021-3464]</td>\n      <td>[III. Otras disposiciones]</td>\n    </tr>\n    <tr>\n      <th>30</th>\n      <td>['MINISTERIO DE CULTURA Y DEPORTE']</td>\n      <td>['Premios']</td>\n      <td>[Resolución de 23 de febrero de 2021, de la Di...</td>\n      <td>https://www.boe.es/diario_boe/xml.php?id=BOE-A...</td>\n      <td>[BOE-A-2021-3465]</td>\n      <td>[III. Otras disposiciones]</td>\n    </tr>\n    <tr>\n      <th>31</th>\n      <td>['MINISTERIO DE CULTURA Y DEPORTE']</td>\n      <td>['Premios']</td>\n      <td>[Resolución de 23 de febrero de 2021, de la Di...</td>\n      <td>https://www.boe.es/diario_boe/xml.php?id=BOE-A...</td>\n      <td>[BOE-A-2021-3466]</td>\n      <td>[III. Otras disposiciones]</td>\n    </tr>\n    <tr>\n      <th>41</th>\n      <td>['MINISTERIO DE ASUNTOS ECONÓMICOS Y TRANSFORM...</td>\n      <td>['Entidades de seguros']</td>\n      <td>[Resolución de 23 de febrero de 2021, de la Di...</td>\n      <td>https://www.boe.es/diario_boe/xml.php?id=BOE-A...</td>\n      <td>[BOE-A-2021-3476]</td>\n      <td>[III. Otras disposiciones]</td>\n    </tr>\n    <tr>\n      <th>42</th>\n      <td>['MINISTERIO DE DERECHOS SOCIALES Y AGENDA 2030']</td>\n      <td>['Cartas de servicios']</td>\n      <td>[Resolución de 23 de febrero de 2021, de la Su...</td>\n      <td>https://www.boe.es/diario_boe/xml.php?id=BOE-A...</td>\n      <td>[BOE-A-2021-3477]</td>\n      <td>[III. Otras disposiciones]</td>\n    </tr>\n    <tr>\n      <th>43</th>\n      <td>['BANCO DE ESPAÑA']</td>\n      <td>['Mercado de divisas']</td>\n      <td>[Resolución de 4 de marzo de 2021, del Banco d...</td>\n      <td>https://www.boe.es/diario_boe/xml.php?id=BOE-A...</td>\n      <td>[BOE-A-2021-3478]</td>\n      <td>[III. Otras disposiciones]</td>\n    </tr>\n    <tr>\n      <th>50</th>\n      <td>['MINISTERIO DE DEFENSA']</td>\n      <td>[]</td>\n      <td>[Anuncio de formalización de contratos de: Int...</td>\n      <td>https://www.boe.es/diario_boe/xml.php?id=BOE-B...</td>\n      <td>[BOE-B-2021-10597]</td>\n      <td>[V. Anuncios. - A. Contratación del Sector Púb...</td>\n    </tr>\n    <tr>\n      <th>51</th>\n      <td>['MINISTERIO DE HACIENDA']</td>\n      <td>[]</td>\n      <td>[Anuncio de formalización de contratos de: Dir...</td>\n      <td>https://www.boe.es/diario_boe/xml.php?id=BOE-B...</td>\n      <td>[BOE-B-2021-10598]</td>\n      <td>[V. Anuncios. - A. Contratación del Sector Púb...</td>\n    </tr>\n    <tr>\n      <th>52</th>\n      <td>['MINISTERIO DE HACIENDA']</td>\n      <td>[]</td>\n      <td>[Anuncio de corrección de errores de: Delegaci...</td>\n      <td>https://www.boe.es/diario_boe/xml.php?id=BOE-B...</td>\n      <td>[BOE-B-2021-10599]</td>\n      <td>[V. Anuncios. - A. Contratación del Sector Púb...</td>\n    </tr>\n    <tr>\n      <th>53</th>\n      <td>['MINISTERIO DE TRANSPORTES, MOVILIDAD Y AGEND...</td>\n      <td>[]</td>\n      <td>[Anuncio de formalización de contratos de: ADI...</td>\n      <td>https://www.boe.es/diario_boe/xml.php?id=BOE-B...</td>\n      <td>[BOE-B-2021-10600]</td>\n      <td>[V. Anuncios. - A. Contratación del Sector Púb...</td>\n    </tr>\n    <tr>\n      <th>54</th>\n      <td>['MINISTERIO DE TRANSPORTES, MOVILIDAD Y AGEND...</td>\n      <td>[]</td>\n      <td>[Anuncio de formalización de contratos de: ADI...</td>\n      <td>https://www.boe.es/diario_boe/xml.php?id=BOE-B...</td>\n      <td>[BOE-B-2021-10601]</td>\n      <td>[V. Anuncios. - A. Contratación del Sector Púb...</td>\n    </tr>\n    <tr>\n      <th>55</th>\n      <td>['MINISTERIO DE TRANSPORTES, MOVILIDAD Y AGEND...</td>\n      <td>[]</td>\n      <td>[Anuncio de licitación de: ADIF - Presidencia....</td>\n      <td>https://www.boe.es/diario_boe/xml.php?id=BOE-B...</td>\n      <td>[BOE-B-2021-10602]</td>\n      <td>[V. Anuncios. - A. Contratación del Sector Púb...</td>\n    </tr>\n    <tr>\n      <th>56</th>\n      <td>['MINISTERIO DE TRANSPORTES, MOVILIDAD Y AGEND...</td>\n      <td>[]</td>\n      <td>[Anuncio de formalización de contratos de: Pre...</td>\n      <td>https://www.boe.es/diario_boe/xml.php?id=BOE-B...</td>\n      <td>[BOE-B-2021-10603]</td>\n      <td>[V. Anuncios. - A. Contratación del Sector Púb...</td>\n    </tr>\n    <tr>\n      <th>57</th>\n      <td>['MINISTERIO DE TRANSPORTES, MOVILIDAD Y AGEND...</td>\n      <td>[]</td>\n      <td>[Anuncio de licitación de: ADIF - Presidencia....</td>\n      <td>https://www.boe.es/diario_boe/xml.php?id=BOE-B...</td>\n      <td>[BOE-B-2021-10604]</td>\n      <td>[V. Anuncios. - A. Contratación del Sector Púb...</td>\n    </tr>\n    <tr>\n      <th>58</th>\n      <td>['MINISTERIO DE TRABAJO Y ECONOMÍA SOCIAL']</td>\n      <td>[]</td>\n      <td>[Anuncio de formalización de contratos de: Dir...</td>\n      <td>https://www.boe.es/diario_boe/xml.php?id=BOE-B...</td>\n      <td>[BOE-B-2021-10605]</td>\n      <td>[V. Anuncios. - A. Contratación del Sector Púb...</td>\n    </tr>\n    <tr>\n      <th>59</th>\n      <td>['MINISTERIO DE ASUNTOS ECONÓMICOS Y TRANSFORM...</td>\n      <td>[]</td>\n      <td>[Anuncio de formalización de contratos de: Dir...</td>\n      <td>https://www.boe.es/diario_boe/xml.php?id=BOE-B...</td>\n      <td>[BOE-B-2021-10606]</td>\n      <td>[V. Anuncios. - A. Contratación del Sector Púb...</td>\n    </tr>\n    <tr>\n      <th>60</th>\n      <td>['MINISTERIO DE INCLUSIÓN, SEGURIDAD SOCIAL Y ...</td>\n      <td>[]</td>\n      <td>[Anuncio de formalización de contratos de: INS...</td>\n      <td>https://www.boe.es/diario_boe/xml.php?id=BOE-B...</td>\n      <td>[BOE-B-2021-10607]</td>\n      <td>[V. Anuncios. - A. Contratación del Sector Púb...</td>\n    </tr>\n    <tr>\n      <th>61</th>\n      <td>['COMISIÓN NACIONAL DEL MERCADO DE VALORES']</td>\n      <td>[]</td>\n      <td>[Anuncio de licitación de: Comisión Nacional d...</td>\n      <td>https://www.boe.es/diario_boe/xml.php?id=BOE-B...</td>\n      <td>[BOE-B-2021-10608]</td>\n      <td>[V. Anuncios. - A. Contratación del Sector Púb...</td>\n    </tr>\n  </tbody>\n</table>\n</div>"
     },
     "metadata": {},
     "execution_count": 784
    }
   ],
   "source": [
    "tabla_resumen.sort_values('Item_id')"
   ]
  },
  {
   "source": [
    "# Descarga ficheros XML asociados"
   ],
   "cell_type": "markdown",
   "metadata": {}
  },
  {
   "cell_type": "code",
   "execution_count": 723,
   "metadata": {},
   "outputs": [
    {
     "output_type": "stream",
     "name": "stdout",
     "text": [
      "['https://www.boe.es/diario_boe/xml.php?id', 'BOE-A-2021-3417']\n",
      "<re.Match object; span=(0, 15), match='BOE-A-2021-3417'>\n",
      "BOE-A-2021-3417\n",
      "['https://www.boe.es/diario_boe/xml.php?id', 'BOE-A-2021-3418']\n",
      "<re.Match object; span=(0, 15), match='BOE-A-2021-3418'>\n",
      "BOE-A-2021-3418\n",
      "['https://www.boe.es/diario_boe/xml.php?id', 'BOE-A-2021-3419']\n",
      "<re.Match object; span=(0, 15), match='BOE-A-2021-3419'>\n",
      "BOE-A-2021-3419\n",
      "['https://www.boe.es/diario_boe/xml.php?id', 'BOE-A-2021-3420']\n",
      "<re.Match object; span=(0, 15), match='BOE-A-2021-3420'>\n",
      "BOE-A-2021-3420\n",
      "['https://www.boe.es/diario_boe/xml.php?id', 'BOE-A-2021-3421']\n",
      "<re.Match object; span=(0, 15), match='BOE-A-2021-3421'>\n",
      "BOE-A-2021-3421\n",
      "['https://www.boe.es/diario_boe/xml.php?id', 'BOE-A-2021-3440']\n",
      "<re.Match object; span=(0, 15), match='BOE-A-2021-3440'>\n",
      "BOE-A-2021-3440\n",
      "['https://www.boe.es/diario_boe/xml.php?id', 'BOE-A-2021-3441']\n",
      "<re.Match object; span=(0, 15), match='BOE-A-2021-3441'>\n",
      "BOE-A-2021-3441\n",
      "['https://www.boe.es/diario_boe/xml.php?id', 'BOE-A-2021-3442']\n",
      "<re.Match object; span=(0, 15), match='BOE-A-2021-3442'>\n",
      "BOE-A-2021-3442\n",
      "['https://www.boe.es/diario_boe/xml.php?id', 'BOE-A-2021-3443']\n",
      "<re.Match object; span=(0, 15), match='BOE-A-2021-3443'>\n",
      "BOE-A-2021-3443\n",
      "['https://www.boe.es/diario_boe/xml.php?id', 'BOE-A-2021-3444']\n",
      "<re.Match object; span=(0, 15), match='BOE-A-2021-3444'>\n",
      "BOE-A-2021-3444\n",
      "['https://www.boe.es/diario_boe/xml.php?id', 'BOE-A-2021-3445']\n",
      "<re.Match object; span=(0, 15), match='BOE-A-2021-3445'>\n",
      "BOE-A-2021-3445\n",
      "['https://www.boe.es/diario_boe/xml.php?id', 'BOE-A-2021-3446']\n",
      "<re.Match object; span=(0, 15), match='BOE-A-2021-3446'>\n",
      "BOE-A-2021-3446\n",
      "['https://www.boe.es/diario_boe/xml.php?id', 'BOE-A-2021-3447']\n",
      "<re.Match object; span=(0, 15), match='BOE-A-2021-3447'>\n",
      "BOE-A-2021-3447\n",
      "['https://www.boe.es/diario_boe/xml.php?id', 'BOE-A-2021-3448']\n",
      "<re.Match object; span=(0, 15), match='BOE-A-2021-3448'>\n",
      "BOE-A-2021-3448\n",
      "['https://www.boe.es/diario_boe/xml.php?id', 'BOE-A-2021-3449']\n",
      "<re.Match object; span=(0, 15), match='BOE-A-2021-3449'>\n",
      "BOE-A-2021-3449\n",
      "['https://www.boe.es/diario_boe/xml.php?id', 'BOE-A-2021-3451']\n",
      "<re.Match object; span=(0, 15), match='BOE-A-2021-3451'>\n",
      "BOE-A-2021-3451\n",
      "['https://www.boe.es/diario_boe/xml.php?id', 'BOE-A-2021-3452']\n",
      "<re.Match object; span=(0, 15), match='BOE-A-2021-3452'>\n",
      "BOE-A-2021-3452\n",
      "['https://www.boe.es/diario_boe/xml.php?id', 'BOE-A-2021-3453']\n",
      "<re.Match object; span=(0, 15), match='BOE-A-2021-3453'>\n",
      "BOE-A-2021-3453\n",
      "['https://www.boe.es/diario_boe/xml.php?id', 'BOE-A-2021-3454']\n",
      "<re.Match object; span=(0, 15), match='BOE-A-2021-3454'>\n",
      "BOE-A-2021-3454\n",
      "['https://www.boe.es/diario_boe/xml.php?id', 'BOE-A-2021-3455']\n",
      "<re.Match object; span=(0, 15), match='BOE-A-2021-3455'>\n",
      "BOE-A-2021-3455\n",
      "['https://www.boe.es/diario_boe/xml.php?id', 'BOE-A-2021-3456']\n",
      "<re.Match object; span=(0, 15), match='BOE-A-2021-3456'>\n",
      "BOE-A-2021-3456\n",
      "['https://www.boe.es/diario_boe/xml.php?id', 'BOE-A-2021-3457']\n",
      "<re.Match object; span=(0, 15), match='BOE-A-2021-3457'>\n",
      "BOE-A-2021-3457\n",
      "['https://www.boe.es/diario_boe/xml.php?id', 'BOE-A-2021-3458']\n",
      "<re.Match object; span=(0, 15), match='BOE-A-2021-3458'>\n",
      "BOE-A-2021-3458\n",
      "['https://www.boe.es/diario_boe/xml.php?id', 'BOE-A-2021-3459']\n",
      "<re.Match object; span=(0, 15), match='BOE-A-2021-3459'>\n",
      "BOE-A-2021-3459\n",
      "['https://www.boe.es/diario_boe/xml.php?id', 'BOE-A-2021-3460']\n",
      "<re.Match object; span=(0, 15), match='BOE-A-2021-3460'>\n",
      "BOE-A-2021-3460\n",
      "['https://www.boe.es/diario_boe/xml.php?id', 'BOE-A-2021-3461']\n",
      "<re.Match object; span=(0, 15), match='BOE-A-2021-3461'>\n",
      "BOE-A-2021-3461\n",
      "['https://www.boe.es/diario_boe/xml.php?id', 'BOE-A-2021-3462']\n",
      "<re.Match object; span=(0, 15), match='BOE-A-2021-3462'>\n",
      "BOE-A-2021-3462\n",
      "['https://www.boe.es/diario_boe/xml.php?id', 'BOE-A-2021-3463']\n",
      "<re.Match object; span=(0, 15), match='BOE-A-2021-3463'>\n",
      "BOE-A-2021-3463\n",
      "['https://www.boe.es/diario_boe/xml.php?id', 'BOE-A-2021-3464']\n",
      "<re.Match object; span=(0, 15), match='BOE-A-2021-3464'>\n",
      "BOE-A-2021-3464\n",
      "['https://www.boe.es/diario_boe/xml.php?id', 'BOE-A-2021-3465']\n",
      "<re.Match object; span=(0, 15), match='BOE-A-2021-3465'>\n",
      "BOE-A-2021-3465\n",
      "['https://www.boe.es/diario_boe/xml.php?id', 'BOE-A-2021-3466']\n",
      "<re.Match object; span=(0, 15), match='BOE-A-2021-3466'>\n",
      "BOE-A-2021-3466\n",
      "['https://www.boe.es/diario_boe/xml.php?id', 'BOE-A-2021-3476']\n",
      "<re.Match object; span=(0, 15), match='BOE-A-2021-3476'>\n",
      "BOE-A-2021-3476\n",
      "['https://www.boe.es/diario_boe/xml.php?id', 'BOE-A-2021-3477']\n",
      "<re.Match object; span=(0, 15), match='BOE-A-2021-3477'>\n",
      "BOE-A-2021-3477\n",
      "['https://www.boe.es/diario_boe/xml.php?id', 'BOE-A-2021-3478']\n",
      "<re.Match object; span=(0, 15), match='BOE-A-2021-3478'>\n",
      "BOE-A-2021-3478\n",
      "['https://www.boe.es/diario_boe/xml.php?id', 'BOE-A-2021-3479']\n",
      "<re.Match object; span=(0, 15), match='BOE-A-2021-3479'>\n",
      "BOE-A-2021-3479\n",
      "['https://www.boe.es/diario_boe/xml.php?id', 'BOE-A-2021-3480']\n",
      "<re.Match object; span=(0, 15), match='BOE-A-2021-3480'>\n",
      "BOE-A-2021-3480\n",
      "['https://www.boe.es/diario_boe/xml.php?id', 'BOE-A-2021-3481']\n",
      "<re.Match object; span=(0, 15), match='BOE-A-2021-3481'>\n",
      "BOE-A-2021-3481\n",
      "['https://www.boe.es/diario_boe/xml.php?id', 'BOE-A-2021-3482']\n",
      "<re.Match object; span=(0, 15), match='BOE-A-2021-3482'>\n",
      "BOE-A-2021-3482\n",
      "['https://www.boe.es/diario_boe/xml.php?id', 'BOE-A-2021-3483']\n",
      "<re.Match object; span=(0, 15), match='BOE-A-2021-3483'>\n",
      "BOE-A-2021-3483\n",
      "['https://www.boe.es/diario_boe/xml.php?id', 'BOE-A-2021-3484']\n",
      "<re.Match object; span=(0, 15), match='BOE-A-2021-3484'>\n",
      "BOE-A-2021-3484\n",
      "['https://www.boe.es/diario_boe/xml.php?id', 'BOE-B-2021-10597']\n",
      "<re.Match object; span=(0, 16), match='BOE-B-2021-10597'>\n",
      "BOE-B-2021-10597\n",
      "['https://www.boe.es/diario_boe/xml.php?id', 'BOE-B-2021-10598']\n",
      "<re.Match object; span=(0, 16), match='BOE-B-2021-10598'>\n",
      "BOE-B-2021-10598\n",
      "['https://www.boe.es/diario_boe/xml.php?id', 'BOE-B-2021-10599']\n",
      "<re.Match object; span=(0, 16), match='BOE-B-2021-10599'>\n",
      "BOE-B-2021-10599\n",
      "['https://www.boe.es/diario_boe/xml.php?id', 'BOE-B-2021-10600']\n",
      "<re.Match object; span=(0, 16), match='BOE-B-2021-10600'>\n",
      "BOE-B-2021-10600\n",
      "['https://www.boe.es/diario_boe/xml.php?id', 'BOE-B-2021-10601']\n",
      "<re.Match object; span=(0, 16), match='BOE-B-2021-10601'>\n",
      "BOE-B-2021-10601\n",
      "['https://www.boe.es/diario_boe/xml.php?id', 'BOE-B-2021-10602']\n",
      "<re.Match object; span=(0, 16), match='BOE-B-2021-10602'>\n",
      "BOE-B-2021-10602\n",
      "['https://www.boe.es/diario_boe/xml.php?id', 'BOE-B-2021-10603']\n",
      "<re.Match object; span=(0, 16), match='BOE-B-2021-10603'>\n",
      "BOE-B-2021-10603\n",
      "['https://www.boe.es/diario_boe/xml.php?id', 'BOE-B-2021-10604']\n",
      "<re.Match object; span=(0, 16), match='BOE-B-2021-10604'>\n",
      "BOE-B-2021-10604\n",
      "['https://www.boe.es/diario_boe/xml.php?id', 'BOE-B-2021-10605']\n",
      "<re.Match object; span=(0, 16), match='BOE-B-2021-10605'>\n",
      "BOE-B-2021-10605\n",
      "['https://www.boe.es/diario_boe/xml.php?id', 'BOE-B-2021-10606']\n",
      "<re.Match object; span=(0, 16), match='BOE-B-2021-10606'>\n",
      "BOE-B-2021-10606\n",
      "['https://www.boe.es/diario_boe/xml.php?id', 'BOE-B-2021-10607']\n",
      "<re.Match object; span=(0, 16), match='BOE-B-2021-10607'>\n",
      "BOE-B-2021-10607\n",
      "['https://www.boe.es/diario_boe/xml.php?id', 'BOE-B-2021-10608']\n",
      "<re.Match object; span=(0, 16), match='BOE-B-2021-10608'>\n",
      "BOE-B-2021-10608\n"
     ]
    }
   ],
   "source": [
    "for item_URL in tabla_resumen['Item_URL_XML']:\n",
    "    r = requests.get(item_URL)\n",
    "    #f = './BOEs/' + item_URL[-16:] + '.xml'\n",
    "    ### Separa el número del BOE del resto de la cadena y aplica expresión REGEX \n",
    "    print(item_URL.split('='))\n",
    "    print(re.match('BOE\\-(A|B)\\-[0-9]+\\-[0-9]+',item_URL.split('=')[1]))\n",
    "    filename = re.match('BOE\\-(A|B)\\-[0-9]+\\-[0-9]+',item_URL.split('=')[1]).group()\n",
    "    print(filename)\n",
    "    f = './BOEs/' + filename + '.xml'\n",
    "    save_html(r.content, f)"
   ]
  },
  {
   "source": [
    "# Importa de nuevo los XML generados"
   ],
   "cell_type": "markdown",
   "metadata": {}
  },
  {
   "cell_type": "code",
   "execution_count": 724,
   "metadata": {},
   "outputs": [
    {
     "output_type": "stream",
     "name": "stdout",
     "text": [
      "['./BOEs/BOE-B-2021-10602.xml', './BOEs/BOE-A-2021-3477.xml', './BOEs/BOE-A-2021-3463.xml', './BOEs/BOE-A-2021-3462.xml', './BOEs/BOE-A-2021-3476.xml', './BOEs/BOE-B-2021-10603.xml', './BOEs/BOE-B-2021-10601.xml', './BOEs/BOE-A-2021-3448.xml', './BOEs/BOE-A-2021-3460.xml', './BOEs/BOE-A-2021-3474.xml', './BOEs/BOE-A-2021-3475.xml', './BOEs/BOE-A-2021-3461.xml', './BOEs/BOE-A-2021-3449.xml', './BOEs/BOE-B-2021-10600.xml', './BOEs/BOE-B-2021-10604.xml', './BOEs/BOE-A-2021-3465.xml', './BOEs/BOE-A-2021-3471.xml', './BOEs/BOE-A-2021-3459.xml', './BOEs/BOE-B-2021-10599.xml', './BOEs/BOE-B-2021-10598.xml', './BOEs/BOE-A-2021-3458.xml', './BOEs/BOE-A-2021-3470.xml', './BOEs/BOE-A-2021-3464.xml', './BOEs/BOE-B-2021-10605.xml', './BOEs/BOE-B-2021-10607.xml', './BOEs/BOE-A-2021-3472.xml', './BOEs/BOE-A-2021-3466.xml', './BOEs/BOE-A-2021-3467.xml', './BOEs/BOE-A-2021-3473.xml', './BOEs/BOE-B-2021-10606.xml', './BOEs/BOE-A-2021-3417.xml', './BOEs/BOE-A-2021-3421.xml', './BOEs/BOE-A-2021-3420.xml', './BOEs/BOE-A-2021-3418.xml', './BOEs/BOE-A-2021-3419.xml', './BOEs/BOE-A-2021-3456.xml', './BOEs/BOE-A-2021-3442.xml', './BOEs/BOE-A-2021-3481.xml', './BOEs/BOE-A-2021-3480.xml', './BOEs/BOE-B-2021-10597.xml', './BOEs/BOE-A-2021-3443.xml', './BOEs/BOE-A-2021-3457.xml', './BOEs/BOE-B-2021-10608.xml', './BOEs/BOE-A-2021-3469.xml', './BOEs/BOE-A-2021-3441.xml', './BOEs/BOE-A-2021-3455.xml', './BOEs/BOE-A-2021-3482.xml', './BOEs/BOE-A-2021-3483.xml', './BOEs/BOE-A-2021-3454.xml', './BOEs/BOE-A-2021-3440.xml', './BOEs/BOE-A-2021-3468.xml', './BOEs/BOE-A-2021-3444.xml', './BOEs/BOE-A-2021-3450.xml', './BOEs/BOE-A-2021-3478.xml', './BOEs/BOE-A-2021-3479.xml', './BOEs/BOE-A-2021-3451.xml', './BOEs/BOE-A-2021-3445.xml', './BOEs/BOE-A-2021-3453.xml', './BOEs/BOE-A-2021-3447.xml', './BOEs/BOE-A-2021-3484.xml', './BOEs/BOE-A-2021-3446.xml', './BOEs/BOE-A-2021-3452.xml']\n"
     ]
    }
   ],
   "source": [
    "\n",
    "import glob\n",
    "BOEs = glob.glob('./BOEs/BOE*.xml')\n",
    "print (BOEs)"
   ]
  },
  {
   "source": [
    "# Genera DF con datos Análisis de cada XML"
   ],
   "cell_type": "markdown",
   "metadata": {}
  },
  {
   "cell_type": "code",
   "execution_count": 725,
   "metadata": {},
   "outputs": [
    {
     "output_type": "stream",
     "name": "stdout",
     "text": [
      "./BOEs/BOE-B-2021-10602.xml\n",
      "['BOE-B-2021-10602']\n",
      "2021-03-05 00:00:00\n",
      "./BOEs/BOE-A-2021-3477.xml\n",
      "['BOE-A-2021-3477']\n",
      "2021-03-05 00:00:00\n",
      "./BOEs/BOE-A-2021-3463.xml\n",
      "['BOE-A-2021-3463']\n",
      "2021-03-05 00:00:00\n",
      "./BOEs/BOE-A-2021-3462.xml\n",
      "['BOE-A-2021-3462']\n",
      "2021-03-05 00:00:00\n",
      "./BOEs/BOE-A-2021-3476.xml\n",
      "['BOE-A-2021-3476']\n",
      "2021-03-05 00:00:00\n",
      "./BOEs/BOE-B-2021-10603.xml\n",
      "['BOE-B-2021-10603']\n",
      "2021-03-05 00:00:00\n",
      "./BOEs/BOE-B-2021-10601.xml\n",
      "['BOE-B-2021-10601']\n",
      "2021-03-05 00:00:00\n",
      "./BOEs/BOE-A-2021-3448.xml\n",
      "['BOE-A-2021-3448']\n",
      "2021-03-05 00:00:00\n",
      "./BOEs/BOE-A-2021-3460.xml\n",
      "['BOE-A-2021-3460']\n",
      "2021-03-05 00:00:00\n",
      "./BOEs/BOE-A-2021-3474.xml\n",
      "['BOE-A-2021-3474']\n",
      "2021-03-05 00:00:00\n",
      "./BOEs/BOE-A-2021-3475.xml\n",
      "['BOE-A-2021-3475']\n",
      "2021-03-05 00:00:00\n",
      "./BOEs/BOE-A-2021-3461.xml\n",
      "['BOE-A-2021-3461']\n",
      "2021-03-05 00:00:00\n",
      "./BOEs/BOE-A-2021-3449.xml\n",
      "['BOE-A-2021-3449']\n",
      "2021-03-05 00:00:00\n",
      "./BOEs/BOE-B-2021-10600.xml\n",
      "['BOE-B-2021-10600']\n",
      "2021-03-05 00:00:00\n",
      "./BOEs/BOE-B-2021-10604.xml\n",
      "['BOE-B-2021-10604']\n",
      "2021-03-05 00:00:00\n",
      "./BOEs/BOE-A-2021-3465.xml\n",
      "['BOE-A-2021-3465']\n",
      "2021-03-05 00:00:00\n",
      "./BOEs/BOE-A-2021-3471.xml\n",
      "['BOE-A-2021-3471']\n",
      "2021-03-05 00:00:00\n",
      "./BOEs/BOE-A-2021-3459.xml\n",
      "['BOE-A-2021-3459']\n",
      "2021-03-05 00:00:00\n",
      "./BOEs/BOE-B-2021-10599.xml\n",
      "['BOE-B-2021-10599']\n",
      "2021-03-05 00:00:00\n",
      "./BOEs/BOE-B-2021-10598.xml\n",
      "['BOE-B-2021-10598']\n",
      "2021-03-05 00:00:00\n",
      "./BOEs/BOE-A-2021-3458.xml\n",
      "['BOE-A-2021-3458']\n",
      "2021-03-05 00:00:00\n",
      "./BOEs/BOE-A-2021-3470.xml\n",
      "['BOE-A-2021-3470']\n",
      "2021-03-05 00:00:00\n",
      "./BOEs/BOE-A-2021-3464.xml\n",
      "['BOE-A-2021-3464']\n",
      "2021-03-05 00:00:00\n",
      "./BOEs/BOE-B-2021-10605.xml\n",
      "['BOE-B-2021-10605']\n",
      "2021-03-05 00:00:00\n",
      "./BOEs/BOE-B-2021-10607.xml\n",
      "['BOE-B-2021-10607']\n",
      "2021-03-05 00:00:00\n",
      "./BOEs/BOE-A-2021-3472.xml\n",
      "['BOE-A-2021-3472']\n",
      "2021-03-05 00:00:00\n",
      "./BOEs/BOE-A-2021-3466.xml\n",
      "['BOE-A-2021-3466']\n",
      "2021-03-05 00:00:00\n",
      "./BOEs/BOE-A-2021-3467.xml\n",
      "['BOE-A-2021-3467']\n",
      "2021-03-05 00:00:00\n",
      "./BOEs/BOE-A-2021-3473.xml\n",
      "['BOE-A-2021-3473']\n",
      "2021-03-05 00:00:00\n",
      "./BOEs/BOE-B-2021-10606.xml\n",
      "['BOE-B-2021-10606']\n",
      "2021-03-05 00:00:00\n",
      "./BOEs/BOE-A-2021-3417.xml\n",
      "['BOE-A-2021-3417']\n",
      "2021-03-05 00:00:00\n",
      "./BOEs/BOE-A-2021-3421.xml\n",
      "['BOE-A-2021-3421']\n",
      "2021-03-05 00:00:00\n",
      "./BOEs/BOE-A-2021-3420.xml\n",
      "['BOE-A-2021-3420']\n",
      "2021-03-05 00:00:00\n",
      "./BOEs/BOE-A-2021-3418.xml\n",
      "['BOE-A-2021-3418']\n",
      "2021-03-05 00:00:00\n",
      "./BOEs/BOE-A-2021-3419.xml\n",
      "['BOE-A-2021-3419']\n",
      "2021-03-05 00:00:00\n",
      "./BOEs/BOE-A-2021-3456.xml\n",
      "['BOE-A-2021-3456']\n",
      "2021-03-05 00:00:00\n",
      "./BOEs/BOE-A-2021-3442.xml\n",
      "['BOE-A-2021-3442']\n",
      "2021-03-05 00:00:00\n",
      "./BOEs/BOE-A-2021-3481.xml\n",
      "['BOE-A-2021-3481']\n",
      "2021-03-05 00:00:00\n",
      "./BOEs/BOE-A-2021-3480.xml\n",
      "['BOE-A-2021-3480']\n",
      "2021-03-05 00:00:00\n",
      "./BOEs/BOE-B-2021-10597.xml\n",
      "['BOE-B-2021-10597']\n",
      "2021-03-05 00:00:00\n",
      "./BOEs/BOE-A-2021-3443.xml\n",
      "['BOE-A-2021-3443']\n",
      "2021-03-05 00:00:00\n",
      "./BOEs/BOE-A-2021-3457.xml\n",
      "['BOE-A-2021-3457']\n",
      "2021-03-05 00:00:00\n",
      "./BOEs/BOE-B-2021-10608.xml\n",
      "['BOE-B-2021-10608']\n",
      "2021-03-05 00:00:00\n",
      "./BOEs/BOE-A-2021-3469.xml\n",
      "['BOE-A-2021-3469']\n",
      "2021-03-05 00:00:00\n",
      "./BOEs/BOE-A-2021-3441.xml\n",
      "['BOE-A-2021-3441']\n",
      "2021-03-05 00:00:00\n",
      "./BOEs/BOE-A-2021-3455.xml\n",
      "['BOE-A-2021-3455']\n",
      "2021-03-05 00:00:00\n",
      "./BOEs/BOE-A-2021-3482.xml\n",
      "['BOE-A-2021-3482']\n",
      "2021-03-05 00:00:00\n",
      "./BOEs/BOE-A-2021-3483.xml\n",
      "['BOE-A-2021-3483']\n",
      "2021-03-05 00:00:00\n",
      "./BOEs/BOE-A-2021-3454.xml\n",
      "['BOE-A-2021-3454']\n",
      "2021-03-05 00:00:00\n",
      "./BOEs/BOE-A-2021-3440.xml\n",
      "['BOE-A-2021-3440']\n",
      "2021-03-05 00:00:00\n",
      "./BOEs/BOE-A-2021-3468.xml\n",
      "['BOE-A-2021-3468']\n",
      "2021-03-05 00:00:00\n",
      "./BOEs/BOE-A-2021-3444.xml\n",
      "['BOE-A-2021-3444']\n",
      "2021-03-05 00:00:00\n",
      "./BOEs/BOE-A-2021-3450.xml\n",
      "['BOE-A-2021-3450']\n",
      "2021-03-05 00:00:00\n",
      "./BOEs/BOE-A-2021-3478.xml\n",
      "['BOE-A-2021-3478']\n",
      "2021-03-05 00:00:00\n",
      "./BOEs/BOE-A-2021-3479.xml\n",
      "['BOE-A-2021-3479']\n",
      "2021-03-05 00:00:00\n",
      "./BOEs/BOE-A-2021-3451.xml\n",
      "['BOE-A-2021-3451']\n",
      "2021-03-05 00:00:00\n",
      "./BOEs/BOE-A-2021-3445.xml\n",
      "['BOE-A-2021-3445']\n",
      "2021-03-05 00:00:00\n",
      "./BOEs/BOE-A-2021-3453.xml\n",
      "['BOE-A-2021-3453']\n",
      "2021-03-05 00:00:00\n",
      "./BOEs/BOE-A-2021-3447.xml\n",
      "['BOE-A-2021-3447']\n",
      "2021-03-05 00:00:00\n",
      "./BOEs/BOE-A-2021-3484.xml\n",
      "['BOE-A-2021-3484']\n",
      "2021-03-05 00:00:00\n",
      "./BOEs/BOE-A-2021-3446.xml\n",
      "['BOE-A-2021-3446']\n",
      "2021-03-05 00:00:00\n",
      "./BOEs/BOE-A-2021-3452.xml\n",
      "['BOE-A-2021-3452']\n",
      "2021-03-05 00:00:00\n"
     ]
    }
   ],
   "source": [
    "tabla_analisis = pd.DataFrame()\n",
    "\n",
    "for BOE in BOEs:\n",
    "    print (BOE)\n",
    "    BOE_XML = etree.parse(BOE)\n",
    "    raiz=BOE_XML.getroot()\n",
    "\n",
    "    materias = [materia.text for materia in raiz.findall('analisis/materias/materia')]\n",
    "    alertas = [alerta.text for alerta in raiz.findall('analisis/alertas/alerta')]\n",
    "    \n",
    "    referencias = [str(referencia.xpath('@referencia')).replace(\"['\",'').replace(\"']\",'') for referencia in raiz.findall('analisis/referencias/anteriores/anterior')]\n",
    "    referencias_palabras = [referencia.text for referencia in raiz.findall('analisis/referencias/anteriores/anterior/palabra')]\n",
    "    referencias_texto = [referencia.text for referencia in raiz.findall('analisis/referencias/anteriores/anterior/texto')]\n",
    "\n",
    "    Item_Id = raiz.xpath(\".//identificador/text()\")\n",
    "    Item_name = raiz.xpath('.//titulo/text()') \n",
    "\n",
    "    print(Item_Id)\n",
    "    Fecha_Publicacion = datetime.strptime(str(raiz.xpath('.//fecha_publicacion/text()'))[2:-2],\"%Y%m%d\")\n",
    "    print(Fecha_Publicacion)\n",
    "    #Fecha_Publicacion = str(raiz.xpath('.//fecha_publicacion/text()'))[2:-2]\n",
    " \n",
    "    tabla_analisis = tabla_analisis.append({'Item_id': Item_Id,\n",
    "                                            'Item_Name' : Item_name,\n",
    "                                            'Fecha_publicacion' : Fecha_Publicacion,\n",
    "                                            'Materias' : materias,\n",
    "                                            'Alertas' : alertas,\n",
    "                                            'Referencias' : referencias,\n",
    "                                            'Referencias_palabra' : referencias_palabras,\n",
    "                                            'Referencias_texto' : referencias_texto},\n",
    "                                            ignore_index=True)\n"
   ]
  },
  {
   "cell_type": "code",
   "execution_count": 726,
   "metadata": {},
   "outputs": [
    {
     "output_type": "execute_result",
     "data": {
      "text/plain": [
       "                                              Alertas Fecha_publicacion  \\\n",
       "30  [Agricultura, Ganadería y animales, Sistema fi...        2021-03-05   \n",
       "33            [Comercio, Energía, Sistema tributario]        2021-03-05   \n",
       "34  [Organización de la Administración, Sistema fi...        2021-03-05   \n",
       "32                               [Sistema financiero]        2021-03-05   \n",
       "31  [Administración electrónica, Derecho Administr...        2021-03-05   \n",
       "..                                                ...               ...   \n",
       "14                                                 []        2021-03-05   \n",
       "23                                                 []        2021-03-05   \n",
       "29                                                 []        2021-03-05   \n",
       "24                                                 []        2021-03-05   \n",
       "42                                                 []        2021-03-05   \n",
       "\n",
       "                                            Item_Name             Item_id  \\\n",
       "30  [Real Decreto 94/2021, de 16 de febrero, por e...   [BOE-A-2021-3417]   \n",
       "33  [Resolución de 25 de febrero de 2021, de la Di...   [BOE-A-2021-3418]   \n",
       "34  [Resolución de 2 de marzo de 2021, conjunta de...   [BOE-A-2021-3419]   \n",
       "32  [Resolución de 4 de marzo de 2021, de la Secre...   [BOE-A-2021-3420]   \n",
       "31  [Orden ISM/189/2021, de 3 de marzo, por la que...   [BOE-A-2021-3421]   \n",
       "..                                                ...                 ...   \n",
       "14  [Anuncio de licitación de: ADIF - Presidencia....  [BOE-B-2021-10604]   \n",
       "23  [Anuncio de formalización de contratos de: Dir...  [BOE-B-2021-10605]   \n",
       "29  [Anuncio de formalización de contratos de: Dir...  [BOE-B-2021-10606]   \n",
       "24  [Anuncio de formalización de contratos de: INS...  [BOE-B-2021-10607]   \n",
       "42  [Anuncio de licitación de: Comisión Nacional d...  [BOE-B-2021-10608]   \n",
       "\n",
       "                                             Materias  \\\n",
       "30  [Ayudas, Comunidades Autónomas, Entidades fina...   \n",
       "33  [Baleares, Canarias, Carbón, Ceuta, Energía el...   \n",
       "34  [Administración y Contabilidad de la Hacienda ...   \n",
       "32  [Administración Local, Comunidades Autónomas, ...   \n",
       "31  [Administración electrónica, Formularios admin...   \n",
       "..                                                ...   \n",
       "14                                                 []   \n",
       "23                                                 []   \n",
       "29                                                 []   \n",
       "24                                                 []   \n",
       "42                                                 []   \n",
       "\n",
       "                                          Referencias  \\\n",
       "30                  [BOE-A-2018-4001, BOE-A-2002-800]   \n",
       "33  [BOE-A-2020-9339, BOE-A-2015-8646, BOE-A-1992-...   \n",
       "34  [BOE-A-2016-6719, BOE-A-2002-12506, BOE-A-2010...   \n",
       "32                                  [BOE-A-2017-7814]   \n",
       "31  [BOE-A-2013-3364, BOE-A-2015-11724, BOE-A-2015...   \n",
       "..                                                ...   \n",
       "14                                                 []   \n",
       "23                                                 []   \n",
       "29                                                 []   \n",
       "24                                                 []   \n",
       "42                                                 []   \n",
       "\n",
       "                                  Referencias_palabra  \\\n",
       "30                                   [MODIFICA, CITA]   \n",
       "33     [DE CONFORMIDAD con, DE CONFORMIDAD con, CITA]   \n",
       "34  [DEROGA, DE CONFORMIDAD con, DECLARA la vigencia]   \n",
       "32                                        [ACTUALIZA]   \n",
       "31   [DEROGA, DE CONFORMIDAD con, DE CONFORMIDAD con]   \n",
       "..                                                ...   \n",
       "14                                                 []   \n",
       "23                                                 []   \n",
       "29                                                 []   \n",
       "24                                                 []   \n",
       "42                                                 []   \n",
       "\n",
       "                                    Referencias_texto  \n",
       "30  [el art. 10.3 del Real Decreto 92/2018, de 2 d...  \n",
       "33  [el art. 3 de la Orden TED/776/2020, de 4 de a...  \n",
       "34  [salvo lo indicado de la disposición derogator...  \n",
       "32  [el anexo 1 de la Resolución de 4 de julio de ...  \n",
       "31  [la Orden ESS/486/2013, de 26 de marzo, la Ley...  \n",
       "..                                                ...  \n",
       "14                                                 []  \n",
       "23                                                 []  \n",
       "29                                                 []  \n",
       "24                                                 []  \n",
       "42                                                 []  \n",
       "\n",
       "[62 rows x 8 columns]"
      ],
      "text/html": "<div>\n<style scoped>\n    .dataframe tbody tr th:only-of-type {\n        vertical-align: middle;\n    }\n\n    .dataframe tbody tr th {\n        vertical-align: top;\n    }\n\n    .dataframe thead th {\n        text-align: right;\n    }\n</style>\n<table border=\"1\" class=\"dataframe\">\n  <thead>\n    <tr style=\"text-align: right;\">\n      <th></th>\n      <th>Alertas</th>\n      <th>Fecha_publicacion</th>\n      <th>Item_Name</th>\n      <th>Item_id</th>\n      <th>Materias</th>\n      <th>Referencias</th>\n      <th>Referencias_palabra</th>\n      <th>Referencias_texto</th>\n    </tr>\n  </thead>\n  <tbody>\n    <tr>\n      <th>30</th>\n      <td>[Agricultura, Ganadería y animales, Sistema fi...</td>\n      <td>2021-03-05</td>\n      <td>[Real Decreto 94/2021, de 16 de febrero, por e...</td>\n      <td>[BOE-A-2021-3417]</td>\n      <td>[Ayudas, Comunidades Autónomas, Entidades fina...</td>\n      <td>[BOE-A-2018-4001, BOE-A-2002-800]</td>\n      <td>[MODIFICA, CITA]</td>\n      <td>[el art. 10.3 del Real Decreto 92/2018, de 2 d...</td>\n    </tr>\n    <tr>\n      <th>33</th>\n      <td>[Comercio, Energía, Sistema tributario]</td>\n      <td>2021-03-05</td>\n      <td>[Resolución de 25 de febrero de 2021, de la Di...</td>\n      <td>[BOE-A-2021-3418]</td>\n      <td>[Baleares, Canarias, Carbón, Ceuta, Energía el...</td>\n      <td>[BOE-A-2020-9339, BOE-A-2015-8646, BOE-A-1992-...</td>\n      <td>[DE CONFORMIDAD con, DE CONFORMIDAD con, CITA]</td>\n      <td>[el art. 3 de la Orden TED/776/2020, de 4 de a...</td>\n    </tr>\n    <tr>\n      <th>34</th>\n      <td>[Organización de la Administración, Sistema fi...</td>\n      <td>2021-03-05</td>\n      <td>[Resolución de 2 de marzo de 2021, conjunta de...</td>\n      <td>[BOE-A-2021-3419]</td>\n      <td>[Administración y Contabilidad de la Hacienda ...</td>\n      <td>[BOE-A-2016-6719, BOE-A-2002-12506, BOE-A-2010...</td>\n      <td>[DEROGA, DE CONFORMIDAD con, DECLARA la vigencia]</td>\n      <td>[salvo lo indicado de la disposición derogator...</td>\n    </tr>\n    <tr>\n      <th>32</th>\n      <td>[Sistema financiero]</td>\n      <td>2021-03-05</td>\n      <td>[Resolución de 4 de marzo de 2021, de la Secre...</td>\n      <td>[BOE-A-2021-3420]</td>\n      <td>[Administración Local, Comunidades Autónomas, ...</td>\n      <td>[BOE-A-2017-7814]</td>\n      <td>[ACTUALIZA]</td>\n      <td>[el anexo 1 de la Resolución de 4 de julio de ...</td>\n    </tr>\n    <tr>\n      <th>31</th>\n      <td>[Administración electrónica, Derecho Administr...</td>\n      <td>2021-03-05</td>\n      <td>[Orden ISM/189/2021, de 3 de marzo, por la que...</td>\n      <td>[BOE-A-2021-3421]</td>\n      <td>[Administración electrónica, Formularios admin...</td>\n      <td>[BOE-A-2013-3364, BOE-A-2015-11724, BOE-A-2015...</td>\n      <td>[DEROGA, DE CONFORMIDAD con, DE CONFORMIDAD con]</td>\n      <td>[la Orden ESS/486/2013, de 26 de marzo, la Ley...</td>\n    </tr>\n    <tr>\n      <th>...</th>\n      <td>...</td>\n      <td>...</td>\n      <td>...</td>\n      <td>...</td>\n      <td>...</td>\n      <td>...</td>\n      <td>...</td>\n      <td>...</td>\n    </tr>\n    <tr>\n      <th>14</th>\n      <td>[]</td>\n      <td>2021-03-05</td>\n      <td>[Anuncio de licitación de: ADIF - Presidencia....</td>\n      <td>[BOE-B-2021-10604]</td>\n      <td>[]</td>\n      <td>[]</td>\n      <td>[]</td>\n      <td>[]</td>\n    </tr>\n    <tr>\n      <th>23</th>\n      <td>[]</td>\n      <td>2021-03-05</td>\n      <td>[Anuncio de formalización de contratos de: Dir...</td>\n      <td>[BOE-B-2021-10605]</td>\n      <td>[]</td>\n      <td>[]</td>\n      <td>[]</td>\n      <td>[]</td>\n    </tr>\n    <tr>\n      <th>29</th>\n      <td>[]</td>\n      <td>2021-03-05</td>\n      <td>[Anuncio de formalización de contratos de: Dir...</td>\n      <td>[BOE-B-2021-10606]</td>\n      <td>[]</td>\n      <td>[]</td>\n      <td>[]</td>\n      <td>[]</td>\n    </tr>\n    <tr>\n      <th>24</th>\n      <td>[]</td>\n      <td>2021-03-05</td>\n      <td>[Anuncio de formalización de contratos de: INS...</td>\n      <td>[BOE-B-2021-10607]</td>\n      <td>[]</td>\n      <td>[]</td>\n      <td>[]</td>\n      <td>[]</td>\n    </tr>\n    <tr>\n      <th>42</th>\n      <td>[]</td>\n      <td>2021-03-05</td>\n      <td>[Anuncio de licitación de: Comisión Nacional d...</td>\n      <td>[BOE-B-2021-10608]</td>\n      <td>[]</td>\n      <td>[]</td>\n      <td>[]</td>\n      <td>[]</td>\n    </tr>\n  </tbody>\n</table>\n<p>62 rows × 8 columns</p>\n</div>"
     },
     "metadata": {},
     "execution_count": 726
    }
   ],
   "source": [
    "tabla_analisis.sort_values('Item_id')"
   ]
  },
  {
   "cell_type": "code",
   "execution_count": 727,
   "metadata": {},
   "outputs": [],
   "source": [
    "# Crea nueva columna vacía de tipo lista en tabla_analisis\n",
    "tabla_analisis['Referencias_completas'] = [[] for i in range(len(tabla_analisis))]\n",
    "tabla_analisis['Tags'] = [[] for i in range(len(tabla_analisis))]\n",
    "tabla_analisis['Match_ASECORP_BBDD'] = [[] for i in range(len(tabla_analisis))]\n"
   ]
  },
  {
   "cell_type": "code",
   "execution_count": 728,
   "metadata": {},
   "outputs": [],
   "source": [
    "# Define expresiones REGEX para búsqueda de leyes, decretos, etc. referenciadas anteriormente\n",
    "pattern = ['Ley [0-9]+\\/[0-9]+','Ley Orgánica [0-9]+\\/[0-9]+','Decreto [0-9]+\\/[0-9]+','Real Decreto [0-9]+\\/[0-9]+','Real Decreto Legislativo [0-9]+\\/[0-9]+','Real Decreto-ley [0-9]+\\/[0-9]+','Orden [A-Z]+\\/[0-9]+\\/[0-9]+','Orden Circular [0-9]+\\/[0-9]+','Reglamento \\(UE\\) [0-9]+\\/[0-9]+', 'Reglamento de Ejeución \\(UE\\) [0-9]+\\/[0-9]+' ,'Sentencia de [0-9]+ de [a-z]+ de [0-9]+','Sentencia [0-9]+\\/[0-9]+','Orden de [0-9]+ de [a-z]+ de [0-9]+', 'Resolución de [0-9]+ de [a-z]+ de [0-9]+','Resolución [a-z]+\\/[0-9]+\\/[0-9]+', 'Nota de Servicio [0-9]+\\/[0-9]+', 'Acuerdo multilateral M\\-[0-9]+', 'Acuerdo Multilateral RID [0-9]+\\/[0-9]+', 'Circular [0-9]+\\/[0-9]+', 'Decisión \\(UE\\) [0-9]+\\/[0-9]+', 'Decisión de Ejecución \\(UE\\) [0-9]+\\/[0-9]+', 'Instrucción IS\\-[0-9]+']"
   ]
  },
  {
   "cell_type": "code",
   "execution_count": 729,
   "metadata": {
    "tags": []
   },
   "outputs": [
    {
     "output_type": "stream",
     "name": "stdout",
     "text": [
      "[]\n[]\n[]\n[]\n[]\n[]\n[]\n[]\n[]\n[]\n[]\n[]\n[]\n[]\n[]\n[]\n[]\n[]\n[]\n[]\n[]\n[]\n[]\n[]\n[]\n[]\n[]\n[]\n[]\n[]\n['MODIFICA el art. 10.3 del Real Decreto 92/2018, de 2 de marzo', 'CITA Estatuto aprobado por Real Decreto 1441/2001, de 21 de diciembre']\n['DEROGA la Orden ESS/486/2013, de 26 de marzo', 'DE CONFORMIDAD con la Ley General de la Seguridad Social, texto refundido aprobado por Real Decreto Legislativo 8/2015, de 30 de octubre', 'DE CONFORMIDAD con los arts. 5 y 6 de la Ley 39/2015, de 1 de octubre']\n['ACTUALIZA el anexo 1 de la Resolución de 4 de julio de 2017']\n['DE CONFORMIDAD con el art. 3 de la Orden TED/776/2020, de 4 de agosto', 'DE CONFORMIDAD con la disposición transitoria 3 del Real Decreto 738/2015, de 31 de julio', 'CITA Ley 38/1992, de 28 de diciembre']\n['DEROGA salvo lo indicado de la disposición derogatoria única, con efectos desde el 14 de julio de 2021, la Resolución de 7 de julio de 2016', 'DE CONFORMIDAD con el apartado 7.2.e) de la Orden PRE/1576/2002, de 19 de junio', 'DECLARA la vigencia de la disposición adicional única de la Resolución de 30 de abril de 2010']\n[]\n[]\n[]\n[]\n[]\n['DE CONFORMIDAD con el art. 90.2 y 3 de la Ley del Estatuto de los Trabajadores, texto refundido aprobado por Real Decreto Legislativo 2/2015, de 23 de octubre', 'DE CONFORMIDAD con el Real Decreto 713/2010, de 28 de mayo', 'EN RELACIÓN con el Convenio publicado por Resolución de 19 de julio de 2019']\n[]\n[]\n[]\n[]\n[]\n[]\n[]\n[]\n['DE CONFORMIDAD con el art. 98.1 de la Ley Orgánica 6/1985, de 1 de julio']\n[]\n[]\n[]\n[]\n[]\n[]\n['CORRECCIÓN de errores de la Orden APA/858/2020, de 9 de septiembre']\n[]\n[]\n[]\n[]\n[]\n"
     ]
    }
   ],
   "source": [
    "# Consolida las columnas Referencias_palabra y Referencias_texto en una única frase\n",
    "for i, row in tabla_analisis.iterrows():\n",
    "    for item_list in range(len(row['Referencias'])): \n",
    "        row['Referencias_completas'].append(row['Referencias_palabra'][item_list] + ' ' + row['Referencias_texto'][item_list])\n",
    "        tabla_analisis['Tags'][i] = re.findall('|'.join(pattern), str(row['Referencias_texto']), flags=re.IGNORECASE)\n",
    "    print(row['Referencias_completas'])"
   ]
  },
  {
   "cell_type": "code",
   "execution_count": 730,
   "metadata": {},
   "outputs": [
    {
     "output_type": "stream",
     "name": "stdout",
     "text": [
      "[]\n",
      "[]\n",
      "[]\n",
      "[]\n",
      "[]\n",
      "[]\n",
      "[]\n",
      "[]\n",
      "[]\n",
      "[]\n",
      "[]\n",
      "[]\n",
      "[]\n",
      "[]\n",
      "[]\n",
      "[]\n",
      "[]\n",
      "[]\n",
      "[]\n",
      "[]\n",
      "[]\n",
      "[]\n",
      "[]\n",
      "[]\n",
      "[]\n",
      "[]\n",
      "[]\n",
      "[]\n",
      "[]\n",
      "[]\n",
      "['Real Decreto 1441/2001', 'Real Decreto 92/2018']\n",
      "['Orden ESS/486/2013', 'Real Decreto Legislativo 8/2015', 'Ley 39/2015']\n",
      "['Resolución de 4 de julio de 2017']\n",
      "['Ley 38/1992', 'Real Decreto 738/2015', 'Orden TED/776/2020']\n",
      "['Orden PRE/1576/2002', 'Resolución de 30 de abril de 2010', 'Resolución de 7 de julio de 2016']\n",
      "[]\n",
      "[]\n",
      "[]\n",
      "[]\n",
      "[]\n",
      "['Real Decreto Legislativo 2/2015', 'Resolución de 19 de julio de 2019', 'Real Decreto 713/2010']\n",
      "[]\n",
      "[]\n",
      "[]\n",
      "[]\n",
      "[]\n",
      "[]\n",
      "[]\n",
      "[]\n",
      "['Ley Orgánica 6/1985']\n",
      "[]\n",
      "[]\n",
      "[]\n",
      "[]\n",
      "[]\n",
      "[]\n",
      "['Orden APA/858/2020']\n",
      "[]\n",
      "[]\n",
      "[]\n",
      "[]\n",
      "[]\n"
     ]
    }
   ],
   "source": [
    "# Elimina Tags duplicados\n",
    "for i, row in tabla_analisis.iterrows():\n",
    "    tabla_analisis['Tags'][i] = list(set(tabla_analisis['Tags'][i]))\n",
    "    print(tabla_analisis['Tags'][i])"
   ]
  },
  {
   "cell_type": "code",
   "execution_count": 731,
   "metadata": {},
   "outputs": [
    {
     "output_type": "execute_result",
     "data": {
      "text/plain": [
       "             Alertas Fecha_publicacion  \\\n",
       "0                 []        2021-03-05   \n",
       "1                 []        2021-03-05   \n",
       "2                 []        2021-03-05   \n",
       "3                 []        2021-03-05   \n",
       "4                 []        2021-03-05   \n",
       "..               ...               ...   \n",
       "57                []        2021-03-05   \n",
       "58                []        2021-03-05   \n",
       "59  [Cultura y ocio]        2021-03-05   \n",
       "60                []        2021-03-05   \n",
       "61                []        2021-03-05   \n",
       "\n",
       "                                            Item_Name             Item_id  \\\n",
       "0   [Anuncio de licitación de: ADIF - Presidencia....  [BOE-B-2021-10602]   \n",
       "1   [Resolución de 23 de febrero de 2021, de la Su...   [BOE-A-2021-3477]   \n",
       "2   [Resolución de 23 de febrero de 2021, de la Di...   [BOE-A-2021-3463]   \n",
       "3   [Resolución de 23 de febrero de 2021, de la Di...   [BOE-A-2021-3462]   \n",
       "4   [Resolución de 23 de febrero de 2021, de la Di...   [BOE-A-2021-3476]   \n",
       "..                                                ...                 ...   \n",
       "57  [Resolución de 23 de febrero de 2021, de la Di...   [BOE-A-2021-3453]   \n",
       "58  [Orden APA/191/2021, de 2 de marzo, por la que...   [BOE-A-2021-3447]   \n",
       "59  [Acuerdo 20/2021, de 18 de febrero, de la Junt...   [BOE-A-2021-3484]   \n",
       "60  [Orden APA/190/2021, de 2 de marzo, por la que...   [BOE-A-2021-3446]   \n",
       "61  [Resolución de 23 de febrero de 2021, de la Di...   [BOE-A-2021-3452]   \n",
       "\n",
       "   Materias Referencias Referencias_palabra Referencias_texto  \\\n",
       "0        []          []                  []                []   \n",
       "1        []          []                  []                []   \n",
       "2        []          []                  []                []   \n",
       "3        []          []                  []                []   \n",
       "4        []          []                  []                []   \n",
       "..      ...         ...                 ...               ...   \n",
       "57       []          []                  []                []   \n",
       "58       []          []                  []                []   \n",
       "59       []          []                  []                []   \n",
       "60       []          []                  []                []   \n",
       "61       []          []                  []                []   \n",
       "\n",
       "   Referencias_completas Tags Match_ASECORP_BBDD  \n",
       "0                     []   []                 []  \n",
       "1                     []   []                 []  \n",
       "2                     []   []                 []  \n",
       "3                     []   []                 []  \n",
       "4                     []   []                 []  \n",
       "..                   ...  ...                ...  \n",
       "57                    []   []                 []  \n",
       "58                    []   []                 []  \n",
       "59                    []   []                 []  \n",
       "60                    []   []                 []  \n",
       "61                    []   []                 []  \n",
       "\n",
       "[62 rows x 11 columns]"
      ],
      "text/html": "<div>\n<style scoped>\n    .dataframe tbody tr th:only-of-type {\n        vertical-align: middle;\n    }\n\n    .dataframe tbody tr th {\n        vertical-align: top;\n    }\n\n    .dataframe thead th {\n        text-align: right;\n    }\n</style>\n<table border=\"1\" class=\"dataframe\">\n  <thead>\n    <tr style=\"text-align: right;\">\n      <th></th>\n      <th>Alertas</th>\n      <th>Fecha_publicacion</th>\n      <th>Item_Name</th>\n      <th>Item_id</th>\n      <th>Materias</th>\n      <th>Referencias</th>\n      <th>Referencias_palabra</th>\n      <th>Referencias_texto</th>\n      <th>Referencias_completas</th>\n      <th>Tags</th>\n      <th>Match_ASECORP_BBDD</th>\n    </tr>\n  </thead>\n  <tbody>\n    <tr>\n      <th>0</th>\n      <td>[]</td>\n      <td>2021-03-05</td>\n      <td>[Anuncio de licitación de: ADIF - Presidencia....</td>\n      <td>[BOE-B-2021-10602]</td>\n      <td>[]</td>\n      <td>[]</td>\n      <td>[]</td>\n      <td>[]</td>\n      <td>[]</td>\n      <td>[]</td>\n      <td>[]</td>\n    </tr>\n    <tr>\n      <th>1</th>\n      <td>[]</td>\n      <td>2021-03-05</td>\n      <td>[Resolución de 23 de febrero de 2021, de la Su...</td>\n      <td>[BOE-A-2021-3477]</td>\n      <td>[]</td>\n      <td>[]</td>\n      <td>[]</td>\n      <td>[]</td>\n      <td>[]</td>\n      <td>[]</td>\n      <td>[]</td>\n    </tr>\n    <tr>\n      <th>2</th>\n      <td>[]</td>\n      <td>2021-03-05</td>\n      <td>[Resolución de 23 de febrero de 2021, de la Di...</td>\n      <td>[BOE-A-2021-3463]</td>\n      <td>[]</td>\n      <td>[]</td>\n      <td>[]</td>\n      <td>[]</td>\n      <td>[]</td>\n      <td>[]</td>\n      <td>[]</td>\n    </tr>\n    <tr>\n      <th>3</th>\n      <td>[]</td>\n      <td>2021-03-05</td>\n      <td>[Resolución de 23 de febrero de 2021, de la Di...</td>\n      <td>[BOE-A-2021-3462]</td>\n      <td>[]</td>\n      <td>[]</td>\n      <td>[]</td>\n      <td>[]</td>\n      <td>[]</td>\n      <td>[]</td>\n      <td>[]</td>\n    </tr>\n    <tr>\n      <th>4</th>\n      <td>[]</td>\n      <td>2021-03-05</td>\n      <td>[Resolución de 23 de febrero de 2021, de la Di...</td>\n      <td>[BOE-A-2021-3476]</td>\n      <td>[]</td>\n      <td>[]</td>\n      <td>[]</td>\n      <td>[]</td>\n      <td>[]</td>\n      <td>[]</td>\n      <td>[]</td>\n    </tr>\n    <tr>\n      <th>...</th>\n      <td>...</td>\n      <td>...</td>\n      <td>...</td>\n      <td>...</td>\n      <td>...</td>\n      <td>...</td>\n      <td>...</td>\n      <td>...</td>\n      <td>...</td>\n      <td>...</td>\n      <td>...</td>\n    </tr>\n    <tr>\n      <th>57</th>\n      <td>[]</td>\n      <td>2021-03-05</td>\n      <td>[Resolución de 23 de febrero de 2021, de la Di...</td>\n      <td>[BOE-A-2021-3453]</td>\n      <td>[]</td>\n      <td>[]</td>\n      <td>[]</td>\n      <td>[]</td>\n      <td>[]</td>\n      <td>[]</td>\n      <td>[]</td>\n    </tr>\n    <tr>\n      <th>58</th>\n      <td>[]</td>\n      <td>2021-03-05</td>\n      <td>[Orden APA/191/2021, de 2 de marzo, por la que...</td>\n      <td>[BOE-A-2021-3447]</td>\n      <td>[]</td>\n      <td>[]</td>\n      <td>[]</td>\n      <td>[]</td>\n      <td>[]</td>\n      <td>[]</td>\n      <td>[]</td>\n    </tr>\n    <tr>\n      <th>59</th>\n      <td>[Cultura y ocio]</td>\n      <td>2021-03-05</td>\n      <td>[Acuerdo 20/2021, de 18 de febrero, de la Junt...</td>\n      <td>[BOE-A-2021-3484]</td>\n      <td>[]</td>\n      <td>[]</td>\n      <td>[]</td>\n      <td>[]</td>\n      <td>[]</td>\n      <td>[]</td>\n      <td>[]</td>\n    </tr>\n    <tr>\n      <th>60</th>\n      <td>[]</td>\n      <td>2021-03-05</td>\n      <td>[Orden APA/190/2021, de 2 de marzo, por la que...</td>\n      <td>[BOE-A-2021-3446]</td>\n      <td>[]</td>\n      <td>[]</td>\n      <td>[]</td>\n      <td>[]</td>\n      <td>[]</td>\n      <td>[]</td>\n      <td>[]</td>\n    </tr>\n    <tr>\n      <th>61</th>\n      <td>[]</td>\n      <td>2021-03-05</td>\n      <td>[Resolución de 23 de febrero de 2021, de la Di...</td>\n      <td>[BOE-A-2021-3452]</td>\n      <td>[]</td>\n      <td>[]</td>\n      <td>[]</td>\n      <td>[]</td>\n      <td>[]</td>\n      <td>[]</td>\n      <td>[]</td>\n    </tr>\n  </tbody>\n</table>\n<p>62 rows × 11 columns</p>\n</div>"
     },
     "metadata": {},
     "execution_count": 731
    }
   ],
   "source": [
    "tabla_analisis"
   ]
  },
  {
   "cell_type": "code",
   "execution_count": 732,
   "metadata": {},
   "outputs": [
    {
     "output_type": "stream",
     "name": "stdout",
     "text": [
      "MODIFICA el art. 10.3 del Real Decreto 92/2018, de 2 de marzo\nCITA Estatuto aprobado por Real Decreto 1441/2001, de 21 de diciembre\nDEROGA la Orden ESS/486/2013, de 26 de marzo\nDE CONFORMIDAD con la Ley General de la Seguridad Social, texto refundido aprobado por Real Decreto Legislativo 8/2015, de 30 de octubre\nDE CONFORMIDAD con los arts. 5 y 6 de la Ley 39/2015, de 1 de octubre\nACTUALIZA el anexo 1 de la Resolución de 4 de julio de 2017\nDE CONFORMIDAD con el art. 3 de la Orden TED/776/2020, de 4 de agosto\nDE CONFORMIDAD con la disposición transitoria 3 del Real Decreto 738/2015, de 31 de julio\nCITA Ley 38/1992, de 28 de diciembre\nDEROGA salvo lo indicado de la disposición derogatoria única, con efectos desde el 14 de julio de 2021, la Resolución de 7 de julio de 2016\nDE CONFORMIDAD con el apartado 7.2.e) de la Orden PRE/1576/2002, de 19 de junio\nDECLARA la vigencia de la disposición adicional única de la Resolución de 30 de abril de 2010\nDE CONFORMIDAD con el art. 90.2 y 3 de la Ley del Estatuto de los Trabajadores, texto refundido aprobado por Real Decreto Legislativo 2/2015, de 23 de octubre\nDE CONFORMIDAD con el Real Decreto 713/2010, de 28 de mayo\nEN RELACIÓN con el Convenio publicado por Resolución de 19 de julio de 2019\nDE CONFORMIDAD con el art. 98.1 de la Ley Orgánica 6/1985, de 1 de julio\nCORRECCIÓN de errores de la Orden APA/858/2020, de 9 de septiembre\n"
     ]
    }
   ],
   "source": [
    "texto = ''\n",
    "for refs in tabla_analisis['Referencias_completas']:\n",
    "    for ref in refs:\n",
    "        texto = texto + ref + ' '\n",
    "        print(ref)"
   ]
  },
  {
   "cell_type": "code",
   "execution_count": 733,
   "metadata": {},
   "outputs": [
    {
     "output_type": "stream",
     "name": "stdout",
     "text": [
      "\n",
      "['BOE-B-2021-10602']['Anuncio de licitación de: ADIF - Presidencia. Objeto: Implantación de una Solución Integral para la Presentación Geográfica y Descripción de las Instalaciones de Servicio de ADIF, ADIF AV y otros Explotadores. Expediente: 4.20/41110.0142.']\n",
      "\n",
      "\n",
      "['BOE-A-2021-3477']['Resolución de 23 de febrero de 2021, de la Subsecretaría, por la que se aprueba la actualización de cinco Cartas de Servicios del Instituto de Mayores y Servicios Sociales.']\n",
      "\n",
      "\n",
      "['BOE-A-2021-3463']['Resolución de 23 de febrero de 2021, de la Dirección General del Libro y Fomento de la Lectura, por la que se convoca el Premio Nacional de Literatura en la modalidad de Poesía Joven \"Miguel Hernández\" correspondiente a 2021.']\n",
      "\n",
      "\n",
      "['BOE-A-2021-3462']['Resolución de 23 de febrero de 2021, de la Dirección General del Libro y Fomento de la Lectura, por la que se convoca el Premio Nacional de Literatura en la modalidad de Poesía correspondiente a 2021.']\n",
      "\n",
      "\n",
      "['BOE-A-2021-3476']['Resolución de 23 de febrero de 2021, de la Dirección General de Seguros y Fondos de Pensiones, por la que se publica la aprobación por la autoridad de supervisión de Reino Unido de la cesión de cartera de la sucursal en España de AMT Mortgage Insurance Limited a AmTrust International Underwriters DAC.']\n",
      "\n",
      "\n",
      "['BOE-B-2021-10603']['Anuncio de formalización de contratos de: Presidencia del Consejo de Administración de la Autoridad Portuaria de Barcelona (PORT DE BARCELONA). Objeto: Servicios de asesoramiento TIC para la Autoridad Portuaria de Barcelona 2021/2022. Clave de expediente 2020R310007. Expediente: 2020-00285.']\n",
      "\n",
      "\n",
      "['BOE-B-2021-10601']['Anuncio de formalización de contratos de: ADIF - Presidencia. Objeto: Ejecución de las obras del proyecto de adecuación gabinete de circulación tipo B en la estación de La Palma del Condado (Huelva). Expediente: 3.20/46502.0023.']\n",
      "\n",
      "\n",
      "['BOE-A-2021-3448']['Orden APA/192/2021, de 2 de marzo, por la que se dispone la concesión de títulos de obtención vegetal en el Registro de Variedades Protegidas.']\n",
      "\n",
      "\n",
      "['BOE-A-2021-3460']['Resolución de 23 de febrero de 2021, de la Dirección General del Libro y Fomento de la Lectura, por la que se convoca el Premio Nacional de Literatura en la modalidad de Literatura Dramática correspondiente a 2021.']\n",
      "\n",
      "\n",
      "['BOE-A-2021-3474']['Resolución de 25 de febrero de 2021, de la Secretaría General de Administración Digital, por la que se publica el Convenio con la Universidad de Valencia, para la utilización de la \"Gestión Integrada de servicios de Registro\" como aplicación integral de registro.']\n",
      "\n",
      "\n",
      "['BOE-A-2021-3475']['Resolución de 25 de febrero de 2021, de la Secretaría General de Administración Digital, por la que se publica el Convenio con la Universidad Jaume I de Castellón, para la utilización de la \"Gestión Integrada de servicios de Registro\" como aplicación integral de registro.']\n",
      "\n",
      "\n",
      "['BOE-A-2021-3461']['Resolución de 23 de febrero de 2021, de la Dirección General del Libro y Fomento de la Lectura, por la que se convoca el Premio Nacional de Literatura en la modalidad de Narrativa correspondiente a 2021.']\n",
      "\n",
      "\n",
      "['BOE-A-2021-3449']['Orden APA/193/2021, de 2 de marzo, por la que se dispone la renovación de la inscripción de diversas variedades de distintas especies en el Registro de Variedades Comerciales.']\n",
      "\n",
      "\n",
      "['BOE-B-2021-10600']['Anuncio de formalización de contratos de: ADIF - Presidencia. Objeto: Ejecución de las obras del proyecto de adecuación del gabinte de circulación tipo B de la estación de Santa Justa (Sevilla). Expediente: 3.20/46502.0022.']\n",
      "\n",
      "\n",
      "['BOE-B-2021-10604']['Anuncio de licitación de: ADIF - Presidencia. Objeto: Sustitución de desvíos en bifurcación Almería y bifurcación Granada. Infraestructura y Superestructura. Expediente: 3.20/27507.0186.']\n",
      "\n",
      "\n",
      "['BOE-A-2021-3465']['Resolución de 23 de febrero de 2021, de la Dirección General del Libro y Fomento de la Lectura, por la que se convoca el Premio Nacional de Periodismo Cultural correspondiente a 2021.']\n",
      "\n",
      "\n",
      "['BOE-A-2021-3471']['Resolución de 25 de febrero de 2021, de la Secretaría General de Administración Digital, por la que se publica el Convenio con la Universidad de Salamanca, para la utilización de la \"Gestión Integrada de servicios de Registro\" como aplicación integral de registro.']\n",
      "\n",
      "\n",
      "['BOE-A-2021-3459']['Resolución de 23 de febrero de 2021, de la Dirección General del Libro y Fomento de la Lectura, por la que se convoca el Premio Nacional de Literatura en la modalidad de Ensayo correspondiente a 2021.']\n",
      "\n",
      "\n",
      "['BOE-B-2021-10599']['Anuncio de corrección de errores de: Delegación Especial de la Agencia Estatal de Administración Tributaria de Madrid. Objeto: Servicio de localización, retirada, transporte, depósito y custodia de vehículos y de otros bienes muebles no perecederos. Expediente: 20B20101000.']\n",
      "\n",
      "\n",
      "['BOE-B-2021-10598']['Anuncio de formalización de contratos de: Dirección del Servicio de Gestión Económica de la Agencia Estatal de la Administración Tributaria. Objeto: Servicio de soporte técnico para el producto ElasticSearch en la Agencia Estatal de Administración Tributaria. Expediente: 20840101400.']\n",
      "\n",
      "\n",
      "['BOE-A-2021-3458']['Resolución de 23 de febrero de 2021, de la Dirección General del Libro y Fomento de la Lectura, por la que se convoca el Premio Nacional de las Letras Españolas correspondiente a 2021.']\n",
      "\n",
      "\n",
      "['BOE-A-2021-3470']['Resolución de 25 de febrero de 2021, de la Secretaría General de Administración Digital, por la que se publica el Convenio con la Universidad de las Illes Balears, para la utilización de la \"Gestión Integrada de servicios de Registro\" como aplicación integral de registro.']\n",
      "\n",
      "\n",
      "['BOE-A-2021-3464']['Resolución de 23 de febrero de 2021, de la Dirección General del Libro y Fomento de la Lectura, por la que se convoca el Premio Nacional de Literatura modalidad Literatura Infantil y Juvenil correspondiente a 2021.']\n",
      "\n",
      "\n",
      "['BOE-B-2021-10605']['Anuncio de formalización de contratos de: Dirección General del Servicio Público de Empleo Estatal. Objeto: Obra de reforma para la mejora de le eficiencia energética y de la fachada de la Dirección Provincial del SEPE en Salamanca. Expediente: PAS 2/21.']\n",
      "\n",
      "\n",
      "['BOE-B-2021-10607']['Anuncio de formalización de contratos de: INSS-Dirección Provincial de Murcia. Objeto: Contratación de los servicios de vigilancia y seguridad en 7 centros de atención e información de la Seguridad Social (CAISS) de la Dirección Provincial del INSS de Murcia, desde el 1 de febrero hasta el 31 de diciembre de 2021. Expediente: 30/VC-60/21.']\n",
      "\n",
      "\n",
      "['BOE-A-2021-3472']['Resolución de 25 de febrero de 2021, de la Secretaría General de Administración Digital, por la que se publica el Convenio con la Universidad de León, para la utilización de la \"Gestión Integrada de servicios de Registro\" como aplicación integral de registro.']\n",
      "\n",
      "\n",
      "['BOE-A-2021-3466']['Resolución de 23 de febrero de 2021, de la Dirección General del Libro y Fomento de la Lectura, por la que se convoca el Premio Nacional del Cómic correspondiente a 2021.']\n",
      "\n",
      "\n",
      "['BOE-A-2021-3467']['Resolución de 25 de febrero de 2021, de la Secretaría General de Administración Digital, por la que se publica el Convenio con la Universidad de Extremadura, para la utilización de la \"Gestión Integrada de servicios de Registro\" como aplicación integral de registro.']\n",
      "\n",
      "\n",
      "['BOE-A-2021-3473']['Resolución de 25 de febrero de 2021, de la Secretaría General de Administración Digital, por la que se publica el Convenio con la Universidad de Alicante, para la utilización de la \"Gestión Integrada de servicios de Registro\" como aplicación integral de registro.']\n",
      "\n",
      "\n",
      "['BOE-B-2021-10606']['Anuncio de formalización de contratos de: Dirección General de la Entidad Pública Empresarial RED.ES. Objeto: Servicio para la configuración de un modelo integral de evaluación. Expediente: 066/20-DG.']\n",
      "\n",
      "\n",
      "['BOE-A-2021-3417']['Real Decreto 94/2021, de 16 de febrero, por el que se modifica el Real Decreto 92/2018, de 2 de marzo, por el que se regula el régimen de los organismos pagadores y de coordinación con los fondos europeos agrícolas, FEAGA y FEADER.']\n",
      "\n",
      "\tAntecedente 1: MODIFICA el art. 10.3 del Real Decreto 92/2018, de 2 de marzo ['Real Decreto 92/2018']\n",
      "\tAntecedente 2: CITA Estatuto aprobado por Real Decreto 1441/2001, de 21 de diciembre ['Real Decreto 1441/2001']\n",
      "\n",
      "['BOE-A-2021-3421']['Orden ISM/189/2021, de 3 de marzo, por la que se regula el Registro electrónico de apoderamientos de la Seguridad Social.']\n",
      "\n",
      "\tAntecedente 1: DEROGA la Orden ESS/486/2013, de 26 de marzo ['Orden ESS/486/2013']\n",
      "\tAntecedente 2: DE CONFORMIDAD con la Ley General de la Seguridad Social, texto refundido aprobado por Real Decreto Legislativo 8/2015, de 30 de octubre ['Real Decreto Legislativo 8/2015']\n",
      "\tAntecedente 3: DE CONFORMIDAD con los arts. 5 y 6 de la Ley 39/2015, de 1 de octubre ['Ley 39/2015']\n",
      "\n",
      "['BOE-A-2021-3420']['Resolución de 4 de marzo de 2021, de la Secretaría General del Tesoro y Financiación Internacional, por la que se actualiza el Anexo 1 de la Resolución de 4 de julio de 2017, de la Secretaría General del Tesoro y Política Financiera, por la que se define el principio de prudencia financiera aplicable a las operaciones de endeudamiento y derivados de las comunidades autónomas y entidades locales.']\n",
      "\n",
      "\tAntecedente 1: ACTUALIZA el anexo 1 de la Resolución de 4 de julio de 2017 ['Resolución de 4 de julio de 2017']\n",
      "\n",
      "['BOE-A-2021-3418']['Resolución de 25 de febrero de 2021, de la Dirección General de Política Energética y Minas, por la que se fijan los precios del producto e impuestos especiales aplicables a la hulla, fuel oil, diésel oil y gasoil del segundo semestre de 2020, a aplicar en la liquidación de dicho periodo de los grupos generadores ubicados en los territorios no peninsulares.']\n",
      "\n",
      "\tAntecedente 1: DE CONFORMIDAD con el art. 3 de la Orden TED/776/2020, de 4 de agosto ['Orden TED/776/2020']\n",
      "\tAntecedente 2: DE CONFORMIDAD con la disposición transitoria 3 del Real Decreto 738/2015, de 31 de julio ['Real Decreto 738/2015']\n",
      "\tAntecedente 3: CITA Ley 38/1992, de 28 de diciembre ['Ley 38/1992']\n",
      "\n",
      "['BOE-A-2021-3419']['Resolución de 2 de marzo de 2021, conjunta de la Intervención General de la Administración del Estado y de la Dirección General del Tesoro y Política Financiera, por la que se regula el procedimiento para la realización de ciertos pagos a través de agentes mediadores.']\n",
      "\n",
      "\tAntecedente 1: DEROGA salvo lo indicado de la disposición derogatoria única, con efectos desde el 14 de julio de 2021, la Resolución de 7 de julio de 2016 ['Resolución de 7 de julio de 2016']\n",
      "\tAntecedente 2: DE CONFORMIDAD con el apartado 7.2.e) de la Orden PRE/1576/2002, de 19 de junio ['Orden PRE/1576/2002']\n",
      "\tAntecedente 3: DECLARA la vigencia de la disposición adicional única de la Resolución de 30 de abril de 2010 ['Resolución de 30 de abril de 2010']\n",
      "\n",
      "['BOE-A-2021-3456']['Resolución de 23 de febrero de 2021, de la Dirección General del Libro y Fomento de la Lectura, por la que se convoca el Premio Nacional de Historia de España correspondiente a 2021.']\n",
      "\n",
      "\n",
      "['BOE-A-2021-3442']['Resolución 320/38055/2021, de 16 de febrero, de la Dirección General de Armamento y Material, por la que se renueva la homologación del disparo de 20 x 102 mm Vulcan TP (M-55A2), fabricado por Nammo Palencia, SL.']\n",
      "\n",
      "\n",
      "['BOE-A-2021-3481']['Resolución de 18 de enero de 2021, de la Dirección General de Energía, Seguridad Industrial y Seguridad Minera, del Departamento de Empresa y Conocimiento, por la que se prorroga la autorización a Isabel Cabanillas, SA, del laboratorio C-20, como laboratorio autorizado para el ensayo y contraste de objetos fabricados con metales preciosos (plata).']\n",
      "\n",
      "\n",
      "['BOE-A-2021-3480']['Resolución de 18 de enero de 2021, de la Dirección General de Energía, Seguridad Industrial y Seguridad Minera, del Departamento de Empresa y Conocimiento, por la que se autoriza un modelo, para su uso e instalación en la red, de un transformador de medida de tensión en media tensión, marca RS Isolsec, modelo E..BMA.']\n",
      "\n",
      "\n",
      "['BOE-B-2021-10597']['Anuncio de formalización de contratos de: Intendente de Rota. Objeto: Servicio de control de atmósferas en tanques y espacios vacíos instalados en los buques de la armada española apoyados por el arsenal de Cádiz y aquellos en transito de otros arsenales. Expediente: 20202/AR46U/00001579.']\n",
      "\n",
      "\n",
      "['BOE-A-2021-3443']['Resolución de 23 de febrero de 2021, de la Dirección General de Trabajo, por la que se registran y publican la revisión salarial para el año 2021 y tabla salarial del Convenio colectivo del Grupo Champion.']\n",
      "\n",
      "\tAntecedente 1: DE CONFORMIDAD con el art. 90.2 y 3 de la Ley del Estatuto de los Trabajadores, texto refundido aprobado por Real Decreto Legislativo 2/2015, de 23 de octubre ['Real Decreto Legislativo 2/2015']\n",
      "\tAntecedente 2: DE CONFORMIDAD con el Real Decreto 713/2010, de 28 de mayo ['Real Decreto 713/2010']\n",
      "\tAntecedente 3: EN RELACIÓN con el Convenio publicado por Resolución de 19 de julio de 2019 ['Resolución de 19 de julio de 2019']\n",
      "\n",
      "['BOE-A-2021-3457']['Resolución de 23 de febrero de 2021, de la Dirección General del Libro y Fomento de la Lectura, por la que se convoca el Premio Nacional de Ilustración correspondiente a 2021.']\n",
      "\n",
      "\n",
      "['BOE-B-2021-10608']['Anuncio de licitación de: Comisión Nacional del Mercado de Valores. Objeto: Vigilancia de la salud. Expediente: 21/20.']\n",
      "\n",
      "\n",
      "['BOE-A-2021-3469']['Resolución de 25 de febrero de 2021, de la Secretaría General de Administración Digital, por la que se publica el Convenio con la Universidad de A Coruña, para la utilización de la \"Gestión Integrada de servicios de Registro\" como aplicación integral de registro.']\n",
      "\n",
      "\n",
      "['BOE-A-2021-3441']['Resolución 320/38054/2021, de 17 de febrero, de la Dirección General de Armamento y Material, por la que se renueva la homologación del disparo 20 x 102 mm Vulcan TP-T (M-220), fabricado por Nammo Palencia, SL.']\n",
      "\n",
      "\n",
      "['BOE-A-2021-3455']['Resolución de 23 de febrero de 2021, de la Dirección General del Libro y Fomento de la Lectura, por la que se convoca el Premio Nacional al Fomento de la Lectura correspondiente a 2021.']\n",
      "\n",
      "\n",
      "['BOE-A-2021-3482']['Resolución de 8 de febrero de 2021, de la Dirección General de Energía, Seguridad Industrial y Seguridad Minera, del Departamento de Empresa y Conocimiento, por la que se autoriza el modelo para su uso e instalación en la red, de un transformador de medida de intensidad en media tensión, marca RS Isolsec, modelo J..BP.']\n",
      "\n",
      "\n",
      "['BOE-A-2021-3483']['Resolución de 8 de febrero de 2021, de la Dirección General de Energía, Seguridad Industrial y Seguridad Minera, del Departamento de Empresa y Conocimiento, por la que se autoriza un modelo, para su uso e instalación en la red, de un transformador de medida de intensidad en media tensión, marca RS Isolsec, modelo J..C.']\n",
      "\n",
      "\n",
      "['BOE-A-2021-3454']['Resolución de 23 de febrero de 2021, de la Dirección General del Libro y Fomento de la Lectura, por la que se convoca el Premio Nacional a la Obra de un Traductor correspondiente a 2021.']\n",
      "\n",
      "\n",
      "['BOE-A-2021-3440']['Acuerdo de 24 de febrero de 2021, de la Comisión Permanente del Consejo General del Poder Judicial, por el que se atribuye a determinados Juzgados de Instrucción, en virtud de lo previsto en el artículo 98.1 de la Ley Orgánica del Poder Judicial, de forma exclusiva y no excluyente, el conocimiento de solicitudes de cooperación judicial internacional de naturaleza pasiva cuyo conocimiento venga atribuido a los juzgados de instrucción.']\n",
      "\n",
      "\tAntecedente 1: DE CONFORMIDAD con el art. 98.1 de la Ley Orgánica 6/1985, de 1 de julio ['Ley Orgánica 6/1985']\n",
      "\n",
      "['BOE-A-2021-3468']['Resolución de 25 de febrero de 2021, del Instituto Nacional de Estadística, por la que se publica el Convenio con el Instituto Gallego de Estadística, para la realización de la Encuesta de Población Activa en el ámbito territorial de la Comunidad Autónoma de Galicia.']\n",
      "\n",
      "\n",
      "['BOE-A-2021-3444']['Resolución de 24 de febrero de 2021, de la Subsecretaría, por la que se aprueban los calendarios de conservación y se autoriza la eliminación de series documentales.']\n",
      "\n",
      "\n",
      "['BOE-A-2021-3450']['Resolución de 1 de marzo de 2021, de la Subsecretaría, por la que se publica el Convenio entre el Ministerio de Cultura y Deporte, el Ministerio de Hacienda, la Generalitat de Catalunya, la Diputación de Barcelona, el Ayuntamiento de Barcelona y la Fundació del Gran Teatre del Liceu, para la creación de la Comisión Interadministrativa del acontecimiento de excepcional interés público \"175 Aniversario de la construcción del Gran Teatre del Liceu\".']\n",
      "\n",
      "\n",
      "['BOE-A-2021-3478']['Resolución de 4 de marzo de 2021, del Banco de España, por la que se publican los cambios del euro correspondientes al día 4 de marzo de 2021, publicados por el Banco Central Europeo, que tendrán la consideración de cambios oficiales, de acuerdo con lo dispuesto en el artículo 36 de la Ley 46/1998, de 17 de diciembre, sobre la Introducción del Euro.']\n",
      "\n",
      "\n",
      "['BOE-A-2021-3479'][\"Acuerdo GOV/19/2021, de 23 de febrero, por el que se declara bien cultural de interés nacional, en la categoría de zona arqueológica, la villa romana de Vilauba, en los términos municipales de Camós y Porqueres (Pla de l'Estany).\"]\n",
      "\n",
      "\n",
      "['BOE-A-2021-3451']['Resolución de 25 de febrero de 2021, de la Presidencia de la Confederación Hidrográfica del Miño-Sil, O.A., por la que se publica el Convenio con el Ayuntamiento de Xinzo de Limia, para la financiación, ejecución y entrega de las obras de \"Análisis y actuaciones de consolidación de las infraestructuras hidráulicas asociadas al Monasterio del Buen Jesús de Trandeiras (Xinzo de Limia, Ourense)\".']\n",
      "\n",
      "\n",
      "['BOE-A-2021-3445']['Corrección de errores de la Orden APA/858/2020, de 9 de septiembre, por la que se definen los bienes y los rendimientos asegurables, las condiciones técnicas mínimas de cultivo, el ámbito de aplicación, los periodos de garantía, las fechas de suscripción y los precios unitarios del seguro base con garantías adicionales para uva de vinificación en la Península y en la Comunidad Autónoma de las Illes Balears, comprendido en el cuadragésimo primer Plan de Seguros Agrarios Combinados.']\n",
      "\n",
      "\tAntecedente 1: CORRECCIÓN de errores de la Orden APA/858/2020, de 9 de septiembre ['Orden APA/858/2020']\n",
      "\n",
      "['BOE-A-2021-3453']['Resolución de 23 de febrero de 2021, de la Dirección General del Libro y Fomento de la Lectura, por la que se convoca el Premio Nacional a la Mejor Traducción correspondiente a 2021.']\n",
      "\n",
      "\n",
      "['BOE-A-2021-3447']['Orden APA/191/2021, de 2 de marzo, por la que se dispone la cancelación de la inscripción de diversas variedades de distintas especies en el Registro de Variedades Comerciales.']\n",
      "\n",
      "\n",
      "['BOE-A-2021-3484']['Acuerdo 20/2021, de 18 de febrero, de la Junta de Castilla y León, por el que se declara bien de interés cultural, con categoría de conjunto histórico, la Villa de Presencio (Burgos).']\n",
      "\n",
      "\n",
      "['BOE-A-2021-3446']['Orden APA/190/2021, de 2 de marzo, por la que se dispone la inclusión de diversas variedades de distintas especies en el Registro de Variedades Comerciales.']\n",
      "\n",
      "\n",
      "['BOE-A-2021-3452']['Resolución de 23 de febrero de 2021, de la Dirección General del Libro y Fomento de la Lectura, por la que se convoca el Premio Nacional a la Mejor Labor Editorial Cultural correspondiente a 2021.']\n",
      "\n"
     ]
    }
   ],
   "source": [
    "texto = ''\n",
    "for i, row in tabla_analisis.iterrows():\n",
    "    #unique_id = i\n",
    "    print('\\n' + str(row['Item_id']) + str(row['Item_Name']) +'\\n')\n",
    "\n",
    "    antecedente = 1\n",
    "    for ref in row['Referencias_completas']:\n",
    "        texto = texto + ref + ' '\n",
    "        print('\\t' + 'Antecedente ' + str(antecedente) + ': ' + ref + ' ' + str(re.findall('|'.join(pattern), ref, flags=re.IGNORECASE)))\n",
    "        antecedente += 1"
   ]
  },
  {
   "cell_type": "code",
   "execution_count": 734,
   "metadata": {},
   "outputs": [],
   "source": [
    "# Aplica expresiones REGEX para búsqueda de leyes, decretos, etc. referenciadas anteriormente\n",
    "regex_result = re.findall('|'.join(pattern), texto, flags=re.IGNORECASE)"
   ]
  },
  {
   "cell_type": "code",
   "execution_count": 735,
   "metadata": {},
   "outputs": [
    {
     "output_type": "stream",
     "name": "stdout",
     "text": [
      "['Real Decreto 92/2018', 'Real Decreto 1441/2001', 'Orden ESS/486/2013', 'Real Decreto Legislativo 8/2015', 'Ley 39/2015', 'Resolución de 4 de julio de 2017', 'Orden TED/776/2020', 'Real Decreto 738/2015', 'Ley 38/1992', 'Resolución de 7 de julio de 2016', 'Orden PRE/1576/2002', 'Resolución de 30 de abril de 2010', 'Real Decreto Legislativo 2/2015', 'Real Decreto 713/2010', 'Resolución de 19 de julio de 2019', 'Ley Orgánica 6/1985', 'Orden APA/858/2020']\n"
     ]
    }
   ],
   "source": [
    "print(regex_result)"
   ]
  },
  {
   "cell_type": "code",
   "execution_count": 736,
   "metadata": {},
   "outputs": [],
   "source": [
    "## Elimina duplicados\n",
    "boletin_flat_list = list(set(regex_result))"
   ]
  },
  {
   "cell_type": "code",
   "execution_count": 737,
   "metadata": {},
   "outputs": [
    {
     "output_type": "execute_result",
     "data": {
      "text/plain": [
       "['Real Decreto Legislativo 2/2015',\n",
       " 'Real Decreto 92/2018',\n",
       " 'Real Decreto 713/2010',\n",
       " 'Orden PRE/1576/2002',\n",
       " 'Orden ESS/486/2013',\n",
       " 'Orden APA/858/2020',\n",
       " 'Resolución de 4 de julio de 2017',\n",
       " 'Ley 39/2015',\n",
       " 'Resolución de 19 de julio de 2019',\n",
       " 'Resolución de 7 de julio de 2016',\n",
       " 'Real Decreto 738/2015',\n",
       " 'Ley Orgánica 6/1985',\n",
       " 'Orden TED/776/2020',\n",
       " 'Ley 38/1992',\n",
       " 'Resolución de 30 de abril de 2010',\n",
       " 'Real Decreto Legislativo 8/2015',\n",
       " 'Real Decreto 1441/2001']"
      ]
     },
     "metadata": {},
     "execution_count": 737
    }
   ],
   "source": [
    "boletin_flat_list"
   ]
  },
  {
   "source": [
    "## Importa BBDD ASECORP"
   ],
   "cell_type": "markdown",
   "metadata": {}
  },
  {
   "cell_type": "code",
   "execution_count": 738,
   "metadata": {},
   "outputs": [],
   "source": [
    "ASECORP_BBDD = pd.read_csv('./ASECORP/ExportNormes_20210126.csv', delimiter=';')"
   ]
  },
  {
   "cell_type": "code",
   "execution_count": 739,
   "metadata": {},
   "outputs": [
    {
     "output_type": "execute_result",
     "data": {
      "text/plain": [
       "                        Codigo      Numero  \\\n",
       "0       RES SLT/2313/2020 CAT         2313   \n",
       "1      (zzz) RES 12/4/2007 AST   12/4/2007   \n",
       "2           A CORUÑA 10/7/2015   10/7/2015   \n",
       "3       A CORUÑA 11/8/2014 (1)   11/8/2014   \n",
       "4       A CORUÑA 11/8/2014 (2)   11/8/2014   \n",
       "...                        ...         ...   \n",
       "19152          ZUMAIA 1/3/2001    1/3/2001   \n",
       "19153        ZUMAIA 12/11/1999  12/11/1999   \n",
       "19154         ZUMAIA 15/6/2012   15/6/2012   \n",
       "19155          ZUMAIA 6/2/2004    6/2/2004   \n",
       "19156          ZUMAIA 9/2/2004    9/2/2004   \n",
       "\n",
       "                                                  Titulo CodigoAmbito  \\\n",
       "0      Resolución SLT/2313/2020, de 24 de septiembre,...          CAT   \n",
       "1      Resolución de 12 abril de 2007, de la Consejer...          AST   \n",
       "2      Modificación de la Ordenanza de vertidos y ser...          GAL   \n",
       "3      Ordenanza municipal reguladora de los procedim...          GAL   \n",
       "4      Ordenanza de protección contra la contaminació...          GAL   \n",
       "...                                                  ...          ...   \n",
       "19152  Ordenanza reguladora de la gestión del ciclo i...          PVA   \n",
       "19153  Normativa complementaria de las Normas Subsidi...          PVA   \n",
       "19154  Modificación de la Ordenanza municipal de la g...          PVA   \n",
       "19155  Modificación de la Normativa complementaria de...          PVA   \n",
       "19156  Reglamento regulador del vertido a colector de...          PVA   \n",
       "\n",
       "           Ambito Municipio   TiposNorma IdTiposNorma  \n",
       "0        Cataluña       NaN   Prevención          [2]  \n",
       "1        Asturias       NaN  M. Ambiente          [1]  \n",
       "2         Galicia  A Coruña  M. Ambiente          [1]  \n",
       "3         Galicia  A Coruña  M. Ambiente          [1]  \n",
       "4         Galicia  A Coruña  M. Ambiente          [1]  \n",
       "...           ...       ...          ...          ...  \n",
       "19152  Pais Vasco    Zumaia  M. Ambiente          [1]  \n",
       "19153  Pais Vasco    Zumaia  M. Ambiente          [1]  \n",
       "19154  Pais Vasco    Zumaia  M. Ambiente          [1]  \n",
       "19155  Pais Vasco    Zumaia  M. Ambiente          [1]  \n",
       "19156  Pais Vasco    Zumaia  M. Ambiente          [1]  \n",
       "\n",
       "[19157 rows x 8 columns]"
      ],
      "text/html": "<div>\n<style scoped>\n    .dataframe tbody tr th:only-of-type {\n        vertical-align: middle;\n    }\n\n    .dataframe tbody tr th {\n        vertical-align: top;\n    }\n\n    .dataframe thead th {\n        text-align: right;\n    }\n</style>\n<table border=\"1\" class=\"dataframe\">\n  <thead>\n    <tr style=\"text-align: right;\">\n      <th></th>\n      <th>Codigo</th>\n      <th>Numero</th>\n      <th>Titulo</th>\n      <th>CodigoAmbito</th>\n      <th>Ambito</th>\n      <th>Municipio</th>\n      <th>TiposNorma</th>\n      <th>IdTiposNorma</th>\n    </tr>\n  </thead>\n  <tbody>\n    <tr>\n      <th>0</th>\n      <td>RES SLT/2313/2020 CAT</td>\n      <td>2313</td>\n      <td>Resolución SLT/2313/2020, de 24 de septiembre,...</td>\n      <td>CAT</td>\n      <td>Cataluña</td>\n      <td>NaN</td>\n      <td>Prevención</td>\n      <td>[2]</td>\n    </tr>\n    <tr>\n      <th>1</th>\n      <td>(zzz) RES 12/4/2007 AST</td>\n      <td>12/4/2007</td>\n      <td>Resolución de 12 abril de 2007, de la Consejer...</td>\n      <td>AST</td>\n      <td>Asturias</td>\n      <td>NaN</td>\n      <td>M. Ambiente</td>\n      <td>[1]</td>\n    </tr>\n    <tr>\n      <th>2</th>\n      <td>A CORUÑA 10/7/2015</td>\n      <td>10/7/2015</td>\n      <td>Modificación de la Ordenanza de vertidos y ser...</td>\n      <td>GAL</td>\n      <td>Galicia</td>\n      <td>A Coruña</td>\n      <td>M. Ambiente</td>\n      <td>[1]</td>\n    </tr>\n    <tr>\n      <th>3</th>\n      <td>A CORUÑA 11/8/2014 (1)</td>\n      <td>11/8/2014</td>\n      <td>Ordenanza municipal reguladora de los procedim...</td>\n      <td>GAL</td>\n      <td>Galicia</td>\n      <td>A Coruña</td>\n      <td>M. Ambiente</td>\n      <td>[1]</td>\n    </tr>\n    <tr>\n      <th>4</th>\n      <td>A CORUÑA 11/8/2014 (2)</td>\n      <td>11/8/2014</td>\n      <td>Ordenanza de protección contra la contaminació...</td>\n      <td>GAL</td>\n      <td>Galicia</td>\n      <td>A Coruña</td>\n      <td>M. Ambiente</td>\n      <td>[1]</td>\n    </tr>\n    <tr>\n      <th>...</th>\n      <td>...</td>\n      <td>...</td>\n      <td>...</td>\n      <td>...</td>\n      <td>...</td>\n      <td>...</td>\n      <td>...</td>\n      <td>...</td>\n    </tr>\n    <tr>\n      <th>19152</th>\n      <td>ZUMAIA 1/3/2001</td>\n      <td>1/3/2001</td>\n      <td>Ordenanza reguladora de la gestión del ciclo i...</td>\n      <td>PVA</td>\n      <td>Pais Vasco</td>\n      <td>Zumaia</td>\n      <td>M. Ambiente</td>\n      <td>[1]</td>\n    </tr>\n    <tr>\n      <th>19153</th>\n      <td>ZUMAIA 12/11/1999</td>\n      <td>12/11/1999</td>\n      <td>Normativa complementaria de las Normas Subsidi...</td>\n      <td>PVA</td>\n      <td>Pais Vasco</td>\n      <td>Zumaia</td>\n      <td>M. Ambiente</td>\n      <td>[1]</td>\n    </tr>\n    <tr>\n      <th>19154</th>\n      <td>ZUMAIA 15/6/2012</td>\n      <td>15/6/2012</td>\n      <td>Modificación de la Ordenanza municipal de la g...</td>\n      <td>PVA</td>\n      <td>Pais Vasco</td>\n      <td>Zumaia</td>\n      <td>M. Ambiente</td>\n      <td>[1]</td>\n    </tr>\n    <tr>\n      <th>19155</th>\n      <td>ZUMAIA 6/2/2004</td>\n      <td>6/2/2004</td>\n      <td>Modificación de la Normativa complementaria de...</td>\n      <td>PVA</td>\n      <td>Pais Vasco</td>\n      <td>Zumaia</td>\n      <td>M. Ambiente</td>\n      <td>[1]</td>\n    </tr>\n    <tr>\n      <th>19156</th>\n      <td>ZUMAIA 9/2/2004</td>\n      <td>9/2/2004</td>\n      <td>Reglamento regulador del vertido a colector de...</td>\n      <td>PVA</td>\n      <td>Pais Vasco</td>\n      <td>Zumaia</td>\n      <td>M. Ambiente</td>\n      <td>[1]</td>\n    </tr>\n  </tbody>\n</table>\n<p>19157 rows × 8 columns</p>\n</div>"
     },
     "metadata": {},
     "execution_count": 739
    }
   ],
   "source": [
    "ASECORP_BBDD"
   ]
  },
  {
   "cell_type": "code",
   "execution_count": 740,
   "metadata": {},
   "outputs": [],
   "source": [
    "ASECORP_BBDD_BOE = ASECORP_BBDD.loc[ASECORP_BBDD['Ambito'] == 'España']"
   ]
  },
  {
   "cell_type": "code",
   "execution_count": 741,
   "metadata": {},
   "outputs": [
    {
     "output_type": "execute_result",
     "data": {
      "text/plain": [
       "                        Codigo      Numero  \\\n",
       "23              ACU 1/2020 ESP           1   \n",
       "35           ACU 11/6/2007 ESP   11/6/2007   \n",
       "57          ACU 17/10/2006 ESP  17/10/2006   \n",
       "71          ACU 19/11/2018 ESP  19/11/2018   \n",
       "82              ACU 2/2020 ESP           2   \n",
       "...                        ...         ...   \n",
       "18496          STC 86/2019 ESP          86   \n",
       "18497          STC 87/2019 ESP          87   \n",
       "18498          STC 88/2018 ESP          88   \n",
       "18499         STC 9/3/2010 ESP    9/3/2010   \n",
       "18879  verificación de calidad           1   \n",
       "\n",
       "                                                  Titulo CodigoAmbito  Ambito  \\\n",
       "23     Acuerdo Multilateral RID 1/2020 en virtud de l...          ESP  España   \n",
       "35     Entrada en vigor del Acuerdo entre el Reino de...          ESP  España   \n",
       "57     Aplicación provisional del Acuerdo entre el Re...          ESP  España   \n",
       "71     Acuerdo de la Junta de Gobierno de la Confeder...          ESP  España   \n",
       "82     Acuerdo Multilateral RID 2/2020 en virtud de l...          ESP  España   \n",
       "...                                                  ...          ...     ...   \n",
       "18496  Sentencia 86/2019, de 20 de junio de 2019. Rec...          ESP  España   \n",
       "18497  Sentencia 87/2019, de 20 de junio de 2019. Rec...          ESP  España   \n",
       "18498  Sentencia 88/2018, de 19 de julio de 2018. Con...          ESP  España   \n",
       "18499  Sentencia de 9 de marzo de 2010, de la Sala Te...          ESP  España   \n",
       "18879   Norma verificación calidad alertas en produccion          ESP  España   \n",
       "\n",
       "      Municipio                     TiposNorma IdTiposNorma  \n",
       "23          NaN       M. Ambiente / Prevención       [1][2]  \n",
       "35          NaN                    M. Ambiente          [1]  \n",
       "57          NaN                    M. Ambiente          [1]  \n",
       "71          NaN                    M. Ambiente          [1]  \n",
       "82          NaN       M. Ambiente / Prevención       [1][2]  \n",
       "...         ...                            ...          ...  \n",
       "18496       NaN                    M. Ambiente          [1]  \n",
       "18497       NaN                    M. Ambiente          [1]  \n",
       "18498       NaN  M. Ambiente / Reg. Industrial       [1][3]  \n",
       "18499       NaN                    M. Ambiente          [1]  \n",
       "18879         -                Reg. Industrial          [3]  \n",
       "\n",
       "[2959 rows x 8 columns]"
      ],
      "text/html": "<div>\n<style scoped>\n    .dataframe tbody tr th:only-of-type {\n        vertical-align: middle;\n    }\n\n    .dataframe tbody tr th {\n        vertical-align: top;\n    }\n\n    .dataframe thead th {\n        text-align: right;\n    }\n</style>\n<table border=\"1\" class=\"dataframe\">\n  <thead>\n    <tr style=\"text-align: right;\">\n      <th></th>\n      <th>Codigo</th>\n      <th>Numero</th>\n      <th>Titulo</th>\n      <th>CodigoAmbito</th>\n      <th>Ambito</th>\n      <th>Municipio</th>\n      <th>TiposNorma</th>\n      <th>IdTiposNorma</th>\n    </tr>\n  </thead>\n  <tbody>\n    <tr>\n      <th>23</th>\n      <td>ACU 1/2020 ESP</td>\n      <td>1</td>\n      <td>Acuerdo Multilateral RID 1/2020 en virtud de l...</td>\n      <td>ESP</td>\n      <td>España</td>\n      <td>NaN</td>\n      <td>M. Ambiente / Prevención</td>\n      <td>[1][2]</td>\n    </tr>\n    <tr>\n      <th>35</th>\n      <td>ACU 11/6/2007 ESP</td>\n      <td>11/6/2007</td>\n      <td>Entrada en vigor del Acuerdo entre el Reino de...</td>\n      <td>ESP</td>\n      <td>España</td>\n      <td>NaN</td>\n      <td>M. Ambiente</td>\n      <td>[1]</td>\n    </tr>\n    <tr>\n      <th>57</th>\n      <td>ACU 17/10/2006 ESP</td>\n      <td>17/10/2006</td>\n      <td>Aplicación provisional del Acuerdo entre el Re...</td>\n      <td>ESP</td>\n      <td>España</td>\n      <td>NaN</td>\n      <td>M. Ambiente</td>\n      <td>[1]</td>\n    </tr>\n    <tr>\n      <th>71</th>\n      <td>ACU 19/11/2018 ESP</td>\n      <td>19/11/2018</td>\n      <td>Acuerdo de la Junta de Gobierno de la Confeder...</td>\n      <td>ESP</td>\n      <td>España</td>\n      <td>NaN</td>\n      <td>M. Ambiente</td>\n      <td>[1]</td>\n    </tr>\n    <tr>\n      <th>82</th>\n      <td>ACU 2/2020 ESP</td>\n      <td>2</td>\n      <td>Acuerdo Multilateral RID 2/2020 en virtud de l...</td>\n      <td>ESP</td>\n      <td>España</td>\n      <td>NaN</td>\n      <td>M. Ambiente / Prevención</td>\n      <td>[1][2]</td>\n    </tr>\n    <tr>\n      <th>...</th>\n      <td>...</td>\n      <td>...</td>\n      <td>...</td>\n      <td>...</td>\n      <td>...</td>\n      <td>...</td>\n      <td>...</td>\n      <td>...</td>\n    </tr>\n    <tr>\n      <th>18496</th>\n      <td>STC 86/2019 ESP</td>\n      <td>86</td>\n      <td>Sentencia 86/2019, de 20 de junio de 2019. Rec...</td>\n      <td>ESP</td>\n      <td>España</td>\n      <td>NaN</td>\n      <td>M. Ambiente</td>\n      <td>[1]</td>\n    </tr>\n    <tr>\n      <th>18497</th>\n      <td>STC 87/2019 ESP</td>\n      <td>87</td>\n      <td>Sentencia 87/2019, de 20 de junio de 2019. Rec...</td>\n      <td>ESP</td>\n      <td>España</td>\n      <td>NaN</td>\n      <td>M. Ambiente</td>\n      <td>[1]</td>\n    </tr>\n    <tr>\n      <th>18498</th>\n      <td>STC 88/2018 ESP</td>\n      <td>88</td>\n      <td>Sentencia 88/2018, de 19 de julio de 2018. Con...</td>\n      <td>ESP</td>\n      <td>España</td>\n      <td>NaN</td>\n      <td>M. Ambiente / Reg. Industrial</td>\n      <td>[1][3]</td>\n    </tr>\n    <tr>\n      <th>18499</th>\n      <td>STC 9/3/2010 ESP</td>\n      <td>9/3/2010</td>\n      <td>Sentencia de 9 de marzo de 2010, de la Sala Te...</td>\n      <td>ESP</td>\n      <td>España</td>\n      <td>NaN</td>\n      <td>M. Ambiente</td>\n      <td>[1]</td>\n    </tr>\n    <tr>\n      <th>18879</th>\n      <td>verificación de calidad</td>\n      <td>1</td>\n      <td>Norma verificación calidad alertas en produccion</td>\n      <td>ESP</td>\n      <td>España</td>\n      <td>-</td>\n      <td>Reg. Industrial</td>\n      <td>[3]</td>\n    </tr>\n  </tbody>\n</table>\n<p>2959 rows × 8 columns</p>\n</div>"
     },
     "metadata": {},
     "execution_count": 741
    }
   ],
   "source": [
    "ASECORP_BBDD_BOE"
   ]
  },
  {
   "cell_type": "code",
   "execution_count": 742,
   "metadata": {},
   "outputs": [],
   "source": [
    "# Crea nueva columna vacía de tipo lista en ASECORP_BBDD\n",
    "ASECORP_BBDD_BOE['Tags'] = [[] for i in range(len(ASECORP_BBDD_BOE))]"
   ]
  },
  {
   "cell_type": "code",
   "execution_count": 743,
   "metadata": {},
   "outputs": [],
   "source": [
    "titulo = []\n",
    "for i, row in ASECORP_BBDD_BOE.iterrows():\n",
    "    titulo.append(str(row['Titulo']) + str(re.findall('|'.join(pattern), str(row['Titulo']), flags=re.IGNORECASE)))\n",
    "    ASECORP_BBDD_BOE['Tags'][i] = re.findall('|'.join(pattern), str(row['Titulo']), flags=re.IGNORECASE)"
   ]
  },
  {
   "cell_type": "code",
   "execution_count": 744,
   "metadata": {},
   "outputs": [
    {
     "output_type": "execute_result",
     "data": {
      "text/plain": [
       "                      Codigo     Numero  \\\n",
       "11629  ORD PRE/2827/2009 ESP       2827   \n",
       "11630  ORD PRE/2843/2009 ESP       2843   \n",
       "11631  ORD PRE/2851/2010 ESP       2851   \n",
       "11632  ORD PRE/2871/2011 ESP       2871   \n",
       "11633  ORD PRE/2872/2011 ESP       2872   \n",
       "11634    ORD PRE/29/2004 ESP         29   \n",
       "11635  ORD PRE/2922/2005 ESP       2922   \n",
       "11636  ORD PRE/2957/2008 ESP       2957   \n",
       "11637     ORD PRE/3/2006 ESP          3   \n",
       "11638  ORD PRE/3159/2004 ESP       3159   \n",
       "11639   ORD PRE/321/2009 ESP        321   \n",
       "11640  ORD PRE/3271/2011 ESP       3271   \n",
       "11641  ORD PRE/3290/2002 ESP       3290   \n",
       "11642  ORD PRE/3297/2004 ESP       3297   \n",
       "11643  ORD PRE/3298/2004 ESP       3298   \n",
       "11644  ORD PRE/3302/2006 ESP       3302   \n",
       "11645  ORD PRE/3338/2007 ESP       3338   \n",
       "11647  ORD PRE/3420/2007 ESP       3420   \n",
       "11648  ORD PRE/3476/2003 ESP       3476   \n",
       "11649  ORD PRE/3539/2008 ESP       3539   \n",
       "11650   ORD PRE/370/2012 ESP        370   \n",
       "11651   ORD PRE/374/2008 ESP        374   \n",
       "11652   ORD PRE/375/2003 ESP        375   \n",
       "11653  ORD PRE/3834/2005 ESP       3834   \n",
       "11654  ORD PRE/3856/2005 ESP       3856   \n",
       "11655  ORD PRE/3929/2004 ESP       3929   \n",
       "11656   ORD PRE/402/2006 ESP        402   \n",
       "11657   ORD PRE/402/2008 CAT        402   \n",
       "11658   ORD PRE/456/2007 ESP        456   \n",
       "11659   ORD PRE/468/2008 ESP        468   \n",
       "11660   ORD PRE/473/2004 ESP        473   \n",
       "11661   ORD PRE/507/2008 ESP        507   \n",
       "11662    ORD PRE/52/2010 ESP  23/1/2010   \n",
       "11663   ORD PRE/531/2010 ESP        531   \n",
       "11664   ORD PRE/556/2005 ESP        556   \n",
       "11665   ORD PRE/568/2009 ESP        568   \n",
       "11666   ORD PRE/628/2011 ESP        628   \n",
       "11667   ORD PRE/629/2011 ESP        629   \n",
       "11668   ORD PRE/630/2011 ESP        630   \n",
       "11669   ORD PRE/631/2011 ESP        631   \n",
       "11670   ORD PRE/662/2013 ESP        662   \n",
       "11671   ORD PRE/675/2013 ESP        675   \n",
       "11672   ORD PRE/690/2005 ESP        690   \n",
       "11673   ORD PRE/696/2008 ESP        696   \n",
       "11674   ORD PRE/730/2003 ESP        730   \n",
       "11675    ORD PRE/77/2008 ESP         77   \n",
       "11676   ORD PRE/772/2016 ESP        772   \n",
       "11677   ORD PRE/777/2009 ESP        777   \n",
       "11678   ORD PRE/777/2011 ESP        777   \n",
       "11679   ORD PRE/839/2010 ESP        839   \n",
       "\n",
       "                                                  Titulo CodigoAmbito  Ambito  \\\n",
       "11629  Orden PRE/2827/2009, de 19 de octubre, por la ...          ESP  España   \n",
       "11630  Orden PRE/2843/2009, de 19 de octubre, por la ...          ESP  España   \n",
       "11631  Orden PRE/2851/2010, de 4 de noviembre, por la...          ESP  España   \n",
       "11632  Orden PRE/2871/2011, de 25 de octubre, por la ...          ESP  España   \n",
       "11633  Orden PRE/2872/2011, de 25 de octubre, por la ...          ESP  España   \n",
       "11634  Orden PRE/29/2004, de 15 de enero, por la que ...          ESP  España   \n",
       "11635  Orden PRE/2922/2005, de 19 de septiembre, por ...          ESP  España   \n",
       "11636  Orden PRE/2957/2008, de 10 de octubre, por la ...          ESP  España   \n",
       "11637  Orden PRE/3/2006, de 12 de enero, por la que s...          ESP  España   \n",
       "11638  Orden PRE/3159/2004, de 28 de septiembre, por ...          ESP  España   \n",
       "11639  Orden PRE/321/2009, de 13 de febrero, por la q...          ESP  España   \n",
       "11640  Orden PRE/3271/2011, de 25 de noviembre, por l...          ESP  España   \n",
       "11641  Orden PRE/3290/2002, de 23 de diciembre, por l...          ESP  España   \n",
       "11642  Orden PRE/3297/2004, de 13 de octubre, por la ...          ESP  España   \n",
       "11643  Orden PRE/3298/2004, de 13 de octubre, por la ...          ESP  España   \n",
       "11644  Orden PRE/3302/2006, de 27 de octubre, por la ...          ESP  España   \n",
       "11645  Orden PRE/3338/2007, de 15 de noviembre, por l...          ESP  España   \n",
       "11647  Orden PRE/3420/2007, de 14 de noviembre, por l...          ESP  España   \n",
       "11648  Orden PRE/3476/2003, de 9 de diciembre, por la...          ESP  España   \n",
       "11649  Orden PRE/3539/2008, de 28 de noviembre, por l...          ESP  España   \n",
       "11650  Orden PRE/370/2012, de 27 de febrero, por la q...          ESP  España   \n",
       "11651  Orden PRE/374/2008, de 31 de enero, por la que...          ESP  España   \n",
       "11652  Orden PRE/375/2003, de 24 de febrero, por la q...          ESP  España   \n",
       "11653  Orden PRE/3834/2005, de 9 de diciembre, por la...          ESP  España   \n",
       "11654  Orden PRE/3856/2005, de 12 de diciembre, por l...          ESP  España   \n",
       "11655  Orden PRE/3929/2004, de 30 de noviembre, por l...          ESP  España   \n",
       "11656  Orden PRE/402/2006, de 16 de febrero, por la q...          ESP  España   \n",
       "11657  Orden PRE/402/2008, de 28 de agosto, por la qu...          ESP  España   \n",
       "11658  Orden PRE/456/2007, de 28 de febrero, por la q...          ESP  España   \n",
       "11659  Orden PRE/468/2008, de 15 de febrero, por la q...          ESP  España   \n",
       "11660  Orden PRE/473/2004, de 25 de febrero, por la q...          ESP  España   \n",
       "11661  Orden PRE/507/2008, de 26 de febrero, por la q...          ESP  España   \n",
       "11662  Orden PRE/52/2010, de 21 de enero, por la que ...          ESP  España   \n",
       "11663  Orden PRE/531/2010, de 26 de febrero, por la q...          ESP  España   \n",
       "11664  Orden PRE/556/2005, de 10 de marzo, por la que...          ESP  España   \n",
       "11665  Orden PRE/568/2009, de 5 de marzo, por la que ...          ESP  España   \n",
       "11666  Orden PRE/628/2011, de 22 de marzo, por la que...          ESP  España   \n",
       "11667  Orden PRE/629/2011, de 22 de marzo, por la que...          ESP  España   \n",
       "11668  Orden PRE/630/2011, de 23 de marzo, por la que...          ESP  España   \n",
       "11669  Orden PRE/631/2011, de 23 de marzo, por la que...          ESP  España   \n",
       "11670  Orden PRE/662/2013, de 22 de abril, por la que...          ESP  España   \n",
       "11671  Orden PRE/675/2013, de 22 de abril, por la que...          ESP  España   \n",
       "11672  Orden PRE/690/2005, de 18 de marzo, por la que...          ESP  España   \n",
       "11673  Orden PRE/696/2008, de 7 de marzo, por la que ...          ESP  España   \n",
       "11674  Orden PRE/730/2003, de 25 de marzo, por la que...          ESP  España   \n",
       "11675  Orden PRE/77/2008, de 17 de enero, por la que ...          ESP  España   \n",
       "11676  Orden PRE/772/2016, de 19 de mayo, por la que ...          ESP  España   \n",
       "11677  Orden PRE/777/2009, de 26 de marzo, por la que...          ESP  España   \n",
       "11678  Orden PRE/777/2011, de 4 de abril, por la que ...          ESP  España   \n",
       "11679  Orden PRE/839/2010, de 29 de marzo, por la que...          ESP  España   \n",
       "\n",
       "      Municipio                TiposNorma IdTiposNorma  \\\n",
       "11629       NaN               M. Ambiente          [1]   \n",
       "11630       NaN  M. Ambiente / Prevención       [1][2]   \n",
       "11631       NaN  M. Ambiente / Prevención       [1][2]   \n",
       "11632       NaN  M. Ambiente / Prevención       [1][2]   \n",
       "11633       NaN  M. Ambiente / Prevención       [1][2]   \n",
       "11634       NaN               M. Ambiente          [1]   \n",
       "11635       NaN  M. Ambiente / Prevención       [1][2]   \n",
       "11636       NaN  M. Ambiente / Prevención       [1][2]   \n",
       "11637       NaN  M. Ambiente / Prevención       [1][2]   \n",
       "11638       NaN  M. Ambiente / Prevención       [1][2]   \n",
       "11639       NaN  M. Ambiente / Prevención       [1][2]   \n",
       "11640       NaN  M. Ambiente / Prevención       [1][2]   \n",
       "11641       NaN  M. Ambiente / Prevención       [1][2]   \n",
       "11642       NaN  M. Ambiente / Prevención       [1][2]   \n",
       "11643       NaN           Reg. Industrial          [3]   \n",
       "11644       NaN  M. Ambiente / Prevención       [1][2]   \n",
       "11645       NaN  M. Ambiente / Prevención       [1][2]   \n",
       "11647       NaN               M. Ambiente          [1]   \n",
       "11648       NaN  M. Ambiente / Prevención       [1][2]   \n",
       "11649       NaN               M. Ambiente          [1]   \n",
       "11650       NaN               M. Ambiente          [1]   \n",
       "11651       NaN  M. Ambiente / Prevención       [1][2]   \n",
       "11652       NaN  M. Ambiente / Prevención       [1][2]   \n",
       "11653       NaN               M. Ambiente          [1]   \n",
       "11654       NaN  M. Ambiente / Prevención       [1][2]   \n",
       "11655       NaN  M. Ambiente / Prevención       [1][2]   \n",
       "11656       NaN  M. Ambiente / Prevención       [1][2]   \n",
       "11657       NaN           Reg. Industrial          [3]   \n",
       "11658       NaN  M. Ambiente / Prevención       [1][2]   \n",
       "11659       NaN               M. Ambiente          [1]   \n",
       "11660       NaN  M. Ambiente / Prevención       [1][2]   \n",
       "11661       NaN  M. Ambiente / Prevención       [1][2]   \n",
       "11662       NaN            Seguridad Vial          [5]   \n",
       "11663       NaN  M. Ambiente / Prevención       [1][2]   \n",
       "11664       NaN  M. Ambiente / Prevención       [1][2]   \n",
       "11665       NaN                Prevención          [2]   \n",
       "11666       NaN          Seg. Alimentaria          [7]   \n",
       "11667         -            Seguridad Vial          [5]   \n",
       "11668       NaN  M. Ambiente / Prevención       [1][2]   \n",
       "11669       NaN  M. Ambiente / Prevención       [1][2]   \n",
       "11670       NaN  M. Ambiente / Prevención       [1][2]   \n",
       "11671       NaN  M. Ambiente / Prevención       [1][2]   \n",
       "11672       NaN  M. Ambiente / Prevención       [1][2]   \n",
       "11673       NaN  M. Ambiente / Prevención       [1][2]   \n",
       "11674       NaN  M. Ambiente / Prevención       [1][2]   \n",
       "11675       NaN               M. Ambiente          [1]   \n",
       "11676       NaN               M. Ambiente          [1]   \n",
       "11677       NaN  M. Ambiente / Prevención       [1][2]   \n",
       "11678       NaN  M. Ambiente / Prevención       [1][2]   \n",
       "11679       NaN  M. Ambiente / Prevención       [1][2]   \n",
       "\n",
       "                                                    Tags  \n",
       "11629      [Orden PRE/2827/2009, Real Decreto 1370/2006]  \n",
       "11630      [Orden PRE/2843/2009, Real Decreto 2163/1994]  \n",
       "11631      [Orden PRE/2851/2010, Real Decreto 2163/1994]  \n",
       "11632      [Orden PRE/2871/2011, Real Decreto 2163/1994]  \n",
       "11633      [Orden PRE/2872/2011, Real Decreto 2163/1994]  \n",
       "11634         [Orden PRE/29/2004, Real Decreto 837/2002]  \n",
       "11635  [Orden PRE/2922/2005, Orden de 8 de marzo de 1...  \n",
       "11636      [Orden PRE/2957/2008, Real Decreto 2163/1994]  \n",
       "11637          [Orden PRE/3/2006, Real Decreto 255/2003]  \n",
       "11638      [Orden PRE/3159/2004, Real Decreto 1406/1989]  \n",
       "11639       [Orden PRE/321/2009, Real Decreto 1054/2002]  \n",
       "11640      [Orden PRE/3271/2011, Real Decreto 1054/2002]  \n",
       "11641      [Orden PRE/3290/2002, Real Decreto 2163/1994]  \n",
       "11642      [Orden PRE/3297/2004, Real Decreto 2163/1994]  \n",
       "11643      [Orden PRE/3298/2004, Real Decreto 2822/1998]  \n",
       "11644      [Orden PRE/3302/2006, Real Decreto 2163/1994]  \n",
       "11645      [Orden PRE/3338/2007, Real Decreto 2163/1994]  \n",
       "11647                              [Orden PRE/3420/2007]  \n",
       "11648      [Orden PRE/3476/2003, Real Decreto 2163/1994]  \n",
       "11649                              [Orden PRE/3539/2008]  \n",
       "11650       [Orden PRE/370/2012, Real Decreto 1383/2002]  \n",
       "11651       [Orden PRE/374/2008, Real Decreto 1406/1989]  \n",
       "11652       [Orden PRE/375/2003, Real Decreto 1406/1989]  \n",
       "11653                              [Orden PRE/3834/2005]  \n",
       "11654      [Orden PRE/3856/2005, Real Decreto 2163/1994]  \n",
       "11655      [Orden PRE/3929/2004, Real Decreto 2163/1994]  \n",
       "11656           [Orden PRE/402/2006, Orden PRE/690/2005]  \n",
       "11657                               [Orden PRE/402/2008]  \n",
       "11658       [Orden PRE/456/2007, Real Decreto 2163/1994]  \n",
       "11659                               [Orden PRE/468/2008]  \n",
       "11660            [Orden PRE/473/2004, Decreto 1406/1989]  \n",
       "11661       [Orden PRE/507/2008, Real Decreto 1054/2002]  \n",
       "11662        [Orden PRE/52/2010, Real Decreto 2822/1998]  \n",
       "11663       [Orden PRE/531/2010, Real Decreto 2163/1994]  \n",
       "11664  [Orden PRE/556/2005, Orden PRE/473/2004, Real ...  \n",
       "11665        [Orden PRE/568/2009, Real Decreto 258/1999]  \n",
       "11666        [Orden PRE/628/2011, Real Decreto 866/2008]  \n",
       "11667       [Orden PRE/629/2011, Real Decreto 2822/1998]  \n",
       "11668        [Orden PRE/630/2011, Real Decreto 824/2005]  \n",
       "11669       [Orden PRE/631/2011, Real Decreto 2163/1994]  \n",
       "11670       [Orden PRE/662/2013, Real Decreto 1054/2002]  \n",
       "11671       [Orden PRE/675/2013, Real Decreto 1054/2002]  \n",
       "11672                               [Orden PRE/690/2005]  \n",
       "11673       [Orden PRE/696/2008, Real Decreto 2163/1994]  \n",
       "11674       [Orden PRE/730/2003, Real Decreto 1406/1989]  \n",
       "11675                                [Orden PRE/77/2008]  \n",
       "11676        [Orden PRE/772/2016, Real Decreto 219/2013]  \n",
       "11677       [Orden PRE/777/2009, Real Decreto 2163/1994]  \n",
       "11678       [Orden PRE/777/2011, Real Decreto 1054/2002]  \n",
       "11679       [Orden PRE/839/2010, Real Decreto 2163/1994]  "
      ],
      "text/html": "<div>\n<style scoped>\n    .dataframe tbody tr th:only-of-type {\n        vertical-align: middle;\n    }\n\n    .dataframe tbody tr th {\n        vertical-align: top;\n    }\n\n    .dataframe thead th {\n        text-align: right;\n    }\n</style>\n<table border=\"1\" class=\"dataframe\">\n  <thead>\n    <tr style=\"text-align: right;\">\n      <th></th>\n      <th>Codigo</th>\n      <th>Numero</th>\n      <th>Titulo</th>\n      <th>CodigoAmbito</th>\n      <th>Ambito</th>\n      <th>Municipio</th>\n      <th>TiposNorma</th>\n      <th>IdTiposNorma</th>\n      <th>Tags</th>\n    </tr>\n  </thead>\n  <tbody>\n    <tr>\n      <th>11629</th>\n      <td>ORD PRE/2827/2009 ESP</td>\n      <td>2827</td>\n      <td>Orden PRE/2827/2009, de 19 de octubre, por la ...</td>\n      <td>ESP</td>\n      <td>España</td>\n      <td>NaN</td>\n      <td>M. Ambiente</td>\n      <td>[1]</td>\n      <td>[Orden PRE/2827/2009, Real Decreto 1370/2006]</td>\n    </tr>\n    <tr>\n      <th>11630</th>\n      <td>ORD PRE/2843/2009 ESP</td>\n      <td>2843</td>\n      <td>Orden PRE/2843/2009, de 19 de octubre, por la ...</td>\n      <td>ESP</td>\n      <td>España</td>\n      <td>NaN</td>\n      <td>M. Ambiente / Prevención</td>\n      <td>[1][2]</td>\n      <td>[Orden PRE/2843/2009, Real Decreto 2163/1994]</td>\n    </tr>\n    <tr>\n      <th>11631</th>\n      <td>ORD PRE/2851/2010 ESP</td>\n      <td>2851</td>\n      <td>Orden PRE/2851/2010, de 4 de noviembre, por la...</td>\n      <td>ESP</td>\n      <td>España</td>\n      <td>NaN</td>\n      <td>M. Ambiente / Prevención</td>\n      <td>[1][2]</td>\n      <td>[Orden PRE/2851/2010, Real Decreto 2163/1994]</td>\n    </tr>\n    <tr>\n      <th>11632</th>\n      <td>ORD PRE/2871/2011 ESP</td>\n      <td>2871</td>\n      <td>Orden PRE/2871/2011, de 25 de octubre, por la ...</td>\n      <td>ESP</td>\n      <td>España</td>\n      <td>NaN</td>\n      <td>M. Ambiente / Prevención</td>\n      <td>[1][2]</td>\n      <td>[Orden PRE/2871/2011, Real Decreto 2163/1994]</td>\n    </tr>\n    <tr>\n      <th>11633</th>\n      <td>ORD PRE/2872/2011 ESP</td>\n      <td>2872</td>\n      <td>Orden PRE/2872/2011, de 25 de octubre, por la ...</td>\n      <td>ESP</td>\n      <td>España</td>\n      <td>NaN</td>\n      <td>M. Ambiente / Prevención</td>\n      <td>[1][2]</td>\n      <td>[Orden PRE/2872/2011, Real Decreto 2163/1994]</td>\n    </tr>\n    <tr>\n      <th>11634</th>\n      <td>ORD PRE/29/2004 ESP</td>\n      <td>29</td>\n      <td>Orden PRE/29/2004, de 15 de enero, por la que ...</td>\n      <td>ESP</td>\n      <td>España</td>\n      <td>NaN</td>\n      <td>M. Ambiente</td>\n      <td>[1]</td>\n      <td>[Orden PRE/29/2004, Real Decreto 837/2002]</td>\n    </tr>\n    <tr>\n      <th>11635</th>\n      <td>ORD PRE/2922/2005 ESP</td>\n      <td>2922</td>\n      <td>Orden PRE/2922/2005, de 19 de septiembre, por ...</td>\n      <td>ESP</td>\n      <td>España</td>\n      <td>NaN</td>\n      <td>M. Ambiente / Prevención</td>\n      <td>[1][2]</td>\n      <td>[Orden PRE/2922/2005, Orden de 8 de marzo de 1...</td>\n    </tr>\n    <tr>\n      <th>11636</th>\n      <td>ORD PRE/2957/2008 ESP</td>\n      <td>2957</td>\n      <td>Orden PRE/2957/2008, de 10 de octubre, por la ...</td>\n      <td>ESP</td>\n      <td>España</td>\n      <td>NaN</td>\n      <td>M. Ambiente / Prevención</td>\n      <td>[1][2]</td>\n      <td>[Orden PRE/2957/2008, Real Decreto 2163/1994]</td>\n    </tr>\n    <tr>\n      <th>11637</th>\n      <td>ORD PRE/3/2006 ESP</td>\n      <td>3</td>\n      <td>Orden PRE/3/2006, de 12 de enero, por la que s...</td>\n      <td>ESP</td>\n      <td>España</td>\n      <td>NaN</td>\n      <td>M. Ambiente / Prevención</td>\n      <td>[1][2]</td>\n      <td>[Orden PRE/3/2006, Real Decreto 255/2003]</td>\n    </tr>\n    <tr>\n      <th>11638</th>\n      <td>ORD PRE/3159/2004 ESP</td>\n      <td>3159</td>\n      <td>Orden PRE/3159/2004, de 28 de septiembre, por ...</td>\n      <td>ESP</td>\n      <td>España</td>\n      <td>NaN</td>\n      <td>M. Ambiente / Prevención</td>\n      <td>[1][2]</td>\n      <td>[Orden PRE/3159/2004, Real Decreto 1406/1989]</td>\n    </tr>\n    <tr>\n      <th>11639</th>\n      <td>ORD PRE/321/2009 ESP</td>\n      <td>321</td>\n      <td>Orden PRE/321/2009, de 13 de febrero, por la q...</td>\n      <td>ESP</td>\n      <td>España</td>\n      <td>NaN</td>\n      <td>M. Ambiente / Prevención</td>\n      <td>[1][2]</td>\n      <td>[Orden PRE/321/2009, Real Decreto 1054/2002]</td>\n    </tr>\n    <tr>\n      <th>11640</th>\n      <td>ORD PRE/3271/2011 ESP</td>\n      <td>3271</td>\n      <td>Orden PRE/3271/2011, de 25 de noviembre, por l...</td>\n      <td>ESP</td>\n      <td>España</td>\n      <td>NaN</td>\n      <td>M. Ambiente / Prevención</td>\n      <td>[1][2]</td>\n      <td>[Orden PRE/3271/2011, Real Decreto 1054/2002]</td>\n    </tr>\n    <tr>\n      <th>11641</th>\n      <td>ORD PRE/3290/2002 ESP</td>\n      <td>3290</td>\n      <td>Orden PRE/3290/2002, de 23 de diciembre, por l...</td>\n      <td>ESP</td>\n      <td>España</td>\n      <td>NaN</td>\n      <td>M. Ambiente / Prevención</td>\n      <td>[1][2]</td>\n      <td>[Orden PRE/3290/2002, Real Decreto 2163/1994]</td>\n    </tr>\n    <tr>\n      <th>11642</th>\n      <td>ORD PRE/3297/2004 ESP</td>\n      <td>3297</td>\n      <td>Orden PRE/3297/2004, de 13 de octubre, por la ...</td>\n      <td>ESP</td>\n      <td>España</td>\n      <td>NaN</td>\n      <td>M. Ambiente / Prevención</td>\n      <td>[1][2]</td>\n      <td>[Orden PRE/3297/2004, Real Decreto 2163/1994]</td>\n    </tr>\n    <tr>\n      <th>11643</th>\n      <td>ORD PRE/3298/2004 ESP</td>\n      <td>3298</td>\n      <td>Orden PRE/3298/2004, de 13 de octubre, por la ...</td>\n      <td>ESP</td>\n      <td>España</td>\n      <td>NaN</td>\n      <td>Reg. Industrial</td>\n      <td>[3]</td>\n      <td>[Orden PRE/3298/2004, Real Decreto 2822/1998]</td>\n    </tr>\n    <tr>\n      <th>11644</th>\n      <td>ORD PRE/3302/2006 ESP</td>\n      <td>3302</td>\n      <td>Orden PRE/3302/2006, de 27 de octubre, por la ...</td>\n      <td>ESP</td>\n      <td>España</td>\n      <td>NaN</td>\n      <td>M. Ambiente / Prevención</td>\n      <td>[1][2]</td>\n      <td>[Orden PRE/3302/2006, Real Decreto 2163/1994]</td>\n    </tr>\n    <tr>\n      <th>11645</th>\n      <td>ORD PRE/3338/2007 ESP</td>\n      <td>3338</td>\n      <td>Orden PRE/3338/2007, de 15 de noviembre, por l...</td>\n      <td>ESP</td>\n      <td>España</td>\n      <td>NaN</td>\n      <td>M. Ambiente / Prevención</td>\n      <td>[1][2]</td>\n      <td>[Orden PRE/3338/2007, Real Decreto 2163/1994]</td>\n    </tr>\n    <tr>\n      <th>11647</th>\n      <td>ORD PRE/3420/2007 ESP</td>\n      <td>3420</td>\n      <td>Orden PRE/3420/2007, de 14 de noviembre, por l...</td>\n      <td>ESP</td>\n      <td>España</td>\n      <td>NaN</td>\n      <td>M. Ambiente</td>\n      <td>[1]</td>\n      <td>[Orden PRE/3420/2007]</td>\n    </tr>\n    <tr>\n      <th>11648</th>\n      <td>ORD PRE/3476/2003 ESP</td>\n      <td>3476</td>\n      <td>Orden PRE/3476/2003, de 9 de diciembre, por la...</td>\n      <td>ESP</td>\n      <td>España</td>\n      <td>NaN</td>\n      <td>M. Ambiente / Prevención</td>\n      <td>[1][2]</td>\n      <td>[Orden PRE/3476/2003, Real Decreto 2163/1994]</td>\n    </tr>\n    <tr>\n      <th>11649</th>\n      <td>ORD PRE/3539/2008 ESP</td>\n      <td>3539</td>\n      <td>Orden PRE/3539/2008, de 28 de noviembre, por l...</td>\n      <td>ESP</td>\n      <td>España</td>\n      <td>NaN</td>\n      <td>M. Ambiente</td>\n      <td>[1]</td>\n      <td>[Orden PRE/3539/2008]</td>\n    </tr>\n    <tr>\n      <th>11650</th>\n      <td>ORD PRE/370/2012 ESP</td>\n      <td>370</td>\n      <td>Orden PRE/370/2012, de 27 de febrero, por la q...</td>\n      <td>ESP</td>\n      <td>España</td>\n      <td>NaN</td>\n      <td>M. Ambiente</td>\n      <td>[1]</td>\n      <td>[Orden PRE/370/2012, Real Decreto 1383/2002]</td>\n    </tr>\n    <tr>\n      <th>11651</th>\n      <td>ORD PRE/374/2008 ESP</td>\n      <td>374</td>\n      <td>Orden PRE/374/2008, de 31 de enero, por la que...</td>\n      <td>ESP</td>\n      <td>España</td>\n      <td>NaN</td>\n      <td>M. Ambiente / Prevención</td>\n      <td>[1][2]</td>\n      <td>[Orden PRE/374/2008, Real Decreto 1406/1989]</td>\n    </tr>\n    <tr>\n      <th>11652</th>\n      <td>ORD PRE/375/2003 ESP</td>\n      <td>375</td>\n      <td>Orden PRE/375/2003, de 24 de febrero, por la q...</td>\n      <td>ESP</td>\n      <td>España</td>\n      <td>NaN</td>\n      <td>M. Ambiente / Prevención</td>\n      <td>[1][2]</td>\n      <td>[Orden PRE/375/2003, Real Decreto 1406/1989]</td>\n    </tr>\n    <tr>\n      <th>11653</th>\n      <td>ORD PRE/3834/2005 ESP</td>\n      <td>3834</td>\n      <td>Orden PRE/3834/2005, de 9 de diciembre, por la...</td>\n      <td>ESP</td>\n      <td>España</td>\n      <td>NaN</td>\n      <td>M. Ambiente</td>\n      <td>[1]</td>\n      <td>[Orden PRE/3834/2005]</td>\n    </tr>\n    <tr>\n      <th>11654</th>\n      <td>ORD PRE/3856/2005 ESP</td>\n      <td>3856</td>\n      <td>Orden PRE/3856/2005, de 12 de diciembre, por l...</td>\n      <td>ESP</td>\n      <td>España</td>\n      <td>NaN</td>\n      <td>M. Ambiente / Prevención</td>\n      <td>[1][2]</td>\n      <td>[Orden PRE/3856/2005, Real Decreto 2163/1994]</td>\n    </tr>\n    <tr>\n      <th>11655</th>\n      <td>ORD PRE/3929/2004 ESP</td>\n      <td>3929</td>\n      <td>Orden PRE/3929/2004, de 30 de noviembre, por l...</td>\n      <td>ESP</td>\n      <td>España</td>\n      <td>NaN</td>\n      <td>M. Ambiente / Prevención</td>\n      <td>[1][2]</td>\n      <td>[Orden PRE/3929/2004, Real Decreto 2163/1994]</td>\n    </tr>\n    <tr>\n      <th>11656</th>\n      <td>ORD PRE/402/2006 ESP</td>\n      <td>402</td>\n      <td>Orden PRE/402/2006, de 16 de febrero, por la q...</td>\n      <td>ESP</td>\n      <td>España</td>\n      <td>NaN</td>\n      <td>M. Ambiente / Prevención</td>\n      <td>[1][2]</td>\n      <td>[Orden PRE/402/2006, Orden PRE/690/2005]</td>\n    </tr>\n    <tr>\n      <th>11657</th>\n      <td>ORD PRE/402/2008 CAT</td>\n      <td>402</td>\n      <td>Orden PRE/402/2008, de 28 de agosto, por la qu...</td>\n      <td>ESP</td>\n      <td>España</td>\n      <td>NaN</td>\n      <td>Reg. Industrial</td>\n      <td>[3]</td>\n      <td>[Orden PRE/402/2008]</td>\n    </tr>\n    <tr>\n      <th>11658</th>\n      <td>ORD PRE/456/2007 ESP</td>\n      <td>456</td>\n      <td>Orden PRE/456/2007, de 28 de febrero, por la q...</td>\n      <td>ESP</td>\n      <td>España</td>\n      <td>NaN</td>\n      <td>M. Ambiente / Prevención</td>\n      <td>[1][2]</td>\n      <td>[Orden PRE/456/2007, Real Decreto 2163/1994]</td>\n    </tr>\n    <tr>\n      <th>11659</th>\n      <td>ORD PRE/468/2008 ESP</td>\n      <td>468</td>\n      <td>Orden PRE/468/2008, de 15 de febrero, por la q...</td>\n      <td>ESP</td>\n      <td>España</td>\n      <td>NaN</td>\n      <td>M. Ambiente</td>\n      <td>[1]</td>\n      <td>[Orden PRE/468/2008]</td>\n    </tr>\n    <tr>\n      <th>11660</th>\n      <td>ORD PRE/473/2004 ESP</td>\n      <td>473</td>\n      <td>Orden PRE/473/2004, de 25 de febrero, por la q...</td>\n      <td>ESP</td>\n      <td>España</td>\n      <td>NaN</td>\n      <td>M. Ambiente / Prevención</td>\n      <td>[1][2]</td>\n      <td>[Orden PRE/473/2004, Decreto 1406/1989]</td>\n    </tr>\n    <tr>\n      <th>11661</th>\n      <td>ORD PRE/507/2008 ESP</td>\n      <td>507</td>\n      <td>Orden PRE/507/2008, de 26 de febrero, por la q...</td>\n      <td>ESP</td>\n      <td>España</td>\n      <td>NaN</td>\n      <td>M. Ambiente / Prevención</td>\n      <td>[1][2]</td>\n      <td>[Orden PRE/507/2008, Real Decreto 1054/2002]</td>\n    </tr>\n    <tr>\n      <th>11662</th>\n      <td>ORD PRE/52/2010 ESP</td>\n      <td>23/1/2010</td>\n      <td>Orden PRE/52/2010, de 21 de enero, por la que ...</td>\n      <td>ESP</td>\n      <td>España</td>\n      <td>NaN</td>\n      <td>Seguridad Vial</td>\n      <td>[5]</td>\n      <td>[Orden PRE/52/2010, Real Decreto 2822/1998]</td>\n    </tr>\n    <tr>\n      <th>11663</th>\n      <td>ORD PRE/531/2010 ESP</td>\n      <td>531</td>\n      <td>Orden PRE/531/2010, de 26 de febrero, por la q...</td>\n      <td>ESP</td>\n      <td>España</td>\n      <td>NaN</td>\n      <td>M. Ambiente / Prevención</td>\n      <td>[1][2]</td>\n      <td>[Orden PRE/531/2010, Real Decreto 2163/1994]</td>\n    </tr>\n    <tr>\n      <th>11664</th>\n      <td>ORD PRE/556/2005 ESP</td>\n      <td>556</td>\n      <td>Orden PRE/556/2005, de 10 de marzo, por la que...</td>\n      <td>ESP</td>\n      <td>España</td>\n      <td>NaN</td>\n      <td>M. Ambiente / Prevención</td>\n      <td>[1][2]</td>\n      <td>[Orden PRE/556/2005, Orden PRE/473/2004, Real ...</td>\n    </tr>\n    <tr>\n      <th>11665</th>\n      <td>ORD PRE/568/2009 ESP</td>\n      <td>568</td>\n      <td>Orden PRE/568/2009, de 5 de marzo, por la que ...</td>\n      <td>ESP</td>\n      <td>España</td>\n      <td>NaN</td>\n      <td>Prevención</td>\n      <td>[2]</td>\n      <td>[Orden PRE/568/2009, Real Decreto 258/1999]</td>\n    </tr>\n    <tr>\n      <th>11666</th>\n      <td>ORD PRE/628/2011 ESP</td>\n      <td>628</td>\n      <td>Orden PRE/628/2011, de 22 de marzo, por la que...</td>\n      <td>ESP</td>\n      <td>España</td>\n      <td>NaN</td>\n      <td>Seg. Alimentaria</td>\n      <td>[7]</td>\n      <td>[Orden PRE/628/2011, Real Decreto 866/2008]</td>\n    </tr>\n    <tr>\n      <th>11667</th>\n      <td>ORD PRE/629/2011 ESP</td>\n      <td>629</td>\n      <td>Orden PRE/629/2011, de 22 de marzo, por la que...</td>\n      <td>ESP</td>\n      <td>España</td>\n      <td>-</td>\n      <td>Seguridad Vial</td>\n      <td>[5]</td>\n      <td>[Orden PRE/629/2011, Real Decreto 2822/1998]</td>\n    </tr>\n    <tr>\n      <th>11668</th>\n      <td>ORD PRE/630/2011 ESP</td>\n      <td>630</td>\n      <td>Orden PRE/630/2011, de 23 de marzo, por la que...</td>\n      <td>ESP</td>\n      <td>España</td>\n      <td>NaN</td>\n      <td>M. Ambiente / Prevención</td>\n      <td>[1][2]</td>\n      <td>[Orden PRE/630/2011, Real Decreto 824/2005]</td>\n    </tr>\n    <tr>\n      <th>11669</th>\n      <td>ORD PRE/631/2011 ESP</td>\n      <td>631</td>\n      <td>Orden PRE/631/2011, de 23 de marzo, por la que...</td>\n      <td>ESP</td>\n      <td>España</td>\n      <td>NaN</td>\n      <td>M. Ambiente / Prevención</td>\n      <td>[1][2]</td>\n      <td>[Orden PRE/631/2011, Real Decreto 2163/1994]</td>\n    </tr>\n    <tr>\n      <th>11670</th>\n      <td>ORD PRE/662/2013 ESP</td>\n      <td>662</td>\n      <td>Orden PRE/662/2013, de 22 de abril, por la que...</td>\n      <td>ESP</td>\n      <td>España</td>\n      <td>NaN</td>\n      <td>M. Ambiente / Prevención</td>\n      <td>[1][2]</td>\n      <td>[Orden PRE/662/2013, Real Decreto 1054/2002]</td>\n    </tr>\n    <tr>\n      <th>11671</th>\n      <td>ORD PRE/675/2013 ESP</td>\n      <td>675</td>\n      <td>Orden PRE/675/2013, de 22 de abril, por la que...</td>\n      <td>ESP</td>\n      <td>España</td>\n      <td>NaN</td>\n      <td>M. Ambiente / Prevención</td>\n      <td>[1][2]</td>\n      <td>[Orden PRE/675/2013, Real Decreto 1054/2002]</td>\n    </tr>\n    <tr>\n      <th>11672</th>\n      <td>ORD PRE/690/2005 ESP</td>\n      <td>690</td>\n      <td>Orden PRE/690/2005, de 18 de marzo, por la que...</td>\n      <td>ESP</td>\n      <td>España</td>\n      <td>NaN</td>\n      <td>M. Ambiente / Prevención</td>\n      <td>[1][2]</td>\n      <td>[Orden PRE/690/2005]</td>\n    </tr>\n    <tr>\n      <th>11673</th>\n      <td>ORD PRE/696/2008 ESP</td>\n      <td>696</td>\n      <td>Orden PRE/696/2008, de 7 de marzo, por la que ...</td>\n      <td>ESP</td>\n      <td>España</td>\n      <td>NaN</td>\n      <td>M. Ambiente / Prevención</td>\n      <td>[1][2]</td>\n      <td>[Orden PRE/696/2008, Real Decreto 2163/1994]</td>\n    </tr>\n    <tr>\n      <th>11674</th>\n      <td>ORD PRE/730/2003 ESP</td>\n      <td>730</td>\n      <td>Orden PRE/730/2003, de 25 de marzo, por la que...</td>\n      <td>ESP</td>\n      <td>España</td>\n      <td>NaN</td>\n      <td>M. Ambiente / Prevención</td>\n      <td>[1][2]</td>\n      <td>[Orden PRE/730/2003, Real Decreto 1406/1989]</td>\n    </tr>\n    <tr>\n      <th>11675</th>\n      <td>ORD PRE/77/2008 ESP</td>\n      <td>77</td>\n      <td>Orden PRE/77/2008, de 17 de enero, por la que ...</td>\n      <td>ESP</td>\n      <td>España</td>\n      <td>NaN</td>\n      <td>M. Ambiente</td>\n      <td>[1]</td>\n      <td>[Orden PRE/77/2008]</td>\n    </tr>\n    <tr>\n      <th>11676</th>\n      <td>ORD PRE/772/2016 ESP</td>\n      <td>772</td>\n      <td>Orden PRE/772/2016, de 19 de mayo, por la que ...</td>\n      <td>ESP</td>\n      <td>España</td>\n      <td>NaN</td>\n      <td>M. Ambiente</td>\n      <td>[1]</td>\n      <td>[Orden PRE/772/2016, Real Decreto 219/2013]</td>\n    </tr>\n    <tr>\n      <th>11677</th>\n      <td>ORD PRE/777/2009 ESP</td>\n      <td>777</td>\n      <td>Orden PRE/777/2009, de 26 de marzo, por la que...</td>\n      <td>ESP</td>\n      <td>España</td>\n      <td>NaN</td>\n      <td>M. Ambiente / Prevención</td>\n      <td>[1][2]</td>\n      <td>[Orden PRE/777/2009, Real Decreto 2163/1994]</td>\n    </tr>\n    <tr>\n      <th>11678</th>\n      <td>ORD PRE/777/2011 ESP</td>\n      <td>777</td>\n      <td>Orden PRE/777/2011, de 4 de abril, por la que ...</td>\n      <td>ESP</td>\n      <td>España</td>\n      <td>NaN</td>\n      <td>M. Ambiente / Prevención</td>\n      <td>[1][2]</td>\n      <td>[Orden PRE/777/2011, Real Decreto 1054/2002]</td>\n    </tr>\n    <tr>\n      <th>11679</th>\n      <td>ORD PRE/839/2010 ESP</td>\n      <td>839</td>\n      <td>Orden PRE/839/2010, de 29 de marzo, por la que...</td>\n      <td>ESP</td>\n      <td>España</td>\n      <td>NaN</td>\n      <td>M. Ambiente / Prevención</td>\n      <td>[1][2]</td>\n      <td>[Orden PRE/839/2010, Real Decreto 2163/1994]</td>\n    </tr>\n  </tbody>\n</table>\n</div>"
     },
     "metadata": {},
     "execution_count": 744
    }
   ],
   "source": [
    "ASECORP_BBDD_BOE[1200:1250]"
   ]
  },
  {
   "cell_type": "code",
   "execution_count": 745,
   "metadata": {},
   "outputs": [],
   "source": [
    "# titulo"
   ]
  },
  {
   "cell_type": "code",
   "execution_count": 746,
   "metadata": {},
   "outputs": [
    {
     "output_type": "execute_result",
     "data": {
      "text/plain": [
       "2959"
      ]
     },
     "metadata": {},
     "execution_count": 746
    }
   ],
   "source": [
    "len(titulo)"
   ]
  },
  {
   "cell_type": "code",
   "execution_count": 747,
   "metadata": {},
   "outputs": [],
   "source": [
    "## Busca patrones regex definidos en columna títulos del DF \n",
    "boletin = []\n",
    "for i, row in ASECORP_BBDD_BOE.iterrows():\n",
    "    boletin.append(str(re.findall('|'.join(pattern), row['Titulo'], flags=re.IGNORECASE)))"
   ]
  },
  {
   "cell_type": "code",
   "execution_count": 748,
   "metadata": {},
   "outputs": [
    {
     "output_type": "execute_result",
     "data": {
      "text/plain": [
       "[\"['Acuerdo Multilateral RID 1/2020']\",\n",
       " '[]',\n",
       " '[]',\n",
       " '[]',\n",
       " \"['Acuerdo Multilateral RID 2/2020']\",\n",
       " '[]',\n",
       " \"['Acuerdo Multilateral RID 1/2013']\",\n",
       " '[]',\n",
       " '[]',\n",
       " '[]',\n",
       " '[]',\n",
       " \"['Acuerdo Multilateral RID 3/2007']\",\n",
       " \"['Acuerdo Multilateral RID 4/2009']\",\n",
       " '[]',\n",
       " '[]',\n",
       " \"['Acuerdo Multilateral M-150']\",\n",
       " \"['Acuerdo Multilateral M-159']\",\n",
       " \"['Acuerdo multilateral M-168']\",\n",
       " \"['Acuerdo Multilateral M-170']\",\n",
       " \"['Acuerdo Multilateral M-171']\",\n",
       " \"['Acuerdo Multilateral M-173']\",\n",
       " \"['Acuerdo Multilateral M-175']\",\n",
       " '[]',\n",
       " \"['Acuerdo Multilateral M-178']\",\n",
       " \"['Acuerdo Multilateral M-198']\"]"
      ]
     },
     "metadata": {},
     "execution_count": 748
    }
   ],
   "source": [
    "boletin[0:25]"
   ]
  },
  {
   "cell_type": "code",
   "execution_count": 749,
   "metadata": {},
   "outputs": [],
   "source": [
    "## Para cada fila de la BBDD recoge la expresión REGEX encontrada y si no existe no la incluye \n",
    "## en la lista resultante llamada 'boletin'. Además si no detecta expresión la cuenta como vacía\n",
    "## en variable 'n_vacios', y la añade a la lista 'vacios' para inspeccionar posteriormente \n",
    "boletin = []\n",
    "vacios = []\n",
    "n_vacios = 0\n",
    "for i, row in ASECORP_BBDD_BOE.iterrows():\n",
    "    regex_result = re.findall('|'.join(pattern), row['Titulo'], flags=re.IGNORECASE)\n",
    "    if len(regex_result) != 0:\n",
    "        boletin.append(re.findall('|'.join(pattern), row['Titulo'], flags=re.IGNORECASE))\n",
    "    else:\n",
    "        n_vacios += 1\n",
    "        vacios.append(row['Titulo'])"
   ]
  },
  {
   "cell_type": "code",
   "execution_count": 750,
   "metadata": {},
   "outputs": [
    {
     "output_type": "execute_result",
     "data": {
      "text/plain": [
       "225"
      ]
     },
     "metadata": {},
     "execution_count": 750
    }
   ],
   "source": [
    "n_vacios"
   ]
  },
  {
   "cell_type": "code",
   "execution_count": 751,
   "metadata": {},
   "outputs": [
    {
     "output_type": "execute_result",
     "data": {
      "text/plain": [
       "['Entrada en vigor del Acuerdo entre el Reino de España y el Principado de Andorra sobre traslado y gestión de residuos, hecho en Madrid el 17 de octubre de 2006.',\n",
       " 'Aplicación provisional del Acuerdo entre el Reino de España y el Principado de Andorra sobre traslado y gestión de residuos, hecho en Madrid el 17 de octubre de 2006.',\n",
       " 'Acuerdo de la Junta de Gobierno de la Confederación Hidrográfica del Segura celebrada el día 30 de octubre de 2018 sobre aplicación de indisponibilidad o reducción de dotaciones de acuerdo al Plan Especial de Sequía y al Real Decreto que la regula',\n",
       " 'Entrada en vigor del Acuerdo entre el Reino de España y el Principado de Andorra sobre el traslado de residuos, hecho en Madrid el 29 de noviembre de 2011.',\n",
       " 'Canje de Notas por el que se procede a la prórroga del mantenimiento en vigor del Acuerdo entre el Reino de España y el Principado de Andorra sobre traslado y gestión de residuos, hecho en Madrid el 27 de enero de 2000.',\n",
       " 'Aplicación provisional del Acuerdo entre el Reino de España y el Principado de Andorra sobre el traslado de residuos, hecho en Madrid el 29 de noviembre de 2011.',\n",
       " 'Plan de Acción de Ahorro y Eficiencia Energética  2011-2020, del 29 de julio de 2011 (IDAE)',\n",
       " 'Acuerdo Especial Multilateral RID 3/2020 en virtud de la Sección 1.5.1 del Reglamento del Transporte Internacional de Mercancías Peligrosas por Ferrocarril (RID), relativo a la inspección periódica y ensayo de recipientes a presión para el transporte de gases de la Clase 2, hecho en Madrid el 2 de abril de 2020',\n",
       " 'Acuerdo Especial Multilateral RID 4/2020 en virtud de la Sección 1.5.1 del Reglamento del Transporte Internacional de Mercancías Peligrosas por Ferrocarril (RID), sobre inspecciones periódicas o intermedias de cisternas portátiles y contenedores de gas de elementos múltiples (CGEM) certificados «UN» de acuerdo con los apartados 6.7.2.19.2, 6.7.3.15.2, 6.7.4.14.2 y 6.7.5.12.2 del RID, hecho en Madrid el 2 de abril de 2020',\n",
       " 'Acuerdo Especial Multilateral RID 8.2020 en virtud de la sección 1.5.1 del RID, relativo a la inspección periódica y ensayo de recipientes a presión para el transporte de gases de la Clase 2, hecho en Madrid el 1 de diciembre de 2020',\n",
       " 'Acuerdo multilateral ADR M-177 en virtud de la sección 1.5.1 del Acuerdo Europeo sobre transporte internacional de mercancías peligrosas por carretera (ADR), publicado en el «Boletín Oficial del Estado» n.º 18, de 21 de enero de 2005, relativo al documento de transporte en operaciones de venta en ruta, hecho en Madrid el 23 de junio de 2006.',\n",
       " 'Acuerdo Multilateral M 269 en aplicación de la sección 1.5.1 del Acuerdo Europeo sobre transporte internacional de mercancías peligrosas por carretera (ADR), relativo al marcado de los números UN en botellas para gases licuados del petróleo (GLP), hecho en Madrid el 20 de diciembre de 2013.',\n",
       " 'Acuerdo  Multilateral  M  300  en  aplicación  de  la  sección  1.5.1  del  Acuerdo Europeo sobre transporte internacional de mercancías peligrosas por carretera (ADR), relativo al documento de transporte en operaciones de venta en ruta, hecho en Madrid el 11 de julio de 2016',\n",
       " 'Acuerdo Multilateral M 304 en aplicación de la sección 1.5.1 del AcuerdoEuropeo sobre transporte internacional de mercancías peligrosas por carretera(ADR), relativo al número de remolques en una unidad de transporte demercancías peligrosas, hecho en Madrid el 30 de enero de 2017',\n",
       " 'Acuerdo Multilateral M 311 en virtud de la sección 1.5.1 del Anexo A del Acuerdo Europeo sobre transporte internacional de mercancías peligrosas por carretera (ADR), relativo al marcado (placas etiqueta) de contenedores usados exclusivamente en una operación de transporte por carretera, hecho en Madrid el 22 de marzo de 2018',\n",
       " 'Acuerdo Multilateral M315 en virtud de la sección 1.5.1 del Anexo A del Acuerdo Europeo sobre transporte internacional de mercancías peligrosas por carretera (ADR), relativo al transporte de desechos contaminados con virus que causan fiebre hemorrágica, hecho en Madrid el 8 de julio de 2019',\n",
       " 'Acuerdo Multilateral M317 en virtud de la sección 1.5. del Acuerdo europeo sobre transporte internacional de mercancías peligrosas por carretera (ADR), relativo al transporte de desechos médicos sólidos o clínicos, Categoría A, hecho en Madrid el 23 de marzo de 2020',\n",
       " 'Acuerdo Multilateral M324 en virtud de la sección 1.5.1 del Acuerdo europeo sobre transporte internacional de mercancías peligrosas por carretera (ADR) relativo a los certificados de formación de los conductores de conformidad con el punto 8.2.2.8.2 del ADR y los certificados de consejeros de seguridad de conformidad con el punto 1.8.3.7 del ADR, hecho en Madrid el 23 de marzo de 2020',\n",
       " 'Acuerdo Multilateral M325 en virtud de la sección 1.5.1 del Acuerdo europeo sobre transporte internacional de mercancías peligrosas por carretera (ADR), relativo a inspecciones periódicas o intermedias de cisternas de conformidad con los apartados 6.8.2.4.2, 6.8.2.4.3, 6.8.3.4.6, 6.8.3.4.12, 6.9.5.2 y 6.10.4 del ADR, y los certificados de aprobación para vehículos de conformidad con el apartado 9.1.3.4 del ADR, hecho en Madrid el 23 de marzo de 2020',\n",
       " 'Acuerdo Multilateral M326 en virtud de la sección 1.5.1 del Acuerdo europeo sobre transporte internacional de mercancías peligrosas por carretera (ADR), relativo a la inspección periódica y ensayo de recipientes a presión del transporte de gases de la Clase 2, hecho en Madrid el 2 de abril de 2020',\n",
       " 'Acuerdo Multilateral M327 bajo la sección 1.5.1 del Acuerdo europeo sobre transporte internacional de mercancías peligrosas por carretera (ADR), sobre inspecciones periódicas o intermedias de cisternas portátiles y contenedores de gas de elementos múltiples (CGEM) certificados «UN» de acuerdo con los apartados 6.7.2.19.2, 6.7.3.15.2, 6.7.4.14.2 y 6.7.5.12.2 del ADR, hecho en Madrid el 2 de abril de 2020',\n",
       " 'Acuerdo Multilateral M330 en virtud de la sección 1.5.1 del ADR, relativo a los certificados de formación de los conductores de conformidad con el punto 8.2.2.8.2 del ADR y los certificados de consejeros de seguridad de conformidad con el punto 1.8.3.7 del ADR, hecho en Madrid el 2 de diciembre de 2020',\n",
       " 'Acuerdo Multilateral M331 en virtud de la sección 1.5.1 del ADR, relativo a la inspección periódica y ensayo de recipientes a presión para el transporte de gases de la Clase 2, hecho en Madrid el 2 de diciembre de 2020',\n",
       " 'Acuerdo Multilateral M332 en virtud de la sección 1.5.1 del ADR, en relación con lo establecido para los materiales radiactivos de baja actividad específica BAE-III en el párrafo 2.2.7.2.3.1.4 del ADR, hecho en Madrid el 11 de diciembre de 2020',\n",
       " 'ADR 2003']"
      ]
     },
     "metadata": {},
     "execution_count": 751
    }
   ],
   "source": [
    "vacios[0:25]"
   ]
  },
  {
   "cell_type": "code",
   "execution_count": 752,
   "metadata": {},
   "outputs": [
    {
     "output_type": "execute_result",
     "data": {
      "text/plain": [
       "[['Acuerdo Multilateral RID 1/2020'],\n",
       " ['Acuerdo Multilateral RID 2/2020'],\n",
       " ['Acuerdo Multilateral RID 1/2013'],\n",
       " ['Acuerdo Multilateral RID 3/2007'],\n",
       " ['Acuerdo Multilateral RID 4/2009'],\n",
       " ['Acuerdo Multilateral M-150'],\n",
       " ['Acuerdo Multilateral M-159'],\n",
       " ['Acuerdo multilateral M-168'],\n",
       " ['Acuerdo Multilateral M-170'],\n",
       " ['Acuerdo Multilateral M-171'],\n",
       " ['Acuerdo Multilateral M-173'],\n",
       " ['Acuerdo Multilateral M-175'],\n",
       " ['Acuerdo Multilateral M-178'],\n",
       " ['Acuerdo Multilateral M-198'],\n",
       " ['Acuerdo Multilateral M-214'],\n",
       " ['Acuerdo Multilateral M-218'],\n",
       " ['Acuerdo Multilateral M-226'],\n",
       " ['Acuerdo Multilateral M-228'],\n",
       " ['Acuerdo Multilateral M-231'],\n",
       " ['Acuerdo Multilateral M-236'],\n",
       " ['Acuerdo Multilateral M-245'],\n",
       " ['Acuerdo Multilateral M-254'],\n",
       " ['Acuerdo Multilateral M-259'],\n",
       " ['Acuerdo Multilateral M-265'],\n",
       " ['Acuerdo Multilateral M-268']]"
      ]
     },
     "metadata": {},
     "execution_count": 752
    }
   ],
   "source": [
    "boletin[0:25]"
   ]
  },
  {
   "cell_type": "code",
   "execution_count": 753,
   "metadata": {},
   "outputs": [],
   "source": [
    "# Flatten list of lists\n",
    "boletin_ASECORP_flat_list = [item for sublist in boletin for item in sublist]"
   ]
  },
  {
   "cell_type": "code",
   "execution_count": 754,
   "metadata": {},
   "outputs": [
    {
     "output_type": "execute_result",
     "data": {
      "text/plain": [
       "['Acuerdo Multilateral RID 1/2020',\n",
       " 'Acuerdo Multilateral RID 2/2020',\n",
       " 'Acuerdo Multilateral RID 1/2013',\n",
       " 'Acuerdo Multilateral RID 3/2007',\n",
       " 'Acuerdo Multilateral RID 4/2009',\n",
       " 'Acuerdo Multilateral M-150',\n",
       " 'Acuerdo Multilateral M-159',\n",
       " 'Acuerdo multilateral M-168',\n",
       " 'Acuerdo Multilateral M-170',\n",
       " 'Acuerdo Multilateral M-171',\n",
       " 'Acuerdo Multilateral M-173',\n",
       " 'Acuerdo Multilateral M-175',\n",
       " 'Acuerdo Multilateral M-178',\n",
       " 'Acuerdo Multilateral M-198',\n",
       " 'Acuerdo Multilateral M-214',\n",
       " 'Acuerdo Multilateral M-218',\n",
       " 'Acuerdo Multilateral M-226',\n",
       " 'Acuerdo Multilateral M-228',\n",
       " 'Acuerdo Multilateral M-231',\n",
       " 'Acuerdo Multilateral M-236',\n",
       " 'Acuerdo Multilateral M-245',\n",
       " 'Acuerdo Multilateral M-254',\n",
       " 'Acuerdo Multilateral M-259',\n",
       " 'Acuerdo Multilateral M-265',\n",
       " 'Acuerdo Multilateral M-268']"
      ]
     },
     "metadata": {},
     "execution_count": 754
    }
   ],
   "source": [
    "boletin_ASECORP_flat_list[0:25]"
   ]
  },
  {
   "cell_type": "code",
   "execution_count": 755,
   "metadata": {},
   "outputs": [],
   "source": [
    "## Elimina duplicados\n",
    "boletin_ASECORP_flat_list = list(set(boletin_ASECORP_flat_list))"
   ]
  },
  {
   "cell_type": "code",
   "execution_count": 756,
   "metadata": {},
   "outputs": [
    {
     "output_type": "execute_result",
     "data": {
      "text/plain": [
       "['Real Decreto Legislativo 2/2011',\n",
       " 'Orden PRA/375/2018',\n",
       " 'Orden IET/2271/2015',\n",
       " 'Orden SND/413/2020',\n",
       " 'Ley 2/2013',\n",
       " 'Orden FOM/1194/2011',\n",
       " 'Ley 24/2001',\n",
       " 'Ley 27/2006',\n",
       " 'Real Decreto 920/2017',\n",
       " 'Real Decreto 997/2002',\n",
       " 'Orden MAM/698/2007',\n",
       " 'Real Decreto 1334/2012',\n",
       " 'Real Decreto 1277/2003',\n",
       " 'Resolución de 7 de octubre de 2008',\n",
       " 'Instrucción IS-16',\n",
       " 'Orden de 3 de junio de 1986',\n",
       " 'Resolución de 13 de marzo de 2009',\n",
       " 'Real Decreto 311/2016',\n",
       " 'Ley 1/2018',\n",
       " 'Orden de 6 de Octubre de 1980',\n",
       " 'Real Decreto 387/1996',\n",
       " 'Real Decreto 201/2012',\n",
       " 'Orden TEC/1196/2018',\n",
       " 'Resolución de 7 de marzo de 2017',\n",
       " 'Orden de 24 de febrero de 1993']"
      ]
     },
     "metadata": {},
     "execution_count": 756
    }
   ],
   "source": [
    "boletin_ASECORP_flat_list[0:25]"
   ]
  },
  {
   "cell_type": "code",
   "execution_count": 757,
   "metadata": {},
   "outputs": [
    {
     "output_type": "execute_result",
     "data": {
      "text/plain": [
       "{'Ley 38/1992',\n",
       " 'Real Decreto 738/2015',\n",
       " 'Real Decreto Legislativo 2/2015',\n",
       " 'Real Decreto Legislativo 8/2015'}"
      ]
     },
     "metadata": {},
     "execution_count": 757
    }
   ],
   "source": [
    "## Busca coincidencias entre lista boletines BOEs explorados y lista boletines de BBDD ASECORP\n",
    "set(boletin_flat_list) & set(boletin_ASECORP_flat_list)"
   ]
  },
  {
   "cell_type": "code",
   "execution_count": 758,
   "metadata": {},
   "outputs": [
    {
     "output_type": "stream",
     "name": "stdout",
     "text": [
      "{'Real Decreto Legislativo 8/2015'}\n{'Ley 38/1992'}\n{'Ley 38/1992'}\n{'Real Decreto 738/2015'}\n{'Real Decreto Legislativo 2/2015'}\n"
     ]
    }
   ],
   "source": [
    "#tabla_analisis['Tags'].isin(ASECORP_BBDD_BOE['Tags'])\n",
    "for row_to_compare in tabla_analisis['Tags']:\n",
    "    for row_comparing in ASECORP_BBDD_BOE['Tags']:\n",
    "        if set(row_comparing) & set(row_to_compare):\n",
    "            print(set(row_comparing) & set(row_to_compare))"
   ]
  },
  {
   "cell_type": "code",
   "execution_count": 759,
   "metadata": {},
   "outputs": [
    {
     "output_type": "stream",
     "name": "stdout",
     "text": [
      "{'Real Decreto Legislativo 8/2015'} RDG 8/2015 ESP\n",
      "{'Ley 38/1992'} LEY 28/2014 ESP\n",
      "{'Ley 38/1992'} LEY 38/1992 ESP\n",
      "{'Real Decreto 738/2015'} RD 738/2015 ESP\n",
      "{'Real Decreto Legislativo 2/2015'} RDG 2/2015 ESP\n"
     ]
    }
   ],
   "source": [
    "for i, row_to_compare in tabla_analisis.iterrows():\n",
    "    for j, row_comparing in ASECORP_BBDD_BOE.iterrows():\n",
    "        if set(row_to_compare['Tags']) & set(row_comparing['Tags']):\n",
    "            tabla_analisis['Match_ASECORP_BBDD'][i].append (ASECORP_BBDD_BOE['Codigo'][j])\n",
    "            print(str(set(row_to_compare['Tags']) & set(row_comparing['Tags'])) + ' ' + str(row_comparing['Codigo']))"
   ]
  },
  {
   "cell_type": "code",
   "execution_count": 761,
   "metadata": {},
   "outputs": [
    {
     "output_type": "execute_result",
     "data": {
      "text/plain": [
       "             Alertas Fecha_publicacion  \\\n",
       "0                 []        2021-03-05   \n",
       "1                 []        2021-03-05   \n",
       "2                 []        2021-03-05   \n",
       "3                 []        2021-03-05   \n",
       "4                 []        2021-03-05   \n",
       "..               ...               ...   \n",
       "57                []        2021-03-05   \n",
       "58                []        2021-03-05   \n",
       "59  [Cultura y ocio]        2021-03-05   \n",
       "60                []        2021-03-05   \n",
       "61                []        2021-03-05   \n",
       "\n",
       "                                            Item_Name             Item_id  \\\n",
       "0   [Anuncio de licitación de: ADIF - Presidencia....  [BOE-B-2021-10602]   \n",
       "1   [Resolución de 23 de febrero de 2021, de la Su...   [BOE-A-2021-3477]   \n",
       "2   [Resolución de 23 de febrero de 2021, de la Di...   [BOE-A-2021-3463]   \n",
       "3   [Resolución de 23 de febrero de 2021, de la Di...   [BOE-A-2021-3462]   \n",
       "4   [Resolución de 23 de febrero de 2021, de la Di...   [BOE-A-2021-3476]   \n",
       "..                                                ...                 ...   \n",
       "57  [Resolución de 23 de febrero de 2021, de la Di...   [BOE-A-2021-3453]   \n",
       "58  [Orden APA/191/2021, de 2 de marzo, por la que...   [BOE-A-2021-3447]   \n",
       "59  [Acuerdo 20/2021, de 18 de febrero, de la Junt...   [BOE-A-2021-3484]   \n",
       "60  [Orden APA/190/2021, de 2 de marzo, por la que...   [BOE-A-2021-3446]   \n",
       "61  [Resolución de 23 de febrero de 2021, de la Di...   [BOE-A-2021-3452]   \n",
       "\n",
       "   Materias Referencias Referencias_palabra Referencias_texto  \\\n",
       "0        []          []                  []                []   \n",
       "1        []          []                  []                []   \n",
       "2        []          []                  []                []   \n",
       "3        []          []                  []                []   \n",
       "4        []          []                  []                []   \n",
       "..      ...         ...                 ...               ...   \n",
       "57       []          []                  []                []   \n",
       "58       []          []                  []                []   \n",
       "59       []          []                  []                []   \n",
       "60       []          []                  []                []   \n",
       "61       []          []                  []                []   \n",
       "\n",
       "   Referencias_completas Tags Match_ASECORP_BBDD  \n",
       "0                     []   []                 []  \n",
       "1                     []   []                 []  \n",
       "2                     []   []                 []  \n",
       "3                     []   []                 []  \n",
       "4                     []   []                 []  \n",
       "..                   ...  ...                ...  \n",
       "57                    []   []                 []  \n",
       "58                    []   []                 []  \n",
       "59                    []   []                 []  \n",
       "60                    []   []                 []  \n",
       "61                    []   []                 []  \n",
       "\n",
       "[62 rows x 11 columns]"
      ],
      "text/html": "<div>\n<style scoped>\n    .dataframe tbody tr th:only-of-type {\n        vertical-align: middle;\n    }\n\n    .dataframe tbody tr th {\n        vertical-align: top;\n    }\n\n    .dataframe thead th {\n        text-align: right;\n    }\n</style>\n<table border=\"1\" class=\"dataframe\">\n  <thead>\n    <tr style=\"text-align: right;\">\n      <th></th>\n      <th>Alertas</th>\n      <th>Fecha_publicacion</th>\n      <th>Item_Name</th>\n      <th>Item_id</th>\n      <th>Materias</th>\n      <th>Referencias</th>\n      <th>Referencias_palabra</th>\n      <th>Referencias_texto</th>\n      <th>Referencias_completas</th>\n      <th>Tags</th>\n      <th>Match_ASECORP_BBDD</th>\n    </tr>\n  </thead>\n  <tbody>\n    <tr>\n      <th>0</th>\n      <td>[]</td>\n      <td>2021-03-05</td>\n      <td>[Anuncio de licitación de: ADIF - Presidencia....</td>\n      <td>[BOE-B-2021-10602]</td>\n      <td>[]</td>\n      <td>[]</td>\n      <td>[]</td>\n      <td>[]</td>\n      <td>[]</td>\n      <td>[]</td>\n      <td>[]</td>\n    </tr>\n    <tr>\n      <th>1</th>\n      <td>[]</td>\n      <td>2021-03-05</td>\n      <td>[Resolución de 23 de febrero de 2021, de la Su...</td>\n      <td>[BOE-A-2021-3477]</td>\n      <td>[]</td>\n      <td>[]</td>\n      <td>[]</td>\n      <td>[]</td>\n      <td>[]</td>\n      <td>[]</td>\n      <td>[]</td>\n    </tr>\n    <tr>\n      <th>2</th>\n      <td>[]</td>\n      <td>2021-03-05</td>\n      <td>[Resolución de 23 de febrero de 2021, de la Di...</td>\n      <td>[BOE-A-2021-3463]</td>\n      <td>[]</td>\n      <td>[]</td>\n      <td>[]</td>\n      <td>[]</td>\n      <td>[]</td>\n      <td>[]</td>\n      <td>[]</td>\n    </tr>\n    <tr>\n      <th>3</th>\n      <td>[]</td>\n      <td>2021-03-05</td>\n      <td>[Resolución de 23 de febrero de 2021, de la Di...</td>\n      <td>[BOE-A-2021-3462]</td>\n      <td>[]</td>\n      <td>[]</td>\n      <td>[]</td>\n      <td>[]</td>\n      <td>[]</td>\n      <td>[]</td>\n      <td>[]</td>\n    </tr>\n    <tr>\n      <th>4</th>\n      <td>[]</td>\n      <td>2021-03-05</td>\n      <td>[Resolución de 23 de febrero de 2021, de la Di...</td>\n      <td>[BOE-A-2021-3476]</td>\n      <td>[]</td>\n      <td>[]</td>\n      <td>[]</td>\n      <td>[]</td>\n      <td>[]</td>\n      <td>[]</td>\n      <td>[]</td>\n    </tr>\n    <tr>\n      <th>...</th>\n      <td>...</td>\n      <td>...</td>\n      <td>...</td>\n      <td>...</td>\n      <td>...</td>\n      <td>...</td>\n      <td>...</td>\n      <td>...</td>\n      <td>...</td>\n      <td>...</td>\n      <td>...</td>\n    </tr>\n    <tr>\n      <th>57</th>\n      <td>[]</td>\n      <td>2021-03-05</td>\n      <td>[Resolución de 23 de febrero de 2021, de la Di...</td>\n      <td>[BOE-A-2021-3453]</td>\n      <td>[]</td>\n      <td>[]</td>\n      <td>[]</td>\n      <td>[]</td>\n      <td>[]</td>\n      <td>[]</td>\n      <td>[]</td>\n    </tr>\n    <tr>\n      <th>58</th>\n      <td>[]</td>\n      <td>2021-03-05</td>\n      <td>[Orden APA/191/2021, de 2 de marzo, por la que...</td>\n      <td>[BOE-A-2021-3447]</td>\n      <td>[]</td>\n      <td>[]</td>\n      <td>[]</td>\n      <td>[]</td>\n      <td>[]</td>\n      <td>[]</td>\n      <td>[]</td>\n    </tr>\n    <tr>\n      <th>59</th>\n      <td>[Cultura y ocio]</td>\n      <td>2021-03-05</td>\n      <td>[Acuerdo 20/2021, de 18 de febrero, de la Junt...</td>\n      <td>[BOE-A-2021-3484]</td>\n      <td>[]</td>\n      <td>[]</td>\n      <td>[]</td>\n      <td>[]</td>\n      <td>[]</td>\n      <td>[]</td>\n      <td>[]</td>\n    </tr>\n    <tr>\n      <th>60</th>\n      <td>[]</td>\n      <td>2021-03-05</td>\n      <td>[Orden APA/190/2021, de 2 de marzo, por la que...</td>\n      <td>[BOE-A-2021-3446]</td>\n      <td>[]</td>\n      <td>[]</td>\n      <td>[]</td>\n      <td>[]</td>\n      <td>[]</td>\n      <td>[]</td>\n      <td>[]</td>\n    </tr>\n    <tr>\n      <th>61</th>\n      <td>[]</td>\n      <td>2021-03-05</td>\n      <td>[Resolución de 23 de febrero de 2021, de la Di...</td>\n      <td>[BOE-A-2021-3452]</td>\n      <td>[]</td>\n      <td>[]</td>\n      <td>[]</td>\n      <td>[]</td>\n      <td>[]</td>\n      <td>[]</td>\n      <td>[]</td>\n    </tr>\n  </tbody>\n</table>\n<p>62 rows × 11 columns</p>\n</div>"
     },
     "metadata": {},
     "execution_count": 761
    }
   ],
   "source": [
    "tabla_analisis"
   ]
  },
  {
   "cell_type": "code",
   "execution_count": 762,
   "metadata": {},
   "outputs": [
    {
     "output_type": "execute_result",
     "data": {
      "text/plain": [
       "[]"
      ]
     },
     "metadata": {},
     "execution_count": 762
    }
   ],
   "source": [
    "tabla_analisis['Match_ASECORP_BBDD'][1]"
   ]
  },
  {
   "cell_type": "code",
   "execution_count": 763,
   "metadata": {},
   "outputs": [
    {
     "output_type": "execute_result",
     "data": {
      "text/plain": [
       "[]"
      ]
     },
     "metadata": {},
     "execution_count": 763
    }
   ],
   "source": [
    "tabla_analisis['Tags'][1]"
   ]
  },
  {
   "source": [
    "# Genera Fichero EXCEL de resultados"
   ],
   "cell_type": "markdown",
   "metadata": {}
  },
  {
   "cell_type": "code",
   "execution_count": 764,
   "metadata": {},
   "outputs": [],
   "source": [
    "## Cambia orden de columnas y elimina las no necesarias  \n",
    "tabla_analisis_final = tabla_analisis[['Item_id','Item_Name','Fecha_publicacion','Materias','Alertas','Referencias','Referencias_completas','Tags','Match_ASECORP_BBDD']]"
   ]
  },
  {
   "cell_type": "code",
   "execution_count": 765,
   "metadata": {},
   "outputs": [],
   "source": [
    "## Crea función que convierte lista a string en todas las columnas de tabla_analisis\n",
    "## para evitar en presentación final los caracteres [' '] propios de las listas\n",
    "def list2Str(lst):\n",
    "    if type(lst) is list: # apply conversion to list columns\n",
    "        return\", \".join(lst)\n",
    "    else:\n",
    "        return lst"
   ]
  },
  {
   "cell_type": "code",
   "execution_count": 766,
   "metadata": {},
   "outputs": [],
   "source": [
    "## Aplica función de conversión de listas a strings\n",
    "tabla_analisis_final = tabla_analisis_final.apply(lambda x: [list2Str(i) for i in x])"
   ]
  },
  {
   "cell_type": "code",
   "execution_count": 767,
   "metadata": {},
   "outputs": [
    {
     "output_type": "execute_result",
     "data": {
      "text/plain": [
       "            Item_id                                          Item_Name  \\\n",
       "0  BOE-B-2021-10602  Anuncio de licitación de: ADIF - Presidencia. ...   \n",
       "1   BOE-A-2021-3477  Resolución de 23 de febrero de 2021, de la Sub...   \n",
       "2   BOE-A-2021-3463  Resolución de 23 de febrero de 2021, de la Dir...   \n",
       "3   BOE-A-2021-3462  Resolución de 23 de febrero de 2021, de la Dir...   \n",
       "4   BOE-A-2021-3476  Resolución de 23 de febrero de 2021, de la Dir...   \n",
       "5  BOE-B-2021-10603  Anuncio de formalización de contratos de: Pres...   \n",
       "6  BOE-B-2021-10601  Anuncio de formalización de contratos de: ADIF...   \n",
       "7   BOE-A-2021-3448  Orden APA/192/2021, de 2 de marzo, por la que ...   \n",
       "8   BOE-A-2021-3460  Resolución de 23 de febrero de 2021, de la Dir...   \n",
       "9   BOE-A-2021-3474  Resolución de 25 de febrero de 2021, de la Sec...   \n",
       "\n",
       "  Fecha_publicacion Materias Alertas Referencias Referencias_completas Tags  \\\n",
       "0        2021-03-05                                                           \n",
       "1        2021-03-05                                                           \n",
       "2        2021-03-05                                                           \n",
       "3        2021-03-05                                                           \n",
       "4        2021-03-05                                                           \n",
       "5        2021-03-05                                                           \n",
       "6        2021-03-05                                                           \n",
       "7        2021-03-05                                                           \n",
       "8        2021-03-05                                                           \n",
       "9        2021-03-05                                                           \n",
       "\n",
       "  Match_ASECORP_BBDD  \n",
       "0                     \n",
       "1                     \n",
       "2                     \n",
       "3                     \n",
       "4                     \n",
       "5                     \n",
       "6                     \n",
       "7                     \n",
       "8                     \n",
       "9                     "
      ],
      "text/html": "<div>\n<style scoped>\n    .dataframe tbody tr th:only-of-type {\n        vertical-align: middle;\n    }\n\n    .dataframe tbody tr th {\n        vertical-align: top;\n    }\n\n    .dataframe thead th {\n        text-align: right;\n    }\n</style>\n<table border=\"1\" class=\"dataframe\">\n  <thead>\n    <tr style=\"text-align: right;\">\n      <th></th>\n      <th>Item_id</th>\n      <th>Item_Name</th>\n      <th>Fecha_publicacion</th>\n      <th>Materias</th>\n      <th>Alertas</th>\n      <th>Referencias</th>\n      <th>Referencias_completas</th>\n      <th>Tags</th>\n      <th>Match_ASECORP_BBDD</th>\n    </tr>\n  </thead>\n  <tbody>\n    <tr>\n      <th>0</th>\n      <td>BOE-B-2021-10602</td>\n      <td>Anuncio de licitación de: ADIF - Presidencia. ...</td>\n      <td>2021-03-05</td>\n      <td></td>\n      <td></td>\n      <td></td>\n      <td></td>\n      <td></td>\n      <td></td>\n    </tr>\n    <tr>\n      <th>1</th>\n      <td>BOE-A-2021-3477</td>\n      <td>Resolución de 23 de febrero de 2021, de la Sub...</td>\n      <td>2021-03-05</td>\n      <td></td>\n      <td></td>\n      <td></td>\n      <td></td>\n      <td></td>\n      <td></td>\n    </tr>\n    <tr>\n      <th>2</th>\n      <td>BOE-A-2021-3463</td>\n      <td>Resolución de 23 de febrero de 2021, de la Dir...</td>\n      <td>2021-03-05</td>\n      <td></td>\n      <td></td>\n      <td></td>\n      <td></td>\n      <td></td>\n      <td></td>\n    </tr>\n    <tr>\n      <th>3</th>\n      <td>BOE-A-2021-3462</td>\n      <td>Resolución de 23 de febrero de 2021, de la Dir...</td>\n      <td>2021-03-05</td>\n      <td></td>\n      <td></td>\n      <td></td>\n      <td></td>\n      <td></td>\n      <td></td>\n    </tr>\n    <tr>\n      <th>4</th>\n      <td>BOE-A-2021-3476</td>\n      <td>Resolución de 23 de febrero de 2021, de la Dir...</td>\n      <td>2021-03-05</td>\n      <td></td>\n      <td></td>\n      <td></td>\n      <td></td>\n      <td></td>\n      <td></td>\n    </tr>\n    <tr>\n      <th>5</th>\n      <td>BOE-B-2021-10603</td>\n      <td>Anuncio de formalización de contratos de: Pres...</td>\n      <td>2021-03-05</td>\n      <td></td>\n      <td></td>\n      <td></td>\n      <td></td>\n      <td></td>\n      <td></td>\n    </tr>\n    <tr>\n      <th>6</th>\n      <td>BOE-B-2021-10601</td>\n      <td>Anuncio de formalización de contratos de: ADIF...</td>\n      <td>2021-03-05</td>\n      <td></td>\n      <td></td>\n      <td></td>\n      <td></td>\n      <td></td>\n      <td></td>\n    </tr>\n    <tr>\n      <th>7</th>\n      <td>BOE-A-2021-3448</td>\n      <td>Orden APA/192/2021, de 2 de marzo, por la que ...</td>\n      <td>2021-03-05</td>\n      <td></td>\n      <td></td>\n      <td></td>\n      <td></td>\n      <td></td>\n      <td></td>\n    </tr>\n    <tr>\n      <th>8</th>\n      <td>BOE-A-2021-3460</td>\n      <td>Resolución de 23 de febrero de 2021, de la Dir...</td>\n      <td>2021-03-05</td>\n      <td></td>\n      <td></td>\n      <td></td>\n      <td></td>\n      <td></td>\n      <td></td>\n    </tr>\n    <tr>\n      <th>9</th>\n      <td>BOE-A-2021-3474</td>\n      <td>Resolución de 25 de febrero de 2021, de la Sec...</td>\n      <td>2021-03-05</td>\n      <td></td>\n      <td></td>\n      <td></td>\n      <td></td>\n      <td></td>\n      <td></td>\n    </tr>\n  </tbody>\n</table>\n</div>"
     },
     "metadata": {},
     "execution_count": 767
    }
   ],
   "source": [
    "  tabla_analisis_final[0:10]"
   ]
  },
  {
   "cell_type": "code",
   "execution_count": 768,
   "metadata": {},
   "outputs": [],
   "source": [
    "## Generar hyperlink a artículo BOE en CSV \"=HYPERLINK(\"https://www.boe.es/boe/dias/2021/02/02/pdfs/BOE-A-2021-1474.pdf\";\"BOE-A-2021-1474\")\"\n",
    "## https://www.boe.es/diario_boe/xml.php?id=## https://www.boe.es/boe/dias/2021/02/02/pdfs/BOE-A-2021-1474.pdf\n",
    "\n",
    "tabla_analisis_final_CSV = tabla_analisis_final"
   ]
  },
  {
   "cell_type": "code",
   "execution_count": 769,
   "metadata": {},
   "outputs": [],
   "source": [
    "# Compone y genera enlace a PDF del BOE correspondiente\n",
    "tabla_analisis_final_CSV['Item_id'] = '=HIPERVINCULO(' + '\"https://www.boe.es/boe/dias/' \\\n",
    "                                                        + tabla_analisis_final_CSV['Fecha_publicacion'].map(lambda x: x.strftime('%Y')) + '/'\\\n",
    "                                                        + tabla_analisis_final_CSV['Fecha_publicacion'].map(lambda x: x.strftime('%m')) + '/'\\\n",
    "                                                        + tabla_analisis_final_CSV['Fecha_publicacion'].map(lambda x: x.strftime('%d')) + '/'\\\n",
    "                                                        + 'pdfs/'\\\n",
    "                                                        + tabla_analisis_final_CSV['Item_id'] + '.pdf\";'\\\n",
    "                                                        + '\"' + tabla_analisis_final_CSV['Item_id'] + '\")'"
   ]
  },
  {
   "cell_type": "code",
   "execution_count": 770,
   "metadata": {},
   "outputs": [
    {
     "output_type": "stream",
     "name": "stdout",
     "text": [
      "=HIPERVINCULO(\"https://www.boe.es/boe/dias/2021/03/05/pdfs/BOE-B-2021-10602.pdf\";\"BOE-B-2021-10602\")\n"
     ]
    }
   ],
   "source": [
    "print(tabla_analisis_final_CSV['Item_id'][0])"
   ]
  },
  {
   "cell_type": "code",
   "execution_count": 771,
   "metadata": {},
   "outputs": [],
   "source": [
    "# tabla_analisis_final_CSV.to_excel(\"./ASECORP/Resultados_Matching.xlsx\", sheet_name='MATCHING_BOE') "
   ]
  },
  {
   "cell_type": "code",
   "execution_count": 772,
   "metadata": {},
   "outputs": [],
   "source": [
    "tabla_analisis_final_CSV.to_csv(\"./ASECORP/Resultados_Matching_BOE_\" + today.strftime(\"%Y%m%d\") + \".csv\", index=False) "
   ]
  },
  {
   "source": [
    "# ------------------------------------------------------------------------"
   ],
   "cell_type": "markdown",
   "metadata": {}
  }
 ]
}