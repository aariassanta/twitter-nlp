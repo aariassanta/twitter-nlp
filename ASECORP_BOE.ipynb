{
 "metadata": {
  "language_info": {
   "codemirror_mode": {
    "name": "ipython",
    "version": 3
   },
   "file_extension": ".py",
   "mimetype": "text/x-python",
   "name": "python",
   "nbconvert_exporter": "python",
   "pygments_lexer": "ipython3",
   "version": "3.8.5-final"
  },
  "orig_nbformat": 2,
  "kernelspec": {
   "name": "python3",
   "display_name": "Python 3",
   "language": "python"
  }
 },
 "nbformat": 4,
 "nbformat_minor": 2,
 "cells": [
  {
   "cell_type": "code",
   "execution_count": 77,
   "metadata": {},
   "outputs": [],
   "source": [
    "from lxml import etree, html\n",
    "from lxml.html.clean import clean_html\n",
    "import pandas as pd\n",
    "from datetime import date, datetime\n",
    "import requests\n",
    "import re\n",
    "import os\n",
    "import shutil"
   ]
  },
  {
   "source": [
    "# Mueve todos los fichero del directorio de trabajo a otro de archivo"
   ],
   "cell_type": "markdown",
   "metadata": {}
  },
  {
   "cell_type": "code",
   "execution_count": 78,
   "metadata": {},
   "outputs": [],
   "source": [
    "source_dir = './BOEs'\n",
    "target_dir = './BOEs_Anteriores'\n",
    "    \n",
    "file_names = os.listdir(source_dir)\n",
    "    \n",
    "for file_name in file_names:\n",
    "    #shutil.move(os.path.join(source_dir, file_name), target_dir)\n",
    "    # Evita que de error si el fichero que se mueve ya existe en dir destino\n",
    "    try:\n",
    "        os.remove(os.path.join(target_dir, file_name))\n",
    "        shutil.move(os.path.join(source_dir, file_name), target_dir)\n",
    "    except OSError:\n",
    "        shutil.move(os.path.join(source_dir, file_name), target_dir)"
   ]
  },
  {
   "source": [
    "# Recoge resumen diario del BOE de hoy"
   ],
   "cell_type": "markdown",
   "metadata": {}
  },
  {
   "cell_type": "code",
   "execution_count": 79,
   "metadata": {},
   "outputs": [
    {
     "output_type": "stream",
     "name": "stdout",
     "text": [
      "Fecha de Hoy = 20210322\ndia = 22\nmes = 03\naño = 2021\n22/03/2021\n"
     ]
    }
   ],
   "source": [
    "\n",
    "today = date.today()\n",
    "\n",
    "# dd/mm/YYYY\n",
    "hoy = today.strftime(\"%Y%m%d\")\n",
    "print(\"Fecha de Hoy =\", hoy)\n",
    "\n",
    "# dd\n",
    "d = today.strftime(\"%d\")\n",
    "print(\"dia =\", d)\n",
    "\n",
    "# mm\n",
    "m = today.strftime(\"%m\")\n",
    "print(\"mes =\", m)\n",
    "\n",
    "# YYYY\n",
    "Y = today.strftime(\"%Y\")\n",
    "print(\"año =\", Y)\n",
    "\n",
    "print(today.strftime(\"%d/%m/%Y\"))"
   ]
  },
  {
   "cell_type": "code",
   "execution_count": 80,
   "metadata": {},
   "outputs": [],
   "source": [
    "URL_XML_resumen =  \"https://www.boe.es/diario_boe/xml.php?id=BOE-S-\" + str(hoy)"
   ]
  },
  {
   "cell_type": "code",
   "execution_count": 81,
   "metadata": {},
   "outputs": [],
   "source": [
    "# URL_XML_resumen = 'https://www.boe.es/diario_boe/xml.php?id=BOE-S-20210223' # Contiene Seccion T. Constitucional\n",
    "# URL_XML_resumen = 'https://www.boe.es/diario_boe/xml.php?id=BOE-S-20210305' # Contiene Sección V. A\n",
    "# URL_XML_resumen = 'https://www.boe.es/diario_boe/xml.php?id=BOE-S-20210216'"
   ]
  },
  {
   "cell_type": "code",
   "execution_count": 82,
   "metadata": {},
   "outputs": [
    {
     "output_type": "execute_result",
     "data": {
      "text/plain": [
       "'https://www.boe.es/diario_boe/xml.php?id=BOE-S-20210322'"
      ]
     },
     "metadata": {},
     "execution_count": 82
    }
   ],
   "source": [
    "URL_XML_resumen"
   ]
  },
  {
   "cell_type": "code",
   "execution_count": 83,
   "metadata": {},
   "outputs": [],
   "source": [
    "url = URL_XML_resumen\n",
    "r = requests.get(url)"
   ]
  },
  {
   "cell_type": "code",
   "execution_count": 84,
   "metadata": {},
   "outputs": [],
   "source": [
    "def save_html(html, path):\n",
    "    with open(path, 'wb') as f:\n",
    "        f.write(html)\n",
    "\n",
    "save_html(r.content, './BOEs/Resumen-BOE-' + hoy + '.xml')"
   ]
  },
  {
   "cell_type": "code",
   "execution_count": 85,
   "metadata": {},
   "outputs": [],
   "source": [
    "resumen = etree.parse('./BOEs/Resumen-BOE-' + hoy + '.xml')"
   ]
  },
  {
   "cell_type": "code",
   "execution_count": 86,
   "metadata": {},
   "outputs": [],
   "source": [
    "raiz=resumen.getroot()\n",
    "raiz.tag\n",
    "raiz_sumario = raiz"
   ]
  },
  {
   "cell_type": "code",
   "execution_count": 87,
   "metadata": {},
   "outputs": [
    {
     "output_type": "execute_result",
     "data": {
      "text/plain": [
       "[]"
      ]
     },
     "metadata": {},
     "execution_count": 87
    }
   ],
   "source": [
    "seccion = raiz.findall(\"sumario/diario/seccion\")\n",
    "seccion"
   ]
  },
  {
   "cell_type": "code",
   "execution_count": 88,
   "metadata": {},
   "outputs": [
    {
     "output_type": "stream",
     "name": "stdout",
     "text": [
      "['I. Disposiciones generales']\n['II. Autoridades y personal. - A. Nombramientos, situaciones e incidencias']\n['II. Autoridades y personal. - B. Oposiciones y concursos']\n['III. Otras disposiciones']\n['IV. Administración de Justicia']\n['V. Anuncios. - A. Contratación del Sector Público']\n['V. Anuncios. - B. Otros anuncios oficiales']\n['V. Anuncios. - C. Anuncios particulares']\n['T.C. Sección del Tribunal Constitucional']\n"
     ]
    }
   ],
   "source": [
    "for seccion in raiz.xpath('//seccion'):\n",
    "    nombre_seccion = seccion.xpath('@nombre')\n",
    "    print(nombre_seccion)"
   ]
  },
  {
   "cell_type": "code",
   "execution_count": 89,
   "metadata": {},
   "outputs": [],
   "source": [
    "secciones = raiz.findall(\"sumario/diario/seccion\")\n",
    "for seccion in secciones:\n",
    "    print(seccion.text)"
   ]
  },
  {
   "cell_type": "code",
   "execution_count": 90,
   "metadata": {},
   "outputs": [],
   "source": [
    "tabla_resumen = pd.DataFrame()"
   ]
  },
  {
   "cell_type": "code",
   "execution_count": 91,
   "metadata": {},
   "outputs": [
    {
     "output_type": "stream",
     "name": "stdout",
     "text": [
      "['I. Disposiciones generales']\n",
      "['BOE-A-2021-4396']\n",
      "['MINISTERIO PARA LA TRANSICIÓN ECOLÓGICA Y EL RETO DEMOGRÁFICO']\n",
      "['Estado de alarma. Energía eléctrica']\n",
      "https://www.boe.es/diario_boe/xml.php?id=BOE-A-2021-4396\n",
      "['BOE-A-2021-4397']\n",
      "['COMUNIDAD AUTÓNOMA DE CANARIAS']\n",
      "['Escuelas infantiles']\n",
      "https://www.boe.es/diario_boe/xml.php?id=BOE-A-2021-4397\n",
      "['BOE-A-2021-4398']\n",
      "['COMUNIDAD AUTÓNOMA DE CANARIAS']\n",
      "['Infancia']\n",
      "https://www.boe.es/diario_boe/xml.php?id=BOE-A-2021-4398\n",
      "['BOE-A-2021-4399']\n",
      "['COMUNIDAD AUTÓNOMA DE CANARIAS']\n",
      "['Medidas extraordinarias']\n",
      "https://www.boe.es/diario_boe/xml.php?id=BOE-A-2021-4399\n",
      "['III. Otras disposiciones']\n",
      "['BOE-A-2021-4469']\n",
      "['MINISTERIO DE TRANSPORTES, MOVILIDAD Y AGENDA URBANA']\n",
      "['Centro de Estudios y Experimentación de Obras Públicas. Cuentas anuales']\n",
      "https://www.boe.es/diario_boe/xml.php?id=BOE-A-2021-4469\n",
      "['BOE-A-2021-4470']\n",
      "['MINISTERIO DE TRANSPORTES, MOVILIDAD Y AGENDA URBANA']\n",
      "['Contratación administrativa']\n",
      "https://www.boe.es/diario_boe/xml.php?id=BOE-A-2021-4470\n",
      "['BOE-A-2021-4471']\n",
      "['MINISTERIO DE TRANSPORTES, MOVILIDAD Y AGENDA URBANA']\n",
      "['Encomienda de gestión']\n",
      "https://www.boe.es/diario_boe/xml.php?id=BOE-A-2021-4471\n",
      "['BOE-A-2021-4472']\n",
      "['MINISTERIO DE TRANSPORTES, MOVILIDAD Y AGENDA URBANA']\n",
      "['Premios']\n",
      "https://www.boe.es/diario_boe/xml.php?id=BOE-A-2021-4472\n",
      "['BOE-A-2021-4473']\n",
      "['MINISTERIO DE TRABAJO Y ECONOMÍA SOCIAL']\n",
      "['Convenios']\n",
      "https://www.boe.es/diario_boe/xml.php?id=BOE-A-2021-4473\n",
      "['BOE-A-2021-4474']\n",
      "['MINISTERIO DE TRABAJO Y ECONOMÍA SOCIAL']\n",
      "['Convenios colectivos de trabajo']\n",
      "https://www.boe.es/diario_boe/xml.php?id=BOE-A-2021-4474\n",
      "['BOE-A-2021-4475']\n",
      "['MINISTERIO DE TRABAJO Y ECONOMÍA SOCIAL']\n",
      "['Convenios colectivos de trabajo']\n",
      "https://www.boe.es/diario_boe/xml.php?id=BOE-A-2021-4475\n",
      "['BOE-A-2021-4476']\n",
      "['MINISTERIO DE TRABAJO Y ECONOMÍA SOCIAL']\n",
      "['Convenios colectivos de trabajo']\n",
      "https://www.boe.es/diario_boe/xml.php?id=BOE-A-2021-4476\n",
      "['BOE-A-2021-4477']\n",
      "['MINISTERIO DE TRABAJO Y ECONOMÍA SOCIAL']\n",
      "['Convenios colectivos de trabajo']\n",
      "https://www.boe.es/diario_boe/xml.php?id=BOE-A-2021-4477\n",
      "['BOE-A-2021-4478']\n",
      "['MINISTERIO DE POLÍTICA TERRITORIAL Y FUNCIÓN PÚBLICA']\n",
      "['Procedimientos de declaración de inconstitucionalidad']\n",
      "https://www.boe.es/diario_boe/xml.php?id=BOE-A-2021-4478\n",
      "['BOE-A-2021-4479']\n",
      "['MINISTERIO DE POLÍTICA TERRITORIAL Y FUNCIÓN PÚBLICA']\n",
      "['Procedimientos de declaración de inconstitucionalidad']\n",
      "https://www.boe.es/diario_boe/xml.php?id=BOE-A-2021-4479\n",
      "['BOE-A-2021-4480']\n",
      "['MINISTERIO DE POLÍTICA TERRITORIAL Y FUNCIÓN PÚBLICA']\n",
      "['Procedimientos de declaración de inconstitucionalidad']\n",
      "https://www.boe.es/diario_boe/xml.php?id=BOE-A-2021-4480\n",
      "['BOE-A-2021-4481']\n",
      "['MINISTERIO DE POLÍTICA TERRITORIAL Y FUNCIÓN PÚBLICA']\n",
      "['Procedimientos de declaración de inconstitucionalidad']\n",
      "https://www.boe.es/diario_boe/xml.php?id=BOE-A-2021-4481\n",
      "['BOE-A-2021-4482']\n",
      "['MINISTERIO DE POLÍTICA TERRITORIAL Y FUNCIÓN PÚBLICA']\n",
      "['Procedimientos de declaración de inconstitucionalidad']\n",
      "https://www.boe.es/diario_boe/xml.php?id=BOE-A-2021-4482\n",
      "['BOE-A-2021-4483']\n",
      "['MINISTERIO DE POLÍTICA TERRITORIAL Y FUNCIÓN PÚBLICA']\n",
      "['Procedimientos de declaración de inconstitucionalidad']\n",
      "https://www.boe.es/diario_boe/xml.php?id=BOE-A-2021-4483\n",
      "['BOE-A-2021-4484']\n",
      "['MINISTERIO PARA LA TRANSICIÓN ECOLÓGICA Y EL RETO DEMOGRÁFICO']\n",
      "['Sector gasista']\n",
      "https://www.boe.es/diario_boe/xml.php?id=BOE-A-2021-4484\n",
      "['BOE-A-2021-4485']\n",
      "['MINISTERIO PARA LA TRANSICIÓN ECOLÓGICA Y EL RETO DEMOGRÁFICO']\n",
      "['Sector gasista']\n",
      "https://www.boe.es/diario_boe/xml.php?id=BOE-A-2021-4485\n",
      "['BOE-A-2021-4486']\n",
      "['MINISTERIO PARA LA TRANSICIÓN ECOLÓGICA Y EL RETO DEMOGRÁFICO']\n",
      "['Sector gasista']\n",
      "https://www.boe.es/diario_boe/xml.php?id=BOE-A-2021-4486\n",
      "['BOE-A-2021-4487']\n",
      "['MINISTERIO PARA LA TRANSICIÓN ECOLÓGICA Y EL RETO DEMOGRÁFICO']\n",
      "['Sector gasista']\n",
      "https://www.boe.es/diario_boe/xml.php?id=BOE-A-2021-4487\n",
      "['BOE-A-2021-4488']\n",
      "['MINISTERIO PARA LA TRANSICIÓN ECOLÓGICA Y EL RETO DEMOGRÁFICO']\n",
      "['Sector gasista']\n",
      "https://www.boe.es/diario_boe/xml.php?id=BOE-A-2021-4488\n",
      "['BOE-A-2021-4489']\n",
      "['MINISTERIO PARA LA TRANSICIÓN ECOLÓGICA Y EL RETO DEMOGRÁFICO']\n",
      "['Sector gasista']\n",
      "https://www.boe.es/diario_boe/xml.php?id=BOE-A-2021-4489\n",
      "['BOE-A-2021-4490']\n",
      "['MINISTERIO DE DERECHOS SOCIALES Y AGENDA 2030']\n",
      "['Premios']\n",
      "https://www.boe.es/diario_boe/xml.php?id=BOE-A-2021-4490\n",
      "['BOE-A-2021-4491']\n",
      "['MINISTERIO DE UNIVERSIDADES']\n",
      "['Convenios']\n",
      "https://www.boe.es/diario_boe/xml.php?id=BOE-A-2021-4491\n",
      "['V. Anuncios. - A. Contratación del Sector Público']\n",
      "['BOE-B-2021-13854']\n",
      "['MINISTERIO DE JUSTICIA']\n",
      "[]\n",
      "https://www.boe.es/diario_boe/xml.php?id=BOE-B-2021-13854\n",
      "['BOE-B-2021-13855']\n",
      "['MINISTERIO DE TRANSPORTES, MOVILIDAD Y AGENDA URBANA']\n",
      "[]\n",
      "https://www.boe.es/diario_boe/xml.php?id=BOE-B-2021-13855\n",
      "['BOE-B-2021-13856']\n",
      "['MINISTERIO DE TRANSPORTES, MOVILIDAD Y AGENDA URBANA']\n",
      "[]\n",
      "https://www.boe.es/diario_boe/xml.php?id=BOE-B-2021-13856\n",
      "['BOE-B-2021-13857']\n",
      "['MINISTERIO DE TRANSPORTES, MOVILIDAD Y AGENDA URBANA']\n",
      "[]\n",
      "https://www.boe.es/diario_boe/xml.php?id=BOE-B-2021-13857\n",
      "['BOE-B-2021-13858']\n",
      "['MINISTERIO DE TRANSPORTES, MOVILIDAD Y AGENDA URBANA']\n",
      "[]\n",
      "https://www.boe.es/diario_boe/xml.php?id=BOE-B-2021-13858\n",
      "['BOE-B-2021-13859']\n",
      "['MINISTERIO DE TRANSPORTES, MOVILIDAD Y AGENDA URBANA']\n",
      "[]\n",
      "https://www.boe.es/diario_boe/xml.php?id=BOE-B-2021-13859\n",
      "['BOE-B-2021-13860']\n",
      "['MINISTERIO DE TRANSPORTES, MOVILIDAD Y AGENDA URBANA']\n",
      "[]\n",
      "https://www.boe.es/diario_boe/xml.php?id=BOE-B-2021-13860\n",
      "['BOE-B-2021-13861']\n",
      "['MINISTERIO DE TRANSPORTES, MOVILIDAD Y AGENDA URBANA']\n",
      "[]\n",
      "https://www.boe.es/diario_boe/xml.php?id=BOE-B-2021-13861\n",
      "['BOE-B-2021-13862']\n",
      "['MINISTERIO DE TRABAJO Y ECONOMÍA SOCIAL']\n",
      "[]\n",
      "https://www.boe.es/diario_boe/xml.php?id=BOE-B-2021-13862\n",
      "['BOE-B-2021-13863']\n",
      "['MINISTERIO PARA LA TRANSICIÓN ECOLÓGICA Y EL RETO DEMOGRÁFICO']\n",
      "[]\n",
      "https://www.boe.es/diario_boe/xml.php?id=BOE-B-2021-13863\n",
      "['BOE-B-2021-13864']\n",
      "['MINISTERIO PARA LA TRANSICIÓN ECOLÓGICA Y EL RETO DEMOGRÁFICO']\n",
      "[]\n",
      "https://www.boe.es/diario_boe/xml.php?id=BOE-B-2021-13864\n",
      "['BOE-B-2021-13865']\n",
      "['MINISTERIO PARA LA TRANSICIÓN ECOLÓGICA Y EL RETO DEMOGRÁFICO']\n",
      "[]\n",
      "https://www.boe.es/diario_boe/xml.php?id=BOE-B-2021-13865\n",
      "['BOE-B-2021-13866']\n",
      "['MINISTERIO PARA LA TRANSICIÓN ECOLÓGICA Y EL RETO DEMOGRÁFICO']\n",
      "[]\n",
      "https://www.boe.es/diario_boe/xml.php?id=BOE-B-2021-13866\n",
      "['BOE-B-2021-13867']\n",
      "['MINISTERIO PARA LA TRANSICIÓN ECOLÓGICA Y EL RETO DEMOGRÁFICO']\n",
      "[]\n",
      "https://www.boe.es/diario_boe/xml.php?id=BOE-B-2021-13867\n",
      "['BOE-B-2021-13868']\n",
      "['MINISTERIO PARA LA TRANSICIÓN ECOLÓGICA Y EL RETO DEMOGRÁFICO']\n",
      "[]\n",
      "https://www.boe.es/diario_boe/xml.php?id=BOE-B-2021-13868\n",
      "['BOE-B-2021-13869']\n",
      "['MINISTERIO PARA LA TRANSICIÓN ECOLÓGICA Y EL RETO DEMOGRÁFICO']\n",
      "[]\n",
      "https://www.boe.es/diario_boe/xml.php?id=BOE-B-2021-13869\n",
      "['BOE-B-2021-13870']\n",
      "['MINISTERIO PARA LA TRANSICIÓN ECOLÓGICA Y EL RETO DEMOGRÁFICO']\n",
      "[]\n",
      "https://www.boe.es/diario_boe/xml.php?id=BOE-B-2021-13870\n",
      "['BOE-B-2021-13871']\n",
      "['MINISTERIO DE ASUNTOS ECONÓMICOS Y TRANSFORMACIÓN DIGITAL']\n",
      "[]\n",
      "https://www.boe.es/diario_boe/xml.php?id=BOE-B-2021-13871\n",
      "['BOE-B-2021-13872']\n",
      "['MINISTERIO DE INCLUSIÓN, SEGURIDAD SOCIAL Y MIGRACIONES']\n",
      "[]\n",
      "https://www.boe.es/diario_boe/xml.php?id=BOE-B-2021-13872\n",
      "['BOE-B-2021-13873']\n",
      "['MINISTERIO DE INCLUSIÓN, SEGURIDAD SOCIAL Y MIGRACIONES']\n",
      "[]\n",
      "https://www.boe.es/diario_boe/xml.php?id=BOE-B-2021-13873\n",
      "['BOE-B-2021-13874']\n",
      "['MINISTERIO DE INCLUSIÓN, SEGURIDAD SOCIAL Y MIGRACIONES']\n",
      "[]\n",
      "https://www.boe.es/diario_boe/xml.php?id=BOE-B-2021-13874\n",
      "['T.C. Sección del Tribunal Constitucional']\n",
      "['BOE-A-2021-4492']\n",
      "['TRIBUNAL CONSTITUCIONAL']\n",
      "['Sentencias']\n",
      "https://www.boe.es/diario_boe/xml.php?id=BOE-A-2021-4492\n",
      "['BOE-A-2021-4493']\n",
      "['TRIBUNAL CONSTITUCIONAL']\n",
      "['Sentencias']\n",
      "https://www.boe.es/diario_boe/xml.php?id=BOE-A-2021-4493\n",
      "['BOE-A-2021-4494']\n",
      "['TRIBUNAL CONSTITUCIONAL']\n",
      "['Sentencias']\n",
      "https://www.boe.es/diario_boe/xml.php?id=BOE-A-2021-4494\n",
      "['BOE-A-2021-4495']\n",
      "['TRIBUNAL CONSTITUCIONAL']\n",
      "['Sentencias']\n",
      "https://www.boe.es/diario_boe/xml.php?id=BOE-A-2021-4495\n",
      "['BOE-A-2021-4496']\n",
      "['TRIBUNAL CONSTITUCIONAL']\n",
      "['Sentencias']\n",
      "https://www.boe.es/diario_boe/xml.php?id=BOE-A-2021-4496\n",
      "['BOE-A-2021-4497']\n",
      "['TRIBUNAL CONSTITUCIONAL']\n",
      "['Sentencias']\n",
      "https://www.boe.es/diario_boe/xml.php?id=BOE-A-2021-4497\n",
      "['BOE-A-2021-4498']\n",
      "['TRIBUNAL CONSTITUCIONAL']\n",
      "['Sentencias']\n",
      "https://www.boe.es/diario_boe/xml.php?id=BOE-A-2021-4498\n",
      "['BOE-A-2021-4499']\n",
      "['TRIBUNAL CONSTITUCIONAL']\n",
      "['Sentencias']\n",
      "https://www.boe.es/diario_boe/xml.php?id=BOE-A-2021-4499\n",
      "['BOE-A-2021-4500']\n",
      "['TRIBUNAL CONSTITUCIONAL']\n",
      "['Sentencias']\n",
      "https://www.boe.es/diario_boe/xml.php?id=BOE-A-2021-4500\n",
      "['BOE-A-2021-4501']\n",
      "['TRIBUNAL CONSTITUCIONAL']\n",
      "['Sentencias']\n",
      "https://www.boe.es/diario_boe/xml.php?id=BOE-A-2021-4501\n",
      "['BOE-A-2021-4502']\n",
      "['TRIBUNAL CONSTITUCIONAL']\n",
      "['Sentencias']\n",
      "https://www.boe.es/diario_boe/xml.php?id=BOE-A-2021-4502\n",
      "['BOE-A-2021-4503']\n",
      "['TRIBUNAL CONSTITUCIONAL']\n",
      "['Sentencias']\n",
      "https://www.boe.es/diario_boe/xml.php?id=BOE-A-2021-4503\n",
      "['BOE-A-2021-4504']\n",
      "['TRIBUNAL CONSTITUCIONAL']\n",
      "['Sentencias']\n",
      "https://www.boe.es/diario_boe/xml.php?id=BOE-A-2021-4504\n",
      "['BOE-A-2021-4505']\n",
      "['TRIBUNAL CONSTITUCIONAL']\n",
      "['Sentencias']\n",
      "https://www.boe.es/diario_boe/xml.php?id=BOE-A-2021-4505\n",
      "['BOE-A-2021-4506']\n",
      "['TRIBUNAL CONSTITUCIONAL']\n",
      "['Sentencias']\n",
      "https://www.boe.es/diario_boe/xml.php?id=BOE-A-2021-4506\n",
      "['BOE-A-2021-4507']\n",
      "['TRIBUNAL CONSTITUCIONAL']\n",
      "['Sentencias']\n",
      "https://www.boe.es/diario_boe/xml.php?id=BOE-A-2021-4507\n",
      "['BOE-A-2021-4508']\n",
      "['TRIBUNAL CONSTITUCIONAL']\n",
      "['Sentencias']\n",
      "https://www.boe.es/diario_boe/xml.php?id=BOE-A-2021-4508\n",
      "['BOE-A-2021-4509']\n",
      "['TRIBUNAL CONSTITUCIONAL']\n",
      "['Sentencias']\n",
      "https://www.boe.es/diario_boe/xml.php?id=BOE-A-2021-4509\n",
      "['BOE-A-2021-4510']\n",
      "['TRIBUNAL CONSTITUCIONAL']\n",
      "['Sentencias']\n",
      "https://www.boe.es/diario_boe/xml.php?id=BOE-A-2021-4510\n",
      "['BOE-A-2021-4511']\n",
      "['TRIBUNAL CONSTITUCIONAL']\n",
      "['Sentencias']\n",
      "https://www.boe.es/diario_boe/xml.php?id=BOE-A-2021-4511\n",
      "['BOE-A-2021-4512']\n",
      "['TRIBUNAL CONSTITUCIONAL']\n",
      "['Sentencias']\n",
      "https://www.boe.es/diario_boe/xml.php?id=BOE-A-2021-4512\n",
      "['BOE-A-2021-4513']\n",
      "['TRIBUNAL CONSTITUCIONAL']\n",
      "['Sentencias']\n",
      "https://www.boe.es/diario_boe/xml.php?id=BOE-A-2021-4513\n",
      "['BOE-A-2021-4514']\n",
      "['TRIBUNAL CONSTITUCIONAL']\n",
      "['Sentencias']\n",
      "https://www.boe.es/diario_boe/xml.php?id=BOE-A-2021-4514\n",
      "['BOE-A-2021-4515']\n",
      "['TRIBUNAL CONSTITUCIONAL']\n",
      "['Sentencias']\n",
      "https://www.boe.es/diario_boe/xml.php?id=BOE-A-2021-4515\n"
     ]
    }
   ],
   "source": [
    "for secciones in raiz.xpath('//seccion[contains(@nombre, \"I. Disposiciones generales\") or contains(@nombre, \"III. Otras disposiciones\") or contains(@nombre, \"V. Anuncios. - A. Contratación del Sector Público\") or contains(@nombre, \"T.C. Sección del Tribunal Constitucional\")]'):\n",
    "\n",
    "    nombre_seccion = secciones.xpath('@nombre')\n",
    "    print(nombre_seccion)\n",
    "\n",
    "    for seccion in secciones:\n",
    "\n",
    "        for item in seccion.xpath('.//item'):\n",
    "            item_id = item.xpath('@id')\n",
    "            print(item_id)\n",
    "            nombre_departamento = item.xpath('.//ancestor::departamento/@nombre')\n",
    "            print(nombre_departamento)\n",
    "            nombre_epigrafe = item.xpath('.//ancestor::epigrafe/@nombre')\n",
    "            print(nombre_epigrafe)\n",
    "            item_name = item.xpath('.//titulo/text()')\n",
    "            item_urlXml = \"https://www.boe.es\" + str(item.xpath('.//urlXml/text()'))[2:-2]\n",
    "            print(item_urlXml)\n",
    "            tabla_resumen = tabla_resumen.append({'Seccion': nombre_seccion, \n",
    "                                                  'Departamento': nombre_departamento, \n",
    "                                                  'Epigrafe' : nombre_epigrafe,\n",
    "                                                  'Item_id': item_id, \n",
    "                                                  'Item_Nombre' : item_name, \n",
    "                                                  'Item_URL_XML' : item_urlXml},\n",
    "                                                  ignore_index=True)"
   ]
  },
  {
   "cell_type": "code",
   "execution_count": 92,
   "metadata": {},
   "outputs": [
    {
     "output_type": "execute_result",
     "data": {
      "text/plain": [
       "72"
      ]
     },
     "metadata": {},
     "execution_count": 92
    }
   ],
   "source": [
    "len(tabla_resumen)"
   ]
  },
  {
   "cell_type": "code",
   "execution_count": 93,
   "metadata": {},
   "outputs": [
    {
     "output_type": "execute_result",
     "data": {
      "text/plain": [
       "5    [BOE-A-2021-4470]\n",
       "6    [BOE-A-2021-4471]\n",
       "7    [BOE-A-2021-4472]\n",
       "Name: Item_id, dtype: object"
      ]
     },
     "metadata": {},
     "execution_count": 93
    }
   ],
   "source": [
    "tabla_resumen['Item_id'][5:8]"
   ]
  },
  {
   "cell_type": "code",
   "execution_count": 94,
   "metadata": {},
   "outputs": [
    {
     "output_type": "execute_result",
     "data": {
      "text/plain": [
       "5    https://www.boe.es/diario_boe/xml.php?id=BOE-A...\n",
       "6    https://www.boe.es/diario_boe/xml.php?id=BOE-A...\n",
       "7    https://www.boe.es/diario_boe/xml.php?id=BOE-A...\n",
       "Name: Item_URL_XML, dtype: object"
      ]
     },
     "metadata": {},
     "execution_count": 94
    }
   ],
   "source": [
    "tabla_resumen['Item_URL_XML'][5:8]"
   ]
  },
  {
   "cell_type": "code",
   "execution_count": 95,
   "metadata": {},
   "outputs": [
    {
     "output_type": "execute_result",
     "data": {
      "text/plain": [
       "                                         Departamento  \\\n",
       "0   [MINISTERIO PARA LA TRANSICIÓN ECOLÓGICA Y EL ...   \n",
       "1                    [COMUNIDAD AUTÓNOMA DE CANARIAS]   \n",
       "2                    [COMUNIDAD AUTÓNOMA DE CANARIAS]   \n",
       "3                    [COMUNIDAD AUTÓNOMA DE CANARIAS]   \n",
       "4   [MINISTERIO DE TRANSPORTES, MOVILIDAD Y AGENDA...   \n",
       "..                                                ...   \n",
       "43  [MINISTERIO PARA LA TRANSICIÓN ECOLÓGICA Y EL ...   \n",
       "44  [MINISTERIO DE ASUNTOS ECONÓMICOS Y TRANSFORMA...   \n",
       "45  [MINISTERIO DE INCLUSIÓN, SEGURIDAD SOCIAL Y M...   \n",
       "46  [MINISTERIO DE INCLUSIÓN, SEGURIDAD SOCIAL Y M...   \n",
       "47  [MINISTERIO DE INCLUSIÓN, SEGURIDAD SOCIAL Y M...   \n",
       "\n",
       "                                             Epigrafe  \\\n",
       "0               [Estado de alarma. Energía eléctrica]   \n",
       "1                               [Escuelas infantiles]   \n",
       "2                                          [Infancia]   \n",
       "3                           [Medidas extraordinarias]   \n",
       "4   [Centro de Estudios y Experimentación de Obras...   \n",
       "..                                                ...   \n",
       "43                                                 []   \n",
       "44                                                 []   \n",
       "45                                                 []   \n",
       "46                                                 []   \n",
       "47                                                 []   \n",
       "\n",
       "                                          Item_Nombre  \\\n",
       "0   [Orden TED/260/2021, de 18 de marzo, por la qu...   \n",
       "1   [Decreto-ley 22/2020, de 23 de diciembre, de g...   \n",
       "2   [Decreto-ley 23/2020, de 23 de diciembre, por ...   \n",
       "3   [Decreto-ley 24/2020, de 23 de diciembre, de m...   \n",
       "4   [Resolución de 2 de marzo de 2021, del Centro ...   \n",
       "..                                                ...   \n",
       "43  [Anuncio de licitación de: Comité Ejecutivo de...   \n",
       "44  [Anuncio de formalización de contratos de: Ins...   \n",
       "45  [Anuncio de licitación de: Secretaría General ...   \n",
       "46  [Anuncio de licitación de: TGSS-Dirección prov...   \n",
       "47  [Anuncio de formalización de contratos de: TGS...   \n",
       "\n",
       "                                         Item_URL_XML             Item_id  \\\n",
       "0   https://www.boe.es/diario_boe/xml.php?id=BOE-A...   [BOE-A-2021-4396]   \n",
       "1   https://www.boe.es/diario_boe/xml.php?id=BOE-A...   [BOE-A-2021-4397]   \n",
       "2   https://www.boe.es/diario_boe/xml.php?id=BOE-A...   [BOE-A-2021-4398]   \n",
       "3   https://www.boe.es/diario_boe/xml.php?id=BOE-A...   [BOE-A-2021-4399]   \n",
       "4   https://www.boe.es/diario_boe/xml.php?id=BOE-A...   [BOE-A-2021-4469]   \n",
       "..                                                ...                 ...   \n",
       "43  https://www.boe.es/diario_boe/xml.php?id=BOE-B...  [BOE-B-2021-13870]   \n",
       "44  https://www.boe.es/diario_boe/xml.php?id=BOE-B...  [BOE-B-2021-13871]   \n",
       "45  https://www.boe.es/diario_boe/xml.php?id=BOE-B...  [BOE-B-2021-13872]   \n",
       "46  https://www.boe.es/diario_boe/xml.php?id=BOE-B...  [BOE-B-2021-13873]   \n",
       "47  https://www.boe.es/diario_boe/xml.php?id=BOE-B...  [BOE-B-2021-13874]   \n",
       "\n",
       "                                              Seccion  \n",
       "0                        [I. Disposiciones generales]  \n",
       "1                        [I. Disposiciones generales]  \n",
       "2                        [I. Disposiciones generales]  \n",
       "3                        [I. Disposiciones generales]  \n",
       "4                          [III. Otras disposiciones]  \n",
       "..                                                ...  \n",
       "43  [V. Anuncios. - A. Contratación del Sector Púb...  \n",
       "44  [V. Anuncios. - A. Contratación del Sector Púb...  \n",
       "45  [V. Anuncios. - A. Contratación del Sector Púb...  \n",
       "46  [V. Anuncios. - A. Contratación del Sector Púb...  \n",
       "47  [V. Anuncios. - A. Contratación del Sector Púb...  \n",
       "\n",
       "[72 rows x 6 columns]"
      ],
      "text/html": "<div>\n<style scoped>\n    .dataframe tbody tr th:only-of-type {\n        vertical-align: middle;\n    }\n\n    .dataframe tbody tr th {\n        vertical-align: top;\n    }\n\n    .dataframe thead th {\n        text-align: right;\n    }\n</style>\n<table border=\"1\" class=\"dataframe\">\n  <thead>\n    <tr style=\"text-align: right;\">\n      <th></th>\n      <th>Departamento</th>\n      <th>Epigrafe</th>\n      <th>Item_Nombre</th>\n      <th>Item_URL_XML</th>\n      <th>Item_id</th>\n      <th>Seccion</th>\n    </tr>\n  </thead>\n  <tbody>\n    <tr>\n      <th>0</th>\n      <td>[MINISTERIO PARA LA TRANSICIÓN ECOLÓGICA Y EL ...</td>\n      <td>[Estado de alarma. Energía eléctrica]</td>\n      <td>[Orden TED/260/2021, de 18 de marzo, por la qu...</td>\n      <td>https://www.boe.es/diario_boe/xml.php?id=BOE-A...</td>\n      <td>[BOE-A-2021-4396]</td>\n      <td>[I. Disposiciones generales]</td>\n    </tr>\n    <tr>\n      <th>1</th>\n      <td>[COMUNIDAD AUTÓNOMA DE CANARIAS]</td>\n      <td>[Escuelas infantiles]</td>\n      <td>[Decreto-ley 22/2020, de 23 de diciembre, de g...</td>\n      <td>https://www.boe.es/diario_boe/xml.php?id=BOE-A...</td>\n      <td>[BOE-A-2021-4397]</td>\n      <td>[I. Disposiciones generales]</td>\n    </tr>\n    <tr>\n      <th>2</th>\n      <td>[COMUNIDAD AUTÓNOMA DE CANARIAS]</td>\n      <td>[Infancia]</td>\n      <td>[Decreto-ley 23/2020, de 23 de diciembre, por ...</td>\n      <td>https://www.boe.es/diario_boe/xml.php?id=BOE-A...</td>\n      <td>[BOE-A-2021-4398]</td>\n      <td>[I. Disposiciones generales]</td>\n    </tr>\n    <tr>\n      <th>3</th>\n      <td>[COMUNIDAD AUTÓNOMA DE CANARIAS]</td>\n      <td>[Medidas extraordinarias]</td>\n      <td>[Decreto-ley 24/2020, de 23 de diciembre, de m...</td>\n      <td>https://www.boe.es/diario_boe/xml.php?id=BOE-A...</td>\n      <td>[BOE-A-2021-4399]</td>\n      <td>[I. Disposiciones generales]</td>\n    </tr>\n    <tr>\n      <th>4</th>\n      <td>[MINISTERIO DE TRANSPORTES, MOVILIDAD Y AGENDA...</td>\n      <td>[Centro de Estudios y Experimentación de Obras...</td>\n      <td>[Resolución de 2 de marzo de 2021, del Centro ...</td>\n      <td>https://www.boe.es/diario_boe/xml.php?id=BOE-A...</td>\n      <td>[BOE-A-2021-4469]</td>\n      <td>[III. Otras disposiciones]</td>\n    </tr>\n    <tr>\n      <th>...</th>\n      <td>...</td>\n      <td>...</td>\n      <td>...</td>\n      <td>...</td>\n      <td>...</td>\n      <td>...</td>\n    </tr>\n    <tr>\n      <th>43</th>\n      <td>[MINISTERIO PARA LA TRANSICIÓN ECOLÓGICA Y EL ...</td>\n      <td>[]</td>\n      <td>[Anuncio de licitación de: Comité Ejecutivo de...</td>\n      <td>https://www.boe.es/diario_boe/xml.php?id=BOE-B...</td>\n      <td>[BOE-B-2021-13870]</td>\n      <td>[V. Anuncios. - A. Contratación del Sector Púb...</td>\n    </tr>\n    <tr>\n      <th>44</th>\n      <td>[MINISTERIO DE ASUNTOS ECONÓMICOS Y TRANSFORMA...</td>\n      <td>[]</td>\n      <td>[Anuncio de formalización de contratos de: Ins...</td>\n      <td>https://www.boe.es/diario_boe/xml.php?id=BOE-B...</td>\n      <td>[BOE-B-2021-13871]</td>\n      <td>[V. Anuncios. - A. Contratación del Sector Púb...</td>\n    </tr>\n    <tr>\n      <th>45</th>\n      <td>[MINISTERIO DE INCLUSIÓN, SEGURIDAD SOCIAL Y M...</td>\n      <td>[]</td>\n      <td>[Anuncio de licitación de: Secretaría General ...</td>\n      <td>https://www.boe.es/diario_boe/xml.php?id=BOE-B...</td>\n      <td>[BOE-B-2021-13872]</td>\n      <td>[V. Anuncios. - A. Contratación del Sector Púb...</td>\n    </tr>\n    <tr>\n      <th>46</th>\n      <td>[MINISTERIO DE INCLUSIÓN, SEGURIDAD SOCIAL Y M...</td>\n      <td>[]</td>\n      <td>[Anuncio de licitación de: TGSS-Dirección prov...</td>\n      <td>https://www.boe.es/diario_boe/xml.php?id=BOE-B...</td>\n      <td>[BOE-B-2021-13873]</td>\n      <td>[V. Anuncios. - A. Contratación del Sector Púb...</td>\n    </tr>\n    <tr>\n      <th>47</th>\n      <td>[MINISTERIO DE INCLUSIÓN, SEGURIDAD SOCIAL Y M...</td>\n      <td>[]</td>\n      <td>[Anuncio de formalización de contratos de: TGS...</td>\n      <td>https://www.boe.es/diario_boe/xml.php?id=BOE-B...</td>\n      <td>[BOE-B-2021-13874]</td>\n      <td>[V. Anuncios. - A. Contratación del Sector Púb...</td>\n    </tr>\n  </tbody>\n</table>\n<p>72 rows × 6 columns</p>\n</div>"
     },
     "metadata": {},
     "execution_count": 95
    }
   ],
   "source": [
    "tabla_resumen.sort_values('Item_id')"
   ]
  },
  {
   "cell_type": "code",
   "execution_count": 96,
   "metadata": {},
   "outputs": [
    {
     "output_type": "execute_result",
     "data": {
      "text/plain": [
       "72"
      ]
     },
     "metadata": {},
     "execution_count": 96
    }
   ],
   "source": [
    "len(tabla_resumen)"
   ]
  },
  {
   "cell_type": "code",
   "execution_count": 97,
   "metadata": {},
   "outputs": [],
   "source": [
    "# Convierte columnas Departamento y Epigrafe a tipo str para poder realizar búsqueda de palabra Comunidad y variantes\n",
    "tabla_resumen['Epigrafe'] = tabla_resumen['Epigrafe'].astype(str)\n",
    "tabla_resumen['Departamento'] = tabla_resumen['Departamento'].astype(str)"
   ]
  },
  {
   "cell_type": "code",
   "execution_count": 98,
   "metadata": {},
   "outputs": [],
   "source": [
    "# Elimina disposiciones con departamento o epigrafe que contenga las palabras Comunidad y sus variantes\n",
    "terminos = ['Comunidad', 'Comunitat', 'COMUNIDAD', 'COMUNITAT']\n",
    "tabla_resumen = tabla_resumen.drop(tabla_resumen.index[tabla_resumen['Epigrafe'].str.contains('|'.join(terminos), na=False)])\n",
    "tabla_resumen = tabla_resumen.drop(tabla_resumen.index[tabla_resumen['Departamento'].str.contains('|'.join(terminos), na=False)])"
   ]
  },
  {
   "cell_type": "code",
   "execution_count": 99,
   "metadata": {},
   "outputs": [
    {
     "output_type": "execute_result",
     "data": {
      "text/plain": [
       "69"
      ]
     },
     "metadata": {},
     "execution_count": 99
    }
   ],
   "source": [
    "len(tabla_resumen)"
   ]
  },
  {
   "cell_type": "code",
   "execution_count": 100,
   "metadata": {},
   "outputs": [
    {
     "output_type": "execute_result",
     "data": {
      "text/plain": [
       "                                         Departamento  \\\n",
       "18  ['MINISTERIO DE POLÍTICA TERRITORIAL Y FUNCIÓN...   \n",
       "19  ['MINISTERIO PARA LA TRANSICIÓN ECOLÓGICA Y EL...   \n",
       "20  ['MINISTERIO PARA LA TRANSICIÓN ECOLÓGICA Y EL...   \n",
       "21  ['MINISTERIO PARA LA TRANSICIÓN ECOLÓGICA Y EL...   \n",
       "22  ['MINISTERIO PARA LA TRANSICIÓN ECOLÓGICA Y EL...   \n",
       "23  ['MINISTERIO PARA LA TRANSICIÓN ECOLÓGICA Y EL...   \n",
       "24  ['MINISTERIO PARA LA TRANSICIÓN ECOLÓGICA Y EL...   \n",
       "25  ['MINISTERIO DE DERECHOS SOCIALES Y AGENDA 2030']   \n",
       "26                    ['MINISTERIO DE UNIVERSIDADES']   \n",
       "27                         ['MINISTERIO DE JUSTICIA']   \n",
       "28  ['MINISTERIO DE TRANSPORTES, MOVILIDAD Y AGEND...   \n",
       "29  ['MINISTERIO DE TRANSPORTES, MOVILIDAD Y AGEND...   \n",
       "30  ['MINISTERIO DE TRANSPORTES, MOVILIDAD Y AGEND...   \n",
       "31  ['MINISTERIO DE TRANSPORTES, MOVILIDAD Y AGEND...   \n",
       "32  ['MINISTERIO DE TRANSPORTES, MOVILIDAD Y AGEND...   \n",
       "33  ['MINISTERIO DE TRANSPORTES, MOVILIDAD Y AGEND...   \n",
       "34  ['MINISTERIO DE TRANSPORTES, MOVILIDAD Y AGEND...   \n",
       "35        ['MINISTERIO DE TRABAJO Y ECONOMÍA SOCIAL']   \n",
       "36  ['MINISTERIO PARA LA TRANSICIÓN ECOLÓGICA Y EL...   \n",
       "37  ['MINISTERIO PARA LA TRANSICIÓN ECOLÓGICA Y EL...   \n",
       "\n",
       "                                             Epigrafe  \\\n",
       "18  ['Procedimientos de declaración de inconstituc...   \n",
       "19                                 ['Sector gasista']   \n",
       "20                                 ['Sector gasista']   \n",
       "21                                 ['Sector gasista']   \n",
       "22                                 ['Sector gasista']   \n",
       "23                                 ['Sector gasista']   \n",
       "24                                 ['Sector gasista']   \n",
       "25                                        ['Premios']   \n",
       "26                                      ['Convenios']   \n",
       "27                                                 []   \n",
       "28                                                 []   \n",
       "29                                                 []   \n",
       "30                                                 []   \n",
       "31                                                 []   \n",
       "32                                                 []   \n",
       "33                                                 []   \n",
       "34                                                 []   \n",
       "35                                                 []   \n",
       "36                                                 []   \n",
       "37                                                 []   \n",
       "\n",
       "                                          Item_Nombre  \\\n",
       "18  [Resolución de 3 de marzo de 2021, de la Secre...   \n",
       "19  [Resolución de 11 de febrero de 2021, de la Di...   \n",
       "20  [Resolución de 11 de febrero de 2021, de la Di...   \n",
       "21  [Resolución de 11 de febrero de 2021, de la Di...   \n",
       "22  [Resolución de 11 de febrero de 2021, de la Di...   \n",
       "23  [Resolución de 11 de febrero de 2021, de la Di...   \n",
       "24  [Resolución de 11 de febrero de 2021, de la Di...   \n",
       "25  [Resolución de 10 de marzo de 2021, del Instit...   \n",
       "26  [Resolución de 11 de marzo de 2021, de la Agen...   \n",
       "27  [Anuncio de formalización de contratos de: Sub...   \n",
       "28  [Anuncio de licitación de: ADIF - Presidencia....   \n",
       "29  [Anuncio de formalización de contratos de: ADI...   \n",
       "30  [Anuncio de formalización de contratos de: ADI...   \n",
       "31  [Anuncio de la Entidad Pública Empresarial Adm...   \n",
       "32  [Anuncio de licitación de: ADIF - Presidencia....   \n",
       "33  [Anuncio de licitación de: ADIF Alta Velocidad...   \n",
       "34  [Anuncio de licitación de: ADIF - Presidencia....   \n",
       "35  [Anuncio de licitación de: Secretaría General ...   \n",
       "36  [Anuncio de licitación de: Comité Ejecutivo de...   \n",
       "37  [Anuncio de licitación de: Comité Ejecutivo de...   \n",
       "\n",
       "                                         Item_URL_XML             Item_id  \\\n",
       "18  https://www.boe.es/diario_boe/xml.php?id=BOE-A...   [BOE-A-2021-4483]   \n",
       "19  https://www.boe.es/diario_boe/xml.php?id=BOE-A...   [BOE-A-2021-4484]   \n",
       "20  https://www.boe.es/diario_boe/xml.php?id=BOE-A...   [BOE-A-2021-4485]   \n",
       "21  https://www.boe.es/diario_boe/xml.php?id=BOE-A...   [BOE-A-2021-4486]   \n",
       "22  https://www.boe.es/diario_boe/xml.php?id=BOE-A...   [BOE-A-2021-4487]   \n",
       "23  https://www.boe.es/diario_boe/xml.php?id=BOE-A...   [BOE-A-2021-4488]   \n",
       "24  https://www.boe.es/diario_boe/xml.php?id=BOE-A...   [BOE-A-2021-4489]   \n",
       "25  https://www.boe.es/diario_boe/xml.php?id=BOE-A...   [BOE-A-2021-4490]   \n",
       "26  https://www.boe.es/diario_boe/xml.php?id=BOE-A...   [BOE-A-2021-4491]   \n",
       "27  https://www.boe.es/diario_boe/xml.php?id=BOE-B...  [BOE-B-2021-13854]   \n",
       "28  https://www.boe.es/diario_boe/xml.php?id=BOE-B...  [BOE-B-2021-13855]   \n",
       "29  https://www.boe.es/diario_boe/xml.php?id=BOE-B...  [BOE-B-2021-13856]   \n",
       "30  https://www.boe.es/diario_boe/xml.php?id=BOE-B...  [BOE-B-2021-13857]   \n",
       "31  https://www.boe.es/diario_boe/xml.php?id=BOE-B...  [BOE-B-2021-13858]   \n",
       "32  https://www.boe.es/diario_boe/xml.php?id=BOE-B...  [BOE-B-2021-13859]   \n",
       "33  https://www.boe.es/diario_boe/xml.php?id=BOE-B...  [BOE-B-2021-13860]   \n",
       "34  https://www.boe.es/diario_boe/xml.php?id=BOE-B...  [BOE-B-2021-13861]   \n",
       "35  https://www.boe.es/diario_boe/xml.php?id=BOE-B...  [BOE-B-2021-13862]   \n",
       "36  https://www.boe.es/diario_boe/xml.php?id=BOE-B...  [BOE-B-2021-13863]   \n",
       "37  https://www.boe.es/diario_boe/xml.php?id=BOE-B...  [BOE-B-2021-13864]   \n",
       "\n",
       "                                              Seccion  \n",
       "18                         [III. Otras disposiciones]  \n",
       "19                         [III. Otras disposiciones]  \n",
       "20                         [III. Otras disposiciones]  \n",
       "21                         [III. Otras disposiciones]  \n",
       "22                         [III. Otras disposiciones]  \n",
       "23                         [III. Otras disposiciones]  \n",
       "24                         [III. Otras disposiciones]  \n",
       "25                         [III. Otras disposiciones]  \n",
       "26                         [III. Otras disposiciones]  \n",
       "27  [V. Anuncios. - A. Contratación del Sector Púb...  \n",
       "28  [V. Anuncios. - A. Contratación del Sector Púb...  \n",
       "29  [V. Anuncios. - A. Contratación del Sector Púb...  \n",
       "30  [V. Anuncios. - A. Contratación del Sector Púb...  \n",
       "31  [V. Anuncios. - A. Contratación del Sector Púb...  \n",
       "32  [V. Anuncios. - A. Contratación del Sector Púb...  \n",
       "33  [V. Anuncios. - A. Contratación del Sector Púb...  \n",
       "34  [V. Anuncios. - A. Contratación del Sector Púb...  \n",
       "35  [V. Anuncios. - A. Contratación del Sector Púb...  \n",
       "36  [V. Anuncios. - A. Contratación del Sector Púb...  \n",
       "37  [V. Anuncios. - A. Contratación del Sector Púb...  "
      ],
      "text/html": "<div>\n<style scoped>\n    .dataframe tbody tr th:only-of-type {\n        vertical-align: middle;\n    }\n\n    .dataframe tbody tr th {\n        vertical-align: top;\n    }\n\n    .dataframe thead th {\n        text-align: right;\n    }\n</style>\n<table border=\"1\" class=\"dataframe\">\n  <thead>\n    <tr style=\"text-align: right;\">\n      <th></th>\n      <th>Departamento</th>\n      <th>Epigrafe</th>\n      <th>Item_Nombre</th>\n      <th>Item_URL_XML</th>\n      <th>Item_id</th>\n      <th>Seccion</th>\n    </tr>\n  </thead>\n  <tbody>\n    <tr>\n      <th>18</th>\n      <td>['MINISTERIO DE POLÍTICA TERRITORIAL Y FUNCIÓN...</td>\n      <td>['Procedimientos de declaración de inconstituc...</td>\n      <td>[Resolución de 3 de marzo de 2021, de la Secre...</td>\n      <td>https://www.boe.es/diario_boe/xml.php?id=BOE-A...</td>\n      <td>[BOE-A-2021-4483]</td>\n      <td>[III. Otras disposiciones]</td>\n    </tr>\n    <tr>\n      <th>19</th>\n      <td>['MINISTERIO PARA LA TRANSICIÓN ECOLÓGICA Y EL...</td>\n      <td>['Sector gasista']</td>\n      <td>[Resolución de 11 de febrero de 2021, de la Di...</td>\n      <td>https://www.boe.es/diario_boe/xml.php?id=BOE-A...</td>\n      <td>[BOE-A-2021-4484]</td>\n      <td>[III. Otras disposiciones]</td>\n    </tr>\n    <tr>\n      <th>20</th>\n      <td>['MINISTERIO PARA LA TRANSICIÓN ECOLÓGICA Y EL...</td>\n      <td>['Sector gasista']</td>\n      <td>[Resolución de 11 de febrero de 2021, de la Di...</td>\n      <td>https://www.boe.es/diario_boe/xml.php?id=BOE-A...</td>\n      <td>[BOE-A-2021-4485]</td>\n      <td>[III. Otras disposiciones]</td>\n    </tr>\n    <tr>\n      <th>21</th>\n      <td>['MINISTERIO PARA LA TRANSICIÓN ECOLÓGICA Y EL...</td>\n      <td>['Sector gasista']</td>\n      <td>[Resolución de 11 de febrero de 2021, de la Di...</td>\n      <td>https://www.boe.es/diario_boe/xml.php?id=BOE-A...</td>\n      <td>[BOE-A-2021-4486]</td>\n      <td>[III. Otras disposiciones]</td>\n    </tr>\n    <tr>\n      <th>22</th>\n      <td>['MINISTERIO PARA LA TRANSICIÓN ECOLÓGICA Y EL...</td>\n      <td>['Sector gasista']</td>\n      <td>[Resolución de 11 de febrero de 2021, de la Di...</td>\n      <td>https://www.boe.es/diario_boe/xml.php?id=BOE-A...</td>\n      <td>[BOE-A-2021-4487]</td>\n      <td>[III. Otras disposiciones]</td>\n    </tr>\n    <tr>\n      <th>23</th>\n      <td>['MINISTERIO PARA LA TRANSICIÓN ECOLÓGICA Y EL...</td>\n      <td>['Sector gasista']</td>\n      <td>[Resolución de 11 de febrero de 2021, de la Di...</td>\n      <td>https://www.boe.es/diario_boe/xml.php?id=BOE-A...</td>\n      <td>[BOE-A-2021-4488]</td>\n      <td>[III. Otras disposiciones]</td>\n    </tr>\n    <tr>\n      <th>24</th>\n      <td>['MINISTERIO PARA LA TRANSICIÓN ECOLÓGICA Y EL...</td>\n      <td>['Sector gasista']</td>\n      <td>[Resolución de 11 de febrero de 2021, de la Di...</td>\n      <td>https://www.boe.es/diario_boe/xml.php?id=BOE-A...</td>\n      <td>[BOE-A-2021-4489]</td>\n      <td>[III. Otras disposiciones]</td>\n    </tr>\n    <tr>\n      <th>25</th>\n      <td>['MINISTERIO DE DERECHOS SOCIALES Y AGENDA 2030']</td>\n      <td>['Premios']</td>\n      <td>[Resolución de 10 de marzo de 2021, del Instit...</td>\n      <td>https://www.boe.es/diario_boe/xml.php?id=BOE-A...</td>\n      <td>[BOE-A-2021-4490]</td>\n      <td>[III. Otras disposiciones]</td>\n    </tr>\n    <tr>\n      <th>26</th>\n      <td>['MINISTERIO DE UNIVERSIDADES']</td>\n      <td>['Convenios']</td>\n      <td>[Resolución de 11 de marzo de 2021, de la Agen...</td>\n      <td>https://www.boe.es/diario_boe/xml.php?id=BOE-A...</td>\n      <td>[BOE-A-2021-4491]</td>\n      <td>[III. Otras disposiciones]</td>\n    </tr>\n    <tr>\n      <th>27</th>\n      <td>['MINISTERIO DE JUSTICIA']</td>\n      <td>[]</td>\n      <td>[Anuncio de formalización de contratos de: Sub...</td>\n      <td>https://www.boe.es/diario_boe/xml.php?id=BOE-B...</td>\n      <td>[BOE-B-2021-13854]</td>\n      <td>[V. Anuncios. - A. Contratación del Sector Púb...</td>\n    </tr>\n    <tr>\n      <th>28</th>\n      <td>['MINISTERIO DE TRANSPORTES, MOVILIDAD Y AGEND...</td>\n      <td>[]</td>\n      <td>[Anuncio de licitación de: ADIF - Presidencia....</td>\n      <td>https://www.boe.es/diario_boe/xml.php?id=BOE-B...</td>\n      <td>[BOE-B-2021-13855]</td>\n      <td>[V. Anuncios. - A. Contratación del Sector Púb...</td>\n    </tr>\n    <tr>\n      <th>29</th>\n      <td>['MINISTERIO DE TRANSPORTES, MOVILIDAD Y AGEND...</td>\n      <td>[]</td>\n      <td>[Anuncio de formalización de contratos de: ADI...</td>\n      <td>https://www.boe.es/diario_boe/xml.php?id=BOE-B...</td>\n      <td>[BOE-B-2021-13856]</td>\n      <td>[V. Anuncios. - A. Contratación del Sector Púb...</td>\n    </tr>\n    <tr>\n      <th>30</th>\n      <td>['MINISTERIO DE TRANSPORTES, MOVILIDAD Y AGEND...</td>\n      <td>[]</td>\n      <td>[Anuncio de formalización de contratos de: ADI...</td>\n      <td>https://www.boe.es/diario_boe/xml.php?id=BOE-B...</td>\n      <td>[BOE-B-2021-13857]</td>\n      <td>[V. Anuncios. - A. Contratación del Sector Púb...</td>\n    </tr>\n    <tr>\n      <th>31</th>\n      <td>['MINISTERIO DE TRANSPORTES, MOVILIDAD Y AGEND...</td>\n      <td>[]</td>\n      <td>[Anuncio de la Entidad Pública Empresarial Adm...</td>\n      <td>https://www.boe.es/diario_boe/xml.php?id=BOE-B...</td>\n      <td>[BOE-B-2021-13858]</td>\n      <td>[V. Anuncios. - A. Contratación del Sector Púb...</td>\n    </tr>\n    <tr>\n      <th>32</th>\n      <td>['MINISTERIO DE TRANSPORTES, MOVILIDAD Y AGEND...</td>\n      <td>[]</td>\n      <td>[Anuncio de licitación de: ADIF - Presidencia....</td>\n      <td>https://www.boe.es/diario_boe/xml.php?id=BOE-B...</td>\n      <td>[BOE-B-2021-13859]</td>\n      <td>[V. Anuncios. - A. Contratación del Sector Púb...</td>\n    </tr>\n    <tr>\n      <th>33</th>\n      <td>['MINISTERIO DE TRANSPORTES, MOVILIDAD Y AGEND...</td>\n      <td>[]</td>\n      <td>[Anuncio de licitación de: ADIF Alta Velocidad...</td>\n      <td>https://www.boe.es/diario_boe/xml.php?id=BOE-B...</td>\n      <td>[BOE-B-2021-13860]</td>\n      <td>[V. Anuncios. - A. Contratación del Sector Púb...</td>\n    </tr>\n    <tr>\n      <th>34</th>\n      <td>['MINISTERIO DE TRANSPORTES, MOVILIDAD Y AGEND...</td>\n      <td>[]</td>\n      <td>[Anuncio de licitación de: ADIF - Presidencia....</td>\n      <td>https://www.boe.es/diario_boe/xml.php?id=BOE-B...</td>\n      <td>[BOE-B-2021-13861]</td>\n      <td>[V. Anuncios. - A. Contratación del Sector Púb...</td>\n    </tr>\n    <tr>\n      <th>35</th>\n      <td>['MINISTERIO DE TRABAJO Y ECONOMÍA SOCIAL']</td>\n      <td>[]</td>\n      <td>[Anuncio de licitación de: Secretaría General ...</td>\n      <td>https://www.boe.es/diario_boe/xml.php?id=BOE-B...</td>\n      <td>[BOE-B-2021-13862]</td>\n      <td>[V. Anuncios. - A. Contratación del Sector Púb...</td>\n    </tr>\n    <tr>\n      <th>36</th>\n      <td>['MINISTERIO PARA LA TRANSICIÓN ECOLÓGICA Y EL...</td>\n      <td>[]</td>\n      <td>[Anuncio de licitación de: Comité Ejecutivo de...</td>\n      <td>https://www.boe.es/diario_boe/xml.php?id=BOE-B...</td>\n      <td>[BOE-B-2021-13863]</td>\n      <td>[V. Anuncios. - A. Contratación del Sector Púb...</td>\n    </tr>\n    <tr>\n      <th>37</th>\n      <td>['MINISTERIO PARA LA TRANSICIÓN ECOLÓGICA Y EL...</td>\n      <td>[]</td>\n      <td>[Anuncio de licitación de: Comité Ejecutivo de...</td>\n      <td>https://www.boe.es/diario_boe/xml.php?id=BOE-B...</td>\n      <td>[BOE-B-2021-13864]</td>\n      <td>[V. Anuncios. - A. Contratación del Sector Púb...</td>\n    </tr>\n  </tbody>\n</table>\n</div>"
     },
     "metadata": {},
     "execution_count": 100
    }
   ],
   "source": [
    "tabla_resumen[15:35]"
   ]
  },
  {
   "cell_type": "code",
   "execution_count": 101,
   "metadata": {},
   "outputs": [
    {
     "output_type": "execute_result",
     "data": {
      "text/plain": [
       "Empty DataFrame\n",
       "Columns: [Departamento, Epigrafe, Item_Nombre, Item_URL_XML, Item_id, Seccion]\n",
       "Index: []"
      ],
      "text/html": "<div>\n<style scoped>\n    .dataframe tbody tr th:only-of-type {\n        vertical-align: middle;\n    }\n\n    .dataframe tbody tr th {\n        vertical-align: top;\n    }\n\n    .dataframe thead th {\n        text-align: right;\n    }\n</style>\n<table border=\"1\" class=\"dataframe\">\n  <thead>\n    <tr style=\"text-align: right;\">\n      <th></th>\n      <th>Departamento</th>\n      <th>Epigrafe</th>\n      <th>Item_Nombre</th>\n      <th>Item_URL_XML</th>\n      <th>Item_id</th>\n      <th>Seccion</th>\n    </tr>\n  </thead>\n  <tbody>\n  </tbody>\n</table>\n</div>"
     },
     "metadata": {},
     "execution_count": 101
    }
   ],
   "source": [
    "tabla_resumen[tabla_resumen['Epigrafe'].str.contains('|'.join(terminos), na=False)]"
   ]
  },
  {
   "cell_type": "code",
   "execution_count": 102,
   "metadata": {},
   "outputs": [
    {
     "output_type": "execute_result",
     "data": {
      "text/plain": [
       "69"
      ]
     },
     "metadata": {},
     "execution_count": 102
    }
   ],
   "source": [
    "len(tabla_resumen)"
   ]
  },
  {
   "cell_type": "code",
   "execution_count": 103,
   "metadata": {},
   "outputs": [
    {
     "output_type": "execute_result",
     "data": {
      "text/plain": [
       "                                         Departamento  \\\n",
       "0   ['MINISTERIO PARA LA TRANSICIÓN ECOLÓGICA Y EL...   \n",
       "4   ['MINISTERIO DE TRANSPORTES, MOVILIDAD Y AGEND...   \n",
       "5   ['MINISTERIO DE TRANSPORTES, MOVILIDAD Y AGEND...   \n",
       "6   ['MINISTERIO DE TRANSPORTES, MOVILIDAD Y AGEND...   \n",
       "7   ['MINISTERIO DE TRANSPORTES, MOVILIDAD Y AGEND...   \n",
       "..                                                ...   \n",
       "43  ['MINISTERIO PARA LA TRANSICIÓN ECOLÓGICA Y EL...   \n",
       "44  ['MINISTERIO DE ASUNTOS ECONÓMICOS Y TRANSFORM...   \n",
       "45  ['MINISTERIO DE INCLUSIÓN, SEGURIDAD SOCIAL Y ...   \n",
       "46  ['MINISTERIO DE INCLUSIÓN, SEGURIDAD SOCIAL Y ...   \n",
       "47  ['MINISTERIO DE INCLUSIÓN, SEGURIDAD SOCIAL Y ...   \n",
       "\n",
       "                                             Epigrafe  \\\n",
       "0             ['Estado de alarma. Energía eléctrica']   \n",
       "4   ['Centro de Estudios y Experimentación de Obra...   \n",
       "5                     ['Contratación administrativa']   \n",
       "6                           ['Encomienda de gestión']   \n",
       "7                                         ['Premios']   \n",
       "..                                                ...   \n",
       "43                                                 []   \n",
       "44                                                 []   \n",
       "45                                                 []   \n",
       "46                                                 []   \n",
       "47                                                 []   \n",
       "\n",
       "                                          Item_Nombre  \\\n",
       "0   [Orden TED/260/2021, de 18 de marzo, por la qu...   \n",
       "4   [Resolución de 2 de marzo de 2021, del Centro ...   \n",
       "5   [Resolución de 23 de febrero de 2021, de la Au...   \n",
       "6   [Resolución de 3 de marzo de 2021, de la Agenc...   \n",
       "7   [Orden TMA/264/2021, de 3 de marzo, por la que...   \n",
       "..                                                ...   \n",
       "43  [Anuncio de licitación de: Comité Ejecutivo de...   \n",
       "44  [Anuncio de formalización de contratos de: Ins...   \n",
       "45  [Anuncio de licitación de: Secretaría General ...   \n",
       "46  [Anuncio de licitación de: TGSS-Dirección prov...   \n",
       "47  [Anuncio de formalización de contratos de: TGS...   \n",
       "\n",
       "                                         Item_URL_XML             Item_id  \\\n",
       "0   https://www.boe.es/diario_boe/xml.php?id=BOE-A...   [BOE-A-2021-4396]   \n",
       "4   https://www.boe.es/diario_boe/xml.php?id=BOE-A...   [BOE-A-2021-4469]   \n",
       "5   https://www.boe.es/diario_boe/xml.php?id=BOE-A...   [BOE-A-2021-4470]   \n",
       "6   https://www.boe.es/diario_boe/xml.php?id=BOE-A...   [BOE-A-2021-4471]   \n",
       "7   https://www.boe.es/diario_boe/xml.php?id=BOE-A...   [BOE-A-2021-4472]   \n",
       "..                                                ...                 ...   \n",
       "43  https://www.boe.es/diario_boe/xml.php?id=BOE-B...  [BOE-B-2021-13870]   \n",
       "44  https://www.boe.es/diario_boe/xml.php?id=BOE-B...  [BOE-B-2021-13871]   \n",
       "45  https://www.boe.es/diario_boe/xml.php?id=BOE-B...  [BOE-B-2021-13872]   \n",
       "46  https://www.boe.es/diario_boe/xml.php?id=BOE-B...  [BOE-B-2021-13873]   \n",
       "47  https://www.boe.es/diario_boe/xml.php?id=BOE-B...  [BOE-B-2021-13874]   \n",
       "\n",
       "                                              Seccion  \n",
       "0                        [I. Disposiciones generales]  \n",
       "4                          [III. Otras disposiciones]  \n",
       "5                          [III. Otras disposiciones]  \n",
       "6                          [III. Otras disposiciones]  \n",
       "7                          [III. Otras disposiciones]  \n",
       "..                                                ...  \n",
       "43  [V. Anuncios. - A. Contratación del Sector Púb...  \n",
       "44  [V. Anuncios. - A. Contratación del Sector Púb...  \n",
       "45  [V. Anuncios. - A. Contratación del Sector Púb...  \n",
       "46  [V. Anuncios. - A. Contratación del Sector Púb...  \n",
       "47  [V. Anuncios. - A. Contratación del Sector Púb...  \n",
       "\n",
       "[69 rows x 6 columns]"
      ],
      "text/html": "<div>\n<style scoped>\n    .dataframe tbody tr th:only-of-type {\n        vertical-align: middle;\n    }\n\n    .dataframe tbody tr th {\n        vertical-align: top;\n    }\n\n    .dataframe thead th {\n        text-align: right;\n    }\n</style>\n<table border=\"1\" class=\"dataframe\">\n  <thead>\n    <tr style=\"text-align: right;\">\n      <th></th>\n      <th>Departamento</th>\n      <th>Epigrafe</th>\n      <th>Item_Nombre</th>\n      <th>Item_URL_XML</th>\n      <th>Item_id</th>\n      <th>Seccion</th>\n    </tr>\n  </thead>\n  <tbody>\n    <tr>\n      <th>0</th>\n      <td>['MINISTERIO PARA LA TRANSICIÓN ECOLÓGICA Y EL...</td>\n      <td>['Estado de alarma. Energía eléctrica']</td>\n      <td>[Orden TED/260/2021, de 18 de marzo, por la qu...</td>\n      <td>https://www.boe.es/diario_boe/xml.php?id=BOE-A...</td>\n      <td>[BOE-A-2021-4396]</td>\n      <td>[I. Disposiciones generales]</td>\n    </tr>\n    <tr>\n      <th>4</th>\n      <td>['MINISTERIO DE TRANSPORTES, MOVILIDAD Y AGEND...</td>\n      <td>['Centro de Estudios y Experimentación de Obra...</td>\n      <td>[Resolución de 2 de marzo de 2021, del Centro ...</td>\n      <td>https://www.boe.es/diario_boe/xml.php?id=BOE-A...</td>\n      <td>[BOE-A-2021-4469]</td>\n      <td>[III. Otras disposiciones]</td>\n    </tr>\n    <tr>\n      <th>5</th>\n      <td>['MINISTERIO DE TRANSPORTES, MOVILIDAD Y AGEND...</td>\n      <td>['Contratación administrativa']</td>\n      <td>[Resolución de 23 de febrero de 2021, de la Au...</td>\n      <td>https://www.boe.es/diario_boe/xml.php?id=BOE-A...</td>\n      <td>[BOE-A-2021-4470]</td>\n      <td>[III. Otras disposiciones]</td>\n    </tr>\n    <tr>\n      <th>6</th>\n      <td>['MINISTERIO DE TRANSPORTES, MOVILIDAD Y AGEND...</td>\n      <td>['Encomienda de gestión']</td>\n      <td>[Resolución de 3 de marzo de 2021, de la Agenc...</td>\n      <td>https://www.boe.es/diario_boe/xml.php?id=BOE-A...</td>\n      <td>[BOE-A-2021-4471]</td>\n      <td>[III. Otras disposiciones]</td>\n    </tr>\n    <tr>\n      <th>7</th>\n      <td>['MINISTERIO DE TRANSPORTES, MOVILIDAD Y AGEND...</td>\n      <td>['Premios']</td>\n      <td>[Orden TMA/264/2021, de 3 de marzo, por la que...</td>\n      <td>https://www.boe.es/diario_boe/xml.php?id=BOE-A...</td>\n      <td>[BOE-A-2021-4472]</td>\n      <td>[III. Otras disposiciones]</td>\n    </tr>\n    <tr>\n      <th>...</th>\n      <td>...</td>\n      <td>...</td>\n      <td>...</td>\n      <td>...</td>\n      <td>...</td>\n      <td>...</td>\n    </tr>\n    <tr>\n      <th>43</th>\n      <td>['MINISTERIO PARA LA TRANSICIÓN ECOLÓGICA Y EL...</td>\n      <td>[]</td>\n      <td>[Anuncio de licitación de: Comité Ejecutivo de...</td>\n      <td>https://www.boe.es/diario_boe/xml.php?id=BOE-B...</td>\n      <td>[BOE-B-2021-13870]</td>\n      <td>[V. Anuncios. - A. Contratación del Sector Púb...</td>\n    </tr>\n    <tr>\n      <th>44</th>\n      <td>['MINISTERIO DE ASUNTOS ECONÓMICOS Y TRANSFORM...</td>\n      <td>[]</td>\n      <td>[Anuncio de formalización de contratos de: Ins...</td>\n      <td>https://www.boe.es/diario_boe/xml.php?id=BOE-B...</td>\n      <td>[BOE-B-2021-13871]</td>\n      <td>[V. Anuncios. - A. Contratación del Sector Púb...</td>\n    </tr>\n    <tr>\n      <th>45</th>\n      <td>['MINISTERIO DE INCLUSIÓN, SEGURIDAD SOCIAL Y ...</td>\n      <td>[]</td>\n      <td>[Anuncio de licitación de: Secretaría General ...</td>\n      <td>https://www.boe.es/diario_boe/xml.php?id=BOE-B...</td>\n      <td>[BOE-B-2021-13872]</td>\n      <td>[V. Anuncios. - A. Contratación del Sector Púb...</td>\n    </tr>\n    <tr>\n      <th>46</th>\n      <td>['MINISTERIO DE INCLUSIÓN, SEGURIDAD SOCIAL Y ...</td>\n      <td>[]</td>\n      <td>[Anuncio de licitación de: TGSS-Dirección prov...</td>\n      <td>https://www.boe.es/diario_boe/xml.php?id=BOE-B...</td>\n      <td>[BOE-B-2021-13873]</td>\n      <td>[V. Anuncios. - A. Contratación del Sector Púb...</td>\n    </tr>\n    <tr>\n      <th>47</th>\n      <td>['MINISTERIO DE INCLUSIÓN, SEGURIDAD SOCIAL Y ...</td>\n      <td>[]</td>\n      <td>[Anuncio de formalización de contratos de: TGS...</td>\n      <td>https://www.boe.es/diario_boe/xml.php?id=BOE-B...</td>\n      <td>[BOE-B-2021-13874]</td>\n      <td>[V. Anuncios. - A. Contratación del Sector Púb...</td>\n    </tr>\n  </tbody>\n</table>\n<p>69 rows × 6 columns</p>\n</div>"
     },
     "metadata": {},
     "execution_count": 103
    }
   ],
   "source": [
    "tabla_resumen.sort_values('Item_id')"
   ]
  },
  {
   "source": [
    "# Descarga ficheros XML asociados"
   ],
   "cell_type": "markdown",
   "metadata": {}
  },
  {
   "cell_type": "code",
   "execution_count": 104,
   "metadata": {},
   "outputs": [
    {
     "output_type": "stream",
     "name": "stdout",
     "text": [
      "['https://www.boe.es/diario_boe/xml.php?id', 'BOE-A-2021-4396']\n",
      "<re.Match object; span=(0, 15), match='BOE-A-2021-4396'>\n",
      "BOE-A-2021-4396\n",
      "['https://www.boe.es/diario_boe/xml.php?id', 'BOE-A-2021-4469']\n",
      "<re.Match object; span=(0, 15), match='BOE-A-2021-4469'>\n",
      "BOE-A-2021-4469\n",
      "['https://www.boe.es/diario_boe/xml.php?id', 'BOE-A-2021-4470']\n",
      "<re.Match object; span=(0, 15), match='BOE-A-2021-4470'>\n",
      "BOE-A-2021-4470\n",
      "['https://www.boe.es/diario_boe/xml.php?id', 'BOE-A-2021-4471']\n",
      "<re.Match object; span=(0, 15), match='BOE-A-2021-4471'>\n",
      "BOE-A-2021-4471\n",
      "['https://www.boe.es/diario_boe/xml.php?id', 'BOE-A-2021-4472']\n",
      "<re.Match object; span=(0, 15), match='BOE-A-2021-4472'>\n",
      "BOE-A-2021-4472\n",
      "['https://www.boe.es/diario_boe/xml.php?id', 'BOE-A-2021-4473']\n",
      "<re.Match object; span=(0, 15), match='BOE-A-2021-4473'>\n",
      "BOE-A-2021-4473\n",
      "['https://www.boe.es/diario_boe/xml.php?id', 'BOE-A-2021-4474']\n",
      "<re.Match object; span=(0, 15), match='BOE-A-2021-4474'>\n",
      "BOE-A-2021-4474\n",
      "['https://www.boe.es/diario_boe/xml.php?id', 'BOE-A-2021-4475']\n",
      "<re.Match object; span=(0, 15), match='BOE-A-2021-4475'>\n",
      "BOE-A-2021-4475\n",
      "['https://www.boe.es/diario_boe/xml.php?id', 'BOE-A-2021-4476']\n",
      "<re.Match object; span=(0, 15), match='BOE-A-2021-4476'>\n",
      "BOE-A-2021-4476\n",
      "['https://www.boe.es/diario_boe/xml.php?id', 'BOE-A-2021-4477']\n",
      "<re.Match object; span=(0, 15), match='BOE-A-2021-4477'>\n",
      "BOE-A-2021-4477\n",
      "['https://www.boe.es/diario_boe/xml.php?id', 'BOE-A-2021-4478']\n",
      "<re.Match object; span=(0, 15), match='BOE-A-2021-4478'>\n",
      "BOE-A-2021-4478\n",
      "['https://www.boe.es/diario_boe/xml.php?id', 'BOE-A-2021-4479']\n",
      "<re.Match object; span=(0, 15), match='BOE-A-2021-4479'>\n",
      "BOE-A-2021-4479\n",
      "['https://www.boe.es/diario_boe/xml.php?id', 'BOE-A-2021-4480']\n",
      "<re.Match object; span=(0, 15), match='BOE-A-2021-4480'>\n",
      "BOE-A-2021-4480\n",
      "['https://www.boe.es/diario_boe/xml.php?id', 'BOE-A-2021-4481']\n",
      "<re.Match object; span=(0, 15), match='BOE-A-2021-4481'>\n",
      "BOE-A-2021-4481\n",
      "['https://www.boe.es/diario_boe/xml.php?id', 'BOE-A-2021-4482']\n",
      "<re.Match object; span=(0, 15), match='BOE-A-2021-4482'>\n",
      "BOE-A-2021-4482\n",
      "['https://www.boe.es/diario_boe/xml.php?id', 'BOE-A-2021-4483']\n",
      "<re.Match object; span=(0, 15), match='BOE-A-2021-4483'>\n",
      "BOE-A-2021-4483\n",
      "['https://www.boe.es/diario_boe/xml.php?id', 'BOE-A-2021-4484']\n",
      "<re.Match object; span=(0, 15), match='BOE-A-2021-4484'>\n",
      "BOE-A-2021-4484\n",
      "['https://www.boe.es/diario_boe/xml.php?id', 'BOE-A-2021-4485']\n",
      "<re.Match object; span=(0, 15), match='BOE-A-2021-4485'>\n",
      "BOE-A-2021-4485\n",
      "['https://www.boe.es/diario_boe/xml.php?id', 'BOE-A-2021-4486']\n",
      "<re.Match object; span=(0, 15), match='BOE-A-2021-4486'>\n",
      "BOE-A-2021-4486\n",
      "['https://www.boe.es/diario_boe/xml.php?id', 'BOE-A-2021-4487']\n",
      "<re.Match object; span=(0, 15), match='BOE-A-2021-4487'>\n",
      "BOE-A-2021-4487\n",
      "['https://www.boe.es/diario_boe/xml.php?id', 'BOE-A-2021-4488']\n",
      "<re.Match object; span=(0, 15), match='BOE-A-2021-4488'>\n",
      "BOE-A-2021-4488\n",
      "['https://www.boe.es/diario_boe/xml.php?id', 'BOE-A-2021-4489']\n",
      "<re.Match object; span=(0, 15), match='BOE-A-2021-4489'>\n",
      "BOE-A-2021-4489\n",
      "['https://www.boe.es/diario_boe/xml.php?id', 'BOE-A-2021-4490']\n",
      "<re.Match object; span=(0, 15), match='BOE-A-2021-4490'>\n",
      "BOE-A-2021-4490\n",
      "['https://www.boe.es/diario_boe/xml.php?id', 'BOE-A-2021-4491']\n",
      "<re.Match object; span=(0, 15), match='BOE-A-2021-4491'>\n",
      "BOE-A-2021-4491\n",
      "['https://www.boe.es/diario_boe/xml.php?id', 'BOE-B-2021-13854']\n",
      "<re.Match object; span=(0, 16), match='BOE-B-2021-13854'>\n",
      "BOE-B-2021-13854\n",
      "['https://www.boe.es/diario_boe/xml.php?id', 'BOE-B-2021-13855']\n",
      "<re.Match object; span=(0, 16), match='BOE-B-2021-13855'>\n",
      "BOE-B-2021-13855\n",
      "['https://www.boe.es/diario_boe/xml.php?id', 'BOE-B-2021-13856']\n",
      "<re.Match object; span=(0, 16), match='BOE-B-2021-13856'>\n",
      "BOE-B-2021-13856\n",
      "['https://www.boe.es/diario_boe/xml.php?id', 'BOE-B-2021-13857']\n",
      "<re.Match object; span=(0, 16), match='BOE-B-2021-13857'>\n",
      "BOE-B-2021-13857\n",
      "['https://www.boe.es/diario_boe/xml.php?id', 'BOE-B-2021-13858']\n",
      "<re.Match object; span=(0, 16), match='BOE-B-2021-13858'>\n",
      "BOE-B-2021-13858\n",
      "['https://www.boe.es/diario_boe/xml.php?id', 'BOE-B-2021-13859']\n",
      "<re.Match object; span=(0, 16), match='BOE-B-2021-13859'>\n",
      "BOE-B-2021-13859\n",
      "['https://www.boe.es/diario_boe/xml.php?id', 'BOE-B-2021-13860']\n",
      "<re.Match object; span=(0, 16), match='BOE-B-2021-13860'>\n",
      "BOE-B-2021-13860\n",
      "['https://www.boe.es/diario_boe/xml.php?id', 'BOE-B-2021-13861']\n",
      "<re.Match object; span=(0, 16), match='BOE-B-2021-13861'>\n",
      "BOE-B-2021-13861\n",
      "['https://www.boe.es/diario_boe/xml.php?id', 'BOE-B-2021-13862']\n",
      "<re.Match object; span=(0, 16), match='BOE-B-2021-13862'>\n",
      "BOE-B-2021-13862\n",
      "['https://www.boe.es/diario_boe/xml.php?id', 'BOE-B-2021-13863']\n",
      "<re.Match object; span=(0, 16), match='BOE-B-2021-13863'>\n",
      "BOE-B-2021-13863\n",
      "['https://www.boe.es/diario_boe/xml.php?id', 'BOE-B-2021-13864']\n",
      "<re.Match object; span=(0, 16), match='BOE-B-2021-13864'>\n",
      "BOE-B-2021-13864\n",
      "['https://www.boe.es/diario_boe/xml.php?id', 'BOE-B-2021-13865']\n",
      "<re.Match object; span=(0, 16), match='BOE-B-2021-13865'>\n",
      "BOE-B-2021-13865\n",
      "['https://www.boe.es/diario_boe/xml.php?id', 'BOE-B-2021-13866']\n",
      "<re.Match object; span=(0, 16), match='BOE-B-2021-13866'>\n",
      "BOE-B-2021-13866\n",
      "['https://www.boe.es/diario_boe/xml.php?id', 'BOE-B-2021-13867']\n",
      "<re.Match object; span=(0, 16), match='BOE-B-2021-13867'>\n",
      "BOE-B-2021-13867\n",
      "['https://www.boe.es/diario_boe/xml.php?id', 'BOE-B-2021-13868']\n",
      "<re.Match object; span=(0, 16), match='BOE-B-2021-13868'>\n",
      "BOE-B-2021-13868\n",
      "['https://www.boe.es/diario_boe/xml.php?id', 'BOE-B-2021-13869']\n",
      "<re.Match object; span=(0, 16), match='BOE-B-2021-13869'>\n",
      "BOE-B-2021-13869\n",
      "['https://www.boe.es/diario_boe/xml.php?id', 'BOE-B-2021-13870']\n",
      "<re.Match object; span=(0, 16), match='BOE-B-2021-13870'>\n",
      "BOE-B-2021-13870\n",
      "['https://www.boe.es/diario_boe/xml.php?id', 'BOE-B-2021-13871']\n",
      "<re.Match object; span=(0, 16), match='BOE-B-2021-13871'>\n",
      "BOE-B-2021-13871\n",
      "['https://www.boe.es/diario_boe/xml.php?id', 'BOE-B-2021-13872']\n",
      "<re.Match object; span=(0, 16), match='BOE-B-2021-13872'>\n",
      "BOE-B-2021-13872\n",
      "['https://www.boe.es/diario_boe/xml.php?id', 'BOE-B-2021-13873']\n",
      "<re.Match object; span=(0, 16), match='BOE-B-2021-13873'>\n",
      "BOE-B-2021-13873\n",
      "['https://www.boe.es/diario_boe/xml.php?id', 'BOE-B-2021-13874']\n",
      "<re.Match object; span=(0, 16), match='BOE-B-2021-13874'>\n",
      "BOE-B-2021-13874\n",
      "['https://www.boe.es/diario_boe/xml.php?id', 'BOE-A-2021-4492']\n",
      "<re.Match object; span=(0, 15), match='BOE-A-2021-4492'>\n",
      "BOE-A-2021-4492\n",
      "['https://www.boe.es/diario_boe/xml.php?id', 'BOE-A-2021-4493']\n",
      "<re.Match object; span=(0, 15), match='BOE-A-2021-4493'>\n",
      "BOE-A-2021-4493\n",
      "['https://www.boe.es/diario_boe/xml.php?id', 'BOE-A-2021-4494']\n",
      "<re.Match object; span=(0, 15), match='BOE-A-2021-4494'>\n",
      "BOE-A-2021-4494\n",
      "['https://www.boe.es/diario_boe/xml.php?id', 'BOE-A-2021-4495']\n",
      "<re.Match object; span=(0, 15), match='BOE-A-2021-4495'>\n",
      "BOE-A-2021-4495\n",
      "['https://www.boe.es/diario_boe/xml.php?id', 'BOE-A-2021-4496']\n",
      "<re.Match object; span=(0, 15), match='BOE-A-2021-4496'>\n",
      "BOE-A-2021-4496\n",
      "['https://www.boe.es/diario_boe/xml.php?id', 'BOE-A-2021-4497']\n",
      "<re.Match object; span=(0, 15), match='BOE-A-2021-4497'>\n",
      "BOE-A-2021-4497\n",
      "['https://www.boe.es/diario_boe/xml.php?id', 'BOE-A-2021-4498']\n",
      "<re.Match object; span=(0, 15), match='BOE-A-2021-4498'>\n",
      "BOE-A-2021-4498\n",
      "['https://www.boe.es/diario_boe/xml.php?id', 'BOE-A-2021-4499']\n",
      "<re.Match object; span=(0, 15), match='BOE-A-2021-4499'>\n",
      "BOE-A-2021-4499\n",
      "['https://www.boe.es/diario_boe/xml.php?id', 'BOE-A-2021-4500']\n",
      "<re.Match object; span=(0, 15), match='BOE-A-2021-4500'>\n",
      "BOE-A-2021-4500\n",
      "['https://www.boe.es/diario_boe/xml.php?id', 'BOE-A-2021-4501']\n",
      "<re.Match object; span=(0, 15), match='BOE-A-2021-4501'>\n",
      "BOE-A-2021-4501\n",
      "['https://www.boe.es/diario_boe/xml.php?id', 'BOE-A-2021-4502']\n",
      "<re.Match object; span=(0, 15), match='BOE-A-2021-4502'>\n",
      "BOE-A-2021-4502\n",
      "['https://www.boe.es/diario_boe/xml.php?id', 'BOE-A-2021-4503']\n",
      "<re.Match object; span=(0, 15), match='BOE-A-2021-4503'>\n",
      "BOE-A-2021-4503\n",
      "['https://www.boe.es/diario_boe/xml.php?id', 'BOE-A-2021-4504']\n",
      "<re.Match object; span=(0, 15), match='BOE-A-2021-4504'>\n",
      "BOE-A-2021-4504\n",
      "['https://www.boe.es/diario_boe/xml.php?id', 'BOE-A-2021-4505']\n",
      "<re.Match object; span=(0, 15), match='BOE-A-2021-4505'>\n",
      "BOE-A-2021-4505\n",
      "['https://www.boe.es/diario_boe/xml.php?id', 'BOE-A-2021-4506']\n",
      "<re.Match object; span=(0, 15), match='BOE-A-2021-4506'>\n",
      "BOE-A-2021-4506\n",
      "['https://www.boe.es/diario_boe/xml.php?id', 'BOE-A-2021-4507']\n",
      "<re.Match object; span=(0, 15), match='BOE-A-2021-4507'>\n",
      "BOE-A-2021-4507\n",
      "['https://www.boe.es/diario_boe/xml.php?id', 'BOE-A-2021-4508']\n",
      "<re.Match object; span=(0, 15), match='BOE-A-2021-4508'>\n",
      "BOE-A-2021-4508\n",
      "['https://www.boe.es/diario_boe/xml.php?id', 'BOE-A-2021-4509']\n",
      "<re.Match object; span=(0, 15), match='BOE-A-2021-4509'>\n",
      "BOE-A-2021-4509\n",
      "['https://www.boe.es/diario_boe/xml.php?id', 'BOE-A-2021-4510']\n",
      "<re.Match object; span=(0, 15), match='BOE-A-2021-4510'>\n",
      "BOE-A-2021-4510\n",
      "['https://www.boe.es/diario_boe/xml.php?id', 'BOE-A-2021-4511']\n",
      "<re.Match object; span=(0, 15), match='BOE-A-2021-4511'>\n",
      "BOE-A-2021-4511\n",
      "['https://www.boe.es/diario_boe/xml.php?id', 'BOE-A-2021-4512']\n",
      "<re.Match object; span=(0, 15), match='BOE-A-2021-4512'>\n",
      "BOE-A-2021-4512\n",
      "['https://www.boe.es/diario_boe/xml.php?id', 'BOE-A-2021-4513']\n",
      "<re.Match object; span=(0, 15), match='BOE-A-2021-4513'>\n",
      "BOE-A-2021-4513\n",
      "['https://www.boe.es/diario_boe/xml.php?id', 'BOE-A-2021-4514']\n",
      "<re.Match object; span=(0, 15), match='BOE-A-2021-4514'>\n",
      "BOE-A-2021-4514\n",
      "['https://www.boe.es/diario_boe/xml.php?id', 'BOE-A-2021-4515']\n",
      "<re.Match object; span=(0, 15), match='BOE-A-2021-4515'>\n",
      "BOE-A-2021-4515\n"
     ]
    }
   ],
   "source": [
    "for item_URL in tabla_resumen['Item_URL_XML']:\n",
    "    r = requests.get(item_URL)\n",
    "    #f = './BOEs/' + item_URL[-16:] + '.xml'\n",
    "    ### Separa el número del BOE del resto de la cadena y aplica expresión REGEX \n",
    "    print(item_URL.split('='))\n",
    "    print(re.match('BOE\\-(A|B)\\-[0-9]+\\-[0-9]+',item_URL.split('=')[1]))\n",
    "    filename = re.match('BOE\\-(A|B)\\-[0-9]+\\-[0-9]+',item_URL.split('=')[1]).group()\n",
    "    print(filename)\n",
    "    f = './BOEs/' + filename + '.xml'\n",
    "    save_html(r.content, f)"
   ]
  },
  {
   "source": [
    "# Importa de nuevo los XML generados"
   ],
   "cell_type": "markdown",
   "metadata": {}
  },
  {
   "cell_type": "code",
   "execution_count": 105,
   "metadata": {},
   "outputs": [
    {
     "output_type": "stream",
     "name": "stdout",
     "text": [
      "['./BOEs/BOE-B-2021-13860.xml', './BOEs/BOE-B-2021-13874.xml', './BOEs/BOE-A-2021-4481.xml', './BOEs/BOE-A-2021-4495.xml', './BOEs/BOE-A-2021-4494.xml', './BOEs/BOE-A-2021-4480.xml', './BOEs/BOE-B-2021-13861.xml', './BOEs/BOE-A-2021-4509.xml', './BOEs/BOE-B-2021-13863.xml', './BOEs/BOE-A-2021-4469.xml', './BOEs/BOE-A-2021-4496.xml', './BOEs/BOE-A-2021-4482.xml', './BOEs/BOE-A-2021-4483.xml', './BOEs/BOE-A-2021-4497.xml', './BOEs/BOE-B-2021-13862.xml', './BOEs/BOE-A-2021-4508.xml', './BOEs/BOE-B-2021-13872.xml', './BOEs/BOE-B-2021-13866.xml', './BOEs/BOE-A-2021-4478.xml', './BOEs/BOE-A-2021-4493.xml', './BOEs/BOE-A-2021-4487.xml', './BOEs/BOE-A-2021-4486.xml', './BOEs/BOE-A-2021-4492.xml', './BOEs/BOE-A-2021-4479.xml', './BOEs/BOE-B-2021-13867.xml', './BOEs/BOE-B-2021-13873.xml', './BOEs/BOE-B-2021-13865.xml', './BOEs/BOE-B-2021-13871.xml', './BOEs/BOE-B-2021-13859.xml', './BOEs/BOE-A-2021-4484.xml', './BOEs/BOE-A-2021-4490.xml', './BOEs/BOE-A-2021-4491.xml', './BOEs/BOE-A-2021-4485.xml', './BOEs/BOE-B-2021-13858.xml', './BOEs/BOE-B-2021-13870.xml', './BOEs/BOE-B-2021-13864.xml', './BOEs/BOE-A-2021-4396.xml', './BOEs/BOE-A-2021-4503.xml', './BOEs/BOE-B-2021-13869.xml', './BOEs/BOE-B-2021-13855.xml', './BOEs/BOE-A-2021-4477.xml', './BOEs/BOE-A-2021-4488.xml', './BOEs/BOE-A-2021-4489.xml', './BOEs/BOE-A-2021-4476.xml', './BOEs/BOE-B-2021-13854.xml', './BOEs/BOE-B-2021-13868.xml', './BOEs/BOE-A-2021-4502.xml', './BOEs/BOE-A-2021-4500.xml', './BOEs/BOE-A-2021-4514.xml', './BOEs/BOE-B-2021-13856.xml', './BOEs/BOE-A-2021-4474.xml', './BOEs/BOE-A-2021-4475.xml', './BOEs/BOE-B-2021-13857.xml', './BOEs/BOE-A-2021-4515.xml', './BOEs/BOE-A-2021-4501.xml', './BOEs/BOE-A-2021-4505.xml', './BOEs/BOE-A-2021-4511.xml', './BOEs/BOE-A-2021-4471.xml', './BOEs/BOE-A-2021-4470.xml', './BOEs/BOE-A-2021-4510.xml', './BOEs/BOE-A-2021-4504.xml', './BOEs/BOE-A-2021-4512.xml', './BOEs/BOE-A-2021-4506.xml', './BOEs/BOE-A-2021-4472.xml', './BOEs/BOE-A-2021-4499.xml', './BOEs/BOE-A-2021-4498.xml', './BOEs/BOE-A-2021-4473.xml', './BOEs/BOE-A-2021-4507.xml', './BOEs/BOE-A-2021-4513.xml']\n"
     ]
    }
   ],
   "source": [
    "\n",
    "import glob\n",
    "BOEs = glob.glob('./BOEs/BOE*.xml')\n",
    "print (BOEs)"
   ]
  },
  {
   "source": [
    "# Genera DF con datos Análisis de cada XML"
   ],
   "cell_type": "markdown",
   "metadata": {}
  },
  {
   "cell_type": "code",
   "execution_count": 106,
   "metadata": {},
   "outputs": [
    {
     "output_type": "stream",
     "name": "stdout",
     "text": [
      "./BOEs/BOE-B-2021-13860.xml\n",
      "['BOE-B-2021-13860']\n",
      "2021-03-22 00:00:00\n",
      "./BOEs/BOE-B-2021-13874.xml\n",
      "['BOE-B-2021-13874']\n",
      "2021-03-22 00:00:00\n",
      "./BOEs/BOE-A-2021-4481.xml\n",
      "['BOE-A-2021-4481']\n",
      "2021-03-22 00:00:00\n",
      "./BOEs/BOE-A-2021-4495.xml\n",
      "['BOE-A-2021-4495']\n",
      "2021-03-22 00:00:00\n",
      "./BOEs/BOE-A-2021-4494.xml\n",
      "['BOE-A-2021-4494']\n",
      "2021-03-22 00:00:00\n",
      "./BOEs/BOE-A-2021-4480.xml\n",
      "['BOE-A-2021-4480']\n",
      "2021-03-22 00:00:00\n",
      "./BOEs/BOE-B-2021-13861.xml\n",
      "['BOE-B-2021-13861']\n",
      "2021-03-22 00:00:00\n",
      "./BOEs/BOE-A-2021-4509.xml\n",
      "['BOE-A-2021-4509']\n",
      "2021-03-22 00:00:00\n",
      "./BOEs/BOE-B-2021-13863.xml\n",
      "['BOE-B-2021-13863']\n",
      "2021-03-22 00:00:00\n",
      "./BOEs/BOE-A-2021-4469.xml\n",
      "['BOE-A-2021-4469']\n",
      "2021-03-22 00:00:00\n",
      "./BOEs/BOE-A-2021-4496.xml\n",
      "['BOE-A-2021-4496']\n",
      "2021-03-22 00:00:00\n",
      "./BOEs/BOE-A-2021-4482.xml\n",
      "['BOE-A-2021-4482']\n",
      "2021-03-22 00:00:00\n",
      "./BOEs/BOE-A-2021-4483.xml\n",
      "['BOE-A-2021-4483']\n",
      "2021-03-22 00:00:00\n",
      "./BOEs/BOE-A-2021-4497.xml\n",
      "['BOE-A-2021-4497']\n",
      "2021-03-22 00:00:00\n",
      "./BOEs/BOE-B-2021-13862.xml\n",
      "['BOE-B-2021-13862']\n",
      "2021-03-22 00:00:00\n",
      "./BOEs/BOE-A-2021-4508.xml\n",
      "['BOE-A-2021-4508']\n",
      "2021-03-22 00:00:00\n",
      "./BOEs/BOE-B-2021-13872.xml\n",
      "['BOE-B-2021-13872']\n",
      "2021-03-22 00:00:00\n",
      "./BOEs/BOE-B-2021-13866.xml\n",
      "['BOE-B-2021-13866']\n",
      "2021-03-22 00:00:00\n",
      "./BOEs/BOE-A-2021-4478.xml\n",
      "['BOE-A-2021-4478']\n",
      "2021-03-22 00:00:00\n",
      "./BOEs/BOE-A-2021-4493.xml\n",
      "['BOE-A-2021-4493']\n",
      "2021-03-22 00:00:00\n",
      "./BOEs/BOE-A-2021-4487.xml\n",
      "['BOE-A-2021-4487']\n",
      "2021-03-22 00:00:00\n",
      "./BOEs/BOE-A-2021-4486.xml\n",
      "['BOE-A-2021-4486']\n",
      "2021-03-22 00:00:00\n",
      "./BOEs/BOE-A-2021-4492.xml\n",
      "['BOE-A-2021-4492']\n",
      "2021-03-22 00:00:00\n",
      "./BOEs/BOE-A-2021-4479.xml\n",
      "['BOE-A-2021-4479']\n",
      "2021-03-22 00:00:00\n",
      "./BOEs/BOE-B-2021-13867.xml\n",
      "['BOE-B-2021-13867']\n",
      "2021-03-22 00:00:00\n",
      "./BOEs/BOE-B-2021-13873.xml\n",
      "['BOE-B-2021-13873']\n",
      "2021-03-22 00:00:00\n",
      "./BOEs/BOE-B-2021-13865.xml\n",
      "['BOE-B-2021-13865']\n",
      "2021-03-22 00:00:00\n",
      "./BOEs/BOE-B-2021-13871.xml\n",
      "['BOE-B-2021-13871']\n",
      "2021-03-22 00:00:00\n",
      "./BOEs/BOE-B-2021-13859.xml\n",
      "['BOE-B-2021-13859']\n",
      "2021-03-22 00:00:00\n",
      "./BOEs/BOE-A-2021-4484.xml\n",
      "['BOE-A-2021-4484']\n",
      "2021-03-22 00:00:00\n",
      "./BOEs/BOE-A-2021-4490.xml\n",
      "['BOE-A-2021-4490']\n",
      "2021-03-22 00:00:00\n",
      "./BOEs/BOE-A-2021-4491.xml\n",
      "['BOE-A-2021-4491']\n",
      "2021-03-22 00:00:00\n",
      "./BOEs/BOE-A-2021-4485.xml\n",
      "['BOE-A-2021-4485']\n",
      "2021-03-22 00:00:00\n",
      "./BOEs/BOE-B-2021-13858.xml\n",
      "['BOE-B-2021-13858']\n",
      "2021-03-22 00:00:00\n",
      "./BOEs/BOE-B-2021-13870.xml\n",
      "['BOE-B-2021-13870']\n",
      "2021-03-22 00:00:00\n",
      "./BOEs/BOE-B-2021-13864.xml\n",
      "['BOE-B-2021-13864']\n",
      "2021-03-22 00:00:00\n",
      "./BOEs/BOE-A-2021-4396.xml\n",
      "['BOE-A-2021-4396']\n",
      "2021-03-22 00:00:00\n",
      "./BOEs/BOE-A-2021-4503.xml\n",
      "['BOE-A-2021-4503']\n",
      "2021-03-22 00:00:00\n",
      "./BOEs/BOE-B-2021-13869.xml\n",
      "['BOE-B-2021-13869']\n",
      "2021-03-22 00:00:00\n",
      "./BOEs/BOE-B-2021-13855.xml\n",
      "['BOE-B-2021-13855']\n",
      "2021-03-22 00:00:00\n",
      "./BOEs/BOE-A-2021-4477.xml\n",
      "['BOE-A-2021-4477']\n",
      "2021-03-22 00:00:00\n",
      "./BOEs/BOE-A-2021-4488.xml\n",
      "['BOE-A-2021-4488']\n",
      "2021-03-22 00:00:00\n",
      "./BOEs/BOE-A-2021-4489.xml\n",
      "['BOE-A-2021-4489']\n",
      "2021-03-22 00:00:00\n",
      "./BOEs/BOE-A-2021-4476.xml\n",
      "['BOE-A-2021-4476']\n",
      "2021-03-22 00:00:00\n",
      "./BOEs/BOE-B-2021-13854.xml\n",
      "['BOE-B-2021-13854']\n",
      "2021-03-22 00:00:00\n",
      "./BOEs/BOE-B-2021-13868.xml\n",
      "['BOE-B-2021-13868']\n",
      "2021-03-22 00:00:00\n",
      "./BOEs/BOE-A-2021-4502.xml\n",
      "['BOE-A-2021-4502']\n",
      "2021-03-22 00:00:00\n",
      "./BOEs/BOE-A-2021-4500.xml\n",
      "['BOE-A-2021-4500']\n",
      "2021-03-22 00:00:00\n",
      "./BOEs/BOE-A-2021-4514.xml\n",
      "['BOE-A-2021-4514']\n",
      "2021-03-22 00:00:00\n",
      "./BOEs/BOE-B-2021-13856.xml\n",
      "['BOE-B-2021-13856']\n",
      "2021-03-22 00:00:00\n",
      "./BOEs/BOE-A-2021-4474.xml\n",
      "['BOE-A-2021-4474']\n",
      "2021-03-22 00:00:00\n",
      "./BOEs/BOE-A-2021-4475.xml\n",
      "['BOE-A-2021-4475']\n",
      "2021-03-22 00:00:00\n",
      "./BOEs/BOE-B-2021-13857.xml\n",
      "['BOE-B-2021-13857']\n",
      "2021-03-22 00:00:00\n",
      "./BOEs/BOE-A-2021-4515.xml\n",
      "['BOE-A-2021-4515']\n",
      "2021-03-22 00:00:00\n",
      "./BOEs/BOE-A-2021-4501.xml\n",
      "['BOE-A-2021-4501']\n",
      "2021-03-22 00:00:00\n",
      "./BOEs/BOE-A-2021-4505.xml\n",
      "['BOE-A-2021-4505']\n",
      "2021-03-22 00:00:00\n",
      "./BOEs/BOE-A-2021-4511.xml\n",
      "['BOE-A-2021-4511']\n",
      "2021-03-22 00:00:00\n",
      "./BOEs/BOE-A-2021-4471.xml\n",
      "['BOE-A-2021-4471']\n",
      "2021-03-22 00:00:00\n",
      "./BOEs/BOE-A-2021-4470.xml\n",
      "['BOE-A-2021-4470']\n",
      "2021-03-22 00:00:00\n",
      "./BOEs/BOE-A-2021-4510.xml\n",
      "['BOE-A-2021-4510']\n",
      "2021-03-22 00:00:00\n",
      "./BOEs/BOE-A-2021-4504.xml\n",
      "['BOE-A-2021-4504']\n",
      "2021-03-22 00:00:00\n",
      "./BOEs/BOE-A-2021-4512.xml\n",
      "['BOE-A-2021-4512']\n",
      "2021-03-22 00:00:00\n",
      "./BOEs/BOE-A-2021-4506.xml\n",
      "['BOE-A-2021-4506']\n",
      "2021-03-22 00:00:00\n",
      "./BOEs/BOE-A-2021-4472.xml\n",
      "['BOE-A-2021-4472']\n",
      "2021-03-22 00:00:00\n",
      "./BOEs/BOE-A-2021-4499.xml\n",
      "['BOE-A-2021-4499']\n",
      "2021-03-22 00:00:00\n",
      "./BOEs/BOE-A-2021-4498.xml\n",
      "['BOE-A-2021-4498']\n",
      "2021-03-22 00:00:00\n",
      "./BOEs/BOE-A-2021-4473.xml\n",
      "['BOE-A-2021-4473']\n",
      "2021-03-22 00:00:00\n",
      "./BOEs/BOE-A-2021-4507.xml\n",
      "['BOE-A-2021-4507']\n",
      "2021-03-22 00:00:00\n",
      "./BOEs/BOE-A-2021-4513.xml\n",
      "['BOE-A-2021-4513']\n",
      "2021-03-22 00:00:00\n"
     ]
    }
   ],
   "source": [
    "tabla_analisis = pd.DataFrame()\n",
    "\n",
    "for BOE in BOEs:\n",
    "    print (BOE)\n",
    "    BOE_XML = etree.parse(BOE)\n",
    "    raiz=BOE_XML.getroot()\n",
    "\n",
    "    materias = [materia.text for materia in raiz.findall('analisis/materias/materia')]\n",
    "    alertas = [alerta.text for alerta in raiz.findall('analisis/alertas/alerta')]\n",
    "    \n",
    "    referencias = [str(referencia.xpath('@referencia')).replace(\"['\",'').replace(\"']\",'') for referencia in raiz.findall('analisis/referencias/anteriores/anterior')]\n",
    "    referencias_palabras = [referencia.text for referencia in raiz.findall('analisis/referencias/anteriores/anterior/palabra')]\n",
    "    referencias_texto = [referencia.text for referencia in raiz.findall('analisis/referencias/anteriores/anterior/texto')]\n",
    "\n",
    "    Item_Id = raiz.xpath(\".//identificador/text()\")\n",
    "    Item_name = raiz.xpath('.//titulo/text()') \n",
    "\n",
    "    print(Item_Id)\n",
    "    Fecha_Publicacion = datetime.strptime(str(raiz.xpath('.//fecha_publicacion/text()'))[2:-2],\"%Y%m%d\")\n",
    "    print(Fecha_Publicacion)\n",
    "    #Fecha_Publicacion = str(raiz.xpath('.//fecha_publicacion/text()'))[2:-2]\n",
    " \n",
    "    tabla_analisis = tabla_analisis.append({'Item_id': Item_Id,\n",
    "                                            'Item_Name' : Item_name,\n",
    "                                            'Fecha_publicacion' : Fecha_Publicacion,\n",
    "                                            'Materias' : materias,\n",
    "                                            'Alertas' : alertas,\n",
    "                                            'Referencias' : referencias,\n",
    "                                            'Referencias_palabra' : referencias_palabras,\n",
    "                                            'Referencias_texto' : referencias_texto},\n",
    "                                            ignore_index=True)\n"
   ]
  },
  {
   "cell_type": "code",
   "execution_count": 107,
   "metadata": {},
   "outputs": [
    {
     "output_type": "execute_result",
     "data": {
      "text/plain": [
       "                                              Alertas Fecha_publicacion  \\\n",
       "36                                          [Energía]        2021-03-22   \n",
       "9                                                  []        2021-03-22   \n",
       "58  [Derecho Administrativo, Organización de la Ad...        2021-03-22   \n",
       "57                                                 []        2021-03-22   \n",
       "63                                                 []        2021-03-22   \n",
       "..                                                ...               ...   \n",
       "34                                                 []        2021-03-22   \n",
       "27                                                 []        2021-03-22   \n",
       "16                                                 []        2021-03-22   \n",
       "25                                                 []        2021-03-22   \n",
       "1                                                  []        2021-03-22   \n",
       "\n",
       "                                            Item_Name             Item_id  \\\n",
       "36  [Orden TED/260/2021, de 18 de marzo, por la qu...   [BOE-A-2021-4396]   \n",
       "9   [Resolución de 2 de marzo de 2021, del Centro ...   [BOE-A-2021-4469]   \n",
       "58  [Resolución de 23 de febrero de 2021, de la Au...   [BOE-A-2021-4470]   \n",
       "57  [Resolución de 3 de marzo de 2021, de la Agenc...   [BOE-A-2021-4471]   \n",
       "63  [Orden TMA/264/2021, de 3 de marzo, por la que...   [BOE-A-2021-4472]   \n",
       "..                                                ...                 ...   \n",
       "34  [Anuncio de licitación de: Comité Ejecutivo de...  [BOE-B-2021-13870]   \n",
       "27  [Anuncio de formalización de contratos de: Ins...  [BOE-B-2021-13871]   \n",
       "16  [Anuncio de licitación de: Secretaría General ...  [BOE-B-2021-13872]   \n",
       "25  [Anuncio de licitación de: TGSS-Dirección prov...  [BOE-B-2021-13873]   \n",
       "1   [Anuncio de formalización de contratos de: TGS...  [BOE-B-2021-13874]   \n",
       "\n",
       "                                             Materias  \\\n",
       "36  [Carburantes y combustibles, Derechos de conta...   \n",
       "9                                                  []   \n",
       "58  [Asturias, Autoridades Portuarias, Mesas de Co...   \n",
       "57                                                 []   \n",
       "63                                                 []   \n",
       "..                                                ...   \n",
       "34                                                 []   \n",
       "27                                                 []   \n",
       "16                                                 []   \n",
       "25                                                 []   \n",
       "1                                                  []   \n",
       "\n",
       "                                          Referencias  \\\n",
       "36  [BOE-A-2020-6621, BOE-A-2014-6123, BOE-A-2020-...   \n",
       "9                                                  []   \n",
       "58                                                 []   \n",
       "57                                                 []   \n",
       "63                                                 []   \n",
       "..                                                ...   \n",
       "34                                                 []   \n",
       "27                                                 []   \n",
       "16                                                 []   \n",
       "25                                                 []   \n",
       "1                                                  []   \n",
       "\n",
       "                                  Referencias_palabra  \\\n",
       "36  [DE CONFORMIDAD con, DE CONFORMIDAD con, EN RE...   \n",
       "9                                                  []   \n",
       "58                                                 []   \n",
       "57                                                 []   \n",
       "63                                                 []   \n",
       "..                                                ...   \n",
       "34                                                 []   \n",
       "27                                                 []   \n",
       "16                                                 []   \n",
       "25                                                 []   \n",
       "1                                                  []   \n",
       "\n",
       "                                    Referencias_texto  \n",
       "36  [el Real Decreto-ley 23/2020, de 23 de junio, ...  \n",
       "9                                                  []  \n",
       "58                                                 []  \n",
       "57                                                 []  \n",
       "63                                                 []  \n",
       "..                                                ...  \n",
       "34                                                 []  \n",
       "27                                                 []  \n",
       "16                                                 []  \n",
       "25                                                 []  \n",
       "1                                                  []  \n",
       "\n",
       "[69 rows x 8 columns]"
      ],
      "text/html": "<div>\n<style scoped>\n    .dataframe tbody tr th:only-of-type {\n        vertical-align: middle;\n    }\n\n    .dataframe tbody tr th {\n        vertical-align: top;\n    }\n\n    .dataframe thead th {\n        text-align: right;\n    }\n</style>\n<table border=\"1\" class=\"dataframe\">\n  <thead>\n    <tr style=\"text-align: right;\">\n      <th></th>\n      <th>Alertas</th>\n      <th>Fecha_publicacion</th>\n      <th>Item_Name</th>\n      <th>Item_id</th>\n      <th>Materias</th>\n      <th>Referencias</th>\n      <th>Referencias_palabra</th>\n      <th>Referencias_texto</th>\n    </tr>\n  </thead>\n  <tbody>\n    <tr>\n      <th>36</th>\n      <td>[Energía]</td>\n      <td>2021-03-22</td>\n      <td>[Orden TED/260/2021, de 18 de marzo, por la qu...</td>\n      <td>[BOE-A-2021-4396]</td>\n      <td>[Carburantes y combustibles, Derechos de conta...</td>\n      <td>[BOE-A-2020-6621, BOE-A-2014-6123, BOE-A-2020-...</td>\n      <td>[DE CONFORMIDAD con, DE CONFORMIDAD con, EN RE...</td>\n      <td>[el Real Decreto-ley 23/2020, de 23 de junio, ...</td>\n    </tr>\n    <tr>\n      <th>9</th>\n      <td>[]</td>\n      <td>2021-03-22</td>\n      <td>[Resolución de 2 de marzo de 2021, del Centro ...</td>\n      <td>[BOE-A-2021-4469]</td>\n      <td>[]</td>\n      <td>[]</td>\n      <td>[]</td>\n      <td>[]</td>\n    </tr>\n    <tr>\n      <th>58</th>\n      <td>[Derecho Administrativo, Organización de la Ad...</td>\n      <td>2021-03-22</td>\n      <td>[Resolución de 23 de febrero de 2021, de la Au...</td>\n      <td>[BOE-A-2021-4470]</td>\n      <td>[Asturias, Autoridades Portuarias, Mesas de Co...</td>\n      <td>[]</td>\n      <td>[]</td>\n      <td>[]</td>\n    </tr>\n    <tr>\n      <th>57</th>\n      <td>[]</td>\n      <td>2021-03-22</td>\n      <td>[Resolución de 3 de marzo de 2021, de la Agenc...</td>\n      <td>[BOE-A-2021-4471]</td>\n      <td>[]</td>\n      <td>[]</td>\n      <td>[]</td>\n      <td>[]</td>\n    </tr>\n    <tr>\n      <th>63</th>\n      <td>[]</td>\n      <td>2021-03-22</td>\n      <td>[Orden TMA/264/2021, de 3 de marzo, por la que...</td>\n      <td>[BOE-A-2021-4472]</td>\n      <td>[]</td>\n      <td>[]</td>\n      <td>[]</td>\n      <td>[]</td>\n    </tr>\n    <tr>\n      <th>...</th>\n      <td>...</td>\n      <td>...</td>\n      <td>...</td>\n      <td>...</td>\n      <td>...</td>\n      <td>...</td>\n      <td>...</td>\n      <td>...</td>\n    </tr>\n    <tr>\n      <th>34</th>\n      <td>[]</td>\n      <td>2021-03-22</td>\n      <td>[Anuncio de licitación de: Comité Ejecutivo de...</td>\n      <td>[BOE-B-2021-13870]</td>\n      <td>[]</td>\n      <td>[]</td>\n      <td>[]</td>\n      <td>[]</td>\n    </tr>\n    <tr>\n      <th>27</th>\n      <td>[]</td>\n      <td>2021-03-22</td>\n      <td>[Anuncio de formalización de contratos de: Ins...</td>\n      <td>[BOE-B-2021-13871]</td>\n      <td>[]</td>\n      <td>[]</td>\n      <td>[]</td>\n      <td>[]</td>\n    </tr>\n    <tr>\n      <th>16</th>\n      <td>[]</td>\n      <td>2021-03-22</td>\n      <td>[Anuncio de licitación de: Secretaría General ...</td>\n      <td>[BOE-B-2021-13872]</td>\n      <td>[]</td>\n      <td>[]</td>\n      <td>[]</td>\n      <td>[]</td>\n    </tr>\n    <tr>\n      <th>25</th>\n      <td>[]</td>\n      <td>2021-03-22</td>\n      <td>[Anuncio de licitación de: TGSS-Dirección prov...</td>\n      <td>[BOE-B-2021-13873]</td>\n      <td>[]</td>\n      <td>[]</td>\n      <td>[]</td>\n      <td>[]</td>\n    </tr>\n    <tr>\n      <th>1</th>\n      <td>[]</td>\n      <td>2021-03-22</td>\n      <td>[Anuncio de formalización de contratos de: TGS...</td>\n      <td>[BOE-B-2021-13874]</td>\n      <td>[]</td>\n      <td>[]</td>\n      <td>[]</td>\n      <td>[]</td>\n    </tr>\n  </tbody>\n</table>\n<p>69 rows × 8 columns</p>\n</div>"
     },
     "metadata": {},
     "execution_count": 107
    }
   ],
   "source": [
    "tabla_analisis.sort_values('Item_id')"
   ]
  },
  {
   "cell_type": "code",
   "execution_count": 108,
   "metadata": {},
   "outputs": [],
   "source": [
    "# Crea nueva columna vacía de tipo lista en tabla_analisis\n",
    "tabla_analisis['Referencias_completas'] = [[] for i in range(len(tabla_analisis))]\n",
    "tabla_analisis['Tags'] = [[] for i in range(len(tabla_analisis))]\n",
    "tabla_analisis['Match_ASECORP_BBDD'] = [[] for i in range(len(tabla_analisis))]\n"
   ]
  },
  {
   "cell_type": "code",
   "execution_count": 109,
   "metadata": {},
   "outputs": [],
   "source": [
    "# Define expresiones REGEX para búsqueda de leyes, decretos, etc. referenciadas anteriormente\n",
    "pattern = ['Ley [0-9]+\\/[0-9]+','Ley Orgánica [0-9]+\\/[0-9]+','Decreto [0-9]+\\/[0-9]+','Real Decreto [0-9]+\\/[0-9]+','Real Decreto Legislativo [0-9]+\\/[0-9]+','Real Decreto-ley [0-9]+\\/[0-9]+','Orden [A-Z]+\\/[0-9]+\\/[0-9]+','Orden Circular [0-9]+\\/[0-9]+','Reglamento \\(UE\\) [0-9]+\\/[0-9]+', 'Reglamento de Ejeución \\(UE\\) [0-9]+\\/[0-9]+' ,'Sentencia de [0-9]+ de [a-z]+ de [0-9]+','Sentencia [0-9]+\\/[0-9]+','Orden de [0-9]+ de [a-z]+ de [0-9]+', 'Resolución de [0-9]+ de [a-z]+ de [0-9]+','Resolución [a-z]+\\/[0-9]+\\/[0-9]+', 'Nota de Servicio [0-9]+\\/[0-9]+', 'Acuerdo multilateral M\\-[0-9]+', 'Acuerdo Multilateral RID [0-9]+\\/[0-9]+', 'Circular [0-9]+\\/[0-9]+', 'Decisión \\(UE\\) [0-9]+\\/[0-9]+', 'Decisión de Ejecución \\(UE\\) [0-9]+\\/[0-9]+', 'Instrucción IS\\-[0-9]+']"
   ]
  },
  {
   "cell_type": "code",
   "execution_count": 110,
   "metadata": {
    "tags": []
   },
   "outputs": [
    {
     "output_type": "stream",
     "name": "stdout",
     "text": [
      "[]\n",
      "[]\n",
      "[]\n",
      "[]\n",
      "[]\n",
      "[]\n",
      "[]\n",
      "[]\n",
      "[]\n",
      "[]\n",
      "[]\n",
      "[]\n",
      "[]\n",
      "[]\n",
      "[]\n",
      "[]\n",
      "[]\n",
      "[]\n",
      "[]\n",
      "[]\n",
      "[]\n",
      "[]\n",
      "[]\n",
      "[]\n",
      "[]\n",
      "[]\n",
      "[]\n",
      "[]\n",
      "[]\n",
      "[]\n",
      "[]\n",
      "[]\n",
      "[]\n",
      "[]\n",
      "[]\n",
      "[]\n",
      "['DE CONFORMIDAD con el Real Decreto-ley 23/2020, de 23 de junio', 'DE CONFORMIDAD con el Real Decreto 413/2014, de 6 de junio', 'EN RELACIÓN con la Orden TED/171/2020, de 24 de febrero', 'CITA Real Decreto 463/2020, de 14 de marzo']\n",
      "[]\n",
      "[]\n",
      "[]\n",
      "[]\n",
      "[]\n",
      "[]\n",
      "[]\n",
      "[]\n",
      "[]\n",
      "[]\n",
      "[]\n",
      "[]\n",
      "[]\n",
      "[]\n",
      "[]\n",
      "[]\n",
      "[]\n",
      "[]\n",
      "[]\n",
      "[]\n",
      "[]\n",
      "[]\n",
      "[]\n",
      "[]\n",
      "[]\n",
      "[]\n",
      "[]\n",
      "[]\n",
      "[]\n",
      "[]\n",
      "[]\n",
      "[]\n",
      "<ipython-input-110-6f892bcd60b0>:5: SettingWithCopyWarning: \n",
      "A value is trying to be set on a copy of a slice from a DataFrame\n",
      "\n",
      "See the caveats in the documentation: https://pandas.pydata.org/pandas-docs/stable/user_guide/indexing.html#returning-a-view-versus-a-copy\n",
      "  tabla_analisis['Tags'][i] = re.findall('|'.join(pattern), str(row['Referencias_texto']), flags=re.IGNORECASE)\n"
     ]
    }
   ],
   "source": [
    "# Consolida las columnas Referencias_palabra y Referencias_texto en una única frase\n",
    "for i, row in tabla_analisis.iterrows():\n",
    "    for item_list in range(len(row['Referencias'])): \n",
    "        row['Referencias_completas'].append(row['Referencias_palabra'][item_list] + ' ' + row['Referencias_texto'][item_list])\n",
    "        tabla_analisis['Tags'][i] = re.findall('|'.join(pattern), str(row['Referencias_texto']), flags=re.IGNORECASE)\n",
    "    print(row['Referencias_completas'])"
   ]
  },
  {
   "cell_type": "code",
   "execution_count": 111,
   "metadata": {},
   "outputs": [
    {
     "output_type": "stream",
     "name": "stdout",
     "text": [
      "[]\n",
      "[]\n",
      "[]\n",
      "[]\n",
      "[]\n",
      "[]\n",
      "[]\n",
      "[]\n",
      "[]\n",
      "[]\n",
      "[]\n",
      "[]\n",
      "[]\n",
      "[]\n",
      "[]\n",
      "[]\n",
      "[]\n",
      "[]\n",
      "[]\n",
      "[]\n",
      "[]\n",
      "[]<ipython-input-111-462252720182>:3: SettingWithCopyWarning: \n",
      "A value is trying to be set on a copy of a slice from a DataFrame\n",
      "\n",
      "See the caveats in the documentation: https://pandas.pydata.org/pandas-docs/stable/user_guide/indexing.html#returning-a-view-versus-a-copy\n",
      "  tabla_analisis['Tags'][i] = list(set(tabla_analisis['Tags'][i]))\n",
      "\n",
      "[]\n",
      "[]\n",
      "[]\n",
      "[]\n",
      "[]\n",
      "[]\n",
      "[]\n",
      "[]\n",
      "[]\n",
      "[]\n",
      "[]\n",
      "[]\n",
      "[]\n",
      "[]\n",
      "['Real Decreto-ley 23/2020', 'Orden TED/171/2020', 'Real Decreto 463/2020', 'Real Decreto 413/2014']\n",
      "[]\n",
      "[]\n",
      "[]\n",
      "[]\n",
      "[]\n",
      "[]\n",
      "[]\n",
      "[]\n",
      "[]\n",
      "[]\n",
      "[]\n",
      "[]\n",
      "[]\n",
      "[]\n",
      "[]\n",
      "[]\n",
      "[]\n",
      "[]\n",
      "[]\n",
      "[]\n",
      "[]\n",
      "[]\n",
      "[]\n",
      "[]\n",
      "[]\n",
      "[]\n",
      "[]\n",
      "[]\n",
      "[]\n",
      "[]\n",
      "[]\n",
      "[]\n"
     ]
    }
   ],
   "source": [
    "# Elimina Tags duplicados\n",
    "for i, row in tabla_analisis.iterrows():\n",
    "    tabla_analisis['Tags'][i] = list(set(tabla_analisis['Tags'][i]))\n",
    "    print(tabla_analisis['Tags'][i])"
   ]
  },
  {
   "cell_type": "code",
   "execution_count": 112,
   "metadata": {},
   "outputs": [
    {
     "output_type": "execute_result",
     "data": {
      "text/plain": [
       "   Alertas Fecha_publicacion  \\\n",
       "0       []        2021-03-22   \n",
       "1       []        2021-03-22   \n",
       "2       []        2021-03-22   \n",
       "3       []        2021-03-22   \n",
       "4       []        2021-03-22   \n",
       "..     ...               ...   \n",
       "64      []        2021-03-22   \n",
       "65      []        2021-03-22   \n",
       "66      []        2021-03-22   \n",
       "67      []        2021-03-22   \n",
       "68      []        2021-03-22   \n",
       "\n",
       "                                            Item_Name             Item_id  \\\n",
       "0   [Anuncio de licitación de: ADIF Alta Velocidad...  [BOE-B-2021-13860]   \n",
       "1   [Anuncio de formalización de contratos de: TGS...  [BOE-B-2021-13874]   \n",
       "2   [Resolución de 3 de marzo de 2021, de la Secre...   [BOE-A-2021-4481]   \n",
       "3   [Sala Segunda. Sentencia 20/2021, de 15 de feb...   [BOE-A-2021-4495]   \n",
       "4   [Sala Primera. Sentencia 19/2021, de 15 de feb...   [BOE-A-2021-4494]   \n",
       "..                                                ...                 ...   \n",
       "64  [Sala Primera. Sentencia 24/2021, de 15 de feb...   [BOE-A-2021-4499]   \n",
       "65  [Sala Primera. Sentencia 23/2021, de 15 de feb...   [BOE-A-2021-4498]   \n",
       "66  [Resolución de 15 de marzo de 2021, de la Secr...   [BOE-A-2021-4473]   \n",
       "67  [Sala Primera. Sentencia 32/2021, de 15 de feb...   [BOE-A-2021-4507]   \n",
       "68  [Pleno. Sentencia 38/2021, de 18 de febrero de...   [BOE-A-2021-4513]   \n",
       "\n",
       "   Materias Referencias Referencias_palabra Referencias_texto  \\\n",
       "0        []          []                  []                []   \n",
       "1        []          []                  []                []   \n",
       "2        []          []                  []                []   \n",
       "3        []          []                  []                []   \n",
       "4        []          []                  []                []   \n",
       "..      ...         ...                 ...               ...   \n",
       "64       []          []                  []                []   \n",
       "65       []          []                  []                []   \n",
       "66       []          []                  []                []   \n",
       "67       []          []                  []                []   \n",
       "68       []          []                  []                []   \n",
       "\n",
       "   Referencias_completas Tags Match_ASECORP_BBDD  \n",
       "0                     []   []                 []  \n",
       "1                     []   []                 []  \n",
       "2                     []   []                 []  \n",
       "3                     []   []                 []  \n",
       "4                     []   []                 []  \n",
       "..                   ...  ...                ...  \n",
       "64                    []   []                 []  \n",
       "65                    []   []                 []  \n",
       "66                    []   []                 []  \n",
       "67                    []   []                 []  \n",
       "68                    []   []                 []  \n",
       "\n",
       "[69 rows x 11 columns]"
      ],
      "text/html": "<div>\n<style scoped>\n    .dataframe tbody tr th:only-of-type {\n        vertical-align: middle;\n    }\n\n    .dataframe tbody tr th {\n        vertical-align: top;\n    }\n\n    .dataframe thead th {\n        text-align: right;\n    }\n</style>\n<table border=\"1\" class=\"dataframe\">\n  <thead>\n    <tr style=\"text-align: right;\">\n      <th></th>\n      <th>Alertas</th>\n      <th>Fecha_publicacion</th>\n      <th>Item_Name</th>\n      <th>Item_id</th>\n      <th>Materias</th>\n      <th>Referencias</th>\n      <th>Referencias_palabra</th>\n      <th>Referencias_texto</th>\n      <th>Referencias_completas</th>\n      <th>Tags</th>\n      <th>Match_ASECORP_BBDD</th>\n    </tr>\n  </thead>\n  <tbody>\n    <tr>\n      <th>0</th>\n      <td>[]</td>\n      <td>2021-03-22</td>\n      <td>[Anuncio de licitación de: ADIF Alta Velocidad...</td>\n      <td>[BOE-B-2021-13860]</td>\n      <td>[]</td>\n      <td>[]</td>\n      <td>[]</td>\n      <td>[]</td>\n      <td>[]</td>\n      <td>[]</td>\n      <td>[]</td>\n    </tr>\n    <tr>\n      <th>1</th>\n      <td>[]</td>\n      <td>2021-03-22</td>\n      <td>[Anuncio de formalización de contratos de: TGS...</td>\n      <td>[BOE-B-2021-13874]</td>\n      <td>[]</td>\n      <td>[]</td>\n      <td>[]</td>\n      <td>[]</td>\n      <td>[]</td>\n      <td>[]</td>\n      <td>[]</td>\n    </tr>\n    <tr>\n      <th>2</th>\n      <td>[]</td>\n      <td>2021-03-22</td>\n      <td>[Resolución de 3 de marzo de 2021, de la Secre...</td>\n      <td>[BOE-A-2021-4481]</td>\n      <td>[]</td>\n      <td>[]</td>\n      <td>[]</td>\n      <td>[]</td>\n      <td>[]</td>\n      <td>[]</td>\n      <td>[]</td>\n    </tr>\n    <tr>\n      <th>3</th>\n      <td>[]</td>\n      <td>2021-03-22</td>\n      <td>[Sala Segunda. Sentencia 20/2021, de 15 de feb...</td>\n      <td>[BOE-A-2021-4495]</td>\n      <td>[]</td>\n      <td>[]</td>\n      <td>[]</td>\n      <td>[]</td>\n      <td>[]</td>\n      <td>[]</td>\n      <td>[]</td>\n    </tr>\n    <tr>\n      <th>4</th>\n      <td>[]</td>\n      <td>2021-03-22</td>\n      <td>[Sala Primera. Sentencia 19/2021, de 15 de feb...</td>\n      <td>[BOE-A-2021-4494]</td>\n      <td>[]</td>\n      <td>[]</td>\n      <td>[]</td>\n      <td>[]</td>\n      <td>[]</td>\n      <td>[]</td>\n      <td>[]</td>\n    </tr>\n    <tr>\n      <th>...</th>\n      <td>...</td>\n      <td>...</td>\n      <td>...</td>\n      <td>...</td>\n      <td>...</td>\n      <td>...</td>\n      <td>...</td>\n      <td>...</td>\n      <td>...</td>\n      <td>...</td>\n      <td>...</td>\n    </tr>\n    <tr>\n      <th>64</th>\n      <td>[]</td>\n      <td>2021-03-22</td>\n      <td>[Sala Primera. Sentencia 24/2021, de 15 de feb...</td>\n      <td>[BOE-A-2021-4499]</td>\n      <td>[]</td>\n      <td>[]</td>\n      <td>[]</td>\n      <td>[]</td>\n      <td>[]</td>\n      <td>[]</td>\n      <td>[]</td>\n    </tr>\n    <tr>\n      <th>65</th>\n      <td>[]</td>\n      <td>2021-03-22</td>\n      <td>[Sala Primera. Sentencia 23/2021, de 15 de feb...</td>\n      <td>[BOE-A-2021-4498]</td>\n      <td>[]</td>\n      <td>[]</td>\n      <td>[]</td>\n      <td>[]</td>\n      <td>[]</td>\n      <td>[]</td>\n      <td>[]</td>\n    </tr>\n    <tr>\n      <th>66</th>\n      <td>[]</td>\n      <td>2021-03-22</td>\n      <td>[Resolución de 15 de marzo de 2021, de la Secr...</td>\n      <td>[BOE-A-2021-4473]</td>\n      <td>[]</td>\n      <td>[]</td>\n      <td>[]</td>\n      <td>[]</td>\n      <td>[]</td>\n      <td>[]</td>\n      <td>[]</td>\n    </tr>\n    <tr>\n      <th>67</th>\n      <td>[]</td>\n      <td>2021-03-22</td>\n      <td>[Sala Primera. Sentencia 32/2021, de 15 de feb...</td>\n      <td>[BOE-A-2021-4507]</td>\n      <td>[]</td>\n      <td>[]</td>\n      <td>[]</td>\n      <td>[]</td>\n      <td>[]</td>\n      <td>[]</td>\n      <td>[]</td>\n    </tr>\n    <tr>\n      <th>68</th>\n      <td>[]</td>\n      <td>2021-03-22</td>\n      <td>[Pleno. Sentencia 38/2021, de 18 de febrero de...</td>\n      <td>[BOE-A-2021-4513]</td>\n      <td>[]</td>\n      <td>[]</td>\n      <td>[]</td>\n      <td>[]</td>\n      <td>[]</td>\n      <td>[]</td>\n      <td>[]</td>\n    </tr>\n  </tbody>\n</table>\n<p>69 rows × 11 columns</p>\n</div>"
     },
     "metadata": {},
     "execution_count": 112
    }
   ],
   "source": [
    "tabla_analisis"
   ]
  },
  {
   "cell_type": "code",
   "execution_count": 113,
   "metadata": {},
   "outputs": [
    {
     "output_type": "stream",
     "name": "stdout",
     "text": [
      "DE CONFORMIDAD con el Real Decreto-ley 23/2020, de 23 de junio\nDE CONFORMIDAD con el Real Decreto 413/2014, de 6 de junio\nEN RELACIÓN con la Orden TED/171/2020, de 24 de febrero\nCITA Real Decreto 463/2020, de 14 de marzo\n"
     ]
    }
   ],
   "source": [
    "texto = ''\n",
    "for refs in tabla_analisis['Referencias_completas']:\n",
    "    for ref in refs:\n",
    "        texto = texto + ref + ' '\n",
    "        print(ref)"
   ]
  },
  {
   "cell_type": "code",
   "execution_count": 114,
   "metadata": {},
   "outputs": [
    {
     "output_type": "stream",
     "name": "stdout",
     "text": [
      "\n",
      "['BOE-B-2021-13860']['Anuncio de licitación de: ADIF Alta Velocidad - Presidencia. Objeto: Servicio de reposición de cable de energía a 750 v en el tramo Alcover-Vilafranca de la línea de Alta Velocidad Madrid-Barcelona-Figueres. Expediente: 3.21/20810.0007.']\n",
      "\n",
      "\n",
      "['BOE-B-2021-13874']['Anuncio de formalización de contratos de: TGSS-Dirección provincial de Lugo. Objeto: Suministro de 100.000 mascarillas FFP2 con certificado de la C.E., para el personal de la Seguridad Social (INSS/TGSS) de Lugo. Expediente: 27UC2/21T.']\n",
      "\n",
      "\n",
      "['BOE-A-2021-4481']['Resolución de 3 de marzo de 2021, de la Secretaría General de Coordinación Territorial, por la que se publica el Acuerdo de la Comisión de Cooperación entre la Comunidad de Castilla y León y el Estado, en relación con la Ley 2/2020, de 24 de noviembre, de modificación del texto refundido de las normas legales vigentes en materia de condiciones de acceso y disfrute de la prestación esencial de renta garantizada de ciudadanía de Castilla y León, aprobado por el Decreto Legislativo 1/2019, de 10 de enero.']\n",
      "\n",
      "\n",
      "['BOE-A-2021-4495']['Sala Segunda. Sentencia 20/2021, de 15 de febrero de 2021. Recurso de amparo 6839-2018. Promovido por doña Silvia Cazorla Úbeda respecto de las resoluciones dictadas por un juzgado de primera instancia de Sabadell en juicio verbal de desahucio. Vulneración del derecho a la tutela judicial sin indefensión: emplazamiento mediante edictos sin apurar las posibilidades de comunicación personal (STC 62/2020).']\n",
      "\n",
      "\n",
      "['BOE-A-2021-4494']['Sala Primera. Sentencia 19/2021, de 15 de febrero de 2021. Recurso de amparo 6348-2018. Promovido por la Universidad Católica de Valencia San Vicente Mártir en relación con la Orden 24/2016, de 10 de junio, por la que se establecen las bases reguladoras para la concesión de becas para el alumnado que vaya a finalizar sus estudios universitarios en universidades públicas de la Comunitat Valenciana, y la Resolución de 11 de julio de 2016, de la Consellería de Educación, Investigación, Cultura y Deporte, por la que se convocan becas para el alumnado que vaya a finalizar sus estudios universitarios en las universidades públicas de la Comunidad Valenciana durante el curso 2016/2017, y las resoluciones dictadas por las salas de lo contencioso-administrativo del Tribunal Supremo y del Tribunal Superior de Justicia de la Comunidad Valenciana desestimando la impugnación de dicha orden. Vulneración del derecho a la igualdad en relación con el derecho a la creación de centros docentes: nulidad de los preceptos reglamentarios que limitan el disfrute de becas a los alumnos matriculados en universidades públicas integrantes del sistema universitario valenciano (STC 191/2020). Votos particulares.']\n",
      "\n",
      "\n",
      "['BOE-A-2021-4480']['Resolución de 3 de marzo de 2021, de la Secretaría General de Coordinación Territorial, por la que se publica el Acuerdo de la Comisión Bilateral de Cooperación Administración del Estado-Administración de la Comunidad Autónoma del País Vasco, en relación con la Ley 11/2019, de 20 de diciembre, de Cooperativas de Euskadi.']\n",
      "\n",
      "\n",
      "['BOE-B-2021-13861']['Anuncio de licitación de: ADIF - Presidencia. Objeto: Servicio de limpieza de dependencias. Circulación Cabecera Sur. Expediente: 2.21/46504.0004.']\n",
      "\n",
      "\n",
      "['BOE-A-2021-4509']['Pleno. Sentencia 34/2021, de 17 de febrero de 2021. Recurso de amparo 1640-2020. Promovido por doña Meritxell Borràs i Solé respecto de la sentencia de la Sala de lo Penal del Tribunal Supremo que la condenó por un delito de desobediencia. Supuesta vulneración de los derechos a la tutela judicial efectiva (resolución fundada en Derecho), al juez ordinario predeterminado por la ley y a la doble instancia penal: competencia objetiva de la Sala de lo Penal del Tribunal Supremo para la investigación y enjuiciamiento de la causa que tiene incuestionable base legal explícita; limitación fundada del derecho a la doble instancia cuando la resolución ha sido dictada por el órgano jurisdiccional superior en todos los órdenes.']\n",
      "\n",
      "\n",
      "['BOE-B-2021-13863']['Anuncio de licitación de: Comité Ejecutivo de la Mancomunidad de los Canales del Taibilla. Objeto: Proyecto 03/19 de mejora de la regulación de caudales en el Canal del Segura (Mu/Bullas). Expediente: O-03/19-04.']\n",
      "\n",
      "\n",
      "['BOE-A-2021-4469']['Resolución de 2 de marzo de 2021, del Centro de Estudios y Experimentación de Obras Públicas, por la que se publican las cuentas anuales del ejercicio 2019 y el informe de auditoría.']\n",
      "\n",
      "\n",
      "['BOE-A-2021-4496']['Sala Primera. Sentencia 21/2021, de 15 de febrero de 2021. Recurso de amparo 2914-2019. Promovido por don J.C.C. en relación con las sentencias de la Sala de lo Militar del Tribunal Supremo y del Tribunal Militar Central que confirmaron una sanción administrativa por grave desconsideración con los superiores. Vulneración de los derechos a la defensa y a la presunción de inocencia: sanción disciplinaria impuesta con infracción del derecho de no autoincriminación por las declaraciones prestadas como testigo en un juicio verbal civil.']\n",
      "\n",
      "\n",
      "['BOE-A-2021-4482']['Resolución de 3 de marzo de 2021, de la Secretaría General de Coordinación Territorial, por la que se publica el Acuerdo de la Junta de Cooperación Administración General del Estado-Comunidad Foral de Navarra, en relación con la Ley Foral 29/2019, de 23 de diciembre, de modificación de diversos impuestos y otras medidas tributarias y en relación con el Decreto-ley Foral 10/2020, de 16 de septiembre, por el que se aprueban medidas en materia de personal al servicio de la Administración de la Comunidad Foral de Navarra y sus organismos autónomos.']\n",
      "\n",
      "\n",
      "['BOE-A-2021-4483']['Resolución de 3 de marzo de 2021, de la Secretaría General de Coordinación Territorial, por la que se publica el Acuerdo de la Subcomisión de Seguimiento Normativo, Prevención y Solución de Controversias de la Comisión Bilateral de Cooperación Administración General del Estado-Comunidad Autónoma de Andalucía, en relación con el Decreto-ley 3/2019, de 24 de septiembre, de medidas urgentes para la adecuación ambiental y territorial de las edificaciones irregulares en la Comunidad Autónoma de Andalucía.']\n",
      "\n",
      "\n",
      "['BOE-A-2021-4497']['Sala Segunda. Sentencia 22/2021, de 15 de febrero de 2021. Recurso de amparo 3917-2019. Promovido por don Atik Makdad respecto de la sentencia de la Sala de lo Penal del Tribunal Supremo que le condenó por un delito contra la salud pública. Supuesta vulneración de los derechos a un proceso con todas las garantías y a la presunción de inocencia: condena en casación que no infringió los principios de inmediación ni acusatorio. Voto particular.']\n",
      "\n",
      "\n",
      "['BOE-B-2021-13862']['Anuncio de licitación de: Secretaría General del Fondo de Garantía Salarial (FOGASA). Objeto: Servicio de limpieza en determinadas Unidades Administrativas Periféricas del Fondo de GarantíaSalarial, O.A. Expediente: 69/2021.']\n",
      "\n",
      "\n",
      "['BOE-A-2021-4508']['Sala Segunda. Sentencia 33/2021, de 15 de febrero de 2021. Recurso de amparo 446-2020. Promovido por Aluminios del Maestre, SA, respecto de las resoluciones dictadas por un juzgado de primera instancia e instrucción de Villafranca de los Barros (Badajoz) en proceso de reclamación de cantidad. Vulneración del derecho a la tutela judicial efectiva: STC 40/2020 [inadecuada utilización de la dirección electrónica habilitada como cauce de comunicación del primer emplazamiento procesal (SSTC 6/2019 y 47/2019) e inadmisión de la oposición a la ejecución resultante de la confusión del deber de las personas jurídicas de relacionarse con la administración de justicia por medio de comunicaciones electrónicas con la regulación del primer emplazamiento en los procesos civiles].']\n",
      "\n",
      "\n",
      "['BOE-B-2021-13872']['Anuncio de licitación de: Secretaría General de la Tesorería General de la Seguridad Social. Objeto: Seguro de accidentes de trabajo y enfermedad profesional y seguro de responsabilidad civil para el personal de la Tesorería General de la Seguridad Social . Expediente: 2020/ASSEG.']\n",
      "\n",
      "\n",
      "['BOE-B-2021-13866']['Anuncio de licitación de: Comité Ejecutivo de la Mancomunidad de los Canales del Taibilla. Objeto: Proyecto 10/20 de renovación de equipos electromecánicos e implantación de energía renovable fotovoltaica para la mejora energética de la elevación de San Vicente del Raspeig- FEDER 14/20-MCT a cofinanciar por la Unión Europea a través del Fondo Europeo de Desarrollo Regional (FEDER), en el marco del Programa Operativo de Crecimiento Sostenible2014-2020 y dentro del Objetivo Temático 4, \"Favorecer la transición a una economía baja encarbono en todos los sectores\", con el fin de conseguir una economía más limpia y sostenible.. CP.03. O-10/20-02. Expediente: O-10/20-02.']\n",
      "\n",
      "\n",
      "['BOE-A-2021-4478']['Resolución de 3 de marzo de 2021, de la Secretaría General de Coordinación Territorial, por la que se publica el Acuerdo de la Comisión Bilateral de Cooperación Administración General del Estado-Comunidad Autónoma de Canarias, en relación con la Ley 1/2020, de 20 de marzo, de medidas urgentes, por la que se regula la ayuda para la adquisición de medicamentos financiados por el Sistema Nacional de Salud a las personas que ostenten la condición de pensionistas de la Seguridad Social y sus beneficiarios cuya renta anual sea inferior a 18.000 euros.']\n",
      "\n",
      "\n",
      "['BOE-A-2021-4493']['Sala Segunda. Sentencia 18/2021, de 15 de febrero de 2021. Recurso de amparo 3966-2018. Promovido por don Simón Viñals Pérez respecto de la sentencia de la Sala de lo Penal del Tribunal Supremo que le condenó por un delito de homicidio imprudente. Supuesta vulneración de los derechos a la tutela judicial efectiva, a un proceso con todas las garantías y a la presunción de inocencia: condena en casación que no llevó a cabo una modificación del relato de hechos probados ni una nueva valoración de la prueba y que hace uso de la teoría del incremento del riesgo como modelo de imputación del resultado en los casos de imprudencias médicas. Voto particular.']\n",
      "\n",
      "\n",
      "['BOE-A-2021-4487']['Resolución de 11 de febrero de 2021, de la Dirección General de Política Energética y Minas, por la que se determina el incentivo a la reducción de las mermas de transporte correspondientes al año 2017.']\n",
      "\n",
      "\n",
      "['BOE-A-2021-4486']['Resolución de 11 de febrero de 2021, de la Dirección General de Política Energética y Minas, por la que se determina el incentivo a la reducción de las mermas de transporte correspondientes al año 2016.']\n",
      "\n",
      "\n",
      "['BOE-A-2021-4492']['Sala Primera. Sentencia 17/2021, de 15 de febrero de 2021. Recurso de amparo 3956-2018. Promovido por doña Bárbara Gutiérrez-Maturana Kalachnikoff y dos personas más en relación con la sentencia de la Sala de lo Civil y Penal del Tribunal Superior de Justicia de Madrid anulatoria de un laudo arbitral. Vulneración del derecho a la tutela judicial efectiva (resolución fundada en Derecho): sentencia que, ignorando los límites propios de la acción de anulación del laudo, la convierte en un recurso ordinario que permite la revisión de todo lo actuado.']\n",
      "\n",
      "\n",
      "['BOE-A-2021-4479']['Resolución de 3 de marzo de 2021, de la Secretaría General de Coordinación Territorial, por la que se publica el Acuerdo de la Comisión Bilateral de Cooperación Administración General del Estado-Generalitat, en relación con el Decreto-ley 7/2020, de 26 de junio, de modificación de la Ley 19/2017, de 20 de diciembre, de renta valenciana de inclusión.']\n",
      "\n",
      "\n",
      "['BOE-B-2021-13867']['Anuncio de licitación de: Comité Ejecutivo de la Mancomunidad de los Canales del Taibilla. Objeto: Servicio destinado a la realización de análisis de aguas de consumo humano procedentes de los depósitos de varios núcleos y potabilizadoras de la Mancomunidad de los Canales del Taibilla durante el período de Agosto 2021 a Agosto 2023 (Varios). OC C.P.90. Expediente: V-02/21-03.']\n",
      "\n",
      "\n",
      "['BOE-B-2021-13873']['Anuncio de licitación de: TGSS-Dirección provincial de Murcia. Objeto: Servicios de Seguridad Integral y complementario de Control e Información, en los edificios de la Tesorería General de la Seguridad Social de la Comunidad Autónoma de la Región de Murcia, por un periodo de 12 meses.']\n",
      "\n",
      "\n",
      "['BOE-B-2021-13865']['Anuncio de licitación de: Comité Ejecutivo de la Mancomunidad de los Canales del Taibilla. Objeto: Servicio para la asistencia técnica a la dirección de las obras correspondientes al Proyecto de Renovación del Ramal de Abastecimiento Ojós - Ricote Reversible (MU/Varios). Expediente: V-01/21-03.']\n",
      "\n",
      "\n",
      "['BOE-B-2021-13871']['Anuncio de formalización de contratos de: Instituto Nacional de Estadística INE. Objeto: Servicio de mantenimiento de las instalaciones y control de calidad del mismo, de las instalaciones y los bienes muebles e inmuebles de los edificios de los Servicios Centrales del INE. Expediente: 2020N1073068.']\n",
      "\n",
      "\n",
      "['BOE-B-2021-13859']['Anuncio de licitación de: ADIF - Presidencia. Objeto: Mantenimiento y desarrollo de nuevas funcionalidades en el portal de la dirección de patrimonio y urbanismo (GP, Tigris y Visor IDEADIF). Expediente: 4.20/41110.0210.']\n",
      "\n",
      "\n",
      "['BOE-A-2021-4484']['Resolución de 11 de febrero de 2021, de la Dirección General de Política Energética y Minas, por la que se determina el incentivo a la reducción de las mermas de transporte correspondientes al año 2014.']\n",
      "\n",
      "\n",
      "['BOE-A-2021-4490']['Resolución de 10 de marzo de 2021, del Instituto de la Juventud, por la que se convocan los Premios Nacionales de Juventud para el año 2021.']\n",
      "\n",
      "\n",
      "['BOE-A-2021-4491']['Resolución de 11 de marzo de 2021, de la Agencia Nacional de Evaluación de la Calidad y Acreditación, por la que se publica la prórroga del Convenio con el Instituto de la Ingeniería de España.']\n",
      "\n",
      "\n",
      "['BOE-A-2021-4485']['Resolución de 11 de febrero de 2021, de la Dirección General de Política Energética y Minas, por la que se determina el incentivo a la reducción de las mermas de transporte correspondientes al año 2015.']\n",
      "\n",
      "\n",
      "['BOE-B-2021-13858']['Anuncio de la Entidad Pública Empresarial Administrador de Infraestructuras Ferroviarias (ADIF), por el que se comunica la nueva fecha de apertura de ofertas económicas del procedimiento de contratación del \"Suministro, instalación y mantenimiento de nuevo videowall para el CRC de Barcelona\". (Expediente: 4.20/46502.0025).']\n",
      "\n",
      "\n",
      "['BOE-B-2021-13870']['Anuncio de licitación de: Comité Ejecutivo de la Mancomunidad de los Canales del Taibilla. Objeto: Proyecto 01/20 de acondicionamiento de la ETAP de Pedrera para su adaptación a las nuevas condiciones de caudal de funcionamiento (AC/JACARILLA). Expediente: O-01/20-07.']\n",
      "\n",
      "\n",
      "['BOE-B-2021-13864']['Anuncio de licitación de: Comité Ejecutivo de la Mancomunidad de los Canales del Taibilla. Objeto: Servicio de mantenimiento preventivo, predictivo y correctivo de las instalaciones eléctricas existentes en las potabilizadoras de la Mancomunidad de los Canales del Taibilla 2021 -2023 (Varios). Expediente: V-11/20-11.']\n",
      "\n",
      "\n",
      "['BOE-A-2021-4396']['Orden TED/260/2021, de 18 de marzo, por la que se adoptan medidas de acompañamiento a las instalaciones cuyos costes de explotación dependen esencialmente del precio del combustible durante el período de vigencia del estado de alarma debido a la situación de crisis sanitaria ocasionada por el COVID-19.']\n",
      "\n",
      "\tAntecedente 1: DE CONFORMIDAD con el Real Decreto-ley 23/2020, de 23 de junio ['Real Decreto-ley 23/2020']\n",
      "\tAntecedente 2: DE CONFORMIDAD con el Real Decreto 413/2014, de 6 de junio ['Real Decreto 413/2014']\n",
      "\tAntecedente 3: EN RELACIÓN con la Orden TED/171/2020, de 24 de febrero ['Orden TED/171/2020']\n",
      "\tAntecedente 4: CITA Real Decreto 463/2020, de 14 de marzo ['Real Decreto 463/2020']\n",
      "\n",
      "['BOE-A-2021-4503']['Sala Segunda. Sentencia 28/2021, de 15 de febrero de 2021. Recurso de amparo 6093-2019. Promovido por Penrei Inversiones, S.L., respecto de las resoluciones dictadas por un juzgado de primera instancia e instrucción de Lorca en procedimiento de ejecución hipotecaria. Vulneración del derecho a la tutela judicial efectiva: STC 40/2020 [inadecuada utilización de la dirección electrónica habilitada como cauce de comunicación del primer emplazamiento procesal (SSTC 6/2019 y 47/2019) e inadmisión de la oposición a la ejecución resultante de la confusión del deber de las personas jurídicas de relacionarse con la administración de justicia por medio de comunicaciones electrónicas con la regulación del primer emplazamiento en los procesos civiles].']\n",
      "\n",
      "\n",
      "['BOE-B-2021-13869']['Anuncio de licitación de: Comité Ejecutivo de la Mancomunidad de los Canales del Taibilla. Objeto: Proyecto 02/20 de acondicionamiento de la ETAP de Campotéjar para su adaptación a las nuevas condiciones de caudal de funcionamiento (Mu/ Molina de Segura). Expediente: O-02/20-04.']\n",
      "\n",
      "\n",
      "['BOE-B-2021-13855']['Anuncio de licitación de: ADIF - Presidencia. Objeto: Servicio de asistencia técnica en el proceso de desarrollo, implantación y aplicación de los métodos comunes de seguridad en la Dirección General de Negocio y Operaciones Comerciales. Expediente: 2.21/08108.0009.']\n",
      "\n",
      "\n",
      "['BOE-A-2021-4477']['Resolución de 10 de marzo de 2021, de la Dirección General de Trabajo, por la que se registran y publican las tablas salariales relativas al Convenio colectivo de MDL Distribución Logística, SA.']\n",
      "\n",
      "\n",
      "['BOE-A-2021-4488']['Resolución de 11 de febrero de 2021, de la Dirección General de Política Energética y Minas, por la que se determina el incentivo a la reducción de las mermas de transporte correspondientes al año 2018.']\n",
      "\n",
      "\n",
      "['BOE-A-2021-4489']['Resolución de 11 de febrero de 2021, de la Dirección General de Política Energética y Minas, por la que se establece la valoración de los saldos de mermas de plantas de regasificación del año 2018.']\n",
      "\n",
      "\n",
      "['BOE-A-2021-4476']['Resolución de 10 de marzo de 2021, de la Dirección General de Trabajo, por la que se registra y publica el III Convenio colectivo marco estatal del sector ocio educativo y animación sociocultural.']\n",
      "\n",
      "\n",
      "['BOE-B-2021-13854']['Anuncio de formalización de contratos de: Subsecretaría del Ministerio de Justicia. Objeto: Suministro por lotes (10) de equipos de laboratorio de uso rutinario para los servicios del Instituto Nacional de Toxicología y Ciencias Forenses. Expediente: ASU/2019/058.']\n",
      "\n",
      "\n",
      "['BOE-B-2021-13868']['Anuncio de licitación de: Comité Ejecutivo de la Mancomunidad de los Canales del Taibilla. Objeto: Servicio para seguimiento de obras, servicios y suministros de sistemas de protección de seguridad en instalaciones, infraestructuras y edificios de la Mancomunidad de los Canales del Taibilla, Años 2021- 2023 (Varios). Expediente: V-11/20-07.']\n",
      "\n",
      "\n",
      "['BOE-A-2021-4502']['Sala Segunda. Sentencia 27/2021, de 15 de febrero de 2021. Recurso de amparo 6087-2019. Promovido por Euroinversiones Inmobiliarias Costa Sur, S.L., respecto de las resoluciones dictadas por un juzgado de primera instancia e instrucción de Lorca en procedimiento de ejecución hipotecaria. Vulneración del derecho a la tutela judicial efectiva: STC 40/2020 [inadecuada utilización de la dirección electrónica habilitada como cauce de comunicación del primer emplazamiento procesal (SSTC 6/2019 y 47/2019) e inadmisión de la oposición a la ejecución resultante de la confusión del deber de las personas jurídicas de relacionarse con la administración de justicia por medio de comunicaciones electrónicas con la regulación del primer emplazamiento en los procesos civiles].']\n",
      "\n",
      "\n",
      "['BOE-A-2021-4500']['Sala Segunda. Sentencia 25/2021, de 15 de febrero de 2021. Recurso de amparo 5857-2019. Promovido por Ferma Móvil, S.L., en relación con las resoluciones dictadas por un juzgado de primera instancia e instrucción de Ciudad Real en proceso de reclamación de cantidad. Vulneración del derecho a la tutela judicial efectiva: STC 40/2020 [inadecuada utilización de la dirección electrónica habilitada como cauce de comunicación del primer emplazamiento procesal (SSTC 6/2019 y 47/2019) e inadmisión de la oposición a la ejecución resultante de la confusión del deber de las personas jurídicas de relacionarse con la administración de justicia por medio de comunicaciones electrónicas con la regulación del primer emplazamiento en los procesos civiles].']\n",
      "\n",
      "\n",
      "['BOE-A-2021-4514']['Pleno. Sentencia 39/2021, de 18 de febrero de 2021. Conflicto positivo de competencia 4491-2020. Planteado por el Gobierno de la Junta de Andalucía en relación con el artículo 5.3 a) del Real Decreto 498/2020, de 28 de abril, por el que se desarrolla la estructura orgánica básica del Ministerio de Educación y Formación Profesional. Competencias sobre legislación laboral: nulidad del precepto reglamentario que presupone la reserva de potestades de ejecución a un órgano estatal.']\n",
      "\n",
      "\n",
      "['BOE-B-2021-13856']['Anuncio de formalización de contratos de: ADIF - Presidencia. Objeto: Emergencia por efectos de la borrasca Gloria en el puente sobre el Tordera en el Punto Kilométrico 059/183 de la Línea 276 - Bifurcación Sagrera - Maçanet Massanes. Obra. Expediente: 3.20/27507.0026.']\n",
      "\n",
      "\n",
      "['BOE-A-2021-4474']['Resolución de 10 de marzo de 2021, de la Dirección General de Trabajo, por la que se registra y publica el Convenio colectivo de Federación Farmacéutica, S.C.C.L.']\n",
      "\n",
      "\n",
      "['BOE-A-2021-4475']['Resolución de 10 de marzo de 2021, de la Dirección General de Trabajo, por la que se registra y publica el III Convenio colectivo estatal del personal de estructura del Grupo Mercantil ISS.']\n",
      "\n",
      "\n",
      "['BOE-B-2021-13857']['Anuncio de formalización de contratos de: ADIF - Presidencia. Objeto: Emergencia por efectos de la borrasca Gloria en el puente sobre el Tordera en el Punto Kilométrico 059/183 de la Línea 276 - Bifurcación Sagrera - Maçanet Massanes. Asistencia Técnica. Expediente: 3.20/27507.0027.']\n",
      "\n",
      "\n",
      "['BOE-A-2021-4515']['Pleno. Sentencia 40/2021, de 18 de febrero de 2021. Recurso de inconstitucionalidad 4649-2020. Interpuesto por más de cincuenta senadores del Grupo Parlamentario Socialista respecto del Decreto-ley de la Junta de Castilla y León 6/2020, de 2 de julio, de medidas urgentes para incentivar las medidas de recuperación económica y social en el ámbito local. Límites materiales de los decretos leyes: justificación suficiente de la concurrencia del presupuesto habilitante de la extraordinaria y urgente necesidad en la reforma de la participación de los entes locales en fondos de titularidad autonómica.']\n",
      "\n",
      "\n",
      "['BOE-A-2021-4501']['Sala Segunda. Sentencia 26/2021, de 15 de febrero de 2021. Recurso de amparo 6079-2019. Promovido por Euroinversiones Inmobiliarias Costa Sur, S.L., respecto de las resoluciones dictadas por un juzgado de primera instancia e instrucción de Lorca en procedimiento de ejecución hipotecaria. Vulneración del derecho a la tutela judicial efectiva: STC 40/2020 [inadecuada utilización de la dirección electrónica habilitada como cauce de comunicación del primer emplazamiento procesal (SSTC 6/2019 y 47/2019) e inadmisión de la oposición a la ejecución resultante de la confusión del deber de las personas jurídicas de relacionarse con la administración de justicia por medio de comunicaciones electrónicas con la regulación del primer emplazamiento en los procesos civiles].']\n",
      "\n",
      "\n",
      "['BOE-A-2021-4505']['Sala Primera. Sentencia 30/2021, de 15 de febrero de 2021. Recurso de amparo 7501-2019. Promovido por Penrei Inversiones, S.L., respecto de las resoluciones dictadas por un juzgado de primera instancia e instrucción de Lorca en procedimiento de ejecución hipotecaria. Vulneración del derecho a la tutela judicial efectiva: STC 40/2020 [inadecuada utilización de la dirección electrónica habilitada como cauce de comunicación del primer emplazamiento procesal (SSTC 6/2019 y 47/2019) e inadmisión de la oposición a la ejecución resultante de la confusión del deber de las personas jurídicas de relacionarse con la administración de justicia por medio de comunicaciones electrónicas con la regulación del primer emplazamiento en los procesos civiles].']\n",
      "\n",
      "\n",
      "['BOE-A-2021-4511']['Pleno. Sentencia 36/2021, de 18 de febrero de 2021. Conflicto positivo de competencia 4088-2019. Planteado por el Gobierno de Cataluña en relación con diversos preceptos del Reglamento de adopción internacional aprobado por el Real Decreto 165/2019, de 22 de marzo. Competencias en materia de relaciones internacionales y protección de menores: nulidad de diversos preceptos de la Ley 54/2007, de 28 de diciembre, de adopción internacional, y de su Reglamento de desarrollo, que atribuyen funciones estrictamente ejecutivas a la administración del Estado. Voto particular.']\n",
      "\n",
      "\n",
      "['BOE-A-2021-4471']['Resolución de 3 de marzo de 2021, de la Agencia Estatal de Seguridad Ferroviaria, por la que se publica el Acuerdo de encomienda de gestión con el Ministerio de Transportes, Movilidad y Agenda Urbana, en relación con la gestión de los concursos para la provisión de puestos de trabajo en la Agencia Estatal de Seguridad Ferroviaria.']\n",
      "\n",
      "\n",
      "['BOE-A-2021-4470']['Resolución de 23 de febrero de 2021, de la Autoridad Portuaria de Gijón, por la que se publica la modificación de la composición de la Mesa de Contratación Permanente.']\n",
      "\n",
      "\n",
      "['BOE-A-2021-4510']['Pleno. Sentencia 35/2021, de 18 de febrero de 2021. Recurso de amparo 1265-2018. Promovido por don Jerry Aroon-Kumar Rustveld respecto de las sentencias dictadas por la Audiencia Provincial de Baleares y un juzgado de lo penal de Palma de Mallorca, que le condenaron por un delito de amenazas leves. Vulneración de los derechos a la defensa y a un proceso con todas las garantías: privación del derecho a la última palabra, a cuyo ejercicio no se había renunciado expresamente; matización de la doctrina de la STC 258/2007, de 18 de diciembre.']\n",
      "\n",
      "\n",
      "['BOE-A-2021-4504']['Sala Segunda. Sentencia 29/2021, de 15 de febrero de 2021. Recurso de amparo 7447-2019. Promovido por doña Encarnación Castella Águila respecto de los autos dictados por la Sala de lo Penal de la Audiencia Nacional y un juzgado central de instrucción en el curso de diligencias previas por posible comisión de delitos en relación con la prestación de servicios odontológicos. Vulneración del derecho a la tutela judicial efectiva en relación con los derechos a la asistencia jurídica gratuita y a la asistencia letrada: resoluciones judiciales que supeditaron la intervención como acusación particular a la utilización de la defensa y representación de alguna de aquellas otras previamente personadas.']\n",
      "\n",
      "\n",
      "['BOE-A-2021-4512']['Pleno. Sentencia 37/2021, de 18 de febrero de 2021. Conflicto positivo de competencia 4709-2019. Planteado por el Gobierno vasco en relación con diversos preceptos del Real Decreto 130/2019, de 8 de marzo, por el que se regula la base de datos nacional de subvenciones y la publicidad de las subvenciones y demás ayudas públicas. Potestad de autoorganización y autonomía parlamentaria, derechos históricos de los territorios forales y régimen de cooficialidad lingüística: nulidad del precepto reglamentario que prevé la incorporación de los datos suministrados por los órganos legislativos a la base nacional de subvenciones.']\n",
      "\n",
      "\n",
      "['BOE-A-2021-4506']['Sala Primera. Sentencia 31/2021, de 15 de febrero de 2021. Recurso de amparo 7506-2019. Promovido por Penrei Inversiones, S.L., respecto de las resoluciones dictadas por un juzgado de primera instancia e instrucción de Lorca en procedimiento de ejecución hipotecaria. Vulneración del derecho a la tutela judicial efectiva: STC 40/2020 [inadecuada utilización de la dirección electrónica habilitada como cauce de comunicación del primer emplazamiento procesal (SSTC 6/2019 y 47/2019) e inadmisión de la oposición a la ejecución resultante de la confusión del deber de las personas jurídicas de relacionarse con la administración de justicia por medio de comunicaciones electrónicas con la regulación del primer emplazamiento en los procesos civiles].']\n",
      "\n",
      "\n",
      "['BOE-A-2021-4472']['Orden TMA/264/2021, de 3 de marzo, por la que se concede el Premio Nacional de Arquitectura correspondiente al año 2020.']\n",
      "\n",
      "\n",
      "['BOE-A-2021-4499']['Sala Primera. Sentencia 24/2021, de 15 de febrero de 2021. Recurso de amparo 5564-2019. Promovido por don Ousmane Kebe Ndiaye respecto de las resoluciones dictadas por un juzgado de primera instancia de Granollers (Barcelona) en procedimiento de ejecución hipotecaria. Vulneración del derecho a la tutela judicial efectiva (motivación): STC 31/2019 (ausencia de control judicial de las cláusulas abusivas que desconoce la primacía del Derecho de la Unión Europea y la jurisprudencia del Tribunal de Justicia).']\n",
      "\n",
      "\n",
      "['BOE-A-2021-4498']['Sala Primera. Sentencia 23/2021, de 15 de febrero de 2021. Recurso de amparo 3995-2019. Promovido por doña Ana Isabel García Morales en relación con las resoluciones dictadas por un juzgado de primera instancia de Madrid en procedimiento de ejecución forzosa. Vulneración del derecho a la tutela judicial efectiva (acceso a la jurisdicción): resolución judicial que, al aplicar el precepto legal anulado por la STC 15/2020, de 28 de enero, deniega la revisión judicial de los decretos de los letrados de la administración de justicia (STC 17/2020).']\n",
      "\n",
      "\n",
      "['BOE-A-2021-4473']['Resolución de 15 de marzo de 2021, de la Secretaría General Técnica, por la que se publica la Adenda al Convenio entre el Servicio Público de Empleo Estatal y Corporación de Radio y Televisión Española, SA, S.M.E., para la difusión pública de información y conocimiento sobre el empleo y sobre las prestaciones por desempleo.']\n",
      "\n",
      "\n",
      "['BOE-A-2021-4507']['Sala Primera. Sentencia 32/2021, de 15 de febrero de 2021. Recurso de amparo 183-2020. Promovido por Euroinversiones Inmobiliarias Costa Sur, S.L., respecto de las resoluciones dictadas por un juzgado de primera instancia e instrucción de Lorca en procedimiento de ejecución hipotecaria. Vulneración del derecho a la tutela judicial efectiva: STC 40/2020 [inadecuada utilización de la dirección electrónica habilitada como cauce de comunicación del primer emplazamiento procesal (SSTC 6/2019 y 47/2019) e inadmisión de la oposición a la ejecución resultante de la confusión del deber de las personas jurídicas de relacionarse con la administración de justicia por medio de comunicaciones electrónicas con la regulación del primer emplazamiento en los procesos civiles].']\n",
      "\n",
      "\n",
      "['BOE-A-2021-4513']['Pleno. Sentencia 38/2021, de 18 de febrero de 2021. Recurso de inconstitucionalidad 3681-2020. Interpuesto por el presidente del Gobierno respecto del apartado segundo de la disposición transitoria décima de la Ley del Parlamento Vasco 7/2019, de 27 de junio, de quinta modificación de la Ley de policía del País Vasco. Competencias sobre función pública: pruebas de acceso restringidas que contravienen las bases estatales en la materia (STC 38/2004).']\n",
      "\n"
     ]
    }
   ],
   "source": [
    "texto = ''\n",
    "for i, row in tabla_analisis.iterrows():\n",
    "    #unique_id = i\n",
    "    print('\\n' + str(row['Item_id']) + str(row['Item_Name']) +'\\n')\n",
    "\n",
    "    antecedente = 1\n",
    "    for ref in row['Referencias_completas']:\n",
    "        texto = texto + ref + ' '\n",
    "        print('\\t' + 'Antecedente ' + str(antecedente) + ': ' + ref + ' ' + str(re.findall('|'.join(pattern), ref, flags=re.IGNORECASE)))\n",
    "        antecedente += 1"
   ]
  },
  {
   "cell_type": "code",
   "execution_count": 115,
   "metadata": {},
   "outputs": [],
   "source": [
    "# Aplica expresiones REGEX para búsqueda de leyes, decretos, etc. referenciadas anteriormente\n",
    "regex_result = re.findall('|'.join(pattern), texto, flags=re.IGNORECASE)"
   ]
  },
  {
   "cell_type": "code",
   "execution_count": 116,
   "metadata": {},
   "outputs": [
    {
     "output_type": "stream",
     "name": "stdout",
     "text": [
      "['Real Decreto-ley 23/2020', 'Real Decreto 413/2014', 'Orden TED/171/2020', 'Real Decreto 463/2020']\n"
     ]
    }
   ],
   "source": [
    "print(regex_result)"
   ]
  },
  {
   "cell_type": "code",
   "execution_count": 117,
   "metadata": {},
   "outputs": [],
   "source": [
    "## Elimina duplicados\n",
    "boletin_flat_list = list(set(regex_result))"
   ]
  },
  {
   "cell_type": "code",
   "execution_count": 118,
   "metadata": {},
   "outputs": [
    {
     "output_type": "execute_result",
     "data": {
      "text/plain": [
       "['Real Decreto-ley 23/2020',\n",
       " 'Orden TED/171/2020',\n",
       " 'Real Decreto 463/2020',\n",
       " 'Real Decreto 413/2014']"
      ]
     },
     "metadata": {},
     "execution_count": 118
    }
   ],
   "source": [
    "boletin_flat_list"
   ]
  },
  {
   "source": [
    "## Importa BBDD ASECORP"
   ],
   "cell_type": "markdown",
   "metadata": {}
  },
  {
   "cell_type": "code",
   "execution_count": 119,
   "metadata": {},
   "outputs": [],
   "source": [
    "ASECORP_BBDD = pd.read_csv('./ASECORP/ExportNormes_20210126.csv', delimiter=';')"
   ]
  },
  {
   "cell_type": "code",
   "execution_count": 120,
   "metadata": {},
   "outputs": [
    {
     "output_type": "execute_result",
     "data": {
      "text/plain": [
       "                        Codigo      Numero  \\\n",
       "0       RES SLT/2313/2020 CAT         2313   \n",
       "1      (zzz) RES 12/4/2007 AST   12/4/2007   \n",
       "2           A CORUÑA 10/7/2015   10/7/2015   \n",
       "3       A CORUÑA 11/8/2014 (1)   11/8/2014   \n",
       "4       A CORUÑA 11/8/2014 (2)   11/8/2014   \n",
       "...                        ...         ...   \n",
       "19152          ZUMAIA 1/3/2001    1/3/2001   \n",
       "19153        ZUMAIA 12/11/1999  12/11/1999   \n",
       "19154         ZUMAIA 15/6/2012   15/6/2012   \n",
       "19155          ZUMAIA 6/2/2004    6/2/2004   \n",
       "19156          ZUMAIA 9/2/2004    9/2/2004   \n",
       "\n",
       "                                                  Titulo CodigoAmbito  \\\n",
       "0      Resolución SLT/2313/2020, de 24 de septiembre,...          CAT   \n",
       "1      Resolución de 12 abril de 2007, de la Consejer...          AST   \n",
       "2      Modificación de la Ordenanza de vertidos y ser...          GAL   \n",
       "3      Ordenanza municipal reguladora de los procedim...          GAL   \n",
       "4      Ordenanza de protección contra la contaminació...          GAL   \n",
       "...                                                  ...          ...   \n",
       "19152  Ordenanza reguladora de la gestión del ciclo i...          PVA   \n",
       "19153  Normativa complementaria de las Normas Subsidi...          PVA   \n",
       "19154  Modificación de la Ordenanza municipal de la g...          PVA   \n",
       "19155  Modificación de la Normativa complementaria de...          PVA   \n",
       "19156  Reglamento regulador del vertido a colector de...          PVA   \n",
       "\n",
       "           Ambito Municipio   TiposNorma IdTiposNorma  \n",
       "0        Cataluña       NaN   Prevención          [2]  \n",
       "1        Asturias       NaN  M. Ambiente          [1]  \n",
       "2         Galicia  A Coruña  M. Ambiente          [1]  \n",
       "3         Galicia  A Coruña  M. Ambiente          [1]  \n",
       "4         Galicia  A Coruña  M. Ambiente          [1]  \n",
       "...           ...       ...          ...          ...  \n",
       "19152  Pais Vasco    Zumaia  M. Ambiente          [1]  \n",
       "19153  Pais Vasco    Zumaia  M. Ambiente          [1]  \n",
       "19154  Pais Vasco    Zumaia  M. Ambiente          [1]  \n",
       "19155  Pais Vasco    Zumaia  M. Ambiente          [1]  \n",
       "19156  Pais Vasco    Zumaia  M. Ambiente          [1]  \n",
       "\n",
       "[19157 rows x 8 columns]"
      ],
      "text/html": "<div>\n<style scoped>\n    .dataframe tbody tr th:only-of-type {\n        vertical-align: middle;\n    }\n\n    .dataframe tbody tr th {\n        vertical-align: top;\n    }\n\n    .dataframe thead th {\n        text-align: right;\n    }\n</style>\n<table border=\"1\" class=\"dataframe\">\n  <thead>\n    <tr style=\"text-align: right;\">\n      <th></th>\n      <th>Codigo</th>\n      <th>Numero</th>\n      <th>Titulo</th>\n      <th>CodigoAmbito</th>\n      <th>Ambito</th>\n      <th>Municipio</th>\n      <th>TiposNorma</th>\n      <th>IdTiposNorma</th>\n    </tr>\n  </thead>\n  <tbody>\n    <tr>\n      <th>0</th>\n      <td>RES SLT/2313/2020 CAT</td>\n      <td>2313</td>\n      <td>Resolución SLT/2313/2020, de 24 de septiembre,...</td>\n      <td>CAT</td>\n      <td>Cataluña</td>\n      <td>NaN</td>\n      <td>Prevención</td>\n      <td>[2]</td>\n    </tr>\n    <tr>\n      <th>1</th>\n      <td>(zzz) RES 12/4/2007 AST</td>\n      <td>12/4/2007</td>\n      <td>Resolución de 12 abril de 2007, de la Consejer...</td>\n      <td>AST</td>\n      <td>Asturias</td>\n      <td>NaN</td>\n      <td>M. Ambiente</td>\n      <td>[1]</td>\n    </tr>\n    <tr>\n      <th>2</th>\n      <td>A CORUÑA 10/7/2015</td>\n      <td>10/7/2015</td>\n      <td>Modificación de la Ordenanza de vertidos y ser...</td>\n      <td>GAL</td>\n      <td>Galicia</td>\n      <td>A Coruña</td>\n      <td>M. Ambiente</td>\n      <td>[1]</td>\n    </tr>\n    <tr>\n      <th>3</th>\n      <td>A CORUÑA 11/8/2014 (1)</td>\n      <td>11/8/2014</td>\n      <td>Ordenanza municipal reguladora de los procedim...</td>\n      <td>GAL</td>\n      <td>Galicia</td>\n      <td>A Coruña</td>\n      <td>M. Ambiente</td>\n      <td>[1]</td>\n    </tr>\n    <tr>\n      <th>4</th>\n      <td>A CORUÑA 11/8/2014 (2)</td>\n      <td>11/8/2014</td>\n      <td>Ordenanza de protección contra la contaminació...</td>\n      <td>GAL</td>\n      <td>Galicia</td>\n      <td>A Coruña</td>\n      <td>M. Ambiente</td>\n      <td>[1]</td>\n    </tr>\n    <tr>\n      <th>...</th>\n      <td>...</td>\n      <td>...</td>\n      <td>...</td>\n      <td>...</td>\n      <td>...</td>\n      <td>...</td>\n      <td>...</td>\n      <td>...</td>\n    </tr>\n    <tr>\n      <th>19152</th>\n      <td>ZUMAIA 1/3/2001</td>\n      <td>1/3/2001</td>\n      <td>Ordenanza reguladora de la gestión del ciclo i...</td>\n      <td>PVA</td>\n      <td>Pais Vasco</td>\n      <td>Zumaia</td>\n      <td>M. Ambiente</td>\n      <td>[1]</td>\n    </tr>\n    <tr>\n      <th>19153</th>\n      <td>ZUMAIA 12/11/1999</td>\n      <td>12/11/1999</td>\n      <td>Normativa complementaria de las Normas Subsidi...</td>\n      <td>PVA</td>\n      <td>Pais Vasco</td>\n      <td>Zumaia</td>\n      <td>M. Ambiente</td>\n      <td>[1]</td>\n    </tr>\n    <tr>\n      <th>19154</th>\n      <td>ZUMAIA 15/6/2012</td>\n      <td>15/6/2012</td>\n      <td>Modificación de la Ordenanza municipal de la g...</td>\n      <td>PVA</td>\n      <td>Pais Vasco</td>\n      <td>Zumaia</td>\n      <td>M. Ambiente</td>\n      <td>[1]</td>\n    </tr>\n    <tr>\n      <th>19155</th>\n      <td>ZUMAIA 6/2/2004</td>\n      <td>6/2/2004</td>\n      <td>Modificación de la Normativa complementaria de...</td>\n      <td>PVA</td>\n      <td>Pais Vasco</td>\n      <td>Zumaia</td>\n      <td>M. Ambiente</td>\n      <td>[1]</td>\n    </tr>\n    <tr>\n      <th>19156</th>\n      <td>ZUMAIA 9/2/2004</td>\n      <td>9/2/2004</td>\n      <td>Reglamento regulador del vertido a colector de...</td>\n      <td>PVA</td>\n      <td>Pais Vasco</td>\n      <td>Zumaia</td>\n      <td>M. Ambiente</td>\n      <td>[1]</td>\n    </tr>\n  </tbody>\n</table>\n<p>19157 rows × 8 columns</p>\n</div>"
     },
     "metadata": {},
     "execution_count": 120
    }
   ],
   "source": [
    "ASECORP_BBDD"
   ]
  },
  {
   "cell_type": "code",
   "execution_count": 121,
   "metadata": {},
   "outputs": [],
   "source": [
    "ASECORP_BBDD_BOE = ASECORP_BBDD.loc[ASECORP_BBDD['Ambito'] == 'España']"
   ]
  },
  {
   "cell_type": "code",
   "execution_count": 122,
   "metadata": {},
   "outputs": [
    {
     "output_type": "execute_result",
     "data": {
      "text/plain": [
       "                        Codigo      Numero  \\\n",
       "23              ACU 1/2020 ESP           1   \n",
       "35           ACU 11/6/2007 ESP   11/6/2007   \n",
       "57          ACU 17/10/2006 ESP  17/10/2006   \n",
       "71          ACU 19/11/2018 ESP  19/11/2018   \n",
       "82              ACU 2/2020 ESP           2   \n",
       "...                        ...         ...   \n",
       "18496          STC 86/2019 ESP          86   \n",
       "18497          STC 87/2019 ESP          87   \n",
       "18498          STC 88/2018 ESP          88   \n",
       "18499         STC 9/3/2010 ESP    9/3/2010   \n",
       "18879  verificación de calidad           1   \n",
       "\n",
       "                                                  Titulo CodigoAmbito  Ambito  \\\n",
       "23     Acuerdo Multilateral RID 1/2020 en virtud de l...          ESP  España   \n",
       "35     Entrada en vigor del Acuerdo entre el Reino de...          ESP  España   \n",
       "57     Aplicación provisional del Acuerdo entre el Re...          ESP  España   \n",
       "71     Acuerdo de la Junta de Gobierno de la Confeder...          ESP  España   \n",
       "82     Acuerdo Multilateral RID 2/2020 en virtud de l...          ESP  España   \n",
       "...                                                  ...          ...     ...   \n",
       "18496  Sentencia 86/2019, de 20 de junio de 2019. Rec...          ESP  España   \n",
       "18497  Sentencia 87/2019, de 20 de junio de 2019. Rec...          ESP  España   \n",
       "18498  Sentencia 88/2018, de 19 de julio de 2018. Con...          ESP  España   \n",
       "18499  Sentencia de 9 de marzo de 2010, de la Sala Te...          ESP  España   \n",
       "18879   Norma verificación calidad alertas en produccion          ESP  España   \n",
       "\n",
       "      Municipio                     TiposNorma IdTiposNorma  \n",
       "23          NaN       M. Ambiente / Prevención       [1][2]  \n",
       "35          NaN                    M. Ambiente          [1]  \n",
       "57          NaN                    M. Ambiente          [1]  \n",
       "71          NaN                    M. Ambiente          [1]  \n",
       "82          NaN       M. Ambiente / Prevención       [1][2]  \n",
       "...         ...                            ...          ...  \n",
       "18496       NaN                    M. Ambiente          [1]  \n",
       "18497       NaN                    M. Ambiente          [1]  \n",
       "18498       NaN  M. Ambiente / Reg. Industrial       [1][3]  \n",
       "18499       NaN                    M. Ambiente          [1]  \n",
       "18879         -                Reg. Industrial          [3]  \n",
       "\n",
       "[2959 rows x 8 columns]"
      ],
      "text/html": "<div>\n<style scoped>\n    .dataframe tbody tr th:only-of-type {\n        vertical-align: middle;\n    }\n\n    .dataframe tbody tr th {\n        vertical-align: top;\n    }\n\n    .dataframe thead th {\n        text-align: right;\n    }\n</style>\n<table border=\"1\" class=\"dataframe\">\n  <thead>\n    <tr style=\"text-align: right;\">\n      <th></th>\n      <th>Codigo</th>\n      <th>Numero</th>\n      <th>Titulo</th>\n      <th>CodigoAmbito</th>\n      <th>Ambito</th>\n      <th>Municipio</th>\n      <th>TiposNorma</th>\n      <th>IdTiposNorma</th>\n    </tr>\n  </thead>\n  <tbody>\n    <tr>\n      <th>23</th>\n      <td>ACU 1/2020 ESP</td>\n      <td>1</td>\n      <td>Acuerdo Multilateral RID 1/2020 en virtud de l...</td>\n      <td>ESP</td>\n      <td>España</td>\n      <td>NaN</td>\n      <td>M. Ambiente / Prevención</td>\n      <td>[1][2]</td>\n    </tr>\n    <tr>\n      <th>35</th>\n      <td>ACU 11/6/2007 ESP</td>\n      <td>11/6/2007</td>\n      <td>Entrada en vigor del Acuerdo entre el Reino de...</td>\n      <td>ESP</td>\n      <td>España</td>\n      <td>NaN</td>\n      <td>M. Ambiente</td>\n      <td>[1]</td>\n    </tr>\n    <tr>\n      <th>57</th>\n      <td>ACU 17/10/2006 ESP</td>\n      <td>17/10/2006</td>\n      <td>Aplicación provisional del Acuerdo entre el Re...</td>\n      <td>ESP</td>\n      <td>España</td>\n      <td>NaN</td>\n      <td>M. Ambiente</td>\n      <td>[1]</td>\n    </tr>\n    <tr>\n      <th>71</th>\n      <td>ACU 19/11/2018 ESP</td>\n      <td>19/11/2018</td>\n      <td>Acuerdo de la Junta de Gobierno de la Confeder...</td>\n      <td>ESP</td>\n      <td>España</td>\n      <td>NaN</td>\n      <td>M. Ambiente</td>\n      <td>[1]</td>\n    </tr>\n    <tr>\n      <th>82</th>\n      <td>ACU 2/2020 ESP</td>\n      <td>2</td>\n      <td>Acuerdo Multilateral RID 2/2020 en virtud de l...</td>\n      <td>ESP</td>\n      <td>España</td>\n      <td>NaN</td>\n      <td>M. Ambiente / Prevención</td>\n      <td>[1][2]</td>\n    </tr>\n    <tr>\n      <th>...</th>\n      <td>...</td>\n      <td>...</td>\n      <td>...</td>\n      <td>...</td>\n      <td>...</td>\n      <td>...</td>\n      <td>...</td>\n      <td>...</td>\n    </tr>\n    <tr>\n      <th>18496</th>\n      <td>STC 86/2019 ESP</td>\n      <td>86</td>\n      <td>Sentencia 86/2019, de 20 de junio de 2019. Rec...</td>\n      <td>ESP</td>\n      <td>España</td>\n      <td>NaN</td>\n      <td>M. Ambiente</td>\n      <td>[1]</td>\n    </tr>\n    <tr>\n      <th>18497</th>\n      <td>STC 87/2019 ESP</td>\n      <td>87</td>\n      <td>Sentencia 87/2019, de 20 de junio de 2019. Rec...</td>\n      <td>ESP</td>\n      <td>España</td>\n      <td>NaN</td>\n      <td>M. Ambiente</td>\n      <td>[1]</td>\n    </tr>\n    <tr>\n      <th>18498</th>\n      <td>STC 88/2018 ESP</td>\n      <td>88</td>\n      <td>Sentencia 88/2018, de 19 de julio de 2018. Con...</td>\n      <td>ESP</td>\n      <td>España</td>\n      <td>NaN</td>\n      <td>M. Ambiente / Reg. Industrial</td>\n      <td>[1][3]</td>\n    </tr>\n    <tr>\n      <th>18499</th>\n      <td>STC 9/3/2010 ESP</td>\n      <td>9/3/2010</td>\n      <td>Sentencia de 9 de marzo de 2010, de la Sala Te...</td>\n      <td>ESP</td>\n      <td>España</td>\n      <td>NaN</td>\n      <td>M. Ambiente</td>\n      <td>[1]</td>\n    </tr>\n    <tr>\n      <th>18879</th>\n      <td>verificación de calidad</td>\n      <td>1</td>\n      <td>Norma verificación calidad alertas en produccion</td>\n      <td>ESP</td>\n      <td>España</td>\n      <td>-</td>\n      <td>Reg. Industrial</td>\n      <td>[3]</td>\n    </tr>\n  </tbody>\n</table>\n<p>2959 rows × 8 columns</p>\n</div>"
     },
     "metadata": {},
     "execution_count": 122
    }
   ],
   "source": [
    "ASECORP_BBDD_BOE"
   ]
  },
  {
   "cell_type": "code",
   "execution_count": 123,
   "metadata": {},
   "outputs": [
    {
     "output_type": "stream",
     "name": "stderr",
     "text": [
      "<ipython-input-123-34866c974db0>:2: SettingWithCopyWarning: \nA value is trying to be set on a copy of a slice from a DataFrame.\nTry using .loc[row_indexer,col_indexer] = value instead\n\nSee the caveats in the documentation: https://pandas.pydata.org/pandas-docs/stable/user_guide/indexing.html#returning-a-view-versus-a-copy\n  ASECORP_BBDD_BOE['Tags'] = [[] for i in range(len(ASECORP_BBDD_BOE))]\n"
     ]
    }
   ],
   "source": [
    "# Crea nueva columna vacía de tipo lista en ASECORP_BBDD\n",
    "ASECORP_BBDD_BOE['Tags'] = [[] for i in range(len(ASECORP_BBDD_BOE))]"
   ]
  },
  {
   "cell_type": "code",
   "execution_count": 124,
   "metadata": {},
   "outputs": [
    {
     "output_type": "stream",
     "name": "stderr",
     "text": [
      "/Users/Alfredo/miniconda3/lib/python3.8/site-packages/IPython/core/interactiveshell.py:3418: SettingWithCopyWarning: \nA value is trying to be set on a copy of a slice from a DataFrame\n\nSee the caveats in the documentation: https://pandas.pydata.org/pandas-docs/stable/user_guide/indexing.html#returning-a-view-versus-a-copy\n  exec(code_obj, self.user_global_ns, self.user_ns)\n"
     ]
    }
   ],
   "source": [
    "titulo = []\n",
    "for i, row in ASECORP_BBDD_BOE.iterrows():\n",
    "    titulo.append(str(row['Titulo']) + str(re.findall('|'.join(pattern), str(row['Titulo']), flags=re.IGNORECASE)))\n",
    "    ASECORP_BBDD_BOE['Tags'][i] = re.findall('|'.join(pattern), str(row['Titulo']), flags=re.IGNORECASE)"
   ]
  },
  {
   "cell_type": "code",
   "execution_count": 125,
   "metadata": {},
   "outputs": [
    {
     "output_type": "execute_result",
     "data": {
      "text/plain": [
       "                      Codigo     Numero  \\\n",
       "11629  ORD PRE/2827/2009 ESP       2827   \n",
       "11630  ORD PRE/2843/2009 ESP       2843   \n",
       "11631  ORD PRE/2851/2010 ESP       2851   \n",
       "11632  ORD PRE/2871/2011 ESP       2871   \n",
       "11633  ORD PRE/2872/2011 ESP       2872   \n",
       "11634    ORD PRE/29/2004 ESP         29   \n",
       "11635  ORD PRE/2922/2005 ESP       2922   \n",
       "11636  ORD PRE/2957/2008 ESP       2957   \n",
       "11637     ORD PRE/3/2006 ESP          3   \n",
       "11638  ORD PRE/3159/2004 ESP       3159   \n",
       "11639   ORD PRE/321/2009 ESP        321   \n",
       "11640  ORD PRE/3271/2011 ESP       3271   \n",
       "11641  ORD PRE/3290/2002 ESP       3290   \n",
       "11642  ORD PRE/3297/2004 ESP       3297   \n",
       "11643  ORD PRE/3298/2004 ESP       3298   \n",
       "11644  ORD PRE/3302/2006 ESP       3302   \n",
       "11645  ORD PRE/3338/2007 ESP       3338   \n",
       "11647  ORD PRE/3420/2007 ESP       3420   \n",
       "11648  ORD PRE/3476/2003 ESP       3476   \n",
       "11649  ORD PRE/3539/2008 ESP       3539   \n",
       "11650   ORD PRE/370/2012 ESP        370   \n",
       "11651   ORD PRE/374/2008 ESP        374   \n",
       "11652   ORD PRE/375/2003 ESP        375   \n",
       "11653  ORD PRE/3834/2005 ESP       3834   \n",
       "11654  ORD PRE/3856/2005 ESP       3856   \n",
       "11655  ORD PRE/3929/2004 ESP       3929   \n",
       "11656   ORD PRE/402/2006 ESP        402   \n",
       "11657   ORD PRE/402/2008 CAT        402   \n",
       "11658   ORD PRE/456/2007 ESP        456   \n",
       "11659   ORD PRE/468/2008 ESP        468   \n",
       "11660   ORD PRE/473/2004 ESP        473   \n",
       "11661   ORD PRE/507/2008 ESP        507   \n",
       "11662    ORD PRE/52/2010 ESP  23/1/2010   \n",
       "11663   ORD PRE/531/2010 ESP        531   \n",
       "11664   ORD PRE/556/2005 ESP        556   \n",
       "11665   ORD PRE/568/2009 ESP        568   \n",
       "11666   ORD PRE/628/2011 ESP        628   \n",
       "11667   ORD PRE/629/2011 ESP        629   \n",
       "11668   ORD PRE/630/2011 ESP        630   \n",
       "11669   ORD PRE/631/2011 ESP        631   \n",
       "11670   ORD PRE/662/2013 ESP        662   \n",
       "11671   ORD PRE/675/2013 ESP        675   \n",
       "11672   ORD PRE/690/2005 ESP        690   \n",
       "11673   ORD PRE/696/2008 ESP        696   \n",
       "11674   ORD PRE/730/2003 ESP        730   \n",
       "11675    ORD PRE/77/2008 ESP         77   \n",
       "11676   ORD PRE/772/2016 ESP        772   \n",
       "11677   ORD PRE/777/2009 ESP        777   \n",
       "11678   ORD PRE/777/2011 ESP        777   \n",
       "11679   ORD PRE/839/2010 ESP        839   \n",
       "\n",
       "                                                  Titulo CodigoAmbito  Ambito  \\\n",
       "11629  Orden PRE/2827/2009, de 19 de octubre, por la ...          ESP  España   \n",
       "11630  Orden PRE/2843/2009, de 19 de octubre, por la ...          ESP  España   \n",
       "11631  Orden PRE/2851/2010, de 4 de noviembre, por la...          ESP  España   \n",
       "11632  Orden PRE/2871/2011, de 25 de octubre, por la ...          ESP  España   \n",
       "11633  Orden PRE/2872/2011, de 25 de octubre, por la ...          ESP  España   \n",
       "11634  Orden PRE/29/2004, de 15 de enero, por la que ...          ESP  España   \n",
       "11635  Orden PRE/2922/2005, de 19 de septiembre, por ...          ESP  España   \n",
       "11636  Orden PRE/2957/2008, de 10 de octubre, por la ...          ESP  España   \n",
       "11637  Orden PRE/3/2006, de 12 de enero, por la que s...          ESP  España   \n",
       "11638  Orden PRE/3159/2004, de 28 de septiembre, por ...          ESP  España   \n",
       "11639  Orden PRE/321/2009, de 13 de febrero, por la q...          ESP  España   \n",
       "11640  Orden PRE/3271/2011, de 25 de noviembre, por l...          ESP  España   \n",
       "11641  Orden PRE/3290/2002, de 23 de diciembre, por l...          ESP  España   \n",
       "11642  Orden PRE/3297/2004, de 13 de octubre, por la ...          ESP  España   \n",
       "11643  Orden PRE/3298/2004, de 13 de octubre, por la ...          ESP  España   \n",
       "11644  Orden PRE/3302/2006, de 27 de octubre, por la ...          ESP  España   \n",
       "11645  Orden PRE/3338/2007, de 15 de noviembre, por l...          ESP  España   \n",
       "11647  Orden PRE/3420/2007, de 14 de noviembre, por l...          ESP  España   \n",
       "11648  Orden PRE/3476/2003, de 9 de diciembre, por la...          ESP  España   \n",
       "11649  Orden PRE/3539/2008, de 28 de noviembre, por l...          ESP  España   \n",
       "11650  Orden PRE/370/2012, de 27 de febrero, por la q...          ESP  España   \n",
       "11651  Orden PRE/374/2008, de 31 de enero, por la que...          ESP  España   \n",
       "11652  Orden PRE/375/2003, de 24 de febrero, por la q...          ESP  España   \n",
       "11653  Orden PRE/3834/2005, de 9 de diciembre, por la...          ESP  España   \n",
       "11654  Orden PRE/3856/2005, de 12 de diciembre, por l...          ESP  España   \n",
       "11655  Orden PRE/3929/2004, de 30 de noviembre, por l...          ESP  España   \n",
       "11656  Orden PRE/402/2006, de 16 de febrero, por la q...          ESP  España   \n",
       "11657  Orden PRE/402/2008, de 28 de agosto, por la qu...          ESP  España   \n",
       "11658  Orden PRE/456/2007, de 28 de febrero, por la q...          ESP  España   \n",
       "11659  Orden PRE/468/2008, de 15 de febrero, por la q...          ESP  España   \n",
       "11660  Orden PRE/473/2004, de 25 de febrero, por la q...          ESP  España   \n",
       "11661  Orden PRE/507/2008, de 26 de febrero, por la q...          ESP  España   \n",
       "11662  Orden PRE/52/2010, de 21 de enero, por la que ...          ESP  España   \n",
       "11663  Orden PRE/531/2010, de 26 de febrero, por la q...          ESP  España   \n",
       "11664  Orden PRE/556/2005, de 10 de marzo, por la que...          ESP  España   \n",
       "11665  Orden PRE/568/2009, de 5 de marzo, por la que ...          ESP  España   \n",
       "11666  Orden PRE/628/2011, de 22 de marzo, por la que...          ESP  España   \n",
       "11667  Orden PRE/629/2011, de 22 de marzo, por la que...          ESP  España   \n",
       "11668  Orden PRE/630/2011, de 23 de marzo, por la que...          ESP  España   \n",
       "11669  Orden PRE/631/2011, de 23 de marzo, por la que...          ESP  España   \n",
       "11670  Orden PRE/662/2013, de 22 de abril, por la que...          ESP  España   \n",
       "11671  Orden PRE/675/2013, de 22 de abril, por la que...          ESP  España   \n",
       "11672  Orden PRE/690/2005, de 18 de marzo, por la que...          ESP  España   \n",
       "11673  Orden PRE/696/2008, de 7 de marzo, por la que ...          ESP  España   \n",
       "11674  Orden PRE/730/2003, de 25 de marzo, por la que...          ESP  España   \n",
       "11675  Orden PRE/77/2008, de 17 de enero, por la que ...          ESP  España   \n",
       "11676  Orden PRE/772/2016, de 19 de mayo, por la que ...          ESP  España   \n",
       "11677  Orden PRE/777/2009, de 26 de marzo, por la que...          ESP  España   \n",
       "11678  Orden PRE/777/2011, de 4 de abril, por la que ...          ESP  España   \n",
       "11679  Orden PRE/839/2010, de 29 de marzo, por la que...          ESP  España   \n",
       "\n",
       "      Municipio                TiposNorma IdTiposNorma  \\\n",
       "11629       NaN               M. Ambiente          [1]   \n",
       "11630       NaN  M. Ambiente / Prevención       [1][2]   \n",
       "11631       NaN  M. Ambiente / Prevención       [1][2]   \n",
       "11632       NaN  M. Ambiente / Prevención       [1][2]   \n",
       "11633       NaN  M. Ambiente / Prevención       [1][2]   \n",
       "11634       NaN               M. Ambiente          [1]   \n",
       "11635       NaN  M. Ambiente / Prevención       [1][2]   \n",
       "11636       NaN  M. Ambiente / Prevención       [1][2]   \n",
       "11637       NaN  M. Ambiente / Prevención       [1][2]   \n",
       "11638       NaN  M. Ambiente / Prevención       [1][2]   \n",
       "11639       NaN  M. Ambiente / Prevención       [1][2]   \n",
       "11640       NaN  M. Ambiente / Prevención       [1][2]   \n",
       "11641       NaN  M. Ambiente / Prevención       [1][2]   \n",
       "11642       NaN  M. Ambiente / Prevención       [1][2]   \n",
       "11643       NaN           Reg. Industrial          [3]   \n",
       "11644       NaN  M. Ambiente / Prevención       [1][2]   \n",
       "11645       NaN  M. Ambiente / Prevención       [1][2]   \n",
       "11647       NaN               M. Ambiente          [1]   \n",
       "11648       NaN  M. Ambiente / Prevención       [1][2]   \n",
       "11649       NaN               M. Ambiente          [1]   \n",
       "11650       NaN               M. Ambiente          [1]   \n",
       "11651       NaN  M. Ambiente / Prevención       [1][2]   \n",
       "11652       NaN  M. Ambiente / Prevención       [1][2]   \n",
       "11653       NaN               M. Ambiente          [1]   \n",
       "11654       NaN  M. Ambiente / Prevención       [1][2]   \n",
       "11655       NaN  M. Ambiente / Prevención       [1][2]   \n",
       "11656       NaN  M. Ambiente / Prevención       [1][2]   \n",
       "11657       NaN           Reg. Industrial          [3]   \n",
       "11658       NaN  M. Ambiente / Prevención       [1][2]   \n",
       "11659       NaN               M. Ambiente          [1]   \n",
       "11660       NaN  M. Ambiente / Prevención       [1][2]   \n",
       "11661       NaN  M. Ambiente / Prevención       [1][2]   \n",
       "11662       NaN            Seguridad Vial          [5]   \n",
       "11663       NaN  M. Ambiente / Prevención       [1][2]   \n",
       "11664       NaN  M. Ambiente / Prevención       [1][2]   \n",
       "11665       NaN                Prevención          [2]   \n",
       "11666       NaN          Seg. Alimentaria          [7]   \n",
       "11667         -            Seguridad Vial          [5]   \n",
       "11668       NaN  M. Ambiente / Prevención       [1][2]   \n",
       "11669       NaN  M. Ambiente / Prevención       [1][2]   \n",
       "11670       NaN  M. Ambiente / Prevención       [1][2]   \n",
       "11671       NaN  M. Ambiente / Prevención       [1][2]   \n",
       "11672       NaN  M. Ambiente / Prevención       [1][2]   \n",
       "11673       NaN  M. Ambiente / Prevención       [1][2]   \n",
       "11674       NaN  M. Ambiente / Prevención       [1][2]   \n",
       "11675       NaN               M. Ambiente          [1]   \n",
       "11676       NaN               M. Ambiente          [1]   \n",
       "11677       NaN  M. Ambiente / Prevención       [1][2]   \n",
       "11678       NaN  M. Ambiente / Prevención       [1][2]   \n",
       "11679       NaN  M. Ambiente / Prevención       [1][2]   \n",
       "\n",
       "                                                    Tags  \n",
       "11629      [Orden PRE/2827/2009, Real Decreto 1370/2006]  \n",
       "11630      [Orden PRE/2843/2009, Real Decreto 2163/1994]  \n",
       "11631      [Orden PRE/2851/2010, Real Decreto 2163/1994]  \n",
       "11632      [Orden PRE/2871/2011, Real Decreto 2163/1994]  \n",
       "11633      [Orden PRE/2872/2011, Real Decreto 2163/1994]  \n",
       "11634         [Orden PRE/29/2004, Real Decreto 837/2002]  \n",
       "11635  [Orden PRE/2922/2005, Orden de 8 de marzo de 1...  \n",
       "11636      [Orden PRE/2957/2008, Real Decreto 2163/1994]  \n",
       "11637          [Orden PRE/3/2006, Real Decreto 255/2003]  \n",
       "11638      [Orden PRE/3159/2004, Real Decreto 1406/1989]  \n",
       "11639       [Orden PRE/321/2009, Real Decreto 1054/2002]  \n",
       "11640      [Orden PRE/3271/2011, Real Decreto 1054/2002]  \n",
       "11641      [Orden PRE/3290/2002, Real Decreto 2163/1994]  \n",
       "11642      [Orden PRE/3297/2004, Real Decreto 2163/1994]  \n",
       "11643      [Orden PRE/3298/2004, Real Decreto 2822/1998]  \n",
       "11644      [Orden PRE/3302/2006, Real Decreto 2163/1994]  \n",
       "11645      [Orden PRE/3338/2007, Real Decreto 2163/1994]  \n",
       "11647                              [Orden PRE/3420/2007]  \n",
       "11648      [Orden PRE/3476/2003, Real Decreto 2163/1994]  \n",
       "11649                              [Orden PRE/3539/2008]  \n",
       "11650       [Orden PRE/370/2012, Real Decreto 1383/2002]  \n",
       "11651       [Orden PRE/374/2008, Real Decreto 1406/1989]  \n",
       "11652       [Orden PRE/375/2003, Real Decreto 1406/1989]  \n",
       "11653                              [Orden PRE/3834/2005]  \n",
       "11654      [Orden PRE/3856/2005, Real Decreto 2163/1994]  \n",
       "11655      [Orden PRE/3929/2004, Real Decreto 2163/1994]  \n",
       "11656           [Orden PRE/402/2006, Orden PRE/690/2005]  \n",
       "11657                               [Orden PRE/402/2008]  \n",
       "11658       [Orden PRE/456/2007, Real Decreto 2163/1994]  \n",
       "11659                               [Orden PRE/468/2008]  \n",
       "11660            [Orden PRE/473/2004, Decreto 1406/1989]  \n",
       "11661       [Orden PRE/507/2008, Real Decreto 1054/2002]  \n",
       "11662        [Orden PRE/52/2010, Real Decreto 2822/1998]  \n",
       "11663       [Orden PRE/531/2010, Real Decreto 2163/1994]  \n",
       "11664  [Orden PRE/556/2005, Orden PRE/473/2004, Real ...  \n",
       "11665        [Orden PRE/568/2009, Real Decreto 258/1999]  \n",
       "11666        [Orden PRE/628/2011, Real Decreto 866/2008]  \n",
       "11667       [Orden PRE/629/2011, Real Decreto 2822/1998]  \n",
       "11668        [Orden PRE/630/2011, Real Decreto 824/2005]  \n",
       "11669       [Orden PRE/631/2011, Real Decreto 2163/1994]  \n",
       "11670       [Orden PRE/662/2013, Real Decreto 1054/2002]  \n",
       "11671       [Orden PRE/675/2013, Real Decreto 1054/2002]  \n",
       "11672                               [Orden PRE/690/2005]  \n",
       "11673       [Orden PRE/696/2008, Real Decreto 2163/1994]  \n",
       "11674       [Orden PRE/730/2003, Real Decreto 1406/1989]  \n",
       "11675                                [Orden PRE/77/2008]  \n",
       "11676        [Orden PRE/772/2016, Real Decreto 219/2013]  \n",
       "11677       [Orden PRE/777/2009, Real Decreto 2163/1994]  \n",
       "11678       [Orden PRE/777/2011, Real Decreto 1054/2002]  \n",
       "11679       [Orden PRE/839/2010, Real Decreto 2163/1994]  "
      ],
      "text/html": "<div>\n<style scoped>\n    .dataframe tbody tr th:only-of-type {\n        vertical-align: middle;\n    }\n\n    .dataframe tbody tr th {\n        vertical-align: top;\n    }\n\n    .dataframe thead th {\n        text-align: right;\n    }\n</style>\n<table border=\"1\" class=\"dataframe\">\n  <thead>\n    <tr style=\"text-align: right;\">\n      <th></th>\n      <th>Codigo</th>\n      <th>Numero</th>\n      <th>Titulo</th>\n      <th>CodigoAmbito</th>\n      <th>Ambito</th>\n      <th>Municipio</th>\n      <th>TiposNorma</th>\n      <th>IdTiposNorma</th>\n      <th>Tags</th>\n    </tr>\n  </thead>\n  <tbody>\n    <tr>\n      <th>11629</th>\n      <td>ORD PRE/2827/2009 ESP</td>\n      <td>2827</td>\n      <td>Orden PRE/2827/2009, de 19 de octubre, por la ...</td>\n      <td>ESP</td>\n      <td>España</td>\n      <td>NaN</td>\n      <td>M. Ambiente</td>\n      <td>[1]</td>\n      <td>[Orden PRE/2827/2009, Real Decreto 1370/2006]</td>\n    </tr>\n    <tr>\n      <th>11630</th>\n      <td>ORD PRE/2843/2009 ESP</td>\n      <td>2843</td>\n      <td>Orden PRE/2843/2009, de 19 de octubre, por la ...</td>\n      <td>ESP</td>\n      <td>España</td>\n      <td>NaN</td>\n      <td>M. Ambiente / Prevención</td>\n      <td>[1][2]</td>\n      <td>[Orden PRE/2843/2009, Real Decreto 2163/1994]</td>\n    </tr>\n    <tr>\n      <th>11631</th>\n      <td>ORD PRE/2851/2010 ESP</td>\n      <td>2851</td>\n      <td>Orden PRE/2851/2010, de 4 de noviembre, por la...</td>\n      <td>ESP</td>\n      <td>España</td>\n      <td>NaN</td>\n      <td>M. Ambiente / Prevención</td>\n      <td>[1][2]</td>\n      <td>[Orden PRE/2851/2010, Real Decreto 2163/1994]</td>\n    </tr>\n    <tr>\n      <th>11632</th>\n      <td>ORD PRE/2871/2011 ESP</td>\n      <td>2871</td>\n      <td>Orden PRE/2871/2011, de 25 de octubre, por la ...</td>\n      <td>ESP</td>\n      <td>España</td>\n      <td>NaN</td>\n      <td>M. Ambiente / Prevención</td>\n      <td>[1][2]</td>\n      <td>[Orden PRE/2871/2011, Real Decreto 2163/1994]</td>\n    </tr>\n    <tr>\n      <th>11633</th>\n      <td>ORD PRE/2872/2011 ESP</td>\n      <td>2872</td>\n      <td>Orden PRE/2872/2011, de 25 de octubre, por la ...</td>\n      <td>ESP</td>\n      <td>España</td>\n      <td>NaN</td>\n      <td>M. Ambiente / Prevención</td>\n      <td>[1][2]</td>\n      <td>[Orden PRE/2872/2011, Real Decreto 2163/1994]</td>\n    </tr>\n    <tr>\n      <th>11634</th>\n      <td>ORD PRE/29/2004 ESP</td>\n      <td>29</td>\n      <td>Orden PRE/29/2004, de 15 de enero, por la que ...</td>\n      <td>ESP</td>\n      <td>España</td>\n      <td>NaN</td>\n      <td>M. Ambiente</td>\n      <td>[1]</td>\n      <td>[Orden PRE/29/2004, Real Decreto 837/2002]</td>\n    </tr>\n    <tr>\n      <th>11635</th>\n      <td>ORD PRE/2922/2005 ESP</td>\n      <td>2922</td>\n      <td>Orden PRE/2922/2005, de 19 de septiembre, por ...</td>\n      <td>ESP</td>\n      <td>España</td>\n      <td>NaN</td>\n      <td>M. Ambiente / Prevención</td>\n      <td>[1][2]</td>\n      <td>[Orden PRE/2922/2005, Orden de 8 de marzo de 1...</td>\n    </tr>\n    <tr>\n      <th>11636</th>\n      <td>ORD PRE/2957/2008 ESP</td>\n      <td>2957</td>\n      <td>Orden PRE/2957/2008, de 10 de octubre, por la ...</td>\n      <td>ESP</td>\n      <td>España</td>\n      <td>NaN</td>\n      <td>M. Ambiente / Prevención</td>\n      <td>[1][2]</td>\n      <td>[Orden PRE/2957/2008, Real Decreto 2163/1994]</td>\n    </tr>\n    <tr>\n      <th>11637</th>\n      <td>ORD PRE/3/2006 ESP</td>\n      <td>3</td>\n      <td>Orden PRE/3/2006, de 12 de enero, por la que s...</td>\n      <td>ESP</td>\n      <td>España</td>\n      <td>NaN</td>\n      <td>M. Ambiente / Prevención</td>\n      <td>[1][2]</td>\n      <td>[Orden PRE/3/2006, Real Decreto 255/2003]</td>\n    </tr>\n    <tr>\n      <th>11638</th>\n      <td>ORD PRE/3159/2004 ESP</td>\n      <td>3159</td>\n      <td>Orden PRE/3159/2004, de 28 de septiembre, por ...</td>\n      <td>ESP</td>\n      <td>España</td>\n      <td>NaN</td>\n      <td>M. Ambiente / Prevención</td>\n      <td>[1][2]</td>\n      <td>[Orden PRE/3159/2004, Real Decreto 1406/1989]</td>\n    </tr>\n    <tr>\n      <th>11639</th>\n      <td>ORD PRE/321/2009 ESP</td>\n      <td>321</td>\n      <td>Orden PRE/321/2009, de 13 de febrero, por la q...</td>\n      <td>ESP</td>\n      <td>España</td>\n      <td>NaN</td>\n      <td>M. Ambiente / Prevención</td>\n      <td>[1][2]</td>\n      <td>[Orden PRE/321/2009, Real Decreto 1054/2002]</td>\n    </tr>\n    <tr>\n      <th>11640</th>\n      <td>ORD PRE/3271/2011 ESP</td>\n      <td>3271</td>\n      <td>Orden PRE/3271/2011, de 25 de noviembre, por l...</td>\n      <td>ESP</td>\n      <td>España</td>\n      <td>NaN</td>\n      <td>M. Ambiente / Prevención</td>\n      <td>[1][2]</td>\n      <td>[Orden PRE/3271/2011, Real Decreto 1054/2002]</td>\n    </tr>\n    <tr>\n      <th>11641</th>\n      <td>ORD PRE/3290/2002 ESP</td>\n      <td>3290</td>\n      <td>Orden PRE/3290/2002, de 23 de diciembre, por l...</td>\n      <td>ESP</td>\n      <td>España</td>\n      <td>NaN</td>\n      <td>M. Ambiente / Prevención</td>\n      <td>[1][2]</td>\n      <td>[Orden PRE/3290/2002, Real Decreto 2163/1994]</td>\n    </tr>\n    <tr>\n      <th>11642</th>\n      <td>ORD PRE/3297/2004 ESP</td>\n      <td>3297</td>\n      <td>Orden PRE/3297/2004, de 13 de octubre, por la ...</td>\n      <td>ESP</td>\n      <td>España</td>\n      <td>NaN</td>\n      <td>M. Ambiente / Prevención</td>\n      <td>[1][2]</td>\n      <td>[Orden PRE/3297/2004, Real Decreto 2163/1994]</td>\n    </tr>\n    <tr>\n      <th>11643</th>\n      <td>ORD PRE/3298/2004 ESP</td>\n      <td>3298</td>\n      <td>Orden PRE/3298/2004, de 13 de octubre, por la ...</td>\n      <td>ESP</td>\n      <td>España</td>\n      <td>NaN</td>\n      <td>Reg. Industrial</td>\n      <td>[3]</td>\n      <td>[Orden PRE/3298/2004, Real Decreto 2822/1998]</td>\n    </tr>\n    <tr>\n      <th>11644</th>\n      <td>ORD PRE/3302/2006 ESP</td>\n      <td>3302</td>\n      <td>Orden PRE/3302/2006, de 27 de octubre, por la ...</td>\n      <td>ESP</td>\n      <td>España</td>\n      <td>NaN</td>\n      <td>M. Ambiente / Prevención</td>\n      <td>[1][2]</td>\n      <td>[Orden PRE/3302/2006, Real Decreto 2163/1994]</td>\n    </tr>\n    <tr>\n      <th>11645</th>\n      <td>ORD PRE/3338/2007 ESP</td>\n      <td>3338</td>\n      <td>Orden PRE/3338/2007, de 15 de noviembre, por l...</td>\n      <td>ESP</td>\n      <td>España</td>\n      <td>NaN</td>\n      <td>M. Ambiente / Prevención</td>\n      <td>[1][2]</td>\n      <td>[Orden PRE/3338/2007, Real Decreto 2163/1994]</td>\n    </tr>\n    <tr>\n      <th>11647</th>\n      <td>ORD PRE/3420/2007 ESP</td>\n      <td>3420</td>\n      <td>Orden PRE/3420/2007, de 14 de noviembre, por l...</td>\n      <td>ESP</td>\n      <td>España</td>\n      <td>NaN</td>\n      <td>M. Ambiente</td>\n      <td>[1]</td>\n      <td>[Orden PRE/3420/2007]</td>\n    </tr>\n    <tr>\n      <th>11648</th>\n      <td>ORD PRE/3476/2003 ESP</td>\n      <td>3476</td>\n      <td>Orden PRE/3476/2003, de 9 de diciembre, por la...</td>\n      <td>ESP</td>\n      <td>España</td>\n      <td>NaN</td>\n      <td>M. Ambiente / Prevención</td>\n      <td>[1][2]</td>\n      <td>[Orden PRE/3476/2003, Real Decreto 2163/1994]</td>\n    </tr>\n    <tr>\n      <th>11649</th>\n      <td>ORD PRE/3539/2008 ESP</td>\n      <td>3539</td>\n      <td>Orden PRE/3539/2008, de 28 de noviembre, por l...</td>\n      <td>ESP</td>\n      <td>España</td>\n      <td>NaN</td>\n      <td>M. Ambiente</td>\n      <td>[1]</td>\n      <td>[Orden PRE/3539/2008]</td>\n    </tr>\n    <tr>\n      <th>11650</th>\n      <td>ORD PRE/370/2012 ESP</td>\n      <td>370</td>\n      <td>Orden PRE/370/2012, de 27 de febrero, por la q...</td>\n      <td>ESP</td>\n      <td>España</td>\n      <td>NaN</td>\n      <td>M. Ambiente</td>\n      <td>[1]</td>\n      <td>[Orden PRE/370/2012, Real Decreto 1383/2002]</td>\n    </tr>\n    <tr>\n      <th>11651</th>\n      <td>ORD PRE/374/2008 ESP</td>\n      <td>374</td>\n      <td>Orden PRE/374/2008, de 31 de enero, por la que...</td>\n      <td>ESP</td>\n      <td>España</td>\n      <td>NaN</td>\n      <td>M. Ambiente / Prevención</td>\n      <td>[1][2]</td>\n      <td>[Orden PRE/374/2008, Real Decreto 1406/1989]</td>\n    </tr>\n    <tr>\n      <th>11652</th>\n      <td>ORD PRE/375/2003 ESP</td>\n      <td>375</td>\n      <td>Orden PRE/375/2003, de 24 de febrero, por la q...</td>\n      <td>ESP</td>\n      <td>España</td>\n      <td>NaN</td>\n      <td>M. Ambiente / Prevención</td>\n      <td>[1][2]</td>\n      <td>[Orden PRE/375/2003, Real Decreto 1406/1989]</td>\n    </tr>\n    <tr>\n      <th>11653</th>\n      <td>ORD PRE/3834/2005 ESP</td>\n      <td>3834</td>\n      <td>Orden PRE/3834/2005, de 9 de diciembre, por la...</td>\n      <td>ESP</td>\n      <td>España</td>\n      <td>NaN</td>\n      <td>M. Ambiente</td>\n      <td>[1]</td>\n      <td>[Orden PRE/3834/2005]</td>\n    </tr>\n    <tr>\n      <th>11654</th>\n      <td>ORD PRE/3856/2005 ESP</td>\n      <td>3856</td>\n      <td>Orden PRE/3856/2005, de 12 de diciembre, por l...</td>\n      <td>ESP</td>\n      <td>España</td>\n      <td>NaN</td>\n      <td>M. Ambiente / Prevención</td>\n      <td>[1][2]</td>\n      <td>[Orden PRE/3856/2005, Real Decreto 2163/1994]</td>\n    </tr>\n    <tr>\n      <th>11655</th>\n      <td>ORD PRE/3929/2004 ESP</td>\n      <td>3929</td>\n      <td>Orden PRE/3929/2004, de 30 de noviembre, por l...</td>\n      <td>ESP</td>\n      <td>España</td>\n      <td>NaN</td>\n      <td>M. Ambiente / Prevención</td>\n      <td>[1][2]</td>\n      <td>[Orden PRE/3929/2004, Real Decreto 2163/1994]</td>\n    </tr>\n    <tr>\n      <th>11656</th>\n      <td>ORD PRE/402/2006 ESP</td>\n      <td>402</td>\n      <td>Orden PRE/402/2006, de 16 de febrero, por la q...</td>\n      <td>ESP</td>\n      <td>España</td>\n      <td>NaN</td>\n      <td>M. Ambiente / Prevención</td>\n      <td>[1][2]</td>\n      <td>[Orden PRE/402/2006, Orden PRE/690/2005]</td>\n    </tr>\n    <tr>\n      <th>11657</th>\n      <td>ORD PRE/402/2008 CAT</td>\n      <td>402</td>\n      <td>Orden PRE/402/2008, de 28 de agosto, por la qu...</td>\n      <td>ESP</td>\n      <td>España</td>\n      <td>NaN</td>\n      <td>Reg. Industrial</td>\n      <td>[3]</td>\n      <td>[Orden PRE/402/2008]</td>\n    </tr>\n    <tr>\n      <th>11658</th>\n      <td>ORD PRE/456/2007 ESP</td>\n      <td>456</td>\n      <td>Orden PRE/456/2007, de 28 de febrero, por la q...</td>\n      <td>ESP</td>\n      <td>España</td>\n      <td>NaN</td>\n      <td>M. Ambiente / Prevención</td>\n      <td>[1][2]</td>\n      <td>[Orden PRE/456/2007, Real Decreto 2163/1994]</td>\n    </tr>\n    <tr>\n      <th>11659</th>\n      <td>ORD PRE/468/2008 ESP</td>\n      <td>468</td>\n      <td>Orden PRE/468/2008, de 15 de febrero, por la q...</td>\n      <td>ESP</td>\n      <td>España</td>\n      <td>NaN</td>\n      <td>M. Ambiente</td>\n      <td>[1]</td>\n      <td>[Orden PRE/468/2008]</td>\n    </tr>\n    <tr>\n      <th>11660</th>\n      <td>ORD PRE/473/2004 ESP</td>\n      <td>473</td>\n      <td>Orden PRE/473/2004, de 25 de febrero, por la q...</td>\n      <td>ESP</td>\n      <td>España</td>\n      <td>NaN</td>\n      <td>M. Ambiente / Prevención</td>\n      <td>[1][2]</td>\n      <td>[Orden PRE/473/2004, Decreto 1406/1989]</td>\n    </tr>\n    <tr>\n      <th>11661</th>\n      <td>ORD PRE/507/2008 ESP</td>\n      <td>507</td>\n      <td>Orden PRE/507/2008, de 26 de febrero, por la q...</td>\n      <td>ESP</td>\n      <td>España</td>\n      <td>NaN</td>\n      <td>M. Ambiente / Prevención</td>\n      <td>[1][2]</td>\n      <td>[Orden PRE/507/2008, Real Decreto 1054/2002]</td>\n    </tr>\n    <tr>\n      <th>11662</th>\n      <td>ORD PRE/52/2010 ESP</td>\n      <td>23/1/2010</td>\n      <td>Orden PRE/52/2010, de 21 de enero, por la que ...</td>\n      <td>ESP</td>\n      <td>España</td>\n      <td>NaN</td>\n      <td>Seguridad Vial</td>\n      <td>[5]</td>\n      <td>[Orden PRE/52/2010, Real Decreto 2822/1998]</td>\n    </tr>\n    <tr>\n      <th>11663</th>\n      <td>ORD PRE/531/2010 ESP</td>\n      <td>531</td>\n      <td>Orden PRE/531/2010, de 26 de febrero, por la q...</td>\n      <td>ESP</td>\n      <td>España</td>\n      <td>NaN</td>\n      <td>M. Ambiente / Prevención</td>\n      <td>[1][2]</td>\n      <td>[Orden PRE/531/2010, Real Decreto 2163/1994]</td>\n    </tr>\n    <tr>\n      <th>11664</th>\n      <td>ORD PRE/556/2005 ESP</td>\n      <td>556</td>\n      <td>Orden PRE/556/2005, de 10 de marzo, por la que...</td>\n      <td>ESP</td>\n      <td>España</td>\n      <td>NaN</td>\n      <td>M. Ambiente / Prevención</td>\n      <td>[1][2]</td>\n      <td>[Orden PRE/556/2005, Orden PRE/473/2004, Real ...</td>\n    </tr>\n    <tr>\n      <th>11665</th>\n      <td>ORD PRE/568/2009 ESP</td>\n      <td>568</td>\n      <td>Orden PRE/568/2009, de 5 de marzo, por la que ...</td>\n      <td>ESP</td>\n      <td>España</td>\n      <td>NaN</td>\n      <td>Prevención</td>\n      <td>[2]</td>\n      <td>[Orden PRE/568/2009, Real Decreto 258/1999]</td>\n    </tr>\n    <tr>\n      <th>11666</th>\n      <td>ORD PRE/628/2011 ESP</td>\n      <td>628</td>\n      <td>Orden PRE/628/2011, de 22 de marzo, por la que...</td>\n      <td>ESP</td>\n      <td>España</td>\n      <td>NaN</td>\n      <td>Seg. Alimentaria</td>\n      <td>[7]</td>\n      <td>[Orden PRE/628/2011, Real Decreto 866/2008]</td>\n    </tr>\n    <tr>\n      <th>11667</th>\n      <td>ORD PRE/629/2011 ESP</td>\n      <td>629</td>\n      <td>Orden PRE/629/2011, de 22 de marzo, por la que...</td>\n      <td>ESP</td>\n      <td>España</td>\n      <td>-</td>\n      <td>Seguridad Vial</td>\n      <td>[5]</td>\n      <td>[Orden PRE/629/2011, Real Decreto 2822/1998]</td>\n    </tr>\n    <tr>\n      <th>11668</th>\n      <td>ORD PRE/630/2011 ESP</td>\n      <td>630</td>\n      <td>Orden PRE/630/2011, de 23 de marzo, por la que...</td>\n      <td>ESP</td>\n      <td>España</td>\n      <td>NaN</td>\n      <td>M. Ambiente / Prevención</td>\n      <td>[1][2]</td>\n      <td>[Orden PRE/630/2011, Real Decreto 824/2005]</td>\n    </tr>\n    <tr>\n      <th>11669</th>\n      <td>ORD PRE/631/2011 ESP</td>\n      <td>631</td>\n      <td>Orden PRE/631/2011, de 23 de marzo, por la que...</td>\n      <td>ESP</td>\n      <td>España</td>\n      <td>NaN</td>\n      <td>M. Ambiente / Prevención</td>\n      <td>[1][2]</td>\n      <td>[Orden PRE/631/2011, Real Decreto 2163/1994]</td>\n    </tr>\n    <tr>\n      <th>11670</th>\n      <td>ORD PRE/662/2013 ESP</td>\n      <td>662</td>\n      <td>Orden PRE/662/2013, de 22 de abril, por la que...</td>\n      <td>ESP</td>\n      <td>España</td>\n      <td>NaN</td>\n      <td>M. Ambiente / Prevención</td>\n      <td>[1][2]</td>\n      <td>[Orden PRE/662/2013, Real Decreto 1054/2002]</td>\n    </tr>\n    <tr>\n      <th>11671</th>\n      <td>ORD PRE/675/2013 ESP</td>\n      <td>675</td>\n      <td>Orden PRE/675/2013, de 22 de abril, por la que...</td>\n      <td>ESP</td>\n      <td>España</td>\n      <td>NaN</td>\n      <td>M. Ambiente / Prevención</td>\n      <td>[1][2]</td>\n      <td>[Orden PRE/675/2013, Real Decreto 1054/2002]</td>\n    </tr>\n    <tr>\n      <th>11672</th>\n      <td>ORD PRE/690/2005 ESP</td>\n      <td>690</td>\n      <td>Orden PRE/690/2005, de 18 de marzo, por la que...</td>\n      <td>ESP</td>\n      <td>España</td>\n      <td>NaN</td>\n      <td>M. Ambiente / Prevención</td>\n      <td>[1][2]</td>\n      <td>[Orden PRE/690/2005]</td>\n    </tr>\n    <tr>\n      <th>11673</th>\n      <td>ORD PRE/696/2008 ESP</td>\n      <td>696</td>\n      <td>Orden PRE/696/2008, de 7 de marzo, por la que ...</td>\n      <td>ESP</td>\n      <td>España</td>\n      <td>NaN</td>\n      <td>M. Ambiente / Prevención</td>\n      <td>[1][2]</td>\n      <td>[Orden PRE/696/2008, Real Decreto 2163/1994]</td>\n    </tr>\n    <tr>\n      <th>11674</th>\n      <td>ORD PRE/730/2003 ESP</td>\n      <td>730</td>\n      <td>Orden PRE/730/2003, de 25 de marzo, por la que...</td>\n      <td>ESP</td>\n      <td>España</td>\n      <td>NaN</td>\n      <td>M. Ambiente / Prevención</td>\n      <td>[1][2]</td>\n      <td>[Orden PRE/730/2003, Real Decreto 1406/1989]</td>\n    </tr>\n    <tr>\n      <th>11675</th>\n      <td>ORD PRE/77/2008 ESP</td>\n      <td>77</td>\n      <td>Orden PRE/77/2008, de 17 de enero, por la que ...</td>\n      <td>ESP</td>\n      <td>España</td>\n      <td>NaN</td>\n      <td>M. Ambiente</td>\n      <td>[1]</td>\n      <td>[Orden PRE/77/2008]</td>\n    </tr>\n    <tr>\n      <th>11676</th>\n      <td>ORD PRE/772/2016 ESP</td>\n      <td>772</td>\n      <td>Orden PRE/772/2016, de 19 de mayo, por la que ...</td>\n      <td>ESP</td>\n      <td>España</td>\n      <td>NaN</td>\n      <td>M. Ambiente</td>\n      <td>[1]</td>\n      <td>[Orden PRE/772/2016, Real Decreto 219/2013]</td>\n    </tr>\n    <tr>\n      <th>11677</th>\n      <td>ORD PRE/777/2009 ESP</td>\n      <td>777</td>\n      <td>Orden PRE/777/2009, de 26 de marzo, por la que...</td>\n      <td>ESP</td>\n      <td>España</td>\n      <td>NaN</td>\n      <td>M. Ambiente / Prevención</td>\n      <td>[1][2]</td>\n      <td>[Orden PRE/777/2009, Real Decreto 2163/1994]</td>\n    </tr>\n    <tr>\n      <th>11678</th>\n      <td>ORD PRE/777/2011 ESP</td>\n      <td>777</td>\n      <td>Orden PRE/777/2011, de 4 de abril, por la que ...</td>\n      <td>ESP</td>\n      <td>España</td>\n      <td>NaN</td>\n      <td>M. Ambiente / Prevención</td>\n      <td>[1][2]</td>\n      <td>[Orden PRE/777/2011, Real Decreto 1054/2002]</td>\n    </tr>\n    <tr>\n      <th>11679</th>\n      <td>ORD PRE/839/2010 ESP</td>\n      <td>839</td>\n      <td>Orden PRE/839/2010, de 29 de marzo, por la que...</td>\n      <td>ESP</td>\n      <td>España</td>\n      <td>NaN</td>\n      <td>M. Ambiente / Prevención</td>\n      <td>[1][2]</td>\n      <td>[Orden PRE/839/2010, Real Decreto 2163/1994]</td>\n    </tr>\n  </tbody>\n</table>\n</div>"
     },
     "metadata": {},
     "execution_count": 125
    }
   ],
   "source": [
    "ASECORP_BBDD_BOE[1200:1250]"
   ]
  },
  {
   "cell_type": "code",
   "execution_count": 126,
   "metadata": {},
   "outputs": [],
   "source": [
    "# titulo"
   ]
  },
  {
   "cell_type": "code",
   "execution_count": 127,
   "metadata": {},
   "outputs": [
    {
     "output_type": "execute_result",
     "data": {
      "text/plain": [
       "2959"
      ]
     },
     "metadata": {},
     "execution_count": 127
    }
   ],
   "source": [
    "len(titulo)"
   ]
  },
  {
   "cell_type": "code",
   "execution_count": 128,
   "metadata": {},
   "outputs": [],
   "source": [
    "## Busca patrones regex definidos en columna títulos del DF \n",
    "boletin = []\n",
    "for i, row in ASECORP_BBDD_BOE.iterrows():\n",
    "    boletin.append(str(re.findall('|'.join(pattern), row['Titulo'], flags=re.IGNORECASE)))"
   ]
  },
  {
   "cell_type": "code",
   "execution_count": 129,
   "metadata": {},
   "outputs": [
    {
     "output_type": "execute_result",
     "data": {
      "text/plain": [
       "[\"['Acuerdo Multilateral RID 1/2020']\",\n",
       " '[]',\n",
       " '[]',\n",
       " '[]',\n",
       " \"['Acuerdo Multilateral RID 2/2020']\",\n",
       " '[]',\n",
       " \"['Acuerdo Multilateral RID 1/2013']\",\n",
       " '[]',\n",
       " '[]',\n",
       " '[]',\n",
       " '[]',\n",
       " \"['Acuerdo Multilateral RID 3/2007']\",\n",
       " \"['Acuerdo Multilateral RID 4/2009']\",\n",
       " '[]',\n",
       " '[]',\n",
       " \"['Acuerdo Multilateral M-150']\",\n",
       " \"['Acuerdo Multilateral M-159']\",\n",
       " \"['Acuerdo multilateral M-168']\",\n",
       " \"['Acuerdo Multilateral M-170']\",\n",
       " \"['Acuerdo Multilateral M-171']\",\n",
       " \"['Acuerdo Multilateral M-173']\",\n",
       " \"['Acuerdo Multilateral M-175']\",\n",
       " '[]',\n",
       " \"['Acuerdo Multilateral M-178']\",\n",
       " \"['Acuerdo Multilateral M-198']\"]"
      ]
     },
     "metadata": {},
     "execution_count": 129
    }
   ],
   "source": [
    "boletin[0:25]"
   ]
  },
  {
   "cell_type": "code",
   "execution_count": 130,
   "metadata": {},
   "outputs": [],
   "source": [
    "## Para cada fila de la BBDD recoge la expresión REGEX encontrada y si no existe no la incluye \n",
    "## en la lista resultante llamada 'boletin'. Además si no detecta expresión la cuenta como vacía\n",
    "## en variable 'n_vacios', y la añade a la lista 'vacios' para inspeccionar posteriormente \n",
    "boletin = []\n",
    "vacios = []\n",
    "n_vacios = 0\n",
    "for i, row in ASECORP_BBDD_BOE.iterrows():\n",
    "    regex_result = re.findall('|'.join(pattern), row['Titulo'], flags=re.IGNORECASE)\n",
    "    if len(regex_result) != 0:\n",
    "        boletin.append(re.findall('|'.join(pattern), row['Titulo'], flags=re.IGNORECASE))\n",
    "    else:\n",
    "        n_vacios += 1\n",
    "        vacios.append(row['Titulo'])"
   ]
  },
  {
   "cell_type": "code",
   "execution_count": 131,
   "metadata": {},
   "outputs": [
    {
     "output_type": "execute_result",
     "data": {
      "text/plain": [
       "225"
      ]
     },
     "metadata": {},
     "execution_count": 131
    }
   ],
   "source": [
    "n_vacios"
   ]
  },
  {
   "cell_type": "code",
   "execution_count": 132,
   "metadata": {},
   "outputs": [
    {
     "output_type": "execute_result",
     "data": {
      "text/plain": [
       "['Entrada en vigor del Acuerdo entre el Reino de España y el Principado de Andorra sobre traslado y gestión de residuos, hecho en Madrid el 17 de octubre de 2006.',\n",
       " 'Aplicación provisional del Acuerdo entre el Reino de España y el Principado de Andorra sobre traslado y gestión de residuos, hecho en Madrid el 17 de octubre de 2006.',\n",
       " 'Acuerdo de la Junta de Gobierno de la Confederación Hidrográfica del Segura celebrada el día 30 de octubre de 2018 sobre aplicación de indisponibilidad o reducción de dotaciones de acuerdo al Plan Especial de Sequía y al Real Decreto que la regula',\n",
       " 'Entrada en vigor del Acuerdo entre el Reino de España y el Principado de Andorra sobre el traslado de residuos, hecho en Madrid el 29 de noviembre de 2011.',\n",
       " 'Canje de Notas por el que se procede a la prórroga del mantenimiento en vigor del Acuerdo entre el Reino de España y el Principado de Andorra sobre traslado y gestión de residuos, hecho en Madrid el 27 de enero de 2000.',\n",
       " 'Aplicación provisional del Acuerdo entre el Reino de España y el Principado de Andorra sobre el traslado de residuos, hecho en Madrid el 29 de noviembre de 2011.',\n",
       " 'Plan de Acción de Ahorro y Eficiencia Energética  2011-2020, del 29 de julio de 2011 (IDAE)',\n",
       " 'Acuerdo Especial Multilateral RID 3/2020 en virtud de la Sección 1.5.1 del Reglamento del Transporte Internacional de Mercancías Peligrosas por Ferrocarril (RID), relativo a la inspección periódica y ensayo de recipientes a presión para el transporte de gases de la Clase 2, hecho en Madrid el 2 de abril de 2020',\n",
       " 'Acuerdo Especial Multilateral RID 4/2020 en virtud de la Sección 1.5.1 del Reglamento del Transporte Internacional de Mercancías Peligrosas por Ferrocarril (RID), sobre inspecciones periódicas o intermedias de cisternas portátiles y contenedores de gas de elementos múltiples (CGEM) certificados «UN» de acuerdo con los apartados 6.7.2.19.2, 6.7.3.15.2, 6.7.4.14.2 y 6.7.5.12.2 del RID, hecho en Madrid el 2 de abril de 2020',\n",
       " 'Acuerdo Especial Multilateral RID 8.2020 en virtud de la sección 1.5.1 del RID, relativo a la inspección periódica y ensayo de recipientes a presión para el transporte de gases de la Clase 2, hecho en Madrid el 1 de diciembre de 2020',\n",
       " 'Acuerdo multilateral ADR M-177 en virtud de la sección 1.5.1 del Acuerdo Europeo sobre transporte internacional de mercancías peligrosas por carretera (ADR), publicado en el «Boletín Oficial del Estado» n.º 18, de 21 de enero de 2005, relativo al documento de transporte en operaciones de venta en ruta, hecho en Madrid el 23 de junio de 2006.',\n",
       " 'Acuerdo Multilateral M 269 en aplicación de la sección 1.5.1 del Acuerdo Europeo sobre transporte internacional de mercancías peligrosas por carretera (ADR), relativo al marcado de los números UN en botellas para gases licuados del petróleo (GLP), hecho en Madrid el 20 de diciembre de 2013.',\n",
       " 'Acuerdo  Multilateral  M  300  en  aplicación  de  la  sección  1.5.1  del  Acuerdo Europeo sobre transporte internacional de mercancías peligrosas por carretera (ADR), relativo al documento de transporte en operaciones de venta en ruta, hecho en Madrid el 11 de julio de 2016',\n",
       " 'Acuerdo Multilateral M 304 en aplicación de la sección 1.5.1 del AcuerdoEuropeo sobre transporte internacional de mercancías peligrosas por carretera(ADR), relativo al número de remolques en una unidad de transporte demercancías peligrosas, hecho en Madrid el 30 de enero de 2017',\n",
       " 'Acuerdo Multilateral M 311 en virtud de la sección 1.5.1 del Anexo A del Acuerdo Europeo sobre transporte internacional de mercancías peligrosas por carretera (ADR), relativo al marcado (placas etiqueta) de contenedores usados exclusivamente en una operación de transporte por carretera, hecho en Madrid el 22 de marzo de 2018',\n",
       " 'Acuerdo Multilateral M315 en virtud de la sección 1.5.1 del Anexo A del Acuerdo Europeo sobre transporte internacional de mercancías peligrosas por carretera (ADR), relativo al transporte de desechos contaminados con virus que causan fiebre hemorrágica, hecho en Madrid el 8 de julio de 2019',\n",
       " 'Acuerdo Multilateral M317 en virtud de la sección 1.5. del Acuerdo europeo sobre transporte internacional de mercancías peligrosas por carretera (ADR), relativo al transporte de desechos médicos sólidos o clínicos, Categoría A, hecho en Madrid el 23 de marzo de 2020',\n",
       " 'Acuerdo Multilateral M324 en virtud de la sección 1.5.1 del Acuerdo europeo sobre transporte internacional de mercancías peligrosas por carretera (ADR) relativo a los certificados de formación de los conductores de conformidad con el punto 8.2.2.8.2 del ADR y los certificados de consejeros de seguridad de conformidad con el punto 1.8.3.7 del ADR, hecho en Madrid el 23 de marzo de 2020',\n",
       " 'Acuerdo Multilateral M325 en virtud de la sección 1.5.1 del Acuerdo europeo sobre transporte internacional de mercancías peligrosas por carretera (ADR), relativo a inspecciones periódicas o intermedias de cisternas de conformidad con los apartados 6.8.2.4.2, 6.8.2.4.3, 6.8.3.4.6, 6.8.3.4.12, 6.9.5.2 y 6.10.4 del ADR, y los certificados de aprobación para vehículos de conformidad con el apartado 9.1.3.4 del ADR, hecho en Madrid el 23 de marzo de 2020',\n",
       " 'Acuerdo Multilateral M326 en virtud de la sección 1.5.1 del Acuerdo europeo sobre transporte internacional de mercancías peligrosas por carretera (ADR), relativo a la inspección periódica y ensayo de recipientes a presión del transporte de gases de la Clase 2, hecho en Madrid el 2 de abril de 2020',\n",
       " 'Acuerdo Multilateral M327 bajo la sección 1.5.1 del Acuerdo europeo sobre transporte internacional de mercancías peligrosas por carretera (ADR), sobre inspecciones periódicas o intermedias de cisternas portátiles y contenedores de gas de elementos múltiples (CGEM) certificados «UN» de acuerdo con los apartados 6.7.2.19.2, 6.7.3.15.2, 6.7.4.14.2 y 6.7.5.12.2 del ADR, hecho en Madrid el 2 de abril de 2020',\n",
       " 'Acuerdo Multilateral M330 en virtud de la sección 1.5.1 del ADR, relativo a los certificados de formación de los conductores de conformidad con el punto 8.2.2.8.2 del ADR y los certificados de consejeros de seguridad de conformidad con el punto 1.8.3.7 del ADR, hecho en Madrid el 2 de diciembre de 2020',\n",
       " 'Acuerdo Multilateral M331 en virtud de la sección 1.5.1 del ADR, relativo a la inspección periódica y ensayo de recipientes a presión para el transporte de gases de la Clase 2, hecho en Madrid el 2 de diciembre de 2020',\n",
       " 'Acuerdo Multilateral M332 en virtud de la sección 1.5.1 del ADR, en relación con lo establecido para los materiales radiactivos de baja actividad específica BAE-III en el párrafo 2.2.7.2.3.1.4 del ADR, hecho en Madrid el 11 de diciembre de 2020',\n",
       " 'ADR 2003']"
      ]
     },
     "metadata": {},
     "execution_count": 132
    }
   ],
   "source": [
    "vacios[0:25]"
   ]
  },
  {
   "cell_type": "code",
   "execution_count": 133,
   "metadata": {},
   "outputs": [
    {
     "output_type": "execute_result",
     "data": {
      "text/plain": [
       "[['Acuerdo Multilateral RID 1/2020'],\n",
       " ['Acuerdo Multilateral RID 2/2020'],\n",
       " ['Acuerdo Multilateral RID 1/2013'],\n",
       " ['Acuerdo Multilateral RID 3/2007'],\n",
       " ['Acuerdo Multilateral RID 4/2009'],\n",
       " ['Acuerdo Multilateral M-150'],\n",
       " ['Acuerdo Multilateral M-159'],\n",
       " ['Acuerdo multilateral M-168'],\n",
       " ['Acuerdo Multilateral M-170'],\n",
       " ['Acuerdo Multilateral M-171'],\n",
       " ['Acuerdo Multilateral M-173'],\n",
       " ['Acuerdo Multilateral M-175'],\n",
       " ['Acuerdo Multilateral M-178'],\n",
       " ['Acuerdo Multilateral M-198'],\n",
       " ['Acuerdo Multilateral M-214'],\n",
       " ['Acuerdo Multilateral M-218'],\n",
       " ['Acuerdo Multilateral M-226'],\n",
       " ['Acuerdo Multilateral M-228'],\n",
       " ['Acuerdo Multilateral M-231'],\n",
       " ['Acuerdo Multilateral M-236'],\n",
       " ['Acuerdo Multilateral M-245'],\n",
       " ['Acuerdo Multilateral M-254'],\n",
       " ['Acuerdo Multilateral M-259'],\n",
       " ['Acuerdo Multilateral M-265'],\n",
       " ['Acuerdo Multilateral M-268']]"
      ]
     },
     "metadata": {},
     "execution_count": 133
    }
   ],
   "source": [
    "boletin[0:25]"
   ]
  },
  {
   "cell_type": "code",
   "execution_count": 134,
   "metadata": {},
   "outputs": [],
   "source": [
    "# Flatten list of lists\n",
    "boletin_ASECORP_flat_list = [item for sublist in boletin for item in sublist]"
   ]
  },
  {
   "cell_type": "code",
   "execution_count": 135,
   "metadata": {},
   "outputs": [
    {
     "output_type": "execute_result",
     "data": {
      "text/plain": [
       "['Acuerdo Multilateral RID 1/2020',\n",
       " 'Acuerdo Multilateral RID 2/2020',\n",
       " 'Acuerdo Multilateral RID 1/2013',\n",
       " 'Acuerdo Multilateral RID 3/2007',\n",
       " 'Acuerdo Multilateral RID 4/2009',\n",
       " 'Acuerdo Multilateral M-150',\n",
       " 'Acuerdo Multilateral M-159',\n",
       " 'Acuerdo multilateral M-168',\n",
       " 'Acuerdo Multilateral M-170',\n",
       " 'Acuerdo Multilateral M-171',\n",
       " 'Acuerdo Multilateral M-173',\n",
       " 'Acuerdo Multilateral M-175',\n",
       " 'Acuerdo Multilateral M-178',\n",
       " 'Acuerdo Multilateral M-198',\n",
       " 'Acuerdo Multilateral M-214',\n",
       " 'Acuerdo Multilateral M-218',\n",
       " 'Acuerdo Multilateral M-226',\n",
       " 'Acuerdo Multilateral M-228',\n",
       " 'Acuerdo Multilateral M-231',\n",
       " 'Acuerdo Multilateral M-236',\n",
       " 'Acuerdo Multilateral M-245',\n",
       " 'Acuerdo Multilateral M-254',\n",
       " 'Acuerdo Multilateral M-259',\n",
       " 'Acuerdo Multilateral M-265',\n",
       " 'Acuerdo Multilateral M-268']"
      ]
     },
     "metadata": {},
     "execution_count": 135
    }
   ],
   "source": [
    "boletin_ASECORP_flat_list[0:25]"
   ]
  },
  {
   "cell_type": "code",
   "execution_count": 136,
   "metadata": {},
   "outputs": [],
   "source": [
    "## Elimina duplicados\n",
    "boletin_ASECORP_flat_list = list(set(boletin_ASECORP_flat_list))"
   ]
  },
  {
   "cell_type": "code",
   "execution_count": 137,
   "metadata": {},
   "outputs": [
    {
     "output_type": "execute_result",
     "data": {
      "text/plain": [
       "['Orden JUS/992/2015',\n",
       " 'Real Decreto 299/2019',\n",
       " 'Real Decreto 3349/1983',\n",
       " 'Real Decreto 1295/2003',\n",
       " 'Resolución de 31 de julio de 2014',\n",
       " 'Sentencia 70/2018',\n",
       " 'Real Decreto 1010/2015',\n",
       " 'Real Decreto 653/2003',\n",
       " 'Resolución de 24 de noviembre de 2017',\n",
       " 'Real Decreto 314/2016',\n",
       " 'Real Decreto 731/2020',\n",
       " 'Orden de 12 de marzo de 1982',\n",
       " 'Orden IET/1882/2014',\n",
       " 'Real Decreto 1564/2010',\n",
       " 'Real Decreto 27/2021',\n",
       " 'Real Decreto 1123/2000',\n",
       " 'Resolución de 27 de enero de 2017',\n",
       " 'Ley 17/2015',\n",
       " 'Resolución de 31 de enero de 2013',\n",
       " 'Real Decreto 1616/2009',\n",
       " 'Orden de 3 de febrero de 1986',\n",
       " 'Orden FOM/2931/2015',\n",
       " 'Sentencia de 25 de octubre de 2017',\n",
       " 'Orden AAA/1903/2013',\n",
       " 'Real Decreto 1466/1995']"
      ]
     },
     "metadata": {},
     "execution_count": 137
    }
   ],
   "source": [
    "boletin_ASECORP_flat_list[0:25]"
   ]
  },
  {
   "cell_type": "code",
   "execution_count": 138,
   "metadata": {},
   "outputs": [
    {
     "output_type": "execute_result",
     "data": {
      "text/plain": [
       "{'Real Decreto 413/2014', 'Real Decreto 463/2020', 'Real Decreto-ley 23/2020'}"
      ]
     },
     "metadata": {},
     "execution_count": 138
    }
   ],
   "source": [
    "## Busca coincidencias entre lista boletines BOEs explorados y lista boletines de BBDD ASECORP\n",
    "set(boletin_flat_list) & set(boletin_ASECORP_flat_list)"
   ]
  },
  {
   "cell_type": "code",
   "execution_count": 139,
   "metadata": {},
   "outputs": [
    {
     "output_type": "stream",
     "name": "stdout",
     "text": [
      "{'Real Decreto 413/2014'}\n{'Real Decreto 463/2020'}\n{'Real Decreto 463/2020'}\n{'Real Decreto 413/2014'}\n{'Real Decreto-ley 23/2020'}\n{'Real Decreto 413/2014'}\n{'Real Decreto 413/2014'}\n{'Real Decreto 413/2014'}\n{'Real Decreto 413/2014'}\n{'Real Decreto 413/2014'}\n{'Real Decreto 413/2014'}\n{'Real Decreto 413/2014'}\n{'Real Decreto 413/2014'}\n{'Real Decreto 413/2014'}\n{'Real Decreto 413/2014'}\n"
     ]
    }
   ],
   "source": [
    "#tabla_analisis['Tags'].isin(ASECORP_BBDD_BOE['Tags'])\n",
    "for row_to_compare in tabla_analisis['Tags']:\n",
    "    for row_comparing in ASECORP_BBDD_BOE['Tags']:\n",
    "        if set(row_comparing) & set(row_to_compare):\n",
    "            print(set(row_comparing) & set(row_to_compare))"
   ]
  },
  {
   "cell_type": "code",
   "execution_count": 140,
   "metadata": {},
   "outputs": [
    {
     "output_type": "stream",
     "name": "stdout",
     "text": [
      "{'Real Decreto 413/2014'} ORD IET/1168/2014 ESP\n",
      "{'Real Decreto 463/2020'} ORD INT/262/2020 ESP\n",
      "{'Real Decreto 463/2020'} ORD INT/284/2020 ESP\n",
      "{'Real Decreto 413/2014'} RD 413/2014 ESP\n",
      "{'Real Decreto-ley 23/2020'} RDL 23/2020 ESP\n",
      "{'Real Decreto 413/2014'} RES 18/12/2015 ESP (1)\n",
      "{'Real Decreto 413/2014'} RES 9/2/2016 ESP\n",
      "{'Real Decreto 413/2014'} STC 16/3/2017 ESP\n",
      "{'Real Decreto 413/2014'} STC 19/9/2016 ESP\n",
      "{'Real Decreto 413/2014'} STC 20/12/2017 ESP\n",
      "{'Real Decreto 413/2014'} STC 20/6/2016 ESP (1)\n",
      "{'Real Decreto 413/2014'} STC 24/4/2017 ESP\n",
      "{'Real Decreto 413/2014'} STC 26/7/2016 ESP\n",
      "{'Real Decreto 413/2014'} STC 4/5/2017 ESP\n",
      "{'Real Decreto 413/2014'} STC 5/5/2017 ESP\n"
     ]
    }
   ],
   "source": [
    "for i, row_to_compare in tabla_analisis.iterrows():\n",
    "    for j, row_comparing in ASECORP_BBDD_BOE.iterrows():\n",
    "        if set(row_to_compare['Tags']) & set(row_comparing['Tags']):\n",
    "            tabla_analisis['Match_ASECORP_BBDD'][i].append (ASECORP_BBDD_BOE['Codigo'][j])\n",
    "            print(str(set(row_to_compare['Tags']) & set(row_comparing['Tags'])) + ' ' + str(row_comparing['Codigo']))"
   ]
  },
  {
   "cell_type": "code",
   "execution_count": 141,
   "metadata": {},
   "outputs": [
    {
     "output_type": "execute_result",
     "data": {
      "text/plain": [
       "   Alertas Fecha_publicacion  \\\n",
       "0       []        2021-03-22   \n",
       "1       []        2021-03-22   \n",
       "2       []        2021-03-22   \n",
       "3       []        2021-03-22   \n",
       "4       []        2021-03-22   \n",
       "..     ...               ...   \n",
       "64      []        2021-03-22   \n",
       "65      []        2021-03-22   \n",
       "66      []        2021-03-22   \n",
       "67      []        2021-03-22   \n",
       "68      []        2021-03-22   \n",
       "\n",
       "                                            Item_Name             Item_id  \\\n",
       "0   [Anuncio de licitación de: ADIF Alta Velocidad...  [BOE-B-2021-13860]   \n",
       "1   [Anuncio de formalización de contratos de: TGS...  [BOE-B-2021-13874]   \n",
       "2   [Resolución de 3 de marzo de 2021, de la Secre...   [BOE-A-2021-4481]   \n",
       "3   [Sala Segunda. Sentencia 20/2021, de 15 de feb...   [BOE-A-2021-4495]   \n",
       "4   [Sala Primera. Sentencia 19/2021, de 15 de feb...   [BOE-A-2021-4494]   \n",
       "..                                                ...                 ...   \n",
       "64  [Sala Primera. Sentencia 24/2021, de 15 de feb...   [BOE-A-2021-4499]   \n",
       "65  [Sala Primera. Sentencia 23/2021, de 15 de feb...   [BOE-A-2021-4498]   \n",
       "66  [Resolución de 15 de marzo de 2021, de la Secr...   [BOE-A-2021-4473]   \n",
       "67  [Sala Primera. Sentencia 32/2021, de 15 de feb...   [BOE-A-2021-4507]   \n",
       "68  [Pleno. Sentencia 38/2021, de 18 de febrero de...   [BOE-A-2021-4513]   \n",
       "\n",
       "   Materias Referencias Referencias_palabra Referencias_texto  \\\n",
       "0        []          []                  []                []   \n",
       "1        []          []                  []                []   \n",
       "2        []          []                  []                []   \n",
       "3        []          []                  []                []   \n",
       "4        []          []                  []                []   \n",
       "..      ...         ...                 ...               ...   \n",
       "64       []          []                  []                []   \n",
       "65       []          []                  []                []   \n",
       "66       []          []                  []                []   \n",
       "67       []          []                  []                []   \n",
       "68       []          []                  []                []   \n",
       "\n",
       "   Referencias_completas Tags Match_ASECORP_BBDD  \n",
       "0                     []   []                 []  \n",
       "1                     []   []                 []  \n",
       "2                     []   []                 []  \n",
       "3                     []   []                 []  \n",
       "4                     []   []                 []  \n",
       "..                   ...  ...                ...  \n",
       "64                    []   []                 []  \n",
       "65                    []   []                 []  \n",
       "66                    []   []                 []  \n",
       "67                    []   []                 []  \n",
       "68                    []   []                 []  \n",
       "\n",
       "[69 rows x 11 columns]"
      ],
      "text/html": "<div>\n<style scoped>\n    .dataframe tbody tr th:only-of-type {\n        vertical-align: middle;\n    }\n\n    .dataframe tbody tr th {\n        vertical-align: top;\n    }\n\n    .dataframe thead th {\n        text-align: right;\n    }\n</style>\n<table border=\"1\" class=\"dataframe\">\n  <thead>\n    <tr style=\"text-align: right;\">\n      <th></th>\n      <th>Alertas</th>\n      <th>Fecha_publicacion</th>\n      <th>Item_Name</th>\n      <th>Item_id</th>\n      <th>Materias</th>\n      <th>Referencias</th>\n      <th>Referencias_palabra</th>\n      <th>Referencias_texto</th>\n      <th>Referencias_completas</th>\n      <th>Tags</th>\n      <th>Match_ASECORP_BBDD</th>\n    </tr>\n  </thead>\n  <tbody>\n    <tr>\n      <th>0</th>\n      <td>[]</td>\n      <td>2021-03-22</td>\n      <td>[Anuncio de licitación de: ADIF Alta Velocidad...</td>\n      <td>[BOE-B-2021-13860]</td>\n      <td>[]</td>\n      <td>[]</td>\n      <td>[]</td>\n      <td>[]</td>\n      <td>[]</td>\n      <td>[]</td>\n      <td>[]</td>\n    </tr>\n    <tr>\n      <th>1</th>\n      <td>[]</td>\n      <td>2021-03-22</td>\n      <td>[Anuncio de formalización de contratos de: TGS...</td>\n      <td>[BOE-B-2021-13874]</td>\n      <td>[]</td>\n      <td>[]</td>\n      <td>[]</td>\n      <td>[]</td>\n      <td>[]</td>\n      <td>[]</td>\n      <td>[]</td>\n    </tr>\n    <tr>\n      <th>2</th>\n      <td>[]</td>\n      <td>2021-03-22</td>\n      <td>[Resolución de 3 de marzo de 2021, de la Secre...</td>\n      <td>[BOE-A-2021-4481]</td>\n      <td>[]</td>\n      <td>[]</td>\n      <td>[]</td>\n      <td>[]</td>\n      <td>[]</td>\n      <td>[]</td>\n      <td>[]</td>\n    </tr>\n    <tr>\n      <th>3</th>\n      <td>[]</td>\n      <td>2021-03-22</td>\n      <td>[Sala Segunda. Sentencia 20/2021, de 15 de feb...</td>\n      <td>[BOE-A-2021-4495]</td>\n      <td>[]</td>\n      <td>[]</td>\n      <td>[]</td>\n      <td>[]</td>\n      <td>[]</td>\n      <td>[]</td>\n      <td>[]</td>\n    </tr>\n    <tr>\n      <th>4</th>\n      <td>[]</td>\n      <td>2021-03-22</td>\n      <td>[Sala Primera. Sentencia 19/2021, de 15 de feb...</td>\n      <td>[BOE-A-2021-4494]</td>\n      <td>[]</td>\n      <td>[]</td>\n      <td>[]</td>\n      <td>[]</td>\n      <td>[]</td>\n      <td>[]</td>\n      <td>[]</td>\n    </tr>\n    <tr>\n      <th>...</th>\n      <td>...</td>\n      <td>...</td>\n      <td>...</td>\n      <td>...</td>\n      <td>...</td>\n      <td>...</td>\n      <td>...</td>\n      <td>...</td>\n      <td>...</td>\n      <td>...</td>\n      <td>...</td>\n    </tr>\n    <tr>\n      <th>64</th>\n      <td>[]</td>\n      <td>2021-03-22</td>\n      <td>[Sala Primera. Sentencia 24/2021, de 15 de feb...</td>\n      <td>[BOE-A-2021-4499]</td>\n      <td>[]</td>\n      <td>[]</td>\n      <td>[]</td>\n      <td>[]</td>\n      <td>[]</td>\n      <td>[]</td>\n      <td>[]</td>\n    </tr>\n    <tr>\n      <th>65</th>\n      <td>[]</td>\n      <td>2021-03-22</td>\n      <td>[Sala Primera. Sentencia 23/2021, de 15 de feb...</td>\n      <td>[BOE-A-2021-4498]</td>\n      <td>[]</td>\n      <td>[]</td>\n      <td>[]</td>\n      <td>[]</td>\n      <td>[]</td>\n      <td>[]</td>\n      <td>[]</td>\n    </tr>\n    <tr>\n      <th>66</th>\n      <td>[]</td>\n      <td>2021-03-22</td>\n      <td>[Resolución de 15 de marzo de 2021, de la Secr...</td>\n      <td>[BOE-A-2021-4473]</td>\n      <td>[]</td>\n      <td>[]</td>\n      <td>[]</td>\n      <td>[]</td>\n      <td>[]</td>\n      <td>[]</td>\n      <td>[]</td>\n    </tr>\n    <tr>\n      <th>67</th>\n      <td>[]</td>\n      <td>2021-03-22</td>\n      <td>[Sala Primera. Sentencia 32/2021, de 15 de feb...</td>\n      <td>[BOE-A-2021-4507]</td>\n      <td>[]</td>\n      <td>[]</td>\n      <td>[]</td>\n      <td>[]</td>\n      <td>[]</td>\n      <td>[]</td>\n      <td>[]</td>\n    </tr>\n    <tr>\n      <th>68</th>\n      <td>[]</td>\n      <td>2021-03-22</td>\n      <td>[Pleno. Sentencia 38/2021, de 18 de febrero de...</td>\n      <td>[BOE-A-2021-4513]</td>\n      <td>[]</td>\n      <td>[]</td>\n      <td>[]</td>\n      <td>[]</td>\n      <td>[]</td>\n      <td>[]</td>\n      <td>[]</td>\n    </tr>\n  </tbody>\n</table>\n<p>69 rows × 11 columns</p>\n</div>"
     },
     "metadata": {},
     "execution_count": 141
    }
   ],
   "source": [
    "tabla_analisis"
   ]
  },
  {
   "cell_type": "code",
   "execution_count": 142,
   "metadata": {},
   "outputs": [
    {
     "output_type": "execute_result",
     "data": {
      "text/plain": [
       "[]"
      ]
     },
     "metadata": {},
     "execution_count": 142
    }
   ],
   "source": [
    "tabla_analisis['Match_ASECORP_BBDD'][1]"
   ]
  },
  {
   "cell_type": "code",
   "execution_count": 143,
   "metadata": {},
   "outputs": [
    {
     "output_type": "execute_result",
     "data": {
      "text/plain": [
       "[]"
      ]
     },
     "metadata": {},
     "execution_count": 143
    }
   ],
   "source": [
    "tabla_analisis['Tags'][1]"
   ]
  },
  {
   "source": [
    "# Genera Fichero EXCEL de resultados"
   ],
   "cell_type": "markdown",
   "metadata": {}
  },
  {
   "cell_type": "code",
   "execution_count": 144,
   "metadata": {},
   "outputs": [],
   "source": [
    "## Cambia orden de columnas y elimina las no necesarias  \n",
    "tabla_analisis_final = tabla_analisis[['Item_id','Item_Name','Fecha_publicacion','Materias','Alertas','Referencias','Referencias_completas','Tags','Match_ASECORP_BBDD']]"
   ]
  },
  {
   "cell_type": "code",
   "execution_count": 145,
   "metadata": {},
   "outputs": [],
   "source": [
    "## Crea función que convierte lista a string en todas las columnas de tabla_analisis\n",
    "## para evitar en presentación final los caracteres [' '] propios de las listas\n",
    "def list2Str(lst):\n",
    "    if type(lst) is list: # apply conversion to list columns\n",
    "        return\", \".join(lst)\n",
    "    else:\n",
    "        return lst"
   ]
  },
  {
   "cell_type": "code",
   "execution_count": 146,
   "metadata": {},
   "outputs": [],
   "source": [
    "## Aplica función de conversión de listas a strings\n",
    "tabla_analisis_final = tabla_analisis_final.apply(lambda x: [list2Str(i) for i in x])"
   ]
  },
  {
   "cell_type": "code",
   "execution_count": 147,
   "metadata": {},
   "outputs": [
    {
     "output_type": "execute_result",
     "data": {
      "text/plain": [
       "            Item_id                                          Item_Name  \\\n",
       "0  BOE-B-2021-13860  Anuncio de licitación de: ADIF Alta Velocidad ...   \n",
       "1  BOE-B-2021-13874  Anuncio de formalización de contratos de: TGSS...   \n",
       "2   BOE-A-2021-4481  Resolución de 3 de marzo de 2021, de la Secret...   \n",
       "3   BOE-A-2021-4495  Sala Segunda. Sentencia 20/2021, de 15 de febr...   \n",
       "4   BOE-A-2021-4494  Sala Primera. Sentencia 19/2021, de 15 de febr...   \n",
       "5   BOE-A-2021-4480  Resolución de 3 de marzo de 2021, de la Secret...   \n",
       "6  BOE-B-2021-13861  Anuncio de licitación de: ADIF - Presidencia. ...   \n",
       "7   BOE-A-2021-4509  Pleno. Sentencia 34/2021, de 17 de febrero de ...   \n",
       "8  BOE-B-2021-13863  Anuncio de licitación de: Comité Ejecutivo de ...   \n",
       "9   BOE-A-2021-4469  Resolución de 2 de marzo de 2021, del Centro d...   \n",
       "\n",
       "  Fecha_publicacion Materias Alertas Referencias Referencias_completas Tags  \\\n",
       "0        2021-03-22                                                           \n",
       "1        2021-03-22                                                           \n",
       "2        2021-03-22                                                           \n",
       "3        2021-03-22                                                           \n",
       "4        2021-03-22                                                           \n",
       "5        2021-03-22                                                           \n",
       "6        2021-03-22                                                           \n",
       "7        2021-03-22                                                           \n",
       "8        2021-03-22                                                           \n",
       "9        2021-03-22                                                           \n",
       "\n",
       "  Match_ASECORP_BBDD  \n",
       "0                     \n",
       "1                     \n",
       "2                     \n",
       "3                     \n",
       "4                     \n",
       "5                     \n",
       "6                     \n",
       "7                     \n",
       "8                     \n",
       "9                     "
      ],
      "text/html": "<div>\n<style scoped>\n    .dataframe tbody tr th:only-of-type {\n        vertical-align: middle;\n    }\n\n    .dataframe tbody tr th {\n        vertical-align: top;\n    }\n\n    .dataframe thead th {\n        text-align: right;\n    }\n</style>\n<table border=\"1\" class=\"dataframe\">\n  <thead>\n    <tr style=\"text-align: right;\">\n      <th></th>\n      <th>Item_id</th>\n      <th>Item_Name</th>\n      <th>Fecha_publicacion</th>\n      <th>Materias</th>\n      <th>Alertas</th>\n      <th>Referencias</th>\n      <th>Referencias_completas</th>\n      <th>Tags</th>\n      <th>Match_ASECORP_BBDD</th>\n    </tr>\n  </thead>\n  <tbody>\n    <tr>\n      <th>0</th>\n      <td>BOE-B-2021-13860</td>\n      <td>Anuncio de licitación de: ADIF Alta Velocidad ...</td>\n      <td>2021-03-22</td>\n      <td></td>\n      <td></td>\n      <td></td>\n      <td></td>\n      <td></td>\n      <td></td>\n    </tr>\n    <tr>\n      <th>1</th>\n      <td>BOE-B-2021-13874</td>\n      <td>Anuncio de formalización de contratos de: TGSS...</td>\n      <td>2021-03-22</td>\n      <td></td>\n      <td></td>\n      <td></td>\n      <td></td>\n      <td></td>\n      <td></td>\n    </tr>\n    <tr>\n      <th>2</th>\n      <td>BOE-A-2021-4481</td>\n      <td>Resolución de 3 de marzo de 2021, de la Secret...</td>\n      <td>2021-03-22</td>\n      <td></td>\n      <td></td>\n      <td></td>\n      <td></td>\n      <td></td>\n      <td></td>\n    </tr>\n    <tr>\n      <th>3</th>\n      <td>BOE-A-2021-4495</td>\n      <td>Sala Segunda. Sentencia 20/2021, de 15 de febr...</td>\n      <td>2021-03-22</td>\n      <td></td>\n      <td></td>\n      <td></td>\n      <td></td>\n      <td></td>\n      <td></td>\n    </tr>\n    <tr>\n      <th>4</th>\n      <td>BOE-A-2021-4494</td>\n      <td>Sala Primera. Sentencia 19/2021, de 15 de febr...</td>\n      <td>2021-03-22</td>\n      <td></td>\n      <td></td>\n      <td></td>\n      <td></td>\n      <td></td>\n      <td></td>\n    </tr>\n    <tr>\n      <th>5</th>\n      <td>BOE-A-2021-4480</td>\n      <td>Resolución de 3 de marzo de 2021, de la Secret...</td>\n      <td>2021-03-22</td>\n      <td></td>\n      <td></td>\n      <td></td>\n      <td></td>\n      <td></td>\n      <td></td>\n    </tr>\n    <tr>\n      <th>6</th>\n      <td>BOE-B-2021-13861</td>\n      <td>Anuncio de licitación de: ADIF - Presidencia. ...</td>\n      <td>2021-03-22</td>\n      <td></td>\n      <td></td>\n      <td></td>\n      <td></td>\n      <td></td>\n      <td></td>\n    </tr>\n    <tr>\n      <th>7</th>\n      <td>BOE-A-2021-4509</td>\n      <td>Pleno. Sentencia 34/2021, de 17 de febrero de ...</td>\n      <td>2021-03-22</td>\n      <td></td>\n      <td></td>\n      <td></td>\n      <td></td>\n      <td></td>\n      <td></td>\n    </tr>\n    <tr>\n      <th>8</th>\n      <td>BOE-B-2021-13863</td>\n      <td>Anuncio de licitación de: Comité Ejecutivo de ...</td>\n      <td>2021-03-22</td>\n      <td></td>\n      <td></td>\n      <td></td>\n      <td></td>\n      <td></td>\n      <td></td>\n    </tr>\n    <tr>\n      <th>9</th>\n      <td>BOE-A-2021-4469</td>\n      <td>Resolución de 2 de marzo de 2021, del Centro d...</td>\n      <td>2021-03-22</td>\n      <td></td>\n      <td></td>\n      <td></td>\n      <td></td>\n      <td></td>\n      <td></td>\n    </tr>\n  </tbody>\n</table>\n</div>"
     },
     "metadata": {},
     "execution_count": 147
    }
   ],
   "source": [
    "  tabla_analisis_final[0:10]"
   ]
  },
  {
   "cell_type": "code",
   "execution_count": 148,
   "metadata": {},
   "outputs": [],
   "source": [
    "## Generar hyperlink a artículo BOE en CSV \"=HYPERLINK(\"https://www.boe.es/boe/dias/2021/02/02/pdfs/BOE-A-2021-1474.pdf\";\"BOE-A-2021-1474\")\"\n",
    "## https://www.boe.es/diario_boe/xml.php?id=## https://www.boe.es/boe/dias/2021/02/02/pdfs/BOE-A-2021-1474.pdf\n",
    "\n",
    "tabla_analisis_final_CSV = tabla_analisis_final"
   ]
  },
  {
   "cell_type": "code",
   "execution_count": 149,
   "metadata": {},
   "outputs": [],
   "source": [
    "# Compone y genera enlace a PDF del BOE correspondiente\n",
    "tabla_analisis_final_CSV['Item_id'] = '=HIPERVINCULO(' + '\"https://www.boe.es/boe/dias/' \\\n",
    "                                                        + tabla_analisis_final_CSV['Fecha_publicacion'].map(lambda x: x.strftime('%Y')) + '/'\\\n",
    "                                                        + tabla_analisis_final_CSV['Fecha_publicacion'].map(lambda x: x.strftime('%m')) + '/'\\\n",
    "                                                        + tabla_analisis_final_CSV['Fecha_publicacion'].map(lambda x: x.strftime('%d')) + '/'\\\n",
    "                                                        + 'pdfs/'\\\n",
    "                                                        + tabla_analisis_final_CSV['Item_id'] + '.pdf\";'\\\n",
    "                                                        + '\"' + tabla_analisis_final_CSV['Item_id'] + '\")'"
   ]
  },
  {
   "cell_type": "code",
   "execution_count": 150,
   "metadata": {},
   "outputs": [
    {
     "output_type": "stream",
     "name": "stdout",
     "text": [
      "=HIPERVINCULO(\"https://www.boe.es/boe/dias/2021/03/22/pdfs/BOE-B-2021-13860.pdf\";\"BOE-B-2021-13860\")\n"
     ]
    }
   ],
   "source": [
    "print(tabla_analisis_final_CSV['Item_id'][0])"
   ]
  },
  {
   "cell_type": "code",
   "execution_count": 151,
   "metadata": {},
   "outputs": [],
   "source": [
    "# tabla_analisis_final_CSV.to_excel(\"./ASECORP/Resultados_Matching.xlsx\", sheet_name='MATCHING_BOE') "
   ]
  },
  {
   "cell_type": "code",
   "execution_count": 152,
   "metadata": {},
   "outputs": [],
   "source": [
    "tabla_analisis_final_CSV.to_csv(\"./ASECORP/Resultados_Matching_BOE_\" + today.strftime(\"%Y%m%d\") + \".csv\", index=False) "
   ]
  },
  {
   "source": [
    "# ------------------------------------------------------------------------"
   ],
   "cell_type": "markdown",
   "metadata": {}
  }
 ]
}