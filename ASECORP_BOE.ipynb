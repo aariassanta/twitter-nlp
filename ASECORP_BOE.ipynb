{
 "metadata": {
  "language_info": {
   "codemirror_mode": {
    "name": "ipython",
    "version": 3
   },
   "file_extension": ".py",
   "mimetype": "text/x-python",
   "name": "python",
   "nbconvert_exporter": "python",
   "pygments_lexer": "ipython3",
   "version": "3.8.5-final"
  },
  "orig_nbformat": 2,
  "kernelspec": {
   "name": "python3",
   "display_name": "Python 3",
   "language": "python"
  }
 },
 "nbformat": 4,
 "nbformat_minor": 2,
 "cells": [
  {
   "cell_type": "code",
   "execution_count": 1,
   "metadata": {},
   "outputs": [],
   "source": [
    "from lxml import etree, html\n",
    "from lxml.html.clean import clean_html\n",
    "import pandas as pd\n",
    "from datetime import date, datetime\n",
    "import requests\n",
    "import re\n",
    "import os\n",
    "import shutil"
   ]
  },
  {
   "source": [
    "# Mueve todos los fichero del directorio de trabajo a otro de archivo"
   ],
   "cell_type": "markdown",
   "metadata": {}
  },
  {
   "cell_type": "code",
   "execution_count": 2,
   "metadata": {},
   "outputs": [],
   "source": [
    "source_dir = './BOEs'\n",
    "target_dir = './BOEs_Anteriores'\n",
    "    \n",
    "file_names = os.listdir(source_dir)\n",
    "    \n",
    "for file_name in file_names:\n",
    "    #shutil.move(os.path.join(source_dir, file_name), target_dir)\n",
    "    # Evita que de error si el fichero que se mueve ya existe en dir destino\n",
    "    try:\n",
    "        os.remove(os.path.join(target_dir, file_name))\n",
    "        shutil.move(os.path.join(source_dir, file_name), target_dir)\n",
    "    except OSError:\n",
    "        shutil.move(os.path.join(source_dir, file_name), target_dir)"
   ]
  },
  {
   "source": [
    "# Recoge resumen diario del BOE de hoy"
   ],
   "cell_type": "markdown",
   "metadata": {}
  },
  {
   "cell_type": "code",
   "execution_count": 3,
   "metadata": {},
   "outputs": [
    {
     "output_type": "stream",
     "name": "stdout",
     "text": [
      "Fecha de Hoy = 20210224\ndia = 24\nmes = 02\naño = 2021\n24/02/2021\n"
     ]
    }
   ],
   "source": [
    "\n",
    "today = date.today()\n",
    "\n",
    "# dd/mm/YYYY\n",
    "hoy = today.strftime(\"%Y%m%d\")\n",
    "print(\"Fecha de Hoy =\", hoy)\n",
    "\n",
    "# dd\n",
    "d = today.strftime(\"%d\")\n",
    "print(\"dia =\", d)\n",
    "\n",
    "# mm\n",
    "m = today.strftime(\"%m\")\n",
    "print(\"mes =\", m)\n",
    "\n",
    "# YYYY\n",
    "Y = today.strftime(\"%Y\")\n",
    "print(\"año =\", Y)\n",
    "\n",
    "print(today.strftime(\"%d/%m/%Y\"))"
   ]
  },
  {
   "cell_type": "code",
   "execution_count": 4,
   "metadata": {},
   "outputs": [],
   "source": [
    "URL_XML_resumen =  \"https://www.boe.es/diario_boe/xml.php?id=BOE-S-\" + str(hoy)"
   ]
  },
  {
   "cell_type": "code",
   "execution_count": 5,
   "metadata": {},
   "outputs": [
    {
     "output_type": "execute_result",
     "data": {
      "text/plain": [
       "'https://www.boe.es/diario_boe/xml.php?id=BOE-S-20210224'"
      ]
     },
     "metadata": {},
     "execution_count": 5
    }
   ],
   "source": [
    "URL_XML_resumen"
   ]
  },
  {
   "cell_type": "code",
   "execution_count": 6,
   "metadata": {},
   "outputs": [],
   "source": [
    "url = URL_XML_resumen\n",
    "r = requests.get(url)"
   ]
  },
  {
   "cell_type": "code",
   "execution_count": 7,
   "metadata": {},
   "outputs": [],
   "source": [
    "def save_html(html, path):\n",
    "    with open(path, 'wb') as f:\n",
    "        f.write(html)\n",
    "\n",
    "save_html(r.content, './BOEs/Resumen-BOE-' + hoy + '.xml')"
   ]
  },
  {
   "cell_type": "code",
   "execution_count": 8,
   "metadata": {},
   "outputs": [],
   "source": [
    "resumen = etree.parse('./BOEs/Resumen-BOE-' + hoy + '.xml')"
   ]
  },
  {
   "cell_type": "code",
   "execution_count": 9,
   "metadata": {},
   "outputs": [],
   "source": [
    "raiz=resumen.getroot()\n",
    "raiz.tag\n",
    "raiz_sumario = raiz"
   ]
  },
  {
   "cell_type": "code",
   "execution_count": 10,
   "metadata": {},
   "outputs": [
    {
     "output_type": "execute_result",
     "data": {
      "text/plain": [
       "[]"
      ]
     },
     "metadata": {},
     "execution_count": 10
    }
   ],
   "source": [
    "seccion = raiz.findall(\"sumario/diario/seccion\")\n",
    "seccion"
   ]
  },
  {
   "cell_type": "code",
   "execution_count": 11,
   "metadata": {},
   "outputs": [
    {
     "output_type": "stream",
     "name": "stdout",
     "text": [
      "['I. Disposiciones generales']\n['II. Autoridades y personal. - A. Nombramientos, situaciones e incidencias']\n['II. Autoridades y personal. - B. Oposiciones y concursos']\n['III. Otras disposiciones']\n['IV. Administración de Justicia']\n['V. Anuncios. - A. Contratación del Sector Público']\n['V. Anuncios. - B. Otros anuncios oficiales']\n"
     ]
    }
   ],
   "source": [
    "for seccion in raiz.xpath('//seccion'):\n",
    "    nombre_seccion = seccion.xpath('@nombre')\n",
    "    print(nombre_seccion)"
   ]
  },
  {
   "cell_type": "code",
   "execution_count": 12,
   "metadata": {},
   "outputs": [],
   "source": [
    "secciones = raiz.findall(\"sumario/diario/seccion\")\n",
    "for seccion in secciones:\n",
    "    print(seccion.text)"
   ]
  },
  {
   "cell_type": "code",
   "execution_count": 13,
   "metadata": {},
   "outputs": [],
   "source": [
    "tabla_resumen = pd.DataFrame()"
   ]
  },
  {
   "cell_type": "code",
   "execution_count": 17,
   "metadata": {},
   "outputs": [
    {
     "output_type": "stream",
     "name": "stdout",
     "text": [
      "['I. Disposiciones generales']\n",
      "['III. Otras disposiciones']\n"
     ]
    }
   ],
   "source": [
    "for seccion in raiz.xpath('//seccion[contains(@nombre, \"I. Disposiciones generales\") or contains(@nombre, \"III. Otras disposiciones\")]'):\n",
    "#for seccion in raiz.xpath('//seccion[contains(@nombre, \"I. Disposiciones generales\")]'):\n",
    "\n",
    "    nombre_seccion = seccion.xpath('@nombre')\n",
    "    print(nombre_seccion)\n",
    "\n",
    "    for departamento in seccion:\n",
    "        nombre_departamento = departamento.xpath('@nombre') \n",
    "\n",
    "        for epigrafe in departamento:\n",
    "            nombre_epigrafe = epigrafe.xpath('@nombre')\n",
    "\n",
    "            for item in epigrafe:\n",
    "                item_id = item.xpath('@id')\n",
    "                item_name = item.xpath('.//titulo/text()') \n",
    "\n",
    "                item_urlXml = \"https://www.boe.es\" + str(item.xpath('.//urlXml/text()'))[2:-2]\n",
    "\n",
    "                tabla_resumen = tabla_resumen.append({'Seccion': nombre_seccion, \n",
    "                                                      'Departamento': nombre_departamento, \n",
    "                                                      'Epigrafe' : nombre_epigrafe,\n",
    "                                                      'Item_id': item_id, \n",
    "                                                      'Item_Nombre' : item_name, \n",
    "                                                      'Item_URL_XML' : item_urlXml},\n",
    "                                                      ignore_index=True)\n"
   ]
  },
  {
   "cell_type": "code",
   "execution_count": 18,
   "metadata": {},
   "outputs": [
    {
     "output_type": "execute_result",
     "data": {
      "text/plain": [
       "                                         Departamento  \\\n",
       "0                               [JEFATURA DEL ESTADO]   \n",
       "1                                  [CORTES GENERALES]   \n",
       "2                                  [CORTES GENERALES]   \n",
       "3   [MINISTERIO DE ASUNTOS EXTERIORES, UNIÓN EUROP...   \n",
       "4           [MINISTERIO DE TRABAJO Y ECONOMÍA SOCIAL]   \n",
       "5   [MINISTERIO DE LA PRESIDENCIA, RELACIONES CON ...   \n",
       "6   [MINISTERIO DE POLÍTICA TERRITORIAL Y FUNCIÓN ...   \n",
       "7                    [COMUNIDAD AUTÓNOMA DE CATALUÑA]   \n",
       "8          [COMUNIDAD AUTÓNOMA DE CASTILLA-LA MANCHA]   \n",
       "9          [COMUNIDAD AUTÓNOMA DE CASTILLA-LA MANCHA]   \n",
       "10               [CONSEJO GENERAL DEL PODER JUDICIAL]   \n",
       "11                            [MINISTERIO DE DEFENSA]   \n",
       "12                            [MINISTERIO DE DEFENSA]   \n",
       "13                           [MINISTERIO DE HACIENDA]   \n",
       "14                           [MINISTERIO DE HACIENDA]   \n",
       "15                          [MINISTERIO DEL INTERIOR]   \n",
       "16  [MINISTERIO DE TRANSPORTES, MOVILIDAD Y AGENDA...   \n",
       "17  [MINISTERIO DE POLÍTICA TERRITORIAL Y FUNCIÓN ...   \n",
       "18  [MINISTERIO DE POLÍTICA TERRITORIAL Y FUNCIÓN ...   \n",
       "19  [MINISTERIO PARA LA TRANSICIÓN ECOLÓGICA Y EL ...   \n",
       "20  [MINISTERIO PARA LA TRANSICIÓN ECOLÓGICA Y EL ...   \n",
       "21                  [MINISTERIO DE CULTURA Y DEPORTE]   \n",
       "22  [MINISTERIO DE ASUNTOS ECONÓMICOS Y TRANSFORMA...   \n",
       "23  [MINISTERIO DE ASUNTOS ECONÓMICOS Y TRANSFORMA...   \n",
       "24  [MINISTERIO DE ASUNTOS ECONÓMICOS Y TRANSFORMA...   \n",
       "25                                  [BANCO DE ESPAÑA]   \n",
       "26  [COMISIÓN NACIONAL DE LOS MERCADOS Y LA COMPET...   \n",
       "27                   [COMUNIDAD AUTÓNOMA DE LA RIOJA]   \n",
       "\n",
       "                                             Epigrafe  \\\n",
       "0                          [Tratados internacionales]   \n",
       "1                                  [Medidas urgentes]   \n",
       "2                                  [Medidas urgentes]   \n",
       "3                          [Tratados internacionales]   \n",
       "4                                      [Organización]   \n",
       "5                        [Protección de los animales]   \n",
       "6   [Funcionarios de administración local con habi...   \n",
       "7                     [Medidas sociales y económicas]   \n",
       "8                                           [Sanidad]   \n",
       "9                                        [Patrimonio]   \n",
       "10                          [Juzgados de Instrucción]   \n",
       "11                                        [Convenios]   \n",
       "12                                         [Recursos]   \n",
       "13  [Comunidad Autónoma de Castilla-La Mancha. Con...   \n",
       "14                     [Documentación administrativa]   \n",
       "15                                         [Recursos]   \n",
       "16                                        [Convenios]   \n",
       "17  [Procedimientos de declaración de inconstituci...   \n",
       "18  [Procedimientos de declaración de inconstituci...   \n",
       "19                                [Impacto ambiental]   \n",
       "20                                         [Recursos]   \n",
       "21  [Federación Española de Actividades Subacuátic...   \n",
       "22                                 [Deuda del Estado]   \n",
       "23                             [Entidades de seguros]   \n",
       "24                             [Entidades de seguros]   \n",
       "25                               [Mercado de divisas]   \n",
       "26                         [Instalaciones eléctricas]   \n",
       "27                       [Bienes de interés cultural]   \n",
       "\n",
       "                                          Item_Nombre  \\\n",
       "0   [Instrumento de ratificación del Acuerdo de as...   \n",
       "1   [Resolución de 18 de febrero de 2021, del Cong...   \n",
       "2   [Resolución de 18 de febrero de 2021, del Cong...   \n",
       "3   [Enmiendas de 2018 al Código internacional de ...   \n",
       "4   [Real Decreto 117/2021, de 23 de febrero, por ...   \n",
       "5   [Real Decreto 118/2021, de 23 de febrero, por ...   \n",
       "6   [Orden TFP/153/2021, de 16 de febrero, por la ...   \n",
       "7   [Corrección de errores del Decreto-ley 51/2020...   \n",
       "8   [Ley 8/2020, de 16 de octubre, por la que se c...   \n",
       "9   [Ley 9/2020, de 6 de noviembre, de Patrimonio ...   \n",
       "10  [Acuerdo de 18 de febrero de 2021, de la Comis...   \n",
       "11  [Resolución 420/38047/2021, de 17 de febrero, ...   \n",
       "12  [Resolución 431/38043/2021, de 12 de febrero, ...   \n",
       "13  [Resolución de 18 de febrero de 2021, de la Di...   \n",
       "14  [Resolución de 11 de febrero de 2021, de la Su...   \n",
       "15  [Resolución de 11 de febrero de 2021, de la Se...   \n",
       "16  [Resolución de 15 de febrero de 2021, de la En...   \n",
       "17  [Resolución de 2 de febrero de 2021, de la Sec...   \n",
       "18  [Resolución de 2 de febrero de 2021, de la Sec...   \n",
       "19  [Resolución de 16 de febrero de 2021, de la Di...   \n",
       "20  [Resolución de 3 de febrero de 2021, de la Sub...   \n",
       "21  [Resolución de 12 de febrero de 2021, de la Pr...   \n",
       "22  [Resolución de 11 de febrero de 2021, de la Di...   \n",
       "23  [Orden ETD/154/2021, de 9 de febrero, de autor...   \n",
       "24  [Orden ETD/155/2021, de 9 de febrero, de autor...   \n",
       "25  [Resolución de 23 de febrero de 2021, del Banc...   \n",
       "26  [Resolución de 11 de febrero de 2021, de la Co...   \n",
       "27  [Decreto 102/2020, de 9 de diciembre, por el q...   \n",
       "\n",
       "                                         Item_URL_XML            Item_id  \\\n",
       "0   https://www.boe.es/diario_boe/xml.php?id=BOE-A...  [BOE-A-2021-2840]   \n",
       "1   https://www.boe.es/diario_boe/xml.php?id=BOE-A...  [BOE-A-2021-2841]   \n",
       "2   https://www.boe.es/diario_boe/xml.php?id=BOE-A...  [BOE-A-2021-2842]   \n",
       "3   https://www.boe.es/diario_boe/xml.php?id=BOE-A...  [BOE-A-2021-2843]   \n",
       "4   https://www.boe.es/diario_boe/xml.php?id=BOE-A...  [BOE-A-2021-2844]   \n",
       "5   https://www.boe.es/diario_boe/xml.php?id=BOE-A...  [BOE-A-2021-2845]   \n",
       "6   https://www.boe.es/diario_boe/xml.php?id=BOE-A...  [BOE-A-2021-2846]   \n",
       "7   https://www.boe.es/diario_boe/xml.php?id=BOE-A...  [BOE-A-2021-2847]   \n",
       "8   https://www.boe.es/diario_boe/xml.php?id=BOE-A...  [BOE-A-2021-2848]   \n",
       "9   https://www.boe.es/diario_boe/xml.php?id=BOE-A...  [BOE-A-2021-2849]   \n",
       "10  https://www.boe.es/diario_boe/xml.php?id=BOE-A...  [BOE-A-2021-2881]   \n",
       "11  https://www.boe.es/diario_boe/xml.php?id=BOE-A...  [BOE-A-2021-2882]   \n",
       "12  https://www.boe.es/diario_boe/xml.php?id=BOE-A...  [BOE-A-2021-2883]   \n",
       "13  https://www.boe.es/diario_boe/xml.php?id=BOE-A...  [BOE-A-2021-2884]   \n",
       "14  https://www.boe.es/diario_boe/xml.php?id=BOE-A...  [BOE-A-2021-2885]   \n",
       "15  https://www.boe.es/diario_boe/xml.php?id=BOE-A...  [BOE-A-2021-2886]   \n",
       "16  https://www.boe.es/diario_boe/xml.php?id=BOE-A...  [BOE-A-2021-2887]   \n",
       "17  https://www.boe.es/diario_boe/xml.php?id=BOE-A...  [BOE-A-2021-2888]   \n",
       "18  https://www.boe.es/diario_boe/xml.php?id=BOE-A...  [BOE-A-2021-2889]   \n",
       "19  https://www.boe.es/diario_boe/xml.php?id=BOE-A...  [BOE-A-2021-2890]   \n",
       "20  https://www.boe.es/diario_boe/xml.php?id=BOE-A...  [BOE-A-2021-2891]   \n",
       "21  https://www.boe.es/diario_boe/xml.php?id=BOE-A...  [BOE-A-2021-2892]   \n",
       "22  https://www.boe.es/diario_boe/xml.php?id=BOE-A...  [BOE-A-2021-2893]   \n",
       "23  https://www.boe.es/diario_boe/xml.php?id=BOE-A...  [BOE-A-2021-2894]   \n",
       "24  https://www.boe.es/diario_boe/xml.php?id=BOE-A...  [BOE-A-2021-2895]   \n",
       "25  https://www.boe.es/diario_boe/xml.php?id=BOE-A...  [BOE-A-2021-2896]   \n",
       "26  https://www.boe.es/diario_boe/xml.php?id=BOE-A...  [BOE-A-2021-2897]   \n",
       "27  https://www.boe.es/diario_boe/xml.php?id=BOE-A...  [BOE-A-2021-2898]   \n",
       "\n",
       "                         Seccion  \n",
       "0   [I. Disposiciones generales]  \n",
       "1   [I. Disposiciones generales]  \n",
       "2   [I. Disposiciones generales]  \n",
       "3   [I. Disposiciones generales]  \n",
       "4   [I. Disposiciones generales]  \n",
       "5   [I. Disposiciones generales]  \n",
       "6   [I. Disposiciones generales]  \n",
       "7   [I. Disposiciones generales]  \n",
       "8   [I. Disposiciones generales]  \n",
       "9   [I. Disposiciones generales]  \n",
       "10    [III. Otras disposiciones]  \n",
       "11    [III. Otras disposiciones]  \n",
       "12    [III. Otras disposiciones]  \n",
       "13    [III. Otras disposiciones]  \n",
       "14    [III. Otras disposiciones]  \n",
       "15    [III. Otras disposiciones]  \n",
       "16    [III. Otras disposiciones]  \n",
       "17    [III. Otras disposiciones]  \n",
       "18    [III. Otras disposiciones]  \n",
       "19    [III. Otras disposiciones]  \n",
       "20    [III. Otras disposiciones]  \n",
       "21    [III. Otras disposiciones]  \n",
       "22    [III. Otras disposiciones]  \n",
       "23    [III. Otras disposiciones]  \n",
       "24    [III. Otras disposiciones]  \n",
       "25    [III. Otras disposiciones]  \n",
       "26    [III. Otras disposiciones]  \n",
       "27    [III. Otras disposiciones]  "
      ],
      "text/html": "<div>\n<style scoped>\n    .dataframe tbody tr th:only-of-type {\n        vertical-align: middle;\n    }\n\n    .dataframe tbody tr th {\n        vertical-align: top;\n    }\n\n    .dataframe thead th {\n        text-align: right;\n    }\n</style>\n<table border=\"1\" class=\"dataframe\">\n  <thead>\n    <tr style=\"text-align: right;\">\n      <th></th>\n      <th>Departamento</th>\n      <th>Epigrafe</th>\n      <th>Item_Nombre</th>\n      <th>Item_URL_XML</th>\n      <th>Item_id</th>\n      <th>Seccion</th>\n    </tr>\n  </thead>\n  <tbody>\n    <tr>\n      <th>0</th>\n      <td>[JEFATURA DEL ESTADO]</td>\n      <td>[Tratados internacionales]</td>\n      <td>[Instrumento de ratificación del Acuerdo de as...</td>\n      <td>https://www.boe.es/diario_boe/xml.php?id=BOE-A...</td>\n      <td>[BOE-A-2021-2840]</td>\n      <td>[I. Disposiciones generales]</td>\n    </tr>\n    <tr>\n      <th>1</th>\n      <td>[CORTES GENERALES]</td>\n      <td>[Medidas urgentes]</td>\n      <td>[Resolución de 18 de febrero de 2021, del Cong...</td>\n      <td>https://www.boe.es/diario_boe/xml.php?id=BOE-A...</td>\n      <td>[BOE-A-2021-2841]</td>\n      <td>[I. Disposiciones generales]</td>\n    </tr>\n    <tr>\n      <th>2</th>\n      <td>[CORTES GENERALES]</td>\n      <td>[Medidas urgentes]</td>\n      <td>[Resolución de 18 de febrero de 2021, del Cong...</td>\n      <td>https://www.boe.es/diario_boe/xml.php?id=BOE-A...</td>\n      <td>[BOE-A-2021-2842]</td>\n      <td>[I. Disposiciones generales]</td>\n    </tr>\n    <tr>\n      <th>3</th>\n      <td>[MINISTERIO DE ASUNTOS EXTERIORES, UNIÓN EUROP...</td>\n      <td>[Tratados internacionales]</td>\n      <td>[Enmiendas de 2018 al Código internacional de ...</td>\n      <td>https://www.boe.es/diario_boe/xml.php?id=BOE-A...</td>\n      <td>[BOE-A-2021-2843]</td>\n      <td>[I. Disposiciones generales]</td>\n    </tr>\n    <tr>\n      <th>4</th>\n      <td>[MINISTERIO DE TRABAJO Y ECONOMÍA SOCIAL]</td>\n      <td>[Organización]</td>\n      <td>[Real Decreto 117/2021, de 23 de febrero, por ...</td>\n      <td>https://www.boe.es/diario_boe/xml.php?id=BOE-A...</td>\n      <td>[BOE-A-2021-2844]</td>\n      <td>[I. Disposiciones generales]</td>\n    </tr>\n    <tr>\n      <th>5</th>\n      <td>[MINISTERIO DE LA PRESIDENCIA, RELACIONES CON ...</td>\n      <td>[Protección de los animales]</td>\n      <td>[Real Decreto 118/2021, de 23 de febrero, por ...</td>\n      <td>https://www.boe.es/diario_boe/xml.php?id=BOE-A...</td>\n      <td>[BOE-A-2021-2845]</td>\n      <td>[I. Disposiciones generales]</td>\n    </tr>\n    <tr>\n      <th>6</th>\n      <td>[MINISTERIO DE POLÍTICA TERRITORIAL Y FUNCIÓN ...</td>\n      <td>[Funcionarios de administración local con habi...</td>\n      <td>[Orden TFP/153/2021, de 16 de febrero, por la ...</td>\n      <td>https://www.boe.es/diario_boe/xml.php?id=BOE-A...</td>\n      <td>[BOE-A-2021-2846]</td>\n      <td>[I. Disposiciones generales]</td>\n    </tr>\n    <tr>\n      <th>7</th>\n      <td>[COMUNIDAD AUTÓNOMA DE CATALUÑA]</td>\n      <td>[Medidas sociales y económicas]</td>\n      <td>[Corrección de errores del Decreto-ley 51/2020...</td>\n      <td>https://www.boe.es/diario_boe/xml.php?id=BOE-A...</td>\n      <td>[BOE-A-2021-2847]</td>\n      <td>[I. Disposiciones generales]</td>\n    </tr>\n    <tr>\n      <th>8</th>\n      <td>[COMUNIDAD AUTÓNOMA DE CASTILLA-LA MANCHA]</td>\n      <td>[Sanidad]</td>\n      <td>[Ley 8/2020, de 16 de octubre, por la que se c...</td>\n      <td>https://www.boe.es/diario_boe/xml.php?id=BOE-A...</td>\n      <td>[BOE-A-2021-2848]</td>\n      <td>[I. Disposiciones generales]</td>\n    </tr>\n    <tr>\n      <th>9</th>\n      <td>[COMUNIDAD AUTÓNOMA DE CASTILLA-LA MANCHA]</td>\n      <td>[Patrimonio]</td>\n      <td>[Ley 9/2020, de 6 de noviembre, de Patrimonio ...</td>\n      <td>https://www.boe.es/diario_boe/xml.php?id=BOE-A...</td>\n      <td>[BOE-A-2021-2849]</td>\n      <td>[I. Disposiciones generales]</td>\n    </tr>\n    <tr>\n      <th>10</th>\n      <td>[CONSEJO GENERAL DEL PODER JUDICIAL]</td>\n      <td>[Juzgados de Instrucción]</td>\n      <td>[Acuerdo de 18 de febrero de 2021, de la Comis...</td>\n      <td>https://www.boe.es/diario_boe/xml.php?id=BOE-A...</td>\n      <td>[BOE-A-2021-2881]</td>\n      <td>[III. Otras disposiciones]</td>\n    </tr>\n    <tr>\n      <th>11</th>\n      <td>[MINISTERIO DE DEFENSA]</td>\n      <td>[Convenios]</td>\n      <td>[Resolución 420/38047/2021, de 17 de febrero, ...</td>\n      <td>https://www.boe.es/diario_boe/xml.php?id=BOE-A...</td>\n      <td>[BOE-A-2021-2882]</td>\n      <td>[III. Otras disposiciones]</td>\n    </tr>\n    <tr>\n      <th>12</th>\n      <td>[MINISTERIO DE DEFENSA]</td>\n      <td>[Recursos]</td>\n      <td>[Resolución 431/38043/2021, de 12 de febrero, ...</td>\n      <td>https://www.boe.es/diario_boe/xml.php?id=BOE-A...</td>\n      <td>[BOE-A-2021-2883]</td>\n      <td>[III. Otras disposiciones]</td>\n    </tr>\n    <tr>\n      <th>13</th>\n      <td>[MINISTERIO DE HACIENDA]</td>\n      <td>[Comunidad Autónoma de Castilla-La Mancha. Con...</td>\n      <td>[Resolución de 18 de febrero de 2021, de la Di...</td>\n      <td>https://www.boe.es/diario_boe/xml.php?id=BOE-A...</td>\n      <td>[BOE-A-2021-2884]</td>\n      <td>[III. Otras disposiciones]</td>\n    </tr>\n    <tr>\n      <th>14</th>\n      <td>[MINISTERIO DE HACIENDA]</td>\n      <td>[Documentación administrativa]</td>\n      <td>[Resolución de 11 de febrero de 2021, de la Su...</td>\n      <td>https://www.boe.es/diario_boe/xml.php?id=BOE-A...</td>\n      <td>[BOE-A-2021-2885]</td>\n      <td>[III. Otras disposiciones]</td>\n    </tr>\n    <tr>\n      <th>15</th>\n      <td>[MINISTERIO DEL INTERIOR]</td>\n      <td>[Recursos]</td>\n      <td>[Resolución de 11 de febrero de 2021, de la Se...</td>\n      <td>https://www.boe.es/diario_boe/xml.php?id=BOE-A...</td>\n      <td>[BOE-A-2021-2886]</td>\n      <td>[III. Otras disposiciones]</td>\n    </tr>\n    <tr>\n      <th>16</th>\n      <td>[MINISTERIO DE TRANSPORTES, MOVILIDAD Y AGENDA...</td>\n      <td>[Convenios]</td>\n      <td>[Resolución de 15 de febrero de 2021, de la En...</td>\n      <td>https://www.boe.es/diario_boe/xml.php?id=BOE-A...</td>\n      <td>[BOE-A-2021-2887]</td>\n      <td>[III. Otras disposiciones]</td>\n    </tr>\n    <tr>\n      <th>17</th>\n      <td>[MINISTERIO DE POLÍTICA TERRITORIAL Y FUNCIÓN ...</td>\n      <td>[Procedimientos de declaración de inconstituci...</td>\n      <td>[Resolución de 2 de febrero de 2021, de la Sec...</td>\n      <td>https://www.boe.es/diario_boe/xml.php?id=BOE-A...</td>\n      <td>[BOE-A-2021-2888]</td>\n      <td>[III. Otras disposiciones]</td>\n    </tr>\n    <tr>\n      <th>18</th>\n      <td>[MINISTERIO DE POLÍTICA TERRITORIAL Y FUNCIÓN ...</td>\n      <td>[Procedimientos de declaración de inconstituci...</td>\n      <td>[Resolución de 2 de febrero de 2021, de la Sec...</td>\n      <td>https://www.boe.es/diario_boe/xml.php?id=BOE-A...</td>\n      <td>[BOE-A-2021-2889]</td>\n      <td>[III. Otras disposiciones]</td>\n    </tr>\n    <tr>\n      <th>19</th>\n      <td>[MINISTERIO PARA LA TRANSICIÓN ECOLÓGICA Y EL ...</td>\n      <td>[Impacto ambiental]</td>\n      <td>[Resolución de 16 de febrero de 2021, de la Di...</td>\n      <td>https://www.boe.es/diario_boe/xml.php?id=BOE-A...</td>\n      <td>[BOE-A-2021-2890]</td>\n      <td>[III. Otras disposiciones]</td>\n    </tr>\n    <tr>\n      <th>20</th>\n      <td>[MINISTERIO PARA LA TRANSICIÓN ECOLÓGICA Y EL ...</td>\n      <td>[Recursos]</td>\n      <td>[Resolución de 3 de febrero de 2021, de la Sub...</td>\n      <td>https://www.boe.es/diario_boe/xml.php?id=BOE-A...</td>\n      <td>[BOE-A-2021-2891]</td>\n      <td>[III. Otras disposiciones]</td>\n    </tr>\n    <tr>\n      <th>21</th>\n      <td>[MINISTERIO DE CULTURA Y DEPORTE]</td>\n      <td>[Federación Española de Actividades Subacuátic...</td>\n      <td>[Resolución de 12 de febrero de 2021, de la Pr...</td>\n      <td>https://www.boe.es/diario_boe/xml.php?id=BOE-A...</td>\n      <td>[BOE-A-2021-2892]</td>\n      <td>[III. Otras disposiciones]</td>\n    </tr>\n    <tr>\n      <th>22</th>\n      <td>[MINISTERIO DE ASUNTOS ECONÓMICOS Y TRANSFORMA...</td>\n      <td>[Deuda del Estado]</td>\n      <td>[Resolución de 11 de febrero de 2021, de la Di...</td>\n      <td>https://www.boe.es/diario_boe/xml.php?id=BOE-A...</td>\n      <td>[BOE-A-2021-2893]</td>\n      <td>[III. Otras disposiciones]</td>\n    </tr>\n    <tr>\n      <th>23</th>\n      <td>[MINISTERIO DE ASUNTOS ECONÓMICOS Y TRANSFORMA...</td>\n      <td>[Entidades de seguros]</td>\n      <td>[Orden ETD/154/2021, de 9 de febrero, de autor...</td>\n      <td>https://www.boe.es/diario_boe/xml.php?id=BOE-A...</td>\n      <td>[BOE-A-2021-2894]</td>\n      <td>[III. Otras disposiciones]</td>\n    </tr>\n    <tr>\n      <th>24</th>\n      <td>[MINISTERIO DE ASUNTOS ECONÓMICOS Y TRANSFORMA...</td>\n      <td>[Entidades de seguros]</td>\n      <td>[Orden ETD/155/2021, de 9 de febrero, de autor...</td>\n      <td>https://www.boe.es/diario_boe/xml.php?id=BOE-A...</td>\n      <td>[BOE-A-2021-2895]</td>\n      <td>[III. Otras disposiciones]</td>\n    </tr>\n    <tr>\n      <th>25</th>\n      <td>[BANCO DE ESPAÑA]</td>\n      <td>[Mercado de divisas]</td>\n      <td>[Resolución de 23 de febrero de 2021, del Banc...</td>\n      <td>https://www.boe.es/diario_boe/xml.php?id=BOE-A...</td>\n      <td>[BOE-A-2021-2896]</td>\n      <td>[III. Otras disposiciones]</td>\n    </tr>\n    <tr>\n      <th>26</th>\n      <td>[COMISIÓN NACIONAL DE LOS MERCADOS Y LA COMPET...</td>\n      <td>[Instalaciones eléctricas]</td>\n      <td>[Resolución de 11 de febrero de 2021, de la Co...</td>\n      <td>https://www.boe.es/diario_boe/xml.php?id=BOE-A...</td>\n      <td>[BOE-A-2021-2897]</td>\n      <td>[III. Otras disposiciones]</td>\n    </tr>\n    <tr>\n      <th>27</th>\n      <td>[COMUNIDAD AUTÓNOMA DE LA RIOJA]</td>\n      <td>[Bienes de interés cultural]</td>\n      <td>[Decreto 102/2020, de 9 de diciembre, por el q...</td>\n      <td>https://www.boe.es/diario_boe/xml.php?id=BOE-A...</td>\n      <td>[BOE-A-2021-2898]</td>\n      <td>[III. Otras disposiciones]</td>\n    </tr>\n  </tbody>\n</table>\n</div>"
     },
     "metadata": {},
     "execution_count": 18
    }
   ],
   "source": [
    "tabla_resumen.sort_values('Item_id')"
   ]
  },
  {
   "source": [
    "# Descarga ficheros XML asociados"
   ],
   "cell_type": "markdown",
   "metadata": {}
  },
  {
   "cell_type": "code",
   "execution_count": 19,
   "metadata": {},
   "outputs": [
    {
     "output_type": "stream",
     "name": "stdout",
     "text": [
      "['https://www.boe.es/diario_boe/xml.php?id', 'BOE-A-2021-2840']\n",
      "<re.Match object; span=(0, 15), match='BOE-A-2021-2840'>\n",
      "['https://www.boe.es/diario_boe/xml.php?id', 'BOE-A-2021-2841']\n",
      "<re.Match object; span=(0, 15), match='BOE-A-2021-2841'>\n",
      "['https://www.boe.es/diario_boe/xml.php?id', 'BOE-A-2021-2842']\n",
      "<re.Match object; span=(0, 15), match='BOE-A-2021-2842'>\n",
      "['https://www.boe.es/diario_boe/xml.php?id', 'BOE-A-2021-2843']\n",
      "<re.Match object; span=(0, 15), match='BOE-A-2021-2843'>\n",
      "['https://www.boe.es/diario_boe/xml.php?id', 'BOE-A-2021-2844']\n",
      "<re.Match object; span=(0, 15), match='BOE-A-2021-2844'>\n",
      "['https://www.boe.es/diario_boe/xml.php?id', 'BOE-A-2021-2845']\n",
      "<re.Match object; span=(0, 15), match='BOE-A-2021-2845'>\n",
      "['https://www.boe.es/diario_boe/xml.php?id', 'BOE-A-2021-2846']\n",
      "<re.Match object; span=(0, 15), match='BOE-A-2021-2846'>\n",
      "['https://www.boe.es/diario_boe/xml.php?id', 'BOE-A-2021-2847']\n",
      "<re.Match object; span=(0, 15), match='BOE-A-2021-2847'>\n",
      "['https://www.boe.es/diario_boe/xml.php?id', 'BOE-A-2021-2848']\n",
      "<re.Match object; span=(0, 15), match='BOE-A-2021-2848'>\n",
      "['https://www.boe.es/diario_boe/xml.php?id', 'BOE-A-2021-2849']\n",
      "<re.Match object; span=(0, 15), match='BOE-A-2021-2849'>\n",
      "['https://www.boe.es/diario_boe/xml.php?id', 'BOE-A-2021-2881']\n",
      "<re.Match object; span=(0, 15), match='BOE-A-2021-2881'>\n",
      "['https://www.boe.es/diario_boe/xml.php?id', 'BOE-A-2021-2882']\n",
      "<re.Match object; span=(0, 15), match='BOE-A-2021-2882'>\n",
      "['https://www.boe.es/diario_boe/xml.php?id', 'BOE-A-2021-2883']\n",
      "<re.Match object; span=(0, 15), match='BOE-A-2021-2883'>\n",
      "['https://www.boe.es/diario_boe/xml.php?id', 'BOE-A-2021-2884']\n",
      "<re.Match object; span=(0, 15), match='BOE-A-2021-2884'>\n",
      "['https://www.boe.es/diario_boe/xml.php?id', 'BOE-A-2021-2885']\n",
      "<re.Match object; span=(0, 15), match='BOE-A-2021-2885'>\n",
      "['https://www.boe.es/diario_boe/xml.php?id', 'BOE-A-2021-2886']\n",
      "<re.Match object; span=(0, 15), match='BOE-A-2021-2886'>\n",
      "['https://www.boe.es/diario_boe/xml.php?id', 'BOE-A-2021-2887']\n",
      "<re.Match object; span=(0, 15), match='BOE-A-2021-2887'>\n",
      "['https://www.boe.es/diario_boe/xml.php?id', 'BOE-A-2021-2888']\n",
      "<re.Match object; span=(0, 15), match='BOE-A-2021-2888'>\n",
      "['https://www.boe.es/diario_boe/xml.php?id', 'BOE-A-2021-2889']\n",
      "<re.Match object; span=(0, 15), match='BOE-A-2021-2889'>\n",
      "['https://www.boe.es/diario_boe/xml.php?id', 'BOE-A-2021-2890']\n",
      "<re.Match object; span=(0, 15), match='BOE-A-2021-2890'>\n",
      "['https://www.boe.es/diario_boe/xml.php?id', 'BOE-A-2021-2891']\n",
      "<re.Match object; span=(0, 15), match='BOE-A-2021-2891'>\n",
      "['https://www.boe.es/diario_boe/xml.php?id', 'BOE-A-2021-2892']\n",
      "<re.Match object; span=(0, 15), match='BOE-A-2021-2892'>\n",
      "['https://www.boe.es/diario_boe/xml.php?id', 'BOE-A-2021-2893']\n",
      "<re.Match object; span=(0, 15), match='BOE-A-2021-2893'>\n",
      "['https://www.boe.es/diario_boe/xml.php?id', 'BOE-A-2021-2894']\n",
      "<re.Match object; span=(0, 15), match='BOE-A-2021-2894'>\n",
      "['https://www.boe.es/diario_boe/xml.php?id', 'BOE-A-2021-2895']\n",
      "<re.Match object; span=(0, 15), match='BOE-A-2021-2895'>\n",
      "['https://www.boe.es/diario_boe/xml.php?id', 'BOE-A-2021-2896']\n",
      "<re.Match object; span=(0, 15), match='BOE-A-2021-2896'>\n",
      "['https://www.boe.es/diario_boe/xml.php?id', 'BOE-A-2021-2897']\n",
      "<re.Match object; span=(0, 15), match='BOE-A-2021-2897'>\n",
      "['https://www.boe.es/diario_boe/xml.php?id', 'BOE-A-2021-2898']\n",
      "<re.Match object; span=(0, 15), match='BOE-A-2021-2898'>\n"
     ]
    }
   ],
   "source": [
    "for item_URL in tabla_resumen['Item_URL_XML']:\n",
    "    r = requests.get(item_URL)\n",
    "    #f = './BOEs/' + item_URL[-16:] + '.xml'\n",
    "    ### Separa el número del BOE del resto de la cadena y aplica expresión REGEX \n",
    "    print(item_URL.split('='))\n",
    "    print(re.match('BOE\\-A\\-[0-9]+\\-[0-9]+',item_URL.split('=')[1]))\n",
    "    filename = re.match('BOE\\-A\\-[0-9]+\\-[0-9]+',item_URL.split('=')[1]).group()\n",
    "    f = './BOEs/' + filename + '.xml'\n",
    "    save_html(r.content, f)"
   ]
  },
  {
   "source": [
    "# Importa de nuevo los XML generados"
   ],
   "cell_type": "markdown",
   "metadata": {}
  },
  {
   "cell_type": "code",
   "execution_count": 20,
   "metadata": {},
   "outputs": [
    {
     "output_type": "stream",
     "name": "stdout",
     "text": [
      "['./BOEs/BOE-A-2021-2898.xml', './BOEs/BOE-A-2021-2888.xml', './BOEs/BOE-A-2021-2889.xml', './BOEs/BOE-A-2021-2848.xml', './BOEs/BOE-A-2021-2849.xml', './BOEs/BOE-A-2021-2887.xml', './BOEs/BOE-A-2021-2893.xml', './BOEs/BOE-A-2021-2844.xml', './BOEs/BOE-A-2021-2845.xml', './BOEs/BOE-A-2021-2892.xml', './BOEs/BOE-A-2021-2886.xml', './BOEs/BOE-A-2021-2890.xml', './BOEs/BOE-A-2021-2884.xml', './BOEs/BOE-A-2021-2847.xml', './BOEs/BOE-A-2021-2846.xml', './BOEs/BOE-A-2021-2885.xml', './BOEs/BOE-A-2021-2891.xml', './BOEs/BOE-A-2021-2895.xml', './BOEs/BOE-A-2021-2881.xml', './BOEs/BOE-A-2021-2842.xml', './BOEs/BOE-A-2021-2843.xml', './BOEs/BOE-A-2021-2894.xml', './BOEs/BOE-A-2021-2882.xml', './BOEs/BOE-A-2021-2896.xml', './BOEs/BOE-A-2021-2841.xml', './BOEs/BOE-A-2021-2840.xml', './BOEs/BOE-A-2021-2897.xml', './BOEs/BOE-A-2021-2883.xml']\n"
     ]
    }
   ],
   "source": [
    "\n",
    "import glob\n",
    "BOEs = glob.glob('./BOEs/BOE*.xml')\n",
    "print (BOEs)"
   ]
  },
  {
   "source": [
    "# Genera DF con datos Análisis de cada XML"
   ],
   "cell_type": "markdown",
   "metadata": {}
  },
  {
   "cell_type": "code",
   "execution_count": 21,
   "metadata": {},
   "outputs": [],
   "source": [
    "tabla_analisis = pd.DataFrame()\n",
    "\n",
    "for BOE in BOEs:\n",
    "    #print (BOE)\n",
    "    BOE_XML = etree.parse(BOE)\n",
    "    raiz=BOE_XML.getroot()\n",
    "\n",
    "    materias = [materia.text for materia in raiz.findall('analisis/materias/materia')]\n",
    "    alertas = [alerta.text for alerta in raiz.findall('analisis/alertas/alerta')]\n",
    "    \n",
    "    referencias = [str(referencia.xpath('@referencia')).replace(\"['\",'').replace(\"']\",'') for referencia in raiz.findall('analisis/referencias/anteriores/anterior')]\n",
    "    referencias_palabras = [referencia.text for referencia in raiz.findall('analisis/referencias/anteriores/anterior/palabra')]\n",
    "    referencias_texto = [referencia.text for referencia in raiz.findall('analisis/referencias/anteriores/anterior/texto')]\n",
    "\n",
    "    Item_Id = raiz.xpath(\".//identificador/text()\")\n",
    "    Item_name = raiz.xpath('.//titulo/text()') \n",
    "\n",
    "    Fecha_Publicacion = datetime.strptime(str(raiz.xpath('.//fecha_publicacion/text()'))[2:-2],\"%Y%m%d\")\n",
    "    #Fecha_Publicacion = str(raiz.xpath('.//fecha_publicacion/text()'))[2:-2]\n",
    " \n",
    "    tabla_analisis = tabla_analisis.append({'Item_id': Item_Id,\n",
    "                                            'Item_Name' : Item_name,\n",
    "                                            'Fecha_publicacion' : Fecha_Publicacion,\n",
    "                                            'Materias' : materias,\n",
    "                                            'Alertas' : alertas,\n",
    "                                            'Referencias' : referencias,\n",
    "                                            'Referencias_palabra' : referencias_palabras,\n",
    "                                            'Referencias_texto' : referencias_texto},\n",
    "                                            ignore_index=True)\n"
   ]
  },
  {
   "cell_type": "code",
   "execution_count": 22,
   "metadata": {},
   "outputs": [
    {
     "output_type": "execute_result",
     "data": {
      "text/plain": [
       "                                              Alertas Fecha_publicacion  \\\n",
       "25        [Relaciones internacionales, Unión Europea]        2021-02-24   \n",
       "24  [Administración electrónica, Asuntos sociales,...        2021-02-24   \n",
       "19  [Asuntos sociales, Derecho Administrativo, Org...        2021-02-24   \n",
       "20                                                 []        2021-02-24   \n",
       "7                 [Organización de la Administración]        2021-02-24   \n",
       "8   [Ganadería y animales, Tecnología e investigac...        2021-02-24   \n",
       "14                                  [Función Pública]        2021-02-24   \n",
       "13                        [Asuntos sociales, Sanidad]        2021-02-24   \n",
       "3                                                  []        2021-02-24   \n",
       "4                                                  []        2021-02-24   \n",
       "18        [Administración de Justicia, Derecho Penal]        2021-02-24   \n",
       "22                                                 []        2021-02-24   \n",
       "27                                                 []        2021-02-24   \n",
       "12                                                 []        2021-02-24   \n",
       "15                                                 []        2021-02-24   \n",
       "10                                                 []        2021-02-24   \n",
       "5                                                  []        2021-02-24   \n",
       "1                                                  []        2021-02-24   \n",
       "2                                                  []        2021-02-24   \n",
       "11                                                 []        2021-02-24   \n",
       "16                                                 []        2021-02-24   \n",
       "9                                           [Deporte]        2021-02-24   \n",
       "6                                [Sistema financiero]        2021-02-24   \n",
       "21                                                 []        2021-02-24   \n",
       "17                                                 []        2021-02-24   \n",
       "23                                                 []        2021-02-24   \n",
       "26                                                 []        2021-02-24   \n",
       "0                                    [Cultura y ocio]        2021-02-24   \n",
       "\n",
       "                                            Item_Name            Item_id  \\\n",
       "25  [Instrumento de ratificación del Acuerdo de as...  [BOE-A-2021-2840]   \n",
       "24  [Resolución de 18 de febrero de 2021, del Cong...  [BOE-A-2021-2841]   \n",
       "19  [Resolución de 18 de febrero de 2021, del Cong...  [BOE-A-2021-2842]   \n",
       "20  [Enmiendas de 2018 al Código internacional de ...  [BOE-A-2021-2843]   \n",
       "7   [Real Decreto 117/2021, de 23 de febrero, por ...  [BOE-A-2021-2844]   \n",
       "8   [Real Decreto 118/2021, de 23 de febrero, por ...  [BOE-A-2021-2845]   \n",
       "14  [Orden TFP/153/2021, de 16 de febrero, por la ...  [BOE-A-2021-2846]   \n",
       "13  [Corrección de errores del Decreto-ley 51/2020...  [BOE-A-2021-2847]   \n",
       "3   [Ley 8/2020, de 16 de octubre, por la que se c...  [BOE-A-2021-2848]   \n",
       "4   [Ley 9/2020, de 6 de noviembre, de Patrimonio ...  [BOE-A-2021-2849]   \n",
       "18  [Acuerdo de 18 de febrero de 2021, de la Comis...  [BOE-A-2021-2881]   \n",
       "22  [Resolución 420/38047/2021, de 17 de febrero, ...  [BOE-A-2021-2882]   \n",
       "27  [Resolución 431/38043/2021, de 12 de febrero, ...  [BOE-A-2021-2883]   \n",
       "12  [Resolución de 18 de febrero de 2021, de la Di...  [BOE-A-2021-2884]   \n",
       "15  [Resolución de 11 de febrero de 2021, de la Su...  [BOE-A-2021-2885]   \n",
       "10  [Resolución de 11 de febrero de 2021, de la Se...  [BOE-A-2021-2886]   \n",
       "5   [Resolución de 15 de febrero de 2021, de la En...  [BOE-A-2021-2887]   \n",
       "1   [Resolución de 2 de febrero de 2021, de la Sec...  [BOE-A-2021-2888]   \n",
       "2   [Resolución de 2 de febrero de 2021, de la Sec...  [BOE-A-2021-2889]   \n",
       "11  [Resolución de 16 de febrero de 2021, de la Di...  [BOE-A-2021-2890]   \n",
       "16  [Resolución de 3 de febrero de 2021, de la Sub...  [BOE-A-2021-2891]   \n",
       "9   [Resolución de 12 de febrero de 2021, de la Pr...  [BOE-A-2021-2892]   \n",
       "6   [Resolución de 11 de febrero de 2021, de la Di...  [BOE-A-2021-2893]   \n",
       "21  [Orden ETD/154/2021, de 9 de febrero, de autor...  [BOE-A-2021-2894]   \n",
       "17  [Orden ETD/155/2021, de 9 de febrero, de autor...  [BOE-A-2021-2895]   \n",
       "23  [Resolución de 23 de febrero de 2021, del Banc...  [BOE-A-2021-2896]   \n",
       "26  [Resolución de 11 de febrero de 2021, de la Co...  [BOE-A-2021-2897]   \n",
       "0   [Decreto 102/2020, de 9 de diciembre, por el q...  [BOE-A-2021-2898]   \n",
       "\n",
       "                                             Materias  \\\n",
       "25  [Acuerdo de Asociación CE, Acuerdos internacio...   \n",
       "24  [Administración electrónica, Arrendamientos ur...   \n",
       "19  [Accidentes de trabajo y enfermedades profesio...   \n",
       "20                                                 []   \n",
       "7   [Consejo de Fomento de la Economía Social, Min...   \n",
       "8   [Acceso a la información, Animales, Comisión E...   \n",
       "14  [Funcionarios de la Administración Local, Opos...   \n",
       "13  [Ancianos, Asistencia sanitaria, Asistencia so...   \n",
       "3   [Castilla La Mancha, Consumidores y usuarios, ...   \n",
       "4   [Castilla La Mancha, Organización de las Comun...   \n",
       "18  [Administración de Justicia, Barcelona, Demarc...   \n",
       "22                                                 []   \n",
       "27                                                 []   \n",
       "12                                                 []   \n",
       "15                                                 []   \n",
       "10                                                 []   \n",
       "5                                                  []   \n",
       "1                                                  []   \n",
       "2                                                  []   \n",
       "11                                                 []   \n",
       "16                                                 []   \n",
       "9   [Asociaciones deportivas, Federación Española ...   \n",
       "6                                                  []   \n",
       "21                                                 []   \n",
       "17                                                 []   \n",
       "23                                                 []   \n",
       "26                                                 []   \n",
       "0                                                  []   \n",
       "\n",
       "                                          Referencias  \\\n",
       "25                                                 []   \n",
       "24                                                 []   \n",
       "19                                  [BOE-A-2021-1529]   \n",
       "20                                                 []   \n",
       "7   [BOE-A-2001-5061, BOE-A-2011-5708, BOE-A-2007-...   \n",
       "8                                   [BOE-A-2013-1337]   \n",
       "14                                                 []   \n",
       "13                [BOE-A-2021-1479, BOE-A-2020-15840]   \n",
       "3                 [BOE-A-1982-20820, BOE-A-2020-3692]   \n",
       "4   [BOE-A-1985-26400, ---, BOE-A-2006-11292, BOE-...   \n",
       "18                                  [BOE-A-2019-2160]   \n",
       "22                                                 []   \n",
       "27                                                 []   \n",
       "12                                                 []   \n",
       "15                                                 []   \n",
       "10                                                 []   \n",
       "5                                                  []   \n",
       "1                                                  []   \n",
       "2                                                  []   \n",
       "11                                                 []   \n",
       "16                                                 []   \n",
       "9                                                  []   \n",
       "6                                                  []   \n",
       "21                                                 []   \n",
       "17                                                 []   \n",
       "23                                                 []   \n",
       "26                                                 []   \n",
       "0                                                  []   \n",
       "\n",
       "                                  Referencias_palabra  \\\n",
       "25                                                 []   \n",
       "24                                                 []   \n",
       "19                [PUBLICA  Acuerdo de convalidación]   \n",
       "20                                                 []   \n",
       "7   [MODIFICA, DE CONFORMIDAD con, DE CONFORMIDAD ...   \n",
       "8                                          [MODIFICA]   \n",
       "14                                                 []   \n",
       "13           [CORRECCIÓN de errores, CORRIGE errores]   \n",
       "3                          [DE CONFORMIDAD con, CITA]   \n",
       "4      [DEROGA, DEROGA, MODIFICA, DE CONFORMIDAD con]   \n",
       "18                                         [PRORROGA]   \n",
       "22                                                 []   \n",
       "27                                                 []   \n",
       "12                                                 []   \n",
       "15                                                 []   \n",
       "10                                                 []   \n",
       "5                                                  []   \n",
       "1                                                  []   \n",
       "2                                                  []   \n",
       "11                                                 []   \n",
       "16                                                 []   \n",
       "9                                                  []   \n",
       "6                                                  []   \n",
       "21                                                 []   \n",
       "17                                                 []   \n",
       "23                                                 []   \n",
       "26                                                 []   \n",
       "0                                                  []   \n",
       "\n",
       "                                    Referencias_texto  \n",
       "25                                                 []  \n",
       "24                                                 []  \n",
       "19     [del Real Decreto-ley 3/2021, de 2 de febrero]  \n",
       "20                                                 []  \n",
       "7   [los arts. 1, 2, 3, 4, 8, 12 y 13, la disposic...  \n",
       "8   [los arts. 34.2.e), 36, 41.4 del Real Decreto ...  \n",
       "14                                                 []  \n",
       "13  [del Decreto-ley 51/2020, de 15 de diciembre, ...  \n",
       "3   [el Estatuto aprobado por por Ley Orgánica 9/1...  \n",
       "4   [la Ley 6/1985, de 13 de noviembre, en la form...  \n",
       "18  [lo indicado del Acuerdo de 14 de febrero de 2...  \n",
       "22                                                 []  \n",
       "27                                                 []  \n",
       "12                                                 []  \n",
       "15                                                 []  \n",
       "10                                                 []  \n",
       "5                                                  []  \n",
       "1                                                  []  \n",
       "2                                                  []  \n",
       "11                                                 []  \n",
       "16                                                 []  \n",
       "9                                                  []  \n",
       "6                                                  []  \n",
       "21                                                 []  \n",
       "17                                                 []  \n",
       "23                                                 []  \n",
       "26                                                 []  \n",
       "0                                                  []  "
      ],
      "text/html": "<div>\n<style scoped>\n    .dataframe tbody tr th:only-of-type {\n        vertical-align: middle;\n    }\n\n    .dataframe tbody tr th {\n        vertical-align: top;\n    }\n\n    .dataframe thead th {\n        text-align: right;\n    }\n</style>\n<table border=\"1\" class=\"dataframe\">\n  <thead>\n    <tr style=\"text-align: right;\">\n      <th></th>\n      <th>Alertas</th>\n      <th>Fecha_publicacion</th>\n      <th>Item_Name</th>\n      <th>Item_id</th>\n      <th>Materias</th>\n      <th>Referencias</th>\n      <th>Referencias_palabra</th>\n      <th>Referencias_texto</th>\n    </tr>\n  </thead>\n  <tbody>\n    <tr>\n      <th>25</th>\n      <td>[Relaciones internacionales, Unión Europea]</td>\n      <td>2021-02-24</td>\n      <td>[Instrumento de ratificación del Acuerdo de as...</td>\n      <td>[BOE-A-2021-2840]</td>\n      <td>[Acuerdo de Asociación CE, Acuerdos internacio...</td>\n      <td>[]</td>\n      <td>[]</td>\n      <td>[]</td>\n    </tr>\n    <tr>\n      <th>24</th>\n      <td>[Administración electrónica, Asuntos sociales,...</td>\n      <td>2021-02-24</td>\n      <td>[Resolución de 18 de febrero de 2021, del Cong...</td>\n      <td>[BOE-A-2021-2841]</td>\n      <td>[Administración electrónica, Arrendamientos ur...</td>\n      <td>[]</td>\n      <td>[]</td>\n      <td>[]</td>\n    </tr>\n    <tr>\n      <th>19</th>\n      <td>[Asuntos sociales, Derecho Administrativo, Org...</td>\n      <td>2021-02-24</td>\n      <td>[Resolución de 18 de febrero de 2021, del Cong...</td>\n      <td>[BOE-A-2021-2842]</td>\n      <td>[Accidentes de trabajo y enfermedades profesio...</td>\n      <td>[BOE-A-2021-1529]</td>\n      <td>[PUBLICA  Acuerdo de convalidación]</td>\n      <td>[del Real Decreto-ley 3/2021, de 2 de febrero]</td>\n    </tr>\n    <tr>\n      <th>20</th>\n      <td>[]</td>\n      <td>2021-02-24</td>\n      <td>[Enmiendas de 2018 al Código internacional de ...</td>\n      <td>[BOE-A-2021-2843]</td>\n      <td>[]</td>\n      <td>[]</td>\n      <td>[]</td>\n      <td>[]</td>\n    </tr>\n    <tr>\n      <th>7</th>\n      <td>[Organización de la Administración]</td>\n      <td>2021-02-24</td>\n      <td>[Real Decreto 117/2021, de 23 de febrero, por ...</td>\n      <td>[BOE-A-2021-2844]</td>\n      <td>[Consejo de Fomento de la Economía Social, Min...</td>\n      <td>[BOE-A-2001-5061, BOE-A-2011-5708, BOE-A-2007-...</td>\n      <td>[MODIFICA, DE CONFORMIDAD con, DE CONFORMIDAD ...</td>\n      <td>[los arts. 1, 2, 3, 4, 8, 12 y 13, la disposic...</td>\n    </tr>\n    <tr>\n      <th>8</th>\n      <td>[Ganadería y animales, Tecnología e investigac...</td>\n      <td>2021-02-24</td>\n      <td>[Real Decreto 118/2021, de 23 de febrero, por ...</td>\n      <td>[BOE-A-2021-2845]</td>\n      <td>[Acceso a la información, Animales, Comisión E...</td>\n      <td>[BOE-A-2013-1337]</td>\n      <td>[MODIFICA]</td>\n      <td>[los arts. 34.2.e), 36, 41.4 del Real Decreto ...</td>\n    </tr>\n    <tr>\n      <th>14</th>\n      <td>[Función Pública]</td>\n      <td>2021-02-24</td>\n      <td>[Orden TFP/153/2021, de 16 de febrero, por la ...</td>\n      <td>[BOE-A-2021-2846]</td>\n      <td>[Funcionarios de la Administración Local, Opos...</td>\n      <td>[]</td>\n      <td>[]</td>\n      <td>[]</td>\n    </tr>\n    <tr>\n      <th>13</th>\n      <td>[Asuntos sociales, Sanidad]</td>\n      <td>2021-02-24</td>\n      <td>[Corrección de errores del Decreto-ley 51/2020...</td>\n      <td>[BOE-A-2021-2847]</td>\n      <td>[Ancianos, Asistencia sanitaria, Asistencia so...</td>\n      <td>[BOE-A-2021-1479, BOE-A-2020-15840]</td>\n      <td>[CORRECCIÓN de errores, CORRIGE errores]</td>\n      <td>[del Decreto-ley 51/2020, de 15 de diciembre, ...</td>\n    </tr>\n    <tr>\n      <th>3</th>\n      <td>[]</td>\n      <td>2021-02-24</td>\n      <td>[Ley 8/2020, de 16 de octubre, por la que se c...</td>\n      <td>[BOE-A-2021-2848]</td>\n      <td>[Castilla La Mancha, Consumidores y usuarios, ...</td>\n      <td>[BOE-A-1982-20820, BOE-A-2020-3692]</td>\n      <td>[DE CONFORMIDAD con, CITA]</td>\n      <td>[el Estatuto aprobado por por Ley Orgánica 9/1...</td>\n    </tr>\n    <tr>\n      <th>4</th>\n      <td>[]</td>\n      <td>2021-02-24</td>\n      <td>[Ley 9/2020, de 6 de noviembre, de Patrimonio ...</td>\n      <td>[BOE-A-2021-2849]</td>\n      <td>[Castilla La Mancha, Organización de las Comun...</td>\n      <td>[BOE-A-1985-26400, ---, BOE-A-2006-11292, BOE-...</td>\n      <td>[DEROGA, DEROGA, MODIFICA, DE CONFORMIDAD con]</td>\n      <td>[la Ley 6/1985, de 13 de noviembre, en la form...</td>\n    </tr>\n    <tr>\n      <th>18</th>\n      <td>[Administración de Justicia, Derecho Penal]</td>\n      <td>2021-02-24</td>\n      <td>[Acuerdo de 18 de febrero de 2021, de la Comis...</td>\n      <td>[BOE-A-2021-2881]</td>\n      <td>[Administración de Justicia, Barcelona, Demarc...</td>\n      <td>[BOE-A-2019-2160]</td>\n      <td>[PRORROGA]</td>\n      <td>[lo indicado del Acuerdo de 14 de febrero de 2...</td>\n    </tr>\n    <tr>\n      <th>22</th>\n      <td>[]</td>\n      <td>2021-02-24</td>\n      <td>[Resolución 420/38047/2021, de 17 de febrero, ...</td>\n      <td>[BOE-A-2021-2882]</td>\n      <td>[]</td>\n      <td>[]</td>\n      <td>[]</td>\n      <td>[]</td>\n    </tr>\n    <tr>\n      <th>27</th>\n      <td>[]</td>\n      <td>2021-02-24</td>\n      <td>[Resolución 431/38043/2021, de 12 de febrero, ...</td>\n      <td>[BOE-A-2021-2883]</td>\n      <td>[]</td>\n      <td>[]</td>\n      <td>[]</td>\n      <td>[]</td>\n    </tr>\n    <tr>\n      <th>12</th>\n      <td>[]</td>\n      <td>2021-02-24</td>\n      <td>[Resolución de 18 de febrero de 2021, de la Di...</td>\n      <td>[BOE-A-2021-2884]</td>\n      <td>[]</td>\n      <td>[]</td>\n      <td>[]</td>\n      <td>[]</td>\n    </tr>\n    <tr>\n      <th>15</th>\n      <td>[]</td>\n      <td>2021-02-24</td>\n      <td>[Resolución de 11 de febrero de 2021, de la Su...</td>\n      <td>[BOE-A-2021-2885]</td>\n      <td>[]</td>\n      <td>[]</td>\n      <td>[]</td>\n      <td>[]</td>\n    </tr>\n    <tr>\n      <th>10</th>\n      <td>[]</td>\n      <td>2021-02-24</td>\n      <td>[Resolución de 11 de febrero de 2021, de la Se...</td>\n      <td>[BOE-A-2021-2886]</td>\n      <td>[]</td>\n      <td>[]</td>\n      <td>[]</td>\n      <td>[]</td>\n    </tr>\n    <tr>\n      <th>5</th>\n      <td>[]</td>\n      <td>2021-02-24</td>\n      <td>[Resolución de 15 de febrero de 2021, de la En...</td>\n      <td>[BOE-A-2021-2887]</td>\n      <td>[]</td>\n      <td>[]</td>\n      <td>[]</td>\n      <td>[]</td>\n    </tr>\n    <tr>\n      <th>1</th>\n      <td>[]</td>\n      <td>2021-02-24</td>\n      <td>[Resolución de 2 de febrero de 2021, de la Sec...</td>\n      <td>[BOE-A-2021-2888]</td>\n      <td>[]</td>\n      <td>[]</td>\n      <td>[]</td>\n      <td>[]</td>\n    </tr>\n    <tr>\n      <th>2</th>\n      <td>[]</td>\n      <td>2021-02-24</td>\n      <td>[Resolución de 2 de febrero de 2021, de la Sec...</td>\n      <td>[BOE-A-2021-2889]</td>\n      <td>[]</td>\n      <td>[]</td>\n      <td>[]</td>\n      <td>[]</td>\n    </tr>\n    <tr>\n      <th>11</th>\n      <td>[]</td>\n      <td>2021-02-24</td>\n      <td>[Resolución de 16 de febrero de 2021, de la Di...</td>\n      <td>[BOE-A-2021-2890]</td>\n      <td>[]</td>\n      <td>[]</td>\n      <td>[]</td>\n      <td>[]</td>\n    </tr>\n    <tr>\n      <th>16</th>\n      <td>[]</td>\n      <td>2021-02-24</td>\n      <td>[Resolución de 3 de febrero de 2021, de la Sub...</td>\n      <td>[BOE-A-2021-2891]</td>\n      <td>[]</td>\n      <td>[]</td>\n      <td>[]</td>\n      <td>[]</td>\n    </tr>\n    <tr>\n      <th>9</th>\n      <td>[Deporte]</td>\n      <td>2021-02-24</td>\n      <td>[Resolución de 12 de febrero de 2021, de la Pr...</td>\n      <td>[BOE-A-2021-2892]</td>\n      <td>[Asociaciones deportivas, Federación Española ...</td>\n      <td>[]</td>\n      <td>[]</td>\n      <td>[]</td>\n    </tr>\n    <tr>\n      <th>6</th>\n      <td>[Sistema financiero]</td>\n      <td>2021-02-24</td>\n      <td>[Resolución de 11 de febrero de 2021, de la Di...</td>\n      <td>[BOE-A-2021-2893]</td>\n      <td>[]</td>\n      <td>[]</td>\n      <td>[]</td>\n      <td>[]</td>\n    </tr>\n    <tr>\n      <th>21</th>\n      <td>[]</td>\n      <td>2021-02-24</td>\n      <td>[Orden ETD/154/2021, de 9 de febrero, de autor...</td>\n      <td>[BOE-A-2021-2894]</td>\n      <td>[]</td>\n      <td>[]</td>\n      <td>[]</td>\n      <td>[]</td>\n    </tr>\n    <tr>\n      <th>17</th>\n      <td>[]</td>\n      <td>2021-02-24</td>\n      <td>[Orden ETD/155/2021, de 9 de febrero, de autor...</td>\n      <td>[BOE-A-2021-2895]</td>\n      <td>[]</td>\n      <td>[]</td>\n      <td>[]</td>\n      <td>[]</td>\n    </tr>\n    <tr>\n      <th>23</th>\n      <td>[]</td>\n      <td>2021-02-24</td>\n      <td>[Resolución de 23 de febrero de 2021, del Banc...</td>\n      <td>[BOE-A-2021-2896]</td>\n      <td>[]</td>\n      <td>[]</td>\n      <td>[]</td>\n      <td>[]</td>\n    </tr>\n    <tr>\n      <th>26</th>\n      <td>[]</td>\n      <td>2021-02-24</td>\n      <td>[Resolución de 11 de febrero de 2021, de la Co...</td>\n      <td>[BOE-A-2021-2897]</td>\n      <td>[]</td>\n      <td>[]</td>\n      <td>[]</td>\n      <td>[]</td>\n    </tr>\n    <tr>\n      <th>0</th>\n      <td>[Cultura y ocio]</td>\n      <td>2021-02-24</td>\n      <td>[Decreto 102/2020, de 9 de diciembre, por el q...</td>\n      <td>[BOE-A-2021-2898]</td>\n      <td>[]</td>\n      <td>[]</td>\n      <td>[]</td>\n      <td>[]</td>\n    </tr>\n  </tbody>\n</table>\n</div>"
     },
     "metadata": {},
     "execution_count": 22
    }
   ],
   "source": [
    "tabla_analisis.sort_values('Item_id')"
   ]
  },
  {
   "cell_type": "code",
   "execution_count": 23,
   "metadata": {},
   "outputs": [],
   "source": [
    "# Crea nueva columna vacía de tipo lista en tabla_analisis\n",
    "tabla_analisis['Referencias_completas'] = [[] for i in range(len(tabla_analisis))]\n",
    "tabla_analisis['Tags'] = [[] for i in range(len(tabla_analisis))]\n",
    "tabla_analisis['Match_ASECORP_BBDD'] = [[] for i in range(len(tabla_analisis))]\n"
   ]
  },
  {
   "cell_type": "code",
   "execution_count": 24,
   "metadata": {},
   "outputs": [],
   "source": [
    "# Define expresiones REGEX para búsqueda de leyes, decretos, etc. referenciadas anteriormente\n",
    "pattern = ['Ley [0-9]+\\/[0-9]+','Real Decreto [0-9]+\\/[0-9]+','Real Decreto Legislativo [0-9]+\\/[0-9]+','Real Decreto-ley [0-9]+\\/[0-9]+','Orden [A-Z]+\\/[0-9]+\\/[0-9]+','Orden Circular [0-9]+\\/[0-9]+','Reglamento \\(UE\\) [0-9]+\\/[0-9]+', 'Reglamento de Ejeución \\(UE\\) [0-9]+\\/[0-9]+' ,'Sentencia de [0-9]+ de [a-z]+ de [0-9]+','Sentencia [0-9]+\\/[0-9]+','Orden de [0-9]+ de [a-z]+ de [0-9]+', 'Resolución de [0-9]+ de [a-z]+ de [0-9]+','Resolución [a-z]+\\/[0-9]+\\/[0-9]+', 'Nota de Servicio [0-9]+\\/[0-9]+', 'Acuerdo multilateral M\\-[0-9]+', 'Circular [0-9]+\\/[0-9]+', 'Decisión \\(UE\\) [0-9]+\\/[0-9]+', 'Decisión de Ejecución \\(UE\\) [0-9]+\\/[0-9]+']"
   ]
  },
  {
   "cell_type": "code",
   "execution_count": 25,
   "metadata": {
    "tags": []
   },
   "outputs": [
    {
     "output_type": "stream",
     "name": "stdout",
     "text": [
      "[]\n[]\n[]\n['DE CONFORMIDAD con el Estatuto aprobado por por Ley Orgánica 9/1982, de 10 de agosto', 'CITA Real Decreto 463/2020, de 14 de marzo']\n['DEROGA la Ley 6/1985, de 13 de noviembre', 'DEROGA en la forma indicada el Decreto 104/1986, de 23 de septiembre (DOCM núm. 42, de octubre de 1986)', 'MODIFICA el art. 5 de la Ley 1/2006, de 23 de marzo', 'DE CONFORMIDAD con el Estatuto aprobado por Ley Orgánica 9/1982, de 10 de agosto']\n[]\n[]\n['MODIFICA los arts. 1, 2, 3, 4, 8, 12 y 13, la disposición adicional única y la disposición final 1 y AÑADE la disposición adicional 2 al Real Decreto 219/2001, de 2 de marzo', 'DE CONFORMIDAD con el art. 13 de la Ley 5/2011, de 29 de marzo', 'DE CONFORMIDAD con la Ley Orgánica 3/2007, de 22 de marzo', 'CITA Ley 27/1999, de 16 de julio']\n['MODIFICA los arts. 34.2.e), 36, 41.4 del Real Decreto 53/2013, de 1 de febrero']\n[]\n[]\n[]\n[]\n['CORRECCIÓN de errores del Decreto-ley 51/2020, de 15 de diciembre', 'CORRIGE errores del Decreto-ley 39/2020, de 3 de noviembre']\n[]\n[]\n[]\n[]\n['PRORROGA lo indicado del Acuerdo de 14 de febrero de 2019']\n['PUBLICA  Acuerdo de convalidación del Real Decreto-ley 3/2021, de 2 de febrero']\n[]\n[]\n[]\n[]\n[]\n[]\n[]\n[]\n"
     ]
    }
   ],
   "source": [
    "# Consolida las columnas Referencias_palabra y Referencias_texto en una única frase\n",
    "for i, row in tabla_analisis.iterrows():\n",
    "    for item_list in range(len(row['Referencias'])): \n",
    "        row['Referencias_completas'].append(row['Referencias_palabra'][item_list] + ' ' + row['Referencias_texto'][item_list])\n",
    "        tabla_analisis['Tags'][i] = re.findall('|'.join(pattern), str(row['Referencias_texto']), flags=re.IGNORECASE)\n",
    "    print(row['Referencias_completas'])"
   ]
  },
  {
   "cell_type": "code",
   "execution_count": 26,
   "metadata": {},
   "outputs": [
    {
     "output_type": "stream",
     "name": "stdout",
     "text": [
      "[]\n[]\n[]\n['Real Decreto 463/2020']\n['Ley 1/2006', 'Ley 6/1985']\n[]\n[]\n['Ley 27/1999', 'Ley 5/2011', 'Real Decreto 219/2001']\n['Real Decreto 53/2013']\n[]\n[]\n[]\n[]\n['ley 39/2020', 'ley 51/2020']\n[]\n[]\n[]\n[]\n[]\n['Real Decreto-ley 3/2021']\n[]\n[]\n[]\n[]\n[]\n[]\n[]\n[]\n"
     ]
    }
   ],
   "source": [
    "# Elimina Tags duplicados\n",
    "for i, row in tabla_analisis.iterrows():\n",
    "    tabla_analisis['Tags'][i] = list(set(tabla_analisis['Tags'][i]))\n",
    "    print(tabla_analisis['Tags'][i])"
   ]
  },
  {
   "cell_type": "code",
   "execution_count": 27,
   "metadata": {},
   "outputs": [
    {
     "output_type": "execute_result",
     "data": {
      "text/plain": [
       "                                              Alertas Fecha_publicacion  \\\n",
       "0                                    [Cultura y ocio]        2021-02-24   \n",
       "1                                                  []        2021-02-24   \n",
       "2                                                  []        2021-02-24   \n",
       "3                                                  []        2021-02-24   \n",
       "4                                                  []        2021-02-24   \n",
       "5                                                  []        2021-02-24   \n",
       "6                                [Sistema financiero]        2021-02-24   \n",
       "7                 [Organización de la Administración]        2021-02-24   \n",
       "8   [Ganadería y animales, Tecnología e investigac...        2021-02-24   \n",
       "9                                           [Deporte]        2021-02-24   \n",
       "10                                                 []        2021-02-24   \n",
       "11                                                 []        2021-02-24   \n",
       "12                                                 []        2021-02-24   \n",
       "13                        [Asuntos sociales, Sanidad]        2021-02-24   \n",
       "14                                  [Función Pública]        2021-02-24   \n",
       "15                                                 []        2021-02-24   \n",
       "16                                                 []        2021-02-24   \n",
       "17                                                 []        2021-02-24   \n",
       "18        [Administración de Justicia, Derecho Penal]        2021-02-24   \n",
       "19  [Asuntos sociales, Derecho Administrativo, Org...        2021-02-24   \n",
       "20                                                 []        2021-02-24   \n",
       "21                                                 []        2021-02-24   \n",
       "22                                                 []        2021-02-24   \n",
       "23                                                 []        2021-02-24   \n",
       "24  [Administración electrónica, Asuntos sociales,...        2021-02-24   \n",
       "25        [Relaciones internacionales, Unión Europea]        2021-02-24   \n",
       "26                                                 []        2021-02-24   \n",
       "27                                                 []        2021-02-24   \n",
       "\n",
       "                                            Item_Name            Item_id  \\\n",
       "0   [Decreto 102/2020, de 9 de diciembre, por el q...  [BOE-A-2021-2898]   \n",
       "1   [Resolución de 2 de febrero de 2021, de la Sec...  [BOE-A-2021-2888]   \n",
       "2   [Resolución de 2 de febrero de 2021, de la Sec...  [BOE-A-2021-2889]   \n",
       "3   [Ley 8/2020, de 16 de octubre, por la que se c...  [BOE-A-2021-2848]   \n",
       "4   [Ley 9/2020, de 6 de noviembre, de Patrimonio ...  [BOE-A-2021-2849]   \n",
       "5   [Resolución de 15 de febrero de 2021, de la En...  [BOE-A-2021-2887]   \n",
       "6   [Resolución de 11 de febrero de 2021, de la Di...  [BOE-A-2021-2893]   \n",
       "7   [Real Decreto 117/2021, de 23 de febrero, por ...  [BOE-A-2021-2844]   \n",
       "8   [Real Decreto 118/2021, de 23 de febrero, por ...  [BOE-A-2021-2845]   \n",
       "9   [Resolución de 12 de febrero de 2021, de la Pr...  [BOE-A-2021-2892]   \n",
       "10  [Resolución de 11 de febrero de 2021, de la Se...  [BOE-A-2021-2886]   \n",
       "11  [Resolución de 16 de febrero de 2021, de la Di...  [BOE-A-2021-2890]   \n",
       "12  [Resolución de 18 de febrero de 2021, de la Di...  [BOE-A-2021-2884]   \n",
       "13  [Corrección de errores del Decreto-ley 51/2020...  [BOE-A-2021-2847]   \n",
       "14  [Orden TFP/153/2021, de 16 de febrero, por la ...  [BOE-A-2021-2846]   \n",
       "15  [Resolución de 11 de febrero de 2021, de la Su...  [BOE-A-2021-2885]   \n",
       "16  [Resolución de 3 de febrero de 2021, de la Sub...  [BOE-A-2021-2891]   \n",
       "17  [Orden ETD/155/2021, de 9 de febrero, de autor...  [BOE-A-2021-2895]   \n",
       "18  [Acuerdo de 18 de febrero de 2021, de la Comis...  [BOE-A-2021-2881]   \n",
       "19  [Resolución de 18 de febrero de 2021, del Cong...  [BOE-A-2021-2842]   \n",
       "20  [Enmiendas de 2018 al Código internacional de ...  [BOE-A-2021-2843]   \n",
       "21  [Orden ETD/154/2021, de 9 de febrero, de autor...  [BOE-A-2021-2894]   \n",
       "22  [Resolución 420/38047/2021, de 17 de febrero, ...  [BOE-A-2021-2882]   \n",
       "23  [Resolución de 23 de febrero de 2021, del Banc...  [BOE-A-2021-2896]   \n",
       "24  [Resolución de 18 de febrero de 2021, del Cong...  [BOE-A-2021-2841]   \n",
       "25  [Instrumento de ratificación del Acuerdo de as...  [BOE-A-2021-2840]   \n",
       "26  [Resolución de 11 de febrero de 2021, de la Co...  [BOE-A-2021-2897]   \n",
       "27  [Resolución 431/38043/2021, de 12 de febrero, ...  [BOE-A-2021-2883]   \n",
       "\n",
       "                                             Materias  \\\n",
       "0                                                  []   \n",
       "1                                                  []   \n",
       "2                                                  []   \n",
       "3   [Castilla La Mancha, Consumidores y usuarios, ...   \n",
       "4   [Castilla La Mancha, Organización de las Comun...   \n",
       "5                                                  []   \n",
       "6                                                  []   \n",
       "7   [Consejo de Fomento de la Economía Social, Min...   \n",
       "8   [Acceso a la información, Animales, Comisión E...   \n",
       "9   [Asociaciones deportivas, Federación Española ...   \n",
       "10                                                 []   \n",
       "11                                                 []   \n",
       "12                                                 []   \n",
       "13  [Ancianos, Asistencia sanitaria, Asistencia so...   \n",
       "14  [Funcionarios de la Administración Local, Opos...   \n",
       "15                                                 []   \n",
       "16                                                 []   \n",
       "17                                                 []   \n",
       "18  [Administración de Justicia, Barcelona, Demarc...   \n",
       "19  [Accidentes de trabajo y enfermedades profesio...   \n",
       "20                                                 []   \n",
       "21                                                 []   \n",
       "22                                                 []   \n",
       "23                                                 []   \n",
       "24  [Administración electrónica, Arrendamientos ur...   \n",
       "25  [Acuerdo de Asociación CE, Acuerdos internacio...   \n",
       "26                                                 []   \n",
       "27                                                 []   \n",
       "\n",
       "                                          Referencias  \\\n",
       "0                                                  []   \n",
       "1                                                  []   \n",
       "2                                                  []   \n",
       "3                 [BOE-A-1982-20820, BOE-A-2020-3692]   \n",
       "4   [BOE-A-1985-26400, ---, BOE-A-2006-11292, BOE-...   \n",
       "5                                                  []   \n",
       "6                                                  []   \n",
       "7   [BOE-A-2001-5061, BOE-A-2011-5708, BOE-A-2007-...   \n",
       "8                                   [BOE-A-2013-1337]   \n",
       "9                                                  []   \n",
       "10                                                 []   \n",
       "11                                                 []   \n",
       "12                                                 []   \n",
       "13                [BOE-A-2021-1479, BOE-A-2020-15840]   \n",
       "14                                                 []   \n",
       "15                                                 []   \n",
       "16                                                 []   \n",
       "17                                                 []   \n",
       "18                                  [BOE-A-2019-2160]   \n",
       "19                                  [BOE-A-2021-1529]   \n",
       "20                                                 []   \n",
       "21                                                 []   \n",
       "22                                                 []   \n",
       "23                                                 []   \n",
       "24                                                 []   \n",
       "25                                                 []   \n",
       "26                                                 []   \n",
       "27                                                 []   \n",
       "\n",
       "                                  Referencias_palabra  \\\n",
       "0                                                  []   \n",
       "1                                                  []   \n",
       "2                                                  []   \n",
       "3                          [DE CONFORMIDAD con, CITA]   \n",
       "4      [DEROGA, DEROGA, MODIFICA, DE CONFORMIDAD con]   \n",
       "5                                                  []   \n",
       "6                                                  []   \n",
       "7   [MODIFICA, DE CONFORMIDAD con, DE CONFORMIDAD ...   \n",
       "8                                          [MODIFICA]   \n",
       "9                                                  []   \n",
       "10                                                 []   \n",
       "11                                                 []   \n",
       "12                                                 []   \n",
       "13           [CORRECCIÓN de errores, CORRIGE errores]   \n",
       "14                                                 []   \n",
       "15                                                 []   \n",
       "16                                                 []   \n",
       "17                                                 []   \n",
       "18                                         [PRORROGA]   \n",
       "19                [PUBLICA  Acuerdo de convalidación]   \n",
       "20                                                 []   \n",
       "21                                                 []   \n",
       "22                                                 []   \n",
       "23                                                 []   \n",
       "24                                                 []   \n",
       "25                                                 []   \n",
       "26                                                 []   \n",
       "27                                                 []   \n",
       "\n",
       "                                    Referencias_texto  \\\n",
       "0                                                  []   \n",
       "1                                                  []   \n",
       "2                                                  []   \n",
       "3   [el Estatuto aprobado por por Ley Orgánica 9/1...   \n",
       "4   [la Ley 6/1985, de 13 de noviembre, en la form...   \n",
       "5                                                  []   \n",
       "6                                                  []   \n",
       "7   [los arts. 1, 2, 3, 4, 8, 12 y 13, la disposic...   \n",
       "8   [los arts. 34.2.e), 36, 41.4 del Real Decreto ...   \n",
       "9                                                  []   \n",
       "10                                                 []   \n",
       "11                                                 []   \n",
       "12                                                 []   \n",
       "13  [del Decreto-ley 51/2020, de 15 de diciembre, ...   \n",
       "14                                                 []   \n",
       "15                                                 []   \n",
       "16                                                 []   \n",
       "17                                                 []   \n",
       "18  [lo indicado del Acuerdo de 14 de febrero de 2...   \n",
       "19     [del Real Decreto-ley 3/2021, de 2 de febrero]   \n",
       "20                                                 []   \n",
       "21                                                 []   \n",
       "22                                                 []   \n",
       "23                                                 []   \n",
       "24                                                 []   \n",
       "25                                                 []   \n",
       "26                                                 []   \n",
       "27                                                 []   \n",
       "\n",
       "                                Referencias_completas  \\\n",
       "0                                                  []   \n",
       "1                                                  []   \n",
       "2                                                  []   \n",
       "3   [DE CONFORMIDAD con el Estatuto aprobado por p...   \n",
       "4   [DEROGA la Ley 6/1985, de 13 de noviembre, DER...   \n",
       "5                                                  []   \n",
       "6                                                  []   \n",
       "7   [MODIFICA los arts. 1, 2, 3, 4, 8, 12 y 13, la...   \n",
       "8   [MODIFICA los arts. 34.2.e), 36, 41.4 del Real...   \n",
       "9                                                  []   \n",
       "10                                                 []   \n",
       "11                                                 []   \n",
       "12                                                 []   \n",
       "13  [CORRECCIÓN de errores del Decreto-ley 51/2020...   \n",
       "14                                                 []   \n",
       "15                                                 []   \n",
       "16                                                 []   \n",
       "17                                                 []   \n",
       "18  [PRORROGA lo indicado del Acuerdo de 14 de feb...   \n",
       "19  [PUBLICA  Acuerdo de convalidación del Real De...   \n",
       "20                                                 []   \n",
       "21                                                 []   \n",
       "22                                                 []   \n",
       "23                                                 []   \n",
       "24                                                 []   \n",
       "25                                                 []   \n",
       "26                                                 []   \n",
       "27                                                 []   \n",
       "\n",
       "                                                Tags Match_ASECORP_BBDD  \n",
       "0                                                 []                 []  \n",
       "1                                                 []                 []  \n",
       "2                                                 []                 []  \n",
       "3                            [Real Decreto 463/2020]                 []  \n",
       "4                           [Ley 1/2006, Ley 6/1985]                 []  \n",
       "5                                                 []                 []  \n",
       "6                                                 []                 []  \n",
       "7   [Ley 27/1999, Ley 5/2011, Real Decreto 219/2001]                 []  \n",
       "8                             [Real Decreto 53/2013]                 []  \n",
       "9                                                 []                 []  \n",
       "10                                                []                 []  \n",
       "11                                                []                 []  \n",
       "12                                                []                 []  \n",
       "13                        [ley 39/2020, ley 51/2020]                 []  \n",
       "14                                                []                 []  \n",
       "15                                                []                 []  \n",
       "16                                                []                 []  \n",
       "17                                                []                 []  \n",
       "18                                                []                 []  \n",
       "19                         [Real Decreto-ley 3/2021]                 []  \n",
       "20                                                []                 []  \n",
       "21                                                []                 []  \n",
       "22                                                []                 []  \n",
       "23                                                []                 []  \n",
       "24                                                []                 []  \n",
       "25                                                []                 []  \n",
       "26                                                []                 []  \n",
       "27                                                []                 []  "
      ],
      "text/html": "<div>\n<style scoped>\n    .dataframe tbody tr th:only-of-type {\n        vertical-align: middle;\n    }\n\n    .dataframe tbody tr th {\n        vertical-align: top;\n    }\n\n    .dataframe thead th {\n        text-align: right;\n    }\n</style>\n<table border=\"1\" class=\"dataframe\">\n  <thead>\n    <tr style=\"text-align: right;\">\n      <th></th>\n      <th>Alertas</th>\n      <th>Fecha_publicacion</th>\n      <th>Item_Name</th>\n      <th>Item_id</th>\n      <th>Materias</th>\n      <th>Referencias</th>\n      <th>Referencias_palabra</th>\n      <th>Referencias_texto</th>\n      <th>Referencias_completas</th>\n      <th>Tags</th>\n      <th>Match_ASECORP_BBDD</th>\n    </tr>\n  </thead>\n  <tbody>\n    <tr>\n      <th>0</th>\n      <td>[Cultura y ocio]</td>\n      <td>2021-02-24</td>\n      <td>[Decreto 102/2020, de 9 de diciembre, por el q...</td>\n      <td>[BOE-A-2021-2898]</td>\n      <td>[]</td>\n      <td>[]</td>\n      <td>[]</td>\n      <td>[]</td>\n      <td>[]</td>\n      <td>[]</td>\n      <td>[]</td>\n    </tr>\n    <tr>\n      <th>1</th>\n      <td>[]</td>\n      <td>2021-02-24</td>\n      <td>[Resolución de 2 de febrero de 2021, de la Sec...</td>\n      <td>[BOE-A-2021-2888]</td>\n      <td>[]</td>\n      <td>[]</td>\n      <td>[]</td>\n      <td>[]</td>\n      <td>[]</td>\n      <td>[]</td>\n      <td>[]</td>\n    </tr>\n    <tr>\n      <th>2</th>\n      <td>[]</td>\n      <td>2021-02-24</td>\n      <td>[Resolución de 2 de febrero de 2021, de la Sec...</td>\n      <td>[BOE-A-2021-2889]</td>\n      <td>[]</td>\n      <td>[]</td>\n      <td>[]</td>\n      <td>[]</td>\n      <td>[]</td>\n      <td>[]</td>\n      <td>[]</td>\n    </tr>\n    <tr>\n      <th>3</th>\n      <td>[]</td>\n      <td>2021-02-24</td>\n      <td>[Ley 8/2020, de 16 de octubre, por la que se c...</td>\n      <td>[BOE-A-2021-2848]</td>\n      <td>[Castilla La Mancha, Consumidores y usuarios, ...</td>\n      <td>[BOE-A-1982-20820, BOE-A-2020-3692]</td>\n      <td>[DE CONFORMIDAD con, CITA]</td>\n      <td>[el Estatuto aprobado por por Ley Orgánica 9/1...</td>\n      <td>[DE CONFORMIDAD con el Estatuto aprobado por p...</td>\n      <td>[Real Decreto 463/2020]</td>\n      <td>[]</td>\n    </tr>\n    <tr>\n      <th>4</th>\n      <td>[]</td>\n      <td>2021-02-24</td>\n      <td>[Ley 9/2020, de 6 de noviembre, de Patrimonio ...</td>\n      <td>[BOE-A-2021-2849]</td>\n      <td>[Castilla La Mancha, Organización de las Comun...</td>\n      <td>[BOE-A-1985-26400, ---, BOE-A-2006-11292, BOE-...</td>\n      <td>[DEROGA, DEROGA, MODIFICA, DE CONFORMIDAD con]</td>\n      <td>[la Ley 6/1985, de 13 de noviembre, en la form...</td>\n      <td>[DEROGA la Ley 6/1985, de 13 de noviembre, DER...</td>\n      <td>[Ley 1/2006, Ley 6/1985]</td>\n      <td>[]</td>\n    </tr>\n    <tr>\n      <th>5</th>\n      <td>[]</td>\n      <td>2021-02-24</td>\n      <td>[Resolución de 15 de febrero de 2021, de la En...</td>\n      <td>[BOE-A-2021-2887]</td>\n      <td>[]</td>\n      <td>[]</td>\n      <td>[]</td>\n      <td>[]</td>\n      <td>[]</td>\n      <td>[]</td>\n      <td>[]</td>\n    </tr>\n    <tr>\n      <th>6</th>\n      <td>[Sistema financiero]</td>\n      <td>2021-02-24</td>\n      <td>[Resolución de 11 de febrero de 2021, de la Di...</td>\n      <td>[BOE-A-2021-2893]</td>\n      <td>[]</td>\n      <td>[]</td>\n      <td>[]</td>\n      <td>[]</td>\n      <td>[]</td>\n      <td>[]</td>\n      <td>[]</td>\n    </tr>\n    <tr>\n      <th>7</th>\n      <td>[Organización de la Administración]</td>\n      <td>2021-02-24</td>\n      <td>[Real Decreto 117/2021, de 23 de febrero, por ...</td>\n      <td>[BOE-A-2021-2844]</td>\n      <td>[Consejo de Fomento de la Economía Social, Min...</td>\n      <td>[BOE-A-2001-5061, BOE-A-2011-5708, BOE-A-2007-...</td>\n      <td>[MODIFICA, DE CONFORMIDAD con, DE CONFORMIDAD ...</td>\n      <td>[los arts. 1, 2, 3, 4, 8, 12 y 13, la disposic...</td>\n      <td>[MODIFICA los arts. 1, 2, 3, 4, 8, 12 y 13, la...</td>\n      <td>[Ley 27/1999, Ley 5/2011, Real Decreto 219/2001]</td>\n      <td>[]</td>\n    </tr>\n    <tr>\n      <th>8</th>\n      <td>[Ganadería y animales, Tecnología e investigac...</td>\n      <td>2021-02-24</td>\n      <td>[Real Decreto 118/2021, de 23 de febrero, por ...</td>\n      <td>[BOE-A-2021-2845]</td>\n      <td>[Acceso a la información, Animales, Comisión E...</td>\n      <td>[BOE-A-2013-1337]</td>\n      <td>[MODIFICA]</td>\n      <td>[los arts. 34.2.e), 36, 41.4 del Real Decreto ...</td>\n      <td>[MODIFICA los arts. 34.2.e), 36, 41.4 del Real...</td>\n      <td>[Real Decreto 53/2013]</td>\n      <td>[]</td>\n    </tr>\n    <tr>\n      <th>9</th>\n      <td>[Deporte]</td>\n      <td>2021-02-24</td>\n      <td>[Resolución de 12 de febrero de 2021, de la Pr...</td>\n      <td>[BOE-A-2021-2892]</td>\n      <td>[Asociaciones deportivas, Federación Española ...</td>\n      <td>[]</td>\n      <td>[]</td>\n      <td>[]</td>\n      <td>[]</td>\n      <td>[]</td>\n      <td>[]</td>\n    </tr>\n    <tr>\n      <th>10</th>\n      <td>[]</td>\n      <td>2021-02-24</td>\n      <td>[Resolución de 11 de febrero de 2021, de la Se...</td>\n      <td>[BOE-A-2021-2886]</td>\n      <td>[]</td>\n      <td>[]</td>\n      <td>[]</td>\n      <td>[]</td>\n      <td>[]</td>\n      <td>[]</td>\n      <td>[]</td>\n    </tr>\n    <tr>\n      <th>11</th>\n      <td>[]</td>\n      <td>2021-02-24</td>\n      <td>[Resolución de 16 de febrero de 2021, de la Di...</td>\n      <td>[BOE-A-2021-2890]</td>\n      <td>[]</td>\n      <td>[]</td>\n      <td>[]</td>\n      <td>[]</td>\n      <td>[]</td>\n      <td>[]</td>\n      <td>[]</td>\n    </tr>\n    <tr>\n      <th>12</th>\n      <td>[]</td>\n      <td>2021-02-24</td>\n      <td>[Resolución de 18 de febrero de 2021, de la Di...</td>\n      <td>[BOE-A-2021-2884]</td>\n      <td>[]</td>\n      <td>[]</td>\n      <td>[]</td>\n      <td>[]</td>\n      <td>[]</td>\n      <td>[]</td>\n      <td>[]</td>\n    </tr>\n    <tr>\n      <th>13</th>\n      <td>[Asuntos sociales, Sanidad]</td>\n      <td>2021-02-24</td>\n      <td>[Corrección de errores del Decreto-ley 51/2020...</td>\n      <td>[BOE-A-2021-2847]</td>\n      <td>[Ancianos, Asistencia sanitaria, Asistencia so...</td>\n      <td>[BOE-A-2021-1479, BOE-A-2020-15840]</td>\n      <td>[CORRECCIÓN de errores, CORRIGE errores]</td>\n      <td>[del Decreto-ley 51/2020, de 15 de diciembre, ...</td>\n      <td>[CORRECCIÓN de errores del Decreto-ley 51/2020...</td>\n      <td>[ley 39/2020, ley 51/2020]</td>\n      <td>[]</td>\n    </tr>\n    <tr>\n      <th>14</th>\n      <td>[Función Pública]</td>\n      <td>2021-02-24</td>\n      <td>[Orden TFP/153/2021, de 16 de febrero, por la ...</td>\n      <td>[BOE-A-2021-2846]</td>\n      <td>[Funcionarios de la Administración Local, Opos...</td>\n      <td>[]</td>\n      <td>[]</td>\n      <td>[]</td>\n      <td>[]</td>\n      <td>[]</td>\n      <td>[]</td>\n    </tr>\n    <tr>\n      <th>15</th>\n      <td>[]</td>\n      <td>2021-02-24</td>\n      <td>[Resolución de 11 de febrero de 2021, de la Su...</td>\n      <td>[BOE-A-2021-2885]</td>\n      <td>[]</td>\n      <td>[]</td>\n      <td>[]</td>\n      <td>[]</td>\n      <td>[]</td>\n      <td>[]</td>\n      <td>[]</td>\n    </tr>\n    <tr>\n      <th>16</th>\n      <td>[]</td>\n      <td>2021-02-24</td>\n      <td>[Resolución de 3 de febrero de 2021, de la Sub...</td>\n      <td>[BOE-A-2021-2891]</td>\n      <td>[]</td>\n      <td>[]</td>\n      <td>[]</td>\n      <td>[]</td>\n      <td>[]</td>\n      <td>[]</td>\n      <td>[]</td>\n    </tr>\n    <tr>\n      <th>17</th>\n      <td>[]</td>\n      <td>2021-02-24</td>\n      <td>[Orden ETD/155/2021, de 9 de febrero, de autor...</td>\n      <td>[BOE-A-2021-2895]</td>\n      <td>[]</td>\n      <td>[]</td>\n      <td>[]</td>\n      <td>[]</td>\n      <td>[]</td>\n      <td>[]</td>\n      <td>[]</td>\n    </tr>\n    <tr>\n      <th>18</th>\n      <td>[Administración de Justicia, Derecho Penal]</td>\n      <td>2021-02-24</td>\n      <td>[Acuerdo de 18 de febrero de 2021, de la Comis...</td>\n      <td>[BOE-A-2021-2881]</td>\n      <td>[Administración de Justicia, Barcelona, Demarc...</td>\n      <td>[BOE-A-2019-2160]</td>\n      <td>[PRORROGA]</td>\n      <td>[lo indicado del Acuerdo de 14 de febrero de 2...</td>\n      <td>[PRORROGA lo indicado del Acuerdo de 14 de feb...</td>\n      <td>[]</td>\n      <td>[]</td>\n    </tr>\n    <tr>\n      <th>19</th>\n      <td>[Asuntos sociales, Derecho Administrativo, Org...</td>\n      <td>2021-02-24</td>\n      <td>[Resolución de 18 de febrero de 2021, del Cong...</td>\n      <td>[BOE-A-2021-2842]</td>\n      <td>[Accidentes de trabajo y enfermedades profesio...</td>\n      <td>[BOE-A-2021-1529]</td>\n      <td>[PUBLICA  Acuerdo de convalidación]</td>\n      <td>[del Real Decreto-ley 3/2021, de 2 de febrero]</td>\n      <td>[PUBLICA  Acuerdo de convalidación del Real De...</td>\n      <td>[Real Decreto-ley 3/2021]</td>\n      <td>[]</td>\n    </tr>\n    <tr>\n      <th>20</th>\n      <td>[]</td>\n      <td>2021-02-24</td>\n      <td>[Enmiendas de 2018 al Código internacional de ...</td>\n      <td>[BOE-A-2021-2843]</td>\n      <td>[]</td>\n      <td>[]</td>\n      <td>[]</td>\n      <td>[]</td>\n      <td>[]</td>\n      <td>[]</td>\n      <td>[]</td>\n    </tr>\n    <tr>\n      <th>21</th>\n      <td>[]</td>\n      <td>2021-02-24</td>\n      <td>[Orden ETD/154/2021, de 9 de febrero, de autor...</td>\n      <td>[BOE-A-2021-2894]</td>\n      <td>[]</td>\n      <td>[]</td>\n      <td>[]</td>\n      <td>[]</td>\n      <td>[]</td>\n      <td>[]</td>\n      <td>[]</td>\n    </tr>\n    <tr>\n      <th>22</th>\n      <td>[]</td>\n      <td>2021-02-24</td>\n      <td>[Resolución 420/38047/2021, de 17 de febrero, ...</td>\n      <td>[BOE-A-2021-2882]</td>\n      <td>[]</td>\n      <td>[]</td>\n      <td>[]</td>\n      <td>[]</td>\n      <td>[]</td>\n      <td>[]</td>\n      <td>[]</td>\n    </tr>\n    <tr>\n      <th>23</th>\n      <td>[]</td>\n      <td>2021-02-24</td>\n      <td>[Resolución de 23 de febrero de 2021, del Banc...</td>\n      <td>[BOE-A-2021-2896]</td>\n      <td>[]</td>\n      <td>[]</td>\n      <td>[]</td>\n      <td>[]</td>\n      <td>[]</td>\n      <td>[]</td>\n      <td>[]</td>\n    </tr>\n    <tr>\n      <th>24</th>\n      <td>[Administración electrónica, Asuntos sociales,...</td>\n      <td>2021-02-24</td>\n      <td>[Resolución de 18 de febrero de 2021, del Cong...</td>\n      <td>[BOE-A-2021-2841]</td>\n      <td>[Administración electrónica, Arrendamientos ur...</td>\n      <td>[]</td>\n      <td>[]</td>\n      <td>[]</td>\n      <td>[]</td>\n      <td>[]</td>\n      <td>[]</td>\n    </tr>\n    <tr>\n      <th>25</th>\n      <td>[Relaciones internacionales, Unión Europea]</td>\n      <td>2021-02-24</td>\n      <td>[Instrumento de ratificación del Acuerdo de as...</td>\n      <td>[BOE-A-2021-2840]</td>\n      <td>[Acuerdo de Asociación CE, Acuerdos internacio...</td>\n      <td>[]</td>\n      <td>[]</td>\n      <td>[]</td>\n      <td>[]</td>\n      <td>[]</td>\n      <td>[]</td>\n    </tr>\n    <tr>\n      <th>26</th>\n      <td>[]</td>\n      <td>2021-02-24</td>\n      <td>[Resolución de 11 de febrero de 2021, de la Co...</td>\n      <td>[BOE-A-2021-2897]</td>\n      <td>[]</td>\n      <td>[]</td>\n      <td>[]</td>\n      <td>[]</td>\n      <td>[]</td>\n      <td>[]</td>\n      <td>[]</td>\n    </tr>\n    <tr>\n      <th>27</th>\n      <td>[]</td>\n      <td>2021-02-24</td>\n      <td>[Resolución 431/38043/2021, de 12 de febrero, ...</td>\n      <td>[BOE-A-2021-2883]</td>\n      <td>[]</td>\n      <td>[]</td>\n      <td>[]</td>\n      <td>[]</td>\n      <td>[]</td>\n      <td>[]</td>\n      <td>[]</td>\n    </tr>\n  </tbody>\n</table>\n</div>"
     },
     "metadata": {},
     "execution_count": 27
    }
   ],
   "source": [
    "tabla_analisis"
   ]
  },
  {
   "cell_type": "code",
   "execution_count": 28,
   "metadata": {},
   "outputs": [
    {
     "output_type": "stream",
     "name": "stdout",
     "text": [
      "DE CONFORMIDAD con el Estatuto aprobado por por Ley Orgánica 9/1982, de 10 de agosto\nCITA Real Decreto 463/2020, de 14 de marzo\nDEROGA la Ley 6/1985, de 13 de noviembre\nDEROGA en la forma indicada el Decreto 104/1986, de 23 de septiembre (DOCM núm. 42, de octubre de 1986)\nMODIFICA el art. 5 de la Ley 1/2006, de 23 de marzo\nDE CONFORMIDAD con el Estatuto aprobado por Ley Orgánica 9/1982, de 10 de agosto\nMODIFICA los arts. 1, 2, 3, 4, 8, 12 y 13, la disposición adicional única y la disposición final 1 y AÑADE la disposición adicional 2 al Real Decreto 219/2001, de 2 de marzo\nDE CONFORMIDAD con el art. 13 de la Ley 5/2011, de 29 de marzo\nDE CONFORMIDAD con la Ley Orgánica 3/2007, de 22 de marzo\nCITA Ley 27/1999, de 16 de julio\nMODIFICA los arts. 34.2.e), 36, 41.4 del Real Decreto 53/2013, de 1 de febrero\nCORRECCIÓN de errores del Decreto-ley 51/2020, de 15 de diciembre\nCORRIGE errores del Decreto-ley 39/2020, de 3 de noviembre\nPRORROGA lo indicado del Acuerdo de 14 de febrero de 2019\nPUBLICA  Acuerdo de convalidación del Real Decreto-ley 3/2021, de 2 de febrero\n"
     ]
    }
   ],
   "source": [
    "texto = ''\n",
    "for refs in tabla_analisis['Referencias_completas']:\n",
    "    for ref in refs:\n",
    "        texto = texto + ref + ' '\n",
    "        print(ref)"
   ]
  },
  {
   "cell_type": "code",
   "execution_count": 29,
   "metadata": {},
   "outputs": [
    {
     "output_type": "stream",
     "name": "stdout",
     "text": [
      "\n['BOE-A-2021-2898']['Decreto 102/2020, de 9 de diciembre, por el que se declara bien de interés cultural, con la categoría de monumento, la Iglesia parroquial Nuestra Señora de la Asunción y su entorno de protección en Navarrete.']\n\n\n['BOE-A-2021-2888']['Resolución de 2 de febrero de 2021, de la Secretaría General de Coordinación Territorial, por la que se publica el Acuerdo de la Subcomisión de Seguimiento Normativo, Prevención y Solución de Conflictos de la Comisión Bilateral Generalitat-Estado, en relación con el Decreto-ley 37/2020, de 3 de noviembre, de refuerzo de la protección del derecho a la vivienda ante los efectos de la pandemia de la COVID-19.']\n\n\n['BOE-A-2021-2889']['Resolución de 2 de febrero de 2021, de la Secretaría General de Coordinación Territorial, por la que se publica el Acuerdo de la Subcomisión de Seguimiento Normativo, Prevención y Solución de Conflictos de la Comisión Bilateral Generalitat-Estado, en relación con el Decreto-ley 34/2020, de 20 de octubre, de medidas urgentes de apoyo a la actividad económica desarrollada en locales de negocio arrendados.']\n\n\n['BOE-A-2021-2848']['Ley 8/2020, de 16 de octubre, por la que se crea la reserva estratégica de productos sanitarios en Castilla-La Mancha.']\n\n\tAntecedente 1: DE CONFORMIDAD con el Estatuto aprobado por por Ley Orgánica 9/1982, de 10 de agosto []\n\tAntecedente 2: CITA Real Decreto 463/2020, de 14 de marzo ['Real Decreto 463/2020']\n\n['BOE-A-2021-2849']['Ley 9/2020, de 6 de noviembre, de Patrimonio de la Junta de Comunidades de Castilla-La Mancha.']\n\n\tAntecedente 1: DEROGA la Ley 6/1985, de 13 de noviembre ['Ley 6/1985']\n\tAntecedente 2: DEROGA en la forma indicada el Decreto 104/1986, de 23 de septiembre (DOCM núm. 42, de octubre de 1986) []\n\tAntecedente 3: MODIFICA el art. 5 de la Ley 1/2006, de 23 de marzo ['Ley 1/2006']\n\tAntecedente 4: DE CONFORMIDAD con el Estatuto aprobado por Ley Orgánica 9/1982, de 10 de agosto []\n\n['BOE-A-2021-2887']['Resolución de 15 de febrero de 2021, de la Entidad Pública Empresarial Administrador de Infraestructuras Ferroviarias, por la que se publica el Convenio con la Universidad de Navarra, para la realización de prácticas externas.']\n\n\n['BOE-A-2021-2893']['Resolución de 11 de febrero de 2021, de la Dirección General del Tesoro y Política Financiera, por la que se publican los resultados de las subastas de Letras del Tesoro a seis y doce meses correspondientes a las emisiones de fecha 12 de febrero de 2021.']\n\n\n['BOE-A-2021-2844']['Real Decreto 117/2021, de 23 de febrero, por el que se modifica el Real Decreto 219/2001, de 2 de marzo, sobre organización y funcionamiento del Consejo para el Fomento de la Economía Social.']\n\n\tAntecedente 1: MODIFICA los arts. 1, 2, 3, 4, 8, 12 y 13, la disposición adicional única y la disposición final 1 y AÑADE la disposición adicional 2 al Real Decreto 219/2001, de 2 de marzo ['Real Decreto 219/2001']\n\tAntecedente 2: DE CONFORMIDAD con el art. 13 de la Ley 5/2011, de 29 de marzo ['Ley 5/2011']\n\tAntecedente 3: DE CONFORMIDAD con la Ley Orgánica 3/2007, de 22 de marzo []\n\tAntecedente 4: CITA Ley 27/1999, de 16 de julio ['Ley 27/1999']\n\n['BOE-A-2021-2845']['Real Decreto 118/2021, de 23 de febrero, por el que se modifica el Real Decreto 53/2013, de 1 de febrero, por el que se establecen las normas básicas aplicables para la protección de los animales utilizados en experimentación y otros fines científicos, incluyendo la docencia.']\n\n\tAntecedente 1: MODIFICA los arts. 34.2.e), 36, 41.4 del Real Decreto 53/2013, de 1 de febrero ['Real Decreto 53/2013']\n\n['BOE-A-2021-2892']['Resolución de 12 de febrero de 2021, de la Presidencia del Consejo Superior de Deportes, por la que se publica la modificación de los Estatutos de la Federación Española de Actividades Subacuáticas.']\n\n\n['BOE-A-2021-2886']['Resolución de 11 de febrero de 2021, de la Secretaría General de Instituciones Penitenciarias, por la que se emplaza a los interesados en el recurso contencioso-administrativo 134/2020 E, interpuesto ante el Juzgado Central de lo Contencioso-Administrativo n.º 2.']\n\n\n['BOE-A-2021-2890']['Resolución de 16 de febrero de 2021, de la Dirección General de Calidad y Evaluación Ambiental, por la que se formula informe de impacto ambiental del proyecto \"Nuevo edificio de viajeros de la estación de Irún (Guipúzcoa)\".']\n\n\n['BOE-A-2021-2884']['Resolución de 18 de febrero de 2021, de la Dirección General del Catastro, por la que se publica el Convenio con la Comunidad Autónoma de Castilla-La Mancha.']\n\n\n['BOE-A-2021-2847']['Corrección de errores del Decreto-ley 51/2020, de 15 de diciembre, de modificación del Decreto-ley 39/2020, de 3 de noviembre, de medidas extraordinarias de carácter social para hacer frente a las consecuencias de la COVID-19, y del Decreto-ley 49/2020, de 1 de diciembre, de medida urgente complementaria en materia de empleo y fomento de la actividad económica para hacer frente a las consecuencias de la mayor afectación en el mercado de trabajo de la COVID-19 en determinados territorios de Cataluña.']\n\n\tAntecedente 1: CORRECCIÓN de errores del Decreto-ley 51/2020, de 15 de diciembre ['ley 51/2020']\n\tAntecedente 2: CORRIGE errores del Decreto-ley 39/2020, de 3 de noviembre ['ley 39/2020']\n\n['BOE-A-2021-2846']['Orden TFP/153/2021, de 16 de febrero, por la que se regula la valoración de los méritos generales del personal funcionario de Administración Local con habilitación de carácter nacional.']\n\n\n['BOE-A-2021-2885']['Resolución de 11 de febrero de 2021, de la Subsecretaría, por la que se aprueban, revisan y actualizan las normas de conservación, y se autoriza la eliminación de series documentales del Departamento y, en su caso, en los Archivos Históricos Provinciales.']\n\n\n['BOE-A-2021-2891']['Resolución de 3 de febrero de 2021, de la Subsecretaría, por la que se emplaza a los interesados en el recurso contencioso-administrativo 1007/2020, interpuesto ante el Tribunal Superior de Justicia de Madrid, Sala de lo Contencioso-Administrativo, Sección Tercera.']\n\n\n['BOE-A-2021-2895']['Orden ETD/155/2021, de 9 de febrero, de autorización administrativa de la cesión parcial de la cartera de Aseguradores Agrupados, SA de Seguros, a Divina Pastora Seguros Generales, SAU.']\n\n\n['BOE-A-2021-2881']['Acuerdo de 18 de febrero de 2021, de la Comisión Permanente del Consejo General del Poder Judicial, por el que se aprueba prórroga, en el funcionamiento del segundo Juzgado de Instrucción de guardia, para enjuiciamiento de delitos leves inmediatos, en el partido judicial de Barcelona.']\n\n\tAntecedente 1: PRORROGA lo indicado del Acuerdo de 14 de febrero de 2019 []\n\n['BOE-A-2021-2842']['Resolución de 18 de febrero de 2021, del Congreso de los Diputados, por la que se ordena la publicación del Acuerdo de convalidación del Real Decreto-ley 3/2021, de 2 de febrero, por el que se adoptan medidas para la reducción de la brecha de género y otras materias en los ámbitos de la Seguridad Social y económico.']\n\n\tAntecedente 1: PUBLICA  Acuerdo de convalidación del Real Decreto-ley 3/2021, de 2 de febrero ['Real Decreto-ley 3/2021']\n\n['BOE-A-2021-2843']['Enmiendas de 2018 al Código internacional de seguridad para naves de gran velocidad, 2000 (Código NGV 2000) adoptadas en Londres el 24 de mayo de 2018 mediante la Resolución MSC. 439(99).']\n\n\n['BOE-A-2021-2894']['Orden ETD/154/2021, de 9 de febrero, de autorización administrativa de la cesión de la cartera de contratos de seguro del ramo de otros daños a los bienes de Agromutua-Mavda, Sociedad Mutua de Seguros a Prima Fija, a Agropelayo Sociedad de Seguros, Sociedad Anónima, y de revocación de la autorización administrativa para el ejercicio de la actividad aseguradora a Agromutua-Mavda, Sociedad Mutua de Seguros a Prima Fija.']\n\n\n['BOE-A-2021-2882']['Resolución 420/38047/2021, de 17 de febrero, de la Secretaría General Técnica, por la que se publica el Convenio con la Fundación \"Amigos del Museo del Prado\", para la adhesión a dicha Fundación del personal del Ejército de Tierra.']\n\n\n['BOE-A-2021-2896']['Resolución de 23 de febrero de 2021, del Banco de España, por la que se publican los cambios del euro correspondientes al día 23 de febrero de 2021, publicados por el Banco Central Europeo, que tendrán la consideración de cambios oficiales, de acuerdo con lo dispuesto en el artículo 36 de la Ley 46/1998, de 17 de diciembre, sobre la Introducción del Euro.']\n\n\n['BOE-A-2021-2841']['Resolución de 18 de febrero de 2021, del Congreso de los Diputados, por la que se ordena la publicación del Acuerdo de convalidación del Real Decreto-ley 2/2021, de 26 de enero, de refuerzo y consolidación de medidas sociales en defensa del empleo.']\n\n\n['BOE-A-2021-2840']['Instrumento de ratificación del Acuerdo de asociación global y reforzado entre la Unión Europea y la Comunidad Europea de la Energía Atómica y sus Estados Miembros, por una parte, y la República de Armenia, por otra, hecho en Bruselas el 24 de noviembre de 2017.']\n\n\n['BOE-A-2021-2897']['Resolución de 11 de febrero de 2021, de la Comisión Nacional de los Mercados y la Competencia, por la que se otorga el carácter singular de la interconexión eléctrica nuevo enlace submarino de transporte de energía eléctrica de 132 kV, doble circuito, \"Península-Ceuta\", solicitado por Red Eléctrica de España S.A.U., entre las subestaciones eléctricas de Portichuelos (Cádiz) y Virgen de África (Ceuta) y su inclusión en el régimen retributivo de inversiones singulares con características técnicas especiales.']\n\n\n['BOE-A-2021-2883']['Resolución 431/38043/2021, de 12 de febrero, de la Dirección General de Personal, por la que se emplaza a los interesados en el recurso contencioso-administrativo 1253/2020, interpuesto ante la Audiencia Nacional, Sala de lo Contencioso-Administrativo, Sección Quinta.']\n\n"
     ]
    }
   ],
   "source": [
    "texto = ''\n",
    "for i, row in tabla_analisis.iterrows():\n",
    "    #unique_id = i\n",
    "    print('\\n' + str(row['Item_id']) + str(row['Item_Name']) +'\\n')\n",
    "\n",
    "    antecedente = 1\n",
    "    for ref in row['Referencias_completas']:\n",
    "        texto = texto + ref + ' '\n",
    "        print('\\t' + 'Antecedente ' + str(antecedente) + ': ' + ref + ' ' + str(re.findall('|'.join(pattern), ref, flags=re.IGNORECASE)))\n",
    "        antecedente += 1"
   ]
  },
  {
   "cell_type": "code",
   "execution_count": 30,
   "metadata": {},
   "outputs": [],
   "source": [
    "# Aplica expresiones REGEX para búsqueda de leyes, decretos, etc. referenciadas anteriormente\n",
    "regex_result = re.findall('|'.join(pattern), texto, flags=re.IGNORECASE)"
   ]
  },
  {
   "cell_type": "code",
   "execution_count": 31,
   "metadata": {},
   "outputs": [
    {
     "output_type": "stream",
     "name": "stdout",
     "text": [
      "['Real Decreto 463/2020', 'Ley 6/1985', 'Ley 1/2006', 'Real Decreto 219/2001', 'Ley 5/2011', 'Ley 27/1999', 'Real Decreto 53/2013', 'ley 51/2020', 'ley 39/2020', 'Real Decreto-ley 3/2021']\n"
     ]
    }
   ],
   "source": [
    "print(regex_result)"
   ]
  },
  {
   "cell_type": "code",
   "execution_count": 32,
   "metadata": {},
   "outputs": [],
   "source": [
    "## Elimina duplicados\n",
    "boletin_flat_list = list(set(regex_result))"
   ]
  },
  {
   "cell_type": "code",
   "execution_count": 33,
   "metadata": {},
   "outputs": [
    {
     "output_type": "execute_result",
     "data": {
      "text/plain": [
       "['Real Decreto 463/2020',\n",
       " 'Ley 6/1985',\n",
       " 'ley 51/2020',\n",
       " 'Ley 27/1999',\n",
       " 'Ley 5/2011',\n",
       " 'Ley 1/2006',\n",
       " 'ley 39/2020',\n",
       " 'Real Decreto 219/2001',\n",
       " 'Real Decreto-ley 3/2021',\n",
       " 'Real Decreto 53/2013']"
      ]
     },
     "metadata": {},
     "execution_count": 33
    }
   ],
   "source": [
    "boletin_flat_list"
   ]
  },
  {
   "source": [
    "## Importa BBDD ASECORP"
   ],
   "cell_type": "markdown",
   "metadata": {}
  },
  {
   "cell_type": "code",
   "execution_count": 34,
   "metadata": {},
   "outputs": [],
   "source": [
    "ASECORP_BBDD = pd.read_csv('./ASECORP/ExportNormes_20210126.csv', delimiter=';')"
   ]
  },
  {
   "cell_type": "code",
   "execution_count": 35,
   "metadata": {},
   "outputs": [
    {
     "output_type": "execute_result",
     "data": {
      "text/plain": [
       "                        Codigo      Numero  \\\n",
       "0       RES SLT/2313/2020 CAT         2313   \n",
       "1      (zzz) RES 12/4/2007 AST   12/4/2007   \n",
       "2           A CORUÑA 10/7/2015   10/7/2015   \n",
       "3       A CORUÑA 11/8/2014 (1)   11/8/2014   \n",
       "4       A CORUÑA 11/8/2014 (2)   11/8/2014   \n",
       "...                        ...         ...   \n",
       "19152          ZUMAIA 1/3/2001    1/3/2001   \n",
       "19153        ZUMAIA 12/11/1999  12/11/1999   \n",
       "19154         ZUMAIA 15/6/2012   15/6/2012   \n",
       "19155          ZUMAIA 6/2/2004    6/2/2004   \n",
       "19156          ZUMAIA 9/2/2004    9/2/2004   \n",
       "\n",
       "                                                  Titulo CodigoAmbito  \\\n",
       "0      Resolución SLT/2313/2020, de 24 de septiembre,...          CAT   \n",
       "1      Resolución de 12 abril de 2007, de la Consejer...          AST   \n",
       "2      Modificación de la Ordenanza de vertidos y ser...          GAL   \n",
       "3      Ordenanza municipal reguladora de los procedim...          GAL   \n",
       "4      Ordenanza de protección contra la contaminació...          GAL   \n",
       "...                                                  ...          ...   \n",
       "19152  Ordenanza reguladora de la gestión del ciclo i...          PVA   \n",
       "19153  Normativa complementaria de las Normas Subsidi...          PVA   \n",
       "19154  Modificación de la Ordenanza municipal de la g...          PVA   \n",
       "19155  Modificación de la Normativa complementaria de...          PVA   \n",
       "19156  Reglamento regulador del vertido a colector de...          PVA   \n",
       "\n",
       "           Ambito Municipio   TiposNorma IdTiposNorma  \n",
       "0        Cataluña       NaN   Prevención          [2]  \n",
       "1        Asturias       NaN  M. Ambiente          [1]  \n",
       "2         Galicia  A Coruña  M. Ambiente          [1]  \n",
       "3         Galicia  A Coruña  M. Ambiente          [1]  \n",
       "4         Galicia  A Coruña  M. Ambiente          [1]  \n",
       "...           ...       ...          ...          ...  \n",
       "19152  Pais Vasco    Zumaia  M. Ambiente          [1]  \n",
       "19153  Pais Vasco    Zumaia  M. Ambiente          [1]  \n",
       "19154  Pais Vasco    Zumaia  M. Ambiente          [1]  \n",
       "19155  Pais Vasco    Zumaia  M. Ambiente          [1]  \n",
       "19156  Pais Vasco    Zumaia  M. Ambiente          [1]  \n",
       "\n",
       "[19157 rows x 8 columns]"
      ],
      "text/html": "<div>\n<style scoped>\n    .dataframe tbody tr th:only-of-type {\n        vertical-align: middle;\n    }\n\n    .dataframe tbody tr th {\n        vertical-align: top;\n    }\n\n    .dataframe thead th {\n        text-align: right;\n    }\n</style>\n<table border=\"1\" class=\"dataframe\">\n  <thead>\n    <tr style=\"text-align: right;\">\n      <th></th>\n      <th>Codigo</th>\n      <th>Numero</th>\n      <th>Titulo</th>\n      <th>CodigoAmbito</th>\n      <th>Ambito</th>\n      <th>Municipio</th>\n      <th>TiposNorma</th>\n      <th>IdTiposNorma</th>\n    </tr>\n  </thead>\n  <tbody>\n    <tr>\n      <th>0</th>\n      <td>RES SLT/2313/2020 CAT</td>\n      <td>2313</td>\n      <td>Resolución SLT/2313/2020, de 24 de septiembre,...</td>\n      <td>CAT</td>\n      <td>Cataluña</td>\n      <td>NaN</td>\n      <td>Prevención</td>\n      <td>[2]</td>\n    </tr>\n    <tr>\n      <th>1</th>\n      <td>(zzz) RES 12/4/2007 AST</td>\n      <td>12/4/2007</td>\n      <td>Resolución de 12 abril de 2007, de la Consejer...</td>\n      <td>AST</td>\n      <td>Asturias</td>\n      <td>NaN</td>\n      <td>M. Ambiente</td>\n      <td>[1]</td>\n    </tr>\n    <tr>\n      <th>2</th>\n      <td>A CORUÑA 10/7/2015</td>\n      <td>10/7/2015</td>\n      <td>Modificación de la Ordenanza de vertidos y ser...</td>\n      <td>GAL</td>\n      <td>Galicia</td>\n      <td>A Coruña</td>\n      <td>M. Ambiente</td>\n      <td>[1]</td>\n    </tr>\n    <tr>\n      <th>3</th>\n      <td>A CORUÑA 11/8/2014 (1)</td>\n      <td>11/8/2014</td>\n      <td>Ordenanza municipal reguladora de los procedim...</td>\n      <td>GAL</td>\n      <td>Galicia</td>\n      <td>A Coruña</td>\n      <td>M. Ambiente</td>\n      <td>[1]</td>\n    </tr>\n    <tr>\n      <th>4</th>\n      <td>A CORUÑA 11/8/2014 (2)</td>\n      <td>11/8/2014</td>\n      <td>Ordenanza de protección contra la contaminació...</td>\n      <td>GAL</td>\n      <td>Galicia</td>\n      <td>A Coruña</td>\n      <td>M. Ambiente</td>\n      <td>[1]</td>\n    </tr>\n    <tr>\n      <th>...</th>\n      <td>...</td>\n      <td>...</td>\n      <td>...</td>\n      <td>...</td>\n      <td>...</td>\n      <td>...</td>\n      <td>...</td>\n      <td>...</td>\n    </tr>\n    <tr>\n      <th>19152</th>\n      <td>ZUMAIA 1/3/2001</td>\n      <td>1/3/2001</td>\n      <td>Ordenanza reguladora de la gestión del ciclo i...</td>\n      <td>PVA</td>\n      <td>Pais Vasco</td>\n      <td>Zumaia</td>\n      <td>M. Ambiente</td>\n      <td>[1]</td>\n    </tr>\n    <tr>\n      <th>19153</th>\n      <td>ZUMAIA 12/11/1999</td>\n      <td>12/11/1999</td>\n      <td>Normativa complementaria de las Normas Subsidi...</td>\n      <td>PVA</td>\n      <td>Pais Vasco</td>\n      <td>Zumaia</td>\n      <td>M. Ambiente</td>\n      <td>[1]</td>\n    </tr>\n    <tr>\n      <th>19154</th>\n      <td>ZUMAIA 15/6/2012</td>\n      <td>15/6/2012</td>\n      <td>Modificación de la Ordenanza municipal de la g...</td>\n      <td>PVA</td>\n      <td>Pais Vasco</td>\n      <td>Zumaia</td>\n      <td>M. Ambiente</td>\n      <td>[1]</td>\n    </tr>\n    <tr>\n      <th>19155</th>\n      <td>ZUMAIA 6/2/2004</td>\n      <td>6/2/2004</td>\n      <td>Modificación de la Normativa complementaria de...</td>\n      <td>PVA</td>\n      <td>Pais Vasco</td>\n      <td>Zumaia</td>\n      <td>M. Ambiente</td>\n      <td>[1]</td>\n    </tr>\n    <tr>\n      <th>19156</th>\n      <td>ZUMAIA 9/2/2004</td>\n      <td>9/2/2004</td>\n      <td>Reglamento regulador del vertido a colector de...</td>\n      <td>PVA</td>\n      <td>Pais Vasco</td>\n      <td>Zumaia</td>\n      <td>M. Ambiente</td>\n      <td>[1]</td>\n    </tr>\n  </tbody>\n</table>\n<p>19157 rows × 8 columns</p>\n</div>"
     },
     "metadata": {},
     "execution_count": 35
    }
   ],
   "source": [
    "ASECORP_BBDD"
   ]
  },
  {
   "cell_type": "code",
   "execution_count": 36,
   "metadata": {},
   "outputs": [],
   "source": [
    "ASECORP_BBDD_BOE = ASECORP_BBDD.loc[ASECORP_BBDD['Ambito'] == 'España']"
   ]
  },
  {
   "cell_type": "code",
   "execution_count": 37,
   "metadata": {},
   "outputs": [
    {
     "output_type": "execute_result",
     "data": {
      "text/plain": [
       "                        Codigo      Numero  \\\n",
       "23              ACU 1/2020 ESP           1   \n",
       "35           ACU 11/6/2007 ESP   11/6/2007   \n",
       "57          ACU 17/10/2006 ESP  17/10/2006   \n",
       "71          ACU 19/11/2018 ESP  19/11/2018   \n",
       "82              ACU 2/2020 ESP           2   \n",
       "...                        ...         ...   \n",
       "18496          STC 86/2019 ESP          86   \n",
       "18497          STC 87/2019 ESP          87   \n",
       "18498          STC 88/2018 ESP          88   \n",
       "18499         STC 9/3/2010 ESP    9/3/2010   \n",
       "18879  verificación de calidad           1   \n",
       "\n",
       "                                                  Titulo CodigoAmbito  Ambito  \\\n",
       "23     Acuerdo Multilateral RID 1/2020 en virtud de l...          ESP  España   \n",
       "35     Entrada en vigor del Acuerdo entre el Reino de...          ESP  España   \n",
       "57     Aplicación provisional del Acuerdo entre el Re...          ESP  España   \n",
       "71     Acuerdo de la Junta de Gobierno de la Confeder...          ESP  España   \n",
       "82     Acuerdo Multilateral RID 2/2020 en virtud de l...          ESP  España   \n",
       "...                                                  ...          ...     ...   \n",
       "18496  Sentencia 86/2019, de 20 de junio de 2019. Rec...          ESP  España   \n",
       "18497  Sentencia 87/2019, de 20 de junio de 2019. Rec...          ESP  España   \n",
       "18498  Sentencia 88/2018, de 19 de julio de 2018. Con...          ESP  España   \n",
       "18499  Sentencia de 9 de marzo de 2010, de la Sala Te...          ESP  España   \n",
       "18879   Norma verificación calidad alertas en produccion          ESP  España   \n",
       "\n",
       "      Municipio                     TiposNorma IdTiposNorma  \n",
       "23          NaN       M. Ambiente / Prevención       [1][2]  \n",
       "35          NaN                    M. Ambiente          [1]  \n",
       "57          NaN                    M. Ambiente          [1]  \n",
       "71          NaN                    M. Ambiente          [1]  \n",
       "82          NaN       M. Ambiente / Prevención       [1][2]  \n",
       "...         ...                            ...          ...  \n",
       "18496       NaN                    M. Ambiente          [1]  \n",
       "18497       NaN                    M. Ambiente          [1]  \n",
       "18498       NaN  M. Ambiente / Reg. Industrial       [1][3]  \n",
       "18499       NaN                    M. Ambiente          [1]  \n",
       "18879         -                Reg. Industrial          [3]  \n",
       "\n",
       "[2959 rows x 8 columns]"
      ],
      "text/html": "<div>\n<style scoped>\n    .dataframe tbody tr th:only-of-type {\n        vertical-align: middle;\n    }\n\n    .dataframe tbody tr th {\n        vertical-align: top;\n    }\n\n    .dataframe thead th {\n        text-align: right;\n    }\n</style>\n<table border=\"1\" class=\"dataframe\">\n  <thead>\n    <tr style=\"text-align: right;\">\n      <th></th>\n      <th>Codigo</th>\n      <th>Numero</th>\n      <th>Titulo</th>\n      <th>CodigoAmbito</th>\n      <th>Ambito</th>\n      <th>Municipio</th>\n      <th>TiposNorma</th>\n      <th>IdTiposNorma</th>\n    </tr>\n  </thead>\n  <tbody>\n    <tr>\n      <th>23</th>\n      <td>ACU 1/2020 ESP</td>\n      <td>1</td>\n      <td>Acuerdo Multilateral RID 1/2020 en virtud de l...</td>\n      <td>ESP</td>\n      <td>España</td>\n      <td>NaN</td>\n      <td>M. Ambiente / Prevención</td>\n      <td>[1][2]</td>\n    </tr>\n    <tr>\n      <th>35</th>\n      <td>ACU 11/6/2007 ESP</td>\n      <td>11/6/2007</td>\n      <td>Entrada en vigor del Acuerdo entre el Reino de...</td>\n      <td>ESP</td>\n      <td>España</td>\n      <td>NaN</td>\n      <td>M. Ambiente</td>\n      <td>[1]</td>\n    </tr>\n    <tr>\n      <th>57</th>\n      <td>ACU 17/10/2006 ESP</td>\n      <td>17/10/2006</td>\n      <td>Aplicación provisional del Acuerdo entre el Re...</td>\n      <td>ESP</td>\n      <td>España</td>\n      <td>NaN</td>\n      <td>M. Ambiente</td>\n      <td>[1]</td>\n    </tr>\n    <tr>\n      <th>71</th>\n      <td>ACU 19/11/2018 ESP</td>\n      <td>19/11/2018</td>\n      <td>Acuerdo de la Junta de Gobierno de la Confeder...</td>\n      <td>ESP</td>\n      <td>España</td>\n      <td>NaN</td>\n      <td>M. Ambiente</td>\n      <td>[1]</td>\n    </tr>\n    <tr>\n      <th>82</th>\n      <td>ACU 2/2020 ESP</td>\n      <td>2</td>\n      <td>Acuerdo Multilateral RID 2/2020 en virtud de l...</td>\n      <td>ESP</td>\n      <td>España</td>\n      <td>NaN</td>\n      <td>M. Ambiente / Prevención</td>\n      <td>[1][2]</td>\n    </tr>\n    <tr>\n      <th>...</th>\n      <td>...</td>\n      <td>...</td>\n      <td>...</td>\n      <td>...</td>\n      <td>...</td>\n      <td>...</td>\n      <td>...</td>\n      <td>...</td>\n    </tr>\n    <tr>\n      <th>18496</th>\n      <td>STC 86/2019 ESP</td>\n      <td>86</td>\n      <td>Sentencia 86/2019, de 20 de junio de 2019. Rec...</td>\n      <td>ESP</td>\n      <td>España</td>\n      <td>NaN</td>\n      <td>M. Ambiente</td>\n      <td>[1]</td>\n    </tr>\n    <tr>\n      <th>18497</th>\n      <td>STC 87/2019 ESP</td>\n      <td>87</td>\n      <td>Sentencia 87/2019, de 20 de junio de 2019. Rec...</td>\n      <td>ESP</td>\n      <td>España</td>\n      <td>NaN</td>\n      <td>M. Ambiente</td>\n      <td>[1]</td>\n    </tr>\n    <tr>\n      <th>18498</th>\n      <td>STC 88/2018 ESP</td>\n      <td>88</td>\n      <td>Sentencia 88/2018, de 19 de julio de 2018. Con...</td>\n      <td>ESP</td>\n      <td>España</td>\n      <td>NaN</td>\n      <td>M. Ambiente / Reg. Industrial</td>\n      <td>[1][3]</td>\n    </tr>\n    <tr>\n      <th>18499</th>\n      <td>STC 9/3/2010 ESP</td>\n      <td>9/3/2010</td>\n      <td>Sentencia de 9 de marzo de 2010, de la Sala Te...</td>\n      <td>ESP</td>\n      <td>España</td>\n      <td>NaN</td>\n      <td>M. Ambiente</td>\n      <td>[1]</td>\n    </tr>\n    <tr>\n      <th>18879</th>\n      <td>verificación de calidad</td>\n      <td>1</td>\n      <td>Norma verificación calidad alertas en produccion</td>\n      <td>ESP</td>\n      <td>España</td>\n      <td>-</td>\n      <td>Reg. Industrial</td>\n      <td>[3]</td>\n    </tr>\n  </tbody>\n</table>\n<p>2959 rows × 8 columns</p>\n</div>"
     },
     "metadata": {},
     "execution_count": 37
    }
   ],
   "source": [
    "ASECORP_BBDD_BOE"
   ]
  },
  {
   "cell_type": "code",
   "execution_count": 38,
   "metadata": {},
   "outputs": [],
   "source": [
    "# Crea nueva columna vacía de tipo lista en ASECORP_BBDD\n",
    "ASECORP_BBDD_BOE['Tags'] = [[] for i in range(len(ASECORP_BBDD_BOE))]"
   ]
  },
  {
   "cell_type": "code",
   "execution_count": 39,
   "metadata": {},
   "outputs": [],
   "source": [
    "titulo = []\n",
    "for i, row in ASECORP_BBDD_BOE.iterrows():\n",
    "    titulo.append(str(row['Titulo']) + str(re.findall('|'.join(pattern), str(row['Titulo']), flags=re.IGNORECASE)))\n",
    "    ASECORP_BBDD_BOE['Tags'][i] = re.findall('|'.join(pattern), str(row['Titulo']), flags=re.IGNORECASE)"
   ]
  },
  {
   "cell_type": "code",
   "execution_count": 40,
   "metadata": {},
   "outputs": [
    {
     "output_type": "execute_result",
     "data": {
      "text/plain": [
       "                      Codigo     Numero  \\\n",
       "11629  ORD PRE/2827/2009 ESP       2827   \n",
       "11630  ORD PRE/2843/2009 ESP       2843   \n",
       "11631  ORD PRE/2851/2010 ESP       2851   \n",
       "11632  ORD PRE/2871/2011 ESP       2871   \n",
       "11633  ORD PRE/2872/2011 ESP       2872   \n",
       "11634    ORD PRE/29/2004 ESP         29   \n",
       "11635  ORD PRE/2922/2005 ESP       2922   \n",
       "11636  ORD PRE/2957/2008 ESP       2957   \n",
       "11637     ORD PRE/3/2006 ESP          3   \n",
       "11638  ORD PRE/3159/2004 ESP       3159   \n",
       "11639   ORD PRE/321/2009 ESP        321   \n",
       "11640  ORD PRE/3271/2011 ESP       3271   \n",
       "11641  ORD PRE/3290/2002 ESP       3290   \n",
       "11642  ORD PRE/3297/2004 ESP       3297   \n",
       "11643  ORD PRE/3298/2004 ESP       3298   \n",
       "11644  ORD PRE/3302/2006 ESP       3302   \n",
       "11645  ORD PRE/3338/2007 ESP       3338   \n",
       "11647  ORD PRE/3420/2007 ESP       3420   \n",
       "11648  ORD PRE/3476/2003 ESP       3476   \n",
       "11649  ORD PRE/3539/2008 ESP       3539   \n",
       "11650   ORD PRE/370/2012 ESP        370   \n",
       "11651   ORD PRE/374/2008 ESP        374   \n",
       "11652   ORD PRE/375/2003 ESP        375   \n",
       "11653  ORD PRE/3834/2005 ESP       3834   \n",
       "11654  ORD PRE/3856/2005 ESP       3856   \n",
       "11655  ORD PRE/3929/2004 ESP       3929   \n",
       "11656   ORD PRE/402/2006 ESP        402   \n",
       "11657   ORD PRE/402/2008 CAT        402   \n",
       "11658   ORD PRE/456/2007 ESP        456   \n",
       "11659   ORD PRE/468/2008 ESP        468   \n",
       "11660   ORD PRE/473/2004 ESP        473   \n",
       "11661   ORD PRE/507/2008 ESP        507   \n",
       "11662    ORD PRE/52/2010 ESP  23/1/2010   \n",
       "11663   ORD PRE/531/2010 ESP        531   \n",
       "11664   ORD PRE/556/2005 ESP        556   \n",
       "11665   ORD PRE/568/2009 ESP        568   \n",
       "11666   ORD PRE/628/2011 ESP        628   \n",
       "11667   ORD PRE/629/2011 ESP        629   \n",
       "11668   ORD PRE/630/2011 ESP        630   \n",
       "11669   ORD PRE/631/2011 ESP        631   \n",
       "11670   ORD PRE/662/2013 ESP        662   \n",
       "11671   ORD PRE/675/2013 ESP        675   \n",
       "11672   ORD PRE/690/2005 ESP        690   \n",
       "11673   ORD PRE/696/2008 ESP        696   \n",
       "11674   ORD PRE/730/2003 ESP        730   \n",
       "11675    ORD PRE/77/2008 ESP         77   \n",
       "11676   ORD PRE/772/2016 ESP        772   \n",
       "11677   ORD PRE/777/2009 ESP        777   \n",
       "11678   ORD PRE/777/2011 ESP        777   \n",
       "11679   ORD PRE/839/2010 ESP        839   \n",
       "\n",
       "                                                  Titulo CodigoAmbito  Ambito  \\\n",
       "11629  Orden PRE/2827/2009, de 19 de octubre, por la ...          ESP  España   \n",
       "11630  Orden PRE/2843/2009, de 19 de octubre, por la ...          ESP  España   \n",
       "11631  Orden PRE/2851/2010, de 4 de noviembre, por la...          ESP  España   \n",
       "11632  Orden PRE/2871/2011, de 25 de octubre, por la ...          ESP  España   \n",
       "11633  Orden PRE/2872/2011, de 25 de octubre, por la ...          ESP  España   \n",
       "11634  Orden PRE/29/2004, de 15 de enero, por la que ...          ESP  España   \n",
       "11635  Orden PRE/2922/2005, de 19 de septiembre, por ...          ESP  España   \n",
       "11636  Orden PRE/2957/2008, de 10 de octubre, por la ...          ESP  España   \n",
       "11637  Orden PRE/3/2006, de 12 de enero, por la que s...          ESP  España   \n",
       "11638  Orden PRE/3159/2004, de 28 de septiembre, por ...          ESP  España   \n",
       "11639  Orden PRE/321/2009, de 13 de febrero, por la q...          ESP  España   \n",
       "11640  Orden PRE/3271/2011, de 25 de noviembre, por l...          ESP  España   \n",
       "11641  Orden PRE/3290/2002, de 23 de diciembre, por l...          ESP  España   \n",
       "11642  Orden PRE/3297/2004, de 13 de octubre, por la ...          ESP  España   \n",
       "11643  Orden PRE/3298/2004, de 13 de octubre, por la ...          ESP  España   \n",
       "11644  Orden PRE/3302/2006, de 27 de octubre, por la ...          ESP  España   \n",
       "11645  Orden PRE/3338/2007, de 15 de noviembre, por l...          ESP  España   \n",
       "11647  Orden PRE/3420/2007, de 14 de noviembre, por l...          ESP  España   \n",
       "11648  Orden PRE/3476/2003, de 9 de diciembre, por la...          ESP  España   \n",
       "11649  Orden PRE/3539/2008, de 28 de noviembre, por l...          ESP  España   \n",
       "11650  Orden PRE/370/2012, de 27 de febrero, por la q...          ESP  España   \n",
       "11651  Orden PRE/374/2008, de 31 de enero, por la que...          ESP  España   \n",
       "11652  Orden PRE/375/2003, de 24 de febrero, por la q...          ESP  España   \n",
       "11653  Orden PRE/3834/2005, de 9 de diciembre, por la...          ESP  España   \n",
       "11654  Orden PRE/3856/2005, de 12 de diciembre, por l...          ESP  España   \n",
       "11655  Orden PRE/3929/2004, de 30 de noviembre, por l...          ESP  España   \n",
       "11656  Orden PRE/402/2006, de 16 de febrero, por la q...          ESP  España   \n",
       "11657  Orden PRE/402/2008, de 28 de agosto, por la qu...          ESP  España   \n",
       "11658  Orden PRE/456/2007, de 28 de febrero, por la q...          ESP  España   \n",
       "11659  Orden PRE/468/2008, de 15 de febrero, por la q...          ESP  España   \n",
       "11660  Orden PRE/473/2004, de 25 de febrero, por la q...          ESP  España   \n",
       "11661  Orden PRE/507/2008, de 26 de febrero, por la q...          ESP  España   \n",
       "11662  Orden PRE/52/2010, de 21 de enero, por la que ...          ESP  España   \n",
       "11663  Orden PRE/531/2010, de 26 de febrero, por la q...          ESP  España   \n",
       "11664  Orden PRE/556/2005, de 10 de marzo, por la que...          ESP  España   \n",
       "11665  Orden PRE/568/2009, de 5 de marzo, por la que ...          ESP  España   \n",
       "11666  Orden PRE/628/2011, de 22 de marzo, por la que...          ESP  España   \n",
       "11667  Orden PRE/629/2011, de 22 de marzo, por la que...          ESP  España   \n",
       "11668  Orden PRE/630/2011, de 23 de marzo, por la que...          ESP  España   \n",
       "11669  Orden PRE/631/2011, de 23 de marzo, por la que...          ESP  España   \n",
       "11670  Orden PRE/662/2013, de 22 de abril, por la que...          ESP  España   \n",
       "11671  Orden PRE/675/2013, de 22 de abril, por la que...          ESP  España   \n",
       "11672  Orden PRE/690/2005, de 18 de marzo, por la que...          ESP  España   \n",
       "11673  Orden PRE/696/2008, de 7 de marzo, por la que ...          ESP  España   \n",
       "11674  Orden PRE/730/2003, de 25 de marzo, por la que...          ESP  España   \n",
       "11675  Orden PRE/77/2008, de 17 de enero, por la que ...          ESP  España   \n",
       "11676  Orden PRE/772/2016, de 19 de mayo, por la que ...          ESP  España   \n",
       "11677  Orden PRE/777/2009, de 26 de marzo, por la que...          ESP  España   \n",
       "11678  Orden PRE/777/2011, de 4 de abril, por la que ...          ESP  España   \n",
       "11679  Orden PRE/839/2010, de 29 de marzo, por la que...          ESP  España   \n",
       "\n",
       "      Municipio                TiposNorma IdTiposNorma  \\\n",
       "11629       NaN               M. Ambiente          [1]   \n",
       "11630       NaN  M. Ambiente / Prevención       [1][2]   \n",
       "11631       NaN  M. Ambiente / Prevención       [1][2]   \n",
       "11632       NaN  M. Ambiente / Prevención       [1][2]   \n",
       "11633       NaN  M. Ambiente / Prevención       [1][2]   \n",
       "11634       NaN               M. Ambiente          [1]   \n",
       "11635       NaN  M. Ambiente / Prevención       [1][2]   \n",
       "11636       NaN  M. Ambiente / Prevención       [1][2]   \n",
       "11637       NaN  M. Ambiente / Prevención       [1][2]   \n",
       "11638       NaN  M. Ambiente / Prevención       [1][2]   \n",
       "11639       NaN  M. Ambiente / Prevención       [1][2]   \n",
       "11640       NaN  M. Ambiente / Prevención       [1][2]   \n",
       "11641       NaN  M. Ambiente / Prevención       [1][2]   \n",
       "11642       NaN  M. Ambiente / Prevención       [1][2]   \n",
       "11643       NaN           Reg. Industrial          [3]   \n",
       "11644       NaN  M. Ambiente / Prevención       [1][2]   \n",
       "11645       NaN  M. Ambiente / Prevención       [1][2]   \n",
       "11647       NaN               M. Ambiente          [1]   \n",
       "11648       NaN  M. Ambiente / Prevención       [1][2]   \n",
       "11649       NaN               M. Ambiente          [1]   \n",
       "11650       NaN               M. Ambiente          [1]   \n",
       "11651       NaN  M. Ambiente / Prevención       [1][2]   \n",
       "11652       NaN  M. Ambiente / Prevención       [1][2]   \n",
       "11653       NaN               M. Ambiente          [1]   \n",
       "11654       NaN  M. Ambiente / Prevención       [1][2]   \n",
       "11655       NaN  M. Ambiente / Prevención       [1][2]   \n",
       "11656       NaN  M. Ambiente / Prevención       [1][2]   \n",
       "11657       NaN           Reg. Industrial          [3]   \n",
       "11658       NaN  M. Ambiente / Prevención       [1][2]   \n",
       "11659       NaN               M. Ambiente          [1]   \n",
       "11660       NaN  M. Ambiente / Prevención       [1][2]   \n",
       "11661       NaN  M. Ambiente / Prevención       [1][2]   \n",
       "11662       NaN            Seguridad Vial          [5]   \n",
       "11663       NaN  M. Ambiente / Prevención       [1][2]   \n",
       "11664       NaN  M. Ambiente / Prevención       [1][2]   \n",
       "11665       NaN                Prevención          [2]   \n",
       "11666       NaN          Seg. Alimentaria          [7]   \n",
       "11667         -            Seguridad Vial          [5]   \n",
       "11668       NaN  M. Ambiente / Prevención       [1][2]   \n",
       "11669       NaN  M. Ambiente / Prevención       [1][2]   \n",
       "11670       NaN  M. Ambiente / Prevención       [1][2]   \n",
       "11671       NaN  M. Ambiente / Prevención       [1][2]   \n",
       "11672       NaN  M. Ambiente / Prevención       [1][2]   \n",
       "11673       NaN  M. Ambiente / Prevención       [1][2]   \n",
       "11674       NaN  M. Ambiente / Prevención       [1][2]   \n",
       "11675       NaN               M. Ambiente          [1]   \n",
       "11676       NaN               M. Ambiente          [1]   \n",
       "11677       NaN  M. Ambiente / Prevención       [1][2]   \n",
       "11678       NaN  M. Ambiente / Prevención       [1][2]   \n",
       "11679       NaN  M. Ambiente / Prevención       [1][2]   \n",
       "\n",
       "                                                    Tags  \n",
       "11629      [Orden PRE/2827/2009, Real Decreto 1370/2006]  \n",
       "11630      [Orden PRE/2843/2009, Real Decreto 2163/1994]  \n",
       "11631      [Orden PRE/2851/2010, Real Decreto 2163/1994]  \n",
       "11632      [Orden PRE/2871/2011, Real Decreto 2163/1994]  \n",
       "11633      [Orden PRE/2872/2011, Real Decreto 2163/1994]  \n",
       "11634         [Orden PRE/29/2004, Real Decreto 837/2002]  \n",
       "11635  [Orden PRE/2922/2005, Orden de 8 de marzo de 1...  \n",
       "11636      [Orden PRE/2957/2008, Real Decreto 2163/1994]  \n",
       "11637          [Orden PRE/3/2006, Real Decreto 255/2003]  \n",
       "11638      [Orden PRE/3159/2004, Real Decreto 1406/1989]  \n",
       "11639       [Orden PRE/321/2009, Real Decreto 1054/2002]  \n",
       "11640      [Orden PRE/3271/2011, Real Decreto 1054/2002]  \n",
       "11641      [Orden PRE/3290/2002, Real Decreto 2163/1994]  \n",
       "11642      [Orden PRE/3297/2004, Real Decreto 2163/1994]  \n",
       "11643      [Orden PRE/3298/2004, Real Decreto 2822/1998]  \n",
       "11644      [Orden PRE/3302/2006, Real Decreto 2163/1994]  \n",
       "11645      [Orden PRE/3338/2007, Real Decreto 2163/1994]  \n",
       "11647                              [Orden PRE/3420/2007]  \n",
       "11648      [Orden PRE/3476/2003, Real Decreto 2163/1994]  \n",
       "11649                              [Orden PRE/3539/2008]  \n",
       "11650       [Orden PRE/370/2012, Real Decreto 1383/2002]  \n",
       "11651       [Orden PRE/374/2008, Real Decreto 1406/1989]  \n",
       "11652       [Orden PRE/375/2003, Real Decreto 1406/1989]  \n",
       "11653                              [Orden PRE/3834/2005]  \n",
       "11654      [Orden PRE/3856/2005, Real Decreto 2163/1994]  \n",
       "11655      [Orden PRE/3929/2004, Real Decreto 2163/1994]  \n",
       "11656           [Orden PRE/402/2006, Orden PRE/690/2005]  \n",
       "11657                               [Orden PRE/402/2008]  \n",
       "11658       [Orden PRE/456/2007, Real Decreto 2163/1994]  \n",
       "11659                               [Orden PRE/468/2008]  \n",
       "11660                               [Orden PRE/473/2004]  \n",
       "11661       [Orden PRE/507/2008, Real Decreto 1054/2002]  \n",
       "11662        [Orden PRE/52/2010, Real Decreto 2822/1998]  \n",
       "11663       [Orden PRE/531/2010, Real Decreto 2163/1994]  \n",
       "11664  [Orden PRE/556/2005, Orden PRE/473/2004, Real ...  \n",
       "11665        [Orden PRE/568/2009, Real Decreto 258/1999]  \n",
       "11666        [Orden PRE/628/2011, Real Decreto 866/2008]  \n",
       "11667       [Orden PRE/629/2011, Real Decreto 2822/1998]  \n",
       "11668        [Orden PRE/630/2011, Real Decreto 824/2005]  \n",
       "11669       [Orden PRE/631/2011, Real Decreto 2163/1994]  \n",
       "11670       [Orden PRE/662/2013, Real Decreto 1054/2002]  \n",
       "11671       [Orden PRE/675/2013, Real Decreto 1054/2002]  \n",
       "11672                               [Orden PRE/690/2005]  \n",
       "11673       [Orden PRE/696/2008, Real Decreto 2163/1994]  \n",
       "11674       [Orden PRE/730/2003, Real Decreto 1406/1989]  \n",
       "11675                                [Orden PRE/77/2008]  \n",
       "11676        [Orden PRE/772/2016, Real Decreto 219/2013]  \n",
       "11677       [Orden PRE/777/2009, Real Decreto 2163/1994]  \n",
       "11678       [Orden PRE/777/2011, Real Decreto 1054/2002]  \n",
       "11679       [Orden PRE/839/2010, Real Decreto 2163/1994]  "
      ],
      "text/html": "<div>\n<style scoped>\n    .dataframe tbody tr th:only-of-type {\n        vertical-align: middle;\n    }\n\n    .dataframe tbody tr th {\n        vertical-align: top;\n    }\n\n    .dataframe thead th {\n        text-align: right;\n    }\n</style>\n<table border=\"1\" class=\"dataframe\">\n  <thead>\n    <tr style=\"text-align: right;\">\n      <th></th>\n      <th>Codigo</th>\n      <th>Numero</th>\n      <th>Titulo</th>\n      <th>CodigoAmbito</th>\n      <th>Ambito</th>\n      <th>Municipio</th>\n      <th>TiposNorma</th>\n      <th>IdTiposNorma</th>\n      <th>Tags</th>\n    </tr>\n  </thead>\n  <tbody>\n    <tr>\n      <th>11629</th>\n      <td>ORD PRE/2827/2009 ESP</td>\n      <td>2827</td>\n      <td>Orden PRE/2827/2009, de 19 de octubre, por la ...</td>\n      <td>ESP</td>\n      <td>España</td>\n      <td>NaN</td>\n      <td>M. Ambiente</td>\n      <td>[1]</td>\n      <td>[Orden PRE/2827/2009, Real Decreto 1370/2006]</td>\n    </tr>\n    <tr>\n      <th>11630</th>\n      <td>ORD PRE/2843/2009 ESP</td>\n      <td>2843</td>\n      <td>Orden PRE/2843/2009, de 19 de octubre, por la ...</td>\n      <td>ESP</td>\n      <td>España</td>\n      <td>NaN</td>\n      <td>M. Ambiente / Prevención</td>\n      <td>[1][2]</td>\n      <td>[Orden PRE/2843/2009, Real Decreto 2163/1994]</td>\n    </tr>\n    <tr>\n      <th>11631</th>\n      <td>ORD PRE/2851/2010 ESP</td>\n      <td>2851</td>\n      <td>Orden PRE/2851/2010, de 4 de noviembre, por la...</td>\n      <td>ESP</td>\n      <td>España</td>\n      <td>NaN</td>\n      <td>M. Ambiente / Prevención</td>\n      <td>[1][2]</td>\n      <td>[Orden PRE/2851/2010, Real Decreto 2163/1994]</td>\n    </tr>\n    <tr>\n      <th>11632</th>\n      <td>ORD PRE/2871/2011 ESP</td>\n      <td>2871</td>\n      <td>Orden PRE/2871/2011, de 25 de octubre, por la ...</td>\n      <td>ESP</td>\n      <td>España</td>\n      <td>NaN</td>\n      <td>M. Ambiente / Prevención</td>\n      <td>[1][2]</td>\n      <td>[Orden PRE/2871/2011, Real Decreto 2163/1994]</td>\n    </tr>\n    <tr>\n      <th>11633</th>\n      <td>ORD PRE/2872/2011 ESP</td>\n      <td>2872</td>\n      <td>Orden PRE/2872/2011, de 25 de octubre, por la ...</td>\n      <td>ESP</td>\n      <td>España</td>\n      <td>NaN</td>\n      <td>M. Ambiente / Prevención</td>\n      <td>[1][2]</td>\n      <td>[Orden PRE/2872/2011, Real Decreto 2163/1994]</td>\n    </tr>\n    <tr>\n      <th>11634</th>\n      <td>ORD PRE/29/2004 ESP</td>\n      <td>29</td>\n      <td>Orden PRE/29/2004, de 15 de enero, por la que ...</td>\n      <td>ESP</td>\n      <td>España</td>\n      <td>NaN</td>\n      <td>M. Ambiente</td>\n      <td>[1]</td>\n      <td>[Orden PRE/29/2004, Real Decreto 837/2002]</td>\n    </tr>\n    <tr>\n      <th>11635</th>\n      <td>ORD PRE/2922/2005 ESP</td>\n      <td>2922</td>\n      <td>Orden PRE/2922/2005, de 19 de septiembre, por ...</td>\n      <td>ESP</td>\n      <td>España</td>\n      <td>NaN</td>\n      <td>M. Ambiente / Prevención</td>\n      <td>[1][2]</td>\n      <td>[Orden PRE/2922/2005, Orden de 8 de marzo de 1...</td>\n    </tr>\n    <tr>\n      <th>11636</th>\n      <td>ORD PRE/2957/2008 ESP</td>\n      <td>2957</td>\n      <td>Orden PRE/2957/2008, de 10 de octubre, por la ...</td>\n      <td>ESP</td>\n      <td>España</td>\n      <td>NaN</td>\n      <td>M. Ambiente / Prevención</td>\n      <td>[1][2]</td>\n      <td>[Orden PRE/2957/2008, Real Decreto 2163/1994]</td>\n    </tr>\n    <tr>\n      <th>11637</th>\n      <td>ORD PRE/3/2006 ESP</td>\n      <td>3</td>\n      <td>Orden PRE/3/2006, de 12 de enero, por la que s...</td>\n      <td>ESP</td>\n      <td>España</td>\n      <td>NaN</td>\n      <td>M. Ambiente / Prevención</td>\n      <td>[1][2]</td>\n      <td>[Orden PRE/3/2006, Real Decreto 255/2003]</td>\n    </tr>\n    <tr>\n      <th>11638</th>\n      <td>ORD PRE/3159/2004 ESP</td>\n      <td>3159</td>\n      <td>Orden PRE/3159/2004, de 28 de septiembre, por ...</td>\n      <td>ESP</td>\n      <td>España</td>\n      <td>NaN</td>\n      <td>M. Ambiente / Prevención</td>\n      <td>[1][2]</td>\n      <td>[Orden PRE/3159/2004, Real Decreto 1406/1989]</td>\n    </tr>\n    <tr>\n      <th>11639</th>\n      <td>ORD PRE/321/2009 ESP</td>\n      <td>321</td>\n      <td>Orden PRE/321/2009, de 13 de febrero, por la q...</td>\n      <td>ESP</td>\n      <td>España</td>\n      <td>NaN</td>\n      <td>M. Ambiente / Prevención</td>\n      <td>[1][2]</td>\n      <td>[Orden PRE/321/2009, Real Decreto 1054/2002]</td>\n    </tr>\n    <tr>\n      <th>11640</th>\n      <td>ORD PRE/3271/2011 ESP</td>\n      <td>3271</td>\n      <td>Orden PRE/3271/2011, de 25 de noviembre, por l...</td>\n      <td>ESP</td>\n      <td>España</td>\n      <td>NaN</td>\n      <td>M. Ambiente / Prevención</td>\n      <td>[1][2]</td>\n      <td>[Orden PRE/3271/2011, Real Decreto 1054/2002]</td>\n    </tr>\n    <tr>\n      <th>11641</th>\n      <td>ORD PRE/3290/2002 ESP</td>\n      <td>3290</td>\n      <td>Orden PRE/3290/2002, de 23 de diciembre, por l...</td>\n      <td>ESP</td>\n      <td>España</td>\n      <td>NaN</td>\n      <td>M. Ambiente / Prevención</td>\n      <td>[1][2]</td>\n      <td>[Orden PRE/3290/2002, Real Decreto 2163/1994]</td>\n    </tr>\n    <tr>\n      <th>11642</th>\n      <td>ORD PRE/3297/2004 ESP</td>\n      <td>3297</td>\n      <td>Orden PRE/3297/2004, de 13 de octubre, por la ...</td>\n      <td>ESP</td>\n      <td>España</td>\n      <td>NaN</td>\n      <td>M. Ambiente / Prevención</td>\n      <td>[1][2]</td>\n      <td>[Orden PRE/3297/2004, Real Decreto 2163/1994]</td>\n    </tr>\n    <tr>\n      <th>11643</th>\n      <td>ORD PRE/3298/2004 ESP</td>\n      <td>3298</td>\n      <td>Orden PRE/3298/2004, de 13 de octubre, por la ...</td>\n      <td>ESP</td>\n      <td>España</td>\n      <td>NaN</td>\n      <td>Reg. Industrial</td>\n      <td>[3]</td>\n      <td>[Orden PRE/3298/2004, Real Decreto 2822/1998]</td>\n    </tr>\n    <tr>\n      <th>11644</th>\n      <td>ORD PRE/3302/2006 ESP</td>\n      <td>3302</td>\n      <td>Orden PRE/3302/2006, de 27 de octubre, por la ...</td>\n      <td>ESP</td>\n      <td>España</td>\n      <td>NaN</td>\n      <td>M. Ambiente / Prevención</td>\n      <td>[1][2]</td>\n      <td>[Orden PRE/3302/2006, Real Decreto 2163/1994]</td>\n    </tr>\n    <tr>\n      <th>11645</th>\n      <td>ORD PRE/3338/2007 ESP</td>\n      <td>3338</td>\n      <td>Orden PRE/3338/2007, de 15 de noviembre, por l...</td>\n      <td>ESP</td>\n      <td>España</td>\n      <td>NaN</td>\n      <td>M. Ambiente / Prevención</td>\n      <td>[1][2]</td>\n      <td>[Orden PRE/3338/2007, Real Decreto 2163/1994]</td>\n    </tr>\n    <tr>\n      <th>11647</th>\n      <td>ORD PRE/3420/2007 ESP</td>\n      <td>3420</td>\n      <td>Orden PRE/3420/2007, de 14 de noviembre, por l...</td>\n      <td>ESP</td>\n      <td>España</td>\n      <td>NaN</td>\n      <td>M. Ambiente</td>\n      <td>[1]</td>\n      <td>[Orden PRE/3420/2007]</td>\n    </tr>\n    <tr>\n      <th>11648</th>\n      <td>ORD PRE/3476/2003 ESP</td>\n      <td>3476</td>\n      <td>Orden PRE/3476/2003, de 9 de diciembre, por la...</td>\n      <td>ESP</td>\n      <td>España</td>\n      <td>NaN</td>\n      <td>M. Ambiente / Prevención</td>\n      <td>[1][2]</td>\n      <td>[Orden PRE/3476/2003, Real Decreto 2163/1994]</td>\n    </tr>\n    <tr>\n      <th>11649</th>\n      <td>ORD PRE/3539/2008 ESP</td>\n      <td>3539</td>\n      <td>Orden PRE/3539/2008, de 28 de noviembre, por l...</td>\n      <td>ESP</td>\n      <td>España</td>\n      <td>NaN</td>\n      <td>M. Ambiente</td>\n      <td>[1]</td>\n      <td>[Orden PRE/3539/2008]</td>\n    </tr>\n    <tr>\n      <th>11650</th>\n      <td>ORD PRE/370/2012 ESP</td>\n      <td>370</td>\n      <td>Orden PRE/370/2012, de 27 de febrero, por la q...</td>\n      <td>ESP</td>\n      <td>España</td>\n      <td>NaN</td>\n      <td>M. Ambiente</td>\n      <td>[1]</td>\n      <td>[Orden PRE/370/2012, Real Decreto 1383/2002]</td>\n    </tr>\n    <tr>\n      <th>11651</th>\n      <td>ORD PRE/374/2008 ESP</td>\n      <td>374</td>\n      <td>Orden PRE/374/2008, de 31 de enero, por la que...</td>\n      <td>ESP</td>\n      <td>España</td>\n      <td>NaN</td>\n      <td>M. Ambiente / Prevención</td>\n      <td>[1][2]</td>\n      <td>[Orden PRE/374/2008, Real Decreto 1406/1989]</td>\n    </tr>\n    <tr>\n      <th>11652</th>\n      <td>ORD PRE/375/2003 ESP</td>\n      <td>375</td>\n      <td>Orden PRE/375/2003, de 24 de febrero, por la q...</td>\n      <td>ESP</td>\n      <td>España</td>\n      <td>NaN</td>\n      <td>M. Ambiente / Prevención</td>\n      <td>[1][2]</td>\n      <td>[Orden PRE/375/2003, Real Decreto 1406/1989]</td>\n    </tr>\n    <tr>\n      <th>11653</th>\n      <td>ORD PRE/3834/2005 ESP</td>\n      <td>3834</td>\n      <td>Orden PRE/3834/2005, de 9 de diciembre, por la...</td>\n      <td>ESP</td>\n      <td>España</td>\n      <td>NaN</td>\n      <td>M. Ambiente</td>\n      <td>[1]</td>\n      <td>[Orden PRE/3834/2005]</td>\n    </tr>\n    <tr>\n      <th>11654</th>\n      <td>ORD PRE/3856/2005 ESP</td>\n      <td>3856</td>\n      <td>Orden PRE/3856/2005, de 12 de diciembre, por l...</td>\n      <td>ESP</td>\n      <td>España</td>\n      <td>NaN</td>\n      <td>M. Ambiente / Prevención</td>\n      <td>[1][2]</td>\n      <td>[Orden PRE/3856/2005, Real Decreto 2163/1994]</td>\n    </tr>\n    <tr>\n      <th>11655</th>\n      <td>ORD PRE/3929/2004 ESP</td>\n      <td>3929</td>\n      <td>Orden PRE/3929/2004, de 30 de noviembre, por l...</td>\n      <td>ESP</td>\n      <td>España</td>\n      <td>NaN</td>\n      <td>M. Ambiente / Prevención</td>\n      <td>[1][2]</td>\n      <td>[Orden PRE/3929/2004, Real Decreto 2163/1994]</td>\n    </tr>\n    <tr>\n      <th>11656</th>\n      <td>ORD PRE/402/2006 ESP</td>\n      <td>402</td>\n      <td>Orden PRE/402/2006, de 16 de febrero, por la q...</td>\n      <td>ESP</td>\n      <td>España</td>\n      <td>NaN</td>\n      <td>M. Ambiente / Prevención</td>\n      <td>[1][2]</td>\n      <td>[Orden PRE/402/2006, Orden PRE/690/2005]</td>\n    </tr>\n    <tr>\n      <th>11657</th>\n      <td>ORD PRE/402/2008 CAT</td>\n      <td>402</td>\n      <td>Orden PRE/402/2008, de 28 de agosto, por la qu...</td>\n      <td>ESP</td>\n      <td>España</td>\n      <td>NaN</td>\n      <td>Reg. Industrial</td>\n      <td>[3]</td>\n      <td>[Orden PRE/402/2008]</td>\n    </tr>\n    <tr>\n      <th>11658</th>\n      <td>ORD PRE/456/2007 ESP</td>\n      <td>456</td>\n      <td>Orden PRE/456/2007, de 28 de febrero, por la q...</td>\n      <td>ESP</td>\n      <td>España</td>\n      <td>NaN</td>\n      <td>M. Ambiente / Prevención</td>\n      <td>[1][2]</td>\n      <td>[Orden PRE/456/2007, Real Decreto 2163/1994]</td>\n    </tr>\n    <tr>\n      <th>11659</th>\n      <td>ORD PRE/468/2008 ESP</td>\n      <td>468</td>\n      <td>Orden PRE/468/2008, de 15 de febrero, por la q...</td>\n      <td>ESP</td>\n      <td>España</td>\n      <td>NaN</td>\n      <td>M. Ambiente</td>\n      <td>[1]</td>\n      <td>[Orden PRE/468/2008]</td>\n    </tr>\n    <tr>\n      <th>11660</th>\n      <td>ORD PRE/473/2004 ESP</td>\n      <td>473</td>\n      <td>Orden PRE/473/2004, de 25 de febrero, por la q...</td>\n      <td>ESP</td>\n      <td>España</td>\n      <td>NaN</td>\n      <td>M. Ambiente / Prevención</td>\n      <td>[1][2]</td>\n      <td>[Orden PRE/473/2004]</td>\n    </tr>\n    <tr>\n      <th>11661</th>\n      <td>ORD PRE/507/2008 ESP</td>\n      <td>507</td>\n      <td>Orden PRE/507/2008, de 26 de febrero, por la q...</td>\n      <td>ESP</td>\n      <td>España</td>\n      <td>NaN</td>\n      <td>M. Ambiente / Prevención</td>\n      <td>[1][2]</td>\n      <td>[Orden PRE/507/2008, Real Decreto 1054/2002]</td>\n    </tr>\n    <tr>\n      <th>11662</th>\n      <td>ORD PRE/52/2010 ESP</td>\n      <td>23/1/2010</td>\n      <td>Orden PRE/52/2010, de 21 de enero, por la que ...</td>\n      <td>ESP</td>\n      <td>España</td>\n      <td>NaN</td>\n      <td>Seguridad Vial</td>\n      <td>[5]</td>\n      <td>[Orden PRE/52/2010, Real Decreto 2822/1998]</td>\n    </tr>\n    <tr>\n      <th>11663</th>\n      <td>ORD PRE/531/2010 ESP</td>\n      <td>531</td>\n      <td>Orden PRE/531/2010, de 26 de febrero, por la q...</td>\n      <td>ESP</td>\n      <td>España</td>\n      <td>NaN</td>\n      <td>M. Ambiente / Prevención</td>\n      <td>[1][2]</td>\n      <td>[Orden PRE/531/2010, Real Decreto 2163/1994]</td>\n    </tr>\n    <tr>\n      <th>11664</th>\n      <td>ORD PRE/556/2005 ESP</td>\n      <td>556</td>\n      <td>Orden PRE/556/2005, de 10 de marzo, por la que...</td>\n      <td>ESP</td>\n      <td>España</td>\n      <td>NaN</td>\n      <td>M. Ambiente / Prevención</td>\n      <td>[1][2]</td>\n      <td>[Orden PRE/556/2005, Orden PRE/473/2004, Real ...</td>\n    </tr>\n    <tr>\n      <th>11665</th>\n      <td>ORD PRE/568/2009 ESP</td>\n      <td>568</td>\n      <td>Orden PRE/568/2009, de 5 de marzo, por la que ...</td>\n      <td>ESP</td>\n      <td>España</td>\n      <td>NaN</td>\n      <td>Prevención</td>\n      <td>[2]</td>\n      <td>[Orden PRE/568/2009, Real Decreto 258/1999]</td>\n    </tr>\n    <tr>\n      <th>11666</th>\n      <td>ORD PRE/628/2011 ESP</td>\n      <td>628</td>\n      <td>Orden PRE/628/2011, de 22 de marzo, por la que...</td>\n      <td>ESP</td>\n      <td>España</td>\n      <td>NaN</td>\n      <td>Seg. Alimentaria</td>\n      <td>[7]</td>\n      <td>[Orden PRE/628/2011, Real Decreto 866/2008]</td>\n    </tr>\n    <tr>\n      <th>11667</th>\n      <td>ORD PRE/629/2011 ESP</td>\n      <td>629</td>\n      <td>Orden PRE/629/2011, de 22 de marzo, por la que...</td>\n      <td>ESP</td>\n      <td>España</td>\n      <td>-</td>\n      <td>Seguridad Vial</td>\n      <td>[5]</td>\n      <td>[Orden PRE/629/2011, Real Decreto 2822/1998]</td>\n    </tr>\n    <tr>\n      <th>11668</th>\n      <td>ORD PRE/630/2011 ESP</td>\n      <td>630</td>\n      <td>Orden PRE/630/2011, de 23 de marzo, por la que...</td>\n      <td>ESP</td>\n      <td>España</td>\n      <td>NaN</td>\n      <td>M. Ambiente / Prevención</td>\n      <td>[1][2]</td>\n      <td>[Orden PRE/630/2011, Real Decreto 824/2005]</td>\n    </tr>\n    <tr>\n      <th>11669</th>\n      <td>ORD PRE/631/2011 ESP</td>\n      <td>631</td>\n      <td>Orden PRE/631/2011, de 23 de marzo, por la que...</td>\n      <td>ESP</td>\n      <td>España</td>\n      <td>NaN</td>\n      <td>M. Ambiente / Prevención</td>\n      <td>[1][2]</td>\n      <td>[Orden PRE/631/2011, Real Decreto 2163/1994]</td>\n    </tr>\n    <tr>\n      <th>11670</th>\n      <td>ORD PRE/662/2013 ESP</td>\n      <td>662</td>\n      <td>Orden PRE/662/2013, de 22 de abril, por la que...</td>\n      <td>ESP</td>\n      <td>España</td>\n      <td>NaN</td>\n      <td>M. Ambiente / Prevención</td>\n      <td>[1][2]</td>\n      <td>[Orden PRE/662/2013, Real Decreto 1054/2002]</td>\n    </tr>\n    <tr>\n      <th>11671</th>\n      <td>ORD PRE/675/2013 ESP</td>\n      <td>675</td>\n      <td>Orden PRE/675/2013, de 22 de abril, por la que...</td>\n      <td>ESP</td>\n      <td>España</td>\n      <td>NaN</td>\n      <td>M. Ambiente / Prevención</td>\n      <td>[1][2]</td>\n      <td>[Orden PRE/675/2013, Real Decreto 1054/2002]</td>\n    </tr>\n    <tr>\n      <th>11672</th>\n      <td>ORD PRE/690/2005 ESP</td>\n      <td>690</td>\n      <td>Orden PRE/690/2005, de 18 de marzo, por la que...</td>\n      <td>ESP</td>\n      <td>España</td>\n      <td>NaN</td>\n      <td>M. Ambiente / Prevención</td>\n      <td>[1][2]</td>\n      <td>[Orden PRE/690/2005]</td>\n    </tr>\n    <tr>\n      <th>11673</th>\n      <td>ORD PRE/696/2008 ESP</td>\n      <td>696</td>\n      <td>Orden PRE/696/2008, de 7 de marzo, por la que ...</td>\n      <td>ESP</td>\n      <td>España</td>\n      <td>NaN</td>\n      <td>M. Ambiente / Prevención</td>\n      <td>[1][2]</td>\n      <td>[Orden PRE/696/2008, Real Decreto 2163/1994]</td>\n    </tr>\n    <tr>\n      <th>11674</th>\n      <td>ORD PRE/730/2003 ESP</td>\n      <td>730</td>\n      <td>Orden PRE/730/2003, de 25 de marzo, por la que...</td>\n      <td>ESP</td>\n      <td>España</td>\n      <td>NaN</td>\n      <td>M. Ambiente / Prevención</td>\n      <td>[1][2]</td>\n      <td>[Orden PRE/730/2003, Real Decreto 1406/1989]</td>\n    </tr>\n    <tr>\n      <th>11675</th>\n      <td>ORD PRE/77/2008 ESP</td>\n      <td>77</td>\n      <td>Orden PRE/77/2008, de 17 de enero, por la que ...</td>\n      <td>ESP</td>\n      <td>España</td>\n      <td>NaN</td>\n      <td>M. Ambiente</td>\n      <td>[1]</td>\n      <td>[Orden PRE/77/2008]</td>\n    </tr>\n    <tr>\n      <th>11676</th>\n      <td>ORD PRE/772/2016 ESP</td>\n      <td>772</td>\n      <td>Orden PRE/772/2016, de 19 de mayo, por la que ...</td>\n      <td>ESP</td>\n      <td>España</td>\n      <td>NaN</td>\n      <td>M. Ambiente</td>\n      <td>[1]</td>\n      <td>[Orden PRE/772/2016, Real Decreto 219/2013]</td>\n    </tr>\n    <tr>\n      <th>11677</th>\n      <td>ORD PRE/777/2009 ESP</td>\n      <td>777</td>\n      <td>Orden PRE/777/2009, de 26 de marzo, por la que...</td>\n      <td>ESP</td>\n      <td>España</td>\n      <td>NaN</td>\n      <td>M. Ambiente / Prevención</td>\n      <td>[1][2]</td>\n      <td>[Orden PRE/777/2009, Real Decreto 2163/1994]</td>\n    </tr>\n    <tr>\n      <th>11678</th>\n      <td>ORD PRE/777/2011 ESP</td>\n      <td>777</td>\n      <td>Orden PRE/777/2011, de 4 de abril, por la que ...</td>\n      <td>ESP</td>\n      <td>España</td>\n      <td>NaN</td>\n      <td>M. Ambiente / Prevención</td>\n      <td>[1][2]</td>\n      <td>[Orden PRE/777/2011, Real Decreto 1054/2002]</td>\n    </tr>\n    <tr>\n      <th>11679</th>\n      <td>ORD PRE/839/2010 ESP</td>\n      <td>839</td>\n      <td>Orden PRE/839/2010, de 29 de marzo, por la que...</td>\n      <td>ESP</td>\n      <td>España</td>\n      <td>NaN</td>\n      <td>M. Ambiente / Prevención</td>\n      <td>[1][2]</td>\n      <td>[Orden PRE/839/2010, Real Decreto 2163/1994]</td>\n    </tr>\n  </tbody>\n</table>\n</div>"
     },
     "metadata": {},
     "execution_count": 40
    }
   ],
   "source": [
    "ASECORP_BBDD_BOE[1200:1250]"
   ]
  },
  {
   "cell_type": "code",
   "execution_count": 41,
   "metadata": {},
   "outputs": [],
   "source": [
    "# titulo"
   ]
  },
  {
   "cell_type": "code",
   "execution_count": 42,
   "metadata": {},
   "outputs": [
    {
     "output_type": "execute_result",
     "data": {
      "text/plain": [
       "2959"
      ]
     },
     "metadata": {},
     "execution_count": 42
    }
   ],
   "source": [
    "len(titulo)"
   ]
  },
  {
   "cell_type": "code",
   "execution_count": 43,
   "metadata": {},
   "outputs": [],
   "source": [
    "## Busca patrones regex definidos en columna títulos del DF \n",
    "boletin = []\n",
    "for i, row in ASECORP_BBDD_BOE.iterrows():\n",
    "    boletin.append(str(re.findall('|'.join(pattern), row['Titulo'], flags=re.IGNORECASE)))"
   ]
  },
  {
   "cell_type": "code",
   "execution_count": 44,
   "metadata": {},
   "outputs": [
    {
     "output_type": "execute_result",
     "data": {
      "text/plain": [
       "['[]',\n",
       " '[]',\n",
       " '[]',\n",
       " '[]',\n",
       " '[]',\n",
       " '[]',\n",
       " '[]',\n",
       " '[]',\n",
       " '[]',\n",
       " '[]',\n",
       " '[]',\n",
       " '[]',\n",
       " '[]',\n",
       " '[]',\n",
       " '[]',\n",
       " \"['Acuerdo Multilateral M-150']\",\n",
       " \"['Acuerdo Multilateral M-159']\",\n",
       " \"['Acuerdo multilateral M-168']\",\n",
       " \"['Acuerdo Multilateral M-170']\",\n",
       " \"['Acuerdo Multilateral M-171']\",\n",
       " \"['Acuerdo Multilateral M-173']\",\n",
       " \"['Acuerdo Multilateral M-175']\",\n",
       " '[]',\n",
       " \"['Acuerdo Multilateral M-178']\",\n",
       " \"['Acuerdo Multilateral M-198']\"]"
      ]
     },
     "metadata": {},
     "execution_count": 44
    }
   ],
   "source": [
    "boletin[0:25]"
   ]
  },
  {
   "cell_type": "code",
   "execution_count": 45,
   "metadata": {},
   "outputs": [],
   "source": [
    "## Para cada fila de la BBDD recoge la expresión REGEX encontrada y si no existe no la incluye \n",
    "## en la lista resultante llamada 'boletin'. Además si no detecta expresión la cuenta como vacía\n",
    "## en variable 'n_vacios', y la añade a la lista 'vacios' para inspeccionar posteriormente \n",
    "boletin = []\n",
    "vacios = []\n",
    "n_vacios = 0\n",
    "for i, row in ASECORP_BBDD_BOE.iterrows():\n",
    "    regex_result = re.findall('|'.join(pattern), row['Titulo'], flags=re.IGNORECASE)\n",
    "    if len(regex_result) != 0:\n",
    "        boletin.append(re.findall('|'.join(pattern), row['Titulo'], flags=re.IGNORECASE))\n",
    "    else:\n",
    "        n_vacios += 1\n",
    "        vacios.append(row['Titulo'])"
   ]
  },
  {
   "cell_type": "code",
   "execution_count": 46,
   "metadata": {},
   "outputs": [
    {
     "output_type": "execute_result",
     "data": {
      "text/plain": [
       "276"
      ]
     },
     "metadata": {},
     "execution_count": 46
    }
   ],
   "source": [
    "n_vacios"
   ]
  },
  {
   "cell_type": "code",
   "execution_count": 47,
   "metadata": {},
   "outputs": [
    {
     "output_type": "execute_result",
     "data": {
      "text/plain": [
       "['Acuerdo Multilateral RID 1/2020 en virtud de la Sección 1.5.1 del Reglamento del Transporte Internacional de Mercancías Peligrosas por Ferrocarril (RID), relativo a los certificados de consejeros de seguridad de conformidad con el punto 1.8.3.7 del RID, hecho en Madrid el 25 de marzo de 2020',\n",
       " 'Entrada en vigor del Acuerdo entre el Reino de España y el Principado de Andorra sobre traslado y gestión de residuos, hecho en Madrid el 17 de octubre de 2006.',\n",
       " 'Aplicación provisional del Acuerdo entre el Reino de España y el Principado de Andorra sobre traslado y gestión de residuos, hecho en Madrid el 17 de octubre de 2006.',\n",
       " 'Acuerdo de la Junta de Gobierno de la Confederación Hidrográfica del Segura celebrada el día 30 de octubre de 2018 sobre aplicación de indisponibilidad o reducción de dotaciones de acuerdo al Plan Especial de Sequía y al Real Decreto que la regula',\n",
       " 'Acuerdo Multilateral RID 2/2020 en virtud de la Sección 1.5.1 del Reglamento del Transporte Internacional de Mercancías Peligrosas por Ferrocarril (RID), relativo a inspecciones periódicas o intermedias de cisternas de conformidad con los apartados 6.8.2.4.2, 6.8.2.4.3, 6.8.3.4.6, 6.8.3.4.12, 6.9.5.2 y 6.10.4 del RID, hecho en Madrid el 25 de marzo de 2020',\n",
       " 'Entrada en vigor del Acuerdo entre el Reino de España y el Principado de Andorra sobre el traslado de residuos, hecho en Madrid el 29 de noviembre de 2011.',\n",
       " 'Acuerdo Multilateral RID 1/2013 en aplicación de la Sección 1.5.1 del Reglamento del Transporte Internacional de Mercancías Peligrosas por Ferrocarril (RID), relativo al cambio de referencia a la norma EN ISO/IEC 17020:2004 por la referencia a la norma EN ISO/IEC 17020:2012 (excepto cláusula 8.1.3), hecho en Madrid el 26 de junio de 2013.',\n",
       " 'Canje de Notas por el que se procede a la prórroga del mantenimiento en vigor del Acuerdo entre el Reino de España y el Principado de Andorra sobre traslado y gestión de residuos, hecho en Madrid el 27 de enero de 2000.',\n",
       " 'Aplicación provisional del Acuerdo entre el Reino de España y el Principado de Andorra sobre el traslado de residuos, hecho en Madrid el 29 de noviembre de 2011.',\n",
       " 'Plan de Acción de Ahorro y Eficiencia Energética  2011-2020, del 29 de julio de 2011 (IDAE)',\n",
       " 'Acuerdo Especial Multilateral RID 3/2020 en virtud de la Sección 1.5.1 del Reglamento del Transporte Internacional de Mercancías Peligrosas por Ferrocarril (RID), relativo a la inspección periódica y ensayo de recipientes a presión para el transporte de gases de la Clase 2, hecho en Madrid el 2 de abril de 2020',\n",
       " 'Acuerdo Multilateral RID 3/2007 en virtud de la Sección 1.5.1. del Reglamento del Transporte Internacional de Mercancías Peligrosas por Ferrocarril (RID), (publicado en el «Boletín Oficial del Estado» nº 59 de 9 de marzo de 2007) relativo al transporte de acuerdo con la disposición especial de embalaje PP1 de la instrucción de embalaje P001, hecho en Madrid el 30 de abril de 2008.',\n",
       " 'Acuerdo Multilateral RID 4/2009 en virtud de la Sección 1.5.1. del Reglamento del Transporte Internacional de Mercancías Peligrosas por Ferrocarril (RID), (publicado en el «Boletín Oficial del Estado» n.º 59 de 9 de marzo de 2007) relativo a las placas naranja para fijarse al vagón transportista usado para el transporte carretera-ferrocarril (ferroutage), hecho en Madrid a 14 de junio de 2010.',\n",
       " 'Acuerdo Especial Multilateral RID 4/2020 en virtud de la Sección 1.5.1 del Reglamento del Transporte Internacional de Mercancías Peligrosas por Ferrocarril (RID), sobre inspecciones periódicas o intermedias de cisternas portátiles y contenedores de gas de elementos múltiples (CGEM) certificados «UN» de acuerdo con los apartados 6.7.2.19.2, 6.7.3.15.2, 6.7.4.14.2 y 6.7.5.12.2 del RID, hecho en Madrid el 2 de abril de 2020',\n",
       " 'Acuerdo Especial Multilateral RID 8.2020 en virtud de la sección 1.5.1 del RID, relativo a la inspección periódica y ensayo de recipientes a presión para el transporte de gases de la Clase 2, hecho en Madrid el 1 de diciembre de 2020',\n",
       " 'Acuerdo multilateral ADR M-177 en virtud de la sección 1.5.1 del Acuerdo Europeo sobre transporte internacional de mercancías peligrosas por carretera (ADR), publicado en el «Boletín Oficial del Estado» n.º 18, de 21 de enero de 2005, relativo al documento de transporte en operaciones de venta en ruta, hecho en Madrid el 23 de junio de 2006.',\n",
       " 'Acuerdo Multilateral M 269 en aplicación de la sección 1.5.1 del Acuerdo Europeo sobre transporte internacional de mercancías peligrosas por carretera (ADR), relativo al marcado de los números UN en botellas para gases licuados del petróleo (GLP), hecho en Madrid el 20 de diciembre de 2013.',\n",
       " 'Acuerdo  Multilateral  M  300  en  aplicación  de  la  sección  1.5.1  del  Acuerdo Europeo sobre transporte internacional de mercancías peligrosas por carretera (ADR), relativo al documento de transporte en operaciones de venta en ruta, hecho en Madrid el 11 de julio de 2016',\n",
       " 'Acuerdo Multilateral M 304 en aplicación de la sección 1.5.1 del AcuerdoEuropeo sobre transporte internacional de mercancías peligrosas por carretera(ADR), relativo al número de remolques en una unidad de transporte demercancías peligrosas, hecho en Madrid el 30 de enero de 2017',\n",
       " 'Acuerdo Multilateral M 311 en virtud de la sección 1.5.1 del Anexo A del Acuerdo Europeo sobre transporte internacional de mercancías peligrosas por carretera (ADR), relativo al marcado (placas etiqueta) de contenedores usados exclusivamente en una operación de transporte por carretera, hecho en Madrid el 22 de marzo de 2018',\n",
       " 'Acuerdo Multilateral M315 en virtud de la sección 1.5.1 del Anexo A del Acuerdo Europeo sobre transporte internacional de mercancías peligrosas por carretera (ADR), relativo al transporte de desechos contaminados con virus que causan fiebre hemorrágica, hecho en Madrid el 8 de julio de 2019',\n",
       " 'Acuerdo Multilateral M317 en virtud de la sección 1.5. del Acuerdo europeo sobre transporte internacional de mercancías peligrosas por carretera (ADR), relativo al transporte de desechos médicos sólidos o clínicos, Categoría A, hecho en Madrid el 23 de marzo de 2020',\n",
       " 'Acuerdo Multilateral M324 en virtud de la sección 1.5.1 del Acuerdo europeo sobre transporte internacional de mercancías peligrosas por carretera (ADR) relativo a los certificados de formación de los conductores de conformidad con el punto 8.2.2.8.2 del ADR y los certificados de consejeros de seguridad de conformidad con el punto 1.8.3.7 del ADR, hecho en Madrid el 23 de marzo de 2020',\n",
       " 'Acuerdo Multilateral M325 en virtud de la sección 1.5.1 del Acuerdo europeo sobre transporte internacional de mercancías peligrosas por carretera (ADR), relativo a inspecciones periódicas o intermedias de cisternas de conformidad con los apartados 6.8.2.4.2, 6.8.2.4.3, 6.8.3.4.6, 6.8.3.4.12, 6.9.5.2 y 6.10.4 del ADR, y los certificados de aprobación para vehículos de conformidad con el apartado 9.1.3.4 del ADR, hecho en Madrid el 23 de marzo de 2020',\n",
       " 'Acuerdo Multilateral M326 en virtud de la sección 1.5.1 del Acuerdo europeo sobre transporte internacional de mercancías peligrosas por carretera (ADR), relativo a la inspección periódica y ensayo de recipientes a presión del transporte de gases de la Clase 2, hecho en Madrid el 2 de abril de 2020']"
      ]
     },
     "metadata": {},
     "execution_count": 47
    }
   ],
   "source": [
    "vacios[0:25]"
   ]
  },
  {
   "cell_type": "code",
   "execution_count": 48,
   "metadata": {},
   "outputs": [
    {
     "output_type": "execute_result",
     "data": {
      "text/plain": [
       "[['Acuerdo Multilateral M-150'],\n",
       " ['Acuerdo Multilateral M-159'],\n",
       " ['Acuerdo multilateral M-168'],\n",
       " ['Acuerdo Multilateral M-170'],\n",
       " ['Acuerdo Multilateral M-171'],\n",
       " ['Acuerdo Multilateral M-173'],\n",
       " ['Acuerdo Multilateral M-175'],\n",
       " ['Acuerdo Multilateral M-178'],\n",
       " ['Acuerdo Multilateral M-198'],\n",
       " ['Acuerdo Multilateral M-214'],\n",
       " ['Acuerdo Multilateral M-218'],\n",
       " ['Acuerdo Multilateral M-226'],\n",
       " ['Acuerdo Multilateral M-228'],\n",
       " ['Acuerdo Multilateral M-231'],\n",
       " ['Acuerdo Multilateral M-236'],\n",
       " ['Acuerdo Multilateral M-245'],\n",
       " ['Acuerdo Multilateral M-254'],\n",
       " ['Acuerdo Multilateral M-259'],\n",
       " ['Acuerdo Multilateral M-265'],\n",
       " ['Acuerdo Multilateral M-268'],\n",
       " ['Acuerdo Multilateral M-271'],\n",
       " ['Acuerdo Multilateral M-273'],\n",
       " ['Acuerdo Multilateral M-276'],\n",
       " ['Acuerdo Multilateral M-291'],\n",
       " ['Acuerdo Multilateral M-292']]"
      ]
     },
     "metadata": {},
     "execution_count": 48
    }
   ],
   "source": [
    "boletin[0:25]"
   ]
  },
  {
   "cell_type": "code",
   "execution_count": 49,
   "metadata": {},
   "outputs": [],
   "source": [
    "# Flatten list of lists\n",
    "boletin_ASECORP_flat_list = [item for sublist in boletin for item in sublist]"
   ]
  },
  {
   "cell_type": "code",
   "execution_count": 50,
   "metadata": {},
   "outputs": [
    {
     "output_type": "execute_result",
     "data": {
      "text/plain": [
       "['Acuerdo Multilateral M-150',\n",
       " 'Acuerdo Multilateral M-159',\n",
       " 'Acuerdo multilateral M-168',\n",
       " 'Acuerdo Multilateral M-170',\n",
       " 'Acuerdo Multilateral M-171',\n",
       " 'Acuerdo Multilateral M-173',\n",
       " 'Acuerdo Multilateral M-175',\n",
       " 'Acuerdo Multilateral M-178',\n",
       " 'Acuerdo Multilateral M-198',\n",
       " 'Acuerdo Multilateral M-214',\n",
       " 'Acuerdo Multilateral M-218',\n",
       " 'Acuerdo Multilateral M-226',\n",
       " 'Acuerdo Multilateral M-228',\n",
       " 'Acuerdo Multilateral M-231',\n",
       " 'Acuerdo Multilateral M-236',\n",
       " 'Acuerdo Multilateral M-245',\n",
       " 'Acuerdo Multilateral M-254',\n",
       " 'Acuerdo Multilateral M-259',\n",
       " 'Acuerdo Multilateral M-265',\n",
       " 'Acuerdo Multilateral M-268',\n",
       " 'Acuerdo Multilateral M-271',\n",
       " 'Acuerdo Multilateral M-273',\n",
       " 'Acuerdo Multilateral M-276',\n",
       " 'Acuerdo Multilateral M-291',\n",
       " 'Acuerdo Multilateral M-292']"
      ]
     },
     "metadata": {},
     "execution_count": 50
    }
   ],
   "source": [
    "boletin_ASECORP_flat_list[0:25]"
   ]
  },
  {
   "cell_type": "code",
   "execution_count": 51,
   "metadata": {},
   "outputs": [],
   "source": [
    "## Elimina duplicados\n",
    "boletin_ASECORP_flat_list = list(set(boletin_ASECORP_flat_list))"
   ]
  },
  {
   "cell_type": "code",
   "execution_count": 52,
   "metadata": {},
   "outputs": [
    {
     "output_type": "execute_result",
     "data": {
      "text/plain": [
       "['Real Decreto 578/2014',\n",
       " 'Real Decreto Legislativo 8/2015',\n",
       " 'Acuerdo Multilateral M-236',\n",
       " 'Real Decreto 1477/1990',\n",
       " 'Orden INT/2850/2011',\n",
       " 'Real Decreto 942/2005',\n",
       " 'Resolución de 4 de noviembre de 1982',\n",
       " 'Orden PRE/1131/2011',\n",
       " 'Real Decreto-ley 6/2009',\n",
       " 'Orden ITC/1251/2009',\n",
       " 'Real Decreto 1598/2011',\n",
       " 'Resolución de 10 de enero de 2020',\n",
       " 'Acuerdo Multilateral M-259',\n",
       " 'Orden FOM/534/2014',\n",
       " 'Real Decreto 1330/2012',\n",
       " 'Real decreto 1841/1997',\n",
       " 'Ley 30/2007',\n",
       " 'Acuerdo Multilateral M-157',\n",
       " 'Real Decreto 294/2016',\n",
       " 'Orden de 30 de abril de 2020',\n",
       " 'Ley 38/1994',\n",
       " 'Resolución de 31 de agosto de 2015',\n",
       " 'Orden MAM/638/2002',\n",
       " 'Resolución de 11 de febrero de 2014',\n",
       " 'Orden de 28 de octubre de 1992']"
      ]
     },
     "metadata": {},
     "execution_count": 52
    }
   ],
   "source": [
    "boletin_ASECORP_flat_list[0:25]"
   ]
  },
  {
   "cell_type": "code",
   "execution_count": 53,
   "metadata": {},
   "outputs": [
    {
     "output_type": "execute_result",
     "data": {
      "text/plain": [
       "{'Real Decreto 463/2020'}"
      ]
     },
     "metadata": {},
     "execution_count": 53
    }
   ],
   "source": [
    "## Busca coincidencias entre lista boletines BOEs explorados y lista boletines de BBDD ASECORP\n",
    "set(boletin_flat_list) & set(boletin_ASECORP_flat_list)"
   ]
  },
  {
   "cell_type": "code",
   "execution_count": 54,
   "metadata": {},
   "outputs": [
    {
     "output_type": "stream",
     "name": "stdout",
     "text": [
      "{'Real Decreto 463/2020'}\n{'Real Decreto 463/2020'}\n"
     ]
    }
   ],
   "source": [
    "#tabla_analisis['Tags'].isin(ASECORP_BBDD_BOE['Tags'])\n",
    "for row_to_compare in tabla_analisis['Tags']:\n",
    "    for row_comparing in ASECORP_BBDD_BOE['Tags']:\n",
    "        if set(row_comparing) & set(row_to_compare):\n",
    "            print(set(row_comparing) & set(row_to_compare))"
   ]
  },
  {
   "cell_type": "code",
   "execution_count": 55,
   "metadata": {},
   "outputs": [
    {
     "output_type": "stream",
     "name": "stdout",
     "text": [
      "{'Real Decreto 463/2020'} ORD INT/262/2020 ESP\n{'Real Decreto 463/2020'} ORD INT/284/2020 ESP\n"
     ]
    }
   ],
   "source": [
    "for i, row_to_compare in tabla_analisis.iterrows():\n",
    "    for j, row_comparing in ASECORP_BBDD_BOE.iterrows():\n",
    "        if set(row_to_compare['Tags']) & set(row_comparing['Tags']):\n",
    "            tabla_analisis['Match_ASECORP_BBDD'][i].append (ASECORP_BBDD_BOE['Codigo'][j])\n",
    "            print(str(set(row_to_compare['Tags']) & set(row_comparing['Tags'])) + ' ' + str(row_comparing['Codigo']))"
   ]
  },
  {
   "cell_type": "code",
   "execution_count": 56,
   "metadata": {},
   "outputs": [
    {
     "output_type": "execute_result",
     "data": {
      "text/plain": [
       "                                              Alertas Fecha_publicacion  \\\n",
       "0                                    [Cultura y ocio]        2021-02-24   \n",
       "1                                                  []        2021-02-24   \n",
       "2                                                  []        2021-02-24   \n",
       "3                                                  []        2021-02-24   \n",
       "4                                                  []        2021-02-24   \n",
       "5                                                  []        2021-02-24   \n",
       "6                                [Sistema financiero]        2021-02-24   \n",
       "7                 [Organización de la Administración]        2021-02-24   \n",
       "8   [Ganadería y animales, Tecnología e investigac...        2021-02-24   \n",
       "9                                           [Deporte]        2021-02-24   \n",
       "10                                                 []        2021-02-24   \n",
       "11                                                 []        2021-02-24   \n",
       "12                                                 []        2021-02-24   \n",
       "13                        [Asuntos sociales, Sanidad]        2021-02-24   \n",
       "14                                  [Función Pública]        2021-02-24   \n",
       "15                                                 []        2021-02-24   \n",
       "16                                                 []        2021-02-24   \n",
       "17                                                 []        2021-02-24   \n",
       "18        [Administración de Justicia, Derecho Penal]        2021-02-24   \n",
       "19  [Asuntos sociales, Derecho Administrativo, Org...        2021-02-24   \n",
       "20                                                 []        2021-02-24   \n",
       "21                                                 []        2021-02-24   \n",
       "22                                                 []        2021-02-24   \n",
       "23                                                 []        2021-02-24   \n",
       "24  [Administración electrónica, Asuntos sociales,...        2021-02-24   \n",
       "25        [Relaciones internacionales, Unión Europea]        2021-02-24   \n",
       "26                                                 []        2021-02-24   \n",
       "27                                                 []        2021-02-24   \n",
       "\n",
       "                                            Item_Name            Item_id  \\\n",
       "0   [Decreto 102/2020, de 9 de diciembre, por el q...  [BOE-A-2021-2898]   \n",
       "1   [Resolución de 2 de febrero de 2021, de la Sec...  [BOE-A-2021-2888]   \n",
       "2   [Resolución de 2 de febrero de 2021, de la Sec...  [BOE-A-2021-2889]   \n",
       "3   [Ley 8/2020, de 16 de octubre, por la que se c...  [BOE-A-2021-2848]   \n",
       "4   [Ley 9/2020, de 6 de noviembre, de Patrimonio ...  [BOE-A-2021-2849]   \n",
       "5   [Resolución de 15 de febrero de 2021, de la En...  [BOE-A-2021-2887]   \n",
       "6   [Resolución de 11 de febrero de 2021, de la Di...  [BOE-A-2021-2893]   \n",
       "7   [Real Decreto 117/2021, de 23 de febrero, por ...  [BOE-A-2021-2844]   \n",
       "8   [Real Decreto 118/2021, de 23 de febrero, por ...  [BOE-A-2021-2845]   \n",
       "9   [Resolución de 12 de febrero de 2021, de la Pr...  [BOE-A-2021-2892]   \n",
       "10  [Resolución de 11 de febrero de 2021, de la Se...  [BOE-A-2021-2886]   \n",
       "11  [Resolución de 16 de febrero de 2021, de la Di...  [BOE-A-2021-2890]   \n",
       "12  [Resolución de 18 de febrero de 2021, de la Di...  [BOE-A-2021-2884]   \n",
       "13  [Corrección de errores del Decreto-ley 51/2020...  [BOE-A-2021-2847]   \n",
       "14  [Orden TFP/153/2021, de 16 de febrero, por la ...  [BOE-A-2021-2846]   \n",
       "15  [Resolución de 11 de febrero de 2021, de la Su...  [BOE-A-2021-2885]   \n",
       "16  [Resolución de 3 de febrero de 2021, de la Sub...  [BOE-A-2021-2891]   \n",
       "17  [Orden ETD/155/2021, de 9 de febrero, de autor...  [BOE-A-2021-2895]   \n",
       "18  [Acuerdo de 18 de febrero de 2021, de la Comis...  [BOE-A-2021-2881]   \n",
       "19  [Resolución de 18 de febrero de 2021, del Cong...  [BOE-A-2021-2842]   \n",
       "20  [Enmiendas de 2018 al Código internacional de ...  [BOE-A-2021-2843]   \n",
       "21  [Orden ETD/154/2021, de 9 de febrero, de autor...  [BOE-A-2021-2894]   \n",
       "22  [Resolución 420/38047/2021, de 17 de febrero, ...  [BOE-A-2021-2882]   \n",
       "23  [Resolución de 23 de febrero de 2021, del Banc...  [BOE-A-2021-2896]   \n",
       "24  [Resolución de 18 de febrero de 2021, del Cong...  [BOE-A-2021-2841]   \n",
       "25  [Instrumento de ratificación del Acuerdo de as...  [BOE-A-2021-2840]   \n",
       "26  [Resolución de 11 de febrero de 2021, de la Co...  [BOE-A-2021-2897]   \n",
       "27  [Resolución 431/38043/2021, de 12 de febrero, ...  [BOE-A-2021-2883]   \n",
       "\n",
       "                                             Materias  \\\n",
       "0                                                  []   \n",
       "1                                                  []   \n",
       "2                                                  []   \n",
       "3   [Castilla La Mancha, Consumidores y usuarios, ...   \n",
       "4   [Castilla La Mancha, Organización de las Comun...   \n",
       "5                                                  []   \n",
       "6                                                  []   \n",
       "7   [Consejo de Fomento de la Economía Social, Min...   \n",
       "8   [Acceso a la información, Animales, Comisión E...   \n",
       "9   [Asociaciones deportivas, Federación Española ...   \n",
       "10                                                 []   \n",
       "11                                                 []   \n",
       "12                                                 []   \n",
       "13  [Ancianos, Asistencia sanitaria, Asistencia so...   \n",
       "14  [Funcionarios de la Administración Local, Opos...   \n",
       "15                                                 []   \n",
       "16                                                 []   \n",
       "17                                                 []   \n",
       "18  [Administración de Justicia, Barcelona, Demarc...   \n",
       "19  [Accidentes de trabajo y enfermedades profesio...   \n",
       "20                                                 []   \n",
       "21                                                 []   \n",
       "22                                                 []   \n",
       "23                                                 []   \n",
       "24  [Administración electrónica, Arrendamientos ur...   \n",
       "25  [Acuerdo de Asociación CE, Acuerdos internacio...   \n",
       "26                                                 []   \n",
       "27                                                 []   \n",
       "\n",
       "                                          Referencias  \\\n",
       "0                                                  []   \n",
       "1                                                  []   \n",
       "2                                                  []   \n",
       "3                 [BOE-A-1982-20820, BOE-A-2020-3692]   \n",
       "4   [BOE-A-1985-26400, ---, BOE-A-2006-11292, BOE-...   \n",
       "5                                                  []   \n",
       "6                                                  []   \n",
       "7   [BOE-A-2001-5061, BOE-A-2011-5708, BOE-A-2007-...   \n",
       "8                                   [BOE-A-2013-1337]   \n",
       "9                                                  []   \n",
       "10                                                 []   \n",
       "11                                                 []   \n",
       "12                                                 []   \n",
       "13                [BOE-A-2021-1479, BOE-A-2020-15840]   \n",
       "14                                                 []   \n",
       "15                                                 []   \n",
       "16                                                 []   \n",
       "17                                                 []   \n",
       "18                                  [BOE-A-2019-2160]   \n",
       "19                                  [BOE-A-2021-1529]   \n",
       "20                                                 []   \n",
       "21                                                 []   \n",
       "22                                                 []   \n",
       "23                                                 []   \n",
       "24                                                 []   \n",
       "25                                                 []   \n",
       "26                                                 []   \n",
       "27                                                 []   \n",
       "\n",
       "                                  Referencias_palabra  \\\n",
       "0                                                  []   \n",
       "1                                                  []   \n",
       "2                                                  []   \n",
       "3                          [DE CONFORMIDAD con, CITA]   \n",
       "4      [DEROGA, DEROGA, MODIFICA, DE CONFORMIDAD con]   \n",
       "5                                                  []   \n",
       "6                                                  []   \n",
       "7   [MODIFICA, DE CONFORMIDAD con, DE CONFORMIDAD ...   \n",
       "8                                          [MODIFICA]   \n",
       "9                                                  []   \n",
       "10                                                 []   \n",
       "11                                                 []   \n",
       "12                                                 []   \n",
       "13           [CORRECCIÓN de errores, CORRIGE errores]   \n",
       "14                                                 []   \n",
       "15                                                 []   \n",
       "16                                                 []   \n",
       "17                                                 []   \n",
       "18                                         [PRORROGA]   \n",
       "19                [PUBLICA  Acuerdo de convalidación]   \n",
       "20                                                 []   \n",
       "21                                                 []   \n",
       "22                                                 []   \n",
       "23                                                 []   \n",
       "24                                                 []   \n",
       "25                                                 []   \n",
       "26                                                 []   \n",
       "27                                                 []   \n",
       "\n",
       "                                    Referencias_texto  \\\n",
       "0                                                  []   \n",
       "1                                                  []   \n",
       "2                                                  []   \n",
       "3   [el Estatuto aprobado por por Ley Orgánica 9/1...   \n",
       "4   [la Ley 6/1985, de 13 de noviembre, en la form...   \n",
       "5                                                  []   \n",
       "6                                                  []   \n",
       "7   [los arts. 1, 2, 3, 4, 8, 12 y 13, la disposic...   \n",
       "8   [los arts. 34.2.e), 36, 41.4 del Real Decreto ...   \n",
       "9                                                  []   \n",
       "10                                                 []   \n",
       "11                                                 []   \n",
       "12                                                 []   \n",
       "13  [del Decreto-ley 51/2020, de 15 de diciembre, ...   \n",
       "14                                                 []   \n",
       "15                                                 []   \n",
       "16                                                 []   \n",
       "17                                                 []   \n",
       "18  [lo indicado del Acuerdo de 14 de febrero de 2...   \n",
       "19     [del Real Decreto-ley 3/2021, de 2 de febrero]   \n",
       "20                                                 []   \n",
       "21                                                 []   \n",
       "22                                                 []   \n",
       "23                                                 []   \n",
       "24                                                 []   \n",
       "25                                                 []   \n",
       "26                                                 []   \n",
       "27                                                 []   \n",
       "\n",
       "                                Referencias_completas  \\\n",
       "0                                                  []   \n",
       "1                                                  []   \n",
       "2                                                  []   \n",
       "3   [DE CONFORMIDAD con el Estatuto aprobado por p...   \n",
       "4   [DEROGA la Ley 6/1985, de 13 de noviembre, DER...   \n",
       "5                                                  []   \n",
       "6                                                  []   \n",
       "7   [MODIFICA los arts. 1, 2, 3, 4, 8, 12 y 13, la...   \n",
       "8   [MODIFICA los arts. 34.2.e), 36, 41.4 del Real...   \n",
       "9                                                  []   \n",
       "10                                                 []   \n",
       "11                                                 []   \n",
       "12                                                 []   \n",
       "13  [CORRECCIÓN de errores del Decreto-ley 51/2020...   \n",
       "14                                                 []   \n",
       "15                                                 []   \n",
       "16                                                 []   \n",
       "17                                                 []   \n",
       "18  [PRORROGA lo indicado del Acuerdo de 14 de feb...   \n",
       "19  [PUBLICA  Acuerdo de convalidación del Real De...   \n",
       "20                                                 []   \n",
       "21                                                 []   \n",
       "22                                                 []   \n",
       "23                                                 []   \n",
       "24                                                 []   \n",
       "25                                                 []   \n",
       "26                                                 []   \n",
       "27                                                 []   \n",
       "\n",
       "                                                Tags  \\\n",
       "0                                                 []   \n",
       "1                                                 []   \n",
       "2                                                 []   \n",
       "3                            [Real Decreto 463/2020]   \n",
       "4                           [Ley 1/2006, Ley 6/1985]   \n",
       "5                                                 []   \n",
       "6                                                 []   \n",
       "7   [Ley 27/1999, Ley 5/2011, Real Decreto 219/2001]   \n",
       "8                             [Real Decreto 53/2013]   \n",
       "9                                                 []   \n",
       "10                                                []   \n",
       "11                                                []   \n",
       "12                                                []   \n",
       "13                        [ley 39/2020, ley 51/2020]   \n",
       "14                                                []   \n",
       "15                                                []   \n",
       "16                                                []   \n",
       "17                                                []   \n",
       "18                                                []   \n",
       "19                         [Real Decreto-ley 3/2021]   \n",
       "20                                                []   \n",
       "21                                                []   \n",
       "22                                                []   \n",
       "23                                                []   \n",
       "24                                                []   \n",
       "25                                                []   \n",
       "26                                                []   \n",
       "27                                                []   \n",
       "\n",
       "                              Match_ASECORP_BBDD  \n",
       "0                                             []  \n",
       "1                                             []  \n",
       "2                                             []  \n",
       "3   [ORD INT/262/2020 ESP, ORD INT/284/2020 ESP]  \n",
       "4                                             []  \n",
       "5                                             []  \n",
       "6                                             []  \n",
       "7                                             []  \n",
       "8                                             []  \n",
       "9                                             []  \n",
       "10                                            []  \n",
       "11                                            []  \n",
       "12                                            []  \n",
       "13                                            []  \n",
       "14                                            []  \n",
       "15                                            []  \n",
       "16                                            []  \n",
       "17                                            []  \n",
       "18                                            []  \n",
       "19                                            []  \n",
       "20                                            []  \n",
       "21                                            []  \n",
       "22                                            []  \n",
       "23                                            []  \n",
       "24                                            []  \n",
       "25                                            []  \n",
       "26                                            []  \n",
       "27                                            []  "
      ],
      "text/html": "<div>\n<style scoped>\n    .dataframe tbody tr th:only-of-type {\n        vertical-align: middle;\n    }\n\n    .dataframe tbody tr th {\n        vertical-align: top;\n    }\n\n    .dataframe thead th {\n        text-align: right;\n    }\n</style>\n<table border=\"1\" class=\"dataframe\">\n  <thead>\n    <tr style=\"text-align: right;\">\n      <th></th>\n      <th>Alertas</th>\n      <th>Fecha_publicacion</th>\n      <th>Item_Name</th>\n      <th>Item_id</th>\n      <th>Materias</th>\n      <th>Referencias</th>\n      <th>Referencias_palabra</th>\n      <th>Referencias_texto</th>\n      <th>Referencias_completas</th>\n      <th>Tags</th>\n      <th>Match_ASECORP_BBDD</th>\n    </tr>\n  </thead>\n  <tbody>\n    <tr>\n      <th>0</th>\n      <td>[Cultura y ocio]</td>\n      <td>2021-02-24</td>\n      <td>[Decreto 102/2020, de 9 de diciembre, por el q...</td>\n      <td>[BOE-A-2021-2898]</td>\n      <td>[]</td>\n      <td>[]</td>\n      <td>[]</td>\n      <td>[]</td>\n      <td>[]</td>\n      <td>[]</td>\n      <td>[]</td>\n    </tr>\n    <tr>\n      <th>1</th>\n      <td>[]</td>\n      <td>2021-02-24</td>\n      <td>[Resolución de 2 de febrero de 2021, de la Sec...</td>\n      <td>[BOE-A-2021-2888]</td>\n      <td>[]</td>\n      <td>[]</td>\n      <td>[]</td>\n      <td>[]</td>\n      <td>[]</td>\n      <td>[]</td>\n      <td>[]</td>\n    </tr>\n    <tr>\n      <th>2</th>\n      <td>[]</td>\n      <td>2021-02-24</td>\n      <td>[Resolución de 2 de febrero de 2021, de la Sec...</td>\n      <td>[BOE-A-2021-2889]</td>\n      <td>[]</td>\n      <td>[]</td>\n      <td>[]</td>\n      <td>[]</td>\n      <td>[]</td>\n      <td>[]</td>\n      <td>[]</td>\n    </tr>\n    <tr>\n      <th>3</th>\n      <td>[]</td>\n      <td>2021-02-24</td>\n      <td>[Ley 8/2020, de 16 de octubre, por la que se c...</td>\n      <td>[BOE-A-2021-2848]</td>\n      <td>[Castilla La Mancha, Consumidores y usuarios, ...</td>\n      <td>[BOE-A-1982-20820, BOE-A-2020-3692]</td>\n      <td>[DE CONFORMIDAD con, CITA]</td>\n      <td>[el Estatuto aprobado por por Ley Orgánica 9/1...</td>\n      <td>[DE CONFORMIDAD con el Estatuto aprobado por p...</td>\n      <td>[Real Decreto 463/2020]</td>\n      <td>[ORD INT/262/2020 ESP, ORD INT/284/2020 ESP]</td>\n    </tr>\n    <tr>\n      <th>4</th>\n      <td>[]</td>\n      <td>2021-02-24</td>\n      <td>[Ley 9/2020, de 6 de noviembre, de Patrimonio ...</td>\n      <td>[BOE-A-2021-2849]</td>\n      <td>[Castilla La Mancha, Organización de las Comun...</td>\n      <td>[BOE-A-1985-26400, ---, BOE-A-2006-11292, BOE-...</td>\n      <td>[DEROGA, DEROGA, MODIFICA, DE CONFORMIDAD con]</td>\n      <td>[la Ley 6/1985, de 13 de noviembre, en la form...</td>\n      <td>[DEROGA la Ley 6/1985, de 13 de noviembre, DER...</td>\n      <td>[Ley 1/2006, Ley 6/1985]</td>\n      <td>[]</td>\n    </tr>\n    <tr>\n      <th>5</th>\n      <td>[]</td>\n      <td>2021-02-24</td>\n      <td>[Resolución de 15 de febrero de 2021, de la En...</td>\n      <td>[BOE-A-2021-2887]</td>\n      <td>[]</td>\n      <td>[]</td>\n      <td>[]</td>\n      <td>[]</td>\n      <td>[]</td>\n      <td>[]</td>\n      <td>[]</td>\n    </tr>\n    <tr>\n      <th>6</th>\n      <td>[Sistema financiero]</td>\n      <td>2021-02-24</td>\n      <td>[Resolución de 11 de febrero de 2021, de la Di...</td>\n      <td>[BOE-A-2021-2893]</td>\n      <td>[]</td>\n      <td>[]</td>\n      <td>[]</td>\n      <td>[]</td>\n      <td>[]</td>\n      <td>[]</td>\n      <td>[]</td>\n    </tr>\n    <tr>\n      <th>7</th>\n      <td>[Organización de la Administración]</td>\n      <td>2021-02-24</td>\n      <td>[Real Decreto 117/2021, de 23 de febrero, por ...</td>\n      <td>[BOE-A-2021-2844]</td>\n      <td>[Consejo de Fomento de la Economía Social, Min...</td>\n      <td>[BOE-A-2001-5061, BOE-A-2011-5708, BOE-A-2007-...</td>\n      <td>[MODIFICA, DE CONFORMIDAD con, DE CONFORMIDAD ...</td>\n      <td>[los arts. 1, 2, 3, 4, 8, 12 y 13, la disposic...</td>\n      <td>[MODIFICA los arts. 1, 2, 3, 4, 8, 12 y 13, la...</td>\n      <td>[Ley 27/1999, Ley 5/2011, Real Decreto 219/2001]</td>\n      <td>[]</td>\n    </tr>\n    <tr>\n      <th>8</th>\n      <td>[Ganadería y animales, Tecnología e investigac...</td>\n      <td>2021-02-24</td>\n      <td>[Real Decreto 118/2021, de 23 de febrero, por ...</td>\n      <td>[BOE-A-2021-2845]</td>\n      <td>[Acceso a la información, Animales, Comisión E...</td>\n      <td>[BOE-A-2013-1337]</td>\n      <td>[MODIFICA]</td>\n      <td>[los arts. 34.2.e), 36, 41.4 del Real Decreto ...</td>\n      <td>[MODIFICA los arts. 34.2.e), 36, 41.4 del Real...</td>\n      <td>[Real Decreto 53/2013]</td>\n      <td>[]</td>\n    </tr>\n    <tr>\n      <th>9</th>\n      <td>[Deporte]</td>\n      <td>2021-02-24</td>\n      <td>[Resolución de 12 de febrero de 2021, de la Pr...</td>\n      <td>[BOE-A-2021-2892]</td>\n      <td>[Asociaciones deportivas, Federación Española ...</td>\n      <td>[]</td>\n      <td>[]</td>\n      <td>[]</td>\n      <td>[]</td>\n      <td>[]</td>\n      <td>[]</td>\n    </tr>\n    <tr>\n      <th>10</th>\n      <td>[]</td>\n      <td>2021-02-24</td>\n      <td>[Resolución de 11 de febrero de 2021, de la Se...</td>\n      <td>[BOE-A-2021-2886]</td>\n      <td>[]</td>\n      <td>[]</td>\n      <td>[]</td>\n      <td>[]</td>\n      <td>[]</td>\n      <td>[]</td>\n      <td>[]</td>\n    </tr>\n    <tr>\n      <th>11</th>\n      <td>[]</td>\n      <td>2021-02-24</td>\n      <td>[Resolución de 16 de febrero de 2021, de la Di...</td>\n      <td>[BOE-A-2021-2890]</td>\n      <td>[]</td>\n      <td>[]</td>\n      <td>[]</td>\n      <td>[]</td>\n      <td>[]</td>\n      <td>[]</td>\n      <td>[]</td>\n    </tr>\n    <tr>\n      <th>12</th>\n      <td>[]</td>\n      <td>2021-02-24</td>\n      <td>[Resolución de 18 de febrero de 2021, de la Di...</td>\n      <td>[BOE-A-2021-2884]</td>\n      <td>[]</td>\n      <td>[]</td>\n      <td>[]</td>\n      <td>[]</td>\n      <td>[]</td>\n      <td>[]</td>\n      <td>[]</td>\n    </tr>\n    <tr>\n      <th>13</th>\n      <td>[Asuntos sociales, Sanidad]</td>\n      <td>2021-02-24</td>\n      <td>[Corrección de errores del Decreto-ley 51/2020...</td>\n      <td>[BOE-A-2021-2847]</td>\n      <td>[Ancianos, Asistencia sanitaria, Asistencia so...</td>\n      <td>[BOE-A-2021-1479, BOE-A-2020-15840]</td>\n      <td>[CORRECCIÓN de errores, CORRIGE errores]</td>\n      <td>[del Decreto-ley 51/2020, de 15 de diciembre, ...</td>\n      <td>[CORRECCIÓN de errores del Decreto-ley 51/2020...</td>\n      <td>[ley 39/2020, ley 51/2020]</td>\n      <td>[]</td>\n    </tr>\n    <tr>\n      <th>14</th>\n      <td>[Función Pública]</td>\n      <td>2021-02-24</td>\n      <td>[Orden TFP/153/2021, de 16 de febrero, por la ...</td>\n      <td>[BOE-A-2021-2846]</td>\n      <td>[Funcionarios de la Administración Local, Opos...</td>\n      <td>[]</td>\n      <td>[]</td>\n      <td>[]</td>\n      <td>[]</td>\n      <td>[]</td>\n      <td>[]</td>\n    </tr>\n    <tr>\n      <th>15</th>\n      <td>[]</td>\n      <td>2021-02-24</td>\n      <td>[Resolución de 11 de febrero de 2021, de la Su...</td>\n      <td>[BOE-A-2021-2885]</td>\n      <td>[]</td>\n      <td>[]</td>\n      <td>[]</td>\n      <td>[]</td>\n      <td>[]</td>\n      <td>[]</td>\n      <td>[]</td>\n    </tr>\n    <tr>\n      <th>16</th>\n      <td>[]</td>\n      <td>2021-02-24</td>\n      <td>[Resolución de 3 de febrero de 2021, de la Sub...</td>\n      <td>[BOE-A-2021-2891]</td>\n      <td>[]</td>\n      <td>[]</td>\n      <td>[]</td>\n      <td>[]</td>\n      <td>[]</td>\n      <td>[]</td>\n      <td>[]</td>\n    </tr>\n    <tr>\n      <th>17</th>\n      <td>[]</td>\n      <td>2021-02-24</td>\n      <td>[Orden ETD/155/2021, de 9 de febrero, de autor...</td>\n      <td>[BOE-A-2021-2895]</td>\n      <td>[]</td>\n      <td>[]</td>\n      <td>[]</td>\n      <td>[]</td>\n      <td>[]</td>\n      <td>[]</td>\n      <td>[]</td>\n    </tr>\n    <tr>\n      <th>18</th>\n      <td>[Administración de Justicia, Derecho Penal]</td>\n      <td>2021-02-24</td>\n      <td>[Acuerdo de 18 de febrero de 2021, de la Comis...</td>\n      <td>[BOE-A-2021-2881]</td>\n      <td>[Administración de Justicia, Barcelona, Demarc...</td>\n      <td>[BOE-A-2019-2160]</td>\n      <td>[PRORROGA]</td>\n      <td>[lo indicado del Acuerdo de 14 de febrero de 2...</td>\n      <td>[PRORROGA lo indicado del Acuerdo de 14 de feb...</td>\n      <td>[]</td>\n      <td>[]</td>\n    </tr>\n    <tr>\n      <th>19</th>\n      <td>[Asuntos sociales, Derecho Administrativo, Org...</td>\n      <td>2021-02-24</td>\n      <td>[Resolución de 18 de febrero de 2021, del Cong...</td>\n      <td>[BOE-A-2021-2842]</td>\n      <td>[Accidentes de trabajo y enfermedades profesio...</td>\n      <td>[BOE-A-2021-1529]</td>\n      <td>[PUBLICA  Acuerdo de convalidación]</td>\n      <td>[del Real Decreto-ley 3/2021, de 2 de febrero]</td>\n      <td>[PUBLICA  Acuerdo de convalidación del Real De...</td>\n      <td>[Real Decreto-ley 3/2021]</td>\n      <td>[]</td>\n    </tr>\n    <tr>\n      <th>20</th>\n      <td>[]</td>\n      <td>2021-02-24</td>\n      <td>[Enmiendas de 2018 al Código internacional de ...</td>\n      <td>[BOE-A-2021-2843]</td>\n      <td>[]</td>\n      <td>[]</td>\n      <td>[]</td>\n      <td>[]</td>\n      <td>[]</td>\n      <td>[]</td>\n      <td>[]</td>\n    </tr>\n    <tr>\n      <th>21</th>\n      <td>[]</td>\n      <td>2021-02-24</td>\n      <td>[Orden ETD/154/2021, de 9 de febrero, de autor...</td>\n      <td>[BOE-A-2021-2894]</td>\n      <td>[]</td>\n      <td>[]</td>\n      <td>[]</td>\n      <td>[]</td>\n      <td>[]</td>\n      <td>[]</td>\n      <td>[]</td>\n    </tr>\n    <tr>\n      <th>22</th>\n      <td>[]</td>\n      <td>2021-02-24</td>\n      <td>[Resolución 420/38047/2021, de 17 de febrero, ...</td>\n      <td>[BOE-A-2021-2882]</td>\n      <td>[]</td>\n      <td>[]</td>\n      <td>[]</td>\n      <td>[]</td>\n      <td>[]</td>\n      <td>[]</td>\n      <td>[]</td>\n    </tr>\n    <tr>\n      <th>23</th>\n      <td>[]</td>\n      <td>2021-02-24</td>\n      <td>[Resolución de 23 de febrero de 2021, del Banc...</td>\n      <td>[BOE-A-2021-2896]</td>\n      <td>[]</td>\n      <td>[]</td>\n      <td>[]</td>\n      <td>[]</td>\n      <td>[]</td>\n      <td>[]</td>\n      <td>[]</td>\n    </tr>\n    <tr>\n      <th>24</th>\n      <td>[Administración electrónica, Asuntos sociales,...</td>\n      <td>2021-02-24</td>\n      <td>[Resolución de 18 de febrero de 2021, del Cong...</td>\n      <td>[BOE-A-2021-2841]</td>\n      <td>[Administración electrónica, Arrendamientos ur...</td>\n      <td>[]</td>\n      <td>[]</td>\n      <td>[]</td>\n      <td>[]</td>\n      <td>[]</td>\n      <td>[]</td>\n    </tr>\n    <tr>\n      <th>25</th>\n      <td>[Relaciones internacionales, Unión Europea]</td>\n      <td>2021-02-24</td>\n      <td>[Instrumento de ratificación del Acuerdo de as...</td>\n      <td>[BOE-A-2021-2840]</td>\n      <td>[Acuerdo de Asociación CE, Acuerdos internacio...</td>\n      <td>[]</td>\n      <td>[]</td>\n      <td>[]</td>\n      <td>[]</td>\n      <td>[]</td>\n      <td>[]</td>\n    </tr>\n    <tr>\n      <th>26</th>\n      <td>[]</td>\n      <td>2021-02-24</td>\n      <td>[Resolución de 11 de febrero de 2021, de la Co...</td>\n      <td>[BOE-A-2021-2897]</td>\n      <td>[]</td>\n      <td>[]</td>\n      <td>[]</td>\n      <td>[]</td>\n      <td>[]</td>\n      <td>[]</td>\n      <td>[]</td>\n    </tr>\n    <tr>\n      <th>27</th>\n      <td>[]</td>\n      <td>2021-02-24</td>\n      <td>[Resolución 431/38043/2021, de 12 de febrero, ...</td>\n      <td>[BOE-A-2021-2883]</td>\n      <td>[]</td>\n      <td>[]</td>\n      <td>[]</td>\n      <td>[]</td>\n      <td>[]</td>\n      <td>[]</td>\n      <td>[]</td>\n    </tr>\n  </tbody>\n</table>\n</div>"
     },
     "metadata": {},
     "execution_count": 56
    }
   ],
   "source": [
    "tabla_analisis"
   ]
  },
  {
   "cell_type": "code",
   "execution_count": 57,
   "metadata": {},
   "outputs": [
    {
     "output_type": "execute_result",
     "data": {
      "text/plain": [
       "[]"
      ]
     },
     "metadata": {},
     "execution_count": 57
    }
   ],
   "source": [
    "tabla_analisis['Match_ASECORP_BBDD'][1]"
   ]
  },
  {
   "cell_type": "code",
   "execution_count": 58,
   "metadata": {},
   "outputs": [
    {
     "output_type": "execute_result",
     "data": {
      "text/plain": [
       "[]"
      ]
     },
     "metadata": {},
     "execution_count": 58
    }
   ],
   "source": [
    "tabla_analisis['Tags'][1]"
   ]
  },
  {
   "source": [
    "# Genera Fichero EXCEL de resultados"
   ],
   "cell_type": "markdown",
   "metadata": {}
  },
  {
   "cell_type": "code",
   "execution_count": 59,
   "metadata": {},
   "outputs": [],
   "source": [
    "## Cambia orden de columnas y elimina las no necesarias  \n",
    "tabla_analisis_final = tabla_analisis[['Item_id','Item_Name','Fecha_publicacion','Materias','Alertas','Referencias','Referencias_completas','Tags','Match_ASECORP_BBDD']]"
   ]
  },
  {
   "cell_type": "code",
   "execution_count": 60,
   "metadata": {},
   "outputs": [],
   "source": [
    "## Crea función que convierte lista a string en todas las columnas de tabla_analisis\n",
    "## para evitar en presentación final los caracteres [' '] propios de las listas\n",
    "def list2Str(lst):\n",
    "    if type(lst) is list: # apply conversion to list columns\n",
    "        return\", \".join(lst)\n",
    "    else:\n",
    "        return lst"
   ]
  },
  {
   "cell_type": "code",
   "execution_count": 61,
   "metadata": {},
   "outputs": [],
   "source": [
    "## Aplica función de conversión de listas a strings\n",
    "tabla_analisis_final = tabla_analisis_final.apply(lambda x: [list2Str(i) for i in x])"
   ]
  },
  {
   "cell_type": "code",
   "execution_count": 62,
   "metadata": {},
   "outputs": [
    {
     "output_type": "execute_result",
     "data": {
      "text/plain": [
       "           Item_id                                          Item_Name  \\\n",
       "0  BOE-A-2021-2898  Decreto 102/2020, de 9 de diciembre, por el qu...   \n",
       "1  BOE-A-2021-2888  Resolución de 2 de febrero de 2021, de la Secr...   \n",
       "2  BOE-A-2021-2889  Resolución de 2 de febrero de 2021, de la Secr...   \n",
       "3  BOE-A-2021-2848  Ley 8/2020, de 16 de octubre, por la que se cr...   \n",
       "4  BOE-A-2021-2849  Ley 9/2020, de 6 de noviembre, de Patrimonio d...   \n",
       "5  BOE-A-2021-2887  Resolución de 15 de febrero de 2021, de la Ent...   \n",
       "6  BOE-A-2021-2893  Resolución de 11 de febrero de 2021, de la Dir...   \n",
       "7  BOE-A-2021-2844  Real Decreto 117/2021, de 23 de febrero, por e...   \n",
       "8  BOE-A-2021-2845  Real Decreto 118/2021, de 23 de febrero, por e...   \n",
       "9  BOE-A-2021-2892  Resolución de 12 de febrero de 2021, de la Pre...   \n",
       "\n",
       "  Fecha_publicacion                                           Materias  \\\n",
       "0        2021-02-24                                                      \n",
       "1        2021-02-24                                                      \n",
       "2        2021-02-24                                                      \n",
       "3        2021-02-24  Castilla La Mancha, Consumidores y usuarios, E...   \n",
       "4        2021-02-24  Castilla La Mancha, Organización de las Comuni...   \n",
       "5        2021-02-24                                                      \n",
       "6        2021-02-24                                                      \n",
       "7        2021-02-24  Consejo de Fomento de la Economía Social, Mini...   \n",
       "8        2021-02-24  Acceso a la información, Animales, Comisión Eu...   \n",
       "9        2021-02-24  Asociaciones deportivas, Federación Española d...   \n",
       "\n",
       "                                             Alertas  \\\n",
       "0                                     Cultura y ocio   \n",
       "1                                                      \n",
       "2                                                      \n",
       "3                                                      \n",
       "4                                                      \n",
       "5                                                      \n",
       "6                                 Sistema financiero   \n",
       "7                  Organización de la Administración   \n",
       "8  Ganadería y animales, Tecnología e investigaci...   \n",
       "9                                            Deporte   \n",
       "\n",
       "                                         Referencias  \\\n",
       "0                                                      \n",
       "1                                                      \n",
       "2                                                      \n",
       "3                  BOE-A-1982-20820, BOE-A-2020-3692   \n",
       "4  BOE-A-1985-26400, ---, BOE-A-2006-11292, BOE-A...   \n",
       "5                                                      \n",
       "6                                                      \n",
       "7  BOE-A-2001-5061, BOE-A-2011-5708, BOE-A-2007-6...   \n",
       "8                                    BOE-A-2013-1337   \n",
       "9                                                      \n",
       "\n",
       "                               Referencias_completas  \\\n",
       "0                                                      \n",
       "1                                                      \n",
       "2                                                      \n",
       "3  DE CONFORMIDAD con el Estatuto aprobado por po...   \n",
       "4  DEROGA la Ley 6/1985, de 13 de noviembre, DERO...   \n",
       "5                                                      \n",
       "6                                                      \n",
       "7  MODIFICA los arts. 1, 2, 3, 4, 8, 12 y 13, la ...   \n",
       "8  MODIFICA los arts. 34.2.e), 36, 41.4 del Real ...   \n",
       "9                                                      \n",
       "\n",
       "                                             Tags  \\\n",
       "0                                                   \n",
       "1                                                   \n",
       "2                                                   \n",
       "3                           Real Decreto 463/2020   \n",
       "4                          Ley 1/2006, Ley 6/1985   \n",
       "5                                                   \n",
       "6                                                   \n",
       "7  Ley 27/1999, Ley 5/2011, Real Decreto 219/2001   \n",
       "8                            Real Decreto 53/2013   \n",
       "9                                                   \n",
       "\n",
       "                           Match_ASECORP_BBDD  \n",
       "0                                              \n",
       "1                                              \n",
       "2                                              \n",
       "3  ORD INT/262/2020 ESP, ORD INT/284/2020 ESP  \n",
       "4                                              \n",
       "5                                              \n",
       "6                                              \n",
       "7                                              \n",
       "8                                              \n",
       "9                                              "
      ],
      "text/html": "<div>\n<style scoped>\n    .dataframe tbody tr th:only-of-type {\n        vertical-align: middle;\n    }\n\n    .dataframe tbody tr th {\n        vertical-align: top;\n    }\n\n    .dataframe thead th {\n        text-align: right;\n    }\n</style>\n<table border=\"1\" class=\"dataframe\">\n  <thead>\n    <tr style=\"text-align: right;\">\n      <th></th>\n      <th>Item_id</th>\n      <th>Item_Name</th>\n      <th>Fecha_publicacion</th>\n      <th>Materias</th>\n      <th>Alertas</th>\n      <th>Referencias</th>\n      <th>Referencias_completas</th>\n      <th>Tags</th>\n      <th>Match_ASECORP_BBDD</th>\n    </tr>\n  </thead>\n  <tbody>\n    <tr>\n      <th>0</th>\n      <td>BOE-A-2021-2898</td>\n      <td>Decreto 102/2020, de 9 de diciembre, por el qu...</td>\n      <td>2021-02-24</td>\n      <td></td>\n      <td>Cultura y ocio</td>\n      <td></td>\n      <td></td>\n      <td></td>\n      <td></td>\n    </tr>\n    <tr>\n      <th>1</th>\n      <td>BOE-A-2021-2888</td>\n      <td>Resolución de 2 de febrero de 2021, de la Secr...</td>\n      <td>2021-02-24</td>\n      <td></td>\n      <td></td>\n      <td></td>\n      <td></td>\n      <td></td>\n      <td></td>\n    </tr>\n    <tr>\n      <th>2</th>\n      <td>BOE-A-2021-2889</td>\n      <td>Resolución de 2 de febrero de 2021, de la Secr...</td>\n      <td>2021-02-24</td>\n      <td></td>\n      <td></td>\n      <td></td>\n      <td></td>\n      <td></td>\n      <td></td>\n    </tr>\n    <tr>\n      <th>3</th>\n      <td>BOE-A-2021-2848</td>\n      <td>Ley 8/2020, de 16 de octubre, por la que se cr...</td>\n      <td>2021-02-24</td>\n      <td>Castilla La Mancha, Consumidores y usuarios, E...</td>\n      <td></td>\n      <td>BOE-A-1982-20820, BOE-A-2020-3692</td>\n      <td>DE CONFORMIDAD con el Estatuto aprobado por po...</td>\n      <td>Real Decreto 463/2020</td>\n      <td>ORD INT/262/2020 ESP, ORD INT/284/2020 ESP</td>\n    </tr>\n    <tr>\n      <th>4</th>\n      <td>BOE-A-2021-2849</td>\n      <td>Ley 9/2020, de 6 de noviembre, de Patrimonio d...</td>\n      <td>2021-02-24</td>\n      <td>Castilla La Mancha, Organización de las Comuni...</td>\n      <td></td>\n      <td>BOE-A-1985-26400, ---, BOE-A-2006-11292, BOE-A...</td>\n      <td>DEROGA la Ley 6/1985, de 13 de noviembre, DERO...</td>\n      <td>Ley 1/2006, Ley 6/1985</td>\n      <td></td>\n    </tr>\n    <tr>\n      <th>5</th>\n      <td>BOE-A-2021-2887</td>\n      <td>Resolución de 15 de febrero de 2021, de la Ent...</td>\n      <td>2021-02-24</td>\n      <td></td>\n      <td></td>\n      <td></td>\n      <td></td>\n      <td></td>\n      <td></td>\n    </tr>\n    <tr>\n      <th>6</th>\n      <td>BOE-A-2021-2893</td>\n      <td>Resolución de 11 de febrero de 2021, de la Dir...</td>\n      <td>2021-02-24</td>\n      <td></td>\n      <td>Sistema financiero</td>\n      <td></td>\n      <td></td>\n      <td></td>\n      <td></td>\n    </tr>\n    <tr>\n      <th>7</th>\n      <td>BOE-A-2021-2844</td>\n      <td>Real Decreto 117/2021, de 23 de febrero, por e...</td>\n      <td>2021-02-24</td>\n      <td>Consejo de Fomento de la Economía Social, Mini...</td>\n      <td>Organización de la Administración</td>\n      <td>BOE-A-2001-5061, BOE-A-2011-5708, BOE-A-2007-6...</td>\n      <td>MODIFICA los arts. 1, 2, 3, 4, 8, 12 y 13, la ...</td>\n      <td>Ley 27/1999, Ley 5/2011, Real Decreto 219/2001</td>\n      <td></td>\n    </tr>\n    <tr>\n      <th>8</th>\n      <td>BOE-A-2021-2845</td>\n      <td>Real Decreto 118/2021, de 23 de febrero, por e...</td>\n      <td>2021-02-24</td>\n      <td>Acceso a la información, Animales, Comisión Eu...</td>\n      <td>Ganadería y animales, Tecnología e investigaci...</td>\n      <td>BOE-A-2013-1337</td>\n      <td>MODIFICA los arts. 34.2.e), 36, 41.4 del Real ...</td>\n      <td>Real Decreto 53/2013</td>\n      <td></td>\n    </tr>\n    <tr>\n      <th>9</th>\n      <td>BOE-A-2021-2892</td>\n      <td>Resolución de 12 de febrero de 2021, de la Pre...</td>\n      <td>2021-02-24</td>\n      <td>Asociaciones deportivas, Federación Española d...</td>\n      <td>Deporte</td>\n      <td></td>\n      <td></td>\n      <td></td>\n      <td></td>\n    </tr>\n  </tbody>\n</table>\n</div>"
     },
     "metadata": {},
     "execution_count": 62
    }
   ],
   "source": [
    "  tabla_analisis_final[0:10]"
   ]
  },
  {
   "cell_type": "code",
   "execution_count": 63,
   "metadata": {},
   "outputs": [],
   "source": [
    "## Generar hyperlink a artículo BOE en CSV \"=HYPERLINK(\"https://www.boe.es/boe/dias/2021/02/02/pdfs/BOE-A-2021-1474.pdf\";\"BOE-A-2021-1474\")\"\n",
    "## https://www.boe.es/diario_boe/xml.php?id=## https://www.boe.es/boe/dias/2021/02/02/pdfs/BOE-A-2021-1474.pdf\n",
    "\n",
    "tabla_analisis_final_CSV = tabla_analisis_final"
   ]
  },
  {
   "cell_type": "code",
   "execution_count": 64,
   "metadata": {},
   "outputs": [],
   "source": [
    "# Compone y genera enlace a PDF del BOE correspondiente\n",
    "tabla_analisis_final_CSV['Item_id'] = '=HIPERVINCULO(' + '\"https://www.boe.es/boe/dias/' \\\n",
    "                                                        + tabla_analisis_final_CSV['Fecha_publicacion'].map(lambda x: x.strftime('%Y')) + '/'\\\n",
    "                                                        + tabla_analisis_final_CSV['Fecha_publicacion'].map(lambda x: x.strftime('%m')) + '/'\\\n",
    "                                                        + tabla_analisis_final_CSV['Fecha_publicacion'].map(lambda x: x.strftime('%d')) + '/'\\\n",
    "                                                        + 'pdfs/'\\\n",
    "                                                        + tabla_analisis_final_CSV['Item_id'] + '.pdf\";'\\\n",
    "                                                        + '\"' + tabla_analisis_final_CSV['Item_id'] + '\")'"
   ]
  },
  {
   "cell_type": "code",
   "execution_count": 65,
   "metadata": {},
   "outputs": [
    {
     "output_type": "stream",
     "name": "stdout",
     "text": [
      "=HIPERVINCULO(\"https://www.boe.es/boe/dias/2021/02/24/pdfs/BOE-A-2021-2898.pdf\";\"BOE-A-2021-2898\")\n"
     ]
    }
   ],
   "source": [
    "print(tabla_analisis_final_CSV['Item_id'][0])"
   ]
  },
  {
   "cell_type": "code",
   "execution_count": 66,
   "metadata": {},
   "outputs": [],
   "source": [
    "# tabla_analisis_final_CSV.to_excel(\"./ASECORP/Resultados_Matching.xlsx\", sheet_name='MATCHING_BOE') "
   ]
  },
  {
   "cell_type": "code",
   "execution_count": 67,
   "metadata": {},
   "outputs": [],
   "source": [
    "tabla_analisis_final_CSV.to_csv(\"./ASECORP/Resultados_Matching_BOE_\" + today.strftime(\"%Y%m%d\") + \".csv\", index=False) "
   ]
  },
  {
   "source": [
    "# ------------------------------------------------------------------------"
   ],
   "cell_type": "markdown",
   "metadata": {}
  },
  {
   "source": [
    "# DOGC"
   ],
   "cell_type": "markdown",
   "metadata": {}
  },
  {
   "cell_type": "code",
   "execution_count": 68,
   "metadata": {},
   "outputs": [],
   "source": [
    "#URL_HTML_resumen = \"https://dogc.gencat.cat/es/index.html?newLang=es_ES&language=es_ES\"\n",
    "URL_HTML_resumen = \"https://dogc.gencat.cat/es/inici/\""
   ]
  },
  {
   "cell_type": "code",
   "execution_count": 91,
   "metadata": {},
   "outputs": [],
   "source": [
    "from requests_html import HTMLSession\n",
    "session = HTMLSession()\n",
    "r = session.get(URL_HTML_resumen)"
   ]
  },
  {
   "cell_type": "code",
   "execution_count": 92,
   "metadata": {},
   "outputs": [
    {
     "output_type": "execute_result",
     "data": {
      "text/plain": [
       "{'/ca/inici/index.html',\n",
       " '/es/ajuda/mapaweb/',\n",
       " '/es/index.html?newLang=es_ES&language=es_ES',\n",
       " '/es/inici/',\n",
       " '/es/inici/resultats/index.html?orderBy=3&page=1&typeSearch=1&advanced=true&current=true&title=false&numResultsByPage=50&publicationDateInitial=18/11/2020&value=%22anunci%20d%27informaci%C3%B3%20p%C3%BAblica%22%20OR%20%22sotmet%20a%20informaci%C3%B3%20p%C3%BAblica%22%20OR%20%22sotmeten%20a%20informaci%C3%B3%20p%C3%BAblica%22%20OR%20%22sobre%20informaci%C3%B3%20p%C3%BAblica%22%20OR%20%22aprovaci%C3%B3%20inicial%22%20OR%20%22anuncio%20de%20informaci%C3%B3n%20p%C3%BAblica%22%20OR%20%22somete%20a%20informaci%C3%B3n%20p%C3%BAblica%22%20OR%20%22someten%20a%20informaci%C3%B3n%20p%C3%BAblica%22%20OR%20%22sobre%20informaci%C3%B3n%20p%C3%BAblica%22%20OR%20%22aprobaci%C3%B3n%20inicial%22',\n",
       " '/es/inici/resultats/index.html?orderBy=3&page=1&typeSearch=1&advanced=true&current=true&title=true&numResultsByPage=50&publicationDateInitial=01/01/2021&thematicDescriptor=D194',\n",
       " '/es/inici/resultats/index.html?orderBy=3&page=1&typeSearch=1&advanced=true&current=true&title=true&numResultsByPage=50&publicationDateInitial=18/11/2020&thematicDescriptor=D4090&thematicDescriptor=DE1738',\n",
       " '/es/serveis/',\n",
       " '/es/serveis/dietaris/',\n",
       " '/es/serveis/dogc-republica-i-exili/',\n",
       " '/es/serveis/normes-urbanisti.-1985/',\n",
       " '/es/serveis/publicar-un-anunci/',\n",
       " '/es/serveis/subscripcions/',\n",
       " '/es/serveis/suplement-boe-catala/',\n",
       " '/es/serveis/verificar-documents/',\n",
       " '/es/sobre-el-dogc/',\n",
       " '/es/sobre-el-dogc/altres-diaris-oficials/',\n",
       " '/es/sobre-el-dogc/eadop/',\n",
       " '/es/sobre-el-dogc/eadop/adreces-i-contacte/',\n",
       " '/es/sobre-el-dogc/eadop/normativa/#DOGC',\n",
       " '/es/sobre-el-dogc/eadop/transparencia/',\n",
       " '/es/sobre-el-dogc/historia-del-dogc/',\n",
       " '/es/sobre-el-dogc/preguntes-frequents/',\n",
       " '/es/sobre-el-dogc/preguntes-frequents/index.html',\n",
       " '/es/sobre-el-dogc/que-es-el-DOGC/',\n",
       " 'http://www.gencat.cat',\n",
       " 'https://contractaciopublica.gencat.cat/ecofin_pscp/AppJava/es_ES/cap.do?keyword=&reqCode=viewDetail&idCap=203411&department=11000&',\n",
       " 'https://llibreria.gencat.cat/',\n",
       " 'https://llibreria.gencat.cat/index.php?language=es',\n",
       " 'https://ovt.gencat.cat/gsitfc/AppJava/generic/conqxsGeneric.do?webFormId=391&&topicLevel1ByURL.id=500&topicLevel2ByURL.id=657&set-locale=es_ES',\n",
       " 'https://portaljuridic.gencat.cat/ca/',\n",
       " 'https://twitter.com/dogcdeldia',\n",
       " 'https://web.gencat.cat/',\n",
       " 'https://web.gencat.cat/es/menu-ajuda/ajuda/accessibilitat/index.html',\n",
       " 'https://web.gencat.cat/es/menu-ajuda/ajuda/avis_legal/',\n",
       " 'https://web.gencat.cat/es/menu-ajuda/ajuda/sobre_gencat/'}"
      ]
     },
     "metadata": {},
     "execution_count": 92
    }
   ],
   "source": [
    "r.html.links"
   ]
  },
  {
   "cell_type": "code",
   "execution_count": 103,
   "metadata": {},
   "outputs": [
    {
     "output_type": "execute_result",
     "data": {
      "text/plain": [
       "[]"
      ]
     },
     "metadata": {},
     "execution_count": 103
    }
   ],
   "source": [
    "#r.html.xpath('//*[@id=\"titol\"]/span/text()')\n",
    "#r.html.xpath('//*[@class=\"llistat_cont\"]/ul/li[1]/a/text()')\n",
    "h = r.html.xpath('//*[@class=\"llistat_cont\"]/ul/li')\n",
    "[ print(item) for item in h]\n"
   ]
  },
  {
   "cell_type": "code",
   "execution_count": 99,
   "metadata": {},
   "outputs": [
    {
     "output_type": "execute_result",
     "data": {
      "text/plain": [
       "[]"
      ]
     },
     "metadata": {},
     "execution_count": 99
    }
   ],
   "source": [
    "r.html.xpath('//*[@id=\"titol\"]/h3/text()')\n"
   ]
  },
  {
   "cell_type": "code",
   "execution_count": 73,
   "metadata": {},
   "outputs": [
    {
     "output_type": "execute_result",
     "data": {
      "text/plain": [
       "'html'"
      ]
     },
     "metadata": {},
     "execution_count": 73
    }
   ],
   "source": [
    "r.html.lxml.tag"
   ]
  },
  {
   "cell_type": "code",
   "execution_count": 74,
   "metadata": {},
   "outputs": [
    {
     "output_type": "execute_result",
     "data": {
      "text/plain": [
       "[]"
      ]
     },
     "metadata": {},
     "execution_count": 74
    }
   ],
   "source": [
    "r.html.lxml.xpath('//*[@id=\"titol\"]/span')"
   ]
  },
  {
   "cell_type": "code",
   "execution_count": 115,
   "metadata": {},
   "outputs": [
    {
     "output_type": "stream",
     "name": "stdout",
     "text": [
      "[]\n[]\n"
     ]
    }
   ],
   "source": [
    "#import requests\n",
    "#from lxml import html\n",
    "\n",
    "response = requests.get(URL_HTML_resumen)\n",
    "\n",
    "tree = html.fromstring(response.text)\n",
    "#print(html.tostring(tree))\n",
    "\n",
    "# fetches all useful elements \n",
    "useful = tree.xpath('//*[@id=\"titol\"]/span/text()')\n",
    "\n",
    "print(useful)\n",
    "\n",
    "print(tree.xpath('//*[@class=\"llistat-item\"]/span/text()'))\n"
   ]
  },
  {
   "cell_type": "code",
   "execution_count": 76,
   "metadata": {},
   "outputs": [
    {
     "output_type": "execute_result",
     "data": {
      "text/plain": [
       "[]"
      ]
     },
     "metadata": {},
     "execution_count": 76
    }
   ],
   "source": [
    "r.html.lxml.xpath('//*[@id=\"sumari\"]/ul/li[1]/form/@action')"
   ]
  },
  {
   "cell_type": "code",
   "execution_count": 77,
   "metadata": {},
   "outputs": [
    {
     "output_type": "execute_result",
     "data": {
      "text/plain": [
       "[]"
      ]
     },
     "metadata": {},
     "execution_count": 77
    }
   ],
   "source": [
    "r.html.lxml.xpath('//*[@id=\"sumari\"]/ul/li[1]/form/input[1]/@name')"
   ]
  },
  {
   "cell_type": "code",
   "execution_count": 78,
   "metadata": {},
   "outputs": [
    {
     "output_type": "execute_result",
     "data": {
      "text/plain": [
       "[]"
      ]
     },
     "metadata": {},
     "execution_count": 78
    }
   ],
   "source": [
    "r.html.lxml.xpath('//*[@id=\"sumari\"]/ul/li[1]/form/input[1]/@value')"
   ]
  },
  {
   "cell_type": "code",
   "execution_count": 79,
   "metadata": {},
   "outputs": [
    {
     "output_type": "execute_result",
     "data": {
      "text/plain": [
       "[]"
      ]
     },
     "metadata": {},
     "execution_count": 79
    }
   ],
   "source": [
    "r.html.lxml.xpath('//*[@id=\"sumari\"]/ul/li[1]/form')"
   ]
  },
  {
   "cell_type": "code",
   "execution_count": 80,
   "metadata": {},
   "outputs": [
    {
     "output_type": "stream",
     "name": "stdout",
     "text": [
      "[]\n"
     ]
    }
   ],
   "source": [
    "useful = tree.xpath('//*[@id=\"sumari\"]/ul/li[1]/form/input[3]/@value')\n",
    "\n",
    "print(useful)"
   ]
  },
  {
   "cell_type": "code",
   "execution_count": 81,
   "metadata": {},
   "outputs": [
    {
     "output_type": "execute_result",
     "data": {
      "text/plain": [
       "[]"
      ]
     },
     "metadata": {},
     "execution_count": 81
    }
   ],
   "source": [
    "tree.xpath('//*[@id=\"sumari\"]/ul/li[1]/form/@action')"
   ]
  },
  {
   "cell_type": "code",
   "execution_count": 82,
   "metadata": {
    "tags": []
   },
   "outputs": [
    {
     "output_type": "error",
     "ename": "NameError",
     "evalue": "name 'argumentos' is not defined",
     "traceback": [
      "\u001b[0;31m---------------------------------------------------------------------------\u001b[0m",
      "\u001b[0;31mNameError\u001b[0m                                 Traceback (most recent call last)",
      "\u001b[0;32m<ipython-input-82-d3be00185587>\u001b[0m in \u001b[0;36m<module>\u001b[0;34m\u001b[0m\n\u001b[1;32m      5\u001b[0m     \u001b[0mprint\u001b[0m\u001b[0;34m(\u001b[0m\u001b[0margumentos\u001b[0m\u001b[0;34m,\u001b[0m \u001b[0mvalores\u001b[0m\u001b[0;34m)\u001b[0m\u001b[0;34m\u001b[0m\u001b[0;34m\u001b[0m\u001b[0m\n\u001b[1;32m      6\u001b[0m \u001b[0;34m\u001b[0m\u001b[0m\n\u001b[0;32m----> 7\u001b[0;31m \u001b[0;32mfor\u001b[0m \u001b[0mindice\u001b[0m \u001b[0;32min\u001b[0m \u001b[0mrange\u001b[0m\u001b[0;34m(\u001b[0m\u001b[0mlen\u001b[0m\u001b[0;34m(\u001b[0m\u001b[0margumentos\u001b[0m\u001b[0;34m)\u001b[0m\u001b[0;34m)\u001b[0m\u001b[0;34m:\u001b[0m\u001b[0;34m\u001b[0m\u001b[0;34m\u001b[0m\u001b[0m\n\u001b[0m\u001b[1;32m      8\u001b[0m     \u001b[0mcadena\u001b[0m \u001b[0;34m+=\u001b[0m \u001b[0margumentos\u001b[0m\u001b[0;34m[\u001b[0m\u001b[0mindice\u001b[0m\u001b[0;34m]\u001b[0m \u001b[0;34m+\u001b[0m \u001b[0;34m'='\u001b[0m \u001b[0;34m+\u001b[0m \u001b[0mvalores\u001b[0m\u001b[0;34m[\u001b[0m\u001b[0mindice\u001b[0m\u001b[0;34m]\u001b[0m \u001b[0;34m+\u001b[0m \u001b[0;34m'&'\u001b[0m\u001b[0;34m\u001b[0m\u001b[0;34m\u001b[0m\u001b[0m\n\u001b[1;32m      9\u001b[0m \u001b[0;34m\u001b[0m\u001b[0m\n",
      "\u001b[0;31mNameError\u001b[0m: name 'argumentos' is not defined"
     ]
    }
   ],
   "source": [
    "cadena = ''\n",
    "for input in tree.xpath('//*[@id=\"sumari\"]/ul/li[1]/form'):\n",
    "    argumentos = input.xpath('./input/@name')\n",
    "    valores = input.xpath('./input/@value')\n",
    "    print(argumentos, valores)\n",
    "\n",
    "for indice in range(len(argumentos)):\n",
    "    cadena += argumentos[indice] + '=' + valores[indice] + '&'\n",
    "\n",
    "argumentos[1]\n",
    "cadena[:-1]"
   ]
  },
  {
   "source": [
    "## Recoge Nombre Secciones Sumario"
   ],
   "cell_type": "markdown",
   "metadata": {}
  },
  {
   "cell_type": "code",
   "execution_count": null,
   "metadata": {},
   "outputs": [],
   "source": [
    "import re\n",
    "seccion = tree.xpath('//*[@id=\"sumari\"]/ul/li[1]/form/a/text()')\n",
    "seccion = re.sub('(\\\\r|\\\\n|\\\\t|\\ )+', '', seccion[0])\n",
    "seccion"
   ]
  },
  {
   "source": [
    "## Recoge Nombre Secciones Sumario"
   ],
   "cell_type": "markdown",
   "metadata": {}
  },
  {
   "cell_type": "code",
   "execution_count": null,
   "metadata": {},
   "outputs": [],
   "source": [
    "secciones = tree.xpath('//*[@id=\"sumari\"]/ul/li')\n",
    "#print(secciones)\n",
    "df_secciones_sumarios = pd.DataFrame()\n",
    "for seccion in secciones:\n",
    "    seccion = seccion.xpath('./form/a/text()')\n",
    "    seccion = re.sub('(\\\\r|\\\\n|\\\\t)+', '', seccion[0])\n",
    "    print(seccion[1:-1])\n",
    "    df_secciones_sumarios = df_secciones_sumarios.append({'Seccion': seccion[1:-1]}, ignore_index=True)\n"
   ]
  },
  {
   "cell_type": "code",
   "execution_count": null,
   "metadata": {},
   "outputs": [],
   "source": [
    "df_secciones_sumarios"
   ]
  },
  {
   "source": [
    "## Recoge Valores para formar URLs Secciones Sumario"
   ],
   "cell_type": "markdown",
   "metadata": {}
  },
  {
   "cell_type": "code",
   "execution_count": null,
   "metadata": {},
   "outputs": [],
   "source": [
    "URL_base_sumario = tree.xpath('//*[@id=\"sumari\"]/ul/li[1]/form/@action')\n",
    "\n",
    "df_URL_sumarios = pd.DataFrame()\n",
    "for seccion in secciones:    \n",
    "    cadena = ''\n",
    "    for input in seccion.xpath('./form'):\n",
    "        argumentos = input.xpath('./input/@name')\n",
    "        valores = input.xpath('./input/@value')\n",
    "        #print(argumentos, valores)\n",
    "\n",
    "    for indice in range(len(argumentos)):\n",
    "        cadena += argumentos[indice] + '=' + valores[indice] + '&'\n",
    "\n",
    "    URL_sumario = 'https://dogc.gencat.cat' + str(URL_base_sumario[0]) + '?' + str(cadena[:-1])\n",
    "    print(URL_sumario)\n",
    "    df_URL_sumarios = df_URL_sumarios.append({'URL_Seccion': URL_sumario}, ignore_index=True)"
   ]
  },
  {
   "cell_type": "code",
   "execution_count": null,
   "metadata": {},
   "outputs": [],
   "source": [
    "df_URL_sumarios"
   ]
  },
  {
   "cell_type": "code",
   "execution_count": null,
   "metadata": {},
   "outputs": [],
   "source": [
    " df_sumarios = pd.concat([df_secciones_sumarios, df_URL_sumarios], axis=1)"
   ]
  },
  {
   "cell_type": "code",
   "execution_count": null,
   "metadata": {},
   "outputs": [],
   "source": [
    "df_sumarios"
   ]
  },
  {
   "cell_type": "code",
   "execution_count": null,
   "metadata": {},
   "outputs": [],
   "source": [
    "df_sumarios['URL_Seccion'][4]"
   ]
  },
  {
   "source": [
    "## Recoge Items en Seccion Disposiciones"
   ],
   "cell_type": "markdown",
   "metadata": {}
  },
  {
   "cell_type": "code",
   "execution_count": null,
   "metadata": {
    "tags": []
   },
   "outputs": [],
   "source": [
    "### Recoge Items en Seccion Disposiciones\n",
    "\n",
    "response = requests.get(df_sumarios['URL_Seccion'][0])\n",
    "sumario_HTML = html.fromstring(response.text)\n",
    "\n",
    "#seccion = sumario_HTML.xpath('//*[@id=\"disposicions\"]/div[1]/text()')\n",
    "seccion = sumario_HTML.xpath('//*[@id=\"disposicions\"]/div/text()')\n",
    "bloques = sumario_HTML.xpath('//*[@id=\"disposicions\"]')\n",
    "df_disposiciones = pd.DataFrame(columns=['Seccion','Item_Name','PDF_link'])\n",
    "for bloque in bloques: \n",
    "    item_name = bloque.xpath('./div/p/text()')\n",
    "    #item_name = re.sub('(\\\\r|\\\\n|\\\\t)+', '', item_name[0])\n",
    "    pdf_link = bloque.xpath('./div/div/a[4]/@href')\n",
    "\n",
    "for row in range(len(pdf_link)):\n",
    "    df_disposiciones = df_disposiciones.append({'Item_Name': re.sub('(\\\\r|\\\\n|\\\\t)+', '',                                                                               item_name[row]),\n",
    "                                            'PDF_link' : pdf_link[row],\n",
    "                                            'Seccion' : seccion[0][:-1]},\n",
    "                                            ignore_index=True)\n",
    "\n",
    "df_disposiciones"
   ]
  },
  {
   "cell_type": "code",
   "execution_count": null,
   "metadata": {},
   "outputs": [],
   "source": [
    "pdf_link"
   ]
  },
  {
   "source": [
    "# DOUE"
   ],
   "cell_type": "markdown",
   "metadata": {}
  },
  {
   "cell_type": "code",
   "execution_count": 187,
   "metadata": {
    "tags": []
   },
   "outputs": [],
   "source": [
    "# --------------------------------------------------------------------------------------\n",
    "# DOUE\n",
    "# --------------------------------------------------------------------------------------\n",
    "\n",
    "URL_HTML_resumen =  \"https://eur-lex.europa.eu/oj/direct-access.html?locale=es\"\n",
    "\n",
    "## carga página HTML y genera árbol\n",
    "\n",
    "headers = {'User-Agent': 'Mozilla/5.0 (Macintosh; Intel Mac OS X 10_11_5) AppleWebKit/537.36 (KHTML, like Gecko) Chrome/50.0.2661.102 Safari/537.36'}\n",
    "response = requests.get(URL_HTML_resumen, headers=headers)\n",
    "tree = html.fromstring(response.text)\n",
    "\n",
    "## Recoge Nombre Secciones Sumario\n",
    "\n",
    "secciones = tree.xpath('//*[@class=\"table table-striped table-hover table-condensed OJTable AllBordersTable\"]')\n",
    "#print(secciones)\n"
   ]
  },
  {
   "cell_type": "code",
   "execution_count": 188,
   "metadata": {},
   "outputs": [],
   "source": [
    "source_dir = './DOUEs'\n",
    "target_dir = './DOUEs_Anteriores'\n",
    "    \n",
    "file_names = os.listdir(source_dir)\n",
    "    \n",
    "for file_name in file_names:\n",
    "    #shutil.move(os.path.join(source_dir, file_name), target_dir)\n",
    "    # Evita que de error si el fichero que se mueve ya existe en dir destino\n",
    "    try:\n",
    "        os.remove(os.path.join(target_dir, file_name))\n",
    "        shutil.move(os.path.join(source_dir, file_name), target_dir)\n",
    "    except OSError:\n",
    "        shutil.move(os.path.join(source_dir, file_name), target_dir)"
   ]
  },
  {
   "cell_type": "code",
   "execution_count": 189,
   "metadata": {},
   "outputs": [
    {
     "output_type": "stream",
     "name": "stdout",
     "text": [
      "['L062', 'L063']\n"
     ]
    }
   ],
   "source": [
    "## Recoge Valores para formar URLs Secciones Sumario\n",
    "\n",
    "df_secciones_sumarios = pd.DataFrame()\n",
    "for seccion in secciones:\n",
    "    seccion_name = seccion.xpath('./tbody/tr[1]/td[2]/a/text()')\n",
    "    seccion_URL = seccion.xpath('./tbody/tr[1]/td[2]/a/@href')\n",
    "    #seccion = re.sub('(\\\\r|\\\\n|\\\\t)+', '', seccion)\n",
    "    print(seccion_name)\n",
    "    #print(seccion_URL)\n",
    "\n",
    "\n",
    "### Si no hay disposiciones hay que gestionar el error y salir del script\n",
    "if len(seccion_name) == 0:\n",
    "    print('No hay disposiciones')\n",
    "    # exit()\n",
    "\n",
    "for row in range(len(seccion_name)):\n",
    "    df_secciones_sumarios = df_secciones_sumarios.append({'Seccion': seccion_name[row],\n",
    "                                                            'Seccion_link' : 'https://eur-lex.europa.eu' + seccion_URL[row][4:]},\n",
    "                                                            ignore_index=True)"
   ]
  },
  {
   "cell_type": "code",
   "execution_count": 190,
   "metadata": {},
   "outputs": [],
   "source": [
    "if len(df_secciones_sumarios['Seccion'][0]) == 0:\n",
    "    print('No hay disposiciones')"
   ]
  },
  {
   "cell_type": "code",
   "execution_count": 191,
   "metadata": {},
   "outputs": [
    {
     "output_type": "execute_result",
     "data": {
      "text/plain": [
       "  Seccion                                       Seccion_link\n",
       "0    L062  https://eur-lex.europa.eu/legal-content/ES/TXT...\n",
       "1    L063  https://eur-lex.europa.eu/legal-content/ES/TXT..."
      ],
      "text/html": "<div>\n<style scoped>\n    .dataframe tbody tr th:only-of-type {\n        vertical-align: middle;\n    }\n\n    .dataframe tbody tr th {\n        vertical-align: top;\n    }\n\n    .dataframe thead th {\n        text-align: right;\n    }\n</style>\n<table border=\"1\" class=\"dataframe\">\n  <thead>\n    <tr style=\"text-align: right;\">\n      <th></th>\n      <th>Seccion</th>\n      <th>Seccion_link</th>\n    </tr>\n  </thead>\n  <tbody>\n    <tr>\n      <th>0</th>\n      <td>L062</td>\n      <td>https://eur-lex.europa.eu/legal-content/ES/TXT...</td>\n    </tr>\n    <tr>\n      <th>1</th>\n      <td>L063</td>\n      <td>https://eur-lex.europa.eu/legal-content/ES/TXT...</td>\n    </tr>\n  </tbody>\n</table>\n</div>"
     },
     "metadata": {},
     "execution_count": 191
    }
   ],
   "source": [
    "df_secciones_sumarios"
   ]
  },
  {
   "cell_type": "code",
   "execution_count": 192,
   "metadata": {},
   "outputs": [],
   "source": [
    "# df_secciones_sumarios = pd.DataFrame({'Seccion':['L049'], 'Seccion_link':['https://eur-lex.europa.eu/legal-content/ES/TXT/?uri=OJ:L:2021:049:TOC']})"
   ]
  },
  {
   "cell_type": "code",
   "execution_count": 193,
   "metadata": {},
   "outputs": [
    {
     "output_type": "stream",
     "name": "stdout",
     "text": [
      "https://eur-lex.europa.eu/legal-content/ES/TXT/?uri=OJ:L:2021:062:TOC\nhttps://eur-lex.europa.eu/legal-content/ES/TXT/?uri=OJ:L:2021:063:TOC\n"
     ]
    },
    {
     "output_type": "execute_result",
     "data": {
      "text/plain": [
       "[None, None]"
      ]
     },
     "metadata": {},
     "execution_count": 193
    }
   ],
   "source": [
    "[ print (row) for row in df_secciones_sumarios['Seccion_link']]"
   ]
  },
  {
   "source": [
    "DOUE_sumarios = pd.DataFrame()\n",
    "\n",
    "for URL in df_secciones_sumarios['Seccion_link']:\n",
    "    \n",
    "    ### Recoge Items en Seccion Legislación\n",
    "\n",
    "    #print(URL)\n",
    "    response = requests.get(URL)\n",
    "    sumario_HTML = html.fromstring(response.text)\n",
    "\n",
    "    documentos_Name = sumario_HTML.xpath('//*[@class=\"oj-ti-doc-dur\"]/a[1]/text()[1]')\n",
    "    documentos_URL = sumario_HTML.xpath('//*[@class=\"oj-ti-doc-dur\"]/a[1]/@href')\n",
    "\n",
    "    for row in range(len(documentos_Name)):\n",
    "        DOUE_sumarios = DOUE_sumarios.append({'Seccion': 'L' + documentos_URL[row][-7:-4],\n",
    "                                        'Item_Title': documentos_Name[row],\n",
    "                                        'Item_Link': 'https://eur-lex.europa.eu' + documentos_URL[row][10:],\n",
    "                                        #'Item_Tag': documentos_URL[row][-45:-29],\n",
    "                                        'Item_Doc_Name': '',\n",
    "                                        'Fecha_publicacion': '',\n",
    "                                        'PDF_Link': '',\n",
    "                                        'Tags': '',\n",
    "                                        'Match_ASECORP_BBDD': ''},\n",
    "                                        ignore_index=True)\n"
   ],
   "cell_type": "code",
   "metadata": {},
   "execution_count": 194,
   "outputs": []
  },
  {
   "cell_type": "code",
   "execution_count": 195,
   "metadata": {},
   "outputs": [],
   "source": [
    "# documentos_URL[1][-45:-29]"
   ]
  },
  {
   "cell_type": "code",
   "execution_count": 196,
   "metadata": {},
   "outputs": [
    {
     "output_type": "execute_result",
     "data": {
      "text/plain": [
       "   Fecha_publicacion Item_Doc_Name  \\\n",
       "0                                    \n",
       "1                                    \n",
       "2                                    \n",
       "3                                    \n",
       "4                                    \n",
       "5                                    \n",
       "6                                    \n",
       "7                                    \n",
       "8                                    \n",
       "9                                    \n",
       "10                                   \n",
       "11                                   \n",
       "\n",
       "                                            Item_Link  \\\n",
       "0   https://eur-lex.europa.eu/legal-content/ES/AUT...   \n",
       "1   https://eur-lex.europa.eu/legal-content/ES/AUT...   \n",
       "2   https://eur-lex.europa.eu/legal-content/ES/AUT...   \n",
       "3   https://eur-lex.europa.eu/legal-content/ES/AUT...   \n",
       "4   https://eur-lex.europa.eu/legal-content/ES/AUT...   \n",
       "5   https://eur-lex.europa.eu/legal-content/ES/AUT...   \n",
       "6   https://eur-lex.europa.eu/legal-content/ES/AUT...   \n",
       "7   https://eur-lex.europa.eu/legal-content/ES/AUT...   \n",
       "8   https://eur-lex.europa.eu/legal-content/ES/AUT...   \n",
       "9   https://eur-lex.europa.eu/legal-content/ES/AUT...   \n",
       "10  https://eur-lex.europa.eu/legal-content/ES/AUT...   \n",
       "11  https://eur-lex.europa.eu/legal-content/ES/AUT...   \n",
       "\n",
       "                                           Item_Title Match_ASECORP_BBDD  \\\n",
       "0   Reglamento Delegado (UE) 2021/277 de la Comisi...                      \n",
       "1   Reglamento de Ejecución (UE) 2021/278 de la Co...                      \n",
       "2   Reglamento de Ejecución (UE) 2021/279 de la Co...                      \n",
       "3   Reglamento de Ejecución (UE) 2021/280 de la Co...                      \n",
       "4   Decisión (Euratom) 2021/281 del Consejo, de 22...                      \n",
       "5   Decisión (PESC) 2021/282 del Consejo, de 22 de...                      \n",
       "6   Decisión (PESC) 2021/283 del Consejo, de 22 de...                      \n",
       "7   Decisión (PESC) 2021/284 del Consejo, de 22 de...                      \n",
       "8   Decisión (PESC) 2021/285 del Consejo, de 22 de...                      \n",
       "9   Decisión (PESC) 2021/286 del Consejo, de 22 de...                      \n",
       "10  Reglamento Delegado (UE) 2021/234 de la Comisi...                      \n",
       "11  Reglamento de Ejecución (UE) 2021/235 de la Co...                      \n",
       "\n",
       "   PDF_Link Seccion Tags  \n",
       "0              L062       \n",
       "1              L062       \n",
       "2              L062       \n",
       "3              L062       \n",
       "4              L062       \n",
       "5              L062       \n",
       "6              L062       \n",
       "7              L062       \n",
       "8              L062       \n",
       "9              L062       \n",
       "10             L063       \n",
       "11             L063       "
      ],
      "text/html": "<div>\n<style scoped>\n    .dataframe tbody tr th:only-of-type {\n        vertical-align: middle;\n    }\n\n    .dataframe tbody tr th {\n        vertical-align: top;\n    }\n\n    .dataframe thead th {\n        text-align: right;\n    }\n</style>\n<table border=\"1\" class=\"dataframe\">\n  <thead>\n    <tr style=\"text-align: right;\">\n      <th></th>\n      <th>Fecha_publicacion</th>\n      <th>Item_Doc_Name</th>\n      <th>Item_Link</th>\n      <th>Item_Title</th>\n      <th>Match_ASECORP_BBDD</th>\n      <th>PDF_Link</th>\n      <th>Seccion</th>\n      <th>Tags</th>\n    </tr>\n  </thead>\n  <tbody>\n    <tr>\n      <th>0</th>\n      <td></td>\n      <td></td>\n      <td>https://eur-lex.europa.eu/legal-content/ES/AUT...</td>\n      <td>Reglamento Delegado (UE) 2021/277 de la Comisi...</td>\n      <td></td>\n      <td></td>\n      <td>L062</td>\n      <td></td>\n    </tr>\n    <tr>\n      <th>1</th>\n      <td></td>\n      <td></td>\n      <td>https://eur-lex.europa.eu/legal-content/ES/AUT...</td>\n      <td>Reglamento de Ejecución (UE) 2021/278 de la Co...</td>\n      <td></td>\n      <td></td>\n      <td>L062</td>\n      <td></td>\n    </tr>\n    <tr>\n      <th>2</th>\n      <td></td>\n      <td></td>\n      <td>https://eur-lex.europa.eu/legal-content/ES/AUT...</td>\n      <td>Reglamento de Ejecución (UE) 2021/279 de la Co...</td>\n      <td></td>\n      <td></td>\n      <td>L062</td>\n      <td></td>\n    </tr>\n    <tr>\n      <th>3</th>\n      <td></td>\n      <td></td>\n      <td>https://eur-lex.europa.eu/legal-content/ES/AUT...</td>\n      <td>Reglamento de Ejecución (UE) 2021/280 de la Co...</td>\n      <td></td>\n      <td></td>\n      <td>L062</td>\n      <td></td>\n    </tr>\n    <tr>\n      <th>4</th>\n      <td></td>\n      <td></td>\n      <td>https://eur-lex.europa.eu/legal-content/ES/AUT...</td>\n      <td>Decisión (Euratom) 2021/281 del Consejo, de 22...</td>\n      <td></td>\n      <td></td>\n      <td>L062</td>\n      <td></td>\n    </tr>\n    <tr>\n      <th>5</th>\n      <td></td>\n      <td></td>\n      <td>https://eur-lex.europa.eu/legal-content/ES/AUT...</td>\n      <td>Decisión (PESC) 2021/282 del Consejo, de 22 de...</td>\n      <td></td>\n      <td></td>\n      <td>L062</td>\n      <td></td>\n    </tr>\n    <tr>\n      <th>6</th>\n      <td></td>\n      <td></td>\n      <td>https://eur-lex.europa.eu/legal-content/ES/AUT...</td>\n      <td>Decisión (PESC) 2021/283 del Consejo, de 22 de...</td>\n      <td></td>\n      <td></td>\n      <td>L062</td>\n      <td></td>\n    </tr>\n    <tr>\n      <th>7</th>\n      <td></td>\n      <td></td>\n      <td>https://eur-lex.europa.eu/legal-content/ES/AUT...</td>\n      <td>Decisión (PESC) 2021/284 del Consejo, de 22 de...</td>\n      <td></td>\n      <td></td>\n      <td>L062</td>\n      <td></td>\n    </tr>\n    <tr>\n      <th>8</th>\n      <td></td>\n      <td></td>\n      <td>https://eur-lex.europa.eu/legal-content/ES/AUT...</td>\n      <td>Decisión (PESC) 2021/285 del Consejo, de 22 de...</td>\n      <td></td>\n      <td></td>\n      <td>L062</td>\n      <td></td>\n    </tr>\n    <tr>\n      <th>9</th>\n      <td></td>\n      <td></td>\n      <td>https://eur-lex.europa.eu/legal-content/ES/AUT...</td>\n      <td>Decisión (PESC) 2021/286 del Consejo, de 22 de...</td>\n      <td></td>\n      <td></td>\n      <td>L062</td>\n      <td></td>\n    </tr>\n    <tr>\n      <th>10</th>\n      <td></td>\n      <td></td>\n      <td>https://eur-lex.europa.eu/legal-content/ES/AUT...</td>\n      <td>Reglamento Delegado (UE) 2021/234 de la Comisi...</td>\n      <td></td>\n      <td></td>\n      <td>L063</td>\n      <td></td>\n    </tr>\n    <tr>\n      <th>11</th>\n      <td></td>\n      <td></td>\n      <td>https://eur-lex.europa.eu/legal-content/ES/AUT...</td>\n      <td>Reglamento de Ejecución (UE) 2021/235 de la Co...</td>\n      <td></td>\n      <td></td>\n      <td>L063</td>\n      <td></td>\n    </tr>\n  </tbody>\n</table>\n</div>"
     },
     "metadata": {},
     "execution_count": 196
    }
   ],
   "source": [
    "DOUE_sumarios"
   ]
  },
  {
   "cell_type": "code",
   "execution_count": 197,
   "metadata": {},
   "outputs": [
    {
     "output_type": "stream",
     "name": "stdout",
     "text": [
      "https://eur-lex.europa.eu/legal-content/ES/AUTO/?uri=uriserv:OJ.L_.2021.062.01.0004.01.SPA&toc=OJ:L:2021:062:TOC\n"
     ]
    }
   ],
   "source": [
    "print(DOUE_sumarios['Item_Link'][1])"
   ]
  },
  {
   "cell_type": "code",
   "execution_count": 198,
   "metadata": {},
   "outputs": [],
   "source": [
    "def save_txt(txt, path):\n",
    "    with open(path, 'w') as f:\n",
    "        f.write(txt)\n"
   ]
  },
  {
   "cell_type": "code",
   "execution_count": 199,
   "metadata": {},
   "outputs": [],
   "source": [
    "documentos_FileName = sumario_HTML.xpath('//*[@class=\"DocumentTitle pull-left\"]/text()')"
   ]
  },
  {
   "cell_type": "code",
   "execution_count": 200,
   "metadata": {
    "tags": []
   },
   "outputs": [
    {
     "output_type": "stream",
     "name": "stdout",
     "text": [
      "LA COMISIÓN EUROPEA,Visto el Tratado de Funcionamiento de la Unión Europea,Visto el Reglamento (UE) 2019/1021 del Parlamento Europeo y del Consejo, de 20 de junio de 2019, sobre contaminantes orgánicos persistentes , y en particular su artículo 15, apartado 1,Considerando lo siguiente:(1)El Reglamento (UE) 2019/1021 transpone los compromisos de la Unión en virtud del Convenio de Estocolmo sobre contaminantes orgánicos persistentes  y del Protocolo del Convenio de 1979 sobre la contaminación atmosférica transfronteriza a gran distancia provocada por contaminantes orgánicos persistentes .(2)De conformidad con el artículo 3, apartado 1, del Reglamento (UE) 2019/1021, están prohibidas la fabricación, la comercialización y el uso de las sustancias enumeradas en el anexo I de dicho Reglamento, solas, en mezclas o en artículos, a reserva de lo dispuesto en el artículo 4 de dicho Reglamento.(3)El pentaclorofenol y sus sales y ésteres figuran en el anexo I del Reglamento (UE) 2019/1021 sin valor límite de contaminante en trazas no intencionales.(4)El artículo 15, apartado 1, del Reglamento (UE) 2019/1021 faculta a la Comisión para adoptar actos delegados a fin de modificar las entradas existentes del anexo I para adaptarlas al progreso científico y técnico.(5)La Comisión ha determinado la presencia de pentaclorofenol y sus sales y ésteres como impureza en algunos artículos, en particular en tejidos importados y en astillas de madera recuperadas para la producción de tableros de madera.(6)Para permitir el reciclado continuo de las astillas de madera y facilitar el control del cumplimiento del Reglamento, debe fijarse un límite como contaminante en trazas no intencionales de 5 mg/kg (0,0005 % en peso) correspondiente al pentaclorofenol y sus sales y ésteres.(7)Procede, por tanto, modificar el Reglamento (UE) 2019/1021 en consecuencia.HA ADOPTADO EL PRESENTE REGLAMENTO:El anexo I del Reglamento (UE) 2019/1021 queda modificado con arreglo a lo dispuesto en el anexo del presente Reglamento.El presente Reglamento entrará en vigor a los veinte días de su publicación en el .El presente Reglamento será obligatorio en todos sus elementos y directamente aplicable en cada Estado miembro.Hecho en Bruselas, el 16 de diciembre de 2020.En la parte A del anexo I del Reglamento (UE) 2019/1021, en la cuarta columna («Exención específica respecto a un uso como intermediario u otra especificación») de la entrada correspondiente al pentaclorofenol y sus sales y ésteres, se añade el texto siguiente:«A los efectos de la presente entrada, el artículo 4, apartado 1, letra b), se aplicará a concentraciones de pentaclorofenol y sus sales y ésteres inferiores o iguales a 5 mg/kg (0,0005 % en peso), cuando estén presentes en sustancias, mezclas o artículos.».\n",
      "LA COMISIÓN EUROPEA,Visto el Tratado de Funcionamiento de la Unión Europea,Visto el Reglamento (UE) n.º 1151/2012 del Parlamento Europeo y del Consejo, de 21 de noviembre de 2012, sobre los regímenes de calidad de los productos agrícolas y alimenticios , y en particular su artículo 52, apartado 2,Considerando lo siguiente:(1)De conformidad con el artículo 53, apartado 1, párrafo primero, del Reglamento (UE) n.º 1151/2012, la Comisión ha examinado la solicitud de Francia con vistas a la aprobación de una modificación del pliego de condiciones de la denominación de origen protegida «Volaille de Bresse»/«Poulet de Bresse»/«Poularde de Bresse»/«Chapon de Bresse», registrada en virtud del Reglamento (CE) n.º 1107/96 de la Comisión , modificado por el Reglamento (CE) n.º 1509/2000 de la Comisión  y por el Reglamento de Ejecución (UE) n.º 1121/2013 de la Comisión .(2)Al tratarse de una modificación que no se considera de menor importancia, de conformidad con el artículo 53, apartado 2, del Reglamento (UE) n.º 1151/2012, la Comisión ha publicado la solicitud de modificación en el  , en aplicación del artículo 50, apartado 2, letra a), del citado Reglamento.(3)Al no haberse notificado a la Comisión ninguna declaración de oposición de conformidad con el artículo 51 del Reglamento (UE) n.º 1151/2012, procede aprobar la modificación del pliego de condiciones.HA ADOPTADO EL PRESENTE REGLAMENTO:Queda aprobada la modificación del pliego de condiciones publicada en el  relativa al nombre «Volaille de Bresse»/«Poulet de Bresse»/«Poularde de Bresse»/«Chapon de Bresse» (DOP).El presente Reglamento entrará en vigor a los veinte días de su publicación en el .El presente Reglamento será obligatorio en todos sus elementos y directamente aplicable en cada Estado miembro.Hecho en Bruselas, el 16 de febrero de 2021.\n",
      "LA COMISIÓN EUROPEA,Visto el Tratado de Funcionamiento de la Unión Europea,Visto el Reglamento (UE) 2018/848 del Parlamento Europeo y del Consejo, de 30 de mayo de 2018, sobre producción ecológica y etiquetado de los productos ecológicos y por el que se deroga el Reglamento (CE) n.º 834/2007 del Consejo , y en particular su artículo 28, apartado 3, letra a), su artículo 29, apartado 8, letra a), su artículo 30, apartado 8, su artículo 32, apartado 5, su artículo 36, apartado 4, su artículo 38, apartado 9, su artículo 41, apartado 5, y su artículo 43, apartado 7,Considerando lo siguiente:(1)El capítulo III del Reglamento (UE) 2018/848 establece normas generales de producción con relación a los operadores, como medidas preventivas para evitar la presencia de productos y sustancias no autorizados y las medidas que deben adoptarse en caso de que tales productos o sustancias estén presentes. Con el fin de garantizar condiciones armonizadas para la aplicación de dicho Reglamento, deben establecerse algunas normas adicionales.(2)Teniendo en cuenta la importancia de las medidas preventivas que deben adoptar los operadores para evitar la presencia de productos y sustancias no autorizados contempladas en el artículo 28 del Reglamento (UE) 2018/848, procede establecer el procedimiento que debe seguirse y los documentos pertinentes que deben facilitarse en caso de que los operadores sospechen, debido a la presencia de productos o sustancias no autorizados, que el producto que se prevé utilizar o comercializar en calidad de producto ecológico o en conversión no cumple lo dispuesto en el Reglamento (UE) 2018/848.(3)A fin de garantizar un enfoque armonizado en toda la Unión en lo que respecta a la investigación oficial a que se refiere el artículo 29, apartado 1, letra a), del Reglamento (UE) 2018/848, en caso de presencia de productos o sustancias no autorizados en productos ecológicos o en conversión, deben establecerse normas adicionales sobre los elementos que es necesario determinar cuando se desarrolle dicha investigación, los resultados esperados de la misma y las obligaciones mínimas de información.(4)El capítulo IV del Reglamento (UE) 2018/848 establece disposiciones específicas relativas al etiquetado de productos ecológicos y en conversión. Con objeto de garantizar condiciones uniformes para la aplicación de dicho Reglamento, deben establecerse algunas normas adicionales con relación a la ubicación y el aspecto de determinadas indicaciones en la etiqueta.(5)El capítulo V del Reglamento (UE) 2018/848 establece normas para la certificación de los operadores y grupos de operadores. Con el fin de garantizar condiciones armonizadas para la aplicación de dicho Reglamento, deben establecerse algunas normas adicionales con relación a la certificación de un grupo de operadores.(6)En interés de la eficiencia y la asequibilidad de los costes operativos del Sistema de Controles Internos (SCI), conviene prever un tamaño máximo para los grupos de operadores. Al fijar este límite, se espera que el SCI pueda velar por que todos los miembros del grupo cumplan lo dispuesto en el Reglamento (UE) 2018/848 mediante los controles internos y la formación necesaria. Además, la autoridad competente o, en su caso, la autoridad u organismo de control que certifique al grupo podrá volver a inspeccionar a un número razonable de miembros. La limitación del tamaño ofrecerá garantías adicionales de cara a una lista actualizada de miembros, el intercambio rápido y periódico de información con las autoridades u organismos de control, y garantizará la aplicación de medidas adecuadas. No obstante, el tamaño máximo debe tener en cuenta que un grupo de operadores ha de ser capaz de generar recursos suficientes para establecer un SCI eficiente que dependa de personal cualificado.(7)A fin de aportar pruebas del cumplimiento y facilitar el intercambio de información y la puesta en común de conocimientos, es preciso establecer la lista de documentos y registros que debe conservar un grupo de operadores a efectos del SCI.(8)Este sistema debe constituir la base para la certificación de un grupo de operadores. Por consiguiente, debe solicitarse a los gestores del SCI que informen a la autoridad competente o, en su caso, a la autoridad u organismo de control que expide el certificado de las cuestiones más importantes, como las sospechas de incumplimientos, las suspensiones o retiradas de miembros y toda prohibición de comercialización de un producto como producto ecológico o en conversión.(9)El capítulo VI del Reglamento (UE) 2018/848 establece las normas de los controles oficiales y otras actividades oficiales. Con el fin de garantizar condiciones armonizadas para la aplicación de dicho Reglamento, deben establecerse algunas normas adicionales.(10)A fin de dar continuidad a los actuales sistemas de control nacionales de los Estados miembros, es preciso establecer normas sobre los porcentajes mínimos de controles oficiales y de muestreo.(11)Con objeto de eliminar las divergencias sustanciales en la actual aplicación de los catálogos nacionales de medidas de los Estados miembros, debe establecerse un modelo común de catálogo de medidas y deben preverse orientaciones adicionales sobre la clasificación de los incumplimientos y las medidas adecuadas.(12)La información sobre toda sospecha de incumplimiento o todo incumplimiento demostrado que afecte a la integridad de los productos ecológicos o en conversión debe ser compartida entre los Estados miembros y la Comisión de forma directa y de la manera más eficaz posible, fundamentalmente para permitir que todas las autoridades competentes afectadas desarrollen las investigaciones oficiales y apliquen las medidas necesarias tal como se exige en el artículo 29, apartados 1 y 2, artículo 41, apartados 1, 2 y 3, y artículo 42 del Reglamento (UE) 2018/848. Además, procede especificar los detalles y los procedimientos de puesta en común de dicha información, incluidas las funcionalidades del Sistema de Información sobre Agricultura Ecológica. En este contexto, el Reglamento también debe aclarar que, en caso de que la autoridad u organismo de control sospeche o constate un incumplimiento que afecte a la integridad de los productos ecológicos o en conversión, dicha información debe transferirse sin demora a las autoridades competentes. Por último, el presente Reglamento debe especificar qué información deben compartir, como mínimo, las autoridades y organismos de control con otras autoridades y organismos de control y sus autoridades competentes, y establecer la obligación de que estas últimas adopten las medidas adecuadas y establezcan procedimientos documentados que permitan dicho intercambio de información en su territorio.(13)Los grupos de operadores de terceros países que operen de conformidad con el Reglamento (CE) n.º 834/2007 del Consejo  y los Reglamentos (CE) n.º 889/2008  y (CE) n.º 1235/2008  de la Comisión podrán tener un número de miembros significativamente mayor que el tamaño máximo establecido por el presente Reglamento. Crear nuevos grupos de operadores que cumplan este nuevo requisito puede implicar adaptaciones tangibles para crear la entidad jurídica correspondiente, un SCI y los elementos necesarios para que una autoridad u organismo de control expida la certificación. Por lo tanto, debe preverse un período transitorio de un máximo de tres años a partir del 1 de enero de 2022 para que estos grupos de operadores puedan llevar a cabo las adaptaciones necesarias para respetar el nuevo tamaño máximo.(14)El requisito relativo al catálogo nacional de medidas puede suponer la modificación de los catálogos nacionales de medidas existentes, elaborados hasta la fecha en los Estados miembros de conformidad con los Reglamentos (CE) n.º 834/2007y (CE) n.º 889/2008. Por consiguiente, debe preverse un período transitorio de un máximo de un año a partir del 1 de enero de 2022 en todos los Estados miembros con relación a los catálogos nacionales de medidas existentes a fin de permitirles llevar a cabo las mejoras necesarias o la sustitución de dichos catálogos para cumplir los nuevos requisitos.(15)En interés de la claridad y la seguridad jurídica, el presente Reglamento debe resultar de aplicación a partir de la fecha de aplicación del Reglamento (UE) 2018/848.(16)Las medidas previstas en el presente Reglamento se ajustan al Dictamen del Comité sobre la Producción Ecológica.HA ADOPTADO EL PRESENTE REGLAMENTO:1.   Para comprobar si es posible justificar dicha sospecha de conformidad con el artículo 28, apartado 2, letra b), del Reglamento (UE) 2018/848, el operador tendrá en cuenta los siguientes elementos:a)cuando la sospecha de incumplimiento afecte a un producto ecológico o en conversión recibido, el operador comprobará si:i)la información que figura en la etiqueta del producto ecológico o en conversión y la información de los documentos adjuntos coinciden;ii)la información contenida en el certificado facilitado por el proveedor se refiere al producto realmente adquirido;b)cuando se sospeche que la causa de la presencia de los productos o sustancias no autorizados esté bajo el control del operador, este examinará cualquier posible causa de la presencia de dichos productos o sustancias.2.   Cuando el operador informe a la autoridad competente o, en su caso, la autoridad u organismo de control de conformidad con el artículo 28, apartado 2, letra d), del Reglamento (UE) 2018/848 de una sospecha fundada o cuando esta no pueda descartarse, el operador proporcionará, cuando proceda y se disponga de ellos, al menos los elementos siguientes:a)información y documentos relativos al proveedor (albarán de entrega, factura, certificado del proveedor, certificado de control de los productos ecológicos);b)el seguimiento del producto con los datos del lote, la cantidad de existencias y la cantidad de producto vendida;c)los resultados de laboratorio, procedentes de un laboratorio acreditado, cuando proceda y estén disponibles;d)el registro de muestreo en la que se detallen la hora, el lugar y el método utilizado para tomar la muestra;e)toda información relativa a cualquier sospecha anterior relacionada con el producto o la sustancia no autorizados de que se trate;f)cualquier otro documento pertinente para aclarar el asunto.1.   Sin perjuicio de lo dispuesto en el artículo 38, apartado 2, del Reglamento (UE) 2018/848, cuando lleven a cabo una investigación oficial tal como dispone el artículo 29, apartado 1, letra a), de dicho Reglamento, las autoridades competentes o, en su caso, los organismos o autoridades de control determinarán, al menos, lo siguiente:a)el nombre, los datos del lote, la propiedad y la ubicación física de los productos ecológicos o en conversión de que se trate;b)si los productos en cuestión siguen comercializándose como productos ecológicos o en conversión o se utilizan en la producción ecológica;c)el tipo, el nombre, la cantidad y demás información pertinente de los productos o sustancias no autorizados detectados;d)la fase de producción, preparación, almacenamiento o distribución y el lugar en que se ha detectado exactamente la presencia de productos o sustancias no autorizados, y, especialmente en el caso de la producción vegetal, si la muestra se tomó antes o después de la cosecha;e)si ello afecta a otros operadores de la cadena de suministro;f)los resultados de investigaciones oficiales anteriores con relación a los productos ecológicos o en conversión y los operadores de que se trate.2.   La investigación oficial se llevará a cabo utilizando los métodos y técnicas adecuados, como los mencionados en el artículo 14 y en el artículo 137, apartado 3, del Reglamento (UE) 2017/625 del Parlamento Europeo y del Consejo .3.   La investigación oficial extraerá conclusiones, al menos, sobre:a)la integridad de los productos ecológicos y en conversión;b)el origen y la causa de la presencia de productos o sustancias no autorizados;c)los elementos previstos en el artículo 29, apartado 2, letras a), b) y c), del Reglamento (UE) 2018/848.4.   Las autoridades competentes o, en su caso, las autoridades u organismos de control elaborarán un informe final de cada investigación oficial. El informe final contendrá:a)los registros de los elementos específicos requeridos conforme al presente artículo;b)los registros de la información intercambiada con la autoridad competente, otras autoridades y organismos de control y la Comisión en relación con esta investigación oficial.1.   La indicación prevista en el caso de los productos de origen vegetal en conversión a que se refiere el artículo 30, apartado 3, del Reglamento (UE) 2018/848 figurará en:a)un color, tamaño y estilo tipográfico que no sea más prominente que la denominación de venta del producto; todas las letras de la indicación tendrán el mismo tamaño;b)el mismo campo visual que el código numérico de la autoridad u organismo de control tal como prevé el artículo 32, apartado 1, letra a), del Reglamento (UE) n.º 2018/848.2.   La indicación del código numérico de la autoridad u organismo de control contemplado en el artículo 32, apartado 1, letra a), del Reglamento (UE) 2018/848 figurará en el mismo campo visual que el logotipo de producción ecológica de la Unión Europea, cuando se utilice en el etiquetado.3.   La indicación del lugar en el que se han producido las materias primas agrarias de las que se compone el producto, tal y como se recoge en el artículo 32, apartado 2, del Reglamento (UE) 2018/848, estará situada inmediatamente debajo del código numérico mencionado en el apartado 2 del presente artículo.Un miembro de un grupo de operadores se inscribirá únicamente en un grupo de operadores con relación a un producto determinado, incluso cuando el operador participe en distintas actividades con relación a dicho producto.El tamaño máximo de un grupo de operadores será de 2 000 miembros.El grupo de operadores conservará los siguientes documentos y registros a efectos del Sistema de Controles Internos (SCI):a)la lista de los miembros del grupo de operadores conforme a la inscripción de cada miembro y compuesta por los siguientes elementos relativos a cada uno de ellos:i)el nombre y la identificación (código numérico);ii)los datos de contacto;iii)la fecha de inscripción;iv)la superficie total de tierra gestionada por el miembro y si forma parte de una unidad de producción ecológica, en conversión o no ecológica;v)información sobre cada unidad de producción y/o actividad: el tamaño, la ubicación —incluido un mapa cuando se disponga de él—, el producto y la fecha de inicio del período de conversión y estimaciones del rendimiento;vi)la fecha de la última inspección interna y nombre del inspector del SCI;vii)la fecha del último control oficial realizado por la autoridad competente o, en su caso, la autoridad u organismo de control y nombre del inspector;viii)fecha y versión de la lista;b)los acuerdos de adhesión entre el miembro y el grupo de operadores como persona jurídica, firmados, que incluirán los derechos y responsabilidades del miembro;c)los informes de la inspección interna firmados por el inspector del SCI y el miembro inspeccionado del grupo de operadores, que incluyan al menos los elementos siguientes:i)el nombre del miembro y la ubicación de la unidad o las instalaciones de producción, incluidos los centros de compra y recogida en los que tengan lugar las actividades contempladas en el artículo 36, apartado 1, letra a), del Reglamento (UE) 2018/848, objeto de inspección;ii)la fecha y hora de inicio y fin de la inspección interna;iii)las conclusiones de la inspección;iv)el ámbito/perímetro de la auditoría;v)la fecha de expedición del informe;vi)el nombre del inspector interno;d)los registros de formación de los inspectores del SCI que consten de:i)las fechas de la formación;ii)el objeto de la formación;iii)el nombre del formador;iv)la firma de la persona formada;v)cuando proceda, una evaluación de los conocimientos adquiridos;e)los registros de formación de los miembros del grupo de operadores;f)los registros de las medidas adoptadas en caso de incumplimiento por parte del gestor del SCI, que contendrán:i)los miembros sujetos a medidas de aplicación en caso de incumplimiento, incluyendo los que estén suspendidos o retirados, o los que deban cumplir un nuevo período de conversión;ii)la documentación relativa al incumplimiento detectado;iii)la documentación relativa al seguimiento de las medidas;g)los registros de trazabilidad, incluida información sobre las cantidades, con relación a las actividades siguientes, cuando proceda:i)la compra y distribución de insumos agrícolas, como material de reproducción vegetal, por parte del grupo;ii)la producción, incluida la cosecha;iii)el almacenamiento;iv)la elaboración;v)la entrega de los productos de cada uno de los miembros al sistema común de comercialización;vi)la comercialización de productos por parte del grupo de operadores;h)los acuerdos y contratos por escrito entre el grupo de operadores y los subcontratistas, incluyendo los detalles sobre el carácter de las actividades subcontratadas;i)el nombramiento del gestor del SCI;j)el nombramiento de los inspectores del SCI y la lista de los mismos.El gestor del SCI actualizará la lista de miembros a que se refiere el párrafo primero, letra a), tras toda modificación de los elementos enumerados en la letra a), incisos i) a viii), y señalará si alguno de los miembros ha sido suspendido o retirado como consecuencia de las medidas aplicables en casos de incumplimiento tras inspecciones internas o controles oficiales.El gestor del SCI notificará inmediatamente a la autoridad competente o, en su caso, a la autoridad u organismo de control la siguiente información:a)toda sospecha de incumplimiento grave y crítico;b)toda suspensión o retirada de un miembro o de una unidad de producción o de los locales, incluidos los centros de compra y recogida, del grupo;c)toda prohibición de comercialización de un producto como ecológico o en conversión, incluyendo el nombre del miembro o los miembros de que se trate, las cantidades y la información relativa al lote.Las siguientes normas sobre porcentajes mínimos resultarán de aplicación a los controles oficiales contemplados en el artículo 38, apartado 4, del Reglamento (UE) 2018/848 que debe realizar cada autoridad competente o, en su caso, cada autoridad u organismo de control en función del riesgo de incumplimiento:a)cada año, se realizará sin previo aviso un mínimo del 10 % de todos los controles oficiales a operadores o grupos de operadores;b)cada año, se realizará un mínimo del 10 % de controles adicionales a los contemplados en el artículo 38, apartado 3, del Reglamento (UE) 2018/848;c)cada año, un mínimo del 5 % de los operadores, salvo los operadores exentos de conformidad con el artículo 34, apartado 2, y el artículo 35, apartado 8, del Reglamento (UE) 2018/848, será objeto de muestreo de conformidad con el artículo 14, letra h), del Reglamento (UE) 2017/625;d)cada año, un mínimo del 2 % de los miembros de cada grupo de operadores será objeto de muestreo de conformidad con el artículo 14, letra h), del Reglamento (UE) 2017/625;e)un mínimo del 5 % de los operadores que sean miembros de un grupo de operadores, pero no menos de 10, será objeto de una nueva inspección anualmente. Cuando el grupo tenga 10 miembros o menos, se controlará a todos los miembros con relación a la verificación del cumplimiento a que se refiere el artículo 38, apartado 3, del Reglamento (UE) 2018/848.Las autoridades competentes podrán utilizar las disposiciones uniformes que figuran en el anexo I del presente Reglamento para elaborar un catálogo nacional de medidas con arreglo al artículo 41, apartado 4, del Reglamento (UE) 2018/848.El catálogo nacional de medidas incluirá, como mínimo:a)una lista de los incumplimientos con una referencia a las normas específicas del Reglamento (UE) 2018/848 o del acto delegado o de ejecución adoptado de conformidad con dicho Reglamento;b)la clasificación de los incumplimientos en tres categorías: leve, grave y crítico, teniendo en cuenta al menos los siguientes criterios:i)la aplicación de las medidas preventivas contempladas en el artículo 28, apartado 1, del Reglamento (UE) 2018/848 y los autocontroles previstos en el artículo 9, apartado 1, letra d), del Reglamento (UE) 2017/625;ii)el impacto en la integridad del estado de los productos ecológicos o en conversión;iii)la capacidad del sistema de trazabilidad para localizar los productos afectados en la cadena de suministro;iv)la respuesta a solicitudes anteriores de la autoridad competente o, en su caso, la autoridad u organismo de control;c)las medidas correspondientes a las diferentes categorías de incumplimientos.1.   A los efectos del artículo 43, apartado 1, del Reglamento (UE) 2018/848, las autoridades competentes utilizarán el Sistema de Información sobre Agricultura Ecológica y los modelos establecidos en el anexo II del presente Reglamento para intercambiar información con la Comisión y con otros Estados miembros de conformidad con las siguientes normas:a)un Estado miembro (el Estado miembro notificante) informará a la Comisión y al Estado miembro o los Estados miembros pertinentes (el Estado miembro o los Estados miembros notificados), como mínimo, en las siguientes situaciones:i)cuando el incumplimiento supuesto o demostrado afecte a la integridad de los productos ecológicos o en conversión procedentes de otro Estado miembro;ii)cuando el incumplimiento supuesto o demostrado afecte a la integridad de los productos ecológicos o en conversión importados de un tercer país de conformidad con el artículo 45, apartado 1, o el artículo 57 del Reglamento (UE) 2018/848;iii)cuando el incumplimiento supuesto o demostrado afecte a la integridad de los productos ecológicos o en conversión procedentes del Estado miembro notificante, ya que podría tener implicaciones en uno o más Estados miembros notificados (notificación de alerta);b)en las situaciones contempladas en la letra a), incisos i) y ii), el Estado o los Estados miembros notificados responderán en un plazo de 30 días naturales a partir de la fecha de recepción de la notificación e informarán de las acciones y medidas adoptadas, incluidos los resultados de la investigación oficial, y facilitarán otra información disponible y/o requerida por el Estado miembro notificante;c)el Estado miembro notificante podrá solicitar al Estado o los Estados miembros notificados cualquier información adicional necesaria;d)el Estado miembro notificante efectuará lo antes posible las anotaciones y actualizaciones necesarias en el Sistema de Información sobre Agricultura Ecológica, incluidas las actualizaciones relativas a los resultados de sus propias investigaciones oficiales;e)en la situación a que se refiere la letra a), inciso ii), cuando la Comisión reciba la notificación de un Estado miembro, informará a la autoridad competente o, en su caso, a la autoridad u organismo de control del tercer país.2.   Además de la obligación de informar contemplada en el artículo 32, letra b), del Reglamento (UE) 2017/625, la autoridad u organismo de control notificará, sin demora, a la autoridad competente que le haya otorgado o delegado determinadas tareas de control oficial o determinadas tareas relativas a otras actividades oficiales, de conformidad con el artículo 4, apartado 3, y el artículo 28, apartado 1, o el artículo 31 de dicho Reglamento, todo incumplimiento supuesto o demostrado que afecte a la integridad de los productos ecológicos o en conversión. También facilitará cualquier otra información requerida por dicha autoridad competente.3.   A los efectos del artículo 43, apartado 3, del Reglamento (UE) 2018/848, cuando las distintas autoridades u organismos de control controlen a los operadores o grupos de operadores y/o sus subcontratistas, dichas autoridades y organismos intercambiarán la información pertinente sobre las operaciones de las que estén a cargo.4.   A los efectos del artículo 43, apartado 3, del Reglamento (UE) 2018/848, cuando los operadores o grupos de operadores y/o sus subcontratistas cambien de autoridad u organismo de control, dichos operadores y/o la autoridad u organismo de control de que se trate notificará sin demora dicho cambio a la autoridad competente.La nueva autoridad u organismo de control solicitará el expediente de control del operador o grupo de operadores de que se trate a la autoridad u organismo de control anterior. La autoridad u organismo de control anterior entregará sin demora a la nueva autoridad u organismo de control el expediente del operador o grupo de operadores afectados, incluyendo los registros escritos a que se refiere el artículo 38, apartado 6, del Reglamento (UE) 2018/848, el estado de la certificación, la lista de incumplimientos y las medidas correspondientes adoptadas por la autoridad u organismo de control anterior.La nueva autoridad o el nuevo organismo de control comprobará que el operador haya resuelto o esté resolviendo los incumplimientos indicados en el informe de la autoridad u organismo de control anterior.5.   A los efectos del artículo 43, apartado 3, del Reglamento (UE) 2018/848, cuando los operadores o grupos de operadores sean objeto de un control de trazabilidad y un control del balance de masas, las autoridades y organismos de control intercambiarán la información pertinente que permita finalizar dichos controles.6.   Las autoridades competentes adoptarán las medidas adecuadas y establecerán procedimientos documentados para facilitar el intercambio de información entre dichas autoridades y las autoridades u organismos de control a los que hayan atribuido o delegado determinadas tareas de control oficial o determinadas tareas relacionadas con otras actividades oficiales, así como entre dichas autoridades y/u organismos de control.1.   Los grupos de operadores de terceros países que cumplan lo dispuesto en los Reglamentos (CE) n.º 834/2007, (CE) n.º 889/2008 y (CE) n.º 1235/2008 antes de la fecha de entrada en vigor del presente Reglamento y que requieran cambios administrativos, jurídicos y estructurales importantes con respecto al tamaño máximo del grupo de operadores establecido en el artículo 4, párrafo segundo, del presente Reglamento, cumplirán dicha disposición a partir del 1 de enero de 2025 a más tardar.2.   El catálogo nacional de medidas elaborado de conformidad con el artículo 8 resultará de aplicación a partir del 1 de enero de 2023 a más tardar.El presente Reglamento entrará en vigor a los veinte días de su publicación en el .Resultará de aplicación a partir del 1 de enero de 2022.El presente Reglamento será obligatorio en todos sus elementos y directamente aplicable en cada Estado miembro.Hecho en Bruselas, el 22 de febrero de 2021.a)el incumplimiento será leve cuando:i)las medidas preventivas sean proporcionadas y adecuadas y los controles que haya introducido el operador sean eficaces;ii)el incumplimiento no afecte a la integridad del producto ecológico o en conversión;iii)el sistema de trazabilidad pueda localizar los productos afectados en la cadena de suministro y resulte posible prohibir la comercialización de los mismos con referencia a la producción ecológica;b)el incumplimiento será grave cuando:i)las medidas preventivas no sean proporcionadas ni adecuadas y los controles que haya introducido el operador no sean eficaces;ii)el incumplimiento afecte a la integridad del producto ecológico o en conversión;iii)el operador no corrija a tiempo un incumplimiento leve;iv)el sistema de trazabilidad pueda localizar los productos afectados en la cadena de suministro y resulte posible prohibir la comercialización de los mismos con referencia a la producción ecológica;c)el incumplimiento será crítico cuando:i)las medidas preventivas no sean proporcionadas ni adecuadas y los controles que haya introducido el operador no sean eficaces;ii)el incumplimiento afecte a la integridad del producto ecológico o en conversión;iii)el operador no corrija incumplimientos importantes anteriores o no corrija en repetidas ocasiones otras categorías de incumplimiento;iv)no haya información en el sistema de trazabilidad que permita localizar los productos afectados en la cadena de suministro y no resulte posible prohibir la comercialización de los mismos con referencia a la producción ecológica.Las autoridades competentes o, en su caso, las autoridades u organismos de control podrán aplicar una o varias de las medidas siguientes de manera proporcionada a las categorías de incumplimiento enumeradas:1)Modelo de notificación estándar de un incumplimiento supuesto o demostradoA.1)País:2)Autoridad competente – datos de contacto:*3)Fecha de notificación (DD/MM/AAAA):*4)Referencia:B.*1)País/países:2)Autoridad(es) competente(s) – datos de contacto:C.*1)Categoría de producto:*2)Marca comercial o denominación del producto:*3)País de origen:4)Descripción del producto (tamaño y forma del envase, etc.); se ruega adjuntar copia en papel o escaneada del sello o etiqueta:5)Identificación del lote (por ejemplo, n.º de lote, n.º de entrega, fecha de entrega, etc.):6)Otros datos:D.1)Productor – Datos de contacto – Autoridad competente o, en su caso, autoridad u organismo de control:2)Transformador/vendedor en el país de origen – Datos de contacto – Autoridad competente o, en su caso, autoridad u organismo de control:3)Importador en el país notificante – Datos de contacto – Autoridad competente o, en su caso, autoridad u organismo de control:4)Mayorista – Datos de contacto – Autoridad competente o, en su caso, autoridad u organismo de control:5)Minorista u otro operador en el país notificante, en el que se ha detectado el incumplimiento – Datos de contacto – Autoridad competente o, en su caso, autoridad u organismo de control:E.*1)Carácter del incumplimiento/presunto incumplimiento/otros problemas planteados.2)Contexto en que se ha detectado el incumplimiento/presunto incumplimiento/otro problema planteado – Adjúntese una copia de la factura u otros justificantes:3)Análisis de las muestras/pruebas (cuando proceda) – Adjúntese una copia del informe de análisis:F.1)¿El producto se ha retirado del mercado, ha sido bloqueado o comercializado?2)¿Qué agentes han sido ya informados?3)¿Hay otros Estados miembros afectados? En caso afirmativo, ¿cuáles?G.1)¿Se han adoptado medidas de carácter voluntario (respecto del producto/del operador/del mercado)?2)¿Se han adoptado medidas vinculantes?3)¿Cuál es el ámbito de aplicación de las medidas (nacional, regional, exportaciones, etc.)?4)Fecha de entrada en vigor: (DD/MM/YYYY):5)Duración (en meses):6)Justificación/base jurídica de las medidas:7)¿Qué autoridad competente o, en su caso, autoridad u organismo de control ha adoptado las medidas?H.I.2)Modelo de respuesta estándar a una notificación estándar de un incumplimiento supuesto o demostradoA.1)País:2)Autoridad competente – datos de contacto:*3)Fecha (DD/MM/AAAA):*4)Referencia::B.1)País:2)Autoridad competente – datos de contacto:*3)Fecha de notificación (DD/MM/AAAA):*4)Referencia de la notificación (la misma que en el apartado A.4 de la notificación):*5)Producto:6)Incumplimiento/presunto incumplimiento/otros problemas planteados:C.1)¿Qué autoridad(es) competente(s) o, en su caso, autoridad(es) u organismo(s) de control están o estaban a cargo de la investigación?2)Describa la cooperación entre los distintos operadores y la(s) autoridad(es) competente(s) o, en su caso, autoridad(es) u organismo(s) de control participantes, en los distintos países afectados (cuando proceda):3)¿Qué métodos/procedimientos de investigación se han empleado?:4)¿Cuál es el resultado de la investigación?:5)¿Se han detectado y determinado claramente la causa de la contaminación/el incumplimiento/presunto incumplimiento/otro problema planteado y la responsabilidad de los distintos agentes?:D.*1)¿Qué medidas preventivas o correctoras se han adoptado (por ejemplo, con relación a la distribución/circulación del producto en el mercado de la Unión y los mercados de terceros países)?:2)¿Qué medidas aplicables en caso de incumplimiento/presunto incumplimiento/otro problema planteado se han adoptado con relación a los operadores y/o productos afectados?:3)¿Se prevén inspecciones adicionales a los operadores afectados?:4)¿Qué otras medidas prevén la autoridad competente o, en su caso, autoridad u organismo de control para evitar que se produzcan situaciones similares?:E.F.3)Modelo de notificación de alerta1.2.3.\n",
      "                                                   , \n",
      "                                                4.5.0.Todavía ninguna (explique los motivos)1.Prohibición de comercializar el producto (base – fecha – cantidad)2.Rebaja de la categoría del producto a convencional (base – fecha – cantidad – desde/hasta)3.Suspensión de la certificación del operador (desde/hasta – ámbito de aplicación)4.Retirada de la certificación del operador (a partir de)5.Otras medidas (especifique)6.7.4)Modelo de notificación internacional estándar de un incumplimiento supuesto o demostradoA.*1)País de origen:*2)Categoría de producto:*3)Marca comercial o denominación del producto:4)Descripción del producto (tamaño y forma del envase, etc.); se ruega adjuntar copia en papel o escaneada del sello o etiqueta:5)Identificación del lote (por ejemplo, n.º de lote, n.º de entrega, fecha de entrega, etc.):6)Otros datos:B.Trazabilidad:1)Productor – Datos de contacto – Autoridad u organismo de control:2)Transformador/vendedor/exportador en el país de origen – Datos de contacto – Autoridad u organismo de control:3)Importador en el país notificante – Datos de contacto – Autoridad u organismo de control:4)Mayorista – Datos de contacto – Autoridad u organismo de control:5)Minorista u otro operador en el país notificante, en el que se ha detectado el incumplimiento – Datos de contacto – Autoridad u organismo de control:C.*1)Carácter del incumplimiento/presunto incumplimiento/otros problemas planteados.2)Contexto en que se ha detectado el incumplimiento/presunto incumplimiento/otro problema planteado – Adjúntese una copia de la factura u otros justificantes:3)Análisis de las muestras/pruebas (cuando proceda) – Adjúntese una copia del informe de análisis:D.1)¿El producto se ha retirado del mercado o ha sido bloqueado?2)¿Qué agentes han sido ya informados?3)¿Hay otros Estados miembros afectados? En caso afirmativo, ¿cuáles?E.1)¿Se han adoptado medidas de carácter voluntario (respecto del producto/del operador/del mercado)?2)¿Se han adoptado medidas vinculantes?3)¿Cuál es el ámbito de aplicación de las medidas (nacional, regional, exportaciones, etc.)?4)Fecha de entrada en vigor: (DD/MM/YYYY):5)Duración (en meses):6)Justificación/base jurídica de las medidas:7)¿Qué autoridad u organismo de control ha adoptado las medidas?F.G.-----------\n",
      "LA COMISIÓN EUROPEA,Visto el Tratado de Funcionamiento de la Unión Europea,Visto el Reglamento (UE) 2019/943 del Parlamento Europeo y del Consejo, de 5 de junio de 2019, relativo al mercado interior de la electricidad , y en particular su artículo 59, apartados 1 y 2, y su artículo 60, apartado 1,Considerando lo siguiente:(1)La introducción de normas armonizadas sobre el comercio de electricidad y el funcionamiento de la red a través de códigos de red eléctrica y directrices ha demostrado ser crucial para la realización de un mercado de la electricidad integrado en la Unión.(2)Los Reglamentos (UE) 2015/1222 , (UE) 2016/1719 , (UE) 2017/2195  y (UE) 2017/1485  de la Comisión establecen normas importantes para el buen funcionamiento del mercado interior de la electricidad, ya que adoptan normas detalladas que deben aplicar las autoridades reguladoras a fin de definir conjuntamente las condiciones o metodologías necesarias para la armonización del comercio de electricidad y la explotación de la red en la Unión.(3)La práctica con el proceso de adopción de términos y condiciones o metodologías ha demostrado que deben aclararse dos aspectos del proceso de adopción.(4)Los Reglamentos (UE) 2019/942  y (UE) 2019/943 del Parlamento Europeo y del Consejo modificaron el marco regulador del mercado interior de la electricidad, incluido el proceso para acordar las condiciones o metodologías.(5)Tal como se establece en el artículo 5, apartado 2, del Reglamento (UE) 2019/942, las condiciones o metodologías que anteriormente requerían la aprobación de todas las autoridades reguladoras las adopta ahora directamente la Agencia de la Unión Europea para la Cooperación de los Reguladores de la Energía («la Agencia»). Los Reglamentos (UE) 2019/942 y (UE) 2019/943 también disponen que las autoridades reguladoras nacionales y la Agencia están facultadas para revisar y modificar las propuestas de condiciones o metodologías presentadas por los gestores de redes de transporte (GRT) y los operadores designados del mercado de la electricidad («los operadores designados»).(6)Los Reglamentos (UE) 2019/942 y (UE) 2019/943 establecen asimismo que los reguladores nacionales y la Agencia son responsables de la adopción de los textos definitivos de las condiciones o metodologías, y que tienen derecho a revisar y modificar las propuestas de los GRT o los operadores designados para garantizar que se ajustan a los objetivos de los Reglamentos (UE) 2015/1222, (UE) 2016/1719, (UE) 2017/2195 y (UE) 2017/1485 y contribuyen a la integración del mercado, la no discriminación, la competencia efectiva y el correcto funcionamiento del mercado de la electricidad.(7)Tales cambios deben reflejarse en los Reglamentos (UE) 2015/1222, (UE) 2016/1719, (UE) 2017/2195 y (UE) 2017/1485.(8)La experiencia adquirida con el actual proceso de elaboración de condiciones o metodologías, incluida la jurisprudencia reciente y los retrasos en la aprobación de determinadas condiciones o metodologías, ha hecho necesario revisar el procedimiento de reglamentación para definir las condiciones o metodologías con el fin de garantizar su adopción a su debido tiempo.(9)De conformidad con la jurisprudencia reciente del Tribunal , el Reglamento (UE) 2015/1222 permite a cada una de las autoridades reguladoras nacionales solicitar modificaciones a las propuestas de condiciones o metodologías presentadas por los GRT o los operadores designados. Esta posibilidad podría dar lugar a una secuencia de múltiples solicitudes de modificación, con sus correspondientes propuestas modificadas de términos y condiciones o metodologías, sin perspectivas realistas de aprobación ni de aplicación en plazos correctos. Las consecuencias serían importantes retrasos en la elaboración de las condiciones o metodologías, además de la inseguridad jurídica que podría entrañar la falta de coordinación de las solicitudes de modificación de las propuestas de condiciones o metodologías, ya que seguiría sin estar claro qué solicitud de modificación debe prevalecer en última instancia. Para evitar esta situación, los Reglamentos (UE) 2015/1222, (UE) 2016/1719, (UE) 2017/2195 y (UE) 2017/1485 deben establecer un procedimiento claro para la coordinación de las solicitudes de modificación de las condiciones o metodologías.(10)El procedimiento de las decisiones coordinadas sobre las condiciones o metodologías es idéntico en los Reglamentos (UE) 2015/1222, (UE) 2016/1719, (UE) 2017/2195 y (UE) 2017/1485. Por otra parte, el proceso de modificación de estos cuatro Reglamentos es idéntico. Por lo tanto, está justificado adoptar las modificaciones de estos cuatro Reglamentos mediante un único Reglamento modificativo.(11)Las medidas previstas en el presente Reglamento se ajustan al dictamen del Comité al que se refiere el artículo 67, apartado 2, del Reglamento (UE) 2019/943.HA ADOPTADO EL PRESENTE REGLAMENTO:El artículo 9 del Reglamento (UE) 2015/1222 se sustituye por el texto siguiente:1.   Los GRT y los operadores designados elaborarán los términos y condiciones o las metodologías exigidos por el presente Reglamento y los someterán a la aprobación de la Agencia o de las autoridades reguladoras competentes dentro de los plazos correspondientes previstos en el presente Reglamento. En circunstancias excepcionales, en particular en los casos en que no pueda respetarse un plazo debido a circunstancias ajenas a la responsabilidad de los GRT o los operadores designados, los plazos para las condiciones o metodologías podrán ser prorrogados por la Agencia en los procedimientos con arreglo al apartado 6, conjuntamente por todas las autoridades reguladoras competentes en los procedimientos con arreglo al apartado 7, y por la autoridad reguladora competente en los procedimientos con arreglo al apartado 8.Cuando una propuesta de condiciones o metodologías con arreglo al presente Reglamento deba ser elaborada y acordada por más de un GRT u operador designado, los GRT y operadores designados participantes cooperarán estrechamente. Los GRT, con la ayuda de la REGRT de Electricidad, y todos los operadores designados, informarán periódicamente a las autoridades reguladoras competentes y a la Agencia sobre los progresos en la elaboración de tales condiciones o metodologías.2.   Si los GRT o los operadores designados que decidan sobre las propuestas de términos y condiciones o metodologías enumeradas en el apartado 6 no consiguen llegar a un acuerdo, tomarán una decisión por mayoría cualificada. La mayoría cualificada deberá alcanzarse en cada una de las clases de voto de los GRT y los operadores designados. La mayoría cualificada para la adopción de las propuestas enumeradas en el apartado 6 será una mayoría en la que:a)los GRT y los operadores designados representen al menos el 55 % de los Estados miembros; yb)los GRT y los operadores designados representen a Estados miembros cuya población, en conjunto, sea igual o superior al 65 % de la población de la Unión.La minoría de bloqueo para las decisiones sobre las propuestas de condiciones o metodologías enumeradas en el apartado 6 incluirá GRT u operadores designados que representen, por lo menos, a cuatro Estados miembros, considerándose de lo contrario alcanzada la mayoría cualificada.Para las decisiones de los GRT sobre las propuestas de términos y condiciones o metodologías enumeradas en el apartado 6 se asignará un voto a cada Estado miembro. Si en el territorio de un Estado miembro hay más de un GRT, el Estado miembro deberá repartir los derechos de voto entre los GRT.Para los operadores designados que decidan sobre las propuestas de términos y condiciones o metodologías enumeradas en el apartado 6 se asignará un voto a cada Estado miembro. Cada operador designado dispondrá de un número de votos igual al número de Estados miembros en que esté designado. En el caso de que haya más de un operador designado en el territorio de un Estado miembro, este deberá repartir los derechos de voto entre los operadores designados teniendo en cuenta sus volúmenes respectivos de transacciones de electricidad en ese Estado miembro en el ejercicio anterior.3.   Excepto en los casos previstos en el artículo 43, apartado 1, el artículo 44, el artículo 56, apartado 1, el artículo 63 y el artículo 74, apartado 1, si los GRT que deciden sobre las propuestas de términos y condiciones o metodologías enumeradas en el apartado 7 no consiguen llegar a un acuerdo y si las regiones interesadas abarcan más de cinco Estados miembros, tomarán una decisión por mayoría cualificada. La mayoría cualificada deberá alcanzarse en cada una de las clases de voto de los GRT y los operadores designados. La mayoría cualificada para la adopción de las propuestas de condiciones o metodologías enumeradas en el apartado 7 será una mayoría en la que:a)los GRT representen al menos el 72 % de los Estados miembros interesados; yb)los GRT representen a Estados miembros cuya población, en conjunto, sea igual o superior al 65 % de la población de la región interesada.La minoría de bloqueo para las decisiones sobre las propuestas de condiciones o metodologías enumeradas en el apartado 7 incluirá, por lo menos, el número mínimo de GRT que represente a más del 35 % de la población de los Estados miembros participantes, más los GRT que representen al menos a un Estado miembro interesado adicional, considerándose de lo contrario alcanzada la mayoría cualificada.Los GRT que decidan sobre las propuestas de términos y condiciones o metodologías enumeradas en el apartado 7 en relación con regiones que abarquen cinco Estados miembros o menos deberán hacerlo por consenso.Para las decisiones de los GRT sobre las propuestas de términos y condiciones o metodologías enumeradas en el apartado 7 se asignará un voto a cada Estado miembro. Si en el territorio de un Estado miembro hay más de un GRT, el Estado miembro deberá repartir los derechos de voto entre los GRT.Los operadores designados que decidan sobre las propuestas de términos y condiciones o metodologías enumeradas en el apartado 7 deberán hacerlo por consenso.4.   Si los GRT o los operadores designados no presentan una propuesta inicial o modificada de términos y condiciones o metodologías a las autoridades reguladoras competentes o a la Agencia de conformidad con los apartados 6 a 8 o 12 en los plazos fijados en el presente Reglamento, deberán proporcionar a las autoridades reguladoras competentes y a la Agencia los proyectos pertinentes de propuestas de términos y condiciones o metodologías, así como explicar los motivos que hayan impedido un acuerdo. La Agencia, todas las autoridades reguladoras competentes conjuntamente o la autoridad reguladora competente adoptarán las medidas adecuadas para la adopción de las condiciones o metodologías necesarias de conformidad con los apartados 6, 7 y 8, respectivamente, por ejemplo, solicitando modificaciones o revisando y completando los proyectos de conformidad con el presente apartado, incluso cuando no se hayan presentado proyectos, y las aprobarán.5.   Cada autoridad reguladora o, cuando proceda, la Agencia, según los casos, aprobará las condiciones o metodologías que se utilicen para calcular o establecer el acoplamiento único diario o intradiario desarrollado por los GRT y los operadores designados. Serán responsables de la aprobación de las condiciones o metodologías contempladas en los apartados 6, 7 y 8. Antes de aprobar las condiciones o metodologías, la Agencia o las autoridades reguladoras competentes revisarán las propuestas cuando sea necesario, previa consulta a los GRT u operadores designados respectivos, a fin de garantizar que están en consonancia con el objetivo del presente Reglamento y contribuyen a la integración del mercado, la no discriminación, la competencia efectiva y el correcto funcionamiento del mercado.6.   Las propuestas relativas a las siguientes condiciones o metodologías y sus modificaciones deberán ser aprobadas por la Agencia del siguiente modo:a)el plan de ejecución conjunta de las funciones de OAM, de conformidad con el artículo 7, apartado 3;b)las regiones de cálculo de capacidad de intercambio, de conformidad con el artículo 15, apartado 1;c)la metodología de generación y provisión de datos de consumo, de conformidad con el artículo 16, apartado 1;d)la metodología del modelo de red común, de conformidad con el artículo 17, apartado 1;e)la propuesta de metodología armonizada de cálculo de la capacidad de intercambio, de conformidad con el artículo 21, apartado 4;f)la metodología de contingencia, de conformidad con el artículo 36, apartado 3;g)el algoritmo presentado por los operadores designados, de conformidad con el artículo 37, apartado 5, incluidos los conjuntos de requisitos para los GRT y los operadores designados en relación con el desarrollo del algoritmo, de conformidad con el artículo 37, apartado 1;h)los productos que los operadores designados puedan tener en cuenta en el proceso de acoplamiento único diario e intradiario, de conformidad con los artículos 40 y 53;i)los precios máximos y mínimos, de conformidad con los artículos 41, apartado 1, y 54, apartado 2;j)la metodología de fijación de precios de la capacidad intradiaria que vaya a desarrollarse, de conformidad con el artículo 55, apartado 1;k)los horarios de apertura del mercado intradiario interzonal y de cierre del mercado intradiario interzonal, de conformidad con el artículo 59, apartado 1;l)el plazo de firmeza diario, de conformidad con el artículo 69;m)la metodología para la distribución de los ingresos de congestión, de conformidad con el artículo 73, apartado 1.7.   Las propuestas relativas a las siguientes condiciones o metodologías y sus modificaciones deberán ser aprobadas por todas las autoridades reguladoras de la región interesada:a)la metodología de cálculo de capacidad común, de conformidad con el artículo 20, apartado 2;b)las decisiones relativas a la introducción y al aplazamiento del cálculo de capacidad de intercambio basada en flujos de energía, de conformidad con el artículo 20, apartados 2 a 6, y las exenciones, de conformidad con el artículo 20, apartado 7;c)la metodología para el redespacho y el intercambio compensatorio, de conformidad con el artículo 35, apartado 1;d)las metodologías comunes para el cálculo de los intercambios programados, de conformidad con los artículos 43, apartado 1, y 56, apartado 1;e)los procedimientos de contingencia, de conformidad con el artículo 44;f)las subastas regionales complementarias, de conformidad con el artículo 63, apartado 1;g)las condiciones de oferta de asignación explícita de conformidad con el artículo 64, apartado 2;h)la metodología para compartir los gastos de redistribución o intercambio compensatorio, de conformidad con el artículo 74, apartado 1.8.   Las siguientes condiciones o metodologías y sus modificaciones deberán ser aprobadas individualmente por cada autoridad reguladora u otra autoridad competente de los Estados miembros interesados:a)cuando proceda, la designación y revocación o suspensión de la designación de operadores de conformidad con el artículo 4, apartados 2, 8 y 9;b)si procede, las tarifas o las metodologías usadas para calcular los pagos destinados a los operadores designados relacionados con las negociaciones en los mercados diario e intradiario, de conformidad con el artículo 5, apartado 1;c)las propuestas de los GRT individuales en relación con una revisión de la configuración de las zonas de oferta de conformidad con el artículo 32, apartado 1, letra d);d)cuando proceda, la propuesta de asignación de capacidad de intercambio entre zonas de oferta y otras disposiciones, de conformidad con los artículos 45 y 57;e)los costes de la asignación de capacidad y la gestión de las congestiones, de conformidad con los artículos 75 a 79; yf)si procede, el reparto de los costes regionales del acoplamiento único diario e intradiario, de conformidad con el artículo 80, apartado 4.9.   La propuesta de condiciones o metodologías incluirá una propuesta de calendario para su aplicación y una descripción de su impacto previsto sobre los objetivos del presente Reglamento. Las propuestas de condiciones o metodologías que deban ser aprobadas por varias autoridades reguladoras de conformidad con el apartado 7 se presentarán a la Agencia en el plazo de una semana a partir de su presentación a las autoridades reguladoras. Las propuestas de condiciones o metodologías que deban ser aprobadas por una autoridad reguladora de conformidad con el apartado 8 podrán presentarse a la Agencia en el plazo de un mes a partir de su presentación, a discreción de la autoridad reguladora, mientras que se presentarán a efectos de información cuando la Agencia lo solicite de conformidad con el artículo 3, apartado 2, del Reglamento (UE) 2019/942 si la Agencia considera que la propuesta tiene un impacto transfronterizo. A petición de las autoridades reguladoras competentes, la Agencia emitirá un dictamen en el plazo de tres meses sobre dichas propuestas de condiciones o metodologías.10.   Cuando la aprobación de las condiciones o metodologías de conformidad con el apartado 7 o la modificación de conformidad con el apartado 12 requiera una decisión de más de una autoridad reguladora, las autoridades reguladoras competentes se consultarán, colaborarán estrechamente y se coordinarán entre sí a fin de alcanzar un acuerdo. Cuando proceda, las autoridades reguladoras competentes tendrán en cuenta el dictamen de la Agencia. Las autoridades reguladoras o, cuando sea competente, la Agencia, tomarán las decisiones relativas a las condiciones o metodologías presentadas de conformidad con los apartados 6, 7 y 8 en un plazo de seis meses a partir de la recepción de las condiciones o metodologías por la Agencia o la autoridad reguladora o, cuando proceda, por la última autoridad reguladora interesada. El plazo comenzará el día siguiente a aquel en que se haya presentado la propuesta a la Agencia de conformidad con el apartado 6, a la última autoridad reguladora interesada de conformidad con el apartado 7 o, cuando proceda, a la autoridad reguladora de conformidad con el apartado 8.11.   Si las autoridades reguladoras no han podido alcanzar un acuerdo en el plazo contemplado en el apartado 10, o por solicitud conjunta o solicitud de la Agencia de conformidad con el artículo 5, apartado 3, párrafo tercero, del Reglamento (UE) 2019/942, la Agencia adoptará una decisión relativa a las propuestas presentadas de condiciones o metodologías en un plazo de seis meses, de conformidad con el artículo 5, apartado 3, y el artículo 6, apartado 10, párrafo segundo, del Reglamento (UE) 2019/942.12.   En el caso de que la Agencia, todas las autoridades reguladoras competentes conjuntamente o la autoridad reguladora competente soliciten una modificación para aprobar las condiciones o metodologías presentadas de conformidad con los apartados 6, 7 y 8, respectivamente, los GRT u operadores designados pertinentes presentarán una propuesta de condiciones o metodologías modificadas para su aprobación en un plazo de dos meses a partir de la solicitud de la Agencia, de las autoridades reguladoras competentes o de la autoridad reguladora competente. La Agencia, las autoridades reguladoras competentes o la autoridad reguladora competente decidirán sobre las condiciones o metodologías modificadas en un plazo de dos meses a partir de su presentación. Si las autoridades reguladoras competentes no han podido alcanzar un acuerdo sobre las condiciones o metodologías con arreglo al apartado 7 en el plazo de dos meses, o por solicitud conjunta o solicitud de la Agencia de conformidad con el artículo 5, apartado 3, párrafo tercero, del Reglamento (UE) 2019/942, la Agencia adoptará una decisión relativa a las condiciones o metodologías modificadas en un plazo de seis meses, de conformidad con el artículo 5, apartado 3, y el artículo 6, apartado 10, párrafo segundo, del Reglamento (UE) 2019/942. Si los GRT u operadores designados pertinentes no presentan una propuesta de condiciones o metodologías modificadas, se aplicará el procedimiento descrito en el apartado 4 del presente artículo.13.   La Agencia, todas las autoridades reguladoras competentes conjuntamente o la autoridad reguladora competente, cuando sean responsables de la adopción de términos, condiciones o metodologías de conformidad con los apartados 6, 7 y 8, podrán, respectivamente, solicitar propuestas de modificación de dichas condiciones o metodologías y fijar un plazo para la presentación de tales propuestas. Los GRT u operadores designados responsables de elaborar una propuesta de condiciones o metodologías podrán proponer modificaciones a las autoridades reguladoras y a la Agencia.Las propuestas de modificación de las condiciones o metodologías se someterán a consulta de conformidad con el procedimiento del artículo 12 y se aprobarán de conformidad con el procedimiento establecido en el presente artículo.14.   Los GRT y los operadores designados responsables de establecer las condiciones o metodologías de conformidad con el presente Reglamento las publicarán en internet tras su aprobación por la Agencia o por las autoridades reguladoras competentes, o bien, si no se exige esta aprobación, tras su establecimiento, salvo cuando tal información se considere confidencial de conformidad con el artículo 13.».El artículo 4 del Reglamento (UE) 2016/1719 se sustituye por el texto siguiente:1.   Los GRT elaborarán los términos y condiciones o las metodologías exigidos por el presente Reglamento y los someterán a la aprobación de la Agencia o de las autoridades reguladoras competentes dentro de los plazos correspondientes previstos en el presente Reglamento. En circunstancias excepcionales, en particular en los casos en que no pueda respetarse un plazo debido a circunstancias ajenas a la responsabilidad de los GRT, los plazos para las condiciones o metodologías podrán ser prorrogados por la Agencia en los procedimientos con arreglo al apartado 6 o conjuntamente por todas las autoridades reguladoras competentes en los procedimientos con arreglo al apartado 7. Cuando una propuesta de condiciones o metodologías con arreglo al presente Reglamento deba ser elaborada y acordada por más de un GRT, los GRT participantes cooperarán estrechamente. Los GRT, con la ayuda de la REGRT de Electricidad, informarán periódicamente a las autoridades reguladoras competentes y a la Agencia sobre los progresos en la elaboración de tales condiciones o metodologías.2.   Si los GRT que decidan sobre las propuestas de términos y condiciones o metodologías enumeradas en el apartado 6 no consiguen llegar a un acuerdo, tomarán una decisión por mayoría cualificada. La mayoría cualificada para la adopción de propuestas de conformidad con el apartado 6 será una mayoría en la que:a)los GRT representen al menos el 55 % de los Estados miembros; yb)los GRT representen a Estados miembros cuya población, en conjunto, sea igual o superior al 65 % de la población de la Unión.La minoría de bloqueo para las decisiones sobre las propuestas de condiciones o metodologías enumeradas en el apartado 6 incluirá GRT que representen, por lo menos, a cuatro Estados miembros, considerándose de lo contrario alcanzada la mayoría cualificada.Para las decisiones de los GRT sobre las propuestas de términos y condiciones o metodologías enumeradas en el apartado 6 se asignará un voto a cada Estado miembro. Si en el territorio de un Estado miembro hay más de un GRT, el Estado miembro deberá repartir los derechos de voto entre los GRT.3.   Si los GRT que decidan sobre las propuestas de condiciones o metodologías enumeradas en el apartado 7 no consiguen llegar a un acuerdo y si las regiones interesadas abarcan más de cinco Estados miembros, tomarán una decisión por mayoría cualificada. La mayoría cualificada para la adopción de propuestas de conformidad con el apartado 7 será una mayoría en la que:a)los GRT representen al menos el 72 % de los Estados miembros interesados; yb)los GRT representen a Estados miembros cuya población, en conjunto, sea igual o superior al 65 % de la población de la región interesada.La minoría de bloqueo para las decisiones sobre las propuestas de condiciones o metodologías enumeradas en el apartado 7 incluirá, por lo menos, el número mínimo de GRT que represente a más del 35 % de la población de los Estados miembros participantes, más los GRT que representen al menos a un Estado miembro interesado adicional, considerándose de lo contrario alcanzada la mayoría cualificada.Los GRT que decidan sobre las propuestas de términos y condiciones o metodologías enumeradas en el apartado 7 en relación con regiones que abarquen cinco Estados miembros o menos deberán hacerlo por consenso.Para las decisiones de los GRT sobre las propuestas de términos y condiciones o metodologías enumeradas en el apartado 7 se asignará un voto a cada Estado miembro. Si en el territorio de un Estado miembro hay más de un GRT, el Estado miembro deberá repartir los derechos de voto entre los GRT.4.   Si los GRT no presentan una propuesta inicial o modificada de términos y condiciones o metodologías a las autoridades reguladoras competentes o a la Agencia de conformidad con los apartados 6 y 7 o 11 en los plazos fijados en el presente Reglamento, deberán proporcionar a las autoridades reguladoras competentes y a la Agencia los proyectos pertinentes de propuestas de términos y condiciones o metodologías, así como explicar los motivos que hayan impedido un acuerdo. La Agencia o todas las autoridades reguladoras competentes conjuntamente adoptarán las medidas adecuadas para la adopción de las condiciones o metodologías necesarias de conformidad con los apartados 6 o 7, respectivamente, por ejemplo, solicitando modificaciones o revisando y completando los proyectos de conformidad con el presente apartado, incluso cuando no se hayan presentado proyectos, y las aprobarán.5.   Cada autoridad reguladora o, cuando proceda, la Agencia, será responsable de la aprobación de las condiciones o metodologías contempladas en los apartados 6 y 7. Antes de aprobar las condiciones o metodologías, la Agencia o las autoridades reguladoras competentes revisarán las propuestas cuando sea necesario, previa consulta a los GRT respectivos, a fin de garantizar que están en consonancia con el objetivo del presente Reglamento y contribuyen a la integración del mercado, la no discriminación, la competencia efectiva y el correcto funcionamiento del mercado.6.   Las propuestas relativas a las siguientes condiciones o metodologías y sus modificaciones deberán ser aprobadas por la Agencia del siguiente modo:a)la metodología de provisión de datos de generación y de carga, con arreglo al artículo 17;b)la metodología del modelo de red común, con arreglo al artículo 18;c)los requisitos para la plataforma única de asignación, con arreglo al artículo 49;d)las normas de asignación armonizadas, con arreglo al artículo 51;e)la metodología de distribución de las rentas de congestión, con arreglo al artículo 57.f)la metodología de reparto de los costes de establecimiento, desarrollo y funcionamiento de la plataforma única de asignación, con arreglo al artículo 59;g)la metodología de reparto de los costes incurridos para garantizar la firmeza y la remuneración de los derechos de transmisión a largo plazo, con arreglo al artículo 61.7.   Las propuestas relativas a las siguientes condiciones o metodologías y sus modificaciones deberán ser aprobadas por todas las autoridades reguladoras de la región interesada:a)la metodología de cálculo de la capacidad con arreglo al artículo 10;b)la metodología de subdivisión de la capacidad interzonal con arreglo al artículo 16;c)el diseño regional de los derechos de transmisión a largo plazo con arreglo al artículo 31;d)el establecimiento de procedimientos alternativos de conformidad con el artículo 42;e)los requisitos regionales de las normas de asignación armonizadas con arreglo al artículo 52, incluidas las normas de compensación con arreglo al artículo 55;8.   La propuesta de condiciones o metodologías incluirá una propuesta de calendario para su aplicación y una descripción de su impacto previsto sobre los objetivos del presente Reglamento. Las propuestas de condiciones o metodologías que deban ser aprobadas por varias autoridades reguladoras o por todas ellas de conformidad con el apartado 7 se presentarán a la Agencia en el plazo de una semana a partir de su presentación a las autoridades reguladoras. A petición de las autoridades reguladoras competentes, la Agencia emitirá un dictamen en el plazo de tres meses sobre dichas propuestas de condiciones o metodologías.9.   Cuando la aprobación de las condiciones o metodologías de conformidad con el apartado 7 o la modificación de conformidad con el apartado 11 requiera una decisión de más de una autoridad reguladora, las autoridades reguladoras competentes se consultarán, colaborarán estrechamente y se coordinarán entre sí a fin de alcanzar un acuerdo. Cuando proceda, las autoridades reguladoras competentes tendrán en cuenta el dictamen de la Agencia. Las autoridades reguladoras o, cuando sea competente, la Agencia, tomarán las decisiones relativas a las condiciones o metodologías presentadas de conformidad con los apartados 6 y 7 en un plazo de seis meses a partir de la recepción de las condiciones o metodologías por la Agencia o, cuando proceda, por la última autoridad reguladora interesada. El plazo comenzará el día siguiente a aquel en que se haya presentado la propuesta a la Agencia de conformidad con el apartado 6 o a la última autoridad reguladora interesada de conformidad con el apartado 7.10.   Si las autoridades reguladoras no han podido alcanzar un acuerdo en el plazo contemplado en el apartado 9, o por solicitud conjunta o solicitud de la Agencia de conformidad con el artículo 5, apartado 3, párrafo tercero, del Reglamento (UE) 2019/942, la Agencia adoptará una decisión relativa a las propuestas presentadas de condiciones o metodologías en un plazo de seis meses, de conformidad con el artículo 5, apartado 3, y el artículo 6, apartado 10, párrafo segundo, del Reglamento (UE) 2019/942.11.   En el caso de que la Agencia o todas las autoridades reguladoras competentes conjuntamente soliciten una modificación para aprobar las condiciones o metodologías presentadas de conformidad con los apartados 6 y 7, los GRT pertinentes presentarán una propuesta de condiciones o metodologías modificadas para su aprobación en un plazo de dos meses a partir de la solicitud de Agencia o de las autoridades reguladoras. La Agencia o las autoridades reguladoras competentes decidirán sobre las condiciones o metodologías modificadas en un plazo de dos meses a partir de su presentación. Si las autoridades reguladoras competentes no han podido alcanzar un acuerdo sobre las condiciones o metodologías con arreglo al apartado 7 en el plazo de dos meses, o por solicitud conjunta o solicitud de la Agencia de conformidad con el artículo 5, apartado 3, párrafo tercero, del Reglamento (UE) 2019/942, la Agencia adoptará una decisión relativa a las condiciones o metodologías modificadas en un plazo de seis meses, de conformidad con el artículo 5, apartado 3, y el artículo 6, apartado 10, párrafo segundo, del Reglamento (UE) 2019/942. Si los GRT pertinentes no presentan una propuesta de condiciones o metodologías modificadas, se aplicará el procedimiento descrito en el apartado 4.12.   La Agencia o las autoridades reguladoras conjuntamente, cuando sean responsables de la adopción de condiciones o metodologías de conformidad con los apartados 6 y 7, podrán, respectivamente, solicitar propuestas de modificación de esas condiciones o metodologías y fijar un plazo para la presentación de tales propuestas. Los GRT responsables de elaborar una propuesta de condiciones o metodologías podrán proponer modificaciones a las autoridades reguladoras y a la Agencia.Las propuestas de modificación de las condiciones o metodologías se someterán a consulta de conformidad con el procedimiento del artículo 6 y se aprobarán de conformidad con el procedimiento establecido en el presente artículo.13.   Los GRT responsables de establecer las condiciones o metodologías de conformidad con el presente Reglamento las publicarán en internet tras su aprobación por la Agencia o por las autoridades reguladoras competentes, o bien, si no se exige esta aprobación, tras su establecimiento, salvo cuando tal información se considere confidencial de conformidad con el artículo 7.».Los artículos 4 a 7 del Reglamento (UE) 2017/2195 se sustituyen por el texto siguiente:1.   Los GRT elaborarán los términos y condiciones o las metodologías exigidos por el presente Reglamento y los someterán a la aprobación de la Agencia de conformidad con el artículo 5, apartado 2, o de las autoridades reguladoras pertinentes de conformidad con el artículo 5, apartado 3, dentro de los plazos correspondientes previstos en el presente Reglamento. En circunstancias excepcionales, en particular en los casos en que no pueda respetarse un plazo debido a circunstancias ajenas a la responsabilidad de los GRT, los plazos para las condiciones o metodologías podrán ser prorrogados por la Agencia en los procedimientos con arreglo al artículo 5, apartado 2, conjuntamente por todas las autoridades reguladoras pertinentes en los procedimientos con arreglo al artículo 5, apartado 3, y por la autoridad reguladora pertinente en los procedimientos con arreglo al artículo 5, apartado 4.2.   Cuando una propuesta de condiciones o metodologías con arreglo al presente Reglamento deba ser elaborada y acordada por más de un GRT, los GRT participantes cooperarán estrechamente. Los GRT, con la ayuda de la REGRT de Electricidad, informarán periódicamente a las autoridades reguladoras pertinentes y a la Agencia sobre los progresos en la elaboración de tales condiciones o metodologías.3.   Si los GRT que decidan sobre las propuestas de condiciones o metodologías enumeradas en el artículo 5, apartado 2, no consiguen llegar a un acuerdo, tomarán una decisión por mayoría cualificada. La mayoría cualificada para la adopción de las propuestas enumeradas en el artículo 5, apartado 2, será una mayoría en la que:a)los GRT representen al menos el 55 % de los Estados miembros; yb)los GRT representen a Estados miembros cuya población, en conjunto, sea igual o superior al 65 % de la población de la Unión.La minoría de bloqueo para las decisiones sobre las propuestas de condiciones o metodologías enumeradas en el artículo 5, apartado 2, incluirá GRT que representen, por lo menos, a cuatro Estados miembros, considerándose de lo contrario alcanzada la mayoría cualificada.4.   Si los GRT que decidan sobre las propuestas de términos y condiciones o metodologías enumeradas en el artículo 5, apartado 3, no consiguen llegar a un acuerdo y si las regiones interesadas abarcan más de cinco Estados miembros, tomarán una decisión por mayoría cualificada. La mayoría cualificada para la adopción de propuestas de conformidad con el artículo 5, apartado 3, será una mayoría en la que:a)los GRT representen al menos el 72 % de los Estados miembros interesados; yb)los GRT representen a Estados miembros cuya población, en conjunto, sea igual o superior al 65 % de la población de la zona de que se trate.La minoría de bloqueo para las decisiones sobre las propuestas de condiciones o metodologías enumeradas en el artículo 5, apartado 3, incluirá, por lo menos, un número mínimo de GRT que represente a más del 35 % de la población de los Estados miembros participantes, más los GRT que representen al menos a un Estado miembro interesado adicional, considerándose de lo contrario alcanzada la mayoría cualificada.5.   Los GRT que decidan sobre las propuestas de condiciones o metodologías enumeradas en el artículo 5, apartado 3, en relación con regiones que abarquen cinco Estados miembros o menos deberán hacerlo por consenso.6.   Para las decisiones de los GRT sobre las propuestas de términos y condiciones o metodologías con arreglo a los apartados 3 y 4 se asignará un voto a cada Estado miembro. Si en el territorio de un Estado miembro hay más de un GRT, el Estado miembro deberá repartir los derechos de voto entre los GRT.7.   Si los GRT no presentan una propuesta inicial o modificada de condiciones o metodologías a las autoridades reguladoras pertinentes o a la Agencia de conformidad con los artículos 5 y 6 en los plazos fijados en el presente Reglamento, deberán proporcionar a las autoridades reguladoras pertinentes y a la Agencia los proyectos pertinentes de propuestas de condiciones o metodologías, así como explicar los motivos que hayan impedido un acuerdo. La Agencia, todas las autoridades reguladoras pertinentes conjuntamente o la autoridad reguladora pertinente adoptarán las medidas adecuadas para la adopción de las condiciones o metodologías necesarias de conformidad con el artículo 5, por ejemplo, solicitando modificaciones o revisando y completando los proyectos de conformidad con el presente apartado, incluso cuando no se hayan presentado proyectos, y las aprobarán.1.   Cada autoridad reguladora o, cuando proceda, la Agencia, aprobará las condiciones o metodologías elaboradas por los GRT con arreglo a los apartados 2, 3 y 4. Antes de aprobar las condiciones o metodologías, la Agencia o las autoridades reguladoras pertinentes revisarán las propuestas cuando sea necesario, previa consulta a los GRT respectivos, a fin de garantizar que están en consonancia con el objetivo del presente Reglamento y contribuyen a la integración del mercado, la no discriminación, la competencia efectiva y el correcto funcionamiento del mercado.2.   Las propuestas relativas a las siguientes condiciones o metodologías y sus modificaciones deberán ser aprobadas por la Agencia del siguiente modo:a)los marcos para la creación de las plataformas europeas, con arreglo al artículo 20, apartado 1, al artículo 21, apartado 1, y al artículo 22, apartado 1;b)las modificaciones de los marcos para la creación de las plataformas europeas, con arreglo al artículo 20, apartado 5, y al artículo 21, apartado 5;c)los productos estándar de reserva de balance, con arreglo al artículo 25, apartado 2;d)la metodología de clasificación de los motivos de activación de las ofertas de energía de balance, con arreglo al artículo 29, apartado 3;e)la evaluación del posible incremento del volumen mínimo de ofertas de energía de balance que deben ser enviadas a las plataformas europeas, con arreglo al artículo 29, apartado 11;f)las metodologías para la fijación de precios para la energía de balance y la capacidad interzonal utilizada para el intercambio de energía de balance o la operación del proceso de compensación de desequilibrios, con arreglo al artículo 30, apartados 1 y 5;g)la armonización de la metodología para el proceso de asignación de la capacidad interzonal para el intercambio de reservas de balance o el reparto de reservas, con arreglo al artículo 38, apartado 3;h)la metodología para un proceso de asignación cooptimizado de la capacidad interzonal de intercambio, con arreglo al artículo 40, apartado 1;i)las normas de liquidación GRT-GRT para el intercambio intencionado de energía, con arreglo al artículo 50, apartado 1;j)la armonización de los principales elementos de la liquidación de los desvíos, con arreglo al artículo 52, apartado 2.Un Estado miembro podrá emitir un dictamen a la autoridad reguladora interesada sobre las propuestas de condiciones o metodologías enumeradas en el párrafo primero.3.   Las propuestas relativas a las siguientes condiciones o metodologías y sus modificaciones deberán ser aprobadas por todas las autoridades reguladoras de la región interesada del siguiente modo:a)el marco, respecto de la zona geográfica que afecta a todos los GRT que realicen el proceso de sustitución de reservas, con arreglo a la parte IV del Reglamento (UE) 2017/1485, respecto a la creación de la plataforma europea para las reservas de sustitución, con arreglo al artículo 19, apartado 1;b)respecto de la zona geográfica que afecta a dos o más GRT que intercambien o deseen intercambiarse mutuamente reserva de balance, el establecimiento de normas comunes y armonizadas y de procesos para el intercambio y la contratación de reserva de balance, con arreglo al artículo 33, apartado 1;c)respecto de la zona geográfica que abarca a los GRT que realicen intercambios de reserva de balance, la metodología para calcular la probabilidad de contar con capacidad interzonal de intercambio disponible después de la hora de cierre del mercado interzonal intradiario, con arreglo al artículo 33, apartado 6;d)la exención, respecto de la zona geográfica en que haya tenido lugar la contratación de reserva de balance, de manera que no se permita a los proveedores de servicios de balance transferir sus obligaciones de provisión de reserva de balance, con arreglo al artículo 34, apartado 1;e)la aplicación de un modelo GRT-proveedor de servicios de balance, en una zona geográfica que comprenda dos o más GRT, con arreglo al artículo 35, apartado 1;f)la metodología para el cálculo de la capacidad interzonal de intercambio para cada región de cálculo de la capacidad, con arreglo al artículo 37, apartado 3;g)en una zona geográfica que comprenda dos o más GRT, la aplicación del proceso de asignación de la capacidad interzonal para el intercambio de reserva de balance o el reparto de reservas, con arreglo al artículo 38, apartado 1;h)para cada región de cálculo de la capacidad, la metodología para un proceso de asignación, basado en el mercado, de la capacidad interzonal de intercambio, con arreglo al artículo 41, apartado 1;i)para cada región de cálculo de la capacidad, la metodología para un proceso de asignación de capacidad interzonal de intercambio basada en un análisis de eficiencia económica y la lista de cada asignación individual de capacidad interzonal de intercambio basada en un análisis de eficiencia económica, con arreglo al artículo 42, apartados 1 a 5;j)para la zona geográfica que comprenda todos los GRT que intercambien energía intencionadamente dentro de una zona síncrona, las normas de liquidación GRT-GRT para el intercambio intencionado de energía, con arreglo al artículo 50, apartado 3;k)para la zona geográfica que comprenda todos los GRT de conexión asíncrona que intercambien energía intencionadamente, las normas de liquidación GRT-GRT para el intercambio intencionado de energía, con arreglo al artículo 50, apartado 4;l)para cada zona síncrona, las normas de liquidación GRT-GRT para el intercambio no intencionado de energía, con arreglo al artículo 51, apartado 1;m)para la zona geográfica que comprenda todos los GRT de conexión asíncrona, las normas de liquidación GRT-GRT para el intercambio no intencionado de energía, con arreglo al artículo 51, apartado 2;n)la exención, a nivel de la zona síncrona, de la armonización de los períodos de liquidación de los desvíos, con arreglo al artículo 53, apartado 2;o)para la zona geográfica que comprenda dos o más GRT que realicen intercambio de capacidad, los principios aplicables a los algoritmos de balance, con arreglo al artículo 58, apartado 3.Un Estado miembro podrá emitir un dictamen a la autoridad reguladora interesada sobre las propuestas de condiciones o metodologías enumeradas en el párrafo primero.4.   Las propuestas relativas a las siguientes condiciones o metodologías y sus modificaciones deberán ser aprobadas por cada autoridad reguladora de cada Estado miembro interesado, según el caso:a)la exención de la publicación de información sobre los precios ofertados de la energía de balance o sobre las ofertas de reserva de balance debido a problemas de abuso de mercado, con arreglo al artículo 12, apartado 4;b)si procede, la metodología para la imputación de los costes de las acciones realizadas por los GRD, con arreglo al artículo 15, apartado 3;c)las condiciones relativas al balance, con arreglo al artículo 18;d)la definición y el uso de productos específicos, con arreglo al artículo 26, apartado 1;e)la limitación en la cantidad de ofertas que son enviadas a las plataformas europeas, con arreglo al artículo 29, apartado 10;f)la exención de la contratación separada de reserva de balance a subir y a bajar, con arreglo al artículo 32, apartado 3;g)si procede, el mecanismo de liquidación adicional, independiente de la liquidación de los desvíos, para liquidar los costes de contratación de la reserva de balance, los costes administrativos y demás costes relacionados con el balance, actuando los sujetos de liquidación responsables del balance con arreglo al artículo 44, apartado 3;h)las excepciones a una o varias disposiciones del presente Reglamento, con arreglo al artículo 62, apartado 2;i)los costes relativos a las obligaciones impuestas a los operadores del sistema o entidades terceras asignadas de conformidad con el presente Reglamento, con arreglo al artículo 8, apartado 1.Un Estado miembro podrá emitir un dictamen a la autoridad reguladora interesada sobre las propuestas de condiciones o metodologías enumeradas en el párrafo primero.5.   La propuesta de condiciones o metodologías incluirá una propuesta de calendario para su aplicación y una descripción de su impacto previsto sobre los objetivos del presente Reglamento. El calendario de implementación no superará los doce meses a partir de la aprobación por las autoridades reguladoras pertinentes, salvo si todas las autoridades reguladoras pertinentes acuerdan ampliarlo o si en el presente Reglamento se establecen calendarios diferentes. Las propuestas de condiciones o metodologías que deban ser aprobadas por varias autoridades reguladoras de conformidad con el apartado 3 se presentarán a la Agencia en el plazo de una semana a partir de su presentación a las autoridades reguladoras. Las propuestas de condiciones o metodologías que deban ser aprobadas por una autoridad reguladora de conformidad con el apartado 4 podrán presentarse a la Agencia en el plazo de un mes a partir de su presentación, a discreción de la autoridad reguladora, mientras que se presentarán a efectos de información cuando la Agencia lo solicite de conformidad con el artículo 3, apartado 2, del Reglamento (UE) 2019/942 si la Agencia considera que la propuesta tiene un impacto transfronterizo. A petición de las autoridades reguladoras competentes, la Agencia emitirá un dictamen en el plazo de tres meses sobre las propuestas de condiciones o metodologías.6.   Cuando la aprobación de las condiciones o metodologías de conformidad con el apartado 3 del presente artículo o su modificación de conformidad con el artículo 6 requiera una decisión de más de una autoridad reguladora, las autoridades reguladoras pertinentes se consultarán, colaborarán estrechamente y se coordinarán entre sí a fin de alcanzar un acuerdo. Si la Agencia emite un dictamen, las autoridades reguladoras pertinentes lo tomarán en consideración. Las autoridades reguladoras o, cuando sea competente, la Agencia, decidirán sobre las condiciones o metodologías presentadas de conformidad con los apartados 2, 3 y 4 en un plazo de seis meses a partir de la recepción de las condiciones o metodologías por la Agencia o la autoridad reguladora o, cuando proceda, por la última autoridad reguladora interesada. El plazo comenzará el día siguiente a aquel en que se haya presentado la propuesta a la Agencia de conformidad con el apartado 2, a la última autoridad reguladora interesada de conformidad con el apartado 3 o, cuando proceda, a la autoridad reguladora pertinente de conformidad con el apartado 4.7.   Si las autoridades reguladoras pertinentes no han podido alcanzar un acuerdo en el plazo contemplado en el apartado 6, o por solicitud conjunta o solicitud de la Agencia de conformidad con el artículo 5, apartado 3, párrafo tercero, del Reglamento (UE) 2019/942, la Agencia adoptará una decisión relativa a las propuestas presentadas de condiciones o metodologías en un plazo de seis meses a partir del día en que se le solicite, de conformidad con el artículo 5, apartado 3, y el artículo 6, apartado 10, párrafo segundo, del Reglamento (UE) 2019/942.8.   Las partes podrán interponer una reclamación contra un gestor de red o un GRT pertinente en relación con las obligaciones o decisiones de tal gestor de red o GRT con arreglo al presente Reglamento y podrán remitir la reclamación a la autoridad reguladora pertinente, la cual, en su calidad de autoridad competente para la resolución de conflictos, emitirá una decisión en los dos meses siguientes a la recepción de la reclamación. Este plazo podrá prorrogarse otros dos meses si la autoridad reguladora pertinente solicita información adicional. Este plazo ampliado podrá prorrogarse más con el acuerdo del reclamante. La decisión de la autoridad reguladora pertinente tendrá efecto vinculante a menos que sea revocada a raíz de un recurso y hasta el momento en que lo sea.1.   Si la Agencia, todas las autoridades reguladoras pertinentes conjuntamente o la autoridad reguladora pertinente solicitan una modificación para aprobar las condiciones o metodologías presentadas de conformidad con el artículo 5, apartados 2, 3 y 4, respectivamente, los GRT pertinentes presentarán una propuesta de condiciones o metodologías modificadas para su aprobación en un plazo de dos meses a partir de la solicitud de la Agencia o de las autoridades reguladoras pertinentes. La Agencia o las autoridades reguladoras pertinentes decidirán sobre las condiciones o metodologías modificadas en un plazo de dos meses a partir de su presentación.2.   Si las autoridades reguladoras pertinentes no han podido alcanzar un acuerdo sobre las condiciones o metodologías en el plazo de dos meses, o por solicitud conjunta o solicitud de la Agencia de conformidad con el artículo 5, apartado 3, párrafo tercero, del Reglamento (UE) 2019/942, la Agencia adoptará una decisión relativa a las condiciones o metodologías modificadas en un plazo de seis meses, de conformidad con el artículo 5, apartado 3, y el artículo 6, apartado 10, párrafo segundo, del Reglamento (UE) 2019/942. Si los GRT pertinentes no presentan una propuesta de condiciones o metodologías modificadas, se aplicará el procedimiento descrito en el artículo 4.3.   La Agencia o las autoridades reguladoras, cuando sean responsables de la adopción de condiciones o metodologías de conformidad con el artículo 5, apartados 2, 3 y 4, podrán, respectivamente, solicitar propuestas de modificación de esas condiciones o metodologías y fijar un plazo para la presentación de tales propuestas. Los GRT responsables de elaborar una propuesta de condiciones o metodologías podrán proponer modificaciones a las autoridades reguladoras y a la Agencia. Las propuestas de modificación de las condiciones o metodologías se someterán a consulta de conformidad con el procedimiento del artículo 10 y se aprobarán de conformidad con el procedimiento establecido en los artículos 4 y 5.Los GRT responsables de establecer las condiciones o metodologías de conformidad con el presente Reglamento las publicarán en internet tras su aprobación por la Agencia o por las autoridades reguladoras pertinentes, o bien, si no se exige esta aprobación, tras su establecimiento, salvo cuando tal información se considere confidencial de conformidad con el artículo 11.».Los artículos 5 a 8 del Reglamento (UE) 2017/1485 se sustituyen por el texto siguiente:1.   Los GRT elaborarán los términos y condiciones o las metodologías exigidos por el presente Reglamento y los someterán a la aprobación de la Agencia de conformidad con el artículo 6, apartado 2, de las autoridades reguladoras competentes de conformidad con el artículo 6, apartado 3, o de la entidad designada por el Estado miembro de conformidad con el artículo 6, apartados 4 y 5, dentro de los plazos correspondientes previstos en el presente Reglamento. En circunstancias excepcionales, en particular en los casos en que no pueda respetarse un plazo debido a circunstancias ajenas a la responsabilidad de los GRT, los plazos para las condiciones o metodologías podrán ser prorrogados por la Agencia en los procedimientos con arreglo al artículo 6, apartado 2, conjuntamente por todas las autoridades reguladoras competentes en los procedimientos con arreglo al artículo 6, apartado 3, y por la autoridad reguladora competente en los procedimientos con arreglo al artículo 6, apartados 4 y 5.2.   Cuando una propuesta de condiciones o metodologías con arreglo al presente Reglamento deba ser elaborada y acordada por más de un GRT, los GRT participantes cooperarán estrechamente. Los GRT, con la ayuda de la REGRT de Electricidad, informarán periódicamente a las autoridades reguladoras y a la Agencia sobre los progresos en la elaboración de tales condiciones o metodologías.3.   Si los GRT que decidan sobre las propuestas de condiciones o metodologías enumeradas en el artículo 6, apartado 2, no consiguen llegar a un acuerdo, tomarán una decisión por mayoría cualificada. La mayoría cualificada para la adopción de propuestas de conformidad con el artículo 6, apartado 2, será una mayoría en la que:a)los GRT representen al menos el 55 % de los Estados miembros; yb)los GRT representen a Estados miembros cuya población, en conjunto, sea igual o superior al 65 % de la población de la Unión.4.   La minoría de bloqueo para las decisiones sobre las propuestas de condiciones o metodologías enumeradas en el artículo 6, apartado 2, incluirá GRT que representen, por lo menos, a cuatro Estados miembros, considerándose de lo contrario alcanzada la mayoría cualificada.5.   Si los GRT que decidan sobre las propuestas de condiciones o metodologías de conformidad con el artículo 6, apartado 3, no consiguen llegar a un acuerdo y si las regiones interesadas abarcan más de cinco Estados miembros, tomarán una decisión por mayoría cualificada. La mayoría cualificada para la adopción de propuestas de conformidad con el artículo 6, apartado 3, será una mayoría en la que:a)los GRT representen al menos el 72 % de los Estados miembros interesados; yb)los GRT representen a Estados miembros cuya población, en conjunto, sea igual o superior al 65 % de la población de la región interesada.6.   La minoría de bloqueo para las decisiones sobre las propuestas de condiciones o metodologías enumeradas en el artículo 6, apartado 3, incluirá, por lo menos, un número mínimo de GRT que represente a más del 35 % de la población de los Estados miembros participantes, más los GRT que representen al menos a un Estado miembro interesado adicional, considerándose de lo contrario alcanzada la mayoría cualificada.7.   Los GRT que decidan sobre las propuestas de condiciones o metodologías de conformidad con el artículo 6, apartado 3, en relación con regiones que abarquen cinco Estados miembros o menos, deberán hacerlo por consenso.8.   Para las decisiones de los GRT sobre las propuestas de términos y condiciones o metodologías con arreglo a los apartados 3 y 5 se asignará un voto a cada Estado miembro. Si en el territorio de un Estado miembro hay más de un GRT, el Estado miembro deberá repartir los derechos de voto entre los GRT.9.   Si los GRT no presentan una propuesta inicial o modificada de condiciones o metodologías a las autoridades reguladoras o a la Agencia de conformidad con los artículos 6 y 7, o a las entidades designadas por los Estados miembros de conformidad con el artículo 6, apartado 4, en los plazos fijados en el presente Reglamento, deberán proporcionar a las autoridades reguladoras competentes y a la Agencia los proyectos pertinentes de condiciones o metodologías, así como explicar por qué no se ha alcanzado un acuerdo. La Agencia, todas las autoridades reguladoras competentes conjuntamente o la entidad designada competente adoptarán las medidas adecuadas para la adopción de las condiciones o metodologías necesarias de conformidad con el artículo 6, por ejemplo, solicitando modificaciones o revisando y completando los proyectos de conformidad con el presente apartado, incluso cuando no se hayan presentado proyectos, y las aprobarán.1.   Cada autoridad reguladora o, cuando proceda, la Agencia, aprobará las condiciones o metodologías elaboradas por los GRT con arreglo a los apartados 2 y 3. La entidad designada por el Estado miembro aprobará las condiciones o metodologías elaboradas por los GRT con arreglo al apartado 4. La entidad designada será la autoridad reguladora, salvo disposición en contrario del Estado miembro. Antes de aprobar las condiciones o metodologías, la autoridad reguladora, la Agencia o la entidad designada revisarán las propuestas cuando sea necesario, previa consulta a los GRT respectivos, a fin de garantizar que están en consonancia con el objetivo del presente Reglamento y contribuyen a la integración del mercado, la no discriminación, la competencia efectiva y el correcto funcionamiento del mercado.2.   Las propuestas relativas a las siguientes condiciones o metodologías y sus modificaciones deberán ser aprobadas por la Agencia, pudiendo un Estado miembro emitir un dictamen a la autoridad reguladora interesada:a)los requisitos organizativos, funciones y responsabilidades en relación con el intercambio de datos sobre la seguridad de la operación, de conformidad con el artículo 40, apartado 6;b)la metodología para la elaboración de los modelos de red comunes, de conformidad con el artículo 67, apartado 1, y con el artículo 70;c)la metodología para coordinar los análisis de la seguridad de la operación, de conformidad con el artículo 75.3.   Las propuestas relativas a las siguientes condiciones o metodologías y sus modificaciones deberán ser aprobadas por todas las autoridades reguladoras de la región interesada, pudiendo un Estado miembro emitir un dictamen a la autoridad reguladora interesada:a)la metodología para la definición de la inercia mínima, de conformidad con el artículo 39, apartado 3, letra b), en cada zona síncrona;b)las disposiciones comunes para la coordinación regional de la seguridad de la operación, de conformidad con el artículo 76, en cada región de cálculo de la capacidad;c)la metodología, como mínimo por zona síncrona, para evaluar la relevancia de los activos para la coordinación de indisponibilidades, de conformidad con el artículo 84;d)las metodologías, las condiciones y los valores incluidos en los acuerdos operativos de zona síncrona previstos en el artículo 118, respecto a:i)los parámetros de definición de la calidad de la frecuencia y el parámetro objetivo de la calidad de la frecuencia, de conformidad con el artículo 127,ii)las reglas de dimensionamiento de las RCF, de conformidad con el artículo 153;iii)las propiedades adicionales de las RCF, de conformidad con el artículo 154, apartado 2,iv)en las zonas síncronas GB e IE/NI, las medidas para garantizar la recuperación de los reservorios de energía, de conformidad con el artículo 156, apartado 6, letra b),v)en las zonas síncronas CE y Nórdica, el período mínimo de activación que deben asegurar los proveedores de RCF, de conformidad con el artículo 156, apartado 10;vi)en las zonas síncronas CE y Nórdica, los supuestos y la metodología para el análisis de costes y beneficios, de conformidad con el artículo 156, apartado 11;vii)en las zonas síncronas distintas de la zona CE, y si procede, los límites al intercambio de RCF entre GRT, de conformidad con el artículo 163, apartado 2,viii)en las zonas síncronas GB e IE/NI, la metodología para determinar la provisión mínima de capacidad de reserva en RCF entre zonas síncronas, definida de conformidad con el artículo 174, apartado 2, letra b),ix)los límites al volumen de intercambio de RRF entre zonas síncronas definidos de conformidad con el artículo 176, apartado 1, y los límites al volumen de reparto de RRF entre zonas síncronas definidos de conformidad con el artículo 177, apartado 1,x)los límites al volumen del intercambio de RS entre zonas síncronas, definidos de conformidad con el artículo 178, apartado 1, y los límites al volumen del reparto de RS entre zonas síncronas, definidos de conformidad con el artículo 179, apartado 1;e)las metodologías y condiciones incluidas en los acuerdos operativos de bloque de CFP previstos en el artículo 119 respecto a:i)restricciones de rampas de variación para la generación de potencia activa, de conformidad con el artículo 137, apartados 3 y 4;ii)las medidas de coordinación destinadas a reducir el ECRF definidas en el artículo 152, apartado 14,iii)las medidas para reducir el ECRF mediante la solicitud de cambios en la producción o el consumo de potencia activa de los módulos de generación de electricidad y las unidades de demanda, de conformidad con el artículo 152, apartado 16,iv)las reglas de dimensionamiento de las RCF de conformidad con el artículo 157, apartado 1;f)las medidas de mitigación, por zona síncrona o por bloque de CFP, de conformidad con el artículo 138;g)la propuesta común, por zona síncrona, para la determinación de los bloques de CFP, de conformidad con el artículo 141, apartado 2.4.   Salvo disposición en contrario del Estado miembro, las siguientes condiciones o metodologías y sus modificaciones serán objeto de aprobación individual por la entidad designada por el Estado miembro de conformidad con el apartado 1:a)en las zonas síncronas GB e IE/NI, la propuesta de cada GRT en la que se especifique el nivel de pérdida de demanda en el que la red de transporte se encontrará en estado de apagón;b)el ámbito del intercambio de datos con GRD y USR, de conformidad con el artículo 40, apartado 5;c)los requisitos adicionales para los grupos proveedores de RCF, de conformidad con el artículo 154, apartado 3;d)la exclusión de grupos proveedores de RCF de la provisión de RCF, de conformidad con el artículo 154, apartado 4;e)en las zonas síncronas CE y Nórdica, la propuesta relativa al período mínimo transitorio de activación que deben asegurar los proveedores de RCF, propuesto por el GRT de conformidad con el artículo 156, apartado 9;f)los requisitos técnicos de las RRF definidos por el GRT, de conformidad con el artículo 158, apartado 3;g)la exclusión de grupos proveedores de RRF de la provisión de RRF, de conformidad con el artículo 159, apartado 7;h)los requisitos técnicos para la conexión de las unidades y grupos proveedores de RS, definidos por el GRT de conformidad con el artículo 161, apartado 3; yi)el rechazo de grupos proveedores de RS a efectos de la provisión de RS, de conformidad con el artículo 162, apartado 6.5.   Cuando un solo gestor de red o GRT pertinente esté obligado o autorizado, en aplicación del presente Reglamento, a especificar o acordar requisitos no sujetos al apartado 4, los Estados miembros podrán requerir la aprobación previa de tales requisitos y sus modificaciones por parte de la autoridad reguladora competente.6.   La propuesta de condiciones o metodologías incluirá una propuesta de calendario para su aplicación y una descripción de su impacto previsto sobre los objetivos del presente Reglamento. Las propuestas de condiciones o metodologías que deban ser aprobadas por varias autoridades reguladoras de conformidad con el apartado 3 se presentarán a la Agencia en el plazo de una semana a partir de su presentación a las autoridades reguladoras. Las propuestas de condiciones o metodologías que deban ser aprobadas por una entidad designada de conformidad con el apartado 4 podrán presentarse a la Agencia en el plazo de un mes a partir de su presentación, a discreción de la entidad designada, mientras que se presentarán a petición de la Agencia a efectos de información de conformidad con el artículo 3, apartado 2, del Reglamento (UE) 2019/942 si la Agencia considera que la propuesta tiene un impacto transfronterizo. A petición de las autoridades reguladoras competentes, la Agencia emitirá un dictamen sobre dichas propuestas de condiciones o metodologías en un plazo de tres meses.7.   Cuando la aprobación de las condiciones o metodologías de conformidad con el apartado 3 o la modificación de conformidad con el artículo 7 requiera una decisión de más de una autoridad reguladora con arreglo al apartado 3, las autoridades reguladoras competentes se consultarán, colaborarán estrechamente y se coordinarán entre sí a fin de alcanzar un acuerdo. Si la Agencia emite un dictamen, las autoridades reguladoras competentes lo tomarán en consideración. Las autoridades reguladoras o, cuando sea competente, la Agencia, tomarán las decisiones relativas a las condiciones o metodologías presentadas de conformidad con los apartados 2 y 3 en un plazo de seis meses a partir de la recepción de las condiciones o metodologías por la Agencia o la autoridad reguladora o, cuando proceda, por la última autoridad reguladora interesada. El plazo comenzará el día siguiente a aquel en que se haya presentado la propuesta a la Agencia de conformidad con el apartado 2 o a la última autoridad reguladora interesada de conformidad con el apartado 3.8.   Si las autoridades reguladoras no han podido alcanzar un acuerdo en el plazo contemplado en el apartado 7, o por solicitud conjunta o solicitud de la Agencia de conformidad con el artículo 5, apartado 3, párrafo tercero, del Reglamento (UE) 2019/942, la Agencia adoptará una decisión relativa a las propuestas presentadas de condiciones o metodologías en un plazo de seis meses, de conformidad con el artículo 5, apartado 3, y el artículo 6, apartado 10, párrafo segundo, del Reglamento (UE) 2019/942.9.   Cuando la aprobación de las condiciones o metodologías requiera una decisión de una sola entidad designada de conformidad con el apartado 4 o autoridad reguladora competente de conformidad con el apartado 5, la entidad designada o autoridad reguladora competente tomará una decisión en un plazo de seis meses a partir de la recepción de las condiciones o metodologías. El plazo comenzará el día siguiente a aquel en que se haya presentado la propuesta a la entidad designada de conformidad con el apartado 4 o a la autoridad reguladora competente de conformidad con el apartado 5.10.   Las partes podrán interponer una reclamación contra un gestor de red o GRT pertinente en relación con las obligaciones o decisiones de tal gestor de red o GRT con arreglo al presente Reglamento y podrán remitir la reclamación a la autoridad reguladora, la cual, en su calidad de autoridad competente para la resolución de conflictos, emitirá una decisión en los dos meses siguientes a la recepción de la reclamación. Este plazo podrá prorrogarse otros dos meses si la autoridad reguladora solicita información adicional. Este plazo ampliado podrá prorrogarse más con el acuerdo del reclamante. La decisión de la autoridad reguladora tendrá efecto vinculante, a menos que sea revocada a raíz de un recurso y hasta el momento en que lo sea.1.   Si la Agencia o todas las autoridades reguladoras competentes conjuntamente solicitan una modificación para aprobar las condiciones o metodologías presentadas de conformidad con los apartados 2 y 3 del artículo 6, respectivamente, los GRT pertinentes presentarán una propuesta de condiciones o metodologías modificadas para su aprobación en un plazo de dos meses a partir de la solicitud de Agencia o de las autoridades reguladoras. La Agencia o las autoridades reguladoras competentes decidirán sobre las condiciones o metodologías modificadas en un plazo de dos meses a partir de su presentación.2.   Si una entidad designada solicita una modificación para aprobar las condiciones o metodologías presentadas de conformidad con el artículo 6, apartado 4, o la autoridad reguladora competente solicita una modificación para aprobar los requisitos presentados de conformidad con el artículo 6, apartado 5, el GRT pertinente presentará una propuesta de condiciones o metodologías modificadas para su aprobación en un plazo de dos meses a partir de la solicitud de la entidad designada o la autoridad reguladora competente. La entidad designada o la autoridad reguladora competente decidirá sobre las condiciones o metodologías modificadas en un plazo de dos meses a partir de su presentación.3.   Si las autoridades reguladoras competentes no han podido alcanzar un acuerdo sobre las condiciones o metodologías con arreglo a los apartados 2 y 3 del artículo 6 en el plazo de dos meses, o por solicitud conjunta o solicitud de la Agencia de conformidad con el artículo 5, apartado 3, párrafo tercero, del Reglamento (UE) 2019/942, la Agencia adoptará una decisión relativa a las condiciones o metodologías modificadas en un plazo de seis meses, de conformidad con el artículo 5, apartado 3, y el artículo 6, apartado 10, párrafo segundo, del Reglamento (UE) 2019/942. Si los GRT pertinentes no presentan una propuesta de condiciones o metodologías modificadas, se aplicará el procedimiento descrito en el artículo 5, apartado 9.4.   La Agencia, las autoridades reguladoras o las entidades designadas, cuando sean responsables de la adopción de condiciones o metodologías de conformidad con el artículo 6, apartados 2, 3 y 4, podrán, respectivamente, solicitar propuestas de modificación de esas condiciones o metodologías y fijar un plazo para la presentación de tales propuestas. Los GRT responsables de elaborar una propuesta de condiciones o metodologías podrán proponer modificaciones a las autoridades reguladoras y a la Agencia. Las propuestas de modificación de las condiciones o metodologías se someterán a consulta de conformidad con el procedimiento del artículo 11 y se aprobarán de conformidad con el procedimiento establecido en los artículos 5 y 6.1.   Los GRT responsables de especificar las condiciones o metodologías de conformidad con el presente Reglamento las publicarán en internet tras su aprobación por la Agencia o por las autoridades reguladoras competentes o bien, si no se exige esta aprobación, tras su especificación, salvo cuando tal información se considere confidencial de conformidad con el artículo 12.2.   Se publicará también lo siguiente:a)las mejoras de las herramientas de gestión de redes, de conformidad con el artículo 55, letra e);b)los parámetros objetivo del ECRF, de conformidad con el artículo 128;c)las restricciones de rampas de variación a nivel de zonas síncronas, de conformidad con el artículo 137, apartado 1;d)las restricciones de rampas de variación a nivel de bloques de CFP, de conformidad con el artículo 137, apartado 3;e)las medidas adoptadas en el estado de alerta debido a una insuficiencia de reservas de potencia activa, de conformidad con el artículo 152, apartado 11; yf)la solicitud de un GRT de conexión de reservas a un proveedor de RCF para que ponga a disposición información en tiempo real, de conformidad con el artículo 154, apartado 11.».El presente Reglamento entrará en vigor a los veinte días de su publicación en el .El presente Reglamento será obligatorio en todos sus elementos y directamente aplicable en cada Estado miembro.Hecho en Bruselas, el 22 de febrero de 2021.\n",
      "EL CONSEJO DE LA UNIÓN EUROPEA,Visto el Tratado constitutivo de la Comunidad Europea de la Energía Atómica, y en particular su artículo 47, párrafos tercero y cuarto,Vista la propuesta de la Comisión Europea,Considerando lo siguiente:(1)El Acuerdo sobre la constitución de la Organización Internacional de la Energía de Fusión ITER para la Ejecución Conjunta del Proyecto ITER  (en lo sucesivo, «Acuerdo ITER») fue firmado en noviembre de 2006 por Euratom, China, Corea del Sur, los Estados Unidos, India, Japón y la Federación de Rusia. Euratom, que es la Parte anfitriona según el Acuerdo ITER, ha tomado la iniciativa en este proyecto.(2)Con la Decisión 2007/198/Euratom , el Consejo estableció la Empresa Común Europea para el ITER y el desarrollo de la energía de fusión () (en lo sucesivo, «Empresa Común») con objeto de que Euratom contribuyera a la Organización Internacional de la Energía de Fusión ITER y a las actividades del planteamiento más amplio con Japón, y de elaborar y coordinar un programa de actividades para preparar la construcción de un reactor de fusión de demostración y de las instalaciones conexas.(3)El artículo 5 de la Decisión 2007/198/Euratom dispone que la Empresa Común tendrá un reglamento financiero propio basado en los principios del Reglamento Delegado (UE) n.º 1271/2013 de la Comisión  y que puede apartarse de dicho Reglamento Delegado cuando así lo exijan las necesidades operativas concretas de aquella, previa consulta a la Comisión. El título IV del reglamento financiero de la Empresa Común regula la ejecución del presupuesto.(4)La Decisión 2007/198/Euratom estableció un importe de referencia financiera que se consideraba necesario para la Empresa Común, junto con la contribución total indicativa de Euratom a dicho importe, que debe facilitarse a través de los programas de investigación y formación comunitarios adoptados en virtud del artículo 7 del Tratado o mediante cualquier otra decisión que adopte el Consejo.(5)La Decisión 2007/198/Euratom fue modificada por la Decisión 2013/791/Euratom del Consejo  para permitir la financiación de las actividades de la Empresa Común durante el marco financiero plurianual para el período 2014-2020 que establece el Reglamento (UE, Euratom) n.º 1311/2013 del Consejo .(6)Una nueva línea de referencia del proyecto ITER, elaborada en el marco de las mejoras en la gestión del proyecto, obtuvo el respaldo del Consejo del ITER en 2016 y 2017. Se utilizó posteriormente para estimar las necesidades de financiación de la Empresa Común. El calendario actualizado de la nueva línea de referencia prevé que el Primer Plasma se conseguirá en diciembre de 2025 y llegar a la fase de pleno rendimiento, con el uso de combustible de deuterio-tritio, en 2035. Ese calendario no prevé un margen para imprevistos, de modo que se basa en la premisa de que todos los riesgos importantes podrán mitigarse.(7)El 12 de abril de 2018, el Consejo reafirmó el compromiso de Euratom con la conclusión satisfactoria del proyecto ITER y otorgó un mandato a la Comisión para que aprobara la nueva línea de referencia del proyecto ITER en nombre de Euratom en una reunión del Consejo ITER a escala ministerial. Al mismo tiempo, el Consejo pidió que la Empresa Común siga cumpliendo sus obligaciones en materia de informes y revisión conforme a las Conclusiones del Consejo de 12 de julio de 2010 y lleve a cabo evaluaciones independientes sobre los avances del ITER atendiendo sobre todo al rendimiento y la gestión de proyectos, en particular la contención en el gasto, el control de la programación de proyectos así como la gestión de riesgo.(8)La presente Decisión permitirá las sinergias y complementariedades con las actividades de investigación sobre fusión financiadas a través del programa de investigación y formación de Euratom. El éxito de la construcción y explotación del ITER se sitúa en la trayectoria vital de la hoja de ruta de la fusión europea respaldada por todas las partes interesadas europeas en el ámbito de la fusión.(9)El Parlamento Europeo y el Consejo establecieron el nivel máximo de los compromisos de Euratom para el ITER en el marco financiero plurianual para el período 2021-2027 que establece el Reglamento (UE, Euratom) 2020/2093 del Consejo  en 5 614 000 000 EUR a precios corrientes.(10)Respetando plenamente el derecho de los Estados miembros a decidir su combinación energética, las acciones con arreglo a la presente Decisión pueden contribuir a la consecución de los objetivos de la hoja de ruta europea de la fusión.(11)Con arreglo a lo dispuesto en los apartados 22 y 23 del Acuerdo interinstitucional de 13 de abril de 2016 sobre la mejora de la legislación , es preciso evaluar ITER sobre la base de la información que se recabe de conformidad con requisitos específicos de seguimiento, si bien evitando un exceso de regulación y cargas administrativas. Dichos requisitos pueden incluir, cuando corresponda, indicadores mensurables que sirvan de base para evaluar los efectos de ITER. Las conclusiones de las evaluaciones realizadas por la Comisión deben comunicarse al Parlamento Europeo, al Consejo, al Comité Económico y Social Europeo, y al Comité de las Regiones. Si el plazo en que deba realizarse la evaluación  es próximo al de la evaluación intermedia, ambas evaluaciones pueden combinarse en una sola que abarque el período combinado.(12)De conformidad con el Reglamento (UE, Euratom) 2018/1046 del Parlamento Europeo y del Consejo  (Reglamento Financiero), el Reglamento (UE, Euratom) n.º 883/2013 del Parlamento Europeo y del Consejo , y los Reglamentos (CE, Euratom) n.º 2988/95 , (Euratom, CE) n.º 2185/96  y (UE) 2017/1939  del Consejo, los intereses financieros de la Unión deben protegerse con medidas proporcionadas, incluidas medidas para la prevención, detección, corrección e investigación de irregularidades, entre ellas el fraude, para la recuperación de los fondos perdidos, indebidamente pagados o mal utilizados y, en su caso, para la imposición de sanciones administrativas.En particular, de conformidad con los Reglamentos (Euratom, CE) n.º 2185/96 y (UE, Euratom) n.º 883/2013, la Oficina Europea de Lucha contra el Fraude (OLAF) está facultada para llevar a cabo investigaciones administrativas, en particular controles y verificaciones , con el fin de establecer si ha habido fraude, corrupción o cualquier otra actividad ilegal que afecte a los intereses financieros de la Unión. De conformidad con el Reglamento (UE) 2017/1939, la Fiscalía Europea está facultada para investigar delitos que afecten a los intereses financieros de la Unión y ejercer la acción penal al respecto, según lo establecido en la Directiva (UE) 2017/1371 del Parlamento Europeo y del Consejo . De conformidad con el Reglamento Financiero, toda persona o entidad que reciba fondos de la Unión debe cooperar plenamente en la protección de los intereses financieros de esta, conceder los derechos y el acceso necesarios a la Comisión, a la OLAF, al Tribunal de Cuentas y, respecto de los Estados miembros participantes en la cooperación reforzada en virtud del Reglamento (UE) 2017/1939, a la Fiscalía Europea, y garantizar que los terceros implicados en la ejecución de los fondos de la Unión concedan derechos equivalentes.(13)La presente Decisión debe garantizar la visibilidad de la financiación de la Comunidad a través de información que sea coherente, efectiva y proporcionada dirigida a múltiples audiencias, incluidos los medios de comunicación y el público en general.(14)Resulta necesario modificar la Decisión 2007/198/Euratom para permitir la financiación de las actividades de la Empresa Común y de las actividades de la Comisión asociadas a ellas en el período 2021-2027 con cargo al presupuesto general de la Unión Europea.(15)Para garantizar el éxito del proyecto ITER y la continuidad de la prestación de la ayuda en el ámbito de actuación pertinente desde el inicio del marco financiero plurianual 2021-2027, la presente Decisión debe ser aplicable con efecto retroactivo desde el 1 de enero de 2021 y debe entrar en vigor con carácter de urgencia.(16)Por lo tanto, procede modificar la Decisión 2007/198/Euratom en consecuencia.HA ADOPTADO LA PRESENTE DECISIÓN:La Decisión 2007/198/Euratom se modifica como sigue:1)El artículo 4 se modifica como sigue:a)el apartado 3 se sustituye por el texto siguiente:«3.   La contribución indicativa de Euratom a la Empresa Común para el período 2021-2027, incluido el gasto de apoyo al respecto que se menciona en el apartado 4 para el mismo período, ascenderá a 5 614 000 000 EUR a precios corrientes.»;b)se añade el apartado siguiente:«4.   El importe mencionado en el apartado 3 también podrá sufragar gastos de preparación, seguimiento, control, auditoría, evaluación y demás actividades y costes necesarios para gestionar y ejecutar la presente Decisión, incluidos los gastos administrativos, así como la evaluación del logro de sus objetivos. También podrá sufragar gastos de estudios y reuniones de expertos, y gastos ligados a las redes de tecnologías de la información que se centran en el intercambio y el tratamiento de información, incluidas las herramientas corporativas de tecnología de la información y otras ayudas técnicas y administrativas necesarias para la gestión de la presente Decisión.».2)Se suprime el artículo 5 .3)Se inserta el artículo siguiente:1.   Se llevarán a cabo evaluaciones periódicas de la ejecución de la presente Decisión de manera oportuna para poder tenerlas en cuenta en el proceso de toma de decisiones.2.   La Comisión realizará una evaluación intermedia de la ejecución de la presente Decisión a más tardar en 2024, una vez que se disponga de información suficiente sobre la ejecución de la presente Decisión en el período 2021-2027.3.   Al final del período de aplicación de la presente Decisión, a más tardar cuatro años después de finalizar el período que se especifica en el artículo 4, apartado 3, la Comisión llevará a cabo una evaluación final de la ejecución de la presente Decisión.4.   La Comisión comunicará las conclusiones de las evaluaciones llevadas a cabo con arreglo al presente artículo, junto con sus observaciones, al Parlamento Europeo, al Consejo, al Comité Económico y Social Europeo y al Comité de las Regiones.».4)Se inserta el artículo siguiente:1.   Los receptores de fondos de la Comunidad harán mención del origen de esta financiación y velarán por darle visibilidad, en particular, cuando promuevan las acciones y sus resultados, facilitando información coherente, efectiva y proporcionada dirigida a múltiples destinatarios, incluidos los medios de comunicación y el público en general.2.   La Comisión llevará a cabo acciones de información y comunicación en relación con la presente Decisión, con las acciones tomadas en virtud de la presente Decisión y con los resultados obtenidos. Los recursos financieros asignados a la presente Decisión también contribuirán a la comunicación institucional de las prioridades políticas de la Unión, en la medida en que estén relacionadas con los objetivos mencionados en el artículo 1.».La presente Decisión entrará en vigor el día siguiente al de su publicación en el \n",
      "            Será aplicable a partir del 1 de enero de 2021.Los destinatarios de la presente Decisión son los Estados miembros.Hecho en Bruselas, el 22 de febrero de 2021.\n",
      "EL CONSEJO DE LA UNIÓN EUROPEA,Visto el Tratado de la Unión Europea, y en particular su artículo 33 y su artículo 31, apartado 2,Vista la propuesta del Alto Representante de la Unión para Asuntos Exteriores y Política de Seguridad,Considerando lo siguiente:(1)El 15 de abril de 2015, el Consejo adoptó la Decisión 2015/598/PESC  por la que se nombraba a D. Peter BURIAN Representante Especial de la Unión Europea (REUE) para Asia Central.(2)El 25 de junio de 2018, el Consejo adoptó la Decisión (PESC) 2018/904  por la que se prorrogaba el mandato de D. Peter BURIAN como REUE para Asia Central. El mandato del REUE fue prorrogado de nuevo mediante la Decisión (PESC) 2020/252 del Consejo . El mandato del REUE finaliza el 28 de febrero de 2021.(3)Procede prorrogar el mandato del REUE por un nuevo período de cuatro meses, dentro del importe de referencia financiera establecido en el artículo 5, apartado 1, de la Decisión (PESC) 2018/904, modificada por la Decisión (PESC) 2020/252.(4)El REUE desempeñará su mandato en el contexto de una situación que puede deteriorarse y que podría impedir el cumplimiento de los objetivos de la acción exterior de la Unión establecidos en el artículo 21 del Tratado.HA ADOPTADO LA PRESENTE DECISIÓN:La Decisión (PESC) 2018/904 se modifica como sigue:1)El artículo 1 se sustituye por el texto siguiente:El mandato de D. Peter BURIAN como Representante Especial de la Unión Europea (REUE) para Asia Central se prorroga hasta el 30 de junio de 2021. El Consejo podrá decidir que el mandato del REUE termine antes de esa fecha, basándose en una evaluación del Comité Político y de Seguridad (CPS) y a propuesta del Alto Representante de la Unión para Asuntos Exteriores y Política de Seguridad (en lo sucesivo, “Alto Representante”).».2)En el artículo 14, el párrafo segundo se sustituye por el texto siguiente:«El informe global definitivo sobre la ejecución del mandato del REUE se presentará a más tardar el 30 de abril de 2021.».La presente Decisión entrará en vigor el día de su adopción.Hecho en Bruselas, el 22 de febrero de 2021.\n",
      "EL CONSEJO DE LA UNIÓN EUROPEA,Visto el Tratado de la Unión Europea, y en particular su artículo 33 y su artículo 31, apartado 2,Vista la propuesta del Alto Representante de la Unión para Asuntos Exteriores y Política de Seguridad,Considerando lo siguiente:(1)El 7 de diciembre de 2015, el Consejo adoptó la Decisión (PESC) 2015/2274 , por la que se nombraba a D. Ángel LOSADA FERNÁNDEZ Representante Especial de la Unión Europea (REUE) para el Sahel.(2)El 25 de junio de 2018, el Consejo adoptó la Decisión (PESC) 2018/906  por la que se prorrogaba el mandato de D. Ángel LOSADA FERNÁNDEZ como REUE para el Sahel. El mandato del REUE fue prorrogado de nuevo mediante la Decisión (PESC) 2020/253 del Consejo . El mandato del REUE finaliza el 28 de febrero de 2021.(3)Procede prorrogar el mandato del REUE por un nuevo período de cuatro meses, dentro del importe de referencia financiera establecido en el artículo 5, apartado 1, de la Decisión (PESC) 2018/906, modificada por la Decisión (PESC) 2020/253.(4)El REUE desempeñará su mandato en el contexto de una situación que puede deteriorarse y que podría impedir el cumplimiento de los objetivos de la acción exterior de la Unión establecidos en el artículo 21 del Tratado.HA ADOPTADO LA PRESENTE DECISIÓN:La Decisión (PESC) 2018/906 se modifica como sigue:1)En el artículo 1, el apartado 1 se sustituye por el texto siguiente:«El mandato de D. Ángel LOSADA FERNÁNDEZ como Representante Especial de la Unión Europea (REUE) para el Sahel se prorroga hasta el 30 de junio de 2021. El Consejo podrá decidir que el mandato del REUE termine antes de dicha fecha, basándose en una evaluación del Comité Político y de Seguridad (CPS) y a propuesta del Alto Representante de la Unión para Asuntos Exteriores y Política de Seguridad (en lo sucesivo, “Alto Representante”).».2)En el artículo 14, el párrafo segundo se sustituye por el texto siguiente:«El informe global definitivo sobre la ejecución del mandato del REUE se presentará a más tardar el 30 de abril de 2021.».La presente Decisión entrará en vigor el día de su adopción.Hecho en Bruselas, el 22 de febrero de 2021.\n",
      "EL CONSEJO DE LA UNIÓN EUROPEA,Visto el Tratado de la Unión Europea, y en particular su artículo 33 y su artículo 31, apartado 2,Vista la propuesta del Alto Representante de la Unión para Asuntos Exteriores y Política de Seguridad,Considerando lo siguiente:(1)El 28 de febrero de 2019, el Consejo adoptó la Decisión (PESC) 2019/346  por la que se nombraba a D. Eamon GILMORE Representante Especial de la Unión Europea (REUE) para los derechos humanos. El mandato del REUE finaliza el 28 de febrero de 2021.(2)Procede prorrogar el mandato del REUE por un nuevo período de veinticuatro meses y establecer un nuevo importe de referencia financiera para el período comprendido entre el 1 de marzo de 2021 y el 28 de febrero de 2023.(3)El REUE desempeñará su mandato en el contexto de una situación que puede deteriorarse y que podría impedir el cumplimiento de los objetivos de la acción exterior de la Unión establecidos en el artículo 21 del Tratado.HA ADOPTADO LA PRESENTE DECISIÓN:La Decisión (PESC) 2019/346 se modifica como sigue:1)El artículo 1 se sustituye por el texto siguiente:El mandato de D. Eamon GILMORE como Representante Especial de la Unión Europea (REUE) para los derechos humanos se prorroga hasta el 28 de febrero de 2023. El Consejo podrá decidir que el mandato del REUE termine antes de esa fecha, basándose en una evaluación del Comité Político y de Seguridad (CPS) y a propuesta del Alto Representante de la Unión para Asuntos Exteriores y Política de Seguridad (en lo sucesivo, \"Alto Representante\").».2)En el artículo 5, apartado 1, se añade el párrafo siguiente:«El importe de referencia financiera destinado a cubrir los gastos relacionados con el mandato del REUE para el período comprendido entre el 1 de marzo de 2021 y el 28 de febrero de 2023 será de 2 690 000,00 EUR.».3)En el artículo 12, la segunda frase se sustituye por el texto siguiente:«El REUE presentará al Consejo, al Alto Representante y a la Comisión informes periódicos de situación y un informe global definitivo sobre la ejecución de su mandato a más tardar el 30 de noviembre de 2022.».La presente Decisión entrará en vigor el día de su adopción.Hecho en Bruselas, el 22 de febrero de 2021.\n",
      "EL CONSEJO DE LA UNIÓN EUROPEA,Visto el Tratado de la Unión Europea, y en particular su artículo 33 y su artículo 31, apartado 2,Vista la propuesta del Alto Representante de la Unión para Asuntos Exteriores y Política de Seguridad,Considerando lo siguiente:(1)El 13 de noviembre de 2017, el Consejo adoptó la Decisión (PESC) 2017/2071  por la que se nombraba a D. Toivo KLAAR Representante Especial de la Unión Europea (REUE) para el Cáucaso Meridional y la crisis en Georgia.(2)El 25 de junio de 2018, el Consejo adoptó la Decisión (PESC) 2018/907  por la que se prorrogaba el mandato del REUE, que fue modificada por la Decisión (PESC) 2020/254 del Consejo . El mandato del REUE finaliza el 28 de febrero de 2021.(3)Procede prorrogar el mandato del REUE para el Cáucaso Meridional y la crisis en Georgia por un nuevo período de doce meses y establecer un nuevo importe de referencia financiera para el período comprendido entre el 1 de marzo de 2021 y el 28 de febrero de 2022.(4)El REUE desempeñará el mandato en el contexto de una situación que puede deteriorarse y que podría impedir el cumplimiento de los objetivos de la acción exterior de la Unión establecidos en el artículo 21 del Tratado.HA ADOPTADO LA PRESENTE DECISIÓN:La Decisión (PESC) 2018/907 se modifica como sigue:1)El artículo 1 se sustituye por el texto siguiente:El mandato de D. Toivo KLAAR como Representante Especial de la Unión Europea (REUE) para el Cáucaso Meridional y la crisis en Georgia se prorroga hasta el 28 de febrero de 2022. El Consejo podrá decidir que el mandato del REUE termine antes de dicha fecha, basándose en una evaluación del Comité Político y de Seguridad (CPS) y a propuesta del Alto Representante de la Unión para Asuntos Exteriores y Política de Seguridad (en lo sucesivo, “Alto Representante”).».2)El artículo 3 se sustituye por el texto siguiente:Para alcanzar los objetivos políticos, el mandato del REUE consistirá en:a)desarrollar contactos con los gobiernos, los parlamentos, otros actores políticos clave, la judicatura y la sociedad civil en la región;b)alentar a los países de la región a cooperar, y facilitar esa cooperación, en asuntos regionales de interés común, como las amenazas para la seguridad común, la lucha contra el terrorismo, el tráfico ilícito y la delincuencia organizada; cuando sea posible, fomentar y facilitar la cooperación transfronteriza con el fin de atender a las necesidades locales y de instaurar un clima de confianza y reconciliación;c)contribuir a la resolución pacífica de los conflictos de conformidad con los principios del Derecho internacional, y facilitar la aplicación práctica de las soluciones acordadas, en estrecha coordinación con las Naciones Unidas y la OSCE, y apoyar el Grupo de Minsk de la OSCE y sus copresidentes;d)en relación con la crisis en Georgia:i)contribuir a preparar las conversaciones internacionales previstas en el punto 6 del Acuerdo de 12 de agosto de 2008, las denominadas Conversaciones Internacionales de Ginebra, y a sus medidas de ejecución de 8 de septiembre de 2008, incluidas las medidas de seguridad y estabilidad en la región, la cuestión de los refugiados y los desplazados internos, basándose en los principios reconocidos a nivel internacional, y cualquier otro asunto, de común acuerdo entre las partes,ii)contribuir a definir la posición de la Unión y representarla, al nivel del REUE, en las conversaciones mencionadas en el inciso i), yiii)facilitar la aplicación del Acuerdo de 12 de agosto de 2008, así como de sus medidas de ejecución de 8 de septiembre de 2008;e)facilitar la elaboración y la aplicación de medidas de fomento de la confianza, en coordinación con el personal especializado de los Estados miembros, si se dispone de él y es adecuado;f)facilitar una labor integradora de consolidación de la paz en las sociedades, encaminada a superar los conflictos y a afianzar la paz, y contribuir a dicha labor;g)ayudar a preparar, en su caso, las contribuciones de la Unión a una posible solución de conflictos;h)intensificar el diálogo de la Unión con las principales partes implicadas en relación con la región;i)asistir a la Unión en la elaboración de una política global para el Cáucaso Meridional;j)en el marco de las actividades mencionadas en el presente artículo, contribuir a la aplicación de la política de derechos humanos de la Unión y de las directrices de la Unión en materia de derechos humanos, en particular, por lo que respecta a los niños y a las mujeres en las zonas afectadas por conflictos, especialmente observando la evolución de los acontecimientos a este respecto y actuando en consecuencia.».3)En el artículo 5, apartado 1, se añade el párrafo siguiente:«El importe de referencia financiera destinado a cubrir los gastos relacionados con el mandato del REUE para el período comprendido entre el 1 de marzo de 2021 y el 28 de febrero de 2022 será de 2 940 000 EUR.».4)En el artículo 14, apartado 1, la segunda frase se sustituye por el texto siguiente:«El REUE presentará al Consejo, al Alto Representante y a la Comisión informes periódicos de situación y un informe global final sobre la ejecución de su mandato a más tardar el 30 de noviembre de 2021.».La presente Decisión entrará en vigor el día de su adopción.Hecho en Bruselas, el 22 de febrero de 2021.\n",
      "EL CONSEJO DE LA UNIÓN EUROPEA,Visto el Tratado de la Unión Europea, y en particular su artículo 33 y su artículo 31, apartado 2,Vista la propuesta del Alto Representante de la Unión para Asuntos Exteriores y Política de Seguridad,Considerando lo siguiente:(1)El 18 de septiembre de 2018, el Consejo adoptó la Decisión (PESC) 2018/1248  por la que se nombra a D. Susanna TERSTAL Representante Especial de la Unión Europea (REUE) para el proceso de paz en Oriente Próximo.(2)El 25 de febrero de 2020, el Consejo adoptó la Decisión (PESC) 2020/250  por la que se prorrogaba el mandato de D. Susanna TERSTAL como REUE para el proceso de paz en Oriente Próximo. El mandato de la REUE finaliza el 28 de febrero de 2021.(3)Procede prorrogar el mandato de la REUE para el proceso de paz en Oriente Próximo por un nuevo período de dos meses, dentro del importe de referencia financiera establecido en el artículo 5, apartado 1, de la Decisión (PESC) 2018/1248, modificada por la Decisión (PESC) 2020/250.(4)La REUE para el proceso de paz en Oriente Próximo desempeñará su mandato en el contexto de una situación que puede deteriorarse y que podría impedir el cumplimiento de los objetivos de la acción exterior de la Unión establecidos en el artículo 21 del Tratado.HA ADOPTADO LA PRESENTE DECISIÓN:El artículo 1 de la Decisión (PESC) 2018/1248 se sustituye por el texto siguiente:El mandato de D. Susanna TERSTAL como Representante Especial de la Unión Europea (REUE) para el proceso de paz en Oriente Próximo se prorroga hasta el 30 de abril de 2021.».La presente Decisión entrará en vigor el día de su adopción.Hecho en Bruselas, el 22 de febrero de 2021.\n",
      "LA COMISIÓN EUROPEA,Visto el Tratado de Funcionamiento de la Unión Europea,Visto el Reglamento (UE) n.º 952/2013 del Parlamento Europeo y del Consejo, de 9 de octubre de 2013, por el que se establece el código aduanero de la Unión , y en particular sus artículos 7 y 279,Considerando lo siguiente:(1)La aplicación práctica del Reglamento (UE) n.º 952/2013 (el Código) combinado con el Reglamento Delegado (UE) 2015/2446 de la Comisión  ha puesto de manifiesto que deben introducirse modificaciones en el Reglamento Delegado para armonizar mejor los requisitos comunes en materia de datos correspondientes al intercambio y el almacenamiento de información entre las autoridades aduaneras, así como entre las autoridades aduaneras y los operadores económicos. Esta armonización horizontal es necesaria para garantizar la interoperabilidad entre los sistemas electrónicos aduaneros utilizados en relación con los distintos tipos de declaraciones, notificaciones y prueba del estatuto aduanero de mercancías de la Unión que figuran en el anexo B del Reglamento Delegado (UE) 2015/2446. Por consiguiente, es necesario sustituir dicho anexo.(2)Es necesario modificar el Reglamento Delegado (UE) 2015/2446 para enlazar las distintas declaraciones, notificaciones y prueba del estatuto aduanero de mercancías de la Unión que figuran en el anexo B de dicho Reglamento con los sistemas electrónicos aduaneros contemplados en la Decisión de Ejecución (UE) 2019/2151 de la Comisión  que tratan esas declaraciones, notificaciones y pruebas.(3)También es necesario modificar el Reglamento Delegado (UE) 2015/2446 para enlazar la facultad que tienen los Estados miembros de utilizar los requisitos transitorios en materia de datos aplicables a las declaraciones, las notificaciones y la prueba del estatuto de la Unión contenidos en el Reglamento Delegado (UE) 2016/341 de la Comisión  con la actualización de los sistemas electrónicos aduaneros contemplada en la Decisión de Ejecución (UE) 2019/2151. Así pues, el anexo 1 del Reglamento Delegado (UE) 2016/341 ya no es necesario y debe suprimirse.(4)También es necesario modificar el Reglamento Delegado (UE) 2015/2446 con el fin de conceder tiempo a los Estados miembros que ya hayan actualizado sus sistemas electrónicos nacionales de importación para que los readapten a los nuevos requisitos en materia de datos y, más concretamente, hasta la implantación de la fase 1 del proyecto de Despacho Centralizado de las Importaciones que figura en el anexo de la Decisión de Ejecución (UE) 2019/2151.(5)En septiembre de 2019, la Cámara de Comercio Internacional publicó los Incoterms 2020, que entraron en vigor el 1 de enero de 2020. Para posibilitar la utilización de los nuevos códigos Incoterms en las declaraciones en aduana, debe actualizarse la lista de códigos correspondiente del anexo 9, apéndice D1, del Reglamento Delegado (UE) 2016/341.(6)Procede, por lo tanto, modificar los Reglamentos Delegados (UE) 2015/2446 y (UE) 2016/341 en consecuencia.HA ADOPTADO EL PRESENTE REGLAMENTO:El Reglamento Delegado (UE) 2015/2446 se modifica como sigue:1)El artículo 2 se modifica como sigue:a)el apartado 2 se sustituye por el texto siguiente:«2.   El intercambio y el almacenamiento de información requerida para las declaraciones, las notificaciones y la prueba del estatuto aduanero estarán sujetos a los requisitos comunes en materia de datos establecidos en el anexo B, a partir de las fechas de introducción o de mejora de los sistemas electrónicos enumerados en el anexo C contempladas en el anexo de la Decisión de Ejecución (UE) 2019/2151 de la Comisión.b)se suprime el apartado 3;c)el apartado 4 se sustituye por el texto siguiente:«4.   El intercambio y el almacenamiento de información requerida para las declaraciones, las notificaciones y la prueba del estatuto aduanero estarán sujetos a los requisitos en materia de datos establecidos en el anexo 9 del Reglamento Delegado (UE) 2016/341 del modo siguiente:a)hasta la fecha de implantación del Sistema Automatizado de Exportación en el ámbito del CAU contemplado en el anexo de la Decisión de Ejecución (UE) 2019/2151, en los casos contemplados en las columnas A1, A2, B1 y C1 del anexo B del presente Reglamento;b)hasta la fecha de implantación del componente 1 del sistema electrónico para los Regímenes Especiales en el ámbito del CAU contemplado en el anexo de la Decisión de Ejecución (UE) 2019/2151, en los casos contemplados en las columnas B2 y B3 del anexo B del presente Reglamento;c)hasta la fecha de implantación de la fase 5 del Nuevo Sistema de Tránsito Informatizado en el ámbito del CAU contemplado en el anexo de la Decisión de Ejecución (UE) 2019/2151, en los casos contemplados en la columna D1 del anexo B del presente Reglamento;d)hasta la fecha de implantación de la fase 1 de la Prueba del Estatuto de la Unión en el ámbito del CAU contemplada en el anexo de la Decisión de Ejecución (UE) 2019/2151, en los casos contemplados en la columna E1 del anexo B del presente Reglamento;e)hasta la fecha de implantación de la entrega 2 del Sistema de Control de la Importación en el ámbito del CAU contemplado en el anexo de la Decisión de Ejecución (UE) 2019/2151, en los casos contemplados en las columnas F20 y F30 del anexo B del presente Reglamento y en la notificación de desvío de aeronaves;f)hasta la fecha de implantación de la entrega 3 del Sistema de Control de la Importación en el ámbito del CAU contemplado en el anexo de la Decisión de Ejecución (UE) 2019/2151, en los casos contemplados en las columnas F10, F50 y F51 del anexo B del presente Reglamento y en la notificación de desvío de buques;g)hasta la mejora de los Sistemas Nacionales de Importación contemplada en el anexo de la Decisión de Ejecución (UE) 2019/2151, en los casos contemplados en las columnas H1 a H4 e I1 del anexo B del presente Reglamento.Cuando los requisitos en materia de datos para el intercambio y almacenamiento de la información necesaria para las declaraciones, las notificaciones y la prueba del estatuto aduanero no se contemplen en el anexo 9 del Reglamento Delegado (UE) 2016/341, los Estados miembros velarán por que los respectivos requisitos en materia de datos permitan garantizar la aplicabilidad de las disposiciones que regulen esas declaraciones y notificaciones y la prueba del estatuto aduanero.»;d)se añade el apartado 4  siguiente:«4 .   No obstante lo dispuesto en los apartados 2 y 4, las autoridades aduaneras podrán decidir aplicar los requisitos comunes en materia de datos establecidos en las columnas H1 a H6, I1 e I2 del anexo D del presente Reglamento hasta la fecha en que dichas autoridades aduaneras implanten la fase 1 del Despacho Centralizado de las Importaciones en el ámbito del CAU contemplado en el anexo de la Decisión de Ejecución (UE) 2019/2151.».2)En el índice, después del artículo 256, el título I se modifica como sigue:a)la línea «ANEXO B: Requisitos comunes en materia de datos para las declaraciones, notificaciones y prueba del estatuto aduanero de mercancías de la Unión» se sustituye por «ANEXO B: Requisitos comunes en materia de datos para las declaraciones, notificaciones y prueba del estatuto aduanero de mercancías de la Unión (artículo 2, apartado 2)»;b)se añaden las líneas siguientes después de la línea correspondiente al anexo B:«ANEXO C: Declaraciones, notificaciones y pruebas del estatuto aduanero de mercancías de la Unión y proyectos conexos del programa de trabajo en el ámbito del CAU de la Decisión de Ejecución (UE) 2019/2151ANEXO D: Requisitos comunes en materia de datos para las declaraciones, notificaciones y el estatuto aduanero de mercancías de la Unión (artículo 2, apartado 4 )».3)El anexo B se sustituye por el texto que figura en el anexo I del presente Reglamento.4)El texto que figura en el anexo II del presente Reglamento se añade como nuevo anexo C.5)El texto que figura en el anexo III del presente Reglamento se añade como nuevo anexo D.El Reglamento Delegado (UE) 2016/341 se modifica como sigue:1)Se suprime el anexo 1.2)En el anexo 9, apéndice D1, título II, el cuadro de la casilla n.º 20 se sustituye por el cuadro siguiente:El presente Reglamento entrará en vigor a los veinte días de su publicación en el .El presente Reglamento será obligatorio en todos sus elementos y directamente aplicable en cada Estado miembro.Hecho en Bruselas, el 7 de diciembre de 2020.1)2)3)4)5)6)7)8)9)10)11)12)13)14)15)16)17)                                                                                                                                                                                                                                                                                                                                                                                                                                                                                                                                                                                                                                                                                                                                                                                                                                                                                                                                                                                                                                                                                                                                                                                                                                                                                                                                                                                                                                                                                                                                                                                                                                                                                                                                                                                                                                                                                                                                                                                                                                                                                                                                                                                                                                                                                                                                                                                                                                                                                                                                                                                                                                                                                                                                                                                                                                                                                                                                                                                                                                                                                                                                                                                                                                                                                                                                                                                                                                                                                                                                                                                                                                                                                                                                                                                                                                                                                                                                                                                                                                                                                                                                                                                                                                                                                                                                                                                                                                                                                                                                                                                                                                                                                                                                                                                                                                                                                                                                                                                                                                                                                                                                                                                                                                                                                                                                                                                                                                                                                                                                                                                                                                                                                                                                                                                                                                                                                                                                                                                                                                                                                                                                                                                                                                                                                                                                                                                                                                                                                                                                                                                                                                                                                                                                                                                                                                                                                                                                                                                                                                                                                                                                                                                                                                                                                                                                                                                                                                                                                                                                                                                                                                                                                                                                                                                                                                                                                                                                                                                                                                                                                                                                                                                                                                                                                                                                                                                                                                                                                                                                                                                                                                                                                                                                                                                                                                                                                                                                                                                                                                                                                                                                                                                                                                                                                                                                                                                                                                                                                                                                                                                                                                                                                                                                                                                                                                                                                                                                                                                                                                                                                                                                                                                                                                                                                                                                                                                                                                                                                               —cuando el valor en aduana de las mercancías importadas no exceda de 20 000 EUR por envío, siempre que no se trate de envíos fraccionados o múltiples expedidos por un mismo expedidor al mismo destinatario;o—cuando la importación no revista carácter comercial;o—cuando haga referencia a un tráfico constante de mercancías suministradas por un mismo vendedor a un mismo comprador, en las mismas condiciones comerciales.a)no se aplique un trato preferencial, ob)el país de origen no preferencial sea distinto del país de origen preferencial.—cuando el modelo logístico no permita facilitar este elemento de dato y el titular del régimen de tránsito tenga el estatuto de AEOC y—cuando, en caso necesario, las autoridades aduaneras puedan averiguar la información pertinente consultando los registros del titular del régimen de tránsito.a)cuando las mercancías se declaren para su despacho a libre práctica en el marco del régimen especial aplicable a las ventas a distancia de bienes importados de terceros territorios o de terceros países contemplado en el título XII, capítulo 6, sección 4, de la Directiva 2006/112/CE; ob)cuando las mercancías sean de carácter no comercial y hayan sido enviadas desde un tercer país por particulares a otros particulares de un Estado miembro y estén exentas del IVA con arreglo al artículo 1 de la Directiva 2006/79/CE del Consejo.Las descripciones y notas que se incluyen en el presente título se refieren a los elementos de dato mencionados en los cuadros sobre requisitos en materia de datos del título I, capítulo 3, secciones 1 a 12, del presente anexo.a)Identificación o número de referencia de documentos o certificados internacionales o de la Unión presentados en apoyo de la declaración.Indíquense, utilizando los códigos de la Unión pertinentes, los datos pormenorizados que exija cualquier norma específica aplicable junto con los datos de referencia de los documentos presentados en apoyo de la declaración.b)Número de identificación o de referencia de los documentos o certificados nacionales presentados en apoyo de la declaración.—cuando el valor en aduana de las mercancías importadas no exceda de 20 000 EUR por envío, siempre que no se trate de envíos fraccionados o múltiples expedidos por un mismo expedidor al mismo destinatario; o—cuando la importación no revista carácter comercial; o - cuando haga referencia a un tráfico constante de mercancías suministradas por un mismo vendedor a un mismo comprador, en las mismas condiciones comerciales.a)conocimiento de embarque nominativo expedido por el transportista, o en su caso;b)conocimiento de embarque  expedido por el transportista y el conocimiento de embarque de nivel más básico expedido por otra persona de conformidad con el artículo 112, apartado 1, párrafo primero, en caso de que se expida un conocimiento de embarque adicional para las mismas mercancías que abarca el conocimiento de embarque  del transportista.—cuando el titular del régimen de tránsito esté establecido en una parte contratante del Convenio sobre tránsito común distinta de la Unión;—cuando el titular del régimen de tránsito esté establecido en Andorra o San Marino.—entre 0,001 y 0,499: redondeo a la baja (kg),—entre 0,5 y 0,999: redondeo al alza (kg).—entre 0,001 y 0,499: redondeo a la baja (kg),—entre 0,5 y 0,999: redondeo al alza (kg).—entre 0,001 y 0,499: redondeo a la baja (kg),—entre 0,5 y 0,999: redondeo al alza (kg).a)cuando el palé constituya un artículo separado en la declaración en aduana,b)cuando el tipo del derecho del artículo en cuestión se base en el peso bruto y/o el contingente arancelario del artículo en cuestión se gestione en la unidad de medida “peso bruto”.10.Sistema Automatizado de Exportación (AES) en el ámbito del CAU10.Sistema Automatizado de Exportación (AES) en el ámbito del CAU10.Sistema Automatizado de Exportación (AES) en el ámbito del CAU10.Sistema Automatizado de Exportación (AES) en el ámbito del CAU12.Regímenes Especiales en el ámbito del CAU — componente 1: RE nacional EXP12.Regímenes Especiales en el ámbito del CAU — componente 1: RE nacional EXP10.Sistema Automatizado de Exportación (AES) en el ámbito del CAU10.Sistema Automatizado de Exportación (AES) en el ámbito del CAU12.Regímenes Especiales en el ámbito del CAU — componente 1: RE nacional EXP9.Mejora del Nuevo Sistema de Tránsito Informatizado (NCTS) en el ámbito del CAU — Fase 59.Mejora del Nuevo Sistema de Tránsito Informatizado (NCTS) en el ámbito del CAU — Fase 5 9.Mejora del Nuevo Sistema de Tránsito Informatizado (NCTS) en el ámbito del CAU — Fase 58.Prueba del estatuto de la Unión (PEU) en el ámbito del CAU — Fase 18.Prueba del estatuto de la Unión (PEU) en el ámbito del CAU — Fase 217.Sistema de Control de la Importación 2 (ICS2) — Entrega 317.Sistema de Control de la Importación 2 (ICS2) — Entrega 317.Sistema de Control de la Importación 2 (ICS2) — Entrega 317.Sistema de Control de la Importación 2 (ICS2) — Entrega 317.Sistema de Control de la Importación 2 (ICS2) — Entrega 317.Sistema de Control de la Importación 2 (ICS2) — Entrega 317.Sistema de Control de la Importación 2 (ICS2) — Entrega 317.Sistema de Control de la Importación 2 (ICS2) — Entrega 217.Sistema de Control de la Importación 2 (ICS2) — Entrega 217.Sistema de Control de la Importación 2 (ICS2) — Entrega 217.Sistema de Control de la Importación 2 (ICS2) — Entrega 217.Sistema de Control de la Importación 2 (ICS2) — Entrega 217.Sistema de Control de la Importación 2 (ICS2) — Entrega 217.Sistema de Control de la Importación 2 (ICS2) — Entrega 217.Sistema de Control de la Importación 2 (ICS2) — Entrega 217.Sistema de Control de la Importación 2 (ICS2) — Entrega 217.Sistema de Control de la Importación 2 (ICS2) — Entrega 217.Sistema de Control de la Importación 2 (ICS2) — Entrega 217.Sistema de Control de la Importación 2 (ICS2) — Entrega 217.Sistema de Control de la Importación 2 (ICS2) — Entrega 117.Sistema de Control de la Importación 2 (ICS2) — Entrega 217.Sistema de Control de la Importación 2 (ICS2) — Entrega 317.Sistema de Control de la Importación 2 (ICS2) — Entrega 317.Sistema de Control de la Importación 2 (ICS2) — Entrega 217.Sistema de Control de la Importación 2 (ICS2) — Entrega 117.Sistema de Control de la Importación 2 (ICS2) — Entrega 117.Sistema de Control de la Importación 2 (ICS2) — Entrega 317.Sistema de Control de la Importación 2 (ICS2) — Entrega 317.Sistema de Control de la Importación 2 (ICS2) — Entrega 313.Notificación de la llegada, notificación de la presentación y depósito temporal en el ámbito del CAU13.Notificación de la llegada, notificación de la presentación y depósito temporal en el ámbito del CAU13.Notificación de la llegada, notificación de la presentación y depósito temporal en el ámbito del CAU13.Notificación de la llegada, notificación de la presentación y depósito temporal en el ámbito del CAU14.Mejora de los Sistemas Nacionales de Importación en el ámbito del CAU14.Mejora de los Sistemas Nacionales de Importación en el ámbito del CAU14.Mejora de los Sistemas Nacionales de Importación en el ámbito del CAU14.Mejora de los Sistemas Nacionales de Importación en el ámbito del CAU14.Mejora de los Sistemas Nacionales de Importación en el ámbito del CAU14.Mejora de los Sistemas Nacionales de Importación en el ámbito del CAU 14.Mejora de los Sistemas Nacionales de Importación en el ámbito del CAU14.Mejora de los Sistemas Nacionales de Importación en el ámbito del CAU»1)2)3)4)5)6)7)8)9)10)11)12)   La combinación de los símbolos “X” e “Y” significa que el declarante puede facilitar el elemento de dato determinado a cualquiera de esos dos niveles.(Las notas a pie de página de este cuadro figuran inmediatamente después del mismo)                                                                                                                                                                                                                                                                                                                                    —cuando el valor en aduana de las mercancías importadas no exceda de 20 000  EUR por envío, siempre que no se trate de envíos fraccionados o múltiples expedidos por un mismo expedidor al mismo destinatario;o—cuando la importación no revista carácter comercial;o—cuando haga referencia a un tráfico constante de mercancías suministradas por un mismo vendedor a un mismo comprador, en las mismas condiciones comerciales.(a)no se aplique un trato preferencial, o(b)el país de origen no preferencial sea distinto del país de origen preferencial.a)cuando las mercancías se declaren para su despacho a libre práctica en el marco del régimen especial aplicable a las ventas a distancia de bienes importados de terceros territorios o de terceros países contemplado en el título XII, capítulo 6, sección 4, de la Directiva 2006/112/CE; ob)cuando las mercancías sean de carácter no comercial y hayan sido enviadas desde un tercer país por particulares a otros particulares de un Estado miembro y estén exentas del IVA con arreglo al artículo 1 de la Directiva 2006/79/CE del Consejo.Las descripciones y notas que se incluyen en el presente título se refieren a los elementos de dato mencionados en el cuadro sobre requisitos en materia de datos del título I, capítulo 3, sección 1, del presente anexo.Indíquese el código de la Unión pertinente.Indíquese el código de la Unión pertinente.Número del artículo en relación con el número total de artículos contenidos en la declaración, la declaración sumaria, la notificación o la prueba del estatuto aduanero de mercancías de la Unión, cuando haya más de un artículo.Número de artículo asignado a las mercancías en el momento de su inscripción en los registros del declarante.Firma u otra forma de autenticación de la declaración, notificación o prueba del estatuto aduanero de mercancías de la Unión.Cuando se utilicen declaraciones en papel, en la copia de la declaración que vaya a permanecer en la aduana de exportación, despacho o importación deberá figurar la firma manuscrita original del interesado, seguida de su nombre y apellidos. Cuando el interesado no sea una persona física, el firmante deberá indicar, tras su firma y su nombre y apellidos, su cargo.Indíquese, utilizando los códigos de la Unión pertinentes, el régimen al amparo del cual se declaran las mercancías.Indíquense los códigos pertinentes de la Unión o el código de régimen adicional facilitado por el Estado miembro de que se trate.Facilítese información pormenorizada sobre la cancelación de las mercancías declaradas en la declaración de que se trate, en relación con la finalización del depósito temporal.Dicha información deberá incluir la cantidad cancelada y la unidad de medida correspondiente.Indíquese, utilizando los códigos de la Unión pertinentes, el MRN de la declaración de depósito temporal, o cualquier otra referencia a todo documento precedente.El identificador de artículo de mercancías solo deberá facilitarse en los casos en que sea necesario para la identificación inequívoca de las mercancías de que se trate.Indíquese el código de la Unión pertinente y, si procede, el código o códigos previstos por el Estado miembro de que se trate.En caso de que la legislación de la Unión no precise los campos en los que debe figurar una indicación, esta se recogerá en el E.D. 2/2 “Información adicional”.a)Identificación o número de referencia de documentos, certificados y autorizaciones internacionales o de la Unión presentados en apoyo de la declaración, así como otras referencias adicionales.Indíquense, utilizando los códigos de la Unión pertinentes, los datos pormenorizados que exija cualquier norma específica aplicable junto con los datos de referencia de los documentos presentados en apoyo de la declaración, así como otras referencias adicionales.En los casos en que el declarante o el importador, cuando se trate de declaraciones de importación, y el exportador, cuando se trate de declaraciones de exportación, sean titulares de una decisión IAV y/o IVO válida que cubra las mercancías contempladas en la declaración, el declarante deberá indicar el número de referencia de la decisión IAV y/o IVO.b)Número de identificación o de referencia de los documentos, certificados y autorizaciones nacionales presentados en apoyo de la declaración, así como otras referencias adicionales.Número de referencia de la autorización de despacho centralizado. Esta información deberá facilitarse a menos que pueda deducirse inequívocamente a partir de otros elementos de dato, tales como el número EORI del titular de la autorización.Facilítese información pormenorizada sobre la cancelación de las mercancías declaradas en la declaración de que se trate, en relación con las licencias y certificados de importación o exportación.Dicha información deberá incluir la referencia a la autoridad emisora de la licencia o el certificado correspondiente, el período de validez de la licencia o certificado correspondiente, el importe o la cantidad cancelada y la unidad de medida respectiva.En caso de que el contrato de venta de las mercancías en cuestión lleve un número de identificación, deberá indicarse dicho número. Si procede, indíquese también la fecha del contrato de venta.Salvo cuando sea indispensable para la correcta determinación del valor en aduana, el Estado miembro de admisión de la declaración podrá dispensar de la obligación de aportar información sobre la fecha y el número del contrato de venta,—cuando el valor en aduana de las mercancías importadas no exceda de 20 000 EUR por envío, siempre que no se trate de envíos fraccionados o múltiples expedidos por un mismo expedidor al mismo destinatario; o—cuando la importación no revista carácter comercial; o—cuando haga referencia a un tráfico constante de mercancías suministradas por un mismo vendedor a un mismo comprador, en las mismas condiciones comerciales.Los Estados miembros podrán dispensar de la obligación de proporcionar información sobre la fecha y el número del contrato de venta cuando el valor en aduana de las mercancías de que se trate no se pueda determinar aplicando las disposiciones del artículo 70 del Código. En tales casos, el declarante deberá facilitar o hacer facilitar a las autoridades aduaneras cualquier otra información que se le pueda exigir a efectos de determinación del valor en aduana.Número de referencia de la autorización de declaración simplificada. Esta información deberá facilitarse a menos que pueda deducirse inequívocamente a partir de otros elementos de dato, tales como el número EORI del titular de la autorización.Cuando se solicite poderse acoger a un contingente arancelario con arreglo al principio de “orden de llegada” en relación con las mercancías declaradas en la declaración simplificada, habrá que declarar en la declaración simplificada y poner a disposición del declarante y de las autoridades aduaneras toda la documentación requerida a fin de permitir al declarante beneficiarse del contingente en función de la fecha de admisión de la declaración simplificada.Esta indicación corresponderá a la referencia comercial única asignada por la persona en cuestión al envío de que se trate. Podrá adoptar la forma de los códigos OMA (ISO 15459) o equivalentes. Facilita el acceso a los datos comerciales subyacentes de interés para la aduana.Se deberá utilizar el número de referencia local (NRL). Este número se define a escala nacional y lo asigna el declarante de común acuerdo con las autoridades competentes para identificar cada declaración concreta.Indíquense, cuando proceda, los datos de referencia de la autorización de que se trate; en este contexto, el aplazamiento puede referirse tanto al pago de los derechos de importación y de exportación como al crédito fiscal.Utilizando el código de la Unión pertinente, indíquese el tipo de la instalación de almacenamiento, seguido del número de autorización del depósito o almacén de depósito temporal de que se trate.Indíquense el nombre y la dirección completos de la persona que expide las mercancías según lo estipulado en el contrato de transporte por la parte que ordena el transporte.Indíquense el nombre y los apellidos o la razón social y la dirección completa del último vendedor de las mercancías antes de su importación a la Unión.Indíquense el nombre y los apellidos o la razón social y la dirección completa del expedidor que actúe en calidad de “exportador” en el marco del comercio con territorios fiscales especiales. El expedidor es el último vendedor de las mercancías antes de su introducción en el territorio fiscal donde vayan a ser objeto de levante.El exportador es la persona definida en el artículo 1, apartado 19.Indíquese el número EORI de la persona en cuestión, definido en el artículo 1, apartado 18.Cuando el exportador no disponga de un número EORI, la administración aduanera podrá atribuirle un número  para la declaración considerada.Indíquese el número EORI del último vendedor de las mercancías antes de su importación a la Unión.Cuando se concedan facilidades en el marco de un programa de asociación comercial de un tercer país reconocido por la Unión, esta información podrá adoptar la forma de un número de identificación único de tercer país comunicado a la Unión por el tercer país en cuestión. Ese número podrá utilizarse siempre que el declarante disponga de él.Cuando se exija un número de identificación, indíquese el número EORI de la persona en cuestión a que se refiere el artículo 1, apartado 18. Cuando no se haya asignado al exportador un número EORI, indíquese el número que requiera la legislación del Estado miembro en cuestión.Indíquese el número EORI del expedidor que actúe en calidad de “exportador” en el marco del comercio con territorios fiscales especiales. El expedidor es el último vendedor de las mercancías antes de su introducción en el territorio fiscal donde vayan a ser objeto de levante.Nombre y dirección de la parte que efectúe, o por cuya cuenta se efectúe, una declaración de importación.Número de identificación de la parte que efectúe, o por cuya cuenta se efectúe, una declaración de importación.Indíquese el número EORI a que se refiere el artículo 1, apartado 18, de la persona en cuestión. Cuando el importador no disponga de un número EORI, la administración aduanera podrá atribuirle un número  para la declaración considerada.Cuando el importador no esté registrado en el sistema EORI, por no ser un operador económico ni estar establecido en la Unión, indíquese el número que exige la legislación del Estado miembro de que se trate.Indíquense el nombre y los apellidos o la razón social y la dirección completa de la persona en cuestión.En caso de coincidencia entre el declarante y el importador, indíquese el código pertinente definido para el E.D. 2/2 “Información adicional”.Indíquese el número EORI a que se refiere el artículo 1, apartado 18.Cuando el exportador no disponga de un número EORI, la administración aduanera podrá atribuirle un número  para la declaración considerada.Se exigirá esta información si no coincide con la que consta en el E.D. 3/17 “Declarante” o, si procede, en el E.D. 3/22 “Titular del régimen de tránsito”.Se exigirá esta información si no coincide con la que consta en el E.D. 3/18 “N. de identificación del declarante” o, si procede, en el E.D. 3/23 “N. de identificación del titular del régimen de tránsito”, en el E.D. 3/30 “N. de identificación de la persona que presenta las mercancías en aduana”, en el E.D. 3/42 “ N. de identificación de la persona que presenta el manifiesto aduanero”, en el E.D. 3/43 “N. de identificación de la persona que solicita prueba del estatuto aduanero de mercancías de la Unión” o en el E.D. 3/44 “N. de identificación de la persona que notifica la llegada de mercancías tras su circulación al amparo del régimen de depósito temporal”.Cuando se exija un número de identificación, indíquese el número EORI a que se refiere el artículo 1, apartado 18.Indíquese el código pertinente que corresponda al estatuto del representante.Cuando el vendedor no coincida con la persona que figura en el E.D. 3/1 “Exportador”, indíquese su nombre y apellidos o su razón social y su dirección completa, si el declarante no dispone de su número EORI. En caso de que el valor en aduana se calcule de conformidad con el artículo 74 del Código, deberá facilitarse dicha información, si se dispone de ella.Cuando el vendedor no coincida con la persona que figura en el E.D. 3/1 “Exportador”, indíquese el número EORI del vendedor de las mercancías, siempre que se disponga de él. En caso de que el valor en aduana se calcule de conformidad con el artículo 74 del Código, deberá facilitarse dicha información, si se dispone de ella.Cuando se concedan facilidades en el marco de un programa de asociación comercial de un tercer país reconocido por la Unión, esta información podrá adoptar la forma de un número de identificación único de tercer país comunicado a la Unión por el tercer país en cuestión. Ese número podrá utilizarse siempre que el declarante disponga de él.Cuando el comprador no coincida con la persona que figura en el E.D. 3/15 “Importador”, indíquese su nombre y apellidos o su razón social y su dirección completa, si el declarante no dispone de su número EORI.En caso de que el valor en aduana se calcule de conformidad con el artículo 74 del Código, deberá facilitarse dicha información, si se dispone de ella.Cuando el comprador no coincida con la persona que figura en el E.D. 3/16 “Importador”, esta información consistirá en el número EORI a que se refiere el artículo 1, apartado 18, del comprador de las mercancías, cuando se disponga de él.En caso de que el valor en aduana se calcule de conformidad con el artículo 74 del Código, deberá facilitarse dicha información, si se dispone de ella.Cuando se concedan facilidades en el marco de un programa de asociación comercial de un tercer país reconocido por la Unión, esta información podrá adoptar la forma de un número de identificación único de tercer país comunicado a la Unión por el tercer país en cuestión. Ese número podrá utilizarse siempre que el declarante disponga de él.Número de identificación único asignado a un operador económico de un país tercero en el marco de un programa de asociación comercial desarrollado de conformidad con el Marco normativo para asegurar y facilitar el comercio global de la Organización Mundial de Aduanas, reconocido por la Unión Europea.El identificador de la parte en cuestión deberá ir precedida de un código de función en el que especifique su papel en la cadena de suministro.Utilizando el código de la Unión pertinente, indíquese el tipo de autorización y el número EORI del titular de la misma de conformidad con el artículo 1, apartado 18.Cuando se utilice el código de régimen 42 o 63, se introducirá la información requerida en el artículo 143, apartado 2, de la Directiva 2006/112/CE.Cuando las mercancías se declaren para su despacho a libre práctica en el marco del régimen especial aplicable a las ventas a distancia de bienes importados de terceros territorios o de terceros países contemplado en el título XII, capítulo 6, sección 4, de la Directiva 2006/112/CE, se facilitará el número de identificación individual a efectos del IVA atribuido para la utilización de este régimen.Esta información consiste en el número EORI a que se refiere artículo 1, apartado 18, de la persona que presenta las mercancías en la aduana cuando la declaración se realiza mediante la inscripción en los registros del declarante.Esta información consistirá en el número EORI a que se refiere el artículo 1, apartado 18, de la persona que proporciona la garantía, si no es la misma que el declarante.Esta información consistirá en el número EORI a que se refiere el artículo 1, apartado 18, de la persona que paga los derechos de aduana, si no es la misma que el declarante.Utilizando los códigos y las partidas de la Unión pertinentes, apórtese información pormenorizada sobre las cláusulas del contrato comercial.Utilizando los códigos pertinentes de la Unión y, en su caso, el código o los códigos previstos por el Estado miembro de que se trate, indíquense las clases de tributo para cada tipo de derecho o de impuesto aplicable a las mercancías en cuestión.Indíquese la base imponible o la base de los derechos aplicables (valor, peso, etc.).Indíquense los tipos impositivos para cada uno de los derechos e impuestos aplicables.Indíquese el importe de cada uno de los derechos y los impuestos aplicables.Los importes en este ámbito deberán expresarse en la unidad monetaria cuyo código figure en E.D. 4/12. “Unidad monetaria interna”, o, en ausencia de dicho código, en el E.D. 4/12 “Unidad monetaria interna” en la moneda del Estado miembro en el que se lleven a cabo las formalidades de importación.Indíquese el importe total de derechos e impuestos en relación con las mercancías de que se trate.Los importes en este ámbito deberán expresarse en la unidad monetaria cuyo código figure en E.D. 4/12. “Unidad monetaria interna”, o, en ausencia de dicho código, en el E.D. 4/12 “Unidad monetaria interna” en la moneda del Estado miembro en el que se lleven a cabo las formalidades de importación.Utilizando el código pertinente de la Unión, indíquese el método de pago aplicado.Para cada tipo de adición o deducción en relación con un determinado artículo de mercancías, indíquese el código pertinente seguido del importe correspondiente en la moneda nacional que aún no se haya incluido o deducido del precio del artículo.Utilizando el código pertinente, indíquese la divisa en que se haya extendido la factura comercial.Esta información se utilizará en relación con el E.D. 4/11 “Importe total facturado” y el E.D. 4/14 “Precio/cantidad del artículo”, cuando sea necesarios para el cálculo de los derechos de importación.Indíquese el importe facturado para el conjunto de las mercancías declaradas en la declaración expresado en la unidad monetaria declarada en el E.D. 4/10 “Moneda de facturación”.Las declaraciones realizadas en los Estados miembros que, durante el periodo transitorio de introducción del euro, ofrezcan a los operadores económicos la posibilidad de optar por la utilización de la unidad euro para sus declaraciones en aduana, deberán incluir en este campo un indicador de la unidad monetaria, la unidad nacional o la unidad euro utilizada.Utilizando los códigos de la Unión pertinentes, indíquese la combinación de indicadores que declare si el valor de las mercancías está determinado por factores específicos.Precio de las mercancías en relación con el artículo de la declaración de que se trate, expresado en la unidad monetaria declarada en el E.D. 4/10 “Moneda de facturación”.Este elemento de dato contiene el tipo de cambio fijado previamente mediante un contrato entre las partes interesadas.Utilizando el código de la Unión pertinente, indíquese el método de valoración utilizado.Este elemento de dato contiene información sobre el trato arancelario de las mercancías. Cuando se haya previsto su utilización obligatoria en el cuadro de requisitos en materia de datos del título I, capítulo 3, sección 1, del presente anexo, deberá utilizarse incluso cuando no se haya solicitado un trato arancelario preferencial. Indíquese el código de la Unión pertinente.La Comisión publicará periódicamente la lista de las combinaciones de códigos utilizables, junto con los ejemplos y notas necesarios.\n",
      "                         Código de divisa y valor monetario del contenido declarado a efectos aduaneros.\n",
      "                         código de divisa e importe del franqueo pagado por o a cargo del remitente.Utilizando el código de la Unión pertinente, indíquese el código correspondiente al Estado miembro en el que se encuentren las mercancías para el régimen aduanero en el momento del levante o, en los casos referidos a la columna H5, a consumo.No obstante, cuando en el momento de elaborar la declaración en aduana, se sepa que las mercancías se expedirán a otro Estado miembro después de su levante, indíquese el código correspondiente a ese último Estado miembro.Cuando se importen mercancías para incluirlas en un régimen de importación temporal, el Estado miembro de destino será el Estado miembro en el que se utilicen por primera vez.Cuando se importen mercancías para incluirlas en un régimen de perfeccionamiento activo, el Estado miembro de destino será el Estado miembro en el que se efectúe la primera transformación.Utilizando el código pertinente definido por los Estados miembros, indíquese la región de destino de las mercancías en el Estado miembro de que se trate.Si no existe una transacción comercial (por ejemplo, venta o transformación), ni se ha producido una parada no relacionada con el transporte en un país intermedio, indíquese el código de la Unión pertinente para señalar el país desde el que se hayan expedido inicialmente las mercancías al Estado miembro en el que se encuentren las mercancías en el momento de su levante para la inclusión en el régimen aduanero. En caso de que se haya producido esa parada u operación comercial, indíquese el último país intermedio.A los efectos de este requisito de datos, las paradas realizadas a fin de permitir la consolidación de las mercancías en camino se considerarán relacionadas con el transporte de las mercancías.Indíquese el código de la Unión pertinente para el país de origen no preferencial, tal como se define en el título II, capítulo 2, del Código.Si se solicita un trato preferencial basado en el origen de las mercancías en el E.D. 4/17 “Preferencia”, indíquese el país de origen, como se señala en la prueba de origen. Cuando la prueba de origen se refiera a un grupo de países, indíquese el grupo de países utilizando los códigos de la Unión pertinentes.Utilizando los códigos pertinentes, indíquese el lugar donde puedan examinarse las mercancías. La determinación de esta ubicación deberá ser lo suficientemente precisa para permitir a las aduanas efectuar el control físico de las mercancías.Utilizando el código de la Unión pertinente, indíquese la aduana en la que las mercancías se presenten a efectos de su inclusión en un régimen aduanero.Utilizando el código de la Unión pertinente, especifíquese la aduana indicada en la respectiva autorización para la vigilancia del régimen.Indíquese la fecha en que las mercancías hayan sido presentadas en aduana con arreglo al artículo 139 del Código.Indíquese la fecha de aceptación de la declaración simplificada o la fecha en que las mercancías hayan sido inscritas en los registros del declarante.Indíquese la masa neta, expresada en kilogramos, de las mercancías a las que afecta el artículo pertinente de la declaración. La masa neta corresponde a la masa de las mercancías desprovistas de todos sus embalajes.Cuando la masa neta sea superior a 1 kg e incluya una fracción de unidad (kg), se permitirá redondear en unidades según el procedimiento siguiente:—entre 0,001 y 0,499: redondeo a la baja (kg),—entre 0,5 y 0,999: redondeo al alza (kg).La masa neta inferior a 1 kg deberá indicarse con un “0,” seguido de una serie de hasta 6 decimales, descartando todos los “0” al final de la cantidad (por ejemplo, “0,123” para un bulto de 123 gramos, “0,00304” para un bulto de 3 gramos y 40 miligramos o “0,000654” para un bulto de 654 miligramos).Indíquese, en su caso, para el artículo correspondiente, la cantidad expresada en la unidad prevista en la legislación de la Unión, publicada en TARIC.Se entenderá por masa bruta el peso de las mercancías, incluido el embalaje, pero excluido el equipo del transportista.Cuando la masa bruta sea superior a 1 kg e incluya una fracción de unidad (kg), se permitirá redondear en unidades según el procedimiento siguiente:—entre 0,001 y 0,499: redondeo a la baja (kg),—entre 0,5 y 0,999: redondeo al alza (kg).La masa bruta inferior a 1 kg deberá indicarse con un “0,” seguido de una serie de hasta 6 decimales, descartando todos los “0” al final de la cantidad (por ejemplo, “0,123” para un bulto de 123 gramos, “0,00304” para un bulto de 3 gramos y 40 miligramos o “0,000654” para un bulto de 654 miligramos).Indíquese la masa bruta de las mercancías, expresada en kilogramos, desglosada por artículos.Cuando en los documentos de transporte se consigne el peso de los palés, este deberá incluirse asimismo en el cálculo de la masa bruta, excepto en los siguientes casos:a)cuando el palé constituya un artículo separado en la declaración en aduana,b)cuando el tipo del derecho del artículo en cuestión se base en el peso bruto y/o el contingente arancelario del artículo en cuestión se gestione en la unidad de medida “peso bruto”.Cuando el declarante aporte el código CUS de las sustancias y preparados químicos, los Estados miembros podrán dispensar de la obligación de proporcionar una descripción precisa de las mercancías.Se entenderá por descripción de las mercancías la denominación comercial usual de las mismas. Salvo en el caso de inclusión de mercancías no pertenecientes a la Unión en el régimen de depósito aduanero en un depósito público de tipo I, II o III, o en un depósito privado, esta denominación se deberá expresar en términos suficientemente precisos para permitir de inmediato y de forma inequívoca la identificación y clasificación de las mercancías.Descripción en un lenguaje sencillo pero lo suficientemente preciso para que los servicios de aduanas puedan identificar las mercancías.Código que especifique el tipo de bulto.Número total de bultos de acuerdo con la unidad de embalaje exterior más pequeña. Se trata del número de artículos individuales embalados de tal forma que no se puedan dividir sin deshacer el embalaje o del número de unidades en caso de mercancías no embaladas.Esta información no se facilitará cuando se trate de mercancías a granel.Descripción libre de las marcas y números que figuran en las unidades o bultos objeto del transporte.Esta información solo se facilitará, si procede, cuando las mercancías estén embaladas. Cuando las mercancías estén en contenedores, el número de contenedor podrá sustituir a las marcas de expedición, aunque el operador económico podrá facilitarlas de todos modos, cuando estén disponibles. Las marcas de expedición podrán ser sustituidas por un número de referencia único del envío (RUE) o por las referencias en el documento de transporte que permitan una identificación inequívoca de todos los bultos del envío.El número estadístico y de la unión aduanera (CUS) es el identificador asignado en el Inventario Aduanero Europeo de Sustancias Químicas (ECICS) a las principales sustancias y preparados químicos.El declarante podrá proporcionar este código con carácter voluntario cuando no exista ninguna medida establecida en la legislación de la Unión y publicada en TARIC para las mercancías en cuestión, es decir, cuando la indicación de este código resulte menos laboriosa que una descripción textual completa del producto.En caso de que las mercancías en cuestión estén sujetas a una medida establecida en la legislación de la Unión y publicada en TARIC en relación con un código CUS, será preciso facilitar dicho código.Indíquese el número de código de la nomenclatura combinada correspondiente al artículo de que se trate.Indíquese la subpartida TARIC correspondiente al artículo de que se trate.Indíquense el código o los códigos adicionales TARIC correspondientes al artículo de que se trate.Indíquense el código o los códigos nacionales adicionales correspondientes al artículo de que se trate.Indíquese en cifras el número total de bultos que forman el envío de que se trate.Naturaleza de los artículos de la transacción, codificada.Indíquese la situación en el paso de la frontera exterior de la Unión utilizando el código de la Unión pertinente.Utilizando el código de la Unión pertinente, indíquese el modo de transporte correspondiente al medio de transporte activo con el que las mercancías hayan entrado en el territorio aduanero de la Unión.Utilizando el código de la Unión pertinente, indíquese el modo de transporte correspondiente al medio de transporte activo con el que las mercancías hayan entrado en el territorio fiscal de que se trate.Utilizando el código de la Unión pertinente, indíquese el modo de transporte a la llegada.Indíquese la identidad de los medios de transporte en los que se cargan directamente las mercancías al presentarse en la aduana en la que se desarrollan las formalidades en destino. Si se utiliza un vehículo de tracción y un remolque con números de matrícula diferentes, indíquese el número de matriculación de ambos.En función del medio de transporte de que se trate, podrán indicarse las menciones siguientes por lo que respecta a la identidad.Marcas (letras, números, o ambos) que identifican el contenedor para el transporte.Para los modos de transporte distintos del aéreo, los contenedores son cajas especiales para transportar la carga, reforzadas y apilables, que permiten efectuar transbordos horizontales o verticales.En el modo de transporte aéreo, los contenedores son cajas especiales para transportar la carga, reforzadas, que permiten efectuar transbordos horizontales o verticales.En el contexto de este elemento de dato, las cajas móviles y los semirremolques utilizados para el transporte por carretera y ferrocarril se considerarán contenedores.Si procede, en el caso de los contenedores cubiertos por la norma ISO 6346, deberá facilitarse, además del número de identificación del contenedor, el identificador (prefijo) asignado por la Oficina Internacional de Contenedores y de Transporte Intermodal (BIC).En el caso de las cajas móviles y los semirremolques, deberá utilizarse el código UCI (unidades de carga intermodales) introducido por la norma EN 13044.Utilizando el código de la Unión pertinente, indíquese la nacionalidad del medio de transporte activo que cruza la frontera exterior de la Unión.En caso de transporte combinado o de utilización de varios medios de transporte, el medio de transporte activo será el que asegure la propulsión del conjunto. Por ejemplo, si se trata de un camión a bordo de un buque, el medio de transporte activo será el buque. En el caso de un vehículo de tracción y un remolque, el medio de transporte activo será el vehículo de tracción.Indíquese el número de orden del contingente arancelario solicitado por el declarante.Utilizando el código de la Unión pertinente, indíquese el tipo de garantía utilizada para la operación.Indíquese el número de referencia de la garantía utilizada para la operación y, si procede, el código de acceso y la aduana de garantía.Utilizando los códigos y partidas de la Unión pertinentes, indíquese el tipo de transacción de que se trate.Indíquese el valor estadístico expresado en la unidad monetaria cuyo código figure en el E.D. 4/12 “Unidad monetaria interna” o, en su defecto, en la moneda del Estado miembro en el que se lleven a cabo las formalidades de exportación o importación de conformidad con las disposiciones de la Unión en vigor.»\n",
      "LA COMISIÓN EUROPEA,Visto el Tratado de Funcionamiento de la Unión Europea,Visto el Reglamento (UE) n.º 952/2013 del Parlamento Europeo y del Consejo, de 9 de octubre de 2013, por el que se establece el código aduanero de la Unión , y en particular sus artículos 8, 58 y 161,Considerando lo siguiente:(1)La aplicación práctica del Reglamento (UE) n.º 952/2013 («el Código») conjuntamente con el Reglamento de Ejecución (UE) 2015/2447 de la Comisión  en lo que respecta a los formatos y códigos de los requisitos comunes en materia de datos, determinadas normas sobre vigilancia y la aduana competente para la inclusión de mercancías en un régimen aduanero ha puesto de manifiesto que es preciso modificar este último Reglamento a fin de armonizar mejor los formatos y códigos de los requisitos comunes en materia de datos con vistas al almacenamiento de información y a su intercambio entre autoridades aduaneras, así como entre estas últimas y los operadores económicos. Es necesario armonizar los requisitos comunes en materia de datos con objeto de garantizar que los sistemas aduaneros electrónicos utilizados para los diversos tipos de declaraciones, notificaciones y prueba del estatuto aduanero de mercancías de la Unión sean interoperables una vez se haya procedido a dicha armonización.(2)Es preciso modificar el Reglamento de Ejecución (UE) 2015/2447 de modo que los formatos y códigos establecidos en el Reglamento Delegado (UE) 2016/341 de la Comisión  se apliquen cuando los Estados miembros utilicen los requisitos transitorios en materia de datos para las declaraciones, las notificaciones y la prueba del estatuto de la Unión establecidos en dicho Reglamento Delegado.(3)También es necesario modificar el Reglamento de Ejecución (UE) 2015/2447 para que los Estados miembros que hayan actualizado ya sus sistemas nacionales de importación con arreglo a los formatos y códigos previstos en el mismo dispongan de tiempo suficiente para adaptarlos a los nuevos requisitos en materia de formatos y códigos establecidos en el presente Reglamento. Más concretamente, se les debe conceder tiempo hasta la introducción de la fase 1 del proyecto de Despacho Centralizado de las Importaciones que figura en el anexo de la Decisión de Ejecución (UE) 2019/2151 de la Comisión .(4)Es asimismo preciso modificar el Reglamento de Ejecución (UE) 2015/2447 para exigir a los Estados miembros que envíen datos al sistema electrónico de vigilancia en un formato que coincida con el utilizado para las declaraciones en aduana pertinentes y que pueda ser procesado por el actual sistema de vigilancia de la Comisión.(5)Procede modificar la norma establecida en el artículo 221, apartado 4, del Reglamento de Ejecución (UE) 2015/2447, que determina cuál es la aduana competente para declarar para su despacho a libre práctica envíos de escaso valor que se acojan a un régimen del IVA distinto del régimen especial aplicable a las ventas a distancia de bienes establecido en el título XII, capítulo 6, sección 4, de la Directiva 2006/112/CE del Consejo , a fin de aclarar que debe aplicarse a partir de la fecha de aplicación de dicho régimen del IVA. Esa fecha se establece en el artículo 4, apartado 1, párrafo cuarto, de la Directiva (UE) 2017/2455 del Consejo .(6)El anexo B del Reglamento de Ejecución (UE) 2015/2447 establece los formatos y los códigos de los requisitos comunes en materia de datos para el intercambio y almacenamiento de la información requerida para las declaraciones, las notificaciones y la prueba del estatuto aduanero de mercancías de la Unión. En aras de la armonización, procede modificar dicho anexo. Teniendo en cuenta la magnitud de los cambios necesarios, debe sustituirse íntegramente el texto del anexo B del Reglamento de Ejecución (UE) 2015/2447.(7)Las medidas previstas en el presente Reglamento se ajustan al dictamen del Comité del código aduanero.HA ADOPTADO EL PRESENTE REGLAMENTO:El Reglamento de Ejecución (UE) 2015/2447 queda modificado como sigue:1)El artículo 2 se modifica como sigue:a)los apartados 1 y 2 se sustituyen por los siguientes:«1.   Los formatos y los códigos para los requisitos comunes en materia de datos a que se refiere el artículo 2, apartado 1, del Reglamento Delegado (UE) 2015/2446 a efectos del intercambio y almacenamiento de la información requerida para las solicitudes y las decisiones figuran en el anexo A del presente Reglamento.2.   Los formatos y los códigos para los requisitos comunes en materia de datos a que se refiere el artículo 2, apartado 2, del Reglamento Delegado (UE) 2015/2446 a efectos del intercambio y almacenamiento de la información requerida para las declaraciones, las notificaciones y la prueba del estatuto aduanero figuran en el anexo B del presente Reglamento.»;b)se suprime el apartado 3;c)el apartado 4 se sustituye por el texto siguiente:«4.   Los formatos y los códigos para los requisitos comunes en materia de datos a que se refiere el artículo 2, apartado 4, del Reglamento Delegado (UE) 2015/2446 a efectos del intercambio y almacenamiento de la información requerida para las declaraciones, las notificaciones y la prueba del estatuto aduanero figuran en el anexo 9 del Reglamento Delegado (UE) 2016/341 de la Comisión.d)se inserta el apartado 4  siguiente:«4 .   Los formatos y los códigos para los requisitos comunes en materia de datos a que se refiere el artículo 2, apartado 4 , del Reglamento Delegado (UE) 2015/2446 a efectos del intercambio y almacenamiento de la información requerida para las declaraciones, las notificaciones y la prueba del estatuto aduanero figuran en el anexo C del presente Reglamento.».2)El artículo 55 se modifica como sigue:a)en el apartado 1, el párrafo segundo se sustituye por el texto siguiente:«A partir de la fecha fijada en el artículo 4, apartado 1, párrafo cuarto, de la Directiva (UE) 2017/2455, la lista de datos que podrá exigir la Comisión será la establecida en el anexo 21-03 del presente Reglamento.»;b)el apartado 6 se sustituye por el texto siguiente:«6.   No obstante lo dispuesto en el apartado 1, la Comisión podrá exigir las siguientes listas de datos a efectos de la vigilancia en el despacho a libre práctica:a)la lista de datos establecida en el anexo 21-02 del presente Reglamento, hasta la fecha de introducción de la mejora de los Sistemas Nacionales de Importación a que se refiere el anexo de la Decisión de Ejecución (UE) 2019/2151 de la Comisión;b)la lista de datos establecida en el anexo 21-01 del presente Reglamento, hasta la fecha final del lapso de introducción de la primera fase del Despacho Centralizado de las Importaciones en el ámbito del CAU a que se refiere el anexo de la Decisión de Ejecución (UE) 2019/2151.No obstante lo dispuesto en el apartado 1, la Comisión podrá exigir la lista de datos establecida en el anexo 21-01 o en el anexo 21-02 del presente Reglamento a efectos de la vigilancia de la exportación, hasta la fecha final del lapso de introducción del Sistema Automatizado de Exportación a que se refiere el anexo de la Decisión de Ejecución (UE) 2019/2151.3)En el artículo 221, el apartado 4 se sustituye por el texto siguiente:«4.   A partir de la fecha mencionada en el artículo 4, apartado 1, párrafo cuarto, de la Directiva (UE) 2017/2455, la aduana competente para el despacho a libre práctica de las mercancías de un envío que se beneficien de una exención de derechos de importación, de conformidad con el artículo 23, apartado 1, o el artículo 25, apartado 1, del Reglamento (CE) n.º 1186/2009 del Consejo, en virtud de un régimen del IVA distinto del régimen especial aplicable a las ventas a distancia de bienes importados de terceros territorios o terceros países establecido en el título XII, capítulo 6, sección 4, de la Directiva 2006/112/CE del Consejo, será la aduana situada en el Estado miembro en el que finaliza la expedición o el transporte de las mercancías.».4)En el índice, después del artículo 350, el título I (Disposiciones generales) queda modificado como sigue:a)el título del anexo B se sustituye por el texto siguiente:«Formatos y códigos de los requisitos comunes en materia de datos para las declaraciones, las notificaciones y la prueba del estatuto aduanero de mercancías de la Unión (artículo 2, apartado 2)»;b)se inserta la fila siguiente tras la fila correspondiente al «Anexo B»:«Anexo C: Formatos y códigos de los requisitos comunes en materia de datos para las declaraciones, las notificaciones y la prueba del estatuto aduanero de mercancías de la Unión (artículo 2, apartado 4 )».5)El anexo B se sustituye por el texto que figura en el anexo I del presente Reglamento.6)El nuevo anexo C que figura en el anexo II del presente Reglamento se inserta tras el anexo B.7)El nuevo anexo 21-03 que figura en el anexo III del presente Reglamento se inserta tras el anexo 21-02.El presente Reglamento entrará en vigor a los veinte días de su publicación en el .El artículo 1, apartado 3, será aplicable a partir del 20 de julio de 2020.El presente Reglamento será obligatorio en todos sus elementos y directamente aplicable en cada Estado miembro.Hecho en Bruselas, el 8 de febrero de 2021.1)2)3)4)5)6)7)8)9)10)11)12)aalfabéticonnuméricoanalfanuméricoEl número que sigue al código indica la longitud admisible del dato.Se aplican las normas siguientes:Los dos puntos facultativos que anteceden al indicador de longitud significan que el dato no tiene longitud fija, pero que puede tener un número máximo de cifras, especificado por el indicador de longitud. Una coma en la longitud del dato indica que el atributo puede contener decimales; en ese caso, la cifra que precede a la coma indica la longitud total del atributo y la cifra que sigue a la coma, el número máximo de decimales.Ejemplos de formatos y longitudes de los campos:a11 carácter alfabético, longitud fijan22 caracteres numéricos, longitud fijaan33 caracteres alfanuméricos, longitud fijaa..4hasta 4 caracteres alfabéticosn..5hasta 5 caracteres numéricosan..6hasta 6 caracteres alfanuméricosn..7,2hasta 7 caracteres numéricos, incluido un máximo de 2 decimales, con un delimitador que puede fluctuar13)                                                                                                                                                                                                                                                                                                                                                                                                                                                                                                                                                                                                                                                                                                                                                                                                                                                                                                                                                                                                                                                                                                                                                                                                                                                                                                                                                                                                                                                                                                                                                                                                                                                                                                                                                                                                                                                                                                                                                                                                                                                                                                                                                                                                                                                                                                                                                                                                                                                                                                                                                                                                                                                                                                                                                                                                                                                                                                                                                                                                                                                                                                                                                                                                                                                                                         1)El presente título contiene los códigos que se deberán utilizar en las declaraciones y notificaciones electrónicas.2)APara una declaración en aduana normal (en virtud del artículo 162 del Código).BPara una declaración en aduana simplificada ocasional (en virtud del artículo 166, apartado 1, del Código).CPara una declaración en aduana simplificada de uso habitual (en virtud del artículo 166, apartado 2, del Código).DPara la presentación de una declaración en aduana normal (tal como se contempla en el código A) de conformidad con el artículo 171 del Código.EPara la presentación de una declaración simplificada (tal como se contempla en el código B) de conformidad con el artículo 171 del Código.FPara la presentación de una declaración simplificada (tal como se contempla en el código C) de conformidad con el artículo 171 del Código.RPresentación  de una declaración de exportación o de reexportación de conformidad con el artículo 249 del Reglamento Delegado (UE) 2015/2446 y el artículo 337 del Reglamento de Ejecución (UE) 2015/2447.XPara una declaración complementaria a declaraciones simplificadas contempladas en B y E.YPara una declaración general o periódica complementaria a declaraciones simplificadas contempladas en C y F.ZPara una declaración general o periódica complementaria en el marco del procedimiento contemplado en el artículo 182 del Código.UPara una declaración recapitulativa complementaria a declaraciones simplificadas contempladas en C y F.VPara una declaración recapitulativa complementaria en el marco del procedimiento contemplado en el artículo 182 del Código.Se utilizarán los códigos siguientes:A continuación figuran los códigos pertinentes:A continuación figuran los códigos pertinentes:A continuación figuran los códigos pertinentes:A continuación figuran los códigos pertinentes:Los códigos que deberán consignarse en esta subdivisión son códigos de cuatro cifras, compuestos de un elemento de dos cifras que representa el régimen solicitado, seguido de un segundo elemento de dos cifras que representa el régimen precedente. La lista de los elementos de dos cifras figura a continuación.Se entenderá por «régimen precedente» el régimen en el que estaban incluidas las mercancías antes de ser incluidas en el régimen solicitado.Téngase en cuenta que, cuando el régimen precedente sea un régimen de depósito aduanero o de importación temporal, o cuando las mercancías procedan de una zona franca, el código correspondiente a dicho régimen solo deberá ser utilizado cuando las mercancías no hayan sido incluidas en un régimen de perfeccionamiento activo, de perfeccionamiento pasivo o de destino final.Por ejemplo: reexportación de mercancías importadas en el marco del régimen de perfeccionamiento activo y a continuación incluidas en el régimen de depósito aduanero = 3151 (y no 3171). (Primera operación = 5100; segunda operación = 7151; tercera operación reexportación = 3151).Del mismo modo, la reimportación y el despacho a libre práctica de mercancías previamente exportadas temporalmente después de haber sido incluidas en un régimen de depósito aduanero, de importación temporal o en una zona franca se considerarán una simple reimportación después de una exportación temporal.Por ejemplo: entrada para consumo con entrada simultánea para libre práctica de mercancías exportadas al amparo de un régimen de perfeccionamiento pasivo e incluidas en un régimen de depósito aduanero en el momento de la reimportación = 6121 (y no 6171). (Primera operación: exportación temporal en régimen de perfeccionamiento pasivo = 2100; segunda operación: almacenamiento en un depósito aduanero = 7121; tercera operación: entrada para despacho a consumo + entrada para despacho a libre práctica = 6121).Los códigos señalados en la lista que figura a continuación con la letra a) no podrán utilizarse como primer elemento de dos cifras del código de régimen, pero servirán para la indicación del régimen precedente.Por ejemplo: 4054 = entrada para libre práctica y entrada para consumo de mercancías previamente incluidas en el régimen de perfeccionamiento activo en otro Estado miembro.Se deberán combinar estos elementos de base de dos en dos para obtener un código de cuatro cifras.\n",
      "                                    \n",
      "                                 Este código se utilizará para indicar que no hay ningún régimen precedente\n",
      "                                    \n",
      "                                 Despacho a libre práctica de mercancías con reexpedición simultánea en el marco del comercio entre partes del territorio aduanero de la Unión donde sean de aplicación las disposiciones de la Directiva 2006/112/CE o de la Directiva 2008/118/CE y partes de ese territorio donde no sean de aplicación dichas disposiciones, o en el marco del comercio entre las partes de ese territorio donde no sean de aplicación dichas disposiciones.\n",
      "                                                \n",
      "                                             Mercancías no pertenecientes a la Unión que llegan de un tercer país se despachan a libre práctica en Alemania y continúan con destino a las Islas Canarias.\n",
      "                                    \n",
      "                                 Despacho a libre práctica de mercancías con inclusión simultánea en un régimen de depósito distinto del régimen de depósito aduanero, cuando no se haya pagado el IVA ni, cuando proceda, derechos especiales.\n",
      "                                                \n",
      "                                             Este código se utilizará en caso de mercancías despachadas a libre práctica para las que no se haya pagado el IVA ni impuestos especiales.\n",
      "                                                \n",
      "                                             Se despacha a libre práctica azúcar en bruto importado sin haber pagado el IVA. Durante su estancia en un depósito o una zona autorizada que no sea un depósito aduanero, el pago del IVA queda suspendido.Se despachan a libre práctica aceites minerales importados sin haber pagado el IVA. Durante su estancia en un depósito o una zona autorizada, el pago del IVA y de los impuestos especiales queda suspendido.\n",
      "                                    \n",
      "                                 Exportación definitiva.\n",
      "                                                \n",
      "                                             Exportación de mercancías de la Unión a un tercer país, pero también expedición de mercancías de la Unión a partes del territorio aduanero de la Unión en las que no sean aplicables las disposiciones de la Directiva 2006/112/CE ni de la Directiva 2008/118/CE.\n",
      "                                    \n",
      "                                 Exportación de productos transformados obtenidos a partir de mercancías equivalentes al amparo del régimen de perfeccionamiento activo antes de que se incluyan en el régimen de perfeccionamiento activo.\n",
      "                                                \n",
      "                                             Exportación previa (EX-IM) de conformidad con el artículo 223, apartado 2, letra c), del Código.\n",
      "                                                \n",
      "                                             Exportación de cigarrillos fabricados con hojas de tabaco de la Unión antes de la inclusión de hojas de tabaco no pertenecientes a la Unión en el régimen de perfeccionamiento activo.\n",
      "                                    \n",
      "                                 Exportación temporal en el marco del régimen de perfeccionamiento pasivo, si no está cubierta por el código 22.\n",
      "                                                \n",
      "                                             Régimen de perfeccionamiento pasivo en virtud de los artículos 259 a 262 del Código. La aplicación simultánea del régimen de perfeccionamiento pasivo y del régimen de perfeccionamiento pasivo económico a los productos textiles [Reglamento (CE) n.º 3036/94 del Consejo] no está cubierta por este código.\n",
      "                                    \n",
      "                                 Exportación temporal distinta de la contemplada en los códigos 21 y 23.Este código se aplicará a las situaciones siguientes:—Aplicación simultánea del régimen de perfeccionamiento pasivo y del régimen de perfeccionamiento pasivo económico a productos textiles [Reglamento (CE) n 3036/94 del Consejo ].—Exportación temporal de mercancías de la Unión con vistas a su reparación, transformación, adaptación, confección o reelaboración cuando no sean exigibles derechos de aduana a la reimportación.\n",
      "                                    \n",
      "                                 Exportación temporal con vistas a una reintroducción posterior sin transformar.\n",
      "                                                \n",
      "                                             Exportación temporal de artículos para exposiciones, como muestras, material profesional, etc.\n",
      "                                    \n",
      "                                 Reexportación.\n",
      "                                                \n",
      "                                             Reexportación de mercancías no pertenecientes a la Unión con posterioridad a un régimen especial.\n",
      "                                                \n",
      "                                             Mercancías que se incluyen en un régimen de depósito aduanero y a continuación se declaran para ser reexportadas.\n",
      "                                    \n",
      "                                 Despacho a libre práctica con despacho simultáneo a consumo de mercancías.Entrada para consumo de mercancías en el marco del comercio entre la Unión y los países con los que ha establecido una unión aduanera.Entrada para consumo de mercancías en el marco del comercio a que se refiere el artículo 1, apartado 3, del Código.\n",
      "                                    \n",
      "                                 —Mercancías procedentes de Japón con pago de derechos de aduana, el IVA y, en su caso, impuestos especiales.—Mercancías procedentes de Andorra y despachadas a consumo en Alemania.—Mercancías procedentes de Martinica y despachadas a consumo en Bélgica.\n",
      "                                    \n",
      "                                 Despacho a consumo con despacho a libre práctica simultáneo de mercancías objeto de entrega exenta del IVA a otro Estado miembro y, en su caso, de la suspensión de impuestos especiales.Entrada para consumo de mercancías de la Unión, en el marco del comercio entre partes del territorio aduanero de la Unión donde no sean de aplicación las disposiciones de la Directiva 2006/112/CE ni de la Directiva 2008/118/CE y partes de ese territorio donde sean de aplicación dichas disposiciones, que son objeto de una entrega exenta del IVA a otro Estado miembro y, en su caso, de la suspensión de impuestos especiales.\n",
      "                                                \n",
      "                                             La concesión de una exención del pago del IVA y, en su caso, la suspensión de impuestos especiales se debe a que tras la importación de las mercancías se lleva a cabo una entrega o transferencia dentro de la Unión de las mismas a otro Estado miembro. En este caso, el IVA y, cuando proceda, los impuestos especiales serán exigibles en el Estado miembro de destino final. Para acogerse a este régimen, los operadores deben cumplir otras condiciones recogidas en el artículo 143, apartado 2, de la Directiva 2006/112/CE y, en su caso, las condiciones establecidas en el artículo 17, apartado 1, letra b), de la Directiva 2008/118/CE. La información requerida en el artículo 143, apartado 2, de la Directiva 2006/112/CE se consignará en el E.D. 13 16 034 000 «Número de identificación a efectos del IVA».\n",
      "                                                \n",
      "                                             Se despachan a libre práctica en un Estado miembro mercancías no pertenecientes a la Unión objeto de una entrega exenta del IVA a otro Estado miembro. De las formalidades del IVA se ocupa un agente de aduanas que es un representante fiscal y utiliza el sistema intraUnión del IVA.Se importan desde un tercer país mercancías no pertenecientes a la Unión sujetas a impuestos especiales que se despachan a libre práctica y son objeto de una entrega exenta del IVA a otro Estado miembro. Al despacho a libre práctica le sucede inmediatamente una circulación en régimen suspensivo de los impuestos especiales desde el lugar de importación, iniciada por un expedidor registrado de conformidad con el artículo 17, apartado 1, letra b), de la Directiva 2008/118/CE.\n",
      "                                    \n",
      "                                 Despacho a consumo con despacho a libre práctica simultáneo de mercancías en el marco de la aplicación, durante el período transitorio posterior a la adhesión de nuevos Estados miembros, de medidas especiales vinculadas a la percepción de un importe.\n",
      "                                                \n",
      "                                             Despacho a libre práctica de productos agrícolas en el marco de la aplicación, durante un período transitorio específico posterior a la adhesión de nuevos Estados miembros, de un régimen aduanero especial o de medidas especiales entre los nuevos Estados miembros y el resto de la Unión.\n",
      "                                    \n",
      "                                 Destino finalDespacho a libre práctica y despacho a consumo de mercancías con exención de derechos o con un tipo reducido de derechos debido a su utilización con fines particulares.\n",
      "                                                \n",
      "                                             Despacho a libre práctica de motores no pertenecientes a la Unión para su integración en una aeronave civil construida en la Unión Europea.Mercancías no pertenecientes a la Unión para su integración en ciertas categorías de buques, barcos y otras embarcaciones y plataformas de perforación o de explotación.\n",
      "                                    \n",
      "                                 Despacho a libre práctica y entrada parcial para consumo de mercancías sujetas al IVA o a impuestos especiales e inclusión de las mismas en un depósito que no sea un depósito aduanero.\n",
      "                                                \n",
      "                                             Este código se utilizará para las mercancías que estén sujetas tanto al IVA como a los impuestos especiales y cuando solo una de estas categorías de impuestos se pague en el momento en que las mercancías se despachan a libre práctica.\n",
      "                                                \n",
      "                                             Se despachan a libre práctica cigarrillos no pertenecientes a la Unión y se ha pagado el IVA. Durante su estancia en el depósito fiscal, el pago de los impuestos especiales queda suspendido.Se despachan a libre práctica mercancías sujetas a impuestos especiales importadas desde un tercer país o desde un tercer territorio contemplado en el artículo 5, apartado 3, de la Directiva 2008/118/CE. Al despacho a libre práctica le sucede inmediatamente una circulación en régimen suspensivo de los impuestos especiales iniciada por un expedidor registrado en el lugar de importación, de conformidad con el artículo 17, apartado 1, letra b), de la Directiva 2008/118/CE, a un depósito fiscal en el mismo Estado miembro.\n",
      "                                    \n",
      "                                 Importación de productos transformados obtenidos a partir de mercancías equivalentes en el marco del régimen de perfeccionamiento pasivo antes de la exportación de las mercancías a las que sustituyan.\n",
      "                                                \n",
      "                                             Importación previa de conformidad con el artículo 223, apartado 2, letra d), del Código.\n",
      "                                                \n",
      "                                             Importación de tablas fabricadas a partir de madera no perteneciente a la Unión antes de la inclusión de madera de la Unión en un régimen de perfeccionamiento pasivo.\n",
      "                                    \n",
      "                                 Entrada para consumo con despacho a libre práctica simultáneo de productos de sustitución en el marco del régimen de perfeccionamiento pasivo con anterioridad a la exportación de las mercancías defectuosas.\n",
      "                                                \n",
      "                                             Sistema de intercambios estándar (IM-EX), importación previa con arreglo al artículo 262, apartado 1, del Código.\n",
      "                                    \n",
      "                                 Inclusión de mercancías en el régimen de perfeccionamiento activo.\n",
      "                                                \n",
      "                                             Perfeccionamiento activo de conformidad con el artículo 256 del Código.\n",
      "                                    \n",
      "                                 Inclusión de mercancías en el régimen de importación temporal.\n",
      "                                                \n",
      "                                             Inclusión de mercancías no pertenecientes a la Unión destinadas a la reexportación en el régimen de importación temporal.Podrán ser utilizadas en el territorio aduanero de la Unión con exención total o parcial de los derechos de importación, de conformidad con el artículo 250 del código.\n",
      "                                                \n",
      "                                             Importación temporal, por ejemplo para una exposición.\n",
      "                                    \n",
      "                                 Perfeccionamiento activo en otro Estado miembro (sin que las mercancías se hayan despachado a libre práctica en él).\n",
      "                                                \n",
      "                                             Este código sirve para registrar la operación en las estadísticas sobre intercambios en el interior de la Unión.\n",
      "                                                \n",
      "                                             Mercancías no pertenecientes a la Unión se incluyen en el régimen de perfeccionamiento activo en Bélgica (5100). Tras el perfeccionamiento activo, se expiden a Alemania para ser despachadas allí a libre práctica (4054) o ser objeto de otras transformaciones (5154).\n",
      "                                    \n",
      "                                 Reimportación con despacho simultáneo a libre práctica y despacho a consumo de mercancías.\n",
      "                                                \n",
      "                                             Mercancías reimportadas desde un tercer país con pago de derechos de aduana e IVA.\n",
      "                                    \n",
      "                                 Reimportación con despacho a consumo y despacho a libre práctica simultáneo de mercancías objeto de una entrega exenta del IVA a otro Estado miembro y, en su caso, en régimen suspensivo de impuestos especiales.\n",
      "                                                \n",
      "                                             La concesión de una exención del pago del IVA y, en su caso, la suspensión de impuestos especiales, se debe a que tras la reimportación de las mercancías se lleva a cabo una entrega o transferencia dentro de la Unión de las mismas a otro Estado miembro. En tal caso, el IVA y, cuando proceda, los impuestos especiales, serán exigibles en el Estado miembro de destino final. Para acogerse a este régimen, los operadores deben cumplir otras condiciones recogidas en el artículo 143, apartado 2, de la Directiva 2006/112/CE y, en su caso, las condiciones establecidas en el artículo 17, apartado 1, letra b), de la Directiva 2008/118/CE. La información requerida en el artículo 143, apartado 2, de la Directiva 2006/112/CE se consignará en el E.D. 13 16 034 000 «Número de identificación a efectos del IVA».\n",
      "                                                \n",
      "                                             Reimportación tras un perfeccionamiento pasivo o una exportación temporal, imputándose la posible deuda del IVA a un representante fiscal.Reimportación de mercancías sujetas a impuestos especiales tras un perfeccionamiento pasivo que se despachen a libre práctica y sean objeto de una entrega exenta del IVA a otro Estado miembro. Al despacho a libre práctica le sucede inmediatamente una circulación en régimen suspensivo de los impuestos especiales desde el lugar de importación, iniciada por un expedidor registrado de conformidad con el artículo 17, apartado 1, letra b), de la Directiva 2008/118/CE.\n",
      "                                    \n",
      "                                 Reimportación con entrada parcial para consumo y despacho a libre práctica simultáneo e inclusión en un régimen de depósito distinto del régimen de depósito aduanero.\n",
      "                                                \n",
      "                                             Este código se utilizará para las mercancías que estén sujetas tanto al IVA como a los impuestos especiales y cuando solo una de estas categorías de impuestos se pague en el momento en que las mercancías se despachan a libre práctica.\n",
      "                                                \n",
      "                                             Bebidas alcohólicas transformadas reimportadas e introducidas en un depósito fiscal.\n",
      "                                    \n",
      "                                 Inclusión de mercancías en el régimen de depósito aduanero.\n",
      "                                    \n",
      "                                 Inclusión de mercancías de la Unión en el régimen de depósito aduanero de conformidad con el artículo 237, apartado 2, del Código.\n",
      "                                                \n",
      "                                             Carne deshuesada de bovinos pesados machos incluida en depósito aduanero antes de su exportación [artículo 4 del Reglamento (CE) n.º 1741/2006 de la Comisión, de 24 de noviembre de 2006, que establece las condiciones de concesión de la restitución particular por exportación para las carnes deshuesadas de bovinos pesados machos incluidas en el régimen de depósito aduanero antes de la exportación ()].Tras el despacho a libre práctica, solicitud de devolución o de condonación de los derechos de importación sobre las mercancías defectuosas o que incumplen los términos del contrato (artículo 118 del Código).De conformidad con el artículo 118, apartado 4, del Código, para que se conceda la devolución o la condonación, las mercancías en cuestión podrán incluirse en el régimen de depósito aduanero, sin necesidad de salir del territorio aduanero de la Unión.\n",
      "                                    \n",
      "                                 Fabricación de mercancías de la Unión bajo la vigilancia aduanera de las autoridades aduaneras y sometida a controles aduaneros (a tenor del artículo 5, puntos 27 y 3, del Código) previamente a la exportación y el pago de restituciones por exportación.\n",
      "                                                \n",
      "                                             Conservas de carnes de vacuno fabricadas bajo la vigilancia de las autoridades aduaneras y sometida a controles aduaneros antes de su exportación [artículos 2 y 3 del Reglamento (CE) n.º 1731/2006 de la Comisión, de 23 de noviembre de 2006, por el que se establecen modalidades especiales de aplicación de las restituciones por exportación para determinadas conservas de carne de vacuno ()].\n",
      "                                    \n",
      "                                 Inclusión de mercancías en una zona franca.\n",
      "                                    \n",
      "                                 Inclusión de mercancías de la Unión en un régimen de depósito distinto de un régimen de depósito aduanero cuando no se haya pagado el IVA ni, en su caso, impuestos especiales.\n",
      "                                                \n",
      "                                             Este código se utilizará en el contexto del comercio de mercancías a que se refiere el artículo 1, apartado 3, del Código, así como al comercio de mercancías entre la Unión y los países con los que esta haya establecido una unión aduanera y cuando no se hayan abonado ni el IVA ni impuestos especiales.\n",
      "                                                \n",
      "                                             Cigarrillos originarios de las Islas Canarias se introducen en Bélgica y se almacenan en un depósito fiscal; el pago del IVA y de impuestos especiales queda suspendido.\n",
      "                                    \n",
      "                                 Inclusión de mercancías de la Unión en un régimen de depósito distinto de un régimen de depósito aduanero cuando no se haya pagado el IVA ni, en su caso, impuestos especiales y esté suspendido el pago de los demás impuestos.\n",
      "                                                \n",
      "                                             Este código se utilizará en el contexto del comercio de mercancías a que se refiere el artículo 1, apartado 3, del Código, así como al comercio de mercancías entre la Unión y los países con los que esta haya establecido una unión aduanera y cuando se hayan abonado el IVA o impuestos especiales y esté suspendido el pago de los demás impuestos.\n",
      "                                                \n",
      "                                             Cigarrillos originarios de las Islas Canarias se introducen en Francia y se almacenan en un depósito fiscal; se ha pagado el IVA y está suspendido el pago de impuestos especiales.Cuando se utilice este elemento de dato para especificar un régimen de la Unión, el primer carácter del código identifica la categoría de medidas según el siguiente desglose:AxxPerfeccionamiento activo (artículo 256 del Código)BxxPerfeccionamiento pasivo (artículo 259 del Código)CxxFranquicias [Reglamento (CE) n.º 1186/2009 del Consejo ]DxxImportación temporal [Reglamento Delegado (UE) 2015/2446]ExxProductos agrícolasFxxOtros         Número de identificación del documento utilizado u otro reconocible.En caso de que se mencione el MRN como documento precedente, el número de referencia deberá tener la siguiente estructura:Los campos 1 y 2 se cumplimentarán tal como se ha explicado anteriormente.El campo 3 deberá cumplimentarse con un identificador para el mensaje de que se trate. La forma de utilizar este campo es competencia de las Administraciones nacionales, pero cada mensaje tratado durante un año en el país interesado deberá ir identificado por un número único en relación con el régimen de que se trate.Las Administraciones nacionales que deseen incluir en el MRN el número de referencia de la aduana competente podrán utilizar los seis primeros caracteres para representarlo.El campo 4 deberá cumplimentarse con un identificador del régimen, como se define en el cuadro que figura a continuación.El campo 5 deberá cumplimentarse con un valor que sirva de dígito de control para todo el MRN. Este campo permite detectar un error al capturar el MRN completo.Códigos que deben utilizarse en el campo 4: Identificador de régimenLos documentos precedentes deberán indicarse en forma de código definido en el título I. La lista de documentos, así como sus respectivos códigos, figura en la base de datos TARIC.La información adicional del ámbito aduanero se codifica en forma de código numérico de cinco cifras.Categoría general – Código 0xxxxImportación – Código 1xxxxTránsito – Código 2xxxxExportación – Código 3xxxxOtros – Código 4xxxx«Material diplomático – Exención de inspección»  a)Los documentos, certificados y autorizaciones internacionales o de la Unión presentados en apoyo de la declaración deberán indicarse en forma de un código definido en el título I, seguido de un número de identificación u otra referencia reconocible. La lista de documentos, certificados y autorizaciones, así como sus códigos respectivos, figura en la base de datos TARIC.b)Los documentos, certificados y autorizaciones nacionales presentados en apoyo de la declaración deberán indicarse en forma de un código definido en el título I (ej.: 2123, 34D5), seguido, en su caso, de un número de identificación u otra referencia reconocible. Los cuatro caracteres que constituyen los códigos se establecen según la nomenclatura propia de cada Estado miembro.a)Las referencias adicionales deberán indicarse en forma de un código definido en el título I. La lista de referencias adicionales, así como sus códigos respectivos, figura en la base de datos TARIC.b)Las referencias adicionales deberán indicarse en forma de un código definido en el título I, seguido, en su caso, de un número de identificación u otra referencia reconocible. Los cuatro caracteres que constituyen los códigos se establecen según la nomenclatura propia de cada Estado miembro.Los documentos de transporte deberán indicarse en forma de un código definido en el título I. La lista de documentos, así como sus códigos respectivos, figura en la base de datos TARIC.La letra mediante la que se identifica el tipo de depósito:RDepósito aduanero público de tipo ISDepósito aduanero público de tipo IIITDepósito aduanero público de tipo IIIUDepósito aduanero privadoVInstalaciones de almacenamiento para el depósito temporal de mercancíasYDepósito no aduaneroZZona francaLa estructura de un número de identificación único de tercer país comunicado a la Unión es el siguiente:Código de país: Se utilizará el código de país definido en el título I para el E.D. 1 301 018 020«País en la dirección del exportador».Se utilizarán los códigos siguientes:Se utilizarán los códigos siguientes:Para indicar el estatuto del representante, insértese uno de los siguientes códigos delante del nombre y la dirección completos: Podrán declararse las partes siguientes:Pueden utilizarse los siguientes tipos de presentación:Podrán declararse las partes siguientes:El número de identificación a efectos del impuesto sobre el valor añadido se estructura como sigue:Cuando las mercancías se declaren para su despacho a libre práctica en el marco del régimen especial aplicable a las ventas a distancia de bienes importados de terceros territorios o de terceros países contemplado en el título XII, capítulo 6, sección 4, de la Directiva 2006/112/CE, se facilitará el número de identificación individual a efectos del IVA atribuido para la utilización de este régimen.Los códigos e indicaciones que deben figurar son los siguientes:Se utilizarán los códigos siguientes:Se utilizarán los códigos siguientes:Los códigos que podrán aplicar los Estados miembros son los siguientes:Adiciones (tal y como se definen en los artículos 70 y 71 del Código)Deducciones (tal como se definen en el artículo 72 del Código)El código consta de cuatro cifras, cada una de los cuales ha de ser «0» o «1».Cada cifra «1» o «0» refleja si un indicador es o no pertinente para la valoración de las mercancías de que se trate.1 cifra: Vinculación entre las partes, si existe o no influencia en el precio.2 cifra: Restricciones para la utilización o disposición de las mercancías por parte del comprador de conformidad con el artículo 70, apartado 3, letra a), del Código3 cifra: La venta o el precio están sujetos a algún tipo de condición o consideración de conformidad con el artículo 70, apartado 3, letra b), del Código4 cifra: La venta está sujeta a una disposición en virtud de la cual parte del producto de una reventa, cesión o utilización posterior repercuta directa o indirectamente en el vendedorEjemplo: Las mercancías objeto de vinculación de parte, pero de ninguna de las demás situaciones definidas en las cifras 2, 3 y 4 implicarían el uso del código combinado «1 000».Las disposiciones utilizadas para determinar el valor en aduana de las mercancías importadas se codificarán como sigue:Esta información incluye códigos de tres cifras, compuestos de un elemento de una cifra según el punto 1, seguido de un elemento de dos cifras según el punto 2.A continuación figuran los códigos pertinentes:(1)Primera cifra del código:1Régimen arancelario \n",
      "                                             2Sistema de preferencias generalizadas (SPG)3Preferencias arancelarias distintas de las contempladas en el código 24Derechos de aduana en aplicación de lo dispuesto en acuerdos de unión aduanera celebrados por la Unión Europea.(2)Siguientes dos cifras del código00Ninguno de los casos siguientes10Suspensión arancelaria18Suspensión arancelaria con certificado sobre la naturaleza particular del producto19Suspensión temporal para los productos importados con un certificado de aptitud autorizado Formulario EASA 1 o un certificado equivalente20Contingente arancelario \n",
      "                                             25Contingente arancelario con certificado sobre la naturaleza especial del producto \n",
      "                                             28Contingente arancelario previo perfeccionamiento pasivo \n",
      "                                             50Certificado relativo a la naturaleza particular del productoUtilícese el código GEONOM mencionado en la nota introductoria 13, número 3.Para el tipo de ubicación, utilícense los códigos que se especifican a continuación:\n",
      "                                    \n",
      "                                 Localización designada\n",
      "                                    \n",
      "                                 Lugar autorizado\n",
      "                                    \n",
      "                                 Lugar aprobado\n",
      "                                    \n",
      "                                 Los demásPara la identificación de la ubicación, utilícese uno de los identificadores siguientes:En caso de que los códigos «X» (número EORI) o «Y» (número de autorización) se utilicen para la identificación del lugar y existan varios lugares asociados con el número EORI o el número de autorización de que se trate, podrá utilizarse un identificador adicional para permitir la identificación inequívoca del lugar.A continuación figuran los códigos pertinentes:0Las mercancías no circulan desde la aduana de partida hasta la aduana de destino siguiendo un itinerario justificado desde un punto de vista económico.1Las mercancías circularán desde la aduana de partida hasta la aduana de destino siguiendo un itinerario justificado desde el punto de vista económico.Deberán utilizarse los códigos (an8) que se ajusten a la siguiente estructura:—Los primeros dos caracteres (a2) servirán para identificar el país mediante el código GEONOM mencionado en la nota introductoria 13, número 3.—Los seis caracteres siguientes (an6) indicarán la aduana afectada en ese país. Se sugiere adoptar la siguiente estructura:Los tres primeros caracteres (an3) representarían el nombre de ubicación LOCODE/NU y los tres últimos, una subdivisión alfanumérica nacional (an3). En caso de que no se utilizase esta subdivisión, debería insertarse «000».A continuación figuran los códigos pertinentes:Se utilizarán los códigos siguientes:Se utilizarán los códigos siguientes:Se utilizarán los códigos siguientes:Se utilizarán los códigos siguientes:Se utilizarán los códigos siguientes:Se utilizarán los códigos siguientes:—BG Ограничена валидност—CS Omezená platnost—DA Begrænset gyldighed—DE Beschränkte Geltung—EE Piiratud kehtivus—EL Περιορισμένη ισχύς—ES Validez limitada—FR Validité limitée—HR Ograničena valjanost—IT Validità limitata—LV Ierobežots derīgums—LT Galiojimas apribotas—HU Korlátozott érvényű—MT Validità limitata—NL Beperkte geldigheid—PL Ograniczona ważność—PT Validade limitada—RO Validitate limitată—SL Omejena veljavnost—SK Obmedzená platnost'—FI Voimassa rajoitetusti—SV Begränsad giltighet—EN Limited validity—BG Освободено—CS Osvobození—DA Fritaget—DE Befreiung—EE Loobutud—EL Απαλλαγή—ES Dispensa—FR Dispense—HR Oslobođeno—IT Dispensa—LV Derīgs bez zīmoga—LT Leista neplombuoti—HU Mentesség—MT Tneħħija—NL Vrijstelling—PL Zwolnienie—PT Dispensa—RO Dispensă—SL Opustitev—SK Upustenie—FI Vapautettu—SV Befrielse—EN Waiver—BG Алтернативно доказателство—CS Alternativní důkaz—DA Alternativt bevis—DE Alternativnachweis—EE Alternatiivsed tõendid—EL Εναλλακτική απόδειξη—ES Prueba alternativa—FR Preuve alternative—HR Alternativni dokaz—IT Prova alternativa—LV Alternatīvs pierādījums—LT Alternatyvusis įrodymas—HU Alternatív igazolás—MT Prova alternattiva—NL Alternatief bewijs—PL Alternatywny dowód—PT Prova alternativa—RO Probă alternativă—SL Alternativno dokazilo—SK Alternatívny dôkaz—FI Vaihtoehtoinen todiste—SV Alternativt bevis—EN Alternative proof—BG Различия: митническо учреждение, където са представени стоките …… (наименование и държава)—CS Nesrovnalosti: úřad, kterému bylo zboží předloženo …… (název a země)—DA Forskelle: det sted, hvor varerne blev frembudt…… (navn og land)—DE Unstimmigkeiten: Stelle, bei der die Gestellung erfolgte …… (Name und Land)—EE Erinevused: asutus, kuhu kaup esitati ……. (nimi ja riik)—EL Διαφορές: εμπορεύματα προσκομισθέντα στο τελωνείο …… (Όνομα και χώρα)—ES Diferencias: mercancías presentadas en la oficina de…… (nombre y país)—FR Différences: marchandises présentées au bureau…… (nom et pays) …… (nom et pays)—HR Razlike: carinarnica kojoj je roba podnesena … (naziv i zemlja)—IT Differenze: ufficio al quale sono state presentate le merci …… (nome e paese)—LV Atšķirības: muitas iestāde, kurā preces tika uzrādītas …… (nosaukums un valsts)—LT Skirtumai: įstaiga, kuriai pateiktos prekės …… (pavadinimas ir valstybė)—HU Eltérések: hivatal, ahol az áruk bemutatása megtörtént … (név és ország)—MT Differenzi: uffiċċju fejn l-oġġetti kienu ppreżentati …… (isem u pajjiż)—NL Verschillen: kantoor waar de goederen zijn aange- bracht …… (naam en land)—PL Niezgodności: urząd, w którym przedstawiono towar …… (nazwa i kraj)—PT Diferenças: mercadorias apresentadas na estãncia …… (nome e país)—RO Diferențe: mărfuri prezentate la biroul vamal …… (nume și țara)—SL Razlike: urad, pri katerem je bilo blago predloženo …… (naziv in država)—SK Rozdiely: úrad, ktorému bol tovar predložený …… (názov a krajina).—FI Muutos: toimipaikka, jossa tavarat esitetty …… (nimi ja maa)—SV Avvikelse: tullkontor där varorna anmäldes …… (namn och land)—EN Differences: office where goods were presented …… (name and country)—BG Извеждането от ……… подлежи на ограничения или такси съгласно Регламент/Директива/Решение № …,—CS Výstup ze …………… podléhá omezením nebo dávkám podle nařízení /směrnice/ rozhodnutí č …—DA Udpassage fra …………… undergivet restriktioner eller afgifter i henhold til forordning/direktiv/ afgørelse nr. …—DE Ausgang aus ……………- gemäß Verordnung/Richtlinie/ Beschluss Nr. … Beschränkungen oder Abgaben unterworfen.—EE … territooriumilt väljumise suhtes kohaldatakse piir- anguid ja makse vastavalt määrusele/direktiivile/otsusele nr…—EL Η έξοδος από …… υποβάλλεται σε περιορισμούς ή σε επιβαρύνσεις από τον κανονισμό/την οδηγία/την απόφαση αριθ. …—ES Salida de …… sometida a restricciones o imposiciones en virtud del (de la) Reglamento/Directiva/ Decisión no …—FR Sortie de…… soumise à des restrictions ou à des impositions par le Règlement ou la directive/ décision no …—HR Izlaz iz … podliježe ograničenjima ili pristojbama na temelju Uredbe/ Direktive/Odluke br. …—IT Uscita dalla ……………soggetta a restrizioni o ad imposizioni a norma del(la) regolamento/direttiva/ decisione n.º …—LV Izvešana no …………… piemērojot ierobežojumus vai maksājumus saskaņā ar Regulu/Direktīvu/Lēmumu Nr. …,—LT Išvežimui iš …………… taikomi apribojimai arba mokesčiai, nustatyti Reglamentu/ Direktyva/Sprendimu Nr.…,—HU A kilépés …………… területéről a … rendelet/ir¬ ányelv /határozat szerinti korlátozás vagy teher megfize- ésénekkötelezettsége alá esik—MT Ħruġ mill- …………… suġġett għall- restrizzjonijiet jew ħlasijiet taħt Regola/ Direttiva/Deċiżjoni Nru …—NL Bij uitgang uit de ………………zijn de beperkingen of heffingen van Verordening/ Richtlijn/Besluit nr. … van toepassing.—PL Wyprowadzenie z …………… podlega ograniczeniom lub opłatom zgodnie z rozporządzeniem/dyrektywą/decyzją nr …—PT Saída da …………… sujeita a restrições ou a imposições pelo(a) Regulamento/ Directiva/Decisão n.ºo…—RO Ieșire din ……………supusă restricțiilor sau impo- zitelor prin Regulamentul/ Directiva/Decizia nr …—SL Iznos iz …………… zavezan omejitvam ali obveznim dajatvam na podlagi Uredbe/Direktive/ Odločbe št. …—SK Výstup z ……………podlieha obmedzeniam alebo platbám podľa nariadenia/ smernice/rozhodnutia č ….—FI …………… vientiin sovelletaan asetuksen/direktii¬ vin/ päätöksen N:o … mukaisia rajoituksia tai maksuja—EN Exit from …………… subject to restrictions or charges under Regulation /Directive/Decision No …—BG Одобрен изпращач—CS Schválený odesílatel—DA Godkendt afsender—DE Zugelassener Versender—EE Volitatud kaubasaatja—EL Εγκεκριμένος αποστολέας—ES Expedidor autorizado—FR Expéditeur agréé—HR Ovlašteni pošiljatelj—IT Speditore autorizzato—LV Atzītais nosūtītājs—LT Įgaliotasis siuntėjas—HU Engedélyezett feladó—MT Awtorizzat li jibgħat—NL Toegelaten afzender—PL Upoważniony nadawca—PT Expedidor autorizado—RO Expeditor agreat—SL Pooblaščeni pošiljatelj—SK Schválený odosielateľ—FI Valtuutettu lähettäjä—SV Godkänd avsändare—EN Authorised consignor—BG Освободен от подпис—CS Podpis se nevyžaduje—DA Fritaget for underskrift—DE Freistellung von der Unterschriftsleistung—EE Allkirjanõudest loobutud—EL Δεν απαιτείται υπογραφή—ES Dispensa de firma—FR Dispense de signature—HR Oslobođeno potpisa—IT Dispensa dalla firma—LV Derīgs bez paraksta—LT Leista nepasirašyti—HU Aláírás alól mentesítve—MT Firma mhux meħtieġa—NL Van ondertekening vrijgesteld—PL Zwolniony ze składania podpisu—PT Dispensada a assinatura—RO Dispensă de semnătură—SL Opustitev podpisa—SK Upustenie od podpisu—FI Vapautettu allekirjoituksesta—SV Befrielse från underskrift—EN Signature waived—BG ЗАБРАНЕНО ОБЩО ОБЕЗПЕЧЕНИЕ—CS ZÁKAZ SOUBORNÉ JISTOTY—DA FORBUD MOD SAMLET SIKKERHEDSSTILLELSE—DE GESAMTBÜRGSCHAFT UNTERSAGT—EE ÜLDTAGATISE KASUTAMINE KEELATUD—EL ΑΠΑΓΟΡΕΥΕΤΑΙ Η ΣΥΝΟΛΙΚΗ ΕΓΓΥΗΣΗ—ES GARANTÍA GLOBAL PROHIBIDA—FR GARANTIE GLOBALE INTERDITE—HR ZABRANJENO ZAJEDNIČKO JAMSTVO—IT GARANZIA GLOBALE VIETATA—LV VISPĀRĒJS GALVOJUMS AIZLIEGTS—LT NAUDOTI BENDRĄJĄ GARANTIJĄ UŽDRAUSTA—HU ÖSSZKEZESSÉG TILOS—MT MHUX PERMESSA GARANZIJA KOMPRENSIVA—NL DOORLOPENDE ZEKERHEID VERBODEN—PL ZAKAZ KORZYSTANIA Z ZABEZPIECZENIA GENERALNEGO—PT GARANTIA GLOBAL PROIBIDA—RO GARANȚIA GLOBALĂ INTERZISĂ—SL PREPOVEDANO SKUPNO ZAVAROVANJE—SK ZÁKAZ CELKOVEJ ZÁRUKY—FI YLEISVAKUUDEN KÄYTTÖ KIELLETTY—SV SAMLAD SÄKERHET FÖRBJUDEN—EN COMPREHENSIVE GUARANTEE PROHIBITED—BG ИЗПОЛЗВАНЕ БЕЗ ОГРАНИЧЕНИЯ—CS NEOMEZENÉ POUŽITÍ—DA UBEGRÆNSET ANVENDELSE—DE UNBESCHRÄNKTE VERWENDUNG—EE PIIRAMATU KASUTAMINE—ΕL ΑΠΕΡΙΟΡΙΣΤΗ ΧΡΗΣΗ—ES UTILIZACIÓN NO LIMITADA—FR UTILISATION NON LIMITÉE—HR NEOGRANIČENA UPORABA—IT UTILIZZAZIONE NON LIMITATA—LV NEIEROBEŽOTS IZMANTOJUMS—LT NEAPRIBOTAS NAUDOJIMAS—HU KORLÁTOZÁS ALÁ NEM ESŐ HASZNÁLAT—MT UŻU MHUX RISTRETT—NL GEBRUIK ONBEPERKT—PL NIEOGRANICZONE KORZYSTANIE—PT UTILIZAÇÃO ILIMITADA—RO UTILIZARE NELIMITATĂ—SL NEOMEJENA UPORABA—SK NEOBMEDZENÉ POUŽITIE—FI KÄYTTÖÄ EI RAJOITETTU—SV OBEGRÄNSAD ANVÄNDNING—EN UNRESTRICTED USE—BG Разни—CS Různí—DA Diverse—DE Verschiedene—EE Erinevad—EL Διάφορα—ES Varios—FR Divers—HR Razni—IT Vari—LV Dažādi—LT Įvairūs—HU Többféle—MT Diversi—NL Diverse—PL Różne—PT Diversos—RO Diverși—SL Razno—SK Rôzne—FI Useita—SV Flera—EN Various—BG Насипно—CS Volně loženo—DA Bulk—DE Lose—EE Pakendamata—EL Χύμα—ES A granel—FR Vrac—HR Rasuto—IT Alla rinfusa—LV Berams(lejams)—LT Nesupakuota—HU Ömlesztett—MT Bil-kwantità—NL Los gestort—PL Luzem—PT A granel—RO Vrac—SL Razsuto—SK Voľne ložené—FI Irtotavaraa—SV Bulk—EN Bulk—BG Изпращач—CS Odesílatel—DA Afsender—DE Versender—EE Saatja—EL Αποστολέας—ES Expedidor—FR Expéditeur—HR Pošiljatelj—IT Speditore—LV Nosūtītājs—LT Siuntėjas—HU Feladó—MT Min jikkonsenja—NL Afzender—PL Nadawca—PT Expedidor—RO Expeditor—SL Pošiljatelj—SK Odosielateľ—FI Lähettäjä—SV Avsändare—EN Consignor»1.2.3.4.5.a:alfabéticon:numéricoan:alfanuméricoEl número que sigue al código indica la longitud admisible del dato. Se aplican las normas siguientes:Los dos puntos facultativos que anteceden al indicador de longitud significan que el dato no tiene longitud fija, pero que pueden tener un número máximo de cifras, especificado por el indicador de longitud. Una coma en la longitud del dato indica que el atributo puede contener decimales; en ese caso, la cifra que precede a la coma indica la longitud total del atributo y la cifra que sigue a la coma, el número máximo de decimales.Ejemplos de formatos y longitudes de los campos:a11 carácter alfabético, longitud fijan22 caracteres numéricos, longitud fijaan33 caracteres alfanuméricos, longitud fijaa..4hasta 4 caracteres alfabéticosn..5hasta 5 caracteres numéricosan..6hasta 6 caracteres alfanuméricosn..7,2hasta 7 caracteres numéricos, incluido un máximo de 2 decimales, con un delimitador que puede fluctuar6.7.8.                                                                                                 Este título contiene los códigos que deberán utilizarse en las declaraciones y notificaciones estándar electrónicas y en papel.IMPara el comercio con los países y territorios situados fuera del territorio aduanero de la Unión.Para la inclusión de mercancías en uno de los regímenes aduaneros contemplados en las columnas H1 a H4, H6 e I1 del cuadro de requisitos en materia de datos del título I del anexo B del Reglamento Delegado (UE) 2015/2446.Para la inclusión de mercancías no pertenecientes a la Unión en un régimen aduanero en el marco del comercio entre Estados miembros.CO—Mercancías de la Unión sujetas a medidas particulares durante el período transitorio posterior a la adhesión de nuevos Estados miembros.—Mercancías de la Unión en el marco del comercio entre partes del territorio aduanero de la Unión donde sean de aplicación las disposiciones de la Directiva 2006/112/CE del Consejo  o de la Directiva 2008/118/CE del Consejo  y partes de ese territorio donde no sean de aplicación esas disposiciones, o en el marco del comercio entre partes de ese territorio donde no sean de aplicación esas disposiciones según se indica en la columna H5 del cuadro de los requisitos en materia de datos del título I del anexo D del [Reglamento Delegado (UE) 2015/2446 por el que se completa el Reglamento (UE) n.º 952/2013].APara una declaración en aduana normal (en virtud del artículo 162 del Código).BPara una declaración en aduana simplificada ocasional (en virtud del artículo 166, apartado 1, del Código).CPara una declaración en aduana simplificada de uso habitual (en virtud del artículo 166, apartado 2, del Código).DPara la presentación de una declaración en aduana normal (tal como se contempla en el código A) de conformidad con el artículo 171 del Código.EPara la presentación de una declaración simplificada (tal como se contempla en el código B) de conformidad con el artículo 171 del Código.FPara la presentación de una declaración simplificada (tal como se contempla en el código C) de conformidad con el artículo 171 del Código.RPresentación  de una declaración de exportación o de reexportación de conformidad con el artículo 249 del Reglamento Delegado (UE) 2015/2446 y el artículo 337 del Reglamento de Ejecución (UE) 2015/2447.XPara una declaración complementaria a declaraciones simplificadas contempladas en B y E.YPara una declaración complementaria a declaraciones simplificadas contempladas en C y F.ZPara una declaración complementaria en el marco del procedimiento contemplado en el artículo 182 del Código.Los códigos que deberán consignarse en esta subdivisión son códigos de cuatro cifras, compuestos de un elemento de dos cifras que representa el régimen solicitado, seguido de un segundo elemento de dos cifras que representa el régimen precedente. La lista de los elementos de dos cifras figura a continuación.Se entenderá por “régimen precedente” el régimen en el que estaban incluidas las mercancías antes de ser incluidas en el régimen solicitado.Téngase en cuenta que, cuando el régimen precedente sea un régimen de depósito aduanero o de importación temporal, o cuando las mercancías procedan de una zona franca, el código correspondiente a dicho régimen solo deberá ser utilizado cuando las mercancías no hayan sido incluidas en un régimen de perfeccionamiento activo, de perfeccionamiento pasivo o de destino final.Del mismo modo, la reimportación y el despacho a libre práctica de mercancías previamente exportadas temporalmente después de haber sido incluidas en un régimen de depósito aduanero, de importación temporal o en una zona franca se considerarán una simple reimportación después de una exportación temporal.Por ejemplo: entrada para consumo con entrada simultánea para libre práctica de mercancías exportadas al amparo de un régimen de perfeccionamiento pasivo e incluidas en un régimen de depósito aduanero en el momento de la reimportación = 6121 (y no 6171). (Primera operación: exportación temporal en régimen de perfeccionamiento pasivo = 2100; segunda operación: almacenamiento en un depósito aduanero = 7121; tercera operación: entrada para despacho a consumo + entrada para despacho a libre práctica = 6121).Los códigos señalados en la lista que figura a continuación con la letra a) no podrán utilizarse como primer elemento de dos cifras del código de régimen, pero servirán para la indicación del régimen precedente.Por ejemplo: 4054 = entrada para libre práctica y entrada para consumo de mercancías previamente incluidas en el régimen de perfeccionamiento activo en otro Estado miembro.Se deberán combinar estos elementos de base de dos en dos para obtener un código de cuatro cifras.\n",
      "                                    \n",
      "                                 Este código se utilizará para indicar que no hay ningún régimen precedente\n",
      "                                    \n",
      "                                 Despacho a libre práctica de mercancías con reexpedición simultánea en el marco del comercio entre partes del territorio aduanero de la Unión donde sean de aplicación las disposiciones de la Directiva 2006/112/CE o de la Directiva 2008/118/CE y partes de ese territorio donde no sean de aplicación dichas disposiciones, o en el marco del comercio entre las partes de ese territorio donde no sean de aplicación dichas disposiciones.EjemploMercancías no pertenecientes a la Unión que llegan de un tercer país se despachan a libre práctica en Alemania y continúan con destino a las Islas Canarias.\n",
      "                                    \n",
      "                                 Despacho a libre práctica de mercancías con inclusión simultánea en un régimen de depósito distinto del régimen de depósito aduanero, cuando no se haya pagado el IVA ni, cuando proceda, derechos especiales.ExplicaciónEste código se utilizará en caso de mercancías despachadas a libre práctica para las que no se haya pagado el IVA ni impuestos especiales.EjemplosSe despacha a libre práctica azúcar en bruto importado sin haber pagado el IVA. Durante su estancia en un depósito o una zona autorizada que no sea un depósito aduanero, el pago del IVA queda suspendido.Se despachan a libre práctica aceites minerales importados sin haber pagado el IVA. Durante su estancia en un depósito o una zona autorizada, el pago del IVA y de los impuestos especiales queda suspendido.\n",
      "                                    \n",
      "                                 Despacho a libre práctica con despacho simultáneo a consumo de mercancías.Entrada para consumo de mercancías en el marco del comercio entre la Unión y los países con los que ha establecido una unión aduanera.Entrada para consumo de mercancías en el marco del comercio a que se refiere el artículo 1, apartado 3, del Código.\n",
      "                                    \n",
      "                                 —Mercancías procedentes de Japón con pago de derechos de aduana, el IVA y, en su caso, impuestos especiales.—Mercancías procedentes de Andorra y despachadas a consumo en Alemania.—Mercancías procedentes de Martinica y despachadas a consumo en Bélgica.\n",
      "                                    \n",
      "                                 Despacho a consumo con despacho a libre práctica simultáneo de mercancías objeto de entrega exenta del IVA a otro Estado miembro y, en su caso, de la suspensión de impuestos especiales.Entrada para consumo de mercancías de la Unión, en el marco del comercio entre partes del territorio aduanero de la Unión donde no sean de aplicación las disposiciones de la Directiva 2006/112/CE ni de la Directiva 2008/118/CE y partes de ese territorio donde sean de aplicación dichas disposiciones, que son objeto de una entrega exenta del IVA a otro Estado miembro y, en su caso, de la suspensión de impuestos especiales.ExplicaciónLa concesión de una exención del pago del IVA y, en su caso, la suspensión de impuestos especiales se debe a que tras la importación de las mercancías se lleva a cabo una entrega o transferencia dentro de la Unión de las mismas a otro Estado miembro. En este caso, el IVA y, cuando proceda, los impuestos especiales serán exigibles en el Estado miembro de destino final. Para acogerse a este régimen, los operadores deben cumplir otras condiciones recogidas en el artículo 143, apartado 2, de la Directiva 2006/112/CE y, en su caso, las condiciones establecidas en el artículo 17, apartado 1, letra b), de la Directiva 2008/118/CE. La información requerida en el artículo 143, apartado 2, de la Directiva 2006/112/CE se consignará en el E.D. 3/40 “N. de identificación de las referencias fiscales adicionales”EjemplosSe despachan a libre práctica en un Estado miembro mercancías no pertenecientes a la Unión objeto de una entrega exenta del IVA a otro Estado miembro. De las formalidades del IVA se ocupa un agente de aduanas que es un representante fiscal y utiliza el sistema intraUnión del IVA.Se importan desde un tercer país mercancías no pertenecientes a la Unión sujetas a impuestos especiales que se despachan a libre práctica y son objeto de una entrega exenta del IVA a otro Estado miembro. Al despacho a libre práctica le sucede inmediatamente una circulación en régimen suspensivo de los impuestos especiales desde el lugar de importación, iniciada por un expedidor registrado de conformidad con el artículo 17, apartado 1, letra b), de la Directiva 2008/118/CE.\n",
      "                                    \n",
      "                                 Despacho a consumo con despacho a libre práctica simultáneo de mercancías en el marco de la aplicación, durante el período transitorio posterior a la adhesión de nuevos Estados miembros, de medidas especiales vinculadas a la percepción de un importe.EjemploDespacho a libre práctica de productos agrícolas en el marco de la aplicación, durante un período transitorio específico posterior a la adhesión de nuevos Estados miembros, de un régimen aduanero especial o de medidas especiales entre los nuevos Estados miembros y el resto de la Unión.\n",
      "                                    \n",
      "                                 Destino finalDespacho a libre práctica y despacho a consumo de mercancías con exención de derechos o con un tipo reducido de derechos debido a su utilización con fines particulares.EjemploDespacho a libre práctica de motores no pertenecientes a la Unión para su integración en una aeronave civil construida en la Unión Europea.Mercancías no pertenecientes a la Unión para su integración en ciertas categorías de buques, barcos y otras embarcaciones y plataformas de perforación o de explotación.\n",
      "                                    \n",
      "                                 Despacho a libre práctica y entrada parcial para consumo de mercancías sujetas al IVA o a impuestos especiales e inclusión de las mismas en un depósito que no sea un depósito aduanero.ExplicaciónEste código se utilizará para las mercancías que estén sujetas tanto al IVA como a los impuestos especiales y cuando solo una de estas categorías de impuestos se pague en el momento en que las mercancías se despachan a libre práctica.EjemplosSe despachan a libre práctica cigarrillos no pertenecientes a la Unión y se ha pagado el IVA. Durante su estancia en el depósito fiscal, el pago de los impuestos especiales queda suspendido.Se despachan a libre práctica mercancías sujetas a impuestos especiales importadas desde un tercer país o desde un tercer territorio contemplado en el artículo 5, apartado 3, de la Directiva 2008/118/CE. Al despacho a libre práctica le sucede inmediatamente una circulación en régimen suspensivo de los impuestos especiales iniciada por un expedidor registrado en el lugar de importación, de conformidad con el artículo 17, apartado 1, letra b), de la Directiva 2008/118/CE, a un depósito fiscal en el mismo Estado miembro.\n",
      "                                    \n",
      "                                 Importación de productos transformados obtenidos a partir de mercancías equivalentes en el marco del régimen de perfeccionamiento pasivo antes de la exportación de las mercancías a las que sustituyan.ExplicaciónImportación previa de conformidad con el artículo 223, apartado 2, letra d), del Código.EjemploImportación de tablas fabricadas a partir de madera no perteneciente a la Unión antes de la inclusión de madera de la Unión en un régimen de perfeccionamiento pasivo.\n",
      "                                    \n",
      "                                 Entrada para consumo con despacho a libre práctica simultáneo de productos de sustitución en el marco del régimen de perfeccionamiento pasivo con anterioridad a la exportación de las mercancías defectuosas.ExplicaciónSistema de intercambios estándar (IM-EX), importación previa con arreglo al artículo 262, apartado 1, del Código.\n",
      "                                    \n",
      "                                 Inclusión de mercancías en el régimen de perfeccionamiento activo.ExplicaciónPerfeccionamiento activo de conformidad con el artículo 256 del Código.\n",
      "                                    \n",
      "                                 Inclusión de mercancías en el régimen de importación temporal.ExplicaciónInclusión de mercancías no pertenecientes a la Unión destinadas a la reexportación en el régimen de importación temporal.Podrán ser utilizadas en el territorio aduanero de la Unión con exención total o parcial de los derechos de importación, de conformidad con el artículo 250 del código.EjemploImportación temporal, por ejemplo para una exposición.\n",
      "                                    \n",
      "                                 Perfeccionamiento activo en otro Estado miembro (sin que las mercancías se hayan despachado a libre práctica en él).ExplicaciónEste código sirve para registrar la operación en las estadísticas sobre intercambios en el interior de la Unión.EjemploMercancías no pertenecientes a la Unión se incluyen en el régimen de perfeccionamiento activo en Bélgica (5100). Tras el perfeccionamiento activo, se expiden a Alemania para ser despachadas allí a libre práctica (4054) o ser objeto de otras transformaciones (5154).\n",
      "                                    \n",
      "                                 Reimportación con despacho simultáneo a libre práctica y despacho a consumo de mercancías.ExplicaciónMercancías reimportadas desde un tercer país con pago de derechos de aduana e IVA.\n",
      "                                    \n",
      "                                 Reimportación con despacho a consumo y despacho a libre práctica simultáneo de mercancías objeto de una entrega exenta del IVA a otro Estado miembro y, en su caso, en régimen suspensivo de impuestos especiales.ExplicaciónLa concesión de una exención del pago del IVA y, en su caso, la suspensión de impuestos especiales, se debe a que tras la reimportación de las mercancías se lleva a cabo una entrega o transferencia dentro de la Unión de las mismas a otro Estado miembro. En tal caso, el IVA y, cuando proceda, los impuestos especiales, serán exigibles en el Estado miembro de destino final. Para acogerse a este régimen, los operadores deben cumplir otras condiciones recogidas en el artículo 143, apartado 2, de la Directiva 2006/112/CE y, en su caso, las condiciones establecidas en el artículo 17, apartado 1, letra b), de la Directiva 2008/118/CE. La información requerida en el artículo 143, apartado 2, de la Directiva 2006/112/CE se consignará en el E.D. 3/40 “N. de identificación de las referencias fiscales adicionales”EjemplosReimportación tras un perfeccionamiento pasivo o una exportación temporal, imputándose la posible deuda del IVA a un representante fiscal.Reimportación de mercancías sujetas a impuestos especiales tras un perfeccionamiento pasivo que se despachen a libre práctica y sean objeto de una entrega exenta del IVA a otro Estado miembro. Al despacho a libre práctica le sucede inmediatamente una circulación en régimen suspensivo de los impuestos especiales desde el lugar de importación, iniciada por un expedidor registrado de conformidad con el artículo 17, apartado 1, letra b), de la Directiva 2008/118/CE.\n",
      "                                    \n",
      "                                 Reimportación con entrada parcial para consumo y despacho a libre práctica simultáneo e inclusión en un régimen de depósito distinto del régimen de depósito aduanero.ExplicaciónEste código se utilizará para las mercancías que estén sujetas tanto al IVA como a los impuestos especiales y cuando solo una de estas categorías de impuestos se pague en el momento en que las mercancías se despachan a libre práctica.EjemploBebidas alcohólicas transformadas reimportadas e introducidas en un depósito fiscal.\n",
      "                                    \n",
      "                                 Inclusión de mercancías en el régimen de depósito aduanero.\n",
      "                                    \n",
      "                                 Inclusión de mercancías de la Unión en el régimen de depósito aduanero de conformidad con el artículo 237, apartado 2, del Código.EjemploCarne deshuesada de bovinos pesados machos incluida en depósito aduanero antes de su exportación [artículo 4 del Reglamento (CE) n.º 1741/2006 de la Comisión, de 24 de noviembre de 2006, que establece las condiciones de concesión de la restitución particular por exportación para las carnes deshuesadas de bovinos pesados machos incluidas en el régimen de depósito aduanero antes de la exportación ()].Tras el despacho a libre práctica, solicitud de devolución o de condonación de los derechos de importación sobre las mercancías defectuosas o que incumplen los términos del contrato (artículo 118 del Código).De conformidad con el artículo 118, apartado 4, del Código, para que se conceda la devolución o la condonación, las mercancías en cuestión podrán incluirse en el régimen de depósito aduanero, sin necesidad de salir del territorio aduanero de la Unión.\n",
      "                                    \n",
      "                                 Fabricación de mercancías de la Unión bajo la vigilancia aduanera de las autoridades aduaneras y sometida a controles aduaneros (a tenor del artículo 5, puntos 27 y 3, del Código) previamente a la exportación y el pago de restituciones por exportación.EjemploConservas de carnes de vacuno fabricadas bajo la vigilancia de las autoridades aduaneras y sometida a controles aduaneros antes de su exportación [artículos 2 y 3 del Reglamento (CE) n.º 1731/2006 de la Comisión, de 23 de noviembre de 2006, por el que se establecen modalidades especiales de aplicación de las restituciones por exportación para determinadas conservas de carne de vacuno ()].\n",
      "                                    \n",
      "                                 Inclusión de mercancías en una zona franca.\n",
      "                                    \n",
      "                                 Inclusión de mercancías de la Unión en un régimen de depósito distinto de un régimen de depósito aduanero cuando no se haya pagado el IVA ni, en su caso, impuestos especiales.ExplicaciónEste código se utilizará en el contexto del comercio de mercancías a que se refiere el artículo 1, apartado 3, del Código, así como al comercio de mercancías entre la Unión y los países con los que esta haya establecido una unión aduanera y cuando no se hayan abonado ni el IVA ni impuestos especiales.EjemploCigarrillos originarios de las Islas Canarias se introducen en Bélgica y se almacenan en un depósito fiscal; el pago del IVA y de impuestos especiales queda suspendido.\n",
      "                                    \n",
      "                                 Inclusión de mercancías de la Unión en un régimen de depósito distinto de un régimen de depósito aduanero cuando no se haya pagado el IVA ni, en su caso, impuestos especiales y esté suspendido el pago de los demás impuestos.ExplicaciónEste código se utilizará en el contexto del comercio de mercancías a que se refiere el artículo 1, apartado 3, del Código, así como al comercio de mercancías entre la Unión y los países con los que esta haya establecido una unión aduanera y cuando se hayan abonado el IVA o impuestos especiales y esté suspendido el pago de los demás impuestos.EjemploCigarrillos originarios de las Islas Canarias se introducen en Francia y se almacenan en un depósito fiscal; se ha pagado el IVA y está suspendido el pago de impuestos especiales.Cuando se utilice este elemento de dato para especificar un régimen de la Unión, el primer carácter del código identifica una categoría de medidas según el siguiente desglose:    Este elemento de dato se compone de códigos alfanuméricos.Cada código estará compuesto de tres elementos. El primer elemento (an..3), representado por cifras o letras o por una combinación de cifras y letras, sirve para distinguir la naturaleza del documento. El segundo elemento (an..35) representa los datos del documento, indispensables para reconocerlo, su número de identificación u otra referencia reconocible. El tercer elemento (an..5) sirve para determinar a qué artículo del documento precedente se hace referencia.Cuando se presente una declaración en aduana en papel, los tres elementos aparecerán separados entre sí por guiones (-).Elíjase la abreviatura del documento utilizado en la “lista de abreviaturas de los documentos”.(Códigos numéricos extraídos del “Repertorio NU 2014b para el intercambio electrónico de datos para la administración, el comercio y el transporte”: Lista de códigos para el elemento de dato 1001 “Nombre del documento/mensaje, codificado”).El código “CLE” incluido en la presente lista significa “fecha y referencia de la inscripción en los registros del declarante”. (Artículo 182, apartado 1, del Código). La fecha tendrá el formato siguiente: aaaammdd.Número de identificación del documento utilizado u otro reconocible.En caso de que se mencione el MRN como documento precedente, el número de referencia deberá tener la siguiente estructura:Los campos 1 y 2 se cumplimentarán tal como se ha explicado anteriormente.El campo 3 deberá cumplimentarse con un identificador para el mensaje de que se trate. La forma de utilizar este campo es competencia de las Administraciones nacionales, pero cada mensaje tratado durante un año en el país interesado deberá ir identificado por un número único en relación con el régimen de que se trate.Las Administraciones nacionales que deseen incluir en el MRN el número de referencia de la aduana competente podrán utilizar los seis primeros caracteres para representarlo.El campo 4 deberá cumplimentarse con un identificador del régimen, como se define en el cuadro que figura a continuación.El campo 5 deberá cumplimentarse con un valor que sirva de dígito de control para todo el MRN. Este campo permite detectar un error al capturar el MRN completo.Códigos que deben utilizarse en el campo 4: Identificador de régimenNúmero de artículo de las mercancías de que se trate, tal como figura en el E.D. 1/6 “Número de artículo de las mercancías en la declaración sumaria o el documento precedente”.—El artículo de la declaración en cuestión era el 5. artículo del documento de tránsito T1 (documento precedente) al que la aduana de destino ha asignado el número “238 544”. Por tanto, el código será “821-238544-5”. [“821” por el régimen de tránsito, “238544” por el número de registro del documento (o el MRN para las operaciones NSIT) y “5” por el número de artículo].—Mercancías declaradas mediante una declaración simplificada. Se ha asignado el MRN 16DE9876AB889012R1. En la declaración complementaria, el código será, por tanto, “SDE-16DE9876AB889012R1”. (“SDE” por la declaración simplificada, “16DE9876AB889012R1” por el MRN del documento).Si el documento se redacta sobre la declaración en aduana en papel (DUA), la abreviatura del documento constará de los códigos previstos para la subdivisión primera del E.D. 1/1: “Tipo de declaración (IM, CO y EU)”.Cuando, en el caso de las declaraciones de tránsito en papel, haya que introducir más de una referencia, y los Estados miembros prevean que se debe utilizar una información codificada, se utilizará el código 00200 según se define en el E.D. 2/2 “Información adicional”.La información adicional del ámbito aduanero se codifica en forma de código numérico de cinco cifras. Este código figurará tras la información adicional a menos que la legislación de la Unión disponga que se use el código en lugar del texto.Ejemplo: Cuando el declarante y el expedidor sean la misma persona, se introducirá el código 00300.La legislación de la Unión dispone que cierta información adicional se inscriba en elementos de datos distintos del E.D. 2/2 “Información adicional”. La codificación de esta información adicional sigue no obstante las mismas normas que la que ha de figurar específicamente en el E.D. 2/2 “Información adicional”.“Extensión del período de validez de la prueba del estatuto aduanero de mercancías de la Unión”a)Los documentos, certificados y autorizaciones internacionales o de la Unión presentados en apoyo de la declaración, y las referencias adicionales deberán indicarse en forma de un código definido en el título I, seguido por un número de identificación u otra referencia reconocible. La lista de documentos, certificados y autorizaciones y de referencias adicionales, así como sus códigos respectivos, figura en la base de datos TARIC.b)Los documentos, certificados y autorizaciones nacionales presentados en apoyo de la declaración, y las referencias adicionales deberán indicarse en forma de un código definido en el título I (ej.: 2123, 34D5), seguido, en su caso, de un número de identificación u otra referencia reconocible. Los cuatro caracteres que constituyen los códigos se establecen según la nomenclatura propia de cada Estado miembro.El código que deberá introducirse presenta la estructura siguiente, compuesta de dos elementos:—La letra mediante la que se identifica el tipo de depósito:RDepósito aduanero público de tipo ISDepósito aduanero público de tipo IIITDepósito aduanero público de tipo IIIUDepósito aduanero privadoVInstalaciones de almacenamiento para el depósito temporal de mercancíasYDepósito no aduaneroZZona franca—El número de identificación asignado por el Estado miembro al expedirse la autorización, en los casos en que se expida dicha autorización.En caso de agrupamiento de envíos, cuando se utilicen declaraciones en aduana en papel y los Estados miembros prevean la utilización de información codificada, será aplicable el código 00200 según se define en el E.D. 2/2 “Información adicional”.El número EORI tiene la siguiente estructura:Código de país: Se utilizará el código de país definido en el título II para el código de país del E.D. 3/1 “Exportador”.La estructura de un número de identificación único de tercer país comunicado a la Unión es el siguiente:Para indicar el estatuto del representante, insértese uno de los siguientes códigos delante del nombre y la dirección completos:2Representante (representación directa en el sentido del artículo 18, apartado 1, del Código)3Representante (representación indirecta en el sentido del artículo 18, apartado 1, del Código)Cuando este elemento de dato se imprima en papel, se insertará entre corchetes (ej.: [2] o [3])Este elemento de dato consta de dos componentes:Podrán declararse las partes siguientes:La estructura de este número se corresponde con la estructura especificada para el E.D. 3/2 “N. de identificación del exportador”.Este elemento de dato consta de dos componentes:Podrán declararse las partes siguientes:Los códigos e indicaciones que deberán figurar, en su caso, en las dos primeras subdivisiones son los siguientes:Se utilizarán los códigos siguientes:Los códigos que podrán aplicar los Estados miembros son los siguientes:APago al contado en metálicoBPago con tarjeta de créditoCPago por chequeDOtros (por ejemplo, cargo directo en la cuenta corriente de un agente de aduanas)EAplazamiento de pagoGAplazamiento de pago — sistema IVA (artículo 211 de la Directiva 2006/112/CE)HTransferencia electrónica de fondosJPago a través de la administración de correos (envíos postales) o de otros establecimientos públicos o gubernamentalesKCrédito o reembolso de impuestos especialesPDepósito en metálico a cuenta de un agente de aduanasRGarantía de la cantidad pagaderaSGarantía individualTGarantía por cuenta de un agente de aduanasUGarantía por cuenta de un agente de aduanas — autorización permanenteVGarantía por cuenta de un agente de aduanas — autorización individualOGarantía en un organismo de intervención.Adiciones (tal y como se definen en los artículos 70 y 71 del Código)ABComisiones y gastos de corretaje, salvo las comisiones de compra;ADContenedores y envasesAEMateriales, componentes, partes y elementos similares incorporados a las mercancías importadasAFHerramientas, matrices, moldes y objetos similares utilizados en la producción de las mercancías importadasAGMateriales consumidos en la producción de las mercancías importadasAHTrabajos de ingeniería, de desarrollo, artísticos y de diseño, planos y croquis, realizados fuera de la Unión y necesarios para la producción de las mercancías importadasIACánones y derechos de licenciaAJCualquier parte del producto de una posterior reventa, cesión o utilización que revierta al vendedorAKGastos de transporte, carga y manipulación y gastos de seguro hasta el punto de entrada en la Unión EuropeaALPagos indirectos y otros pagos (artículo70 del Código)ANAdiciones basadas en una decisión concedida de conformidad con el artículo 71 del Reglamento Delegado (UE) 2015/2446Deducciones (tal como se definen en el artículo 72 del Código)BAGastos de transporte después de la llegada al lugar de introducciónBBGastos de construcción, instalación, montaje, mantenimiento o asistencia técnica, realizados después de la importaciónBCDerechos de importación u otros gastos pagaderos en la Unión en concepto de importación o venta de mercancíasBDGastos en concepto de interesesBEGastos en concepto de derechos de reproducción en la Unión de las mercancías importadasBFComisiones de compraBGDeducciones basadas en una decisión concedida de conformidad con el artículo 71 del Reglamento Delegado (UE) 2015/2446El código consta de cuatro cifras, cada una de los cuales ha de ser “0” o “1”.Cada cifra “1” o “0” refleja si un indicador es o no pertinente para la valoración de las mercancías de que se trate.1 cifraVinculación entre las partes, si existe o no influencia en el precio.2 cifraRestricciones para la utilización o disposición de las mercancías por parte del comprador de conformidad con el artículo 70, apartado 3, letra a), del Código.3 cifraLa venta o el precio están sujetos a algún tipo de condición o consideración de conformidad con el artículo 70, apartado 3, letra b), del Código.4 cifraLa venta está sujeta a una disposición en virtud de la cual parte del producto de una reventa, cesión o utilización posterior repercuta directa o indirectamente en el vendedor.EjemploLas mercancías objeto de vinculación de parte, pero de ninguna de las demás situaciones definidas en las cifras 2, 3 y 4 implicarían el uso del código combinado “1000”.Las disposiciones utilizadas para determinar el valor en aduana de las mercancías importadas se codificarán como sigue:Esta información incluye códigos de tres cifras, compuestos de un elemento de una cifra según el punto 1, seguido de un elemento de dos cifras según el punto 2.A continuación figuran los códigos pertinentes:1Régimen arancelario \n",
      "                                 2Sistema de preferencias generalizadas (SPG)3Preferencias arancelarias distintas de las contempladas en el código 24Derechos de aduana en aplicación de lo dispuesto en acuerdos de unión aduanera celebrados por la Unión Europea00Ninguno de los casos siguientes10Suspensión arancelaria18Suspensión arancelaria con certificado sobre la naturaleza particular del producto19Suspensión temporal para los productos importados con un certificado de aptitud autorizado Formulario EASA 1 o un certificado equivalente20Contingente arancelario \n",
      "                                 25Contingente arancelario con certificado sobre la naturaleza especial del producto \n",
      "                                 28Contingente arancelario previo perfeccionamiento pasivo \n",
      "                                 50Certificado relativo a la naturaleza particular del productoUtilícense los códigos de país ISO alfa 2 empleados en el campo 1 del E.D. 3/1 “Exportador”.Para el tipo de ubicación, utilícense los códigos que se especifican a continuación:ALocalización designadaBLugar autorizadoCLugar aprobadoDOtrosPara la identificación de la ubicación, utilícese uno de los identificadores siguientes:En caso de que los códigos “X” (número EORI) o “Y” (número de autorización) se utilicen para la identificación del lugar y existan varios lugares asociados con el número EORI o el número de autorización de que se trate, podrá utilizarse un identificador adicional para permitir la identificación inequívoca del lugar.A continuación figuran los códigos pertinentes:0Mercancías no transportadas en contenedores1Mercancías transportadas en contenedoresSe utilizarán los códigos siguientes:Códigos de garantíaSe utilizarán los códigos siguientes:—BG Ограничена валидност—CS Omezená platnost—DA Begrænset gyldighed—DE Beschränkte Geltung—EE Piiratud kehtivus—EL Περιορισμένη ισχύς—ES Validez limitada—FR Validité limitée—HR Ograničena valjanost—IT Validità limitata—LV Ierobežots derīgums—LT Galiojimas apribotas—HU Korlátozott érvényű—MT Validità limitata—NL Beperkte geldigheid—PL Ograniczona ważność—PT Validade limitada—RO Validitate limitată—SL Omejena veljavnost—SK Obmedzená platnost—FI Voimassa rajoitetusti—SV Begränsad giltighet—EN Limited validity—BG Освободено—CS Osvobození—DA Fritaget—DE Befreiung—EE Loobutud—EL Απαλλαγή—ES Dispensa—FR Dispense—HR Oslobođeno—IT Dispensa—LV Derīgs bez zīmoga—LT Leista neplombuoti—HU Mentesség—MT Tneħħija—NL Vrijstelling—PL Zwolnienie—PT Dispensa—RO Dispensă—SL Opustitev—SK Upustenie—FI Vapautettu—SV Befrielse—EN Waiver—BG Алтернативно доказателство—CS Alternativní důkaz—DA Alternativt bevis—DE Alternativnachweis—EE Alternatiivsed tõendid—EL Εναλλακτική απόδειξη—ES Prueba alternativa—FR Preuve alternative—HR Alternativni dokaz—IT Prova alternativa—LV Alternatīvs pierādījums—LT Alternatyvusis įrodymas—HU Alternatív igazolás—MT Prova alternattiva—NL Alternatief bewijs—PL Alternatywny dowód—PT Prova alternativa—RO Probă alternativă—SL Alternativno dokazilo—SK Alternatívny dôkaz—FI Vaihtoehtoinen todiste—SV Alternativt bevis—EN Alternative proof—BG Различия: митническо учреждение, където са представени стоките …… (наименование и държава)—CS Nesrovnalosti: úřad, kterému bylo zboží předloženo …… (název a země)—DA Forskelle: det sted, hvor varerne blev frembudt…… (navn og land)—De Unstimmigkeiten: Stelle, bei der die Gestellung erfolgte …… (Name und Land)—EE Erinevused: asutus, kuhu kaup esitati ……. (nimi ja riik)—EL Διαφορές: εμπορεύματα προσκομισθέντα στο τελωνείο …… (Όνομα και χώρα)—ES Diferencias: mercancías presentadas en la oficina de…… (nombre y país)—FR Différences: marchandises présentées au bureau…… (nom et pays) …… (nom et pays)—HR Razlike: carinarnica kojoj je roba podnesena … (naziv i zemlja)—IT Differenze: ufficio al quale sono state presentate le merci …… (nome e paese)—LV Atšķirības: muitas iestāde, kurā preces tika uzrādītas …… (nosaukums un valsts)—LT Skirtumai: įstaiga, kuriai pateiktos prekės …… (pavadinimas ir valstybė)—HU Eltérések: hivatal, ahol az áruk bemutatása megtörtént … (név és ország)—MT Differenzi: uffiċċju fejn l-oġġetti kienu ppreżentati …… (isem u pajjiż)—NL Verschillen: kantoor waar de goederen zijn aange- bracht …… (naam en land)—PL Niezgodności: urząd, w którym przedstawiono towar …… (nazwa i kraj)—PT Diferenças: mercadorias apresentadas na estãncia …… (nome e país)—RO Diferențe: mărfuri prezentate la biroul vamal …… (nume și țara)—SL Razlike: urad, pri katerem je bilo blago predloženo …… (naziv in država)—SK Rozdiely: úrad, ktorému bol tovar predložený …… (názov a krajina).—FI Muutos: toimipaikka, jossa tavarat esitetty …… (nimi ja maa)—SV Avvikelse: tullkontor där varorna anmäldes …… (namn och land)—EN Differences: office where goods were presented …… (name and country)—BG Извеждането от ……… подлежи на ограничения или такси съгласно Регламент/Директива/Решение № …,—CS Výstup ze …………… podléhá omezením nebo dávkám podle nařízení /směrnice/ rozhodnutí č …—DA Udpassage fra …………… undergivet restriktioner eller afgifter i henhold til forordning/direktiv/ afgørelse nr. …—DE Ausgang aus ……………- gemäß Verordnung/Richtlinie/ Beschluss Nr. … Beschränkungen oder Abgaben unterworfen.—EE … territooriumilt väljumise suhtes kohaldatakse piir- anguid ja makse vastavalt määrusele/direktiivile/otsusele nr…—EL Η έξοδος από …… υποβάλλεται σε περιορισμούς ή σε επιβαρύνσεις από τον κανονισμό/την οδηγία/την απόφαση αριθ. …—ES Salida de …… sometida a restricciones o imposiciones en virtud del (de la) Reglamento/Directiva/ Decisión n.º …—FR Sortie de…… soumise à des restrictions ou à des impositions par le Règlement ou la directive/ décision no …—HR Izlaz iz … podliježe ograničenjima ili pristojbama na temelju Uredbe/ Direktive/Odluke br. …—IT Uscita dalla ……………soggetta a restrizioni o ad imposizioni a norma del(la) regolamento/direttiva/ decisione n.º …—LV Izvešana no …………… piemērojot ierobežojumus vai maksājumus saskaņā ar Regulu/Direktīvu/Lēmumu Nr. …,—LT Išvežimui iš …………… taikomi apribojimai arba mokesčiai, nustatyti Reglamentu/ Direktyva/Sprendimu Nr.…,—HU A kilépés …………… területéről a … rendelet/ir¬ ányelv /határozat szerinti korlátozás vagy teher megfize- ésénekkötelezettsége alá esik—MT Ħruġ mill- …………… suġġett għall- restrizzjonijiet jew ħlasijiet taħt Regola/ Direttiva/Deċiżjoni Nru …—NL Bij uitgang uit de ………………zijn de beperkingen of heffingen van Verordening/ Richtlijn/Besluit nr. … van toepassing.—PL Wyprowadzenie z …………… podlega ograniczeniom lub opłatom zgodnie z rozporządzeniem/dyrektywą/decyzją nr …—PT Saída da …………… sujeita a restrições ou a imposições pelo(a) Regulamento/ Directiva/Decisão n.ºo…—RO Ieșire din ……………supusă restricțiilor sau impo- zitelor prin Regulamentul/ Directiva/Decizia nr …—SL Iznos iz …………… zavezan omejitvam ali obveznim dajatvam na podlagi Uredbe/Direktive/ Odločbe št. …—SK Výstup z ……………podlieha obmedzeniam alebo platbám podľa nariadenia/ smernice/rozhodnutia č ….—FI …………… vientiin sovelletaan asetuksen/direktii¬ vin/ päätöksen N:o … mukaisia rajoituksia tai maksuja—SV Utförsel från …………… underkastad restriktioner eller avgifter i enlighet med förordning/direktiv/beslut nr …—EN Exit from …………… subject to restrictions or charges under Regulation /Directive/Decision No …—BG Одобрен изпращач—CS Schválený odesílatel—DA Godkendt afsender—DE Zugelassener Versender—EE Volitatud kaubasaatja—EL Εγκεκριμένος αποστολέας—ES Expedidor autorizado—FR Expéditeur agréé—HR Ovlašteni pošiljatelj—IT Speditore autorizzato—LV Atzītais nosūtītājs—LT Įgaliotasis siuntėjas—HU Engedélyezett feladó—MT Awtorizzat li jibgħat—NL Toegelaten afzender—PL Upoważniony nadawca—PT Expedidor autorizado—RO Expeditor agreat—SL Pooblaščeni pošiljatelj—SK Schválený odosielateľ—FI Valtuutettu lähettäjä—SV Godkänd avsändare—EN Authorised consignor—BG Освободен от подпис—CS Podpis se nevyžaduje—DA Fritaget for underskrift—DE Freistellung von der Unterschriftsleistung—EE Allkirjanõudest loobutud—EL Δεν απαιτείται υπογραφή—ES Dispensa de firma—FR Dispense de signature—HR Oslobođeno potpisa—IT Dispensa dalla firma—LV Derīgs bez paraksta—LT Leista nepasirašyti—HU Aláírás alól mentesítve—MT Firma mhux meħtieġa—NL Van ondertekening vrijgesteld—PL Zwolniony ze składania podpisu—PT Dispensada a assinatura—RO Dispensă de semnătură—SL Opustitev podpisa—SK Upustenie od podpisu—FI Vapautettu allekirjoituksesta—SV Befrielse från underskrift—EN Signature waived—BG ЗАБРАНЕНО ОБЩО ОБЕЗПЕЧЕНИЕ—CS ZÁKAZ SOUBORNÉ JISTOTY—DA FORBUD MOD SAMLET SIKKERHEDSSTILLELSE—DE GESAMTBÜRGSCHAFT UNTERSAGT—EE ÜLDTAGATISE KASUTAMINE KEELATUD—EL ΑΠΑΓΟΡΕΥΕΤΑΙ Η ΣΥΝΟΛΙΚΗ ΕΓΓΥΗΣΗ—ES GARANTÍA GLOBAL PROHIBIDA—FR GARANTIE GLOBALE INTERDITE—HR ZABRANJENO ZAJEDNIČKO JAMSTVO—IT GARANZIA GLOBALE VIETATA—LV VISPĀRĒJS GALVOJUMS AIZLIEGTS—LT NAUDOTI BENDRĄJĄ GARANTIJĄ UŽDRAUSTA—HU ÖSSZKEZESSÉG TILOS—MT MHUX PERMESSA GARANZIJA KOMPRENSIVA—NL DOORLOPENDE ZEKERHEID VERBODEN—PL ZAKAZ KORZYSTANIA Z ZABEZPIECZENIA GENERALNEGO—PT GARANTIA GLOBAL PROIBIDA—RO GARANȚIA GLOBALĂ INTERZISĂ—SL PREPOVEDANO SKUPNO ZAVAROVANJE—SK ZÁKAZ CELKOVEJ ZÁRUKY—FI YLEISVAKUUDEN KÄYTTÖ KIELLETTY—SV SAMLAD SÄKERHET FÖRBJUDEN—EN COMPREHENSIVE GUARANTEE PROHIBITED—BG ИЗПОЛЗВАНЕ БЕЗ ОГРАНИЧЕНИЯ—CS NEOMEZENÉ POUŽITÍ—DA UBEGRÆNSET ANVENDELSE—DE UNBESCHRÄNKTE VERWENDUNG—EE PIIRAMATU KASUTAMINE—ΕL ΑΠΕΡΙΟΡΙΣΤΗ ΧΡΗΣΗ—ES UTILIZACIÓN NO LIMITADA—FR UTILISATION NON LIMITÉE—HR NEOGRANIČENA UPORABA—IT UTILIZZAZIONE NON LIMITATA—LV NEIEROBEŽOTS IZMANTOJUMS—LT NEAPRIBOTAS NAUDOJIMAS—HU KORLÁTOZÁS ALÁ NEM ESŐ HASZNÁLAT—MT UŻU MHUX RISTRETT—NL GEBRUIK ONBEPERKT—PL NIEOGRANICZONE KORZYSTANIE—PT UTILIZAÇÃO ILIMITADA—RO UTILIZARE NELIMITATĂ—SL NEOMEJENA UPORABA—SK NEOBMEDZENÉ POUŽITIE—FI KÄYTTÖÄ EI RAJOITETTU—SV OBEGRÄNSAD ANVÄNDNING—EN UNRESTRICTED USE—BG Разни—CS Různí—DA Diverse—DE Verschiedene—EE Erinevad—EL Διάφορα—ES Varios—FR Divers—HR Razni—IT Vari—LV Dažādi—LT Įvairūs—HU Többféle—MT Diversi—NL Diverse—PL Różne—PT Diversos—RO Diverși—SL Razno—SK Rôzne—FI Useita—SV Flera—EN Various—BG Насипно—CS Volně loženo—DA Bulk—DE Lose—EE Pakendamata—EL Χύμα—ES A granel—FR Vrac—HR Rasuto—IT Alla rinfusa—LV Berams(lejams)—LT Nesupakuota—HU Ömlesztett—MT Bil-kwantità—NL Los gestort—PL Luzem—PT A granel—RO Vrac—SL Razsuto—SK Voľne ložené—FI Irtotavaraa—SV Bulk—EN Bulk—BG Изпращач—CS Odesílatel—DA Afsender—DE Versender—EE Saatja—EL Αποστολέας—ES Expedidor—FR Expéditeur—HR Pošiljatelj—IT Speditore—LV Nosūtītājs—LT Siuntėjas—HU Feladó—MT Min jikkonsenja—NL Afzender—PL Nadawca—PT Expedidor—RO Expeditor—SL Pošiljatelj—SK Odosielateľ—FI Lähettäjä—SV Avsändare—EN Consignor»                                                                               \n"
     ]
    }
   ],
   "source": [
    "row = 0\n",
    "for link in DOUE_sumarios['Item_Link']:\n",
    "    sumario_Text = []\n",
    "    ### Recoge PDF link en Items Legislación\n",
    "\n",
    "    response = requests.get(link)\n",
    "    sumario_HTML = html.fromstring(response.text)\n",
    "\n",
    "    PDF_Link = sumario_HTML.xpath('//*[@id=\"format_language_table_PDF_ES\"]/@href')\n",
    "    DOUE_sumarios['PDF_Link'][row] = 'https://eur-lex.europa.eu' + PDF_Link[0][10:]\n",
    "\n",
    "    Item_Doc_Name = sumario_HTML.xpath('//*[@class=\"DocumentTitle pull-left\"]/text()')[0][9:]\n",
    "    DOUE_sumarios['Item_Doc_Name'][row] = Item_Doc_Name\n",
    "\n",
    "    #Item_Fecha = str(sumario_HTML.xpath('//*[@class=\"oj-hd-date\"]/text()'))\n",
    "    #Item_Fecha = datetime.strptime(str(raiz.xpath('//*[@class=\"oj-hd-date\"]/text()'))[0:-2],\"%d.%m.%Y\")\n",
    "    Item_Fecha = re.findall('[0-9]+\\.[0-9]+\\.[0-9]+', str(sumario_HTML.xpath('//*[@class=\"oj-hd-date\"]/text()')))\n",
    "    DOUE_sumarios['Fecha_publicacion'][row] = datetime.strptime(str(Item_Fecha)[2:-2],\"%d.%m.%Y\").date()\n",
    "\n",
    "    ### Recoge Texto de Items\n",
    "    \n",
    "    Item_Text = sumario_HTML.xpath('//*[@class=\"oj-normal\"]/text()')\n",
    "    \n",
    "    #[ sumario_Text.append(re.sub('(\\\\r||\\\\n\\\\t|\\\\xa0)+', '', item)) for item in Item_Text ]\n",
    "    [ sumario_Text.append(item) for item in Item_Text ]\n",
    "   \n",
    "    ### Sustituye caracteres 'n.' por 'n.º' ya que al importar de HTML se pierde el caracter º\n",
    "\n",
    "    sumario = \"\".join(sumario_Text).replace(' n.',' n.º')\n",
    "    print(sumario)\n",
    "    ### Busca tags en texto\n",
    "\n",
    "    DOUE_sumarios['Tags'][row] = list(set(re.findall('|'.join(pattern), sumario, flags=re.IGNORECASE)))\n",
    "\n",
    "    ### Salva texto de Items en formato TXT\n",
    "\n",
    "    save_txt(sumario, './DOUEs/Resumen-DOUE-' + Item_Doc_Name + '.txt')\n",
    "    #print(sumario)\n",
    "    #print('./DOUEs/Resumen-DOUE-' + Item_Doc_Name + '.txt')\n",
    "    #print(Item_Doc_Name)\n",
    "\n",
    "    #print(list(set(re.findall('|'.join(pattern), sumario, flags=re.IGNORECASE))))\n",
    "\n",
    "    row += 1\n"
   ]
  },
  {
   "cell_type": "code",
   "execution_count": 201,
   "metadata": {},
   "outputs": [
    {
     "output_type": "stream",
     "name": "stdout",
     "text": [
      "['Reglamento (UE) 2019/1021']\n[]\n['Reglamento (UE) 2017/625', 'Reglamento (UE) 2018/848']\n['Reglamento (UE) 2017/1485', 'Reglamento (UE) 2019/943', 'Reglamento (UE) 2016/1719', 'Reglamento (UE) 2017/2195', 'Reglamento (UE) 2019/942', 'Reglamento (UE) 2015/1222']\n['Reglamento (UE) 2017/1939']\n[]\n[]\n[]\n[]\n[]\n['Decisión de Ejecución (UE) 2019/2151']\n['Decisión de Ejecución (UE) 2019/2151']\n"
     ]
    }
   ],
   "source": [
    "# Elimina Tags duplicados\n",
    "for i, row in DOUE_sumarios.iterrows():\n",
    "    DOUE_sumarios['Tags'][i] = list(set(DOUE_sumarios['Tags'][i]))\n",
    "    print(DOUE_sumarios['Tags'][i])"
   ]
  },
  {
   "cell_type": "code",
   "execution_count": 202,
   "metadata": {},
   "outputs": [
    {
     "output_type": "execute_result",
     "data": {
      "text/plain": [
       "   Fecha_publicacion Item_Doc_Name  \\\n",
       "0         2021-02-23    32021R0277   \n",
       "1         2021-02-23    32021R0278   \n",
       "2         2021-02-23    32021R0279   \n",
       "3         2021-02-23    32021R0280   \n",
       "4         2021-02-23    32021D0281   \n",
       "5         2021-02-23    32021D0282   \n",
       "6         2021-02-23    32021D0283   \n",
       "7         2021-02-23    32021D0284   \n",
       "8         2021-02-23    32021D0285   \n",
       "9         2021-02-23    32021D0286   \n",
       "10        2021-02-23    32021R0234   \n",
       "11        2021-02-23    32021R0235   \n",
       "\n",
       "                                            Item_Link  \\\n",
       "0   https://eur-lex.europa.eu/legal-content/ES/AUT...   \n",
       "1   https://eur-lex.europa.eu/legal-content/ES/AUT...   \n",
       "2   https://eur-lex.europa.eu/legal-content/ES/AUT...   \n",
       "3   https://eur-lex.europa.eu/legal-content/ES/AUT...   \n",
       "4   https://eur-lex.europa.eu/legal-content/ES/AUT...   \n",
       "5   https://eur-lex.europa.eu/legal-content/ES/AUT...   \n",
       "6   https://eur-lex.europa.eu/legal-content/ES/AUT...   \n",
       "7   https://eur-lex.europa.eu/legal-content/ES/AUT...   \n",
       "8   https://eur-lex.europa.eu/legal-content/ES/AUT...   \n",
       "9   https://eur-lex.europa.eu/legal-content/ES/AUT...   \n",
       "10  https://eur-lex.europa.eu/legal-content/ES/AUT...   \n",
       "11  https://eur-lex.europa.eu/legal-content/ES/AUT...   \n",
       "\n",
       "                                           Item_Title Match_ASECORP_BBDD  \\\n",
       "0   Reglamento Delegado (UE) 2021/277 de la Comisi...                      \n",
       "1   Reglamento de Ejecución (UE) 2021/278 de la Co...                      \n",
       "2   Reglamento de Ejecución (UE) 2021/279 de la Co...                      \n",
       "3   Reglamento de Ejecución (UE) 2021/280 de la Co...                      \n",
       "4   Decisión (Euratom) 2021/281 del Consejo, de 22...                      \n",
       "5   Decisión (PESC) 2021/282 del Consejo, de 22 de...                      \n",
       "6   Decisión (PESC) 2021/283 del Consejo, de 22 de...                      \n",
       "7   Decisión (PESC) 2021/284 del Consejo, de 22 de...                      \n",
       "8   Decisión (PESC) 2021/285 del Consejo, de 22 de...                      \n",
       "9   Decisión (PESC) 2021/286 del Consejo, de 22 de...                      \n",
       "10  Reglamento Delegado (UE) 2021/234 de la Comisi...                      \n",
       "11  Reglamento de Ejecución (UE) 2021/235 de la Co...                      \n",
       "\n",
       "                                             PDF_Link Seccion  \\\n",
       "0   https://eur-lex.europa.eu/legal-content/ES/TXT...    L062   \n",
       "1   https://eur-lex.europa.eu/legal-content/ES/TXT...    L062   \n",
       "2   https://eur-lex.europa.eu/legal-content/ES/TXT...    L062   \n",
       "3   https://eur-lex.europa.eu/legal-content/ES/TXT...    L062   \n",
       "4   https://eur-lex.europa.eu/legal-content/ES/TXT...    L062   \n",
       "5   https://eur-lex.europa.eu/legal-content/ES/TXT...    L062   \n",
       "6   https://eur-lex.europa.eu/legal-content/ES/TXT...    L062   \n",
       "7   https://eur-lex.europa.eu/legal-content/ES/TXT...    L062   \n",
       "8   https://eur-lex.europa.eu/legal-content/ES/TXT...    L062   \n",
       "9   https://eur-lex.europa.eu/legal-content/ES/TXT...    L062   \n",
       "10  https://eur-lex.europa.eu/legal-content/ES/TXT...    L063   \n",
       "11  https://eur-lex.europa.eu/legal-content/ES/TXT...    L063   \n",
       "\n",
       "                                                 Tags  \n",
       "0                         [Reglamento (UE) 2019/1021]  \n",
       "1                                                  []  \n",
       "2   [Reglamento (UE) 2017/625, Reglamento (UE) 201...  \n",
       "3   [Reglamento (UE) 2017/1485, Reglamento (UE) 20...  \n",
       "4                         [Reglamento (UE) 2017/1939]  \n",
       "5                                                  []  \n",
       "6                                                  []  \n",
       "7                                                  []  \n",
       "8                                                  []  \n",
       "9                                                  []  \n",
       "10             [Decisión de Ejecución (UE) 2019/2151]  \n",
       "11             [Decisión de Ejecución (UE) 2019/2151]  "
      ],
      "text/html": "<div>\n<style scoped>\n    .dataframe tbody tr th:only-of-type {\n        vertical-align: middle;\n    }\n\n    .dataframe tbody tr th {\n        vertical-align: top;\n    }\n\n    .dataframe thead th {\n        text-align: right;\n    }\n</style>\n<table border=\"1\" class=\"dataframe\">\n  <thead>\n    <tr style=\"text-align: right;\">\n      <th></th>\n      <th>Fecha_publicacion</th>\n      <th>Item_Doc_Name</th>\n      <th>Item_Link</th>\n      <th>Item_Title</th>\n      <th>Match_ASECORP_BBDD</th>\n      <th>PDF_Link</th>\n      <th>Seccion</th>\n      <th>Tags</th>\n    </tr>\n  </thead>\n  <tbody>\n    <tr>\n      <th>0</th>\n      <td>2021-02-23</td>\n      <td>32021R0277</td>\n      <td>https://eur-lex.europa.eu/legal-content/ES/AUT...</td>\n      <td>Reglamento Delegado (UE) 2021/277 de la Comisi...</td>\n      <td></td>\n      <td>https://eur-lex.europa.eu/legal-content/ES/TXT...</td>\n      <td>L062</td>\n      <td>[Reglamento (UE) 2019/1021]</td>\n    </tr>\n    <tr>\n      <th>1</th>\n      <td>2021-02-23</td>\n      <td>32021R0278</td>\n      <td>https://eur-lex.europa.eu/legal-content/ES/AUT...</td>\n      <td>Reglamento de Ejecución (UE) 2021/278 de la Co...</td>\n      <td></td>\n      <td>https://eur-lex.europa.eu/legal-content/ES/TXT...</td>\n      <td>L062</td>\n      <td>[]</td>\n    </tr>\n    <tr>\n      <th>2</th>\n      <td>2021-02-23</td>\n      <td>32021R0279</td>\n      <td>https://eur-lex.europa.eu/legal-content/ES/AUT...</td>\n      <td>Reglamento de Ejecución (UE) 2021/279 de la Co...</td>\n      <td></td>\n      <td>https://eur-lex.europa.eu/legal-content/ES/TXT...</td>\n      <td>L062</td>\n      <td>[Reglamento (UE) 2017/625, Reglamento (UE) 201...</td>\n    </tr>\n    <tr>\n      <th>3</th>\n      <td>2021-02-23</td>\n      <td>32021R0280</td>\n      <td>https://eur-lex.europa.eu/legal-content/ES/AUT...</td>\n      <td>Reglamento de Ejecución (UE) 2021/280 de la Co...</td>\n      <td></td>\n      <td>https://eur-lex.europa.eu/legal-content/ES/TXT...</td>\n      <td>L062</td>\n      <td>[Reglamento (UE) 2017/1485, Reglamento (UE) 20...</td>\n    </tr>\n    <tr>\n      <th>4</th>\n      <td>2021-02-23</td>\n      <td>32021D0281</td>\n      <td>https://eur-lex.europa.eu/legal-content/ES/AUT...</td>\n      <td>Decisión (Euratom) 2021/281 del Consejo, de 22...</td>\n      <td></td>\n      <td>https://eur-lex.europa.eu/legal-content/ES/TXT...</td>\n      <td>L062</td>\n      <td>[Reglamento (UE) 2017/1939]</td>\n    </tr>\n    <tr>\n      <th>5</th>\n      <td>2021-02-23</td>\n      <td>32021D0282</td>\n      <td>https://eur-lex.europa.eu/legal-content/ES/AUT...</td>\n      <td>Decisión (PESC) 2021/282 del Consejo, de 22 de...</td>\n      <td></td>\n      <td>https://eur-lex.europa.eu/legal-content/ES/TXT...</td>\n      <td>L062</td>\n      <td>[]</td>\n    </tr>\n    <tr>\n      <th>6</th>\n      <td>2021-02-23</td>\n      <td>32021D0283</td>\n      <td>https://eur-lex.europa.eu/legal-content/ES/AUT...</td>\n      <td>Decisión (PESC) 2021/283 del Consejo, de 22 de...</td>\n      <td></td>\n      <td>https://eur-lex.europa.eu/legal-content/ES/TXT...</td>\n      <td>L062</td>\n      <td>[]</td>\n    </tr>\n    <tr>\n      <th>7</th>\n      <td>2021-02-23</td>\n      <td>32021D0284</td>\n      <td>https://eur-lex.europa.eu/legal-content/ES/AUT...</td>\n      <td>Decisión (PESC) 2021/284 del Consejo, de 22 de...</td>\n      <td></td>\n      <td>https://eur-lex.europa.eu/legal-content/ES/TXT...</td>\n      <td>L062</td>\n      <td>[]</td>\n    </tr>\n    <tr>\n      <th>8</th>\n      <td>2021-02-23</td>\n      <td>32021D0285</td>\n      <td>https://eur-lex.europa.eu/legal-content/ES/AUT...</td>\n      <td>Decisión (PESC) 2021/285 del Consejo, de 22 de...</td>\n      <td></td>\n      <td>https://eur-lex.europa.eu/legal-content/ES/TXT...</td>\n      <td>L062</td>\n      <td>[]</td>\n    </tr>\n    <tr>\n      <th>9</th>\n      <td>2021-02-23</td>\n      <td>32021D0286</td>\n      <td>https://eur-lex.europa.eu/legal-content/ES/AUT...</td>\n      <td>Decisión (PESC) 2021/286 del Consejo, de 22 de...</td>\n      <td></td>\n      <td>https://eur-lex.europa.eu/legal-content/ES/TXT...</td>\n      <td>L062</td>\n      <td>[]</td>\n    </tr>\n    <tr>\n      <th>10</th>\n      <td>2021-02-23</td>\n      <td>32021R0234</td>\n      <td>https://eur-lex.europa.eu/legal-content/ES/AUT...</td>\n      <td>Reglamento Delegado (UE) 2021/234 de la Comisi...</td>\n      <td></td>\n      <td>https://eur-lex.europa.eu/legal-content/ES/TXT...</td>\n      <td>L063</td>\n      <td>[Decisión de Ejecución (UE) 2019/2151]</td>\n    </tr>\n    <tr>\n      <th>11</th>\n      <td>2021-02-23</td>\n      <td>32021R0235</td>\n      <td>https://eur-lex.europa.eu/legal-content/ES/AUT...</td>\n      <td>Reglamento de Ejecución (UE) 2021/235 de la Co...</td>\n      <td></td>\n      <td>https://eur-lex.europa.eu/legal-content/ES/TXT...</td>\n      <td>L063</td>\n      <td>[Decisión de Ejecución (UE) 2019/2151]</td>\n    </tr>\n  </tbody>\n</table>\n</div>"
     },
     "metadata": {},
     "execution_count": 202
    }
   ],
   "source": [
    "DOUE_sumarios"
   ]
  },
  {
   "cell_type": "code",
   "execution_count": 203,
   "metadata": {},
   "outputs": [
    {
     "output_type": "execute_result",
     "data": {
      "text/plain": [
       "   Seccion Item_Doc_Name Fecha_publicacion  \\\n",
       "0     L062    32021R0277        2021-02-23   \n",
       "1     L062    32021R0278        2021-02-23   \n",
       "2     L062    32021R0279        2021-02-23   \n",
       "3     L062    32021R0280        2021-02-23   \n",
       "4     L062    32021D0281        2021-02-23   \n",
       "5     L062    32021D0282        2021-02-23   \n",
       "6     L062    32021D0283        2021-02-23   \n",
       "7     L062    32021D0284        2021-02-23   \n",
       "8     L062    32021D0285        2021-02-23   \n",
       "9     L062    32021D0286        2021-02-23   \n",
       "10    L063    32021R0234        2021-02-23   \n",
       "11    L063    32021R0235        2021-02-23   \n",
       "\n",
       "                                             PDF_Link  \\\n",
       "0   https://eur-lex.europa.eu/legal-content/ES/TXT...   \n",
       "1   https://eur-lex.europa.eu/legal-content/ES/TXT...   \n",
       "2   https://eur-lex.europa.eu/legal-content/ES/TXT...   \n",
       "3   https://eur-lex.europa.eu/legal-content/ES/TXT...   \n",
       "4   https://eur-lex.europa.eu/legal-content/ES/TXT...   \n",
       "5   https://eur-lex.europa.eu/legal-content/ES/TXT...   \n",
       "6   https://eur-lex.europa.eu/legal-content/ES/TXT...   \n",
       "7   https://eur-lex.europa.eu/legal-content/ES/TXT...   \n",
       "8   https://eur-lex.europa.eu/legal-content/ES/TXT...   \n",
       "9   https://eur-lex.europa.eu/legal-content/ES/TXT...   \n",
       "10  https://eur-lex.europa.eu/legal-content/ES/TXT...   \n",
       "11  https://eur-lex.europa.eu/legal-content/ES/TXT...   \n",
       "\n",
       "                                           Item_Title  \\\n",
       "0   Reglamento Delegado (UE) 2021/277 de la Comisi...   \n",
       "1   Reglamento de Ejecución (UE) 2021/278 de la Co...   \n",
       "2   Reglamento de Ejecución (UE) 2021/279 de la Co...   \n",
       "3   Reglamento de Ejecución (UE) 2021/280 de la Co...   \n",
       "4   Decisión (Euratom) 2021/281 del Consejo, de 22...   \n",
       "5   Decisión (PESC) 2021/282 del Consejo, de 22 de...   \n",
       "6   Decisión (PESC) 2021/283 del Consejo, de 22 de...   \n",
       "7   Decisión (PESC) 2021/284 del Consejo, de 22 de...   \n",
       "8   Decisión (PESC) 2021/285 del Consejo, de 22 de...   \n",
       "9   Decisión (PESC) 2021/286 del Consejo, de 22 de...   \n",
       "10  Reglamento Delegado (UE) 2021/234 de la Comisi...   \n",
       "11  Reglamento de Ejecución (UE) 2021/235 de la Co...   \n",
       "\n",
       "                                            Item_Link  \\\n",
       "0   https://eur-lex.europa.eu/legal-content/ES/AUT...   \n",
       "1   https://eur-lex.europa.eu/legal-content/ES/AUT...   \n",
       "2   https://eur-lex.europa.eu/legal-content/ES/AUT...   \n",
       "3   https://eur-lex.europa.eu/legal-content/ES/AUT...   \n",
       "4   https://eur-lex.europa.eu/legal-content/ES/AUT...   \n",
       "5   https://eur-lex.europa.eu/legal-content/ES/AUT...   \n",
       "6   https://eur-lex.europa.eu/legal-content/ES/AUT...   \n",
       "7   https://eur-lex.europa.eu/legal-content/ES/AUT...   \n",
       "8   https://eur-lex.europa.eu/legal-content/ES/AUT...   \n",
       "9   https://eur-lex.europa.eu/legal-content/ES/AUT...   \n",
       "10  https://eur-lex.europa.eu/legal-content/ES/AUT...   \n",
       "11  https://eur-lex.europa.eu/legal-content/ES/AUT...   \n",
       "\n",
       "                                                 Tags Match_ASECORP_BBDD  \n",
       "0                         [Reglamento (UE) 2019/1021]                     \n",
       "1                                                  []                     \n",
       "2   [Reglamento (UE) 2017/625, Reglamento (UE) 201...                     \n",
       "3   [Reglamento (UE) 2017/1485, Reglamento (UE) 20...                     \n",
       "4                         [Reglamento (UE) 2017/1939]                     \n",
       "5                                                  []                     \n",
       "6                                                  []                     \n",
       "7                                                  []                     \n",
       "8                                                  []                     \n",
       "9                                                  []                     \n",
       "10             [Decisión de Ejecución (UE) 2019/2151]                     \n",
       "11             [Decisión de Ejecución (UE) 2019/2151]                     "
      ],
      "text/html": "<div>\n<style scoped>\n    .dataframe tbody tr th:only-of-type {\n        vertical-align: middle;\n    }\n\n    .dataframe tbody tr th {\n        vertical-align: top;\n    }\n\n    .dataframe thead th {\n        text-align: right;\n    }\n</style>\n<table border=\"1\" class=\"dataframe\">\n  <thead>\n    <tr style=\"text-align: right;\">\n      <th></th>\n      <th>Seccion</th>\n      <th>Item_Doc_Name</th>\n      <th>Fecha_publicacion</th>\n      <th>PDF_Link</th>\n      <th>Item_Title</th>\n      <th>Item_Link</th>\n      <th>Tags</th>\n      <th>Match_ASECORP_BBDD</th>\n    </tr>\n  </thead>\n  <tbody>\n    <tr>\n      <th>0</th>\n      <td>L062</td>\n      <td>32021R0277</td>\n      <td>2021-02-23</td>\n      <td>https://eur-lex.europa.eu/legal-content/ES/TXT...</td>\n      <td>Reglamento Delegado (UE) 2021/277 de la Comisi...</td>\n      <td>https://eur-lex.europa.eu/legal-content/ES/AUT...</td>\n      <td>[Reglamento (UE) 2019/1021]</td>\n      <td></td>\n    </tr>\n    <tr>\n      <th>1</th>\n      <td>L062</td>\n      <td>32021R0278</td>\n      <td>2021-02-23</td>\n      <td>https://eur-lex.europa.eu/legal-content/ES/TXT...</td>\n      <td>Reglamento de Ejecución (UE) 2021/278 de la Co...</td>\n      <td>https://eur-lex.europa.eu/legal-content/ES/AUT...</td>\n      <td>[]</td>\n      <td></td>\n    </tr>\n    <tr>\n      <th>2</th>\n      <td>L062</td>\n      <td>32021R0279</td>\n      <td>2021-02-23</td>\n      <td>https://eur-lex.europa.eu/legal-content/ES/TXT...</td>\n      <td>Reglamento de Ejecución (UE) 2021/279 de la Co...</td>\n      <td>https://eur-lex.europa.eu/legal-content/ES/AUT...</td>\n      <td>[Reglamento (UE) 2017/625, Reglamento (UE) 201...</td>\n      <td></td>\n    </tr>\n    <tr>\n      <th>3</th>\n      <td>L062</td>\n      <td>32021R0280</td>\n      <td>2021-02-23</td>\n      <td>https://eur-lex.europa.eu/legal-content/ES/TXT...</td>\n      <td>Reglamento de Ejecución (UE) 2021/280 de la Co...</td>\n      <td>https://eur-lex.europa.eu/legal-content/ES/AUT...</td>\n      <td>[Reglamento (UE) 2017/1485, Reglamento (UE) 20...</td>\n      <td></td>\n    </tr>\n    <tr>\n      <th>4</th>\n      <td>L062</td>\n      <td>32021D0281</td>\n      <td>2021-02-23</td>\n      <td>https://eur-lex.europa.eu/legal-content/ES/TXT...</td>\n      <td>Decisión (Euratom) 2021/281 del Consejo, de 22...</td>\n      <td>https://eur-lex.europa.eu/legal-content/ES/AUT...</td>\n      <td>[Reglamento (UE) 2017/1939]</td>\n      <td></td>\n    </tr>\n    <tr>\n      <th>5</th>\n      <td>L062</td>\n      <td>32021D0282</td>\n      <td>2021-02-23</td>\n      <td>https://eur-lex.europa.eu/legal-content/ES/TXT...</td>\n      <td>Decisión (PESC) 2021/282 del Consejo, de 22 de...</td>\n      <td>https://eur-lex.europa.eu/legal-content/ES/AUT...</td>\n      <td>[]</td>\n      <td></td>\n    </tr>\n    <tr>\n      <th>6</th>\n      <td>L062</td>\n      <td>32021D0283</td>\n      <td>2021-02-23</td>\n      <td>https://eur-lex.europa.eu/legal-content/ES/TXT...</td>\n      <td>Decisión (PESC) 2021/283 del Consejo, de 22 de...</td>\n      <td>https://eur-lex.europa.eu/legal-content/ES/AUT...</td>\n      <td>[]</td>\n      <td></td>\n    </tr>\n    <tr>\n      <th>7</th>\n      <td>L062</td>\n      <td>32021D0284</td>\n      <td>2021-02-23</td>\n      <td>https://eur-lex.europa.eu/legal-content/ES/TXT...</td>\n      <td>Decisión (PESC) 2021/284 del Consejo, de 22 de...</td>\n      <td>https://eur-lex.europa.eu/legal-content/ES/AUT...</td>\n      <td>[]</td>\n      <td></td>\n    </tr>\n    <tr>\n      <th>8</th>\n      <td>L062</td>\n      <td>32021D0285</td>\n      <td>2021-02-23</td>\n      <td>https://eur-lex.europa.eu/legal-content/ES/TXT...</td>\n      <td>Decisión (PESC) 2021/285 del Consejo, de 22 de...</td>\n      <td>https://eur-lex.europa.eu/legal-content/ES/AUT...</td>\n      <td>[]</td>\n      <td></td>\n    </tr>\n    <tr>\n      <th>9</th>\n      <td>L062</td>\n      <td>32021D0286</td>\n      <td>2021-02-23</td>\n      <td>https://eur-lex.europa.eu/legal-content/ES/TXT...</td>\n      <td>Decisión (PESC) 2021/286 del Consejo, de 22 de...</td>\n      <td>https://eur-lex.europa.eu/legal-content/ES/AUT...</td>\n      <td>[]</td>\n      <td></td>\n    </tr>\n    <tr>\n      <th>10</th>\n      <td>L063</td>\n      <td>32021R0234</td>\n      <td>2021-02-23</td>\n      <td>https://eur-lex.europa.eu/legal-content/ES/TXT...</td>\n      <td>Reglamento Delegado (UE) 2021/234 de la Comisi...</td>\n      <td>https://eur-lex.europa.eu/legal-content/ES/AUT...</td>\n      <td>[Decisión de Ejecución (UE) 2019/2151]</td>\n      <td></td>\n    </tr>\n    <tr>\n      <th>11</th>\n      <td>L063</td>\n      <td>32021R0235</td>\n      <td>2021-02-23</td>\n      <td>https://eur-lex.europa.eu/legal-content/ES/TXT...</td>\n      <td>Reglamento de Ejecución (UE) 2021/235 de la Co...</td>\n      <td>https://eur-lex.europa.eu/legal-content/ES/AUT...</td>\n      <td>[Decisión de Ejecución (UE) 2019/2151]</td>\n      <td></td>\n    </tr>\n  </tbody>\n</table>\n</div>"
     },
     "metadata": {},
     "execution_count": 203
    }
   ],
   "source": [
    "### Ordena Columnas\n",
    "DOUE_sumarios = DOUE_sumarios[['Seccion', 'Item_Doc_Name', 'Fecha_publicacion', 'PDF_Link', 'Item_Title', 'Item_Link', 'Tags', 'Match_ASECORP_BBDD']]\n",
    "DOUE_sumarios"
   ]
  },
  {
   "cell_type": "code",
   "execution_count": 204,
   "metadata": {},
   "outputs": [],
   "source": [
    "### Crea lista plana de Tags sin duplicados\n",
    "DOUE_flat_list = list(set([item for row in DOUE_sumarios['Tags'] for item in row ]))"
   ]
  },
  {
   "cell_type": "code",
   "execution_count": 205,
   "metadata": {},
   "outputs": [
    {
     "output_type": "stream",
     "name": "stdout",
     "text": [
      "['Reglamento (UE) 2018/848', 'Reglamento (UE) 2017/1485', 'Reglamento (UE) 2019/943', 'Reglamento (UE) 2017/1939', 'Decisión de Ejecución (UE) 2019/2151', 'Reglamento (UE) 2019/1021', 'Reglamento (UE) 2016/1719', 'Reglamento (UE) 2017/2195', 'Reglamento (UE) 2019/942', 'Reglamento (UE) 2017/625', 'Reglamento (UE) 2015/1222']\n"
     ]
    }
   ],
   "source": [
    "print (DOUE_flat_list)"
   ]
  },
  {
   "cell_type": "code",
   "execution_count": 206,
   "metadata": {},
   "outputs": [
    {
     "output_type": "execute_result",
     "data": {
      "text/plain": [
       "[]"
      ]
     },
     "metadata": {},
     "execution_count": 206
    }
   ],
   "source": [
    "## Busca coincidencias entre lista boletines BOEs explorados y lista boletines de BBDD ASECORP\n",
    "list(set(DOUE_flat_list) & set(boletin_ASECORP_flat_list))"
   ]
  },
  {
   "cell_type": "code",
   "execution_count": 207,
   "metadata": {},
   "outputs": [],
   "source": [
    "for i, row_to_compare in DOUE_sumarios.iterrows():\n",
    "    for j, row_comparing in ASECORP_BBDD_BOE.iterrows():\n",
    "        if set(row_to_compare['Tags']) & set(row_comparing['Tags']):\n",
    "            DOUE_sumarios['Match_ASECORP_BBDD'][i].append (ASECORP_BBDD_BOE['Codigo'][j])\n",
    "            print(str(set(row_to_compare['Tags']) & set(row_comparing['Tags'])) + ' ' + str(row_comparing['Codigo']))"
   ]
  },
  {
   "cell_type": "code",
   "execution_count": 208,
   "metadata": {},
   "outputs": [
    {
     "output_type": "execute_result",
     "data": {
      "text/plain": [
       "   Seccion Item_Doc_Name Fecha_publicacion  \\\n",
       "0     L062    32021R0277        2021-02-23   \n",
       "1     L062    32021R0278        2021-02-23   \n",
       "2     L062    32021R0279        2021-02-23   \n",
       "3     L062    32021R0280        2021-02-23   \n",
       "4     L062    32021D0281        2021-02-23   \n",
       "5     L062    32021D0282        2021-02-23   \n",
       "6     L062    32021D0283        2021-02-23   \n",
       "7     L062    32021D0284        2021-02-23   \n",
       "8     L062    32021D0285        2021-02-23   \n",
       "9     L062    32021D0286        2021-02-23   \n",
       "10    L063    32021R0234        2021-02-23   \n",
       "11    L063    32021R0235        2021-02-23   \n",
       "\n",
       "                                             PDF_Link  \\\n",
       "0   https://eur-lex.europa.eu/legal-content/ES/TXT...   \n",
       "1   https://eur-lex.europa.eu/legal-content/ES/TXT...   \n",
       "2   https://eur-lex.europa.eu/legal-content/ES/TXT...   \n",
       "3   https://eur-lex.europa.eu/legal-content/ES/TXT...   \n",
       "4   https://eur-lex.europa.eu/legal-content/ES/TXT...   \n",
       "5   https://eur-lex.europa.eu/legal-content/ES/TXT...   \n",
       "6   https://eur-lex.europa.eu/legal-content/ES/TXT...   \n",
       "7   https://eur-lex.europa.eu/legal-content/ES/TXT...   \n",
       "8   https://eur-lex.europa.eu/legal-content/ES/TXT...   \n",
       "9   https://eur-lex.europa.eu/legal-content/ES/TXT...   \n",
       "10  https://eur-lex.europa.eu/legal-content/ES/TXT...   \n",
       "11  https://eur-lex.europa.eu/legal-content/ES/TXT...   \n",
       "\n",
       "                                           Item_Title  \\\n",
       "0   Reglamento Delegado (UE) 2021/277 de la Comisi...   \n",
       "1   Reglamento de Ejecución (UE) 2021/278 de la Co...   \n",
       "2   Reglamento de Ejecución (UE) 2021/279 de la Co...   \n",
       "3   Reglamento de Ejecución (UE) 2021/280 de la Co...   \n",
       "4   Decisión (Euratom) 2021/281 del Consejo, de 22...   \n",
       "5   Decisión (PESC) 2021/282 del Consejo, de 22 de...   \n",
       "6   Decisión (PESC) 2021/283 del Consejo, de 22 de...   \n",
       "7   Decisión (PESC) 2021/284 del Consejo, de 22 de...   \n",
       "8   Decisión (PESC) 2021/285 del Consejo, de 22 de...   \n",
       "9   Decisión (PESC) 2021/286 del Consejo, de 22 de...   \n",
       "10  Reglamento Delegado (UE) 2021/234 de la Comisi...   \n",
       "11  Reglamento de Ejecución (UE) 2021/235 de la Co...   \n",
       "\n",
       "                                            Item_Link  \\\n",
       "0   https://eur-lex.europa.eu/legal-content/ES/AUT...   \n",
       "1   https://eur-lex.europa.eu/legal-content/ES/AUT...   \n",
       "2   https://eur-lex.europa.eu/legal-content/ES/AUT...   \n",
       "3   https://eur-lex.europa.eu/legal-content/ES/AUT...   \n",
       "4   https://eur-lex.europa.eu/legal-content/ES/AUT...   \n",
       "5   https://eur-lex.europa.eu/legal-content/ES/AUT...   \n",
       "6   https://eur-lex.europa.eu/legal-content/ES/AUT...   \n",
       "7   https://eur-lex.europa.eu/legal-content/ES/AUT...   \n",
       "8   https://eur-lex.europa.eu/legal-content/ES/AUT...   \n",
       "9   https://eur-lex.europa.eu/legal-content/ES/AUT...   \n",
       "10  https://eur-lex.europa.eu/legal-content/ES/AUT...   \n",
       "11  https://eur-lex.europa.eu/legal-content/ES/AUT...   \n",
       "\n",
       "                                                 Tags Match_ASECORP_BBDD  \n",
       "0                         [Reglamento (UE) 2019/1021]                     \n",
       "1                                                  []                     \n",
       "2   [Reglamento (UE) 2017/625, Reglamento (UE) 201...                     \n",
       "3   [Reglamento (UE) 2017/1485, Reglamento (UE) 20...                     \n",
       "4                         [Reglamento (UE) 2017/1939]                     \n",
       "5                                                  []                     \n",
       "6                                                  []                     \n",
       "7                                                  []                     \n",
       "8                                                  []                     \n",
       "9                                                  []                     \n",
       "10             [Decisión de Ejecución (UE) 2019/2151]                     \n",
       "11             [Decisión de Ejecución (UE) 2019/2151]                     "
      ],
      "text/html": "<div>\n<style scoped>\n    .dataframe tbody tr th:only-of-type {\n        vertical-align: middle;\n    }\n\n    .dataframe tbody tr th {\n        vertical-align: top;\n    }\n\n    .dataframe thead th {\n        text-align: right;\n    }\n</style>\n<table border=\"1\" class=\"dataframe\">\n  <thead>\n    <tr style=\"text-align: right;\">\n      <th></th>\n      <th>Seccion</th>\n      <th>Item_Doc_Name</th>\n      <th>Fecha_publicacion</th>\n      <th>PDF_Link</th>\n      <th>Item_Title</th>\n      <th>Item_Link</th>\n      <th>Tags</th>\n      <th>Match_ASECORP_BBDD</th>\n    </tr>\n  </thead>\n  <tbody>\n    <tr>\n      <th>0</th>\n      <td>L062</td>\n      <td>32021R0277</td>\n      <td>2021-02-23</td>\n      <td>https://eur-lex.europa.eu/legal-content/ES/TXT...</td>\n      <td>Reglamento Delegado (UE) 2021/277 de la Comisi...</td>\n      <td>https://eur-lex.europa.eu/legal-content/ES/AUT...</td>\n      <td>[Reglamento (UE) 2019/1021]</td>\n      <td></td>\n    </tr>\n    <tr>\n      <th>1</th>\n      <td>L062</td>\n      <td>32021R0278</td>\n      <td>2021-02-23</td>\n      <td>https://eur-lex.europa.eu/legal-content/ES/TXT...</td>\n      <td>Reglamento de Ejecución (UE) 2021/278 de la Co...</td>\n      <td>https://eur-lex.europa.eu/legal-content/ES/AUT...</td>\n      <td>[]</td>\n      <td></td>\n    </tr>\n    <tr>\n      <th>2</th>\n      <td>L062</td>\n      <td>32021R0279</td>\n      <td>2021-02-23</td>\n      <td>https://eur-lex.europa.eu/legal-content/ES/TXT...</td>\n      <td>Reglamento de Ejecución (UE) 2021/279 de la Co...</td>\n      <td>https://eur-lex.europa.eu/legal-content/ES/AUT...</td>\n      <td>[Reglamento (UE) 2017/625, Reglamento (UE) 201...</td>\n      <td></td>\n    </tr>\n    <tr>\n      <th>3</th>\n      <td>L062</td>\n      <td>32021R0280</td>\n      <td>2021-02-23</td>\n      <td>https://eur-lex.europa.eu/legal-content/ES/TXT...</td>\n      <td>Reglamento de Ejecución (UE) 2021/280 de la Co...</td>\n      <td>https://eur-lex.europa.eu/legal-content/ES/AUT...</td>\n      <td>[Reglamento (UE) 2017/1485, Reglamento (UE) 20...</td>\n      <td></td>\n    </tr>\n    <tr>\n      <th>4</th>\n      <td>L062</td>\n      <td>32021D0281</td>\n      <td>2021-02-23</td>\n      <td>https://eur-lex.europa.eu/legal-content/ES/TXT...</td>\n      <td>Decisión (Euratom) 2021/281 del Consejo, de 22...</td>\n      <td>https://eur-lex.europa.eu/legal-content/ES/AUT...</td>\n      <td>[Reglamento (UE) 2017/1939]</td>\n      <td></td>\n    </tr>\n    <tr>\n      <th>5</th>\n      <td>L062</td>\n      <td>32021D0282</td>\n      <td>2021-02-23</td>\n      <td>https://eur-lex.europa.eu/legal-content/ES/TXT...</td>\n      <td>Decisión (PESC) 2021/282 del Consejo, de 22 de...</td>\n      <td>https://eur-lex.europa.eu/legal-content/ES/AUT...</td>\n      <td>[]</td>\n      <td></td>\n    </tr>\n    <tr>\n      <th>6</th>\n      <td>L062</td>\n      <td>32021D0283</td>\n      <td>2021-02-23</td>\n      <td>https://eur-lex.europa.eu/legal-content/ES/TXT...</td>\n      <td>Decisión (PESC) 2021/283 del Consejo, de 22 de...</td>\n      <td>https://eur-lex.europa.eu/legal-content/ES/AUT...</td>\n      <td>[]</td>\n      <td></td>\n    </tr>\n    <tr>\n      <th>7</th>\n      <td>L062</td>\n      <td>32021D0284</td>\n      <td>2021-02-23</td>\n      <td>https://eur-lex.europa.eu/legal-content/ES/TXT...</td>\n      <td>Decisión (PESC) 2021/284 del Consejo, de 22 de...</td>\n      <td>https://eur-lex.europa.eu/legal-content/ES/AUT...</td>\n      <td>[]</td>\n      <td></td>\n    </tr>\n    <tr>\n      <th>8</th>\n      <td>L062</td>\n      <td>32021D0285</td>\n      <td>2021-02-23</td>\n      <td>https://eur-lex.europa.eu/legal-content/ES/TXT...</td>\n      <td>Decisión (PESC) 2021/285 del Consejo, de 22 de...</td>\n      <td>https://eur-lex.europa.eu/legal-content/ES/AUT...</td>\n      <td>[]</td>\n      <td></td>\n    </tr>\n    <tr>\n      <th>9</th>\n      <td>L062</td>\n      <td>32021D0286</td>\n      <td>2021-02-23</td>\n      <td>https://eur-lex.europa.eu/legal-content/ES/TXT...</td>\n      <td>Decisión (PESC) 2021/286 del Consejo, de 22 de...</td>\n      <td>https://eur-lex.europa.eu/legal-content/ES/AUT...</td>\n      <td>[]</td>\n      <td></td>\n    </tr>\n    <tr>\n      <th>10</th>\n      <td>L063</td>\n      <td>32021R0234</td>\n      <td>2021-02-23</td>\n      <td>https://eur-lex.europa.eu/legal-content/ES/TXT...</td>\n      <td>Reglamento Delegado (UE) 2021/234 de la Comisi...</td>\n      <td>https://eur-lex.europa.eu/legal-content/ES/AUT...</td>\n      <td>[Decisión de Ejecución (UE) 2019/2151]</td>\n      <td></td>\n    </tr>\n    <tr>\n      <th>11</th>\n      <td>L063</td>\n      <td>32021R0235</td>\n      <td>2021-02-23</td>\n      <td>https://eur-lex.europa.eu/legal-content/ES/TXT...</td>\n      <td>Reglamento de Ejecución (UE) 2021/235 de la Co...</td>\n      <td>https://eur-lex.europa.eu/legal-content/ES/AUT...</td>\n      <td>[Decisión de Ejecución (UE) 2019/2151]</td>\n      <td></td>\n    </tr>\n  </tbody>\n</table>\n</div>"
     },
     "metadata": {},
     "execution_count": 208
    }
   ],
   "source": [
    "DOUE_sumarios"
   ]
  },
  {
   "cell_type": "code",
   "execution_count": 209,
   "metadata": {},
   "outputs": [],
   "source": [
    "## Aplica función de conversión de listas a strings\n",
    "DOUE_sumarios = DOUE_sumarios.apply(lambda x: [list2Str(i) for i in x])"
   ]
  },
  {
   "cell_type": "code",
   "execution_count": 210,
   "metadata": {},
   "outputs": [],
   "source": [
    "DOUE_sumarios_CSV = pd.DataFrame()\n",
    "DOUE_sumarios_CSV = DOUE_sumarios"
   ]
  },
  {
   "cell_type": "code",
   "execution_count": 211,
   "metadata": {},
   "outputs": [],
   "source": [
    "# Compone y genera enlace a PDF del DOUE correspondiente\n",
    "DOUE_sumarios_CSV['PDF_Link'] = '=HIPERVINCULO(' + '\"' + DOUE_sumarios['PDF_Link'] + '\";' + '\"' + \"Doc: \" + DOUE_sumarios['Item_Doc_Name'] + '\")'"
   ]
  },
  {
   "cell_type": "code",
   "execution_count": 212,
   "metadata": {},
   "outputs": [
    {
     "output_type": "execute_result",
     "data": {
      "text/plain": [
       "   Seccion Item_Doc_Name Fecha_publicacion  \\\n",
       "0     L062    32021R0277        2021-02-23   \n",
       "1     L062    32021R0278        2021-02-23   \n",
       "2     L062    32021R0279        2021-02-23   \n",
       "3     L062    32021R0280        2021-02-23   \n",
       "4     L062    32021D0281        2021-02-23   \n",
       "5     L062    32021D0282        2021-02-23   \n",
       "6     L062    32021D0283        2021-02-23   \n",
       "7     L062    32021D0284        2021-02-23   \n",
       "8     L062    32021D0285        2021-02-23   \n",
       "9     L062    32021D0286        2021-02-23   \n",
       "10    L063    32021R0234        2021-02-23   \n",
       "11    L063    32021R0235        2021-02-23   \n",
       "\n",
       "                                             PDF_Link  \\\n",
       "0   =HIPERVINCULO(\"https://eur-lex.europa.eu/legal...   \n",
       "1   =HIPERVINCULO(\"https://eur-lex.europa.eu/legal...   \n",
       "2   =HIPERVINCULO(\"https://eur-lex.europa.eu/legal...   \n",
       "3   =HIPERVINCULO(\"https://eur-lex.europa.eu/legal...   \n",
       "4   =HIPERVINCULO(\"https://eur-lex.europa.eu/legal...   \n",
       "5   =HIPERVINCULO(\"https://eur-lex.europa.eu/legal...   \n",
       "6   =HIPERVINCULO(\"https://eur-lex.europa.eu/legal...   \n",
       "7   =HIPERVINCULO(\"https://eur-lex.europa.eu/legal...   \n",
       "8   =HIPERVINCULO(\"https://eur-lex.europa.eu/legal...   \n",
       "9   =HIPERVINCULO(\"https://eur-lex.europa.eu/legal...   \n",
       "10  =HIPERVINCULO(\"https://eur-lex.europa.eu/legal...   \n",
       "11  =HIPERVINCULO(\"https://eur-lex.europa.eu/legal...   \n",
       "\n",
       "                                           Item_Title  \\\n",
       "0   Reglamento Delegado (UE) 2021/277 de la Comisi...   \n",
       "1   Reglamento de Ejecución (UE) 2021/278 de la Co...   \n",
       "2   Reglamento de Ejecución (UE) 2021/279 de la Co...   \n",
       "3   Reglamento de Ejecución (UE) 2021/280 de la Co...   \n",
       "4   Decisión (Euratom) 2021/281 del Consejo, de 22...   \n",
       "5   Decisión (PESC) 2021/282 del Consejo, de 22 de...   \n",
       "6   Decisión (PESC) 2021/283 del Consejo, de 22 de...   \n",
       "7   Decisión (PESC) 2021/284 del Consejo, de 22 de...   \n",
       "8   Decisión (PESC) 2021/285 del Consejo, de 22 de...   \n",
       "9   Decisión (PESC) 2021/286 del Consejo, de 22 de...   \n",
       "10  Reglamento Delegado (UE) 2021/234 de la Comisi...   \n",
       "11  Reglamento de Ejecución (UE) 2021/235 de la Co...   \n",
       "\n",
       "                                            Item_Link  \\\n",
       "0   https://eur-lex.europa.eu/legal-content/ES/AUT...   \n",
       "1   https://eur-lex.europa.eu/legal-content/ES/AUT...   \n",
       "2   https://eur-lex.europa.eu/legal-content/ES/AUT...   \n",
       "3   https://eur-lex.europa.eu/legal-content/ES/AUT...   \n",
       "4   https://eur-lex.europa.eu/legal-content/ES/AUT...   \n",
       "5   https://eur-lex.europa.eu/legal-content/ES/AUT...   \n",
       "6   https://eur-lex.europa.eu/legal-content/ES/AUT...   \n",
       "7   https://eur-lex.europa.eu/legal-content/ES/AUT...   \n",
       "8   https://eur-lex.europa.eu/legal-content/ES/AUT...   \n",
       "9   https://eur-lex.europa.eu/legal-content/ES/AUT...   \n",
       "10  https://eur-lex.europa.eu/legal-content/ES/AUT...   \n",
       "11  https://eur-lex.europa.eu/legal-content/ES/AUT...   \n",
       "\n",
       "                                                 Tags Match_ASECORP_BBDD  \n",
       "0                           Reglamento (UE) 2019/1021                     \n",
       "1                                                                         \n",
       "2   Reglamento (UE) 2017/625, Reglamento (UE) 2018...                     \n",
       "3   Reglamento (UE) 2017/1485, Reglamento (UE) 201...                     \n",
       "4                           Reglamento (UE) 2017/1939                     \n",
       "5                                                                         \n",
       "6                                                                         \n",
       "7                                                                         \n",
       "8                                                                         \n",
       "9                                                                         \n",
       "10               Decisión de Ejecución (UE) 2019/2151                     \n",
       "11               Decisión de Ejecución (UE) 2019/2151                     "
      ],
      "text/html": "<div>\n<style scoped>\n    .dataframe tbody tr th:only-of-type {\n        vertical-align: middle;\n    }\n\n    .dataframe tbody tr th {\n        vertical-align: top;\n    }\n\n    .dataframe thead th {\n        text-align: right;\n    }\n</style>\n<table border=\"1\" class=\"dataframe\">\n  <thead>\n    <tr style=\"text-align: right;\">\n      <th></th>\n      <th>Seccion</th>\n      <th>Item_Doc_Name</th>\n      <th>Fecha_publicacion</th>\n      <th>PDF_Link</th>\n      <th>Item_Title</th>\n      <th>Item_Link</th>\n      <th>Tags</th>\n      <th>Match_ASECORP_BBDD</th>\n    </tr>\n  </thead>\n  <tbody>\n    <tr>\n      <th>0</th>\n      <td>L062</td>\n      <td>32021R0277</td>\n      <td>2021-02-23</td>\n      <td>=HIPERVINCULO(\"https://eur-lex.europa.eu/legal...</td>\n      <td>Reglamento Delegado (UE) 2021/277 de la Comisi...</td>\n      <td>https://eur-lex.europa.eu/legal-content/ES/AUT...</td>\n      <td>Reglamento (UE) 2019/1021</td>\n      <td></td>\n    </tr>\n    <tr>\n      <th>1</th>\n      <td>L062</td>\n      <td>32021R0278</td>\n      <td>2021-02-23</td>\n      <td>=HIPERVINCULO(\"https://eur-lex.europa.eu/legal...</td>\n      <td>Reglamento de Ejecución (UE) 2021/278 de la Co...</td>\n      <td>https://eur-lex.europa.eu/legal-content/ES/AUT...</td>\n      <td></td>\n      <td></td>\n    </tr>\n    <tr>\n      <th>2</th>\n      <td>L062</td>\n      <td>32021R0279</td>\n      <td>2021-02-23</td>\n      <td>=HIPERVINCULO(\"https://eur-lex.europa.eu/legal...</td>\n      <td>Reglamento de Ejecución (UE) 2021/279 de la Co...</td>\n      <td>https://eur-lex.europa.eu/legal-content/ES/AUT...</td>\n      <td>Reglamento (UE) 2017/625, Reglamento (UE) 2018...</td>\n      <td></td>\n    </tr>\n    <tr>\n      <th>3</th>\n      <td>L062</td>\n      <td>32021R0280</td>\n      <td>2021-02-23</td>\n      <td>=HIPERVINCULO(\"https://eur-lex.europa.eu/legal...</td>\n      <td>Reglamento de Ejecución (UE) 2021/280 de la Co...</td>\n      <td>https://eur-lex.europa.eu/legal-content/ES/AUT...</td>\n      <td>Reglamento (UE) 2017/1485, Reglamento (UE) 201...</td>\n      <td></td>\n    </tr>\n    <tr>\n      <th>4</th>\n      <td>L062</td>\n      <td>32021D0281</td>\n      <td>2021-02-23</td>\n      <td>=HIPERVINCULO(\"https://eur-lex.europa.eu/legal...</td>\n      <td>Decisión (Euratom) 2021/281 del Consejo, de 22...</td>\n      <td>https://eur-lex.europa.eu/legal-content/ES/AUT...</td>\n      <td>Reglamento (UE) 2017/1939</td>\n      <td></td>\n    </tr>\n    <tr>\n      <th>5</th>\n      <td>L062</td>\n      <td>32021D0282</td>\n      <td>2021-02-23</td>\n      <td>=HIPERVINCULO(\"https://eur-lex.europa.eu/legal...</td>\n      <td>Decisión (PESC) 2021/282 del Consejo, de 22 de...</td>\n      <td>https://eur-lex.europa.eu/legal-content/ES/AUT...</td>\n      <td></td>\n      <td></td>\n    </tr>\n    <tr>\n      <th>6</th>\n      <td>L062</td>\n      <td>32021D0283</td>\n      <td>2021-02-23</td>\n      <td>=HIPERVINCULO(\"https://eur-lex.europa.eu/legal...</td>\n      <td>Decisión (PESC) 2021/283 del Consejo, de 22 de...</td>\n      <td>https://eur-lex.europa.eu/legal-content/ES/AUT...</td>\n      <td></td>\n      <td></td>\n    </tr>\n    <tr>\n      <th>7</th>\n      <td>L062</td>\n      <td>32021D0284</td>\n      <td>2021-02-23</td>\n      <td>=HIPERVINCULO(\"https://eur-lex.europa.eu/legal...</td>\n      <td>Decisión (PESC) 2021/284 del Consejo, de 22 de...</td>\n      <td>https://eur-lex.europa.eu/legal-content/ES/AUT...</td>\n      <td></td>\n      <td></td>\n    </tr>\n    <tr>\n      <th>8</th>\n      <td>L062</td>\n      <td>32021D0285</td>\n      <td>2021-02-23</td>\n      <td>=HIPERVINCULO(\"https://eur-lex.europa.eu/legal...</td>\n      <td>Decisión (PESC) 2021/285 del Consejo, de 22 de...</td>\n      <td>https://eur-lex.europa.eu/legal-content/ES/AUT...</td>\n      <td></td>\n      <td></td>\n    </tr>\n    <tr>\n      <th>9</th>\n      <td>L062</td>\n      <td>32021D0286</td>\n      <td>2021-02-23</td>\n      <td>=HIPERVINCULO(\"https://eur-lex.europa.eu/legal...</td>\n      <td>Decisión (PESC) 2021/286 del Consejo, de 22 de...</td>\n      <td>https://eur-lex.europa.eu/legal-content/ES/AUT...</td>\n      <td></td>\n      <td></td>\n    </tr>\n    <tr>\n      <th>10</th>\n      <td>L063</td>\n      <td>32021R0234</td>\n      <td>2021-02-23</td>\n      <td>=HIPERVINCULO(\"https://eur-lex.europa.eu/legal...</td>\n      <td>Reglamento Delegado (UE) 2021/234 de la Comisi...</td>\n      <td>https://eur-lex.europa.eu/legal-content/ES/AUT...</td>\n      <td>Decisión de Ejecución (UE) 2019/2151</td>\n      <td></td>\n    </tr>\n    <tr>\n      <th>11</th>\n      <td>L063</td>\n      <td>32021R0235</td>\n      <td>2021-02-23</td>\n      <td>=HIPERVINCULO(\"https://eur-lex.europa.eu/legal...</td>\n      <td>Reglamento de Ejecución (UE) 2021/235 de la Co...</td>\n      <td>https://eur-lex.europa.eu/legal-content/ES/AUT...</td>\n      <td>Decisión de Ejecución (UE) 2019/2151</td>\n      <td></td>\n    </tr>\n  </tbody>\n</table>\n</div>"
     },
     "metadata": {},
     "execution_count": 212
    }
   ],
   "source": [
    "DOUE_sumarios_CSV"
   ]
  },
  {
   "cell_type": "code",
   "execution_count": 213,
   "metadata": {},
   "outputs": [
    {
     "output_type": "execute_result",
     "data": {
      "text/plain": [
       "'=HIPERVINCULO(\"https://eur-lex.europa.eu/legal-content/ES/TXT/PDF/?uri=CELEX:32021R0278&from=ES\";\"Doc: 32021R0278\")'"
      ]
     },
     "metadata": {},
     "execution_count": 213
    }
   ],
   "source": [
    "DOUE_sumarios_CSV['PDF_Link'][1]"
   ]
  },
  {
   "cell_type": "code",
   "execution_count": 214,
   "metadata": {},
   "outputs": [],
   "source": [
    "### Genera fichero CSV\n",
    "\n",
    "DOUE_sumarios_CSV.to_csv(\"./ASECORP/Resultados_Matching_DOUE_\" + today.strftime(\"%Y%m%d\") + \".csv\", index=False) "
   ]
  },
  {
   "cell_type": "code",
   "execution_count": null,
   "metadata": {},
   "outputs": [],
   "source": []
  }
 ]
}